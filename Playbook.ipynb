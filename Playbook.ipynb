{
 "cells": [
  {
   "cell_type": "markdown",
   "id": "ee388d82",
   "metadata": {},
   "source": [
    "### Imports"
   ]
  },
  {
   "cell_type": "code",
   "execution_count": 14,
   "id": "c54708cf",
   "metadata": {},
   "outputs": [],
   "source": [
    "%run utils.ipynb\n",
    "%run SDNE+.ipynb\n",
    "%run LINE+.ipynb"
   ]
  },
  {
   "cell_type": "markdown",
   "id": "dbcd155a",
   "metadata": {},
   "source": [
    "### Read In Graph"
   ]
  },
  {
   "cell_type": "code",
   "execution_count": 4,
   "id": "d0d05006",
   "metadata": {},
   "outputs": [
    {
     "name": "stdout",
     "output_type": "stream",
     "text": [
      "Calculating Personalized Page Rank...                     \r"
     ]
    },
    {
     "name": "stderr",
     "output_type": "stream",
     "text": [
      "986it [00:04, 226.11it/s]\n"
     ]
    },
    {
     "name": "stdout",
     "output_type": "stream",
     "text": [
      "Done                                                      \r"
     ]
    },
    {
     "name": "stderr",
     "output_type": "stream",
     "text": [
      "/Users/shafi.z/opt/anaconda3/envs/gpu/lib/python3.8/site-packages/networkx/algorithms/centrality/katz.py:325: FutureWarning: adjacency_matrix will return a scipy.sparse array instead of a matrix in Networkx 3.0.\n",
      "  A = nx.adjacency_matrix(G, nodelist=nodelist, weight=weight).todense().T\n"
     ]
    }
   ],
   "source": [
    "with open('./email.pkl', 'rb') as file: \n",
    "    graph_dict = pkl.load(file)\n",
    "    \n",
    "graph = nx.Graph(nx.to_numpy_array(graph_dict['graph']))    \n",
    "graph = nx.Graph(nx.to_numpy_array(graph))\n",
    "\n",
    "\n",
    "sense_feat_dict, sense_features = get_sense_features(graph, ppr_flag = 'std')\n"
   ]
  },
  {
   "cell_type": "markdown",
   "id": "4ec800eb",
   "metadata": {},
   "source": [
    "### SDNE+"
   ]
  },
  {
   "cell_type": "code",
   "execution_count": 9,
   "id": "5664b615",
   "metadata": {
    "scrolled": true
   },
   "outputs": [
    {
     "name": "stdout",
     "output_type": "stream",
     "text": [
      "1/1 [==============================] - 0s 50ms/step\n",
      "1/1 [==============================] - 0s 14ms/step\n",
      "1/1 [==============================] - 0s 14ms/step\n",
      "1/1 [==============================] - 0s 14ms/step\n",
      "1/1 [==============================] - 0s 14ms/step\n"
     ]
    },
    {
     "name": "stderr",
     "output_type": "stream",
     "text": [
      "2022-10-07 18:19:35.869518: I tensorflow/core/grappler/optimizers/custom_graph_optimizer_registry.cc:113] Plugin optimizer for device_type GPU is enabled.\n"
     ]
    },
    {
     "name": "stdout",
     "output_type": "stream",
     "text": [
      "1/1 [==============================] - 0s 14ms/step\n",
      "1/1 [==============================] - 0s 14ms/step\n",
      "1/1 [==============================] - 0s 14ms/step\n",
      "1/1 [==============================] - 0s 14ms/step\n",
      "2/2 [==============================] - 0s 19ms/step\n",
      "batch_size(1024) > node_size(986),set batch_size = 986\n",
      "Epoch 1/200\n"
     ]
    },
    {
     "name": "stderr",
     "output_type": "stream",
     "text": [
      "2022-10-07 18:19:36.241044: I tensorflow/core/grappler/optimizers/custom_graph_optimizer_registry.cc:113] Plugin optimizer for device_type GPU is enabled.\n",
      "2022-10-07 18:19:37.238316: I tensorflow/core/grappler/optimizers/custom_graph_optimizer_registry.cc:113] Plugin optimizer for device_type GPU is enabled.\n"
     ]
    },
    {
     "name": "stdout",
     "output_type": "stream",
     "text": [
      "1/1 [==============================] - 2s 2s/step - loss: 1663.4613 - 2nd_loss: 1659.4061 - tf.clip_by_value_2_loss: 4.0234 - tf.math.reduce_sum_2_loss: 0.0000e+00 - tf.math.multiply_5_loss: 0.0000e+00\n",
      "Epoch 2/200\n",
      "1/1 [==============================] - 0s 61ms/step - loss: 1649.7037 - 2nd_loss: 1644.4740 - tf.clip_by_value_2_loss: 5.1981 - tf.math.reduce_sum_2_loss: 0.0000e+00 - tf.math.multiply_5_loss: 0.0000e+00\n",
      "Epoch 3/200\n",
      "1/1 [==============================] - 0s 65ms/step - loss: 1635.4535 - 2nd_loss: 1628.9749 - tf.clip_by_value_2_loss: 6.4470 - tf.math.reduce_sum_2_loss: 0.0000e+00 - tf.math.multiply_5_loss: 0.0000e+00\n",
      "Epoch 4/200\n",
      "1/1 [==============================] - 0s 58ms/step - loss: 1618.3320 - 2nd_loss: 1610.2017 - tf.clip_by_value_2_loss: 8.0987 - tf.math.reduce_sum_2_loss: 0.0000e+00 - tf.math.multiply_5_loss: 0.0000e+00\n",
      "Epoch 5/200\n",
      "1/1 [==============================] - 0s 56ms/step - loss: 1596.6675 - 2nd_loss: 1586.4561 - tf.clip_by_value_2_loss: 10.1797 - tf.math.reduce_sum_2_loss: 0.0000e+00 - tf.math.multiply_5_loss: 0.0000e+00\n",
      "Epoch 6/200\n",
      "1/1 [==============================] - 0s 62ms/step - loss: 1568.9248 - 2nd_loss: 1556.1152 - tf.clip_by_value_2_loss: 12.7778 - tf.math.reduce_sum_2_loss: 0.0000e+00 - tf.math.multiply_5_loss: 0.0000e+00\n",
      "Epoch 7/200\n",
      "1/1 [==============================] - 0s 64ms/step - loss: 1533.6515 - 2nd_loss: 1517.5543 - tf.clip_by_value_2_loss: 16.0653 - tf.math.reduce_sum_2_loss: 0.0000e+00 - tf.math.multiply_5_loss: 0.0000e+00\n",
      "Epoch 8/200\n",
      "1/1 [==============================] - 0s 62ms/step - loss: 1489.4589 - 2nd_loss: 1469.2008 - tf.clip_by_value_2_loss: 20.2264 - tf.math.reduce_sum_2_loss: 0.0000e+00 - tf.math.multiply_5_loss: 0.0000e+00\n",
      "Epoch 9/200\n",
      "1/1 [==============================] - 0s 57ms/step - loss: 1435.7285 - 2nd_loss: 1410.3552 - tf.clip_by_value_2_loss: 25.3414 - tf.math.reduce_sum_2_loss: 0.0000e+00 - tf.math.multiply_5_loss: 0.0000e+00\n",
      "Epoch 10/200\n",
      "1/1 [==============================] - 0s 59ms/step - loss: 1371.8132 - 2nd_loss: 1340.2181 - tf.clip_by_value_2_loss: 31.5632 - tf.math.reduce_sum_2_loss: 0.0000e+00 - tf.math.multiply_5_loss: 0.0000e+00\n",
      "Epoch 11/200\n",
      "1/1 [==============================] - 0s 60ms/step - loss: 1296.9446 - 2nd_loss: 1258.0447 - tf.clip_by_value_2_loss: 38.8679 - tf.math.reduce_sum_2_loss: 0.0000e+00 - tf.math.multiply_5_loss: 0.0000e+00\n",
      "Epoch 12/200\n",
      "1/1 [==============================] - 0s 63ms/step - loss: 1213.4998 - 2nd_loss: 1166.2229 - tf.clip_by_value_2_loss: 47.2449 - tf.math.reduce_sum_2_loss: 0.0000e+00 - tf.math.multiply_5_loss: 0.0000e+00\n",
      "Epoch 13/200\n",
      "1/1 [==============================] - 0s 64ms/step - loss: 1127.8192 - 2nd_loss: 1071.7007 - tf.clip_by_value_2_loss: 56.0865 - tf.math.reduce_sum_2_loss: 0.0000e+00 - tf.math.multiply_5_loss: 0.0000e+00\n",
      "Epoch 14/200\n",
      "1/1 [==============================] - 0s 66ms/step - loss: 1046.8350 - 2nd_loss: 982.5797 - tf.clip_by_value_2_loss: 64.2231 - tf.math.reduce_sum_2_loss: 0.0000e+00 - tf.math.multiply_5_loss: 0.0000e+00\n",
      "Epoch 15/200\n",
      "1/1 [==============================] - 0s 58ms/step - loss: 974.2803 - 2nd_loss: 904.5214 - tf.clip_by_value_2_loss: 69.7267 - tf.math.reduce_sum_2_loss: 0.0000e+00 - tf.math.multiply_5_loss: 0.0000e+00\n",
      "Epoch 16/200\n",
      "1/1 [==============================] - 0s 60ms/step - loss: 908.6513 - 2nd_loss: 836.9053 - tf.clip_by_value_2_loss: 71.7138 - tf.math.reduce_sum_2_loss: 0.0000e+00 - tf.math.multiply_5_loss: 0.0000e+00\n",
      "Epoch 17/200\n",
      "1/1 [==============================] - 0s 54ms/step - loss: 847.9270 - 2nd_loss: 776.8758 - tf.clip_by_value_2_loss: 71.0189 - tf.math.reduce_sum_2_loss: 0.0000e+00 - tf.math.multiply_5_loss: 0.0000e+00\n",
      "Epoch 18/200\n",
      "1/1 [==============================] - 0s 61ms/step - loss: 791.5298 - 2nd_loss: 722.8670 - tf.clip_by_value_2_loss: 68.6304 - tf.math.reduce_sum_2_loss: 0.0000e+00 - tf.math.multiply_5_loss: 0.0000e+00\n",
      "Epoch 19/200\n",
      "1/1 [==============================] - 0s 56ms/step - loss: 739.3964 - 2nd_loss: 674.4146 - tf.clip_by_value_2_loss: 64.9494 - tf.math.reduce_sum_2_loss: 0.0000e+00 - tf.math.multiply_5_loss: 0.0000e+00\n",
      "Epoch 20/200\n",
      "1/1 [==============================] - 0s 60ms/step - loss: 691.6784 - 2nd_loss: 630.2518 - tf.clip_by_value_2_loss: 61.3942 - tf.math.reduce_sum_2_loss: 0.0000e+00 - tf.math.multiply_5_loss: 0.0000e+00\n",
      "Epoch 21/200\n",
      "1/1 [==============================] - 0s 59ms/step - loss: 648.3441 - 2nd_loss: 590.9366 - tf.clip_by_value_2_loss: 57.3749 - tf.math.reduce_sum_2_loss: 0.0000e+00 - tf.math.multiply_5_loss: 0.0000e+00\n",
      "Epoch 22/200\n",
      "1/1 [==============================] - 0s 56ms/step - loss: 609.2368 - 2nd_loss: 555.4872 - tf.clip_by_value_2_loss: 53.7170 - tf.math.reduce_sum_2_loss: 0.0000e+00 - tf.math.multiply_5_loss: 0.0000e+00\n",
      "Epoch 23/200\n",
      "1/1 [==============================] - 0s 59ms/step - loss: 573.3215 - 2nd_loss: 523.2144 - tf.clip_by_value_2_loss: 50.0745 - tf.math.reduce_sum_2_loss: 0.0000e+00 - tf.math.multiply_5_loss: 0.0000e+00\n",
      "Epoch 24/200\n",
      "1/1 [==============================] - 0s 57ms/step - loss: 540.7256 - 2nd_loss: 494.0601 - tf.clip_by_value_2_loss: 46.6327 - tf.math.reduce_sum_2_loss: 0.0000e+00 - tf.math.multiply_5_loss: 0.0000e+00\n",
      "Epoch 25/200\n",
      "1/1 [==============================] - 0s 55ms/step - loss: 511.5162 - 2nd_loss: 468.2627 - tf.clip_by_value_2_loss: 43.2207 - tf.math.reduce_sum_2_loss: 0.0000e+00 - tf.math.multiply_5_loss: 0.0000e+00\n",
      "Epoch 26/200\n",
      "1/1 [==============================] - 0s 53ms/step - loss: 485.2184 - 2nd_loss: 444.9024 - tf.clip_by_value_2_loss: 40.2831 - tf.math.reduce_sum_2_loss: 0.0000e+00 - tf.math.multiply_5_loss: 0.0000e+00\n",
      "Epoch 27/200\n",
      "1/1 [==============================] - 0s 52ms/step - loss: 461.5098 - 2nd_loss: 424.2497 - tf.clip_by_value_2_loss: 37.2271 - tf.math.reduce_sum_2_loss: 0.0000e+00 - tf.math.multiply_5_loss: 0.0000e+00\n",
      "Epoch 28/200\n",
      "1/1 [==============================] - 0s 55ms/step - loss: 440.3234 - 2nd_loss: 405.4769 - tf.clip_by_value_2_loss: 34.8135 - tf.math.reduce_sum_2_loss: 0.0000e+00 - tf.math.multiply_5_loss: 0.0000e+00\n",
      "Epoch 29/200\n",
      "1/1 [==============================] - 0s 55ms/step - loss: 421.1104 - 2nd_loss: 388.7133 - tf.clip_by_value_2_loss: 32.3640 - tf.math.reduce_sum_2_loss: 0.0000e+00 - tf.math.multiply_5_loss: 0.0000e+00\n",
      "Epoch 30/200\n",
      "1/1 [==============================] - 0s 57ms/step - loss: 403.7420 - 2nd_loss: 373.5103 - tf.clip_by_value_2_loss: 30.1984 - tf.math.reduce_sum_2_loss: 0.0000e+00 - tf.math.multiply_5_loss: 0.0000e+00\n",
      "Epoch 31/200\n",
      "1/1 [==============================] - 0s 53ms/step - loss: 388.0198 - 2nd_loss: 359.7227 - tf.clip_by_value_2_loss: 28.2637 - tf.math.reduce_sum_2_loss: 0.0000e+00 - tf.math.multiply_5_loss: 0.0000e+00\n",
      "Epoch 32/200\n",
      "1/1 [==============================] - 0s 57ms/step - loss: 373.7849 - 2nd_loss: 347.2588 - tf.clip_by_value_2_loss: 26.4927 - tf.math.reduce_sum_2_loss: 0.0000e+00 - tf.math.multiply_5_loss: 0.0000e+00\n",
      "Epoch 33/200\n",
      "1/1 [==============================] - 0s 54ms/step - loss: 360.6306 - 2nd_loss: 335.7164 - tf.clip_by_value_2_loss: 24.8808 - tf.math.reduce_sum_2_loss: 0.0000e+00 - tf.math.multiply_5_loss: 0.0000e+00\n",
      "Epoch 34/200\n",
      "1/1 [==============================] - 0s 55ms/step - loss: 348.5025 - 2nd_loss: 325.0704 - tf.clip_by_value_2_loss: 23.3986 - tf.math.reduce_sum_2_loss: 0.0000e+00 - tf.math.multiply_5_loss: 0.0000e+00\n",
      "Epoch 35/200\n",
      "1/1 [==============================] - 0s 61ms/step - loss: 337.5074 - 2nd_loss: 315.4787 - tf.clip_by_value_2_loss: 21.9951 - tf.math.reduce_sum_2_loss: 0.0000e+00 - tf.math.multiply_5_loss: 0.0000e+00\n",
      "Epoch 36/200\n",
      "1/1 [==============================] - 0s 55ms/step - loss: 327.6291 - 2nd_loss: 306.8251 - tf.clip_by_value_2_loss: 20.7703 - tf.math.reduce_sum_2_loss: 0.0000e+00 - tf.math.multiply_5_loss: 0.0000e+00\n",
      "Epoch 37/200\n",
      "1/1 [==============================] - 0s 55ms/step - loss: 318.5041 - 2nd_loss: 298.8259 - tf.clip_by_value_2_loss: 19.6444 - tf.math.reduce_sum_2_loss: 0.0000e+00 - tf.math.multiply_5_loss: 0.0000e+00\n",
      "Epoch 38/200\n",
      "1/1 [==============================] - 0s 53ms/step - loss: 309.5932 - 2nd_loss: 291.0077 - tf.clip_by_value_2_loss: 18.5517 - tf.math.reduce_sum_2_loss: 0.0000e+00 - tf.math.multiply_5_loss: 0.0000e+00\n",
      "Epoch 39/200\n",
      "1/1 [==============================] - 0s 59ms/step - loss: 301.3010 - 2nd_loss: 283.5463 - tf.clip_by_value_2_loss: 17.7208 - tf.math.reduce_sum_2_loss: 0.0000e+00 - tf.math.multiply_5_loss: 0.0000e+00\n",
      "Epoch 40/200\n",
      "1/1 [==============================] - 0s 58ms/step - loss: 294.0230 - 2nd_loss: 277.3929 - tf.clip_by_value_2_loss: 16.5962 - tf.math.reduce_sum_2_loss: 0.0000e+00 - tf.math.multiply_5_loss: 0.0000e+00\n",
      "Epoch 41/200\n",
      "1/1 [==============================] - 0s 54ms/step - loss: 288.2482 - 2nd_loss: 271.8604 - tf.clip_by_value_2_loss: 16.3538 - tf.math.reduce_sum_2_loss: 0.0000e+00 - tf.math.multiply_5_loss: 0.0000e+00\n",
      "Epoch 42/200\n",
      "1/1 [==============================] - 0s 58ms/step - loss: 285.7915 - 2nd_loss: 271.3310 - tf.clip_by_value_2_loss: 14.4264 - tf.math.reduce_sum_2_loss: 0.0000e+00 - tf.math.multiply_5_loss: 0.0000e+00\n",
      "Epoch 43/200\n",
      "1/1 [==============================] - 0s 57ms/step - loss: 286.4187 - 2nd_loss: 270.4744 - tf.clip_by_value_2_loss: 15.9102 - tf.math.reduce_sum_2_loss: 0.0000e+00 - tf.math.multiply_5_loss: 0.0000e+00\n",
      "Epoch 44/200\n",
      "1/1 [==============================] - 0s 53ms/step - loss: 292.4351 - 2nd_loss: 280.0083 - tf.clip_by_value_2_loss: 12.3927 - tf.math.reduce_sum_2_loss: 0.0000e+00 - tf.math.multiply_5_loss: 0.0000e+00\n",
      "Epoch 45/200\n",
      "1/1 [==============================] - 0s 54ms/step - loss: 277.3669 - 2nd_loss: 262.5697 - tf.clip_by_value_2_loss: 14.7630 - tf.math.reduce_sum_2_loss: 0.0000e+00 - tf.math.multiply_5_loss: 0.0000e+00\n",
      "Epoch 46/200\n",
      "1/1 [==============================] - 0s 58ms/step - loss: 272.4319 - 2nd_loss: 260.3445 - tf.clip_by_value_2_loss: 12.0532 - tf.math.reduce_sum_2_loss: 0.0000e+00 - tf.math.multiply_5_loss: 0.0000e+00\n",
      "Epoch 47/200\n",
      "1/1 [==============================] - 0s 53ms/step - loss: 264.6656 - 2nd_loss: 251.3046 - tf.clip_by_value_2_loss: 13.3268 - tf.math.reduce_sum_2_loss: 0.0000e+00 - tf.math.multiply_5_loss: 0.0000e+00\n",
      "Epoch 48/200\n",
      "1/1 [==============================] - 0s 52ms/step - loss: 260.4492 - 2nd_loss: 248.7258 - tf.clip_by_value_2_loss: 11.6891 - tf.math.reduce_sum_2_loss: 0.0000e+00 - tf.math.multiply_5_loss: 0.0000e+00\n",
      "Epoch 49/200\n",
      "1/1 [==============================] - 0s 53ms/step - loss: 256.5712 - 2nd_loss: 244.2991 - tf.clip_by_value_2_loss: 12.2378 - tf.math.reduce_sum_2_loss: 0.0000e+00 - tf.math.multiply_5_loss: 0.0000e+00\n",
      "Epoch 50/200\n",
      "1/1 [==============================] - 0s 53ms/step - loss: 253.4344 - 2nd_loss: 242.2452 - tf.clip_by_value_2_loss: 11.1549 - tf.math.reduce_sum_2_loss: 0.0000e+00 - tf.math.multiply_5_loss: 0.0000e+00\n",
      "Epoch 51/200\n",
      "1/1 [==============================] - 0s 56ms/step - loss: 250.6431 - 2nd_loss: 239.2138 - tf.clip_by_value_2_loss: 11.3949 - tf.math.reduce_sum_2_loss: 0.0000e+00 - tf.math.multiply_5_loss: 0.0000e+00\n",
      "Epoch 52/200\n",
      "1/1 [==============================] - 0s 51ms/step - loss: 248.0829 - 2nd_loss: 237.4703 - tf.clip_by_value_2_loss: 10.5782 - tf.math.reduce_sum_2_loss: 0.0000e+00 - tf.math.multiply_5_loss: 0.0000e+00\n",
      "Epoch 53/200\n",
      "1/1 [==============================] - 0s 55ms/step - loss: 245.5885 - 2nd_loss: 234.8438 - tf.clip_by_value_2_loss: 10.7103 - tf.math.reduce_sum_2_loss: 0.0000e+00 - tf.math.multiply_5_loss: 0.0000e+00\n",
      "Epoch 54/200\n",
      "1/1 [==============================] - 0s 50ms/step - loss: 242.6833 - 2nd_loss: 232.6309 - tf.clip_by_value_2_loss: 10.0179 - tf.math.reduce_sum_2_loss: 0.0000e+00 - tf.math.multiply_5_loss: 0.0000e+00\n",
      "Epoch 55/200\n",
      "1/1 [==============================] - 0s 53ms/step - loss: 239.7087 - 2nd_loss: 229.5466 - tf.clip_by_value_2_loss: 10.1276 - tf.math.reduce_sum_2_loss: 0.0000e+00 - tf.math.multiply_5_loss: 0.0000e+00\n",
      "Epoch 56/200\n",
      "1/1 [==============================] - 0s 56ms/step - loss: 237.2791 - 2nd_loss: 227.7627 - tf.clip_by_value_2_loss: 9.4819 - tf.math.reduce_sum_2_loss: 0.0000e+00 - tf.math.multiply_5_loss: 0.0000e+00\n",
      "Epoch 57/200\n",
      "1/1 [==============================] - 0s 56ms/step - loss: 235.1998 - 2nd_loss: 225.5352 - tf.clip_by_value_2_loss: 9.6300 - tf.math.reduce_sum_2_loss: 0.0000e+00 - tf.math.multiply_5_loss: 0.0000e+00\n",
      "Epoch 58/200\n",
      "1/1 [==============================] - 0s 54ms/step - loss: 233.3991 - 2nd_loss: 224.3877 - tf.clip_by_value_2_loss: 8.9769 - tf.math.reduce_sum_2_loss: 0.0000e+00 - tf.math.multiply_5_loss: 0.0000e+00\n",
      "Epoch 59/200\n",
      "1/1 [==============================] - 0s 52ms/step - loss: 231.8165 - 2nd_loss: 222.5728 - tf.clip_by_value_2_loss: 9.2091 - tf.math.reduce_sum_2_loss: 0.0000e+00 - tf.math.multiply_5_loss: 0.0000e+00\n",
      "Epoch 60/200\n",
      "1/1 [==============================] - 0s 51ms/step - loss: 230.5698 - 2nd_loss: 222.0383 - tf.clip_by_value_2_loss: 8.4969 - tf.math.reduce_sum_2_loss: 0.0000e+00 - tf.math.multiply_5_loss: 0.0000e+00\n",
      "Epoch 61/200\n",
      "1/1 [==============================] - 0s 54ms/step - loss: 229.4484 - 2nd_loss: 220.5483 - tf.clip_by_value_2_loss: 8.8654 - tf.math.reduce_sum_2_loss: 0.0000e+00 - tf.math.multiply_5_loss: 0.0000e+00\n",
      "Epoch 62/200\n",
      "1/1 [==============================] - 0s 52ms/step - loss: 228.9047 - 2nd_loss: 220.8400 - tf.clip_by_value_2_loss: 8.0301 - tf.math.reduce_sum_2_loss: 0.0000e+00 - tf.math.multiply_5_loss: 0.0000e+00\n",
      "Epoch 63/200\n",
      "1/1 [==============================] - 0s 57ms/step - loss: 228.2899 - 2nd_loss: 219.6557 - tf.clip_by_value_2_loss: 8.5996 - tf.math.reduce_sum_2_loss: 0.0000e+00 - tf.math.multiply_5_loss: 0.0000e+00\n",
      "Epoch 64/200\n",
      "1/1 [==============================] - 0s 55ms/step - loss: 228.7149 - 2nd_loss: 221.0938 - tf.clip_by_value_2_loss: 7.5865 - tf.math.reduce_sum_2_loss: 0.0000e+00 - tf.math.multiply_5_loss: 0.0000e+00\n",
      "Epoch 65/200\n",
      "1/1 [==============================] - 0s 58ms/step - loss: 228.0273 - 2nd_loss: 219.6149 - tf.clip_by_value_2_loss: 8.3778 - tf.math.reduce_sum_2_loss: 0.0000e+00 - tf.math.multiply_5_loss: 0.0000e+00\n",
      "Epoch 66/200\n",
      "1/1 [==============================] - 0s 59ms/step - loss: 229.0299 - 2nd_loss: 221.7863 - tf.clip_by_value_2_loss: 7.2090 - tf.math.reduce_sum_2_loss: 0.0000e+00 - tf.math.multiply_5_loss: 0.0000e+00\n",
      "Epoch 67/200\n",
      "1/1 [==============================] - 0s 59ms/step - loss: 227.2580 - 2nd_loss: 219.0870 - tf.clip_by_value_2_loss: 8.1362 - tf.math.reduce_sum_2_loss: 0.0000e+00 - tf.math.multiply_5_loss: 0.0000e+00\n",
      "Epoch 68/200\n",
      "1/1 [==============================] - 0s 54ms/step - loss: 227.5588 - 2nd_loss: 220.5821 - tf.clip_by_value_2_loss: 6.9420 - tf.math.reduce_sum_2_loss: 0.0000e+00 - tf.math.multiply_5_loss: 0.0000e+00\n",
      "Epoch 69/200\n",
      "1/1 [==============================] - 0s 55ms/step - loss: 224.6900 - 2nd_loss: 216.8265 - tf.clip_by_value_2_loss: 7.8288 - tf.math.reduce_sum_2_loss: 0.0000e+00 - tf.math.multiply_5_loss: 0.0000e+00\n",
      "Epoch 70/200\n",
      "1/1 [==============================] - 0s 57ms/step - loss: 224.0473 - 2nd_loss: 217.2446 - tf.clip_by_value_2_loss: 6.7679 - tf.math.reduce_sum_2_loss: 0.0000e+00 - tf.math.multiply_5_loss: 0.0000e+00\n",
      "Epoch 71/200\n",
      "1/1 [==============================] - 0s 58ms/step - loss: 221.5162 - 2nd_loss: 213.9884 - tf.clip_by_value_2_loss: 7.4931 - tf.math.reduce_sum_2_loss: 0.0000e+00 - tf.math.multiply_5_loss: 0.0000e+00\n",
      "Epoch 72/200\n",
      "1/1 [==============================] - 0s 55ms/step - loss: 220.4904 - 2nd_loss: 213.8171 - tf.clip_by_value_2_loss: 6.6386 - tf.math.reduce_sum_2_loss: 0.0000e+00 - tf.math.multiply_5_loss: 0.0000e+00\n",
      "Epoch 73/200\n",
      "1/1 [==============================] - 0s 54ms/step - loss: 218.7570 - 2nd_loss: 211.5440 - tf.clip_by_value_2_loss: 7.1783 - tf.math.reduce_sum_2_loss: 0.0000e+00 - tf.math.multiply_5_loss: 0.0000e+00\n",
      "Epoch 74/200\n",
      "1/1 [==============================] - 0s 53ms/step - loss: 217.8183 - 2nd_loss: 211.2764 - tf.clip_by_value_2_loss: 6.5071 - tf.math.reduce_sum_2_loss: 0.0000e+00 - tf.math.multiply_5_loss: 0.0000e+00\n",
      "Epoch 75/200\n",
      "1/1 [==============================] - 0s 57ms/step - loss: 216.6801 - 2nd_loss: 209.7447 - tf.clip_by_value_2_loss: 6.9006 - tf.math.reduce_sum_2_loss: 0.0000e+00 - tf.math.multiply_5_loss: 0.0000e+00\n",
      "Epoch 76/200\n"
     ]
    },
    {
     "name": "stdout",
     "output_type": "stream",
     "text": [
      "1/1 [==============================] - 0s 62ms/step - loss: 215.9302 - 2nd_loss: 209.5352 - tf.clip_by_value_2_loss: 6.3602 - tf.math.reduce_sum_2_loss: 0.0000e+00 - tf.math.multiply_5_loss: 0.0000e+00\n",
      "Epoch 77/200\n",
      "1/1 [==============================] - 0s 60ms/step - loss: 215.1130 - 2nd_loss: 208.4162 - tf.clip_by_value_2_loss: 6.6620 - tf.math.reduce_sum_2_loss: 0.0000e+00 - tf.math.multiply_5_loss: 0.0000e+00\n",
      "Epoch 78/200\n",
      "1/1 [==============================] - 0s 56ms/step - loss: 214.5039 - 2nd_loss: 208.2654 - tf.clip_by_value_2_loss: 6.2037 - tf.math.reduce_sum_2_loss: 0.0000e+00 - tf.math.multiply_5_loss: 0.0000e+00\n",
      "Epoch 79/200\n",
      "1/1 [==============================] - 0s 54ms/step - loss: 213.8553 - 2nd_loss: 207.3681 - tf.clip_by_value_2_loss: 6.4524 - tf.math.reduce_sum_2_loss: 0.0000e+00 - tf.math.multiply_5_loss: 0.0000e+00\n",
      "Epoch 80/200\n",
      "1/1 [==============================] - 0s 54ms/step - loss: 213.3551 - 2nd_loss: 207.2761 - tf.clip_by_value_2_loss: 6.0441 - tf.math.reduce_sum_2_loss: 0.0000e+00 - tf.math.multiply_5_loss: 0.0000e+00\n",
      "Epoch 81/200\n",
      "1/1 [==============================] - 0s 55ms/step - loss: 212.8203 - 2nd_loss: 206.5190 - tf.clip_by_value_2_loss: 6.2664 - tf.math.reduce_sum_2_loss: 0.0000e+00 - tf.math.multiply_5_loss: 0.0000e+00\n",
      "Epoch 82/200\n",
      "1/1 [==============================] - 0s 55ms/step - loss: 212.4098 - 2nd_loss: 206.4900 - tf.clip_by_value_2_loss: 5.8851 - tf.math.reduce_sum_2_loss: 0.0000e+00 - tf.math.multiply_5_loss: 0.0000e+00\n",
      "Epoch 83/200\n",
      "1/1 [==============================] - 0s 54ms/step - loss: 211.9543 - 2nd_loss: 205.8196 - tf.clip_by_value_2_loss: 6.0999 - tf.math.reduce_sum_2_loss: 0.0000e+00 - tf.math.multiply_5_loss: 0.0000e+00\n",
      "Epoch 84/200\n",
      "1/1 [==============================] - 0s 56ms/step - loss: 211.6237 - 2nd_loss: 205.8594 - tf.clip_by_value_2_loss: 5.7295 - tf.math.reduce_sum_2_loss: 0.0000e+00 - tf.math.multiply_5_loss: 0.0000e+00\n",
      "Epoch 85/200\n",
      "1/1 [==============================] - 0s 52ms/step - loss: 211.2416 - 2nd_loss: 205.2547 - tf.clip_by_value_2_loss: 5.9520 - tf.math.reduce_sum_2_loss: 0.0000e+00 - tf.math.multiply_5_loss: 0.0000e+00\n",
      "Epoch 86/200\n",
      "1/1 [==============================] - 0s 57ms/step - loss: 211.0027 - 2nd_loss: 205.3925 - tf.clip_by_value_2_loss: 5.5754 - tf.math.reduce_sum_2_loss: 0.0000e+00 - tf.math.multiply_5_loss: 0.0000e+00\n",
      "Epoch 87/200\n",
      "1/1 [==============================] - 0s 57ms/step - loss: 210.7017 - 2nd_loss: 204.8448 - tf.clip_by_value_2_loss: 5.8220 - tf.math.reduce_sum_2_loss: 0.0000e+00 - tf.math.multiply_5_loss: 0.0000e+00\n",
      "Epoch 88/200\n",
      "1/1 [==============================] - 0s 54ms/step - loss: 210.5890 - 2nd_loss: 205.1324 - tf.clip_by_value_2_loss: 5.4218 - tf.math.reduce_sum_2_loss: 0.0000e+00 - tf.math.multiply_5_loss: 0.0000e+00\n",
      "Epoch 89/200\n",
      "1/1 [==============================] - 0s 48ms/step - loss: 210.3513 - 2nd_loss: 204.6082 - tf.clip_by_value_2_loss: 5.7082 - tf.math.reduce_sum_2_loss: 0.0000e+00 - tf.math.multiply_5_loss: 0.0000e+00\n",
      "Epoch 90/200\n",
      "1/1 [==============================] - 0s 53ms/step - loss: 210.4022 - 2nd_loss: 205.0967 - tf.clip_by_value_2_loss: 5.2707 - tf.math.reduce_sum_2_loss: 0.0000e+00 - tf.math.multiply_5_loss: 0.0000e+00\n",
      "Epoch 91/200\n",
      "1/1 [==============================] - 0s 55ms/step - loss: 210.2578 - 2nd_loss: 204.6092 - tf.clip_by_value_2_loss: 5.6137 - tf.math.reduce_sum_2_loss: 0.0000e+00 - tf.math.multiply_5_loss: 0.0000e+00\n",
      "Epoch 92/200\n",
      "1/1 [==============================] - 0s 58ms/step - loss: 210.5260 - 2nd_loss: 205.3696 - tf.clip_by_value_2_loss: 5.1215 - tf.math.reduce_sum_2_loss: 0.0000e+00 - tf.math.multiply_5_loss: 0.0000e+00\n",
      "Epoch 93/200\n",
      "1/1 [==============================] - 0s 51ms/step - loss: 210.4194 - 2nd_loss: 204.8512 - tf.clip_by_value_2_loss: 5.5334 - tf.math.reduce_sum_2_loss: 0.0000e+00 - tf.math.multiply_5_loss: 0.0000e+00\n",
      "Epoch 94/200\n",
      "1/1 [==============================] - 0s 58ms/step - loss: 210.9191 - 2nd_loss: 205.9063 - tf.clip_by_value_2_loss: 4.9779 - tf.math.reduce_sum_2_loss: 0.0000e+00 - tf.math.multiply_5_loss: 0.0000e+00\n",
      "Epoch 95/200\n",
      "1/1 [==============================] - 0s 52ms/step - loss: 210.7041 - 2nd_loss: 205.2096 - tf.clip_by_value_2_loss: 5.4596 - tf.math.reduce_sum_2_loss: 0.0000e+00 - tf.math.multiply_5_loss: 0.0000e+00\n",
      "Epoch 96/200\n",
      "1/1 [==============================] - 0s 55ms/step - loss: 211.3317 - 2nd_loss: 206.4482 - tf.clip_by_value_2_loss: 4.8487 - tf.math.reduce_sum_2_loss: 0.0000e+00 - tf.math.multiply_5_loss: 0.0000e+00\n",
      "Epoch 97/200\n",
      "1/1 [==============================] - 0s 61ms/step - loss: 210.8032 - 2nd_loss: 205.3884 - tf.clip_by_value_2_loss: 5.3799 - tf.math.reduce_sum_2_loss: 0.0000e+00 - tf.math.multiply_5_loss: 0.0000e+00\n",
      "Epoch 98/200\n",
      "1/1 [==============================] - 0s 64ms/step - loss: 211.3620 - 2nd_loss: 206.5857 - tf.clip_by_value_2_loss: 4.7414 - tf.math.reduce_sum_2_loss: 0.0000e+00 - tf.math.multiply_5_loss: 0.0000e+00\n",
      "Epoch 99/200\n",
      "1/1 [==============================] - 0s 59ms/step - loss: 210.5426 - 2nd_loss: 205.2172 - tf.clip_by_value_2_loss: 5.2906 - tf.math.reduce_sum_2_loss: 0.0000e+00 - tf.math.multiply_5_loss: 0.0000e+00\n",
      "Epoch 100/200\n",
      "1/1 [==============================] - 0s 58ms/step - loss: 210.8678 - 2nd_loss: 206.1764 - tf.clip_by_value_2_loss: 4.6565 - tf.math.reduce_sum_2_loss: 0.0000e+00 - tf.math.multiply_5_loss: 0.0000e+00\n",
      "Epoch 101/200\n",
      "1/1 [==============================] - 0s 60ms/step - loss: 209.7061 - 2nd_loss: 204.4884 - tf.clip_by_value_2_loss: 5.1828 - tf.math.reduce_sum_2_loss: 0.0000e+00 - tf.math.multiply_5_loss: 0.0000e+00\n",
      "Epoch 102/200\n",
      "1/1 [==============================] - 0s 59ms/step - loss: 209.6389 - 2nd_loss: 205.0072 - tf.clip_by_value_2_loss: 4.5968 - tf.math.reduce_sum_2_loss: 0.0000e+00 - tf.math.multiply_5_loss: 0.0000e+00\n",
      "Epoch 103/200\n",
      "1/1 [==============================] - 0s 61ms/step - loss: 208.5751 - 2nd_loss: 203.4779 - tf.clip_by_value_2_loss: 5.0624 - tf.math.reduce_sum_2_loss: 0.0000e+00 - tf.math.multiply_5_loss: 0.0000e+00\n",
      "Epoch 104/200\n",
      "1/1 [==============================] - 0s 60ms/step - loss: 208.3519 - 2nd_loss: 203.7694 - tf.clip_by_value_2_loss: 4.5477 - tf.math.reduce_sum_2_loss: 0.0000e+00 - tf.math.multiply_5_loss: 0.0000e+00\n",
      "Epoch 105/200\n",
      "1/1 [==============================] - 0s 62ms/step - loss: 207.5430 - 2nd_loss: 202.5636 - tf.clip_by_value_2_loss: 4.9445 - tf.math.reduce_sum_2_loss: 0.0000e+00 - tf.math.multiply_5_loss: 0.0000e+00\n",
      "Epoch 106/200\n",
      "1/1 [==============================] - 0s 54ms/step - loss: 207.2956 - 2nd_loss: 202.7624 - tf.clip_by_value_2_loss: 4.4984 - tf.math.reduce_sum_2_loss: 0.0000e+00 - tf.math.multiply_5_loss: 0.0000e+00\n",
      "Epoch 107/200\n",
      "1/1 [==============================] - 0s 57ms/step - loss: 206.6949 - 2nd_loss: 201.8263 - tf.clip_by_value_2_loss: 4.8337 - tf.math.reduce_sum_2_loss: 0.0000e+00 - tf.math.multiply_5_loss: 0.0000e+00\n",
      "Epoch 108/200\n",
      "1/1 [==============================] - 0s 56ms/step - loss: 206.4622 - 2nd_loss: 201.9810 - tf.clip_by_value_2_loss: 4.4463 - tf.math.reduce_sum_2_loss: 0.0000e+00 - tf.math.multiply_5_loss: 0.0000e+00\n",
      "Epoch 109/200\n",
      "1/1 [==============================] - 0s 58ms/step - loss: 206.0271 - 2nd_loss: 201.2609 - tf.clip_by_value_2_loss: 4.7314 - tf.math.reduce_sum_2_loss: 0.0000e+00 - tf.math.multiply_5_loss: 0.0000e+00\n",
      "Epoch 110/200\n",
      "1/1 [==============================] - 0s 73ms/step - loss: 205.8362 - 2nd_loss: 201.4120 - tf.clip_by_value_2_loss: 4.3894 - tf.math.reduce_sum_2_loss: 0.0000e+00 - tf.math.multiply_5_loss: 0.0000e+00\n",
      "Epoch 111/200\n",
      "1/1 [==============================] - 0s 72ms/step - loss: 205.5076 - 2nd_loss: 200.8344 - tf.clip_by_value_2_loss: 4.6383 - tf.math.reduce_sum_2_loss: 0.0000e+00 - tf.math.multiply_5_loss: 0.0000e+00\n",
      "Epoch 112/200\n",
      "1/1 [==============================] - 0s 67ms/step - loss: 205.3590 - 2nd_loss: 200.9944 - tf.clip_by_value_2_loss: 4.3297 - tf.math.reduce_sum_2_loss: 0.0000e+00 - tf.math.multiply_5_loss: 0.0000e+00\n",
      "Epoch 113/200\n",
      "1/1 [==============================] - 0s 59ms/step - loss: 205.1077 - 2nd_loss: 200.5190 - tf.clip_by_value_2_loss: 4.5538 - tf.math.reduce_sum_2_loss: 0.0000e+00 - tf.math.multiply_5_loss: 0.0000e+00\n",
      "Epoch 114/200\n",
      "1/1 [==============================] - 0s 59ms/step - loss: 204.9943 - 2nd_loss: 200.6921 - tf.clip_by_value_2_loss: 4.2674 - tf.math.reduce_sum_2_loss: 0.0000e+00 - tf.math.multiply_5_loss: 0.0000e+00\n",
      "Epoch 115/200\n",
      "1/1 [==============================] - 0s 52ms/step - loss: 204.7913 - 2nd_loss: 200.2801 - tf.clip_by_value_2_loss: 4.4764 - tf.math.reduce_sum_2_loss: 0.0000e+00 - tf.math.multiply_5_loss: 0.0000e+00\n",
      "Epoch 116/200\n",
      "1/1 [==============================] - 0s 50ms/step - loss: 204.7152 - 2nd_loss: 200.4771 - tf.clip_by_value_2_loss: 4.2033 - tf.math.reduce_sum_2_loss: 0.0000e+00 - tf.math.multiply_5_loss: 0.0000e+00\n",
      "Epoch 117/200\n",
      "1/1 [==============================] - 0s 53ms/step - loss: 204.5499 - 2nd_loss: 200.1086 - tf.clip_by_value_2_loss: 4.4064 - tf.math.reduce_sum_2_loss: 0.0000e+00 - tf.math.multiply_5_loss: 0.0000e+00\n",
      "Epoch 118/200\n",
      "1/1 [==============================] - 0s 54ms/step - loss: 204.5093 - 2nd_loss: 200.3362 - tf.clip_by_value_2_loss: 4.1382 - tf.math.reduce_sum_2_loss: 0.0000e+00 - tf.math.multiply_5_loss: 0.0000e+00\n",
      "Epoch 119/200\n",
      "1/1 [==============================] - 0s 57ms/step - loss: 204.3837 - 2nd_loss: 200.0060 - tf.clip_by_value_2_loss: 4.3429 - tf.math.reduce_sum_2_loss: 0.0000e+00 - tf.math.multiply_5_loss: 0.0000e+00\n",
      "Epoch 120/200\n",
      "1/1 [==============================] - 0s 54ms/step - loss: 204.3853 - 2nd_loss: 200.2796 - tf.clip_by_value_2_loss: 4.0709 - tf.math.reduce_sum_2_loss: 0.0000e+00 - tf.math.multiply_5_loss: 0.0000e+00\n",
      "Epoch 121/200\n",
      "1/1 [==============================] - 0s 53ms/step - loss: 204.2948 - 2nd_loss: 199.9744 - tf.clip_by_value_2_loss: 4.2856 - tf.math.reduce_sum_2_loss: 0.0000e+00 - tf.math.multiply_5_loss: 0.0000e+00\n",
      "Epoch 122/200\n",
      "1/1 [==============================] - 0s 49ms/step - loss: 204.3554 - 2nd_loss: 200.3186 - tf.clip_by_value_2_loss: 4.0020 - tf.math.reduce_sum_2_loss: 0.0000e+00 - tf.math.multiply_5_loss: 0.0000e+00\n",
      "Epoch 123/200\n",
      "1/1 [==============================] - 0s 50ms/step - loss: 204.2761 - 2nd_loss: 200.0075 - tf.clip_by_value_2_loss: 4.2338 - tf.math.reduce_sum_2_loss: 0.0000e+00 - tf.math.multiply_5_loss: 0.0000e+00\n",
      "Epoch 124/200\n",
      "1/1 [==============================] - 0s 53ms/step - loss: 204.3968 - 2nd_loss: 200.4287 - tf.clip_by_value_2_loss: 3.9332 - tf.math.reduce_sum_2_loss: 0.0000e+00 - tf.math.multiply_5_loss: 0.0000e+00\n",
      "Epoch 125/200\n",
      "1/1 [==============================] - 0s 54ms/step - loss: 204.3413 - 2nd_loss: 200.1190 - tf.clip_by_value_2_loss: 4.1874 - tf.math.reduce_sum_2_loss: 0.0000e+00 - tf.math.multiply_5_loss: 0.0000e+00\n",
      "Epoch 126/200\n",
      "1/1 [==============================] - 0s 61ms/step - loss: 204.5487 - 2nd_loss: 200.6498 - tf.clip_by_value_2_loss: 3.8640 - tf.math.reduce_sum_2_loss: 0.0000e+00 - tf.math.multiply_5_loss: 0.0000e+00\n",
      "Epoch 127/200\n",
      "1/1 [==============================] - 0s 59ms/step - loss: 204.5130 - 2nd_loss: 200.3309 - tf.clip_by_value_2_loss: 4.1473 - tf.math.reduce_sum_2_loss: 0.0000e+00 - tf.math.multiply_5_loss: 0.0000e+00\n",
      "Epoch 128/200\n",
      "1/1 [==============================] - 0s 54ms/step - loss: 204.8196 - 2nd_loss: 200.9896 - tf.clip_by_value_2_loss: 3.7952 - tf.math.reduce_sum_2_loss: 0.0000e+00 - tf.math.multiply_5_loss: 0.0000e+00\n",
      "Epoch 129/200\n",
      "1/1 [==============================] - 0s 55ms/step - loss: 204.7749 - 2nd_loss: 200.6278 - tf.clip_by_value_2_loss: 4.1123 - tf.math.reduce_sum_2_loss: 0.0000e+00 - tf.math.multiply_5_loss: 0.0000e+00\n",
      "Epoch 130/200\n",
      "1/1 [==============================] - 0s 50ms/step - loss: 205.1866 - 2nd_loss: 201.4235 - tf.clip_by_value_2_loss: 3.7283 - tf.math.reduce_sum_2_loss: 0.0000e+00 - tf.math.multiply_5_loss: 0.0000e+00\n",
      "Epoch 131/200\n",
      "1/1 [==============================] - 0s 56ms/step - loss: 205.1089 - 2nd_loss: 200.9935 - tf.clip_by_value_2_loss: 4.0806 - tf.math.reduce_sum_2_loss: 0.0000e+00 - tf.math.multiply_5_loss: 0.0000e+00\n",
      "Epoch 132/200\n",
      "1/1 [==============================] - 0s 52ms/step - loss: 205.5802 - 2nd_loss: 201.8797 - tf.clip_by_value_2_loss: 3.6658 - tf.math.reduce_sum_2_loss: 0.0000e+00 - tf.math.multiply_5_loss: 0.0000e+00\n",
      "Epoch 133/200\n",
      "1/1 [==============================] - 0s 50ms/step - loss: 205.3963 - 2nd_loss: 201.3143 - tf.clip_by_value_2_loss: 4.0472 - tf.math.reduce_sum_2_loss: 0.0000e+00 - tf.math.multiply_5_loss: 0.0000e+00\n",
      "Epoch 134/200\n",
      "1/1 [==============================] - 0s 47ms/step - loss: 205.9085 - 2nd_loss: 202.2652 - tf.clip_by_value_2_loss: 3.6085 - tf.math.reduce_sum_2_loss: 0.0000e+00 - tf.math.multiply_5_loss: 0.0000e+00\n",
      "Epoch 135/200\n",
      "1/1 [==============================] - 0s 48ms/step - loss: 205.5828 - 2nd_loss: 201.5357 - tf.clip_by_value_2_loss: 4.0123 - tf.math.reduce_sum_2_loss: 0.0000e+00 - tf.math.multiply_5_loss: 0.0000e+00\n",
      "Epoch 136/200\n",
      "1/1 [==============================] - 0s 52ms/step - loss: 206.0468 - 2nd_loss: 202.4524 - tf.clip_by_value_2_loss: 3.5596 - tf.math.reduce_sum_2_loss: 0.0000e+00 - tf.math.multiply_5_loss: 0.0000e+00\n",
      "Epoch 137/200\n",
      "1/1 [==============================] - 0s 51ms/step - loss: 205.5701 - 2nd_loss: 201.5635 - tf.clip_by_value_2_loss: 3.9717 - tf.math.reduce_sum_2_loss: 0.0000e+00 - tf.math.multiply_5_loss: 0.0000e+00\n",
      "Epoch 138/200\n",
      "1/1 [==============================] - 0s 49ms/step - loss: 205.9263 - 2nd_loss: 202.3746 - tf.clip_by_value_2_loss: 3.5169 - tf.math.reduce_sum_2_loss: 0.0000e+00 - tf.math.multiply_5_loss: 0.0000e+00\n",
      "Epoch 139/200\n",
      "1/1 [==============================] - 0s 51ms/step - loss: 205.3413 - 2nd_loss: 201.3832 - tf.clip_by_value_2_loss: 3.9233 - tf.math.reduce_sum_2_loss: 0.0000e+00 - tf.math.multiply_5_loss: 0.0000e+00\n",
      "Epoch 140/200\n",
      "1/1 [==============================] - 0s 53ms/step - loss: 205.5638 - 2nd_loss: 202.0460 - tf.clip_by_value_2_loss: 3.4830 - tf.math.reduce_sum_2_loss: 0.0000e+00 - tf.math.multiply_5_loss: 0.0000e+00\n",
      "Epoch 141/200\n",
      "1/1 [==============================] - 0s 49ms/step - loss: 204.9217 - 2nd_loss: 201.0163 - tf.clip_by_value_2_loss: 3.8706 - tf.math.reduce_sum_2_loss: 0.0000e+00 - tf.math.multiply_5_loss: 0.0000e+00\n",
      "Epoch 142/200\n",
      "1/1 [==============================] - 0s 51ms/step - loss: 205.0201 - 2nd_loss: 201.5307 - tf.clip_by_value_2_loss: 3.4546 - tf.math.reduce_sum_2_loss: 0.0000e+00 - tf.math.multiply_5_loss: 0.0000e+00\n",
      "Epoch 143/200\n",
      "1/1 [==============================] - 0s 49ms/step - loss: 204.4203 - 2nd_loss: 200.5714 - tf.clip_by_value_2_loss: 3.8141 - tf.math.reduce_sum_2_loss: 0.0000e+00 - tf.math.multiply_5_loss: 0.0000e+00\n",
      "Epoch 144/200\n",
      "1/1 [==============================] - 0s 56ms/step - loss: 204.4349 - 2nd_loss: 200.9707 - tf.clip_by_value_2_loss: 3.4294 - tf.math.reduce_sum_2_loss: 0.0000e+00 - tf.math.multiply_5_loss: 0.0000e+00\n",
      "Epoch 145/200\n",
      "1/1 [==============================] - 0s 55ms/step - loss: 203.9143 - 2nd_loss: 200.1223 - tf.clip_by_value_2_loss: 3.7573 - tf.math.reduce_sum_2_loss: 0.0000e+00 - tf.math.multiply_5_loss: 0.0000e+00\n",
      "Epoch 146/200\n",
      "1/1 [==============================] - 0s 51ms/step - loss: 203.8747 - 2nd_loss: 200.4352 - tf.clip_by_value_2_loss: 3.4047 - tf.math.reduce_sum_2_loss: 0.0000e+00 - tf.math.multiply_5_loss: 0.0000e+00\n",
      "Epoch 147/200\n",
      "1/1 [==============================] - 0s 55ms/step - loss: 203.4493 - 2nd_loss: 199.7140 - tf.clip_by_value_2_loss: 3.7006 - tf.math.reduce_sum_2_loss: 0.0000e+00 - tf.math.multiply_5_loss: 0.0000e+00\n",
      "Epoch 148/200\n",
      "1/1 [==============================] - 0s 54ms/step - loss: 203.4026 - 2nd_loss: 199.9886 - tf.clip_by_value_2_loss: 3.3793 - tf.math.reduce_sum_2_loss: 0.0000e+00 - tf.math.multiply_5_loss: 0.0000e+00\n",
      "Epoch 149/200\n",
      "1/1 [==============================] - 0s 50ms/step - loss: 203.0560 - 2nd_loss: 199.3750 - tf.clip_by_value_2_loss: 3.6462 - tf.math.reduce_sum_2_loss: 0.0000e+00 - tf.math.multiply_5_loss: 0.0000e+00\n",
      "Epoch 150/200\n",
      "1/1 [==============================] - 0s 49ms/step - loss: 203.0072 - 2nd_loss: 199.6202 - tf.clip_by_value_2_loss: 3.3522 - tf.math.reduce_sum_2_loss: 0.0000e+00 - tf.math.multiply_5_loss: 0.0000e+00\n",
      "Epoch 151/200\n",
      "1/1 [==============================] - 0s 52ms/step - loss: 202.7411 - 2nd_loss: 199.1110 - tf.clip_by_value_2_loss: 3.5954 - tf.math.reduce_sum_2_loss: 0.0000e+00 - tf.math.multiply_5_loss: 0.0000e+00\n"
     ]
    },
    {
     "name": "stdout",
     "output_type": "stream",
     "text": [
      "Epoch 152/200\n",
      "1/1 [==============================] - 0s 49ms/step - loss: 202.7069 - 2nd_loss: 199.3488 - tf.clip_by_value_2_loss: 3.3234 - tf.math.reduce_sum_2_loss: 0.0000e+00 - tf.math.multiply_5_loss: 0.0000e+00\n",
      "Epoch 153/200\n",
      "1/1 [==============================] - 0s 51ms/step - loss: 202.4925 - 2nd_loss: 198.9104 - tf.clip_by_value_2_loss: 3.5474 - tf.math.reduce_sum_2_loss: 0.0000e+00 - tf.math.multiply_5_loss: 0.0000e+00\n",
      "Epoch 154/200\n",
      "1/1 [==============================] - 0s 51ms/step - loss: 202.4770 - 2nd_loss: 199.1498 - tf.clip_by_value_2_loss: 3.2924 - tf.math.reduce_sum_2_loss: 0.0000e+00 - tf.math.multiply_5_loss: 0.0000e+00\n",
      "Epoch 155/200\n",
      "1/1 [==============================] - 0s 54ms/step - loss: 202.3083 - 2nd_loss: 198.7704 - tf.clip_by_value_2_loss: 3.5032 - tf.math.reduce_sum_2_loss: 0.0000e+00 - tf.math.multiply_5_loss: 0.0000e+00\n",
      "Epoch 156/200\n",
      "1/1 [==============================] - 0s 51ms/step - loss: 202.3036 - 2nd_loss: 199.0092 - tf.clip_by_value_2_loss: 3.2596 - tf.math.reduce_sum_2_loss: 0.0000e+00 - tf.math.multiply_5_loss: 0.0000e+00\n",
      "Epoch 157/200\n",
      "1/1 [==============================] - 0s 51ms/step - loss: 202.1660 - 2nd_loss: 198.6701 - tf.clip_by_value_2_loss: 3.4612 - tf.math.reduce_sum_2_loss: 0.0000e+00 - tf.math.multiply_5_loss: 0.0000e+00\n",
      "Epoch 158/200\n",
      "1/1 [==============================] - 0s 52ms/step - loss: 202.1790 - 2nd_loss: 198.9185 - tf.clip_by_value_2_loss: 3.2257 - tf.math.reduce_sum_2_loss: 0.0000e+00 - tf.math.multiply_5_loss: 0.0000e+00\n",
      "Epoch 159/200\n",
      "1/1 [==============================] - 0s 52ms/step - loss: 202.0667 - 2nd_loss: 198.6097 - tf.clip_by_value_2_loss: 3.4223 - tf.math.reduce_sum_2_loss: 0.0000e+00 - tf.math.multiply_5_loss: 0.0000e+00\n",
      "Epoch 160/200\n",
      "1/1 [==============================] - 0s 50ms/step - loss: 202.0961 - 2nd_loss: 198.8710 - tf.clip_by_value_2_loss: 3.1904 - tf.math.reduce_sum_2_loss: 0.0000e+00 - tf.math.multiply_5_loss: 0.0000e+00\n",
      "Epoch 161/200\n",
      "1/1 [==============================] - 0s 49ms/step - loss: 202.0033 - 2nd_loss: 198.5830 - tf.clip_by_value_2_loss: 3.3856 - tf.math.reduce_sum_2_loss: 0.0000e+00 - tf.math.multiply_5_loss: 0.0000e+00\n",
      "Epoch 162/200\n",
      "1/1 [==============================] - 0s 52ms/step - loss: 202.0581 - 2nd_loss: 198.8690 - tf.clip_by_value_2_loss: 3.1543 - tf.math.reduce_sum_2_loss: 0.0000e+00 - tf.math.multiply_5_loss: 0.0000e+00\n",
      "Epoch 163/200\n",
      "1/1 [==============================] - 0s 53ms/step - loss: 201.9807 - 2nd_loss: 198.5941 - tf.clip_by_value_2_loss: 3.3518 - tf.math.reduce_sum_2_loss: 0.0000e+00 - tf.math.multiply_5_loss: 0.0000e+00\n",
      "Epoch 164/200\n",
      "1/1 [==============================] - 0s 52ms/step - loss: 202.0585 - 2nd_loss: 198.9064 - tf.clip_by_value_2_loss: 3.1173 - tf.math.reduce_sum_2_loss: 0.0000e+00 - tf.math.multiply_5_loss: 0.0000e+00\n",
      "Epoch 165/200\n",
      "1/1 [==============================] - 0s 55ms/step - loss: 201.9921 - 2nd_loss: 198.6371 - tf.clip_by_value_2_loss: 3.3203 - tf.math.reduce_sum_2_loss: 0.0000e+00 - tf.math.multiply_5_loss: 0.0000e+00\n",
      "Epoch 166/200\n",
      "1/1 [==============================] - 0s 54ms/step - loss: 202.1013 - 2nd_loss: 198.9866 - tf.clip_by_value_2_loss: 3.0800 - tf.math.reduce_sum_2_loss: 0.0000e+00 - tf.math.multiply_5_loss: 0.0000e+00\n",
      "Epoch 167/200\n",
      "1/1 [==============================] - 0s 46ms/step - loss: 202.0356 - 2nd_loss: 198.7101 - tf.clip_by_value_2_loss: 3.2909 - tf.math.reduce_sum_2_loss: 0.0000e+00 - tf.math.multiply_5_loss: 0.0000e+00\n",
      "Epoch 168/200\n",
      "1/1 [==============================] - 0s 49ms/step - loss: 202.1819 - 2nd_loss: 199.1051 - tf.clip_by_value_2_loss: 3.0421 - tf.math.reduce_sum_2_loss: 0.0000e+00 - tf.math.multiply_5_loss: 0.0000e+00\n",
      "Epoch 169/200\n",
      "1/1 [==============================] - 0s 50ms/step - loss: 202.1245 - 2nd_loss: 198.8254 - tf.clip_by_value_2_loss: 3.2644 - tf.math.reduce_sum_2_loss: 0.0000e+00 - tf.math.multiply_5_loss: 0.0000e+00\n",
      "Epoch 170/200\n",
      "1/1 [==============================] - 0s 50ms/step - loss: 202.3084 - 2nd_loss: 199.2696 - tf.clip_by_value_2_loss: 3.0041 - tf.math.reduce_sum_2_loss: 0.0000e+00 - tf.math.multiply_5_loss: 0.0000e+00\n",
      "Epoch 171/200\n",
      "1/1 [==============================] - 0s 51ms/step - loss: 202.2512 - 2nd_loss: 198.9765 - tf.clip_by_value_2_loss: 3.2399 - tf.math.reduce_sum_2_loss: 0.0000e+00 - tf.math.multiply_5_loss: 0.0000e+00\n",
      "Epoch 172/200\n",
      "1/1 [==============================] - 0s 48ms/step - loss: 202.4807 - 2nd_loss: 199.4797 - tf.clip_by_value_2_loss: 2.9663 - tf.math.reduce_sum_2_loss: 0.0000e+00 - tf.math.multiply_5_loss: 0.0000e+00\n",
      "Epoch 173/200\n",
      "1/1 [==============================] - 0s 49ms/step - loss: 202.4194 - 2nd_loss: 199.1671 - tf.clip_by_value_2_loss: 3.2176 - tf.math.reduce_sum_2_loss: 0.0000e+00 - tf.math.multiply_5_loss: 0.0000e+00\n",
      "Epoch 174/200\n",
      "1/1 [==============================] - 0s 48ms/step - loss: 202.6975 - 2nd_loss: 199.7340 - tf.clip_by_value_2_loss: 2.9288 - tf.math.reduce_sum_2_loss: 0.0000e+00 - tf.math.multiply_5_loss: 0.0000e+00\n",
      "Epoch 175/200\n",
      "1/1 [==============================] - 0s 51ms/step - loss: 202.6160 - 2nd_loss: 199.3846 - tf.clip_by_value_2_loss: 3.1968 - tf.math.reduce_sum_2_loss: 0.0000e+00 - tf.math.multiply_5_loss: 0.0000e+00\n",
      "Epoch 176/200\n",
      "1/1 [==============================] - 0s 51ms/step - loss: 202.9427 - 2nd_loss: 200.0151 - tf.clip_by_value_2_loss: 2.8929 - tf.math.reduce_sum_2_loss: 0.0000e+00 - tf.math.multiply_5_loss: 0.0000e+00\n",
      "Epoch 177/200\n",
      "1/1 [==============================] - 0s 53ms/step - loss: 202.8192 - 2nd_loss: 199.6078 - tf.clip_by_value_2_loss: 3.1766 - tf.math.reduce_sum_2_loss: 0.0000e+00 - tf.math.multiply_5_loss: 0.0000e+00\n",
      "Epoch 178/200\n",
      "1/1 [==============================] - 0s 48ms/step - loss: 203.1772 - 2nd_loss: 200.2836 - tf.clip_by_value_2_loss: 2.8590 - tf.math.reduce_sum_2_loss: 0.0000e+00 - tf.math.multiply_5_loss: 0.0000e+00\n",
      "Epoch 179/200\n",
      "1/1 [==============================] - 0s 51ms/step - loss: 203.0144 - 2nd_loss: 199.8222 - tf.clip_by_value_2_loss: 3.1574 - tf.math.reduce_sum_2_loss: 0.0000e+00 - tf.math.multiply_5_loss: 0.0000e+00\n",
      "Epoch 180/200\n",
      "1/1 [==============================] - 0s 60ms/step - loss: 203.3991 - 2nd_loss: 200.5379 - tf.clip_by_value_2_loss: 2.8265 - tf.math.reduce_sum_2_loss: 0.0000e+00 - tf.math.multiply_5_loss: 0.0000e+00\n",
      "Epoch 181/200\n",
      "1/1 [==============================] - 0s 55ms/step - loss: 203.1668 - 2nd_loss: 199.9951 - tf.clip_by_value_2_loss: 3.1370 - tf.math.reduce_sum_2_loss: 0.0000e+00 - tf.math.multiply_5_loss: 0.0000e+00\n",
      "Epoch 182/200\n",
      "1/1 [==============================] - 0s 54ms/step - loss: 203.5237 - 2nd_loss: 200.6914 - tf.clip_by_value_2_loss: 2.7976 - tf.math.reduce_sum_2_loss: 0.0000e+00 - tf.math.multiply_5_loss: 0.0000e+00\n",
      "Epoch 183/200\n",
      "1/1 [==============================] - 0s 52ms/step - loss: 203.2169 - 2nd_loss: 200.0689 - tf.clip_by_value_2_loss: 3.1133 - tf.math.reduce_sum_2_loss: 0.0000e+00 - tf.math.multiply_5_loss: 0.0000e+00\n",
      "Epoch 184/200\n",
      "1/1 [==============================] - 0s 47ms/step - loss: 203.5766 - 2nd_loss: 200.7698 - tf.clip_by_value_2_loss: 2.7721 - tf.math.reduce_sum_2_loss: 0.0000e+00 - tf.math.multiply_5_loss: 0.0000e+00\n",
      "Epoch 185/200\n",
      "1/1 [==============================] - 0s 52ms/step - loss: 203.2148 - 2nd_loss: 200.0900 - tf.clip_by_value_2_loss: 3.0902 - tf.math.reduce_sum_2_loss: 0.0000e+00 - tf.math.multiply_5_loss: 0.0000e+00\n",
      "Epoch 186/200\n",
      "1/1 [==============================] - 0s 52ms/step - loss: 203.4872 - 2nd_loss: 200.7031 - tf.clip_by_value_2_loss: 2.7494 - tf.math.reduce_sum_2_loss: 0.0000e+00 - tf.math.multiply_5_loss: 0.0000e+00\n",
      "Epoch 187/200\n",
      "1/1 [==============================] - 0s 50ms/step - loss: 203.0720 - 2nd_loss: 199.9760 - tf.clip_by_value_2_loss: 3.0614 - tf.math.reduce_sum_2_loss: 0.0000e+00 - tf.math.multiply_5_loss: 0.0000e+00\n",
      "Epoch 188/200\n",
      "1/1 [==============================] - 0s 50ms/step - loss: 203.2969 - 2nd_loss: 200.5326 - tf.clip_by_value_2_loss: 2.7297 - tf.math.reduce_sum_2_loss: 0.0000e+00 - tf.math.multiply_5_loss: 0.0000e+00\n",
      "Epoch 189/200\n",
      "1/1 [==============================] - 0s 42ms/step - loss: 202.8800 - 2nd_loss: 199.8126 - tf.clip_by_value_2_loss: 3.0327 - tf.math.reduce_sum_2_loss: 0.0000e+00 - tf.math.multiply_5_loss: 0.0000e+00\n",
      "Epoch 190/200\n",
      "1/1 [==============================] - 0s 46ms/step - loss: 203.0353 - 2nd_loss: 200.2886 - tf.clip_by_value_2_loss: 2.7121 - tf.math.reduce_sum_2_loss: 0.0000e+00 - tf.math.multiply_5_loss: 0.0000e+00\n",
      "Epoch 191/200\n",
      "1/1 [==============================] - 0s 44ms/step - loss: 202.6181 - 2nd_loss: 199.5824 - tf.clip_by_value_2_loss: 3.0011 - tf.math.reduce_sum_2_loss: 0.0000e+00 - tf.math.multiply_5_loss: 0.0000e+00\n",
      "Epoch 192/200\n",
      "1/1 [==============================] - 0s 45ms/step - loss: 202.7239 - 2nd_loss: 199.9935 - tf.clip_by_value_2_loss: 2.6957 - tf.math.reduce_sum_2_loss: 0.0000e+00 - tf.math.multiply_5_loss: 0.0000e+00\n",
      "Epoch 193/200\n",
      "1/1 [==============================] - 0s 47ms/step - loss: 202.3383 - 2nd_loss: 199.3351 - tf.clip_by_value_2_loss: 2.9686 - tf.math.reduce_sum_2_loss: 0.0000e+00 - tf.math.multiply_5_loss: 0.0000e+00\n",
      "Epoch 194/200\n",
      "1/1 [==============================] - 0s 47ms/step - loss: 202.4061 - 2nd_loss: 199.6912 - tf.clip_by_value_2_loss: 2.6803 - tf.math.reduce_sum_2_loss: 0.0000e+00 - tf.math.multiply_5_loss: 0.0000e+00\n",
      "Epoch 195/200\n",
      "1/1 [==============================] - 0s 45ms/step - loss: 202.0718 - 2nd_loss: 199.1001 - tf.clip_by_value_2_loss: 2.9371 - tf.math.reduce_sum_2_loss: 0.0000e+00 - tf.math.multiply_5_loss: 0.0000e+00\n",
      "Epoch 196/200\n",
      "1/1 [==============================] - 0s 49ms/step - loss: 202.1161 - 2nd_loss: 199.4171 - tf.clip_by_value_2_loss: 2.6644 - tf.math.reduce_sum_2_loss: 0.0000e+00 - tf.math.multiply_5_loss: 0.0000e+00\n",
      "Epoch 197/200\n",
      "1/1 [==============================] - 0s 49ms/step - loss: 201.8135 - 2nd_loss: 198.8745 - tf.clip_by_value_2_loss: 2.9044 - tf.math.reduce_sum_2_loss: 0.0000e+00 - tf.math.multiply_5_loss: 0.0000e+00\n",
      "Epoch 198/200\n",
      "1/1 [==============================] - 0s 56ms/step - loss: 201.8388 - 2nd_loss: 199.1559 - tf.clip_by_value_2_loss: 2.6483 - tf.math.reduce_sum_2_loss: 0.0000e+00 - tf.math.multiply_5_loss: 0.0000e+00\n",
      "Epoch 199/200\n",
      "1/1 [==============================] - 0s 56ms/step - loss: 201.5816 - 2nd_loss: 198.6745 - tf.clip_by_value_2_loss: 2.8725 - tf.math.reduce_sum_2_loss: 0.0000e+00 - tf.math.multiply_5_loss: 0.0000e+00\n",
      "Epoch 200/200\n",
      "1/1 [==============================] - 0s 52ms/step - loss: 201.6021 - 2nd_loss: 198.9361 - tf.clip_by_value_2_loss: 2.6314 - tf.math.reduce_sum_2_loss: 0.0000e+00 - tf.math.multiply_5_loss: 0.0000e+00\n",
      "1/1 [==============================] - 0s 13ms/step\n",
      "1/1 [==============================] - 0s 14ms/step\n",
      "1/1 [==============================] - 0s 13ms/step\n",
      "1/1 [==============================] - 0s 12ms/step\n",
      "1/1 [==============================] - 0s 11ms/step\n",
      "1/1 [==============================] - 0s 11ms/step\n",
      "1/1 [==============================] - 0s 10ms/step\n",
      "1/1 [==============================] - 0s 12ms/step\n",
      "1/1 [==============================] - 0s 11ms/step\n",
      "2/2 [==============================] - 0s 4ms/step\n"
     ]
    }
   ],
   "source": [
    "sdne = SDNE_plus(graph, \n",
    "                  hidden_size = [32, 64], \n",
    "                  lr = 1e-3,\n",
    "                  sense_features = sense_features.astype(np.float32),\n",
    "                  alpha = 0.1, \n",
    "                  beta = 10, \n",
    "                  gamma = 0, \n",
    "                  delta = 0)\n",
    "history = sdne.train(epochs = 200, batch_size = 1024)\n",
    "e = sdne.get_embeddings()\n",
    "embed_og = np.array([e[node_name] for node_name in graph.nodes()])\n",
    "embed_og = (embed_og - np.min(embed_og)) / np.ptp(embed_og)\n",
    "\n",
    "\n",
    "feature_dict_og = find_feature_membership(input_embed = embed_og,\n",
    "                                                    embed_name = 'SDNE',\n",
    "                                                    sense_features = sense_features,\n",
    "                                                    sense_feat_dict = sense_feat_dict,\n",
    "                                                    top_k = 8,\n",
    "                                                    solver = 'nmf')\n",
    "\n",
    "explain_og = feature_dict_og['explain_norm']\n",
    "explain_og = (explain_og - np.min(explain_og)) / np.ptp(explain_og)"
   ]
  },
  {
   "cell_type": "code",
   "execution_count": 10,
   "id": "51e4e771",
   "metadata": {
    "scrolled": true
   },
   "outputs": [
    {
     "name": "stdout",
     "output_type": "stream",
     "text": [
      "1/1 [==============================] - 0s 49ms/step\n",
      "1/1 [==============================] - 0s 13ms/step\n",
      "1/1 [==============================] - 0s 14ms/step\n",
      "1/1 [==============================] - 0s 14ms/step\n",
      "1/1 [==============================] - 0s 14ms/step\n"
     ]
    },
    {
     "name": "stderr",
     "output_type": "stream",
     "text": [
      "2022-10-07 18:20:02.661334: I tensorflow/core/grappler/optimizers/custom_graph_optimizer_registry.cc:113] Plugin optimizer for device_type GPU is enabled.\n"
     ]
    },
    {
     "name": "stdout",
     "output_type": "stream",
     "text": [
      "1/1 [==============================] - 0s 14ms/step\n",
      "1/1 [==============================] - 0s 14ms/step\n",
      "1/1 [==============================] - 0s 14ms/step\n",
      "1/1 [==============================] - 0s 14ms/step\n",
      "2/2 [==============================] - 0s 20ms/step\n",
      "batch_size(1024) > node_size(986),set batch_size = 986\n",
      "Epoch 1/400\n"
     ]
    },
    {
     "name": "stderr",
     "output_type": "stream",
     "text": [
      "2022-10-07 18:20:03.034853: I tensorflow/core/grappler/optimizers/custom_graph_optimizer_registry.cc:113] Plugin optimizer for device_type GPU is enabled.\n",
      "2022-10-07 18:20:04.032882: I tensorflow/core/grappler/optimizers/custom_graph_optimizer_registry.cc:113] Plugin optimizer for device_type GPU is enabled.\n"
     ]
    },
    {
     "name": "stdout",
     "output_type": "stream",
     "text": [
      "1/1 [==============================] - 2s 2s/step - loss: 2868.6919 - 2nd_loss: 1.9851 - tf.clip_by_value_3_loss: 284.2476 - tf.math.reduce_sum_3_loss: 1600.3394 - tf.math.multiply_7_loss: 982.0850\n",
      "Epoch 2/400\n",
      "1/1 [==============================] - 0s 80ms/step - loss: 2732.5283 - 2nd_loss: 1.9977 - tf.clip_by_value_3_loss: 300.7203 - tf.math.reduce_sum_3_loss: 1487.2644 - tf.math.multiply_7_loss: 942.5112\n",
      "Epoch 3/400\n",
      "1/1 [==============================] - 0s 72ms/step - loss: 2646.8105 - 2nd_loss: 1.9981 - tf.clip_by_value_3_loss: 304.3597 - tf.math.reduce_sum_3_loss: 1420.6222 - tf.math.multiply_7_loss: 919.7958\n",
      "Epoch 4/400\n",
      "1/1 [==============================] - 0s 71ms/step - loss: 2574.4949 - 2nd_loss: 2.0054 - tf.clip_by_value_3_loss: 311.6386 - tf.math.reduce_sum_3_loss: 1361.9231 - tf.math.multiply_7_loss: 898.8931\n",
      "Epoch 5/400\n",
      "1/1 [==============================] - 0s 67ms/step - loss: 2507.8789 - 2nd_loss: 2.0096 - tf.clip_by_value_3_loss: 313.9309 - tf.math.reduce_sum_3_loss: 1310.8136 - tf.math.multiply_7_loss: 881.0905\n",
      "Epoch 6/400\n",
      "1/1 [==============================] - 0s 74ms/step - loss: 2444.8750 - 2nd_loss: 2.0136 - tf.clip_by_value_3_loss: 319.5758 - tf.math.reduce_sum_3_loss: 1260.4993 - tf.math.multiply_7_loss: 862.7517\n",
      "Epoch 7/400\n",
      "1/1 [==============================] - 0s 67ms/step - loss: 2384.2947 - 2nd_loss: 2.0181 - tf.clip_by_value_3_loss: 319.1282 - tf.math.reduce_sum_3_loss: 1216.0011 - tf.math.multiply_7_loss: 847.1128\n",
      "Epoch 8/400\n",
      "1/1 [==============================] - 0s 60ms/step - loss: 2326.0024 - 2nd_loss: 2.0182 - tf.clip_by_value_3_loss: 323.9715 - tf.math.reduce_sum_3_loss: 1170.1229 - tf.math.multiply_7_loss: 829.8554\n",
      "Epoch 9/400\n",
      "1/1 [==============================] - 0s 72ms/step - loss: 2269.7664 - 2nd_loss: 2.0273 - tf.clip_by_value_3_loss: 319.7402 - tf.math.reduce_sum_3_loss: 1131.5028 - tf.math.multiply_7_loss: 816.4617\n",
      "Epoch 10/400\n",
      "1/1 [==============================] - 0s 68ms/step - loss: 2215.9075 - 2nd_loss: 2.0226 - tf.clip_by_value_3_loss: 325.8584 - tf.math.reduce_sum_3_loss: 1088.5050 - tf.math.multiply_7_loss: 799.4868\n",
      "Epoch 11/400\n",
      "1/1 [==============================] - 0s 65ms/step - loss: 2164.0396 - 2nd_loss: 2.0418 - tf.clip_by_value_3_loss: 316.9124 - tf.math.reduce_sum_3_loss: 1056.2080 - tf.math.multiply_7_loss: 788.8428\n",
      "Epoch 12/400\n",
      "1/1 [==============================] - 0s 83ms/step - loss: 2114.1201 - 2nd_loss: 2.0302 - tf.clip_by_value_3_loss: 325.5366 - tf.math.reduce_sum_3_loss: 1014.9941 - tf.math.multiply_7_loss: 771.5250\n",
      "Epoch 13/400\n",
      "1/1 [==============================] - 0s 68ms/step - loss: 2066.0671 - 2nd_loss: 2.0537 - tf.clip_by_value_3_loss: 312.7425 - tf.math.reduce_sum_3_loss: 988.0075 - tf.math.multiply_7_loss: 763.2290\n",
      "Epoch 14/400\n",
      "1/1 [==============================] - 0s 61ms/step - loss: 2019.6858 - 2nd_loss: 2.0340 - tf.clip_by_value_3_loss: 321.8600 - tf.math.reduce_sum_3_loss: 949.4835 - tf.math.multiply_7_loss: 746.2739\n",
      "Epoch 15/400\n",
      "1/1 [==============================] - 0s 60ms/step - loss: 1974.9794 - 2nd_loss: 2.0545 - tf.clip_by_value_3_loss: 307.7608 - tf.math.reduce_sum_3_loss: 925.9305 - tf.math.multiply_7_loss: 739.1992\n",
      "Epoch 16/400\n",
      "1/1 [==============================] - 0s 62ms/step - loss: 1931.8556 - 2nd_loss: 2.0324 - tf.clip_by_value_3_loss: 315.2306 - tf.math.reduce_sum_3_loss: 891.0734 - tf.math.multiply_7_loss: 723.4847\n",
      "Epoch 17/400\n",
      "1/1 [==============================] - 0s 63ms/step - loss: 1889.7870 - 2nd_loss: 2.0468 - tf.clip_by_value_3_loss: 302.0413 - tf.math.reduce_sum_3_loss: 869.1529 - tf.math.multiply_7_loss: 716.5116\n",
      "Epoch 18/400\n",
      "1/1 [==============================] - 0s 62ms/step - loss: 1849.8383 - 2nd_loss: 2.0284 - tf.clip_by_value_3_loss: 306.7525 - tf.math.reduce_sum_3_loss: 838.4866 - tf.math.multiply_7_loss: 702.5363\n",
      "Epoch 19/400\n",
      "1/1 [==============================] - 0s 61ms/step - loss: 1811.1780 - 2nd_loss: 2.0426 - tf.clip_by_value_3_loss: 294.4567 - tf.math.reduce_sum_3_loss: 818.6254 - tf.math.multiply_7_loss: 696.0189\n",
      "Epoch 20/400\n",
      "1/1 [==============================] - 0s 61ms/step - loss: 1774.0311 - 2nd_loss: 2.0269 - tf.clip_by_value_3_loss: 298.6866 - tf.math.reduce_sum_3_loss: 790.4576 - tf.math.multiply_7_loss: 682.8257\n",
      "Epoch 21/400\n",
      "1/1 [==============================] - 0s 66ms/step - loss: 1738.3292 - 2nd_loss: 2.0466 - tf.clip_by_value_3_loss: 285.4170 - tf.math.reduce_sum_3_loss: 773.3652 - tf.math.multiply_7_loss: 677.4659\n",
      "Epoch 22/400\n",
      "1/1 [==============================] - 0s 57ms/step - loss: 1704.1382 - 2nd_loss: 2.0295 - tf.clip_by_value_3_loss: 291.8550 - tf.math.reduce_sum_3_loss: 746.1918 - tf.math.multiply_7_loss: 664.0272\n",
      "Epoch 23/400\n",
      "1/1 [==============================] - 0s 63ms/step - loss: 1671.1263 - 2nd_loss: 2.0560 - tf.clip_by_value_3_loss: 275.8004 - tf.math.reduce_sum_3_loss: 732.6623 - tf.math.multiply_7_loss: 660.5731\n",
      "Epoch 24/400\n",
      "1/1 [==============================] - 0s 63ms/step - loss: 1639.1492 - 2nd_loss: 2.0326 - tf.clip_by_value_3_loss: 284.3347 - tf.math.reduce_sum_3_loss: 706.1174 - tf.math.multiply_7_loss: 646.6301\n",
      "Epoch 25/400\n",
      "1/1 [==============================] - 0s 58ms/step - loss: 1608.4114 - 2nd_loss: 2.0579 - tf.clip_by_value_3_loss: 266.8703 - tf.math.reduce_sum_3_loss: 695.0453 - tf.math.multiply_7_loss: 644.4033\n",
      "Epoch 26/400\n",
      "1/1 [==============================] - 0s 58ms/step - loss: 1578.4084 - 2nd_loss: 2.0321 - tf.clip_by_value_3_loss: 276.1595 - tf.math.reduce_sum_3_loss: 669.6686 - tf.math.multiply_7_loss: 630.5135\n",
      "Epoch 27/400\n",
      "1/1 [==============================] - 0s 62ms/step - loss: 1549.1683 - 2nd_loss: 2.0541 - tf.clip_by_value_3_loss: 257.8571 - tf.math.reduce_sum_3_loss: 660.2451 - tf.math.multiply_7_loss: 628.9775\n",
      "Epoch 28/400\n",
      "1/1 [==============================] - 0s 59ms/step - loss: 1520.7081 - 2nd_loss: 2.0269 - tf.clip_by_value_3_loss: 266.1441 - tf.math.reduce_sum_3_loss: 636.7162 - tf.math.multiply_7_loss: 615.7864\n",
      "Epoch 29/400\n",
      "1/1 [==============================] - 0s 60ms/step - loss: 1493.0967 - 2nd_loss: 2.0425 - tf.clip_by_value_3_loss: 249.1612 - tf.math.reduce_sum_3_loss: 627.7687 - tf.math.multiply_7_loss: 614.0897\n",
      "Epoch 30/400\n",
      "1/1 [==============================] - 0s 58ms/step - loss: 1466.5015 - 2nd_loss: 2.0199 - tf.clip_by_value_3_loss: 255.9022 - tf.math.reduce_sum_3_loss: 606.5063 - tf.math.multiply_7_loss: 602.0385\n",
      "Epoch 31/400\n",
      "1/1 [==============================] - 0s 59ms/step - loss: 1440.7258 - 2nd_loss: 2.0326 - tf.clip_by_value_3_loss: 240.8692 - tf.math.reduce_sum_3_loss: 597.7716 - tf.math.multiply_7_loss: 600.0180\n",
      "Epoch 32/400\n",
      "1/1 [==============================] - 0s 54ms/step - loss: 1416.0414 - 2nd_loss: 2.0151 - tf.clip_by_value_3_loss: 246.4340 - tf.math.reduce_sum_3_loss: 578.5726 - tf.math.multiply_7_loss: 588.9852\n",
      "Epoch 33/400\n",
      "1/1 [==============================] - 0s 59ms/step - loss: 1391.9595 - 2nd_loss: 2.0254 - tf.clip_by_value_3_loss: 232.5512 - tf.math.reduce_sum_3_loss: 570.4216 - tf.math.multiply_7_loss: 586.9267\n",
      "Epoch 34/400\n",
      "1/1 [==============================] - 0s 62ms/step - loss: 1368.7301 - 2nd_loss: 2.0110 - tf.clip_by_value_3_loss: 237.1392 - tf.math.reduce_sum_3_loss: 552.8528 - tf.math.multiply_7_loss: 576.6924\n",
      "Epoch 35/400\n",
      "1/1 [==============================] - 0s 64ms/step - loss: 1346.4097 - 2nd_loss: 2.0213 - tf.clip_by_value_3_loss: 224.4433 - tf.math.reduce_sum_3_loss: 545.2410 - tf.math.multiply_7_loss: 574.6694\n",
      "Epoch 36/400\n",
      "1/1 [==============================] - 0s 66ms/step - loss: 1325.0762 - 2nd_loss: 2.0104 - tf.clip_by_value_3_loss: 229.6746 - tf.math.reduce_sum_3_loss: 528.6477 - tf.math.multiply_7_loss: 564.7088\n",
      "Epoch 37/400\n",
      "1/1 [==============================] - 0s 59ms/step - loss: 1304.6321 - 2nd_loss: 2.0249 - tf.clip_by_value_3_loss: 216.5869 - tf.math.reduce_sum_3_loss: 522.4978 - tf.math.multiply_7_loss: 563.4878\n",
      "Epoch 38/400\n",
      "1/1 [==============================] - 0s 60ms/step - loss: 1284.9680 - 2nd_loss: 2.0137 - tf.clip_by_value_3_loss: 223.3621 - tf.math.reduce_sum_3_loss: 506.2777 - tf.math.multiply_7_loss: 553.2798\n",
      "Epoch 39/400\n",
      "1/1 [==============================] - 0s 64ms/step - loss: 1266.1658 - 2nd_loss: 2.0310 - tf.clip_by_value_3_loss: 209.3298 - tf.math.reduce_sum_3_loss: 501.7146 - tf.math.multiply_7_loss: 553.0557\n",
      "Epoch 40/400\n",
      "1/1 [==============================] - 0s 60ms/step - loss: 1248.1130 - 2nd_loss: 2.0192 - tf.clip_by_value_3_loss: 217.9861 - tf.math.reduce_sum_3_loss: 485.6260 - tf.math.multiply_7_loss: 542.4468\n",
      "Epoch 41/400\n",
      "1/1 [==============================] - 0s 55ms/step - loss: 1230.7153 - 2nd_loss: 2.0388 - tf.clip_by_value_3_loss: 202.5665 - tf.math.reduce_sum_3_loss: 482.7264 - tf.math.multiply_7_loss: 543.3489\n",
      "Epoch 42/400\n",
      "1/1 [==============================] - 0s 61ms/step - loss: 1213.8589 - 2nd_loss: 2.0240 - tf.clip_by_value_3_loss: 212.7049 - tf.math.reduce_sum_3_loss: 466.7227 - tf.math.multiply_7_loss: 532.3725\n",
      "Epoch 43/400\n",
      "1/1 [==============================] - 0s 60ms/step - loss: 1197.2289 - 2nd_loss: 2.0415 - tf.clip_by_value_3_loss: 196.2430 - tf.math.reduce_sum_3_loss: 464.9262 - tf.math.multiply_7_loss: 533.9835\n",
      "Epoch 44/400\n",
      "1/1 [==============================] - 0s 62ms/step - loss: 1181.0021 - 2nd_loss: 2.0222 - tf.clip_by_value_3_loss: 206.1675 - tf.math.reduce_sum_3_loss: 449.5793 - tf.math.multiply_7_loss: 523.1984\n",
      "Epoch 45/400\n",
      "1/1 [==============================] - 0s 62ms/step - loss: 1165.0865 - 2nd_loss: 2.0352 - tf.clip_by_value_3_loss: 190.3407 - tf.math.reduce_sum_3_loss: 447.9417 - tf.math.multiply_7_loss: 524.7341\n",
      "Epoch 46/400\n",
      "1/1 [==============================] - 0s 57ms/step - loss: 1149.5942 - 2nd_loss: 2.0166 - tf.clip_by_value_3_loss: 199.1415 - tf.math.reduce_sum_3_loss: 433.7602 - tf.math.multiply_7_loss: 514.6411\n",
      "Epoch 47/400\n",
      "1/1 [==============================] - 0s 58ms/step - loss: 1134.6068 - 2nd_loss: 2.0263 - tf.clip_by_value_3_loss: 184.7450 - tf.math.reduce_sum_3_loss: 431.9744 - tf.math.multiply_7_loss: 515.8264\n",
      "Epoch 48/400\n",
      "1/1 [==============================] - 0s 58ms/step - loss: 1120.1060 - 2nd_loss: 2.0106 - tf.clip_by_value_3_loss: 192.3594 - tf.math.reduce_sum_3_loss: 419.1046 - tf.math.multiply_7_loss: 506.5964\n",
      "Epoch 49/400\n",
      "1/1 [==============================] - 0s 55ms/step - loss: 1106.0894 - 2nd_loss: 2.0186 - tf.clip_by_value_3_loss: 179.4863 - tf.math.reduce_sum_3_loss: 417.1397 - tf.math.multiply_7_loss: 507.4098\n",
      "Epoch 50/400\n",
      "1/1 [==============================] - 0s 63ms/step - loss: 1092.5908 - 2nd_loss: 2.0063 - tf.clip_by_value_3_loss: 186.3057 - tf.math.reduce_sum_3_loss: 405.3550 - tf.math.multiply_7_loss: 498.8889\n",
      "Epoch 51/400\n",
      "1/1 [==============================] - 0s 61ms/step - loss: 1079.5492 - 2nd_loss: 2.0136 - tf.clip_by_value_3_loss: 174.6679 - tf.math.reduce_sum_3_loss: 403.3524 - tf.math.multiply_7_loss: 499.4803\n",
      "Epoch 52/400\n",
      "1/1 [==============================] - 0s 59ms/step - loss: 1067.0170 - 2nd_loss: 2.0039 - tf.clip_by_value_3_loss: 181.0730 - tf.math.reduce_sum_3_loss: 392.4292 - tf.math.multiply_7_loss: 491.4758\n",
      "Epoch 53/400\n",
      "1/1 [==============================] - 0s 58ms/step - loss: 1054.9738 - 2nd_loss: 2.0116 - tf.clip_by_value_3_loss: 170.0712 - tf.math.reduce_sum_3_loss: 390.7225 - tf.math.multiply_7_loss: 492.1334\n",
      "Epoch 54/400\n",
      "1/1 [==============================] - 0s 57ms/step - loss: 1043.3334 - 2nd_loss: 2.0032 - tf.clip_by_value_3_loss: 176.5018 - tf.math.reduce_sum_3_loss: 380.3818 - tf.math.multiply_7_loss: 484.4116\n",
      "Epoch 55/400\n",
      "1/1 [==============================] - 0s 57ms/step - loss: 1032.1074 - 2nd_loss: 2.0110 - tf.clip_by_value_3_loss: 166.0256 - tf.math.reduce_sum_3_loss: 378.8959 - tf.math.multiply_7_loss: 485.1398\n",
      "Epoch 56/400\n",
      "1/1 [==============================] - 0s 55ms/step - loss: 1021.3329 - 2nd_loss: 2.0040 - tf.clip_by_value_3_loss: 172.8278 - tf.math.reduce_sum_3_loss: 368.9431 - tf.math.multiply_7_loss: 477.5230\n",
      "Epoch 57/400\n",
      "1/1 [==============================] - 0s 57ms/step - loss: 1010.9897 - 2nd_loss: 2.0135 - tf.clip_by_value_3_loss: 162.0243 - tf.math.reduce_sum_3_loss: 368.1741 - tf.math.multiply_7_loss: 478.7428\n",
      "Epoch 58/400\n",
      "1/1 [==============================] - 0s 57ms/step - loss: 1000.8807 - 2nd_loss: 2.0061 - tf.clip_by_value_3_loss: 169.4496 - tf.math.reduce_sum_3_loss: 358.3593 - tf.math.multiply_7_loss: 471.0305\n",
      "Epoch 59/400\n",
      "1/1 [==============================] - 0s 60ms/step - loss: 991.0217 - 2nd_loss: 2.0149 - tf.clip_by_value_3_loss: 158.7095 - tf.math.reduce_sum_3_loss: 357.8500 - tf.math.multiply_7_loss: 472.4121\n",
      "Epoch 60/400\n",
      "1/1 [==============================] - 0s 59ms/step - loss: 981.3741 - 2nd_loss: 2.0074 - tf.clip_by_value_3_loss: 166.2634 - tf.math.reduce_sum_3_loss: 348.3084 - tf.math.multiply_7_loss: 464.7598\n",
      "Epoch 61/400\n",
      "1/1 [==============================] - 0s 60ms/step - loss: 972.2155 - 2nd_loss: 2.0181 - tf.clip_by_value_3_loss: 155.3696 - tf.math.reduce_sum_3_loss: 348.2798 - tf.math.multiply_7_loss: 466.5127\n",
      "Epoch 62/400\n",
      "1/1 [==============================] - 0s 65ms/step - loss: 963.2946 - 2nd_loss: 2.0116 - tf.clip_by_value_3_loss: 164.0253 - tf.math.reduce_sum_3_loss: 338.6394 - tf.math.multiply_7_loss: 458.5830\n",
      "Epoch 63/400\n",
      "1/1 [==============================] - 0s 64ms/step - loss: 954.6090 - 2nd_loss: 2.0237 - tf.clip_by_value_3_loss: 152.4167 - tf.math.reduce_sum_3_loss: 339.2529 - tf.math.multiply_7_loss: 460.8805\n",
      "Epoch 64/400\n",
      "1/1 [==============================] - 0s 61ms/step - loss: 945.9861 - 2nd_loss: 2.0148 - tf.clip_by_value_3_loss: 161.5202 - tf.math.reduce_sum_3_loss: 329.6334 - tf.math.multiply_7_loss: 452.7826\n",
      "Epoch 65/400\n",
      "1/1 [==============================] - 0s 58ms/step - loss: 937.5226 - 2nd_loss: 2.0260 - tf.clip_by_value_3_loss: 149.5131 - tf.math.reduce_sum_3_loss: 330.5973 - tf.math.multiply_7_loss: 455.3511\n",
      "Epoch 66/400\n",
      "1/1 [==============================] - 0s 61ms/step - loss: 929.1190 - 2nd_loss: 2.0148 - tf.clip_by_value_3_loss: 158.4817 - tf.math.reduce_sum_3_loss: 321.2521 - tf.math.multiply_7_loss: 447.3351\n",
      "Epoch 67/400\n",
      "1/1 [==============================] - 0s 56ms/step - loss: 920.8561 - 2nd_loss: 2.0239 - tf.clip_by_value_3_loss: 146.6854 - tf.math.reduce_sum_3_loss: 322.2426 - tf.math.multiply_7_loss: 449.8690\n",
      "Epoch 68/400\n",
      "1/1 [==============================] - 0s 59ms/step - loss: 912.5038 - 2nd_loss: 2.0119 - tf.clip_by_value_3_loss: 154.7807 - tf.math.reduce_sum_3_loss: 313.4395 - tf.math.multiply_7_loss: 442.2364\n",
      "Epoch 69/400\n",
      "1/1 [==============================] - 0s 58ms/step - loss: 904.4250 - 2nd_loss: 2.0190 - tf.clip_by_value_3_loss: 143.6365 - tf.math.reduce_sum_3_loss: 314.2294 - tf.math.multiply_7_loss: 444.5049\n",
      "Epoch 70/400\n",
      "1/1 [==============================] - 0s 60ms/step - loss: 896.3347 - 2nd_loss: 2.0078 - tf.clip_by_value_3_loss: 150.9916 - tf.math.reduce_sum_3_loss: 305.9919 - tf.math.multiply_7_loss: 437.3081\n",
      "Epoch 71/400\n",
      "1/1 [==============================] - 0s 60ms/step - loss: 888.5637 - 2nd_loss: 2.0134 - tf.clip_by_value_3_loss: 140.5987 - tf.math.reduce_sum_3_loss: 306.5970 - tf.math.multiply_7_loss: 439.3192\n",
      "Epoch 72/400\n",
      "1/1 [==============================] - 0s 57ms/step - loss: 880.8658 - 2nd_loss: 2.0039 - tf.clip_by_value_3_loss: 147.3266 - tf.math.reduce_sum_3_loss: 298.9213 - tf.math.multiply_7_loss: 432.5787\n",
      "Epoch 73/400\n",
      "1/1 [==============================] - 0s 58ms/step - loss: 873.4275 - 2nd_loss: 2.0085 - tf.clip_by_value_3_loss: 137.8073 - tf.math.reduce_sum_3_loss: 299.2878 - tf.math.multiply_7_loss: 434.2884\n",
      "Epoch 74/400\n",
      "1/1 [==============================] - 0s 57ms/step - loss: 866.1166 - 2nd_loss: 2.0004 - tf.clip_by_value_3_loss: 143.9206 - tf.math.reduce_sum_3_loss: 292.1640 - tf.math.multiply_7_loss: 427.9960\n",
      "Epoch 75/400\n",
      "1/1 [==============================] - 0s 60ms/step - loss: 859.0360 - 2nd_loss: 2.0045 - tf.clip_by_value_3_loss: 135.2293 - tf.math.reduce_sum_3_loss: 292.3279 - tf.math.multiply_7_loss: 429.4388\n",
      "Epoch 76/400\n",
      "1/1 [==============================] - 0s 59ms/step - loss: 852.1326 - 2nd_loss: 1.9980 - tf.clip_by_value_3_loss: 140.9060 - tf.math.reduce_sum_3_loss: 285.6709 - tf.math.multiply_7_loss: 423.5224\n",
      "Epoch 77/400\n"
     ]
    },
    {
     "name": "stdout",
     "output_type": "stream",
     "text": [
      "1/1 [==============================] - 0s 58ms/step - loss: 845.4656 - 2nd_loss: 2.0026 - tf.clip_by_value_3_loss: 132.7319 - tf.math.reduce_sum_3_loss: 285.8125 - tf.math.multiply_7_loss: 424.8830\n",
      "Epoch 78/400\n",
      "1/1 [==============================] - 0s 58ms/step - loss: 838.9559 - 2nd_loss: 1.9973 - tf.clip_by_value_3_loss: 138.4376 - tf.math.reduce_sum_3_loss: 279.3814 - tf.math.multiply_7_loss: 419.1041\n",
      "Epoch 79/400\n",
      "1/1 [==============================] - 0s 59ms/step - loss: 832.6631 - 2nd_loss: 2.0018 - tf.clip_by_value_3_loss: 130.6064 - tf.math.reduce_sum_3_loss: 279.5618 - tf.math.multiply_7_loss: 420.4576\n",
      "Epoch 80/400\n",
      "1/1 [==============================] - 0s 55ms/step - loss: 826.4432 - 2nd_loss: 1.9968 - tf.clip_by_value_3_loss: 136.1278 - tf.math.reduce_sum_3_loss: 273.4151 - tf.math.multiply_7_loss: 414.8680\n",
      "Epoch 81/400\n",
      "1/1 [==============================] - 0s 58ms/step - loss: 820.3938 - 2nd_loss: 2.0014 - tf.clip_by_value_3_loss: 128.5982 - tf.math.reduce_sum_3_loss: 273.5827 - tf.math.multiply_7_loss: 416.1758\n",
      "Epoch 82/400\n",
      "1/1 [==============================] - 0s 60ms/step - loss: 814.4901 - 2nd_loss: 1.9972 - tf.clip_by_value_3_loss: 134.2175 - tf.math.reduce_sum_3_loss: 267.5890 - tf.math.multiply_7_loss: 410.6508\n",
      "Epoch 83/400\n",
      "1/1 [==============================] - 0s 60ms/step - loss: 808.7833 - 2nd_loss: 2.0030 - tf.clip_by_value_3_loss: 126.5956 - tf.math.reduce_sum_3_loss: 267.9876 - tf.math.multiply_7_loss: 412.1615\n",
      "Epoch 84/400\n",
      "1/1 [==============================] - 0s 58ms/step - loss: 803.5598 - 2nd_loss: 1.9998 - tf.clip_by_value_3_loss: 133.1821 - tf.math.reduce_sum_3_loss: 261.8975 - tf.math.multiply_7_loss: 406.4447\n",
      "Epoch 85/400\n",
      "1/1 [==============================] - 0s 58ms/step - loss: 798.1989 - 2nd_loss: 2.0078 - tf.clip_by_value_3_loss: 124.8911 - tf.math.reduce_sum_3_loss: 262.8089 - tf.math.multiply_7_loss: 408.4553\n",
      "Epoch 86/400\n",
      "1/1 [==============================] - 0s 58ms/step - loss: 793.0207 - 2nd_loss: 2.0038 - tf.clip_by_value_3_loss: 131.9867 - tf.math.reduce_sum_3_loss: 256.5445 - tf.math.multiply_7_loss: 402.4501\n",
      "Epoch 87/400\n",
      "1/1 [==============================] - 0s 57ms/step - loss: 788.0198 - 2nd_loss: 2.0118 - tf.clip_by_value_3_loss: 123.5870 - tf.math.reduce_sum_3_loss: 257.6877 - tf.math.multiply_7_loss: 404.6976\n",
      "Epoch 88/400\n",
      "1/1 [==============================] - 0s 61ms/step - loss: 782.9319 - 2nd_loss: 2.0069 - tf.clip_by_value_3_loss: 130.9149 - tf.math.reduce_sum_3_loss: 251.4023 - tf.math.multiply_7_loss: 398.5722\n",
      "Epoch 89/400\n",
      "1/1 [==============================] - 0s 56ms/step - loss: 777.9629 - 2nd_loss: 2.0145 - tf.clip_by_value_3_loss: 122.2329 - tf.math.reduce_sum_3_loss: 252.7071 - tf.math.multiply_7_loss: 400.9727\n",
      "Epoch 90/400\n",
      "1/1 [==============================] - 0s 58ms/step - loss: 772.7969 - 2nd_loss: 2.0074 - tf.clip_by_value_3_loss: 129.2490 - tf.math.reduce_sum_3_loss: 246.5789 - tf.math.multiply_7_loss: 394.9259\n",
      "Epoch 91/400\n",
      "1/1 [==============================] - 0s 63ms/step - loss: 767.7388 - 2nd_loss: 2.0144 - tf.clip_by_value_3_loss: 120.5098 - tf.math.reduce_sum_3_loss: 247.8735 - tf.math.multiply_7_loss: 397.3053\n",
      "Epoch 92/400\n",
      "1/1 [==============================] - 0s 57ms/step - loss: 762.6426 - 2nd_loss: 2.0067 - tf.clip_by_value_3_loss: 127.3085 - tf.math.reduce_sum_3_loss: 241.9203 - tf.math.multiply_7_loss: 391.3713\n",
      "Epoch 93/400\n",
      "1/1 [==============================] - 0s 56ms/step - loss: 757.6254 - 2nd_loss: 2.0124 - tf.clip_by_value_3_loss: 118.7861 - tf.math.reduce_sum_3_loss: 243.1384 - tf.math.multiply_7_loss: 393.6527\n",
      "Epoch 94/400\n",
      "1/1 [==============================] - 0s 60ms/step - loss: 752.6243 - 2nd_loss: 2.0047 - tf.clip_by_value_3_loss: 125.2187 - tf.math.reduce_sum_3_loss: 237.4406 - tf.math.multiply_7_loss: 387.9246\n",
      "Epoch 95/400\n",
      "1/1 [==============================] - 0s 55ms/step - loss: 747.7147 - 2nd_loss: 2.0098 - tf.clip_by_value_3_loss: 116.9901 - tf.math.reduce_sum_3_loss: 238.5819 - tf.math.multiply_7_loss: 390.0970\n",
      "Epoch 96/400\n",
      "1/1 [==============================] - 0s 58ms/step - loss: 742.8718 - 2nd_loss: 2.0027 - tf.clip_by_value_3_loss: 123.1286 - tf.math.reduce_sum_3_loss: 233.1302 - tf.math.multiply_7_loss: 384.5744\n",
      "Epoch 97/400\n",
      "1/1 [==============================] - 0s 55ms/step - loss: 738.1328 - 2nd_loss: 2.0083 - tf.clip_by_value_3_loss: 115.0939 - tf.math.reduce_sum_3_loss: 234.2702 - tf.math.multiply_7_loss: 386.7246\n",
      "Epoch 98/400\n",
      "1/1 [==============================] - 0s 58ms/step - loss: 733.4100 - 2nd_loss: 2.0013 - tf.clip_by_value_3_loss: 121.0219 - tf.math.reduce_sum_3_loss: 229.0057 - tf.math.multiply_7_loss: 381.3451\n",
      "Epoch 99/400\n",
      "1/1 [==============================] - 0s 54ms/step - loss: 728.8715 - 2nd_loss: 2.0056 - tf.clip_by_value_3_loss: 113.5583 - tf.math.reduce_sum_3_loss: 229.9746 - tf.math.multiply_7_loss: 383.2970\n",
      "Epoch 100/400\n",
      "1/1 [==============================] - 0s 56ms/step - loss: 724.2141 - 2nd_loss: 1.9987 - tf.clip_by_value_3_loss: 118.8761 - tf.math.reduce_sum_3_loss: 225.0622 - tf.math.multiply_7_loss: 378.2411\n",
      "Epoch 101/400\n",
      "1/1 [==============================] - 0s 61ms/step - loss: 719.7212 - 2nd_loss: 2.0021 - tf.clip_by_value_3_loss: 111.9873 - tf.math.reduce_sum_3_loss: 225.7868 - tf.math.multiply_7_loss: 379.9090\n",
      "Epoch 102/400\n",
      "1/1 [==============================] - 0s 61ms/step - loss: 715.2484 - 2nd_loss: 1.9962 - tf.clip_by_value_3_loss: 116.7845 - tf.math.reduce_sum_3_loss: 221.2342 - tf.math.multiply_7_loss: 375.1975\n",
      "Epoch 103/400\n",
      "1/1 [==============================] - 0s 58ms/step - loss: 710.8708 - 2nd_loss: 1.9995 - tf.clip_by_value_3_loss: 110.3181 - tf.math.reduce_sum_3_loss: 221.8272 - tf.math.multiply_7_loss: 376.6901\n",
      "Epoch 104/400\n",
      "1/1 [==============================] - 0s 59ms/step - loss: 706.6050 - 2nd_loss: 1.9948 - tf.clip_by_value_3_loss: 115.0066 - tf.math.reduce_sum_3_loss: 217.4409 - tf.math.multiply_7_loss: 372.1266\n",
      "Epoch 105/400\n",
      "1/1 [==============================] - 0s 59ms/step - loss: 702.4507 - 2nd_loss: 1.9980 - tf.clip_by_value_3_loss: 108.8574 - tf.math.reduce_sum_3_loss: 218.0040 - tf.math.multiply_7_loss: 373.5552\n",
      "Epoch 106/400\n",
      "1/1 [==============================] - 0s 56ms/step - loss: 698.4665 - 2nd_loss: 1.9941 - tf.clip_by_value_3_loss: 113.5410 - tf.math.reduce_sum_3_loss: 213.7770 - tf.math.multiply_7_loss: 369.1184\n",
      "Epoch 107/400\n",
      "1/1 [==============================] - 0s 58ms/step - loss: 694.5952 - 2nd_loss: 1.9985 - tf.clip_by_value_3_loss: 107.4704 - tf.math.reduce_sum_3_loss: 214.4459 - tf.math.multiply_7_loss: 370.6443\n",
      "Epoch 108/400\n",
      "1/1 [==============================] - 0s 56ms/step - loss: 690.8167 - 2nd_loss: 1.9952 - tf.clip_by_value_3_loss: 112.4617 - tf.math.reduce_sum_3_loss: 210.1957 - tf.math.multiply_7_loss: 366.1282\n",
      "Epoch 109/400\n",
      "1/1 [==============================] - 0s 61ms/step - loss: 687.1386 - 2nd_loss: 1.9993 - tf.clip_by_value_3_loss: 106.4960 - tf.math.reduce_sum_3_loss: 210.9090 - tf.math.multiply_7_loss: 367.6981\n",
      "Epoch 110/400\n",
      "1/1 [==============================] - 0s 58ms/step - loss: 683.5583 - 2nd_loss: 1.9957 - tf.clip_by_value_3_loss: 111.4286 - tf.math.reduce_sum_3_loss: 206.8080 - tf.math.multiply_7_loss: 363.2900\n",
      "Epoch 111/400\n",
      "1/1 [==============================] - 0s 59ms/step - loss: 680.0957 - 2nd_loss: 2.0010 - tf.clip_by_value_3_loss: 105.5758 - tf.math.reduce_sum_3_loss: 207.5676 - tf.math.multiply_7_loss: 364.9152\n",
      "Epoch 112/400\n",
      "1/1 [==============================] - 0s 61ms/step - loss: 676.7026 - 2nd_loss: 1.9973 - tf.clip_by_value_3_loss: 110.6485 - tf.math.reduce_sum_3_loss: 203.5174 - tf.math.multiply_7_loss: 360.5032\n",
      "Epoch 113/400\n",
      "1/1 [==============================] - 0s 54ms/step - loss: 673.4123 - 2nd_loss: 2.0025 - tf.clip_by_value_3_loss: 104.9994 - tf.math.reduce_sum_3_loss: 204.2566 - tf.math.multiply_7_loss: 362.1177\n",
      "Epoch 114/400\n",
      "1/1 [==============================] - 0s 57ms/step - loss: 670.7379 - 2nd_loss: 2.0001 - tf.clip_by_value_3_loss: 110.7573 - tf.math.reduce_sum_3_loss: 200.2517 - tf.math.multiply_7_loss: 357.6926\n",
      "Epoch 115/400\n",
      "1/1 [==============================] - 0s 58ms/step - loss: 667.5189 - 2nd_loss: 2.0078 - tf.clip_by_value_3_loss: 104.6411 - tf.math.reduce_sum_3_loss: 201.2392 - tf.math.multiply_7_loss: 359.5946\n",
      "Epoch 116/400\n",
      "1/1 [==============================] - 0s 56ms/step - loss: 664.3226 - 2nd_loss: 2.0028 - tf.clip_by_value_3_loss: 110.0565 - tf.math.reduce_sum_3_loss: 197.1838 - tf.math.multiply_7_loss: 355.0432\n",
      "Epoch 117/400\n",
      "1/1 [==============================] - 0s 53ms/step - loss: 661.1456 - 2nd_loss: 2.0090 - tf.clip_by_value_3_loss: 104.1260 - tf.math.reduce_sum_3_loss: 198.0893 - tf.math.multiply_7_loss: 356.8851\n",
      "Epoch 118/400\n",
      "1/1 [==============================] - 0s 56ms/step - loss: 657.9202 - 2nd_loss: 2.0036 - tf.clip_by_value_3_loss: 109.3207 - tf.math.reduce_sum_3_loss: 194.1532 - tf.math.multiply_7_loss: 352.4065\n",
      "Epoch 119/400\n",
      "1/1 [==============================] - 0s 59ms/step - loss: 654.6996 - 2nd_loss: 2.0107 - tf.clip_by_value_3_loss: 103.0732 - tf.math.reduce_sum_3_loss: 195.1851 - tf.math.multiply_7_loss: 354.3943\n",
      "Epoch 120/400\n",
      "1/1 [==============================] - 0s 59ms/step - loss: 651.0048 - 2nd_loss: 2.0039 - tf.clip_by_value_3_loss: 107.7278 - tf.math.reduce_sum_3_loss: 191.3012 - tf.math.multiply_7_loss: 349.9355\n",
      "Epoch 121/400\n",
      "1/1 [==============================] - 0s 57ms/step - loss: 647.3885 - 2nd_loss: 2.0065 - tf.clip_by_value_3_loss: 101.8375 - tf.math.reduce_sum_3_loss: 191.9873 - tf.math.multiply_7_loss: 351.5209\n",
      "Epoch 122/400\n",
      "1/1 [==============================] - 0s 60ms/step - loss: 643.7175 - 2nd_loss: 1.9985 - tf.clip_by_value_3_loss: 105.4654 - tf.math.reduce_sum_3_loss: 188.6063 - tf.math.multiply_7_loss: 347.6109\n",
      "Epoch 123/400\n",
      "1/1 [==============================] - 0s 58ms/step - loss: 640.0715 - 2nd_loss: 2.0006 - tf.clip_by_value_3_loss: 100.4642 - tf.math.reduce_sum_3_loss: 188.8731 - tf.math.multiply_7_loss: 348.6974\n",
      "Epoch 124/400\n",
      "1/1 [==============================] - 0s 60ms/step - loss: 636.4943 - 2nd_loss: 1.9939 - tf.clip_by_value_3_loss: 103.2824 - tf.math.reduce_sum_3_loss: 185.9208 - tf.math.multiply_7_loss: 345.2608\n",
      "Epoch 125/400\n",
      "1/1 [==============================] - 0s 58ms/step - loss: 633.0001 - 2nd_loss: 1.9967 - tf.clip_by_value_3_loss: 98.7736 - tf.math.reduce_sum_3_loss: 186.0418 - tf.math.multiply_7_loss: 346.1516\n",
      "Epoch 126/400\n",
      "1/1 [==============================] - 0s 53ms/step - loss: 629.5521 - 2nd_loss: 1.9914 - tf.clip_by_value_3_loss: 101.3291 - tf.math.reduce_sum_3_loss: 183.2753 - tf.math.multiply_7_loss: 342.9199\n",
      "Epoch 127/400\n",
      "1/1 [==============================] - 0s 56ms/step - loss: 626.2123 - 2nd_loss: 1.9929 - tf.clip_by_value_3_loss: 97.4717 - tf.math.reduce_sum_3_loss: 183.1790 - tf.math.multiply_7_loss: 343.5322\n",
      "Epoch 128/400\n",
      "1/1 [==============================] - 0s 60ms/step - loss: 622.9521 - 2nd_loss: 1.9887 - tf.clip_by_value_3_loss: 99.6349 - tf.math.reduce_sum_3_loss: 180.6863 - tf.math.multiply_7_loss: 340.6057\n",
      "Epoch 129/400\n",
      "1/1 [==============================] - 0s 57ms/step - loss: 619.8065 - 2nd_loss: 1.9906 - tf.clip_by_value_3_loss: 96.2779 - tf.math.reduce_sum_3_loss: 180.4585 - tf.math.multiply_7_loss: 341.0430\n",
      "Epoch 130/400\n",
      "1/1 [==============================] - 0s 54ms/step - loss: 616.7859 - 2nd_loss: 1.9872 - tf.clip_by_value_3_loss: 98.2652 - tf.math.reduce_sum_3_loss: 178.1657 - tf.math.multiply_7_loss: 338.3311\n",
      "Epoch 131/400\n",
      "1/1 [==============================] - 0s 58ms/step - loss: 613.8425 - 2nd_loss: 1.9891 - tf.clip_by_value_3_loss: 95.3995 - tf.math.reduce_sum_3_loss: 177.8112 - tf.math.multiply_7_loss: 338.6063\n",
      "Epoch 132/400\n",
      "1/1 [==============================] - 0s 61ms/step - loss: 610.9758 - 2nd_loss: 1.9866 - tf.clip_by_value_3_loss: 97.2390 - tf.math.reduce_sum_3_loss: 175.6681 - tf.math.multiply_7_loss: 336.0456\n",
      "Epoch 133/400\n",
      "1/1 [==============================] - 0s 60ms/step - loss: 608.1848 - 2nd_loss: 1.9889 - tf.clip_by_value_3_loss: 94.6157 - tf.math.reduce_sum_3_loss: 175.2755 - tf.math.multiply_7_loss: 336.2681\n",
      "Epoch 134/400\n",
      "1/1 [==============================] - 0s 58ms/step - loss: 605.4781 - 2nd_loss: 1.9868 - tf.clip_by_value_3_loss: 96.5504 - tf.math.reduce_sum_3_loss: 173.1745 - tf.math.multiply_7_loss: 333.7299\n",
      "Epoch 135/400\n",
      "1/1 [==============================] - 0s 58ms/step - loss: 602.8740 - 2nd_loss: 1.9900 - tf.clip_by_value_3_loss: 93.9001 - tf.math.reduce_sum_3_loss: 172.8830 - tf.math.multiply_7_loss: 334.0643\n",
      "Epoch 136/400\n",
      "1/1 [==============================] - 0s 61ms/step - loss: 600.0807 - 2nd_loss: 1.9878 - tf.clip_by_value_3_loss: 95.8529 - tf.math.reduce_sum_3_loss: 170.7440 - tf.math.multiply_7_loss: 331.4594\n",
      "Epoch 137/400\n",
      "1/1 [==============================] - 0s 65ms/step - loss: 597.5501 - 2nd_loss: 1.9907 - tf.clip_by_value_3_loss: 93.1302 - tf.math.reduce_sum_3_loss: 170.5260 - tf.math.multiply_7_loss: 331.8666\n",
      "Epoch 138/400\n",
      "1/1 [==============================] - 0s 61ms/step - loss: 594.8659 - 2nd_loss: 1.9891 - tf.clip_by_value_3_loss: 95.4109 - tf.math.reduce_sum_3_loss: 168.2950 - tf.math.multiply_7_loss: 329.1343\n",
      "Epoch 139/400\n",
      "1/1 [==============================] - 0s 62ms/step - loss: 592.3897 - 2nd_loss: 1.9935 - tf.clip_by_value_3_loss: 92.0858 - tf.math.reduce_sum_3_loss: 168.3829 - tf.math.multiply_7_loss: 329.8909\n",
      "Epoch 140/400\n",
      "1/1 [==============================] - 0s 62ms/step - loss: 589.8033 - 2nd_loss: 1.9919 - tf.clip_by_value_3_loss: 95.0677 - tf.math.reduce_sum_3_loss: 165.8859 - tf.math.multiply_7_loss: 326.8212\n",
      "Epoch 141/400\n",
      "1/1 [==============================] - 0s 57ms/step - loss: 587.4382 - 2nd_loss: 1.9956 - tf.clip_by_value_3_loss: 91.4993 - tf.math.reduce_sum_3_loss: 166.1382 - tf.math.multiply_7_loss: 327.7684\n",
      "Epoch 142/400\n",
      "1/1 [==============================] - 0s 59ms/step - loss: 584.9777 - 2nd_loss: 1.9934 - tf.clip_by_value_3_loss: 94.7794 - tf.math.reduce_sum_3_loss: 163.5740 - tf.math.multiply_7_loss: 324.5942\n",
      "Epoch 143/400\n",
      "1/1 [==============================] - 0s 57ms/step - loss: 582.6256 - 2nd_loss: 1.9982 - tf.clip_by_value_3_loss: 90.8069 - tf.math.reduce_sum_3_loss: 164.0166 - tf.math.multiply_7_loss: 325.7671\n",
      "Epoch 144/400\n",
      "1/1 [==============================] - 0s 56ms/step - loss: 580.2981 - 2nd_loss: 1.9956 - tf.clip_by_value_3_loss: 94.4797 - tf.math.reduce_sum_3_loss: 161.3478 - tf.math.multiply_7_loss: 322.4383\n",
      "Epoch 145/400\n",
      "1/1 [==============================] - 0s 59ms/step - loss: 578.0314 - 2nd_loss: 2.0000 - tf.clip_by_value_3_loss: 90.5116 - tf.math.reduce_sum_3_loss: 161.8256 - tf.math.multiply_7_loss: 323.6575\n",
      "Epoch 146/400\n",
      "1/1 [==============================] - 0s 59ms/step - loss: 575.7966 - 2nd_loss: 1.9966 - tf.clip_by_value_3_loss: 94.1556 - tf.math.reduce_sum_3_loss: 159.2283 - tf.math.multiply_7_loss: 320.3793\n",
      "Epoch 147/400\n",
      "1/1 [==============================] - 0s 61ms/step - loss: 573.6022 - 2nd_loss: 2.0017 - tf.clip_by_value_3_loss: 90.1963 - tf.math.reduce_sum_3_loss: 159.7299 - tf.math.multiply_7_loss: 321.6375\n",
      "Epoch 148/400\n",
      "1/1 [==============================] - 0s 59ms/step - loss: 571.4007 - 2nd_loss: 1.9983 - tf.clip_by_value_3_loss: 93.9626 - tf.math.reduce_sum_3_loss: 157.1085 - tf.math.multiply_7_loss: 318.2945\n",
      "Epoch 149/400\n",
      "1/1 [==============================] - 0s 63ms/step - loss: 569.2529 - 2nd_loss: 2.0036 - tf.clip_by_value_3_loss: 89.8920 - tf.math.reduce_sum_3_loss: 157.6784 - tf.math.multiply_7_loss: 319.6421\n",
      "Epoch 150/400\n",
      "1/1 [==============================] - 0s 59ms/step - loss: 567.3489 - 2nd_loss: 2.0006 - tf.clip_by_value_3_loss: 94.0835 - tf.math.reduce_sum_3_loss: 155.0150 - tf.math.multiply_7_loss: 316.2130\n",
      "Epoch 151/400\n",
      "1/1 [==============================] - 0s 57ms/step - loss: 565.3353 - 2nd_loss: 2.0083 - tf.clip_by_value_3_loss: 89.6179 - tf.math.reduce_sum_3_loss: 155.8146 - tf.math.multiply_7_loss: 317.8576\n",
      "Epoch 152/400\n",
      "1/1 [==============================] - 0s 60ms/step - loss: 563.0990 - 2nd_loss: 2.0039 - tf.clip_by_value_3_loss: 93.8644 - tf.math.reduce_sum_3_loss: 152.9981 - tf.math.multiply_7_loss: 314.1957\n",
      "Epoch 153/400\n"
     ]
    },
    {
     "name": "stdout",
     "output_type": "stream",
     "text": [
      "1/1 [==============================] - 0s 60ms/step - loss: 560.9166 - 2nd_loss: 2.0095 - tf.clip_by_value_3_loss: 89.1842 - tf.math.reduce_sum_3_loss: 153.8146 - tf.math.multiply_7_loss: 315.8715\n",
      "Epoch 154/400\n",
      "1/1 [==============================] - 0s 64ms/step - loss: 558.6340 - 2nd_loss: 2.0035 - tf.clip_by_value_3_loss: 93.2211 - tf.math.reduce_sum_3_loss: 151.0827 - tf.math.multiply_7_loss: 312.2899\n",
      "Epoch 155/400\n",
      "1/1 [==============================] - 0s 61ms/step - loss: 556.3585 - 2nd_loss: 2.0090 - tf.clip_by_value_3_loss: 88.5445 - tf.math.reduce_sum_3_loss: 151.8555 - tf.math.multiply_7_loss: 313.9127\n",
      "Epoch 156/400\n",
      "1/1 [==============================] - 0s 58ms/step - loss: 553.9594 - 2nd_loss: 2.0018 - tf.clip_by_value_3_loss: 92.1173 - tf.math.reduce_sum_3_loss: 149.2887 - tf.math.multiply_7_loss: 310.5145\n",
      "Epoch 157/400\n",
      "1/1 [==============================] - 0s 59ms/step - loss: 551.5478 - 2nd_loss: 2.0052 - tf.clip_by_value_3_loss: 87.8022 - tf.math.reduce_sum_3_loss: 149.8456 - tf.math.multiply_7_loss: 311.8578\n",
      "Epoch 158/400\n",
      "1/1 [==============================] - 0s 58ms/step - loss: 549.0721 - 2nd_loss: 1.9988 - tf.clip_by_value_3_loss: 90.7971 - tf.math.reduce_sum_3_loss: 147.5058 - tf.math.multiply_7_loss: 308.7335\n",
      "Epoch 159/400\n",
      "1/1 [==============================] - 0s 56ms/step - loss: 546.5812 - 2nd_loss: 2.0024 - tf.clip_by_value_3_loss: 86.6283 - tf.math.reduce_sum_3_loss: 147.9681 - tf.math.multiply_7_loss: 309.9455\n",
      "Epoch 160/400\n",
      "1/1 [==============================] - 0s 56ms/step - loss: 544.1406 - 2nd_loss: 1.9966 - tf.clip_by_value_3_loss: 89.3987 - tf.math.reduce_sum_3_loss: 145.7462 - tf.math.multiply_7_loss: 306.9622\n",
      "Epoch 161/400\n",
      "1/1 [==============================] - 0s 62ms/step - loss: 541.7418 - 2nd_loss: 1.9986 - tf.clip_by_value_3_loss: 85.7355 - tf.math.reduce_sum_3_loss: 146.0340 - tf.math.multiply_7_loss: 307.9368\n",
      "Epoch 162/400\n",
      "1/1 [==============================] - 0s 59ms/step - loss: 539.3733 - 2nd_loss: 1.9932 - tf.clip_by_value_3_loss: 87.9725 - tf.math.reduce_sum_3_loss: 144.0822 - tf.math.multiply_7_loss: 305.2885\n",
      "Epoch 163/400\n",
      "1/1 [==============================] - 0s 59ms/step - loss: 537.0167 - 2nd_loss: 1.9955 - tf.clip_by_value_3_loss: 84.7417 - tf.math.reduce_sum_3_loss: 144.1994 - tf.math.multiply_7_loss: 306.0432\n",
      "Epoch 164/400\n",
      "1/1 [==============================] - 0s 58ms/step - loss: 534.7086 - 2nd_loss: 1.9911 - tf.clip_by_value_3_loss: 86.6569 - tf.math.reduce_sum_3_loss: 142.4241 - tf.math.multiply_7_loss: 303.5996\n",
      "Epoch 165/400\n",
      "1/1 [==============================] - 0s 59ms/step - loss: 532.4543 - 2nd_loss: 1.9922 - tf.clip_by_value_3_loss: 84.0432 - tf.math.reduce_sum_3_loss: 142.3190 - tf.math.multiply_7_loss: 304.0629\n",
      "Epoch 166/400\n",
      "1/1 [==============================] - 0s 61ms/step - loss: 530.2301 - 2nd_loss: 1.9884 - tf.clip_by_value_3_loss: 85.4741 - tf.math.reduce_sum_3_loss: 140.7982 - tf.math.multiply_7_loss: 301.9324\n",
      "Epoch 167/400\n",
      "1/1 [==============================] - 0s 58ms/step - loss: 528.0531 - 2nd_loss: 1.9904 - tf.clip_by_value_3_loss: 83.1759 - tf.math.reduce_sum_3_loss: 140.5892 - tf.math.multiply_7_loss: 302.2606\n",
      "Epoch 168/400\n",
      "1/1 [==============================] - 0s 57ms/step - loss: 525.9246 - 2nd_loss: 1.9873 - tf.clip_by_value_3_loss: 84.4384 - tf.math.reduce_sum_3_loss: 139.1931 - tf.math.multiply_7_loss: 300.2687\n",
      "Epoch 169/400\n",
      "1/1 [==============================] - 0s 62ms/step - loss: 523.8778 - 2nd_loss: 1.9885 - tf.clip_by_value_3_loss: 82.6575 - tf.math.reduce_sum_3_loss: 138.8145 - tf.math.multiply_7_loss: 300.3802\n",
      "Epoch 170/400\n",
      "1/1 [==============================] - 0s 59ms/step - loss: 521.8705 - 2nd_loss: 1.9856 - tf.clip_by_value_3_loss: 83.5346 - tf.math.reduce_sum_3_loss: 137.6488 - tf.math.multiply_7_loss: 298.6644\n",
      "Epoch 171/400\n",
      "1/1 [==============================] - 0s 54ms/step - loss: 519.9268 - 2nd_loss: 1.9867 - tf.clip_by_value_3_loss: 82.3013 - tf.math.reduce_sum_3_loss: 137.0766 - tf.math.multiply_7_loss: 298.5251\n",
      "Epoch 172/400\n",
      "1/1 [==============================] - 0s 58ms/step - loss: 517.9124 - 2nd_loss: 1.9847 - tf.clip_by_value_3_loss: 82.8722 - tf.math.reduce_sum_3_loss: 136.0477 - tf.math.multiply_7_loss: 296.9707\n",
      "Epoch 173/400\n",
      "1/1 [==============================] - 0s 60ms/step - loss: 515.8831 - 2nd_loss: 1.9877 - tf.clip_by_value_3_loss: 81.2033 - tf.math.reduce_sum_3_loss: 135.6287 - tf.math.multiply_7_loss: 297.0263\n",
      "Epoch 174/400\n",
      "1/1 [==============================] - 0s 56ms/step - loss: 514.0129 - 2nd_loss: 1.9863 - tf.clip_by_value_3_loss: 82.3524 - tf.math.reduce_sum_3_loss: 134.4154 - tf.math.multiply_7_loss: 295.2216\n",
      "Epoch 175/400\n",
      "1/1 [==============================] - 0s 57ms/step - loss: 512.2514 - 2nd_loss: 1.9880 - tf.clip_by_value_3_loss: 80.9972 - tf.math.reduce_sum_3_loss: 133.9821 - tf.math.multiply_7_loss: 295.2471\n",
      "Epoch 176/400\n",
      "1/1 [==============================] - 0s 60ms/step - loss: 510.4801 - 2nd_loss: 1.9860 - tf.clip_by_value_3_loss: 81.9697 - tf.math.reduce_sum_3_loss: 132.8925 - tf.math.multiply_7_loss: 293.5948\n",
      "Epoch 177/400\n",
      "1/1 [==============================] - 0s 58ms/step - loss: 508.7919 - 2nd_loss: 1.9887 - tf.clip_by_value_3_loss: 80.6644 - tf.math.reduce_sum_3_loss: 132.4690 - tf.math.multiply_7_loss: 293.6328\n",
      "Epoch 178/400\n",
      "1/1 [==============================] - 0s 63ms/step - loss: 507.1832 - 2nd_loss: 1.9872 - tf.clip_by_value_3_loss: 81.8771 - tf.math.reduce_sum_3_loss: 131.3559 - tf.math.multiply_7_loss: 291.9259\n",
      "Epoch 179/400\n",
      "1/1 [==============================] - 0s 61ms/step - loss: 505.6540 - 2nd_loss: 1.9902 - tf.clip_by_value_3_loss: 80.6068 - tf.math.reduce_sum_3_loss: 130.9828 - tf.math.multiply_7_loss: 292.0370\n",
      "Epoch 180/400\n",
      "1/1 [==============================] - 0s 60ms/step - loss: 504.0512 - 2nd_loss: 1.9888 - tf.clip_by_value_3_loss: 81.9181 - tf.math.reduce_sum_3_loss: 129.8394 - tf.math.multiply_7_loss: 290.2677\n",
      "Epoch 181/400\n",
      "1/1 [==============================] - 0s 67ms/step - loss: 502.4821 - 2nd_loss: 1.9925 - tf.clip_by_value_3_loss: 80.3901 - tf.math.reduce_sum_3_loss: 129.5605 - tf.math.multiply_7_loss: 290.5018\n",
      "Epoch 182/400\n",
      "1/1 [==============================] - 0s 60ms/step - loss: 500.9385 - 2nd_loss: 1.9909 - tf.clip_by_value_3_loss: 81.9737 - tf.math.reduce_sum_3_loss: 128.3309 - tf.math.multiply_7_loss: 288.6058\n",
      "Epoch 183/400\n",
      "1/1 [==============================] - 0s 59ms/step - loss: 499.4644 - 2nd_loss: 1.9952 - tf.clip_by_value_3_loss: 80.2115 - tf.math.reduce_sum_3_loss: 128.1923 - tf.math.multiply_7_loss: 289.0283\n",
      "Epoch 184/400\n",
      "1/1 [==============================] - 0s 61ms/step - loss: 497.9470 - 2nd_loss: 1.9933 - tf.clip_by_value_3_loss: 82.0821 - tf.math.reduce_sum_3_loss: 126.8588 - tf.math.multiply_7_loss: 286.9756\n",
      "Epoch 185/400\n",
      "1/1 [==============================] - 0s 60ms/step - loss: 496.5356 - 2nd_loss: 1.9974 - tf.clip_by_value_3_loss: 80.1953 - tf.math.reduce_sum_3_loss: 126.8040 - tf.math.multiply_7_loss: 287.5018\n",
      "Epoch 186/400\n",
      "1/1 [==============================] - 0s 61ms/step - loss: 494.7066 - 2nd_loss: 1.9946 - tf.clip_by_value_3_loss: 81.8526 - tf.math.reduce_sum_3_loss: 125.4312 - tf.math.multiply_7_loss: 285.3909\n",
      "Epoch 187/400\n",
      "1/1 [==============================] - 0s 62ms/step - loss: 493.0433 - 2nd_loss: 1.9997 - tf.clip_by_value_3_loss: 79.2885 - tf.math.reduce_sum_3_loss: 125.5606 - tf.math.multiply_7_loss: 286.1574\n",
      "Epoch 188/400\n",
      "1/1 [==============================] - 0s 57ms/step - loss: 490.7834 - 2nd_loss: 1.9963 - tf.clip_by_value_3_loss: 80.9952 - tf.math.reduce_sum_3_loss: 123.9824 - tf.math.multiply_7_loss: 283.7724\n",
      "Epoch 189/400\n",
      "1/1 [==============================] - 0s 61ms/step - loss: 488.8364 - 2nd_loss: 1.9999 - tf.clip_by_value_3_loss: 77.7487 - tf.math.reduce_sum_3_loss: 124.2989 - tf.math.multiply_7_loss: 284.7517\n",
      "Epoch 190/400\n",
      "1/1 [==============================] - 0s 57ms/step - loss: 486.5136 - 2nd_loss: 1.9960 - tf.clip_by_value_3_loss: 79.6549 - tf.math.reduce_sum_3_loss: 122.5950 - tf.math.multiply_7_loss: 282.2305\n",
      "Epoch 191/400\n",
      "1/1 [==============================] - 0s 63ms/step - loss: 484.3819 - 2nd_loss: 1.9980 - tf.clip_by_value_3_loss: 76.2607 - tf.math.reduce_sum_3_loss: 122.9151 - tf.math.multiply_7_loss: 283.1709\n",
      "Epoch 192/400\n",
      "1/1 [==============================] - 0s 62ms/step - loss: 482.2735 - 2nd_loss: 1.9934 - tf.clip_by_value_3_loss: 78.2818 - tf.math.reduce_sum_3_loss: 121.2428 - tf.math.multiply_7_loss: 280.7182\n",
      "Epoch 193/400\n",
      "1/1 [==============================] - 0s 64ms/step - loss: 480.3415 - 2nd_loss: 1.9960 - tf.clip_by_value_3_loss: 74.8891 - tf.math.reduce_sum_3_loss: 121.6613 - tf.math.multiply_7_loss: 281.7578\n",
      "Epoch 194/400\n",
      "1/1 [==============================] - 0s 59ms/step - loss: 478.3682 - 2nd_loss: 1.9927 - tf.clip_by_value_3_loss: 77.2234 - tf.math.reduce_sum_3_loss: 119.9062 - tf.math.multiply_7_loss: 279.2088\n",
      "Epoch 195/400\n",
      "1/1 [==============================] - 0s 59ms/step - loss: 476.6021 - 2nd_loss: 1.9954 - tf.clip_by_value_3_loss: 73.8363 - tf.math.reduce_sum_3_loss: 120.4045 - tf.math.multiply_7_loss: 280.3287\n",
      "Epoch 196/400\n",
      "1/1 [==============================] - 0s 59ms/step - loss: 474.6989 - 2nd_loss: 1.9922 - tf.clip_by_value_3_loss: 76.3526 - tf.math.reduce_sum_3_loss: 118.5975 - tf.math.multiply_7_loss: 277.7194\n",
      "Epoch 197/400\n",
      "1/1 [==============================] - 0s 58ms/step - loss: 472.9262 - 2nd_loss: 1.9942 - tf.clip_by_value_3_loss: 72.9783 - tf.math.reduce_sum_3_loss: 119.0931 - tf.math.multiply_7_loss: 278.8234\n",
      "Epoch 198/400\n",
      "1/1 [==============================] - 0s 55ms/step - loss: 471.1656 - 2nd_loss: 1.9904 - tf.clip_by_value_3_loss: 75.3172 - tf.math.reduce_sum_3_loss: 117.4249 - tf.math.multiply_7_loss: 276.3959\n",
      "Epoch 199/400\n",
      "1/1 [==============================] - 0s 59ms/step - loss: 469.5333 - 2nd_loss: 1.9913 - tf.clip_by_value_3_loss: 72.5836 - tf.math.reduce_sum_3_loss: 117.7110 - tf.math.multiply_7_loss: 277.2101\n",
      "Epoch 200/400\n",
      "1/1 [==============================] - 0s 61ms/step - loss: 467.9527 - 2nd_loss: 1.9876 - tf.clip_by_value_3_loss: 74.4655 - tf.math.reduce_sum_3_loss: 116.3173 - tf.math.multiply_7_loss: 275.1451\n",
      "Epoch 201/400\n",
      "1/1 [==============================] - 0s 63ms/step - loss: 466.4962 - 2nd_loss: 1.9881 - tf.clip_by_value_3_loss: 72.5541 - tf.math.reduce_sum_3_loss: 116.3272 - tf.math.multiply_7_loss: 275.5896\n",
      "Epoch 202/400\n",
      "1/1 [==============================] - 0s 60ms/step - loss: 465.1827 - 2nd_loss: 1.9851 - tf.clip_by_value_3_loss: 73.9673 - tf.math.reduce_sum_3_loss: 115.2547 - tf.math.multiply_7_loss: 273.9382\n",
      "Epoch 203/400\n",
      "1/1 [==============================] - 0s 63ms/step - loss: 463.9192 - 2nd_loss: 1.9857 - tf.clip_by_value_3_loss: 72.9098 - tf.math.reduce_sum_3_loss: 114.9790 - tf.math.multiply_7_loss: 274.0075\n",
      "Epoch 204/400\n",
      "1/1 [==============================] - 0s 61ms/step - loss: 462.7285 - 2nd_loss: 1.9836 - tf.clip_by_value_3_loss: 73.8242 - tf.math.reduce_sum_3_loss: 114.1822 - tf.math.multiply_7_loss: 272.7011\n",
      "Epoch 205/400\n",
      "1/1 [==============================] - 0s 59ms/step - loss: 461.6818 - 2nd_loss: 1.9843 - tf.clip_by_value_3_loss: 73.5767 - tf.math.reduce_sum_3_loss: 113.6483 - tf.math.multiply_7_loss: 272.4352\n",
      "Epoch 206/400\n",
      "1/1 [==============================] - 0s 63ms/step - loss: 460.5883 - 2nd_loss: 1.9825 - tf.clip_by_value_3_loss: 73.9249 - tf.math.reduce_sum_3_loss: 113.1443 - tf.math.multiply_7_loss: 271.4994\n",
      "Epoch 207/400\n",
      "1/1 [==============================] - 0s 60ms/step - loss: 459.5111 - 2nd_loss: 1.9840 - tf.clip_by_value_3_loss: 74.0105 - tf.math.reduce_sum_3_loss: 112.4467 - tf.math.multiply_7_loss: 271.0325\n",
      "Epoch 208/400\n",
      "1/1 [==============================] - 0s 60ms/step - loss: 458.4807 - 2nd_loss: 1.9830 - tf.clip_by_value_3_loss: 74.1866 - tf.math.reduce_sum_3_loss: 112.0570 - tf.math.multiply_7_loss: 270.2169\n",
      "Epoch 209/400\n",
      "1/1 [==============================] - 0s 60ms/step - loss: 457.4794 - 2nd_loss: 1.9845 - tf.clip_by_value_3_loss: 74.6118 - tf.math.reduce_sum_3_loss: 111.2395 - tf.math.multiply_7_loss: 269.6063\n",
      "Epoch 210/400\n",
      "1/1 [==============================] - 0s 59ms/step - loss: 456.3602 - 2nd_loss: 1.9840 - tf.clip_by_value_3_loss: 74.6206 - tf.math.reduce_sum_3_loss: 110.8943 - tf.math.multiply_7_loss: 268.8240\n",
      "Epoch 211/400\n",
      "1/1 [==============================] - 0s 58ms/step - loss: 455.3212 - 2nd_loss: 1.9885 - tf.clip_by_value_3_loss: 74.4395 - tf.math.reduce_sum_3_loss: 110.3058 - tf.math.multiply_7_loss: 268.5501\n",
      "Epoch 212/400\n",
      "1/1 [==============================] - 0s 58ms/step - loss: 454.0987 - 2nd_loss: 1.9883 - tf.clip_by_value_3_loss: 74.9236 - tf.math.reduce_sum_3_loss: 109.7297 - tf.math.multiply_7_loss: 267.4198\n",
      "Epoch 213/400\n",
      "1/1 [==============================] - 0s 58ms/step - loss: 453.1045 - 2nd_loss: 1.9918 - tf.clip_by_value_3_loss: 74.5967 - tf.math.reduce_sum_3_loss: 109.2195 - tf.math.multiply_7_loss: 267.2592\n",
      "Epoch 214/400\n",
      "1/1 [==============================] - 0s 59ms/step - loss: 451.3789 - 2nd_loss: 1.9901 - tf.clip_by_value_3_loss: 74.6822 - tf.math.reduce_sum_3_loss: 108.6059 - tf.math.multiply_7_loss: 266.0634\n",
      "Epoch 215/400\n",
      "1/1 [==============================] - 0s 59ms/step - loss: 450.0948 - 2nd_loss: 1.9941 - tf.clip_by_value_3_loss: 73.6729 - tf.math.reduce_sum_3_loss: 108.2570 - tf.math.multiply_7_loss: 266.1334\n",
      "Epoch 216/400\n",
      "1/1 [==============================] - 0s 58ms/step - loss: 447.1011 - 2nd_loss: 1.9905 - tf.clip_by_value_3_loss: 72.5934 - tf.math.reduce_sum_3_loss: 107.5973 - tf.math.multiply_7_loss: 264.8824\n",
      "Epoch 217/400\n",
      "1/1 [==============================] - 0s 59ms/step - loss: 444.8843 - 2nd_loss: 1.9893 - tf.clip_by_value_3_loss: 71.0502 - tf.math.reduce_sum_3_loss: 107.1136 - tf.math.multiply_7_loss: 264.6938\n",
      "Epoch 218/400\n",
      "1/1 [==============================] - 0s 66ms/step - loss: 442.0273 - 2nd_loss: 1.9848 - tf.clip_by_value_3_loss: 69.8584 - tf.math.reduce_sum_3_loss: 106.5294 - tf.math.multiply_7_loss: 263.6173\n",
      "Epoch 219/400\n",
      "1/1 [==============================] - 0s 62ms/step - loss: 439.4916 - 2nd_loss: 1.9837 - tf.clip_by_value_3_loss: 67.9942 - tf.math.reduce_sum_3_loss: 106.0733 - tf.math.multiply_7_loss: 263.4030\n",
      "Epoch 220/400\n",
      "1/1 [==============================] - 0s 59ms/step - loss: 437.0972 - 2nd_loss: 1.9806 - tf.clip_by_value_3_loss: 67.3914 - tf.math.reduce_sum_3_loss: 105.4136 - tf.math.multiply_7_loss: 262.2740\n",
      "Epoch 221/400\n",
      "1/1 [==============================] - 0s 61ms/step - loss: 434.9506 - 2nd_loss: 1.9803 - tf.clip_by_value_3_loss: 65.6374 - tf.math.reduce_sum_3_loss: 105.0941 - tf.math.multiply_7_loss: 262.2013\n",
      "Epoch 222/400\n",
      "1/1 [==============================] - 0s 54ms/step - loss: 432.9827 - 2nd_loss: 1.9787 - tf.clip_by_value_3_loss: 65.7553 - tf.math.reduce_sum_3_loss: 104.2984 - tf.math.multiply_7_loss: 260.9129\n",
      "Epoch 223/400\n",
      "1/1 [==============================] - 0s 61ms/step - loss: 431.1624 - 2nd_loss: 1.9787 - tf.clip_by_value_3_loss: 64.0434 - tf.math.reduce_sum_3_loss: 104.1126 - tf.math.multiply_7_loss: 260.9904\n",
      "Epoch 224/400\n",
      "1/1 [==============================] - 0s 56ms/step - loss: 429.4542 - 2nd_loss: 1.9775 - tf.clip_by_value_3_loss: 64.6110 - tf.math.reduce_sum_3_loss: 103.2260 - tf.math.multiply_7_loss: 259.6024\n",
      "Epoch 225/400\n",
      "1/1 [==============================] - 0s 59ms/step - loss: 427.8501 - 2nd_loss: 1.9777 - tf.clip_by_value_3_loss: 62.9029 - tf.math.reduce_sum_3_loss: 103.1434 - tf.math.multiply_7_loss: 259.7889\n",
      "Epoch 226/400\n",
      "1/1 [==============================] - 0s 55ms/step - loss: 426.3534 - 2nd_loss: 1.9770 - tf.clip_by_value_3_loss: 63.8494 - tf.math.reduce_sum_3_loss: 102.1782 - tf.math.multiply_7_loss: 258.3114\n",
      "Epoch 227/400\n",
      "1/1 [==============================] - 0s 59ms/step - loss: 424.9479 - 2nd_loss: 1.9774 - tf.clip_by_value_3_loss: 62.1497 - tf.math.reduce_sum_3_loss: 102.1842 - tf.math.multiply_7_loss: 258.5993\n",
      "Epoch 228/400\n",
      "1/1 [==============================] - 0s 55ms/step - loss: 423.6180 - 2nd_loss: 1.9773 - tf.clip_by_value_3_loss: 63.4251 - tf.math.reduce_sum_3_loss: 101.1476 - tf.math.multiply_7_loss: 257.0306\n",
      "Epoch 229/400\n"
     ]
    },
    {
     "name": "stdout",
     "output_type": "stream",
     "text": [
      "1/1 [==============================] - 0s 55ms/step - loss: 422.3710 - 2nd_loss: 1.9782 - tf.clip_by_value_3_loss: 61.6732 - tf.math.reduce_sum_3_loss: 101.2465 - tf.math.multiply_7_loss: 257.4358\n",
      "Epoch 230/400\n",
      "1/1 [==============================] - 0s 54ms/step - loss: 421.1745 - 2nd_loss: 1.9785 - tf.clip_by_value_3_loss: 63.2933 - tf.math.reduce_sum_3_loss: 100.1218 - tf.math.multiply_7_loss: 255.7435\n",
      "Epoch 231/400\n",
      "1/1 [==============================] - 0s 57ms/step - loss: 420.0626 - 2nd_loss: 1.9798 - tf.clip_by_value_3_loss: 61.4333 - tf.math.reduce_sum_3_loss: 100.3239 - tf.math.multiply_7_loss: 256.2881\n",
      "Epoch 232/400\n",
      "1/1 [==============================] - 0s 59ms/step - loss: 418.9545 - 2nd_loss: 1.9802 - tf.clip_by_value_3_loss: 63.2456 - tf.math.reduce_sum_3_loss: 99.1584 - tf.math.multiply_7_loss: 254.5329\n",
      "Epoch 233/400\n",
      "1/1 [==============================] - 0s 57ms/step - loss: 417.9506 - 2nd_loss: 1.9817 - tf.clip_by_value_3_loss: 61.4378 - tf.math.reduce_sum_3_loss: 99.3833 - tf.math.multiply_7_loss: 255.1103\n",
      "Epoch 234/400\n",
      "1/1 [==============================] - 0s 58ms/step - loss: 416.9515 - 2nd_loss: 1.9819 - tf.clip_by_value_3_loss: 63.3803 - tf.math.reduce_sum_3_loss: 98.2149 - tf.math.multiply_7_loss: 253.3370\n",
      "Epoch 235/400\n",
      "1/1 [==============================] - 0s 63ms/step - loss: 416.0421 - 2nd_loss: 1.9837 - tf.clip_by_value_3_loss: 61.6541 - tf.math.reduce_sum_3_loss: 98.4418 - tf.math.multiply_7_loss: 253.9250\n",
      "Epoch 236/400\n",
      "1/1 [==============================] - 0s 65ms/step - loss: 415.2134 - 2nd_loss: 1.9838 - tf.clip_by_value_3_loss: 63.7020 - tf.math.reduce_sum_3_loss: 97.3092 - tf.math.multiply_7_loss: 252.1810\n",
      "Epoch 237/400\n",
      "1/1 [==============================] - 0s 62ms/step - loss: 414.5271 - 2nd_loss: 1.9864 - tf.clip_by_value_3_loss: 62.2056 - tf.math.reduce_sum_3_loss: 97.5206 - tf.math.multiply_7_loss: 252.7770\n",
      "Epoch 238/400\n",
      "1/1 [==============================] - 0s 59ms/step - loss: 413.9887 - 2nd_loss: 1.9871 - tf.clip_by_value_3_loss: 64.5647 - tf.math.reduce_sum_3_loss: 96.3994 - tf.math.multiply_7_loss: 251.0000\n",
      "Epoch 239/400\n",
      "1/1 [==============================] - 0s 57ms/step - loss: 413.6525 - 2nd_loss: 1.9913 - tf.clip_by_value_3_loss: 63.3227 - tf.math.reduce_sum_3_loss: 96.6317 - tf.math.multiply_7_loss: 251.6693\n",
      "Epoch 240/400\n",
      "1/1 [==============================] - 0s 56ms/step - loss: 413.4000 - 2nd_loss: 1.9915 - tf.clip_by_value_3_loss: 65.8905 - tf.math.reduce_sum_3_loss: 95.5633 - tf.math.multiply_7_loss: 249.9172\n",
      "Epoch 241/400\n",
      "1/1 [==============================] - 0s 56ms/step - loss: 413.3765 - 2nd_loss: 1.9958 - tf.clip_by_value_3_loss: 65.1706 - tf.math.reduce_sum_3_loss: 95.6943 - tf.math.multiply_7_loss: 250.4784\n",
      "Epoch 242/400\n",
      "1/1 [==============================] - 0s 57ms/step - loss: 413.4526 - 2nd_loss: 1.9954 - tf.clip_by_value_3_loss: 67.7670 - tf.math.reduce_sum_3_loss: 94.7684 - tf.math.multiply_7_loss: 248.8843\n",
      "Epoch 243/400\n",
      "1/1 [==============================] - 0s 56ms/step - loss: 413.7915 - 2nd_loss: 1.9998 - tf.clip_by_value_3_loss: 67.8169 - tf.math.reduce_sum_3_loss: 94.7152 - tf.math.multiply_7_loss: 249.2222\n",
      "Epoch 244/400\n",
      "1/1 [==============================] - 0s 55ms/step - loss: 414.2545 - 2nd_loss: 1.9985 - tf.clip_by_value_3_loss: 70.2703 - tf.math.reduce_sum_3_loss: 94.0287 - tf.math.multiply_7_loss: 247.9195\n",
      "Epoch 245/400\n",
      "1/1 [==============================] - 0s 57ms/step - loss: 414.8174 - 2nd_loss: 2.0040 - tf.clip_by_value_3_loss: 70.8829 - tf.math.reduce_sum_3_loss: 93.8130 - tf.math.multiply_7_loss: 248.0802\n",
      "Epoch 246/400\n",
      "1/1 [==============================] - 0s 60ms/step - loss: 415.3621 - 2nd_loss: 2.0021 - tf.clip_by_value_3_loss: 73.0011 - tf.math.reduce_sum_3_loss: 93.3244 - tf.math.multiply_7_loss: 246.9970\n",
      "Epoch 247/400\n",
      "1/1 [==============================] - 0s 62ms/step - loss: 415.8987 - 2nd_loss: 2.0069 - tf.clip_by_value_3_loss: 74.1946 - tf.math.reduce_sum_3_loss: 92.8441 - tf.math.multiply_7_loss: 246.8156\n",
      "Epoch 248/400\n",
      "1/1 [==============================] - 0s 60ms/step - loss: 415.9742 - 2nd_loss: 2.0036 - tf.clip_by_value_3_loss: 75.3450 - tf.math.reduce_sum_3_loss: 92.5792 - tf.math.multiply_7_loss: 246.0089\n",
      "Epoch 249/400\n",
      "1/1 [==============================] - 0s 60ms/step - loss: 415.8832 - 2nd_loss: 2.0103 - tf.clip_by_value_3_loss: 75.8485 - tf.math.reduce_sum_3_loss: 92.0996 - tf.math.multiply_7_loss: 245.8874\n",
      "Epoch 250/400\n",
      "1/1 [==============================] - 0s 55ms/step - loss: 415.0460 - 2nd_loss: 2.0066 - tf.clip_by_value_3_loss: 76.0967 - tf.math.reduce_sum_3_loss: 91.8505 - tf.math.multiply_7_loss: 245.0546\n",
      "Epoch 251/400\n",
      "1/1 [==============================] - 0s 55ms/step - loss: 414.0008 - 2nd_loss: 2.0106 - tf.clip_by_value_3_loss: 76.0637 - tf.math.reduce_sum_3_loss: 91.2016 - tf.math.multiply_7_loss: 244.6874\n",
      "Epoch 252/400\n",
      "1/1 [==============================] - 0s 55ms/step - loss: 412.1665 - 2nd_loss: 2.0042 - tf.clip_by_value_3_loss: 75.0911 - tf.math.reduce_sum_3_loss: 91.0444 - tf.math.multiply_7_loss: 243.9893\n",
      "Epoch 253/400\n",
      "1/1 [==============================] - 0s 60ms/step - loss: 410.1714 - 2nd_loss: 2.0097 - tf.clip_by_value_3_loss: 73.5075 - tf.math.reduce_sum_3_loss: 90.6359 - tf.math.multiply_7_loss: 243.9807\n",
      "Epoch 254/400\n",
      "1/1 [==============================] - 0s 58ms/step - loss: 406.9384 - 2nd_loss: 2.0030 - tf.clip_by_value_3_loss: 71.5310 - tf.math.reduce_sum_3_loss: 90.3105 - tf.math.multiply_7_loss: 243.0564\n",
      "Epoch 255/400\n",
      "1/1 [==============================] - 0s 58ms/step - loss: 404.3953 - 2nd_loss: 2.0001 - tf.clip_by_value_3_loss: 70.1879 - tf.math.reduce_sum_3_loss: 89.6247 - tf.math.multiply_7_loss: 242.5452\n",
      "Epoch 256/400\n",
      "1/1 [==============================] - 0s 57ms/step - loss: 401.1391 - 2nd_loss: 1.9905 - tf.clip_by_value_3_loss: 67.2254 - tf.math.reduce_sum_3_loss: 89.6508 - tf.math.multiply_7_loss: 242.2349\n",
      "Epoch 257/400\n",
      "1/1 [==============================] - 0s 58ms/step - loss: 398.3531 - 2nd_loss: 1.9872 - tf.clip_by_value_3_loss: 66.1721 - tf.math.reduce_sum_3_loss: 88.7830 - tf.math.multiply_7_loss: 241.3733\n",
      "Epoch 258/400\n",
      "1/1 [==============================] - 0s 58ms/step - loss: 395.3661 - 2nd_loss: 1.9814 - tf.clip_by_value_3_loss: 63.1007 - tf.math.reduce_sum_3_loss: 88.9274 - tf.math.multiply_7_loss: 241.3191\n",
      "Epoch 259/400\n",
      "1/1 [==============================] - 0s 60ms/step - loss: 392.9503 - 2nd_loss: 1.9782 - tf.clip_by_value_3_loss: 62.8075 - tf.math.reduce_sum_3_loss: 87.9395 - tf.math.multiply_7_loss: 240.1877\n",
      "Epoch 260/400\n",
      "1/1 [==============================] - 0s 58ms/step - loss: 390.6781 - 2nd_loss: 1.9747 - tf.clip_by_value_3_loss: 59.9641 - tf.math.reduce_sum_3_loss: 88.2443 - tf.math.multiply_7_loss: 240.4576\n",
      "Epoch 261/400\n",
      "1/1 [==============================] - 0s 59ms/step - loss: 388.6599 - 2nd_loss: 1.9722 - tf.clip_by_value_3_loss: 60.4342 - tf.math.reduce_sum_3_loss: 87.1407 - tf.math.multiply_7_loss: 239.0751\n",
      "Epoch 262/400\n",
      "1/1 [==============================] - 0s 61ms/step - loss: 386.8120 - 2nd_loss: 1.9710 - tf.clip_by_value_3_loss: 57.7333 - tf.math.reduce_sum_3_loss: 87.5342 - tf.math.multiply_7_loss: 239.5360\n",
      "Epoch 263/400\n",
      "1/1 [==============================] - 0s 58ms/step - loss: 385.1246 - 2nd_loss: 1.9694 - tf.clip_by_value_3_loss: 58.8988 - tf.math.reduce_sum_3_loss: 86.3079 - tf.math.multiply_7_loss: 237.9110\n",
      "Epoch 264/400\n",
      "1/1 [==============================] - 0s 57ms/step - loss: 383.4972 - 2nd_loss: 1.9689 - tf.clip_by_value_3_loss: 56.0422 - tf.math.reduce_sum_3_loss: 86.8327 - tf.math.multiply_7_loss: 238.6160\n",
      "Epoch 265/400\n",
      "1/1 [==============================] - 0s 58ms/step - loss: 381.7961 - 2nd_loss: 1.9679 - tf.clip_by_value_3_loss: 57.3584 - tf.math.reduce_sum_3_loss: 85.5569 - tf.math.multiply_7_loss: 236.8754\n",
      "Epoch 266/400\n",
      "1/1 [==============================] - 0s 56ms/step - loss: 380.1841 - 2nd_loss: 1.9678 - tf.clip_by_value_3_loss: 54.6510 - tf.math.reduce_sum_3_loss: 86.0184 - tf.math.multiply_7_loss: 237.5093\n",
      "Epoch 267/400\n",
      "1/1 [==============================] - 0s 58ms/step - loss: 378.5973 - 2nd_loss: 1.9673 - tf.clip_by_value_3_loss: 55.6183 - tf.math.reduce_sum_3_loss: 84.9330 - tf.math.multiply_7_loss: 236.0412\n",
      "Epoch 268/400\n"
     ]
    },
    {
     "name": "stdout",
     "output_type": "stream",
     "text": [
      "1/1 [==============================] - 0s 58ms/step - loss: 377.1255 - 2nd_loss: 1.9672 - tf.clip_by_value_3_loss: 53.6999 - tf.math.reduce_sum_3_loss: 85.1365 - tf.math.multiply_7_loss: 236.2843\n",
      "Epoch 269/400\n",
      "1/1 [==============================] - 0s 56ms/step - loss: 375.8038 - 2nd_loss: 1.9670 - tf.clip_by_value_3_loss: 54.3319 - tf.math.reduce_sum_3_loss: 84.2921 - tf.math.multiply_7_loss: 235.1753\n",
      "Epoch 270/400\n",
      "1/1 [==============================] - 0s 68ms/step - loss: 374.5240 - 2nd_loss: 1.9671 - tf.clip_by_value_3_loss: 53.0904 - tf.math.reduce_sum_3_loss: 84.3026 - tf.math.multiply_7_loss: 235.1264\n",
      "Epoch 271/400\n",
      "1/1 [==============================] - 0s 65ms/step - loss: 373.3752 - 2nd_loss: 1.9673 - tf.clip_by_value_3_loss: 53.3756 - tf.math.reduce_sum_3_loss: 83.6655 - tf.math.multiply_7_loss: 234.3293\n",
      "Epoch 272/400\n",
      "1/1 [==============================] - 0s 56ms/step - loss: 372.2586 - 2nd_loss: 1.9677 - tf.clip_by_value_3_loss: 52.8100 - tf.math.reduce_sum_3_loss: 83.4756 - tf.math.multiply_7_loss: 233.9678\n",
      "Epoch 273/400\n",
      "1/1 [==============================] - 0s 59ms/step - loss: 371.2825 - 2nd_loss: 1.9685 - tf.clip_by_value_3_loss: 52.7433 - tf.math.reduce_sum_3_loss: 83.0429 - tf.math.multiply_7_loss: 233.4903\n",
      "Epoch 274/400\n",
      "1/1 [==============================] - 0s 58ms/step - loss: 370.4060 - 2nd_loss: 1.9696 - tf.clip_by_value_3_loss: 52.9395 - tf.math.reduce_sum_3_loss: 82.6546 - tf.math.multiply_7_loss: 232.8049\n",
      "Epoch 275/400\n",
      "1/1 [==============================] - 0s 58ms/step - loss: 369.7002 - 2nd_loss: 1.9717 - tf.clip_by_value_3_loss: 52.4627 - tf.math.reduce_sum_3_loss: 82.4800 - tf.math.multiply_7_loss: 232.7483\n",
      "Epoch 276/400\n",
      "1/1 [==============================] - 0s 60ms/step - loss: 369.1115 - 2nd_loss: 1.9742 - tf.clip_by_value_3_loss: 53.6540 - tf.math.reduce_sum_3_loss: 81.8281 - tf.math.multiply_7_loss: 231.6177\n",
      "Epoch 277/400\n",
      "1/1 [==============================] - 0s 64ms/step - loss: 368.7339 - 2nd_loss: 1.9783 - tf.clip_by_value_3_loss: 52.8047 - tf.math.reduce_sum_3_loss: 81.9147 - tf.math.multiply_7_loss: 231.9987\n",
      "Epoch 278/400\n",
      "1/1 [==============================] - 0s 61ms/step - loss: 368.2584 - 2nd_loss: 1.9813 - tf.clip_by_value_3_loss: 54.5875 - tf.math.reduce_sum_3_loss: 81.0888 - tf.math.multiply_7_loss: 230.5633\n",
      "Epoch 279/400\n",
      "1/1 [==============================] - 0s 58ms/step - loss: 368.0886 - 2nd_loss: 1.9863 - tf.clip_by_value_3_loss: 53.6465 - tf.math.reduce_sum_3_loss: 81.2833 - tf.math.multiply_7_loss: 231.1350\n",
      "Epoch 280/400\n",
      "1/1 [==============================] - 0s 56ms/step - loss: 367.8337 - 2nd_loss: 1.9886 - tf.clip_by_value_3_loss: 55.8250 - tf.math.reduce_sum_3_loss: 80.4009 - tf.math.multiply_7_loss: 229.5818\n",
      "Epoch 281/400\n",
      "1/1 [==============================] - 0s 57ms/step - loss: 367.9093 - 2nd_loss: 1.9939 - tf.clip_by_value_3_loss: 55.1162 - tf.math.reduce_sum_3_loss: 80.5905 - tf.math.multiply_7_loss: 230.1712\n",
      "Epoch 282/400\n",
      "1/1 [==============================] - 0s 56ms/step - loss: 368.0951 - 2nd_loss: 1.9945 - tf.clip_by_value_3_loss: 57.5851 - tf.math.reduce_sum_3_loss: 79.7806 - tf.math.multiply_7_loss: 228.6974\n",
      "Epoch 283/400\n",
      "1/1 [==============================] - 0s 58ms/step - loss: 368.6292 - 2nd_loss: 2.0000 - tf.clip_by_value_3_loss: 57.5172 - tf.math.reduce_sum_3_loss: 79.8861 - tf.math.multiply_7_loss: 229.1884\n",
      "Epoch 284/400\n",
      "1/1 [==============================] - 0s 58ms/step - loss: 369.4295 - 2nd_loss: 2.0004 - tf.clip_by_value_3_loss: 60.3817 - tf.math.reduce_sum_3_loss: 79.1786 - tf.math.multiply_7_loss: 227.8312\n",
      "Epoch 285/400\n",
      "1/1 [==============================] - 0s 60ms/step - loss: 370.6940 - 2nd_loss: 2.0073 - tf.clip_by_value_3_loss: 61.2657 - tf.math.reduce_sum_3_loss: 79.1805 - tf.math.multiply_7_loss: 228.2029\n",
      "Epoch 286/400\n",
      "1/1 [==============================] - 0s 57ms/step - loss: 372.2849 - 2nd_loss: 2.0073 - tf.clip_by_value_3_loss: 64.5890 - tf.math.reduce_sum_3_loss: 78.6249 - tf.math.multiply_7_loss: 227.0263\n",
      "Epoch 287/400\n",
      "1/1 [==============================] - 0s 58ms/step - loss: 374.3504 - 2nd_loss: 2.0164 - tf.clip_by_value_3_loss: 66.5594 - tf.math.reduce_sum_3_loss: 78.4913 - tf.math.multiply_7_loss: 227.2457\n",
      "Epoch 288/400\n",
      "1/1 [==============================] - 0s 61ms/step - loss: 376.4447 - 2nd_loss: 2.0160 - tf.clip_by_value_3_loss: 70.1813 - tf.math.reduce_sum_3_loss: 78.0439 - tf.math.multiply_7_loss: 226.1660\n",
      "Epoch 289/400\n",
      "1/1 [==============================] - 0s 57ms/step - loss: 378.7553 - 2nd_loss: 2.0289 - tf.clip_by_value_3_loss: 72.3018 - tf.math.reduce_sum_3_loss: 77.9164 - tf.math.multiply_7_loss: 226.4708\n",
      "Epoch 290/400\n",
      "1/1 [==============================] - 0s 58ms/step - loss: 380.3616 - 2nd_loss: 2.0255 - tf.clip_by_value_3_loss: 75.3243 - tf.math.reduce_sum_3_loss: 77.5400 - tf.math.multiply_7_loss: 225.4342\n",
      "Epoch 291/400\n",
      "1/1 [==============================] - 0s 56ms/step - loss: 381.8853 - 2nd_loss: 2.0351 - tf.clip_by_value_3_loss: 77.1674 - tf.math.reduce_sum_3_loss: 77.2054 - tf.math.multiply_7_loss: 225.4398\n",
      "Epoch 292/400\n",
      "1/1 [==============================] - 0s 55ms/step - loss: 381.6134 - 2nd_loss: 2.0259 - tf.clip_by_value_3_loss: 77.9022 - tf.math.reduce_sum_3_loss: 77.0000 - tf.math.multiply_7_loss: 224.6478\n",
      "Epoch 293/400\n",
      "1/1 [==============================] - 0s 56ms/step - loss: 380.4613 - 2nd_loss: 2.0377 - tf.clip_by_value_3_loss: 76.6425 - tf.math.reduce_sum_3_loss: 76.8158 - tf.math.multiply_7_loss: 224.9277\n",
      "Epoch 294/400\n",
      "1/1 [==============================] - 0s 55ms/step - loss: 377.7741 - 2nd_loss: 2.0278 - tf.clip_by_value_3_loss: 75.4709 - tf.math.reduce_sum_3_loss: 76.4211 - tf.math.multiply_7_loss: 223.8167\n",
      "Epoch 295/400\n",
      "1/1 [==============================] - 0s 57ms/step - loss: 375.0585 - 2nd_loss: 2.0317 - tf.clip_by_value_3_loss: 73.0285 - tf.math.reduce_sum_3_loss: 76.1052 - tf.math.multiply_7_loss: 223.8556\n",
      "Epoch 296/400\n",
      "1/1 [==============================] - 0s 56ms/step - loss: 371.4568 - 2nd_loss: 2.0134 - tf.clip_by_value_3_loss: 70.1403 - tf.math.reduce_sum_3_loss: 76.0032 - tf.math.multiply_7_loss: 223.2625\n",
      "Epoch 297/400\n",
      "1/1 [==============================] - 0s 57ms/step - loss: 368.1473 - 2nd_loss: 2.0096 - tf.clip_by_value_3_loss: 68.0276 - tf.math.reduce_sum_3_loss: 75.3620 - tf.math.multiply_7_loss: 222.7106\n",
      "Epoch 298/400\n",
      "1/1 [==============================] - 0s 59ms/step - loss: 364.4079 - 2nd_loss: 1.9961 - tf.clip_by_value_3_loss: 64.2019 - tf.math.reduce_sum_3_loss: 75.5388 - tf.math.multiply_7_loss: 222.6335\n",
      "Epoch 299/400\n",
      "1/1 [==============================] - 0s 60ms/step - loss: 361.2802 - 2nd_loss: 1.9912 - tf.clip_by_value_3_loss: 62.9087 - tf.math.reduce_sum_3_loss: 74.6803 - tf.math.multiply_7_loss: 221.6625\n",
      "Epoch 300/400\n",
      "1/1 [==============================] - 0s 60ms/step - loss: 357.8702 - 2nd_loss: 1.9834 - tf.clip_by_value_3_loss: 58.8773 - tf.math.reduce_sum_3_loss: 75.0340 - tf.math.multiply_7_loss: 221.9379\n",
      "Epoch 301/400\n",
      "1/1 [==============================] - 0s 57ms/step - loss: 355.0385 - 2nd_loss: 1.9796 - tf.clip_by_value_3_loss: 58.2031 - tf.math.reduce_sum_3_loss: 74.0750 - tf.math.multiply_7_loss: 220.7433\n",
      "Epoch 302/400\n",
      "1/1 [==============================] - 0s 59ms/step - loss: 352.3914 - 2nd_loss: 1.9761 - tf.clip_by_value_3_loss: 54.8384 - tf.math.reduce_sum_3_loss: 74.4445 - tf.math.multiply_7_loss: 221.0949\n",
      "Epoch 303/400\n",
      "1/1 [==============================] - 0s 63ms/step - loss: 350.1198 - 2nd_loss: 1.9740 - tf.clip_by_value_3_loss: 54.5778 - tf.math.reduce_sum_3_loss: 73.5570 - tf.math.multiply_7_loss: 219.9735\n",
      "Epoch 304/400\n",
      "1/1 [==============================] - 0s 57ms/step - loss: 347.9240 - 2nd_loss: 1.9726 - tf.clip_by_value_3_loss: 51.8468 - tf.math.reduce_sum_3_loss: 73.8429 - tf.math.multiply_7_loss: 220.2242\n",
      "Epoch 305/400\n",
      "1/1 [==============================] - 0s 61ms/step - loss: 346.0699 - 2nd_loss: 1.9709 - tf.clip_by_value_3_loss: 52.0078 - tf.math.reduce_sum_3_loss: 72.9718 - tf.math.multiply_7_loss: 219.0819\n",
      "Epoch 306/400\n",
      "1/1 [==============================] - 0s 57ms/step - loss: 344.3689 - 2nd_loss: 1.9698 - tf.clip_by_value_3_loss: 49.6381 - tf.math.reduce_sum_3_loss: 73.2911 - tf.math.multiply_7_loss: 219.4325\n",
      "Epoch 307/400\n",
      "1/1 [==============================] - 0s 60ms/step - loss: 342.8588 - 2nd_loss: 1.9685 - tf.clip_by_value_3_loss: 50.2414 - tf.math.reduce_sum_3_loss: 72.3984 - tf.math.multiply_7_loss: 218.2130\n",
      "Epoch 308/400\n",
      "1/1 [==============================] - 0s 56ms/step - loss: 341.4626 - 2nd_loss: 1.9679 - tf.clip_by_value_3_loss: 48.1169 - tf.math.reduce_sum_3_loss: 72.7279 - tf.math.multiply_7_loss: 218.6123\n",
      "Epoch 309/400\n",
      "1/1 [==============================] - 0s 59ms/step - loss: 340.1848 - 2nd_loss: 1.9671 - tf.clip_by_value_3_loss: 49.0046 - tf.math.reduce_sum_3_loss: 71.8279 - tf.math.multiply_7_loss: 217.3477\n",
      "Epoch 310/400\n",
      "1/1 [==============================] - 0s 62ms/step - loss: 339.0169 - 2nd_loss: 1.9669 - tf.clip_by_value_3_loss: 47.0376 - tf.math.reduce_sum_3_loss: 72.1745 - tf.math.multiply_7_loss: 217.8005\n",
      "Epoch 311/400\n",
      "1/1 [==============================] - 0s 60ms/step - loss: 337.9380 - 2nd_loss: 1.9663 - tf.clip_by_value_3_loss: 48.2034 - tf.math.reduce_sum_3_loss: 71.2550 - tf.math.multiply_7_loss: 216.4758\n",
      "Epoch 312/400\n",
      "1/1 [==============================] - 0s 59ms/step - loss: 336.9156 - 2nd_loss: 1.9663 - tf.clip_by_value_3_loss: 46.2756 - tf.math.reduce_sum_3_loss: 71.6325 - tf.math.multiply_7_loss: 217.0037\n",
      "Epoch 313/400\n",
      "1/1 [==============================] - 0s 62ms/step - loss: 335.9519 - 2nd_loss: 1.9660 - tf.clip_by_value_3_loss: 47.6614 - tf.math.reduce_sum_3_loss: 70.6834 - tf.math.multiply_7_loss: 215.6037\n",
      "Epoch 314/400\n",
      "1/1 [==============================] - 0s 57ms/step - loss: 335.0377 - 2nd_loss: 1.9661 - tf.clip_by_value_3_loss: 45.7243 - tf.math.reduce_sum_3_loss: 71.0977 - tf.math.multiply_7_loss: 216.2120\n",
      "Epoch 315/400\n",
      "1/1 [==============================] - 0s 61ms/step - loss: 334.1816 - 2nd_loss: 1.9660 - tf.clip_by_value_3_loss: 47.3343 - tf.math.reduce_sum_3_loss: 70.1131 - tf.math.multiply_7_loss: 214.7306\n",
      "Epoch 316/400\n",
      "1/1 [==============================] - 0s 63ms/step - loss: 333.3711 - 2nd_loss: 1.9663 - tf.clip_by_value_3_loss: 45.3517 - tf.math.reduce_sum_3_loss: 70.5768 - tf.math.multiply_7_loss: 215.4387\n",
      "Epoch 317/400\n",
      "1/1 [==============================] - 0s 59ms/step - loss: 332.6047 - 2nd_loss: 1.9662 - tf.clip_by_value_3_loss: 47.2045 - tf.math.reduce_sum_3_loss: 69.5426 - tf.math.multiply_7_loss: 213.8538\n",
      "Epoch 318/400\n",
      "1/1 [==============================] - 0s 57ms/step - loss: 331.8735 - 2nd_loss: 1.9667 - tf.clip_by_value_3_loss: 45.1340 - tf.math.reduce_sum_3_loss: 70.0632 - tf.math.multiply_7_loss: 214.6720\n",
      "Epoch 319/400\n",
      "1/1 [==============================] - 0s 58ms/step - loss: 331.0563 - 2nd_loss: 1.9667 - tf.clip_by_value_3_loss: 47.0604 - tf.math.reduce_sum_3_loss: 68.9884 - tf.math.multiply_7_loss: 213.0034\n",
      "Epoch 320/400\n",
      "1/1 [==============================] - 0s 63ms/step - loss: 330.2904 - 2nd_loss: 1.9671 - tf.clip_by_value_3_loss: 44.8879 - tf.math.reduce_sum_3_loss: 69.5317 - tf.math.multiply_7_loss: 213.8663\n",
      "Epoch 321/400\n",
      "1/1 [==============================] - 0s 62ms/step - loss: 329.4682 - 2nd_loss: 1.9669 - tf.clip_by_value_3_loss: 46.7745 - tf.math.reduce_sum_3_loss: 68.4718 - tf.math.multiply_7_loss: 212.2175\n",
      "Epoch 322/400\n",
      "1/1 [==============================] - 0s 60ms/step - loss: 328.6818 - 2nd_loss: 1.9671 - tf.clip_by_value_3_loss: 44.7012 - tf.math.reduce_sum_3_loss: 68.9717 - tf.math.multiply_7_loss: 213.0043\n",
      "Epoch 323/400\n",
      "1/1 [==============================] - 0s 62ms/step - loss: 327.9226 - 2nd_loss: 1.9667 - tf.clip_by_value_3_loss: 46.4704 - tf.math.reduce_sum_3_loss: 67.9782 - tf.math.multiply_7_loss: 211.4698\n",
      "Epoch 324/400\n",
      "1/1 [==============================] - 0s 57ms/step - loss: 327.1632 - 2nd_loss: 1.9667 - tf.clip_by_value_3_loss: 44.6293 - tf.math.reduce_sum_3_loss: 68.4051 - tf.math.multiply_7_loss: 212.1246\n",
      "Epoch 325/400\n",
      "1/1 [==============================] - 0s 59ms/step - loss: 326.5137 - 2nd_loss: 1.9663 - tf.clip_by_value_3_loss: 46.2650 - tf.math.reduce_sum_3_loss: 67.4994 - tf.math.multiply_7_loss: 210.7456\n",
      "Epoch 326/400\n",
      "1/1 [==============================] - 0s 60ms/step - loss: 325.8515 - 2nd_loss: 1.9664 - tf.clip_by_value_3_loss: 44.7792 - tf.math.reduce_sum_3_loss: 67.8354 - tf.math.multiply_7_loss: 211.2329\n",
      "Epoch 327/400\n",
      "1/1 [==============================] - 0s 61ms/step - loss: 325.3757 - 2nd_loss: 1.9663 - tf.clip_by_value_3_loss: 46.2943 - tf.math.reduce_sum_3_loss: 67.0340 - tf.math.multiply_7_loss: 210.0437\n",
      "Epoch 328/400\n",
      "1/1 [==============================] - 0s 63ms/step - loss: 324.9043 - 2nd_loss: 1.9668 - tf.clip_by_value_3_loss: 45.2896 - tf.math.reduce_sum_3_loss: 67.2702 - tf.math.multiply_7_loss: 210.3402\n",
      "Epoch 329/400\n",
      "1/1 [==============================] - 0s 62ms/step - loss: 324.7010 - 2nd_loss: 1.9673 - tf.clip_by_value_3_loss: 46.7543 - tf.math.reduce_sum_3_loss: 66.5803 - tf.math.multiply_7_loss: 209.3616\n",
      "Epoch 330/400\n",
      "1/1 [==============================] - 0s 63ms/step - loss: 324.5625 - 2nd_loss: 1.9687 - tf.clip_by_value_3_loss: 46.3949 - tf.math.reduce_sum_3_loss: 66.7116 - tf.math.multiply_7_loss: 209.4498\n",
      "Epoch 331/400\n",
      "1/1 [==============================] - 0s 62ms/step - loss: 324.7993 - 2nd_loss: 1.9705 - tf.clip_by_value_3_loss: 47.9206 - tf.math.reduce_sum_3_loss: 66.1497 - tf.math.multiply_7_loss: 208.7210\n",
      "Epoch 332/400\n",
      "1/1 [==============================] - 0s 58ms/step - loss: 325.2643 - 2nd_loss: 1.9736 - tf.clip_by_value_3_loss: 48.5795 - tf.math.reduce_sum_3_loss: 66.1436 - tf.math.multiply_7_loss: 208.5301\n",
      "Epoch 333/400\n",
      "1/1 [==============================] - 0s 61ms/step - loss: 326.3964 - 2nd_loss: 1.9791 - tf.clip_by_value_3_loss: 50.3936 - tf.math.reduce_sum_3_loss: 65.7842 - tf.math.multiply_7_loss: 208.2021\n",
      "Epoch 334/400\n",
      "1/1 [==============================] - 0s 59ms/step - loss: 328.0518 - 2nd_loss: 1.9862 - tf.clip_by_value_3_loss: 52.8727 - tf.math.reduce_sum_3_loss: 65.5709 - tf.math.multiply_7_loss: 207.5844\n",
      "Epoch 335/400\n",
      "1/1 [==============================] - 0s 65ms/step - loss: 330.6163 - 2nd_loss: 1.9986 - tf.clip_by_value_3_loss: 55.4879 - tf.math.reduce_sum_3_loss: 65.4157 - tf.math.multiply_7_loss: 207.6765\n",
      "Epoch 336/400\n",
      "1/1 [==============================] - 0s 58ms/step - loss: 333.7069 - 2nd_loss: 2.0078 - tf.clip_by_value_3_loss: 59.8053 - tf.math.reduce_sum_3_loss: 65.0808 - tf.math.multiply_7_loss: 206.7755\n",
      "Epoch 337/400\n",
      "1/1 [==============================] - 0s 62ms/step - loss: 337.8981 - 2nd_loss: 2.0258 - tf.clip_by_value_3_loss: 63.7859 - tf.math.reduce_sum_3_loss: 64.9956 - tf.math.multiply_7_loss: 207.0532\n",
      "Epoch 338/400\n",
      "1/1 [==============================] - 0s 60ms/step - loss: 342.0595 - 2nd_loss: 2.0323 - tf.clip_by_value_3_loss: 69.2001 - tf.math.reduce_sum_3_loss: 64.6766 - tf.math.multiply_7_loss: 206.1130\n",
      "Epoch 339/400\n",
      "1/1 [==============================] - 0s 59ms/step - loss: 346.9368 - 2nd_loss: 2.0546 - tf.clip_by_value_3_loss: 73.9373 - tf.math.reduce_sum_3_loss: 64.5436 - tf.math.multiply_7_loss: 206.3639\n",
      "Epoch 340/400\n",
      "1/1 [==============================] - 0s 63ms/step - loss: 351.1244 - 2nd_loss: 2.0526 - tf.clip_by_value_3_loss: 79.3426 - tf.math.reduce_sum_3_loss: 64.2653 - tf.math.multiply_7_loss: 205.4265\n",
      "Epoch 341/400\n",
      "1/1 [==============================] - 0s 61ms/step - loss: 354.3325 - 2nd_loss: 2.0810 - tf.clip_by_value_3_loss: 81.9393 - tf.math.reduce_sum_3_loss: 64.2733 - tf.math.multiply_7_loss: 206.0014\n",
      "Epoch 342/400\n",
      "1/1 [==============================] - 0s 61ms/step - loss: 354.7438 - 2nd_loss: 2.0678 - tf.clip_by_value_3_loss: 83.9215 - tf.math.reduce_sum_3_loss: 63.8885 - tf.math.multiply_7_loss: 204.8285\n",
      "Epoch 343/400\n",
      "1/1 [==============================] - 0s 60ms/step - loss: 354.3337 - 2nd_loss: 2.0848 - tf.clip_by_value_3_loss: 83.3393 - tf.math.reduce_sum_3_loss: 63.7465 - tf.math.multiply_7_loss: 205.1256\n",
      "Epoch 344/400\n",
      "1/1 [==============================] - 0s 61ms/step - loss: 351.6878 - 2nd_loss: 2.0515 - tf.clip_by_value_3_loss: 81.4734 - tf.math.reduce_sum_3_loss: 63.6468 - tf.math.multiply_7_loss: 204.4785\n",
      "Epoch 345/400\n",
      "1/1 [==============================] - 0s 60ms/step - loss: 348.5826 - 2nd_loss: 2.0524 - tf.clip_by_value_3_loss: 79.1143 - tf.math.reduce_sum_3_loss: 63.1891 - tf.math.multiply_7_loss: 204.1894\n",
      "Epoch 346/400\n"
     ]
    },
    {
     "name": "stdout",
     "output_type": "stream",
     "text": [
      "1/1 [==============================] - 0s 59ms/step - loss: 343.3875 - 2nd_loss: 2.0263 - tf.clip_by_value_3_loss: 74.0326 - tf.math.reduce_sum_3_loss: 63.3125 - tf.math.multiply_7_loss: 203.9786\n",
      "Epoch 347/400\n",
      "1/1 [==============================] - 0s 62ms/step - loss: 338.3167 - 2nd_loss: 2.0245 - tf.clip_by_value_3_loss: 70.0070 - tf.math.reduce_sum_3_loss: 62.7645 - tf.math.multiply_7_loss: 203.4833\n",
      "Epoch 348/400\n",
      "1/1 [==============================] - 0s 63ms/step - loss: 332.6411 - 2nd_loss: 2.0071 - tf.clip_by_value_3_loss: 64.3015 - tf.math.reduce_sum_3_loss: 62.9165 - tf.math.multiply_7_loss: 203.3785\n",
      "Epoch 349/400\n",
      "1/1 [==============================] - 0s 62ms/step - loss: 327.9020 - 2nd_loss: 2.0023 - tf.clip_by_value_3_loss: 60.7685 - tf.math.reduce_sum_3_loss: 62.3340 - tf.math.multiply_7_loss: 202.7598\n",
      "Epoch 350/400\n",
      "1/1 [==============================] - 0s 65ms/step - loss: 323.3190 - 2nd_loss: 1.9919 - tf.clip_by_value_3_loss: 56.0182 - tf.math.reduce_sum_3_loss: 62.5107 - tf.math.multiply_7_loss: 202.7607\n",
      "Epoch 351/400\n",
      "1/1 [==============================] - 0s 61ms/step - loss: 319.5735 - 2nd_loss: 1.9874 - tf.clip_by_value_3_loss: 53.6202 - tf.math.reduce_sum_3_loss: 61.9026 - tf.math.multiply_7_loss: 202.0258\n",
      "Epoch 352/400\n",
      "1/1 [==============================] - 0s 60ms/step - loss: 316.1510 - 2nd_loss: 1.9812 - tf.clip_by_value_3_loss: 49.9158 - tf.math.reduce_sum_3_loss: 62.0943 - tf.math.multiply_7_loss: 202.1223\n",
      "Epoch 353/400\n",
      "1/1 [==============================] - 0s 57ms/step - loss: 313.3913 - 2nd_loss: 1.9772 - tf.clip_by_value_3_loss: 48.6682 - tf.math.reduce_sum_3_loss: 61.4497 - tf.math.multiply_7_loss: 201.2588\n",
      "Epoch 354/400\n",
      "1/1 [==============================] - 0s 60ms/step - loss: 310.9714 - 2nd_loss: 1.9737 - tf.clip_by_value_3_loss: 45.7664 - tf.math.reduce_sum_3_loss: 61.6917 - tf.math.multiply_7_loss: 201.5021\n",
      "Epoch 355/400\n",
      "1/1 [==============================] - 0s 59ms/step - loss: 308.9802 - 2nd_loss: 1.9709 - tf.clip_by_value_3_loss: 45.4782 - tf.math.reduce_sum_3_loss: 60.9977 - tf.math.multiply_7_loss: 200.4960\n",
      "Epoch 356/400\n",
      "1/1 [==============================] - 0s 60ms/step - loss: 307.2509 - 2nd_loss: 1.9693 - tf.clip_by_value_3_loss: 43.1006 - tf.math.reduce_sum_3_loss: 61.2826 - tf.math.multiply_7_loss: 200.8610\n",
      "Epoch 357/400\n",
      "1/1 [==============================] - 0s 54ms/step - loss: 305.7555 - 2nd_loss: 1.9676 - tf.clip_by_value_3_loss: 43.4401 - tf.math.reduce_sum_3_loss: 60.5557 - tf.math.multiply_7_loss: 199.7547\n",
      "Epoch 358/400\n",
      "1/1 [==============================] - 0s 55ms/step - loss: 304.4485 - 2nd_loss: 1.9670 - tf.clip_by_value_3_loss: 41.3761 - tf.math.reduce_sum_3_loss: 60.8669 - tf.math.multiply_7_loss: 200.2010\n",
      "Epoch 359/400\n",
      "1/1 [==============================] - 0s 56ms/step - loss: 303.2960 - 2nd_loss: 1.9660 - tf.clip_by_value_3_loss: 42.1651 - tf.math.reduce_sum_3_loss: 60.1136 - tf.math.multiply_7_loss: 199.0137\n",
      "Epoch 360/400\n",
      "1/1 [==============================] - 0s 58ms/step - loss: 302.2452 - 2nd_loss: 1.9660 - tf.clip_by_value_3_loss: 40.2267 - tf.math.reduce_sum_3_loss: 60.4613 - tf.math.multiply_7_loss: 199.5538\n",
      "Epoch 361/400\n",
      "1/1 [==============================] - 0s 58ms/step - loss: 301.2748 - 2nd_loss: 1.9654 - tf.clip_by_value_3_loss: 41.3297 - tf.math.reduce_sum_3_loss: 59.6708 - tf.math.multiply_7_loss: 198.2715\n",
      "Epoch 362/400\n",
      "1/1 [==============================] - 0s 57ms/step - loss: 300.3915 - 2nd_loss: 1.9658 - tf.clip_by_value_3_loss: 39.4342 - tf.math.reduce_sum_3_loss: 60.0547 - tf.math.multiply_7_loss: 198.8993\n",
      "Epoch 363/400\n",
      "1/1 [==============================] - 0s 61ms/step - loss: 299.4942 - 2nd_loss: 1.9655 - tf.clip_by_value_3_loss: 40.6917 - tf.math.reduce_sum_3_loss: 59.2432 - tf.math.multiply_7_loss: 197.5565\n",
      "Epoch 364/400\n",
      "1/1 [==============================] - 0s 60ms/step - loss: 298.6746 - 2nd_loss: 1.9659 - tf.clip_by_value_3_loss: 38.8152 - tf.math.reduce_sum_3_loss: 59.6371 - tf.math.multiply_7_loss: 198.2189\n",
      "Epoch 365/400\n",
      "1/1 [==============================] - 0s 62ms/step - loss: 297.8094 - 2nd_loss: 1.9657 - tf.clip_by_value_3_loss: 40.0883 - tf.math.reduce_sum_3_loss: 58.8367 - tf.math.multiply_7_loss: 196.8813\n",
      "Epoch 366/400\n",
      "1/1 [==============================] - 0s 62ms/step - loss: 297.0222 - 2nd_loss: 1.9660 - tf.clip_by_value_3_loss: 38.3036 - tf.math.reduce_sum_3_loss: 59.2067 - tf.math.multiply_7_loss: 197.5084\n",
      "Epoch 367/400\n",
      "1/1 [==============================] - 0s 61ms/step - loss: 296.2217 - 2nd_loss: 1.9657 - tf.clip_by_value_3_loss: 39.5594 - tf.math.reduce_sum_3_loss: 58.4387 - tf.math.multiply_7_loss: 196.2205\n",
      "Epoch 368/400\n",
      "1/1 [==============================] - 0s 60ms/step - loss: 295.4550 - 2nd_loss: 1.9659 - tf.clip_by_value_3_loss: 37.8891 - tf.math.reduce_sum_3_loss: 58.7738 - tf.math.multiply_7_loss: 196.7889\n",
      "Epoch 369/400\n",
      "1/1 [==============================] - 0s 61ms/step - loss: 294.7012 - 2nd_loss: 1.9656 - tf.clip_by_value_3_loss: 39.0774 - tf.math.reduce_sum_3_loss: 58.0484 - tf.math.multiply_7_loss: 195.5725\n",
      "Epoch 370/400\n",
      "1/1 [==============================] - 0s 62ms/step - loss: 293.9668 - 2nd_loss: 1.9657 - tf.clip_by_value_3_loss: 37.5497 - tf.math.reduce_sum_3_loss: 58.3438 - tf.math.multiply_7_loss: 196.0703\n",
      "Epoch 371/400\n",
      "1/1 [==============================] - 0s 60ms/step - loss: 293.2635 - 2nd_loss: 1.9653 - tf.clip_by_value_3_loss: 38.6761 - tf.math.reduce_sum_3_loss: 57.6596 - tf.math.multiply_7_loss: 194.9251\n",
      "Epoch 372/400\n",
      "1/1 [==============================] - 0s 64ms/step - loss: 292.5749 - 2nd_loss: 1.9655 - tf.clip_by_value_3_loss: 37.2822 - tf.math.reduce_sum_3_loss: 57.9238 - tf.math.multiply_7_loss: 195.3660\n",
      "Epoch 373/400\n",
      "1/1 [==============================] - 0s 61ms/step - loss: 291.9120 - 2nd_loss: 1.9652 - tf.clip_by_value_3_loss: 38.3625 - tf.math.reduce_sum_3_loss: 57.2710 - tf.math.multiply_7_loss: 194.2759\n",
      "Epoch 374/400\n",
      "1/1 [==============================] - 0s 60ms/step - loss: 291.2570 - 2nd_loss: 1.9653 - tf.clip_by_value_3_loss: 37.0772 - tf.math.reduce_sum_3_loss: 57.5091 - tf.math.multiply_7_loss: 194.6680\n",
      "Epoch 375/400\n",
      "1/1 [==============================] - 0s 59ms/step - loss: 290.6368 - 2nd_loss: 1.9650 - tf.clip_by_value_3_loss: 38.1254 - tf.math.reduce_sum_3_loss: 56.8831 - tf.math.multiply_7_loss: 193.6259\n",
      "Epoch 376/400\n",
      "1/1 [==============================] - 0s 60ms/step - loss: 290.0276 - 2nd_loss: 1.9651 - tf.clip_by_value_3_loss: 36.9395 - tf.math.reduce_sum_3_loss: 57.1035 - tf.math.multiply_7_loss: 193.9822\n",
      "Epoch 377/400\n",
      "1/1 [==============================] - 0s 59ms/step - loss: 289.4688 - 2nd_loss: 1.9649 - tf.clip_by_value_3_loss: 38.0047 - tf.math.reduce_sum_3_loss: 56.4928 - tf.math.multiply_7_loss: 192.9690\n",
      "Epoch 378/400\n",
      "1/1 [==============================] - 0s 60ms/step - loss: 288.9106 - 2nd_loss: 1.9651 - tf.clip_by_value_3_loss: 36.8888 - tf.math.reduce_sum_3_loss: 56.7079 - tf.math.multiply_7_loss: 193.3113\n",
      "Epoch 379/400\n",
      "1/1 [==============================] - 0s 59ms/step - loss: 288.4056 - 2nd_loss: 1.9649 - tf.clip_by_value_3_loss: 37.9771 - tf.math.reduce_sum_3_loss: 56.1070 - tf.math.multiply_7_loss: 192.3192\n",
      "Epoch 380/400\n",
      "1/1 [==============================] - 0s 57ms/step - loss: 287.9263 - 2nd_loss: 1.9651 - tf.clip_by_value_3_loss: 36.9594 - tf.math.reduce_sum_3_loss: 56.3183 - tf.math.multiply_7_loss: 192.6461\n",
      "Epoch 381/400\n",
      "1/1 [==============================] - 0s 59ms/step - loss: 287.5246 - 2nd_loss: 1.9650 - tf.clip_by_value_3_loss: 38.1365 - tf.math.reduce_sum_3_loss: 55.7199 - tf.math.multiply_7_loss: 191.6658\n",
      "Epoch 382/400\n",
      "1/1 [==============================] - 0s 54ms/step - loss: 287.1494 - 2nd_loss: 1.9653 - tf.clip_by_value_3_loss: 37.2222 - tf.math.reduce_sum_3_loss: 55.9357 - tf.math.multiply_7_loss: 191.9888\n",
      "Epoch 383/400\n",
      "1/1 [==============================] - 0s 58ms/step - loss: 286.8839 - 2nd_loss: 1.9653 - tf.clip_by_value_3_loss: 38.5190 - tf.math.reduce_sum_3_loss: 55.3390 - tf.math.multiply_7_loss: 191.0232\n",
      "Epoch 384/400\n",
      "1/1 [==============================] - 0s 56ms/step - loss: 286.8088 - 2nd_loss: 1.9659 - tf.clip_by_value_3_loss: 37.9505 - tf.math.reduce_sum_3_loss: 55.5448 - tf.math.multiply_7_loss: 191.3102\n",
      "Epoch 385/400\n",
      "1/1 [==============================] - 0s 58ms/step - loss: 286.8047 - 2nd_loss: 1.9662 - tf.clip_by_value_3_loss: 39.3661 - tf.math.reduce_sum_3_loss: 54.9910 - tf.math.multiply_7_loss: 190.4441\n",
      "Epoch 386/400\n",
      "1/1 [==============================] - 0s 59ms/step - loss: 286.9469 - 2nd_loss: 1.9673 - tf.clip_by_value_3_loss: 39.0995 - tf.math.reduce_sum_3_loss: 55.1772 - tf.math.multiply_7_loss: 190.6654\n",
      "Epoch 387/400\n",
      "1/1 [==============================] - 0s 65ms/step - loss: 287.4106 - 2nd_loss: 1.9682 - tf.clip_by_value_3_loss: 40.9978 - tf.math.reduce_sum_3_loss: 54.6072 - tf.math.multiply_7_loss: 189.8000\n",
      "Epoch 388/400\n",
      "1/1 [==============================] - 0s 56ms/step - loss: 288.0978 - 2nd_loss: 1.9702 - tf.clip_by_value_3_loss: 41.2885 - tf.math.reduce_sum_3_loss: 54.8024 - tf.math.multiply_7_loss: 189.9994\n",
      "Epoch 389/400\n",
      "1/1 [==============================] - 0s 58ms/step - loss: 289.3144 - 2nd_loss: 1.9725 - tf.clip_by_value_3_loss: 43.8270 - tf.math.reduce_sum_3_loss: 54.2560 - tf.math.multiply_7_loss: 189.2215\n",
      "Epoch 390/400\n",
      "1/1 [==============================] - 0s 53ms/step - loss: 290.8960 - 2nd_loss: 1.9764 - tf.clip_by_value_3_loss: 45.1538 - tf.math.reduce_sum_3_loss: 54.4205 - tf.math.multiply_7_loss: 189.3079\n",
      "Epoch 391/400\n",
      "1/1 [==============================] - 0s 58ms/step - loss: 293.2861 - 2nd_loss: 1.9821 - tf.clip_by_value_3_loss: 48.6241 - tf.math.reduce_sum_3_loss: 53.9362 - tf.math.multiply_7_loss: 188.7064\n",
      "Epoch 392/400\n",
      "1/1 [==============================] - 0s 51ms/step - loss: 296.2173 - 2nd_loss: 1.9879 - tf.clip_by_value_3_loss: 51.3775 - tf.math.reduce_sum_3_loss: 54.0942 - tf.math.multiply_7_loss: 188.7202\n",
      "Epoch 393/400\n",
      "1/1 [==============================] - 0s 58ms/step - loss: 300.2760 - 2nd_loss: 1.9964 - tf.clip_by_value_3_loss: 56.6563 - tf.math.reduce_sum_3_loss: 53.5448 - tf.math.multiply_7_loss: 188.0412\n",
      "Epoch 394/400\n",
      "1/1 [==============================] - 0s 54ms/step - loss: 304.7947 - 2nd_loss: 2.0037 - tf.clip_by_value_3_loss: 60.8993 - tf.math.reduce_sum_3_loss: 53.7571 - tf.math.multiply_7_loss: 188.0973\n",
      "Epoch 395/400\n",
      "1/1 [==============================] - 0s 55ms/step - loss: 310.4787 - 2nd_loss: 2.0219 - tf.clip_by_value_3_loss: 67.4171 - tf.math.reduce_sum_3_loss: 53.3085 - tf.math.multiply_7_loss: 187.6939\n",
      "Epoch 396/400\n",
      "1/1 [==============================] - 0s 56ms/step - loss: 315.6793 - 2nd_loss: 2.0306 - tf.clip_by_value_3_loss: 72.6601 - tf.math.reduce_sum_3_loss: 53.4391 - tf.math.multiply_7_loss: 187.5122\n",
      "Epoch 397/400\n",
      "1/1 [==============================] - 0s 63ms/step - loss: 321.5574 - 2nd_loss: 2.0517 - tf.clip_by_value_3_loss: 79.4338 - tf.math.reduce_sum_3_loss: 52.9541 - tf.math.multiply_7_loss: 187.0805\n",
      "Epoch 398/400\n",
      "1/1 [==============================] - 0s 58ms/step - loss: 325.2268 - 2nd_loss: 2.0495 - tf.clip_by_value_3_loss: 82.9980 - tf.math.reduce_sum_3_loss: 53.1522 - tf.math.multiply_7_loss: 186.9897\n",
      "Epoch 399/400\n",
      "1/1 [==============================] - 0s 58ms/step - loss: 328.2897 - 2nd_loss: 2.0753 - tf.clip_by_value_3_loss: 86.5867 - tf.math.reduce_sum_3_loss: 52.7757 - tf.math.multiply_7_loss: 186.8147\n",
      "Epoch 400/400\n",
      "1/1 [==============================] - 0s 55ms/step - loss: 327.6904 - 2nd_loss: 2.0653 - tf.clip_by_value_3_loss: 86.3536 - tf.math.reduce_sum_3_loss: 52.8268 - tf.math.multiply_7_loss: 186.4073\n",
      "1/1 [==============================] - 0s 15ms/step\n",
      "1/1 [==============================] - 0s 14ms/step\n",
      "1/1 [==============================] - 0s 13ms/step\n",
      "1/1 [==============================] - 0s 13ms/step\n",
      "1/1 [==============================] - 0s 13ms/step\n",
      "1/1 [==============================] - 0s 13ms/step\n",
      "1/1 [==============================] - 0s 13ms/step\n",
      "1/1 [==============================] - 0s 13ms/step\n",
      "1/1 [==============================] - 0s 13ms/step\n",
      "2/2 [==============================] - 0s 4ms/step\n"
     ]
    },
    {
     "name": "stderr",
     "output_type": "stream",
     "text": [
      "/var/folders/s5/gs6xf1cd163d997b3wkjv0vc0000gp/T/ipykernel_77671/739605159.py:108: RuntimeWarning:\n",
      "\n",
      "overflow encountered in exp\n",
      "\n",
      "/var/folders/s5/gs6xf1cd163d997b3wkjv0vc0000gp/T/ipykernel_77671/739605159.py:108: RuntimeWarning:\n",
      "\n",
      "invalid value encountered in divide\n",
      "\n"
     ]
    }
   ],
   "source": [
    "sdne_plus_init = SDNE_plus(graph, \n",
    "                          hidden_size = [32, 64], \n",
    "                          lr = 9e-4,\n",
    "                          sense_features = sense_features.astype(np.float32),\n",
    "                          alpha = 10, \n",
    "                          beta = 1, \n",
    "                          gamma = 100, \n",
    "                          delta = 100)\n",
    "\n",
    "sdne_plus_init.model.set_weights(sdne.model.get_weights())\n",
    "history = sdne_plus_init.train(epochs = 400, batch_size = 1024)\n",
    "e = sdne_plus_init.get_embeddings()\n",
    "embed_plus_init = np.array([e[node_name] for node_name in graph.nodes()])\n",
    "embed_plus_init = (embed_plus_init - np.min(embed_plus_init)) / np.ptp(embed_plus_init)\n",
    "\n",
    "\n",
    "feature_dict_plus_init = find_feature_membership(input_embed = embed_plus_init,\n",
    "                                                    embed_name = 'SDNE+ Init',\n",
    "                                                    sense_features = sense_features,\n",
    "                                                    sense_feat_dict = sense_feat_dict,\n",
    "                                                    top_k = 8,\n",
    "                                                    solver = 'nmf')\n",
    "\n",
    "explain_plus_init = feature_dict_plus_init['explain_norm']\n",
    "explain_plus_init = (explain_plus_init - np.min(explain_plus_init)) / np.ptp(explain_plus_init)"
   ]
  },
  {
   "cell_type": "code",
   "execution_count": 12,
   "id": "4058d28a",
   "metadata": {},
   "outputs": [
    {
     "data": {
      "application/vnd.plotly.v1+json": {
       "config": {
        "plotlyServerURL": "https://plot.ly"
       },
       "data": [
        {
         "type": "heatmap",
         "x": [
          "Degree",
          "Clustering Coefficient",
          "Personalized Page Rank - Median",
          "Personalized Page Rank - Standard Deviation",
          "Structural Holes Constraint",
          "Average Neighbor Degree",
          "EgoNet Edges",
          "Average Neighbor Clustering",
          "Node Betweenness",
          "Page Rank",
          "Eccentricity",
          "Degree Centrality",
          "Eigen Centrality",
          "Katz Centrality"
         ],
         "z": [
          [
           0,
           0.003803869476541877,
           0,
           0,
           0,
           0.001979727763682604,
           0,
           0.0038506104610860348,
           0,
           0,
           0,
           0,
           0,
           0
          ],
          [
           0,
           0.008618217892944813,
           0,
           0,
           0,
           0,
           0,
           0.00683269277215004,
           0,
           0,
           0.009276230819523335,
           0,
           0,
           0.0005146077601239085
          ],
          [
           0,
           0,
           0,
           0.0005699610919691622,
           0,
           0,
           0,
           0,
           0,
           0,
           0,
           0,
           0,
           0.003592912806198001
          ],
          [
           0,
           0.023498930037021637,
           0,
           0,
           0,
           0.0006717774667777121,
           0,
           0.000564558373298496,
           0,
           0,
           0,
           0,
           0,
           0
          ],
          [
           0,
           0,
           0,
           0.023520177230238914,
           0.11736025661230087,
           0.006167002487927675,
           0,
           0,
           0,
           0,
           0.04046234115958214,
           0,
           0,
           0.00633052084594965
          ],
          [
           0,
           0,
           0,
           0.021090645343065262,
           0,
           0,
           0,
           0,
           0,
           0,
           0,
           0,
           0,
           0.0033444238360971212
          ],
          [
           0.10152841359376907,
           0.013575763441622257,
           0.12067143619060516,
           0,
           0,
           0.005916993599385023,
           0.13743232190608978,
           0,
           0.06839901208877563,
           0.0927458256483078,
           0,
           0.10152841359376907,
           0.12738686800003052,
           0
          ],
          [
           0,
           0,
           0,
           0,
           0,
           0,
           0,
           0,
           0,
           0,
           0,
           0,
           0,
           0
          ],
          [
           0,
           0.003840804798528552,
           0,
           0,
           0,
           0,
           0,
           0.0005142917507328093,
           0,
           0,
           0,
           0,
           0,
           0.0017508483724668622
          ],
          [
           0,
           0.006670192815363407,
           0,
           0,
           0,
           0,
           0,
           0,
           0,
           0,
           0.007699900772422552,
           0,
           0,
           0
          ],
          [
           0,
           0,
           0,
           0.24879978597164154,
           0,
           0,
           0,
           0,
           0,
           0,
           0,
           0,
           0,
           0
          ],
          [
           0,
           0.011769542470574379,
           0,
           0,
           0,
           0.00747193256393075,
           0,
           0,
           0,
           0,
           0.009128841571509838,
           0,
           0,
           0.007754823192954063
          ],
          [
           0,
           0,
           0,
           0,
           0,
           0,
           0,
           0.0019238470122218132,
           0,
           0,
           0,
           0,
           0,
           0
          ],
          [
           0,
           0,
           0,
           0,
           0,
           0,
           0,
           0.0052875434048473835,
           0,
           0,
           0,
           0,
           0,
           0
          ],
          [
           0,
           0,
           0,
           0.00879921205341816,
           0,
           0,
           0,
           0,
           0,
           0,
           0,
           0,
           0,
           0.0014988364418968558
          ],
          [
           0,
           0.002614628290757537,
           0,
           0,
           0,
           0,
           0,
           0.0008962753927335143,
           0,
           0,
           0,
           0,
           0,
           0
          ],
          [
           0,
           0.003861138364300132,
           0,
           0,
           0.04744381085038185,
           0.015339188277721405,
           0,
           0.004248923622071743,
           0,
           0,
           0.03142518922686577,
           0,
           0,
           0.007519145496189594
          ],
          [
           0.07952117919921875,
           0,
           0.06733597069978714,
           0,
           0,
           0.007485935930162668,
           0.12523232400417328,
           0,
           0,
           0.05570638179779053,
           0.10238727182149887,
           0.07952117919921875,
           0.13109496235847473,
           0
          ],
          [
           0,
           0.003538233693689108,
           0,
           0,
           0,
           0.0047399806790053844,
           0,
           0.003915148787200451,
           0,
           0,
           0.008419266901910305,
           0,
           0,
           0
          ],
          [
           0,
           0,
           0,
           0,
           0,
           0.001498670782893896,
           0,
           0,
           0,
           0,
           0,
           0,
           0,
           0
          ],
          [
           0,
           0,
           0,
           0,
           0,
           7.151223690016195e-05,
           0,
           0,
           0,
           0,
           0,
           0,
           0,
           0.008084998466074467
          ],
          [
           0,
           0,
           0,
           0,
           0,
           0,
           0,
           0,
           0,
           0,
           0,
           0,
           0,
           0
          ],
          [
           0,
           0.004666968714445829,
           0,
           0.005734848324209452,
           0,
           0,
           0,
           0.0025125418324023485,
           0,
           0,
           0.004834020510315895,
           0,
           0,
           0
          ],
          [
           0.003946100827306509,
           0,
           0.0022175589110702276,
           0,
           0,
           0.002562368754297495,
           0.004316268488764763,
           0,
           0,
           0.0034324389416724443,
           0,
           0.003946100827306509,
           0.001704528694972396,
           0
          ],
          [
           0.010186455212533474,
           0,
           0.005716684740036726,
           0,
           0,
           0,
           0,
           0.002325596520677209,
           0,
           0.011093978770077229,
           0,
           0.010186455212533474,
           0.0018150489777326584,
           0
          ],
          [
           0,
           0.0014227030333131552,
           0,
           0,
           0,
           0,
           0,
           0,
           0,
           0,
           0,
           0,
           0,
           0
          ],
          [
           0,
           0,
           0,
           0.003800604958087206,
           0,
           0,
           0,
           0,
           0,
           0,
           0,
           0,
           0,
           0.0026462841778993607
          ],
          [
           0,
           0.0024637137539684772,
           0,
           0,
           0,
           0,
           0,
           0.0006146954838186502,
           0,
           0,
           0,
           0,
           0,
           0
          ],
          [
           0,
           0,
           0,
           0.0005286083905957639,
           0,
           0,
           0,
           0.00036496855318546295,
           0,
           0,
           0,
           0,
           0,
           0
          ],
          [
           0,
           0,
           0,
           1,
           0,
           0.058997925370931625,
           0,
           0,
           0,
           0,
           0,
           0,
           0,
           0
          ],
          [
           0.008486790582537651,
           0,
           0.013782255351543427,
           0,
           0,
           0.0027240051422268152,
           0.012742102146148682,
           0,
           0.01910368725657463,
           0.008461570367217064,
           0,
           0.008486790582537651,
           0.015565812587738037,
           0
          ],
          [
           0,
           0.004758873488754034,
           0,
           0,
           0.010068167932331562,
           0.0023319413885474205,
           0,
           0,
           0,
           0,
           0,
           0,
           0,
           0.0023514910135418177
          ],
          [
           0,
           0,
           0,
           0.005173904821276665,
           0,
           0.0027992678806185722,
           0,
           0,
           0,
           0,
           0.004180647432804108,
           0,
           0,
           0
          ],
          [
           0,
           0,
           0,
           0,
           0,
           0,
           0,
           0,
           0,
           0,
           0.011429144069552422,
           0,
           0,
           0.0013874729629606009
          ],
          [
           0.03282031789422035,
           0,
           0.03776709362864494,
           0,
           0,
           0.007805407512933016,
           0.04705150052905083,
           0.007801006082445383,
           0.058922410011291504,
           0.03215264528989792,
           0,
           0.03282031789422035,
           0.03717939928174019,
           0
          ],
          [
           0,
           0,
           0,
           0,
           0,
           0.0005872197216376662,
           0,
           0.0027804372366517782,
           0,
           0,
           0.005084668286144733,
           0,
           0,
           0.0012395846424624324
          ],
          [
           0,
           0.0041971164755523205,
           0,
           0,
           0,
           0.008614913560450077,
           0,
           0.0021698088385164738,
           0,
           0,
           0.009552516974508762,
           0,
           0,
           0.008844172582030296
          ],
          [
           0,
           0,
           0,
           0,
           0,
           0.0008537622052244842,
           0,
           0,
           0,
           0,
           0,
           0,
           0,
           0
          ],
          [
           0,
           0,
           0,
           0,
           0,
           0.0001900015922728926,
           0,
           0,
           0,
           0,
           0,
           0,
           0,
           0.008389310911297798
          ],
          [
           0.020472101867198944,
           0,
           0.01749253459274769,
           0,
           0,
           0.0025784773752093315,
           0.014916174113750458,
           0.002480089897289872,
           0.00426585553213954,
           0.020466651767492294,
           0,
           0.020472101867198944,
           0.01914021745324135,
           0.0016950989374890924
          ],
          [
           0,
           0,
           0,
           0.0032962088007479906,
           0,
           0,
           0,
           0,
           0,
           0,
           0,
           0,
           0,
           0
          ],
          [
           0.3203444480895996,
           0,
           0.3673417866230011,
           0.04850596562027931,
           0,
           0.0028217483777552843,
           0.5986297726631165,
           0,
           0.6197077631950378,
           0.30626028776168823,
           0,
           0.3203444480895996,
           0.35922372341156006,
           0
          ],
          [
           0,
           0,
           0,
           0,
           0,
           0.011669758707284927,
           0,
           0,
           0,
           0,
           0,
           0,
           0,
           0
          ],
          [
           0,
           0,
           0,
           0,
           0,
           0.0005330725689418614,
           0,
           0,
           0,
           0,
           0,
           0,
           0,
           0.0006557233864441514
          ],
          [
           0,
           0,
           0,
           0,
           0,
           0,
           0,
           0.002734730252996087,
           0,
           0,
           0,
           0,
           0,
           0.0024136619176715612
          ],
          [
           0,
           0.005400151014328003,
           0,
           0,
           0.04412558302283287,
           0.01040654256939888,
           0,
           0.004761686082929373,
           0,
           0,
           0.008078547194600105,
           0,
           0,
           0.00696959113702178
          ],
          [
           0,
           0.017658397555351257,
           0,
           0,
           0,
           0,
           0,
           0.016285164281725883,
           0,
           0,
           0.04310924559831619,
           0,
           0,
           0
          ],
          [
           0,
           0.0013301188591867685,
           0,
           0,
           0,
           0.00393978925421834,
           0,
           0.0031874547712504864,
           0,
           0,
           0,
           0,
           0,
           0
          ],
          [
           0,
           0.0006129482062533498,
           0,
           0,
           0,
           0,
           0,
           0.0005919545073993504,
           0,
           0,
           0,
           0,
           0,
           0.0016237810486927629
          ],
          [
           0,
           0,
           0,
           0,
           0,
           0,
           0,
           0,
           0,
           0,
           0,
           0,
           0,
           0
          ],
          [
           0,
           0,
           0,
           0,
           0,
           0,
           0,
           0,
           0,
           0,
           0,
           0,
           0,
           0
          ],
          [
           0,
           0.0002176030247937888,
           0,
           0,
           0,
           0,
           0,
           0.0012459069257602096,
           0,
           0,
           0,
           0,
           0,
           0.008626090362668037
          ],
          [
           0,
           0.013564672321081161,
           0,
           0,
           0,
           0,
           0,
           0.004134120419621468,
           0,
           0,
           0,
           0,
           0,
           0.0007639804971404374
          ],
          [
           0,
           0.003652464598417282,
           0,
           0.024735255166888237,
           0,
           0.001560410251840949,
           0,
           0.002456797519698739,
           0,
           0,
           0.00203588604927063,
           0,
           0.005739165935665369,
           0
          ],
          [
           0,
           0.003067899728193879,
           0,
           0,
           0,
           0.004642223007977009,
           0,
           0.005690517369657755,
           0,
           0,
           0,
           0,
           0,
           0
          ],
          [
           0,
           0.006515292916446924,
           0,
           0.00828898511826992,
           0,
           0.003066194476559758,
           0,
           0.0026005844119936228,
           0,
           0,
           0,
           0,
           0,
           0.00513257784768939
          ],
          [
           0.32573720812797546,
           0,
           0.37458109855651855,
           0,
           0,
           0.014119834639132023,
           0.5786426663398743,
           0,
           0.05691548064351082,
           0.24564923346042633,
           0,
           0.32573720812797546,
           0.4910122752189636,
           0.15213020145893097
          ],
          [
           0,
           0,
           0,
           0,
           0,
           0,
           0,
           0.003939935006201267,
           0,
           0,
           0,
           0,
           0,
           0
          ],
          [
           0,
           0,
           0,
           0,
           0,
           0,
           0,
           0,
           0,
           0,
           0,
           0,
           0,
           0
          ],
          [
           0,
           0.0017160656861960888,
           0,
           0,
           0,
           0,
           0,
           0,
           0,
           0,
           0,
           0,
           0,
           0
          ],
          [
           0.3850359320640564,
           0,
           0.4392469823360443,
           0.05112172290682793,
           0,
           0,
           0.7171459794044495,
           0,
           0.8840669989585876,
           0.36866772174835205,
           0,
           0.3850359320640564,
           0.3997765779495239,
           0
          ],
          [
           0,
           0.0015533793484792113,
           0,
           0,
           0,
           0.0026733223348855972,
           0,
           0.0032607153989374638,
           0,
           0,
           0,
           0,
           0.0019200666574761271,
           0
          ],
          [
           0,
           0.006830865051597357,
           0,
           0,
           0,
           0.0021005398593842983,
           0,
           0.004926625173538923,
           0,
           0,
           0,
           0,
           0,
           0.007070678751915693
          ],
          [
           0,
           0,
           0,
           0,
           0,
           0,
           0,
           0,
           0,
           0,
           0,
           0,
           0,
           0.003986499272286892
          ]
         ]
        }
       ],
       "layout": {
        "template": {
         "data": {
          "bar": [
           {
            "error_x": {
             "color": "#2a3f5f"
            },
            "error_y": {
             "color": "#2a3f5f"
            },
            "marker": {
             "line": {
              "color": "#E5ECF6",
              "width": 0.5
             },
             "pattern": {
              "fillmode": "overlay",
              "size": 10,
              "solidity": 0.2
             }
            },
            "type": "bar"
           }
          ],
          "barpolar": [
           {
            "marker": {
             "line": {
              "color": "#E5ECF6",
              "width": 0.5
             },
             "pattern": {
              "fillmode": "overlay",
              "size": 10,
              "solidity": 0.2
             }
            },
            "type": "barpolar"
           }
          ],
          "carpet": [
           {
            "aaxis": {
             "endlinecolor": "#2a3f5f",
             "gridcolor": "white",
             "linecolor": "white",
             "minorgridcolor": "white",
             "startlinecolor": "#2a3f5f"
            },
            "baxis": {
             "endlinecolor": "#2a3f5f",
             "gridcolor": "white",
             "linecolor": "white",
             "minorgridcolor": "white",
             "startlinecolor": "#2a3f5f"
            },
            "type": "carpet"
           }
          ],
          "choropleth": [
           {
            "colorbar": {
             "outlinewidth": 0,
             "ticks": ""
            },
            "type": "choropleth"
           }
          ],
          "contour": [
           {
            "colorbar": {
             "outlinewidth": 0,
             "ticks": ""
            },
            "colorscale": [
             [
              0,
              "#0d0887"
             ],
             [
              0.1111111111111111,
              "#46039f"
             ],
             [
              0.2222222222222222,
              "#7201a8"
             ],
             [
              0.3333333333333333,
              "#9c179e"
             ],
             [
              0.4444444444444444,
              "#bd3786"
             ],
             [
              0.5555555555555556,
              "#d8576b"
             ],
             [
              0.6666666666666666,
              "#ed7953"
             ],
             [
              0.7777777777777778,
              "#fb9f3a"
             ],
             [
              0.8888888888888888,
              "#fdca26"
             ],
             [
              1,
              "#f0f921"
             ]
            ],
            "type": "contour"
           }
          ],
          "contourcarpet": [
           {
            "colorbar": {
             "outlinewidth": 0,
             "ticks": ""
            },
            "type": "contourcarpet"
           }
          ],
          "heatmap": [
           {
            "colorbar": {
             "outlinewidth": 0,
             "ticks": ""
            },
            "colorscale": [
             [
              0,
              "#0d0887"
             ],
             [
              0.1111111111111111,
              "#46039f"
             ],
             [
              0.2222222222222222,
              "#7201a8"
             ],
             [
              0.3333333333333333,
              "#9c179e"
             ],
             [
              0.4444444444444444,
              "#bd3786"
             ],
             [
              0.5555555555555556,
              "#d8576b"
             ],
             [
              0.6666666666666666,
              "#ed7953"
             ],
             [
              0.7777777777777778,
              "#fb9f3a"
             ],
             [
              0.8888888888888888,
              "#fdca26"
             ],
             [
              1,
              "#f0f921"
             ]
            ],
            "type": "heatmap"
           }
          ],
          "heatmapgl": [
           {
            "colorbar": {
             "outlinewidth": 0,
             "ticks": ""
            },
            "colorscale": [
             [
              0,
              "#0d0887"
             ],
             [
              0.1111111111111111,
              "#46039f"
             ],
             [
              0.2222222222222222,
              "#7201a8"
             ],
             [
              0.3333333333333333,
              "#9c179e"
             ],
             [
              0.4444444444444444,
              "#bd3786"
             ],
             [
              0.5555555555555556,
              "#d8576b"
             ],
             [
              0.6666666666666666,
              "#ed7953"
             ],
             [
              0.7777777777777778,
              "#fb9f3a"
             ],
             [
              0.8888888888888888,
              "#fdca26"
             ],
             [
              1,
              "#f0f921"
             ]
            ],
            "type": "heatmapgl"
           }
          ],
          "histogram": [
           {
            "marker": {
             "pattern": {
              "fillmode": "overlay",
              "size": 10,
              "solidity": 0.2
             }
            },
            "type": "histogram"
           }
          ],
          "histogram2d": [
           {
            "colorbar": {
             "outlinewidth": 0,
             "ticks": ""
            },
            "colorscale": [
             [
              0,
              "#0d0887"
             ],
             [
              0.1111111111111111,
              "#46039f"
             ],
             [
              0.2222222222222222,
              "#7201a8"
             ],
             [
              0.3333333333333333,
              "#9c179e"
             ],
             [
              0.4444444444444444,
              "#bd3786"
             ],
             [
              0.5555555555555556,
              "#d8576b"
             ],
             [
              0.6666666666666666,
              "#ed7953"
             ],
             [
              0.7777777777777778,
              "#fb9f3a"
             ],
             [
              0.8888888888888888,
              "#fdca26"
             ],
             [
              1,
              "#f0f921"
             ]
            ],
            "type": "histogram2d"
           }
          ],
          "histogram2dcontour": [
           {
            "colorbar": {
             "outlinewidth": 0,
             "ticks": ""
            },
            "colorscale": [
             [
              0,
              "#0d0887"
             ],
             [
              0.1111111111111111,
              "#46039f"
             ],
             [
              0.2222222222222222,
              "#7201a8"
             ],
             [
              0.3333333333333333,
              "#9c179e"
             ],
             [
              0.4444444444444444,
              "#bd3786"
             ],
             [
              0.5555555555555556,
              "#d8576b"
             ],
             [
              0.6666666666666666,
              "#ed7953"
             ],
             [
              0.7777777777777778,
              "#fb9f3a"
             ],
             [
              0.8888888888888888,
              "#fdca26"
             ],
             [
              1,
              "#f0f921"
             ]
            ],
            "type": "histogram2dcontour"
           }
          ],
          "mesh3d": [
           {
            "colorbar": {
             "outlinewidth": 0,
             "ticks": ""
            },
            "type": "mesh3d"
           }
          ],
          "parcoords": [
           {
            "line": {
             "colorbar": {
              "outlinewidth": 0,
              "ticks": ""
             }
            },
            "type": "parcoords"
           }
          ],
          "pie": [
           {
            "automargin": true,
            "type": "pie"
           }
          ],
          "scatter": [
           {
            "fillpattern": {
             "fillmode": "overlay",
             "size": 10,
             "solidity": 0.2
            },
            "type": "scatter"
           }
          ],
          "scatter3d": [
           {
            "line": {
             "colorbar": {
              "outlinewidth": 0,
              "ticks": ""
             }
            },
            "marker": {
             "colorbar": {
              "outlinewidth": 0,
              "ticks": ""
             }
            },
            "type": "scatter3d"
           }
          ],
          "scattercarpet": [
           {
            "marker": {
             "colorbar": {
              "outlinewidth": 0,
              "ticks": ""
             }
            },
            "type": "scattercarpet"
           }
          ],
          "scattergeo": [
           {
            "marker": {
             "colorbar": {
              "outlinewidth": 0,
              "ticks": ""
             }
            },
            "type": "scattergeo"
           }
          ],
          "scattergl": [
           {
            "marker": {
             "colorbar": {
              "outlinewidth": 0,
              "ticks": ""
             }
            },
            "type": "scattergl"
           }
          ],
          "scattermapbox": [
           {
            "marker": {
             "colorbar": {
              "outlinewidth": 0,
              "ticks": ""
             }
            },
            "type": "scattermapbox"
           }
          ],
          "scatterpolar": [
           {
            "marker": {
             "colorbar": {
              "outlinewidth": 0,
              "ticks": ""
             }
            },
            "type": "scatterpolar"
           }
          ],
          "scatterpolargl": [
           {
            "marker": {
             "colorbar": {
              "outlinewidth": 0,
              "ticks": ""
             }
            },
            "type": "scatterpolargl"
           }
          ],
          "scatterternary": [
           {
            "marker": {
             "colorbar": {
              "outlinewidth": 0,
              "ticks": ""
             }
            },
            "type": "scatterternary"
           }
          ],
          "surface": [
           {
            "colorbar": {
             "outlinewidth": 0,
             "ticks": ""
            },
            "colorscale": [
             [
              0,
              "#0d0887"
             ],
             [
              0.1111111111111111,
              "#46039f"
             ],
             [
              0.2222222222222222,
              "#7201a8"
             ],
             [
              0.3333333333333333,
              "#9c179e"
             ],
             [
              0.4444444444444444,
              "#bd3786"
             ],
             [
              0.5555555555555556,
              "#d8576b"
             ],
             [
              0.6666666666666666,
              "#ed7953"
             ],
             [
              0.7777777777777778,
              "#fb9f3a"
             ],
             [
              0.8888888888888888,
              "#fdca26"
             ],
             [
              1,
              "#f0f921"
             ]
            ],
            "type": "surface"
           }
          ],
          "table": [
           {
            "cells": {
             "fill": {
              "color": "#EBF0F8"
             },
             "line": {
              "color": "white"
             }
            },
            "header": {
             "fill": {
              "color": "#C8D4E3"
             },
             "line": {
              "color": "white"
             }
            },
            "type": "table"
           }
          ]
         },
         "layout": {
          "annotationdefaults": {
           "arrowcolor": "#2a3f5f",
           "arrowhead": 0,
           "arrowwidth": 1
          },
          "autotypenumbers": "strict",
          "coloraxis": {
           "colorbar": {
            "outlinewidth": 0,
            "ticks": ""
           }
          },
          "colorscale": {
           "diverging": [
            [
             0,
             "#8e0152"
            ],
            [
             0.1,
             "#c51b7d"
            ],
            [
             0.2,
             "#de77ae"
            ],
            [
             0.3,
             "#f1b6da"
            ],
            [
             0.4,
             "#fde0ef"
            ],
            [
             0.5,
             "#f7f7f7"
            ],
            [
             0.6,
             "#e6f5d0"
            ],
            [
             0.7,
             "#b8e186"
            ],
            [
             0.8,
             "#7fbc41"
            ],
            [
             0.9,
             "#4d9221"
            ],
            [
             1,
             "#276419"
            ]
           ],
           "sequential": [
            [
             0,
             "#0d0887"
            ],
            [
             0.1111111111111111,
             "#46039f"
            ],
            [
             0.2222222222222222,
             "#7201a8"
            ],
            [
             0.3333333333333333,
             "#9c179e"
            ],
            [
             0.4444444444444444,
             "#bd3786"
            ],
            [
             0.5555555555555556,
             "#d8576b"
            ],
            [
             0.6666666666666666,
             "#ed7953"
            ],
            [
             0.7777777777777778,
             "#fb9f3a"
            ],
            [
             0.8888888888888888,
             "#fdca26"
            ],
            [
             1,
             "#f0f921"
            ]
           ],
           "sequentialminus": [
            [
             0,
             "#0d0887"
            ],
            [
             0.1111111111111111,
             "#46039f"
            ],
            [
             0.2222222222222222,
             "#7201a8"
            ],
            [
             0.3333333333333333,
             "#9c179e"
            ],
            [
             0.4444444444444444,
             "#bd3786"
            ],
            [
             0.5555555555555556,
             "#d8576b"
            ],
            [
             0.6666666666666666,
             "#ed7953"
            ],
            [
             0.7777777777777778,
             "#fb9f3a"
            ],
            [
             0.8888888888888888,
             "#fdca26"
            ],
            [
             1,
             "#f0f921"
            ]
           ]
          },
          "colorway": [
           "#636efa",
           "#EF553B",
           "#00cc96",
           "#ab63fa",
           "#FFA15A",
           "#19d3f3",
           "#FF6692",
           "#B6E880",
           "#FF97FF",
           "#FECB52"
          ],
          "font": {
           "color": "#2a3f5f"
          },
          "geo": {
           "bgcolor": "white",
           "lakecolor": "white",
           "landcolor": "#E5ECF6",
           "showlakes": true,
           "showland": true,
           "subunitcolor": "white"
          },
          "hoverlabel": {
           "align": "left"
          },
          "hovermode": "closest",
          "mapbox": {
           "style": "light"
          },
          "paper_bgcolor": "white",
          "plot_bgcolor": "#E5ECF6",
          "polar": {
           "angularaxis": {
            "gridcolor": "white",
            "linecolor": "white",
            "ticks": ""
           },
           "bgcolor": "#E5ECF6",
           "radialaxis": {
            "gridcolor": "white",
            "linecolor": "white",
            "ticks": ""
           }
          },
          "scene": {
           "xaxis": {
            "backgroundcolor": "#E5ECF6",
            "gridcolor": "white",
            "gridwidth": 2,
            "linecolor": "white",
            "showbackground": true,
            "ticks": "",
            "zerolinecolor": "white"
           },
           "yaxis": {
            "backgroundcolor": "#E5ECF6",
            "gridcolor": "white",
            "gridwidth": 2,
            "linecolor": "white",
            "showbackground": true,
            "ticks": "",
            "zerolinecolor": "white"
           },
           "zaxis": {
            "backgroundcolor": "#E5ECF6",
            "gridcolor": "white",
            "gridwidth": 2,
            "linecolor": "white",
            "showbackground": true,
            "ticks": "",
            "zerolinecolor": "white"
           }
          },
          "shapedefaults": {
           "line": {
            "color": "#2a3f5f"
           }
          },
          "ternary": {
           "aaxis": {
            "gridcolor": "white",
            "linecolor": "white",
            "ticks": ""
           },
           "baxis": {
            "gridcolor": "white",
            "linecolor": "white",
            "ticks": ""
           },
           "bgcolor": "#E5ECF6",
           "caxis": {
            "gridcolor": "white",
            "linecolor": "white",
            "ticks": ""
           }
          },
          "title": {
           "x": 0.05
          },
          "xaxis": {
           "automargin": true,
           "gridcolor": "white",
           "linecolor": "white",
           "ticks": "",
           "title": {
            "standoff": 15
           },
           "zerolinecolor": "white",
           "zerolinewidth": 2
          },
          "yaxis": {
           "automargin": true,
           "gridcolor": "white",
           "linecolor": "white",
           "ticks": "",
           "title": {
            "standoff": 15
           },
           "zerolinecolor": "white",
           "zerolinewidth": 2
          }
         }
        },
        "title": {
         "text": "SDNE : 4.1004148"
        },
        "xaxis": {
         "title": {
          "text": "Sense Features"
         }
        },
        "yaxis": {
         "title": {
          "text": "Dimensions"
         }
        }
       }
      },
      "text/html": [
       "<div>                            <div id=\"90d4bb93-27a8-4045-a2da-d53671ae2514\" class=\"plotly-graph-div\" style=\"height:525px; width:100%;\"></div>            <script type=\"text/javascript\">                require([\"plotly\"], function(Plotly) {                    window.PLOTLYENV=window.PLOTLYENV || {};                                    if (document.getElementById(\"90d4bb93-27a8-4045-a2da-d53671ae2514\")) {                    Plotly.newPlot(                        \"90d4bb93-27a8-4045-a2da-d53671ae2514\",                        [{\"x\":[\"Degree\",\"Clustering Coefficient\",\"Personalized Page Rank - Median\",\"Personalized Page Rank - Standard Deviation\",\"Structural Holes Constraint\",\"Average Neighbor Degree\",\"EgoNet Edges\",\"Average Neighbor Clustering\",\"Node Betweenness\",\"Page Rank\",\"Eccentricity\",\"Degree Centrality\",\"Eigen Centrality\",\"Katz Centrality\"],\"z\":[[0.0,0.003803869476541877,0.0,0.0,0.0,0.001979727763682604,0.0,0.0038506104610860348,0.0,0.0,0.0,0.0,0.0,0.0],[0.0,0.008618217892944813,0.0,0.0,0.0,0.0,0.0,0.00683269277215004,0.0,0.0,0.009276230819523335,0.0,0.0,0.0005146077601239085],[0.0,0.0,0.0,0.0005699610919691622,0.0,0.0,0.0,0.0,0.0,0.0,0.0,0.0,0.0,0.003592912806198001],[0.0,0.023498930037021637,0.0,0.0,0.0,0.0006717774667777121,0.0,0.000564558373298496,0.0,0.0,0.0,0.0,0.0,0.0],[0.0,0.0,0.0,0.023520177230238914,0.11736025661230087,0.006167002487927675,0.0,0.0,0.0,0.0,0.04046234115958214,0.0,0.0,0.00633052084594965],[0.0,0.0,0.0,0.021090645343065262,0.0,0.0,0.0,0.0,0.0,0.0,0.0,0.0,0.0,0.0033444238360971212],[0.10152841359376907,0.013575763441622257,0.12067143619060516,0.0,0.0,0.005916993599385023,0.13743232190608978,0.0,0.06839901208877563,0.0927458256483078,0.0,0.10152841359376907,0.12738686800003052,0.0],[0.0,0.0,0.0,0.0,0.0,0.0,0.0,0.0,0.0,0.0,0.0,0.0,0.0,0.0],[0.0,0.003840804798528552,0.0,0.0,0.0,0.0,0.0,0.0005142917507328093,0.0,0.0,0.0,0.0,0.0,0.0017508483724668622],[0.0,0.006670192815363407,0.0,0.0,0.0,0.0,0.0,0.0,0.0,0.0,0.007699900772422552,0.0,0.0,0.0],[0.0,0.0,0.0,0.24879978597164154,0.0,0.0,0.0,0.0,0.0,0.0,0.0,0.0,0.0,0.0],[0.0,0.011769542470574379,0.0,0.0,0.0,0.00747193256393075,0.0,0.0,0.0,0.0,0.009128841571509838,0.0,0.0,0.007754823192954063],[0.0,0.0,0.0,0.0,0.0,0.0,0.0,0.0019238470122218132,0.0,0.0,0.0,0.0,0.0,0.0],[0.0,0.0,0.0,0.0,0.0,0.0,0.0,0.0052875434048473835,0.0,0.0,0.0,0.0,0.0,0.0],[0.0,0.0,0.0,0.00879921205341816,0.0,0.0,0.0,0.0,0.0,0.0,0.0,0.0,0.0,0.0014988364418968558],[0.0,0.002614628290757537,0.0,0.0,0.0,0.0,0.0,0.0008962753927335143,0.0,0.0,0.0,0.0,0.0,0.0],[0.0,0.003861138364300132,0.0,0.0,0.04744381085038185,0.015339188277721405,0.0,0.004248923622071743,0.0,0.0,0.03142518922686577,0.0,0.0,0.007519145496189594],[0.07952117919921875,0.0,0.06733597069978714,0.0,0.0,0.007485935930162668,0.12523232400417328,0.0,0.0,0.05570638179779053,0.10238727182149887,0.07952117919921875,0.13109496235847473,0.0],[0.0,0.003538233693689108,0.0,0.0,0.0,0.0047399806790053844,0.0,0.003915148787200451,0.0,0.0,0.008419266901910305,0.0,0.0,0.0],[0.0,0.0,0.0,0.0,0.0,0.001498670782893896,0.0,0.0,0.0,0.0,0.0,0.0,0.0,0.0],[0.0,0.0,0.0,0.0,0.0,7.151223690016195e-05,0.0,0.0,0.0,0.0,0.0,0.0,0.0,0.008084998466074467],[0.0,0.0,0.0,0.0,0.0,0.0,0.0,0.0,0.0,0.0,0.0,0.0,0.0,0.0],[0.0,0.004666968714445829,0.0,0.005734848324209452,0.0,0.0,0.0,0.0025125418324023485,0.0,0.0,0.004834020510315895,0.0,0.0,0.0],[0.003946100827306509,0.0,0.0022175589110702276,0.0,0.0,0.002562368754297495,0.004316268488764763,0.0,0.0,0.0034324389416724443,0.0,0.003946100827306509,0.001704528694972396,0.0],[0.010186455212533474,0.0,0.005716684740036726,0.0,0.0,0.0,0.0,0.002325596520677209,0.0,0.011093978770077229,0.0,0.010186455212533474,0.0018150489777326584,0.0],[0.0,0.0014227030333131552,0.0,0.0,0.0,0.0,0.0,0.0,0.0,0.0,0.0,0.0,0.0,0.0],[0.0,0.0,0.0,0.003800604958087206,0.0,0.0,0.0,0.0,0.0,0.0,0.0,0.0,0.0,0.0026462841778993607],[0.0,0.0024637137539684772,0.0,0.0,0.0,0.0,0.0,0.0006146954838186502,0.0,0.0,0.0,0.0,0.0,0.0],[0.0,0.0,0.0,0.0005286083905957639,0.0,0.0,0.0,0.00036496855318546295,0.0,0.0,0.0,0.0,0.0,0.0],[0.0,0.0,0.0,1.0,0.0,0.058997925370931625,0.0,0.0,0.0,0.0,0.0,0.0,0.0,0.0],[0.008486790582537651,0.0,0.013782255351543427,0.0,0.0,0.0027240051422268152,0.012742102146148682,0.0,0.01910368725657463,0.008461570367217064,0.0,0.008486790582537651,0.015565812587738037,0.0],[0.0,0.004758873488754034,0.0,0.0,0.010068167932331562,0.0023319413885474205,0.0,0.0,0.0,0.0,0.0,0.0,0.0,0.0023514910135418177],[0.0,0.0,0.0,0.005173904821276665,0.0,0.0027992678806185722,0.0,0.0,0.0,0.0,0.004180647432804108,0.0,0.0,0.0],[0.0,0.0,0.0,0.0,0.0,0.0,0.0,0.0,0.0,0.0,0.011429144069552422,0.0,0.0,0.0013874729629606009],[0.03282031789422035,0.0,0.03776709362864494,0.0,0.0,0.007805407512933016,0.04705150052905083,0.007801006082445383,0.058922410011291504,0.03215264528989792,0.0,0.03282031789422035,0.03717939928174019,0.0],[0.0,0.0,0.0,0.0,0.0,0.0005872197216376662,0.0,0.0027804372366517782,0.0,0.0,0.005084668286144733,0.0,0.0,0.0012395846424624324],[0.0,0.0041971164755523205,0.0,0.0,0.0,0.008614913560450077,0.0,0.0021698088385164738,0.0,0.0,0.009552516974508762,0.0,0.0,0.008844172582030296],[0.0,0.0,0.0,0.0,0.0,0.0008537622052244842,0.0,0.0,0.0,0.0,0.0,0.0,0.0,0.0],[0.0,0.0,0.0,0.0,0.0,0.0001900015922728926,0.0,0.0,0.0,0.0,0.0,0.0,0.0,0.008389310911297798],[0.020472101867198944,0.0,0.01749253459274769,0.0,0.0,0.0025784773752093315,0.014916174113750458,0.002480089897289872,0.00426585553213954,0.020466651767492294,0.0,0.020472101867198944,0.01914021745324135,0.0016950989374890924],[0.0,0.0,0.0,0.0032962088007479906,0.0,0.0,0.0,0.0,0.0,0.0,0.0,0.0,0.0,0.0],[0.3203444480895996,0.0,0.3673417866230011,0.04850596562027931,0.0,0.0028217483777552843,0.5986297726631165,0.0,0.6197077631950378,0.30626028776168823,0.0,0.3203444480895996,0.35922372341156006,0.0],[0.0,0.0,0.0,0.0,0.0,0.011669758707284927,0.0,0.0,0.0,0.0,0.0,0.0,0.0,0.0],[0.0,0.0,0.0,0.0,0.0,0.0005330725689418614,0.0,0.0,0.0,0.0,0.0,0.0,0.0,0.0006557233864441514],[0.0,0.0,0.0,0.0,0.0,0.0,0.0,0.002734730252996087,0.0,0.0,0.0,0.0,0.0,0.0024136619176715612],[0.0,0.005400151014328003,0.0,0.0,0.04412558302283287,0.01040654256939888,0.0,0.004761686082929373,0.0,0.0,0.008078547194600105,0.0,0.0,0.00696959113702178],[0.0,0.017658397555351257,0.0,0.0,0.0,0.0,0.0,0.016285164281725883,0.0,0.0,0.04310924559831619,0.0,0.0,0.0],[0.0,0.0013301188591867685,0.0,0.0,0.0,0.00393978925421834,0.0,0.0031874547712504864,0.0,0.0,0.0,0.0,0.0,0.0],[0.0,0.0006129482062533498,0.0,0.0,0.0,0.0,0.0,0.0005919545073993504,0.0,0.0,0.0,0.0,0.0,0.0016237810486927629],[0.0,0.0,0.0,0.0,0.0,0.0,0.0,0.0,0.0,0.0,0.0,0.0,0.0,0.0],[0.0,0.0,0.0,0.0,0.0,0.0,0.0,0.0,0.0,0.0,0.0,0.0,0.0,0.0],[0.0,0.0002176030247937888,0.0,0.0,0.0,0.0,0.0,0.0012459069257602096,0.0,0.0,0.0,0.0,0.0,0.008626090362668037],[0.0,0.013564672321081161,0.0,0.0,0.0,0.0,0.0,0.004134120419621468,0.0,0.0,0.0,0.0,0.0,0.0007639804971404374],[0.0,0.003652464598417282,0.0,0.024735255166888237,0.0,0.001560410251840949,0.0,0.002456797519698739,0.0,0.0,0.00203588604927063,0.0,0.005739165935665369,0.0],[0.0,0.003067899728193879,0.0,0.0,0.0,0.004642223007977009,0.0,0.005690517369657755,0.0,0.0,0.0,0.0,0.0,0.0],[0.0,0.006515292916446924,0.0,0.00828898511826992,0.0,0.003066194476559758,0.0,0.0026005844119936228,0.0,0.0,0.0,0.0,0.0,0.00513257784768939],[0.32573720812797546,0.0,0.37458109855651855,0.0,0.0,0.014119834639132023,0.5786426663398743,0.0,0.05691548064351082,0.24564923346042633,0.0,0.32573720812797546,0.4910122752189636,0.15213020145893097],[0.0,0.0,0.0,0.0,0.0,0.0,0.0,0.003939935006201267,0.0,0.0,0.0,0.0,0.0,0.0],[0.0,0.0,0.0,0.0,0.0,0.0,0.0,0.0,0.0,0.0,0.0,0.0,0.0,0.0],[0.0,0.0017160656861960888,0.0,0.0,0.0,0.0,0.0,0.0,0.0,0.0,0.0,0.0,0.0,0.0],[0.3850359320640564,0.0,0.4392469823360443,0.05112172290682793,0.0,0.0,0.7171459794044495,0.0,0.8840669989585876,0.36866772174835205,0.0,0.3850359320640564,0.3997765779495239,0.0],[0.0,0.0015533793484792113,0.0,0.0,0.0,0.0026733223348855972,0.0,0.0032607153989374638,0.0,0.0,0.0,0.0,0.0019200666574761271,0.0],[0.0,0.006830865051597357,0.0,0.0,0.0,0.0021005398593842983,0.0,0.004926625173538923,0.0,0.0,0.0,0.0,0.0,0.007070678751915693],[0.0,0.0,0.0,0.0,0.0,0.0,0.0,0.0,0.0,0.0,0.0,0.0,0.0,0.003986499272286892]],\"type\":\"heatmap\"}],                        {\"template\":{\"data\":{\"histogram2dcontour\":[{\"type\":\"histogram2dcontour\",\"colorbar\":{\"outlinewidth\":0,\"ticks\":\"\"},\"colorscale\":[[0.0,\"#0d0887\"],[0.1111111111111111,\"#46039f\"],[0.2222222222222222,\"#7201a8\"],[0.3333333333333333,\"#9c179e\"],[0.4444444444444444,\"#bd3786\"],[0.5555555555555556,\"#d8576b\"],[0.6666666666666666,\"#ed7953\"],[0.7777777777777778,\"#fb9f3a\"],[0.8888888888888888,\"#fdca26\"],[1.0,\"#f0f921\"]]}],\"choropleth\":[{\"type\":\"choropleth\",\"colorbar\":{\"outlinewidth\":0,\"ticks\":\"\"}}],\"histogram2d\":[{\"type\":\"histogram2d\",\"colorbar\":{\"outlinewidth\":0,\"ticks\":\"\"},\"colorscale\":[[0.0,\"#0d0887\"],[0.1111111111111111,\"#46039f\"],[0.2222222222222222,\"#7201a8\"],[0.3333333333333333,\"#9c179e\"],[0.4444444444444444,\"#bd3786\"],[0.5555555555555556,\"#d8576b\"],[0.6666666666666666,\"#ed7953\"],[0.7777777777777778,\"#fb9f3a\"],[0.8888888888888888,\"#fdca26\"],[1.0,\"#f0f921\"]]}],\"heatmap\":[{\"type\":\"heatmap\",\"colorbar\":{\"outlinewidth\":0,\"ticks\":\"\"},\"colorscale\":[[0.0,\"#0d0887\"],[0.1111111111111111,\"#46039f\"],[0.2222222222222222,\"#7201a8\"],[0.3333333333333333,\"#9c179e\"],[0.4444444444444444,\"#bd3786\"],[0.5555555555555556,\"#d8576b\"],[0.6666666666666666,\"#ed7953\"],[0.7777777777777778,\"#fb9f3a\"],[0.8888888888888888,\"#fdca26\"],[1.0,\"#f0f921\"]]}],\"heatmapgl\":[{\"type\":\"heatmapgl\",\"colorbar\":{\"outlinewidth\":0,\"ticks\":\"\"},\"colorscale\":[[0.0,\"#0d0887\"],[0.1111111111111111,\"#46039f\"],[0.2222222222222222,\"#7201a8\"],[0.3333333333333333,\"#9c179e\"],[0.4444444444444444,\"#bd3786\"],[0.5555555555555556,\"#d8576b\"],[0.6666666666666666,\"#ed7953\"],[0.7777777777777778,\"#fb9f3a\"],[0.8888888888888888,\"#fdca26\"],[1.0,\"#f0f921\"]]}],\"contourcarpet\":[{\"type\":\"contourcarpet\",\"colorbar\":{\"outlinewidth\":0,\"ticks\":\"\"}}],\"contour\":[{\"type\":\"contour\",\"colorbar\":{\"outlinewidth\":0,\"ticks\":\"\"},\"colorscale\":[[0.0,\"#0d0887\"],[0.1111111111111111,\"#46039f\"],[0.2222222222222222,\"#7201a8\"],[0.3333333333333333,\"#9c179e\"],[0.4444444444444444,\"#bd3786\"],[0.5555555555555556,\"#d8576b\"],[0.6666666666666666,\"#ed7953\"],[0.7777777777777778,\"#fb9f3a\"],[0.8888888888888888,\"#fdca26\"],[1.0,\"#f0f921\"]]}],\"surface\":[{\"type\":\"surface\",\"colorbar\":{\"outlinewidth\":0,\"ticks\":\"\"},\"colorscale\":[[0.0,\"#0d0887\"],[0.1111111111111111,\"#46039f\"],[0.2222222222222222,\"#7201a8\"],[0.3333333333333333,\"#9c179e\"],[0.4444444444444444,\"#bd3786\"],[0.5555555555555556,\"#d8576b\"],[0.6666666666666666,\"#ed7953\"],[0.7777777777777778,\"#fb9f3a\"],[0.8888888888888888,\"#fdca26\"],[1.0,\"#f0f921\"]]}],\"mesh3d\":[{\"type\":\"mesh3d\",\"colorbar\":{\"outlinewidth\":0,\"ticks\":\"\"}}],\"scatter\":[{\"fillpattern\":{\"fillmode\":\"overlay\",\"size\":10,\"solidity\":0.2},\"type\":\"scatter\"}],\"parcoords\":[{\"type\":\"parcoords\",\"line\":{\"colorbar\":{\"outlinewidth\":0,\"ticks\":\"\"}}}],\"scatterpolargl\":[{\"type\":\"scatterpolargl\",\"marker\":{\"colorbar\":{\"outlinewidth\":0,\"ticks\":\"\"}}}],\"bar\":[{\"error_x\":{\"color\":\"#2a3f5f\"},\"error_y\":{\"color\":\"#2a3f5f\"},\"marker\":{\"line\":{\"color\":\"#E5ECF6\",\"width\":0.5},\"pattern\":{\"fillmode\":\"overlay\",\"size\":10,\"solidity\":0.2}},\"type\":\"bar\"}],\"scattergeo\":[{\"type\":\"scattergeo\",\"marker\":{\"colorbar\":{\"outlinewidth\":0,\"ticks\":\"\"}}}],\"scatterpolar\":[{\"type\":\"scatterpolar\",\"marker\":{\"colorbar\":{\"outlinewidth\":0,\"ticks\":\"\"}}}],\"histogram\":[{\"marker\":{\"pattern\":{\"fillmode\":\"overlay\",\"size\":10,\"solidity\":0.2}},\"type\":\"histogram\"}],\"scattergl\":[{\"type\":\"scattergl\",\"marker\":{\"colorbar\":{\"outlinewidth\":0,\"ticks\":\"\"}}}],\"scatter3d\":[{\"type\":\"scatter3d\",\"line\":{\"colorbar\":{\"outlinewidth\":0,\"ticks\":\"\"}},\"marker\":{\"colorbar\":{\"outlinewidth\":0,\"ticks\":\"\"}}}],\"scattermapbox\":[{\"type\":\"scattermapbox\",\"marker\":{\"colorbar\":{\"outlinewidth\":0,\"ticks\":\"\"}}}],\"scatterternary\":[{\"type\":\"scatterternary\",\"marker\":{\"colorbar\":{\"outlinewidth\":0,\"ticks\":\"\"}}}],\"scattercarpet\":[{\"type\":\"scattercarpet\",\"marker\":{\"colorbar\":{\"outlinewidth\":0,\"ticks\":\"\"}}}],\"carpet\":[{\"aaxis\":{\"endlinecolor\":\"#2a3f5f\",\"gridcolor\":\"white\",\"linecolor\":\"white\",\"minorgridcolor\":\"white\",\"startlinecolor\":\"#2a3f5f\"},\"baxis\":{\"endlinecolor\":\"#2a3f5f\",\"gridcolor\":\"white\",\"linecolor\":\"white\",\"minorgridcolor\":\"white\",\"startlinecolor\":\"#2a3f5f\"},\"type\":\"carpet\"}],\"table\":[{\"cells\":{\"fill\":{\"color\":\"#EBF0F8\"},\"line\":{\"color\":\"white\"}},\"header\":{\"fill\":{\"color\":\"#C8D4E3\"},\"line\":{\"color\":\"white\"}},\"type\":\"table\"}],\"barpolar\":[{\"marker\":{\"line\":{\"color\":\"#E5ECF6\",\"width\":0.5},\"pattern\":{\"fillmode\":\"overlay\",\"size\":10,\"solidity\":0.2}},\"type\":\"barpolar\"}],\"pie\":[{\"automargin\":true,\"type\":\"pie\"}]},\"layout\":{\"autotypenumbers\":\"strict\",\"colorway\":[\"#636efa\",\"#EF553B\",\"#00cc96\",\"#ab63fa\",\"#FFA15A\",\"#19d3f3\",\"#FF6692\",\"#B6E880\",\"#FF97FF\",\"#FECB52\"],\"font\":{\"color\":\"#2a3f5f\"},\"hovermode\":\"closest\",\"hoverlabel\":{\"align\":\"left\"},\"paper_bgcolor\":\"white\",\"plot_bgcolor\":\"#E5ECF6\",\"polar\":{\"bgcolor\":\"#E5ECF6\",\"angularaxis\":{\"gridcolor\":\"white\",\"linecolor\":\"white\",\"ticks\":\"\"},\"radialaxis\":{\"gridcolor\":\"white\",\"linecolor\":\"white\",\"ticks\":\"\"}},\"ternary\":{\"bgcolor\":\"#E5ECF6\",\"aaxis\":{\"gridcolor\":\"white\",\"linecolor\":\"white\",\"ticks\":\"\"},\"baxis\":{\"gridcolor\":\"white\",\"linecolor\":\"white\",\"ticks\":\"\"},\"caxis\":{\"gridcolor\":\"white\",\"linecolor\":\"white\",\"ticks\":\"\"}},\"coloraxis\":{\"colorbar\":{\"outlinewidth\":0,\"ticks\":\"\"}},\"colorscale\":{\"sequential\":[[0.0,\"#0d0887\"],[0.1111111111111111,\"#46039f\"],[0.2222222222222222,\"#7201a8\"],[0.3333333333333333,\"#9c179e\"],[0.4444444444444444,\"#bd3786\"],[0.5555555555555556,\"#d8576b\"],[0.6666666666666666,\"#ed7953\"],[0.7777777777777778,\"#fb9f3a\"],[0.8888888888888888,\"#fdca26\"],[1.0,\"#f0f921\"]],\"sequentialminus\":[[0.0,\"#0d0887\"],[0.1111111111111111,\"#46039f\"],[0.2222222222222222,\"#7201a8\"],[0.3333333333333333,\"#9c179e\"],[0.4444444444444444,\"#bd3786\"],[0.5555555555555556,\"#d8576b\"],[0.6666666666666666,\"#ed7953\"],[0.7777777777777778,\"#fb9f3a\"],[0.8888888888888888,\"#fdca26\"],[1.0,\"#f0f921\"]],\"diverging\":[[0,\"#8e0152\"],[0.1,\"#c51b7d\"],[0.2,\"#de77ae\"],[0.3,\"#f1b6da\"],[0.4,\"#fde0ef\"],[0.5,\"#f7f7f7\"],[0.6,\"#e6f5d0\"],[0.7,\"#b8e186\"],[0.8,\"#7fbc41\"],[0.9,\"#4d9221\"],[1,\"#276419\"]]},\"xaxis\":{\"gridcolor\":\"white\",\"linecolor\":\"white\",\"ticks\":\"\",\"title\":{\"standoff\":15},\"zerolinecolor\":\"white\",\"automargin\":true,\"zerolinewidth\":2},\"yaxis\":{\"gridcolor\":\"white\",\"linecolor\":\"white\",\"ticks\":\"\",\"title\":{\"standoff\":15},\"zerolinecolor\":\"white\",\"automargin\":true,\"zerolinewidth\":2},\"scene\":{\"xaxis\":{\"backgroundcolor\":\"#E5ECF6\",\"gridcolor\":\"white\",\"linecolor\":\"white\",\"showbackground\":true,\"ticks\":\"\",\"zerolinecolor\":\"white\",\"gridwidth\":2},\"yaxis\":{\"backgroundcolor\":\"#E5ECF6\",\"gridcolor\":\"white\",\"linecolor\":\"white\",\"showbackground\":true,\"ticks\":\"\",\"zerolinecolor\":\"white\",\"gridwidth\":2},\"zaxis\":{\"backgroundcolor\":\"#E5ECF6\",\"gridcolor\":\"white\",\"linecolor\":\"white\",\"showbackground\":true,\"ticks\":\"\",\"zerolinecolor\":\"white\",\"gridwidth\":2}},\"shapedefaults\":{\"line\":{\"color\":\"#2a3f5f\"}},\"annotationdefaults\":{\"arrowcolor\":\"#2a3f5f\",\"arrowhead\":0,\"arrowwidth\":1},\"geo\":{\"bgcolor\":\"white\",\"landcolor\":\"#E5ECF6\",\"subunitcolor\":\"white\",\"showland\":true,\"showlakes\":true,\"lakecolor\":\"white\"},\"title\":{\"x\":0.05},\"mapbox\":{\"style\":\"light\"}}},\"title\":{\"text\":\"SDNE : 4.1004148\"},\"xaxis\":{\"title\":{\"text\":\"Sense Features\"}},\"yaxis\":{\"title\":{\"text\":\"Dimensions\"}}},                        {\"responsive\": true}                    ).then(function(){\n",
       "                            \n",
       "var gd = document.getElementById('90d4bb93-27a8-4045-a2da-d53671ae2514');\n",
       "var x = new MutationObserver(function (mutations, observer) {{\n",
       "        var display = window.getComputedStyle(gd).display;\n",
       "        if (!display || display === 'none') {{\n",
       "            console.log([gd, 'removed!']);\n",
       "            Plotly.purge(gd);\n",
       "            observer.disconnect();\n",
       "        }}\n",
       "}});\n",
       "\n",
       "// Listen for the removal of the full notebook cells\n",
       "var notebookContainer = gd.closest('#notebook-container');\n",
       "if (notebookContainer) {{\n",
       "    x.observe(notebookContainer, {childList: true});\n",
       "}}\n",
       "\n",
       "// Listen for the clearing of the current output cell\n",
       "var outputEl = gd.closest('.output');\n",
       "if (outputEl) {{\n",
       "    x.observe(outputEl, {childList: true});\n",
       "}}\n",
       "\n",
       "                        })                };                });            </script>        </div>"
      ]
     },
     "metadata": {},
     "output_type": "display_data"
    },
    {
     "data": {
      "application/vnd.plotly.v1+json": {
       "config": {
        "plotlyServerURL": "https://plot.ly"
       },
       "data": [
        {
         "type": "heatmap",
         "x": [
          "Degree",
          "Clustering Coefficient",
          "Personalized Page Rank - Median",
          "Personalized Page Rank - Standard Deviation",
          "Structural Holes Constraint",
          "Average Neighbor Degree",
          "EgoNet Edges",
          "Average Neighbor Clustering",
          "Node Betweenness",
          "Page Rank",
          "Eccentricity",
          "Degree Centrality",
          "Eigen Centrality",
          "Katz Centrality"
         ],
         "z": [
          [
           0,
           0.00026632475783117115,
           0,
           0,
           0,
           0,
           0,
           0,
           0,
           0,
           0,
           0,
           0,
           0
          ],
          [
           0,
           0,
           0,
           0,
           0,
           0,
           0,
           0,
           0,
           0,
           0,
           0,
           0,
           0
          ],
          [
           0,
           0,
           0,
           0,
           0,
           0,
           0,
           0,
           0,
           0,
           0,
           0,
           0,
           0
          ],
          [
           0,
           0,
           0,
           0,
           0,
           0,
           0,
           0,
           0,
           0,
           0,
           0,
           0,
           0
          ],
          [
           0,
           0,
           0,
           0,
           0,
           0,
           0,
           0,
           0,
           0,
           0,
           0,
           0,
           0
          ],
          [
           0,
           0,
           0,
           0,
           0,
           0,
           0,
           0,
           0,
           0,
           0,
           0,
           0,
           0
          ],
          [
           0,
           0,
           0,
           0,
           0,
           0,
           0,
           0,
           0,
           0,
           0,
           0,
           0,
           0
          ],
          [
           0,
           0,
           0.0005187665810808539,
           0,
           0,
           0.02439005672931671,
           0,
           0,
           0,
           0,
           0,
           0,
           0.01283959113061428,
           0
          ],
          [
           0,
           9.817018872126937e-05,
           0,
           0,
           0,
           0,
           0,
           0,
           0,
           0,
           0,
           0,
           0,
           0
          ],
          [
           0,
           0.25246864557266235,
           0,
           0.13547539710998535,
           0,
           1,
           0,
           0,
           0,
           0,
           0.14235034584999084,
           0,
           0,
           0
          ],
          [
           0,
           0,
           0,
           0,
           0,
           0,
           0,
           0,
           0,
           0,
           0,
           0,
           0,
           0
          ],
          [
           0,
           0.002855063881725073,
           0,
           0,
           0,
           0.004976699594408274,
           0,
           0,
           0,
           0,
           0,
           0,
           0,
           0
          ],
          [
           0,
           0,
           0,
           0,
           0,
           0,
           0,
           0,
           0,
           0,
           0,
           0,
           0,
           0
          ],
          [
           0,
           0.000474522850709036,
           0,
           0,
           0,
           0,
           0,
           0,
           0,
           0,
           0.0001460945641156286,
           0,
           0,
           0
          ],
          [
           0,
           0,
           0,
           0,
           0,
           0,
           0,
           0,
           0,
           0,
           0,
           0,
           0,
           0
          ],
          [
           0,
           8.009236626094207e-05,
           0,
           0,
           0,
           0,
           0,
           0.0003455990517977625,
           0,
           0,
           0,
           0,
           0,
           3.5459988794173114e-06
          ],
          [
           0,
           0.0017490207683295012,
           0,
           0,
           0,
           0.0013446698430925608,
           0,
           0,
           0,
           0,
           0,
           0,
           0,
           0
          ],
          [
           0,
           0,
           0,
           0,
           0,
           0,
           0,
           0,
           0,
           0,
           0,
           0,
           0,
           0
          ],
          [
           0,
           0,
           0,
           0,
           0,
           0,
           0,
           7.387384539470077e-05,
           0,
           0,
           0,
           0,
           0,
           0
          ],
          [
           0,
           0,
           0,
           0,
           0,
           0,
           0,
           0,
           0,
           0,
           0,
           0,
           0,
           0
          ],
          [
           0,
           0,
           0,
           0,
           0,
           0,
           0,
           0,
           0,
           0,
           0,
           0,
           0,
           0.00015815588994883
          ],
          [
           0,
           0,
           0,
           0,
           0,
           0,
           0,
           0,
           0,
           0,
           0,
           0,
           0,
           0
          ],
          [
           0,
           0,
           0,
           0.0009826464811339974,
           0,
           0,
           0,
           0,
           0,
           0,
           0,
           0,
           0,
           0
          ],
          [
           0,
           0,
           0,
           0,
           0,
           0,
           0,
           0,
           0,
           0,
           0,
           0,
           0,
           0
          ],
          [
           0,
           0,
           0,
           0,
           0,
           0,
           0,
           0,
           0,
           0,
           0,
           0,
           0,
           0
          ],
          [
           0,
           0,
           0,
           0,
           0,
           0,
           0,
           0,
           0,
           0,
           0,
           0,
           0,
           0
          ],
          [
           0,
           0,
           0,
           0,
           0,
           0,
           0,
           0,
           0,
           0,
           0,
           0,
           0,
           0
          ],
          [
           0,
           0,
           0,
           0,
           0,
           0,
           0,
           0,
           0,
           0,
           0,
           0,
           0,
           0
          ],
          [
           0,
           0,
           0,
           0.09412776678800583,
           0,
           0.002907911315560341,
           0,
           0.00606431532651186,
           0.036941710859537125,
           0.006218248046934605,
           0.019087279215455055,
           0,
           0.005882008001208305,
           0.024285582825541496
          ],
          [
           0,
           0,
           0,
           0,
           0,
           0,
           0,
           0,
           0,
           0,
           0,
           0,
           0,
           0
          ],
          [
           0,
           0,
           0,
           0,
           0,
           0,
           0,
           0,
           0,
           0,
           0,
           0,
           0,
           7.60710026952438e-05
          ],
          [
           0,
           0,
           0,
           0,
           0,
           0,
           0,
           0,
           0,
           0,
           0,
           0,
           0,
           0
          ],
          [
           0,
           0,
           0,
           0,
           0,
           0.0021585074719041586,
           0,
           0,
           0,
           0,
           0,
           0,
           0,
           0.00047752202954143286
          ],
          [
           0,
           0.03202693536877632,
           0,
           0,
           0,
           0.0028341575525701046,
           0,
           0,
           0,
           0,
           0,
           0,
           0,
           0
          ],
          [
           0,
           0,
           0,
           0,
           0,
           0,
           0,
           0.0005402247770689428,
           0,
           0,
           0,
           0,
           0,
           0
          ],
          [
           0,
           0,
           0,
           0,
           0,
           0,
           0,
           0,
           0,
           0,
           0,
           0,
           0,
           0
          ],
          [
           0,
           0,
           0,
           0,
           0,
           0,
           0,
           0,
           0,
           0,
           0,
           0,
           0,
           0
          ],
          [
           0,
           0,
           0,
           0,
           0,
           0,
           0,
           0,
           0,
           0,
           0,
           0,
           0,
           0
          ],
          [
           0,
           0,
           0,
           0,
           0,
           0,
           0,
           0,
           0,
           0,
           0,
           0,
           0,
           0
          ],
          [
           0,
           0.0001759840815793723,
           0,
           0,
           0.0018693654565140605,
           0.0010096465703099966,
           0,
           0,
           0,
           0,
           0,
           0,
           0,
           0.0008780522039160132
          ],
          [
           0,
           0,
           0,
           0,
           0,
           0,
           0,
           0,
           0,
           0,
           0,
           0,
           0,
           0
          ],
          [
           0,
           0,
           0,
           0,
           0,
           0,
           0,
           0,
           0,
           0,
           0,
           0,
           0,
           0
          ],
          [
           0,
           0,
           0,
           0,
           0,
           0.0004686590691562742,
           0,
           0,
           0,
           0,
           0,
           0,
           0,
           0
          ],
          [
           0,
           0,
           0,
           0,
           0,
           0,
           0,
           0,
           0.00114854471758008,
           0,
           0,
           0,
           0,
           0
          ],
          [
           0,
           0,
           0,
           0.23630669713020325,
           0.1504952758550644,
           0.01178100984543562,
           0,
           0,
           0,
           0,
           0.007347388658672571,
           0,
           0,
           0
          ],
          [
           0,
           0,
           0,
           0,
           0,
           0.14814968407154083,
           0,
           0,
           0,
           0,
           0.09166426211595535,
           0,
           0,
           0.08873158693313599
          ],
          [
           0,
           0,
           0,
           0,
           0,
           0,
           0,
           0,
           0,
           0,
           0,
           0,
           0,
           0
          ],
          [
           0,
           0,
           0,
           0,
           0,
           0,
           0,
           0,
           0,
           0,
           0,
           0,
           0,
           0
          ],
          [
           0,
           0,
           0,
           0,
           0,
           0,
           0,
           0,
           0,
           0,
           0,
           0,
           0,
           0
          ],
          [
           0.0011319316690787673,
           0,
           0.001129685784690082,
           0,
           0,
           0,
           0.0011247489601373672,
           0,
           0,
           0.0011325430823490024,
           0,
           0.0011319316690787673,
           0.0011298457393422723,
           0
          ],
          [
           0,
           0,
           0,
           0,
           0,
           0,
           0,
           0,
           0,
           0,
           0.000782099727075547,
           0,
           0,
           0
          ],
          [
           0,
           0,
           0,
           0,
           0,
           0,
           0,
           0,
           0,
           0,
           0,
           0,
           0,
           0
          ],
          [
           0,
           0.02650998905301094,
           0,
           0.021911844611167908,
           0.003919828217476606,
           0,
           0,
           0.0018043798627331853,
           0,
           0,
           0.009269829839468002,
           0,
           0,
           0
          ],
          [
           0,
           0,
           0,
           8.72033488121815e-05,
           0,
           0,
           0,
           0,
           3.261102392571047e-06,
           0,
           0,
           0,
           0,
           0
          ],
          [
           0,
           0.004645489156246185,
           0,
           0.017931684851646423,
           0.0017659279983490705,
           0.0002941382408607751,
           0,
           0,
           0,
           0,
           0.005159913562238216,
           0,
           0,
           0.0009416349930688739
          ],
          [
           0,
           0,
           0,
           0,
           0,
           0,
           0,
           0,
           0,
           0,
           0,
           0,
           0,
           0.0001839164033299312
          ],
          [
           0,
           0,
           0,
           0,
           0,
           0,
           0,
           0,
           0,
           0,
           0,
           0,
           0,
           0
          ],
          [
           0,
           0,
           0,
           0,
           0,
           0,
           0,
           0,
           0,
           0,
           0,
           0,
           0,
           0
          ],
          [
           0,
           0,
           0,
           0,
           0,
           0,
           0,
           3.706821189553011e-06,
           0,
           0,
           0,
           0,
           0,
           0
          ],
          [
           0,
           0,
           0,
           0,
           0,
           0,
           0,
           0.00020539107208605856,
           0,
           0,
           0,
           0,
           0,
           0
          ],
          [
           0,
           0,
           0,
           0,
           0,
           0,
           0,
           0,
           0,
           0,
           0,
           0,
           0,
           0
          ],
          [
           0,
           0,
           0,
           0,
           0,
           0,
           0,
           0,
           0,
           0,
           0,
           0,
           0,
           0
          ],
          [
           0,
           0,
           0,
           0,
           0,
           0,
           0,
           0,
           0,
           0,
           0,
           0,
           0,
           0
          ],
          [
           0,
           0,
           0,
           0,
           0,
           0,
           0,
           0,
           0,
           0,
           0,
           0,
           0,
           0
          ]
         ]
        }
       ],
       "layout": {
        "template": {
         "data": {
          "bar": [
           {
            "error_x": {
             "color": "#2a3f5f"
            },
            "error_y": {
             "color": "#2a3f5f"
            },
            "marker": {
             "line": {
              "color": "#E5ECF6",
              "width": 0.5
             },
             "pattern": {
              "fillmode": "overlay",
              "size": 10,
              "solidity": 0.2
             }
            },
            "type": "bar"
           }
          ],
          "barpolar": [
           {
            "marker": {
             "line": {
              "color": "#E5ECF6",
              "width": 0.5
             },
             "pattern": {
              "fillmode": "overlay",
              "size": 10,
              "solidity": 0.2
             }
            },
            "type": "barpolar"
           }
          ],
          "carpet": [
           {
            "aaxis": {
             "endlinecolor": "#2a3f5f",
             "gridcolor": "white",
             "linecolor": "white",
             "minorgridcolor": "white",
             "startlinecolor": "#2a3f5f"
            },
            "baxis": {
             "endlinecolor": "#2a3f5f",
             "gridcolor": "white",
             "linecolor": "white",
             "minorgridcolor": "white",
             "startlinecolor": "#2a3f5f"
            },
            "type": "carpet"
           }
          ],
          "choropleth": [
           {
            "colorbar": {
             "outlinewidth": 0,
             "ticks": ""
            },
            "type": "choropleth"
           }
          ],
          "contour": [
           {
            "colorbar": {
             "outlinewidth": 0,
             "ticks": ""
            },
            "colorscale": [
             [
              0,
              "#0d0887"
             ],
             [
              0.1111111111111111,
              "#46039f"
             ],
             [
              0.2222222222222222,
              "#7201a8"
             ],
             [
              0.3333333333333333,
              "#9c179e"
             ],
             [
              0.4444444444444444,
              "#bd3786"
             ],
             [
              0.5555555555555556,
              "#d8576b"
             ],
             [
              0.6666666666666666,
              "#ed7953"
             ],
             [
              0.7777777777777778,
              "#fb9f3a"
             ],
             [
              0.8888888888888888,
              "#fdca26"
             ],
             [
              1,
              "#f0f921"
             ]
            ],
            "type": "contour"
           }
          ],
          "contourcarpet": [
           {
            "colorbar": {
             "outlinewidth": 0,
             "ticks": ""
            },
            "type": "contourcarpet"
           }
          ],
          "heatmap": [
           {
            "colorbar": {
             "outlinewidth": 0,
             "ticks": ""
            },
            "colorscale": [
             [
              0,
              "#0d0887"
             ],
             [
              0.1111111111111111,
              "#46039f"
             ],
             [
              0.2222222222222222,
              "#7201a8"
             ],
             [
              0.3333333333333333,
              "#9c179e"
             ],
             [
              0.4444444444444444,
              "#bd3786"
             ],
             [
              0.5555555555555556,
              "#d8576b"
             ],
             [
              0.6666666666666666,
              "#ed7953"
             ],
             [
              0.7777777777777778,
              "#fb9f3a"
             ],
             [
              0.8888888888888888,
              "#fdca26"
             ],
             [
              1,
              "#f0f921"
             ]
            ],
            "type": "heatmap"
           }
          ],
          "heatmapgl": [
           {
            "colorbar": {
             "outlinewidth": 0,
             "ticks": ""
            },
            "colorscale": [
             [
              0,
              "#0d0887"
             ],
             [
              0.1111111111111111,
              "#46039f"
             ],
             [
              0.2222222222222222,
              "#7201a8"
             ],
             [
              0.3333333333333333,
              "#9c179e"
             ],
             [
              0.4444444444444444,
              "#bd3786"
             ],
             [
              0.5555555555555556,
              "#d8576b"
             ],
             [
              0.6666666666666666,
              "#ed7953"
             ],
             [
              0.7777777777777778,
              "#fb9f3a"
             ],
             [
              0.8888888888888888,
              "#fdca26"
             ],
             [
              1,
              "#f0f921"
             ]
            ],
            "type": "heatmapgl"
           }
          ],
          "histogram": [
           {
            "marker": {
             "pattern": {
              "fillmode": "overlay",
              "size": 10,
              "solidity": 0.2
             }
            },
            "type": "histogram"
           }
          ],
          "histogram2d": [
           {
            "colorbar": {
             "outlinewidth": 0,
             "ticks": ""
            },
            "colorscale": [
             [
              0,
              "#0d0887"
             ],
             [
              0.1111111111111111,
              "#46039f"
             ],
             [
              0.2222222222222222,
              "#7201a8"
             ],
             [
              0.3333333333333333,
              "#9c179e"
             ],
             [
              0.4444444444444444,
              "#bd3786"
             ],
             [
              0.5555555555555556,
              "#d8576b"
             ],
             [
              0.6666666666666666,
              "#ed7953"
             ],
             [
              0.7777777777777778,
              "#fb9f3a"
             ],
             [
              0.8888888888888888,
              "#fdca26"
             ],
             [
              1,
              "#f0f921"
             ]
            ],
            "type": "histogram2d"
           }
          ],
          "histogram2dcontour": [
           {
            "colorbar": {
             "outlinewidth": 0,
             "ticks": ""
            },
            "colorscale": [
             [
              0,
              "#0d0887"
             ],
             [
              0.1111111111111111,
              "#46039f"
             ],
             [
              0.2222222222222222,
              "#7201a8"
             ],
             [
              0.3333333333333333,
              "#9c179e"
             ],
             [
              0.4444444444444444,
              "#bd3786"
             ],
             [
              0.5555555555555556,
              "#d8576b"
             ],
             [
              0.6666666666666666,
              "#ed7953"
             ],
             [
              0.7777777777777778,
              "#fb9f3a"
             ],
             [
              0.8888888888888888,
              "#fdca26"
             ],
             [
              1,
              "#f0f921"
             ]
            ],
            "type": "histogram2dcontour"
           }
          ],
          "mesh3d": [
           {
            "colorbar": {
             "outlinewidth": 0,
             "ticks": ""
            },
            "type": "mesh3d"
           }
          ],
          "parcoords": [
           {
            "line": {
             "colorbar": {
              "outlinewidth": 0,
              "ticks": ""
             }
            },
            "type": "parcoords"
           }
          ],
          "pie": [
           {
            "automargin": true,
            "type": "pie"
           }
          ],
          "scatter": [
           {
            "fillpattern": {
             "fillmode": "overlay",
             "size": 10,
             "solidity": 0.2
            },
            "type": "scatter"
           }
          ],
          "scatter3d": [
           {
            "line": {
             "colorbar": {
              "outlinewidth": 0,
              "ticks": ""
             }
            },
            "marker": {
             "colorbar": {
              "outlinewidth": 0,
              "ticks": ""
             }
            },
            "type": "scatter3d"
           }
          ],
          "scattercarpet": [
           {
            "marker": {
             "colorbar": {
              "outlinewidth": 0,
              "ticks": ""
             }
            },
            "type": "scattercarpet"
           }
          ],
          "scattergeo": [
           {
            "marker": {
             "colorbar": {
              "outlinewidth": 0,
              "ticks": ""
             }
            },
            "type": "scattergeo"
           }
          ],
          "scattergl": [
           {
            "marker": {
             "colorbar": {
              "outlinewidth": 0,
              "ticks": ""
             }
            },
            "type": "scattergl"
           }
          ],
          "scattermapbox": [
           {
            "marker": {
             "colorbar": {
              "outlinewidth": 0,
              "ticks": ""
             }
            },
            "type": "scattermapbox"
           }
          ],
          "scatterpolar": [
           {
            "marker": {
             "colorbar": {
              "outlinewidth": 0,
              "ticks": ""
             }
            },
            "type": "scatterpolar"
           }
          ],
          "scatterpolargl": [
           {
            "marker": {
             "colorbar": {
              "outlinewidth": 0,
              "ticks": ""
             }
            },
            "type": "scatterpolargl"
           }
          ],
          "scatterternary": [
           {
            "marker": {
             "colorbar": {
              "outlinewidth": 0,
              "ticks": ""
             }
            },
            "type": "scatterternary"
           }
          ],
          "surface": [
           {
            "colorbar": {
             "outlinewidth": 0,
             "ticks": ""
            },
            "colorscale": [
             [
              0,
              "#0d0887"
             ],
             [
              0.1111111111111111,
              "#46039f"
             ],
             [
              0.2222222222222222,
              "#7201a8"
             ],
             [
              0.3333333333333333,
              "#9c179e"
             ],
             [
              0.4444444444444444,
              "#bd3786"
             ],
             [
              0.5555555555555556,
              "#d8576b"
             ],
             [
              0.6666666666666666,
              "#ed7953"
             ],
             [
              0.7777777777777778,
              "#fb9f3a"
             ],
             [
              0.8888888888888888,
              "#fdca26"
             ],
             [
              1,
              "#f0f921"
             ]
            ],
            "type": "surface"
           }
          ],
          "table": [
           {
            "cells": {
             "fill": {
              "color": "#EBF0F8"
             },
             "line": {
              "color": "white"
             }
            },
            "header": {
             "fill": {
              "color": "#C8D4E3"
             },
             "line": {
              "color": "white"
             }
            },
            "type": "table"
           }
          ]
         },
         "layout": {
          "annotationdefaults": {
           "arrowcolor": "#2a3f5f",
           "arrowhead": 0,
           "arrowwidth": 1
          },
          "autotypenumbers": "strict",
          "coloraxis": {
           "colorbar": {
            "outlinewidth": 0,
            "ticks": ""
           }
          },
          "colorscale": {
           "diverging": [
            [
             0,
             "#8e0152"
            ],
            [
             0.1,
             "#c51b7d"
            ],
            [
             0.2,
             "#de77ae"
            ],
            [
             0.3,
             "#f1b6da"
            ],
            [
             0.4,
             "#fde0ef"
            ],
            [
             0.5,
             "#f7f7f7"
            ],
            [
             0.6,
             "#e6f5d0"
            ],
            [
             0.7,
             "#b8e186"
            ],
            [
             0.8,
             "#7fbc41"
            ],
            [
             0.9,
             "#4d9221"
            ],
            [
             1,
             "#276419"
            ]
           ],
           "sequential": [
            [
             0,
             "#0d0887"
            ],
            [
             0.1111111111111111,
             "#46039f"
            ],
            [
             0.2222222222222222,
             "#7201a8"
            ],
            [
             0.3333333333333333,
             "#9c179e"
            ],
            [
             0.4444444444444444,
             "#bd3786"
            ],
            [
             0.5555555555555556,
             "#d8576b"
            ],
            [
             0.6666666666666666,
             "#ed7953"
            ],
            [
             0.7777777777777778,
             "#fb9f3a"
            ],
            [
             0.8888888888888888,
             "#fdca26"
            ],
            [
             1,
             "#f0f921"
            ]
           ],
           "sequentialminus": [
            [
             0,
             "#0d0887"
            ],
            [
             0.1111111111111111,
             "#46039f"
            ],
            [
             0.2222222222222222,
             "#7201a8"
            ],
            [
             0.3333333333333333,
             "#9c179e"
            ],
            [
             0.4444444444444444,
             "#bd3786"
            ],
            [
             0.5555555555555556,
             "#d8576b"
            ],
            [
             0.6666666666666666,
             "#ed7953"
            ],
            [
             0.7777777777777778,
             "#fb9f3a"
            ],
            [
             0.8888888888888888,
             "#fdca26"
            ],
            [
             1,
             "#f0f921"
            ]
           ]
          },
          "colorway": [
           "#636efa",
           "#EF553B",
           "#00cc96",
           "#ab63fa",
           "#FFA15A",
           "#19d3f3",
           "#FF6692",
           "#B6E880",
           "#FF97FF",
           "#FECB52"
          ],
          "font": {
           "color": "#2a3f5f"
          },
          "geo": {
           "bgcolor": "white",
           "lakecolor": "white",
           "landcolor": "#E5ECF6",
           "showlakes": true,
           "showland": true,
           "subunitcolor": "white"
          },
          "hoverlabel": {
           "align": "left"
          },
          "hovermode": "closest",
          "mapbox": {
           "style": "light"
          },
          "paper_bgcolor": "white",
          "plot_bgcolor": "#E5ECF6",
          "polar": {
           "angularaxis": {
            "gridcolor": "white",
            "linecolor": "white",
            "ticks": ""
           },
           "bgcolor": "#E5ECF6",
           "radialaxis": {
            "gridcolor": "white",
            "linecolor": "white",
            "ticks": ""
           }
          },
          "scene": {
           "xaxis": {
            "backgroundcolor": "#E5ECF6",
            "gridcolor": "white",
            "gridwidth": 2,
            "linecolor": "white",
            "showbackground": true,
            "ticks": "",
            "zerolinecolor": "white"
           },
           "yaxis": {
            "backgroundcolor": "#E5ECF6",
            "gridcolor": "white",
            "gridwidth": 2,
            "linecolor": "white",
            "showbackground": true,
            "ticks": "",
            "zerolinecolor": "white"
           },
           "zaxis": {
            "backgroundcolor": "#E5ECF6",
            "gridcolor": "white",
            "gridwidth": 2,
            "linecolor": "white",
            "showbackground": true,
            "ticks": "",
            "zerolinecolor": "white"
           }
          },
          "shapedefaults": {
           "line": {
            "color": "#2a3f5f"
           }
          },
          "ternary": {
           "aaxis": {
            "gridcolor": "white",
            "linecolor": "white",
            "ticks": ""
           },
           "baxis": {
            "gridcolor": "white",
            "linecolor": "white",
            "ticks": ""
           },
           "bgcolor": "#E5ECF6",
           "caxis": {
            "gridcolor": "white",
            "linecolor": "white",
            "ticks": ""
           }
          },
          "title": {
           "x": 0.05
          },
          "xaxis": {
           "automargin": true,
           "gridcolor": "white",
           "linecolor": "white",
           "ticks": "",
           "title": {
            "standoff": 15
           },
           "zerolinecolor": "white",
           "zerolinewidth": 2
          },
          "yaxis": {
           "automargin": true,
           "gridcolor": "white",
           "linecolor": "white",
           "ticks": "",
           "title": {
            "standoff": 15
           },
           "zerolinecolor": "white",
           "zerolinewidth": 2
          }
         }
        },
        "title": {
         "text": "SDNE+ : 1.6032434"
        },
        "xaxis": {
         "title": {
          "text": "Sense Features"
         }
        },
        "yaxis": {
         "title": {
          "text": "Dimensions"
         }
        }
       }
      },
      "text/html": [
       "<div>                            <div id=\"6bd257bb-0b1b-4c93-899a-33584072ace8\" class=\"plotly-graph-div\" style=\"height:525px; width:100%;\"></div>            <script type=\"text/javascript\">                require([\"plotly\"], function(Plotly) {                    window.PLOTLYENV=window.PLOTLYENV || {};                                    if (document.getElementById(\"6bd257bb-0b1b-4c93-899a-33584072ace8\")) {                    Plotly.newPlot(                        \"6bd257bb-0b1b-4c93-899a-33584072ace8\",                        [{\"x\":[\"Degree\",\"Clustering Coefficient\",\"Personalized Page Rank - Median\",\"Personalized Page Rank - Standard Deviation\",\"Structural Holes Constraint\",\"Average Neighbor Degree\",\"EgoNet Edges\",\"Average Neighbor Clustering\",\"Node Betweenness\",\"Page Rank\",\"Eccentricity\",\"Degree Centrality\",\"Eigen Centrality\",\"Katz Centrality\"],\"z\":[[0.0,0.00026632475783117115,0.0,0.0,0.0,0.0,0.0,0.0,0.0,0.0,0.0,0.0,0.0,0.0],[0.0,0.0,0.0,0.0,0.0,0.0,0.0,0.0,0.0,0.0,0.0,0.0,0.0,0.0],[0.0,0.0,0.0,0.0,0.0,0.0,0.0,0.0,0.0,0.0,0.0,0.0,0.0,0.0],[0.0,0.0,0.0,0.0,0.0,0.0,0.0,0.0,0.0,0.0,0.0,0.0,0.0,0.0],[0.0,0.0,0.0,0.0,0.0,0.0,0.0,0.0,0.0,0.0,0.0,0.0,0.0,0.0],[0.0,0.0,0.0,0.0,0.0,0.0,0.0,0.0,0.0,0.0,0.0,0.0,0.0,0.0],[0.0,0.0,0.0,0.0,0.0,0.0,0.0,0.0,0.0,0.0,0.0,0.0,0.0,0.0],[0.0,0.0,0.0005187665810808539,0.0,0.0,0.02439005672931671,0.0,0.0,0.0,0.0,0.0,0.0,0.01283959113061428,0.0],[0.0,9.817018872126937e-05,0.0,0.0,0.0,0.0,0.0,0.0,0.0,0.0,0.0,0.0,0.0,0.0],[0.0,0.25246864557266235,0.0,0.13547539710998535,0.0,1.0,0.0,0.0,0.0,0.0,0.14235034584999084,0.0,0.0,0.0],[0.0,0.0,0.0,0.0,0.0,0.0,0.0,0.0,0.0,0.0,0.0,0.0,0.0,0.0],[0.0,0.002855063881725073,0.0,0.0,0.0,0.004976699594408274,0.0,0.0,0.0,0.0,0.0,0.0,0.0,0.0],[0.0,0.0,0.0,0.0,0.0,0.0,0.0,0.0,0.0,0.0,0.0,0.0,0.0,0.0],[0.0,0.000474522850709036,0.0,0.0,0.0,0.0,0.0,0.0,0.0,0.0,0.0001460945641156286,0.0,0.0,0.0],[0.0,0.0,0.0,0.0,0.0,0.0,0.0,0.0,0.0,0.0,0.0,0.0,0.0,0.0],[0.0,8.009236626094207e-05,0.0,0.0,0.0,0.0,0.0,0.0003455990517977625,0.0,0.0,0.0,0.0,0.0,3.5459988794173114e-06],[0.0,0.0017490207683295012,0.0,0.0,0.0,0.0013446698430925608,0.0,0.0,0.0,0.0,0.0,0.0,0.0,0.0],[0.0,0.0,0.0,0.0,0.0,0.0,0.0,0.0,0.0,0.0,0.0,0.0,0.0,0.0],[0.0,0.0,0.0,0.0,0.0,0.0,0.0,7.387384539470077e-05,0.0,0.0,0.0,0.0,0.0,0.0],[0.0,0.0,0.0,0.0,0.0,0.0,0.0,0.0,0.0,0.0,0.0,0.0,0.0,0.0],[0.0,0.0,0.0,0.0,0.0,0.0,0.0,0.0,0.0,0.0,0.0,0.0,0.0,0.00015815588994883],[0.0,0.0,0.0,0.0,0.0,0.0,0.0,0.0,0.0,0.0,0.0,0.0,0.0,0.0],[0.0,0.0,0.0,0.0009826464811339974,0.0,0.0,0.0,0.0,0.0,0.0,0.0,0.0,0.0,0.0],[0.0,0.0,0.0,0.0,0.0,0.0,0.0,0.0,0.0,0.0,0.0,0.0,0.0,0.0],[0.0,0.0,0.0,0.0,0.0,0.0,0.0,0.0,0.0,0.0,0.0,0.0,0.0,0.0],[0.0,0.0,0.0,0.0,0.0,0.0,0.0,0.0,0.0,0.0,0.0,0.0,0.0,0.0],[0.0,0.0,0.0,0.0,0.0,0.0,0.0,0.0,0.0,0.0,0.0,0.0,0.0,0.0],[0.0,0.0,0.0,0.0,0.0,0.0,0.0,0.0,0.0,0.0,0.0,0.0,0.0,0.0],[0.0,0.0,0.0,0.09412776678800583,0.0,0.002907911315560341,0.0,0.00606431532651186,0.036941710859537125,0.006218248046934605,0.019087279215455055,0.0,0.005882008001208305,0.024285582825541496],[0.0,0.0,0.0,0.0,0.0,0.0,0.0,0.0,0.0,0.0,0.0,0.0,0.0,0.0],[0.0,0.0,0.0,0.0,0.0,0.0,0.0,0.0,0.0,0.0,0.0,0.0,0.0,7.60710026952438e-05],[0.0,0.0,0.0,0.0,0.0,0.0,0.0,0.0,0.0,0.0,0.0,0.0,0.0,0.0],[0.0,0.0,0.0,0.0,0.0,0.0021585074719041586,0.0,0.0,0.0,0.0,0.0,0.0,0.0,0.00047752202954143286],[0.0,0.03202693536877632,0.0,0.0,0.0,0.0028341575525701046,0.0,0.0,0.0,0.0,0.0,0.0,0.0,0.0],[0.0,0.0,0.0,0.0,0.0,0.0,0.0,0.0005402247770689428,0.0,0.0,0.0,0.0,0.0,0.0],[0.0,0.0,0.0,0.0,0.0,0.0,0.0,0.0,0.0,0.0,0.0,0.0,0.0,0.0],[0.0,0.0,0.0,0.0,0.0,0.0,0.0,0.0,0.0,0.0,0.0,0.0,0.0,0.0],[0.0,0.0,0.0,0.0,0.0,0.0,0.0,0.0,0.0,0.0,0.0,0.0,0.0,0.0],[0.0,0.0,0.0,0.0,0.0,0.0,0.0,0.0,0.0,0.0,0.0,0.0,0.0,0.0],[0.0,0.0001759840815793723,0.0,0.0,0.0018693654565140605,0.0010096465703099966,0.0,0.0,0.0,0.0,0.0,0.0,0.0,0.0008780522039160132],[0.0,0.0,0.0,0.0,0.0,0.0,0.0,0.0,0.0,0.0,0.0,0.0,0.0,0.0],[0.0,0.0,0.0,0.0,0.0,0.0,0.0,0.0,0.0,0.0,0.0,0.0,0.0,0.0],[0.0,0.0,0.0,0.0,0.0,0.0004686590691562742,0.0,0.0,0.0,0.0,0.0,0.0,0.0,0.0],[0.0,0.0,0.0,0.0,0.0,0.0,0.0,0.0,0.00114854471758008,0.0,0.0,0.0,0.0,0.0],[0.0,0.0,0.0,0.23630669713020325,0.1504952758550644,0.01178100984543562,0.0,0.0,0.0,0.0,0.007347388658672571,0.0,0.0,0.0],[0.0,0.0,0.0,0.0,0.0,0.14814968407154083,0.0,0.0,0.0,0.0,0.09166426211595535,0.0,0.0,0.08873158693313599],[0.0,0.0,0.0,0.0,0.0,0.0,0.0,0.0,0.0,0.0,0.0,0.0,0.0,0.0],[0.0,0.0,0.0,0.0,0.0,0.0,0.0,0.0,0.0,0.0,0.0,0.0,0.0,0.0],[0.0,0.0,0.0,0.0,0.0,0.0,0.0,0.0,0.0,0.0,0.0,0.0,0.0,0.0],[0.0011319316690787673,0.0,0.001129685784690082,0.0,0.0,0.0,0.0011247489601373672,0.0,0.0,0.0011325430823490024,0.0,0.0011319316690787673,0.0011298457393422723,0.0],[0.0,0.0,0.0,0.0,0.0,0.0,0.0,0.0,0.0,0.0,0.000782099727075547,0.0,0.0,0.0],[0.0,0.0,0.0,0.0,0.0,0.0,0.0,0.0,0.0,0.0,0.0,0.0,0.0,0.0],[0.0,0.02650998905301094,0.0,0.021911844611167908,0.003919828217476606,0.0,0.0,0.0018043798627331853,0.0,0.0,0.009269829839468002,0.0,0.0,0.0],[0.0,0.0,0.0,8.72033488121815e-05,0.0,0.0,0.0,0.0,3.261102392571047e-06,0.0,0.0,0.0,0.0,0.0],[0.0,0.004645489156246185,0.0,0.017931684851646423,0.0017659279983490705,0.0002941382408607751,0.0,0.0,0.0,0.0,0.005159913562238216,0.0,0.0,0.0009416349930688739],[0.0,0.0,0.0,0.0,0.0,0.0,0.0,0.0,0.0,0.0,0.0,0.0,0.0,0.0001839164033299312],[0.0,0.0,0.0,0.0,0.0,0.0,0.0,0.0,0.0,0.0,0.0,0.0,0.0,0.0],[0.0,0.0,0.0,0.0,0.0,0.0,0.0,0.0,0.0,0.0,0.0,0.0,0.0,0.0],[0.0,0.0,0.0,0.0,0.0,0.0,0.0,3.706821189553011e-06,0.0,0.0,0.0,0.0,0.0,0.0],[0.0,0.0,0.0,0.0,0.0,0.0,0.0,0.00020539107208605856,0.0,0.0,0.0,0.0,0.0,0.0],[0.0,0.0,0.0,0.0,0.0,0.0,0.0,0.0,0.0,0.0,0.0,0.0,0.0,0.0],[0.0,0.0,0.0,0.0,0.0,0.0,0.0,0.0,0.0,0.0,0.0,0.0,0.0,0.0],[0.0,0.0,0.0,0.0,0.0,0.0,0.0,0.0,0.0,0.0,0.0,0.0,0.0,0.0],[0.0,0.0,0.0,0.0,0.0,0.0,0.0,0.0,0.0,0.0,0.0,0.0,0.0,0.0]],\"type\":\"heatmap\"}],                        {\"template\":{\"data\":{\"histogram2dcontour\":[{\"type\":\"histogram2dcontour\",\"colorbar\":{\"outlinewidth\":0,\"ticks\":\"\"},\"colorscale\":[[0.0,\"#0d0887\"],[0.1111111111111111,\"#46039f\"],[0.2222222222222222,\"#7201a8\"],[0.3333333333333333,\"#9c179e\"],[0.4444444444444444,\"#bd3786\"],[0.5555555555555556,\"#d8576b\"],[0.6666666666666666,\"#ed7953\"],[0.7777777777777778,\"#fb9f3a\"],[0.8888888888888888,\"#fdca26\"],[1.0,\"#f0f921\"]]}],\"choropleth\":[{\"type\":\"choropleth\",\"colorbar\":{\"outlinewidth\":0,\"ticks\":\"\"}}],\"histogram2d\":[{\"type\":\"histogram2d\",\"colorbar\":{\"outlinewidth\":0,\"ticks\":\"\"},\"colorscale\":[[0.0,\"#0d0887\"],[0.1111111111111111,\"#46039f\"],[0.2222222222222222,\"#7201a8\"],[0.3333333333333333,\"#9c179e\"],[0.4444444444444444,\"#bd3786\"],[0.5555555555555556,\"#d8576b\"],[0.6666666666666666,\"#ed7953\"],[0.7777777777777778,\"#fb9f3a\"],[0.8888888888888888,\"#fdca26\"],[1.0,\"#f0f921\"]]}],\"heatmap\":[{\"type\":\"heatmap\",\"colorbar\":{\"outlinewidth\":0,\"ticks\":\"\"},\"colorscale\":[[0.0,\"#0d0887\"],[0.1111111111111111,\"#46039f\"],[0.2222222222222222,\"#7201a8\"],[0.3333333333333333,\"#9c179e\"],[0.4444444444444444,\"#bd3786\"],[0.5555555555555556,\"#d8576b\"],[0.6666666666666666,\"#ed7953\"],[0.7777777777777778,\"#fb9f3a\"],[0.8888888888888888,\"#fdca26\"],[1.0,\"#f0f921\"]]}],\"heatmapgl\":[{\"type\":\"heatmapgl\",\"colorbar\":{\"outlinewidth\":0,\"ticks\":\"\"},\"colorscale\":[[0.0,\"#0d0887\"],[0.1111111111111111,\"#46039f\"],[0.2222222222222222,\"#7201a8\"],[0.3333333333333333,\"#9c179e\"],[0.4444444444444444,\"#bd3786\"],[0.5555555555555556,\"#d8576b\"],[0.6666666666666666,\"#ed7953\"],[0.7777777777777778,\"#fb9f3a\"],[0.8888888888888888,\"#fdca26\"],[1.0,\"#f0f921\"]]}],\"contourcarpet\":[{\"type\":\"contourcarpet\",\"colorbar\":{\"outlinewidth\":0,\"ticks\":\"\"}}],\"contour\":[{\"type\":\"contour\",\"colorbar\":{\"outlinewidth\":0,\"ticks\":\"\"},\"colorscale\":[[0.0,\"#0d0887\"],[0.1111111111111111,\"#46039f\"],[0.2222222222222222,\"#7201a8\"],[0.3333333333333333,\"#9c179e\"],[0.4444444444444444,\"#bd3786\"],[0.5555555555555556,\"#d8576b\"],[0.6666666666666666,\"#ed7953\"],[0.7777777777777778,\"#fb9f3a\"],[0.8888888888888888,\"#fdca26\"],[1.0,\"#f0f921\"]]}],\"surface\":[{\"type\":\"surface\",\"colorbar\":{\"outlinewidth\":0,\"ticks\":\"\"},\"colorscale\":[[0.0,\"#0d0887\"],[0.1111111111111111,\"#46039f\"],[0.2222222222222222,\"#7201a8\"],[0.3333333333333333,\"#9c179e\"],[0.4444444444444444,\"#bd3786\"],[0.5555555555555556,\"#d8576b\"],[0.6666666666666666,\"#ed7953\"],[0.7777777777777778,\"#fb9f3a\"],[0.8888888888888888,\"#fdca26\"],[1.0,\"#f0f921\"]]}],\"mesh3d\":[{\"type\":\"mesh3d\",\"colorbar\":{\"outlinewidth\":0,\"ticks\":\"\"}}],\"scatter\":[{\"fillpattern\":{\"fillmode\":\"overlay\",\"size\":10,\"solidity\":0.2},\"type\":\"scatter\"}],\"parcoords\":[{\"type\":\"parcoords\",\"line\":{\"colorbar\":{\"outlinewidth\":0,\"ticks\":\"\"}}}],\"scatterpolargl\":[{\"type\":\"scatterpolargl\",\"marker\":{\"colorbar\":{\"outlinewidth\":0,\"ticks\":\"\"}}}],\"bar\":[{\"error_x\":{\"color\":\"#2a3f5f\"},\"error_y\":{\"color\":\"#2a3f5f\"},\"marker\":{\"line\":{\"color\":\"#E5ECF6\",\"width\":0.5},\"pattern\":{\"fillmode\":\"overlay\",\"size\":10,\"solidity\":0.2}},\"type\":\"bar\"}],\"scattergeo\":[{\"type\":\"scattergeo\",\"marker\":{\"colorbar\":{\"outlinewidth\":0,\"ticks\":\"\"}}}],\"scatterpolar\":[{\"type\":\"scatterpolar\",\"marker\":{\"colorbar\":{\"outlinewidth\":0,\"ticks\":\"\"}}}],\"histogram\":[{\"marker\":{\"pattern\":{\"fillmode\":\"overlay\",\"size\":10,\"solidity\":0.2}},\"type\":\"histogram\"}],\"scattergl\":[{\"type\":\"scattergl\",\"marker\":{\"colorbar\":{\"outlinewidth\":0,\"ticks\":\"\"}}}],\"scatter3d\":[{\"type\":\"scatter3d\",\"line\":{\"colorbar\":{\"outlinewidth\":0,\"ticks\":\"\"}},\"marker\":{\"colorbar\":{\"outlinewidth\":0,\"ticks\":\"\"}}}],\"scattermapbox\":[{\"type\":\"scattermapbox\",\"marker\":{\"colorbar\":{\"outlinewidth\":0,\"ticks\":\"\"}}}],\"scatterternary\":[{\"type\":\"scatterternary\",\"marker\":{\"colorbar\":{\"outlinewidth\":0,\"ticks\":\"\"}}}],\"scattercarpet\":[{\"type\":\"scattercarpet\",\"marker\":{\"colorbar\":{\"outlinewidth\":0,\"ticks\":\"\"}}}],\"carpet\":[{\"aaxis\":{\"endlinecolor\":\"#2a3f5f\",\"gridcolor\":\"white\",\"linecolor\":\"white\",\"minorgridcolor\":\"white\",\"startlinecolor\":\"#2a3f5f\"},\"baxis\":{\"endlinecolor\":\"#2a3f5f\",\"gridcolor\":\"white\",\"linecolor\":\"white\",\"minorgridcolor\":\"white\",\"startlinecolor\":\"#2a3f5f\"},\"type\":\"carpet\"}],\"table\":[{\"cells\":{\"fill\":{\"color\":\"#EBF0F8\"},\"line\":{\"color\":\"white\"}},\"header\":{\"fill\":{\"color\":\"#C8D4E3\"},\"line\":{\"color\":\"white\"}},\"type\":\"table\"}],\"barpolar\":[{\"marker\":{\"line\":{\"color\":\"#E5ECF6\",\"width\":0.5},\"pattern\":{\"fillmode\":\"overlay\",\"size\":10,\"solidity\":0.2}},\"type\":\"barpolar\"}],\"pie\":[{\"automargin\":true,\"type\":\"pie\"}]},\"layout\":{\"autotypenumbers\":\"strict\",\"colorway\":[\"#636efa\",\"#EF553B\",\"#00cc96\",\"#ab63fa\",\"#FFA15A\",\"#19d3f3\",\"#FF6692\",\"#B6E880\",\"#FF97FF\",\"#FECB52\"],\"font\":{\"color\":\"#2a3f5f\"},\"hovermode\":\"closest\",\"hoverlabel\":{\"align\":\"left\"},\"paper_bgcolor\":\"white\",\"plot_bgcolor\":\"#E5ECF6\",\"polar\":{\"bgcolor\":\"#E5ECF6\",\"angularaxis\":{\"gridcolor\":\"white\",\"linecolor\":\"white\",\"ticks\":\"\"},\"radialaxis\":{\"gridcolor\":\"white\",\"linecolor\":\"white\",\"ticks\":\"\"}},\"ternary\":{\"bgcolor\":\"#E5ECF6\",\"aaxis\":{\"gridcolor\":\"white\",\"linecolor\":\"white\",\"ticks\":\"\"},\"baxis\":{\"gridcolor\":\"white\",\"linecolor\":\"white\",\"ticks\":\"\"},\"caxis\":{\"gridcolor\":\"white\",\"linecolor\":\"white\",\"ticks\":\"\"}},\"coloraxis\":{\"colorbar\":{\"outlinewidth\":0,\"ticks\":\"\"}},\"colorscale\":{\"sequential\":[[0.0,\"#0d0887\"],[0.1111111111111111,\"#46039f\"],[0.2222222222222222,\"#7201a8\"],[0.3333333333333333,\"#9c179e\"],[0.4444444444444444,\"#bd3786\"],[0.5555555555555556,\"#d8576b\"],[0.6666666666666666,\"#ed7953\"],[0.7777777777777778,\"#fb9f3a\"],[0.8888888888888888,\"#fdca26\"],[1.0,\"#f0f921\"]],\"sequentialminus\":[[0.0,\"#0d0887\"],[0.1111111111111111,\"#46039f\"],[0.2222222222222222,\"#7201a8\"],[0.3333333333333333,\"#9c179e\"],[0.4444444444444444,\"#bd3786\"],[0.5555555555555556,\"#d8576b\"],[0.6666666666666666,\"#ed7953\"],[0.7777777777777778,\"#fb9f3a\"],[0.8888888888888888,\"#fdca26\"],[1.0,\"#f0f921\"]],\"diverging\":[[0,\"#8e0152\"],[0.1,\"#c51b7d\"],[0.2,\"#de77ae\"],[0.3,\"#f1b6da\"],[0.4,\"#fde0ef\"],[0.5,\"#f7f7f7\"],[0.6,\"#e6f5d0\"],[0.7,\"#b8e186\"],[0.8,\"#7fbc41\"],[0.9,\"#4d9221\"],[1,\"#276419\"]]},\"xaxis\":{\"gridcolor\":\"white\",\"linecolor\":\"white\",\"ticks\":\"\",\"title\":{\"standoff\":15},\"zerolinecolor\":\"white\",\"automargin\":true,\"zerolinewidth\":2},\"yaxis\":{\"gridcolor\":\"white\",\"linecolor\":\"white\",\"ticks\":\"\",\"title\":{\"standoff\":15},\"zerolinecolor\":\"white\",\"automargin\":true,\"zerolinewidth\":2},\"scene\":{\"xaxis\":{\"backgroundcolor\":\"#E5ECF6\",\"gridcolor\":\"white\",\"linecolor\":\"white\",\"showbackground\":true,\"ticks\":\"\",\"zerolinecolor\":\"white\",\"gridwidth\":2},\"yaxis\":{\"backgroundcolor\":\"#E5ECF6\",\"gridcolor\":\"white\",\"linecolor\":\"white\",\"showbackground\":true,\"ticks\":\"\",\"zerolinecolor\":\"white\",\"gridwidth\":2},\"zaxis\":{\"backgroundcolor\":\"#E5ECF6\",\"gridcolor\":\"white\",\"linecolor\":\"white\",\"showbackground\":true,\"ticks\":\"\",\"zerolinecolor\":\"white\",\"gridwidth\":2}},\"shapedefaults\":{\"line\":{\"color\":\"#2a3f5f\"}},\"annotationdefaults\":{\"arrowcolor\":\"#2a3f5f\",\"arrowhead\":0,\"arrowwidth\":1},\"geo\":{\"bgcolor\":\"white\",\"landcolor\":\"#E5ECF6\",\"subunitcolor\":\"white\",\"showland\":true,\"showlakes\":true,\"lakecolor\":\"white\"},\"title\":{\"x\":0.05},\"mapbox\":{\"style\":\"light\"}}},\"title\":{\"text\":\"SDNE+ : 1.6032434\"},\"xaxis\":{\"title\":{\"text\":\"Sense Features\"}},\"yaxis\":{\"title\":{\"text\":\"Dimensions\"}}},                        {\"responsive\": true}                    ).then(function(){\n",
       "                            \n",
       "var gd = document.getElementById('6bd257bb-0b1b-4c93-899a-33584072ace8');\n",
       "var x = new MutationObserver(function (mutations, observer) {{\n",
       "        var display = window.getComputedStyle(gd).display;\n",
       "        if (!display || display === 'none') {{\n",
       "            console.log([gd, 'removed!']);\n",
       "            Plotly.purge(gd);\n",
       "            observer.disconnect();\n",
       "        }}\n",
       "}});\n",
       "\n",
       "// Listen for the removal of the full notebook cells\n",
       "var notebookContainer = gd.closest('#notebook-container');\n",
       "if (notebookContainer) {{\n",
       "    x.observe(notebookContainer, {childList: true});\n",
       "}}\n",
       "\n",
       "// Listen for the clearing of the current output cell\n",
       "var outputEl = gd.closest('.output');\n",
       "if (outputEl) {{\n",
       "    x.observe(outputEl, {childList: true});\n",
       "}}\n",
       "\n",
       "                        })                };                });            </script>        </div>"
      ]
     },
     "metadata": {},
     "output_type": "display_data"
    }
   ],
   "source": [
    "fig = go.Figure()\n",
    "fig.add_trace(go.Heatmap(z = explain_og,\n",
    "                         x = list(sense_feat_dict), \n",
    "                         ))\n",
    "fig.update_layout(title_text = 'SDNE : ' + str(np.linalg.norm(explain_og, ord = 'nuc')), \n",
    "                  xaxis_title_text = 'Sense Features', \n",
    "                  yaxis_title_text = 'Dimensions')\n",
    "\n",
    "fig.show()\n",
    "\n",
    "fig = go.Figure()\n",
    "fig.add_trace(go.Heatmap(z = explain_plus_init,\n",
    "                         x = list(sense_feat_dict), \n",
    "                         ))\n",
    "fig.update_layout(title_text = 'SDNE+ : ' + str(np.linalg.norm(explain_plus_init, ord = 'nuc')), \n",
    "                  xaxis_title_text = 'Sense Features', \n",
    "                  yaxis_title_text = 'Dimensions')\n",
    "\n",
    "fig.show()"
   ]
  },
  {
   "cell_type": "markdown",
   "id": "0c6667cc",
   "metadata": {},
   "source": [
    "### LINE+"
   ]
  },
  {
   "cell_type": "code",
   "execution_count": 17,
   "id": "bb22b93e",
   "metadata": {
    "scrolled": true
   },
   "outputs": [
    {
     "name": "stdout",
     "output_type": "stream",
     "text": [
      "Epoch 1/25\n"
     ]
    },
    {
     "name": "stderr",
     "output_type": "stream",
     "text": [
      "2022-10-07 18:31:10.771026: I tensorflow/core/grappler/optimizers/custom_graph_optimizer_registry.cc:113] Plugin optimizer for device_type GPU is enabled.\n"
     ]
    },
    {
     "name": "stdout",
     "output_type": "stream",
     "text": [
      "102/102 [==============================] - 7s 58ms/step - loss: 0.6852 - ortho_2_loss: 0.6852 - tf.math.reduce_sum_6_loss: 0.0000e+00 - tf.math.multiply_13_loss: 0.0000e+00\n",
      "Epoch 2/25\n",
      "102/102 [==============================] - 5s 52ms/step - loss: 0.6682 - ortho_2_loss: 0.6682 - tf.math.reduce_sum_6_loss: 0.0000e+00 - tf.math.multiply_13_loss: 0.0000e+00\n",
      "Epoch 3/25\n",
      "102/102 [==============================] - 5s 54ms/step - loss: 0.6523 - ortho_2_loss: 0.6523 - tf.math.reduce_sum_6_loss: 0.0000e+00 - tf.math.multiply_13_loss: 0.0000e+00\n",
      "Epoch 4/25\n",
      "102/102 [==============================] - 5s 51ms/step - loss: 0.6375 - ortho_2_loss: 0.6375 - tf.math.reduce_sum_6_loss: 0.0000e+00 - tf.math.multiply_13_loss: 0.0000e+00\n",
      "Epoch 5/25\n",
      "102/102 [==============================] - 5s 51ms/step - loss: 0.6238 - ortho_2_loss: 0.6238 - tf.math.reduce_sum_6_loss: 0.0000e+00 - tf.math.multiply_13_loss: 0.0000e+00\n",
      "Epoch 6/25\n",
      "102/102 [==============================] - 5s 52ms/step - loss: 0.6112 - ortho_2_loss: 0.6112 - tf.math.reduce_sum_6_loss: 0.0000e+00 - tf.math.multiply_13_loss: 0.0000e+00\n",
      "Epoch 7/25\n",
      "102/102 [==============================] - 5s 50ms/step - loss: 0.5995 - ortho_2_loss: 0.5995 - tf.math.reduce_sum_6_loss: 0.0000e+00 - tf.math.multiply_13_loss: 0.0000e+00\n",
      "Epoch 8/25\n",
      "102/102 [==============================] - 5s 52ms/step - loss: 0.5887 - ortho_2_loss: 0.5887 - tf.math.reduce_sum_6_loss: 0.0000e+00 - tf.math.multiply_13_loss: 0.0000e+00\n",
      "Epoch 9/25\n",
      "102/102 [==============================] - 5s 50ms/step - loss: 0.5787 - ortho_2_loss: 0.5787 - tf.math.reduce_sum_6_loss: 0.0000e+00 - tf.math.multiply_13_loss: 0.0000e+00\n",
      "Epoch 10/25\n",
      "102/102 [==============================] - 5s 51ms/step - loss: 0.5694 - ortho_2_loss: 0.5694 - tf.math.reduce_sum_6_loss: 0.0000e+00 - tf.math.multiply_13_loss: 0.0000e+00\n",
      "Epoch 11/25\n",
      "102/102 [==============================] - 5s 52ms/step - loss: 0.5609 - ortho_2_loss: 0.5609 - tf.math.reduce_sum_6_loss: 0.0000e+00 - tf.math.multiply_13_loss: 0.0000e+00\n",
      "Epoch 12/25\n",
      "102/102 [==============================] - 6s 54ms/step - loss: 0.5530 - ortho_2_loss: 0.5530 - tf.math.reduce_sum_6_loss: 0.0000e+00 - tf.math.multiply_13_loss: 0.0000e+00\n",
      "Epoch 13/25\n",
      "102/102 [==============================] - 5s 53ms/step - loss: 0.5456 - ortho_2_loss: 0.5456 - tf.math.reduce_sum_6_loss: 0.0000e+00 - tf.math.multiply_13_loss: 0.0000e+00\n",
      "Epoch 14/25\n",
      "102/102 [==============================] - 6s 56ms/step - loss: 0.5389 - ortho_2_loss: 0.5389 - tf.math.reduce_sum_6_loss: 0.0000e+00 - tf.math.multiply_13_loss: 0.0000e+00\n",
      "Epoch 15/25\n",
      "102/102 [==============================] - 6s 55ms/step - loss: 0.5326 - ortho_2_loss: 0.5326 - tf.math.reduce_sum_6_loss: 0.0000e+00 - tf.math.multiply_13_loss: 0.0000e+00\n",
      "Epoch 16/25\n",
      "102/102 [==============================] - 5s 53ms/step - loss: 0.5269 - ortho_2_loss: 0.5269 - tf.math.reduce_sum_6_loss: 0.0000e+00 - tf.math.multiply_13_loss: 0.0000e+00\n",
      "Epoch 17/25\n",
      "102/102 [==============================] - 5s 49ms/step - loss: 0.5215 - ortho_2_loss: 0.5215 - tf.math.reduce_sum_6_loss: 0.0000e+00 - tf.math.multiply_13_loss: 0.0000e+00\n",
      "Epoch 18/25\n",
      "102/102 [==============================] - 5s 50ms/step - loss: 0.5166 - ortho_2_loss: 0.5166 - tf.math.reduce_sum_6_loss: 0.0000e+00 - tf.math.multiply_13_loss: 0.0000e+00\n",
      "Epoch 19/25\n",
      "102/102 [==============================] - 5s 49ms/step - loss: 0.5120 - ortho_2_loss: 0.5120 - tf.math.reduce_sum_6_loss: 0.0000e+00 - tf.math.multiply_13_loss: 0.0000e+00\n",
      "Epoch 20/25\n",
      "102/102 [==============================] - 5s 48ms/step - loss: 0.5078 - ortho_2_loss: 0.5078 - tf.math.reduce_sum_6_loss: 0.0000e+00 - tf.math.multiply_13_loss: 0.0000e+00\n",
      "Epoch 21/25\n",
      "102/102 [==============================] - 5s 49ms/step - loss: 0.5038 - ortho_2_loss: 0.5038 - tf.math.reduce_sum_6_loss: 0.0000e+00 - tf.math.multiply_13_loss: 0.0000e+00\n",
      "Epoch 22/25\n",
      "102/102 [==============================] - 5s 49ms/step - loss: 0.5002 - ortho_2_loss: 0.5002 - tf.math.reduce_sum_6_loss: 0.0000e+00 - tf.math.multiply_13_loss: 0.0000e+00\n",
      "Epoch 23/25\n",
      "102/102 [==============================] - 5s 52ms/step - loss: 0.4968 - ortho_2_loss: 0.4968 - tf.math.reduce_sum_6_loss: 0.0000e+00 - tf.math.multiply_13_loss: 0.0000e+00\n",
      "Epoch 24/25\n",
      "102/102 [==============================] - 5s 52ms/step - loss: 0.4937 - ortho_2_loss: 0.4937 - tf.math.reduce_sum_6_loss: 0.0000e+00 - tf.math.multiply_13_loss: 0.0000e+00\n",
      "Epoch 25/25\n",
      "102/102 [==============================] - 5s 53ms/step - loss: 0.4908 - ortho_2_loss: 0.4908 - tf.math.reduce_sum_6_loss: 0.0000e+00 - tf.math.multiply_13_loss: 0.0000e+00\n"
     ]
    }
   ],
   "source": [
    "line = LINE(graph, \n",
    "                embedding_size = 64,\n",
    "                sense_features = sense_features,\n",
    "                alpha = 1, \n",
    "                ortho = 0, \n",
    "                sparse = 0,\n",
    "                learning_rate =  1e-3,\n",
    "                order = 'second', \n",
    "                batch_size = len(graph))\n",
    "\n",
    "history = line.train(epochs = 25)\n",
    "e = line.get_embeddings()\n",
    "embed_og = np.array([e[node_name] for node_name in graph.nodes()])\n",
    "embed_og = (embed_og - np.min(embed_og)) / np.ptp(embed_og)\n",
    "\n",
    "\n",
    "feature_dict_og = find_feature_membership(input_embed = embed_og,\n",
    "                                                    embed_name = 'LINE',\n",
    "                                                    sense_features = sense_features,\n",
    "                                                    sense_feat_dict = sense_feat_dict,\n",
    "                                                    top_k = 8,\n",
    "                                                    solver = 'nmf')\n",
    "\n",
    "explain_og = feature_dict_og['explain_norm']\n",
    "explain_og = (explain_og - np.min(explain_og)) / np.ptp(explain_og)"
   ]
  },
  {
   "cell_type": "code",
   "execution_count": 19,
   "id": "b7802ed0",
   "metadata": {
    "scrolled": true
   },
   "outputs": [
    {
     "name": "stdout",
     "output_type": "stream",
     "text": [
      "Epoch 1/50\n"
     ]
    },
    {
     "name": "stderr",
     "output_type": "stream",
     "text": [
      "2022-10-07 18:35:32.947648: I tensorflow/core/grappler/optimizers/custom_graph_optimizer_registry.cc:113] Plugin optimizer for device_type GPU is enabled.\n"
     ]
    },
    {
     "name": "stdout",
     "output_type": "stream",
     "text": [
      "102/102 [==============================] - 8s 66ms/step - loss: 90.6030 - ortho_2_loss: 48.5916 - tf.math.reduce_sum_8_loss: 11.9099 - tf.math.multiply_17_loss: 30.1014\n",
      "Epoch 2/50\n",
      "102/102 [==============================] - 7s 64ms/step - loss: 86.8592 - ortho_2_loss: 47.9871 - tf.math.reduce_sum_8_loss: 10.5430 - tf.math.multiply_17_loss: 28.3292\n",
      "Epoch 3/50\n",
      "102/102 [==============================] - 6s 63ms/step - loss: 83.8353 - ortho_2_loss: 47.4906 - tf.math.reduce_sum_8_loss: 9.4744 - tf.math.multiply_17_loss: 26.8703\n",
      "Epoch 4/50\n",
      "102/102 [==============================] - 7s 65ms/step - loss: 81.3443 - ortho_2_loss: 47.0800 - tf.math.reduce_sum_8_loss: 8.6188 - tf.math.multiply_17_loss: 25.6454\n",
      "Epoch 5/50\n",
      "102/102 [==============================] - 7s 68ms/step - loss: 79.2542 - ortho_2_loss: 46.7387 - tf.math.reduce_sum_8_loss: 7.9177 - tf.math.multiply_17_loss: 24.5978\n",
      "Epoch 6/50\n",
      "102/102 [==============================] - 7s 65ms/step - loss: 77.4751 - ortho_2_loss: 46.4540 - tf.math.reduce_sum_8_loss: 7.3324 - tf.math.multiply_17_loss: 23.6888\n",
      "Epoch 7/50\n",
      "102/102 [==============================] - 7s 65ms/step - loss: 75.9452 - ortho_2_loss: 46.2164 - tf.math.reduce_sum_8_loss: 6.8371 - tf.math.multiply_17_loss: 22.8917\n",
      "Epoch 8/50\n",
      "102/102 [==============================] - 7s 64ms/step - loss: 74.6120 - ortho_2_loss: 46.0182 - tf.math.reduce_sum_8_loss: 6.4104 - tf.math.multiply_17_loss: 22.1835\n",
      "Epoch 9/50\n",
      "102/102 [==============================] - 6s 63ms/step - loss: 73.4459 - ortho_2_loss: 45.8536 - tf.math.reduce_sum_8_loss: 6.0408 - tf.math.multiply_17_loss: 21.5515\n",
      "Epoch 10/50\n",
      "102/102 [==============================] - 7s 64ms/step - loss: 72.4151 - ortho_2_loss: 45.7174 - tf.math.reduce_sum_8_loss: 5.7160 - tf.math.multiply_17_loss: 20.9817\n",
      "Epoch 11/50\n",
      "102/102 [==============================] - 6s 62ms/step - loss: 71.5007 - ortho_2_loss: 45.6058 - tf.math.reduce_sum_8_loss: 5.4291 - tf.math.multiply_17_loss: 20.4658\n",
      "Epoch 12/50\n",
      "102/102 [==============================] - 6s 62ms/step - loss: 70.6859 - ortho_2_loss: 45.5155 - tf.math.reduce_sum_8_loss: 5.1740 - tf.math.multiply_17_loss: 19.9964\n",
      "Epoch 13/50\n",
      "102/102 [==============================] - 6s 60ms/step - loss: 69.9560 - ortho_2_loss: 45.4434 - tf.math.reduce_sum_8_loss: 4.9456 - tf.math.multiply_17_loss: 19.5670\n",
      "Epoch 14/50\n",
      "102/102 [==============================] - 7s 64ms/step - loss: 69.2996 - ortho_2_loss: 45.3873 - tf.math.reduce_sum_8_loss: 4.7398 - tf.math.multiply_17_loss: 19.1725\n",
      "Epoch 15/50\n",
      "102/102 [==============================] - 6s 64ms/step - loss: 68.7085 - ortho_2_loss: 45.3449 - tf.math.reduce_sum_8_loss: 4.5541 - tf.math.multiply_17_loss: 18.8095\n",
      "Epoch 16/50\n",
      "102/102 [==============================] - 7s 65ms/step - loss: 68.1743 - ortho_2_loss: 45.3147 - tf.math.reduce_sum_8_loss: 4.3855 - tf.math.multiply_17_loss: 18.4742\n",
      "Epoch 17/50\n",
      "102/102 [==============================] - 6s 62ms/step - loss: 67.6882 - ortho_2_loss: 45.2946 - tf.math.reduce_sum_8_loss: 4.2311 - tf.math.multiply_17_loss: 18.1626\n",
      "Epoch 18/50\n",
      "102/102 [==============================] - 6s 61ms/step - loss: 67.2471 - ortho_2_loss: 45.2837 - tf.math.reduce_sum_8_loss: 4.0900 - tf.math.multiply_17_loss: 17.8734\n",
      "Epoch 19/50\n",
      "102/102 [==============================] - 6s 62ms/step - loss: 66.8453 - ortho_2_loss: 45.2807 - tf.math.reduce_sum_8_loss: 3.9605 - tf.math.multiply_17_loss: 17.6040\n",
      "Epoch 20/50\n",
      "102/102 [==============================] - 6s 62ms/step - loss: 66.4784 - ortho_2_loss: 45.2846 - tf.math.reduce_sum_8_loss: 3.8413 - tf.math.multiply_17_loss: 17.3525\n",
      "Epoch 21/50\n",
      "102/102 [==============================] - 6s 62ms/step - loss: 66.1434 - ortho_2_loss: 45.2945 - tf.math.reduce_sum_8_loss: 3.7314 - tf.math.multiply_17_loss: 17.1175\n",
      "Epoch 22/50\n",
      "102/102 [==============================] - 7s 65ms/step - loss: 65.8357 - ortho_2_loss: 45.3094 - tf.math.reduce_sum_8_loss: 3.6294 - tf.math.multiply_17_loss: 16.8970\n",
      "Epoch 23/50\n",
      "102/102 [==============================] - 6s 61ms/step - loss: 65.5535 - ortho_2_loss: 45.3289 - tf.math.reduce_sum_8_loss: 3.5347 - tf.math.multiply_17_loss: 16.6900\n",
      "Epoch 24/50\n",
      "102/102 [==============================] - 6s 61ms/step - loss: 65.2947 - ortho_2_loss: 45.3520 - tf.math.reduce_sum_8_loss: 3.4469 - tf.math.multiply_17_loss: 16.4957\n",
      "Epoch 25/50\n",
      "102/102 [==============================] - 6s 62ms/step - loss: 65.0556 - ortho_2_loss: 45.3785 - tf.math.reduce_sum_8_loss: 3.3647 - tf.math.multiply_17_loss: 16.3123\n",
      "Epoch 26/50\n",
      "102/102 [==============================] - 6s 63ms/step - loss: 64.8362 - ortho_2_loss: 45.4076 - tf.math.reduce_sum_8_loss: 3.2885 - tf.math.multiply_17_loss: 16.1401\n",
      "Epoch 27/50\n",
      "102/102 [==============================] - 7s 64ms/step - loss: 64.6332 - ortho_2_loss: 45.4392 - tf.math.reduce_sum_8_loss: 3.2169 - tf.math.multiply_17_loss: 15.9771\n",
      "Epoch 28/50\n",
      "102/102 [==============================] - 6s 63ms/step - loss: 64.4458 - ortho_2_loss: 45.4726 - tf.math.reduce_sum_8_loss: 3.1499 - tf.math.multiply_17_loss: 15.8233\n",
      "Epoch 29/50\n",
      "102/102 [==============================] - 6s 61ms/step - loss: 64.2729 - ortho_2_loss: 45.5077 - tf.math.reduce_sum_8_loss: 3.0872 - tf.math.multiply_17_loss: 15.6780\n",
      "Epoch 30/50\n",
      "102/102 [==============================] - 6s 62ms/step - loss: 64.1127 - ortho_2_loss: 45.5440 - tf.math.reduce_sum_8_loss: 3.0284 - tf.math.multiply_17_loss: 15.5404\n",
      "Epoch 31/50\n",
      "102/102 [==============================] - 6s 62ms/step - loss: 63.9641 - ortho_2_loss: 45.5814 - tf.math.reduce_sum_8_loss: 2.9729 - tf.math.multiply_17_loss: 15.4097\n",
      "Epoch 32/50\n",
      "102/102 [==============================] - 6s 61ms/step - loss: 63.8265 - ortho_2_loss: 45.6197 - tf.math.reduce_sum_8_loss: 2.9208 - tf.math.multiply_17_loss: 15.2860\n",
      "Epoch 33/50\n",
      "102/102 [==============================] - 6s 62ms/step - loss: 63.6987 - ortho_2_loss: 45.6584 - tf.math.reduce_sum_8_loss: 2.8716 - tf.math.multiply_17_loss: 15.1686\n",
      "Epoch 34/50\n",
      "102/102 [==============================] - 7s 65ms/step - loss: 63.5800 - ortho_2_loss: 45.6976 - tf.math.reduce_sum_8_loss: 2.8253 - tf.math.multiply_17_loss: 15.0571\n",
      "Epoch 35/50\n",
      "102/102 [==============================] - 7s 65ms/step - loss: 63.4693 - ortho_2_loss: 45.7371 - tf.math.reduce_sum_8_loss: 2.7814 - tf.math.multiply_17_loss: 14.9509\n",
      "Epoch 36/50\n",
      "102/102 [==============================] - 7s 64ms/step - loss: 63.3665 - ortho_2_loss: 45.7766 - tf.math.reduce_sum_8_loss: 2.7400 - tf.math.multiply_17_loss: 14.8500\n",
      "Epoch 37/50\n",
      "102/102 [==============================] - 6s 64ms/step - loss: 63.2708 - ortho_2_loss: 45.8161 - tf.math.reduce_sum_8_loss: 2.7008 - tf.math.multiply_17_loss: 14.7539\n",
      "Epoch 38/50\n",
      "102/102 [==============================] - 6s 61ms/step - loss: 63.1816 - ortho_2_loss: 45.8555 - tf.math.reduce_sum_8_loss: 2.6637 - tf.math.multiply_17_loss: 14.6624\n",
      "Epoch 39/50\n",
      "102/102 [==============================] - 6s 63ms/step - loss: 63.0984 - ortho_2_loss: 45.8947 - tf.math.reduce_sum_8_loss: 2.6285 - tf.math.multiply_17_loss: 14.5752\n",
      "Epoch 40/50\n",
      "102/102 [==============================] - 6s 61ms/step - loss: 63.0205 - ortho_2_loss: 45.9335 - tf.math.reduce_sum_8_loss: 2.5950 - tf.math.multiply_17_loss: 14.4919\n",
      "Epoch 41/50\n",
      "102/102 [==============================] - 6s 61ms/step - loss: 62.9478 - ortho_2_loss: 45.9720 - tf.math.reduce_sum_8_loss: 2.5633 - tf.math.multiply_17_loss: 14.4124\n",
      "Epoch 42/50\n",
      "102/102 [==============================] - 6s 62ms/step - loss: 62.8801 - ortho_2_loss: 46.0101 - tf.math.reduce_sum_8_loss: 2.5333 - tf.math.multiply_17_loss: 14.3367\n",
      "Epoch 43/50\n",
      "102/102 [==============================] - 7s 64ms/step - loss: 62.8165 - ortho_2_loss: 46.0476 - tf.math.reduce_sum_8_loss: 2.5046 - tf.math.multiply_17_loss: 14.2642\n",
      "Epoch 44/50\n",
      "102/102 [==============================] - 7s 64ms/step - loss: 62.7569 - ortho_2_loss: 46.0845 - tf.math.reduce_sum_8_loss: 2.4774 - tf.math.multiply_17_loss: 14.1950\n",
      "Epoch 45/50\n",
      "102/102 [==============================] - 6s 63ms/step - loss: 62.7011 - ortho_2_loss: 46.1209 - tf.math.reduce_sum_8_loss: 2.4514 - tf.math.multiply_17_loss: 14.1288\n",
      "Epoch 46/50\n",
      "102/102 [==============================] - 7s 64ms/step - loss: 62.6489 - ortho_2_loss: 46.1568 - tf.math.reduce_sum_8_loss: 2.4267 - tf.math.multiply_17_loss: 14.0654\n",
      "Epoch 47/50\n",
      "102/102 [==============================] - 7s 64ms/step - loss: 62.6000 - ortho_2_loss: 46.1920 - tf.math.reduce_sum_8_loss: 2.4032 - tf.math.multiply_17_loss: 14.0048\n",
      "Epoch 48/50\n",
      "102/102 [==============================] - 6s 64ms/step - loss: 62.5540 - ortho_2_loss: 46.2265 - tf.math.reduce_sum_8_loss: 2.3807 - tf.math.multiply_17_loss: 13.9468\n",
      "Epoch 49/50\n",
      "102/102 [==============================] - 6s 61ms/step - loss: 62.5109 - ortho_2_loss: 46.2604 - tf.math.reduce_sum_8_loss: 2.3593 - tf.math.multiply_17_loss: 13.8912\n",
      "Epoch 50/50\n",
      "102/102 [==============================] - 6s 61ms/step - loss: 62.4703 - ortho_2_loss: 46.2936 - tf.math.reduce_sum_8_loss: 2.3388 - tf.math.multiply_17_loss: 13.8379\n"
     ]
    },
    {
     "name": "stderr",
     "output_type": "stream",
     "text": [
      "/Users/shafi.z/opt/anaconda3/envs/gpu/lib/python3.8/site-packages/sklearn/decomposition/_nmf.py:1692: ConvergenceWarning:\n",
      "\n",
      "Maximum number of iterations 4000 reached. Increase it to improve convergence.\n",
      "\n"
     ]
    }
   ],
   "source": [
    "line_plus_init = LINE(graph, \n",
    "                embedding_size = 64,\n",
    "                sense_features = sense_features, \n",
    "                alpha = 100, \n",
    "                ortho = 10, \n",
    "                sparse = 10,\n",
    "                learning_rate =  9e-4,\n",
    "                order = 'second', \n",
    "                batch_size = len(graph))\n",
    "\n",
    "line_plus_init.model.set_weights(line.model.get_weights())\n",
    "history = line_plus_init.train(epochs = 50)\n",
    "e = line_plus_init.get_embeddings()\n",
    "embed_plus_init = np.array([e[node_name] for node_name in graph.nodes()])\n",
    "embed_plus_init = (embed_plus_init - np.min(embed_plus_init)) / np.ptp(embed_plus_init)\n",
    "\n",
    "\n",
    "feature_dict_plus_init = find_feature_membership(input_embed = embed_plus_init,\n",
    "                                                    embed_name = 'LINE+ Init',\n",
    "                                                    sense_features = sense_features,\n",
    "                                                    sense_feat_dict = sense_feat_dict,\n",
    "                                                    top_k = 8,\n",
    "                                                    solver = 'nmf')\n",
    "\n",
    "explain_plus_init = feature_dict_plus_init['explain_norm']\n",
    "explain_plus_init = (explain_plus_init - np.min(explain_plus_init)) / np.ptp(explain_plus_init)"
   ]
  },
  {
   "cell_type": "code",
   "execution_count": 20,
   "id": "de842e63",
   "metadata": {},
   "outputs": [
    {
     "data": {
      "application/vnd.plotly.v1+json": {
       "config": {
        "plotlyServerURL": "https://plot.ly"
       },
       "data": [
        {
         "type": "heatmap",
         "x": [
          "Degree",
          "Clustering Coefficient",
          "Personalized Page Rank - Median",
          "Personalized Page Rank - Standard Deviation",
          "Structural Holes Constraint",
          "Average Neighbor Degree",
          "EgoNet Edges",
          "Average Neighbor Clustering",
          "Node Betweenness",
          "Page Rank",
          "Eccentricity",
          "Degree Centrality",
          "Eigen Centrality",
          "Katz Centrality"
         ],
         "z": [
          [
           0,
           0.6545490622520447,
           0,
           0,
           0,
           0,
           0,
           0.12686313688755035,
           0,
           0,
           0.12536121904850006,
           0,
           0,
           0
          ],
          [
           0,
           0,
           0,
           0,
           0,
           0,
           0,
           0,
           0,
           0,
           0,
           0,
           0,
           0
          ],
          [
           0,
           0,
           0,
           0,
           0,
           0,
           0,
           0,
           0,
           0,
           0,
           0,
           0,
           0
          ],
          [
           0,
           0,
           0,
           0,
           0,
           0,
           0,
           0,
           0,
           0,
           0,
           0,
           0,
           0
          ],
          [
           0,
           0,
           0,
           0,
           0,
           0,
           0,
           0,
           0,
           0,
           0,
           0,
           0,
           0
          ],
          [
           0,
           0,
           0,
           0,
           0,
           0,
           0,
           0,
           0,
           0,
           0,
           0,
           0,
           0
          ],
          [
           0,
           0,
           0,
           0,
           0,
           0,
           0,
           0,
           0,
           0,
           0,
           0,
           0,
           0
          ],
          [
           0,
           0,
           0,
           0,
           0,
           0,
           0,
           0,
           0,
           0,
           0.31569603085517883,
           0,
           0,
           0
          ],
          [
           0,
           0,
           0,
           0,
           0,
           0,
           0,
           0,
           0,
           0,
           0,
           0,
           0,
           0
          ],
          [
           0,
           0,
           0,
           0,
           0,
           0.08083546161651611,
           0,
           0,
           0,
           0,
           0,
           0,
           0,
           0
          ],
          [
           0,
           0,
           0,
           0,
           0,
           0,
           0,
           0,
           0,
           0,
           0,
           0,
           0,
           0
          ],
          [
           0,
           0,
           0,
           0,
           0,
           0,
           0,
           0,
           0,
           0,
           0,
           0,
           0,
           0
          ],
          [
           0,
           0,
           0,
           0,
           0,
           0,
           0,
           0,
           0,
           0,
           0,
           0,
           0,
           0
          ],
          [
           0,
           0,
           0,
           0,
           0,
           0,
           0,
           0,
           0,
           0,
           0,
           0,
           0,
           0
          ],
          [
           0,
           0,
           0,
           0,
           0,
           0,
           0,
           0,
           0,
           0,
           0,
           0,
           0,
           0
          ],
          [
           0,
           0,
           0,
           0,
           0,
           0,
           0,
           0,
           0,
           0,
           0,
           0,
           0,
           0
          ],
          [
           0,
           0,
           0,
           0.5245822072029114,
           0,
           0,
           0,
           0,
           0,
           0,
           0,
           0,
           0,
           0.1248474046587944
          ],
          [
           0,
           0,
           0,
           0,
           0,
           0,
           0,
           0,
           0,
           0,
           0,
           0,
           0,
           0
          ],
          [
           0,
           0,
           0,
           0,
           0,
           0.39886274933815,
           0,
           0,
           0,
           0,
           0,
           0,
           0,
           0.16500495374202728
          ],
          [
           0,
           0,
           0,
           0,
           0,
           0,
           0,
           0,
           0,
           0,
           0,
           0,
           0,
           0
          ],
          [
           0,
           0,
           0,
           0,
           0,
           0,
           0,
           0,
           0,
           0,
           0.05260523408651352,
           0,
           0,
           0
          ],
          [
           0,
           0,
           0,
           0,
           0,
           0,
           0,
           0,
           0,
           0,
           0,
           0,
           0,
           0
          ],
          [
           0,
           0,
           0,
           0,
           0,
           0,
           0,
           0,
           0,
           0,
           0,
           0,
           0,
           0
          ],
          [
           0,
           0,
           0,
           0,
           0,
           0,
           0,
           0,
           0,
           0,
           0,
           0,
           0,
           0
          ],
          [
           0,
           0.02975407987833023,
           0,
           0,
           0,
           0.057779788970947266,
           0,
           0.04478932544589043,
           0,
           0,
           0,
           0,
           0,
           0.14329534769058228
          ],
          [
           0,
           0,
           0,
           0,
           0,
           0,
           0,
           0,
           0,
           0,
           0,
           0,
           0,
           0
          ],
          [
           0,
           0,
           0,
           0,
           0,
           0,
           0,
           0,
           0,
           0,
           0,
           0,
           0,
           0
          ],
          [
           0,
           0,
           0,
           0,
           0,
           0,
           0,
           0,
           0,
           0,
           0,
           0,
           0,
           0
          ],
          [
           0,
           0,
           0,
           0,
           0,
           0,
           0,
           0,
           0,
           0,
           0,
           0,
           0,
           0
          ],
          [
           0,
           0,
           0,
           0,
           0,
           0,
           0,
           0,
           0,
           0,
           0,
           0,
           0,
           0
          ],
          [
           0,
           0,
           0,
           0,
           0.1668921411037445,
           0,
           0,
           0,
           0,
           0,
           0,
           0,
           0,
           0
          ],
          [
           0,
           0,
           0,
           0.03470851108431816,
           0,
           0,
           0,
           0.08063157647848129,
           0,
           0,
           0,
           0,
           0,
           0
          ],
          [
           0,
           0,
           0,
           0,
           0,
           0,
           0,
           0,
           0,
           0,
           0,
           0,
           0,
           0
          ],
          [
           0,
           0,
           0,
           0,
           0,
           0,
           0,
           0,
           0,
           0,
           0,
           0,
           0,
           0
          ],
          [
           0,
           0,
           0,
           0,
           0,
           0,
           0,
           0,
           0,
           0,
           0,
           0,
           0,
           0
          ],
          [
           0,
           0,
           0,
           0,
           0,
           0,
           0,
           0,
           0,
           0,
           0,
           0,
           0,
           0
          ],
          [
           0,
           0,
           0,
           0,
           0,
           0,
           0,
           0,
           0,
           0,
           0,
           0,
           0,
           0
          ],
          [
           0,
           0,
           0,
           0,
           0,
           0,
           0,
           0,
           0,
           0,
           0,
           0,
           0,
           0
          ],
          [
           0,
           0,
           0,
           0,
           0,
           0,
           0,
           0,
           0,
           0,
           0,
           0,
           0,
           0
          ],
          [
           0,
           0,
           0,
           0,
           0,
           0,
           0,
           0,
           0,
           0,
           0,
           0,
           0,
           0
          ],
          [
           0,
           0,
           0,
           0,
           0,
           0,
           0,
           0,
           0,
           0,
           0,
           0,
           0,
           0
          ],
          [
           0,
           0,
           0,
           0,
           0,
           0,
           0,
           0,
           0,
           0,
           0,
           0,
           0,
           0
          ],
          [
           0,
           0,
           0,
           0,
           0,
           0,
           0,
           0,
           0,
           0,
           0,
           0,
           0,
           0
          ],
          [
           0,
           0,
           0,
           0,
           0,
           0,
           0,
           0,
           0,
           0,
           0,
           0,
           0,
           0
          ],
          [
           0,
           0,
           0,
           0,
           0,
           0,
           0,
           0,
           0,
           0,
           0,
           0,
           0,
           0
          ],
          [
           0,
           0,
           0,
           0,
           0,
           0,
           0,
           0,
           0,
           0,
           0,
           0,
           0,
           0
          ],
          [
           0,
           0,
           0,
           0,
           0,
           0,
           0,
           0,
           0,
           0,
           0,
           0,
           0,
           0
          ],
          [
           0,
           0,
           0,
           0,
           0,
           0,
           0,
           0,
           0,
           0,
           0,
           0,
           0,
           0
          ],
          [
           0,
           0,
           0,
           0,
           0,
           0,
           0,
           0,
           0,
           0,
           0,
           0,
           0,
           0
          ],
          [
           0,
           0,
           0,
           0,
           0,
           0,
           0,
           0,
           0,
           0,
           0,
           0,
           0,
           0
          ],
          [
           0,
           0,
           0,
           0,
           0,
           0,
           0,
           0,
           0,
           0,
           0,
           0,
           0,
           0
          ],
          [
           0,
           0,
           0,
           0,
           0,
           0,
           0,
           0,
           0,
           0,
           0,
           0,
           0,
           0
          ],
          [
           0,
           0,
           0,
           0,
           0,
           0,
           0,
           0,
           0,
           0,
           0.13670864701271057,
           0,
           0,
           0
          ],
          [
           0,
           0,
           0,
           0,
           0,
           0.0946832224726677,
           0,
           0.006409363355487585,
           0,
           0,
           0.2029000222682953,
           0,
           0,
           0
          ],
          [
           0,
           0,
           0,
           0,
           0,
           0,
           0,
           0,
           0,
           0,
           0,
           0,
           0,
           0
          ],
          [
           0,
           0,
           0,
           0,
           0,
           0,
           0,
           0,
           0,
           0,
           0,
           0,
           0,
           0
          ],
          [
           0,
           0,
           0,
           0,
           0,
           0,
           0,
           0,
           0,
           0,
           0,
           0,
           0,
           0
          ],
          [
           0,
           0,
           0,
           0,
           1,
           0,
           0,
           0,
           0,
           0,
           0,
           0,
           0,
           0
          ],
          [
           0.2877027094364166,
           0,
           0.278580904006958,
           0,
           0,
           0,
           0.21411043405532837,
           0.36984729766845703,
           0.17629274725914001,
           0.2985076904296875,
           0,
           0.2877027094364166,
           0.28748127818107605,
           0.21776558458805084
          ],
          [
           0,
           0,
           0,
           0,
           0,
           0,
           0,
           0,
           0,
           0,
           0.013457642868161201,
           0,
           0,
           0
          ],
          [
           0,
           0,
           0,
           0,
           0,
           0,
           0,
           0,
           0,
           0,
           0,
           0,
           0,
           0
          ],
          [
           0,
           0,
           0,
           0,
           0,
           0,
           0,
           0,
           0,
           0,
           0,
           0,
           0,
           0
          ],
          [
           0,
           0,
           0,
           0,
           0,
           0.03249731659889221,
           0,
           0,
           0,
           0,
           0,
           0,
           0,
           0.009520628489553928
          ],
          [
           0,
           0,
           0,
           0,
           0,
           0,
           0,
           0,
           0,
           0,
           0,
           0,
           0,
           0
          ]
         ]
        }
       ],
       "layout": {
        "template": {
         "data": {
          "bar": [
           {
            "error_x": {
             "color": "#2a3f5f"
            },
            "error_y": {
             "color": "#2a3f5f"
            },
            "marker": {
             "line": {
              "color": "#E5ECF6",
              "width": 0.5
             },
             "pattern": {
              "fillmode": "overlay",
              "size": 10,
              "solidity": 0.2
             }
            },
            "type": "bar"
           }
          ],
          "barpolar": [
           {
            "marker": {
             "line": {
              "color": "#E5ECF6",
              "width": 0.5
             },
             "pattern": {
              "fillmode": "overlay",
              "size": 10,
              "solidity": 0.2
             }
            },
            "type": "barpolar"
           }
          ],
          "carpet": [
           {
            "aaxis": {
             "endlinecolor": "#2a3f5f",
             "gridcolor": "white",
             "linecolor": "white",
             "minorgridcolor": "white",
             "startlinecolor": "#2a3f5f"
            },
            "baxis": {
             "endlinecolor": "#2a3f5f",
             "gridcolor": "white",
             "linecolor": "white",
             "minorgridcolor": "white",
             "startlinecolor": "#2a3f5f"
            },
            "type": "carpet"
           }
          ],
          "choropleth": [
           {
            "colorbar": {
             "outlinewidth": 0,
             "ticks": ""
            },
            "type": "choropleth"
           }
          ],
          "contour": [
           {
            "colorbar": {
             "outlinewidth": 0,
             "ticks": ""
            },
            "colorscale": [
             [
              0,
              "#0d0887"
             ],
             [
              0.1111111111111111,
              "#46039f"
             ],
             [
              0.2222222222222222,
              "#7201a8"
             ],
             [
              0.3333333333333333,
              "#9c179e"
             ],
             [
              0.4444444444444444,
              "#bd3786"
             ],
             [
              0.5555555555555556,
              "#d8576b"
             ],
             [
              0.6666666666666666,
              "#ed7953"
             ],
             [
              0.7777777777777778,
              "#fb9f3a"
             ],
             [
              0.8888888888888888,
              "#fdca26"
             ],
             [
              1,
              "#f0f921"
             ]
            ],
            "type": "contour"
           }
          ],
          "contourcarpet": [
           {
            "colorbar": {
             "outlinewidth": 0,
             "ticks": ""
            },
            "type": "contourcarpet"
           }
          ],
          "heatmap": [
           {
            "colorbar": {
             "outlinewidth": 0,
             "ticks": ""
            },
            "colorscale": [
             [
              0,
              "#0d0887"
             ],
             [
              0.1111111111111111,
              "#46039f"
             ],
             [
              0.2222222222222222,
              "#7201a8"
             ],
             [
              0.3333333333333333,
              "#9c179e"
             ],
             [
              0.4444444444444444,
              "#bd3786"
             ],
             [
              0.5555555555555556,
              "#d8576b"
             ],
             [
              0.6666666666666666,
              "#ed7953"
             ],
             [
              0.7777777777777778,
              "#fb9f3a"
             ],
             [
              0.8888888888888888,
              "#fdca26"
             ],
             [
              1,
              "#f0f921"
             ]
            ],
            "type": "heatmap"
           }
          ],
          "heatmapgl": [
           {
            "colorbar": {
             "outlinewidth": 0,
             "ticks": ""
            },
            "colorscale": [
             [
              0,
              "#0d0887"
             ],
             [
              0.1111111111111111,
              "#46039f"
             ],
             [
              0.2222222222222222,
              "#7201a8"
             ],
             [
              0.3333333333333333,
              "#9c179e"
             ],
             [
              0.4444444444444444,
              "#bd3786"
             ],
             [
              0.5555555555555556,
              "#d8576b"
             ],
             [
              0.6666666666666666,
              "#ed7953"
             ],
             [
              0.7777777777777778,
              "#fb9f3a"
             ],
             [
              0.8888888888888888,
              "#fdca26"
             ],
             [
              1,
              "#f0f921"
             ]
            ],
            "type": "heatmapgl"
           }
          ],
          "histogram": [
           {
            "marker": {
             "pattern": {
              "fillmode": "overlay",
              "size": 10,
              "solidity": 0.2
             }
            },
            "type": "histogram"
           }
          ],
          "histogram2d": [
           {
            "colorbar": {
             "outlinewidth": 0,
             "ticks": ""
            },
            "colorscale": [
             [
              0,
              "#0d0887"
             ],
             [
              0.1111111111111111,
              "#46039f"
             ],
             [
              0.2222222222222222,
              "#7201a8"
             ],
             [
              0.3333333333333333,
              "#9c179e"
             ],
             [
              0.4444444444444444,
              "#bd3786"
             ],
             [
              0.5555555555555556,
              "#d8576b"
             ],
             [
              0.6666666666666666,
              "#ed7953"
             ],
             [
              0.7777777777777778,
              "#fb9f3a"
             ],
             [
              0.8888888888888888,
              "#fdca26"
             ],
             [
              1,
              "#f0f921"
             ]
            ],
            "type": "histogram2d"
           }
          ],
          "histogram2dcontour": [
           {
            "colorbar": {
             "outlinewidth": 0,
             "ticks": ""
            },
            "colorscale": [
             [
              0,
              "#0d0887"
             ],
             [
              0.1111111111111111,
              "#46039f"
             ],
             [
              0.2222222222222222,
              "#7201a8"
             ],
             [
              0.3333333333333333,
              "#9c179e"
             ],
             [
              0.4444444444444444,
              "#bd3786"
             ],
             [
              0.5555555555555556,
              "#d8576b"
             ],
             [
              0.6666666666666666,
              "#ed7953"
             ],
             [
              0.7777777777777778,
              "#fb9f3a"
             ],
             [
              0.8888888888888888,
              "#fdca26"
             ],
             [
              1,
              "#f0f921"
             ]
            ],
            "type": "histogram2dcontour"
           }
          ],
          "mesh3d": [
           {
            "colorbar": {
             "outlinewidth": 0,
             "ticks": ""
            },
            "type": "mesh3d"
           }
          ],
          "parcoords": [
           {
            "line": {
             "colorbar": {
              "outlinewidth": 0,
              "ticks": ""
             }
            },
            "type": "parcoords"
           }
          ],
          "pie": [
           {
            "automargin": true,
            "type": "pie"
           }
          ],
          "scatter": [
           {
            "fillpattern": {
             "fillmode": "overlay",
             "size": 10,
             "solidity": 0.2
            },
            "type": "scatter"
           }
          ],
          "scatter3d": [
           {
            "line": {
             "colorbar": {
              "outlinewidth": 0,
              "ticks": ""
             }
            },
            "marker": {
             "colorbar": {
              "outlinewidth": 0,
              "ticks": ""
             }
            },
            "type": "scatter3d"
           }
          ],
          "scattercarpet": [
           {
            "marker": {
             "colorbar": {
              "outlinewidth": 0,
              "ticks": ""
             }
            },
            "type": "scattercarpet"
           }
          ],
          "scattergeo": [
           {
            "marker": {
             "colorbar": {
              "outlinewidth": 0,
              "ticks": ""
             }
            },
            "type": "scattergeo"
           }
          ],
          "scattergl": [
           {
            "marker": {
             "colorbar": {
              "outlinewidth": 0,
              "ticks": ""
             }
            },
            "type": "scattergl"
           }
          ],
          "scattermapbox": [
           {
            "marker": {
             "colorbar": {
              "outlinewidth": 0,
              "ticks": ""
             }
            },
            "type": "scattermapbox"
           }
          ],
          "scatterpolar": [
           {
            "marker": {
             "colorbar": {
              "outlinewidth": 0,
              "ticks": ""
             }
            },
            "type": "scatterpolar"
           }
          ],
          "scatterpolargl": [
           {
            "marker": {
             "colorbar": {
              "outlinewidth": 0,
              "ticks": ""
             }
            },
            "type": "scatterpolargl"
           }
          ],
          "scatterternary": [
           {
            "marker": {
             "colorbar": {
              "outlinewidth": 0,
              "ticks": ""
             }
            },
            "type": "scatterternary"
           }
          ],
          "surface": [
           {
            "colorbar": {
             "outlinewidth": 0,
             "ticks": ""
            },
            "colorscale": [
             [
              0,
              "#0d0887"
             ],
             [
              0.1111111111111111,
              "#46039f"
             ],
             [
              0.2222222222222222,
              "#7201a8"
             ],
             [
              0.3333333333333333,
              "#9c179e"
             ],
             [
              0.4444444444444444,
              "#bd3786"
             ],
             [
              0.5555555555555556,
              "#d8576b"
             ],
             [
              0.6666666666666666,
              "#ed7953"
             ],
             [
              0.7777777777777778,
              "#fb9f3a"
             ],
             [
              0.8888888888888888,
              "#fdca26"
             ],
             [
              1,
              "#f0f921"
             ]
            ],
            "type": "surface"
           }
          ],
          "table": [
           {
            "cells": {
             "fill": {
              "color": "#EBF0F8"
             },
             "line": {
              "color": "white"
             }
            },
            "header": {
             "fill": {
              "color": "#C8D4E3"
             },
             "line": {
              "color": "white"
             }
            },
            "type": "table"
           }
          ]
         },
         "layout": {
          "annotationdefaults": {
           "arrowcolor": "#2a3f5f",
           "arrowhead": 0,
           "arrowwidth": 1
          },
          "autotypenumbers": "strict",
          "coloraxis": {
           "colorbar": {
            "outlinewidth": 0,
            "ticks": ""
           }
          },
          "colorscale": {
           "diverging": [
            [
             0,
             "#8e0152"
            ],
            [
             0.1,
             "#c51b7d"
            ],
            [
             0.2,
             "#de77ae"
            ],
            [
             0.3,
             "#f1b6da"
            ],
            [
             0.4,
             "#fde0ef"
            ],
            [
             0.5,
             "#f7f7f7"
            ],
            [
             0.6,
             "#e6f5d0"
            ],
            [
             0.7,
             "#b8e186"
            ],
            [
             0.8,
             "#7fbc41"
            ],
            [
             0.9,
             "#4d9221"
            ],
            [
             1,
             "#276419"
            ]
           ],
           "sequential": [
            [
             0,
             "#0d0887"
            ],
            [
             0.1111111111111111,
             "#46039f"
            ],
            [
             0.2222222222222222,
             "#7201a8"
            ],
            [
             0.3333333333333333,
             "#9c179e"
            ],
            [
             0.4444444444444444,
             "#bd3786"
            ],
            [
             0.5555555555555556,
             "#d8576b"
            ],
            [
             0.6666666666666666,
             "#ed7953"
            ],
            [
             0.7777777777777778,
             "#fb9f3a"
            ],
            [
             0.8888888888888888,
             "#fdca26"
            ],
            [
             1,
             "#f0f921"
            ]
           ],
           "sequentialminus": [
            [
             0,
             "#0d0887"
            ],
            [
             0.1111111111111111,
             "#46039f"
            ],
            [
             0.2222222222222222,
             "#7201a8"
            ],
            [
             0.3333333333333333,
             "#9c179e"
            ],
            [
             0.4444444444444444,
             "#bd3786"
            ],
            [
             0.5555555555555556,
             "#d8576b"
            ],
            [
             0.6666666666666666,
             "#ed7953"
            ],
            [
             0.7777777777777778,
             "#fb9f3a"
            ],
            [
             0.8888888888888888,
             "#fdca26"
            ],
            [
             1,
             "#f0f921"
            ]
           ]
          },
          "colorway": [
           "#636efa",
           "#EF553B",
           "#00cc96",
           "#ab63fa",
           "#FFA15A",
           "#19d3f3",
           "#FF6692",
           "#B6E880",
           "#FF97FF",
           "#FECB52"
          ],
          "font": {
           "color": "#2a3f5f"
          },
          "geo": {
           "bgcolor": "white",
           "lakecolor": "white",
           "landcolor": "#E5ECF6",
           "showlakes": true,
           "showland": true,
           "subunitcolor": "white"
          },
          "hoverlabel": {
           "align": "left"
          },
          "hovermode": "closest",
          "mapbox": {
           "style": "light"
          },
          "paper_bgcolor": "white",
          "plot_bgcolor": "#E5ECF6",
          "polar": {
           "angularaxis": {
            "gridcolor": "white",
            "linecolor": "white",
            "ticks": ""
           },
           "bgcolor": "#E5ECF6",
           "radialaxis": {
            "gridcolor": "white",
            "linecolor": "white",
            "ticks": ""
           }
          },
          "scene": {
           "xaxis": {
            "backgroundcolor": "#E5ECF6",
            "gridcolor": "white",
            "gridwidth": 2,
            "linecolor": "white",
            "showbackground": true,
            "ticks": "",
            "zerolinecolor": "white"
           },
           "yaxis": {
            "backgroundcolor": "#E5ECF6",
            "gridcolor": "white",
            "gridwidth": 2,
            "linecolor": "white",
            "showbackground": true,
            "ticks": "",
            "zerolinecolor": "white"
           },
           "zaxis": {
            "backgroundcolor": "#E5ECF6",
            "gridcolor": "white",
            "gridwidth": 2,
            "linecolor": "white",
            "showbackground": true,
            "ticks": "",
            "zerolinecolor": "white"
           }
          },
          "shapedefaults": {
           "line": {
            "color": "#2a3f5f"
           }
          },
          "ternary": {
           "aaxis": {
            "gridcolor": "white",
            "linecolor": "white",
            "ticks": ""
           },
           "baxis": {
            "gridcolor": "white",
            "linecolor": "white",
            "ticks": ""
           },
           "bgcolor": "#E5ECF6",
           "caxis": {
            "gridcolor": "white",
            "linecolor": "white",
            "ticks": ""
           }
          },
          "title": {
           "x": 0.05
          },
          "xaxis": {
           "automargin": true,
           "gridcolor": "white",
           "linecolor": "white",
           "ticks": "",
           "title": {
            "standoff": 15
           },
           "zerolinecolor": "white",
           "zerolinewidth": 2
          },
          "yaxis": {
           "automargin": true,
           "gridcolor": "white",
           "linecolor": "white",
           "ticks": "",
           "title": {
            "standoff": 15
           },
           "zerolinecolor": "white",
           "zerolinewidth": 2
          }
         }
        },
        "title": {
         "text": "LINE : 4.097494"
        },
        "xaxis": {
         "title": {
          "text": "Sense Features"
         }
        },
        "yaxis": {
         "title": {
          "text": "Dimensions"
         }
        }
       }
      },
      "text/html": [
       "<div>                            <div id=\"cf572807-4c52-405b-9cdf-8ac381d7f257\" class=\"plotly-graph-div\" style=\"height:525px; width:100%;\"></div>            <script type=\"text/javascript\">                require([\"plotly\"], function(Plotly) {                    window.PLOTLYENV=window.PLOTLYENV || {};                                    if (document.getElementById(\"cf572807-4c52-405b-9cdf-8ac381d7f257\")) {                    Plotly.newPlot(                        \"cf572807-4c52-405b-9cdf-8ac381d7f257\",                        [{\"x\":[\"Degree\",\"Clustering Coefficient\",\"Personalized Page Rank - Median\",\"Personalized Page Rank - Standard Deviation\",\"Structural Holes Constraint\",\"Average Neighbor Degree\",\"EgoNet Edges\",\"Average Neighbor Clustering\",\"Node Betweenness\",\"Page Rank\",\"Eccentricity\",\"Degree Centrality\",\"Eigen Centrality\",\"Katz Centrality\"],\"z\":[[0.0,0.6545490622520447,0.0,0.0,0.0,0.0,0.0,0.12686313688755035,0.0,0.0,0.12536121904850006,0.0,0.0,0.0],[0.0,0.0,0.0,0.0,0.0,0.0,0.0,0.0,0.0,0.0,0.0,0.0,0.0,0.0],[0.0,0.0,0.0,0.0,0.0,0.0,0.0,0.0,0.0,0.0,0.0,0.0,0.0,0.0],[0.0,0.0,0.0,0.0,0.0,0.0,0.0,0.0,0.0,0.0,0.0,0.0,0.0,0.0],[0.0,0.0,0.0,0.0,0.0,0.0,0.0,0.0,0.0,0.0,0.0,0.0,0.0,0.0],[0.0,0.0,0.0,0.0,0.0,0.0,0.0,0.0,0.0,0.0,0.0,0.0,0.0,0.0],[0.0,0.0,0.0,0.0,0.0,0.0,0.0,0.0,0.0,0.0,0.0,0.0,0.0,0.0],[0.0,0.0,0.0,0.0,0.0,0.0,0.0,0.0,0.0,0.0,0.31569603085517883,0.0,0.0,0.0],[0.0,0.0,0.0,0.0,0.0,0.0,0.0,0.0,0.0,0.0,0.0,0.0,0.0,0.0],[0.0,0.0,0.0,0.0,0.0,0.08083546161651611,0.0,0.0,0.0,0.0,0.0,0.0,0.0,0.0],[0.0,0.0,0.0,0.0,0.0,0.0,0.0,0.0,0.0,0.0,0.0,0.0,0.0,0.0],[0.0,0.0,0.0,0.0,0.0,0.0,0.0,0.0,0.0,0.0,0.0,0.0,0.0,0.0],[0.0,0.0,0.0,0.0,0.0,0.0,0.0,0.0,0.0,0.0,0.0,0.0,0.0,0.0],[0.0,0.0,0.0,0.0,0.0,0.0,0.0,0.0,0.0,0.0,0.0,0.0,0.0,0.0],[0.0,0.0,0.0,0.0,0.0,0.0,0.0,0.0,0.0,0.0,0.0,0.0,0.0,0.0],[0.0,0.0,0.0,0.0,0.0,0.0,0.0,0.0,0.0,0.0,0.0,0.0,0.0,0.0],[0.0,0.0,0.0,0.5245822072029114,0.0,0.0,0.0,0.0,0.0,0.0,0.0,0.0,0.0,0.1248474046587944],[0.0,0.0,0.0,0.0,0.0,0.0,0.0,0.0,0.0,0.0,0.0,0.0,0.0,0.0],[0.0,0.0,0.0,0.0,0.0,0.39886274933815,0.0,0.0,0.0,0.0,0.0,0.0,0.0,0.16500495374202728],[0.0,0.0,0.0,0.0,0.0,0.0,0.0,0.0,0.0,0.0,0.0,0.0,0.0,0.0],[0.0,0.0,0.0,0.0,0.0,0.0,0.0,0.0,0.0,0.0,0.05260523408651352,0.0,0.0,0.0],[0.0,0.0,0.0,0.0,0.0,0.0,0.0,0.0,0.0,0.0,0.0,0.0,0.0,0.0],[0.0,0.0,0.0,0.0,0.0,0.0,0.0,0.0,0.0,0.0,0.0,0.0,0.0,0.0],[0.0,0.0,0.0,0.0,0.0,0.0,0.0,0.0,0.0,0.0,0.0,0.0,0.0,0.0],[0.0,0.02975407987833023,0.0,0.0,0.0,0.057779788970947266,0.0,0.04478932544589043,0.0,0.0,0.0,0.0,0.0,0.14329534769058228],[0.0,0.0,0.0,0.0,0.0,0.0,0.0,0.0,0.0,0.0,0.0,0.0,0.0,0.0],[0.0,0.0,0.0,0.0,0.0,0.0,0.0,0.0,0.0,0.0,0.0,0.0,0.0,0.0],[0.0,0.0,0.0,0.0,0.0,0.0,0.0,0.0,0.0,0.0,0.0,0.0,0.0,0.0],[0.0,0.0,0.0,0.0,0.0,0.0,0.0,0.0,0.0,0.0,0.0,0.0,0.0,0.0],[0.0,0.0,0.0,0.0,0.0,0.0,0.0,0.0,0.0,0.0,0.0,0.0,0.0,0.0],[0.0,0.0,0.0,0.0,0.1668921411037445,0.0,0.0,0.0,0.0,0.0,0.0,0.0,0.0,0.0],[0.0,0.0,0.0,0.03470851108431816,0.0,0.0,0.0,0.08063157647848129,0.0,0.0,0.0,0.0,0.0,0.0],[0.0,0.0,0.0,0.0,0.0,0.0,0.0,0.0,0.0,0.0,0.0,0.0,0.0,0.0],[0.0,0.0,0.0,0.0,0.0,0.0,0.0,0.0,0.0,0.0,0.0,0.0,0.0,0.0],[0.0,0.0,0.0,0.0,0.0,0.0,0.0,0.0,0.0,0.0,0.0,0.0,0.0,0.0],[0.0,0.0,0.0,0.0,0.0,0.0,0.0,0.0,0.0,0.0,0.0,0.0,0.0,0.0],[0.0,0.0,0.0,0.0,0.0,0.0,0.0,0.0,0.0,0.0,0.0,0.0,0.0,0.0],[0.0,0.0,0.0,0.0,0.0,0.0,0.0,0.0,0.0,0.0,0.0,0.0,0.0,0.0],[0.0,0.0,0.0,0.0,0.0,0.0,0.0,0.0,0.0,0.0,0.0,0.0,0.0,0.0],[0.0,0.0,0.0,0.0,0.0,0.0,0.0,0.0,0.0,0.0,0.0,0.0,0.0,0.0],[0.0,0.0,0.0,0.0,0.0,0.0,0.0,0.0,0.0,0.0,0.0,0.0,0.0,0.0],[0.0,0.0,0.0,0.0,0.0,0.0,0.0,0.0,0.0,0.0,0.0,0.0,0.0,0.0],[0.0,0.0,0.0,0.0,0.0,0.0,0.0,0.0,0.0,0.0,0.0,0.0,0.0,0.0],[0.0,0.0,0.0,0.0,0.0,0.0,0.0,0.0,0.0,0.0,0.0,0.0,0.0,0.0],[0.0,0.0,0.0,0.0,0.0,0.0,0.0,0.0,0.0,0.0,0.0,0.0,0.0,0.0],[0.0,0.0,0.0,0.0,0.0,0.0,0.0,0.0,0.0,0.0,0.0,0.0,0.0,0.0],[0.0,0.0,0.0,0.0,0.0,0.0,0.0,0.0,0.0,0.0,0.0,0.0,0.0,0.0],[0.0,0.0,0.0,0.0,0.0,0.0,0.0,0.0,0.0,0.0,0.0,0.0,0.0,0.0],[0.0,0.0,0.0,0.0,0.0,0.0,0.0,0.0,0.0,0.0,0.0,0.0,0.0,0.0],[0.0,0.0,0.0,0.0,0.0,0.0,0.0,0.0,0.0,0.0,0.0,0.0,0.0,0.0],[0.0,0.0,0.0,0.0,0.0,0.0,0.0,0.0,0.0,0.0,0.0,0.0,0.0,0.0],[0.0,0.0,0.0,0.0,0.0,0.0,0.0,0.0,0.0,0.0,0.0,0.0,0.0,0.0],[0.0,0.0,0.0,0.0,0.0,0.0,0.0,0.0,0.0,0.0,0.13670864701271057,0.0,0.0,0.0],[0.0,0.0,0.0,0.0,0.0,0.0946832224726677,0.0,0.006409363355487585,0.0,0.0,0.2029000222682953,0.0,0.0,0.0],[0.0,0.0,0.0,0.0,0.0,0.0,0.0,0.0,0.0,0.0,0.0,0.0,0.0,0.0],[0.0,0.0,0.0,0.0,0.0,0.0,0.0,0.0,0.0,0.0,0.0,0.0,0.0,0.0],[0.0,0.0,0.0,0.0,0.0,0.0,0.0,0.0,0.0,0.0,0.0,0.0,0.0,0.0],[0.0,0.0,0.0,0.0,1.0,0.0,0.0,0.0,0.0,0.0,0.0,0.0,0.0,0.0],[0.2877027094364166,0.0,0.278580904006958,0.0,0.0,0.0,0.21411043405532837,0.36984729766845703,0.17629274725914001,0.2985076904296875,0.0,0.2877027094364166,0.28748127818107605,0.21776558458805084],[0.0,0.0,0.0,0.0,0.0,0.0,0.0,0.0,0.0,0.0,0.013457642868161201,0.0,0.0,0.0],[0.0,0.0,0.0,0.0,0.0,0.0,0.0,0.0,0.0,0.0,0.0,0.0,0.0,0.0],[0.0,0.0,0.0,0.0,0.0,0.0,0.0,0.0,0.0,0.0,0.0,0.0,0.0,0.0],[0.0,0.0,0.0,0.0,0.0,0.03249731659889221,0.0,0.0,0.0,0.0,0.0,0.0,0.0,0.009520628489553928],[0.0,0.0,0.0,0.0,0.0,0.0,0.0,0.0,0.0,0.0,0.0,0.0,0.0,0.0]],\"type\":\"heatmap\"}],                        {\"template\":{\"data\":{\"histogram2dcontour\":[{\"type\":\"histogram2dcontour\",\"colorbar\":{\"outlinewidth\":0,\"ticks\":\"\"},\"colorscale\":[[0.0,\"#0d0887\"],[0.1111111111111111,\"#46039f\"],[0.2222222222222222,\"#7201a8\"],[0.3333333333333333,\"#9c179e\"],[0.4444444444444444,\"#bd3786\"],[0.5555555555555556,\"#d8576b\"],[0.6666666666666666,\"#ed7953\"],[0.7777777777777778,\"#fb9f3a\"],[0.8888888888888888,\"#fdca26\"],[1.0,\"#f0f921\"]]}],\"choropleth\":[{\"type\":\"choropleth\",\"colorbar\":{\"outlinewidth\":0,\"ticks\":\"\"}}],\"histogram2d\":[{\"type\":\"histogram2d\",\"colorbar\":{\"outlinewidth\":0,\"ticks\":\"\"},\"colorscale\":[[0.0,\"#0d0887\"],[0.1111111111111111,\"#46039f\"],[0.2222222222222222,\"#7201a8\"],[0.3333333333333333,\"#9c179e\"],[0.4444444444444444,\"#bd3786\"],[0.5555555555555556,\"#d8576b\"],[0.6666666666666666,\"#ed7953\"],[0.7777777777777778,\"#fb9f3a\"],[0.8888888888888888,\"#fdca26\"],[1.0,\"#f0f921\"]]}],\"heatmap\":[{\"type\":\"heatmap\",\"colorbar\":{\"outlinewidth\":0,\"ticks\":\"\"},\"colorscale\":[[0.0,\"#0d0887\"],[0.1111111111111111,\"#46039f\"],[0.2222222222222222,\"#7201a8\"],[0.3333333333333333,\"#9c179e\"],[0.4444444444444444,\"#bd3786\"],[0.5555555555555556,\"#d8576b\"],[0.6666666666666666,\"#ed7953\"],[0.7777777777777778,\"#fb9f3a\"],[0.8888888888888888,\"#fdca26\"],[1.0,\"#f0f921\"]]}],\"heatmapgl\":[{\"type\":\"heatmapgl\",\"colorbar\":{\"outlinewidth\":0,\"ticks\":\"\"},\"colorscale\":[[0.0,\"#0d0887\"],[0.1111111111111111,\"#46039f\"],[0.2222222222222222,\"#7201a8\"],[0.3333333333333333,\"#9c179e\"],[0.4444444444444444,\"#bd3786\"],[0.5555555555555556,\"#d8576b\"],[0.6666666666666666,\"#ed7953\"],[0.7777777777777778,\"#fb9f3a\"],[0.8888888888888888,\"#fdca26\"],[1.0,\"#f0f921\"]]}],\"contourcarpet\":[{\"type\":\"contourcarpet\",\"colorbar\":{\"outlinewidth\":0,\"ticks\":\"\"}}],\"contour\":[{\"type\":\"contour\",\"colorbar\":{\"outlinewidth\":0,\"ticks\":\"\"},\"colorscale\":[[0.0,\"#0d0887\"],[0.1111111111111111,\"#46039f\"],[0.2222222222222222,\"#7201a8\"],[0.3333333333333333,\"#9c179e\"],[0.4444444444444444,\"#bd3786\"],[0.5555555555555556,\"#d8576b\"],[0.6666666666666666,\"#ed7953\"],[0.7777777777777778,\"#fb9f3a\"],[0.8888888888888888,\"#fdca26\"],[1.0,\"#f0f921\"]]}],\"surface\":[{\"type\":\"surface\",\"colorbar\":{\"outlinewidth\":0,\"ticks\":\"\"},\"colorscale\":[[0.0,\"#0d0887\"],[0.1111111111111111,\"#46039f\"],[0.2222222222222222,\"#7201a8\"],[0.3333333333333333,\"#9c179e\"],[0.4444444444444444,\"#bd3786\"],[0.5555555555555556,\"#d8576b\"],[0.6666666666666666,\"#ed7953\"],[0.7777777777777778,\"#fb9f3a\"],[0.8888888888888888,\"#fdca26\"],[1.0,\"#f0f921\"]]}],\"mesh3d\":[{\"type\":\"mesh3d\",\"colorbar\":{\"outlinewidth\":0,\"ticks\":\"\"}}],\"scatter\":[{\"fillpattern\":{\"fillmode\":\"overlay\",\"size\":10,\"solidity\":0.2},\"type\":\"scatter\"}],\"parcoords\":[{\"type\":\"parcoords\",\"line\":{\"colorbar\":{\"outlinewidth\":0,\"ticks\":\"\"}}}],\"scatterpolargl\":[{\"type\":\"scatterpolargl\",\"marker\":{\"colorbar\":{\"outlinewidth\":0,\"ticks\":\"\"}}}],\"bar\":[{\"error_x\":{\"color\":\"#2a3f5f\"},\"error_y\":{\"color\":\"#2a3f5f\"},\"marker\":{\"line\":{\"color\":\"#E5ECF6\",\"width\":0.5},\"pattern\":{\"fillmode\":\"overlay\",\"size\":10,\"solidity\":0.2}},\"type\":\"bar\"}],\"scattergeo\":[{\"type\":\"scattergeo\",\"marker\":{\"colorbar\":{\"outlinewidth\":0,\"ticks\":\"\"}}}],\"scatterpolar\":[{\"type\":\"scatterpolar\",\"marker\":{\"colorbar\":{\"outlinewidth\":0,\"ticks\":\"\"}}}],\"histogram\":[{\"marker\":{\"pattern\":{\"fillmode\":\"overlay\",\"size\":10,\"solidity\":0.2}},\"type\":\"histogram\"}],\"scattergl\":[{\"type\":\"scattergl\",\"marker\":{\"colorbar\":{\"outlinewidth\":0,\"ticks\":\"\"}}}],\"scatter3d\":[{\"type\":\"scatter3d\",\"line\":{\"colorbar\":{\"outlinewidth\":0,\"ticks\":\"\"}},\"marker\":{\"colorbar\":{\"outlinewidth\":0,\"ticks\":\"\"}}}],\"scattermapbox\":[{\"type\":\"scattermapbox\",\"marker\":{\"colorbar\":{\"outlinewidth\":0,\"ticks\":\"\"}}}],\"scatterternary\":[{\"type\":\"scatterternary\",\"marker\":{\"colorbar\":{\"outlinewidth\":0,\"ticks\":\"\"}}}],\"scattercarpet\":[{\"type\":\"scattercarpet\",\"marker\":{\"colorbar\":{\"outlinewidth\":0,\"ticks\":\"\"}}}],\"carpet\":[{\"aaxis\":{\"endlinecolor\":\"#2a3f5f\",\"gridcolor\":\"white\",\"linecolor\":\"white\",\"minorgridcolor\":\"white\",\"startlinecolor\":\"#2a3f5f\"},\"baxis\":{\"endlinecolor\":\"#2a3f5f\",\"gridcolor\":\"white\",\"linecolor\":\"white\",\"minorgridcolor\":\"white\",\"startlinecolor\":\"#2a3f5f\"},\"type\":\"carpet\"}],\"table\":[{\"cells\":{\"fill\":{\"color\":\"#EBF0F8\"},\"line\":{\"color\":\"white\"}},\"header\":{\"fill\":{\"color\":\"#C8D4E3\"},\"line\":{\"color\":\"white\"}},\"type\":\"table\"}],\"barpolar\":[{\"marker\":{\"line\":{\"color\":\"#E5ECF6\",\"width\":0.5},\"pattern\":{\"fillmode\":\"overlay\",\"size\":10,\"solidity\":0.2}},\"type\":\"barpolar\"}],\"pie\":[{\"automargin\":true,\"type\":\"pie\"}]},\"layout\":{\"autotypenumbers\":\"strict\",\"colorway\":[\"#636efa\",\"#EF553B\",\"#00cc96\",\"#ab63fa\",\"#FFA15A\",\"#19d3f3\",\"#FF6692\",\"#B6E880\",\"#FF97FF\",\"#FECB52\"],\"font\":{\"color\":\"#2a3f5f\"},\"hovermode\":\"closest\",\"hoverlabel\":{\"align\":\"left\"},\"paper_bgcolor\":\"white\",\"plot_bgcolor\":\"#E5ECF6\",\"polar\":{\"bgcolor\":\"#E5ECF6\",\"angularaxis\":{\"gridcolor\":\"white\",\"linecolor\":\"white\",\"ticks\":\"\"},\"radialaxis\":{\"gridcolor\":\"white\",\"linecolor\":\"white\",\"ticks\":\"\"}},\"ternary\":{\"bgcolor\":\"#E5ECF6\",\"aaxis\":{\"gridcolor\":\"white\",\"linecolor\":\"white\",\"ticks\":\"\"},\"baxis\":{\"gridcolor\":\"white\",\"linecolor\":\"white\",\"ticks\":\"\"},\"caxis\":{\"gridcolor\":\"white\",\"linecolor\":\"white\",\"ticks\":\"\"}},\"coloraxis\":{\"colorbar\":{\"outlinewidth\":0,\"ticks\":\"\"}},\"colorscale\":{\"sequential\":[[0.0,\"#0d0887\"],[0.1111111111111111,\"#46039f\"],[0.2222222222222222,\"#7201a8\"],[0.3333333333333333,\"#9c179e\"],[0.4444444444444444,\"#bd3786\"],[0.5555555555555556,\"#d8576b\"],[0.6666666666666666,\"#ed7953\"],[0.7777777777777778,\"#fb9f3a\"],[0.8888888888888888,\"#fdca26\"],[1.0,\"#f0f921\"]],\"sequentialminus\":[[0.0,\"#0d0887\"],[0.1111111111111111,\"#46039f\"],[0.2222222222222222,\"#7201a8\"],[0.3333333333333333,\"#9c179e\"],[0.4444444444444444,\"#bd3786\"],[0.5555555555555556,\"#d8576b\"],[0.6666666666666666,\"#ed7953\"],[0.7777777777777778,\"#fb9f3a\"],[0.8888888888888888,\"#fdca26\"],[1.0,\"#f0f921\"]],\"diverging\":[[0,\"#8e0152\"],[0.1,\"#c51b7d\"],[0.2,\"#de77ae\"],[0.3,\"#f1b6da\"],[0.4,\"#fde0ef\"],[0.5,\"#f7f7f7\"],[0.6,\"#e6f5d0\"],[0.7,\"#b8e186\"],[0.8,\"#7fbc41\"],[0.9,\"#4d9221\"],[1,\"#276419\"]]},\"xaxis\":{\"gridcolor\":\"white\",\"linecolor\":\"white\",\"ticks\":\"\",\"title\":{\"standoff\":15},\"zerolinecolor\":\"white\",\"automargin\":true,\"zerolinewidth\":2},\"yaxis\":{\"gridcolor\":\"white\",\"linecolor\":\"white\",\"ticks\":\"\",\"title\":{\"standoff\":15},\"zerolinecolor\":\"white\",\"automargin\":true,\"zerolinewidth\":2},\"scene\":{\"xaxis\":{\"backgroundcolor\":\"#E5ECF6\",\"gridcolor\":\"white\",\"linecolor\":\"white\",\"showbackground\":true,\"ticks\":\"\",\"zerolinecolor\":\"white\",\"gridwidth\":2},\"yaxis\":{\"backgroundcolor\":\"#E5ECF6\",\"gridcolor\":\"white\",\"linecolor\":\"white\",\"showbackground\":true,\"ticks\":\"\",\"zerolinecolor\":\"white\",\"gridwidth\":2},\"zaxis\":{\"backgroundcolor\":\"#E5ECF6\",\"gridcolor\":\"white\",\"linecolor\":\"white\",\"showbackground\":true,\"ticks\":\"\",\"zerolinecolor\":\"white\",\"gridwidth\":2}},\"shapedefaults\":{\"line\":{\"color\":\"#2a3f5f\"}},\"annotationdefaults\":{\"arrowcolor\":\"#2a3f5f\",\"arrowhead\":0,\"arrowwidth\":1},\"geo\":{\"bgcolor\":\"white\",\"landcolor\":\"#E5ECF6\",\"subunitcolor\":\"white\",\"showland\":true,\"showlakes\":true,\"lakecolor\":\"white\"},\"title\":{\"x\":0.05},\"mapbox\":{\"style\":\"light\"}}},\"title\":{\"text\":\"LINE : 4.097494\"},\"xaxis\":{\"title\":{\"text\":\"Sense Features\"}},\"yaxis\":{\"title\":{\"text\":\"Dimensions\"}}},                        {\"responsive\": true}                    ).then(function(){\n",
       "                            \n",
       "var gd = document.getElementById('cf572807-4c52-405b-9cdf-8ac381d7f257');\n",
       "var x = new MutationObserver(function (mutations, observer) {{\n",
       "        var display = window.getComputedStyle(gd).display;\n",
       "        if (!display || display === 'none') {{\n",
       "            console.log([gd, 'removed!']);\n",
       "            Plotly.purge(gd);\n",
       "            observer.disconnect();\n",
       "        }}\n",
       "}});\n",
       "\n",
       "// Listen for the removal of the full notebook cells\n",
       "var notebookContainer = gd.closest('#notebook-container');\n",
       "if (notebookContainer) {{\n",
       "    x.observe(notebookContainer, {childList: true});\n",
       "}}\n",
       "\n",
       "// Listen for the clearing of the current output cell\n",
       "var outputEl = gd.closest('.output');\n",
       "if (outputEl) {{\n",
       "    x.observe(outputEl, {childList: true});\n",
       "}}\n",
       "\n",
       "                        })                };                });            </script>        </div>"
      ]
     },
     "metadata": {},
     "output_type": "display_data"
    },
    {
     "data": {
      "application/vnd.plotly.v1+json": {
       "config": {
        "plotlyServerURL": "https://plot.ly"
       },
       "data": [
        {
         "type": "heatmap",
         "x": [
          "Degree",
          "Clustering Coefficient",
          "Personalized Page Rank - Median",
          "Personalized Page Rank - Standard Deviation",
          "Structural Holes Constraint",
          "Average Neighbor Degree",
          "EgoNet Edges",
          "Average Neighbor Clustering",
          "Node Betweenness",
          "Page Rank",
          "Eccentricity",
          "Degree Centrality",
          "Eigen Centrality",
          "Katz Centrality"
         ],
         "z": [
          [
           0,
           0.3749634623527527,
           0,
           0,
           0,
           0,
           0,
           0,
           0,
           0,
           0,
           0,
           0,
           0
          ],
          [
           0,
           0,
           0,
           0,
           0,
           0,
           0,
           0,
           0,
           0,
           0,
           0,
           0,
           0
          ],
          [
           0,
           0,
           0,
           0,
           0,
           0,
           0,
           0,
           0,
           0,
           0,
           0,
           0,
           0
          ],
          [
           0,
           0,
           0,
           0,
           0,
           0,
           0,
           0,
           0,
           0,
           0,
           0,
           0,
           0
          ],
          [
           0,
           0,
           0,
           0,
           0,
           0,
           0,
           0,
           0,
           0,
           0,
           0,
           0,
           0
          ],
          [
           0,
           0,
           0,
           0,
           0,
           0,
           0,
           0,
           0,
           0,
           0,
           0,
           0,
           0
          ],
          [
           0,
           0,
           0,
           0,
           0,
           0,
           0,
           0,
           0,
           0,
           0,
           0,
           0,
           0
          ],
          [
           0,
           0,
           0,
           0,
           0,
           0,
           0,
           0,
           0,
           0,
           0.1005883514881134,
           0,
           0,
           0
          ],
          [
           0,
           0,
           0,
           0,
           0,
           0,
           0,
           0,
           0,
           0,
           0,
           0,
           0,
           0
          ],
          [
           0,
           0,
           0,
           0,
           0,
           0,
           0,
           0,
           0,
           0,
           0,
           0,
           0,
           0
          ],
          [
           0,
           0,
           0,
           0,
           0,
           0,
           0,
           0,
           0,
           0,
           0,
           0,
           0,
           0
          ],
          [
           0,
           0,
           0,
           0,
           0,
           0,
           0,
           0,
           0,
           0,
           0.07501993328332901,
           0,
           0,
           0
          ],
          [
           0,
           0,
           0,
           0,
           0,
           0,
           0,
           0,
           0,
           0,
           0,
           0,
           0,
           0
          ],
          [
           0,
           0,
           0,
           0,
           0,
           0,
           0,
           0,
           0,
           0,
           0,
           0,
           0,
           0
          ],
          [
           0,
           0,
           0,
           0,
           0,
           0,
           0,
           0,
           0,
           0,
           0,
           0,
           0,
           0
          ],
          [
           0,
           0,
           0,
           0,
           0,
           0,
           0,
           0,
           0,
           0,
           0,
           0,
           0,
           0
          ],
          [
           0,
           0,
           0,
           0.1520131677389145,
           0,
           0,
           0,
           0,
           0,
           0,
           0,
           0,
           0,
           0.11263809353113174
          ],
          [
           0,
           0,
           0,
           0,
           0,
           0,
           0,
           0,
           0,
           0,
           0,
           0,
           0,
           0
          ],
          [
           0,
           0,
           0,
           0,
           0,
           0.20119039714336395,
           0.12041841447353363,
           0,
           0,
           0,
           0,
           0,
           0,
           0.025349881500005722
          ],
          [
           0,
           0,
           0,
           0,
           0,
           0,
           0,
           0,
           0,
           0,
           0,
           0,
           0,
           0
          ],
          [
           0,
           0,
           0,
           0,
           0,
           0,
           0,
           0,
           0,
           0,
           0,
           0,
           0,
           0
          ],
          [
           0,
           0,
           0,
           0,
           0,
           0,
           0,
           0,
           0,
           0,
           0,
           0,
           0,
           0
          ],
          [
           0,
           0,
           0,
           0,
           0,
           0,
           0,
           0,
           0,
           0,
           0,
           0,
           0,
           0
          ],
          [
           0,
           0,
           0,
           0,
           0,
           0,
           0,
           0,
           0,
           0,
           0,
           0,
           0,
           0
          ],
          [
           0,
           0.1439858078956604,
           0,
           0,
           0,
           0.3154981732368469,
           0,
           0,
           0,
           0,
           0,
           0,
           0.13917401432991028,
           0.21237045526504517
          ],
          [
           0,
           0,
           0,
           0,
           0,
           0,
           0,
           0,
           0,
           0,
           0,
           0,
           0,
           0
          ],
          [
           0,
           0,
           0,
           0,
           0,
           0,
           0,
           0,
           0,
           0,
           0,
           0,
           0,
           0
          ],
          [
           0,
           0,
           0,
           0,
           0,
           0,
           0,
           0,
           0,
           0,
           0,
           0,
           0,
           0
          ],
          [
           0,
           0,
           0,
           0,
           0,
           0,
           0,
           0,
           0,
           0,
           0,
           0,
           0,
           0
          ],
          [
           0,
           0,
           0,
           0,
           0,
           0,
           0,
           0,
           0,
           0,
           0,
           0,
           0,
           0
          ],
          [
           0,
           0,
           0,
           0,
           0,
           0,
           0,
           0,
           0,
           0,
           0,
           0,
           0,
           0
          ],
          [
           0,
           0,
           0,
           0.24945013225078583,
           0,
           0,
           0,
           0.3094690442085266,
           0,
           0,
           0,
           0,
           0,
           0
          ],
          [
           0,
           0,
           0,
           0,
           0,
           0,
           0,
           0,
           0,
           0,
           0,
           0,
           0,
           0
          ],
          [
           0,
           0,
           0,
           0,
           0,
           0,
           0,
           0,
           0,
           0,
           0,
           0,
           0,
           0
          ],
          [
           0,
           0,
           0,
           0,
           0,
           0,
           0,
           0,
           0,
           0,
           0,
           0,
           0,
           0
          ],
          [
           0,
           0,
           0,
           0,
           0,
           0,
           0,
           0,
           0,
           0,
           0,
           0,
           0,
           0
          ],
          [
           0,
           0,
           0,
           0,
           0,
           0,
           0,
           0,
           0,
           0,
           0,
           0,
           0,
           0
          ],
          [
           0,
           0,
           0,
           0,
           0,
           0,
           0,
           0,
           0,
           0,
           0,
           0,
           0,
           0
          ],
          [
           0,
           0,
           0,
           0,
           0,
           0,
           0,
           0,
           0,
           0,
           0,
           0,
           0,
           0
          ],
          [
           0,
           0,
           0,
           0,
           0,
           0,
           0,
           0,
           0,
           0,
           0,
           0,
           0,
           0
          ],
          [
           0,
           0,
           0,
           0,
           0,
           0,
           0,
           0,
           0,
           0,
           0,
           0,
           0,
           0
          ],
          [
           0,
           0,
           0,
           0,
           0,
           0,
           0,
           0,
           0,
           0,
           0,
           0,
           0,
           0
          ],
          [
           0,
           0,
           0,
           0,
           0,
           0,
           0,
           0,
           0,
           0,
           0,
           0,
           0,
           0
          ],
          [
           0,
           0,
           0,
           0,
           0,
           0,
           0,
           0,
           0.08958759158849716,
           0,
           0,
           0,
           0,
           0
          ],
          [
           0,
           0,
           0,
           0,
           0,
           0,
           0,
           0,
           0,
           0,
           0,
           0,
           0,
           0
          ],
          [
           0,
           0,
           0,
           0,
           0,
           0,
           0,
           0,
           0,
           0,
           0,
           0,
           0,
           0
          ],
          [
           0,
           0,
           0,
           0,
           0,
           0,
           0,
           0,
           0,
           0,
           0,
           0,
           0,
           0
          ],
          [
           0,
           0,
           0,
           0,
           0,
           0,
           0,
           0,
           0,
           0,
           0,
           0,
           0,
           0
          ],
          [
           0,
           0,
           0,
           0,
           0,
           0,
           0,
           0,
           0,
           0,
           0,
           0,
           0,
           0
          ],
          [
           0,
           0,
           0,
           0,
           0,
           0,
           0,
           0,
           0,
           0,
           0,
           0,
           0,
           0
          ],
          [
           0,
           0,
           0,
           0,
           0,
           0,
           0,
           0,
           0,
           0,
           0,
           0,
           0,
           0
          ],
          [
           0,
           0,
           0,
           0,
           0,
           0,
           0,
           0,
           0,
           0,
           0,
           0,
           0,
           0
          ],
          [
           0,
           0,
           0,
           0,
           0,
           0,
           0,
           0,
           0,
           0,
           0,
           0,
           0,
           0
          ],
          [
           0,
           0,
           0,
           0,
           0,
           0,
           0,
           0,
           0,
           0,
           0.5017865300178528,
           0,
           0,
           0
          ],
          [
           0,
           0,
           0,
           0,
           0,
           0,
           0,
           0,
           0,
           0,
           0,
           0,
           0,
           0
          ],
          [
           0,
           0,
           0,
           0,
           0,
           0,
           0,
           0,
           0,
           0,
           0,
           0,
           0,
           0
          ],
          [
           0,
           0,
           0,
           0,
           0,
           0,
           0,
           0,
           0,
           0,
           0,
           0,
           0,
           0
          ],
          [
           0,
           0,
           0,
           0,
           1,
           0,
           0,
           0,
           0,
           0,
           0,
           0,
           0,
           0
          ],
          [
           0.21463057398796082,
           0,
           0.21303687989711761,
           0,
           0,
           0,
           0.06209638714790344,
           0.17011557519435883,
           0.08774203807115555,
           0.22186815738677979,
           0,
           0.21463057398796082,
           0.07981415838003159,
           0.16103072464466095
          ],
          [
           0,
           0,
           0,
           0,
           0,
           0,
           0,
           0,
           0,
           0,
           0,
           0,
           0,
           0
          ],
          [
           0,
           0,
           0,
           0,
           0,
           0,
           0,
           0,
           0,
           0,
           0,
           0,
           0,
           0
          ],
          [
           0,
           0,
           0,
           0,
           0,
           0,
           0,
           0,
           0,
           0,
           0,
           0,
           0,
           0
          ],
          [
           0,
           0,
           0,
           0,
           0,
           0,
           0,
           0,
           0,
           0,
           0,
           0,
           0,
           0
          ],
          [
           0,
           0,
           0,
           0,
           0,
           0,
           0,
           0,
           0,
           0,
           0,
           0,
           0,
           0
          ]
         ]
        }
       ],
       "layout": {
        "template": {
         "data": {
          "bar": [
           {
            "error_x": {
             "color": "#2a3f5f"
            },
            "error_y": {
             "color": "#2a3f5f"
            },
            "marker": {
             "line": {
              "color": "#E5ECF6",
              "width": 0.5
             },
             "pattern": {
              "fillmode": "overlay",
              "size": 10,
              "solidity": 0.2
             }
            },
            "type": "bar"
           }
          ],
          "barpolar": [
           {
            "marker": {
             "line": {
              "color": "#E5ECF6",
              "width": 0.5
             },
             "pattern": {
              "fillmode": "overlay",
              "size": 10,
              "solidity": 0.2
             }
            },
            "type": "barpolar"
           }
          ],
          "carpet": [
           {
            "aaxis": {
             "endlinecolor": "#2a3f5f",
             "gridcolor": "white",
             "linecolor": "white",
             "minorgridcolor": "white",
             "startlinecolor": "#2a3f5f"
            },
            "baxis": {
             "endlinecolor": "#2a3f5f",
             "gridcolor": "white",
             "linecolor": "white",
             "minorgridcolor": "white",
             "startlinecolor": "#2a3f5f"
            },
            "type": "carpet"
           }
          ],
          "choropleth": [
           {
            "colorbar": {
             "outlinewidth": 0,
             "ticks": ""
            },
            "type": "choropleth"
           }
          ],
          "contour": [
           {
            "colorbar": {
             "outlinewidth": 0,
             "ticks": ""
            },
            "colorscale": [
             [
              0,
              "#0d0887"
             ],
             [
              0.1111111111111111,
              "#46039f"
             ],
             [
              0.2222222222222222,
              "#7201a8"
             ],
             [
              0.3333333333333333,
              "#9c179e"
             ],
             [
              0.4444444444444444,
              "#bd3786"
             ],
             [
              0.5555555555555556,
              "#d8576b"
             ],
             [
              0.6666666666666666,
              "#ed7953"
             ],
             [
              0.7777777777777778,
              "#fb9f3a"
             ],
             [
              0.8888888888888888,
              "#fdca26"
             ],
             [
              1,
              "#f0f921"
             ]
            ],
            "type": "contour"
           }
          ],
          "contourcarpet": [
           {
            "colorbar": {
             "outlinewidth": 0,
             "ticks": ""
            },
            "type": "contourcarpet"
           }
          ],
          "heatmap": [
           {
            "colorbar": {
             "outlinewidth": 0,
             "ticks": ""
            },
            "colorscale": [
             [
              0,
              "#0d0887"
             ],
             [
              0.1111111111111111,
              "#46039f"
             ],
             [
              0.2222222222222222,
              "#7201a8"
             ],
             [
              0.3333333333333333,
              "#9c179e"
             ],
             [
              0.4444444444444444,
              "#bd3786"
             ],
             [
              0.5555555555555556,
              "#d8576b"
             ],
             [
              0.6666666666666666,
              "#ed7953"
             ],
             [
              0.7777777777777778,
              "#fb9f3a"
             ],
             [
              0.8888888888888888,
              "#fdca26"
             ],
             [
              1,
              "#f0f921"
             ]
            ],
            "type": "heatmap"
           }
          ],
          "heatmapgl": [
           {
            "colorbar": {
             "outlinewidth": 0,
             "ticks": ""
            },
            "colorscale": [
             [
              0,
              "#0d0887"
             ],
             [
              0.1111111111111111,
              "#46039f"
             ],
             [
              0.2222222222222222,
              "#7201a8"
             ],
             [
              0.3333333333333333,
              "#9c179e"
             ],
             [
              0.4444444444444444,
              "#bd3786"
             ],
             [
              0.5555555555555556,
              "#d8576b"
             ],
             [
              0.6666666666666666,
              "#ed7953"
             ],
             [
              0.7777777777777778,
              "#fb9f3a"
             ],
             [
              0.8888888888888888,
              "#fdca26"
             ],
             [
              1,
              "#f0f921"
             ]
            ],
            "type": "heatmapgl"
           }
          ],
          "histogram": [
           {
            "marker": {
             "pattern": {
              "fillmode": "overlay",
              "size": 10,
              "solidity": 0.2
             }
            },
            "type": "histogram"
           }
          ],
          "histogram2d": [
           {
            "colorbar": {
             "outlinewidth": 0,
             "ticks": ""
            },
            "colorscale": [
             [
              0,
              "#0d0887"
             ],
             [
              0.1111111111111111,
              "#46039f"
             ],
             [
              0.2222222222222222,
              "#7201a8"
             ],
             [
              0.3333333333333333,
              "#9c179e"
             ],
             [
              0.4444444444444444,
              "#bd3786"
             ],
             [
              0.5555555555555556,
              "#d8576b"
             ],
             [
              0.6666666666666666,
              "#ed7953"
             ],
             [
              0.7777777777777778,
              "#fb9f3a"
             ],
             [
              0.8888888888888888,
              "#fdca26"
             ],
             [
              1,
              "#f0f921"
             ]
            ],
            "type": "histogram2d"
           }
          ],
          "histogram2dcontour": [
           {
            "colorbar": {
             "outlinewidth": 0,
             "ticks": ""
            },
            "colorscale": [
             [
              0,
              "#0d0887"
             ],
             [
              0.1111111111111111,
              "#46039f"
             ],
             [
              0.2222222222222222,
              "#7201a8"
             ],
             [
              0.3333333333333333,
              "#9c179e"
             ],
             [
              0.4444444444444444,
              "#bd3786"
             ],
             [
              0.5555555555555556,
              "#d8576b"
             ],
             [
              0.6666666666666666,
              "#ed7953"
             ],
             [
              0.7777777777777778,
              "#fb9f3a"
             ],
             [
              0.8888888888888888,
              "#fdca26"
             ],
             [
              1,
              "#f0f921"
             ]
            ],
            "type": "histogram2dcontour"
           }
          ],
          "mesh3d": [
           {
            "colorbar": {
             "outlinewidth": 0,
             "ticks": ""
            },
            "type": "mesh3d"
           }
          ],
          "parcoords": [
           {
            "line": {
             "colorbar": {
              "outlinewidth": 0,
              "ticks": ""
             }
            },
            "type": "parcoords"
           }
          ],
          "pie": [
           {
            "automargin": true,
            "type": "pie"
           }
          ],
          "scatter": [
           {
            "fillpattern": {
             "fillmode": "overlay",
             "size": 10,
             "solidity": 0.2
            },
            "type": "scatter"
           }
          ],
          "scatter3d": [
           {
            "line": {
             "colorbar": {
              "outlinewidth": 0,
              "ticks": ""
             }
            },
            "marker": {
             "colorbar": {
              "outlinewidth": 0,
              "ticks": ""
             }
            },
            "type": "scatter3d"
           }
          ],
          "scattercarpet": [
           {
            "marker": {
             "colorbar": {
              "outlinewidth": 0,
              "ticks": ""
             }
            },
            "type": "scattercarpet"
           }
          ],
          "scattergeo": [
           {
            "marker": {
             "colorbar": {
              "outlinewidth": 0,
              "ticks": ""
             }
            },
            "type": "scattergeo"
           }
          ],
          "scattergl": [
           {
            "marker": {
             "colorbar": {
              "outlinewidth": 0,
              "ticks": ""
             }
            },
            "type": "scattergl"
           }
          ],
          "scattermapbox": [
           {
            "marker": {
             "colorbar": {
              "outlinewidth": 0,
              "ticks": ""
             }
            },
            "type": "scattermapbox"
           }
          ],
          "scatterpolar": [
           {
            "marker": {
             "colorbar": {
              "outlinewidth": 0,
              "ticks": ""
             }
            },
            "type": "scatterpolar"
           }
          ],
          "scatterpolargl": [
           {
            "marker": {
             "colorbar": {
              "outlinewidth": 0,
              "ticks": ""
             }
            },
            "type": "scatterpolargl"
           }
          ],
          "scatterternary": [
           {
            "marker": {
             "colorbar": {
              "outlinewidth": 0,
              "ticks": ""
             }
            },
            "type": "scatterternary"
           }
          ],
          "surface": [
           {
            "colorbar": {
             "outlinewidth": 0,
             "ticks": ""
            },
            "colorscale": [
             [
              0,
              "#0d0887"
             ],
             [
              0.1111111111111111,
              "#46039f"
             ],
             [
              0.2222222222222222,
              "#7201a8"
             ],
             [
              0.3333333333333333,
              "#9c179e"
             ],
             [
              0.4444444444444444,
              "#bd3786"
             ],
             [
              0.5555555555555556,
              "#d8576b"
             ],
             [
              0.6666666666666666,
              "#ed7953"
             ],
             [
              0.7777777777777778,
              "#fb9f3a"
             ],
             [
              0.8888888888888888,
              "#fdca26"
             ],
             [
              1,
              "#f0f921"
             ]
            ],
            "type": "surface"
           }
          ],
          "table": [
           {
            "cells": {
             "fill": {
              "color": "#EBF0F8"
             },
             "line": {
              "color": "white"
             }
            },
            "header": {
             "fill": {
              "color": "#C8D4E3"
             },
             "line": {
              "color": "white"
             }
            },
            "type": "table"
           }
          ]
         },
         "layout": {
          "annotationdefaults": {
           "arrowcolor": "#2a3f5f",
           "arrowhead": 0,
           "arrowwidth": 1
          },
          "autotypenumbers": "strict",
          "coloraxis": {
           "colorbar": {
            "outlinewidth": 0,
            "ticks": ""
           }
          },
          "colorscale": {
           "diverging": [
            [
             0,
             "#8e0152"
            ],
            [
             0.1,
             "#c51b7d"
            ],
            [
             0.2,
             "#de77ae"
            ],
            [
             0.3,
             "#f1b6da"
            ],
            [
             0.4,
             "#fde0ef"
            ],
            [
             0.5,
             "#f7f7f7"
            ],
            [
             0.6,
             "#e6f5d0"
            ],
            [
             0.7,
             "#b8e186"
            ],
            [
             0.8,
             "#7fbc41"
            ],
            [
             0.9,
             "#4d9221"
            ],
            [
             1,
             "#276419"
            ]
           ],
           "sequential": [
            [
             0,
             "#0d0887"
            ],
            [
             0.1111111111111111,
             "#46039f"
            ],
            [
             0.2222222222222222,
             "#7201a8"
            ],
            [
             0.3333333333333333,
             "#9c179e"
            ],
            [
             0.4444444444444444,
             "#bd3786"
            ],
            [
             0.5555555555555556,
             "#d8576b"
            ],
            [
             0.6666666666666666,
             "#ed7953"
            ],
            [
             0.7777777777777778,
             "#fb9f3a"
            ],
            [
             0.8888888888888888,
             "#fdca26"
            ],
            [
             1,
             "#f0f921"
            ]
           ],
           "sequentialminus": [
            [
             0,
             "#0d0887"
            ],
            [
             0.1111111111111111,
             "#46039f"
            ],
            [
             0.2222222222222222,
             "#7201a8"
            ],
            [
             0.3333333333333333,
             "#9c179e"
            ],
            [
             0.4444444444444444,
             "#bd3786"
            ],
            [
             0.5555555555555556,
             "#d8576b"
            ],
            [
             0.6666666666666666,
             "#ed7953"
            ],
            [
             0.7777777777777778,
             "#fb9f3a"
            ],
            [
             0.8888888888888888,
             "#fdca26"
            ],
            [
             1,
             "#f0f921"
            ]
           ]
          },
          "colorway": [
           "#636efa",
           "#EF553B",
           "#00cc96",
           "#ab63fa",
           "#FFA15A",
           "#19d3f3",
           "#FF6692",
           "#B6E880",
           "#FF97FF",
           "#FECB52"
          ],
          "font": {
           "color": "#2a3f5f"
          },
          "geo": {
           "bgcolor": "white",
           "lakecolor": "white",
           "landcolor": "#E5ECF6",
           "showlakes": true,
           "showland": true,
           "subunitcolor": "white"
          },
          "hoverlabel": {
           "align": "left"
          },
          "hovermode": "closest",
          "mapbox": {
           "style": "light"
          },
          "paper_bgcolor": "white",
          "plot_bgcolor": "#E5ECF6",
          "polar": {
           "angularaxis": {
            "gridcolor": "white",
            "linecolor": "white",
            "ticks": ""
           },
           "bgcolor": "#E5ECF6",
           "radialaxis": {
            "gridcolor": "white",
            "linecolor": "white",
            "ticks": ""
           }
          },
          "scene": {
           "xaxis": {
            "backgroundcolor": "#E5ECF6",
            "gridcolor": "white",
            "gridwidth": 2,
            "linecolor": "white",
            "showbackground": true,
            "ticks": "",
            "zerolinecolor": "white"
           },
           "yaxis": {
            "backgroundcolor": "#E5ECF6",
            "gridcolor": "white",
            "gridwidth": 2,
            "linecolor": "white",
            "showbackground": true,
            "ticks": "",
            "zerolinecolor": "white"
           },
           "zaxis": {
            "backgroundcolor": "#E5ECF6",
            "gridcolor": "white",
            "gridwidth": 2,
            "linecolor": "white",
            "showbackground": true,
            "ticks": "",
            "zerolinecolor": "white"
           }
          },
          "shapedefaults": {
           "line": {
            "color": "#2a3f5f"
           }
          },
          "ternary": {
           "aaxis": {
            "gridcolor": "white",
            "linecolor": "white",
            "ticks": ""
           },
           "baxis": {
            "gridcolor": "white",
            "linecolor": "white",
            "ticks": ""
           },
           "bgcolor": "#E5ECF6",
           "caxis": {
            "gridcolor": "white",
            "linecolor": "white",
            "ticks": ""
           }
          },
          "title": {
           "x": 0.05
          },
          "xaxis": {
           "automargin": true,
           "gridcolor": "white",
           "linecolor": "white",
           "ticks": "",
           "title": {
            "standoff": 15
           },
           "zerolinecolor": "white",
           "zerolinewidth": 2
          },
          "yaxis": {
           "automargin": true,
           "gridcolor": "white",
           "linecolor": "white",
           "ticks": "",
           "title": {
            "standoff": 15
           },
           "zerolinecolor": "white",
           "zerolinewidth": 2
          }
         }
        },
        "title": {
         "text": "LINE+ : 3.6418037"
        },
        "xaxis": {
         "title": {
          "text": "Sense Features"
         }
        },
        "yaxis": {
         "title": {
          "text": "Dimensions"
         }
        }
       }
      },
      "text/html": [
       "<div>                            <div id=\"47b24c31-1b4b-4aa0-971d-d14c8f5603c0\" class=\"plotly-graph-div\" style=\"height:525px; width:100%;\"></div>            <script type=\"text/javascript\">                require([\"plotly\"], function(Plotly) {                    window.PLOTLYENV=window.PLOTLYENV || {};                                    if (document.getElementById(\"47b24c31-1b4b-4aa0-971d-d14c8f5603c0\")) {                    Plotly.newPlot(                        \"47b24c31-1b4b-4aa0-971d-d14c8f5603c0\",                        [{\"x\":[\"Degree\",\"Clustering Coefficient\",\"Personalized Page Rank - Median\",\"Personalized Page Rank - Standard Deviation\",\"Structural Holes Constraint\",\"Average Neighbor Degree\",\"EgoNet Edges\",\"Average Neighbor Clustering\",\"Node Betweenness\",\"Page Rank\",\"Eccentricity\",\"Degree Centrality\",\"Eigen Centrality\",\"Katz Centrality\"],\"z\":[[0.0,0.3749634623527527,0.0,0.0,0.0,0.0,0.0,0.0,0.0,0.0,0.0,0.0,0.0,0.0],[0.0,0.0,0.0,0.0,0.0,0.0,0.0,0.0,0.0,0.0,0.0,0.0,0.0,0.0],[0.0,0.0,0.0,0.0,0.0,0.0,0.0,0.0,0.0,0.0,0.0,0.0,0.0,0.0],[0.0,0.0,0.0,0.0,0.0,0.0,0.0,0.0,0.0,0.0,0.0,0.0,0.0,0.0],[0.0,0.0,0.0,0.0,0.0,0.0,0.0,0.0,0.0,0.0,0.0,0.0,0.0,0.0],[0.0,0.0,0.0,0.0,0.0,0.0,0.0,0.0,0.0,0.0,0.0,0.0,0.0,0.0],[0.0,0.0,0.0,0.0,0.0,0.0,0.0,0.0,0.0,0.0,0.0,0.0,0.0,0.0],[0.0,0.0,0.0,0.0,0.0,0.0,0.0,0.0,0.0,0.0,0.1005883514881134,0.0,0.0,0.0],[0.0,0.0,0.0,0.0,0.0,0.0,0.0,0.0,0.0,0.0,0.0,0.0,0.0,0.0],[0.0,0.0,0.0,0.0,0.0,0.0,0.0,0.0,0.0,0.0,0.0,0.0,0.0,0.0],[0.0,0.0,0.0,0.0,0.0,0.0,0.0,0.0,0.0,0.0,0.0,0.0,0.0,0.0],[0.0,0.0,0.0,0.0,0.0,0.0,0.0,0.0,0.0,0.0,0.07501993328332901,0.0,0.0,0.0],[0.0,0.0,0.0,0.0,0.0,0.0,0.0,0.0,0.0,0.0,0.0,0.0,0.0,0.0],[0.0,0.0,0.0,0.0,0.0,0.0,0.0,0.0,0.0,0.0,0.0,0.0,0.0,0.0],[0.0,0.0,0.0,0.0,0.0,0.0,0.0,0.0,0.0,0.0,0.0,0.0,0.0,0.0],[0.0,0.0,0.0,0.0,0.0,0.0,0.0,0.0,0.0,0.0,0.0,0.0,0.0,0.0],[0.0,0.0,0.0,0.1520131677389145,0.0,0.0,0.0,0.0,0.0,0.0,0.0,0.0,0.0,0.11263809353113174],[0.0,0.0,0.0,0.0,0.0,0.0,0.0,0.0,0.0,0.0,0.0,0.0,0.0,0.0],[0.0,0.0,0.0,0.0,0.0,0.20119039714336395,0.12041841447353363,0.0,0.0,0.0,0.0,0.0,0.0,0.025349881500005722],[0.0,0.0,0.0,0.0,0.0,0.0,0.0,0.0,0.0,0.0,0.0,0.0,0.0,0.0],[0.0,0.0,0.0,0.0,0.0,0.0,0.0,0.0,0.0,0.0,0.0,0.0,0.0,0.0],[0.0,0.0,0.0,0.0,0.0,0.0,0.0,0.0,0.0,0.0,0.0,0.0,0.0,0.0],[0.0,0.0,0.0,0.0,0.0,0.0,0.0,0.0,0.0,0.0,0.0,0.0,0.0,0.0],[0.0,0.0,0.0,0.0,0.0,0.0,0.0,0.0,0.0,0.0,0.0,0.0,0.0,0.0],[0.0,0.1439858078956604,0.0,0.0,0.0,0.3154981732368469,0.0,0.0,0.0,0.0,0.0,0.0,0.13917401432991028,0.21237045526504517],[0.0,0.0,0.0,0.0,0.0,0.0,0.0,0.0,0.0,0.0,0.0,0.0,0.0,0.0],[0.0,0.0,0.0,0.0,0.0,0.0,0.0,0.0,0.0,0.0,0.0,0.0,0.0,0.0],[0.0,0.0,0.0,0.0,0.0,0.0,0.0,0.0,0.0,0.0,0.0,0.0,0.0,0.0],[0.0,0.0,0.0,0.0,0.0,0.0,0.0,0.0,0.0,0.0,0.0,0.0,0.0,0.0],[0.0,0.0,0.0,0.0,0.0,0.0,0.0,0.0,0.0,0.0,0.0,0.0,0.0,0.0],[0.0,0.0,0.0,0.0,0.0,0.0,0.0,0.0,0.0,0.0,0.0,0.0,0.0,0.0],[0.0,0.0,0.0,0.24945013225078583,0.0,0.0,0.0,0.3094690442085266,0.0,0.0,0.0,0.0,0.0,0.0],[0.0,0.0,0.0,0.0,0.0,0.0,0.0,0.0,0.0,0.0,0.0,0.0,0.0,0.0],[0.0,0.0,0.0,0.0,0.0,0.0,0.0,0.0,0.0,0.0,0.0,0.0,0.0,0.0],[0.0,0.0,0.0,0.0,0.0,0.0,0.0,0.0,0.0,0.0,0.0,0.0,0.0,0.0],[0.0,0.0,0.0,0.0,0.0,0.0,0.0,0.0,0.0,0.0,0.0,0.0,0.0,0.0],[0.0,0.0,0.0,0.0,0.0,0.0,0.0,0.0,0.0,0.0,0.0,0.0,0.0,0.0],[0.0,0.0,0.0,0.0,0.0,0.0,0.0,0.0,0.0,0.0,0.0,0.0,0.0,0.0],[0.0,0.0,0.0,0.0,0.0,0.0,0.0,0.0,0.0,0.0,0.0,0.0,0.0,0.0],[0.0,0.0,0.0,0.0,0.0,0.0,0.0,0.0,0.0,0.0,0.0,0.0,0.0,0.0],[0.0,0.0,0.0,0.0,0.0,0.0,0.0,0.0,0.0,0.0,0.0,0.0,0.0,0.0],[0.0,0.0,0.0,0.0,0.0,0.0,0.0,0.0,0.0,0.0,0.0,0.0,0.0,0.0],[0.0,0.0,0.0,0.0,0.0,0.0,0.0,0.0,0.0,0.0,0.0,0.0,0.0,0.0],[0.0,0.0,0.0,0.0,0.0,0.0,0.0,0.0,0.08958759158849716,0.0,0.0,0.0,0.0,0.0],[0.0,0.0,0.0,0.0,0.0,0.0,0.0,0.0,0.0,0.0,0.0,0.0,0.0,0.0],[0.0,0.0,0.0,0.0,0.0,0.0,0.0,0.0,0.0,0.0,0.0,0.0,0.0,0.0],[0.0,0.0,0.0,0.0,0.0,0.0,0.0,0.0,0.0,0.0,0.0,0.0,0.0,0.0],[0.0,0.0,0.0,0.0,0.0,0.0,0.0,0.0,0.0,0.0,0.0,0.0,0.0,0.0],[0.0,0.0,0.0,0.0,0.0,0.0,0.0,0.0,0.0,0.0,0.0,0.0,0.0,0.0],[0.0,0.0,0.0,0.0,0.0,0.0,0.0,0.0,0.0,0.0,0.0,0.0,0.0,0.0],[0.0,0.0,0.0,0.0,0.0,0.0,0.0,0.0,0.0,0.0,0.0,0.0,0.0,0.0],[0.0,0.0,0.0,0.0,0.0,0.0,0.0,0.0,0.0,0.0,0.0,0.0,0.0,0.0],[0.0,0.0,0.0,0.0,0.0,0.0,0.0,0.0,0.0,0.0,0.0,0.0,0.0,0.0],[0.0,0.0,0.0,0.0,0.0,0.0,0.0,0.0,0.0,0.0,0.5017865300178528,0.0,0.0,0.0],[0.0,0.0,0.0,0.0,0.0,0.0,0.0,0.0,0.0,0.0,0.0,0.0,0.0,0.0],[0.0,0.0,0.0,0.0,0.0,0.0,0.0,0.0,0.0,0.0,0.0,0.0,0.0,0.0],[0.0,0.0,0.0,0.0,0.0,0.0,0.0,0.0,0.0,0.0,0.0,0.0,0.0,0.0],[0.0,0.0,0.0,0.0,1.0,0.0,0.0,0.0,0.0,0.0,0.0,0.0,0.0,0.0],[0.21463057398796082,0.0,0.21303687989711761,0.0,0.0,0.0,0.06209638714790344,0.17011557519435883,0.08774203807115555,0.22186815738677979,0.0,0.21463057398796082,0.07981415838003159,0.16103072464466095],[0.0,0.0,0.0,0.0,0.0,0.0,0.0,0.0,0.0,0.0,0.0,0.0,0.0,0.0],[0.0,0.0,0.0,0.0,0.0,0.0,0.0,0.0,0.0,0.0,0.0,0.0,0.0,0.0],[0.0,0.0,0.0,0.0,0.0,0.0,0.0,0.0,0.0,0.0,0.0,0.0,0.0,0.0],[0.0,0.0,0.0,0.0,0.0,0.0,0.0,0.0,0.0,0.0,0.0,0.0,0.0,0.0],[0.0,0.0,0.0,0.0,0.0,0.0,0.0,0.0,0.0,0.0,0.0,0.0,0.0,0.0]],\"type\":\"heatmap\"}],                        {\"template\":{\"data\":{\"histogram2dcontour\":[{\"type\":\"histogram2dcontour\",\"colorbar\":{\"outlinewidth\":0,\"ticks\":\"\"},\"colorscale\":[[0.0,\"#0d0887\"],[0.1111111111111111,\"#46039f\"],[0.2222222222222222,\"#7201a8\"],[0.3333333333333333,\"#9c179e\"],[0.4444444444444444,\"#bd3786\"],[0.5555555555555556,\"#d8576b\"],[0.6666666666666666,\"#ed7953\"],[0.7777777777777778,\"#fb9f3a\"],[0.8888888888888888,\"#fdca26\"],[1.0,\"#f0f921\"]]}],\"choropleth\":[{\"type\":\"choropleth\",\"colorbar\":{\"outlinewidth\":0,\"ticks\":\"\"}}],\"histogram2d\":[{\"type\":\"histogram2d\",\"colorbar\":{\"outlinewidth\":0,\"ticks\":\"\"},\"colorscale\":[[0.0,\"#0d0887\"],[0.1111111111111111,\"#46039f\"],[0.2222222222222222,\"#7201a8\"],[0.3333333333333333,\"#9c179e\"],[0.4444444444444444,\"#bd3786\"],[0.5555555555555556,\"#d8576b\"],[0.6666666666666666,\"#ed7953\"],[0.7777777777777778,\"#fb9f3a\"],[0.8888888888888888,\"#fdca26\"],[1.0,\"#f0f921\"]]}],\"heatmap\":[{\"type\":\"heatmap\",\"colorbar\":{\"outlinewidth\":0,\"ticks\":\"\"},\"colorscale\":[[0.0,\"#0d0887\"],[0.1111111111111111,\"#46039f\"],[0.2222222222222222,\"#7201a8\"],[0.3333333333333333,\"#9c179e\"],[0.4444444444444444,\"#bd3786\"],[0.5555555555555556,\"#d8576b\"],[0.6666666666666666,\"#ed7953\"],[0.7777777777777778,\"#fb9f3a\"],[0.8888888888888888,\"#fdca26\"],[1.0,\"#f0f921\"]]}],\"heatmapgl\":[{\"type\":\"heatmapgl\",\"colorbar\":{\"outlinewidth\":0,\"ticks\":\"\"},\"colorscale\":[[0.0,\"#0d0887\"],[0.1111111111111111,\"#46039f\"],[0.2222222222222222,\"#7201a8\"],[0.3333333333333333,\"#9c179e\"],[0.4444444444444444,\"#bd3786\"],[0.5555555555555556,\"#d8576b\"],[0.6666666666666666,\"#ed7953\"],[0.7777777777777778,\"#fb9f3a\"],[0.8888888888888888,\"#fdca26\"],[1.0,\"#f0f921\"]]}],\"contourcarpet\":[{\"type\":\"contourcarpet\",\"colorbar\":{\"outlinewidth\":0,\"ticks\":\"\"}}],\"contour\":[{\"type\":\"contour\",\"colorbar\":{\"outlinewidth\":0,\"ticks\":\"\"},\"colorscale\":[[0.0,\"#0d0887\"],[0.1111111111111111,\"#46039f\"],[0.2222222222222222,\"#7201a8\"],[0.3333333333333333,\"#9c179e\"],[0.4444444444444444,\"#bd3786\"],[0.5555555555555556,\"#d8576b\"],[0.6666666666666666,\"#ed7953\"],[0.7777777777777778,\"#fb9f3a\"],[0.8888888888888888,\"#fdca26\"],[1.0,\"#f0f921\"]]}],\"surface\":[{\"type\":\"surface\",\"colorbar\":{\"outlinewidth\":0,\"ticks\":\"\"},\"colorscale\":[[0.0,\"#0d0887\"],[0.1111111111111111,\"#46039f\"],[0.2222222222222222,\"#7201a8\"],[0.3333333333333333,\"#9c179e\"],[0.4444444444444444,\"#bd3786\"],[0.5555555555555556,\"#d8576b\"],[0.6666666666666666,\"#ed7953\"],[0.7777777777777778,\"#fb9f3a\"],[0.8888888888888888,\"#fdca26\"],[1.0,\"#f0f921\"]]}],\"mesh3d\":[{\"type\":\"mesh3d\",\"colorbar\":{\"outlinewidth\":0,\"ticks\":\"\"}}],\"scatter\":[{\"fillpattern\":{\"fillmode\":\"overlay\",\"size\":10,\"solidity\":0.2},\"type\":\"scatter\"}],\"parcoords\":[{\"type\":\"parcoords\",\"line\":{\"colorbar\":{\"outlinewidth\":0,\"ticks\":\"\"}}}],\"scatterpolargl\":[{\"type\":\"scatterpolargl\",\"marker\":{\"colorbar\":{\"outlinewidth\":0,\"ticks\":\"\"}}}],\"bar\":[{\"error_x\":{\"color\":\"#2a3f5f\"},\"error_y\":{\"color\":\"#2a3f5f\"},\"marker\":{\"line\":{\"color\":\"#E5ECF6\",\"width\":0.5},\"pattern\":{\"fillmode\":\"overlay\",\"size\":10,\"solidity\":0.2}},\"type\":\"bar\"}],\"scattergeo\":[{\"type\":\"scattergeo\",\"marker\":{\"colorbar\":{\"outlinewidth\":0,\"ticks\":\"\"}}}],\"scatterpolar\":[{\"type\":\"scatterpolar\",\"marker\":{\"colorbar\":{\"outlinewidth\":0,\"ticks\":\"\"}}}],\"histogram\":[{\"marker\":{\"pattern\":{\"fillmode\":\"overlay\",\"size\":10,\"solidity\":0.2}},\"type\":\"histogram\"}],\"scattergl\":[{\"type\":\"scattergl\",\"marker\":{\"colorbar\":{\"outlinewidth\":0,\"ticks\":\"\"}}}],\"scatter3d\":[{\"type\":\"scatter3d\",\"line\":{\"colorbar\":{\"outlinewidth\":0,\"ticks\":\"\"}},\"marker\":{\"colorbar\":{\"outlinewidth\":0,\"ticks\":\"\"}}}],\"scattermapbox\":[{\"type\":\"scattermapbox\",\"marker\":{\"colorbar\":{\"outlinewidth\":0,\"ticks\":\"\"}}}],\"scatterternary\":[{\"type\":\"scatterternary\",\"marker\":{\"colorbar\":{\"outlinewidth\":0,\"ticks\":\"\"}}}],\"scattercarpet\":[{\"type\":\"scattercarpet\",\"marker\":{\"colorbar\":{\"outlinewidth\":0,\"ticks\":\"\"}}}],\"carpet\":[{\"aaxis\":{\"endlinecolor\":\"#2a3f5f\",\"gridcolor\":\"white\",\"linecolor\":\"white\",\"minorgridcolor\":\"white\",\"startlinecolor\":\"#2a3f5f\"},\"baxis\":{\"endlinecolor\":\"#2a3f5f\",\"gridcolor\":\"white\",\"linecolor\":\"white\",\"minorgridcolor\":\"white\",\"startlinecolor\":\"#2a3f5f\"},\"type\":\"carpet\"}],\"table\":[{\"cells\":{\"fill\":{\"color\":\"#EBF0F8\"},\"line\":{\"color\":\"white\"}},\"header\":{\"fill\":{\"color\":\"#C8D4E3\"},\"line\":{\"color\":\"white\"}},\"type\":\"table\"}],\"barpolar\":[{\"marker\":{\"line\":{\"color\":\"#E5ECF6\",\"width\":0.5},\"pattern\":{\"fillmode\":\"overlay\",\"size\":10,\"solidity\":0.2}},\"type\":\"barpolar\"}],\"pie\":[{\"automargin\":true,\"type\":\"pie\"}]},\"layout\":{\"autotypenumbers\":\"strict\",\"colorway\":[\"#636efa\",\"#EF553B\",\"#00cc96\",\"#ab63fa\",\"#FFA15A\",\"#19d3f3\",\"#FF6692\",\"#B6E880\",\"#FF97FF\",\"#FECB52\"],\"font\":{\"color\":\"#2a3f5f\"},\"hovermode\":\"closest\",\"hoverlabel\":{\"align\":\"left\"},\"paper_bgcolor\":\"white\",\"plot_bgcolor\":\"#E5ECF6\",\"polar\":{\"bgcolor\":\"#E5ECF6\",\"angularaxis\":{\"gridcolor\":\"white\",\"linecolor\":\"white\",\"ticks\":\"\"},\"radialaxis\":{\"gridcolor\":\"white\",\"linecolor\":\"white\",\"ticks\":\"\"}},\"ternary\":{\"bgcolor\":\"#E5ECF6\",\"aaxis\":{\"gridcolor\":\"white\",\"linecolor\":\"white\",\"ticks\":\"\"},\"baxis\":{\"gridcolor\":\"white\",\"linecolor\":\"white\",\"ticks\":\"\"},\"caxis\":{\"gridcolor\":\"white\",\"linecolor\":\"white\",\"ticks\":\"\"}},\"coloraxis\":{\"colorbar\":{\"outlinewidth\":0,\"ticks\":\"\"}},\"colorscale\":{\"sequential\":[[0.0,\"#0d0887\"],[0.1111111111111111,\"#46039f\"],[0.2222222222222222,\"#7201a8\"],[0.3333333333333333,\"#9c179e\"],[0.4444444444444444,\"#bd3786\"],[0.5555555555555556,\"#d8576b\"],[0.6666666666666666,\"#ed7953\"],[0.7777777777777778,\"#fb9f3a\"],[0.8888888888888888,\"#fdca26\"],[1.0,\"#f0f921\"]],\"sequentialminus\":[[0.0,\"#0d0887\"],[0.1111111111111111,\"#46039f\"],[0.2222222222222222,\"#7201a8\"],[0.3333333333333333,\"#9c179e\"],[0.4444444444444444,\"#bd3786\"],[0.5555555555555556,\"#d8576b\"],[0.6666666666666666,\"#ed7953\"],[0.7777777777777778,\"#fb9f3a\"],[0.8888888888888888,\"#fdca26\"],[1.0,\"#f0f921\"]],\"diverging\":[[0,\"#8e0152\"],[0.1,\"#c51b7d\"],[0.2,\"#de77ae\"],[0.3,\"#f1b6da\"],[0.4,\"#fde0ef\"],[0.5,\"#f7f7f7\"],[0.6,\"#e6f5d0\"],[0.7,\"#b8e186\"],[0.8,\"#7fbc41\"],[0.9,\"#4d9221\"],[1,\"#276419\"]]},\"xaxis\":{\"gridcolor\":\"white\",\"linecolor\":\"white\",\"ticks\":\"\",\"title\":{\"standoff\":15},\"zerolinecolor\":\"white\",\"automargin\":true,\"zerolinewidth\":2},\"yaxis\":{\"gridcolor\":\"white\",\"linecolor\":\"white\",\"ticks\":\"\",\"title\":{\"standoff\":15},\"zerolinecolor\":\"white\",\"automargin\":true,\"zerolinewidth\":2},\"scene\":{\"xaxis\":{\"backgroundcolor\":\"#E5ECF6\",\"gridcolor\":\"white\",\"linecolor\":\"white\",\"showbackground\":true,\"ticks\":\"\",\"zerolinecolor\":\"white\",\"gridwidth\":2},\"yaxis\":{\"backgroundcolor\":\"#E5ECF6\",\"gridcolor\":\"white\",\"linecolor\":\"white\",\"showbackground\":true,\"ticks\":\"\",\"zerolinecolor\":\"white\",\"gridwidth\":2},\"zaxis\":{\"backgroundcolor\":\"#E5ECF6\",\"gridcolor\":\"white\",\"linecolor\":\"white\",\"showbackground\":true,\"ticks\":\"\",\"zerolinecolor\":\"white\",\"gridwidth\":2}},\"shapedefaults\":{\"line\":{\"color\":\"#2a3f5f\"}},\"annotationdefaults\":{\"arrowcolor\":\"#2a3f5f\",\"arrowhead\":0,\"arrowwidth\":1},\"geo\":{\"bgcolor\":\"white\",\"landcolor\":\"#E5ECF6\",\"subunitcolor\":\"white\",\"showland\":true,\"showlakes\":true,\"lakecolor\":\"white\"},\"title\":{\"x\":0.05},\"mapbox\":{\"style\":\"light\"}}},\"title\":{\"text\":\"LINE+ : 3.6418037\"},\"xaxis\":{\"title\":{\"text\":\"Sense Features\"}},\"yaxis\":{\"title\":{\"text\":\"Dimensions\"}}},                        {\"responsive\": true}                    ).then(function(){\n",
       "                            \n",
       "var gd = document.getElementById('47b24c31-1b4b-4aa0-971d-d14c8f5603c0');\n",
       "var x = new MutationObserver(function (mutations, observer) {{\n",
       "        var display = window.getComputedStyle(gd).display;\n",
       "        if (!display || display === 'none') {{\n",
       "            console.log([gd, 'removed!']);\n",
       "            Plotly.purge(gd);\n",
       "            observer.disconnect();\n",
       "        }}\n",
       "}});\n",
       "\n",
       "// Listen for the removal of the full notebook cells\n",
       "var notebookContainer = gd.closest('#notebook-container');\n",
       "if (notebookContainer) {{\n",
       "    x.observe(notebookContainer, {childList: true});\n",
       "}}\n",
       "\n",
       "// Listen for the clearing of the current output cell\n",
       "var outputEl = gd.closest('.output');\n",
       "if (outputEl) {{\n",
       "    x.observe(outputEl, {childList: true});\n",
       "}}\n",
       "\n",
       "                        })                };                });            </script>        </div>"
      ]
     },
     "metadata": {},
     "output_type": "display_data"
    }
   ],
   "source": [
    "fig = go.Figure()\n",
    "fig.add_trace(go.Heatmap(z = explain_og,\n",
    "                         x = list(sense_feat_dict), \n",
    "                         ))\n",
    "fig.update_layout(title_text = 'LINE : ' + str(np.linalg.norm(explain_og, ord = 'nuc')), \n",
    "                  xaxis_title_text = 'Sense Features', \n",
    "                  yaxis_title_text = 'Dimensions')\n",
    "\n",
    "fig.show()\n",
    "\n",
    "fig = go.Figure()\n",
    "fig.add_trace(go.Heatmap(z = explain_plus_init,\n",
    "                         x = list(sense_feat_dict), \n",
    "                         ))\n",
    "fig.update_layout(title_text = 'LINE+ : ' + str(np.linalg.norm(explain_plus_init, ord = 'nuc')), \n",
    "                  xaxis_title_text = 'Sense Features', \n",
    "                  yaxis_title_text = 'Dimensions')\n",
    "\n",
    "fig.show()"
   ]
  },
  {
   "cell_type": "code",
   "execution_count": null,
   "id": "ec3910b6",
   "metadata": {},
   "outputs": [],
   "source": []
  }
 ],
 "metadata": {
  "kernelspec": {
   "display_name": "Python 3 (ipykernel)",
   "language": "python",
   "name": "python3"
  },
  "language_info": {
   "codemirror_mode": {
    "name": "ipython",
    "version": 3
   },
   "file_extension": ".py",
   "mimetype": "text/x-python",
   "name": "python",
   "nbconvert_exporter": "python",
   "pygments_lexer": "ipython3",
   "version": "3.10.6"
  },
  "toc": {
   "base_numbering": 1,
   "nav_menu": {},
   "number_sections": true,
   "sideBar": true,
   "skip_h1_title": false,
   "title_cell": "Table of Contents",
   "title_sidebar": "Contents",
   "toc_cell": false,
   "toc_position": {},
   "toc_section_display": true,
   "toc_window_display": false
  }
 },
 "nbformat": 4,
 "nbformat_minor": 5
}
