{
 "cells": [
  {
   "cell_type": "markdown",
   "id": "23b6d2d8",
   "metadata": {},
   "source": [
    "### Imports"
   ]
  },
  {
   "cell_type": "code",
   "execution_count": 9,
   "id": "73ad4fb8",
   "metadata": {},
   "outputs": [],
   "source": [
    "import numpy as np\n",
    "import scipy.sparse as sp\n",
    "import torch\n",
    "import torch.nn as nn\n",
    "import pickle as pkl\n",
    "import networkx as nx\n",
    "\n",
    "from tqdm import tqdm\n",
    "from DGI.models import DGI, LogReg\n",
    "from DGI.utils import process\n",
    "from tensorflow.keras.optimizers import Adam, Nadam\n",
    "\n",
    "from scripts.utils import *"
   ]
  },
  {
   "cell_type": "markdown",
   "id": "af9a0e8c",
   "metadata": {},
   "source": [
    "### Class Definitions"
   ]
  },
  {
   "cell_type": "code",
   "execution_count": 4,
   "id": "29f1339c",
   "metadata": {},
   "outputs": [],
   "source": [
    "class BaseEmbedder:\n",
    "    def __init__(self, graph, embed_shape = (128,)):\n",
    "        self.embed(graph)\n",
    "        self.E = list(graph.edges())\n",
    "        self.graph = graph\n",
    "        self.embed_shape = embed_shape\n",
    "    \n",
    "    def embed(self, graph):\n",
    "        raise NotImplementedError\n",
    "    \n",
    "    def get_embedding(self):\n",
    "        raise NotImplementedError\n",
    "        "
   ]
  },
  {
   "cell_type": "code",
   "execution_count": 158,
   "id": "f5e40e50",
   "metadata": {},
   "outputs": [],
   "source": [
    "class DGIEmbedding(BaseEmbedder):\n",
    "    def __init__(self, embed_dim = 64, graph = None, feature_matrix = None, use_xm = False, debug = False, batch_size = 1, nb_epochs = 2500, patience = 20, ortho_ = 0.1, sparse_ = 0.1, lr = 1e-3, l2_coef = 0.0, drop_prob = 0.0, sparse = True, nonlinearity = 'prelu'):\n",
    "\n",
    "        self.embed_dim = embed_dim\n",
    "        self.debug = debug\n",
    "        \n",
    "        # Training Params\n",
    "        self.graph = graph\n",
    "        self.batch_size = batch_size\n",
    "        self.nb_epochs = nb_epochs\n",
    "        self.patience = patience\n",
    "        self.lr = lr\n",
    "        self.l2_coef = l2_coef\n",
    "        self.feature_matrix = feature_matrix\n",
    "        self.drop_prob = drop_prob\n",
    "        self.hid_units = embed_dim\n",
    "        self.sparse = sparse\n",
    "        self.nonlinearity = nonlinearity\n",
    "        self.use_xm = use_xm\n",
    "        self.ortho_ = ortho_\n",
    "        self.sparse_ = sparse_\n",
    "        \n",
    "        self.time_per_epoch = None\n",
    "        \n",
    "        if graph is not None:\n",
    "            self.embed()\n",
    "        else:\n",
    "            self.graph = None\n",
    "    \n",
    "    def embed(self):\n",
    "\n",
    "        \n",
    "        if self.feature_matrix is None:\n",
    "            feature_matrix = np.identity(len(self.graph))\n",
    "        else: \n",
    "            feature_matrix = self.feature_matrix\n",
    "\n",
    "        adj = nx.to_scipy_sparse_array(self.graph)\n",
    "        features = sp.lil_matrix(feature_matrix)\n",
    "        features, _ = process.preprocess_features(features)\n",
    "\n",
    "        nb_nodes = features.shape[0]\n",
    "        ft_size = features.shape[1]\n",
    "\n",
    "        adj = process.normalize_adj(adj + sp.eye(adj.shape[0]))\n",
    "\n",
    "        if self.sparse:\n",
    "            sp_adj = process.sparse_mx_to_torch_sparse_tensor(adj)\n",
    "        else:\n",
    "            adj = (adj + sp.eye(adj.shape[0])).todense()\n",
    "\n",
    "        features = torch.FloatTensor(features[np.newaxis])\n",
    "        if not self.sparse:\n",
    "            adj = torch.FloatTensor(adj[np.newaxis])\n",
    "\n",
    "        if self.feature_matrix is not None: \n",
    "            sense_features = torch.FloatTensor(self.feature_matrix)\n",
    "\n",
    "\n",
    "        model = DGI(ft_size, self.hid_units, self.nonlinearity)\n",
    "        optimiser = torch.optim.Adam(model.parameters(), lr = self.lr, weight_decay = self.l2_coef)\n",
    "\n",
    "        b_xent = nn.BCEWithLogitsLoss()\n",
    "        xent = nn.CrossEntropyLoss()\n",
    "        cnt_wait = 0\n",
    "        best = 1e9\n",
    "        best_t = 0\n",
    "        \n",
    "        start_time = time.time()\n",
    "        for epoch in tqdm(range(self.nb_epochs)):\n",
    "            model.train()\n",
    "            optimiser.zero_grad()\n",
    "\n",
    "            idx = np.random.permutation(nb_nodes)\n",
    "            shuf_fts = features[:, idx, :]\n",
    "\n",
    "            lbl_1 = torch.ones(self.batch_size, nb_nodes)\n",
    "            lbl_2 = torch.zeros(self.batch_size, nb_nodes)\n",
    "            lbl = torch.cat((lbl_1, lbl_2), 1)\n",
    "\n",
    "            if torch.cuda.is_available():\n",
    "                shuf_fts = shuf_fts.cuda()\n",
    "                lbl = lbl.cuda()\n",
    "\n",
    "            logits = model(features, shuf_fts, sp_adj if self.sparse else adj, self.sparse, None, None, None) \n",
    "            \n",
    "            if self.use_xm == True and feature_matrix is not None:\n",
    "                \n",
    "                sf = sense_features\n",
    "                embeds, _ = model.embed(sf, sp_adj if self.sparse else adj, self.sparse, None)\n",
    "                embeds = torch.squeeze(embeds)\n",
    "                sense_mat = torch.einsum('ij, ik -> ijk', embeds, sf)\n",
    "                E = sense_mat\n",
    "                y_norm = torch.diagonal(torch.matmul(logits, torch.transpose(logits, 0, 1)))\n",
    "                sense_norm = torch.diagonal(torch.matmul(sf, torch.transpose(sf, 0, 1)))\n",
    "                norm = torch.multiply(y_norm, sense_norm)\n",
    "                E = torch.transpose(torch.transpose(E, 0, 2) / norm, 0, 2)\n",
    "                \n",
    "                E_t = torch.transpose(E, 1, 2)\n",
    "                E_o = torch.einsum('aij, ajh -> aih', E, E_t)\n",
    "                E_o = torch.sum(E_o)\n",
    "                ortho_loss = (self.ortho_ * E_o) / self.batch_size\n",
    "                \n",
    "                sparse_loss = (self.sparse_ * torch.sum(torch.linalg.norm(E, ord = 1, axis = 0))) / self.batch_size\n",
    "        \n",
    "                loss = b_xent(logits, lbl) + ortho_loss + sparse_loss\n",
    "            else:\n",
    "                loss = b_xent(logits, lbl)\n",
    "\n",
    "            if self.debug:\n",
    "                print('Loss:', loss)\n",
    "\n",
    "            if loss < best:\n",
    "                best = loss\n",
    "                best_t = epoch\n",
    "                cnt_wait = 0\n",
    "                torch.save(model.state_dict(), 'best_dgi.pkl')\n",
    "            else:\n",
    "                cnt_wait += 1\n",
    "\n",
    "            if cnt_wait == self.patience:\n",
    "                if self.debug: \n",
    "                    print('Early stopping!')\n",
    "                break\n",
    "\n",
    "            loss.backward()\n",
    "            optimiser.step()\n",
    "            \n",
    "        self.time_per_epoch = (time.time() - start_time) / epoch\n",
    "\n",
    "        if self.debug: \n",
    "            print('Loading {}th epoch'.format(best_t))\n",
    "        model.load_state_dict(torch.load('best_dgi.pkl'))\n",
    "\n",
    "        self.node_model = model\n",
    "        self.fitted = True\n",
    "\n",
    "        embeds, _ = model.embed(features, sp_adj if self.sparse else adj, self.sparse, None)\n",
    "        self.embeddings = embeds\n",
    "    \n",
    "    def get_embedding(self):\n",
    "        return np.squeeze(self.embeddings.numpy())\n",
    "    "
   ]
  },
  {
   "cell_type": "code",
   "execution_count": 125,
   "id": "cf5a7802",
   "metadata": {},
   "outputs": [],
   "source": [
    "with open('./data/usa_airport.pkl', 'rb') as file: \n",
    "    graph_dict = pkl.load(file)\n",
    "    \n",
    "graph = nx.Graph(nx.to_numpy_array(graph_dict['graph']))"
   ]
  },
  {
   "cell_type": "code",
   "execution_count": 126,
   "id": "cbea3c2d",
   "metadata": {},
   "outputs": [
    {
     "name": "stdout",
     "output_type": "stream",
     "text": [
      "Calculating Degrees...                                   \r",
      "Calculating Average Neighbor Degree...                    \r",
      "Calculating Clustering Coefficient...                     \r",
      "Calculating Average Neighbor Clustering Coefficients...   \r",
      "Calculating Eccentricity...                               \r",
      "Calculating Page Rank...                                  \r",
      "Calculating Personalized Page Rank...                     \r"
     ]
    },
    {
     "name": "stderr",
     "output_type": "stream",
     "text": [
      "1186it [00:33, 34.94it/s]\n"
     ]
    },
    {
     "name": "stdout",
     "output_type": "stream",
     "text": [
      "Done                                                      \r"
     ]
    },
    {
     "name": "stderr",
     "output_type": "stream",
     "text": [
      "/Users/zohairshafi/miniforge3/lib/python3.10/site-packages/networkx/algorithms/centrality/katz.py:325: FutureWarning:\n",
      "\n",
      "adjacency_matrix will return a scipy.sparse array instead of a matrix in Networkx 3.0.\n",
      "\n"
     ]
    }
   ],
   "source": [
    "sense_feat_dict, sense_features = get_sense_features(graph, ppr_flag = 'std')\n",
    "\n",
    "uncorrelated_feats = ['Degree',\n",
    "                    'Clustering Coefficient',\n",
    "                    'Personalized Page Rank - Standard Deviation',\n",
    "                    'Average Neighbor Degree',\n",
    "                    'Average Neighbor Clustering',\n",
    "                    'Eccentricity',\n",
    "                    'Katz Centrality']\n",
    "sense_features = sense_features[:, [list(sense_feat_dict).index(feat) for feat in uncorrelated_feats]]\n",
    "sense_feat_dict = {feat : idx for idx, feat in enumerate(uncorrelated_feats)}"
   ]
  },
  {
   "cell_type": "code",
   "execution_count": 159,
   "id": "50727166",
   "metadata": {
    "scrolled": true
   },
   "outputs": [
    {
     "name": "stderr",
     "output_type": "stream",
     "text": [
      " 16%|██████▏                                | 393/2500 [00:02<00:15, 134.06it/s]\n",
      " 23%|████████▊                              | 568/2500 [00:05<00:18, 104.80it/s]\n",
      "100%|███████████████████████████████████████| 2500/2500 [01:00<00:00, 41.64it/s]\n"
     ]
    }
   ],
   "source": [
    "dgi_og = DGIEmbedding(graph = graph, \n",
    "                   embed_dim = 32, \n",
    "                   feature_matrix = sense_features, \n",
    "                   use_xm = False, \n",
    "                   ortho_ = 0, \n",
    "                   sparse_ = 0, \n",
    "                   batch_size = 1)\n",
    "\n",
    "dgi_id = DGIEmbedding(graph = graph, \n",
    "                   embed_dim = 32, \n",
    "                   feature_matrix = np.identity(len(graph)), \n",
    "                   use_xm = False, \n",
    "                   ortho_ = 0, \n",
    "                   sparse_ = 0, \n",
    "                   batch_size = 1)\n",
    "\n",
    "dgi_plus = DGIEmbedding(graph = graph, \n",
    "                   embed_dim = 32, \n",
    "                   feature_matrix = sense_features, \n",
    "                   use_xm = True, \n",
    "                   ortho_ = 100, \n",
    "                   sparse_ = 100,\n",
    "                   lr = 1e-3,\n",
    "                   batch_size = 1)\n",
    "\n"
   ]
  },
  {
   "cell_type": "code",
   "execution_count": null,
   "id": "8f1f9676",
   "metadata": {},
   "outputs": [],
   "source": []
  },
  {
   "cell_type": "code",
   "execution_count": 147,
   "id": "e9733aab",
   "metadata": {},
   "outputs": [],
   "source": [
    "embed_og = dgi_og.get_embedding()\n",
    "embed_og = (embed_og - np.min(embed_og)) / np.ptp(embed_og)\n",
    "feature_dict_og = find_feature_membership(input_embed = embed_og,\n",
    "                                                    embed_name = 'DGI',\n",
    "                                                    sense_features = sense_features,\n",
    "                                                    sense_feat_dict = sense_feat_dict,\n",
    "                                                    top_k = 8,\n",
    "                                                    solver = 'nmf')\n",
    "\n",
    "explain_og = feature_dict_og['explain_norm']\n",
    "explain_og = (explain_og - np.min(explain_og)) / np.ptp(explain_og)\n",
    "\n",
    "embed_id = dgi_id.get_embedding()\n",
    "embed_id = (embed_id - np.min(embed_id)) / np.ptp(embed_id)\n",
    "feature_dict_id = find_feature_membership(input_embed = embed_id,\n",
    "                                                    embed_name = 'DGI',\n",
    "                                                    sense_features = sense_features,\n",
    "                                                    sense_feat_dict = sense_feat_dict,\n",
    "                                                    top_k = 8,\n",
    "                                                    solver = 'nmf')\n",
    "\n",
    "explain_id = feature_dict_id['explain_norm']\n",
    "explain_id = (explain_id - np.min(explain_id)) / np.ptp(explain_id)\n",
    "\n",
    "embed_plus = dgi_plus.get_embedding()\n",
    "embed_plus = (embed_plus - np.min(embed_plus)) / np.ptp(embed_plus)\n",
    "feature_dict_plus = find_feature_membership(input_embed = embed_plus,\n",
    "                                                    embed_name = 'DGI+',\n",
    "                                                    sense_features = sense_features,\n",
    "                                                    sense_feat_dict = sense_feat_dict,\n",
    "                                                    top_k = 8,\n",
    "                                                    solver = 'nmf')\n",
    "\n",
    "explain_plus = feature_dict_plus['explain_norm']\n",
    "explain_plus = (explain_plus - np.min(explain_plus)) / np.ptp(explain_plus)\n",
    "\n"
   ]
  },
  {
   "cell_type": "code",
   "execution_count": 148,
   "id": "93142dc1",
   "metadata": {},
   "outputs": [
    {
     "data": {
      "application/vnd.plotly.v1+json": {
       "config": {
        "plotlyServerURL": "https://plot.ly"
       },
       "data": [
        {
         "type": "heatmap",
         "x": [
          "Degree",
          "Clustering Coefficient",
          "Personalized Page Rank - Standard Deviation",
          "Average Neighbor Degree",
          "Average Neighbor Clustering",
          "Eccentricity",
          "Katz Centrality"
         ],
         "z": [
          [
           0,
           0,
           0.1807693988084793,
           0,
           0,
           0,
           0
          ],
          [
           0,
           0,
           1,
           0,
           0,
           0,
           0
          ],
          [
           0,
           0,
           0,
           0,
           0,
           0.04812934249639511,
           0
          ],
          [
           0,
           0,
           0.4956996440887451,
           0,
           0,
           0,
           0
          ],
          [
           0,
           0,
           0.5437980890274048,
           0,
           0,
           0,
           0
          ],
          [
           0,
           0.08313076198101044,
           0,
           0,
           0.02894183248281479,
           0,
           0
          ],
          [
           0,
           0,
           0,
           0.22038370370864868,
           0,
           0.13831882178783417,
           0.11248593777418137
          ],
          [
           0,
           0,
           0,
           0,
           0.009163140319287777,
           0,
           0.06656698882579803
          ],
          [
           0,
           0,
           0.24131779372692108,
           0,
           0,
           0,
           0
          ],
          [
           0,
           0,
           0.024532660841941833,
           0,
           0,
           0,
           0
          ],
          [
           0.3240538537502289,
           0,
           0,
           0,
           0.03911915048956871,
           0,
           0
          ],
          [
           0,
           0,
           0,
           0,
           0.00951338466256857,
           0.02675137296319008,
           0
          ],
          [
           0,
           0,
           0.4495175778865814,
           0,
           0,
           0,
           0
          ],
          [
           0,
           0.03269787132740021,
           0,
           0.07517290860414505,
           0.1379973292350769,
           0.12078592926263809,
           0.05063443258404732
          ],
          [
           0.6896775960922241,
           0,
           0,
           0,
           0.013594232499599457,
           0,
           0
          ],
          [
           0,
           0,
           0.13575653731822968,
           0,
           0,
           0.012863394804298878,
           0
          ],
          [
           0,
           0.05000364035367966,
           0,
           0.1185317412018776,
           0.0649186223745346,
           0,
           0.06432081758975983
          ],
          [
           0,
           0,
           0,
           0,
           0,
           0.04048113152384758,
           0
          ],
          [
           0,
           0.06359732896089554,
           0,
           0.12558983266353607,
           0,
           0.007856684736907482,
           0.08181213587522507
          ],
          [
           0,
           0.009155495092272758,
           0,
           0,
           0.054945796728134155,
           0,
           0
          ],
          [
           0,
           0,
           0.40836405754089355,
           0,
           0,
           0,
           0
          ],
          [
           0,
           0.2219764143228531,
           0,
           0.2213463932275772,
           0.151948481798172,
           0.15026475489139557,
           0.16643978655338287
          ],
          [
           0,
           0,
           0,
           0,
           0,
           0,
           0
          ],
          [
           0,
           0.13345810770988464,
           0,
           0,
           0.041762255132198334,
           0,
           0.14625729620456696
          ],
          [
           0,
           0,
           0.07726451009511948,
           0,
           0,
           0,
           0
          ],
          [
           0,
           0.06020117178559303,
           0.06657074391841888,
           0,
           0.02418261580169201,
           0.04685743898153305,
           0.04591800272464752
          ],
          [
           0,
           0.057671383023262024,
           0,
           0,
           0.11280426383018494,
           0.0372454971075058,
           0.07085292786359787
          ],
          [
           0,
           0.14400985836982727,
           0,
           0.1906517893075943,
           0.1749330759048462,
           0.24510248005390167,
           0.11869353801012039
          ],
          [
           0,
           0.027570921927690506,
           0,
           0,
           0.031226275488734245,
           0.20919780433177948,
           0.1060328558087349
          ],
          [
           0,
           0.1388753354549408,
           0,
           0.07896208763122559,
           0.18198618292808533,
           0.035264138132333755,
           0.07940926402807236
          ],
          [
           0,
           0,
           0.2434619814157486,
           0,
           0,
           0,
           0
          ],
          [
           0,
           0,
           0.9783371090888977,
           0,
           0,
           0,
           0
          ]
         ]
        }
       ],
       "layout": {
        "template": {
         "data": {
          "bar": [
           {
            "error_x": {
             "color": "#2a3f5f"
            },
            "error_y": {
             "color": "#2a3f5f"
            },
            "marker": {
             "line": {
              "color": "#E5ECF6",
              "width": 0.5
             },
             "pattern": {
              "fillmode": "overlay",
              "size": 10,
              "solidity": 0.2
             }
            },
            "type": "bar"
           }
          ],
          "barpolar": [
           {
            "marker": {
             "line": {
              "color": "#E5ECF6",
              "width": 0.5
             },
             "pattern": {
              "fillmode": "overlay",
              "size": 10,
              "solidity": 0.2
             }
            },
            "type": "barpolar"
           }
          ],
          "carpet": [
           {
            "aaxis": {
             "endlinecolor": "#2a3f5f",
             "gridcolor": "white",
             "linecolor": "white",
             "minorgridcolor": "white",
             "startlinecolor": "#2a3f5f"
            },
            "baxis": {
             "endlinecolor": "#2a3f5f",
             "gridcolor": "white",
             "linecolor": "white",
             "minorgridcolor": "white",
             "startlinecolor": "#2a3f5f"
            },
            "type": "carpet"
           }
          ],
          "choropleth": [
           {
            "colorbar": {
             "outlinewidth": 0,
             "ticks": ""
            },
            "type": "choropleth"
           }
          ],
          "contour": [
           {
            "colorbar": {
             "outlinewidth": 0,
             "ticks": ""
            },
            "colorscale": [
             [
              0,
              "#0d0887"
             ],
             [
              0.1111111111111111,
              "#46039f"
             ],
             [
              0.2222222222222222,
              "#7201a8"
             ],
             [
              0.3333333333333333,
              "#9c179e"
             ],
             [
              0.4444444444444444,
              "#bd3786"
             ],
             [
              0.5555555555555556,
              "#d8576b"
             ],
             [
              0.6666666666666666,
              "#ed7953"
             ],
             [
              0.7777777777777778,
              "#fb9f3a"
             ],
             [
              0.8888888888888888,
              "#fdca26"
             ],
             [
              1,
              "#f0f921"
             ]
            ],
            "type": "contour"
           }
          ],
          "contourcarpet": [
           {
            "colorbar": {
             "outlinewidth": 0,
             "ticks": ""
            },
            "type": "contourcarpet"
           }
          ],
          "heatmap": [
           {
            "colorbar": {
             "outlinewidth": 0,
             "ticks": ""
            },
            "colorscale": [
             [
              0,
              "#0d0887"
             ],
             [
              0.1111111111111111,
              "#46039f"
             ],
             [
              0.2222222222222222,
              "#7201a8"
             ],
             [
              0.3333333333333333,
              "#9c179e"
             ],
             [
              0.4444444444444444,
              "#bd3786"
             ],
             [
              0.5555555555555556,
              "#d8576b"
             ],
             [
              0.6666666666666666,
              "#ed7953"
             ],
             [
              0.7777777777777778,
              "#fb9f3a"
             ],
             [
              0.8888888888888888,
              "#fdca26"
             ],
             [
              1,
              "#f0f921"
             ]
            ],
            "type": "heatmap"
           }
          ],
          "heatmapgl": [
           {
            "colorbar": {
             "outlinewidth": 0,
             "ticks": ""
            },
            "colorscale": [
             [
              0,
              "#0d0887"
             ],
             [
              0.1111111111111111,
              "#46039f"
             ],
             [
              0.2222222222222222,
              "#7201a8"
             ],
             [
              0.3333333333333333,
              "#9c179e"
             ],
             [
              0.4444444444444444,
              "#bd3786"
             ],
             [
              0.5555555555555556,
              "#d8576b"
             ],
             [
              0.6666666666666666,
              "#ed7953"
             ],
             [
              0.7777777777777778,
              "#fb9f3a"
             ],
             [
              0.8888888888888888,
              "#fdca26"
             ],
             [
              1,
              "#f0f921"
             ]
            ],
            "type": "heatmapgl"
           }
          ],
          "histogram": [
           {
            "marker": {
             "pattern": {
              "fillmode": "overlay",
              "size": 10,
              "solidity": 0.2
             }
            },
            "type": "histogram"
           }
          ],
          "histogram2d": [
           {
            "colorbar": {
             "outlinewidth": 0,
             "ticks": ""
            },
            "colorscale": [
             [
              0,
              "#0d0887"
             ],
             [
              0.1111111111111111,
              "#46039f"
             ],
             [
              0.2222222222222222,
              "#7201a8"
             ],
             [
              0.3333333333333333,
              "#9c179e"
             ],
             [
              0.4444444444444444,
              "#bd3786"
             ],
             [
              0.5555555555555556,
              "#d8576b"
             ],
             [
              0.6666666666666666,
              "#ed7953"
             ],
             [
              0.7777777777777778,
              "#fb9f3a"
             ],
             [
              0.8888888888888888,
              "#fdca26"
             ],
             [
              1,
              "#f0f921"
             ]
            ],
            "type": "histogram2d"
           }
          ],
          "histogram2dcontour": [
           {
            "colorbar": {
             "outlinewidth": 0,
             "ticks": ""
            },
            "colorscale": [
             [
              0,
              "#0d0887"
             ],
             [
              0.1111111111111111,
              "#46039f"
             ],
             [
              0.2222222222222222,
              "#7201a8"
             ],
             [
              0.3333333333333333,
              "#9c179e"
             ],
             [
              0.4444444444444444,
              "#bd3786"
             ],
             [
              0.5555555555555556,
              "#d8576b"
             ],
             [
              0.6666666666666666,
              "#ed7953"
             ],
             [
              0.7777777777777778,
              "#fb9f3a"
             ],
             [
              0.8888888888888888,
              "#fdca26"
             ],
             [
              1,
              "#f0f921"
             ]
            ],
            "type": "histogram2dcontour"
           }
          ],
          "mesh3d": [
           {
            "colorbar": {
             "outlinewidth": 0,
             "ticks": ""
            },
            "type": "mesh3d"
           }
          ],
          "parcoords": [
           {
            "line": {
             "colorbar": {
              "outlinewidth": 0,
              "ticks": ""
             }
            },
            "type": "parcoords"
           }
          ],
          "pie": [
           {
            "automargin": true,
            "type": "pie"
           }
          ],
          "scatter": [
           {
            "fillpattern": {
             "fillmode": "overlay",
             "size": 10,
             "solidity": 0.2
            },
            "type": "scatter"
           }
          ],
          "scatter3d": [
           {
            "line": {
             "colorbar": {
              "outlinewidth": 0,
              "ticks": ""
             }
            },
            "marker": {
             "colorbar": {
              "outlinewidth": 0,
              "ticks": ""
             }
            },
            "type": "scatter3d"
           }
          ],
          "scattercarpet": [
           {
            "marker": {
             "colorbar": {
              "outlinewidth": 0,
              "ticks": ""
             }
            },
            "type": "scattercarpet"
           }
          ],
          "scattergeo": [
           {
            "marker": {
             "colorbar": {
              "outlinewidth": 0,
              "ticks": ""
             }
            },
            "type": "scattergeo"
           }
          ],
          "scattergl": [
           {
            "marker": {
             "colorbar": {
              "outlinewidth": 0,
              "ticks": ""
             }
            },
            "type": "scattergl"
           }
          ],
          "scattermapbox": [
           {
            "marker": {
             "colorbar": {
              "outlinewidth": 0,
              "ticks": ""
             }
            },
            "type": "scattermapbox"
           }
          ],
          "scatterpolar": [
           {
            "marker": {
             "colorbar": {
              "outlinewidth": 0,
              "ticks": ""
             }
            },
            "type": "scatterpolar"
           }
          ],
          "scatterpolargl": [
           {
            "marker": {
             "colorbar": {
              "outlinewidth": 0,
              "ticks": ""
             }
            },
            "type": "scatterpolargl"
           }
          ],
          "scatterternary": [
           {
            "marker": {
             "colorbar": {
              "outlinewidth": 0,
              "ticks": ""
             }
            },
            "type": "scatterternary"
           }
          ],
          "surface": [
           {
            "colorbar": {
             "outlinewidth": 0,
             "ticks": ""
            },
            "colorscale": [
             [
              0,
              "#0d0887"
             ],
             [
              0.1111111111111111,
              "#46039f"
             ],
             [
              0.2222222222222222,
              "#7201a8"
             ],
             [
              0.3333333333333333,
              "#9c179e"
             ],
             [
              0.4444444444444444,
              "#bd3786"
             ],
             [
              0.5555555555555556,
              "#d8576b"
             ],
             [
              0.6666666666666666,
              "#ed7953"
             ],
             [
              0.7777777777777778,
              "#fb9f3a"
             ],
             [
              0.8888888888888888,
              "#fdca26"
             ],
             [
              1,
              "#f0f921"
             ]
            ],
            "type": "surface"
           }
          ],
          "table": [
           {
            "cells": {
             "fill": {
              "color": "#EBF0F8"
             },
             "line": {
              "color": "white"
             }
            },
            "header": {
             "fill": {
              "color": "#C8D4E3"
             },
             "line": {
              "color": "white"
             }
            },
            "type": "table"
           }
          ]
         },
         "layout": {
          "annotationdefaults": {
           "arrowcolor": "#2a3f5f",
           "arrowhead": 0,
           "arrowwidth": 1
          },
          "autotypenumbers": "strict",
          "coloraxis": {
           "colorbar": {
            "outlinewidth": 0,
            "ticks": ""
           }
          },
          "colorscale": {
           "diverging": [
            [
             0,
             "#8e0152"
            ],
            [
             0.1,
             "#c51b7d"
            ],
            [
             0.2,
             "#de77ae"
            ],
            [
             0.3,
             "#f1b6da"
            ],
            [
             0.4,
             "#fde0ef"
            ],
            [
             0.5,
             "#f7f7f7"
            ],
            [
             0.6,
             "#e6f5d0"
            ],
            [
             0.7,
             "#b8e186"
            ],
            [
             0.8,
             "#7fbc41"
            ],
            [
             0.9,
             "#4d9221"
            ],
            [
             1,
             "#276419"
            ]
           ],
           "sequential": [
            [
             0,
             "#0d0887"
            ],
            [
             0.1111111111111111,
             "#46039f"
            ],
            [
             0.2222222222222222,
             "#7201a8"
            ],
            [
             0.3333333333333333,
             "#9c179e"
            ],
            [
             0.4444444444444444,
             "#bd3786"
            ],
            [
             0.5555555555555556,
             "#d8576b"
            ],
            [
             0.6666666666666666,
             "#ed7953"
            ],
            [
             0.7777777777777778,
             "#fb9f3a"
            ],
            [
             0.8888888888888888,
             "#fdca26"
            ],
            [
             1,
             "#f0f921"
            ]
           ],
           "sequentialminus": [
            [
             0,
             "#0d0887"
            ],
            [
             0.1111111111111111,
             "#46039f"
            ],
            [
             0.2222222222222222,
             "#7201a8"
            ],
            [
             0.3333333333333333,
             "#9c179e"
            ],
            [
             0.4444444444444444,
             "#bd3786"
            ],
            [
             0.5555555555555556,
             "#d8576b"
            ],
            [
             0.6666666666666666,
             "#ed7953"
            ],
            [
             0.7777777777777778,
             "#fb9f3a"
            ],
            [
             0.8888888888888888,
             "#fdca26"
            ],
            [
             1,
             "#f0f921"
            ]
           ]
          },
          "colorway": [
           "#636efa",
           "#EF553B",
           "#00cc96",
           "#ab63fa",
           "#FFA15A",
           "#19d3f3",
           "#FF6692",
           "#B6E880",
           "#FF97FF",
           "#FECB52"
          ],
          "font": {
           "color": "#2a3f5f"
          },
          "geo": {
           "bgcolor": "white",
           "lakecolor": "white",
           "landcolor": "#E5ECF6",
           "showlakes": true,
           "showland": true,
           "subunitcolor": "white"
          },
          "hoverlabel": {
           "align": "left"
          },
          "hovermode": "closest",
          "mapbox": {
           "style": "light"
          },
          "paper_bgcolor": "white",
          "plot_bgcolor": "#E5ECF6",
          "polar": {
           "angularaxis": {
            "gridcolor": "white",
            "linecolor": "white",
            "ticks": ""
           },
           "bgcolor": "#E5ECF6",
           "radialaxis": {
            "gridcolor": "white",
            "linecolor": "white",
            "ticks": ""
           }
          },
          "scene": {
           "xaxis": {
            "backgroundcolor": "#E5ECF6",
            "gridcolor": "white",
            "gridwidth": 2,
            "linecolor": "white",
            "showbackground": true,
            "ticks": "",
            "zerolinecolor": "white"
           },
           "yaxis": {
            "backgroundcolor": "#E5ECF6",
            "gridcolor": "white",
            "gridwidth": 2,
            "linecolor": "white",
            "showbackground": true,
            "ticks": "",
            "zerolinecolor": "white"
           },
           "zaxis": {
            "backgroundcolor": "#E5ECF6",
            "gridcolor": "white",
            "gridwidth": 2,
            "linecolor": "white",
            "showbackground": true,
            "ticks": "",
            "zerolinecolor": "white"
           }
          },
          "shapedefaults": {
           "line": {
            "color": "#2a3f5f"
           }
          },
          "ternary": {
           "aaxis": {
            "gridcolor": "white",
            "linecolor": "white",
            "ticks": ""
           },
           "baxis": {
            "gridcolor": "white",
            "linecolor": "white",
            "ticks": ""
           },
           "bgcolor": "#E5ECF6",
           "caxis": {
            "gridcolor": "white",
            "linecolor": "white",
            "ticks": ""
           }
          },
          "title": {
           "x": 0.05
          },
          "xaxis": {
           "automargin": true,
           "gridcolor": "white",
           "linecolor": "white",
           "ticks": "",
           "title": {
            "standoff": 15
           },
           "zerolinecolor": "white",
           "zerolinewidth": 2
          },
          "yaxis": {
           "automargin": true,
           "gridcolor": "white",
           "linecolor": "white",
           "ticks": "",
           "title": {
            "standoff": 15
           },
           "zerolinecolor": "white",
           "zerolinewidth": 2
          }
         }
        },
        "title": {
         "text": "DGI ID : 4.023239"
        },
        "xaxis": {
         "title": {
          "text": "Sense Features"
         }
        },
        "yaxis": {
         "title": {
          "text": "Dimensions"
         }
        }
       }
      },
      "text/html": [
       "<div>                            <div id=\"4b06dce7-ba86-486f-9f1d-cf168ff17884\" class=\"plotly-graph-div\" style=\"height:525px; width:100%;\"></div>            <script type=\"text/javascript\">                require([\"plotly\"], function(Plotly) {                    window.PLOTLYENV=window.PLOTLYENV || {};                                    if (document.getElementById(\"4b06dce7-ba86-486f-9f1d-cf168ff17884\")) {                    Plotly.newPlot(                        \"4b06dce7-ba86-486f-9f1d-cf168ff17884\",                        [{\"x\":[\"Degree\",\"Clustering Coefficient\",\"Personalized Page Rank - Standard Deviation\",\"Average Neighbor Degree\",\"Average Neighbor Clustering\",\"Eccentricity\",\"Katz Centrality\"],\"z\":[[0.0,0.0,0.1807693988084793,0.0,0.0,0.0,0.0],[0.0,0.0,1.0,0.0,0.0,0.0,0.0],[0.0,0.0,0.0,0.0,0.0,0.04812934249639511,0.0],[0.0,0.0,0.4956996440887451,0.0,0.0,0.0,0.0],[0.0,0.0,0.5437980890274048,0.0,0.0,0.0,0.0],[0.0,0.08313076198101044,0.0,0.0,0.02894183248281479,0.0,0.0],[0.0,0.0,0.0,0.22038370370864868,0.0,0.13831882178783417,0.11248593777418137],[0.0,0.0,0.0,0.0,0.009163140319287777,0.0,0.06656698882579803],[0.0,0.0,0.24131779372692108,0.0,0.0,0.0,0.0],[0.0,0.0,0.024532660841941833,0.0,0.0,0.0,0.0],[0.3240538537502289,0.0,0.0,0.0,0.03911915048956871,0.0,0.0],[0.0,0.0,0.0,0.0,0.00951338466256857,0.02675137296319008,0.0],[0.0,0.0,0.4495175778865814,0.0,0.0,0.0,0.0],[0.0,0.03269787132740021,0.0,0.07517290860414505,0.1379973292350769,0.12078592926263809,0.05063443258404732],[0.6896775960922241,0.0,0.0,0.0,0.013594232499599457,0.0,0.0],[0.0,0.0,0.13575653731822968,0.0,0.0,0.012863394804298878,0.0],[0.0,0.05000364035367966,0.0,0.1185317412018776,0.0649186223745346,0.0,0.06432081758975983],[0.0,0.0,0.0,0.0,0.0,0.04048113152384758,0.0],[0.0,0.06359732896089554,0.0,0.12558983266353607,0.0,0.007856684736907482,0.08181213587522507],[0.0,0.009155495092272758,0.0,0.0,0.054945796728134155,0.0,0.0],[0.0,0.0,0.40836405754089355,0.0,0.0,0.0,0.0],[0.0,0.2219764143228531,0.0,0.2213463932275772,0.151948481798172,0.15026475489139557,0.16643978655338287],[0.0,0.0,0.0,0.0,0.0,0.0,0.0],[0.0,0.13345810770988464,0.0,0.0,0.041762255132198334,0.0,0.14625729620456696],[0.0,0.0,0.07726451009511948,0.0,0.0,0.0,0.0],[0.0,0.06020117178559303,0.06657074391841888,0.0,0.02418261580169201,0.04685743898153305,0.04591800272464752],[0.0,0.057671383023262024,0.0,0.0,0.11280426383018494,0.0372454971075058,0.07085292786359787],[0.0,0.14400985836982727,0.0,0.1906517893075943,0.1749330759048462,0.24510248005390167,0.11869353801012039],[0.0,0.027570921927690506,0.0,0.0,0.031226275488734245,0.20919780433177948,0.1060328558087349],[0.0,0.1388753354549408,0.0,0.07896208763122559,0.18198618292808533,0.035264138132333755,0.07940926402807236],[0.0,0.0,0.2434619814157486,0.0,0.0,0.0,0.0],[0.0,0.0,0.9783371090888977,0.0,0.0,0.0,0.0]],\"type\":\"heatmap\"}],                        {\"template\":{\"data\":{\"histogram2dcontour\":[{\"type\":\"histogram2dcontour\",\"colorbar\":{\"outlinewidth\":0,\"ticks\":\"\"},\"colorscale\":[[0.0,\"#0d0887\"],[0.1111111111111111,\"#46039f\"],[0.2222222222222222,\"#7201a8\"],[0.3333333333333333,\"#9c179e\"],[0.4444444444444444,\"#bd3786\"],[0.5555555555555556,\"#d8576b\"],[0.6666666666666666,\"#ed7953\"],[0.7777777777777778,\"#fb9f3a\"],[0.8888888888888888,\"#fdca26\"],[1.0,\"#f0f921\"]]}],\"choropleth\":[{\"type\":\"choropleth\",\"colorbar\":{\"outlinewidth\":0,\"ticks\":\"\"}}],\"histogram2d\":[{\"type\":\"histogram2d\",\"colorbar\":{\"outlinewidth\":0,\"ticks\":\"\"},\"colorscale\":[[0.0,\"#0d0887\"],[0.1111111111111111,\"#46039f\"],[0.2222222222222222,\"#7201a8\"],[0.3333333333333333,\"#9c179e\"],[0.4444444444444444,\"#bd3786\"],[0.5555555555555556,\"#d8576b\"],[0.6666666666666666,\"#ed7953\"],[0.7777777777777778,\"#fb9f3a\"],[0.8888888888888888,\"#fdca26\"],[1.0,\"#f0f921\"]]}],\"heatmap\":[{\"type\":\"heatmap\",\"colorbar\":{\"outlinewidth\":0,\"ticks\":\"\"},\"colorscale\":[[0.0,\"#0d0887\"],[0.1111111111111111,\"#46039f\"],[0.2222222222222222,\"#7201a8\"],[0.3333333333333333,\"#9c179e\"],[0.4444444444444444,\"#bd3786\"],[0.5555555555555556,\"#d8576b\"],[0.6666666666666666,\"#ed7953\"],[0.7777777777777778,\"#fb9f3a\"],[0.8888888888888888,\"#fdca26\"],[1.0,\"#f0f921\"]]}],\"heatmapgl\":[{\"type\":\"heatmapgl\",\"colorbar\":{\"outlinewidth\":0,\"ticks\":\"\"},\"colorscale\":[[0.0,\"#0d0887\"],[0.1111111111111111,\"#46039f\"],[0.2222222222222222,\"#7201a8\"],[0.3333333333333333,\"#9c179e\"],[0.4444444444444444,\"#bd3786\"],[0.5555555555555556,\"#d8576b\"],[0.6666666666666666,\"#ed7953\"],[0.7777777777777778,\"#fb9f3a\"],[0.8888888888888888,\"#fdca26\"],[1.0,\"#f0f921\"]]}],\"contourcarpet\":[{\"type\":\"contourcarpet\",\"colorbar\":{\"outlinewidth\":0,\"ticks\":\"\"}}],\"contour\":[{\"type\":\"contour\",\"colorbar\":{\"outlinewidth\":0,\"ticks\":\"\"},\"colorscale\":[[0.0,\"#0d0887\"],[0.1111111111111111,\"#46039f\"],[0.2222222222222222,\"#7201a8\"],[0.3333333333333333,\"#9c179e\"],[0.4444444444444444,\"#bd3786\"],[0.5555555555555556,\"#d8576b\"],[0.6666666666666666,\"#ed7953\"],[0.7777777777777778,\"#fb9f3a\"],[0.8888888888888888,\"#fdca26\"],[1.0,\"#f0f921\"]]}],\"surface\":[{\"type\":\"surface\",\"colorbar\":{\"outlinewidth\":0,\"ticks\":\"\"},\"colorscale\":[[0.0,\"#0d0887\"],[0.1111111111111111,\"#46039f\"],[0.2222222222222222,\"#7201a8\"],[0.3333333333333333,\"#9c179e\"],[0.4444444444444444,\"#bd3786\"],[0.5555555555555556,\"#d8576b\"],[0.6666666666666666,\"#ed7953\"],[0.7777777777777778,\"#fb9f3a\"],[0.8888888888888888,\"#fdca26\"],[1.0,\"#f0f921\"]]}],\"mesh3d\":[{\"type\":\"mesh3d\",\"colorbar\":{\"outlinewidth\":0,\"ticks\":\"\"}}],\"scatter\":[{\"fillpattern\":{\"fillmode\":\"overlay\",\"size\":10,\"solidity\":0.2},\"type\":\"scatter\"}],\"parcoords\":[{\"type\":\"parcoords\",\"line\":{\"colorbar\":{\"outlinewidth\":0,\"ticks\":\"\"}}}],\"scatterpolargl\":[{\"type\":\"scatterpolargl\",\"marker\":{\"colorbar\":{\"outlinewidth\":0,\"ticks\":\"\"}}}],\"bar\":[{\"error_x\":{\"color\":\"#2a3f5f\"},\"error_y\":{\"color\":\"#2a3f5f\"},\"marker\":{\"line\":{\"color\":\"#E5ECF6\",\"width\":0.5},\"pattern\":{\"fillmode\":\"overlay\",\"size\":10,\"solidity\":0.2}},\"type\":\"bar\"}],\"scattergeo\":[{\"type\":\"scattergeo\",\"marker\":{\"colorbar\":{\"outlinewidth\":0,\"ticks\":\"\"}}}],\"scatterpolar\":[{\"type\":\"scatterpolar\",\"marker\":{\"colorbar\":{\"outlinewidth\":0,\"ticks\":\"\"}}}],\"histogram\":[{\"marker\":{\"pattern\":{\"fillmode\":\"overlay\",\"size\":10,\"solidity\":0.2}},\"type\":\"histogram\"}],\"scattergl\":[{\"type\":\"scattergl\",\"marker\":{\"colorbar\":{\"outlinewidth\":0,\"ticks\":\"\"}}}],\"scatter3d\":[{\"type\":\"scatter3d\",\"line\":{\"colorbar\":{\"outlinewidth\":0,\"ticks\":\"\"}},\"marker\":{\"colorbar\":{\"outlinewidth\":0,\"ticks\":\"\"}}}],\"scattermapbox\":[{\"type\":\"scattermapbox\",\"marker\":{\"colorbar\":{\"outlinewidth\":0,\"ticks\":\"\"}}}],\"scatterternary\":[{\"type\":\"scatterternary\",\"marker\":{\"colorbar\":{\"outlinewidth\":0,\"ticks\":\"\"}}}],\"scattercarpet\":[{\"type\":\"scattercarpet\",\"marker\":{\"colorbar\":{\"outlinewidth\":0,\"ticks\":\"\"}}}],\"carpet\":[{\"aaxis\":{\"endlinecolor\":\"#2a3f5f\",\"gridcolor\":\"white\",\"linecolor\":\"white\",\"minorgridcolor\":\"white\",\"startlinecolor\":\"#2a3f5f\"},\"baxis\":{\"endlinecolor\":\"#2a3f5f\",\"gridcolor\":\"white\",\"linecolor\":\"white\",\"minorgridcolor\":\"white\",\"startlinecolor\":\"#2a3f5f\"},\"type\":\"carpet\"}],\"table\":[{\"cells\":{\"fill\":{\"color\":\"#EBF0F8\"},\"line\":{\"color\":\"white\"}},\"header\":{\"fill\":{\"color\":\"#C8D4E3\"},\"line\":{\"color\":\"white\"}},\"type\":\"table\"}],\"barpolar\":[{\"marker\":{\"line\":{\"color\":\"#E5ECF6\",\"width\":0.5},\"pattern\":{\"fillmode\":\"overlay\",\"size\":10,\"solidity\":0.2}},\"type\":\"barpolar\"}],\"pie\":[{\"automargin\":true,\"type\":\"pie\"}]},\"layout\":{\"autotypenumbers\":\"strict\",\"colorway\":[\"#636efa\",\"#EF553B\",\"#00cc96\",\"#ab63fa\",\"#FFA15A\",\"#19d3f3\",\"#FF6692\",\"#B6E880\",\"#FF97FF\",\"#FECB52\"],\"font\":{\"color\":\"#2a3f5f\"},\"hovermode\":\"closest\",\"hoverlabel\":{\"align\":\"left\"},\"paper_bgcolor\":\"white\",\"plot_bgcolor\":\"#E5ECF6\",\"polar\":{\"bgcolor\":\"#E5ECF6\",\"angularaxis\":{\"gridcolor\":\"white\",\"linecolor\":\"white\",\"ticks\":\"\"},\"radialaxis\":{\"gridcolor\":\"white\",\"linecolor\":\"white\",\"ticks\":\"\"}},\"ternary\":{\"bgcolor\":\"#E5ECF6\",\"aaxis\":{\"gridcolor\":\"white\",\"linecolor\":\"white\",\"ticks\":\"\"},\"baxis\":{\"gridcolor\":\"white\",\"linecolor\":\"white\",\"ticks\":\"\"},\"caxis\":{\"gridcolor\":\"white\",\"linecolor\":\"white\",\"ticks\":\"\"}},\"coloraxis\":{\"colorbar\":{\"outlinewidth\":0,\"ticks\":\"\"}},\"colorscale\":{\"sequential\":[[0.0,\"#0d0887\"],[0.1111111111111111,\"#46039f\"],[0.2222222222222222,\"#7201a8\"],[0.3333333333333333,\"#9c179e\"],[0.4444444444444444,\"#bd3786\"],[0.5555555555555556,\"#d8576b\"],[0.6666666666666666,\"#ed7953\"],[0.7777777777777778,\"#fb9f3a\"],[0.8888888888888888,\"#fdca26\"],[1.0,\"#f0f921\"]],\"sequentialminus\":[[0.0,\"#0d0887\"],[0.1111111111111111,\"#46039f\"],[0.2222222222222222,\"#7201a8\"],[0.3333333333333333,\"#9c179e\"],[0.4444444444444444,\"#bd3786\"],[0.5555555555555556,\"#d8576b\"],[0.6666666666666666,\"#ed7953\"],[0.7777777777777778,\"#fb9f3a\"],[0.8888888888888888,\"#fdca26\"],[1.0,\"#f0f921\"]],\"diverging\":[[0,\"#8e0152\"],[0.1,\"#c51b7d\"],[0.2,\"#de77ae\"],[0.3,\"#f1b6da\"],[0.4,\"#fde0ef\"],[0.5,\"#f7f7f7\"],[0.6,\"#e6f5d0\"],[0.7,\"#b8e186\"],[0.8,\"#7fbc41\"],[0.9,\"#4d9221\"],[1,\"#276419\"]]},\"xaxis\":{\"gridcolor\":\"white\",\"linecolor\":\"white\",\"ticks\":\"\",\"title\":{\"standoff\":15},\"zerolinecolor\":\"white\",\"automargin\":true,\"zerolinewidth\":2},\"yaxis\":{\"gridcolor\":\"white\",\"linecolor\":\"white\",\"ticks\":\"\",\"title\":{\"standoff\":15},\"zerolinecolor\":\"white\",\"automargin\":true,\"zerolinewidth\":2},\"scene\":{\"xaxis\":{\"backgroundcolor\":\"#E5ECF6\",\"gridcolor\":\"white\",\"linecolor\":\"white\",\"showbackground\":true,\"ticks\":\"\",\"zerolinecolor\":\"white\",\"gridwidth\":2},\"yaxis\":{\"backgroundcolor\":\"#E5ECF6\",\"gridcolor\":\"white\",\"linecolor\":\"white\",\"showbackground\":true,\"ticks\":\"\",\"zerolinecolor\":\"white\",\"gridwidth\":2},\"zaxis\":{\"backgroundcolor\":\"#E5ECF6\",\"gridcolor\":\"white\",\"linecolor\":\"white\",\"showbackground\":true,\"ticks\":\"\",\"zerolinecolor\":\"white\",\"gridwidth\":2}},\"shapedefaults\":{\"line\":{\"color\":\"#2a3f5f\"}},\"annotationdefaults\":{\"arrowcolor\":\"#2a3f5f\",\"arrowhead\":0,\"arrowwidth\":1},\"geo\":{\"bgcolor\":\"white\",\"landcolor\":\"#E5ECF6\",\"subunitcolor\":\"white\",\"showland\":true,\"showlakes\":true,\"lakecolor\":\"white\"},\"title\":{\"x\":0.05},\"mapbox\":{\"style\":\"light\"}}},\"title\":{\"text\":\"DGI ID : 4.023239\"},\"xaxis\":{\"title\":{\"text\":\"Sense Features\"}},\"yaxis\":{\"title\":{\"text\":\"Dimensions\"}}},                        {\"responsive\": true}                    ).then(function(){\n",
       "                            \n",
       "var gd = document.getElementById('4b06dce7-ba86-486f-9f1d-cf168ff17884');\n",
       "var x = new MutationObserver(function (mutations, observer) {{\n",
       "        var display = window.getComputedStyle(gd).display;\n",
       "        if (!display || display === 'none') {{\n",
       "            console.log([gd, 'removed!']);\n",
       "            Plotly.purge(gd);\n",
       "            observer.disconnect();\n",
       "        }}\n",
       "}});\n",
       "\n",
       "// Listen for the removal of the full notebook cells\n",
       "var notebookContainer = gd.closest('#notebook-container');\n",
       "if (notebookContainer) {{\n",
       "    x.observe(notebookContainer, {childList: true});\n",
       "}}\n",
       "\n",
       "// Listen for the clearing of the current output cell\n",
       "var outputEl = gd.closest('.output');\n",
       "if (outputEl) {{\n",
       "    x.observe(outputEl, {childList: true});\n",
       "}}\n",
       "\n",
       "                        })                };                });            </script>        </div>"
      ]
     },
     "metadata": {},
     "output_type": "display_data"
    },
    {
     "data": {
      "application/vnd.plotly.v1+json": {
       "config": {
        "plotlyServerURL": "https://plot.ly"
       },
       "data": [
        {
         "type": "heatmap",
         "x": [
          "Degree",
          "Clustering Coefficient",
          "Personalized Page Rank - Standard Deviation",
          "Average Neighbor Degree",
          "Average Neighbor Clustering",
          "Eccentricity",
          "Katz Centrality"
         ],
         "z": [
          [
           0,
           0,
           0.24021880328655243,
           0,
           0,
           0,
           0
          ],
          [
           0,
           0,
           0,
           0,
           0,
           0,
           0
          ],
          [
           0,
           0,
           0,
           0,
           0,
           0,
           0
          ],
          [
           0,
           0,
           0,
           0,
           0.04317033663392067,
           0.23813830316066742,
           0
          ],
          [
           0,
           0,
           0,
           0,
           0,
           0,
           0
          ],
          [
           0,
           0,
           0,
           0,
           0,
           0,
           0
          ],
          [
           0,
           0,
           0,
           0,
           0,
           0,
           0
          ],
          [
           0,
           0,
           0,
           0,
           0,
           0,
           0
          ],
          [
           0,
           0,
           0,
           0,
           0,
           0.012097584083676338,
           0
          ],
          [
           0,
           0,
           0,
           0,
           0,
           0,
           0
          ],
          [
           0,
           0.09047077596187592,
           0,
           0,
           0.067247673869133,
           0,
           0.017110925167798996
          ],
          [
           0.08894766867160797,
           0,
           0,
           0.1589570790529251,
           0.029880719259381294,
           0,
           0.01484693307429552
          ],
          [
           0,
           0,
           0,
           0,
           0,
           0,
           0.0642063170671463
          ],
          [
           0,
           0,
           0.14828456938266754,
           0,
           0,
           0,
           0
          ],
          [
           0,
           0,
           0,
           0,
           0,
           0,
           0
          ],
          [
           0,
           0,
           0,
           0,
           0,
           0,
           0
          ],
          [
           0,
           0,
           0,
           0,
           0,
           0,
           0
          ],
          [
           0,
           0,
           0,
           0,
           0,
           0,
           0
          ],
          [
           0,
           0,
           0,
           0.048312775790691376,
           0,
           0.01947495900094509,
           0.03502226993441582
          ],
          [
           0,
           0,
           0,
           0,
           0,
           0,
           0
          ],
          [
           1,
           0,
           0,
           0,
           0,
           0,
           0
          ],
          [
           0,
           0,
           0,
           0,
           0,
           0,
           0
          ],
          [
           0,
           0,
           0.19577954709529877,
           0,
           0,
           0,
           0
          ],
          [
           0,
           0,
           0,
           0,
           0,
           0,
           0.022117549553513527
          ],
          [
           0,
           0,
           0,
           0,
           0.03559325262904167,
           0,
           0
          ],
          [
           0,
           0,
           0,
           0,
           0,
           0,
           0
          ],
          [
           0,
           0,
           0,
           0,
           0,
           0,
           0
          ],
          [
           0,
           0,
           0,
           0,
           0,
           0,
           0
          ],
          [
           0,
           0,
           0,
           0,
           0,
           0,
           0
          ],
          [
           0,
           0.04649911820888519,
           0,
           0,
           0,
           0,
           0
          ],
          [
           0,
           0,
           0,
           0,
           0,
           0,
           0
          ],
          [
           0,
           0.059598471969366074,
           0,
           0.03486059233546257,
           0.02290397509932518,
           0.05764966085553169,
           0.041962288320064545
          ]
         ]
        }
       ],
       "layout": {
        "template": {
         "data": {
          "bar": [
           {
            "error_x": {
             "color": "#2a3f5f"
            },
            "error_y": {
             "color": "#2a3f5f"
            },
            "marker": {
             "line": {
              "color": "#E5ECF6",
              "width": 0.5
             },
             "pattern": {
              "fillmode": "overlay",
              "size": 10,
              "solidity": 0.2
             }
            },
            "type": "bar"
           }
          ],
          "barpolar": [
           {
            "marker": {
             "line": {
              "color": "#E5ECF6",
              "width": 0.5
             },
             "pattern": {
              "fillmode": "overlay",
              "size": 10,
              "solidity": 0.2
             }
            },
            "type": "barpolar"
           }
          ],
          "carpet": [
           {
            "aaxis": {
             "endlinecolor": "#2a3f5f",
             "gridcolor": "white",
             "linecolor": "white",
             "minorgridcolor": "white",
             "startlinecolor": "#2a3f5f"
            },
            "baxis": {
             "endlinecolor": "#2a3f5f",
             "gridcolor": "white",
             "linecolor": "white",
             "minorgridcolor": "white",
             "startlinecolor": "#2a3f5f"
            },
            "type": "carpet"
           }
          ],
          "choropleth": [
           {
            "colorbar": {
             "outlinewidth": 0,
             "ticks": ""
            },
            "type": "choropleth"
           }
          ],
          "contour": [
           {
            "colorbar": {
             "outlinewidth": 0,
             "ticks": ""
            },
            "colorscale": [
             [
              0,
              "#0d0887"
             ],
             [
              0.1111111111111111,
              "#46039f"
             ],
             [
              0.2222222222222222,
              "#7201a8"
             ],
             [
              0.3333333333333333,
              "#9c179e"
             ],
             [
              0.4444444444444444,
              "#bd3786"
             ],
             [
              0.5555555555555556,
              "#d8576b"
             ],
             [
              0.6666666666666666,
              "#ed7953"
             ],
             [
              0.7777777777777778,
              "#fb9f3a"
             ],
             [
              0.8888888888888888,
              "#fdca26"
             ],
             [
              1,
              "#f0f921"
             ]
            ],
            "type": "contour"
           }
          ],
          "contourcarpet": [
           {
            "colorbar": {
             "outlinewidth": 0,
             "ticks": ""
            },
            "type": "contourcarpet"
           }
          ],
          "heatmap": [
           {
            "colorbar": {
             "outlinewidth": 0,
             "ticks": ""
            },
            "colorscale": [
             [
              0,
              "#0d0887"
             ],
             [
              0.1111111111111111,
              "#46039f"
             ],
             [
              0.2222222222222222,
              "#7201a8"
             ],
             [
              0.3333333333333333,
              "#9c179e"
             ],
             [
              0.4444444444444444,
              "#bd3786"
             ],
             [
              0.5555555555555556,
              "#d8576b"
             ],
             [
              0.6666666666666666,
              "#ed7953"
             ],
             [
              0.7777777777777778,
              "#fb9f3a"
             ],
             [
              0.8888888888888888,
              "#fdca26"
             ],
             [
              1,
              "#f0f921"
             ]
            ],
            "type": "heatmap"
           }
          ],
          "heatmapgl": [
           {
            "colorbar": {
             "outlinewidth": 0,
             "ticks": ""
            },
            "colorscale": [
             [
              0,
              "#0d0887"
             ],
             [
              0.1111111111111111,
              "#46039f"
             ],
             [
              0.2222222222222222,
              "#7201a8"
             ],
             [
              0.3333333333333333,
              "#9c179e"
             ],
             [
              0.4444444444444444,
              "#bd3786"
             ],
             [
              0.5555555555555556,
              "#d8576b"
             ],
             [
              0.6666666666666666,
              "#ed7953"
             ],
             [
              0.7777777777777778,
              "#fb9f3a"
             ],
             [
              0.8888888888888888,
              "#fdca26"
             ],
             [
              1,
              "#f0f921"
             ]
            ],
            "type": "heatmapgl"
           }
          ],
          "histogram": [
           {
            "marker": {
             "pattern": {
              "fillmode": "overlay",
              "size": 10,
              "solidity": 0.2
             }
            },
            "type": "histogram"
           }
          ],
          "histogram2d": [
           {
            "colorbar": {
             "outlinewidth": 0,
             "ticks": ""
            },
            "colorscale": [
             [
              0,
              "#0d0887"
             ],
             [
              0.1111111111111111,
              "#46039f"
             ],
             [
              0.2222222222222222,
              "#7201a8"
             ],
             [
              0.3333333333333333,
              "#9c179e"
             ],
             [
              0.4444444444444444,
              "#bd3786"
             ],
             [
              0.5555555555555556,
              "#d8576b"
             ],
             [
              0.6666666666666666,
              "#ed7953"
             ],
             [
              0.7777777777777778,
              "#fb9f3a"
             ],
             [
              0.8888888888888888,
              "#fdca26"
             ],
             [
              1,
              "#f0f921"
             ]
            ],
            "type": "histogram2d"
           }
          ],
          "histogram2dcontour": [
           {
            "colorbar": {
             "outlinewidth": 0,
             "ticks": ""
            },
            "colorscale": [
             [
              0,
              "#0d0887"
             ],
             [
              0.1111111111111111,
              "#46039f"
             ],
             [
              0.2222222222222222,
              "#7201a8"
             ],
             [
              0.3333333333333333,
              "#9c179e"
             ],
             [
              0.4444444444444444,
              "#bd3786"
             ],
             [
              0.5555555555555556,
              "#d8576b"
             ],
             [
              0.6666666666666666,
              "#ed7953"
             ],
             [
              0.7777777777777778,
              "#fb9f3a"
             ],
             [
              0.8888888888888888,
              "#fdca26"
             ],
             [
              1,
              "#f0f921"
             ]
            ],
            "type": "histogram2dcontour"
           }
          ],
          "mesh3d": [
           {
            "colorbar": {
             "outlinewidth": 0,
             "ticks": ""
            },
            "type": "mesh3d"
           }
          ],
          "parcoords": [
           {
            "line": {
             "colorbar": {
              "outlinewidth": 0,
              "ticks": ""
             }
            },
            "type": "parcoords"
           }
          ],
          "pie": [
           {
            "automargin": true,
            "type": "pie"
           }
          ],
          "scatter": [
           {
            "fillpattern": {
             "fillmode": "overlay",
             "size": 10,
             "solidity": 0.2
            },
            "type": "scatter"
           }
          ],
          "scatter3d": [
           {
            "line": {
             "colorbar": {
              "outlinewidth": 0,
              "ticks": ""
             }
            },
            "marker": {
             "colorbar": {
              "outlinewidth": 0,
              "ticks": ""
             }
            },
            "type": "scatter3d"
           }
          ],
          "scattercarpet": [
           {
            "marker": {
             "colorbar": {
              "outlinewidth": 0,
              "ticks": ""
             }
            },
            "type": "scattercarpet"
           }
          ],
          "scattergeo": [
           {
            "marker": {
             "colorbar": {
              "outlinewidth": 0,
              "ticks": ""
             }
            },
            "type": "scattergeo"
           }
          ],
          "scattergl": [
           {
            "marker": {
             "colorbar": {
              "outlinewidth": 0,
              "ticks": ""
             }
            },
            "type": "scattergl"
           }
          ],
          "scattermapbox": [
           {
            "marker": {
             "colorbar": {
              "outlinewidth": 0,
              "ticks": ""
             }
            },
            "type": "scattermapbox"
           }
          ],
          "scatterpolar": [
           {
            "marker": {
             "colorbar": {
              "outlinewidth": 0,
              "ticks": ""
             }
            },
            "type": "scatterpolar"
           }
          ],
          "scatterpolargl": [
           {
            "marker": {
             "colorbar": {
              "outlinewidth": 0,
              "ticks": ""
             }
            },
            "type": "scatterpolargl"
           }
          ],
          "scatterternary": [
           {
            "marker": {
             "colorbar": {
              "outlinewidth": 0,
              "ticks": ""
             }
            },
            "type": "scatterternary"
           }
          ],
          "surface": [
           {
            "colorbar": {
             "outlinewidth": 0,
             "ticks": ""
            },
            "colorscale": [
             [
              0,
              "#0d0887"
             ],
             [
              0.1111111111111111,
              "#46039f"
             ],
             [
              0.2222222222222222,
              "#7201a8"
             ],
             [
              0.3333333333333333,
              "#9c179e"
             ],
             [
              0.4444444444444444,
              "#bd3786"
             ],
             [
              0.5555555555555556,
              "#d8576b"
             ],
             [
              0.6666666666666666,
              "#ed7953"
             ],
             [
              0.7777777777777778,
              "#fb9f3a"
             ],
             [
              0.8888888888888888,
              "#fdca26"
             ],
             [
              1,
              "#f0f921"
             ]
            ],
            "type": "surface"
           }
          ],
          "table": [
           {
            "cells": {
             "fill": {
              "color": "#EBF0F8"
             },
             "line": {
              "color": "white"
             }
            },
            "header": {
             "fill": {
              "color": "#C8D4E3"
             },
             "line": {
              "color": "white"
             }
            },
            "type": "table"
           }
          ]
         },
         "layout": {
          "annotationdefaults": {
           "arrowcolor": "#2a3f5f",
           "arrowhead": 0,
           "arrowwidth": 1
          },
          "autotypenumbers": "strict",
          "coloraxis": {
           "colorbar": {
            "outlinewidth": 0,
            "ticks": ""
           }
          },
          "colorscale": {
           "diverging": [
            [
             0,
             "#8e0152"
            ],
            [
             0.1,
             "#c51b7d"
            ],
            [
             0.2,
             "#de77ae"
            ],
            [
             0.3,
             "#f1b6da"
            ],
            [
             0.4,
             "#fde0ef"
            ],
            [
             0.5,
             "#f7f7f7"
            ],
            [
             0.6,
             "#e6f5d0"
            ],
            [
             0.7,
             "#b8e186"
            ],
            [
             0.8,
             "#7fbc41"
            ],
            [
             0.9,
             "#4d9221"
            ],
            [
             1,
             "#276419"
            ]
           ],
           "sequential": [
            [
             0,
             "#0d0887"
            ],
            [
             0.1111111111111111,
             "#46039f"
            ],
            [
             0.2222222222222222,
             "#7201a8"
            ],
            [
             0.3333333333333333,
             "#9c179e"
            ],
            [
             0.4444444444444444,
             "#bd3786"
            ],
            [
             0.5555555555555556,
             "#d8576b"
            ],
            [
             0.6666666666666666,
             "#ed7953"
            ],
            [
             0.7777777777777778,
             "#fb9f3a"
            ],
            [
             0.8888888888888888,
             "#fdca26"
            ],
            [
             1,
             "#f0f921"
            ]
           ],
           "sequentialminus": [
            [
             0,
             "#0d0887"
            ],
            [
             0.1111111111111111,
             "#46039f"
            ],
            [
             0.2222222222222222,
             "#7201a8"
            ],
            [
             0.3333333333333333,
             "#9c179e"
            ],
            [
             0.4444444444444444,
             "#bd3786"
            ],
            [
             0.5555555555555556,
             "#d8576b"
            ],
            [
             0.6666666666666666,
             "#ed7953"
            ],
            [
             0.7777777777777778,
             "#fb9f3a"
            ],
            [
             0.8888888888888888,
             "#fdca26"
            ],
            [
             1,
             "#f0f921"
            ]
           ]
          },
          "colorway": [
           "#636efa",
           "#EF553B",
           "#00cc96",
           "#ab63fa",
           "#FFA15A",
           "#19d3f3",
           "#FF6692",
           "#B6E880",
           "#FF97FF",
           "#FECB52"
          ],
          "font": {
           "color": "#2a3f5f"
          },
          "geo": {
           "bgcolor": "white",
           "lakecolor": "white",
           "landcolor": "#E5ECF6",
           "showlakes": true,
           "showland": true,
           "subunitcolor": "white"
          },
          "hoverlabel": {
           "align": "left"
          },
          "hovermode": "closest",
          "mapbox": {
           "style": "light"
          },
          "paper_bgcolor": "white",
          "plot_bgcolor": "#E5ECF6",
          "polar": {
           "angularaxis": {
            "gridcolor": "white",
            "linecolor": "white",
            "ticks": ""
           },
           "bgcolor": "#E5ECF6",
           "radialaxis": {
            "gridcolor": "white",
            "linecolor": "white",
            "ticks": ""
           }
          },
          "scene": {
           "xaxis": {
            "backgroundcolor": "#E5ECF6",
            "gridcolor": "white",
            "gridwidth": 2,
            "linecolor": "white",
            "showbackground": true,
            "ticks": "",
            "zerolinecolor": "white"
           },
           "yaxis": {
            "backgroundcolor": "#E5ECF6",
            "gridcolor": "white",
            "gridwidth": 2,
            "linecolor": "white",
            "showbackground": true,
            "ticks": "",
            "zerolinecolor": "white"
           },
           "zaxis": {
            "backgroundcolor": "#E5ECF6",
            "gridcolor": "white",
            "gridwidth": 2,
            "linecolor": "white",
            "showbackground": true,
            "ticks": "",
            "zerolinecolor": "white"
           }
          },
          "shapedefaults": {
           "line": {
            "color": "#2a3f5f"
           }
          },
          "ternary": {
           "aaxis": {
            "gridcolor": "white",
            "linecolor": "white",
            "ticks": ""
           },
           "baxis": {
            "gridcolor": "white",
            "linecolor": "white",
            "ticks": ""
           },
           "bgcolor": "#E5ECF6",
           "caxis": {
            "gridcolor": "white",
            "linecolor": "white",
            "ticks": ""
           }
          },
          "title": {
           "x": 0.05
          },
          "xaxis": {
           "automargin": true,
           "gridcolor": "white",
           "linecolor": "white",
           "ticks": "",
           "title": {
            "standoff": 15
           },
           "zerolinecolor": "white",
           "zerolinewidth": 2
          },
          "yaxis": {
           "automargin": true,
           "gridcolor": "white",
           "linecolor": "white",
           "ticks": "",
           "title": {
            "standoff": 15
           },
           "zerolinecolor": "white",
           "zerolinewidth": 2
          }
         }
        },
        "title": {
         "text": "DGI SF : 2.0291052"
        },
        "xaxis": {
         "title": {
          "text": "Sense Features"
         }
        },
        "yaxis": {
         "title": {
          "text": "Dimensions"
         }
        }
       }
      },
      "text/html": [
       "<div>                            <div id=\"cfa12c44-451f-4523-880f-7ddc36155043\" class=\"plotly-graph-div\" style=\"height:525px; width:100%;\"></div>            <script type=\"text/javascript\">                require([\"plotly\"], function(Plotly) {                    window.PLOTLYENV=window.PLOTLYENV || {};                                    if (document.getElementById(\"cfa12c44-451f-4523-880f-7ddc36155043\")) {                    Plotly.newPlot(                        \"cfa12c44-451f-4523-880f-7ddc36155043\",                        [{\"x\":[\"Degree\",\"Clustering Coefficient\",\"Personalized Page Rank - Standard Deviation\",\"Average Neighbor Degree\",\"Average Neighbor Clustering\",\"Eccentricity\",\"Katz Centrality\"],\"z\":[[0.0,0.0,0.24021880328655243,0.0,0.0,0.0,0.0],[0.0,0.0,0.0,0.0,0.0,0.0,0.0],[0.0,0.0,0.0,0.0,0.0,0.0,0.0],[0.0,0.0,0.0,0.0,0.04317033663392067,0.23813830316066742,0.0],[0.0,0.0,0.0,0.0,0.0,0.0,0.0],[0.0,0.0,0.0,0.0,0.0,0.0,0.0],[0.0,0.0,0.0,0.0,0.0,0.0,0.0],[0.0,0.0,0.0,0.0,0.0,0.0,0.0],[0.0,0.0,0.0,0.0,0.0,0.012097584083676338,0.0],[0.0,0.0,0.0,0.0,0.0,0.0,0.0],[0.0,0.09047077596187592,0.0,0.0,0.067247673869133,0.0,0.017110925167798996],[0.08894766867160797,0.0,0.0,0.1589570790529251,0.029880719259381294,0.0,0.01484693307429552],[0.0,0.0,0.0,0.0,0.0,0.0,0.0642063170671463],[0.0,0.0,0.14828456938266754,0.0,0.0,0.0,0.0],[0.0,0.0,0.0,0.0,0.0,0.0,0.0],[0.0,0.0,0.0,0.0,0.0,0.0,0.0],[0.0,0.0,0.0,0.0,0.0,0.0,0.0],[0.0,0.0,0.0,0.0,0.0,0.0,0.0],[0.0,0.0,0.0,0.048312775790691376,0.0,0.01947495900094509,0.03502226993441582],[0.0,0.0,0.0,0.0,0.0,0.0,0.0],[1.0,0.0,0.0,0.0,0.0,0.0,0.0],[0.0,0.0,0.0,0.0,0.0,0.0,0.0],[0.0,0.0,0.19577954709529877,0.0,0.0,0.0,0.0],[0.0,0.0,0.0,0.0,0.0,0.0,0.022117549553513527],[0.0,0.0,0.0,0.0,0.03559325262904167,0.0,0.0],[0.0,0.0,0.0,0.0,0.0,0.0,0.0],[0.0,0.0,0.0,0.0,0.0,0.0,0.0],[0.0,0.0,0.0,0.0,0.0,0.0,0.0],[0.0,0.0,0.0,0.0,0.0,0.0,0.0],[0.0,0.04649911820888519,0.0,0.0,0.0,0.0,0.0],[0.0,0.0,0.0,0.0,0.0,0.0,0.0],[0.0,0.059598471969366074,0.0,0.03486059233546257,0.02290397509932518,0.05764966085553169,0.041962288320064545]],\"type\":\"heatmap\"}],                        {\"template\":{\"data\":{\"histogram2dcontour\":[{\"type\":\"histogram2dcontour\",\"colorbar\":{\"outlinewidth\":0,\"ticks\":\"\"},\"colorscale\":[[0.0,\"#0d0887\"],[0.1111111111111111,\"#46039f\"],[0.2222222222222222,\"#7201a8\"],[0.3333333333333333,\"#9c179e\"],[0.4444444444444444,\"#bd3786\"],[0.5555555555555556,\"#d8576b\"],[0.6666666666666666,\"#ed7953\"],[0.7777777777777778,\"#fb9f3a\"],[0.8888888888888888,\"#fdca26\"],[1.0,\"#f0f921\"]]}],\"choropleth\":[{\"type\":\"choropleth\",\"colorbar\":{\"outlinewidth\":0,\"ticks\":\"\"}}],\"histogram2d\":[{\"type\":\"histogram2d\",\"colorbar\":{\"outlinewidth\":0,\"ticks\":\"\"},\"colorscale\":[[0.0,\"#0d0887\"],[0.1111111111111111,\"#46039f\"],[0.2222222222222222,\"#7201a8\"],[0.3333333333333333,\"#9c179e\"],[0.4444444444444444,\"#bd3786\"],[0.5555555555555556,\"#d8576b\"],[0.6666666666666666,\"#ed7953\"],[0.7777777777777778,\"#fb9f3a\"],[0.8888888888888888,\"#fdca26\"],[1.0,\"#f0f921\"]]}],\"heatmap\":[{\"type\":\"heatmap\",\"colorbar\":{\"outlinewidth\":0,\"ticks\":\"\"},\"colorscale\":[[0.0,\"#0d0887\"],[0.1111111111111111,\"#46039f\"],[0.2222222222222222,\"#7201a8\"],[0.3333333333333333,\"#9c179e\"],[0.4444444444444444,\"#bd3786\"],[0.5555555555555556,\"#d8576b\"],[0.6666666666666666,\"#ed7953\"],[0.7777777777777778,\"#fb9f3a\"],[0.8888888888888888,\"#fdca26\"],[1.0,\"#f0f921\"]]}],\"heatmapgl\":[{\"type\":\"heatmapgl\",\"colorbar\":{\"outlinewidth\":0,\"ticks\":\"\"},\"colorscale\":[[0.0,\"#0d0887\"],[0.1111111111111111,\"#46039f\"],[0.2222222222222222,\"#7201a8\"],[0.3333333333333333,\"#9c179e\"],[0.4444444444444444,\"#bd3786\"],[0.5555555555555556,\"#d8576b\"],[0.6666666666666666,\"#ed7953\"],[0.7777777777777778,\"#fb9f3a\"],[0.8888888888888888,\"#fdca26\"],[1.0,\"#f0f921\"]]}],\"contourcarpet\":[{\"type\":\"contourcarpet\",\"colorbar\":{\"outlinewidth\":0,\"ticks\":\"\"}}],\"contour\":[{\"type\":\"contour\",\"colorbar\":{\"outlinewidth\":0,\"ticks\":\"\"},\"colorscale\":[[0.0,\"#0d0887\"],[0.1111111111111111,\"#46039f\"],[0.2222222222222222,\"#7201a8\"],[0.3333333333333333,\"#9c179e\"],[0.4444444444444444,\"#bd3786\"],[0.5555555555555556,\"#d8576b\"],[0.6666666666666666,\"#ed7953\"],[0.7777777777777778,\"#fb9f3a\"],[0.8888888888888888,\"#fdca26\"],[1.0,\"#f0f921\"]]}],\"surface\":[{\"type\":\"surface\",\"colorbar\":{\"outlinewidth\":0,\"ticks\":\"\"},\"colorscale\":[[0.0,\"#0d0887\"],[0.1111111111111111,\"#46039f\"],[0.2222222222222222,\"#7201a8\"],[0.3333333333333333,\"#9c179e\"],[0.4444444444444444,\"#bd3786\"],[0.5555555555555556,\"#d8576b\"],[0.6666666666666666,\"#ed7953\"],[0.7777777777777778,\"#fb9f3a\"],[0.8888888888888888,\"#fdca26\"],[1.0,\"#f0f921\"]]}],\"mesh3d\":[{\"type\":\"mesh3d\",\"colorbar\":{\"outlinewidth\":0,\"ticks\":\"\"}}],\"scatter\":[{\"fillpattern\":{\"fillmode\":\"overlay\",\"size\":10,\"solidity\":0.2},\"type\":\"scatter\"}],\"parcoords\":[{\"type\":\"parcoords\",\"line\":{\"colorbar\":{\"outlinewidth\":0,\"ticks\":\"\"}}}],\"scatterpolargl\":[{\"type\":\"scatterpolargl\",\"marker\":{\"colorbar\":{\"outlinewidth\":0,\"ticks\":\"\"}}}],\"bar\":[{\"error_x\":{\"color\":\"#2a3f5f\"},\"error_y\":{\"color\":\"#2a3f5f\"},\"marker\":{\"line\":{\"color\":\"#E5ECF6\",\"width\":0.5},\"pattern\":{\"fillmode\":\"overlay\",\"size\":10,\"solidity\":0.2}},\"type\":\"bar\"}],\"scattergeo\":[{\"type\":\"scattergeo\",\"marker\":{\"colorbar\":{\"outlinewidth\":0,\"ticks\":\"\"}}}],\"scatterpolar\":[{\"type\":\"scatterpolar\",\"marker\":{\"colorbar\":{\"outlinewidth\":0,\"ticks\":\"\"}}}],\"histogram\":[{\"marker\":{\"pattern\":{\"fillmode\":\"overlay\",\"size\":10,\"solidity\":0.2}},\"type\":\"histogram\"}],\"scattergl\":[{\"type\":\"scattergl\",\"marker\":{\"colorbar\":{\"outlinewidth\":0,\"ticks\":\"\"}}}],\"scatter3d\":[{\"type\":\"scatter3d\",\"line\":{\"colorbar\":{\"outlinewidth\":0,\"ticks\":\"\"}},\"marker\":{\"colorbar\":{\"outlinewidth\":0,\"ticks\":\"\"}}}],\"scattermapbox\":[{\"type\":\"scattermapbox\",\"marker\":{\"colorbar\":{\"outlinewidth\":0,\"ticks\":\"\"}}}],\"scatterternary\":[{\"type\":\"scatterternary\",\"marker\":{\"colorbar\":{\"outlinewidth\":0,\"ticks\":\"\"}}}],\"scattercarpet\":[{\"type\":\"scattercarpet\",\"marker\":{\"colorbar\":{\"outlinewidth\":0,\"ticks\":\"\"}}}],\"carpet\":[{\"aaxis\":{\"endlinecolor\":\"#2a3f5f\",\"gridcolor\":\"white\",\"linecolor\":\"white\",\"minorgridcolor\":\"white\",\"startlinecolor\":\"#2a3f5f\"},\"baxis\":{\"endlinecolor\":\"#2a3f5f\",\"gridcolor\":\"white\",\"linecolor\":\"white\",\"minorgridcolor\":\"white\",\"startlinecolor\":\"#2a3f5f\"},\"type\":\"carpet\"}],\"table\":[{\"cells\":{\"fill\":{\"color\":\"#EBF0F8\"},\"line\":{\"color\":\"white\"}},\"header\":{\"fill\":{\"color\":\"#C8D4E3\"},\"line\":{\"color\":\"white\"}},\"type\":\"table\"}],\"barpolar\":[{\"marker\":{\"line\":{\"color\":\"#E5ECF6\",\"width\":0.5},\"pattern\":{\"fillmode\":\"overlay\",\"size\":10,\"solidity\":0.2}},\"type\":\"barpolar\"}],\"pie\":[{\"automargin\":true,\"type\":\"pie\"}]},\"layout\":{\"autotypenumbers\":\"strict\",\"colorway\":[\"#636efa\",\"#EF553B\",\"#00cc96\",\"#ab63fa\",\"#FFA15A\",\"#19d3f3\",\"#FF6692\",\"#B6E880\",\"#FF97FF\",\"#FECB52\"],\"font\":{\"color\":\"#2a3f5f\"},\"hovermode\":\"closest\",\"hoverlabel\":{\"align\":\"left\"},\"paper_bgcolor\":\"white\",\"plot_bgcolor\":\"#E5ECF6\",\"polar\":{\"bgcolor\":\"#E5ECF6\",\"angularaxis\":{\"gridcolor\":\"white\",\"linecolor\":\"white\",\"ticks\":\"\"},\"radialaxis\":{\"gridcolor\":\"white\",\"linecolor\":\"white\",\"ticks\":\"\"}},\"ternary\":{\"bgcolor\":\"#E5ECF6\",\"aaxis\":{\"gridcolor\":\"white\",\"linecolor\":\"white\",\"ticks\":\"\"},\"baxis\":{\"gridcolor\":\"white\",\"linecolor\":\"white\",\"ticks\":\"\"},\"caxis\":{\"gridcolor\":\"white\",\"linecolor\":\"white\",\"ticks\":\"\"}},\"coloraxis\":{\"colorbar\":{\"outlinewidth\":0,\"ticks\":\"\"}},\"colorscale\":{\"sequential\":[[0.0,\"#0d0887\"],[0.1111111111111111,\"#46039f\"],[0.2222222222222222,\"#7201a8\"],[0.3333333333333333,\"#9c179e\"],[0.4444444444444444,\"#bd3786\"],[0.5555555555555556,\"#d8576b\"],[0.6666666666666666,\"#ed7953\"],[0.7777777777777778,\"#fb9f3a\"],[0.8888888888888888,\"#fdca26\"],[1.0,\"#f0f921\"]],\"sequentialminus\":[[0.0,\"#0d0887\"],[0.1111111111111111,\"#46039f\"],[0.2222222222222222,\"#7201a8\"],[0.3333333333333333,\"#9c179e\"],[0.4444444444444444,\"#bd3786\"],[0.5555555555555556,\"#d8576b\"],[0.6666666666666666,\"#ed7953\"],[0.7777777777777778,\"#fb9f3a\"],[0.8888888888888888,\"#fdca26\"],[1.0,\"#f0f921\"]],\"diverging\":[[0,\"#8e0152\"],[0.1,\"#c51b7d\"],[0.2,\"#de77ae\"],[0.3,\"#f1b6da\"],[0.4,\"#fde0ef\"],[0.5,\"#f7f7f7\"],[0.6,\"#e6f5d0\"],[0.7,\"#b8e186\"],[0.8,\"#7fbc41\"],[0.9,\"#4d9221\"],[1,\"#276419\"]]},\"xaxis\":{\"gridcolor\":\"white\",\"linecolor\":\"white\",\"ticks\":\"\",\"title\":{\"standoff\":15},\"zerolinecolor\":\"white\",\"automargin\":true,\"zerolinewidth\":2},\"yaxis\":{\"gridcolor\":\"white\",\"linecolor\":\"white\",\"ticks\":\"\",\"title\":{\"standoff\":15},\"zerolinecolor\":\"white\",\"automargin\":true,\"zerolinewidth\":2},\"scene\":{\"xaxis\":{\"backgroundcolor\":\"#E5ECF6\",\"gridcolor\":\"white\",\"linecolor\":\"white\",\"showbackground\":true,\"ticks\":\"\",\"zerolinecolor\":\"white\",\"gridwidth\":2},\"yaxis\":{\"backgroundcolor\":\"#E5ECF6\",\"gridcolor\":\"white\",\"linecolor\":\"white\",\"showbackground\":true,\"ticks\":\"\",\"zerolinecolor\":\"white\",\"gridwidth\":2},\"zaxis\":{\"backgroundcolor\":\"#E5ECF6\",\"gridcolor\":\"white\",\"linecolor\":\"white\",\"showbackground\":true,\"ticks\":\"\",\"zerolinecolor\":\"white\",\"gridwidth\":2}},\"shapedefaults\":{\"line\":{\"color\":\"#2a3f5f\"}},\"annotationdefaults\":{\"arrowcolor\":\"#2a3f5f\",\"arrowhead\":0,\"arrowwidth\":1},\"geo\":{\"bgcolor\":\"white\",\"landcolor\":\"#E5ECF6\",\"subunitcolor\":\"white\",\"showland\":true,\"showlakes\":true,\"lakecolor\":\"white\"},\"title\":{\"x\":0.05},\"mapbox\":{\"style\":\"light\"}}},\"title\":{\"text\":\"DGI SF : 2.0291052\"},\"xaxis\":{\"title\":{\"text\":\"Sense Features\"}},\"yaxis\":{\"title\":{\"text\":\"Dimensions\"}}},                        {\"responsive\": true}                    ).then(function(){\n",
       "                            \n",
       "var gd = document.getElementById('cfa12c44-451f-4523-880f-7ddc36155043');\n",
       "var x = new MutationObserver(function (mutations, observer) {{\n",
       "        var display = window.getComputedStyle(gd).display;\n",
       "        if (!display || display === 'none') {{\n",
       "            console.log([gd, 'removed!']);\n",
       "            Plotly.purge(gd);\n",
       "            observer.disconnect();\n",
       "        }}\n",
       "}});\n",
       "\n",
       "// Listen for the removal of the full notebook cells\n",
       "var notebookContainer = gd.closest('#notebook-container');\n",
       "if (notebookContainer) {{\n",
       "    x.observe(notebookContainer, {childList: true});\n",
       "}}\n",
       "\n",
       "// Listen for the clearing of the current output cell\n",
       "var outputEl = gd.closest('.output');\n",
       "if (outputEl) {{\n",
       "    x.observe(outputEl, {childList: true});\n",
       "}}\n",
       "\n",
       "                        })                };                });            </script>        </div>"
      ]
     },
     "metadata": {},
     "output_type": "display_data"
    },
    {
     "data": {
      "application/vnd.plotly.v1+json": {
       "config": {
        "plotlyServerURL": "https://plot.ly"
       },
       "data": [
        {
         "type": "heatmap",
         "x": [
          "Degree",
          "Clustering Coefficient",
          "Personalized Page Rank - Standard Deviation",
          "Average Neighbor Degree",
          "Average Neighbor Clustering",
          "Eccentricity",
          "Katz Centrality"
         ],
         "z": [
          [
           0,
           0.6836726069450378,
           0,
           0,
           0,
           0,
           0
          ],
          [
           0,
           0,
           0,
           0,
           0,
           0,
           0
          ],
          [
           0,
           0,
           0,
           0,
           0,
           0,
           0
          ],
          [
           0,
           0,
           0,
           0,
           0,
           0,
           0
          ],
          [
           0,
           0,
           0,
           0.790176510810852,
           0,
           0,
           0
          ],
          [
           0,
           0,
           0,
           0,
           0,
           0,
           0
          ],
          [
           0,
           0,
           0,
           0,
           0,
           0,
           0
          ],
          [
           0,
           0,
           0,
           0,
           0,
           0,
           0
          ],
          [
           0,
           0,
           0,
           0,
           0,
           0,
           0
          ],
          [
           0,
           0,
           0,
           0,
           0,
           0,
           0
          ],
          [
           0,
           0,
           0,
           0,
           0,
           0,
           0
          ],
          [
           0,
           0,
           0,
           0,
           0,
           0,
           0.1040608137845993
          ],
          [
           0,
           0,
           0,
           0,
           0,
           0,
           0
          ],
          [
           0,
           0,
           0,
           0,
           0,
           0,
           0
          ],
          [
           0,
           0,
           0,
           0,
           0,
           0,
           0.3307519853115082
          ],
          [
           0,
           0,
           0,
           0,
           0,
           0,
           0
          ],
          [
           0,
           0,
           0,
           0,
           0,
           0,
           0
          ],
          [
           0,
           0,
           0,
           0,
           0,
           0,
           0
          ],
          [
           0,
           0,
           0,
           0,
           0.3142992854118347,
           0,
           0
          ],
          [
           0,
           0,
           0,
           0,
           0,
           0,
           0
          ],
          [
           0,
           0,
           0,
           0,
           0,
           0,
           0.05643049255013466
          ],
          [
           0,
           0,
           0,
           0,
           0,
           0,
           0
          ],
          [
           0,
           0,
           0.6738503575325012,
           0,
           0,
           0,
           0
          ],
          [
           0,
           0,
           0,
           0,
           0,
           0.027086885645985603,
           0
          ],
          [
           0,
           0,
           0,
           0,
           0,
           0,
           0
          ],
          [
           0,
           0,
           0,
           0,
           0,
           1,
           0
          ],
          [
           0,
           0,
           0,
           0,
           0,
           0,
           0
          ],
          [
           0,
           0,
           0,
           0,
           0,
           0,
           0.18283632397651672
          ],
          [
           0.6785998344421387,
           0,
           0,
           0,
           0.32522517442703247,
           0,
           0
          ],
          [
           0,
           0,
           0,
           0,
           0,
           0,
           0
          ],
          [
           0,
           0,
           0,
           0,
           0,
           0,
           0
          ],
          [
           0,
           0,
           0,
           0,
           0,
           0,
           0
          ]
         ]
        }
       ],
       "layout": {
        "template": {
         "data": {
          "bar": [
           {
            "error_x": {
             "color": "#2a3f5f"
            },
            "error_y": {
             "color": "#2a3f5f"
            },
            "marker": {
             "line": {
              "color": "#E5ECF6",
              "width": 0.5
             },
             "pattern": {
              "fillmode": "overlay",
              "size": 10,
              "solidity": 0.2
             }
            },
            "type": "bar"
           }
          ],
          "barpolar": [
           {
            "marker": {
             "line": {
              "color": "#E5ECF6",
              "width": 0.5
             },
             "pattern": {
              "fillmode": "overlay",
              "size": 10,
              "solidity": 0.2
             }
            },
            "type": "barpolar"
           }
          ],
          "carpet": [
           {
            "aaxis": {
             "endlinecolor": "#2a3f5f",
             "gridcolor": "white",
             "linecolor": "white",
             "minorgridcolor": "white",
             "startlinecolor": "#2a3f5f"
            },
            "baxis": {
             "endlinecolor": "#2a3f5f",
             "gridcolor": "white",
             "linecolor": "white",
             "minorgridcolor": "white",
             "startlinecolor": "#2a3f5f"
            },
            "type": "carpet"
           }
          ],
          "choropleth": [
           {
            "colorbar": {
             "outlinewidth": 0,
             "ticks": ""
            },
            "type": "choropleth"
           }
          ],
          "contour": [
           {
            "colorbar": {
             "outlinewidth": 0,
             "ticks": ""
            },
            "colorscale": [
             [
              0,
              "#0d0887"
             ],
             [
              0.1111111111111111,
              "#46039f"
             ],
             [
              0.2222222222222222,
              "#7201a8"
             ],
             [
              0.3333333333333333,
              "#9c179e"
             ],
             [
              0.4444444444444444,
              "#bd3786"
             ],
             [
              0.5555555555555556,
              "#d8576b"
             ],
             [
              0.6666666666666666,
              "#ed7953"
             ],
             [
              0.7777777777777778,
              "#fb9f3a"
             ],
             [
              0.8888888888888888,
              "#fdca26"
             ],
             [
              1,
              "#f0f921"
             ]
            ],
            "type": "contour"
           }
          ],
          "contourcarpet": [
           {
            "colorbar": {
             "outlinewidth": 0,
             "ticks": ""
            },
            "type": "contourcarpet"
           }
          ],
          "heatmap": [
           {
            "colorbar": {
             "outlinewidth": 0,
             "ticks": ""
            },
            "colorscale": [
             [
              0,
              "#0d0887"
             ],
             [
              0.1111111111111111,
              "#46039f"
             ],
             [
              0.2222222222222222,
              "#7201a8"
             ],
             [
              0.3333333333333333,
              "#9c179e"
             ],
             [
              0.4444444444444444,
              "#bd3786"
             ],
             [
              0.5555555555555556,
              "#d8576b"
             ],
             [
              0.6666666666666666,
              "#ed7953"
             ],
             [
              0.7777777777777778,
              "#fb9f3a"
             ],
             [
              0.8888888888888888,
              "#fdca26"
             ],
             [
              1,
              "#f0f921"
             ]
            ],
            "type": "heatmap"
           }
          ],
          "heatmapgl": [
           {
            "colorbar": {
             "outlinewidth": 0,
             "ticks": ""
            },
            "colorscale": [
             [
              0,
              "#0d0887"
             ],
             [
              0.1111111111111111,
              "#46039f"
             ],
             [
              0.2222222222222222,
              "#7201a8"
             ],
             [
              0.3333333333333333,
              "#9c179e"
             ],
             [
              0.4444444444444444,
              "#bd3786"
             ],
             [
              0.5555555555555556,
              "#d8576b"
             ],
             [
              0.6666666666666666,
              "#ed7953"
             ],
             [
              0.7777777777777778,
              "#fb9f3a"
             ],
             [
              0.8888888888888888,
              "#fdca26"
             ],
             [
              1,
              "#f0f921"
             ]
            ],
            "type": "heatmapgl"
           }
          ],
          "histogram": [
           {
            "marker": {
             "pattern": {
              "fillmode": "overlay",
              "size": 10,
              "solidity": 0.2
             }
            },
            "type": "histogram"
           }
          ],
          "histogram2d": [
           {
            "colorbar": {
             "outlinewidth": 0,
             "ticks": ""
            },
            "colorscale": [
             [
              0,
              "#0d0887"
             ],
             [
              0.1111111111111111,
              "#46039f"
             ],
             [
              0.2222222222222222,
              "#7201a8"
             ],
             [
              0.3333333333333333,
              "#9c179e"
             ],
             [
              0.4444444444444444,
              "#bd3786"
             ],
             [
              0.5555555555555556,
              "#d8576b"
             ],
             [
              0.6666666666666666,
              "#ed7953"
             ],
             [
              0.7777777777777778,
              "#fb9f3a"
             ],
             [
              0.8888888888888888,
              "#fdca26"
             ],
             [
              1,
              "#f0f921"
             ]
            ],
            "type": "histogram2d"
           }
          ],
          "histogram2dcontour": [
           {
            "colorbar": {
             "outlinewidth": 0,
             "ticks": ""
            },
            "colorscale": [
             [
              0,
              "#0d0887"
             ],
             [
              0.1111111111111111,
              "#46039f"
             ],
             [
              0.2222222222222222,
              "#7201a8"
             ],
             [
              0.3333333333333333,
              "#9c179e"
             ],
             [
              0.4444444444444444,
              "#bd3786"
             ],
             [
              0.5555555555555556,
              "#d8576b"
             ],
             [
              0.6666666666666666,
              "#ed7953"
             ],
             [
              0.7777777777777778,
              "#fb9f3a"
             ],
             [
              0.8888888888888888,
              "#fdca26"
             ],
             [
              1,
              "#f0f921"
             ]
            ],
            "type": "histogram2dcontour"
           }
          ],
          "mesh3d": [
           {
            "colorbar": {
             "outlinewidth": 0,
             "ticks": ""
            },
            "type": "mesh3d"
           }
          ],
          "parcoords": [
           {
            "line": {
             "colorbar": {
              "outlinewidth": 0,
              "ticks": ""
             }
            },
            "type": "parcoords"
           }
          ],
          "pie": [
           {
            "automargin": true,
            "type": "pie"
           }
          ],
          "scatter": [
           {
            "fillpattern": {
             "fillmode": "overlay",
             "size": 10,
             "solidity": 0.2
            },
            "type": "scatter"
           }
          ],
          "scatter3d": [
           {
            "line": {
             "colorbar": {
              "outlinewidth": 0,
              "ticks": ""
             }
            },
            "marker": {
             "colorbar": {
              "outlinewidth": 0,
              "ticks": ""
             }
            },
            "type": "scatter3d"
           }
          ],
          "scattercarpet": [
           {
            "marker": {
             "colorbar": {
              "outlinewidth": 0,
              "ticks": ""
             }
            },
            "type": "scattercarpet"
           }
          ],
          "scattergeo": [
           {
            "marker": {
             "colorbar": {
              "outlinewidth": 0,
              "ticks": ""
             }
            },
            "type": "scattergeo"
           }
          ],
          "scattergl": [
           {
            "marker": {
             "colorbar": {
              "outlinewidth": 0,
              "ticks": ""
             }
            },
            "type": "scattergl"
           }
          ],
          "scattermapbox": [
           {
            "marker": {
             "colorbar": {
              "outlinewidth": 0,
              "ticks": ""
             }
            },
            "type": "scattermapbox"
           }
          ],
          "scatterpolar": [
           {
            "marker": {
             "colorbar": {
              "outlinewidth": 0,
              "ticks": ""
             }
            },
            "type": "scatterpolar"
           }
          ],
          "scatterpolargl": [
           {
            "marker": {
             "colorbar": {
              "outlinewidth": 0,
              "ticks": ""
             }
            },
            "type": "scatterpolargl"
           }
          ],
          "scatterternary": [
           {
            "marker": {
             "colorbar": {
              "outlinewidth": 0,
              "ticks": ""
             }
            },
            "type": "scatterternary"
           }
          ],
          "surface": [
           {
            "colorbar": {
             "outlinewidth": 0,
             "ticks": ""
            },
            "colorscale": [
             [
              0,
              "#0d0887"
             ],
             [
              0.1111111111111111,
              "#46039f"
             ],
             [
              0.2222222222222222,
              "#7201a8"
             ],
             [
              0.3333333333333333,
              "#9c179e"
             ],
             [
              0.4444444444444444,
              "#bd3786"
             ],
             [
              0.5555555555555556,
              "#d8576b"
             ],
             [
              0.6666666666666666,
              "#ed7953"
             ],
             [
              0.7777777777777778,
              "#fb9f3a"
             ],
             [
              0.8888888888888888,
              "#fdca26"
             ],
             [
              1,
              "#f0f921"
             ]
            ],
            "type": "surface"
           }
          ],
          "table": [
           {
            "cells": {
             "fill": {
              "color": "#EBF0F8"
             },
             "line": {
              "color": "white"
             }
            },
            "header": {
             "fill": {
              "color": "#C8D4E3"
             },
             "line": {
              "color": "white"
             }
            },
            "type": "table"
           }
          ]
         },
         "layout": {
          "annotationdefaults": {
           "arrowcolor": "#2a3f5f",
           "arrowhead": 0,
           "arrowwidth": 1
          },
          "autotypenumbers": "strict",
          "coloraxis": {
           "colorbar": {
            "outlinewidth": 0,
            "ticks": ""
           }
          },
          "colorscale": {
           "diverging": [
            [
             0,
             "#8e0152"
            ],
            [
             0.1,
             "#c51b7d"
            ],
            [
             0.2,
             "#de77ae"
            ],
            [
             0.3,
             "#f1b6da"
            ],
            [
             0.4,
             "#fde0ef"
            ],
            [
             0.5,
             "#f7f7f7"
            ],
            [
             0.6,
             "#e6f5d0"
            ],
            [
             0.7,
             "#b8e186"
            ],
            [
             0.8,
             "#7fbc41"
            ],
            [
             0.9,
             "#4d9221"
            ],
            [
             1,
             "#276419"
            ]
           ],
           "sequential": [
            [
             0,
             "#0d0887"
            ],
            [
             0.1111111111111111,
             "#46039f"
            ],
            [
             0.2222222222222222,
             "#7201a8"
            ],
            [
             0.3333333333333333,
             "#9c179e"
            ],
            [
             0.4444444444444444,
             "#bd3786"
            ],
            [
             0.5555555555555556,
             "#d8576b"
            ],
            [
             0.6666666666666666,
             "#ed7953"
            ],
            [
             0.7777777777777778,
             "#fb9f3a"
            ],
            [
             0.8888888888888888,
             "#fdca26"
            ],
            [
             1,
             "#f0f921"
            ]
           ],
           "sequentialminus": [
            [
             0,
             "#0d0887"
            ],
            [
             0.1111111111111111,
             "#46039f"
            ],
            [
             0.2222222222222222,
             "#7201a8"
            ],
            [
             0.3333333333333333,
             "#9c179e"
            ],
            [
             0.4444444444444444,
             "#bd3786"
            ],
            [
             0.5555555555555556,
             "#d8576b"
            ],
            [
             0.6666666666666666,
             "#ed7953"
            ],
            [
             0.7777777777777778,
             "#fb9f3a"
            ],
            [
             0.8888888888888888,
             "#fdca26"
            ],
            [
             1,
             "#f0f921"
            ]
           ]
          },
          "colorway": [
           "#636efa",
           "#EF553B",
           "#00cc96",
           "#ab63fa",
           "#FFA15A",
           "#19d3f3",
           "#FF6692",
           "#B6E880",
           "#FF97FF",
           "#FECB52"
          ],
          "font": {
           "color": "#2a3f5f"
          },
          "geo": {
           "bgcolor": "white",
           "lakecolor": "white",
           "landcolor": "#E5ECF6",
           "showlakes": true,
           "showland": true,
           "subunitcolor": "white"
          },
          "hoverlabel": {
           "align": "left"
          },
          "hovermode": "closest",
          "mapbox": {
           "style": "light"
          },
          "paper_bgcolor": "white",
          "plot_bgcolor": "#E5ECF6",
          "polar": {
           "angularaxis": {
            "gridcolor": "white",
            "linecolor": "white",
            "ticks": ""
           },
           "bgcolor": "#E5ECF6",
           "radialaxis": {
            "gridcolor": "white",
            "linecolor": "white",
            "ticks": ""
           }
          },
          "scene": {
           "xaxis": {
            "backgroundcolor": "#E5ECF6",
            "gridcolor": "white",
            "gridwidth": 2,
            "linecolor": "white",
            "showbackground": true,
            "ticks": "",
            "zerolinecolor": "white"
           },
           "yaxis": {
            "backgroundcolor": "#E5ECF6",
            "gridcolor": "white",
            "gridwidth": 2,
            "linecolor": "white",
            "showbackground": true,
            "ticks": "",
            "zerolinecolor": "white"
           },
           "zaxis": {
            "backgroundcolor": "#E5ECF6",
            "gridcolor": "white",
            "gridwidth": 2,
            "linecolor": "white",
            "showbackground": true,
            "ticks": "",
            "zerolinecolor": "white"
           }
          },
          "shapedefaults": {
           "line": {
            "color": "#2a3f5f"
           }
          },
          "ternary": {
           "aaxis": {
            "gridcolor": "white",
            "linecolor": "white",
            "ticks": ""
           },
           "baxis": {
            "gridcolor": "white",
            "linecolor": "white",
            "ticks": ""
           },
           "bgcolor": "#E5ECF6",
           "caxis": {
            "gridcolor": "white",
            "linecolor": "white",
            "ticks": ""
           }
          },
          "title": {
           "x": 0.05
          },
          "xaxis": {
           "automargin": true,
           "gridcolor": "white",
           "linecolor": "white",
           "ticks": "",
           "title": {
            "standoff": 15
           },
           "zerolinecolor": "white",
           "zerolinewidth": 2
          },
          "yaxis": {
           "automargin": true,
           "gridcolor": "white",
           "linecolor": "white",
           "ticks": "",
           "title": {
            "standoff": 15
           },
           "zerolinecolor": "white",
           "zerolinewidth": 2
          }
         }
        },
        "title": {
         "text": "DGI+ : 4.5889015"
        },
        "xaxis": {
         "title": {
          "text": "Sense Features"
         }
        },
        "yaxis": {
         "title": {
          "text": "Dimensions"
         }
        }
       }
      },
      "text/html": [
       "<div>                            <div id=\"0a34d7cf-8491-4604-9566-eeb8cddbf4d6\" class=\"plotly-graph-div\" style=\"height:525px; width:100%;\"></div>            <script type=\"text/javascript\">                require([\"plotly\"], function(Plotly) {                    window.PLOTLYENV=window.PLOTLYENV || {};                                    if (document.getElementById(\"0a34d7cf-8491-4604-9566-eeb8cddbf4d6\")) {                    Plotly.newPlot(                        \"0a34d7cf-8491-4604-9566-eeb8cddbf4d6\",                        [{\"x\":[\"Degree\",\"Clustering Coefficient\",\"Personalized Page Rank - Standard Deviation\",\"Average Neighbor Degree\",\"Average Neighbor Clustering\",\"Eccentricity\",\"Katz Centrality\"],\"z\":[[0.0,0.6836726069450378,0.0,0.0,0.0,0.0,0.0],[0.0,0.0,0.0,0.0,0.0,0.0,0.0],[0.0,0.0,0.0,0.0,0.0,0.0,0.0],[0.0,0.0,0.0,0.0,0.0,0.0,0.0],[0.0,0.0,0.0,0.790176510810852,0.0,0.0,0.0],[0.0,0.0,0.0,0.0,0.0,0.0,0.0],[0.0,0.0,0.0,0.0,0.0,0.0,0.0],[0.0,0.0,0.0,0.0,0.0,0.0,0.0],[0.0,0.0,0.0,0.0,0.0,0.0,0.0],[0.0,0.0,0.0,0.0,0.0,0.0,0.0],[0.0,0.0,0.0,0.0,0.0,0.0,0.0],[0.0,0.0,0.0,0.0,0.0,0.0,0.1040608137845993],[0.0,0.0,0.0,0.0,0.0,0.0,0.0],[0.0,0.0,0.0,0.0,0.0,0.0,0.0],[0.0,0.0,0.0,0.0,0.0,0.0,0.3307519853115082],[0.0,0.0,0.0,0.0,0.0,0.0,0.0],[0.0,0.0,0.0,0.0,0.0,0.0,0.0],[0.0,0.0,0.0,0.0,0.0,0.0,0.0],[0.0,0.0,0.0,0.0,0.3142992854118347,0.0,0.0],[0.0,0.0,0.0,0.0,0.0,0.0,0.0],[0.0,0.0,0.0,0.0,0.0,0.0,0.05643049255013466],[0.0,0.0,0.0,0.0,0.0,0.0,0.0],[0.0,0.0,0.6738503575325012,0.0,0.0,0.0,0.0],[0.0,0.0,0.0,0.0,0.0,0.027086885645985603,0.0],[0.0,0.0,0.0,0.0,0.0,0.0,0.0],[0.0,0.0,0.0,0.0,0.0,1.0,0.0],[0.0,0.0,0.0,0.0,0.0,0.0,0.0],[0.0,0.0,0.0,0.0,0.0,0.0,0.18283632397651672],[0.6785998344421387,0.0,0.0,0.0,0.32522517442703247,0.0,0.0],[0.0,0.0,0.0,0.0,0.0,0.0,0.0],[0.0,0.0,0.0,0.0,0.0,0.0,0.0],[0.0,0.0,0.0,0.0,0.0,0.0,0.0]],\"type\":\"heatmap\"}],                        {\"template\":{\"data\":{\"histogram2dcontour\":[{\"type\":\"histogram2dcontour\",\"colorbar\":{\"outlinewidth\":0,\"ticks\":\"\"},\"colorscale\":[[0.0,\"#0d0887\"],[0.1111111111111111,\"#46039f\"],[0.2222222222222222,\"#7201a8\"],[0.3333333333333333,\"#9c179e\"],[0.4444444444444444,\"#bd3786\"],[0.5555555555555556,\"#d8576b\"],[0.6666666666666666,\"#ed7953\"],[0.7777777777777778,\"#fb9f3a\"],[0.8888888888888888,\"#fdca26\"],[1.0,\"#f0f921\"]]}],\"choropleth\":[{\"type\":\"choropleth\",\"colorbar\":{\"outlinewidth\":0,\"ticks\":\"\"}}],\"histogram2d\":[{\"type\":\"histogram2d\",\"colorbar\":{\"outlinewidth\":0,\"ticks\":\"\"},\"colorscale\":[[0.0,\"#0d0887\"],[0.1111111111111111,\"#46039f\"],[0.2222222222222222,\"#7201a8\"],[0.3333333333333333,\"#9c179e\"],[0.4444444444444444,\"#bd3786\"],[0.5555555555555556,\"#d8576b\"],[0.6666666666666666,\"#ed7953\"],[0.7777777777777778,\"#fb9f3a\"],[0.8888888888888888,\"#fdca26\"],[1.0,\"#f0f921\"]]}],\"heatmap\":[{\"type\":\"heatmap\",\"colorbar\":{\"outlinewidth\":0,\"ticks\":\"\"},\"colorscale\":[[0.0,\"#0d0887\"],[0.1111111111111111,\"#46039f\"],[0.2222222222222222,\"#7201a8\"],[0.3333333333333333,\"#9c179e\"],[0.4444444444444444,\"#bd3786\"],[0.5555555555555556,\"#d8576b\"],[0.6666666666666666,\"#ed7953\"],[0.7777777777777778,\"#fb9f3a\"],[0.8888888888888888,\"#fdca26\"],[1.0,\"#f0f921\"]]}],\"heatmapgl\":[{\"type\":\"heatmapgl\",\"colorbar\":{\"outlinewidth\":0,\"ticks\":\"\"},\"colorscale\":[[0.0,\"#0d0887\"],[0.1111111111111111,\"#46039f\"],[0.2222222222222222,\"#7201a8\"],[0.3333333333333333,\"#9c179e\"],[0.4444444444444444,\"#bd3786\"],[0.5555555555555556,\"#d8576b\"],[0.6666666666666666,\"#ed7953\"],[0.7777777777777778,\"#fb9f3a\"],[0.8888888888888888,\"#fdca26\"],[1.0,\"#f0f921\"]]}],\"contourcarpet\":[{\"type\":\"contourcarpet\",\"colorbar\":{\"outlinewidth\":0,\"ticks\":\"\"}}],\"contour\":[{\"type\":\"contour\",\"colorbar\":{\"outlinewidth\":0,\"ticks\":\"\"},\"colorscale\":[[0.0,\"#0d0887\"],[0.1111111111111111,\"#46039f\"],[0.2222222222222222,\"#7201a8\"],[0.3333333333333333,\"#9c179e\"],[0.4444444444444444,\"#bd3786\"],[0.5555555555555556,\"#d8576b\"],[0.6666666666666666,\"#ed7953\"],[0.7777777777777778,\"#fb9f3a\"],[0.8888888888888888,\"#fdca26\"],[1.0,\"#f0f921\"]]}],\"surface\":[{\"type\":\"surface\",\"colorbar\":{\"outlinewidth\":0,\"ticks\":\"\"},\"colorscale\":[[0.0,\"#0d0887\"],[0.1111111111111111,\"#46039f\"],[0.2222222222222222,\"#7201a8\"],[0.3333333333333333,\"#9c179e\"],[0.4444444444444444,\"#bd3786\"],[0.5555555555555556,\"#d8576b\"],[0.6666666666666666,\"#ed7953\"],[0.7777777777777778,\"#fb9f3a\"],[0.8888888888888888,\"#fdca26\"],[1.0,\"#f0f921\"]]}],\"mesh3d\":[{\"type\":\"mesh3d\",\"colorbar\":{\"outlinewidth\":0,\"ticks\":\"\"}}],\"scatter\":[{\"fillpattern\":{\"fillmode\":\"overlay\",\"size\":10,\"solidity\":0.2},\"type\":\"scatter\"}],\"parcoords\":[{\"type\":\"parcoords\",\"line\":{\"colorbar\":{\"outlinewidth\":0,\"ticks\":\"\"}}}],\"scatterpolargl\":[{\"type\":\"scatterpolargl\",\"marker\":{\"colorbar\":{\"outlinewidth\":0,\"ticks\":\"\"}}}],\"bar\":[{\"error_x\":{\"color\":\"#2a3f5f\"},\"error_y\":{\"color\":\"#2a3f5f\"},\"marker\":{\"line\":{\"color\":\"#E5ECF6\",\"width\":0.5},\"pattern\":{\"fillmode\":\"overlay\",\"size\":10,\"solidity\":0.2}},\"type\":\"bar\"}],\"scattergeo\":[{\"type\":\"scattergeo\",\"marker\":{\"colorbar\":{\"outlinewidth\":0,\"ticks\":\"\"}}}],\"scatterpolar\":[{\"type\":\"scatterpolar\",\"marker\":{\"colorbar\":{\"outlinewidth\":0,\"ticks\":\"\"}}}],\"histogram\":[{\"marker\":{\"pattern\":{\"fillmode\":\"overlay\",\"size\":10,\"solidity\":0.2}},\"type\":\"histogram\"}],\"scattergl\":[{\"type\":\"scattergl\",\"marker\":{\"colorbar\":{\"outlinewidth\":0,\"ticks\":\"\"}}}],\"scatter3d\":[{\"type\":\"scatter3d\",\"line\":{\"colorbar\":{\"outlinewidth\":0,\"ticks\":\"\"}},\"marker\":{\"colorbar\":{\"outlinewidth\":0,\"ticks\":\"\"}}}],\"scattermapbox\":[{\"type\":\"scattermapbox\",\"marker\":{\"colorbar\":{\"outlinewidth\":0,\"ticks\":\"\"}}}],\"scatterternary\":[{\"type\":\"scatterternary\",\"marker\":{\"colorbar\":{\"outlinewidth\":0,\"ticks\":\"\"}}}],\"scattercarpet\":[{\"type\":\"scattercarpet\",\"marker\":{\"colorbar\":{\"outlinewidth\":0,\"ticks\":\"\"}}}],\"carpet\":[{\"aaxis\":{\"endlinecolor\":\"#2a3f5f\",\"gridcolor\":\"white\",\"linecolor\":\"white\",\"minorgridcolor\":\"white\",\"startlinecolor\":\"#2a3f5f\"},\"baxis\":{\"endlinecolor\":\"#2a3f5f\",\"gridcolor\":\"white\",\"linecolor\":\"white\",\"minorgridcolor\":\"white\",\"startlinecolor\":\"#2a3f5f\"},\"type\":\"carpet\"}],\"table\":[{\"cells\":{\"fill\":{\"color\":\"#EBF0F8\"},\"line\":{\"color\":\"white\"}},\"header\":{\"fill\":{\"color\":\"#C8D4E3\"},\"line\":{\"color\":\"white\"}},\"type\":\"table\"}],\"barpolar\":[{\"marker\":{\"line\":{\"color\":\"#E5ECF6\",\"width\":0.5},\"pattern\":{\"fillmode\":\"overlay\",\"size\":10,\"solidity\":0.2}},\"type\":\"barpolar\"}],\"pie\":[{\"automargin\":true,\"type\":\"pie\"}]},\"layout\":{\"autotypenumbers\":\"strict\",\"colorway\":[\"#636efa\",\"#EF553B\",\"#00cc96\",\"#ab63fa\",\"#FFA15A\",\"#19d3f3\",\"#FF6692\",\"#B6E880\",\"#FF97FF\",\"#FECB52\"],\"font\":{\"color\":\"#2a3f5f\"},\"hovermode\":\"closest\",\"hoverlabel\":{\"align\":\"left\"},\"paper_bgcolor\":\"white\",\"plot_bgcolor\":\"#E5ECF6\",\"polar\":{\"bgcolor\":\"#E5ECF6\",\"angularaxis\":{\"gridcolor\":\"white\",\"linecolor\":\"white\",\"ticks\":\"\"},\"radialaxis\":{\"gridcolor\":\"white\",\"linecolor\":\"white\",\"ticks\":\"\"}},\"ternary\":{\"bgcolor\":\"#E5ECF6\",\"aaxis\":{\"gridcolor\":\"white\",\"linecolor\":\"white\",\"ticks\":\"\"},\"baxis\":{\"gridcolor\":\"white\",\"linecolor\":\"white\",\"ticks\":\"\"},\"caxis\":{\"gridcolor\":\"white\",\"linecolor\":\"white\",\"ticks\":\"\"}},\"coloraxis\":{\"colorbar\":{\"outlinewidth\":0,\"ticks\":\"\"}},\"colorscale\":{\"sequential\":[[0.0,\"#0d0887\"],[0.1111111111111111,\"#46039f\"],[0.2222222222222222,\"#7201a8\"],[0.3333333333333333,\"#9c179e\"],[0.4444444444444444,\"#bd3786\"],[0.5555555555555556,\"#d8576b\"],[0.6666666666666666,\"#ed7953\"],[0.7777777777777778,\"#fb9f3a\"],[0.8888888888888888,\"#fdca26\"],[1.0,\"#f0f921\"]],\"sequentialminus\":[[0.0,\"#0d0887\"],[0.1111111111111111,\"#46039f\"],[0.2222222222222222,\"#7201a8\"],[0.3333333333333333,\"#9c179e\"],[0.4444444444444444,\"#bd3786\"],[0.5555555555555556,\"#d8576b\"],[0.6666666666666666,\"#ed7953\"],[0.7777777777777778,\"#fb9f3a\"],[0.8888888888888888,\"#fdca26\"],[1.0,\"#f0f921\"]],\"diverging\":[[0,\"#8e0152\"],[0.1,\"#c51b7d\"],[0.2,\"#de77ae\"],[0.3,\"#f1b6da\"],[0.4,\"#fde0ef\"],[0.5,\"#f7f7f7\"],[0.6,\"#e6f5d0\"],[0.7,\"#b8e186\"],[0.8,\"#7fbc41\"],[0.9,\"#4d9221\"],[1,\"#276419\"]]},\"xaxis\":{\"gridcolor\":\"white\",\"linecolor\":\"white\",\"ticks\":\"\",\"title\":{\"standoff\":15},\"zerolinecolor\":\"white\",\"automargin\":true,\"zerolinewidth\":2},\"yaxis\":{\"gridcolor\":\"white\",\"linecolor\":\"white\",\"ticks\":\"\",\"title\":{\"standoff\":15},\"zerolinecolor\":\"white\",\"automargin\":true,\"zerolinewidth\":2},\"scene\":{\"xaxis\":{\"backgroundcolor\":\"#E5ECF6\",\"gridcolor\":\"white\",\"linecolor\":\"white\",\"showbackground\":true,\"ticks\":\"\",\"zerolinecolor\":\"white\",\"gridwidth\":2},\"yaxis\":{\"backgroundcolor\":\"#E5ECF6\",\"gridcolor\":\"white\",\"linecolor\":\"white\",\"showbackground\":true,\"ticks\":\"\",\"zerolinecolor\":\"white\",\"gridwidth\":2},\"zaxis\":{\"backgroundcolor\":\"#E5ECF6\",\"gridcolor\":\"white\",\"linecolor\":\"white\",\"showbackground\":true,\"ticks\":\"\",\"zerolinecolor\":\"white\",\"gridwidth\":2}},\"shapedefaults\":{\"line\":{\"color\":\"#2a3f5f\"}},\"annotationdefaults\":{\"arrowcolor\":\"#2a3f5f\",\"arrowhead\":0,\"arrowwidth\":1},\"geo\":{\"bgcolor\":\"white\",\"landcolor\":\"#E5ECF6\",\"subunitcolor\":\"white\",\"showland\":true,\"showlakes\":true,\"lakecolor\":\"white\"},\"title\":{\"x\":0.05},\"mapbox\":{\"style\":\"light\"}}},\"title\":{\"text\":\"DGI+ : 4.5889015\"},\"xaxis\":{\"title\":{\"text\":\"Sense Features\"}},\"yaxis\":{\"title\":{\"text\":\"Dimensions\"}}},                        {\"responsive\": true}                    ).then(function(){\n",
       "                            \n",
       "var gd = document.getElementById('0a34d7cf-8491-4604-9566-eeb8cddbf4d6');\n",
       "var x = new MutationObserver(function (mutations, observer) {{\n",
       "        var display = window.getComputedStyle(gd).display;\n",
       "        if (!display || display === 'none') {{\n",
       "            console.log([gd, 'removed!']);\n",
       "            Plotly.purge(gd);\n",
       "            observer.disconnect();\n",
       "        }}\n",
       "}});\n",
       "\n",
       "// Listen for the removal of the full notebook cells\n",
       "var notebookContainer = gd.closest('#notebook-container');\n",
       "if (notebookContainer) {{\n",
       "    x.observe(notebookContainer, {childList: true});\n",
       "}}\n",
       "\n",
       "// Listen for the clearing of the current output cell\n",
       "var outputEl = gd.closest('.output');\n",
       "if (outputEl) {{\n",
       "    x.observe(outputEl, {childList: true});\n",
       "}}\n",
       "\n",
       "                        })                };                });            </script>        </div>"
      ]
     },
     "metadata": {},
     "output_type": "display_data"
    }
   ],
   "source": [
    "fig = go.Figure()\n",
    "fig.add_trace(go.Heatmap(z = explain_id,\n",
    "                         x = list(sense_feat_dict), \n",
    "                         ))\n",
    "fig.update_layout(title_text = 'DGI ID : ' + str(np.linalg.norm(explain_id, ord = 'nuc')), \n",
    "                  xaxis_title_text = 'Sense Features', \n",
    "                  yaxis_title_text = 'Dimensions')\n",
    "\n",
    "fig.show()\n",
    "\n",
    "fig = go.Figure()\n",
    "fig.add_trace(go.Heatmap(z = explain_og,\n",
    "                         x = list(sense_feat_dict), \n",
    "                         ))\n",
    "fig.update_layout(title_text = 'DGI SF : ' + str(np.linalg.norm(explain_og, ord = 'nuc')), \n",
    "                  xaxis_title_text = 'Sense Features', \n",
    "                  yaxis_title_text = 'Dimensions')\n",
    "\n",
    "fig.show()\n",
    "\n",
    "\n",
    "fig = go.Figure()\n",
    "fig.add_trace(go.Heatmap(z = explain_plus,\n",
    "                         x = list(sense_feat_dict), \n",
    "                         ))\n",
    "fig.update_layout(title_text = 'DGI+ : ' + str(np.linalg.norm(explain_plus, ord = 'nuc')), \n",
    "                  xaxis_title_text = 'Sense Features', \n",
    "                  yaxis_title_text = 'Dimensions')\n",
    "\n",
    "fig.show()\n",
    "\n"
   ]
  },
  {
   "cell_type": "code",
   "execution_count": null,
   "id": "c21268d1",
   "metadata": {},
   "outputs": [],
   "source": []
  },
  {
   "cell_type": "code",
   "execution_count": null,
   "id": "327e0061",
   "metadata": {},
   "outputs": [],
   "source": []
  },
  {
   "cell_type": "code",
   "execution_count": 149,
   "id": "cd323711",
   "metadata": {},
   "outputs": [],
   "source": [
    "Y_plus = embed_plus\n",
    "sense_mat = tf.einsum('ij, ik -> ijk', Y_plus, sense_features)\n",
    "Y_plus_norm = tf.linalg.diag_part(tf.matmul(Y_plus, Y_plus, transpose_b = True), k = 0)\n",
    "sense_norm = tf.linalg.diag_part(tf.matmul(sense_features, sense_features, transpose_b = True), k = 0)\n",
    "norm = Y_plus_norm * tf.cast(sense_norm, tf.float32)\n",
    "D_plus = tf.transpose(tf.transpose(sense_mat) / norm)"
   ]
  },
  {
   "cell_type": "code",
   "execution_count": 150,
   "id": "8e16c3d0",
   "metadata": {},
   "outputs": [],
   "source": [
    "Y_og = embed_og\n",
    "sense_mat = tf.einsum('ij, ik -> ijk', Y_og, sense_features)\n",
    "Y_og_norm = tf.linalg.diag_part(tf.matmul(Y_og, Y_og, transpose_b = True), k = 0)\n",
    "sense_norm = tf.linalg.diag_part(tf.matmul(sense_features, sense_features, transpose_b = True), k = 0)\n",
    "norm = Y_og_norm * tf.cast(sense_norm, tf.float32)\n",
    "D_og = tf.transpose(tf.transpose(sense_mat) / norm)"
   ]
  },
  {
   "cell_type": "code",
   "execution_count": 151,
   "id": "3e111376",
   "metadata": {},
   "outputs": [],
   "source": [
    "Y_id = embed_id\n",
    "sense_mat = tf.einsum('ij, ik -> ijk', Y_id, sense_features)\n",
    "Y_id_norm = tf.linalg.diag_part(tf.matmul(Y_id, Y_id, transpose_b = True), k = 0)\n",
    "sense_norm = tf.linalg.diag_part(tf.matmul(sense_features, sense_features, transpose_b = True), k = 0)\n",
    "norm = Y_id_norm * tf.cast(sense_norm, tf.float32)\n",
    "D_id = tf.transpose(tf.transpose(sense_mat) / norm)"
   ]
  },
  {
   "cell_type": "code",
   "execution_count": 152,
   "id": "da5ffe1f",
   "metadata": {},
   "outputs": [
    {
     "name": "stderr",
     "output_type": "stream",
     "text": [
      "100%|███████████████████████████████████████| 1186/1186 [00:31<00:00, 37.68it/s]\n",
      "100%|██████████████████████████████████████| 1186/1186 [00:02<00:00, 543.03it/s]\n",
      "100%|██████████████████████████████████████| 1186/1186 [00:02<00:00, 539.20it/s]\n"
     ]
    }
   ],
   "source": [
    "norm_og = [np.linalg.norm(D_og[node, :, :], ord = 'nuc') for node in tqdm(range(len(graph)))]\n",
    "norm_plus = [np.linalg.norm(D_plus[node, :, :], ord = 'nuc') for node in tqdm(range(len(graph)))]\n",
    "norm_id = [np.linalg.norm(D_id[node, :, :], ord = 'nuc') for node in tqdm(range(len(graph)))]\n",
    "\n"
   ]
  },
  {
   "cell_type": "code",
   "execution_count": 154,
   "id": "cda5e186",
   "metadata": {},
   "outputs": [
    {
     "data": {
      "application/vnd.plotly.v1+json": {
       "config": {
        "plotlyServerURL": "https://plot.ly"
       },
       "data": [
        {
         "type": "histogram",
         "x": [
          1.6196907758712769,
          2.0508406162261963,
          1.8458017110824585,
          0.9937915802001953,
          0.6927105188369751,
          1.8262712955474854,
          1.6474529504776,
          1.2363016605377197,
          1.970988392829895,
          0.599245548248291,
          1.6614474058151245,
          1.8605707883834839,
          1.1447248458862305,
          1.0493321418762207,
          1.2552562952041626,
          0.8141071796417236,
          2.183319330215454,
          0.5466619729995728,
          1.5518335103988647,
          1.103019118309021,
          1.915910243988037,
          0.9030582308769226,
          0.7808775901794434,
          1.4183852672576904,
          0.587678074836731,
          2.236100196838379,
          0.5466103553771973,
          0.6598602533340454,
          0.49594464898109436,
          1.443741798400879,
          1.3862885236740112,
          0.8838642835617065,
          1.540880560874939,
          1.632455587387085,
          1.8270845413208008,
          2.247265100479126,
          0.9756519794464111,
          1.159638524055481,
          0.9534425735473633,
          1.9343633651733398,
          0.8480141758918762,
          1.5567748546600342,
          1.8174558877944946,
          0.835749089717865,
          0.5025923848152161,
          0.9399944543838501,
          0.5714189410209656,
          2.0877583026885986,
          1.247235655784607,
          0.7074777483940125,
          0.6897119879722595,
          0.9649505019187927,
          1.3957545757293701,
          1.851941466331482,
          0.3978618085384369,
          1.0835151672363281,
          1.7734801769256592,
          1.0753588676452637,
          0.6751072406768799,
          0.8099581599235535,
          0.8847598433494568,
          2.0197503566741943,
          0.8947526216506958,
          0.6651936769485474,
          1.5235605239868164,
          0.5526152849197388,
          1.203648328781128,
          0.9156332612037659,
          1.5926792621612549,
          0.2054368406534195,
          0.853422224521637,
          1.0486254692077637,
          1.592702031135559,
          1.0661389827728271,
          1.1358344554901123,
          1.3492079973220825,
          1.5597822666168213,
          0.11336725950241089,
          1.7820924520492554,
          1.157351016998291,
          1.9405169486999512,
          1.7171343564987183,
          2.0381083488464355,
          0.5909649133682251,
          1.7646360397338867,
          1.9916942119598389,
          0.6967850923538208,
          1.594278335571289,
          1.061596393585205,
          2.0684025287628174,
          0.8742343187332153,
          1.4091509580612183,
          0.6542900800704956,
          0.8008534908294678,
          0.6844561100006104,
          1.6095542907714844,
          1.192665696144104,
          0.7152594923973083,
          1.4421218633651733,
          1.5150480270385742,
          2.0728800296783447,
          1.2030397653579712,
          2.443161725997925,
          1.5403873920440674,
          1.3626806735992432,
          0.3284924030303955,
          2.091893434524536,
          1.8230328559875488,
          1.1331788301467896,
          1.671608805656433,
          1.0689759254455566,
          1.9023338556289673,
          1.3974891901016235,
          1.508394718170166,
          0.9691697359085083,
          0.959729015827179,
          1.4233927726745605,
          0.8582525849342346,
          0.8461416959762573,
          0.9925788640975952,
          1.068088412284851,
          0.6608814001083374,
          1.1976537704467773,
          0.8902336359024048,
          0.8937302827835083,
          1.0632126331329346,
          1.1811926364898682,
          1.3965433835983276,
          1.3545392751693726,
          0.7342240810394287,
          1.0896897315979004,
          1.943426251411438,
          1.6377763748168945,
          1.7371290922164917,
          1.05120050907135,
          1.2080934047698975,
          0.6102231740951538,
          0.7586495280265808,
          1.752035140991211,
          1.9014127254486084,
          2.169161319732666,
          1.4577547311782837,
          0.9636583924293518,
          1.2717561721801758,
          0.8937249183654785,
          1.626769781112671,
          1.8186711072921753,
          2.0273139476776123,
          0.9125449657440186,
          1.657762050628662,
          1.4249157905578613,
          1.1842890977859497,
          1.5774505138397217,
          1.4677653312683105,
          0.749049186706543,
          1.3991363048553467,
          1.0449178218841553,
          0.11462637782096863,
          1.7507579326629639,
          2.045341968536377,
          0.4274841845035553,
          1.6589077711105347,
          1.4911539554595947,
          1.7967214584350586,
          1.159593939781189,
          0.9702776670455933,
          1.3098211288452148,
          0.8048103451728821,
          1.1341261863708496,
          0.25361141562461853,
          2.001509666442871,
          1.489753246307373,
          1.146092176437378,
          1.390974760055542,
          1.0478074550628662,
          1.536739468574524,
          1.9193495512008667,
          1.1031392812728882,
          1.8865113258361816,
          1.1661498546600342,
          1.3914865255355835,
          1.0266085863113403,
          2.0336575508117676,
          1.4542579650878906,
          1.76594078540802,
          0.6873301267623901,
          1.4010515213012695,
          1.5651428699493408,
          2.3339648246765137,
          0.9810537099838257,
          1.290582299232483,
          2.002225160598755,
          1.20211923122406,
          1.1827819347381592,
          2.1161022186279297,
          1.8065811395645142,
          1.429080605506897,
          1.2655713558197021,
          1.9772791862487793,
          1.0441691875457764,
          2.1837563514709473,
          0.6137135028839111,
          0.8283437490463257,
          1.8523476123809814,
          1.5803978443145752,
          0.7518916130065918,
          1.5485061407089233,
          1.8278236389160156,
          0.9334065914154053,
          1.4217875003814697,
          1.4236094951629639,
          1.1438356637954712,
          0.9843853712081909,
          0.8111138343811035,
          1.2203153371810913,
          0.7905310392379761,
          1.2314399480819702,
          0.9755781888961792,
          0.513374924659729,
          1.3187263011932373,
          1.6235761642456055,
          1.103200912475586,
          1.2335790395736694,
          0.8763956427574158,
          2.2044596672058105,
          1.8216476440429688,
          2.18206524848938,
          1.8459773063659668,
          1.0441957712173462,
          0.9482740163803101,
          1.4905858039855957,
          1.9103519916534424,
          0.970649003982544,
          1.9831759929656982,
          1.5059747695922852,
          1.0726944208145142,
          1.8008618354797363,
          1.2560582160949707,
          1.5982787609100342,
          2.1964797973632812,
          2.385511875152588,
          2.4650793075561523,
          1.9673030376434326,
          1.0344159603118896,
          1.6228246688842773,
          2.0550150871276855,
          1.6121076345443726,
          2.29982328414917,
          0.9463801383972168,
          1.4967339038848877,
          1.195199728012085,
          1.5635906457901,
          2.283750534057617,
          1.6959785223007202,
          1.9878020286560059,
          1.108641266822815,
          0.998389720916748,
          2.1452748775482178,
          1.3576149940490723,
          1.8467190265655518,
          1.8374292850494385,
          1.306955337524414,
          1.2186744213104248,
          0.6614760160446167,
          1.7150402069091797,
          1.3916813135147095,
          1.8937559127807617,
          1.2079676389694214,
          1.4196925163269043,
          1.7273552417755127,
          2.4076526165008545,
          1.9736286401748657,
          2.0501489639282227,
          0.785062313079834,
          1.4780328273773193,
          1.5816056728363037,
          1.8052136898040771,
          0.9446501731872559,
          1.8180038928985596,
          1.5010898113250732,
          1.3702664375305176,
          1.904615879058838,
          1.1808205842971802,
          1.7335920333862305,
          2.0063068866729736,
          1.7884573936462402,
          1.6456629037857056,
          1.0089653730392456,
          0.9175322651863098,
          1.7630677223205566,
          1.7370257377624512,
          2.4583427906036377,
          1.9087483882904053,
          2.0982959270477295,
          1.7580764293670654,
          1.0915565490722656,
          1.565842628479004,
          1.1985746622085571,
          2.0792925357818604,
          1.6881173849105835,
          1.9233280420303345,
          2.1764931678771973,
          2.1350722312927246,
          1.3579646348953247,
          1.309614658355713,
          0.15376749634742737,
          1.7811155319213867,
          0.8705929517745972,
          1.1905163526535034,
          1.6922005414962769,
          1.5599108934402466,
          2.0210022926330566,
          1.9726053476333618,
          0.755233883857727,
          1.36500883102417,
          0.7919005155563354,
          1.3771717548370361,
          1.4062895774841309,
          0.8341317772865295,
          1.075231909751892,
          1.737532377243042,
          1.1848233938217163,
          2.1822476387023926,
          1.5246092081069946,
          1.8129191398620605,
          1.6981598138809204,
          1.554747223854065,
          1.3811883926391602,
          1.986520767211914,
          2.1984918117523193,
          1.6130365133285522,
          2.289511203765869,
          1.2688243389129639,
          2.562901496887207,
          2.129087448120117,
          1.274598240852356,
          0.7705522775650024,
          2.2025575637817383,
          0.6839821338653564,
          1.6434519290924072,
          2.028860569000244,
          1.659287452697754,
          2.187459707260132,
          1.7234063148498535,
          1.2270179986953735,
          1.056074857711792,
          1.904634714126587,
          1.4261587858200073,
          0.8386370539665222,
          2.231235980987549,
          1.9889229536056519,
          2.248819351196289,
          2.195002794265747,
          1.899552345275879,
          0.48680582642555237,
          2.3137011528015137,
          2.105097770690918,
          1.9378299713134766,
          1.8052220344543457,
          1.8680990934371948,
          1.0591964721679688,
          0.7867029905319214,
          1.6025824546813965,
          1.7260122299194336,
          1.34955632686615,
          1.0757566690444946,
          1.0315256118774414,
          2.3693716526031494,
          1.6215492486953735,
          1.8380037546157837,
          1.8422675132751465,
          2.260448694229126,
          1.8618664741516113,
          1.7281854152679443,
          1.1698215007781982,
          1.8452932834625244,
          1.4270899295806885,
          1.1549010276794434,
          0.5844077467918396,
          1.8761316537857056,
          1.5764782428741455,
          1.9393184185028076,
          2.286052703857422,
          1.261326789855957,
          1.4241602420806885,
          1.386758804321289,
          2.41646146774292,
          2.1092844009399414,
          1.178299903869629,
          1.60556161403656,
          2.1129658222198486,
          1.859590768814087,
          1.2103954553604126,
          1.2598447799682617,
          0.4384966492652893,
          1.926843523979187,
          1.239670753479004,
          1.3312913179397583,
          1.3772825002670288,
          2.111575126647949,
          2.2658214569091797,
          1.264696478843689,
          2.323554039001465,
          2.3525993824005127,
          1.1242576837539673,
          1.9303964376449585,
          1.891911268234253,
          1.6852396726608276,
          1.925620198249817,
          1.8311500549316406,
          1.3554209470748901,
          0.9829961657524109,
          1.6839667558670044,
          0.7706912755966187,
          1.8474546670913696,
          2.0229275226593018,
          0.9360851645469666,
          1.1189615726470947,
          1.0668213367462158,
          1.4538452625274658,
          1.9260468482971191,
          2.0603768825531006,
          2.033712387084961,
          1.2676221132278442,
          2.2583281993865967,
          1.9615622758865356,
          2.1805639266967773,
          1.7116883993148804,
          1.1705353260040283,
          2.1439707279205322,
          1.546548843383789,
          2.267598867416382,
          1.8866856098175049,
          1.832827091217041,
          1.2044744491577148,
          1.8426904678344727,
          1.5801149606704712,
          2.1260499954223633,
          2.4899258613586426,
          1.9590089321136475,
          2.1897943019866943,
          1.10935640335083,
          1.429198980331421,
          1.374743103981018,
          1.831626534461975,
          2.1906704902648926,
          1.3389904499053955,
          1.8941936492919922,
          1.9653139114379883,
          2.075773000717163,
          2.0392754077911377,
          2.424177408218384,
          2.0780222415924072,
          1.2361938953399658,
          2.3577189445495605,
          1.5881145000457764,
          1.1733760833740234,
          1.1446963548660278,
          1.60973060131073,
          1.684565544128418,
          1.3759715557098389,
          1.646443247795105,
          1.9835399389266968,
          1.5363320112228394,
          1.9140894412994385,
          1.8613507747650146,
          2.2098209857940674,
          1.6981120109558105,
          1.1209279298782349,
          1.339203119277954,
          0.8832241892814636,
          1.4828310012817383,
          0.9414510726928711,
          1.4718835353851318,
          1.9884357452392578,
          1.4683032035827637,
          1.5674080848693848,
          1.6451687812805176,
          1.9598896503448486,
          2.1599903106689453,
          1.8968636989593506,
          1.6263539791107178,
          2.063758134841919,
          1.265506625175476,
          1.5749378204345703,
          1.9393397569656372,
          1.3620367050170898,
          1.071169376373291,
          1.6027780771255493,
          1.1612762212753296,
          0.8697527050971985,
          2.3940377235412598,
          1.8008413314819336,
          2.1719260215759277,
          0.9058880805969238,
          1.8491034507751465,
          1.3760799169540405,
          1.963805079460144,
          2.294123649597168,
          1.5714702606201172,
          2.137305974960327,
          2.0536961555480957,
          0.7860058546066284,
          2.0387122631073,
          1.6554780006408691,
          0.8633782863616943,
          2.024333953857422,
          2.0305685997009277,
          1.7815277576446533,
          1.5843589305877686,
          1.554896593093872,
          1.0866342782974243,
          1.7173653841018677,
          2.3215088844299316,
          1.961923360824585,
          1.2919631004333496,
          1.4450664520263672,
          1.3645453453063965,
          1.1568409204483032,
          1.2361822128295898,
          2.0903024673461914,
          1.8546524047851562,
          1.9287054538726807,
          1.7318001985549927,
          1.822365641593933,
          1.3801898956298828,
          1.9881141185760498,
          1.3632888793945312,
          0.8386370539665222,
          1.2893543243408203,
          2.032766103744507,
          2.0641026496887207,
          1.4340637922286987,
          1.781764030456543,
          1.8350516557693481,
          1.6998436450958252,
          1.2642027139663696,
          1.8468735218048096,
          2.422321319580078,
          1.9887317419052124,
          2.0584957599639893,
          1.4907931089401245,
          1.9867429733276367,
          1.3703203201293945,
          2.1658878326416016,
          1.454207181930542,
          1.737532377243042,
          1.9792537689208984,
          1.4235109090805054,
          1.6531189680099487,
          2.856476306915283,
          1.7039982080459595,
          1.9944448471069336,
          2.1047773361206055,
          1.8663616180419922,
          1.5967141389846802,
          1.8033359050750732,
          2.5840253829956055,
          2.5136542320251465,
          1.4117953777313232,
          1.0715166330337524,
          1.153512716293335,
          2.610288619995117,
          1.961618423461914,
          1.6104735136032104,
          1.1394903659820557,
          1.8838181495666504,
          2.073289155960083,
          2.079732656478882,
          2.087097406387329,
          1.3019087314605713,
          2.249441146850586,
          1.6227601766586304,
          2.077364206314087,
          1.9084889888763428,
          0.9676668047904968,
          1.763020396232605,
          1.3052140474319458,
          1.8457460403442383,
          1.0747854709625244,
          2.112144708633423,
          1.7276782989501953,
          1.8701279163360596,
          2.210256576538086,
          2.4373812675476074,
          2.4599688053131104,
          1.361115574836731,
          1.6337127685546875,
          1.1616661548614502,
          1.7577311992645264,
          1.7300673723220825,
          2.283750534057617,
          2.6264288425445557,
          2.2816085815429688,
          2.172379970550537,
          1.9587773084640503,
          1.6168147325515747,
          1.737532377243042,
          2.1695189476013184,
          1.2338323593139648,
          1.2298071384429932,
          1.6887609958648682,
          1.3578534126281738,
          1.5553562641143799,
          1.365776777267456,
          1.733275055885315,
          2.1010782718658447,
          2.227153778076172,
          1.1867823600769043,
          1.431707501411438,
          1.6722509860992432,
          1.605724811553955,
          1.487236499786377,
          2.364677906036377,
          1.7075893878936768,
          2.3637497425079346,
          2.5754380226135254,
          1.7903999090194702,
          1.2991358041763306,
          1.4872384071350098,
          1.9032433032989502,
          1.5425175428390503,
          2.1462149620056152,
          1.9777077436447144,
          2.1071441173553467,
          1.4242666959762573,
          2.322652816772461,
          1.1265802383422852,
          1.1336843967437744,
          1.793704628944397,
          2.366218090057373,
          1.6433168649673462,
          2.123521566390991,
          1.0367422103881836,
          1.0918313264846802,
          1.7585043907165527,
          1.1200666427612305,
          0.8947298526763916,
          1.6358927488327026,
          2.0324294567108154,
          1.5169963836669922,
          2.025597333908081,
          1.7681002616882324,
          1.2087332010269165,
          2.0258142948150635,
          1.8390377759933472,
          0.9643826484680176,
          1.7879749536514282,
          1.0431888103485107,
          2.274059772491455,
          1.461451768875122,
          1.444762945175171,
          2.3940377235412598,
          1.7951349020004272,
          1.6068991422653198,
          1.8417255878448486,
          2.5740621089935303,
          1.7788722515106201,
          2.048332929611206,
          1.4881783723831177,
          1.4411157369613647,
          2.0146467685699463,
          1.6518056392669678,
          1.4605703353881836,
          1.7450339794158936,
          1.5423047542572021,
          2.0831563472747803,
          2.3137011528015137,
          1.3111169338226318,
          1.3133039474487305,
          1.4190778732299805,
          1.8705352544784546,
          1.1813794374465942,
          0.9764989614486694,
          1.5661118030548096,
          1.6333560943603516,
          1.878275990486145,
          1.30413818359375,
          2.0083181858062744,
          2.277435302734375,
          2.086573362350464,
          2.168708324432373,
          1.962282657623291,
          2.1654863357543945,
          1.9770591259002686,
          1.3479325771331787,
          1.1722756624221802,
          2.222198963165283,
          2.3016388416290283,
          1.8392530679702759,
          1.3133039474487305,
          1.271842360496521,
          2.690830707550049,
          0.9821166396141052,
          2.0497093200683594,
          0.8386370539665222,
          1.992923378944397,
          1.6297757625579834,
          2.0071425437927246,
          2.0985519886016846,
          1.4883944988250732,
          2.333848714828491,
          1.9217880964279175,
          1.5645596981048584,
          1.9028263092041016,
          2.1158323287963867,
          0.8386370539665222,
          1.3134121894836426,
          1.5967141389846802,
          2.002041816711426,
          2.1661832332611084,
          1.6568822860717773,
          2.4054641723632812,
          1.9741194248199463,
          1.752035140991211,
          1.7344717979431152,
          1.2843313217163086,
          0.4852532148361206,
          0.8386370539665222,
          1.363440752029419,
          2.3178772926330566,
          1.735912799835205,
          2.0680246353149414,
          1.5717222690582275,
          1.7910228967666626,
          1.5967141389846802,
          2.541686534881592,
          1.6785225868225098,
          1.2279638051986694,
          1.1189615726470947,
          2.1532747745513916,
          1.516931414604187,
          1.6762843132019043,
          1.770547866821289,
          1.1420058012008667,
          1.4939210414886475,
          1.7194130420684814,
          1.6780803203582764,
          1.5482754707336426,
          2.235386848449707,
          1.023679256439209,
          1.737532377243042,
          1.6472784280776978,
          2.401914596557617,
          1.7595124244689941,
          1.8587403297424316,
          2.1668548583984375,
          2.154592990875244,
          2.0659704208374023,
          1.9292994737625122,
          1.9171314239501953,
          2.2351813316345215,
          2.578536033630371,
          1.5454089641571045,
          2.0437350273132324,
          1.1167662143707275,
          1.2839168310165405,
          1.2548249959945679,
          1.0802505016326904,
          1.6337127685546875,
          1.723935842514038,
          2.212186574935913,
          2.206022262573242,
          1.7726011276245117,
          1.6507431268692017,
          2.394777774810791,
          1.7290347814559937,
          1.4660581350326538,
          2.2425596714019775,
          2.7143454551696777,
          1.8687360286712646,
          1.421030879020691,
          2.19724702835083,
          1.5692850351333618,
          1.7792094945907593,
          2.7652711868286133,
          1.7420706748962402,
          1.4394179582595825,
          2.0046253204345703,
          2.2353508472442627,
          2.1171722412109375,
          1.5074396133422852,
          2.176236629486084,
          1.5338091850280762,
          1.2379848957061768,
          1.6507431268692017,
          1.9195419549942017,
          1.857837438583374,
          1.7199350595474243,
          2.0030200481414795,
          1.9199798107147217,
          1.5841317176818848,
          1.7909783124923706,
          2.0226640701293945,
          2.1321542263031006,
          2.276003360748291,
          1.5620695352554321,
          1.8504629135131836,
          1.8840808868408203,
          2.364677906036377,
          1.737532377243042,
          1.9179147481918335,
          2.5459768772125244,
          2.8274970054626465,
          1.3799418210983276,
          1.4303584098815918,
          1.7905457019805908,
          2.5713279247283936,
          1.294739007949829,
          2.048666000366211,
          1.1779451370239258,
          1.5648807287216187,
          1.3520528078079224,
          1.4847416877746582,
          1.4606878757476807,
          2.1949524879455566,
          0.880325436592102,
          1.4614430665969849,
          2.1189122200012207,
          1.1438357830047607,
          2.2183988094329834,
          1.6229876279830933,
          1.4207302331924438,
          1.1087181568145752,
          1.5395301580429077,
          1.965817928314209,
          1.1280772686004639,
          2.2643978595733643,
          1.5682644844055176,
          1.218161702156067,
          1.371146321296692,
          1.664056658744812,
          2.283750534057617,
          2.14977765083313,
          1.7324943542480469,
          2.296402931213379,
          1.7879749536514282,
          2.3341422080993652,
          2.0540716648101807,
          2.008035659790039,
          1.3388245105743408,
          2.0928876399993896,
          1.401796579360962,
          2.5446691513061523,
          1.414330005645752,
          1.3289471864700317,
          1.752035140991211,
          2.556251287460327,
          1.069959044456482,
          1.961855173110962,
          2.0439200401306152,
          1.6028863191604614,
          1.713144063949585,
          1.743632197380066,
          2.3591716289520264,
          0.9821166396141052,
          2.203578233718872,
          1.8372771739959717,
          1.609657883644104,
          2.3438003063201904,
          1.643327236175537,
          2.1821794509887695,
          1.0207839012145996,
          1.717639446258545,
          1.5720741748809814,
          2.155259132385254,
          1.0757566690444946,
          1.3957760334014893,
          1.1269755363464355,
          1.5654828548431396,
          1.6472784280776978,
          2.302574872970581,
          2.3940377235412598,
          2.083150863647461,
          2.0572385787963867,
          1.8898706436157227,
          0.8386370539665222,
          1.0352044105529785,
          1.0352044105529785,
          1.7523722648620605,
          1.160986304283142,
          1.7838451862335205,
          1.737532377243042,
          2.033383846282959,
          1.5984338521957397,
          1.6472784280776978,
          0.880325436592102,
          2.283750534057617,
          2.0511136054992676,
          2.4684536457061768,
          2.3661439418792725,
          1.733275055885315,
          1.6055670976638794,
          2.467194080352783,
          2.032823085784912,
          1.6642910242080688,
          1.413648247718811,
          2.25456166267395,
          2.3233470916748047,
          2.0236258506774902,
          1.3592299222946167,
          2.1436808109283447,
          2.11362361907959,
          2.348942518234253,
          2.0224838256835938,
          2.2109286785125732,
          1.402427315711975,
          1.7313232421875,
          1.3131091594696045,
          2.207690954208374,
          2.5186715126037598,
          2.6152400970458984,
          2.206022262573242,
          1.122626781463623,
          1.692021369934082,
          1.9405039548873901,
          2.1006362438201904,
          2.1591994762420654,
          1.7344717979431152,
          2.283750534057617,
          2.086662769317627,
          0.9821166396141052,
          1.8987343311309814,
          1.6472784280776978,
          2.2188220024108887,
          1.9199656248092651,
          2.007854700088501,
          1.9792537689208984,
          2.846461057662964,
          2.283750534057617,
          1.8890645503997803,
          1.9385308027267456,
          1.9575424194335938,
          2.0645573139190674,
          2.1060805320739746,
          2.429955244064331,
          1.5132510662078857,
          1.7696305513381958,
          1.3684697151184082,
          1.3208694458007812,
          1.5682616233825684,
          1.5682616233825684,
          1.6108394861221313,
          1.737532377243042,
          1.6980440616607666,
          0.8386370539665222,
          2.0325679779052734,
          1.6007728576660156,
          1.6035839319229126,
          1.69535231590271,
          1.1167662143707275,
          2.064786911010742,
          1.414330005645752,
          2.280812978744507,
          0.7610776424407959,
          1.5394483804702759,
          1.2358219623565674,
          2.0391223430633545,
          1.2209913730621338,
          1.9888899326324463,
          1.7012147903442383,
          2.6177189350128174,
          2.7583770751953125,
          1.7403838634490967,
          1.1737921237945557,
          1.7134263515472412,
          1.4371687173843384,
          1.8453110456466675,
          0.9676668047904968,
          2.3906593322753906,
          1.7917790412902832,
          1.8807742595672607,
          0.8678029775619507,
          0.725590705871582,
          1.520369529724121,
          1.830289363861084,
          2.283750534057617,
          2.05798077583313,
          1.2468637228012085,
          1.6028250455856323,
          2.435255289077759,
          2.364677906036377,
          2.042970895767212,
          1.6472784280776978,
          1.519338846206665,
          1.829163908958435,
          1.626983642578125,
          1.2690861225128174,
          1.3186149597167969,
          1.7344717979431152,
          1.160986304283142,
          2.163017511367798,
          1.6472784280776978,
          1.1123719215393066,
          2.0690507888793945,
          1.7436190843582153,
          1.6883928775787354,
          1.737532377243042,
          1.4151055812835693,
          1.7290347814559937,
          1.2382692098617554,
          1.737532377243042,
          1.914349913597107,
          1.3993496894836426,
          1.6762843132019043,
          1.6982650756835938,
          1.3198000192642212,
          2.0081052780151367,
          2.3591716289520264,
          1.5175046920776367,
          1.82997727394104,
          1.8568955659866333,
          1.601102590560913,
          1.3891494274139404,
          1.3512996435165405,
          1.6472784280776978,
          1.3988912105560303,
          1.5288124084472656,
          1.8453110456466675,
          2.3137011528015137,
          2.301295042037964,
          1.6743577718734741,
          1.9647003412246704,
          1.9575424194335938,
          1.7420721054077148,
          1.5420620441436768,
          1.9672503471374512,
          1.9214359521865845,
          1.727880597114563,
          1.876659631729126,
          1.9883408546447754,
          1.2634868621826172,
          2.1293601989746094,
          1.9725682735443115,
          1.855078935623169,
          1.4798336029052734,
          2.364677906036377,
          2.146684169769287,
          1.8890447616577148,
          1.5976672172546387,
          1.730208158493042,
          1.9199798107147217,
          1.646443247795105,
          1.733275055885315,
          2.2896645069122314,
          1.8169690370559692,
          1.651308298110962,
          1.0866342782974243,
          2.3940377235412598,
          2.2473087310791016,
          1.9347407817840576,
          1.8659923076629639,
          2.05798077583313,
          1.6573742628097534,
          1.6364816427230835,
          1.8721579313278198,
          1.5682616233825684,
          1.0207839012145996,
          1.7879749536514282,
          1.6277858018875122,
          1.9004018306732178,
          1.661325216293335,
          1.965817928314209,
          2.1613388061523438,
          1.9931232929229736,
          2.0488834381103516,
          2.166126012802124,
          1.856153964996338,
          1.7282181978225708,
          1.737532377243042,
          1.5219346284866333,
          2.206022262573242,
          1.6173465251922607,
          1.733275055885315,
          1.7276240587234497,
          1.6580116748809814,
          1.98210871219635,
          2.206022262573242,
          1.3862993717193604,
          2.0340378284454346,
          1.7310048341751099,
          2.240095376968384,
          1.499363899230957,
          2.206022262573242,
          2.1788086891174316,
          1.4571291208267212,
          1.6108394861221313,
          2.3137011528015137,
          1.6712942123413086,
          2.042039632797241,
          1.733275055885315,
          2.283750534057617,
          2.3523035049438477,
          2.283750534057617,
          1.166795253753662,
          0.8678029775619507,
          2.3735694885253906,
          1.6338505744934082,
          1.7276240587234497,
          1.5682616233825684,
          1.965817928314209,
          1.733275055885315,
          2.058277130126953,
          1.8868831396102905,
          1.626377820968628,
          2.283750534057617,
          2.3591716289520264,
          2.2416203022003174,
          1.588773250579834,
          1.1834077835083008,
          1.7290347814559937,
          2.5273208618164062,
          1.7879749536514282,
          2.023993492126465,
          1.9847100973129272,
          1.5872132778167725,
          2.283750534057617,
          1.7568622827529907,
          2.058277130126953,
          2.3137011528015137,
          1.7321940660476685,
          2.033219814300537,
          2.5052244663238525,
          1.737532377243042,
          1.6472784280776978,
          1.9385308027267456,
          1.8008537292480469,
          1.9758007526397705,
          1.9229580163955688,
          1.8301467895507812,
          1.6472784280776978,
          1.7575972080230713,
          1.6917859315872192,
          1.4790475368499756,
          1.1240925788879395,
          2.01486873626709,
          1.8868831396102905,
          2.5766587257385254,
          1.737532377243042,
          1.9278678894042969,
          2.206022262573242,
          1.9199656248092651,
          1.7879749536514282,
          1.6339524984359741,
          1.6472784280776978,
          1.9671883583068848,
          1.6110076904296875,
          2.0081052780151367,
          2.206022262573242,
          2.05798077583313,
          1.5956686735153198,
          2.615293025970459,
          1.9347407817840576,
          1.9748274087905884,
          1.733275055885315,
          2.206022262573242,
          2.206022262573242,
          2.283750534057617,
          1.9509135484695435,
          1.6080758571624756,
          2.05798077583313,
          2.615293025970459,
          1.7321940660476685,
          2.0081052780151367,
          2.1561994552612305,
          1.6472784280776978,
          1.7290347814559937,
          1.2388341426849365,
          2.283750534057617,
          2.042039632797241,
          2.3137011528015137,
          2.0488834381103516,
          1.6472784280776978,
          1.6229876279830933,
          1.5066778659820557,
          1.738556146621704,
          1.6376656293869019,
          2.0068771839141846,
          2.283750534057617,
          1.733275055885315,
          1.6472784280776978,
          1.8372771739959717,
          1.536034345626831,
          1.6448454856872559,
          2.206022262573242,
          2.206022262573242
         ]
        }
       ],
       "layout": {
        "font": {
         "size": 30
        },
        "paper_bgcolor": "white",
        "plot_bgcolor": "white",
        "template": {
         "data": {
          "bar": [
           {
            "error_x": {
             "color": "#2a3f5f"
            },
            "error_y": {
             "color": "#2a3f5f"
            },
            "marker": {
             "line": {
              "color": "#E5ECF6",
              "width": 0.5
             },
             "pattern": {
              "fillmode": "overlay",
              "size": 10,
              "solidity": 0.2
             }
            },
            "type": "bar"
           }
          ],
          "barpolar": [
           {
            "marker": {
             "line": {
              "color": "#E5ECF6",
              "width": 0.5
             },
             "pattern": {
              "fillmode": "overlay",
              "size": 10,
              "solidity": 0.2
             }
            },
            "type": "barpolar"
           }
          ],
          "carpet": [
           {
            "aaxis": {
             "endlinecolor": "#2a3f5f",
             "gridcolor": "white",
             "linecolor": "white",
             "minorgridcolor": "white",
             "startlinecolor": "#2a3f5f"
            },
            "baxis": {
             "endlinecolor": "#2a3f5f",
             "gridcolor": "white",
             "linecolor": "white",
             "minorgridcolor": "white",
             "startlinecolor": "#2a3f5f"
            },
            "type": "carpet"
           }
          ],
          "choropleth": [
           {
            "colorbar": {
             "outlinewidth": 0,
             "ticks": ""
            },
            "type": "choropleth"
           }
          ],
          "contour": [
           {
            "colorbar": {
             "outlinewidth": 0,
             "ticks": ""
            },
            "colorscale": [
             [
              0,
              "#0d0887"
             ],
             [
              0.1111111111111111,
              "#46039f"
             ],
             [
              0.2222222222222222,
              "#7201a8"
             ],
             [
              0.3333333333333333,
              "#9c179e"
             ],
             [
              0.4444444444444444,
              "#bd3786"
             ],
             [
              0.5555555555555556,
              "#d8576b"
             ],
             [
              0.6666666666666666,
              "#ed7953"
             ],
             [
              0.7777777777777778,
              "#fb9f3a"
             ],
             [
              0.8888888888888888,
              "#fdca26"
             ],
             [
              1,
              "#f0f921"
             ]
            ],
            "type": "contour"
           }
          ],
          "contourcarpet": [
           {
            "colorbar": {
             "outlinewidth": 0,
             "ticks": ""
            },
            "type": "contourcarpet"
           }
          ],
          "heatmap": [
           {
            "colorbar": {
             "outlinewidth": 0,
             "ticks": ""
            },
            "colorscale": [
             [
              0,
              "#0d0887"
             ],
             [
              0.1111111111111111,
              "#46039f"
             ],
             [
              0.2222222222222222,
              "#7201a8"
             ],
             [
              0.3333333333333333,
              "#9c179e"
             ],
             [
              0.4444444444444444,
              "#bd3786"
             ],
             [
              0.5555555555555556,
              "#d8576b"
             ],
             [
              0.6666666666666666,
              "#ed7953"
             ],
             [
              0.7777777777777778,
              "#fb9f3a"
             ],
             [
              0.8888888888888888,
              "#fdca26"
             ],
             [
              1,
              "#f0f921"
             ]
            ],
            "type": "heatmap"
           }
          ],
          "heatmapgl": [
           {
            "colorbar": {
             "outlinewidth": 0,
             "ticks": ""
            },
            "colorscale": [
             [
              0,
              "#0d0887"
             ],
             [
              0.1111111111111111,
              "#46039f"
             ],
             [
              0.2222222222222222,
              "#7201a8"
             ],
             [
              0.3333333333333333,
              "#9c179e"
             ],
             [
              0.4444444444444444,
              "#bd3786"
             ],
             [
              0.5555555555555556,
              "#d8576b"
             ],
             [
              0.6666666666666666,
              "#ed7953"
             ],
             [
              0.7777777777777778,
              "#fb9f3a"
             ],
             [
              0.8888888888888888,
              "#fdca26"
             ],
             [
              1,
              "#f0f921"
             ]
            ],
            "type": "heatmapgl"
           }
          ],
          "histogram": [
           {
            "marker": {
             "pattern": {
              "fillmode": "overlay",
              "size": 10,
              "solidity": 0.2
             }
            },
            "type": "histogram"
           }
          ],
          "histogram2d": [
           {
            "colorbar": {
             "outlinewidth": 0,
             "ticks": ""
            },
            "colorscale": [
             [
              0,
              "#0d0887"
             ],
             [
              0.1111111111111111,
              "#46039f"
             ],
             [
              0.2222222222222222,
              "#7201a8"
             ],
             [
              0.3333333333333333,
              "#9c179e"
             ],
             [
              0.4444444444444444,
              "#bd3786"
             ],
             [
              0.5555555555555556,
              "#d8576b"
             ],
             [
              0.6666666666666666,
              "#ed7953"
             ],
             [
              0.7777777777777778,
              "#fb9f3a"
             ],
             [
              0.8888888888888888,
              "#fdca26"
             ],
             [
              1,
              "#f0f921"
             ]
            ],
            "type": "histogram2d"
           }
          ],
          "histogram2dcontour": [
           {
            "colorbar": {
             "outlinewidth": 0,
             "ticks": ""
            },
            "colorscale": [
             [
              0,
              "#0d0887"
             ],
             [
              0.1111111111111111,
              "#46039f"
             ],
             [
              0.2222222222222222,
              "#7201a8"
             ],
             [
              0.3333333333333333,
              "#9c179e"
             ],
             [
              0.4444444444444444,
              "#bd3786"
             ],
             [
              0.5555555555555556,
              "#d8576b"
             ],
             [
              0.6666666666666666,
              "#ed7953"
             ],
             [
              0.7777777777777778,
              "#fb9f3a"
             ],
             [
              0.8888888888888888,
              "#fdca26"
             ],
             [
              1,
              "#f0f921"
             ]
            ],
            "type": "histogram2dcontour"
           }
          ],
          "mesh3d": [
           {
            "colorbar": {
             "outlinewidth": 0,
             "ticks": ""
            },
            "type": "mesh3d"
           }
          ],
          "parcoords": [
           {
            "line": {
             "colorbar": {
              "outlinewidth": 0,
              "ticks": ""
             }
            },
            "type": "parcoords"
           }
          ],
          "pie": [
           {
            "automargin": true,
            "type": "pie"
           }
          ],
          "scatter": [
           {
            "fillpattern": {
             "fillmode": "overlay",
             "size": 10,
             "solidity": 0.2
            },
            "type": "scatter"
           }
          ],
          "scatter3d": [
           {
            "line": {
             "colorbar": {
              "outlinewidth": 0,
              "ticks": ""
             }
            },
            "marker": {
             "colorbar": {
              "outlinewidth": 0,
              "ticks": ""
             }
            },
            "type": "scatter3d"
           }
          ],
          "scattercarpet": [
           {
            "marker": {
             "colorbar": {
              "outlinewidth": 0,
              "ticks": ""
             }
            },
            "type": "scattercarpet"
           }
          ],
          "scattergeo": [
           {
            "marker": {
             "colorbar": {
              "outlinewidth": 0,
              "ticks": ""
             }
            },
            "type": "scattergeo"
           }
          ],
          "scattergl": [
           {
            "marker": {
             "colorbar": {
              "outlinewidth": 0,
              "ticks": ""
             }
            },
            "type": "scattergl"
           }
          ],
          "scattermapbox": [
           {
            "marker": {
             "colorbar": {
              "outlinewidth": 0,
              "ticks": ""
             }
            },
            "type": "scattermapbox"
           }
          ],
          "scatterpolar": [
           {
            "marker": {
             "colorbar": {
              "outlinewidth": 0,
              "ticks": ""
             }
            },
            "type": "scatterpolar"
           }
          ],
          "scatterpolargl": [
           {
            "marker": {
             "colorbar": {
              "outlinewidth": 0,
              "ticks": ""
             }
            },
            "type": "scatterpolargl"
           }
          ],
          "scatterternary": [
           {
            "marker": {
             "colorbar": {
              "outlinewidth": 0,
              "ticks": ""
             }
            },
            "type": "scatterternary"
           }
          ],
          "surface": [
           {
            "colorbar": {
             "outlinewidth": 0,
             "ticks": ""
            },
            "colorscale": [
             [
              0,
              "#0d0887"
             ],
             [
              0.1111111111111111,
              "#46039f"
             ],
             [
              0.2222222222222222,
              "#7201a8"
             ],
             [
              0.3333333333333333,
              "#9c179e"
             ],
             [
              0.4444444444444444,
              "#bd3786"
             ],
             [
              0.5555555555555556,
              "#d8576b"
             ],
             [
              0.6666666666666666,
              "#ed7953"
             ],
             [
              0.7777777777777778,
              "#fb9f3a"
             ],
             [
              0.8888888888888888,
              "#fdca26"
             ],
             [
              1,
              "#f0f921"
             ]
            ],
            "type": "surface"
           }
          ],
          "table": [
           {
            "cells": {
             "fill": {
              "color": "#EBF0F8"
             },
             "line": {
              "color": "white"
             }
            },
            "header": {
             "fill": {
              "color": "#C8D4E3"
             },
             "line": {
              "color": "white"
             }
            },
            "type": "table"
           }
          ]
         },
         "layout": {
          "annotationdefaults": {
           "arrowcolor": "#2a3f5f",
           "arrowhead": 0,
           "arrowwidth": 1
          },
          "autotypenumbers": "strict",
          "coloraxis": {
           "colorbar": {
            "outlinewidth": 0,
            "ticks": ""
           }
          },
          "colorscale": {
           "diverging": [
            [
             0,
             "#8e0152"
            ],
            [
             0.1,
             "#c51b7d"
            ],
            [
             0.2,
             "#de77ae"
            ],
            [
             0.3,
             "#f1b6da"
            ],
            [
             0.4,
             "#fde0ef"
            ],
            [
             0.5,
             "#f7f7f7"
            ],
            [
             0.6,
             "#e6f5d0"
            ],
            [
             0.7,
             "#b8e186"
            ],
            [
             0.8,
             "#7fbc41"
            ],
            [
             0.9,
             "#4d9221"
            ],
            [
             1,
             "#276419"
            ]
           ],
           "sequential": [
            [
             0,
             "#0d0887"
            ],
            [
             0.1111111111111111,
             "#46039f"
            ],
            [
             0.2222222222222222,
             "#7201a8"
            ],
            [
             0.3333333333333333,
             "#9c179e"
            ],
            [
             0.4444444444444444,
             "#bd3786"
            ],
            [
             0.5555555555555556,
             "#d8576b"
            ],
            [
             0.6666666666666666,
             "#ed7953"
            ],
            [
             0.7777777777777778,
             "#fb9f3a"
            ],
            [
             0.8888888888888888,
             "#fdca26"
            ],
            [
             1,
             "#f0f921"
            ]
           ],
           "sequentialminus": [
            [
             0,
             "#0d0887"
            ],
            [
             0.1111111111111111,
             "#46039f"
            ],
            [
             0.2222222222222222,
             "#7201a8"
            ],
            [
             0.3333333333333333,
             "#9c179e"
            ],
            [
             0.4444444444444444,
             "#bd3786"
            ],
            [
             0.5555555555555556,
             "#d8576b"
            ],
            [
             0.6666666666666666,
             "#ed7953"
            ],
            [
             0.7777777777777778,
             "#fb9f3a"
            ],
            [
             0.8888888888888888,
             "#fdca26"
            ],
            [
             1,
             "#f0f921"
            ]
           ]
          },
          "colorway": [
           "#636efa",
           "#EF553B",
           "#00cc96",
           "#ab63fa",
           "#FFA15A",
           "#19d3f3",
           "#FF6692",
           "#B6E880",
           "#FF97FF",
           "#FECB52"
          ],
          "font": {
           "color": "#2a3f5f"
          },
          "geo": {
           "bgcolor": "white",
           "lakecolor": "white",
           "landcolor": "#E5ECF6",
           "showlakes": true,
           "showland": true,
           "subunitcolor": "white"
          },
          "hoverlabel": {
           "align": "left"
          },
          "hovermode": "closest",
          "mapbox": {
           "style": "light"
          },
          "paper_bgcolor": "white",
          "plot_bgcolor": "#E5ECF6",
          "polar": {
           "angularaxis": {
            "gridcolor": "white",
            "linecolor": "white",
            "ticks": ""
           },
           "bgcolor": "#E5ECF6",
           "radialaxis": {
            "gridcolor": "white",
            "linecolor": "white",
            "ticks": ""
           }
          },
          "scene": {
           "xaxis": {
            "backgroundcolor": "#E5ECF6",
            "gridcolor": "white",
            "gridwidth": 2,
            "linecolor": "white",
            "showbackground": true,
            "ticks": "",
            "zerolinecolor": "white"
           },
           "yaxis": {
            "backgroundcolor": "#E5ECF6",
            "gridcolor": "white",
            "gridwidth": 2,
            "linecolor": "white",
            "showbackground": true,
            "ticks": "",
            "zerolinecolor": "white"
           },
           "zaxis": {
            "backgroundcolor": "#E5ECF6",
            "gridcolor": "white",
            "gridwidth": 2,
            "linecolor": "white",
            "showbackground": true,
            "ticks": "",
            "zerolinecolor": "white"
           }
          },
          "shapedefaults": {
           "line": {
            "color": "#2a3f5f"
           }
          },
          "ternary": {
           "aaxis": {
            "gridcolor": "white",
            "linecolor": "white",
            "ticks": ""
           },
           "baxis": {
            "gridcolor": "white",
            "linecolor": "white",
            "ticks": ""
           },
           "bgcolor": "#E5ECF6",
           "caxis": {
            "gridcolor": "white",
            "linecolor": "white",
            "ticks": ""
           }
          },
          "title": {
           "x": 0.05
          },
          "xaxis": {
           "automargin": true,
           "gridcolor": "white",
           "linecolor": "white",
           "ticks": "",
           "title": {
            "standoff": 15
           },
           "zerolinecolor": "white",
           "zerolinewidth": 2
          },
          "yaxis": {
           "automargin": true,
           "gridcolor": "white",
           "linecolor": "white",
           "ticks": "",
           "title": {
            "standoff": 15
           },
           "zerolinecolor": "white",
           "zerolinewidth": 2
          }
         }
        },
        "title": {
         "text": "Distribution of Difference In Nuclear Norms - DGI vs DGI+XM"
        },
        "xaxis": {
         "title": {
          "text": "Difference In Nuclear Norms - DGI vs DGI+XM"
         }
        },
        "yaxis": {
         "title": {
          "text": "Frequency"
         }
        }
       }
      },
      "text/html": [
       "<div>                            <div id=\"7654d561-d47c-410b-919b-2485cf372c1c\" class=\"plotly-graph-div\" style=\"height:525px; width:100%;\"></div>            <script type=\"text/javascript\">                require([\"plotly\"], function(Plotly) {                    window.PLOTLYENV=window.PLOTLYENV || {};                                    if (document.getElementById(\"7654d561-d47c-410b-919b-2485cf372c1c\")) {                    Plotly.newPlot(                        \"7654d561-d47c-410b-919b-2485cf372c1c\",                        [{\"x\":[1.6196907758712769,2.0508406162261963,1.8458017110824585,0.9937915802001953,0.6927105188369751,1.8262712955474854,1.6474529504776,1.2363016605377197,1.970988392829895,0.599245548248291,1.6614474058151245,1.8605707883834839,1.1447248458862305,1.0493321418762207,1.2552562952041626,0.8141071796417236,2.183319330215454,0.5466619729995728,1.5518335103988647,1.103019118309021,1.915910243988037,0.9030582308769226,0.7808775901794434,1.4183852672576904,0.587678074836731,2.236100196838379,0.5466103553771973,0.6598602533340454,0.49594464898109436,1.443741798400879,1.3862885236740112,0.8838642835617065,1.540880560874939,1.632455587387085,1.8270845413208008,2.247265100479126,0.9756519794464111,1.159638524055481,0.9534425735473633,1.9343633651733398,0.8480141758918762,1.5567748546600342,1.8174558877944946,0.835749089717865,0.5025923848152161,0.9399944543838501,0.5714189410209656,2.0877583026885986,1.247235655784607,0.7074777483940125,0.6897119879722595,0.9649505019187927,1.3957545757293701,1.851941466331482,0.3978618085384369,1.0835151672363281,1.7734801769256592,1.0753588676452637,0.6751072406768799,0.8099581599235535,0.8847598433494568,2.0197503566741943,0.8947526216506958,0.6651936769485474,1.5235605239868164,0.5526152849197388,1.203648328781128,0.9156332612037659,1.5926792621612549,0.2054368406534195,0.853422224521637,1.0486254692077637,1.592702031135559,1.0661389827728271,1.1358344554901123,1.3492079973220825,1.5597822666168213,0.11336725950241089,1.7820924520492554,1.157351016998291,1.9405169486999512,1.7171343564987183,2.0381083488464355,0.5909649133682251,1.7646360397338867,1.9916942119598389,0.6967850923538208,1.594278335571289,1.061596393585205,2.0684025287628174,0.8742343187332153,1.4091509580612183,0.6542900800704956,0.8008534908294678,0.6844561100006104,1.6095542907714844,1.192665696144104,0.7152594923973083,1.4421218633651733,1.5150480270385742,2.0728800296783447,1.2030397653579712,2.443161725997925,1.5403873920440674,1.3626806735992432,0.3284924030303955,2.091893434524536,1.8230328559875488,1.1331788301467896,1.671608805656433,1.0689759254455566,1.9023338556289673,1.3974891901016235,1.508394718170166,0.9691697359085083,0.959729015827179,1.4233927726745605,0.8582525849342346,0.8461416959762573,0.9925788640975952,1.068088412284851,0.6608814001083374,1.1976537704467773,0.8902336359024048,0.8937302827835083,1.0632126331329346,1.1811926364898682,1.3965433835983276,1.3545392751693726,0.7342240810394287,1.0896897315979004,1.943426251411438,1.6377763748168945,1.7371290922164917,1.05120050907135,1.2080934047698975,0.6102231740951538,0.7586495280265808,1.752035140991211,1.9014127254486084,2.169161319732666,1.4577547311782837,0.9636583924293518,1.2717561721801758,0.8937249183654785,1.626769781112671,1.8186711072921753,2.0273139476776123,0.9125449657440186,1.657762050628662,1.4249157905578613,1.1842890977859497,1.5774505138397217,1.4677653312683105,0.749049186706543,1.3991363048553467,1.0449178218841553,0.11462637782096863,1.7507579326629639,2.045341968536377,0.4274841845035553,1.6589077711105347,1.4911539554595947,1.7967214584350586,1.159593939781189,0.9702776670455933,1.3098211288452148,0.8048103451728821,1.1341261863708496,0.25361141562461853,2.001509666442871,1.489753246307373,1.146092176437378,1.390974760055542,1.0478074550628662,1.536739468574524,1.9193495512008667,1.1031392812728882,1.8865113258361816,1.1661498546600342,1.3914865255355835,1.0266085863113403,2.0336575508117676,1.4542579650878906,1.76594078540802,0.6873301267623901,1.4010515213012695,1.5651428699493408,2.3339648246765137,0.9810537099838257,1.290582299232483,2.002225160598755,1.20211923122406,1.1827819347381592,2.1161022186279297,1.8065811395645142,1.429080605506897,1.2655713558197021,1.9772791862487793,1.0441691875457764,2.1837563514709473,0.6137135028839111,0.8283437490463257,1.8523476123809814,1.5803978443145752,0.7518916130065918,1.5485061407089233,1.8278236389160156,0.9334065914154053,1.4217875003814697,1.4236094951629639,1.1438356637954712,0.9843853712081909,0.8111138343811035,1.2203153371810913,0.7905310392379761,1.2314399480819702,0.9755781888961792,0.513374924659729,1.3187263011932373,1.6235761642456055,1.103200912475586,1.2335790395736694,0.8763956427574158,2.2044596672058105,1.8216476440429688,2.18206524848938,1.8459773063659668,1.0441957712173462,0.9482740163803101,1.4905858039855957,1.9103519916534424,0.970649003982544,1.9831759929656982,1.5059747695922852,1.0726944208145142,1.8008618354797363,1.2560582160949707,1.5982787609100342,2.1964797973632812,2.385511875152588,2.4650793075561523,1.9673030376434326,1.0344159603118896,1.6228246688842773,2.0550150871276855,1.6121076345443726,2.29982328414917,0.9463801383972168,1.4967339038848877,1.195199728012085,1.5635906457901,2.283750534057617,1.6959785223007202,1.9878020286560059,1.108641266822815,0.998389720916748,2.1452748775482178,1.3576149940490723,1.8467190265655518,1.8374292850494385,1.306955337524414,1.2186744213104248,0.6614760160446167,1.7150402069091797,1.3916813135147095,1.8937559127807617,1.2079676389694214,1.4196925163269043,1.7273552417755127,2.4076526165008545,1.9736286401748657,2.0501489639282227,0.785062313079834,1.4780328273773193,1.5816056728363037,1.8052136898040771,0.9446501731872559,1.8180038928985596,1.5010898113250732,1.3702664375305176,1.904615879058838,1.1808205842971802,1.7335920333862305,2.0063068866729736,1.7884573936462402,1.6456629037857056,1.0089653730392456,0.9175322651863098,1.7630677223205566,1.7370257377624512,2.4583427906036377,1.9087483882904053,2.0982959270477295,1.7580764293670654,1.0915565490722656,1.565842628479004,1.1985746622085571,2.0792925357818604,1.6881173849105835,1.9233280420303345,2.1764931678771973,2.1350722312927246,1.3579646348953247,1.309614658355713,0.15376749634742737,1.7811155319213867,0.8705929517745972,1.1905163526535034,1.6922005414962769,1.5599108934402466,2.0210022926330566,1.9726053476333618,0.755233883857727,1.36500883102417,0.7919005155563354,1.3771717548370361,1.4062895774841309,0.8341317772865295,1.075231909751892,1.737532377243042,1.1848233938217163,2.1822476387023926,1.5246092081069946,1.8129191398620605,1.6981598138809204,1.554747223854065,1.3811883926391602,1.986520767211914,2.1984918117523193,1.6130365133285522,2.289511203765869,1.2688243389129639,2.562901496887207,2.129087448120117,1.274598240852356,0.7705522775650024,2.2025575637817383,0.6839821338653564,1.6434519290924072,2.028860569000244,1.659287452697754,2.187459707260132,1.7234063148498535,1.2270179986953735,1.056074857711792,1.904634714126587,1.4261587858200073,0.8386370539665222,2.231235980987549,1.9889229536056519,2.248819351196289,2.195002794265747,1.899552345275879,0.48680582642555237,2.3137011528015137,2.105097770690918,1.9378299713134766,1.8052220344543457,1.8680990934371948,1.0591964721679688,0.7867029905319214,1.6025824546813965,1.7260122299194336,1.34955632686615,1.0757566690444946,1.0315256118774414,2.3693716526031494,1.6215492486953735,1.8380037546157837,1.8422675132751465,2.260448694229126,1.8618664741516113,1.7281854152679443,1.1698215007781982,1.8452932834625244,1.4270899295806885,1.1549010276794434,0.5844077467918396,1.8761316537857056,1.5764782428741455,1.9393184185028076,2.286052703857422,1.261326789855957,1.4241602420806885,1.386758804321289,2.41646146774292,2.1092844009399414,1.178299903869629,1.60556161403656,2.1129658222198486,1.859590768814087,1.2103954553604126,1.2598447799682617,0.4384966492652893,1.926843523979187,1.239670753479004,1.3312913179397583,1.3772825002670288,2.111575126647949,2.2658214569091797,1.264696478843689,2.323554039001465,2.3525993824005127,1.1242576837539673,1.9303964376449585,1.891911268234253,1.6852396726608276,1.925620198249817,1.8311500549316406,1.3554209470748901,0.9829961657524109,1.6839667558670044,0.7706912755966187,1.8474546670913696,2.0229275226593018,0.9360851645469666,1.1189615726470947,1.0668213367462158,1.4538452625274658,1.9260468482971191,2.0603768825531006,2.033712387084961,1.2676221132278442,2.2583281993865967,1.9615622758865356,2.1805639266967773,1.7116883993148804,1.1705353260040283,2.1439707279205322,1.546548843383789,2.267598867416382,1.8866856098175049,1.832827091217041,1.2044744491577148,1.8426904678344727,1.5801149606704712,2.1260499954223633,2.4899258613586426,1.9590089321136475,2.1897943019866943,1.10935640335083,1.429198980331421,1.374743103981018,1.831626534461975,2.1906704902648926,1.3389904499053955,1.8941936492919922,1.9653139114379883,2.075773000717163,2.0392754077911377,2.424177408218384,2.0780222415924072,1.2361938953399658,2.3577189445495605,1.5881145000457764,1.1733760833740234,1.1446963548660278,1.60973060131073,1.684565544128418,1.3759715557098389,1.646443247795105,1.9835399389266968,1.5363320112228394,1.9140894412994385,1.8613507747650146,2.2098209857940674,1.6981120109558105,1.1209279298782349,1.339203119277954,0.8832241892814636,1.4828310012817383,0.9414510726928711,1.4718835353851318,1.9884357452392578,1.4683032035827637,1.5674080848693848,1.6451687812805176,1.9598896503448486,2.1599903106689453,1.8968636989593506,1.6263539791107178,2.063758134841919,1.265506625175476,1.5749378204345703,1.9393397569656372,1.3620367050170898,1.071169376373291,1.6027780771255493,1.1612762212753296,0.8697527050971985,2.3940377235412598,1.8008413314819336,2.1719260215759277,0.9058880805969238,1.8491034507751465,1.3760799169540405,1.963805079460144,2.294123649597168,1.5714702606201172,2.137305974960327,2.0536961555480957,0.7860058546066284,2.0387122631073,1.6554780006408691,0.8633782863616943,2.024333953857422,2.0305685997009277,1.7815277576446533,1.5843589305877686,1.554896593093872,1.0866342782974243,1.7173653841018677,2.3215088844299316,1.961923360824585,1.2919631004333496,1.4450664520263672,1.3645453453063965,1.1568409204483032,1.2361822128295898,2.0903024673461914,1.8546524047851562,1.9287054538726807,1.7318001985549927,1.822365641593933,1.3801898956298828,1.9881141185760498,1.3632888793945312,0.8386370539665222,1.2893543243408203,2.032766103744507,2.0641026496887207,1.4340637922286987,1.781764030456543,1.8350516557693481,1.6998436450958252,1.2642027139663696,1.8468735218048096,2.422321319580078,1.9887317419052124,2.0584957599639893,1.4907931089401245,1.9867429733276367,1.3703203201293945,2.1658878326416016,1.454207181930542,1.737532377243042,1.9792537689208984,1.4235109090805054,1.6531189680099487,2.856476306915283,1.7039982080459595,1.9944448471069336,2.1047773361206055,1.8663616180419922,1.5967141389846802,1.8033359050750732,2.5840253829956055,2.5136542320251465,1.4117953777313232,1.0715166330337524,1.153512716293335,2.610288619995117,1.961618423461914,1.6104735136032104,1.1394903659820557,1.8838181495666504,2.073289155960083,2.079732656478882,2.087097406387329,1.3019087314605713,2.249441146850586,1.6227601766586304,2.077364206314087,1.9084889888763428,0.9676668047904968,1.763020396232605,1.3052140474319458,1.8457460403442383,1.0747854709625244,2.112144708633423,1.7276782989501953,1.8701279163360596,2.210256576538086,2.4373812675476074,2.4599688053131104,1.361115574836731,1.6337127685546875,1.1616661548614502,1.7577311992645264,1.7300673723220825,2.283750534057617,2.6264288425445557,2.2816085815429688,2.172379970550537,1.9587773084640503,1.6168147325515747,1.737532377243042,2.1695189476013184,1.2338323593139648,1.2298071384429932,1.6887609958648682,1.3578534126281738,1.5553562641143799,1.365776777267456,1.733275055885315,2.1010782718658447,2.227153778076172,1.1867823600769043,1.431707501411438,1.6722509860992432,1.605724811553955,1.487236499786377,2.364677906036377,1.7075893878936768,2.3637497425079346,2.5754380226135254,1.7903999090194702,1.2991358041763306,1.4872384071350098,1.9032433032989502,1.5425175428390503,2.1462149620056152,1.9777077436447144,2.1071441173553467,1.4242666959762573,2.322652816772461,1.1265802383422852,1.1336843967437744,1.793704628944397,2.366218090057373,1.6433168649673462,2.123521566390991,1.0367422103881836,1.0918313264846802,1.7585043907165527,1.1200666427612305,0.8947298526763916,1.6358927488327026,2.0324294567108154,1.5169963836669922,2.025597333908081,1.7681002616882324,1.2087332010269165,2.0258142948150635,1.8390377759933472,0.9643826484680176,1.7879749536514282,1.0431888103485107,2.274059772491455,1.461451768875122,1.444762945175171,2.3940377235412598,1.7951349020004272,1.6068991422653198,1.8417255878448486,2.5740621089935303,1.7788722515106201,2.048332929611206,1.4881783723831177,1.4411157369613647,2.0146467685699463,1.6518056392669678,1.4605703353881836,1.7450339794158936,1.5423047542572021,2.0831563472747803,2.3137011528015137,1.3111169338226318,1.3133039474487305,1.4190778732299805,1.8705352544784546,1.1813794374465942,0.9764989614486694,1.5661118030548096,1.6333560943603516,1.878275990486145,1.30413818359375,2.0083181858062744,2.277435302734375,2.086573362350464,2.168708324432373,1.962282657623291,2.1654863357543945,1.9770591259002686,1.3479325771331787,1.1722756624221802,2.222198963165283,2.3016388416290283,1.8392530679702759,1.3133039474487305,1.271842360496521,2.690830707550049,0.9821166396141052,2.0497093200683594,0.8386370539665222,1.992923378944397,1.6297757625579834,2.0071425437927246,2.0985519886016846,1.4883944988250732,2.333848714828491,1.9217880964279175,1.5645596981048584,1.9028263092041016,2.1158323287963867,0.8386370539665222,1.3134121894836426,1.5967141389846802,2.002041816711426,2.1661832332611084,1.6568822860717773,2.4054641723632812,1.9741194248199463,1.752035140991211,1.7344717979431152,1.2843313217163086,0.4852532148361206,0.8386370539665222,1.363440752029419,2.3178772926330566,1.735912799835205,2.0680246353149414,1.5717222690582275,1.7910228967666626,1.5967141389846802,2.541686534881592,1.6785225868225098,1.2279638051986694,1.1189615726470947,2.1532747745513916,1.516931414604187,1.6762843132019043,1.770547866821289,1.1420058012008667,1.4939210414886475,1.7194130420684814,1.6780803203582764,1.5482754707336426,2.235386848449707,1.023679256439209,1.737532377243042,1.6472784280776978,2.401914596557617,1.7595124244689941,1.8587403297424316,2.1668548583984375,2.154592990875244,2.0659704208374023,1.9292994737625122,1.9171314239501953,2.2351813316345215,2.578536033630371,1.5454089641571045,2.0437350273132324,1.1167662143707275,1.2839168310165405,1.2548249959945679,1.0802505016326904,1.6337127685546875,1.723935842514038,2.212186574935913,2.206022262573242,1.7726011276245117,1.6507431268692017,2.394777774810791,1.7290347814559937,1.4660581350326538,2.2425596714019775,2.7143454551696777,1.8687360286712646,1.421030879020691,2.19724702835083,1.5692850351333618,1.7792094945907593,2.7652711868286133,1.7420706748962402,1.4394179582595825,2.0046253204345703,2.2353508472442627,2.1171722412109375,1.5074396133422852,2.176236629486084,1.5338091850280762,1.2379848957061768,1.6507431268692017,1.9195419549942017,1.857837438583374,1.7199350595474243,2.0030200481414795,1.9199798107147217,1.5841317176818848,1.7909783124923706,2.0226640701293945,2.1321542263031006,2.276003360748291,1.5620695352554321,1.8504629135131836,1.8840808868408203,2.364677906036377,1.737532377243042,1.9179147481918335,2.5459768772125244,2.8274970054626465,1.3799418210983276,1.4303584098815918,1.7905457019805908,2.5713279247283936,1.294739007949829,2.048666000366211,1.1779451370239258,1.5648807287216187,1.3520528078079224,1.4847416877746582,1.4606878757476807,2.1949524879455566,0.880325436592102,1.4614430665969849,2.1189122200012207,1.1438357830047607,2.2183988094329834,1.6229876279830933,1.4207302331924438,1.1087181568145752,1.5395301580429077,1.965817928314209,1.1280772686004639,2.2643978595733643,1.5682644844055176,1.218161702156067,1.371146321296692,1.664056658744812,2.283750534057617,2.14977765083313,1.7324943542480469,2.296402931213379,1.7879749536514282,2.3341422080993652,2.0540716648101807,2.008035659790039,1.3388245105743408,2.0928876399993896,1.401796579360962,2.5446691513061523,1.414330005645752,1.3289471864700317,1.752035140991211,2.556251287460327,1.069959044456482,1.961855173110962,2.0439200401306152,1.6028863191604614,1.713144063949585,1.743632197380066,2.3591716289520264,0.9821166396141052,2.203578233718872,1.8372771739959717,1.609657883644104,2.3438003063201904,1.643327236175537,2.1821794509887695,1.0207839012145996,1.717639446258545,1.5720741748809814,2.155259132385254,1.0757566690444946,1.3957760334014893,1.1269755363464355,1.5654828548431396,1.6472784280776978,2.302574872970581,2.3940377235412598,2.083150863647461,2.0572385787963867,1.8898706436157227,0.8386370539665222,1.0352044105529785,1.0352044105529785,1.7523722648620605,1.160986304283142,1.7838451862335205,1.737532377243042,2.033383846282959,1.5984338521957397,1.6472784280776978,0.880325436592102,2.283750534057617,2.0511136054992676,2.4684536457061768,2.3661439418792725,1.733275055885315,1.6055670976638794,2.467194080352783,2.032823085784912,1.6642910242080688,1.413648247718811,2.25456166267395,2.3233470916748047,2.0236258506774902,1.3592299222946167,2.1436808109283447,2.11362361907959,2.348942518234253,2.0224838256835938,2.2109286785125732,1.402427315711975,1.7313232421875,1.3131091594696045,2.207690954208374,2.5186715126037598,2.6152400970458984,2.206022262573242,1.122626781463623,1.692021369934082,1.9405039548873901,2.1006362438201904,2.1591994762420654,1.7344717979431152,2.283750534057617,2.086662769317627,0.9821166396141052,1.8987343311309814,1.6472784280776978,2.2188220024108887,1.9199656248092651,2.007854700088501,1.9792537689208984,2.846461057662964,2.283750534057617,1.8890645503997803,1.9385308027267456,1.9575424194335938,2.0645573139190674,2.1060805320739746,2.429955244064331,1.5132510662078857,1.7696305513381958,1.3684697151184082,1.3208694458007812,1.5682616233825684,1.5682616233825684,1.6108394861221313,1.737532377243042,1.6980440616607666,0.8386370539665222,2.0325679779052734,1.6007728576660156,1.6035839319229126,1.69535231590271,1.1167662143707275,2.064786911010742,1.414330005645752,2.280812978744507,0.7610776424407959,1.5394483804702759,1.2358219623565674,2.0391223430633545,1.2209913730621338,1.9888899326324463,1.7012147903442383,2.6177189350128174,2.7583770751953125,1.7403838634490967,1.1737921237945557,1.7134263515472412,1.4371687173843384,1.8453110456466675,0.9676668047904968,2.3906593322753906,1.7917790412902832,1.8807742595672607,0.8678029775619507,0.725590705871582,1.520369529724121,1.830289363861084,2.283750534057617,2.05798077583313,1.2468637228012085,1.6028250455856323,2.435255289077759,2.364677906036377,2.042970895767212,1.6472784280776978,1.519338846206665,1.829163908958435,1.626983642578125,1.2690861225128174,1.3186149597167969,1.7344717979431152,1.160986304283142,2.163017511367798,1.6472784280776978,1.1123719215393066,2.0690507888793945,1.7436190843582153,1.6883928775787354,1.737532377243042,1.4151055812835693,1.7290347814559937,1.2382692098617554,1.737532377243042,1.914349913597107,1.3993496894836426,1.6762843132019043,1.6982650756835938,1.3198000192642212,2.0081052780151367,2.3591716289520264,1.5175046920776367,1.82997727394104,1.8568955659866333,1.601102590560913,1.3891494274139404,1.3512996435165405,1.6472784280776978,1.3988912105560303,1.5288124084472656,1.8453110456466675,2.3137011528015137,2.301295042037964,1.6743577718734741,1.9647003412246704,1.9575424194335938,1.7420721054077148,1.5420620441436768,1.9672503471374512,1.9214359521865845,1.727880597114563,1.876659631729126,1.9883408546447754,1.2634868621826172,2.1293601989746094,1.9725682735443115,1.855078935623169,1.4798336029052734,2.364677906036377,2.146684169769287,1.8890447616577148,1.5976672172546387,1.730208158493042,1.9199798107147217,1.646443247795105,1.733275055885315,2.2896645069122314,1.8169690370559692,1.651308298110962,1.0866342782974243,2.3940377235412598,2.2473087310791016,1.9347407817840576,1.8659923076629639,2.05798077583313,1.6573742628097534,1.6364816427230835,1.8721579313278198,1.5682616233825684,1.0207839012145996,1.7879749536514282,1.6277858018875122,1.9004018306732178,1.661325216293335,1.965817928314209,2.1613388061523438,1.9931232929229736,2.0488834381103516,2.166126012802124,1.856153964996338,1.7282181978225708,1.737532377243042,1.5219346284866333,2.206022262573242,1.6173465251922607,1.733275055885315,1.7276240587234497,1.6580116748809814,1.98210871219635,2.206022262573242,1.3862993717193604,2.0340378284454346,1.7310048341751099,2.240095376968384,1.499363899230957,2.206022262573242,2.1788086891174316,1.4571291208267212,1.6108394861221313,2.3137011528015137,1.6712942123413086,2.042039632797241,1.733275055885315,2.283750534057617,2.3523035049438477,2.283750534057617,1.166795253753662,0.8678029775619507,2.3735694885253906,1.6338505744934082,1.7276240587234497,1.5682616233825684,1.965817928314209,1.733275055885315,2.058277130126953,1.8868831396102905,1.626377820968628,2.283750534057617,2.3591716289520264,2.2416203022003174,1.588773250579834,1.1834077835083008,1.7290347814559937,2.5273208618164062,1.7879749536514282,2.023993492126465,1.9847100973129272,1.5872132778167725,2.283750534057617,1.7568622827529907,2.058277130126953,2.3137011528015137,1.7321940660476685,2.033219814300537,2.5052244663238525,1.737532377243042,1.6472784280776978,1.9385308027267456,1.8008537292480469,1.9758007526397705,1.9229580163955688,1.8301467895507812,1.6472784280776978,1.7575972080230713,1.6917859315872192,1.4790475368499756,1.1240925788879395,2.01486873626709,1.8868831396102905,2.5766587257385254,1.737532377243042,1.9278678894042969,2.206022262573242,1.9199656248092651,1.7879749536514282,1.6339524984359741,1.6472784280776978,1.9671883583068848,1.6110076904296875,2.0081052780151367,2.206022262573242,2.05798077583313,1.5956686735153198,2.615293025970459,1.9347407817840576,1.9748274087905884,1.733275055885315,2.206022262573242,2.206022262573242,2.283750534057617,1.9509135484695435,1.6080758571624756,2.05798077583313,2.615293025970459,1.7321940660476685,2.0081052780151367,2.1561994552612305,1.6472784280776978,1.7290347814559937,1.2388341426849365,2.283750534057617,2.042039632797241,2.3137011528015137,2.0488834381103516,1.6472784280776978,1.6229876279830933,1.5066778659820557,1.738556146621704,1.6376656293869019,2.0068771839141846,2.283750534057617,1.733275055885315,1.6472784280776978,1.8372771739959717,1.536034345626831,1.6448454856872559,2.206022262573242,2.206022262573242],\"type\":\"histogram\"}],                        {\"template\":{\"data\":{\"histogram2dcontour\":[{\"type\":\"histogram2dcontour\",\"colorbar\":{\"outlinewidth\":0,\"ticks\":\"\"},\"colorscale\":[[0.0,\"#0d0887\"],[0.1111111111111111,\"#46039f\"],[0.2222222222222222,\"#7201a8\"],[0.3333333333333333,\"#9c179e\"],[0.4444444444444444,\"#bd3786\"],[0.5555555555555556,\"#d8576b\"],[0.6666666666666666,\"#ed7953\"],[0.7777777777777778,\"#fb9f3a\"],[0.8888888888888888,\"#fdca26\"],[1.0,\"#f0f921\"]]}],\"choropleth\":[{\"type\":\"choropleth\",\"colorbar\":{\"outlinewidth\":0,\"ticks\":\"\"}}],\"histogram2d\":[{\"type\":\"histogram2d\",\"colorbar\":{\"outlinewidth\":0,\"ticks\":\"\"},\"colorscale\":[[0.0,\"#0d0887\"],[0.1111111111111111,\"#46039f\"],[0.2222222222222222,\"#7201a8\"],[0.3333333333333333,\"#9c179e\"],[0.4444444444444444,\"#bd3786\"],[0.5555555555555556,\"#d8576b\"],[0.6666666666666666,\"#ed7953\"],[0.7777777777777778,\"#fb9f3a\"],[0.8888888888888888,\"#fdca26\"],[1.0,\"#f0f921\"]]}],\"heatmap\":[{\"type\":\"heatmap\",\"colorbar\":{\"outlinewidth\":0,\"ticks\":\"\"},\"colorscale\":[[0.0,\"#0d0887\"],[0.1111111111111111,\"#46039f\"],[0.2222222222222222,\"#7201a8\"],[0.3333333333333333,\"#9c179e\"],[0.4444444444444444,\"#bd3786\"],[0.5555555555555556,\"#d8576b\"],[0.6666666666666666,\"#ed7953\"],[0.7777777777777778,\"#fb9f3a\"],[0.8888888888888888,\"#fdca26\"],[1.0,\"#f0f921\"]]}],\"heatmapgl\":[{\"type\":\"heatmapgl\",\"colorbar\":{\"outlinewidth\":0,\"ticks\":\"\"},\"colorscale\":[[0.0,\"#0d0887\"],[0.1111111111111111,\"#46039f\"],[0.2222222222222222,\"#7201a8\"],[0.3333333333333333,\"#9c179e\"],[0.4444444444444444,\"#bd3786\"],[0.5555555555555556,\"#d8576b\"],[0.6666666666666666,\"#ed7953\"],[0.7777777777777778,\"#fb9f3a\"],[0.8888888888888888,\"#fdca26\"],[1.0,\"#f0f921\"]]}],\"contourcarpet\":[{\"type\":\"contourcarpet\",\"colorbar\":{\"outlinewidth\":0,\"ticks\":\"\"}}],\"contour\":[{\"type\":\"contour\",\"colorbar\":{\"outlinewidth\":0,\"ticks\":\"\"},\"colorscale\":[[0.0,\"#0d0887\"],[0.1111111111111111,\"#46039f\"],[0.2222222222222222,\"#7201a8\"],[0.3333333333333333,\"#9c179e\"],[0.4444444444444444,\"#bd3786\"],[0.5555555555555556,\"#d8576b\"],[0.6666666666666666,\"#ed7953\"],[0.7777777777777778,\"#fb9f3a\"],[0.8888888888888888,\"#fdca26\"],[1.0,\"#f0f921\"]]}],\"surface\":[{\"type\":\"surface\",\"colorbar\":{\"outlinewidth\":0,\"ticks\":\"\"},\"colorscale\":[[0.0,\"#0d0887\"],[0.1111111111111111,\"#46039f\"],[0.2222222222222222,\"#7201a8\"],[0.3333333333333333,\"#9c179e\"],[0.4444444444444444,\"#bd3786\"],[0.5555555555555556,\"#d8576b\"],[0.6666666666666666,\"#ed7953\"],[0.7777777777777778,\"#fb9f3a\"],[0.8888888888888888,\"#fdca26\"],[1.0,\"#f0f921\"]]}],\"mesh3d\":[{\"type\":\"mesh3d\",\"colorbar\":{\"outlinewidth\":0,\"ticks\":\"\"}}],\"scatter\":[{\"fillpattern\":{\"fillmode\":\"overlay\",\"size\":10,\"solidity\":0.2},\"type\":\"scatter\"}],\"parcoords\":[{\"type\":\"parcoords\",\"line\":{\"colorbar\":{\"outlinewidth\":0,\"ticks\":\"\"}}}],\"scatterpolargl\":[{\"type\":\"scatterpolargl\",\"marker\":{\"colorbar\":{\"outlinewidth\":0,\"ticks\":\"\"}}}],\"bar\":[{\"error_x\":{\"color\":\"#2a3f5f\"},\"error_y\":{\"color\":\"#2a3f5f\"},\"marker\":{\"line\":{\"color\":\"#E5ECF6\",\"width\":0.5},\"pattern\":{\"fillmode\":\"overlay\",\"size\":10,\"solidity\":0.2}},\"type\":\"bar\"}],\"scattergeo\":[{\"type\":\"scattergeo\",\"marker\":{\"colorbar\":{\"outlinewidth\":0,\"ticks\":\"\"}}}],\"scatterpolar\":[{\"type\":\"scatterpolar\",\"marker\":{\"colorbar\":{\"outlinewidth\":0,\"ticks\":\"\"}}}],\"histogram\":[{\"marker\":{\"pattern\":{\"fillmode\":\"overlay\",\"size\":10,\"solidity\":0.2}},\"type\":\"histogram\"}],\"scattergl\":[{\"type\":\"scattergl\",\"marker\":{\"colorbar\":{\"outlinewidth\":0,\"ticks\":\"\"}}}],\"scatter3d\":[{\"type\":\"scatter3d\",\"line\":{\"colorbar\":{\"outlinewidth\":0,\"ticks\":\"\"}},\"marker\":{\"colorbar\":{\"outlinewidth\":0,\"ticks\":\"\"}}}],\"scattermapbox\":[{\"type\":\"scattermapbox\",\"marker\":{\"colorbar\":{\"outlinewidth\":0,\"ticks\":\"\"}}}],\"scatterternary\":[{\"type\":\"scatterternary\",\"marker\":{\"colorbar\":{\"outlinewidth\":0,\"ticks\":\"\"}}}],\"scattercarpet\":[{\"type\":\"scattercarpet\",\"marker\":{\"colorbar\":{\"outlinewidth\":0,\"ticks\":\"\"}}}],\"carpet\":[{\"aaxis\":{\"endlinecolor\":\"#2a3f5f\",\"gridcolor\":\"white\",\"linecolor\":\"white\",\"minorgridcolor\":\"white\",\"startlinecolor\":\"#2a3f5f\"},\"baxis\":{\"endlinecolor\":\"#2a3f5f\",\"gridcolor\":\"white\",\"linecolor\":\"white\",\"minorgridcolor\":\"white\",\"startlinecolor\":\"#2a3f5f\"},\"type\":\"carpet\"}],\"table\":[{\"cells\":{\"fill\":{\"color\":\"#EBF0F8\"},\"line\":{\"color\":\"white\"}},\"header\":{\"fill\":{\"color\":\"#C8D4E3\"},\"line\":{\"color\":\"white\"}},\"type\":\"table\"}],\"barpolar\":[{\"marker\":{\"line\":{\"color\":\"#E5ECF6\",\"width\":0.5},\"pattern\":{\"fillmode\":\"overlay\",\"size\":10,\"solidity\":0.2}},\"type\":\"barpolar\"}],\"pie\":[{\"automargin\":true,\"type\":\"pie\"}]},\"layout\":{\"autotypenumbers\":\"strict\",\"colorway\":[\"#636efa\",\"#EF553B\",\"#00cc96\",\"#ab63fa\",\"#FFA15A\",\"#19d3f3\",\"#FF6692\",\"#B6E880\",\"#FF97FF\",\"#FECB52\"],\"font\":{\"color\":\"#2a3f5f\"},\"hovermode\":\"closest\",\"hoverlabel\":{\"align\":\"left\"},\"paper_bgcolor\":\"white\",\"plot_bgcolor\":\"#E5ECF6\",\"polar\":{\"bgcolor\":\"#E5ECF6\",\"angularaxis\":{\"gridcolor\":\"white\",\"linecolor\":\"white\",\"ticks\":\"\"},\"radialaxis\":{\"gridcolor\":\"white\",\"linecolor\":\"white\",\"ticks\":\"\"}},\"ternary\":{\"bgcolor\":\"#E5ECF6\",\"aaxis\":{\"gridcolor\":\"white\",\"linecolor\":\"white\",\"ticks\":\"\"},\"baxis\":{\"gridcolor\":\"white\",\"linecolor\":\"white\",\"ticks\":\"\"},\"caxis\":{\"gridcolor\":\"white\",\"linecolor\":\"white\",\"ticks\":\"\"}},\"coloraxis\":{\"colorbar\":{\"outlinewidth\":0,\"ticks\":\"\"}},\"colorscale\":{\"sequential\":[[0.0,\"#0d0887\"],[0.1111111111111111,\"#46039f\"],[0.2222222222222222,\"#7201a8\"],[0.3333333333333333,\"#9c179e\"],[0.4444444444444444,\"#bd3786\"],[0.5555555555555556,\"#d8576b\"],[0.6666666666666666,\"#ed7953\"],[0.7777777777777778,\"#fb9f3a\"],[0.8888888888888888,\"#fdca26\"],[1.0,\"#f0f921\"]],\"sequentialminus\":[[0.0,\"#0d0887\"],[0.1111111111111111,\"#46039f\"],[0.2222222222222222,\"#7201a8\"],[0.3333333333333333,\"#9c179e\"],[0.4444444444444444,\"#bd3786\"],[0.5555555555555556,\"#d8576b\"],[0.6666666666666666,\"#ed7953\"],[0.7777777777777778,\"#fb9f3a\"],[0.8888888888888888,\"#fdca26\"],[1.0,\"#f0f921\"]],\"diverging\":[[0,\"#8e0152\"],[0.1,\"#c51b7d\"],[0.2,\"#de77ae\"],[0.3,\"#f1b6da\"],[0.4,\"#fde0ef\"],[0.5,\"#f7f7f7\"],[0.6,\"#e6f5d0\"],[0.7,\"#b8e186\"],[0.8,\"#7fbc41\"],[0.9,\"#4d9221\"],[1,\"#276419\"]]},\"xaxis\":{\"gridcolor\":\"white\",\"linecolor\":\"white\",\"ticks\":\"\",\"title\":{\"standoff\":15},\"zerolinecolor\":\"white\",\"automargin\":true,\"zerolinewidth\":2},\"yaxis\":{\"gridcolor\":\"white\",\"linecolor\":\"white\",\"ticks\":\"\",\"title\":{\"standoff\":15},\"zerolinecolor\":\"white\",\"automargin\":true,\"zerolinewidth\":2},\"scene\":{\"xaxis\":{\"backgroundcolor\":\"#E5ECF6\",\"gridcolor\":\"white\",\"linecolor\":\"white\",\"showbackground\":true,\"ticks\":\"\",\"zerolinecolor\":\"white\",\"gridwidth\":2},\"yaxis\":{\"backgroundcolor\":\"#E5ECF6\",\"gridcolor\":\"white\",\"linecolor\":\"white\",\"showbackground\":true,\"ticks\":\"\",\"zerolinecolor\":\"white\",\"gridwidth\":2},\"zaxis\":{\"backgroundcolor\":\"#E5ECF6\",\"gridcolor\":\"white\",\"linecolor\":\"white\",\"showbackground\":true,\"ticks\":\"\",\"zerolinecolor\":\"white\",\"gridwidth\":2}},\"shapedefaults\":{\"line\":{\"color\":\"#2a3f5f\"}},\"annotationdefaults\":{\"arrowcolor\":\"#2a3f5f\",\"arrowhead\":0,\"arrowwidth\":1},\"geo\":{\"bgcolor\":\"white\",\"landcolor\":\"#E5ECF6\",\"subunitcolor\":\"white\",\"showland\":true,\"showlakes\":true,\"lakecolor\":\"white\"},\"title\":{\"x\":0.05},\"mapbox\":{\"style\":\"light\"}}},\"title\":{\"text\":\"Distribution of Difference In Nuclear Norms - DGI vs DGI+XM\"},\"xaxis\":{\"title\":{\"text\":\"Difference In Nuclear Norms - DGI vs DGI+XM\"}},\"yaxis\":{\"title\":{\"text\":\"Frequency\"}},\"font\":{\"size\":30},\"plot_bgcolor\":\"white\",\"paper_bgcolor\":\"white\"},                        {\"responsive\": true}                    ).then(function(){\n",
       "                            \n",
       "var gd = document.getElementById('7654d561-d47c-410b-919b-2485cf372c1c');\n",
       "var x = new MutationObserver(function (mutations, observer) {{\n",
       "        var display = window.getComputedStyle(gd).display;\n",
       "        if (!display || display === 'none') {{\n",
       "            console.log([gd, 'removed!']);\n",
       "            Plotly.purge(gd);\n",
       "            observer.disconnect();\n",
       "        }}\n",
       "}});\n",
       "\n",
       "// Listen for the removal of the full notebook cells\n",
       "var notebookContainer = gd.closest('#notebook-container');\n",
       "if (notebookContainer) {{\n",
       "    x.observe(notebookContainer, {childList: true});\n",
       "}}\n",
       "\n",
       "// Listen for the clearing of the current output cell\n",
       "var outputEl = gd.closest('.output');\n",
       "if (outputEl) {{\n",
       "    x.observe(outputEl, {childList: true});\n",
       "}}\n",
       "\n",
       "                        })                };                });            </script>        </div>"
      ]
     },
     "metadata": {},
     "output_type": "display_data"
    },
    {
     "data": {
      "application/vnd.plotly.v1+json": {
       "config": {
        "plotlyServerURL": "https://plot.ly"
       },
       "data": [
        {
         "type": "histogram",
         "x": [
          0.9868218898773193,
          1.5452245473861694,
          1.1569660902023315,
          0.5416580438613892,
          0.5154044032096863,
          1.374767780303955,
          1.2449984550476074,
          0.7449694275856018,
          1.3917808532714844,
          0.36157238483428955,
          1.0700440406799316,
          1.3878618478775024,
          0.7374393939971924,
          0.5785377025604248,
          1.0137028694152832,
          0.4728175699710846,
          1.2998030185699463,
          0.3914870321750641,
          1.2475039958953857,
          0.650906503200531,
          1.2754830121994019,
          0.5897480845451355,
          0.5938708186149597,
          1.2373452186584473,
          0.342992901802063,
          1.7418564558029175,
          0.31815090775489807,
          0.4503333866596222,
          0.26586708426475525,
          1.1068096160888672,
          1.1082189083099365,
          0.6061735153198242,
          1.0543951988220215,
          0.9062485694885254,
          1.1589815616607666,
          1.5026280879974365,
          1.0052673816680908,
          0.6616053581237793,
          0.6259251832962036,
          1.961268424987793,
          0.6535136699676514,
          1.1859397888183594,
          1.4874486923217773,
          0.532863974571228,
          0.34943562746047974,
          0.5569368600845337,
          0.3722153902053833,
          1.5512322187423706,
          0.833364725112915,
          0.3872068524360657,
          0.5387474298477173,
          0.5834777355194092,
          0.8827654123306274,
          1.4545077085494995,
          0.26139429211616516,
          0.630617082118988,
          1.1399166584014893,
          0.6238111257553101,
          0.5709695816040039,
          0.5074899196624756,
          0.5523593425750732,
          1.4126931428909302,
          0.34791210293769836,
          0.4455846846103668,
          1.0763812065124512,
          0.5327790975570679,
          0.6994898319244385,
          0.7984605431556702,
          1.2342267036437988,
          0.20591522753238678,
          0.6291683912277222,
          1.0360925197601318,
          1.3042917251586914,
          0.6539894938468933,
          0.6296167373657227,
          0.8907356262207031,
          1.195814609527588,
          0.1473945677280426,
          1.130319595336914,
          1.022538661956787,
          1.2246326208114624,
          0.8821238279342651,
          1.7152791023254395,
          0.3786502182483673,
          1.1632992029190063,
          1.2943953275680542,
          0.5095886588096619,
          1.072609305381775,
          0.750108003616333,
          1.569518804550171,
          0.5014646649360657,
          0.9606133699417114,
          0.4972504675388336,
          0.5422490835189819,
          0.583537220954895,
          1.1520452499389648,
          0.8063446283340454,
          0.6886671185493469,
          1.246758222579956,
          1.2233693599700928,
          1.5033529996871948,
          0.7704631090164185,
          2.21964955329895,
          1.3299500942230225,
          1.1450769901275635,
          0.43192535638809204,
          1.5992789268493652,
          1.5114903450012207,
          0.8052351474761963,
          1.0631868839263916,
          0.6061267852783203,
          1.6896775960922241,
          1.0665613412857056,
          1.396838665008545,
          0.6132631301879883,
          0.7186505198478699,
          1.1719982624053955,
          0.5829324722290039,
          0.5659081935882568,
          0.8940467834472656,
          0.8743098974227905,
          0.413717120885849,
          0.8823577165603638,
          0.8192051649093628,
          0.8418713808059692,
          0.8325793743133545,
          0.8661950826644897,
          1.0327632427215576,
          0.7845324277877808,
          0.5870858430862427,
          0.7546535134315491,
          1.324810266494751,
          1.2635447978973389,
          1.1762301921844482,
          0.9144281148910522,
          0.861150860786438,
          0.3115561902523041,
          0.5337100625038147,
          1.5909316539764404,
          1.1275159120559692,
          1.8403677940368652,
          0.9646433591842651,
          0.7989394068717957,
          0.8872973918914795,
          0.5544716119766235,
          1.2853212356567383,
          1.3758126497268677,
          1.515234351158142,
          0.5397300720214844,
          1.21787428855896,
          1.1121692657470703,
          0.806196928024292,
          0.9820142388343811,
          0.8871580362319946,
          0.5302756428718567,
          0.8608859181404114,
          0.6704294681549072,
          -0.013522818684577942,
          1.0986604690551758,
          1.885628342628479,
          0.25951823592185974,
          1.6226106882095337,
          0.9579172730445862,
          1.6653237342834473,
          0.8469702005386353,
          0.5756227374076843,
          0.8151637315750122,
          0.511909544467926,
          0.956174910068512,
          0.2562279999256134,
          1.5750337839126587,
          0.9903295040130615,
          0.7386378049850464,
          0.9725905656814575,
          0.6342881917953491,
          1.0399349927902222,
          1.2173978090286255,
          0.8097597360610962,
          1.323190689086914,
          0.8692094087600708,
          1.1003060340881348,
          0.7622122764587402,
          1.8861353397369385,
          0.91978919506073,
          1.4861111640930176,
          0.47255101799964905,
          0.9553359150886536,
          1.1133074760437012,
          1.3794671297073364,
          0.7877947092056274,
          1.0662035942077637,
          2.0920939445495605,
          1.020046591758728,
          0.8841580748558044,
          2.0832736492156982,
          0.8446578979492188,
          0.9223494529724121,
          0.7757300138473511,
          1.5755705833435059,
          0.7552469968795776,
          1.2561126947402954,
          0.44613808393478394,
          0.5082978010177612,
          1.368242859840393,
          1.1772675514221191,
          0.4798494279384613,
          1.3423563241958618,
          1.3685486316680908,
          0.7443509101867676,
          1.2281060218811035,
          1.2305772304534912,
          0.8617825508117676,
          0.6017031669616699,
          0.44249841570854187,
          0.9070814847946167,
          0.5991114377975464,
          0.9981580972671509,
          0.5250438451766968,
          0.16543573141098022,
          0.8126180171966553,
          0.9710108041763306,
          0.706902027130127,
          0.8191039562225342,
          0.5209417939186096,
          1.9754818677902222,
          1.3098382949829102,
          1.739322543144226,
          1.3609867095947266,
          0.6408284902572632,
          0.5995042324066162,
          1.1642907857894897,
          1.4336249828338623,
          0.7265899181365967,
          1.4379647970199585,
          0.9845784902572632,
          0.5942621231079102,
          1.2575222253799438,
          0.951554536819458,
          1.1477510929107666,
          1.7072248458862305,
          1.7834995985031128,
          1.9720094203948975,
          1.5621602535247803,
          0.5730129480361938,
          0.6565768718719482,
          1.1680337190628052,
          1.1285805702209473,
          2.005687713623047,
          0.5986230969429016,
          1.1925902366638184,
          0.7522023320198059,
          1.0719915628433228,
          1.954420804977417,
          0.7219675779342651,
          1.3586993217468262,
          0.9733694791793823,
          0.515716552734375,
          1.7899929285049438,
          0.9433813095092773,
          1.5031110048294067,
          1.5506330728530884,
          0.9872941970825195,
          1.0362324714660645,
          0.5164831876754761,
          1.0604270696640015,
          0.8765292167663574,
          1.3334258794784546,
          0.7053215503692627,
          0.8232364654541016,
          1.6113815307617188,
          1.4720065593719482,
          1.3942065238952637,
          1.6827926635742188,
          0.7371580600738525,
          1.2130262851715088,
          1.0780816078186035,
          1.287679672241211,
          0.7735868692398071,
          1.2834804058074951,
          1.1696678400039673,
          0.8720860481262207,
          1.4752973318099976,
          0.8416887521743774,
          1.551476240158081,
          1.1996350288391113,
          1.1178646087646484,
          1.193335771560669,
          0.768662691116333,
          0.5810003280639648,
          1.301987886428833,
          1.3010776042938232,
          2.183624029159546,
          1.2432408332824707,
          1.51278817653656,
          1.3779222965240479,
          0.6655617952346802,
          1.3904974460601807,
          0.7267919778823853,
          2.1201305389404297,
          1.1186059713363647,
          1.373012661933899,
          1.6837235689163208,
          1.5029866695404053,
          0.8508079051971436,
          0.8566223382949829,
          0.1463904082775116,
          1.4952398538589478,
          0.7421536445617676,
          0.956494927406311,
          1.1869643926620483,
          1.3358855247497559,
          1.606239914894104,
          1.6558531522750854,
          0.511140763759613,
          0.6792246103286743,
          0.6514954566955566,
          1.17549729347229,
          1.095067024230957,
          0.6567177176475525,
          0.7143625020980835,
          1.297339677810669,
          0.6165894865989685,
          2.174562931060791,
          0.8992451429367065,
          1.454784631729126,
          1.1825428009033203,
          1.0970511436462402,
          1.1885175704956055,
          1.7428016662597656,
          2.1032323837280273,
          0.9437892436981201,
          1.4874210357666016,
          0.9153184294700623,
          1.595794439315796,
          1.5138905048370361,
          1.0317010879516602,
          0.7915555238723755,
          2.099202871322632,
          0.4002811312675476,
          1.1420806646347046,
          1.7162494659423828,
          0.8389434814453125,
          1.5849741697311401,
          1.2476933002471924,
          1.008612036705017,
          0.719575822353363,
          1.264608383178711,
          0.882143497467041,
          0.5090879797935486,
          1.9439371824264526,
          1.1548305749893188,
          1.4934649467468262,
          2.3630330562591553,
          1.22698974609375,
          0.21147534251213074,
          1.6990517377853394,
          1.7691458463668823,
          1.4440443515777588,
          1.3456696271896362,
          1.2952635288238525,
          0.6672395467758179,
          1.2743841409683228,
          1.3605479001998901,
          1.3887449502944946,
          0.8566915988922119,
          0.5621094703674316,
          0.5640154480934143,
          1.969912052154541,
          0.5644502639770508,
          1.3364522457122803,
          1.0189603567123413,
          1.3350600004196167,
          1.6169002056121826,
          1.2493163347244263,
          0.8213901519775391,
          1.1163434982299805,
          0.8655239343643188,
          0.8138518333435059,
          0.6408125162124634,
          1.3461318016052246,
          1.4951341152191162,
          1.41984224319458,
          1.719462513923645,
          0.8053639531135559,
          1.0621174573898315,
          1.0578759908676147,
          1.562272548675537,
          1.6477410793304443,
          0.7550572752952576,
          1.2480239868164062,
          2.168792963027954,
          1.385416030883789,
          0.8766504526138306,
          0.9654486179351807,
          0.3390570878982544,
          1.4044170379638672,
          0.9552727937698364,
          0.8438495397567749,
          1.0725772380828857,
          2.0375680923461914,
          1.839418649673462,
          0.9528771638870239,
          1.8853814601898193,
          1.5982621908187866,
          1.1156781911849976,
          1.2738285064697266,
          1.2688910961151123,
          1.1623246669769287,
          1.4610337018966675,
          1.2215580940246582,
          1.1903830766677856,
          0.7827004790306091,
          1.0716904401779175,
          0.46021977066993713,
          1.486128807067871,
          2.009357452392578,
          0.6638274192810059,
          0.6074522733688354,
          0.801023542881012,
          1.2707808017730713,
          1.4841076135635376,
          1.506442666053772,
          1.5733253955841064,
          1.115660548210144,
          1.2071417570114136,
          1.6433464288711548,
          0.9719619750976562,
          1.3707356452941895,
          0.8198784589767456,
          1.8564242124557495,
          1.2942008972167969,
          1.6824896335601807,
          1.3343714475631714,
          1.6000748872756958,
          0.7394829988479614,
          1.1159021854400635,
          1.4790574312210083,
          1.6484792232513428,
          2.1600401401519775,
          1.489104986190796,
          1.9232205152511597,
          0.8688473105430603,
          1.2664563655853271,
          0.8864040374755859,
          1.3300681114196777,
          1.9409610033035278,
          1.0012574195861816,
          1.3135097026824951,
          1.5109500885009766,
          1.642091155052185,
          1.627990961074829,
          1.89536452293396,
          1.4240527153015137,
          0.9505923986434937,
          1.913273811340332,
          1.0236644744873047,
          0.9068593382835388,
          0.9172862768173218,
          1.1794159412384033,
          1.1070235967636108,
          0.8514186143875122,
          1.242329716682434,
          1.2752102613449097,
          1.4099396467208862,
          1.9008691310882568,
          1.7383193969726562,
          1.9794740676879883,
          1.3903298377990723,
          0.8630187511444092,
          0.9529563188552856,
          0.47272002696990967,
          1.1874165534973145,
          0.6871919631958008,
          1.1963540315628052,
          1.545221209526062,
          1.1393382549285889,
          1.2078795433044434,
          1.027343511581421,
          1.4305486679077148,
          2.31477952003479,
          1.4566216468811035,
          1.5473392009735107,
          1.920018196105957,
          0.8431780338287354,
          1.208536148071289,
          1.3903673887252808,
          0.8599889278411865,
          0.8710459470748901,
          1.1897164583206177,
          0.7394580841064453,
          0.5851482152938843,
          1.620417594909668,
          1.071324110031128,
          2.2759182453155518,
          0.8848824501037598,
          1.416274070739746,
          1.1017811298370361,
          1.5903712511062622,
          2.2394464015960693,
          0.9747271537780762,
          1.7780447006225586,
          1.3853617906570435,
          0.5375678539276123,
          1.671202540397644,
          1.4216011762619019,
          0.6456793546676636,
          1.411418080329895,
          1.203688383102417,
          1.1809581518173218,
          0.9231545925140381,
          0.9250526428222656,
          0.7774105072021484,
          1.3394757509231567,
          1.8889591693878174,
          1.6957225799560547,
          1.1348414421081543,
          1.0555988550186157,
          1.022449254989624,
          0.9431362152099609,
          0.9966654181480408,
          1.3606529235839844,
          1.4691085815429688,
          1.482100248336792,
          1.2814853191375732,
          1.1958935260772705,
          1.1322147846221924,
          1.2200499773025513,
          1.136737585067749,
          0.5090879797935486,
          0.8902885317802429,
          2.2662148475646973,
          1.6290881633758545,
          1.1293284893035889,
          1.3442254066467285,
          1.8063188791275024,
          1.6785999536514282,
          1.0259504318237305,
          1.4286465644836426,
          1.7607409954071045,
          1.2744287252426147,
          1.47271728515625,
          0.7227432727813721,
          1.6343942880630493,
          1.0728248357772827,
          1.4668458700180054,
          1.135529637336731,
          1.6179697513580322,
          1.1214810609817505,
          1.0536664724349976,
          1.2332979440689087,
          2.2450101375579834,
          1.1967344284057617,
          1.4986543655395508,
          1.8933188915252686,
          1.7872097492218018,
          1.0147085189819336,
          1.6862716674804688,
          1.8997764587402344,
          1.526856780052185,
          1.1197905540466309,
          0.8519625663757324,
          0.8445733785629272,
          1.8692567348480225,
          1.4017070531845093,
          1.467739462852478,
          0.983113706111908,
          1.3329334259033203,
          1.6822937726974487,
          1.766847848892212,
          1.544956922531128,
          1.0674554109573364,
          1.9756174087524414,
          1.267670750617981,
          1.7035729885101318,
          1.3167455196380615,
          0.6092801094055176,
          1.0932379961013794,
          1.0417152643203735,
          2.0798304080963135,
          0.7756459712982178,
          1.0784692764282227,
          1.3239803314208984,
          1.6174368858337402,
          1.6594878435134888,
          1.9108288288116455,
          2.1079423427581787,
          1.037946343421936,
          1.5192227363586426,
          0.8125883936882019,
          0.9636510014533997,
          1.1396621465682983,
          2.047804355621338,
          1.8354976177215576,
          1.8015869855880737,
          1.4011739492416382,
          1.6721471548080444,
          1.2557886838912964,
          1.6528098583221436,
          1.0146729946136475,
          1.0217435359954834,
          0.972444474697113,
          1.3282781839370728,
          1.0145766735076904,
          1.1315805912017822,
          1.0219578742980957,
          1.5425461530685425,
          1.200408697128296,
          1.2592378854751587,
          0.974317193031311,
          1.2039469480514526,
          1.5290229320526123,
          1.1503945589065552,
          1.330448031425476,
          1.9243764877319336,
          1.3936643600463867,
          1.8637489080429077,
          2.267881155014038,
          1.3279166221618652,
          0.8379702568054199,
          0.8977795243263245,
          0.9496921300888062,
          1.2333701848983765,
          1.4812103509902954,
          1.6164097785949707,
          1.7453994750976562,
          0.916914701461792,
          1.815162181854248,
          0.7976326942443848,
          1.0996469259262085,
          1.0566442012786865,
          1.473008394241333,
          1.4407049417495728,
          1.2603957653045654,
          0.6348053216934204,
          0.6855928301811218,
          1.3393278121948242,
          0.6931619644165039,
          0.4335463345050812,
          1.0762072801589966,
          1.581742525100708,
          1.2375519275665283,
          1.4132401943206787,
          1.555124282836914,
          0.623898983001709,
          1.4705233573913574,
          1.302163004875183,
          0.7085157632827759,
          1.613977313041687,
          0.6712375283241272,
          2.3600540161132812,
          1.1005828380584717,
          1.2214311361312866,
          1.3550827503204346,
          1.3102760314941406,
          1.2536946535110474,
          1.4020743370056152,
          2.188575267791748,
          1.3199998140335083,
          1.2905470132827759,
          1.268218755722046,
          0.905703067779541,
          1.1808407306671143,
          1.373773217201233,
          1.0009257793426514,
          1.118501901626587,
          1.1818050146102905,
          1.6228179931640625,
          1.732587218284607,
          0.718914270401001,
          0.757685661315918,
          1.1719399690628052,
          1.7660490274429321,
          0.8954989910125732,
          0.7648481130599976,
          1.391985535621643,
          1.2968740463256836,
          1.5295168161392212,
          0.9090228080749512,
          1.6940035820007324,
          1.7880877256393433,
          1.3261350393295288,
          1.995729923248291,
          1.6985857486724854,
          2.052743673324585,
          1.7499592304229736,
          1.096376895904541,
          0.8714882135391235,
          1.6753387451171875,
          1.7799901962280273,
          1.3664270639419556,
          0.757685661315918,
          0.9309210777282715,
          2.1964309215545654,
          0.7344310283660889,
          1.8050199747085571,
          0.5090879797935486,
          2.071242570877075,
          1.150087594985962,
          1.3561410903930664,
          1.2622227668762207,
          1.1233627796173096,
          2.328749179840088,
          1.4364556074142456,
          1.223567008972168,
          1.680140733718872,
          1.5378243923187256,
          0.5090879797935486,
          0.8322370052337646,
          1.0714850425720215,
          1.433635950088501,
          1.0942065715789795,
          1.6932709217071533,
          2.3351311683654785,
          1.1055850982666016,
          1.5155431032180786,
          1.631697416305542,
          0.8235774040222168,
          0.14077633619308472,
          0.5090879797935486,
          0.9237467050552368,
          2.0102038383483887,
          1.754277229309082,
          1.5178351402282715,
          0.9409136772155762,
          1.183608055114746,
          1.1417498588562012,
          2.339399814605713,
          1.1110098361968994,
          0.9751194715499878,
          0.6074522733688354,
          1.4599668979644775,
          1.102697730064392,
          0.9632908701896667,
          1.5047186613082886,
          0.9145478010177612,
          0.7051576972007751,
          1.1861507892608643,
          1.6205966472625732,
          1.0688037872314453,
          1.9022709131240845,
          0.6268401145935059,
          1.7037088871002197,
          1.3725512027740479,
          1.9788874387741089,
          1.2414476871490479,
          1.9823954105377197,
          1.705543041229248,
          1.4368723630905151,
          1.7841835021972656,
          1.5069355964660645,
          0.9681867361068726,
          1.7238872051239014,
          1.7629705667495728,
          0.8177437782287598,
          1.3733422756195068,
          0.6578289270401001,
          0.7989151477813721,
          0.717064380645752,
          0.5924530029296875,
          1.2714145183563232,
          1.3298118114471436,
          1.8788801431655884,
          1.668717384338379,
          1.2001253366470337,
          0.7204933166503906,
          1.6610544919967651,
          1.5686734914779663,
          1.0298182964324951,
          1.773482322692871,
          2.457014560699463,
          1.6436731815338135,
          1.194232702255249,
          1.3855342864990234,
          0.8499965667724609,
          1.7026251554489136,
          2.037395477294922,
          1.6074755191802979,
          1.2621148824691772,
          1.6243724822998047,
          1.6322492361068726,
          1.4808580875396729,
          0.9992393851280212,
          1.5307127237319946,
          0.9416133761405945,
          0.6882078051567078,
          0.80330491065979,
          1.797129511833191,
          0.9115962386131287,
          0.9576290845870972,
          1.5212308168411255,
          1.3321771621704102,
          0.8818531632423401,
          0.9864050149917603,
          2.2762203216552734,
          1.6573047637939453,
          1.5543711185455322,
          1.2737611532211304,
          1.391791582107544,
          1.6074782609939575,
          2.2701473236083984,
          1.5969772338867188,
          1.0020445585250854,
          2.1435775756835938,
          2.7140564918518066,
          1.1513466835021973,
          0.859194278717041,
          1.4878689050674438,
          2.205693483352661,
          1.1108729839324951,
          1.6071135997772217,
          0.782671332359314,
          0.9900438785552979,
          0.6803429126739502,
          1.1065802574157715,
          0.9749840497970581,
          1.5751891136169434,
          0.41155925393104553,
          0.9157439470291138,
          1.4642324447631836,
          0.7854712009429932,
          1.6117100715637207,
          1.1355305910110474,
          1.2008707523345947,
          0.9149271845817566,
          1.0605711936950684,
          1.1875560283660889,
          0.7668519020080566,
          1.2456002235412598,
          1.4913442134857178,
          0.6313047409057617,
          0.7341952323913574,
          1.4097429513931274,
          1.6082932949066162,
          1.4674487113952637,
          1.477102279663086,
          1.7355434894561768,
          1.3892796039581299,
          1.6289424896240234,
          1.8081789016723633,
          1.3671680688858032,
          0.8249853849411011,
          2.007326126098633,
          1.0326457023620605,
          1.464218258857727,
          0.7520412802696228,
          0.6701589822769165,
          1.463356375694275,
          2.3154778480529785,
          0.8480844497680664,
          2.5168709754943848,
          1.270946741104126,
          0.9488897323608398,
          1.029606580734253,
          1.0889344215393066,
          1.2733581066131592,
          0.7344310283660889,
          1.9278390407562256,
          0.7812082767486572,
          0.8471286296844482,
          1.8834381103515625,
          1.0339906215667725,
          1.5220158100128174,
          0.6960251927375793,
          0.8350443243980408,
          1.4984698295593262,
          1.7072906494140625,
          0.5621094703674316,
          0.7123832702636719,
          0.6166292428970337,
          1.2233988046646118,
          1.4349278211593628,
          2.005659341812134,
          1.7502052783966064,
          1.0356889963150024,
          1.0057423114776611,
          1.5264673233032227,
          0.5090879797935486,
          0.569439172744751,
          0.569439172744751,
          1.1739227771759033,
          0.6314128637313843,
          1.5495052337646484,
          1.6592657566070557,
          1.463402509689331,
          0.7870204448699951,
          1.2806710004806519,
          0.41155925393104553,
          1.824251413345337,
          1.2690136432647705,
          1.498334527015686,
          1.6375360488891602,
          1.1819846630096436,
          1.503798246383667,
          1.318568468093872,
          1.6178040504455566,
          1.6732457876205444,
          1.0130113363265991,
          1.8752858638763428,
          1.4451336860656738,
          1.309071660041809,
          0.9852584600448608,
          2.054921865463257,
          1.4871302843093872,
          1.7723389863967896,
          0.9121387004852295,
          1.9124000072479248,
          0.9021490812301636,
          1.3527462482452393,
          0.7577549815177917,
          1.2654261589050293,
          1.755342960357666,
          2.3261666297912598,
          1.670015811920166,
          0.6172172427177429,
          0.6993129849433899,
          1.4866795539855957,
          0.9413713216781616,
          1.8273308277130127,
          1.780033826828003,
          2.0916590690612793,
          1.9008617401123047,
          0.7344310283660889,
          1.037773609161377,
          1.172340989112854,
          2.216029644012451,
          1.0179146528244019,
          1.5132988691329956,
          1.1472291946411133,
          2.169301748275757,
          2.364140272140503,
          1.6216661930084229,
          1.4145698547363281,
          1.559003472328186,
          1.3610941171646118,
          1.6049258708953857,
          1.5889407396316528,
          0.8329392671585083,
          1.5108428001403809,
          0.9251949787139893,
          0.91715407371521,
          1.221729040145874,
          1.1495392322540283,
          0.980890154838562,
          1.4746146202087402,
          1.318761944770813,
          0.5090879797935486,
          1.384947419166565,
          0.9434797763824463,
          1.0537328720092773,
          1.554192304611206,
          0.6578289270401001,
          1.5391165018081665,
          0.6980625987052917,
          2.0722906589508057,
          0.44162747263908386,
          1.290601372718811,
          0.7951741814613342,
          0.8633365035057068,
          0.6964277029037476,
          0.98583984375,
          1.566023826599121,
          1.7660309076309204,
          2.298963785171509,
          1.2520688772201538,
          0.7548379302024841,
          1.7907716035842896,
          0.9859327077865601,
          1.3238754272460938,
          0.6092801094055176,
          1.4167197942733765,
          1.9255475997924805,
          0.9703636765480042,
          0.724826455116272,
          0.6205642223358154,
          1.5179423093795776,
          1.7779340744018555,
          1.7086341381072998,
          1.138793706893921,
          0.7101722955703735,
          1.0290775299072266,
          1.441746711730957,
          1.9044098854064941,
          1.5562844276428223,
          1.3874986171722412,
          0.9692384600639343,
          1.4109424352645874,
          1.1666045188903809,
          0.8832424879074097,
          0.8338600993156433,
          1.6006016731262207,
          0.6314128637313843,
          1.6214430332183838,
          1.3292382955551147,
          0.8190270066261292,
          0.8965296149253845,
          1.5842831134796143,
          1.5330075025558472,
          1.9996569156646729,
          1.2051866054534912,
          1.7920507192611694,
          0.6706147193908691,
          2.0082743167877197,
          1.4588185548782349,
          0.9382061958312988,
          1.2415211200714111,
          1.577854871749878,
          0.8560649156570435,
          1.2711879014968872,
          1.3868876695632935,
          0.9142504930496216,
          1.2576402425765991,
          1.1776155233383179,
          0.8346182107925415,
          0.7836401462554932,
          1.0715248584747314,
          1.2356094121932983,
          1.0885676145553589,
          0.9381999969482422,
          1.1419527530670166,
          2.1605660915374756,
          1.5145936012268066,
          1.6546443700790405,
          1.2475074529647827,
          1.5198071002960205,
          1.6783040761947632,
          0.8923636674880981,
          1.0547109842300415,
          1.861585021018982,
          1.4485299587249756,
          1.1595227718353271,
          1.383678913116455,
          0.8598489761352539,
          1.18958580493927,
          1.0144031047821045,
          1.0355942249298096,
          1.0012166500091553,
          1.9200570583343506,
          1.8894917964935303,
          1.4344367980957031,
          1.5370038747787476,
          1.943774938583374,
          1.2245575189590454,
          1.456933617591858,
          1.4484343528747559,
          1.0315096378326416,
          1.9154011011123657,
          1.4442212581634521,
          0.7774105072021484,
          1.5746333599090576,
          0.9816650748252869,
          1.1040126085281372,
          0.877623438835144,
          1.144975185394287,
          0.991014838218689,
          1.3242124319076538,
          1.2216408252716064,
          1.3333218097686768,
          0.6960251927375793,
          1.4578441381454468,
          1.2713485956192017,
          1.4283735752105713,
          1.4933035373687744,
          1.3038721084594727,
          2.5118050575256348,
          0.8917572498321533,
          1.2241029739379883,
          1.3092159032821655,
          0.7989621758460999,
          0.6529936790466309,
          1.3897762298583984,
          1.2181280851364136,
          1.997955083847046,
          1.2604389190673828,
          1.646867275238037,
          1.349748969078064,
          1.0089824199676514,
          0.9172114133834839,
          1.670530080795288,
          1.0196115970611572,
          1.0511138439178467,
          1.4016516208648682,
          1.3135030269622803,
          1.3742740154266357,
          1.867403268814087,
          1.886088252067566,
          0.557985782623291,
          0.9682233333587646,
          1.7315601110458374,
          1.6196868419647217,
          1.1496303081512451,
          1.4972833395004272,
          2.010598659515381,
          1.2289557456970215,
          1.7923529148101807,
          1.0442698001861572,
          0.7030462026596069,
          1.2504791021347046,
          1.5608394145965576,
          1.1649070978164673,
          1.1270322799682617,
          1.1836843490600586,
          1.5718673467636108,
          1.2295738458633423,
          1.4592117071151733,
          1.1505277156829834,
          2.1848855018615723,
          1.6153355836868286,
          1.4636296033859253,
          1.4505853652954102,
          0.8036330938339233,
          1.579831838607788,
          1.6711211204528809,
          1.3705703020095825,
          0.9567853212356567,
          0.7872335910797119,
          0.954973042011261,
          2.190406322479248,
          1.669528603553772,
          1.2134836912155151,
          1.9785925149917603,
          1.1051876544952393,
          1.2641948461532593,
          1.900787591934204,
          1.6706123352050781,
          1.2361830472946167,
          1.2691184282302856,
          1.1977622509002686,
          1.0986411571502686,
          1.1147862672805786,
          0.8677833676338196,
          1.173111081123352,
          1.57900071144104,
          1.0215871334075928,
          1.0045623779296875,
          0.6873140335083008,
          0.8766660690307617,
          1.3255927562713623,
          2.234053373336792,
          1.9340054988861084,
          0.9639880061149597,
          1.7299025058746338,
          1.1330033540725708,
          1.127573013305664,
          1.4353915452957153,
          1.386539101600647,
          1.0069570541381836,
          1.0915015935897827,
          1.304368257522583,
          1.7285664081573486,
          1.018009901046753,
          1.1960902214050293,
          1.819441795349121,
          1.1308799982070923,
          1.0380843877792358,
          1.4824877977371216,
          1.8993122577667236,
          1.7910802364349365,
          2.1343109607696533,
          0.8961964845657349,
          0.9897291660308838,
          1.306474208831787,
          1.6951165199279785,
          1.2119864225387573,
          1.2824602127075195,
          0.7894460558891296,
          1.328606367111206,
          1.753832459449768,
          0.8827459812164307,
          1.7417454719543457,
          1.0250062942504883,
          1.9764386415481567,
          1.024784803390503,
          1.422835350036621,
          1.2841153144836426,
          0.6785321831703186,
          0.9491292238235474,
          0.7738012075424194,
          1.0712831020355225,
          1.9692280292510986,
          1.4456208944320679,
          1.5281853675842285,
          0.7114582061767578,
          1.2299306392669678,
          0.7129204869270325,
          1.64640474319458,
          1.9783430099487305
         ]
        }
       ],
       "layout": {
        "font": {
         "size": 30
        },
        "paper_bgcolor": "white",
        "plot_bgcolor": "white",
        "template": {
         "data": {
          "bar": [
           {
            "error_x": {
             "color": "#2a3f5f"
            },
            "error_y": {
             "color": "#2a3f5f"
            },
            "marker": {
             "line": {
              "color": "#E5ECF6",
              "width": 0.5
             },
             "pattern": {
              "fillmode": "overlay",
              "size": 10,
              "solidity": 0.2
             }
            },
            "type": "bar"
           }
          ],
          "barpolar": [
           {
            "marker": {
             "line": {
              "color": "#E5ECF6",
              "width": 0.5
             },
             "pattern": {
              "fillmode": "overlay",
              "size": 10,
              "solidity": 0.2
             }
            },
            "type": "barpolar"
           }
          ],
          "carpet": [
           {
            "aaxis": {
             "endlinecolor": "#2a3f5f",
             "gridcolor": "white",
             "linecolor": "white",
             "minorgridcolor": "white",
             "startlinecolor": "#2a3f5f"
            },
            "baxis": {
             "endlinecolor": "#2a3f5f",
             "gridcolor": "white",
             "linecolor": "white",
             "minorgridcolor": "white",
             "startlinecolor": "#2a3f5f"
            },
            "type": "carpet"
           }
          ],
          "choropleth": [
           {
            "colorbar": {
             "outlinewidth": 0,
             "ticks": ""
            },
            "type": "choropleth"
           }
          ],
          "contour": [
           {
            "colorbar": {
             "outlinewidth": 0,
             "ticks": ""
            },
            "colorscale": [
             [
              0,
              "#0d0887"
             ],
             [
              0.1111111111111111,
              "#46039f"
             ],
             [
              0.2222222222222222,
              "#7201a8"
             ],
             [
              0.3333333333333333,
              "#9c179e"
             ],
             [
              0.4444444444444444,
              "#bd3786"
             ],
             [
              0.5555555555555556,
              "#d8576b"
             ],
             [
              0.6666666666666666,
              "#ed7953"
             ],
             [
              0.7777777777777778,
              "#fb9f3a"
             ],
             [
              0.8888888888888888,
              "#fdca26"
             ],
             [
              1,
              "#f0f921"
             ]
            ],
            "type": "contour"
           }
          ],
          "contourcarpet": [
           {
            "colorbar": {
             "outlinewidth": 0,
             "ticks": ""
            },
            "type": "contourcarpet"
           }
          ],
          "heatmap": [
           {
            "colorbar": {
             "outlinewidth": 0,
             "ticks": ""
            },
            "colorscale": [
             [
              0,
              "#0d0887"
             ],
             [
              0.1111111111111111,
              "#46039f"
             ],
             [
              0.2222222222222222,
              "#7201a8"
             ],
             [
              0.3333333333333333,
              "#9c179e"
             ],
             [
              0.4444444444444444,
              "#bd3786"
             ],
             [
              0.5555555555555556,
              "#d8576b"
             ],
             [
              0.6666666666666666,
              "#ed7953"
             ],
             [
              0.7777777777777778,
              "#fb9f3a"
             ],
             [
              0.8888888888888888,
              "#fdca26"
             ],
             [
              1,
              "#f0f921"
             ]
            ],
            "type": "heatmap"
           }
          ],
          "heatmapgl": [
           {
            "colorbar": {
             "outlinewidth": 0,
             "ticks": ""
            },
            "colorscale": [
             [
              0,
              "#0d0887"
             ],
             [
              0.1111111111111111,
              "#46039f"
             ],
             [
              0.2222222222222222,
              "#7201a8"
             ],
             [
              0.3333333333333333,
              "#9c179e"
             ],
             [
              0.4444444444444444,
              "#bd3786"
             ],
             [
              0.5555555555555556,
              "#d8576b"
             ],
             [
              0.6666666666666666,
              "#ed7953"
             ],
             [
              0.7777777777777778,
              "#fb9f3a"
             ],
             [
              0.8888888888888888,
              "#fdca26"
             ],
             [
              1,
              "#f0f921"
             ]
            ],
            "type": "heatmapgl"
           }
          ],
          "histogram": [
           {
            "marker": {
             "pattern": {
              "fillmode": "overlay",
              "size": 10,
              "solidity": 0.2
             }
            },
            "type": "histogram"
           }
          ],
          "histogram2d": [
           {
            "colorbar": {
             "outlinewidth": 0,
             "ticks": ""
            },
            "colorscale": [
             [
              0,
              "#0d0887"
             ],
             [
              0.1111111111111111,
              "#46039f"
             ],
             [
              0.2222222222222222,
              "#7201a8"
             ],
             [
              0.3333333333333333,
              "#9c179e"
             ],
             [
              0.4444444444444444,
              "#bd3786"
             ],
             [
              0.5555555555555556,
              "#d8576b"
             ],
             [
              0.6666666666666666,
              "#ed7953"
             ],
             [
              0.7777777777777778,
              "#fb9f3a"
             ],
             [
              0.8888888888888888,
              "#fdca26"
             ],
             [
              1,
              "#f0f921"
             ]
            ],
            "type": "histogram2d"
           }
          ],
          "histogram2dcontour": [
           {
            "colorbar": {
             "outlinewidth": 0,
             "ticks": ""
            },
            "colorscale": [
             [
              0,
              "#0d0887"
             ],
             [
              0.1111111111111111,
              "#46039f"
             ],
             [
              0.2222222222222222,
              "#7201a8"
             ],
             [
              0.3333333333333333,
              "#9c179e"
             ],
             [
              0.4444444444444444,
              "#bd3786"
             ],
             [
              0.5555555555555556,
              "#d8576b"
             ],
             [
              0.6666666666666666,
              "#ed7953"
             ],
             [
              0.7777777777777778,
              "#fb9f3a"
             ],
             [
              0.8888888888888888,
              "#fdca26"
             ],
             [
              1,
              "#f0f921"
             ]
            ],
            "type": "histogram2dcontour"
           }
          ],
          "mesh3d": [
           {
            "colorbar": {
             "outlinewidth": 0,
             "ticks": ""
            },
            "type": "mesh3d"
           }
          ],
          "parcoords": [
           {
            "line": {
             "colorbar": {
              "outlinewidth": 0,
              "ticks": ""
             }
            },
            "type": "parcoords"
           }
          ],
          "pie": [
           {
            "automargin": true,
            "type": "pie"
           }
          ],
          "scatter": [
           {
            "fillpattern": {
             "fillmode": "overlay",
             "size": 10,
             "solidity": 0.2
            },
            "type": "scatter"
           }
          ],
          "scatter3d": [
           {
            "line": {
             "colorbar": {
              "outlinewidth": 0,
              "ticks": ""
             }
            },
            "marker": {
             "colorbar": {
              "outlinewidth": 0,
              "ticks": ""
             }
            },
            "type": "scatter3d"
           }
          ],
          "scattercarpet": [
           {
            "marker": {
             "colorbar": {
              "outlinewidth": 0,
              "ticks": ""
             }
            },
            "type": "scattercarpet"
           }
          ],
          "scattergeo": [
           {
            "marker": {
             "colorbar": {
              "outlinewidth": 0,
              "ticks": ""
             }
            },
            "type": "scattergeo"
           }
          ],
          "scattergl": [
           {
            "marker": {
             "colorbar": {
              "outlinewidth": 0,
              "ticks": ""
             }
            },
            "type": "scattergl"
           }
          ],
          "scattermapbox": [
           {
            "marker": {
             "colorbar": {
              "outlinewidth": 0,
              "ticks": ""
             }
            },
            "type": "scattermapbox"
           }
          ],
          "scatterpolar": [
           {
            "marker": {
             "colorbar": {
              "outlinewidth": 0,
              "ticks": ""
             }
            },
            "type": "scatterpolar"
           }
          ],
          "scatterpolargl": [
           {
            "marker": {
             "colorbar": {
              "outlinewidth": 0,
              "ticks": ""
             }
            },
            "type": "scatterpolargl"
           }
          ],
          "scatterternary": [
           {
            "marker": {
             "colorbar": {
              "outlinewidth": 0,
              "ticks": ""
             }
            },
            "type": "scatterternary"
           }
          ],
          "surface": [
           {
            "colorbar": {
             "outlinewidth": 0,
             "ticks": ""
            },
            "colorscale": [
             [
              0,
              "#0d0887"
             ],
             [
              0.1111111111111111,
              "#46039f"
             ],
             [
              0.2222222222222222,
              "#7201a8"
             ],
             [
              0.3333333333333333,
              "#9c179e"
             ],
             [
              0.4444444444444444,
              "#bd3786"
             ],
             [
              0.5555555555555556,
              "#d8576b"
             ],
             [
              0.6666666666666666,
              "#ed7953"
             ],
             [
              0.7777777777777778,
              "#fb9f3a"
             ],
             [
              0.8888888888888888,
              "#fdca26"
             ],
             [
              1,
              "#f0f921"
             ]
            ],
            "type": "surface"
           }
          ],
          "table": [
           {
            "cells": {
             "fill": {
              "color": "#EBF0F8"
             },
             "line": {
              "color": "white"
             }
            },
            "header": {
             "fill": {
              "color": "#C8D4E3"
             },
             "line": {
              "color": "white"
             }
            },
            "type": "table"
           }
          ]
         },
         "layout": {
          "annotationdefaults": {
           "arrowcolor": "#2a3f5f",
           "arrowhead": 0,
           "arrowwidth": 1
          },
          "autotypenumbers": "strict",
          "coloraxis": {
           "colorbar": {
            "outlinewidth": 0,
            "ticks": ""
           }
          },
          "colorscale": {
           "diverging": [
            [
             0,
             "#8e0152"
            ],
            [
             0.1,
             "#c51b7d"
            ],
            [
             0.2,
             "#de77ae"
            ],
            [
             0.3,
             "#f1b6da"
            ],
            [
             0.4,
             "#fde0ef"
            ],
            [
             0.5,
             "#f7f7f7"
            ],
            [
             0.6,
             "#e6f5d0"
            ],
            [
             0.7,
             "#b8e186"
            ],
            [
             0.8,
             "#7fbc41"
            ],
            [
             0.9,
             "#4d9221"
            ],
            [
             1,
             "#276419"
            ]
           ],
           "sequential": [
            [
             0,
             "#0d0887"
            ],
            [
             0.1111111111111111,
             "#46039f"
            ],
            [
             0.2222222222222222,
             "#7201a8"
            ],
            [
             0.3333333333333333,
             "#9c179e"
            ],
            [
             0.4444444444444444,
             "#bd3786"
            ],
            [
             0.5555555555555556,
             "#d8576b"
            ],
            [
             0.6666666666666666,
             "#ed7953"
            ],
            [
             0.7777777777777778,
             "#fb9f3a"
            ],
            [
             0.8888888888888888,
             "#fdca26"
            ],
            [
             1,
             "#f0f921"
            ]
           ],
           "sequentialminus": [
            [
             0,
             "#0d0887"
            ],
            [
             0.1111111111111111,
             "#46039f"
            ],
            [
             0.2222222222222222,
             "#7201a8"
            ],
            [
             0.3333333333333333,
             "#9c179e"
            ],
            [
             0.4444444444444444,
             "#bd3786"
            ],
            [
             0.5555555555555556,
             "#d8576b"
            ],
            [
             0.6666666666666666,
             "#ed7953"
            ],
            [
             0.7777777777777778,
             "#fb9f3a"
            ],
            [
             0.8888888888888888,
             "#fdca26"
            ],
            [
             1,
             "#f0f921"
            ]
           ]
          },
          "colorway": [
           "#636efa",
           "#EF553B",
           "#00cc96",
           "#ab63fa",
           "#FFA15A",
           "#19d3f3",
           "#FF6692",
           "#B6E880",
           "#FF97FF",
           "#FECB52"
          ],
          "font": {
           "color": "#2a3f5f"
          },
          "geo": {
           "bgcolor": "white",
           "lakecolor": "white",
           "landcolor": "#E5ECF6",
           "showlakes": true,
           "showland": true,
           "subunitcolor": "white"
          },
          "hoverlabel": {
           "align": "left"
          },
          "hovermode": "closest",
          "mapbox": {
           "style": "light"
          },
          "paper_bgcolor": "white",
          "plot_bgcolor": "#E5ECF6",
          "polar": {
           "angularaxis": {
            "gridcolor": "white",
            "linecolor": "white",
            "ticks": ""
           },
           "bgcolor": "#E5ECF6",
           "radialaxis": {
            "gridcolor": "white",
            "linecolor": "white",
            "ticks": ""
           }
          },
          "scene": {
           "xaxis": {
            "backgroundcolor": "#E5ECF6",
            "gridcolor": "white",
            "gridwidth": 2,
            "linecolor": "white",
            "showbackground": true,
            "ticks": "",
            "zerolinecolor": "white"
           },
           "yaxis": {
            "backgroundcolor": "#E5ECF6",
            "gridcolor": "white",
            "gridwidth": 2,
            "linecolor": "white",
            "showbackground": true,
            "ticks": "",
            "zerolinecolor": "white"
           },
           "zaxis": {
            "backgroundcolor": "#E5ECF6",
            "gridcolor": "white",
            "gridwidth": 2,
            "linecolor": "white",
            "showbackground": true,
            "ticks": "",
            "zerolinecolor": "white"
           }
          },
          "shapedefaults": {
           "line": {
            "color": "#2a3f5f"
           }
          },
          "ternary": {
           "aaxis": {
            "gridcolor": "white",
            "linecolor": "white",
            "ticks": ""
           },
           "baxis": {
            "gridcolor": "white",
            "linecolor": "white",
            "ticks": ""
           },
           "bgcolor": "#E5ECF6",
           "caxis": {
            "gridcolor": "white",
            "linecolor": "white",
            "ticks": ""
           }
          },
          "title": {
           "x": 0.05
          },
          "xaxis": {
           "automargin": true,
           "gridcolor": "white",
           "linecolor": "white",
           "ticks": "",
           "title": {
            "standoff": 15
           },
           "zerolinecolor": "white",
           "zerolinewidth": 2
          },
          "yaxis": {
           "automargin": true,
           "gridcolor": "white",
           "linecolor": "white",
           "ticks": "",
           "title": {
            "standoff": 15
           },
           "zerolinecolor": "white",
           "zerolinewidth": 2
          }
         }
        },
        "title": {
         "text": "Distribution of Difference In Nuclear Norms - DGI ID vs DGI+XM"
        },
        "xaxis": {
         "title": {
          "text": "Difference In Nuclear Norms - DGI ID vs DGI+XM"
         }
        },
        "yaxis": {
         "title": {
          "text": "Frequency"
         }
        }
       }
      },
      "text/html": [
       "<div>                            <div id=\"56a51c2d-e1f1-4875-80c9-499ebca3e307\" class=\"plotly-graph-div\" style=\"height:525px; width:100%;\"></div>            <script type=\"text/javascript\">                require([\"plotly\"], function(Plotly) {                    window.PLOTLYENV=window.PLOTLYENV || {};                                    if (document.getElementById(\"56a51c2d-e1f1-4875-80c9-499ebca3e307\")) {                    Plotly.newPlot(                        \"56a51c2d-e1f1-4875-80c9-499ebca3e307\",                        [{\"x\":[0.9868218898773193,1.5452245473861694,1.1569660902023315,0.5416580438613892,0.5154044032096863,1.374767780303955,1.2449984550476074,0.7449694275856018,1.3917808532714844,0.36157238483428955,1.0700440406799316,1.3878618478775024,0.7374393939971924,0.5785377025604248,1.0137028694152832,0.4728175699710846,1.2998030185699463,0.3914870321750641,1.2475039958953857,0.650906503200531,1.2754830121994019,0.5897480845451355,0.5938708186149597,1.2373452186584473,0.342992901802063,1.7418564558029175,0.31815090775489807,0.4503333866596222,0.26586708426475525,1.1068096160888672,1.1082189083099365,0.6061735153198242,1.0543951988220215,0.9062485694885254,1.1589815616607666,1.5026280879974365,1.0052673816680908,0.6616053581237793,0.6259251832962036,1.961268424987793,0.6535136699676514,1.1859397888183594,1.4874486923217773,0.532863974571228,0.34943562746047974,0.5569368600845337,0.3722153902053833,1.5512322187423706,0.833364725112915,0.3872068524360657,0.5387474298477173,0.5834777355194092,0.8827654123306274,1.4545077085494995,0.26139429211616516,0.630617082118988,1.1399166584014893,0.6238111257553101,0.5709695816040039,0.5074899196624756,0.5523593425750732,1.4126931428909302,0.34791210293769836,0.4455846846103668,1.0763812065124512,0.5327790975570679,0.6994898319244385,0.7984605431556702,1.2342267036437988,0.20591522753238678,0.6291683912277222,1.0360925197601318,1.3042917251586914,0.6539894938468933,0.6296167373657227,0.8907356262207031,1.195814609527588,0.1473945677280426,1.130319595336914,1.022538661956787,1.2246326208114624,0.8821238279342651,1.7152791023254395,0.3786502182483673,1.1632992029190063,1.2943953275680542,0.5095886588096619,1.072609305381775,0.750108003616333,1.569518804550171,0.5014646649360657,0.9606133699417114,0.4972504675388336,0.5422490835189819,0.583537220954895,1.1520452499389648,0.8063446283340454,0.6886671185493469,1.246758222579956,1.2233693599700928,1.5033529996871948,0.7704631090164185,2.21964955329895,1.3299500942230225,1.1450769901275635,0.43192535638809204,1.5992789268493652,1.5114903450012207,0.8052351474761963,1.0631868839263916,0.6061267852783203,1.6896775960922241,1.0665613412857056,1.396838665008545,0.6132631301879883,0.7186505198478699,1.1719982624053955,0.5829324722290039,0.5659081935882568,0.8940467834472656,0.8743098974227905,0.413717120885849,0.8823577165603638,0.8192051649093628,0.8418713808059692,0.8325793743133545,0.8661950826644897,1.0327632427215576,0.7845324277877808,0.5870858430862427,0.7546535134315491,1.324810266494751,1.2635447978973389,1.1762301921844482,0.9144281148910522,0.861150860786438,0.3115561902523041,0.5337100625038147,1.5909316539764404,1.1275159120559692,1.8403677940368652,0.9646433591842651,0.7989394068717957,0.8872973918914795,0.5544716119766235,1.2853212356567383,1.3758126497268677,1.515234351158142,0.5397300720214844,1.21787428855896,1.1121692657470703,0.806196928024292,0.9820142388343811,0.8871580362319946,0.5302756428718567,0.8608859181404114,0.6704294681549072,-0.013522818684577942,1.0986604690551758,1.885628342628479,0.25951823592185974,1.6226106882095337,0.9579172730445862,1.6653237342834473,0.8469702005386353,0.5756227374076843,0.8151637315750122,0.511909544467926,0.956174910068512,0.2562279999256134,1.5750337839126587,0.9903295040130615,0.7386378049850464,0.9725905656814575,0.6342881917953491,1.0399349927902222,1.2173978090286255,0.8097597360610962,1.323190689086914,0.8692094087600708,1.1003060340881348,0.7622122764587402,1.8861353397369385,0.91978919506073,1.4861111640930176,0.47255101799964905,0.9553359150886536,1.1133074760437012,1.3794671297073364,0.7877947092056274,1.0662035942077637,2.0920939445495605,1.020046591758728,0.8841580748558044,2.0832736492156982,0.8446578979492188,0.9223494529724121,0.7757300138473511,1.5755705833435059,0.7552469968795776,1.2561126947402954,0.44613808393478394,0.5082978010177612,1.368242859840393,1.1772675514221191,0.4798494279384613,1.3423563241958618,1.3685486316680908,0.7443509101867676,1.2281060218811035,1.2305772304534912,0.8617825508117676,0.6017031669616699,0.44249841570854187,0.9070814847946167,0.5991114377975464,0.9981580972671509,0.5250438451766968,0.16543573141098022,0.8126180171966553,0.9710108041763306,0.706902027130127,0.8191039562225342,0.5209417939186096,1.9754818677902222,1.3098382949829102,1.739322543144226,1.3609867095947266,0.6408284902572632,0.5995042324066162,1.1642907857894897,1.4336249828338623,0.7265899181365967,1.4379647970199585,0.9845784902572632,0.5942621231079102,1.2575222253799438,0.951554536819458,1.1477510929107666,1.7072248458862305,1.7834995985031128,1.9720094203948975,1.5621602535247803,0.5730129480361938,0.6565768718719482,1.1680337190628052,1.1285805702209473,2.005687713623047,0.5986230969429016,1.1925902366638184,0.7522023320198059,1.0719915628433228,1.954420804977417,0.7219675779342651,1.3586993217468262,0.9733694791793823,0.515716552734375,1.7899929285049438,0.9433813095092773,1.5031110048294067,1.5506330728530884,0.9872941970825195,1.0362324714660645,0.5164831876754761,1.0604270696640015,0.8765292167663574,1.3334258794784546,0.7053215503692627,0.8232364654541016,1.6113815307617188,1.4720065593719482,1.3942065238952637,1.6827926635742188,0.7371580600738525,1.2130262851715088,1.0780816078186035,1.287679672241211,0.7735868692398071,1.2834804058074951,1.1696678400039673,0.8720860481262207,1.4752973318099976,0.8416887521743774,1.551476240158081,1.1996350288391113,1.1178646087646484,1.193335771560669,0.768662691116333,0.5810003280639648,1.301987886428833,1.3010776042938232,2.183624029159546,1.2432408332824707,1.51278817653656,1.3779222965240479,0.6655617952346802,1.3904974460601807,0.7267919778823853,2.1201305389404297,1.1186059713363647,1.373012661933899,1.6837235689163208,1.5029866695404053,0.8508079051971436,0.8566223382949829,0.1463904082775116,1.4952398538589478,0.7421536445617676,0.956494927406311,1.1869643926620483,1.3358855247497559,1.606239914894104,1.6558531522750854,0.511140763759613,0.6792246103286743,0.6514954566955566,1.17549729347229,1.095067024230957,0.6567177176475525,0.7143625020980835,1.297339677810669,0.6165894865989685,2.174562931060791,0.8992451429367065,1.454784631729126,1.1825428009033203,1.0970511436462402,1.1885175704956055,1.7428016662597656,2.1032323837280273,0.9437892436981201,1.4874210357666016,0.9153184294700623,1.595794439315796,1.5138905048370361,1.0317010879516602,0.7915555238723755,2.099202871322632,0.4002811312675476,1.1420806646347046,1.7162494659423828,0.8389434814453125,1.5849741697311401,1.2476933002471924,1.008612036705017,0.719575822353363,1.264608383178711,0.882143497467041,0.5090879797935486,1.9439371824264526,1.1548305749893188,1.4934649467468262,2.3630330562591553,1.22698974609375,0.21147534251213074,1.6990517377853394,1.7691458463668823,1.4440443515777588,1.3456696271896362,1.2952635288238525,0.6672395467758179,1.2743841409683228,1.3605479001998901,1.3887449502944946,0.8566915988922119,0.5621094703674316,0.5640154480934143,1.969912052154541,0.5644502639770508,1.3364522457122803,1.0189603567123413,1.3350600004196167,1.6169002056121826,1.2493163347244263,0.8213901519775391,1.1163434982299805,0.8655239343643188,0.8138518333435059,0.6408125162124634,1.3461318016052246,1.4951341152191162,1.41984224319458,1.719462513923645,0.8053639531135559,1.0621174573898315,1.0578759908676147,1.562272548675537,1.6477410793304443,0.7550572752952576,1.2480239868164062,2.168792963027954,1.385416030883789,0.8766504526138306,0.9654486179351807,0.3390570878982544,1.4044170379638672,0.9552727937698364,0.8438495397567749,1.0725772380828857,2.0375680923461914,1.839418649673462,0.9528771638870239,1.8853814601898193,1.5982621908187866,1.1156781911849976,1.2738285064697266,1.2688910961151123,1.1623246669769287,1.4610337018966675,1.2215580940246582,1.1903830766677856,0.7827004790306091,1.0716904401779175,0.46021977066993713,1.486128807067871,2.009357452392578,0.6638274192810059,0.6074522733688354,0.801023542881012,1.2707808017730713,1.4841076135635376,1.506442666053772,1.5733253955841064,1.115660548210144,1.2071417570114136,1.6433464288711548,0.9719619750976562,1.3707356452941895,0.8198784589767456,1.8564242124557495,1.2942008972167969,1.6824896335601807,1.3343714475631714,1.6000748872756958,0.7394829988479614,1.1159021854400635,1.4790574312210083,1.6484792232513428,2.1600401401519775,1.489104986190796,1.9232205152511597,0.8688473105430603,1.2664563655853271,0.8864040374755859,1.3300681114196777,1.9409610033035278,1.0012574195861816,1.3135097026824951,1.5109500885009766,1.642091155052185,1.627990961074829,1.89536452293396,1.4240527153015137,0.9505923986434937,1.913273811340332,1.0236644744873047,0.9068593382835388,0.9172862768173218,1.1794159412384033,1.1070235967636108,0.8514186143875122,1.242329716682434,1.2752102613449097,1.4099396467208862,1.9008691310882568,1.7383193969726562,1.9794740676879883,1.3903298377990723,0.8630187511444092,0.9529563188552856,0.47272002696990967,1.1874165534973145,0.6871919631958008,1.1963540315628052,1.545221209526062,1.1393382549285889,1.2078795433044434,1.027343511581421,1.4305486679077148,2.31477952003479,1.4566216468811035,1.5473392009735107,1.920018196105957,0.8431780338287354,1.208536148071289,1.3903673887252808,0.8599889278411865,0.8710459470748901,1.1897164583206177,0.7394580841064453,0.5851482152938843,1.620417594909668,1.071324110031128,2.2759182453155518,0.8848824501037598,1.416274070739746,1.1017811298370361,1.5903712511062622,2.2394464015960693,0.9747271537780762,1.7780447006225586,1.3853617906570435,0.5375678539276123,1.671202540397644,1.4216011762619019,0.6456793546676636,1.411418080329895,1.203688383102417,1.1809581518173218,0.9231545925140381,0.9250526428222656,0.7774105072021484,1.3394757509231567,1.8889591693878174,1.6957225799560547,1.1348414421081543,1.0555988550186157,1.022449254989624,0.9431362152099609,0.9966654181480408,1.3606529235839844,1.4691085815429688,1.482100248336792,1.2814853191375732,1.1958935260772705,1.1322147846221924,1.2200499773025513,1.136737585067749,0.5090879797935486,0.8902885317802429,2.2662148475646973,1.6290881633758545,1.1293284893035889,1.3442254066467285,1.8063188791275024,1.6785999536514282,1.0259504318237305,1.4286465644836426,1.7607409954071045,1.2744287252426147,1.47271728515625,0.7227432727813721,1.6343942880630493,1.0728248357772827,1.4668458700180054,1.135529637336731,1.6179697513580322,1.1214810609817505,1.0536664724349976,1.2332979440689087,2.2450101375579834,1.1967344284057617,1.4986543655395508,1.8933188915252686,1.7872097492218018,1.0147085189819336,1.6862716674804688,1.8997764587402344,1.526856780052185,1.1197905540466309,0.8519625663757324,0.8445733785629272,1.8692567348480225,1.4017070531845093,1.467739462852478,0.983113706111908,1.3329334259033203,1.6822937726974487,1.766847848892212,1.544956922531128,1.0674554109573364,1.9756174087524414,1.267670750617981,1.7035729885101318,1.3167455196380615,0.6092801094055176,1.0932379961013794,1.0417152643203735,2.0798304080963135,0.7756459712982178,1.0784692764282227,1.3239803314208984,1.6174368858337402,1.6594878435134888,1.9108288288116455,2.1079423427581787,1.037946343421936,1.5192227363586426,0.8125883936882019,0.9636510014533997,1.1396621465682983,2.047804355621338,1.8354976177215576,1.8015869855880737,1.4011739492416382,1.6721471548080444,1.2557886838912964,1.6528098583221436,1.0146729946136475,1.0217435359954834,0.972444474697113,1.3282781839370728,1.0145766735076904,1.1315805912017822,1.0219578742980957,1.5425461530685425,1.200408697128296,1.2592378854751587,0.974317193031311,1.2039469480514526,1.5290229320526123,1.1503945589065552,1.330448031425476,1.9243764877319336,1.3936643600463867,1.8637489080429077,2.267881155014038,1.3279166221618652,0.8379702568054199,0.8977795243263245,0.9496921300888062,1.2333701848983765,1.4812103509902954,1.6164097785949707,1.7453994750976562,0.916914701461792,1.815162181854248,0.7976326942443848,1.0996469259262085,1.0566442012786865,1.473008394241333,1.4407049417495728,1.2603957653045654,0.6348053216934204,0.6855928301811218,1.3393278121948242,0.6931619644165039,0.4335463345050812,1.0762072801589966,1.581742525100708,1.2375519275665283,1.4132401943206787,1.555124282836914,0.623898983001709,1.4705233573913574,1.302163004875183,0.7085157632827759,1.613977313041687,0.6712375283241272,2.3600540161132812,1.1005828380584717,1.2214311361312866,1.3550827503204346,1.3102760314941406,1.2536946535110474,1.4020743370056152,2.188575267791748,1.3199998140335083,1.2905470132827759,1.268218755722046,0.905703067779541,1.1808407306671143,1.373773217201233,1.0009257793426514,1.118501901626587,1.1818050146102905,1.6228179931640625,1.732587218284607,0.718914270401001,0.757685661315918,1.1719399690628052,1.7660490274429321,0.8954989910125732,0.7648481130599976,1.391985535621643,1.2968740463256836,1.5295168161392212,0.9090228080749512,1.6940035820007324,1.7880877256393433,1.3261350393295288,1.995729923248291,1.6985857486724854,2.052743673324585,1.7499592304229736,1.096376895904541,0.8714882135391235,1.6753387451171875,1.7799901962280273,1.3664270639419556,0.757685661315918,0.9309210777282715,2.1964309215545654,0.7344310283660889,1.8050199747085571,0.5090879797935486,2.071242570877075,1.150087594985962,1.3561410903930664,1.2622227668762207,1.1233627796173096,2.328749179840088,1.4364556074142456,1.223567008972168,1.680140733718872,1.5378243923187256,0.5090879797935486,0.8322370052337646,1.0714850425720215,1.433635950088501,1.0942065715789795,1.6932709217071533,2.3351311683654785,1.1055850982666016,1.5155431032180786,1.631697416305542,0.8235774040222168,0.14077633619308472,0.5090879797935486,0.9237467050552368,2.0102038383483887,1.754277229309082,1.5178351402282715,0.9409136772155762,1.183608055114746,1.1417498588562012,2.339399814605713,1.1110098361968994,0.9751194715499878,0.6074522733688354,1.4599668979644775,1.102697730064392,0.9632908701896667,1.5047186613082886,0.9145478010177612,0.7051576972007751,1.1861507892608643,1.6205966472625732,1.0688037872314453,1.9022709131240845,0.6268401145935059,1.7037088871002197,1.3725512027740479,1.9788874387741089,1.2414476871490479,1.9823954105377197,1.705543041229248,1.4368723630905151,1.7841835021972656,1.5069355964660645,0.9681867361068726,1.7238872051239014,1.7629705667495728,0.8177437782287598,1.3733422756195068,0.6578289270401001,0.7989151477813721,0.717064380645752,0.5924530029296875,1.2714145183563232,1.3298118114471436,1.8788801431655884,1.668717384338379,1.2001253366470337,0.7204933166503906,1.6610544919967651,1.5686734914779663,1.0298182964324951,1.773482322692871,2.457014560699463,1.6436731815338135,1.194232702255249,1.3855342864990234,0.8499965667724609,1.7026251554489136,2.037395477294922,1.6074755191802979,1.2621148824691772,1.6243724822998047,1.6322492361068726,1.4808580875396729,0.9992393851280212,1.5307127237319946,0.9416133761405945,0.6882078051567078,0.80330491065979,1.797129511833191,0.9115962386131287,0.9576290845870972,1.5212308168411255,1.3321771621704102,0.8818531632423401,0.9864050149917603,2.2762203216552734,1.6573047637939453,1.5543711185455322,1.2737611532211304,1.391791582107544,1.6074782609939575,2.2701473236083984,1.5969772338867188,1.0020445585250854,2.1435775756835938,2.7140564918518066,1.1513466835021973,0.859194278717041,1.4878689050674438,2.205693483352661,1.1108729839324951,1.6071135997772217,0.782671332359314,0.9900438785552979,0.6803429126739502,1.1065802574157715,0.9749840497970581,1.5751891136169434,0.41155925393104553,0.9157439470291138,1.4642324447631836,0.7854712009429932,1.6117100715637207,1.1355305910110474,1.2008707523345947,0.9149271845817566,1.0605711936950684,1.1875560283660889,0.7668519020080566,1.2456002235412598,1.4913442134857178,0.6313047409057617,0.7341952323913574,1.4097429513931274,1.6082932949066162,1.4674487113952637,1.477102279663086,1.7355434894561768,1.3892796039581299,1.6289424896240234,1.8081789016723633,1.3671680688858032,0.8249853849411011,2.007326126098633,1.0326457023620605,1.464218258857727,0.7520412802696228,0.6701589822769165,1.463356375694275,2.3154778480529785,0.8480844497680664,2.5168709754943848,1.270946741104126,0.9488897323608398,1.029606580734253,1.0889344215393066,1.2733581066131592,0.7344310283660889,1.9278390407562256,0.7812082767486572,0.8471286296844482,1.8834381103515625,1.0339906215667725,1.5220158100128174,0.6960251927375793,0.8350443243980408,1.4984698295593262,1.7072906494140625,0.5621094703674316,0.7123832702636719,0.6166292428970337,1.2233988046646118,1.4349278211593628,2.005659341812134,1.7502052783966064,1.0356889963150024,1.0057423114776611,1.5264673233032227,0.5090879797935486,0.569439172744751,0.569439172744751,1.1739227771759033,0.6314128637313843,1.5495052337646484,1.6592657566070557,1.463402509689331,0.7870204448699951,1.2806710004806519,0.41155925393104553,1.824251413345337,1.2690136432647705,1.498334527015686,1.6375360488891602,1.1819846630096436,1.503798246383667,1.318568468093872,1.6178040504455566,1.6732457876205444,1.0130113363265991,1.8752858638763428,1.4451336860656738,1.309071660041809,0.9852584600448608,2.054921865463257,1.4871302843093872,1.7723389863967896,0.9121387004852295,1.9124000072479248,0.9021490812301636,1.3527462482452393,0.7577549815177917,1.2654261589050293,1.755342960357666,2.3261666297912598,1.670015811920166,0.6172172427177429,0.6993129849433899,1.4866795539855957,0.9413713216781616,1.8273308277130127,1.780033826828003,2.0916590690612793,1.9008617401123047,0.7344310283660889,1.037773609161377,1.172340989112854,2.216029644012451,1.0179146528244019,1.5132988691329956,1.1472291946411133,2.169301748275757,2.364140272140503,1.6216661930084229,1.4145698547363281,1.559003472328186,1.3610941171646118,1.6049258708953857,1.5889407396316528,0.8329392671585083,1.5108428001403809,0.9251949787139893,0.91715407371521,1.221729040145874,1.1495392322540283,0.980890154838562,1.4746146202087402,1.318761944770813,0.5090879797935486,1.384947419166565,0.9434797763824463,1.0537328720092773,1.554192304611206,0.6578289270401001,1.5391165018081665,0.6980625987052917,2.0722906589508057,0.44162747263908386,1.290601372718811,0.7951741814613342,0.8633365035057068,0.6964277029037476,0.98583984375,1.566023826599121,1.7660309076309204,2.298963785171509,1.2520688772201538,0.7548379302024841,1.7907716035842896,0.9859327077865601,1.3238754272460938,0.6092801094055176,1.4167197942733765,1.9255475997924805,0.9703636765480042,0.724826455116272,0.6205642223358154,1.5179423093795776,1.7779340744018555,1.7086341381072998,1.138793706893921,0.7101722955703735,1.0290775299072266,1.441746711730957,1.9044098854064941,1.5562844276428223,1.3874986171722412,0.9692384600639343,1.4109424352645874,1.1666045188903809,0.8832424879074097,0.8338600993156433,1.6006016731262207,0.6314128637313843,1.6214430332183838,1.3292382955551147,0.8190270066261292,0.8965296149253845,1.5842831134796143,1.5330075025558472,1.9996569156646729,1.2051866054534912,1.7920507192611694,0.6706147193908691,2.0082743167877197,1.4588185548782349,0.9382061958312988,1.2415211200714111,1.577854871749878,0.8560649156570435,1.2711879014968872,1.3868876695632935,0.9142504930496216,1.2576402425765991,1.1776155233383179,0.8346182107925415,0.7836401462554932,1.0715248584747314,1.2356094121932983,1.0885676145553589,0.9381999969482422,1.1419527530670166,2.1605660915374756,1.5145936012268066,1.6546443700790405,1.2475074529647827,1.5198071002960205,1.6783040761947632,0.8923636674880981,1.0547109842300415,1.861585021018982,1.4485299587249756,1.1595227718353271,1.383678913116455,0.8598489761352539,1.18958580493927,1.0144031047821045,1.0355942249298096,1.0012166500091553,1.9200570583343506,1.8894917964935303,1.4344367980957031,1.5370038747787476,1.943774938583374,1.2245575189590454,1.456933617591858,1.4484343528747559,1.0315096378326416,1.9154011011123657,1.4442212581634521,0.7774105072021484,1.5746333599090576,0.9816650748252869,1.1040126085281372,0.877623438835144,1.144975185394287,0.991014838218689,1.3242124319076538,1.2216408252716064,1.3333218097686768,0.6960251927375793,1.4578441381454468,1.2713485956192017,1.4283735752105713,1.4933035373687744,1.3038721084594727,2.5118050575256348,0.8917572498321533,1.2241029739379883,1.3092159032821655,0.7989621758460999,0.6529936790466309,1.3897762298583984,1.2181280851364136,1.997955083847046,1.2604389190673828,1.646867275238037,1.349748969078064,1.0089824199676514,0.9172114133834839,1.670530080795288,1.0196115970611572,1.0511138439178467,1.4016516208648682,1.3135030269622803,1.3742740154266357,1.867403268814087,1.886088252067566,0.557985782623291,0.9682233333587646,1.7315601110458374,1.6196868419647217,1.1496303081512451,1.4972833395004272,2.010598659515381,1.2289557456970215,1.7923529148101807,1.0442698001861572,0.7030462026596069,1.2504791021347046,1.5608394145965576,1.1649070978164673,1.1270322799682617,1.1836843490600586,1.5718673467636108,1.2295738458633423,1.4592117071151733,1.1505277156829834,2.1848855018615723,1.6153355836868286,1.4636296033859253,1.4505853652954102,0.8036330938339233,1.579831838607788,1.6711211204528809,1.3705703020095825,0.9567853212356567,0.7872335910797119,0.954973042011261,2.190406322479248,1.669528603553772,1.2134836912155151,1.9785925149917603,1.1051876544952393,1.2641948461532593,1.900787591934204,1.6706123352050781,1.2361830472946167,1.2691184282302856,1.1977622509002686,1.0986411571502686,1.1147862672805786,0.8677833676338196,1.173111081123352,1.57900071144104,1.0215871334075928,1.0045623779296875,0.6873140335083008,0.8766660690307617,1.3255927562713623,2.234053373336792,1.9340054988861084,0.9639880061149597,1.7299025058746338,1.1330033540725708,1.127573013305664,1.4353915452957153,1.386539101600647,1.0069570541381836,1.0915015935897827,1.304368257522583,1.7285664081573486,1.018009901046753,1.1960902214050293,1.819441795349121,1.1308799982070923,1.0380843877792358,1.4824877977371216,1.8993122577667236,1.7910802364349365,2.1343109607696533,0.8961964845657349,0.9897291660308838,1.306474208831787,1.6951165199279785,1.2119864225387573,1.2824602127075195,0.7894460558891296,1.328606367111206,1.753832459449768,0.8827459812164307,1.7417454719543457,1.0250062942504883,1.9764386415481567,1.024784803390503,1.422835350036621,1.2841153144836426,0.6785321831703186,0.9491292238235474,0.7738012075424194,1.0712831020355225,1.9692280292510986,1.4456208944320679,1.5281853675842285,0.7114582061767578,1.2299306392669678,0.7129204869270325,1.64640474319458,1.9783430099487305],\"type\":\"histogram\"}],                        {\"template\":{\"data\":{\"histogram2dcontour\":[{\"type\":\"histogram2dcontour\",\"colorbar\":{\"outlinewidth\":0,\"ticks\":\"\"},\"colorscale\":[[0.0,\"#0d0887\"],[0.1111111111111111,\"#46039f\"],[0.2222222222222222,\"#7201a8\"],[0.3333333333333333,\"#9c179e\"],[0.4444444444444444,\"#bd3786\"],[0.5555555555555556,\"#d8576b\"],[0.6666666666666666,\"#ed7953\"],[0.7777777777777778,\"#fb9f3a\"],[0.8888888888888888,\"#fdca26\"],[1.0,\"#f0f921\"]]}],\"choropleth\":[{\"type\":\"choropleth\",\"colorbar\":{\"outlinewidth\":0,\"ticks\":\"\"}}],\"histogram2d\":[{\"type\":\"histogram2d\",\"colorbar\":{\"outlinewidth\":0,\"ticks\":\"\"},\"colorscale\":[[0.0,\"#0d0887\"],[0.1111111111111111,\"#46039f\"],[0.2222222222222222,\"#7201a8\"],[0.3333333333333333,\"#9c179e\"],[0.4444444444444444,\"#bd3786\"],[0.5555555555555556,\"#d8576b\"],[0.6666666666666666,\"#ed7953\"],[0.7777777777777778,\"#fb9f3a\"],[0.8888888888888888,\"#fdca26\"],[1.0,\"#f0f921\"]]}],\"heatmap\":[{\"type\":\"heatmap\",\"colorbar\":{\"outlinewidth\":0,\"ticks\":\"\"},\"colorscale\":[[0.0,\"#0d0887\"],[0.1111111111111111,\"#46039f\"],[0.2222222222222222,\"#7201a8\"],[0.3333333333333333,\"#9c179e\"],[0.4444444444444444,\"#bd3786\"],[0.5555555555555556,\"#d8576b\"],[0.6666666666666666,\"#ed7953\"],[0.7777777777777778,\"#fb9f3a\"],[0.8888888888888888,\"#fdca26\"],[1.0,\"#f0f921\"]]}],\"heatmapgl\":[{\"type\":\"heatmapgl\",\"colorbar\":{\"outlinewidth\":0,\"ticks\":\"\"},\"colorscale\":[[0.0,\"#0d0887\"],[0.1111111111111111,\"#46039f\"],[0.2222222222222222,\"#7201a8\"],[0.3333333333333333,\"#9c179e\"],[0.4444444444444444,\"#bd3786\"],[0.5555555555555556,\"#d8576b\"],[0.6666666666666666,\"#ed7953\"],[0.7777777777777778,\"#fb9f3a\"],[0.8888888888888888,\"#fdca26\"],[1.0,\"#f0f921\"]]}],\"contourcarpet\":[{\"type\":\"contourcarpet\",\"colorbar\":{\"outlinewidth\":0,\"ticks\":\"\"}}],\"contour\":[{\"type\":\"contour\",\"colorbar\":{\"outlinewidth\":0,\"ticks\":\"\"},\"colorscale\":[[0.0,\"#0d0887\"],[0.1111111111111111,\"#46039f\"],[0.2222222222222222,\"#7201a8\"],[0.3333333333333333,\"#9c179e\"],[0.4444444444444444,\"#bd3786\"],[0.5555555555555556,\"#d8576b\"],[0.6666666666666666,\"#ed7953\"],[0.7777777777777778,\"#fb9f3a\"],[0.8888888888888888,\"#fdca26\"],[1.0,\"#f0f921\"]]}],\"surface\":[{\"type\":\"surface\",\"colorbar\":{\"outlinewidth\":0,\"ticks\":\"\"},\"colorscale\":[[0.0,\"#0d0887\"],[0.1111111111111111,\"#46039f\"],[0.2222222222222222,\"#7201a8\"],[0.3333333333333333,\"#9c179e\"],[0.4444444444444444,\"#bd3786\"],[0.5555555555555556,\"#d8576b\"],[0.6666666666666666,\"#ed7953\"],[0.7777777777777778,\"#fb9f3a\"],[0.8888888888888888,\"#fdca26\"],[1.0,\"#f0f921\"]]}],\"mesh3d\":[{\"type\":\"mesh3d\",\"colorbar\":{\"outlinewidth\":0,\"ticks\":\"\"}}],\"scatter\":[{\"fillpattern\":{\"fillmode\":\"overlay\",\"size\":10,\"solidity\":0.2},\"type\":\"scatter\"}],\"parcoords\":[{\"type\":\"parcoords\",\"line\":{\"colorbar\":{\"outlinewidth\":0,\"ticks\":\"\"}}}],\"scatterpolargl\":[{\"type\":\"scatterpolargl\",\"marker\":{\"colorbar\":{\"outlinewidth\":0,\"ticks\":\"\"}}}],\"bar\":[{\"error_x\":{\"color\":\"#2a3f5f\"},\"error_y\":{\"color\":\"#2a3f5f\"},\"marker\":{\"line\":{\"color\":\"#E5ECF6\",\"width\":0.5},\"pattern\":{\"fillmode\":\"overlay\",\"size\":10,\"solidity\":0.2}},\"type\":\"bar\"}],\"scattergeo\":[{\"type\":\"scattergeo\",\"marker\":{\"colorbar\":{\"outlinewidth\":0,\"ticks\":\"\"}}}],\"scatterpolar\":[{\"type\":\"scatterpolar\",\"marker\":{\"colorbar\":{\"outlinewidth\":0,\"ticks\":\"\"}}}],\"histogram\":[{\"marker\":{\"pattern\":{\"fillmode\":\"overlay\",\"size\":10,\"solidity\":0.2}},\"type\":\"histogram\"}],\"scattergl\":[{\"type\":\"scattergl\",\"marker\":{\"colorbar\":{\"outlinewidth\":0,\"ticks\":\"\"}}}],\"scatter3d\":[{\"type\":\"scatter3d\",\"line\":{\"colorbar\":{\"outlinewidth\":0,\"ticks\":\"\"}},\"marker\":{\"colorbar\":{\"outlinewidth\":0,\"ticks\":\"\"}}}],\"scattermapbox\":[{\"type\":\"scattermapbox\",\"marker\":{\"colorbar\":{\"outlinewidth\":0,\"ticks\":\"\"}}}],\"scatterternary\":[{\"type\":\"scatterternary\",\"marker\":{\"colorbar\":{\"outlinewidth\":0,\"ticks\":\"\"}}}],\"scattercarpet\":[{\"type\":\"scattercarpet\",\"marker\":{\"colorbar\":{\"outlinewidth\":0,\"ticks\":\"\"}}}],\"carpet\":[{\"aaxis\":{\"endlinecolor\":\"#2a3f5f\",\"gridcolor\":\"white\",\"linecolor\":\"white\",\"minorgridcolor\":\"white\",\"startlinecolor\":\"#2a3f5f\"},\"baxis\":{\"endlinecolor\":\"#2a3f5f\",\"gridcolor\":\"white\",\"linecolor\":\"white\",\"minorgridcolor\":\"white\",\"startlinecolor\":\"#2a3f5f\"},\"type\":\"carpet\"}],\"table\":[{\"cells\":{\"fill\":{\"color\":\"#EBF0F8\"},\"line\":{\"color\":\"white\"}},\"header\":{\"fill\":{\"color\":\"#C8D4E3\"},\"line\":{\"color\":\"white\"}},\"type\":\"table\"}],\"barpolar\":[{\"marker\":{\"line\":{\"color\":\"#E5ECF6\",\"width\":0.5},\"pattern\":{\"fillmode\":\"overlay\",\"size\":10,\"solidity\":0.2}},\"type\":\"barpolar\"}],\"pie\":[{\"automargin\":true,\"type\":\"pie\"}]},\"layout\":{\"autotypenumbers\":\"strict\",\"colorway\":[\"#636efa\",\"#EF553B\",\"#00cc96\",\"#ab63fa\",\"#FFA15A\",\"#19d3f3\",\"#FF6692\",\"#B6E880\",\"#FF97FF\",\"#FECB52\"],\"font\":{\"color\":\"#2a3f5f\"},\"hovermode\":\"closest\",\"hoverlabel\":{\"align\":\"left\"},\"paper_bgcolor\":\"white\",\"plot_bgcolor\":\"#E5ECF6\",\"polar\":{\"bgcolor\":\"#E5ECF6\",\"angularaxis\":{\"gridcolor\":\"white\",\"linecolor\":\"white\",\"ticks\":\"\"},\"radialaxis\":{\"gridcolor\":\"white\",\"linecolor\":\"white\",\"ticks\":\"\"}},\"ternary\":{\"bgcolor\":\"#E5ECF6\",\"aaxis\":{\"gridcolor\":\"white\",\"linecolor\":\"white\",\"ticks\":\"\"},\"baxis\":{\"gridcolor\":\"white\",\"linecolor\":\"white\",\"ticks\":\"\"},\"caxis\":{\"gridcolor\":\"white\",\"linecolor\":\"white\",\"ticks\":\"\"}},\"coloraxis\":{\"colorbar\":{\"outlinewidth\":0,\"ticks\":\"\"}},\"colorscale\":{\"sequential\":[[0.0,\"#0d0887\"],[0.1111111111111111,\"#46039f\"],[0.2222222222222222,\"#7201a8\"],[0.3333333333333333,\"#9c179e\"],[0.4444444444444444,\"#bd3786\"],[0.5555555555555556,\"#d8576b\"],[0.6666666666666666,\"#ed7953\"],[0.7777777777777778,\"#fb9f3a\"],[0.8888888888888888,\"#fdca26\"],[1.0,\"#f0f921\"]],\"sequentialminus\":[[0.0,\"#0d0887\"],[0.1111111111111111,\"#46039f\"],[0.2222222222222222,\"#7201a8\"],[0.3333333333333333,\"#9c179e\"],[0.4444444444444444,\"#bd3786\"],[0.5555555555555556,\"#d8576b\"],[0.6666666666666666,\"#ed7953\"],[0.7777777777777778,\"#fb9f3a\"],[0.8888888888888888,\"#fdca26\"],[1.0,\"#f0f921\"]],\"diverging\":[[0,\"#8e0152\"],[0.1,\"#c51b7d\"],[0.2,\"#de77ae\"],[0.3,\"#f1b6da\"],[0.4,\"#fde0ef\"],[0.5,\"#f7f7f7\"],[0.6,\"#e6f5d0\"],[0.7,\"#b8e186\"],[0.8,\"#7fbc41\"],[0.9,\"#4d9221\"],[1,\"#276419\"]]},\"xaxis\":{\"gridcolor\":\"white\",\"linecolor\":\"white\",\"ticks\":\"\",\"title\":{\"standoff\":15},\"zerolinecolor\":\"white\",\"automargin\":true,\"zerolinewidth\":2},\"yaxis\":{\"gridcolor\":\"white\",\"linecolor\":\"white\",\"ticks\":\"\",\"title\":{\"standoff\":15},\"zerolinecolor\":\"white\",\"automargin\":true,\"zerolinewidth\":2},\"scene\":{\"xaxis\":{\"backgroundcolor\":\"#E5ECF6\",\"gridcolor\":\"white\",\"linecolor\":\"white\",\"showbackground\":true,\"ticks\":\"\",\"zerolinecolor\":\"white\",\"gridwidth\":2},\"yaxis\":{\"backgroundcolor\":\"#E5ECF6\",\"gridcolor\":\"white\",\"linecolor\":\"white\",\"showbackground\":true,\"ticks\":\"\",\"zerolinecolor\":\"white\",\"gridwidth\":2},\"zaxis\":{\"backgroundcolor\":\"#E5ECF6\",\"gridcolor\":\"white\",\"linecolor\":\"white\",\"showbackground\":true,\"ticks\":\"\",\"zerolinecolor\":\"white\",\"gridwidth\":2}},\"shapedefaults\":{\"line\":{\"color\":\"#2a3f5f\"}},\"annotationdefaults\":{\"arrowcolor\":\"#2a3f5f\",\"arrowhead\":0,\"arrowwidth\":1},\"geo\":{\"bgcolor\":\"white\",\"landcolor\":\"#E5ECF6\",\"subunitcolor\":\"white\",\"showland\":true,\"showlakes\":true,\"lakecolor\":\"white\"},\"title\":{\"x\":0.05},\"mapbox\":{\"style\":\"light\"}}},\"title\":{\"text\":\"Distribution of Difference In Nuclear Norms - DGI ID vs DGI+XM\"},\"xaxis\":{\"title\":{\"text\":\"Difference In Nuclear Norms - DGI ID vs DGI+XM\"}},\"yaxis\":{\"title\":{\"text\":\"Frequency\"}},\"font\":{\"size\":30},\"plot_bgcolor\":\"white\",\"paper_bgcolor\":\"white\"},                        {\"responsive\": true}                    ).then(function(){\n",
       "                            \n",
       "var gd = document.getElementById('56a51c2d-e1f1-4875-80c9-499ebca3e307');\n",
       "var x = new MutationObserver(function (mutations, observer) {{\n",
       "        var display = window.getComputedStyle(gd).display;\n",
       "        if (!display || display === 'none') {{\n",
       "            console.log([gd, 'removed!']);\n",
       "            Plotly.purge(gd);\n",
       "            observer.disconnect();\n",
       "        }}\n",
       "}});\n",
       "\n",
       "// Listen for the removal of the full notebook cells\n",
       "var notebookContainer = gd.closest('#notebook-container');\n",
       "if (notebookContainer) {{\n",
       "    x.observe(notebookContainer, {childList: true});\n",
       "}}\n",
       "\n",
       "// Listen for the clearing of the current output cell\n",
       "var outputEl = gd.closest('.output');\n",
       "if (outputEl) {{\n",
       "    x.observe(outputEl, {childList: true});\n",
       "}}\n",
       "\n",
       "                        })                };                });            </script>        </div>"
      ]
     },
     "metadata": {},
     "output_type": "display_data"
    },
    {
     "data": {
      "application/vnd.plotly.v1+json": {
       "config": {
        "plotlyServerURL": "https://plot.ly"
       },
       "data": [
        {
         "type": "histogram",
         "x": [
          -0.6328688859939575,
          -0.5056160688400269,
          -0.688835620880127,
          -0.45213353633880615,
          -0.17730611562728882,
          -0.4515035152435303,
          -0.4024544954299927,
          -0.49133217334747314,
          -0.5792075395584106,
          -0.23767316341400146,
          -0.5914033651351929,
          -0.47270894050598145,
          -0.4072854518890381,
          -0.4707943797111511,
          -0.2415534257888794,
          -0.3412896394729614,
          -0.8835163116455078,
          -0.15517491102218628,
          -0.304329514503479,
          -0.45211261510849,
          -0.6404272317886353,
          -0.3133101463317871,
          -0.18700677156448364,
          -0.18104004859924316,
          -0.24468517303466797,
          -0.4942436218261719,
          -0.22845947742462158,
          -0.2095268964767456,
          -0.2300775647163391,
          -0.33693206310272217,
          -0.2780696153640747,
          -0.2776907682418823,
          -0.4864853620529175,
          -0.7262070178985596,
          -0.6681029796600342,
          -0.7446368932723999,
          0.029615402221679688,
          -0.4980331063270569,
          -0.32751739025115967,
          0.026905059814453125,
          -0.19450050592422485,
          -0.3708350658416748,
          -0.3300071954727173,
          -0.30288511514663696,
          -0.15315675735473633,
          -0.3830575942993164,
          -0.19920355081558228,
          -0.5365259647369385,
          -0.4138709306716919,
          -0.3202708959579468,
          -0.15096455812454224,
          -0.38147276639938354,
          -0.5129891633987427,
          -0.3974337577819824,
          -0.13646751642227173,
          -0.45289814472198486,
          -0.6335636377334595,
          -0.4515478014945984,
          -0.10413765907287598,
          -0.3024682402610779,
          -0.33240050077438354,
          -0.6070572137832642,
          -0.5468405485153198,
          -0.21960902214050293,
          -0.4471794366836548,
          -0.019836127758026123,
          -0.5041584968566895,
          -0.1171727180480957,
          -0.3584524393081665,
          0.00047838687896728516,
          -0.2242538332939148,
          -0.012532949447631836,
          -0.2884103059768677,
          -0.41214948892593384,
          -0.5062177181243896,
          -0.4584723711013794,
          -0.36396777629852295,
          0.034027308225631714,
          -0.6517728567123413,
          -0.1348123550415039,
          -0.7158843278884888,
          -0.8350105285644531,
          -0.3228292465209961,
          -0.2123146653175354,
          -0.6013368368148804,
          -0.6972988843917847,
          -0.18719643354415894,
          -0.5216690301895142,
          -0.31148838996887207,
          -0.49888360500335693,
          -0.37276965379714966,
          -0.44853758811950684,
          -0.1570395827293396,
          -0.25860440731048584,
          -0.10091894865036011,
          -0.45750904083251953,
          -0.3863210678100586,
          -0.026592373847961426,
          -0.19536364078521729,
          -0.29167866706848145,
          -0.5695271492004395,
          -0.43257665634155273,
          -0.2235121726989746,
          -0.21043729782104492,
          -0.2176036834716797,
          0.10343295335769653,
          -0.49261462688446045,
          -0.3115425109863281,
          -0.32794368267059326,
          -0.6084219217300415,
          -0.4628491997718811,
          -0.21265625953674316,
          -0.33092784881591797,
          -0.1115560531616211,
          -0.3559066653251648,
          -0.24107849597930908,
          -0.25139451026916504,
          -0.2753201127052307,
          -0.2802334427833557,
          -0.09853208065032959,
          -0.19377851486206055,
          -0.2471643090248108,
          -0.3152960538864136,
          -0.07102847099304199,
          -0.05185890197753906,
          -0.23063325881958008,
          -0.3149975538253784,
          -0.36378014087677,
          -0.5700068473815918,
          -0.14713817834854126,
          -0.3350362777709961,
          -0.618615984916687,
          -0.3742316961288452,
          -0.5608989000320435,
          -0.13677239418029785,
          -0.3469425439834595,
          -0.29866695404052734,
          -0.2249394655227661,
          -0.1611034870147705,
          -0.7738968133926392,
          -0.3287935256958008,
          -0.49311137199401855,
          -0.16471898555755615,
          -0.3844587802886963,
          -0.3392532467842102,
          -0.34144842624664307,
          -0.4428584575653076,
          -0.5120797157287598,
          -0.3728148341178894,
          -0.43988776206970215,
          -0.312746524810791,
          -0.3780921697616577,
          -0.5954363346099854,
          -0.5806072950363159,
          -0.21877354383468628,
          -0.5382503271102905,
          -0.37448835372924805,
          -0.12814919650554657,
          -0.6520974636077881,
          -0.1597135066986084,
          -0.16796594858169556,
          -0.03629708290100098,
          -0.5332367420196533,
          -0.13139772415161133,
          -0.3126237392425537,
          -0.39465492963790894,
          -0.49465739727020264,
          -0.29290080070495605,
          -0.17795133590698242,
          0.002616584300994873,
          -0.4264758825302124,
          -0.4994237422943115,
          -0.40745437145233154,
          -0.4183841943740845,
          -0.4135192036628723,
          -0.49680447578430176,
          -0.7019517421722412,
          -0.293379545211792,
          -0.563320517539978,
          -0.2969404458999634,
          -0.29118049144744873,
          -0.2643963098526001,
          -0.1475222110748291,
          -0.5344687700271606,
          -0.27982962131500244,
          -0.21477913856506348,
          -0.44571566581726074,
          -0.45183539390563965,
          -0.9544976949691772,
          -0.19325900077819824,
          -0.22437870502471924,
          0.08986878395080566,
          -0.18207263946533203,
          -0.2986239194869995,
          -0.032828569412231445,
          -0.9619232416152954,
          -0.5067311525344849,
          -0.4898413419723511,
          -0.40170860290527344,
          -0.28892219066619873,
          -0.9276436567306519,
          -0.1675754189491272,
          -0.32004594802856445,
          -0.4841047525405884,
          -0.40313029289245605,
          -0.2720422148704529,
          -0.20614981651306152,
          -0.4592750072479248,
          -0.1890556812286377,
          -0.1936814785003662,
          -0.1930321455001831,
          -0.2820531129837036,
          -0.38268226385116577,
          -0.36861544847488403,
          -0.3132338523864746,
          -0.1914196014404297,
          -0.23328185081481934,
          -0.4505343437194824,
          -0.34793922305107117,
          -0.506108283996582,
          -0.6525653600692749,
          -0.396298885345459,
          -0.41447508335113525,
          -0.35545384883880615,
          -0.22897768020629883,
          -0.5118094682693481,
          -0.44274282455444336,
          -0.4849904775619507,
          -0.4033673405647278,
          -0.3487698435783386,
          -0.32629501819610596,
          -0.47672712802886963,
          -0.24405908584594727,
          -0.5452111959457397,
          -0.521396279335022,
          -0.47843223810195923,
          -0.5433396100997925,
          -0.3045036792755127,
          -0.4505276679992676,
          -0.4892549514770508,
          -0.6020123958587646,
          -0.4930698871612549,
          -0.40514278411865234,
          -0.461402952671051,
          -0.9662477970123291,
          -0.8869814872741699,
          -0.4835270643234253,
          -0.29413557052612305,
          -0.3477570414543152,
          -0.30414366722106934,
          -0.4429973363876343,
          -0.49159908294677734,
          -0.3293297290802002,
          -0.9740109443664551,
          -0.6291027069091797,
          -0.13527178764343262,
          -0.48267316818237305,
          -0.3552818298339844,
          -0.4142336845397949,
          -0.343608021736145,
          -0.2867962121963501,
          -0.31966114044189453,
          -0.1824418306350708,
          -0.14499282836914062,
          -0.6546131372451782,
          -0.515152096748352,
          -0.5603300333023071,
          -0.5026460886001587,
          -0.5964560508728027,
          -0.11597371101379395,
          -0.9356459379196167,
          -0.579422116279602,
          -0.3673563003540039,
          -0.047904253005981445,
          -0.26500654220581055,
          -0.5035241842269897,
          -0.5175340175628662,
          -0.17106330394744873,
          -0.534523606300354,
          -0.33142197132110596,
          -0.4981803894042969,
          -0.42931854724884033,
          -0.33913183212280273,
          -0.18211579322814941,
          -0.8066719770431519,
          -0.6705929040908813,
          -0.4523271322250366,
          -0.2403026819229126,
          -0.33653193712234497,
          -0.4610799551010132,
          -0.43594813346862793,
          -0.2747187614440918,
          -0.6655075550079346,
          -0.5855077505111694,
          -0.3801541328430176,
          -0.4259948134422302,
          -0.1753453016281128,
          -0.4717826843261719,
          0.040838003158569336,
          -0.5695114135742188,
          -0.5503153800964355,
          -0.492769718170166,
          -0.6320856809616089,
          -0.5071567296981812,
          -0.45299232006073,
          -0.0073770880699157715,
          -0.28587567806243896,
          -0.1284393072128296,
          -0.23402142524719238,
          -0.5052361488342285,
          -0.22402536869049072,
          -0.4147624969482422,
          -0.31675219535827637,
          -0.244093120098114,
          -0.6857842206954956,
          -0.1404050588607788,
          -0.2016744613647461,
          -0.3112226724624634,
          -0.17741405963897705,
          -0.3608694076538086,
          -0.44019269943237305,
          -0.5682339072227478,
          -0.0076847076416015625,
          -0.6253640651702881,
          -0.35813450813293457,
          -0.5156170129776001,
          -0.4576960802078247,
          -0.1926708221435547,
          -0.24371910095214844,
          -0.09525942802429199,
          -0.6692472696304321,
          -0.8020902872085571,
          -0.3535059690475464,
          -0.9671070575714111,
          -0.6151970624923706,
          -0.2428971529006958,
          0.021003246307373047,
          -0.10335469245910645,
          -0.28370100259780884,
          -0.5013712644577026,
          -0.31261110305786133,
          -0.8203439712524414,
          -0.6024855375289917,
          -0.4757131338119507,
          -0.21840596199035645,
          -0.3364989757537842,
          -0.6400264501571655,
          -0.5440152883529663,
          -0.32954907417297363,
          -0.28729891777038574,
          -0.834092378616333,
          -0.7553544044494629,
          0.1680302619934082,
          -0.6725624799728394,
          -0.27533048391342163,
          -0.6146495342254639,
          -0.3359518051147461,
          -0.4937856197357178,
          -0.4595524072647095,
          -0.5728355646133423,
          -0.3919569253921509,
          0.48768115043640137,
          -0.24203455448150635,
          -0.33726727962493896,
          -0.492864727973938,
          -0.513647198677063,
          -0.4675101637840271,
          -0.3994596004486084,
          -1.0570989847183228,
          -0.5015515089035034,
          -0.8233071565628052,
          -0.9253888130187988,
          -0.2449662685394287,
          -0.47886908054351807,
          -0.3484313488006592,
          -0.728949785232544,
          -0.5615659952163696,
          -0.3410491943359375,
          0.05640476942062378,
          -0.529999852180481,
          -0.0813441276550293,
          -0.5194762945175171,
          -0.5665903091430664,
          -0.4559628963470459,
          -0.36204278469085693,
          -0.3288828134536743,
          -0.8541889190673828,
          -0.4615434408187866,
          -0.42324256896972656,
          -0.3575376272201538,
          0.05582714080810547,
          -0.47417473793029785,
          -0.33374500274658203,
          -0.29439616203308105,
          -0.09943956136703491,
          -0.5224264860153198,
          -0.2843979597091675,
          -0.4874417781829834,
          -0.30470526218414307,
          -0.07400703430175781,
          -0.4264028072357178,
          -0.31181931495666504,
          -0.4381725788116455,
          -0.7543370723724365,
          -0.008579492568969727,
          -0.6565679311752319,
          -0.6230201721191406,
          -0.5229150056838989,
          -0.4645864963531494,
          -0.6095919609069824,
          -0.1650378704071045,
          -0.20029568672180176,
          -0.6122763156890869,
          -0.31047147512435913,
          -0.36132586002349854,
          -0.013570070266723633,
          -0.2722577452659607,
          -0.511509358882904,
          -0.26579785346984863,
          -0.18306446075439453,
          -0.44193923473358154,
          -0.5539342164993286,
          -0.4603869915008545,
          -0.1519615650177002,
          -1.0511865615844727,
          -0.31821584701538086,
          -1.2086018323898315,
          -0.3409527540206909,
          -0.3506568670272827,
          -0.28754639625549316,
          -0.2523479461669922,
          -0.5851092338562012,
          -0.5523141622543335,
          -0.23275220394134521,
          -0.4649914503097534,
          -0.7267882823944092,
          -0.10105752944946289,
          -0.4775707721710205,
          -0.32988572120666504,
          -0.46990394592285156,
          -0.2665736675262451,
          -0.240509033203125,
          -0.1627427339553833,
          -0.48833906650543213,
          -0.5015584230422974,
          -0.2497096061706543,
          -0.3377331495285034,
          -0.5806838274002075,
          -0.4543638229370117,
          -0.433681845664978,
          -0.4112844467163086,
          -0.5288128852844238,
          -0.6539695262908936,
          -0.28560149669647217,
          -0.4444451332092285,
          -0.5644500255584717,
          -0.26651668548583984,
          -0.22741007804870605,
          -0.43031466007232666,
          -0.5775419473648071,
          -0.5245529413223267,
          -0.4041135311126709,
          -0.7083296775817871,
          -0.12639236450195312,
          -0.01322031021118164,
          -0.12303125858306885,
          -0.2303469181060791,
          -0.30778229236602783,
          -0.2579091787338257,
          -0.38624680042266846,
          -0.41050416231155396,
          -0.29541444778442383,
          -0.2542591094970703,
          -0.27552950382232666,
          -0.4432145357131958,
          -0.32896506786346436,
          -0.3595285415649414,
          -0.6178252696990967,
          -0.5293409824371338,
          0.15478920936584473,
          -0.44024205207824707,
          -0.07901477813720703,
          -0.14373993873596191,
          -0.4223285913467407,
          -0.36640167236328125,
          -0.5489723682403564,
          -0.5020477771759033,
          -0.20012342929840088,
          -0.41306161880493164,
          -0.4218181371688843,
          -0.2846044898033142,
          -0.7736201286315918,
          -0.7295172214508057,
          0.10399222373962402,
          -0.021005630493164062,
          -0.4328293800354004,
          -0.2742987871170044,
          -0.37343382835388184,
          -0.05467724800109863,
          -0.596743106842041,
          -0.35926127433776855,
          -0.6683342456817627,
          -0.2484380602836609,
          -0.3675098419189453,
          -0.23387682437896729,
          -0.21769893169403076,
          -0.6129159927368164,
          -0.8268802165985107,
          -0.6005696058273315,
          -0.6612043380737305,
          -0.6298439502716064,
          -0.3092237710952759,
          -0.37788963317871094,
          -0.43254971504211426,
          -0.2662007808685303,
          -0.15712153911590576,
          -0.38946759700775146,
          -0.34209609031677246,
          -0.21370470523834229,
          -0.23951685428619385,
          -0.729649543762207,
          -0.3855438232421875,
          -0.44660520553588867,
          -0.45031487941741943,
          -0.6264721155166626,
          -0.24797511100769043,
          -0.7680641412734985,
          -0.22655129432678223,
          -0.32954907417297363,
          -0.39906585216522217,
          0.23344874382019043,
          -0.4350144863128662,
          -0.30473530292510986,
          -0.43753862380981445,
          -0.028732776641845703,
          -0.021243691444396973,
          -0.23825228214263916,
          -0.418226957321167,
          -0.6615803241729736,
          -0.7143030166625977,
          -0.5857784748077393,
          -0.7680498361587524,
          -0.3523486852645874,
          -0.2974954843521118,
          -0.6990419626235962,
          -0.31867754459381104,
          -0.11956262588500977,
          -0.857772707939148,
          -0.3698444366455078,
          -0.41982102394104004,
          -0.6114661693572998,
          -0.5072637796401978,
          -0.4957904815673828,
          -0.21145844459533691,
          -0.07915186882019043,
          -0.5820056200027466,
          -0.11706423759460449,
          -0.6842489242553711,
          -0.9867973327636719,
          -0.2920048236846924,
          -0.21955406665802002,
          -0.3089393377304077,
          -0.7410318851470947,
          -0.5599113702774048,
          -0.14273405075073242,
          -0.15637660026550293,
          -0.5508847236633301,
          -0.3909953832626343,
          -0.3128848075866699,
          -0.5421406030654907,
          -0.23445332050323486,
          -0.27382373809814453,
          -0.3550894260406494,
          -0.3737912178039551,
          -0.5917434692382812,
          -0.35838669538497925,
          -0.6697824001312256,
          -0.26349878311157227,
          0.2340843677520752,
          -0.29913949966430664,
          -1.0336754322052002,
          -0.4036979675292969,
          -0.25269103050231934,
          -0.5507687330245972,
          -0.5265524387359619,
          -0.35202646255493164,
          -0.3231692314147949,
          -0.11449003219604492,
          -0.34907782077789307,
          -0.7940801382064819,
          -0.5904052257537842,
          -0.2359461784362793,
          -0.790931224822998,
          -0.48002147674560547,
          -0.7712059020996094,
          -0.28663015365600586,
          -0.3610260486602783,
          -0.08472263813018799,
          -1.1548460721969604,
          -0.2120887041091919,
          -0.2573627233505249,
          -0.3604828119277954,
          -0.34327661991119385,
          -0.42377567291259766,
          -0.34381890296936035,
          -0.19072890281677246,
          -0.9006695747375488,
          -0.9679158926010132,
          -0.21246516704559326,
          -0.22776055335998535,
          -0.1432281732559204,
          -0.4553302526473999,
          -0.15678846836090088,
          -0.44030141830444336,
          -0.31392502784729004,
          -0.5000009536743164,
          -0.3075568675994873,
          -0.462483286857605,
          -0.46116554737091064,
          -0.5894589424133301,
          -0.953551173210144,
          -0.30914735794067383,
          -0.6650044918060303,
          -0.36129796504974365,
          -0.36174464225769043,
          -0.5073519945144653,
          -0.5074906349182129,
          -0.3289475440979004,
          -0.03403747081756592,
          -0.7370604276657104,
          -0.8932098150253296,
          -0.20261192321777344,
          -0.8631258010864258,
          -0.4019368886947632,
          -0.4062385559082031,
          -0.4191765785217285,
          -0.4269046187400818,
          -0.46118348836898804,
          -0.559685468673706,
          -0.450687050819397,
          -0.27944445610046387,
          -0.6123571395874023,
          -0.21297597885131836,
          -0.5848342180252075,
          -0.5552910566329956,
          -0.5368747711181641,
          -0.2558668851852417,
          -0.1739976406097412,
          -0.37195122241973877,
          0.08599424362182617,
          -0.3608689308166504,
          -0.22333180904388428,
          -1.0389549732208252,
          -0.4848588705062866,
          -0.35320448875427246,
          -0.4396512508392334,
          -0.3854868412017822,
          -0.4588724374771118,
          -0.7577857971191406,
          -0.21995961666107178,
          -0.5354126691818237,
          -0.833806037902832,
          -0.27803242206573486,
          -0.4596445560455322,
          -0.6265319585800171,
          -0.3604997396469116,
          -0.4603383541107178,
          -0.5811140537261963,
          -0.5922026634216309,
          -0.5556182861328125,
          -0.2471379041671753,
          -0.10448622703552246,
          -0.285880446434021,
          -0.21165084838867188,
          -0.1741262674331665,
          -0.33648204803466797,
          -0.34875917434692383,
          -0.39511537551879883,
          -0.314314603805542,
          -0.4893476963043213,
          -0.7604384422302246,
          -0.17297840118408203,
          -0.26369690895080566,
          -0.11274266242980957,
          -0.22709989547729492,
          -0.25155556201934814,
          -0.30078744888305664,
          -0.5468602180480957,
          -0.521648645401001,
          -0.4728260040283203,
          -0.5556182861328125,
          -0.3409212827682495,
          -0.4943997859954834,
          -0.24768561124801636,
          -0.2446892261505127,
          -0.32954907417297363,
          0.07831931114196777,
          -0.4796881675720215,
          -0.6510013341903687,
          -0.8363293409347534,
          -0.36503171920776367,
          -0.00509953498840332,
          -0.4853324890136719,
          -0.34099268913269043,
          -0.22268569469451904,
          -0.5780079364776611,
          -0.32954907417297363,
          -0.48117518424987793,
          -0.5252290964126587,
          -0.5684058666229248,
          -1.0719765424728394,
          0.03638863563537598,
          -0.07033300399780273,
          -0.8685343265533447,
          -0.23649203777313232,
          -0.10277426242828369,
          -0.4607539176940918,
          -0.3444768786430359,
          -0.32954907417297363,
          -0.43969404697418213,
          -0.30767345428466797,
          0.018364310264587402,
          -0.5501894950866699,
          -0.6308085918426514,
          -0.6074148416519165,
          -0.454964280128479,
          -0.2022867202758789,
          -0.5675127506256104,
          -0.25284433364868164,
          -0.511509358882904,
          -0.6933078765869141,
          -0.4142336845397949,
          -0.7129935026168823,
          -0.2658292055130005,
          -0.22745800018310547,
          -0.7887632846832275,
          -0.5332622528076172,
          -0.057483673095703125,
          -0.47947168350219727,
          -0.333115816116333,
          -0.3968392014503479,
          -0.033823490142822266,
          -0.2747272253036499,
          -0.42302727699279785,
          -0.5180647373199463,
          0.12365508079528809,
          -0.46131181716918945,
          -0.717720627784729,
          -0.2817869186401367,
          -0.42236387729644775,
          -0.9489446878433228,
          -0.5112941265106201,
          -0.8155653476715088,
          -0.7276651859283447,
          -0.6703928709030151,
          -0.45893722772598267,
          -0.48500168323516846,
          -0.5377606153488159,
          -0.4877975583076477,
          -0.36229825019836426,
          -0.39412403106689453,
          -0.33330631256103516,
          -0.5373048782348633,
          -0.572475790977478,
          -0.930249810218811,
          -0.7337234020233154,
          -0.16036128997802734,
          -0.4362398386001587,
          -0.46907734870910645,
          -0.25733089447021484,
          -0.22506284713745117,
          -0.2267981767654419,
          -0.8117127418518066,
          -0.7192884683609009,
          -0.0765843391418457,
          -0.7278757095336914,
          -0.13459515571594238,
          -0.17730307579040527,
          -0.3802528381347656,
          -0.6031016111373901,
          -0.6363140344619751,
          -0.5082002878189087,
          -0.6455239057540894,
          -0.5921957492828369,
          -0.5497771501541138,
          -0.8474382162094116,
          -0.12241244316101074,
          -0.9462411403656006,
          -0.7623059749603271,
          -0.48178935050964355,
          -0.5878026485443115,
          -0.7022786140441895,
          -0.8045732975006104,
          0.2535562515258789,
          -0.4748494625091553,
          -0.7216323614120483,
          -0.28830838203430176,
          -0.4586714506149292,
          -0.2766026258468628,
          -0.09453058242797852,
          -0.1405552625656128,
          -0.915870189666748,
          -0.40239930152893066,
          -0.11344051361083984,
          -0.22859513759613037,
          -0.5711641311645508,
          -0.302676796913147,
          -0.3656344413757324,
          -0.18386602401733398,
          -0.4415522813796997,
          -0.3952738046646118,
          -0.5748368501663208,
          -0.6717099547386169,
          -0.3781614303588867,
          -0.48570382595062256,
          -0.6197632551193237,
          -0.4687662124633789,
          -0.5456991195678711,
          -0.6546796560287476,
          -0.3583645820617676,
          -0.6066887378692627,
          -0.4874570369720459,
          -0.21985948085784912,
          -0.19379103183746338,
          -0.47895896434783936,
          -0.7782618999481201,
          -0.3612253665924072,
          -1.018797755241394,
          -0.0769202709197998,
          -0.5868569612503052,
          -0.6369510889053345,
          -0.25431370735168457,
          -0.675457239151001,
          -0.6823289394378662,
          -0.25539207458496094,
          -0.5608594417572021,
          -0.39869534969329834,
          -0.7051997184753418,
          -0.24589276313781738,
          -0.6408677101135254,
          -0.5138391256332397,
          -0.08556151390075684,
          -0.3691509962081909,
          -1.0804508924484253,
          -0.6622886657714844,
          -0.6587882041931152,
          -0.28867876529693604,
          -0.24077343940734863,
          -0.22187459468841553,
          0.5550158023834229,
          -0.7729734182357788,
          -0.6539965867996216,
          -0.683537483215332,
          -0.6546977758407593,
          -1.0858136415481567,
          -0.24768561124801636,
          -0.2757391929626465,
          -1.0560688972473145,
          -0.7625292539596558,
          -0.46036219596862793,
          -0.6093366146087646,
          -0.6601636409759521,
          -0.32475870847702026,
          -0.8825950622558594,
          -0.07360434532165527,
          -0.4479684829711914,
          -0.513647198677063,
          -0.6833928227424622,
          -0.5103463530540466,
          -0.34208405017852783,
          -0.21235060691833496,
          -0.29691553115844727,
          -0.6438324451446533,
          -1.0474618673324585,
          -1.0514963865280151,
          -0.36340343952178955,
          -0.32954907417297363,
          -0.46576523780822754,
          -0.46576523780822754,
          -0.5784494876861572,
          -0.5295734405517578,
          -0.23433995246887207,
          -0.07826662063598633,
          -0.5699813365936279,
          -0.8114134073257446,
          -0.3666074275970459,
          -0.4687662124633789,
          -0.4594991207122803,
          -0.7820999622344971,
          -0.9701191186904907,
          -0.7286078929901123,
          -0.5512903928756714,
          -0.1017688512802124,
          -1.1486256122589111,
          -0.41501903533935547,
          0.008954763412475586,
          -0.4006369113922119,
          -0.3792757987976074,
          -0.8782135248184204,
          -0.7145543098449707,
          -0.37397146224975586,
          -0.08875894546508789,
          -0.6264932155609131,
          -0.5766036510467529,
          -1.1103451251983643,
          -0.29852867126464844,
          -0.5002782344818115,
          -0.37857699394226074,
          -0.555354118347168,
          -0.9422646760940552,
          -0.7633285522460938,
          -0.28907346725463867,
          -0.5360064506530762,
          -0.5054095983505249,
          -0.9927084445953369,
          -0.45382440090179443,
          -1.1592648029327393,
          -0.33186864852905273,
          0.045562028884887695,
          -0.1920914649963379,
          -0.18580102920532227,
          -0.24768561124801636,
          -0.8609607219696045,
          -0.47493743896484375,
          -0.0027923583984375,
          -0.9020509719848633,
          -0.49455583095550537,
          -0.8320245742797852,
          -0.677159309387207,
          0.08038973808288574,
          -0.2673983573913574,
          -0.5239609479904175,
          -0.3985389471054077,
          -0.7034631967544556,
          -0.5011547803878784,
          -0.8410145044326782,
          -0.6803117990493774,
          -0.25878775119781494,
          -0.44327473640441895,
          -0.4037153720855713,
          -0.3465327024459839,
          -0.41872239112854004,
          -0.6299493312835693,
          -0.2629178762435913,
          -0.3792821168899536,
          -0.32954907417297363,
          -0.647620439529419,
          -0.6572930812835693,
          -0.5498510599136353,
          -0.14116013050079346,
          -0.45893722772598267,
          -0.5256704092025757,
          -0.7162673473358154,
          -0.20852231979370117,
          -0.31945013999938965,
          -0.24884700775146484,
          -0.4406477212905884,
          -1.175785779953003,
          -0.5245636105537415,
          -1.0030500888824463,
          -0.1351909637451172,
          -0.8516879081726074,
          -0.4594132900238037,
          -0.48831498622894287,
          -0.41895413398742676,
          0.07734525203704834,
          -0.4512360095977783,
          -0.5214356184005737,
          -0.35838669538497925,
          -0.9739395380020142,
          0.13376855850219727,
          -0.9104106426239014,
          -0.1429765224456787,
          -0.10502654314041138,
          -0.002427220344543457,
          -0.052355289459228516,
          -0.5751163959503174,
          -0.9191869497299194,
          -0.536691427230835,
          -0.5737475156784058,
          -0.9935085773468018,
          -0.4602680206298828,
          -0.48668646812438965,
          -0.25977981090545654,
          -0.5501003265380859,
          -0.41822147369384766,
          -0.46037912368774414,
          -0.3858436346054077,
          -0.4847548007965088,
          -0.13387012481689453,
          -0.5295734405517578,
          -0.5415745973587036,
          -0.318040132522583,
          -0.29334497451782227,
          -1.1725211143493652,
          -0.15933597087860107,
          -0.15538537502288818,
          0.26212453842163086,
          -0.20991897583007812,
          0.06301593780517578,
          -0.567654550075531,
          0.27074193954467773,
          -0.45553135871887207,
          -0.46114349365234375,
          -0.4347633123397827,
          -0.12041032314300537,
          -0.46373510360717773,
          -0.7369173765182495,
          -0.9722840785980225,
          -0.6032541990280151,
          -0.5723370313644409,
          -0.6792800426483154,
          -0.7664843797683716,
          -0.6055092811584473,
          -0.2797747850418091,
          -0.4116690158843994,
          -0.3103235960006714,
          -0.5906124114990234,
          -0.7033582925796509,
          -0.15313506126403809,
          -0.7867014408111572,
          -0.019713401794433594,
          -0.7171928882598877,
          -0.43773531913757324,
          -0.06376802921295166,
          -0.6496983766555786,
          -0.9125393629074097,
          -0.05985093116760254,
          -0.2793506383895874,
          -0.7171368598937988,
          -0.6046619415283203,
          -0.4036378860473633,
          -0.9397743940353394,
          -0.9581652879714966,
          -0.8194845914840698,
          -0.4786168336868286,
          -0.44462084770202637,
          -0.25719237327575684,
          -0.4546079635620117,
          -0.06066334247589111,
          0.21356678009033203,
          -0.6954222917556763,
          -0.18950963020324707,
          -0.2848407030105591,
          -1.2581548690795898,
          0.09843206405639648,
          -0.20708715915679932,
          -0.3092237710952759,
          -0.8194043636322021,
          -1.26564359664917,
          -0.8307281732559204,
          -0.9883688688278198,
          -0.9130054712295532,
          -0.6663594245910645,
          -0.3122692108154297,
          -0.6505171060562134,
          -0.23493993282318115,
          -0.32475870847702026,
          -0.33013081550598145,
          -0.35643720626831055,
          -0.4720282554626465,
          -0.16802167892456055,
          -0.6619458198547363,
          0.350466251373291,
          -1.1013660430908203,
          -0.8247805833816528,
          -0.856909990310669,
          -1.0571918487548828,
          -1.07522451877594,
          -0.34775614738464355,
          -0.3038065433502197,
          -0.2080671787261963,
          -0.35690760612487793,
          -0.08640778064727783,
          -0.37787508964538574,
          -0.6490291357040405,
          -1.0648972988128662,
          -0.5354921817779541,
          -0.3666877746582031,
          -0.9829239845275879,
          -0.3293532133102417,
          -0.926592230796814,
          -0.1250898838043213,
          -0.3386189937591553,
          -0.2927205562591553,
          -0.8991432785987854,
          -0.6426161527633667,
          -0.5821411609649658,
          -0.051607370376586914,
          -0.8924093246459961,
          -0.2359917163848877,
          -0.27315187454223633,
          -1.1233477592468262,
          -0.4913976192474365,
          -0.12252545356750488,
          -0.16475677490234375,
          -1.1230902671813965,
          -0.07301115989685059,
          -0.5627169609069824,
          -0.44122934341430664,
          -0.7821335792541504,
          -0.1614077091217041,
          -0.8287034034729004,
          -0.4276714324951172,
          -0.47585010528564453,
          -0.09886503219604492,
          -0.7438361644744873,
          -0.7779906988143921,
          -0.13818788528442383,
          -0.37977468967437744,
          -0.14920294284820557,
          -0.8561997413635254,
          -0.4174046516418457,
          -1.0672082901000977,
          -1.1974765062332153,
          -0.6322401762008667,
          -0.09334421157836914,
          -0.08733367919921875,
          -0.8447935581207275,
          -0.33510875701904297,
          -0.6270064115524292,
          -0.7690250873565674,
          -0.6044368743896484,
          -0.06692004203796387,
          -0.41109538078308105,
          -0.66941237449646,
          -0.6030913591384888,
          -0.8771597146987915,
          -0.8081717491149902,
          -0.9623633623123169,
          -0.4741673469543457,
          -0.17859649658203125,
          -0.6701987981796265,
          -0.4744851589202881,
          -0.43677854537963867,
          -1.1382025480270386,
          -0.5612903833389282,
          -0.3426053524017334,
          0.1964731216430664,
          -0.9638799428939819,
          -0.4761197566986084,
          -0.7869622707366943,
          -0.6604019403457642,
          -0.1985609531402588,
          -0.2607393264770508,
          -0.9602313041687012,
          -0.5195060968399048,
          -0.7037370204925537,
          -0.47745585441589355,
          -1.0399707555770874,
          -0.3995784521102905,
          -0.7958512306213379,
          -0.8038607835769653,
          -0.9367430210113525,
          -0.25078725814819336,
          -0.30671000480651855,
          -0.41494202613830566,
          -0.14943957328796387,
          -1.0547170639038086,
          -0.6183466911315918,
          -0.7515064477920532,
          -0.9201765060424805,
          -0.5202076435089111,
          -0.7256450653076172,
          -1.366753339767456,
          -0.3186720609664917,
          0.024797677993774414,
          -0.35608816146850586,
          -0.5420050621032715,
          -1.0170334577560425,
          -0.3372626304626465,
          -1.0240987539291382,
          -0.22444307804107666,
          -0.3388723134994507,
          -0.8281457424163818,
          -0.7894269227981567,
          -0.8638644218444824,
          -0.9355939626693726,
          -0.31452250480651855,
          -0.28765416145324707,
          -0.11909306049346924,
          -1.1258189678192139,
          -0.3061037063598633,
          -0.9319249391555786,
          -0.5596175193786621,
          -0.22767925262451172
         ]
        }
       ],
       "layout": {
        "font": {
         "size": 30
        },
        "paper_bgcolor": "white",
        "plot_bgcolor": "white",
        "template": {
         "data": {
          "bar": [
           {
            "error_x": {
             "color": "#2a3f5f"
            },
            "error_y": {
             "color": "#2a3f5f"
            },
            "marker": {
             "line": {
              "color": "#E5ECF6",
              "width": 0.5
             },
             "pattern": {
              "fillmode": "overlay",
              "size": 10,
              "solidity": 0.2
             }
            },
            "type": "bar"
           }
          ],
          "barpolar": [
           {
            "marker": {
             "line": {
              "color": "#E5ECF6",
              "width": 0.5
             },
             "pattern": {
              "fillmode": "overlay",
              "size": 10,
              "solidity": 0.2
             }
            },
            "type": "barpolar"
           }
          ],
          "carpet": [
           {
            "aaxis": {
             "endlinecolor": "#2a3f5f",
             "gridcolor": "white",
             "linecolor": "white",
             "minorgridcolor": "white",
             "startlinecolor": "#2a3f5f"
            },
            "baxis": {
             "endlinecolor": "#2a3f5f",
             "gridcolor": "white",
             "linecolor": "white",
             "minorgridcolor": "white",
             "startlinecolor": "#2a3f5f"
            },
            "type": "carpet"
           }
          ],
          "choropleth": [
           {
            "colorbar": {
             "outlinewidth": 0,
             "ticks": ""
            },
            "type": "choropleth"
           }
          ],
          "contour": [
           {
            "colorbar": {
             "outlinewidth": 0,
             "ticks": ""
            },
            "colorscale": [
             [
              0,
              "#0d0887"
             ],
             [
              0.1111111111111111,
              "#46039f"
             ],
             [
              0.2222222222222222,
              "#7201a8"
             ],
             [
              0.3333333333333333,
              "#9c179e"
             ],
             [
              0.4444444444444444,
              "#bd3786"
             ],
             [
              0.5555555555555556,
              "#d8576b"
             ],
             [
              0.6666666666666666,
              "#ed7953"
             ],
             [
              0.7777777777777778,
              "#fb9f3a"
             ],
             [
              0.8888888888888888,
              "#fdca26"
             ],
             [
              1,
              "#f0f921"
             ]
            ],
            "type": "contour"
           }
          ],
          "contourcarpet": [
           {
            "colorbar": {
             "outlinewidth": 0,
             "ticks": ""
            },
            "type": "contourcarpet"
           }
          ],
          "heatmap": [
           {
            "colorbar": {
             "outlinewidth": 0,
             "ticks": ""
            },
            "colorscale": [
             [
              0,
              "#0d0887"
             ],
             [
              0.1111111111111111,
              "#46039f"
             ],
             [
              0.2222222222222222,
              "#7201a8"
             ],
             [
              0.3333333333333333,
              "#9c179e"
             ],
             [
              0.4444444444444444,
              "#bd3786"
             ],
             [
              0.5555555555555556,
              "#d8576b"
             ],
             [
              0.6666666666666666,
              "#ed7953"
             ],
             [
              0.7777777777777778,
              "#fb9f3a"
             ],
             [
              0.8888888888888888,
              "#fdca26"
             ],
             [
              1,
              "#f0f921"
             ]
            ],
            "type": "heatmap"
           }
          ],
          "heatmapgl": [
           {
            "colorbar": {
             "outlinewidth": 0,
             "ticks": ""
            },
            "colorscale": [
             [
              0,
              "#0d0887"
             ],
             [
              0.1111111111111111,
              "#46039f"
             ],
             [
              0.2222222222222222,
              "#7201a8"
             ],
             [
              0.3333333333333333,
              "#9c179e"
             ],
             [
              0.4444444444444444,
              "#bd3786"
             ],
             [
              0.5555555555555556,
              "#d8576b"
             ],
             [
              0.6666666666666666,
              "#ed7953"
             ],
             [
              0.7777777777777778,
              "#fb9f3a"
             ],
             [
              0.8888888888888888,
              "#fdca26"
             ],
             [
              1,
              "#f0f921"
             ]
            ],
            "type": "heatmapgl"
           }
          ],
          "histogram": [
           {
            "marker": {
             "pattern": {
              "fillmode": "overlay",
              "size": 10,
              "solidity": 0.2
             }
            },
            "type": "histogram"
           }
          ],
          "histogram2d": [
           {
            "colorbar": {
             "outlinewidth": 0,
             "ticks": ""
            },
            "colorscale": [
             [
              0,
              "#0d0887"
             ],
             [
              0.1111111111111111,
              "#46039f"
             ],
             [
              0.2222222222222222,
              "#7201a8"
             ],
             [
              0.3333333333333333,
              "#9c179e"
             ],
             [
              0.4444444444444444,
              "#bd3786"
             ],
             [
              0.5555555555555556,
              "#d8576b"
             ],
             [
              0.6666666666666666,
              "#ed7953"
             ],
             [
              0.7777777777777778,
              "#fb9f3a"
             ],
             [
              0.8888888888888888,
              "#fdca26"
             ],
             [
              1,
              "#f0f921"
             ]
            ],
            "type": "histogram2d"
           }
          ],
          "histogram2dcontour": [
           {
            "colorbar": {
             "outlinewidth": 0,
             "ticks": ""
            },
            "colorscale": [
             [
              0,
              "#0d0887"
             ],
             [
              0.1111111111111111,
              "#46039f"
             ],
             [
              0.2222222222222222,
              "#7201a8"
             ],
             [
              0.3333333333333333,
              "#9c179e"
             ],
             [
              0.4444444444444444,
              "#bd3786"
             ],
             [
              0.5555555555555556,
              "#d8576b"
             ],
             [
              0.6666666666666666,
              "#ed7953"
             ],
             [
              0.7777777777777778,
              "#fb9f3a"
             ],
             [
              0.8888888888888888,
              "#fdca26"
             ],
             [
              1,
              "#f0f921"
             ]
            ],
            "type": "histogram2dcontour"
           }
          ],
          "mesh3d": [
           {
            "colorbar": {
             "outlinewidth": 0,
             "ticks": ""
            },
            "type": "mesh3d"
           }
          ],
          "parcoords": [
           {
            "line": {
             "colorbar": {
              "outlinewidth": 0,
              "ticks": ""
             }
            },
            "type": "parcoords"
           }
          ],
          "pie": [
           {
            "automargin": true,
            "type": "pie"
           }
          ],
          "scatter": [
           {
            "fillpattern": {
             "fillmode": "overlay",
             "size": 10,
             "solidity": 0.2
            },
            "type": "scatter"
           }
          ],
          "scatter3d": [
           {
            "line": {
             "colorbar": {
              "outlinewidth": 0,
              "ticks": ""
             }
            },
            "marker": {
             "colorbar": {
              "outlinewidth": 0,
              "ticks": ""
             }
            },
            "type": "scatter3d"
           }
          ],
          "scattercarpet": [
           {
            "marker": {
             "colorbar": {
              "outlinewidth": 0,
              "ticks": ""
             }
            },
            "type": "scattercarpet"
           }
          ],
          "scattergeo": [
           {
            "marker": {
             "colorbar": {
              "outlinewidth": 0,
              "ticks": ""
             }
            },
            "type": "scattergeo"
           }
          ],
          "scattergl": [
           {
            "marker": {
             "colorbar": {
              "outlinewidth": 0,
              "ticks": ""
             }
            },
            "type": "scattergl"
           }
          ],
          "scattermapbox": [
           {
            "marker": {
             "colorbar": {
              "outlinewidth": 0,
              "ticks": ""
             }
            },
            "type": "scattermapbox"
           }
          ],
          "scatterpolar": [
           {
            "marker": {
             "colorbar": {
              "outlinewidth": 0,
              "ticks": ""
             }
            },
            "type": "scatterpolar"
           }
          ],
          "scatterpolargl": [
           {
            "marker": {
             "colorbar": {
              "outlinewidth": 0,
              "ticks": ""
             }
            },
            "type": "scatterpolargl"
           }
          ],
          "scatterternary": [
           {
            "marker": {
             "colorbar": {
              "outlinewidth": 0,
              "ticks": ""
             }
            },
            "type": "scatterternary"
           }
          ],
          "surface": [
           {
            "colorbar": {
             "outlinewidth": 0,
             "ticks": ""
            },
            "colorscale": [
             [
              0,
              "#0d0887"
             ],
             [
              0.1111111111111111,
              "#46039f"
             ],
             [
              0.2222222222222222,
              "#7201a8"
             ],
             [
              0.3333333333333333,
              "#9c179e"
             ],
             [
              0.4444444444444444,
              "#bd3786"
             ],
             [
              0.5555555555555556,
              "#d8576b"
             ],
             [
              0.6666666666666666,
              "#ed7953"
             ],
             [
              0.7777777777777778,
              "#fb9f3a"
             ],
             [
              0.8888888888888888,
              "#fdca26"
             ],
             [
              1,
              "#f0f921"
             ]
            ],
            "type": "surface"
           }
          ],
          "table": [
           {
            "cells": {
             "fill": {
              "color": "#EBF0F8"
             },
             "line": {
              "color": "white"
             }
            },
            "header": {
             "fill": {
              "color": "#C8D4E3"
             },
             "line": {
              "color": "white"
             }
            },
            "type": "table"
           }
          ]
         },
         "layout": {
          "annotationdefaults": {
           "arrowcolor": "#2a3f5f",
           "arrowhead": 0,
           "arrowwidth": 1
          },
          "autotypenumbers": "strict",
          "coloraxis": {
           "colorbar": {
            "outlinewidth": 0,
            "ticks": ""
           }
          },
          "colorscale": {
           "diverging": [
            [
             0,
             "#8e0152"
            ],
            [
             0.1,
             "#c51b7d"
            ],
            [
             0.2,
             "#de77ae"
            ],
            [
             0.3,
             "#f1b6da"
            ],
            [
             0.4,
             "#fde0ef"
            ],
            [
             0.5,
             "#f7f7f7"
            ],
            [
             0.6,
             "#e6f5d0"
            ],
            [
             0.7,
             "#b8e186"
            ],
            [
             0.8,
             "#7fbc41"
            ],
            [
             0.9,
             "#4d9221"
            ],
            [
             1,
             "#276419"
            ]
           ],
           "sequential": [
            [
             0,
             "#0d0887"
            ],
            [
             0.1111111111111111,
             "#46039f"
            ],
            [
             0.2222222222222222,
             "#7201a8"
            ],
            [
             0.3333333333333333,
             "#9c179e"
            ],
            [
             0.4444444444444444,
             "#bd3786"
            ],
            [
             0.5555555555555556,
             "#d8576b"
            ],
            [
             0.6666666666666666,
             "#ed7953"
            ],
            [
             0.7777777777777778,
             "#fb9f3a"
            ],
            [
             0.8888888888888888,
             "#fdca26"
            ],
            [
             1,
             "#f0f921"
            ]
           ],
           "sequentialminus": [
            [
             0,
             "#0d0887"
            ],
            [
             0.1111111111111111,
             "#46039f"
            ],
            [
             0.2222222222222222,
             "#7201a8"
            ],
            [
             0.3333333333333333,
             "#9c179e"
            ],
            [
             0.4444444444444444,
             "#bd3786"
            ],
            [
             0.5555555555555556,
             "#d8576b"
            ],
            [
             0.6666666666666666,
             "#ed7953"
            ],
            [
             0.7777777777777778,
             "#fb9f3a"
            ],
            [
             0.8888888888888888,
             "#fdca26"
            ],
            [
             1,
             "#f0f921"
            ]
           ]
          },
          "colorway": [
           "#636efa",
           "#EF553B",
           "#00cc96",
           "#ab63fa",
           "#FFA15A",
           "#19d3f3",
           "#FF6692",
           "#B6E880",
           "#FF97FF",
           "#FECB52"
          ],
          "font": {
           "color": "#2a3f5f"
          },
          "geo": {
           "bgcolor": "white",
           "lakecolor": "white",
           "landcolor": "#E5ECF6",
           "showlakes": true,
           "showland": true,
           "subunitcolor": "white"
          },
          "hoverlabel": {
           "align": "left"
          },
          "hovermode": "closest",
          "mapbox": {
           "style": "light"
          },
          "paper_bgcolor": "white",
          "plot_bgcolor": "#E5ECF6",
          "polar": {
           "angularaxis": {
            "gridcolor": "white",
            "linecolor": "white",
            "ticks": ""
           },
           "bgcolor": "#E5ECF6",
           "radialaxis": {
            "gridcolor": "white",
            "linecolor": "white",
            "ticks": ""
           }
          },
          "scene": {
           "xaxis": {
            "backgroundcolor": "#E5ECF6",
            "gridcolor": "white",
            "gridwidth": 2,
            "linecolor": "white",
            "showbackground": true,
            "ticks": "",
            "zerolinecolor": "white"
           },
           "yaxis": {
            "backgroundcolor": "#E5ECF6",
            "gridcolor": "white",
            "gridwidth": 2,
            "linecolor": "white",
            "showbackground": true,
            "ticks": "",
            "zerolinecolor": "white"
           },
           "zaxis": {
            "backgroundcolor": "#E5ECF6",
            "gridcolor": "white",
            "gridwidth": 2,
            "linecolor": "white",
            "showbackground": true,
            "ticks": "",
            "zerolinecolor": "white"
           }
          },
          "shapedefaults": {
           "line": {
            "color": "#2a3f5f"
           }
          },
          "ternary": {
           "aaxis": {
            "gridcolor": "white",
            "linecolor": "white",
            "ticks": ""
           },
           "baxis": {
            "gridcolor": "white",
            "linecolor": "white",
            "ticks": ""
           },
           "bgcolor": "#E5ECF6",
           "caxis": {
            "gridcolor": "white",
            "linecolor": "white",
            "ticks": ""
           }
          },
          "title": {
           "x": 0.05
          },
          "xaxis": {
           "automargin": true,
           "gridcolor": "white",
           "linecolor": "white",
           "ticks": "",
           "title": {
            "standoff": 15
           },
           "zerolinecolor": "white",
           "zerolinewidth": 2
          },
          "yaxis": {
           "automargin": true,
           "gridcolor": "white",
           "linecolor": "white",
           "ticks": "",
           "title": {
            "standoff": 15
           },
           "zerolinecolor": "white",
           "zerolinewidth": 2
          }
         }
        },
        "title": {
         "text": "Distribution of Difference In Nuclear Norms - DGI ID vs DGI SF"
        },
        "xaxis": {
         "title": {
          "text": "Difference In Nuclear Norms - DGI ID vs DGI SF"
         }
        },
        "yaxis": {
         "title": {
          "text": "Frequency"
         }
        }
       }
      },
      "text/html": [
       "<div>                            <div id=\"19583288-c40d-4b94-bc3e-3fcc641ee3a9\" class=\"plotly-graph-div\" style=\"height:525px; width:100%;\"></div>            <script type=\"text/javascript\">                require([\"plotly\"], function(Plotly) {                    window.PLOTLYENV=window.PLOTLYENV || {};                                    if (document.getElementById(\"19583288-c40d-4b94-bc3e-3fcc641ee3a9\")) {                    Plotly.newPlot(                        \"19583288-c40d-4b94-bc3e-3fcc641ee3a9\",                        [{\"x\":[-0.6328688859939575,-0.5056160688400269,-0.688835620880127,-0.45213353633880615,-0.17730611562728882,-0.4515035152435303,-0.4024544954299927,-0.49133217334747314,-0.5792075395584106,-0.23767316341400146,-0.5914033651351929,-0.47270894050598145,-0.4072854518890381,-0.4707943797111511,-0.2415534257888794,-0.3412896394729614,-0.8835163116455078,-0.15517491102218628,-0.304329514503479,-0.45211261510849,-0.6404272317886353,-0.3133101463317871,-0.18700677156448364,-0.18104004859924316,-0.24468517303466797,-0.4942436218261719,-0.22845947742462158,-0.2095268964767456,-0.2300775647163391,-0.33693206310272217,-0.2780696153640747,-0.2776907682418823,-0.4864853620529175,-0.7262070178985596,-0.6681029796600342,-0.7446368932723999,0.029615402221679688,-0.4980331063270569,-0.32751739025115967,0.026905059814453125,-0.19450050592422485,-0.3708350658416748,-0.3300071954727173,-0.30288511514663696,-0.15315675735473633,-0.3830575942993164,-0.19920355081558228,-0.5365259647369385,-0.4138709306716919,-0.3202708959579468,-0.15096455812454224,-0.38147276639938354,-0.5129891633987427,-0.3974337577819824,-0.13646751642227173,-0.45289814472198486,-0.6335636377334595,-0.4515478014945984,-0.10413765907287598,-0.3024682402610779,-0.33240050077438354,-0.6070572137832642,-0.5468405485153198,-0.21960902214050293,-0.4471794366836548,-0.019836127758026123,-0.5041584968566895,-0.1171727180480957,-0.3584524393081665,0.00047838687896728516,-0.2242538332939148,-0.012532949447631836,-0.2884103059768677,-0.41214948892593384,-0.5062177181243896,-0.4584723711013794,-0.36396777629852295,0.034027308225631714,-0.6517728567123413,-0.1348123550415039,-0.7158843278884888,-0.8350105285644531,-0.3228292465209961,-0.2123146653175354,-0.6013368368148804,-0.6972988843917847,-0.18719643354415894,-0.5216690301895142,-0.31148838996887207,-0.49888360500335693,-0.37276965379714966,-0.44853758811950684,-0.1570395827293396,-0.25860440731048584,-0.10091894865036011,-0.45750904083251953,-0.3863210678100586,-0.026592373847961426,-0.19536364078521729,-0.29167866706848145,-0.5695271492004395,-0.43257665634155273,-0.2235121726989746,-0.21043729782104492,-0.2176036834716797,0.10343295335769653,-0.49261462688446045,-0.3115425109863281,-0.32794368267059326,-0.6084219217300415,-0.4628491997718811,-0.21265625953674316,-0.33092784881591797,-0.1115560531616211,-0.3559066653251648,-0.24107849597930908,-0.25139451026916504,-0.2753201127052307,-0.2802334427833557,-0.09853208065032959,-0.19377851486206055,-0.2471643090248108,-0.3152960538864136,-0.07102847099304199,-0.05185890197753906,-0.23063325881958008,-0.3149975538253784,-0.36378014087677,-0.5700068473815918,-0.14713817834854126,-0.3350362777709961,-0.618615984916687,-0.3742316961288452,-0.5608989000320435,-0.13677239418029785,-0.3469425439834595,-0.29866695404052734,-0.2249394655227661,-0.1611034870147705,-0.7738968133926392,-0.3287935256958008,-0.49311137199401855,-0.16471898555755615,-0.3844587802886963,-0.3392532467842102,-0.34144842624664307,-0.4428584575653076,-0.5120797157287598,-0.3728148341178894,-0.43988776206970215,-0.312746524810791,-0.3780921697616577,-0.5954363346099854,-0.5806072950363159,-0.21877354383468628,-0.5382503271102905,-0.37448835372924805,-0.12814919650554657,-0.6520974636077881,-0.1597135066986084,-0.16796594858169556,-0.03629708290100098,-0.5332367420196533,-0.13139772415161133,-0.3126237392425537,-0.39465492963790894,-0.49465739727020264,-0.29290080070495605,-0.17795133590698242,0.002616584300994873,-0.4264758825302124,-0.4994237422943115,-0.40745437145233154,-0.4183841943740845,-0.4135192036628723,-0.49680447578430176,-0.7019517421722412,-0.293379545211792,-0.563320517539978,-0.2969404458999634,-0.29118049144744873,-0.2643963098526001,-0.1475222110748291,-0.5344687700271606,-0.27982962131500244,-0.21477913856506348,-0.44571566581726074,-0.45183539390563965,-0.9544976949691772,-0.19325900077819824,-0.22437870502471924,0.08986878395080566,-0.18207263946533203,-0.2986239194869995,-0.032828569412231445,-0.9619232416152954,-0.5067311525344849,-0.4898413419723511,-0.40170860290527344,-0.28892219066619873,-0.9276436567306519,-0.1675754189491272,-0.32004594802856445,-0.4841047525405884,-0.40313029289245605,-0.2720422148704529,-0.20614981651306152,-0.4592750072479248,-0.1890556812286377,-0.1936814785003662,-0.1930321455001831,-0.2820531129837036,-0.38268226385116577,-0.36861544847488403,-0.3132338523864746,-0.1914196014404297,-0.23328185081481934,-0.4505343437194824,-0.34793922305107117,-0.506108283996582,-0.6525653600692749,-0.396298885345459,-0.41447508335113525,-0.35545384883880615,-0.22897768020629883,-0.5118094682693481,-0.44274282455444336,-0.4849904775619507,-0.4033673405647278,-0.3487698435783386,-0.32629501819610596,-0.47672712802886963,-0.24405908584594727,-0.5452111959457397,-0.521396279335022,-0.47843223810195923,-0.5433396100997925,-0.3045036792755127,-0.4505276679992676,-0.4892549514770508,-0.6020123958587646,-0.4930698871612549,-0.40514278411865234,-0.461402952671051,-0.9662477970123291,-0.8869814872741699,-0.4835270643234253,-0.29413557052612305,-0.3477570414543152,-0.30414366722106934,-0.4429973363876343,-0.49159908294677734,-0.3293297290802002,-0.9740109443664551,-0.6291027069091797,-0.13527178764343262,-0.48267316818237305,-0.3552818298339844,-0.4142336845397949,-0.343608021736145,-0.2867962121963501,-0.31966114044189453,-0.1824418306350708,-0.14499282836914062,-0.6546131372451782,-0.515152096748352,-0.5603300333023071,-0.5026460886001587,-0.5964560508728027,-0.11597371101379395,-0.9356459379196167,-0.579422116279602,-0.3673563003540039,-0.047904253005981445,-0.26500654220581055,-0.5035241842269897,-0.5175340175628662,-0.17106330394744873,-0.534523606300354,-0.33142197132110596,-0.4981803894042969,-0.42931854724884033,-0.33913183212280273,-0.18211579322814941,-0.8066719770431519,-0.6705929040908813,-0.4523271322250366,-0.2403026819229126,-0.33653193712234497,-0.4610799551010132,-0.43594813346862793,-0.2747187614440918,-0.6655075550079346,-0.5855077505111694,-0.3801541328430176,-0.4259948134422302,-0.1753453016281128,-0.4717826843261719,0.040838003158569336,-0.5695114135742188,-0.5503153800964355,-0.492769718170166,-0.6320856809616089,-0.5071567296981812,-0.45299232006073,-0.0073770880699157715,-0.28587567806243896,-0.1284393072128296,-0.23402142524719238,-0.5052361488342285,-0.22402536869049072,-0.4147624969482422,-0.31675219535827637,-0.244093120098114,-0.6857842206954956,-0.1404050588607788,-0.2016744613647461,-0.3112226724624634,-0.17741405963897705,-0.3608694076538086,-0.44019269943237305,-0.5682339072227478,-0.0076847076416015625,-0.6253640651702881,-0.35813450813293457,-0.5156170129776001,-0.4576960802078247,-0.1926708221435547,-0.24371910095214844,-0.09525942802429199,-0.6692472696304321,-0.8020902872085571,-0.3535059690475464,-0.9671070575714111,-0.6151970624923706,-0.2428971529006958,0.021003246307373047,-0.10335469245910645,-0.28370100259780884,-0.5013712644577026,-0.31261110305786133,-0.8203439712524414,-0.6024855375289917,-0.4757131338119507,-0.21840596199035645,-0.3364989757537842,-0.6400264501571655,-0.5440152883529663,-0.32954907417297363,-0.28729891777038574,-0.834092378616333,-0.7553544044494629,0.1680302619934082,-0.6725624799728394,-0.27533048391342163,-0.6146495342254639,-0.3359518051147461,-0.4937856197357178,-0.4595524072647095,-0.5728355646133423,-0.3919569253921509,0.48768115043640137,-0.24203455448150635,-0.33726727962493896,-0.492864727973938,-0.513647198677063,-0.4675101637840271,-0.3994596004486084,-1.0570989847183228,-0.5015515089035034,-0.8233071565628052,-0.9253888130187988,-0.2449662685394287,-0.47886908054351807,-0.3484313488006592,-0.728949785232544,-0.5615659952163696,-0.3410491943359375,0.05640476942062378,-0.529999852180481,-0.0813441276550293,-0.5194762945175171,-0.5665903091430664,-0.4559628963470459,-0.36204278469085693,-0.3288828134536743,-0.8541889190673828,-0.4615434408187866,-0.42324256896972656,-0.3575376272201538,0.05582714080810547,-0.47417473793029785,-0.33374500274658203,-0.29439616203308105,-0.09943956136703491,-0.5224264860153198,-0.2843979597091675,-0.4874417781829834,-0.30470526218414307,-0.07400703430175781,-0.4264028072357178,-0.31181931495666504,-0.4381725788116455,-0.7543370723724365,-0.008579492568969727,-0.6565679311752319,-0.6230201721191406,-0.5229150056838989,-0.4645864963531494,-0.6095919609069824,-0.1650378704071045,-0.20029568672180176,-0.6122763156890869,-0.31047147512435913,-0.36132586002349854,-0.013570070266723633,-0.2722577452659607,-0.511509358882904,-0.26579785346984863,-0.18306446075439453,-0.44193923473358154,-0.5539342164993286,-0.4603869915008545,-0.1519615650177002,-1.0511865615844727,-0.31821584701538086,-1.2086018323898315,-0.3409527540206909,-0.3506568670272827,-0.28754639625549316,-0.2523479461669922,-0.5851092338562012,-0.5523141622543335,-0.23275220394134521,-0.4649914503097534,-0.7267882823944092,-0.10105752944946289,-0.4775707721710205,-0.32988572120666504,-0.46990394592285156,-0.2665736675262451,-0.240509033203125,-0.1627427339553833,-0.48833906650543213,-0.5015584230422974,-0.2497096061706543,-0.3377331495285034,-0.5806838274002075,-0.4543638229370117,-0.433681845664978,-0.4112844467163086,-0.5288128852844238,-0.6539695262908936,-0.28560149669647217,-0.4444451332092285,-0.5644500255584717,-0.26651668548583984,-0.22741007804870605,-0.43031466007232666,-0.5775419473648071,-0.5245529413223267,-0.4041135311126709,-0.7083296775817871,-0.12639236450195312,-0.01322031021118164,-0.12303125858306885,-0.2303469181060791,-0.30778229236602783,-0.2579091787338257,-0.38624680042266846,-0.41050416231155396,-0.29541444778442383,-0.2542591094970703,-0.27552950382232666,-0.4432145357131958,-0.32896506786346436,-0.3595285415649414,-0.6178252696990967,-0.5293409824371338,0.15478920936584473,-0.44024205207824707,-0.07901477813720703,-0.14373993873596191,-0.4223285913467407,-0.36640167236328125,-0.5489723682403564,-0.5020477771759033,-0.20012342929840088,-0.41306161880493164,-0.4218181371688843,-0.2846044898033142,-0.7736201286315918,-0.7295172214508057,0.10399222373962402,-0.021005630493164062,-0.4328293800354004,-0.2742987871170044,-0.37343382835388184,-0.05467724800109863,-0.596743106842041,-0.35926127433776855,-0.6683342456817627,-0.2484380602836609,-0.3675098419189453,-0.23387682437896729,-0.21769893169403076,-0.6129159927368164,-0.8268802165985107,-0.6005696058273315,-0.6612043380737305,-0.6298439502716064,-0.3092237710952759,-0.37788963317871094,-0.43254971504211426,-0.2662007808685303,-0.15712153911590576,-0.38946759700775146,-0.34209609031677246,-0.21370470523834229,-0.23951685428619385,-0.729649543762207,-0.3855438232421875,-0.44660520553588867,-0.45031487941741943,-0.6264721155166626,-0.24797511100769043,-0.7680641412734985,-0.22655129432678223,-0.32954907417297363,-0.39906585216522217,0.23344874382019043,-0.4350144863128662,-0.30473530292510986,-0.43753862380981445,-0.028732776641845703,-0.021243691444396973,-0.23825228214263916,-0.418226957321167,-0.6615803241729736,-0.7143030166625977,-0.5857784748077393,-0.7680498361587524,-0.3523486852645874,-0.2974954843521118,-0.6990419626235962,-0.31867754459381104,-0.11956262588500977,-0.857772707939148,-0.3698444366455078,-0.41982102394104004,-0.6114661693572998,-0.5072637796401978,-0.4957904815673828,-0.21145844459533691,-0.07915186882019043,-0.5820056200027466,-0.11706423759460449,-0.6842489242553711,-0.9867973327636719,-0.2920048236846924,-0.21955406665802002,-0.3089393377304077,-0.7410318851470947,-0.5599113702774048,-0.14273405075073242,-0.15637660026550293,-0.5508847236633301,-0.3909953832626343,-0.3128848075866699,-0.5421406030654907,-0.23445332050323486,-0.27382373809814453,-0.3550894260406494,-0.3737912178039551,-0.5917434692382812,-0.35838669538497925,-0.6697824001312256,-0.26349878311157227,0.2340843677520752,-0.29913949966430664,-1.0336754322052002,-0.4036979675292969,-0.25269103050231934,-0.5507687330245972,-0.5265524387359619,-0.35202646255493164,-0.3231692314147949,-0.11449003219604492,-0.34907782077789307,-0.7940801382064819,-0.5904052257537842,-0.2359461784362793,-0.790931224822998,-0.48002147674560547,-0.7712059020996094,-0.28663015365600586,-0.3610260486602783,-0.08472263813018799,-1.1548460721969604,-0.2120887041091919,-0.2573627233505249,-0.3604828119277954,-0.34327661991119385,-0.42377567291259766,-0.34381890296936035,-0.19072890281677246,-0.9006695747375488,-0.9679158926010132,-0.21246516704559326,-0.22776055335998535,-0.1432281732559204,-0.4553302526473999,-0.15678846836090088,-0.44030141830444336,-0.31392502784729004,-0.5000009536743164,-0.3075568675994873,-0.462483286857605,-0.46116554737091064,-0.5894589424133301,-0.953551173210144,-0.30914735794067383,-0.6650044918060303,-0.36129796504974365,-0.36174464225769043,-0.5073519945144653,-0.5074906349182129,-0.3289475440979004,-0.03403747081756592,-0.7370604276657104,-0.8932098150253296,-0.20261192321777344,-0.8631258010864258,-0.4019368886947632,-0.4062385559082031,-0.4191765785217285,-0.4269046187400818,-0.46118348836898804,-0.559685468673706,-0.450687050819397,-0.27944445610046387,-0.6123571395874023,-0.21297597885131836,-0.5848342180252075,-0.5552910566329956,-0.5368747711181641,-0.2558668851852417,-0.1739976406097412,-0.37195122241973877,0.08599424362182617,-0.3608689308166504,-0.22333180904388428,-1.0389549732208252,-0.4848588705062866,-0.35320448875427246,-0.4396512508392334,-0.3854868412017822,-0.4588724374771118,-0.7577857971191406,-0.21995961666107178,-0.5354126691818237,-0.833806037902832,-0.27803242206573486,-0.4596445560455322,-0.6265319585800171,-0.3604997396469116,-0.4603383541107178,-0.5811140537261963,-0.5922026634216309,-0.5556182861328125,-0.2471379041671753,-0.10448622703552246,-0.285880446434021,-0.21165084838867188,-0.1741262674331665,-0.33648204803466797,-0.34875917434692383,-0.39511537551879883,-0.314314603805542,-0.4893476963043213,-0.7604384422302246,-0.17297840118408203,-0.26369690895080566,-0.11274266242980957,-0.22709989547729492,-0.25155556201934814,-0.30078744888305664,-0.5468602180480957,-0.521648645401001,-0.4728260040283203,-0.5556182861328125,-0.3409212827682495,-0.4943997859954834,-0.24768561124801636,-0.2446892261505127,-0.32954907417297363,0.07831931114196777,-0.4796881675720215,-0.6510013341903687,-0.8363293409347534,-0.36503171920776367,-0.00509953498840332,-0.4853324890136719,-0.34099268913269043,-0.22268569469451904,-0.5780079364776611,-0.32954907417297363,-0.48117518424987793,-0.5252290964126587,-0.5684058666229248,-1.0719765424728394,0.03638863563537598,-0.07033300399780273,-0.8685343265533447,-0.23649203777313232,-0.10277426242828369,-0.4607539176940918,-0.3444768786430359,-0.32954907417297363,-0.43969404697418213,-0.30767345428466797,0.018364310264587402,-0.5501894950866699,-0.6308085918426514,-0.6074148416519165,-0.454964280128479,-0.2022867202758789,-0.5675127506256104,-0.25284433364868164,-0.511509358882904,-0.6933078765869141,-0.4142336845397949,-0.7129935026168823,-0.2658292055130005,-0.22745800018310547,-0.7887632846832275,-0.5332622528076172,-0.057483673095703125,-0.47947168350219727,-0.333115816116333,-0.3968392014503479,-0.033823490142822266,-0.2747272253036499,-0.42302727699279785,-0.5180647373199463,0.12365508079528809,-0.46131181716918945,-0.717720627784729,-0.2817869186401367,-0.42236387729644775,-0.9489446878433228,-0.5112941265106201,-0.8155653476715088,-0.7276651859283447,-0.6703928709030151,-0.45893722772598267,-0.48500168323516846,-0.5377606153488159,-0.4877975583076477,-0.36229825019836426,-0.39412403106689453,-0.33330631256103516,-0.5373048782348633,-0.572475790977478,-0.930249810218811,-0.7337234020233154,-0.16036128997802734,-0.4362398386001587,-0.46907734870910645,-0.25733089447021484,-0.22506284713745117,-0.2267981767654419,-0.8117127418518066,-0.7192884683609009,-0.0765843391418457,-0.7278757095336914,-0.13459515571594238,-0.17730307579040527,-0.3802528381347656,-0.6031016111373901,-0.6363140344619751,-0.5082002878189087,-0.6455239057540894,-0.5921957492828369,-0.5497771501541138,-0.8474382162094116,-0.12241244316101074,-0.9462411403656006,-0.7623059749603271,-0.48178935050964355,-0.5878026485443115,-0.7022786140441895,-0.8045732975006104,0.2535562515258789,-0.4748494625091553,-0.7216323614120483,-0.28830838203430176,-0.4586714506149292,-0.2766026258468628,-0.09453058242797852,-0.1405552625656128,-0.915870189666748,-0.40239930152893066,-0.11344051361083984,-0.22859513759613037,-0.5711641311645508,-0.302676796913147,-0.3656344413757324,-0.18386602401733398,-0.4415522813796997,-0.3952738046646118,-0.5748368501663208,-0.6717099547386169,-0.3781614303588867,-0.48570382595062256,-0.6197632551193237,-0.4687662124633789,-0.5456991195678711,-0.6546796560287476,-0.3583645820617676,-0.6066887378692627,-0.4874570369720459,-0.21985948085784912,-0.19379103183746338,-0.47895896434783936,-0.7782618999481201,-0.3612253665924072,-1.018797755241394,-0.0769202709197998,-0.5868569612503052,-0.6369510889053345,-0.25431370735168457,-0.675457239151001,-0.6823289394378662,-0.25539207458496094,-0.5608594417572021,-0.39869534969329834,-0.7051997184753418,-0.24589276313781738,-0.6408677101135254,-0.5138391256332397,-0.08556151390075684,-0.3691509962081909,-1.0804508924484253,-0.6622886657714844,-0.6587882041931152,-0.28867876529693604,-0.24077343940734863,-0.22187459468841553,0.5550158023834229,-0.7729734182357788,-0.6539965867996216,-0.683537483215332,-0.6546977758407593,-1.0858136415481567,-0.24768561124801636,-0.2757391929626465,-1.0560688972473145,-0.7625292539596558,-0.46036219596862793,-0.6093366146087646,-0.6601636409759521,-0.32475870847702026,-0.8825950622558594,-0.07360434532165527,-0.4479684829711914,-0.513647198677063,-0.6833928227424622,-0.5103463530540466,-0.34208405017852783,-0.21235060691833496,-0.29691553115844727,-0.6438324451446533,-1.0474618673324585,-1.0514963865280151,-0.36340343952178955,-0.32954907417297363,-0.46576523780822754,-0.46576523780822754,-0.5784494876861572,-0.5295734405517578,-0.23433995246887207,-0.07826662063598633,-0.5699813365936279,-0.8114134073257446,-0.3666074275970459,-0.4687662124633789,-0.4594991207122803,-0.7820999622344971,-0.9701191186904907,-0.7286078929901123,-0.5512903928756714,-0.1017688512802124,-1.1486256122589111,-0.41501903533935547,0.008954763412475586,-0.4006369113922119,-0.3792757987976074,-0.8782135248184204,-0.7145543098449707,-0.37397146224975586,-0.08875894546508789,-0.6264932155609131,-0.5766036510467529,-1.1103451251983643,-0.29852867126464844,-0.5002782344818115,-0.37857699394226074,-0.555354118347168,-0.9422646760940552,-0.7633285522460938,-0.28907346725463867,-0.5360064506530762,-0.5054095983505249,-0.9927084445953369,-0.45382440090179443,-1.1592648029327393,-0.33186864852905273,0.045562028884887695,-0.1920914649963379,-0.18580102920532227,-0.24768561124801636,-0.8609607219696045,-0.47493743896484375,-0.0027923583984375,-0.9020509719848633,-0.49455583095550537,-0.8320245742797852,-0.677159309387207,0.08038973808288574,-0.2673983573913574,-0.5239609479904175,-0.3985389471054077,-0.7034631967544556,-0.5011547803878784,-0.8410145044326782,-0.6803117990493774,-0.25878775119781494,-0.44327473640441895,-0.4037153720855713,-0.3465327024459839,-0.41872239112854004,-0.6299493312835693,-0.2629178762435913,-0.3792821168899536,-0.32954907417297363,-0.647620439529419,-0.6572930812835693,-0.5498510599136353,-0.14116013050079346,-0.45893722772598267,-0.5256704092025757,-0.7162673473358154,-0.20852231979370117,-0.31945013999938965,-0.24884700775146484,-0.4406477212905884,-1.175785779953003,-0.5245636105537415,-1.0030500888824463,-0.1351909637451172,-0.8516879081726074,-0.4594132900238037,-0.48831498622894287,-0.41895413398742676,0.07734525203704834,-0.4512360095977783,-0.5214356184005737,-0.35838669538497925,-0.9739395380020142,0.13376855850219727,-0.9104106426239014,-0.1429765224456787,-0.10502654314041138,-0.002427220344543457,-0.052355289459228516,-0.5751163959503174,-0.9191869497299194,-0.536691427230835,-0.5737475156784058,-0.9935085773468018,-0.4602680206298828,-0.48668646812438965,-0.25977981090545654,-0.5501003265380859,-0.41822147369384766,-0.46037912368774414,-0.3858436346054077,-0.4847548007965088,-0.13387012481689453,-0.5295734405517578,-0.5415745973587036,-0.318040132522583,-0.29334497451782227,-1.1725211143493652,-0.15933597087860107,-0.15538537502288818,0.26212453842163086,-0.20991897583007812,0.06301593780517578,-0.567654550075531,0.27074193954467773,-0.45553135871887207,-0.46114349365234375,-0.4347633123397827,-0.12041032314300537,-0.46373510360717773,-0.7369173765182495,-0.9722840785980225,-0.6032541990280151,-0.5723370313644409,-0.6792800426483154,-0.7664843797683716,-0.6055092811584473,-0.2797747850418091,-0.4116690158843994,-0.3103235960006714,-0.5906124114990234,-0.7033582925796509,-0.15313506126403809,-0.7867014408111572,-0.019713401794433594,-0.7171928882598877,-0.43773531913757324,-0.06376802921295166,-0.6496983766555786,-0.9125393629074097,-0.05985093116760254,-0.2793506383895874,-0.7171368598937988,-0.6046619415283203,-0.4036378860473633,-0.9397743940353394,-0.9581652879714966,-0.8194845914840698,-0.4786168336868286,-0.44462084770202637,-0.25719237327575684,-0.4546079635620117,-0.06066334247589111,0.21356678009033203,-0.6954222917556763,-0.18950963020324707,-0.2848407030105591,-1.2581548690795898,0.09843206405639648,-0.20708715915679932,-0.3092237710952759,-0.8194043636322021,-1.26564359664917,-0.8307281732559204,-0.9883688688278198,-0.9130054712295532,-0.6663594245910645,-0.3122692108154297,-0.6505171060562134,-0.23493993282318115,-0.32475870847702026,-0.33013081550598145,-0.35643720626831055,-0.4720282554626465,-0.16802167892456055,-0.6619458198547363,0.350466251373291,-1.1013660430908203,-0.8247805833816528,-0.856909990310669,-1.0571918487548828,-1.07522451877594,-0.34775614738464355,-0.3038065433502197,-0.2080671787261963,-0.35690760612487793,-0.08640778064727783,-0.37787508964538574,-0.6490291357040405,-1.0648972988128662,-0.5354921817779541,-0.3666877746582031,-0.9829239845275879,-0.3293532133102417,-0.926592230796814,-0.1250898838043213,-0.3386189937591553,-0.2927205562591553,-0.8991432785987854,-0.6426161527633667,-0.5821411609649658,-0.051607370376586914,-0.8924093246459961,-0.2359917163848877,-0.27315187454223633,-1.1233477592468262,-0.4913976192474365,-0.12252545356750488,-0.16475677490234375,-1.1230902671813965,-0.07301115989685059,-0.5627169609069824,-0.44122934341430664,-0.7821335792541504,-0.1614077091217041,-0.8287034034729004,-0.4276714324951172,-0.47585010528564453,-0.09886503219604492,-0.7438361644744873,-0.7779906988143921,-0.13818788528442383,-0.37977468967437744,-0.14920294284820557,-0.8561997413635254,-0.4174046516418457,-1.0672082901000977,-1.1974765062332153,-0.6322401762008667,-0.09334421157836914,-0.08733367919921875,-0.8447935581207275,-0.33510875701904297,-0.6270064115524292,-0.7690250873565674,-0.6044368743896484,-0.06692004203796387,-0.41109538078308105,-0.66941237449646,-0.6030913591384888,-0.8771597146987915,-0.8081717491149902,-0.9623633623123169,-0.4741673469543457,-0.17859649658203125,-0.6701987981796265,-0.4744851589202881,-0.43677854537963867,-1.1382025480270386,-0.5612903833389282,-0.3426053524017334,0.1964731216430664,-0.9638799428939819,-0.4761197566986084,-0.7869622707366943,-0.6604019403457642,-0.1985609531402588,-0.2607393264770508,-0.9602313041687012,-0.5195060968399048,-0.7037370204925537,-0.47745585441589355,-1.0399707555770874,-0.3995784521102905,-0.7958512306213379,-0.8038607835769653,-0.9367430210113525,-0.25078725814819336,-0.30671000480651855,-0.41494202613830566,-0.14943957328796387,-1.0547170639038086,-0.6183466911315918,-0.7515064477920532,-0.9201765060424805,-0.5202076435089111,-0.7256450653076172,-1.366753339767456,-0.3186720609664917,0.024797677993774414,-0.35608816146850586,-0.5420050621032715,-1.0170334577560425,-0.3372626304626465,-1.0240987539291382,-0.22444307804107666,-0.3388723134994507,-0.8281457424163818,-0.7894269227981567,-0.8638644218444824,-0.9355939626693726,-0.31452250480651855,-0.28765416145324707,-0.11909306049346924,-1.1258189678192139,-0.3061037063598633,-0.9319249391555786,-0.5596175193786621,-0.22767925262451172],\"type\":\"histogram\"}],                        {\"template\":{\"data\":{\"histogram2dcontour\":[{\"type\":\"histogram2dcontour\",\"colorbar\":{\"outlinewidth\":0,\"ticks\":\"\"},\"colorscale\":[[0.0,\"#0d0887\"],[0.1111111111111111,\"#46039f\"],[0.2222222222222222,\"#7201a8\"],[0.3333333333333333,\"#9c179e\"],[0.4444444444444444,\"#bd3786\"],[0.5555555555555556,\"#d8576b\"],[0.6666666666666666,\"#ed7953\"],[0.7777777777777778,\"#fb9f3a\"],[0.8888888888888888,\"#fdca26\"],[1.0,\"#f0f921\"]]}],\"choropleth\":[{\"type\":\"choropleth\",\"colorbar\":{\"outlinewidth\":0,\"ticks\":\"\"}}],\"histogram2d\":[{\"type\":\"histogram2d\",\"colorbar\":{\"outlinewidth\":0,\"ticks\":\"\"},\"colorscale\":[[0.0,\"#0d0887\"],[0.1111111111111111,\"#46039f\"],[0.2222222222222222,\"#7201a8\"],[0.3333333333333333,\"#9c179e\"],[0.4444444444444444,\"#bd3786\"],[0.5555555555555556,\"#d8576b\"],[0.6666666666666666,\"#ed7953\"],[0.7777777777777778,\"#fb9f3a\"],[0.8888888888888888,\"#fdca26\"],[1.0,\"#f0f921\"]]}],\"heatmap\":[{\"type\":\"heatmap\",\"colorbar\":{\"outlinewidth\":0,\"ticks\":\"\"},\"colorscale\":[[0.0,\"#0d0887\"],[0.1111111111111111,\"#46039f\"],[0.2222222222222222,\"#7201a8\"],[0.3333333333333333,\"#9c179e\"],[0.4444444444444444,\"#bd3786\"],[0.5555555555555556,\"#d8576b\"],[0.6666666666666666,\"#ed7953\"],[0.7777777777777778,\"#fb9f3a\"],[0.8888888888888888,\"#fdca26\"],[1.0,\"#f0f921\"]]}],\"heatmapgl\":[{\"type\":\"heatmapgl\",\"colorbar\":{\"outlinewidth\":0,\"ticks\":\"\"},\"colorscale\":[[0.0,\"#0d0887\"],[0.1111111111111111,\"#46039f\"],[0.2222222222222222,\"#7201a8\"],[0.3333333333333333,\"#9c179e\"],[0.4444444444444444,\"#bd3786\"],[0.5555555555555556,\"#d8576b\"],[0.6666666666666666,\"#ed7953\"],[0.7777777777777778,\"#fb9f3a\"],[0.8888888888888888,\"#fdca26\"],[1.0,\"#f0f921\"]]}],\"contourcarpet\":[{\"type\":\"contourcarpet\",\"colorbar\":{\"outlinewidth\":0,\"ticks\":\"\"}}],\"contour\":[{\"type\":\"contour\",\"colorbar\":{\"outlinewidth\":0,\"ticks\":\"\"},\"colorscale\":[[0.0,\"#0d0887\"],[0.1111111111111111,\"#46039f\"],[0.2222222222222222,\"#7201a8\"],[0.3333333333333333,\"#9c179e\"],[0.4444444444444444,\"#bd3786\"],[0.5555555555555556,\"#d8576b\"],[0.6666666666666666,\"#ed7953\"],[0.7777777777777778,\"#fb9f3a\"],[0.8888888888888888,\"#fdca26\"],[1.0,\"#f0f921\"]]}],\"surface\":[{\"type\":\"surface\",\"colorbar\":{\"outlinewidth\":0,\"ticks\":\"\"},\"colorscale\":[[0.0,\"#0d0887\"],[0.1111111111111111,\"#46039f\"],[0.2222222222222222,\"#7201a8\"],[0.3333333333333333,\"#9c179e\"],[0.4444444444444444,\"#bd3786\"],[0.5555555555555556,\"#d8576b\"],[0.6666666666666666,\"#ed7953\"],[0.7777777777777778,\"#fb9f3a\"],[0.8888888888888888,\"#fdca26\"],[1.0,\"#f0f921\"]]}],\"mesh3d\":[{\"type\":\"mesh3d\",\"colorbar\":{\"outlinewidth\":0,\"ticks\":\"\"}}],\"scatter\":[{\"fillpattern\":{\"fillmode\":\"overlay\",\"size\":10,\"solidity\":0.2},\"type\":\"scatter\"}],\"parcoords\":[{\"type\":\"parcoords\",\"line\":{\"colorbar\":{\"outlinewidth\":0,\"ticks\":\"\"}}}],\"scatterpolargl\":[{\"type\":\"scatterpolargl\",\"marker\":{\"colorbar\":{\"outlinewidth\":0,\"ticks\":\"\"}}}],\"bar\":[{\"error_x\":{\"color\":\"#2a3f5f\"},\"error_y\":{\"color\":\"#2a3f5f\"},\"marker\":{\"line\":{\"color\":\"#E5ECF6\",\"width\":0.5},\"pattern\":{\"fillmode\":\"overlay\",\"size\":10,\"solidity\":0.2}},\"type\":\"bar\"}],\"scattergeo\":[{\"type\":\"scattergeo\",\"marker\":{\"colorbar\":{\"outlinewidth\":0,\"ticks\":\"\"}}}],\"scatterpolar\":[{\"type\":\"scatterpolar\",\"marker\":{\"colorbar\":{\"outlinewidth\":0,\"ticks\":\"\"}}}],\"histogram\":[{\"marker\":{\"pattern\":{\"fillmode\":\"overlay\",\"size\":10,\"solidity\":0.2}},\"type\":\"histogram\"}],\"scattergl\":[{\"type\":\"scattergl\",\"marker\":{\"colorbar\":{\"outlinewidth\":0,\"ticks\":\"\"}}}],\"scatter3d\":[{\"type\":\"scatter3d\",\"line\":{\"colorbar\":{\"outlinewidth\":0,\"ticks\":\"\"}},\"marker\":{\"colorbar\":{\"outlinewidth\":0,\"ticks\":\"\"}}}],\"scattermapbox\":[{\"type\":\"scattermapbox\",\"marker\":{\"colorbar\":{\"outlinewidth\":0,\"ticks\":\"\"}}}],\"scatterternary\":[{\"type\":\"scatterternary\",\"marker\":{\"colorbar\":{\"outlinewidth\":0,\"ticks\":\"\"}}}],\"scattercarpet\":[{\"type\":\"scattercarpet\",\"marker\":{\"colorbar\":{\"outlinewidth\":0,\"ticks\":\"\"}}}],\"carpet\":[{\"aaxis\":{\"endlinecolor\":\"#2a3f5f\",\"gridcolor\":\"white\",\"linecolor\":\"white\",\"minorgridcolor\":\"white\",\"startlinecolor\":\"#2a3f5f\"},\"baxis\":{\"endlinecolor\":\"#2a3f5f\",\"gridcolor\":\"white\",\"linecolor\":\"white\",\"minorgridcolor\":\"white\",\"startlinecolor\":\"#2a3f5f\"},\"type\":\"carpet\"}],\"table\":[{\"cells\":{\"fill\":{\"color\":\"#EBF0F8\"},\"line\":{\"color\":\"white\"}},\"header\":{\"fill\":{\"color\":\"#C8D4E3\"},\"line\":{\"color\":\"white\"}},\"type\":\"table\"}],\"barpolar\":[{\"marker\":{\"line\":{\"color\":\"#E5ECF6\",\"width\":0.5},\"pattern\":{\"fillmode\":\"overlay\",\"size\":10,\"solidity\":0.2}},\"type\":\"barpolar\"}],\"pie\":[{\"automargin\":true,\"type\":\"pie\"}]},\"layout\":{\"autotypenumbers\":\"strict\",\"colorway\":[\"#636efa\",\"#EF553B\",\"#00cc96\",\"#ab63fa\",\"#FFA15A\",\"#19d3f3\",\"#FF6692\",\"#B6E880\",\"#FF97FF\",\"#FECB52\"],\"font\":{\"color\":\"#2a3f5f\"},\"hovermode\":\"closest\",\"hoverlabel\":{\"align\":\"left\"},\"paper_bgcolor\":\"white\",\"plot_bgcolor\":\"#E5ECF6\",\"polar\":{\"bgcolor\":\"#E5ECF6\",\"angularaxis\":{\"gridcolor\":\"white\",\"linecolor\":\"white\",\"ticks\":\"\"},\"radialaxis\":{\"gridcolor\":\"white\",\"linecolor\":\"white\",\"ticks\":\"\"}},\"ternary\":{\"bgcolor\":\"#E5ECF6\",\"aaxis\":{\"gridcolor\":\"white\",\"linecolor\":\"white\",\"ticks\":\"\"},\"baxis\":{\"gridcolor\":\"white\",\"linecolor\":\"white\",\"ticks\":\"\"},\"caxis\":{\"gridcolor\":\"white\",\"linecolor\":\"white\",\"ticks\":\"\"}},\"coloraxis\":{\"colorbar\":{\"outlinewidth\":0,\"ticks\":\"\"}},\"colorscale\":{\"sequential\":[[0.0,\"#0d0887\"],[0.1111111111111111,\"#46039f\"],[0.2222222222222222,\"#7201a8\"],[0.3333333333333333,\"#9c179e\"],[0.4444444444444444,\"#bd3786\"],[0.5555555555555556,\"#d8576b\"],[0.6666666666666666,\"#ed7953\"],[0.7777777777777778,\"#fb9f3a\"],[0.8888888888888888,\"#fdca26\"],[1.0,\"#f0f921\"]],\"sequentialminus\":[[0.0,\"#0d0887\"],[0.1111111111111111,\"#46039f\"],[0.2222222222222222,\"#7201a8\"],[0.3333333333333333,\"#9c179e\"],[0.4444444444444444,\"#bd3786\"],[0.5555555555555556,\"#d8576b\"],[0.6666666666666666,\"#ed7953\"],[0.7777777777777778,\"#fb9f3a\"],[0.8888888888888888,\"#fdca26\"],[1.0,\"#f0f921\"]],\"diverging\":[[0,\"#8e0152\"],[0.1,\"#c51b7d\"],[0.2,\"#de77ae\"],[0.3,\"#f1b6da\"],[0.4,\"#fde0ef\"],[0.5,\"#f7f7f7\"],[0.6,\"#e6f5d0\"],[0.7,\"#b8e186\"],[0.8,\"#7fbc41\"],[0.9,\"#4d9221\"],[1,\"#276419\"]]},\"xaxis\":{\"gridcolor\":\"white\",\"linecolor\":\"white\",\"ticks\":\"\",\"title\":{\"standoff\":15},\"zerolinecolor\":\"white\",\"automargin\":true,\"zerolinewidth\":2},\"yaxis\":{\"gridcolor\":\"white\",\"linecolor\":\"white\",\"ticks\":\"\",\"title\":{\"standoff\":15},\"zerolinecolor\":\"white\",\"automargin\":true,\"zerolinewidth\":2},\"scene\":{\"xaxis\":{\"backgroundcolor\":\"#E5ECF6\",\"gridcolor\":\"white\",\"linecolor\":\"white\",\"showbackground\":true,\"ticks\":\"\",\"zerolinecolor\":\"white\",\"gridwidth\":2},\"yaxis\":{\"backgroundcolor\":\"#E5ECF6\",\"gridcolor\":\"white\",\"linecolor\":\"white\",\"showbackground\":true,\"ticks\":\"\",\"zerolinecolor\":\"white\",\"gridwidth\":2},\"zaxis\":{\"backgroundcolor\":\"#E5ECF6\",\"gridcolor\":\"white\",\"linecolor\":\"white\",\"showbackground\":true,\"ticks\":\"\",\"zerolinecolor\":\"white\",\"gridwidth\":2}},\"shapedefaults\":{\"line\":{\"color\":\"#2a3f5f\"}},\"annotationdefaults\":{\"arrowcolor\":\"#2a3f5f\",\"arrowhead\":0,\"arrowwidth\":1},\"geo\":{\"bgcolor\":\"white\",\"landcolor\":\"#E5ECF6\",\"subunitcolor\":\"white\",\"showland\":true,\"showlakes\":true,\"lakecolor\":\"white\"},\"title\":{\"x\":0.05},\"mapbox\":{\"style\":\"light\"}}},\"title\":{\"text\":\"Distribution of Difference In Nuclear Norms - DGI ID vs DGI SF\"},\"xaxis\":{\"title\":{\"text\":\"Difference In Nuclear Norms - DGI ID vs DGI SF\"}},\"yaxis\":{\"title\":{\"text\":\"Frequency\"}},\"font\":{\"size\":30},\"plot_bgcolor\":\"white\",\"paper_bgcolor\":\"white\"},                        {\"responsive\": true}                    ).then(function(){\n",
       "                            \n",
       "var gd = document.getElementById('19583288-c40d-4b94-bc3e-3fcc641ee3a9');\n",
       "var x = new MutationObserver(function (mutations, observer) {{\n",
       "        var display = window.getComputedStyle(gd).display;\n",
       "        if (!display || display === 'none') {{\n",
       "            console.log([gd, 'removed!']);\n",
       "            Plotly.purge(gd);\n",
       "            observer.disconnect();\n",
       "        }}\n",
       "}});\n",
       "\n",
       "// Listen for the removal of the full notebook cells\n",
       "var notebookContainer = gd.closest('#notebook-container');\n",
       "if (notebookContainer) {{\n",
       "    x.observe(notebookContainer, {childList: true});\n",
       "}}\n",
       "\n",
       "// Listen for the clearing of the current output cell\n",
       "var outputEl = gd.closest('.output');\n",
       "if (outputEl) {{\n",
       "    x.observe(outputEl, {childList: true});\n",
       "}}\n",
       "\n",
       "                        })                };                });            </script>        </div>"
      ]
     },
     "metadata": {},
     "output_type": "display_data"
    }
   ],
   "source": [
    "diff = np.array(norm_og) - np.array(norm_plus)\n",
    "fig = go.Figure()\n",
    "fig.add_trace(go.Histogram(x = diff))\n",
    "fig.update_layout(title_text = 'Distribution of Difference In Nuclear Norms - DGI vs DGI+XM', \n",
    "                  xaxis_title_text = 'Difference In Nuclear Norms - DGI vs DGI+XM', \n",
    "                  yaxis_title_text = 'Frequency', \n",
    "                  plot_bgcolor = 'white', \n",
    "                  paper_bgcolor = 'white', \n",
    "                  font = dict(size = 30))\n",
    "fig.show()\n",
    "\n",
    "diff = np.array(norm_id) - np.array(norm_plus)\n",
    "fig = go.Figure()\n",
    "fig.add_trace(go.Histogram(x = diff))\n",
    "fig.update_layout(title_text = 'Distribution of Difference In Nuclear Norms - DGI ID vs DGI+XM', \n",
    "                  xaxis_title_text = 'Difference In Nuclear Norms - DGI ID vs DGI+XM', \n",
    "                  yaxis_title_text = 'Frequency', \n",
    "                  plot_bgcolor = 'white', \n",
    "                  paper_bgcolor = 'white', \n",
    "                  font = dict(size = 30))\n",
    "fig.show()\n",
    "\n",
    "\n",
    "diff = np.array(norm_id) - np.array(norm_og)\n",
    "fig = go.Figure()\n",
    "fig.add_trace(go.Histogram(x = diff))\n",
    "fig.update_layout(title_text = 'Distribution of Difference In Nuclear Norms - DGI ID vs DGI SF', \n",
    "                  xaxis_title_text = 'Difference In Nuclear Norms - DGI ID vs DGI SF', \n",
    "                  yaxis_title_text = 'Frequency', \n",
    "                  plot_bgcolor = 'white', \n",
    "                  paper_bgcolor = 'white', \n",
    "                  font = dict(size = 30))\n",
    "fig.show()"
   ]
  },
  {
   "cell_type": "code",
   "execution_count": 157,
   "id": "a516c7b8",
   "metadata": {},
   "outputs": [
    {
     "data": {
      "application/vnd.plotly.v1+json": {
       "config": {
        "plotlyServerURL": "https://plot.ly"
       },
       "data": [
        {
         "name": "DGI SF",
         "type": "histogram",
         "x": [
          1.8877960443496704,
          2.3771867752075195,
          2.181927442550659,
          1.2975387573242188,
          0.983001172542572,
          2.13470721244812,
          1.9850575923919678,
          1.5982666015625,
          2.2943785190582275,
          0.887488842010498,
          1.9987034797668457,
          2.1818606853485107,
          1.4520541429519653,
          1.3503782749176025,
          1.5498989820480347,
          1.099545955657959,
          2.530414342880249,
          0.8404550552368164,
          1.8731210231781006,
          1.4162399768829346,
          2.275381565093994,
          1.2094566822052002,
          1.0953822135925293,
          1.794631838798523,
          0.8836157321929932,
          2.5606634616851807,
          0.8226915001869202,
          0.9463765621185303,
          0.7763193249702454,
          1.8492220640182495,
          1.8031368255615234,
          1.1884206533432007,
          1.8637961149215698,
          1.952505350112915,
          2.1628546714782715,
          2.6122002601623535,
          1.3023719787597656,
          1.4655587673187256,
          1.2538988590240479,
          2.2136354446411133,
          1.1557585000991821,
          1.8528841733932495,
          2.134678602218628,
          1.137406826019287,
          0.807239830493927,
          1.257845401763916,
          0.8488876819610596,
          2.455479860305786,
          1.5726226568222046,
          0.9995518326759338,
          0.9796568155288696,
          1.2725600004196167,
          1.6788463592529297,
          2.1892852783203125,
          0.6641671061515808,
          1.3876054286956787,
          2.078561782836914,
          1.3832831382751465,
          0.9648930430412292,
          1.1105308532714844,
          1.1796258687973022,
          2.371114730834961,
          1.241772174835205,
          0.9663138389587402,
          1.8459874391555786,
          0.8320484757423401,
          1.5138630867004395,
          1.2353922128677368,
          1.9275562763214111,
          0.45267951488494873,
          1.1464462280273438,
          1.406484842300415,
          1.948311686515808,
          1.36181640625,
          1.428248405456543,
          1.6776268482208252,
          1.9251881837844849,
          0.36098235845565796,
          2.1041412353515625,
          1.4899834394454956,
          2.2771356105804443,
          2.02724027633667,
          2.3622548580169678,
          0.8692845702171326,
          2.1244900226593018,
          2.347904920578003,
          0.9882916808128357,
          1.8840833902359009,
          1.3661195039749146,
          2.4201085567474365,
          1.1658241748809814,
          1.7579606771469116,
          0.9380050301551819,
          1.1415709257125854,
          0.9889784455299377,
          1.9376020431518555,
          1.5020220279693604,
          1.0914490222930908,
          1.7580313682556152,
          1.8524779081344604,
          2.4398295879364014,
          1.5503076314926147,
          2.8439688682556152,
          1.9499152898788452,
          1.7073814868927002,
          0.6350170969963074,
          2.4116623401641846,
          2.14937162399292,
          1.4371976852416992,
          2.0032801628112793,
          1.3661236763000488,
          2.176140308380127,
          1.7469086647033691,
          1.8739964962005615,
          1.2655011415481567,
          1.321218490600586,
          1.6896549463272095,
          1.1854822635650635,
          1.154252052307129,
          1.3062744140625,
          1.366420865058899,
          0.9476655125617981,
          1.5101335048675537,
          1.188867211341858,
          1.2359678745269775,
          1.3938286304473877,
          1.5308188199996948,
          1.7508465051651,
          1.6857022047042847,
          1.025482177734375,
          1.3838825225830078,
          2.2704591751098633,
          2.0416014194488525,
          2.0468738079071045,
          1.3501094579696655,
          1.5369657278060913,
          0.9233967661857605,
          1.0616050958633423,
          2.0305564403533936,
          2.227916955947876,
          2.501588821411133,
          1.7662700414657593,
          1.262441635131836,
          1.5402473211288452,
          1.2001551389694214,
          1.949406385421753,
          2.1411235332489014,
          2.3485541343688965,
          1.2124512195587158,
          1.9478877782821655,
          1.726169466972351,
          1.4859542846679688,
          1.835204005241394,
          1.8067677021026611,
          1.035779356956482,
          1.6791768074035645,
          1.3446986675262451,
          0.37126022577285767,
          2.1230971813201904,
          2.332423448562622,
          0.6898777484893799,
          1.9142796993255615,
          1.8195387125015259,
          2.152017116546631,
          1.513302206993103,
          1.2602002620697021,
          1.6054584980010986,
          1.1056139469146729,
          1.4968996047973633,
          0.5528624653816223,
          2.335404634475708,
          1.7924659252166748,
          1.4444494247436523,
          1.6897516250610352,
          1.350662112236023,
          1.8532999753952026,
          2.261164903640747,
          1.417269229888916,
          2.216315984725952,
          1.523425817489624,
          1.7300556898117065,
          1.3333361148834229,
          2.3317744731903076,
          1.7575912475585938,
          2.145899772644043,
          0.9738510847091675,
          1.7367771863937378,
          1.9481045007705688,
          2.689992904663086,
          1.2804360389709473,
          1.610952615737915,
          2.2900800704956055,
          1.5438497066497803,
          1.5532786846160889,
          2.4059934616088867,
          2.122476100921631,
          1.7375622987747192,
          1.5696816444396973,
          2.2837886810302734,
          1.3457196950912476,
          2.5581717491149902,
          0.8806105852127075,
          1.1128414869308472,
          2.175949811935425,
          1.8883970975875854,
          1.043594479560852,
          1.8875975608825684,
          2.1359481811523438,
          1.3063969612121582,
          1.801811933517456,
          1.7583340406417847,
          1.4114205837249756,
          1.262865662574768,
          1.156859278678894,
          1.5684516429901123,
          1.2437189817428589,
          1.5880485773086548,
          1.3092550039291382,
          0.7772161364555359,
          1.6350027322769165,
          1.9500811100006104,
          1.4410439729690552,
          1.537648320198059,
          1.1688244342803955,
          2.5271058082580566,
          2.1399073600769043,
          2.51115083694458,
          2.1681125164031982,
          1.3361825942993164,
          1.3002362251281738,
          1.8460911512374878,
          2.2441818714141846,
          1.2711206674575806,
          2.292933940887451,
          1.824897050857544,
          1.3578697443008423,
          2.121213674545288,
          1.611594319343567,
          1.9590346813201904,
          2.537633180618286,
          2.7733306884765625,
          2.8644800186157227,
          2.2650437355041504,
          1.3226217031478882,
          1.9839324951171875,
          2.4276418685913086,
          1.9153790473937988,
          2.668684244155884,
          1.2368189096450806,
          1.831283688545227,
          1.5054091215133667,
          1.8744324445724487,
          2.759263038635254,
          2.0439934730529785,
          2.3519551753997803,
          1.4487738609313965,
          1.3290308713912964,
          2.506521701812744,
          1.6939717531204224,
          2.14634370803833,
          2.1448757648468018,
          1.6758297681808472,
          1.5766520500183105,
          1.0053929090499878,
          2.043391227722168,
          1.819621205329895,
          2.2609283924102783,
          1.545453429222107,
          1.7456870079040527,
          1.9888375997543335,
          2.7608964443206787,
          2.3246161937713623,
          2.3762502670288086,
          1.079650640487671,
          1.8145105838775635,
          1.9555561542510986,
          2.143282890319824,
          1.2926424741744995,
          2.13991117477417,
          1.8406975269317627,
          1.7191827297210693,
          2.2394232749938965,
          1.5008069276809692,
          2.0793333053588867,
          2.352783441543579,
          2.1427767276763916,
          1.9877781867980957,
          1.3695439100265503,
          1.2209358215332031,
          2.0887694358825684,
          2.037173271179199,
          2.8028790950775146,
          2.2320518493652344,
          2.4477670192718506,
          2.0727522373199463,
          1.3809398412704468,
          1.9040186405181885,
          1.475848913192749,
          2.3664774894714355,
          2.011033535003662,
          2.2489278316497803,
          2.5192513465881348,
          2.464557409286499,
          1.7132840156555176,
          1.7531490325927734,
          0.39186304807662964,
          2.0474841594696045,
          1.216336965560913,
          1.5236979722976685,
          2.012418746948242,
          1.8961762189865112,
          2.3385109901428223,
          2.287524700164795,
          1.0397005081176758,
          1.7103365659713745,
          1.0826606750488281,
          1.6905064582824707,
          1.7438583374023438,
          1.1980589628219604,
          1.3753679990768433,
          2.07564377784729,
          1.4776655435562134,
          2.479689836502075,
          1.8444918394088745,
          2.1372227668762207,
          2.040742874145508,
          1.8673264980316162,
          1.7010934352874756,
          2.285540819168091,
          2.5236072540283203,
          1.938718557357788,
          2.64674711227417,
          1.5901249647140503,
          2.9696521759033203,
          2.4810473918914795,
          1.6085511445999146,
          1.2025402784347534,
          2.5185980796813965,
          0.968466579914093,
          1.9512336254119873,
          2.3287851810455322,
          2.0090725421905518,
          2.5500595569610596,
          2.0329456329345703,
          1.5255725383758545,
          1.4108903408050537,
          2.306767702102661,
          1.7057393789291382,
          1.0698179006576538,
          2.5572667121887207,
          2.3046092987060547,
          2.6349663734436035,
          2.5015995502471924,
          2.2339868545532227,
          0.8384458422660828,
          2.800710916519165,
          2.406818389892578,
          2.238487482070923,
          2.1631276607513428,
          2.187692403793335,
          1.3564623594284058,
          1.1901201009750366,
          1.879144549369812,
          2.109438896179199,
          1.7390490770339966,
          1.3345518112182617,
          1.2756839990615845,
          2.7146079540252686,
          1.9260631799697876,
          2.142254114151001,
          2.216381549835205,
          2.628753185272217,
          2.263023614883423,
          2.0636305809020996,
          1.4804869890213013,
          2.2396318912506104,
          1.716821312904358,
          1.5158655643463135,
          0.9787014126777649,
          2.17567777633667,
          1.8673702478408813,
          2.2714412212371826,
          2.6904807090759277,
          1.639316439628601,
          1.7887567281723022,
          1.7358942031860352,
          2.794645309448242,
          2.4468350410461426,
          1.470015048980713,
          1.8818962574005127,
          2.405895233154297,
          2.162872314453125,
          1.5057239532470703,
          1.6047353744506836,
          0.808144748210907,
          2.2180614471435547,
          1.574811577796936,
          1.6686985492706299,
          1.69344162940979,
          2.4913201332092285,
          2.626493453979492,
          1.6517525911331177,
          2.6837258338928223,
          2.7620627880096436,
          1.44870924949646,
          2.300548553466797,
          2.231132745742798,
          2.0061349868774414,
          2.2903378009796143,
          2.157588005065918,
          1.632635235786438,
          1.4352586269378662,
          2.000793695449829,
          1.1132582426071167,
          2.1091456413269043,
          2.30668568611145,
          1.2334436178207397,
          1.3634673357009888,
          1.3662198781967163,
          1.844375491142273,
          2.230820417404175,
          2.4021084308624268,
          2.359938144683838,
          1.6136587858200073,
          2.6077630519866943,
          2.3249144554138184,
          2.6571664810180664,
          2.047600746154785,
          1.5074818134307861,
          2.46170973777771,
          1.9676899909973145,
          2.6059324741363525,
          2.2081964015960693,
          2.228147029876709,
          1.4950025081634521,
          2.173614740371704,
          1.9299360513687134,
          2.4704315662384033,
          2.8580522537231445,
          2.345229387283325,
          2.5245795249938965,
          1.3888120651245117,
          1.7640420198440552,
          1.6838771104812622,
          2.15686297416687,
          2.5106356143951416,
          1.6913461685180664,
          2.196718692779541,
          2.2600438594818115,
          2.387580394744873,
          2.3998124599456787,
          2.7674717903137207,
          2.410942554473877,
          1.5315018892288208,
          2.7113583087921143,
          1.9214826822280884,
          1.5299969911575317,
          1.530927062034607,
          1.8903083801269531,
          2.0404155254364014,
          1.7303675413131714,
          1.9503875970840454,
          2.3382551670074463,
          1.877934455871582,
          2.2117528915405273,
          2.115926504135132,
          2.5481526851654053,
          1.9711651802062988,
          1.4790873527526855,
          1.7498083114624023,
          1.1931848526000977,
          1.8082705736160278,
          1.3607083559036255,
          1.8473219871520996,
          2.3211207389831543,
          1.7577985525131226,
          1.9577538967132568,
          1.9335169792175293,
          2.2362046241760254,
          2.4567275047302246,
          2.239117383956909,
          1.8747981786727905,
          2.3551950454711914,
          1.6209453344345093,
          1.9147710800170898,
          2.2853314876556396,
          1.6517890691757202,
          1.3707077503204346,
          1.8669373989105225,
          1.5430775880813599,
          1.1932231187820435,
          2.862971067428589,
          2.1196746826171875,
          2.475111722946167,
          1.2870056629180908,
          2.1895010471343994,
          1.7307543754577637,
          2.2805304527282715,
          2.6180238723754883,
          1.894152283668518,
          2.453293800354004,
          2.4223544597625732,
          1.1575827598571777,
          2.3907783031463623,
          1.9376176595687866,
          1.2421491146087646,
          2.4337823390960693,
          2.5090808868408203,
          2.119847059249878,
          1.8611416816711426,
          1.8180502653121948,
          1.34943425655365,
          2.003755569458008,
          2.667135238647461,
          2.267037868499756,
          1.602076768875122,
          1.837230920791626,
          1.6284403800964355,
          1.4844609498977661,
          1.5556259155273438,
          2.478670835494995,
          2.148975372314453,
          2.245499849319458,
          2.007383108139038,
          2.1359996795654297,
          1.7366124391555786,
          2.3107223510742188,
          1.6881369352340698,
          1.0698179006576538,
          1.6565518379211426,
          2.317531108856201,
          2.3598616123199463,
          1.8259578943252563,
          2.094172239303589,
          2.094031572341919,
          1.996347188949585,
          1.5997930765151978,
          2.130504846572876,
          2.8086533546447754,
          2.4183967113494873,
          2.3929107189178467,
          1.829731822013855,
          2.2871739864349365,
          1.7681605815887451,
          2.5291383266448975,
          1.8244225978851318,
          2.07564377784729,
          2.322824239730835,
          1.773006796836853,
          2.006816864013672,
          3.2774176597595215,
          2.0907750129699707,
          2.274698495864868,
          2.443880081176758,
          2.2213165760040283,
          1.8700391054153442,
          2.06007981300354,
          3.0032105445861816,
          2.912501096725464,
          1.7047877311706543,
          1.4327366352081299,
          1.5001401901245117,
          2.9975991249084473,
          2.318035125732422,
          1.856316328048706,
          1.4964710474014282,
          2.2614872455596924,
          2.3878211975097656,
          2.3763370513916016,
          2.5161283016204834,
          1.6143840551376343,
          2.6069488525390625,
          1.875108242034912,
          2.3928747177124023,
          2.2012600898742676,
          1.2235177755355835,
          2.0616326332092285,
          1.6434067487716675,
          2.119795799255371,
          1.4639755487442017,
          2.4678192138671875,
          2.0451130867004395,
          2.2507667541503906,
          2.5400326251983643,
          2.7840728759765625,
          2.8163442611694336,
          1.6985684633255005,
          1.8841716051101685,
          1.5066901445388794,
          2.1365253925323486,
          2.0957090854644775,
          2.759263038635254,
          3.1059982776641846,
          2.6380765438079834,
          2.5710952281951904,
          2.296146869659424,
          2.0198862552642822,
          2.07564377784729,
          2.5189146995544434,
          1.5621823072433472,
          1.5401960611343384,
          1.9912923574447632,
          1.6756305694580078,
          1.8825844526290894,
          1.7311753034591675,
          2.070481777191162,
          2.437072992324829,
          2.5672664642333984,
          1.4576197862625122,
          1.7789454460144043,
          1.9304331541061401,
          1.8941965103149414,
          1.7878488302230835,
          2.827099323272705,
          2.0993287563323975,
          2.712857961654663,
          2.944420576095581,
          2.146514654159546,
          1.6474741697311401,
          1.7497533559799194,
          2.264971971511841,
          1.9156239032745361,
          2.452518939971924,
          2.2568864822387695,
          2.4278512001037598,
          1.6825852394104004,
          2.682952642440796,
          1.4641772508621216,
          1.4044862985610962,
          2.104886531829834,
          2.726203203201294,
          2.012592077255249,
          2.4844970703125,
          1.276096224784851,
          1.321937084197998,
          2.047210693359375,
          1.3653762340545654,
          1.1689859628677368,
          1.9358210563659668,
          2.3616392612457275,
          1.8494508266448975,
          2.384678840637207,
          2.0580852031707764,
          1.4982104301452637,
          2.3453288078308105,
          2.190885543823242,
          1.3217222690582275,
          2.1811928749084473,
          1.4508553743362427,
          2.598015069961548,
          1.7772023677825928,
          1.7219936847686768,
          2.862971067428589,
          2.163233757019043,
          1.8531569242477417,
          2.1452603340148926,
          2.954742193222046,
          2.1253397464752197,
          2.3904147148132324,
          1.8355859518051147,
          1.8729684352874756,
          2.50042462348938,
          1.908248782157898,
          1.7703036069869995,
          2.129809617996216,
          1.9217839241027832,
          2.4357059001922607,
          2.800710916519165,
          1.5761523246765137,
          1.5928881168365479,
          1.7030895948410034,
          2.1475157737731934,
          1.4642233848571777,
          1.2480219602584839,
          1.804917335510254,
          1.9773507118225098,
          2.162177085876465,
          1.5876226425170898,
          2.320382833480835,
          2.6562840938568115,
          2.4638772010803223,
          2.50116229057312,
          2.319671154022217,
          2.4637489318847656,
          2.26596736907959,
          1.7060279846191406,
          1.513131022453308,
          2.585838794708252,
          2.660409450531006,
          2.175157070159912,
          1.5928881168365479,
          1.5659998655319214,
          3.0778942108154297,
          1.2243295907974243,
          2.347001552581787,
          1.0698179006576538,
          2.2642672061920166,
          2.0080060958862305,
          2.3222527503967285,
          2.5410406589508057,
          1.73517906665802,
          2.663013219833374,
          2.3033041954040527,
          1.9037154912948608,
          2.171060085296631,
          2.4566516876220703,
          1.0698179006576538,
          1.6535038948059082,
          1.8700391054153442,
          2.373178482055664,
          2.5442516803741455,
          1.9102922677993774,
          2.7288379669189453,
          2.3252601623535156,
          2.0305564403533936,
          2.010920763015747,
          1.524274468421936,
          0.7545591592788696,
          1.0698179006576538,
          1.691319227218628,
          2.724118709564209,
          1.9844001531600952,
          2.426487684249878,
          1.8302688598632812,
          2.107456684112549,
          1.8700391054153442,
          2.904726982116699,
          2.0141658782958984,
          1.5629218816757202,
          1.3634673357009888,
          2.483032464981079,
          1.8886641263961792,
          2.0674800872802734,
          2.0735599994659424,
          1.440089464187622,
          1.8722331523895264,
          2.1050848960876465,
          2.0628244876861572,
          1.818657636642456,
          2.560563802719116,
          1.357872486114502,
          2.07564377784729,
          2.04829478263855,
          2.7906100749969482,
          2.0329315662384033,
          2.126626491546631,
          2.4835338592529297,
          2.4956979751586914,
          2.369664430618286,
          2.217878818511963,
          2.2724368572235107,
          2.568902015686035,
          2.9629993438720703,
          1.8186191320419312,
          2.3959717750549316,
          1.3624541759490967,
          1.5449082851409912,
          1.5451685190200806,
          1.4091628789901733,
          1.8841716051101685,
          2.133711338043213,
          2.549204111099243,
          2.643524169921875,
          2.161877393722534,
          2.0236096382141113,
          2.7753312587738037,
          1.9967107772827148,
          1.753355860710144,
          2.615920066833496,
          3.0858333110809326,
          2.229783773422241,
          1.8057550191879272,
          2.5215914249420166,
          1.8380464315414429,
          2.061000108718872,
          3.1726534366607666,
          2.034468412399292,
          1.8683209419250488,
          2.315687656402588,
          2.577051877975464,
          2.4310526847839355,
          1.779662013053894,
          2.551384449005127,
          1.8047610521316528,
          1.4986331462860107,
          2.0236096382141113,
          2.223325729370117,
          2.215571641921997,
          2.038477659225464,
          2.3347861766815186,
          2.3023314476013184,
          1.8873177766799927,
          2.1257779598236084,
          2.3040051460266113,
          2.467329740524292,
          2.6202659606933594,
          1.9384146928787231,
          2.185615301132202,
          2.251462459564209,
          2.827099323272705,
          2.07564377784729,
          2.2512636184692383,
          2.9181253910064697,
          3.3159825801849365,
          1.8051252365112305,
          1.691779375076294,
          2.080299139022827,
          2.949948787689209,
          1.6249409914016724,
          2.362867593765259,
          1.5122241973876953,
          1.9019160270690918,
          1.6639578342437744,
          1.7699875831604004,
          1.7515242099761963,
          2.5555741786956787,
          1.1322108507156372,
          1.831061840057373,
          2.44210147857666,
          1.4114207029342651,
          2.559723377227783,
          2.016535997390747,
          1.842913031578064,
          1.4662954807281494,
          1.8667075634002686,
          2.308622121810913,
          1.4316983222961426,
          2.7755632400512695,
          1.8557980060577393,
          1.5070282220840454,
          1.6396870613098145,
          1.9210169315338135,
          2.759263038635254,
          2.4858975410461426,
          1.9872359037399292,
          2.6657676696777344,
          2.1811928749084473,
          2.7187113761901855,
          2.407954216003418,
          2.30448579788208,
          1.6751459836959839,
          2.3826401233673096,
          1.7079071998596191,
          2.9618401527404785,
          1.807220697402954,
          1.7700080871582031,
          2.0305564403533936,
          2.918358325958252,
          1.4679174423217773,
          2.229857921600342,
          2.3920178413391113,
          1.8869593143463135,
          2.1155576705932617,
          2.047837257385254,
          2.7687740325927734,
          1.2243295907974243,
          2.524468421936035,
          2.185168981552124,
          1.9222385883331299,
          2.6868093013763428,
          1.9768097400665283,
          2.525547981262207,
          1.2821546792984009,
          2.0848681926727295,
          1.9107418060302734,
          2.4529154300689697,
          1.3345518112182617,
          1.6621135473251343,
          1.391650676727295,
          1.9377070665359497,
          2.04829478263855,
          2.6364493370056152,
          2.862971067428589,
          2.4322307109832764,
          2.404043197631836,
          2.2159879207611084,
          1.0698179006576538,
          1.2743453979492188,
          1.2743453979492188,
          2.057948112487793,
          1.4077845811843872,
          2.0774006843566895,
          2.07564377784729,
          2.3822731971740723,
          1.8991271257400513,
          2.04829478263855,
          1.1322108507156372,
          2.759263038635254,
          2.3575453758239746,
          2.8342478275299072,
          2.832097053527832,
          2.070481777191162,
          1.8507769107818604,
          2.854482412338257,
          2.446744680404663,
          1.9198243618011475,
          1.6779217720031738,
          2.5862796306610107,
          2.6845791339874268,
          2.335573673248291,
          1.6241554021835327,
          2.4531126022338867,
          2.4611663818359375,
          2.766798734664917,
          2.360828399658203,
          2.6152126789093018,
          1.7260353565216064,
          2.109539270401001,
          1.641689658164978,
          2.5599703788757324,
          2.903932809829712,
          3.041029214859009,
          2.643524169921875,
          1.4110054969787598,
          2.0335278511047363,
          2.264615535736084,
          2.491835832595825,
          2.497576951980591,
          2.010920763015747,
          2.759263038635254,
          2.3973770141601562,
          1.2243295907974243,
          2.2341108322143555,
          2.04829478263855,
          2.5427870750427246,
          2.2551748752593994,
          2.3007447719573975,
          2.322824239730835,
          3.2803337574005127,
          2.759263038635254,
          2.278747797012329,
          2.288794994354248,
          2.3343911170959473,
          2.3776631355285645,
          2.451502561569214,
          2.8145945072174072,
          1.7844836711883545,
          2.0474236011505127,
          1.6344940662384033,
          1.6349653005599976,
          1.9032211303710938,
          1.9032211303710938,
          1.9952586889266968,
          2.07564377784729,
          1.9542663097381592,
          1.0698179006576538,
          2.342958450317383,
          1.9582725763320923,
          1.8570326566696167,
          1.9865548610687256,
          1.3624541759490967,
          2.4032363891601562,
          1.807220697402954,
          2.6086807250976562,
          1.0580823421478271,
          1.8072608709335327,
          1.495962381362915,
          2.3794872760772705,
          1.4783538579940796,
          2.478745698928833,
          1.963301181793213,
          3.018205404281616,
          3.2010955810546875,
          2.182133436203003,
          1.574980616569519,
          1.9757055044174194,
          1.7525427341461182,
          2.183281183242798,
          1.2235177755355835,
          2.83296275138855,
          2.0563502311706543,
          2.2418694496154785,
          1.189134955406189,
          1.0947517156600952,
          1.8084408044815063,
          2.0760371685028076,
          2.759263038635254,
          2.401038885116577,
          1.5487650632858276,
          1.8650915622711182,
          2.88218092918396,
          2.827099323272705,
          2.3863930702209473,
          2.04829478263855,
          1.8151135444641113,
          2.197209119796753,
          1.9331390857696533,
          1.5412232875823975,
          1.6263039112091064,
          2.010920763015747,
          1.4077845811843872,
          2.5183138847351074,
          2.04829478263855,
          1.389723300933838,
          2.4170875549316406,
          2.0055530071258545,
          1.9576215744018555,
          2.07564377784729,
          1.7281934022903442,
          1.9967107772827148,
          1.4989497661590576,
          2.07564377784729,
          2.2142343521118164,
          1.6898736953735352,
          2.0674800872802734,
          1.9936569929122925,
          1.584864854812622,
          2.3521196842193604,
          2.7687740325927734,
          1.7672003507614136,
          2.2192275524139404,
          2.1696572303771973,
          1.918815016746521,
          1.6547032594680786,
          1.6757862567901611,
          2.04829478263855,
          1.6814546585083008,
          1.8007327318191528,
          2.183281183242798,
          2.800710916519165,
          2.750840425491333,
          1.9374613761901855,
          2.3252804279327393,
          2.3343911170959473,
          2.0300021171569824,
          1.811974048614502,
          2.31992506980896,
          2.2246060371398926,
          2.117201566696167,
          2.256772041320801,
          2.2912168502807617,
          1.5423318147659302,
          2.5613512992858887,
          2.3185040950775146,
          2.2218470573425293,
          1.7669975757598877,
          2.827099323272705,
          2.4748284816741943,
          2.2325046062469482,
          1.8552154302597046,
          1.9957575798034668,
          2.3023314476013184,
          1.9503875970840454,
          2.070481777191162,
          2.683182954788208,
          2.090160608291626,
          1.9106197357177734,
          1.34943425655365,
          2.862971067428589,
          2.620741605758667,
          2.2632291316986084,
          2.2211689949035645,
          2.401038885116577,
          2.044207811355591,
          1.934460997581482,
          2.256840705871582,
          1.9032211303710938,
          1.2821546792984009,
          2.1811928749084473,
          1.8930745124816895,
          2.27370023727417,
          1.9783884286880493,
          2.308622121810913,
          2.4704883098602295,
          2.3263840675354004,
          2.4006431102752686,
          2.5517168045043945,
          2.1894168853759766,
          2.084235191345215,
          2.07564377784729,
          1.8107877969741821,
          2.643524169921875,
          1.8718222379684448,
          2.070481777191162,
          2.0489070415496826,
          1.9582778215408325,
          2.3203325271606445,
          2.643524169921875,
          1.6917104721069336,
          2.3760790824890137,
          1.9898003339767456,
          2.621565341949463,
          1.8987325429916382,
          2.643524169921875,
          2.492563247680664,
          1.7978843450546265,
          1.9952586889266968,
          2.800710916519165,
          1.930403709411621,
          2.3940954208374023,
          2.070481777191162,
          2.759263038635254,
          2.825429916381836,
          2.759263038635254,
          1.422338604927063,
          1.189134955406189,
          2.7805323600769043,
          1.9213979244232178,
          2.0489070415496826,
          1.9032211303710938,
          2.308622121810913,
          2.070481777191162,
          2.429560661315918,
          2.2778987884521484,
          1.8811864852905273,
          2.759263038635254,
          2.7687740325927734,
          2.640181303024292,
          1.8313348293304443,
          1.418782353401184,
          1.9967107772827148,
          2.940573215484619,
          2.1811928749084473,
          2.361842393875122,
          2.3268377780914307,
          1.8587501049041748,
          2.759263038635254,
          2.0559465885162354,
          2.429560661315918,
          2.800710916519165,
          2.0540771484375,
          2.4393739700317383,
          2.9904041290283203,
          2.07564377784729,
          2.04829478263855,
          2.288794994354248,
          2.177541971206665,
          2.3141088485717773,
          2.295490264892578,
          2.1613259315490723,
          2.04829478263855,
          2.229234218597412,
          2.078280448913574,
          1.9013631343841553,
          1.5224899053573608,
          2.3553178310394287,
          2.2778987884521484,
          2.969428539276123,
          2.07564377784729,
          2.2617440223693848,
          2.643524169921875,
          2.2551748752593994,
          2.1811928749084473,
          1.913151502609253,
          2.04829478263855,
          2.3685007095336914,
          1.8763859272003174,
          2.3521196842193604,
          2.643524169921875,
          2.401038885116577,
          1.852118730545044,
          3.087627410888672,
          2.2632291316986084,
          2.3171303272247314,
          2.070481777191162,
          2.643524169921875,
          2.643524169921875,
          2.759263038635254,
          2.2791783809661865,
          1.9563440084457397,
          2.401038885116577,
          3.087627410888672,
          2.0540771484375,
          2.3521196842193604,
          2.599278450012207,
          2.04829478263855,
          1.9967107772827148,
          1.517417311668396,
          2.759263038635254,
          2.3940954208374023,
          2.800710916519165,
          2.4006431102752686,
          2.04829478263855,
          2.016535997390747,
          1.847753882408142,
          2.12906813621521,
          1.98529052734375,
          2.349797487258911,
          2.759263038635254,
          2.070481777191162,
          2.04829478263855,
          2.185168981552124,
          1.8337098360061646,
          1.9514009952545166,
          2.643524169921875,
          2.643524169921875
         ]
        },
        {
         "name": "DGI+XM",
         "type": "histogram",
         "x": [
          0.26810523867607117,
          0.32634612917900085,
          0.3361257314682007,
          0.30374717712402344,
          0.2902906537055969,
          0.30843597650527954,
          0.3376046121120453,
          0.36196500062942505,
          0.3233901560306549,
          0.28824329376220703,
          0.3372560739517212,
          0.32128992676734924,
          0.30732932686805725,
          0.3010461628437042,
          0.2946426570415497,
          0.28543874621391296,
          0.3470950722694397,
          0.29379311203956604,
          0.3212875425815582,
          0.3132208585739136,
          0.3594713509082794,
          0.3063984513282776,
          0.31450462341308594,
          0.37624654173851013,
          0.2959376573562622,
          0.3245633840560913,
          0.2760811150074005,
          0.2865162789821625,
          0.280374675989151,
          0.4054803252220154,
          0.4168483018875122,
          0.30455636978149414,
          0.32291558384895325,
          0.32004979252815247,
          0.3357701599597931,
          0.3649352490901947,
          0.3267199993133545,
          0.305920273065567,
          0.30045628547668457,
          0.2792721390724182,
          0.3077443242073059,
          0.2961093485355377,
          0.3172227442264557,
          0.3016577363014221,
          0.30464744567871094,
          0.3178509771823883,
          0.277468740940094,
          0.36772164702415466,
          0.32538703083992004,
          0.2920740842819214,
          0.2899448275566101,
          0.307609498500824,
          0.28309178352355957,
          0.3373437821865082,
          0.2663052976131439,
          0.3040902018547058,
          0.3050815463066101,
          0.30792421102523804,
          0.289785772562027,
          0.3005726933479309,
          0.29486602544784546,
          0.3513643741607666,
          0.3470195233821869,
          0.3011201322078705,
          0.32242685556411743,
          0.2794332206249237,
          0.31021472811698914,
          0.31975895166397095,
          0.334877073764801,
          0.24724267423152924,
          0.2930240035057068,
          0.357859343290329,
          0.355609655380249,
          0.29567742347717285,
          0.29241394996643066,
          0.32841888070106506,
          0.3654058575630188,
          0.24761509895324707,
          0.32204875349998474,
          0.3326324224472046,
          0.33661869168281555,
          0.3101058900356293,
          0.3241465389728546,
          0.27831968665122986,
          0.35985395312309265,
          0.35621073842048645,
          0.2915065884590149,
          0.28980502486228943,
          0.3045231103897095,
          0.3517061173915863,
          0.2915898561477661,
          0.34880968928337097,
          0.28371497988700867,
          0.3407174348831177,
          0.304522305727005,
          0.3280477523803711,
          0.30935630202293396,
          0.37618952989578247,
          0.3159095346927643,
          0.33742985129356384,
          0.3669494688510895,
          0.34726789593696594,
          0.40080714225769043,
          0.4095279574394226,
          0.3447008728981018,
          0.30652469396591187,
          0.31976884603500366,
          0.32633882761001587,
          0.30401888489723206,
          0.3316713869571686,
          0.2971476912498474,
          0.27380648255348206,
          0.3494194447994232,
          0.3656017482280731,
          0.29633137583732605,
          0.361489474773407,
          0.2662622034549713,
          0.32722967863082886,
          0.30811038613319397,
          0.3136955499649048,
          0.29833242297172546,
          0.2867840826511383,
          0.31247973442077637,
          0.2986336052417755,
          0.34223759174346924,
          0.3306159973144531,
          0.34962618350982666,
          0.35430312156677246,
          0.3311629593372345,
          0.2912581264972687,
          0.29419273138046265,
          0.3270328938961029,
          0.40382498502731323,
          0.3097447156906128,
          0.2989089787006378,
          0.32887235283851624,
          0.3131736218929291,
          0.3029555678367615,
          0.2785212993621826,
          0.3265042006969452,
          0.332427442073822,
          0.3085153102874756,
          0.29878324270248413,
          0.26849114894866943,
          0.30643025040626526,
          0.3226366639137268,
          0.3224523961544037,
          0.321240097284317,
          0.29990628361701965,
          0.2901257574558258,
          0.3012537360191345,
          0.30166521668434143,
          0.2577534317970276,
          0.3390023410320282,
          0.28673017024993896,
          0.28004056215286255,
          0.29978084564208984,
          0.25663384795188904,
          0.37233927845954895,
          0.2870815694332123,
          0.2623935639858246,
          0.25537195801734924,
          0.3283846974372864,
          0.35529571771621704,
          0.35370829701423645,
          0.2899225950241089,
          0.2956373393535614,
          0.30080360174179077,
          0.3627733588218689,
          0.2992510497570038,
          0.3338949978351593,
          0.30271270871162415,
          0.298357218503952,
          0.29877689480781555,
          0.3028547167778015,
          0.3165604770183563,
          0.34181538224220276,
          0.3141299784183502,
          0.3298047184944153,
          0.35727596282958984,
          0.33856916427612305,
          0.3067275583744049,
          0.2981169521808624,
          0.3033333122730255,
          0.37995898723602295,
          0.28652092814445496,
          0.3357256054878235,
          0.3829616904258728,
          0.35602807998657227,
          0.2993823289871216,
          0.32037028670310974,
          0.287854939699173,
          0.3417304456233978,
          0.3704966902732849,
          0.28989115357398987,
          0.3158949315547943,
          0.30848172307014465,
          0.3041103184223175,
          0.30650943517684937,
          0.3015505075454712,
          0.37441542744636536,
          0.2668970823287964,
          0.2844977080821991,
          0.32360222935676575,
          0.3079991936683655,
          0.29170283675193787,
          0.33909139037132263,
          0.3081245422363281,
          0.37299033999443054,
          0.3800244629383087,
          0.3347246050834656,
          0.267584890127182,
          0.27848026156425476,
          0.34574541449546814,
          0.3481363356113434,
          0.4531879723072052,
          0.3566085994243622,
          0.33367684483528137,
          0.2638411819934845,
          0.3162764012813568,
          0.3265049159526825,
          0.3378430902957916,
          0.30406928062438965,
          0.29242879152297974,
          0.32264626026153564,
          0.31825965642929077,
          0.32908549904823303,
          0.3221352696418762,
          0.2919867932796478,
          0.3519621789455414,
          0.3555053174495697,
          0.3338298201560974,
          0.30047163367271423,
          0.30975791811943054,
          0.3189222514629364,
          0.2851753532886505,
          0.32035180926322937,
          0.3555360734462738,
          0.36075592041015625,
          0.3411533236503601,
          0.38781872391700745,
          0.3994006812572479,
          0.29774072766304016,
          0.2882058024406433,
          0.36110779643058777,
          0.3726266622543335,
          0.30327144265174866,
          0.3688610792160034,
          0.29043877124786377,
          0.33454984426498413,
          0.3102094531059265,
          0.310841828584671,
          0.4755125641822815,
          0.3480149507522583,
          0.3641531467437744,
          0.34013259410858154,
          0.33064115047454834,
          0.36124691367149353,
          0.3363567292690277,
          0.2996247112751007,
          0.3074464499950409,
          0.3688744008541107,
          0.3579776883125305,
          0.3439168930053711,
          0.32835105061531067,
          0.42793992161750793,
          0.3671724498271942,
          0.33748576045036316,
          0.32599446177482605,
          0.2614823877811432,
          0.3532439172267914,
          0.3509875535964966,
          0.3261013329029083,
          0.2945883274078369,
          0.33647775650024414,
          0.37395042181015015,
          0.33806923031806946,
          0.34799230098724365,
          0.3219072222709656,
          0.33960768580436707,
          0.34891629219055176,
          0.3348073661327362,
          0.31998637318611145,
          0.34574127197265625,
          0.3464764654636383,
          0.3543192744255066,
          0.34211525321006775,
          0.3605785369873047,
          0.3034035563468933,
          0.32570165395736694,
          0.30014753341674805,
          0.3445362150669098,
          0.3233035206794739,
          0.3494710922241211,
          0.31467586755752563,
          0.28938326239585876,
          0.3381759524345398,
          0.2772742509841919,
          0.28718504309654236,
          0.322916179895401,
          0.3255997896194458,
          0.34275805950164795,
          0.32948505878448486,
          0.35531938076019287,
          0.44353437423706055,
          0.23809555172920227,
          0.2663685977458954,
          0.34574398398399353,
          0.33318161964416504,
          0.32021817564964294,
          0.33626532554626465,
          0.3175085783004761,
          0.3149193823337555,
          0.28446662425994873,
          0.345327764749527,
          0.2907601594924927,
          0.31333476305007935,
          0.3375687003135681,
          0.3639271855354309,
          0.30013611912727356,
          0.33811134099960327,
          0.29284214973449707,
          0.2974422872066498,
          0.3198826014995575,
          0.32430368661880493,
          0.3425830900669098,
          0.31257927417755127,
          0.3199051022529602,
          0.29902011156082153,
          0.3251154124736786,
          0.32568204402923584,
          0.357235848903656,
          0.32130056619644165,
          0.40675073862075806,
          0.35195985436439514,
          0.333952933549881,
          0.4319879710674286,
          0.3160405158996582,
          0.2844844460487366,
          0.3077816665172577,
          0.2999245822429657,
          0.34978511929512024,
          0.36259981989860535,
          0.309539258480072,
          0.29855456948280334,
          0.3548155426979065,
          0.40213292837142944,
          0.27958056330680847,
          0.2311808317899704,
          0.3260306119918823,
          0.31568634510040283,
          0.38614705204963684,
          0.3065968155860901,
          0.3344345688819885,
          0.3516400158405304,
          0.4870096743106842,
          0.3017207086086273,
          0.3006575405597687,
          0.3579055964946747,
          0.3195933401584625,
          0.2972658574581146,
          0.40341708064079285,
          0.2765620946884155,
          0.3834266662597656,
          0.38949277997016907,
          0.2587951719760895,
          0.24415838718414307,
          0.34523630142211914,
          0.30451396107673645,
          0.3042503893375397,
          0.3741140067577362,
          0.36830440163612366,
          0.40115711092948914,
          0.3354451358318329,
          0.3106655180454254,
          0.3943386375904083,
          0.28973135352134705,
          0.36096450686454773,
          0.3942936658859253,
          0.29954615235328674,
          0.29089194536209106,
          0.3321227431297302,
          0.4044278860092163,
          0.37798959016799927,
          0.3645964562892914,
          0.3491354286670685,
          0.37818387150764465,
          0.3375505208969116,
          0.29171520471572876,
          0.276334673166275,
          0.29292938113212585,
          0.3032815754413605,
          0.2953284978866577,
          0.34489062428474426,
          0.3696480989456177,
          0.29121795296669006,
          0.33514079451560974,
          0.33740726113319397,
          0.31615912914276123,
          0.37974512577056885,
          0.3606720566749573,
          0.3870561420917511,
          0.3601718544960022,
          0.409463495016098,
          0.3244515359401703,
          0.3701521158218384,
          0.3392214775085449,
          0.3208952844142914,
          0.36471763253211975,
          0.32643792033195496,
          0.27721428871154785,
          0.4522624611854553,
          0.3168269097805023,
          0.34256699681282043,
          0.26169097423553467,
          0.2837581932544708,
          0.2973584532737732,
          0.24450571835041046,
          0.2993984818458557,
          0.39053019881248474,
          0.30477359890937805,
          0.34173157811164856,
          0.32622575759887695,
          0.3460366427898407,
          0.3494347631931305,
          0.3633521795272827,
          0.4766026735305786,
          0.3359123170375824,
          0.3369464874267578,
          0.3177390992641449,
          0.4211411774158478,
          0.3383335769176483,
          0.32151082158088684,
          0.39531993865966797,
          0.2905280888080597,
          0.3309243321418762,
          0.3498210608959198,
          0.34438154101371765,
          0.36812639236450195,
          0.3862204849720001,
          0.3347853124141693,
          0.2794557213783264,
          0.3348429799079895,
          0.30913403630256653,
          0.32523640990257263,
          0.31996503472328186,
          0.3523556590080261,
          0.3025251030921936,
          0.29472994804382324,
          0.3118073642253876,
          0.36053702235221863,
          0.3432943522930145,
          0.33292028307914734,
          0.2953079640865326,
          0.3536393642425537,
          0.3333682417869568,
          0.3566209673881531,
          0.3862307369709015,
          0.28057777881622314,
          0.355849951505661,
          0.3543960154056549,
          0.30394431948661804,
          0.3547152578830719,
          0.34160247445106506,
          0.29766350984573364,
          0.25457578897476196,
          0.3383317291736603,
          0.2730531096458435,
          0.3581593930721283,
          0.41060516238212585,
          0.30996066331863403,
          0.32543954253196716,
          0.4192572832107544,
          0.37543848156929016,
          0.3326849937438965,
          0.2894952893257141,
          0.3903457522392273,
          0.28834813833236694,
          0.27631503343582153,
          0.2967372238636017,
          0.3422536551952362,
          0.24844416975975037,
          0.2914368510246277,
          0.3554386794567108,
          0.33983319997787476,
          0.34599170088768005,
          0.28975239396095276,
          0.29953840374946594,
          0.26415935158729553,
          0.3818013668060303,
          0.32347041368484497,
          0.4689333736896515,
          0.3188334107398987,
          0.30318570137023926,
          0.3811176121234894,
          0.3403976261615753,
          0.35467445850372314,
          0.31672540307044983,
          0.3239003121852875,
          0.3226819932460785,
          0.31598785519599915,
          0.3686584234237671,
          0.37157687544822693,
          0.35206595063209534,
          0.2821396291255951,
          0.3787707984447479,
          0.4094482958316803,
          0.4785122573375702,
          0.338319331407547,
          0.27678272128105164,
          0.26315370202064514,
          0.2627999782562256,
          0.28639015555381775,
          0.3456264138221741,
          0.3051145076751709,
          0.31011372804641724,
          0.3921644687652588,
          0.26389509439468384,
          0.3276199996471405,
          0.31944364309310913,
          0.3883683383464813,
          0.2943229675292969,
          0.31679439544677734,
          0.2755829095840454,
          0.3136340081691742,
          0.356422483921051,
          0.32260820269584656,
          0.3248479962348938,
          0.2311808317899704,
          0.3671974539756775,
          0.2847650349140167,
          0.2957589328289032,
          0.39189407229423523,
          0.3124081492424011,
          0.2589799463748932,
          0.29650357365608215,
          0.3355903923511505,
          0.2836313545703888,
          0.3863319754600525,
          0.4296649694442749,
          0.33441492915153503,
          0.33893874287605286,
          0.3004309833049774,
          0.397840291261673,
          0.3632504642009735,
          0.37021541595458984,
          0.33811134099960327,
          0.34357044100761414,
          0.34949591755867004,
          0.35369786620140076,
          0.4209413528442383,
          0.3867768347263336,
          0.28025364875793457,
          0.33910271525382996,
          0.35495492815971375,
          0.2733249366283417,
          0.256743848323822,
          0.41918522119522095,
          0.39884695410728455,
          0.2929922938346863,
          0.36122000217437744,
          0.34662750363349915,
          0.3873104453086853,
          0.3564166724681854,
          0.2458428293466568,
          0.35698074102401733,
          0.377669095993042,
          0.314532071352005,
          0.2966043949127197,
          0.42903080582618713,
          0.3124753534793854,
          0.35750773549079895,
          0.25234806537628174,
          0.3155105412006378,
          0.2927711009979248,
          0.25585097074508667,
          0.29861223697662354,
          0.3381927013397217,
          0.2740498185157776,
          0.38919004797935486,
          0.35567447543144226,
          0.31743478775024414,
          0.38063883781433105,
          0.3297760486602783,
          0.34669166803359985,
          0.35637539625167847,
          0.33745285868644714,
          0.25045883655548096,
          0.3450239300727844,
          0.37879425287246704,
          0.3656417429447174,
          0.4755125641822815,
          0.4795694947242737,
          0.3564680516719818,
          0.39871537685394287,
          0.33736953139305115,
          0.4030715525150299,
          0.33811134099960327,
          0.34939563274383545,
          0.3283500075340271,
          0.31038886308670044,
          0.3025313913822174,
          0.31777721643447876,
          0.3272281885147095,
          0.36539849638938904,
          0.33720672130584717,
          0.33599478006362915,
          0.3401126563549042,
          0.2708374559879303,
          0.3472379446029663,
          0.2581821084022522,
          0.2884717285633087,
          0.30061233043670654,
          0.4624214172363281,
          0.3917393088340759,
          0.34910812973976135,
          0.3689826428890228,
          0.3561147451400757,
          0.34833836555480957,
          0.2625148892402649,
          0.361728698015213,
          0.37310636043548584,
          0.30630406737327576,
          0.2791787385940552,
          0.3207071125507355,
          0.2583185136318207,
          0.3602997660636902,
          0.33759698271751404,
          0.2708018720149994,
          0.3111819326877594,
          0.35998499393463135,
          0.3692752420902252,
          0.3609754741191864,
          0.23935402929782867,
          0.2301057130098343,
          0.28870636224746704,
          0.24530963599681854,
          0.2742561399936676,
          0.29992830753326416,
          0.32920971512794495,
          0.3324544429779053,
          0.3590814471244812,
          0.2899850010871887,
          0.2894771993160248,
          0.3195144534111023,
          0.351847767829895,
          0.35733962059020996,
          0.39321789145469666,
          0.4076666235923767,
          0.3239554166793823,
          0.3157505691051483,
          0.27723073959350586,
          0.4689333736896515,
          0.3680988550186157,
          0.24625779688358307,
          0.30353477597236633,
          0.38068002462387085,
          0.3464674949645996,
          0.34208187460899353,
          0.3474075496196747,
          0.43185266852378845,
          0.4857778549194336,
          0.25644317269325256,
          0.30973321199417114,
          0.38477569818496704,
          0.37947914004325867,
          0.35254961252212524,
          0.4870096743106842,
          0.2650354206562042,
          0.279584139585495,
          0.28401172161102295,
          0.27698051929473877,
          0.2828439176082611,
          0.27152302861213684,
          0.23880551755428314,
          0.3439945876598358,
          0.28390106558799744,
          0.28348448872566223,
          0.31206458806991577,
          0.37884870171546936,
          0.37730374932289124,
          0.33245402574539185,
          0.3573884665966034,
          0.29826268553733826,
          0.2889082133769989,
          0.3580954670906067,
          0.34085536003112793,
          0.3636398911476135,
          0.35877057909965515,
          0.33590397238731384,
          0.279584139585495,
          0.2941575348377228,
          0.38706353306770325,
          0.2422129362821579,
          0.2972923219203949,
          0.2311808317899704,
          0.271343857049942,
          0.37823039293289185,
          0.3151102662086487,
          0.44248858094215393,
          0.24678462743759155,
          0.3291645050048828,
          0.38151612877845764,
          0.3391558527946472,
          0.2682337164878845,
          0.340819388628006,
          0.2311808317899704,
          0.34009167551994324,
          0.2733249366283417,
          0.37113672494888306,
          0.3780685067176819,
          0.2534099519252777,
          0.3233737647533417,
          0.35114073753356934,
          0.2785212993621826,
          0.2764490246772766,
          0.23994311690330505,
          0.269305944442749,
          0.2311808317899704,
          0.32787850499153137,
          0.4062415361404419,
          0.24848729372024536,
          0.3584630787372589,
          0.2585465908050537,
          0.3164338171482086,
          0.2733249366283417,
          0.3630405366420746,
          0.3356432616710663,
          0.33495810627937317,
          0.24450571835041046,
          0.3297576308250427,
          0.3717327415943146,
          0.39119571447372437,
          0.3030121326446533,
          0.29808366298675537,
          0.3783121705055237,
          0.38567185401916504,
          0.38474416732788086,
          0.2703821659088135,
          0.32517707347869873,
          0.3341931700706482,
          0.33811134099960327,
          0.40101632475852966,
          0.3886953890323639,
          0.2734190821647644,
          0.2678861916065216,
          0.3166790008544922,
          0.3411049544811249,
          0.30369406938552856,
          0.2885793149471283,
          0.35530540347099304,
          0.33372068405151367,
          0.38446342945098877,
          0.2732101380825043,
          0.35223668813705444,
          0.24568802118301392,
          0.2609914243221283,
          0.2903434932231903,
          0.32891231775283813,
          0.25045883655548096,
          0.4097754657268524,
          0.33701762557029724,
          0.4375019073486328,
          0.38927626609802246,
          0.37286651134490967,
          0.38055336475372314,
          0.2676760256290436,
          0.2872977554798126,
          0.3733603358268738,
          0.3714877665042877,
          0.3610476851463318,
          0.3847241699695587,
          0.3243444263935089,
          0.26876136660575867,
          0.2817906439304352,
          0.40738213062286377,
          0.29239770770072937,
          0.4289029836654663,
          0.31106239557266235,
          0.34170103073120117,
          0.3138805627822876,
          0.2722223401069641,
          0.37514781951904297,
          0.27095192670822144,
          0.2606481909751892,
          0.37286651134490967,
          0.30378374457359314,
          0.3577342629432678,
          0.31854256987571716,
          0.3317660391330719,
          0.3823516070842743,
          0.30318599939346313,
          0.3347996473312378,
          0.2813411056995392,
          0.3351755440235138,
          0.3442624807357788,
          0.3763451874256134,
          0.3351523280143738,
          0.36738160252571106,
          0.4624214172363281,
          0.33811134099960327,
          0.3333488702774048,
          0.3721486032009125,
          0.48848557472229004,
          0.42518341541290283,
          0.26142099499702454,
          0.2897534668445587,
          0.37862083315849304,
          0.3302019536495209,
          0.314201682806015,
          0.33427906036376953,
          0.33703529834747314,
          0.31190499663352966,
          0.2852458953857422,
          0.290836364030838,
          0.36062178015708923,
          0.25188538432121277,
          0.3696187734603882,
          0.3231893479824066,
          0.267584890127182,
          0.3413246273994446,
          0.3935483992099762,
          0.4221827983856201,
          0.35757726430892944,
          0.32717737555503845,
          0.3428042531013489,
          0.3036210238933563,
          0.5111653208732605,
          0.2875335216522217,
          0.28886649012565613,
          0.26854071021080017,
          0.25696027278900146,
          0.4755125641822815,
          0.3361198902130127,
          0.2547415792942047,
          0.3693647086620331,
          0.39321789145469666,
          0.3845692276954651,
          0.35388249158859253,
          0.29645004868507385,
          0.33632150292396545,
          0.28975242376327515,
          0.30611056089401245,
          0.41717103123664856,
          0.3928907513618469,
          0.441060870885849,
          0.2785212993621826,
          0.3621070086956024,
          0.397958368062973,
          0.2680027186870575,
          0.34809768199920654,
          0.28407302498817444,
          0.40241363644599915,
          0.3042050898075104,
          0.4096023142337799,
          0.2422129362821579,
          0.32089024782180786,
          0.34789183735847473,
          0.31258073449134827,
          0.3430090546607971,
          0.33348244428634644,
          0.3433685600757599,
          0.26137077808380127,
          0.36722880601882935,
          0.3386675715446472,
          0.29765623807907104,
          0.2587951719760895,
          0.26633748412132263,
          0.264675110578537,
          0.37222418189048767,
          0.40101632475852966,
          0.3338744640350342,
          0.4689333736896515,
          0.34907984733581543,
          0.34680449962615967,
          0.32611721754074097,
          0.2311808317899704,
          0.23914097249507904,
          0.23914097249507904,
          0.30557578802108765,
          0.24679827690124512,
          0.29355543851852417,
          0.33811134099960327,
          0.3488892912864685,
          0.30069324374198914,
          0.40101632475852966,
          0.25188538432121277,
          0.4755125641822815,
          0.3064318299293518,
          0.3657941520214081,
          0.46595317125320435,
          0.33720672130584717,
          0.24520979821681976,
          0.38728830218315125,
          0.41392165422439575,
          0.255533367395401,
          0.2642735540866852,
          0.33171796798706055,
          0.3612319827079773,
          0.31194770336151123,
          0.26492545008659363,
          0.3094317615032196,
          0.3475428521633148,
          0.4178561270236969,
          0.33834460377693176,
          0.4042840600013733,
          0.32360807061195374,
          0.378216028213501,
          0.3285805583000183,
          0.35227951407432556,
          0.3852612376213074,
          0.4257891774177551,
          0.4375019073486328,
          0.28837865591049194,
          0.3415064215660095,
          0.32411158084869385,
          0.39119967818260193,
          0.3383774757385254,
          0.2764490246772766,
          0.4755125641822815,
          0.3107141852378845,
          0.2422129362821579,
          0.3353765606880188,
          0.40101632475852966,
          0.3239649534225464,
          0.3352092206478119,
          0.2928900718688965,
          0.34357044100761414,
          0.433872789144516,
          0.4755125641822815,
          0.38968321681022644,
          0.35026416182518005,
          0.37684866786003113,
          0.31310585141181946,
          0.3454219698905945,
          0.38463929295539856,
          0.27123257517814636,
          0.2777930796146393,
          0.2660243809223175,
          0.3140958547592163,
          0.3349594473838806,
          0.3349594473838806,
          0.38441920280456543,
          0.33811134099960327,
          0.25622227787971497,
          0.2311808317899704,
          0.31039056181907654,
          0.35749971866607666,
          0.2534487545490265,
          0.29120248556137085,
          0.24568802118301392,
          0.33844950795173645,
          0.3928907513618469,
          0.327867716550827,
          0.29700472950935364,
          0.26781249046325684,
          0.26014047861099243,
          0.3403649926185608,
          0.2573625147342682,
          0.48985573649406433,
          0.2620864510536194,
          0.400486558675766,
          0.44271841645240784,
          0.44174957275390625,
          0.40118855237960815,
          0.2622791528701782,
          0.3153739869594574,
          0.33797016739845276,
          0.25585097074508667,
          0.4423033893108368,
          0.2645711600780487,
          0.361095130443573,
          0.3213319480419159,
          0.3691609799861908,
          0.28807127475738525,
          0.24574777483940125,
          0.4755125641822815,
          0.34305819869041443,
          0.30190131068229675,
          0.26226648688316345,
          0.4469256103038788,
          0.4624214172363281,
          0.34342220425605774,
          0.40101632475852966,
          0.29577475786209106,
          0.36804524064064026,
          0.3061554431915283,
          0.2721371650695801,
          0.30768901109695435,
          0.2764490246772766,
          0.24679827690124512,
          0.3552962839603424,
          0.40101632475852966,
          0.2773513197898865,
          0.34803682565689087,
          0.26193395256996155,
          0.26922866702079773,
          0.33811134099960327,
          0.3130878508090973,
          0.2676760256290436,
          0.26068052649497986,
          0.33811134099960327,
          0.2998844385147095,
          0.2905240058898926,
          0.39119571447372437,
          0.29539185762405396,
          0.2650648057460785,
          0.34401440620422363,
          0.4096023142337799,
          0.24969567358493805,
          0.3892503082752228,
          0.3127616345882416,
          0.3177124559879303,
          0.2655538320541382,
          0.3244866132736206,
          0.40101632475852966,
          0.2825634777545929,
          0.2719203233718872,
          0.33797016739845276,
          0.4870096743106842,
          0.4495454430580139,
          0.26310357451438904,
          0.36058005690574646,
          0.37684866786003113,
          0.2879300117492676,
          0.2699119746685028,
          0.3526747524738312,
          0.3031700551509857,
          0.389320969581604,
          0.38011234998703003,
          0.3028760254383087,
          0.2788449227809906,
          0.4319911301136017,
          0.34593576192855835,
          0.3667681813240051,
          0.28716403245925903,
          0.4624214172363281,
          0.32814425230026245,
          0.3434598445892334,
          0.25754818320274353,
          0.2655494213104248,
          0.3823516070842743,
          0.30394431948661804,
          0.33720672130584717,
          0.39351847767829895,
          0.27319154143333435,
          0.25931137800216675,
          0.2627999782562256,
          0.4689333736896515,
          0.3734329342842102,
          0.3284883499145508,
          0.355176717042923,
          0.34305819869041443,
          0.386833518743515,
          0.29797935485839844,
          0.3846827745437622,
          0.3349594473838806,
          0.26137077808380127,
          0.39321789145469666,
          0.26528874039649963,
          0.37329843640327454,
          0.31706318259239197,
          0.3428042531013489,
          0.30914947390556335,
          0.33326080441474915,
          0.3517596125602722,
          0.38559088110923767,
          0.3332628607749939,
          0.35601699352264404,
          0.33811134099960327,
          0.28885313868522644,
          0.4375019073486328,
          0.2544757127761841,
          0.33720672130584717,
          0.3212829828262329,
          0.30026620626449585,
          0.33822378516197205,
          0.4375019073486328,
          0.30541104078292847,
          0.3420411944389343,
          0.25879546999931335,
          0.3814700245857239,
          0.3993687033653259,
          0.4375019073486328,
          0.31375443935394287,
          0.34075525403022766,
          0.38441920280456543,
          0.4870096743106842,
          0.2591095566749573,
          0.35205572843551636,
          0.33720672130584717,
          0.4755125641822815,
          0.47312644124031067,
          0.4755125641822815,
          0.25554338097572327,
          0.3213319480419159,
          0.4069629907608032,
          0.28754734992980957,
          0.3212829828262329,
          0.3349594473838806,
          0.3428042531013489,
          0.33720672130584717,
          0.3712834417819977,
          0.3910156488418579,
          0.2548086643218994,
          0.4755125641822815,
          0.4096023142337799,
          0.398561030626297,
          0.24256157875061035,
          0.2353745400905609,
          0.2676760256290436,
          0.4132523834705353,
          0.39321789145469666,
          0.33784881234169006,
          0.34212765097618103,
          0.2715368866920471,
          0.4755125641822815,
          0.29908430576324463,
          0.3712834417819977,
          0.4870096743106842,
          0.32188305258750916,
          0.406154066324234,
          0.48517969250679016,
          0.33811134099960327,
          0.40101632475852966,
          0.35026416182518005,
          0.37668830156326294,
          0.33830803632736206,
          0.3725322186946869,
          0.3311792016029358,
          0.40101632475852966,
          0.47163698077201843,
          0.386494517326355,
          0.4223155677318573,
          0.3983973562717438,
          0.34044918417930603,
          0.3910156488418579,
          0.3927697241306305,
          0.33811134099960327,
          0.3338760733604431,
          0.4375019073486328,
          0.3352092206478119,
          0.39321789145469666,
          0.2791990339756012,
          0.40101632475852966,
          0.40131232142448425,
          0.26537826657295227,
          0.34401440620422363,
          0.4375019073486328,
          0.34305819869041443,
          0.25645002722740173,
          0.4723343849182129,
          0.3284883499145508,
          0.34230291843414307,
          0.33720672130584717,
          0.4375019073486328,
          0.4375019073486328,
          0.4755125641822815,
          0.3282648026943207,
          0.3482681214809418,
          0.34305819869041443,
          0.4723343849182129,
          0.32188305258750916,
          0.34401440620422363,
          0.44307905435562134,
          0.40101632475852966,
          0.2676760256290436,
          0.2785831391811371,
          0.4755125641822815,
          0.35205572843551636,
          0.4870096743106842,
          0.3517596125602722,
          0.40101632475852966,
          0.3935483992099762,
          0.34107595682144165,
          0.39051201939582825,
          0.34762489795684814,
          0.34292036294937134,
          0.4755125641822815,
          0.33720672130584717,
          0.40101632475852966,
          0.34789183735847473,
          0.2976754903793335,
          0.3065555691719055,
          0.4375019073486328,
          0.4375019073486328
         ]
        },
        {
         "name": "DGI ID",
         "type": "histogram",
         "x": [
          1.254927158355713,
          1.8715707063674927,
          1.4930918216705322,
          0.8454052209854126,
          0.8056950569152832,
          1.6832036972045898,
          1.582603096961975,
          1.1069344282150269,
          1.715170979499817,
          0.6498156785964966,
          1.4073001146316528,
          1.7091517448425293,
          1.0447686910629272,
          0.8795838952064514,
          1.3083455562591553,
          0.7582563161849976,
          1.6468980312347412,
          0.6852801442146301,
          1.5687915086746216,
          0.9641273617744446,
          1.6349543333053589,
          0.8961465358734131,
          0.9083754420280457,
          1.6135917901992798,
          0.6389305591583252,
          2.066419839859009,
          0.5942320227622986,
          0.7368496656417847,
          0.5462417602539062,
          1.5122900009155273,
          1.5250672101974487,
          0.9107298851013184,
          1.3773107528686523,
          1.2262983322143555,
          1.4947516918182373,
          1.8675633668899536,
          1.3319873809814453,
          0.9675256609916687,
          0.9263814687728882,
          2.2405405044555664,
          0.9612579941749573,
          1.4820491075515747,
          1.8046714067459106,
          0.8345217108726501,
          0.6540830731391907,
          0.8747878074645996,
          0.6496841311454773,
          1.9189538955688477,
          1.1587517261505127,
          0.6792809367179871,
          0.8286922574043274,
          0.8910872340202332,
          1.165857195854187,
          1.79185152053833,
          0.5276995897293091,
          0.9347072839736938,
          1.4449981451034546,
          0.9317353367805481,
          0.8607553839683533,
          0.8080626130104065,
          0.8472253680229187,
          1.7640575170516968,
          0.6949316263198853,
          0.7467048168182373,
          1.3988080024719238,
          0.812212347984314,
          1.00970458984375,
          1.1182194948196411,
          1.5691038370132446,
          0.453157901763916,
          0.922192394733429,
          1.3939518928527832,
          1.6599013805389404,
          0.9496669173240662,
          0.9220306873321533,
          1.2191544771194458,
          1.561220407485962,
          0.3950096666812897,
          1.4523683786392212,
          1.3551710844039917,
          1.5612512826919556,
          1.1922297477722168,
          2.0394256114959717,
          0.6569699048995972,
          1.5231531858444214,
          1.6506060361862183,
          0.8010952472686768,
          1.3624143600463867,
          1.0546311140060425,
          1.9212249517440796,
          0.7930545210838318,
          1.3094230890274048,
          0.7809654474258423,
          0.8829665184020996,
          0.8880594968795776,
          1.480093002319336,
          1.1157009601593018,
          1.0648566484451294,
          1.562667727470398,
          1.560799241065979,
          1.870302438735962,
          1.117730975151062,
          2.6204566955566406,
          1.7394779920578003,
          1.4897778034210205,
          0.7384500503540039,
          1.9190477132797241,
          1.8378291130065918,
          1.109254002571106,
          1.3948582410812378,
          0.9032744765281677,
          1.9634840488433838,
          1.4159808158874512,
          1.7624404430389404,
          0.9095944762229919,
          1.0801399946212769,
          1.4382604360580444,
          0.9101621508598328,
          0.8740186095237732,
          1.2077423334121704,
          1.1726423501968384,
          0.7005012035369873,
          1.1948374509811401,
          1.117838740348816,
          1.1841089725494385,
          1.1631953716278076,
          1.2158212661743164,
          1.38706636428833,
          1.1156953573226929,
          0.8783439993858337,
          1.0488462448120117,
          1.6518431901931763,
          1.6673697233200073,
          1.485974907875061,
          1.2133370637893677,
          1.1900231838226318,
          0.6247298121452332,
          0.8366656303405762,
          1.869452953338623,
          1.4540201425552368,
          2.172795295715332,
          1.2731586694717407,
          1.0977226495742798,
          1.155788540840149,
          0.8609018921852112,
          1.6079579591751099,
          1.6982650756835938,
          1.8364744186401367,
          0.8396363854408264,
          1.5080000162124634,
          1.41342294216156,
          1.107862114906311,
          1.2397676706314087,
          1.2261604070663452,
          0.8170058131217957,
          1.140926480293274,
          0.9702103137969971,
          0.2431110292673111,
          1.4709997177124023,
          2.1727099418640137,
          0.5219117999076843,
          1.8779826164245605,
          1.2863019704818726,
          2.0206193923950195,
          1.2006784677505493,
          0.8655453324317932,
          1.110801100730896,
          0.8127131462097168,
          1.3189482688903809,
          0.5554790496826172,
          1.9089287519454956,
          1.2930421829223633,
          1.0369950532913208,
          1.2713674306869507,
          0.9371429085731506,
          1.3564954996109009,
          1.5592131614685059,
          1.123889684677124,
          1.6529954671859741,
          1.2264853715896606,
          1.4388751983642578,
          1.0689398050308228,
          2.1842522621154785,
          1.223122477531433,
          1.8660701513290405,
          0.759071946144104,
          1.291061520576477,
          1.4962691068649292,
          1.7354952096939087,
          1.087177038192749,
          1.3865739107131958,
          2.379948854446411,
          1.3617770671844482,
          1.2546547651290894,
          2.3731648921966553,
          1.1605528593063354,
          1.2308311462402344,
          1.0798403024673462,
          1.882080078125,
          1.0567975044250488,
          1.6305280923843384,
          0.7130351662635803,
          0.7927955389022827,
          1.6918450593948364,
          1.4852668046951294,
          0.7715522646903992,
          1.6814477443695068,
          1.676673173904419,
          1.1173412799835205,
          1.6081304550170898,
          1.5653018951416016,
          1.129367470741272,
          0.8801833987236023,
          0.78824383020401,
          1.2552177906036377,
          1.0522993803024292,
          1.3547667264938354,
          0.8587206602096558,
          0.4292769134044647,
          1.1288944482803345,
          1.2975157499313354,
          1.0447450876235962,
          1.1231732368469238,
          0.8133705854415894,
          2.298128128051758,
          1.6280978918075562,
          2.0684080123901367,
          1.6831220388412476,
          0.9328152537345886,
          0.9514663815498352,
          1.5197961330413818,
          1.767454743385315,
          1.0270615816116333,
          1.7477227449417114,
          1.303500771522522,
          0.8794375061988831,
          1.5778740644454956,
          1.3070906400680542,
          1.5085070133209229,
          2.0483782291412354,
          2.171318292617798,
          2.3714101314544678,
          1.859900951385498,
          0.8612187504768372,
          1.0176846981048584,
          1.5406603813171387,
          1.4318519830703735,
          2.3745486736297607,
          0.8890618681907654,
          1.5271400213241577,
          1.0624117851257324,
          1.3828333616256714,
          2.4299333095550537,
          1.0699825286865234,
          1.7228524684906006,
          1.3135020732879639,
          0.8463577032089233,
          2.1512398719787598,
          1.2797380685806274,
          1.802735686302185,
          1.8580795526504517,
          1.3561686277389526,
          1.3942102193832397,
          0.8604000806808472,
          1.3887780904769897,
          1.304469108581543,
          1.7005983591079712,
          1.0428073406219482,
          1.14923095703125,
          1.8728638887405396,
          1.825250506401062,
          1.7451940774917603,
          2.0088939666748047,
          1.0317463874816895,
          1.549504041671753,
          1.4520319700241089,
          1.625748872756958,
          1.1215791702270508,
          1.605387568473816,
          1.5092755556106567,
          1.2210023403167725,
          1.8101047277450562,
          1.1616750955581665,
          1.8972175121307373,
          1.5461114645004272,
          1.4721838235855103,
          1.535451054573059,
          1.1292412281036377,
          0.8844038844108582,
          1.6276894807815552,
          1.6012251377105713,
          2.528160333633423,
          1.5665442943572998,
          1.8622592687606812,
          1.6925981044769287,
          0.9549450278282166,
          1.7286733388900757,
          1.0040662288665771,
          2.407315492630005,
          1.4415221214294434,
          1.6986124515533447,
          2.0264816284179688,
          1.8324717283248901,
          1.2061272859573364,
          1.3001567125320435,
          0.38448596000671387,
          1.7616084814071655,
          1.0878976583480835,
          1.289676547050476,
          1.5071825981140137,
          1.6721508502960205,
          1.92374849319458,
          1.9707725048065186,
          0.7956073880195618,
          1.024552345275879,
          0.9422556161880493,
          1.4888319969177246,
          1.4326356649398804,
          1.0206449031829834,
          1.0144985914230347,
          1.635451078414917,
          0.9094316363334656,
          2.4720051288604736,
          1.2191277742385864,
          1.7790882587432861,
          1.5251258611679077,
          1.4096304178237915,
          1.508422613143921,
          2.0418217182159424,
          2.4283478260040283,
          1.269471287727356,
          1.8446568250656128,
          1.236618995666504,
          2.002545118331909,
          1.8658503293991089,
          1.3656539916992188,
          1.2235435247421265,
          2.41524338722229,
          0.6847655773162842,
          1.4498623609542847,
          2.016174077987671,
          1.1887285709381104,
          1.9475740194320679,
          1.5572324991226196,
          1.307166576385498,
          1.0743913650512695,
          1.6667412519454956,
          1.1617240905761719,
          0.7402688264846802,
          2.269967794418335,
          1.4705169200897217,
          1.8796119689941406,
          2.6696298122406006,
          1.5614243745803833,
          0.5631153583526611,
          2.186061382293701,
          2.070866584777832,
          1.744701862335205,
          1.7035752534866333,
          1.6148568391799927,
          0.9645054340362549,
          1.677801251411438,
          1.6371099948883057,
          1.7721716165542603,
          1.2461843490600586,
          0.8209046125411987,
          0.8081738352775574,
          2.31514835357666,
          0.8689641952514648,
          1.6407026052474976,
          1.3930743932724,
          1.703364372253418,
          2.018057346343994,
          1.5847615003585815,
          1.132055640220642,
          1.5106821060180664,
          1.1552553176879883,
          1.174816370010376,
          1.0351061820983887,
          1.645677924156189,
          1.786026120185852,
          1.7519649267196655,
          2.1238903999328613,
          1.1833535432815552,
          1.4267139434814453,
          1.4070113897323608,
          1.9404563903808594,
          1.985291600227356,
          1.0467724800109863,
          1.5243586301803589,
          2.4617223739624023,
          1.6886975765228271,
          1.1719789505004883,
          1.3103392124176025,
          0.7087051868438721,
          1.6956349611282349,
          1.2904136180877686,
          1.1812567710876465,
          1.388736367225647,
          2.4173130989074707,
          2.2000906467437744,
          1.3399332761764526,
          2.2455532550811768,
          2.007725715637207,
          1.4401297569274902,
          1.643980622291565,
          1.6081125736236572,
          1.4832199811935425,
          1.8257513046264648,
          1.5479960441589355,
          1.4675973653793335,
          1.2349629402160645,
          1.3885173797607422,
          0.8027867674827576,
          1.7478197813034058,
          2.2931156158447266,
          0.961185872554779,
          0.8519579768180847,
          1.1004220247268677,
          1.6613110303878784,
          1.7888811826705933,
          1.8481742143630981,
          1.8995511531829834,
          1.4616972208023071,
          1.5565764904022217,
          2.0066986083984375,
          1.4485646486282349,
          1.7066479921340942,
          1.1568249464035034,
          2.174163341522217,
          1.7153420448303223,
          2.0208232402801514,
          1.6558822393417358,
          1.9953948259353638,
          1.0300110578536987,
          1.446826457977295,
          1.8288785219192505,
          1.9928607940673828,
          2.5281665325164795,
          1.8753254413604736,
          2.2580058574676514,
          1.1483030319213867,
          1.6012992858886719,
          1.19553804397583,
          1.6553045511245728,
          2.2609260082244873,
          1.353613018989563,
          1.6160348653793335,
          1.8056800365447998,
          1.953898549079895,
          1.9885280132293701,
          2.238658905029297,
          1.7569730281829834,
          1.2459003925323486,
          2.2669131755828857,
          1.3570326566696167,
          1.263480305671692,
          1.3035169839859009,
          1.4599937200546265,
          1.4628735780715942,
          1.2058145999908447,
          1.5462740659713745,
          1.6299254894256592,
          1.751542091369629,
          2.1985325813293457,
          1.992895245552063,
          2.317805767059326,
          1.663382887840271,
          1.2211781740188599,
          1.3635615110397339,
          0.7826806902885437,
          1.512856125831604,
          1.1064492464065552,
          1.571792483329773,
          1.8779062032699585,
          1.4288334846496582,
          1.5982253551483154,
          1.3156917095184326,
          1.7068636417388916,
          2.6115167140960693,
          1.798875331878662,
          1.7957834005355835,
          2.2114551067352295,
          1.1986167430877686,
          1.5483694076538086,
          1.7363591194152832,
          1.149741291999817,
          1.1705843210220337,
          1.4538757801055908,
          1.1212594509124756,
          0.9086186289787292,
          2.089350938796997,
          1.3901574611663818,
          2.579103946685791,
          1.2660000324249268,
          1.756671667098999,
          1.4564555883407593,
          1.9070966243743896,
          2.5633466243743896,
          1.297409176826477,
          2.0940325260162354,
          1.7540202140808105,
          0.9091446995735168,
          2.023268461227417,
          1.7037408351898193,
          1.0244501829147339,
          1.820866346359253,
          1.6822006702423096,
          1.5192774534225464,
          1.199937343597412,
          1.1882063150405884,
          1.040210485458374,
          1.6258659362792969,
          2.2345855236053467,
          2.0008370876312256,
          1.4449552297592163,
          1.4477633237838745,
          1.286344289779663,
          1.2707562446594238,
          1.31610906124115,
          1.749021291732788,
          1.7634315490722656,
          1.7988946437835693,
          1.5570682287216187,
          1.509527564048767,
          1.4886373281478882,
          1.5426582098007202,
          1.4615856409072876,
          0.7402688264846802,
          1.2574859857559204,
          2.5509798526763916,
          1.92484712600708,
          1.5212225914001465,
          1.6566336154937744,
          2.0652987957000732,
          1.975103497505188,
          1.3615407943725586,
          1.712277889251709,
          2.1470730304718018,
          1.7040936946868896,
          1.8071322441101074,
          1.0616819858551025,
          1.9348253011703491,
          1.4706650972366333,
          1.8300963640213013,
          1.5057450532913208,
          1.9560811519622803,
          1.465051531791687,
          1.4031623601913452,
          1.5869958400726318,
          2.6659514904022217,
          1.583511233329773,
          1.7789080142974854,
          2.232421636581421,
          2.142164707183838,
          1.2880334854125977,
          1.9430155754089355,
          2.3189616203308105,
          1.925703763961792,
          1.412782907485962,
          1.2131825685501099,
          1.191200852394104,
          2.2565672397613525,
          1.758123755455017,
          1.7135822772979736,
          1.3400944471359253,
          1.7106025218963623,
          1.9968258142471313,
          2.0634522438049316,
          1.9739876985549927,
          1.3799307346343994,
          2.333125114440918,
          1.5200188159942627,
          2.0190834999084473,
          1.6095166206359863,
          0.8651310801506042,
          1.391850233078003,
          1.3799079656600952,
          2.3538801670074463,
          1.164836049079895,
          1.4341437816619873,
          1.6414151191711426,
          1.9980757236480713,
          1.989263892173767,
          2.2575204372406006,
          2.464317798614502,
          1.3753992319107056,
          1.7696815729141235,
          1.1576123237609863,
          1.3424452543258667,
          1.5053038597106934,
          2.5233168601989746,
          2.3150670528411865,
          2.158055067062378,
          1.799889326095581,
          2.009516716003418,
          1.658860206604004,
          1.990921139717102,
          1.364068627357483,
          1.3500936031341553,
          1.2828333377838135,
          1.6308095455169678,
          1.332353949546814,
          1.4588087797164917,
          1.3873564004898071,
          1.8797528743743896,
          1.5364034175872803,
          1.5993505716323853,
          1.245154619216919,
          1.551184892654419,
          1.7872049808502197,
          1.4388662576675415,
          1.6310603618621826,
          2.3867979049682617,
          1.7854037284851074,
          2.2128570079803467,
          2.6368637084960938,
          1.684031367301941,
          1.1863086223602295,
          1.1602944135665894,
          1.3114207983016968,
          1.6064765453338623,
          1.7875144481658936,
          1.8955885171890259,
          2.0661065578460693,
          1.175233244895935,
          2.175462007522583,
          1.1352297067642212,
          1.3704488277435303,
          1.3678261041641235,
          1.8329933881759644,
          1.8099801540374756,
          1.6213712692260742,
          0.8741593360900879,
          0.9156985282897949,
          1.6280341148376465,
          0.9384716153144836,
          0.7078024744987488,
          1.3761355876922607,
          1.9109522104263306,
          1.5700063705444336,
          1.7723217010498047,
          1.845109224319458,
          0.9133762121200562,
          1.790037751197815,
          1.6540107727050781,
          1.0658553838729858,
          2.007195234298706,
          1.078904151916504,
          2.684009313583374,
          1.4163334369659424,
          1.4986618757247925,
          1.8240160942077637,
          1.6783748865127563,
          1.4999524354934692,
          1.7056090831756592,
          2.5692553520202637,
          1.666467308998108,
          1.6326289176940918,
          1.615626335144043,
          1.3375557661056519,
          1.6666185855865479,
          1.630216360092163,
          1.3106590509414673,
          1.5032776594161987,
          1.5612841844558716,
          1.975367546081543,
          2.2195968627929688,
          0.9839496612548828,
          1.0372698307037354,
          1.4559516906738281,
          2.043029546737671,
          1.1783429384231567,
          1.036371111869812,
          1.6307910680770874,
          1.6408686637878418,
          1.813417911529541,
          1.192507266998291,
          2.006068229675293,
          2.1669363975524902,
          1.7034387588500977,
          2.328183889389038,
          2.055974245071411,
          2.351006269454956,
          2.038867473602295,
          1.4544724225997925,
          1.2123435735702515,
          2.0389785766601562,
          2.138760805130005,
          1.7023310661315918,
          1.0372698307037354,
          1.2250785827636719,
          2.5834944248199463,
          0.976643979549408,
          2.1023123264312744,
          0.7402688264846802,
          2.3425865173339844,
          1.528317928314209,
          1.6712514162063599,
          1.7047113180160522,
          1.3701473474502563,
          2.6579136848449707,
          1.8179717063903809,
          1.5627228021621704,
          1.9483743906021118,
          1.8786437511444092,
          0.7402688264846802,
          1.1723287105560303,
          1.3448100090026855,
          1.8047726154327393,
          1.4722751379013062,
          1.9466809034347534,
          2.6585049629211426,
          1.456725835800171,
          1.7940644025802612,
          1.9081465005874634,
          1.0635205507278442,
          0.41008228063583374,
          0.7402688264846802,
          1.2516251802444458,
          2.416445255279541,
          2.0027644634246826,
          1.876298189163208,
          1.1994602680206299,
          1.5000418424606323,
          1.4150748252868652,
          2.7024402618408203,
          1.446653127670288,
          1.3100775480270386,
          0.8519579768180847,
          1.789724588394165,
          1.4744304418563843,
          1.3544865846633911,
          1.807730793952942,
          1.2126314640045166,
          1.0834698677062988,
          1.5718226432800293,
          2.005340814590454,
          1.3391859531402588,
          2.227447986602783,
          0.961033284664154,
          2.0418202877044678,
          1.7735675573349,
          2.3675827980041504,
          1.514866828918457,
          2.250281572341919,
          2.0222220420837402,
          1.7779773473739624,
          2.0878775119781494,
          1.7955149412155151,
          1.323492169380188,
          2.057607889175415,
          2.1474339962005615,
          1.0909539461135864,
          1.7255789041519165,
          0.903516948223114,
          1.0599066019058228,
          1.0074079036712646,
          0.9213653206825256,
          1.5218733549118042,
          1.7395873069763184,
          2.215897798538208,
          2.1062192916870117,
          1.5894016027450562,
          1.0933598279953003,
          2.0416078567504883,
          1.8363494873046875,
          1.3171160221099854,
          2.1468427181243896,
          2.8285024166107178,
          2.00472092628479,
          1.5789568424224854,
          1.70987868309021,
          1.118757963180542,
          1.9844157695770264,
          2.444777727127075,
          1.8998732566833496,
          1.6910178661346436,
          1.9354348182678223,
          1.9739502668380737,
          1.7947386503219604,
          1.2714617252349854,
          1.9058605432510376,
          1.212565302848816,
          0.948855996131897,
          1.1761714220046997,
          2.1009132862091064,
          1.2693305015563965,
          1.2761716842651367,
          1.852996826171875,
          1.7145287990570068,
          1.1850391626358032,
          1.321204662322998,
          2.5575613975524902,
          1.9924802780151367,
          1.898633599281311,
          1.6501063108444214,
          1.726943850517273,
          1.9748598337173462,
          2.7325687408447266,
          1.9350885152816772,
          1.3353934288024902,
          2.515726089477539,
          3.2025420665740967,
          1.5765300989151,
          1.1206152439117432,
          1.7776223421096802,
          2.5843143463134766,
          1.4410749673843384,
          1.921315312385559,
          1.1169503927230835,
          1.327079176902771,
          0.9922478795051575,
          1.3918261528015137,
          1.2658203840255737,
          1.935810923576355,
          0.6634446382522583,
          1.285362720489502,
          1.7874218225479126,
          1.0530561208724976,
          1.9530346393585205,
          1.5290789604187012,
          1.6230535507202148,
          1.272504448890686,
          1.3877485990524292,
          1.530360221862793,
          1.0704729557037354,
          1.7567654848098755,
          1.7788777351379395,
          0.9201712608337402,
          1.00273597240448,
          1.666703224182129,
          2.083805799484253,
          1.8035686016082764,
          1.7318438291549683,
          2.1049082279205322,
          1.782497525215149,
          2.0135116577148438,
          2.1620614528656006,
          1.6636180877685547,
          1.1613068580627441,
          2.2970786094665527,
          1.3387562036514282,
          1.8813892602920532,
          1.1449320316314697,
          1.111219882965088,
          1.7418776750564575,
          2.6775848865509033,
          1.2460428476333618,
          2.7848737239837646,
          1.6190444231033325,
          1.232962727546692,
          1.4320201873779297,
          1.3931394815444946,
          1.6829603910446167,
          0.976643979549408,
          2.2487292289733887,
          1.1291000843048096,
          1.1597093343734741,
          2.226447105407715,
          1.3674731254577637,
          1.8653843402862549,
          0.9573959708213806,
          1.2022731304168701,
          1.8371374607086182,
          2.0049469470977783,
          0.8209046125411987,
          0.9787207245826721,
          0.8813043236732483,
          1.5956230163574219,
          1.8359441757202148,
          2.339533805847168,
          2.2191386222839355,
          1.3847688436508179,
          1.3525468111038208,
          1.8525844812393188,
          0.7402688264846802,
          0.8085801601409912,
          0.8085801601409912,
          1.4794986248016357,
          0.8782111406326294,
          1.8430607318878174,
          1.9973771572113037,
          1.8122918605804443,
          1.0877137184143066,
          1.681687355041504,
          0.6634446382522583,
          2.2997639179229736,
          1.5754454135894775,
          1.8641287088394165,
          2.1034891605377197,
          1.5191913843154907,
          1.749008059501648,
          1.7058568000793457,
          2.0317256450653076,
          1.928779125213623,
          1.277284860610962,
          2.2070038318634033,
          1.8063656091690063,
          1.6210193634033203,
          1.2501839399337769,
          2.364353656768799,
          1.8346731662750244,
          2.190195083618164,
          1.2504832744598389,
          2.3166840076446533,
          1.225757122039795,
          1.7309622764587402,
          1.08633553981781,
          1.6177057027816772,
          2.140604257583618,
          2.75195574760437,
          2.107517719268799,
          0.9055958986282349,
          1.0408194065093994,
          1.8107911348342896,
          1.332571029663086,
          2.165708303451538,
          2.0564827919006348,
          2.567171573638916,
          2.211575984954834,
          0.976643979549408,
          1.373150110244751,
          1.573357343673706,
          2.539994716644287,
          1.3531239032745361,
          1.806188941001892,
          1.4907996654510498,
          2.6031744480133057,
          2.8396527767181396,
          2.0113494396209717,
          1.7648340463638306,
          1.9358521699905396,
          1.6741999387741089,
          1.9503477811813354,
          1.973580002784729,
          1.104171872138977,
          1.7886358499526978,
          1.1912193298339844,
          1.2312499284744263,
          1.5566884279251099,
          1.4844987392425537,
          1.3653093576431274,
          1.8127259016036987,
          1.5749841928482056,
          0.7402688264846802,
          1.6953380107879639,
          1.300979495048523,
          1.3071815967559814,
          1.8453947305679321,
          0.903516948223114,
          1.8775659799575806,
          1.0909533500671387,
          2.400158405303955,
          0.7386322021484375,
          1.5584138631820679,
          1.0553146600723267,
          1.2037014961242676,
          0.9537902474403381,
          1.4756956100463867,
          1.8281102180480957,
          2.166517496109009,
          2.741682291030884,
          1.69381844997406,
          1.1560264825820923,
          2.0530507564544678,
          1.3013067245483398,
          1.6618455648422241,
          0.8651310801506042,
          1.8590232133865356,
          2.1901187896728516,
          1.3314588069915771,
          1.0461584329605103,
          0.9897251725196838,
          1.806013584136963,
          2.023681879043579,
          2.1841466426849365,
          1.4818519353866577,
          1.0120736360549927,
          1.2913440465927124,
          1.8886723518371582,
          2.3668313026428223,
          1.8997066020965576,
          1.7885149717330933,
          1.2650132179260254,
          1.7789876461029053,
          1.4727599620819092,
          1.1553796529769897,
          1.1415491104125977,
          1.8770506381988525,
          0.8782111406326294,
          1.9767392873764038,
          1.7302546501159668,
          1.0963783264160156,
          1.2445664405822754,
          1.8462170362472534,
          1.8022361993789673,
          2.337768316268921,
          1.5182744264602661,
          2.0597267150878906,
          0.9312952160835266,
          2.3463857173919678,
          1.7587029933929443,
          1.2287302017211914,
          1.6327167749404907,
          1.873246669769287,
          1.1211297512054443,
          1.6152023077011108,
          1.796489953994751,
          1.1639461517333984,
          1.6468905210494995,
          1.4903771877288818,
          1.1523306369781494,
          1.0491939783096313,
          1.396011471748352,
          1.6366257667541504,
          1.3711310625076294,
          1.2101203203201294,
          1.479922890663147,
          2.647575855255127,
          1.9641389846801758,
          1.917747974395752,
          1.6080875396728516,
          1.896655797958374,
          1.9662340879440308,
          1.1622756719589233,
          1.4073857069015503,
          2.16475510597229,
          1.8378509283065796,
          1.539635181427002,
          1.6865549087524414,
          1.138693928718567,
          1.6215769052505493,
          1.360338807106018,
          1.4023624658584595,
          1.288380742073059,
          2.3824784755706787,
          2.2176361083984375,
          1.7778966426849365,
          1.7945520877838135,
          2.209324359893799,
          1.606909155845642,
          1.7608779668807983,
          1.785641074180603,
          1.4250280857086182,
          2.1885926723480225,
          1.7035325765609741,
          1.040210485458374,
          2.0435667037963867,
          1.355098009109497,
          1.432500958442688,
          1.2328001260757446,
          1.488033413887024,
          1.3778483867645264,
          1.6221917867660522,
          1.6063235998153687,
          1.6682811975479126,
          0.9573959708213806,
          1.8510620594024658,
          1.536637306213379,
          1.8016719818115234,
          1.8103667497634888,
          1.6466763019561768,
          2.8209545612335205,
          1.22501802444458,
          1.5758625268936157,
          1.6948068141937256,
          1.1322250366210938,
          1.009010672569275,
          1.7278876304626465,
          1.5069812536239624,
          2.4354569911956787,
          1.514914631843567,
          1.9840739965438843,
          1.6710319519042969,
          1.309248685836792,
          1.2554352283477783,
          2.108031988143921,
          1.3250226974487305,
          1.3931550979614258,
          1.660447120666504,
          1.694973111152649,
          1.773642659187317,
          2.3049051761627197,
          2.199842691421509,
          0.8987410664558411,
          1.35264253616333,
          2.218569755554199,
          1.8787963390350342,
          1.5016860961914062,
          1.8344900608062744,
          2.4861111640930176,
          1.7020821571350098,
          2.2678654193878174,
          1.299813151359558,
          1.0243781805038452,
          1.6574420928955078,
          1.8483867645263672,
          1.4861900806427002,
          1.461991786956787,
          1.5264885425567627,
          1.909074068069458,
          1.6008572578430176,
          1.8502273559570312,
          1.4053363800048828,
          2.660398006439209,
          2.024937868118286,
          1.8621906042099,
          1.6931469440460205,
          1.0390076637268066,
          1.8475078344345093,
          2.0843734741210938,
          1.7637882232666016,
          1.2946341037750244,
          1.1293612718582153,
          1.226509928703308,
          2.6659188270568848,
          1.9686129093170166,
          1.5847671031951904,
          2.465602159500122,
          1.4270707368850708,
          1.670348882675171,
          2.385967254638672,
          2.008723735809326,
          1.6371994018554688,
          1.619382619857788,
          1.5744506120681763,
          1.4369491338729858,
          1.487318515777588,
          1.1989625692367554,
          1.574127435684204,
          2.050637722015381,
          1.4080816507339478,
          1.4268779754638672,
          1.0857113599777222,
          1.2171152830123901,
          1.7166084051132202,
          2.6268231868743896,
          2.2721168994903564,
          1.2978640794754028,
          2.1674044132232666,
          1.468212604522705,
          1.520790934562683,
          1.7145905494689941,
          1.787555456161499,
          1.4082694053649902,
          1.3568798303604126,
          1.6483826637268066,
          2.1660683155059814,
          1.3610681295394897,
          1.4525402784347534,
          2.291776180267334,
          1.459368348121643,
          1.380387306213379,
          1.8196945190429688,
          2.3368141651153564,
          2.2285821437835693,
          2.60982346534729,
          1.224461317062378,
          1.337997317314148,
          1.649532437324524,
          2.1674509048461914,
          1.5338695049285889,
          1.6264746189117432,
          1.232525110244751,
          1.729622721672058,
          2.0215084552764893,
          1.1613291501998901,
          2.2172579765319824,
          1.3770619630813599,
          2.4634482860565186,
          1.3765443563461304,
          1.8238517045974731,
          1.6776636838912964,
          1.0196081399917603,
          1.3396412134170532,
          1.1214261054992676,
          1.4142035245895386,
          2.4447405338287354,
          1.782827615737915,
          1.9292017221450806,
          1.0593500137329102,
          1.5276061296463013,
          1.019476056098938,
          2.083906650543213,
          2.4158449172973633
         ]
        }
       ],
       "layout": {
        "font": {
         "size": 20
        },
        "paper_bgcolor": "white",
        "plot_bgcolor": "white",
        "template": {
         "data": {
          "bar": [
           {
            "error_x": {
             "color": "#2a3f5f"
            },
            "error_y": {
             "color": "#2a3f5f"
            },
            "marker": {
             "line": {
              "color": "#E5ECF6",
              "width": 0.5
             },
             "pattern": {
              "fillmode": "overlay",
              "size": 10,
              "solidity": 0.2
             }
            },
            "type": "bar"
           }
          ],
          "barpolar": [
           {
            "marker": {
             "line": {
              "color": "#E5ECF6",
              "width": 0.5
             },
             "pattern": {
              "fillmode": "overlay",
              "size": 10,
              "solidity": 0.2
             }
            },
            "type": "barpolar"
           }
          ],
          "carpet": [
           {
            "aaxis": {
             "endlinecolor": "#2a3f5f",
             "gridcolor": "white",
             "linecolor": "white",
             "minorgridcolor": "white",
             "startlinecolor": "#2a3f5f"
            },
            "baxis": {
             "endlinecolor": "#2a3f5f",
             "gridcolor": "white",
             "linecolor": "white",
             "minorgridcolor": "white",
             "startlinecolor": "#2a3f5f"
            },
            "type": "carpet"
           }
          ],
          "choropleth": [
           {
            "colorbar": {
             "outlinewidth": 0,
             "ticks": ""
            },
            "type": "choropleth"
           }
          ],
          "contour": [
           {
            "colorbar": {
             "outlinewidth": 0,
             "ticks": ""
            },
            "colorscale": [
             [
              0,
              "#0d0887"
             ],
             [
              0.1111111111111111,
              "#46039f"
             ],
             [
              0.2222222222222222,
              "#7201a8"
             ],
             [
              0.3333333333333333,
              "#9c179e"
             ],
             [
              0.4444444444444444,
              "#bd3786"
             ],
             [
              0.5555555555555556,
              "#d8576b"
             ],
             [
              0.6666666666666666,
              "#ed7953"
             ],
             [
              0.7777777777777778,
              "#fb9f3a"
             ],
             [
              0.8888888888888888,
              "#fdca26"
             ],
             [
              1,
              "#f0f921"
             ]
            ],
            "type": "contour"
           }
          ],
          "contourcarpet": [
           {
            "colorbar": {
             "outlinewidth": 0,
             "ticks": ""
            },
            "type": "contourcarpet"
           }
          ],
          "heatmap": [
           {
            "colorbar": {
             "outlinewidth": 0,
             "ticks": ""
            },
            "colorscale": [
             [
              0,
              "#0d0887"
             ],
             [
              0.1111111111111111,
              "#46039f"
             ],
             [
              0.2222222222222222,
              "#7201a8"
             ],
             [
              0.3333333333333333,
              "#9c179e"
             ],
             [
              0.4444444444444444,
              "#bd3786"
             ],
             [
              0.5555555555555556,
              "#d8576b"
             ],
             [
              0.6666666666666666,
              "#ed7953"
             ],
             [
              0.7777777777777778,
              "#fb9f3a"
             ],
             [
              0.8888888888888888,
              "#fdca26"
             ],
             [
              1,
              "#f0f921"
             ]
            ],
            "type": "heatmap"
           }
          ],
          "heatmapgl": [
           {
            "colorbar": {
             "outlinewidth": 0,
             "ticks": ""
            },
            "colorscale": [
             [
              0,
              "#0d0887"
             ],
             [
              0.1111111111111111,
              "#46039f"
             ],
             [
              0.2222222222222222,
              "#7201a8"
             ],
             [
              0.3333333333333333,
              "#9c179e"
             ],
             [
              0.4444444444444444,
              "#bd3786"
             ],
             [
              0.5555555555555556,
              "#d8576b"
             ],
             [
              0.6666666666666666,
              "#ed7953"
             ],
             [
              0.7777777777777778,
              "#fb9f3a"
             ],
             [
              0.8888888888888888,
              "#fdca26"
             ],
             [
              1,
              "#f0f921"
             ]
            ],
            "type": "heatmapgl"
           }
          ],
          "histogram": [
           {
            "marker": {
             "pattern": {
              "fillmode": "overlay",
              "size": 10,
              "solidity": 0.2
             }
            },
            "type": "histogram"
           }
          ],
          "histogram2d": [
           {
            "colorbar": {
             "outlinewidth": 0,
             "ticks": ""
            },
            "colorscale": [
             [
              0,
              "#0d0887"
             ],
             [
              0.1111111111111111,
              "#46039f"
             ],
             [
              0.2222222222222222,
              "#7201a8"
             ],
             [
              0.3333333333333333,
              "#9c179e"
             ],
             [
              0.4444444444444444,
              "#bd3786"
             ],
             [
              0.5555555555555556,
              "#d8576b"
             ],
             [
              0.6666666666666666,
              "#ed7953"
             ],
             [
              0.7777777777777778,
              "#fb9f3a"
             ],
             [
              0.8888888888888888,
              "#fdca26"
             ],
             [
              1,
              "#f0f921"
             ]
            ],
            "type": "histogram2d"
           }
          ],
          "histogram2dcontour": [
           {
            "colorbar": {
             "outlinewidth": 0,
             "ticks": ""
            },
            "colorscale": [
             [
              0,
              "#0d0887"
             ],
             [
              0.1111111111111111,
              "#46039f"
             ],
             [
              0.2222222222222222,
              "#7201a8"
             ],
             [
              0.3333333333333333,
              "#9c179e"
             ],
             [
              0.4444444444444444,
              "#bd3786"
             ],
             [
              0.5555555555555556,
              "#d8576b"
             ],
             [
              0.6666666666666666,
              "#ed7953"
             ],
             [
              0.7777777777777778,
              "#fb9f3a"
             ],
             [
              0.8888888888888888,
              "#fdca26"
             ],
             [
              1,
              "#f0f921"
             ]
            ],
            "type": "histogram2dcontour"
           }
          ],
          "mesh3d": [
           {
            "colorbar": {
             "outlinewidth": 0,
             "ticks": ""
            },
            "type": "mesh3d"
           }
          ],
          "parcoords": [
           {
            "line": {
             "colorbar": {
              "outlinewidth": 0,
              "ticks": ""
             }
            },
            "type": "parcoords"
           }
          ],
          "pie": [
           {
            "automargin": true,
            "type": "pie"
           }
          ],
          "scatter": [
           {
            "fillpattern": {
             "fillmode": "overlay",
             "size": 10,
             "solidity": 0.2
            },
            "type": "scatter"
           }
          ],
          "scatter3d": [
           {
            "line": {
             "colorbar": {
              "outlinewidth": 0,
              "ticks": ""
             }
            },
            "marker": {
             "colorbar": {
              "outlinewidth": 0,
              "ticks": ""
             }
            },
            "type": "scatter3d"
           }
          ],
          "scattercarpet": [
           {
            "marker": {
             "colorbar": {
              "outlinewidth": 0,
              "ticks": ""
             }
            },
            "type": "scattercarpet"
           }
          ],
          "scattergeo": [
           {
            "marker": {
             "colorbar": {
              "outlinewidth": 0,
              "ticks": ""
             }
            },
            "type": "scattergeo"
           }
          ],
          "scattergl": [
           {
            "marker": {
             "colorbar": {
              "outlinewidth": 0,
              "ticks": ""
             }
            },
            "type": "scattergl"
           }
          ],
          "scattermapbox": [
           {
            "marker": {
             "colorbar": {
              "outlinewidth": 0,
              "ticks": ""
             }
            },
            "type": "scattermapbox"
           }
          ],
          "scatterpolar": [
           {
            "marker": {
             "colorbar": {
              "outlinewidth": 0,
              "ticks": ""
             }
            },
            "type": "scatterpolar"
           }
          ],
          "scatterpolargl": [
           {
            "marker": {
             "colorbar": {
              "outlinewidth": 0,
              "ticks": ""
             }
            },
            "type": "scatterpolargl"
           }
          ],
          "scatterternary": [
           {
            "marker": {
             "colorbar": {
              "outlinewidth": 0,
              "ticks": ""
             }
            },
            "type": "scatterternary"
           }
          ],
          "surface": [
           {
            "colorbar": {
             "outlinewidth": 0,
             "ticks": ""
            },
            "colorscale": [
             [
              0,
              "#0d0887"
             ],
             [
              0.1111111111111111,
              "#46039f"
             ],
             [
              0.2222222222222222,
              "#7201a8"
             ],
             [
              0.3333333333333333,
              "#9c179e"
             ],
             [
              0.4444444444444444,
              "#bd3786"
             ],
             [
              0.5555555555555556,
              "#d8576b"
             ],
             [
              0.6666666666666666,
              "#ed7953"
             ],
             [
              0.7777777777777778,
              "#fb9f3a"
             ],
             [
              0.8888888888888888,
              "#fdca26"
             ],
             [
              1,
              "#f0f921"
             ]
            ],
            "type": "surface"
           }
          ],
          "table": [
           {
            "cells": {
             "fill": {
              "color": "#EBF0F8"
             },
             "line": {
              "color": "white"
             }
            },
            "header": {
             "fill": {
              "color": "#C8D4E3"
             },
             "line": {
              "color": "white"
             }
            },
            "type": "table"
           }
          ]
         },
         "layout": {
          "annotationdefaults": {
           "arrowcolor": "#2a3f5f",
           "arrowhead": 0,
           "arrowwidth": 1
          },
          "autotypenumbers": "strict",
          "coloraxis": {
           "colorbar": {
            "outlinewidth": 0,
            "ticks": ""
           }
          },
          "colorscale": {
           "diverging": [
            [
             0,
             "#8e0152"
            ],
            [
             0.1,
             "#c51b7d"
            ],
            [
             0.2,
             "#de77ae"
            ],
            [
             0.3,
             "#f1b6da"
            ],
            [
             0.4,
             "#fde0ef"
            ],
            [
             0.5,
             "#f7f7f7"
            ],
            [
             0.6,
             "#e6f5d0"
            ],
            [
             0.7,
             "#b8e186"
            ],
            [
             0.8,
             "#7fbc41"
            ],
            [
             0.9,
             "#4d9221"
            ],
            [
             1,
             "#276419"
            ]
           ],
           "sequential": [
            [
             0,
             "#0d0887"
            ],
            [
             0.1111111111111111,
             "#46039f"
            ],
            [
             0.2222222222222222,
             "#7201a8"
            ],
            [
             0.3333333333333333,
             "#9c179e"
            ],
            [
             0.4444444444444444,
             "#bd3786"
            ],
            [
             0.5555555555555556,
             "#d8576b"
            ],
            [
             0.6666666666666666,
             "#ed7953"
            ],
            [
             0.7777777777777778,
             "#fb9f3a"
            ],
            [
             0.8888888888888888,
             "#fdca26"
            ],
            [
             1,
             "#f0f921"
            ]
           ],
           "sequentialminus": [
            [
             0,
             "#0d0887"
            ],
            [
             0.1111111111111111,
             "#46039f"
            ],
            [
             0.2222222222222222,
             "#7201a8"
            ],
            [
             0.3333333333333333,
             "#9c179e"
            ],
            [
             0.4444444444444444,
             "#bd3786"
            ],
            [
             0.5555555555555556,
             "#d8576b"
            ],
            [
             0.6666666666666666,
             "#ed7953"
            ],
            [
             0.7777777777777778,
             "#fb9f3a"
            ],
            [
             0.8888888888888888,
             "#fdca26"
            ],
            [
             1,
             "#f0f921"
            ]
           ]
          },
          "colorway": [
           "#636efa",
           "#EF553B",
           "#00cc96",
           "#ab63fa",
           "#FFA15A",
           "#19d3f3",
           "#FF6692",
           "#B6E880",
           "#FF97FF",
           "#FECB52"
          ],
          "font": {
           "color": "#2a3f5f"
          },
          "geo": {
           "bgcolor": "white",
           "lakecolor": "white",
           "landcolor": "#E5ECF6",
           "showlakes": true,
           "showland": true,
           "subunitcolor": "white"
          },
          "hoverlabel": {
           "align": "left"
          },
          "hovermode": "closest",
          "mapbox": {
           "style": "light"
          },
          "paper_bgcolor": "white",
          "plot_bgcolor": "#E5ECF6",
          "polar": {
           "angularaxis": {
            "gridcolor": "white",
            "linecolor": "white",
            "ticks": ""
           },
           "bgcolor": "#E5ECF6",
           "radialaxis": {
            "gridcolor": "white",
            "linecolor": "white",
            "ticks": ""
           }
          },
          "scene": {
           "xaxis": {
            "backgroundcolor": "#E5ECF6",
            "gridcolor": "white",
            "gridwidth": 2,
            "linecolor": "white",
            "showbackground": true,
            "ticks": "",
            "zerolinecolor": "white"
           },
           "yaxis": {
            "backgroundcolor": "#E5ECF6",
            "gridcolor": "white",
            "gridwidth": 2,
            "linecolor": "white",
            "showbackground": true,
            "ticks": "",
            "zerolinecolor": "white"
           },
           "zaxis": {
            "backgroundcolor": "#E5ECF6",
            "gridcolor": "white",
            "gridwidth": 2,
            "linecolor": "white",
            "showbackground": true,
            "ticks": "",
            "zerolinecolor": "white"
           }
          },
          "shapedefaults": {
           "line": {
            "color": "#2a3f5f"
           }
          },
          "ternary": {
           "aaxis": {
            "gridcolor": "white",
            "linecolor": "white",
            "ticks": ""
           },
           "baxis": {
            "gridcolor": "white",
            "linecolor": "white",
            "ticks": ""
           },
           "bgcolor": "#E5ECF6",
           "caxis": {
            "gridcolor": "white",
            "linecolor": "white",
            "ticks": ""
           }
          },
          "title": {
           "x": 0.05
          },
          "xaxis": {
           "automargin": true,
           "gridcolor": "white",
           "linecolor": "white",
           "ticks": "",
           "title": {
            "standoff": 15
           },
           "zerolinecolor": "white",
           "zerolinewidth": 2
          },
          "yaxis": {
           "automargin": true,
           "gridcolor": "white",
           "linecolor": "white",
           "ticks": "",
           "title": {
            "standoff": 15
           },
           "zerolinecolor": "white",
           "zerolinewidth": 2
          }
         }
        },
        "title": {
         "text": "Distribution of Nuclear Norm of Node Explain Matrix"
        },
        "xaxis": {
         "title": {
          "text": "Nuclear Norm"
         }
        },
        "yaxis": {
         "title": {
          "text": "Frequency"
         }
        }
       }
      },
      "text/html": [
       "<div>                            <div id=\"78032137-9e23-431e-968a-ab8d5ec282c4\" class=\"plotly-graph-div\" style=\"height:525px; width:100%;\"></div>            <script type=\"text/javascript\">                require([\"plotly\"], function(Plotly) {                    window.PLOTLYENV=window.PLOTLYENV || {};                                    if (document.getElementById(\"78032137-9e23-431e-968a-ab8d5ec282c4\")) {                    Plotly.newPlot(                        \"78032137-9e23-431e-968a-ab8d5ec282c4\",                        [{\"name\":\"DGI SF\",\"x\":[1.8877960443496704,2.3771867752075195,2.181927442550659,1.2975387573242188,0.983001172542572,2.13470721244812,1.9850575923919678,1.5982666015625,2.2943785190582275,0.887488842010498,1.9987034797668457,2.1818606853485107,1.4520541429519653,1.3503782749176025,1.5498989820480347,1.099545955657959,2.530414342880249,0.8404550552368164,1.8731210231781006,1.4162399768829346,2.275381565093994,1.2094566822052002,1.0953822135925293,1.794631838798523,0.8836157321929932,2.5606634616851807,0.8226915001869202,0.9463765621185303,0.7763193249702454,1.8492220640182495,1.8031368255615234,1.1884206533432007,1.8637961149215698,1.952505350112915,2.1628546714782715,2.6122002601623535,1.3023719787597656,1.4655587673187256,1.2538988590240479,2.2136354446411133,1.1557585000991821,1.8528841733932495,2.134678602218628,1.137406826019287,0.807239830493927,1.257845401763916,0.8488876819610596,2.455479860305786,1.5726226568222046,0.9995518326759338,0.9796568155288696,1.2725600004196167,1.6788463592529297,2.1892852783203125,0.6641671061515808,1.3876054286956787,2.078561782836914,1.3832831382751465,0.9648930430412292,1.1105308532714844,1.1796258687973022,2.371114730834961,1.241772174835205,0.9663138389587402,1.8459874391555786,0.8320484757423401,1.5138630867004395,1.2353922128677368,1.9275562763214111,0.45267951488494873,1.1464462280273438,1.406484842300415,1.948311686515808,1.36181640625,1.428248405456543,1.6776268482208252,1.9251881837844849,0.36098235845565796,2.1041412353515625,1.4899834394454956,2.2771356105804443,2.02724027633667,2.3622548580169678,0.8692845702171326,2.1244900226593018,2.347904920578003,0.9882916808128357,1.8840833902359009,1.3661195039749146,2.4201085567474365,1.1658241748809814,1.7579606771469116,0.9380050301551819,1.1415709257125854,0.9889784455299377,1.9376020431518555,1.5020220279693604,1.0914490222930908,1.7580313682556152,1.8524779081344604,2.4398295879364014,1.5503076314926147,2.8439688682556152,1.9499152898788452,1.7073814868927002,0.6350170969963074,2.4116623401641846,2.14937162399292,1.4371976852416992,2.0032801628112793,1.3661236763000488,2.176140308380127,1.7469086647033691,1.8739964962005615,1.2655011415481567,1.321218490600586,1.6896549463272095,1.1854822635650635,1.154252052307129,1.3062744140625,1.366420865058899,0.9476655125617981,1.5101335048675537,1.188867211341858,1.2359678745269775,1.3938286304473877,1.5308188199996948,1.7508465051651,1.6857022047042847,1.025482177734375,1.3838825225830078,2.2704591751098633,2.0416014194488525,2.0468738079071045,1.3501094579696655,1.5369657278060913,0.9233967661857605,1.0616050958633423,2.0305564403533936,2.227916955947876,2.501588821411133,1.7662700414657593,1.262441635131836,1.5402473211288452,1.2001551389694214,1.949406385421753,2.1411235332489014,2.3485541343688965,1.2124512195587158,1.9478877782821655,1.726169466972351,1.4859542846679688,1.835204005241394,1.8067677021026611,1.035779356956482,1.6791768074035645,1.3446986675262451,0.37126022577285767,2.1230971813201904,2.332423448562622,0.6898777484893799,1.9142796993255615,1.8195387125015259,2.152017116546631,1.513302206993103,1.2602002620697021,1.6054584980010986,1.1056139469146729,1.4968996047973633,0.5528624653816223,2.335404634475708,1.7924659252166748,1.4444494247436523,1.6897516250610352,1.350662112236023,1.8532999753952026,2.261164903640747,1.417269229888916,2.216315984725952,1.523425817489624,1.7300556898117065,1.3333361148834229,2.3317744731903076,1.7575912475585938,2.145899772644043,0.9738510847091675,1.7367771863937378,1.9481045007705688,2.689992904663086,1.2804360389709473,1.610952615737915,2.2900800704956055,1.5438497066497803,1.5532786846160889,2.4059934616088867,2.122476100921631,1.7375622987747192,1.5696816444396973,2.2837886810302734,1.3457196950912476,2.5581717491149902,0.8806105852127075,1.1128414869308472,2.175949811935425,1.8883970975875854,1.043594479560852,1.8875975608825684,2.1359481811523438,1.3063969612121582,1.801811933517456,1.7583340406417847,1.4114205837249756,1.262865662574768,1.156859278678894,1.5684516429901123,1.2437189817428589,1.5880485773086548,1.3092550039291382,0.7772161364555359,1.6350027322769165,1.9500811100006104,1.4410439729690552,1.537648320198059,1.1688244342803955,2.5271058082580566,2.1399073600769043,2.51115083694458,2.1681125164031982,1.3361825942993164,1.3002362251281738,1.8460911512374878,2.2441818714141846,1.2711206674575806,2.292933940887451,1.824897050857544,1.3578697443008423,2.121213674545288,1.611594319343567,1.9590346813201904,2.537633180618286,2.7733306884765625,2.8644800186157227,2.2650437355041504,1.3226217031478882,1.9839324951171875,2.4276418685913086,1.9153790473937988,2.668684244155884,1.2368189096450806,1.831283688545227,1.5054091215133667,1.8744324445724487,2.759263038635254,2.0439934730529785,2.3519551753997803,1.4487738609313965,1.3290308713912964,2.506521701812744,1.6939717531204224,2.14634370803833,2.1448757648468018,1.6758297681808472,1.5766520500183105,1.0053929090499878,2.043391227722168,1.819621205329895,2.2609283924102783,1.545453429222107,1.7456870079040527,1.9888375997543335,2.7608964443206787,2.3246161937713623,2.3762502670288086,1.079650640487671,1.8145105838775635,1.9555561542510986,2.143282890319824,1.2926424741744995,2.13991117477417,1.8406975269317627,1.7191827297210693,2.2394232749938965,1.5008069276809692,2.0793333053588867,2.352783441543579,2.1427767276763916,1.9877781867980957,1.3695439100265503,1.2209358215332031,2.0887694358825684,2.037173271179199,2.8028790950775146,2.2320518493652344,2.4477670192718506,2.0727522373199463,1.3809398412704468,1.9040186405181885,1.475848913192749,2.3664774894714355,2.011033535003662,2.2489278316497803,2.5192513465881348,2.464557409286499,1.7132840156555176,1.7531490325927734,0.39186304807662964,2.0474841594696045,1.216336965560913,1.5236979722976685,2.012418746948242,1.8961762189865112,2.3385109901428223,2.287524700164795,1.0397005081176758,1.7103365659713745,1.0826606750488281,1.6905064582824707,1.7438583374023438,1.1980589628219604,1.3753679990768433,2.07564377784729,1.4776655435562134,2.479689836502075,1.8444918394088745,2.1372227668762207,2.040742874145508,1.8673264980316162,1.7010934352874756,2.285540819168091,2.5236072540283203,1.938718557357788,2.64674711227417,1.5901249647140503,2.9696521759033203,2.4810473918914795,1.6085511445999146,1.2025402784347534,2.5185980796813965,0.968466579914093,1.9512336254119873,2.3287851810455322,2.0090725421905518,2.5500595569610596,2.0329456329345703,1.5255725383758545,1.4108903408050537,2.306767702102661,1.7057393789291382,1.0698179006576538,2.5572667121887207,2.3046092987060547,2.6349663734436035,2.5015995502471924,2.2339868545532227,0.8384458422660828,2.800710916519165,2.406818389892578,2.238487482070923,2.1631276607513428,2.187692403793335,1.3564623594284058,1.1901201009750366,1.879144549369812,2.109438896179199,1.7390490770339966,1.3345518112182617,1.2756839990615845,2.7146079540252686,1.9260631799697876,2.142254114151001,2.216381549835205,2.628753185272217,2.263023614883423,2.0636305809020996,1.4804869890213013,2.2396318912506104,1.716821312904358,1.5158655643463135,0.9787014126777649,2.17567777633667,1.8673702478408813,2.2714412212371826,2.6904807090759277,1.639316439628601,1.7887567281723022,1.7358942031860352,2.794645309448242,2.4468350410461426,1.470015048980713,1.8818962574005127,2.405895233154297,2.162872314453125,1.5057239532470703,1.6047353744506836,0.808144748210907,2.2180614471435547,1.574811577796936,1.6686985492706299,1.69344162940979,2.4913201332092285,2.626493453979492,1.6517525911331177,2.6837258338928223,2.7620627880096436,1.44870924949646,2.300548553466797,2.231132745742798,2.0061349868774414,2.2903378009796143,2.157588005065918,1.632635235786438,1.4352586269378662,2.000793695449829,1.1132582426071167,2.1091456413269043,2.30668568611145,1.2334436178207397,1.3634673357009888,1.3662198781967163,1.844375491142273,2.230820417404175,2.4021084308624268,2.359938144683838,1.6136587858200073,2.6077630519866943,2.3249144554138184,2.6571664810180664,2.047600746154785,1.5074818134307861,2.46170973777771,1.9676899909973145,2.6059324741363525,2.2081964015960693,2.228147029876709,1.4950025081634521,2.173614740371704,1.9299360513687134,2.4704315662384033,2.8580522537231445,2.345229387283325,2.5245795249938965,1.3888120651245117,1.7640420198440552,1.6838771104812622,2.15686297416687,2.5106356143951416,1.6913461685180664,2.196718692779541,2.2600438594818115,2.387580394744873,2.3998124599456787,2.7674717903137207,2.410942554473877,1.5315018892288208,2.7113583087921143,1.9214826822280884,1.5299969911575317,1.530927062034607,1.8903083801269531,2.0404155254364014,1.7303675413131714,1.9503875970840454,2.3382551670074463,1.877934455871582,2.2117528915405273,2.115926504135132,2.5481526851654053,1.9711651802062988,1.4790873527526855,1.7498083114624023,1.1931848526000977,1.8082705736160278,1.3607083559036255,1.8473219871520996,2.3211207389831543,1.7577985525131226,1.9577538967132568,1.9335169792175293,2.2362046241760254,2.4567275047302246,2.239117383956909,1.8747981786727905,2.3551950454711914,1.6209453344345093,1.9147710800170898,2.2853314876556396,1.6517890691757202,1.3707077503204346,1.8669373989105225,1.5430775880813599,1.1932231187820435,2.862971067428589,2.1196746826171875,2.475111722946167,1.2870056629180908,2.1895010471343994,1.7307543754577637,2.2805304527282715,2.6180238723754883,1.894152283668518,2.453293800354004,2.4223544597625732,1.1575827598571777,2.3907783031463623,1.9376176595687866,1.2421491146087646,2.4337823390960693,2.5090808868408203,2.119847059249878,1.8611416816711426,1.8180502653121948,1.34943425655365,2.003755569458008,2.667135238647461,2.267037868499756,1.602076768875122,1.837230920791626,1.6284403800964355,1.4844609498977661,1.5556259155273438,2.478670835494995,2.148975372314453,2.245499849319458,2.007383108139038,2.1359996795654297,1.7366124391555786,2.3107223510742188,1.6881369352340698,1.0698179006576538,1.6565518379211426,2.317531108856201,2.3598616123199463,1.8259578943252563,2.094172239303589,2.094031572341919,1.996347188949585,1.5997930765151978,2.130504846572876,2.8086533546447754,2.4183967113494873,2.3929107189178467,1.829731822013855,2.2871739864349365,1.7681605815887451,2.5291383266448975,1.8244225978851318,2.07564377784729,2.322824239730835,1.773006796836853,2.006816864013672,3.2774176597595215,2.0907750129699707,2.274698495864868,2.443880081176758,2.2213165760040283,1.8700391054153442,2.06007981300354,3.0032105445861816,2.912501096725464,1.7047877311706543,1.4327366352081299,1.5001401901245117,2.9975991249084473,2.318035125732422,1.856316328048706,1.4964710474014282,2.2614872455596924,2.3878211975097656,2.3763370513916016,2.5161283016204834,1.6143840551376343,2.6069488525390625,1.875108242034912,2.3928747177124023,2.2012600898742676,1.2235177755355835,2.0616326332092285,1.6434067487716675,2.119795799255371,1.4639755487442017,2.4678192138671875,2.0451130867004395,2.2507667541503906,2.5400326251983643,2.7840728759765625,2.8163442611694336,1.6985684633255005,1.8841716051101685,1.5066901445388794,2.1365253925323486,2.0957090854644775,2.759263038635254,3.1059982776641846,2.6380765438079834,2.5710952281951904,2.296146869659424,2.0198862552642822,2.07564377784729,2.5189146995544434,1.5621823072433472,1.5401960611343384,1.9912923574447632,1.6756305694580078,1.8825844526290894,1.7311753034591675,2.070481777191162,2.437072992324829,2.5672664642333984,1.4576197862625122,1.7789454460144043,1.9304331541061401,1.8941965103149414,1.7878488302230835,2.827099323272705,2.0993287563323975,2.712857961654663,2.944420576095581,2.146514654159546,1.6474741697311401,1.7497533559799194,2.264971971511841,1.9156239032745361,2.452518939971924,2.2568864822387695,2.4278512001037598,1.6825852394104004,2.682952642440796,1.4641772508621216,1.4044862985610962,2.104886531829834,2.726203203201294,2.012592077255249,2.4844970703125,1.276096224784851,1.321937084197998,2.047210693359375,1.3653762340545654,1.1689859628677368,1.9358210563659668,2.3616392612457275,1.8494508266448975,2.384678840637207,2.0580852031707764,1.4982104301452637,2.3453288078308105,2.190885543823242,1.3217222690582275,2.1811928749084473,1.4508553743362427,2.598015069961548,1.7772023677825928,1.7219936847686768,2.862971067428589,2.163233757019043,1.8531569242477417,2.1452603340148926,2.954742193222046,2.1253397464752197,2.3904147148132324,1.8355859518051147,1.8729684352874756,2.50042462348938,1.908248782157898,1.7703036069869995,2.129809617996216,1.9217839241027832,2.4357059001922607,2.800710916519165,1.5761523246765137,1.5928881168365479,1.7030895948410034,2.1475157737731934,1.4642233848571777,1.2480219602584839,1.804917335510254,1.9773507118225098,2.162177085876465,1.5876226425170898,2.320382833480835,2.6562840938568115,2.4638772010803223,2.50116229057312,2.319671154022217,2.4637489318847656,2.26596736907959,1.7060279846191406,1.513131022453308,2.585838794708252,2.660409450531006,2.175157070159912,1.5928881168365479,1.5659998655319214,3.0778942108154297,1.2243295907974243,2.347001552581787,1.0698179006576538,2.2642672061920166,2.0080060958862305,2.3222527503967285,2.5410406589508057,1.73517906665802,2.663013219833374,2.3033041954040527,1.9037154912948608,2.171060085296631,2.4566516876220703,1.0698179006576538,1.6535038948059082,1.8700391054153442,2.373178482055664,2.5442516803741455,1.9102922677993774,2.7288379669189453,2.3252601623535156,2.0305564403533936,2.010920763015747,1.524274468421936,0.7545591592788696,1.0698179006576538,1.691319227218628,2.724118709564209,1.9844001531600952,2.426487684249878,1.8302688598632812,2.107456684112549,1.8700391054153442,2.904726982116699,2.0141658782958984,1.5629218816757202,1.3634673357009888,2.483032464981079,1.8886641263961792,2.0674800872802734,2.0735599994659424,1.440089464187622,1.8722331523895264,2.1050848960876465,2.0628244876861572,1.818657636642456,2.560563802719116,1.357872486114502,2.07564377784729,2.04829478263855,2.7906100749969482,2.0329315662384033,2.126626491546631,2.4835338592529297,2.4956979751586914,2.369664430618286,2.217878818511963,2.2724368572235107,2.568902015686035,2.9629993438720703,1.8186191320419312,2.3959717750549316,1.3624541759490967,1.5449082851409912,1.5451685190200806,1.4091628789901733,1.8841716051101685,2.133711338043213,2.549204111099243,2.643524169921875,2.161877393722534,2.0236096382141113,2.7753312587738037,1.9967107772827148,1.753355860710144,2.615920066833496,3.0858333110809326,2.229783773422241,1.8057550191879272,2.5215914249420166,1.8380464315414429,2.061000108718872,3.1726534366607666,2.034468412399292,1.8683209419250488,2.315687656402588,2.577051877975464,2.4310526847839355,1.779662013053894,2.551384449005127,1.8047610521316528,1.4986331462860107,2.0236096382141113,2.223325729370117,2.215571641921997,2.038477659225464,2.3347861766815186,2.3023314476013184,1.8873177766799927,2.1257779598236084,2.3040051460266113,2.467329740524292,2.6202659606933594,1.9384146928787231,2.185615301132202,2.251462459564209,2.827099323272705,2.07564377784729,2.2512636184692383,2.9181253910064697,3.3159825801849365,1.8051252365112305,1.691779375076294,2.080299139022827,2.949948787689209,1.6249409914016724,2.362867593765259,1.5122241973876953,1.9019160270690918,1.6639578342437744,1.7699875831604004,1.7515242099761963,2.5555741786956787,1.1322108507156372,1.831061840057373,2.44210147857666,1.4114207029342651,2.559723377227783,2.016535997390747,1.842913031578064,1.4662954807281494,1.8667075634002686,2.308622121810913,1.4316983222961426,2.7755632400512695,1.8557980060577393,1.5070282220840454,1.6396870613098145,1.9210169315338135,2.759263038635254,2.4858975410461426,1.9872359037399292,2.6657676696777344,2.1811928749084473,2.7187113761901855,2.407954216003418,2.30448579788208,1.6751459836959839,2.3826401233673096,1.7079071998596191,2.9618401527404785,1.807220697402954,1.7700080871582031,2.0305564403533936,2.918358325958252,1.4679174423217773,2.229857921600342,2.3920178413391113,1.8869593143463135,2.1155576705932617,2.047837257385254,2.7687740325927734,1.2243295907974243,2.524468421936035,2.185168981552124,1.9222385883331299,2.6868093013763428,1.9768097400665283,2.525547981262207,1.2821546792984009,2.0848681926727295,1.9107418060302734,2.4529154300689697,1.3345518112182617,1.6621135473251343,1.391650676727295,1.9377070665359497,2.04829478263855,2.6364493370056152,2.862971067428589,2.4322307109832764,2.404043197631836,2.2159879207611084,1.0698179006576538,1.2743453979492188,1.2743453979492188,2.057948112487793,1.4077845811843872,2.0774006843566895,2.07564377784729,2.3822731971740723,1.8991271257400513,2.04829478263855,1.1322108507156372,2.759263038635254,2.3575453758239746,2.8342478275299072,2.832097053527832,2.070481777191162,1.8507769107818604,2.854482412338257,2.446744680404663,1.9198243618011475,1.6779217720031738,2.5862796306610107,2.6845791339874268,2.335573673248291,1.6241554021835327,2.4531126022338867,2.4611663818359375,2.766798734664917,2.360828399658203,2.6152126789093018,1.7260353565216064,2.109539270401001,1.641689658164978,2.5599703788757324,2.903932809829712,3.041029214859009,2.643524169921875,1.4110054969787598,2.0335278511047363,2.264615535736084,2.491835832595825,2.497576951980591,2.010920763015747,2.759263038635254,2.3973770141601562,1.2243295907974243,2.2341108322143555,2.04829478263855,2.5427870750427246,2.2551748752593994,2.3007447719573975,2.322824239730835,3.2803337574005127,2.759263038635254,2.278747797012329,2.288794994354248,2.3343911170959473,2.3776631355285645,2.451502561569214,2.8145945072174072,1.7844836711883545,2.0474236011505127,1.6344940662384033,1.6349653005599976,1.9032211303710938,1.9032211303710938,1.9952586889266968,2.07564377784729,1.9542663097381592,1.0698179006576538,2.342958450317383,1.9582725763320923,1.8570326566696167,1.9865548610687256,1.3624541759490967,2.4032363891601562,1.807220697402954,2.6086807250976562,1.0580823421478271,1.8072608709335327,1.495962381362915,2.3794872760772705,1.4783538579940796,2.478745698928833,1.963301181793213,3.018205404281616,3.2010955810546875,2.182133436203003,1.574980616569519,1.9757055044174194,1.7525427341461182,2.183281183242798,1.2235177755355835,2.83296275138855,2.0563502311706543,2.2418694496154785,1.189134955406189,1.0947517156600952,1.8084408044815063,2.0760371685028076,2.759263038635254,2.401038885116577,1.5487650632858276,1.8650915622711182,2.88218092918396,2.827099323272705,2.3863930702209473,2.04829478263855,1.8151135444641113,2.197209119796753,1.9331390857696533,1.5412232875823975,1.6263039112091064,2.010920763015747,1.4077845811843872,2.5183138847351074,2.04829478263855,1.389723300933838,2.4170875549316406,2.0055530071258545,1.9576215744018555,2.07564377784729,1.7281934022903442,1.9967107772827148,1.4989497661590576,2.07564377784729,2.2142343521118164,1.6898736953735352,2.0674800872802734,1.9936569929122925,1.584864854812622,2.3521196842193604,2.7687740325927734,1.7672003507614136,2.2192275524139404,2.1696572303771973,1.918815016746521,1.6547032594680786,1.6757862567901611,2.04829478263855,1.6814546585083008,1.8007327318191528,2.183281183242798,2.800710916519165,2.750840425491333,1.9374613761901855,2.3252804279327393,2.3343911170959473,2.0300021171569824,1.811974048614502,2.31992506980896,2.2246060371398926,2.117201566696167,2.256772041320801,2.2912168502807617,1.5423318147659302,2.5613512992858887,2.3185040950775146,2.2218470573425293,1.7669975757598877,2.827099323272705,2.4748284816741943,2.2325046062469482,1.8552154302597046,1.9957575798034668,2.3023314476013184,1.9503875970840454,2.070481777191162,2.683182954788208,2.090160608291626,1.9106197357177734,1.34943425655365,2.862971067428589,2.620741605758667,2.2632291316986084,2.2211689949035645,2.401038885116577,2.044207811355591,1.934460997581482,2.256840705871582,1.9032211303710938,1.2821546792984009,2.1811928749084473,1.8930745124816895,2.27370023727417,1.9783884286880493,2.308622121810913,2.4704883098602295,2.3263840675354004,2.4006431102752686,2.5517168045043945,2.1894168853759766,2.084235191345215,2.07564377784729,1.8107877969741821,2.643524169921875,1.8718222379684448,2.070481777191162,2.0489070415496826,1.9582778215408325,2.3203325271606445,2.643524169921875,1.6917104721069336,2.3760790824890137,1.9898003339767456,2.621565341949463,1.8987325429916382,2.643524169921875,2.492563247680664,1.7978843450546265,1.9952586889266968,2.800710916519165,1.930403709411621,2.3940954208374023,2.070481777191162,2.759263038635254,2.825429916381836,2.759263038635254,1.422338604927063,1.189134955406189,2.7805323600769043,1.9213979244232178,2.0489070415496826,1.9032211303710938,2.308622121810913,2.070481777191162,2.429560661315918,2.2778987884521484,1.8811864852905273,2.759263038635254,2.7687740325927734,2.640181303024292,1.8313348293304443,1.418782353401184,1.9967107772827148,2.940573215484619,2.1811928749084473,2.361842393875122,2.3268377780914307,1.8587501049041748,2.759263038635254,2.0559465885162354,2.429560661315918,2.800710916519165,2.0540771484375,2.4393739700317383,2.9904041290283203,2.07564377784729,2.04829478263855,2.288794994354248,2.177541971206665,2.3141088485717773,2.295490264892578,2.1613259315490723,2.04829478263855,2.229234218597412,2.078280448913574,1.9013631343841553,1.5224899053573608,2.3553178310394287,2.2778987884521484,2.969428539276123,2.07564377784729,2.2617440223693848,2.643524169921875,2.2551748752593994,2.1811928749084473,1.913151502609253,2.04829478263855,2.3685007095336914,1.8763859272003174,2.3521196842193604,2.643524169921875,2.401038885116577,1.852118730545044,3.087627410888672,2.2632291316986084,2.3171303272247314,2.070481777191162,2.643524169921875,2.643524169921875,2.759263038635254,2.2791783809661865,1.9563440084457397,2.401038885116577,3.087627410888672,2.0540771484375,2.3521196842193604,2.599278450012207,2.04829478263855,1.9967107772827148,1.517417311668396,2.759263038635254,2.3940954208374023,2.800710916519165,2.4006431102752686,2.04829478263855,2.016535997390747,1.847753882408142,2.12906813621521,1.98529052734375,2.349797487258911,2.759263038635254,2.070481777191162,2.04829478263855,2.185168981552124,1.8337098360061646,1.9514009952545166,2.643524169921875,2.643524169921875],\"type\":\"histogram\"},{\"name\":\"DGI+XM\",\"x\":[0.26810523867607117,0.32634612917900085,0.3361257314682007,0.30374717712402344,0.2902906537055969,0.30843597650527954,0.3376046121120453,0.36196500062942505,0.3233901560306549,0.28824329376220703,0.3372560739517212,0.32128992676734924,0.30732932686805725,0.3010461628437042,0.2946426570415497,0.28543874621391296,0.3470950722694397,0.29379311203956604,0.3212875425815582,0.3132208585739136,0.3594713509082794,0.3063984513282776,0.31450462341308594,0.37624654173851013,0.2959376573562622,0.3245633840560913,0.2760811150074005,0.2865162789821625,0.280374675989151,0.4054803252220154,0.4168483018875122,0.30455636978149414,0.32291558384895325,0.32004979252815247,0.3357701599597931,0.3649352490901947,0.3267199993133545,0.305920273065567,0.30045628547668457,0.2792721390724182,0.3077443242073059,0.2961093485355377,0.3172227442264557,0.3016577363014221,0.30464744567871094,0.3178509771823883,0.277468740940094,0.36772164702415466,0.32538703083992004,0.2920740842819214,0.2899448275566101,0.307609498500824,0.28309178352355957,0.3373437821865082,0.2663052976131439,0.3040902018547058,0.3050815463066101,0.30792421102523804,0.289785772562027,0.3005726933479309,0.29486602544784546,0.3513643741607666,0.3470195233821869,0.3011201322078705,0.32242685556411743,0.2794332206249237,0.31021472811698914,0.31975895166397095,0.334877073764801,0.24724267423152924,0.2930240035057068,0.357859343290329,0.355609655380249,0.29567742347717285,0.29241394996643066,0.32841888070106506,0.3654058575630188,0.24761509895324707,0.32204875349998474,0.3326324224472046,0.33661869168281555,0.3101058900356293,0.3241465389728546,0.27831968665122986,0.35985395312309265,0.35621073842048645,0.2915065884590149,0.28980502486228943,0.3045231103897095,0.3517061173915863,0.2915898561477661,0.34880968928337097,0.28371497988700867,0.3407174348831177,0.304522305727005,0.3280477523803711,0.30935630202293396,0.37618952989578247,0.3159095346927643,0.33742985129356384,0.3669494688510895,0.34726789593696594,0.40080714225769043,0.4095279574394226,0.3447008728981018,0.30652469396591187,0.31976884603500366,0.32633882761001587,0.30401888489723206,0.3316713869571686,0.2971476912498474,0.27380648255348206,0.3494194447994232,0.3656017482280731,0.29633137583732605,0.361489474773407,0.2662622034549713,0.32722967863082886,0.30811038613319397,0.3136955499649048,0.29833242297172546,0.2867840826511383,0.31247973442077637,0.2986336052417755,0.34223759174346924,0.3306159973144531,0.34962618350982666,0.35430312156677246,0.3311629593372345,0.2912581264972687,0.29419273138046265,0.3270328938961029,0.40382498502731323,0.3097447156906128,0.2989089787006378,0.32887235283851624,0.3131736218929291,0.3029555678367615,0.2785212993621826,0.3265042006969452,0.332427442073822,0.3085153102874756,0.29878324270248413,0.26849114894866943,0.30643025040626526,0.3226366639137268,0.3224523961544037,0.321240097284317,0.29990628361701965,0.2901257574558258,0.3012537360191345,0.30166521668434143,0.2577534317970276,0.3390023410320282,0.28673017024993896,0.28004056215286255,0.29978084564208984,0.25663384795188904,0.37233927845954895,0.2870815694332123,0.2623935639858246,0.25537195801734924,0.3283846974372864,0.35529571771621704,0.35370829701423645,0.2899225950241089,0.2956373393535614,0.30080360174179077,0.3627733588218689,0.2992510497570038,0.3338949978351593,0.30271270871162415,0.298357218503952,0.29877689480781555,0.3028547167778015,0.3165604770183563,0.34181538224220276,0.3141299784183502,0.3298047184944153,0.35727596282958984,0.33856916427612305,0.3067275583744049,0.2981169521808624,0.3033333122730255,0.37995898723602295,0.28652092814445496,0.3357256054878235,0.3829616904258728,0.35602807998657227,0.2993823289871216,0.32037028670310974,0.287854939699173,0.3417304456233978,0.3704966902732849,0.28989115357398987,0.3158949315547943,0.30848172307014465,0.3041103184223175,0.30650943517684937,0.3015505075454712,0.37441542744636536,0.2668970823287964,0.2844977080821991,0.32360222935676575,0.3079991936683655,0.29170283675193787,0.33909139037132263,0.3081245422363281,0.37299033999443054,0.3800244629383087,0.3347246050834656,0.267584890127182,0.27848026156425476,0.34574541449546814,0.3481363356113434,0.4531879723072052,0.3566085994243622,0.33367684483528137,0.2638411819934845,0.3162764012813568,0.3265049159526825,0.3378430902957916,0.30406928062438965,0.29242879152297974,0.32264626026153564,0.31825965642929077,0.32908549904823303,0.3221352696418762,0.2919867932796478,0.3519621789455414,0.3555053174495697,0.3338298201560974,0.30047163367271423,0.30975791811943054,0.3189222514629364,0.2851753532886505,0.32035180926322937,0.3555360734462738,0.36075592041015625,0.3411533236503601,0.38781872391700745,0.3994006812572479,0.29774072766304016,0.2882058024406433,0.36110779643058777,0.3726266622543335,0.30327144265174866,0.3688610792160034,0.29043877124786377,0.33454984426498413,0.3102094531059265,0.310841828584671,0.4755125641822815,0.3480149507522583,0.3641531467437744,0.34013259410858154,0.33064115047454834,0.36124691367149353,0.3363567292690277,0.2996247112751007,0.3074464499950409,0.3688744008541107,0.3579776883125305,0.3439168930053711,0.32835105061531067,0.42793992161750793,0.3671724498271942,0.33748576045036316,0.32599446177482605,0.2614823877811432,0.3532439172267914,0.3509875535964966,0.3261013329029083,0.2945883274078369,0.33647775650024414,0.37395042181015015,0.33806923031806946,0.34799230098724365,0.3219072222709656,0.33960768580436707,0.34891629219055176,0.3348073661327362,0.31998637318611145,0.34574127197265625,0.3464764654636383,0.3543192744255066,0.34211525321006775,0.3605785369873047,0.3034035563468933,0.32570165395736694,0.30014753341674805,0.3445362150669098,0.3233035206794739,0.3494710922241211,0.31467586755752563,0.28938326239585876,0.3381759524345398,0.2772742509841919,0.28718504309654236,0.322916179895401,0.3255997896194458,0.34275805950164795,0.32948505878448486,0.35531938076019287,0.44353437423706055,0.23809555172920227,0.2663685977458954,0.34574398398399353,0.33318161964416504,0.32021817564964294,0.33626532554626465,0.3175085783004761,0.3149193823337555,0.28446662425994873,0.345327764749527,0.2907601594924927,0.31333476305007935,0.3375687003135681,0.3639271855354309,0.30013611912727356,0.33811134099960327,0.29284214973449707,0.2974422872066498,0.3198826014995575,0.32430368661880493,0.3425830900669098,0.31257927417755127,0.3199051022529602,0.29902011156082153,0.3251154124736786,0.32568204402923584,0.357235848903656,0.32130056619644165,0.40675073862075806,0.35195985436439514,0.333952933549881,0.4319879710674286,0.3160405158996582,0.2844844460487366,0.3077816665172577,0.2999245822429657,0.34978511929512024,0.36259981989860535,0.309539258480072,0.29855456948280334,0.3548155426979065,0.40213292837142944,0.27958056330680847,0.2311808317899704,0.3260306119918823,0.31568634510040283,0.38614705204963684,0.3065968155860901,0.3344345688819885,0.3516400158405304,0.4870096743106842,0.3017207086086273,0.3006575405597687,0.3579055964946747,0.3195933401584625,0.2972658574581146,0.40341708064079285,0.2765620946884155,0.3834266662597656,0.38949277997016907,0.2587951719760895,0.24415838718414307,0.34523630142211914,0.30451396107673645,0.3042503893375397,0.3741140067577362,0.36830440163612366,0.40115711092948914,0.3354451358318329,0.3106655180454254,0.3943386375904083,0.28973135352134705,0.36096450686454773,0.3942936658859253,0.29954615235328674,0.29089194536209106,0.3321227431297302,0.4044278860092163,0.37798959016799927,0.3645964562892914,0.3491354286670685,0.37818387150764465,0.3375505208969116,0.29171520471572876,0.276334673166275,0.29292938113212585,0.3032815754413605,0.2953284978866577,0.34489062428474426,0.3696480989456177,0.29121795296669006,0.33514079451560974,0.33740726113319397,0.31615912914276123,0.37974512577056885,0.3606720566749573,0.3870561420917511,0.3601718544960022,0.409463495016098,0.3244515359401703,0.3701521158218384,0.3392214775085449,0.3208952844142914,0.36471763253211975,0.32643792033195496,0.27721428871154785,0.4522624611854553,0.3168269097805023,0.34256699681282043,0.26169097423553467,0.2837581932544708,0.2973584532737732,0.24450571835041046,0.2993984818458557,0.39053019881248474,0.30477359890937805,0.34173157811164856,0.32622575759887695,0.3460366427898407,0.3494347631931305,0.3633521795272827,0.4766026735305786,0.3359123170375824,0.3369464874267578,0.3177390992641449,0.4211411774158478,0.3383335769176483,0.32151082158088684,0.39531993865966797,0.2905280888080597,0.3309243321418762,0.3498210608959198,0.34438154101371765,0.36812639236450195,0.3862204849720001,0.3347853124141693,0.2794557213783264,0.3348429799079895,0.30913403630256653,0.32523640990257263,0.31996503472328186,0.3523556590080261,0.3025251030921936,0.29472994804382324,0.3118073642253876,0.36053702235221863,0.3432943522930145,0.33292028307914734,0.2953079640865326,0.3536393642425537,0.3333682417869568,0.3566209673881531,0.3862307369709015,0.28057777881622314,0.355849951505661,0.3543960154056549,0.30394431948661804,0.3547152578830719,0.34160247445106506,0.29766350984573364,0.25457578897476196,0.3383317291736603,0.2730531096458435,0.3581593930721283,0.41060516238212585,0.30996066331863403,0.32543954253196716,0.4192572832107544,0.37543848156929016,0.3326849937438965,0.2894952893257141,0.3903457522392273,0.28834813833236694,0.27631503343582153,0.2967372238636017,0.3422536551952362,0.24844416975975037,0.2914368510246277,0.3554386794567108,0.33983319997787476,0.34599170088768005,0.28975239396095276,0.29953840374946594,0.26415935158729553,0.3818013668060303,0.32347041368484497,0.4689333736896515,0.3188334107398987,0.30318570137023926,0.3811176121234894,0.3403976261615753,0.35467445850372314,0.31672540307044983,0.3239003121852875,0.3226819932460785,0.31598785519599915,0.3686584234237671,0.37157687544822693,0.35206595063209534,0.2821396291255951,0.3787707984447479,0.4094482958316803,0.4785122573375702,0.338319331407547,0.27678272128105164,0.26315370202064514,0.2627999782562256,0.28639015555381775,0.3456264138221741,0.3051145076751709,0.31011372804641724,0.3921644687652588,0.26389509439468384,0.3276199996471405,0.31944364309310913,0.3883683383464813,0.2943229675292969,0.31679439544677734,0.2755829095840454,0.3136340081691742,0.356422483921051,0.32260820269584656,0.3248479962348938,0.2311808317899704,0.3671974539756775,0.2847650349140167,0.2957589328289032,0.39189407229423523,0.3124081492424011,0.2589799463748932,0.29650357365608215,0.3355903923511505,0.2836313545703888,0.3863319754600525,0.4296649694442749,0.33441492915153503,0.33893874287605286,0.3004309833049774,0.397840291261673,0.3632504642009735,0.37021541595458984,0.33811134099960327,0.34357044100761414,0.34949591755867004,0.35369786620140076,0.4209413528442383,0.3867768347263336,0.28025364875793457,0.33910271525382996,0.35495492815971375,0.2733249366283417,0.256743848323822,0.41918522119522095,0.39884695410728455,0.2929922938346863,0.36122000217437744,0.34662750363349915,0.3873104453086853,0.3564166724681854,0.2458428293466568,0.35698074102401733,0.377669095993042,0.314532071352005,0.2966043949127197,0.42903080582618713,0.3124753534793854,0.35750773549079895,0.25234806537628174,0.3155105412006378,0.2927711009979248,0.25585097074508667,0.29861223697662354,0.3381927013397217,0.2740498185157776,0.38919004797935486,0.35567447543144226,0.31743478775024414,0.38063883781433105,0.3297760486602783,0.34669166803359985,0.35637539625167847,0.33745285868644714,0.25045883655548096,0.3450239300727844,0.37879425287246704,0.3656417429447174,0.4755125641822815,0.4795694947242737,0.3564680516719818,0.39871537685394287,0.33736953139305115,0.4030715525150299,0.33811134099960327,0.34939563274383545,0.3283500075340271,0.31038886308670044,0.3025313913822174,0.31777721643447876,0.3272281885147095,0.36539849638938904,0.33720672130584717,0.33599478006362915,0.3401126563549042,0.2708374559879303,0.3472379446029663,0.2581821084022522,0.2884717285633087,0.30061233043670654,0.4624214172363281,0.3917393088340759,0.34910812973976135,0.3689826428890228,0.3561147451400757,0.34833836555480957,0.2625148892402649,0.361728698015213,0.37310636043548584,0.30630406737327576,0.2791787385940552,0.3207071125507355,0.2583185136318207,0.3602997660636902,0.33759698271751404,0.2708018720149994,0.3111819326877594,0.35998499393463135,0.3692752420902252,0.3609754741191864,0.23935402929782867,0.2301057130098343,0.28870636224746704,0.24530963599681854,0.2742561399936676,0.29992830753326416,0.32920971512794495,0.3324544429779053,0.3590814471244812,0.2899850010871887,0.2894771993160248,0.3195144534111023,0.351847767829895,0.35733962059020996,0.39321789145469666,0.4076666235923767,0.3239554166793823,0.3157505691051483,0.27723073959350586,0.4689333736896515,0.3680988550186157,0.24625779688358307,0.30353477597236633,0.38068002462387085,0.3464674949645996,0.34208187460899353,0.3474075496196747,0.43185266852378845,0.4857778549194336,0.25644317269325256,0.30973321199417114,0.38477569818496704,0.37947914004325867,0.35254961252212524,0.4870096743106842,0.2650354206562042,0.279584139585495,0.28401172161102295,0.27698051929473877,0.2828439176082611,0.27152302861213684,0.23880551755428314,0.3439945876598358,0.28390106558799744,0.28348448872566223,0.31206458806991577,0.37884870171546936,0.37730374932289124,0.33245402574539185,0.3573884665966034,0.29826268553733826,0.2889082133769989,0.3580954670906067,0.34085536003112793,0.3636398911476135,0.35877057909965515,0.33590397238731384,0.279584139585495,0.2941575348377228,0.38706353306770325,0.2422129362821579,0.2972923219203949,0.2311808317899704,0.271343857049942,0.37823039293289185,0.3151102662086487,0.44248858094215393,0.24678462743759155,0.3291645050048828,0.38151612877845764,0.3391558527946472,0.2682337164878845,0.340819388628006,0.2311808317899704,0.34009167551994324,0.2733249366283417,0.37113672494888306,0.3780685067176819,0.2534099519252777,0.3233737647533417,0.35114073753356934,0.2785212993621826,0.2764490246772766,0.23994311690330505,0.269305944442749,0.2311808317899704,0.32787850499153137,0.4062415361404419,0.24848729372024536,0.3584630787372589,0.2585465908050537,0.3164338171482086,0.2733249366283417,0.3630405366420746,0.3356432616710663,0.33495810627937317,0.24450571835041046,0.3297576308250427,0.3717327415943146,0.39119571447372437,0.3030121326446533,0.29808366298675537,0.3783121705055237,0.38567185401916504,0.38474416732788086,0.2703821659088135,0.32517707347869873,0.3341931700706482,0.33811134099960327,0.40101632475852966,0.3886953890323639,0.2734190821647644,0.2678861916065216,0.3166790008544922,0.3411049544811249,0.30369406938552856,0.2885793149471283,0.35530540347099304,0.33372068405151367,0.38446342945098877,0.2732101380825043,0.35223668813705444,0.24568802118301392,0.2609914243221283,0.2903434932231903,0.32891231775283813,0.25045883655548096,0.4097754657268524,0.33701762557029724,0.4375019073486328,0.38927626609802246,0.37286651134490967,0.38055336475372314,0.2676760256290436,0.2872977554798126,0.3733603358268738,0.3714877665042877,0.3610476851463318,0.3847241699695587,0.3243444263935089,0.26876136660575867,0.2817906439304352,0.40738213062286377,0.29239770770072937,0.4289029836654663,0.31106239557266235,0.34170103073120117,0.3138805627822876,0.2722223401069641,0.37514781951904297,0.27095192670822144,0.2606481909751892,0.37286651134490967,0.30378374457359314,0.3577342629432678,0.31854256987571716,0.3317660391330719,0.3823516070842743,0.30318599939346313,0.3347996473312378,0.2813411056995392,0.3351755440235138,0.3442624807357788,0.3763451874256134,0.3351523280143738,0.36738160252571106,0.4624214172363281,0.33811134099960327,0.3333488702774048,0.3721486032009125,0.48848557472229004,0.42518341541290283,0.26142099499702454,0.2897534668445587,0.37862083315849304,0.3302019536495209,0.314201682806015,0.33427906036376953,0.33703529834747314,0.31190499663352966,0.2852458953857422,0.290836364030838,0.36062178015708923,0.25188538432121277,0.3696187734603882,0.3231893479824066,0.267584890127182,0.3413246273994446,0.3935483992099762,0.4221827983856201,0.35757726430892944,0.32717737555503845,0.3428042531013489,0.3036210238933563,0.5111653208732605,0.2875335216522217,0.28886649012565613,0.26854071021080017,0.25696027278900146,0.4755125641822815,0.3361198902130127,0.2547415792942047,0.3693647086620331,0.39321789145469666,0.3845692276954651,0.35388249158859253,0.29645004868507385,0.33632150292396545,0.28975242376327515,0.30611056089401245,0.41717103123664856,0.3928907513618469,0.441060870885849,0.2785212993621826,0.3621070086956024,0.397958368062973,0.2680027186870575,0.34809768199920654,0.28407302498817444,0.40241363644599915,0.3042050898075104,0.4096023142337799,0.2422129362821579,0.32089024782180786,0.34789183735847473,0.31258073449134827,0.3430090546607971,0.33348244428634644,0.3433685600757599,0.26137077808380127,0.36722880601882935,0.3386675715446472,0.29765623807907104,0.2587951719760895,0.26633748412132263,0.264675110578537,0.37222418189048767,0.40101632475852966,0.3338744640350342,0.4689333736896515,0.34907984733581543,0.34680449962615967,0.32611721754074097,0.2311808317899704,0.23914097249507904,0.23914097249507904,0.30557578802108765,0.24679827690124512,0.29355543851852417,0.33811134099960327,0.3488892912864685,0.30069324374198914,0.40101632475852966,0.25188538432121277,0.4755125641822815,0.3064318299293518,0.3657941520214081,0.46595317125320435,0.33720672130584717,0.24520979821681976,0.38728830218315125,0.41392165422439575,0.255533367395401,0.2642735540866852,0.33171796798706055,0.3612319827079773,0.31194770336151123,0.26492545008659363,0.3094317615032196,0.3475428521633148,0.4178561270236969,0.33834460377693176,0.4042840600013733,0.32360807061195374,0.378216028213501,0.3285805583000183,0.35227951407432556,0.3852612376213074,0.4257891774177551,0.4375019073486328,0.28837865591049194,0.3415064215660095,0.32411158084869385,0.39119967818260193,0.3383774757385254,0.2764490246772766,0.4755125641822815,0.3107141852378845,0.2422129362821579,0.3353765606880188,0.40101632475852966,0.3239649534225464,0.3352092206478119,0.2928900718688965,0.34357044100761414,0.433872789144516,0.4755125641822815,0.38968321681022644,0.35026416182518005,0.37684866786003113,0.31310585141181946,0.3454219698905945,0.38463929295539856,0.27123257517814636,0.2777930796146393,0.2660243809223175,0.3140958547592163,0.3349594473838806,0.3349594473838806,0.38441920280456543,0.33811134099960327,0.25622227787971497,0.2311808317899704,0.31039056181907654,0.35749971866607666,0.2534487545490265,0.29120248556137085,0.24568802118301392,0.33844950795173645,0.3928907513618469,0.327867716550827,0.29700472950935364,0.26781249046325684,0.26014047861099243,0.3403649926185608,0.2573625147342682,0.48985573649406433,0.2620864510536194,0.400486558675766,0.44271841645240784,0.44174957275390625,0.40118855237960815,0.2622791528701782,0.3153739869594574,0.33797016739845276,0.25585097074508667,0.4423033893108368,0.2645711600780487,0.361095130443573,0.3213319480419159,0.3691609799861908,0.28807127475738525,0.24574777483940125,0.4755125641822815,0.34305819869041443,0.30190131068229675,0.26226648688316345,0.4469256103038788,0.4624214172363281,0.34342220425605774,0.40101632475852966,0.29577475786209106,0.36804524064064026,0.3061554431915283,0.2721371650695801,0.30768901109695435,0.2764490246772766,0.24679827690124512,0.3552962839603424,0.40101632475852966,0.2773513197898865,0.34803682565689087,0.26193395256996155,0.26922866702079773,0.33811134099960327,0.3130878508090973,0.2676760256290436,0.26068052649497986,0.33811134099960327,0.2998844385147095,0.2905240058898926,0.39119571447372437,0.29539185762405396,0.2650648057460785,0.34401440620422363,0.4096023142337799,0.24969567358493805,0.3892503082752228,0.3127616345882416,0.3177124559879303,0.2655538320541382,0.3244866132736206,0.40101632475852966,0.2825634777545929,0.2719203233718872,0.33797016739845276,0.4870096743106842,0.4495454430580139,0.26310357451438904,0.36058005690574646,0.37684866786003113,0.2879300117492676,0.2699119746685028,0.3526747524738312,0.3031700551509857,0.389320969581604,0.38011234998703003,0.3028760254383087,0.2788449227809906,0.4319911301136017,0.34593576192855835,0.3667681813240051,0.28716403245925903,0.4624214172363281,0.32814425230026245,0.3434598445892334,0.25754818320274353,0.2655494213104248,0.3823516070842743,0.30394431948661804,0.33720672130584717,0.39351847767829895,0.27319154143333435,0.25931137800216675,0.2627999782562256,0.4689333736896515,0.3734329342842102,0.3284883499145508,0.355176717042923,0.34305819869041443,0.386833518743515,0.29797935485839844,0.3846827745437622,0.3349594473838806,0.26137077808380127,0.39321789145469666,0.26528874039649963,0.37329843640327454,0.31706318259239197,0.3428042531013489,0.30914947390556335,0.33326080441474915,0.3517596125602722,0.38559088110923767,0.3332628607749939,0.35601699352264404,0.33811134099960327,0.28885313868522644,0.4375019073486328,0.2544757127761841,0.33720672130584717,0.3212829828262329,0.30026620626449585,0.33822378516197205,0.4375019073486328,0.30541104078292847,0.3420411944389343,0.25879546999931335,0.3814700245857239,0.3993687033653259,0.4375019073486328,0.31375443935394287,0.34075525403022766,0.38441920280456543,0.4870096743106842,0.2591095566749573,0.35205572843551636,0.33720672130584717,0.4755125641822815,0.47312644124031067,0.4755125641822815,0.25554338097572327,0.3213319480419159,0.4069629907608032,0.28754734992980957,0.3212829828262329,0.3349594473838806,0.3428042531013489,0.33720672130584717,0.3712834417819977,0.3910156488418579,0.2548086643218994,0.4755125641822815,0.4096023142337799,0.398561030626297,0.24256157875061035,0.2353745400905609,0.2676760256290436,0.4132523834705353,0.39321789145469666,0.33784881234169006,0.34212765097618103,0.2715368866920471,0.4755125641822815,0.29908430576324463,0.3712834417819977,0.4870096743106842,0.32188305258750916,0.406154066324234,0.48517969250679016,0.33811134099960327,0.40101632475852966,0.35026416182518005,0.37668830156326294,0.33830803632736206,0.3725322186946869,0.3311792016029358,0.40101632475852966,0.47163698077201843,0.386494517326355,0.4223155677318573,0.3983973562717438,0.34044918417930603,0.3910156488418579,0.3927697241306305,0.33811134099960327,0.3338760733604431,0.4375019073486328,0.3352092206478119,0.39321789145469666,0.2791990339756012,0.40101632475852966,0.40131232142448425,0.26537826657295227,0.34401440620422363,0.4375019073486328,0.34305819869041443,0.25645002722740173,0.4723343849182129,0.3284883499145508,0.34230291843414307,0.33720672130584717,0.4375019073486328,0.4375019073486328,0.4755125641822815,0.3282648026943207,0.3482681214809418,0.34305819869041443,0.4723343849182129,0.32188305258750916,0.34401440620422363,0.44307905435562134,0.40101632475852966,0.2676760256290436,0.2785831391811371,0.4755125641822815,0.35205572843551636,0.4870096743106842,0.3517596125602722,0.40101632475852966,0.3935483992099762,0.34107595682144165,0.39051201939582825,0.34762489795684814,0.34292036294937134,0.4755125641822815,0.33720672130584717,0.40101632475852966,0.34789183735847473,0.2976754903793335,0.3065555691719055,0.4375019073486328,0.4375019073486328],\"type\":\"histogram\"},{\"name\":\"DGI ID\",\"x\":[1.254927158355713,1.8715707063674927,1.4930918216705322,0.8454052209854126,0.8056950569152832,1.6832036972045898,1.582603096961975,1.1069344282150269,1.715170979499817,0.6498156785964966,1.4073001146316528,1.7091517448425293,1.0447686910629272,0.8795838952064514,1.3083455562591553,0.7582563161849976,1.6468980312347412,0.6852801442146301,1.5687915086746216,0.9641273617744446,1.6349543333053589,0.8961465358734131,0.9083754420280457,1.6135917901992798,0.6389305591583252,2.066419839859009,0.5942320227622986,0.7368496656417847,0.5462417602539062,1.5122900009155273,1.5250672101974487,0.9107298851013184,1.3773107528686523,1.2262983322143555,1.4947516918182373,1.8675633668899536,1.3319873809814453,0.9675256609916687,0.9263814687728882,2.2405405044555664,0.9612579941749573,1.4820491075515747,1.8046714067459106,0.8345217108726501,0.6540830731391907,0.8747878074645996,0.6496841311454773,1.9189538955688477,1.1587517261505127,0.6792809367179871,0.8286922574043274,0.8910872340202332,1.165857195854187,1.79185152053833,0.5276995897293091,0.9347072839736938,1.4449981451034546,0.9317353367805481,0.8607553839683533,0.8080626130104065,0.8472253680229187,1.7640575170516968,0.6949316263198853,0.7467048168182373,1.3988080024719238,0.812212347984314,1.00970458984375,1.1182194948196411,1.5691038370132446,0.453157901763916,0.922192394733429,1.3939518928527832,1.6599013805389404,0.9496669173240662,0.9220306873321533,1.2191544771194458,1.561220407485962,0.3950096666812897,1.4523683786392212,1.3551710844039917,1.5612512826919556,1.1922297477722168,2.0394256114959717,0.6569699048995972,1.5231531858444214,1.6506060361862183,0.8010952472686768,1.3624143600463867,1.0546311140060425,1.9212249517440796,0.7930545210838318,1.3094230890274048,0.7809654474258423,0.8829665184020996,0.8880594968795776,1.480093002319336,1.1157009601593018,1.0648566484451294,1.562667727470398,1.560799241065979,1.870302438735962,1.117730975151062,2.6204566955566406,1.7394779920578003,1.4897778034210205,0.7384500503540039,1.9190477132797241,1.8378291130065918,1.109254002571106,1.3948582410812378,0.9032744765281677,1.9634840488433838,1.4159808158874512,1.7624404430389404,0.9095944762229919,1.0801399946212769,1.4382604360580444,0.9101621508598328,0.8740186095237732,1.2077423334121704,1.1726423501968384,0.7005012035369873,1.1948374509811401,1.117838740348816,1.1841089725494385,1.1631953716278076,1.2158212661743164,1.38706636428833,1.1156953573226929,0.8783439993858337,1.0488462448120117,1.6518431901931763,1.6673697233200073,1.485974907875061,1.2133370637893677,1.1900231838226318,0.6247298121452332,0.8366656303405762,1.869452953338623,1.4540201425552368,2.172795295715332,1.2731586694717407,1.0977226495742798,1.155788540840149,0.8609018921852112,1.6079579591751099,1.6982650756835938,1.8364744186401367,0.8396363854408264,1.5080000162124634,1.41342294216156,1.107862114906311,1.2397676706314087,1.2261604070663452,0.8170058131217957,1.140926480293274,0.9702103137969971,0.2431110292673111,1.4709997177124023,2.1727099418640137,0.5219117999076843,1.8779826164245605,1.2863019704818726,2.0206193923950195,1.2006784677505493,0.8655453324317932,1.110801100730896,0.8127131462097168,1.3189482688903809,0.5554790496826172,1.9089287519454956,1.2930421829223633,1.0369950532913208,1.2713674306869507,0.9371429085731506,1.3564954996109009,1.5592131614685059,1.123889684677124,1.6529954671859741,1.2264853715896606,1.4388751983642578,1.0689398050308228,2.1842522621154785,1.223122477531433,1.8660701513290405,0.759071946144104,1.291061520576477,1.4962691068649292,1.7354952096939087,1.087177038192749,1.3865739107131958,2.379948854446411,1.3617770671844482,1.2546547651290894,2.3731648921966553,1.1605528593063354,1.2308311462402344,1.0798403024673462,1.882080078125,1.0567975044250488,1.6305280923843384,0.7130351662635803,0.7927955389022827,1.6918450593948364,1.4852668046951294,0.7715522646903992,1.6814477443695068,1.676673173904419,1.1173412799835205,1.6081304550170898,1.5653018951416016,1.129367470741272,0.8801833987236023,0.78824383020401,1.2552177906036377,1.0522993803024292,1.3547667264938354,0.8587206602096558,0.4292769134044647,1.1288944482803345,1.2975157499313354,1.0447450876235962,1.1231732368469238,0.8133705854415894,2.298128128051758,1.6280978918075562,2.0684080123901367,1.6831220388412476,0.9328152537345886,0.9514663815498352,1.5197961330413818,1.767454743385315,1.0270615816116333,1.7477227449417114,1.303500771522522,0.8794375061988831,1.5778740644454956,1.3070906400680542,1.5085070133209229,2.0483782291412354,2.171318292617798,2.3714101314544678,1.859900951385498,0.8612187504768372,1.0176846981048584,1.5406603813171387,1.4318519830703735,2.3745486736297607,0.8890618681907654,1.5271400213241577,1.0624117851257324,1.3828333616256714,2.4299333095550537,1.0699825286865234,1.7228524684906006,1.3135020732879639,0.8463577032089233,2.1512398719787598,1.2797380685806274,1.802735686302185,1.8580795526504517,1.3561686277389526,1.3942102193832397,0.8604000806808472,1.3887780904769897,1.304469108581543,1.7005983591079712,1.0428073406219482,1.14923095703125,1.8728638887405396,1.825250506401062,1.7451940774917603,2.0088939666748047,1.0317463874816895,1.549504041671753,1.4520319700241089,1.625748872756958,1.1215791702270508,1.605387568473816,1.5092755556106567,1.2210023403167725,1.8101047277450562,1.1616750955581665,1.8972175121307373,1.5461114645004272,1.4721838235855103,1.535451054573059,1.1292412281036377,0.8844038844108582,1.6276894807815552,1.6012251377105713,2.528160333633423,1.5665442943572998,1.8622592687606812,1.6925981044769287,0.9549450278282166,1.7286733388900757,1.0040662288665771,2.407315492630005,1.4415221214294434,1.6986124515533447,2.0264816284179688,1.8324717283248901,1.2061272859573364,1.3001567125320435,0.38448596000671387,1.7616084814071655,1.0878976583480835,1.289676547050476,1.5071825981140137,1.6721508502960205,1.92374849319458,1.9707725048065186,0.7956073880195618,1.024552345275879,0.9422556161880493,1.4888319969177246,1.4326356649398804,1.0206449031829834,1.0144985914230347,1.635451078414917,0.9094316363334656,2.4720051288604736,1.2191277742385864,1.7790882587432861,1.5251258611679077,1.4096304178237915,1.508422613143921,2.0418217182159424,2.4283478260040283,1.269471287727356,1.8446568250656128,1.236618995666504,2.002545118331909,1.8658503293991089,1.3656539916992188,1.2235435247421265,2.41524338722229,0.6847655773162842,1.4498623609542847,2.016174077987671,1.1887285709381104,1.9475740194320679,1.5572324991226196,1.307166576385498,1.0743913650512695,1.6667412519454956,1.1617240905761719,0.7402688264846802,2.269967794418335,1.4705169200897217,1.8796119689941406,2.6696298122406006,1.5614243745803833,0.5631153583526611,2.186061382293701,2.070866584777832,1.744701862335205,1.7035752534866333,1.6148568391799927,0.9645054340362549,1.677801251411438,1.6371099948883057,1.7721716165542603,1.2461843490600586,0.8209046125411987,0.8081738352775574,2.31514835357666,0.8689641952514648,1.6407026052474976,1.3930743932724,1.703364372253418,2.018057346343994,1.5847615003585815,1.132055640220642,1.5106821060180664,1.1552553176879883,1.174816370010376,1.0351061820983887,1.645677924156189,1.786026120185852,1.7519649267196655,2.1238903999328613,1.1833535432815552,1.4267139434814453,1.4070113897323608,1.9404563903808594,1.985291600227356,1.0467724800109863,1.5243586301803589,2.4617223739624023,1.6886975765228271,1.1719789505004883,1.3103392124176025,0.7087051868438721,1.6956349611282349,1.2904136180877686,1.1812567710876465,1.388736367225647,2.4173130989074707,2.2000906467437744,1.3399332761764526,2.2455532550811768,2.007725715637207,1.4401297569274902,1.643980622291565,1.6081125736236572,1.4832199811935425,1.8257513046264648,1.5479960441589355,1.4675973653793335,1.2349629402160645,1.3885173797607422,0.8027867674827576,1.7478197813034058,2.2931156158447266,0.961185872554779,0.8519579768180847,1.1004220247268677,1.6613110303878784,1.7888811826705933,1.8481742143630981,1.8995511531829834,1.4616972208023071,1.5565764904022217,2.0066986083984375,1.4485646486282349,1.7066479921340942,1.1568249464035034,2.174163341522217,1.7153420448303223,2.0208232402801514,1.6558822393417358,1.9953948259353638,1.0300110578536987,1.446826457977295,1.8288785219192505,1.9928607940673828,2.5281665325164795,1.8753254413604736,2.2580058574676514,1.1483030319213867,1.6012992858886719,1.19553804397583,1.6553045511245728,2.2609260082244873,1.353613018989563,1.6160348653793335,1.8056800365447998,1.953898549079895,1.9885280132293701,2.238658905029297,1.7569730281829834,1.2459003925323486,2.2669131755828857,1.3570326566696167,1.263480305671692,1.3035169839859009,1.4599937200546265,1.4628735780715942,1.2058145999908447,1.5462740659713745,1.6299254894256592,1.751542091369629,2.1985325813293457,1.992895245552063,2.317805767059326,1.663382887840271,1.2211781740188599,1.3635615110397339,0.7826806902885437,1.512856125831604,1.1064492464065552,1.571792483329773,1.8779062032699585,1.4288334846496582,1.5982253551483154,1.3156917095184326,1.7068636417388916,2.6115167140960693,1.798875331878662,1.7957834005355835,2.2114551067352295,1.1986167430877686,1.5483694076538086,1.7363591194152832,1.149741291999817,1.1705843210220337,1.4538757801055908,1.1212594509124756,0.9086186289787292,2.089350938796997,1.3901574611663818,2.579103946685791,1.2660000324249268,1.756671667098999,1.4564555883407593,1.9070966243743896,2.5633466243743896,1.297409176826477,2.0940325260162354,1.7540202140808105,0.9091446995735168,2.023268461227417,1.7037408351898193,1.0244501829147339,1.820866346359253,1.6822006702423096,1.5192774534225464,1.199937343597412,1.1882063150405884,1.040210485458374,1.6258659362792969,2.2345855236053467,2.0008370876312256,1.4449552297592163,1.4477633237838745,1.286344289779663,1.2707562446594238,1.31610906124115,1.749021291732788,1.7634315490722656,1.7988946437835693,1.5570682287216187,1.509527564048767,1.4886373281478882,1.5426582098007202,1.4615856409072876,0.7402688264846802,1.2574859857559204,2.5509798526763916,1.92484712600708,1.5212225914001465,1.6566336154937744,2.0652987957000732,1.975103497505188,1.3615407943725586,1.712277889251709,2.1470730304718018,1.7040936946868896,1.8071322441101074,1.0616819858551025,1.9348253011703491,1.4706650972366333,1.8300963640213013,1.5057450532913208,1.9560811519622803,1.465051531791687,1.4031623601913452,1.5869958400726318,2.6659514904022217,1.583511233329773,1.7789080142974854,2.232421636581421,2.142164707183838,1.2880334854125977,1.9430155754089355,2.3189616203308105,1.925703763961792,1.412782907485962,1.2131825685501099,1.191200852394104,2.2565672397613525,1.758123755455017,1.7135822772979736,1.3400944471359253,1.7106025218963623,1.9968258142471313,2.0634522438049316,1.9739876985549927,1.3799307346343994,2.333125114440918,1.5200188159942627,2.0190834999084473,1.6095166206359863,0.8651310801506042,1.391850233078003,1.3799079656600952,2.3538801670074463,1.164836049079895,1.4341437816619873,1.6414151191711426,1.9980757236480713,1.989263892173767,2.2575204372406006,2.464317798614502,1.3753992319107056,1.7696815729141235,1.1576123237609863,1.3424452543258667,1.5053038597106934,2.5233168601989746,2.3150670528411865,2.158055067062378,1.799889326095581,2.009516716003418,1.658860206604004,1.990921139717102,1.364068627357483,1.3500936031341553,1.2828333377838135,1.6308095455169678,1.332353949546814,1.4588087797164917,1.3873564004898071,1.8797528743743896,1.5364034175872803,1.5993505716323853,1.245154619216919,1.551184892654419,1.7872049808502197,1.4388662576675415,1.6310603618621826,2.3867979049682617,1.7854037284851074,2.2128570079803467,2.6368637084960938,1.684031367301941,1.1863086223602295,1.1602944135665894,1.3114207983016968,1.6064765453338623,1.7875144481658936,1.8955885171890259,2.0661065578460693,1.175233244895935,2.175462007522583,1.1352297067642212,1.3704488277435303,1.3678261041641235,1.8329933881759644,1.8099801540374756,1.6213712692260742,0.8741593360900879,0.9156985282897949,1.6280341148376465,0.9384716153144836,0.7078024744987488,1.3761355876922607,1.9109522104263306,1.5700063705444336,1.7723217010498047,1.845109224319458,0.9133762121200562,1.790037751197815,1.6540107727050781,1.0658553838729858,2.007195234298706,1.078904151916504,2.684009313583374,1.4163334369659424,1.4986618757247925,1.8240160942077637,1.6783748865127563,1.4999524354934692,1.7056090831756592,2.5692553520202637,1.666467308998108,1.6326289176940918,1.615626335144043,1.3375557661056519,1.6666185855865479,1.630216360092163,1.3106590509414673,1.5032776594161987,1.5612841844558716,1.975367546081543,2.2195968627929688,0.9839496612548828,1.0372698307037354,1.4559516906738281,2.043029546737671,1.1783429384231567,1.036371111869812,1.6307910680770874,1.6408686637878418,1.813417911529541,1.192507266998291,2.006068229675293,2.1669363975524902,1.7034387588500977,2.328183889389038,2.055974245071411,2.351006269454956,2.038867473602295,1.4544724225997925,1.2123435735702515,2.0389785766601562,2.138760805130005,1.7023310661315918,1.0372698307037354,1.2250785827636719,2.5834944248199463,0.976643979549408,2.1023123264312744,0.7402688264846802,2.3425865173339844,1.528317928314209,1.6712514162063599,1.7047113180160522,1.3701473474502563,2.6579136848449707,1.8179717063903809,1.5627228021621704,1.9483743906021118,1.8786437511444092,0.7402688264846802,1.1723287105560303,1.3448100090026855,1.8047726154327393,1.4722751379013062,1.9466809034347534,2.6585049629211426,1.456725835800171,1.7940644025802612,1.9081465005874634,1.0635205507278442,0.41008228063583374,0.7402688264846802,1.2516251802444458,2.416445255279541,2.0027644634246826,1.876298189163208,1.1994602680206299,1.5000418424606323,1.4150748252868652,2.7024402618408203,1.446653127670288,1.3100775480270386,0.8519579768180847,1.789724588394165,1.4744304418563843,1.3544865846633911,1.807730793952942,1.2126314640045166,1.0834698677062988,1.5718226432800293,2.005340814590454,1.3391859531402588,2.227447986602783,0.961033284664154,2.0418202877044678,1.7735675573349,2.3675827980041504,1.514866828918457,2.250281572341919,2.0222220420837402,1.7779773473739624,2.0878775119781494,1.7955149412155151,1.323492169380188,2.057607889175415,2.1474339962005615,1.0909539461135864,1.7255789041519165,0.903516948223114,1.0599066019058228,1.0074079036712646,0.9213653206825256,1.5218733549118042,1.7395873069763184,2.215897798538208,2.1062192916870117,1.5894016027450562,1.0933598279953003,2.0416078567504883,1.8363494873046875,1.3171160221099854,2.1468427181243896,2.8285024166107178,2.00472092628479,1.5789568424224854,1.70987868309021,1.118757963180542,1.9844157695770264,2.444777727127075,1.8998732566833496,1.6910178661346436,1.9354348182678223,1.9739502668380737,1.7947386503219604,1.2714617252349854,1.9058605432510376,1.212565302848816,0.948855996131897,1.1761714220046997,2.1009132862091064,1.2693305015563965,1.2761716842651367,1.852996826171875,1.7145287990570068,1.1850391626358032,1.321204662322998,2.5575613975524902,1.9924802780151367,1.898633599281311,1.6501063108444214,1.726943850517273,1.9748598337173462,2.7325687408447266,1.9350885152816772,1.3353934288024902,2.515726089477539,3.2025420665740967,1.5765300989151,1.1206152439117432,1.7776223421096802,2.5843143463134766,1.4410749673843384,1.921315312385559,1.1169503927230835,1.327079176902771,0.9922478795051575,1.3918261528015137,1.2658203840255737,1.935810923576355,0.6634446382522583,1.285362720489502,1.7874218225479126,1.0530561208724976,1.9530346393585205,1.5290789604187012,1.6230535507202148,1.272504448890686,1.3877485990524292,1.530360221862793,1.0704729557037354,1.7567654848098755,1.7788777351379395,0.9201712608337402,1.00273597240448,1.666703224182129,2.083805799484253,1.8035686016082764,1.7318438291549683,2.1049082279205322,1.782497525215149,2.0135116577148438,2.1620614528656006,1.6636180877685547,1.1613068580627441,2.2970786094665527,1.3387562036514282,1.8813892602920532,1.1449320316314697,1.111219882965088,1.7418776750564575,2.6775848865509033,1.2460428476333618,2.7848737239837646,1.6190444231033325,1.232962727546692,1.4320201873779297,1.3931394815444946,1.6829603910446167,0.976643979549408,2.2487292289733887,1.1291000843048096,1.1597093343734741,2.226447105407715,1.3674731254577637,1.8653843402862549,0.9573959708213806,1.2022731304168701,1.8371374607086182,2.0049469470977783,0.8209046125411987,0.9787207245826721,0.8813043236732483,1.5956230163574219,1.8359441757202148,2.339533805847168,2.2191386222839355,1.3847688436508179,1.3525468111038208,1.8525844812393188,0.7402688264846802,0.8085801601409912,0.8085801601409912,1.4794986248016357,0.8782111406326294,1.8430607318878174,1.9973771572113037,1.8122918605804443,1.0877137184143066,1.681687355041504,0.6634446382522583,2.2997639179229736,1.5754454135894775,1.8641287088394165,2.1034891605377197,1.5191913843154907,1.749008059501648,1.7058568000793457,2.0317256450653076,1.928779125213623,1.277284860610962,2.2070038318634033,1.8063656091690063,1.6210193634033203,1.2501839399337769,2.364353656768799,1.8346731662750244,2.190195083618164,1.2504832744598389,2.3166840076446533,1.225757122039795,1.7309622764587402,1.08633553981781,1.6177057027816772,2.140604257583618,2.75195574760437,2.107517719268799,0.9055958986282349,1.0408194065093994,1.8107911348342896,1.332571029663086,2.165708303451538,2.0564827919006348,2.567171573638916,2.211575984954834,0.976643979549408,1.373150110244751,1.573357343673706,2.539994716644287,1.3531239032745361,1.806188941001892,1.4907996654510498,2.6031744480133057,2.8396527767181396,2.0113494396209717,1.7648340463638306,1.9358521699905396,1.6741999387741089,1.9503477811813354,1.973580002784729,1.104171872138977,1.7886358499526978,1.1912193298339844,1.2312499284744263,1.5566884279251099,1.4844987392425537,1.3653093576431274,1.8127259016036987,1.5749841928482056,0.7402688264846802,1.6953380107879639,1.300979495048523,1.3071815967559814,1.8453947305679321,0.903516948223114,1.8775659799575806,1.0909533500671387,2.400158405303955,0.7386322021484375,1.5584138631820679,1.0553146600723267,1.2037014961242676,0.9537902474403381,1.4756956100463867,1.8281102180480957,2.166517496109009,2.741682291030884,1.69381844997406,1.1560264825820923,2.0530507564544678,1.3013067245483398,1.6618455648422241,0.8651310801506042,1.8590232133865356,2.1901187896728516,1.3314588069915771,1.0461584329605103,0.9897251725196838,1.806013584136963,2.023681879043579,2.1841466426849365,1.4818519353866577,1.0120736360549927,1.2913440465927124,1.8886723518371582,2.3668313026428223,1.8997066020965576,1.7885149717330933,1.2650132179260254,1.7789876461029053,1.4727599620819092,1.1553796529769897,1.1415491104125977,1.8770506381988525,0.8782111406326294,1.9767392873764038,1.7302546501159668,1.0963783264160156,1.2445664405822754,1.8462170362472534,1.8022361993789673,2.337768316268921,1.5182744264602661,2.0597267150878906,0.9312952160835266,2.3463857173919678,1.7587029933929443,1.2287302017211914,1.6327167749404907,1.873246669769287,1.1211297512054443,1.6152023077011108,1.796489953994751,1.1639461517333984,1.6468905210494995,1.4903771877288818,1.1523306369781494,1.0491939783096313,1.396011471748352,1.6366257667541504,1.3711310625076294,1.2101203203201294,1.479922890663147,2.647575855255127,1.9641389846801758,1.917747974395752,1.6080875396728516,1.896655797958374,1.9662340879440308,1.1622756719589233,1.4073857069015503,2.16475510597229,1.8378509283065796,1.539635181427002,1.6865549087524414,1.138693928718567,1.6215769052505493,1.360338807106018,1.4023624658584595,1.288380742073059,2.3824784755706787,2.2176361083984375,1.7778966426849365,1.7945520877838135,2.209324359893799,1.606909155845642,1.7608779668807983,1.785641074180603,1.4250280857086182,2.1885926723480225,1.7035325765609741,1.040210485458374,2.0435667037963867,1.355098009109497,1.432500958442688,1.2328001260757446,1.488033413887024,1.3778483867645264,1.6221917867660522,1.6063235998153687,1.6682811975479126,0.9573959708213806,1.8510620594024658,1.536637306213379,1.8016719818115234,1.8103667497634888,1.6466763019561768,2.8209545612335205,1.22501802444458,1.5758625268936157,1.6948068141937256,1.1322250366210938,1.009010672569275,1.7278876304626465,1.5069812536239624,2.4354569911956787,1.514914631843567,1.9840739965438843,1.6710319519042969,1.309248685836792,1.2554352283477783,2.108031988143921,1.3250226974487305,1.3931550979614258,1.660447120666504,1.694973111152649,1.773642659187317,2.3049051761627197,2.199842691421509,0.8987410664558411,1.35264253616333,2.218569755554199,1.8787963390350342,1.5016860961914062,1.8344900608062744,2.4861111640930176,1.7020821571350098,2.2678654193878174,1.299813151359558,1.0243781805038452,1.6574420928955078,1.8483867645263672,1.4861900806427002,1.461991786956787,1.5264885425567627,1.909074068069458,1.6008572578430176,1.8502273559570312,1.4053363800048828,2.660398006439209,2.024937868118286,1.8621906042099,1.6931469440460205,1.0390076637268066,1.8475078344345093,2.0843734741210938,1.7637882232666016,1.2946341037750244,1.1293612718582153,1.226509928703308,2.6659188270568848,1.9686129093170166,1.5847671031951904,2.465602159500122,1.4270707368850708,1.670348882675171,2.385967254638672,2.008723735809326,1.6371994018554688,1.619382619857788,1.5744506120681763,1.4369491338729858,1.487318515777588,1.1989625692367554,1.574127435684204,2.050637722015381,1.4080816507339478,1.4268779754638672,1.0857113599777222,1.2171152830123901,1.7166084051132202,2.6268231868743896,2.2721168994903564,1.2978640794754028,2.1674044132232666,1.468212604522705,1.520790934562683,1.7145905494689941,1.787555456161499,1.4082694053649902,1.3568798303604126,1.6483826637268066,2.1660683155059814,1.3610681295394897,1.4525402784347534,2.291776180267334,1.459368348121643,1.380387306213379,1.8196945190429688,2.3368141651153564,2.2285821437835693,2.60982346534729,1.224461317062378,1.337997317314148,1.649532437324524,2.1674509048461914,1.5338695049285889,1.6264746189117432,1.232525110244751,1.729622721672058,2.0215084552764893,1.1613291501998901,2.2172579765319824,1.3770619630813599,2.4634482860565186,1.3765443563461304,1.8238517045974731,1.6776636838912964,1.0196081399917603,1.3396412134170532,1.1214261054992676,1.4142035245895386,2.4447405338287354,1.782827615737915,1.9292017221450806,1.0593500137329102,1.5276061296463013,1.019476056098938,2.083906650543213,2.4158449172973633],\"type\":\"histogram\"}],                        {\"template\":{\"data\":{\"histogram2dcontour\":[{\"type\":\"histogram2dcontour\",\"colorbar\":{\"outlinewidth\":0,\"ticks\":\"\"},\"colorscale\":[[0.0,\"#0d0887\"],[0.1111111111111111,\"#46039f\"],[0.2222222222222222,\"#7201a8\"],[0.3333333333333333,\"#9c179e\"],[0.4444444444444444,\"#bd3786\"],[0.5555555555555556,\"#d8576b\"],[0.6666666666666666,\"#ed7953\"],[0.7777777777777778,\"#fb9f3a\"],[0.8888888888888888,\"#fdca26\"],[1.0,\"#f0f921\"]]}],\"choropleth\":[{\"type\":\"choropleth\",\"colorbar\":{\"outlinewidth\":0,\"ticks\":\"\"}}],\"histogram2d\":[{\"type\":\"histogram2d\",\"colorbar\":{\"outlinewidth\":0,\"ticks\":\"\"},\"colorscale\":[[0.0,\"#0d0887\"],[0.1111111111111111,\"#46039f\"],[0.2222222222222222,\"#7201a8\"],[0.3333333333333333,\"#9c179e\"],[0.4444444444444444,\"#bd3786\"],[0.5555555555555556,\"#d8576b\"],[0.6666666666666666,\"#ed7953\"],[0.7777777777777778,\"#fb9f3a\"],[0.8888888888888888,\"#fdca26\"],[1.0,\"#f0f921\"]]}],\"heatmap\":[{\"type\":\"heatmap\",\"colorbar\":{\"outlinewidth\":0,\"ticks\":\"\"},\"colorscale\":[[0.0,\"#0d0887\"],[0.1111111111111111,\"#46039f\"],[0.2222222222222222,\"#7201a8\"],[0.3333333333333333,\"#9c179e\"],[0.4444444444444444,\"#bd3786\"],[0.5555555555555556,\"#d8576b\"],[0.6666666666666666,\"#ed7953\"],[0.7777777777777778,\"#fb9f3a\"],[0.8888888888888888,\"#fdca26\"],[1.0,\"#f0f921\"]]}],\"heatmapgl\":[{\"type\":\"heatmapgl\",\"colorbar\":{\"outlinewidth\":0,\"ticks\":\"\"},\"colorscale\":[[0.0,\"#0d0887\"],[0.1111111111111111,\"#46039f\"],[0.2222222222222222,\"#7201a8\"],[0.3333333333333333,\"#9c179e\"],[0.4444444444444444,\"#bd3786\"],[0.5555555555555556,\"#d8576b\"],[0.6666666666666666,\"#ed7953\"],[0.7777777777777778,\"#fb9f3a\"],[0.8888888888888888,\"#fdca26\"],[1.0,\"#f0f921\"]]}],\"contourcarpet\":[{\"type\":\"contourcarpet\",\"colorbar\":{\"outlinewidth\":0,\"ticks\":\"\"}}],\"contour\":[{\"type\":\"contour\",\"colorbar\":{\"outlinewidth\":0,\"ticks\":\"\"},\"colorscale\":[[0.0,\"#0d0887\"],[0.1111111111111111,\"#46039f\"],[0.2222222222222222,\"#7201a8\"],[0.3333333333333333,\"#9c179e\"],[0.4444444444444444,\"#bd3786\"],[0.5555555555555556,\"#d8576b\"],[0.6666666666666666,\"#ed7953\"],[0.7777777777777778,\"#fb9f3a\"],[0.8888888888888888,\"#fdca26\"],[1.0,\"#f0f921\"]]}],\"surface\":[{\"type\":\"surface\",\"colorbar\":{\"outlinewidth\":0,\"ticks\":\"\"},\"colorscale\":[[0.0,\"#0d0887\"],[0.1111111111111111,\"#46039f\"],[0.2222222222222222,\"#7201a8\"],[0.3333333333333333,\"#9c179e\"],[0.4444444444444444,\"#bd3786\"],[0.5555555555555556,\"#d8576b\"],[0.6666666666666666,\"#ed7953\"],[0.7777777777777778,\"#fb9f3a\"],[0.8888888888888888,\"#fdca26\"],[1.0,\"#f0f921\"]]}],\"mesh3d\":[{\"type\":\"mesh3d\",\"colorbar\":{\"outlinewidth\":0,\"ticks\":\"\"}}],\"scatter\":[{\"fillpattern\":{\"fillmode\":\"overlay\",\"size\":10,\"solidity\":0.2},\"type\":\"scatter\"}],\"parcoords\":[{\"type\":\"parcoords\",\"line\":{\"colorbar\":{\"outlinewidth\":0,\"ticks\":\"\"}}}],\"scatterpolargl\":[{\"type\":\"scatterpolargl\",\"marker\":{\"colorbar\":{\"outlinewidth\":0,\"ticks\":\"\"}}}],\"bar\":[{\"error_x\":{\"color\":\"#2a3f5f\"},\"error_y\":{\"color\":\"#2a3f5f\"},\"marker\":{\"line\":{\"color\":\"#E5ECF6\",\"width\":0.5},\"pattern\":{\"fillmode\":\"overlay\",\"size\":10,\"solidity\":0.2}},\"type\":\"bar\"}],\"scattergeo\":[{\"type\":\"scattergeo\",\"marker\":{\"colorbar\":{\"outlinewidth\":0,\"ticks\":\"\"}}}],\"scatterpolar\":[{\"type\":\"scatterpolar\",\"marker\":{\"colorbar\":{\"outlinewidth\":0,\"ticks\":\"\"}}}],\"histogram\":[{\"marker\":{\"pattern\":{\"fillmode\":\"overlay\",\"size\":10,\"solidity\":0.2}},\"type\":\"histogram\"}],\"scattergl\":[{\"type\":\"scattergl\",\"marker\":{\"colorbar\":{\"outlinewidth\":0,\"ticks\":\"\"}}}],\"scatter3d\":[{\"type\":\"scatter3d\",\"line\":{\"colorbar\":{\"outlinewidth\":0,\"ticks\":\"\"}},\"marker\":{\"colorbar\":{\"outlinewidth\":0,\"ticks\":\"\"}}}],\"scattermapbox\":[{\"type\":\"scattermapbox\",\"marker\":{\"colorbar\":{\"outlinewidth\":0,\"ticks\":\"\"}}}],\"scatterternary\":[{\"type\":\"scatterternary\",\"marker\":{\"colorbar\":{\"outlinewidth\":0,\"ticks\":\"\"}}}],\"scattercarpet\":[{\"type\":\"scattercarpet\",\"marker\":{\"colorbar\":{\"outlinewidth\":0,\"ticks\":\"\"}}}],\"carpet\":[{\"aaxis\":{\"endlinecolor\":\"#2a3f5f\",\"gridcolor\":\"white\",\"linecolor\":\"white\",\"minorgridcolor\":\"white\",\"startlinecolor\":\"#2a3f5f\"},\"baxis\":{\"endlinecolor\":\"#2a3f5f\",\"gridcolor\":\"white\",\"linecolor\":\"white\",\"minorgridcolor\":\"white\",\"startlinecolor\":\"#2a3f5f\"},\"type\":\"carpet\"}],\"table\":[{\"cells\":{\"fill\":{\"color\":\"#EBF0F8\"},\"line\":{\"color\":\"white\"}},\"header\":{\"fill\":{\"color\":\"#C8D4E3\"},\"line\":{\"color\":\"white\"}},\"type\":\"table\"}],\"barpolar\":[{\"marker\":{\"line\":{\"color\":\"#E5ECF6\",\"width\":0.5},\"pattern\":{\"fillmode\":\"overlay\",\"size\":10,\"solidity\":0.2}},\"type\":\"barpolar\"}],\"pie\":[{\"automargin\":true,\"type\":\"pie\"}]},\"layout\":{\"autotypenumbers\":\"strict\",\"colorway\":[\"#636efa\",\"#EF553B\",\"#00cc96\",\"#ab63fa\",\"#FFA15A\",\"#19d3f3\",\"#FF6692\",\"#B6E880\",\"#FF97FF\",\"#FECB52\"],\"font\":{\"color\":\"#2a3f5f\"},\"hovermode\":\"closest\",\"hoverlabel\":{\"align\":\"left\"},\"paper_bgcolor\":\"white\",\"plot_bgcolor\":\"#E5ECF6\",\"polar\":{\"bgcolor\":\"#E5ECF6\",\"angularaxis\":{\"gridcolor\":\"white\",\"linecolor\":\"white\",\"ticks\":\"\"},\"radialaxis\":{\"gridcolor\":\"white\",\"linecolor\":\"white\",\"ticks\":\"\"}},\"ternary\":{\"bgcolor\":\"#E5ECF6\",\"aaxis\":{\"gridcolor\":\"white\",\"linecolor\":\"white\",\"ticks\":\"\"},\"baxis\":{\"gridcolor\":\"white\",\"linecolor\":\"white\",\"ticks\":\"\"},\"caxis\":{\"gridcolor\":\"white\",\"linecolor\":\"white\",\"ticks\":\"\"}},\"coloraxis\":{\"colorbar\":{\"outlinewidth\":0,\"ticks\":\"\"}},\"colorscale\":{\"sequential\":[[0.0,\"#0d0887\"],[0.1111111111111111,\"#46039f\"],[0.2222222222222222,\"#7201a8\"],[0.3333333333333333,\"#9c179e\"],[0.4444444444444444,\"#bd3786\"],[0.5555555555555556,\"#d8576b\"],[0.6666666666666666,\"#ed7953\"],[0.7777777777777778,\"#fb9f3a\"],[0.8888888888888888,\"#fdca26\"],[1.0,\"#f0f921\"]],\"sequentialminus\":[[0.0,\"#0d0887\"],[0.1111111111111111,\"#46039f\"],[0.2222222222222222,\"#7201a8\"],[0.3333333333333333,\"#9c179e\"],[0.4444444444444444,\"#bd3786\"],[0.5555555555555556,\"#d8576b\"],[0.6666666666666666,\"#ed7953\"],[0.7777777777777778,\"#fb9f3a\"],[0.8888888888888888,\"#fdca26\"],[1.0,\"#f0f921\"]],\"diverging\":[[0,\"#8e0152\"],[0.1,\"#c51b7d\"],[0.2,\"#de77ae\"],[0.3,\"#f1b6da\"],[0.4,\"#fde0ef\"],[0.5,\"#f7f7f7\"],[0.6,\"#e6f5d0\"],[0.7,\"#b8e186\"],[0.8,\"#7fbc41\"],[0.9,\"#4d9221\"],[1,\"#276419\"]]},\"xaxis\":{\"gridcolor\":\"white\",\"linecolor\":\"white\",\"ticks\":\"\",\"title\":{\"standoff\":15},\"zerolinecolor\":\"white\",\"automargin\":true,\"zerolinewidth\":2},\"yaxis\":{\"gridcolor\":\"white\",\"linecolor\":\"white\",\"ticks\":\"\",\"title\":{\"standoff\":15},\"zerolinecolor\":\"white\",\"automargin\":true,\"zerolinewidth\":2},\"scene\":{\"xaxis\":{\"backgroundcolor\":\"#E5ECF6\",\"gridcolor\":\"white\",\"linecolor\":\"white\",\"showbackground\":true,\"ticks\":\"\",\"zerolinecolor\":\"white\",\"gridwidth\":2},\"yaxis\":{\"backgroundcolor\":\"#E5ECF6\",\"gridcolor\":\"white\",\"linecolor\":\"white\",\"showbackground\":true,\"ticks\":\"\",\"zerolinecolor\":\"white\",\"gridwidth\":2},\"zaxis\":{\"backgroundcolor\":\"#E5ECF6\",\"gridcolor\":\"white\",\"linecolor\":\"white\",\"showbackground\":true,\"ticks\":\"\",\"zerolinecolor\":\"white\",\"gridwidth\":2}},\"shapedefaults\":{\"line\":{\"color\":\"#2a3f5f\"}},\"annotationdefaults\":{\"arrowcolor\":\"#2a3f5f\",\"arrowhead\":0,\"arrowwidth\":1},\"geo\":{\"bgcolor\":\"white\",\"landcolor\":\"#E5ECF6\",\"subunitcolor\":\"white\",\"showland\":true,\"showlakes\":true,\"lakecolor\":\"white\"},\"title\":{\"x\":0.05},\"mapbox\":{\"style\":\"light\"}}},\"title\":{\"text\":\"Distribution of Nuclear Norm of Node Explain Matrix\"},\"xaxis\":{\"title\":{\"text\":\"Nuclear Norm\"}},\"yaxis\":{\"title\":{\"text\":\"Frequency\"}},\"font\":{\"size\":20},\"paper_bgcolor\":\"white\",\"plot_bgcolor\":\"white\"},                        {\"responsive\": true}                    ).then(function(){\n",
       "                            \n",
       "var gd = document.getElementById('78032137-9e23-431e-968a-ab8d5ec282c4');\n",
       "var x = new MutationObserver(function (mutations, observer) {{\n",
       "        var display = window.getComputedStyle(gd).display;\n",
       "        if (!display || display === 'none') {{\n",
       "            console.log([gd, 'removed!']);\n",
       "            Plotly.purge(gd);\n",
       "            observer.disconnect();\n",
       "        }}\n",
       "}});\n",
       "\n",
       "// Listen for the removal of the full notebook cells\n",
       "var notebookContainer = gd.closest('#notebook-container');\n",
       "if (notebookContainer) {{\n",
       "    x.observe(notebookContainer, {childList: true});\n",
       "}}\n",
       "\n",
       "// Listen for the clearing of the current output cell\n",
       "var outputEl = gd.closest('.output');\n",
       "if (outputEl) {{\n",
       "    x.observe(outputEl, {childList: true});\n",
       "}}\n",
       "\n",
       "                        })                };                });            </script>        </div>"
      ]
     },
     "metadata": {},
     "output_type": "display_data"
    }
   ],
   "source": [
    "fig = go.Figure()\n",
    "fig.add_trace(go.Histogram(x = norm_og, \n",
    "                           name = 'DGI SF'))\n",
    "fig.add_trace(go.Histogram(x = norm_plus, \n",
    "                           name = 'DGI+XM'))\n",
    "fig.add_trace(go.Histogram(x = norm_id, \n",
    "                           name = 'DGI ID'))\n",
    "\n",
    "\n",
    "fig.update_layout(title_text = 'Distribution of Nuclear Norm of Node Explain Matrix', \n",
    "                  xaxis_title_text = 'Nuclear Norm', \n",
    "                  yaxis_title_text = 'Frequency', \n",
    "                  paper_bgcolor = 'white', \n",
    "                  plot_bgcolor = 'white', \n",
    "                  font = dict(size = 20))\n",
    "fig.show()"
   ]
  },
  {
   "cell_type": "code",
   "execution_count": null,
   "id": "ae6c5164",
   "metadata": {},
   "outputs": [],
   "source": []
  }
 ],
 "metadata": {
  "kernelspec": {
   "display_name": "Python 3 (ipykernel)",
   "language": "python",
   "name": "python3"
  },
  "language_info": {
   "codemirror_mode": {
    "name": "ipython",
    "version": 3
   },
   "file_extension": ".py",
   "mimetype": "text/x-python",
   "name": "python",
   "nbconvert_exporter": "python",
   "pygments_lexer": "ipython3",
   "version": "3.10.8"
  },
  "toc": {
   "base_numbering": 1,
   "nav_menu": {},
   "number_sections": true,
   "sideBar": true,
   "skip_h1_title": false,
   "title_cell": "Table of Contents",
   "title_sidebar": "Contents",
   "toc_cell": false,
   "toc_position": {},
   "toc_section_display": true,
   "toc_window_display": false
  }
 },
 "nbformat": 4,
 "nbformat_minor": 5
}
