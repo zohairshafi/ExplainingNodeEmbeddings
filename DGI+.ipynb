{
 "cells": [
  {
   "cell_type": "markdown",
   "id": "0369cae7",
   "metadata": {},
   "source": [
    "### Imports"
   ]
  },
  {
   "cell_type": "code",
   "execution_count": 1,
   "id": "707c0344",
   "metadata": {},
   "outputs": [
    {
     "name": "stderr",
     "output_type": "stream",
     "text": [
      "/Users/zohairshafi/miniforge3/lib/python3.10/site-packages/tqdm/auto.py:22: TqdmWarning: IProgress not found. Please update jupyter and ipywidgets. See https://ipywidgets.readthedocs.io/en/stable/user_install.html\n",
      "  from .autonotebook import tqdm as notebook_tqdm\n"
     ]
    }
   ],
   "source": [
    "import numpy as np\n",
    "import scipy.sparse as sp\n",
    "import torch\n",
    "import torch.nn as nn\n",
    "import pickle as pkl\n",
    "import networkx as nx\n",
    "\n",
    "from tqdm import tqdm\n",
    "from DGI.models import DGI, LogReg\n",
    "from DGI.utils import process\n",
    "from tensorflow.keras.optimizers import Adam, Nadam\n",
    "\n",
    "from scripts.utils import *"
   ]
  },
  {
   "cell_type": "markdown",
   "id": "ba79c95f",
   "metadata": {},
   "source": [
    "### Class Definitions"
   ]
  },
  {
   "cell_type": "code",
   "execution_count": 2,
   "id": "4f9319bf",
   "metadata": {},
   "outputs": [],
   "source": [
    "class BaseEmbedder:\n",
    "    def __init__(self, graph, embed_shape = (128,)):\n",
    "        self.embed(graph)\n",
    "        self.E = list(graph.edges())\n",
    "        self.graph = graph\n",
    "        self.embed_shape = embed_shape\n",
    "    \n",
    "    def embed(self, graph):\n",
    "        raise NotImplementedError\n",
    "    \n",
    "    def get_embedding(self):\n",
    "        raise NotImplementedError\n",
    "        "
   ]
  },
  {
   "cell_type": "code",
   "execution_count": 44,
   "id": "41610868",
   "metadata": {},
   "outputs": [],
   "source": [
    "class DGIEmbedding(BaseEmbedder):\n",
    "    def __init__(self, embed_dim = 64, graph = None, feature_matrix = None, use_xm = False, debug = False, batch_size = 1, nb_epochs = 2500, patience = 20, ortho_ = 0.1, sparse_ = 0.1, lr = 1e-3, l2_coef = 0.0, drop_prob = 0.0, sparse = True, nonlinearity = 'prelu', model_name = ''):\n",
    "\n",
    "        self.embed_dim = embed_dim\n",
    "        self.debug = debug\n",
    "        \n",
    "        # Training Params\n",
    "        self.graph = graph\n",
    "        self.batch_size = batch_size\n",
    "        self.nb_epochs = nb_epochs\n",
    "        self.patience = patience\n",
    "        self.lr = lr\n",
    "        self.l2_coef = l2_coef\n",
    "        self.feature_matrix = feature_matrix\n",
    "        self.drop_prob = drop_prob\n",
    "        self.hid_units = embed_dim\n",
    "        self.sparse = sparse\n",
    "        self.nonlinearity = nonlinearity\n",
    "        self.use_xm = use_xm\n",
    "        self.ortho_ = ortho_\n",
    "        self.sparse_ = sparse_\n",
    "        self.model_name = model_name\n",
    "\n",
    "        self.time_per_epoch = None\n",
    "        \n",
    "        if graph is not None:\n",
    "            self.embed()\n",
    "        else:\n",
    "            self.graph = None\n",
    "    \n",
    "    def embed(self):\n",
    "\n",
    "        \n",
    "        if self.feature_matrix is None:\n",
    "            feature_matrix = np.identity(len(self.graph))\n",
    "        else: \n",
    "            feature_matrix = self.feature_matrix\n",
    "\n",
    "        adj = nx.to_scipy_sparse_array(self.graph)\n",
    "        features = sp.lil_matrix(feature_matrix)\n",
    "        features, _ = process.preprocess_features(features)\n",
    "\n",
    "        nb_nodes = features.shape[0]\n",
    "        ft_size = features.shape[1]\n",
    "\n",
    "        adj = process.normalize_adj(adj + sp.eye(adj.shape[0]))\n",
    "\n",
    "        if self.sparse:\n",
    "            sp_adj = process.sparse_mx_to_torch_sparse_tensor(adj)\n",
    "        else:\n",
    "            adj = (adj + sp.eye(adj.shape[0])).todense()\n",
    "\n",
    "        features = torch.FloatTensor(features[np.newaxis])\n",
    "        if not self.sparse:\n",
    "            adj = torch.FloatTensor(adj[np.newaxis])\n",
    "            if torch.cuda.is_available():\n",
    "                adj = adj.cuda()\n",
    "\n",
    "        if self.feature_matrix is not None: \n",
    "            sense_features = torch.FloatTensor(self.feature_matrix)\n",
    "            if torch.cuda.is_available():\n",
    "                sense_features = sense_features.cuda()\n",
    "\n",
    "\n",
    "        model = DGI(ft_size, self.hid_units, self.nonlinearity)\n",
    "        if torch.cuda.is_available():\n",
    "            model = model.cuda()\n",
    "        optimiser = torch.optim.Adam(model.parameters(), lr = self.lr, weight_decay = self.l2_coef)\n",
    "\n",
    "        b_xent = nn.BCEWithLogitsLoss()\n",
    "        xent = nn.CrossEntropyLoss()\n",
    "        cnt_wait = 0\n",
    "        best = 1e9\n",
    "        best_t = 0\n",
    "        \n",
    "        start_time = time.time()\n",
    "        for epoch in tqdm(range(self.nb_epochs)):\n",
    "            model.train()\n",
    "            optimiser.zero_grad()\n",
    "\n",
    "            idx = np.random.permutation(nb_nodes)\n",
    "            shuf_fts = features[:, idx, :]\n",
    "\n",
    "            lbl_1 = torch.ones(self.batch_size, nb_nodes)\n",
    "            lbl_2 = torch.zeros(self.batch_size, nb_nodes)\n",
    "            lbl = torch.cat((lbl_1, lbl_2), 1)\n",
    "\n",
    "            if torch.cuda.is_available():\n",
    "                shuf_fts = shuf_fts.cuda()\n",
    "                lbl = lbl.cuda()\n",
    "                sp_adj = sp_adj.cuda()\n",
    "                features = features.cuda()\n",
    "            \n",
    "            logits = model(features, shuf_fts, sp_adj if self.sparse else adj, self.sparse, None, None, None) \n",
    "            \n",
    "            if self.use_xm == True and feature_matrix is not None:\n",
    "                \n",
    "                start_idx = 0\n",
    "                loop = True\n",
    "                \n",
    "                ortho_loss = 0\n",
    "                sparse_loss = 0\n",
    "                xm_batch_size = 1024\n",
    "                \n",
    "                sf = sense_features\n",
    "                embeds, _ = model.embed(sf, sp_adj if self.sparse else adj, self.sparse, None)\n",
    "                                \n",
    "                while loop:\n",
    "                    end_idx = start_idx + xm_batch_size\n",
    "                    if end_idx > len(self.graph):\n",
    "                        loop = False\n",
    "                        end_idx = len(self.graph)\n",
    "                        \n",
    "                    \n",
    "                    sf = sense_features[start_idx : end_idx]\n",
    "                    embeds_ = torch.squeeze(embeds)[start_idx : end_idx]\n",
    "                    \n",
    "                    \n",
    "                    sense_mat = torch.einsum('ij, ik -> ijk', embeds_, sf)\n",
    "                    E = sense_mat\n",
    "                    y_norm = torch.diagonal(torch.matmul(embeds_, torch.transpose(embeds_, 0, 1)))\n",
    "                    sense_norm = torch.diagonal(torch.matmul(sf, torch.transpose(sf, 0, 1)))\n",
    "                    norm = torch.multiply(y_norm, sense_norm)\n",
    "                    E = torch.transpose(torch.transpose(E, 0, 2) / norm, 0, 2)\n",
    "                    E = (E - torch.amin(E, dim = [-1, -2], keepdim = True)) / (torch.amax(E, dim = [-1, -2], keepdim = True) - torch.amin(E, dim = [-1, -2], keepdim = True))\n",
    "\n",
    "                    E_t = torch.transpose(E, 1, 2)\n",
    "                    E_o = torch.einsum('aij, ajh -> aih', E, E_t)\n",
    "                    E_o = torch.sum(E_o)\n",
    "                    batch_ortho_loss = (self.ortho_ * E_o) / self.batch_size\n",
    "\n",
    "                    batch_sparse_loss = (self.sparse_ * torch.sum(torch.linalg.norm(E, ord = 1, axis = 0))) / self.batch_size\n",
    "                        \n",
    "                    ortho_loss += batch_ortho_loss\n",
    "                    sparse_loss += batch_sparse_loss\n",
    "                    \n",
    "                    start_idx = end_idx\n",
    "                    \n",
    "                loss = b_xent(logits, lbl) + ortho_loss + sparse_loss\n",
    "            else:\n",
    "                loss = b_xent(logits, lbl)\n",
    "\n",
    "            if self.debug:\n",
    "                print('Loss:', loss)\n",
    "\n",
    "            if loss < best:\n",
    "                best = loss\n",
    "                best_t = epoch\n",
    "                cnt_wait = 0\n",
    "                torch.save(model.state_dict(), self.model_name + '.pkl')\n",
    "            else:\n",
    "                cnt_wait += 1\n",
    "\n",
    "            if cnt_wait == self.patience:\n",
    "                if self.debug: \n",
    "                    print('Early stopping!')\n",
    "                break\n",
    "\n",
    "            loss.backward()\n",
    "            optimiser.step()\n",
    "            \n",
    "        self.time_per_epoch = (time.time() - start_time) / epoch\n",
    "\n",
    "        if self.debug: \n",
    "            print('Loading {}th epoch'.format(best_t))\n",
    "        model.load_state_dict(torch.load(self.model_name + '.pkl'))\n",
    "\n",
    "        self.node_model = model\n",
    "        self.fitted = True\n",
    "\n",
    "        embeds, _ = model.embed(features, sp_adj if self.sparse else adj, self.sparse, None)\n",
    "        self.embeddings = embeds\n",
    "    \n",
    "    def get_embedding(self):\n",
    "        if torch.cuda.is_available():\n",
    "            return np.squeeze(self.embeddings.cpu().numpy())\n",
    "        return np.squeeze(self.embeddings.numpy())\n",
    "    \n",
    "\n",
    "\n"
   ]
  },
  {
   "cell_type": "code",
   "execution_count": null,
   "id": "b1e51f5c",
   "metadata": {},
   "outputs": [],
   "source": []
  },
  {
   "cell_type": "code",
   "execution_count": 22,
   "id": "bd8df723",
   "metadata": {},
   "outputs": [
    {
     "name": "stdout",
     "output_type": "stream",
     "text": [
      "Calculating Personalized Page Rank...                     \r"
     ]
    },
    {
     "name": "stderr",
     "output_type": "stream",
     "text": [
      "5201it [01:57, 44.24it/s]\n"
     ]
    },
    {
     "name": "stdout",
     "output_type": "stream",
     "text": [
      "Calculating Katz Centrality...                            \r"
     ]
    },
    {
     "name": "stderr",
     "output_type": "stream",
     "text": [
      "/Users/zohairshafi/miniforge3/lib/python3.10/site-packages/networkx/algorithms/centrality/katz.py:325: FutureWarning:\n",
      "\n",
      "adjacency_matrix will return a scipy.sparse array instead of a matrix in Networkx 3.0.\n",
      "\n"
     ]
    },
    {
     "name": "stdout",
     "output_type": "stream",
     "text": [
      "Normalizing Features Between 0 And 1...                   \r",
      "Done                                                      \r"
     ]
    }
   ],
   "source": [
    "with open('./data/squirrel.pkl', 'rb') as file: \n",
    "    graph_dict = pkl.load(file)\n",
    "    \n",
    "graph = nx.Graph(nx.to_numpy_array(graph_dict))    \n",
    "graph = nx.Graph(nx.to_numpy_array(graph))\n",
    "\n",
    "\n",
    "sense_feat_dict, sense_features = get_sense_features(graph, ppr_flag = 'std')\n"
   ]
  },
  {
   "cell_type": "code",
   "execution_count": 23,
   "id": "fc3e2eaf",
   "metadata": {},
   "outputs": [],
   "source": [
    "uncorrelated_feats = ['Degree',\n",
    "                    'Clustering Coefficient',\n",
    "                    'Personalized Page Rank - Standard Deviation',\n",
    "                    'Average Neighbor Degree',\n",
    "                    'Average Neighbor Clustering',\n",
    "                    'Eccentricity',\n",
    "                    'Katz Centrality']\n",
    "sense_features = sense_features[:, [list(sense_feat_dict).index(feat) for feat in uncorrelated_feats]]\n",
    "sense_feat_dict = {feat : idx for idx, feat in enumerate(uncorrelated_feats)}"
   ]
  },
  {
   "cell_type": "code",
   "execution_count": null,
   "id": "b6a984b4",
   "metadata": {
    "scrolled": true
   },
   "outputs": [
    {
     "name": "stderr",
     "output_type": "stream",
     "text": [
      "  7%|██▊                                     | 175/2500 [00:58<12:40,  3.06it/s]"
     ]
    }
   ],
   "source": [
    "# dgi_og = DGIEmbedding(graph = graph, \n",
    "#            embed_dim = 128, \n",
    "#            feature_matrix = sense_features, \n",
    "#            use_xm = False, \n",
    "#            ortho_ = 0, \n",
    "#            sparse_ = 0, \n",
    "#            batch_size = 1, \n",
    "#            model_name = '-')\n",
    "# embed_og = dgi_og.get_embedding()\n",
    "# embed_og = (embed_og - np.min(embed_og)) / np.ptp(embed_og)\n",
    "# feature_dict_og = find_feature_membership(input_embed = embed_og,\n",
    "#                                                     embed_name = 'DGI-SF',\n",
    "#                                                     sense_features = sense_features,\n",
    "#                                                     sense_feat_dict = sense_feat_dict,\n",
    "#                                                     top_k = 8,\n",
    "#                                                     solver = 'nmf')\n",
    "\n",
    "# explain_og = feature_dict_og['explain_norm']\n",
    "# error_og = sense_features * np.log((sense_features + 1e-10) / ((embed_og @ feature_dict_og['explain_norm']) + 1e-10)) - sense_features + (embed_og @ feature_dict_og['explain_norm'])\n",
    "# explain_og = (explain_og - np.min(explain_og)) / np.ptp(explain_og)\n",
    "\n",
    "\n",
    "dgi_plus = DGIEmbedding(graph = graph, \n",
    "           embed_dim = 128, \n",
    "           feature_matrix = sense_features, \n",
    "           use_xm = True, \n",
    "           ortho_ = 1, \n",
    "           sparse_ = 1e-3, \n",
    "           batch_size = 1, \n",
    "           model_name = '-', \n",
    "           patience = 500)\n",
    "embed_plus = dgi_plus.get_embedding()\n",
    "embed_plus = (embed_plus - np.min(embed_plus)) / np.ptp(embed_plus)\n",
    "feature_dict_plus = find_feature_membership(input_embed = embed_plus,\n",
    "                                                    embed_name = 'DGI+XM',\n",
    "                                                    sense_features = sense_features,\n",
    "                                                    sense_feat_dict = sense_feat_dict,\n",
    "                                                    top_k = 8,\n",
    "                                                    solver = 'nmf')\n",
    "\n",
    "explain_plus = feature_dict_plus['explain_norm']\n",
    "error_plus = sense_features * np.log((sense_features + 1e-10) / ((embed_plus @ feature_dict_plus['explain_norm']) + 1e-10)) - sense_features + (embed_plus @ feature_dict_plus['explain_norm'])\n",
    "explain_plus = (explain_plus - np.min(explain_plus)) / np.ptp(explain_plus)"
   ]
  },
  {
   "cell_type": "code",
   "execution_count": null,
   "id": "fc0dd519",
   "metadata": {},
   "outputs": [],
   "source": []
  },
  {
   "cell_type": "code",
   "execution_count": 25,
   "id": "f933eed2",
   "metadata": {
    "scrolled": true
   },
   "outputs": [
    {
     "data": {
      "application/vnd.plotly.v1+json": {
       "config": {
        "plotlyServerURL": "https://plot.ly"
       },
       "data": [
        {
         "type": "heatmap",
         "x": [
          "Degree",
          "Clustering Coefficient",
          "Personalized Page Rank - Standard Deviation",
          "Average Neighbor Degree",
          "Average Neighbor Clustering",
          "Eccentricity",
          "Katz Centrality"
         ],
         "z": [
          [
           0,
           0,
           0,
           0,
           0.11497137695550919,
           0,
           0
          ],
          [
           0,
           0,
           0,
           0,
           0,
           0,
           0
          ],
          [
           0,
           0,
           0,
           0,
           0,
           0,
           0
          ],
          [
           0,
           0,
           0,
           0,
           0,
           0,
           0
          ],
          [
           0,
           0,
           0,
           0,
           0,
           0,
           0
          ],
          [
           0,
           0,
           0,
           0,
           0,
           0,
           0
          ],
          [
           0,
           0,
           0.6669033765792847,
           0,
           0,
           0,
           0
          ],
          [
           0,
           0,
           0,
           0,
           0,
           0,
           0.055927857756614685
          ],
          [
           0,
           0,
           0,
           0,
           0,
           0,
           0.008162088692188263
          ],
          [
           0,
           0,
           0,
           0,
           0,
           0,
           0
          ],
          [
           0,
           0,
           0,
           0,
           0,
           0,
           0.024562925100326538
          ],
          [
           0,
           0,
           0,
           0,
           0,
           0,
           0
          ],
          [
           0,
           0,
           0,
           0,
           0,
           0,
           0
          ],
          [
           0,
           0,
           0,
           0.1031259149312973,
           0,
           0,
           0
          ],
          [
           0,
           0,
           0,
           0,
           0,
           0,
           0
          ],
          [
           0,
           0,
           0,
           0,
           0,
           0,
           0.04501146450638771
          ],
          [
           0,
           0,
           0,
           0,
           0,
           0,
           0
          ],
          [
           0,
           0,
           0,
           0,
           0,
           0,
           0
          ],
          [
           0,
           0,
           0,
           0,
           0,
           0,
           0
          ],
          [
           0,
           0,
           0,
           0,
           0,
           0,
           0.047165509313344955
          ],
          [
           0,
           0,
           0,
           0,
           0,
           0,
           0
          ],
          [
           0,
           0,
           0,
           0,
           0,
           0,
           0.6719112396240234
          ],
          [
           0,
           0,
           0,
           0,
           0,
           0,
           0.38875943422317505
          ],
          [
           0,
           0,
           0,
           0,
           0,
           0,
           0
          ],
          [
           0,
           0,
           0,
           0,
           0,
           0,
           0
          ],
          [
           0,
           0,
           0,
           0,
           0,
           0,
           0
          ],
          [
           0,
           0,
           0,
           0,
           0,
           0,
           0
          ],
          [
           0,
           0,
           0,
           0,
           0,
           0,
           0
          ],
          [
           0,
           0,
           0,
           0,
           0,
           0,
           0
          ],
          [
           0,
           0,
           0,
           0,
           0,
           0,
           0
          ],
          [
           0,
           0,
           0,
           0,
           0,
           0,
           0
          ],
          [
           0,
           0,
           0,
           0,
           0.04437386244535446,
           0,
           0
          ],
          [
           0,
           0.16404463350772858,
           0,
           0,
           0.15093867480754852,
           0,
           0
          ],
          [
           0.41971275210380554,
           0,
           0,
           0,
           0,
           0,
           0
          ],
          [
           0,
           0,
           0,
           0,
           0,
           0,
           0
          ],
          [
           0,
           0,
           0,
           0,
           0,
           0,
           0
          ],
          [
           0,
           0,
           0,
           0,
           0,
           0,
           0
          ],
          [
           0,
           0,
           0,
           0,
           0,
           0,
           0
          ],
          [
           0.978554368019104,
           0,
           0,
           0,
           0.05004901438951492,
           0,
           0
          ],
          [
           0,
           0,
           0,
           0,
           0,
           0,
           0
          ],
          [
           0,
           0,
           0,
           0,
           0,
           0,
           0
          ],
          [
           0,
           0,
           0,
           0,
           0,
           0,
           0
          ],
          [
           0,
           0,
           0,
           0,
           0.011672127060592175,
           0,
           0
          ],
          [
           0,
           0,
           0,
           0,
           0,
           0,
           0
          ],
          [
           0,
           0,
           0,
           1,
           0,
           0,
           0
          ],
          [
           0,
           0,
           0,
           0,
           0,
           0,
           0
          ],
          [
           0,
           0,
           0,
           0,
           0,
           0,
           0
          ],
          [
           0,
           0,
           0,
           0,
           0,
           0,
           0
          ],
          [
           0,
           0,
           0.4861886501312256,
           0,
           0,
           0,
           0
          ],
          [
           0,
           0,
           0,
           0,
           0,
           0,
           0
          ],
          [
           0,
           0,
           0,
           0,
           0,
           0,
           0
          ],
          [
           0,
           0,
           0,
           0,
           0,
           0,
           0
          ],
          [
           0,
           0,
           0,
           0,
           0,
           0,
           0
          ],
          [
           0,
           0,
           0,
           0,
           0,
           0,
           0
          ],
          [
           0,
           0,
           0,
           0,
           0,
           0,
           0
          ],
          [
           0,
           0,
           0,
           0,
           0,
           0,
           0.027626335620880127
          ],
          [
           0,
           0,
           0,
           0,
           0,
           0,
           0
          ],
          [
           0,
           0,
           0,
           0,
           0,
           0.13345129787921906,
           0
          ],
          [
           0,
           0,
           0,
           0,
           0,
           0,
           0
          ],
          [
           0,
           0,
           0,
           0,
           0,
           0,
           0
          ],
          [
           0,
           0,
           0,
           0,
           0,
           0,
           0
          ],
          [
           0,
           0.9117380976676941,
           0,
           0,
           0,
           0,
           0
          ],
          [
           0,
           0,
           0,
           0,
           0.04585850238800049,
           0,
           0
          ],
          [
           0,
           0,
           0,
           0,
           0,
           0,
           0
          ],
          [
           0,
           0,
           0,
           0,
           0,
           0,
           0
          ],
          [
           0,
           0,
           0,
           0,
           0,
           0,
           0.0374576672911644
          ],
          [
           0,
           0,
           0,
           0,
           0,
           0,
           0
          ],
          [
           0,
           0,
           0,
           0,
           0,
           0,
           0
          ],
          [
           0,
           0,
           0,
           0,
           0.2346271574497223,
           0,
           0
          ],
          [
           0,
           0,
           0,
           0,
           0,
           0,
           0
          ],
          [
           0,
           0,
           0,
           0,
           0,
           0,
           0
          ],
          [
           0,
           0,
           0,
           0,
           0,
           0,
           0.03130611404776573
          ],
          [
           0,
           0,
           0,
           0,
           0,
           0,
           0
          ],
          [
           0,
           0,
           0,
           0,
           0,
           0,
           0
          ],
          [
           0,
           0,
           0,
           0,
           0,
           0,
           0
          ],
          [
           0,
           0,
           0,
           0,
           0,
           0,
           0
          ],
          [
           0,
           0,
           0,
           0,
           0,
           0,
           0
          ],
          [
           0,
           0,
           0,
           0,
           0,
           0,
           0
          ],
          [
           0,
           0,
           0,
           0,
           0,
           0,
           0
          ],
          [
           0,
           0,
           0,
           0,
           0,
           0,
           0
          ],
          [
           0,
           0,
           0,
           0,
           0,
           0,
           0.0027844731230288744
          ],
          [
           0,
           0,
           0,
           0,
           0,
           0,
           0
          ],
          [
           0,
           0,
           0,
           0,
           0,
           0,
           0
          ],
          [
           0,
           0,
           0,
           0,
           0,
           0,
           0
          ],
          [
           0,
           0,
           0,
           0,
           0,
           0,
           0
          ],
          [
           0,
           0,
           0,
           0,
           0,
           0,
           0
          ],
          [
           0,
           0,
           0,
           0,
           0,
           0,
           0
          ],
          [
           0,
           0,
           0,
           0,
           0,
           0,
           0
          ],
          [
           0,
           0,
           0,
           0,
           0,
           0,
           0
          ],
          [
           0,
           0,
           0,
           0,
           0,
           0,
           0
          ],
          [
           0,
           0,
           0,
           0,
           0.18130578100681305,
           0,
           0
          ],
          [
           0,
           0,
           0,
           0,
           0,
           0,
           0.010024544782936573
          ],
          [
           0,
           0,
           0,
           0,
           0,
           0,
           0.022288907319307327
          ],
          [
           0,
           0,
           0,
           0,
           0,
           0.2965819835662842,
           0
          ],
          [
           0,
           0,
           0,
           0,
           0,
           0,
           0
          ],
          [
           0,
           0,
           0,
           0,
           0,
           0,
           0
          ],
          [
           0,
           0,
           0,
           0,
           0,
           0,
           0
          ],
          [
           0,
           0,
           0,
           0,
           0,
           0,
           0
          ],
          [
           0,
           0,
           0,
           0,
           0,
           0,
           0
          ],
          [
           0,
           0,
           0,
           0,
           0,
           0,
           0.00821678526699543
          ],
          [
           0,
           0,
           0,
           0,
           0,
           0,
           0
          ],
          [
           0,
           0,
           0,
           0,
           0,
           0,
           0
          ],
          [
           0,
           0,
           0,
           0,
           0,
           0,
           0
          ],
          [
           0,
           0,
           0,
           0,
           0,
           0,
           0
          ],
          [
           0,
           0,
           0,
           0,
           0,
           0,
           0
          ],
          [
           0,
           0,
           0,
           0,
           0,
           0,
           0
          ],
          [
           0,
           0,
           0,
           0,
           0,
           0.3357776701450348,
           0
          ],
          [
           0,
           0,
           0,
           0,
           0,
           0,
           0
          ],
          [
           0,
           0,
           0,
           0,
           0,
           0,
           0
          ],
          [
           0,
           0,
           0,
           0,
           0,
           0.01032557338476181,
           0
          ],
          [
           0,
           0,
           0,
           0,
           0,
           0,
           0
          ],
          [
           0,
           0,
           0,
           0,
           0,
           0,
           0
          ],
          [
           0,
           0,
           0,
           0,
           0,
           0,
           0
          ],
          [
           0,
           0,
           0,
           0,
           0,
           0,
           0
          ],
          [
           0,
           0,
           0,
           0,
           0,
           0,
           0
          ],
          [
           0,
           0,
           0,
           0,
           0,
           0,
           0
          ],
          [
           0,
           0,
           0,
           0,
           0,
           0,
           0
          ],
          [
           0,
           0,
           0,
           0,
           0,
           0,
           0
          ],
          [
           0,
           0,
           0,
           0,
           0,
           0,
           0
          ],
          [
           0,
           0,
           0,
           0,
           0,
           0,
           0
          ],
          [
           0,
           0,
           0,
           0,
           0,
           0,
           0
          ],
          [
           0,
           0,
           0,
           0,
           0,
           0,
           0
          ],
          [
           0,
           0,
           0,
           0,
           0,
           0,
           0
          ],
          [
           0,
           0,
           0,
           0,
           0,
           0,
           0
          ],
          [
           0,
           0,
           0,
           0,
           0,
           0,
           0
          ],
          [
           0,
           0,
           0,
           0,
           0,
           0,
           0
          ],
          [
           0,
           0,
           0,
           0,
           0,
           0,
           0
          ],
          [
           0,
           0,
           0,
           0,
           0.0006063617765903473,
           0,
           0
          ]
         ]
        }
       ],
       "layout": {
        "template": {
         "data": {
          "bar": [
           {
            "error_x": {
             "color": "#2a3f5f"
            },
            "error_y": {
             "color": "#2a3f5f"
            },
            "marker": {
             "line": {
              "color": "#E5ECF6",
              "width": 0.5
             },
             "pattern": {
              "fillmode": "overlay",
              "size": 10,
              "solidity": 0.2
             }
            },
            "type": "bar"
           }
          ],
          "barpolar": [
           {
            "marker": {
             "line": {
              "color": "#E5ECF6",
              "width": 0.5
             },
             "pattern": {
              "fillmode": "overlay",
              "size": 10,
              "solidity": 0.2
             }
            },
            "type": "barpolar"
           }
          ],
          "carpet": [
           {
            "aaxis": {
             "endlinecolor": "#2a3f5f",
             "gridcolor": "white",
             "linecolor": "white",
             "minorgridcolor": "white",
             "startlinecolor": "#2a3f5f"
            },
            "baxis": {
             "endlinecolor": "#2a3f5f",
             "gridcolor": "white",
             "linecolor": "white",
             "minorgridcolor": "white",
             "startlinecolor": "#2a3f5f"
            },
            "type": "carpet"
           }
          ],
          "choropleth": [
           {
            "colorbar": {
             "outlinewidth": 0,
             "ticks": ""
            },
            "type": "choropleth"
           }
          ],
          "contour": [
           {
            "colorbar": {
             "outlinewidth": 0,
             "ticks": ""
            },
            "colorscale": [
             [
              0,
              "#0d0887"
             ],
             [
              0.1111111111111111,
              "#46039f"
             ],
             [
              0.2222222222222222,
              "#7201a8"
             ],
             [
              0.3333333333333333,
              "#9c179e"
             ],
             [
              0.4444444444444444,
              "#bd3786"
             ],
             [
              0.5555555555555556,
              "#d8576b"
             ],
             [
              0.6666666666666666,
              "#ed7953"
             ],
             [
              0.7777777777777778,
              "#fb9f3a"
             ],
             [
              0.8888888888888888,
              "#fdca26"
             ],
             [
              1,
              "#f0f921"
             ]
            ],
            "type": "contour"
           }
          ],
          "contourcarpet": [
           {
            "colorbar": {
             "outlinewidth": 0,
             "ticks": ""
            },
            "type": "contourcarpet"
           }
          ],
          "heatmap": [
           {
            "colorbar": {
             "outlinewidth": 0,
             "ticks": ""
            },
            "colorscale": [
             [
              0,
              "#0d0887"
             ],
             [
              0.1111111111111111,
              "#46039f"
             ],
             [
              0.2222222222222222,
              "#7201a8"
             ],
             [
              0.3333333333333333,
              "#9c179e"
             ],
             [
              0.4444444444444444,
              "#bd3786"
             ],
             [
              0.5555555555555556,
              "#d8576b"
             ],
             [
              0.6666666666666666,
              "#ed7953"
             ],
             [
              0.7777777777777778,
              "#fb9f3a"
             ],
             [
              0.8888888888888888,
              "#fdca26"
             ],
             [
              1,
              "#f0f921"
             ]
            ],
            "type": "heatmap"
           }
          ],
          "heatmapgl": [
           {
            "colorbar": {
             "outlinewidth": 0,
             "ticks": ""
            },
            "colorscale": [
             [
              0,
              "#0d0887"
             ],
             [
              0.1111111111111111,
              "#46039f"
             ],
             [
              0.2222222222222222,
              "#7201a8"
             ],
             [
              0.3333333333333333,
              "#9c179e"
             ],
             [
              0.4444444444444444,
              "#bd3786"
             ],
             [
              0.5555555555555556,
              "#d8576b"
             ],
             [
              0.6666666666666666,
              "#ed7953"
             ],
             [
              0.7777777777777778,
              "#fb9f3a"
             ],
             [
              0.8888888888888888,
              "#fdca26"
             ],
             [
              1,
              "#f0f921"
             ]
            ],
            "type": "heatmapgl"
           }
          ],
          "histogram": [
           {
            "marker": {
             "pattern": {
              "fillmode": "overlay",
              "size": 10,
              "solidity": 0.2
             }
            },
            "type": "histogram"
           }
          ],
          "histogram2d": [
           {
            "colorbar": {
             "outlinewidth": 0,
             "ticks": ""
            },
            "colorscale": [
             [
              0,
              "#0d0887"
             ],
             [
              0.1111111111111111,
              "#46039f"
             ],
             [
              0.2222222222222222,
              "#7201a8"
             ],
             [
              0.3333333333333333,
              "#9c179e"
             ],
             [
              0.4444444444444444,
              "#bd3786"
             ],
             [
              0.5555555555555556,
              "#d8576b"
             ],
             [
              0.6666666666666666,
              "#ed7953"
             ],
             [
              0.7777777777777778,
              "#fb9f3a"
             ],
             [
              0.8888888888888888,
              "#fdca26"
             ],
             [
              1,
              "#f0f921"
             ]
            ],
            "type": "histogram2d"
           }
          ],
          "histogram2dcontour": [
           {
            "colorbar": {
             "outlinewidth": 0,
             "ticks": ""
            },
            "colorscale": [
             [
              0,
              "#0d0887"
             ],
             [
              0.1111111111111111,
              "#46039f"
             ],
             [
              0.2222222222222222,
              "#7201a8"
             ],
             [
              0.3333333333333333,
              "#9c179e"
             ],
             [
              0.4444444444444444,
              "#bd3786"
             ],
             [
              0.5555555555555556,
              "#d8576b"
             ],
             [
              0.6666666666666666,
              "#ed7953"
             ],
             [
              0.7777777777777778,
              "#fb9f3a"
             ],
             [
              0.8888888888888888,
              "#fdca26"
             ],
             [
              1,
              "#f0f921"
             ]
            ],
            "type": "histogram2dcontour"
           }
          ],
          "mesh3d": [
           {
            "colorbar": {
             "outlinewidth": 0,
             "ticks": ""
            },
            "type": "mesh3d"
           }
          ],
          "parcoords": [
           {
            "line": {
             "colorbar": {
              "outlinewidth": 0,
              "ticks": ""
             }
            },
            "type": "parcoords"
           }
          ],
          "pie": [
           {
            "automargin": true,
            "type": "pie"
           }
          ],
          "scatter": [
           {
            "fillpattern": {
             "fillmode": "overlay",
             "size": 10,
             "solidity": 0.2
            },
            "type": "scatter"
           }
          ],
          "scatter3d": [
           {
            "line": {
             "colorbar": {
              "outlinewidth": 0,
              "ticks": ""
             }
            },
            "marker": {
             "colorbar": {
              "outlinewidth": 0,
              "ticks": ""
             }
            },
            "type": "scatter3d"
           }
          ],
          "scattercarpet": [
           {
            "marker": {
             "colorbar": {
              "outlinewidth": 0,
              "ticks": ""
             }
            },
            "type": "scattercarpet"
           }
          ],
          "scattergeo": [
           {
            "marker": {
             "colorbar": {
              "outlinewidth": 0,
              "ticks": ""
             }
            },
            "type": "scattergeo"
           }
          ],
          "scattergl": [
           {
            "marker": {
             "colorbar": {
              "outlinewidth": 0,
              "ticks": ""
             }
            },
            "type": "scattergl"
           }
          ],
          "scattermapbox": [
           {
            "marker": {
             "colorbar": {
              "outlinewidth": 0,
              "ticks": ""
             }
            },
            "type": "scattermapbox"
           }
          ],
          "scatterpolar": [
           {
            "marker": {
             "colorbar": {
              "outlinewidth": 0,
              "ticks": ""
             }
            },
            "type": "scatterpolar"
           }
          ],
          "scatterpolargl": [
           {
            "marker": {
             "colorbar": {
              "outlinewidth": 0,
              "ticks": ""
             }
            },
            "type": "scatterpolargl"
           }
          ],
          "scatterternary": [
           {
            "marker": {
             "colorbar": {
              "outlinewidth": 0,
              "ticks": ""
             }
            },
            "type": "scatterternary"
           }
          ],
          "surface": [
           {
            "colorbar": {
             "outlinewidth": 0,
             "ticks": ""
            },
            "colorscale": [
             [
              0,
              "#0d0887"
             ],
             [
              0.1111111111111111,
              "#46039f"
             ],
             [
              0.2222222222222222,
              "#7201a8"
             ],
             [
              0.3333333333333333,
              "#9c179e"
             ],
             [
              0.4444444444444444,
              "#bd3786"
             ],
             [
              0.5555555555555556,
              "#d8576b"
             ],
             [
              0.6666666666666666,
              "#ed7953"
             ],
             [
              0.7777777777777778,
              "#fb9f3a"
             ],
             [
              0.8888888888888888,
              "#fdca26"
             ],
             [
              1,
              "#f0f921"
             ]
            ],
            "type": "surface"
           }
          ],
          "table": [
           {
            "cells": {
             "fill": {
              "color": "#EBF0F8"
             },
             "line": {
              "color": "white"
             }
            },
            "header": {
             "fill": {
              "color": "#C8D4E3"
             },
             "line": {
              "color": "white"
             }
            },
            "type": "table"
           }
          ]
         },
         "layout": {
          "annotationdefaults": {
           "arrowcolor": "#2a3f5f",
           "arrowhead": 0,
           "arrowwidth": 1
          },
          "autotypenumbers": "strict",
          "coloraxis": {
           "colorbar": {
            "outlinewidth": 0,
            "ticks": ""
           }
          },
          "colorscale": {
           "diverging": [
            [
             0,
             "#8e0152"
            ],
            [
             0.1,
             "#c51b7d"
            ],
            [
             0.2,
             "#de77ae"
            ],
            [
             0.3,
             "#f1b6da"
            ],
            [
             0.4,
             "#fde0ef"
            ],
            [
             0.5,
             "#f7f7f7"
            ],
            [
             0.6,
             "#e6f5d0"
            ],
            [
             0.7,
             "#b8e186"
            ],
            [
             0.8,
             "#7fbc41"
            ],
            [
             0.9,
             "#4d9221"
            ],
            [
             1,
             "#276419"
            ]
           ],
           "sequential": [
            [
             0,
             "#0d0887"
            ],
            [
             0.1111111111111111,
             "#46039f"
            ],
            [
             0.2222222222222222,
             "#7201a8"
            ],
            [
             0.3333333333333333,
             "#9c179e"
            ],
            [
             0.4444444444444444,
             "#bd3786"
            ],
            [
             0.5555555555555556,
             "#d8576b"
            ],
            [
             0.6666666666666666,
             "#ed7953"
            ],
            [
             0.7777777777777778,
             "#fb9f3a"
            ],
            [
             0.8888888888888888,
             "#fdca26"
            ],
            [
             1,
             "#f0f921"
            ]
           ],
           "sequentialminus": [
            [
             0,
             "#0d0887"
            ],
            [
             0.1111111111111111,
             "#46039f"
            ],
            [
             0.2222222222222222,
             "#7201a8"
            ],
            [
             0.3333333333333333,
             "#9c179e"
            ],
            [
             0.4444444444444444,
             "#bd3786"
            ],
            [
             0.5555555555555556,
             "#d8576b"
            ],
            [
             0.6666666666666666,
             "#ed7953"
            ],
            [
             0.7777777777777778,
             "#fb9f3a"
            ],
            [
             0.8888888888888888,
             "#fdca26"
            ],
            [
             1,
             "#f0f921"
            ]
           ]
          },
          "colorway": [
           "#636efa",
           "#EF553B",
           "#00cc96",
           "#ab63fa",
           "#FFA15A",
           "#19d3f3",
           "#FF6692",
           "#B6E880",
           "#FF97FF",
           "#FECB52"
          ],
          "font": {
           "color": "#2a3f5f"
          },
          "geo": {
           "bgcolor": "white",
           "lakecolor": "white",
           "landcolor": "#E5ECF6",
           "showlakes": true,
           "showland": true,
           "subunitcolor": "white"
          },
          "hoverlabel": {
           "align": "left"
          },
          "hovermode": "closest",
          "mapbox": {
           "style": "light"
          },
          "paper_bgcolor": "white",
          "plot_bgcolor": "#E5ECF6",
          "polar": {
           "angularaxis": {
            "gridcolor": "white",
            "linecolor": "white",
            "ticks": ""
           },
           "bgcolor": "#E5ECF6",
           "radialaxis": {
            "gridcolor": "white",
            "linecolor": "white",
            "ticks": ""
           }
          },
          "scene": {
           "xaxis": {
            "backgroundcolor": "#E5ECF6",
            "gridcolor": "white",
            "gridwidth": 2,
            "linecolor": "white",
            "showbackground": true,
            "ticks": "",
            "zerolinecolor": "white"
           },
           "yaxis": {
            "backgroundcolor": "#E5ECF6",
            "gridcolor": "white",
            "gridwidth": 2,
            "linecolor": "white",
            "showbackground": true,
            "ticks": "",
            "zerolinecolor": "white"
           },
           "zaxis": {
            "backgroundcolor": "#E5ECF6",
            "gridcolor": "white",
            "gridwidth": 2,
            "linecolor": "white",
            "showbackground": true,
            "ticks": "",
            "zerolinecolor": "white"
           }
          },
          "shapedefaults": {
           "line": {
            "color": "#2a3f5f"
           }
          },
          "ternary": {
           "aaxis": {
            "gridcolor": "white",
            "linecolor": "white",
            "ticks": ""
           },
           "baxis": {
            "gridcolor": "white",
            "linecolor": "white",
            "ticks": ""
           },
           "bgcolor": "#E5ECF6",
           "caxis": {
            "gridcolor": "white",
            "linecolor": "white",
            "ticks": ""
           }
          },
          "title": {
           "x": 0.05
          },
          "xaxis": {
           "automargin": true,
           "gridcolor": "white",
           "linecolor": "white",
           "ticks": "",
           "title": {
            "standoff": 15
           },
           "zerolinecolor": "white",
           "zerolinewidth": 2
          },
          "yaxis": {
           "automargin": true,
           "gridcolor": "white",
           "linecolor": "white",
           "ticks": "",
           "title": {
            "standoff": 15
           },
           "zerolinecolor": "white",
           "zerolinewidth": 2
          }
         }
        },
        "title": {
         "text": "DGI : 5.4317317"
        },
        "xaxis": {
         "title": {
          "text": "Sense Features"
         }
        },
        "yaxis": {
         "title": {
          "text": "Dimensions"
         }
        }
       }
      },
      "text/html": [
       "<div>                            <div id=\"36d9007d-4884-429d-8d72-fea20e902d07\" class=\"plotly-graph-div\" style=\"height:525px; width:100%;\"></div>            <script type=\"text/javascript\">                require([\"plotly\"], function(Plotly) {                    window.PLOTLYENV=window.PLOTLYENV || {};                                    if (document.getElementById(\"36d9007d-4884-429d-8d72-fea20e902d07\")) {                    Plotly.newPlot(                        \"36d9007d-4884-429d-8d72-fea20e902d07\",                        [{\"x\":[\"Degree\",\"Clustering Coefficient\",\"Personalized Page Rank - Standard Deviation\",\"Average Neighbor Degree\",\"Average Neighbor Clustering\",\"Eccentricity\",\"Katz Centrality\"],\"z\":[[0.0,0.0,0.0,0.0,0.11497137695550919,0.0,0.0],[0.0,0.0,0.0,0.0,0.0,0.0,0.0],[0.0,0.0,0.0,0.0,0.0,0.0,0.0],[0.0,0.0,0.0,0.0,0.0,0.0,0.0],[0.0,0.0,0.0,0.0,0.0,0.0,0.0],[0.0,0.0,0.0,0.0,0.0,0.0,0.0],[0.0,0.0,0.6669033765792847,0.0,0.0,0.0,0.0],[0.0,0.0,0.0,0.0,0.0,0.0,0.055927857756614685],[0.0,0.0,0.0,0.0,0.0,0.0,0.008162088692188263],[0.0,0.0,0.0,0.0,0.0,0.0,0.0],[0.0,0.0,0.0,0.0,0.0,0.0,0.024562925100326538],[0.0,0.0,0.0,0.0,0.0,0.0,0.0],[0.0,0.0,0.0,0.0,0.0,0.0,0.0],[0.0,0.0,0.0,0.1031259149312973,0.0,0.0,0.0],[0.0,0.0,0.0,0.0,0.0,0.0,0.0],[0.0,0.0,0.0,0.0,0.0,0.0,0.04501146450638771],[0.0,0.0,0.0,0.0,0.0,0.0,0.0],[0.0,0.0,0.0,0.0,0.0,0.0,0.0],[0.0,0.0,0.0,0.0,0.0,0.0,0.0],[0.0,0.0,0.0,0.0,0.0,0.0,0.047165509313344955],[0.0,0.0,0.0,0.0,0.0,0.0,0.0],[0.0,0.0,0.0,0.0,0.0,0.0,0.6719112396240234],[0.0,0.0,0.0,0.0,0.0,0.0,0.38875943422317505],[0.0,0.0,0.0,0.0,0.0,0.0,0.0],[0.0,0.0,0.0,0.0,0.0,0.0,0.0],[0.0,0.0,0.0,0.0,0.0,0.0,0.0],[0.0,0.0,0.0,0.0,0.0,0.0,0.0],[0.0,0.0,0.0,0.0,0.0,0.0,0.0],[0.0,0.0,0.0,0.0,0.0,0.0,0.0],[0.0,0.0,0.0,0.0,0.0,0.0,0.0],[0.0,0.0,0.0,0.0,0.0,0.0,0.0],[0.0,0.0,0.0,0.0,0.04437386244535446,0.0,0.0],[0.0,0.16404463350772858,0.0,0.0,0.15093867480754852,0.0,0.0],[0.41971275210380554,0.0,0.0,0.0,0.0,0.0,0.0],[0.0,0.0,0.0,0.0,0.0,0.0,0.0],[0.0,0.0,0.0,0.0,0.0,0.0,0.0],[0.0,0.0,0.0,0.0,0.0,0.0,0.0],[0.0,0.0,0.0,0.0,0.0,0.0,0.0],[0.978554368019104,0.0,0.0,0.0,0.05004901438951492,0.0,0.0],[0.0,0.0,0.0,0.0,0.0,0.0,0.0],[0.0,0.0,0.0,0.0,0.0,0.0,0.0],[0.0,0.0,0.0,0.0,0.0,0.0,0.0],[0.0,0.0,0.0,0.0,0.011672127060592175,0.0,0.0],[0.0,0.0,0.0,0.0,0.0,0.0,0.0],[0.0,0.0,0.0,1.0,0.0,0.0,0.0],[0.0,0.0,0.0,0.0,0.0,0.0,0.0],[0.0,0.0,0.0,0.0,0.0,0.0,0.0],[0.0,0.0,0.0,0.0,0.0,0.0,0.0],[0.0,0.0,0.4861886501312256,0.0,0.0,0.0,0.0],[0.0,0.0,0.0,0.0,0.0,0.0,0.0],[0.0,0.0,0.0,0.0,0.0,0.0,0.0],[0.0,0.0,0.0,0.0,0.0,0.0,0.0],[0.0,0.0,0.0,0.0,0.0,0.0,0.0],[0.0,0.0,0.0,0.0,0.0,0.0,0.0],[0.0,0.0,0.0,0.0,0.0,0.0,0.0],[0.0,0.0,0.0,0.0,0.0,0.0,0.027626335620880127],[0.0,0.0,0.0,0.0,0.0,0.0,0.0],[0.0,0.0,0.0,0.0,0.0,0.13345129787921906,0.0],[0.0,0.0,0.0,0.0,0.0,0.0,0.0],[0.0,0.0,0.0,0.0,0.0,0.0,0.0],[0.0,0.0,0.0,0.0,0.0,0.0,0.0],[0.0,0.9117380976676941,0.0,0.0,0.0,0.0,0.0],[0.0,0.0,0.0,0.0,0.04585850238800049,0.0,0.0],[0.0,0.0,0.0,0.0,0.0,0.0,0.0],[0.0,0.0,0.0,0.0,0.0,0.0,0.0],[0.0,0.0,0.0,0.0,0.0,0.0,0.0374576672911644],[0.0,0.0,0.0,0.0,0.0,0.0,0.0],[0.0,0.0,0.0,0.0,0.0,0.0,0.0],[0.0,0.0,0.0,0.0,0.2346271574497223,0.0,0.0],[0.0,0.0,0.0,0.0,0.0,0.0,0.0],[0.0,0.0,0.0,0.0,0.0,0.0,0.0],[0.0,0.0,0.0,0.0,0.0,0.0,0.03130611404776573],[0.0,0.0,0.0,0.0,0.0,0.0,0.0],[0.0,0.0,0.0,0.0,0.0,0.0,0.0],[0.0,0.0,0.0,0.0,0.0,0.0,0.0],[0.0,0.0,0.0,0.0,0.0,0.0,0.0],[0.0,0.0,0.0,0.0,0.0,0.0,0.0],[0.0,0.0,0.0,0.0,0.0,0.0,0.0],[0.0,0.0,0.0,0.0,0.0,0.0,0.0],[0.0,0.0,0.0,0.0,0.0,0.0,0.0],[0.0,0.0,0.0,0.0,0.0,0.0,0.0027844731230288744],[0.0,0.0,0.0,0.0,0.0,0.0,0.0],[0.0,0.0,0.0,0.0,0.0,0.0,0.0],[0.0,0.0,0.0,0.0,0.0,0.0,0.0],[0.0,0.0,0.0,0.0,0.0,0.0,0.0],[0.0,0.0,0.0,0.0,0.0,0.0,0.0],[0.0,0.0,0.0,0.0,0.0,0.0,0.0],[0.0,0.0,0.0,0.0,0.0,0.0,0.0],[0.0,0.0,0.0,0.0,0.0,0.0,0.0],[0.0,0.0,0.0,0.0,0.0,0.0,0.0],[0.0,0.0,0.0,0.0,0.18130578100681305,0.0,0.0],[0.0,0.0,0.0,0.0,0.0,0.0,0.010024544782936573],[0.0,0.0,0.0,0.0,0.0,0.0,0.022288907319307327],[0.0,0.0,0.0,0.0,0.0,0.2965819835662842,0.0],[0.0,0.0,0.0,0.0,0.0,0.0,0.0],[0.0,0.0,0.0,0.0,0.0,0.0,0.0],[0.0,0.0,0.0,0.0,0.0,0.0,0.0],[0.0,0.0,0.0,0.0,0.0,0.0,0.0],[0.0,0.0,0.0,0.0,0.0,0.0,0.0],[0.0,0.0,0.0,0.0,0.0,0.0,0.00821678526699543],[0.0,0.0,0.0,0.0,0.0,0.0,0.0],[0.0,0.0,0.0,0.0,0.0,0.0,0.0],[0.0,0.0,0.0,0.0,0.0,0.0,0.0],[0.0,0.0,0.0,0.0,0.0,0.0,0.0],[0.0,0.0,0.0,0.0,0.0,0.0,0.0],[0.0,0.0,0.0,0.0,0.0,0.0,0.0],[0.0,0.0,0.0,0.0,0.0,0.3357776701450348,0.0],[0.0,0.0,0.0,0.0,0.0,0.0,0.0],[0.0,0.0,0.0,0.0,0.0,0.0,0.0],[0.0,0.0,0.0,0.0,0.0,0.01032557338476181,0.0],[0.0,0.0,0.0,0.0,0.0,0.0,0.0],[0.0,0.0,0.0,0.0,0.0,0.0,0.0],[0.0,0.0,0.0,0.0,0.0,0.0,0.0],[0.0,0.0,0.0,0.0,0.0,0.0,0.0],[0.0,0.0,0.0,0.0,0.0,0.0,0.0],[0.0,0.0,0.0,0.0,0.0,0.0,0.0],[0.0,0.0,0.0,0.0,0.0,0.0,0.0],[0.0,0.0,0.0,0.0,0.0,0.0,0.0],[0.0,0.0,0.0,0.0,0.0,0.0,0.0],[0.0,0.0,0.0,0.0,0.0,0.0,0.0],[0.0,0.0,0.0,0.0,0.0,0.0,0.0],[0.0,0.0,0.0,0.0,0.0,0.0,0.0],[0.0,0.0,0.0,0.0,0.0,0.0,0.0],[0.0,0.0,0.0,0.0,0.0,0.0,0.0],[0.0,0.0,0.0,0.0,0.0,0.0,0.0],[0.0,0.0,0.0,0.0,0.0,0.0,0.0],[0.0,0.0,0.0,0.0,0.0,0.0,0.0],[0.0,0.0,0.0,0.0,0.0006063617765903473,0.0,0.0]],\"type\":\"heatmap\"}],                        {\"template\":{\"data\":{\"histogram2dcontour\":[{\"type\":\"histogram2dcontour\",\"colorbar\":{\"outlinewidth\":0,\"ticks\":\"\"},\"colorscale\":[[0.0,\"#0d0887\"],[0.1111111111111111,\"#46039f\"],[0.2222222222222222,\"#7201a8\"],[0.3333333333333333,\"#9c179e\"],[0.4444444444444444,\"#bd3786\"],[0.5555555555555556,\"#d8576b\"],[0.6666666666666666,\"#ed7953\"],[0.7777777777777778,\"#fb9f3a\"],[0.8888888888888888,\"#fdca26\"],[1.0,\"#f0f921\"]]}],\"choropleth\":[{\"type\":\"choropleth\",\"colorbar\":{\"outlinewidth\":0,\"ticks\":\"\"}}],\"histogram2d\":[{\"type\":\"histogram2d\",\"colorbar\":{\"outlinewidth\":0,\"ticks\":\"\"},\"colorscale\":[[0.0,\"#0d0887\"],[0.1111111111111111,\"#46039f\"],[0.2222222222222222,\"#7201a8\"],[0.3333333333333333,\"#9c179e\"],[0.4444444444444444,\"#bd3786\"],[0.5555555555555556,\"#d8576b\"],[0.6666666666666666,\"#ed7953\"],[0.7777777777777778,\"#fb9f3a\"],[0.8888888888888888,\"#fdca26\"],[1.0,\"#f0f921\"]]}],\"heatmap\":[{\"type\":\"heatmap\",\"colorbar\":{\"outlinewidth\":0,\"ticks\":\"\"},\"colorscale\":[[0.0,\"#0d0887\"],[0.1111111111111111,\"#46039f\"],[0.2222222222222222,\"#7201a8\"],[0.3333333333333333,\"#9c179e\"],[0.4444444444444444,\"#bd3786\"],[0.5555555555555556,\"#d8576b\"],[0.6666666666666666,\"#ed7953\"],[0.7777777777777778,\"#fb9f3a\"],[0.8888888888888888,\"#fdca26\"],[1.0,\"#f0f921\"]]}],\"heatmapgl\":[{\"type\":\"heatmapgl\",\"colorbar\":{\"outlinewidth\":0,\"ticks\":\"\"},\"colorscale\":[[0.0,\"#0d0887\"],[0.1111111111111111,\"#46039f\"],[0.2222222222222222,\"#7201a8\"],[0.3333333333333333,\"#9c179e\"],[0.4444444444444444,\"#bd3786\"],[0.5555555555555556,\"#d8576b\"],[0.6666666666666666,\"#ed7953\"],[0.7777777777777778,\"#fb9f3a\"],[0.8888888888888888,\"#fdca26\"],[1.0,\"#f0f921\"]]}],\"contourcarpet\":[{\"type\":\"contourcarpet\",\"colorbar\":{\"outlinewidth\":0,\"ticks\":\"\"}}],\"contour\":[{\"type\":\"contour\",\"colorbar\":{\"outlinewidth\":0,\"ticks\":\"\"},\"colorscale\":[[0.0,\"#0d0887\"],[0.1111111111111111,\"#46039f\"],[0.2222222222222222,\"#7201a8\"],[0.3333333333333333,\"#9c179e\"],[0.4444444444444444,\"#bd3786\"],[0.5555555555555556,\"#d8576b\"],[0.6666666666666666,\"#ed7953\"],[0.7777777777777778,\"#fb9f3a\"],[0.8888888888888888,\"#fdca26\"],[1.0,\"#f0f921\"]]}],\"surface\":[{\"type\":\"surface\",\"colorbar\":{\"outlinewidth\":0,\"ticks\":\"\"},\"colorscale\":[[0.0,\"#0d0887\"],[0.1111111111111111,\"#46039f\"],[0.2222222222222222,\"#7201a8\"],[0.3333333333333333,\"#9c179e\"],[0.4444444444444444,\"#bd3786\"],[0.5555555555555556,\"#d8576b\"],[0.6666666666666666,\"#ed7953\"],[0.7777777777777778,\"#fb9f3a\"],[0.8888888888888888,\"#fdca26\"],[1.0,\"#f0f921\"]]}],\"mesh3d\":[{\"type\":\"mesh3d\",\"colorbar\":{\"outlinewidth\":0,\"ticks\":\"\"}}],\"scatter\":[{\"fillpattern\":{\"fillmode\":\"overlay\",\"size\":10,\"solidity\":0.2},\"type\":\"scatter\"}],\"parcoords\":[{\"type\":\"parcoords\",\"line\":{\"colorbar\":{\"outlinewidth\":0,\"ticks\":\"\"}}}],\"scatterpolargl\":[{\"type\":\"scatterpolargl\",\"marker\":{\"colorbar\":{\"outlinewidth\":0,\"ticks\":\"\"}}}],\"bar\":[{\"error_x\":{\"color\":\"#2a3f5f\"},\"error_y\":{\"color\":\"#2a3f5f\"},\"marker\":{\"line\":{\"color\":\"#E5ECF6\",\"width\":0.5},\"pattern\":{\"fillmode\":\"overlay\",\"size\":10,\"solidity\":0.2}},\"type\":\"bar\"}],\"scattergeo\":[{\"type\":\"scattergeo\",\"marker\":{\"colorbar\":{\"outlinewidth\":0,\"ticks\":\"\"}}}],\"scatterpolar\":[{\"type\":\"scatterpolar\",\"marker\":{\"colorbar\":{\"outlinewidth\":0,\"ticks\":\"\"}}}],\"histogram\":[{\"marker\":{\"pattern\":{\"fillmode\":\"overlay\",\"size\":10,\"solidity\":0.2}},\"type\":\"histogram\"}],\"scattergl\":[{\"type\":\"scattergl\",\"marker\":{\"colorbar\":{\"outlinewidth\":0,\"ticks\":\"\"}}}],\"scatter3d\":[{\"type\":\"scatter3d\",\"line\":{\"colorbar\":{\"outlinewidth\":0,\"ticks\":\"\"}},\"marker\":{\"colorbar\":{\"outlinewidth\":0,\"ticks\":\"\"}}}],\"scattermapbox\":[{\"type\":\"scattermapbox\",\"marker\":{\"colorbar\":{\"outlinewidth\":0,\"ticks\":\"\"}}}],\"scatterternary\":[{\"type\":\"scatterternary\",\"marker\":{\"colorbar\":{\"outlinewidth\":0,\"ticks\":\"\"}}}],\"scattercarpet\":[{\"type\":\"scattercarpet\",\"marker\":{\"colorbar\":{\"outlinewidth\":0,\"ticks\":\"\"}}}],\"carpet\":[{\"aaxis\":{\"endlinecolor\":\"#2a3f5f\",\"gridcolor\":\"white\",\"linecolor\":\"white\",\"minorgridcolor\":\"white\",\"startlinecolor\":\"#2a3f5f\"},\"baxis\":{\"endlinecolor\":\"#2a3f5f\",\"gridcolor\":\"white\",\"linecolor\":\"white\",\"minorgridcolor\":\"white\",\"startlinecolor\":\"#2a3f5f\"},\"type\":\"carpet\"}],\"table\":[{\"cells\":{\"fill\":{\"color\":\"#EBF0F8\"},\"line\":{\"color\":\"white\"}},\"header\":{\"fill\":{\"color\":\"#C8D4E3\"},\"line\":{\"color\":\"white\"}},\"type\":\"table\"}],\"barpolar\":[{\"marker\":{\"line\":{\"color\":\"#E5ECF6\",\"width\":0.5},\"pattern\":{\"fillmode\":\"overlay\",\"size\":10,\"solidity\":0.2}},\"type\":\"barpolar\"}],\"pie\":[{\"automargin\":true,\"type\":\"pie\"}]},\"layout\":{\"autotypenumbers\":\"strict\",\"colorway\":[\"#636efa\",\"#EF553B\",\"#00cc96\",\"#ab63fa\",\"#FFA15A\",\"#19d3f3\",\"#FF6692\",\"#B6E880\",\"#FF97FF\",\"#FECB52\"],\"font\":{\"color\":\"#2a3f5f\"},\"hovermode\":\"closest\",\"hoverlabel\":{\"align\":\"left\"},\"paper_bgcolor\":\"white\",\"plot_bgcolor\":\"#E5ECF6\",\"polar\":{\"bgcolor\":\"#E5ECF6\",\"angularaxis\":{\"gridcolor\":\"white\",\"linecolor\":\"white\",\"ticks\":\"\"},\"radialaxis\":{\"gridcolor\":\"white\",\"linecolor\":\"white\",\"ticks\":\"\"}},\"ternary\":{\"bgcolor\":\"#E5ECF6\",\"aaxis\":{\"gridcolor\":\"white\",\"linecolor\":\"white\",\"ticks\":\"\"},\"baxis\":{\"gridcolor\":\"white\",\"linecolor\":\"white\",\"ticks\":\"\"},\"caxis\":{\"gridcolor\":\"white\",\"linecolor\":\"white\",\"ticks\":\"\"}},\"coloraxis\":{\"colorbar\":{\"outlinewidth\":0,\"ticks\":\"\"}},\"colorscale\":{\"sequential\":[[0.0,\"#0d0887\"],[0.1111111111111111,\"#46039f\"],[0.2222222222222222,\"#7201a8\"],[0.3333333333333333,\"#9c179e\"],[0.4444444444444444,\"#bd3786\"],[0.5555555555555556,\"#d8576b\"],[0.6666666666666666,\"#ed7953\"],[0.7777777777777778,\"#fb9f3a\"],[0.8888888888888888,\"#fdca26\"],[1.0,\"#f0f921\"]],\"sequentialminus\":[[0.0,\"#0d0887\"],[0.1111111111111111,\"#46039f\"],[0.2222222222222222,\"#7201a8\"],[0.3333333333333333,\"#9c179e\"],[0.4444444444444444,\"#bd3786\"],[0.5555555555555556,\"#d8576b\"],[0.6666666666666666,\"#ed7953\"],[0.7777777777777778,\"#fb9f3a\"],[0.8888888888888888,\"#fdca26\"],[1.0,\"#f0f921\"]],\"diverging\":[[0,\"#8e0152\"],[0.1,\"#c51b7d\"],[0.2,\"#de77ae\"],[0.3,\"#f1b6da\"],[0.4,\"#fde0ef\"],[0.5,\"#f7f7f7\"],[0.6,\"#e6f5d0\"],[0.7,\"#b8e186\"],[0.8,\"#7fbc41\"],[0.9,\"#4d9221\"],[1,\"#276419\"]]},\"xaxis\":{\"gridcolor\":\"white\",\"linecolor\":\"white\",\"ticks\":\"\",\"title\":{\"standoff\":15},\"zerolinecolor\":\"white\",\"automargin\":true,\"zerolinewidth\":2},\"yaxis\":{\"gridcolor\":\"white\",\"linecolor\":\"white\",\"ticks\":\"\",\"title\":{\"standoff\":15},\"zerolinecolor\":\"white\",\"automargin\":true,\"zerolinewidth\":2},\"scene\":{\"xaxis\":{\"backgroundcolor\":\"#E5ECF6\",\"gridcolor\":\"white\",\"linecolor\":\"white\",\"showbackground\":true,\"ticks\":\"\",\"zerolinecolor\":\"white\",\"gridwidth\":2},\"yaxis\":{\"backgroundcolor\":\"#E5ECF6\",\"gridcolor\":\"white\",\"linecolor\":\"white\",\"showbackground\":true,\"ticks\":\"\",\"zerolinecolor\":\"white\",\"gridwidth\":2},\"zaxis\":{\"backgroundcolor\":\"#E5ECF6\",\"gridcolor\":\"white\",\"linecolor\":\"white\",\"showbackground\":true,\"ticks\":\"\",\"zerolinecolor\":\"white\",\"gridwidth\":2}},\"shapedefaults\":{\"line\":{\"color\":\"#2a3f5f\"}},\"annotationdefaults\":{\"arrowcolor\":\"#2a3f5f\",\"arrowhead\":0,\"arrowwidth\":1},\"geo\":{\"bgcolor\":\"white\",\"landcolor\":\"#E5ECF6\",\"subunitcolor\":\"white\",\"showland\":true,\"showlakes\":true,\"lakecolor\":\"white\"},\"title\":{\"x\":0.05},\"mapbox\":{\"style\":\"light\"}}},\"title\":{\"text\":\"DGI : 5.4317317\"},\"xaxis\":{\"title\":{\"text\":\"Sense Features\"}},\"yaxis\":{\"title\":{\"text\":\"Dimensions\"}}},                        {\"responsive\": true}                    ).then(function(){\n",
       "                            \n",
       "var gd = document.getElementById('36d9007d-4884-429d-8d72-fea20e902d07');\n",
       "var x = new MutationObserver(function (mutations, observer) {{\n",
       "        var display = window.getComputedStyle(gd).display;\n",
       "        if (!display || display === 'none') {{\n",
       "            console.log([gd, 'removed!']);\n",
       "            Plotly.purge(gd);\n",
       "            observer.disconnect();\n",
       "        }}\n",
       "}});\n",
       "\n",
       "// Listen for the removal of the full notebook cells\n",
       "var notebookContainer = gd.closest('#notebook-container');\n",
       "if (notebookContainer) {{\n",
       "    x.observe(notebookContainer, {childList: true});\n",
       "}}\n",
       "\n",
       "// Listen for the clearing of the current output cell\n",
       "var outputEl = gd.closest('.output');\n",
       "if (outputEl) {{\n",
       "    x.observe(outputEl, {childList: true});\n",
       "}}\n",
       "\n",
       "                        })                };                });            </script>        </div>"
      ]
     },
     "metadata": {},
     "output_type": "display_data"
    },
    {
     "data": {
      "application/vnd.plotly.v1+json": {
       "config": {
        "plotlyServerURL": "https://plot.ly"
       },
       "data": [
        {
         "type": "heatmap",
         "x": [
          "Degree",
          "Clustering Coefficient",
          "Personalized Page Rank - Standard Deviation",
          "Average Neighbor Degree",
          "Average Neighbor Clustering",
          "Eccentricity",
          "Katz Centrality"
         ],
         "z": [
          [
           0,
           0,
           0.0002089961781166494,
           0,
           0,
           0,
           0
          ],
          [
           0,
           0,
           0.013175653293728828,
           0,
           0,
           0,
           0
          ],
          [
           0,
           0,
           0,
           0,
           0,
           0,
           0
          ],
          [
           0,
           0.002833271399140358,
           0,
           0.002312290482223034,
           0,
           0,
           0
          ],
          [
           0,
           0,
           0.0032886650878936052,
           0,
           0,
           0,
           0
          ],
          [
           0,
           0,
           0,
           0,
           0,
           0,
           0
          ],
          [
           0,
           0,
           0.002929358510300517,
           0,
           0,
           0,
           0
          ],
          [
           0,
           0,
           0,
           0,
           0,
           0,
           0
          ],
          [
           0,
           0,
           0,
           0,
           0,
           0,
           0
          ],
          [
           0,
           0,
           0,
           0,
           0,
           0,
           0
          ],
          [
           0,
           0,
           0,
           0,
           0,
           0,
           0
          ],
          [
           0,
           0,
           0,
           0,
           0,
           0.005234498530626297,
           0
          ],
          [
           0,
           0.002689386485144496,
           0,
           0,
           0,
           0,
           0
          ],
          [
           0,
           0,
           0,
           0,
           0,
           0,
           0
          ],
          [
           0,
           0,
           0,
           0,
           0,
           0,
           0
          ],
          [
           0,
           0,
           0,
           0,
           0,
           0,
           0
          ],
          [
           0,
           0.0006294111954048276,
           0,
           0,
           0.0018344663549214602,
           0,
           0
          ],
          [
           0,
           0,
           0,
           0,
           0,
           0,
           0
          ],
          [
           0,
           0,
           0,
           0,
           0,
           0,
           0
          ],
          [
           0,
           0,
           0,
           0,
           0,
           0,
           0
          ],
          [
           0,
           0,
           0,
           0.007037072442471981,
           0,
           0,
           0.0006377521785907447
          ],
          [
           0,
           0,
           0,
           0,
           0,
           0,
           0
          ],
          [
           0,
           0.0033098829444497824,
           0,
           0.000750500475987792,
           0.001640849863179028,
           0.003939502872526646,
           0.0019049817929044366
          ],
          [
           0,
           0,
           0,
           0,
           0,
           0,
           0
          ],
          [
           0,
           0,
           0,
           0,
           0,
           0,
           0
          ],
          [
           0,
           0,
           0,
           0,
           0,
           0,
           0
          ],
          [
           0,
           0,
           0,
           0,
           0.00039874447975307703,
           0,
           0
          ],
          [
           0,
           0,
           0,
           0,
           0,
           0,
           0
          ],
          [
           0,
           0,
           0,
           0,
           0,
           0,
           0
          ],
          [
           0,
           0,
           0,
           0,
           0,
           0,
           0.0009806740563362837
          ],
          [
           0,
           0,
           0,
           0,
           0,
           0,
           0
          ],
          [
           0,
           0,
           0,
           0,
           0,
           0,
           0
          ],
          [
           0,
           0,
           0,
           0,
           0,
           0.0018207831308245659,
           0.0007431340054608881
          ],
          [
           0,
           0,
           0,
           0.002315786201506853,
           0,
           0,
           0
          ],
          [
           0,
           0,
           0,
           0,
           0,
           0,
           0
          ],
          [
           0,
           0,
           0,
           0,
           0.931128203868866,
           0,
           0
          ],
          [
           0,
           0,
           0,
           0,
           0,
           0,
           0
          ],
          [
           0,
           0,
           0.008392788469791412,
           0,
           0,
           0,
           0
          ],
          [
           0.00196277629584074,
           0,
           0,
           0,
           0,
           0,
           0
          ],
          [
           0,
           0.0018196470336988568,
           0,
           0,
           8.176016854122281e-05,
           0.0034469058737158775,
           0
          ],
          [
           0,
           0,
           0,
           0,
           0,
           0,
           0
          ],
          [
           0,
           0,
           0,
           0,
           0,
           0,
           0
          ],
          [
           0,
           0,
           0,
           0,
           0,
           0,
           0
          ],
          [
           0,
           0,
           0,
           0,
           0,
           0,
           0
          ],
          [
           0,
           0,
           0.0024042557924985886,
           0,
           0,
           0,
           0
          ],
          [
           0,
           0,
           0,
           0,
           0,
           0,
           0.0011078065726906061
          ],
          [
           0,
           0,
           0,
           0,
           0,
           0,
           0
          ],
          [
           0,
           0,
           0,
           0,
           0,
           0,
           0
          ],
          [
           0,
           0,
           0,
           0,
           0,
           0,
           0
          ],
          [
           0,
           0,
           0,
           0,
           0,
           0,
           0
          ],
          [
           0,
           0,
           0,
           0,
           0,
           0,
           0
          ],
          [
           0,
           0,
           0,
           0,
           0,
           0,
           0
          ],
          [
           0,
           0,
           0,
           0,
           0,
           0,
           0
          ],
          [
           0,
           0,
           0.04220277816057205,
           0,
           0,
           0,
           0
          ],
          [
           0,
           0,
           0,
           0,
           0,
           0,
           0
          ],
          [
           0,
           0,
           0,
           0,
           0,
           0,
           0
          ],
          [
           0,
           0.0007422055932693183,
           0,
           0,
           0,
           0,
           0
          ],
          [
           0,
           0,
           0,
           0,
           0,
           0,
           0
          ],
          [
           0,
           0,
           0.005409074015915394,
           0,
           0,
           0,
           0
          ],
          [
           0,
           0,
           0.002446747850626707,
           0,
           0,
           0,
           0
          ],
          [
           0,
           0,
           0.004558804910629988,
           0,
           0,
           0,
           0
          ],
          [
           0,
           0,
           0,
           0,
           0,
           0,
           0
          ],
          [
           0.0007772416574880481,
           0.0019192103063687682,
           0,
           0,
           0,
           0,
           0
          ],
          [
           0,
           0,
           0,
           0,
           0,
           0,
           0
          ],
          [
           0,
           0,
           0,
           0,
           0,
           0,
           0
          ],
          [
           0,
           0,
           0,
           0,
           0,
           0,
           0
          ],
          [
           0,
           0,
           0,
           0,
           0,
           0,
           0.0006387297180481255
          ],
          [
           0,
           0,
           0,
           0,
           0.0006680270889773965,
           0,
           0
          ],
          [
           0,
           0,
           0,
           0,
           0,
           0,
           0
          ],
          [
           0,
           0,
           0,
           0,
           0,
           0,
           0
          ],
          [
           0.011614568531513214,
           0,
           0.0009468113421462476,
           0,
           0,
           0,
           0
          ],
          [
           0,
           0,
           0,
           0,
           0,
           0,
           0
          ],
          [
           0,
           0,
           0,
           0,
           0,
           0,
           0
          ],
          [
           0,
           0,
           0,
           0,
           0,
           0,
           0
          ],
          [
           0,
           0,
           0,
           0,
           0,
           0,
           0
          ],
          [
           0,
           0,
           0,
           0,
           0,
           0,
           0
          ],
          [
           0,
           0,
           0,
           0,
           0,
           0,
           0
          ],
          [
           0,
           0,
           0,
           0,
           0,
           0,
           0
          ],
          [
           0,
           0,
           0,
           0,
           0,
           0,
           0.0004183573182672262
          ],
          [
           0.0005691302358172834,
           0,
           0,
           0,
           0,
           0,
           0
          ],
          [
           0,
           4.132159119762946e-06,
           0,
           0,
           0.0009249682771041989,
           0.0004034128796774894,
           0
          ],
          [
           0,
           0,
           0,
           0,
           0,
           0,
           0
          ],
          [
           0,
           0,
           0,
           0,
           0,
           0,
           0
          ],
          [
           0,
           0,
           0,
           0,
           0,
           0,
           0
          ],
          [
           0,
           0,
           0,
           0,
           0,
           0,
           0
          ],
          [
           0,
           0,
           0,
           0,
           0,
           0,
           0
          ],
          [
           0,
           0,
           0,
           0,
           0,
           0,
           0
          ],
          [
           0,
           0,
           0,
           0,
           0,
           0,
           0
          ],
          [
           0,
           0.02150287851691246,
           0,
           0.014948951080441475,
           0,
           0,
           0
          ],
          [
           0,
           0,
           0,
           0,
           0,
           0,
           0
          ],
          [
           0,
           0,
           0.42347949743270874,
           0,
           0,
           0,
           0
          ],
          [
           0,
           0,
           0,
           0.0009429967612959445,
           0,
           0.002132115187123418,
           0
          ],
          [
           0.00407468480989337,
           0,
           0,
           0,
           0,
           0,
           0
          ],
          [
           0,
           0,
           0,
           0,
           0,
           0,
           0
          ],
          [
           0,
           0,
           0,
           0,
           0,
           0,
           0
          ],
          [
           0,
           0,
           0,
           0,
           0,
           0,
           0
          ],
          [
           0,
           0,
           0,
           0,
           0,
           0,
           0
          ],
          [
           0,
           0,
           0,
           0,
           0,
           0,
           0
          ],
          [
           0,
           0,
           0,
           0,
           0,
           0,
           0
          ],
          [
           0,
           0,
           0,
           0,
           0,
           0,
           0
          ],
          [
           0,
           0,
           0,
           0,
           0,
           0,
           0
          ],
          [
           0,
           0,
           0,
           0,
           0,
           9.52119953581132e-05,
           0.0008241403847932816
          ],
          [
           0,
           0.0007373645785264671,
           0,
           0,
           0,
           0,
           0
          ],
          [
           0,
           0,
           0,
           0,
           0,
           0,
           0
          ],
          [
           0,
           0,
           0.002851133467629552,
           0,
           0,
           0,
           0
          ],
          [
           0,
           0.0012686745030805469,
           0,
           0.0004726657352875918,
           0.0013382965698838234,
           0,
           0.00021718333300668746
          ],
          [
           0.0014396024635061622,
           0,
           0,
           0.00013662228593602777,
           0,
           0,
           0
          ],
          [
           0,
           0,
           0,
           0,
           0,
           0,
           0
          ],
          [
           0,
           0,
           0,
           0,
           0,
           0,
           0
          ],
          [
           0,
           0,
           0,
           0,
           0,
           0,
           0
          ],
          [
           0,
           0,
           0,
           0,
           0,
           0,
           0
          ],
          [
           0,
           0,
           0,
           0,
           0,
           0,
           0
          ],
          [
           0,
           0,
           0,
           0,
           0,
           0,
           0
          ],
          [
           0,
           0.32328104972839355,
           0,
           0.11237554997205734,
           0,
           0,
           1
          ],
          [
           0,
           0,
           0,
           0,
           0,
           0.002965704770758748,
           0
          ],
          [
           0,
           0,
           0,
           0,
           0,
           0,
           0
          ],
          [
           0,
           0,
           0,
           0,
           0,
           0.00018934048421215266,
           0
          ],
          [
           0,
           0,
           0,
           0,
           0,
           5.7732107961783186e-05,
           0
          ],
          [
           0.0002887745213229209,
           0,
           0,
           0.0019961970392614603,
           0,
           0,
           0
          ],
          [
           0,
           0,
           0,
           0.003065760713070631,
           0,
           0,
           0
          ],
          [
           0,
           0,
           0,
           0,
           0,
           0,
           0
          ],
          [
           0,
           0,
           0,
           0,
           0,
           0,
           0
          ],
          [
           0,
           0,
           0,
           0,
           0,
           0,
           0
          ],
          [
           0,
           0,
           0,
           0,
           0,
           0,
           0
          ],
          [
           0,
           0,
           0,
           0,
           0,
           0,
           0
          ],
          [
           0,
           0,
           0,
           0,
           0,
           0,
           0
          ],
          [
           0,
           0,
           0,
           0,
           0,
           0.0029004919342696667,
           0
          ],
          [
           0,
           0,
           0,
           9.750359458848834e-05,
           0,
           0,
           0
          ]
         ]
        }
       ],
       "layout": {
        "template": {
         "data": {
          "bar": [
           {
            "error_x": {
             "color": "#2a3f5f"
            },
            "error_y": {
             "color": "#2a3f5f"
            },
            "marker": {
             "line": {
              "color": "#E5ECF6",
              "width": 0.5
             },
             "pattern": {
              "fillmode": "overlay",
              "size": 10,
              "solidity": 0.2
             }
            },
            "type": "bar"
           }
          ],
          "barpolar": [
           {
            "marker": {
             "line": {
              "color": "#E5ECF6",
              "width": 0.5
             },
             "pattern": {
              "fillmode": "overlay",
              "size": 10,
              "solidity": 0.2
             }
            },
            "type": "barpolar"
           }
          ],
          "carpet": [
           {
            "aaxis": {
             "endlinecolor": "#2a3f5f",
             "gridcolor": "white",
             "linecolor": "white",
             "minorgridcolor": "white",
             "startlinecolor": "#2a3f5f"
            },
            "baxis": {
             "endlinecolor": "#2a3f5f",
             "gridcolor": "white",
             "linecolor": "white",
             "minorgridcolor": "white",
             "startlinecolor": "#2a3f5f"
            },
            "type": "carpet"
           }
          ],
          "choropleth": [
           {
            "colorbar": {
             "outlinewidth": 0,
             "ticks": ""
            },
            "type": "choropleth"
           }
          ],
          "contour": [
           {
            "colorbar": {
             "outlinewidth": 0,
             "ticks": ""
            },
            "colorscale": [
             [
              0,
              "#0d0887"
             ],
             [
              0.1111111111111111,
              "#46039f"
             ],
             [
              0.2222222222222222,
              "#7201a8"
             ],
             [
              0.3333333333333333,
              "#9c179e"
             ],
             [
              0.4444444444444444,
              "#bd3786"
             ],
             [
              0.5555555555555556,
              "#d8576b"
             ],
             [
              0.6666666666666666,
              "#ed7953"
             ],
             [
              0.7777777777777778,
              "#fb9f3a"
             ],
             [
              0.8888888888888888,
              "#fdca26"
             ],
             [
              1,
              "#f0f921"
             ]
            ],
            "type": "contour"
           }
          ],
          "contourcarpet": [
           {
            "colorbar": {
             "outlinewidth": 0,
             "ticks": ""
            },
            "type": "contourcarpet"
           }
          ],
          "heatmap": [
           {
            "colorbar": {
             "outlinewidth": 0,
             "ticks": ""
            },
            "colorscale": [
             [
              0,
              "#0d0887"
             ],
             [
              0.1111111111111111,
              "#46039f"
             ],
             [
              0.2222222222222222,
              "#7201a8"
             ],
             [
              0.3333333333333333,
              "#9c179e"
             ],
             [
              0.4444444444444444,
              "#bd3786"
             ],
             [
              0.5555555555555556,
              "#d8576b"
             ],
             [
              0.6666666666666666,
              "#ed7953"
             ],
             [
              0.7777777777777778,
              "#fb9f3a"
             ],
             [
              0.8888888888888888,
              "#fdca26"
             ],
             [
              1,
              "#f0f921"
             ]
            ],
            "type": "heatmap"
           }
          ],
          "heatmapgl": [
           {
            "colorbar": {
             "outlinewidth": 0,
             "ticks": ""
            },
            "colorscale": [
             [
              0,
              "#0d0887"
             ],
             [
              0.1111111111111111,
              "#46039f"
             ],
             [
              0.2222222222222222,
              "#7201a8"
             ],
             [
              0.3333333333333333,
              "#9c179e"
             ],
             [
              0.4444444444444444,
              "#bd3786"
             ],
             [
              0.5555555555555556,
              "#d8576b"
             ],
             [
              0.6666666666666666,
              "#ed7953"
             ],
             [
              0.7777777777777778,
              "#fb9f3a"
             ],
             [
              0.8888888888888888,
              "#fdca26"
             ],
             [
              1,
              "#f0f921"
             ]
            ],
            "type": "heatmapgl"
           }
          ],
          "histogram": [
           {
            "marker": {
             "pattern": {
              "fillmode": "overlay",
              "size": 10,
              "solidity": 0.2
             }
            },
            "type": "histogram"
           }
          ],
          "histogram2d": [
           {
            "colorbar": {
             "outlinewidth": 0,
             "ticks": ""
            },
            "colorscale": [
             [
              0,
              "#0d0887"
             ],
             [
              0.1111111111111111,
              "#46039f"
             ],
             [
              0.2222222222222222,
              "#7201a8"
             ],
             [
              0.3333333333333333,
              "#9c179e"
             ],
             [
              0.4444444444444444,
              "#bd3786"
             ],
             [
              0.5555555555555556,
              "#d8576b"
             ],
             [
              0.6666666666666666,
              "#ed7953"
             ],
             [
              0.7777777777777778,
              "#fb9f3a"
             ],
             [
              0.8888888888888888,
              "#fdca26"
             ],
             [
              1,
              "#f0f921"
             ]
            ],
            "type": "histogram2d"
           }
          ],
          "histogram2dcontour": [
           {
            "colorbar": {
             "outlinewidth": 0,
             "ticks": ""
            },
            "colorscale": [
             [
              0,
              "#0d0887"
             ],
             [
              0.1111111111111111,
              "#46039f"
             ],
             [
              0.2222222222222222,
              "#7201a8"
             ],
             [
              0.3333333333333333,
              "#9c179e"
             ],
             [
              0.4444444444444444,
              "#bd3786"
             ],
             [
              0.5555555555555556,
              "#d8576b"
             ],
             [
              0.6666666666666666,
              "#ed7953"
             ],
             [
              0.7777777777777778,
              "#fb9f3a"
             ],
             [
              0.8888888888888888,
              "#fdca26"
             ],
             [
              1,
              "#f0f921"
             ]
            ],
            "type": "histogram2dcontour"
           }
          ],
          "mesh3d": [
           {
            "colorbar": {
             "outlinewidth": 0,
             "ticks": ""
            },
            "type": "mesh3d"
           }
          ],
          "parcoords": [
           {
            "line": {
             "colorbar": {
              "outlinewidth": 0,
              "ticks": ""
             }
            },
            "type": "parcoords"
           }
          ],
          "pie": [
           {
            "automargin": true,
            "type": "pie"
           }
          ],
          "scatter": [
           {
            "fillpattern": {
             "fillmode": "overlay",
             "size": 10,
             "solidity": 0.2
            },
            "type": "scatter"
           }
          ],
          "scatter3d": [
           {
            "line": {
             "colorbar": {
              "outlinewidth": 0,
              "ticks": ""
             }
            },
            "marker": {
             "colorbar": {
              "outlinewidth": 0,
              "ticks": ""
             }
            },
            "type": "scatter3d"
           }
          ],
          "scattercarpet": [
           {
            "marker": {
             "colorbar": {
              "outlinewidth": 0,
              "ticks": ""
             }
            },
            "type": "scattercarpet"
           }
          ],
          "scattergeo": [
           {
            "marker": {
             "colorbar": {
              "outlinewidth": 0,
              "ticks": ""
             }
            },
            "type": "scattergeo"
           }
          ],
          "scattergl": [
           {
            "marker": {
             "colorbar": {
              "outlinewidth": 0,
              "ticks": ""
             }
            },
            "type": "scattergl"
           }
          ],
          "scattermapbox": [
           {
            "marker": {
             "colorbar": {
              "outlinewidth": 0,
              "ticks": ""
             }
            },
            "type": "scattermapbox"
           }
          ],
          "scatterpolar": [
           {
            "marker": {
             "colorbar": {
              "outlinewidth": 0,
              "ticks": ""
             }
            },
            "type": "scatterpolar"
           }
          ],
          "scatterpolargl": [
           {
            "marker": {
             "colorbar": {
              "outlinewidth": 0,
              "ticks": ""
             }
            },
            "type": "scatterpolargl"
           }
          ],
          "scatterternary": [
           {
            "marker": {
             "colorbar": {
              "outlinewidth": 0,
              "ticks": ""
             }
            },
            "type": "scatterternary"
           }
          ],
          "surface": [
           {
            "colorbar": {
             "outlinewidth": 0,
             "ticks": ""
            },
            "colorscale": [
             [
              0,
              "#0d0887"
             ],
             [
              0.1111111111111111,
              "#46039f"
             ],
             [
              0.2222222222222222,
              "#7201a8"
             ],
             [
              0.3333333333333333,
              "#9c179e"
             ],
             [
              0.4444444444444444,
              "#bd3786"
             ],
             [
              0.5555555555555556,
              "#d8576b"
             ],
             [
              0.6666666666666666,
              "#ed7953"
             ],
             [
              0.7777777777777778,
              "#fb9f3a"
             ],
             [
              0.8888888888888888,
              "#fdca26"
             ],
             [
              1,
              "#f0f921"
             ]
            ],
            "type": "surface"
           }
          ],
          "table": [
           {
            "cells": {
             "fill": {
              "color": "#EBF0F8"
             },
             "line": {
              "color": "white"
             }
            },
            "header": {
             "fill": {
              "color": "#C8D4E3"
             },
             "line": {
              "color": "white"
             }
            },
            "type": "table"
           }
          ]
         },
         "layout": {
          "annotationdefaults": {
           "arrowcolor": "#2a3f5f",
           "arrowhead": 0,
           "arrowwidth": 1
          },
          "autotypenumbers": "strict",
          "coloraxis": {
           "colorbar": {
            "outlinewidth": 0,
            "ticks": ""
           }
          },
          "colorscale": {
           "diverging": [
            [
             0,
             "#8e0152"
            ],
            [
             0.1,
             "#c51b7d"
            ],
            [
             0.2,
             "#de77ae"
            ],
            [
             0.3,
             "#f1b6da"
            ],
            [
             0.4,
             "#fde0ef"
            ],
            [
             0.5,
             "#f7f7f7"
            ],
            [
             0.6,
             "#e6f5d0"
            ],
            [
             0.7,
             "#b8e186"
            ],
            [
             0.8,
             "#7fbc41"
            ],
            [
             0.9,
             "#4d9221"
            ],
            [
             1,
             "#276419"
            ]
           ],
           "sequential": [
            [
             0,
             "#0d0887"
            ],
            [
             0.1111111111111111,
             "#46039f"
            ],
            [
             0.2222222222222222,
             "#7201a8"
            ],
            [
             0.3333333333333333,
             "#9c179e"
            ],
            [
             0.4444444444444444,
             "#bd3786"
            ],
            [
             0.5555555555555556,
             "#d8576b"
            ],
            [
             0.6666666666666666,
             "#ed7953"
            ],
            [
             0.7777777777777778,
             "#fb9f3a"
            ],
            [
             0.8888888888888888,
             "#fdca26"
            ],
            [
             1,
             "#f0f921"
            ]
           ],
           "sequentialminus": [
            [
             0,
             "#0d0887"
            ],
            [
             0.1111111111111111,
             "#46039f"
            ],
            [
             0.2222222222222222,
             "#7201a8"
            ],
            [
             0.3333333333333333,
             "#9c179e"
            ],
            [
             0.4444444444444444,
             "#bd3786"
            ],
            [
             0.5555555555555556,
             "#d8576b"
            ],
            [
             0.6666666666666666,
             "#ed7953"
            ],
            [
             0.7777777777777778,
             "#fb9f3a"
            ],
            [
             0.8888888888888888,
             "#fdca26"
            ],
            [
             1,
             "#f0f921"
            ]
           ]
          },
          "colorway": [
           "#636efa",
           "#EF553B",
           "#00cc96",
           "#ab63fa",
           "#FFA15A",
           "#19d3f3",
           "#FF6692",
           "#B6E880",
           "#FF97FF",
           "#FECB52"
          ],
          "font": {
           "color": "#2a3f5f"
          },
          "geo": {
           "bgcolor": "white",
           "lakecolor": "white",
           "landcolor": "#E5ECF6",
           "showlakes": true,
           "showland": true,
           "subunitcolor": "white"
          },
          "hoverlabel": {
           "align": "left"
          },
          "hovermode": "closest",
          "mapbox": {
           "style": "light"
          },
          "paper_bgcolor": "white",
          "plot_bgcolor": "#E5ECF6",
          "polar": {
           "angularaxis": {
            "gridcolor": "white",
            "linecolor": "white",
            "ticks": ""
           },
           "bgcolor": "#E5ECF6",
           "radialaxis": {
            "gridcolor": "white",
            "linecolor": "white",
            "ticks": ""
           }
          },
          "scene": {
           "xaxis": {
            "backgroundcolor": "#E5ECF6",
            "gridcolor": "white",
            "gridwidth": 2,
            "linecolor": "white",
            "showbackground": true,
            "ticks": "",
            "zerolinecolor": "white"
           },
           "yaxis": {
            "backgroundcolor": "#E5ECF6",
            "gridcolor": "white",
            "gridwidth": 2,
            "linecolor": "white",
            "showbackground": true,
            "ticks": "",
            "zerolinecolor": "white"
           },
           "zaxis": {
            "backgroundcolor": "#E5ECF6",
            "gridcolor": "white",
            "gridwidth": 2,
            "linecolor": "white",
            "showbackground": true,
            "ticks": "",
            "zerolinecolor": "white"
           }
          },
          "shapedefaults": {
           "line": {
            "color": "#2a3f5f"
           }
          },
          "ternary": {
           "aaxis": {
            "gridcolor": "white",
            "linecolor": "white",
            "ticks": ""
           },
           "baxis": {
            "gridcolor": "white",
            "linecolor": "white",
            "ticks": ""
           },
           "bgcolor": "#E5ECF6",
           "caxis": {
            "gridcolor": "white",
            "linecolor": "white",
            "ticks": ""
           }
          },
          "title": {
           "x": 0.05
          },
          "xaxis": {
           "automargin": true,
           "gridcolor": "white",
           "linecolor": "white",
           "ticks": "",
           "title": {
            "standoff": 15
           },
           "zerolinecolor": "white",
           "zerolinewidth": 2
          },
          "yaxis": {
           "automargin": true,
           "gridcolor": "white",
           "linecolor": "white",
           "ticks": "",
           "title": {
            "standoff": 15
           },
           "zerolinecolor": "white",
           "zerolinewidth": 2
          }
         }
        },
        "title": {
         "text": "DGI+ : 2.468712"
        },
        "xaxis": {
         "title": {
          "text": "Sense Features"
         }
        },
        "yaxis": {
         "title": {
          "text": "Dimensions"
         }
        }
       }
      },
      "text/html": [
       "<div>                            <div id=\"a79b7138-f0ca-4e58-a075-1999d0c0ec4c\" class=\"plotly-graph-div\" style=\"height:525px; width:100%;\"></div>            <script type=\"text/javascript\">                require([\"plotly\"], function(Plotly) {                    window.PLOTLYENV=window.PLOTLYENV || {};                                    if (document.getElementById(\"a79b7138-f0ca-4e58-a075-1999d0c0ec4c\")) {                    Plotly.newPlot(                        \"a79b7138-f0ca-4e58-a075-1999d0c0ec4c\",                        [{\"x\":[\"Degree\",\"Clustering Coefficient\",\"Personalized Page Rank - Standard Deviation\",\"Average Neighbor Degree\",\"Average Neighbor Clustering\",\"Eccentricity\",\"Katz Centrality\"],\"z\":[[0.0,0.0,0.0002089961781166494,0.0,0.0,0.0,0.0],[0.0,0.0,0.013175653293728828,0.0,0.0,0.0,0.0],[0.0,0.0,0.0,0.0,0.0,0.0,0.0],[0.0,0.002833271399140358,0.0,0.002312290482223034,0.0,0.0,0.0],[0.0,0.0,0.0032886650878936052,0.0,0.0,0.0,0.0],[0.0,0.0,0.0,0.0,0.0,0.0,0.0],[0.0,0.0,0.002929358510300517,0.0,0.0,0.0,0.0],[0.0,0.0,0.0,0.0,0.0,0.0,0.0],[0.0,0.0,0.0,0.0,0.0,0.0,0.0],[0.0,0.0,0.0,0.0,0.0,0.0,0.0],[0.0,0.0,0.0,0.0,0.0,0.0,0.0],[0.0,0.0,0.0,0.0,0.0,0.005234498530626297,0.0],[0.0,0.002689386485144496,0.0,0.0,0.0,0.0,0.0],[0.0,0.0,0.0,0.0,0.0,0.0,0.0],[0.0,0.0,0.0,0.0,0.0,0.0,0.0],[0.0,0.0,0.0,0.0,0.0,0.0,0.0],[0.0,0.0006294111954048276,0.0,0.0,0.0018344663549214602,0.0,0.0],[0.0,0.0,0.0,0.0,0.0,0.0,0.0],[0.0,0.0,0.0,0.0,0.0,0.0,0.0],[0.0,0.0,0.0,0.0,0.0,0.0,0.0],[0.0,0.0,0.0,0.007037072442471981,0.0,0.0,0.0006377521785907447],[0.0,0.0,0.0,0.0,0.0,0.0,0.0],[0.0,0.0033098829444497824,0.0,0.000750500475987792,0.001640849863179028,0.003939502872526646,0.0019049817929044366],[0.0,0.0,0.0,0.0,0.0,0.0,0.0],[0.0,0.0,0.0,0.0,0.0,0.0,0.0],[0.0,0.0,0.0,0.0,0.0,0.0,0.0],[0.0,0.0,0.0,0.0,0.00039874447975307703,0.0,0.0],[0.0,0.0,0.0,0.0,0.0,0.0,0.0],[0.0,0.0,0.0,0.0,0.0,0.0,0.0],[0.0,0.0,0.0,0.0,0.0,0.0,0.0009806740563362837],[0.0,0.0,0.0,0.0,0.0,0.0,0.0],[0.0,0.0,0.0,0.0,0.0,0.0,0.0],[0.0,0.0,0.0,0.0,0.0,0.0018207831308245659,0.0007431340054608881],[0.0,0.0,0.0,0.002315786201506853,0.0,0.0,0.0],[0.0,0.0,0.0,0.0,0.0,0.0,0.0],[0.0,0.0,0.0,0.0,0.931128203868866,0.0,0.0],[0.0,0.0,0.0,0.0,0.0,0.0,0.0],[0.0,0.0,0.008392788469791412,0.0,0.0,0.0,0.0],[0.00196277629584074,0.0,0.0,0.0,0.0,0.0,0.0],[0.0,0.0018196470336988568,0.0,0.0,8.176016854122281e-05,0.0034469058737158775,0.0],[0.0,0.0,0.0,0.0,0.0,0.0,0.0],[0.0,0.0,0.0,0.0,0.0,0.0,0.0],[0.0,0.0,0.0,0.0,0.0,0.0,0.0],[0.0,0.0,0.0,0.0,0.0,0.0,0.0],[0.0,0.0,0.0024042557924985886,0.0,0.0,0.0,0.0],[0.0,0.0,0.0,0.0,0.0,0.0,0.0011078065726906061],[0.0,0.0,0.0,0.0,0.0,0.0,0.0],[0.0,0.0,0.0,0.0,0.0,0.0,0.0],[0.0,0.0,0.0,0.0,0.0,0.0,0.0],[0.0,0.0,0.0,0.0,0.0,0.0,0.0],[0.0,0.0,0.0,0.0,0.0,0.0,0.0],[0.0,0.0,0.0,0.0,0.0,0.0,0.0],[0.0,0.0,0.0,0.0,0.0,0.0,0.0],[0.0,0.0,0.04220277816057205,0.0,0.0,0.0,0.0],[0.0,0.0,0.0,0.0,0.0,0.0,0.0],[0.0,0.0,0.0,0.0,0.0,0.0,0.0],[0.0,0.0007422055932693183,0.0,0.0,0.0,0.0,0.0],[0.0,0.0,0.0,0.0,0.0,0.0,0.0],[0.0,0.0,0.005409074015915394,0.0,0.0,0.0,0.0],[0.0,0.0,0.002446747850626707,0.0,0.0,0.0,0.0],[0.0,0.0,0.004558804910629988,0.0,0.0,0.0,0.0],[0.0,0.0,0.0,0.0,0.0,0.0,0.0],[0.0007772416574880481,0.0019192103063687682,0.0,0.0,0.0,0.0,0.0],[0.0,0.0,0.0,0.0,0.0,0.0,0.0],[0.0,0.0,0.0,0.0,0.0,0.0,0.0],[0.0,0.0,0.0,0.0,0.0,0.0,0.0],[0.0,0.0,0.0,0.0,0.0,0.0,0.0006387297180481255],[0.0,0.0,0.0,0.0,0.0006680270889773965,0.0,0.0],[0.0,0.0,0.0,0.0,0.0,0.0,0.0],[0.0,0.0,0.0,0.0,0.0,0.0,0.0],[0.011614568531513214,0.0,0.0009468113421462476,0.0,0.0,0.0,0.0],[0.0,0.0,0.0,0.0,0.0,0.0,0.0],[0.0,0.0,0.0,0.0,0.0,0.0,0.0],[0.0,0.0,0.0,0.0,0.0,0.0,0.0],[0.0,0.0,0.0,0.0,0.0,0.0,0.0],[0.0,0.0,0.0,0.0,0.0,0.0,0.0],[0.0,0.0,0.0,0.0,0.0,0.0,0.0],[0.0,0.0,0.0,0.0,0.0,0.0,0.0],[0.0,0.0,0.0,0.0,0.0,0.0,0.0004183573182672262],[0.0005691302358172834,0.0,0.0,0.0,0.0,0.0,0.0],[0.0,4.132159119762946e-06,0.0,0.0,0.0009249682771041989,0.0004034128796774894,0.0],[0.0,0.0,0.0,0.0,0.0,0.0,0.0],[0.0,0.0,0.0,0.0,0.0,0.0,0.0],[0.0,0.0,0.0,0.0,0.0,0.0,0.0],[0.0,0.0,0.0,0.0,0.0,0.0,0.0],[0.0,0.0,0.0,0.0,0.0,0.0,0.0],[0.0,0.0,0.0,0.0,0.0,0.0,0.0],[0.0,0.0,0.0,0.0,0.0,0.0,0.0],[0.0,0.02150287851691246,0.0,0.014948951080441475,0.0,0.0,0.0],[0.0,0.0,0.0,0.0,0.0,0.0,0.0],[0.0,0.0,0.42347949743270874,0.0,0.0,0.0,0.0],[0.0,0.0,0.0,0.0009429967612959445,0.0,0.002132115187123418,0.0],[0.00407468480989337,0.0,0.0,0.0,0.0,0.0,0.0],[0.0,0.0,0.0,0.0,0.0,0.0,0.0],[0.0,0.0,0.0,0.0,0.0,0.0,0.0],[0.0,0.0,0.0,0.0,0.0,0.0,0.0],[0.0,0.0,0.0,0.0,0.0,0.0,0.0],[0.0,0.0,0.0,0.0,0.0,0.0,0.0],[0.0,0.0,0.0,0.0,0.0,0.0,0.0],[0.0,0.0,0.0,0.0,0.0,0.0,0.0],[0.0,0.0,0.0,0.0,0.0,0.0,0.0],[0.0,0.0,0.0,0.0,0.0,9.52119953581132e-05,0.0008241403847932816],[0.0,0.0007373645785264671,0.0,0.0,0.0,0.0,0.0],[0.0,0.0,0.0,0.0,0.0,0.0,0.0],[0.0,0.0,0.002851133467629552,0.0,0.0,0.0,0.0],[0.0,0.0012686745030805469,0.0,0.0004726657352875918,0.0013382965698838234,0.0,0.00021718333300668746],[0.0014396024635061622,0.0,0.0,0.00013662228593602777,0.0,0.0,0.0],[0.0,0.0,0.0,0.0,0.0,0.0,0.0],[0.0,0.0,0.0,0.0,0.0,0.0,0.0],[0.0,0.0,0.0,0.0,0.0,0.0,0.0],[0.0,0.0,0.0,0.0,0.0,0.0,0.0],[0.0,0.0,0.0,0.0,0.0,0.0,0.0],[0.0,0.0,0.0,0.0,0.0,0.0,0.0],[0.0,0.32328104972839355,0.0,0.11237554997205734,0.0,0.0,1.0],[0.0,0.0,0.0,0.0,0.0,0.002965704770758748,0.0],[0.0,0.0,0.0,0.0,0.0,0.0,0.0],[0.0,0.0,0.0,0.0,0.0,0.00018934048421215266,0.0],[0.0,0.0,0.0,0.0,0.0,5.7732107961783186e-05,0.0],[0.0002887745213229209,0.0,0.0,0.0019961970392614603,0.0,0.0,0.0],[0.0,0.0,0.0,0.003065760713070631,0.0,0.0,0.0],[0.0,0.0,0.0,0.0,0.0,0.0,0.0],[0.0,0.0,0.0,0.0,0.0,0.0,0.0],[0.0,0.0,0.0,0.0,0.0,0.0,0.0],[0.0,0.0,0.0,0.0,0.0,0.0,0.0],[0.0,0.0,0.0,0.0,0.0,0.0,0.0],[0.0,0.0,0.0,0.0,0.0,0.0,0.0],[0.0,0.0,0.0,0.0,0.0,0.0029004919342696667,0.0],[0.0,0.0,0.0,9.750359458848834e-05,0.0,0.0,0.0]],\"type\":\"heatmap\"}],                        {\"template\":{\"data\":{\"histogram2dcontour\":[{\"type\":\"histogram2dcontour\",\"colorbar\":{\"outlinewidth\":0,\"ticks\":\"\"},\"colorscale\":[[0.0,\"#0d0887\"],[0.1111111111111111,\"#46039f\"],[0.2222222222222222,\"#7201a8\"],[0.3333333333333333,\"#9c179e\"],[0.4444444444444444,\"#bd3786\"],[0.5555555555555556,\"#d8576b\"],[0.6666666666666666,\"#ed7953\"],[0.7777777777777778,\"#fb9f3a\"],[0.8888888888888888,\"#fdca26\"],[1.0,\"#f0f921\"]]}],\"choropleth\":[{\"type\":\"choropleth\",\"colorbar\":{\"outlinewidth\":0,\"ticks\":\"\"}}],\"histogram2d\":[{\"type\":\"histogram2d\",\"colorbar\":{\"outlinewidth\":0,\"ticks\":\"\"},\"colorscale\":[[0.0,\"#0d0887\"],[0.1111111111111111,\"#46039f\"],[0.2222222222222222,\"#7201a8\"],[0.3333333333333333,\"#9c179e\"],[0.4444444444444444,\"#bd3786\"],[0.5555555555555556,\"#d8576b\"],[0.6666666666666666,\"#ed7953\"],[0.7777777777777778,\"#fb9f3a\"],[0.8888888888888888,\"#fdca26\"],[1.0,\"#f0f921\"]]}],\"heatmap\":[{\"type\":\"heatmap\",\"colorbar\":{\"outlinewidth\":0,\"ticks\":\"\"},\"colorscale\":[[0.0,\"#0d0887\"],[0.1111111111111111,\"#46039f\"],[0.2222222222222222,\"#7201a8\"],[0.3333333333333333,\"#9c179e\"],[0.4444444444444444,\"#bd3786\"],[0.5555555555555556,\"#d8576b\"],[0.6666666666666666,\"#ed7953\"],[0.7777777777777778,\"#fb9f3a\"],[0.8888888888888888,\"#fdca26\"],[1.0,\"#f0f921\"]]}],\"heatmapgl\":[{\"type\":\"heatmapgl\",\"colorbar\":{\"outlinewidth\":0,\"ticks\":\"\"},\"colorscale\":[[0.0,\"#0d0887\"],[0.1111111111111111,\"#46039f\"],[0.2222222222222222,\"#7201a8\"],[0.3333333333333333,\"#9c179e\"],[0.4444444444444444,\"#bd3786\"],[0.5555555555555556,\"#d8576b\"],[0.6666666666666666,\"#ed7953\"],[0.7777777777777778,\"#fb9f3a\"],[0.8888888888888888,\"#fdca26\"],[1.0,\"#f0f921\"]]}],\"contourcarpet\":[{\"type\":\"contourcarpet\",\"colorbar\":{\"outlinewidth\":0,\"ticks\":\"\"}}],\"contour\":[{\"type\":\"contour\",\"colorbar\":{\"outlinewidth\":0,\"ticks\":\"\"},\"colorscale\":[[0.0,\"#0d0887\"],[0.1111111111111111,\"#46039f\"],[0.2222222222222222,\"#7201a8\"],[0.3333333333333333,\"#9c179e\"],[0.4444444444444444,\"#bd3786\"],[0.5555555555555556,\"#d8576b\"],[0.6666666666666666,\"#ed7953\"],[0.7777777777777778,\"#fb9f3a\"],[0.8888888888888888,\"#fdca26\"],[1.0,\"#f0f921\"]]}],\"surface\":[{\"type\":\"surface\",\"colorbar\":{\"outlinewidth\":0,\"ticks\":\"\"},\"colorscale\":[[0.0,\"#0d0887\"],[0.1111111111111111,\"#46039f\"],[0.2222222222222222,\"#7201a8\"],[0.3333333333333333,\"#9c179e\"],[0.4444444444444444,\"#bd3786\"],[0.5555555555555556,\"#d8576b\"],[0.6666666666666666,\"#ed7953\"],[0.7777777777777778,\"#fb9f3a\"],[0.8888888888888888,\"#fdca26\"],[1.0,\"#f0f921\"]]}],\"mesh3d\":[{\"type\":\"mesh3d\",\"colorbar\":{\"outlinewidth\":0,\"ticks\":\"\"}}],\"scatter\":[{\"fillpattern\":{\"fillmode\":\"overlay\",\"size\":10,\"solidity\":0.2},\"type\":\"scatter\"}],\"parcoords\":[{\"type\":\"parcoords\",\"line\":{\"colorbar\":{\"outlinewidth\":0,\"ticks\":\"\"}}}],\"scatterpolargl\":[{\"type\":\"scatterpolargl\",\"marker\":{\"colorbar\":{\"outlinewidth\":0,\"ticks\":\"\"}}}],\"bar\":[{\"error_x\":{\"color\":\"#2a3f5f\"},\"error_y\":{\"color\":\"#2a3f5f\"},\"marker\":{\"line\":{\"color\":\"#E5ECF6\",\"width\":0.5},\"pattern\":{\"fillmode\":\"overlay\",\"size\":10,\"solidity\":0.2}},\"type\":\"bar\"}],\"scattergeo\":[{\"type\":\"scattergeo\",\"marker\":{\"colorbar\":{\"outlinewidth\":0,\"ticks\":\"\"}}}],\"scatterpolar\":[{\"type\":\"scatterpolar\",\"marker\":{\"colorbar\":{\"outlinewidth\":0,\"ticks\":\"\"}}}],\"histogram\":[{\"marker\":{\"pattern\":{\"fillmode\":\"overlay\",\"size\":10,\"solidity\":0.2}},\"type\":\"histogram\"}],\"scattergl\":[{\"type\":\"scattergl\",\"marker\":{\"colorbar\":{\"outlinewidth\":0,\"ticks\":\"\"}}}],\"scatter3d\":[{\"type\":\"scatter3d\",\"line\":{\"colorbar\":{\"outlinewidth\":0,\"ticks\":\"\"}},\"marker\":{\"colorbar\":{\"outlinewidth\":0,\"ticks\":\"\"}}}],\"scattermapbox\":[{\"type\":\"scattermapbox\",\"marker\":{\"colorbar\":{\"outlinewidth\":0,\"ticks\":\"\"}}}],\"scatterternary\":[{\"type\":\"scatterternary\",\"marker\":{\"colorbar\":{\"outlinewidth\":0,\"ticks\":\"\"}}}],\"scattercarpet\":[{\"type\":\"scattercarpet\",\"marker\":{\"colorbar\":{\"outlinewidth\":0,\"ticks\":\"\"}}}],\"carpet\":[{\"aaxis\":{\"endlinecolor\":\"#2a3f5f\",\"gridcolor\":\"white\",\"linecolor\":\"white\",\"minorgridcolor\":\"white\",\"startlinecolor\":\"#2a3f5f\"},\"baxis\":{\"endlinecolor\":\"#2a3f5f\",\"gridcolor\":\"white\",\"linecolor\":\"white\",\"minorgridcolor\":\"white\",\"startlinecolor\":\"#2a3f5f\"},\"type\":\"carpet\"}],\"table\":[{\"cells\":{\"fill\":{\"color\":\"#EBF0F8\"},\"line\":{\"color\":\"white\"}},\"header\":{\"fill\":{\"color\":\"#C8D4E3\"},\"line\":{\"color\":\"white\"}},\"type\":\"table\"}],\"barpolar\":[{\"marker\":{\"line\":{\"color\":\"#E5ECF6\",\"width\":0.5},\"pattern\":{\"fillmode\":\"overlay\",\"size\":10,\"solidity\":0.2}},\"type\":\"barpolar\"}],\"pie\":[{\"automargin\":true,\"type\":\"pie\"}]},\"layout\":{\"autotypenumbers\":\"strict\",\"colorway\":[\"#636efa\",\"#EF553B\",\"#00cc96\",\"#ab63fa\",\"#FFA15A\",\"#19d3f3\",\"#FF6692\",\"#B6E880\",\"#FF97FF\",\"#FECB52\"],\"font\":{\"color\":\"#2a3f5f\"},\"hovermode\":\"closest\",\"hoverlabel\":{\"align\":\"left\"},\"paper_bgcolor\":\"white\",\"plot_bgcolor\":\"#E5ECF6\",\"polar\":{\"bgcolor\":\"#E5ECF6\",\"angularaxis\":{\"gridcolor\":\"white\",\"linecolor\":\"white\",\"ticks\":\"\"},\"radialaxis\":{\"gridcolor\":\"white\",\"linecolor\":\"white\",\"ticks\":\"\"}},\"ternary\":{\"bgcolor\":\"#E5ECF6\",\"aaxis\":{\"gridcolor\":\"white\",\"linecolor\":\"white\",\"ticks\":\"\"},\"baxis\":{\"gridcolor\":\"white\",\"linecolor\":\"white\",\"ticks\":\"\"},\"caxis\":{\"gridcolor\":\"white\",\"linecolor\":\"white\",\"ticks\":\"\"}},\"coloraxis\":{\"colorbar\":{\"outlinewidth\":0,\"ticks\":\"\"}},\"colorscale\":{\"sequential\":[[0.0,\"#0d0887\"],[0.1111111111111111,\"#46039f\"],[0.2222222222222222,\"#7201a8\"],[0.3333333333333333,\"#9c179e\"],[0.4444444444444444,\"#bd3786\"],[0.5555555555555556,\"#d8576b\"],[0.6666666666666666,\"#ed7953\"],[0.7777777777777778,\"#fb9f3a\"],[0.8888888888888888,\"#fdca26\"],[1.0,\"#f0f921\"]],\"sequentialminus\":[[0.0,\"#0d0887\"],[0.1111111111111111,\"#46039f\"],[0.2222222222222222,\"#7201a8\"],[0.3333333333333333,\"#9c179e\"],[0.4444444444444444,\"#bd3786\"],[0.5555555555555556,\"#d8576b\"],[0.6666666666666666,\"#ed7953\"],[0.7777777777777778,\"#fb9f3a\"],[0.8888888888888888,\"#fdca26\"],[1.0,\"#f0f921\"]],\"diverging\":[[0,\"#8e0152\"],[0.1,\"#c51b7d\"],[0.2,\"#de77ae\"],[0.3,\"#f1b6da\"],[0.4,\"#fde0ef\"],[0.5,\"#f7f7f7\"],[0.6,\"#e6f5d0\"],[0.7,\"#b8e186\"],[0.8,\"#7fbc41\"],[0.9,\"#4d9221\"],[1,\"#276419\"]]},\"xaxis\":{\"gridcolor\":\"white\",\"linecolor\":\"white\",\"ticks\":\"\",\"title\":{\"standoff\":15},\"zerolinecolor\":\"white\",\"automargin\":true,\"zerolinewidth\":2},\"yaxis\":{\"gridcolor\":\"white\",\"linecolor\":\"white\",\"ticks\":\"\",\"title\":{\"standoff\":15},\"zerolinecolor\":\"white\",\"automargin\":true,\"zerolinewidth\":2},\"scene\":{\"xaxis\":{\"backgroundcolor\":\"#E5ECF6\",\"gridcolor\":\"white\",\"linecolor\":\"white\",\"showbackground\":true,\"ticks\":\"\",\"zerolinecolor\":\"white\",\"gridwidth\":2},\"yaxis\":{\"backgroundcolor\":\"#E5ECF6\",\"gridcolor\":\"white\",\"linecolor\":\"white\",\"showbackground\":true,\"ticks\":\"\",\"zerolinecolor\":\"white\",\"gridwidth\":2},\"zaxis\":{\"backgroundcolor\":\"#E5ECF6\",\"gridcolor\":\"white\",\"linecolor\":\"white\",\"showbackground\":true,\"ticks\":\"\",\"zerolinecolor\":\"white\",\"gridwidth\":2}},\"shapedefaults\":{\"line\":{\"color\":\"#2a3f5f\"}},\"annotationdefaults\":{\"arrowcolor\":\"#2a3f5f\",\"arrowhead\":0,\"arrowwidth\":1},\"geo\":{\"bgcolor\":\"white\",\"landcolor\":\"#E5ECF6\",\"subunitcolor\":\"white\",\"showland\":true,\"showlakes\":true,\"lakecolor\":\"white\"},\"title\":{\"x\":0.05},\"mapbox\":{\"style\":\"light\"}}},\"title\":{\"text\":\"DGI+ : 2.468712\"},\"xaxis\":{\"title\":{\"text\":\"Sense Features\"}},\"yaxis\":{\"title\":{\"text\":\"Dimensions\"}}},                        {\"responsive\": true}                    ).then(function(){\n",
       "                            \n",
       "var gd = document.getElementById('a79b7138-f0ca-4e58-a075-1999d0c0ec4c');\n",
       "var x = new MutationObserver(function (mutations, observer) {{\n",
       "        var display = window.getComputedStyle(gd).display;\n",
       "        if (!display || display === 'none') {{\n",
       "            console.log([gd, 'removed!']);\n",
       "            Plotly.purge(gd);\n",
       "            observer.disconnect();\n",
       "        }}\n",
       "}});\n",
       "\n",
       "// Listen for the removal of the full notebook cells\n",
       "var notebookContainer = gd.closest('#notebook-container');\n",
       "if (notebookContainer) {{\n",
       "    x.observe(notebookContainer, {childList: true});\n",
       "}}\n",
       "\n",
       "// Listen for the clearing of the current output cell\n",
       "var outputEl = gd.closest('.output');\n",
       "if (outputEl) {{\n",
       "    x.observe(outputEl, {childList: true});\n",
       "}}\n",
       "\n",
       "                        })                };                });            </script>        </div>"
      ]
     },
     "metadata": {},
     "output_type": "display_data"
    }
   ],
   "source": [
    "fig = go.Figure()\n",
    "fig.add_trace(go.Heatmap(z = explain_og,\n",
    "                         x = list(sense_feat_dict), \n",
    "                         ))\n",
    "fig.update_layout(title_text = 'DGI : ' + str(np.linalg.norm(explain_og, ord = 'nuc')), \n",
    "                  xaxis_title_text = 'Sense Features', \n",
    "                  yaxis_title_text = 'Dimensions')\n",
    "\n",
    "fig.show()\n",
    "\n",
    "fig = go.Figure()\n",
    "fig.add_trace(go.Heatmap(z = explain_plus,\n",
    "                         x = list(sense_feat_dict), \n",
    "                         ))\n",
    "fig.update_layout(title_text = 'DGI+ : ' + str(np.linalg.norm(explain_plus, ord = 'nuc')), \n",
    "                  xaxis_title_text = 'Sense Features', \n",
    "                  yaxis_title_text = 'Dimensions')\n",
    "\n",
    "fig.show()"
   ]
  },
  {
   "cell_type": "code",
   "execution_count": null,
   "id": "abca7a2d",
   "metadata": {},
   "outputs": [],
   "source": [
    "Y_plus = embed_plus\n",
    "sense_mat = tf.einsum('ij, ik -> ijk', Y_plus, sense_features)\n",
    "Y_plus_norm = tf.linalg.diag_part(tf.matmul(Y_plus, Y_plus, transpose_b = True), k = 0)\n",
    "sense_norm = tf.linalg.diag_part(tf.matmul(sense_features, sense_features, transpose_b = True), k = 0)\n",
    "norm = Y_plus_norm * tf.cast(sense_norm, tf.float32)\n",
    "D_plus = tf.transpose(tf.transpose(sense_mat) / norm)\n",
    "D_plus = (D_plus - tf.reshape(tf.reduce_min(D_plus, axis = [-1, -2]), (-1, 1, 1))) / tf.reshape(tf.reduce_max(D_plus, axis = [-1, -2]) - tf.reduce_min(D_plus, axis = [-1, -2]), (-1, 1, 1))\n",
    "\n",
    "\n",
    "Y_og = embed_og\n",
    "sense_mat = tf.einsum('ij, ik -> ijk', Y_og, sense_features)\n",
    "Y_og_norm = tf.linalg.diag_part(tf.matmul(Y_og, Y_og, transpose_b = True), k = 0)\n",
    "sense_norm = tf.linalg.diag_part(tf.matmul(sense_features, sense_features, transpose_b = True), k = 0)\n",
    "norm = Y_og_norm * tf.cast(sense_norm, tf.float32)\n",
    "D_og = tf.transpose(tf.transpose(sense_mat) / norm)\n",
    "D_og = (D_og - tf.reshape(tf.reduce_min(D_og, axis = [-1, -2]), (-1, 1, 1))) / tf.reshape(tf.reduce_max(D_og, axis = [-1, -2]) - tf.reduce_min(D_og, axis = [-1, -2]), (-1, 1, 1))\n"
   ]
  },
  {
   "cell_type": "code",
   "execution_count": null,
   "id": "e6442700",
   "metadata": {},
   "outputs": [],
   "source": [
    "\n"
   ]
  },
  {
   "cell_type": "code",
   "execution_count": null,
   "id": "e3846d67",
   "metadata": {
    "scrolled": true
   },
   "outputs": [],
   "source": [
    "# norm_og = [np.linalg.norm(D_og[node, :, :], ord = 'nuc') for node in tqdm(range(len(graph)))]\n",
    "norm_plus = [np.linalg.norm(D_plus[node, :, :], ord = 'nuc') for node in tqdm(range(len(graph)))]\n",
    "\n"
   ]
  },
  {
   "cell_type": "code",
   "execution_count": null,
   "id": "550306da",
   "metadata": {},
   "outputs": [],
   "source": []
  },
  {
   "cell_type": "code",
   "execution_count": null,
   "id": "8355ca29",
   "metadata": {},
   "outputs": [],
   "source": [
    "diff = np.array(norm_og) - np.array(norm_plus)\n",
    "fig = go.Figure()\n",
    "fig.add_trace(go.Histogram(x = diff))\n",
    "fig.update_layout(title_text = 'Distribution of Difference In Nuclear Norms - DGI vs DGI+XM', \n",
    "                  xaxis_title_text = 'Difference In Nuclear Norms - DGI vs DGI+XM', \n",
    "                  yaxis_title_text = 'Frequency', \n",
    "                  plot_bgcolor = 'white', \n",
    "                  paper_bgcolor = 'white', \n",
    "                  font = dict(size = 30))\n",
    "fig.show()"
   ]
  },
  {
   "cell_type": "code",
   "execution_count": null,
   "id": "93328992",
   "metadata": {},
   "outputs": [],
   "source": [
    "fig = go.Figure()\n",
    "\n",
    "fig.add_trace(go.Histogram(x = norm_og, \n",
    "                           name = 'DGI'))\n",
    "fig.add_trace(go.Histogram(x = norm_plus, \n",
    "                           name = 'DGI+XM'))\n",
    "\n",
    "\n",
    "fig.update_layout(title_text = 'Distribution of Nuclear Norm of Node Explain Matrix', \n",
    "                  xaxis_title_text = 'Nuclear Norm', \n",
    "                  yaxis_title_text = 'Frequency', \n",
    "                  paper_bgcolor = 'white', \n",
    "                  plot_bgcolor = 'white', \n",
    "                  font = dict(size = 20))\n",
    "fig.show()"
   ]
  },
  {
   "cell_type": "code",
   "execution_count": 57,
   "id": "77b1208e",
   "metadata": {},
   "outputs": [
    {
     "data": {
      "application/vnd.plotly.v1+json": {
       "config": {
        "plotlyServerURL": "https://plot.ly"
       },
       "data": [
        {
         "type": "heatmap",
         "z": [
          [
           0.08574225753545761,
           0.06764578074216843,
           0.0024484205059707165,
           0.033117007464170456,
           0.16934461891651154,
           0,
           0.08208077400922775
          ],
          [
           0.1591365486383438,
           0.12554968893527985,
           0.004544237162917852,
           0.06146474555134773,
           0.314301460981369,
           0,
           0.1523408740758896
          ],
          [
           0.007104937452822924,
           0.005605392623692751,
           0.00020288568339310586,
           0.0027442045975476503,
           0.014032555744051933,
           0,
           0.006801533047109842
          ],
          [
           0.35339951515197754,
           0.27881214022636414,
           0.010091530159115791,
           0.1364966779947281,
           0.6979790925979614,
           0,
           0.3383081555366516
          ],
          [
           0.3174971640110016,
           0.25048723816871643,
           0.009066317230463028,
           0.122629813849926,
           0.6270704865455627,
           0,
           0.30393895506858826
          ],
          [
           0.007901567965745926,
           0.00623388821259141,
           0.00022563387756235898,
           0.0030518940184265375,
           0.015605932101607323,
           0,
           0.007564143743366003
          ],
          [
           0.011865340173244476,
           0.009361080825328827,
           0.0003388217301107943,
           0.004582857713103294,
           0.023434553295373917,
           0,
           0.011358650401234627
          ],
          [
           0.007324086036533117,
           0.005778288468718529,
           0.0002091435599140823,
           0.0028288480825722218,
           0.014465384185314178,
           0,
           0.007011323235929012
          ],
          [
           0.11182805150747299,
           0.08822598308324814,
           0.0031933151185512543,
           0.043192360550165176,
           0.2208651602268219,
           0,
           0.10705261677503586
          ],
          [
           0.011252244003117085,
           0.00887738075107336,
           0.0003213144082110375,
           0.004346055909991264,
           0.022223660722374916,
           0,
           0.01077173464000225
          ],
          [
           0.02792665734887123,
           0.022032547742128372,
           0.000797462125774473,
           0.01078636571764946,
           0.055156342685222626,
           0,
           0.026734095066785812
          ],
          [
           0.017547784373164177,
           0.013844206929206848,
           0.0005010871682316065,
           0.006777639035135508,
           0.03465761989355087,
           0,
           0.016798432916402817
          ],
          [
           0.329278826713562,
           0.2597823143005371,
           0.009402749128639698,
           0.1271803379058838,
           0.6503397226333618,
           0,
           0.3152174949645996
          ],
          [
           0.019756454974412918,
           0.015586720779538155,
           0.0005641570896841586,
           0.007630713749676943,
           0.039019837975502014,
           0,
           0.01891278475522995
          ],
          [
           0.009415310807526112,
           0.007428145967423916,
           0.00026885970146395266,
           0.0036365604028105736,
           0.018595639616250992,
           0,
           0.009013243950903416
          ],
          [
           0.007942136377096176,
           0.006265895441174507,
           0.0002267923700856045,
           0.003067563520744443,
           0.01568605937063694,
           0,
           0.00760298129171133
          ],
          [
           0.32056427001953125,
           0.25290700793266296,
           0.009153899736702442,
           0.1238144263625145,
           0.6331280469894409,
           0,
           0.306875079870224
          ],
          [
           0.2246689796447754,
           0.17725108563899994,
           0.0064155543223023415,
           0.08677593618631363,
           0.44373083114624023,
           0,
           0.21507485210895538
          ],
          [
           0.26799219846725464,
           0.2114306390285492,
           0.007652673404663801,
           0.10350904613733292,
           0.5292959213256836,
           0,
           0.2565479874610901
          ],
          [
           0.17453636229038239,
           0.13769927620887756,
           0.004983988124877214,
           0.06741275638341904,
           0.34471672773361206,
           0,
           0.16708305478096008
          ],
          [
           0.3176725506782532,
           0.2506255805492401,
           0.00907132588326931,
           0.12269753217697144,
           0.6274167895317078,
           0,
           0.30410683155059814
          ],
          [
           0.12271052598953247,
           0.09681163728237152,
           0.0035040706861764193,
           0.04739559814333916,
           0.2423585206270218,
           0,
           0.11747036129236221
          ],
          [
           0.0006616878090426326,
           0.0005220341845415533,
           1.8894881577580236e-05,
           0.00025556967011652887,
           0.0013068616390228271,
           0,
           0.000633431482128799
          ],
          [
           0.009164690040051937,
           0.007230420131236315,
           0.00026170306955464184,
           0.003539761295542121,
           0.01810065284371376,
           0,
           0.008773325942456722
          ],
          [
           0.012348196469247341,
           0.009742026217281818,
           0.000352609931724146,
           0.004769355524331331,
           0.024388212710618973,
           0,
           0.01182088628411293
          ],
          [
           0.2084328681230545,
           0.16444168984889984,
           0.005951921921223402,
           0.08050490915775299,
           0.4116637706756592,
           0,
           0.19953206181526184
          ],
          [
           0.23318521678447723,
           0.1839699000120163,
           0.006658740807324648,
           0.09006523340940475,
           0.4605507254600525,
           0,
           0.22322741150856018
          ],
          [
           0.3783973157405853,
           0.29853400588035583,
           0.010805356316268444,
           0.1461518108844757,
           0.747350811958313,
           0,
           0.36223846673965454
          ],
          [
           0.022241298109292984,
           0.01754712127149105,
           0.0006351132178679109,
           0.008590457029640675,
           0.04392750933766365,
           0,
           0.021291518583893776
          ],
          [
           0.506318211555481,
           0.39945635199546814,
           0.014458212070167065,
           0.19555987417697906,
           1,
           0,
           0.48469671607017517
          ],
          [
           0.030696412548422813,
           0.024217728525400162,
           0.0008765539969317615,
           0.01185615360736847,
           0.06062673032283783,
           0,
           0.02938557043671608
          ],
          [
           0.003850942710414529,
           0.003038175171241164,
           0.00010996592027368024,
           0.0014873844338580966,
           0.0076057761907577515,
           0,
           0.003686494193971157
          ],
          [
           0.13187409937381744,
           0.104041188955307,
           0.0037657422944903374,
           0.05093492567539215,
           0.26045697927474976,
           0,
           0.12624263763427734
          ],
          [
           0.01490751188248396,
           0.011761181056499481,
           0.00042569273500703275,
           0.005757863167673349,
           0.02944297343492508,
           0,
           0.014270910993218422
          ],
          [
           0.010325687937438488,
           0.008146381936967373,
           0.00029485605773516,
           0.003988184034824371,
           0.020393675193190575,
           0,
           0.009884745813906193
          ],
          [
           0.02010861411690712,
           0.015864554792642593,
           0.0005742132198065519,
           0.007766732480376959,
           0.039715368300676346,
           0,
           0.01924990676343441
          ],
          [
           0.010288907214999199,
           0.008117363788187504,
           0.0002938057587016374,
           0.003973977640271187,
           0.02032102830708027,
           0,
           0.009849535301327705
          ],
          [
           0.037996139377355576,
           0.029976798221468925,
           0.0010850019752979279,
           0.014675592072308064,
           0.07504399120807648,
           0,
           0.036373570561409
          ],
          [
           0.4396079480648041,
           0.3468257188796997,
           0.0125532615929842,
           0.1697937399148941,
           0.8682444095611572,
           0,
           0.4208351671695709
          ],
          [
           0.0029028302524238825,
           0.0022901680786162615,
           8.289200923172757e-05,
           0.0011211863020434976,
           0.005733212921768427,
           0,
           0.002778869355097413
          ],
          [
           0.26433753967285156,
           0.20854729413986206,
           0.007548312656581402,
           0.10209747403860092,
           0.5220779180526733,
           0,
           0.25304943323135376
          ],
          [
           0.010814833454787731,
           0.008532289415597916,
           0.00030882388819009066,
           0.004177110735327005,
           0.021359758451581,
           0,
           0.01035300362855196
          ],
          [
           0.009530876763164997,
           0.007519320119172335,
           0.00027215975569561124,
           0.003681196365505457,
           0.018823886290192604,
           0,
           0.009123875759541988
          ],
          [
           0.0025282015558332205,
           0.0019946075044572353,
           7.219427789095789e-05,
           0.0009764902060851455,
           0.004993306007236242,
           0,
           0.0024202389176934958
          ],
          [
           0.3176094889640808,
           0.25057584047317505,
           0.009069524705410004,
           0.12267318367958069,
           0.6272922158241272,
           0,
           0.3040464520454407
          ],
          [
           0.009696205146610737,
           0.007649755571037531,
           0.0002768808335531503,
           0.0037450529634952545,
           0.019150419160723686,
           0,
           0.009282144717872143
          ],
          [
           0.015144218690693378,
           0.011947929859161377,
           0.00043245204142294824,
           0.005849288776516914,
           0.029910478740930557,
           0,
           0.014497509226202965
          ],
          [
           0.011578739620745182,
           0.009134968742728233,
           0.0003306376747786999,
           0.004472161177545786,
           0.022868504747748375,
           0,
           0.011084288358688354
          ],
          [
           0.03721127286553383,
           0.029357580468058586,
           0.0010625896975398064,
           0.014372446574270725,
           0.0734938457608223,
           0,
           0.03562222421169281
          ],
          [
           0.38437420129776,
           0.30324944853782654,
           0.010976030491292477,
           0.14846034348011017,
           0.7591553926467896,
           0,
           0.367960125207901
          ],
          [
           0.003648922313004732,
           0.002878792816773057,
           0.00010419711179565638,
           0.0014093563659116626,
           0.0072067780420184135,
           0,
           0.003493100870400667
          ],
          [
           0.09213820099830627,
           0.07269181311130524,
           0.0026310603134334087,
           0.0355873703956604,
           0.18197686970233917,
           0,
           0.08820358663797379
          ],
          [
           0.016657855361700058,
           0.013142102397978306,
           0.0004756748385261744,
           0.006433914415538311,
           0.03289997577667236,
           0,
           0.015946509316563606
          ],
          [
           0.00837597344070673,
           0.006608167663216591,
           0.00023918082297313958,
           0.0032351280096918344,
           0.016542905941605568,
           0,
           0.008018291555345058
          ],
          [
           0.018853003159165382,
           0.014873948879539967,
           0.0005383585230447352,
           0.007281766273081303,
           0.03723548352718353,
           0,
           0.018047913908958435
          ],
          [
           0.010195697657763958,
           0.00804382748901844,
           0.0002911441260948777,
           0.003937976900488138,
           0.020136937499046326,
           0,
           0.009760307148098946
          ],
          [
           0.3418252170085907,
           0.2696806788444519,
           0.009761018678545952,
           0.13202624022960663,
           0.6751194000244141,
           0,
           0.3272281289100647
          ],
          [
           0.21676452457904816,
           0.1710149198770523,
           0.0061898380517959595,
           0.08372292667627335,
           0.4281192123889923,
           0,
           0.20750795304775238
          ],
          [
           0.027750253677368164,
           0.021893372759222984,
           0.0007924247183836997,
           0.01071823202073574,
           0.054807934910058975,
           0,
           0.026565223932266235
          ],
          [
           0.06797844171524048,
           0.05363113433122635,
           0.001941164257004857,
           0.026255927979946136,
           0.13426032662391663,
           0,
           0.06507553160190582
          ],
          [
           0.36038607358932495,
           0.28432416915893555,
           0.010291035287082195,
           0.13919515907764435,
           0.7117778658866882,
           0,
           0.3449963927268982
          ],
          [
           0.10831461101770401,
           0.0854540765285492,
           0.00309298699721694,
           0.04183533042669296,
           0.21392598748207092,
           0,
           0.10368920862674713
          ],
          [
           0.0031030778773128986,
           0.002448152517899871,
           8.861019887262955e-05,
           0.0011985298478975892,
           0.00612871116027236,
           0,
           0.002970566041767597
          ],
          [
           0.006685451604425907,
           0.005274441558867693,
           0.0001909069687826559,
           0.002582182176411152,
           0.013204050250351429,
           0,
           0.006399959791451693
          ],
          [
           0.014680033549666405,
           0.01158171333372593,
           0.000419196963775903,
           0.005670002195984125,
           0.028993692249059677,
           0,
           0.014053147286176682
          ],
          [
           0.020708266645669937,
           0.016337648034095764,
           0.000591336633078754,
           0.007998340763151646,
           0.04089970886707306,
           0,
           0.0198239516466856
          ],
          [
           0.28884726762771606,
           0.22788408398628235,
           0.008248202502727509,
           0.11156409978866577,
           0.5704856514930725,
           0,
           0.2765125036239624
          ],
          [
           0.34307318925857544,
           0.2706652879714966,
           0.009796655736863613,
           0.1325082629919052,
           0.6775841116905212,
           0,
           0.32842278480529785
          ],
          [
           0.01350980345159769,
           0.01065846811980009,
           0.0003857803239952773,
           0.005218013655394316,
           0.02668243832886219,
           0,
           0.012932888232171535
          ],
          [
           0.009862600825726986,
           0.007781032007187605,
           0.0002816323540173471,
           0.003809321438893676,
           0.0194790568202734,
           0,
           0.009441433474421501
          ],
          [
           0.14430904388427734,
           0.1138516515493393,
           0.004120829049497843,
           0.05573779344558716,
           0.2850165069103241,
           0,
           0.1381465643644333
          ],
          [
           0.008094646967947483,
           0.006386217195540667,
           0.0002311474090674892,
           0.0031264687422662973,
           0.015987273305654526,
           0,
           0.007748978212475777
          ],
          [
           0.30096548795700073,
           0.2374446839094162,
           0.00859424564987421,
           0.11624462902545929,
           0.5944195985794067,
           0,
           0.28811323642730713
          ],
          [
           0.016924018040299416,
           0.013352091424167156,
           0.00048327527474612,
           0.006536717526614666,
           0.03342565894126892,
           0,
           0.016201307997107506
          ],
          [
           0.013274641707539558,
           0.010472939349710941,
           0.00037906516809016466,
           0.005127185024321079,
           0.026217984035611153,
           0,
           0.012707768939435482
          ],
          [
           0.014025797136127949,
           0.011065557599067688,
           0.00040051486575976014,
           0.005417310167104006,
           0.027701547369360924,
           0,
           0.013426847755908966
          ],
          [
           0.1561606377363205,
           0.123201884329319,
           0.004459258634597063,
           0.0603153370320797,
           0.3084239065647125,
           0,
           0.1494920551776886
          ],
          [
           0.015531095676124096,
           0.012253152206540108,
           0.0004434995062183589,
           0.005998715292662382,
           0.03067457303404808,
           0,
           0.014867863617837429
          ],
          [
           0.007854604162275791,
           0.006196837406605482,
           0.00022429284581448883,
           0.003033755114302039,
           0.015513179823756218,
           0,
           0.007519186474382877
          ],
          [
           0.07136427611112595,
           0.05630236491560936,
           0.0020378485787659883,
           0.0275636687874794,
           0.14094749093055725,
           0,
           0.06831678003072739
          ],
          [
           0.007675688713788986,
           0.006055682897567749,
           0.00021918378479313105,
           0.002964650746434927,
           0.015159811824560165,
           0,
           0.0073479111306369305
          ],
          [
           0.01499906089156866,
           0.01183340698480606,
           0.00042830692837014794,
           0.005793222691863775,
           0.029623785987496376,
           0,
           0.014358549378812313
          ],
          [
           0.010203436948359013,
           0.008049932308495045,
           0.00029136514058336616,
           0.003940965980291367,
           0.020152224227786064,
           0,
           0.009767714887857437
          ],
          [
           0.17080004513263702,
           0.13475152850151062,
           0.004877295345067978,
           0.06596964597702026,
           0.3373373746871948,
           0,
           0.16350629925727844
          ],
          [
           0.03906283527612686,
           0.030818359926342964,
           0.0011154621606692672,
           0.015087593346834183,
           0.07715076953172684,
           0,
           0.03739472106099129
          ],
          [
           0.011486918665468693,
           0.009062526747584343,
           0.0003280156815890223,
           0.004436696879565716,
           0.0226871557533741,
           0,
           0.010996389202773571
          ],
          [
           0.0022153162863105536,
           0.0017477587098255754,
           6.325964932329953e-05,
           0.0008556415559723973,
           0.004375343676656485,
           0,
           0.0021207148674875498
          ],
          [
           0.1108962893486023,
           0.08749088644981384,
           0.003166708629578352,
           0.04283248260617256,
           0.2190248966217041,
           0,
           0.10616065561771393
          ],
          [
           0.03367520496249199,
           0.02656782604753971,
           0.000961615180131048,
           0.013006678782403469,
           0.06650996208190918,
           0,
           0.032237157225608826
          ],
          [
           0.19777800142765045,
           0.1560356169939041,
           0.005647666286677122,
           0.07638958841562271,
           0.3906199634075165,
           0,
           0.18933220207691193
          ],
          [
           0.14949344098567963,
           0.11794184893369675,
           0.004268873017281294,
           0.05774020776152611,
           0.2952559292316437,
           0,
           0.14310956001281738
          ],
          [
           0.4082154333591461,
           0.3220588266849518,
           0.01165683101862669,
           0.15766873955726624,
           0.8062429428100586,
           0,
           0.39078325033187866
          ],
          [
           0.4401471018791199,
           0.3472510874271393,
           0.012568658217787743,
           0.17000199854373932,
           0.8693093061447144,
           0,
           0.4213513135910034
          ],
          [
           0.2627117931842804,
           0.207264706492424,
           0.007501889485865831,
           0.10146955400705338,
           0.518867015838623,
           0,
           0.25149309635162354
          ],
          [
           0.19540174305438995,
           0.15416088700294495,
           0.005579811055213213,
           0.07547178864479065,
           0.3859267830848694,
           0,
           0.18705743551254272
          ],
          [
           0.006222915835678577,
           0.004909527488052845,
           0.0001776990102371201,
           0.002403533086180687,
           0.012290524318814278,
           0,
           0.0059571764431893826
          ],
          [
           0.010888677090406418,
           0.008590548299252987,
           0.00031093257712200284,
           0.004205632489174604,
           0.021505601704120636,
           0,
           0.010423693805932999
          ],
          [
           0.007186513859778643,
           0.005669751670211554,
           0.00020521511032711715,
           0.0027757121715694666,
           0.014193672686815262,
           0,
           0.0068796249106526375
          ],
          [
           0.06991691887378693,
           0.055160488933324814,
           0.0019965185783803463,
           0.02700464427471161,
           0.1380889117717743,
           0,
           0.06693123281002045
          ],
          [
           0.0019410229288041592,
           0.0015313568292185664,
           5.542704093386419e-05,
           0.0007496987818740308,
           0.003833602648228407,
           0,
           0.0018581345211714506
          ],
          [
           0.020201867446303368,
           0.015938125550746918,
           0.0005768761038780212,
           0.0078027499839663506,
           0.0398995466530323,
           0,
           0.01933917962014675
          ],
          [
           0.06712671369314194,
           0.05295916646718979,
           0.0019168424187228084,
           0.02592695690691471,
           0.13257811963558197,
           0,
           0.06426016986370087
          ],
          [
           0.014003971591591835,
           0.011048338375985622,
           0.00039989157812669873,
           0.005408880300819874,
           0.027658438310027122,
           0,
           0.013405954465270042
          ],
          [
           0.3219858407974243,
           0.2540285587310791,
           0.009194494225084782,
           0.1243635043501854,
           0.6359357833862305,
           0,
           0.30823594331741333
          ],
          [
           0.07403255254030228,
           0.058407481759786606,
           0.0021140428725630045,
           0.02859426662325859,
           0.1462174504995346,
           0,
           0.07087111473083496
          ],
          [
           0.07910891622304916,
           0.06241244822740555,
           0.002259001601487398,
           0.03055495209991932,
           0.1562434881925583,
           0,
           0.07573070377111435
          ],
          [
           0.2389918863773346,
           0.18855102360248566,
           0.0068245530128479,
           0.09230799973011017,
           0.47201916575431824,
           0,
           0.22878611087799072
          ],
          [
           0.028330586850643158,
           0.02235122211277485,
           0.0008089964394457638,
           0.010942377150058746,
           0.055954109877347946,
           0,
           0.027120770886540413
          ],
          [
           0.10264039039611816,
           0.08097744733095169,
           0.0029309566598385572,
           0.039643727242946625,
           0.20271915197372437,
           0,
           0.09825729578733444
          ],
          [
           0.04224048927426338,
           0.033325351774692535,
           0.0012062018504366279,
           0.016314927488565445,
           0.08342676609754562,
           0,
           0.04043668136000633
          ],
          [
           0.21787476539611816,
           0.17189082503318787,
           0.006221541203558445,
           0.0841517373919487,
           0.4303119480609894,
           0,
           0.20857077836990356
          ],
          [
           0.012460974045097828,
           0.009831001050770283,
           0.0003558304160833359,
           0.004812914878129959,
           0.024610955268144608,
           0,
           0.01192884799093008
          ],
          [
           0.010417777113616467,
           0.008219034411013126,
           0.0002974857052322477,
           0.004023752175271511,
           0.02057555317878723,
           0,
           0.009972902946174145
          ],
          [
           0.062008071690797806,
           0.04892084747552872,
           0.001770676695741713,
           0.023949936032295227,
           0.12246856838464737,
           0,
           0.059360116720199585
          ],
          [
           0.21558600664138794,
           0.1700851023197174,
           0.006156184244900942,
           0.08326772600412369,
           0.42579153180122375,
           0,
           0.2063797414302826
          ],
          [
           0.051737308502197266,
           0.04081780090928078,
           0.0014773891307413578,
           0.019982969388365746,
           0.10218339413404465,
           0,
           0.04952795058488846
          ],
          [
           0.008928821422159672,
           0.007044333498924971,
           0.0002549676864873618,
           0.003448659088462591,
           0.0176348015666008,
           0,
           0.008547530509531498
          ],
          [
           0.10906810313463211,
           0.08604855090379715,
           0.003114503575488925,
           0.0421263612806797,
           0.2154141664505005,
           0,
           0.10441052168607712
          ],
          [
           0.0015821842243894935,
           0.001248253509402275,
           4.518019704846665e-05,
           0.0006111012771725655,
           0.0031248810701072216,
           0,
           0.0015146195655688643
          ],
          [
           0.020822705700993538,
           0.016427932307124138,
           0.0005946045275777578,
           0.008042542263865471,
           0.04112572968006134,
           0,
           0.019933506846427917
          ],
          [
           0.19171108305454254,
           0.15124915540218353,
           0.005474421661347151,
           0.0740463063120842,
           0.37863755226135254,
           0,
           0.18352435529232025
          ],
          [
           0.014279189519584179,
           0.011265470646321774,
           0.0004077506309840828,
           0.00551518052816391,
           0.028202010318636894,
           0,
           0.013669419102370739
          ],
          [
           0.3573603630065918,
           0.28193703293800354,
           0.010204634629189968,
           0.13802652060985565,
           0.7058019638061523,
           0,
           0.3420998454093933
          ],
          [
           0.0024950567167252302,
           0.0019684582948684692,
           7.124780677258968e-05,
           0.0009636882459744811,
           0.00492784334346652,
           0,
           0.0023885094560682774
          ],
          [
           0.1271083652973175,
           0.10028128325939178,
           0.003629653714597225,
           0.04909421131014824,
           0.25104445219039917,
           0,
           0.12168040126562119
          ],
          [
           0.01958303712308407,
           0.015449904836714268,
           0.0005592051311396062,
           0.007563733961433172,
           0.038677334785461426,
           0,
           0.01874677650630474
          ],
          [
           0.017383022233843803,
           0.013714217580854893,
           0.0004963824176229537,
           0.006714002229273319,
           0.03433220833539963,
           0,
           0.016640707850456238
          ],
          [
           0.10492751747369766,
           0.0827818512916565,
           0.0029962665867060423,
           0.0405271053314209,
           0.20723631978034973,
           0,
           0.10044675320386887
          ]
         ]
        }
       ],
       "layout": {
        "template": {
         "data": {
          "bar": [
           {
            "error_x": {
             "color": "#2a3f5f"
            },
            "error_y": {
             "color": "#2a3f5f"
            },
            "marker": {
             "line": {
              "color": "#E5ECF6",
              "width": 0.5
             },
             "pattern": {
              "fillmode": "overlay",
              "size": 10,
              "solidity": 0.2
             }
            },
            "type": "bar"
           }
          ],
          "barpolar": [
           {
            "marker": {
             "line": {
              "color": "#E5ECF6",
              "width": 0.5
             },
             "pattern": {
              "fillmode": "overlay",
              "size": 10,
              "solidity": 0.2
             }
            },
            "type": "barpolar"
           }
          ],
          "carpet": [
           {
            "aaxis": {
             "endlinecolor": "#2a3f5f",
             "gridcolor": "white",
             "linecolor": "white",
             "minorgridcolor": "white",
             "startlinecolor": "#2a3f5f"
            },
            "baxis": {
             "endlinecolor": "#2a3f5f",
             "gridcolor": "white",
             "linecolor": "white",
             "minorgridcolor": "white",
             "startlinecolor": "#2a3f5f"
            },
            "type": "carpet"
           }
          ],
          "choropleth": [
           {
            "colorbar": {
             "outlinewidth": 0,
             "ticks": ""
            },
            "type": "choropleth"
           }
          ],
          "contour": [
           {
            "colorbar": {
             "outlinewidth": 0,
             "ticks": ""
            },
            "colorscale": [
             [
              0,
              "#0d0887"
             ],
             [
              0.1111111111111111,
              "#46039f"
             ],
             [
              0.2222222222222222,
              "#7201a8"
             ],
             [
              0.3333333333333333,
              "#9c179e"
             ],
             [
              0.4444444444444444,
              "#bd3786"
             ],
             [
              0.5555555555555556,
              "#d8576b"
             ],
             [
              0.6666666666666666,
              "#ed7953"
             ],
             [
              0.7777777777777778,
              "#fb9f3a"
             ],
             [
              0.8888888888888888,
              "#fdca26"
             ],
             [
              1,
              "#f0f921"
             ]
            ],
            "type": "contour"
           }
          ],
          "contourcarpet": [
           {
            "colorbar": {
             "outlinewidth": 0,
             "ticks": ""
            },
            "type": "contourcarpet"
           }
          ],
          "heatmap": [
           {
            "colorbar": {
             "outlinewidth": 0,
             "ticks": ""
            },
            "colorscale": [
             [
              0,
              "#0d0887"
             ],
             [
              0.1111111111111111,
              "#46039f"
             ],
             [
              0.2222222222222222,
              "#7201a8"
             ],
             [
              0.3333333333333333,
              "#9c179e"
             ],
             [
              0.4444444444444444,
              "#bd3786"
             ],
             [
              0.5555555555555556,
              "#d8576b"
             ],
             [
              0.6666666666666666,
              "#ed7953"
             ],
             [
              0.7777777777777778,
              "#fb9f3a"
             ],
             [
              0.8888888888888888,
              "#fdca26"
             ],
             [
              1,
              "#f0f921"
             ]
            ],
            "type": "heatmap"
           }
          ],
          "heatmapgl": [
           {
            "colorbar": {
             "outlinewidth": 0,
             "ticks": ""
            },
            "colorscale": [
             [
              0,
              "#0d0887"
             ],
             [
              0.1111111111111111,
              "#46039f"
             ],
             [
              0.2222222222222222,
              "#7201a8"
             ],
             [
              0.3333333333333333,
              "#9c179e"
             ],
             [
              0.4444444444444444,
              "#bd3786"
             ],
             [
              0.5555555555555556,
              "#d8576b"
             ],
             [
              0.6666666666666666,
              "#ed7953"
             ],
             [
              0.7777777777777778,
              "#fb9f3a"
             ],
             [
              0.8888888888888888,
              "#fdca26"
             ],
             [
              1,
              "#f0f921"
             ]
            ],
            "type": "heatmapgl"
           }
          ],
          "histogram": [
           {
            "marker": {
             "pattern": {
              "fillmode": "overlay",
              "size": 10,
              "solidity": 0.2
             }
            },
            "type": "histogram"
           }
          ],
          "histogram2d": [
           {
            "colorbar": {
             "outlinewidth": 0,
             "ticks": ""
            },
            "colorscale": [
             [
              0,
              "#0d0887"
             ],
             [
              0.1111111111111111,
              "#46039f"
             ],
             [
              0.2222222222222222,
              "#7201a8"
             ],
             [
              0.3333333333333333,
              "#9c179e"
             ],
             [
              0.4444444444444444,
              "#bd3786"
             ],
             [
              0.5555555555555556,
              "#d8576b"
             ],
             [
              0.6666666666666666,
              "#ed7953"
             ],
             [
              0.7777777777777778,
              "#fb9f3a"
             ],
             [
              0.8888888888888888,
              "#fdca26"
             ],
             [
              1,
              "#f0f921"
             ]
            ],
            "type": "histogram2d"
           }
          ],
          "histogram2dcontour": [
           {
            "colorbar": {
             "outlinewidth": 0,
             "ticks": ""
            },
            "colorscale": [
             [
              0,
              "#0d0887"
             ],
             [
              0.1111111111111111,
              "#46039f"
             ],
             [
              0.2222222222222222,
              "#7201a8"
             ],
             [
              0.3333333333333333,
              "#9c179e"
             ],
             [
              0.4444444444444444,
              "#bd3786"
             ],
             [
              0.5555555555555556,
              "#d8576b"
             ],
             [
              0.6666666666666666,
              "#ed7953"
             ],
             [
              0.7777777777777778,
              "#fb9f3a"
             ],
             [
              0.8888888888888888,
              "#fdca26"
             ],
             [
              1,
              "#f0f921"
             ]
            ],
            "type": "histogram2dcontour"
           }
          ],
          "mesh3d": [
           {
            "colorbar": {
             "outlinewidth": 0,
             "ticks": ""
            },
            "type": "mesh3d"
           }
          ],
          "parcoords": [
           {
            "line": {
             "colorbar": {
              "outlinewidth": 0,
              "ticks": ""
             }
            },
            "type": "parcoords"
           }
          ],
          "pie": [
           {
            "automargin": true,
            "type": "pie"
           }
          ],
          "scatter": [
           {
            "fillpattern": {
             "fillmode": "overlay",
             "size": 10,
             "solidity": 0.2
            },
            "type": "scatter"
           }
          ],
          "scatter3d": [
           {
            "line": {
             "colorbar": {
              "outlinewidth": 0,
              "ticks": ""
             }
            },
            "marker": {
             "colorbar": {
              "outlinewidth": 0,
              "ticks": ""
             }
            },
            "type": "scatter3d"
           }
          ],
          "scattercarpet": [
           {
            "marker": {
             "colorbar": {
              "outlinewidth": 0,
              "ticks": ""
             }
            },
            "type": "scattercarpet"
           }
          ],
          "scattergeo": [
           {
            "marker": {
             "colorbar": {
              "outlinewidth": 0,
              "ticks": ""
             }
            },
            "type": "scattergeo"
           }
          ],
          "scattergl": [
           {
            "marker": {
             "colorbar": {
              "outlinewidth": 0,
              "ticks": ""
             }
            },
            "type": "scattergl"
           }
          ],
          "scattermapbox": [
           {
            "marker": {
             "colorbar": {
              "outlinewidth": 0,
              "ticks": ""
             }
            },
            "type": "scattermapbox"
           }
          ],
          "scatterpolar": [
           {
            "marker": {
             "colorbar": {
              "outlinewidth": 0,
              "ticks": ""
             }
            },
            "type": "scatterpolar"
           }
          ],
          "scatterpolargl": [
           {
            "marker": {
             "colorbar": {
              "outlinewidth": 0,
              "ticks": ""
             }
            },
            "type": "scatterpolargl"
           }
          ],
          "scatterternary": [
           {
            "marker": {
             "colorbar": {
              "outlinewidth": 0,
              "ticks": ""
             }
            },
            "type": "scatterternary"
           }
          ],
          "surface": [
           {
            "colorbar": {
             "outlinewidth": 0,
             "ticks": ""
            },
            "colorscale": [
             [
              0,
              "#0d0887"
             ],
             [
              0.1111111111111111,
              "#46039f"
             ],
             [
              0.2222222222222222,
              "#7201a8"
             ],
             [
              0.3333333333333333,
              "#9c179e"
             ],
             [
              0.4444444444444444,
              "#bd3786"
             ],
             [
              0.5555555555555556,
              "#d8576b"
             ],
             [
              0.6666666666666666,
              "#ed7953"
             ],
             [
              0.7777777777777778,
              "#fb9f3a"
             ],
             [
              0.8888888888888888,
              "#fdca26"
             ],
             [
              1,
              "#f0f921"
             ]
            ],
            "type": "surface"
           }
          ],
          "table": [
           {
            "cells": {
             "fill": {
              "color": "#EBF0F8"
             },
             "line": {
              "color": "white"
             }
            },
            "header": {
             "fill": {
              "color": "#C8D4E3"
             },
             "line": {
              "color": "white"
             }
            },
            "type": "table"
           }
          ]
         },
         "layout": {
          "annotationdefaults": {
           "arrowcolor": "#2a3f5f",
           "arrowhead": 0,
           "arrowwidth": 1
          },
          "autotypenumbers": "strict",
          "coloraxis": {
           "colorbar": {
            "outlinewidth": 0,
            "ticks": ""
           }
          },
          "colorscale": {
           "diverging": [
            [
             0,
             "#8e0152"
            ],
            [
             0.1,
             "#c51b7d"
            ],
            [
             0.2,
             "#de77ae"
            ],
            [
             0.3,
             "#f1b6da"
            ],
            [
             0.4,
             "#fde0ef"
            ],
            [
             0.5,
             "#f7f7f7"
            ],
            [
             0.6,
             "#e6f5d0"
            ],
            [
             0.7,
             "#b8e186"
            ],
            [
             0.8,
             "#7fbc41"
            ],
            [
             0.9,
             "#4d9221"
            ],
            [
             1,
             "#276419"
            ]
           ],
           "sequential": [
            [
             0,
             "#0d0887"
            ],
            [
             0.1111111111111111,
             "#46039f"
            ],
            [
             0.2222222222222222,
             "#7201a8"
            ],
            [
             0.3333333333333333,
             "#9c179e"
            ],
            [
             0.4444444444444444,
             "#bd3786"
            ],
            [
             0.5555555555555556,
             "#d8576b"
            ],
            [
             0.6666666666666666,
             "#ed7953"
            ],
            [
             0.7777777777777778,
             "#fb9f3a"
            ],
            [
             0.8888888888888888,
             "#fdca26"
            ],
            [
             1,
             "#f0f921"
            ]
           ],
           "sequentialminus": [
            [
             0,
             "#0d0887"
            ],
            [
             0.1111111111111111,
             "#46039f"
            ],
            [
             0.2222222222222222,
             "#7201a8"
            ],
            [
             0.3333333333333333,
             "#9c179e"
            ],
            [
             0.4444444444444444,
             "#bd3786"
            ],
            [
             0.5555555555555556,
             "#d8576b"
            ],
            [
             0.6666666666666666,
             "#ed7953"
            ],
            [
             0.7777777777777778,
             "#fb9f3a"
            ],
            [
             0.8888888888888888,
             "#fdca26"
            ],
            [
             1,
             "#f0f921"
            ]
           ]
          },
          "colorway": [
           "#636efa",
           "#EF553B",
           "#00cc96",
           "#ab63fa",
           "#FFA15A",
           "#19d3f3",
           "#FF6692",
           "#B6E880",
           "#FF97FF",
           "#FECB52"
          ],
          "font": {
           "color": "#2a3f5f"
          },
          "geo": {
           "bgcolor": "white",
           "lakecolor": "white",
           "landcolor": "#E5ECF6",
           "showlakes": true,
           "showland": true,
           "subunitcolor": "white"
          },
          "hoverlabel": {
           "align": "left"
          },
          "hovermode": "closest",
          "mapbox": {
           "style": "light"
          },
          "paper_bgcolor": "white",
          "plot_bgcolor": "#E5ECF6",
          "polar": {
           "angularaxis": {
            "gridcolor": "white",
            "linecolor": "white",
            "ticks": ""
           },
           "bgcolor": "#E5ECF6",
           "radialaxis": {
            "gridcolor": "white",
            "linecolor": "white",
            "ticks": ""
           }
          },
          "scene": {
           "xaxis": {
            "backgroundcolor": "#E5ECF6",
            "gridcolor": "white",
            "gridwidth": 2,
            "linecolor": "white",
            "showbackground": true,
            "ticks": "",
            "zerolinecolor": "white"
           },
           "yaxis": {
            "backgroundcolor": "#E5ECF6",
            "gridcolor": "white",
            "gridwidth": 2,
            "linecolor": "white",
            "showbackground": true,
            "ticks": "",
            "zerolinecolor": "white"
           },
           "zaxis": {
            "backgroundcolor": "#E5ECF6",
            "gridcolor": "white",
            "gridwidth": 2,
            "linecolor": "white",
            "showbackground": true,
            "ticks": "",
            "zerolinecolor": "white"
           }
          },
          "shapedefaults": {
           "line": {
            "color": "#2a3f5f"
           }
          },
          "ternary": {
           "aaxis": {
            "gridcolor": "white",
            "linecolor": "white",
            "ticks": ""
           },
           "baxis": {
            "gridcolor": "white",
            "linecolor": "white",
            "ticks": ""
           },
           "bgcolor": "#E5ECF6",
           "caxis": {
            "gridcolor": "white",
            "linecolor": "white",
            "ticks": ""
           }
          },
          "title": {
           "x": 0.05
          },
          "xaxis": {
           "automargin": true,
           "gridcolor": "white",
           "linecolor": "white",
           "ticks": "",
           "title": {
            "standoff": 15
           },
           "zerolinecolor": "white",
           "zerolinewidth": 2
          },
          "yaxis": {
           "automargin": true,
           "gridcolor": "white",
           "linecolor": "white",
           "ticks": "",
           "title": {
            "standoff": 15
           },
           "zerolinecolor": "white",
           "zerolinewidth": 2
          }
         }
        }
       }
      },
      "text/html": [
       "<div>                            <div id=\"b49c25d0-1c91-4184-9ad9-afc0aa33f235\" class=\"plotly-graph-div\" style=\"height:525px; width:100%;\"></div>            <script type=\"text/javascript\">                require([\"plotly\"], function(Plotly) {                    window.PLOTLYENV=window.PLOTLYENV || {};                                    if (document.getElementById(\"b49c25d0-1c91-4184-9ad9-afc0aa33f235\")) {                    Plotly.newPlot(                        \"b49c25d0-1c91-4184-9ad9-afc0aa33f235\",                        [{\"z\":[[0.08574225753545761,0.06764578074216843,0.0024484205059707165,0.033117007464170456,0.16934461891651154,0.0,0.08208077400922775],[0.1591365486383438,0.12554968893527985,0.004544237162917852,0.06146474555134773,0.314301460981369,0.0,0.1523408740758896],[0.007104937452822924,0.005605392623692751,0.00020288568339310586,0.0027442045975476503,0.014032555744051933,0.0,0.006801533047109842],[0.35339951515197754,0.27881214022636414,0.010091530159115791,0.1364966779947281,0.6979790925979614,0.0,0.3383081555366516],[0.3174971640110016,0.25048723816871643,0.009066317230463028,0.122629813849926,0.6270704865455627,0.0,0.30393895506858826],[0.007901567965745926,0.00623388821259141,0.00022563387756235898,0.0030518940184265375,0.015605932101607323,0.0,0.007564143743366003],[0.011865340173244476,0.009361080825328827,0.0003388217301107943,0.004582857713103294,0.023434553295373917,0.0,0.011358650401234627],[0.007324086036533117,0.005778288468718529,0.0002091435599140823,0.0028288480825722218,0.014465384185314178,0.0,0.007011323235929012],[0.11182805150747299,0.08822598308324814,0.0031933151185512543,0.043192360550165176,0.2208651602268219,0.0,0.10705261677503586],[0.011252244003117085,0.00887738075107336,0.0003213144082110375,0.004346055909991264,0.022223660722374916,0.0,0.01077173464000225],[0.02792665734887123,0.022032547742128372,0.000797462125774473,0.01078636571764946,0.055156342685222626,0.0,0.026734095066785812],[0.017547784373164177,0.013844206929206848,0.0005010871682316065,0.006777639035135508,0.03465761989355087,0.0,0.016798432916402817],[0.329278826713562,0.2597823143005371,0.009402749128639698,0.1271803379058838,0.6503397226333618,0.0,0.3152174949645996],[0.019756454974412918,0.015586720779538155,0.0005641570896841586,0.007630713749676943,0.039019837975502014,0.0,0.01891278475522995],[0.009415310807526112,0.007428145967423916,0.00026885970146395266,0.0036365604028105736,0.018595639616250992,0.0,0.009013243950903416],[0.007942136377096176,0.006265895441174507,0.0002267923700856045,0.003067563520744443,0.01568605937063694,0.0,0.00760298129171133],[0.32056427001953125,0.25290700793266296,0.009153899736702442,0.1238144263625145,0.6331280469894409,0.0,0.306875079870224],[0.2246689796447754,0.17725108563899994,0.0064155543223023415,0.08677593618631363,0.44373083114624023,0.0,0.21507485210895538],[0.26799219846725464,0.2114306390285492,0.007652673404663801,0.10350904613733292,0.5292959213256836,0.0,0.2565479874610901],[0.17453636229038239,0.13769927620887756,0.004983988124877214,0.06741275638341904,0.34471672773361206,0.0,0.16708305478096008],[0.3176725506782532,0.2506255805492401,0.00907132588326931,0.12269753217697144,0.6274167895317078,0.0,0.30410683155059814],[0.12271052598953247,0.09681163728237152,0.0035040706861764193,0.04739559814333916,0.2423585206270218,0.0,0.11747036129236221],[0.0006616878090426326,0.0005220341845415533,1.8894881577580236e-05,0.00025556967011652887,0.0013068616390228271,0.0,0.000633431482128799],[0.009164690040051937,0.007230420131236315,0.00026170306955464184,0.003539761295542121,0.01810065284371376,0.0,0.008773325942456722],[0.012348196469247341,0.009742026217281818,0.000352609931724146,0.004769355524331331,0.024388212710618973,0.0,0.01182088628411293],[0.2084328681230545,0.16444168984889984,0.005951921921223402,0.08050490915775299,0.4116637706756592,0.0,0.19953206181526184],[0.23318521678447723,0.1839699000120163,0.006658740807324648,0.09006523340940475,0.4605507254600525,0.0,0.22322741150856018],[0.3783973157405853,0.29853400588035583,0.010805356316268444,0.1461518108844757,0.747350811958313,0.0,0.36223846673965454],[0.022241298109292984,0.01754712127149105,0.0006351132178679109,0.008590457029640675,0.04392750933766365,0.0,0.021291518583893776],[0.506318211555481,0.39945635199546814,0.014458212070167065,0.19555987417697906,1.0,0.0,0.48469671607017517],[0.030696412548422813,0.024217728525400162,0.0008765539969317615,0.01185615360736847,0.06062673032283783,0.0,0.02938557043671608],[0.003850942710414529,0.003038175171241164,0.00010996592027368024,0.0014873844338580966,0.0076057761907577515,0.0,0.003686494193971157],[0.13187409937381744,0.104041188955307,0.0037657422944903374,0.05093492567539215,0.26045697927474976,0.0,0.12624263763427734],[0.01490751188248396,0.011761181056499481,0.00042569273500703275,0.005757863167673349,0.02944297343492508,0.0,0.014270910993218422],[0.010325687937438488,0.008146381936967373,0.00029485605773516,0.003988184034824371,0.020393675193190575,0.0,0.009884745813906193],[0.02010861411690712,0.015864554792642593,0.0005742132198065519,0.007766732480376959,0.039715368300676346,0.0,0.01924990676343441],[0.010288907214999199,0.008117363788187504,0.0002938057587016374,0.003973977640271187,0.02032102830708027,0.0,0.009849535301327705],[0.037996139377355576,0.029976798221468925,0.0010850019752979279,0.014675592072308064,0.07504399120807648,0.0,0.036373570561409],[0.4396079480648041,0.3468257188796997,0.0125532615929842,0.1697937399148941,0.8682444095611572,0.0,0.4208351671695709],[0.0029028302524238825,0.0022901680786162615,8.289200923172757e-05,0.0011211863020434976,0.005733212921768427,0.0,0.002778869355097413],[0.26433753967285156,0.20854729413986206,0.007548312656581402,0.10209747403860092,0.5220779180526733,0.0,0.25304943323135376],[0.010814833454787731,0.008532289415597916,0.00030882388819009066,0.004177110735327005,0.021359758451581,0.0,0.01035300362855196],[0.009530876763164997,0.007519320119172335,0.00027215975569561124,0.003681196365505457,0.018823886290192604,0.0,0.009123875759541988],[0.0025282015558332205,0.0019946075044572353,7.219427789095789e-05,0.0009764902060851455,0.004993306007236242,0.0,0.0024202389176934958],[0.3176094889640808,0.25057584047317505,0.009069524705410004,0.12267318367958069,0.6272922158241272,0.0,0.3040464520454407],[0.009696205146610737,0.007649755571037531,0.0002768808335531503,0.0037450529634952545,0.019150419160723686,0.0,0.009282144717872143],[0.015144218690693378,0.011947929859161377,0.00043245204142294824,0.005849288776516914,0.029910478740930557,0.0,0.014497509226202965],[0.011578739620745182,0.009134968742728233,0.0003306376747786999,0.004472161177545786,0.022868504747748375,0.0,0.011084288358688354],[0.03721127286553383,0.029357580468058586,0.0010625896975398064,0.014372446574270725,0.0734938457608223,0.0,0.03562222421169281],[0.38437420129776,0.30324944853782654,0.010976030491292477,0.14846034348011017,0.7591553926467896,0.0,0.367960125207901],[0.003648922313004732,0.002878792816773057,0.00010419711179565638,0.0014093563659116626,0.0072067780420184135,0.0,0.003493100870400667],[0.09213820099830627,0.07269181311130524,0.0026310603134334087,0.0355873703956604,0.18197686970233917,0.0,0.08820358663797379],[0.016657855361700058,0.013142102397978306,0.0004756748385261744,0.006433914415538311,0.03289997577667236,0.0,0.015946509316563606],[0.00837597344070673,0.006608167663216591,0.00023918082297313958,0.0032351280096918344,0.016542905941605568,0.0,0.008018291555345058],[0.018853003159165382,0.014873948879539967,0.0005383585230447352,0.007281766273081303,0.03723548352718353,0.0,0.018047913908958435],[0.010195697657763958,0.00804382748901844,0.0002911441260948777,0.003937976900488138,0.020136937499046326,0.0,0.009760307148098946],[0.3418252170085907,0.2696806788444519,0.009761018678545952,0.13202624022960663,0.6751194000244141,0.0,0.3272281289100647],[0.21676452457904816,0.1710149198770523,0.0061898380517959595,0.08372292667627335,0.4281192123889923,0.0,0.20750795304775238],[0.027750253677368164,0.021893372759222984,0.0007924247183836997,0.01071823202073574,0.054807934910058975,0.0,0.026565223932266235],[0.06797844171524048,0.05363113433122635,0.001941164257004857,0.026255927979946136,0.13426032662391663,0.0,0.06507553160190582],[0.36038607358932495,0.28432416915893555,0.010291035287082195,0.13919515907764435,0.7117778658866882,0.0,0.3449963927268982],[0.10831461101770401,0.0854540765285492,0.00309298699721694,0.04183533042669296,0.21392598748207092,0.0,0.10368920862674713],[0.0031030778773128986,0.002448152517899871,8.861019887262955e-05,0.0011985298478975892,0.00612871116027236,0.0,0.002970566041767597],[0.006685451604425907,0.005274441558867693,0.0001909069687826559,0.002582182176411152,0.013204050250351429,0.0,0.006399959791451693],[0.014680033549666405,0.01158171333372593,0.000419196963775903,0.005670002195984125,0.028993692249059677,0.0,0.014053147286176682],[0.020708266645669937,0.016337648034095764,0.000591336633078754,0.007998340763151646,0.04089970886707306,0.0,0.0198239516466856],[0.28884726762771606,0.22788408398628235,0.008248202502727509,0.11156409978866577,0.5704856514930725,0.0,0.2765125036239624],[0.34307318925857544,0.2706652879714966,0.009796655736863613,0.1325082629919052,0.6775841116905212,0.0,0.32842278480529785],[0.01350980345159769,0.01065846811980009,0.0003857803239952773,0.005218013655394316,0.02668243832886219,0.0,0.012932888232171535],[0.009862600825726986,0.007781032007187605,0.0002816323540173471,0.003809321438893676,0.0194790568202734,0.0,0.009441433474421501],[0.14430904388427734,0.1138516515493393,0.004120829049497843,0.05573779344558716,0.2850165069103241,0.0,0.1381465643644333],[0.008094646967947483,0.006386217195540667,0.0002311474090674892,0.0031264687422662973,0.015987273305654526,0.0,0.007748978212475777],[0.30096548795700073,0.2374446839094162,0.00859424564987421,0.11624462902545929,0.5944195985794067,0.0,0.28811323642730713],[0.016924018040299416,0.013352091424167156,0.00048327527474612,0.006536717526614666,0.03342565894126892,0.0,0.016201307997107506],[0.013274641707539558,0.010472939349710941,0.00037906516809016466,0.005127185024321079,0.026217984035611153,0.0,0.012707768939435482],[0.014025797136127949,0.011065557599067688,0.00040051486575976014,0.005417310167104006,0.027701547369360924,0.0,0.013426847755908966],[0.1561606377363205,0.123201884329319,0.004459258634597063,0.0603153370320797,0.3084239065647125,0.0,0.1494920551776886],[0.015531095676124096,0.012253152206540108,0.0004434995062183589,0.005998715292662382,0.03067457303404808,0.0,0.014867863617837429],[0.007854604162275791,0.006196837406605482,0.00022429284581448883,0.003033755114302039,0.015513179823756218,0.0,0.007519186474382877],[0.07136427611112595,0.05630236491560936,0.0020378485787659883,0.0275636687874794,0.14094749093055725,0.0,0.06831678003072739],[0.007675688713788986,0.006055682897567749,0.00021918378479313105,0.002964650746434927,0.015159811824560165,0.0,0.0073479111306369305],[0.01499906089156866,0.01183340698480606,0.00042830692837014794,0.005793222691863775,0.029623785987496376,0.0,0.014358549378812313],[0.010203436948359013,0.008049932308495045,0.00029136514058336616,0.003940965980291367,0.020152224227786064,0.0,0.009767714887857437],[0.17080004513263702,0.13475152850151062,0.004877295345067978,0.06596964597702026,0.3373373746871948,0.0,0.16350629925727844],[0.03906283527612686,0.030818359926342964,0.0011154621606692672,0.015087593346834183,0.07715076953172684,0.0,0.03739472106099129],[0.011486918665468693,0.009062526747584343,0.0003280156815890223,0.004436696879565716,0.0226871557533741,0.0,0.010996389202773571],[0.0022153162863105536,0.0017477587098255754,6.325964932329953e-05,0.0008556415559723973,0.004375343676656485,0.0,0.0021207148674875498],[0.1108962893486023,0.08749088644981384,0.003166708629578352,0.04283248260617256,0.2190248966217041,0.0,0.10616065561771393],[0.03367520496249199,0.02656782604753971,0.000961615180131048,0.013006678782403469,0.06650996208190918,0.0,0.032237157225608826],[0.19777800142765045,0.1560356169939041,0.005647666286677122,0.07638958841562271,0.3906199634075165,0.0,0.18933220207691193],[0.14949344098567963,0.11794184893369675,0.004268873017281294,0.05774020776152611,0.2952559292316437,0.0,0.14310956001281738],[0.4082154333591461,0.3220588266849518,0.01165683101862669,0.15766873955726624,0.8062429428100586,0.0,0.39078325033187866],[0.4401471018791199,0.3472510874271393,0.012568658217787743,0.17000199854373932,0.8693093061447144,0.0,0.4213513135910034],[0.2627117931842804,0.207264706492424,0.007501889485865831,0.10146955400705338,0.518867015838623,0.0,0.25149309635162354],[0.19540174305438995,0.15416088700294495,0.005579811055213213,0.07547178864479065,0.3859267830848694,0.0,0.18705743551254272],[0.006222915835678577,0.004909527488052845,0.0001776990102371201,0.002403533086180687,0.012290524318814278,0.0,0.0059571764431893826],[0.010888677090406418,0.008590548299252987,0.00031093257712200284,0.004205632489174604,0.021505601704120636,0.0,0.010423693805932999],[0.007186513859778643,0.005669751670211554,0.00020521511032711715,0.0027757121715694666,0.014193672686815262,0.0,0.0068796249106526375],[0.06991691887378693,0.055160488933324814,0.0019965185783803463,0.02700464427471161,0.1380889117717743,0.0,0.06693123281002045],[0.0019410229288041592,0.0015313568292185664,5.542704093386419e-05,0.0007496987818740308,0.003833602648228407,0.0,0.0018581345211714506],[0.020201867446303368,0.015938125550746918,0.0005768761038780212,0.0078027499839663506,0.0398995466530323,0.0,0.01933917962014675],[0.06712671369314194,0.05295916646718979,0.0019168424187228084,0.02592695690691471,0.13257811963558197,0.0,0.06426016986370087],[0.014003971591591835,0.011048338375985622,0.00039989157812669873,0.005408880300819874,0.027658438310027122,0.0,0.013405954465270042],[0.3219858407974243,0.2540285587310791,0.009194494225084782,0.1243635043501854,0.6359357833862305,0.0,0.30823594331741333],[0.07403255254030228,0.058407481759786606,0.0021140428725630045,0.02859426662325859,0.1462174504995346,0.0,0.07087111473083496],[0.07910891622304916,0.06241244822740555,0.002259001601487398,0.03055495209991932,0.1562434881925583,0.0,0.07573070377111435],[0.2389918863773346,0.18855102360248566,0.0068245530128479,0.09230799973011017,0.47201916575431824,0.0,0.22878611087799072],[0.028330586850643158,0.02235122211277485,0.0008089964394457638,0.010942377150058746,0.055954109877347946,0.0,0.027120770886540413],[0.10264039039611816,0.08097744733095169,0.0029309566598385572,0.039643727242946625,0.20271915197372437,0.0,0.09825729578733444],[0.04224048927426338,0.033325351774692535,0.0012062018504366279,0.016314927488565445,0.08342676609754562,0.0,0.04043668136000633],[0.21787476539611816,0.17189082503318787,0.006221541203558445,0.0841517373919487,0.4303119480609894,0.0,0.20857077836990356],[0.012460974045097828,0.009831001050770283,0.0003558304160833359,0.004812914878129959,0.024610955268144608,0.0,0.01192884799093008],[0.010417777113616467,0.008219034411013126,0.0002974857052322477,0.004023752175271511,0.02057555317878723,0.0,0.009972902946174145],[0.062008071690797806,0.04892084747552872,0.001770676695741713,0.023949936032295227,0.12246856838464737,0.0,0.059360116720199585],[0.21558600664138794,0.1700851023197174,0.006156184244900942,0.08326772600412369,0.42579153180122375,0.0,0.2063797414302826],[0.051737308502197266,0.04081780090928078,0.0014773891307413578,0.019982969388365746,0.10218339413404465,0.0,0.04952795058488846],[0.008928821422159672,0.007044333498924971,0.0002549676864873618,0.003448659088462591,0.0176348015666008,0.0,0.008547530509531498],[0.10906810313463211,0.08604855090379715,0.003114503575488925,0.0421263612806797,0.2154141664505005,0.0,0.10441052168607712],[0.0015821842243894935,0.001248253509402275,4.518019704846665e-05,0.0006111012771725655,0.0031248810701072216,0.0,0.0015146195655688643],[0.020822705700993538,0.016427932307124138,0.0005946045275777578,0.008042542263865471,0.04112572968006134,0.0,0.019933506846427917],[0.19171108305454254,0.15124915540218353,0.005474421661347151,0.0740463063120842,0.37863755226135254,0.0,0.18352435529232025],[0.014279189519584179,0.011265470646321774,0.0004077506309840828,0.00551518052816391,0.028202010318636894,0.0,0.013669419102370739],[0.3573603630065918,0.28193703293800354,0.010204634629189968,0.13802652060985565,0.7058019638061523,0.0,0.3420998454093933],[0.0024950567167252302,0.0019684582948684692,7.124780677258968e-05,0.0009636882459744811,0.00492784334346652,0.0,0.0023885094560682774],[0.1271083652973175,0.10028128325939178,0.003629653714597225,0.04909421131014824,0.25104445219039917,0.0,0.12168040126562119],[0.01958303712308407,0.015449904836714268,0.0005592051311396062,0.007563733961433172,0.038677334785461426,0.0,0.01874677650630474],[0.017383022233843803,0.013714217580854893,0.0004963824176229537,0.006714002229273319,0.03433220833539963,0.0,0.016640707850456238],[0.10492751747369766,0.0827818512916565,0.0029962665867060423,0.0405271053314209,0.20723631978034973,0.0,0.10044675320386887]],\"type\":\"heatmap\"}],                        {\"template\":{\"data\":{\"histogram2dcontour\":[{\"type\":\"histogram2dcontour\",\"colorbar\":{\"outlinewidth\":0,\"ticks\":\"\"},\"colorscale\":[[0.0,\"#0d0887\"],[0.1111111111111111,\"#46039f\"],[0.2222222222222222,\"#7201a8\"],[0.3333333333333333,\"#9c179e\"],[0.4444444444444444,\"#bd3786\"],[0.5555555555555556,\"#d8576b\"],[0.6666666666666666,\"#ed7953\"],[0.7777777777777778,\"#fb9f3a\"],[0.8888888888888888,\"#fdca26\"],[1.0,\"#f0f921\"]]}],\"choropleth\":[{\"type\":\"choropleth\",\"colorbar\":{\"outlinewidth\":0,\"ticks\":\"\"}}],\"histogram2d\":[{\"type\":\"histogram2d\",\"colorbar\":{\"outlinewidth\":0,\"ticks\":\"\"},\"colorscale\":[[0.0,\"#0d0887\"],[0.1111111111111111,\"#46039f\"],[0.2222222222222222,\"#7201a8\"],[0.3333333333333333,\"#9c179e\"],[0.4444444444444444,\"#bd3786\"],[0.5555555555555556,\"#d8576b\"],[0.6666666666666666,\"#ed7953\"],[0.7777777777777778,\"#fb9f3a\"],[0.8888888888888888,\"#fdca26\"],[1.0,\"#f0f921\"]]}],\"heatmap\":[{\"type\":\"heatmap\",\"colorbar\":{\"outlinewidth\":0,\"ticks\":\"\"},\"colorscale\":[[0.0,\"#0d0887\"],[0.1111111111111111,\"#46039f\"],[0.2222222222222222,\"#7201a8\"],[0.3333333333333333,\"#9c179e\"],[0.4444444444444444,\"#bd3786\"],[0.5555555555555556,\"#d8576b\"],[0.6666666666666666,\"#ed7953\"],[0.7777777777777778,\"#fb9f3a\"],[0.8888888888888888,\"#fdca26\"],[1.0,\"#f0f921\"]]}],\"heatmapgl\":[{\"type\":\"heatmapgl\",\"colorbar\":{\"outlinewidth\":0,\"ticks\":\"\"},\"colorscale\":[[0.0,\"#0d0887\"],[0.1111111111111111,\"#46039f\"],[0.2222222222222222,\"#7201a8\"],[0.3333333333333333,\"#9c179e\"],[0.4444444444444444,\"#bd3786\"],[0.5555555555555556,\"#d8576b\"],[0.6666666666666666,\"#ed7953\"],[0.7777777777777778,\"#fb9f3a\"],[0.8888888888888888,\"#fdca26\"],[1.0,\"#f0f921\"]]}],\"contourcarpet\":[{\"type\":\"contourcarpet\",\"colorbar\":{\"outlinewidth\":0,\"ticks\":\"\"}}],\"contour\":[{\"type\":\"contour\",\"colorbar\":{\"outlinewidth\":0,\"ticks\":\"\"},\"colorscale\":[[0.0,\"#0d0887\"],[0.1111111111111111,\"#46039f\"],[0.2222222222222222,\"#7201a8\"],[0.3333333333333333,\"#9c179e\"],[0.4444444444444444,\"#bd3786\"],[0.5555555555555556,\"#d8576b\"],[0.6666666666666666,\"#ed7953\"],[0.7777777777777778,\"#fb9f3a\"],[0.8888888888888888,\"#fdca26\"],[1.0,\"#f0f921\"]]}],\"surface\":[{\"type\":\"surface\",\"colorbar\":{\"outlinewidth\":0,\"ticks\":\"\"},\"colorscale\":[[0.0,\"#0d0887\"],[0.1111111111111111,\"#46039f\"],[0.2222222222222222,\"#7201a8\"],[0.3333333333333333,\"#9c179e\"],[0.4444444444444444,\"#bd3786\"],[0.5555555555555556,\"#d8576b\"],[0.6666666666666666,\"#ed7953\"],[0.7777777777777778,\"#fb9f3a\"],[0.8888888888888888,\"#fdca26\"],[1.0,\"#f0f921\"]]}],\"mesh3d\":[{\"type\":\"mesh3d\",\"colorbar\":{\"outlinewidth\":0,\"ticks\":\"\"}}],\"scatter\":[{\"fillpattern\":{\"fillmode\":\"overlay\",\"size\":10,\"solidity\":0.2},\"type\":\"scatter\"}],\"parcoords\":[{\"type\":\"parcoords\",\"line\":{\"colorbar\":{\"outlinewidth\":0,\"ticks\":\"\"}}}],\"scatterpolargl\":[{\"type\":\"scatterpolargl\",\"marker\":{\"colorbar\":{\"outlinewidth\":0,\"ticks\":\"\"}}}],\"bar\":[{\"error_x\":{\"color\":\"#2a3f5f\"},\"error_y\":{\"color\":\"#2a3f5f\"},\"marker\":{\"line\":{\"color\":\"#E5ECF6\",\"width\":0.5},\"pattern\":{\"fillmode\":\"overlay\",\"size\":10,\"solidity\":0.2}},\"type\":\"bar\"}],\"scattergeo\":[{\"type\":\"scattergeo\",\"marker\":{\"colorbar\":{\"outlinewidth\":0,\"ticks\":\"\"}}}],\"scatterpolar\":[{\"type\":\"scatterpolar\",\"marker\":{\"colorbar\":{\"outlinewidth\":0,\"ticks\":\"\"}}}],\"histogram\":[{\"marker\":{\"pattern\":{\"fillmode\":\"overlay\",\"size\":10,\"solidity\":0.2}},\"type\":\"histogram\"}],\"scattergl\":[{\"type\":\"scattergl\",\"marker\":{\"colorbar\":{\"outlinewidth\":0,\"ticks\":\"\"}}}],\"scatter3d\":[{\"type\":\"scatter3d\",\"line\":{\"colorbar\":{\"outlinewidth\":0,\"ticks\":\"\"}},\"marker\":{\"colorbar\":{\"outlinewidth\":0,\"ticks\":\"\"}}}],\"scattermapbox\":[{\"type\":\"scattermapbox\",\"marker\":{\"colorbar\":{\"outlinewidth\":0,\"ticks\":\"\"}}}],\"scatterternary\":[{\"type\":\"scatterternary\",\"marker\":{\"colorbar\":{\"outlinewidth\":0,\"ticks\":\"\"}}}],\"scattercarpet\":[{\"type\":\"scattercarpet\",\"marker\":{\"colorbar\":{\"outlinewidth\":0,\"ticks\":\"\"}}}],\"carpet\":[{\"aaxis\":{\"endlinecolor\":\"#2a3f5f\",\"gridcolor\":\"white\",\"linecolor\":\"white\",\"minorgridcolor\":\"white\",\"startlinecolor\":\"#2a3f5f\"},\"baxis\":{\"endlinecolor\":\"#2a3f5f\",\"gridcolor\":\"white\",\"linecolor\":\"white\",\"minorgridcolor\":\"white\",\"startlinecolor\":\"#2a3f5f\"},\"type\":\"carpet\"}],\"table\":[{\"cells\":{\"fill\":{\"color\":\"#EBF0F8\"},\"line\":{\"color\":\"white\"}},\"header\":{\"fill\":{\"color\":\"#C8D4E3\"},\"line\":{\"color\":\"white\"}},\"type\":\"table\"}],\"barpolar\":[{\"marker\":{\"line\":{\"color\":\"#E5ECF6\",\"width\":0.5},\"pattern\":{\"fillmode\":\"overlay\",\"size\":10,\"solidity\":0.2}},\"type\":\"barpolar\"}],\"pie\":[{\"automargin\":true,\"type\":\"pie\"}]},\"layout\":{\"autotypenumbers\":\"strict\",\"colorway\":[\"#636efa\",\"#EF553B\",\"#00cc96\",\"#ab63fa\",\"#FFA15A\",\"#19d3f3\",\"#FF6692\",\"#B6E880\",\"#FF97FF\",\"#FECB52\"],\"font\":{\"color\":\"#2a3f5f\"},\"hovermode\":\"closest\",\"hoverlabel\":{\"align\":\"left\"},\"paper_bgcolor\":\"white\",\"plot_bgcolor\":\"#E5ECF6\",\"polar\":{\"bgcolor\":\"#E5ECF6\",\"angularaxis\":{\"gridcolor\":\"white\",\"linecolor\":\"white\",\"ticks\":\"\"},\"radialaxis\":{\"gridcolor\":\"white\",\"linecolor\":\"white\",\"ticks\":\"\"}},\"ternary\":{\"bgcolor\":\"#E5ECF6\",\"aaxis\":{\"gridcolor\":\"white\",\"linecolor\":\"white\",\"ticks\":\"\"},\"baxis\":{\"gridcolor\":\"white\",\"linecolor\":\"white\",\"ticks\":\"\"},\"caxis\":{\"gridcolor\":\"white\",\"linecolor\":\"white\",\"ticks\":\"\"}},\"coloraxis\":{\"colorbar\":{\"outlinewidth\":0,\"ticks\":\"\"}},\"colorscale\":{\"sequential\":[[0.0,\"#0d0887\"],[0.1111111111111111,\"#46039f\"],[0.2222222222222222,\"#7201a8\"],[0.3333333333333333,\"#9c179e\"],[0.4444444444444444,\"#bd3786\"],[0.5555555555555556,\"#d8576b\"],[0.6666666666666666,\"#ed7953\"],[0.7777777777777778,\"#fb9f3a\"],[0.8888888888888888,\"#fdca26\"],[1.0,\"#f0f921\"]],\"sequentialminus\":[[0.0,\"#0d0887\"],[0.1111111111111111,\"#46039f\"],[0.2222222222222222,\"#7201a8\"],[0.3333333333333333,\"#9c179e\"],[0.4444444444444444,\"#bd3786\"],[0.5555555555555556,\"#d8576b\"],[0.6666666666666666,\"#ed7953\"],[0.7777777777777778,\"#fb9f3a\"],[0.8888888888888888,\"#fdca26\"],[1.0,\"#f0f921\"]],\"diverging\":[[0,\"#8e0152\"],[0.1,\"#c51b7d\"],[0.2,\"#de77ae\"],[0.3,\"#f1b6da\"],[0.4,\"#fde0ef\"],[0.5,\"#f7f7f7\"],[0.6,\"#e6f5d0\"],[0.7,\"#b8e186\"],[0.8,\"#7fbc41\"],[0.9,\"#4d9221\"],[1,\"#276419\"]]},\"xaxis\":{\"gridcolor\":\"white\",\"linecolor\":\"white\",\"ticks\":\"\",\"title\":{\"standoff\":15},\"zerolinecolor\":\"white\",\"automargin\":true,\"zerolinewidth\":2},\"yaxis\":{\"gridcolor\":\"white\",\"linecolor\":\"white\",\"ticks\":\"\",\"title\":{\"standoff\":15},\"zerolinecolor\":\"white\",\"automargin\":true,\"zerolinewidth\":2},\"scene\":{\"xaxis\":{\"backgroundcolor\":\"#E5ECF6\",\"gridcolor\":\"white\",\"linecolor\":\"white\",\"showbackground\":true,\"ticks\":\"\",\"zerolinecolor\":\"white\",\"gridwidth\":2},\"yaxis\":{\"backgroundcolor\":\"#E5ECF6\",\"gridcolor\":\"white\",\"linecolor\":\"white\",\"showbackground\":true,\"ticks\":\"\",\"zerolinecolor\":\"white\",\"gridwidth\":2},\"zaxis\":{\"backgroundcolor\":\"#E5ECF6\",\"gridcolor\":\"white\",\"linecolor\":\"white\",\"showbackground\":true,\"ticks\":\"\",\"zerolinecolor\":\"white\",\"gridwidth\":2}},\"shapedefaults\":{\"line\":{\"color\":\"#2a3f5f\"}},\"annotationdefaults\":{\"arrowcolor\":\"#2a3f5f\",\"arrowhead\":0,\"arrowwidth\":1},\"geo\":{\"bgcolor\":\"white\",\"landcolor\":\"#E5ECF6\",\"subunitcolor\":\"white\",\"showland\":true,\"showlakes\":true,\"lakecolor\":\"white\"},\"title\":{\"x\":0.05},\"mapbox\":{\"style\":\"light\"}}}},                        {\"responsive\": true}                    ).then(function(){\n",
       "                            \n",
       "var gd = document.getElementById('b49c25d0-1c91-4184-9ad9-afc0aa33f235');\n",
       "var x = new MutationObserver(function (mutations, observer) {{\n",
       "        var display = window.getComputedStyle(gd).display;\n",
       "        if (!display || display === 'none') {{\n",
       "            console.log([gd, 'removed!']);\n",
       "            Plotly.purge(gd);\n",
       "            observer.disconnect();\n",
       "        }}\n",
       "}});\n",
       "\n",
       "// Listen for the removal of the full notebook cells\n",
       "var notebookContainer = gd.closest('#notebook-container');\n",
       "if (notebookContainer) {{\n",
       "    x.observe(notebookContainer, {childList: true});\n",
       "}}\n",
       "\n",
       "// Listen for the clearing of the current output cell\n",
       "var outputEl = gd.closest('.output');\n",
       "if (outputEl) {{\n",
       "    x.observe(outputEl, {childList: true});\n",
       "}}\n",
       "\n",
       "                        })                };                });            </script>        </div>"
      ]
     },
     "metadata": {},
     "output_type": "display_data"
    }
   ],
   "source": [
    "fig = go.Figure()\n",
    "fig.add_trace(go.Heatmap(z = D_plus[110, :, :]))"
   ]
  },
  {
   "cell_type": "code",
   "execution_count": 58,
   "id": "617334a4",
   "metadata": {},
   "outputs": [
    {
     "data": {
      "application/vnd.plotly.v1+json": {
       "config": {
        "plotlyServerURL": "https://plot.ly"
       },
       "data": [
        {
         "type": "heatmap",
         "z": [
          [
           0.16115108132362366,
           0.12713904678821564,
           0.004601763095706701,
           0.062242839485406876,
           0.3182802200317383,
           0,
           0.15426936745643616
          ],
          [
           0.2757070064544678,
           0.2175171822309494,
           0.007872975431382656,
           0.10648881644010544,
           0.5445331335067749,
           0,
           0.263933390378952
          ],
          [
           0.02856503054499626,
           0.02253619022667408,
           0.0008156911353580654,
           0.01103292964398861,
           0.05641715228557587,
           0,
           0.02734520472586155
          ],
          [
           0.024192940443754196,
           0.01908685453236103,
           0.0006908435025252402,
           0.009344258345663548,
           0.047782085835933685,
           0,
           0.02315981686115265
          ],
          [
           0.13140667974948883,
           0.10367242246866226,
           0.0037523950450122356,
           0.05075439438223839,
           0.2595338225364685,
           0,
           0.1257951855659485
          ],
          [
           0.2552028000354767,
           0.20134054124355316,
           0.007287465501576662,
           0.09856928139925003,
           0.5040364265441895,
           0,
           0.24430477619171143
          ],
          [
           0.02544991672039032,
           0.020078539848327637,
           0.0007267372566275299,
           0.009829751215875149,
           0.05026467144489288,
           0,
           0.024363119155168533
          ],
          [
           0.028859324753284454,
           0.02276836894452572,
           0.0008240948081947863,
           0.011146596632897854,
           0.05699839070439339,
           0,
           0.02762693166732788
          ],
          [
           0.025207724422216415,
           0.019887464120984077,
           0.0007198213133960962,
           0.009736207313835621,
           0.04978632926940918,
           0,
           0.02413126826286316
          ],
          [
           0.1642572283744812,
           0.12958963215351105,
           0.0046904608607292175,
           0.06344255059957504,
           0.324414998292923,
           0,
           0.15724289417266846
          ],
          [
           0.06511661410331726,
           0.05137331411242485,
           0.0018594429129734635,
           0.02515058033168316,
           0.1286080926656723,
           0,
           0.06233591586351395
          ],
          [
           0.02922261506319046,
           0.02305498532950878,
           0.00083446892676875,
           0.01128691527992487,
           0.05771590769290924,
           0,
           0.02797471173107624
          ],
          [
           0.02864564023911953,
           0.022599784657359123,
           0.0008179930155165493,
           0.01106406468898058,
           0.056576356291770935,
           0,
           0.02742237225174904
          ],
          [
           0.15906904637813568,
           0.12549644708633423,
           0.004542309325188398,
           0.0614386722445488,
           0.31416812539100647,
           0,
           0.15227624773979187
          ],
          [
           0.024722734466195107,
           0.019504833966493607,
           0.0007059721392579377,
           0.009548884816467762,
           0.048828452825546265,
           0,
           0.02366698905825615
          ],
          [
           0.028968865051865578,
           0.022854790091514587,
           0.0008272228296846151,
           0.01118890754878521,
           0.05721474438905716,
           0,
           0.027731794863939285
          ],
          [
           0.11925099790096283,
           0.09408226609230042,
           0.0034052818082273006,
           0.04605938866734505,
           0.23552580177783966,
           0,
           0.11415857821702957
          ],
          [
           0.2923552691936493,
           0.23065167665481567,
           0.00834837555885315,
           0.11291900277137756,
           0.5774140357971191,
           0,
           0.2798706591129303
          ],
          [
           0.02608601376414299,
           0.020580384880304337,
           0.0007449014228768647,
           0.01007543783634901,
           0.05152099207043648,
           0,
           0.02497205138206482
          ],
          [
           0.02757202833890915,
           0.021752767264842987,
           0.0007873353897593915,
           0.010649394243955612,
           0.05445593222975731,
           0,
           0.02639460749924183
          ],
          [
           0.06941860914230347,
           0.054767340421676636,
           0.0019822889007627964,
           0.026812177151441574,
           0.13710470497608185,
           0,
           0.0664542019367218
          ],
          [
           0.028702614828944206,
           0.022644732147455215,
           0.0008196199778467417,
           0.011086069978773594,
           0.056688886135816574,
           0,
           0.02747691422700882
          ],
          [
           0.022810157388448715,
           0.017995918169617653,
           0.000651357346214354,
           0.008810172788798809,
           0.045051030814647675,
           0,
           0.021836087107658386
          ],
          [
           0.2551290988922119,
           0.20128236711025238,
           0.0072853597812354565,
           0.09854080528020859,
           0.5038908123970032,
           0,
           0.24423418939113617
          ],
          [
           0.02583012543618679,
           0.02037850394845009,
           0.0007375943823717535,
           0.009976603090763092,
           0.051015593111515045,
           0,
           0.024727091193199158
          ],
          [
           0.028637388721108437,
           0.022593272849917412,
           0.0008177573326975107,
           0.01106087677180767,
           0.05656006187200546,
           0,
           0.02741447277367115
          ],
          [
           0.3948245644569397,
           0.3114941716194153,
           0.011274445801973343,
           0.15249666571617126,
           0.7797953486442566,
           0,
           0.37796422839164734
          ],
          [
           0.026756461709737778,
           0.021109329536557198,
           0.0007640464464202523,
           0.010334390215575695,
           0.05284515395760536,
           0,
           0.025613868609070778
          ],
          [
           0.17862042784690857,
           0.14092139899730682,
           0.0051006111316382885,
           0.06899018585681915,
           0.3527829945087433,
           0,
           0.17099274694919586
          ],
          [
           0.19808608293533325,
           0.15627868473529816,
           0.0056564644910395145,
           0.07650858163833618,
           0.39122846722602844,
           0,
           0.18962714076042175
          ],
          [
           0.027141887694597244,
           0.02141341008245945,
           0.0007750525255687535,
           0.010483257472515106,
           0.053606387227773666,
           0,
           0.02598283812403679
          ],
          [
           0.4466741383075714,
           0.352400541305542,
           0.012755041010677814,
           0.17252299189567566,
           0.8822004795074463,
           0,
           0.42759963870048523
          ],
          [
           0.049835436046123505,
           0.039317332208156586,
           0.0014230799861252308,
           0.019248390570282936,
           0.09842710942029953,
           0,
           0.047707296907901764
          ],
          [
           0.23353132605552673,
           0.18424297869205475,
           0.006668624002486467,
           0.09019891917705536,
           0.46123433113098145,
           0,
           0.22355876863002777
          ],
          [
           0.14520709216594696,
           0.11456014961004257,
           0.00414647301658988,
           0.05608464777469635,
           0.2867901623249054,
           0,
           0.13900625705718994
          ],
          [
           0.024173596873879433,
           0.01907159574329853,
           0.0006902911700308323,
           0.009336787275969982,
           0.04774388298392296,
           0,
           0.023141302168369293
          ],
          [
           0.16383357346057892,
           0.12925538420677185,
           0.00467836344614625,
           0.0632789209485054,
           0.32357826828956604,
           0,
           0.15683729946613312
          ],
          [
           0.021806133911013603,
           0.0172038022428751,
           0.000622686930000782,
           0.00842237938195467,
           0.043068043887615204,
           0,
           0.020874937996268272
          ],
          [
           0.24402286112308502,
           0.19252018630504608,
           0.006968215573579073,
           0.09425115585327148,
           0.48195552825927734,
           0,
           0.23360224068164825
          ],
          [
           0.24103191494941711,
           0.19016051292419434,
           0.006882807705551386,
           0.09309594333171844,
           0.4760482907295227,
           0,
           0.2307390421628952
          ],
          [
           0.027530688792467117,
           0.021720152348279953,
           0.0007861549966037273,
           0.010633427649736404,
           0.05437428504228592,
           0,
           0.026355037465691566
          ],
          [
           0.2226414978504181,
           0.17565150558948517,
           0.006357658188790083,
           0.08599283546209335,
           0.43972647190093994,
           0,
           0.21313394606113434
          ],
          [
           0.1777295172214508,
           0.14021851122379303,
           0.0050751701928675175,
           0.06864608079195023,
           0.3510233759880066,
           0,
           0.1701398640871048
          ],
          [
           0.23926125466823578,
           0.1887635588645935,
           0.00683224480599165,
           0.09241203963756561,
           0.472551167011261,
           0,
           0.22904399037361145
          ],
          [
           0.02652129717171192,
           0.02092379704117775,
           0.0007573310867883265,
           0.010243560187518597,
           0.05238068848848343,
           0,
           0.025388747453689575
          ],
          [
           0.15744592249393463,
           0.12421588599681854,
           0.00449596019461751,
           0.060811758041381836,
           0.31096237897872925,
           0,
           0.1507224440574646
          ],
          [
           0.024658601731061935,
           0.019454235211014748,
           0.0007041407516226172,
           0.009524114429950714,
           0.04870178550481796,
           0,
           0.023605594411492348
          ],
          [
           0.19136980175971985,
           0.1509799063205719,
           0.0054646763019263744,
           0.07391449064016342,
           0.37796351313591003,
           0,
           0.18319766223430634
          ],
          [
           0.036106958985328674,
           0.02848634496331215,
           0.00103105534799397,
           0.01394591759890318,
           0.0713127851486206,
           0,
           0.034565068781375885
          ],
          [
           0.028005382046103477,
           0.02209465764462948,
           0.0007997101056389511,
           0.01081677246838808,
           0.05531182140111923,
           0,
           0.026809459552168846
          ],
          [
           0.24603760242462158,
           0.1941096931695938,
           0.0070257470943033695,
           0.0950293242931366,
           0.4859347343444824,
           0,
           0.23553097248077393
          ],
          [
           0.026726722717285156,
           0.021085867658257484,
           0.0007631971966475248,
           0.010322903282940388,
           0.052786413580179214,
           0,
           0.02558540180325508
          ],
          [
           0.2087901383638382,
           0.16472357511520386,
           0.005962124560028315,
           0.08064290136098862,
           0.41236940026283264,
           0,
           0.19987408816814423
          ],
          [
           0.16067443788051605,
           0.1267630010843277,
           0.004588152747601271,
           0.062058739364147186,
           0.31733885407447815,
           0,
           0.15381309390068054
          ],
          [
           0.506318211555481,
           0.39945629239082336,
           0.01445821113884449,
           0.19555982947349548,
           1,
           0,
           0.4846966564655304
          ],
          [
           0.026409391313791275,
           0.0208355113863945,
           0.000754135602619499,
           0.010200337506830692,
           0.05215967074036598,
           0,
           0.025281619280576706
          ],
          [
           0.1727941632270813,
           0.13632477819919586,
           0.00493423780426383,
           0.06673984229564667,
           0.34127581119537354,
           0,
           0.16541525721549988
          ],
          [
           0.02729105018079281,
           0.021531090140342712,
           0.0007793118711560965,
           0.01054086908698082,
           0.053900983184576035,
           0,
           0.026125626638531685
          ],
          [
           0.020987028256058693,
           0.01655757427215576,
           0.0005992968217469752,
           0.008106010034680367,
           0.041450273245573044,
           0,
           0.02009080909192562
          ],
          [
           0.02425004169344902,
           0.01913190633058548,
           0.0006924740737304091,
           0.009366312995553017,
           0.04789486899971962,
           0,
           0.02321448363363743
          ],
          [
           0.025509824976325035,
           0.020125802606344223,
           0.0007284479797817767,
           0.00985288992524147,
           0.05038299039006233,
           0,
           0.024420469999313354
          ],
          [
           0.0288902185857296,
           0.022792743518948555,
           0.0008249771781265736,
           0.011158530600368977,
           0.05705941468477249,
           0,
           0.02765651047229767
          ],
          [
           0.0268411748111248,
           0.021176163107156754,
           0.0007664654986001551,
           0.01036711037158966,
           0.05301246419548988,
           0,
           0.025694968178868294
          ],
          [
           0.025207266211509705,
           0.019887100905179977,
           0.0007198081584647298,
           0.009736030362546444,
           0.04978542402386665,
           0,
           0.02413082867860794
          ],
          [
           0.02674814499914646,
           0.021102769300341606,
           0.0007638089591637254,
           0.010331179015338421,
           0.05282872915267944,
           0,
           0.025605909526348114
          ],
          [
           0.023756936192512512,
           0.018742874264717102,
           0.0006783932913094759,
           0.009175856597721577,
           0.04692096635699272,
           0,
           0.022742435336112976
          ],
          [
           0.021855104714632034,
           0.017242437228560448,
           0.0006240853690542281,
           0.00844129454344511,
           0.04316476359963417,
           0,
           0.020921817049384117
          ],
          [
           0.025017110630869865,
           0.019737081602215767,
           0.0007143783150240779,
           0.009662585332989693,
           0.04940986633300781,
           0,
           0.023948797956109047
          ],
          [
           0.02848992310464382,
           0.022476932033896446,
           0.0008135463576763868,
           0.011003920808434486,
           0.05626881122589111,
           0,
           0.027273306623101234
          ],
          [
           0.027159197255969048,
           0.02142706699669361,
           0.0007755467668175697,
           0.010489942505955696,
           0.05364057049155235,
           0,
           0.02599940448999405
          ],
          [
           0.024232063442468643,
           0.019117720425128937,
           0.0006919606821611524,
           0.009359368123114109,
           0.047859352082014084,
           0,
           0.023197269067168236
          ],
          [
           0.02054569125175476,
           0.01620938628911972,
           0.0005866942810826004,
           0.007935549132525921,
           0.04057861492037773,
           0,
           0.019668322056531906
          ],
          [
           0.02713269554078579,
           0.021406156942248344,
           0.0007747898926027119,
           0.010479705408215523,
           0.053588222712278366,
           0,
           0.025974037125706673
          ],
          [
           0.022573305293917656,
           0.017809057608246803,
           0.0006445939070545137,
           0.008718691766262054,
           0.044583238661289215,
           0,
           0.02160934917628765
          ],
          [
           0.3145928978919983,
           0.24819594621658325,
           0.008983383886516094,
           0.12150804698467255,
           0.6213343143463135,
           0,
           0.30115869641304016
          ],
          [
           0.025032123550772667,
           0.019748922437429428,
           0.0007148068980313838,
           0.009668382816016674,
           0.049439504742622375,
           0,
           0.023963164538145065
          ],
          [
           0.02558862790465355,
           0.020187975838780403,
           0.0007306981715373695,
           0.009883326478302479,
           0.05053862929344177,
           0,
           0.024495907127857208
          ],
          [
           0.09950067847967148,
           0.07850038260221481,
           0.0028413000982254744,
           0.03843104839324951,
           0.19651809334754944,
           0,
           0.09525166451931
          ],
          [
           0.025595564395189285,
           0.020193448290228844,
           0.0007308963104151189,
           0.009886005893349648,
           0.050552330911159515,
           0,
           0.024502543732523918
          ],
          [
           0.028417719528079033,
           0.022419968619942665,
           0.0008114845841191709,
           0.010976032353937626,
           0.05612620338797569,
           0,
           0.027204185724258423
          ],
          [
           0.024885158985853195,
           0.01963297836482525,
           0.0007106103003025055,
           0.009611619636416435,
           0.049149248749017715,
           0,
           0.023822477087378502
          ],
          [
           0.023586466908454895,
           0.01860838383436203,
           0.0006735253846272826,
           0.009110013954341412,
           0.04658428207039833,
           0,
           0.022579245269298553
          ],
          [
           0.025655308738350868,
           0.020240584388375282,
           0.0007326023769564927,
           0.00990908220410347,
           0.050670325756073,
           0,
           0.024559739977121353
          ],
          [
           0.22149497270584106,
           0.17474696040153503,
           0.006324918009340763,
           0.08555001020431519,
           0.4374619722366333,
           0,
           0.2120363861322403
          ],
          [
           0.02852456271648407,
           0.022504258900880814,
           0.0008145354804582894,
           0.011017299257218838,
           0.05633722245693207,
           0,
           0.027306463569402695
          ],
          [
           0.22861796617507935,
           0.1803666055202484,
           0.006528319325298071,
           0.08830118179321289,
           0.45153024792671204,
           0,
           0.21885520219802856
          ],
          [
           0.02433891035616398,
           0.019202018156647682,
           0.0006950118113309145,
           0.009400637820363045,
           0.048070382326841354,
           0,
           0.023299556225538254
          ],
          [
           0.14385704696178436,
           0.11349504441022873,
           0.004107921849936247,
           0.055563200265169144,
           0.2841237783432007,
           0,
           0.13771384954452515
          ],
          [
           0.02626415528357029,
           0.02072092890739441,
           0.0007499882485717535,
           0.010144242085516453,
           0.05187282711267471,
           0,
           0.02514258772134781
          ],
          [
           0.02132309414446354,
           0.016822712495923042,
           0.0006088934605941176,
           0.00823581125587225,
           0.0421140193939209,
           0,
           0.02041252702474594
          ],
          [
           0.18089605867862701,
           0.14271673560142517,
           0.005165592767298222,
           0.06986912339925766,
           0.35727745294570923,
           0,
           0.17317119240760803
          ],
          [
           0.025947872549295425,
           0.020471397787332535,
           0.0007409566314890981,
           0.010022081434726715,
           0.05124815180897713,
           0,
           0.02483980916440487
          ],
          [
           0.21119166910648346,
           0.1666182428598404,
           0.006030701566487551,
           0.08157046139240265,
           0.4171125590801239,
           0,
           0.20217306911945343
          ],
          [
           0.025245124474167824,
           0.019916968420147896,
           0.0007208892493508756,
           0.009750652126967907,
           0.04986019432544708,
           0,
           0.024167070165276527
          ],
          [
           0.11441943049430847,
           0.09027043730020523,
           0.0032673138193786144,
           0.04419325664639473,
           0.22598327696323395,
           0,
           0.10953333973884583
          ],
          [
           0.13670817017555237,
           0.10785497725009918,
           0.0039037815295159817,
           0.05280202999711037,
           0.2700044512748718,
           0,
           0.1308702528476715
          ],
          [
           0.02416689693927765,
           0.019066309556365013,
           0.0006900998996570706,
           0.009334199130535126,
           0.04773065447807312,
           0,
           0.023134887218475342
          ],
          [
           0.02534073404967785,
           0.019992398098111153,
           0.0007236194214783609,
           0.00978758092969656,
           0.05004902556538582,
           0,
           0.024258596822619438
          ],
          [
           0.027254940941929817,
           0.021502602845430374,
           0.0007782808388583362,
           0.010526923462748528,
           0.05382967367768288,
           0,
           0.026091065257787704
          ],
          [
           0.04127713665366173,
           0.032565318048000336,
           0.0011786926770582795,
           0.01594284176826477,
           0.08152411133050919,
           0,
           0.039514463394880295
          ],
          [
           0.024958916008472443,
           0.019691167399287224,
           0.0007127164280973375,
           0.009640107862651348,
           0.04929492250084877,
           0,
           0.0238930843770504
          ],
          [
           0.02843465469777584,
           0.0224333293735981,
           0.00081196817336604,
           0.01098257303237915,
           0.05615965276956558,
           0,
           0.02722039632499218
          ],
          [
           0.02484157308936119,
           0.019598590210080147,
           0.0007093655876815319,
           0.009594784118235111,
           0.04906316474080086,
           0,
           0.02378075197339058
          ],
          [
           0.027576979249715805,
           0.021756669506430626,
           0.0007874767179600894,
           0.010651305317878723,
           0.05446570739150047,
           0,
           0.026399346068501472
          ],
          [
           0.02382194809615612,
           0.018794164061546326,
           0.0006802496500313282,
           0.009200965985655785,
           0.04704936221241951,
           0,
           0.02280467003583908
          ],
          [
           0.34752464294433594,
           0.274177223443985,
           0.00992377009242773,
           0.13422758877277374,
           0.6863760352134705,
           0,
           0.332684189081192
          ],
          [
           0.0243553277105093,
           0.019214970991015434,
           0.0006954806740395725,
           0.009406978264451027,
           0.04810280725359917,
           0,
           0.023315273225307465
          ],
          [
           0.02189786359667778,
           0.01727617159485817,
           0.000625306274741888,
           0.008457809686660767,
           0.043249212205410004,
           0,
           0.020962748676538467
          ],
          [
           0.025589769706130028,
           0.02018887735903263,
           0.0007307308260351419,
           0.009883768856525421,
           0.05054089054465294,
           0,
           0.024496998637914658
          ],
          [
           0.029007907956838608,
           0.02288559451699257,
           0.0008283378556370735,
           0.011203987523913383,
           0.05729185417294502,
           0,
           0.027769174426794052
          ],
          [
           0.023823417723178864,
           0.018795324489474297,
           0.0006802915595471859,
           0.0092015340924263,
           0.04705226793885231,
           0,
           0.0228060744702816
          ],
          [
           0.15407916903495789,
           0.12155971676111221,
           0.004399820696562529,
           0.05951138958334923,
           0.30431291460990906,
           0,
           0.1474994570016861
          ],
          [
           0.1868850439786911,
           0.14744168519973755,
           0.005336611066013575,
           0.072182297706604,
           0.36910590529441833,
           0,
           0.17890439927577972
          ],
          [
           0.02394016645848751,
           0.018887434154748917,
           0.0006836254615336657,
           0.009246626868844032,
           0.04728284850716591,
           0,
           0.022917838767170906
          ],
          [
           0.25485551357269287,
           0.20106655359268188,
           0.007277547847479582,
           0.09843515604734421,
           0.5033504962921143,
           0,
           0.2439723163843155
          ],
          [
           0.11388269066810608,
           0.08984698355197906,
           0.003251986810937524,
           0.043985940515995026,
           0.22492316365242004,
           0,
           0.10901951789855957
          ],
          [
           0.024612609297037125,
           0.01941795088350773,
           0.0007028274121694267,
           0.009506350383162498,
           0.04861094802618027,
           0,
           0.023561565205454826
          ],
          [
           0.27973443269729614,
           0.22069460153579712,
           0.007987980730831623,
           0.10804436355829239,
           0.5524874329566956,
           0,
           0.267788827419281
          ],
          [
           0.07674422115087509,
           0.06054683402180672,
           0.0021914762910455465,
           0.029641617089509964,
           0.15157310664653778,
           0,
           0.07346698641777039
          ],
          [
           0.28770944476127625,
           0.22698640823364258,
           0.008215710520744324,
           0.11112461984157562,
           0.568238377571106,
           0,
           0.2754232585430145
          ],
          [
           0.09186097979545593,
           0.07247310131788254,
           0.002623144304379821,
           0.03548029810190201,
           0.18142935633659363,
           0,
           0.08793821185827255
          ],
          [
           0.13619467616081238,
           0.10744986683130264,
           0.0038891187869012356,
           0.05260369926691055,
           0.26899030804634094,
           0,
           0.13037869334220886
          ],
          [
           0.024719929322600365,
           0.01950262300670147,
           0.0007058920455165207,
           0.009547801688313484,
           0.04882291704416275,
           0,
           0.023664303123950958
          ],
          [
           0.024194782599806786,
           0.01908831112086773,
           0.0006908961804583669,
           0.009344969876110554,
           0.04778572544455528,
           0,
           0.02316158451139927
          ],
          [
           0.029202204197645187,
           0.02303888276219368,
           0.0008338859770447016,
           0.01127903163433075,
           0.05767560005187988,
           0,
           0.02795517072081566
          ],
          [
           0.13722382485866547,
           0.10826180130243301,
           0.003918506670743227,
           0.053001195192337036,
           0.27102288603782654,
           0,
           0.1313638985157013
          ],
          [
           0.026598818600177765,
           0.020984956994652748,
           0.0007595447823405266,
           0.010273502208292484,
           0.052533797919750214,
           0,
           0.025462958961725235
          ],
          [
           0.13081306219100952,
           0.10320408642292023,
           0.0037354431115090847,
           0.050525110214948654,
           0.2583613693714142,
           0,
           0.12522689998149872
          ]
         ]
        }
       ],
       "layout": {
        "template": {
         "data": {
          "bar": [
           {
            "error_x": {
             "color": "#2a3f5f"
            },
            "error_y": {
             "color": "#2a3f5f"
            },
            "marker": {
             "line": {
              "color": "#E5ECF6",
              "width": 0.5
             },
             "pattern": {
              "fillmode": "overlay",
              "size": 10,
              "solidity": 0.2
             }
            },
            "type": "bar"
           }
          ],
          "barpolar": [
           {
            "marker": {
             "line": {
              "color": "#E5ECF6",
              "width": 0.5
             },
             "pattern": {
              "fillmode": "overlay",
              "size": 10,
              "solidity": 0.2
             }
            },
            "type": "barpolar"
           }
          ],
          "carpet": [
           {
            "aaxis": {
             "endlinecolor": "#2a3f5f",
             "gridcolor": "white",
             "linecolor": "white",
             "minorgridcolor": "white",
             "startlinecolor": "#2a3f5f"
            },
            "baxis": {
             "endlinecolor": "#2a3f5f",
             "gridcolor": "white",
             "linecolor": "white",
             "minorgridcolor": "white",
             "startlinecolor": "#2a3f5f"
            },
            "type": "carpet"
           }
          ],
          "choropleth": [
           {
            "colorbar": {
             "outlinewidth": 0,
             "ticks": ""
            },
            "type": "choropleth"
           }
          ],
          "contour": [
           {
            "colorbar": {
             "outlinewidth": 0,
             "ticks": ""
            },
            "colorscale": [
             [
              0,
              "#0d0887"
             ],
             [
              0.1111111111111111,
              "#46039f"
             ],
             [
              0.2222222222222222,
              "#7201a8"
             ],
             [
              0.3333333333333333,
              "#9c179e"
             ],
             [
              0.4444444444444444,
              "#bd3786"
             ],
             [
              0.5555555555555556,
              "#d8576b"
             ],
             [
              0.6666666666666666,
              "#ed7953"
             ],
             [
              0.7777777777777778,
              "#fb9f3a"
             ],
             [
              0.8888888888888888,
              "#fdca26"
             ],
             [
              1,
              "#f0f921"
             ]
            ],
            "type": "contour"
           }
          ],
          "contourcarpet": [
           {
            "colorbar": {
             "outlinewidth": 0,
             "ticks": ""
            },
            "type": "contourcarpet"
           }
          ],
          "heatmap": [
           {
            "colorbar": {
             "outlinewidth": 0,
             "ticks": ""
            },
            "colorscale": [
             [
              0,
              "#0d0887"
             ],
             [
              0.1111111111111111,
              "#46039f"
             ],
             [
              0.2222222222222222,
              "#7201a8"
             ],
             [
              0.3333333333333333,
              "#9c179e"
             ],
             [
              0.4444444444444444,
              "#bd3786"
             ],
             [
              0.5555555555555556,
              "#d8576b"
             ],
             [
              0.6666666666666666,
              "#ed7953"
             ],
             [
              0.7777777777777778,
              "#fb9f3a"
             ],
             [
              0.8888888888888888,
              "#fdca26"
             ],
             [
              1,
              "#f0f921"
             ]
            ],
            "type": "heatmap"
           }
          ],
          "heatmapgl": [
           {
            "colorbar": {
             "outlinewidth": 0,
             "ticks": ""
            },
            "colorscale": [
             [
              0,
              "#0d0887"
             ],
             [
              0.1111111111111111,
              "#46039f"
             ],
             [
              0.2222222222222222,
              "#7201a8"
             ],
             [
              0.3333333333333333,
              "#9c179e"
             ],
             [
              0.4444444444444444,
              "#bd3786"
             ],
             [
              0.5555555555555556,
              "#d8576b"
             ],
             [
              0.6666666666666666,
              "#ed7953"
             ],
             [
              0.7777777777777778,
              "#fb9f3a"
             ],
             [
              0.8888888888888888,
              "#fdca26"
             ],
             [
              1,
              "#f0f921"
             ]
            ],
            "type": "heatmapgl"
           }
          ],
          "histogram": [
           {
            "marker": {
             "pattern": {
              "fillmode": "overlay",
              "size": 10,
              "solidity": 0.2
             }
            },
            "type": "histogram"
           }
          ],
          "histogram2d": [
           {
            "colorbar": {
             "outlinewidth": 0,
             "ticks": ""
            },
            "colorscale": [
             [
              0,
              "#0d0887"
             ],
             [
              0.1111111111111111,
              "#46039f"
             ],
             [
              0.2222222222222222,
              "#7201a8"
             ],
             [
              0.3333333333333333,
              "#9c179e"
             ],
             [
              0.4444444444444444,
              "#bd3786"
             ],
             [
              0.5555555555555556,
              "#d8576b"
             ],
             [
              0.6666666666666666,
              "#ed7953"
             ],
             [
              0.7777777777777778,
              "#fb9f3a"
             ],
             [
              0.8888888888888888,
              "#fdca26"
             ],
             [
              1,
              "#f0f921"
             ]
            ],
            "type": "histogram2d"
           }
          ],
          "histogram2dcontour": [
           {
            "colorbar": {
             "outlinewidth": 0,
             "ticks": ""
            },
            "colorscale": [
             [
              0,
              "#0d0887"
             ],
             [
              0.1111111111111111,
              "#46039f"
             ],
             [
              0.2222222222222222,
              "#7201a8"
             ],
             [
              0.3333333333333333,
              "#9c179e"
             ],
             [
              0.4444444444444444,
              "#bd3786"
             ],
             [
              0.5555555555555556,
              "#d8576b"
             ],
             [
              0.6666666666666666,
              "#ed7953"
             ],
             [
              0.7777777777777778,
              "#fb9f3a"
             ],
             [
              0.8888888888888888,
              "#fdca26"
             ],
             [
              1,
              "#f0f921"
             ]
            ],
            "type": "histogram2dcontour"
           }
          ],
          "mesh3d": [
           {
            "colorbar": {
             "outlinewidth": 0,
             "ticks": ""
            },
            "type": "mesh3d"
           }
          ],
          "parcoords": [
           {
            "line": {
             "colorbar": {
              "outlinewidth": 0,
              "ticks": ""
             }
            },
            "type": "parcoords"
           }
          ],
          "pie": [
           {
            "automargin": true,
            "type": "pie"
           }
          ],
          "scatter": [
           {
            "fillpattern": {
             "fillmode": "overlay",
             "size": 10,
             "solidity": 0.2
            },
            "type": "scatter"
           }
          ],
          "scatter3d": [
           {
            "line": {
             "colorbar": {
              "outlinewidth": 0,
              "ticks": ""
             }
            },
            "marker": {
             "colorbar": {
              "outlinewidth": 0,
              "ticks": ""
             }
            },
            "type": "scatter3d"
           }
          ],
          "scattercarpet": [
           {
            "marker": {
             "colorbar": {
              "outlinewidth": 0,
              "ticks": ""
             }
            },
            "type": "scattercarpet"
           }
          ],
          "scattergeo": [
           {
            "marker": {
             "colorbar": {
              "outlinewidth": 0,
              "ticks": ""
             }
            },
            "type": "scattergeo"
           }
          ],
          "scattergl": [
           {
            "marker": {
             "colorbar": {
              "outlinewidth": 0,
              "ticks": ""
             }
            },
            "type": "scattergl"
           }
          ],
          "scattermapbox": [
           {
            "marker": {
             "colorbar": {
              "outlinewidth": 0,
              "ticks": ""
             }
            },
            "type": "scattermapbox"
           }
          ],
          "scatterpolar": [
           {
            "marker": {
             "colorbar": {
              "outlinewidth": 0,
              "ticks": ""
             }
            },
            "type": "scatterpolar"
           }
          ],
          "scatterpolargl": [
           {
            "marker": {
             "colorbar": {
              "outlinewidth": 0,
              "ticks": ""
             }
            },
            "type": "scatterpolargl"
           }
          ],
          "scatterternary": [
           {
            "marker": {
             "colorbar": {
              "outlinewidth": 0,
              "ticks": ""
             }
            },
            "type": "scatterternary"
           }
          ],
          "surface": [
           {
            "colorbar": {
             "outlinewidth": 0,
             "ticks": ""
            },
            "colorscale": [
             [
              0,
              "#0d0887"
             ],
             [
              0.1111111111111111,
              "#46039f"
             ],
             [
              0.2222222222222222,
              "#7201a8"
             ],
             [
              0.3333333333333333,
              "#9c179e"
             ],
             [
              0.4444444444444444,
              "#bd3786"
             ],
             [
              0.5555555555555556,
              "#d8576b"
             ],
             [
              0.6666666666666666,
              "#ed7953"
             ],
             [
              0.7777777777777778,
              "#fb9f3a"
             ],
             [
              0.8888888888888888,
              "#fdca26"
             ],
             [
              1,
              "#f0f921"
             ]
            ],
            "type": "surface"
           }
          ],
          "table": [
           {
            "cells": {
             "fill": {
              "color": "#EBF0F8"
             },
             "line": {
              "color": "white"
             }
            },
            "header": {
             "fill": {
              "color": "#C8D4E3"
             },
             "line": {
              "color": "white"
             }
            },
            "type": "table"
           }
          ]
         },
         "layout": {
          "annotationdefaults": {
           "arrowcolor": "#2a3f5f",
           "arrowhead": 0,
           "arrowwidth": 1
          },
          "autotypenumbers": "strict",
          "coloraxis": {
           "colorbar": {
            "outlinewidth": 0,
            "ticks": ""
           }
          },
          "colorscale": {
           "diverging": [
            [
             0,
             "#8e0152"
            ],
            [
             0.1,
             "#c51b7d"
            ],
            [
             0.2,
             "#de77ae"
            ],
            [
             0.3,
             "#f1b6da"
            ],
            [
             0.4,
             "#fde0ef"
            ],
            [
             0.5,
             "#f7f7f7"
            ],
            [
             0.6,
             "#e6f5d0"
            ],
            [
             0.7,
             "#b8e186"
            ],
            [
             0.8,
             "#7fbc41"
            ],
            [
             0.9,
             "#4d9221"
            ],
            [
             1,
             "#276419"
            ]
           ],
           "sequential": [
            [
             0,
             "#0d0887"
            ],
            [
             0.1111111111111111,
             "#46039f"
            ],
            [
             0.2222222222222222,
             "#7201a8"
            ],
            [
             0.3333333333333333,
             "#9c179e"
            ],
            [
             0.4444444444444444,
             "#bd3786"
            ],
            [
             0.5555555555555556,
             "#d8576b"
            ],
            [
             0.6666666666666666,
             "#ed7953"
            ],
            [
             0.7777777777777778,
             "#fb9f3a"
            ],
            [
             0.8888888888888888,
             "#fdca26"
            ],
            [
             1,
             "#f0f921"
            ]
           ],
           "sequentialminus": [
            [
             0,
             "#0d0887"
            ],
            [
             0.1111111111111111,
             "#46039f"
            ],
            [
             0.2222222222222222,
             "#7201a8"
            ],
            [
             0.3333333333333333,
             "#9c179e"
            ],
            [
             0.4444444444444444,
             "#bd3786"
            ],
            [
             0.5555555555555556,
             "#d8576b"
            ],
            [
             0.6666666666666666,
             "#ed7953"
            ],
            [
             0.7777777777777778,
             "#fb9f3a"
            ],
            [
             0.8888888888888888,
             "#fdca26"
            ],
            [
             1,
             "#f0f921"
            ]
           ]
          },
          "colorway": [
           "#636efa",
           "#EF553B",
           "#00cc96",
           "#ab63fa",
           "#FFA15A",
           "#19d3f3",
           "#FF6692",
           "#B6E880",
           "#FF97FF",
           "#FECB52"
          ],
          "font": {
           "color": "#2a3f5f"
          },
          "geo": {
           "bgcolor": "white",
           "lakecolor": "white",
           "landcolor": "#E5ECF6",
           "showlakes": true,
           "showland": true,
           "subunitcolor": "white"
          },
          "hoverlabel": {
           "align": "left"
          },
          "hovermode": "closest",
          "mapbox": {
           "style": "light"
          },
          "paper_bgcolor": "white",
          "plot_bgcolor": "#E5ECF6",
          "polar": {
           "angularaxis": {
            "gridcolor": "white",
            "linecolor": "white",
            "ticks": ""
           },
           "bgcolor": "#E5ECF6",
           "radialaxis": {
            "gridcolor": "white",
            "linecolor": "white",
            "ticks": ""
           }
          },
          "scene": {
           "xaxis": {
            "backgroundcolor": "#E5ECF6",
            "gridcolor": "white",
            "gridwidth": 2,
            "linecolor": "white",
            "showbackground": true,
            "ticks": "",
            "zerolinecolor": "white"
           },
           "yaxis": {
            "backgroundcolor": "#E5ECF6",
            "gridcolor": "white",
            "gridwidth": 2,
            "linecolor": "white",
            "showbackground": true,
            "ticks": "",
            "zerolinecolor": "white"
           },
           "zaxis": {
            "backgroundcolor": "#E5ECF6",
            "gridcolor": "white",
            "gridwidth": 2,
            "linecolor": "white",
            "showbackground": true,
            "ticks": "",
            "zerolinecolor": "white"
           }
          },
          "shapedefaults": {
           "line": {
            "color": "#2a3f5f"
           }
          },
          "ternary": {
           "aaxis": {
            "gridcolor": "white",
            "linecolor": "white",
            "ticks": ""
           },
           "baxis": {
            "gridcolor": "white",
            "linecolor": "white",
            "ticks": ""
           },
           "bgcolor": "#E5ECF6",
           "caxis": {
            "gridcolor": "white",
            "linecolor": "white",
            "ticks": ""
           }
          },
          "title": {
           "x": 0.05
          },
          "xaxis": {
           "automargin": true,
           "gridcolor": "white",
           "linecolor": "white",
           "ticks": "",
           "title": {
            "standoff": 15
           },
           "zerolinecolor": "white",
           "zerolinewidth": 2
          },
          "yaxis": {
           "automargin": true,
           "gridcolor": "white",
           "linecolor": "white",
           "ticks": "",
           "title": {
            "standoff": 15
           },
           "zerolinecolor": "white",
           "zerolinewidth": 2
          }
         }
        }
       }
      },
      "text/html": [
       "<div>                            <div id=\"4102f248-1b79-45de-8e08-22efda8bdd62\" class=\"plotly-graph-div\" style=\"height:525px; width:100%;\"></div>            <script type=\"text/javascript\">                require([\"plotly\"], function(Plotly) {                    window.PLOTLYENV=window.PLOTLYENV || {};                                    if (document.getElementById(\"4102f248-1b79-45de-8e08-22efda8bdd62\")) {                    Plotly.newPlot(                        \"4102f248-1b79-45de-8e08-22efda8bdd62\",                        [{\"z\":[[0.16115108132362366,0.12713904678821564,0.004601763095706701,0.062242839485406876,0.3182802200317383,0.0,0.15426936745643616],[0.2757070064544678,0.2175171822309494,0.007872975431382656,0.10648881644010544,0.5445331335067749,0.0,0.263933390378952],[0.02856503054499626,0.02253619022667408,0.0008156911353580654,0.01103292964398861,0.05641715228557587,0.0,0.02734520472586155],[0.024192940443754196,0.01908685453236103,0.0006908435025252402,0.009344258345663548,0.047782085835933685,0.0,0.02315981686115265],[0.13140667974948883,0.10367242246866226,0.0037523950450122356,0.05075439438223839,0.2595338225364685,0.0,0.1257951855659485],[0.2552028000354767,0.20134054124355316,0.007287465501576662,0.09856928139925003,0.5040364265441895,0.0,0.24430477619171143],[0.02544991672039032,0.020078539848327637,0.0007267372566275299,0.009829751215875149,0.05026467144489288,0.0,0.024363119155168533],[0.028859324753284454,0.02276836894452572,0.0008240948081947863,0.011146596632897854,0.05699839070439339,0.0,0.02762693166732788],[0.025207724422216415,0.019887464120984077,0.0007198213133960962,0.009736207313835621,0.04978632926940918,0.0,0.02413126826286316],[0.1642572283744812,0.12958963215351105,0.0046904608607292175,0.06344255059957504,0.324414998292923,0.0,0.15724289417266846],[0.06511661410331726,0.05137331411242485,0.0018594429129734635,0.02515058033168316,0.1286080926656723,0.0,0.06233591586351395],[0.02922261506319046,0.02305498532950878,0.00083446892676875,0.01128691527992487,0.05771590769290924,0.0,0.02797471173107624],[0.02864564023911953,0.022599784657359123,0.0008179930155165493,0.01106406468898058,0.056576356291770935,0.0,0.02742237225174904],[0.15906904637813568,0.12549644708633423,0.004542309325188398,0.0614386722445488,0.31416812539100647,0.0,0.15227624773979187],[0.024722734466195107,0.019504833966493607,0.0007059721392579377,0.009548884816467762,0.048828452825546265,0.0,0.02366698905825615],[0.028968865051865578,0.022854790091514587,0.0008272228296846151,0.01118890754878521,0.05721474438905716,0.0,0.027731794863939285],[0.11925099790096283,0.09408226609230042,0.0034052818082273006,0.04605938866734505,0.23552580177783966,0.0,0.11415857821702957],[0.2923552691936493,0.23065167665481567,0.00834837555885315,0.11291900277137756,0.5774140357971191,0.0,0.2798706591129303],[0.02608601376414299,0.020580384880304337,0.0007449014228768647,0.01007543783634901,0.05152099207043648,0.0,0.02497205138206482],[0.02757202833890915,0.021752767264842987,0.0007873353897593915,0.010649394243955612,0.05445593222975731,0.0,0.02639460749924183],[0.06941860914230347,0.054767340421676636,0.0019822889007627964,0.026812177151441574,0.13710470497608185,0.0,0.0664542019367218],[0.028702614828944206,0.022644732147455215,0.0008196199778467417,0.011086069978773594,0.056688886135816574,0.0,0.02747691422700882],[0.022810157388448715,0.017995918169617653,0.000651357346214354,0.008810172788798809,0.045051030814647675,0.0,0.021836087107658386],[0.2551290988922119,0.20128236711025238,0.0072853597812354565,0.09854080528020859,0.5038908123970032,0.0,0.24423418939113617],[0.02583012543618679,0.02037850394845009,0.0007375943823717535,0.009976603090763092,0.051015593111515045,0.0,0.024727091193199158],[0.028637388721108437,0.022593272849917412,0.0008177573326975107,0.01106087677180767,0.05656006187200546,0.0,0.02741447277367115],[0.3948245644569397,0.3114941716194153,0.011274445801973343,0.15249666571617126,0.7797953486442566,0.0,0.37796422839164734],[0.026756461709737778,0.021109329536557198,0.0007640464464202523,0.010334390215575695,0.05284515395760536,0.0,0.025613868609070778],[0.17862042784690857,0.14092139899730682,0.0051006111316382885,0.06899018585681915,0.3527829945087433,0.0,0.17099274694919586],[0.19808608293533325,0.15627868473529816,0.0056564644910395145,0.07650858163833618,0.39122846722602844,0.0,0.18962714076042175],[0.027141887694597244,0.02141341008245945,0.0007750525255687535,0.010483257472515106,0.053606387227773666,0.0,0.02598283812403679],[0.4466741383075714,0.352400541305542,0.012755041010677814,0.17252299189567566,0.8822004795074463,0.0,0.42759963870048523],[0.049835436046123505,0.039317332208156586,0.0014230799861252308,0.019248390570282936,0.09842710942029953,0.0,0.047707296907901764],[0.23353132605552673,0.18424297869205475,0.006668624002486467,0.09019891917705536,0.46123433113098145,0.0,0.22355876863002777],[0.14520709216594696,0.11456014961004257,0.00414647301658988,0.05608464777469635,0.2867901623249054,0.0,0.13900625705718994],[0.024173596873879433,0.01907159574329853,0.0006902911700308323,0.009336787275969982,0.04774388298392296,0.0,0.023141302168369293],[0.16383357346057892,0.12925538420677185,0.00467836344614625,0.0632789209485054,0.32357826828956604,0.0,0.15683729946613312],[0.021806133911013603,0.0172038022428751,0.000622686930000782,0.00842237938195467,0.043068043887615204,0.0,0.020874937996268272],[0.24402286112308502,0.19252018630504608,0.006968215573579073,0.09425115585327148,0.48195552825927734,0.0,0.23360224068164825],[0.24103191494941711,0.19016051292419434,0.006882807705551386,0.09309594333171844,0.4760482907295227,0.0,0.2307390421628952],[0.027530688792467117,0.021720152348279953,0.0007861549966037273,0.010633427649736404,0.05437428504228592,0.0,0.026355037465691566],[0.2226414978504181,0.17565150558948517,0.006357658188790083,0.08599283546209335,0.43972647190093994,0.0,0.21313394606113434],[0.1777295172214508,0.14021851122379303,0.0050751701928675175,0.06864608079195023,0.3510233759880066,0.0,0.1701398640871048],[0.23926125466823578,0.1887635588645935,0.00683224480599165,0.09241203963756561,0.472551167011261,0.0,0.22904399037361145],[0.02652129717171192,0.02092379704117775,0.0007573310867883265,0.010243560187518597,0.05238068848848343,0.0,0.025388747453689575],[0.15744592249393463,0.12421588599681854,0.00449596019461751,0.060811758041381836,0.31096237897872925,0.0,0.1507224440574646],[0.024658601731061935,0.019454235211014748,0.0007041407516226172,0.009524114429950714,0.04870178550481796,0.0,0.023605594411492348],[0.19136980175971985,0.1509799063205719,0.0054646763019263744,0.07391449064016342,0.37796351313591003,0.0,0.18319766223430634],[0.036106958985328674,0.02848634496331215,0.00103105534799397,0.01394591759890318,0.0713127851486206,0.0,0.034565068781375885],[0.028005382046103477,0.02209465764462948,0.0007997101056389511,0.01081677246838808,0.05531182140111923,0.0,0.026809459552168846],[0.24603760242462158,0.1941096931695938,0.0070257470943033695,0.0950293242931366,0.4859347343444824,0.0,0.23553097248077393],[0.026726722717285156,0.021085867658257484,0.0007631971966475248,0.010322903282940388,0.052786413580179214,0.0,0.02558540180325508],[0.2087901383638382,0.16472357511520386,0.005962124560028315,0.08064290136098862,0.41236940026283264,0.0,0.19987408816814423],[0.16067443788051605,0.1267630010843277,0.004588152747601271,0.062058739364147186,0.31733885407447815,0.0,0.15381309390068054],[0.506318211555481,0.39945629239082336,0.01445821113884449,0.19555982947349548,1.0,0.0,0.4846966564655304],[0.026409391313791275,0.0208355113863945,0.000754135602619499,0.010200337506830692,0.05215967074036598,0.0,0.025281619280576706],[0.1727941632270813,0.13632477819919586,0.00493423780426383,0.06673984229564667,0.34127581119537354,0.0,0.16541525721549988],[0.02729105018079281,0.021531090140342712,0.0007793118711560965,0.01054086908698082,0.053900983184576035,0.0,0.026125626638531685],[0.020987028256058693,0.01655757427215576,0.0005992968217469752,0.008106010034680367,0.041450273245573044,0.0,0.02009080909192562],[0.02425004169344902,0.01913190633058548,0.0006924740737304091,0.009366312995553017,0.04789486899971962,0.0,0.02321448363363743],[0.025509824976325035,0.020125802606344223,0.0007284479797817767,0.00985288992524147,0.05038299039006233,0.0,0.024420469999313354],[0.0288902185857296,0.022792743518948555,0.0008249771781265736,0.011158530600368977,0.05705941468477249,0.0,0.02765651047229767],[0.0268411748111248,0.021176163107156754,0.0007664654986001551,0.01036711037158966,0.05301246419548988,0.0,0.025694968178868294],[0.025207266211509705,0.019887100905179977,0.0007198081584647298,0.009736030362546444,0.04978542402386665,0.0,0.02413082867860794],[0.02674814499914646,0.021102769300341606,0.0007638089591637254,0.010331179015338421,0.05282872915267944,0.0,0.025605909526348114],[0.023756936192512512,0.018742874264717102,0.0006783932913094759,0.009175856597721577,0.04692096635699272,0.0,0.022742435336112976],[0.021855104714632034,0.017242437228560448,0.0006240853690542281,0.00844129454344511,0.04316476359963417,0.0,0.020921817049384117],[0.025017110630869865,0.019737081602215767,0.0007143783150240779,0.009662585332989693,0.04940986633300781,0.0,0.023948797956109047],[0.02848992310464382,0.022476932033896446,0.0008135463576763868,0.011003920808434486,0.05626881122589111,0.0,0.027273306623101234],[0.027159197255969048,0.02142706699669361,0.0007755467668175697,0.010489942505955696,0.05364057049155235,0.0,0.02599940448999405],[0.024232063442468643,0.019117720425128937,0.0006919606821611524,0.009359368123114109,0.047859352082014084,0.0,0.023197269067168236],[0.02054569125175476,0.01620938628911972,0.0005866942810826004,0.007935549132525921,0.04057861492037773,0.0,0.019668322056531906],[0.02713269554078579,0.021406156942248344,0.0007747898926027119,0.010479705408215523,0.053588222712278366,0.0,0.025974037125706673],[0.022573305293917656,0.017809057608246803,0.0006445939070545137,0.008718691766262054,0.044583238661289215,0.0,0.02160934917628765],[0.3145928978919983,0.24819594621658325,0.008983383886516094,0.12150804698467255,0.6213343143463135,0.0,0.30115869641304016],[0.025032123550772667,0.019748922437429428,0.0007148068980313838,0.009668382816016674,0.049439504742622375,0.0,0.023963164538145065],[0.02558862790465355,0.020187975838780403,0.0007306981715373695,0.009883326478302479,0.05053862929344177,0.0,0.024495907127857208],[0.09950067847967148,0.07850038260221481,0.0028413000982254744,0.03843104839324951,0.19651809334754944,0.0,0.09525166451931],[0.025595564395189285,0.020193448290228844,0.0007308963104151189,0.009886005893349648,0.050552330911159515,0.0,0.024502543732523918],[0.028417719528079033,0.022419968619942665,0.0008114845841191709,0.010976032353937626,0.05612620338797569,0.0,0.027204185724258423],[0.024885158985853195,0.01963297836482525,0.0007106103003025055,0.009611619636416435,0.049149248749017715,0.0,0.023822477087378502],[0.023586466908454895,0.01860838383436203,0.0006735253846272826,0.009110013954341412,0.04658428207039833,0.0,0.022579245269298553],[0.025655308738350868,0.020240584388375282,0.0007326023769564927,0.00990908220410347,0.050670325756073,0.0,0.024559739977121353],[0.22149497270584106,0.17474696040153503,0.006324918009340763,0.08555001020431519,0.4374619722366333,0.0,0.2120363861322403],[0.02852456271648407,0.022504258900880814,0.0008145354804582894,0.011017299257218838,0.05633722245693207,0.0,0.027306463569402695],[0.22861796617507935,0.1803666055202484,0.006528319325298071,0.08830118179321289,0.45153024792671204,0.0,0.21885520219802856],[0.02433891035616398,0.019202018156647682,0.0006950118113309145,0.009400637820363045,0.048070382326841354,0.0,0.023299556225538254],[0.14385704696178436,0.11349504441022873,0.004107921849936247,0.055563200265169144,0.2841237783432007,0.0,0.13771384954452515],[0.02626415528357029,0.02072092890739441,0.0007499882485717535,0.010144242085516453,0.05187282711267471,0.0,0.02514258772134781],[0.02132309414446354,0.016822712495923042,0.0006088934605941176,0.00823581125587225,0.0421140193939209,0.0,0.02041252702474594],[0.18089605867862701,0.14271673560142517,0.005165592767298222,0.06986912339925766,0.35727745294570923,0.0,0.17317119240760803],[0.025947872549295425,0.020471397787332535,0.0007409566314890981,0.010022081434726715,0.05124815180897713,0.0,0.02483980916440487],[0.21119166910648346,0.1666182428598404,0.006030701566487551,0.08157046139240265,0.4171125590801239,0.0,0.20217306911945343],[0.025245124474167824,0.019916968420147896,0.0007208892493508756,0.009750652126967907,0.04986019432544708,0.0,0.024167070165276527],[0.11441943049430847,0.09027043730020523,0.0032673138193786144,0.04419325664639473,0.22598327696323395,0.0,0.10953333973884583],[0.13670817017555237,0.10785497725009918,0.0039037815295159817,0.05280202999711037,0.2700044512748718,0.0,0.1308702528476715],[0.02416689693927765,0.019066309556365013,0.0006900998996570706,0.009334199130535126,0.04773065447807312,0.0,0.023134887218475342],[0.02534073404967785,0.019992398098111153,0.0007236194214783609,0.00978758092969656,0.05004902556538582,0.0,0.024258596822619438],[0.027254940941929817,0.021502602845430374,0.0007782808388583362,0.010526923462748528,0.05382967367768288,0.0,0.026091065257787704],[0.04127713665366173,0.032565318048000336,0.0011786926770582795,0.01594284176826477,0.08152411133050919,0.0,0.039514463394880295],[0.024958916008472443,0.019691167399287224,0.0007127164280973375,0.009640107862651348,0.04929492250084877,0.0,0.0238930843770504],[0.02843465469777584,0.0224333293735981,0.00081196817336604,0.01098257303237915,0.05615965276956558,0.0,0.02722039632499218],[0.02484157308936119,0.019598590210080147,0.0007093655876815319,0.009594784118235111,0.04906316474080086,0.0,0.02378075197339058],[0.027576979249715805,0.021756669506430626,0.0007874767179600894,0.010651305317878723,0.05446570739150047,0.0,0.026399346068501472],[0.02382194809615612,0.018794164061546326,0.0006802496500313282,0.009200965985655785,0.04704936221241951,0.0,0.02280467003583908],[0.34752464294433594,0.274177223443985,0.00992377009242773,0.13422758877277374,0.6863760352134705,0.0,0.332684189081192],[0.0243553277105093,0.019214970991015434,0.0006954806740395725,0.009406978264451027,0.04810280725359917,0.0,0.023315273225307465],[0.02189786359667778,0.01727617159485817,0.000625306274741888,0.008457809686660767,0.043249212205410004,0.0,0.020962748676538467],[0.025589769706130028,0.02018887735903263,0.0007307308260351419,0.009883768856525421,0.05054089054465294,0.0,0.024496998637914658],[0.029007907956838608,0.02288559451699257,0.0008283378556370735,0.011203987523913383,0.05729185417294502,0.0,0.027769174426794052],[0.023823417723178864,0.018795324489474297,0.0006802915595471859,0.0092015340924263,0.04705226793885231,0.0,0.0228060744702816],[0.15407916903495789,0.12155971676111221,0.004399820696562529,0.05951138958334923,0.30431291460990906,0.0,0.1474994570016861],[0.1868850439786911,0.14744168519973755,0.005336611066013575,0.072182297706604,0.36910590529441833,0.0,0.17890439927577972],[0.02394016645848751,0.018887434154748917,0.0006836254615336657,0.009246626868844032,0.04728284850716591,0.0,0.022917838767170906],[0.25485551357269287,0.20106655359268188,0.007277547847479582,0.09843515604734421,0.5033504962921143,0.0,0.2439723163843155],[0.11388269066810608,0.08984698355197906,0.003251986810937524,0.043985940515995026,0.22492316365242004,0.0,0.10901951789855957],[0.024612609297037125,0.01941795088350773,0.0007028274121694267,0.009506350383162498,0.04861094802618027,0.0,0.023561565205454826],[0.27973443269729614,0.22069460153579712,0.007987980730831623,0.10804436355829239,0.5524874329566956,0.0,0.267788827419281],[0.07674422115087509,0.06054683402180672,0.0021914762910455465,0.029641617089509964,0.15157310664653778,0.0,0.07346698641777039],[0.28770944476127625,0.22698640823364258,0.008215710520744324,0.11112461984157562,0.568238377571106,0.0,0.2754232585430145],[0.09186097979545593,0.07247310131788254,0.002623144304379821,0.03548029810190201,0.18142935633659363,0.0,0.08793821185827255],[0.13619467616081238,0.10744986683130264,0.0038891187869012356,0.05260369926691055,0.26899030804634094,0.0,0.13037869334220886],[0.024719929322600365,0.01950262300670147,0.0007058920455165207,0.009547801688313484,0.04882291704416275,0.0,0.023664303123950958],[0.024194782599806786,0.01908831112086773,0.0006908961804583669,0.009344969876110554,0.04778572544455528,0.0,0.02316158451139927],[0.029202204197645187,0.02303888276219368,0.0008338859770447016,0.01127903163433075,0.05767560005187988,0.0,0.02795517072081566],[0.13722382485866547,0.10826180130243301,0.003918506670743227,0.053001195192337036,0.27102288603782654,0.0,0.1313638985157013],[0.026598818600177765,0.020984956994652748,0.0007595447823405266,0.010273502208292484,0.052533797919750214,0.0,0.025462958961725235],[0.13081306219100952,0.10320408642292023,0.0037354431115090847,0.050525110214948654,0.2583613693714142,0.0,0.12522689998149872]],\"type\":\"heatmap\"}],                        {\"template\":{\"data\":{\"histogram2dcontour\":[{\"type\":\"histogram2dcontour\",\"colorbar\":{\"outlinewidth\":0,\"ticks\":\"\"},\"colorscale\":[[0.0,\"#0d0887\"],[0.1111111111111111,\"#46039f\"],[0.2222222222222222,\"#7201a8\"],[0.3333333333333333,\"#9c179e\"],[0.4444444444444444,\"#bd3786\"],[0.5555555555555556,\"#d8576b\"],[0.6666666666666666,\"#ed7953\"],[0.7777777777777778,\"#fb9f3a\"],[0.8888888888888888,\"#fdca26\"],[1.0,\"#f0f921\"]]}],\"choropleth\":[{\"type\":\"choropleth\",\"colorbar\":{\"outlinewidth\":0,\"ticks\":\"\"}}],\"histogram2d\":[{\"type\":\"histogram2d\",\"colorbar\":{\"outlinewidth\":0,\"ticks\":\"\"},\"colorscale\":[[0.0,\"#0d0887\"],[0.1111111111111111,\"#46039f\"],[0.2222222222222222,\"#7201a8\"],[0.3333333333333333,\"#9c179e\"],[0.4444444444444444,\"#bd3786\"],[0.5555555555555556,\"#d8576b\"],[0.6666666666666666,\"#ed7953\"],[0.7777777777777778,\"#fb9f3a\"],[0.8888888888888888,\"#fdca26\"],[1.0,\"#f0f921\"]]}],\"heatmap\":[{\"type\":\"heatmap\",\"colorbar\":{\"outlinewidth\":0,\"ticks\":\"\"},\"colorscale\":[[0.0,\"#0d0887\"],[0.1111111111111111,\"#46039f\"],[0.2222222222222222,\"#7201a8\"],[0.3333333333333333,\"#9c179e\"],[0.4444444444444444,\"#bd3786\"],[0.5555555555555556,\"#d8576b\"],[0.6666666666666666,\"#ed7953\"],[0.7777777777777778,\"#fb9f3a\"],[0.8888888888888888,\"#fdca26\"],[1.0,\"#f0f921\"]]}],\"heatmapgl\":[{\"type\":\"heatmapgl\",\"colorbar\":{\"outlinewidth\":0,\"ticks\":\"\"},\"colorscale\":[[0.0,\"#0d0887\"],[0.1111111111111111,\"#46039f\"],[0.2222222222222222,\"#7201a8\"],[0.3333333333333333,\"#9c179e\"],[0.4444444444444444,\"#bd3786\"],[0.5555555555555556,\"#d8576b\"],[0.6666666666666666,\"#ed7953\"],[0.7777777777777778,\"#fb9f3a\"],[0.8888888888888888,\"#fdca26\"],[1.0,\"#f0f921\"]]}],\"contourcarpet\":[{\"type\":\"contourcarpet\",\"colorbar\":{\"outlinewidth\":0,\"ticks\":\"\"}}],\"contour\":[{\"type\":\"contour\",\"colorbar\":{\"outlinewidth\":0,\"ticks\":\"\"},\"colorscale\":[[0.0,\"#0d0887\"],[0.1111111111111111,\"#46039f\"],[0.2222222222222222,\"#7201a8\"],[0.3333333333333333,\"#9c179e\"],[0.4444444444444444,\"#bd3786\"],[0.5555555555555556,\"#d8576b\"],[0.6666666666666666,\"#ed7953\"],[0.7777777777777778,\"#fb9f3a\"],[0.8888888888888888,\"#fdca26\"],[1.0,\"#f0f921\"]]}],\"surface\":[{\"type\":\"surface\",\"colorbar\":{\"outlinewidth\":0,\"ticks\":\"\"},\"colorscale\":[[0.0,\"#0d0887\"],[0.1111111111111111,\"#46039f\"],[0.2222222222222222,\"#7201a8\"],[0.3333333333333333,\"#9c179e\"],[0.4444444444444444,\"#bd3786\"],[0.5555555555555556,\"#d8576b\"],[0.6666666666666666,\"#ed7953\"],[0.7777777777777778,\"#fb9f3a\"],[0.8888888888888888,\"#fdca26\"],[1.0,\"#f0f921\"]]}],\"mesh3d\":[{\"type\":\"mesh3d\",\"colorbar\":{\"outlinewidth\":0,\"ticks\":\"\"}}],\"scatter\":[{\"fillpattern\":{\"fillmode\":\"overlay\",\"size\":10,\"solidity\":0.2},\"type\":\"scatter\"}],\"parcoords\":[{\"type\":\"parcoords\",\"line\":{\"colorbar\":{\"outlinewidth\":0,\"ticks\":\"\"}}}],\"scatterpolargl\":[{\"type\":\"scatterpolargl\",\"marker\":{\"colorbar\":{\"outlinewidth\":0,\"ticks\":\"\"}}}],\"bar\":[{\"error_x\":{\"color\":\"#2a3f5f\"},\"error_y\":{\"color\":\"#2a3f5f\"},\"marker\":{\"line\":{\"color\":\"#E5ECF6\",\"width\":0.5},\"pattern\":{\"fillmode\":\"overlay\",\"size\":10,\"solidity\":0.2}},\"type\":\"bar\"}],\"scattergeo\":[{\"type\":\"scattergeo\",\"marker\":{\"colorbar\":{\"outlinewidth\":0,\"ticks\":\"\"}}}],\"scatterpolar\":[{\"type\":\"scatterpolar\",\"marker\":{\"colorbar\":{\"outlinewidth\":0,\"ticks\":\"\"}}}],\"histogram\":[{\"marker\":{\"pattern\":{\"fillmode\":\"overlay\",\"size\":10,\"solidity\":0.2}},\"type\":\"histogram\"}],\"scattergl\":[{\"type\":\"scattergl\",\"marker\":{\"colorbar\":{\"outlinewidth\":0,\"ticks\":\"\"}}}],\"scatter3d\":[{\"type\":\"scatter3d\",\"line\":{\"colorbar\":{\"outlinewidth\":0,\"ticks\":\"\"}},\"marker\":{\"colorbar\":{\"outlinewidth\":0,\"ticks\":\"\"}}}],\"scattermapbox\":[{\"type\":\"scattermapbox\",\"marker\":{\"colorbar\":{\"outlinewidth\":0,\"ticks\":\"\"}}}],\"scatterternary\":[{\"type\":\"scatterternary\",\"marker\":{\"colorbar\":{\"outlinewidth\":0,\"ticks\":\"\"}}}],\"scattercarpet\":[{\"type\":\"scattercarpet\",\"marker\":{\"colorbar\":{\"outlinewidth\":0,\"ticks\":\"\"}}}],\"carpet\":[{\"aaxis\":{\"endlinecolor\":\"#2a3f5f\",\"gridcolor\":\"white\",\"linecolor\":\"white\",\"minorgridcolor\":\"white\",\"startlinecolor\":\"#2a3f5f\"},\"baxis\":{\"endlinecolor\":\"#2a3f5f\",\"gridcolor\":\"white\",\"linecolor\":\"white\",\"minorgridcolor\":\"white\",\"startlinecolor\":\"#2a3f5f\"},\"type\":\"carpet\"}],\"table\":[{\"cells\":{\"fill\":{\"color\":\"#EBF0F8\"},\"line\":{\"color\":\"white\"}},\"header\":{\"fill\":{\"color\":\"#C8D4E3\"},\"line\":{\"color\":\"white\"}},\"type\":\"table\"}],\"barpolar\":[{\"marker\":{\"line\":{\"color\":\"#E5ECF6\",\"width\":0.5},\"pattern\":{\"fillmode\":\"overlay\",\"size\":10,\"solidity\":0.2}},\"type\":\"barpolar\"}],\"pie\":[{\"automargin\":true,\"type\":\"pie\"}]},\"layout\":{\"autotypenumbers\":\"strict\",\"colorway\":[\"#636efa\",\"#EF553B\",\"#00cc96\",\"#ab63fa\",\"#FFA15A\",\"#19d3f3\",\"#FF6692\",\"#B6E880\",\"#FF97FF\",\"#FECB52\"],\"font\":{\"color\":\"#2a3f5f\"},\"hovermode\":\"closest\",\"hoverlabel\":{\"align\":\"left\"},\"paper_bgcolor\":\"white\",\"plot_bgcolor\":\"#E5ECF6\",\"polar\":{\"bgcolor\":\"#E5ECF6\",\"angularaxis\":{\"gridcolor\":\"white\",\"linecolor\":\"white\",\"ticks\":\"\"},\"radialaxis\":{\"gridcolor\":\"white\",\"linecolor\":\"white\",\"ticks\":\"\"}},\"ternary\":{\"bgcolor\":\"#E5ECF6\",\"aaxis\":{\"gridcolor\":\"white\",\"linecolor\":\"white\",\"ticks\":\"\"},\"baxis\":{\"gridcolor\":\"white\",\"linecolor\":\"white\",\"ticks\":\"\"},\"caxis\":{\"gridcolor\":\"white\",\"linecolor\":\"white\",\"ticks\":\"\"}},\"coloraxis\":{\"colorbar\":{\"outlinewidth\":0,\"ticks\":\"\"}},\"colorscale\":{\"sequential\":[[0.0,\"#0d0887\"],[0.1111111111111111,\"#46039f\"],[0.2222222222222222,\"#7201a8\"],[0.3333333333333333,\"#9c179e\"],[0.4444444444444444,\"#bd3786\"],[0.5555555555555556,\"#d8576b\"],[0.6666666666666666,\"#ed7953\"],[0.7777777777777778,\"#fb9f3a\"],[0.8888888888888888,\"#fdca26\"],[1.0,\"#f0f921\"]],\"sequentialminus\":[[0.0,\"#0d0887\"],[0.1111111111111111,\"#46039f\"],[0.2222222222222222,\"#7201a8\"],[0.3333333333333333,\"#9c179e\"],[0.4444444444444444,\"#bd3786\"],[0.5555555555555556,\"#d8576b\"],[0.6666666666666666,\"#ed7953\"],[0.7777777777777778,\"#fb9f3a\"],[0.8888888888888888,\"#fdca26\"],[1.0,\"#f0f921\"]],\"diverging\":[[0,\"#8e0152\"],[0.1,\"#c51b7d\"],[0.2,\"#de77ae\"],[0.3,\"#f1b6da\"],[0.4,\"#fde0ef\"],[0.5,\"#f7f7f7\"],[0.6,\"#e6f5d0\"],[0.7,\"#b8e186\"],[0.8,\"#7fbc41\"],[0.9,\"#4d9221\"],[1,\"#276419\"]]},\"xaxis\":{\"gridcolor\":\"white\",\"linecolor\":\"white\",\"ticks\":\"\",\"title\":{\"standoff\":15},\"zerolinecolor\":\"white\",\"automargin\":true,\"zerolinewidth\":2},\"yaxis\":{\"gridcolor\":\"white\",\"linecolor\":\"white\",\"ticks\":\"\",\"title\":{\"standoff\":15},\"zerolinecolor\":\"white\",\"automargin\":true,\"zerolinewidth\":2},\"scene\":{\"xaxis\":{\"backgroundcolor\":\"#E5ECF6\",\"gridcolor\":\"white\",\"linecolor\":\"white\",\"showbackground\":true,\"ticks\":\"\",\"zerolinecolor\":\"white\",\"gridwidth\":2},\"yaxis\":{\"backgroundcolor\":\"#E5ECF6\",\"gridcolor\":\"white\",\"linecolor\":\"white\",\"showbackground\":true,\"ticks\":\"\",\"zerolinecolor\":\"white\",\"gridwidth\":2},\"zaxis\":{\"backgroundcolor\":\"#E5ECF6\",\"gridcolor\":\"white\",\"linecolor\":\"white\",\"showbackground\":true,\"ticks\":\"\",\"zerolinecolor\":\"white\",\"gridwidth\":2}},\"shapedefaults\":{\"line\":{\"color\":\"#2a3f5f\"}},\"annotationdefaults\":{\"arrowcolor\":\"#2a3f5f\",\"arrowhead\":0,\"arrowwidth\":1},\"geo\":{\"bgcolor\":\"white\",\"landcolor\":\"#E5ECF6\",\"subunitcolor\":\"white\",\"showland\":true,\"showlakes\":true,\"lakecolor\":\"white\"},\"title\":{\"x\":0.05},\"mapbox\":{\"style\":\"light\"}}}},                        {\"responsive\": true}                    ).then(function(){\n",
       "                            \n",
       "var gd = document.getElementById('4102f248-1b79-45de-8e08-22efda8bdd62');\n",
       "var x = new MutationObserver(function (mutations, observer) {{\n",
       "        var display = window.getComputedStyle(gd).display;\n",
       "        if (!display || display === 'none') {{\n",
       "            console.log([gd, 'removed!']);\n",
       "            Plotly.purge(gd);\n",
       "            observer.disconnect();\n",
       "        }}\n",
       "}});\n",
       "\n",
       "// Listen for the removal of the full notebook cells\n",
       "var notebookContainer = gd.closest('#notebook-container');\n",
       "if (notebookContainer) {{\n",
       "    x.observe(notebookContainer, {childList: true});\n",
       "}}\n",
       "\n",
       "// Listen for the clearing of the current output cell\n",
       "var outputEl = gd.closest('.output');\n",
       "if (outputEl) {{\n",
       "    x.observe(outputEl, {childList: true});\n",
       "}}\n",
       "\n",
       "                        })                };                });            </script>        </div>"
      ]
     },
     "metadata": {},
     "output_type": "display_data"
    }
   ],
   "source": [
    "fig = go.Figure()\n",
    "fig.add_trace(go.Heatmap(z = D_og[110, :, :]))"
   ]
  },
  {
   "cell_type": "code",
   "execution_count": null,
   "id": "63a7ab6b",
   "metadata": {},
   "outputs": [],
   "source": []
  }
 ],
 "metadata": {
  "kernelspec": {
   "display_name": "Python 3 (ipykernel)",
   "language": "python",
   "name": "python3"
  },
  "language_info": {
   "codemirror_mode": {
    "name": "ipython",
    "version": 3
   },
   "file_extension": ".py",
   "mimetype": "text/x-python",
   "name": "python",
   "nbconvert_exporter": "python",
   "pygments_lexer": "ipython3",
   "version": "3.10.8"
  },
  "toc": {
   "base_numbering": 1,
   "nav_menu": {},
   "number_sections": true,
   "sideBar": true,
   "skip_h1_title": false,
   "title_cell": "Table of Contents",
   "title_sidebar": "Contents",
   "toc_cell": false,
   "toc_position": {},
   "toc_section_display": true,
   "toc_window_display": false
  }
 },
 "nbformat": 4,
 "nbformat_minor": 5
}
