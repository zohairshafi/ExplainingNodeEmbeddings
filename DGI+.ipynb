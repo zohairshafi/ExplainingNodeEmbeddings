{
 "cells": [
  {
   "cell_type": "markdown",
   "id": "0369cae7",
   "metadata": {},
   "source": [
    "### Imports"
   ]
  },
  {
   "cell_type": "code",
   "execution_count": 1,
   "id": "707c0344",
   "metadata": {},
   "outputs": [
    {
     "name": "stderr",
     "output_type": "stream",
     "text": [
      "/Users/zohairshafi/miniforge3/lib/python3.10/site-packages/tqdm/auto.py:22: TqdmWarning: IProgress not found. Please update jupyter and ipywidgets. See https://ipywidgets.readthedocs.io/en/stable/user_install.html\n",
      "  from .autonotebook import tqdm as notebook_tqdm\n"
     ]
    }
   ],
   "source": [
    "import numpy as np\n",
    "import scipy.sparse as sp\n",
    "import torch\n",
    "import torch.nn as nn\n",
    "import pickle as pkl\n",
    "import networkx as nx\n",
    "\n",
    "from tqdm import tqdm\n",
    "from DGI.models import DGI, LogReg\n",
    "from DGI.utils import process\n",
    "from tensorflow.keras.optimizers import Adam, Nadam\n",
    "\n",
    "from scripts.utils import *"
   ]
  },
  {
   "cell_type": "markdown",
   "id": "ba79c95f",
   "metadata": {},
   "source": [
    "### Class Definitions"
   ]
  },
  {
   "cell_type": "code",
   "execution_count": 2,
   "id": "4f9319bf",
   "metadata": {},
   "outputs": [],
   "source": [
    "class BaseEmbedder:\n",
    "    def __init__(self, graph, embed_shape = (128,)):\n",
    "        self.embed(graph)\n",
    "        self.E = list(graph.edges())\n",
    "        self.graph = graph\n",
    "        self.embed_shape = embed_shape\n",
    "    \n",
    "    def embed(self, graph):\n",
    "        raise NotImplementedError\n",
    "    \n",
    "    def get_embedding(self):\n",
    "        raise NotImplementedError\n",
    "        "
   ]
  },
  {
   "cell_type": "code",
   "execution_count": 3,
   "id": "41610868",
   "metadata": {},
   "outputs": [],
   "source": [
    "class DGIEmbedding(BaseEmbedder):\n",
    "    def __init__(self, embed_dim = 64, graph = None, feature_matrix = None, use_xm = False, debug = False, batch_size = 1, nb_epochs = 2500, patience = 20, ortho_ = 0.1, sparse_ = 0.1, lr = 1e-3, l2_coef = 0.0, drop_prob = 0.0, sparse = True, nonlinearity = 'prelu', model_name = ''):\n",
    "\n",
    "        self.embed_dim = embed_dim\n",
    "        self.debug = debug\n",
    "        \n",
    "        # Training Params\n",
    "        self.graph = graph\n",
    "        self.batch_size = batch_size\n",
    "        self.nb_epochs = nb_epochs\n",
    "        self.patience = patience\n",
    "        self.lr = lr\n",
    "        self.l2_coef = l2_coef\n",
    "        self.feature_matrix = feature_matrix\n",
    "        self.drop_prob = drop_prob\n",
    "        self.hid_units = embed_dim\n",
    "        self.sparse = sparse\n",
    "        self.nonlinearity = nonlinearity\n",
    "        self.use_xm = use_xm\n",
    "        self.ortho_ = ortho_\n",
    "        self.sparse_ = sparse_\n",
    "        self.model_name = model_name\n",
    "\n",
    "        self.time_per_epoch = None\n",
    "        \n",
    "        if graph is not None:\n",
    "            self.embed()\n",
    "        else:\n",
    "            self.graph = None\n",
    "    \n",
    "    def embed(self):\n",
    "\n",
    "        \n",
    "        if self.feature_matrix is None:\n",
    "            feature_matrix = np.identity(len(self.graph))\n",
    "        else: \n",
    "            feature_matrix = self.feature_matrix\n",
    "\n",
    "        adj = nx.to_scipy_sparse_array(self.graph)\n",
    "        features = sp.lil_matrix(feature_matrix)\n",
    "        features, _ = process.preprocess_features(features)\n",
    "\n",
    "        nb_nodes = features.shape[0]\n",
    "        ft_size = features.shape[1]\n",
    "\n",
    "        adj = process.normalize_adj(adj + sp.eye(adj.shape[0]))\n",
    "\n",
    "        if self.sparse:\n",
    "            sp_adj = process.sparse_mx_to_torch_sparse_tensor(adj)\n",
    "        else:\n",
    "            adj = (adj + sp.eye(adj.shape[0])).todense()\n",
    "\n",
    "        features = torch.FloatTensor(features[np.newaxis])\n",
    "        if not self.sparse:\n",
    "            adj = torch.FloatTensor(adj[np.newaxis])\n",
    "            if torch.cuda.is_available():\n",
    "                adj = adj.cuda()\n",
    "\n",
    "        if self.feature_matrix is not None: \n",
    "            sense_features = torch.FloatTensor(self.feature_matrix)\n",
    "            if torch.cuda.is_available():\n",
    "                sense_features = sense_features.cuda()\n",
    "\n",
    "\n",
    "        model = DGI(ft_size, self.hid_units, self.nonlinearity)\n",
    "        if torch.cuda.is_available():\n",
    "            model = model.cuda()\n",
    "        optimiser = torch.optim.Adam(model.parameters(), lr = self.lr, weight_decay = self.l2_coef)\n",
    "\n",
    "        b_xent = nn.BCEWithLogitsLoss()\n",
    "        xent = nn.CrossEntropyLoss()\n",
    "        cnt_wait = 0\n",
    "        best = 1e9\n",
    "        best_t = 0\n",
    "        \n",
    "        start_time = time.time()\n",
    "        for epoch in tqdm(range(self.nb_epochs)):\n",
    "            model.train()\n",
    "            optimiser.zero_grad()\n",
    "\n",
    "            idx = np.random.permutation(nb_nodes)\n",
    "            shuf_fts = features[:, idx, :]\n",
    "\n",
    "            lbl_1 = torch.ones(self.batch_size, nb_nodes)\n",
    "            lbl_2 = torch.zeros(self.batch_size, nb_nodes)\n",
    "            lbl = torch.cat((lbl_1, lbl_2), 1)\n",
    "\n",
    "            if torch.cuda.is_available():\n",
    "                shuf_fts = shuf_fts.cuda()\n",
    "                lbl = lbl.cuda()\n",
    "                sp_adj = sp_adj.cuda()\n",
    "                features = features.cuda()\n",
    "            \n",
    "            logits = model(features, shuf_fts, sp_adj if self.sparse else adj, self.sparse, None, None, None) \n",
    "            \n",
    "            if self.use_xm == True and feature_matrix is not None:\n",
    "                \n",
    "                start_idx = 0\n",
    "                loop = True\n",
    "                \n",
    "                ortho_loss = 0\n",
    "                sparse_loss = 0\n",
    "                xm_batch_size = 128\n",
    "                \n",
    "                sf = sense_features\n",
    "                embeds, _ = model.embed(sf, sp_adj if self.sparse else adj, self.sparse, None)\n",
    "                                \n",
    "                while loop:\n",
    "                    end_idx = start_idx + xm_batch_size\n",
    "                    if end_idx > len(self.graph):\n",
    "                        loop = False\n",
    "                        end_idx = len(self.graph)\n",
    "                        \n",
    "                    \n",
    "                    sf = sense_features[start_idx : end_idx]\n",
    "                    embeds_ = torch.squeeze(embeds)[start_idx : end_idx]\n",
    "                    \n",
    "                    \n",
    "                    sense_mat = torch.einsum('ij, ik -> ijk', embeds_, sf)\n",
    "                    E = sense_mat\n",
    "                    y_norm = torch.diagonal(torch.matmul(embeds_, torch.transpose(embeds_, 0, 1)))\n",
    "                    sense_norm = torch.diagonal(torch.matmul(sf, torch.transpose(sf, 0, 1)))\n",
    "                    norm = torch.multiply(y_norm, sense_norm)\n",
    "                    E = torch.transpose(torch.transpose(E, 0, 2) / norm, 0, 2)\n",
    "                    E = (E - torch.amin(E, dim = [-1, -2], keepdim = True)) / (torch.amax(E, dim = [-1, -2], keepdim = True) - torch.amin(E, dim = [-1, -2], keepdim = True))\n",
    "\n",
    "                    E_t = torch.transpose(E, 1, 2)\n",
    "                    E_o = torch.einsum('aij, ajh -> aih', E, E_t)\n",
    "                    E_o = torch.sum(E_o)\n",
    "                    batch_ortho_loss = (self.ortho_ * E_o) / self.batch_size\n",
    "\n",
    "                    batch_sparse_loss = (self.sparse_ * torch.sum(torch.linalg.norm(E, ord = 1, axis = 0))) / self.batch_size\n",
    "                        \n",
    "                    ortho_loss += batch_ortho_loss\n",
    "                    sparse_loss += batch_sparse_loss\n",
    "                    \n",
    "                    start_idx = end_idx\n",
    "                    \n",
    "                loss = b_xent(logits, lbl) + ortho_loss + sparse_loss\n",
    "            else:\n",
    "                loss = b_xent(logits, lbl)\n",
    "\n",
    "            if self.debug:\n",
    "                print('Loss:', loss)\n",
    "\n",
    "            if loss < best:\n",
    "                best = loss\n",
    "                best_t = epoch\n",
    "                cnt_wait = 0\n",
    "                torch.save(model.state_dict(), self.model_name + '.pkl')\n",
    "            else:\n",
    "                cnt_wait += 1\n",
    "\n",
    "            if cnt_wait == self.patience:\n",
    "                if self.debug: \n",
    "                    print('Early stopping!')\n",
    "                break\n",
    "\n",
    "            loss.backward()\n",
    "            optimiser.step()\n",
    "            \n",
    "        self.time_per_epoch = (time.time() - start_time) / epoch\n",
    "\n",
    "        if self.debug: \n",
    "            print('Loading {}th epoch'.format(best_t))\n",
    "        model.load_state_dict(torch.load(self.model_name + '.pkl'))\n",
    "\n",
    "        self.node_model = model\n",
    "        self.fitted = True\n",
    "\n",
    "        embeds, _ = model.embed(features, sp_adj if self.sparse else adj, self.sparse, None)\n",
    "        self.embeddings = embeds\n",
    "    \n",
    "    def get_embedding(self):\n",
    "        if torch.cuda.is_available():\n",
    "            return np.squeeze(self.embeddings.cpu().numpy())\n",
    "        return np.squeeze(self.embeddings.numpy())\n",
    "    \n",
    "\n",
    "\n"
   ]
  },
  {
   "cell_type": "code",
   "execution_count": null,
   "id": "b1e51f5c",
   "metadata": {},
   "outputs": [],
   "source": []
  },
  {
   "cell_type": "code",
   "execution_count": null,
   "id": "bd8df723",
   "metadata": {},
   "outputs": [
    {
     "name": "stdout",
     "output_type": "stream",
     "text": [
      "Calculating Personalized Page Rank...                     \r"
     ]
    },
    {
     "name": "stderr",
     "output_type": "stream",
     "text": [
      "4733it [01:46, 47.30it/s]"
     ]
    }
   ],
   "source": [
    "with open('./data/squirrel.pkl', 'rb') as file: \n",
    "    graph_dict = pkl.load(file)\n",
    "    \n",
    "graph = nx.Graph(nx.to_numpy_array(graph_dict))    \n",
    "graph = nx.Graph(nx.to_numpy_array(graph))\n",
    "\n",
    "\n",
    "sense_feat_dict, sense_features = get_sense_features(graph, ppr_flag = 'std')\n"
   ]
  },
  {
   "cell_type": "code",
   "execution_count": 5,
   "id": "fc3e2eaf",
   "metadata": {},
   "outputs": [],
   "source": [
    "uncorrelated_feats = ['Degree',\n",
    "                    'Clustering Coefficient',\n",
    "                    'Personalized Page Rank - Standard Deviation',\n",
    "                    'Average Neighbor Degree',\n",
    "                    'Average Neighbor Clustering',\n",
    "                    'Eccentricity',\n",
    "                    'Katz Centrality']\n",
    "sense_features = sense_features[:, [list(sense_feat_dict).index(feat) for feat in uncorrelated_feats]]\n",
    "sense_feat_dict = {feat : idx for idx, feat in enumerate(uncorrelated_feats)}"
   ]
  },
  {
   "cell_type": "code",
   "execution_count": 15,
   "id": "b6a984b4",
   "metadata": {},
   "outputs": [
    {
     "name": "stderr",
     "output_type": "stream",
     "text": [
      " 30%|████████████▏                           | 758/2500 [00:56<02:09, 13.42it/s]\n",
      "/Users/zohairshafi/Local Workspace/ExplainingNodeEmbeddings/scripts/utils.py:446: RuntimeWarning:\n",
      "\n",
      "overflow encountered in exp\n",
      "\n",
      "/Users/zohairshafi/Local Workspace/ExplainingNodeEmbeddings/scripts/utils.py:446: RuntimeWarning:\n",
      "\n",
      "invalid value encountered in divide\n",
      "\n"
     ]
    }
   ],
   "source": [
    "# dgi_og = DGIEmbedding(graph = graph, \n",
    "#            embed_dim = 128, \n",
    "#            feature_matrix = sense_features, \n",
    "#            use_xm = False, \n",
    "#            ortho_ = 0, \n",
    "#            sparse_ = 0, \n",
    "#            batch_size = 1, \n",
    "#            model_name = '-')\n",
    "# embed_og = dgi_og.get_embedding()\n",
    "# embed_og = (embed_og - np.min(embed_og)) / np.ptp(embed_og)\n",
    "# feature_dict_og = find_feature_membership(input_embed = embed_og,\n",
    "#                                                     embed_name = 'DGI-SF',\n",
    "#                                                     sense_features = sense_features,\n",
    "#                                                     sense_feat_dict = sense_feat_dict,\n",
    "#                                                     top_k = 8,\n",
    "#                                                     solver = 'nmf')\n",
    "\n",
    "# explain_og = feature_dict_og['explain_norm']\n",
    "# error_og = sense_features * np.log((sense_features + 1e-10) / ((embed_og @ feature_dict_og['explain_norm']) + 1e-10)) - sense_features + (embed_og @ feature_dict_og['explain_norm'])\n",
    "# explain_og = (explain_og - np.min(explain_og)) / np.ptp(explain_og)\n",
    "\n",
    "\n",
    "dgi_plus = DGIEmbedding(graph = graph, \n",
    "           embed_dim = 128, \n",
    "           feature_matrix = sense_features, \n",
    "           use_xm = True, \n",
    "           ortho_ = 100, \n",
    "           sparse_ = 100, \n",
    "           batch_size = 1, \n",
    "           model_name = '-', \n",
    "           patience = 500)\n",
    "embed_plus = dgi_plus.get_embedding()\n",
    "embed_plus = (embed_plus - np.min(embed_plus)) / np.ptp(embed_plus)\n",
    "feature_dict_plus = find_feature_membership(input_embed = embed_plus,\n",
    "                                                    embed_name = 'DGI+XM',\n",
    "                                                    sense_features = sense_features,\n",
    "                                                    sense_feat_dict = sense_feat_dict,\n",
    "                                                    top_k = 8,\n",
    "                                                    solver = 'nmf')\n",
    "\n",
    "explain_plus = feature_dict_plus['explain_norm']\n",
    "error_plus = sense_features * np.log((sense_features + 1e-10) / ((embed_plus @ feature_dict_plus['explain_norm']) + 1e-10)) - sense_features + (embed_plus @ feature_dict_plus['explain_norm'])\n",
    "explain_plus = (explain_plus - np.min(explain_plus)) / np.ptp(explain_plus)"
   ]
  },
  {
   "cell_type": "code",
   "execution_count": null,
   "id": "fc0dd519",
   "metadata": {},
   "outputs": [],
   "source": []
  },
  {
   "cell_type": "code",
   "execution_count": 16,
   "id": "f933eed2",
   "metadata": {
    "scrolled": true
   },
   "outputs": [
    {
     "data": {
      "application/vnd.plotly.v1+json": {
       "config": {
        "plotlyServerURL": "https://plot.ly"
       },
       "data": [
        {
         "type": "heatmap",
         "x": [
          "Degree",
          "Clustering Coefficient",
          "Personalized Page Rank - Standard Deviation",
          "Average Neighbor Degree",
          "Average Neighbor Clustering",
          "Eccentricity",
          "Katz Centrality"
         ],
         "z": [
          [
           0,
           0,
           0,
           0,
           0,
           0,
           0
          ],
          [
           0,
           0,
           0,
           0,
           0,
           0,
           0
          ],
          [
           0,
           0,
           0,
           0,
           0,
           0,
           0
          ],
          [
           0,
           0,
           0,
           0,
           0,
           0,
           0
          ],
          [
           0,
           0,
           0,
           0,
           0,
           0,
           0
          ],
          [
           0,
           0,
           0,
           0,
           0,
           0,
           0
          ],
          [
           0,
           0,
           0,
           0,
           0,
           0,
           0
          ],
          [
           0,
           0,
           0,
           0,
           0,
           0,
           0
          ],
          [
           0,
           0,
           0,
           0,
           0,
           0,
           0
          ],
          [
           0,
           0,
           0,
           0,
           0,
           0,
           0
          ],
          [
           0,
           0,
           0,
           0,
           0,
           0,
           0
          ],
          [
           0,
           0,
           0,
           0,
           0,
           0,
           0
          ],
          [
           0,
           0,
           0,
           0,
           0,
           0,
           0
          ],
          [
           0,
           0,
           0,
           0,
           0,
           0,
           0
          ],
          [
           0,
           0,
           0,
           0,
           0,
           0,
           0
          ],
          [
           0,
           0,
           0,
           0,
           0,
           0,
           0
          ],
          [
           0,
           0,
           0,
           0,
           0,
           0,
           0
          ],
          [
           0,
           0,
           0,
           0,
           0,
           0,
           0
          ],
          [
           0,
           0,
           0,
           0,
           0,
           0,
           0
          ],
          [
           0,
           0,
           0,
           0,
           0,
           0,
           0
          ],
          [
           0.5081292986869812,
           0,
           0,
           0,
           0,
           0,
           0
          ],
          [
           0,
           0,
           0,
           0,
           0,
           0,
           0
          ],
          [
           0,
           0,
           0,
           0,
           0,
           0,
           0
          ],
          [
           0,
           0,
           0,
           0,
           0,
           0,
           0
          ],
          [
           0,
           0,
           0,
           0,
           0.15814265608787537,
           0,
           0
          ],
          [
           0,
           0,
           0,
           0,
           0,
           0,
           0
          ],
          [
           0,
           0,
           0,
           0,
           0,
           0,
           0
          ],
          [
           0,
           0,
           0,
           0,
           0,
           0,
           0
          ],
          [
           0,
           0,
           0,
           0,
           0,
           0,
           0
          ],
          [
           0,
           0,
           0,
           0,
           0,
           0,
           0
          ],
          [
           0,
           0,
           0,
           0,
           0,
           0,
           0
          ],
          [
           0,
           0,
           0,
           0,
           0,
           0,
           0
          ],
          [
           0,
           0,
           0,
           0,
           0,
           0,
           0
          ],
          [
           0,
           0,
           0,
           0,
           0,
           0,
           0
          ],
          [
           0,
           0,
           0,
           0,
           0,
           0,
           0
          ],
          [
           0,
           0,
           0,
           0,
           0,
           0,
           0
          ],
          [
           0,
           0,
           0,
           0,
           0,
           0,
           0
          ],
          [
           0,
           0,
           0,
           0,
           0,
           0,
           0.13534195721149445
          ],
          [
           0,
           0,
           0,
           0,
           0,
           0,
           0
          ],
          [
           0,
           0,
           0,
           0,
           0,
           0,
           0
          ],
          [
           0,
           0,
           0,
           0,
           0,
           0,
           0.6268505454063416
          ],
          [
           0,
           0,
           0,
           0,
           0,
           0,
           0
          ],
          [
           0,
           0,
           0,
           0,
           0,
           0,
           0
          ],
          [
           0,
           0,
           0,
           0,
           0,
           0,
           0
          ],
          [
           0,
           0,
           0,
           0,
           0,
           0,
           0
          ],
          [
           0,
           0,
           0,
           0,
           0,
           0,
           0
          ],
          [
           0,
           0,
           0,
           0,
           0,
           0,
           0
          ],
          [
           0,
           1,
           0,
           0,
           0,
           0,
           0
          ],
          [
           0,
           0,
           0,
           0,
           0,
           0,
           0
          ],
          [
           0,
           0,
           0,
           0,
           0.12126658111810684,
           0,
           0
          ],
          [
           0,
           0,
           0,
           0,
           0,
           0,
           0
          ],
          [
           0,
           0,
           0,
           0,
           0,
           0,
           0
          ],
          [
           0,
           0,
           0,
           0,
           0,
           0,
           0
          ],
          [
           0,
           0,
           0,
           0,
           0,
           0,
           0
          ],
          [
           0,
           0,
           0,
           0.3817053735256195,
           0.16862617433071136,
           0,
           0
          ],
          [
           0,
           0,
           0,
           0,
           0,
           0,
           0
          ],
          [
           0,
           0,
           0,
           0,
           0,
           0,
           0
          ],
          [
           0,
           0,
           0,
           0,
           0,
           0.44264164566993713,
           0
          ],
          [
           0,
           0,
           0,
           0,
           0,
           0,
           0
          ],
          [
           0,
           0,
           0,
           0,
           0,
           0,
           0
          ],
          [
           0,
           0,
           0,
           0,
           0,
           0,
           0
          ],
          [
           0,
           0,
           0,
           0,
           0,
           0,
           0
          ],
          [
           0,
           0,
           0,
           0,
           0,
           0,
           0
          ],
          [
           0,
           0,
           0,
           0,
           0,
           0,
           0
          ],
          [
           0,
           0,
           0,
           0,
           0.005218556150794029,
           0,
           0
          ],
          [
           0,
           0,
           0,
           0,
           0,
           0,
           0
          ],
          [
           0,
           0,
           0,
           0,
           0,
           0,
           0
          ],
          [
           0,
           0,
           0,
           0,
           0,
           0,
           0
          ],
          [
           0,
           0,
           0,
           0,
           0,
           0,
           0
          ],
          [
           0,
           0,
           0,
           0,
           0,
           0,
           0
          ],
          [
           0,
           0,
           0,
           0,
           0,
           0,
           0
          ],
          [
           0,
           0,
           0,
           0,
           0,
           0.06813604384660721,
           0
          ],
          [
           0,
           0,
           0,
           0,
           0,
           0,
           0
          ],
          [
           0,
           0,
           0,
           0,
           0,
           0.015562422573566437,
           0
          ],
          [
           0,
           0,
           0,
           0,
           0,
           0,
           0
          ],
          [
           0,
           0,
           0,
           0,
           0.40753692388534546,
           0,
           0
          ],
          [
           0,
           0,
           0.5611241459846497,
           0,
           0,
           0,
           0
          ],
          [
           0,
           0,
           0,
           0,
           0,
           0,
           0
          ],
          [
           0,
           0,
           0,
           0,
           0,
           0,
           0
          ],
          [
           0,
           0,
           0,
           0,
           0,
           0,
           0
          ],
          [
           0,
           0,
           0,
           0,
           0,
           0,
           0
          ],
          [
           0,
           0,
           0,
           0,
           0,
           0,
           0
          ],
          [
           0,
           0,
           0,
           0,
           0,
           0,
           0
          ],
          [
           0,
           0,
           0,
           0,
           0,
           0,
           0.01150382962077856
          ],
          [
           0,
           0,
           0.8601149320602417,
           0,
           0,
           0,
           0
          ],
          [
           0,
           0,
           0,
           0,
           0,
           0,
           0
          ],
          [
           0,
           0,
           0,
           0,
           0,
           0,
           0
          ],
          [
           0,
           0,
           0,
           0,
           0,
           0,
           0
          ],
          [
           0,
           0,
           0,
           0,
           0,
           0,
           0.06644085049629211
          ],
          [
           0,
           0,
           0,
           0,
           0,
           0,
           0
          ],
          [
           0,
           0,
           0,
           0,
           0,
           0,
           0.20072555541992188
          ],
          [
           0,
           0,
           0,
           0,
           0,
           0,
           0
          ],
          [
           0,
           0,
           0,
           0,
           0,
           0,
           0
          ],
          [
           0,
           0,
           0,
           0,
           0,
           0,
           0
          ],
          [
           0,
           0,
           0,
           0,
           0,
           0,
           0
          ],
          [
           0,
           0,
           0,
           0,
           0,
           0,
           0
          ],
          [
           0,
           0,
           0,
           0,
           0,
           0,
           0
          ],
          [
           0,
           0,
           0,
           0,
           0,
           0,
           0
          ],
          [
           0,
           0,
           0,
           0,
           0,
           0,
           0
          ],
          [
           0,
           0,
           0,
           0,
           0,
           0,
           0
          ],
          [
           0,
           0,
           0,
           0,
           0,
           0,
           0
          ],
          [
           0,
           0,
           0,
           0,
           0,
           0.4440050721168518,
           0
          ],
          [
           0,
           0,
           0,
           0,
           0,
           0,
           0
          ],
          [
           0,
           0,
           0,
           0,
           0,
           0,
           0
          ],
          [
           0,
           0,
           0,
           0,
           0,
           0,
           0
          ],
          [
           0,
           0,
           0,
           0,
           0,
           0,
           0
          ],
          [
           0,
           0,
           0,
           0,
           0,
           0,
           0
          ],
          [
           0,
           0,
           0,
           0,
           0,
           0,
           0.09592922031879425
          ],
          [
           0,
           0,
           0,
           0,
           0,
           0,
           0
          ],
          [
           0,
           0,
           0,
           0,
           0,
           0,
           0
          ],
          [
           0,
           0,
           0,
           0,
           0,
           0,
           0
          ],
          [
           0,
           0,
           0,
           0,
           0,
           0,
           0
          ],
          [
           0,
           0,
           0,
           0,
           0,
           0,
           0
          ],
          [
           0,
           0,
           0,
           0,
           0,
           0,
           0
          ],
          [
           0,
           0,
           0,
           0,
           0,
           0,
           0
          ],
          [
           0,
           0,
           0,
           0,
           0,
           0,
           0
          ],
          [
           0,
           0,
           0,
           0,
           0,
           0,
           0
          ],
          [
           0,
           0,
           0,
           0,
           0,
           0,
           0
          ],
          [
           0,
           0,
           0,
           0,
           0,
           0.020918264985084534,
           0
          ],
          [
           0,
           0,
           0,
           0,
           0,
           0,
           0
          ],
          [
           0.605912446975708,
           0,
           0,
           0,
           0,
           0,
           0
          ],
          [
           0,
           0.06564269959926605,
           0,
           0,
           0,
           0,
           0
          ],
          [
           0,
           0,
           0,
           0,
           0,
           0,
           0
          ],
          [
           0,
           0,
           0,
           0,
           0,
           0,
           0
          ],
          [
           0,
           0,
           0,
           0,
           0,
           0,
           0
          ],
          [
           0,
           0,
           0,
           0,
           0,
           0,
           0
          ],
          [
           0,
           0,
           0,
           0.7522587180137634,
           0,
           0,
           0
          ],
          [
           0,
           0,
           0,
           0,
           0,
           0,
           0
          ]
         ]
        }
       ],
       "layout": {
        "template": {
         "data": {
          "bar": [
           {
            "error_x": {
             "color": "#2a3f5f"
            },
            "error_y": {
             "color": "#2a3f5f"
            },
            "marker": {
             "line": {
              "color": "#E5ECF6",
              "width": 0.5
             },
             "pattern": {
              "fillmode": "overlay",
              "size": 10,
              "solidity": 0.2
             }
            },
            "type": "bar"
           }
          ],
          "barpolar": [
           {
            "marker": {
             "line": {
              "color": "#E5ECF6",
              "width": 0.5
             },
             "pattern": {
              "fillmode": "overlay",
              "size": 10,
              "solidity": 0.2
             }
            },
            "type": "barpolar"
           }
          ],
          "carpet": [
           {
            "aaxis": {
             "endlinecolor": "#2a3f5f",
             "gridcolor": "white",
             "linecolor": "white",
             "minorgridcolor": "white",
             "startlinecolor": "#2a3f5f"
            },
            "baxis": {
             "endlinecolor": "#2a3f5f",
             "gridcolor": "white",
             "linecolor": "white",
             "minorgridcolor": "white",
             "startlinecolor": "#2a3f5f"
            },
            "type": "carpet"
           }
          ],
          "choropleth": [
           {
            "colorbar": {
             "outlinewidth": 0,
             "ticks": ""
            },
            "type": "choropleth"
           }
          ],
          "contour": [
           {
            "colorbar": {
             "outlinewidth": 0,
             "ticks": ""
            },
            "colorscale": [
             [
              0,
              "#0d0887"
             ],
             [
              0.1111111111111111,
              "#46039f"
             ],
             [
              0.2222222222222222,
              "#7201a8"
             ],
             [
              0.3333333333333333,
              "#9c179e"
             ],
             [
              0.4444444444444444,
              "#bd3786"
             ],
             [
              0.5555555555555556,
              "#d8576b"
             ],
             [
              0.6666666666666666,
              "#ed7953"
             ],
             [
              0.7777777777777778,
              "#fb9f3a"
             ],
             [
              0.8888888888888888,
              "#fdca26"
             ],
             [
              1,
              "#f0f921"
             ]
            ],
            "type": "contour"
           }
          ],
          "contourcarpet": [
           {
            "colorbar": {
             "outlinewidth": 0,
             "ticks": ""
            },
            "type": "contourcarpet"
           }
          ],
          "heatmap": [
           {
            "colorbar": {
             "outlinewidth": 0,
             "ticks": ""
            },
            "colorscale": [
             [
              0,
              "#0d0887"
             ],
             [
              0.1111111111111111,
              "#46039f"
             ],
             [
              0.2222222222222222,
              "#7201a8"
             ],
             [
              0.3333333333333333,
              "#9c179e"
             ],
             [
              0.4444444444444444,
              "#bd3786"
             ],
             [
              0.5555555555555556,
              "#d8576b"
             ],
             [
              0.6666666666666666,
              "#ed7953"
             ],
             [
              0.7777777777777778,
              "#fb9f3a"
             ],
             [
              0.8888888888888888,
              "#fdca26"
             ],
             [
              1,
              "#f0f921"
             ]
            ],
            "type": "heatmap"
           }
          ],
          "heatmapgl": [
           {
            "colorbar": {
             "outlinewidth": 0,
             "ticks": ""
            },
            "colorscale": [
             [
              0,
              "#0d0887"
             ],
             [
              0.1111111111111111,
              "#46039f"
             ],
             [
              0.2222222222222222,
              "#7201a8"
             ],
             [
              0.3333333333333333,
              "#9c179e"
             ],
             [
              0.4444444444444444,
              "#bd3786"
             ],
             [
              0.5555555555555556,
              "#d8576b"
             ],
             [
              0.6666666666666666,
              "#ed7953"
             ],
             [
              0.7777777777777778,
              "#fb9f3a"
             ],
             [
              0.8888888888888888,
              "#fdca26"
             ],
             [
              1,
              "#f0f921"
             ]
            ],
            "type": "heatmapgl"
           }
          ],
          "histogram": [
           {
            "marker": {
             "pattern": {
              "fillmode": "overlay",
              "size": 10,
              "solidity": 0.2
             }
            },
            "type": "histogram"
           }
          ],
          "histogram2d": [
           {
            "colorbar": {
             "outlinewidth": 0,
             "ticks": ""
            },
            "colorscale": [
             [
              0,
              "#0d0887"
             ],
             [
              0.1111111111111111,
              "#46039f"
             ],
             [
              0.2222222222222222,
              "#7201a8"
             ],
             [
              0.3333333333333333,
              "#9c179e"
             ],
             [
              0.4444444444444444,
              "#bd3786"
             ],
             [
              0.5555555555555556,
              "#d8576b"
             ],
             [
              0.6666666666666666,
              "#ed7953"
             ],
             [
              0.7777777777777778,
              "#fb9f3a"
             ],
             [
              0.8888888888888888,
              "#fdca26"
             ],
             [
              1,
              "#f0f921"
             ]
            ],
            "type": "histogram2d"
           }
          ],
          "histogram2dcontour": [
           {
            "colorbar": {
             "outlinewidth": 0,
             "ticks": ""
            },
            "colorscale": [
             [
              0,
              "#0d0887"
             ],
             [
              0.1111111111111111,
              "#46039f"
             ],
             [
              0.2222222222222222,
              "#7201a8"
             ],
             [
              0.3333333333333333,
              "#9c179e"
             ],
             [
              0.4444444444444444,
              "#bd3786"
             ],
             [
              0.5555555555555556,
              "#d8576b"
             ],
             [
              0.6666666666666666,
              "#ed7953"
             ],
             [
              0.7777777777777778,
              "#fb9f3a"
             ],
             [
              0.8888888888888888,
              "#fdca26"
             ],
             [
              1,
              "#f0f921"
             ]
            ],
            "type": "histogram2dcontour"
           }
          ],
          "mesh3d": [
           {
            "colorbar": {
             "outlinewidth": 0,
             "ticks": ""
            },
            "type": "mesh3d"
           }
          ],
          "parcoords": [
           {
            "line": {
             "colorbar": {
              "outlinewidth": 0,
              "ticks": ""
             }
            },
            "type": "parcoords"
           }
          ],
          "pie": [
           {
            "automargin": true,
            "type": "pie"
           }
          ],
          "scatter": [
           {
            "fillpattern": {
             "fillmode": "overlay",
             "size": 10,
             "solidity": 0.2
            },
            "type": "scatter"
           }
          ],
          "scatter3d": [
           {
            "line": {
             "colorbar": {
              "outlinewidth": 0,
              "ticks": ""
             }
            },
            "marker": {
             "colorbar": {
              "outlinewidth": 0,
              "ticks": ""
             }
            },
            "type": "scatter3d"
           }
          ],
          "scattercarpet": [
           {
            "marker": {
             "colorbar": {
              "outlinewidth": 0,
              "ticks": ""
             }
            },
            "type": "scattercarpet"
           }
          ],
          "scattergeo": [
           {
            "marker": {
             "colorbar": {
              "outlinewidth": 0,
              "ticks": ""
             }
            },
            "type": "scattergeo"
           }
          ],
          "scattergl": [
           {
            "marker": {
             "colorbar": {
              "outlinewidth": 0,
              "ticks": ""
             }
            },
            "type": "scattergl"
           }
          ],
          "scattermapbox": [
           {
            "marker": {
             "colorbar": {
              "outlinewidth": 0,
              "ticks": ""
             }
            },
            "type": "scattermapbox"
           }
          ],
          "scatterpolar": [
           {
            "marker": {
             "colorbar": {
              "outlinewidth": 0,
              "ticks": ""
             }
            },
            "type": "scatterpolar"
           }
          ],
          "scatterpolargl": [
           {
            "marker": {
             "colorbar": {
              "outlinewidth": 0,
              "ticks": ""
             }
            },
            "type": "scatterpolargl"
           }
          ],
          "scatterternary": [
           {
            "marker": {
             "colorbar": {
              "outlinewidth": 0,
              "ticks": ""
             }
            },
            "type": "scatterternary"
           }
          ],
          "surface": [
           {
            "colorbar": {
             "outlinewidth": 0,
             "ticks": ""
            },
            "colorscale": [
             [
              0,
              "#0d0887"
             ],
             [
              0.1111111111111111,
              "#46039f"
             ],
             [
              0.2222222222222222,
              "#7201a8"
             ],
             [
              0.3333333333333333,
              "#9c179e"
             ],
             [
              0.4444444444444444,
              "#bd3786"
             ],
             [
              0.5555555555555556,
              "#d8576b"
             ],
             [
              0.6666666666666666,
              "#ed7953"
             ],
             [
              0.7777777777777778,
              "#fb9f3a"
             ],
             [
              0.8888888888888888,
              "#fdca26"
             ],
             [
              1,
              "#f0f921"
             ]
            ],
            "type": "surface"
           }
          ],
          "table": [
           {
            "cells": {
             "fill": {
              "color": "#EBF0F8"
             },
             "line": {
              "color": "white"
             }
            },
            "header": {
             "fill": {
              "color": "#C8D4E3"
             },
             "line": {
              "color": "white"
             }
            },
            "type": "table"
           }
          ]
         },
         "layout": {
          "annotationdefaults": {
           "arrowcolor": "#2a3f5f",
           "arrowhead": 0,
           "arrowwidth": 1
          },
          "autotypenumbers": "strict",
          "coloraxis": {
           "colorbar": {
            "outlinewidth": 0,
            "ticks": ""
           }
          },
          "colorscale": {
           "diverging": [
            [
             0,
             "#8e0152"
            ],
            [
             0.1,
             "#c51b7d"
            ],
            [
             0.2,
             "#de77ae"
            ],
            [
             0.3,
             "#f1b6da"
            ],
            [
             0.4,
             "#fde0ef"
            ],
            [
             0.5,
             "#f7f7f7"
            ],
            [
             0.6,
             "#e6f5d0"
            ],
            [
             0.7,
             "#b8e186"
            ],
            [
             0.8,
             "#7fbc41"
            ],
            [
             0.9,
             "#4d9221"
            ],
            [
             1,
             "#276419"
            ]
           ],
           "sequential": [
            [
             0,
             "#0d0887"
            ],
            [
             0.1111111111111111,
             "#46039f"
            ],
            [
             0.2222222222222222,
             "#7201a8"
            ],
            [
             0.3333333333333333,
             "#9c179e"
            ],
            [
             0.4444444444444444,
             "#bd3786"
            ],
            [
             0.5555555555555556,
             "#d8576b"
            ],
            [
             0.6666666666666666,
             "#ed7953"
            ],
            [
             0.7777777777777778,
             "#fb9f3a"
            ],
            [
             0.8888888888888888,
             "#fdca26"
            ],
            [
             1,
             "#f0f921"
            ]
           ],
           "sequentialminus": [
            [
             0,
             "#0d0887"
            ],
            [
             0.1111111111111111,
             "#46039f"
            ],
            [
             0.2222222222222222,
             "#7201a8"
            ],
            [
             0.3333333333333333,
             "#9c179e"
            ],
            [
             0.4444444444444444,
             "#bd3786"
            ],
            [
             0.5555555555555556,
             "#d8576b"
            ],
            [
             0.6666666666666666,
             "#ed7953"
            ],
            [
             0.7777777777777778,
             "#fb9f3a"
            ],
            [
             0.8888888888888888,
             "#fdca26"
            ],
            [
             1,
             "#f0f921"
            ]
           ]
          },
          "colorway": [
           "#636efa",
           "#EF553B",
           "#00cc96",
           "#ab63fa",
           "#FFA15A",
           "#19d3f3",
           "#FF6692",
           "#B6E880",
           "#FF97FF",
           "#FECB52"
          ],
          "font": {
           "color": "#2a3f5f"
          },
          "geo": {
           "bgcolor": "white",
           "lakecolor": "white",
           "landcolor": "#E5ECF6",
           "showlakes": true,
           "showland": true,
           "subunitcolor": "white"
          },
          "hoverlabel": {
           "align": "left"
          },
          "hovermode": "closest",
          "mapbox": {
           "style": "light"
          },
          "paper_bgcolor": "white",
          "plot_bgcolor": "#E5ECF6",
          "polar": {
           "angularaxis": {
            "gridcolor": "white",
            "linecolor": "white",
            "ticks": ""
           },
           "bgcolor": "#E5ECF6",
           "radialaxis": {
            "gridcolor": "white",
            "linecolor": "white",
            "ticks": ""
           }
          },
          "scene": {
           "xaxis": {
            "backgroundcolor": "#E5ECF6",
            "gridcolor": "white",
            "gridwidth": 2,
            "linecolor": "white",
            "showbackground": true,
            "ticks": "",
            "zerolinecolor": "white"
           },
           "yaxis": {
            "backgroundcolor": "#E5ECF6",
            "gridcolor": "white",
            "gridwidth": 2,
            "linecolor": "white",
            "showbackground": true,
            "ticks": "",
            "zerolinecolor": "white"
           },
           "zaxis": {
            "backgroundcolor": "#E5ECF6",
            "gridcolor": "white",
            "gridwidth": 2,
            "linecolor": "white",
            "showbackground": true,
            "ticks": "",
            "zerolinecolor": "white"
           }
          },
          "shapedefaults": {
           "line": {
            "color": "#2a3f5f"
           }
          },
          "ternary": {
           "aaxis": {
            "gridcolor": "white",
            "linecolor": "white",
            "ticks": ""
           },
           "baxis": {
            "gridcolor": "white",
            "linecolor": "white",
            "ticks": ""
           },
           "bgcolor": "#E5ECF6",
           "caxis": {
            "gridcolor": "white",
            "linecolor": "white",
            "ticks": ""
           }
          },
          "title": {
           "x": 0.05
          },
          "xaxis": {
           "automargin": true,
           "gridcolor": "white",
           "linecolor": "white",
           "ticks": "",
           "title": {
            "standoff": 15
           },
           "zerolinecolor": "white",
           "zerolinewidth": 2
          },
          "yaxis": {
           "automargin": true,
           "gridcolor": "white",
           "linecolor": "white",
           "ticks": "",
           "title": {
            "standoff": 15
           },
           "zerolinecolor": "white",
           "zerolinewidth": 2
          }
         }
        },
        "title": {
         "text": "DGI : 5.456921"
        },
        "xaxis": {
         "title": {
          "text": "Sense Features"
         }
        },
        "yaxis": {
         "title": {
          "text": "Dimensions"
         }
        }
       }
      },
      "text/html": [
       "<div>                            <div id=\"a187733a-d665-41f0-af41-7e60cc68f902\" class=\"plotly-graph-div\" style=\"height:525px; width:100%;\"></div>            <script type=\"text/javascript\">                require([\"plotly\"], function(Plotly) {                    window.PLOTLYENV=window.PLOTLYENV || {};                                    if (document.getElementById(\"a187733a-d665-41f0-af41-7e60cc68f902\")) {                    Plotly.newPlot(                        \"a187733a-d665-41f0-af41-7e60cc68f902\",                        [{\"x\":[\"Degree\",\"Clustering Coefficient\",\"Personalized Page Rank - Standard Deviation\",\"Average Neighbor Degree\",\"Average Neighbor Clustering\",\"Eccentricity\",\"Katz Centrality\"],\"z\":[[0.0,0.0,0.0,0.0,0.0,0.0,0.0],[0.0,0.0,0.0,0.0,0.0,0.0,0.0],[0.0,0.0,0.0,0.0,0.0,0.0,0.0],[0.0,0.0,0.0,0.0,0.0,0.0,0.0],[0.0,0.0,0.0,0.0,0.0,0.0,0.0],[0.0,0.0,0.0,0.0,0.0,0.0,0.0],[0.0,0.0,0.0,0.0,0.0,0.0,0.0],[0.0,0.0,0.0,0.0,0.0,0.0,0.0],[0.0,0.0,0.0,0.0,0.0,0.0,0.0],[0.0,0.0,0.0,0.0,0.0,0.0,0.0],[0.0,0.0,0.0,0.0,0.0,0.0,0.0],[0.0,0.0,0.0,0.0,0.0,0.0,0.0],[0.0,0.0,0.0,0.0,0.0,0.0,0.0],[0.0,0.0,0.0,0.0,0.0,0.0,0.0],[0.0,0.0,0.0,0.0,0.0,0.0,0.0],[0.0,0.0,0.0,0.0,0.0,0.0,0.0],[0.0,0.0,0.0,0.0,0.0,0.0,0.0],[0.0,0.0,0.0,0.0,0.0,0.0,0.0],[0.0,0.0,0.0,0.0,0.0,0.0,0.0],[0.0,0.0,0.0,0.0,0.0,0.0,0.0],[0.5081292986869812,0.0,0.0,0.0,0.0,0.0,0.0],[0.0,0.0,0.0,0.0,0.0,0.0,0.0],[0.0,0.0,0.0,0.0,0.0,0.0,0.0],[0.0,0.0,0.0,0.0,0.0,0.0,0.0],[0.0,0.0,0.0,0.0,0.15814265608787537,0.0,0.0],[0.0,0.0,0.0,0.0,0.0,0.0,0.0],[0.0,0.0,0.0,0.0,0.0,0.0,0.0],[0.0,0.0,0.0,0.0,0.0,0.0,0.0],[0.0,0.0,0.0,0.0,0.0,0.0,0.0],[0.0,0.0,0.0,0.0,0.0,0.0,0.0],[0.0,0.0,0.0,0.0,0.0,0.0,0.0],[0.0,0.0,0.0,0.0,0.0,0.0,0.0],[0.0,0.0,0.0,0.0,0.0,0.0,0.0],[0.0,0.0,0.0,0.0,0.0,0.0,0.0],[0.0,0.0,0.0,0.0,0.0,0.0,0.0],[0.0,0.0,0.0,0.0,0.0,0.0,0.0],[0.0,0.0,0.0,0.0,0.0,0.0,0.0],[0.0,0.0,0.0,0.0,0.0,0.0,0.13534195721149445],[0.0,0.0,0.0,0.0,0.0,0.0,0.0],[0.0,0.0,0.0,0.0,0.0,0.0,0.0],[0.0,0.0,0.0,0.0,0.0,0.0,0.6268505454063416],[0.0,0.0,0.0,0.0,0.0,0.0,0.0],[0.0,0.0,0.0,0.0,0.0,0.0,0.0],[0.0,0.0,0.0,0.0,0.0,0.0,0.0],[0.0,0.0,0.0,0.0,0.0,0.0,0.0],[0.0,0.0,0.0,0.0,0.0,0.0,0.0],[0.0,0.0,0.0,0.0,0.0,0.0,0.0],[0.0,1.0,0.0,0.0,0.0,0.0,0.0],[0.0,0.0,0.0,0.0,0.0,0.0,0.0],[0.0,0.0,0.0,0.0,0.12126658111810684,0.0,0.0],[0.0,0.0,0.0,0.0,0.0,0.0,0.0],[0.0,0.0,0.0,0.0,0.0,0.0,0.0],[0.0,0.0,0.0,0.0,0.0,0.0,0.0],[0.0,0.0,0.0,0.0,0.0,0.0,0.0],[0.0,0.0,0.0,0.3817053735256195,0.16862617433071136,0.0,0.0],[0.0,0.0,0.0,0.0,0.0,0.0,0.0],[0.0,0.0,0.0,0.0,0.0,0.0,0.0],[0.0,0.0,0.0,0.0,0.0,0.44264164566993713,0.0],[0.0,0.0,0.0,0.0,0.0,0.0,0.0],[0.0,0.0,0.0,0.0,0.0,0.0,0.0],[0.0,0.0,0.0,0.0,0.0,0.0,0.0],[0.0,0.0,0.0,0.0,0.0,0.0,0.0],[0.0,0.0,0.0,0.0,0.0,0.0,0.0],[0.0,0.0,0.0,0.0,0.0,0.0,0.0],[0.0,0.0,0.0,0.0,0.005218556150794029,0.0,0.0],[0.0,0.0,0.0,0.0,0.0,0.0,0.0],[0.0,0.0,0.0,0.0,0.0,0.0,0.0],[0.0,0.0,0.0,0.0,0.0,0.0,0.0],[0.0,0.0,0.0,0.0,0.0,0.0,0.0],[0.0,0.0,0.0,0.0,0.0,0.0,0.0],[0.0,0.0,0.0,0.0,0.0,0.0,0.0],[0.0,0.0,0.0,0.0,0.0,0.06813604384660721,0.0],[0.0,0.0,0.0,0.0,0.0,0.0,0.0],[0.0,0.0,0.0,0.0,0.0,0.015562422573566437,0.0],[0.0,0.0,0.0,0.0,0.0,0.0,0.0],[0.0,0.0,0.0,0.0,0.40753692388534546,0.0,0.0],[0.0,0.0,0.5611241459846497,0.0,0.0,0.0,0.0],[0.0,0.0,0.0,0.0,0.0,0.0,0.0],[0.0,0.0,0.0,0.0,0.0,0.0,0.0],[0.0,0.0,0.0,0.0,0.0,0.0,0.0],[0.0,0.0,0.0,0.0,0.0,0.0,0.0],[0.0,0.0,0.0,0.0,0.0,0.0,0.0],[0.0,0.0,0.0,0.0,0.0,0.0,0.0],[0.0,0.0,0.0,0.0,0.0,0.0,0.01150382962077856],[0.0,0.0,0.8601149320602417,0.0,0.0,0.0,0.0],[0.0,0.0,0.0,0.0,0.0,0.0,0.0],[0.0,0.0,0.0,0.0,0.0,0.0,0.0],[0.0,0.0,0.0,0.0,0.0,0.0,0.0],[0.0,0.0,0.0,0.0,0.0,0.0,0.06644085049629211],[0.0,0.0,0.0,0.0,0.0,0.0,0.0],[0.0,0.0,0.0,0.0,0.0,0.0,0.20072555541992188],[0.0,0.0,0.0,0.0,0.0,0.0,0.0],[0.0,0.0,0.0,0.0,0.0,0.0,0.0],[0.0,0.0,0.0,0.0,0.0,0.0,0.0],[0.0,0.0,0.0,0.0,0.0,0.0,0.0],[0.0,0.0,0.0,0.0,0.0,0.0,0.0],[0.0,0.0,0.0,0.0,0.0,0.0,0.0],[0.0,0.0,0.0,0.0,0.0,0.0,0.0],[0.0,0.0,0.0,0.0,0.0,0.0,0.0],[0.0,0.0,0.0,0.0,0.0,0.0,0.0],[0.0,0.0,0.0,0.0,0.0,0.0,0.0],[0.0,0.0,0.0,0.0,0.0,0.4440050721168518,0.0],[0.0,0.0,0.0,0.0,0.0,0.0,0.0],[0.0,0.0,0.0,0.0,0.0,0.0,0.0],[0.0,0.0,0.0,0.0,0.0,0.0,0.0],[0.0,0.0,0.0,0.0,0.0,0.0,0.0],[0.0,0.0,0.0,0.0,0.0,0.0,0.0],[0.0,0.0,0.0,0.0,0.0,0.0,0.09592922031879425],[0.0,0.0,0.0,0.0,0.0,0.0,0.0],[0.0,0.0,0.0,0.0,0.0,0.0,0.0],[0.0,0.0,0.0,0.0,0.0,0.0,0.0],[0.0,0.0,0.0,0.0,0.0,0.0,0.0],[0.0,0.0,0.0,0.0,0.0,0.0,0.0],[0.0,0.0,0.0,0.0,0.0,0.0,0.0],[0.0,0.0,0.0,0.0,0.0,0.0,0.0],[0.0,0.0,0.0,0.0,0.0,0.0,0.0],[0.0,0.0,0.0,0.0,0.0,0.0,0.0],[0.0,0.0,0.0,0.0,0.0,0.0,0.0],[0.0,0.0,0.0,0.0,0.0,0.020918264985084534,0.0],[0.0,0.0,0.0,0.0,0.0,0.0,0.0],[0.605912446975708,0.0,0.0,0.0,0.0,0.0,0.0],[0.0,0.06564269959926605,0.0,0.0,0.0,0.0,0.0],[0.0,0.0,0.0,0.0,0.0,0.0,0.0],[0.0,0.0,0.0,0.0,0.0,0.0,0.0],[0.0,0.0,0.0,0.0,0.0,0.0,0.0],[0.0,0.0,0.0,0.0,0.0,0.0,0.0],[0.0,0.0,0.0,0.7522587180137634,0.0,0.0,0.0],[0.0,0.0,0.0,0.0,0.0,0.0,0.0]],\"type\":\"heatmap\"}],                        {\"template\":{\"data\":{\"histogram2dcontour\":[{\"type\":\"histogram2dcontour\",\"colorbar\":{\"outlinewidth\":0,\"ticks\":\"\"},\"colorscale\":[[0.0,\"#0d0887\"],[0.1111111111111111,\"#46039f\"],[0.2222222222222222,\"#7201a8\"],[0.3333333333333333,\"#9c179e\"],[0.4444444444444444,\"#bd3786\"],[0.5555555555555556,\"#d8576b\"],[0.6666666666666666,\"#ed7953\"],[0.7777777777777778,\"#fb9f3a\"],[0.8888888888888888,\"#fdca26\"],[1.0,\"#f0f921\"]]}],\"choropleth\":[{\"type\":\"choropleth\",\"colorbar\":{\"outlinewidth\":0,\"ticks\":\"\"}}],\"histogram2d\":[{\"type\":\"histogram2d\",\"colorbar\":{\"outlinewidth\":0,\"ticks\":\"\"},\"colorscale\":[[0.0,\"#0d0887\"],[0.1111111111111111,\"#46039f\"],[0.2222222222222222,\"#7201a8\"],[0.3333333333333333,\"#9c179e\"],[0.4444444444444444,\"#bd3786\"],[0.5555555555555556,\"#d8576b\"],[0.6666666666666666,\"#ed7953\"],[0.7777777777777778,\"#fb9f3a\"],[0.8888888888888888,\"#fdca26\"],[1.0,\"#f0f921\"]]}],\"heatmap\":[{\"type\":\"heatmap\",\"colorbar\":{\"outlinewidth\":0,\"ticks\":\"\"},\"colorscale\":[[0.0,\"#0d0887\"],[0.1111111111111111,\"#46039f\"],[0.2222222222222222,\"#7201a8\"],[0.3333333333333333,\"#9c179e\"],[0.4444444444444444,\"#bd3786\"],[0.5555555555555556,\"#d8576b\"],[0.6666666666666666,\"#ed7953\"],[0.7777777777777778,\"#fb9f3a\"],[0.8888888888888888,\"#fdca26\"],[1.0,\"#f0f921\"]]}],\"heatmapgl\":[{\"type\":\"heatmapgl\",\"colorbar\":{\"outlinewidth\":0,\"ticks\":\"\"},\"colorscale\":[[0.0,\"#0d0887\"],[0.1111111111111111,\"#46039f\"],[0.2222222222222222,\"#7201a8\"],[0.3333333333333333,\"#9c179e\"],[0.4444444444444444,\"#bd3786\"],[0.5555555555555556,\"#d8576b\"],[0.6666666666666666,\"#ed7953\"],[0.7777777777777778,\"#fb9f3a\"],[0.8888888888888888,\"#fdca26\"],[1.0,\"#f0f921\"]]}],\"contourcarpet\":[{\"type\":\"contourcarpet\",\"colorbar\":{\"outlinewidth\":0,\"ticks\":\"\"}}],\"contour\":[{\"type\":\"contour\",\"colorbar\":{\"outlinewidth\":0,\"ticks\":\"\"},\"colorscale\":[[0.0,\"#0d0887\"],[0.1111111111111111,\"#46039f\"],[0.2222222222222222,\"#7201a8\"],[0.3333333333333333,\"#9c179e\"],[0.4444444444444444,\"#bd3786\"],[0.5555555555555556,\"#d8576b\"],[0.6666666666666666,\"#ed7953\"],[0.7777777777777778,\"#fb9f3a\"],[0.8888888888888888,\"#fdca26\"],[1.0,\"#f0f921\"]]}],\"surface\":[{\"type\":\"surface\",\"colorbar\":{\"outlinewidth\":0,\"ticks\":\"\"},\"colorscale\":[[0.0,\"#0d0887\"],[0.1111111111111111,\"#46039f\"],[0.2222222222222222,\"#7201a8\"],[0.3333333333333333,\"#9c179e\"],[0.4444444444444444,\"#bd3786\"],[0.5555555555555556,\"#d8576b\"],[0.6666666666666666,\"#ed7953\"],[0.7777777777777778,\"#fb9f3a\"],[0.8888888888888888,\"#fdca26\"],[1.0,\"#f0f921\"]]}],\"mesh3d\":[{\"type\":\"mesh3d\",\"colorbar\":{\"outlinewidth\":0,\"ticks\":\"\"}}],\"scatter\":[{\"fillpattern\":{\"fillmode\":\"overlay\",\"size\":10,\"solidity\":0.2},\"type\":\"scatter\"}],\"parcoords\":[{\"type\":\"parcoords\",\"line\":{\"colorbar\":{\"outlinewidth\":0,\"ticks\":\"\"}}}],\"scatterpolargl\":[{\"type\":\"scatterpolargl\",\"marker\":{\"colorbar\":{\"outlinewidth\":0,\"ticks\":\"\"}}}],\"bar\":[{\"error_x\":{\"color\":\"#2a3f5f\"},\"error_y\":{\"color\":\"#2a3f5f\"},\"marker\":{\"line\":{\"color\":\"#E5ECF6\",\"width\":0.5},\"pattern\":{\"fillmode\":\"overlay\",\"size\":10,\"solidity\":0.2}},\"type\":\"bar\"}],\"scattergeo\":[{\"type\":\"scattergeo\",\"marker\":{\"colorbar\":{\"outlinewidth\":0,\"ticks\":\"\"}}}],\"scatterpolar\":[{\"type\":\"scatterpolar\",\"marker\":{\"colorbar\":{\"outlinewidth\":0,\"ticks\":\"\"}}}],\"histogram\":[{\"marker\":{\"pattern\":{\"fillmode\":\"overlay\",\"size\":10,\"solidity\":0.2}},\"type\":\"histogram\"}],\"scattergl\":[{\"type\":\"scattergl\",\"marker\":{\"colorbar\":{\"outlinewidth\":0,\"ticks\":\"\"}}}],\"scatter3d\":[{\"type\":\"scatter3d\",\"line\":{\"colorbar\":{\"outlinewidth\":0,\"ticks\":\"\"}},\"marker\":{\"colorbar\":{\"outlinewidth\":0,\"ticks\":\"\"}}}],\"scattermapbox\":[{\"type\":\"scattermapbox\",\"marker\":{\"colorbar\":{\"outlinewidth\":0,\"ticks\":\"\"}}}],\"scatterternary\":[{\"type\":\"scatterternary\",\"marker\":{\"colorbar\":{\"outlinewidth\":0,\"ticks\":\"\"}}}],\"scattercarpet\":[{\"type\":\"scattercarpet\",\"marker\":{\"colorbar\":{\"outlinewidth\":0,\"ticks\":\"\"}}}],\"carpet\":[{\"aaxis\":{\"endlinecolor\":\"#2a3f5f\",\"gridcolor\":\"white\",\"linecolor\":\"white\",\"minorgridcolor\":\"white\",\"startlinecolor\":\"#2a3f5f\"},\"baxis\":{\"endlinecolor\":\"#2a3f5f\",\"gridcolor\":\"white\",\"linecolor\":\"white\",\"minorgridcolor\":\"white\",\"startlinecolor\":\"#2a3f5f\"},\"type\":\"carpet\"}],\"table\":[{\"cells\":{\"fill\":{\"color\":\"#EBF0F8\"},\"line\":{\"color\":\"white\"}},\"header\":{\"fill\":{\"color\":\"#C8D4E3\"},\"line\":{\"color\":\"white\"}},\"type\":\"table\"}],\"barpolar\":[{\"marker\":{\"line\":{\"color\":\"#E5ECF6\",\"width\":0.5},\"pattern\":{\"fillmode\":\"overlay\",\"size\":10,\"solidity\":0.2}},\"type\":\"barpolar\"}],\"pie\":[{\"automargin\":true,\"type\":\"pie\"}]},\"layout\":{\"autotypenumbers\":\"strict\",\"colorway\":[\"#636efa\",\"#EF553B\",\"#00cc96\",\"#ab63fa\",\"#FFA15A\",\"#19d3f3\",\"#FF6692\",\"#B6E880\",\"#FF97FF\",\"#FECB52\"],\"font\":{\"color\":\"#2a3f5f\"},\"hovermode\":\"closest\",\"hoverlabel\":{\"align\":\"left\"},\"paper_bgcolor\":\"white\",\"plot_bgcolor\":\"#E5ECF6\",\"polar\":{\"bgcolor\":\"#E5ECF6\",\"angularaxis\":{\"gridcolor\":\"white\",\"linecolor\":\"white\",\"ticks\":\"\"},\"radialaxis\":{\"gridcolor\":\"white\",\"linecolor\":\"white\",\"ticks\":\"\"}},\"ternary\":{\"bgcolor\":\"#E5ECF6\",\"aaxis\":{\"gridcolor\":\"white\",\"linecolor\":\"white\",\"ticks\":\"\"},\"baxis\":{\"gridcolor\":\"white\",\"linecolor\":\"white\",\"ticks\":\"\"},\"caxis\":{\"gridcolor\":\"white\",\"linecolor\":\"white\",\"ticks\":\"\"}},\"coloraxis\":{\"colorbar\":{\"outlinewidth\":0,\"ticks\":\"\"}},\"colorscale\":{\"sequential\":[[0.0,\"#0d0887\"],[0.1111111111111111,\"#46039f\"],[0.2222222222222222,\"#7201a8\"],[0.3333333333333333,\"#9c179e\"],[0.4444444444444444,\"#bd3786\"],[0.5555555555555556,\"#d8576b\"],[0.6666666666666666,\"#ed7953\"],[0.7777777777777778,\"#fb9f3a\"],[0.8888888888888888,\"#fdca26\"],[1.0,\"#f0f921\"]],\"sequentialminus\":[[0.0,\"#0d0887\"],[0.1111111111111111,\"#46039f\"],[0.2222222222222222,\"#7201a8\"],[0.3333333333333333,\"#9c179e\"],[0.4444444444444444,\"#bd3786\"],[0.5555555555555556,\"#d8576b\"],[0.6666666666666666,\"#ed7953\"],[0.7777777777777778,\"#fb9f3a\"],[0.8888888888888888,\"#fdca26\"],[1.0,\"#f0f921\"]],\"diverging\":[[0,\"#8e0152\"],[0.1,\"#c51b7d\"],[0.2,\"#de77ae\"],[0.3,\"#f1b6da\"],[0.4,\"#fde0ef\"],[0.5,\"#f7f7f7\"],[0.6,\"#e6f5d0\"],[0.7,\"#b8e186\"],[0.8,\"#7fbc41\"],[0.9,\"#4d9221\"],[1,\"#276419\"]]},\"xaxis\":{\"gridcolor\":\"white\",\"linecolor\":\"white\",\"ticks\":\"\",\"title\":{\"standoff\":15},\"zerolinecolor\":\"white\",\"automargin\":true,\"zerolinewidth\":2},\"yaxis\":{\"gridcolor\":\"white\",\"linecolor\":\"white\",\"ticks\":\"\",\"title\":{\"standoff\":15},\"zerolinecolor\":\"white\",\"automargin\":true,\"zerolinewidth\":2},\"scene\":{\"xaxis\":{\"backgroundcolor\":\"#E5ECF6\",\"gridcolor\":\"white\",\"linecolor\":\"white\",\"showbackground\":true,\"ticks\":\"\",\"zerolinecolor\":\"white\",\"gridwidth\":2},\"yaxis\":{\"backgroundcolor\":\"#E5ECF6\",\"gridcolor\":\"white\",\"linecolor\":\"white\",\"showbackground\":true,\"ticks\":\"\",\"zerolinecolor\":\"white\",\"gridwidth\":2},\"zaxis\":{\"backgroundcolor\":\"#E5ECF6\",\"gridcolor\":\"white\",\"linecolor\":\"white\",\"showbackground\":true,\"ticks\":\"\",\"zerolinecolor\":\"white\",\"gridwidth\":2}},\"shapedefaults\":{\"line\":{\"color\":\"#2a3f5f\"}},\"annotationdefaults\":{\"arrowcolor\":\"#2a3f5f\",\"arrowhead\":0,\"arrowwidth\":1},\"geo\":{\"bgcolor\":\"white\",\"landcolor\":\"#E5ECF6\",\"subunitcolor\":\"white\",\"showland\":true,\"showlakes\":true,\"lakecolor\":\"white\"},\"title\":{\"x\":0.05},\"mapbox\":{\"style\":\"light\"}}},\"title\":{\"text\":\"DGI : 5.456921\"},\"xaxis\":{\"title\":{\"text\":\"Sense Features\"}},\"yaxis\":{\"title\":{\"text\":\"Dimensions\"}}},                        {\"responsive\": true}                    ).then(function(){\n",
       "                            \n",
       "var gd = document.getElementById('a187733a-d665-41f0-af41-7e60cc68f902');\n",
       "var x = new MutationObserver(function (mutations, observer) {{\n",
       "        var display = window.getComputedStyle(gd).display;\n",
       "        if (!display || display === 'none') {{\n",
       "            console.log([gd, 'removed!']);\n",
       "            Plotly.purge(gd);\n",
       "            observer.disconnect();\n",
       "        }}\n",
       "}});\n",
       "\n",
       "// Listen for the removal of the full notebook cells\n",
       "var notebookContainer = gd.closest('#notebook-container');\n",
       "if (notebookContainer) {{\n",
       "    x.observe(notebookContainer, {childList: true});\n",
       "}}\n",
       "\n",
       "// Listen for the clearing of the current output cell\n",
       "var outputEl = gd.closest('.output');\n",
       "if (outputEl) {{\n",
       "    x.observe(outputEl, {childList: true});\n",
       "}}\n",
       "\n",
       "                        })                };                });            </script>        </div>"
      ]
     },
     "metadata": {},
     "output_type": "display_data"
    },
    {
     "data": {
      "application/vnd.plotly.v1+json": {
       "config": {
        "plotlyServerURL": "https://plot.ly"
       },
       "data": [
        {
         "type": "heatmap",
         "x": [
          "Degree",
          "Clustering Coefficient",
          "Personalized Page Rank - Standard Deviation",
          "Average Neighbor Degree",
          "Average Neighbor Clustering",
          "Eccentricity",
          "Katz Centrality"
         ],
         "z": [
          [
           0,
           0,
           0,
           0,
           0,
           0,
           0
          ],
          [
           0,
           0,
           0,
           0,
           0,
           0,
           0
          ],
          [
           0,
           0,
           0,
           0,
           0,
           0,
           0
          ],
          [
           0,
           0,
           0,
           0,
           0,
           0,
           0.0035263607278466225
          ],
          [
           0,
           0,
           0.09830277413129807,
           0,
           0,
           0,
           0
          ],
          [
           0,
           0,
           0,
           0,
           0,
           0,
           0
          ],
          [
           0,
           0,
           0,
           0,
           0,
           0,
           0
          ],
          [
           0,
           0,
           0,
           0.0030634847935289145,
           0,
           0,
           0.00754835270345211
          ],
          [
           0,
           0,
           0,
           0,
           0,
           0,
           0
          ],
          [
           0,
           0,
           0,
           0.050076041370630264,
           0,
           0.018055925145745277,
           0.004377709701657295
          ],
          [
           0,
           0,
           0,
           0,
           0,
           0,
           0
          ],
          [
           0,
           0,
           0,
           0,
           0,
           0,
           0
          ],
          [
           0,
           0,
           0,
           0,
           0,
           0,
           0
          ],
          [
           0,
           0,
           0,
           0,
           0,
           0,
           0
          ],
          [
           0,
           0,
           0,
           0,
           0,
           0,
           0
          ],
          [
           0,
           0,
           0,
           0,
           0,
           0,
           0
          ],
          [
           0,
           0,
           0,
           0.0024543453473597765,
           0,
           0,
           0
          ],
          [
           0,
           0,
           0,
           0,
           0,
           0,
           0
          ],
          [
           0,
           0,
           0,
           0,
           0,
           0,
           0
          ],
          [
           0,
           0,
           0,
           0,
           0,
           0,
           0
          ],
          [
           0,
           0,
           0,
           0,
           0,
           0,
           0
          ],
          [
           0,
           0,
           0.06042391061782837,
           0,
           0,
           0,
           0
          ],
          [
           0,
           0,
           0,
           0,
           0.013618601486086845,
           0,
           0.017712784931063652
          ],
          [
           0,
           0,
           0,
           0,
           0,
           0.0026419374626129866,
           0
          ],
          [
           0,
           0,
           0,
           0,
           0,
           0,
           0
          ],
          [
           0,
           0,
           0,
           0,
           0.005383384879678488,
           0,
           0
          ],
          [
           0,
           0,
           0,
           0,
           0,
           0,
           0
          ],
          [
           0,
           0,
           0,
           0,
           0,
           0,
           0.016925927251577377
          ],
          [
           0,
           0,
           0,
           0,
           0,
           0,
           0
          ],
          [
           0,
           0,
           0,
           0,
           0,
           0,
           0
          ],
          [
           0,
           0,
           0,
           0,
           0,
           0,
           0
          ],
          [
           0,
           0,
           0,
           0,
           0,
           0,
           0
          ],
          [
           0,
           0,
           0,
           0,
           0,
           0,
           0
          ],
          [
           0,
           0,
           0.06502676010131836,
           0,
           0,
           0,
           0
          ],
          [
           0,
           0,
           0,
           0,
           0,
           0,
           0
          ],
          [
           0,
           0,
           0,
           0,
           0,
           0,
           0
          ],
          [
           0,
           0,
           0,
           0,
           0,
           0,
           0
          ],
          [
           0,
           0,
           0,
           0.5795743465423584,
           0,
           0.5236423015594482,
           0.04802306741476059
          ],
          [
           0,
           0,
           0,
           0,
           0,
           0,
           0
          ],
          [
           0,
           0,
           0,
           0,
           0,
           0,
           0
          ],
          [
           0,
           0,
           0,
           0,
           0,
           0,
           0
          ],
          [
           0,
           0.026795266196131706,
           0,
           0,
           0,
           0,
           0
          ],
          [
           0,
           0,
           0,
           0,
           0,
           0,
           0
          ],
          [
           0,
           0,
           0,
           0,
           0,
           0,
           0
          ],
          [
           0,
           0,
           0,
           0,
           0,
           0,
           0
          ],
          [
           0,
           0,
           0,
           0,
           0,
           0,
           0
          ],
          [
           0,
           0,
           0,
           0,
           0,
           0,
           0
          ],
          [
           0,
           0,
           0,
           0,
           0,
           0,
           0
          ],
          [
           0,
           0,
           0,
           0,
           0,
           0,
           0
          ],
          [
           0,
           0,
           0,
           0,
           0,
           0,
           0
          ],
          [
           0,
           0,
           0,
           0,
           0,
           0,
           0
          ],
          [
           0,
           0,
           0,
           0,
           0,
           0,
           0
          ],
          [
           0,
           0,
           0,
           0,
           0,
           0.005255465861409903,
           0
          ],
          [
           0,
           0,
           0,
           0,
           0,
           0,
           0
          ],
          [
           0,
           0.034923966974020004,
           0,
           0.042751848697662354,
           0,
           0,
           0.001939225709065795
          ],
          [
           0,
           0,
           0,
           0,
           0,
           0,
           0
          ],
          [
           0,
           0,
           0,
           0,
           0,
           0,
           0
          ],
          [
           0,
           0,
           0,
           0,
           0,
           0,
           0
          ],
          [
           0,
           0,
           0,
           0,
           0,
           0,
           0
          ],
          [
           0,
           0,
           0,
           0,
           0.011281208135187626,
           0,
           0
          ],
          [
           0,
           0,
           0,
           0,
           0.053009264171123505,
           0.0645860880613327,
           0
          ],
          [
           0,
           0,
           0,
           0,
           0,
           0,
           0
          ],
          [
           0,
           0.02993338368833065,
           0,
           0,
           0,
           0.00022464447829406708,
           0.002274404978379607
          ],
          [
           0,
           0,
           0,
           0,
           0,
           0,
           0
          ],
          [
           0,
           0,
           0,
           0,
           0,
           0,
           0
          ],
          [
           0,
           0,
           0,
           0,
           0,
           0,
           0
          ],
          [
           0,
           0,
           0.06597096472978592,
           0,
           0,
           0,
           0
          ],
          [
           0,
           0,
           0,
           0,
           0,
           0,
           0
          ],
          [
           0,
           0,
           0,
           0,
           0,
           0,
           0
          ],
          [
           0,
           0,
           0,
           0,
           0,
           0,
           0
          ],
          [
           0,
           0,
           0,
           0,
           0,
           0,
           0
          ],
          [
           0,
           0,
           0,
           0,
           0,
           0,
           0
          ],
          [
           0,
           0,
           0,
           0,
           0,
           0,
           0
          ],
          [
           0.24544571340084076,
           0,
           0,
           0,
           0,
           0,
           0
          ],
          [
           0,
           0,
           0.010241169482469559,
           0,
           0,
           0,
           0
          ],
          [
           0,
           0,
           0,
           0,
           0,
           0,
           0
          ],
          [
           0,
           0,
           0,
           0,
           0,
           0,
           0
          ],
          [
           0,
           0,
           0,
           0,
           0,
           0,
           0
          ],
          [
           0,
           0,
           0,
           0,
           0,
           0.002523287432268262,
           0
          ],
          [
           0,
           0,
           0,
           0,
           0,
           0,
           0
          ],
          [
           0,
           0.0020937358494848013,
           0,
           0,
           0,
           0.018479106947779655,
           0
          ],
          [
           0,
           0,
           0,
           0,
           0,
           0,
           0.003761589527130127
          ],
          [
           0,
           0,
           0,
           0,
           0,
           0.014604081399738789,
           0
          ],
          [
           0,
           0,
           0,
           0,
           0,
           0,
           0
          ],
          [
           0,
           0,
           0,
           0,
           0,
           0,
           0
          ],
          [
           0,
           0,
           0,
           0,
           0,
           0.008337183855473995,
           0.012563844211399555
          ],
          [
           0,
           0,
           0,
           0,
           0,
           0,
           0
          ],
          [
           0,
           0,
           0,
           0,
           0,
           0,
           0
          ],
          [
           0,
           0.06978894025087357,
           0,
           0,
           0,
           0,
           0
          ],
          [
           0,
           0,
           0.11351117491722107,
           0,
           0,
           0,
           0
          ],
          [
           0,
           0,
           0,
           0,
           0,
           0,
           0
          ],
          [
           0,
           0,
           0,
           0,
           0,
           0.004187450278550386,
           0.005975585430860519
          ],
          [
           0,
           0,
           0,
           0,
           0,
           0,
           0
          ],
          [
           0,
           0,
           0,
           0,
           0,
           0,
           0
          ],
          [
           0.11857420951128006,
           0,
           0,
           0,
           0,
           0,
           0
          ],
          [
           0,
           0.01487634889781475,
           0,
           0.022899925708770752,
           0.02258409932255745,
           0,
           0.03332948684692383
          ],
          [
           0,
           0,
           0,
           0,
           0,
           0,
           0
          ],
          [
           0,
           0,
           0,
           0,
           0,
           0,
           0
          ],
          [
           0,
           0,
           0,
           0,
           0,
           0,
           0
          ],
          [
           0,
           0,
           0,
           0,
           0.034512732177972794,
           0,
           0
          ],
          [
           0,
           0,
           0,
           0,
           0,
           0,
           0
          ],
          [
           0,
           0,
           0,
           0,
           0,
           0,
           0
          ],
          [
           0,
           0,
           0,
           0,
           0,
           0.043437711894512177,
           0
          ],
          [
           0,
           0,
           0,
           1,
           0,
           0,
           0
          ],
          [
           0,
           0,
           0,
           0,
           0,
           0,
           0
          ],
          [
           0,
           0,
           0,
           0,
           0,
           0,
           0
          ],
          [
           0,
           0,
           0,
           0,
           0,
           0,
           0
          ],
          [
           0,
           0,
           0,
           0,
           0,
           0,
           0
          ],
          [
           0,
           0,
           0,
           0,
           0,
           0,
           0
          ],
          [
           0,
           0,
           0,
           0,
           0,
           0,
           0.003828112268820405
          ],
          [
           0,
           0,
           0,
           0.09056637436151505,
           0.050477635115385056,
           0.004318700172007084,
           0
          ],
          [
           0,
           0,
           0,
           0,
           0,
           0,
           0
          ],
          [
           0,
           0,
           0,
           0,
           0.0037748513277620077,
           0,
           0
          ],
          [
           0,
           0,
           0,
           0,
           0,
           0,
           0
          ],
          [
           0.0056979297660291195,
           0,
           0,
           0,
           0,
           0,
           0
          ],
          [
           0,
           0,
           0,
           0,
           0,
           0,
           0
          ],
          [
           0,
           0,
           0,
           0,
           0,
           0,
           0
          ],
          [
           0,
           0,
           0,
           0,
           0,
           0,
           0
          ],
          [
           0,
           0,
           0,
           0,
           0,
           0,
           0
          ],
          [
           0,
           0,
           0,
           0,
           0,
           0,
           0
          ],
          [
           0,
           0,
           0,
           0,
           0,
           0,
           0
          ],
          [
           0,
           0,
           0,
           0,
           0,
           0,
           0
          ],
          [
           0,
           0.0039770593866705894,
           0,
           0.001540333149023354,
           0,
           0,
           0
          ],
          [
           0.05367523804306984,
           0,
           0,
           0,
           0,
           0,
           0
          ],
          [
           0,
           0,
           0,
           0,
           0,
           0,
           0
          ],
          [
           0,
           0,
           0,
           0,
           0,
           0,
           0
          ],
          [
           0,
           0,
           0,
           0,
           0,
           0,
           0
          ],
          [
           0.013564019463956356,
           0,
           0,
           0,
           0,
           0,
           0
          ]
         ]
        }
       ],
       "layout": {
        "template": {
         "data": {
          "bar": [
           {
            "error_x": {
             "color": "#2a3f5f"
            },
            "error_y": {
             "color": "#2a3f5f"
            },
            "marker": {
             "line": {
              "color": "#E5ECF6",
              "width": 0.5
             },
             "pattern": {
              "fillmode": "overlay",
              "size": 10,
              "solidity": 0.2
             }
            },
            "type": "bar"
           }
          ],
          "barpolar": [
           {
            "marker": {
             "line": {
              "color": "#E5ECF6",
              "width": 0.5
             },
             "pattern": {
              "fillmode": "overlay",
              "size": 10,
              "solidity": 0.2
             }
            },
            "type": "barpolar"
           }
          ],
          "carpet": [
           {
            "aaxis": {
             "endlinecolor": "#2a3f5f",
             "gridcolor": "white",
             "linecolor": "white",
             "minorgridcolor": "white",
             "startlinecolor": "#2a3f5f"
            },
            "baxis": {
             "endlinecolor": "#2a3f5f",
             "gridcolor": "white",
             "linecolor": "white",
             "minorgridcolor": "white",
             "startlinecolor": "#2a3f5f"
            },
            "type": "carpet"
           }
          ],
          "choropleth": [
           {
            "colorbar": {
             "outlinewidth": 0,
             "ticks": ""
            },
            "type": "choropleth"
           }
          ],
          "contour": [
           {
            "colorbar": {
             "outlinewidth": 0,
             "ticks": ""
            },
            "colorscale": [
             [
              0,
              "#0d0887"
             ],
             [
              0.1111111111111111,
              "#46039f"
             ],
             [
              0.2222222222222222,
              "#7201a8"
             ],
             [
              0.3333333333333333,
              "#9c179e"
             ],
             [
              0.4444444444444444,
              "#bd3786"
             ],
             [
              0.5555555555555556,
              "#d8576b"
             ],
             [
              0.6666666666666666,
              "#ed7953"
             ],
             [
              0.7777777777777778,
              "#fb9f3a"
             ],
             [
              0.8888888888888888,
              "#fdca26"
             ],
             [
              1,
              "#f0f921"
             ]
            ],
            "type": "contour"
           }
          ],
          "contourcarpet": [
           {
            "colorbar": {
             "outlinewidth": 0,
             "ticks": ""
            },
            "type": "contourcarpet"
           }
          ],
          "heatmap": [
           {
            "colorbar": {
             "outlinewidth": 0,
             "ticks": ""
            },
            "colorscale": [
             [
              0,
              "#0d0887"
             ],
             [
              0.1111111111111111,
              "#46039f"
             ],
             [
              0.2222222222222222,
              "#7201a8"
             ],
             [
              0.3333333333333333,
              "#9c179e"
             ],
             [
              0.4444444444444444,
              "#bd3786"
             ],
             [
              0.5555555555555556,
              "#d8576b"
             ],
             [
              0.6666666666666666,
              "#ed7953"
             ],
             [
              0.7777777777777778,
              "#fb9f3a"
             ],
             [
              0.8888888888888888,
              "#fdca26"
             ],
             [
              1,
              "#f0f921"
             ]
            ],
            "type": "heatmap"
           }
          ],
          "heatmapgl": [
           {
            "colorbar": {
             "outlinewidth": 0,
             "ticks": ""
            },
            "colorscale": [
             [
              0,
              "#0d0887"
             ],
             [
              0.1111111111111111,
              "#46039f"
             ],
             [
              0.2222222222222222,
              "#7201a8"
             ],
             [
              0.3333333333333333,
              "#9c179e"
             ],
             [
              0.4444444444444444,
              "#bd3786"
             ],
             [
              0.5555555555555556,
              "#d8576b"
             ],
             [
              0.6666666666666666,
              "#ed7953"
             ],
             [
              0.7777777777777778,
              "#fb9f3a"
             ],
             [
              0.8888888888888888,
              "#fdca26"
             ],
             [
              1,
              "#f0f921"
             ]
            ],
            "type": "heatmapgl"
           }
          ],
          "histogram": [
           {
            "marker": {
             "pattern": {
              "fillmode": "overlay",
              "size": 10,
              "solidity": 0.2
             }
            },
            "type": "histogram"
           }
          ],
          "histogram2d": [
           {
            "colorbar": {
             "outlinewidth": 0,
             "ticks": ""
            },
            "colorscale": [
             [
              0,
              "#0d0887"
             ],
             [
              0.1111111111111111,
              "#46039f"
             ],
             [
              0.2222222222222222,
              "#7201a8"
             ],
             [
              0.3333333333333333,
              "#9c179e"
             ],
             [
              0.4444444444444444,
              "#bd3786"
             ],
             [
              0.5555555555555556,
              "#d8576b"
             ],
             [
              0.6666666666666666,
              "#ed7953"
             ],
             [
              0.7777777777777778,
              "#fb9f3a"
             ],
             [
              0.8888888888888888,
              "#fdca26"
             ],
             [
              1,
              "#f0f921"
             ]
            ],
            "type": "histogram2d"
           }
          ],
          "histogram2dcontour": [
           {
            "colorbar": {
             "outlinewidth": 0,
             "ticks": ""
            },
            "colorscale": [
             [
              0,
              "#0d0887"
             ],
             [
              0.1111111111111111,
              "#46039f"
             ],
             [
              0.2222222222222222,
              "#7201a8"
             ],
             [
              0.3333333333333333,
              "#9c179e"
             ],
             [
              0.4444444444444444,
              "#bd3786"
             ],
             [
              0.5555555555555556,
              "#d8576b"
             ],
             [
              0.6666666666666666,
              "#ed7953"
             ],
             [
              0.7777777777777778,
              "#fb9f3a"
             ],
             [
              0.8888888888888888,
              "#fdca26"
             ],
             [
              1,
              "#f0f921"
             ]
            ],
            "type": "histogram2dcontour"
           }
          ],
          "mesh3d": [
           {
            "colorbar": {
             "outlinewidth": 0,
             "ticks": ""
            },
            "type": "mesh3d"
           }
          ],
          "parcoords": [
           {
            "line": {
             "colorbar": {
              "outlinewidth": 0,
              "ticks": ""
             }
            },
            "type": "parcoords"
           }
          ],
          "pie": [
           {
            "automargin": true,
            "type": "pie"
           }
          ],
          "scatter": [
           {
            "fillpattern": {
             "fillmode": "overlay",
             "size": 10,
             "solidity": 0.2
            },
            "type": "scatter"
           }
          ],
          "scatter3d": [
           {
            "line": {
             "colorbar": {
              "outlinewidth": 0,
              "ticks": ""
             }
            },
            "marker": {
             "colorbar": {
              "outlinewidth": 0,
              "ticks": ""
             }
            },
            "type": "scatter3d"
           }
          ],
          "scattercarpet": [
           {
            "marker": {
             "colorbar": {
              "outlinewidth": 0,
              "ticks": ""
             }
            },
            "type": "scattercarpet"
           }
          ],
          "scattergeo": [
           {
            "marker": {
             "colorbar": {
              "outlinewidth": 0,
              "ticks": ""
             }
            },
            "type": "scattergeo"
           }
          ],
          "scattergl": [
           {
            "marker": {
             "colorbar": {
              "outlinewidth": 0,
              "ticks": ""
             }
            },
            "type": "scattergl"
           }
          ],
          "scattermapbox": [
           {
            "marker": {
             "colorbar": {
              "outlinewidth": 0,
              "ticks": ""
             }
            },
            "type": "scattermapbox"
           }
          ],
          "scatterpolar": [
           {
            "marker": {
             "colorbar": {
              "outlinewidth": 0,
              "ticks": ""
             }
            },
            "type": "scatterpolar"
           }
          ],
          "scatterpolargl": [
           {
            "marker": {
             "colorbar": {
              "outlinewidth": 0,
              "ticks": ""
             }
            },
            "type": "scatterpolargl"
           }
          ],
          "scatterternary": [
           {
            "marker": {
             "colorbar": {
              "outlinewidth": 0,
              "ticks": ""
             }
            },
            "type": "scatterternary"
           }
          ],
          "surface": [
           {
            "colorbar": {
             "outlinewidth": 0,
             "ticks": ""
            },
            "colorscale": [
             [
              0,
              "#0d0887"
             ],
             [
              0.1111111111111111,
              "#46039f"
             ],
             [
              0.2222222222222222,
              "#7201a8"
             ],
             [
              0.3333333333333333,
              "#9c179e"
             ],
             [
              0.4444444444444444,
              "#bd3786"
             ],
             [
              0.5555555555555556,
              "#d8576b"
             ],
             [
              0.6666666666666666,
              "#ed7953"
             ],
             [
              0.7777777777777778,
              "#fb9f3a"
             ],
             [
              0.8888888888888888,
              "#fdca26"
             ],
             [
              1,
              "#f0f921"
             ]
            ],
            "type": "surface"
           }
          ],
          "table": [
           {
            "cells": {
             "fill": {
              "color": "#EBF0F8"
             },
             "line": {
              "color": "white"
             }
            },
            "header": {
             "fill": {
              "color": "#C8D4E3"
             },
             "line": {
              "color": "white"
             }
            },
            "type": "table"
           }
          ]
         },
         "layout": {
          "annotationdefaults": {
           "arrowcolor": "#2a3f5f",
           "arrowhead": 0,
           "arrowwidth": 1
          },
          "autotypenumbers": "strict",
          "coloraxis": {
           "colorbar": {
            "outlinewidth": 0,
            "ticks": ""
           }
          },
          "colorscale": {
           "diverging": [
            [
             0,
             "#8e0152"
            ],
            [
             0.1,
             "#c51b7d"
            ],
            [
             0.2,
             "#de77ae"
            ],
            [
             0.3,
             "#f1b6da"
            ],
            [
             0.4,
             "#fde0ef"
            ],
            [
             0.5,
             "#f7f7f7"
            ],
            [
             0.6,
             "#e6f5d0"
            ],
            [
             0.7,
             "#b8e186"
            ],
            [
             0.8,
             "#7fbc41"
            ],
            [
             0.9,
             "#4d9221"
            ],
            [
             1,
             "#276419"
            ]
           ],
           "sequential": [
            [
             0,
             "#0d0887"
            ],
            [
             0.1111111111111111,
             "#46039f"
            ],
            [
             0.2222222222222222,
             "#7201a8"
            ],
            [
             0.3333333333333333,
             "#9c179e"
            ],
            [
             0.4444444444444444,
             "#bd3786"
            ],
            [
             0.5555555555555556,
             "#d8576b"
            ],
            [
             0.6666666666666666,
             "#ed7953"
            ],
            [
             0.7777777777777778,
             "#fb9f3a"
            ],
            [
             0.8888888888888888,
             "#fdca26"
            ],
            [
             1,
             "#f0f921"
            ]
           ],
           "sequentialminus": [
            [
             0,
             "#0d0887"
            ],
            [
             0.1111111111111111,
             "#46039f"
            ],
            [
             0.2222222222222222,
             "#7201a8"
            ],
            [
             0.3333333333333333,
             "#9c179e"
            ],
            [
             0.4444444444444444,
             "#bd3786"
            ],
            [
             0.5555555555555556,
             "#d8576b"
            ],
            [
             0.6666666666666666,
             "#ed7953"
            ],
            [
             0.7777777777777778,
             "#fb9f3a"
            ],
            [
             0.8888888888888888,
             "#fdca26"
            ],
            [
             1,
             "#f0f921"
            ]
           ]
          },
          "colorway": [
           "#636efa",
           "#EF553B",
           "#00cc96",
           "#ab63fa",
           "#FFA15A",
           "#19d3f3",
           "#FF6692",
           "#B6E880",
           "#FF97FF",
           "#FECB52"
          ],
          "font": {
           "color": "#2a3f5f"
          },
          "geo": {
           "bgcolor": "white",
           "lakecolor": "white",
           "landcolor": "#E5ECF6",
           "showlakes": true,
           "showland": true,
           "subunitcolor": "white"
          },
          "hoverlabel": {
           "align": "left"
          },
          "hovermode": "closest",
          "mapbox": {
           "style": "light"
          },
          "paper_bgcolor": "white",
          "plot_bgcolor": "#E5ECF6",
          "polar": {
           "angularaxis": {
            "gridcolor": "white",
            "linecolor": "white",
            "ticks": ""
           },
           "bgcolor": "#E5ECF6",
           "radialaxis": {
            "gridcolor": "white",
            "linecolor": "white",
            "ticks": ""
           }
          },
          "scene": {
           "xaxis": {
            "backgroundcolor": "#E5ECF6",
            "gridcolor": "white",
            "gridwidth": 2,
            "linecolor": "white",
            "showbackground": true,
            "ticks": "",
            "zerolinecolor": "white"
           },
           "yaxis": {
            "backgroundcolor": "#E5ECF6",
            "gridcolor": "white",
            "gridwidth": 2,
            "linecolor": "white",
            "showbackground": true,
            "ticks": "",
            "zerolinecolor": "white"
           },
           "zaxis": {
            "backgroundcolor": "#E5ECF6",
            "gridcolor": "white",
            "gridwidth": 2,
            "linecolor": "white",
            "showbackground": true,
            "ticks": "",
            "zerolinecolor": "white"
           }
          },
          "shapedefaults": {
           "line": {
            "color": "#2a3f5f"
           }
          },
          "ternary": {
           "aaxis": {
            "gridcolor": "white",
            "linecolor": "white",
            "ticks": ""
           },
           "baxis": {
            "gridcolor": "white",
            "linecolor": "white",
            "ticks": ""
           },
           "bgcolor": "#E5ECF6",
           "caxis": {
            "gridcolor": "white",
            "linecolor": "white",
            "ticks": ""
           }
          },
          "title": {
           "x": 0.05
          },
          "xaxis": {
           "automargin": true,
           "gridcolor": "white",
           "linecolor": "white",
           "ticks": "",
           "title": {
            "standoff": 15
           },
           "zerolinecolor": "white",
           "zerolinewidth": 2
          },
          "yaxis": {
           "automargin": true,
           "gridcolor": "white",
           "linecolor": "white",
           "ticks": "",
           "title": {
            "standoff": 15
           },
           "zerolinecolor": "white",
           "zerolinewidth": 2
          }
         }
        },
        "title": {
         "text": "DGI+ : 2.3296692"
        },
        "xaxis": {
         "title": {
          "text": "Sense Features"
         }
        },
        "yaxis": {
         "title": {
          "text": "Dimensions"
         }
        }
       }
      },
      "text/html": [
       "<div>                            <div id=\"0621335f-62b8-4b52-9107-a34382c3910c\" class=\"plotly-graph-div\" style=\"height:525px; width:100%;\"></div>            <script type=\"text/javascript\">                require([\"plotly\"], function(Plotly) {                    window.PLOTLYENV=window.PLOTLYENV || {};                                    if (document.getElementById(\"0621335f-62b8-4b52-9107-a34382c3910c\")) {                    Plotly.newPlot(                        \"0621335f-62b8-4b52-9107-a34382c3910c\",                        [{\"x\":[\"Degree\",\"Clustering Coefficient\",\"Personalized Page Rank - Standard Deviation\",\"Average Neighbor Degree\",\"Average Neighbor Clustering\",\"Eccentricity\",\"Katz Centrality\"],\"z\":[[0.0,0.0,0.0,0.0,0.0,0.0,0.0],[0.0,0.0,0.0,0.0,0.0,0.0,0.0],[0.0,0.0,0.0,0.0,0.0,0.0,0.0],[0.0,0.0,0.0,0.0,0.0,0.0,0.0035263607278466225],[0.0,0.0,0.09830277413129807,0.0,0.0,0.0,0.0],[0.0,0.0,0.0,0.0,0.0,0.0,0.0],[0.0,0.0,0.0,0.0,0.0,0.0,0.0],[0.0,0.0,0.0,0.0030634847935289145,0.0,0.0,0.00754835270345211],[0.0,0.0,0.0,0.0,0.0,0.0,0.0],[0.0,0.0,0.0,0.050076041370630264,0.0,0.018055925145745277,0.004377709701657295],[0.0,0.0,0.0,0.0,0.0,0.0,0.0],[0.0,0.0,0.0,0.0,0.0,0.0,0.0],[0.0,0.0,0.0,0.0,0.0,0.0,0.0],[0.0,0.0,0.0,0.0,0.0,0.0,0.0],[0.0,0.0,0.0,0.0,0.0,0.0,0.0],[0.0,0.0,0.0,0.0,0.0,0.0,0.0],[0.0,0.0,0.0,0.0024543453473597765,0.0,0.0,0.0],[0.0,0.0,0.0,0.0,0.0,0.0,0.0],[0.0,0.0,0.0,0.0,0.0,0.0,0.0],[0.0,0.0,0.0,0.0,0.0,0.0,0.0],[0.0,0.0,0.0,0.0,0.0,0.0,0.0],[0.0,0.0,0.06042391061782837,0.0,0.0,0.0,0.0],[0.0,0.0,0.0,0.0,0.013618601486086845,0.0,0.017712784931063652],[0.0,0.0,0.0,0.0,0.0,0.0026419374626129866,0.0],[0.0,0.0,0.0,0.0,0.0,0.0,0.0],[0.0,0.0,0.0,0.0,0.005383384879678488,0.0,0.0],[0.0,0.0,0.0,0.0,0.0,0.0,0.0],[0.0,0.0,0.0,0.0,0.0,0.0,0.016925927251577377],[0.0,0.0,0.0,0.0,0.0,0.0,0.0],[0.0,0.0,0.0,0.0,0.0,0.0,0.0],[0.0,0.0,0.0,0.0,0.0,0.0,0.0],[0.0,0.0,0.0,0.0,0.0,0.0,0.0],[0.0,0.0,0.0,0.0,0.0,0.0,0.0],[0.0,0.0,0.06502676010131836,0.0,0.0,0.0,0.0],[0.0,0.0,0.0,0.0,0.0,0.0,0.0],[0.0,0.0,0.0,0.0,0.0,0.0,0.0],[0.0,0.0,0.0,0.0,0.0,0.0,0.0],[0.0,0.0,0.0,0.5795743465423584,0.0,0.5236423015594482,0.04802306741476059],[0.0,0.0,0.0,0.0,0.0,0.0,0.0],[0.0,0.0,0.0,0.0,0.0,0.0,0.0],[0.0,0.0,0.0,0.0,0.0,0.0,0.0],[0.0,0.026795266196131706,0.0,0.0,0.0,0.0,0.0],[0.0,0.0,0.0,0.0,0.0,0.0,0.0],[0.0,0.0,0.0,0.0,0.0,0.0,0.0],[0.0,0.0,0.0,0.0,0.0,0.0,0.0],[0.0,0.0,0.0,0.0,0.0,0.0,0.0],[0.0,0.0,0.0,0.0,0.0,0.0,0.0],[0.0,0.0,0.0,0.0,0.0,0.0,0.0],[0.0,0.0,0.0,0.0,0.0,0.0,0.0],[0.0,0.0,0.0,0.0,0.0,0.0,0.0],[0.0,0.0,0.0,0.0,0.0,0.0,0.0],[0.0,0.0,0.0,0.0,0.0,0.0,0.0],[0.0,0.0,0.0,0.0,0.0,0.005255465861409903,0.0],[0.0,0.0,0.0,0.0,0.0,0.0,0.0],[0.0,0.034923966974020004,0.0,0.042751848697662354,0.0,0.0,0.001939225709065795],[0.0,0.0,0.0,0.0,0.0,0.0,0.0],[0.0,0.0,0.0,0.0,0.0,0.0,0.0],[0.0,0.0,0.0,0.0,0.0,0.0,0.0],[0.0,0.0,0.0,0.0,0.0,0.0,0.0],[0.0,0.0,0.0,0.0,0.011281208135187626,0.0,0.0],[0.0,0.0,0.0,0.0,0.053009264171123505,0.0645860880613327,0.0],[0.0,0.0,0.0,0.0,0.0,0.0,0.0],[0.0,0.02993338368833065,0.0,0.0,0.0,0.00022464447829406708,0.002274404978379607],[0.0,0.0,0.0,0.0,0.0,0.0,0.0],[0.0,0.0,0.0,0.0,0.0,0.0,0.0],[0.0,0.0,0.0,0.0,0.0,0.0,0.0],[0.0,0.0,0.06597096472978592,0.0,0.0,0.0,0.0],[0.0,0.0,0.0,0.0,0.0,0.0,0.0],[0.0,0.0,0.0,0.0,0.0,0.0,0.0],[0.0,0.0,0.0,0.0,0.0,0.0,0.0],[0.0,0.0,0.0,0.0,0.0,0.0,0.0],[0.0,0.0,0.0,0.0,0.0,0.0,0.0],[0.0,0.0,0.0,0.0,0.0,0.0,0.0],[0.24544571340084076,0.0,0.0,0.0,0.0,0.0,0.0],[0.0,0.0,0.010241169482469559,0.0,0.0,0.0,0.0],[0.0,0.0,0.0,0.0,0.0,0.0,0.0],[0.0,0.0,0.0,0.0,0.0,0.0,0.0],[0.0,0.0,0.0,0.0,0.0,0.0,0.0],[0.0,0.0,0.0,0.0,0.0,0.002523287432268262,0.0],[0.0,0.0,0.0,0.0,0.0,0.0,0.0],[0.0,0.0020937358494848013,0.0,0.0,0.0,0.018479106947779655,0.0],[0.0,0.0,0.0,0.0,0.0,0.0,0.003761589527130127],[0.0,0.0,0.0,0.0,0.0,0.014604081399738789,0.0],[0.0,0.0,0.0,0.0,0.0,0.0,0.0],[0.0,0.0,0.0,0.0,0.0,0.0,0.0],[0.0,0.0,0.0,0.0,0.0,0.008337183855473995,0.012563844211399555],[0.0,0.0,0.0,0.0,0.0,0.0,0.0],[0.0,0.0,0.0,0.0,0.0,0.0,0.0],[0.0,0.06978894025087357,0.0,0.0,0.0,0.0,0.0],[0.0,0.0,0.11351117491722107,0.0,0.0,0.0,0.0],[0.0,0.0,0.0,0.0,0.0,0.0,0.0],[0.0,0.0,0.0,0.0,0.0,0.004187450278550386,0.005975585430860519],[0.0,0.0,0.0,0.0,0.0,0.0,0.0],[0.0,0.0,0.0,0.0,0.0,0.0,0.0],[0.11857420951128006,0.0,0.0,0.0,0.0,0.0,0.0],[0.0,0.01487634889781475,0.0,0.022899925708770752,0.02258409932255745,0.0,0.03332948684692383],[0.0,0.0,0.0,0.0,0.0,0.0,0.0],[0.0,0.0,0.0,0.0,0.0,0.0,0.0],[0.0,0.0,0.0,0.0,0.0,0.0,0.0],[0.0,0.0,0.0,0.0,0.034512732177972794,0.0,0.0],[0.0,0.0,0.0,0.0,0.0,0.0,0.0],[0.0,0.0,0.0,0.0,0.0,0.0,0.0],[0.0,0.0,0.0,0.0,0.0,0.043437711894512177,0.0],[0.0,0.0,0.0,1.0,0.0,0.0,0.0],[0.0,0.0,0.0,0.0,0.0,0.0,0.0],[0.0,0.0,0.0,0.0,0.0,0.0,0.0],[0.0,0.0,0.0,0.0,0.0,0.0,0.0],[0.0,0.0,0.0,0.0,0.0,0.0,0.0],[0.0,0.0,0.0,0.0,0.0,0.0,0.0],[0.0,0.0,0.0,0.0,0.0,0.0,0.003828112268820405],[0.0,0.0,0.0,0.09056637436151505,0.050477635115385056,0.004318700172007084,0.0],[0.0,0.0,0.0,0.0,0.0,0.0,0.0],[0.0,0.0,0.0,0.0,0.0037748513277620077,0.0,0.0],[0.0,0.0,0.0,0.0,0.0,0.0,0.0],[0.0056979297660291195,0.0,0.0,0.0,0.0,0.0,0.0],[0.0,0.0,0.0,0.0,0.0,0.0,0.0],[0.0,0.0,0.0,0.0,0.0,0.0,0.0],[0.0,0.0,0.0,0.0,0.0,0.0,0.0],[0.0,0.0,0.0,0.0,0.0,0.0,0.0],[0.0,0.0,0.0,0.0,0.0,0.0,0.0],[0.0,0.0,0.0,0.0,0.0,0.0,0.0],[0.0,0.0,0.0,0.0,0.0,0.0,0.0],[0.0,0.0039770593866705894,0.0,0.001540333149023354,0.0,0.0,0.0],[0.05367523804306984,0.0,0.0,0.0,0.0,0.0,0.0],[0.0,0.0,0.0,0.0,0.0,0.0,0.0],[0.0,0.0,0.0,0.0,0.0,0.0,0.0],[0.0,0.0,0.0,0.0,0.0,0.0,0.0],[0.013564019463956356,0.0,0.0,0.0,0.0,0.0,0.0]],\"type\":\"heatmap\"}],                        {\"template\":{\"data\":{\"histogram2dcontour\":[{\"type\":\"histogram2dcontour\",\"colorbar\":{\"outlinewidth\":0,\"ticks\":\"\"},\"colorscale\":[[0.0,\"#0d0887\"],[0.1111111111111111,\"#46039f\"],[0.2222222222222222,\"#7201a8\"],[0.3333333333333333,\"#9c179e\"],[0.4444444444444444,\"#bd3786\"],[0.5555555555555556,\"#d8576b\"],[0.6666666666666666,\"#ed7953\"],[0.7777777777777778,\"#fb9f3a\"],[0.8888888888888888,\"#fdca26\"],[1.0,\"#f0f921\"]]}],\"choropleth\":[{\"type\":\"choropleth\",\"colorbar\":{\"outlinewidth\":0,\"ticks\":\"\"}}],\"histogram2d\":[{\"type\":\"histogram2d\",\"colorbar\":{\"outlinewidth\":0,\"ticks\":\"\"},\"colorscale\":[[0.0,\"#0d0887\"],[0.1111111111111111,\"#46039f\"],[0.2222222222222222,\"#7201a8\"],[0.3333333333333333,\"#9c179e\"],[0.4444444444444444,\"#bd3786\"],[0.5555555555555556,\"#d8576b\"],[0.6666666666666666,\"#ed7953\"],[0.7777777777777778,\"#fb9f3a\"],[0.8888888888888888,\"#fdca26\"],[1.0,\"#f0f921\"]]}],\"heatmap\":[{\"type\":\"heatmap\",\"colorbar\":{\"outlinewidth\":0,\"ticks\":\"\"},\"colorscale\":[[0.0,\"#0d0887\"],[0.1111111111111111,\"#46039f\"],[0.2222222222222222,\"#7201a8\"],[0.3333333333333333,\"#9c179e\"],[0.4444444444444444,\"#bd3786\"],[0.5555555555555556,\"#d8576b\"],[0.6666666666666666,\"#ed7953\"],[0.7777777777777778,\"#fb9f3a\"],[0.8888888888888888,\"#fdca26\"],[1.0,\"#f0f921\"]]}],\"heatmapgl\":[{\"type\":\"heatmapgl\",\"colorbar\":{\"outlinewidth\":0,\"ticks\":\"\"},\"colorscale\":[[0.0,\"#0d0887\"],[0.1111111111111111,\"#46039f\"],[0.2222222222222222,\"#7201a8\"],[0.3333333333333333,\"#9c179e\"],[0.4444444444444444,\"#bd3786\"],[0.5555555555555556,\"#d8576b\"],[0.6666666666666666,\"#ed7953\"],[0.7777777777777778,\"#fb9f3a\"],[0.8888888888888888,\"#fdca26\"],[1.0,\"#f0f921\"]]}],\"contourcarpet\":[{\"type\":\"contourcarpet\",\"colorbar\":{\"outlinewidth\":0,\"ticks\":\"\"}}],\"contour\":[{\"type\":\"contour\",\"colorbar\":{\"outlinewidth\":0,\"ticks\":\"\"},\"colorscale\":[[0.0,\"#0d0887\"],[0.1111111111111111,\"#46039f\"],[0.2222222222222222,\"#7201a8\"],[0.3333333333333333,\"#9c179e\"],[0.4444444444444444,\"#bd3786\"],[0.5555555555555556,\"#d8576b\"],[0.6666666666666666,\"#ed7953\"],[0.7777777777777778,\"#fb9f3a\"],[0.8888888888888888,\"#fdca26\"],[1.0,\"#f0f921\"]]}],\"surface\":[{\"type\":\"surface\",\"colorbar\":{\"outlinewidth\":0,\"ticks\":\"\"},\"colorscale\":[[0.0,\"#0d0887\"],[0.1111111111111111,\"#46039f\"],[0.2222222222222222,\"#7201a8\"],[0.3333333333333333,\"#9c179e\"],[0.4444444444444444,\"#bd3786\"],[0.5555555555555556,\"#d8576b\"],[0.6666666666666666,\"#ed7953\"],[0.7777777777777778,\"#fb9f3a\"],[0.8888888888888888,\"#fdca26\"],[1.0,\"#f0f921\"]]}],\"mesh3d\":[{\"type\":\"mesh3d\",\"colorbar\":{\"outlinewidth\":0,\"ticks\":\"\"}}],\"scatter\":[{\"fillpattern\":{\"fillmode\":\"overlay\",\"size\":10,\"solidity\":0.2},\"type\":\"scatter\"}],\"parcoords\":[{\"type\":\"parcoords\",\"line\":{\"colorbar\":{\"outlinewidth\":0,\"ticks\":\"\"}}}],\"scatterpolargl\":[{\"type\":\"scatterpolargl\",\"marker\":{\"colorbar\":{\"outlinewidth\":0,\"ticks\":\"\"}}}],\"bar\":[{\"error_x\":{\"color\":\"#2a3f5f\"},\"error_y\":{\"color\":\"#2a3f5f\"},\"marker\":{\"line\":{\"color\":\"#E5ECF6\",\"width\":0.5},\"pattern\":{\"fillmode\":\"overlay\",\"size\":10,\"solidity\":0.2}},\"type\":\"bar\"}],\"scattergeo\":[{\"type\":\"scattergeo\",\"marker\":{\"colorbar\":{\"outlinewidth\":0,\"ticks\":\"\"}}}],\"scatterpolar\":[{\"type\":\"scatterpolar\",\"marker\":{\"colorbar\":{\"outlinewidth\":0,\"ticks\":\"\"}}}],\"histogram\":[{\"marker\":{\"pattern\":{\"fillmode\":\"overlay\",\"size\":10,\"solidity\":0.2}},\"type\":\"histogram\"}],\"scattergl\":[{\"type\":\"scattergl\",\"marker\":{\"colorbar\":{\"outlinewidth\":0,\"ticks\":\"\"}}}],\"scatter3d\":[{\"type\":\"scatter3d\",\"line\":{\"colorbar\":{\"outlinewidth\":0,\"ticks\":\"\"}},\"marker\":{\"colorbar\":{\"outlinewidth\":0,\"ticks\":\"\"}}}],\"scattermapbox\":[{\"type\":\"scattermapbox\",\"marker\":{\"colorbar\":{\"outlinewidth\":0,\"ticks\":\"\"}}}],\"scatterternary\":[{\"type\":\"scatterternary\",\"marker\":{\"colorbar\":{\"outlinewidth\":0,\"ticks\":\"\"}}}],\"scattercarpet\":[{\"type\":\"scattercarpet\",\"marker\":{\"colorbar\":{\"outlinewidth\":0,\"ticks\":\"\"}}}],\"carpet\":[{\"aaxis\":{\"endlinecolor\":\"#2a3f5f\",\"gridcolor\":\"white\",\"linecolor\":\"white\",\"minorgridcolor\":\"white\",\"startlinecolor\":\"#2a3f5f\"},\"baxis\":{\"endlinecolor\":\"#2a3f5f\",\"gridcolor\":\"white\",\"linecolor\":\"white\",\"minorgridcolor\":\"white\",\"startlinecolor\":\"#2a3f5f\"},\"type\":\"carpet\"}],\"table\":[{\"cells\":{\"fill\":{\"color\":\"#EBF0F8\"},\"line\":{\"color\":\"white\"}},\"header\":{\"fill\":{\"color\":\"#C8D4E3\"},\"line\":{\"color\":\"white\"}},\"type\":\"table\"}],\"barpolar\":[{\"marker\":{\"line\":{\"color\":\"#E5ECF6\",\"width\":0.5},\"pattern\":{\"fillmode\":\"overlay\",\"size\":10,\"solidity\":0.2}},\"type\":\"barpolar\"}],\"pie\":[{\"automargin\":true,\"type\":\"pie\"}]},\"layout\":{\"autotypenumbers\":\"strict\",\"colorway\":[\"#636efa\",\"#EF553B\",\"#00cc96\",\"#ab63fa\",\"#FFA15A\",\"#19d3f3\",\"#FF6692\",\"#B6E880\",\"#FF97FF\",\"#FECB52\"],\"font\":{\"color\":\"#2a3f5f\"},\"hovermode\":\"closest\",\"hoverlabel\":{\"align\":\"left\"},\"paper_bgcolor\":\"white\",\"plot_bgcolor\":\"#E5ECF6\",\"polar\":{\"bgcolor\":\"#E5ECF6\",\"angularaxis\":{\"gridcolor\":\"white\",\"linecolor\":\"white\",\"ticks\":\"\"},\"radialaxis\":{\"gridcolor\":\"white\",\"linecolor\":\"white\",\"ticks\":\"\"}},\"ternary\":{\"bgcolor\":\"#E5ECF6\",\"aaxis\":{\"gridcolor\":\"white\",\"linecolor\":\"white\",\"ticks\":\"\"},\"baxis\":{\"gridcolor\":\"white\",\"linecolor\":\"white\",\"ticks\":\"\"},\"caxis\":{\"gridcolor\":\"white\",\"linecolor\":\"white\",\"ticks\":\"\"}},\"coloraxis\":{\"colorbar\":{\"outlinewidth\":0,\"ticks\":\"\"}},\"colorscale\":{\"sequential\":[[0.0,\"#0d0887\"],[0.1111111111111111,\"#46039f\"],[0.2222222222222222,\"#7201a8\"],[0.3333333333333333,\"#9c179e\"],[0.4444444444444444,\"#bd3786\"],[0.5555555555555556,\"#d8576b\"],[0.6666666666666666,\"#ed7953\"],[0.7777777777777778,\"#fb9f3a\"],[0.8888888888888888,\"#fdca26\"],[1.0,\"#f0f921\"]],\"sequentialminus\":[[0.0,\"#0d0887\"],[0.1111111111111111,\"#46039f\"],[0.2222222222222222,\"#7201a8\"],[0.3333333333333333,\"#9c179e\"],[0.4444444444444444,\"#bd3786\"],[0.5555555555555556,\"#d8576b\"],[0.6666666666666666,\"#ed7953\"],[0.7777777777777778,\"#fb9f3a\"],[0.8888888888888888,\"#fdca26\"],[1.0,\"#f0f921\"]],\"diverging\":[[0,\"#8e0152\"],[0.1,\"#c51b7d\"],[0.2,\"#de77ae\"],[0.3,\"#f1b6da\"],[0.4,\"#fde0ef\"],[0.5,\"#f7f7f7\"],[0.6,\"#e6f5d0\"],[0.7,\"#b8e186\"],[0.8,\"#7fbc41\"],[0.9,\"#4d9221\"],[1,\"#276419\"]]},\"xaxis\":{\"gridcolor\":\"white\",\"linecolor\":\"white\",\"ticks\":\"\",\"title\":{\"standoff\":15},\"zerolinecolor\":\"white\",\"automargin\":true,\"zerolinewidth\":2},\"yaxis\":{\"gridcolor\":\"white\",\"linecolor\":\"white\",\"ticks\":\"\",\"title\":{\"standoff\":15},\"zerolinecolor\":\"white\",\"automargin\":true,\"zerolinewidth\":2},\"scene\":{\"xaxis\":{\"backgroundcolor\":\"#E5ECF6\",\"gridcolor\":\"white\",\"linecolor\":\"white\",\"showbackground\":true,\"ticks\":\"\",\"zerolinecolor\":\"white\",\"gridwidth\":2},\"yaxis\":{\"backgroundcolor\":\"#E5ECF6\",\"gridcolor\":\"white\",\"linecolor\":\"white\",\"showbackground\":true,\"ticks\":\"\",\"zerolinecolor\":\"white\",\"gridwidth\":2},\"zaxis\":{\"backgroundcolor\":\"#E5ECF6\",\"gridcolor\":\"white\",\"linecolor\":\"white\",\"showbackground\":true,\"ticks\":\"\",\"zerolinecolor\":\"white\",\"gridwidth\":2}},\"shapedefaults\":{\"line\":{\"color\":\"#2a3f5f\"}},\"annotationdefaults\":{\"arrowcolor\":\"#2a3f5f\",\"arrowhead\":0,\"arrowwidth\":1},\"geo\":{\"bgcolor\":\"white\",\"landcolor\":\"#E5ECF6\",\"subunitcolor\":\"white\",\"showland\":true,\"showlakes\":true,\"lakecolor\":\"white\"},\"title\":{\"x\":0.05},\"mapbox\":{\"style\":\"light\"}}},\"title\":{\"text\":\"DGI+ : 2.3296692\"},\"xaxis\":{\"title\":{\"text\":\"Sense Features\"}},\"yaxis\":{\"title\":{\"text\":\"Dimensions\"}}},                        {\"responsive\": true}                    ).then(function(){\n",
       "                            \n",
       "var gd = document.getElementById('0621335f-62b8-4b52-9107-a34382c3910c');\n",
       "var x = new MutationObserver(function (mutations, observer) {{\n",
       "        var display = window.getComputedStyle(gd).display;\n",
       "        if (!display || display === 'none') {{\n",
       "            console.log([gd, 'removed!']);\n",
       "            Plotly.purge(gd);\n",
       "            observer.disconnect();\n",
       "        }}\n",
       "}});\n",
       "\n",
       "// Listen for the removal of the full notebook cells\n",
       "var notebookContainer = gd.closest('#notebook-container');\n",
       "if (notebookContainer) {{\n",
       "    x.observe(notebookContainer, {childList: true});\n",
       "}}\n",
       "\n",
       "// Listen for the clearing of the current output cell\n",
       "var outputEl = gd.closest('.output');\n",
       "if (outputEl) {{\n",
       "    x.observe(outputEl, {childList: true});\n",
       "}}\n",
       "\n",
       "                        })                };                });            </script>        </div>"
      ]
     },
     "metadata": {},
     "output_type": "display_data"
    }
   ],
   "source": [
    "fig = go.Figure()\n",
    "fig.add_trace(go.Heatmap(z = explain_og,\n",
    "                         x = list(sense_feat_dict), \n",
    "                         ))\n",
    "fig.update_layout(title_text = 'DGI : ' + str(np.linalg.norm(explain_og, ord = 'nuc')), \n",
    "                  xaxis_title_text = 'Sense Features', \n",
    "                  yaxis_title_text = 'Dimensions')\n",
    "\n",
    "fig.show()\n",
    "\n",
    "fig = go.Figure()\n",
    "fig.add_trace(go.Heatmap(z = explain_plus,\n",
    "                         x = list(sense_feat_dict), \n",
    "                         ))\n",
    "fig.update_layout(title_text = 'DGI+ : ' + str(np.linalg.norm(explain_plus, ord = 'nuc')), \n",
    "                  xaxis_title_text = 'Sense Features', \n",
    "                  yaxis_title_text = 'Dimensions')\n",
    "\n",
    "fig.show()"
   ]
  },
  {
   "cell_type": "code",
   "execution_count": 17,
   "id": "abca7a2d",
   "metadata": {},
   "outputs": [],
   "source": [
    "Y_plus = embed_plus\n",
    "sense_mat = tf.einsum('ij, ik -> ijk', Y_plus, sense_features)\n",
    "Y_plus_norm = tf.linalg.diag_part(tf.matmul(Y_plus, Y_plus, transpose_b = True), k = 0)\n",
    "sense_norm = tf.linalg.diag_part(tf.matmul(sense_features, sense_features, transpose_b = True), k = 0)\n",
    "norm = Y_plus_norm * tf.cast(sense_norm, tf.float32)\n",
    "D_plus = tf.transpose(tf.transpose(sense_mat) / norm)\n",
    "D_plus = (D_plus - tf.reshape(tf.reduce_min(D_plus, axis = [-1, -2]), (-1, 1, 1))) / tf.reshape(tf.reduce_max(D_plus, axis = [-1, -2]) - tf.reduce_min(D_plus, axis = [-1, -2]), (-1, 1, 1))\n",
    "\n",
    "\n",
    "Y_og = embed_og\n",
    "sense_mat = tf.einsum('ij, ik -> ijk', Y_og, sense_features)\n",
    "Y_og_norm = tf.linalg.diag_part(tf.matmul(Y_og, Y_og, transpose_b = True), k = 0)\n",
    "sense_norm = tf.linalg.diag_part(tf.matmul(sense_features, sense_features, transpose_b = True), k = 0)\n",
    "norm = Y_og_norm * tf.cast(sense_norm, tf.float32)\n",
    "D_og = tf.transpose(tf.transpose(sense_mat) / norm)\n",
    "D_og = (D_og - tf.reshape(tf.reduce_min(D_og, axis = [-1, -2]), (-1, 1, 1))) / tf.reshape(tf.reduce_max(D_og, axis = [-1, -2]) - tf.reduce_min(D_og, axis = [-1, -2]), (-1, 1, 1))\n"
   ]
  },
  {
   "cell_type": "code",
   "execution_count": null,
   "id": "434c1f89",
   "metadata": {},
   "outputs": [],
   "source": [
    "\n"
   ]
  },
  {
   "cell_type": "code",
   "execution_count": 18,
   "id": "e3846d67",
   "metadata": {},
   "outputs": [
    {
     "name": "stderr",
     "output_type": "stream",
     "text": [
      "100%|██████████████████████████████████████| 1186/1186 [00:02<00:00, 552.13it/s]\n",
      "100%|██████████████████████████████████████| 1186/1186 [00:02<00:00, 570.13it/s]\n"
     ]
    }
   ],
   "source": [
    "norm_og = [np.linalg.norm(D_og[node, :, :], ord = 'nuc') for node in tqdm(range(len(graph)))]\n",
    "norm_plus = [np.linalg.norm(D_plus[node, :, :], ord = 'nuc') for node in tqdm(range(len(graph)))]\n",
    "\n"
   ]
  },
  {
   "cell_type": "code",
   "execution_count": 19,
   "id": "8355ca29",
   "metadata": {},
   "outputs": [
    {
     "data": {
      "application/vnd.plotly.v1+json": {
       "config": {
        "plotlyServerURL": "https://plot.ly"
       },
       "data": [
        {
         "type": "histogram",
         "x": [
          3.2015790939331055,
          5.286838531494141,
          3.970397472381592,
          1.0124130249023438,
          0.37380456924438477,
          4.24226713180542,
          3.812650203704834,
          2.6297764778137207,
          4.561317443847656,
          0.6346092224121094,
          2.8117265701293945,
          4.419162750244141,
          1.257215976715088,
          1.222970962524414,
          2.1356916427612305,
          0.9760751724243164,
          4.431910514831543,
          0.20950794219970703,
          3.151111602783203,
          1.293034553527832,
          3.632815361022949,
          1.1588077545166016,
          0.6254115104675293,
          1.5474843978881836,
          0.7085680961608887,
          5.19802713394165,
          0.3739008903503418,
          1.4442353248596191,
          0.3257756233215332,
          2.0599899291992188,
          1.8693504333496094,
          1.0561718940734863,
          2.398406982421875,
          3.0030198097229004,
          3.9029603004455566,
          3.4176902770996094,
          0.9591288566589355,
          1.1906380653381348,
          1.0723543167114258,
          4.654388427734375,
          0.49277257919311523,
          2.850707530975342,
          3.9045257568359375,
          0.4739537239074707,
          0.413266658782959,
          0.9930977821350098,
          0.6725301742553711,
          3.48874568939209,
          1.0291123390197754,
          0.6897416114807129,
          0.7871012687683105,
          0.8592901229858398,
          2.3656187057495117,
          3.892385959625244,
          0.5482368469238281,
          1.3495349884033203,
          4.021288871765137,
          1.210127830505371,
          0.4385566711425781,
          0.7285270690917969,
          0.9748101234436035,
          4.445518970489502,
          1.20277738571167,
          0.45604419708251953,
          2.6434764862060547,
          1.5092077255249023,
          1.2223787307739258,
          0.9631257057189941,
          3.117691993713379,
          0.1219334602355957,
          0.9089131355285645,
          0.8725457191467285,
          2.270867347717285,
          1.4749746322631836,
          1.4273929595947266,
          1.759786605834961,
          3.5941848754882812,
          0.6114411354064941,
          3.2375826835632324,
          0.8048839569091797,
          3.586547374725342,
          3.2820935249328613,
          4.295161724090576,
          0.5936951637268066,
          2.7043232917785645,
          3.554469108581543,
          0.8601093292236328,
          3.357883930206299,
          1.1253118515014648,
          3.574799060821533,
          0.9077596664428711,
          3.2327356338500977,
          0.5072541236877441,
          0.520444393157959,
          0.8293247222900391,
          2.251523971557617,
          1.7200212478637695,
          0.7954921722412109,
          3.2711806297302246,
          2.282268524169922,
          3.560272216796875,
          2.5106515884399414,
          4.155320644378662,
          2.184663772583008,
          2.2770705223083496,
          -0.006375789642333984,
          3.818470001220703,
          3.8077144622802734,
          1.0386571884155273,
          2.5953550338745117,
          1.2523155212402344,
          4.718954563140869,
          1.1854114532470703,
          1.3580689430236816,
          1.1151056289672852,
          0.12380218505859375,
          1.607295036315918,
          0.6829128265380859,
          1.0391488075256348,
          1.9503388404846191,
          1.2523999214172363,
          0.5878710746765137,
          2.6485986709594727,
          1.513169288635254,
          0.7936391830444336,
          2.4346256256103516,
          2.5272068977355957,
          1.4944562911987305,
          1.8985137939453125,
          0.8523268699645996,
          1.9769949913024902,
          3.5121355056762695,
          1.7129621505737305,
          3.3066115379333496,
          1.0197696685791016,
          1.172698974609375,
          0.6232481002807617,
          0.12552976608276367,
          3.6614670753479004,
          3.1799044609069824,
          5.69925594329834,
          2.3993687629699707,
          1.1368217468261719,
          2.1641716957092285,
          1.2071518898010254,
          3.6272873878479004,
          3.771585464477539,
          4.92121696472168,
          0.8480873107910156,
          3.924135684967041,
          2.9525704383850098,
          1.4651918411254883,
          3.723665714263916,
          2.759857177734375,
          0.6939549446105957,
          2.429922580718994,
          1.5488815307617188,
          0.00855875015258789,
          1.6410298347473145,
          5.120285511016846,
          0.3178372383117676,
          4.226649284362793,
          2.4061355590820312,
          3.4777626991271973,
          2.406040668487549,
          1.4341702461242676,
          2.238142967224121,
          1.3421354293823242,
          1.1193180084228516,
          0.22826814651489258,
          4.616722583770752,
          2.7953405380249023,
          1.4972381591796875,
          2.977450370788574,
          1.162057876586914,
          2.351208209991455,
          3.6219067573547363,
          1.2186040878295898,
          3.513172149658203,
          2.7040891647338867,
          2.9288787841796875,
          1.1715168952941895,
          5.174519062042236,
          2.7675046920776367,
          3.0809435844421387,
          0.6997380256652832,
          2.1669554710388184,
          1.9470062255859375,
          5.013845443725586,
          1.6277155876159668,
          1.9522042274475098,
          4.841338634490967,
          2.4761862754821777,
          2.2476348876953125,
          4.90219783782959,
          2.456000328063965,
          1.8070855140686035,
          1.7878508567810059,
          5.141386985778809,
          1.027604103088379,
          3.6827569007873535,
          0.5846185684204102,
          0.9756245613098145,
          4.106156826019287,
          2.8536934852600098,
          0.739105224609375,
          1.9637999534606934,
          3.500657081604004,
          1.7082395553588867,
          2.712977886199951,
          3.2378435134887695,
          2.188814640045166,
          2.0131969451904297,
          0.5147237777709961,
          1.5822806358337402,
          0.6864290237426758,
          2.768522262573242,
          0.5128545761108398,
          -0.19215631484985352,
          1.4647526741027832,
          2.755016326904297,
          0.9930901527404785,
          1.5850439071655273,
          1.0118980407714844,
          5.191708087921143,
          4.174046516418457,
          5.498970031738281,
          4.05499267578125,
          1.201028823852539,
          0.7802762985229492,
          1.4651226997375488,
          3.452998638153076,
          1.7430157661437988,
          5.0904860496521,
          2.568955898284912,
          1.2132329940795898,
          3.5489063262939453,
          2.761669635772705,
          1.9781107902526855,
          4.610125541687012,
          3.3080062866210938,
          3.232746124267578,
          4.964599132537842,
          1.0278739929199219,
          1.609269142150879,
          2.9509596824645996,
          3.3542137145996094,
          4.714971542358398,
          1.0912666320800781,
          3.5617470741271973,
          1.711501121520996,
          3.0055179595947266,
          2.763967990875244,
          1.8542766571044922,
          2.532576560974121,
          1.2642388343811035,
          1.41701078414917,
          4.07080078125,
          1.5974617004394531,
          3.934907913208008,
          4.298564910888672,
          2.7979483604431152,
          2.7560906410217285,
          1.2675962448120117,
          3.0501136779785156,
          0.930473804473877,
          3.279524803161621,
          1.2899713516235352,
          1.6433238983154297,
          4.002140998840332,
          5.374008655548096,
          3.7146434783935547,
          5.29229736328125,
          0.6810493469238281,
          2.5004491806030273,
          3.0068187713623047,
          3.533092498779297,
          1.8302350044250488,
          3.8919858932495117,
          2.12725830078125,
          2.0581231117248535,
          4.626289367675781,
          0.837677001953125,
          1.8005738258361816,
          2.8001537322998047,
          2.7583279609680176,
          1.971229076385498,
          2.2803659439086914,
          0.9969143867492676,
          3.6322646141052246,
          3.6684865951538086,
          6.459629058837891,
          3.653395175933838,
          4.421789169311523,
          3.326256275177002,
          1.7744331359863281,
          1.7969379425048828,
          1.7816963195800781,
          5.5115437507629395,
          3.2508554458618164,
          4.656598091125488,
          5.053554058074951,
          4.567457675933838,
          1.8252501487731934,
          1.1641802787780762,
          0.9740376472473145,
          2.9648733139038086,
          1.8694777488708496,
          2.7223353385925293,
          3.015774726867676,
          3.1335387229919434,
          4.7043375968933105,
          4.121523857116699,
          0.5744190216064453,
          1.1214184761047363,
          0.9166903495788574,
          3.1866021156311035,
          2.799799919128418,
          1.8230972290039062,
          1.0934038162231445,
          2.293398857116699,
          1.2165746688842773,
          5.088230133056641,
          2.325620651245117,
          4.301823616027832,
          2.68894100189209,
          2.1343111991882324,
          3.562211513519287,
          4.865335941314697,
          5.083057403564453,
          2.9814672470092773,
          4.408112049102783,
          2.3926424980163574,
          3.5945606231689453,
          3.6700315475463867,
          1.9775681495666504,
          0.8175711631774902,
          5.810154438018799,
          0.6844501495361328,
          3.4821462631225586,
          4.400224208831787,
          1.6971216201782227,
          3.689380645751953,
          3.8984336853027344,
          2.483232021331787,
          2.132735252380371,
          3.2542734146118164,
          2.468400001525879,
          2.0488805770874023,
          4.654396057128906,
          5.172059535980225,
          3.507317543029785,
          5.820372581481934,
          4.160035133361816,
          0.37753820419311523,
          2.2396082878112793,
          5.76522970199585,
          3.5764312744140625,
          3.4161295890808105,
          3.6606202125549316,
          1.2198896408081055,
          0.9336271286010742,
          3.6848206520080566,
          1.7591066360473633,
          1.56532621383667,
          2.2001070976257324,
          2.2536420822143555,
          4.629018306732178,
          1.9204378128051758,
          2.9519424438476562,
          2.5379576683044434,
          3.900035858154297,
          1.6570086479187012,
          3.0343880653381348,
          2.664653778076172,
          3.004199981689453,
          2.0986976623535156,
          2.03825044631958,
          0.8192558288574219,
          4.64291524887085,
          2.5799598693847656,
          5.033224582672119,
          3.6899261474609375,
          2.333134651184082,
          3.271188259124756,
          2.7362451553344727,
          4.272924423217773,
          3.9673714637756348,
          1.3895812034606934,
          2.937800884246826,
          4.919102191925049,
          4.610613822937012,
          1.607100009918213,
          3.161407470703125,
          0.8593697547912598,
          4.227443695068359,
          3.13545560836792,
          3.4225473403930664,
          1.8646173477172852,
          2.8093667030334473,
          4.611478805541992,
          1.9335551261901855,
          4.554647445678711,
          3.107895851135254,
          1.4721689224243164,
          2.8224925994873047,
          3.8205690383911133,
          3.0033226013183594,
          3.0727739334106445,
          3.965266704559326,
          2.241701126098633,
          1.0672283172607422,
          3.4718751907348633,
          1.4983124732971191,
          4.531034469604492,
          5.02335786819458,
          1.010171890258789,
          2.536146640777588,
          1.9198479652404785,
          2.050363540649414,
          4.669640064239502,
          4.672764778137207,
          4.891269683837891,
          2.297799587249756,
          4.807171821594238,
          2.9301962852478027,
          2.123422622680664,
          3.730776786804199,
          2.4026665687561035,
          5.975222587585449,
          2.1768689155578613,
          4.96654748916626,
          3.101628303527832,
          3.1518354415893555,
          1.024472713470459,
          2.5420589447021484,
          2.005190372467041,
          4.414565086364746,
          3.9922962188720703,
          3.4771361351013184,
          5.005747318267822,
          1.6000170707702637,
          2.370718479156494,
          1.7926592826843262,
          4.1529412269592285,
          4.926981449127197,
          2.698235511779785,
          3.491187572479248,
          4.943819046020508,
          4.76530647277832,
          4.304396629333496,
          6.13867712020874,
          3.27592134475708,
          1.7123603820800781,
          4.904433727264404,
          2.5786056518554688,
          2.7491273880004883,
          1.8952503204345703,
          3.100545883178711,
          2.8033246994018555,
          3.099398612976074,
          3.065006732940674,
          2.3779993057250977,
          2.926722526550293,
          3.8289804458618164,
          4.84420919418335,
          4.987060070037842,
          3.2063422203063965,
          2.2271170616149902,
          1.320744514465332,
          0.2964763641357422,
          2.937407970428467,
          1.079857349395752,
          2.325863838195801,
          3.8195743560791016,
          3.0194835662841797,
          3.0551228523254395,
          2.813760757446289,
          5.147871017456055,
          5.663083076477051,
          4.243926525115967,
          4.358829021453857,
          6.003782749176025,
          2.6993532180786133,
          1.862238883972168,
          3.5836167335510254,
          2.0889625549316406,
          3.1434249877929688,
          3.4517502784729004,
          1.2482361793518066,
          0.6265087127685547,
          2.427682399749756,
          3.5822834968566895,
          5.00155782699585,
          1.6556353569030762,
          3.5413970947265625,
          3.1879968643188477,
          4.482393741607666,
          5.459430694580078,
          2.377734661102295,
          5.569363594055176,
          2.785983085632324,
          1.5115880966186523,
          3.6293630599975586,
          2.647876262664795,
          0.5448193550109863,
          3.052903652191162,
          2.055433750152588,
          4.0864787101745605,
          3.081353187561035,
          3.1723694801330566,
          1.7855401039123535,
          3.4018192291259766,
          5.202168941497803,
          4.720463752746582,
          2.2432870864868164,
          2.1021833419799805,
          2.5347700119018555,
          3.0643653869628906,
          2.8784589767456055,
          2.334076404571533,
          3.616619110107422,
          4.582453727722168,
          3.203913688659668,
          3.8028550148010254,
          2.2263283729553223,
          4.0883941650390625,
          3.1763625144958496,
          2.0488805770874023,
          2.3933324813842773,
          5.191651344299316,
          3.8368287086486816,
          2.091484546661377,
          3.7918105125427246,
          4.673322677612305,
          3.4922943115234375,
          2.97247314453125,
          4.348575115203857,
          3.7138710021972656,
          2.1066532135009766,
          4.455260753631592,
          1.999098300933838,
          4.36724328994751,
          1.8536086082458496,
          3.469137191772461,
          3.00821590423584,
          2.293398857116699,
          2.463848114013672,
          3.4004292488098145,
          3.664525032043457,
          5.5155205726623535,
          2.1421303749084473,
          5.0924248695373535,
          4.238794326782227,
          2.4859304428100586,
          2.9594764709472656,
          4.521213531494141,
          3.4780707359313965,
          3.9152402877807617,
          2.7324180603027344,
          2.2681126594543457,
          2.834029197692871,
          4.382314682006836,
          2.631951332092285,
          4.336028575897217,
          1.7380189895629883,
          2.1761794090270996,
          5.156464099884033,
          5.423832893371582,
          1.6698122024536133,
          2.4529495239257812,
          5.011672019958496,
          4.413717746734619,
          5.360983848571777,
          4.866176128387451,
          1.6039156913757324,
          3.9497499465942383,
          2.7587552070617676,
          4.74338436126709,
          2.1444807052612305,
          3.2826333045959473,
          4.244932651519775,
          2.315260410308838,
          4.788357734680176,
          6.375454902648926,
          6.305235862731934,
          3.412343978881836,
          4.29073429107666,
          2.9538822174072266,
          3.644916534423828,
          3.4981369972229004,
          2.763967990875244,
          2.128335952758789,
          4.493052959442139,
          2.893050193786621,
          2.9437475204467773,
          1.2491774559020996,
          2.293398857116699,
          3.8453469276428223,
          2.961549758911133,
          3.5070018768310547,
          2.8785314559936523,
          3.5095882415771484,
          3.1265578269958496,
          2.850308418273926,
          2.2959160804748535,
          5.1696882247924805,
          5.036098480224609,
          1.8651609420776367,
          3.4272379875183105,
          4.0978569984436035,
          2.8105506896972656,
          3.284592628479004,
          2.244933605194092,
          2.435238838195801,
          5.6126580238342285,
          4.512330055236816,
          3.958719253540039,
          2.8857030868530273,
          3.109041690826416,
          2.2547903060913086,
          3.534733772277832,
          5.61785888671875,
          5.1038007736206055,
          5.068743705749512,
          2.263579845428467,
          3.933840751647949,
          2.4690699577331543,
          2.2162437438964844,
          3.850635528564453,
          4.655827522277832,
          2.59816837310791,
          2.49932861328125,
          0.8541769981384277,
          1.2651581764221191,
          4.312002658843994,
          0.9712939262390137,
          0.31557369232177734,
          3.151700019836426,
          3.657041549682617,
          2.897778034210205,
          2.9241342544555664,
          3.4000425338745117,
          1.9011812210083008,
          5.260601043701172,
          3.1673102378845215,
          1.9231023788452148,
          1.9220824241638184,
          0.6848912239074707,
          5.316758632659912,
          2.358159065246582,
          2.1684532165527344,
          2.427682399749756,
          2.996652603149414,
          4.353238582611084,
          4.612897872924805,
          4.784146308898926,
          2.626185894012451,
          4.335115432739258,
          2.9369897842407227,
          1.0563173294067383,
          1.654029369354248,
          3.5585389137268066,
          3.541132926940918,
          2.175124168395996,
          2.7960147857666016,
          3.6096415519714355,
          2.2396082878112793,
          2.364866256713867,
          3.0054049491882324,
          2.172978401184082,
          3.961893081665039,
          1.2324938774108887,
          0.8042407035827637,
          4.405472278594971,
          3.676851272583008,
          4.273930072784424,
          1.2339558601379395,
          4.42604923248291,
          4.702795028686523,
          3.278076648712158,
          3.8169760704040527,
          2.3146486282348633,
          5.565277576446533,
          3.9102134704589844,
          2.942307472229004,
          0.5906343460083008,
          4.279736518859863,
          5.786870002746582,
          3.603349208831787,
          3.0054049491882324,
          3.3896584510803223,
          4.747411251068115,
          0.9611711502075195,
          4.997157096862793,
          2.0488805770874023,
          5.237157821655273,
          1.7869110107421875,
          2.8842978477478027,
          2.415363311767578,
          3.1510353088378906,
          5.173730373382568,
          2.283520221710205,
          3.5782604217529297,
          4.943308353424072,
          4.066732883453369,
          2.0488805770874023,
          3.071092128753662,
          2.9594764709472656,
          2.402698040008545,
          3.0172386169433594,
          4.232818603515625,
          5.07950496673584,
          3.488767147064209,
          3.6614670753479004,
          3.6465888023376465,
          1.9384651184082031,
          -0.38228464126586914,
          2.0488805770874023,
          1.779090404510498,
          3.7766833305358887,
          4.657750129699707,
          2.430039882659912,
          3.7452969551086426,
          4.211784362792969,
          2.9594764709472656,
          5.577619552612305,
          2.865478992462158,
          2.6768603324890137,
          2.536146640777588,
          5.122034549713135,
          1.5573363304138184,
          1.8141694068908691,
          4.0845746994018555,
          2.702991485595703,
          2.976097583770752,
          3.301443099975586,
          3.7485909461975098,
          2.9020071029663086,
          4.934454917907715,
          1.3035650253295898,
          2.293398857116699,
          1.344264030456543,
          3.671905994415283,
          3.312469482421875,
          4.73196268081665,
          5.522388458251953,
          4.4926347732543945,
          5.1634840965271,
          4.839382171630859,
          2.3192529678344727,
          5.874068260192871,
          4.690857887268066,
          3.0327720642089844,
          3.9593381881713867,
          2.525552272796631,
          1.7698922157287598,
          1.425276279449463,
          0.35163354873657227,
          4.29073429107666,
          1.2399249076843262,
          3.7607765197753906,
          2.7895541191101074,
          1.5388379096984863,
          1.6808443069458008,
          4.000835418701172,
          3.5840039253234863,
          2.2880029678344727,
          4.432071208953857,
          5.625793933868408,
          3.5333003997802734,
          3.00136661529541,
          5.874196529388428,
          3.107626438140869,
          3.5795788764953613,
          4.507994174957275,
          3.412177562713623,
          1.769747257232666,
          3.248760223388672,
          5.31118631362915,
          5.930375099182129,
          2.6890034675598145,
          2.9996981620788574,
          2.8080925941467285,
          1.6460809707641602,
          1.6808443069458008,
          3.734701156616211,
          2.8355441093444824,
          2.5346293449401855,
          3.819385051727295,
          2.199492931365967,
          3.4374942779541016,
          3.502833843231201,
          5.211165428161621,
          4.874593734741211,
          4.343090057373047,
          3.4332761764526367,
          3.4548120498657227,
          2.9828476905822754,
          2.244933605194092,
          2.293398857116699,
          2.8769755363464355,
          4.479742050170898,
          3.170072555541992,
          1.1816625595092773,
          1.9856390953063965,
          3.5990209579467773,
          4.100119113922119,
          2.442910671234131,
          5.2036261558532715,
          1.8914122581481934,
          2.306334972381592,
          1.937469482421875,
          2.654116153717041,
          3.134005546569824,
          3.6458144187927246,
          1.7943034172058105,
          1.7216219902038574,
          4.9900994300842285,
          2.188814640045166,
          4.4292192459106445,
          1.6636290550231934,
          1.3930916786193848,
          2.595287322998047,
          2.196415901184082,
          2.849728584289551,
          1.6803545951843262,
          1.9565682411193848,
          3.4688000679016113,
          1.8348631858825684,
          2.3753318786621094,
          4.248027324676514,
          2.763967990875244,
          4.750502109527588,
          4.651413917541504,
          2.9061989784240723,
          1.9220824241638184,
          3.811753749847412,
          3.2591395378112793,
          5.812899589538574,
          1.053201675415039,
          5.055585861206055,
          2.9136877059936523,
          3.4543914794921875,
          1.2193312644958496,
          0.9173007011413574,
          3.6614670753479004,
          5.943941116333008,
          1.0263490676879883,
          4.861577033996582,
          3.6153697967529297,
          2.300355911254883,
          1.592325210571289,
          3.6274924278259277,
          3.0693650245666504,
          0.9611711502075195,
          4.765576362609863,
          2.1216721534729004,
          3.4355087280273438,
          5.591641902923584,
          2.542273998260498,
          5.553617477416992,
          1.6879854202270508,
          1.913388729095459,
          2.96457576751709,
          5.71315336227417,
          2.2001070976257324,
          2.5495753288269043,
          2.1162633895874023,
          3.1364798545837402,
          1.344264030456543,
          5.516753673553467,
          2.427682399749756,
          3.5742034912109375,
          2.4213690757751465,
          4.15077018737793,
          2.0488805770874023,
          2.5287094116210938,
          2.5287094116210938,
          3.733619213104248,
          2.5468196868896484,
          3.5796637535095215,
          2.293398857116699,
          4.703713893890381,
          3.1812186241149902,
          1.344264030456543,
          1.7943034172058105,
          2.763967990875244,
          5.369110107421875,
          5.822134971618652,
          2.1954002380371094,
          2.2959160804748535,
          4.420645713806152,
          4.3391900062561035,
          3.459601402282715,
          4.2421650886535645,
          1.743586540222168,
          5.050800323486328,
          2.8016395568847656,
          4.5705084800720215,
          1.4547100067138672,
          5.27235746383667,
          3.0405921936035156,
          3.1744956970214844,
          3.4092583656311035,
          3.3092002868652344,
          3.0058536529541016,
          3.515014171600342,
          2.300577163696289,
          4.9366679191589355,
          4.408325672149658,
          2.9079694747924805,
          2.7895541191101074,
          1.0682134628295898,
          1.7810301780700684,
          3.3439860343933105,
          2.8618717193603516,
          4.039111614227295,
          3.6465888023376465,
          2.763967990875244,
          3.3137946128845215,
          0.9611711502075195,
          2.625777244567871,
          1.344264030456543,
          4.659306526184082,
          2.6798386573791504,
          4.653314113616943,
          2.463848114013672,
          3.8606033325195312,
          2.763967990875244,
          2.2104291915893555,
          2.671170234680176,
          2.2677431106567383,
          4.6335930824279785,
          4.752145767211914,
          4.145732879638672,
          3.008730411529541,
          3.755631923675537,
          2.441739082336426,
          1.7721257209777832,
          1.732914924621582,
          1.732914924621582,
          1.4823198318481445,
          2.293398857116699,
          4.516792297363281,
          2.0488805770874023,
          4.856681823730469,
          1.3360190391540527,
          4.268332004547119,
          3.345574378967285,
          2.525552272796631,
          3.6303367614746094,
          1.2193312644958496,
          5.177475452423096,
          0.7191104888916016,
          2.3657002449035645,
          1.0859150886535645,
          3.374527931213379,
          2.356138229370117,
          1.963304042816162,
          4.0704665184021,
          4.166982650756836,
          3.096412181854248,
          2.3755650520324707,
          1.343092918395996,
          4.127821922302246,
          1.1378865242004395,
          2.795334815979004,
          1.6039156913757324,
          2.5151314735412598,
          4.2675347328186035,
          2.2178025245666504,
          0.7487096786499023,
          0.5960850715637207,
          2.424224376678467,
          4.980323314666748,
          2.763967990875244,
          3.5182833671569824,
          0.890357494354248,
          3.9602713584899902,
          3.1931204795837402,
          2.244933605194092,
          3.008108139038086,
          1.344264030456543,
          3.070730209350586,
          4.017232418060303,
          2.120032787322998,
          1.9608407020568848,
          2.38289213180542,
          3.6465888023376465,
          2.5468196868896484,
          4.257055282592773,
          1.344264030456543,
          1.2208075523376465,
          3.6754565238952637,
          4.370665073394775,
          3.8685569763183594,
          2.293398857116699,
          2.648197650909424,
          3.5840039253234863,
          1.6227474212646484,
          2.293398857116699,
          4.26198673248291,
          3.018688201904297,
          1.8141694068908691,
          3.2033286094665527,
          2.245060443878174,
          3.0358033180236816,
          3.0693650245666504,
          3.1446762084960938,
          1.7019643783569336,
          2.4596333503723145,
          2.708754062652588,
          2.606614112854004,
          1.841296672821045,
          1.344264030456543,
          3.121140956878662,
          2.6707048416137695,
          2.795334815979004,
          2.2396082878112793,
          2.2821598052978516,
          3.169079303741455,
          2.5991158485412598,
          2.2677431106567383,
          3.3429317474365234,
          2.954516887664795,
          2.381826400756836,
          3.684544563293457,
          2.1220030784606934,
          2.016261577606201,
          3.838174343109131,
          1.6139750480651855,
          2.604987144470215,
          2.459522247314453,
          3.6663389205932617,
          1.9464960098266602,
          2.244933605194092,
          5.471875190734863,
          2.7744526863098145,
          2.931239604949951,
          4.138338565826416,
          2.199492931365967,
          3.065006732940674,
          2.2959160804748535,
          3.2660412788391113,
          4.020229816436768,
          4.11575174331665,
          1.7855401039123535,
          2.427682399749756,
          4.207127094268799,
          2.5847082138061523,
          2.131619930267334,
          3.5182833671569824,
          1.625460147857666,
          3.2756247520446777,
          2.218614101409912,
          1.732914924621582,
          1.6879854202270508,
          1.9220824241638184,
          3.8347153663635254,
          2.5017876625061035,
          3.122297763824463,
          2.849728584289551,
          5.383975028991699,
          3.442049026489258,
          3.154853343963623,
          4.397700786590576,
          2.444092273712158,
          2.3939409255981445,
          2.293398857116699,
          2.2380242347717285,
          2.7895541191101074,
          4.296898365020752,
          2.2959160804748535,
          2.2036819458007812,
          3.6397056579589844,
          3.2595911026000977,
          2.7895541191101074,
          1.2905235290527344,
          3.342141628265381,
          4.419693946838379,
          3.9917120933532715,
          1.4418582916259766,
          2.7895541191101074,
          5.474542617797852,
          1.1765036582946777,
          1.4823198318481445,
          2.2396082878112793,
          4.169157028198242,
          3.2055883407592773,
          2.2959160804748535,
          2.763967990875244,
          2.312948703765869,
          2.763967990875244,
          1.2994842529296875,
          0.7487096786499023,
          3.1304802894592285,
          2.5258636474609375,
          2.2036819458007812,
          1.732914924621582,
          2.849728584289551,
          2.2959160804748535,
          3.5631680488586426,
          2.164238452911377,
          4.381471633911133,
          2.763967990875244,
          3.0693650245666504,
          3.121034622192383,
          4.398991584777832,
          1.4377355575561523,
          3.5840039253234863,
          3.9640378952026367,
          1.9220824241638184,
          3.392706871032715,
          3.0643391609191895,
          2.9905405044555664,
          2.763967990875244,
          3.1785426139831543,
          3.5631680488586426,
          2.2396082878112793,
          2.341507911682129,
          1.7751688957214355,
          2.4870705604553223,
          2.293398857116699,
          1.344264030456543,
          2.671170234680176,
          1.9739923477172852,
          3.0788402557373047,
          2.1580939292907715,
          2.0918779373168945,
          1.344264030456543,
          1.8114619255065918,
          1.7339038848876953,
          1.985762596130371,
          1.1509857177734375,
          3.313375949859619,
          2.164238452911377,
          4.492854595184326,
          2.293398857116699,
          2.916996479034424,
          2.7895541191101074,
          2.6798386573791504,
          1.9220824241638184,
          2.7718868255615234,
          1.344264030456543,
          2.456742286682129,
          3.480337142944336,
          3.0358033180236816,
          2.7895541191101074,
          3.5182833671569824,
          4.239268779754639,
          2.6363863945007324,
          2.5847082138061523,
          2.682701587677002,
          2.2959160804748535,
          2.7895541191101074,
          2.7895541191101074,
          2.763967990875244,
          3.21494197845459,
          2.1885342597961426,
          3.5182833671569824,
          2.6363863945007324,
          2.341507911682129,
          3.0358033180236816,
          2.225423812866211,
          1.344264030456543,
          3.5840039253234863,
          1.6877498626708984,
          2.763967990875244,
          3.2055883407592773,
          2.2396082878112793,
          3.154853343963623,
          1.344264030456543,
          1.6636290550231934,
          1.4495849609375,
          1.857496738433838,
          1.62762451171875,
          3.2089271545410156,
          2.763967990875244,
          2.2959160804748535,
          1.344264030456543,
          2.1216721534729004,
          2.1094260215759277,
          1.9792146682739258,
          2.7895541191101074,
          2.7895541191101074
         ]
        }
       ],
       "layout": {
        "font": {
         "size": 30
        },
        "paper_bgcolor": "white",
        "plot_bgcolor": "white",
        "template": {
         "data": {
          "bar": [
           {
            "error_x": {
             "color": "#2a3f5f"
            },
            "error_y": {
             "color": "#2a3f5f"
            },
            "marker": {
             "line": {
              "color": "#E5ECF6",
              "width": 0.5
             },
             "pattern": {
              "fillmode": "overlay",
              "size": 10,
              "solidity": 0.2
             }
            },
            "type": "bar"
           }
          ],
          "barpolar": [
           {
            "marker": {
             "line": {
              "color": "#E5ECF6",
              "width": 0.5
             },
             "pattern": {
              "fillmode": "overlay",
              "size": 10,
              "solidity": 0.2
             }
            },
            "type": "barpolar"
           }
          ],
          "carpet": [
           {
            "aaxis": {
             "endlinecolor": "#2a3f5f",
             "gridcolor": "white",
             "linecolor": "white",
             "minorgridcolor": "white",
             "startlinecolor": "#2a3f5f"
            },
            "baxis": {
             "endlinecolor": "#2a3f5f",
             "gridcolor": "white",
             "linecolor": "white",
             "minorgridcolor": "white",
             "startlinecolor": "#2a3f5f"
            },
            "type": "carpet"
           }
          ],
          "choropleth": [
           {
            "colorbar": {
             "outlinewidth": 0,
             "ticks": ""
            },
            "type": "choropleth"
           }
          ],
          "contour": [
           {
            "colorbar": {
             "outlinewidth": 0,
             "ticks": ""
            },
            "colorscale": [
             [
              0,
              "#0d0887"
             ],
             [
              0.1111111111111111,
              "#46039f"
             ],
             [
              0.2222222222222222,
              "#7201a8"
             ],
             [
              0.3333333333333333,
              "#9c179e"
             ],
             [
              0.4444444444444444,
              "#bd3786"
             ],
             [
              0.5555555555555556,
              "#d8576b"
             ],
             [
              0.6666666666666666,
              "#ed7953"
             ],
             [
              0.7777777777777778,
              "#fb9f3a"
             ],
             [
              0.8888888888888888,
              "#fdca26"
             ],
             [
              1,
              "#f0f921"
             ]
            ],
            "type": "contour"
           }
          ],
          "contourcarpet": [
           {
            "colorbar": {
             "outlinewidth": 0,
             "ticks": ""
            },
            "type": "contourcarpet"
           }
          ],
          "heatmap": [
           {
            "colorbar": {
             "outlinewidth": 0,
             "ticks": ""
            },
            "colorscale": [
             [
              0,
              "#0d0887"
             ],
             [
              0.1111111111111111,
              "#46039f"
             ],
             [
              0.2222222222222222,
              "#7201a8"
             ],
             [
              0.3333333333333333,
              "#9c179e"
             ],
             [
              0.4444444444444444,
              "#bd3786"
             ],
             [
              0.5555555555555556,
              "#d8576b"
             ],
             [
              0.6666666666666666,
              "#ed7953"
             ],
             [
              0.7777777777777778,
              "#fb9f3a"
             ],
             [
              0.8888888888888888,
              "#fdca26"
             ],
             [
              1,
              "#f0f921"
             ]
            ],
            "type": "heatmap"
           }
          ],
          "heatmapgl": [
           {
            "colorbar": {
             "outlinewidth": 0,
             "ticks": ""
            },
            "colorscale": [
             [
              0,
              "#0d0887"
             ],
             [
              0.1111111111111111,
              "#46039f"
             ],
             [
              0.2222222222222222,
              "#7201a8"
             ],
             [
              0.3333333333333333,
              "#9c179e"
             ],
             [
              0.4444444444444444,
              "#bd3786"
             ],
             [
              0.5555555555555556,
              "#d8576b"
             ],
             [
              0.6666666666666666,
              "#ed7953"
             ],
             [
              0.7777777777777778,
              "#fb9f3a"
             ],
             [
              0.8888888888888888,
              "#fdca26"
             ],
             [
              1,
              "#f0f921"
             ]
            ],
            "type": "heatmapgl"
           }
          ],
          "histogram": [
           {
            "marker": {
             "pattern": {
              "fillmode": "overlay",
              "size": 10,
              "solidity": 0.2
             }
            },
            "type": "histogram"
           }
          ],
          "histogram2d": [
           {
            "colorbar": {
             "outlinewidth": 0,
             "ticks": ""
            },
            "colorscale": [
             [
              0,
              "#0d0887"
             ],
             [
              0.1111111111111111,
              "#46039f"
             ],
             [
              0.2222222222222222,
              "#7201a8"
             ],
             [
              0.3333333333333333,
              "#9c179e"
             ],
             [
              0.4444444444444444,
              "#bd3786"
             ],
             [
              0.5555555555555556,
              "#d8576b"
             ],
             [
              0.6666666666666666,
              "#ed7953"
             ],
             [
              0.7777777777777778,
              "#fb9f3a"
             ],
             [
              0.8888888888888888,
              "#fdca26"
             ],
             [
              1,
              "#f0f921"
             ]
            ],
            "type": "histogram2d"
           }
          ],
          "histogram2dcontour": [
           {
            "colorbar": {
             "outlinewidth": 0,
             "ticks": ""
            },
            "colorscale": [
             [
              0,
              "#0d0887"
             ],
             [
              0.1111111111111111,
              "#46039f"
             ],
             [
              0.2222222222222222,
              "#7201a8"
             ],
             [
              0.3333333333333333,
              "#9c179e"
             ],
             [
              0.4444444444444444,
              "#bd3786"
             ],
             [
              0.5555555555555556,
              "#d8576b"
             ],
             [
              0.6666666666666666,
              "#ed7953"
             ],
             [
              0.7777777777777778,
              "#fb9f3a"
             ],
             [
              0.8888888888888888,
              "#fdca26"
             ],
             [
              1,
              "#f0f921"
             ]
            ],
            "type": "histogram2dcontour"
           }
          ],
          "mesh3d": [
           {
            "colorbar": {
             "outlinewidth": 0,
             "ticks": ""
            },
            "type": "mesh3d"
           }
          ],
          "parcoords": [
           {
            "line": {
             "colorbar": {
              "outlinewidth": 0,
              "ticks": ""
             }
            },
            "type": "parcoords"
           }
          ],
          "pie": [
           {
            "automargin": true,
            "type": "pie"
           }
          ],
          "scatter": [
           {
            "fillpattern": {
             "fillmode": "overlay",
             "size": 10,
             "solidity": 0.2
            },
            "type": "scatter"
           }
          ],
          "scatter3d": [
           {
            "line": {
             "colorbar": {
              "outlinewidth": 0,
              "ticks": ""
             }
            },
            "marker": {
             "colorbar": {
              "outlinewidth": 0,
              "ticks": ""
             }
            },
            "type": "scatter3d"
           }
          ],
          "scattercarpet": [
           {
            "marker": {
             "colorbar": {
              "outlinewidth": 0,
              "ticks": ""
             }
            },
            "type": "scattercarpet"
           }
          ],
          "scattergeo": [
           {
            "marker": {
             "colorbar": {
              "outlinewidth": 0,
              "ticks": ""
             }
            },
            "type": "scattergeo"
           }
          ],
          "scattergl": [
           {
            "marker": {
             "colorbar": {
              "outlinewidth": 0,
              "ticks": ""
             }
            },
            "type": "scattergl"
           }
          ],
          "scattermapbox": [
           {
            "marker": {
             "colorbar": {
              "outlinewidth": 0,
              "ticks": ""
             }
            },
            "type": "scattermapbox"
           }
          ],
          "scatterpolar": [
           {
            "marker": {
             "colorbar": {
              "outlinewidth": 0,
              "ticks": ""
             }
            },
            "type": "scatterpolar"
           }
          ],
          "scatterpolargl": [
           {
            "marker": {
             "colorbar": {
              "outlinewidth": 0,
              "ticks": ""
             }
            },
            "type": "scatterpolargl"
           }
          ],
          "scatterternary": [
           {
            "marker": {
             "colorbar": {
              "outlinewidth": 0,
              "ticks": ""
             }
            },
            "type": "scatterternary"
           }
          ],
          "surface": [
           {
            "colorbar": {
             "outlinewidth": 0,
             "ticks": ""
            },
            "colorscale": [
             [
              0,
              "#0d0887"
             ],
             [
              0.1111111111111111,
              "#46039f"
             ],
             [
              0.2222222222222222,
              "#7201a8"
             ],
             [
              0.3333333333333333,
              "#9c179e"
             ],
             [
              0.4444444444444444,
              "#bd3786"
             ],
             [
              0.5555555555555556,
              "#d8576b"
             ],
             [
              0.6666666666666666,
              "#ed7953"
             ],
             [
              0.7777777777777778,
              "#fb9f3a"
             ],
             [
              0.8888888888888888,
              "#fdca26"
             ],
             [
              1,
              "#f0f921"
             ]
            ],
            "type": "surface"
           }
          ],
          "table": [
           {
            "cells": {
             "fill": {
              "color": "#EBF0F8"
             },
             "line": {
              "color": "white"
             }
            },
            "header": {
             "fill": {
              "color": "#C8D4E3"
             },
             "line": {
              "color": "white"
             }
            },
            "type": "table"
           }
          ]
         },
         "layout": {
          "annotationdefaults": {
           "arrowcolor": "#2a3f5f",
           "arrowhead": 0,
           "arrowwidth": 1
          },
          "autotypenumbers": "strict",
          "coloraxis": {
           "colorbar": {
            "outlinewidth": 0,
            "ticks": ""
           }
          },
          "colorscale": {
           "diverging": [
            [
             0,
             "#8e0152"
            ],
            [
             0.1,
             "#c51b7d"
            ],
            [
             0.2,
             "#de77ae"
            ],
            [
             0.3,
             "#f1b6da"
            ],
            [
             0.4,
             "#fde0ef"
            ],
            [
             0.5,
             "#f7f7f7"
            ],
            [
             0.6,
             "#e6f5d0"
            ],
            [
             0.7,
             "#b8e186"
            ],
            [
             0.8,
             "#7fbc41"
            ],
            [
             0.9,
             "#4d9221"
            ],
            [
             1,
             "#276419"
            ]
           ],
           "sequential": [
            [
             0,
             "#0d0887"
            ],
            [
             0.1111111111111111,
             "#46039f"
            ],
            [
             0.2222222222222222,
             "#7201a8"
            ],
            [
             0.3333333333333333,
             "#9c179e"
            ],
            [
             0.4444444444444444,
             "#bd3786"
            ],
            [
             0.5555555555555556,
             "#d8576b"
            ],
            [
             0.6666666666666666,
             "#ed7953"
            ],
            [
             0.7777777777777778,
             "#fb9f3a"
            ],
            [
             0.8888888888888888,
             "#fdca26"
            ],
            [
             1,
             "#f0f921"
            ]
           ],
           "sequentialminus": [
            [
             0,
             "#0d0887"
            ],
            [
             0.1111111111111111,
             "#46039f"
            ],
            [
             0.2222222222222222,
             "#7201a8"
            ],
            [
             0.3333333333333333,
             "#9c179e"
            ],
            [
             0.4444444444444444,
             "#bd3786"
            ],
            [
             0.5555555555555556,
             "#d8576b"
            ],
            [
             0.6666666666666666,
             "#ed7953"
            ],
            [
             0.7777777777777778,
             "#fb9f3a"
            ],
            [
             0.8888888888888888,
             "#fdca26"
            ],
            [
             1,
             "#f0f921"
            ]
           ]
          },
          "colorway": [
           "#636efa",
           "#EF553B",
           "#00cc96",
           "#ab63fa",
           "#FFA15A",
           "#19d3f3",
           "#FF6692",
           "#B6E880",
           "#FF97FF",
           "#FECB52"
          ],
          "font": {
           "color": "#2a3f5f"
          },
          "geo": {
           "bgcolor": "white",
           "lakecolor": "white",
           "landcolor": "#E5ECF6",
           "showlakes": true,
           "showland": true,
           "subunitcolor": "white"
          },
          "hoverlabel": {
           "align": "left"
          },
          "hovermode": "closest",
          "mapbox": {
           "style": "light"
          },
          "paper_bgcolor": "white",
          "plot_bgcolor": "#E5ECF6",
          "polar": {
           "angularaxis": {
            "gridcolor": "white",
            "linecolor": "white",
            "ticks": ""
           },
           "bgcolor": "#E5ECF6",
           "radialaxis": {
            "gridcolor": "white",
            "linecolor": "white",
            "ticks": ""
           }
          },
          "scene": {
           "xaxis": {
            "backgroundcolor": "#E5ECF6",
            "gridcolor": "white",
            "gridwidth": 2,
            "linecolor": "white",
            "showbackground": true,
            "ticks": "",
            "zerolinecolor": "white"
           },
           "yaxis": {
            "backgroundcolor": "#E5ECF6",
            "gridcolor": "white",
            "gridwidth": 2,
            "linecolor": "white",
            "showbackground": true,
            "ticks": "",
            "zerolinecolor": "white"
           },
           "zaxis": {
            "backgroundcolor": "#E5ECF6",
            "gridcolor": "white",
            "gridwidth": 2,
            "linecolor": "white",
            "showbackground": true,
            "ticks": "",
            "zerolinecolor": "white"
           }
          },
          "shapedefaults": {
           "line": {
            "color": "#2a3f5f"
           }
          },
          "ternary": {
           "aaxis": {
            "gridcolor": "white",
            "linecolor": "white",
            "ticks": ""
           },
           "baxis": {
            "gridcolor": "white",
            "linecolor": "white",
            "ticks": ""
           },
           "bgcolor": "#E5ECF6",
           "caxis": {
            "gridcolor": "white",
            "linecolor": "white",
            "ticks": ""
           }
          },
          "title": {
           "x": 0.05
          },
          "xaxis": {
           "automargin": true,
           "gridcolor": "white",
           "linecolor": "white",
           "ticks": "",
           "title": {
            "standoff": 15
           },
           "zerolinecolor": "white",
           "zerolinewidth": 2
          },
          "yaxis": {
           "automargin": true,
           "gridcolor": "white",
           "linecolor": "white",
           "ticks": "",
           "title": {
            "standoff": 15
           },
           "zerolinecolor": "white",
           "zerolinewidth": 2
          }
         }
        },
        "title": {
         "text": "Distribution of Difference In Nuclear Norms - DGI vs DGI+XM"
        },
        "xaxis": {
         "title": {
          "text": "Difference In Nuclear Norms - DGI vs DGI+XM"
         }
        },
        "yaxis": {
         "title": {
          "text": "Frequency"
         }
        }
       }
      },
      "text/html": [
       "<div>                            <div id=\"1ea771ae-74dd-4a4a-8807-86ec28fadf3d\" class=\"plotly-graph-div\" style=\"height:525px; width:100%;\"></div>            <script type=\"text/javascript\">                require([\"plotly\"], function(Plotly) {                    window.PLOTLYENV=window.PLOTLYENV || {};                                    if (document.getElementById(\"1ea771ae-74dd-4a4a-8807-86ec28fadf3d\")) {                    Plotly.newPlot(                        \"1ea771ae-74dd-4a4a-8807-86ec28fadf3d\",                        [{\"x\":[3.2015790939331055,5.286838531494141,3.970397472381592,1.0124130249023438,0.37380456924438477,4.24226713180542,3.812650203704834,2.6297764778137207,4.561317443847656,0.6346092224121094,2.8117265701293945,4.419162750244141,1.257215976715088,1.222970962524414,2.1356916427612305,0.9760751724243164,4.431910514831543,0.20950794219970703,3.151111602783203,1.293034553527832,3.632815361022949,1.1588077545166016,0.6254115104675293,1.5474843978881836,0.7085680961608887,5.19802713394165,0.3739008903503418,1.4442353248596191,0.3257756233215332,2.0599899291992188,1.8693504333496094,1.0561718940734863,2.398406982421875,3.0030198097229004,3.9029603004455566,3.4176902770996094,0.9591288566589355,1.1906380653381348,1.0723543167114258,4.654388427734375,0.49277257919311523,2.850707530975342,3.9045257568359375,0.4739537239074707,0.413266658782959,0.9930977821350098,0.6725301742553711,3.48874568939209,1.0291123390197754,0.6897416114807129,0.7871012687683105,0.8592901229858398,2.3656187057495117,3.892385959625244,0.5482368469238281,1.3495349884033203,4.021288871765137,1.210127830505371,0.4385566711425781,0.7285270690917969,0.9748101234436035,4.445518970489502,1.20277738571167,0.45604419708251953,2.6434764862060547,1.5092077255249023,1.2223787307739258,0.9631257057189941,3.117691993713379,0.1219334602355957,0.9089131355285645,0.8725457191467285,2.270867347717285,1.4749746322631836,1.4273929595947266,1.759786605834961,3.5941848754882812,0.6114411354064941,3.2375826835632324,0.8048839569091797,3.586547374725342,3.2820935249328613,4.295161724090576,0.5936951637268066,2.7043232917785645,3.554469108581543,0.8601093292236328,3.357883930206299,1.1253118515014648,3.574799060821533,0.9077596664428711,3.2327356338500977,0.5072541236877441,0.520444393157959,0.8293247222900391,2.251523971557617,1.7200212478637695,0.7954921722412109,3.2711806297302246,2.282268524169922,3.560272216796875,2.5106515884399414,4.155320644378662,2.184663772583008,2.2770705223083496,-0.006375789642333984,3.818470001220703,3.8077144622802734,1.0386571884155273,2.5953550338745117,1.2523155212402344,4.718954563140869,1.1854114532470703,1.3580689430236816,1.1151056289672852,0.12380218505859375,1.607295036315918,0.6829128265380859,1.0391488075256348,1.9503388404846191,1.2523999214172363,0.5878710746765137,2.6485986709594727,1.513169288635254,0.7936391830444336,2.4346256256103516,2.5272068977355957,1.4944562911987305,1.8985137939453125,0.8523268699645996,1.9769949913024902,3.5121355056762695,1.7129621505737305,3.3066115379333496,1.0197696685791016,1.172698974609375,0.6232481002807617,0.12552976608276367,3.6614670753479004,3.1799044609069824,5.69925594329834,2.3993687629699707,1.1368217468261719,2.1641716957092285,1.2071518898010254,3.6272873878479004,3.771585464477539,4.92121696472168,0.8480873107910156,3.924135684967041,2.9525704383850098,1.4651918411254883,3.723665714263916,2.759857177734375,0.6939549446105957,2.429922580718994,1.5488815307617188,0.00855875015258789,1.6410298347473145,5.120285511016846,0.3178372383117676,4.226649284362793,2.4061355590820312,3.4777626991271973,2.406040668487549,1.4341702461242676,2.238142967224121,1.3421354293823242,1.1193180084228516,0.22826814651489258,4.616722583770752,2.7953405380249023,1.4972381591796875,2.977450370788574,1.162057876586914,2.351208209991455,3.6219067573547363,1.2186040878295898,3.513172149658203,2.7040891647338867,2.9288787841796875,1.1715168952941895,5.174519062042236,2.7675046920776367,3.0809435844421387,0.6997380256652832,2.1669554710388184,1.9470062255859375,5.013845443725586,1.6277155876159668,1.9522042274475098,4.841338634490967,2.4761862754821777,2.2476348876953125,4.90219783782959,2.456000328063965,1.8070855140686035,1.7878508567810059,5.141386985778809,1.027604103088379,3.6827569007873535,0.5846185684204102,0.9756245613098145,4.106156826019287,2.8536934852600098,0.739105224609375,1.9637999534606934,3.500657081604004,1.7082395553588867,2.712977886199951,3.2378435134887695,2.188814640045166,2.0131969451904297,0.5147237777709961,1.5822806358337402,0.6864290237426758,2.768522262573242,0.5128545761108398,-0.19215631484985352,1.4647526741027832,2.755016326904297,0.9930901527404785,1.5850439071655273,1.0118980407714844,5.191708087921143,4.174046516418457,5.498970031738281,4.05499267578125,1.201028823852539,0.7802762985229492,1.4651226997375488,3.452998638153076,1.7430157661437988,5.0904860496521,2.568955898284912,1.2132329940795898,3.5489063262939453,2.761669635772705,1.9781107902526855,4.610125541687012,3.3080062866210938,3.232746124267578,4.964599132537842,1.0278739929199219,1.609269142150879,2.9509596824645996,3.3542137145996094,4.714971542358398,1.0912666320800781,3.5617470741271973,1.711501121520996,3.0055179595947266,2.763967990875244,1.8542766571044922,2.532576560974121,1.2642388343811035,1.41701078414917,4.07080078125,1.5974617004394531,3.934907913208008,4.298564910888672,2.7979483604431152,2.7560906410217285,1.2675962448120117,3.0501136779785156,0.930473804473877,3.279524803161621,1.2899713516235352,1.6433238983154297,4.002140998840332,5.374008655548096,3.7146434783935547,5.29229736328125,0.6810493469238281,2.5004491806030273,3.0068187713623047,3.533092498779297,1.8302350044250488,3.8919858932495117,2.12725830078125,2.0581231117248535,4.626289367675781,0.837677001953125,1.8005738258361816,2.8001537322998047,2.7583279609680176,1.971229076385498,2.2803659439086914,0.9969143867492676,3.6322646141052246,3.6684865951538086,6.459629058837891,3.653395175933838,4.421789169311523,3.326256275177002,1.7744331359863281,1.7969379425048828,1.7816963195800781,5.5115437507629395,3.2508554458618164,4.656598091125488,5.053554058074951,4.567457675933838,1.8252501487731934,1.1641802787780762,0.9740376472473145,2.9648733139038086,1.8694777488708496,2.7223353385925293,3.015774726867676,3.1335387229919434,4.7043375968933105,4.121523857116699,0.5744190216064453,1.1214184761047363,0.9166903495788574,3.1866021156311035,2.799799919128418,1.8230972290039062,1.0934038162231445,2.293398857116699,1.2165746688842773,5.088230133056641,2.325620651245117,4.301823616027832,2.68894100189209,2.1343111991882324,3.562211513519287,4.865335941314697,5.083057403564453,2.9814672470092773,4.408112049102783,2.3926424980163574,3.5945606231689453,3.6700315475463867,1.9775681495666504,0.8175711631774902,5.810154438018799,0.6844501495361328,3.4821462631225586,4.400224208831787,1.6971216201782227,3.689380645751953,3.8984336853027344,2.483232021331787,2.132735252380371,3.2542734146118164,2.468400001525879,2.0488805770874023,4.654396057128906,5.172059535980225,3.507317543029785,5.820372581481934,4.160035133361816,0.37753820419311523,2.2396082878112793,5.76522970199585,3.5764312744140625,3.4161295890808105,3.6606202125549316,1.2198896408081055,0.9336271286010742,3.6848206520080566,1.7591066360473633,1.56532621383667,2.2001070976257324,2.2536420822143555,4.629018306732178,1.9204378128051758,2.9519424438476562,2.5379576683044434,3.900035858154297,1.6570086479187012,3.0343880653381348,2.664653778076172,3.004199981689453,2.0986976623535156,2.03825044631958,0.8192558288574219,4.64291524887085,2.5799598693847656,5.033224582672119,3.6899261474609375,2.333134651184082,3.271188259124756,2.7362451553344727,4.272924423217773,3.9673714637756348,1.3895812034606934,2.937800884246826,4.919102191925049,4.610613822937012,1.607100009918213,3.161407470703125,0.8593697547912598,4.227443695068359,3.13545560836792,3.4225473403930664,1.8646173477172852,2.8093667030334473,4.611478805541992,1.9335551261901855,4.554647445678711,3.107895851135254,1.4721689224243164,2.8224925994873047,3.8205690383911133,3.0033226013183594,3.0727739334106445,3.965266704559326,2.241701126098633,1.0672283172607422,3.4718751907348633,1.4983124732971191,4.531034469604492,5.02335786819458,1.010171890258789,2.536146640777588,1.9198479652404785,2.050363540649414,4.669640064239502,4.672764778137207,4.891269683837891,2.297799587249756,4.807171821594238,2.9301962852478027,2.123422622680664,3.730776786804199,2.4026665687561035,5.975222587585449,2.1768689155578613,4.96654748916626,3.101628303527832,3.1518354415893555,1.024472713470459,2.5420589447021484,2.005190372467041,4.414565086364746,3.9922962188720703,3.4771361351013184,5.005747318267822,1.6000170707702637,2.370718479156494,1.7926592826843262,4.1529412269592285,4.926981449127197,2.698235511779785,3.491187572479248,4.943819046020508,4.76530647277832,4.304396629333496,6.13867712020874,3.27592134475708,1.7123603820800781,4.904433727264404,2.5786056518554688,2.7491273880004883,1.8952503204345703,3.100545883178711,2.8033246994018555,3.099398612976074,3.065006732940674,2.3779993057250977,2.926722526550293,3.8289804458618164,4.84420919418335,4.987060070037842,3.2063422203063965,2.2271170616149902,1.320744514465332,0.2964763641357422,2.937407970428467,1.079857349395752,2.325863838195801,3.8195743560791016,3.0194835662841797,3.0551228523254395,2.813760757446289,5.147871017456055,5.663083076477051,4.243926525115967,4.358829021453857,6.003782749176025,2.6993532180786133,1.862238883972168,3.5836167335510254,2.0889625549316406,3.1434249877929688,3.4517502784729004,1.2482361793518066,0.6265087127685547,2.427682399749756,3.5822834968566895,5.00155782699585,1.6556353569030762,3.5413970947265625,3.1879968643188477,4.482393741607666,5.459430694580078,2.377734661102295,5.569363594055176,2.785983085632324,1.5115880966186523,3.6293630599975586,2.647876262664795,0.5448193550109863,3.052903652191162,2.055433750152588,4.0864787101745605,3.081353187561035,3.1723694801330566,1.7855401039123535,3.4018192291259766,5.202168941497803,4.720463752746582,2.2432870864868164,2.1021833419799805,2.5347700119018555,3.0643653869628906,2.8784589767456055,2.334076404571533,3.616619110107422,4.582453727722168,3.203913688659668,3.8028550148010254,2.2263283729553223,4.0883941650390625,3.1763625144958496,2.0488805770874023,2.3933324813842773,5.191651344299316,3.8368287086486816,2.091484546661377,3.7918105125427246,4.673322677612305,3.4922943115234375,2.97247314453125,4.348575115203857,3.7138710021972656,2.1066532135009766,4.455260753631592,1.999098300933838,4.36724328994751,1.8536086082458496,3.469137191772461,3.00821590423584,2.293398857116699,2.463848114013672,3.4004292488098145,3.664525032043457,5.5155205726623535,2.1421303749084473,5.0924248695373535,4.238794326782227,2.4859304428100586,2.9594764709472656,4.521213531494141,3.4780707359313965,3.9152402877807617,2.7324180603027344,2.2681126594543457,2.834029197692871,4.382314682006836,2.631951332092285,4.336028575897217,1.7380189895629883,2.1761794090270996,5.156464099884033,5.423832893371582,1.6698122024536133,2.4529495239257812,5.011672019958496,4.413717746734619,5.360983848571777,4.866176128387451,1.6039156913757324,3.9497499465942383,2.7587552070617676,4.74338436126709,2.1444807052612305,3.2826333045959473,4.244932651519775,2.315260410308838,4.788357734680176,6.375454902648926,6.305235862731934,3.412343978881836,4.29073429107666,2.9538822174072266,3.644916534423828,3.4981369972229004,2.763967990875244,2.128335952758789,4.493052959442139,2.893050193786621,2.9437475204467773,1.2491774559020996,2.293398857116699,3.8453469276428223,2.961549758911133,3.5070018768310547,2.8785314559936523,3.5095882415771484,3.1265578269958496,2.850308418273926,2.2959160804748535,5.1696882247924805,5.036098480224609,1.8651609420776367,3.4272379875183105,4.0978569984436035,2.8105506896972656,3.284592628479004,2.244933605194092,2.435238838195801,5.6126580238342285,4.512330055236816,3.958719253540039,2.8857030868530273,3.109041690826416,2.2547903060913086,3.534733772277832,5.61785888671875,5.1038007736206055,5.068743705749512,2.263579845428467,3.933840751647949,2.4690699577331543,2.2162437438964844,3.850635528564453,4.655827522277832,2.59816837310791,2.49932861328125,0.8541769981384277,1.2651581764221191,4.312002658843994,0.9712939262390137,0.31557369232177734,3.151700019836426,3.657041549682617,2.897778034210205,2.9241342544555664,3.4000425338745117,1.9011812210083008,5.260601043701172,3.1673102378845215,1.9231023788452148,1.9220824241638184,0.6848912239074707,5.316758632659912,2.358159065246582,2.1684532165527344,2.427682399749756,2.996652603149414,4.353238582611084,4.612897872924805,4.784146308898926,2.626185894012451,4.335115432739258,2.9369897842407227,1.0563173294067383,1.654029369354248,3.5585389137268066,3.541132926940918,2.175124168395996,2.7960147857666016,3.6096415519714355,2.2396082878112793,2.364866256713867,3.0054049491882324,2.172978401184082,3.961893081665039,1.2324938774108887,0.8042407035827637,4.405472278594971,3.676851272583008,4.273930072784424,1.2339558601379395,4.42604923248291,4.702795028686523,3.278076648712158,3.8169760704040527,2.3146486282348633,5.565277576446533,3.9102134704589844,2.942307472229004,0.5906343460083008,4.279736518859863,5.786870002746582,3.603349208831787,3.0054049491882324,3.3896584510803223,4.747411251068115,0.9611711502075195,4.997157096862793,2.0488805770874023,5.237157821655273,1.7869110107421875,2.8842978477478027,2.415363311767578,3.1510353088378906,5.173730373382568,2.283520221710205,3.5782604217529297,4.943308353424072,4.066732883453369,2.0488805770874023,3.071092128753662,2.9594764709472656,2.402698040008545,3.0172386169433594,4.232818603515625,5.07950496673584,3.488767147064209,3.6614670753479004,3.6465888023376465,1.9384651184082031,-0.38228464126586914,2.0488805770874023,1.779090404510498,3.7766833305358887,4.657750129699707,2.430039882659912,3.7452969551086426,4.211784362792969,2.9594764709472656,5.577619552612305,2.865478992462158,2.6768603324890137,2.536146640777588,5.122034549713135,1.5573363304138184,1.8141694068908691,4.0845746994018555,2.702991485595703,2.976097583770752,3.301443099975586,3.7485909461975098,2.9020071029663086,4.934454917907715,1.3035650253295898,2.293398857116699,1.344264030456543,3.671905994415283,3.312469482421875,4.73196268081665,5.522388458251953,4.4926347732543945,5.1634840965271,4.839382171630859,2.3192529678344727,5.874068260192871,4.690857887268066,3.0327720642089844,3.9593381881713867,2.525552272796631,1.7698922157287598,1.425276279449463,0.35163354873657227,4.29073429107666,1.2399249076843262,3.7607765197753906,2.7895541191101074,1.5388379096984863,1.6808443069458008,4.000835418701172,3.5840039253234863,2.2880029678344727,4.432071208953857,5.625793933868408,3.5333003997802734,3.00136661529541,5.874196529388428,3.107626438140869,3.5795788764953613,4.507994174957275,3.412177562713623,1.769747257232666,3.248760223388672,5.31118631362915,5.930375099182129,2.6890034675598145,2.9996981620788574,2.8080925941467285,1.6460809707641602,1.6808443069458008,3.734701156616211,2.8355441093444824,2.5346293449401855,3.819385051727295,2.199492931365967,3.4374942779541016,3.502833843231201,5.211165428161621,4.874593734741211,4.343090057373047,3.4332761764526367,3.4548120498657227,2.9828476905822754,2.244933605194092,2.293398857116699,2.8769755363464355,4.479742050170898,3.170072555541992,1.1816625595092773,1.9856390953063965,3.5990209579467773,4.100119113922119,2.442910671234131,5.2036261558532715,1.8914122581481934,2.306334972381592,1.937469482421875,2.654116153717041,3.134005546569824,3.6458144187927246,1.7943034172058105,1.7216219902038574,4.9900994300842285,2.188814640045166,4.4292192459106445,1.6636290550231934,1.3930916786193848,2.595287322998047,2.196415901184082,2.849728584289551,1.6803545951843262,1.9565682411193848,3.4688000679016113,1.8348631858825684,2.3753318786621094,4.248027324676514,2.763967990875244,4.750502109527588,4.651413917541504,2.9061989784240723,1.9220824241638184,3.811753749847412,3.2591395378112793,5.812899589538574,1.053201675415039,5.055585861206055,2.9136877059936523,3.4543914794921875,1.2193312644958496,0.9173007011413574,3.6614670753479004,5.943941116333008,1.0263490676879883,4.861577033996582,3.6153697967529297,2.300355911254883,1.592325210571289,3.6274924278259277,3.0693650245666504,0.9611711502075195,4.765576362609863,2.1216721534729004,3.4355087280273438,5.591641902923584,2.542273998260498,5.553617477416992,1.6879854202270508,1.913388729095459,2.96457576751709,5.71315336227417,2.2001070976257324,2.5495753288269043,2.1162633895874023,3.1364798545837402,1.344264030456543,5.516753673553467,2.427682399749756,3.5742034912109375,2.4213690757751465,4.15077018737793,2.0488805770874023,2.5287094116210938,2.5287094116210938,3.733619213104248,2.5468196868896484,3.5796637535095215,2.293398857116699,4.703713893890381,3.1812186241149902,1.344264030456543,1.7943034172058105,2.763967990875244,5.369110107421875,5.822134971618652,2.1954002380371094,2.2959160804748535,4.420645713806152,4.3391900062561035,3.459601402282715,4.2421650886535645,1.743586540222168,5.050800323486328,2.8016395568847656,4.5705084800720215,1.4547100067138672,5.27235746383667,3.0405921936035156,3.1744956970214844,3.4092583656311035,3.3092002868652344,3.0058536529541016,3.515014171600342,2.300577163696289,4.9366679191589355,4.408325672149658,2.9079694747924805,2.7895541191101074,1.0682134628295898,1.7810301780700684,3.3439860343933105,2.8618717193603516,4.039111614227295,3.6465888023376465,2.763967990875244,3.3137946128845215,0.9611711502075195,2.625777244567871,1.344264030456543,4.659306526184082,2.6798386573791504,4.653314113616943,2.463848114013672,3.8606033325195312,2.763967990875244,2.2104291915893555,2.671170234680176,2.2677431106567383,4.6335930824279785,4.752145767211914,4.145732879638672,3.008730411529541,3.755631923675537,2.441739082336426,1.7721257209777832,1.732914924621582,1.732914924621582,1.4823198318481445,2.293398857116699,4.516792297363281,2.0488805770874023,4.856681823730469,1.3360190391540527,4.268332004547119,3.345574378967285,2.525552272796631,3.6303367614746094,1.2193312644958496,5.177475452423096,0.7191104888916016,2.3657002449035645,1.0859150886535645,3.374527931213379,2.356138229370117,1.963304042816162,4.0704665184021,4.166982650756836,3.096412181854248,2.3755650520324707,1.343092918395996,4.127821922302246,1.1378865242004395,2.795334815979004,1.6039156913757324,2.5151314735412598,4.2675347328186035,2.2178025245666504,0.7487096786499023,0.5960850715637207,2.424224376678467,4.980323314666748,2.763967990875244,3.5182833671569824,0.890357494354248,3.9602713584899902,3.1931204795837402,2.244933605194092,3.008108139038086,1.344264030456543,3.070730209350586,4.017232418060303,2.120032787322998,1.9608407020568848,2.38289213180542,3.6465888023376465,2.5468196868896484,4.257055282592773,1.344264030456543,1.2208075523376465,3.6754565238952637,4.370665073394775,3.8685569763183594,2.293398857116699,2.648197650909424,3.5840039253234863,1.6227474212646484,2.293398857116699,4.26198673248291,3.018688201904297,1.8141694068908691,3.2033286094665527,2.245060443878174,3.0358033180236816,3.0693650245666504,3.1446762084960938,1.7019643783569336,2.4596333503723145,2.708754062652588,2.606614112854004,1.841296672821045,1.344264030456543,3.121140956878662,2.6707048416137695,2.795334815979004,2.2396082878112793,2.2821598052978516,3.169079303741455,2.5991158485412598,2.2677431106567383,3.3429317474365234,2.954516887664795,2.381826400756836,3.684544563293457,2.1220030784606934,2.016261577606201,3.838174343109131,1.6139750480651855,2.604987144470215,2.459522247314453,3.6663389205932617,1.9464960098266602,2.244933605194092,5.471875190734863,2.7744526863098145,2.931239604949951,4.138338565826416,2.199492931365967,3.065006732940674,2.2959160804748535,3.2660412788391113,4.020229816436768,4.11575174331665,1.7855401039123535,2.427682399749756,4.207127094268799,2.5847082138061523,2.131619930267334,3.5182833671569824,1.625460147857666,3.2756247520446777,2.218614101409912,1.732914924621582,1.6879854202270508,1.9220824241638184,3.8347153663635254,2.5017876625061035,3.122297763824463,2.849728584289551,5.383975028991699,3.442049026489258,3.154853343963623,4.397700786590576,2.444092273712158,2.3939409255981445,2.293398857116699,2.2380242347717285,2.7895541191101074,4.296898365020752,2.2959160804748535,2.2036819458007812,3.6397056579589844,3.2595911026000977,2.7895541191101074,1.2905235290527344,3.342141628265381,4.419693946838379,3.9917120933532715,1.4418582916259766,2.7895541191101074,5.474542617797852,1.1765036582946777,1.4823198318481445,2.2396082878112793,4.169157028198242,3.2055883407592773,2.2959160804748535,2.763967990875244,2.312948703765869,2.763967990875244,1.2994842529296875,0.7487096786499023,3.1304802894592285,2.5258636474609375,2.2036819458007812,1.732914924621582,2.849728584289551,2.2959160804748535,3.5631680488586426,2.164238452911377,4.381471633911133,2.763967990875244,3.0693650245666504,3.121034622192383,4.398991584777832,1.4377355575561523,3.5840039253234863,3.9640378952026367,1.9220824241638184,3.392706871032715,3.0643391609191895,2.9905405044555664,2.763967990875244,3.1785426139831543,3.5631680488586426,2.2396082878112793,2.341507911682129,1.7751688957214355,2.4870705604553223,2.293398857116699,1.344264030456543,2.671170234680176,1.9739923477172852,3.0788402557373047,2.1580939292907715,2.0918779373168945,1.344264030456543,1.8114619255065918,1.7339038848876953,1.985762596130371,1.1509857177734375,3.313375949859619,2.164238452911377,4.492854595184326,2.293398857116699,2.916996479034424,2.7895541191101074,2.6798386573791504,1.9220824241638184,2.7718868255615234,1.344264030456543,2.456742286682129,3.480337142944336,3.0358033180236816,2.7895541191101074,3.5182833671569824,4.239268779754639,2.6363863945007324,2.5847082138061523,2.682701587677002,2.2959160804748535,2.7895541191101074,2.7895541191101074,2.763967990875244,3.21494197845459,2.1885342597961426,3.5182833671569824,2.6363863945007324,2.341507911682129,3.0358033180236816,2.225423812866211,1.344264030456543,3.5840039253234863,1.6877498626708984,2.763967990875244,3.2055883407592773,2.2396082878112793,3.154853343963623,1.344264030456543,1.6636290550231934,1.4495849609375,1.857496738433838,1.62762451171875,3.2089271545410156,2.763967990875244,2.2959160804748535,1.344264030456543,2.1216721534729004,2.1094260215759277,1.9792146682739258,2.7895541191101074,2.7895541191101074],\"type\":\"histogram\"}],                        {\"template\":{\"data\":{\"histogram2dcontour\":[{\"type\":\"histogram2dcontour\",\"colorbar\":{\"outlinewidth\":0,\"ticks\":\"\"},\"colorscale\":[[0.0,\"#0d0887\"],[0.1111111111111111,\"#46039f\"],[0.2222222222222222,\"#7201a8\"],[0.3333333333333333,\"#9c179e\"],[0.4444444444444444,\"#bd3786\"],[0.5555555555555556,\"#d8576b\"],[0.6666666666666666,\"#ed7953\"],[0.7777777777777778,\"#fb9f3a\"],[0.8888888888888888,\"#fdca26\"],[1.0,\"#f0f921\"]]}],\"choropleth\":[{\"type\":\"choropleth\",\"colorbar\":{\"outlinewidth\":0,\"ticks\":\"\"}}],\"histogram2d\":[{\"type\":\"histogram2d\",\"colorbar\":{\"outlinewidth\":0,\"ticks\":\"\"},\"colorscale\":[[0.0,\"#0d0887\"],[0.1111111111111111,\"#46039f\"],[0.2222222222222222,\"#7201a8\"],[0.3333333333333333,\"#9c179e\"],[0.4444444444444444,\"#bd3786\"],[0.5555555555555556,\"#d8576b\"],[0.6666666666666666,\"#ed7953\"],[0.7777777777777778,\"#fb9f3a\"],[0.8888888888888888,\"#fdca26\"],[1.0,\"#f0f921\"]]}],\"heatmap\":[{\"type\":\"heatmap\",\"colorbar\":{\"outlinewidth\":0,\"ticks\":\"\"},\"colorscale\":[[0.0,\"#0d0887\"],[0.1111111111111111,\"#46039f\"],[0.2222222222222222,\"#7201a8\"],[0.3333333333333333,\"#9c179e\"],[0.4444444444444444,\"#bd3786\"],[0.5555555555555556,\"#d8576b\"],[0.6666666666666666,\"#ed7953\"],[0.7777777777777778,\"#fb9f3a\"],[0.8888888888888888,\"#fdca26\"],[1.0,\"#f0f921\"]]}],\"heatmapgl\":[{\"type\":\"heatmapgl\",\"colorbar\":{\"outlinewidth\":0,\"ticks\":\"\"},\"colorscale\":[[0.0,\"#0d0887\"],[0.1111111111111111,\"#46039f\"],[0.2222222222222222,\"#7201a8\"],[0.3333333333333333,\"#9c179e\"],[0.4444444444444444,\"#bd3786\"],[0.5555555555555556,\"#d8576b\"],[0.6666666666666666,\"#ed7953\"],[0.7777777777777778,\"#fb9f3a\"],[0.8888888888888888,\"#fdca26\"],[1.0,\"#f0f921\"]]}],\"contourcarpet\":[{\"type\":\"contourcarpet\",\"colorbar\":{\"outlinewidth\":0,\"ticks\":\"\"}}],\"contour\":[{\"type\":\"contour\",\"colorbar\":{\"outlinewidth\":0,\"ticks\":\"\"},\"colorscale\":[[0.0,\"#0d0887\"],[0.1111111111111111,\"#46039f\"],[0.2222222222222222,\"#7201a8\"],[0.3333333333333333,\"#9c179e\"],[0.4444444444444444,\"#bd3786\"],[0.5555555555555556,\"#d8576b\"],[0.6666666666666666,\"#ed7953\"],[0.7777777777777778,\"#fb9f3a\"],[0.8888888888888888,\"#fdca26\"],[1.0,\"#f0f921\"]]}],\"surface\":[{\"type\":\"surface\",\"colorbar\":{\"outlinewidth\":0,\"ticks\":\"\"},\"colorscale\":[[0.0,\"#0d0887\"],[0.1111111111111111,\"#46039f\"],[0.2222222222222222,\"#7201a8\"],[0.3333333333333333,\"#9c179e\"],[0.4444444444444444,\"#bd3786\"],[0.5555555555555556,\"#d8576b\"],[0.6666666666666666,\"#ed7953\"],[0.7777777777777778,\"#fb9f3a\"],[0.8888888888888888,\"#fdca26\"],[1.0,\"#f0f921\"]]}],\"mesh3d\":[{\"type\":\"mesh3d\",\"colorbar\":{\"outlinewidth\":0,\"ticks\":\"\"}}],\"scatter\":[{\"fillpattern\":{\"fillmode\":\"overlay\",\"size\":10,\"solidity\":0.2},\"type\":\"scatter\"}],\"parcoords\":[{\"type\":\"parcoords\",\"line\":{\"colorbar\":{\"outlinewidth\":0,\"ticks\":\"\"}}}],\"scatterpolargl\":[{\"type\":\"scatterpolargl\",\"marker\":{\"colorbar\":{\"outlinewidth\":0,\"ticks\":\"\"}}}],\"bar\":[{\"error_x\":{\"color\":\"#2a3f5f\"},\"error_y\":{\"color\":\"#2a3f5f\"},\"marker\":{\"line\":{\"color\":\"#E5ECF6\",\"width\":0.5},\"pattern\":{\"fillmode\":\"overlay\",\"size\":10,\"solidity\":0.2}},\"type\":\"bar\"}],\"scattergeo\":[{\"type\":\"scattergeo\",\"marker\":{\"colorbar\":{\"outlinewidth\":0,\"ticks\":\"\"}}}],\"scatterpolar\":[{\"type\":\"scatterpolar\",\"marker\":{\"colorbar\":{\"outlinewidth\":0,\"ticks\":\"\"}}}],\"histogram\":[{\"marker\":{\"pattern\":{\"fillmode\":\"overlay\",\"size\":10,\"solidity\":0.2}},\"type\":\"histogram\"}],\"scattergl\":[{\"type\":\"scattergl\",\"marker\":{\"colorbar\":{\"outlinewidth\":0,\"ticks\":\"\"}}}],\"scatter3d\":[{\"type\":\"scatter3d\",\"line\":{\"colorbar\":{\"outlinewidth\":0,\"ticks\":\"\"}},\"marker\":{\"colorbar\":{\"outlinewidth\":0,\"ticks\":\"\"}}}],\"scattermapbox\":[{\"type\":\"scattermapbox\",\"marker\":{\"colorbar\":{\"outlinewidth\":0,\"ticks\":\"\"}}}],\"scatterternary\":[{\"type\":\"scatterternary\",\"marker\":{\"colorbar\":{\"outlinewidth\":0,\"ticks\":\"\"}}}],\"scattercarpet\":[{\"type\":\"scattercarpet\",\"marker\":{\"colorbar\":{\"outlinewidth\":0,\"ticks\":\"\"}}}],\"carpet\":[{\"aaxis\":{\"endlinecolor\":\"#2a3f5f\",\"gridcolor\":\"white\",\"linecolor\":\"white\",\"minorgridcolor\":\"white\",\"startlinecolor\":\"#2a3f5f\"},\"baxis\":{\"endlinecolor\":\"#2a3f5f\",\"gridcolor\":\"white\",\"linecolor\":\"white\",\"minorgridcolor\":\"white\",\"startlinecolor\":\"#2a3f5f\"},\"type\":\"carpet\"}],\"table\":[{\"cells\":{\"fill\":{\"color\":\"#EBF0F8\"},\"line\":{\"color\":\"white\"}},\"header\":{\"fill\":{\"color\":\"#C8D4E3\"},\"line\":{\"color\":\"white\"}},\"type\":\"table\"}],\"barpolar\":[{\"marker\":{\"line\":{\"color\":\"#E5ECF6\",\"width\":0.5},\"pattern\":{\"fillmode\":\"overlay\",\"size\":10,\"solidity\":0.2}},\"type\":\"barpolar\"}],\"pie\":[{\"automargin\":true,\"type\":\"pie\"}]},\"layout\":{\"autotypenumbers\":\"strict\",\"colorway\":[\"#636efa\",\"#EF553B\",\"#00cc96\",\"#ab63fa\",\"#FFA15A\",\"#19d3f3\",\"#FF6692\",\"#B6E880\",\"#FF97FF\",\"#FECB52\"],\"font\":{\"color\":\"#2a3f5f\"},\"hovermode\":\"closest\",\"hoverlabel\":{\"align\":\"left\"},\"paper_bgcolor\":\"white\",\"plot_bgcolor\":\"#E5ECF6\",\"polar\":{\"bgcolor\":\"#E5ECF6\",\"angularaxis\":{\"gridcolor\":\"white\",\"linecolor\":\"white\",\"ticks\":\"\"},\"radialaxis\":{\"gridcolor\":\"white\",\"linecolor\":\"white\",\"ticks\":\"\"}},\"ternary\":{\"bgcolor\":\"#E5ECF6\",\"aaxis\":{\"gridcolor\":\"white\",\"linecolor\":\"white\",\"ticks\":\"\"},\"baxis\":{\"gridcolor\":\"white\",\"linecolor\":\"white\",\"ticks\":\"\"},\"caxis\":{\"gridcolor\":\"white\",\"linecolor\":\"white\",\"ticks\":\"\"}},\"coloraxis\":{\"colorbar\":{\"outlinewidth\":0,\"ticks\":\"\"}},\"colorscale\":{\"sequential\":[[0.0,\"#0d0887\"],[0.1111111111111111,\"#46039f\"],[0.2222222222222222,\"#7201a8\"],[0.3333333333333333,\"#9c179e\"],[0.4444444444444444,\"#bd3786\"],[0.5555555555555556,\"#d8576b\"],[0.6666666666666666,\"#ed7953\"],[0.7777777777777778,\"#fb9f3a\"],[0.8888888888888888,\"#fdca26\"],[1.0,\"#f0f921\"]],\"sequentialminus\":[[0.0,\"#0d0887\"],[0.1111111111111111,\"#46039f\"],[0.2222222222222222,\"#7201a8\"],[0.3333333333333333,\"#9c179e\"],[0.4444444444444444,\"#bd3786\"],[0.5555555555555556,\"#d8576b\"],[0.6666666666666666,\"#ed7953\"],[0.7777777777777778,\"#fb9f3a\"],[0.8888888888888888,\"#fdca26\"],[1.0,\"#f0f921\"]],\"diverging\":[[0,\"#8e0152\"],[0.1,\"#c51b7d\"],[0.2,\"#de77ae\"],[0.3,\"#f1b6da\"],[0.4,\"#fde0ef\"],[0.5,\"#f7f7f7\"],[0.6,\"#e6f5d0\"],[0.7,\"#b8e186\"],[0.8,\"#7fbc41\"],[0.9,\"#4d9221\"],[1,\"#276419\"]]},\"xaxis\":{\"gridcolor\":\"white\",\"linecolor\":\"white\",\"ticks\":\"\",\"title\":{\"standoff\":15},\"zerolinecolor\":\"white\",\"automargin\":true,\"zerolinewidth\":2},\"yaxis\":{\"gridcolor\":\"white\",\"linecolor\":\"white\",\"ticks\":\"\",\"title\":{\"standoff\":15},\"zerolinecolor\":\"white\",\"automargin\":true,\"zerolinewidth\":2},\"scene\":{\"xaxis\":{\"backgroundcolor\":\"#E5ECF6\",\"gridcolor\":\"white\",\"linecolor\":\"white\",\"showbackground\":true,\"ticks\":\"\",\"zerolinecolor\":\"white\",\"gridwidth\":2},\"yaxis\":{\"backgroundcolor\":\"#E5ECF6\",\"gridcolor\":\"white\",\"linecolor\":\"white\",\"showbackground\":true,\"ticks\":\"\",\"zerolinecolor\":\"white\",\"gridwidth\":2},\"zaxis\":{\"backgroundcolor\":\"#E5ECF6\",\"gridcolor\":\"white\",\"linecolor\":\"white\",\"showbackground\":true,\"ticks\":\"\",\"zerolinecolor\":\"white\",\"gridwidth\":2}},\"shapedefaults\":{\"line\":{\"color\":\"#2a3f5f\"}},\"annotationdefaults\":{\"arrowcolor\":\"#2a3f5f\",\"arrowhead\":0,\"arrowwidth\":1},\"geo\":{\"bgcolor\":\"white\",\"landcolor\":\"#E5ECF6\",\"subunitcolor\":\"white\",\"showland\":true,\"showlakes\":true,\"lakecolor\":\"white\"},\"title\":{\"x\":0.05},\"mapbox\":{\"style\":\"light\"}}},\"title\":{\"text\":\"Distribution of Difference In Nuclear Norms - DGI vs DGI+XM\"},\"xaxis\":{\"title\":{\"text\":\"Difference In Nuclear Norms - DGI vs DGI+XM\"}},\"yaxis\":{\"title\":{\"text\":\"Frequency\"}},\"font\":{\"size\":30},\"plot_bgcolor\":\"white\",\"paper_bgcolor\":\"white\"},                        {\"responsive\": true}                    ).then(function(){\n",
       "                            \n",
       "var gd = document.getElementById('1ea771ae-74dd-4a4a-8807-86ec28fadf3d');\n",
       "var x = new MutationObserver(function (mutations, observer) {{\n",
       "        var display = window.getComputedStyle(gd).display;\n",
       "        if (!display || display === 'none') {{\n",
       "            console.log([gd, 'removed!']);\n",
       "            Plotly.purge(gd);\n",
       "            observer.disconnect();\n",
       "        }}\n",
       "}});\n",
       "\n",
       "// Listen for the removal of the full notebook cells\n",
       "var notebookContainer = gd.closest('#notebook-container');\n",
       "if (notebookContainer) {{\n",
       "    x.observe(notebookContainer, {childList: true});\n",
       "}}\n",
       "\n",
       "// Listen for the clearing of the current output cell\n",
       "var outputEl = gd.closest('.output');\n",
       "if (outputEl) {{\n",
       "    x.observe(outputEl, {childList: true});\n",
       "}}\n",
       "\n",
       "                        })                };                });            </script>        </div>"
      ]
     },
     "metadata": {},
     "output_type": "display_data"
    }
   ],
   "source": [
    "diff = np.array(norm_og) - np.array(norm_plus)\n",
    "fig = go.Figure()\n",
    "fig.add_trace(go.Histogram(x = diff))\n",
    "fig.update_layout(title_text = 'Distribution of Difference In Nuclear Norms - DGI vs DGI+XM', \n",
    "                  xaxis_title_text = 'Difference In Nuclear Norms - DGI vs DGI+XM', \n",
    "                  yaxis_title_text = 'Frequency', \n",
    "                  plot_bgcolor = 'white', \n",
    "                  paper_bgcolor = 'white', \n",
    "                  font = dict(size = 30))\n",
    "fig.show()"
   ]
  },
  {
   "cell_type": "code",
   "execution_count": 20,
   "id": "93328992",
   "metadata": {},
   "outputs": [
    {
     "data": {
      "application/vnd.plotly.v1+json": {
       "config": {
        "plotlyServerURL": "https://plot.ly"
       },
       "data": [
        {
         "name": "DGI",
         "type": "histogram",
         "x": [
          8.375190734863281,
          13.013002395629883,
          11.893795013427734,
          9.570307731628418,
          7.499247074127197,
          10.906708717346191,
          8.833288192749023,
          7.28265905380249,
          12.671136856079102,
          6.400193691253662,
          11.422835350036621,
          12.46474552154541,
          8.032943725585938,
          9.835172653198242,
          10.305789947509766,
          8.614657402038574,
          9.91510009765625,
          5.707947731018066,
          11.267738342285156,
          9.65044116973877,
          10.81794261932373,
          8.812963485717773,
          7.407781600952148,
          8.582222938537598,
          6.401671886444092,
          12.845922470092773,
          5.7937164306640625,
          8.806896209716797,
          6.169308185577393,
          7.199280261993408,
          7.169388771057129,
          8.903916358947754,
          10.255243301391602,
          9.121747016906738,
          10.779071807861328,
          10.840766906738281,
          8.9092378616333,
          9.137825012207031,
          9.373903274536133,
          10.92178726196289,
          8.093549728393555,
          10.687482833862305,
          11.364583015441895,
          7.692201137542725,
          6.704681873321533,
          8.534612655639648,
          6.459347724914551,
          11.582806587219238,
          9.002756118774414,
          7.20550537109375,
          7.463189125061035,
          9.077986717224121,
          8.798576354980469,
          10.866804122924805,
          6.2651686668396,
          10.023268699645996,
          11.012493133544922,
          9.60671329498291,
          7.199534893035889,
          8.238341331481934,
          8.93063735961914,
          11.123044967651367,
          7.227631092071533,
          7.836001396179199,
          10.270731925964355,
          7.744256019592285,
          9.132513999938965,
          8.547073364257812,
          10.47061538696289,
          6.958075046539307,
          8.87462329864502,
          8.18517780303955,
          10.377473831176758,
          9.880355834960938,
          9.531290054321289,
          10.052786827087402,
          9.216085433959961,
          5.685168743133545,
          10.734048843383789,
          8.664355278015137,
          11.530841827392578,
          9.921226501464844,
          11.67519474029541,
          6.857885360717773,
          9.686793327331543,
          11.867707252502441,
          8.431270599365234,
          9.775745391845703,
          9.59837532043457,
          10.844147682189941,
          8.812284469604492,
          8.824418067932129,
          6.919498920440674,
          6.9748311042785645,
          7.447395324707031,
          9.454790115356445,
          9.841792106628418,
          6.440967559814453,
          8.070024490356445,
          10.68075180053711,
          8.953539848327637,
          8.18312931060791,
          10.52764892578125,
          7.323639869689941,
          6.650497913360596,
          7.25049352645874,
          10.422104835510254,
          12.110527992248535,
          9.09000301361084,
          10.615921020507812,
          9.784990310668945,
          10.691997528076172,
          9.400900840759277,
          8.489201545715332,
          9.697243690490723,
          6.683145523071289,
          7.275582790374756,
          8.128303527832031,
          8.294502258300781,
          9.203307151794434,
          8.677343368530273,
          6.704464912414551,
          9.83003044128418,
          9.434345245361328,
          7.630496978759766,
          8.025995254516602,
          7.94172477722168,
          8.603909492492676,
          10.079449653625488,
          7.882385730743408,
          9.275087356567383,
          10.538854598999023,
          8.698508262634277,
          10.051155090332031,
          9.341475486755371,
          9.188300132751465,
          7.798281669616699,
          7.4692254066467285,
          8.409440994262695,
          9.767524719238281,
          13.835759162902832,
          9.651970863342285,
          9.248883247375488,
          8.954031944274902,
          9.165462493896484,
          11.396774291992188,
          11.641253471374512,
          12.628793716430664,
          8.576197624206543,
          10.60246467590332,
          9.813408851623535,
          9.480958938598633,
          8.874868392944336,
          9.482625961303711,
          7.827953338623047,
          9.688920021057129,
          9.541214942932129,
          5.993366718292236,
          9.307883262634277,
          11.074283599853516,
          5.638998985290527,
          9.188512802124023,
          10.346991539001465,
          8.59103775024414,
          7.872089385986328,
          9.275632858276367,
          9.059514999389648,
          8.853148460388184,
          7.281400680541992,
          6.359769344329834,
          11.960512161254883,
          10.81430435180664,
          9.262689590454102,
          10.06951904296875,
          9.699806213378906,
          9.529093742370605,
          10.683923721313477,
          9.536831855773926,
          11.418130874633789,
          8.372964859008789,
          8.089104652404785,
          9.110823631286621,
          12.56497859954834,
          11.262277603149414,
          8.54146957397461,
          7.016617774963379,
          8.901205062866211,
          9.061662673950195,
          12.251176834106445,
          8.05893611907959,
          6.978865146636963,
          11.342694282531738,
          7.76564359664917,
          7.519847393035889,
          10.647992134094238,
          8.857548713684082,
          9.440826416015625,
          8.798632621765137,
          12.254204750061035,
          9.166293144226074,
          10.265872955322266,
          7.261438369750977,
          8.755983352661133,
          10.95188045501709,
          10.764288902282715,
          7.346434116363525,
          8.891304969787598,
          9.671039581298828,
          7.207685470581055,
          7.768522262573242,
          8.61584186553955,
          7.153914451599121,
          8.091734886169434,
          7.418036937713623,
          8.948948860168457,
          5.435628890991211,
          8.335871696472168,
          6.626370906829834,
          6.363710880279541,
          9.30317497253418,
          11.206547737121582,
          8.64786434173584,
          8.929874420166016,
          9.017815589904785,
          12.554515838623047,
          12.39120864868164,
          13.749532699584961,
          12.393538475036621,
          9.601984024047852,
          8.106208801269531,
          9.392430305480957,
          11.261547088623047,
          9.594825744628906,
          11.926509857177734,
          10.108609199523926,
          10.122315406799316,
          10.742273330688477,
          8.407112121582031,
          9.381367683410645,
          12.831513404846191,
          10.326654434204102,
          9.808165550231934,
          11.783397674560547,
          8.170270919799805,
          7.280893802642822,
          10.47787857055664,
          10.941044807434082,
          9.76021671295166,
          8.785099983215332,
          8.663275718688965,
          9.845783233642578,
          10.029586791992188,
          8.10862922668457,
          7.684967041015625,
          9.843707084655762,
          9.103100776672363,
          8.828981399536133,
          11.0049467086792,
          9.821066856384277,
          10.963061332702637,
          10.614893913269043,
          8.663122177124023,
          8.612174034118652,
          6.69234561920166,
          10.212236404418945,
          8.136014938354492,
          10.840861320495605,
          8.831802368164062,
          8.833695411682129,
          8.757338523864746,
          13.269850730895996,
          11.19149398803711,
          13.557511329650879,
          8.687177658081055,
          8.496264457702637,
          8.39537525177002,
          8.481746673583984,
          6.486673831939697,
          12.091363906860352,
          9.870643615722656,
          8.460580825805664,
          12.018988609313965,
          9.543601036071777,
          9.731729507446289,
          9.343094825744629,
          10.58818531036377,
          9.487393379211426,
          7.64017915725708,
          8.865114212036133,
          10.913219451904297,
          10.956104278564453,
          14.284675598144531,
          9.993229866027832,
          12.025464057922363,
          10.867684364318848,
          9.445600509643555,
          8.647150039672852,
          9.358766555786133,
          11.837095260620117,
          11.512482643127441,
          10.488574028015137,
          12.433197021484375,
          12.552241325378418,
          8.883808135986328,
          6.140199661254883,
          5.998763084411621,
          8.649520874023438,
          6.775627136230469,
          7.240296363830566,
          9.361159324645996,
          8.296371459960938,
          11.203025817871094,
          10.724392890930176,
          7.721009254455566,
          7.283046722412109,
          8.581622123718262,
          8.017108917236328,
          7.742043495178223,
          7.219478607177734,
          9.099381446838379,
          7.647379398345947,
          8.120163917541504,
          10.927310943603516,
          10.336148262023926,
          12.252756118774414,
          11.053475379943848,
          9.666654586791992,
          8.42383861541748,
          11.520261764526367,
          11.451231002807617,
          10.451322555541992,
          11.836752891540527,
          8.94683837890625,
          10.172228813171387,
          12.153646469116211,
          7.268569469451904,
          5.6432695388793945,
          13.247124671936035,
          7.519379615783691,
          10.188972473144531,
          10.161075592041016,
          7.48160457611084,
          11.724196434020996,
          11.11525821685791,
          7.047883033752441,
          7.223269462585449,
          8.433667182922363,
          9.597929954528809,
          7.773745059967041,
          11.294424057006836,
          12.694988250732422,
          10.259407997131348,
          13.220747947692871,
          12.430639266967773,
          6.653688430786133,
          7.87626838684082,
          12.594621658325195,
          9.573739051818848,
          10.090956687927246,
          11.472098350524902,
          7.970850467681885,
          6.283233642578125,
          10.296619415283203,
          8.464027404785156,
          7.0362701416015625,
          7.828049659729004,
          7.547049522399902,
          11.920909881591797,
          7.961481094360352,
          10.068829536437988,
          9.820905685424805,
          11.423531532287598,
          8.902164459228516,
          7.770475387573242,
          8.835688591003418,
          8.635169982910156,
          8.826272010803223,
          7.518769264221191,
          6.04565954208374,
          11.147433280944824,
          7.1726202964782715,
          11.32111644744873,
          9.792781829833984,
          7.627734184265137,
          8.984848976135254,
          7.7968220710754395,
          11.621306419372559,
          11.58608627319336,
          8.833489418029785,
          7.79292106628418,
          10.434589385986328,
          10.934122085571289,
          8.626551628112793,
          8.904178619384766,
          6.0177459716796875,
          9.967053413391113,
          8.44664478302002,
          8.88040828704834,
          8.983357429504395,
          9.457924842834473,
          12.160882949829102,
          6.984318733215332,
          13.173303604125977,
          10.255753517150879,
          7.402194499969482,
          9.782573699951172,
          11.998724937438965,
          11.23932933807373,
          10.378323554992676,
          10.613618850708008,
          7.141485214233398,
          5.839487552642822,
          11.112706184387207,
          6.304782390594482,
          9.675460815429688,
          11.254800796508789,
          9.254085540771484,
          7.791357040405273,
          8.206280708312988,
          8.191046714782715,
          11.593049049377441,
          12.546514511108398,
          11.165999412536621,
          7.928435802459717,
          12.174211502075195,
          9.837553024291992,
          7.735367298126221,
          8.709307670593262,
          7.880679607391357,
          13.825411796569824,
          7.188715934753418,
          12.608291625976562,
          9.915675163269043,
          8.986303329467773,
          8.112757682800293,
          8.472543716430664,
          9.437310218811035,
          12.002104759216309,
          11.499860763549805,
          8.9390869140625,
          11.362472534179688,
          7.294212818145752,
          9.351675987243652,
          9.003761291503906,
          11.812968254089355,
          10.993103981018066,
          7.985073089599609,
          10.81091022491455,
          12.129168510437012,
          11.183531761169434,
          9.20858097076416,
          13.648453712463379,
          10.21523380279541,
          9.873698234558105,
          12.52627944946289,
          10.636491775512695,
          8.525341033935547,
          6.902753829956055,
          10.16402816772461,
          8.758846282958984,
          8.008461952209473,
          7.27972412109375,
          8.168756484985352,
          7.794795989990234,
          8.320188522338867,
          10.033347129821777,
          11.837188720703125,
          8.217049598693848,
          7.62462043762207,
          7.514517307281494,
          6.765067100524902,
          8.494826316833496,
          6.35660457611084,
          7.1042633056640625,
          11.62743854522705,
          7.301239013671875,
          8.62642765045166,
          9.774319648742676,
          10.884855270385742,
          12.262682914733887,
          11.108003616333008,
          9.400163650512695,
          12.90944766998291,
          7.3252668380737305,
          8.454057693481445,
          10.79184341430664,
          8.758679389953613,
          8.980868339538574,
          8.582334518432617,
          6.920408248901367,
          5.549823760986328,
          8.30391788482666,
          9.980945587158203,
          10.495821952819824,
          6.90078592300415,
          11.921793937683105,
          8.829662322998047,
          12.101282119750977,
          11.802019119262695,
          10.350457191467285,
          13.234346389770508,
          10.376428604125977,
          6.9324951171875,
          10.740169525146484,
          7.742591381072998,
          7.635875701904297,
          10.087668418884277,
          7.730100154876709,
          9.617354393005371,
          8.510202407836914,
          8.389958381652832,
          7.1719231605529785,
          7.770294666290283,
          12.983652114868164,
          12.66225528717041,
          8.101871490478516,
          7.471035480499268,
          7.587406158447266,
          8.691482543945312,
          8.023219108581543,
          9.422313690185547,
          10.705347061157227,
          12.140609741210938,
          8.259316444396973,
          11.384438514709473,
          6.738377571105957,
          10.918010711669922,
          8.449972152709961,
          7.773745059967041,
          7.48561954498291,
          11.137113571166992,
          9.401674270629883,
          7.153380870819092,
          11.444823265075684,
          9.746938705444336,
          7.740670680999756,
          8.316930770874023,
          10.15050983428955,
          10.404396057128906,
          9.103798866271973,
          11.15334701538086,
          8.26540470123291,
          10.614896774291992,
          7.290021896362305,
          11.485344886779785,
          7.978005886077881,
          7.647379398345947,
          8.454323768615723,
          8.575834274291992,
          8.759194374084473,
          11.334160804748535,
          8.595428466796875,
          10.8441162109375,
          11.258024215698242,
          10.614530563354492,
          7.955955982208252,
          10.518495559692383,
          9.615254402160645,
          11.006011962890625,
          7.051454544067383,
          7.867160320281982,
          8.540724754333496,
          11.660968780517578,
          10.081974029541016,
          9.40967845916748,
          7.248868942260742,
          9.260751724243164,
          12.694863319396973,
          11.830326080322266,
          8.436430931091309,
          7.006102085113525,
          13.237401962280273,
          9.490683555603027,
          13.024846076965332,
          11.511948585510254,
          7.107631683349609,
          10.948138236999512,
          8.042073249816895,
          11.240623474121094,
          7.024901866912842,
          8.853246688842773,
          11.801033973693848,
          8.967535018920898,
          13.512445449829102,
          14.647958755493164,
          14.566039085388184,
          8.886016845703125,
          9.313868522644043,
          8.682916641235352,
          8.81119441986084,
          8.739343643188477,
          8.10862922668457,
          7.972509384155273,
          11.62702751159668,
          10.249095916748047,
          10.708386421203613,
          8.345073699951172,
          7.647379398345947,
          9.35596752166748,
          8.38782787322998,
          8.90601921081543,
          9.879420280456543,
          8.670875549316406,
          7.777629375457764,
          8.440131187438965,
          8.16926383972168,
          12.15245532989502,
          12.270088195800781,
          7.056972026824951,
          8.823224067687988,
          9.043193817138672,
          9.24204158782959,
          7.699187278747559,
          8.319360733032227,
          7.094065189361572,
          13.460372924804688,
          12.41092300415039,
          8.93157958984375,
          7.5615763664245605,
          8.134684562683105,
          7.913926601409912,
          9.451765060424805,
          12.586176872253418,
          10.901342391967773,
          12.411059379577637,
          7.861506938934326,
          11.617765426635742,
          7.941799163818359,
          6.975668907165527,
          10.29959774017334,
          11.837244033813477,
          7.273083686828613,
          8.063715934753418,
          7.384063720703125,
          7.931780815124512,
          9.88647174835205,
          7.380643844604492,
          7.777133464813232,
          8.52451229095459,
          9.990771293640137,
          7.690579414367676,
          10.48251724243164,
          7.669220447540283,
          7.784146308898926,
          12.983251571655273,
          10.78006362915039,
          6.421361446380615,
          7.261682987213135,
          8.167754173278809,
          11.39777660369873,
          9.011015892028809,
          7.173043727874756,
          8.30391788482666,
          8.141034126281738,
          9.450550079345703,
          11.097381591796875,
          11.50992488861084,
          10.5084867477417,
          11.825023651123047,
          8.250452995300293,
          6.874602794647217,
          7.574824810028076,
          9.004016876220703,
          8.223501205444336,
          8.983888626098633,
          8.553030014038086,
          10.9714994430542,
          7.87626838684082,
          7.326820373535156,
          7.371824741363525,
          7.089353561401367,
          8.839254379272461,
          8.28246021270752,
          8.208100318908691,
          9.587535858154297,
          8.912113189697266,
          9.376725196838379,
          7.849729537963867,
          9.968358039855957,
          11.262152671813965,
          9.674145698547363,
          10.467293739318848,
          9.039189338684082,
          12.167686462402344,
          8.443530082702637,
          8.499556541442871,
          6.645641803741455,
          11.74018383026123,
          13.294184684753418,
          10.514816284179688,
          7.371824741363525,
          8.086520195007324,
          11.910167694091797,
          7.195080280303955,
          11.558024406433105,
          7.773745059967041,
          11.073631286621094,
          8.322334289550781,
          8.711091041564941,
          8.913304328918457,
          8.70610237121582,
          11.62710952758789,
          9.045524597167969,
          8.904364585876465,
          10.528803825378418,
          11.318291664123535,
          7.773745059967041,
          7.93015718460083,
          7.955955982208252,
          9.484447479248047,
          8.659252166748047,
          9.194069862365723,
          11.107452392578125,
          11.31358814239502,
          8.409440994262695,
          8.446003913879395,
          8.040617942810059,
          6.580545425415039,
          7.773745059967041,
          8.928462982177734,
          9.757027626037598,
          9.789783477783203,
          8.131516456604004,
          8.89487361907959,
          11.874608039855957,
          7.955955982208252,
          13.34101676940918,
          9.335914611816406,
          8.092798233032227,
          7.791357040405273,
          12.651585578918457,
          8.002967834472656,
          7.160879135131836,
          8.56621265411377,
          7.507221698760986,
          8.169060707092285,
          8.088479042053223,
          9.364728927612305,
          7.921254634857178,
          11.514793395996094,
          7.236536502838135,
          7.647379398345947,
          6.547510147094727,
          11.22390079498291,
          8.489056587219238,
          10.732012748718262,
          13.5042724609375,
          11.856911659240723,
          12.294678688049316,
          11.171586990356445,
          8.050761222839355,
          13.992753982543945,
          12.280399322509766,
          7.906057357788086,
          10.65643310546875,
          7.728118419647217,
          7.35006046295166,
          8.308845520019531,
          6.848557949066162,
          9.313868522644043,
          8.302498817443848,
          10.395633697509766,
          8.26202392578125,
          9.340723037719727,
          7.282594203948975,
          11.322534561157227,
          7.95717716217041,
          7.101257801055908,
          9.316463470458984,
          13.00345230102539,
          8.328296661376953,
          9.014966011047363,
          13.501874923706055,
          9.185169219970703,
          7.82430362701416,
          11.52711009979248,
          7.7056193351745605,
          8.013874053955078,
          9.175980567932129,
          13.218565940856934,
          13.413790702819824,
          7.633603096008301,
          9.996057510375977,
          7.880838871002197,
          7.247086524963379,
          7.282594203948975,
          8.112905502319336,
          9.5491943359375,
          8.475689888000488,
          10.13222885131836,
          7.599735736846924,
          8.173192977905273,
          10.511787414550781,
          11.640363693237305,
          10.923707962036133,
          12.613470077514648,
          9.313901901245117,
          10.822234153747559,
          8.448814392089844,
          8.319360733032227,
          7.647379398345947,
          9.160991668701172,
          12.006192207336426,
          8.61741828918457,
          7.488173007965088,
          7.714500904083252,
          7.789902687072754,
          11.88728141784668,
          7.185758590698242,
          12.631489753723145,
          8.086931228637695,
          8.417978286743164,
          7.702767372131348,
          7.177080154418945,
          7.256146430969238,
          10.1605863571167,
          7.080256938934326,
          7.639596939086914,
          12.413039207458496,
          7.153914451599121,
          11.33918571472168,
          7.09550142288208,
          7.628295421600342,
          8.531533241271973,
          8.163907051086426,
          9.289604187011719,
          8.517536163330078,
          6.987681865692139,
          7.692411422729492,
          7.124806880950928,
          7.319639682769775,
          9.199135780334473,
          8.10862922668457,
          10.354303359985352,
          9.74587631225586,
          8.415670394897461,
          7.261682987213135,
          11.10087776184082,
          10.276688575744629,
          12.716344833374023,
          8.116263389587402,
          11.018362998962402,
          7.279725074768066,
          9.98256778717041,
          6.753686904907227,
          7.734205722808838,
          8.409440994262695,
          14.180901527404785,
          6.051392555236816,
          10.641883850097656,
          11.723430633544922,
          7.397820949554443,
          6.7152204513549805,
          9.463913917541504,
          9.830249786376953,
          7.195080280303955,
          11.507168769836426,
          7.983623027801514,
          8.383822441101074,
          13.348145484924316,
          8.714082717895508,
          13.18593692779541,
          7.0970563888549805,
          9.543009757995605,
          8.728893280029297,
          12.342072486877441,
          7.828049659729004,
          7.564452648162842,
          7.204781532287598,
          7.743656635284424,
          6.547510147094727,
          13.183807373046875,
          8.30391788482666,
          9.620344161987305,
          8.192194938659668,
          8.835556983947754,
          7.773745059967041,
          7.846444606781006,
          7.846444606781006,
          8.035444259643555,
          7.8180975914001465,
          8.072258949279785,
          7.647379398345947,
          9.782600402832031,
          9.548051834106445,
          6.547510147094727,
          7.080256938934326,
          8.10862922668457,
          12.06983757019043,
          12.765213012695312,
          8.466059684753418,
          8.16926383972168,
          9.518171310424805,
          11.620881080627441,
          8.041302680969238,
          9.180023193359375,
          7.443822383880615,
          12.363842010498047,
          8.530008316040039,
          11.328248977661133,
          7.279842853546143,
          12.195913314819336,
          9.332159042358398,
          9.359395027160645,
          9.005515098571777,
          9.772112846374512,
          7.483092308044434,
          8.35403060913086,
          7.927913665771484,
          12.631731986999512,
          11.547083854675293,
          9.67495346069336,
          8.26202392578125,
          8.141884803771973,
          7.672847747802734,
          9.848806381225586,
          8.799839973449707,
          11.237754821777344,
          8.446003913879395,
          8.10862922668457,
          9.898849487304688,
          7.195080280303955,
          8.823297500610352,
          6.547510147094727,
          11.280577659606934,
          8.93783187866211,
          10.302752494812012,
          8.454323768615723,
          10.717101097106934,
          8.10862922668457,
          8.390316009521484,
          8.603684425354004,
          7.725295066833496,
          11.348836898803711,
          10.06690502166748,
          10.743621826171875,
          7.940972328186035,
          8.523896217346191,
          7.441167831420898,
          8.881285667419434,
          6.440969467163086,
          6.440969467163086,
          7.115198612213135,
          7.647379398345947,
          9.622138977050781,
          7.773745059967041,
          11.467555046081543,
          7.786633014678955,
          9.432759284973145,
          7.736040115356445,
          7.728118419647217,
          10.67500114440918,
          6.753686904907227,
          11.514985084533691,
          6.630113124847412,
          7.785423755645752,
          7.180645942687988,
          9.15027141571045,
          7.451564788818359,
          7.315258026123047,
          8.885248184204102,
          10.69159984588623,
          9.099157333374023,
          8.756498336791992,
          6.355298042297363,
          8.941713333129883,
          6.531804084777832,
          8.687769889831543,
          7.107631683349609,
          8.723445892333984,
          9.21450424194336,
          7.885951519012451,
          5.567288875579834,
          6.094559192657471,
          7.170421600341797,
          10.324484825134277,
          8.10862922668457,
          9.803869247436523,
          6.381148815155029,
          8.922500610351562,
          9.356727600097656,
          8.319360733032227,
          9.332193374633789,
          6.547510147094727,
          7.250815391540527,
          9.275521278381348,
          7.49826717376709,
          7.042239665985107,
          8.195109367370605,
          8.446003913879395,
          7.8180975914001465,
          11.66877555847168,
          6.547510147094727,
          6.5472941398620605,
          10.57833194732666,
          9.416313171386719,
          8.735784530639648,
          7.647379398345947,
          7.044784069061279,
          7.95717716217041,
          7.242270469665527,
          7.647379398345947,
          9.52967357635498,
          7.202066898345947,
          7.160879135131836,
          7.56536340713501,
          7.366347312927246,
          9.66120433807373,
          9.830249786376953,
          8.696170806884766,
          7.251802444458008,
          8.910002708435059,
          9.08118724822998,
          7.617032051086426,
          8.519242286682129,
          6.547510147094727,
          7.481911659240723,
          7.641060829162598,
          8.687769889831543,
          7.87626838684082,
          8.400190353393555,
          8.602062225341797,
          8.203829765319824,
          7.725295066833496,
          7.666748046875,
          7.917065143585205,
          8.17257022857666,
          8.124610900878906,
          9.08555793762207,
          7.537997722625732,
          9.396217346191406,
          6.907288551330566,
          9.359217643737793,
          8.4285306930542,
          8.453398704528809,
          7.075290203094482,
          8.319360733032227,
          12.871377944946289,
          8.629035949707031,
          8.590956687927246,
          8.907272338867188,
          7.599735736846924,
          7.27972412109375,
          8.16926383972168,
          9.754117012023926,
          8.881896018981934,
          9.02727222442627,
          7.1719231605529785,
          8.30391788482666,
          10.66666030883789,
          8.813957214355469,
          7.867635250091553,
          9.803869247436523,
          7.104430198669434,
          7.524261474609375,
          7.570459842681885,
          6.440969467163086,
          7.0970563888549805,
          7.261682987213135,
          8.776542663574219,
          7.638891220092773,
          7.475608825683594,
          9.289604187011719,
          11.975704193115234,
          9.108357429504395,
          9.960332870483398,
          10.919354438781738,
          8.497518539428711,
          7.2602763175964355,
          7.647379398345947,
          7.222511291503906,
          8.26202392578125,
          9.416590690612793,
          8.16926383972168,
          7.702204704284668,
          10.140257835388184,
          9.889627456665039,
          8.26202392578125,
          6.560962677001953,
          8.717723846435547,
          9.458479881286621,
          11.232775688171387,
          6.869390964508057,
          8.26202392578125,
          11.938663482666016,
          7.295007705688477,
          7.115198612213135,
          7.87626838684082,
          9.079268455505371,
          10.001700401306152,
          8.16926383972168,
          8.10862922668457,
          8.156460762023926,
          8.10862922668457,
          7.157361030578613,
          5.567288875579834,
          9.358453750610352,
          7.5755157470703125,
          7.702204704284668,
          6.440969467163086,
          9.289604187011719,
          8.16926383972168,
          8.393682479858398,
          7.452262878417969,
          9.460163116455078,
          8.10862922668457,
          9.830249786376953,
          9.584990501403809,
          9.532593727111816,
          7.990835666656494,
          7.95717716217041,
          10.104330062866211,
          7.261682987213135,
          9.102560997009277,
          8.021533012390137,
          8.079031944274902,
          8.10862922668457,
          7.513164520263672,
          8.393682479858398,
          7.87626838684082,
          7.848718166351318,
          8.79671859741211,
          8.447081565856934,
          7.647379398345947,
          6.547510147094727,
          8.603684425354004,
          7.511336326599121,
          9.620872497558594,
          7.729910373687744,
          7.991183280944824,
          6.547510147094727,
          7.921875953674316,
          7.245849609375,
          8.3910493850708,
          6.214690208435059,
          8.570730209350586,
          7.452262878417969,
          11.039582252502441,
          7.647379398345947,
          9.243535041809082,
          8.26202392578125,
          8.93783187866211,
          7.261682987213135,
          7.841681480407715,
          6.547510147094727,
          8.824555397033691,
          8.532605171203613,
          9.66120433807373,
          8.26202392578125,
          9.803869247436523,
          9.270623207092285,
          8.971540451049805,
          8.813957214355469,
          9.094144821166992,
          8.16926383972168,
          8.26202392578125,
          8.26202392578125,
          8.10862922668457,
          8.260459899902344,
          7.093376159667969,
          9.803869247436523,
          8.971540451049805,
          7.848718166351318,
          9.66120433807373,
          8.62104320526123,
          6.547510147094727,
          7.95717716217041,
          6.877439022064209,
          8.10862922668457,
          10.001700401306152,
          7.87626838684082,
          9.960332870483398,
          6.547510147094727,
          7.09550142288208,
          7.409010410308838,
          7.047069072723389,
          7.445365905761719,
          9.895719528198242,
          8.10862922668457,
          8.16926383972168,
          6.547510147094727,
          7.983623027801514,
          7.293301105499268,
          8.104700088500977,
          8.26202392578125,
          8.26202392578125
         ]
        },
        {
         "name": "DGI+XM",
         "type": "histogram",
         "x": [
          5.173611640930176,
          7.726163864135742,
          7.923397541046143,
          8.557894706726074,
          7.1254425048828125,
          6.6644415855407715,
          5.0206379890441895,
          4.6528825759887695,
          8.109819412231445,
          5.765584468841553,
          8.611108779907227,
          8.04558277130127,
          6.77572774887085,
          8.612201690673828,
          8.170098304748535,
          7.638582229614258,
          5.483189582824707,
          5.498439788818359,
          8.116626739501953,
          8.357406616210938,
          7.185127258300781,
          7.654155731201172,
          6.782370090484619,
          7.034738540649414,
          5.693103790283203,
          7.647895336151123,
          5.419815540313721,
          7.362660884857178,
          5.843532562255859,
          5.1392903327941895,
          5.3000383377075195,
          7.847744464874268,
          7.856836318969727,
          6.118727207183838,
          6.8761115074157715,
          7.423076629638672,
          7.950109004974365,
          7.9471869468688965,
          8.301548957824707,
          6.267398834228516,
          7.6007771492004395,
          7.836775302886963,
          7.460057258605957,
          7.218247413635254,
          6.291415214538574,
          7.541514873504639,
          5.78681755065918,
          8.094060897827148,
          7.973643779754639,
          6.515763759613037,
          6.676087856292725,
          8.218696594238281,
          6.432957649230957,
          6.9744181632995605,
          5.7169318199157715,
          8.673733711242676,
          6.991204261779785,
          8.396585464477539,
          6.7609782218933105,
          7.509814262390137,
          7.955827236175537,
          6.677525997161865,
          6.024853706359863,
          7.37995719909668,
          7.627255439758301,
          6.235048294067383,
          7.910135269165039,
          7.583947658538818,
          7.352923393249512,
          6.836141586303711,
          7.965710163116455,
          7.312632083892822,
          8.106606483459473,
          8.405381202697754,
          8.103897094726562,
          8.293000221252441,
          5.62190055847168,
          5.073727607727051,
          7.496466159820557,
          7.859471321105957,
          7.944294452667236,
          6.639132976531982,
          7.380033016204834,
          6.264190196990967,
          6.9824700355529785,
          8.313238143920898,
          7.571161270141602,
          6.417861461639404,
          8.473063468933105,
          7.269348621368408,
          7.904524803161621,
          5.591682434082031,
          6.41224479675293,
          6.4543867111206055,
          6.618070602416992,
          7.203266143798828,
          8.121770858764648,
          5.645475387573242,
          4.798843860626221,
          8.398483276367188,
          5.393267631530762,
          5.672477722167969,
          6.372328281402588,
          5.138976097106934,
          4.373427391052246,
          7.256869316101074,
          6.603634834289551,
          8.302813529968262,
          8.051345825195312,
          8.0205659866333,
          8.532674789428711,
          5.973042964935303,
          8.215489387512207,
          7.13113260269165,
          8.582138061523438,
          6.559343338012695,
          5.668287754058838,
          7.445390701293945,
          7.2553534507751465,
          7.2529683113098145,
          7.424943447113037,
          6.116593837738037,
          7.181431770324707,
          7.921175956726074,
          6.836857795715332,
          5.59136962890625,
          5.414517879486084,
          7.109453201293945,
          8.180935859680176,
          7.030058860778809,
          7.298092365264893,
          7.026719093322754,
          6.985546112060547,
          6.744543552398682,
          8.32170581817627,
          8.01560115814209,
          7.1750335693359375,
          7.343695640563965,
          4.747973918914795,
          6.587620258331299,
          8.136503219604492,
          7.2526021003723145,
          8.112061500549316,
          6.789860248565674,
          7.958310604095459,
          7.769486904144287,
          7.869668006896973,
          7.707576751708984,
          7.728110313415527,
          6.678328990936279,
          6.860838413238525,
          8.015767097473145,
          5.15120267868042,
          6.722768783569336,
          7.133998394012451,
          7.258997440338135,
          7.99233341217041,
          5.984807968139648,
          7.666853427886963,
          5.95399808883667,
          5.32116174697876,
          4.9618635177612305,
          7.940855979919434,
          5.113275051116943,
          5.466048717498779,
          7.8414626121521,
          6.821372032165527,
          7.511013031005859,
          6.162082672119141,
          6.131501197814941,
          7.343789577484131,
          8.018963813781738,
          7.765451431274414,
          7.092068672180176,
          8.537748336791992,
          7.17788553237915,
          7.06201696395874,
          8.318227767944336,
          7.904958724975586,
          5.668875694274902,
          5.160225868225098,
          7.939306735992432,
          7.3904595375061035,
          8.494772911071777,
          5.460525989532471,
          6.316879749298096,
          6.734249591827393,
          7.114656448364258,
          7.237331390380859,
          6.431220531463623,
          5.026660919189453,
          6.5013556480407715,
          5.289457321166992,
          5.272212505340576,
          5.745794296264648,
          6.401548385620117,
          7.6337409019470215,
          7.010781764984131,
          7.112817764282227,
          8.138689041137695,
          6.583116054534912,
          6.676819801330566,
          7.780358791351318,
          6.845723628997803,
          7.910595417022705,
          6.60732889175415,
          6.927505016326904,
          6.170382499694824,
          5.499445915222168,
          5.055544376373291,
          5.377998352050781,
          4.965099811553955,
          6.078537940979004,
          6.903313159942627,
          7.366668224334717,
          4.749199867248535,
          5.567349433898926,
          6.113516330718994,
          6.5558671951293945,
          7.8384222984313965,
          8.451531410217285,
          7.654774188995361,
          7.344830513000488,
          8.0059175491333,
          7.362807750701904,
          8.217162132263184,
          8.25056266784668,
          8.338545799255371,
          8.400955200195312,
          7.325932502746582,
          7.927307605743408,
          7.808548450469971,
          7.851809978485107,
          6.836023807525635,
          7.539653301239014,
          8.909082412719727,
          7.193367004394531,
          5.645442485809326,
          7.403256893157959,
          8.22138786315918,
          7.018648147583008,
          6.5754194259643555,
          6.818798542022705,
          7.142396926879883,
          5.671624660491943,
          7.526918888092041,
          7.586831092834473,
          5.045245170593262,
          7.693833351135254,
          5.101528644561768,
          8.134282112121582,
          7.024068832397461,
          5.344661235809326,
          5.830690383911133,
          7.311130523681641,
          7.83886194229126,
          7.411970615386963,
          6.934145927429199,
          8.223605155944824,
          7.028153419494629,
          6.316329002380371,
          5.865173816680908,
          5.856083393096924,
          5.424749374389648,
          7.16212272644043,
          7.205541133880615,
          7.561336517333984,
          7.541831016540527,
          7.190371513366699,
          4.755197525024414,
          7.8958420753479,
          7.476850509643555,
          8.265213966369629,
          8.006128311157227,
          5.995815277099609,
          5.388556480407715,
          4.9486541748046875,
          4.656438827514648,
          8.19937801361084,
          7.743385314941406,
          6.4024577140808105,
          7.392699241638184,
          8.705924034118652,
          7.931155681610107,
          6.542941093444824,
          7.829857349395752,
          7.516164302825928,
          5.359813213348389,
          7.868199825286865,
          7.280954837799072,
          7.2876176834106445,
          7.825046539306641,
          6.339834690093994,
          7.60367488861084,
          7.541428089141846,
          7.671167373657227,
          6.850212097167969,
          7.577070236206055,
          6.325551509857178,
          8.261627197265625,
          5.831975936889648,
          7.379642963409424,
          7.98478364944458,
          7.058557987213135,
          4.976019382476807,
          5.024725437164307,
          5.684647560119629,
          4.906149387359619,
          4.517961025238037,
          6.34538459777832,
          5.162832736968994,
          6.498688220977783,
          6.602869033813477,
          7.146590232849121,
          6.161628246307373,
          7.664931774139404,
          4.830506801605225,
          4.942243576049805,
          5.396381378173828,
          8.005977630615234,
          5.353980541229248,
          6.903589248657227,
          5.839080810546875,
          8.010527610778809,
          7.950932502746582,
          8.364534378051758,
          7.53234338760376,
          4.861627101898193,
          6.65492582321167,
          6.368173599243164,
          7.469855308532715,
          7.428640842437744,
          6.554195880889893,
          6.577668190002441,
          8.483614921569824,
          5.291001319885254,
          4.825698375701904,
          7.436970233917236,
          6.834929466247559,
          6.706826210021973,
          5.7608513832092285,
          5.784482955932617,
          8.034815788269043,
          7.216824531555176,
          4.564651012420654,
          5.090534210205078,
          5.179393768310547,
          7.12952995300293,
          5.724864482879639,
          6.64002799987793,
          7.522928714752197,
          6.7520904541015625,
          7.4003753662109375,
          8.270604133605957,
          6.276150226593018,
          5.636660099029541,
          6.829391956329346,
          5.997307777404785,
          6.6748270988464355,
          7.811478137969971,
          6.750960826873779,
          5.349606513977051,
          6.6117987632751465,
          6.704920768737793,
          5.470943927764893,
          5.6279425621032715,
          5.293407440185547,
          7.291891574859619,
          6.041043281555176,
          7.116887092590332,
          7.282948017120361,
          7.523495674133301,
          7.2451558113098145,
          4.736087322235107,
          6.171034812927246,
          5.630970001220703,
          6.727574348449707,
          5.480518817901611,
          5.226403713226318,
          6.504518032073975,
          4.592660427093506,
          6.287891864776611,
          6.102855682373047,
          5.294599533081055,
          5.713660717010498,
          5.060576915740967,
          7.348381996154785,
          7.618714809417725,
          7.443908214569092,
          4.8551201820373535,
          5.515487194061279,
          6.323508262634277,
          7.01945161819458,
          5.742771148681641,
          5.158376216888428,
          5.739609718322754,
          5.3111891746521,
          5.457860946655273,
          7.118740081787109,
          6.648558139801025,
          7.549404144287109,
          5.0507636070251465,
          8.618656158447266,
          7.147857666015625,
          5.930025577545166,
          6.960081100463867,
          8.178155899047852,
          8.236006736755371,
          7.305549621582031,
          6.648352146148682,
          4.899784088134766,
          4.77225923538208,
          7.640830993652344,
          4.806469917297363,
          5.144426345825195,
          6.231442928314209,
          8.243913650512695,
          5.2552103996276855,
          6.28643274307251,
          6.140683174133301,
          6.9234089851379395,
          7.873749732971191,
          6.2747297286987305,
          5.630636215209961,
          7.367039680480957,
          6.9073567390441895,
          5.611944675445557,
          4.9785308837890625,
          5.478013038635254,
          7.850189208984375,
          5.011847019195557,
          7.641744136810303,
          6.814046859741211,
          5.834467887878418,
          7.088284969329834,
          5.930484771728516,
          7.432119846343994,
          7.5875396728515625,
          7.507564544677734,
          5.461950778961182,
          6.356725215911865,
          5.694195747375488,
          6.980957508087158,
          7.21110200881958,
          7.660027027130127,
          6.066122531890869,
          5.286837577819824,
          7.319722652435303,
          7.185349464416504,
          6.418225288391113,
          4.904184341430664,
          7.509776592254639,
          6.93931245803833,
          8.161337852478027,
          7.621845722198486,
          8.057886123657227,
          5.776213645935059,
          5.007503509521484,
          7.063482284545898,
          5.955521583557129,
          4.909063339233398,
          4.214717388153076,
          5.790757179260254,
          4.868073463439941,
          4.491208076477051,
          5.189137935638428,
          6.850128650665283,
          5.010707378387451,
          5.39750337600708,
          6.193772792816162,
          6.46859073638916,
          5.557418346405029,
          5.276747226715088,
          4.778399467468262,
          7.807864189147949,
          4.281755447387695,
          5.571304798126221,
          6.960558891296387,
          5.7369842529296875,
          6.599599838256836,
          6.864077091217041,
          5.041334629058838,
          6.905664920806885,
          4.625913619995117,
          6.591818809509277,
          7.208226680755615,
          6.669716835021973,
          5.8374433517456055,
          5.130584239959717,
          5.6721720695495605,
          4.923315048217773,
          5.876235485076904,
          6.398662090301514,
          5.494264125823975,
          5.245150566101074,
          8.380396842956543,
          5.641665458679199,
          7.6188883781433105,
          6.342588424682617,
          7.97272253036499,
          7.664982795715332,
          7.590445518493652,
          5.420907020568848,
          7.110806465148926,
          5.094715118408203,
          7.0910563468933105,
          7.034764766693115,
          5.674666404724121,
          5.5308756828308105,
          5.428849220275879,
          5.217588901519775,
          5.386383056640625,
          4.368475437164307,
          7.781483173370361,
          7.941791534423828,
          5.858584403991699,
          5.368852138519287,
          5.05263614654541,
          5.627117156982422,
          5.1447601318359375,
          7.088237285614014,
          7.088727951049805,
          7.5581560134887695,
          5.055402755737305,
          7.581583499908447,
          4.512049198150635,
          6.829616546630859,
          5.273609638214111,
          5.724864482879639,
          5.092287063598633,
          5.945462226867676,
          5.564845561981201,
          5.061896324157715,
          7.653012752532959,
          5.073616027832031,
          4.248376369476318,
          5.344457626342773,
          5.801934719085693,
          6.690525054931641,
          6.997145652770996,
          6.698086261749268,
          6.266306400299072,
          6.247653484344482,
          5.436413288116455,
          8.016207695007324,
          4.969789981842041,
          5.353980541229248,
          5.990475654602051,
          5.175405025482178,
          5.094669342041016,
          5.818640232086182,
          6.453298091888428,
          5.7516913414001465,
          7.019229888916016,
          8.128600120544434,
          4.996479511260986,
          5.997282028198242,
          6.137183666229248,
          7.090771675109863,
          4.319036483764648,
          5.599047660827637,
          5.706695556640625,
          7.278654098510742,
          7.4500226974487305,
          5.073649883270264,
          5.510849952697754,
          7.0845723152160645,
          7.5383992195129395,
          6.406493186950684,
          6.766618728637695,
          4.553152561187744,
          8.225729942321777,
          5.076965808868408,
          7.663862228393555,
          6.645772457122803,
          5.503715991973877,
          6.998388290405273,
          5.283318042755127,
          6.497239112854004,
          4.880421161651611,
          5.570613384246826,
          7.556101322174072,
          6.6522746086120605,
          8.724087715148926,
          8.272503852844238,
          8.26080322265625,
          5.473672866821289,
          5.023134231567383,
          5.729034423828125,
          5.166277885437012,
          5.241206645965576,
          5.344661235809326,
          5.844173431396484,
          7.133974552154541,
          7.356045722961426,
          7.764638900756836,
          7.095896244049072,
          5.353980541229248,
          5.510620594024658,
          5.426278114318848,
          5.399017333984375,
          7.000888824462891,
          5.161287307739258,
          4.651071548461914,
          5.589822769165039,
          5.873347759246826,
          6.982767105102539,
          7.233989715576172,
          5.1918110847473145,
          5.395986080169678,
          4.945336818695068,
          6.431490898132324,
          4.414594650268555,
          6.074427127838135,
          4.6588263511657715,
          7.847714900970459,
          7.898592948913574,
          4.972860336303711,
          4.675873279571533,
          5.0256428718566895,
          5.6591362953186035,
          5.917031288146973,
          6.968317985534668,
          5.797541618347168,
          7.342315673828125,
          5.597927093505859,
          7.683924674987793,
          5.472729206085205,
          4.759425163269043,
          6.448962211608887,
          7.1814165115356445,
          4.674915313720703,
          5.564387321472168,
          6.529886722564697,
          6.666622638702393,
          5.574469089508057,
          6.4093499183654785,
          7.461559772491455,
          5.372812271118164,
          6.3337297439575195,
          4.792801380157471,
          7.558382987976074,
          4.2691779136657715,
          5.882965087890625,
          7.722650527954102,
          7.612753391265869,
          4.4982590675354,
          5.339600563049316,
          7.482862949371338,
          6.081017971038818,
          6.652856826782227,
          5.0045905113220215,
          5.876235485076904,
          5.144381523132324,
          5.097311496734619,
          6.48448371887207,
          6.725778579711914,
          7.882300853729248,
          7.489908218383789,
          5.31346321105957,
          5.8182854652404785,
          5.920795440673828,
          5.4454779624938965,
          4.682368278503418,
          6.808764457702637,
          5.757015228271484,
          7.361857891082764,
          5.636660099029541,
          4.961954116821289,
          4.366419792175293,
          4.916375160217285,
          4.877361297607422,
          7.049966335296631,
          7.403859615325928,
          5.182063579559326,
          5.235261917114258,
          5.102795124053955,
          6.615773677825928,
          5.542308807373047,
          6.559357643127441,
          6.396069049835205,
          6.650317668914795,
          6.724540710449219,
          6.6024088859558105,
          4.533316612243652,
          5.557249069213867,
          6.055007457733154,
          7.460447311401367,
          7.507314682006836,
          6.9114670753479,
          4.366419792175293,
          4.696861743927002,
          7.162756443023682,
          6.2339091300964355,
          6.5608673095703125,
          5.724864482879639,
          5.83647346496582,
          6.535423278808594,
          5.826793193817139,
          6.497941017150879,
          5.55506706237793,
          6.453379154205322,
          6.762004375457764,
          5.326104164123535,
          5.585495471954346,
          7.251558780670166,
          5.724864482879639,
          4.859065055847168,
          4.996479511260986,
          7.081749439239502,
          5.6420135498046875,
          4.961251258850098,
          6.027947425842285,
          7.8248209953308105,
          4.747973918914795,
          4.799415111541748,
          6.1021528244018555,
          6.962830066680908,
          5.724864482879639,
          7.149372577667236,
          5.980344295501709,
          5.132033348083496,
          5.701476573944092,
          5.149576663970947,
          7.662823677062988,
          4.996479511260986,
          7.763397216796875,
          6.470435619354248,
          5.415937900543213,
          5.2552103996276855,
          7.529551029205322,
          6.445631504058838,
          5.346709728240967,
          4.481637954711914,
          4.804230213165283,
          5.192963123321533,
          4.787035942077637,
          5.616137981414795,
          5.019247531890869,
          6.580338478088379,
          5.932971477508545,
          5.353980541229248,
          5.203246116638184,
          7.551994800567627,
          5.176587104797363,
          6.000050067901611,
          7.981884002685547,
          7.364276885986328,
          7.131194591522217,
          6.332204818725586,
          5.731508255004883,
          8.118685722351074,
          7.589541435241699,
          4.873285293579102,
          6.697094917297363,
          5.202566146850586,
          5.5801682472229,
          6.883569240570068,
          6.49692440032959,
          5.023134231567383,
          7.0625739097595215,
          6.634857177734375,
          5.472469806671143,
          7.80188512802124,
          5.601749897003174,
          7.321699142456055,
          4.373173236846924,
          4.8132548332214355,
          4.884392261505127,
          7.377658367156982,
          4.79499626159668,
          6.013599395751953,
          7.627678394317627,
          6.077542781829834,
          4.244724750518799,
          7.019115924835205,
          4.2934417724609375,
          6.244126796722412,
          5.927220344543457,
          7.907379627227783,
          7.483415603637695,
          4.944599628448486,
          6.996359348297119,
          5.072746276855469,
          5.601005554199219,
          5.601749897003174,
          4.378204345703125,
          6.713650226593018,
          5.941060543060303,
          6.3128437995910645,
          5.400242805480957,
          4.735698699951172,
          7.00895357131958,
          6.429198265075684,
          6.049114227294922,
          8.270380020141602,
          5.8806257247924805,
          7.367422103881836,
          5.465966701507568,
          6.074427127838135,
          5.353980541229248,
          6.284016132354736,
          7.526450157165527,
          5.447345733642578,
          6.3065104484558105,
          5.7288618087768555,
          4.190881729125977,
          7.7871623039245605,
          4.742847919464111,
          7.427863597869873,
          6.195518970489502,
          6.111643314361572,
          5.765297889709473,
          4.522964000701904,
          4.122140884399414,
          6.514771938323975,
          5.285953521728516,
          5.917974948883057,
          7.422939777374268,
          4.965099811553955,
          6.909966468811035,
          5.431872367858887,
          6.235203742980957,
          5.936245918273926,
          5.967491149902344,
          6.439875602722168,
          6.837181568145752,
          5.031113624572754,
          4.223611354827881,
          5.289943695068359,
          4.944307804107666,
          4.951108455657959,
          5.344661235809326,
          5.603801250457764,
          5.0944623947143555,
          5.509471416473389,
          5.339600563049316,
          7.289124011993408,
          7.01754903793335,
          6.903445243835449,
          7.063061714172363,
          5.962777137756348,
          4.366037368774414,
          6.528176307678223,
          5.534355640411377,
          6.8169050216674805,
          4.747973918914795,
          8.236960411071777,
          5.025043487548828,
          5.780306816101074,
          8.108060836791992,
          5.0974650382995605,
          5.122895240783691,
          5.836421489715576,
          6.760884761810303,
          6.2339091300964355,
          6.7415924072265625,
          5.861950874328613,
          4.9483137130737305,
          7.756503582000732,
          6.17180871963501,
          7.632319450378418,
          5.40907096862793,
          7.6296210289001465,
          5.764317512512207,
          6.6289191246032715,
          5.6279425621032715,
          5.0148773193359375,
          5.088518142700195,
          4.607176780700684,
          5.203246116638184,
          7.667053699493408,
          5.876235485076904,
          6.046140670776367,
          5.7708258628845215,
          4.684786796569824,
          5.724864482879639,
          5.317735195159912,
          5.317735195159912,
          4.301825046539307,
          5.271277904510498,
          4.492595195770264,
          5.353980541229248,
          5.07888650894165,
          6.366833209991455,
          5.203246116638184,
          5.285953521728516,
          5.344661235809326,
          6.700727462768555,
          6.94307804107666,
          6.270659446716309,
          5.873347759246826,
          5.097525596618652,
          7.281691074371338,
          4.581701278686523,
          4.9378581047058105,
          5.700235843658447,
          7.313041687011719,
          5.728368759155273,
          6.757740497589111,
          5.825132846832275,
          6.923555850982666,
          6.291566848754883,
          6.18489933013916,
          5.596256732940674,
          6.462912559509277,
          4.477238655090332,
          4.839016437530518,
          5.627336502075195,
          7.695064067840576,
          7.138758182525635,
          6.766983985900879,
          5.472469806671143,
          7.073671340942383,
          5.891817569732666,
          6.504820346832275,
          5.9379682540893555,
          7.198643207550049,
          4.799415111541748,
          5.344661235809326,
          6.585054874420166,
          6.2339091300964355,
          6.1975202560424805,
          5.203246116638184,
          6.621271133422852,
          6.257993221282959,
          5.649438381195068,
          5.990475654602051,
          6.856497764587402,
          5.344661235809326,
          6.179886817932129,
          5.932514190673828,
          5.457551956176758,
          6.715243816375732,
          5.314759254455566,
          6.597888946533203,
          4.932241916656494,
          4.768264293670654,
          4.999428749084473,
          7.10915994644165,
          4.708054542541504,
          4.708054542541504,
          5.63287878036499,
          5.353980541229248,
          5.1053466796875,
          5.724864482879639,
          6.610873222351074,
          6.450613975524902,
          5.164427280426025,
          4.39046573638916,
          5.202566146850586,
          7.04466438293457,
          5.534355640411377,
          6.337509632110596,
          5.9110026359558105,
          5.4197235107421875,
          6.094730854034424,
          5.77574348449707,
          5.095426559448242,
          5.351953983306885,
          4.814781665802002,
          6.5246171951293945,
          6.002745151519775,
          6.3809332847595215,
          5.012205123901367,
          4.813891410827637,
          5.393917560577393,
          5.892435073852539,
          5.503715991973877,
          6.208314418792725,
          4.946969509124756,
          5.668148994445801,
          4.818579196929932,
          5.49847412109375,
          4.74619722366333,
          5.344161510467529,
          5.344661235809326,
          6.285585880279541,
          5.490791320800781,
          4.962229251861572,
          6.163607120513916,
          6.074427127838135,
          6.324085235595703,
          5.203246116638184,
          4.180085182189941,
          5.258288860321045,
          5.378234386444092,
          5.081398963928223,
          5.8122172355651855,
          4.799415111541748,
          5.271277904510498,
          7.411720275878906,
          5.203246116638184,
          5.326486587524414,
          6.9028754234313965,
          5.045648097991943,
          4.867227554321289,
          5.353980541229248,
          4.3965864181518555,
          4.373173236846924,
          5.619523048400879,
          5.353980541229248,
          5.26768684387207,
          4.18337869644165,
          5.346709728240967,
          4.362034797668457,
          5.121286869049072,
          6.625401020050049,
          6.760884761810303,
          5.551494598388672,
          5.549838066101074,
          6.450369358062744,
          6.372433185577393,
          5.010417938232422,
          6.677945613861084,
          5.203246116638184,
          4.3607707023620605,
          4.970355987548828,
          5.892435073852539,
          5.636660099029541,
          6.118030548095703,
          5.432982921600342,
          5.6047139167785645,
          5.457551956176758,
          4.323816299438477,
          4.96254825592041,
          5.790743827819824,
          4.440066337585449,
          6.963554859161377,
          5.521736145019531,
          5.558043003082275,
          5.293313503265381,
          6.754230499267578,
          5.969008445739746,
          4.787059783935547,
          5.128794193267822,
          6.074427127838135,
          7.399502754211426,
          5.854583263397217,
          5.659717082977295,
          4.7689337730407715,
          5.400242805480957,
          4.214717388153076,
          5.873347759246826,
          6.4880757331848145,
          4.861666202545166,
          4.911520481109619,
          5.386383056640625,
          5.876235485076904,
          6.459533214569092,
          6.229249000549316,
          5.736015319824219,
          6.285585880279541,
          5.478970050811768,
          4.248636722564697,
          5.351845741271973,
          4.708054542541504,
          5.40907096862793,
          5.339600563049316,
          4.941827297210693,
          5.13710355758667,
          4.353311061859131,
          6.439875602722168,
          6.591729164123535,
          5.666308403015137,
          6.805479526519775,
          6.521653652191162,
          6.053426265716553,
          4.866335391998291,
          5.353980541229248,
          4.984487056732178,
          5.472469806671143,
          5.119692325592041,
          5.873347759246826,
          5.498522758483887,
          6.500552177429199,
          6.630036354064941,
          5.472469806671143,
          5.270439147949219,
          5.375582218170166,
          5.038785934448242,
          7.241063594818115,
          5.42753267288208,
          5.472469806671143,
          6.464120864868164,
          6.118504047393799,
          5.63287878036499,
          5.636660099029541,
          4.910111427307129,
          6.796112060546875,
          5.873347759246826,
          5.344661235809326,
          5.843512058258057,
          5.344661235809326,
          5.857876777648926,
          4.818579196929932,
          6.227973461151123,
          5.049652099609375,
          5.498522758483887,
          4.708054542541504,
          6.439875602722168,
          5.873347759246826,
          4.830514430999756,
          5.288024425506592,
          5.078691482543945,
          5.344661235809326,
          6.760884761810303,
          6.463955879211426,
          5.133602142333984,
          6.553100109100342,
          4.373173236846924,
          6.140292167663574,
          5.339600563049316,
          5.7098541259765625,
          4.957193851470947,
          5.088491439819336,
          5.344661235809326,
          4.334621906280518,
          4.830514430999756,
          5.636660099029541,
          5.5072102546691895,
          7.021549701690674,
          5.960011005401611,
          5.353980541229248,
          5.203246116638184,
          5.932514190673828,
          5.537343978881836,
          6.542032241821289,
          5.571816444396973,
          5.89930534362793,
          5.203246116638184,
          6.110414028167725,
          5.511945724487305,
          6.40528678894043,
          5.063704490661621,
          5.257354259490967,
          5.288024425506592,
          6.546727657318115,
          5.353980541229248,
          6.326538562774658,
          5.472469806671143,
          6.257993221282959,
          5.339600563049316,
          5.069794654846191,
          5.203246116638184,
          6.3678131103515625,
          5.052268028259277,
          6.625401020050049,
          5.472469806671143,
          6.285585880279541,
          5.0313544273376465,
          6.335154056549072,
          6.229249000549316,
          6.41144323348999,
          5.873347759246826,
          5.472469806671143,
          5.472469806671143,
          5.344661235809326,
          5.045517921447754,
          4.904841899871826,
          6.285585880279541,
          6.335154056549072,
          5.5072102546691895,
          6.625401020050049,
          6.3956193923950195,
          5.203246116638184,
          4.373173236846924,
          5.1896891593933105,
          5.344661235809326,
          6.796112060546875,
          5.636660099029541,
          6.805479526519775,
          5.203246116638184,
          5.431872367858887,
          5.959425449371338,
          5.189572334289551,
          5.817741394042969,
          6.686792373657227,
          5.344661235809326,
          5.873347759246826,
          5.203246116638184,
          5.861950874328613,
          5.18387508392334,
          6.125485420227051,
          5.472469806671143,
          5.472469806671143
         ]
        }
       ],
       "layout": {
        "font": {
         "size": 20
        },
        "paper_bgcolor": "white",
        "plot_bgcolor": "white",
        "template": {
         "data": {
          "bar": [
           {
            "error_x": {
             "color": "#2a3f5f"
            },
            "error_y": {
             "color": "#2a3f5f"
            },
            "marker": {
             "line": {
              "color": "#E5ECF6",
              "width": 0.5
             },
             "pattern": {
              "fillmode": "overlay",
              "size": 10,
              "solidity": 0.2
             }
            },
            "type": "bar"
           }
          ],
          "barpolar": [
           {
            "marker": {
             "line": {
              "color": "#E5ECF6",
              "width": 0.5
             },
             "pattern": {
              "fillmode": "overlay",
              "size": 10,
              "solidity": 0.2
             }
            },
            "type": "barpolar"
           }
          ],
          "carpet": [
           {
            "aaxis": {
             "endlinecolor": "#2a3f5f",
             "gridcolor": "white",
             "linecolor": "white",
             "minorgridcolor": "white",
             "startlinecolor": "#2a3f5f"
            },
            "baxis": {
             "endlinecolor": "#2a3f5f",
             "gridcolor": "white",
             "linecolor": "white",
             "minorgridcolor": "white",
             "startlinecolor": "#2a3f5f"
            },
            "type": "carpet"
           }
          ],
          "choropleth": [
           {
            "colorbar": {
             "outlinewidth": 0,
             "ticks": ""
            },
            "type": "choropleth"
           }
          ],
          "contour": [
           {
            "colorbar": {
             "outlinewidth": 0,
             "ticks": ""
            },
            "colorscale": [
             [
              0,
              "#0d0887"
             ],
             [
              0.1111111111111111,
              "#46039f"
             ],
             [
              0.2222222222222222,
              "#7201a8"
             ],
             [
              0.3333333333333333,
              "#9c179e"
             ],
             [
              0.4444444444444444,
              "#bd3786"
             ],
             [
              0.5555555555555556,
              "#d8576b"
             ],
             [
              0.6666666666666666,
              "#ed7953"
             ],
             [
              0.7777777777777778,
              "#fb9f3a"
             ],
             [
              0.8888888888888888,
              "#fdca26"
             ],
             [
              1,
              "#f0f921"
             ]
            ],
            "type": "contour"
           }
          ],
          "contourcarpet": [
           {
            "colorbar": {
             "outlinewidth": 0,
             "ticks": ""
            },
            "type": "contourcarpet"
           }
          ],
          "heatmap": [
           {
            "colorbar": {
             "outlinewidth": 0,
             "ticks": ""
            },
            "colorscale": [
             [
              0,
              "#0d0887"
             ],
             [
              0.1111111111111111,
              "#46039f"
             ],
             [
              0.2222222222222222,
              "#7201a8"
             ],
             [
              0.3333333333333333,
              "#9c179e"
             ],
             [
              0.4444444444444444,
              "#bd3786"
             ],
             [
              0.5555555555555556,
              "#d8576b"
             ],
             [
              0.6666666666666666,
              "#ed7953"
             ],
             [
              0.7777777777777778,
              "#fb9f3a"
             ],
             [
              0.8888888888888888,
              "#fdca26"
             ],
             [
              1,
              "#f0f921"
             ]
            ],
            "type": "heatmap"
           }
          ],
          "heatmapgl": [
           {
            "colorbar": {
             "outlinewidth": 0,
             "ticks": ""
            },
            "colorscale": [
             [
              0,
              "#0d0887"
             ],
             [
              0.1111111111111111,
              "#46039f"
             ],
             [
              0.2222222222222222,
              "#7201a8"
             ],
             [
              0.3333333333333333,
              "#9c179e"
             ],
             [
              0.4444444444444444,
              "#bd3786"
             ],
             [
              0.5555555555555556,
              "#d8576b"
             ],
             [
              0.6666666666666666,
              "#ed7953"
             ],
             [
              0.7777777777777778,
              "#fb9f3a"
             ],
             [
              0.8888888888888888,
              "#fdca26"
             ],
             [
              1,
              "#f0f921"
             ]
            ],
            "type": "heatmapgl"
           }
          ],
          "histogram": [
           {
            "marker": {
             "pattern": {
              "fillmode": "overlay",
              "size": 10,
              "solidity": 0.2
             }
            },
            "type": "histogram"
           }
          ],
          "histogram2d": [
           {
            "colorbar": {
             "outlinewidth": 0,
             "ticks": ""
            },
            "colorscale": [
             [
              0,
              "#0d0887"
             ],
             [
              0.1111111111111111,
              "#46039f"
             ],
             [
              0.2222222222222222,
              "#7201a8"
             ],
             [
              0.3333333333333333,
              "#9c179e"
             ],
             [
              0.4444444444444444,
              "#bd3786"
             ],
             [
              0.5555555555555556,
              "#d8576b"
             ],
             [
              0.6666666666666666,
              "#ed7953"
             ],
             [
              0.7777777777777778,
              "#fb9f3a"
             ],
             [
              0.8888888888888888,
              "#fdca26"
             ],
             [
              1,
              "#f0f921"
             ]
            ],
            "type": "histogram2d"
           }
          ],
          "histogram2dcontour": [
           {
            "colorbar": {
             "outlinewidth": 0,
             "ticks": ""
            },
            "colorscale": [
             [
              0,
              "#0d0887"
             ],
             [
              0.1111111111111111,
              "#46039f"
             ],
             [
              0.2222222222222222,
              "#7201a8"
             ],
             [
              0.3333333333333333,
              "#9c179e"
             ],
             [
              0.4444444444444444,
              "#bd3786"
             ],
             [
              0.5555555555555556,
              "#d8576b"
             ],
             [
              0.6666666666666666,
              "#ed7953"
             ],
             [
              0.7777777777777778,
              "#fb9f3a"
             ],
             [
              0.8888888888888888,
              "#fdca26"
             ],
             [
              1,
              "#f0f921"
             ]
            ],
            "type": "histogram2dcontour"
           }
          ],
          "mesh3d": [
           {
            "colorbar": {
             "outlinewidth": 0,
             "ticks": ""
            },
            "type": "mesh3d"
           }
          ],
          "parcoords": [
           {
            "line": {
             "colorbar": {
              "outlinewidth": 0,
              "ticks": ""
             }
            },
            "type": "parcoords"
           }
          ],
          "pie": [
           {
            "automargin": true,
            "type": "pie"
           }
          ],
          "scatter": [
           {
            "fillpattern": {
             "fillmode": "overlay",
             "size": 10,
             "solidity": 0.2
            },
            "type": "scatter"
           }
          ],
          "scatter3d": [
           {
            "line": {
             "colorbar": {
              "outlinewidth": 0,
              "ticks": ""
             }
            },
            "marker": {
             "colorbar": {
              "outlinewidth": 0,
              "ticks": ""
             }
            },
            "type": "scatter3d"
           }
          ],
          "scattercarpet": [
           {
            "marker": {
             "colorbar": {
              "outlinewidth": 0,
              "ticks": ""
             }
            },
            "type": "scattercarpet"
           }
          ],
          "scattergeo": [
           {
            "marker": {
             "colorbar": {
              "outlinewidth": 0,
              "ticks": ""
             }
            },
            "type": "scattergeo"
           }
          ],
          "scattergl": [
           {
            "marker": {
             "colorbar": {
              "outlinewidth": 0,
              "ticks": ""
             }
            },
            "type": "scattergl"
           }
          ],
          "scattermapbox": [
           {
            "marker": {
             "colorbar": {
              "outlinewidth": 0,
              "ticks": ""
             }
            },
            "type": "scattermapbox"
           }
          ],
          "scatterpolar": [
           {
            "marker": {
             "colorbar": {
              "outlinewidth": 0,
              "ticks": ""
             }
            },
            "type": "scatterpolar"
           }
          ],
          "scatterpolargl": [
           {
            "marker": {
             "colorbar": {
              "outlinewidth": 0,
              "ticks": ""
             }
            },
            "type": "scatterpolargl"
           }
          ],
          "scatterternary": [
           {
            "marker": {
             "colorbar": {
              "outlinewidth": 0,
              "ticks": ""
             }
            },
            "type": "scatterternary"
           }
          ],
          "surface": [
           {
            "colorbar": {
             "outlinewidth": 0,
             "ticks": ""
            },
            "colorscale": [
             [
              0,
              "#0d0887"
             ],
             [
              0.1111111111111111,
              "#46039f"
             ],
             [
              0.2222222222222222,
              "#7201a8"
             ],
             [
              0.3333333333333333,
              "#9c179e"
             ],
             [
              0.4444444444444444,
              "#bd3786"
             ],
             [
              0.5555555555555556,
              "#d8576b"
             ],
             [
              0.6666666666666666,
              "#ed7953"
             ],
             [
              0.7777777777777778,
              "#fb9f3a"
             ],
             [
              0.8888888888888888,
              "#fdca26"
             ],
             [
              1,
              "#f0f921"
             ]
            ],
            "type": "surface"
           }
          ],
          "table": [
           {
            "cells": {
             "fill": {
              "color": "#EBF0F8"
             },
             "line": {
              "color": "white"
             }
            },
            "header": {
             "fill": {
              "color": "#C8D4E3"
             },
             "line": {
              "color": "white"
             }
            },
            "type": "table"
           }
          ]
         },
         "layout": {
          "annotationdefaults": {
           "arrowcolor": "#2a3f5f",
           "arrowhead": 0,
           "arrowwidth": 1
          },
          "autotypenumbers": "strict",
          "coloraxis": {
           "colorbar": {
            "outlinewidth": 0,
            "ticks": ""
           }
          },
          "colorscale": {
           "diverging": [
            [
             0,
             "#8e0152"
            ],
            [
             0.1,
             "#c51b7d"
            ],
            [
             0.2,
             "#de77ae"
            ],
            [
             0.3,
             "#f1b6da"
            ],
            [
             0.4,
             "#fde0ef"
            ],
            [
             0.5,
             "#f7f7f7"
            ],
            [
             0.6,
             "#e6f5d0"
            ],
            [
             0.7,
             "#b8e186"
            ],
            [
             0.8,
             "#7fbc41"
            ],
            [
             0.9,
             "#4d9221"
            ],
            [
             1,
             "#276419"
            ]
           ],
           "sequential": [
            [
             0,
             "#0d0887"
            ],
            [
             0.1111111111111111,
             "#46039f"
            ],
            [
             0.2222222222222222,
             "#7201a8"
            ],
            [
             0.3333333333333333,
             "#9c179e"
            ],
            [
             0.4444444444444444,
             "#bd3786"
            ],
            [
             0.5555555555555556,
             "#d8576b"
            ],
            [
             0.6666666666666666,
             "#ed7953"
            ],
            [
             0.7777777777777778,
             "#fb9f3a"
            ],
            [
             0.8888888888888888,
             "#fdca26"
            ],
            [
             1,
             "#f0f921"
            ]
           ],
           "sequentialminus": [
            [
             0,
             "#0d0887"
            ],
            [
             0.1111111111111111,
             "#46039f"
            ],
            [
             0.2222222222222222,
             "#7201a8"
            ],
            [
             0.3333333333333333,
             "#9c179e"
            ],
            [
             0.4444444444444444,
             "#bd3786"
            ],
            [
             0.5555555555555556,
             "#d8576b"
            ],
            [
             0.6666666666666666,
             "#ed7953"
            ],
            [
             0.7777777777777778,
             "#fb9f3a"
            ],
            [
             0.8888888888888888,
             "#fdca26"
            ],
            [
             1,
             "#f0f921"
            ]
           ]
          },
          "colorway": [
           "#636efa",
           "#EF553B",
           "#00cc96",
           "#ab63fa",
           "#FFA15A",
           "#19d3f3",
           "#FF6692",
           "#B6E880",
           "#FF97FF",
           "#FECB52"
          ],
          "font": {
           "color": "#2a3f5f"
          },
          "geo": {
           "bgcolor": "white",
           "lakecolor": "white",
           "landcolor": "#E5ECF6",
           "showlakes": true,
           "showland": true,
           "subunitcolor": "white"
          },
          "hoverlabel": {
           "align": "left"
          },
          "hovermode": "closest",
          "mapbox": {
           "style": "light"
          },
          "paper_bgcolor": "white",
          "plot_bgcolor": "#E5ECF6",
          "polar": {
           "angularaxis": {
            "gridcolor": "white",
            "linecolor": "white",
            "ticks": ""
           },
           "bgcolor": "#E5ECF6",
           "radialaxis": {
            "gridcolor": "white",
            "linecolor": "white",
            "ticks": ""
           }
          },
          "scene": {
           "xaxis": {
            "backgroundcolor": "#E5ECF6",
            "gridcolor": "white",
            "gridwidth": 2,
            "linecolor": "white",
            "showbackground": true,
            "ticks": "",
            "zerolinecolor": "white"
           },
           "yaxis": {
            "backgroundcolor": "#E5ECF6",
            "gridcolor": "white",
            "gridwidth": 2,
            "linecolor": "white",
            "showbackground": true,
            "ticks": "",
            "zerolinecolor": "white"
           },
           "zaxis": {
            "backgroundcolor": "#E5ECF6",
            "gridcolor": "white",
            "gridwidth": 2,
            "linecolor": "white",
            "showbackground": true,
            "ticks": "",
            "zerolinecolor": "white"
           }
          },
          "shapedefaults": {
           "line": {
            "color": "#2a3f5f"
           }
          },
          "ternary": {
           "aaxis": {
            "gridcolor": "white",
            "linecolor": "white",
            "ticks": ""
           },
           "baxis": {
            "gridcolor": "white",
            "linecolor": "white",
            "ticks": ""
           },
           "bgcolor": "#E5ECF6",
           "caxis": {
            "gridcolor": "white",
            "linecolor": "white",
            "ticks": ""
           }
          },
          "title": {
           "x": 0.05
          },
          "xaxis": {
           "automargin": true,
           "gridcolor": "white",
           "linecolor": "white",
           "ticks": "",
           "title": {
            "standoff": 15
           },
           "zerolinecolor": "white",
           "zerolinewidth": 2
          },
          "yaxis": {
           "automargin": true,
           "gridcolor": "white",
           "linecolor": "white",
           "ticks": "",
           "title": {
            "standoff": 15
           },
           "zerolinecolor": "white",
           "zerolinewidth": 2
          }
         }
        },
        "title": {
         "text": "Distribution of Nuclear Norm of Node Explain Matrix"
        },
        "xaxis": {
         "title": {
          "text": "Nuclear Norm"
         }
        },
        "yaxis": {
         "title": {
          "text": "Frequency"
         }
        }
       }
      },
      "text/html": [
       "<div>                            <div id=\"12b5ef02-8ed5-4788-8395-e8beca344e21\" class=\"plotly-graph-div\" style=\"height:525px; width:100%;\"></div>            <script type=\"text/javascript\">                require([\"plotly\"], function(Plotly) {                    window.PLOTLYENV=window.PLOTLYENV || {};                                    if (document.getElementById(\"12b5ef02-8ed5-4788-8395-e8beca344e21\")) {                    Plotly.newPlot(                        \"12b5ef02-8ed5-4788-8395-e8beca344e21\",                        [{\"name\":\"DGI\",\"x\":[8.375190734863281,13.013002395629883,11.893795013427734,9.570307731628418,7.499247074127197,10.906708717346191,8.833288192749023,7.28265905380249,12.671136856079102,6.400193691253662,11.422835350036621,12.46474552154541,8.032943725585938,9.835172653198242,10.305789947509766,8.614657402038574,9.91510009765625,5.707947731018066,11.267738342285156,9.65044116973877,10.81794261932373,8.812963485717773,7.407781600952148,8.582222938537598,6.401671886444092,12.845922470092773,5.7937164306640625,8.806896209716797,6.169308185577393,7.199280261993408,7.169388771057129,8.903916358947754,10.255243301391602,9.121747016906738,10.779071807861328,10.840766906738281,8.9092378616333,9.137825012207031,9.373903274536133,10.92178726196289,8.093549728393555,10.687482833862305,11.364583015441895,7.692201137542725,6.704681873321533,8.534612655639648,6.459347724914551,11.582806587219238,9.002756118774414,7.20550537109375,7.463189125061035,9.077986717224121,8.798576354980469,10.866804122924805,6.2651686668396,10.023268699645996,11.012493133544922,9.60671329498291,7.199534893035889,8.238341331481934,8.93063735961914,11.123044967651367,7.227631092071533,7.836001396179199,10.270731925964355,7.744256019592285,9.132513999938965,8.547073364257812,10.47061538696289,6.958075046539307,8.87462329864502,8.18517780303955,10.377473831176758,9.880355834960938,9.531290054321289,10.052786827087402,9.216085433959961,5.685168743133545,10.734048843383789,8.664355278015137,11.530841827392578,9.921226501464844,11.67519474029541,6.857885360717773,9.686793327331543,11.867707252502441,8.431270599365234,9.775745391845703,9.59837532043457,10.844147682189941,8.812284469604492,8.824418067932129,6.919498920440674,6.9748311042785645,7.447395324707031,9.454790115356445,9.841792106628418,6.440967559814453,8.070024490356445,10.68075180053711,8.953539848327637,8.18312931060791,10.52764892578125,7.323639869689941,6.650497913360596,7.25049352645874,10.422104835510254,12.110527992248535,9.09000301361084,10.615921020507812,9.784990310668945,10.691997528076172,9.400900840759277,8.489201545715332,9.697243690490723,6.683145523071289,7.275582790374756,8.128303527832031,8.294502258300781,9.203307151794434,8.677343368530273,6.704464912414551,9.83003044128418,9.434345245361328,7.630496978759766,8.025995254516602,7.94172477722168,8.603909492492676,10.079449653625488,7.882385730743408,9.275087356567383,10.538854598999023,8.698508262634277,10.051155090332031,9.341475486755371,9.188300132751465,7.798281669616699,7.4692254066467285,8.409440994262695,9.767524719238281,13.835759162902832,9.651970863342285,9.248883247375488,8.954031944274902,9.165462493896484,11.396774291992188,11.641253471374512,12.628793716430664,8.576197624206543,10.60246467590332,9.813408851623535,9.480958938598633,8.874868392944336,9.482625961303711,7.827953338623047,9.688920021057129,9.541214942932129,5.993366718292236,9.307883262634277,11.074283599853516,5.638998985290527,9.188512802124023,10.346991539001465,8.59103775024414,7.872089385986328,9.275632858276367,9.059514999389648,8.853148460388184,7.281400680541992,6.359769344329834,11.960512161254883,10.81430435180664,9.262689590454102,10.06951904296875,9.699806213378906,9.529093742370605,10.683923721313477,9.536831855773926,11.418130874633789,8.372964859008789,8.089104652404785,9.110823631286621,12.56497859954834,11.262277603149414,8.54146957397461,7.016617774963379,8.901205062866211,9.061662673950195,12.251176834106445,8.05893611907959,6.978865146636963,11.342694282531738,7.76564359664917,7.519847393035889,10.647992134094238,8.857548713684082,9.440826416015625,8.798632621765137,12.254204750061035,9.166293144226074,10.265872955322266,7.261438369750977,8.755983352661133,10.95188045501709,10.764288902282715,7.346434116363525,8.891304969787598,9.671039581298828,7.207685470581055,7.768522262573242,8.61584186553955,7.153914451599121,8.091734886169434,7.418036937713623,8.948948860168457,5.435628890991211,8.335871696472168,6.626370906829834,6.363710880279541,9.30317497253418,11.206547737121582,8.64786434173584,8.929874420166016,9.017815589904785,12.554515838623047,12.39120864868164,13.749532699584961,12.393538475036621,9.601984024047852,8.106208801269531,9.392430305480957,11.261547088623047,9.594825744628906,11.926509857177734,10.108609199523926,10.122315406799316,10.742273330688477,8.407112121582031,9.381367683410645,12.831513404846191,10.326654434204102,9.808165550231934,11.783397674560547,8.170270919799805,7.280893802642822,10.47787857055664,10.941044807434082,9.76021671295166,8.785099983215332,8.663275718688965,9.845783233642578,10.029586791992188,8.10862922668457,7.684967041015625,9.843707084655762,9.103100776672363,8.828981399536133,11.0049467086792,9.821066856384277,10.963061332702637,10.614893913269043,8.663122177124023,8.612174034118652,6.69234561920166,10.212236404418945,8.136014938354492,10.840861320495605,8.831802368164062,8.833695411682129,8.757338523864746,13.269850730895996,11.19149398803711,13.557511329650879,8.687177658081055,8.496264457702637,8.39537525177002,8.481746673583984,6.486673831939697,12.091363906860352,9.870643615722656,8.460580825805664,12.018988609313965,9.543601036071777,9.731729507446289,9.343094825744629,10.58818531036377,9.487393379211426,7.64017915725708,8.865114212036133,10.913219451904297,10.956104278564453,14.284675598144531,9.993229866027832,12.025464057922363,10.867684364318848,9.445600509643555,8.647150039672852,9.358766555786133,11.837095260620117,11.512482643127441,10.488574028015137,12.433197021484375,12.552241325378418,8.883808135986328,6.140199661254883,5.998763084411621,8.649520874023438,6.775627136230469,7.240296363830566,9.361159324645996,8.296371459960938,11.203025817871094,10.724392890930176,7.721009254455566,7.283046722412109,8.581622123718262,8.017108917236328,7.742043495178223,7.219478607177734,9.099381446838379,7.647379398345947,8.120163917541504,10.927310943603516,10.336148262023926,12.252756118774414,11.053475379943848,9.666654586791992,8.42383861541748,11.520261764526367,11.451231002807617,10.451322555541992,11.836752891540527,8.94683837890625,10.172228813171387,12.153646469116211,7.268569469451904,5.6432695388793945,13.247124671936035,7.519379615783691,10.188972473144531,10.161075592041016,7.48160457611084,11.724196434020996,11.11525821685791,7.047883033752441,7.223269462585449,8.433667182922363,9.597929954528809,7.773745059967041,11.294424057006836,12.694988250732422,10.259407997131348,13.220747947692871,12.430639266967773,6.653688430786133,7.87626838684082,12.594621658325195,9.573739051818848,10.090956687927246,11.472098350524902,7.970850467681885,6.283233642578125,10.296619415283203,8.464027404785156,7.0362701416015625,7.828049659729004,7.547049522399902,11.920909881591797,7.961481094360352,10.068829536437988,9.820905685424805,11.423531532287598,8.902164459228516,7.770475387573242,8.835688591003418,8.635169982910156,8.826272010803223,7.518769264221191,6.04565954208374,11.147433280944824,7.1726202964782715,11.32111644744873,9.792781829833984,7.627734184265137,8.984848976135254,7.7968220710754395,11.621306419372559,11.58608627319336,8.833489418029785,7.79292106628418,10.434589385986328,10.934122085571289,8.626551628112793,8.904178619384766,6.0177459716796875,9.967053413391113,8.44664478302002,8.88040828704834,8.983357429504395,9.457924842834473,12.160882949829102,6.984318733215332,13.173303604125977,10.255753517150879,7.402194499969482,9.782573699951172,11.998724937438965,11.23932933807373,10.378323554992676,10.613618850708008,7.141485214233398,5.839487552642822,11.112706184387207,6.304782390594482,9.675460815429688,11.254800796508789,9.254085540771484,7.791357040405273,8.206280708312988,8.191046714782715,11.593049049377441,12.546514511108398,11.165999412536621,7.928435802459717,12.174211502075195,9.837553024291992,7.735367298126221,8.709307670593262,7.880679607391357,13.825411796569824,7.188715934753418,12.608291625976562,9.915675163269043,8.986303329467773,8.112757682800293,8.472543716430664,9.437310218811035,12.002104759216309,11.499860763549805,8.9390869140625,11.362472534179688,7.294212818145752,9.351675987243652,9.003761291503906,11.812968254089355,10.993103981018066,7.985073089599609,10.81091022491455,12.129168510437012,11.183531761169434,9.20858097076416,13.648453712463379,10.21523380279541,9.873698234558105,12.52627944946289,10.636491775512695,8.525341033935547,6.902753829956055,10.16402816772461,8.758846282958984,8.008461952209473,7.27972412109375,8.168756484985352,7.794795989990234,8.320188522338867,10.033347129821777,11.837188720703125,8.217049598693848,7.62462043762207,7.514517307281494,6.765067100524902,8.494826316833496,6.35660457611084,7.1042633056640625,11.62743854522705,7.301239013671875,8.62642765045166,9.774319648742676,10.884855270385742,12.262682914733887,11.108003616333008,9.400163650512695,12.90944766998291,7.3252668380737305,8.454057693481445,10.79184341430664,8.758679389953613,8.980868339538574,8.582334518432617,6.920408248901367,5.549823760986328,8.30391788482666,9.980945587158203,10.495821952819824,6.90078592300415,11.921793937683105,8.829662322998047,12.101282119750977,11.802019119262695,10.350457191467285,13.234346389770508,10.376428604125977,6.9324951171875,10.740169525146484,7.742591381072998,7.635875701904297,10.087668418884277,7.730100154876709,9.617354393005371,8.510202407836914,8.389958381652832,7.1719231605529785,7.770294666290283,12.983652114868164,12.66225528717041,8.101871490478516,7.471035480499268,7.587406158447266,8.691482543945312,8.023219108581543,9.422313690185547,10.705347061157227,12.140609741210938,8.259316444396973,11.384438514709473,6.738377571105957,10.918010711669922,8.449972152709961,7.773745059967041,7.48561954498291,11.137113571166992,9.401674270629883,7.153380870819092,11.444823265075684,9.746938705444336,7.740670680999756,8.316930770874023,10.15050983428955,10.404396057128906,9.103798866271973,11.15334701538086,8.26540470123291,10.614896774291992,7.290021896362305,11.485344886779785,7.978005886077881,7.647379398345947,8.454323768615723,8.575834274291992,8.759194374084473,11.334160804748535,8.595428466796875,10.8441162109375,11.258024215698242,10.614530563354492,7.955955982208252,10.518495559692383,9.615254402160645,11.006011962890625,7.051454544067383,7.867160320281982,8.540724754333496,11.660968780517578,10.081974029541016,9.40967845916748,7.248868942260742,9.260751724243164,12.694863319396973,11.830326080322266,8.436430931091309,7.006102085113525,13.237401962280273,9.490683555603027,13.024846076965332,11.511948585510254,7.107631683349609,10.948138236999512,8.042073249816895,11.240623474121094,7.024901866912842,8.853246688842773,11.801033973693848,8.967535018920898,13.512445449829102,14.647958755493164,14.566039085388184,8.886016845703125,9.313868522644043,8.682916641235352,8.81119441986084,8.739343643188477,8.10862922668457,7.972509384155273,11.62702751159668,10.249095916748047,10.708386421203613,8.345073699951172,7.647379398345947,9.35596752166748,8.38782787322998,8.90601921081543,9.879420280456543,8.670875549316406,7.777629375457764,8.440131187438965,8.16926383972168,12.15245532989502,12.270088195800781,7.056972026824951,8.823224067687988,9.043193817138672,9.24204158782959,7.699187278747559,8.319360733032227,7.094065189361572,13.460372924804688,12.41092300415039,8.93157958984375,7.5615763664245605,8.134684562683105,7.913926601409912,9.451765060424805,12.586176872253418,10.901342391967773,12.411059379577637,7.861506938934326,11.617765426635742,7.941799163818359,6.975668907165527,10.29959774017334,11.837244033813477,7.273083686828613,8.063715934753418,7.384063720703125,7.931780815124512,9.88647174835205,7.380643844604492,7.777133464813232,8.52451229095459,9.990771293640137,7.690579414367676,10.48251724243164,7.669220447540283,7.784146308898926,12.983251571655273,10.78006362915039,6.421361446380615,7.261682987213135,8.167754173278809,11.39777660369873,9.011015892028809,7.173043727874756,8.30391788482666,8.141034126281738,9.450550079345703,11.097381591796875,11.50992488861084,10.5084867477417,11.825023651123047,8.250452995300293,6.874602794647217,7.574824810028076,9.004016876220703,8.223501205444336,8.983888626098633,8.553030014038086,10.9714994430542,7.87626838684082,7.326820373535156,7.371824741363525,7.089353561401367,8.839254379272461,8.28246021270752,8.208100318908691,9.587535858154297,8.912113189697266,9.376725196838379,7.849729537963867,9.968358039855957,11.262152671813965,9.674145698547363,10.467293739318848,9.039189338684082,12.167686462402344,8.443530082702637,8.499556541442871,6.645641803741455,11.74018383026123,13.294184684753418,10.514816284179688,7.371824741363525,8.086520195007324,11.910167694091797,7.195080280303955,11.558024406433105,7.773745059967041,11.073631286621094,8.322334289550781,8.711091041564941,8.913304328918457,8.70610237121582,11.62710952758789,9.045524597167969,8.904364585876465,10.528803825378418,11.318291664123535,7.773745059967041,7.93015718460083,7.955955982208252,9.484447479248047,8.659252166748047,9.194069862365723,11.107452392578125,11.31358814239502,8.409440994262695,8.446003913879395,8.040617942810059,6.580545425415039,7.773745059967041,8.928462982177734,9.757027626037598,9.789783477783203,8.131516456604004,8.89487361907959,11.874608039855957,7.955955982208252,13.34101676940918,9.335914611816406,8.092798233032227,7.791357040405273,12.651585578918457,8.002967834472656,7.160879135131836,8.56621265411377,7.507221698760986,8.169060707092285,8.088479042053223,9.364728927612305,7.921254634857178,11.514793395996094,7.236536502838135,7.647379398345947,6.547510147094727,11.22390079498291,8.489056587219238,10.732012748718262,13.5042724609375,11.856911659240723,12.294678688049316,11.171586990356445,8.050761222839355,13.992753982543945,12.280399322509766,7.906057357788086,10.65643310546875,7.728118419647217,7.35006046295166,8.308845520019531,6.848557949066162,9.313868522644043,8.302498817443848,10.395633697509766,8.26202392578125,9.340723037719727,7.282594203948975,11.322534561157227,7.95717716217041,7.101257801055908,9.316463470458984,13.00345230102539,8.328296661376953,9.014966011047363,13.501874923706055,9.185169219970703,7.82430362701416,11.52711009979248,7.7056193351745605,8.013874053955078,9.175980567932129,13.218565940856934,13.413790702819824,7.633603096008301,9.996057510375977,7.880838871002197,7.247086524963379,7.282594203948975,8.112905502319336,9.5491943359375,8.475689888000488,10.13222885131836,7.599735736846924,8.173192977905273,10.511787414550781,11.640363693237305,10.923707962036133,12.613470077514648,9.313901901245117,10.822234153747559,8.448814392089844,8.319360733032227,7.647379398345947,9.160991668701172,12.006192207336426,8.61741828918457,7.488173007965088,7.714500904083252,7.789902687072754,11.88728141784668,7.185758590698242,12.631489753723145,8.086931228637695,8.417978286743164,7.702767372131348,7.177080154418945,7.256146430969238,10.1605863571167,7.080256938934326,7.639596939086914,12.413039207458496,7.153914451599121,11.33918571472168,7.09550142288208,7.628295421600342,8.531533241271973,8.163907051086426,9.289604187011719,8.517536163330078,6.987681865692139,7.692411422729492,7.124806880950928,7.319639682769775,9.199135780334473,8.10862922668457,10.354303359985352,9.74587631225586,8.415670394897461,7.261682987213135,11.10087776184082,10.276688575744629,12.716344833374023,8.116263389587402,11.018362998962402,7.279725074768066,9.98256778717041,6.753686904907227,7.734205722808838,8.409440994262695,14.180901527404785,6.051392555236816,10.641883850097656,11.723430633544922,7.397820949554443,6.7152204513549805,9.463913917541504,9.830249786376953,7.195080280303955,11.507168769836426,7.983623027801514,8.383822441101074,13.348145484924316,8.714082717895508,13.18593692779541,7.0970563888549805,9.543009757995605,8.728893280029297,12.342072486877441,7.828049659729004,7.564452648162842,7.204781532287598,7.743656635284424,6.547510147094727,13.183807373046875,8.30391788482666,9.620344161987305,8.192194938659668,8.835556983947754,7.773745059967041,7.846444606781006,7.846444606781006,8.035444259643555,7.8180975914001465,8.072258949279785,7.647379398345947,9.782600402832031,9.548051834106445,6.547510147094727,7.080256938934326,8.10862922668457,12.06983757019043,12.765213012695312,8.466059684753418,8.16926383972168,9.518171310424805,11.620881080627441,8.041302680969238,9.180023193359375,7.443822383880615,12.363842010498047,8.530008316040039,11.328248977661133,7.279842853546143,12.195913314819336,9.332159042358398,9.359395027160645,9.005515098571777,9.772112846374512,7.483092308044434,8.35403060913086,7.927913665771484,12.631731986999512,11.547083854675293,9.67495346069336,8.26202392578125,8.141884803771973,7.672847747802734,9.848806381225586,8.799839973449707,11.237754821777344,8.446003913879395,8.10862922668457,9.898849487304688,7.195080280303955,8.823297500610352,6.547510147094727,11.280577659606934,8.93783187866211,10.302752494812012,8.454323768615723,10.717101097106934,8.10862922668457,8.390316009521484,8.603684425354004,7.725295066833496,11.348836898803711,10.06690502166748,10.743621826171875,7.940972328186035,8.523896217346191,7.441167831420898,8.881285667419434,6.440969467163086,6.440969467163086,7.115198612213135,7.647379398345947,9.622138977050781,7.773745059967041,11.467555046081543,7.786633014678955,9.432759284973145,7.736040115356445,7.728118419647217,10.67500114440918,6.753686904907227,11.514985084533691,6.630113124847412,7.785423755645752,7.180645942687988,9.15027141571045,7.451564788818359,7.315258026123047,8.885248184204102,10.69159984588623,9.099157333374023,8.756498336791992,6.355298042297363,8.941713333129883,6.531804084777832,8.687769889831543,7.107631683349609,8.723445892333984,9.21450424194336,7.885951519012451,5.567288875579834,6.094559192657471,7.170421600341797,10.324484825134277,8.10862922668457,9.803869247436523,6.381148815155029,8.922500610351562,9.356727600097656,8.319360733032227,9.332193374633789,6.547510147094727,7.250815391540527,9.275521278381348,7.49826717376709,7.042239665985107,8.195109367370605,8.446003913879395,7.8180975914001465,11.66877555847168,6.547510147094727,6.5472941398620605,10.57833194732666,9.416313171386719,8.735784530639648,7.647379398345947,7.044784069061279,7.95717716217041,7.242270469665527,7.647379398345947,9.52967357635498,7.202066898345947,7.160879135131836,7.56536340713501,7.366347312927246,9.66120433807373,9.830249786376953,8.696170806884766,7.251802444458008,8.910002708435059,9.08118724822998,7.617032051086426,8.519242286682129,6.547510147094727,7.481911659240723,7.641060829162598,8.687769889831543,7.87626838684082,8.400190353393555,8.602062225341797,8.203829765319824,7.725295066833496,7.666748046875,7.917065143585205,8.17257022857666,8.124610900878906,9.08555793762207,7.537997722625732,9.396217346191406,6.907288551330566,9.359217643737793,8.4285306930542,8.453398704528809,7.075290203094482,8.319360733032227,12.871377944946289,8.629035949707031,8.590956687927246,8.907272338867188,7.599735736846924,7.27972412109375,8.16926383972168,9.754117012023926,8.881896018981934,9.02727222442627,7.1719231605529785,8.30391788482666,10.66666030883789,8.813957214355469,7.867635250091553,9.803869247436523,7.104430198669434,7.524261474609375,7.570459842681885,6.440969467163086,7.0970563888549805,7.261682987213135,8.776542663574219,7.638891220092773,7.475608825683594,9.289604187011719,11.975704193115234,9.108357429504395,9.960332870483398,10.919354438781738,8.497518539428711,7.2602763175964355,7.647379398345947,7.222511291503906,8.26202392578125,9.416590690612793,8.16926383972168,7.702204704284668,10.140257835388184,9.889627456665039,8.26202392578125,6.560962677001953,8.717723846435547,9.458479881286621,11.232775688171387,6.869390964508057,8.26202392578125,11.938663482666016,7.295007705688477,7.115198612213135,7.87626838684082,9.079268455505371,10.001700401306152,8.16926383972168,8.10862922668457,8.156460762023926,8.10862922668457,7.157361030578613,5.567288875579834,9.358453750610352,7.5755157470703125,7.702204704284668,6.440969467163086,9.289604187011719,8.16926383972168,8.393682479858398,7.452262878417969,9.460163116455078,8.10862922668457,9.830249786376953,9.584990501403809,9.532593727111816,7.990835666656494,7.95717716217041,10.104330062866211,7.261682987213135,9.102560997009277,8.021533012390137,8.079031944274902,8.10862922668457,7.513164520263672,8.393682479858398,7.87626838684082,7.848718166351318,8.79671859741211,8.447081565856934,7.647379398345947,6.547510147094727,8.603684425354004,7.511336326599121,9.620872497558594,7.729910373687744,7.991183280944824,6.547510147094727,7.921875953674316,7.245849609375,8.3910493850708,6.214690208435059,8.570730209350586,7.452262878417969,11.039582252502441,7.647379398345947,9.243535041809082,8.26202392578125,8.93783187866211,7.261682987213135,7.841681480407715,6.547510147094727,8.824555397033691,8.532605171203613,9.66120433807373,8.26202392578125,9.803869247436523,9.270623207092285,8.971540451049805,8.813957214355469,9.094144821166992,8.16926383972168,8.26202392578125,8.26202392578125,8.10862922668457,8.260459899902344,7.093376159667969,9.803869247436523,8.971540451049805,7.848718166351318,9.66120433807373,8.62104320526123,6.547510147094727,7.95717716217041,6.877439022064209,8.10862922668457,10.001700401306152,7.87626838684082,9.960332870483398,6.547510147094727,7.09550142288208,7.409010410308838,7.047069072723389,7.445365905761719,9.895719528198242,8.10862922668457,8.16926383972168,6.547510147094727,7.983623027801514,7.293301105499268,8.104700088500977,8.26202392578125,8.26202392578125],\"type\":\"histogram\"},{\"name\":\"DGI+XM\",\"x\":[5.173611640930176,7.726163864135742,7.923397541046143,8.557894706726074,7.1254425048828125,6.6644415855407715,5.0206379890441895,4.6528825759887695,8.109819412231445,5.765584468841553,8.611108779907227,8.04558277130127,6.77572774887085,8.612201690673828,8.170098304748535,7.638582229614258,5.483189582824707,5.498439788818359,8.116626739501953,8.357406616210938,7.185127258300781,7.654155731201172,6.782370090484619,7.034738540649414,5.693103790283203,7.647895336151123,5.419815540313721,7.362660884857178,5.843532562255859,5.1392903327941895,5.3000383377075195,7.847744464874268,7.856836318969727,6.118727207183838,6.8761115074157715,7.423076629638672,7.950109004974365,7.9471869468688965,8.301548957824707,6.267398834228516,7.6007771492004395,7.836775302886963,7.460057258605957,7.218247413635254,6.291415214538574,7.541514873504639,5.78681755065918,8.094060897827148,7.973643779754639,6.515763759613037,6.676087856292725,8.218696594238281,6.432957649230957,6.9744181632995605,5.7169318199157715,8.673733711242676,6.991204261779785,8.396585464477539,6.7609782218933105,7.509814262390137,7.955827236175537,6.677525997161865,6.024853706359863,7.37995719909668,7.627255439758301,6.235048294067383,7.910135269165039,7.583947658538818,7.352923393249512,6.836141586303711,7.965710163116455,7.312632083892822,8.106606483459473,8.405381202697754,8.103897094726562,8.293000221252441,5.62190055847168,5.073727607727051,7.496466159820557,7.859471321105957,7.944294452667236,6.639132976531982,7.380033016204834,6.264190196990967,6.9824700355529785,8.313238143920898,7.571161270141602,6.417861461639404,8.473063468933105,7.269348621368408,7.904524803161621,5.591682434082031,6.41224479675293,6.4543867111206055,6.618070602416992,7.203266143798828,8.121770858764648,5.645475387573242,4.798843860626221,8.398483276367188,5.393267631530762,5.672477722167969,6.372328281402588,5.138976097106934,4.373427391052246,7.256869316101074,6.603634834289551,8.302813529968262,8.051345825195312,8.0205659866333,8.532674789428711,5.973042964935303,8.215489387512207,7.13113260269165,8.582138061523438,6.559343338012695,5.668287754058838,7.445390701293945,7.2553534507751465,7.2529683113098145,7.424943447113037,6.116593837738037,7.181431770324707,7.921175956726074,6.836857795715332,5.59136962890625,5.414517879486084,7.109453201293945,8.180935859680176,7.030058860778809,7.298092365264893,7.026719093322754,6.985546112060547,6.744543552398682,8.32170581817627,8.01560115814209,7.1750335693359375,7.343695640563965,4.747973918914795,6.587620258331299,8.136503219604492,7.2526021003723145,8.112061500549316,6.789860248565674,7.958310604095459,7.769486904144287,7.869668006896973,7.707576751708984,7.728110313415527,6.678328990936279,6.860838413238525,8.015767097473145,5.15120267868042,6.722768783569336,7.133998394012451,7.258997440338135,7.99233341217041,5.984807968139648,7.666853427886963,5.95399808883667,5.32116174697876,4.9618635177612305,7.940855979919434,5.113275051116943,5.466048717498779,7.8414626121521,6.821372032165527,7.511013031005859,6.162082672119141,6.131501197814941,7.343789577484131,8.018963813781738,7.765451431274414,7.092068672180176,8.537748336791992,7.17788553237915,7.06201696395874,8.318227767944336,7.904958724975586,5.668875694274902,5.160225868225098,7.939306735992432,7.3904595375061035,8.494772911071777,5.460525989532471,6.316879749298096,6.734249591827393,7.114656448364258,7.237331390380859,6.431220531463623,5.026660919189453,6.5013556480407715,5.289457321166992,5.272212505340576,5.745794296264648,6.401548385620117,7.6337409019470215,7.010781764984131,7.112817764282227,8.138689041137695,6.583116054534912,6.676819801330566,7.780358791351318,6.845723628997803,7.910595417022705,6.60732889175415,6.927505016326904,6.170382499694824,5.499445915222168,5.055544376373291,5.377998352050781,4.965099811553955,6.078537940979004,6.903313159942627,7.366668224334717,4.749199867248535,5.567349433898926,6.113516330718994,6.5558671951293945,7.8384222984313965,8.451531410217285,7.654774188995361,7.344830513000488,8.0059175491333,7.362807750701904,8.217162132263184,8.25056266784668,8.338545799255371,8.400955200195312,7.325932502746582,7.927307605743408,7.808548450469971,7.851809978485107,6.836023807525635,7.539653301239014,8.909082412719727,7.193367004394531,5.645442485809326,7.403256893157959,8.22138786315918,7.018648147583008,6.5754194259643555,6.818798542022705,7.142396926879883,5.671624660491943,7.526918888092041,7.586831092834473,5.045245170593262,7.693833351135254,5.101528644561768,8.134282112121582,7.024068832397461,5.344661235809326,5.830690383911133,7.311130523681641,7.83886194229126,7.411970615386963,6.934145927429199,8.223605155944824,7.028153419494629,6.316329002380371,5.865173816680908,5.856083393096924,5.424749374389648,7.16212272644043,7.205541133880615,7.561336517333984,7.541831016540527,7.190371513366699,4.755197525024414,7.8958420753479,7.476850509643555,8.265213966369629,8.006128311157227,5.995815277099609,5.388556480407715,4.9486541748046875,4.656438827514648,8.19937801361084,7.743385314941406,6.4024577140808105,7.392699241638184,8.705924034118652,7.931155681610107,6.542941093444824,7.829857349395752,7.516164302825928,5.359813213348389,7.868199825286865,7.280954837799072,7.2876176834106445,7.825046539306641,6.339834690093994,7.60367488861084,7.541428089141846,7.671167373657227,6.850212097167969,7.577070236206055,6.325551509857178,8.261627197265625,5.831975936889648,7.379642963409424,7.98478364944458,7.058557987213135,4.976019382476807,5.024725437164307,5.684647560119629,4.906149387359619,4.517961025238037,6.34538459777832,5.162832736968994,6.498688220977783,6.602869033813477,7.146590232849121,6.161628246307373,7.664931774139404,4.830506801605225,4.942243576049805,5.396381378173828,8.005977630615234,5.353980541229248,6.903589248657227,5.839080810546875,8.010527610778809,7.950932502746582,8.364534378051758,7.53234338760376,4.861627101898193,6.65492582321167,6.368173599243164,7.469855308532715,7.428640842437744,6.554195880889893,6.577668190002441,8.483614921569824,5.291001319885254,4.825698375701904,7.436970233917236,6.834929466247559,6.706826210021973,5.7608513832092285,5.784482955932617,8.034815788269043,7.216824531555176,4.564651012420654,5.090534210205078,5.179393768310547,7.12952995300293,5.724864482879639,6.64002799987793,7.522928714752197,6.7520904541015625,7.4003753662109375,8.270604133605957,6.276150226593018,5.636660099029541,6.829391956329346,5.997307777404785,6.6748270988464355,7.811478137969971,6.750960826873779,5.349606513977051,6.6117987632751465,6.704920768737793,5.470943927764893,5.6279425621032715,5.293407440185547,7.291891574859619,6.041043281555176,7.116887092590332,7.282948017120361,7.523495674133301,7.2451558113098145,4.736087322235107,6.171034812927246,5.630970001220703,6.727574348449707,5.480518817901611,5.226403713226318,6.504518032073975,4.592660427093506,6.287891864776611,6.102855682373047,5.294599533081055,5.713660717010498,5.060576915740967,7.348381996154785,7.618714809417725,7.443908214569092,4.8551201820373535,5.515487194061279,6.323508262634277,7.01945161819458,5.742771148681641,5.158376216888428,5.739609718322754,5.3111891746521,5.457860946655273,7.118740081787109,6.648558139801025,7.549404144287109,5.0507636070251465,8.618656158447266,7.147857666015625,5.930025577545166,6.960081100463867,8.178155899047852,8.236006736755371,7.305549621582031,6.648352146148682,4.899784088134766,4.77225923538208,7.640830993652344,4.806469917297363,5.144426345825195,6.231442928314209,8.243913650512695,5.2552103996276855,6.28643274307251,6.140683174133301,6.9234089851379395,7.873749732971191,6.2747297286987305,5.630636215209961,7.367039680480957,6.9073567390441895,5.611944675445557,4.9785308837890625,5.478013038635254,7.850189208984375,5.011847019195557,7.641744136810303,6.814046859741211,5.834467887878418,7.088284969329834,5.930484771728516,7.432119846343994,7.5875396728515625,7.507564544677734,5.461950778961182,6.356725215911865,5.694195747375488,6.980957508087158,7.21110200881958,7.660027027130127,6.066122531890869,5.286837577819824,7.319722652435303,7.185349464416504,6.418225288391113,4.904184341430664,7.509776592254639,6.93931245803833,8.161337852478027,7.621845722198486,8.057886123657227,5.776213645935059,5.007503509521484,7.063482284545898,5.955521583557129,4.909063339233398,4.214717388153076,5.790757179260254,4.868073463439941,4.491208076477051,5.189137935638428,6.850128650665283,5.010707378387451,5.39750337600708,6.193772792816162,6.46859073638916,5.557418346405029,5.276747226715088,4.778399467468262,7.807864189147949,4.281755447387695,5.571304798126221,6.960558891296387,5.7369842529296875,6.599599838256836,6.864077091217041,5.041334629058838,6.905664920806885,4.625913619995117,6.591818809509277,7.208226680755615,6.669716835021973,5.8374433517456055,5.130584239959717,5.6721720695495605,4.923315048217773,5.876235485076904,6.398662090301514,5.494264125823975,5.245150566101074,8.380396842956543,5.641665458679199,7.6188883781433105,6.342588424682617,7.97272253036499,7.664982795715332,7.590445518493652,5.420907020568848,7.110806465148926,5.094715118408203,7.0910563468933105,7.034764766693115,5.674666404724121,5.5308756828308105,5.428849220275879,5.217588901519775,5.386383056640625,4.368475437164307,7.781483173370361,7.941791534423828,5.858584403991699,5.368852138519287,5.05263614654541,5.627117156982422,5.1447601318359375,7.088237285614014,7.088727951049805,7.5581560134887695,5.055402755737305,7.581583499908447,4.512049198150635,6.829616546630859,5.273609638214111,5.724864482879639,5.092287063598633,5.945462226867676,5.564845561981201,5.061896324157715,7.653012752532959,5.073616027832031,4.248376369476318,5.344457626342773,5.801934719085693,6.690525054931641,6.997145652770996,6.698086261749268,6.266306400299072,6.247653484344482,5.436413288116455,8.016207695007324,4.969789981842041,5.353980541229248,5.990475654602051,5.175405025482178,5.094669342041016,5.818640232086182,6.453298091888428,5.7516913414001465,7.019229888916016,8.128600120544434,4.996479511260986,5.997282028198242,6.137183666229248,7.090771675109863,4.319036483764648,5.599047660827637,5.706695556640625,7.278654098510742,7.4500226974487305,5.073649883270264,5.510849952697754,7.0845723152160645,7.5383992195129395,6.406493186950684,6.766618728637695,4.553152561187744,8.225729942321777,5.076965808868408,7.663862228393555,6.645772457122803,5.503715991973877,6.998388290405273,5.283318042755127,6.497239112854004,4.880421161651611,5.570613384246826,7.556101322174072,6.6522746086120605,8.724087715148926,8.272503852844238,8.26080322265625,5.473672866821289,5.023134231567383,5.729034423828125,5.166277885437012,5.241206645965576,5.344661235809326,5.844173431396484,7.133974552154541,7.356045722961426,7.764638900756836,7.095896244049072,5.353980541229248,5.510620594024658,5.426278114318848,5.399017333984375,7.000888824462891,5.161287307739258,4.651071548461914,5.589822769165039,5.873347759246826,6.982767105102539,7.233989715576172,5.1918110847473145,5.395986080169678,4.945336818695068,6.431490898132324,4.414594650268555,6.074427127838135,4.6588263511657715,7.847714900970459,7.898592948913574,4.972860336303711,4.675873279571533,5.0256428718566895,5.6591362953186035,5.917031288146973,6.968317985534668,5.797541618347168,7.342315673828125,5.597927093505859,7.683924674987793,5.472729206085205,4.759425163269043,6.448962211608887,7.1814165115356445,4.674915313720703,5.564387321472168,6.529886722564697,6.666622638702393,5.574469089508057,6.4093499183654785,7.461559772491455,5.372812271118164,6.3337297439575195,4.792801380157471,7.558382987976074,4.2691779136657715,5.882965087890625,7.722650527954102,7.612753391265869,4.4982590675354,5.339600563049316,7.482862949371338,6.081017971038818,6.652856826782227,5.0045905113220215,5.876235485076904,5.144381523132324,5.097311496734619,6.48448371887207,6.725778579711914,7.882300853729248,7.489908218383789,5.31346321105957,5.8182854652404785,5.920795440673828,5.4454779624938965,4.682368278503418,6.808764457702637,5.757015228271484,7.361857891082764,5.636660099029541,4.961954116821289,4.366419792175293,4.916375160217285,4.877361297607422,7.049966335296631,7.403859615325928,5.182063579559326,5.235261917114258,5.102795124053955,6.615773677825928,5.542308807373047,6.559357643127441,6.396069049835205,6.650317668914795,6.724540710449219,6.6024088859558105,4.533316612243652,5.557249069213867,6.055007457733154,7.460447311401367,7.507314682006836,6.9114670753479,4.366419792175293,4.696861743927002,7.162756443023682,6.2339091300964355,6.5608673095703125,5.724864482879639,5.83647346496582,6.535423278808594,5.826793193817139,6.497941017150879,5.55506706237793,6.453379154205322,6.762004375457764,5.326104164123535,5.585495471954346,7.251558780670166,5.724864482879639,4.859065055847168,4.996479511260986,7.081749439239502,5.6420135498046875,4.961251258850098,6.027947425842285,7.8248209953308105,4.747973918914795,4.799415111541748,6.1021528244018555,6.962830066680908,5.724864482879639,7.149372577667236,5.980344295501709,5.132033348083496,5.701476573944092,5.149576663970947,7.662823677062988,4.996479511260986,7.763397216796875,6.470435619354248,5.415937900543213,5.2552103996276855,7.529551029205322,6.445631504058838,5.346709728240967,4.481637954711914,4.804230213165283,5.192963123321533,4.787035942077637,5.616137981414795,5.019247531890869,6.580338478088379,5.932971477508545,5.353980541229248,5.203246116638184,7.551994800567627,5.176587104797363,6.000050067901611,7.981884002685547,7.364276885986328,7.131194591522217,6.332204818725586,5.731508255004883,8.118685722351074,7.589541435241699,4.873285293579102,6.697094917297363,5.202566146850586,5.5801682472229,6.883569240570068,6.49692440032959,5.023134231567383,7.0625739097595215,6.634857177734375,5.472469806671143,7.80188512802124,5.601749897003174,7.321699142456055,4.373173236846924,4.8132548332214355,4.884392261505127,7.377658367156982,4.79499626159668,6.013599395751953,7.627678394317627,6.077542781829834,4.244724750518799,7.019115924835205,4.2934417724609375,6.244126796722412,5.927220344543457,7.907379627227783,7.483415603637695,4.944599628448486,6.996359348297119,5.072746276855469,5.601005554199219,5.601749897003174,4.378204345703125,6.713650226593018,5.941060543060303,6.3128437995910645,5.400242805480957,4.735698699951172,7.00895357131958,6.429198265075684,6.049114227294922,8.270380020141602,5.8806257247924805,7.367422103881836,5.465966701507568,6.074427127838135,5.353980541229248,6.284016132354736,7.526450157165527,5.447345733642578,6.3065104484558105,5.7288618087768555,4.190881729125977,7.7871623039245605,4.742847919464111,7.427863597869873,6.195518970489502,6.111643314361572,5.765297889709473,4.522964000701904,4.122140884399414,6.514771938323975,5.285953521728516,5.917974948883057,7.422939777374268,4.965099811553955,6.909966468811035,5.431872367858887,6.235203742980957,5.936245918273926,5.967491149902344,6.439875602722168,6.837181568145752,5.031113624572754,4.223611354827881,5.289943695068359,4.944307804107666,4.951108455657959,5.344661235809326,5.603801250457764,5.0944623947143555,5.509471416473389,5.339600563049316,7.289124011993408,7.01754903793335,6.903445243835449,7.063061714172363,5.962777137756348,4.366037368774414,6.528176307678223,5.534355640411377,6.8169050216674805,4.747973918914795,8.236960411071777,5.025043487548828,5.780306816101074,8.108060836791992,5.0974650382995605,5.122895240783691,5.836421489715576,6.760884761810303,6.2339091300964355,6.7415924072265625,5.861950874328613,4.9483137130737305,7.756503582000732,6.17180871963501,7.632319450378418,5.40907096862793,7.6296210289001465,5.764317512512207,6.6289191246032715,5.6279425621032715,5.0148773193359375,5.088518142700195,4.607176780700684,5.203246116638184,7.667053699493408,5.876235485076904,6.046140670776367,5.7708258628845215,4.684786796569824,5.724864482879639,5.317735195159912,5.317735195159912,4.301825046539307,5.271277904510498,4.492595195770264,5.353980541229248,5.07888650894165,6.366833209991455,5.203246116638184,5.285953521728516,5.344661235809326,6.700727462768555,6.94307804107666,6.270659446716309,5.873347759246826,5.097525596618652,7.281691074371338,4.581701278686523,4.9378581047058105,5.700235843658447,7.313041687011719,5.728368759155273,6.757740497589111,5.825132846832275,6.923555850982666,6.291566848754883,6.18489933013916,5.596256732940674,6.462912559509277,4.477238655090332,4.839016437530518,5.627336502075195,7.695064067840576,7.138758182525635,6.766983985900879,5.472469806671143,7.073671340942383,5.891817569732666,6.504820346832275,5.9379682540893555,7.198643207550049,4.799415111541748,5.344661235809326,6.585054874420166,6.2339091300964355,6.1975202560424805,5.203246116638184,6.621271133422852,6.257993221282959,5.649438381195068,5.990475654602051,6.856497764587402,5.344661235809326,6.179886817932129,5.932514190673828,5.457551956176758,6.715243816375732,5.314759254455566,6.597888946533203,4.932241916656494,4.768264293670654,4.999428749084473,7.10915994644165,4.708054542541504,4.708054542541504,5.63287878036499,5.353980541229248,5.1053466796875,5.724864482879639,6.610873222351074,6.450613975524902,5.164427280426025,4.39046573638916,5.202566146850586,7.04466438293457,5.534355640411377,6.337509632110596,5.9110026359558105,5.4197235107421875,6.094730854034424,5.77574348449707,5.095426559448242,5.351953983306885,4.814781665802002,6.5246171951293945,6.002745151519775,6.3809332847595215,5.012205123901367,4.813891410827637,5.393917560577393,5.892435073852539,5.503715991973877,6.208314418792725,4.946969509124756,5.668148994445801,4.818579196929932,5.49847412109375,4.74619722366333,5.344161510467529,5.344661235809326,6.285585880279541,5.490791320800781,4.962229251861572,6.163607120513916,6.074427127838135,6.324085235595703,5.203246116638184,4.180085182189941,5.258288860321045,5.378234386444092,5.081398963928223,5.8122172355651855,4.799415111541748,5.271277904510498,7.411720275878906,5.203246116638184,5.326486587524414,6.9028754234313965,5.045648097991943,4.867227554321289,5.353980541229248,4.3965864181518555,4.373173236846924,5.619523048400879,5.353980541229248,5.26768684387207,4.18337869644165,5.346709728240967,4.362034797668457,5.121286869049072,6.625401020050049,6.760884761810303,5.551494598388672,5.549838066101074,6.450369358062744,6.372433185577393,5.010417938232422,6.677945613861084,5.203246116638184,4.3607707023620605,4.970355987548828,5.892435073852539,5.636660099029541,6.118030548095703,5.432982921600342,5.6047139167785645,5.457551956176758,4.323816299438477,4.96254825592041,5.790743827819824,4.440066337585449,6.963554859161377,5.521736145019531,5.558043003082275,5.293313503265381,6.754230499267578,5.969008445739746,4.787059783935547,5.128794193267822,6.074427127838135,7.399502754211426,5.854583263397217,5.659717082977295,4.7689337730407715,5.400242805480957,4.214717388153076,5.873347759246826,6.4880757331848145,4.861666202545166,4.911520481109619,5.386383056640625,5.876235485076904,6.459533214569092,6.229249000549316,5.736015319824219,6.285585880279541,5.478970050811768,4.248636722564697,5.351845741271973,4.708054542541504,5.40907096862793,5.339600563049316,4.941827297210693,5.13710355758667,4.353311061859131,6.439875602722168,6.591729164123535,5.666308403015137,6.805479526519775,6.521653652191162,6.053426265716553,4.866335391998291,5.353980541229248,4.984487056732178,5.472469806671143,5.119692325592041,5.873347759246826,5.498522758483887,6.500552177429199,6.630036354064941,5.472469806671143,5.270439147949219,5.375582218170166,5.038785934448242,7.241063594818115,5.42753267288208,5.472469806671143,6.464120864868164,6.118504047393799,5.63287878036499,5.636660099029541,4.910111427307129,6.796112060546875,5.873347759246826,5.344661235809326,5.843512058258057,5.344661235809326,5.857876777648926,4.818579196929932,6.227973461151123,5.049652099609375,5.498522758483887,4.708054542541504,6.439875602722168,5.873347759246826,4.830514430999756,5.288024425506592,5.078691482543945,5.344661235809326,6.760884761810303,6.463955879211426,5.133602142333984,6.553100109100342,4.373173236846924,6.140292167663574,5.339600563049316,5.7098541259765625,4.957193851470947,5.088491439819336,5.344661235809326,4.334621906280518,4.830514430999756,5.636660099029541,5.5072102546691895,7.021549701690674,5.960011005401611,5.353980541229248,5.203246116638184,5.932514190673828,5.537343978881836,6.542032241821289,5.571816444396973,5.89930534362793,5.203246116638184,6.110414028167725,5.511945724487305,6.40528678894043,5.063704490661621,5.257354259490967,5.288024425506592,6.546727657318115,5.353980541229248,6.326538562774658,5.472469806671143,6.257993221282959,5.339600563049316,5.069794654846191,5.203246116638184,6.3678131103515625,5.052268028259277,6.625401020050049,5.472469806671143,6.285585880279541,5.0313544273376465,6.335154056549072,6.229249000549316,6.41144323348999,5.873347759246826,5.472469806671143,5.472469806671143,5.344661235809326,5.045517921447754,4.904841899871826,6.285585880279541,6.335154056549072,5.5072102546691895,6.625401020050049,6.3956193923950195,5.203246116638184,4.373173236846924,5.1896891593933105,5.344661235809326,6.796112060546875,5.636660099029541,6.805479526519775,5.203246116638184,5.431872367858887,5.959425449371338,5.189572334289551,5.817741394042969,6.686792373657227,5.344661235809326,5.873347759246826,5.203246116638184,5.861950874328613,5.18387508392334,6.125485420227051,5.472469806671143,5.472469806671143],\"type\":\"histogram\"}],                        {\"template\":{\"data\":{\"histogram2dcontour\":[{\"type\":\"histogram2dcontour\",\"colorbar\":{\"outlinewidth\":0,\"ticks\":\"\"},\"colorscale\":[[0.0,\"#0d0887\"],[0.1111111111111111,\"#46039f\"],[0.2222222222222222,\"#7201a8\"],[0.3333333333333333,\"#9c179e\"],[0.4444444444444444,\"#bd3786\"],[0.5555555555555556,\"#d8576b\"],[0.6666666666666666,\"#ed7953\"],[0.7777777777777778,\"#fb9f3a\"],[0.8888888888888888,\"#fdca26\"],[1.0,\"#f0f921\"]]}],\"choropleth\":[{\"type\":\"choropleth\",\"colorbar\":{\"outlinewidth\":0,\"ticks\":\"\"}}],\"histogram2d\":[{\"type\":\"histogram2d\",\"colorbar\":{\"outlinewidth\":0,\"ticks\":\"\"},\"colorscale\":[[0.0,\"#0d0887\"],[0.1111111111111111,\"#46039f\"],[0.2222222222222222,\"#7201a8\"],[0.3333333333333333,\"#9c179e\"],[0.4444444444444444,\"#bd3786\"],[0.5555555555555556,\"#d8576b\"],[0.6666666666666666,\"#ed7953\"],[0.7777777777777778,\"#fb9f3a\"],[0.8888888888888888,\"#fdca26\"],[1.0,\"#f0f921\"]]}],\"heatmap\":[{\"type\":\"heatmap\",\"colorbar\":{\"outlinewidth\":0,\"ticks\":\"\"},\"colorscale\":[[0.0,\"#0d0887\"],[0.1111111111111111,\"#46039f\"],[0.2222222222222222,\"#7201a8\"],[0.3333333333333333,\"#9c179e\"],[0.4444444444444444,\"#bd3786\"],[0.5555555555555556,\"#d8576b\"],[0.6666666666666666,\"#ed7953\"],[0.7777777777777778,\"#fb9f3a\"],[0.8888888888888888,\"#fdca26\"],[1.0,\"#f0f921\"]]}],\"heatmapgl\":[{\"type\":\"heatmapgl\",\"colorbar\":{\"outlinewidth\":0,\"ticks\":\"\"},\"colorscale\":[[0.0,\"#0d0887\"],[0.1111111111111111,\"#46039f\"],[0.2222222222222222,\"#7201a8\"],[0.3333333333333333,\"#9c179e\"],[0.4444444444444444,\"#bd3786\"],[0.5555555555555556,\"#d8576b\"],[0.6666666666666666,\"#ed7953\"],[0.7777777777777778,\"#fb9f3a\"],[0.8888888888888888,\"#fdca26\"],[1.0,\"#f0f921\"]]}],\"contourcarpet\":[{\"type\":\"contourcarpet\",\"colorbar\":{\"outlinewidth\":0,\"ticks\":\"\"}}],\"contour\":[{\"type\":\"contour\",\"colorbar\":{\"outlinewidth\":0,\"ticks\":\"\"},\"colorscale\":[[0.0,\"#0d0887\"],[0.1111111111111111,\"#46039f\"],[0.2222222222222222,\"#7201a8\"],[0.3333333333333333,\"#9c179e\"],[0.4444444444444444,\"#bd3786\"],[0.5555555555555556,\"#d8576b\"],[0.6666666666666666,\"#ed7953\"],[0.7777777777777778,\"#fb9f3a\"],[0.8888888888888888,\"#fdca26\"],[1.0,\"#f0f921\"]]}],\"surface\":[{\"type\":\"surface\",\"colorbar\":{\"outlinewidth\":0,\"ticks\":\"\"},\"colorscale\":[[0.0,\"#0d0887\"],[0.1111111111111111,\"#46039f\"],[0.2222222222222222,\"#7201a8\"],[0.3333333333333333,\"#9c179e\"],[0.4444444444444444,\"#bd3786\"],[0.5555555555555556,\"#d8576b\"],[0.6666666666666666,\"#ed7953\"],[0.7777777777777778,\"#fb9f3a\"],[0.8888888888888888,\"#fdca26\"],[1.0,\"#f0f921\"]]}],\"mesh3d\":[{\"type\":\"mesh3d\",\"colorbar\":{\"outlinewidth\":0,\"ticks\":\"\"}}],\"scatter\":[{\"fillpattern\":{\"fillmode\":\"overlay\",\"size\":10,\"solidity\":0.2},\"type\":\"scatter\"}],\"parcoords\":[{\"type\":\"parcoords\",\"line\":{\"colorbar\":{\"outlinewidth\":0,\"ticks\":\"\"}}}],\"scatterpolargl\":[{\"type\":\"scatterpolargl\",\"marker\":{\"colorbar\":{\"outlinewidth\":0,\"ticks\":\"\"}}}],\"bar\":[{\"error_x\":{\"color\":\"#2a3f5f\"},\"error_y\":{\"color\":\"#2a3f5f\"},\"marker\":{\"line\":{\"color\":\"#E5ECF6\",\"width\":0.5},\"pattern\":{\"fillmode\":\"overlay\",\"size\":10,\"solidity\":0.2}},\"type\":\"bar\"}],\"scattergeo\":[{\"type\":\"scattergeo\",\"marker\":{\"colorbar\":{\"outlinewidth\":0,\"ticks\":\"\"}}}],\"scatterpolar\":[{\"type\":\"scatterpolar\",\"marker\":{\"colorbar\":{\"outlinewidth\":0,\"ticks\":\"\"}}}],\"histogram\":[{\"marker\":{\"pattern\":{\"fillmode\":\"overlay\",\"size\":10,\"solidity\":0.2}},\"type\":\"histogram\"}],\"scattergl\":[{\"type\":\"scattergl\",\"marker\":{\"colorbar\":{\"outlinewidth\":0,\"ticks\":\"\"}}}],\"scatter3d\":[{\"type\":\"scatter3d\",\"line\":{\"colorbar\":{\"outlinewidth\":0,\"ticks\":\"\"}},\"marker\":{\"colorbar\":{\"outlinewidth\":0,\"ticks\":\"\"}}}],\"scattermapbox\":[{\"type\":\"scattermapbox\",\"marker\":{\"colorbar\":{\"outlinewidth\":0,\"ticks\":\"\"}}}],\"scatterternary\":[{\"type\":\"scatterternary\",\"marker\":{\"colorbar\":{\"outlinewidth\":0,\"ticks\":\"\"}}}],\"scattercarpet\":[{\"type\":\"scattercarpet\",\"marker\":{\"colorbar\":{\"outlinewidth\":0,\"ticks\":\"\"}}}],\"carpet\":[{\"aaxis\":{\"endlinecolor\":\"#2a3f5f\",\"gridcolor\":\"white\",\"linecolor\":\"white\",\"minorgridcolor\":\"white\",\"startlinecolor\":\"#2a3f5f\"},\"baxis\":{\"endlinecolor\":\"#2a3f5f\",\"gridcolor\":\"white\",\"linecolor\":\"white\",\"minorgridcolor\":\"white\",\"startlinecolor\":\"#2a3f5f\"},\"type\":\"carpet\"}],\"table\":[{\"cells\":{\"fill\":{\"color\":\"#EBF0F8\"},\"line\":{\"color\":\"white\"}},\"header\":{\"fill\":{\"color\":\"#C8D4E3\"},\"line\":{\"color\":\"white\"}},\"type\":\"table\"}],\"barpolar\":[{\"marker\":{\"line\":{\"color\":\"#E5ECF6\",\"width\":0.5},\"pattern\":{\"fillmode\":\"overlay\",\"size\":10,\"solidity\":0.2}},\"type\":\"barpolar\"}],\"pie\":[{\"automargin\":true,\"type\":\"pie\"}]},\"layout\":{\"autotypenumbers\":\"strict\",\"colorway\":[\"#636efa\",\"#EF553B\",\"#00cc96\",\"#ab63fa\",\"#FFA15A\",\"#19d3f3\",\"#FF6692\",\"#B6E880\",\"#FF97FF\",\"#FECB52\"],\"font\":{\"color\":\"#2a3f5f\"},\"hovermode\":\"closest\",\"hoverlabel\":{\"align\":\"left\"},\"paper_bgcolor\":\"white\",\"plot_bgcolor\":\"#E5ECF6\",\"polar\":{\"bgcolor\":\"#E5ECF6\",\"angularaxis\":{\"gridcolor\":\"white\",\"linecolor\":\"white\",\"ticks\":\"\"},\"radialaxis\":{\"gridcolor\":\"white\",\"linecolor\":\"white\",\"ticks\":\"\"}},\"ternary\":{\"bgcolor\":\"#E5ECF6\",\"aaxis\":{\"gridcolor\":\"white\",\"linecolor\":\"white\",\"ticks\":\"\"},\"baxis\":{\"gridcolor\":\"white\",\"linecolor\":\"white\",\"ticks\":\"\"},\"caxis\":{\"gridcolor\":\"white\",\"linecolor\":\"white\",\"ticks\":\"\"}},\"coloraxis\":{\"colorbar\":{\"outlinewidth\":0,\"ticks\":\"\"}},\"colorscale\":{\"sequential\":[[0.0,\"#0d0887\"],[0.1111111111111111,\"#46039f\"],[0.2222222222222222,\"#7201a8\"],[0.3333333333333333,\"#9c179e\"],[0.4444444444444444,\"#bd3786\"],[0.5555555555555556,\"#d8576b\"],[0.6666666666666666,\"#ed7953\"],[0.7777777777777778,\"#fb9f3a\"],[0.8888888888888888,\"#fdca26\"],[1.0,\"#f0f921\"]],\"sequentialminus\":[[0.0,\"#0d0887\"],[0.1111111111111111,\"#46039f\"],[0.2222222222222222,\"#7201a8\"],[0.3333333333333333,\"#9c179e\"],[0.4444444444444444,\"#bd3786\"],[0.5555555555555556,\"#d8576b\"],[0.6666666666666666,\"#ed7953\"],[0.7777777777777778,\"#fb9f3a\"],[0.8888888888888888,\"#fdca26\"],[1.0,\"#f0f921\"]],\"diverging\":[[0,\"#8e0152\"],[0.1,\"#c51b7d\"],[0.2,\"#de77ae\"],[0.3,\"#f1b6da\"],[0.4,\"#fde0ef\"],[0.5,\"#f7f7f7\"],[0.6,\"#e6f5d0\"],[0.7,\"#b8e186\"],[0.8,\"#7fbc41\"],[0.9,\"#4d9221\"],[1,\"#276419\"]]},\"xaxis\":{\"gridcolor\":\"white\",\"linecolor\":\"white\",\"ticks\":\"\",\"title\":{\"standoff\":15},\"zerolinecolor\":\"white\",\"automargin\":true,\"zerolinewidth\":2},\"yaxis\":{\"gridcolor\":\"white\",\"linecolor\":\"white\",\"ticks\":\"\",\"title\":{\"standoff\":15},\"zerolinecolor\":\"white\",\"automargin\":true,\"zerolinewidth\":2},\"scene\":{\"xaxis\":{\"backgroundcolor\":\"#E5ECF6\",\"gridcolor\":\"white\",\"linecolor\":\"white\",\"showbackground\":true,\"ticks\":\"\",\"zerolinecolor\":\"white\",\"gridwidth\":2},\"yaxis\":{\"backgroundcolor\":\"#E5ECF6\",\"gridcolor\":\"white\",\"linecolor\":\"white\",\"showbackground\":true,\"ticks\":\"\",\"zerolinecolor\":\"white\",\"gridwidth\":2},\"zaxis\":{\"backgroundcolor\":\"#E5ECF6\",\"gridcolor\":\"white\",\"linecolor\":\"white\",\"showbackground\":true,\"ticks\":\"\",\"zerolinecolor\":\"white\",\"gridwidth\":2}},\"shapedefaults\":{\"line\":{\"color\":\"#2a3f5f\"}},\"annotationdefaults\":{\"arrowcolor\":\"#2a3f5f\",\"arrowhead\":0,\"arrowwidth\":1},\"geo\":{\"bgcolor\":\"white\",\"landcolor\":\"#E5ECF6\",\"subunitcolor\":\"white\",\"showland\":true,\"showlakes\":true,\"lakecolor\":\"white\"},\"title\":{\"x\":0.05},\"mapbox\":{\"style\":\"light\"}}},\"title\":{\"text\":\"Distribution of Nuclear Norm of Node Explain Matrix\"},\"xaxis\":{\"title\":{\"text\":\"Nuclear Norm\"}},\"yaxis\":{\"title\":{\"text\":\"Frequency\"}},\"font\":{\"size\":20},\"paper_bgcolor\":\"white\",\"plot_bgcolor\":\"white\"},                        {\"responsive\": true}                    ).then(function(){\n",
       "                            \n",
       "var gd = document.getElementById('12b5ef02-8ed5-4788-8395-e8beca344e21');\n",
       "var x = new MutationObserver(function (mutations, observer) {{\n",
       "        var display = window.getComputedStyle(gd).display;\n",
       "        if (!display || display === 'none') {{\n",
       "            console.log([gd, 'removed!']);\n",
       "            Plotly.purge(gd);\n",
       "            observer.disconnect();\n",
       "        }}\n",
       "}});\n",
       "\n",
       "// Listen for the removal of the full notebook cells\n",
       "var notebookContainer = gd.closest('#notebook-container');\n",
       "if (notebookContainer) {{\n",
       "    x.observe(notebookContainer, {childList: true});\n",
       "}}\n",
       "\n",
       "// Listen for the clearing of the current output cell\n",
       "var outputEl = gd.closest('.output');\n",
       "if (outputEl) {{\n",
       "    x.observe(outputEl, {childList: true});\n",
       "}}\n",
       "\n",
       "                        })                };                });            </script>        </div>"
      ]
     },
     "metadata": {},
     "output_type": "display_data"
    }
   ],
   "source": [
    "fig = go.Figure()\n",
    "\n",
    "fig.add_trace(go.Histogram(x = norm_og, \n",
    "                           name = 'DGI'))\n",
    "fig.add_trace(go.Histogram(x = norm_plus, \n",
    "                           name = 'DGI+XM'))\n",
    "\n",
    "\n",
    "fig.update_layout(title_text = 'Distribution of Nuclear Norm of Node Explain Matrix', \n",
    "                  xaxis_title_text = 'Nuclear Norm', \n",
    "                  yaxis_title_text = 'Frequency', \n",
    "                  paper_bgcolor = 'white', \n",
    "                  plot_bgcolor = 'white', \n",
    "                  font = dict(size = 20))\n",
    "fig.show()"
   ]
  },
  {
   "cell_type": "code",
   "execution_count": 79,
   "id": "77b1208e",
   "metadata": {},
   "outputs": [
    {
     "data": {
      "application/vnd.plotly.v1+json": {
       "config": {
        "plotlyServerURL": "https://plot.ly"
       },
       "data": [
        {
         "type": "heatmap",
         "z": [
          [
           0.0009575391886755824,
           0.001173480530269444,
           2.229771598649677e-05,
           0.0009590201079845428,
           0.0011298604076728225,
           0.0004847052041441202,
           0.001066210912540555
          ],
          [
           0.1517462432384491,
           0.1859530359506607,
           0.0035966848954558372,
           0.15198084712028503,
           0.17904329299926758,
           0.07684566080570221,
           0.16896069049835205
          ],
          [
           0.12422806024551392,
           0.15223167836666107,
           0.0029443767853081226,
           0.12442009896039963,
           0.1465749591588974,
           0.06291016191244125,
           0.13832078874111176
          ],
          [
           0.11101449280977249,
           0.13603951036930084,
           0.0026311546098440886,
           0.11118610948324203,
           0.13098447024822235,
           0.05621867999434471,
           0.12360824644565582
          ],
          [
           0.0011768259573727846,
           0.0014421988744288683,
           2.7495821996126324e-05,
           0.001178645878098905,
           0.0013885936932638288,
           0.0005957542452961206,
           0.0013103740056976676
          ],
          [
           0.22554917633533478,
           0.2763926684856415,
           0.005346153397113085,
           0.225897878408432,
           0.26612231135368347,
           0.11422020941972733,
           0.2511359751224518
          ],
          [
           0.0003295979113318026,
           0.00040398843702860177,
           7.412616014335072e-06,
           0.0003301080723758787,
           0.00038896151818335056,
           0.00016670934564899653,
           0.0003670346923172474
          ],
          [
           0.000224810850340873,
           0.0002755802415776998,
           4.928680027660448e-06,
           0.00022515903401654214,
           0.00026532483752816916,
           0.00011364410602254793,
           0.0002503603755030781
          ],
          [
           0.00040858369902707636,
           0.0005007792497053742,
           9.284943189413752e-06,
           0.0004092159797437489,
           0.0004821557376999408,
           0.0002067085588350892,
           0.0004549807927105576
          ],
          [
           0.10443170368671417,
           0.12797284126281738,
           0.002475112210959196,
           0.10459315776824951,
           0.12321753799915314,
           0.052885089069604874,
           0.11627870053052902
          ],
          [
           0.1285271793603897,
           0.15749990940093994,
           0.0030462853610515594,
           0.12872585654258728,
           0.1516474187374115,
           0.06508728116750717,
           0.143107607960701
          ],
          [
           0.0019611860625445843,
           0.0024033698718994856,
           4.608876770362258e-05,
           0.0019642184488475323,
           0.002314048819243908,
           0.0009929623920470476,
           0.002183713484555483
          ],
          [
           0.0002129164495272562,
           0.00026100457762368023,
           4.646727575163823e-06,
           0.00021324622503016144,
           0.0002512907958589494,
           0.00010762065357994288,
           0.00023711663379799575
          ],
          [
           0.0011796620674431324,
           0.0014456744538620114,
           2.756305184448138e-05,
           0.0011814864119514823,
           0.0013919399352744222,
           0.0005971905775368214,
           0.001313531887717545
          ],
          [
           0.0007922985241748393,
           0.0009709912119433284,
           1.8380751498625614e-05,
           0.0007935239700600505,
           0.0009348953608423471,
           0.0004010256670881063,
           0.0008822250529192388
          ],
          [
           0.0011588898487389088,
           0.0014202197780832648,
           2.7070656869909726e-05,
           0.0011606821790337563,
           0.0013674311339855194,
           0.0005866712890565395,
           0.0012904033064842224
          ],
          [
           0.25042924284935,
           0.3068811893463135,
           0.0059359255246818066,
           0.2508164048194885,
           0.29547789692878723,
           0.12681972980499268,
           0.27883848547935486
          ],
          [
           0.15758849680423737,
           0.19311223924160004,
           0.0037351727951318026,
           0.15783211588859558,
           0.18593646585941315,
           0.07980422675609589,
           0.17546570301055908
          ],
          [
           0.16660521924495697,
           0.20416155457496643,
           0.003948910627514124,
           0.16686278581619263,
           0.19657517969608307,
           0.08437039703130722,
           0.18550530076026917
          ],
          [
           0.23059363663196564,
           0.28257423639297485,
           0.005465730559080839,
           0.23095008730888367,
           0.2720741629600525,
           0.1167747750878334,
           0.25675269961357117
          ],
          [
           0.0002446383878123015,
           0.0002998773125000298,
           5.398684152169153e-06,
           0.0002450172323733568,
           0.0002887190494220704,
           0.00012368497846182436,
           0.0002724371734075248
          ],
          [
           0.24904324114322662,
           0.3051827549934387,
           0.005903071258217096,
           0.24942824244499207,
           0.293842613697052,
           0.12611784040927887,
           0.2772952616214752
          ],
          [
           0.00017897546058520675,
           0.00021941261366009712,
           3.842170372081455e-06,
           0.0001792527618817985,
           0.000211244318052195,
           9.043258614838123e-05,
           0.0001993252953980118
          ],
          [
           0.00015937129501253366,
           0.0001953892788151279,
           3.377460870979121e-06,
           0.00015961828466970474,
           0.0001881136413430795,
           8.050483302213252e-05,
           0.00017749721882864833
          ],
          [
           0.0015101952012628317,
           0.0018507165368646383,
           3.5398210457060486e-05,
           0.00151253049261868,
           0.0017819312633946538,
           0.0007645759033039212,
           0.0016815613489598036
          ],
          [
           0.0001990403252420947,
           0.00024400051916018128,
           4.317800176067976e-06,
           0.00019934866577386856,
           0.00023491856700275093,
           0.00010059365013148636,
           0.00022166639973875135
          ],
          [
           0.207596555352211,
           0.25439316034317017,
           0.004920593928545713,
           0.2079174965620041,
           0.24494025111198425,
           0.10512881726026535,
           0.23114679753780365
          ],
          [
           0.00033807349973358214,
           0.00041437457548454404,
           7.613526122440817e-06,
           0.00033859675750136375,
           0.000398961768951267,
           0.00017100147670134902,
           0.00037647178396582603
          ],
          [
           0.2471218705177307,
           0.30282828211784363,
           0.005857525859028101,
           0.24750389158725739,
           0.2915755808353424,
           0.1251448392868042,
           0.2751559317111969
          ],
          [
           0.1749623715877533,
           0.21440254151821136,
           0.004147013183683157,
           0.17523284256458282,
           0.20643563568592072,
           0.08860253542661667,
           0.19481049478054047
          ],
          [
           6.962608313187957e-05,
           8.541365968994796e-05,
           1.250086938853201e-06,
           6.9734342105221e-05,
           8.22245710878633e-05,
           3.5056942579103634e-05,
           7.757113053230569e-05
          ],
          [
           0.0009599242475815117,
           0.001176403253339231,
           2.2354251996148378e-05,
           0.0009614088339731097,
           0.001132674515247345,
           0.0004859130422119051,
           0.001068866578862071
          ],
          [
           0.6705809235572815,
           0.8217436671257019,
           0.015895456075668335,
           0.6716176271438599,
           0.791208803653717,
           0.33958888053894043,
           0.7466530799865723
          ],
          [
           0.16185057163238525,
           0.19833506643772125,
           0.0038362035993486643,
           0.16210077702999115,
           0.1909652054309845,
           0.08196259289979935,
           0.18021129071712494
          ],
          [
           0.0005498238606378436,
           0.0006738577503710985,
           1.2632984180527274e-05,
           0.0005506744491867721,
           0.0006488029030151665,
           0.00027823401615023613,
           0.0006122434861026704
          ],
          [
           0.00040542607894167304,
           0.0004969098372384906,
           9.210093594447244e-06,
           0.00040605347021482885,
           0.00047843012725934386,
           0.0002051095070783049,
           0.00045146490447223186
          ],
          [
           0.1102374792098999,
           0.13508735597133636,
           0.0026127358432859182,
           0.11040790379047394,
           0.13006769120693207,
           0.05582519248127937,
           0.12274309247732162
          ],
          [
           0.15391063690185547,
           0.18860532343387604,
           0.0036479902919381857,
           0.15414856374263763,
           0.1815970093011856,
           0.07794172316789627,
           0.17137062549591064
          ],
          [
           0.1459420621395111,
           0.17884047329425812,
           0.0034590987488627434,
           0.14616768062114716,
           0.17219500243663788,
           0.07390636205673218,
           0.1624980866909027
          ],
          [
           0.0014729058602824807,
           0.0018050214275717735,
           3.451427983236499e-05,
           0.0014751835260540247,
           0.0017379340715706348,
           0.0007456921739503741,
           0.0016400418244302273
          ],
          [
           0.0009292682516388595,
           0.0011388367274776101,
           2.1627565729431808e-05,
           0.0009307055152021348,
           0.0010965039255097508,
           0.00047038853517733514,
           0.0010347329080104828
          ],
          [
           1.689005148364231e-05,
           2.078985380649101e-05,
           0,
           1.691679426585324e-05,
           2.0002094970550388e-05,
           8.350876669283025e-06,
           1.885261372081004e-05
          ],
          [
           0.00023608111951034516,
           0.0002893910859711468,
           5.195837729843333e-06,
           0.00023644672182854265,
           0.0002786224940791726,
           0.00011935149086639285,
           0.0002629091904964298
          ],
          [
           0.4421168863773346,
           0.5417791604995728,
           0.010479805991053581,
           0.4428004026412964,
           0.5216474533081055,
           0.22389234602451324,
           0.4922715723514557
          ],
          [
           0.4882967472076416,
           0.5983688831329346,
           0.01157448161393404,
           0.48905161023139954,
           0.5761343240737915,
           0.24727830290794373,
           0.5436902046203613
          ],
          [
           0.33561962842941284,
           0.4112752377986908,
           0.007955330424010754,
           0.3361384868621826,
           0.39599281549453735,
           0.16996102035045624,
           0.3736930787563324
          ],
          [
           0.0005152240628376603,
           0.0006314584752544761,
           1.1812810953415465e-05,
           0.0005160211585462093,
           0.0006079791928641498,
           0.00026071234606206417,
           0.0005737186293117702
          ],
          [
           6.201702490216121e-05,
           7.6089367212262e-05,
           1.069717086465971e-06,
           6.211352592799813e-05,
           7.324675971176475e-05,
           3.1203639082377777e-05,
           6.909888179507107e-05
          ],
          [
           0.00033068496850319207,
           0.000405320490244776,
           7.438383818225702e-06,
           0.0003311967884656042,
           0.0003902441239915788,
           0.00016725983005017042,
           0.0003682450333144516
          ],
          [
           0.44580286741256714,
           0.5462960004806519,
           0.010567179881036282,
           0.4464920163154602,
           0.5259963870048523,
           0.22575895488262177,
           0.4963756501674652
          ],
          [
           0.00030197008163668215,
           0.0003701327077578753,
           6.757708888471825e-06,
           0.00030243751825764775,
           0.0003563638892956078,
           0.00015271833399310708,
           0.00033627270022407174
          ],
          [
           0.00033905060263350606,
           0.000415571965277195,
           7.636688678758219e-06,
           0.0003395754029043019,
           0.00040011462988331914,
           0.0001714963000267744,
           0.0003775597142521292
          ],
          [
           0.12780065834522247,
           0.15660962462425232,
           0.0030290638096630573,
           0.1279982179403305,
           0.15079021453857422,
           0.06471936404705048,
           0.14229866862297058
          ],
          [
           0.0014292332343757153,
           0.0017515039071440697,
           3.347903839312494e-05,
           0.0014314433792605996,
           0.0016864053905010223,
           0.0007235759403556585,
           0.0015914150280877948
          ],
          [
           0.0001765613560564816,
           0.00021645431115757674,
           3.7849445106985513e-06,
           0.00017683491751085967,
           0.00020839592616539448,
           8.921005064621568e-05,
           0.00019663733837660402
          ],
          [
           0.001379909459501505,
           0.0016910614212974906,
           3.2309835660271347e-05,
           0.001382043119519949,
           0.0016282087890431285,
           0.0006985978106968105,
           0.001536495634354651
          ],
          [
           0.0010407886002212763,
           0.0012754960916936398,
           2.4271113943541422e-05,
           0.0010423982748761773,
           0.0012280851369723678,
           0.0005268636159598827,
           0.0011589044006541371
          ],
          [
           0.0012344219721853733,
           0.0015127783408388495,
           2.8861113605671562e-05,
           0.0012363309506326914,
           0.001456550438888371,
           0.00062492152210325,
           0.001374503830447793
          ],
          [
           0.1610778123140335,
           0.19738812744617462,
           0.003817885648459196,
           0.1613268256187439,
           0.19005344808101654,
           0.08157125860452652,
           0.1793508529663086
          ],
          [
           0.012232220731675625,
           0.014989705756306648,
           0.0002895595971494913,
           0.012251130305230618,
           0.014432692900300026,
           0.006194319576025009,
           0.013619915582239628
          ],
          [
           0.816046416759491,
           1,
           0.019343657419085503,
           0.8173079490661621,
           0.9628414511680603,
           0.4132540225982666,
           0.9086204171180725
          ],
          [
           0.0009773941710591316,
           0.0011978110997006297,
           2.2768368580727838e-05,
           0.0009789058240130544,
           0.001153287012130022,
           0.0004947599372826517,
           0.00108831818215549
          ],
          [
           0.00038905703695490956,
           0.0004768508952111006,
           8.822072231851052e-06,
           0.0003896591661032289,
           0.0004591165925376117,
           0.00019682009587995708,
           0.0004332390381023288
          ],
          [
           0.0002377807250013575,
           0.00029147378518246114,
           5.23612607139512e-06,
           0.0002381489466642961,
           0.0002806278062053025,
           0.00012021217844448984,
           0.00026480157976038754
          ]
         ]
        }
       ],
       "layout": {
        "template": {
         "data": {
          "bar": [
           {
            "error_x": {
             "color": "#2a3f5f"
            },
            "error_y": {
             "color": "#2a3f5f"
            },
            "marker": {
             "line": {
              "color": "#E5ECF6",
              "width": 0.5
             },
             "pattern": {
              "fillmode": "overlay",
              "size": 10,
              "solidity": 0.2
             }
            },
            "type": "bar"
           }
          ],
          "barpolar": [
           {
            "marker": {
             "line": {
              "color": "#E5ECF6",
              "width": 0.5
             },
             "pattern": {
              "fillmode": "overlay",
              "size": 10,
              "solidity": 0.2
             }
            },
            "type": "barpolar"
           }
          ],
          "carpet": [
           {
            "aaxis": {
             "endlinecolor": "#2a3f5f",
             "gridcolor": "white",
             "linecolor": "white",
             "minorgridcolor": "white",
             "startlinecolor": "#2a3f5f"
            },
            "baxis": {
             "endlinecolor": "#2a3f5f",
             "gridcolor": "white",
             "linecolor": "white",
             "minorgridcolor": "white",
             "startlinecolor": "#2a3f5f"
            },
            "type": "carpet"
           }
          ],
          "choropleth": [
           {
            "colorbar": {
             "outlinewidth": 0,
             "ticks": ""
            },
            "type": "choropleth"
           }
          ],
          "contour": [
           {
            "colorbar": {
             "outlinewidth": 0,
             "ticks": ""
            },
            "colorscale": [
             [
              0,
              "#0d0887"
             ],
             [
              0.1111111111111111,
              "#46039f"
             ],
             [
              0.2222222222222222,
              "#7201a8"
             ],
             [
              0.3333333333333333,
              "#9c179e"
             ],
             [
              0.4444444444444444,
              "#bd3786"
             ],
             [
              0.5555555555555556,
              "#d8576b"
             ],
             [
              0.6666666666666666,
              "#ed7953"
             ],
             [
              0.7777777777777778,
              "#fb9f3a"
             ],
             [
              0.8888888888888888,
              "#fdca26"
             ],
             [
              1,
              "#f0f921"
             ]
            ],
            "type": "contour"
           }
          ],
          "contourcarpet": [
           {
            "colorbar": {
             "outlinewidth": 0,
             "ticks": ""
            },
            "type": "contourcarpet"
           }
          ],
          "heatmap": [
           {
            "colorbar": {
             "outlinewidth": 0,
             "ticks": ""
            },
            "colorscale": [
             [
              0,
              "#0d0887"
             ],
             [
              0.1111111111111111,
              "#46039f"
             ],
             [
              0.2222222222222222,
              "#7201a8"
             ],
             [
              0.3333333333333333,
              "#9c179e"
             ],
             [
              0.4444444444444444,
              "#bd3786"
             ],
             [
              0.5555555555555556,
              "#d8576b"
             ],
             [
              0.6666666666666666,
              "#ed7953"
             ],
             [
              0.7777777777777778,
              "#fb9f3a"
             ],
             [
              0.8888888888888888,
              "#fdca26"
             ],
             [
              1,
              "#f0f921"
             ]
            ],
            "type": "heatmap"
           }
          ],
          "heatmapgl": [
           {
            "colorbar": {
             "outlinewidth": 0,
             "ticks": ""
            },
            "colorscale": [
             [
              0,
              "#0d0887"
             ],
             [
              0.1111111111111111,
              "#46039f"
             ],
             [
              0.2222222222222222,
              "#7201a8"
             ],
             [
              0.3333333333333333,
              "#9c179e"
             ],
             [
              0.4444444444444444,
              "#bd3786"
             ],
             [
              0.5555555555555556,
              "#d8576b"
             ],
             [
              0.6666666666666666,
              "#ed7953"
             ],
             [
              0.7777777777777778,
              "#fb9f3a"
             ],
             [
              0.8888888888888888,
              "#fdca26"
             ],
             [
              1,
              "#f0f921"
             ]
            ],
            "type": "heatmapgl"
           }
          ],
          "histogram": [
           {
            "marker": {
             "pattern": {
              "fillmode": "overlay",
              "size": 10,
              "solidity": 0.2
             }
            },
            "type": "histogram"
           }
          ],
          "histogram2d": [
           {
            "colorbar": {
             "outlinewidth": 0,
             "ticks": ""
            },
            "colorscale": [
             [
              0,
              "#0d0887"
             ],
             [
              0.1111111111111111,
              "#46039f"
             ],
             [
              0.2222222222222222,
              "#7201a8"
             ],
             [
              0.3333333333333333,
              "#9c179e"
             ],
             [
              0.4444444444444444,
              "#bd3786"
             ],
             [
              0.5555555555555556,
              "#d8576b"
             ],
             [
              0.6666666666666666,
              "#ed7953"
             ],
             [
              0.7777777777777778,
              "#fb9f3a"
             ],
             [
              0.8888888888888888,
              "#fdca26"
             ],
             [
              1,
              "#f0f921"
             ]
            ],
            "type": "histogram2d"
           }
          ],
          "histogram2dcontour": [
           {
            "colorbar": {
             "outlinewidth": 0,
             "ticks": ""
            },
            "colorscale": [
             [
              0,
              "#0d0887"
             ],
             [
              0.1111111111111111,
              "#46039f"
             ],
             [
              0.2222222222222222,
              "#7201a8"
             ],
             [
              0.3333333333333333,
              "#9c179e"
             ],
             [
              0.4444444444444444,
              "#bd3786"
             ],
             [
              0.5555555555555556,
              "#d8576b"
             ],
             [
              0.6666666666666666,
              "#ed7953"
             ],
             [
              0.7777777777777778,
              "#fb9f3a"
             ],
             [
              0.8888888888888888,
              "#fdca26"
             ],
             [
              1,
              "#f0f921"
             ]
            ],
            "type": "histogram2dcontour"
           }
          ],
          "mesh3d": [
           {
            "colorbar": {
             "outlinewidth": 0,
             "ticks": ""
            },
            "type": "mesh3d"
           }
          ],
          "parcoords": [
           {
            "line": {
             "colorbar": {
              "outlinewidth": 0,
              "ticks": ""
             }
            },
            "type": "parcoords"
           }
          ],
          "pie": [
           {
            "automargin": true,
            "type": "pie"
           }
          ],
          "scatter": [
           {
            "fillpattern": {
             "fillmode": "overlay",
             "size": 10,
             "solidity": 0.2
            },
            "type": "scatter"
           }
          ],
          "scatter3d": [
           {
            "line": {
             "colorbar": {
              "outlinewidth": 0,
              "ticks": ""
             }
            },
            "marker": {
             "colorbar": {
              "outlinewidth": 0,
              "ticks": ""
             }
            },
            "type": "scatter3d"
           }
          ],
          "scattercarpet": [
           {
            "marker": {
             "colorbar": {
              "outlinewidth": 0,
              "ticks": ""
             }
            },
            "type": "scattercarpet"
           }
          ],
          "scattergeo": [
           {
            "marker": {
             "colorbar": {
              "outlinewidth": 0,
              "ticks": ""
             }
            },
            "type": "scattergeo"
           }
          ],
          "scattergl": [
           {
            "marker": {
             "colorbar": {
              "outlinewidth": 0,
              "ticks": ""
             }
            },
            "type": "scattergl"
           }
          ],
          "scattermapbox": [
           {
            "marker": {
             "colorbar": {
              "outlinewidth": 0,
              "ticks": ""
             }
            },
            "type": "scattermapbox"
           }
          ],
          "scatterpolar": [
           {
            "marker": {
             "colorbar": {
              "outlinewidth": 0,
              "ticks": ""
             }
            },
            "type": "scatterpolar"
           }
          ],
          "scatterpolargl": [
           {
            "marker": {
             "colorbar": {
              "outlinewidth": 0,
              "ticks": ""
             }
            },
            "type": "scatterpolargl"
           }
          ],
          "scatterternary": [
           {
            "marker": {
             "colorbar": {
              "outlinewidth": 0,
              "ticks": ""
             }
            },
            "type": "scatterternary"
           }
          ],
          "surface": [
           {
            "colorbar": {
             "outlinewidth": 0,
             "ticks": ""
            },
            "colorscale": [
             [
              0,
              "#0d0887"
             ],
             [
              0.1111111111111111,
              "#46039f"
             ],
             [
              0.2222222222222222,
              "#7201a8"
             ],
             [
              0.3333333333333333,
              "#9c179e"
             ],
             [
              0.4444444444444444,
              "#bd3786"
             ],
             [
              0.5555555555555556,
              "#d8576b"
             ],
             [
              0.6666666666666666,
              "#ed7953"
             ],
             [
              0.7777777777777778,
              "#fb9f3a"
             ],
             [
              0.8888888888888888,
              "#fdca26"
             ],
             [
              1,
              "#f0f921"
             ]
            ],
            "type": "surface"
           }
          ],
          "table": [
           {
            "cells": {
             "fill": {
              "color": "#EBF0F8"
             },
             "line": {
              "color": "white"
             }
            },
            "header": {
             "fill": {
              "color": "#C8D4E3"
             },
             "line": {
              "color": "white"
             }
            },
            "type": "table"
           }
          ]
         },
         "layout": {
          "annotationdefaults": {
           "arrowcolor": "#2a3f5f",
           "arrowhead": 0,
           "arrowwidth": 1
          },
          "autotypenumbers": "strict",
          "coloraxis": {
           "colorbar": {
            "outlinewidth": 0,
            "ticks": ""
           }
          },
          "colorscale": {
           "diverging": [
            [
             0,
             "#8e0152"
            ],
            [
             0.1,
             "#c51b7d"
            ],
            [
             0.2,
             "#de77ae"
            ],
            [
             0.3,
             "#f1b6da"
            ],
            [
             0.4,
             "#fde0ef"
            ],
            [
             0.5,
             "#f7f7f7"
            ],
            [
             0.6,
             "#e6f5d0"
            ],
            [
             0.7,
             "#b8e186"
            ],
            [
             0.8,
             "#7fbc41"
            ],
            [
             0.9,
             "#4d9221"
            ],
            [
             1,
             "#276419"
            ]
           ],
           "sequential": [
            [
             0,
             "#0d0887"
            ],
            [
             0.1111111111111111,
             "#46039f"
            ],
            [
             0.2222222222222222,
             "#7201a8"
            ],
            [
             0.3333333333333333,
             "#9c179e"
            ],
            [
             0.4444444444444444,
             "#bd3786"
            ],
            [
             0.5555555555555556,
             "#d8576b"
            ],
            [
             0.6666666666666666,
             "#ed7953"
            ],
            [
             0.7777777777777778,
             "#fb9f3a"
            ],
            [
             0.8888888888888888,
             "#fdca26"
            ],
            [
             1,
             "#f0f921"
            ]
           ],
           "sequentialminus": [
            [
             0,
             "#0d0887"
            ],
            [
             0.1111111111111111,
             "#46039f"
            ],
            [
             0.2222222222222222,
             "#7201a8"
            ],
            [
             0.3333333333333333,
             "#9c179e"
            ],
            [
             0.4444444444444444,
             "#bd3786"
            ],
            [
             0.5555555555555556,
             "#d8576b"
            ],
            [
             0.6666666666666666,
             "#ed7953"
            ],
            [
             0.7777777777777778,
             "#fb9f3a"
            ],
            [
             0.8888888888888888,
             "#fdca26"
            ],
            [
             1,
             "#f0f921"
            ]
           ]
          },
          "colorway": [
           "#636efa",
           "#EF553B",
           "#00cc96",
           "#ab63fa",
           "#FFA15A",
           "#19d3f3",
           "#FF6692",
           "#B6E880",
           "#FF97FF",
           "#FECB52"
          ],
          "font": {
           "color": "#2a3f5f"
          },
          "geo": {
           "bgcolor": "white",
           "lakecolor": "white",
           "landcolor": "#E5ECF6",
           "showlakes": true,
           "showland": true,
           "subunitcolor": "white"
          },
          "hoverlabel": {
           "align": "left"
          },
          "hovermode": "closest",
          "mapbox": {
           "style": "light"
          },
          "paper_bgcolor": "white",
          "plot_bgcolor": "#E5ECF6",
          "polar": {
           "angularaxis": {
            "gridcolor": "white",
            "linecolor": "white",
            "ticks": ""
           },
           "bgcolor": "#E5ECF6",
           "radialaxis": {
            "gridcolor": "white",
            "linecolor": "white",
            "ticks": ""
           }
          },
          "scene": {
           "xaxis": {
            "backgroundcolor": "#E5ECF6",
            "gridcolor": "white",
            "gridwidth": 2,
            "linecolor": "white",
            "showbackground": true,
            "ticks": "",
            "zerolinecolor": "white"
           },
           "yaxis": {
            "backgroundcolor": "#E5ECF6",
            "gridcolor": "white",
            "gridwidth": 2,
            "linecolor": "white",
            "showbackground": true,
            "ticks": "",
            "zerolinecolor": "white"
           },
           "zaxis": {
            "backgroundcolor": "#E5ECF6",
            "gridcolor": "white",
            "gridwidth": 2,
            "linecolor": "white",
            "showbackground": true,
            "ticks": "",
            "zerolinecolor": "white"
           }
          },
          "shapedefaults": {
           "line": {
            "color": "#2a3f5f"
           }
          },
          "ternary": {
           "aaxis": {
            "gridcolor": "white",
            "linecolor": "white",
            "ticks": ""
           },
           "baxis": {
            "gridcolor": "white",
            "linecolor": "white",
            "ticks": ""
           },
           "bgcolor": "#E5ECF6",
           "caxis": {
            "gridcolor": "white",
            "linecolor": "white",
            "ticks": ""
           }
          },
          "title": {
           "x": 0.05
          },
          "xaxis": {
           "automargin": true,
           "gridcolor": "white",
           "linecolor": "white",
           "ticks": "",
           "title": {
            "standoff": 15
           },
           "zerolinecolor": "white",
           "zerolinewidth": 2
          },
          "yaxis": {
           "automargin": true,
           "gridcolor": "white",
           "linecolor": "white",
           "ticks": "",
           "title": {
            "standoff": 15
           },
           "zerolinecolor": "white",
           "zerolinewidth": 2
          }
         }
        }
       }
      },
      "text/html": [
       "<div>                            <div id=\"496acf0e-881c-4fc6-b0f7-00c68f02ca7f\" class=\"plotly-graph-div\" style=\"height:525px; width:100%;\"></div>            <script type=\"text/javascript\">                require([\"plotly\"], function(Plotly) {                    window.PLOTLYENV=window.PLOTLYENV || {};                                    if (document.getElementById(\"496acf0e-881c-4fc6-b0f7-00c68f02ca7f\")) {                    Plotly.newPlot(                        \"496acf0e-881c-4fc6-b0f7-00c68f02ca7f\",                        [{\"z\":[[0.0009575391886755824,0.001173480530269444,2.229771598649677e-05,0.0009590201079845428,0.0011298604076728225,0.0004847052041441202,0.001066210912540555],[0.1517462432384491,0.1859530359506607,0.0035966848954558372,0.15198084712028503,0.17904329299926758,0.07684566080570221,0.16896069049835205],[0.12422806024551392,0.15223167836666107,0.0029443767853081226,0.12442009896039963,0.1465749591588974,0.06291016191244125,0.13832078874111176],[0.11101449280977249,0.13603951036930084,0.0026311546098440886,0.11118610948324203,0.13098447024822235,0.05621867999434471,0.12360824644565582],[0.0011768259573727846,0.0014421988744288683,2.7495821996126324e-05,0.001178645878098905,0.0013885936932638288,0.0005957542452961206,0.0013103740056976676],[0.22554917633533478,0.2763926684856415,0.005346153397113085,0.225897878408432,0.26612231135368347,0.11422020941972733,0.2511359751224518],[0.0003295979113318026,0.00040398843702860177,7.412616014335072e-06,0.0003301080723758787,0.00038896151818335056,0.00016670934564899653,0.0003670346923172474],[0.000224810850340873,0.0002755802415776998,4.928680027660448e-06,0.00022515903401654214,0.00026532483752816916,0.00011364410602254793,0.0002503603755030781],[0.00040858369902707636,0.0005007792497053742,9.284943189413752e-06,0.0004092159797437489,0.0004821557376999408,0.0002067085588350892,0.0004549807927105576],[0.10443170368671417,0.12797284126281738,0.002475112210959196,0.10459315776824951,0.12321753799915314,0.052885089069604874,0.11627870053052902],[0.1285271793603897,0.15749990940093994,0.0030462853610515594,0.12872585654258728,0.1516474187374115,0.06508728116750717,0.143107607960701],[0.0019611860625445843,0.0024033698718994856,4.608876770362258e-05,0.0019642184488475323,0.002314048819243908,0.0009929623920470476,0.002183713484555483],[0.0002129164495272562,0.00026100457762368023,4.646727575163823e-06,0.00021324622503016144,0.0002512907958589494,0.00010762065357994288,0.00023711663379799575],[0.0011796620674431324,0.0014456744538620114,2.756305184448138e-05,0.0011814864119514823,0.0013919399352744222,0.0005971905775368214,0.001313531887717545],[0.0007922985241748393,0.0009709912119433284,1.8380751498625614e-05,0.0007935239700600505,0.0009348953608423471,0.0004010256670881063,0.0008822250529192388],[0.0011588898487389088,0.0014202197780832648,2.7070656869909726e-05,0.0011606821790337563,0.0013674311339855194,0.0005866712890565395,0.0012904033064842224],[0.25042924284935,0.3068811893463135,0.0059359255246818066,0.2508164048194885,0.29547789692878723,0.12681972980499268,0.27883848547935486],[0.15758849680423737,0.19311223924160004,0.0037351727951318026,0.15783211588859558,0.18593646585941315,0.07980422675609589,0.17546570301055908],[0.16660521924495697,0.20416155457496643,0.003948910627514124,0.16686278581619263,0.19657517969608307,0.08437039703130722,0.18550530076026917],[0.23059363663196564,0.28257423639297485,0.005465730559080839,0.23095008730888367,0.2720741629600525,0.1167747750878334,0.25675269961357117],[0.0002446383878123015,0.0002998773125000298,5.398684152169153e-06,0.0002450172323733568,0.0002887190494220704,0.00012368497846182436,0.0002724371734075248],[0.24904324114322662,0.3051827549934387,0.005903071258217096,0.24942824244499207,0.293842613697052,0.12611784040927887,0.2772952616214752],[0.00017897546058520675,0.00021941261366009712,3.842170372081455e-06,0.0001792527618817985,0.000211244318052195,9.043258614838123e-05,0.0001993252953980118],[0.00015937129501253366,0.0001953892788151279,3.377460870979121e-06,0.00015961828466970474,0.0001881136413430795,8.050483302213252e-05,0.00017749721882864833],[0.0015101952012628317,0.0018507165368646383,3.5398210457060486e-05,0.00151253049261868,0.0017819312633946538,0.0007645759033039212,0.0016815613489598036],[0.0001990403252420947,0.00024400051916018128,4.317800176067976e-06,0.00019934866577386856,0.00023491856700275093,0.00010059365013148636,0.00022166639973875135],[0.207596555352211,0.25439316034317017,0.004920593928545713,0.2079174965620041,0.24494025111198425,0.10512881726026535,0.23114679753780365],[0.00033807349973358214,0.00041437457548454404,7.613526122440817e-06,0.00033859675750136375,0.000398961768951267,0.00017100147670134902,0.00037647178396582603],[0.2471218705177307,0.30282828211784363,0.005857525859028101,0.24750389158725739,0.2915755808353424,0.1251448392868042,0.2751559317111969],[0.1749623715877533,0.21440254151821136,0.004147013183683157,0.17523284256458282,0.20643563568592072,0.08860253542661667,0.19481049478054047],[6.962608313187957e-05,8.541365968994796e-05,1.250086938853201e-06,6.9734342105221e-05,8.22245710878633e-05,3.5056942579103634e-05,7.757113053230569e-05],[0.0009599242475815117,0.001176403253339231,2.2354251996148378e-05,0.0009614088339731097,0.001132674515247345,0.0004859130422119051,0.001068866578862071],[0.6705809235572815,0.8217436671257019,0.015895456075668335,0.6716176271438599,0.791208803653717,0.33958888053894043,0.7466530799865723],[0.16185057163238525,0.19833506643772125,0.0038362035993486643,0.16210077702999115,0.1909652054309845,0.08196259289979935,0.18021129071712494],[0.0005498238606378436,0.0006738577503710985,1.2632984180527274e-05,0.0005506744491867721,0.0006488029030151665,0.00027823401615023613,0.0006122434861026704],[0.00040542607894167304,0.0004969098372384906,9.210093594447244e-06,0.00040605347021482885,0.00047843012725934386,0.0002051095070783049,0.00045146490447223186],[0.1102374792098999,0.13508735597133636,0.0026127358432859182,0.11040790379047394,0.13006769120693207,0.05582519248127937,0.12274309247732162],[0.15391063690185547,0.18860532343387604,0.0036479902919381857,0.15414856374263763,0.1815970093011856,0.07794172316789627,0.17137062549591064],[0.1459420621395111,0.17884047329425812,0.0034590987488627434,0.14616768062114716,0.17219500243663788,0.07390636205673218,0.1624980866909027],[0.0014729058602824807,0.0018050214275717735,3.451427983236499e-05,0.0014751835260540247,0.0017379340715706348,0.0007456921739503741,0.0016400418244302273],[0.0009292682516388595,0.0011388367274776101,2.1627565729431808e-05,0.0009307055152021348,0.0010965039255097508,0.00047038853517733514,0.0010347329080104828],[1.689005148364231e-05,2.078985380649101e-05,0.0,1.691679426585324e-05,2.0002094970550388e-05,8.350876669283025e-06,1.885261372081004e-05],[0.00023608111951034516,0.0002893910859711468,5.195837729843333e-06,0.00023644672182854265,0.0002786224940791726,0.00011935149086639285,0.0002629091904964298],[0.4421168863773346,0.5417791604995728,0.010479805991053581,0.4428004026412964,0.5216474533081055,0.22389234602451324,0.4922715723514557],[0.4882967472076416,0.5983688831329346,0.01157448161393404,0.48905161023139954,0.5761343240737915,0.24727830290794373,0.5436902046203613],[0.33561962842941284,0.4112752377986908,0.007955330424010754,0.3361384868621826,0.39599281549453735,0.16996102035045624,0.3736930787563324],[0.0005152240628376603,0.0006314584752544761,1.1812810953415465e-05,0.0005160211585462093,0.0006079791928641498,0.00026071234606206417,0.0005737186293117702],[6.201702490216121e-05,7.6089367212262e-05,1.069717086465971e-06,6.211352592799813e-05,7.324675971176475e-05,3.1203639082377777e-05,6.909888179507107e-05],[0.00033068496850319207,0.000405320490244776,7.438383818225702e-06,0.0003311967884656042,0.0003902441239915788,0.00016725983005017042,0.0003682450333144516],[0.44580286741256714,0.5462960004806519,0.010567179881036282,0.4464920163154602,0.5259963870048523,0.22575895488262177,0.4963756501674652],[0.00030197008163668215,0.0003701327077578753,6.757708888471825e-06,0.00030243751825764775,0.0003563638892956078,0.00015271833399310708,0.00033627270022407174],[0.00033905060263350606,0.000415571965277195,7.636688678758219e-06,0.0003395754029043019,0.00040011462988331914,0.0001714963000267744,0.0003775597142521292],[0.12780065834522247,0.15660962462425232,0.0030290638096630573,0.1279982179403305,0.15079021453857422,0.06471936404705048,0.14229866862297058],[0.0014292332343757153,0.0017515039071440697,3.347903839312494e-05,0.0014314433792605996,0.0016864053905010223,0.0007235759403556585,0.0015914150280877948],[0.0001765613560564816,0.00021645431115757674,3.7849445106985513e-06,0.00017683491751085967,0.00020839592616539448,8.921005064621568e-05,0.00019663733837660402],[0.001379909459501505,0.0016910614212974906,3.2309835660271347e-05,0.001382043119519949,0.0016282087890431285,0.0006985978106968105,0.001536495634354651],[0.0010407886002212763,0.0012754960916936398,2.4271113943541422e-05,0.0010423982748761773,0.0012280851369723678,0.0005268636159598827,0.0011589044006541371],[0.0012344219721853733,0.0015127783408388495,2.8861113605671562e-05,0.0012363309506326914,0.001456550438888371,0.00062492152210325,0.001374503830447793],[0.1610778123140335,0.19738812744617462,0.003817885648459196,0.1613268256187439,0.19005344808101654,0.08157125860452652,0.1793508529663086],[0.012232220731675625,0.014989705756306648,0.0002895595971494913,0.012251130305230618,0.014432692900300026,0.006194319576025009,0.013619915582239628],[0.816046416759491,1.0,0.019343657419085503,0.8173079490661621,0.9628414511680603,0.4132540225982666,0.9086204171180725],[0.0009773941710591316,0.0011978110997006297,2.2768368580727838e-05,0.0009789058240130544,0.001153287012130022,0.0004947599372826517,0.00108831818215549],[0.00038905703695490956,0.0004768508952111006,8.822072231851052e-06,0.0003896591661032289,0.0004591165925376117,0.00019682009587995708,0.0004332390381023288],[0.0002377807250013575,0.00029147378518246114,5.23612607139512e-06,0.0002381489466642961,0.0002806278062053025,0.00012021217844448984,0.00026480157976038754]],\"type\":\"heatmap\"}],                        {\"template\":{\"data\":{\"histogram2dcontour\":[{\"type\":\"histogram2dcontour\",\"colorbar\":{\"outlinewidth\":0,\"ticks\":\"\"},\"colorscale\":[[0.0,\"#0d0887\"],[0.1111111111111111,\"#46039f\"],[0.2222222222222222,\"#7201a8\"],[0.3333333333333333,\"#9c179e\"],[0.4444444444444444,\"#bd3786\"],[0.5555555555555556,\"#d8576b\"],[0.6666666666666666,\"#ed7953\"],[0.7777777777777778,\"#fb9f3a\"],[0.8888888888888888,\"#fdca26\"],[1.0,\"#f0f921\"]]}],\"choropleth\":[{\"type\":\"choropleth\",\"colorbar\":{\"outlinewidth\":0,\"ticks\":\"\"}}],\"histogram2d\":[{\"type\":\"histogram2d\",\"colorbar\":{\"outlinewidth\":0,\"ticks\":\"\"},\"colorscale\":[[0.0,\"#0d0887\"],[0.1111111111111111,\"#46039f\"],[0.2222222222222222,\"#7201a8\"],[0.3333333333333333,\"#9c179e\"],[0.4444444444444444,\"#bd3786\"],[0.5555555555555556,\"#d8576b\"],[0.6666666666666666,\"#ed7953\"],[0.7777777777777778,\"#fb9f3a\"],[0.8888888888888888,\"#fdca26\"],[1.0,\"#f0f921\"]]}],\"heatmap\":[{\"type\":\"heatmap\",\"colorbar\":{\"outlinewidth\":0,\"ticks\":\"\"},\"colorscale\":[[0.0,\"#0d0887\"],[0.1111111111111111,\"#46039f\"],[0.2222222222222222,\"#7201a8\"],[0.3333333333333333,\"#9c179e\"],[0.4444444444444444,\"#bd3786\"],[0.5555555555555556,\"#d8576b\"],[0.6666666666666666,\"#ed7953\"],[0.7777777777777778,\"#fb9f3a\"],[0.8888888888888888,\"#fdca26\"],[1.0,\"#f0f921\"]]}],\"heatmapgl\":[{\"type\":\"heatmapgl\",\"colorbar\":{\"outlinewidth\":0,\"ticks\":\"\"},\"colorscale\":[[0.0,\"#0d0887\"],[0.1111111111111111,\"#46039f\"],[0.2222222222222222,\"#7201a8\"],[0.3333333333333333,\"#9c179e\"],[0.4444444444444444,\"#bd3786\"],[0.5555555555555556,\"#d8576b\"],[0.6666666666666666,\"#ed7953\"],[0.7777777777777778,\"#fb9f3a\"],[0.8888888888888888,\"#fdca26\"],[1.0,\"#f0f921\"]]}],\"contourcarpet\":[{\"type\":\"contourcarpet\",\"colorbar\":{\"outlinewidth\":0,\"ticks\":\"\"}}],\"contour\":[{\"type\":\"contour\",\"colorbar\":{\"outlinewidth\":0,\"ticks\":\"\"},\"colorscale\":[[0.0,\"#0d0887\"],[0.1111111111111111,\"#46039f\"],[0.2222222222222222,\"#7201a8\"],[0.3333333333333333,\"#9c179e\"],[0.4444444444444444,\"#bd3786\"],[0.5555555555555556,\"#d8576b\"],[0.6666666666666666,\"#ed7953\"],[0.7777777777777778,\"#fb9f3a\"],[0.8888888888888888,\"#fdca26\"],[1.0,\"#f0f921\"]]}],\"surface\":[{\"type\":\"surface\",\"colorbar\":{\"outlinewidth\":0,\"ticks\":\"\"},\"colorscale\":[[0.0,\"#0d0887\"],[0.1111111111111111,\"#46039f\"],[0.2222222222222222,\"#7201a8\"],[0.3333333333333333,\"#9c179e\"],[0.4444444444444444,\"#bd3786\"],[0.5555555555555556,\"#d8576b\"],[0.6666666666666666,\"#ed7953\"],[0.7777777777777778,\"#fb9f3a\"],[0.8888888888888888,\"#fdca26\"],[1.0,\"#f0f921\"]]}],\"mesh3d\":[{\"type\":\"mesh3d\",\"colorbar\":{\"outlinewidth\":0,\"ticks\":\"\"}}],\"scatter\":[{\"fillpattern\":{\"fillmode\":\"overlay\",\"size\":10,\"solidity\":0.2},\"type\":\"scatter\"}],\"parcoords\":[{\"type\":\"parcoords\",\"line\":{\"colorbar\":{\"outlinewidth\":0,\"ticks\":\"\"}}}],\"scatterpolargl\":[{\"type\":\"scatterpolargl\",\"marker\":{\"colorbar\":{\"outlinewidth\":0,\"ticks\":\"\"}}}],\"bar\":[{\"error_x\":{\"color\":\"#2a3f5f\"},\"error_y\":{\"color\":\"#2a3f5f\"},\"marker\":{\"line\":{\"color\":\"#E5ECF6\",\"width\":0.5},\"pattern\":{\"fillmode\":\"overlay\",\"size\":10,\"solidity\":0.2}},\"type\":\"bar\"}],\"scattergeo\":[{\"type\":\"scattergeo\",\"marker\":{\"colorbar\":{\"outlinewidth\":0,\"ticks\":\"\"}}}],\"scatterpolar\":[{\"type\":\"scatterpolar\",\"marker\":{\"colorbar\":{\"outlinewidth\":0,\"ticks\":\"\"}}}],\"histogram\":[{\"marker\":{\"pattern\":{\"fillmode\":\"overlay\",\"size\":10,\"solidity\":0.2}},\"type\":\"histogram\"}],\"scattergl\":[{\"type\":\"scattergl\",\"marker\":{\"colorbar\":{\"outlinewidth\":0,\"ticks\":\"\"}}}],\"scatter3d\":[{\"type\":\"scatter3d\",\"line\":{\"colorbar\":{\"outlinewidth\":0,\"ticks\":\"\"}},\"marker\":{\"colorbar\":{\"outlinewidth\":0,\"ticks\":\"\"}}}],\"scattermapbox\":[{\"type\":\"scattermapbox\",\"marker\":{\"colorbar\":{\"outlinewidth\":0,\"ticks\":\"\"}}}],\"scatterternary\":[{\"type\":\"scatterternary\",\"marker\":{\"colorbar\":{\"outlinewidth\":0,\"ticks\":\"\"}}}],\"scattercarpet\":[{\"type\":\"scattercarpet\",\"marker\":{\"colorbar\":{\"outlinewidth\":0,\"ticks\":\"\"}}}],\"carpet\":[{\"aaxis\":{\"endlinecolor\":\"#2a3f5f\",\"gridcolor\":\"white\",\"linecolor\":\"white\",\"minorgridcolor\":\"white\",\"startlinecolor\":\"#2a3f5f\"},\"baxis\":{\"endlinecolor\":\"#2a3f5f\",\"gridcolor\":\"white\",\"linecolor\":\"white\",\"minorgridcolor\":\"white\",\"startlinecolor\":\"#2a3f5f\"},\"type\":\"carpet\"}],\"table\":[{\"cells\":{\"fill\":{\"color\":\"#EBF0F8\"},\"line\":{\"color\":\"white\"}},\"header\":{\"fill\":{\"color\":\"#C8D4E3\"},\"line\":{\"color\":\"white\"}},\"type\":\"table\"}],\"barpolar\":[{\"marker\":{\"line\":{\"color\":\"#E5ECF6\",\"width\":0.5},\"pattern\":{\"fillmode\":\"overlay\",\"size\":10,\"solidity\":0.2}},\"type\":\"barpolar\"}],\"pie\":[{\"automargin\":true,\"type\":\"pie\"}]},\"layout\":{\"autotypenumbers\":\"strict\",\"colorway\":[\"#636efa\",\"#EF553B\",\"#00cc96\",\"#ab63fa\",\"#FFA15A\",\"#19d3f3\",\"#FF6692\",\"#B6E880\",\"#FF97FF\",\"#FECB52\"],\"font\":{\"color\":\"#2a3f5f\"},\"hovermode\":\"closest\",\"hoverlabel\":{\"align\":\"left\"},\"paper_bgcolor\":\"white\",\"plot_bgcolor\":\"#E5ECF6\",\"polar\":{\"bgcolor\":\"#E5ECF6\",\"angularaxis\":{\"gridcolor\":\"white\",\"linecolor\":\"white\",\"ticks\":\"\"},\"radialaxis\":{\"gridcolor\":\"white\",\"linecolor\":\"white\",\"ticks\":\"\"}},\"ternary\":{\"bgcolor\":\"#E5ECF6\",\"aaxis\":{\"gridcolor\":\"white\",\"linecolor\":\"white\",\"ticks\":\"\"},\"baxis\":{\"gridcolor\":\"white\",\"linecolor\":\"white\",\"ticks\":\"\"},\"caxis\":{\"gridcolor\":\"white\",\"linecolor\":\"white\",\"ticks\":\"\"}},\"coloraxis\":{\"colorbar\":{\"outlinewidth\":0,\"ticks\":\"\"}},\"colorscale\":{\"sequential\":[[0.0,\"#0d0887\"],[0.1111111111111111,\"#46039f\"],[0.2222222222222222,\"#7201a8\"],[0.3333333333333333,\"#9c179e\"],[0.4444444444444444,\"#bd3786\"],[0.5555555555555556,\"#d8576b\"],[0.6666666666666666,\"#ed7953\"],[0.7777777777777778,\"#fb9f3a\"],[0.8888888888888888,\"#fdca26\"],[1.0,\"#f0f921\"]],\"sequentialminus\":[[0.0,\"#0d0887\"],[0.1111111111111111,\"#46039f\"],[0.2222222222222222,\"#7201a8\"],[0.3333333333333333,\"#9c179e\"],[0.4444444444444444,\"#bd3786\"],[0.5555555555555556,\"#d8576b\"],[0.6666666666666666,\"#ed7953\"],[0.7777777777777778,\"#fb9f3a\"],[0.8888888888888888,\"#fdca26\"],[1.0,\"#f0f921\"]],\"diverging\":[[0,\"#8e0152\"],[0.1,\"#c51b7d\"],[0.2,\"#de77ae\"],[0.3,\"#f1b6da\"],[0.4,\"#fde0ef\"],[0.5,\"#f7f7f7\"],[0.6,\"#e6f5d0\"],[0.7,\"#b8e186\"],[0.8,\"#7fbc41\"],[0.9,\"#4d9221\"],[1,\"#276419\"]]},\"xaxis\":{\"gridcolor\":\"white\",\"linecolor\":\"white\",\"ticks\":\"\",\"title\":{\"standoff\":15},\"zerolinecolor\":\"white\",\"automargin\":true,\"zerolinewidth\":2},\"yaxis\":{\"gridcolor\":\"white\",\"linecolor\":\"white\",\"ticks\":\"\",\"title\":{\"standoff\":15},\"zerolinecolor\":\"white\",\"automargin\":true,\"zerolinewidth\":2},\"scene\":{\"xaxis\":{\"backgroundcolor\":\"#E5ECF6\",\"gridcolor\":\"white\",\"linecolor\":\"white\",\"showbackground\":true,\"ticks\":\"\",\"zerolinecolor\":\"white\",\"gridwidth\":2},\"yaxis\":{\"backgroundcolor\":\"#E5ECF6\",\"gridcolor\":\"white\",\"linecolor\":\"white\",\"showbackground\":true,\"ticks\":\"\",\"zerolinecolor\":\"white\",\"gridwidth\":2},\"zaxis\":{\"backgroundcolor\":\"#E5ECF6\",\"gridcolor\":\"white\",\"linecolor\":\"white\",\"showbackground\":true,\"ticks\":\"\",\"zerolinecolor\":\"white\",\"gridwidth\":2}},\"shapedefaults\":{\"line\":{\"color\":\"#2a3f5f\"}},\"annotationdefaults\":{\"arrowcolor\":\"#2a3f5f\",\"arrowhead\":0,\"arrowwidth\":1},\"geo\":{\"bgcolor\":\"white\",\"landcolor\":\"#E5ECF6\",\"subunitcolor\":\"white\",\"showland\":true,\"showlakes\":true,\"lakecolor\":\"white\"},\"title\":{\"x\":0.05},\"mapbox\":{\"style\":\"light\"}}}},                        {\"responsive\": true}                    ).then(function(){\n",
       "                            \n",
       "var gd = document.getElementById('496acf0e-881c-4fc6-b0f7-00c68f02ca7f');\n",
       "var x = new MutationObserver(function (mutations, observer) {{\n",
       "        var display = window.getComputedStyle(gd).display;\n",
       "        if (!display || display === 'none') {{\n",
       "            console.log([gd, 'removed!']);\n",
       "            Plotly.purge(gd);\n",
       "            observer.disconnect();\n",
       "        }}\n",
       "}});\n",
       "\n",
       "// Listen for the removal of the full notebook cells\n",
       "var notebookContainer = gd.closest('#notebook-container');\n",
       "if (notebookContainer) {{\n",
       "    x.observe(notebookContainer, {childList: true});\n",
       "}}\n",
       "\n",
       "// Listen for the clearing of the current output cell\n",
       "var outputEl = gd.closest('.output');\n",
       "if (outputEl) {{\n",
       "    x.observe(outputEl, {childList: true});\n",
       "}}\n",
       "\n",
       "                        })                };                });            </script>        </div>"
      ]
     },
     "metadata": {},
     "output_type": "display_data"
    }
   ],
   "source": [
    "fig = go.Figure()\n",
    "fig.add_trace(go.Heatmap(z = D_plus[110, :, :]))"
   ]
  },
  {
   "cell_type": "code",
   "execution_count": 80,
   "id": "b1c9c1c3",
   "metadata": {},
   "outputs": [
    {
     "data": {
      "application/vnd.plotly.v1+json": {
       "config": {
        "plotlyServerURL": "https://plot.ly"
       },
       "data": [
        {
         "type": "heatmap",
         "z": [
          [
           0.031888507306575775,
           0.039079051464796066,
           0.0007462736684828997,
           0.031937818974256516,
           0.037626560777425766,
           0.016143798828125,
           0.035507120192050934
          ],
          [
           0.02481803111732006,
           0.03041474148631096,
           0.0005786707624793053,
           0.024856412783265114,
           0.02928420901298523,
           0.012563236057758331,
           0.027634557336568832
          ],
          [
           0.2084287852048874,
           0.2554151117801666,
           0.004931091330945492,
           0.20875102281570435,
           0.24592390656471252,
           0.10554561018943787,
           0.23207451403141022
          ],
          [
           0.13215750455856323,
           0.1619507372379303,
           0.0031231106258928776,
           0.13236182928085327,
           0.15593251585960388,
           0.06692104786634445,
           0.14715084433555603
          ],
          [
           0.0412256233394146,
           0.050520945340394974,
           0.0009676063200458884,
           0.04128937050700188,
           0.048643290996551514,
           0.0208722110837698,
           0.04590345919132233
          ],
          [
           0.23798097670078278,
           0.29162895679473877,
           0.005631614476442337,
           0.23834890127182007,
           0.28079208731651306,
           0.12051113694906235,
           0.26497915387153625
          ],
          [
           0.1897193044424057,
           0.23248812556266785,
           0.004487589932978153,
           0.1900126039981842,
           0.22384881973266602,
           0.09607092291116714,
           0.21124255657196045
          ],
          [
           0.8160447478294373,
           1,
           0.01933438517153263,
           0.8173062205314636,
           0.9628411531448364,
           0.41324853897094727,
           0.9086196422576904
          ],
          [
           0.42526280879974365,
           0.5211278796195984,
           0.01007105503231287,
           0.42592018842697144,
           0.5017632246017456,
           0.21535257995128632,
           0.4735065996646881
          ],
          [
           0.3771742880344391,
           0.46219927072525024,
           0.00893113762140274,
           0.37775737047195435,
           0.4450242817401886,
           0.1910000741481781,
           0.4199628233909607
          ],
          [
           0.5171127319335938,
           0.6336826682090759,
           0.012248322367668152,
           0.5179121494293213,
           0.610135555267334,
           0.26186633110046387,
           0.5757761597633362
          ],
          [
           0.4378906488418579,
           0.5366023778915405,
           0.010370394214987755,
           0.4385676383972168,
           0.5166626572608948,
           0.22174745798110962,
           0.4875670373439789
          ],
          [
           0.15700969099998474,
           0.1924051195383072,
           0.0037122222129255533,
           0.1572524458169937,
           0.1852552592754364,
           0.07950645685195923,
           0.17482231557369232
          ],
          [
           0.40776464343070984,
           0.4996853470802307,
           0.009656270034611225,
           0.40839505195617676,
           0.4811173975467682,
           0.20649133622646332,
           0.45402345061302185
          ],
          [
           0.3239355981349945,
           0.396959513425827,
           0.00766913453117013,
           0.32443639636039734,
           0.3822087049484253,
           0.16403944790363312,
           0.3606846332550049
          ],
          [
           0.3354504704475403,
           0.4110701084136963,
           0.00794209074229002,
           0.33596909046173096,
           0.39579495787620544,
           0.16987070441246033,
           0.3735058009624481
          ],
          [
           0.026310207322239876,
           0.032243285328149796,
           0.0006140422192402184,
           0.026350894942879677,
           0.03104480542242527,
           0.013318889774382114,
           0.029296008870005608
          ],
          [
           0.0005854489281773567,
           0.0007196447113528848,
           4.247007382218726e-06,
           0.0005863691912963986,
           0.0006925372872501612,
           0.00029160824487917125,
           0.000652982504107058
          ],
          [
           0.027478564530611038,
           0.033675018697977066,
           0.0006417377153411508,
           0.027521058917045593,
           0.03242333233356476,
           0.013910558074712753,
           0.030596908181905746
          ],
          [
           0.000406285107601434,
           0.0005000937380827963,
           0,
           0.00040692841866984963,
           0.0004811444669030607,
           0.0002008778537856415,
           0.0004534939653240144
          ],
          [
           0.2506938874721527,
           0.3072076141834259,
           0.00593296904116869,
           0.2510814368724823,
           0.2957918643951416,
           0.12694908678531647,
           0.27913421392440796
          ],
          [
           0.49113479256629944,
           0.6018487811088562,
           0.0116325244307518,
           0.49189403653144836,
           0.5794845223426819,
           0.24871082603931427,
           0.5468512177467346
          ],
          [
           0.046677835285663605,
           0.05720219761133194,
           0.001096848864108324,
           0.046750009059906006,
           0.055076275020837784,
           0.023633265867829323,
           0.05197418853640556
          ],
          [
           0.7626853585243225,
           0.9346123933792114,
           0.018069524317979813,
           0.7638643980026245,
           0.8998831510543823,
           0.3862268030643463,
           0.8492069840431213
          ],
          [
           0.23025672137737274,
           0.28216350078582764,
           0.00544851366430521,
           0.23061269521713257,
           0.2716783583164215,
           0.11659949272871017,
           0.2563786506652832
          ],
          [
           0.42232000827789307,
           0.5175217986106873,
           0.010001298040151596,
           0.4229728877544403,
           0.4982910454273224,
           0.2138623148202896,
           0.47022998332977295
          ],
          [
           0.20782417058944702,
           0.25467419624328613,
           0.004916759207844734,
           0.20814546942710876,
           0.24521049857139587,
           0.10523942112922668,
           0.23140129446983337
          ],
          [
           0.32615211606025696,
           0.3996756672859192,
           0.007721676491200924,
           0.3266563415527344,
           0.38482391834259033,
           0.16516190767288208,
           0.3631526231765747
          ],
          [
           0.1948150396347046,
           0.23873256146907806,
           0.004608382936567068,
           0.19511622190475464,
           0.22986121475696564,
           0.0986514613032341,
           0.21691636741161346
          ],
          [
           0.6028443574905396,
           0.7387399077415466,
           0.01428055576980114,
           0.6037762761116028,
           0.7112890481948853,
           0.3052816689014435,
           0.6712332963943481
          ],
          [
           0.1998254507780075,
           0.24487240612506866,
           0.004727152641862631,
           0.20013438165187836,
           0.23577292263507843,
           0.1011887863278389,
           0.2224951684474945
          ],
          [
           0.021397078409790993,
           0.02622263878583908,
           0.0004975784104317427,
           0.02143017202615738,
           0.025247875601053238,
           0.010830830782651901,
           0.023825524374842644
          ],
          [
           0.003336763009428978,
           0.004091160837560892,
           6.946581561351195e-05,
           0.003341936506330967,
           0.003938772715628147,
           0.0016849018866196275,
           0.0037164115346968174
          ],
          [
           0.031000183895230293,
           0.03799048066139221,
           0.0007252163486555219,
           0.0310481246560812,
           0.03657844290137291,
           0.015693943947553635,
           0.034518029540777206
          ],
          [
           0.033193521201610565,
           0.0406782403588295,
           0.0007772085373289883,
           0.03324485197663307,
           0.03916633129119873,
           0.01680467277765274,
           0.0369601845741272
          ],
          [
           0.15871047973632812,
           0.1944892853498459,
           0.00375253870151937,
           0.15895585715770721,
           0.18726196885108948,
           0.08036774396896362,
           0.17671602964401245
          ],
          [
           0.4826030135154724,
           0.5913938879966736,
           0.011430284008383751,
           0.48334917426109314,
           0.5694181323051453,
           0.24439027905464172,
           0.537351667881012
          ],
          [
           0.06558454036712646,
           0.08037085086107254,
           0.0015450248029083014,
           0.0656859427690506,
           0.07738401740789413,
           0.033207811415195465,
           0.07302570343017578
          ],
          [
           0.49790892004966736,
           0.6101499795913696,
           0.011793104000389576,
           0.49867868423461914,
           0.5874773263931274,
           0.2521413266658783,
           0.5543938279151917
          ],
          [
           0.5325967669487,
           0.652657151222229,
           0.012615364044904709,
           0.5334200859069824,
           0.628404974937439,
           0.269707590341568,
           0.5930167436599731
          ],
          [
           0.21321965754032135,
           0.2612859308719635,
           0.0050446572713553905,
           0.21354928612709045,
           0.25157657265663147,
           0.10797175019979477,
           0.237408846616745
          ],
          [
           0.24379470944404602,
           0.2987532615661621,
           0.0057694269344210625,
           0.2441716194152832,
           0.2876516580581665,
           0.12345528602600098,
           0.2714524269104004
          ],
          [
           0.003440217114984989,
           0.004217936657369137,
           7.191816257545725e-05,
           0.0034455510322004557,
           0.004060836974531412,
           0.001737292273901403,
           0.003831601934507489
          ],
          [
           0.026675766333937645,
           0.03269125148653984,
           0.0006227076519280672,
           0.026717018336057663,
           0.03147612512111664,
           0.013504012487828732,
           0.029703037813305855
          ],
          [
           0.46399447321891785,
           0.5685905814170837,
           0.010989176109433174,
           0.4647118151187897,
           0.5474621653556824,
           0.2349667102098465,
           0.5166321396827698
          ],
          [
           0.2230636328458786,
           0.27334895730018616,
           0.005278004799038172,
           0.22340847551822662,
           0.2631913125514984,
           0.11295683681964874,
           0.24836952984333038
          ],
          [
           0.009772825986146927,
           0.011978044174611568,
           0.00022203012485988438,
           0.009787948802113533,
           0.011532589793205261,
           0.004944189917296171,
           0.010882594622671604
          ],
          [
           0.023165516555309296,
           0.028389720246195793,
           0.0005394986364990473,
           0.023201346397399902,
           0.027334436774253845,
           0.011726386845111847,
           0.025794582441449165
          ],
          [
           0.17337273061275482,
           0.21245671808719635,
           0.004100101534277201,
           0.17364077270030975,
           0.2045617550611496,
           0.08779286593198776,
           0.1930416077375412
          ],
          [
           0.09952396899461746,
           0.12196092307567596,
           0.002349545480683446,
           0.09967783838510513,
           0.11742866039276123,
           0.05039508640766144,
           0.11081528663635254
          ],
          [
           0.007993209175765514,
           0.009797264821827412,
           0.00017984502483159304,
           0.008005581796169281,
           0.009432845748960972,
           0.004042973741889,
           0.008901093155145645
          ],
          [
           0.5263665318489075,
           0.6450225114822388,
           0.012467680498957634,
           0.5271803140640259,
           0.6210541129112244,
           0.26655256748199463,
           0.5860797762870789
          ],
          [
           0.014391533099114895,
           0.01763790287077427,
           0.00033151477691717446,
           0.014413797296583652,
           0.01698213815689087,
           0.0072831520810723305,
           0.016025258228182793
          ],
          [
           0.27620911598205566,
           0.3384745121002197,
           0.006537796929478645,
           0.27663612365722656,
           0.3258969187736511,
           0.13987025618553162,
           0.30754396319389343
          ],
          [
           0.35958942770957947,
           0.44065043330192566,
           0.008514294400811195,
           0.36014530062675476,
           0.42427611351013184,
           0.18209488689899445,
           0.4003830552101135
          ],
          [
           0.2581997513771057,
           0.31640544533729553,
           0.006110892631113529,
           0.2585988938808441,
           0.30464789271354675,
           0.1307501345872879,
           0.2874915599822998
          ],
          [
           0.0064749084413051605,
           0.007936707697808743,
           0.00014385431131813675,
           0.006484932731837034,
           0.007641424424946308,
           0.0032740908209234476,
           0.007210554089397192
          ],
          [
           0.07868053019046783,
           0.09641895443201065,
           0.0018554601119831204,
           0.07880217581987381,
           0.09283579140901566,
           0.03983975946903229,
           0.08760732412338257
          ],
          [
           0.2036571502685547,
           0.24956783652305603,
           0.004817981272935867,
           0.2039719969034195,
           0.24029389023780823,
           0.10312920063734055,
           0.22676154971122742
          ],
          [
           0.0217275433242321,
           0.026627596467733383,
           0.0005054119392298162,
           0.021761149168014526,
           0.025637788698077202,
           0.010998181998729706,
           0.024193480610847473
          ],
          [
           0.01089603640139103,
           0.013354448601603508,
           0.00024865538580343127,
           0.010912896133959293,
           0.012857850641012192,
           0.005512995645403862,
           0.012133224867284298
          ],
          [
           0.6394152045249939,
           0.7835545539855957,
           0.015147452242672443,
           0.640403687953949,
           0.7544384598731995,
           0.32380151748657227,
           0.7119528651237488
          ],
          [
           0.0006188221741467714,
           0.0007605409482493997,
           5.038105882704258e-06,
           0.0006197940092533827,
           0.0007319137803278863,
           0.0003085087810177356,
           0.0006901416345499456
          ],
          [
           0.5680131912231445,
           0.6960572004318237,
           0.01345489826053381,
           0.5688913464546204,
           0.6701923608779907,
           0.28764286637306213,
           0.6324509382247925
          ]
         ]
        }
       ],
       "layout": {
        "template": {
         "data": {
          "bar": [
           {
            "error_x": {
             "color": "#2a3f5f"
            },
            "error_y": {
             "color": "#2a3f5f"
            },
            "marker": {
             "line": {
              "color": "#E5ECF6",
              "width": 0.5
             },
             "pattern": {
              "fillmode": "overlay",
              "size": 10,
              "solidity": 0.2
             }
            },
            "type": "bar"
           }
          ],
          "barpolar": [
           {
            "marker": {
             "line": {
              "color": "#E5ECF6",
              "width": 0.5
             },
             "pattern": {
              "fillmode": "overlay",
              "size": 10,
              "solidity": 0.2
             }
            },
            "type": "barpolar"
           }
          ],
          "carpet": [
           {
            "aaxis": {
             "endlinecolor": "#2a3f5f",
             "gridcolor": "white",
             "linecolor": "white",
             "minorgridcolor": "white",
             "startlinecolor": "#2a3f5f"
            },
            "baxis": {
             "endlinecolor": "#2a3f5f",
             "gridcolor": "white",
             "linecolor": "white",
             "minorgridcolor": "white",
             "startlinecolor": "#2a3f5f"
            },
            "type": "carpet"
           }
          ],
          "choropleth": [
           {
            "colorbar": {
             "outlinewidth": 0,
             "ticks": ""
            },
            "type": "choropleth"
           }
          ],
          "contour": [
           {
            "colorbar": {
             "outlinewidth": 0,
             "ticks": ""
            },
            "colorscale": [
             [
              0,
              "#0d0887"
             ],
             [
              0.1111111111111111,
              "#46039f"
             ],
             [
              0.2222222222222222,
              "#7201a8"
             ],
             [
              0.3333333333333333,
              "#9c179e"
             ],
             [
              0.4444444444444444,
              "#bd3786"
             ],
             [
              0.5555555555555556,
              "#d8576b"
             ],
             [
              0.6666666666666666,
              "#ed7953"
             ],
             [
              0.7777777777777778,
              "#fb9f3a"
             ],
             [
              0.8888888888888888,
              "#fdca26"
             ],
             [
              1,
              "#f0f921"
             ]
            ],
            "type": "contour"
           }
          ],
          "contourcarpet": [
           {
            "colorbar": {
             "outlinewidth": 0,
             "ticks": ""
            },
            "type": "contourcarpet"
           }
          ],
          "heatmap": [
           {
            "colorbar": {
             "outlinewidth": 0,
             "ticks": ""
            },
            "colorscale": [
             [
              0,
              "#0d0887"
             ],
             [
              0.1111111111111111,
              "#46039f"
             ],
             [
              0.2222222222222222,
              "#7201a8"
             ],
             [
              0.3333333333333333,
              "#9c179e"
             ],
             [
              0.4444444444444444,
              "#bd3786"
             ],
             [
              0.5555555555555556,
              "#d8576b"
             ],
             [
              0.6666666666666666,
              "#ed7953"
             ],
             [
              0.7777777777777778,
              "#fb9f3a"
             ],
             [
              0.8888888888888888,
              "#fdca26"
             ],
             [
              1,
              "#f0f921"
             ]
            ],
            "type": "heatmap"
           }
          ],
          "heatmapgl": [
           {
            "colorbar": {
             "outlinewidth": 0,
             "ticks": ""
            },
            "colorscale": [
             [
              0,
              "#0d0887"
             ],
             [
              0.1111111111111111,
              "#46039f"
             ],
             [
              0.2222222222222222,
              "#7201a8"
             ],
             [
              0.3333333333333333,
              "#9c179e"
             ],
             [
              0.4444444444444444,
              "#bd3786"
             ],
             [
              0.5555555555555556,
              "#d8576b"
             ],
             [
              0.6666666666666666,
              "#ed7953"
             ],
             [
              0.7777777777777778,
              "#fb9f3a"
             ],
             [
              0.8888888888888888,
              "#fdca26"
             ],
             [
              1,
              "#f0f921"
             ]
            ],
            "type": "heatmapgl"
           }
          ],
          "histogram": [
           {
            "marker": {
             "pattern": {
              "fillmode": "overlay",
              "size": 10,
              "solidity": 0.2
             }
            },
            "type": "histogram"
           }
          ],
          "histogram2d": [
           {
            "colorbar": {
             "outlinewidth": 0,
             "ticks": ""
            },
            "colorscale": [
             [
              0,
              "#0d0887"
             ],
             [
              0.1111111111111111,
              "#46039f"
             ],
             [
              0.2222222222222222,
              "#7201a8"
             ],
             [
              0.3333333333333333,
              "#9c179e"
             ],
             [
              0.4444444444444444,
              "#bd3786"
             ],
             [
              0.5555555555555556,
              "#d8576b"
             ],
             [
              0.6666666666666666,
              "#ed7953"
             ],
             [
              0.7777777777777778,
              "#fb9f3a"
             ],
             [
              0.8888888888888888,
              "#fdca26"
             ],
             [
              1,
              "#f0f921"
             ]
            ],
            "type": "histogram2d"
           }
          ],
          "histogram2dcontour": [
           {
            "colorbar": {
             "outlinewidth": 0,
             "ticks": ""
            },
            "colorscale": [
             [
              0,
              "#0d0887"
             ],
             [
              0.1111111111111111,
              "#46039f"
             ],
             [
              0.2222222222222222,
              "#7201a8"
             ],
             [
              0.3333333333333333,
              "#9c179e"
             ],
             [
              0.4444444444444444,
              "#bd3786"
             ],
             [
              0.5555555555555556,
              "#d8576b"
             ],
             [
              0.6666666666666666,
              "#ed7953"
             ],
             [
              0.7777777777777778,
              "#fb9f3a"
             ],
             [
              0.8888888888888888,
              "#fdca26"
             ],
             [
              1,
              "#f0f921"
             ]
            ],
            "type": "histogram2dcontour"
           }
          ],
          "mesh3d": [
           {
            "colorbar": {
             "outlinewidth": 0,
             "ticks": ""
            },
            "type": "mesh3d"
           }
          ],
          "parcoords": [
           {
            "line": {
             "colorbar": {
              "outlinewidth": 0,
              "ticks": ""
             }
            },
            "type": "parcoords"
           }
          ],
          "pie": [
           {
            "automargin": true,
            "type": "pie"
           }
          ],
          "scatter": [
           {
            "fillpattern": {
             "fillmode": "overlay",
             "size": 10,
             "solidity": 0.2
            },
            "type": "scatter"
           }
          ],
          "scatter3d": [
           {
            "line": {
             "colorbar": {
              "outlinewidth": 0,
              "ticks": ""
             }
            },
            "marker": {
             "colorbar": {
              "outlinewidth": 0,
              "ticks": ""
             }
            },
            "type": "scatter3d"
           }
          ],
          "scattercarpet": [
           {
            "marker": {
             "colorbar": {
              "outlinewidth": 0,
              "ticks": ""
             }
            },
            "type": "scattercarpet"
           }
          ],
          "scattergeo": [
           {
            "marker": {
             "colorbar": {
              "outlinewidth": 0,
              "ticks": ""
             }
            },
            "type": "scattergeo"
           }
          ],
          "scattergl": [
           {
            "marker": {
             "colorbar": {
              "outlinewidth": 0,
              "ticks": ""
             }
            },
            "type": "scattergl"
           }
          ],
          "scattermapbox": [
           {
            "marker": {
             "colorbar": {
              "outlinewidth": 0,
              "ticks": ""
             }
            },
            "type": "scattermapbox"
           }
          ],
          "scatterpolar": [
           {
            "marker": {
             "colorbar": {
              "outlinewidth": 0,
              "ticks": ""
             }
            },
            "type": "scatterpolar"
           }
          ],
          "scatterpolargl": [
           {
            "marker": {
             "colorbar": {
              "outlinewidth": 0,
              "ticks": ""
             }
            },
            "type": "scatterpolargl"
           }
          ],
          "scatterternary": [
           {
            "marker": {
             "colorbar": {
              "outlinewidth": 0,
              "ticks": ""
             }
            },
            "type": "scatterternary"
           }
          ],
          "surface": [
           {
            "colorbar": {
             "outlinewidth": 0,
             "ticks": ""
            },
            "colorscale": [
             [
              0,
              "#0d0887"
             ],
             [
              0.1111111111111111,
              "#46039f"
             ],
             [
              0.2222222222222222,
              "#7201a8"
             ],
             [
              0.3333333333333333,
              "#9c179e"
             ],
             [
              0.4444444444444444,
              "#bd3786"
             ],
             [
              0.5555555555555556,
              "#d8576b"
             ],
             [
              0.6666666666666666,
              "#ed7953"
             ],
             [
              0.7777777777777778,
              "#fb9f3a"
             ],
             [
              0.8888888888888888,
              "#fdca26"
             ],
             [
              1,
              "#f0f921"
             ]
            ],
            "type": "surface"
           }
          ],
          "table": [
           {
            "cells": {
             "fill": {
              "color": "#EBF0F8"
             },
             "line": {
              "color": "white"
             }
            },
            "header": {
             "fill": {
              "color": "#C8D4E3"
             },
             "line": {
              "color": "white"
             }
            },
            "type": "table"
           }
          ]
         },
         "layout": {
          "annotationdefaults": {
           "arrowcolor": "#2a3f5f",
           "arrowhead": 0,
           "arrowwidth": 1
          },
          "autotypenumbers": "strict",
          "coloraxis": {
           "colorbar": {
            "outlinewidth": 0,
            "ticks": ""
           }
          },
          "colorscale": {
           "diverging": [
            [
             0,
             "#8e0152"
            ],
            [
             0.1,
             "#c51b7d"
            ],
            [
             0.2,
             "#de77ae"
            ],
            [
             0.3,
             "#f1b6da"
            ],
            [
             0.4,
             "#fde0ef"
            ],
            [
             0.5,
             "#f7f7f7"
            ],
            [
             0.6,
             "#e6f5d0"
            ],
            [
             0.7,
             "#b8e186"
            ],
            [
             0.8,
             "#7fbc41"
            ],
            [
             0.9,
             "#4d9221"
            ],
            [
             1,
             "#276419"
            ]
           ],
           "sequential": [
            [
             0,
             "#0d0887"
            ],
            [
             0.1111111111111111,
             "#46039f"
            ],
            [
             0.2222222222222222,
             "#7201a8"
            ],
            [
             0.3333333333333333,
             "#9c179e"
            ],
            [
             0.4444444444444444,
             "#bd3786"
            ],
            [
             0.5555555555555556,
             "#d8576b"
            ],
            [
             0.6666666666666666,
             "#ed7953"
            ],
            [
             0.7777777777777778,
             "#fb9f3a"
            ],
            [
             0.8888888888888888,
             "#fdca26"
            ],
            [
             1,
             "#f0f921"
            ]
           ],
           "sequentialminus": [
            [
             0,
             "#0d0887"
            ],
            [
             0.1111111111111111,
             "#46039f"
            ],
            [
             0.2222222222222222,
             "#7201a8"
            ],
            [
             0.3333333333333333,
             "#9c179e"
            ],
            [
             0.4444444444444444,
             "#bd3786"
            ],
            [
             0.5555555555555556,
             "#d8576b"
            ],
            [
             0.6666666666666666,
             "#ed7953"
            ],
            [
             0.7777777777777778,
             "#fb9f3a"
            ],
            [
             0.8888888888888888,
             "#fdca26"
            ],
            [
             1,
             "#f0f921"
            ]
           ]
          },
          "colorway": [
           "#636efa",
           "#EF553B",
           "#00cc96",
           "#ab63fa",
           "#FFA15A",
           "#19d3f3",
           "#FF6692",
           "#B6E880",
           "#FF97FF",
           "#FECB52"
          ],
          "font": {
           "color": "#2a3f5f"
          },
          "geo": {
           "bgcolor": "white",
           "lakecolor": "white",
           "landcolor": "#E5ECF6",
           "showlakes": true,
           "showland": true,
           "subunitcolor": "white"
          },
          "hoverlabel": {
           "align": "left"
          },
          "hovermode": "closest",
          "mapbox": {
           "style": "light"
          },
          "paper_bgcolor": "white",
          "plot_bgcolor": "#E5ECF6",
          "polar": {
           "angularaxis": {
            "gridcolor": "white",
            "linecolor": "white",
            "ticks": ""
           },
           "bgcolor": "#E5ECF6",
           "radialaxis": {
            "gridcolor": "white",
            "linecolor": "white",
            "ticks": ""
           }
          },
          "scene": {
           "xaxis": {
            "backgroundcolor": "#E5ECF6",
            "gridcolor": "white",
            "gridwidth": 2,
            "linecolor": "white",
            "showbackground": true,
            "ticks": "",
            "zerolinecolor": "white"
           },
           "yaxis": {
            "backgroundcolor": "#E5ECF6",
            "gridcolor": "white",
            "gridwidth": 2,
            "linecolor": "white",
            "showbackground": true,
            "ticks": "",
            "zerolinecolor": "white"
           },
           "zaxis": {
            "backgroundcolor": "#E5ECF6",
            "gridcolor": "white",
            "gridwidth": 2,
            "linecolor": "white",
            "showbackground": true,
            "ticks": "",
            "zerolinecolor": "white"
           }
          },
          "shapedefaults": {
           "line": {
            "color": "#2a3f5f"
           }
          },
          "ternary": {
           "aaxis": {
            "gridcolor": "white",
            "linecolor": "white",
            "ticks": ""
           },
           "baxis": {
            "gridcolor": "white",
            "linecolor": "white",
            "ticks": ""
           },
           "bgcolor": "#E5ECF6",
           "caxis": {
            "gridcolor": "white",
            "linecolor": "white",
            "ticks": ""
           }
          },
          "title": {
           "x": 0.05
          },
          "xaxis": {
           "automargin": true,
           "gridcolor": "white",
           "linecolor": "white",
           "ticks": "",
           "title": {
            "standoff": 15
           },
           "zerolinecolor": "white",
           "zerolinewidth": 2
          },
          "yaxis": {
           "automargin": true,
           "gridcolor": "white",
           "linecolor": "white",
           "ticks": "",
           "title": {
            "standoff": 15
           },
           "zerolinecolor": "white",
           "zerolinewidth": 2
          }
         }
        }
       }
      },
      "text/html": [
       "<div>                            <div id=\"5ad0649f-6c84-4e7e-908b-c46e39bb8986\" class=\"plotly-graph-div\" style=\"height:525px; width:100%;\"></div>            <script type=\"text/javascript\">                require([\"plotly\"], function(Plotly) {                    window.PLOTLYENV=window.PLOTLYENV || {};                                    if (document.getElementById(\"5ad0649f-6c84-4e7e-908b-c46e39bb8986\")) {                    Plotly.newPlot(                        \"5ad0649f-6c84-4e7e-908b-c46e39bb8986\",                        [{\"z\":[[0.031888507306575775,0.039079051464796066,0.0007462736684828997,0.031937818974256516,0.037626560777425766,0.016143798828125,0.035507120192050934],[0.02481803111732006,0.03041474148631096,0.0005786707624793053,0.024856412783265114,0.02928420901298523,0.012563236057758331,0.027634557336568832],[0.2084287852048874,0.2554151117801666,0.004931091330945492,0.20875102281570435,0.24592390656471252,0.10554561018943787,0.23207451403141022],[0.13215750455856323,0.1619507372379303,0.0031231106258928776,0.13236182928085327,0.15593251585960388,0.06692104786634445,0.14715084433555603],[0.0412256233394146,0.050520945340394974,0.0009676063200458884,0.04128937050700188,0.048643290996551514,0.0208722110837698,0.04590345919132233],[0.23798097670078278,0.29162895679473877,0.005631614476442337,0.23834890127182007,0.28079208731651306,0.12051113694906235,0.26497915387153625],[0.1897193044424057,0.23248812556266785,0.004487589932978153,0.1900126039981842,0.22384881973266602,0.09607092291116714,0.21124255657196045],[0.8160447478294373,1.0,0.01933438517153263,0.8173062205314636,0.9628411531448364,0.41324853897094727,0.9086196422576904],[0.42526280879974365,0.5211278796195984,0.01007105503231287,0.42592018842697144,0.5017632246017456,0.21535257995128632,0.4735065996646881],[0.3771742880344391,0.46219927072525024,0.00893113762140274,0.37775737047195435,0.4450242817401886,0.1910000741481781,0.4199628233909607],[0.5171127319335938,0.6336826682090759,0.012248322367668152,0.5179121494293213,0.610135555267334,0.26186633110046387,0.5757761597633362],[0.4378906488418579,0.5366023778915405,0.010370394214987755,0.4385676383972168,0.5166626572608948,0.22174745798110962,0.4875670373439789],[0.15700969099998474,0.1924051195383072,0.0037122222129255533,0.1572524458169937,0.1852552592754364,0.07950645685195923,0.17482231557369232],[0.40776464343070984,0.4996853470802307,0.009656270034611225,0.40839505195617676,0.4811173975467682,0.20649133622646332,0.45402345061302185],[0.3239355981349945,0.396959513425827,0.00766913453117013,0.32443639636039734,0.3822087049484253,0.16403944790363312,0.3606846332550049],[0.3354504704475403,0.4110701084136963,0.00794209074229002,0.33596909046173096,0.39579495787620544,0.16987070441246033,0.3735058009624481],[0.026310207322239876,0.032243285328149796,0.0006140422192402184,0.026350894942879677,0.03104480542242527,0.013318889774382114,0.029296008870005608],[0.0005854489281773567,0.0007196447113528848,4.247007382218726e-06,0.0005863691912963986,0.0006925372872501612,0.00029160824487917125,0.000652982504107058],[0.027478564530611038,0.033675018697977066,0.0006417377153411508,0.027521058917045593,0.03242333233356476,0.013910558074712753,0.030596908181905746],[0.000406285107601434,0.0005000937380827963,0.0,0.00040692841866984963,0.0004811444669030607,0.0002008778537856415,0.0004534939653240144],[0.2506938874721527,0.3072076141834259,0.00593296904116869,0.2510814368724823,0.2957918643951416,0.12694908678531647,0.27913421392440796],[0.49113479256629944,0.6018487811088562,0.0116325244307518,0.49189403653144836,0.5794845223426819,0.24871082603931427,0.5468512177467346],[0.046677835285663605,0.05720219761133194,0.001096848864108324,0.046750009059906006,0.055076275020837784,0.023633265867829323,0.05197418853640556],[0.7626853585243225,0.9346123933792114,0.018069524317979813,0.7638643980026245,0.8998831510543823,0.3862268030643463,0.8492069840431213],[0.23025672137737274,0.28216350078582764,0.00544851366430521,0.23061269521713257,0.2716783583164215,0.11659949272871017,0.2563786506652832],[0.42232000827789307,0.5175217986106873,0.010001298040151596,0.4229728877544403,0.4982910454273224,0.2138623148202896,0.47022998332977295],[0.20782417058944702,0.25467419624328613,0.004916759207844734,0.20814546942710876,0.24521049857139587,0.10523942112922668,0.23140129446983337],[0.32615211606025696,0.3996756672859192,0.007721676491200924,0.3266563415527344,0.38482391834259033,0.16516190767288208,0.3631526231765747],[0.1948150396347046,0.23873256146907806,0.004608382936567068,0.19511622190475464,0.22986121475696564,0.0986514613032341,0.21691636741161346],[0.6028443574905396,0.7387399077415466,0.01428055576980114,0.6037762761116028,0.7112890481948853,0.3052816689014435,0.6712332963943481],[0.1998254507780075,0.24487240612506866,0.004727152641862631,0.20013438165187836,0.23577292263507843,0.1011887863278389,0.2224951684474945],[0.021397078409790993,0.02622263878583908,0.0004975784104317427,0.02143017202615738,0.025247875601053238,0.010830830782651901,0.023825524374842644],[0.003336763009428978,0.004091160837560892,6.946581561351195e-05,0.003341936506330967,0.003938772715628147,0.0016849018866196275,0.0037164115346968174],[0.031000183895230293,0.03799048066139221,0.0007252163486555219,0.0310481246560812,0.03657844290137291,0.015693943947553635,0.034518029540777206],[0.033193521201610565,0.0406782403588295,0.0007772085373289883,0.03324485197663307,0.03916633129119873,0.01680467277765274,0.0369601845741272],[0.15871047973632812,0.1944892853498459,0.00375253870151937,0.15895585715770721,0.18726196885108948,0.08036774396896362,0.17671602964401245],[0.4826030135154724,0.5913938879966736,0.011430284008383751,0.48334917426109314,0.5694181323051453,0.24439027905464172,0.537351667881012],[0.06558454036712646,0.08037085086107254,0.0015450248029083014,0.0656859427690506,0.07738401740789413,0.033207811415195465,0.07302570343017578],[0.49790892004966736,0.6101499795913696,0.011793104000389576,0.49867868423461914,0.5874773263931274,0.2521413266658783,0.5543938279151917],[0.5325967669487,0.652657151222229,0.012615364044904709,0.5334200859069824,0.628404974937439,0.269707590341568,0.5930167436599731],[0.21321965754032135,0.2612859308719635,0.0050446572713553905,0.21354928612709045,0.25157657265663147,0.10797175019979477,0.237408846616745],[0.24379470944404602,0.2987532615661621,0.0057694269344210625,0.2441716194152832,0.2876516580581665,0.12345528602600098,0.2714524269104004],[0.003440217114984989,0.004217936657369137,7.191816257545725e-05,0.0034455510322004557,0.004060836974531412,0.001737292273901403,0.003831601934507489],[0.026675766333937645,0.03269125148653984,0.0006227076519280672,0.026717018336057663,0.03147612512111664,0.013504012487828732,0.029703037813305855],[0.46399447321891785,0.5685905814170837,0.010989176109433174,0.4647118151187897,0.5474621653556824,0.2349667102098465,0.5166321396827698],[0.2230636328458786,0.27334895730018616,0.005278004799038172,0.22340847551822662,0.2631913125514984,0.11295683681964874,0.24836952984333038],[0.009772825986146927,0.011978044174611568,0.00022203012485988438,0.009787948802113533,0.011532589793205261,0.004944189917296171,0.010882594622671604],[0.023165516555309296,0.028389720246195793,0.0005394986364990473,0.023201346397399902,0.027334436774253845,0.011726386845111847,0.025794582441449165],[0.17337273061275482,0.21245671808719635,0.004100101534277201,0.17364077270030975,0.2045617550611496,0.08779286593198776,0.1930416077375412],[0.09952396899461746,0.12196092307567596,0.002349545480683446,0.09967783838510513,0.11742866039276123,0.05039508640766144,0.11081528663635254],[0.007993209175765514,0.009797264821827412,0.00017984502483159304,0.008005581796169281,0.009432845748960972,0.004042973741889,0.008901093155145645],[0.5263665318489075,0.6450225114822388,0.012467680498957634,0.5271803140640259,0.6210541129112244,0.26655256748199463,0.5860797762870789],[0.014391533099114895,0.01763790287077427,0.00033151477691717446,0.014413797296583652,0.01698213815689087,0.0072831520810723305,0.016025258228182793],[0.27620911598205566,0.3384745121002197,0.006537796929478645,0.27663612365722656,0.3258969187736511,0.13987025618553162,0.30754396319389343],[0.35958942770957947,0.44065043330192566,0.008514294400811195,0.36014530062675476,0.42427611351013184,0.18209488689899445,0.4003830552101135],[0.2581997513771057,0.31640544533729553,0.006110892631113529,0.2585988938808441,0.30464789271354675,0.1307501345872879,0.2874915599822998],[0.0064749084413051605,0.007936707697808743,0.00014385431131813675,0.006484932731837034,0.007641424424946308,0.0032740908209234476,0.007210554089397192],[0.07868053019046783,0.09641895443201065,0.0018554601119831204,0.07880217581987381,0.09283579140901566,0.03983975946903229,0.08760732412338257],[0.2036571502685547,0.24956783652305603,0.004817981272935867,0.2039719969034195,0.24029389023780823,0.10312920063734055,0.22676154971122742],[0.0217275433242321,0.026627596467733383,0.0005054119392298162,0.021761149168014526,0.025637788698077202,0.010998181998729706,0.024193480610847473],[0.01089603640139103,0.013354448601603508,0.00024865538580343127,0.010912896133959293,0.012857850641012192,0.005512995645403862,0.012133224867284298],[0.6394152045249939,0.7835545539855957,0.015147452242672443,0.640403687953949,0.7544384598731995,0.32380151748657227,0.7119528651237488],[0.0006188221741467714,0.0007605409482493997,5.038105882704258e-06,0.0006197940092533827,0.0007319137803278863,0.0003085087810177356,0.0006901416345499456],[0.5680131912231445,0.6960572004318237,0.01345489826053381,0.5688913464546204,0.6701923608779907,0.28764286637306213,0.6324509382247925]],\"type\":\"heatmap\"}],                        {\"template\":{\"data\":{\"histogram2dcontour\":[{\"type\":\"histogram2dcontour\",\"colorbar\":{\"outlinewidth\":0,\"ticks\":\"\"},\"colorscale\":[[0.0,\"#0d0887\"],[0.1111111111111111,\"#46039f\"],[0.2222222222222222,\"#7201a8\"],[0.3333333333333333,\"#9c179e\"],[0.4444444444444444,\"#bd3786\"],[0.5555555555555556,\"#d8576b\"],[0.6666666666666666,\"#ed7953\"],[0.7777777777777778,\"#fb9f3a\"],[0.8888888888888888,\"#fdca26\"],[1.0,\"#f0f921\"]]}],\"choropleth\":[{\"type\":\"choropleth\",\"colorbar\":{\"outlinewidth\":0,\"ticks\":\"\"}}],\"histogram2d\":[{\"type\":\"histogram2d\",\"colorbar\":{\"outlinewidth\":0,\"ticks\":\"\"},\"colorscale\":[[0.0,\"#0d0887\"],[0.1111111111111111,\"#46039f\"],[0.2222222222222222,\"#7201a8\"],[0.3333333333333333,\"#9c179e\"],[0.4444444444444444,\"#bd3786\"],[0.5555555555555556,\"#d8576b\"],[0.6666666666666666,\"#ed7953\"],[0.7777777777777778,\"#fb9f3a\"],[0.8888888888888888,\"#fdca26\"],[1.0,\"#f0f921\"]]}],\"heatmap\":[{\"type\":\"heatmap\",\"colorbar\":{\"outlinewidth\":0,\"ticks\":\"\"},\"colorscale\":[[0.0,\"#0d0887\"],[0.1111111111111111,\"#46039f\"],[0.2222222222222222,\"#7201a8\"],[0.3333333333333333,\"#9c179e\"],[0.4444444444444444,\"#bd3786\"],[0.5555555555555556,\"#d8576b\"],[0.6666666666666666,\"#ed7953\"],[0.7777777777777778,\"#fb9f3a\"],[0.8888888888888888,\"#fdca26\"],[1.0,\"#f0f921\"]]}],\"heatmapgl\":[{\"type\":\"heatmapgl\",\"colorbar\":{\"outlinewidth\":0,\"ticks\":\"\"},\"colorscale\":[[0.0,\"#0d0887\"],[0.1111111111111111,\"#46039f\"],[0.2222222222222222,\"#7201a8\"],[0.3333333333333333,\"#9c179e\"],[0.4444444444444444,\"#bd3786\"],[0.5555555555555556,\"#d8576b\"],[0.6666666666666666,\"#ed7953\"],[0.7777777777777778,\"#fb9f3a\"],[0.8888888888888888,\"#fdca26\"],[1.0,\"#f0f921\"]]}],\"contourcarpet\":[{\"type\":\"contourcarpet\",\"colorbar\":{\"outlinewidth\":0,\"ticks\":\"\"}}],\"contour\":[{\"type\":\"contour\",\"colorbar\":{\"outlinewidth\":0,\"ticks\":\"\"},\"colorscale\":[[0.0,\"#0d0887\"],[0.1111111111111111,\"#46039f\"],[0.2222222222222222,\"#7201a8\"],[0.3333333333333333,\"#9c179e\"],[0.4444444444444444,\"#bd3786\"],[0.5555555555555556,\"#d8576b\"],[0.6666666666666666,\"#ed7953\"],[0.7777777777777778,\"#fb9f3a\"],[0.8888888888888888,\"#fdca26\"],[1.0,\"#f0f921\"]]}],\"surface\":[{\"type\":\"surface\",\"colorbar\":{\"outlinewidth\":0,\"ticks\":\"\"},\"colorscale\":[[0.0,\"#0d0887\"],[0.1111111111111111,\"#46039f\"],[0.2222222222222222,\"#7201a8\"],[0.3333333333333333,\"#9c179e\"],[0.4444444444444444,\"#bd3786\"],[0.5555555555555556,\"#d8576b\"],[0.6666666666666666,\"#ed7953\"],[0.7777777777777778,\"#fb9f3a\"],[0.8888888888888888,\"#fdca26\"],[1.0,\"#f0f921\"]]}],\"mesh3d\":[{\"type\":\"mesh3d\",\"colorbar\":{\"outlinewidth\":0,\"ticks\":\"\"}}],\"scatter\":[{\"fillpattern\":{\"fillmode\":\"overlay\",\"size\":10,\"solidity\":0.2},\"type\":\"scatter\"}],\"parcoords\":[{\"type\":\"parcoords\",\"line\":{\"colorbar\":{\"outlinewidth\":0,\"ticks\":\"\"}}}],\"scatterpolargl\":[{\"type\":\"scatterpolargl\",\"marker\":{\"colorbar\":{\"outlinewidth\":0,\"ticks\":\"\"}}}],\"bar\":[{\"error_x\":{\"color\":\"#2a3f5f\"},\"error_y\":{\"color\":\"#2a3f5f\"},\"marker\":{\"line\":{\"color\":\"#E5ECF6\",\"width\":0.5},\"pattern\":{\"fillmode\":\"overlay\",\"size\":10,\"solidity\":0.2}},\"type\":\"bar\"}],\"scattergeo\":[{\"type\":\"scattergeo\",\"marker\":{\"colorbar\":{\"outlinewidth\":0,\"ticks\":\"\"}}}],\"scatterpolar\":[{\"type\":\"scatterpolar\",\"marker\":{\"colorbar\":{\"outlinewidth\":0,\"ticks\":\"\"}}}],\"histogram\":[{\"marker\":{\"pattern\":{\"fillmode\":\"overlay\",\"size\":10,\"solidity\":0.2}},\"type\":\"histogram\"}],\"scattergl\":[{\"type\":\"scattergl\",\"marker\":{\"colorbar\":{\"outlinewidth\":0,\"ticks\":\"\"}}}],\"scatter3d\":[{\"type\":\"scatter3d\",\"line\":{\"colorbar\":{\"outlinewidth\":0,\"ticks\":\"\"}},\"marker\":{\"colorbar\":{\"outlinewidth\":0,\"ticks\":\"\"}}}],\"scattermapbox\":[{\"type\":\"scattermapbox\",\"marker\":{\"colorbar\":{\"outlinewidth\":0,\"ticks\":\"\"}}}],\"scatterternary\":[{\"type\":\"scatterternary\",\"marker\":{\"colorbar\":{\"outlinewidth\":0,\"ticks\":\"\"}}}],\"scattercarpet\":[{\"type\":\"scattercarpet\",\"marker\":{\"colorbar\":{\"outlinewidth\":0,\"ticks\":\"\"}}}],\"carpet\":[{\"aaxis\":{\"endlinecolor\":\"#2a3f5f\",\"gridcolor\":\"white\",\"linecolor\":\"white\",\"minorgridcolor\":\"white\",\"startlinecolor\":\"#2a3f5f\"},\"baxis\":{\"endlinecolor\":\"#2a3f5f\",\"gridcolor\":\"white\",\"linecolor\":\"white\",\"minorgridcolor\":\"white\",\"startlinecolor\":\"#2a3f5f\"},\"type\":\"carpet\"}],\"table\":[{\"cells\":{\"fill\":{\"color\":\"#EBF0F8\"},\"line\":{\"color\":\"white\"}},\"header\":{\"fill\":{\"color\":\"#C8D4E3\"},\"line\":{\"color\":\"white\"}},\"type\":\"table\"}],\"barpolar\":[{\"marker\":{\"line\":{\"color\":\"#E5ECF6\",\"width\":0.5},\"pattern\":{\"fillmode\":\"overlay\",\"size\":10,\"solidity\":0.2}},\"type\":\"barpolar\"}],\"pie\":[{\"automargin\":true,\"type\":\"pie\"}]},\"layout\":{\"autotypenumbers\":\"strict\",\"colorway\":[\"#636efa\",\"#EF553B\",\"#00cc96\",\"#ab63fa\",\"#FFA15A\",\"#19d3f3\",\"#FF6692\",\"#B6E880\",\"#FF97FF\",\"#FECB52\"],\"font\":{\"color\":\"#2a3f5f\"},\"hovermode\":\"closest\",\"hoverlabel\":{\"align\":\"left\"},\"paper_bgcolor\":\"white\",\"plot_bgcolor\":\"#E5ECF6\",\"polar\":{\"bgcolor\":\"#E5ECF6\",\"angularaxis\":{\"gridcolor\":\"white\",\"linecolor\":\"white\",\"ticks\":\"\"},\"radialaxis\":{\"gridcolor\":\"white\",\"linecolor\":\"white\",\"ticks\":\"\"}},\"ternary\":{\"bgcolor\":\"#E5ECF6\",\"aaxis\":{\"gridcolor\":\"white\",\"linecolor\":\"white\",\"ticks\":\"\"},\"baxis\":{\"gridcolor\":\"white\",\"linecolor\":\"white\",\"ticks\":\"\"},\"caxis\":{\"gridcolor\":\"white\",\"linecolor\":\"white\",\"ticks\":\"\"}},\"coloraxis\":{\"colorbar\":{\"outlinewidth\":0,\"ticks\":\"\"}},\"colorscale\":{\"sequential\":[[0.0,\"#0d0887\"],[0.1111111111111111,\"#46039f\"],[0.2222222222222222,\"#7201a8\"],[0.3333333333333333,\"#9c179e\"],[0.4444444444444444,\"#bd3786\"],[0.5555555555555556,\"#d8576b\"],[0.6666666666666666,\"#ed7953\"],[0.7777777777777778,\"#fb9f3a\"],[0.8888888888888888,\"#fdca26\"],[1.0,\"#f0f921\"]],\"sequentialminus\":[[0.0,\"#0d0887\"],[0.1111111111111111,\"#46039f\"],[0.2222222222222222,\"#7201a8\"],[0.3333333333333333,\"#9c179e\"],[0.4444444444444444,\"#bd3786\"],[0.5555555555555556,\"#d8576b\"],[0.6666666666666666,\"#ed7953\"],[0.7777777777777778,\"#fb9f3a\"],[0.8888888888888888,\"#fdca26\"],[1.0,\"#f0f921\"]],\"diverging\":[[0,\"#8e0152\"],[0.1,\"#c51b7d\"],[0.2,\"#de77ae\"],[0.3,\"#f1b6da\"],[0.4,\"#fde0ef\"],[0.5,\"#f7f7f7\"],[0.6,\"#e6f5d0\"],[0.7,\"#b8e186\"],[0.8,\"#7fbc41\"],[0.9,\"#4d9221\"],[1,\"#276419\"]]},\"xaxis\":{\"gridcolor\":\"white\",\"linecolor\":\"white\",\"ticks\":\"\",\"title\":{\"standoff\":15},\"zerolinecolor\":\"white\",\"automargin\":true,\"zerolinewidth\":2},\"yaxis\":{\"gridcolor\":\"white\",\"linecolor\":\"white\",\"ticks\":\"\",\"title\":{\"standoff\":15},\"zerolinecolor\":\"white\",\"automargin\":true,\"zerolinewidth\":2},\"scene\":{\"xaxis\":{\"backgroundcolor\":\"#E5ECF6\",\"gridcolor\":\"white\",\"linecolor\":\"white\",\"showbackground\":true,\"ticks\":\"\",\"zerolinecolor\":\"white\",\"gridwidth\":2},\"yaxis\":{\"backgroundcolor\":\"#E5ECF6\",\"gridcolor\":\"white\",\"linecolor\":\"white\",\"showbackground\":true,\"ticks\":\"\",\"zerolinecolor\":\"white\",\"gridwidth\":2},\"zaxis\":{\"backgroundcolor\":\"#E5ECF6\",\"gridcolor\":\"white\",\"linecolor\":\"white\",\"showbackground\":true,\"ticks\":\"\",\"zerolinecolor\":\"white\",\"gridwidth\":2}},\"shapedefaults\":{\"line\":{\"color\":\"#2a3f5f\"}},\"annotationdefaults\":{\"arrowcolor\":\"#2a3f5f\",\"arrowhead\":0,\"arrowwidth\":1},\"geo\":{\"bgcolor\":\"white\",\"landcolor\":\"#E5ECF6\",\"subunitcolor\":\"white\",\"showland\":true,\"showlakes\":true,\"lakecolor\":\"white\"},\"title\":{\"x\":0.05},\"mapbox\":{\"style\":\"light\"}}}},                        {\"responsive\": true}                    ).then(function(){\n",
       "                            \n",
       "var gd = document.getElementById('5ad0649f-6c84-4e7e-908b-c46e39bb8986');\n",
       "var x = new MutationObserver(function (mutations, observer) {{\n",
       "        var display = window.getComputedStyle(gd).display;\n",
       "        if (!display || display === 'none') {{\n",
       "            console.log([gd, 'removed!']);\n",
       "            Plotly.purge(gd);\n",
       "            observer.disconnect();\n",
       "        }}\n",
       "}});\n",
       "\n",
       "// Listen for the removal of the full notebook cells\n",
       "var notebookContainer = gd.closest('#notebook-container');\n",
       "if (notebookContainer) {{\n",
       "    x.observe(notebookContainer, {childList: true});\n",
       "}}\n",
       "\n",
       "// Listen for the clearing of the current output cell\n",
       "var outputEl = gd.closest('.output');\n",
       "if (outputEl) {{\n",
       "    x.observe(outputEl, {childList: true});\n",
       "}}\n",
       "\n",
       "                        })                };                });            </script>        </div>"
      ]
     },
     "metadata": {},
     "output_type": "display_data"
    }
   ],
   "source": [
    "fig = go.Figure()\n",
    "fig.add_trace(go.Heatmap(z = D_og[110, :, :]))"
   ]
  },
  {
   "cell_type": "code",
   "execution_count": null,
   "id": "c89b5b4d",
   "metadata": {},
   "outputs": [],
   "source": []
  }
 ],
 "metadata": {
  "kernelspec": {
   "display_name": "Python 3 (ipykernel)",
   "language": "python",
   "name": "python3"
  },
  "language_info": {
   "codemirror_mode": {
    "name": "ipython",
    "version": 3
   },
   "file_extension": ".py",
   "mimetype": "text/x-python",
   "name": "python",
   "nbconvert_exporter": "python",
   "pygments_lexer": "ipython3",
   "version": "3.10.8"
  },
  "toc": {
   "base_numbering": 1,
   "nav_menu": {},
   "number_sections": true,
   "sideBar": true,
   "skip_h1_title": false,
   "title_cell": "Table of Contents",
   "title_sidebar": "Contents",
   "toc_cell": false,
   "toc_position": {},
   "toc_section_display": true,
   "toc_window_display": false
  }
 },
 "nbformat": 4,
 "nbformat_minor": 5
}
