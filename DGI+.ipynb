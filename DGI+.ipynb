{
 "cells": [
  {
   "cell_type": "markdown",
   "id": "0369cae7",
   "metadata": {},
   "source": [
    "### Imports"
   ]
  },
  {
   "cell_type": "code",
   "execution_count": 45,
   "id": "707c0344",
   "metadata": {},
   "outputs": [],
   "source": [
    "import numpy as np\n",
    "import scipy.sparse as sp\n",
    "import torch\n",
    "import torch.nn as nn\n",
    "import pickle as pkl\n",
    "import networkx as nx\n",
    "\n",
    "from tqdm import tqdm\n",
    "from DGI.models import DGI, LogReg\n",
    "from DGI.utils import process\n",
    "from tensorflow.keras.optimizers import Adam, Nadam\n",
    "\n",
    "from scripts.utils import *"
   ]
  },
  {
   "cell_type": "markdown",
   "id": "ba79c95f",
   "metadata": {},
   "source": [
    "### Class Definitions"
   ]
  },
  {
   "cell_type": "code",
   "execution_count": 46,
   "id": "4f9319bf",
   "metadata": {},
   "outputs": [],
   "source": [
    "class BaseEmbedder:\n",
    "    def __init__(self, graph, embed_shape = (128,)):\n",
    "        self.embed(graph)\n",
    "        self.E = list(graph.edges())\n",
    "        self.graph = graph\n",
    "        self.embed_shape = embed_shape\n",
    "    \n",
    "    def embed(self, graph):\n",
    "        raise NotImplementedError\n",
    "    \n",
    "    def get_embedding(self):\n",
    "        raise NotImplementedError\n",
    "        "
   ]
  },
  {
   "cell_type": "code",
   "execution_count": 59,
   "id": "41610868",
   "metadata": {},
   "outputs": [],
   "source": [
    "class DGIEmbedding(BaseEmbedder):\n",
    "    def __init__(self, embed_dim = 64, graph = None, feature_matrix = None, use_xm = False, debug = False, batch_size = 1, nb_epochs = 2500, patience = 20, ortho_ = 0.1, sparse_ = 0.1, lr = 1e-3, l2_coef = 0.0, drop_prob = 0.0, sparse = True, nonlinearity = 'prelu'):\n",
    "\n",
    "        self.embed_dim = embed_dim\n",
    "        self.debug = debug\n",
    "        \n",
    "        # Training Params\n",
    "        self.graph = graph\n",
    "        self.batch_size = batch_size\n",
    "        self.nb_epochs = nb_epochs\n",
    "        self.patience = patience\n",
    "        self.lr = lr\n",
    "        self.l2_coef = l2_coef\n",
    "        self.feature_matrix = feature_matrix\n",
    "        self.drop_prob = drop_prob\n",
    "        self.hid_units = embed_dim\n",
    "        self.sparse = sparse\n",
    "        self.nonlinearity = nonlinearity\n",
    "        self.use_xm = use_xm\n",
    "        self.ortho_ = ortho_\n",
    "        self.sparse_ = sparse_\n",
    "        \n",
    "        self.time_per_epoch = None\n",
    "        \n",
    "        if graph is not None:\n",
    "            self.embed()\n",
    "        else:\n",
    "            self.graph = None\n",
    "    \n",
    "    def embed(self):\n",
    "\n",
    "        \n",
    "        if self.feature_matrix is None:\n",
    "            feature_matrix = np.identity(len(self.graph))\n",
    "        else: \n",
    "            feature_matrix = self.feature_matrix\n",
    "\n",
    "        adj = nx.to_scipy_sparse_array(self.graph)\n",
    "        features = sp.lil_matrix(feature_matrix)\n",
    "        features, _ = process.preprocess_features(features)\n",
    "\n",
    "        nb_nodes = features.shape[0]\n",
    "        ft_size = features.shape[1]\n",
    "\n",
    "        adj = process.normalize_adj(adj + sp.eye(adj.shape[0]))\n",
    "\n",
    "        if self.sparse:\n",
    "            sp_adj = process.sparse_mx_to_torch_sparse_tensor(adj)\n",
    "        else:\n",
    "            adj = (adj + sp.eye(adj.shape[0])).todense()\n",
    "\n",
    "        features = torch.FloatTensor(features[np.newaxis])\n",
    "        if not self.sparse:\n",
    "            adj = torch.FloatTensor(adj[np.newaxis])\n",
    "\n",
    "        if self.feature_matrix is not None: \n",
    "            sense_features = torch.FloatTensor(self.feature_matrix)\n",
    "\n",
    "\n",
    "        model = DGI(ft_size, self.hid_units, self.nonlinearity)\n",
    "        optimiser = torch.optim.Adam(model.parameters(), lr = self.lr, weight_decay = self.l2_coef)\n",
    "    \n",
    "\n",
    "        b_xent = nn.BCEWithLogitsLoss()\n",
    "        xent = nn.CrossEntropyLoss()\n",
    "        cnt_wait = 0\n",
    "        best = 1e9\n",
    "        best_t = 0\n",
    "        \n",
    "        start_time = time.time()\n",
    "        for epoch in tqdm(range(self.nb_epochs)):\n",
    "            model.train()\n",
    "            optimiser.zero_grad()\n",
    "\n",
    "            idx = np.random.permutation(nb_nodes)\n",
    "            shuf_fts = features[:, idx, :]\n",
    "\n",
    "            lbl_1 = torch.ones(self.batch_size, nb_nodes)\n",
    "            lbl_2 = torch.zeros(self.batch_size, nb_nodes)\n",
    "            lbl = torch.cat((lbl_1, lbl_2), 1)\n",
    "\n",
    "            if torch.cuda.is_available():\n",
    "                shuf_fts = shuf_fts.cuda()\n",
    "                lbl = lbl.cuda()\n",
    "\n",
    "            logits = model(features, shuf_fts, sp_adj if self.sparse else adj, self.sparse, None, None, None) \n",
    "            \n",
    "            if self.use_xm == True and feature_matrix is not None:\n",
    "                \n",
    "                start_idx = 0\n",
    "                loop = True\n",
    "                \n",
    "                ortho_loss = 0\n",
    "                sparse_loss = 0\n",
    "                xm_batch_size = 128\n",
    "                \n",
    "                sf = sense_features\n",
    "                embeds, _ = model.embed(sf, sp_adj if self.sparse else adj, self.sparse, None)\n",
    "                                \n",
    "                while loop:\n",
    "                    end_idx = start_idx + xm_batch_size\n",
    "                    if end_idx > len(self.graph):\n",
    "                        loop = False\n",
    "                        end_idx = len(self.graph)\n",
    "                        \n",
    "                    \n",
    "                    sf = sense_features[start_idx : end_idx]\n",
    "                    embeds_ = torch.squeeze(embeds)[start_idx : end_idx]\n",
    "                    \n",
    "                    \n",
    "                    sense_mat = torch.einsum('ij, ik -> ijk', embeds_, sf)\n",
    "                    E = sense_mat\n",
    "                    y_norm = torch.diagonal(torch.matmul(logits, torch.transpose(logits, 0, 1)))\n",
    "                    sense_norm = torch.diagonal(torch.matmul(sf, torch.transpose(sf, 0, 1)))\n",
    "                    norm = torch.multiply(y_norm, sense_norm)\n",
    "                    E = torch.transpose(torch.transpose(E, 0, 2) / norm, 0, 2)\n",
    "\n",
    "                    E_t = torch.transpose(E, 1, 2)\n",
    "                    E_o = torch.einsum('aij, ajh -> aih', E, E_t)\n",
    "                    E_o = torch.sum(E_o)\n",
    "                    batch_ortho_loss = (self.ortho_ * E_o) / self.batch_size\n",
    "\n",
    "                    batch_sparse_loss = (self.sparse_ * torch.sum(torch.linalg.norm(E, ord = 1, axis = 0))) / self.batch_size\n",
    "                        \n",
    "                    ortho_loss += batch_ortho_loss\n",
    "                    sparse_loss += batch_sparse_loss\n",
    "                    \n",
    "                    start_idx = end_idx\n",
    "                    \n",
    "                loss = b_xent(logits, lbl) + ortho_loss + sparse_loss\n",
    "            else:\n",
    "                loss = b_xent(logits, lbl)\n",
    "\n",
    "            if self.debug:\n",
    "                print('Loss:', loss)\n",
    "\n",
    "            if loss < best:\n",
    "                best = loss\n",
    "                best_t = epoch\n",
    "                cnt_wait = 0\n",
    "                torch.save(model.state_dict(), 'best_dgi.pkl')\n",
    "            else:\n",
    "                cnt_wait += 1\n",
    "\n",
    "            if cnt_wait == self.patience:\n",
    "                if self.debug: \n",
    "                    print('Early stopping!')\n",
    "                break\n",
    "\n",
    "            loss.backward()\n",
    "            optimiser.step()\n",
    "            \n",
    "        self.time_per_epoch = (time.time() - start_time) / epoch\n",
    "\n",
    "        if self.debug: \n",
    "            print('Loading {}th epoch'.format(best_t))\n",
    "        model.load_state_dict(torch.load('best_dgi.pkl'))\n",
    "\n",
    "        self.node_model = model\n",
    "        self.fitted = True\n",
    "\n",
    "        embeds, _ = model.embed(features, sp_adj if self.sparse else adj, self.sparse, None)\n",
    "        self.embeddings = embeds\n",
    "    \n",
    "    def get_embedding(self):\n",
    "        return np.squeeze(self.embeddings.numpy())\n",
    "    "
   ]
  },
  {
   "cell_type": "code",
   "execution_count": null,
   "id": "b1e51f5c",
   "metadata": {},
   "outputs": [],
   "source": []
  },
  {
   "cell_type": "code",
   "execution_count": 48,
   "id": "bd8df723",
   "metadata": {},
   "outputs": [
    {
     "name": "stdout",
     "output_type": "stream",
     "text": [
      "Calculating Personalized Page Rank...                     \r"
     ]
    },
    {
     "name": "stderr",
     "output_type": "stream",
     "text": [
      "986it [00:24, 40.93it/s]\n"
     ]
    },
    {
     "name": "stdout",
     "output_type": "stream",
     "text": [
      "Done                                                      \r"
     ]
    },
    {
     "name": "stderr",
     "output_type": "stream",
     "text": [
      "/Users/zohairshafi/miniforge3/lib/python3.10/site-packages/networkx/algorithms/centrality/katz.py:325: FutureWarning:\n",
      "\n",
      "adjacency_matrix will return a scipy.sparse array instead of a matrix in Networkx 3.0.\n",
      "\n"
     ]
    }
   ],
   "source": [
    "with open('./data/email.pkl', 'rb') as file: \n",
    "    graph_dict = pkl.load(file)\n",
    "    \n",
    "graph = nx.Graph(nx.to_numpy_array(graph_dict['graph']))    \n",
    "graph = nx.Graph(nx.to_numpy_array(graph))\n",
    "\n",
    "\n",
    "sense_feat_dict, sense_features = get_sense_features(graph, ppr_flag = 'std')\n"
   ]
  },
  {
   "cell_type": "code",
   "execution_count": 49,
   "id": "fc3e2eaf",
   "metadata": {},
   "outputs": [],
   "source": [
    "uncorrelated_feats = ['Degree',\n",
    "                    'Clustering Coefficient',\n",
    "                    'Personalized Page Rank - Standard Deviation',\n",
    "                    'Average Neighbor Degree',\n",
    "                    'Average Neighbor Clustering',\n",
    "                    'Eccentricity',\n",
    "                    'Katz Centrality']\n",
    "sense_features = sense_features[:, [list(sense_feat_dict).index(feat) for feat in uncorrelated_feats]]\n",
    "sense_feat_dict = {feat : idx for idx, feat in enumerate(uncorrelated_feats)}"
   ]
  },
  {
   "cell_type": "code",
   "execution_count": 60,
   "id": "b6a984b4",
   "metadata": {},
   "outputs": [
    {
     "name": "stderr",
     "output_type": "stream",
     "text": [
      " 10%|███▋                                   | 238/2500 [00:02<00:21, 106.89it/s]\n",
      " 12%|████▋                                   | 296/2500 [00:10<01:16, 28.98it/s]\n"
     ]
    }
   ],
   "source": [
    "dgi_og = DGIEmbedding(graph = graph, \n",
    "           embed_dim = 64, \n",
    "           feature_matrix = sense_features, \n",
    "           use_xm = False, \n",
    "           ortho_ = 0, \n",
    "           sparse_ = 0, \n",
    "           batch_size = 1)\n",
    "embed_og = dgi_og.get_embedding()\n",
    "embed_og = (embed_og - np.min(embed_og)) / np.ptp(embed_og)\n",
    "feature_dict_og = find_feature_membership(input_embed = embed_og,\n",
    "                                                    embed_name = 'DGI-SF',\n",
    "                                                    sense_features = sense_features,\n",
    "                                                    sense_feat_dict = sense_feat_dict,\n",
    "                                                    top_k = 8,\n",
    "                                                    solver = 'nmf')\n",
    "\n",
    "explain_og = feature_dict_og['explain_norm']\n",
    "error_og = sense_features * np.log((sense_features + 1e-10) / ((embed_og @ feature_dict_og['explain_norm']) + 1e-10)) - sense_features + (embed_og @ feature_dict_og['explain_norm'])\n",
    "explain_og = (explain_og - np.min(explain_og)) / np.ptp(explain_og)\n",
    "\n",
    "\n",
    "dgi_plus = DGIEmbedding(graph = graph, \n",
    "           embed_dim = 64, \n",
    "           feature_matrix = sense_features, \n",
    "           use_xm = True, \n",
    "           ortho_ = 10, \n",
    "           sparse_ = 1, \n",
    "           batch_size = 1)\n",
    "embed_plus = dgi_plus.get_embedding()\n",
    "embed_plus = (embed_plus - np.min(embed_plus)) / np.ptp(embed_plus)\n",
    "feature_dict_plus = find_feature_membership(input_embed = embed_plus,\n",
    "                                                    embed_name = 'DGI+XM',\n",
    "                                                    sense_features = sense_features,\n",
    "                                                    sense_feat_dict = sense_feat_dict,\n",
    "                                                    top_k = 8,\n",
    "                                                    solver = 'nmf')\n",
    "\n",
    "explain_plus = feature_dict_plus['explain_norm']\n",
    "error_plus = sense_features * np.log((sense_features + 1e-10) / ((embed_plus @ feature_dict_plus['explain_norm']) + 1e-10)) - sense_features + (embed_plus @ feature_dict_plus['explain_norm'])\n",
    "explain_plus = (explain_plus - np.min(explain_plus)) / np.ptp(explain_plus)"
   ]
  },
  {
   "cell_type": "code",
   "execution_count": null,
   "id": "fc0dd519",
   "metadata": {},
   "outputs": [],
   "source": []
  },
  {
   "cell_type": "code",
   "execution_count": 61,
   "id": "f933eed2",
   "metadata": {},
   "outputs": [
    {
     "data": {
      "application/vnd.plotly.v1+json": {
       "config": {
        "plotlyServerURL": "https://plot.ly"
       },
       "data": [
        {
         "type": "heatmap",
         "x": [
          "Degree",
          "Clustering Coefficient",
          "Personalized Page Rank - Standard Deviation",
          "Average Neighbor Degree",
          "Average Neighbor Clustering",
          "Eccentricity",
          "Katz Centrality"
         ],
         "z": [
          [
           0,
           0,
           0,
           0,
           0,
           0,
           0
          ],
          [
           0,
           0,
           0,
           0,
           0,
           0,
           0
          ],
          [
           0,
           0,
           0,
           0,
           0,
           0,
           0
          ],
          [
           0,
           0,
           0,
           0,
           0,
           0,
           0
          ],
          [
           0,
           0,
           0,
           0,
           0,
           0,
           0
          ],
          [
           0,
           0,
           0,
           0.6535248756408691,
           0,
           0,
           0
          ],
          [
           0,
           0,
           0,
           0,
           0,
           0,
           0
          ],
          [
           0,
           0,
           0,
           0,
           0,
           0,
           0
          ],
          [
           0,
           0,
           0,
           0,
           0,
           0,
           0
          ],
          [
           0,
           0,
           0,
           0,
           0,
           0,
           0
          ],
          [
           0,
           0,
           0,
           0,
           0,
           0,
           0
          ],
          [
           0,
           0,
           0,
           0,
           0.1701996773481369,
           0,
           0
          ],
          [
           1,
           0,
           0,
           0,
           0,
           0,
           0
          ],
          [
           0,
           0,
           0,
           0,
           0,
           0,
           0
          ],
          [
           0,
           0,
           0,
           0,
           0,
           0,
           0
          ],
          [
           0,
           0,
           0,
           0,
           0,
           0,
           0
          ],
          [
           0,
           0,
           0,
           0,
           0,
           0,
           0
          ],
          [
           0,
           0,
           0,
           0,
           0,
           0,
           0
          ],
          [
           0,
           0,
           0,
           0.15519249439239502,
           0,
           0,
           0
          ],
          [
           0,
           0,
           0,
           0,
           0,
           0,
           0
          ],
          [
           0,
           0,
           0,
           0,
           0,
           0,
           0
          ],
          [
           0,
           0,
           0,
           0,
           0,
           0,
           0
          ],
          [
           0,
           0,
           0,
           0,
           0,
           0,
           0
          ],
          [
           0,
           0,
           0,
           0,
           0,
           0,
           0
          ],
          [
           0,
           0,
           0,
           0,
           0,
           0,
           0
          ],
          [
           0,
           0,
           0,
           0,
           0,
           0,
           0.6511254906654358
          ],
          [
           0,
           0,
           0,
           0,
           0,
           0,
           0
          ],
          [
           0,
           0,
           0,
           0,
           0,
           0,
           0
          ],
          [
           0,
           0,
           0,
           0,
           0,
           0,
           0
          ],
          [
           0,
           0,
           0,
           0,
           0,
           0,
           0
          ],
          [
           0,
           0,
           0,
           0,
           0,
           0,
           0
          ],
          [
           0,
           0,
           0.1615719199180603,
           0,
           0,
           0,
           0
          ],
          [
           0,
           0,
           0,
           0,
           0,
           0,
           0
          ],
          [
           0,
           0,
           0,
           0,
           0,
           0,
           0
          ],
          [
           0,
           0,
           0,
           0,
           0.4462936520576477,
           0,
           0
          ],
          [
           0,
           0.742508590221405,
           0,
           0,
           0,
           0,
           0.005312864203006029
          ],
          [
           0,
           0,
           0,
           0,
           0,
           0,
           0.02654392644762993
          ],
          [
           0,
           0,
           0,
           0,
           0,
           0,
           0.07156170904636383
          ],
          [
           0,
           0,
           0,
           0,
           0,
           0,
           0
          ],
          [
           0,
           0,
           0,
           0,
           0,
           0,
           0
          ],
          [
           0,
           0.7299432754516602,
           0,
           0,
           0,
           0,
           0.04447831213474274
          ],
          [
           0,
           0,
           0,
           0,
           0,
           0,
           0
          ],
          [
           0,
           0,
           0,
           0,
           0,
           0,
           0
          ],
          [
           0,
           0,
           0,
           0,
           0.23214727640151978,
           0.3026138246059418,
           0
          ],
          [
           0,
           0,
           0,
           0,
           0,
           0,
           0
          ],
          [
           0,
           0,
           0,
           0,
           0,
           0,
           0
          ],
          [
           0,
           0,
           0,
           0,
           0,
           0,
           0
          ],
          [
           0,
           0,
           0,
           0,
           0,
           0.6205750703811646,
           0
          ],
          [
           0,
           0,
           0,
           0,
           0,
           0,
           0
          ],
          [
           0,
           0,
           0,
           0,
           0,
           0,
           0
          ],
          [
           0,
           0,
           0,
           0,
           0,
           0,
           0
          ],
          [
           0,
           0.12609423696994781,
           0,
           0,
           0,
           0,
           0
          ],
          [
           0,
           0,
           0.25571805238723755,
           0,
           0,
           0,
           0
          ],
          [
           0,
           0,
           0,
           0,
           0,
           0,
           0
          ],
          [
           0,
           0,
           0.10237158834934235,
           0,
           0,
           0,
           0
          ],
          [
           0,
           0,
           0,
           0,
           0,
           0,
           0
          ],
          [
           0,
           0,
           0,
           0,
           0,
           0,
           0.33457136154174805
          ],
          [
           0.37613406777381897,
           0,
           0,
           0,
           0,
           0,
           0
          ],
          [
           0,
           0,
           0,
           0,
           0,
           0,
           0.046056117862463
          ],
          [
           0,
           0,
           0,
           0,
           0,
           0,
           0.06654098629951477
          ],
          [
           0,
           0,
           0,
           0,
           0,
           0,
           0
          ],
          [
           0,
           0,
           0.7003394365310669,
           0,
           0,
           0.3365742266178131,
           0
          ],
          [
           0,
           0,
           0,
           0,
           0,
           0,
           0.17774039506912231
          ],
          [
           0,
           0,
           0,
           0,
           0,
           0,
           0
          ]
         ]
        }
       ],
       "layout": {
        "template": {
         "data": {
          "bar": [
           {
            "error_x": {
             "color": "#2a3f5f"
            },
            "error_y": {
             "color": "#2a3f5f"
            },
            "marker": {
             "line": {
              "color": "#E5ECF6",
              "width": 0.5
             },
             "pattern": {
              "fillmode": "overlay",
              "size": 10,
              "solidity": 0.2
             }
            },
            "type": "bar"
           }
          ],
          "barpolar": [
           {
            "marker": {
             "line": {
              "color": "#E5ECF6",
              "width": 0.5
             },
             "pattern": {
              "fillmode": "overlay",
              "size": 10,
              "solidity": 0.2
             }
            },
            "type": "barpolar"
           }
          ],
          "carpet": [
           {
            "aaxis": {
             "endlinecolor": "#2a3f5f",
             "gridcolor": "white",
             "linecolor": "white",
             "minorgridcolor": "white",
             "startlinecolor": "#2a3f5f"
            },
            "baxis": {
             "endlinecolor": "#2a3f5f",
             "gridcolor": "white",
             "linecolor": "white",
             "minorgridcolor": "white",
             "startlinecolor": "#2a3f5f"
            },
            "type": "carpet"
           }
          ],
          "choropleth": [
           {
            "colorbar": {
             "outlinewidth": 0,
             "ticks": ""
            },
            "type": "choropleth"
           }
          ],
          "contour": [
           {
            "colorbar": {
             "outlinewidth": 0,
             "ticks": ""
            },
            "colorscale": [
             [
              0,
              "#0d0887"
             ],
             [
              0.1111111111111111,
              "#46039f"
             ],
             [
              0.2222222222222222,
              "#7201a8"
             ],
             [
              0.3333333333333333,
              "#9c179e"
             ],
             [
              0.4444444444444444,
              "#bd3786"
             ],
             [
              0.5555555555555556,
              "#d8576b"
             ],
             [
              0.6666666666666666,
              "#ed7953"
             ],
             [
              0.7777777777777778,
              "#fb9f3a"
             ],
             [
              0.8888888888888888,
              "#fdca26"
             ],
             [
              1,
              "#f0f921"
             ]
            ],
            "type": "contour"
           }
          ],
          "contourcarpet": [
           {
            "colorbar": {
             "outlinewidth": 0,
             "ticks": ""
            },
            "type": "contourcarpet"
           }
          ],
          "heatmap": [
           {
            "colorbar": {
             "outlinewidth": 0,
             "ticks": ""
            },
            "colorscale": [
             [
              0,
              "#0d0887"
             ],
             [
              0.1111111111111111,
              "#46039f"
             ],
             [
              0.2222222222222222,
              "#7201a8"
             ],
             [
              0.3333333333333333,
              "#9c179e"
             ],
             [
              0.4444444444444444,
              "#bd3786"
             ],
             [
              0.5555555555555556,
              "#d8576b"
             ],
             [
              0.6666666666666666,
              "#ed7953"
             ],
             [
              0.7777777777777778,
              "#fb9f3a"
             ],
             [
              0.8888888888888888,
              "#fdca26"
             ],
             [
              1,
              "#f0f921"
             ]
            ],
            "type": "heatmap"
           }
          ],
          "heatmapgl": [
           {
            "colorbar": {
             "outlinewidth": 0,
             "ticks": ""
            },
            "colorscale": [
             [
              0,
              "#0d0887"
             ],
             [
              0.1111111111111111,
              "#46039f"
             ],
             [
              0.2222222222222222,
              "#7201a8"
             ],
             [
              0.3333333333333333,
              "#9c179e"
             ],
             [
              0.4444444444444444,
              "#bd3786"
             ],
             [
              0.5555555555555556,
              "#d8576b"
             ],
             [
              0.6666666666666666,
              "#ed7953"
             ],
             [
              0.7777777777777778,
              "#fb9f3a"
             ],
             [
              0.8888888888888888,
              "#fdca26"
             ],
             [
              1,
              "#f0f921"
             ]
            ],
            "type": "heatmapgl"
           }
          ],
          "histogram": [
           {
            "marker": {
             "pattern": {
              "fillmode": "overlay",
              "size": 10,
              "solidity": 0.2
             }
            },
            "type": "histogram"
           }
          ],
          "histogram2d": [
           {
            "colorbar": {
             "outlinewidth": 0,
             "ticks": ""
            },
            "colorscale": [
             [
              0,
              "#0d0887"
             ],
             [
              0.1111111111111111,
              "#46039f"
             ],
             [
              0.2222222222222222,
              "#7201a8"
             ],
             [
              0.3333333333333333,
              "#9c179e"
             ],
             [
              0.4444444444444444,
              "#bd3786"
             ],
             [
              0.5555555555555556,
              "#d8576b"
             ],
             [
              0.6666666666666666,
              "#ed7953"
             ],
             [
              0.7777777777777778,
              "#fb9f3a"
             ],
             [
              0.8888888888888888,
              "#fdca26"
             ],
             [
              1,
              "#f0f921"
             ]
            ],
            "type": "histogram2d"
           }
          ],
          "histogram2dcontour": [
           {
            "colorbar": {
             "outlinewidth": 0,
             "ticks": ""
            },
            "colorscale": [
             [
              0,
              "#0d0887"
             ],
             [
              0.1111111111111111,
              "#46039f"
             ],
             [
              0.2222222222222222,
              "#7201a8"
             ],
             [
              0.3333333333333333,
              "#9c179e"
             ],
             [
              0.4444444444444444,
              "#bd3786"
             ],
             [
              0.5555555555555556,
              "#d8576b"
             ],
             [
              0.6666666666666666,
              "#ed7953"
             ],
             [
              0.7777777777777778,
              "#fb9f3a"
             ],
             [
              0.8888888888888888,
              "#fdca26"
             ],
             [
              1,
              "#f0f921"
             ]
            ],
            "type": "histogram2dcontour"
           }
          ],
          "mesh3d": [
           {
            "colorbar": {
             "outlinewidth": 0,
             "ticks": ""
            },
            "type": "mesh3d"
           }
          ],
          "parcoords": [
           {
            "line": {
             "colorbar": {
              "outlinewidth": 0,
              "ticks": ""
             }
            },
            "type": "parcoords"
           }
          ],
          "pie": [
           {
            "automargin": true,
            "type": "pie"
           }
          ],
          "scatter": [
           {
            "fillpattern": {
             "fillmode": "overlay",
             "size": 10,
             "solidity": 0.2
            },
            "type": "scatter"
           }
          ],
          "scatter3d": [
           {
            "line": {
             "colorbar": {
              "outlinewidth": 0,
              "ticks": ""
             }
            },
            "marker": {
             "colorbar": {
              "outlinewidth": 0,
              "ticks": ""
             }
            },
            "type": "scatter3d"
           }
          ],
          "scattercarpet": [
           {
            "marker": {
             "colorbar": {
              "outlinewidth": 0,
              "ticks": ""
             }
            },
            "type": "scattercarpet"
           }
          ],
          "scattergeo": [
           {
            "marker": {
             "colorbar": {
              "outlinewidth": 0,
              "ticks": ""
             }
            },
            "type": "scattergeo"
           }
          ],
          "scattergl": [
           {
            "marker": {
             "colorbar": {
              "outlinewidth": 0,
              "ticks": ""
             }
            },
            "type": "scattergl"
           }
          ],
          "scattermapbox": [
           {
            "marker": {
             "colorbar": {
              "outlinewidth": 0,
              "ticks": ""
             }
            },
            "type": "scattermapbox"
           }
          ],
          "scatterpolar": [
           {
            "marker": {
             "colorbar": {
              "outlinewidth": 0,
              "ticks": ""
             }
            },
            "type": "scatterpolar"
           }
          ],
          "scatterpolargl": [
           {
            "marker": {
             "colorbar": {
              "outlinewidth": 0,
              "ticks": ""
             }
            },
            "type": "scatterpolargl"
           }
          ],
          "scatterternary": [
           {
            "marker": {
             "colorbar": {
              "outlinewidth": 0,
              "ticks": ""
             }
            },
            "type": "scatterternary"
           }
          ],
          "surface": [
           {
            "colorbar": {
             "outlinewidth": 0,
             "ticks": ""
            },
            "colorscale": [
             [
              0,
              "#0d0887"
             ],
             [
              0.1111111111111111,
              "#46039f"
             ],
             [
              0.2222222222222222,
              "#7201a8"
             ],
             [
              0.3333333333333333,
              "#9c179e"
             ],
             [
              0.4444444444444444,
              "#bd3786"
             ],
             [
              0.5555555555555556,
              "#d8576b"
             ],
             [
              0.6666666666666666,
              "#ed7953"
             ],
             [
              0.7777777777777778,
              "#fb9f3a"
             ],
             [
              0.8888888888888888,
              "#fdca26"
             ],
             [
              1,
              "#f0f921"
             ]
            ],
            "type": "surface"
           }
          ],
          "table": [
           {
            "cells": {
             "fill": {
              "color": "#EBF0F8"
             },
             "line": {
              "color": "white"
             }
            },
            "header": {
             "fill": {
              "color": "#C8D4E3"
             },
             "line": {
              "color": "white"
             }
            },
            "type": "table"
           }
          ]
         },
         "layout": {
          "annotationdefaults": {
           "arrowcolor": "#2a3f5f",
           "arrowhead": 0,
           "arrowwidth": 1
          },
          "autotypenumbers": "strict",
          "coloraxis": {
           "colorbar": {
            "outlinewidth": 0,
            "ticks": ""
           }
          },
          "colorscale": {
           "diverging": [
            [
             0,
             "#8e0152"
            ],
            [
             0.1,
             "#c51b7d"
            ],
            [
             0.2,
             "#de77ae"
            ],
            [
             0.3,
             "#f1b6da"
            ],
            [
             0.4,
             "#fde0ef"
            ],
            [
             0.5,
             "#f7f7f7"
            ],
            [
             0.6,
             "#e6f5d0"
            ],
            [
             0.7,
             "#b8e186"
            ],
            [
             0.8,
             "#7fbc41"
            ],
            [
             0.9,
             "#4d9221"
            ],
            [
             1,
             "#276419"
            ]
           ],
           "sequential": [
            [
             0,
             "#0d0887"
            ],
            [
             0.1111111111111111,
             "#46039f"
            ],
            [
             0.2222222222222222,
             "#7201a8"
            ],
            [
             0.3333333333333333,
             "#9c179e"
            ],
            [
             0.4444444444444444,
             "#bd3786"
            ],
            [
             0.5555555555555556,
             "#d8576b"
            ],
            [
             0.6666666666666666,
             "#ed7953"
            ],
            [
             0.7777777777777778,
             "#fb9f3a"
            ],
            [
             0.8888888888888888,
             "#fdca26"
            ],
            [
             1,
             "#f0f921"
            ]
           ],
           "sequentialminus": [
            [
             0,
             "#0d0887"
            ],
            [
             0.1111111111111111,
             "#46039f"
            ],
            [
             0.2222222222222222,
             "#7201a8"
            ],
            [
             0.3333333333333333,
             "#9c179e"
            ],
            [
             0.4444444444444444,
             "#bd3786"
            ],
            [
             0.5555555555555556,
             "#d8576b"
            ],
            [
             0.6666666666666666,
             "#ed7953"
            ],
            [
             0.7777777777777778,
             "#fb9f3a"
            ],
            [
             0.8888888888888888,
             "#fdca26"
            ],
            [
             1,
             "#f0f921"
            ]
           ]
          },
          "colorway": [
           "#636efa",
           "#EF553B",
           "#00cc96",
           "#ab63fa",
           "#FFA15A",
           "#19d3f3",
           "#FF6692",
           "#B6E880",
           "#FF97FF",
           "#FECB52"
          ],
          "font": {
           "color": "#2a3f5f"
          },
          "geo": {
           "bgcolor": "white",
           "lakecolor": "white",
           "landcolor": "#E5ECF6",
           "showlakes": true,
           "showland": true,
           "subunitcolor": "white"
          },
          "hoverlabel": {
           "align": "left"
          },
          "hovermode": "closest",
          "mapbox": {
           "style": "light"
          },
          "paper_bgcolor": "white",
          "plot_bgcolor": "#E5ECF6",
          "polar": {
           "angularaxis": {
            "gridcolor": "white",
            "linecolor": "white",
            "ticks": ""
           },
           "bgcolor": "#E5ECF6",
           "radialaxis": {
            "gridcolor": "white",
            "linecolor": "white",
            "ticks": ""
           }
          },
          "scene": {
           "xaxis": {
            "backgroundcolor": "#E5ECF6",
            "gridcolor": "white",
            "gridwidth": 2,
            "linecolor": "white",
            "showbackground": true,
            "ticks": "",
            "zerolinecolor": "white"
           },
           "yaxis": {
            "backgroundcolor": "#E5ECF6",
            "gridcolor": "white",
            "gridwidth": 2,
            "linecolor": "white",
            "showbackground": true,
            "ticks": "",
            "zerolinecolor": "white"
           },
           "zaxis": {
            "backgroundcolor": "#E5ECF6",
            "gridcolor": "white",
            "gridwidth": 2,
            "linecolor": "white",
            "showbackground": true,
            "ticks": "",
            "zerolinecolor": "white"
           }
          },
          "shapedefaults": {
           "line": {
            "color": "#2a3f5f"
           }
          },
          "ternary": {
           "aaxis": {
            "gridcolor": "white",
            "linecolor": "white",
            "ticks": ""
           },
           "baxis": {
            "gridcolor": "white",
            "linecolor": "white",
            "ticks": ""
           },
           "bgcolor": "#E5ECF6",
           "caxis": {
            "gridcolor": "white",
            "linecolor": "white",
            "ticks": ""
           }
          },
          "title": {
           "x": 0.05
          },
          "xaxis": {
           "automargin": true,
           "gridcolor": "white",
           "linecolor": "white",
           "ticks": "",
           "title": {
            "standoff": 15
           },
           "zerolinecolor": "white",
           "zerolinewidth": 2
          },
          "yaxis": {
           "automargin": true,
           "gridcolor": "white",
           "linecolor": "white",
           "ticks": "",
           "title": {
            "standoff": 15
           },
           "zerolinecolor": "white",
           "zerolinewidth": 2
          }
         }
        },
        "title": {
         "text": "DGI : 5.5826383"
        },
        "xaxis": {
         "title": {
          "text": "Sense Features"
         }
        },
        "yaxis": {
         "title": {
          "text": "Dimensions"
         }
        }
       }
      },
      "text/html": [
       "<div>                            <div id=\"2d8ded8b-fe84-42c0-b76f-2bcc6ae713e9\" class=\"plotly-graph-div\" style=\"height:525px; width:100%;\"></div>            <script type=\"text/javascript\">                require([\"plotly\"], function(Plotly) {                    window.PLOTLYENV=window.PLOTLYENV || {};                                    if (document.getElementById(\"2d8ded8b-fe84-42c0-b76f-2bcc6ae713e9\")) {                    Plotly.newPlot(                        \"2d8ded8b-fe84-42c0-b76f-2bcc6ae713e9\",                        [{\"x\":[\"Degree\",\"Clustering Coefficient\",\"Personalized Page Rank - Standard Deviation\",\"Average Neighbor Degree\",\"Average Neighbor Clustering\",\"Eccentricity\",\"Katz Centrality\"],\"z\":[[0.0,0.0,0.0,0.0,0.0,0.0,0.0],[0.0,0.0,0.0,0.0,0.0,0.0,0.0],[0.0,0.0,0.0,0.0,0.0,0.0,0.0],[0.0,0.0,0.0,0.0,0.0,0.0,0.0],[0.0,0.0,0.0,0.0,0.0,0.0,0.0],[0.0,0.0,0.0,0.6535248756408691,0.0,0.0,0.0],[0.0,0.0,0.0,0.0,0.0,0.0,0.0],[0.0,0.0,0.0,0.0,0.0,0.0,0.0],[0.0,0.0,0.0,0.0,0.0,0.0,0.0],[0.0,0.0,0.0,0.0,0.0,0.0,0.0],[0.0,0.0,0.0,0.0,0.0,0.0,0.0],[0.0,0.0,0.0,0.0,0.1701996773481369,0.0,0.0],[1.0,0.0,0.0,0.0,0.0,0.0,0.0],[0.0,0.0,0.0,0.0,0.0,0.0,0.0],[0.0,0.0,0.0,0.0,0.0,0.0,0.0],[0.0,0.0,0.0,0.0,0.0,0.0,0.0],[0.0,0.0,0.0,0.0,0.0,0.0,0.0],[0.0,0.0,0.0,0.0,0.0,0.0,0.0],[0.0,0.0,0.0,0.15519249439239502,0.0,0.0,0.0],[0.0,0.0,0.0,0.0,0.0,0.0,0.0],[0.0,0.0,0.0,0.0,0.0,0.0,0.0],[0.0,0.0,0.0,0.0,0.0,0.0,0.0],[0.0,0.0,0.0,0.0,0.0,0.0,0.0],[0.0,0.0,0.0,0.0,0.0,0.0,0.0],[0.0,0.0,0.0,0.0,0.0,0.0,0.0],[0.0,0.0,0.0,0.0,0.0,0.0,0.6511254906654358],[0.0,0.0,0.0,0.0,0.0,0.0,0.0],[0.0,0.0,0.0,0.0,0.0,0.0,0.0],[0.0,0.0,0.0,0.0,0.0,0.0,0.0],[0.0,0.0,0.0,0.0,0.0,0.0,0.0],[0.0,0.0,0.0,0.0,0.0,0.0,0.0],[0.0,0.0,0.1615719199180603,0.0,0.0,0.0,0.0],[0.0,0.0,0.0,0.0,0.0,0.0,0.0],[0.0,0.0,0.0,0.0,0.0,0.0,0.0],[0.0,0.0,0.0,0.0,0.4462936520576477,0.0,0.0],[0.0,0.742508590221405,0.0,0.0,0.0,0.0,0.005312864203006029],[0.0,0.0,0.0,0.0,0.0,0.0,0.02654392644762993],[0.0,0.0,0.0,0.0,0.0,0.0,0.07156170904636383],[0.0,0.0,0.0,0.0,0.0,0.0,0.0],[0.0,0.0,0.0,0.0,0.0,0.0,0.0],[0.0,0.7299432754516602,0.0,0.0,0.0,0.0,0.04447831213474274],[0.0,0.0,0.0,0.0,0.0,0.0,0.0],[0.0,0.0,0.0,0.0,0.0,0.0,0.0],[0.0,0.0,0.0,0.0,0.23214727640151978,0.3026138246059418,0.0],[0.0,0.0,0.0,0.0,0.0,0.0,0.0],[0.0,0.0,0.0,0.0,0.0,0.0,0.0],[0.0,0.0,0.0,0.0,0.0,0.0,0.0],[0.0,0.0,0.0,0.0,0.0,0.6205750703811646,0.0],[0.0,0.0,0.0,0.0,0.0,0.0,0.0],[0.0,0.0,0.0,0.0,0.0,0.0,0.0],[0.0,0.0,0.0,0.0,0.0,0.0,0.0],[0.0,0.12609423696994781,0.0,0.0,0.0,0.0,0.0],[0.0,0.0,0.25571805238723755,0.0,0.0,0.0,0.0],[0.0,0.0,0.0,0.0,0.0,0.0,0.0],[0.0,0.0,0.10237158834934235,0.0,0.0,0.0,0.0],[0.0,0.0,0.0,0.0,0.0,0.0,0.0],[0.0,0.0,0.0,0.0,0.0,0.0,0.33457136154174805],[0.37613406777381897,0.0,0.0,0.0,0.0,0.0,0.0],[0.0,0.0,0.0,0.0,0.0,0.0,0.046056117862463],[0.0,0.0,0.0,0.0,0.0,0.0,0.06654098629951477],[0.0,0.0,0.0,0.0,0.0,0.0,0.0],[0.0,0.0,0.7003394365310669,0.0,0.0,0.3365742266178131,0.0],[0.0,0.0,0.0,0.0,0.0,0.0,0.17774039506912231],[0.0,0.0,0.0,0.0,0.0,0.0,0.0]],\"type\":\"heatmap\"}],                        {\"template\":{\"data\":{\"histogram2dcontour\":[{\"type\":\"histogram2dcontour\",\"colorbar\":{\"outlinewidth\":0,\"ticks\":\"\"},\"colorscale\":[[0.0,\"#0d0887\"],[0.1111111111111111,\"#46039f\"],[0.2222222222222222,\"#7201a8\"],[0.3333333333333333,\"#9c179e\"],[0.4444444444444444,\"#bd3786\"],[0.5555555555555556,\"#d8576b\"],[0.6666666666666666,\"#ed7953\"],[0.7777777777777778,\"#fb9f3a\"],[0.8888888888888888,\"#fdca26\"],[1.0,\"#f0f921\"]]}],\"choropleth\":[{\"type\":\"choropleth\",\"colorbar\":{\"outlinewidth\":0,\"ticks\":\"\"}}],\"histogram2d\":[{\"type\":\"histogram2d\",\"colorbar\":{\"outlinewidth\":0,\"ticks\":\"\"},\"colorscale\":[[0.0,\"#0d0887\"],[0.1111111111111111,\"#46039f\"],[0.2222222222222222,\"#7201a8\"],[0.3333333333333333,\"#9c179e\"],[0.4444444444444444,\"#bd3786\"],[0.5555555555555556,\"#d8576b\"],[0.6666666666666666,\"#ed7953\"],[0.7777777777777778,\"#fb9f3a\"],[0.8888888888888888,\"#fdca26\"],[1.0,\"#f0f921\"]]}],\"heatmap\":[{\"type\":\"heatmap\",\"colorbar\":{\"outlinewidth\":0,\"ticks\":\"\"},\"colorscale\":[[0.0,\"#0d0887\"],[0.1111111111111111,\"#46039f\"],[0.2222222222222222,\"#7201a8\"],[0.3333333333333333,\"#9c179e\"],[0.4444444444444444,\"#bd3786\"],[0.5555555555555556,\"#d8576b\"],[0.6666666666666666,\"#ed7953\"],[0.7777777777777778,\"#fb9f3a\"],[0.8888888888888888,\"#fdca26\"],[1.0,\"#f0f921\"]]}],\"heatmapgl\":[{\"type\":\"heatmapgl\",\"colorbar\":{\"outlinewidth\":0,\"ticks\":\"\"},\"colorscale\":[[0.0,\"#0d0887\"],[0.1111111111111111,\"#46039f\"],[0.2222222222222222,\"#7201a8\"],[0.3333333333333333,\"#9c179e\"],[0.4444444444444444,\"#bd3786\"],[0.5555555555555556,\"#d8576b\"],[0.6666666666666666,\"#ed7953\"],[0.7777777777777778,\"#fb9f3a\"],[0.8888888888888888,\"#fdca26\"],[1.0,\"#f0f921\"]]}],\"contourcarpet\":[{\"type\":\"contourcarpet\",\"colorbar\":{\"outlinewidth\":0,\"ticks\":\"\"}}],\"contour\":[{\"type\":\"contour\",\"colorbar\":{\"outlinewidth\":0,\"ticks\":\"\"},\"colorscale\":[[0.0,\"#0d0887\"],[0.1111111111111111,\"#46039f\"],[0.2222222222222222,\"#7201a8\"],[0.3333333333333333,\"#9c179e\"],[0.4444444444444444,\"#bd3786\"],[0.5555555555555556,\"#d8576b\"],[0.6666666666666666,\"#ed7953\"],[0.7777777777777778,\"#fb9f3a\"],[0.8888888888888888,\"#fdca26\"],[1.0,\"#f0f921\"]]}],\"surface\":[{\"type\":\"surface\",\"colorbar\":{\"outlinewidth\":0,\"ticks\":\"\"},\"colorscale\":[[0.0,\"#0d0887\"],[0.1111111111111111,\"#46039f\"],[0.2222222222222222,\"#7201a8\"],[0.3333333333333333,\"#9c179e\"],[0.4444444444444444,\"#bd3786\"],[0.5555555555555556,\"#d8576b\"],[0.6666666666666666,\"#ed7953\"],[0.7777777777777778,\"#fb9f3a\"],[0.8888888888888888,\"#fdca26\"],[1.0,\"#f0f921\"]]}],\"mesh3d\":[{\"type\":\"mesh3d\",\"colorbar\":{\"outlinewidth\":0,\"ticks\":\"\"}}],\"scatter\":[{\"fillpattern\":{\"fillmode\":\"overlay\",\"size\":10,\"solidity\":0.2},\"type\":\"scatter\"}],\"parcoords\":[{\"type\":\"parcoords\",\"line\":{\"colorbar\":{\"outlinewidth\":0,\"ticks\":\"\"}}}],\"scatterpolargl\":[{\"type\":\"scatterpolargl\",\"marker\":{\"colorbar\":{\"outlinewidth\":0,\"ticks\":\"\"}}}],\"bar\":[{\"error_x\":{\"color\":\"#2a3f5f\"},\"error_y\":{\"color\":\"#2a3f5f\"},\"marker\":{\"line\":{\"color\":\"#E5ECF6\",\"width\":0.5},\"pattern\":{\"fillmode\":\"overlay\",\"size\":10,\"solidity\":0.2}},\"type\":\"bar\"}],\"scattergeo\":[{\"type\":\"scattergeo\",\"marker\":{\"colorbar\":{\"outlinewidth\":0,\"ticks\":\"\"}}}],\"scatterpolar\":[{\"type\":\"scatterpolar\",\"marker\":{\"colorbar\":{\"outlinewidth\":0,\"ticks\":\"\"}}}],\"histogram\":[{\"marker\":{\"pattern\":{\"fillmode\":\"overlay\",\"size\":10,\"solidity\":0.2}},\"type\":\"histogram\"}],\"scattergl\":[{\"type\":\"scattergl\",\"marker\":{\"colorbar\":{\"outlinewidth\":0,\"ticks\":\"\"}}}],\"scatter3d\":[{\"type\":\"scatter3d\",\"line\":{\"colorbar\":{\"outlinewidth\":0,\"ticks\":\"\"}},\"marker\":{\"colorbar\":{\"outlinewidth\":0,\"ticks\":\"\"}}}],\"scattermapbox\":[{\"type\":\"scattermapbox\",\"marker\":{\"colorbar\":{\"outlinewidth\":0,\"ticks\":\"\"}}}],\"scatterternary\":[{\"type\":\"scatterternary\",\"marker\":{\"colorbar\":{\"outlinewidth\":0,\"ticks\":\"\"}}}],\"scattercarpet\":[{\"type\":\"scattercarpet\",\"marker\":{\"colorbar\":{\"outlinewidth\":0,\"ticks\":\"\"}}}],\"carpet\":[{\"aaxis\":{\"endlinecolor\":\"#2a3f5f\",\"gridcolor\":\"white\",\"linecolor\":\"white\",\"minorgridcolor\":\"white\",\"startlinecolor\":\"#2a3f5f\"},\"baxis\":{\"endlinecolor\":\"#2a3f5f\",\"gridcolor\":\"white\",\"linecolor\":\"white\",\"minorgridcolor\":\"white\",\"startlinecolor\":\"#2a3f5f\"},\"type\":\"carpet\"}],\"table\":[{\"cells\":{\"fill\":{\"color\":\"#EBF0F8\"},\"line\":{\"color\":\"white\"}},\"header\":{\"fill\":{\"color\":\"#C8D4E3\"},\"line\":{\"color\":\"white\"}},\"type\":\"table\"}],\"barpolar\":[{\"marker\":{\"line\":{\"color\":\"#E5ECF6\",\"width\":0.5},\"pattern\":{\"fillmode\":\"overlay\",\"size\":10,\"solidity\":0.2}},\"type\":\"barpolar\"}],\"pie\":[{\"automargin\":true,\"type\":\"pie\"}]},\"layout\":{\"autotypenumbers\":\"strict\",\"colorway\":[\"#636efa\",\"#EF553B\",\"#00cc96\",\"#ab63fa\",\"#FFA15A\",\"#19d3f3\",\"#FF6692\",\"#B6E880\",\"#FF97FF\",\"#FECB52\"],\"font\":{\"color\":\"#2a3f5f\"},\"hovermode\":\"closest\",\"hoverlabel\":{\"align\":\"left\"},\"paper_bgcolor\":\"white\",\"plot_bgcolor\":\"#E5ECF6\",\"polar\":{\"bgcolor\":\"#E5ECF6\",\"angularaxis\":{\"gridcolor\":\"white\",\"linecolor\":\"white\",\"ticks\":\"\"},\"radialaxis\":{\"gridcolor\":\"white\",\"linecolor\":\"white\",\"ticks\":\"\"}},\"ternary\":{\"bgcolor\":\"#E5ECF6\",\"aaxis\":{\"gridcolor\":\"white\",\"linecolor\":\"white\",\"ticks\":\"\"},\"baxis\":{\"gridcolor\":\"white\",\"linecolor\":\"white\",\"ticks\":\"\"},\"caxis\":{\"gridcolor\":\"white\",\"linecolor\":\"white\",\"ticks\":\"\"}},\"coloraxis\":{\"colorbar\":{\"outlinewidth\":0,\"ticks\":\"\"}},\"colorscale\":{\"sequential\":[[0.0,\"#0d0887\"],[0.1111111111111111,\"#46039f\"],[0.2222222222222222,\"#7201a8\"],[0.3333333333333333,\"#9c179e\"],[0.4444444444444444,\"#bd3786\"],[0.5555555555555556,\"#d8576b\"],[0.6666666666666666,\"#ed7953\"],[0.7777777777777778,\"#fb9f3a\"],[0.8888888888888888,\"#fdca26\"],[1.0,\"#f0f921\"]],\"sequentialminus\":[[0.0,\"#0d0887\"],[0.1111111111111111,\"#46039f\"],[0.2222222222222222,\"#7201a8\"],[0.3333333333333333,\"#9c179e\"],[0.4444444444444444,\"#bd3786\"],[0.5555555555555556,\"#d8576b\"],[0.6666666666666666,\"#ed7953\"],[0.7777777777777778,\"#fb9f3a\"],[0.8888888888888888,\"#fdca26\"],[1.0,\"#f0f921\"]],\"diverging\":[[0,\"#8e0152\"],[0.1,\"#c51b7d\"],[0.2,\"#de77ae\"],[0.3,\"#f1b6da\"],[0.4,\"#fde0ef\"],[0.5,\"#f7f7f7\"],[0.6,\"#e6f5d0\"],[0.7,\"#b8e186\"],[0.8,\"#7fbc41\"],[0.9,\"#4d9221\"],[1,\"#276419\"]]},\"xaxis\":{\"gridcolor\":\"white\",\"linecolor\":\"white\",\"ticks\":\"\",\"title\":{\"standoff\":15},\"zerolinecolor\":\"white\",\"automargin\":true,\"zerolinewidth\":2},\"yaxis\":{\"gridcolor\":\"white\",\"linecolor\":\"white\",\"ticks\":\"\",\"title\":{\"standoff\":15},\"zerolinecolor\":\"white\",\"automargin\":true,\"zerolinewidth\":2},\"scene\":{\"xaxis\":{\"backgroundcolor\":\"#E5ECF6\",\"gridcolor\":\"white\",\"linecolor\":\"white\",\"showbackground\":true,\"ticks\":\"\",\"zerolinecolor\":\"white\",\"gridwidth\":2},\"yaxis\":{\"backgroundcolor\":\"#E5ECF6\",\"gridcolor\":\"white\",\"linecolor\":\"white\",\"showbackground\":true,\"ticks\":\"\",\"zerolinecolor\":\"white\",\"gridwidth\":2},\"zaxis\":{\"backgroundcolor\":\"#E5ECF6\",\"gridcolor\":\"white\",\"linecolor\":\"white\",\"showbackground\":true,\"ticks\":\"\",\"zerolinecolor\":\"white\",\"gridwidth\":2}},\"shapedefaults\":{\"line\":{\"color\":\"#2a3f5f\"}},\"annotationdefaults\":{\"arrowcolor\":\"#2a3f5f\",\"arrowhead\":0,\"arrowwidth\":1},\"geo\":{\"bgcolor\":\"white\",\"landcolor\":\"#E5ECF6\",\"subunitcolor\":\"white\",\"showland\":true,\"showlakes\":true,\"lakecolor\":\"white\"},\"title\":{\"x\":0.05},\"mapbox\":{\"style\":\"light\"}}},\"title\":{\"text\":\"DGI : 5.5826383\"},\"xaxis\":{\"title\":{\"text\":\"Sense Features\"}},\"yaxis\":{\"title\":{\"text\":\"Dimensions\"}}},                        {\"responsive\": true}                    ).then(function(){\n",
       "                            \n",
       "var gd = document.getElementById('2d8ded8b-fe84-42c0-b76f-2bcc6ae713e9');\n",
       "var x = new MutationObserver(function (mutations, observer) {{\n",
       "        var display = window.getComputedStyle(gd).display;\n",
       "        if (!display || display === 'none') {{\n",
       "            console.log([gd, 'removed!']);\n",
       "            Plotly.purge(gd);\n",
       "            observer.disconnect();\n",
       "        }}\n",
       "}});\n",
       "\n",
       "// Listen for the removal of the full notebook cells\n",
       "var notebookContainer = gd.closest('#notebook-container');\n",
       "if (notebookContainer) {{\n",
       "    x.observe(notebookContainer, {childList: true});\n",
       "}}\n",
       "\n",
       "// Listen for the clearing of the current output cell\n",
       "var outputEl = gd.closest('.output');\n",
       "if (outputEl) {{\n",
       "    x.observe(outputEl, {childList: true});\n",
       "}}\n",
       "\n",
       "                        })                };                });            </script>        </div>"
      ]
     },
     "metadata": {},
     "output_type": "display_data"
    },
    {
     "data": {
      "application/vnd.plotly.v1+json": {
       "config": {
        "plotlyServerURL": "https://plot.ly"
       },
       "data": [
        {
         "type": "heatmap",
         "x": [
          "Degree",
          "Clustering Coefficient",
          "Personalized Page Rank - Standard Deviation",
          "Average Neighbor Degree",
          "Average Neighbor Clustering",
          "Eccentricity",
          "Katz Centrality"
         ],
         "z": [
          [
           0.026620948687195778,
           0,
           0,
           0,
           0,
           0,
           0
          ],
          [
           0,
           0,
           0,
           0.004441657103598118,
           0,
           0.11952592432498932,
           0
          ],
          [
           0,
           0,
           0,
           0,
           0,
           0,
           0
          ],
          [
           0,
           0,
           0,
           0,
           0,
           0,
           0
          ],
          [
           0,
           0,
           0,
           0,
           0,
           0,
           0
          ],
          [
           0,
           0,
           0,
           0.1409468948841095,
           0,
           0,
           0
          ],
          [
           0,
           0,
           0,
           0,
           0,
           0,
           0
          ],
          [
           0,
           0,
           0,
           0,
           0,
           0,
           0
          ],
          [
           0,
           0,
           0,
           0,
           0,
           0,
           0
          ],
          [
           0,
           0,
           0,
           0,
           0.009397214278578758,
           0,
           0
          ],
          [
           0,
           0,
           0,
           0,
           0,
           0,
           0
          ],
          [
           0,
           0,
           0,
           0,
           0,
           0,
           0
          ],
          [
           0.16690745949745178,
           0,
           0,
           0,
           0,
           0,
           0
          ],
          [
           0,
           0,
           0,
           0,
           0,
           0,
           0
          ],
          [
           0,
           0,
           0,
           0,
           0,
           0,
           0
          ],
          [
           0.07352951914072037,
           0,
           0,
           0,
           0.0031134060118347406,
           0,
           0
          ],
          [
           0.2280292510986328,
           0,
           0,
           0,
           0,
           0,
           0
          ],
          [
           0,
           0,
           0,
           0,
           0,
           0,
           0
          ],
          [
           0,
           0,
           0,
           0,
           0,
           0,
           0
          ],
          [
           0,
           0,
           0,
           0,
           0,
           0,
           0
          ],
          [
           0,
           0,
           0,
           0,
           0,
           0,
           0.056807857006788254
          ],
          [
           0,
           0,
           0,
           0,
           0,
           0,
           0
          ],
          [
           0,
           0,
           0,
           0,
           0,
           0,
           0
          ],
          [
           0,
           0,
           0,
           0,
           0,
           0,
           0
          ],
          [
           0,
           0,
           0,
           0,
           0,
           0,
           0
          ],
          [
           0,
           0,
           0,
           0,
           0,
           0,
           1
          ],
          [
           0,
           0,
           0,
           0,
           0,
           0,
           0
          ],
          [
           0,
           0,
           0,
           0,
           0,
           0,
           0
          ],
          [
           0,
           0,
           0,
           0,
           0,
           0,
           0
          ],
          [
           0,
           0,
           0,
           0,
           0,
           0,
           0
          ],
          [
           0,
           0,
           0,
           0,
           0,
           0,
           0
          ],
          [
           0,
           0,
           0.12455719709396362,
           0,
           0,
           0,
           0
          ],
          [
           0,
           0,
           0,
           0,
           0.022217510268092155,
           0,
           0
          ],
          [
           0,
           0,
           0,
           0,
           0,
           0,
           0
          ],
          [
           0,
           0,
           0,
           0,
           0.0390486866235733,
           0,
           0
          ],
          [
           0,
           0,
           0,
           0.16211920976638794,
           0,
           0,
           0.07926850020885468
          ],
          [
           0,
           0,
           0,
           0,
           0,
           0,
           0.007095199078321457
          ],
          [
           0,
           0,
           0,
           0,
           0,
           0.006387822795659304,
           0.0003008946659974754
          ],
          [
           0,
           0,
           0,
           0,
           0,
           0,
           0
          ],
          [
           0.06209263578057289,
           0,
           0,
           0,
           0,
           0,
           0
          ],
          [
           0,
           0.22710317373275757,
           0,
           0,
           0.0532570406794548,
           0,
           0.03736842796206474
          ],
          [
           0,
           0.17886660993099213,
           0,
           0,
           0.13214339315891266,
           0.050463393330574036,
           0
          ],
          [
           0,
           0,
           0,
           0,
           0,
           0,
           0
          ],
          [
           0,
           0.05822146311402321,
           0,
           0,
           0.07561511546373367,
           0.1067475900053978,
           0.0004425825027283281
          ],
          [
           0,
           0,
           0,
           0,
           0,
           0,
           0
          ],
          [
           0,
           0,
           0,
           0,
           0,
           0,
           0
          ],
          [
           0,
           0,
           0,
           0.0391097366809845,
           0,
           0,
           0
          ],
          [
           0,
           0,
           0.21195344626903534,
           0,
           0,
           0.3087429702281952,
           0
          ],
          [
           0,
           0,
           0,
           0,
           0,
           0,
           0
          ],
          [
           0,
           0,
           0,
           0,
           0,
           0,
           0
          ],
          [
           0,
           0,
           0,
           0,
           0,
           0,
           0
          ],
          [
           0,
           0,
           0,
           0,
           0,
           0,
           0
          ],
          [
           0,
           0,
           0,
           0,
           0,
           0,
           0
          ],
          [
           0,
           0,
           0,
           0,
           0,
           0,
           0
          ],
          [
           0,
           0,
           0,
           0,
           0,
           0,
           0
          ],
          [
           0,
           0,
           0,
           0,
           0,
           0,
           0
          ],
          [
           0,
           0,
           0,
           0,
           0,
           0,
           0.09693780541419983
          ],
          [
           0,
           0,
           0,
           0,
           0,
           0,
           0
          ],
          [
           0,
           0,
           0,
           0,
           0,
           0,
           0.023864608258008957
          ],
          [
           0,
           0,
           0,
           0,
           0,
           0,
           0.01843464933335781
          ],
          [
           0,
           0,
           0,
           0,
           0,
           0,
           0
          ],
          [
           0,
           0,
           0.13281559944152832,
           0,
           0,
           0,
           0
          ],
          [
           0,
           0,
           0,
           0,
           0,
           0,
           0.06140376627445221
          ],
          [
           0,
           0,
           0,
           0.023218506947159767,
           0,
           0,
           0
          ]
         ]
        }
       ],
       "layout": {
        "template": {
         "data": {
          "bar": [
           {
            "error_x": {
             "color": "#2a3f5f"
            },
            "error_y": {
             "color": "#2a3f5f"
            },
            "marker": {
             "line": {
              "color": "#E5ECF6",
              "width": 0.5
             },
             "pattern": {
              "fillmode": "overlay",
              "size": 10,
              "solidity": 0.2
             }
            },
            "type": "bar"
           }
          ],
          "barpolar": [
           {
            "marker": {
             "line": {
              "color": "#E5ECF6",
              "width": 0.5
             },
             "pattern": {
              "fillmode": "overlay",
              "size": 10,
              "solidity": 0.2
             }
            },
            "type": "barpolar"
           }
          ],
          "carpet": [
           {
            "aaxis": {
             "endlinecolor": "#2a3f5f",
             "gridcolor": "white",
             "linecolor": "white",
             "minorgridcolor": "white",
             "startlinecolor": "#2a3f5f"
            },
            "baxis": {
             "endlinecolor": "#2a3f5f",
             "gridcolor": "white",
             "linecolor": "white",
             "minorgridcolor": "white",
             "startlinecolor": "#2a3f5f"
            },
            "type": "carpet"
           }
          ],
          "choropleth": [
           {
            "colorbar": {
             "outlinewidth": 0,
             "ticks": ""
            },
            "type": "choropleth"
           }
          ],
          "contour": [
           {
            "colorbar": {
             "outlinewidth": 0,
             "ticks": ""
            },
            "colorscale": [
             [
              0,
              "#0d0887"
             ],
             [
              0.1111111111111111,
              "#46039f"
             ],
             [
              0.2222222222222222,
              "#7201a8"
             ],
             [
              0.3333333333333333,
              "#9c179e"
             ],
             [
              0.4444444444444444,
              "#bd3786"
             ],
             [
              0.5555555555555556,
              "#d8576b"
             ],
             [
              0.6666666666666666,
              "#ed7953"
             ],
             [
              0.7777777777777778,
              "#fb9f3a"
             ],
             [
              0.8888888888888888,
              "#fdca26"
             ],
             [
              1,
              "#f0f921"
             ]
            ],
            "type": "contour"
           }
          ],
          "contourcarpet": [
           {
            "colorbar": {
             "outlinewidth": 0,
             "ticks": ""
            },
            "type": "contourcarpet"
           }
          ],
          "heatmap": [
           {
            "colorbar": {
             "outlinewidth": 0,
             "ticks": ""
            },
            "colorscale": [
             [
              0,
              "#0d0887"
             ],
             [
              0.1111111111111111,
              "#46039f"
             ],
             [
              0.2222222222222222,
              "#7201a8"
             ],
             [
              0.3333333333333333,
              "#9c179e"
             ],
             [
              0.4444444444444444,
              "#bd3786"
             ],
             [
              0.5555555555555556,
              "#d8576b"
             ],
             [
              0.6666666666666666,
              "#ed7953"
             ],
             [
              0.7777777777777778,
              "#fb9f3a"
             ],
             [
              0.8888888888888888,
              "#fdca26"
             ],
             [
              1,
              "#f0f921"
             ]
            ],
            "type": "heatmap"
           }
          ],
          "heatmapgl": [
           {
            "colorbar": {
             "outlinewidth": 0,
             "ticks": ""
            },
            "colorscale": [
             [
              0,
              "#0d0887"
             ],
             [
              0.1111111111111111,
              "#46039f"
             ],
             [
              0.2222222222222222,
              "#7201a8"
             ],
             [
              0.3333333333333333,
              "#9c179e"
             ],
             [
              0.4444444444444444,
              "#bd3786"
             ],
             [
              0.5555555555555556,
              "#d8576b"
             ],
             [
              0.6666666666666666,
              "#ed7953"
             ],
             [
              0.7777777777777778,
              "#fb9f3a"
             ],
             [
              0.8888888888888888,
              "#fdca26"
             ],
             [
              1,
              "#f0f921"
             ]
            ],
            "type": "heatmapgl"
           }
          ],
          "histogram": [
           {
            "marker": {
             "pattern": {
              "fillmode": "overlay",
              "size": 10,
              "solidity": 0.2
             }
            },
            "type": "histogram"
           }
          ],
          "histogram2d": [
           {
            "colorbar": {
             "outlinewidth": 0,
             "ticks": ""
            },
            "colorscale": [
             [
              0,
              "#0d0887"
             ],
             [
              0.1111111111111111,
              "#46039f"
             ],
             [
              0.2222222222222222,
              "#7201a8"
             ],
             [
              0.3333333333333333,
              "#9c179e"
             ],
             [
              0.4444444444444444,
              "#bd3786"
             ],
             [
              0.5555555555555556,
              "#d8576b"
             ],
             [
              0.6666666666666666,
              "#ed7953"
             ],
             [
              0.7777777777777778,
              "#fb9f3a"
             ],
             [
              0.8888888888888888,
              "#fdca26"
             ],
             [
              1,
              "#f0f921"
             ]
            ],
            "type": "histogram2d"
           }
          ],
          "histogram2dcontour": [
           {
            "colorbar": {
             "outlinewidth": 0,
             "ticks": ""
            },
            "colorscale": [
             [
              0,
              "#0d0887"
             ],
             [
              0.1111111111111111,
              "#46039f"
             ],
             [
              0.2222222222222222,
              "#7201a8"
             ],
             [
              0.3333333333333333,
              "#9c179e"
             ],
             [
              0.4444444444444444,
              "#bd3786"
             ],
             [
              0.5555555555555556,
              "#d8576b"
             ],
             [
              0.6666666666666666,
              "#ed7953"
             ],
             [
              0.7777777777777778,
              "#fb9f3a"
             ],
             [
              0.8888888888888888,
              "#fdca26"
             ],
             [
              1,
              "#f0f921"
             ]
            ],
            "type": "histogram2dcontour"
           }
          ],
          "mesh3d": [
           {
            "colorbar": {
             "outlinewidth": 0,
             "ticks": ""
            },
            "type": "mesh3d"
           }
          ],
          "parcoords": [
           {
            "line": {
             "colorbar": {
              "outlinewidth": 0,
              "ticks": ""
             }
            },
            "type": "parcoords"
           }
          ],
          "pie": [
           {
            "automargin": true,
            "type": "pie"
           }
          ],
          "scatter": [
           {
            "fillpattern": {
             "fillmode": "overlay",
             "size": 10,
             "solidity": 0.2
            },
            "type": "scatter"
           }
          ],
          "scatter3d": [
           {
            "line": {
             "colorbar": {
              "outlinewidth": 0,
              "ticks": ""
             }
            },
            "marker": {
             "colorbar": {
              "outlinewidth": 0,
              "ticks": ""
             }
            },
            "type": "scatter3d"
           }
          ],
          "scattercarpet": [
           {
            "marker": {
             "colorbar": {
              "outlinewidth": 0,
              "ticks": ""
             }
            },
            "type": "scattercarpet"
           }
          ],
          "scattergeo": [
           {
            "marker": {
             "colorbar": {
              "outlinewidth": 0,
              "ticks": ""
             }
            },
            "type": "scattergeo"
           }
          ],
          "scattergl": [
           {
            "marker": {
             "colorbar": {
              "outlinewidth": 0,
              "ticks": ""
             }
            },
            "type": "scattergl"
           }
          ],
          "scattermapbox": [
           {
            "marker": {
             "colorbar": {
              "outlinewidth": 0,
              "ticks": ""
             }
            },
            "type": "scattermapbox"
           }
          ],
          "scatterpolar": [
           {
            "marker": {
             "colorbar": {
              "outlinewidth": 0,
              "ticks": ""
             }
            },
            "type": "scatterpolar"
           }
          ],
          "scatterpolargl": [
           {
            "marker": {
             "colorbar": {
              "outlinewidth": 0,
              "ticks": ""
             }
            },
            "type": "scatterpolargl"
           }
          ],
          "scatterternary": [
           {
            "marker": {
             "colorbar": {
              "outlinewidth": 0,
              "ticks": ""
             }
            },
            "type": "scatterternary"
           }
          ],
          "surface": [
           {
            "colorbar": {
             "outlinewidth": 0,
             "ticks": ""
            },
            "colorscale": [
             [
              0,
              "#0d0887"
             ],
             [
              0.1111111111111111,
              "#46039f"
             ],
             [
              0.2222222222222222,
              "#7201a8"
             ],
             [
              0.3333333333333333,
              "#9c179e"
             ],
             [
              0.4444444444444444,
              "#bd3786"
             ],
             [
              0.5555555555555556,
              "#d8576b"
             ],
             [
              0.6666666666666666,
              "#ed7953"
             ],
             [
              0.7777777777777778,
              "#fb9f3a"
             ],
             [
              0.8888888888888888,
              "#fdca26"
             ],
             [
              1,
              "#f0f921"
             ]
            ],
            "type": "surface"
           }
          ],
          "table": [
           {
            "cells": {
             "fill": {
              "color": "#EBF0F8"
             },
             "line": {
              "color": "white"
             }
            },
            "header": {
             "fill": {
              "color": "#C8D4E3"
             },
             "line": {
              "color": "white"
             }
            },
            "type": "table"
           }
          ]
         },
         "layout": {
          "annotationdefaults": {
           "arrowcolor": "#2a3f5f",
           "arrowhead": 0,
           "arrowwidth": 1
          },
          "autotypenumbers": "strict",
          "coloraxis": {
           "colorbar": {
            "outlinewidth": 0,
            "ticks": ""
           }
          },
          "colorscale": {
           "diverging": [
            [
             0,
             "#8e0152"
            ],
            [
             0.1,
             "#c51b7d"
            ],
            [
             0.2,
             "#de77ae"
            ],
            [
             0.3,
             "#f1b6da"
            ],
            [
             0.4,
             "#fde0ef"
            ],
            [
             0.5,
             "#f7f7f7"
            ],
            [
             0.6,
             "#e6f5d0"
            ],
            [
             0.7,
             "#b8e186"
            ],
            [
             0.8,
             "#7fbc41"
            ],
            [
             0.9,
             "#4d9221"
            ],
            [
             1,
             "#276419"
            ]
           ],
           "sequential": [
            [
             0,
             "#0d0887"
            ],
            [
             0.1111111111111111,
             "#46039f"
            ],
            [
             0.2222222222222222,
             "#7201a8"
            ],
            [
             0.3333333333333333,
             "#9c179e"
            ],
            [
             0.4444444444444444,
             "#bd3786"
            ],
            [
             0.5555555555555556,
             "#d8576b"
            ],
            [
             0.6666666666666666,
             "#ed7953"
            ],
            [
             0.7777777777777778,
             "#fb9f3a"
            ],
            [
             0.8888888888888888,
             "#fdca26"
            ],
            [
             1,
             "#f0f921"
            ]
           ],
           "sequentialminus": [
            [
             0,
             "#0d0887"
            ],
            [
             0.1111111111111111,
             "#46039f"
            ],
            [
             0.2222222222222222,
             "#7201a8"
            ],
            [
             0.3333333333333333,
             "#9c179e"
            ],
            [
             0.4444444444444444,
             "#bd3786"
            ],
            [
             0.5555555555555556,
             "#d8576b"
            ],
            [
             0.6666666666666666,
             "#ed7953"
            ],
            [
             0.7777777777777778,
             "#fb9f3a"
            ],
            [
             0.8888888888888888,
             "#fdca26"
            ],
            [
             1,
             "#f0f921"
            ]
           ]
          },
          "colorway": [
           "#636efa",
           "#EF553B",
           "#00cc96",
           "#ab63fa",
           "#FFA15A",
           "#19d3f3",
           "#FF6692",
           "#B6E880",
           "#FF97FF",
           "#FECB52"
          ],
          "font": {
           "color": "#2a3f5f"
          },
          "geo": {
           "bgcolor": "white",
           "lakecolor": "white",
           "landcolor": "#E5ECF6",
           "showlakes": true,
           "showland": true,
           "subunitcolor": "white"
          },
          "hoverlabel": {
           "align": "left"
          },
          "hovermode": "closest",
          "mapbox": {
           "style": "light"
          },
          "paper_bgcolor": "white",
          "plot_bgcolor": "#E5ECF6",
          "polar": {
           "angularaxis": {
            "gridcolor": "white",
            "linecolor": "white",
            "ticks": ""
           },
           "bgcolor": "#E5ECF6",
           "radialaxis": {
            "gridcolor": "white",
            "linecolor": "white",
            "ticks": ""
           }
          },
          "scene": {
           "xaxis": {
            "backgroundcolor": "#E5ECF6",
            "gridcolor": "white",
            "gridwidth": 2,
            "linecolor": "white",
            "showbackground": true,
            "ticks": "",
            "zerolinecolor": "white"
           },
           "yaxis": {
            "backgroundcolor": "#E5ECF6",
            "gridcolor": "white",
            "gridwidth": 2,
            "linecolor": "white",
            "showbackground": true,
            "ticks": "",
            "zerolinecolor": "white"
           },
           "zaxis": {
            "backgroundcolor": "#E5ECF6",
            "gridcolor": "white",
            "gridwidth": 2,
            "linecolor": "white",
            "showbackground": true,
            "ticks": "",
            "zerolinecolor": "white"
           }
          },
          "shapedefaults": {
           "line": {
            "color": "#2a3f5f"
           }
          },
          "ternary": {
           "aaxis": {
            "gridcolor": "white",
            "linecolor": "white",
            "ticks": ""
           },
           "baxis": {
            "gridcolor": "white",
            "linecolor": "white",
            "ticks": ""
           },
           "bgcolor": "#E5ECF6",
           "caxis": {
            "gridcolor": "white",
            "linecolor": "white",
            "ticks": ""
           }
          },
          "title": {
           "x": 0.05
          },
          "xaxis": {
           "automargin": true,
           "gridcolor": "white",
           "linecolor": "white",
           "ticks": "",
           "title": {
            "standoff": 15
           },
           "zerolinecolor": "white",
           "zerolinewidth": 2
          },
          "yaxis": {
           "automargin": true,
           "gridcolor": "white",
           "linecolor": "white",
           "ticks": "",
           "title": {
            "standoff": 15
           },
           "zerolinecolor": "white",
           "zerolinewidth": 2
          }
         }
        },
        "title": {
         "text": "DGI+ : 2.531044"
        },
        "xaxis": {
         "title": {
          "text": "Sense Features"
         }
        },
        "yaxis": {
         "title": {
          "text": "Dimensions"
         }
        }
       }
      },
      "text/html": [
       "<div>                            <div id=\"39db2af0-e02f-4e0d-96a1-323994911caf\" class=\"plotly-graph-div\" style=\"height:525px; width:100%;\"></div>            <script type=\"text/javascript\">                require([\"plotly\"], function(Plotly) {                    window.PLOTLYENV=window.PLOTLYENV || {};                                    if (document.getElementById(\"39db2af0-e02f-4e0d-96a1-323994911caf\")) {                    Plotly.newPlot(                        \"39db2af0-e02f-4e0d-96a1-323994911caf\",                        [{\"x\":[\"Degree\",\"Clustering Coefficient\",\"Personalized Page Rank - Standard Deviation\",\"Average Neighbor Degree\",\"Average Neighbor Clustering\",\"Eccentricity\",\"Katz Centrality\"],\"z\":[[0.026620948687195778,0.0,0.0,0.0,0.0,0.0,0.0],[0.0,0.0,0.0,0.004441657103598118,0.0,0.11952592432498932,0.0],[0.0,0.0,0.0,0.0,0.0,0.0,0.0],[0.0,0.0,0.0,0.0,0.0,0.0,0.0],[0.0,0.0,0.0,0.0,0.0,0.0,0.0],[0.0,0.0,0.0,0.1409468948841095,0.0,0.0,0.0],[0.0,0.0,0.0,0.0,0.0,0.0,0.0],[0.0,0.0,0.0,0.0,0.0,0.0,0.0],[0.0,0.0,0.0,0.0,0.0,0.0,0.0],[0.0,0.0,0.0,0.0,0.009397214278578758,0.0,0.0],[0.0,0.0,0.0,0.0,0.0,0.0,0.0],[0.0,0.0,0.0,0.0,0.0,0.0,0.0],[0.16690745949745178,0.0,0.0,0.0,0.0,0.0,0.0],[0.0,0.0,0.0,0.0,0.0,0.0,0.0],[0.0,0.0,0.0,0.0,0.0,0.0,0.0],[0.07352951914072037,0.0,0.0,0.0,0.0031134060118347406,0.0,0.0],[0.2280292510986328,0.0,0.0,0.0,0.0,0.0,0.0],[0.0,0.0,0.0,0.0,0.0,0.0,0.0],[0.0,0.0,0.0,0.0,0.0,0.0,0.0],[0.0,0.0,0.0,0.0,0.0,0.0,0.0],[0.0,0.0,0.0,0.0,0.0,0.0,0.056807857006788254],[0.0,0.0,0.0,0.0,0.0,0.0,0.0],[0.0,0.0,0.0,0.0,0.0,0.0,0.0],[0.0,0.0,0.0,0.0,0.0,0.0,0.0],[0.0,0.0,0.0,0.0,0.0,0.0,0.0],[0.0,0.0,0.0,0.0,0.0,0.0,1.0],[0.0,0.0,0.0,0.0,0.0,0.0,0.0],[0.0,0.0,0.0,0.0,0.0,0.0,0.0],[0.0,0.0,0.0,0.0,0.0,0.0,0.0],[0.0,0.0,0.0,0.0,0.0,0.0,0.0],[0.0,0.0,0.0,0.0,0.0,0.0,0.0],[0.0,0.0,0.12455719709396362,0.0,0.0,0.0,0.0],[0.0,0.0,0.0,0.0,0.022217510268092155,0.0,0.0],[0.0,0.0,0.0,0.0,0.0,0.0,0.0],[0.0,0.0,0.0,0.0,0.0390486866235733,0.0,0.0],[0.0,0.0,0.0,0.16211920976638794,0.0,0.0,0.07926850020885468],[0.0,0.0,0.0,0.0,0.0,0.0,0.007095199078321457],[0.0,0.0,0.0,0.0,0.0,0.006387822795659304,0.0003008946659974754],[0.0,0.0,0.0,0.0,0.0,0.0,0.0],[0.06209263578057289,0.0,0.0,0.0,0.0,0.0,0.0],[0.0,0.22710317373275757,0.0,0.0,0.0532570406794548,0.0,0.03736842796206474],[0.0,0.17886660993099213,0.0,0.0,0.13214339315891266,0.050463393330574036,0.0],[0.0,0.0,0.0,0.0,0.0,0.0,0.0],[0.0,0.05822146311402321,0.0,0.0,0.07561511546373367,0.1067475900053978,0.0004425825027283281],[0.0,0.0,0.0,0.0,0.0,0.0,0.0],[0.0,0.0,0.0,0.0,0.0,0.0,0.0],[0.0,0.0,0.0,0.0391097366809845,0.0,0.0,0.0],[0.0,0.0,0.21195344626903534,0.0,0.0,0.3087429702281952,0.0],[0.0,0.0,0.0,0.0,0.0,0.0,0.0],[0.0,0.0,0.0,0.0,0.0,0.0,0.0],[0.0,0.0,0.0,0.0,0.0,0.0,0.0],[0.0,0.0,0.0,0.0,0.0,0.0,0.0],[0.0,0.0,0.0,0.0,0.0,0.0,0.0],[0.0,0.0,0.0,0.0,0.0,0.0,0.0],[0.0,0.0,0.0,0.0,0.0,0.0,0.0],[0.0,0.0,0.0,0.0,0.0,0.0,0.0],[0.0,0.0,0.0,0.0,0.0,0.0,0.09693780541419983],[0.0,0.0,0.0,0.0,0.0,0.0,0.0],[0.0,0.0,0.0,0.0,0.0,0.0,0.023864608258008957],[0.0,0.0,0.0,0.0,0.0,0.0,0.01843464933335781],[0.0,0.0,0.0,0.0,0.0,0.0,0.0],[0.0,0.0,0.13281559944152832,0.0,0.0,0.0,0.0],[0.0,0.0,0.0,0.0,0.0,0.0,0.06140376627445221],[0.0,0.0,0.0,0.023218506947159767,0.0,0.0,0.0]],\"type\":\"heatmap\"}],                        {\"template\":{\"data\":{\"histogram2dcontour\":[{\"type\":\"histogram2dcontour\",\"colorbar\":{\"outlinewidth\":0,\"ticks\":\"\"},\"colorscale\":[[0.0,\"#0d0887\"],[0.1111111111111111,\"#46039f\"],[0.2222222222222222,\"#7201a8\"],[0.3333333333333333,\"#9c179e\"],[0.4444444444444444,\"#bd3786\"],[0.5555555555555556,\"#d8576b\"],[0.6666666666666666,\"#ed7953\"],[0.7777777777777778,\"#fb9f3a\"],[0.8888888888888888,\"#fdca26\"],[1.0,\"#f0f921\"]]}],\"choropleth\":[{\"type\":\"choropleth\",\"colorbar\":{\"outlinewidth\":0,\"ticks\":\"\"}}],\"histogram2d\":[{\"type\":\"histogram2d\",\"colorbar\":{\"outlinewidth\":0,\"ticks\":\"\"},\"colorscale\":[[0.0,\"#0d0887\"],[0.1111111111111111,\"#46039f\"],[0.2222222222222222,\"#7201a8\"],[0.3333333333333333,\"#9c179e\"],[0.4444444444444444,\"#bd3786\"],[0.5555555555555556,\"#d8576b\"],[0.6666666666666666,\"#ed7953\"],[0.7777777777777778,\"#fb9f3a\"],[0.8888888888888888,\"#fdca26\"],[1.0,\"#f0f921\"]]}],\"heatmap\":[{\"type\":\"heatmap\",\"colorbar\":{\"outlinewidth\":0,\"ticks\":\"\"},\"colorscale\":[[0.0,\"#0d0887\"],[0.1111111111111111,\"#46039f\"],[0.2222222222222222,\"#7201a8\"],[0.3333333333333333,\"#9c179e\"],[0.4444444444444444,\"#bd3786\"],[0.5555555555555556,\"#d8576b\"],[0.6666666666666666,\"#ed7953\"],[0.7777777777777778,\"#fb9f3a\"],[0.8888888888888888,\"#fdca26\"],[1.0,\"#f0f921\"]]}],\"heatmapgl\":[{\"type\":\"heatmapgl\",\"colorbar\":{\"outlinewidth\":0,\"ticks\":\"\"},\"colorscale\":[[0.0,\"#0d0887\"],[0.1111111111111111,\"#46039f\"],[0.2222222222222222,\"#7201a8\"],[0.3333333333333333,\"#9c179e\"],[0.4444444444444444,\"#bd3786\"],[0.5555555555555556,\"#d8576b\"],[0.6666666666666666,\"#ed7953\"],[0.7777777777777778,\"#fb9f3a\"],[0.8888888888888888,\"#fdca26\"],[1.0,\"#f0f921\"]]}],\"contourcarpet\":[{\"type\":\"contourcarpet\",\"colorbar\":{\"outlinewidth\":0,\"ticks\":\"\"}}],\"contour\":[{\"type\":\"contour\",\"colorbar\":{\"outlinewidth\":0,\"ticks\":\"\"},\"colorscale\":[[0.0,\"#0d0887\"],[0.1111111111111111,\"#46039f\"],[0.2222222222222222,\"#7201a8\"],[0.3333333333333333,\"#9c179e\"],[0.4444444444444444,\"#bd3786\"],[0.5555555555555556,\"#d8576b\"],[0.6666666666666666,\"#ed7953\"],[0.7777777777777778,\"#fb9f3a\"],[0.8888888888888888,\"#fdca26\"],[1.0,\"#f0f921\"]]}],\"surface\":[{\"type\":\"surface\",\"colorbar\":{\"outlinewidth\":0,\"ticks\":\"\"},\"colorscale\":[[0.0,\"#0d0887\"],[0.1111111111111111,\"#46039f\"],[0.2222222222222222,\"#7201a8\"],[0.3333333333333333,\"#9c179e\"],[0.4444444444444444,\"#bd3786\"],[0.5555555555555556,\"#d8576b\"],[0.6666666666666666,\"#ed7953\"],[0.7777777777777778,\"#fb9f3a\"],[0.8888888888888888,\"#fdca26\"],[1.0,\"#f0f921\"]]}],\"mesh3d\":[{\"type\":\"mesh3d\",\"colorbar\":{\"outlinewidth\":0,\"ticks\":\"\"}}],\"scatter\":[{\"fillpattern\":{\"fillmode\":\"overlay\",\"size\":10,\"solidity\":0.2},\"type\":\"scatter\"}],\"parcoords\":[{\"type\":\"parcoords\",\"line\":{\"colorbar\":{\"outlinewidth\":0,\"ticks\":\"\"}}}],\"scatterpolargl\":[{\"type\":\"scatterpolargl\",\"marker\":{\"colorbar\":{\"outlinewidth\":0,\"ticks\":\"\"}}}],\"bar\":[{\"error_x\":{\"color\":\"#2a3f5f\"},\"error_y\":{\"color\":\"#2a3f5f\"},\"marker\":{\"line\":{\"color\":\"#E5ECF6\",\"width\":0.5},\"pattern\":{\"fillmode\":\"overlay\",\"size\":10,\"solidity\":0.2}},\"type\":\"bar\"}],\"scattergeo\":[{\"type\":\"scattergeo\",\"marker\":{\"colorbar\":{\"outlinewidth\":0,\"ticks\":\"\"}}}],\"scatterpolar\":[{\"type\":\"scatterpolar\",\"marker\":{\"colorbar\":{\"outlinewidth\":0,\"ticks\":\"\"}}}],\"histogram\":[{\"marker\":{\"pattern\":{\"fillmode\":\"overlay\",\"size\":10,\"solidity\":0.2}},\"type\":\"histogram\"}],\"scattergl\":[{\"type\":\"scattergl\",\"marker\":{\"colorbar\":{\"outlinewidth\":0,\"ticks\":\"\"}}}],\"scatter3d\":[{\"type\":\"scatter3d\",\"line\":{\"colorbar\":{\"outlinewidth\":0,\"ticks\":\"\"}},\"marker\":{\"colorbar\":{\"outlinewidth\":0,\"ticks\":\"\"}}}],\"scattermapbox\":[{\"type\":\"scattermapbox\",\"marker\":{\"colorbar\":{\"outlinewidth\":0,\"ticks\":\"\"}}}],\"scatterternary\":[{\"type\":\"scatterternary\",\"marker\":{\"colorbar\":{\"outlinewidth\":0,\"ticks\":\"\"}}}],\"scattercarpet\":[{\"type\":\"scattercarpet\",\"marker\":{\"colorbar\":{\"outlinewidth\":0,\"ticks\":\"\"}}}],\"carpet\":[{\"aaxis\":{\"endlinecolor\":\"#2a3f5f\",\"gridcolor\":\"white\",\"linecolor\":\"white\",\"minorgridcolor\":\"white\",\"startlinecolor\":\"#2a3f5f\"},\"baxis\":{\"endlinecolor\":\"#2a3f5f\",\"gridcolor\":\"white\",\"linecolor\":\"white\",\"minorgridcolor\":\"white\",\"startlinecolor\":\"#2a3f5f\"},\"type\":\"carpet\"}],\"table\":[{\"cells\":{\"fill\":{\"color\":\"#EBF0F8\"},\"line\":{\"color\":\"white\"}},\"header\":{\"fill\":{\"color\":\"#C8D4E3\"},\"line\":{\"color\":\"white\"}},\"type\":\"table\"}],\"barpolar\":[{\"marker\":{\"line\":{\"color\":\"#E5ECF6\",\"width\":0.5},\"pattern\":{\"fillmode\":\"overlay\",\"size\":10,\"solidity\":0.2}},\"type\":\"barpolar\"}],\"pie\":[{\"automargin\":true,\"type\":\"pie\"}]},\"layout\":{\"autotypenumbers\":\"strict\",\"colorway\":[\"#636efa\",\"#EF553B\",\"#00cc96\",\"#ab63fa\",\"#FFA15A\",\"#19d3f3\",\"#FF6692\",\"#B6E880\",\"#FF97FF\",\"#FECB52\"],\"font\":{\"color\":\"#2a3f5f\"},\"hovermode\":\"closest\",\"hoverlabel\":{\"align\":\"left\"},\"paper_bgcolor\":\"white\",\"plot_bgcolor\":\"#E5ECF6\",\"polar\":{\"bgcolor\":\"#E5ECF6\",\"angularaxis\":{\"gridcolor\":\"white\",\"linecolor\":\"white\",\"ticks\":\"\"},\"radialaxis\":{\"gridcolor\":\"white\",\"linecolor\":\"white\",\"ticks\":\"\"}},\"ternary\":{\"bgcolor\":\"#E5ECF6\",\"aaxis\":{\"gridcolor\":\"white\",\"linecolor\":\"white\",\"ticks\":\"\"},\"baxis\":{\"gridcolor\":\"white\",\"linecolor\":\"white\",\"ticks\":\"\"},\"caxis\":{\"gridcolor\":\"white\",\"linecolor\":\"white\",\"ticks\":\"\"}},\"coloraxis\":{\"colorbar\":{\"outlinewidth\":0,\"ticks\":\"\"}},\"colorscale\":{\"sequential\":[[0.0,\"#0d0887\"],[0.1111111111111111,\"#46039f\"],[0.2222222222222222,\"#7201a8\"],[0.3333333333333333,\"#9c179e\"],[0.4444444444444444,\"#bd3786\"],[0.5555555555555556,\"#d8576b\"],[0.6666666666666666,\"#ed7953\"],[0.7777777777777778,\"#fb9f3a\"],[0.8888888888888888,\"#fdca26\"],[1.0,\"#f0f921\"]],\"sequentialminus\":[[0.0,\"#0d0887\"],[0.1111111111111111,\"#46039f\"],[0.2222222222222222,\"#7201a8\"],[0.3333333333333333,\"#9c179e\"],[0.4444444444444444,\"#bd3786\"],[0.5555555555555556,\"#d8576b\"],[0.6666666666666666,\"#ed7953\"],[0.7777777777777778,\"#fb9f3a\"],[0.8888888888888888,\"#fdca26\"],[1.0,\"#f0f921\"]],\"diverging\":[[0,\"#8e0152\"],[0.1,\"#c51b7d\"],[0.2,\"#de77ae\"],[0.3,\"#f1b6da\"],[0.4,\"#fde0ef\"],[0.5,\"#f7f7f7\"],[0.6,\"#e6f5d0\"],[0.7,\"#b8e186\"],[0.8,\"#7fbc41\"],[0.9,\"#4d9221\"],[1,\"#276419\"]]},\"xaxis\":{\"gridcolor\":\"white\",\"linecolor\":\"white\",\"ticks\":\"\",\"title\":{\"standoff\":15},\"zerolinecolor\":\"white\",\"automargin\":true,\"zerolinewidth\":2},\"yaxis\":{\"gridcolor\":\"white\",\"linecolor\":\"white\",\"ticks\":\"\",\"title\":{\"standoff\":15},\"zerolinecolor\":\"white\",\"automargin\":true,\"zerolinewidth\":2},\"scene\":{\"xaxis\":{\"backgroundcolor\":\"#E5ECF6\",\"gridcolor\":\"white\",\"linecolor\":\"white\",\"showbackground\":true,\"ticks\":\"\",\"zerolinecolor\":\"white\",\"gridwidth\":2},\"yaxis\":{\"backgroundcolor\":\"#E5ECF6\",\"gridcolor\":\"white\",\"linecolor\":\"white\",\"showbackground\":true,\"ticks\":\"\",\"zerolinecolor\":\"white\",\"gridwidth\":2},\"zaxis\":{\"backgroundcolor\":\"#E5ECF6\",\"gridcolor\":\"white\",\"linecolor\":\"white\",\"showbackground\":true,\"ticks\":\"\",\"zerolinecolor\":\"white\",\"gridwidth\":2}},\"shapedefaults\":{\"line\":{\"color\":\"#2a3f5f\"}},\"annotationdefaults\":{\"arrowcolor\":\"#2a3f5f\",\"arrowhead\":0,\"arrowwidth\":1},\"geo\":{\"bgcolor\":\"white\",\"landcolor\":\"#E5ECF6\",\"subunitcolor\":\"white\",\"showland\":true,\"showlakes\":true,\"lakecolor\":\"white\"},\"title\":{\"x\":0.05},\"mapbox\":{\"style\":\"light\"}}},\"title\":{\"text\":\"DGI+ : 2.531044\"},\"xaxis\":{\"title\":{\"text\":\"Sense Features\"}},\"yaxis\":{\"title\":{\"text\":\"Dimensions\"}}},                        {\"responsive\": true}                    ).then(function(){\n",
       "                            \n",
       "var gd = document.getElementById('39db2af0-e02f-4e0d-96a1-323994911caf');\n",
       "var x = new MutationObserver(function (mutations, observer) {{\n",
       "        var display = window.getComputedStyle(gd).display;\n",
       "        if (!display || display === 'none') {{\n",
       "            console.log([gd, 'removed!']);\n",
       "            Plotly.purge(gd);\n",
       "            observer.disconnect();\n",
       "        }}\n",
       "}});\n",
       "\n",
       "// Listen for the removal of the full notebook cells\n",
       "var notebookContainer = gd.closest('#notebook-container');\n",
       "if (notebookContainer) {{\n",
       "    x.observe(notebookContainer, {childList: true});\n",
       "}}\n",
       "\n",
       "// Listen for the clearing of the current output cell\n",
       "var outputEl = gd.closest('.output');\n",
       "if (outputEl) {{\n",
       "    x.observe(outputEl, {childList: true});\n",
       "}}\n",
       "\n",
       "                        })                };                });            </script>        </div>"
      ]
     },
     "metadata": {},
     "output_type": "display_data"
    }
   ],
   "source": [
    "fig = go.Figure()\n",
    "fig.add_trace(go.Heatmap(z = explain_og,\n",
    "                         x = list(sense_feat_dict), \n",
    "                         ))\n",
    "fig.update_layout(title_text = 'DGI : ' + str(np.linalg.norm(explain_og, ord = 'nuc')), \n",
    "                  xaxis_title_text = 'Sense Features', \n",
    "                  yaxis_title_text = 'Dimensions')\n",
    "\n",
    "fig.show()\n",
    "\n",
    "fig = go.Figure()\n",
    "fig.add_trace(go.Heatmap(z = explain_plus,\n",
    "                         x = list(sense_feat_dict), \n",
    "                         ))\n",
    "fig.update_layout(title_text = 'DGI+ : ' + str(np.linalg.norm(explain_plus, ord = 'nuc')), \n",
    "                  xaxis_title_text = 'Sense Features', \n",
    "                  yaxis_title_text = 'Dimensions')\n",
    "\n",
    "fig.show()"
   ]
  },
  {
   "cell_type": "code",
   "execution_count": 62,
   "id": "abca7a2d",
   "metadata": {},
   "outputs": [],
   "source": [
    "Y_plus = embed_plus\n",
    "sense_mat = tf.einsum('ij, ik -> ijk', Y_plus, sense_features)\n",
    "Y_plus_norm = tf.linalg.diag_part(tf.matmul(Y_plus, Y_plus, transpose_b = True), k = 0)\n",
    "sense_norm = tf.linalg.diag_part(tf.matmul(sense_features, sense_features, transpose_b = True), k = 0)\n",
    "norm = Y_plus_norm * tf.cast(sense_norm, tf.float32)\n",
    "D_plus = tf.transpose(tf.transpose(sense_mat) / norm)\n",
    "\n",
    "Y_og = embed_og\n",
    "sense_mat = tf.einsum('ij, ik -> ijk', Y_og, sense_features)\n",
    "Y_og_norm = tf.linalg.diag_part(tf.matmul(Y_og, Y_og, transpose_b = True), k = 0)\n",
    "sense_norm = tf.linalg.diag_part(tf.matmul(sense_features, sense_features, transpose_b = True), k = 0)\n",
    "norm = Y_og_norm * tf.cast(sense_norm, tf.float32)\n",
    "D_og = tf.transpose(tf.transpose(sense_mat) / norm)"
   ]
  },
  {
   "cell_type": "code",
   "execution_count": 63,
   "id": "e3846d67",
   "metadata": {},
   "outputs": [
    {
     "name": "stderr",
     "output_type": "stream",
     "text": [
      "100%|███████████████████████████████████████| 986/986 [00:00<00:00, 1021.31it/s]\n",
      "100%|███████████████████████████████████████| 986/986 [00:00<00:00, 1026.58it/s]\n"
     ]
    }
   ],
   "source": [
    "norm_og = [np.linalg.norm(D_og[node, :, :], ord = 'nuc') for node in tqdm(range(len(graph)))]\n",
    "norm_plus = [np.linalg.norm(D_plus[node, :, :], ord = 'nuc') for node in tqdm(range(len(graph)))]\n",
    "\n"
   ]
  },
  {
   "cell_type": "code",
   "execution_count": 64,
   "id": "8355ca29",
   "metadata": {},
   "outputs": [
    {
     "data": {
      "application/vnd.plotly.v1+json": {
       "config": {
        "plotlyServerURL": "https://plot.ly"
       },
       "data": [
        {
         "type": "histogram",
         "x": [
          -0.11189311742782593,
          -0.09308677911758423,
          -0.03190767765045166,
          -0.06921786069869995,
          -0.0406528115272522,
          0.0031038224697113037,
          -0.016577959060668945,
          -0.03808784484863281,
          -0.1366216540336609,
          -0.0791555643081665,
          -0.14339834451675415,
          -0.04888707399368286,
          -0.07498151063919067,
          0.0033922791481018066,
          -0.020122289657592773,
          -0.08502852916717529,
          -0.0950232744216919,
          -0.021814405918121338,
          -0.07577228546142578,
          -0.07071852684020996,
          -0.06782758235931396,
          -0.017272531986236572,
          -0.2993096113204956,
          -0.04149419069290161,
          -0.07161086797714233,
          -0.15486866235733032,
          -0.11638450622558594,
          -0.04626184701919556,
          -0.029415905475616455,
          -0.08081263303756714,
          -0.06084197759628296,
          -0.11705970764160156,
          -0.1296755075454712,
          -0.14424222707748413,
          -0.1266748309135437,
          -0.08217728137969971,
          -0.13947230577468872,
          -0.10782885551452637,
          -0.07335388660430908,
          -0.14186257123947144,
          -0.04752647876739502,
          -0.0333867073059082,
          -0.08834177255630493,
          -0.17868638038635254,
          -0.028204500675201416,
          -0.10456192493438721,
          -0.07709765434265137,
          -0.06391847133636475,
          -0.0534663200378418,
          -0.21704626083374023,
          -0.20881563425064087,
          -0.0702466368675232,
          -0.1423102617263794,
          -0.11377227306365967,
          -0.09936612844467163,
          -0.10809844732284546,
          -0.08327823877334595,
          -0.05110806226730347,
          -0.024078965187072754,
          -0.07240325212478638,
          -0.04317772388458252,
          -0.037407636642456055,
          0.003547579050064087,
          -0.02565222978591919,
          0.004390120506286621,
          -0.016973674297332764,
          -0.09859806299209595,
          -0.4073476791381836,
          -0.1492685079574585,
          -0.06251072883605957,
          -0.2704617977142334,
          -0.17040836811065674,
          -0.2405710220336914,
          -0.1696566343307495,
          -0.03748351335525513,
          -0.2023962140083313,
          -0.1432608962059021,
          -0.2115166187286377,
          -0.2345731258392334,
          -0.12707233428955078,
          -0.08497554063796997,
          -0.039263010025024414,
          0.0063748955726623535,
          -0.014555811882019043,
          -0.0033243298530578613,
          -0.13246941566467285,
          0.009403407573699951,
          -0.021422624588012695,
          -0.12116032838821411,
          -0.055370032787323,
          -0.20491695404052734,
          -0.1287131905555725,
          -0.1080361008644104,
          -0.03843492269515991,
          -0.0865280032157898,
          -0.08722913265228271,
          -0.01099693775177002,
          -0.11665153503417969,
          -0.16506081819534302,
          -0.15594738721847534,
          -0.08633226156234741,
          -0.1444859504699707,
          -0.16208666563034058,
          -0.056081414222717285,
          -0.11071914434432983,
          -0.018795013427734375,
          -0.019123852252960205,
          0.003021150827407837,
          -0.08972370624542236,
          -0.5083482265472412,
          -0.22376954555511475,
          -0.25924015045166016,
          -0.20689672231674194,
          -0.02268928289413452,
          -0.005285024642944336,
          -0.011818230152130127,
          -0.04575711488723755,
          -0.29659342765808105,
          -0.21305716037750244,
          -0.2422196865081787,
          -0.25974833965301514,
          0.00500178337097168,
          -0.16134822368621826,
          -0.16783857345581055,
          -0.07647198438644409,
          -0.11211162805557251,
          -0.16284042596817017,
          -0.22516858577728271,
          -0.003924429416656494,
          0.0030891895294189453,
          -0.11741715669631958,
          -0.09249997138977051,
          -0.1021769642829895,
          -0.017756223678588867,
          -0.14419323205947876,
          -0.1407761573791504,
          -0.17208504676818848,
          -0.05239260196685791,
          -0.15750718116760254,
          -0.10443252325057983,
          -0.08554130792617798,
          -0.04345393180847168,
          -0.02122628688812256,
          -0.13383960723876953,
          -0.2839709520339966,
          -0.0823773741722107,
          -0.18808245658874512,
          -0.11899405717849731,
          -0.21167755126953125,
          -0.13894528150558472,
          -0.08947068452835083,
          -0.10974252223968506,
          -0.06865274906158447,
          -0.10869807004928589,
          -0.12126415967941284,
          -0.05910581350326538,
          -0.15307343006134033,
          -0.012516915798187256,
          -0.1012883186340332,
          -0.1330171823501587,
          0.011383861303329468,
          -0.143726646900177,
          -0.09320980310440063,
          -0.10189235210418701,
          -0.1040724515914917,
          -0.013049840927124023,
          -0.0013070404529571533,
          -0.03587883710861206,
          -0.04914247989654541,
          -0.02451181411743164,
          -0.039254069328308105,
          -0.08898675441741943,
          -0.02642083168029785,
          -0.06397539377212524,
          -0.08323800563812256,
          -0.307769238948822,
          -0.1362454891204834,
          -0.06742316484451294,
          -0.1070023775100708,
          -0.05519074201583862,
          -0.014970719814300537,
          -0.036167025566101074,
          -0.05370211601257324,
          -0.005671560764312744,
          -0.06451922655105591,
          -0.07441091537475586,
          -0.18852019309997559,
          -0.12421464920043945,
          -0.1773148775100708,
          -0.03279381990432739,
          -0.20181584358215332,
          -0.03292363882064819,
          -0.1386789083480835,
          -0.1364901065826416,
          -0.09700393676757812,
          -0.12721431255340576,
          -0.13190114498138428,
          -0.12409806251525879,
          -0.13126206398010254,
          -0.08644723892211914,
          -0.10843914747238159,
          -0.08146899938583374,
          -0.3429431915283203,
          -0.128362238407135,
          -0.11484754085540771,
          -0.13139593601226807,
          -0.048704326152801514,
          -0.1773902177810669,
          -0.122347891330719,
          -0.042417705059051514,
          -0.062224745750427246,
          -0.0056733787059783936,
          -0.031749606132507324,
          -0.07218438386917114,
          -0.07525211572647095,
          -0.042059242725372314,
          -0.1764775514602661,
          -0.15844154357910156,
          -0.05677139759063721,
          -0.2768394947052002,
          -0.32333850860595703,
          -0.08225619792938232,
          -0.06571060419082642,
          -0.09636318683624268,
          -0.3262801170349121,
          -0.18919360637664795,
          -0.06897133588790894,
          -0.30606794357299805,
          -0.26566171646118164,
          -0.1895439624786377,
          -0.20020872354507446,
          -0.032754600048065186,
          -0.022360265254974365,
          -0.08355957269668579,
          -0.08900851011276245,
          -0.18840378522872925,
          -0.12973910570144653,
          -0.15660876035690308,
          -0.09872764348983765,
          -0.38562583923339844,
          -0.201299786567688,
          -0.18521392345428467,
          -0.11127239465713501,
          -0.10689902305603027,
          -0.21508526802062988,
          -0.0813131332397461,
          -0.18815767765045166,
          -0.19430524110794067,
          -0.17928481101989746,
          -0.006403744220733643,
          -0.1089785099029541,
          -0.13543635606765747,
          -0.024568617343902588,
          -0.14679008722305298,
          -0.07353723049163818,
          -0.09439080953598022,
          -0.02568751573562622,
          -0.2536212205886841,
          -0.052739083766937256,
          -0.15444451570510864,
          -0.21080923080444336,
          -0.09459370374679565,
          -0.1284499168395996,
          -0.05363720655441284,
          -0.12154126167297363,
          -0.09225881099700928,
          -0.13680583238601685,
          -0.16502046585083008,
          -0.1528470516204834,
          -0.04582709074020386,
          -0.3395254611968994,
          -0.08056521415710449,
          -0.09236299991607666,
          -0.12908554077148438,
          -0.1889699101448059,
          -0.11291968822479248,
          -0.375469446182251,
          -0.17859184741973877,
          -0.0782051682472229,
          -0.3632361888885498,
          -0.0013707280158996582,
          -0.09807872772216797,
          -0.019335925579071045,
          -0.007628738880157471,
          -0.08730423450469971,
          -0.044371187686920166,
          -0.1300520896911621,
          -0.22187459468841553,
          -0.12316513061523438,
          -0.42696571350097656,
          -0.03697776794433594,
          -0.17024105787277222,
          -0.15091347694396973,
          -0.18903064727783203,
          -0.18778914213180542,
          -0.018931865692138672,
          -0.03961586952209473,
          -0.18562382459640503,
          -0.26466822624206543,
          -0.13996785879135132,
          -0.07254600524902344,
          -0.011574745178222656,
          -0.26479029655456543,
          -0.04106706380844116,
          -0.17734205722808838,
          -0.07044041156768799,
          -0.12147963047027588,
          -0.21180355548858643,
          -0.1423225998878479,
          -0.11239838600158691,
          -0.2041480541229248,
          -0.1381092071533203,
          -0.18287885189056396,
          -0.20577400922775269,
          -0.09882992506027222,
          -0.3937711715698242,
          -0.0997171401977539,
          -0.20727002620697021,
          -0.06218534708023071,
          -0.22731274366378784,
          -0.05280327796936035,
          -0.031119704246520996,
          -0.07494491338729858,
          -0.12350106239318848,
          -0.21739470958709717,
          -0.18095189332962036,
          -0.1603236198425293,
          -0.14546608924865723,
          -0.21749496459960938,
          -0.050817251205444336,
          -0.286227822303772,
          -0.21727919578552246,
          -0.1162291169166565,
          -0.0056493282318115234,
          -0.12105327844619751,
          -0.07083314657211304,
          -0.15787339210510254,
          -0.14240813255310059,
          -0.07620775699615479,
          -0.05901217460632324,
          -0.022000670433044434,
          -0.2754949927330017,
          -0.029431521892547607,
          -0.2299729585647583,
          -0.16601765155792236,
          -0.16478705406188965,
          -0.18928146362304688,
          -0.1825885772705078,
          -0.2665712833404541,
          -0.14970934391021729,
          -0.11825317144393921,
          -0.06703764200210571,
          -0.15383470058441162,
          -0.05777555704116821,
          -0.18804115056991577,
          -0.12146079540252686,
          -0.14333367347717285,
          -0.15077131986618042,
          -0.045671701431274414,
          -0.10952132940292358,
          -0.19043171405792236,
          -0.08090394735336304,
          -0.0903242826461792,
          -0.1044454574584961,
          -0.36694765090942383,
          -0.05890733003616333,
          -0.04506570100784302,
          -0.053032517433166504,
          -0.07727682590484619,
          -0.23529988527297974,
          -0.09110110998153687,
          -0.0619015097618103,
          -0.19917356967926025,
          -0.13285791873931885,
          -0.1402217149734497,
          -0.060716986656188965,
          -0.037101149559020996,
          0.004684865474700928,
          -0.13308590650558472,
          -0.042889177799224854,
          -0.06515032052993774,
          -0.08127790689468384,
          -0.30766361951828003,
          -0.22011488676071167,
          -0.23902058601379395,
          -0.1365278959274292,
          -0.36977124214172363,
          -0.0884360671043396,
          -0.12774068117141724,
          -0.0835886001586914,
          -0.06516462564468384,
          -0.1649067997932434,
          -0.14941567182540894,
          -0.02055579423904419,
          -0.08680522441864014,
          -0.11171495914459229,
          -0.19839125871658325,
          -0.07596075534820557,
          -0.3024435043334961,
          -0.27070116996765137,
          -0.18110382556915283,
          -0.04513806104660034,
          -0.31101369857788086,
          -0.2508202791213989,
          -0.047286927700042725,
          -0.023008882999420166,
          -0.10762649774551392,
          -0.13596510887145996,
          -0.06568199396133423,
          -0.03990691900253296,
          -0.34047383069992065,
          -0.013875603675842285,
          -0.04403030872344971,
          -0.15895193815231323,
          0.00881040096282959,
          -0.2959473133087158,
          -0.43940746784210205,
          -0.03999859094619751,
          -0.20705455541610718,
          -0.04735219478607178,
          -0.01038089394569397,
          -0.13119161128997803,
          -0.15654563903808594,
          -0.08595657348632812,
          -0.02517068386077881,
          -0.046236395835876465,
          -0.07012897729873657,
          -0.09790712594985962,
          -0.11723452806472778,
          -0.11153984069824219,
          -0.11467069387435913,
          -0.21331942081451416,
          -0.24448168277740479,
          -0.1563565731048584,
          -0.00047278404235839844,
          -0.13321453332901,
          -0.25819194316864014,
          -0.09524989128112793,
          -0.038249075412750244,
          -0.28297966718673706,
          -0.054625511169433594,
          -0.10604995489120483,
          -0.1455782651901245,
          -0.04036682844161987,
          -0.11114823818206787,
          -0.1977231502532959,
          -0.1345779299736023,
          -0.10635894536972046,
          -0.09725385904312134,
          -0.0714031457901001,
          -0.05105292797088623,
          -0.23334157466888428,
          -0.06993740797042847,
          -0.17973971366882324,
          -0.36769533157348633,
          -0.047400593757629395,
          -0.1709303855895996,
          -0.21499979496002197,
          -0.10624700784683228,
          -0.058295607566833496,
          -0.13736915588378906,
          -0.11216658353805542,
          -0.1089814305305481,
          -0.07287424802780151,
          -0.09707015752792358,
          -0.30776917934417725,
          -0.06596601009368896,
          -0.2593611478805542,
          -0.24399924278259277,
          -0.1991761326789856,
          -0.1439254879951477,
          -0.3351503610610962,
          -0.31796085834503174,
          -0.04108309745788574,
          -0.05671119689941406,
          -0.274097204208374,
          -0.2879107594490051,
          -0.1914578676223755,
          -0.1138041615486145,
          -0.27652108669281006,
          -0.14694112539291382,
          -0.11935985088348389,
          -0.09348094463348389,
          -0.09493356943130493,
          -0.22531306743621826,
          -0.15049326419830322,
          -0.07702624797821045,
          -0.16321301460266113,
          -0.26650333404541016,
          -0.17013585567474365,
          -0.17368364334106445,
          -0.18127483129501343,
          -0.20417523384094238,
          -0.03661710023880005,
          -0.023763835430145264,
          -0.050274789333343506,
          -0.20736944675445557,
          -0.26000773906707764,
          -0.03107362985610962,
          -0.053839147090911865,
          -0.1570395827293396,
          -0.24846643209457397,
          -0.11981046199798584,
          -0.2327641248703003,
          -0.0860939621925354,
          -0.22835677862167358,
          -0.06521546840667725,
          -0.3564183712005615,
          -0.16626513004302979,
          -0.05572003126144409,
          -0.2086712121963501,
          -0.20173704624176025,
          -0.38325369358062744,
          -0.10065585374832153,
          -0.23801356554031372,
          -0.09389764070510864,
          -0.1192694902420044,
          -0.1716253161430359,
          -0.07061487436294556,
          -0.2069251537322998,
          -0.09621644020080566,
          -0.13746672868728638,
          -0.2752261757850647,
          -0.15175724029541016,
          -0.12098699808120728,
          -0.07461071014404297,
          -0.06299054622650146,
          -0.18802279233932495,
          -0.2870328426361084,
          -0.11491495370864868,
          -0.33866453170776367,
          -0.11015743017196655,
          -0.2497454285621643,
          -0.0064528584480285645,
          -0.3482469320297241,
          -0.28501927852630615,
          -0.3555382490158081,
          -0.11822724342346191,
          -0.2407851219177246,
          -0.3393014669418335,
          -0.36921727657318115,
          -0.24504780769348145,
          -0.22592121362686157,
          -0.10378009080886841,
          -0.15384864807128906,
          -0.16246014833450317,
          -0.03173631429672241,
          -0.10878866910934448,
          -0.19249892234802246,
          -0.028835177421569824,
          -0.24660205841064453,
          -0.245383620262146,
          -0.145557701587677,
          -0.20050853490829468,
          -0.225314199924469,
          -0.2889624834060669,
          -0.32636380195617676,
          -0.26759886741638184,
          -0.23418402671813965,
          -0.2597910165786743,
          -0.06337499618530273,
          -0.1559651494026184,
          -0.16382640600204468,
          -0.17560458183288574,
          -0.1549292802810669,
          -0.22682726383209229,
          -0.14414387941360474,
          -0.19587522745132446,
          -0.1803094744682312,
          -0.08362960815429688,
          -0.14816701412200928,
          -0.2724077105522156,
          -0.17695701122283936,
          -0.22493672370910645,
          -0.36937427520751953,
          -0.2880899906158447,
          -0.2817866802215576,
          -0.21000665426254272,
          -0.19588065147399902,
          -0.14853370189666748,
          -0.16542917490005493,
          -0.31244194507598877,
          -0.13203191757202148,
          -0.3077157139778137,
          -0.28779053688049316,
          -0.223854660987854,
          -0.25558340549468994,
          -0.17070746421813965,
          -0.2523787021636963,
          -0.15398770570755005,
          -0.362140417098999,
          -0.06448149681091309,
          -0.08294832706451416,
          -0.34136807918548584,
          -0.2889443635940552,
          -0.3299412727355957,
          -0.2785344123840332,
          -0.22057390213012695,
          -0.2784360647201538,
          -0.25842994451522827,
          -0.1830686330795288,
          -0.20766448974609375,
          -0.0714031457901001,
          -0.3923383951187134,
          -0.07649636268615723,
          -0.2989475727081299,
          -0.21218657493591309,
          -0.13482487201690674,
          -0.26695990562438965,
          -0.22554302215576172,
          -0.1903315782546997,
          -0.10323888063430786,
          -0.18230950832366943,
          -0.22181880474090576,
          -0.10304445028305054,
          -0.41524243354797363,
          -0.23110222816467285,
          -0.15708225965499878,
          -0.3072581887245178,
          -0.1678449511528015,
          -0.24847209453582764,
          -0.1570981740951538,
          -0.24269413948059082,
          -0.42643797397613525,
          -0.28394174575805664,
          -0.26666295528411865,
          -0.33589303493499756,
          -0.1819370985031128,
          -0.39524948596954346,
          -0.09679871797561646,
          -0.12712311744689941,
          -0.1277448534965515,
          -0.05080538988113403,
          -0.19478142261505127,
          -0.13557708263397217,
          -0.15736424922943115,
          -0.20664644241333008,
          -0.31881463527679443,
          -0.1765415072441101,
          -0.18886995315551758,
          -0.28819918632507324,
          -0.31197798252105713,
          -0.28067660331726074,
          -0.24102389812469482,
          -0.1938161849975586,
          -0.3256329298019409,
          -0.2998875379562378,
          -0.29761970043182373,
          -0.255352258682251,
          -0.4431055784225464,
          -0.12882471084594727,
          -0.17976391315460205,
          -0.24907124042510986,
          -0.17908143997192383,
          -0.12751054763793945,
          -0.09929490089416504,
          -0.24056220054626465,
          -0.24360603094100952,
          -0.35252082347869873,
          -0.2132638692855835,
          -0.19771593809127808,
          -0.21247458457946777,
          -0.3118804693222046,
          -0.27582383155822754,
          -0.20462507009506226,
          -0.28274625539779663,
          -0.12495380640029907,
          -0.1572008728981018,
          -0.2746337056159973,
          -0.22752493619918823,
          -0.24432408809661865,
          -0.27191436290740967,
          -0.25139904022216797,
          -0.1715472936630249,
          -0.2858733534812927,
          -0.2416747808456421,
          -0.09865939617156982,
          -0.37641263008117676,
          -0.35854995250701904,
          -0.16239774227142334,
          -0.16374069452285767,
          -0.2748908996582031,
          -0.4114186763763428,
          -0.337282657623291,
          -0.34629690647125244,
          -0.19640088081359863,
          -0.28148728609085083,
          -0.2351287603378296,
          -0.1536152958869934,
          -0.1338995099067688,
          -0.11322629451751709,
          -0.1559651494026184,
          -0.238355815410614,
          -0.13635098934173584,
          -0.34843194484710693,
          -0.2753671407699585,
          -0.0903739333152771,
          -0.1801885962486267,
          -0.19773149490356445,
          -0.2231360673904419,
          -0.1489180326461792,
          -0.23118209838867188,
          -0.21963369846343994,
          -0.453252911567688,
          -0.1293792724609375,
          -0.2853623628616333,
          -0.30416548252105713,
          -0.1790609359741211,
          -0.1475609540939331,
          -0.20485740900039673,
          -0.3396521210670471,
          -0.16023588180541992,
          -0.21471208333969116,
          -0.24252533912658691,
          -0.27205121517181396,
          -0.49215245246887207,
          -0.21369922161102295,
          -0.40564537048339844,
          -0.3795202970504761,
          -0.1543511152267456,
          -0.33626675605773926,
          -0.19741016626358032,
          -0.3200538754463196,
          -0.087871253490448,
          -0.15547531843185425,
          -0.4581962823867798,
          -0.4912296533584595,
          -0.19786709547042847,
          -0.25773513317108154,
          -0.09438812732696533,
          -0.3347388505935669,
          -0.16509437561035156,
          -0.1687483787536621,
          -0.3957763910293579,
          -0.1619003415107727,
          -0.3526911735534668,
          -0.45792949199676514,
          -0.1570459008216858,
          -0.15355807542800903,
          -0.23566633462905884,
          -0.20557260513305664,
          -0.21094560623168945,
          -0.33840882778167725,
          -0.35794544219970703,
          -0.326137900352478,
          -0.3002467155456543,
          -0.1314716935157776,
          -0.1293792724609375,
          -0.42284655570983887,
          -0.2001948356628418,
          -0.15179681777954102,
          -0.42013978958129883,
          -0.14105433225631714,
          -0.34274208545684814,
          -0.1679639220237732,
          -0.3856332302093506,
          -0.0924791693687439,
          -0.1807922124862671,
          -0.13424628973007202,
          -0.12093591690063477,
          -0.14802074432373047,
          -0.476967453956604,
          -0.4602198600769043,
          -0.26398372650146484,
          -0.36418235301971436,
          -0.28956782817840576,
          -0.37914395332336426,
          -0.08495926856994629,
          -0.36303889751434326,
          -0.3405435085296631,
          -0.2609596252441406,
          -0.057613492012023926,
          -0.3556220531463623,
          -0.15984505414962769,
          -0.37987685203552246,
          -0.170474112033844,
          -0.3955507278442383,
          -0.14236289262771606,
          -0.2743082046508789,
          -0.31135445833206177,
          -0.3030339479446411,
          -0.38507723808288574,
          -0.46022188663482666,
          -0.23937034606933594,
          -0.27980995178222656,
          -0.15419799089431763,
          -0.24473148584365845,
          -0.33209049701690674,
          -0.16435307264328003,
          -0.34657740592956543,
          -0.10491007566452026,
          -0.3123323917388916,
          -0.34387028217315674,
          -0.08226072788238525,
          -0.11897784471511841,
          -0.3761122226715088,
          -0.2361840009689331,
          -0.16248679161071777,
          -0.26548105478286743,
          -0.3741726875305176,
          -0.2635299563407898,
          -0.006019532680511475,
          -0.21066200733184814,
          -0.20776772499084473,
          -0.13517320156097412,
          -0.3125084638595581,
          -0.1367243528366089,
          -0.13404667377471924,
          -0.16719192266464233,
          -0.20591378211975098,
          -0.3659301996231079,
          -0.16985899209976196,
          -0.3137110471725464,
          -0.1466248631477356,
          -0.31652289628982544,
          -0.1826764941215515,
          -0.3534203767776489,
          -0.21812224388122559,
          -0.13635098934173584,
          -0.17212259769439697,
          -0.42382752895355225,
          -0.24372339248657227,
          -0.2082194685935974,
          -0.2376861572265625,
          -0.1617078185081482,
          -0.3743988275527954,
          -0.13950181007385254,
          -0.00019857287406921387,
          -0.10505294799804688,
          -0.255393922328949,
          -0.3570762872695923,
          -0.41518235206604004,
          -0.17211788892745972,
          -0.2525665760040283,
          -0.17253875732421875,
          -0.3786718249320984,
          -0.497625470161438,
          -0.06984943151473999,
          -0.3804396390914917,
          -0.1702357530593872,
          -0.06975191831588745,
          -0.13736826181411743,
          -0.254336953163147,
          -0.13409346342086792,
          -0.18285876512527466,
          -0.16070574522018433,
          -0.209827721118927,
          -0.36271560192108154,
          -0.4039877653121948,
          -0.40239179134368896,
          -0.2404712438583374,
          -0.2568807601928711,
          -0.31135034561157227,
          -0.33010780811309814,
          -0.17191565036773682,
          -0.2568807601928711,
          -0.17642390727996826,
          -0.1362137794494629,
          -0.4401230812072754,
          -0.24067223072052002,
          -0.16476333141326904,
          -0.16977936029434204,
          -0.26446056365966797,
          -0.2084287405014038,
          -0.22945940494537354,
          -0.08834385871887207,
          -0.24905771017074585,
          -0.29880160093307495,
          -0.16161394119262695,
          -0.1840742826461792,
          -0.2856259346008301,
          -0.13650834560394287,
          -0.17031514644622803,
          -0.201046884059906,
          -0.22720354795455933,
          -0.16000419855117798,
          -0.2820562720298767,
          -0.20850664377212524,
          -0.28398048877716064,
          -0.16134637594223022,
          -0.17809313535690308,
          -0.16118961572647095,
          -0.18449455499649048,
          -0.1985948085784912,
          -0.19791775941848755,
          -0.2786977291107178,
          -0.23001813888549805,
          -0.4289870262145996,
          -0.17226272821426392,
          -0.1237608790397644,
          -0.39669889211654663,
          -0.28277695178985596,
          -0.2751217484474182,
          -0.3274979591369629,
          -0.1439955234527588,
          -0.19329077005386353,
          -0.26118576526641846,
          -0.0714031457901001,
          -0.11795836687088013,
          -0.12033915519714355,
          -0.19191992282867432,
          -0.19666701555252075,
          -0.2688058614730835,
          -0.18069350719451904,
          -0.09801912307739258,
          -0.30065423250198364,
          -0.1525619626045227,
          -0.18220418691635132,
          -0.126148521900177,
          -0.23566633462905884,
          -0.14497339725494385,
          -0.1538558006286621,
          -0.16822493076324463,
          -0.054430484771728516,
          -0.13318860530853271,
          -0.4301416873931885,
          -0.2449634075164795,
          -0.10194098949432373,
          -0.207383394241333,
          -0.15519213676452637,
          -0.37718772888183594,
          -0.2359747290611267,
          -0.2992793321609497,
          -0.3449420928955078,
          -0.31389760971069336,
          -0.2663651704788208,
          -0.22156333923339844,
          -0.14648222923278809,
          -0.2038637399673462,
          -0.2437189817428589,
          -0.17917495965957642,
          -0.17823290824890137,
          -0.20005887746810913,
          -0.19436830282211304,
          -0.17179656028747559,
          -0.3459230065345764,
          -0.2355794906616211,
          -0.27043211460113525,
          -0.24614882469177246,
          -0.15482211112976074,
          -0.23293352127075195,
          -0.23293352127075195,
          -0.23293352127075195,
          -0.11523079872131348,
          -0.1307152509689331,
          -0.347625732421875,
          -0.2666628360748291,
          -0.23761910200119019,
          -0.31677699089050293,
          -0.12197542190551758,
          -0.18649429082870483,
          -0.4181210994720459,
          -0.0007937252521514893,
          -0.23564070463180542,
          -0.10868197679519653,
          -0.2768789529800415,
          -0.10868197679519653,
          -0.0871698260307312,
          -0.12745893001556396,
          -0.2216089367866516,
          -0.3539164066314697,
          -0.25187647342681885,
          -0.0871698260307312,
          -0.18449455499649048,
          -0.28964763879776,
          -0.3758805990219116,
          -0.25417041778564453,
          -0.2979249954223633,
          -0.25766485929489136,
          -0.18674641847610474,
          -0.12491309642791748,
          -0.1855369210243225,
          -0.24399560689926147,
          -0.13906466960906982,
          -0.1760360598564148,
          -0.2674819231033325,
          -0.02691417932510376,
          -0.2981346845626831,
          -0.204606831073761,
          -0.28277695178985596,
          -0.2728642225265503,
          -0.34987974166870117,
          -0.19465160369873047,
          -0.13424628973007202,
          -0.3137110471725464,
          -0.1650121808052063
         ]
        }
       ],
       "layout": {
        "font": {
         "size": 30
        },
        "paper_bgcolor": "white",
        "plot_bgcolor": "white",
        "template": {
         "data": {
          "bar": [
           {
            "error_x": {
             "color": "#2a3f5f"
            },
            "error_y": {
             "color": "#2a3f5f"
            },
            "marker": {
             "line": {
              "color": "#E5ECF6",
              "width": 0.5
             },
             "pattern": {
              "fillmode": "overlay",
              "size": 10,
              "solidity": 0.2
             }
            },
            "type": "bar"
           }
          ],
          "barpolar": [
           {
            "marker": {
             "line": {
              "color": "#E5ECF6",
              "width": 0.5
             },
             "pattern": {
              "fillmode": "overlay",
              "size": 10,
              "solidity": 0.2
             }
            },
            "type": "barpolar"
           }
          ],
          "carpet": [
           {
            "aaxis": {
             "endlinecolor": "#2a3f5f",
             "gridcolor": "white",
             "linecolor": "white",
             "minorgridcolor": "white",
             "startlinecolor": "#2a3f5f"
            },
            "baxis": {
             "endlinecolor": "#2a3f5f",
             "gridcolor": "white",
             "linecolor": "white",
             "minorgridcolor": "white",
             "startlinecolor": "#2a3f5f"
            },
            "type": "carpet"
           }
          ],
          "choropleth": [
           {
            "colorbar": {
             "outlinewidth": 0,
             "ticks": ""
            },
            "type": "choropleth"
           }
          ],
          "contour": [
           {
            "colorbar": {
             "outlinewidth": 0,
             "ticks": ""
            },
            "colorscale": [
             [
              0,
              "#0d0887"
             ],
             [
              0.1111111111111111,
              "#46039f"
             ],
             [
              0.2222222222222222,
              "#7201a8"
             ],
             [
              0.3333333333333333,
              "#9c179e"
             ],
             [
              0.4444444444444444,
              "#bd3786"
             ],
             [
              0.5555555555555556,
              "#d8576b"
             ],
             [
              0.6666666666666666,
              "#ed7953"
             ],
             [
              0.7777777777777778,
              "#fb9f3a"
             ],
             [
              0.8888888888888888,
              "#fdca26"
             ],
             [
              1,
              "#f0f921"
             ]
            ],
            "type": "contour"
           }
          ],
          "contourcarpet": [
           {
            "colorbar": {
             "outlinewidth": 0,
             "ticks": ""
            },
            "type": "contourcarpet"
           }
          ],
          "heatmap": [
           {
            "colorbar": {
             "outlinewidth": 0,
             "ticks": ""
            },
            "colorscale": [
             [
              0,
              "#0d0887"
             ],
             [
              0.1111111111111111,
              "#46039f"
             ],
             [
              0.2222222222222222,
              "#7201a8"
             ],
             [
              0.3333333333333333,
              "#9c179e"
             ],
             [
              0.4444444444444444,
              "#bd3786"
             ],
             [
              0.5555555555555556,
              "#d8576b"
             ],
             [
              0.6666666666666666,
              "#ed7953"
             ],
             [
              0.7777777777777778,
              "#fb9f3a"
             ],
             [
              0.8888888888888888,
              "#fdca26"
             ],
             [
              1,
              "#f0f921"
             ]
            ],
            "type": "heatmap"
           }
          ],
          "heatmapgl": [
           {
            "colorbar": {
             "outlinewidth": 0,
             "ticks": ""
            },
            "colorscale": [
             [
              0,
              "#0d0887"
             ],
             [
              0.1111111111111111,
              "#46039f"
             ],
             [
              0.2222222222222222,
              "#7201a8"
             ],
             [
              0.3333333333333333,
              "#9c179e"
             ],
             [
              0.4444444444444444,
              "#bd3786"
             ],
             [
              0.5555555555555556,
              "#d8576b"
             ],
             [
              0.6666666666666666,
              "#ed7953"
             ],
             [
              0.7777777777777778,
              "#fb9f3a"
             ],
             [
              0.8888888888888888,
              "#fdca26"
             ],
             [
              1,
              "#f0f921"
             ]
            ],
            "type": "heatmapgl"
           }
          ],
          "histogram": [
           {
            "marker": {
             "pattern": {
              "fillmode": "overlay",
              "size": 10,
              "solidity": 0.2
             }
            },
            "type": "histogram"
           }
          ],
          "histogram2d": [
           {
            "colorbar": {
             "outlinewidth": 0,
             "ticks": ""
            },
            "colorscale": [
             [
              0,
              "#0d0887"
             ],
             [
              0.1111111111111111,
              "#46039f"
             ],
             [
              0.2222222222222222,
              "#7201a8"
             ],
             [
              0.3333333333333333,
              "#9c179e"
             ],
             [
              0.4444444444444444,
              "#bd3786"
             ],
             [
              0.5555555555555556,
              "#d8576b"
             ],
             [
              0.6666666666666666,
              "#ed7953"
             ],
             [
              0.7777777777777778,
              "#fb9f3a"
             ],
             [
              0.8888888888888888,
              "#fdca26"
             ],
             [
              1,
              "#f0f921"
             ]
            ],
            "type": "histogram2d"
           }
          ],
          "histogram2dcontour": [
           {
            "colorbar": {
             "outlinewidth": 0,
             "ticks": ""
            },
            "colorscale": [
             [
              0,
              "#0d0887"
             ],
             [
              0.1111111111111111,
              "#46039f"
             ],
             [
              0.2222222222222222,
              "#7201a8"
             ],
             [
              0.3333333333333333,
              "#9c179e"
             ],
             [
              0.4444444444444444,
              "#bd3786"
             ],
             [
              0.5555555555555556,
              "#d8576b"
             ],
             [
              0.6666666666666666,
              "#ed7953"
             ],
             [
              0.7777777777777778,
              "#fb9f3a"
             ],
             [
              0.8888888888888888,
              "#fdca26"
             ],
             [
              1,
              "#f0f921"
             ]
            ],
            "type": "histogram2dcontour"
           }
          ],
          "mesh3d": [
           {
            "colorbar": {
             "outlinewidth": 0,
             "ticks": ""
            },
            "type": "mesh3d"
           }
          ],
          "parcoords": [
           {
            "line": {
             "colorbar": {
              "outlinewidth": 0,
              "ticks": ""
             }
            },
            "type": "parcoords"
           }
          ],
          "pie": [
           {
            "automargin": true,
            "type": "pie"
           }
          ],
          "scatter": [
           {
            "fillpattern": {
             "fillmode": "overlay",
             "size": 10,
             "solidity": 0.2
            },
            "type": "scatter"
           }
          ],
          "scatter3d": [
           {
            "line": {
             "colorbar": {
              "outlinewidth": 0,
              "ticks": ""
             }
            },
            "marker": {
             "colorbar": {
              "outlinewidth": 0,
              "ticks": ""
             }
            },
            "type": "scatter3d"
           }
          ],
          "scattercarpet": [
           {
            "marker": {
             "colorbar": {
              "outlinewidth": 0,
              "ticks": ""
             }
            },
            "type": "scattercarpet"
           }
          ],
          "scattergeo": [
           {
            "marker": {
             "colorbar": {
              "outlinewidth": 0,
              "ticks": ""
             }
            },
            "type": "scattergeo"
           }
          ],
          "scattergl": [
           {
            "marker": {
             "colorbar": {
              "outlinewidth": 0,
              "ticks": ""
             }
            },
            "type": "scattergl"
           }
          ],
          "scattermapbox": [
           {
            "marker": {
             "colorbar": {
              "outlinewidth": 0,
              "ticks": ""
             }
            },
            "type": "scattermapbox"
           }
          ],
          "scatterpolar": [
           {
            "marker": {
             "colorbar": {
              "outlinewidth": 0,
              "ticks": ""
             }
            },
            "type": "scatterpolar"
           }
          ],
          "scatterpolargl": [
           {
            "marker": {
             "colorbar": {
              "outlinewidth": 0,
              "ticks": ""
             }
            },
            "type": "scatterpolargl"
           }
          ],
          "scatterternary": [
           {
            "marker": {
             "colorbar": {
              "outlinewidth": 0,
              "ticks": ""
             }
            },
            "type": "scatterternary"
           }
          ],
          "surface": [
           {
            "colorbar": {
             "outlinewidth": 0,
             "ticks": ""
            },
            "colorscale": [
             [
              0,
              "#0d0887"
             ],
             [
              0.1111111111111111,
              "#46039f"
             ],
             [
              0.2222222222222222,
              "#7201a8"
             ],
             [
              0.3333333333333333,
              "#9c179e"
             ],
             [
              0.4444444444444444,
              "#bd3786"
             ],
             [
              0.5555555555555556,
              "#d8576b"
             ],
             [
              0.6666666666666666,
              "#ed7953"
             ],
             [
              0.7777777777777778,
              "#fb9f3a"
             ],
             [
              0.8888888888888888,
              "#fdca26"
             ],
             [
              1,
              "#f0f921"
             ]
            ],
            "type": "surface"
           }
          ],
          "table": [
           {
            "cells": {
             "fill": {
              "color": "#EBF0F8"
             },
             "line": {
              "color": "white"
             }
            },
            "header": {
             "fill": {
              "color": "#C8D4E3"
             },
             "line": {
              "color": "white"
             }
            },
            "type": "table"
           }
          ]
         },
         "layout": {
          "annotationdefaults": {
           "arrowcolor": "#2a3f5f",
           "arrowhead": 0,
           "arrowwidth": 1
          },
          "autotypenumbers": "strict",
          "coloraxis": {
           "colorbar": {
            "outlinewidth": 0,
            "ticks": ""
           }
          },
          "colorscale": {
           "diverging": [
            [
             0,
             "#8e0152"
            ],
            [
             0.1,
             "#c51b7d"
            ],
            [
             0.2,
             "#de77ae"
            ],
            [
             0.3,
             "#f1b6da"
            ],
            [
             0.4,
             "#fde0ef"
            ],
            [
             0.5,
             "#f7f7f7"
            ],
            [
             0.6,
             "#e6f5d0"
            ],
            [
             0.7,
             "#b8e186"
            ],
            [
             0.8,
             "#7fbc41"
            ],
            [
             0.9,
             "#4d9221"
            ],
            [
             1,
             "#276419"
            ]
           ],
           "sequential": [
            [
             0,
             "#0d0887"
            ],
            [
             0.1111111111111111,
             "#46039f"
            ],
            [
             0.2222222222222222,
             "#7201a8"
            ],
            [
             0.3333333333333333,
             "#9c179e"
            ],
            [
             0.4444444444444444,
             "#bd3786"
            ],
            [
             0.5555555555555556,
             "#d8576b"
            ],
            [
             0.6666666666666666,
             "#ed7953"
            ],
            [
             0.7777777777777778,
             "#fb9f3a"
            ],
            [
             0.8888888888888888,
             "#fdca26"
            ],
            [
             1,
             "#f0f921"
            ]
           ],
           "sequentialminus": [
            [
             0,
             "#0d0887"
            ],
            [
             0.1111111111111111,
             "#46039f"
            ],
            [
             0.2222222222222222,
             "#7201a8"
            ],
            [
             0.3333333333333333,
             "#9c179e"
            ],
            [
             0.4444444444444444,
             "#bd3786"
            ],
            [
             0.5555555555555556,
             "#d8576b"
            ],
            [
             0.6666666666666666,
             "#ed7953"
            ],
            [
             0.7777777777777778,
             "#fb9f3a"
            ],
            [
             0.8888888888888888,
             "#fdca26"
            ],
            [
             1,
             "#f0f921"
            ]
           ]
          },
          "colorway": [
           "#636efa",
           "#EF553B",
           "#00cc96",
           "#ab63fa",
           "#FFA15A",
           "#19d3f3",
           "#FF6692",
           "#B6E880",
           "#FF97FF",
           "#FECB52"
          ],
          "font": {
           "color": "#2a3f5f"
          },
          "geo": {
           "bgcolor": "white",
           "lakecolor": "white",
           "landcolor": "#E5ECF6",
           "showlakes": true,
           "showland": true,
           "subunitcolor": "white"
          },
          "hoverlabel": {
           "align": "left"
          },
          "hovermode": "closest",
          "mapbox": {
           "style": "light"
          },
          "paper_bgcolor": "white",
          "plot_bgcolor": "#E5ECF6",
          "polar": {
           "angularaxis": {
            "gridcolor": "white",
            "linecolor": "white",
            "ticks": ""
           },
           "bgcolor": "#E5ECF6",
           "radialaxis": {
            "gridcolor": "white",
            "linecolor": "white",
            "ticks": ""
           }
          },
          "scene": {
           "xaxis": {
            "backgroundcolor": "#E5ECF6",
            "gridcolor": "white",
            "gridwidth": 2,
            "linecolor": "white",
            "showbackground": true,
            "ticks": "",
            "zerolinecolor": "white"
           },
           "yaxis": {
            "backgroundcolor": "#E5ECF6",
            "gridcolor": "white",
            "gridwidth": 2,
            "linecolor": "white",
            "showbackground": true,
            "ticks": "",
            "zerolinecolor": "white"
           },
           "zaxis": {
            "backgroundcolor": "#E5ECF6",
            "gridcolor": "white",
            "gridwidth": 2,
            "linecolor": "white",
            "showbackground": true,
            "ticks": "",
            "zerolinecolor": "white"
           }
          },
          "shapedefaults": {
           "line": {
            "color": "#2a3f5f"
           }
          },
          "ternary": {
           "aaxis": {
            "gridcolor": "white",
            "linecolor": "white",
            "ticks": ""
           },
           "baxis": {
            "gridcolor": "white",
            "linecolor": "white",
            "ticks": ""
           },
           "bgcolor": "#E5ECF6",
           "caxis": {
            "gridcolor": "white",
            "linecolor": "white",
            "ticks": ""
           }
          },
          "title": {
           "x": 0.05
          },
          "xaxis": {
           "automargin": true,
           "gridcolor": "white",
           "linecolor": "white",
           "ticks": "",
           "title": {
            "standoff": 15
           },
           "zerolinecolor": "white",
           "zerolinewidth": 2
          },
          "yaxis": {
           "automargin": true,
           "gridcolor": "white",
           "linecolor": "white",
           "ticks": "",
           "title": {
            "standoff": 15
           },
           "zerolinecolor": "white",
           "zerolinewidth": 2
          }
         }
        },
        "title": {
         "text": "Distribution of Difference In Nuclear Norms - DGI vs DGI+XM"
        },
        "xaxis": {
         "title": {
          "text": "Difference In Nuclear Norms - DGI vs DGI+XM"
         }
        },
        "yaxis": {
         "title": {
          "text": "Frequency"
         }
        }
       }
      },
      "text/html": [
       "<div>                            <div id=\"822ac638-5d87-49d2-9f70-1cace375e039\" class=\"plotly-graph-div\" style=\"height:525px; width:100%;\"></div>            <script type=\"text/javascript\">                require([\"plotly\"], function(Plotly) {                    window.PLOTLYENV=window.PLOTLYENV || {};                                    if (document.getElementById(\"822ac638-5d87-49d2-9f70-1cace375e039\")) {                    Plotly.newPlot(                        \"822ac638-5d87-49d2-9f70-1cace375e039\",                        [{\"x\":[-0.11189311742782593,-0.09308677911758423,-0.03190767765045166,-0.06921786069869995,-0.0406528115272522,0.0031038224697113037,-0.016577959060668945,-0.03808784484863281,-0.1366216540336609,-0.0791555643081665,-0.14339834451675415,-0.04888707399368286,-0.07498151063919067,0.0033922791481018066,-0.020122289657592773,-0.08502852916717529,-0.0950232744216919,-0.021814405918121338,-0.07577228546142578,-0.07071852684020996,-0.06782758235931396,-0.017272531986236572,-0.2993096113204956,-0.04149419069290161,-0.07161086797714233,-0.15486866235733032,-0.11638450622558594,-0.04626184701919556,-0.029415905475616455,-0.08081263303756714,-0.06084197759628296,-0.11705970764160156,-0.1296755075454712,-0.14424222707748413,-0.1266748309135437,-0.08217728137969971,-0.13947230577468872,-0.10782885551452637,-0.07335388660430908,-0.14186257123947144,-0.04752647876739502,-0.0333867073059082,-0.08834177255630493,-0.17868638038635254,-0.028204500675201416,-0.10456192493438721,-0.07709765434265137,-0.06391847133636475,-0.0534663200378418,-0.21704626083374023,-0.20881563425064087,-0.0702466368675232,-0.1423102617263794,-0.11377227306365967,-0.09936612844467163,-0.10809844732284546,-0.08327823877334595,-0.05110806226730347,-0.024078965187072754,-0.07240325212478638,-0.04317772388458252,-0.037407636642456055,0.003547579050064087,-0.02565222978591919,0.004390120506286621,-0.016973674297332764,-0.09859806299209595,-0.4073476791381836,-0.1492685079574585,-0.06251072883605957,-0.2704617977142334,-0.17040836811065674,-0.2405710220336914,-0.1696566343307495,-0.03748351335525513,-0.2023962140083313,-0.1432608962059021,-0.2115166187286377,-0.2345731258392334,-0.12707233428955078,-0.08497554063796997,-0.039263010025024414,0.0063748955726623535,-0.014555811882019043,-0.0033243298530578613,-0.13246941566467285,0.009403407573699951,-0.021422624588012695,-0.12116032838821411,-0.055370032787323,-0.20491695404052734,-0.1287131905555725,-0.1080361008644104,-0.03843492269515991,-0.0865280032157898,-0.08722913265228271,-0.01099693775177002,-0.11665153503417969,-0.16506081819534302,-0.15594738721847534,-0.08633226156234741,-0.1444859504699707,-0.16208666563034058,-0.056081414222717285,-0.11071914434432983,-0.018795013427734375,-0.019123852252960205,0.003021150827407837,-0.08972370624542236,-0.5083482265472412,-0.22376954555511475,-0.25924015045166016,-0.20689672231674194,-0.02268928289413452,-0.005285024642944336,-0.011818230152130127,-0.04575711488723755,-0.29659342765808105,-0.21305716037750244,-0.2422196865081787,-0.25974833965301514,0.00500178337097168,-0.16134822368621826,-0.16783857345581055,-0.07647198438644409,-0.11211162805557251,-0.16284042596817017,-0.22516858577728271,-0.003924429416656494,0.0030891895294189453,-0.11741715669631958,-0.09249997138977051,-0.1021769642829895,-0.017756223678588867,-0.14419323205947876,-0.1407761573791504,-0.17208504676818848,-0.05239260196685791,-0.15750718116760254,-0.10443252325057983,-0.08554130792617798,-0.04345393180847168,-0.02122628688812256,-0.13383960723876953,-0.2839709520339966,-0.0823773741722107,-0.18808245658874512,-0.11899405717849731,-0.21167755126953125,-0.13894528150558472,-0.08947068452835083,-0.10974252223968506,-0.06865274906158447,-0.10869807004928589,-0.12126415967941284,-0.05910581350326538,-0.15307343006134033,-0.012516915798187256,-0.1012883186340332,-0.1330171823501587,0.011383861303329468,-0.143726646900177,-0.09320980310440063,-0.10189235210418701,-0.1040724515914917,-0.013049840927124023,-0.0013070404529571533,-0.03587883710861206,-0.04914247989654541,-0.02451181411743164,-0.039254069328308105,-0.08898675441741943,-0.02642083168029785,-0.06397539377212524,-0.08323800563812256,-0.307769238948822,-0.1362454891204834,-0.06742316484451294,-0.1070023775100708,-0.05519074201583862,-0.014970719814300537,-0.036167025566101074,-0.05370211601257324,-0.005671560764312744,-0.06451922655105591,-0.07441091537475586,-0.18852019309997559,-0.12421464920043945,-0.1773148775100708,-0.03279381990432739,-0.20181584358215332,-0.03292363882064819,-0.1386789083480835,-0.1364901065826416,-0.09700393676757812,-0.12721431255340576,-0.13190114498138428,-0.12409806251525879,-0.13126206398010254,-0.08644723892211914,-0.10843914747238159,-0.08146899938583374,-0.3429431915283203,-0.128362238407135,-0.11484754085540771,-0.13139593601226807,-0.048704326152801514,-0.1773902177810669,-0.122347891330719,-0.042417705059051514,-0.062224745750427246,-0.0056733787059783936,-0.031749606132507324,-0.07218438386917114,-0.07525211572647095,-0.042059242725372314,-0.1764775514602661,-0.15844154357910156,-0.05677139759063721,-0.2768394947052002,-0.32333850860595703,-0.08225619792938232,-0.06571060419082642,-0.09636318683624268,-0.3262801170349121,-0.18919360637664795,-0.06897133588790894,-0.30606794357299805,-0.26566171646118164,-0.1895439624786377,-0.20020872354507446,-0.032754600048065186,-0.022360265254974365,-0.08355957269668579,-0.08900851011276245,-0.18840378522872925,-0.12973910570144653,-0.15660876035690308,-0.09872764348983765,-0.38562583923339844,-0.201299786567688,-0.18521392345428467,-0.11127239465713501,-0.10689902305603027,-0.21508526802062988,-0.0813131332397461,-0.18815767765045166,-0.19430524110794067,-0.17928481101989746,-0.006403744220733643,-0.1089785099029541,-0.13543635606765747,-0.024568617343902588,-0.14679008722305298,-0.07353723049163818,-0.09439080953598022,-0.02568751573562622,-0.2536212205886841,-0.052739083766937256,-0.15444451570510864,-0.21080923080444336,-0.09459370374679565,-0.1284499168395996,-0.05363720655441284,-0.12154126167297363,-0.09225881099700928,-0.13680583238601685,-0.16502046585083008,-0.1528470516204834,-0.04582709074020386,-0.3395254611968994,-0.08056521415710449,-0.09236299991607666,-0.12908554077148438,-0.1889699101448059,-0.11291968822479248,-0.375469446182251,-0.17859184741973877,-0.0782051682472229,-0.3632361888885498,-0.0013707280158996582,-0.09807872772216797,-0.019335925579071045,-0.007628738880157471,-0.08730423450469971,-0.044371187686920166,-0.1300520896911621,-0.22187459468841553,-0.12316513061523438,-0.42696571350097656,-0.03697776794433594,-0.17024105787277222,-0.15091347694396973,-0.18903064727783203,-0.18778914213180542,-0.018931865692138672,-0.03961586952209473,-0.18562382459640503,-0.26466822624206543,-0.13996785879135132,-0.07254600524902344,-0.011574745178222656,-0.26479029655456543,-0.04106706380844116,-0.17734205722808838,-0.07044041156768799,-0.12147963047027588,-0.21180355548858643,-0.1423225998878479,-0.11239838600158691,-0.2041480541229248,-0.1381092071533203,-0.18287885189056396,-0.20577400922775269,-0.09882992506027222,-0.3937711715698242,-0.0997171401977539,-0.20727002620697021,-0.06218534708023071,-0.22731274366378784,-0.05280327796936035,-0.031119704246520996,-0.07494491338729858,-0.12350106239318848,-0.21739470958709717,-0.18095189332962036,-0.1603236198425293,-0.14546608924865723,-0.21749496459960938,-0.050817251205444336,-0.286227822303772,-0.21727919578552246,-0.1162291169166565,-0.0056493282318115234,-0.12105327844619751,-0.07083314657211304,-0.15787339210510254,-0.14240813255310059,-0.07620775699615479,-0.05901217460632324,-0.022000670433044434,-0.2754949927330017,-0.029431521892547607,-0.2299729585647583,-0.16601765155792236,-0.16478705406188965,-0.18928146362304688,-0.1825885772705078,-0.2665712833404541,-0.14970934391021729,-0.11825317144393921,-0.06703764200210571,-0.15383470058441162,-0.05777555704116821,-0.18804115056991577,-0.12146079540252686,-0.14333367347717285,-0.15077131986618042,-0.045671701431274414,-0.10952132940292358,-0.19043171405792236,-0.08090394735336304,-0.0903242826461792,-0.1044454574584961,-0.36694765090942383,-0.05890733003616333,-0.04506570100784302,-0.053032517433166504,-0.07727682590484619,-0.23529988527297974,-0.09110110998153687,-0.0619015097618103,-0.19917356967926025,-0.13285791873931885,-0.1402217149734497,-0.060716986656188965,-0.037101149559020996,0.004684865474700928,-0.13308590650558472,-0.042889177799224854,-0.06515032052993774,-0.08127790689468384,-0.30766361951828003,-0.22011488676071167,-0.23902058601379395,-0.1365278959274292,-0.36977124214172363,-0.0884360671043396,-0.12774068117141724,-0.0835886001586914,-0.06516462564468384,-0.1649067997932434,-0.14941567182540894,-0.02055579423904419,-0.08680522441864014,-0.11171495914459229,-0.19839125871658325,-0.07596075534820557,-0.3024435043334961,-0.27070116996765137,-0.18110382556915283,-0.04513806104660034,-0.31101369857788086,-0.2508202791213989,-0.047286927700042725,-0.023008882999420166,-0.10762649774551392,-0.13596510887145996,-0.06568199396133423,-0.03990691900253296,-0.34047383069992065,-0.013875603675842285,-0.04403030872344971,-0.15895193815231323,0.00881040096282959,-0.2959473133087158,-0.43940746784210205,-0.03999859094619751,-0.20705455541610718,-0.04735219478607178,-0.01038089394569397,-0.13119161128997803,-0.15654563903808594,-0.08595657348632812,-0.02517068386077881,-0.046236395835876465,-0.07012897729873657,-0.09790712594985962,-0.11723452806472778,-0.11153984069824219,-0.11467069387435913,-0.21331942081451416,-0.24448168277740479,-0.1563565731048584,-0.00047278404235839844,-0.13321453332901,-0.25819194316864014,-0.09524989128112793,-0.038249075412750244,-0.28297966718673706,-0.054625511169433594,-0.10604995489120483,-0.1455782651901245,-0.04036682844161987,-0.11114823818206787,-0.1977231502532959,-0.1345779299736023,-0.10635894536972046,-0.09725385904312134,-0.0714031457901001,-0.05105292797088623,-0.23334157466888428,-0.06993740797042847,-0.17973971366882324,-0.36769533157348633,-0.047400593757629395,-0.1709303855895996,-0.21499979496002197,-0.10624700784683228,-0.058295607566833496,-0.13736915588378906,-0.11216658353805542,-0.1089814305305481,-0.07287424802780151,-0.09707015752792358,-0.30776917934417725,-0.06596601009368896,-0.2593611478805542,-0.24399924278259277,-0.1991761326789856,-0.1439254879951477,-0.3351503610610962,-0.31796085834503174,-0.04108309745788574,-0.05671119689941406,-0.274097204208374,-0.2879107594490051,-0.1914578676223755,-0.1138041615486145,-0.27652108669281006,-0.14694112539291382,-0.11935985088348389,-0.09348094463348389,-0.09493356943130493,-0.22531306743621826,-0.15049326419830322,-0.07702624797821045,-0.16321301460266113,-0.26650333404541016,-0.17013585567474365,-0.17368364334106445,-0.18127483129501343,-0.20417523384094238,-0.03661710023880005,-0.023763835430145264,-0.050274789333343506,-0.20736944675445557,-0.26000773906707764,-0.03107362985610962,-0.053839147090911865,-0.1570395827293396,-0.24846643209457397,-0.11981046199798584,-0.2327641248703003,-0.0860939621925354,-0.22835677862167358,-0.06521546840667725,-0.3564183712005615,-0.16626513004302979,-0.05572003126144409,-0.2086712121963501,-0.20173704624176025,-0.38325369358062744,-0.10065585374832153,-0.23801356554031372,-0.09389764070510864,-0.1192694902420044,-0.1716253161430359,-0.07061487436294556,-0.2069251537322998,-0.09621644020080566,-0.13746672868728638,-0.2752261757850647,-0.15175724029541016,-0.12098699808120728,-0.07461071014404297,-0.06299054622650146,-0.18802279233932495,-0.2870328426361084,-0.11491495370864868,-0.33866453170776367,-0.11015743017196655,-0.2497454285621643,-0.0064528584480285645,-0.3482469320297241,-0.28501927852630615,-0.3555382490158081,-0.11822724342346191,-0.2407851219177246,-0.3393014669418335,-0.36921727657318115,-0.24504780769348145,-0.22592121362686157,-0.10378009080886841,-0.15384864807128906,-0.16246014833450317,-0.03173631429672241,-0.10878866910934448,-0.19249892234802246,-0.028835177421569824,-0.24660205841064453,-0.245383620262146,-0.145557701587677,-0.20050853490829468,-0.225314199924469,-0.2889624834060669,-0.32636380195617676,-0.26759886741638184,-0.23418402671813965,-0.2597910165786743,-0.06337499618530273,-0.1559651494026184,-0.16382640600204468,-0.17560458183288574,-0.1549292802810669,-0.22682726383209229,-0.14414387941360474,-0.19587522745132446,-0.1803094744682312,-0.08362960815429688,-0.14816701412200928,-0.2724077105522156,-0.17695701122283936,-0.22493672370910645,-0.36937427520751953,-0.2880899906158447,-0.2817866802215576,-0.21000665426254272,-0.19588065147399902,-0.14853370189666748,-0.16542917490005493,-0.31244194507598877,-0.13203191757202148,-0.3077157139778137,-0.28779053688049316,-0.223854660987854,-0.25558340549468994,-0.17070746421813965,-0.2523787021636963,-0.15398770570755005,-0.362140417098999,-0.06448149681091309,-0.08294832706451416,-0.34136807918548584,-0.2889443635940552,-0.3299412727355957,-0.2785344123840332,-0.22057390213012695,-0.2784360647201538,-0.25842994451522827,-0.1830686330795288,-0.20766448974609375,-0.0714031457901001,-0.3923383951187134,-0.07649636268615723,-0.2989475727081299,-0.21218657493591309,-0.13482487201690674,-0.26695990562438965,-0.22554302215576172,-0.1903315782546997,-0.10323888063430786,-0.18230950832366943,-0.22181880474090576,-0.10304445028305054,-0.41524243354797363,-0.23110222816467285,-0.15708225965499878,-0.3072581887245178,-0.1678449511528015,-0.24847209453582764,-0.1570981740951538,-0.24269413948059082,-0.42643797397613525,-0.28394174575805664,-0.26666295528411865,-0.33589303493499756,-0.1819370985031128,-0.39524948596954346,-0.09679871797561646,-0.12712311744689941,-0.1277448534965515,-0.05080538988113403,-0.19478142261505127,-0.13557708263397217,-0.15736424922943115,-0.20664644241333008,-0.31881463527679443,-0.1765415072441101,-0.18886995315551758,-0.28819918632507324,-0.31197798252105713,-0.28067660331726074,-0.24102389812469482,-0.1938161849975586,-0.3256329298019409,-0.2998875379562378,-0.29761970043182373,-0.255352258682251,-0.4431055784225464,-0.12882471084594727,-0.17976391315460205,-0.24907124042510986,-0.17908143997192383,-0.12751054763793945,-0.09929490089416504,-0.24056220054626465,-0.24360603094100952,-0.35252082347869873,-0.2132638692855835,-0.19771593809127808,-0.21247458457946777,-0.3118804693222046,-0.27582383155822754,-0.20462507009506226,-0.28274625539779663,-0.12495380640029907,-0.1572008728981018,-0.2746337056159973,-0.22752493619918823,-0.24432408809661865,-0.27191436290740967,-0.25139904022216797,-0.1715472936630249,-0.2858733534812927,-0.2416747808456421,-0.09865939617156982,-0.37641263008117676,-0.35854995250701904,-0.16239774227142334,-0.16374069452285767,-0.2748908996582031,-0.4114186763763428,-0.337282657623291,-0.34629690647125244,-0.19640088081359863,-0.28148728609085083,-0.2351287603378296,-0.1536152958869934,-0.1338995099067688,-0.11322629451751709,-0.1559651494026184,-0.238355815410614,-0.13635098934173584,-0.34843194484710693,-0.2753671407699585,-0.0903739333152771,-0.1801885962486267,-0.19773149490356445,-0.2231360673904419,-0.1489180326461792,-0.23118209838867188,-0.21963369846343994,-0.453252911567688,-0.1293792724609375,-0.2853623628616333,-0.30416548252105713,-0.1790609359741211,-0.1475609540939331,-0.20485740900039673,-0.3396521210670471,-0.16023588180541992,-0.21471208333969116,-0.24252533912658691,-0.27205121517181396,-0.49215245246887207,-0.21369922161102295,-0.40564537048339844,-0.3795202970504761,-0.1543511152267456,-0.33626675605773926,-0.19741016626358032,-0.3200538754463196,-0.087871253490448,-0.15547531843185425,-0.4581962823867798,-0.4912296533584595,-0.19786709547042847,-0.25773513317108154,-0.09438812732696533,-0.3347388505935669,-0.16509437561035156,-0.1687483787536621,-0.3957763910293579,-0.1619003415107727,-0.3526911735534668,-0.45792949199676514,-0.1570459008216858,-0.15355807542800903,-0.23566633462905884,-0.20557260513305664,-0.21094560623168945,-0.33840882778167725,-0.35794544219970703,-0.326137900352478,-0.3002467155456543,-0.1314716935157776,-0.1293792724609375,-0.42284655570983887,-0.2001948356628418,-0.15179681777954102,-0.42013978958129883,-0.14105433225631714,-0.34274208545684814,-0.1679639220237732,-0.3856332302093506,-0.0924791693687439,-0.1807922124862671,-0.13424628973007202,-0.12093591690063477,-0.14802074432373047,-0.476967453956604,-0.4602198600769043,-0.26398372650146484,-0.36418235301971436,-0.28956782817840576,-0.37914395332336426,-0.08495926856994629,-0.36303889751434326,-0.3405435085296631,-0.2609596252441406,-0.057613492012023926,-0.3556220531463623,-0.15984505414962769,-0.37987685203552246,-0.170474112033844,-0.3955507278442383,-0.14236289262771606,-0.2743082046508789,-0.31135445833206177,-0.3030339479446411,-0.38507723808288574,-0.46022188663482666,-0.23937034606933594,-0.27980995178222656,-0.15419799089431763,-0.24473148584365845,-0.33209049701690674,-0.16435307264328003,-0.34657740592956543,-0.10491007566452026,-0.3123323917388916,-0.34387028217315674,-0.08226072788238525,-0.11897784471511841,-0.3761122226715088,-0.2361840009689331,-0.16248679161071777,-0.26548105478286743,-0.3741726875305176,-0.2635299563407898,-0.006019532680511475,-0.21066200733184814,-0.20776772499084473,-0.13517320156097412,-0.3125084638595581,-0.1367243528366089,-0.13404667377471924,-0.16719192266464233,-0.20591378211975098,-0.3659301996231079,-0.16985899209976196,-0.3137110471725464,-0.1466248631477356,-0.31652289628982544,-0.1826764941215515,-0.3534203767776489,-0.21812224388122559,-0.13635098934173584,-0.17212259769439697,-0.42382752895355225,-0.24372339248657227,-0.2082194685935974,-0.2376861572265625,-0.1617078185081482,-0.3743988275527954,-0.13950181007385254,-0.00019857287406921387,-0.10505294799804688,-0.255393922328949,-0.3570762872695923,-0.41518235206604004,-0.17211788892745972,-0.2525665760040283,-0.17253875732421875,-0.3786718249320984,-0.497625470161438,-0.06984943151473999,-0.3804396390914917,-0.1702357530593872,-0.06975191831588745,-0.13736826181411743,-0.254336953163147,-0.13409346342086792,-0.18285876512527466,-0.16070574522018433,-0.209827721118927,-0.36271560192108154,-0.4039877653121948,-0.40239179134368896,-0.2404712438583374,-0.2568807601928711,-0.31135034561157227,-0.33010780811309814,-0.17191565036773682,-0.2568807601928711,-0.17642390727996826,-0.1362137794494629,-0.4401230812072754,-0.24067223072052002,-0.16476333141326904,-0.16977936029434204,-0.26446056365966797,-0.2084287405014038,-0.22945940494537354,-0.08834385871887207,-0.24905771017074585,-0.29880160093307495,-0.16161394119262695,-0.1840742826461792,-0.2856259346008301,-0.13650834560394287,-0.17031514644622803,-0.201046884059906,-0.22720354795455933,-0.16000419855117798,-0.2820562720298767,-0.20850664377212524,-0.28398048877716064,-0.16134637594223022,-0.17809313535690308,-0.16118961572647095,-0.18449455499649048,-0.1985948085784912,-0.19791775941848755,-0.2786977291107178,-0.23001813888549805,-0.4289870262145996,-0.17226272821426392,-0.1237608790397644,-0.39669889211654663,-0.28277695178985596,-0.2751217484474182,-0.3274979591369629,-0.1439955234527588,-0.19329077005386353,-0.26118576526641846,-0.0714031457901001,-0.11795836687088013,-0.12033915519714355,-0.19191992282867432,-0.19666701555252075,-0.2688058614730835,-0.18069350719451904,-0.09801912307739258,-0.30065423250198364,-0.1525619626045227,-0.18220418691635132,-0.126148521900177,-0.23566633462905884,-0.14497339725494385,-0.1538558006286621,-0.16822493076324463,-0.054430484771728516,-0.13318860530853271,-0.4301416873931885,-0.2449634075164795,-0.10194098949432373,-0.207383394241333,-0.15519213676452637,-0.37718772888183594,-0.2359747290611267,-0.2992793321609497,-0.3449420928955078,-0.31389760971069336,-0.2663651704788208,-0.22156333923339844,-0.14648222923278809,-0.2038637399673462,-0.2437189817428589,-0.17917495965957642,-0.17823290824890137,-0.20005887746810913,-0.19436830282211304,-0.17179656028747559,-0.3459230065345764,-0.2355794906616211,-0.27043211460113525,-0.24614882469177246,-0.15482211112976074,-0.23293352127075195,-0.23293352127075195,-0.23293352127075195,-0.11523079872131348,-0.1307152509689331,-0.347625732421875,-0.2666628360748291,-0.23761910200119019,-0.31677699089050293,-0.12197542190551758,-0.18649429082870483,-0.4181210994720459,-0.0007937252521514893,-0.23564070463180542,-0.10868197679519653,-0.2768789529800415,-0.10868197679519653,-0.0871698260307312,-0.12745893001556396,-0.2216089367866516,-0.3539164066314697,-0.25187647342681885,-0.0871698260307312,-0.18449455499649048,-0.28964763879776,-0.3758805990219116,-0.25417041778564453,-0.2979249954223633,-0.25766485929489136,-0.18674641847610474,-0.12491309642791748,-0.1855369210243225,-0.24399560689926147,-0.13906466960906982,-0.1760360598564148,-0.2674819231033325,-0.02691417932510376,-0.2981346845626831,-0.204606831073761,-0.28277695178985596,-0.2728642225265503,-0.34987974166870117,-0.19465160369873047,-0.13424628973007202,-0.3137110471725464,-0.1650121808052063],\"type\":\"histogram\"}],                        {\"template\":{\"data\":{\"histogram2dcontour\":[{\"type\":\"histogram2dcontour\",\"colorbar\":{\"outlinewidth\":0,\"ticks\":\"\"},\"colorscale\":[[0.0,\"#0d0887\"],[0.1111111111111111,\"#46039f\"],[0.2222222222222222,\"#7201a8\"],[0.3333333333333333,\"#9c179e\"],[0.4444444444444444,\"#bd3786\"],[0.5555555555555556,\"#d8576b\"],[0.6666666666666666,\"#ed7953\"],[0.7777777777777778,\"#fb9f3a\"],[0.8888888888888888,\"#fdca26\"],[1.0,\"#f0f921\"]]}],\"choropleth\":[{\"type\":\"choropleth\",\"colorbar\":{\"outlinewidth\":0,\"ticks\":\"\"}}],\"histogram2d\":[{\"type\":\"histogram2d\",\"colorbar\":{\"outlinewidth\":0,\"ticks\":\"\"},\"colorscale\":[[0.0,\"#0d0887\"],[0.1111111111111111,\"#46039f\"],[0.2222222222222222,\"#7201a8\"],[0.3333333333333333,\"#9c179e\"],[0.4444444444444444,\"#bd3786\"],[0.5555555555555556,\"#d8576b\"],[0.6666666666666666,\"#ed7953\"],[0.7777777777777778,\"#fb9f3a\"],[0.8888888888888888,\"#fdca26\"],[1.0,\"#f0f921\"]]}],\"heatmap\":[{\"type\":\"heatmap\",\"colorbar\":{\"outlinewidth\":0,\"ticks\":\"\"},\"colorscale\":[[0.0,\"#0d0887\"],[0.1111111111111111,\"#46039f\"],[0.2222222222222222,\"#7201a8\"],[0.3333333333333333,\"#9c179e\"],[0.4444444444444444,\"#bd3786\"],[0.5555555555555556,\"#d8576b\"],[0.6666666666666666,\"#ed7953\"],[0.7777777777777778,\"#fb9f3a\"],[0.8888888888888888,\"#fdca26\"],[1.0,\"#f0f921\"]]}],\"heatmapgl\":[{\"type\":\"heatmapgl\",\"colorbar\":{\"outlinewidth\":0,\"ticks\":\"\"},\"colorscale\":[[0.0,\"#0d0887\"],[0.1111111111111111,\"#46039f\"],[0.2222222222222222,\"#7201a8\"],[0.3333333333333333,\"#9c179e\"],[0.4444444444444444,\"#bd3786\"],[0.5555555555555556,\"#d8576b\"],[0.6666666666666666,\"#ed7953\"],[0.7777777777777778,\"#fb9f3a\"],[0.8888888888888888,\"#fdca26\"],[1.0,\"#f0f921\"]]}],\"contourcarpet\":[{\"type\":\"contourcarpet\",\"colorbar\":{\"outlinewidth\":0,\"ticks\":\"\"}}],\"contour\":[{\"type\":\"contour\",\"colorbar\":{\"outlinewidth\":0,\"ticks\":\"\"},\"colorscale\":[[0.0,\"#0d0887\"],[0.1111111111111111,\"#46039f\"],[0.2222222222222222,\"#7201a8\"],[0.3333333333333333,\"#9c179e\"],[0.4444444444444444,\"#bd3786\"],[0.5555555555555556,\"#d8576b\"],[0.6666666666666666,\"#ed7953\"],[0.7777777777777778,\"#fb9f3a\"],[0.8888888888888888,\"#fdca26\"],[1.0,\"#f0f921\"]]}],\"surface\":[{\"type\":\"surface\",\"colorbar\":{\"outlinewidth\":0,\"ticks\":\"\"},\"colorscale\":[[0.0,\"#0d0887\"],[0.1111111111111111,\"#46039f\"],[0.2222222222222222,\"#7201a8\"],[0.3333333333333333,\"#9c179e\"],[0.4444444444444444,\"#bd3786\"],[0.5555555555555556,\"#d8576b\"],[0.6666666666666666,\"#ed7953\"],[0.7777777777777778,\"#fb9f3a\"],[0.8888888888888888,\"#fdca26\"],[1.0,\"#f0f921\"]]}],\"mesh3d\":[{\"type\":\"mesh3d\",\"colorbar\":{\"outlinewidth\":0,\"ticks\":\"\"}}],\"scatter\":[{\"fillpattern\":{\"fillmode\":\"overlay\",\"size\":10,\"solidity\":0.2},\"type\":\"scatter\"}],\"parcoords\":[{\"type\":\"parcoords\",\"line\":{\"colorbar\":{\"outlinewidth\":0,\"ticks\":\"\"}}}],\"scatterpolargl\":[{\"type\":\"scatterpolargl\",\"marker\":{\"colorbar\":{\"outlinewidth\":0,\"ticks\":\"\"}}}],\"bar\":[{\"error_x\":{\"color\":\"#2a3f5f\"},\"error_y\":{\"color\":\"#2a3f5f\"},\"marker\":{\"line\":{\"color\":\"#E5ECF6\",\"width\":0.5},\"pattern\":{\"fillmode\":\"overlay\",\"size\":10,\"solidity\":0.2}},\"type\":\"bar\"}],\"scattergeo\":[{\"type\":\"scattergeo\",\"marker\":{\"colorbar\":{\"outlinewidth\":0,\"ticks\":\"\"}}}],\"scatterpolar\":[{\"type\":\"scatterpolar\",\"marker\":{\"colorbar\":{\"outlinewidth\":0,\"ticks\":\"\"}}}],\"histogram\":[{\"marker\":{\"pattern\":{\"fillmode\":\"overlay\",\"size\":10,\"solidity\":0.2}},\"type\":\"histogram\"}],\"scattergl\":[{\"type\":\"scattergl\",\"marker\":{\"colorbar\":{\"outlinewidth\":0,\"ticks\":\"\"}}}],\"scatter3d\":[{\"type\":\"scatter3d\",\"line\":{\"colorbar\":{\"outlinewidth\":0,\"ticks\":\"\"}},\"marker\":{\"colorbar\":{\"outlinewidth\":0,\"ticks\":\"\"}}}],\"scattermapbox\":[{\"type\":\"scattermapbox\",\"marker\":{\"colorbar\":{\"outlinewidth\":0,\"ticks\":\"\"}}}],\"scatterternary\":[{\"type\":\"scatterternary\",\"marker\":{\"colorbar\":{\"outlinewidth\":0,\"ticks\":\"\"}}}],\"scattercarpet\":[{\"type\":\"scattercarpet\",\"marker\":{\"colorbar\":{\"outlinewidth\":0,\"ticks\":\"\"}}}],\"carpet\":[{\"aaxis\":{\"endlinecolor\":\"#2a3f5f\",\"gridcolor\":\"white\",\"linecolor\":\"white\",\"minorgridcolor\":\"white\",\"startlinecolor\":\"#2a3f5f\"},\"baxis\":{\"endlinecolor\":\"#2a3f5f\",\"gridcolor\":\"white\",\"linecolor\":\"white\",\"minorgridcolor\":\"white\",\"startlinecolor\":\"#2a3f5f\"},\"type\":\"carpet\"}],\"table\":[{\"cells\":{\"fill\":{\"color\":\"#EBF0F8\"},\"line\":{\"color\":\"white\"}},\"header\":{\"fill\":{\"color\":\"#C8D4E3\"},\"line\":{\"color\":\"white\"}},\"type\":\"table\"}],\"barpolar\":[{\"marker\":{\"line\":{\"color\":\"#E5ECF6\",\"width\":0.5},\"pattern\":{\"fillmode\":\"overlay\",\"size\":10,\"solidity\":0.2}},\"type\":\"barpolar\"}],\"pie\":[{\"automargin\":true,\"type\":\"pie\"}]},\"layout\":{\"autotypenumbers\":\"strict\",\"colorway\":[\"#636efa\",\"#EF553B\",\"#00cc96\",\"#ab63fa\",\"#FFA15A\",\"#19d3f3\",\"#FF6692\",\"#B6E880\",\"#FF97FF\",\"#FECB52\"],\"font\":{\"color\":\"#2a3f5f\"},\"hovermode\":\"closest\",\"hoverlabel\":{\"align\":\"left\"},\"paper_bgcolor\":\"white\",\"plot_bgcolor\":\"#E5ECF6\",\"polar\":{\"bgcolor\":\"#E5ECF6\",\"angularaxis\":{\"gridcolor\":\"white\",\"linecolor\":\"white\",\"ticks\":\"\"},\"radialaxis\":{\"gridcolor\":\"white\",\"linecolor\":\"white\",\"ticks\":\"\"}},\"ternary\":{\"bgcolor\":\"#E5ECF6\",\"aaxis\":{\"gridcolor\":\"white\",\"linecolor\":\"white\",\"ticks\":\"\"},\"baxis\":{\"gridcolor\":\"white\",\"linecolor\":\"white\",\"ticks\":\"\"},\"caxis\":{\"gridcolor\":\"white\",\"linecolor\":\"white\",\"ticks\":\"\"}},\"coloraxis\":{\"colorbar\":{\"outlinewidth\":0,\"ticks\":\"\"}},\"colorscale\":{\"sequential\":[[0.0,\"#0d0887\"],[0.1111111111111111,\"#46039f\"],[0.2222222222222222,\"#7201a8\"],[0.3333333333333333,\"#9c179e\"],[0.4444444444444444,\"#bd3786\"],[0.5555555555555556,\"#d8576b\"],[0.6666666666666666,\"#ed7953\"],[0.7777777777777778,\"#fb9f3a\"],[0.8888888888888888,\"#fdca26\"],[1.0,\"#f0f921\"]],\"sequentialminus\":[[0.0,\"#0d0887\"],[0.1111111111111111,\"#46039f\"],[0.2222222222222222,\"#7201a8\"],[0.3333333333333333,\"#9c179e\"],[0.4444444444444444,\"#bd3786\"],[0.5555555555555556,\"#d8576b\"],[0.6666666666666666,\"#ed7953\"],[0.7777777777777778,\"#fb9f3a\"],[0.8888888888888888,\"#fdca26\"],[1.0,\"#f0f921\"]],\"diverging\":[[0,\"#8e0152\"],[0.1,\"#c51b7d\"],[0.2,\"#de77ae\"],[0.3,\"#f1b6da\"],[0.4,\"#fde0ef\"],[0.5,\"#f7f7f7\"],[0.6,\"#e6f5d0\"],[0.7,\"#b8e186\"],[0.8,\"#7fbc41\"],[0.9,\"#4d9221\"],[1,\"#276419\"]]},\"xaxis\":{\"gridcolor\":\"white\",\"linecolor\":\"white\",\"ticks\":\"\",\"title\":{\"standoff\":15},\"zerolinecolor\":\"white\",\"automargin\":true,\"zerolinewidth\":2},\"yaxis\":{\"gridcolor\":\"white\",\"linecolor\":\"white\",\"ticks\":\"\",\"title\":{\"standoff\":15},\"zerolinecolor\":\"white\",\"automargin\":true,\"zerolinewidth\":2},\"scene\":{\"xaxis\":{\"backgroundcolor\":\"#E5ECF6\",\"gridcolor\":\"white\",\"linecolor\":\"white\",\"showbackground\":true,\"ticks\":\"\",\"zerolinecolor\":\"white\",\"gridwidth\":2},\"yaxis\":{\"backgroundcolor\":\"#E5ECF6\",\"gridcolor\":\"white\",\"linecolor\":\"white\",\"showbackground\":true,\"ticks\":\"\",\"zerolinecolor\":\"white\",\"gridwidth\":2},\"zaxis\":{\"backgroundcolor\":\"#E5ECF6\",\"gridcolor\":\"white\",\"linecolor\":\"white\",\"showbackground\":true,\"ticks\":\"\",\"zerolinecolor\":\"white\",\"gridwidth\":2}},\"shapedefaults\":{\"line\":{\"color\":\"#2a3f5f\"}},\"annotationdefaults\":{\"arrowcolor\":\"#2a3f5f\",\"arrowhead\":0,\"arrowwidth\":1},\"geo\":{\"bgcolor\":\"white\",\"landcolor\":\"#E5ECF6\",\"subunitcolor\":\"white\",\"showland\":true,\"showlakes\":true,\"lakecolor\":\"white\"},\"title\":{\"x\":0.05},\"mapbox\":{\"style\":\"light\"}}},\"title\":{\"text\":\"Distribution of Difference In Nuclear Norms - DGI vs DGI+XM\"},\"xaxis\":{\"title\":{\"text\":\"Difference In Nuclear Norms - DGI vs DGI+XM\"}},\"yaxis\":{\"title\":{\"text\":\"Frequency\"}},\"font\":{\"size\":30},\"plot_bgcolor\":\"white\",\"paper_bgcolor\":\"white\"},                        {\"responsive\": true}                    ).then(function(){\n",
       "                            \n",
       "var gd = document.getElementById('822ac638-5d87-49d2-9f70-1cace375e039');\n",
       "var x = new MutationObserver(function (mutations, observer) {{\n",
       "        var display = window.getComputedStyle(gd).display;\n",
       "        if (!display || display === 'none') {{\n",
       "            console.log([gd, 'removed!']);\n",
       "            Plotly.purge(gd);\n",
       "            observer.disconnect();\n",
       "        }}\n",
       "}});\n",
       "\n",
       "// Listen for the removal of the full notebook cells\n",
       "var notebookContainer = gd.closest('#notebook-container');\n",
       "if (notebookContainer) {{\n",
       "    x.observe(notebookContainer, {childList: true});\n",
       "}}\n",
       "\n",
       "// Listen for the clearing of the current output cell\n",
       "var outputEl = gd.closest('.output');\n",
       "if (outputEl) {{\n",
       "    x.observe(outputEl, {childList: true});\n",
       "}}\n",
       "\n",
       "                        })                };                });            </script>        </div>"
      ]
     },
     "metadata": {},
     "output_type": "display_data"
    }
   ],
   "source": [
    "diff = np.array(norm_og) - np.array(norm_plus)\n",
    "fig = go.Figure()\n",
    "fig.add_trace(go.Histogram(x = diff))\n",
    "fig.update_layout(title_text = 'Distribution of Difference In Nuclear Norms - DGI vs DGI+XM', \n",
    "                  xaxis_title_text = 'Difference In Nuclear Norms - DGI vs DGI+XM', \n",
    "                  yaxis_title_text = 'Frequency', \n",
    "                  plot_bgcolor = 'white', \n",
    "                  paper_bgcolor = 'white', \n",
    "                  font = dict(size = 30))\n",
    "fig.show()"
   ]
  },
  {
   "cell_type": "code",
   "execution_count": 65,
   "id": "93328992",
   "metadata": {},
   "outputs": [
    {
     "data": {
      "application/vnd.plotly.v1+json": {
       "config": {
        "plotlyServerURL": "https://plot.ly"
       },
       "data": [
        {
         "name": "DGI",
         "type": "histogram",
         "x": [
          0.9480934739112854,
          0.9481810927391052,
          0.6045016050338745,
          0.7066287994384766,
          0.6719592213630676,
          0.42554035782814026,
          0.6307743191719055,
          0.6541010141372681,
          0.859455943107605,
          0.7666478753089905,
          0.9447820782661438,
          0.7190691828727722,
          0.8355501294136047,
          0.5665183067321777,
          0.790424644947052,
          0.7785085439682007,
          0.9381502866744995,
          0.691680908203125,
          1.0829672813415527,
          0.7793563604354858,
          0.7722620368003845,
          0.6021081209182739,
          1.1019525527954102,
          0.7165887355804443,
          0.6739915013313293,
          0.8686563372612,
          0.8078510761260986,
          0.6836758852005005,
          0.6888508200645447,
          0.8104642629623413,
          0.7812097668647766,
          0.8887426853179932,
          0.7986547350883484,
          0.8613904118537903,
          0.731415867805481,
          0.8783465623855591,
          0.9277336001396179,
          0.8420354723930359,
          0.8124312162399292,
          0.8995570540428162,
          0.7118918299674988,
          0.7794373035430908,
          0.8761099576950073,
          0.83141028881073,
          0.6300091743469238,
          0.827701210975647,
          0.7612355351448059,
          0.8244702816009521,
          0.725165069103241,
          0.9670231342315674,
          0.9486294388771057,
          0.8918700218200684,
          1.0706356763839722,
          1.1488094329833984,
          0.7323165535926819,
          0.7813650965690613,
          0.6837836503982544,
          0.67225581407547,
          0.6257421970367432,
          0.6602204442024231,
          0.7213454842567444,
          0.8917653560638428,
          0.5016084313392639,
          0.6584731936454773,
          0.6454479098320007,
          0.5332619547843933,
          0.7466089129447937,
          1.1408450603485107,
          0.9316408634185791,
          0.724116861820221,
          1.049919843673706,
          0.8404523134231567,
          1.043561577796936,
          1.0478780269622803,
          0.8611297607421875,
          0.9406194090843201,
          0.8078901767730713,
          0.9618312120437622,
          0.9842652082443237,
          0.9305516481399536,
          0.817902684211731,
          0.6736848950386047,
          0.43759605288505554,
          0.6178363561630249,
          0.6255833506584167,
          1.1444343328475952,
          0.479527086019516,
          0.6971921920776367,
          0.7636801600456238,
          0.6210676431655884,
          0.9897885322570801,
          0.8340919017791748,
          0.976438581943512,
          0.7270932793617249,
          0.8458943367004395,
          0.9086943864822388,
          0.48592695593833923,
          0.7510396838188171,
          0.88543301820755,
          0.8501346707344055,
          0.7806641459465027,
          0.8451054692268372,
          0.878479540348053,
          0.8476528525352478,
          0.8269136548042297,
          0.6832568049430847,
          0.6289606094360352,
          0.4510301649570465,
          0.7386971712112427,
          1.3027807474136353,
          0.8346693515777588,
          0.8596831560134888,
          0.9899995923042297,
          0.8305951356887817,
          0.627713143825531,
          0.7029914259910583,
          0.7760574221611023,
          1.1333110332489014,
          1.1245607137680054,
          0.98796546459198,
          1.1525510549545288,
          0.4120628833770752,
          1.0597431659698486,
          1.062235951423645,
          0.7369293570518494,
          0.7558018565177917,
          0.8883107304573059,
          1.161234736442566,
          0.6428320407867432,
          0.6121516227722168,
          0.9257174134254456,
          0.8328762650489807,
          0.8078866600990295,
          0.6402275562286377,
          0.9818040728569031,
          0.8778499364852905,
          0.8101556897163391,
          0.6770772933959961,
          0.8083620071411133,
          0.7989888787269592,
          0.7387493848800659,
          0.753682017326355,
          0.6270439028739929,
          0.9726822376251221,
          0.9494366645812988,
          0.8310025334358215,
          1.1135594844818115,
          0.96785968542099,
          1.1116970777511597,
          0.9668553471565247,
          0.8752338290214539,
          0.8558358550071716,
          0.7508584856987,
          0.8185614347457886,
          0.8206038475036621,
          0.7392669916152954,
          1.0231387615203857,
          0.6704400181770325,
          0.8239743113517761,
          0.8400253653526306,
          0.26925235986709595,
          0.9202738404273987,
          0.9150399565696716,
          0.827621579170227,
          0.8894280791282654,
          0.6229737401008606,
          0.4127857983112335,
          0.6323882341384888,
          0.896678626537323,
          0.726239025592804,
          0.764582633972168,
          0.8720166087150574,
          0.8471770882606506,
          0.803506076335907,
          0.7966644167900085,
          0.9928317666053772,
          0.9743146896362305,
          0.8907684087753296,
          0.9611064195632935,
          0.9020171165466309,
          0.9164350032806396,
          0.7015767097473145,
          0.7347011566162109,
          0.5940472483634949,
          0.7633724808692932,
          0.6862044930458069,
          0.9155550003051758,
          0.876092791557312,
          0.9674395322799683,
          0.6045368909835815,
          1.0094540119171143,
          0.7251463532447815,
          0.7436525821685791,
          0.716166615486145,
          0.7290472984313965,
          0.7570642828941345,
          0.8876804113388062,
          0.9240772724151611,
          0.9650779962539673,
          0.8739051222801208,
          0.7973567843437195,
          0.9117754101753235,
          1.1184966564178467,
          0.9376276135444641,
          0.848449170589447,
          0.9047510623931885,
          0.7376026511192322,
          0.9942970275878906,
          0.864577054977417,
          0.6504254341125488,
          0.7496547698974609,
          0.41908910870552063,
          0.6079872250556946,
          0.8227337002754211,
          0.9494046568870544,
          0.7837527394294739,
          0.8915575742721558,
          0.9172035455703735,
          0.8019346594810486,
          1.1036487817764282,
          1.2189109325408936,
          0.9682880640029907,
          0.8301869034767151,
          0.9320878982543945,
          1.188729166984558,
          1.0217554569244385,
          0.8622522950172424,
          1.245266079902649,
          1.1366732120513916,
          1.096006989479065,
          0.9049574732780457,
          0.7788127064704895,
          0.7052022218704224,
          0.7845044732093811,
          0.772369921207428,
          0.9005028605461121,
          0.8605866432189941,
          0.8743219971656799,
          0.8841460347175598,
          1.1682409048080444,
          0.8881491422653198,
          0.8938620090484619,
          0.8015471696853638,
          0.9239863157272339,
          1.0077338218688965,
          0.8597754836082458,
          0.9776955842971802,
          0.8786229491233826,
          1.0069717168807983,
          0.6025121808052063,
          0.873249888420105,
          0.8718543648719788,
          0.5491776466369629,
          0.9331046938896179,
          0.8202325701713562,
          0.9364612698554993,
          0.7277703881263733,
          1.0575107336044312,
          0.7388696670532227,
          0.9669082760810852,
          1.0296279191970825,
          0.7940162420272827,
          1.0397084951400757,
          0.8255125284194946,
          0.857541024684906,
          0.8114056587219238,
          0.9644524455070496,
          0.8717422485351562,
          0.9892313480377197,
          0.6588850617408752,
          1.1650102138519287,
          0.7871577143669128,
          0.8533868789672852,
          0.8165397047996521,
          0.899100124835968,
          0.8964146375656128,
          1.2544304132461548,
          0.9576218128204346,
          0.9823431372642517,
          0.9827301502227783,
          0.673053503036499,
          0.8177235722541809,
          0.576961874961853,
          0.5492035150527954,
          0.8613073229789734,
          0.671877920627594,
          0.8156824707984924,
          0.9774816036224365,
          0.8193135857582092,
          1.3655586242675781,
          0.7571855187416077,
          0.8993118405342102,
          1.0930211544036865,
          0.87149977684021,
          0.9110245108604431,
          0.6831364035606384,
          0.7511944770812988,
          0.9618777632713318,
          1.1190001964569092,
          0.886483371257782,
          0.7758117318153381,
          0.5617454648017883,
          1.0231256484985352,
          0.63201504945755,
          0.8686386346817017,
          0.7798617482185364,
          0.9841692447662354,
          1.183161973953247,
          0.921059787273407,
          1.0519208908081055,
          1.175196647644043,
          0.9025652408599854,
          1.0824298858642578,
          0.9566003680229187,
          0.9285537600517273,
          1.2211159467697144,
          0.940172553062439,
          1.1959211826324463,
          0.895010769367218,
          0.7934935688972473,
          0.7272641062736511,
          0.6954899430274963,
          0.6671779155731201,
          0.8539736270904541,
          1.0462158918380737,
          0.9858343005180359,
          1.0754706859588623,
          0.9595628976821899,
          0.9622466564178467,
          0.7223809361457825,
          1.1267170906066895,
          1.0121017694473267,
          0.8233618140220642,
          0.5646966099739075,
          0.6926804780960083,
          0.6529868841171265,
          0.9637675285339355,
          0.8786599636077881,
          0.818788468837738,
          0.7101119160652161,
          0.535184383392334,
          0.9991398453712463,
          0.7849686145782471,
          1.1613832712173462,
          0.9595317840576172,
          1.078344464302063,
          1.1391412019729614,
          1.2063432931900024,
          0.8222821950912476,
          1.063431978225708,
          0.9819071888923645,
          0.8318576812744141,
          1.052363634109497,
          0.698310911655426,
          0.7702202200889587,
          0.7663432359695435,
          0.9180357456207275,
          0.9213716387748718,
          0.6611655950546265,
          0.8459635972976685,
          1.0208686590194702,
          0.7677483558654785,
          0.8734307885169983,
          0.7694621086120605,
          1.019571304321289,
          0.8943061232566833,
          0.8641072511672974,
          0.7579893469810486,
          0.9213362336158752,
          0.8147347569465637,
          0.8280322551727295,
          0.7375637888908386,
          1.016054391860962,
          1.0366588830947876,
          0.7529069185256958,
          0.6739678382873535,
          0.7176383137702942,
          0.33864983916282654,
          0.8099414706230164,
          0.7080180644989014,
          0.7410198450088501,
          0.8587254285812378,
          0.8376737236976624,
          0.741521954536438,
          0.9936752319335938,
          0.7969282269477844,
          1.0549315214157104,
          0.9248979687690735,
          0.8357234597206116,
          0.916827917098999,
          0.776181161403656,
          0.8720260262489319,
          0.8380908966064453,
          0.7245623469352722,
          0.7811261415481567,
          0.9402767419815063,
          0.8109292387962341,
          0.8423649668693542,
          0.8312046527862549,
          1.033107876777649,
          1.0094660520553589,
          0.6424307823181152,
          1.1566016674041748,
          1.0918612480163574,
          0.6938930153846741,
          0.5689000487327576,
          0.7451260685920715,
          0.8168991804122925,
          0.6454564929008484,
          0.7503567934036255,
          0.9579759240150452,
          0.5052905082702637,
          0.6662300825119019,
          0.9055723547935486,
          0.4510902166366577,
          1.4277451038360596,
          1.2886316776275635,
          0.7382358908653259,
          0.957983672618866,
          0.8918774127960205,
          0.4401503801345825,
          1.183265209197998,
          1.0069561004638672,
          0.77715003490448,
          0.7085100412368774,
          0.6561779975891113,
          0.8418798446655273,
          0.8530336022377014,
          0.7597433924674988,
          0.7533895969390869,
          0.9051557183265686,
          0.9515855312347412,
          0.8046571016311646,
          0.9385191202163696,
          0.5645323991775513,
          0.9930937886238098,
          0.7761878967285156,
          0.7576924562454224,
          0.6623759865760803,
          0.799997866153717,
          0.855135440826416,
          0.8927599787712097,
          0.9105161428451538,
          0.7645118832588196,
          0.8260869979858398,
          1.0135680437088013,
          0.7601324319839478,
          0.8015100955963135,
          0.8052927255630493,
          0.935091495513916,
          0.7342779636383057,
          1.0133429765701294,
          0.7187551856040955,
          0.9175393581390381,
          0.9813222885131836,
          0.707231342792511,
          0.6594129800796509,
          1.1485440731048584,
          0.8906079530715942,
          0.7103355526924133,
          1.1323938369750977,
          0.7662224173545837,
          0.7745782136917114,
          0.7542875409126282,
          0.8042396903038025,
          1.2419204711914062,
          0.8526731729507446,
          1.0161051750183105,
          1.142801284790039,
          0.8204221129417419,
          0.8551764488220215,
          1.2255573272705078,
          1.105185627937317,
          0.7764896154403687,
          0.6902135610580444,
          1.0073171854019165,
          0.8638519644737244,
          0.7514044046401978,
          0.8630411028862,
          1.1558434963226318,
          0.8667711615562439,
          0.8331817984580994,
          0.8833022713661194,
          0.93634432554245,
          1.0606367588043213,
          1.0213940143585205,
          1.0191984176635742,
          0.9735788106918335,
          0.9818320274353027,
          1.0700751543045044,
          1.0003355741500854,
          0.9525415301322937,
          0.9564610719680786,
          0.7759227752685547,
          0.5736687183380127,
          0.8300997018814087,
          1.0531820058822632,
          1.092718482017517,
          0.7803565859794617,
          0.7198578715324402,
          0.7940868735313416,
          0.9293877482414246,
          0.7197661995887756,
          0.8727800846099854,
          0.7457913160324097,
          0.918539822101593,
          0.6898190379142761,
          1.348821997642517,
          0.9037332534790039,
          0.6862054467201233,
          0.9213541746139526,
          1.1298270225524902,
          1.159247875213623,
          0.7977384328842163,
          0.8491647839546204,
          0.8872402906417847,
          0.7376925349235535,
          0.7677903771400452,
          0.6813125014305115,
          1.0460641384124756,
          0.7670876383781433,
          0.9339743256568909,
          0.9779765009880066,
          1.0127531290054321,
          0.808738648891449,
          0.7781981229782104,
          0.7691177129745483,
          0.886348307132721,
          1.1768324375152588,
          0.8416972160339355,
          1.2070339918136597,
          0.8278951048851013,
          0.9907683730125427,
          0.6475720405578613,
          1.036568284034729,
          1.0556846857070923,
          1.2285867929458618,
          1.1911282539367676,
          1.0886741876602173,
          1.0655767917633057,
          1.072810173034668,
          1.0148544311523438,
          0.9408015608787537,
          0.8481613397598267,
          0.9303289651870728,
          0.8456334471702576,
          0.6329119205474854,
          0.7504646182060242,
          1.0116995573043823,
          0.6756146550178528,
          0.9518126249313354,
          1.0349140167236328,
          0.8443337082862854,
          0.8501819968223572,
          0.9846656918525696,
          1.0868661403656006,
          1.1513384580612183,
          1.0148017406463623,
          1.0672250986099243,
          0.8806774616241455,
          0.707756757736206,
          0.9122936129570007,
          0.9492228627204895,
          1.0211198329925537,
          0.9934474229812622,
          0.994083046913147,
          0.8481805920600891,
          0.9133674502372742,
          0.8949958682060242,
          0.7723243832588196,
          0.793389618396759,
          0.9449935555458069,
          1.0079442262649536,
          0.8792524337768555,
          1.0324651002883911,
          0.9770106077194214,
          1.05259370803833,
          0.9529897570610046,
          1.0023250579833984,
          0.7932431101799011,
          0.9268444180488586,
          1.0791621208190918,
          0.9335552453994751,
          0.9057121872901917,
          1.1625617742538452,
          0.926374077796936,
          0.9340875148773193,
          0.8492296934127808,
          0.9903695583343506,
          0.8732897639274597,
          0.9991943836212158,
          0.6805166602134705,
          0.7978809475898743,
          0.8456785678863525,
          1.3641475439071655,
          1.0694966316223145,
          1.128572940826416,
          0.8543540239334106,
          1.0050418376922607,
          0.9612656235694885,
          1.069810152053833,
          1.0592468976974487,
          0.935091495513916,
          1.0636317729949951,
          0.8558549880981445,
          1.179025650024414,
          1.1055248975753784,
          0.8900142908096313,
          0.8860019445419312,
          0.9392510652542114,
          1.0065244436264038,
          0.8386651277542114,
          1.0788154602050781,
          1.1175252199172974,
          0.9711988568305969,
          1.2985719442367554,
          0.8093248605728149,
          0.8391223549842834,
          0.9243616461753845,
          0.6543297171592712,
          1.0881859064102173,
          0.9552956819534302,
          1.0947538614273071,
          1.415580153465271,
          0.7477710247039795,
          1.0426313877105713,
          1.1527920961380005,
          0.6974542140960693,
          1.1788816452026367,
          0.5118478536605835,
          0.5715817809104919,
          0.6040472388267517,
          0.5544710755348206,
          0.770488440990448,
          0.9305425882339478,
          0.6187789440155029,
          1.0171394348144531,
          1.1114366054534912,
          0.8895924687385559,
          0.8601832389831543,
          1.0092718601226807,
          1.1246731281280518,
          1.2277765274047852,
          1.1141968965530396,
          0.6869044899940491,
          1.0432567596435547,
          1.15085768699646,
          1.2165554761886597,
          1.0469084978103638,
          1.2383942604064941,
          0.7860766649246216,
          1.0268645286560059,
          1.0168958902359009,
          0.8926854133605957,
          0.93507981300354,
          0.7298405766487122,
          0.9491502046585083,
          0.9447013735771179,
          1.236714482307434,
          0.9334026575088501,
          0.8940219283103943,
          1.0274449586868286,
          1.2489087581634521,
          1.1068016290664673,
          0.962577760219574,
          0.9650096297264099,
          0.9891484379768372,
          0.8426943421363831,
          0.871907651424408,
          0.7492513060569763,
          1.0375741720199585,
          1.0595331192016602,
          1.090805172920227,
          1.080336093902588,
          0.991992175579071,
          0.7687501907348633,
          0.7644389271736145,
          1.1844123601913452,
          0.9995729923248291,
          0.9295269250869751,
          0.9297104477882385,
          1.0354374647140503,
          1.3631595373153687,
          0.7978223562240601,
          1.2590305805206299,
          1.0597665309906006,
          0.9468242526054382,
          1.21523916721344,
          0.7452785968780518,
          0.8311591744422913,
          0.8377580046653748,
          0.9122936129570007,
          0.7398493885993958,
          0.9115335941314697,
          1.0462692975997925,
          1.3114289045333862,
          0.858219563961029,
          0.848457396030426,
          0.6907060146331787,
          0.9850618839263916,
          1.0863043069839478,
          0.7205971479415894,
          1.0005178451538086,
          1.386269450187683,
          0.9251236915588379,
          1.1367439031600952,
          0.8579800128936768,
          0.9203547239303589,
          0.8877730369567871,
          0.749576985836029,
          0.9814619421958923,
          0.9748548269271851,
          0.686883807182312,
          0.8905339241027832,
          1.0411497354507446,
          1.3826792240142822,
          0.9711881875991821,
          1.2404447793960571,
          1.2739012241363525,
          0.9830543994903564,
          1.200393557548523,
          0.6933721303939819,
          0.8639757037162781,
          0.7787086963653564,
          0.7941023707389832,
          1.220847725868225,
          1.2246837615966797,
          0.7326624989509583,
          1.144358515739441,
          0.5192114114761353,
          1.1832475662231445,
          0.918952226638794,
          1.0557432174682617,
          1.0942622423171997,
          0.8497036099433899,
          0.9422348737716675,
          1.0790221691131592,
          0.8691139817237854,
          0.942679226398468,
          0.9744383692741394,
          1.0558825731277466,
          0.9648369550704956,
          1.278836965560913,
          1.1088558435440063,
          1.0329017639160156,
          1.1838752031326294,
          0.7362285852432251,
          0.9251236915588379,
          1.2807471752166748,
          0.9348078966140747,
          0.6620458960533142,
          1.0778605937957764,
          0.7155012488365173,
          1.0422464609146118,
          0.9279974102973938,
          1.0425608158111572,
          0.7698972225189209,
          0.9006569385528564,
          0.9554576277732849,
          0.8090569376945496,
          0.9757081270217896,
          1.2674860954284668,
          1.3306878805160522,
          1.1457031965255737,
          1.2735012769699097,
          0.7800493240356445,
          1.12684965133667,
          0.7702205181121826,
          1.0229060649871826,
          1.1919355392456055,
          1.04165518283844,
          0.7136155366897583,
          1.2935072183609009,
          0.8946418166160583,
          1.2094980478286743,
          0.7582377791404724,
          1.419292688369751,
          0.6048266887664795,
          1.1134904623031616,
          0.8802793622016907,
          1.2532819509506226,
          1.1980159282684326,
          1.3782490491867065,
          0.7697886228561401,
          0.8764662742614746,
          0.7485843896865845,
          0.9724566340446472,
          1.0490258932113647,
          0.6245715618133545,
          0.9619944095611572,
          0.7683043479919434,
          1.223771333694458,
          1.0263704061508179,
          0.8248228430747986,
          0.8374236226081848,
          1.2908543348312378,
          0.9196383953094482,
          0.8778088092803955,
          0.9948055148124695,
          1.1673810482025146,
          0.9089987874031067,
          0.7256007194519043,
          0.6780376434326172,
          1.1366297006607056,
          0.8455401062965393,
          1.3076508045196533,
          0.6937860250473022,
          0.7147285342216492,
          0.9189040064811707,
          0.9766411781311035,
          1.1342296600341797,
          0.865415632724762,
          1.3170719146728516,
          0.7648023366928101,
          0.9030008912086487,
          0.8036824464797974,
          1.1281442642211914,
          1.0393296480178833,
          0.9115335941314697,
          0.6837158799171448,
          1.3088356256484985,
          0.9537018537521362,
          0.9689727425575256,
          0.7432746291160583,
          0.7177883386611938,
          1.009763479232788,
          0.7786919474601746,
          0.4670560657978058,
          0.7815861701965332,
          0.7900928854942322,
          1.1289769411087036,
          1.2971423864364624,
          0.9801402688026428,
          1.2389748096466064,
          0.7684810161590576,
          0.9151223301887512,
          1.3272017240524292,
          0.7507506012916565,
          0.9499523639678955,
          0.9458651542663574,
          0.7250732779502869,
          0.7892544865608215,
          1.1902333498001099,
          0.9316368699073792,
          0.8694043755531311,
          0.8985150456428528,
          0.7254936099052429,
          1.0028769969940186,
          1.1150158643722534,
          1.2309881448745728,
          0.8781037330627441,
          0.8060179948806763,
          1.3183976411819458,
          1.2256309986114502,
          0.6953893899917603,
          0.8060179948806763,
          0.9189603328704834,
          0.9670802354812622,
          1.1333624124526978,
          0.7528101801872253,
          0.8581418991088867,
          0.8372247815132141,
          1.1027616262435913,
          0.6270378828048706,
          0.8166117668151855,
          0.7852839231491089,
          0.9112895131111145,
          0.995037853717804,
          0.7805923819541931,
          0.9086860418319702,
          0.857907772064209,
          0.8844959735870361,
          0.6701246500015259,
          0.9056859612464905,
          0.7891820073127747,
          0.9161379933357239,
          0.7855960726737976,
          0.9649837613105774,
          1.1520907878875732,
          0.8568004965782166,
          0.8937292695045471,
          0.9232363104820251,
          0.8875554203987122,
          0.931735634803772,
          0.7466356158256531,
          1.1534227132797241,
          0.8418445587158203,
          1.1284644603729248,
          0.8992399573326111,
          0.7900041937828064,
          0.9875838160514832,
          1.222541093826294,
          0.7970557808876038,
          1.0481023788452148,
          0.9306012392044067,
          0.9212984442710876,
          1.118006944656372,
          0.935091495513916,
          0.7831960916519165,
          0.7361786961555481,
          0.8098287582397461,
          0.9156588912010193,
          0.9158049821853638,
          1.057121992111206,
          0.6458396911621094,
          0.9253889918327332,
          0.7622381448745728,
          0.8243438601493835,
          0.6340096592903137,
          0.9744383692741394,
          0.7150152921676636,
          0.8755372762680054,
          0.8591902256011963,
          0.765938937664032,
          0.7164175510406494,
          1.221319317817688,
          0.8986191749572754,
          0.8755286335945129,
          0.7976150512695312,
          0.8758673667907715,
          1.224118947982788,
          0.759798526763916,
          1.2332261800765991,
          1.3157280683517456,
          1.2719974517822266,
          1.1719962358474731,
          0.8752497434616089,
          0.8412912487983704,
          0.7204938530921936,
          1.0945440530776978,
          0.8043532967567444,
          1.246456265449524,
          0.8857325911521912,
          0.7960312962532043,
          0.8885283470153809,
          0.8850231766700745,
          0.8652597665786743,
          1.0225321054458618,
          0.9359370470046997,
          0.903419017791748,
          1.0358322858810425,
          1.0358322858810425,
          1.0358322858810425,
          0.8477522134780884,
          0.8966857194900513,
          1.0256305932998657,
          1.230908751487732,
          0.7651417851448059,
          0.9717482328414917,
          0.5745357871055603,
          0.6935967206954956,
          1.1561505794525146,
          0.4280523359775543,
          0.9661664366722107,
          0.8914527297019958,
          0.8550217151641846,
          0.8914527297019958,
          0.6711654663085938,
          0.5740270614624023,
          0.7435711622238159,
          1.29445481300354,
          1.047719120979309,
          0.6711654663085938,
          0.8875554203987122,
          0.7963748574256897,
          1.1188515424728394,
          1.081639289855957,
          0.9488542079925537,
          0.878835141658783,
          0.6905215978622437,
          0.5682504177093506,
          0.8086645007133484,
          0.7261945009231567,
          0.958173394203186,
          0.8605054020881653,
          1.160983920097351,
          0.8466121554374695,
          1.2295647859573364,
          0.7441684603691101,
          1.222541093826294,
          1.090959906578064,
          1.0044819116592407,
          0.7349207401275635,
          0.9554576277732849,
          1.3170719146728516,
          0.7912638783454895
         ]
        },
        {
         "name": "DGI+XM",
         "type": "histogram",
         "x": [
          1.0599865913391113,
          1.0412678718566895,
          0.6364092826843262,
          0.7758466601371765,
          0.7126120328903198,
          0.42243653535842896,
          0.6473522782325745,
          0.6921888589859009,
          0.9960775971412659,
          0.845803439617157,
          1.088180422782898,
          0.7679562568664551,
          0.9105316400527954,
          0.5631260275840759,
          0.8105469346046448,
          0.863537073135376,
          1.0331735610961914,
          0.7134953141212463,
          1.1587395668029785,
          0.8500748872756958,
          0.8400896191596985,
          0.6193806529045105,
          1.4012621641159058,
          0.758082926273346,
          0.7456023693084717,
          1.0235249996185303,
          0.9242355823516846,
          0.729937732219696,
          0.7182667255401611,
          0.8912768959999084,
          0.8420517444610596,
          1.0058023929595947,
          0.9283302426338196,
          1.0056326389312744,
          0.8580906987190247,
          0.9605238437652588,
          1.0672059059143066,
          0.9498643279075623,
          0.8857851028442383,
          1.0414196252822876,
          0.7594183087348938,
          0.812824010848999,
          0.9644517302513123,
          1.0100966691970825,
          0.6582136750221252,
          0.9322631359100342,
          0.8383331894874573,
          0.8883887529373169,
          0.7786313891410828,
          1.1840693950653076,
          1.1574450731277466,
          0.9621166586875916,
          1.2129459381103516,
          1.262581706047058,
          0.8316826820373535,
          0.8894635438919067,
          0.7670618891716003,
          0.7233638763427734,
          0.6498211622238159,
          0.7326236963272095,
          0.7645232081413269,
          0.9291729927062988,
          0.49806085228919983,
          0.6841254234313965,
          0.6410577893257141,
          0.5502356290817261,
          0.8452069759368896,
          1.5481927394866943,
          1.0809093713760376,
          0.7866275906562805,
          1.3203816413879395,
          1.0108606815338135,
          1.2841325998306274,
          1.2175346612930298,
          0.8986132740974426,
          1.1430156230926514,
          0.9511510729789734,
          1.1733478307724,
          1.2188383340835571,
          1.0576239824295044,
          0.9028782248497009,
          0.7129479050636292,
          0.4312211573123932,
          0.632392168045044,
          0.6289076805114746,
          1.276903748512268,
          0.47012367844581604,
          0.7186148166656494,
          0.8848404884338379,
          0.6764376759529114,
          1.1947054862976074,
          0.9628050923347473,
          1.0844746828079224,
          0.7655282020568848,
          0.9324223399162292,
          0.9959235191345215,
          0.49692389369010925,
          0.8676912188529968,
          1.050493836402893,
          1.0060820579528809,
          0.8669964075088501,
          0.9895914196968079,
          1.0405662059783936,
          0.9037342667579651,
          0.9376327991485596,
          0.7020518183708191,
          0.6480844616889954,
          0.44800901412963867,
          0.828420877456665,
          1.8111289739608765,
          1.0584388971328735,
          1.118923306465149,
          1.1968963146209717,
          0.8532844185829163,
          0.6329981684684753,
          0.7148096561431885,
          0.8218145370483398,
          1.4299044609069824,
          1.3376178741455078,
          1.2301851511001587,
          1.412299394607544,
          0.4070611000061035,
          1.221091389656067,
          1.2300745248794556,
          0.8134013414382935,
          0.8679134845733643,
          1.051151156425476,
          1.3864033222198486,
          0.6467564702033997,
          0.6090624332427979,
          1.0431345701217651,
          0.9253762364387512,
          0.910063624382019,
          0.6579837799072266,
          1.1259973049163818,
          1.018626093864441,
          0.9822407364845276,
          0.729469895362854,
          0.9658691883087158,
          0.9034214019775391,
          0.8242906928062439,
          0.7971359491348267,
          0.6482701897621155,
          1.1065218448638916,
          1.2334076166152954,
          0.9133799076080322,
          1.3016419410705566,
          1.0868537425994873,
          1.323374629020691,
          1.1058006286621094,
          0.9647045135498047,
          0.9655783772468567,
          0.8195112347602844,
          0.9272595047950745,
          0.941868007183075,
          0.7983728051185608,
          1.176212191581726,
          0.6829569339752197,
          0.9252626299858093,
          0.9730425477027893,
          0.2578684985637665,
          1.0640004873275757,
          1.0082497596740723,
          0.9295139312744141,
          0.9935005307197571,
          0.6360235810279846,
          0.4140928387641907,
          0.6682670712471008,
          0.9458211064338684,
          0.7507508397102356,
          0.8038367033004761,
          0.9610033631324768,
          0.8735979199409485,
          0.8674814701080322,
          0.8799024224281311,
          1.3006010055541992,
          1.1105601787567139,
          0.9581915736198425,
          1.0681087970733643,
          0.9572078585624695,
          0.9314057230949402,
          0.7377437353134155,
          0.7884032726287842,
          0.5997188091278076,
          0.8278917074203491,
          0.7606154084205627,
          1.1040751934051514,
          1.0003074407577515,
          1.144754409790039,
          0.6373307108879089,
          1.2112698554992676,
          0.7580699920654297,
          0.8823314905166626,
          0.8526567220687866,
          0.8260512351989746,
          0.8842785954475403,
          1.0195815563201904,
          1.04817533493042,
          1.0963400602340698,
          0.96035236120224,
          0.9057959318161011,
          0.9932444095611572,
          1.461439847946167,
          1.0659898519515991,
          0.9632967114448547,
          1.0361469984054565,
          0.7863069772720337,
          1.1716872453689575,
          0.986924946308136,
          0.6928431391716003,
          0.8118795156478882,
          0.424762487411499,
          0.6397368311882019,
          0.8949180841445923,
          1.0246567726135254,
          0.8258119821548462,
          1.0680351257324219,
          1.075645089149475,
          0.8587060570716858,
          1.3804882764816284,
          1.5422494411468506,
          1.050544261932373,
          0.8958975076675415,
          1.0284510850906372,
          1.5150092840194702,
          1.2109490633010864,
          0.9312236309051514,
          1.551334023475647,
          1.4023349285125732,
          1.2855509519577026,
          1.1051661968231201,
          0.8115673065185547,
          0.7275624871253967,
          0.8680640459060669,
          0.8613784313201904,
          1.0889066457748413,
          0.9903257489204407,
          1.030930757522583,
          0.9828736782073975,
          1.5538667440414429,
          1.0894489288330078,
          1.0790759325027466,
          0.9128195643424988,
          1.0308853387832642,
          1.2228190898895264,
          0.9410886168479919,
          1.1658532619476318,
          1.0729281902313232,
          1.1862565279006958,
          0.6089159250259399,
          0.9822283983230591,
          1.0072907209396362,
          0.5737462639808655,
          1.079894781112671,
          0.8937698006629944,
          1.0308520793914795,
          0.7534579038619995,
          1.3111319541931152,
          0.7916087508201599,
          1.1213527917861938,
          1.2404371500015259,
          0.8886099457740784,
          1.1681584119796753,
          0.8791497349739075,
          0.9790822863578796,
          0.9036644697189331,
          1.1012582778930664,
          1.0367627143859863,
          1.1420783996582031,
          0.7047121524810791,
          1.5045356750488281,
          0.8677229285240173,
          0.9457498788833618,
          0.9456252455711365,
          1.088070034980774,
          1.0093343257904053,
          1.6298998594284058,
          1.1362136602401733,
          1.0605483055114746,
          1.3459663391113281,
          0.6744242310523987,
          0.9158022999763489,
          0.5962978005409241,
          0.5568322539329529,
          0.9486115574836731,
          0.7162491083145142,
          0.9457345604896545,
          1.199356198310852,
          0.9424787163734436,
          1.7925243377685547,
          0.7941632866859436,
          1.0695528984069824,
          1.2439346313476562,
          1.060530424118042,
          1.0988136529922485,
          0.7020682692527771,
          0.7908103466033936,
          1.1475015878677368,
          1.3836684226989746,
          1.0264512300491333,
          0.8483577370643616,
          0.573320209980011,
          1.2879159450531006,
          0.6730821132659912,
          1.04598069190979,
          0.8503021597862244,
          1.1056488752365112,
          1.3949655294418335,
          1.0633823871612549,
          1.1643192768096924,
          1.3793447017669678,
          1.0406744480133057,
          1.2653087377548218,
          1.1623743772506714,
          1.0273836851119995,
          1.6148871183395386,
          1.0398896932601929,
          1.4031912088394165,
          0.9571961164474487,
          1.0208063125610352,
          0.7800673842430115,
          0.7266096472740173,
          0.7421228289604187,
          0.9774746894836426,
          1.263610601425171,
          1.1667861938476562,
          1.2357943058013916,
          1.1050289869308472,
          1.179741621017456,
          0.7731981873512268,
          1.4129449129104614,
          1.2293809652328491,
          0.9395909309387207,
          0.570345938205719,
          0.8137337565422058,
          0.7238200306892395,
          1.121640920639038,
          1.0210680961608887,
          0.8949962258338928,
          0.7691240906715393,
          0.5571850538253784,
          1.274634838104248,
          0.8144001364707947,
          1.3913562297821045,
          1.1255494356155396,
          1.2431315183639526,
          1.3284226655960083,
          1.3889318704605103,
          1.0888534784317017,
          1.2131413221359253,
          1.1001603603363037,
          0.8988953232765198,
          1.2061983346939087,
          0.7560864686965942,
          0.9582613706588745,
          0.8878040313720703,
          1.0613694190979004,
          1.0721429586410522,
          0.7068372964859009,
          0.955484926700592,
          1.2113003730773926,
          0.8486523032188416,
          0.9637550711631775,
          0.8739075660705566,
          1.386518955230713,
          0.9532134532928467,
          0.9091729521751404,
          0.8110218644142151,
          0.9986130595207214,
          1.0500346422195435,
          0.9191333651542664,
          0.7994652986526489,
          1.2152279615402222,
          1.1695168018341064,
          0.8931286334991455,
          0.7346848249435425,
          0.7547394633293152,
          0.3339649736881256,
          0.9430273771286011,
          0.7509072422981262,
          0.8061701655387878,
          0.9400033354759216,
          1.1453373432159424,
          0.9616368412971497,
          1.2326958179473877,
          0.9334561228752136,
          1.424702763557434,
          1.013334035873413,
          0.9634641408920288,
          1.0004165172576904,
          0.8413457870483398,
          1.0369328260421753,
          0.9875065684318542,
          0.7451181411743164,
          0.8679313659667969,
          1.0519917011260986,
          1.0093204975128174,
          0.9183257222175598,
          1.133648157119751,
          1.3038090467453003,
          1.1905698776245117,
          0.6875688433647156,
          1.4676153659820557,
          1.3426815271377563,
          0.7411799430847168,
          0.5919089317321777,
          0.8527525663375854,
          0.9528642892837524,
          0.7111384868621826,
          0.7902637124061584,
          1.2984497547149658,
          0.519166111946106,
          0.7102603912353516,
          1.0645242929458618,
          0.4422798156738281,
          1.7236924171447754,
          1.7280391454696655,
          0.7782344818115234,
          1.1650382280349731,
          0.9392296075820923,
          0.4505312740802765,
          1.314456820487976,
          1.1635017395019531,
          0.8631066083908081,
          0.7336807250976562,
          0.7024143934249878,
          0.9120088219642639,
          0.950940728187561,
          0.8769779205322266,
          0.8649294376373291,
          1.0198264122009277,
          1.1649049520492554,
          1.0491387844085693,
          1.094875693321228,
          0.5650051832199097,
          1.1263083219528198,
          1.0343798398971558,
          0.8529423475265503,
          0.7006250619888306,
          1.082977533340454,
          0.9097609519958496,
          0.9988099336624146,
          1.0560944080352783,
          0.8048787117004395,
          0.9372352361679077,
          1.2112911939620972,
          0.89471036195755,
          0.9078690409660339,
          0.9025465846061707,
          1.0064946413040161,
          0.7853308916091919,
          1.2466845512390137,
          0.7886925935745239,
          1.0972790718078613,
          1.34901762008667,
          0.7546319365501404,
          0.8303433656692505,
          1.3635438680648804,
          0.9968549609184265,
          0.7686311602592468,
          1.2697629928588867,
          0.8783890008926392,
          0.8835596442222595,
          0.8271617889404297,
          0.9013098478317261,
          1.5496896505355835,
          0.9186391830444336,
          1.2754663228988647,
          1.3868005275726318,
          1.0195982456207275,
          0.9991019368171692,
          1.560707688331604,
          1.4231464862823486,
          0.8175727128982544,
          0.7469247579574585,
          1.2814143896102905,
          1.1517627239227295,
          0.9428622722625732,
          0.9768452644348145,
          1.432364583015442,
          1.0137122869491577,
          0.9525416493415833,
          0.9767832159996033,
          1.0312778949737549,
          1.2859498262405396,
          1.1718872785568237,
          1.0962246656417847,
          1.1367918252944946,
          1.248335361480713,
          1.240211009979248,
          1.17401921749115,
          1.1338163614273071,
          1.160636305809021,
          0.8125398755073547,
          0.597432553768158,
          0.8803744912147522,
          1.2605514526367188,
          1.3527262210845947,
          0.8114302158355713,
          0.773697018623352,
          0.9511264562606812,
          1.1778541803359985,
          0.8395766615867615,
          1.1055442094802856,
          0.8318852782249451,
          1.1468966007232666,
          0.7550345063209534,
          1.7052403688430786,
          1.0699983835220337,
          0.7419254779815674,
          1.1300253868103027,
          1.3315640687942505,
          1.5425015687942505,
          0.8983942866325378,
          1.087178349494934,
          0.9811379313468933,
          0.8569620251655579,
          0.939415693283081,
          0.751927375793457,
          1.2529892921447754,
          0.863304078578949,
          1.0714410543441772,
          1.2532026767730713,
          1.1645103693008423,
          0.9297256469726562,
          0.8528088331222534,
          0.8321082592010498,
          1.074371099472046,
          1.4638652801513672,
          0.9566121697425842,
          1.5456985235214233,
          0.9380525350570679,
          1.240513801574707,
          0.6540248990058899,
          1.3848152160644531,
          1.3407039642333984,
          1.58412504196167,
          1.3093554973602295,
          1.329459309577942,
          1.4048782587051392,
          1.4420274496078491,
          1.2599022388458252,
          1.1667227745056152,
          0.9519414305686951,
          1.0841776132583618,
          1.0080935955047607,
          0.6646482348442078,
          0.8592532873153687,
          1.2041984796524048,
          0.7044498324394226,
          1.19841468334198,
          1.2802976369857788,
          0.9898914098739624,
          1.0506905317306519,
          1.2099798917770386,
          1.3758286237716675,
          1.477702260017395,
          1.2824006080627441,
          1.301409125328064,
          1.1404684782028198,
          0.7711317539215088,
          1.0682587623596191,
          1.1130492687225342,
          1.1967244148254395,
          1.148376703262329,
          1.2209103107452393,
          0.9923244714736938,
          1.1092426776885986,
          1.0753053426742554,
          0.8559539914131165,
          0.9415566325187683,
          1.2174012660980225,
          1.184901237487793,
          1.104189157485962,
          1.4018393754959106,
          1.2651005983352661,
          1.3343803882598877,
          1.1629964113235474,
          1.1982057094573975,
          0.9417768120765686,
          1.0922735929489136,
          1.3916040658950806,
          1.0655871629714966,
          1.2134279012680054,
          1.4503523111343384,
          1.15022873878479,
          1.1896709203720093,
          1.0199371576309204,
          1.2427482604980469,
          1.0272774696350098,
          1.3613348007202148,
          0.7449981570243835,
          0.8808292746543884,
          1.1870466470718384,
          1.6530919075012207,
          1.3994379043579102,
          1.4071073532104492,
          1.0749279260635376,
          1.2834779024124146,
          1.2196955680847168,
          1.2528787851333618,
          1.2669113874435425,
          1.0064946413040161,
          1.4559701681137085,
          0.9323513507843018,
          1.477973222732544,
          1.3177114725112915,
          1.024839162826538,
          1.1529618501663208,
          1.1647940874099731,
          1.1968560218811035,
          0.9419040083885193,
          1.2611249685287476,
          1.3393440246582031,
          1.0742433071136475,
          1.713814377784729,
          1.0404270887374878,
          0.9962046146392822,
          1.2316198348999023,
          0.8221746683120728,
          1.336658000946045,
          1.112393856048584,
          1.337448000907898,
          1.8420181274414062,
          1.0317127704620361,
          1.30929434299469,
          1.488685131072998,
          0.8793913125991821,
          1.5741311311721802,
          0.6086465716362,
          0.6987048983573914,
          0.7317920923233032,
          0.6052764654159546,
          0.9652698636054993,
          1.06611967086792,
          0.7761431932449341,
          1.2237858772277832,
          1.4302512407302856,
          1.066133975982666,
          1.0490531921386719,
          1.297471046447754,
          1.4366511106491089,
          1.508453130722046,
          1.3552207946777344,
          0.8807206749916077,
          1.3688896894454956,
          1.4507452249526978,
          1.5141751766204834,
          1.3022607564926147,
          1.6814998388290405,
          0.9149013757705688,
          1.206628441810608,
          1.2659671306610107,
          1.0717668533325195,
          1.0625903606414795,
          0.8291354775428772,
          1.189712405204773,
          1.1883074045181274,
          1.5892353057861328,
          1.1466665267944336,
          1.0917378664016724,
          1.2399195432662964,
          1.5607892274856567,
          1.3826254606246948,
          1.1672028303146362,
          1.2477558851242065,
          1.1141022443771362,
          0.9998952150344849,
          1.1465413570404053,
          0.9767762422561646,
          1.2818982601165771,
          1.3314474821090698,
          1.342204213142395,
          1.2518833875656128,
          1.2778655290603638,
          1.0104249715805054,
          0.8630983233451843,
          1.560824990272522,
          1.3581229448318481,
          1.0919246673583984,
          1.0934511423110962,
          1.3103283643722534,
          1.7745782136917114,
          1.135105013847351,
          1.6053274869918823,
          1.2561674118041992,
          1.228311538696289,
          1.4503679275512695,
          0.8988938927650452,
          0.9650586843490601,
          0.9509842991828918,
          1.0682587623596191,
          0.9782052040100098,
          1.0478845834732056,
          1.3947012424468994,
          1.5867960453033447,
          0.9485934972763062,
          1.0286459922790527,
          0.8884375095367432,
          1.2081979513168335,
          1.235222339630127,
          0.9517792463302612,
          1.2201515436172485,
          1.839522361755371,
          1.0545029640197754,
          1.4221062660217285,
          1.1621454954147339,
          1.09941565990448,
          1.0353339910507202,
          0.9544343948364258,
          1.3211140632629395,
          1.135090708732605,
          0.9015958905220032,
          1.1330592632293701,
          1.3132009506225586,
          1.8748316764831543,
          1.184887409210205,
          1.6460901498794556,
          1.6534215211868286,
          1.137405514717102,
          1.5366603136062622,
          0.8907822966575623,
          1.1840295791625977,
          0.8665799498558044,
          0.9495776891708374,
          1.6790440082550049,
          1.7159134149551392,
          0.9305295944213867,
          1.4020936489105225,
          0.6135995388031006,
          1.5179864168167114,
          1.0840466022491455,
          1.2244915962219238,
          1.4900386333465576,
          1.0116039514541626,
          1.2949260473251343,
          1.5369516611099243,
          1.0261598825454712,
          1.096237301826477,
          1.2101047039031982,
          1.2614551782608032,
          1.175782561302185,
          1.6172457933425903,
          1.4668012857437134,
          1.3590396642684937,
          1.4841219186782837,
          0.8677002787590027,
          1.0545029640197754,
          1.7035937309265137,
          1.1350027322769165,
          0.8138427138328552,
          1.4980003833770752,
          0.8565555810928345,
          1.38498854637146,
          1.095961332321167,
          1.4281940460205078,
          0.8623763918876648,
          1.0814491510391235,
          1.089703917503357,
          0.9299928545951843,
          1.12372887134552,
          1.7444535493850708,
          1.7909077405929565,
          1.4096869230270386,
          1.637683629989624,
          1.0696171522140503,
          1.5059936046600342,
          0.8551797866821289,
          1.3859449625015259,
          1.5324790477752686,
          1.3026148080825806,
          0.7712290287017822,
          1.6491292715072632,
          1.054486870765686,
          1.5893748998641968,
          0.9287118911743164,
          1.8148434162139893,
          0.7471895813941956,
          1.3877986669540405,
          1.1916338205337524,
          1.5563158988952637,
          1.5830931663513184,
          1.8384709358215332,
          1.009158968925476,
          1.1562762260437012,
          0.9027823805809021,
          1.2171881198883057,
          1.3811163902282715,
          0.7889246344566345,
          1.3085718154907227,
          0.8732144236564636,
          1.5361037254333496,
          1.3702406883239746,
          0.9070835709571838,
          0.9564014673233032,
          1.6669665575027466,
          1.1558223962783813,
          1.0402956008911133,
          1.260286569595337,
          1.5415537357330322,
          1.1725287437438965,
          0.7316202521324158,
          0.8886996507644653,
          1.3443974256515503,
          0.9807133078575134,
          1.6201592683792114,
          0.8305103778839111,
          0.8487752079963684,
          1.086095929145813,
          1.1825549602508545,
          1.5001598596572876,
          1.035274624824524,
          1.630782961845398,
          0.9114271998405457,
          1.2195237874984741,
          0.9863589406013489,
          1.4815646409988403,
          1.2574518918991089,
          1.0478845834732056,
          0.8558384776115417,
          1.7326631546020508,
          1.1974252462387085,
          1.177192211151123,
          0.9809607863426208,
          0.879496157169342,
          1.3841623067855835,
          0.9181937575340271,
          0.467254638671875,
          0.8866391181945801,
          1.0454868078231812,
          1.486053228378296,
          1.7123247385025024,
          1.1522581577301025,
          1.4915413856506348,
          0.9410197734832764,
          1.2937941551208496,
          1.8248271942138672,
          0.8206000328063965,
          1.3303920030593872,
          1.1161009073257446,
          0.7948251962661743,
          0.926622748374939,
          1.4445703029632568,
          1.065730333328247,
          1.0522631406784058,
          1.059220790863037,
          0.9353213310241699,
          1.3655925989151,
          1.5190036296844482,
          1.6333799362182617,
          1.1185749769210815,
          1.0628987550735474,
          1.629747986793518,
          1.5557388067245483,
          0.8673050403594971,
          1.0628987550735474,
          1.0953842401504517,
          1.103294014930725,
          1.5734854936599731,
          0.9934824109077454,
          1.0229052305221558,
          1.0070041418075562,
          1.3672221899032593,
          0.8354666233062744,
          1.046071171760559,
          0.873627781867981,
          1.1603472232818604,
          1.293839454650879,
          0.9422063231468201,
          1.0927603244781494,
          1.143533706665039,
          1.021004319190979,
          0.8404397964477539,
          1.1067328453063965,
          1.016385555267334,
          1.0761421918869019,
          1.0676523447036743,
          1.1734904050827026,
          1.4360712766647339,
          1.0181468725204468,
          1.0718224048614502,
          1.084425926208496,
          1.0720499753952026,
          1.1303304433822632,
          0.9445533752441406,
          1.432120442390442,
          1.0718626976013184,
          1.5574514865875244,
          1.071502685546875,
          0.9137650728225708,
          1.3842827081680298,
          1.50531804561615,
          1.072177529335022,
          1.3756003379821777,
          1.0745967626571655,
          1.1145892143249512,
          1.3791927099227905,
          1.0064946413040161,
          0.9011544585227966,
          0.8565178513526917,
          1.0017486810684204,
          1.11232590675354,
          1.1846108436584473,
          1.237815499305725,
          0.743858814239502,
          1.2260432243347168,
          0.9148001074790955,
          1.0065480470657349,
          0.7601581811904907,
          1.2101047039031982,
          0.8599886894226074,
          1.0293930768966675,
          1.027415156364441,
          0.8203694224357605,
          0.8496061563491821,
          1.6514610052108765,
          1.1435825824737549,
          0.9774696230888367,
          1.0049984455108643,
          1.0310595035552979,
          1.601306676864624,
          0.9957732558250427,
          1.5325055122375488,
          1.6606701612472534,
          1.58589506149292,
          1.438361406326294,
          1.0968130826950073,
          0.9877734780311584,
          0.9243575930595398,
          1.3382630348205566,
          0.9835282564163208,
          1.4246891736984253,
          1.0857914686203003,
          0.9903995990753174,
          1.0603249073028564,
          1.2309461832046509,
          1.1008392572402954,
          1.292964220046997,
          1.1820858716964722,
          1.0582411289215088,
          1.2687658071517944,
          1.2687658071517944,
          1.2687658071517944,
          0.9629830121994019,
          1.0274009704589844,
          1.3732563257217407,
          1.497571587562561,
          1.002760887145996,
          1.2885252237319946,
          0.6965112090110779,
          0.8800910115242004,
          1.5742716789245605,
          0.4288460612297058,
          1.2018071413040161,
          1.0001347064971924,
          1.131900668144226,
          1.0001347064971924,
          0.758335292339325,
          0.7014859914779663,
          0.9651800990104675,
          1.6483712196350098,
          1.299595594406128,
          0.758335292339325,
          1.0720499753952026,
          1.0860224962234497,
          1.494732141494751,
          1.3358097076416016,
          1.246779203414917,
          1.1365000009536743,
          0.8772680163383484,
          0.6931635141372681,
          0.9942014217376709,
          0.9701901078224182,
          1.0972380638122559,
          1.03654146194458,
          1.4284658432006836,
          0.8735263347625732,
          1.5276994705200195,
          0.9487752914428711,
          1.50531804561615,
          1.3638241291046143,
          1.354361653327942,
          0.929572343826294,
          1.089703917503357,
          1.630782961845398,
          0.9562760591506958
         ]
        }
       ],
       "layout": {
        "font": {
         "size": 20
        },
        "paper_bgcolor": "white",
        "plot_bgcolor": "white",
        "template": {
         "data": {
          "bar": [
           {
            "error_x": {
             "color": "#2a3f5f"
            },
            "error_y": {
             "color": "#2a3f5f"
            },
            "marker": {
             "line": {
              "color": "#E5ECF6",
              "width": 0.5
             },
             "pattern": {
              "fillmode": "overlay",
              "size": 10,
              "solidity": 0.2
             }
            },
            "type": "bar"
           }
          ],
          "barpolar": [
           {
            "marker": {
             "line": {
              "color": "#E5ECF6",
              "width": 0.5
             },
             "pattern": {
              "fillmode": "overlay",
              "size": 10,
              "solidity": 0.2
             }
            },
            "type": "barpolar"
           }
          ],
          "carpet": [
           {
            "aaxis": {
             "endlinecolor": "#2a3f5f",
             "gridcolor": "white",
             "linecolor": "white",
             "minorgridcolor": "white",
             "startlinecolor": "#2a3f5f"
            },
            "baxis": {
             "endlinecolor": "#2a3f5f",
             "gridcolor": "white",
             "linecolor": "white",
             "minorgridcolor": "white",
             "startlinecolor": "#2a3f5f"
            },
            "type": "carpet"
           }
          ],
          "choropleth": [
           {
            "colorbar": {
             "outlinewidth": 0,
             "ticks": ""
            },
            "type": "choropleth"
           }
          ],
          "contour": [
           {
            "colorbar": {
             "outlinewidth": 0,
             "ticks": ""
            },
            "colorscale": [
             [
              0,
              "#0d0887"
             ],
             [
              0.1111111111111111,
              "#46039f"
             ],
             [
              0.2222222222222222,
              "#7201a8"
             ],
             [
              0.3333333333333333,
              "#9c179e"
             ],
             [
              0.4444444444444444,
              "#bd3786"
             ],
             [
              0.5555555555555556,
              "#d8576b"
             ],
             [
              0.6666666666666666,
              "#ed7953"
             ],
             [
              0.7777777777777778,
              "#fb9f3a"
             ],
             [
              0.8888888888888888,
              "#fdca26"
             ],
             [
              1,
              "#f0f921"
             ]
            ],
            "type": "contour"
           }
          ],
          "contourcarpet": [
           {
            "colorbar": {
             "outlinewidth": 0,
             "ticks": ""
            },
            "type": "contourcarpet"
           }
          ],
          "heatmap": [
           {
            "colorbar": {
             "outlinewidth": 0,
             "ticks": ""
            },
            "colorscale": [
             [
              0,
              "#0d0887"
             ],
             [
              0.1111111111111111,
              "#46039f"
             ],
             [
              0.2222222222222222,
              "#7201a8"
             ],
             [
              0.3333333333333333,
              "#9c179e"
             ],
             [
              0.4444444444444444,
              "#bd3786"
             ],
             [
              0.5555555555555556,
              "#d8576b"
             ],
             [
              0.6666666666666666,
              "#ed7953"
             ],
             [
              0.7777777777777778,
              "#fb9f3a"
             ],
             [
              0.8888888888888888,
              "#fdca26"
             ],
             [
              1,
              "#f0f921"
             ]
            ],
            "type": "heatmap"
           }
          ],
          "heatmapgl": [
           {
            "colorbar": {
             "outlinewidth": 0,
             "ticks": ""
            },
            "colorscale": [
             [
              0,
              "#0d0887"
             ],
             [
              0.1111111111111111,
              "#46039f"
             ],
             [
              0.2222222222222222,
              "#7201a8"
             ],
             [
              0.3333333333333333,
              "#9c179e"
             ],
             [
              0.4444444444444444,
              "#bd3786"
             ],
             [
              0.5555555555555556,
              "#d8576b"
             ],
             [
              0.6666666666666666,
              "#ed7953"
             ],
             [
              0.7777777777777778,
              "#fb9f3a"
             ],
             [
              0.8888888888888888,
              "#fdca26"
             ],
             [
              1,
              "#f0f921"
             ]
            ],
            "type": "heatmapgl"
           }
          ],
          "histogram": [
           {
            "marker": {
             "pattern": {
              "fillmode": "overlay",
              "size": 10,
              "solidity": 0.2
             }
            },
            "type": "histogram"
           }
          ],
          "histogram2d": [
           {
            "colorbar": {
             "outlinewidth": 0,
             "ticks": ""
            },
            "colorscale": [
             [
              0,
              "#0d0887"
             ],
             [
              0.1111111111111111,
              "#46039f"
             ],
             [
              0.2222222222222222,
              "#7201a8"
             ],
             [
              0.3333333333333333,
              "#9c179e"
             ],
             [
              0.4444444444444444,
              "#bd3786"
             ],
             [
              0.5555555555555556,
              "#d8576b"
             ],
             [
              0.6666666666666666,
              "#ed7953"
             ],
             [
              0.7777777777777778,
              "#fb9f3a"
             ],
             [
              0.8888888888888888,
              "#fdca26"
             ],
             [
              1,
              "#f0f921"
             ]
            ],
            "type": "histogram2d"
           }
          ],
          "histogram2dcontour": [
           {
            "colorbar": {
             "outlinewidth": 0,
             "ticks": ""
            },
            "colorscale": [
             [
              0,
              "#0d0887"
             ],
             [
              0.1111111111111111,
              "#46039f"
             ],
             [
              0.2222222222222222,
              "#7201a8"
             ],
             [
              0.3333333333333333,
              "#9c179e"
             ],
             [
              0.4444444444444444,
              "#bd3786"
             ],
             [
              0.5555555555555556,
              "#d8576b"
             ],
             [
              0.6666666666666666,
              "#ed7953"
             ],
             [
              0.7777777777777778,
              "#fb9f3a"
             ],
             [
              0.8888888888888888,
              "#fdca26"
             ],
             [
              1,
              "#f0f921"
             ]
            ],
            "type": "histogram2dcontour"
           }
          ],
          "mesh3d": [
           {
            "colorbar": {
             "outlinewidth": 0,
             "ticks": ""
            },
            "type": "mesh3d"
           }
          ],
          "parcoords": [
           {
            "line": {
             "colorbar": {
              "outlinewidth": 0,
              "ticks": ""
             }
            },
            "type": "parcoords"
           }
          ],
          "pie": [
           {
            "automargin": true,
            "type": "pie"
           }
          ],
          "scatter": [
           {
            "fillpattern": {
             "fillmode": "overlay",
             "size": 10,
             "solidity": 0.2
            },
            "type": "scatter"
           }
          ],
          "scatter3d": [
           {
            "line": {
             "colorbar": {
              "outlinewidth": 0,
              "ticks": ""
             }
            },
            "marker": {
             "colorbar": {
              "outlinewidth": 0,
              "ticks": ""
             }
            },
            "type": "scatter3d"
           }
          ],
          "scattercarpet": [
           {
            "marker": {
             "colorbar": {
              "outlinewidth": 0,
              "ticks": ""
             }
            },
            "type": "scattercarpet"
           }
          ],
          "scattergeo": [
           {
            "marker": {
             "colorbar": {
              "outlinewidth": 0,
              "ticks": ""
             }
            },
            "type": "scattergeo"
           }
          ],
          "scattergl": [
           {
            "marker": {
             "colorbar": {
              "outlinewidth": 0,
              "ticks": ""
             }
            },
            "type": "scattergl"
           }
          ],
          "scattermapbox": [
           {
            "marker": {
             "colorbar": {
              "outlinewidth": 0,
              "ticks": ""
             }
            },
            "type": "scattermapbox"
           }
          ],
          "scatterpolar": [
           {
            "marker": {
             "colorbar": {
              "outlinewidth": 0,
              "ticks": ""
             }
            },
            "type": "scatterpolar"
           }
          ],
          "scatterpolargl": [
           {
            "marker": {
             "colorbar": {
              "outlinewidth": 0,
              "ticks": ""
             }
            },
            "type": "scatterpolargl"
           }
          ],
          "scatterternary": [
           {
            "marker": {
             "colorbar": {
              "outlinewidth": 0,
              "ticks": ""
             }
            },
            "type": "scatterternary"
           }
          ],
          "surface": [
           {
            "colorbar": {
             "outlinewidth": 0,
             "ticks": ""
            },
            "colorscale": [
             [
              0,
              "#0d0887"
             ],
             [
              0.1111111111111111,
              "#46039f"
             ],
             [
              0.2222222222222222,
              "#7201a8"
             ],
             [
              0.3333333333333333,
              "#9c179e"
             ],
             [
              0.4444444444444444,
              "#bd3786"
             ],
             [
              0.5555555555555556,
              "#d8576b"
             ],
             [
              0.6666666666666666,
              "#ed7953"
             ],
             [
              0.7777777777777778,
              "#fb9f3a"
             ],
             [
              0.8888888888888888,
              "#fdca26"
             ],
             [
              1,
              "#f0f921"
             ]
            ],
            "type": "surface"
           }
          ],
          "table": [
           {
            "cells": {
             "fill": {
              "color": "#EBF0F8"
             },
             "line": {
              "color": "white"
             }
            },
            "header": {
             "fill": {
              "color": "#C8D4E3"
             },
             "line": {
              "color": "white"
             }
            },
            "type": "table"
           }
          ]
         },
         "layout": {
          "annotationdefaults": {
           "arrowcolor": "#2a3f5f",
           "arrowhead": 0,
           "arrowwidth": 1
          },
          "autotypenumbers": "strict",
          "coloraxis": {
           "colorbar": {
            "outlinewidth": 0,
            "ticks": ""
           }
          },
          "colorscale": {
           "diverging": [
            [
             0,
             "#8e0152"
            ],
            [
             0.1,
             "#c51b7d"
            ],
            [
             0.2,
             "#de77ae"
            ],
            [
             0.3,
             "#f1b6da"
            ],
            [
             0.4,
             "#fde0ef"
            ],
            [
             0.5,
             "#f7f7f7"
            ],
            [
             0.6,
             "#e6f5d0"
            ],
            [
             0.7,
             "#b8e186"
            ],
            [
             0.8,
             "#7fbc41"
            ],
            [
             0.9,
             "#4d9221"
            ],
            [
             1,
             "#276419"
            ]
           ],
           "sequential": [
            [
             0,
             "#0d0887"
            ],
            [
             0.1111111111111111,
             "#46039f"
            ],
            [
             0.2222222222222222,
             "#7201a8"
            ],
            [
             0.3333333333333333,
             "#9c179e"
            ],
            [
             0.4444444444444444,
             "#bd3786"
            ],
            [
             0.5555555555555556,
             "#d8576b"
            ],
            [
             0.6666666666666666,
             "#ed7953"
            ],
            [
             0.7777777777777778,
             "#fb9f3a"
            ],
            [
             0.8888888888888888,
             "#fdca26"
            ],
            [
             1,
             "#f0f921"
            ]
           ],
           "sequentialminus": [
            [
             0,
             "#0d0887"
            ],
            [
             0.1111111111111111,
             "#46039f"
            ],
            [
             0.2222222222222222,
             "#7201a8"
            ],
            [
             0.3333333333333333,
             "#9c179e"
            ],
            [
             0.4444444444444444,
             "#bd3786"
            ],
            [
             0.5555555555555556,
             "#d8576b"
            ],
            [
             0.6666666666666666,
             "#ed7953"
            ],
            [
             0.7777777777777778,
             "#fb9f3a"
            ],
            [
             0.8888888888888888,
             "#fdca26"
            ],
            [
             1,
             "#f0f921"
            ]
           ]
          },
          "colorway": [
           "#636efa",
           "#EF553B",
           "#00cc96",
           "#ab63fa",
           "#FFA15A",
           "#19d3f3",
           "#FF6692",
           "#B6E880",
           "#FF97FF",
           "#FECB52"
          ],
          "font": {
           "color": "#2a3f5f"
          },
          "geo": {
           "bgcolor": "white",
           "lakecolor": "white",
           "landcolor": "#E5ECF6",
           "showlakes": true,
           "showland": true,
           "subunitcolor": "white"
          },
          "hoverlabel": {
           "align": "left"
          },
          "hovermode": "closest",
          "mapbox": {
           "style": "light"
          },
          "paper_bgcolor": "white",
          "plot_bgcolor": "#E5ECF6",
          "polar": {
           "angularaxis": {
            "gridcolor": "white",
            "linecolor": "white",
            "ticks": ""
           },
           "bgcolor": "#E5ECF6",
           "radialaxis": {
            "gridcolor": "white",
            "linecolor": "white",
            "ticks": ""
           }
          },
          "scene": {
           "xaxis": {
            "backgroundcolor": "#E5ECF6",
            "gridcolor": "white",
            "gridwidth": 2,
            "linecolor": "white",
            "showbackground": true,
            "ticks": "",
            "zerolinecolor": "white"
           },
           "yaxis": {
            "backgroundcolor": "#E5ECF6",
            "gridcolor": "white",
            "gridwidth": 2,
            "linecolor": "white",
            "showbackground": true,
            "ticks": "",
            "zerolinecolor": "white"
           },
           "zaxis": {
            "backgroundcolor": "#E5ECF6",
            "gridcolor": "white",
            "gridwidth": 2,
            "linecolor": "white",
            "showbackground": true,
            "ticks": "",
            "zerolinecolor": "white"
           }
          },
          "shapedefaults": {
           "line": {
            "color": "#2a3f5f"
           }
          },
          "ternary": {
           "aaxis": {
            "gridcolor": "white",
            "linecolor": "white",
            "ticks": ""
           },
           "baxis": {
            "gridcolor": "white",
            "linecolor": "white",
            "ticks": ""
           },
           "bgcolor": "#E5ECF6",
           "caxis": {
            "gridcolor": "white",
            "linecolor": "white",
            "ticks": ""
           }
          },
          "title": {
           "x": 0.05
          },
          "xaxis": {
           "automargin": true,
           "gridcolor": "white",
           "linecolor": "white",
           "ticks": "",
           "title": {
            "standoff": 15
           },
           "zerolinecolor": "white",
           "zerolinewidth": 2
          },
          "yaxis": {
           "automargin": true,
           "gridcolor": "white",
           "linecolor": "white",
           "ticks": "",
           "title": {
            "standoff": 15
           },
           "zerolinecolor": "white",
           "zerolinewidth": 2
          }
         }
        },
        "title": {
         "text": "Distribution of Nuclear Norm of Node Explain Matrix"
        },
        "xaxis": {
         "title": {
          "text": "Nuclear Norm"
         }
        },
        "yaxis": {
         "title": {
          "text": "Frequency"
         }
        }
       }
      },
      "text/html": [
       "<div>                            <div id=\"1a313079-4a0a-4996-a55a-0963dfa55c66\" class=\"plotly-graph-div\" style=\"height:525px; width:100%;\"></div>            <script type=\"text/javascript\">                require([\"plotly\"], function(Plotly) {                    window.PLOTLYENV=window.PLOTLYENV || {};                                    if (document.getElementById(\"1a313079-4a0a-4996-a55a-0963dfa55c66\")) {                    Plotly.newPlot(                        \"1a313079-4a0a-4996-a55a-0963dfa55c66\",                        [{\"name\":\"DGI\",\"x\":[0.9480934739112854,0.9481810927391052,0.6045016050338745,0.7066287994384766,0.6719592213630676,0.42554035782814026,0.6307743191719055,0.6541010141372681,0.859455943107605,0.7666478753089905,0.9447820782661438,0.7190691828727722,0.8355501294136047,0.5665183067321777,0.790424644947052,0.7785085439682007,0.9381502866744995,0.691680908203125,1.0829672813415527,0.7793563604354858,0.7722620368003845,0.6021081209182739,1.1019525527954102,0.7165887355804443,0.6739915013313293,0.8686563372612,0.8078510761260986,0.6836758852005005,0.6888508200645447,0.8104642629623413,0.7812097668647766,0.8887426853179932,0.7986547350883484,0.8613904118537903,0.731415867805481,0.8783465623855591,0.9277336001396179,0.8420354723930359,0.8124312162399292,0.8995570540428162,0.7118918299674988,0.7794373035430908,0.8761099576950073,0.83141028881073,0.6300091743469238,0.827701210975647,0.7612355351448059,0.8244702816009521,0.725165069103241,0.9670231342315674,0.9486294388771057,0.8918700218200684,1.0706356763839722,1.1488094329833984,0.7323165535926819,0.7813650965690613,0.6837836503982544,0.67225581407547,0.6257421970367432,0.6602204442024231,0.7213454842567444,0.8917653560638428,0.5016084313392639,0.6584731936454773,0.6454479098320007,0.5332619547843933,0.7466089129447937,1.1408450603485107,0.9316408634185791,0.724116861820221,1.049919843673706,0.8404523134231567,1.043561577796936,1.0478780269622803,0.8611297607421875,0.9406194090843201,0.8078901767730713,0.9618312120437622,0.9842652082443237,0.9305516481399536,0.817902684211731,0.6736848950386047,0.43759605288505554,0.6178363561630249,0.6255833506584167,1.1444343328475952,0.479527086019516,0.6971921920776367,0.7636801600456238,0.6210676431655884,0.9897885322570801,0.8340919017791748,0.976438581943512,0.7270932793617249,0.8458943367004395,0.9086943864822388,0.48592695593833923,0.7510396838188171,0.88543301820755,0.8501346707344055,0.7806641459465027,0.8451054692268372,0.878479540348053,0.8476528525352478,0.8269136548042297,0.6832568049430847,0.6289606094360352,0.4510301649570465,0.7386971712112427,1.3027807474136353,0.8346693515777588,0.8596831560134888,0.9899995923042297,0.8305951356887817,0.627713143825531,0.7029914259910583,0.7760574221611023,1.1333110332489014,1.1245607137680054,0.98796546459198,1.1525510549545288,0.4120628833770752,1.0597431659698486,1.062235951423645,0.7369293570518494,0.7558018565177917,0.8883107304573059,1.161234736442566,0.6428320407867432,0.6121516227722168,0.9257174134254456,0.8328762650489807,0.8078866600990295,0.6402275562286377,0.9818040728569031,0.8778499364852905,0.8101556897163391,0.6770772933959961,0.8083620071411133,0.7989888787269592,0.7387493848800659,0.753682017326355,0.6270439028739929,0.9726822376251221,0.9494366645812988,0.8310025334358215,1.1135594844818115,0.96785968542099,1.1116970777511597,0.9668553471565247,0.8752338290214539,0.8558358550071716,0.7508584856987,0.8185614347457886,0.8206038475036621,0.7392669916152954,1.0231387615203857,0.6704400181770325,0.8239743113517761,0.8400253653526306,0.26925235986709595,0.9202738404273987,0.9150399565696716,0.827621579170227,0.8894280791282654,0.6229737401008606,0.4127857983112335,0.6323882341384888,0.896678626537323,0.726239025592804,0.764582633972168,0.8720166087150574,0.8471770882606506,0.803506076335907,0.7966644167900085,0.9928317666053772,0.9743146896362305,0.8907684087753296,0.9611064195632935,0.9020171165466309,0.9164350032806396,0.7015767097473145,0.7347011566162109,0.5940472483634949,0.7633724808692932,0.6862044930458069,0.9155550003051758,0.876092791557312,0.9674395322799683,0.6045368909835815,1.0094540119171143,0.7251463532447815,0.7436525821685791,0.716166615486145,0.7290472984313965,0.7570642828941345,0.8876804113388062,0.9240772724151611,0.9650779962539673,0.8739051222801208,0.7973567843437195,0.9117754101753235,1.1184966564178467,0.9376276135444641,0.848449170589447,0.9047510623931885,0.7376026511192322,0.9942970275878906,0.864577054977417,0.6504254341125488,0.7496547698974609,0.41908910870552063,0.6079872250556946,0.8227337002754211,0.9494046568870544,0.7837527394294739,0.8915575742721558,0.9172035455703735,0.8019346594810486,1.1036487817764282,1.2189109325408936,0.9682880640029907,0.8301869034767151,0.9320878982543945,1.188729166984558,1.0217554569244385,0.8622522950172424,1.245266079902649,1.1366732120513916,1.096006989479065,0.9049574732780457,0.7788127064704895,0.7052022218704224,0.7845044732093811,0.772369921207428,0.9005028605461121,0.8605866432189941,0.8743219971656799,0.8841460347175598,1.1682409048080444,0.8881491422653198,0.8938620090484619,0.8015471696853638,0.9239863157272339,1.0077338218688965,0.8597754836082458,0.9776955842971802,0.8786229491233826,1.0069717168807983,0.6025121808052063,0.873249888420105,0.8718543648719788,0.5491776466369629,0.9331046938896179,0.8202325701713562,0.9364612698554993,0.7277703881263733,1.0575107336044312,0.7388696670532227,0.9669082760810852,1.0296279191970825,0.7940162420272827,1.0397084951400757,0.8255125284194946,0.857541024684906,0.8114056587219238,0.9644524455070496,0.8717422485351562,0.9892313480377197,0.6588850617408752,1.1650102138519287,0.7871577143669128,0.8533868789672852,0.8165397047996521,0.899100124835968,0.8964146375656128,1.2544304132461548,0.9576218128204346,0.9823431372642517,0.9827301502227783,0.673053503036499,0.8177235722541809,0.576961874961853,0.5492035150527954,0.8613073229789734,0.671877920627594,0.8156824707984924,0.9774816036224365,0.8193135857582092,1.3655586242675781,0.7571855187416077,0.8993118405342102,1.0930211544036865,0.87149977684021,0.9110245108604431,0.6831364035606384,0.7511944770812988,0.9618777632713318,1.1190001964569092,0.886483371257782,0.7758117318153381,0.5617454648017883,1.0231256484985352,0.63201504945755,0.8686386346817017,0.7798617482185364,0.9841692447662354,1.183161973953247,0.921059787273407,1.0519208908081055,1.175196647644043,0.9025652408599854,1.0824298858642578,0.9566003680229187,0.9285537600517273,1.2211159467697144,0.940172553062439,1.1959211826324463,0.895010769367218,0.7934935688972473,0.7272641062736511,0.6954899430274963,0.6671779155731201,0.8539736270904541,1.0462158918380737,0.9858343005180359,1.0754706859588623,0.9595628976821899,0.9622466564178467,0.7223809361457825,1.1267170906066895,1.0121017694473267,0.8233618140220642,0.5646966099739075,0.6926804780960083,0.6529868841171265,0.9637675285339355,0.8786599636077881,0.818788468837738,0.7101119160652161,0.535184383392334,0.9991398453712463,0.7849686145782471,1.1613832712173462,0.9595317840576172,1.078344464302063,1.1391412019729614,1.2063432931900024,0.8222821950912476,1.063431978225708,0.9819071888923645,0.8318576812744141,1.052363634109497,0.698310911655426,0.7702202200889587,0.7663432359695435,0.9180357456207275,0.9213716387748718,0.6611655950546265,0.8459635972976685,1.0208686590194702,0.7677483558654785,0.8734307885169983,0.7694621086120605,1.019571304321289,0.8943061232566833,0.8641072511672974,0.7579893469810486,0.9213362336158752,0.8147347569465637,0.8280322551727295,0.7375637888908386,1.016054391860962,1.0366588830947876,0.7529069185256958,0.6739678382873535,0.7176383137702942,0.33864983916282654,0.8099414706230164,0.7080180644989014,0.7410198450088501,0.8587254285812378,0.8376737236976624,0.741521954536438,0.9936752319335938,0.7969282269477844,1.0549315214157104,0.9248979687690735,0.8357234597206116,0.916827917098999,0.776181161403656,0.8720260262489319,0.8380908966064453,0.7245623469352722,0.7811261415481567,0.9402767419815063,0.8109292387962341,0.8423649668693542,0.8312046527862549,1.033107876777649,1.0094660520553589,0.6424307823181152,1.1566016674041748,1.0918612480163574,0.6938930153846741,0.5689000487327576,0.7451260685920715,0.8168991804122925,0.6454564929008484,0.7503567934036255,0.9579759240150452,0.5052905082702637,0.6662300825119019,0.9055723547935486,0.4510902166366577,1.4277451038360596,1.2886316776275635,0.7382358908653259,0.957983672618866,0.8918774127960205,0.4401503801345825,1.183265209197998,1.0069561004638672,0.77715003490448,0.7085100412368774,0.6561779975891113,0.8418798446655273,0.8530336022377014,0.7597433924674988,0.7533895969390869,0.9051557183265686,0.9515855312347412,0.8046571016311646,0.9385191202163696,0.5645323991775513,0.9930937886238098,0.7761878967285156,0.7576924562454224,0.6623759865760803,0.799997866153717,0.855135440826416,0.8927599787712097,0.9105161428451538,0.7645118832588196,0.8260869979858398,1.0135680437088013,0.7601324319839478,0.8015100955963135,0.8052927255630493,0.935091495513916,0.7342779636383057,1.0133429765701294,0.7187551856040955,0.9175393581390381,0.9813222885131836,0.707231342792511,0.6594129800796509,1.1485440731048584,0.8906079530715942,0.7103355526924133,1.1323938369750977,0.7662224173545837,0.7745782136917114,0.7542875409126282,0.8042396903038025,1.2419204711914062,0.8526731729507446,1.0161051750183105,1.142801284790039,0.8204221129417419,0.8551764488220215,1.2255573272705078,1.105185627937317,0.7764896154403687,0.6902135610580444,1.0073171854019165,0.8638519644737244,0.7514044046401978,0.8630411028862,1.1558434963226318,0.8667711615562439,0.8331817984580994,0.8833022713661194,0.93634432554245,1.0606367588043213,1.0213940143585205,1.0191984176635742,0.9735788106918335,0.9818320274353027,1.0700751543045044,1.0003355741500854,0.9525415301322937,0.9564610719680786,0.7759227752685547,0.5736687183380127,0.8300997018814087,1.0531820058822632,1.092718482017517,0.7803565859794617,0.7198578715324402,0.7940868735313416,0.9293877482414246,0.7197661995887756,0.8727800846099854,0.7457913160324097,0.918539822101593,0.6898190379142761,1.348821997642517,0.9037332534790039,0.6862054467201233,0.9213541746139526,1.1298270225524902,1.159247875213623,0.7977384328842163,0.8491647839546204,0.8872402906417847,0.7376925349235535,0.7677903771400452,0.6813125014305115,1.0460641384124756,0.7670876383781433,0.9339743256568909,0.9779765009880066,1.0127531290054321,0.808738648891449,0.7781981229782104,0.7691177129745483,0.886348307132721,1.1768324375152588,0.8416972160339355,1.2070339918136597,0.8278951048851013,0.9907683730125427,0.6475720405578613,1.036568284034729,1.0556846857070923,1.2285867929458618,1.1911282539367676,1.0886741876602173,1.0655767917633057,1.072810173034668,1.0148544311523438,0.9408015608787537,0.8481613397598267,0.9303289651870728,0.8456334471702576,0.6329119205474854,0.7504646182060242,1.0116995573043823,0.6756146550178528,0.9518126249313354,1.0349140167236328,0.8443337082862854,0.8501819968223572,0.9846656918525696,1.0868661403656006,1.1513384580612183,1.0148017406463623,1.0672250986099243,0.8806774616241455,0.707756757736206,0.9122936129570007,0.9492228627204895,1.0211198329925537,0.9934474229812622,0.994083046913147,0.8481805920600891,0.9133674502372742,0.8949958682060242,0.7723243832588196,0.793389618396759,0.9449935555458069,1.0079442262649536,0.8792524337768555,1.0324651002883911,0.9770106077194214,1.05259370803833,0.9529897570610046,1.0023250579833984,0.7932431101799011,0.9268444180488586,1.0791621208190918,0.9335552453994751,0.9057121872901917,1.1625617742538452,0.926374077796936,0.9340875148773193,0.8492296934127808,0.9903695583343506,0.8732897639274597,0.9991943836212158,0.6805166602134705,0.7978809475898743,0.8456785678863525,1.3641475439071655,1.0694966316223145,1.128572940826416,0.8543540239334106,1.0050418376922607,0.9612656235694885,1.069810152053833,1.0592468976974487,0.935091495513916,1.0636317729949951,0.8558549880981445,1.179025650024414,1.1055248975753784,0.8900142908096313,0.8860019445419312,0.9392510652542114,1.0065244436264038,0.8386651277542114,1.0788154602050781,1.1175252199172974,0.9711988568305969,1.2985719442367554,0.8093248605728149,0.8391223549842834,0.9243616461753845,0.6543297171592712,1.0881859064102173,0.9552956819534302,1.0947538614273071,1.415580153465271,0.7477710247039795,1.0426313877105713,1.1527920961380005,0.6974542140960693,1.1788816452026367,0.5118478536605835,0.5715817809104919,0.6040472388267517,0.5544710755348206,0.770488440990448,0.9305425882339478,0.6187789440155029,1.0171394348144531,1.1114366054534912,0.8895924687385559,0.8601832389831543,1.0092718601226807,1.1246731281280518,1.2277765274047852,1.1141968965530396,0.6869044899940491,1.0432567596435547,1.15085768699646,1.2165554761886597,1.0469084978103638,1.2383942604064941,0.7860766649246216,1.0268645286560059,1.0168958902359009,0.8926854133605957,0.93507981300354,0.7298405766487122,0.9491502046585083,0.9447013735771179,1.236714482307434,0.9334026575088501,0.8940219283103943,1.0274449586868286,1.2489087581634521,1.1068016290664673,0.962577760219574,0.9650096297264099,0.9891484379768372,0.8426943421363831,0.871907651424408,0.7492513060569763,1.0375741720199585,1.0595331192016602,1.090805172920227,1.080336093902588,0.991992175579071,0.7687501907348633,0.7644389271736145,1.1844123601913452,0.9995729923248291,0.9295269250869751,0.9297104477882385,1.0354374647140503,1.3631595373153687,0.7978223562240601,1.2590305805206299,1.0597665309906006,0.9468242526054382,1.21523916721344,0.7452785968780518,0.8311591744422913,0.8377580046653748,0.9122936129570007,0.7398493885993958,0.9115335941314697,1.0462692975997925,1.3114289045333862,0.858219563961029,0.848457396030426,0.6907060146331787,0.9850618839263916,1.0863043069839478,0.7205971479415894,1.0005178451538086,1.386269450187683,0.9251236915588379,1.1367439031600952,0.8579800128936768,0.9203547239303589,0.8877730369567871,0.749576985836029,0.9814619421958923,0.9748548269271851,0.686883807182312,0.8905339241027832,1.0411497354507446,1.3826792240142822,0.9711881875991821,1.2404447793960571,1.2739012241363525,0.9830543994903564,1.200393557548523,0.6933721303939819,0.8639757037162781,0.7787086963653564,0.7941023707389832,1.220847725868225,1.2246837615966797,0.7326624989509583,1.144358515739441,0.5192114114761353,1.1832475662231445,0.918952226638794,1.0557432174682617,1.0942622423171997,0.8497036099433899,0.9422348737716675,1.0790221691131592,0.8691139817237854,0.942679226398468,0.9744383692741394,1.0558825731277466,0.9648369550704956,1.278836965560913,1.1088558435440063,1.0329017639160156,1.1838752031326294,0.7362285852432251,0.9251236915588379,1.2807471752166748,0.9348078966140747,0.6620458960533142,1.0778605937957764,0.7155012488365173,1.0422464609146118,0.9279974102973938,1.0425608158111572,0.7698972225189209,0.9006569385528564,0.9554576277732849,0.8090569376945496,0.9757081270217896,1.2674860954284668,1.3306878805160522,1.1457031965255737,1.2735012769699097,0.7800493240356445,1.12684965133667,0.7702205181121826,1.0229060649871826,1.1919355392456055,1.04165518283844,0.7136155366897583,1.2935072183609009,0.8946418166160583,1.2094980478286743,0.7582377791404724,1.419292688369751,0.6048266887664795,1.1134904623031616,0.8802793622016907,1.2532819509506226,1.1980159282684326,1.3782490491867065,0.7697886228561401,0.8764662742614746,0.7485843896865845,0.9724566340446472,1.0490258932113647,0.6245715618133545,0.9619944095611572,0.7683043479919434,1.223771333694458,1.0263704061508179,0.8248228430747986,0.8374236226081848,1.2908543348312378,0.9196383953094482,0.8778088092803955,0.9948055148124695,1.1673810482025146,0.9089987874031067,0.7256007194519043,0.6780376434326172,1.1366297006607056,0.8455401062965393,1.3076508045196533,0.6937860250473022,0.7147285342216492,0.9189040064811707,0.9766411781311035,1.1342296600341797,0.865415632724762,1.3170719146728516,0.7648023366928101,0.9030008912086487,0.8036824464797974,1.1281442642211914,1.0393296480178833,0.9115335941314697,0.6837158799171448,1.3088356256484985,0.9537018537521362,0.9689727425575256,0.7432746291160583,0.7177883386611938,1.009763479232788,0.7786919474601746,0.4670560657978058,0.7815861701965332,0.7900928854942322,1.1289769411087036,1.2971423864364624,0.9801402688026428,1.2389748096466064,0.7684810161590576,0.9151223301887512,1.3272017240524292,0.7507506012916565,0.9499523639678955,0.9458651542663574,0.7250732779502869,0.7892544865608215,1.1902333498001099,0.9316368699073792,0.8694043755531311,0.8985150456428528,0.7254936099052429,1.0028769969940186,1.1150158643722534,1.2309881448745728,0.8781037330627441,0.8060179948806763,1.3183976411819458,1.2256309986114502,0.6953893899917603,0.8060179948806763,0.9189603328704834,0.9670802354812622,1.1333624124526978,0.7528101801872253,0.8581418991088867,0.8372247815132141,1.1027616262435913,0.6270378828048706,0.8166117668151855,0.7852839231491089,0.9112895131111145,0.995037853717804,0.7805923819541931,0.9086860418319702,0.857907772064209,0.8844959735870361,0.6701246500015259,0.9056859612464905,0.7891820073127747,0.9161379933357239,0.7855960726737976,0.9649837613105774,1.1520907878875732,0.8568004965782166,0.8937292695045471,0.9232363104820251,0.8875554203987122,0.931735634803772,0.7466356158256531,1.1534227132797241,0.8418445587158203,1.1284644603729248,0.8992399573326111,0.7900041937828064,0.9875838160514832,1.222541093826294,0.7970557808876038,1.0481023788452148,0.9306012392044067,0.9212984442710876,1.118006944656372,0.935091495513916,0.7831960916519165,0.7361786961555481,0.8098287582397461,0.9156588912010193,0.9158049821853638,1.057121992111206,0.6458396911621094,0.9253889918327332,0.7622381448745728,0.8243438601493835,0.6340096592903137,0.9744383692741394,0.7150152921676636,0.8755372762680054,0.8591902256011963,0.765938937664032,0.7164175510406494,1.221319317817688,0.8986191749572754,0.8755286335945129,0.7976150512695312,0.8758673667907715,1.224118947982788,0.759798526763916,1.2332261800765991,1.3157280683517456,1.2719974517822266,1.1719962358474731,0.8752497434616089,0.8412912487983704,0.7204938530921936,1.0945440530776978,0.8043532967567444,1.246456265449524,0.8857325911521912,0.7960312962532043,0.8885283470153809,0.8850231766700745,0.8652597665786743,1.0225321054458618,0.9359370470046997,0.903419017791748,1.0358322858810425,1.0358322858810425,1.0358322858810425,0.8477522134780884,0.8966857194900513,1.0256305932998657,1.230908751487732,0.7651417851448059,0.9717482328414917,0.5745357871055603,0.6935967206954956,1.1561505794525146,0.4280523359775543,0.9661664366722107,0.8914527297019958,0.8550217151641846,0.8914527297019958,0.6711654663085938,0.5740270614624023,0.7435711622238159,1.29445481300354,1.047719120979309,0.6711654663085938,0.8875554203987122,0.7963748574256897,1.1188515424728394,1.081639289855957,0.9488542079925537,0.878835141658783,0.6905215978622437,0.5682504177093506,0.8086645007133484,0.7261945009231567,0.958173394203186,0.8605054020881653,1.160983920097351,0.8466121554374695,1.2295647859573364,0.7441684603691101,1.222541093826294,1.090959906578064,1.0044819116592407,0.7349207401275635,0.9554576277732849,1.3170719146728516,0.7912638783454895],\"type\":\"histogram\"},{\"name\":\"DGI+XM\",\"x\":[1.0599865913391113,1.0412678718566895,0.6364092826843262,0.7758466601371765,0.7126120328903198,0.42243653535842896,0.6473522782325745,0.6921888589859009,0.9960775971412659,0.845803439617157,1.088180422782898,0.7679562568664551,0.9105316400527954,0.5631260275840759,0.8105469346046448,0.863537073135376,1.0331735610961914,0.7134953141212463,1.1587395668029785,0.8500748872756958,0.8400896191596985,0.6193806529045105,1.4012621641159058,0.758082926273346,0.7456023693084717,1.0235249996185303,0.9242355823516846,0.729937732219696,0.7182667255401611,0.8912768959999084,0.8420517444610596,1.0058023929595947,0.9283302426338196,1.0056326389312744,0.8580906987190247,0.9605238437652588,1.0672059059143066,0.9498643279075623,0.8857851028442383,1.0414196252822876,0.7594183087348938,0.812824010848999,0.9644517302513123,1.0100966691970825,0.6582136750221252,0.9322631359100342,0.8383331894874573,0.8883887529373169,0.7786313891410828,1.1840693950653076,1.1574450731277466,0.9621166586875916,1.2129459381103516,1.262581706047058,0.8316826820373535,0.8894635438919067,0.7670618891716003,0.7233638763427734,0.6498211622238159,0.7326236963272095,0.7645232081413269,0.9291729927062988,0.49806085228919983,0.6841254234313965,0.6410577893257141,0.5502356290817261,0.8452069759368896,1.5481927394866943,1.0809093713760376,0.7866275906562805,1.3203816413879395,1.0108606815338135,1.2841325998306274,1.2175346612930298,0.8986132740974426,1.1430156230926514,0.9511510729789734,1.1733478307724,1.2188383340835571,1.0576239824295044,0.9028782248497009,0.7129479050636292,0.4312211573123932,0.632392168045044,0.6289076805114746,1.276903748512268,0.47012367844581604,0.7186148166656494,0.8848404884338379,0.6764376759529114,1.1947054862976074,0.9628050923347473,1.0844746828079224,0.7655282020568848,0.9324223399162292,0.9959235191345215,0.49692389369010925,0.8676912188529968,1.050493836402893,1.0060820579528809,0.8669964075088501,0.9895914196968079,1.0405662059783936,0.9037342667579651,0.9376327991485596,0.7020518183708191,0.6480844616889954,0.44800901412963867,0.828420877456665,1.8111289739608765,1.0584388971328735,1.118923306465149,1.1968963146209717,0.8532844185829163,0.6329981684684753,0.7148096561431885,0.8218145370483398,1.4299044609069824,1.3376178741455078,1.2301851511001587,1.412299394607544,0.4070611000061035,1.221091389656067,1.2300745248794556,0.8134013414382935,0.8679134845733643,1.051151156425476,1.3864033222198486,0.6467564702033997,0.6090624332427979,1.0431345701217651,0.9253762364387512,0.910063624382019,0.6579837799072266,1.1259973049163818,1.018626093864441,0.9822407364845276,0.729469895362854,0.9658691883087158,0.9034214019775391,0.8242906928062439,0.7971359491348267,0.6482701897621155,1.1065218448638916,1.2334076166152954,0.9133799076080322,1.3016419410705566,1.0868537425994873,1.323374629020691,1.1058006286621094,0.9647045135498047,0.9655783772468567,0.8195112347602844,0.9272595047950745,0.941868007183075,0.7983728051185608,1.176212191581726,0.6829569339752197,0.9252626299858093,0.9730425477027893,0.2578684985637665,1.0640004873275757,1.0082497596740723,0.9295139312744141,0.9935005307197571,0.6360235810279846,0.4140928387641907,0.6682670712471008,0.9458211064338684,0.7507508397102356,0.8038367033004761,0.9610033631324768,0.8735979199409485,0.8674814701080322,0.8799024224281311,1.3006010055541992,1.1105601787567139,0.9581915736198425,1.0681087970733643,0.9572078585624695,0.9314057230949402,0.7377437353134155,0.7884032726287842,0.5997188091278076,0.8278917074203491,0.7606154084205627,1.1040751934051514,1.0003074407577515,1.144754409790039,0.6373307108879089,1.2112698554992676,0.7580699920654297,0.8823314905166626,0.8526567220687866,0.8260512351989746,0.8842785954475403,1.0195815563201904,1.04817533493042,1.0963400602340698,0.96035236120224,0.9057959318161011,0.9932444095611572,1.461439847946167,1.0659898519515991,0.9632967114448547,1.0361469984054565,0.7863069772720337,1.1716872453689575,0.986924946308136,0.6928431391716003,0.8118795156478882,0.424762487411499,0.6397368311882019,0.8949180841445923,1.0246567726135254,0.8258119821548462,1.0680351257324219,1.075645089149475,0.8587060570716858,1.3804882764816284,1.5422494411468506,1.050544261932373,0.8958975076675415,1.0284510850906372,1.5150092840194702,1.2109490633010864,0.9312236309051514,1.551334023475647,1.4023349285125732,1.2855509519577026,1.1051661968231201,0.8115673065185547,0.7275624871253967,0.8680640459060669,0.8613784313201904,1.0889066457748413,0.9903257489204407,1.030930757522583,0.9828736782073975,1.5538667440414429,1.0894489288330078,1.0790759325027466,0.9128195643424988,1.0308853387832642,1.2228190898895264,0.9410886168479919,1.1658532619476318,1.0729281902313232,1.1862565279006958,0.6089159250259399,0.9822283983230591,1.0072907209396362,0.5737462639808655,1.079894781112671,0.8937698006629944,1.0308520793914795,0.7534579038619995,1.3111319541931152,0.7916087508201599,1.1213527917861938,1.2404371500015259,0.8886099457740784,1.1681584119796753,0.8791497349739075,0.9790822863578796,0.9036644697189331,1.1012582778930664,1.0367627143859863,1.1420783996582031,0.7047121524810791,1.5045356750488281,0.8677229285240173,0.9457498788833618,0.9456252455711365,1.088070034980774,1.0093343257904053,1.6298998594284058,1.1362136602401733,1.0605483055114746,1.3459663391113281,0.6744242310523987,0.9158022999763489,0.5962978005409241,0.5568322539329529,0.9486115574836731,0.7162491083145142,0.9457345604896545,1.199356198310852,0.9424787163734436,1.7925243377685547,0.7941632866859436,1.0695528984069824,1.2439346313476562,1.060530424118042,1.0988136529922485,0.7020682692527771,0.7908103466033936,1.1475015878677368,1.3836684226989746,1.0264512300491333,0.8483577370643616,0.573320209980011,1.2879159450531006,0.6730821132659912,1.04598069190979,0.8503021597862244,1.1056488752365112,1.3949655294418335,1.0633823871612549,1.1643192768096924,1.3793447017669678,1.0406744480133057,1.2653087377548218,1.1623743772506714,1.0273836851119995,1.6148871183395386,1.0398896932601929,1.4031912088394165,0.9571961164474487,1.0208063125610352,0.7800673842430115,0.7266096472740173,0.7421228289604187,0.9774746894836426,1.263610601425171,1.1667861938476562,1.2357943058013916,1.1050289869308472,1.179741621017456,0.7731981873512268,1.4129449129104614,1.2293809652328491,0.9395909309387207,0.570345938205719,0.8137337565422058,0.7238200306892395,1.121640920639038,1.0210680961608887,0.8949962258338928,0.7691240906715393,0.5571850538253784,1.274634838104248,0.8144001364707947,1.3913562297821045,1.1255494356155396,1.2431315183639526,1.3284226655960083,1.3889318704605103,1.0888534784317017,1.2131413221359253,1.1001603603363037,0.8988953232765198,1.2061983346939087,0.7560864686965942,0.9582613706588745,0.8878040313720703,1.0613694190979004,1.0721429586410522,0.7068372964859009,0.955484926700592,1.2113003730773926,0.8486523032188416,0.9637550711631775,0.8739075660705566,1.386518955230713,0.9532134532928467,0.9091729521751404,0.8110218644142151,0.9986130595207214,1.0500346422195435,0.9191333651542664,0.7994652986526489,1.2152279615402222,1.1695168018341064,0.8931286334991455,0.7346848249435425,0.7547394633293152,0.3339649736881256,0.9430273771286011,0.7509072422981262,0.8061701655387878,0.9400033354759216,1.1453373432159424,0.9616368412971497,1.2326958179473877,0.9334561228752136,1.424702763557434,1.013334035873413,0.9634641408920288,1.0004165172576904,0.8413457870483398,1.0369328260421753,0.9875065684318542,0.7451181411743164,0.8679313659667969,1.0519917011260986,1.0093204975128174,0.9183257222175598,1.133648157119751,1.3038090467453003,1.1905698776245117,0.6875688433647156,1.4676153659820557,1.3426815271377563,0.7411799430847168,0.5919089317321777,0.8527525663375854,0.9528642892837524,0.7111384868621826,0.7902637124061584,1.2984497547149658,0.519166111946106,0.7102603912353516,1.0645242929458618,0.4422798156738281,1.7236924171447754,1.7280391454696655,0.7782344818115234,1.1650382280349731,0.9392296075820923,0.4505312740802765,1.314456820487976,1.1635017395019531,0.8631066083908081,0.7336807250976562,0.7024143934249878,0.9120088219642639,0.950940728187561,0.8769779205322266,0.8649294376373291,1.0198264122009277,1.1649049520492554,1.0491387844085693,1.094875693321228,0.5650051832199097,1.1263083219528198,1.0343798398971558,0.8529423475265503,0.7006250619888306,1.082977533340454,0.9097609519958496,0.9988099336624146,1.0560944080352783,0.8048787117004395,0.9372352361679077,1.2112911939620972,0.89471036195755,0.9078690409660339,0.9025465846061707,1.0064946413040161,0.7853308916091919,1.2466845512390137,0.7886925935745239,1.0972790718078613,1.34901762008667,0.7546319365501404,0.8303433656692505,1.3635438680648804,0.9968549609184265,0.7686311602592468,1.2697629928588867,0.8783890008926392,0.8835596442222595,0.8271617889404297,0.9013098478317261,1.5496896505355835,0.9186391830444336,1.2754663228988647,1.3868005275726318,1.0195982456207275,0.9991019368171692,1.560707688331604,1.4231464862823486,0.8175727128982544,0.7469247579574585,1.2814143896102905,1.1517627239227295,0.9428622722625732,0.9768452644348145,1.432364583015442,1.0137122869491577,0.9525416493415833,0.9767832159996033,1.0312778949737549,1.2859498262405396,1.1718872785568237,1.0962246656417847,1.1367918252944946,1.248335361480713,1.240211009979248,1.17401921749115,1.1338163614273071,1.160636305809021,0.8125398755073547,0.597432553768158,0.8803744912147522,1.2605514526367188,1.3527262210845947,0.8114302158355713,0.773697018623352,0.9511264562606812,1.1778541803359985,0.8395766615867615,1.1055442094802856,0.8318852782249451,1.1468966007232666,0.7550345063209534,1.7052403688430786,1.0699983835220337,0.7419254779815674,1.1300253868103027,1.3315640687942505,1.5425015687942505,0.8983942866325378,1.087178349494934,0.9811379313468933,0.8569620251655579,0.939415693283081,0.751927375793457,1.2529892921447754,0.863304078578949,1.0714410543441772,1.2532026767730713,1.1645103693008423,0.9297256469726562,0.8528088331222534,0.8321082592010498,1.074371099472046,1.4638652801513672,0.9566121697425842,1.5456985235214233,0.9380525350570679,1.240513801574707,0.6540248990058899,1.3848152160644531,1.3407039642333984,1.58412504196167,1.3093554973602295,1.329459309577942,1.4048782587051392,1.4420274496078491,1.2599022388458252,1.1667227745056152,0.9519414305686951,1.0841776132583618,1.0080935955047607,0.6646482348442078,0.8592532873153687,1.2041984796524048,0.7044498324394226,1.19841468334198,1.2802976369857788,0.9898914098739624,1.0506905317306519,1.2099798917770386,1.3758286237716675,1.477702260017395,1.2824006080627441,1.301409125328064,1.1404684782028198,0.7711317539215088,1.0682587623596191,1.1130492687225342,1.1967244148254395,1.148376703262329,1.2209103107452393,0.9923244714736938,1.1092426776885986,1.0753053426742554,0.8559539914131165,0.9415566325187683,1.2174012660980225,1.184901237487793,1.104189157485962,1.4018393754959106,1.2651005983352661,1.3343803882598877,1.1629964113235474,1.1982057094573975,0.9417768120765686,1.0922735929489136,1.3916040658950806,1.0655871629714966,1.2134279012680054,1.4503523111343384,1.15022873878479,1.1896709203720093,1.0199371576309204,1.2427482604980469,1.0272774696350098,1.3613348007202148,0.7449981570243835,0.8808292746543884,1.1870466470718384,1.6530919075012207,1.3994379043579102,1.4071073532104492,1.0749279260635376,1.2834779024124146,1.2196955680847168,1.2528787851333618,1.2669113874435425,1.0064946413040161,1.4559701681137085,0.9323513507843018,1.477973222732544,1.3177114725112915,1.024839162826538,1.1529618501663208,1.1647940874099731,1.1968560218811035,0.9419040083885193,1.2611249685287476,1.3393440246582031,1.0742433071136475,1.713814377784729,1.0404270887374878,0.9962046146392822,1.2316198348999023,0.8221746683120728,1.336658000946045,1.112393856048584,1.337448000907898,1.8420181274414062,1.0317127704620361,1.30929434299469,1.488685131072998,0.8793913125991821,1.5741311311721802,0.6086465716362,0.6987048983573914,0.7317920923233032,0.6052764654159546,0.9652698636054993,1.06611967086792,0.7761431932449341,1.2237858772277832,1.4302512407302856,1.066133975982666,1.0490531921386719,1.297471046447754,1.4366511106491089,1.508453130722046,1.3552207946777344,0.8807206749916077,1.3688896894454956,1.4507452249526978,1.5141751766204834,1.3022607564926147,1.6814998388290405,0.9149013757705688,1.206628441810608,1.2659671306610107,1.0717668533325195,1.0625903606414795,0.8291354775428772,1.189712405204773,1.1883074045181274,1.5892353057861328,1.1466665267944336,1.0917378664016724,1.2399195432662964,1.5607892274856567,1.3826254606246948,1.1672028303146362,1.2477558851242065,1.1141022443771362,0.9998952150344849,1.1465413570404053,0.9767762422561646,1.2818982601165771,1.3314474821090698,1.342204213142395,1.2518833875656128,1.2778655290603638,1.0104249715805054,0.8630983233451843,1.560824990272522,1.3581229448318481,1.0919246673583984,1.0934511423110962,1.3103283643722534,1.7745782136917114,1.135105013847351,1.6053274869918823,1.2561674118041992,1.228311538696289,1.4503679275512695,0.8988938927650452,0.9650586843490601,0.9509842991828918,1.0682587623596191,0.9782052040100098,1.0478845834732056,1.3947012424468994,1.5867960453033447,0.9485934972763062,1.0286459922790527,0.8884375095367432,1.2081979513168335,1.235222339630127,0.9517792463302612,1.2201515436172485,1.839522361755371,1.0545029640197754,1.4221062660217285,1.1621454954147339,1.09941565990448,1.0353339910507202,0.9544343948364258,1.3211140632629395,1.135090708732605,0.9015958905220032,1.1330592632293701,1.3132009506225586,1.8748316764831543,1.184887409210205,1.6460901498794556,1.6534215211868286,1.137405514717102,1.5366603136062622,0.8907822966575623,1.1840295791625977,0.8665799498558044,0.9495776891708374,1.6790440082550049,1.7159134149551392,0.9305295944213867,1.4020936489105225,0.6135995388031006,1.5179864168167114,1.0840466022491455,1.2244915962219238,1.4900386333465576,1.0116039514541626,1.2949260473251343,1.5369516611099243,1.0261598825454712,1.096237301826477,1.2101047039031982,1.2614551782608032,1.175782561302185,1.6172457933425903,1.4668012857437134,1.3590396642684937,1.4841219186782837,0.8677002787590027,1.0545029640197754,1.7035937309265137,1.1350027322769165,0.8138427138328552,1.4980003833770752,0.8565555810928345,1.38498854637146,1.095961332321167,1.4281940460205078,0.8623763918876648,1.0814491510391235,1.089703917503357,0.9299928545951843,1.12372887134552,1.7444535493850708,1.7909077405929565,1.4096869230270386,1.637683629989624,1.0696171522140503,1.5059936046600342,0.8551797866821289,1.3859449625015259,1.5324790477752686,1.3026148080825806,0.7712290287017822,1.6491292715072632,1.054486870765686,1.5893748998641968,0.9287118911743164,1.8148434162139893,0.7471895813941956,1.3877986669540405,1.1916338205337524,1.5563158988952637,1.5830931663513184,1.8384709358215332,1.009158968925476,1.1562762260437012,0.9027823805809021,1.2171881198883057,1.3811163902282715,0.7889246344566345,1.3085718154907227,0.8732144236564636,1.5361037254333496,1.3702406883239746,0.9070835709571838,0.9564014673233032,1.6669665575027466,1.1558223962783813,1.0402956008911133,1.260286569595337,1.5415537357330322,1.1725287437438965,0.7316202521324158,0.8886996507644653,1.3443974256515503,0.9807133078575134,1.6201592683792114,0.8305103778839111,0.8487752079963684,1.086095929145813,1.1825549602508545,1.5001598596572876,1.035274624824524,1.630782961845398,0.9114271998405457,1.2195237874984741,0.9863589406013489,1.4815646409988403,1.2574518918991089,1.0478845834732056,0.8558384776115417,1.7326631546020508,1.1974252462387085,1.177192211151123,0.9809607863426208,0.879496157169342,1.3841623067855835,0.9181937575340271,0.467254638671875,0.8866391181945801,1.0454868078231812,1.486053228378296,1.7123247385025024,1.1522581577301025,1.4915413856506348,0.9410197734832764,1.2937941551208496,1.8248271942138672,0.8206000328063965,1.3303920030593872,1.1161009073257446,0.7948251962661743,0.926622748374939,1.4445703029632568,1.065730333328247,1.0522631406784058,1.059220790863037,0.9353213310241699,1.3655925989151,1.5190036296844482,1.6333799362182617,1.1185749769210815,1.0628987550735474,1.629747986793518,1.5557388067245483,0.8673050403594971,1.0628987550735474,1.0953842401504517,1.103294014930725,1.5734854936599731,0.9934824109077454,1.0229052305221558,1.0070041418075562,1.3672221899032593,0.8354666233062744,1.046071171760559,0.873627781867981,1.1603472232818604,1.293839454650879,0.9422063231468201,1.0927603244781494,1.143533706665039,1.021004319190979,0.8404397964477539,1.1067328453063965,1.016385555267334,1.0761421918869019,1.0676523447036743,1.1734904050827026,1.4360712766647339,1.0181468725204468,1.0718224048614502,1.084425926208496,1.0720499753952026,1.1303304433822632,0.9445533752441406,1.432120442390442,1.0718626976013184,1.5574514865875244,1.071502685546875,0.9137650728225708,1.3842827081680298,1.50531804561615,1.072177529335022,1.3756003379821777,1.0745967626571655,1.1145892143249512,1.3791927099227905,1.0064946413040161,0.9011544585227966,0.8565178513526917,1.0017486810684204,1.11232590675354,1.1846108436584473,1.237815499305725,0.743858814239502,1.2260432243347168,0.9148001074790955,1.0065480470657349,0.7601581811904907,1.2101047039031982,0.8599886894226074,1.0293930768966675,1.027415156364441,0.8203694224357605,0.8496061563491821,1.6514610052108765,1.1435825824737549,0.9774696230888367,1.0049984455108643,1.0310595035552979,1.601306676864624,0.9957732558250427,1.5325055122375488,1.6606701612472534,1.58589506149292,1.438361406326294,1.0968130826950073,0.9877734780311584,0.9243575930595398,1.3382630348205566,0.9835282564163208,1.4246891736984253,1.0857914686203003,0.9903995990753174,1.0603249073028564,1.2309461832046509,1.1008392572402954,1.292964220046997,1.1820858716964722,1.0582411289215088,1.2687658071517944,1.2687658071517944,1.2687658071517944,0.9629830121994019,1.0274009704589844,1.3732563257217407,1.497571587562561,1.002760887145996,1.2885252237319946,0.6965112090110779,0.8800910115242004,1.5742716789245605,0.4288460612297058,1.2018071413040161,1.0001347064971924,1.131900668144226,1.0001347064971924,0.758335292339325,0.7014859914779663,0.9651800990104675,1.6483712196350098,1.299595594406128,0.758335292339325,1.0720499753952026,1.0860224962234497,1.494732141494751,1.3358097076416016,1.246779203414917,1.1365000009536743,0.8772680163383484,0.6931635141372681,0.9942014217376709,0.9701901078224182,1.0972380638122559,1.03654146194458,1.4284658432006836,0.8735263347625732,1.5276994705200195,0.9487752914428711,1.50531804561615,1.3638241291046143,1.354361653327942,0.929572343826294,1.089703917503357,1.630782961845398,0.9562760591506958],\"type\":\"histogram\"}],                        {\"template\":{\"data\":{\"histogram2dcontour\":[{\"type\":\"histogram2dcontour\",\"colorbar\":{\"outlinewidth\":0,\"ticks\":\"\"},\"colorscale\":[[0.0,\"#0d0887\"],[0.1111111111111111,\"#46039f\"],[0.2222222222222222,\"#7201a8\"],[0.3333333333333333,\"#9c179e\"],[0.4444444444444444,\"#bd3786\"],[0.5555555555555556,\"#d8576b\"],[0.6666666666666666,\"#ed7953\"],[0.7777777777777778,\"#fb9f3a\"],[0.8888888888888888,\"#fdca26\"],[1.0,\"#f0f921\"]]}],\"choropleth\":[{\"type\":\"choropleth\",\"colorbar\":{\"outlinewidth\":0,\"ticks\":\"\"}}],\"histogram2d\":[{\"type\":\"histogram2d\",\"colorbar\":{\"outlinewidth\":0,\"ticks\":\"\"},\"colorscale\":[[0.0,\"#0d0887\"],[0.1111111111111111,\"#46039f\"],[0.2222222222222222,\"#7201a8\"],[0.3333333333333333,\"#9c179e\"],[0.4444444444444444,\"#bd3786\"],[0.5555555555555556,\"#d8576b\"],[0.6666666666666666,\"#ed7953\"],[0.7777777777777778,\"#fb9f3a\"],[0.8888888888888888,\"#fdca26\"],[1.0,\"#f0f921\"]]}],\"heatmap\":[{\"type\":\"heatmap\",\"colorbar\":{\"outlinewidth\":0,\"ticks\":\"\"},\"colorscale\":[[0.0,\"#0d0887\"],[0.1111111111111111,\"#46039f\"],[0.2222222222222222,\"#7201a8\"],[0.3333333333333333,\"#9c179e\"],[0.4444444444444444,\"#bd3786\"],[0.5555555555555556,\"#d8576b\"],[0.6666666666666666,\"#ed7953\"],[0.7777777777777778,\"#fb9f3a\"],[0.8888888888888888,\"#fdca26\"],[1.0,\"#f0f921\"]]}],\"heatmapgl\":[{\"type\":\"heatmapgl\",\"colorbar\":{\"outlinewidth\":0,\"ticks\":\"\"},\"colorscale\":[[0.0,\"#0d0887\"],[0.1111111111111111,\"#46039f\"],[0.2222222222222222,\"#7201a8\"],[0.3333333333333333,\"#9c179e\"],[0.4444444444444444,\"#bd3786\"],[0.5555555555555556,\"#d8576b\"],[0.6666666666666666,\"#ed7953\"],[0.7777777777777778,\"#fb9f3a\"],[0.8888888888888888,\"#fdca26\"],[1.0,\"#f0f921\"]]}],\"contourcarpet\":[{\"type\":\"contourcarpet\",\"colorbar\":{\"outlinewidth\":0,\"ticks\":\"\"}}],\"contour\":[{\"type\":\"contour\",\"colorbar\":{\"outlinewidth\":0,\"ticks\":\"\"},\"colorscale\":[[0.0,\"#0d0887\"],[0.1111111111111111,\"#46039f\"],[0.2222222222222222,\"#7201a8\"],[0.3333333333333333,\"#9c179e\"],[0.4444444444444444,\"#bd3786\"],[0.5555555555555556,\"#d8576b\"],[0.6666666666666666,\"#ed7953\"],[0.7777777777777778,\"#fb9f3a\"],[0.8888888888888888,\"#fdca26\"],[1.0,\"#f0f921\"]]}],\"surface\":[{\"type\":\"surface\",\"colorbar\":{\"outlinewidth\":0,\"ticks\":\"\"},\"colorscale\":[[0.0,\"#0d0887\"],[0.1111111111111111,\"#46039f\"],[0.2222222222222222,\"#7201a8\"],[0.3333333333333333,\"#9c179e\"],[0.4444444444444444,\"#bd3786\"],[0.5555555555555556,\"#d8576b\"],[0.6666666666666666,\"#ed7953\"],[0.7777777777777778,\"#fb9f3a\"],[0.8888888888888888,\"#fdca26\"],[1.0,\"#f0f921\"]]}],\"mesh3d\":[{\"type\":\"mesh3d\",\"colorbar\":{\"outlinewidth\":0,\"ticks\":\"\"}}],\"scatter\":[{\"fillpattern\":{\"fillmode\":\"overlay\",\"size\":10,\"solidity\":0.2},\"type\":\"scatter\"}],\"parcoords\":[{\"type\":\"parcoords\",\"line\":{\"colorbar\":{\"outlinewidth\":0,\"ticks\":\"\"}}}],\"scatterpolargl\":[{\"type\":\"scatterpolargl\",\"marker\":{\"colorbar\":{\"outlinewidth\":0,\"ticks\":\"\"}}}],\"bar\":[{\"error_x\":{\"color\":\"#2a3f5f\"},\"error_y\":{\"color\":\"#2a3f5f\"},\"marker\":{\"line\":{\"color\":\"#E5ECF6\",\"width\":0.5},\"pattern\":{\"fillmode\":\"overlay\",\"size\":10,\"solidity\":0.2}},\"type\":\"bar\"}],\"scattergeo\":[{\"type\":\"scattergeo\",\"marker\":{\"colorbar\":{\"outlinewidth\":0,\"ticks\":\"\"}}}],\"scatterpolar\":[{\"type\":\"scatterpolar\",\"marker\":{\"colorbar\":{\"outlinewidth\":0,\"ticks\":\"\"}}}],\"histogram\":[{\"marker\":{\"pattern\":{\"fillmode\":\"overlay\",\"size\":10,\"solidity\":0.2}},\"type\":\"histogram\"}],\"scattergl\":[{\"type\":\"scattergl\",\"marker\":{\"colorbar\":{\"outlinewidth\":0,\"ticks\":\"\"}}}],\"scatter3d\":[{\"type\":\"scatter3d\",\"line\":{\"colorbar\":{\"outlinewidth\":0,\"ticks\":\"\"}},\"marker\":{\"colorbar\":{\"outlinewidth\":0,\"ticks\":\"\"}}}],\"scattermapbox\":[{\"type\":\"scattermapbox\",\"marker\":{\"colorbar\":{\"outlinewidth\":0,\"ticks\":\"\"}}}],\"scatterternary\":[{\"type\":\"scatterternary\",\"marker\":{\"colorbar\":{\"outlinewidth\":0,\"ticks\":\"\"}}}],\"scattercarpet\":[{\"type\":\"scattercarpet\",\"marker\":{\"colorbar\":{\"outlinewidth\":0,\"ticks\":\"\"}}}],\"carpet\":[{\"aaxis\":{\"endlinecolor\":\"#2a3f5f\",\"gridcolor\":\"white\",\"linecolor\":\"white\",\"minorgridcolor\":\"white\",\"startlinecolor\":\"#2a3f5f\"},\"baxis\":{\"endlinecolor\":\"#2a3f5f\",\"gridcolor\":\"white\",\"linecolor\":\"white\",\"minorgridcolor\":\"white\",\"startlinecolor\":\"#2a3f5f\"},\"type\":\"carpet\"}],\"table\":[{\"cells\":{\"fill\":{\"color\":\"#EBF0F8\"},\"line\":{\"color\":\"white\"}},\"header\":{\"fill\":{\"color\":\"#C8D4E3\"},\"line\":{\"color\":\"white\"}},\"type\":\"table\"}],\"barpolar\":[{\"marker\":{\"line\":{\"color\":\"#E5ECF6\",\"width\":0.5},\"pattern\":{\"fillmode\":\"overlay\",\"size\":10,\"solidity\":0.2}},\"type\":\"barpolar\"}],\"pie\":[{\"automargin\":true,\"type\":\"pie\"}]},\"layout\":{\"autotypenumbers\":\"strict\",\"colorway\":[\"#636efa\",\"#EF553B\",\"#00cc96\",\"#ab63fa\",\"#FFA15A\",\"#19d3f3\",\"#FF6692\",\"#B6E880\",\"#FF97FF\",\"#FECB52\"],\"font\":{\"color\":\"#2a3f5f\"},\"hovermode\":\"closest\",\"hoverlabel\":{\"align\":\"left\"},\"paper_bgcolor\":\"white\",\"plot_bgcolor\":\"#E5ECF6\",\"polar\":{\"bgcolor\":\"#E5ECF6\",\"angularaxis\":{\"gridcolor\":\"white\",\"linecolor\":\"white\",\"ticks\":\"\"},\"radialaxis\":{\"gridcolor\":\"white\",\"linecolor\":\"white\",\"ticks\":\"\"}},\"ternary\":{\"bgcolor\":\"#E5ECF6\",\"aaxis\":{\"gridcolor\":\"white\",\"linecolor\":\"white\",\"ticks\":\"\"},\"baxis\":{\"gridcolor\":\"white\",\"linecolor\":\"white\",\"ticks\":\"\"},\"caxis\":{\"gridcolor\":\"white\",\"linecolor\":\"white\",\"ticks\":\"\"}},\"coloraxis\":{\"colorbar\":{\"outlinewidth\":0,\"ticks\":\"\"}},\"colorscale\":{\"sequential\":[[0.0,\"#0d0887\"],[0.1111111111111111,\"#46039f\"],[0.2222222222222222,\"#7201a8\"],[0.3333333333333333,\"#9c179e\"],[0.4444444444444444,\"#bd3786\"],[0.5555555555555556,\"#d8576b\"],[0.6666666666666666,\"#ed7953\"],[0.7777777777777778,\"#fb9f3a\"],[0.8888888888888888,\"#fdca26\"],[1.0,\"#f0f921\"]],\"sequentialminus\":[[0.0,\"#0d0887\"],[0.1111111111111111,\"#46039f\"],[0.2222222222222222,\"#7201a8\"],[0.3333333333333333,\"#9c179e\"],[0.4444444444444444,\"#bd3786\"],[0.5555555555555556,\"#d8576b\"],[0.6666666666666666,\"#ed7953\"],[0.7777777777777778,\"#fb9f3a\"],[0.8888888888888888,\"#fdca26\"],[1.0,\"#f0f921\"]],\"diverging\":[[0,\"#8e0152\"],[0.1,\"#c51b7d\"],[0.2,\"#de77ae\"],[0.3,\"#f1b6da\"],[0.4,\"#fde0ef\"],[0.5,\"#f7f7f7\"],[0.6,\"#e6f5d0\"],[0.7,\"#b8e186\"],[0.8,\"#7fbc41\"],[0.9,\"#4d9221\"],[1,\"#276419\"]]},\"xaxis\":{\"gridcolor\":\"white\",\"linecolor\":\"white\",\"ticks\":\"\",\"title\":{\"standoff\":15},\"zerolinecolor\":\"white\",\"automargin\":true,\"zerolinewidth\":2},\"yaxis\":{\"gridcolor\":\"white\",\"linecolor\":\"white\",\"ticks\":\"\",\"title\":{\"standoff\":15},\"zerolinecolor\":\"white\",\"automargin\":true,\"zerolinewidth\":2},\"scene\":{\"xaxis\":{\"backgroundcolor\":\"#E5ECF6\",\"gridcolor\":\"white\",\"linecolor\":\"white\",\"showbackground\":true,\"ticks\":\"\",\"zerolinecolor\":\"white\",\"gridwidth\":2},\"yaxis\":{\"backgroundcolor\":\"#E5ECF6\",\"gridcolor\":\"white\",\"linecolor\":\"white\",\"showbackground\":true,\"ticks\":\"\",\"zerolinecolor\":\"white\",\"gridwidth\":2},\"zaxis\":{\"backgroundcolor\":\"#E5ECF6\",\"gridcolor\":\"white\",\"linecolor\":\"white\",\"showbackground\":true,\"ticks\":\"\",\"zerolinecolor\":\"white\",\"gridwidth\":2}},\"shapedefaults\":{\"line\":{\"color\":\"#2a3f5f\"}},\"annotationdefaults\":{\"arrowcolor\":\"#2a3f5f\",\"arrowhead\":0,\"arrowwidth\":1},\"geo\":{\"bgcolor\":\"white\",\"landcolor\":\"#E5ECF6\",\"subunitcolor\":\"white\",\"showland\":true,\"showlakes\":true,\"lakecolor\":\"white\"},\"title\":{\"x\":0.05},\"mapbox\":{\"style\":\"light\"}}},\"title\":{\"text\":\"Distribution of Nuclear Norm of Node Explain Matrix\"},\"xaxis\":{\"title\":{\"text\":\"Nuclear Norm\"}},\"yaxis\":{\"title\":{\"text\":\"Frequency\"}},\"font\":{\"size\":20},\"paper_bgcolor\":\"white\",\"plot_bgcolor\":\"white\"},                        {\"responsive\": true}                    ).then(function(){\n",
       "                            \n",
       "var gd = document.getElementById('1a313079-4a0a-4996-a55a-0963dfa55c66');\n",
       "var x = new MutationObserver(function (mutations, observer) {{\n",
       "        var display = window.getComputedStyle(gd).display;\n",
       "        if (!display || display === 'none') {{\n",
       "            console.log([gd, 'removed!']);\n",
       "            Plotly.purge(gd);\n",
       "            observer.disconnect();\n",
       "        }}\n",
       "}});\n",
       "\n",
       "// Listen for the removal of the full notebook cells\n",
       "var notebookContainer = gd.closest('#notebook-container');\n",
       "if (notebookContainer) {{\n",
       "    x.observe(notebookContainer, {childList: true});\n",
       "}}\n",
       "\n",
       "// Listen for the clearing of the current output cell\n",
       "var outputEl = gd.closest('.output');\n",
       "if (outputEl) {{\n",
       "    x.observe(outputEl, {childList: true});\n",
       "}}\n",
       "\n",
       "                        })                };                });            </script>        </div>"
      ]
     },
     "metadata": {},
     "output_type": "display_data"
    }
   ],
   "source": [
    "fig = go.Figure()\n",
    "\n",
    "fig.add_trace(go.Histogram(x = norm_og, \n",
    "                           name = 'DGI'))\n",
    "fig.add_trace(go.Histogram(x = norm_plus, \n",
    "                           name = 'DGI+XM'))\n",
    "\n",
    "\n",
    "fig.update_layout(title_text = 'Distribution of Nuclear Norm of Node Explain Matrix', \n",
    "                  xaxis_title_text = 'Nuclear Norm', \n",
    "                  yaxis_title_text = 'Frequency', \n",
    "                  paper_bgcolor = 'white', \n",
    "                  plot_bgcolor = 'white', \n",
    "                  font = dict(size = 20))\n",
    "fig.show()"
   ]
  },
  {
   "cell_type": "code",
   "execution_count": null,
   "id": "77b1208e",
   "metadata": {},
   "outputs": [],
   "source": []
  }
 ],
 "metadata": {
  "kernelspec": {
   "display_name": "Python 3 (ipykernel)",
   "language": "python",
   "name": "python3"
  },
  "language_info": {
   "codemirror_mode": {
    "name": "ipython",
    "version": 3
   },
   "file_extension": ".py",
   "mimetype": "text/x-python",
   "name": "python",
   "nbconvert_exporter": "python",
   "pygments_lexer": "ipython3",
   "version": "3.10.8"
  },
  "toc": {
   "base_numbering": 1,
   "nav_menu": {},
   "number_sections": true,
   "sideBar": true,
   "skip_h1_title": false,
   "title_cell": "Table of Contents",
   "title_sidebar": "Contents",
   "toc_cell": false,
   "toc_position": {},
   "toc_section_display": true,
   "toc_window_display": false
  }
 },
 "nbformat": 4,
 "nbformat_minor": 5
}
