{
 "cells": [
  {
   "cell_type": "markdown",
   "id": "0369cae7",
   "metadata": {},
   "source": [
    "### Imports"
   ]
  },
  {
   "cell_type": "code",
   "execution_count": 1,
   "id": "707c0344",
   "metadata": {},
   "outputs": [
    {
     "name": "stderr",
     "output_type": "stream",
     "text": [
      "/Users/zohairshafi/miniforge3/lib/python3.10/site-packages/tqdm/auto.py:22: TqdmWarning: IProgress not found. Please update jupyter and ipywidgets. See https://ipywidgets.readthedocs.io/en/stable/user_install.html\n",
      "  from .autonotebook import tqdm as notebook_tqdm\n"
     ]
    }
   ],
   "source": [
    "import numpy as np\n",
    "import scipy.sparse as sp\n",
    "import torch\n",
    "import torch.nn as nn\n",
    "import pickle as pkl\n",
    "import networkx as nx\n",
    "\n",
    "from tqdm import tqdm\n",
    "from DGI.models import DGI, LogReg\n",
    "from DGI.utils import process\n",
    "from tensorflow.keras.optimizers import Adam, Nadam\n",
    "\n",
    "from scripts.utils import *"
   ]
  },
  {
   "cell_type": "markdown",
   "id": "ba79c95f",
   "metadata": {},
   "source": [
    "### Class Definitions"
   ]
  },
  {
   "cell_type": "code",
   "execution_count": 2,
   "id": "4f9319bf",
   "metadata": {},
   "outputs": [],
   "source": [
    "class BaseEmbedder:\n",
    "    def __init__(self, graph, embed_shape = (128,)):\n",
    "        self.embed(graph)\n",
    "        self.E = list(graph.edges())\n",
    "        self.graph = graph\n",
    "        self.embed_shape = embed_shape\n",
    "    \n",
    "    def embed(self, graph):\n",
    "        raise NotImplementedError\n",
    "    \n",
    "    def get_embedding(self):\n",
    "        raise NotImplementedError\n",
    "        "
   ]
  },
  {
   "cell_type": "code",
   "execution_count": 24,
   "id": "41610868",
   "metadata": {},
   "outputs": [],
   "source": [
    "class DGIEmbedding(BaseEmbedder):\n",
    "    def __init__(self, embed_dim = 64, graph = None, feature_matrix = None, use_xm = False, debug = False, batch_size = 1, nb_epochs = 2500, patience = 20, ortho_ = 0.1, sparse_ = 0.1, lr = 1e-3, l2_coef = 0.0, drop_prob = 0.0, sparse = True, nonlinearity = 'prelu', model_name = ''):\n",
    "\n",
    "        self.embed_dim = embed_dim\n",
    "        self.debug = debug\n",
    "        \n",
    "        # Training Params\n",
    "        self.graph = graph\n",
    "        self.batch_size = batch_size\n",
    "        self.nb_epochs = nb_epochs\n",
    "        self.patience = patience\n",
    "        self.lr = lr\n",
    "        self.l2_coef = l2_coef\n",
    "        self.feature_matrix = feature_matrix\n",
    "        self.drop_prob = drop_prob\n",
    "        self.hid_units = embed_dim\n",
    "        self.sparse = sparse\n",
    "        self.nonlinearity = nonlinearity\n",
    "        self.use_xm = use_xm\n",
    "        self.ortho_ = ortho_\n",
    "        self.sparse_ = sparse_\n",
    "        self.model_name = model_name\n",
    "\n",
    "        self.time_per_epoch = None\n",
    "        \n",
    "        if graph is not None:\n",
    "            self.embed()\n",
    "        else:\n",
    "            self.graph = None\n",
    "    \n",
    "    def embed(self):\n",
    "\n",
    "        \n",
    "        if self.feature_matrix is None:\n",
    "            feature_matrix = np.identity(len(self.graph))\n",
    "        else: \n",
    "            feature_matrix = self.feature_matrix\n",
    "\n",
    "        adj = nx.to_scipy_sparse_array(self.graph)\n",
    "        features = sp.lil_matrix(feature_matrix)\n",
    "        features, _ = process.preprocess_features(features)\n",
    "\n",
    "        nb_nodes = features.shape[0]\n",
    "        ft_size = features.shape[1]\n",
    "\n",
    "        adj = process.normalize_adj(adj + sp.eye(adj.shape[0]))\n",
    "\n",
    "        if self.sparse:\n",
    "            sp_adj = process.sparse_mx_to_torch_sparse_tensor(adj)\n",
    "        else:\n",
    "            adj = (adj + sp.eye(adj.shape[0])).todense()\n",
    "\n",
    "        features = torch.FloatTensor(features[np.newaxis])\n",
    "        if not self.sparse:\n",
    "            adj = torch.FloatTensor(adj[np.newaxis])\n",
    "            if torch.cuda.is_available():\n",
    "                adj = adj.cuda()\n",
    "\n",
    "        if self.feature_matrix is not None: \n",
    "            sense_features = torch.FloatTensor(self.feature_matrix)\n",
    "            if torch.cuda.is_available():\n",
    "                sense_features = sense_features.cuda()\n",
    "\n",
    "\n",
    "        model = DGI(ft_size, self.hid_units, self.nonlinearity)\n",
    "        if torch.cuda.is_available():\n",
    "            model = model.cuda()\n",
    "        optimiser = torch.optim.Adam(model.parameters(), lr = self.lr, weight_decay = self.l2_coef)\n",
    "\n",
    "        b_xent = nn.BCEWithLogitsLoss()\n",
    "        xent = nn.CrossEntropyLoss()\n",
    "        cnt_wait = 0\n",
    "        best = 1e9\n",
    "        best_t = 0\n",
    "        \n",
    "        start_time = time.time()\n",
    "        for epoch in tqdm(range(self.nb_epochs)):\n",
    "            model.train()\n",
    "            optimiser.zero_grad()\n",
    "\n",
    "            idx = np.random.permutation(nb_nodes)\n",
    "            shuf_fts = features[:, idx, :]\n",
    "\n",
    "            lbl_1 = torch.ones(self.batch_size, nb_nodes)\n",
    "            lbl_2 = torch.zeros(self.batch_size, nb_nodes)\n",
    "            lbl = torch.cat((lbl_1, lbl_2), 1)\n",
    "\n",
    "            if torch.cuda.is_available():\n",
    "                shuf_fts = shuf_fts.cuda()\n",
    "                lbl = lbl.cuda()\n",
    "                sp_adj = sp_adj.cuda()\n",
    "                features = features.cuda()\n",
    "            \n",
    "            logits = model(features, shuf_fts, sp_adj if self.sparse else adj, self.sparse, None, None, None) \n",
    "            \n",
    "            if self.use_xm == True and feature_matrix is not None:\n",
    "                \n",
    "                start_idx = 0\n",
    "                loop = True\n",
    "                \n",
    "                ortho_loss = 0\n",
    "                sparse_loss = 0\n",
    "                xm_batch_size = 128\n",
    "                \n",
    "                sf = sense_features\n",
    "                embeds, _ = model.embed(sf, sp_adj if self.sparse else adj, self.sparse, None)\n",
    "                                \n",
    "                while loop:\n",
    "                    end_idx = start_idx + xm_batch_size\n",
    "                    if end_idx > len(self.graph):\n",
    "                        loop = False\n",
    "                        end_idx = len(self.graph)\n",
    "                        \n",
    "                    \n",
    "                    sf = sense_features[start_idx : end_idx]\n",
    "                    embeds_ = torch.squeeze(embeds)[start_idx : end_idx]\n",
    "                    \n",
    "                    \n",
    "                    sense_mat = torch.einsum('ij, ik -> ijk', embeds_, sf)\n",
    "                    E = sense_mat\n",
    "                    y_norm = torch.diagonal(torch.matmul(embeds_, torch.transpose(embeds_, 0, 1)))\n",
    "                    sense_norm = torch.diagonal(torch.matmul(sf, torch.transpose(sf, 0, 1)))\n",
    "                    norm = torch.multiply(y_norm, sense_norm)\n",
    "                    E = torch.transpose(torch.transpose(E, 0, 2) / norm, 0, 2)\n",
    "                    E = (E - torch.amin(E, dim = [-1, -2], keepdim = True)) / (torch.amax(E, dim = [-1, -2], keepdim = True) - torch.amin(E, dim = [-1, -2], keepdim = True))\n",
    "\n",
    "                    E_t = torch.transpose(E, 1, 2)\n",
    "                    E_o = torch.einsum('aij, ajh -> aih', E, E_t)\n",
    "                    E_o = torch.sum(E_o)\n",
    "                    batch_ortho_loss = (self.ortho_ * E_o) / self.batch_size\n",
    "\n",
    "                    batch_sparse_loss = (self.sparse_ * torch.sum(torch.linalg.norm(E, ord = 1, axis = 0))) / self.batch_size\n",
    "                        \n",
    "                    ortho_loss += batch_ortho_loss\n",
    "                    sparse_loss += batch_sparse_loss\n",
    "                    \n",
    "                    start_idx = end_idx\n",
    "                    \n",
    "                loss = b_xent(logits, lbl) + ortho_loss + sparse_loss\n",
    "            else:\n",
    "                loss = b_xent(logits, lbl)\n",
    "\n",
    "            if self.debug:\n",
    "                print('Loss:', loss)\n",
    "\n",
    "            if loss < best:\n",
    "                best = loss\n",
    "                best_t = epoch\n",
    "                cnt_wait = 0\n",
    "                torch.save(model.state_dict(), self.model_name + '.pkl')\n",
    "            else:\n",
    "                cnt_wait += 1\n",
    "\n",
    "            if cnt_wait == self.patience:\n",
    "                if self.debug: \n",
    "                    print('Early stopping!')\n",
    "                break\n",
    "\n",
    "            loss.backward()\n",
    "            optimiser.step()\n",
    "            \n",
    "        self.time_per_epoch = (time.time() - start_time) / epoch\n",
    "\n",
    "        if self.debug: \n",
    "            print('Loading {}th epoch'.format(best_t))\n",
    "        model.load_state_dict(torch.load(self.model_name + '.pkl'))\n",
    "\n",
    "        self.node_model = model\n",
    "        self.fitted = True\n",
    "\n",
    "        embeds, _ = model.embed(features, sp_adj if self.sparse else adj, self.sparse, None)\n",
    "        self.embeddings = embeds\n",
    "    \n",
    "    def get_embedding(self):\n",
    "        if torch.cuda.is_available():\n",
    "            return np.squeeze(self.embeddings.cpu().numpy())\n",
    "        return np.squeeze(self.embeddings.numpy())\n",
    "    \n",
    "\n",
    "\n"
   ]
  },
  {
   "cell_type": "code",
   "execution_count": null,
   "id": "b1e51f5c",
   "metadata": {},
   "outputs": [],
   "source": []
  },
  {
   "cell_type": "code",
   "execution_count": 4,
   "id": "bd8df723",
   "metadata": {},
   "outputs": [
    {
     "name": "stdout",
     "output_type": "stream",
     "text": [
      "Calculating Personalized Page Rank...                     \r"
     ]
    },
    {
     "name": "stderr",
     "output_type": "stream",
     "text": [
      "986it [00:21, 45.87it/s]\n"
     ]
    },
    {
     "name": "stdout",
     "output_type": "stream",
     "text": [
      "Done                                                      \r"
     ]
    },
    {
     "name": "stderr",
     "output_type": "stream",
     "text": [
      "/Users/zohairshafi/miniforge3/lib/python3.10/site-packages/networkx/algorithms/centrality/katz.py:325: FutureWarning: adjacency_matrix will return a scipy.sparse array instead of a matrix in Networkx 3.0.\n",
      "  A = nx.adjacency_matrix(G, nodelist=nodelist, weight=weight).todense().T\n"
     ]
    }
   ],
   "source": [
    "with open('./data/email.pkl', 'rb') as file: \n",
    "    graph_dict = pkl.load(file)\n",
    "    \n",
    "graph = nx.Graph(nx.to_numpy_array(graph_dict['graph']))    \n",
    "graph = nx.Graph(nx.to_numpy_array(graph))\n",
    "\n",
    "\n",
    "sense_feat_dict, sense_features = get_sense_features(graph, ppr_flag = 'std')\n"
   ]
  },
  {
   "cell_type": "code",
   "execution_count": 5,
   "id": "fc3e2eaf",
   "metadata": {},
   "outputs": [],
   "source": [
    "uncorrelated_feats = ['Degree',\n",
    "                    'Clustering Coefficient',\n",
    "                    'Personalized Page Rank - Standard Deviation',\n",
    "                    'Average Neighbor Degree',\n",
    "                    'Average Neighbor Clustering',\n",
    "                    'Eccentricity',\n",
    "                    'Katz Centrality']\n",
    "sense_features = sense_features[:, [list(sense_feat_dict).index(feat) for feat in uncorrelated_feats]]\n",
    "sense_feat_dict = {feat : idx for idx, feat in enumerate(uncorrelated_feats)}"
   ]
  },
  {
   "cell_type": "code",
   "execution_count": 63,
   "id": "b6a984b4",
   "metadata": {},
   "outputs": [
    {
     "name": "stderr",
     "output_type": "stream",
     "text": [
      "  8%|███▏                                   | 208/2500 [00:02<00:22, 101.08it/s]\n",
      " 40%|███████████████▋                       | 1005/2500 [00:27<00:40, 36.62it/s]\n"
     ]
    }
   ],
   "source": [
    "dgi_og = DGIEmbedding(graph = graph, \n",
    "           embed_dim = 64, \n",
    "           feature_matrix = sense_features, \n",
    "           use_xm = False, \n",
    "           ortho_ = 0, \n",
    "           sparse_ = 0, \n",
    "           batch_size = 1, \n",
    "           model_name = '-')\n",
    "embed_og = dgi_og.get_embedding()\n",
    "embed_og = (embed_og - np.min(embed_og)) / np.ptp(embed_og)\n",
    "feature_dict_og = find_feature_membership(input_embed = embed_og,\n",
    "                                                    embed_name = 'DGI-SF',\n",
    "                                                    sense_features = sense_features,\n",
    "                                                    sense_feat_dict = sense_feat_dict,\n",
    "                                                    top_k = 8,\n",
    "                                                    solver = 'nmf')\n",
    "\n",
    "explain_og = feature_dict_og['explain_norm']\n",
    "error_og = sense_features * np.log((sense_features + 1e-10) / ((embed_og @ feature_dict_og['explain_norm']) + 1e-10)) - sense_features + (embed_og @ feature_dict_og['explain_norm'])\n",
    "explain_og = (explain_og - np.min(explain_og)) / np.ptp(explain_og)\n",
    "\n",
    "\n",
    "dgi_plus = DGIEmbedding(graph = graph, \n",
    "           embed_dim = 64, \n",
    "           feature_matrix = sense_features, \n",
    "           use_xm = True, \n",
    "           ortho_ = 100, \n",
    "           sparse_ = 100, \n",
    "           batch_size = 1, \n",
    "           model_name = '-', \n",
    "           patience = 400)\n",
    "embed_plus = dgi_plus.get_embedding()\n",
    "embed_plus = (embed_plus - np.min(embed_plus)) / np.ptp(embed_plus)\n",
    "feature_dict_plus = find_feature_membership(input_embed = embed_plus,\n",
    "                                                    embed_name = 'DGI+XM',\n",
    "                                                    sense_features = sense_features,\n",
    "                                                    sense_feat_dict = sense_feat_dict,\n",
    "                                                    top_k = 8,\n",
    "                                                    solver = 'nmf')\n",
    "\n",
    "explain_plus = feature_dict_plus['explain_norm']\n",
    "error_plus = sense_features * np.log((sense_features + 1e-10) / ((embed_plus @ feature_dict_plus['explain_norm']) + 1e-10)) - sense_features + (embed_plus @ feature_dict_plus['explain_norm'])\n",
    "explain_plus = (explain_plus - np.min(explain_plus)) / np.ptp(explain_plus)"
   ]
  },
  {
   "cell_type": "code",
   "execution_count": null,
   "id": "fc0dd519",
   "metadata": {},
   "outputs": [],
   "source": []
  },
  {
   "cell_type": "code",
   "execution_count": 64,
   "id": "f933eed2",
   "metadata": {
    "scrolled": true
   },
   "outputs": [
    {
     "data": {
      "application/vnd.plotly.v1+json": {
       "config": {
        "plotlyServerURL": "https://plot.ly"
       },
       "data": [
        {
         "type": "heatmap",
         "x": [
          "Degree",
          "Clustering Coefficient",
          "Personalized Page Rank - Standard Deviation",
          "Average Neighbor Degree",
          "Average Neighbor Clustering",
          "Eccentricity",
          "Katz Centrality"
         ],
         "z": [
          [
           0,
           0,
           0,
           0,
           0,
           0,
           0
          ],
          [
           0,
           0,
           0,
           0,
           0.03400535136461258,
           0,
           0
          ],
          [
           0,
           0,
           0,
           0,
           0,
           0,
           0.2548753619194031
          ],
          [
           0,
           0,
           0,
           0,
           0,
           0,
           0
          ],
          [
           0,
           0,
           0,
           0,
           0,
           0,
           0
          ],
          [
           0,
           0,
           0,
           0,
           0,
           0,
           0
          ],
          [
           0,
           0,
           0,
           0,
           0,
           0,
           0
          ],
          [
           0,
           0,
           0,
           0,
           0,
           0,
           0
          ],
          [
           0,
           0,
           0,
           0,
           0,
           0,
           0
          ],
          [
           0,
           0,
           0,
           0,
           0,
           0,
           0
          ],
          [
           0.8281591534614563,
           0,
           0,
           0,
           0,
           0,
           0
          ],
          [
           0,
           0,
           0,
           0,
           0,
           0,
           0
          ],
          [
           0,
           0,
           0,
           0,
           0,
           0,
           0
          ],
          [
           0,
           0,
           0,
           0,
           0,
           0,
           0
          ],
          [
           0,
           0,
           0,
           0,
           0,
           0,
           0
          ],
          [
           0,
           0,
           0.5922438502311707,
           0,
           0,
           0,
           0
          ],
          [
           0,
           0,
           0,
           0,
           0,
           0,
           0
          ],
          [
           0,
           0,
           0,
           0,
           0,
           0,
           0
          ],
          [
           0,
           0,
           0,
           0,
           0,
           0,
           0
          ],
          [
           0,
           0,
           0,
           0,
           0.16137629747390747,
           0,
           0.02997194416821003
          ],
          [
           0,
           0,
           0,
           0,
           0,
           0,
           0
          ],
          [
           0,
           0,
           0.3443911075592041,
           0,
           0,
           0,
           0
          ],
          [
           0,
           0,
           0,
           0,
           0,
           0,
           0
          ],
          [
           0,
           0,
           0,
           0,
           0,
           0,
           0
          ],
          [
           0,
           0,
           0,
           0,
           0,
           0,
           0
          ],
          [
           0,
           0,
           0,
           0.05780438333749771,
           0,
           0,
           0
          ],
          [
           0,
           0,
           0,
           0,
           0,
           0,
           0.5615929961204529
          ],
          [
           0,
           0,
           0,
           0,
           0,
           0,
           0.05658414214849472
          ],
          [
           0,
           0,
           0,
           0,
           0,
           0,
           0
          ],
          [
           0,
           0,
           0,
           0,
           0,
           0,
           0
          ],
          [
           0,
           0,
           0,
           0,
           0,
           0,
           0
          ],
          [
           0,
           0,
           0,
           0,
           0.319462388753891,
           0,
           0
          ],
          [
           0,
           0,
           0,
           0.8312166929244995,
           0,
           0,
           0
          ],
          [
           0,
           0,
           0,
           0,
           0,
           0,
           0
          ],
          [
           0,
           0,
           0,
           0,
           0,
           0.48852381110191345,
           0
          ],
          [
           0,
           0,
           0,
           0,
           0,
           0,
           0
          ],
          [
           0,
           0,
           0,
           0,
           0,
           0,
           0
          ],
          [
           0,
           0,
           0,
           0,
           0,
           0,
           0
          ],
          [
           0,
           0,
           0,
           0,
           0,
           0,
           0
          ],
          [
           0,
           0,
           0,
           0,
           0,
           0,
           0.09431327879428864
          ],
          [
           0,
           0,
           0,
           0,
           0,
           0,
           0
          ],
          [
           0,
           0,
           0,
           0,
           0,
           0,
           0
          ],
          [
           0,
           0,
           0,
           0,
           0.11476749181747437,
           0,
           0
          ],
          [
           0,
           0,
           0,
           0,
           0,
           0,
           0
          ],
          [
           0,
           0,
           0,
           0,
           0,
           0,
           0
          ],
          [
           0,
           0,
           0,
           0,
           0,
           0,
           0
          ],
          [
           0,
           0.02957269921898842,
           0,
           0,
           0.016021251678466797,
           0,
           0
          ],
          [
           0,
           0,
           0,
           0,
           0,
           0,
           0
          ],
          [
           0,
           0,
           0,
           0,
           0,
           0.19891414046287537,
           0
          ],
          [
           0,
           0,
           0,
           0,
           0,
           0,
           0.10488877445459366
          ],
          [
           0,
           0,
           0,
           0,
           0,
           0,
           0
          ],
          [
           0,
           0,
           0,
           0,
           0,
           0,
           0
          ],
          [
           0,
           0,
           0,
           0,
           0,
           0,
           0
          ],
          [
           0,
           0,
           0,
           0.20732270181179047,
           0,
           0,
           0
          ],
          [
           0,
           0,
           0,
           0.11600187420845032,
           0,
           0,
           0
          ],
          [
           0,
           0,
           0,
           0,
           0,
           0,
           0
          ],
          [
           0,
           0,
           0,
           0,
           0,
           0,
           0
          ],
          [
           0,
           1,
           0,
           0,
           0,
           0,
           0
          ],
          [
           0,
           0,
           0,
           0,
           0,
           0,
           0
          ],
          [
           0,
           0.5843219757080078,
           0,
           0,
           0,
           0,
           0
          ],
          [
           0,
           0,
           0,
           0,
           0,
           0,
           0
          ],
          [
           0,
           0,
           0,
           0,
           0,
           0,
           0
          ],
          [
           0,
           0,
           0,
           0,
           0,
           0,
           0
          ],
          [
           0,
           0,
           0,
           0,
           0,
           0,
           0
          ]
         ]
        }
       ],
       "layout": {
        "template": {
         "data": {
          "bar": [
           {
            "error_x": {
             "color": "#2a3f5f"
            },
            "error_y": {
             "color": "#2a3f5f"
            },
            "marker": {
             "line": {
              "color": "#E5ECF6",
              "width": 0.5
             },
             "pattern": {
              "fillmode": "overlay",
              "size": 10,
              "solidity": 0.2
             }
            },
            "type": "bar"
           }
          ],
          "barpolar": [
           {
            "marker": {
             "line": {
              "color": "#E5ECF6",
              "width": 0.5
             },
             "pattern": {
              "fillmode": "overlay",
              "size": 10,
              "solidity": 0.2
             }
            },
            "type": "barpolar"
           }
          ],
          "carpet": [
           {
            "aaxis": {
             "endlinecolor": "#2a3f5f",
             "gridcolor": "white",
             "linecolor": "white",
             "minorgridcolor": "white",
             "startlinecolor": "#2a3f5f"
            },
            "baxis": {
             "endlinecolor": "#2a3f5f",
             "gridcolor": "white",
             "linecolor": "white",
             "minorgridcolor": "white",
             "startlinecolor": "#2a3f5f"
            },
            "type": "carpet"
           }
          ],
          "choropleth": [
           {
            "colorbar": {
             "outlinewidth": 0,
             "ticks": ""
            },
            "type": "choropleth"
           }
          ],
          "contour": [
           {
            "colorbar": {
             "outlinewidth": 0,
             "ticks": ""
            },
            "colorscale": [
             [
              0,
              "#0d0887"
             ],
             [
              0.1111111111111111,
              "#46039f"
             ],
             [
              0.2222222222222222,
              "#7201a8"
             ],
             [
              0.3333333333333333,
              "#9c179e"
             ],
             [
              0.4444444444444444,
              "#bd3786"
             ],
             [
              0.5555555555555556,
              "#d8576b"
             ],
             [
              0.6666666666666666,
              "#ed7953"
             ],
             [
              0.7777777777777778,
              "#fb9f3a"
             ],
             [
              0.8888888888888888,
              "#fdca26"
             ],
             [
              1,
              "#f0f921"
             ]
            ],
            "type": "contour"
           }
          ],
          "contourcarpet": [
           {
            "colorbar": {
             "outlinewidth": 0,
             "ticks": ""
            },
            "type": "contourcarpet"
           }
          ],
          "heatmap": [
           {
            "colorbar": {
             "outlinewidth": 0,
             "ticks": ""
            },
            "colorscale": [
             [
              0,
              "#0d0887"
             ],
             [
              0.1111111111111111,
              "#46039f"
             ],
             [
              0.2222222222222222,
              "#7201a8"
             ],
             [
              0.3333333333333333,
              "#9c179e"
             ],
             [
              0.4444444444444444,
              "#bd3786"
             ],
             [
              0.5555555555555556,
              "#d8576b"
             ],
             [
              0.6666666666666666,
              "#ed7953"
             ],
             [
              0.7777777777777778,
              "#fb9f3a"
             ],
             [
              0.8888888888888888,
              "#fdca26"
             ],
             [
              1,
              "#f0f921"
             ]
            ],
            "type": "heatmap"
           }
          ],
          "heatmapgl": [
           {
            "colorbar": {
             "outlinewidth": 0,
             "ticks": ""
            },
            "colorscale": [
             [
              0,
              "#0d0887"
             ],
             [
              0.1111111111111111,
              "#46039f"
             ],
             [
              0.2222222222222222,
              "#7201a8"
             ],
             [
              0.3333333333333333,
              "#9c179e"
             ],
             [
              0.4444444444444444,
              "#bd3786"
             ],
             [
              0.5555555555555556,
              "#d8576b"
             ],
             [
              0.6666666666666666,
              "#ed7953"
             ],
             [
              0.7777777777777778,
              "#fb9f3a"
             ],
             [
              0.8888888888888888,
              "#fdca26"
             ],
             [
              1,
              "#f0f921"
             ]
            ],
            "type": "heatmapgl"
           }
          ],
          "histogram": [
           {
            "marker": {
             "pattern": {
              "fillmode": "overlay",
              "size": 10,
              "solidity": 0.2
             }
            },
            "type": "histogram"
           }
          ],
          "histogram2d": [
           {
            "colorbar": {
             "outlinewidth": 0,
             "ticks": ""
            },
            "colorscale": [
             [
              0,
              "#0d0887"
             ],
             [
              0.1111111111111111,
              "#46039f"
             ],
             [
              0.2222222222222222,
              "#7201a8"
             ],
             [
              0.3333333333333333,
              "#9c179e"
             ],
             [
              0.4444444444444444,
              "#bd3786"
             ],
             [
              0.5555555555555556,
              "#d8576b"
             ],
             [
              0.6666666666666666,
              "#ed7953"
             ],
             [
              0.7777777777777778,
              "#fb9f3a"
             ],
             [
              0.8888888888888888,
              "#fdca26"
             ],
             [
              1,
              "#f0f921"
             ]
            ],
            "type": "histogram2d"
           }
          ],
          "histogram2dcontour": [
           {
            "colorbar": {
             "outlinewidth": 0,
             "ticks": ""
            },
            "colorscale": [
             [
              0,
              "#0d0887"
             ],
             [
              0.1111111111111111,
              "#46039f"
             ],
             [
              0.2222222222222222,
              "#7201a8"
             ],
             [
              0.3333333333333333,
              "#9c179e"
             ],
             [
              0.4444444444444444,
              "#bd3786"
             ],
             [
              0.5555555555555556,
              "#d8576b"
             ],
             [
              0.6666666666666666,
              "#ed7953"
             ],
             [
              0.7777777777777778,
              "#fb9f3a"
             ],
             [
              0.8888888888888888,
              "#fdca26"
             ],
             [
              1,
              "#f0f921"
             ]
            ],
            "type": "histogram2dcontour"
           }
          ],
          "mesh3d": [
           {
            "colorbar": {
             "outlinewidth": 0,
             "ticks": ""
            },
            "type": "mesh3d"
           }
          ],
          "parcoords": [
           {
            "line": {
             "colorbar": {
              "outlinewidth": 0,
              "ticks": ""
             }
            },
            "type": "parcoords"
           }
          ],
          "pie": [
           {
            "automargin": true,
            "type": "pie"
           }
          ],
          "scatter": [
           {
            "fillpattern": {
             "fillmode": "overlay",
             "size": 10,
             "solidity": 0.2
            },
            "type": "scatter"
           }
          ],
          "scatter3d": [
           {
            "line": {
             "colorbar": {
              "outlinewidth": 0,
              "ticks": ""
             }
            },
            "marker": {
             "colorbar": {
              "outlinewidth": 0,
              "ticks": ""
             }
            },
            "type": "scatter3d"
           }
          ],
          "scattercarpet": [
           {
            "marker": {
             "colorbar": {
              "outlinewidth": 0,
              "ticks": ""
             }
            },
            "type": "scattercarpet"
           }
          ],
          "scattergeo": [
           {
            "marker": {
             "colorbar": {
              "outlinewidth": 0,
              "ticks": ""
             }
            },
            "type": "scattergeo"
           }
          ],
          "scattergl": [
           {
            "marker": {
             "colorbar": {
              "outlinewidth": 0,
              "ticks": ""
             }
            },
            "type": "scattergl"
           }
          ],
          "scattermapbox": [
           {
            "marker": {
             "colorbar": {
              "outlinewidth": 0,
              "ticks": ""
             }
            },
            "type": "scattermapbox"
           }
          ],
          "scatterpolar": [
           {
            "marker": {
             "colorbar": {
              "outlinewidth": 0,
              "ticks": ""
             }
            },
            "type": "scatterpolar"
           }
          ],
          "scatterpolargl": [
           {
            "marker": {
             "colorbar": {
              "outlinewidth": 0,
              "ticks": ""
             }
            },
            "type": "scatterpolargl"
           }
          ],
          "scatterternary": [
           {
            "marker": {
             "colorbar": {
              "outlinewidth": 0,
              "ticks": ""
             }
            },
            "type": "scatterternary"
           }
          ],
          "surface": [
           {
            "colorbar": {
             "outlinewidth": 0,
             "ticks": ""
            },
            "colorscale": [
             [
              0,
              "#0d0887"
             ],
             [
              0.1111111111111111,
              "#46039f"
             ],
             [
              0.2222222222222222,
              "#7201a8"
             ],
             [
              0.3333333333333333,
              "#9c179e"
             ],
             [
              0.4444444444444444,
              "#bd3786"
             ],
             [
              0.5555555555555556,
              "#d8576b"
             ],
             [
              0.6666666666666666,
              "#ed7953"
             ],
             [
              0.7777777777777778,
              "#fb9f3a"
             ],
             [
              0.8888888888888888,
              "#fdca26"
             ],
             [
              1,
              "#f0f921"
             ]
            ],
            "type": "surface"
           }
          ],
          "table": [
           {
            "cells": {
             "fill": {
              "color": "#EBF0F8"
             },
             "line": {
              "color": "white"
             }
            },
            "header": {
             "fill": {
              "color": "#C8D4E3"
             },
             "line": {
              "color": "white"
             }
            },
            "type": "table"
           }
          ]
         },
         "layout": {
          "annotationdefaults": {
           "arrowcolor": "#2a3f5f",
           "arrowhead": 0,
           "arrowwidth": 1
          },
          "autotypenumbers": "strict",
          "coloraxis": {
           "colorbar": {
            "outlinewidth": 0,
            "ticks": ""
           }
          },
          "colorscale": {
           "diverging": [
            [
             0,
             "#8e0152"
            ],
            [
             0.1,
             "#c51b7d"
            ],
            [
             0.2,
             "#de77ae"
            ],
            [
             0.3,
             "#f1b6da"
            ],
            [
             0.4,
             "#fde0ef"
            ],
            [
             0.5,
             "#f7f7f7"
            ],
            [
             0.6,
             "#e6f5d0"
            ],
            [
             0.7,
             "#b8e186"
            ],
            [
             0.8,
             "#7fbc41"
            ],
            [
             0.9,
             "#4d9221"
            ],
            [
             1,
             "#276419"
            ]
           ],
           "sequential": [
            [
             0,
             "#0d0887"
            ],
            [
             0.1111111111111111,
             "#46039f"
            ],
            [
             0.2222222222222222,
             "#7201a8"
            ],
            [
             0.3333333333333333,
             "#9c179e"
            ],
            [
             0.4444444444444444,
             "#bd3786"
            ],
            [
             0.5555555555555556,
             "#d8576b"
            ],
            [
             0.6666666666666666,
             "#ed7953"
            ],
            [
             0.7777777777777778,
             "#fb9f3a"
            ],
            [
             0.8888888888888888,
             "#fdca26"
            ],
            [
             1,
             "#f0f921"
            ]
           ],
           "sequentialminus": [
            [
             0,
             "#0d0887"
            ],
            [
             0.1111111111111111,
             "#46039f"
            ],
            [
             0.2222222222222222,
             "#7201a8"
            ],
            [
             0.3333333333333333,
             "#9c179e"
            ],
            [
             0.4444444444444444,
             "#bd3786"
            ],
            [
             0.5555555555555556,
             "#d8576b"
            ],
            [
             0.6666666666666666,
             "#ed7953"
            ],
            [
             0.7777777777777778,
             "#fb9f3a"
            ],
            [
             0.8888888888888888,
             "#fdca26"
            ],
            [
             1,
             "#f0f921"
            ]
           ]
          },
          "colorway": [
           "#636efa",
           "#EF553B",
           "#00cc96",
           "#ab63fa",
           "#FFA15A",
           "#19d3f3",
           "#FF6692",
           "#B6E880",
           "#FF97FF",
           "#FECB52"
          ],
          "font": {
           "color": "#2a3f5f"
          },
          "geo": {
           "bgcolor": "white",
           "lakecolor": "white",
           "landcolor": "#E5ECF6",
           "showlakes": true,
           "showland": true,
           "subunitcolor": "white"
          },
          "hoverlabel": {
           "align": "left"
          },
          "hovermode": "closest",
          "mapbox": {
           "style": "light"
          },
          "paper_bgcolor": "white",
          "plot_bgcolor": "#E5ECF6",
          "polar": {
           "angularaxis": {
            "gridcolor": "white",
            "linecolor": "white",
            "ticks": ""
           },
           "bgcolor": "#E5ECF6",
           "radialaxis": {
            "gridcolor": "white",
            "linecolor": "white",
            "ticks": ""
           }
          },
          "scene": {
           "xaxis": {
            "backgroundcolor": "#E5ECF6",
            "gridcolor": "white",
            "gridwidth": 2,
            "linecolor": "white",
            "showbackground": true,
            "ticks": "",
            "zerolinecolor": "white"
           },
           "yaxis": {
            "backgroundcolor": "#E5ECF6",
            "gridcolor": "white",
            "gridwidth": 2,
            "linecolor": "white",
            "showbackground": true,
            "ticks": "",
            "zerolinecolor": "white"
           },
           "zaxis": {
            "backgroundcolor": "#E5ECF6",
            "gridcolor": "white",
            "gridwidth": 2,
            "linecolor": "white",
            "showbackground": true,
            "ticks": "",
            "zerolinecolor": "white"
           }
          },
          "shapedefaults": {
           "line": {
            "color": "#2a3f5f"
           }
          },
          "ternary": {
           "aaxis": {
            "gridcolor": "white",
            "linecolor": "white",
            "ticks": ""
           },
           "baxis": {
            "gridcolor": "white",
            "linecolor": "white",
            "ticks": ""
           },
           "bgcolor": "#E5ECF6",
           "caxis": {
            "gridcolor": "white",
            "linecolor": "white",
            "ticks": ""
           }
          },
          "title": {
           "x": 0.05
          },
          "xaxis": {
           "automargin": true,
           "gridcolor": "white",
           "linecolor": "white",
           "ticks": "",
           "title": {
            "standoff": 15
           },
           "zerolinecolor": "white",
           "zerolinewidth": 2
          },
          "yaxis": {
           "automargin": true,
           "gridcolor": "white",
           "linecolor": "white",
           "ticks": "",
           "title": {
            "standoff": 15
           },
           "zerolinecolor": "white",
           "zerolinewidth": 2
          }
         }
        },
        "title": {
         "text": "DGI : 5.079301"
        },
        "xaxis": {
         "title": {
          "text": "Sense Features"
         }
        },
        "yaxis": {
         "title": {
          "text": "Dimensions"
         }
        }
       }
      },
      "text/html": [
       "<div>                            <div id=\"1bee06b1-3a76-4671-8244-c90eaf5f58b6\" class=\"plotly-graph-div\" style=\"height:525px; width:100%;\"></div>            <script type=\"text/javascript\">                require([\"plotly\"], function(Plotly) {                    window.PLOTLYENV=window.PLOTLYENV || {};                                    if (document.getElementById(\"1bee06b1-3a76-4671-8244-c90eaf5f58b6\")) {                    Plotly.newPlot(                        \"1bee06b1-3a76-4671-8244-c90eaf5f58b6\",                        [{\"x\":[\"Degree\",\"Clustering Coefficient\",\"Personalized Page Rank - Standard Deviation\",\"Average Neighbor Degree\",\"Average Neighbor Clustering\",\"Eccentricity\",\"Katz Centrality\"],\"z\":[[0.0,0.0,0.0,0.0,0.0,0.0,0.0],[0.0,0.0,0.0,0.0,0.03400535136461258,0.0,0.0],[0.0,0.0,0.0,0.0,0.0,0.0,0.2548753619194031],[0.0,0.0,0.0,0.0,0.0,0.0,0.0],[0.0,0.0,0.0,0.0,0.0,0.0,0.0],[0.0,0.0,0.0,0.0,0.0,0.0,0.0],[0.0,0.0,0.0,0.0,0.0,0.0,0.0],[0.0,0.0,0.0,0.0,0.0,0.0,0.0],[0.0,0.0,0.0,0.0,0.0,0.0,0.0],[0.0,0.0,0.0,0.0,0.0,0.0,0.0],[0.8281591534614563,0.0,0.0,0.0,0.0,0.0,0.0],[0.0,0.0,0.0,0.0,0.0,0.0,0.0],[0.0,0.0,0.0,0.0,0.0,0.0,0.0],[0.0,0.0,0.0,0.0,0.0,0.0,0.0],[0.0,0.0,0.0,0.0,0.0,0.0,0.0],[0.0,0.0,0.5922438502311707,0.0,0.0,0.0,0.0],[0.0,0.0,0.0,0.0,0.0,0.0,0.0],[0.0,0.0,0.0,0.0,0.0,0.0,0.0],[0.0,0.0,0.0,0.0,0.0,0.0,0.0],[0.0,0.0,0.0,0.0,0.16137629747390747,0.0,0.02997194416821003],[0.0,0.0,0.0,0.0,0.0,0.0,0.0],[0.0,0.0,0.3443911075592041,0.0,0.0,0.0,0.0],[0.0,0.0,0.0,0.0,0.0,0.0,0.0],[0.0,0.0,0.0,0.0,0.0,0.0,0.0],[0.0,0.0,0.0,0.0,0.0,0.0,0.0],[0.0,0.0,0.0,0.05780438333749771,0.0,0.0,0.0],[0.0,0.0,0.0,0.0,0.0,0.0,0.5615929961204529],[0.0,0.0,0.0,0.0,0.0,0.0,0.05658414214849472],[0.0,0.0,0.0,0.0,0.0,0.0,0.0],[0.0,0.0,0.0,0.0,0.0,0.0,0.0],[0.0,0.0,0.0,0.0,0.0,0.0,0.0],[0.0,0.0,0.0,0.0,0.319462388753891,0.0,0.0],[0.0,0.0,0.0,0.8312166929244995,0.0,0.0,0.0],[0.0,0.0,0.0,0.0,0.0,0.0,0.0],[0.0,0.0,0.0,0.0,0.0,0.48852381110191345,0.0],[0.0,0.0,0.0,0.0,0.0,0.0,0.0],[0.0,0.0,0.0,0.0,0.0,0.0,0.0],[0.0,0.0,0.0,0.0,0.0,0.0,0.0],[0.0,0.0,0.0,0.0,0.0,0.0,0.0],[0.0,0.0,0.0,0.0,0.0,0.0,0.09431327879428864],[0.0,0.0,0.0,0.0,0.0,0.0,0.0],[0.0,0.0,0.0,0.0,0.0,0.0,0.0],[0.0,0.0,0.0,0.0,0.11476749181747437,0.0,0.0],[0.0,0.0,0.0,0.0,0.0,0.0,0.0],[0.0,0.0,0.0,0.0,0.0,0.0,0.0],[0.0,0.0,0.0,0.0,0.0,0.0,0.0],[0.0,0.02957269921898842,0.0,0.0,0.016021251678466797,0.0,0.0],[0.0,0.0,0.0,0.0,0.0,0.0,0.0],[0.0,0.0,0.0,0.0,0.0,0.19891414046287537,0.0],[0.0,0.0,0.0,0.0,0.0,0.0,0.10488877445459366],[0.0,0.0,0.0,0.0,0.0,0.0,0.0],[0.0,0.0,0.0,0.0,0.0,0.0,0.0],[0.0,0.0,0.0,0.0,0.0,0.0,0.0],[0.0,0.0,0.0,0.20732270181179047,0.0,0.0,0.0],[0.0,0.0,0.0,0.11600187420845032,0.0,0.0,0.0],[0.0,0.0,0.0,0.0,0.0,0.0,0.0],[0.0,0.0,0.0,0.0,0.0,0.0,0.0],[0.0,1.0,0.0,0.0,0.0,0.0,0.0],[0.0,0.0,0.0,0.0,0.0,0.0,0.0],[0.0,0.5843219757080078,0.0,0.0,0.0,0.0,0.0],[0.0,0.0,0.0,0.0,0.0,0.0,0.0],[0.0,0.0,0.0,0.0,0.0,0.0,0.0],[0.0,0.0,0.0,0.0,0.0,0.0,0.0],[0.0,0.0,0.0,0.0,0.0,0.0,0.0]],\"type\":\"heatmap\"}],                        {\"template\":{\"data\":{\"histogram2dcontour\":[{\"type\":\"histogram2dcontour\",\"colorbar\":{\"outlinewidth\":0,\"ticks\":\"\"},\"colorscale\":[[0.0,\"#0d0887\"],[0.1111111111111111,\"#46039f\"],[0.2222222222222222,\"#7201a8\"],[0.3333333333333333,\"#9c179e\"],[0.4444444444444444,\"#bd3786\"],[0.5555555555555556,\"#d8576b\"],[0.6666666666666666,\"#ed7953\"],[0.7777777777777778,\"#fb9f3a\"],[0.8888888888888888,\"#fdca26\"],[1.0,\"#f0f921\"]]}],\"choropleth\":[{\"type\":\"choropleth\",\"colorbar\":{\"outlinewidth\":0,\"ticks\":\"\"}}],\"histogram2d\":[{\"type\":\"histogram2d\",\"colorbar\":{\"outlinewidth\":0,\"ticks\":\"\"},\"colorscale\":[[0.0,\"#0d0887\"],[0.1111111111111111,\"#46039f\"],[0.2222222222222222,\"#7201a8\"],[0.3333333333333333,\"#9c179e\"],[0.4444444444444444,\"#bd3786\"],[0.5555555555555556,\"#d8576b\"],[0.6666666666666666,\"#ed7953\"],[0.7777777777777778,\"#fb9f3a\"],[0.8888888888888888,\"#fdca26\"],[1.0,\"#f0f921\"]]}],\"heatmap\":[{\"type\":\"heatmap\",\"colorbar\":{\"outlinewidth\":0,\"ticks\":\"\"},\"colorscale\":[[0.0,\"#0d0887\"],[0.1111111111111111,\"#46039f\"],[0.2222222222222222,\"#7201a8\"],[0.3333333333333333,\"#9c179e\"],[0.4444444444444444,\"#bd3786\"],[0.5555555555555556,\"#d8576b\"],[0.6666666666666666,\"#ed7953\"],[0.7777777777777778,\"#fb9f3a\"],[0.8888888888888888,\"#fdca26\"],[1.0,\"#f0f921\"]]}],\"heatmapgl\":[{\"type\":\"heatmapgl\",\"colorbar\":{\"outlinewidth\":0,\"ticks\":\"\"},\"colorscale\":[[0.0,\"#0d0887\"],[0.1111111111111111,\"#46039f\"],[0.2222222222222222,\"#7201a8\"],[0.3333333333333333,\"#9c179e\"],[0.4444444444444444,\"#bd3786\"],[0.5555555555555556,\"#d8576b\"],[0.6666666666666666,\"#ed7953\"],[0.7777777777777778,\"#fb9f3a\"],[0.8888888888888888,\"#fdca26\"],[1.0,\"#f0f921\"]]}],\"contourcarpet\":[{\"type\":\"contourcarpet\",\"colorbar\":{\"outlinewidth\":0,\"ticks\":\"\"}}],\"contour\":[{\"type\":\"contour\",\"colorbar\":{\"outlinewidth\":0,\"ticks\":\"\"},\"colorscale\":[[0.0,\"#0d0887\"],[0.1111111111111111,\"#46039f\"],[0.2222222222222222,\"#7201a8\"],[0.3333333333333333,\"#9c179e\"],[0.4444444444444444,\"#bd3786\"],[0.5555555555555556,\"#d8576b\"],[0.6666666666666666,\"#ed7953\"],[0.7777777777777778,\"#fb9f3a\"],[0.8888888888888888,\"#fdca26\"],[1.0,\"#f0f921\"]]}],\"surface\":[{\"type\":\"surface\",\"colorbar\":{\"outlinewidth\":0,\"ticks\":\"\"},\"colorscale\":[[0.0,\"#0d0887\"],[0.1111111111111111,\"#46039f\"],[0.2222222222222222,\"#7201a8\"],[0.3333333333333333,\"#9c179e\"],[0.4444444444444444,\"#bd3786\"],[0.5555555555555556,\"#d8576b\"],[0.6666666666666666,\"#ed7953\"],[0.7777777777777778,\"#fb9f3a\"],[0.8888888888888888,\"#fdca26\"],[1.0,\"#f0f921\"]]}],\"mesh3d\":[{\"type\":\"mesh3d\",\"colorbar\":{\"outlinewidth\":0,\"ticks\":\"\"}}],\"scatter\":[{\"fillpattern\":{\"fillmode\":\"overlay\",\"size\":10,\"solidity\":0.2},\"type\":\"scatter\"}],\"parcoords\":[{\"type\":\"parcoords\",\"line\":{\"colorbar\":{\"outlinewidth\":0,\"ticks\":\"\"}}}],\"scatterpolargl\":[{\"type\":\"scatterpolargl\",\"marker\":{\"colorbar\":{\"outlinewidth\":0,\"ticks\":\"\"}}}],\"bar\":[{\"error_x\":{\"color\":\"#2a3f5f\"},\"error_y\":{\"color\":\"#2a3f5f\"},\"marker\":{\"line\":{\"color\":\"#E5ECF6\",\"width\":0.5},\"pattern\":{\"fillmode\":\"overlay\",\"size\":10,\"solidity\":0.2}},\"type\":\"bar\"}],\"scattergeo\":[{\"type\":\"scattergeo\",\"marker\":{\"colorbar\":{\"outlinewidth\":0,\"ticks\":\"\"}}}],\"scatterpolar\":[{\"type\":\"scatterpolar\",\"marker\":{\"colorbar\":{\"outlinewidth\":0,\"ticks\":\"\"}}}],\"histogram\":[{\"marker\":{\"pattern\":{\"fillmode\":\"overlay\",\"size\":10,\"solidity\":0.2}},\"type\":\"histogram\"}],\"scattergl\":[{\"type\":\"scattergl\",\"marker\":{\"colorbar\":{\"outlinewidth\":0,\"ticks\":\"\"}}}],\"scatter3d\":[{\"type\":\"scatter3d\",\"line\":{\"colorbar\":{\"outlinewidth\":0,\"ticks\":\"\"}},\"marker\":{\"colorbar\":{\"outlinewidth\":0,\"ticks\":\"\"}}}],\"scattermapbox\":[{\"type\":\"scattermapbox\",\"marker\":{\"colorbar\":{\"outlinewidth\":0,\"ticks\":\"\"}}}],\"scatterternary\":[{\"type\":\"scatterternary\",\"marker\":{\"colorbar\":{\"outlinewidth\":0,\"ticks\":\"\"}}}],\"scattercarpet\":[{\"type\":\"scattercarpet\",\"marker\":{\"colorbar\":{\"outlinewidth\":0,\"ticks\":\"\"}}}],\"carpet\":[{\"aaxis\":{\"endlinecolor\":\"#2a3f5f\",\"gridcolor\":\"white\",\"linecolor\":\"white\",\"minorgridcolor\":\"white\",\"startlinecolor\":\"#2a3f5f\"},\"baxis\":{\"endlinecolor\":\"#2a3f5f\",\"gridcolor\":\"white\",\"linecolor\":\"white\",\"minorgridcolor\":\"white\",\"startlinecolor\":\"#2a3f5f\"},\"type\":\"carpet\"}],\"table\":[{\"cells\":{\"fill\":{\"color\":\"#EBF0F8\"},\"line\":{\"color\":\"white\"}},\"header\":{\"fill\":{\"color\":\"#C8D4E3\"},\"line\":{\"color\":\"white\"}},\"type\":\"table\"}],\"barpolar\":[{\"marker\":{\"line\":{\"color\":\"#E5ECF6\",\"width\":0.5},\"pattern\":{\"fillmode\":\"overlay\",\"size\":10,\"solidity\":0.2}},\"type\":\"barpolar\"}],\"pie\":[{\"automargin\":true,\"type\":\"pie\"}]},\"layout\":{\"autotypenumbers\":\"strict\",\"colorway\":[\"#636efa\",\"#EF553B\",\"#00cc96\",\"#ab63fa\",\"#FFA15A\",\"#19d3f3\",\"#FF6692\",\"#B6E880\",\"#FF97FF\",\"#FECB52\"],\"font\":{\"color\":\"#2a3f5f\"},\"hovermode\":\"closest\",\"hoverlabel\":{\"align\":\"left\"},\"paper_bgcolor\":\"white\",\"plot_bgcolor\":\"#E5ECF6\",\"polar\":{\"bgcolor\":\"#E5ECF6\",\"angularaxis\":{\"gridcolor\":\"white\",\"linecolor\":\"white\",\"ticks\":\"\"},\"radialaxis\":{\"gridcolor\":\"white\",\"linecolor\":\"white\",\"ticks\":\"\"}},\"ternary\":{\"bgcolor\":\"#E5ECF6\",\"aaxis\":{\"gridcolor\":\"white\",\"linecolor\":\"white\",\"ticks\":\"\"},\"baxis\":{\"gridcolor\":\"white\",\"linecolor\":\"white\",\"ticks\":\"\"},\"caxis\":{\"gridcolor\":\"white\",\"linecolor\":\"white\",\"ticks\":\"\"}},\"coloraxis\":{\"colorbar\":{\"outlinewidth\":0,\"ticks\":\"\"}},\"colorscale\":{\"sequential\":[[0.0,\"#0d0887\"],[0.1111111111111111,\"#46039f\"],[0.2222222222222222,\"#7201a8\"],[0.3333333333333333,\"#9c179e\"],[0.4444444444444444,\"#bd3786\"],[0.5555555555555556,\"#d8576b\"],[0.6666666666666666,\"#ed7953\"],[0.7777777777777778,\"#fb9f3a\"],[0.8888888888888888,\"#fdca26\"],[1.0,\"#f0f921\"]],\"sequentialminus\":[[0.0,\"#0d0887\"],[0.1111111111111111,\"#46039f\"],[0.2222222222222222,\"#7201a8\"],[0.3333333333333333,\"#9c179e\"],[0.4444444444444444,\"#bd3786\"],[0.5555555555555556,\"#d8576b\"],[0.6666666666666666,\"#ed7953\"],[0.7777777777777778,\"#fb9f3a\"],[0.8888888888888888,\"#fdca26\"],[1.0,\"#f0f921\"]],\"diverging\":[[0,\"#8e0152\"],[0.1,\"#c51b7d\"],[0.2,\"#de77ae\"],[0.3,\"#f1b6da\"],[0.4,\"#fde0ef\"],[0.5,\"#f7f7f7\"],[0.6,\"#e6f5d0\"],[0.7,\"#b8e186\"],[0.8,\"#7fbc41\"],[0.9,\"#4d9221\"],[1,\"#276419\"]]},\"xaxis\":{\"gridcolor\":\"white\",\"linecolor\":\"white\",\"ticks\":\"\",\"title\":{\"standoff\":15},\"zerolinecolor\":\"white\",\"automargin\":true,\"zerolinewidth\":2},\"yaxis\":{\"gridcolor\":\"white\",\"linecolor\":\"white\",\"ticks\":\"\",\"title\":{\"standoff\":15},\"zerolinecolor\":\"white\",\"automargin\":true,\"zerolinewidth\":2},\"scene\":{\"xaxis\":{\"backgroundcolor\":\"#E5ECF6\",\"gridcolor\":\"white\",\"linecolor\":\"white\",\"showbackground\":true,\"ticks\":\"\",\"zerolinecolor\":\"white\",\"gridwidth\":2},\"yaxis\":{\"backgroundcolor\":\"#E5ECF6\",\"gridcolor\":\"white\",\"linecolor\":\"white\",\"showbackground\":true,\"ticks\":\"\",\"zerolinecolor\":\"white\",\"gridwidth\":2},\"zaxis\":{\"backgroundcolor\":\"#E5ECF6\",\"gridcolor\":\"white\",\"linecolor\":\"white\",\"showbackground\":true,\"ticks\":\"\",\"zerolinecolor\":\"white\",\"gridwidth\":2}},\"shapedefaults\":{\"line\":{\"color\":\"#2a3f5f\"}},\"annotationdefaults\":{\"arrowcolor\":\"#2a3f5f\",\"arrowhead\":0,\"arrowwidth\":1},\"geo\":{\"bgcolor\":\"white\",\"landcolor\":\"#E5ECF6\",\"subunitcolor\":\"white\",\"showland\":true,\"showlakes\":true,\"lakecolor\":\"white\"},\"title\":{\"x\":0.05},\"mapbox\":{\"style\":\"light\"}}},\"title\":{\"text\":\"DGI : 5.079301\"},\"xaxis\":{\"title\":{\"text\":\"Sense Features\"}},\"yaxis\":{\"title\":{\"text\":\"Dimensions\"}}},                        {\"responsive\": true}                    ).then(function(){\n",
       "                            \n",
       "var gd = document.getElementById('1bee06b1-3a76-4671-8244-c90eaf5f58b6');\n",
       "var x = new MutationObserver(function (mutations, observer) {{\n",
       "        var display = window.getComputedStyle(gd).display;\n",
       "        if (!display || display === 'none') {{\n",
       "            console.log([gd, 'removed!']);\n",
       "            Plotly.purge(gd);\n",
       "            observer.disconnect();\n",
       "        }}\n",
       "}});\n",
       "\n",
       "// Listen for the removal of the full notebook cells\n",
       "var notebookContainer = gd.closest('#notebook-container');\n",
       "if (notebookContainer) {{\n",
       "    x.observe(notebookContainer, {childList: true});\n",
       "}}\n",
       "\n",
       "// Listen for the clearing of the current output cell\n",
       "var outputEl = gd.closest('.output');\n",
       "if (outputEl) {{\n",
       "    x.observe(outputEl, {childList: true});\n",
       "}}\n",
       "\n",
       "                        })                };                });            </script>        </div>"
      ]
     },
     "metadata": {},
     "output_type": "display_data"
    },
    {
     "data": {
      "application/vnd.plotly.v1+json": {
       "config": {
        "plotlyServerURL": "https://plot.ly"
       },
       "data": [
        {
         "type": "heatmap",
         "x": [
          "Degree",
          "Clustering Coefficient",
          "Personalized Page Rank - Standard Deviation",
          "Average Neighbor Degree",
          "Average Neighbor Clustering",
          "Eccentricity",
          "Katz Centrality"
         ],
         "z": [
          [
           0,
           0,
           0.2349715679883957,
           0,
           0,
           0.23132289946079254,
           0
          ],
          [
           0,
           0,
           0,
           0,
           0,
           0,
           0
          ],
          [
           0,
           0,
           0,
           0,
           0,
           0,
           0
          ],
          [
           0,
           0,
           0,
           0,
           0,
           0,
           0
          ],
          [
           0,
           0,
           0,
           0,
           0,
           1,
           0.07257900387048721
          ],
          [
           0,
           0,
           0,
           0,
           0,
           0,
           0
          ],
          [
           0,
           0,
           0,
           0,
           0,
           0,
           0
          ],
          [
           0,
           0,
           0,
           0.09328797459602356,
           0,
           0,
           0
          ],
          [
           0,
           0,
           0,
           0,
           0,
           0,
           0
          ],
          [
           0,
           0,
           0,
           0,
           0.1436331868171692,
           0,
           0.42539724707603455
          ],
          [
           0,
           0,
           0,
           0.3605259954929352,
           0,
           0,
           0
          ],
          [
           0,
           0,
           0,
           0.06676283478736877,
           0,
           0,
           0
          ],
          [
           0.09357384592294693,
           0,
           0,
           0.170796737074852,
           0,
           0,
           0
          ],
          [
           0.11869758367538452,
           0,
           0,
           0,
           0,
           0,
           0
          ],
          [
           0,
           0,
           0,
           0,
           0,
           0,
           0
          ],
          [
           0,
           0,
           0,
           0,
           0,
           0,
           0
          ],
          [
           0,
           0,
           0,
           0,
           0.029483051970601082,
           0,
           0
          ],
          [
           0,
           0,
           0,
           0,
           0,
           0,
           0
          ],
          [
           0,
           0,
           0.15072348713874817,
           0,
           0,
           0,
           0.0012665351387113333
          ],
          [
           0,
           0,
           0,
           0,
           0,
           0,
           0
          ],
          [
           0,
           0,
           0,
           0,
           0,
           0,
           0
          ],
          [
           0,
           0,
           0,
           0,
           0,
           0,
           0
          ],
          [
           0,
           0.7996740937232971,
           0,
           0.2599281370639801,
           0.06551504135131836,
           0,
           0
          ],
          [
           0,
           0,
           0.8687609434127808,
           0.097173310816288,
           0,
           0,
           0.08710259944200516
          ],
          [
           0,
           0,
           0,
           0,
           0,
           0,
           0.0520971305668354
          ],
          [
           0.5309278964996338,
           0,
           0,
           0,
           0,
           0,
           0
          ],
          [
           0,
           0,
           0,
           0,
           0,
           0,
           0
          ],
          [
           0,
           0,
           0,
           0,
           0,
           0,
           0
          ],
          [
           0,
           0,
           0,
           0,
           0,
           0,
           0
          ],
          [
           0,
           0,
           0,
           0,
           0,
           0,
           0
          ],
          [
           0,
           0,
           0.3787182867527008,
           0,
           0,
           0,
           0
          ],
          [
           0,
           0,
           0,
           0,
           0.14088955521583557,
           0,
           0
          ],
          [
           0,
           0,
           0,
           0,
           0,
           0,
           0
          ],
          [
           0,
           0.48069947957992554,
           0,
           0,
           0.20316681265830994,
           0.17722958326339722,
           0
          ],
          [
           0,
           0,
           0,
           0,
           0,
           0,
           0
          ],
          [
           0,
           0,
           0,
           0,
           0,
           0,
           0
          ],
          [
           0,
           0,
           0,
           0,
           0,
           0,
           0
          ],
          [
           0,
           0,
           0,
           0,
           0,
           0.045359790325164795,
           0.06644262373447418
          ],
          [
           0.22918491065502167,
           0,
           0,
           0,
           0,
           0,
           0
          ],
          [
           0,
           0,
           0,
           0,
           0,
           0,
           0
          ],
          [
           0,
           0,
           0,
           0,
           0,
           0,
           0
          ],
          [
           0,
           0,
           0,
           0,
           0,
           0,
           0
          ],
          [
           0,
           0,
           0,
           0,
           0,
           0,
           0
          ],
          [
           0,
           0,
           0.19223500788211823,
           0,
           0,
           0,
           0
          ],
          [
           0,
           0,
           0,
           0,
           0,
           0,
           0
          ],
          [
           0,
           0,
           0,
           0,
           0,
           0,
           0
          ],
          [
           0,
           0,
           0,
           0,
           0,
           0,
           0
          ],
          [
           0.05363715440034866,
           0,
           0,
           0,
           0,
           0,
           0
          ],
          [
           0,
           0,
           0,
           0,
           0,
           0,
           0
          ],
          [
           0,
           0,
           0,
           0,
           0,
           0,
           0
          ],
          [
           0,
           0,
           0,
           0,
           0,
           0,
           0
          ],
          [
           0,
           0,
           0,
           0,
           0,
           0,
           0
          ],
          [
           0,
           0,
           0,
           0,
           0,
           0,
           0
          ],
          [
           0,
           0,
           0,
           0,
           0,
           0,
           0
          ],
          [
           0,
           0,
           0,
           0,
           0,
           0,
           0
          ],
          [
           0,
           0,
           0,
           0,
           0,
           0,
           0
          ],
          [
           0,
           0,
           0,
           0,
           0,
           0,
           0
          ],
          [
           0,
           0,
           0,
           0,
           0,
           0,
           0
          ],
          [
           0,
           0.09978308528661728,
           0,
           0.15679554641246796,
           0.05351993441581726,
           0,
           0.16255903244018555
          ],
          [
           0,
           0,
           0,
           0,
           0,
           0,
           0
          ],
          [
           0,
           0,
           0,
           0,
           0,
           0,
           0
          ],
          [
           0,
           0,
           0,
           0,
           0,
           0,
           0
          ],
          [
           0,
           0,
           0,
           0,
           0,
           0,
           0
          ],
          [
           0,
           0,
           0,
           0.019351599738001823,
           0,
           0.0598783865571022,
           0
          ]
         ]
        }
       ],
       "layout": {
        "template": {
         "data": {
          "bar": [
           {
            "error_x": {
             "color": "#2a3f5f"
            },
            "error_y": {
             "color": "#2a3f5f"
            },
            "marker": {
             "line": {
              "color": "#E5ECF6",
              "width": 0.5
             },
             "pattern": {
              "fillmode": "overlay",
              "size": 10,
              "solidity": 0.2
             }
            },
            "type": "bar"
           }
          ],
          "barpolar": [
           {
            "marker": {
             "line": {
              "color": "#E5ECF6",
              "width": 0.5
             },
             "pattern": {
              "fillmode": "overlay",
              "size": 10,
              "solidity": 0.2
             }
            },
            "type": "barpolar"
           }
          ],
          "carpet": [
           {
            "aaxis": {
             "endlinecolor": "#2a3f5f",
             "gridcolor": "white",
             "linecolor": "white",
             "minorgridcolor": "white",
             "startlinecolor": "#2a3f5f"
            },
            "baxis": {
             "endlinecolor": "#2a3f5f",
             "gridcolor": "white",
             "linecolor": "white",
             "minorgridcolor": "white",
             "startlinecolor": "#2a3f5f"
            },
            "type": "carpet"
           }
          ],
          "choropleth": [
           {
            "colorbar": {
             "outlinewidth": 0,
             "ticks": ""
            },
            "type": "choropleth"
           }
          ],
          "contour": [
           {
            "colorbar": {
             "outlinewidth": 0,
             "ticks": ""
            },
            "colorscale": [
             [
              0,
              "#0d0887"
             ],
             [
              0.1111111111111111,
              "#46039f"
             ],
             [
              0.2222222222222222,
              "#7201a8"
             ],
             [
              0.3333333333333333,
              "#9c179e"
             ],
             [
              0.4444444444444444,
              "#bd3786"
             ],
             [
              0.5555555555555556,
              "#d8576b"
             ],
             [
              0.6666666666666666,
              "#ed7953"
             ],
             [
              0.7777777777777778,
              "#fb9f3a"
             ],
             [
              0.8888888888888888,
              "#fdca26"
             ],
             [
              1,
              "#f0f921"
             ]
            ],
            "type": "contour"
           }
          ],
          "contourcarpet": [
           {
            "colorbar": {
             "outlinewidth": 0,
             "ticks": ""
            },
            "type": "contourcarpet"
           }
          ],
          "heatmap": [
           {
            "colorbar": {
             "outlinewidth": 0,
             "ticks": ""
            },
            "colorscale": [
             [
              0,
              "#0d0887"
             ],
             [
              0.1111111111111111,
              "#46039f"
             ],
             [
              0.2222222222222222,
              "#7201a8"
             ],
             [
              0.3333333333333333,
              "#9c179e"
             ],
             [
              0.4444444444444444,
              "#bd3786"
             ],
             [
              0.5555555555555556,
              "#d8576b"
             ],
             [
              0.6666666666666666,
              "#ed7953"
             ],
             [
              0.7777777777777778,
              "#fb9f3a"
             ],
             [
              0.8888888888888888,
              "#fdca26"
             ],
             [
              1,
              "#f0f921"
             ]
            ],
            "type": "heatmap"
           }
          ],
          "heatmapgl": [
           {
            "colorbar": {
             "outlinewidth": 0,
             "ticks": ""
            },
            "colorscale": [
             [
              0,
              "#0d0887"
             ],
             [
              0.1111111111111111,
              "#46039f"
             ],
             [
              0.2222222222222222,
              "#7201a8"
             ],
             [
              0.3333333333333333,
              "#9c179e"
             ],
             [
              0.4444444444444444,
              "#bd3786"
             ],
             [
              0.5555555555555556,
              "#d8576b"
             ],
             [
              0.6666666666666666,
              "#ed7953"
             ],
             [
              0.7777777777777778,
              "#fb9f3a"
             ],
             [
              0.8888888888888888,
              "#fdca26"
             ],
             [
              1,
              "#f0f921"
             ]
            ],
            "type": "heatmapgl"
           }
          ],
          "histogram": [
           {
            "marker": {
             "pattern": {
              "fillmode": "overlay",
              "size": 10,
              "solidity": 0.2
             }
            },
            "type": "histogram"
           }
          ],
          "histogram2d": [
           {
            "colorbar": {
             "outlinewidth": 0,
             "ticks": ""
            },
            "colorscale": [
             [
              0,
              "#0d0887"
             ],
             [
              0.1111111111111111,
              "#46039f"
             ],
             [
              0.2222222222222222,
              "#7201a8"
             ],
             [
              0.3333333333333333,
              "#9c179e"
             ],
             [
              0.4444444444444444,
              "#bd3786"
             ],
             [
              0.5555555555555556,
              "#d8576b"
             ],
             [
              0.6666666666666666,
              "#ed7953"
             ],
             [
              0.7777777777777778,
              "#fb9f3a"
             ],
             [
              0.8888888888888888,
              "#fdca26"
             ],
             [
              1,
              "#f0f921"
             ]
            ],
            "type": "histogram2d"
           }
          ],
          "histogram2dcontour": [
           {
            "colorbar": {
             "outlinewidth": 0,
             "ticks": ""
            },
            "colorscale": [
             [
              0,
              "#0d0887"
             ],
             [
              0.1111111111111111,
              "#46039f"
             ],
             [
              0.2222222222222222,
              "#7201a8"
             ],
             [
              0.3333333333333333,
              "#9c179e"
             ],
             [
              0.4444444444444444,
              "#bd3786"
             ],
             [
              0.5555555555555556,
              "#d8576b"
             ],
             [
              0.6666666666666666,
              "#ed7953"
             ],
             [
              0.7777777777777778,
              "#fb9f3a"
             ],
             [
              0.8888888888888888,
              "#fdca26"
             ],
             [
              1,
              "#f0f921"
             ]
            ],
            "type": "histogram2dcontour"
           }
          ],
          "mesh3d": [
           {
            "colorbar": {
             "outlinewidth": 0,
             "ticks": ""
            },
            "type": "mesh3d"
           }
          ],
          "parcoords": [
           {
            "line": {
             "colorbar": {
              "outlinewidth": 0,
              "ticks": ""
             }
            },
            "type": "parcoords"
           }
          ],
          "pie": [
           {
            "automargin": true,
            "type": "pie"
           }
          ],
          "scatter": [
           {
            "fillpattern": {
             "fillmode": "overlay",
             "size": 10,
             "solidity": 0.2
            },
            "type": "scatter"
           }
          ],
          "scatter3d": [
           {
            "line": {
             "colorbar": {
              "outlinewidth": 0,
              "ticks": ""
             }
            },
            "marker": {
             "colorbar": {
              "outlinewidth": 0,
              "ticks": ""
             }
            },
            "type": "scatter3d"
           }
          ],
          "scattercarpet": [
           {
            "marker": {
             "colorbar": {
              "outlinewidth": 0,
              "ticks": ""
             }
            },
            "type": "scattercarpet"
           }
          ],
          "scattergeo": [
           {
            "marker": {
             "colorbar": {
              "outlinewidth": 0,
              "ticks": ""
             }
            },
            "type": "scattergeo"
           }
          ],
          "scattergl": [
           {
            "marker": {
             "colorbar": {
              "outlinewidth": 0,
              "ticks": ""
             }
            },
            "type": "scattergl"
           }
          ],
          "scattermapbox": [
           {
            "marker": {
             "colorbar": {
              "outlinewidth": 0,
              "ticks": ""
             }
            },
            "type": "scattermapbox"
           }
          ],
          "scatterpolar": [
           {
            "marker": {
             "colorbar": {
              "outlinewidth": 0,
              "ticks": ""
             }
            },
            "type": "scatterpolar"
           }
          ],
          "scatterpolargl": [
           {
            "marker": {
             "colorbar": {
              "outlinewidth": 0,
              "ticks": ""
             }
            },
            "type": "scatterpolargl"
           }
          ],
          "scatterternary": [
           {
            "marker": {
             "colorbar": {
              "outlinewidth": 0,
              "ticks": ""
             }
            },
            "type": "scatterternary"
           }
          ],
          "surface": [
           {
            "colorbar": {
             "outlinewidth": 0,
             "ticks": ""
            },
            "colorscale": [
             [
              0,
              "#0d0887"
             ],
             [
              0.1111111111111111,
              "#46039f"
             ],
             [
              0.2222222222222222,
              "#7201a8"
             ],
             [
              0.3333333333333333,
              "#9c179e"
             ],
             [
              0.4444444444444444,
              "#bd3786"
             ],
             [
              0.5555555555555556,
              "#d8576b"
             ],
             [
              0.6666666666666666,
              "#ed7953"
             ],
             [
              0.7777777777777778,
              "#fb9f3a"
             ],
             [
              0.8888888888888888,
              "#fdca26"
             ],
             [
              1,
              "#f0f921"
             ]
            ],
            "type": "surface"
           }
          ],
          "table": [
           {
            "cells": {
             "fill": {
              "color": "#EBF0F8"
             },
             "line": {
              "color": "white"
             }
            },
            "header": {
             "fill": {
              "color": "#C8D4E3"
             },
             "line": {
              "color": "white"
             }
            },
            "type": "table"
           }
          ]
         },
         "layout": {
          "annotationdefaults": {
           "arrowcolor": "#2a3f5f",
           "arrowhead": 0,
           "arrowwidth": 1
          },
          "autotypenumbers": "strict",
          "coloraxis": {
           "colorbar": {
            "outlinewidth": 0,
            "ticks": ""
           }
          },
          "colorscale": {
           "diverging": [
            [
             0,
             "#8e0152"
            ],
            [
             0.1,
             "#c51b7d"
            ],
            [
             0.2,
             "#de77ae"
            ],
            [
             0.3,
             "#f1b6da"
            ],
            [
             0.4,
             "#fde0ef"
            ],
            [
             0.5,
             "#f7f7f7"
            ],
            [
             0.6,
             "#e6f5d0"
            ],
            [
             0.7,
             "#b8e186"
            ],
            [
             0.8,
             "#7fbc41"
            ],
            [
             0.9,
             "#4d9221"
            ],
            [
             1,
             "#276419"
            ]
           ],
           "sequential": [
            [
             0,
             "#0d0887"
            ],
            [
             0.1111111111111111,
             "#46039f"
            ],
            [
             0.2222222222222222,
             "#7201a8"
            ],
            [
             0.3333333333333333,
             "#9c179e"
            ],
            [
             0.4444444444444444,
             "#bd3786"
            ],
            [
             0.5555555555555556,
             "#d8576b"
            ],
            [
             0.6666666666666666,
             "#ed7953"
            ],
            [
             0.7777777777777778,
             "#fb9f3a"
            ],
            [
             0.8888888888888888,
             "#fdca26"
            ],
            [
             1,
             "#f0f921"
            ]
           ],
           "sequentialminus": [
            [
             0,
             "#0d0887"
            ],
            [
             0.1111111111111111,
             "#46039f"
            ],
            [
             0.2222222222222222,
             "#7201a8"
            ],
            [
             0.3333333333333333,
             "#9c179e"
            ],
            [
             0.4444444444444444,
             "#bd3786"
            ],
            [
             0.5555555555555556,
             "#d8576b"
            ],
            [
             0.6666666666666666,
             "#ed7953"
            ],
            [
             0.7777777777777778,
             "#fb9f3a"
            ],
            [
             0.8888888888888888,
             "#fdca26"
            ],
            [
             1,
             "#f0f921"
            ]
           ]
          },
          "colorway": [
           "#636efa",
           "#EF553B",
           "#00cc96",
           "#ab63fa",
           "#FFA15A",
           "#19d3f3",
           "#FF6692",
           "#B6E880",
           "#FF97FF",
           "#FECB52"
          ],
          "font": {
           "color": "#2a3f5f"
          },
          "geo": {
           "bgcolor": "white",
           "lakecolor": "white",
           "landcolor": "#E5ECF6",
           "showlakes": true,
           "showland": true,
           "subunitcolor": "white"
          },
          "hoverlabel": {
           "align": "left"
          },
          "hovermode": "closest",
          "mapbox": {
           "style": "light"
          },
          "paper_bgcolor": "white",
          "plot_bgcolor": "#E5ECF6",
          "polar": {
           "angularaxis": {
            "gridcolor": "white",
            "linecolor": "white",
            "ticks": ""
           },
           "bgcolor": "#E5ECF6",
           "radialaxis": {
            "gridcolor": "white",
            "linecolor": "white",
            "ticks": ""
           }
          },
          "scene": {
           "xaxis": {
            "backgroundcolor": "#E5ECF6",
            "gridcolor": "white",
            "gridwidth": 2,
            "linecolor": "white",
            "showbackground": true,
            "ticks": "",
            "zerolinecolor": "white"
           },
           "yaxis": {
            "backgroundcolor": "#E5ECF6",
            "gridcolor": "white",
            "gridwidth": 2,
            "linecolor": "white",
            "showbackground": true,
            "ticks": "",
            "zerolinecolor": "white"
           },
           "zaxis": {
            "backgroundcolor": "#E5ECF6",
            "gridcolor": "white",
            "gridwidth": 2,
            "linecolor": "white",
            "showbackground": true,
            "ticks": "",
            "zerolinecolor": "white"
           }
          },
          "shapedefaults": {
           "line": {
            "color": "#2a3f5f"
           }
          },
          "ternary": {
           "aaxis": {
            "gridcolor": "white",
            "linecolor": "white",
            "ticks": ""
           },
           "baxis": {
            "gridcolor": "white",
            "linecolor": "white",
            "ticks": ""
           },
           "bgcolor": "#E5ECF6",
           "caxis": {
            "gridcolor": "white",
            "linecolor": "white",
            "ticks": ""
           }
          },
          "title": {
           "x": 0.05
          },
          "xaxis": {
           "automargin": true,
           "gridcolor": "white",
           "linecolor": "white",
           "ticks": "",
           "title": {
            "standoff": 15
           },
           "zerolinecolor": "white",
           "zerolinewidth": 2
          },
          "yaxis": {
           "automargin": true,
           "gridcolor": "white",
           "linecolor": "white",
           "ticks": "",
           "title": {
            "standoff": 15
           },
           "zerolinecolor": "white",
           "zerolinewidth": 2
          }
         }
        },
        "title": {
         "text": "DGI+ : 4.763448"
        },
        "xaxis": {
         "title": {
          "text": "Sense Features"
         }
        },
        "yaxis": {
         "title": {
          "text": "Dimensions"
         }
        }
       }
      },
      "text/html": [
       "<div>                            <div id=\"62cfd442-dff0-42cc-b2a4-3383938086e4\" class=\"plotly-graph-div\" style=\"height:525px; width:100%;\"></div>            <script type=\"text/javascript\">                require([\"plotly\"], function(Plotly) {                    window.PLOTLYENV=window.PLOTLYENV || {};                                    if (document.getElementById(\"62cfd442-dff0-42cc-b2a4-3383938086e4\")) {                    Plotly.newPlot(                        \"62cfd442-dff0-42cc-b2a4-3383938086e4\",                        [{\"x\":[\"Degree\",\"Clustering Coefficient\",\"Personalized Page Rank - Standard Deviation\",\"Average Neighbor Degree\",\"Average Neighbor Clustering\",\"Eccentricity\",\"Katz Centrality\"],\"z\":[[0.0,0.0,0.2349715679883957,0.0,0.0,0.23132289946079254,0.0],[0.0,0.0,0.0,0.0,0.0,0.0,0.0],[0.0,0.0,0.0,0.0,0.0,0.0,0.0],[0.0,0.0,0.0,0.0,0.0,0.0,0.0],[0.0,0.0,0.0,0.0,0.0,1.0,0.07257900387048721],[0.0,0.0,0.0,0.0,0.0,0.0,0.0],[0.0,0.0,0.0,0.0,0.0,0.0,0.0],[0.0,0.0,0.0,0.09328797459602356,0.0,0.0,0.0],[0.0,0.0,0.0,0.0,0.0,0.0,0.0],[0.0,0.0,0.0,0.0,0.1436331868171692,0.0,0.42539724707603455],[0.0,0.0,0.0,0.3605259954929352,0.0,0.0,0.0],[0.0,0.0,0.0,0.06676283478736877,0.0,0.0,0.0],[0.09357384592294693,0.0,0.0,0.170796737074852,0.0,0.0,0.0],[0.11869758367538452,0.0,0.0,0.0,0.0,0.0,0.0],[0.0,0.0,0.0,0.0,0.0,0.0,0.0],[0.0,0.0,0.0,0.0,0.0,0.0,0.0],[0.0,0.0,0.0,0.0,0.029483051970601082,0.0,0.0],[0.0,0.0,0.0,0.0,0.0,0.0,0.0],[0.0,0.0,0.15072348713874817,0.0,0.0,0.0,0.0012665351387113333],[0.0,0.0,0.0,0.0,0.0,0.0,0.0],[0.0,0.0,0.0,0.0,0.0,0.0,0.0],[0.0,0.0,0.0,0.0,0.0,0.0,0.0],[0.0,0.7996740937232971,0.0,0.2599281370639801,0.06551504135131836,0.0,0.0],[0.0,0.0,0.8687609434127808,0.097173310816288,0.0,0.0,0.08710259944200516],[0.0,0.0,0.0,0.0,0.0,0.0,0.0520971305668354],[0.5309278964996338,0.0,0.0,0.0,0.0,0.0,0.0],[0.0,0.0,0.0,0.0,0.0,0.0,0.0],[0.0,0.0,0.0,0.0,0.0,0.0,0.0],[0.0,0.0,0.0,0.0,0.0,0.0,0.0],[0.0,0.0,0.0,0.0,0.0,0.0,0.0],[0.0,0.0,0.3787182867527008,0.0,0.0,0.0,0.0],[0.0,0.0,0.0,0.0,0.14088955521583557,0.0,0.0],[0.0,0.0,0.0,0.0,0.0,0.0,0.0],[0.0,0.48069947957992554,0.0,0.0,0.20316681265830994,0.17722958326339722,0.0],[0.0,0.0,0.0,0.0,0.0,0.0,0.0],[0.0,0.0,0.0,0.0,0.0,0.0,0.0],[0.0,0.0,0.0,0.0,0.0,0.0,0.0],[0.0,0.0,0.0,0.0,0.0,0.045359790325164795,0.06644262373447418],[0.22918491065502167,0.0,0.0,0.0,0.0,0.0,0.0],[0.0,0.0,0.0,0.0,0.0,0.0,0.0],[0.0,0.0,0.0,0.0,0.0,0.0,0.0],[0.0,0.0,0.0,0.0,0.0,0.0,0.0],[0.0,0.0,0.0,0.0,0.0,0.0,0.0],[0.0,0.0,0.19223500788211823,0.0,0.0,0.0,0.0],[0.0,0.0,0.0,0.0,0.0,0.0,0.0],[0.0,0.0,0.0,0.0,0.0,0.0,0.0],[0.0,0.0,0.0,0.0,0.0,0.0,0.0],[0.05363715440034866,0.0,0.0,0.0,0.0,0.0,0.0],[0.0,0.0,0.0,0.0,0.0,0.0,0.0],[0.0,0.0,0.0,0.0,0.0,0.0,0.0],[0.0,0.0,0.0,0.0,0.0,0.0,0.0],[0.0,0.0,0.0,0.0,0.0,0.0,0.0],[0.0,0.0,0.0,0.0,0.0,0.0,0.0],[0.0,0.0,0.0,0.0,0.0,0.0,0.0],[0.0,0.0,0.0,0.0,0.0,0.0,0.0],[0.0,0.0,0.0,0.0,0.0,0.0,0.0],[0.0,0.0,0.0,0.0,0.0,0.0,0.0],[0.0,0.0,0.0,0.0,0.0,0.0,0.0],[0.0,0.09978308528661728,0.0,0.15679554641246796,0.05351993441581726,0.0,0.16255903244018555],[0.0,0.0,0.0,0.0,0.0,0.0,0.0],[0.0,0.0,0.0,0.0,0.0,0.0,0.0],[0.0,0.0,0.0,0.0,0.0,0.0,0.0],[0.0,0.0,0.0,0.0,0.0,0.0,0.0],[0.0,0.0,0.0,0.019351599738001823,0.0,0.0598783865571022,0.0]],\"type\":\"heatmap\"}],                        {\"template\":{\"data\":{\"histogram2dcontour\":[{\"type\":\"histogram2dcontour\",\"colorbar\":{\"outlinewidth\":0,\"ticks\":\"\"},\"colorscale\":[[0.0,\"#0d0887\"],[0.1111111111111111,\"#46039f\"],[0.2222222222222222,\"#7201a8\"],[0.3333333333333333,\"#9c179e\"],[0.4444444444444444,\"#bd3786\"],[0.5555555555555556,\"#d8576b\"],[0.6666666666666666,\"#ed7953\"],[0.7777777777777778,\"#fb9f3a\"],[0.8888888888888888,\"#fdca26\"],[1.0,\"#f0f921\"]]}],\"choropleth\":[{\"type\":\"choropleth\",\"colorbar\":{\"outlinewidth\":0,\"ticks\":\"\"}}],\"histogram2d\":[{\"type\":\"histogram2d\",\"colorbar\":{\"outlinewidth\":0,\"ticks\":\"\"},\"colorscale\":[[0.0,\"#0d0887\"],[0.1111111111111111,\"#46039f\"],[0.2222222222222222,\"#7201a8\"],[0.3333333333333333,\"#9c179e\"],[0.4444444444444444,\"#bd3786\"],[0.5555555555555556,\"#d8576b\"],[0.6666666666666666,\"#ed7953\"],[0.7777777777777778,\"#fb9f3a\"],[0.8888888888888888,\"#fdca26\"],[1.0,\"#f0f921\"]]}],\"heatmap\":[{\"type\":\"heatmap\",\"colorbar\":{\"outlinewidth\":0,\"ticks\":\"\"},\"colorscale\":[[0.0,\"#0d0887\"],[0.1111111111111111,\"#46039f\"],[0.2222222222222222,\"#7201a8\"],[0.3333333333333333,\"#9c179e\"],[0.4444444444444444,\"#bd3786\"],[0.5555555555555556,\"#d8576b\"],[0.6666666666666666,\"#ed7953\"],[0.7777777777777778,\"#fb9f3a\"],[0.8888888888888888,\"#fdca26\"],[1.0,\"#f0f921\"]]}],\"heatmapgl\":[{\"type\":\"heatmapgl\",\"colorbar\":{\"outlinewidth\":0,\"ticks\":\"\"},\"colorscale\":[[0.0,\"#0d0887\"],[0.1111111111111111,\"#46039f\"],[0.2222222222222222,\"#7201a8\"],[0.3333333333333333,\"#9c179e\"],[0.4444444444444444,\"#bd3786\"],[0.5555555555555556,\"#d8576b\"],[0.6666666666666666,\"#ed7953\"],[0.7777777777777778,\"#fb9f3a\"],[0.8888888888888888,\"#fdca26\"],[1.0,\"#f0f921\"]]}],\"contourcarpet\":[{\"type\":\"contourcarpet\",\"colorbar\":{\"outlinewidth\":0,\"ticks\":\"\"}}],\"contour\":[{\"type\":\"contour\",\"colorbar\":{\"outlinewidth\":0,\"ticks\":\"\"},\"colorscale\":[[0.0,\"#0d0887\"],[0.1111111111111111,\"#46039f\"],[0.2222222222222222,\"#7201a8\"],[0.3333333333333333,\"#9c179e\"],[0.4444444444444444,\"#bd3786\"],[0.5555555555555556,\"#d8576b\"],[0.6666666666666666,\"#ed7953\"],[0.7777777777777778,\"#fb9f3a\"],[0.8888888888888888,\"#fdca26\"],[1.0,\"#f0f921\"]]}],\"surface\":[{\"type\":\"surface\",\"colorbar\":{\"outlinewidth\":0,\"ticks\":\"\"},\"colorscale\":[[0.0,\"#0d0887\"],[0.1111111111111111,\"#46039f\"],[0.2222222222222222,\"#7201a8\"],[0.3333333333333333,\"#9c179e\"],[0.4444444444444444,\"#bd3786\"],[0.5555555555555556,\"#d8576b\"],[0.6666666666666666,\"#ed7953\"],[0.7777777777777778,\"#fb9f3a\"],[0.8888888888888888,\"#fdca26\"],[1.0,\"#f0f921\"]]}],\"mesh3d\":[{\"type\":\"mesh3d\",\"colorbar\":{\"outlinewidth\":0,\"ticks\":\"\"}}],\"scatter\":[{\"fillpattern\":{\"fillmode\":\"overlay\",\"size\":10,\"solidity\":0.2},\"type\":\"scatter\"}],\"parcoords\":[{\"type\":\"parcoords\",\"line\":{\"colorbar\":{\"outlinewidth\":0,\"ticks\":\"\"}}}],\"scatterpolargl\":[{\"type\":\"scatterpolargl\",\"marker\":{\"colorbar\":{\"outlinewidth\":0,\"ticks\":\"\"}}}],\"bar\":[{\"error_x\":{\"color\":\"#2a3f5f\"},\"error_y\":{\"color\":\"#2a3f5f\"},\"marker\":{\"line\":{\"color\":\"#E5ECF6\",\"width\":0.5},\"pattern\":{\"fillmode\":\"overlay\",\"size\":10,\"solidity\":0.2}},\"type\":\"bar\"}],\"scattergeo\":[{\"type\":\"scattergeo\",\"marker\":{\"colorbar\":{\"outlinewidth\":0,\"ticks\":\"\"}}}],\"scatterpolar\":[{\"type\":\"scatterpolar\",\"marker\":{\"colorbar\":{\"outlinewidth\":0,\"ticks\":\"\"}}}],\"histogram\":[{\"marker\":{\"pattern\":{\"fillmode\":\"overlay\",\"size\":10,\"solidity\":0.2}},\"type\":\"histogram\"}],\"scattergl\":[{\"type\":\"scattergl\",\"marker\":{\"colorbar\":{\"outlinewidth\":0,\"ticks\":\"\"}}}],\"scatter3d\":[{\"type\":\"scatter3d\",\"line\":{\"colorbar\":{\"outlinewidth\":0,\"ticks\":\"\"}},\"marker\":{\"colorbar\":{\"outlinewidth\":0,\"ticks\":\"\"}}}],\"scattermapbox\":[{\"type\":\"scattermapbox\",\"marker\":{\"colorbar\":{\"outlinewidth\":0,\"ticks\":\"\"}}}],\"scatterternary\":[{\"type\":\"scatterternary\",\"marker\":{\"colorbar\":{\"outlinewidth\":0,\"ticks\":\"\"}}}],\"scattercarpet\":[{\"type\":\"scattercarpet\",\"marker\":{\"colorbar\":{\"outlinewidth\":0,\"ticks\":\"\"}}}],\"carpet\":[{\"aaxis\":{\"endlinecolor\":\"#2a3f5f\",\"gridcolor\":\"white\",\"linecolor\":\"white\",\"minorgridcolor\":\"white\",\"startlinecolor\":\"#2a3f5f\"},\"baxis\":{\"endlinecolor\":\"#2a3f5f\",\"gridcolor\":\"white\",\"linecolor\":\"white\",\"minorgridcolor\":\"white\",\"startlinecolor\":\"#2a3f5f\"},\"type\":\"carpet\"}],\"table\":[{\"cells\":{\"fill\":{\"color\":\"#EBF0F8\"},\"line\":{\"color\":\"white\"}},\"header\":{\"fill\":{\"color\":\"#C8D4E3\"},\"line\":{\"color\":\"white\"}},\"type\":\"table\"}],\"barpolar\":[{\"marker\":{\"line\":{\"color\":\"#E5ECF6\",\"width\":0.5},\"pattern\":{\"fillmode\":\"overlay\",\"size\":10,\"solidity\":0.2}},\"type\":\"barpolar\"}],\"pie\":[{\"automargin\":true,\"type\":\"pie\"}]},\"layout\":{\"autotypenumbers\":\"strict\",\"colorway\":[\"#636efa\",\"#EF553B\",\"#00cc96\",\"#ab63fa\",\"#FFA15A\",\"#19d3f3\",\"#FF6692\",\"#B6E880\",\"#FF97FF\",\"#FECB52\"],\"font\":{\"color\":\"#2a3f5f\"},\"hovermode\":\"closest\",\"hoverlabel\":{\"align\":\"left\"},\"paper_bgcolor\":\"white\",\"plot_bgcolor\":\"#E5ECF6\",\"polar\":{\"bgcolor\":\"#E5ECF6\",\"angularaxis\":{\"gridcolor\":\"white\",\"linecolor\":\"white\",\"ticks\":\"\"},\"radialaxis\":{\"gridcolor\":\"white\",\"linecolor\":\"white\",\"ticks\":\"\"}},\"ternary\":{\"bgcolor\":\"#E5ECF6\",\"aaxis\":{\"gridcolor\":\"white\",\"linecolor\":\"white\",\"ticks\":\"\"},\"baxis\":{\"gridcolor\":\"white\",\"linecolor\":\"white\",\"ticks\":\"\"},\"caxis\":{\"gridcolor\":\"white\",\"linecolor\":\"white\",\"ticks\":\"\"}},\"coloraxis\":{\"colorbar\":{\"outlinewidth\":0,\"ticks\":\"\"}},\"colorscale\":{\"sequential\":[[0.0,\"#0d0887\"],[0.1111111111111111,\"#46039f\"],[0.2222222222222222,\"#7201a8\"],[0.3333333333333333,\"#9c179e\"],[0.4444444444444444,\"#bd3786\"],[0.5555555555555556,\"#d8576b\"],[0.6666666666666666,\"#ed7953\"],[0.7777777777777778,\"#fb9f3a\"],[0.8888888888888888,\"#fdca26\"],[1.0,\"#f0f921\"]],\"sequentialminus\":[[0.0,\"#0d0887\"],[0.1111111111111111,\"#46039f\"],[0.2222222222222222,\"#7201a8\"],[0.3333333333333333,\"#9c179e\"],[0.4444444444444444,\"#bd3786\"],[0.5555555555555556,\"#d8576b\"],[0.6666666666666666,\"#ed7953\"],[0.7777777777777778,\"#fb9f3a\"],[0.8888888888888888,\"#fdca26\"],[1.0,\"#f0f921\"]],\"diverging\":[[0,\"#8e0152\"],[0.1,\"#c51b7d\"],[0.2,\"#de77ae\"],[0.3,\"#f1b6da\"],[0.4,\"#fde0ef\"],[0.5,\"#f7f7f7\"],[0.6,\"#e6f5d0\"],[0.7,\"#b8e186\"],[0.8,\"#7fbc41\"],[0.9,\"#4d9221\"],[1,\"#276419\"]]},\"xaxis\":{\"gridcolor\":\"white\",\"linecolor\":\"white\",\"ticks\":\"\",\"title\":{\"standoff\":15},\"zerolinecolor\":\"white\",\"automargin\":true,\"zerolinewidth\":2},\"yaxis\":{\"gridcolor\":\"white\",\"linecolor\":\"white\",\"ticks\":\"\",\"title\":{\"standoff\":15},\"zerolinecolor\":\"white\",\"automargin\":true,\"zerolinewidth\":2},\"scene\":{\"xaxis\":{\"backgroundcolor\":\"#E5ECF6\",\"gridcolor\":\"white\",\"linecolor\":\"white\",\"showbackground\":true,\"ticks\":\"\",\"zerolinecolor\":\"white\",\"gridwidth\":2},\"yaxis\":{\"backgroundcolor\":\"#E5ECF6\",\"gridcolor\":\"white\",\"linecolor\":\"white\",\"showbackground\":true,\"ticks\":\"\",\"zerolinecolor\":\"white\",\"gridwidth\":2},\"zaxis\":{\"backgroundcolor\":\"#E5ECF6\",\"gridcolor\":\"white\",\"linecolor\":\"white\",\"showbackground\":true,\"ticks\":\"\",\"zerolinecolor\":\"white\",\"gridwidth\":2}},\"shapedefaults\":{\"line\":{\"color\":\"#2a3f5f\"}},\"annotationdefaults\":{\"arrowcolor\":\"#2a3f5f\",\"arrowhead\":0,\"arrowwidth\":1},\"geo\":{\"bgcolor\":\"white\",\"landcolor\":\"#E5ECF6\",\"subunitcolor\":\"white\",\"showland\":true,\"showlakes\":true,\"lakecolor\":\"white\"},\"title\":{\"x\":0.05},\"mapbox\":{\"style\":\"light\"}}},\"title\":{\"text\":\"DGI+ : 4.763448\"},\"xaxis\":{\"title\":{\"text\":\"Sense Features\"}},\"yaxis\":{\"title\":{\"text\":\"Dimensions\"}}},                        {\"responsive\": true}                    ).then(function(){\n",
       "                            \n",
       "var gd = document.getElementById('62cfd442-dff0-42cc-b2a4-3383938086e4');\n",
       "var x = new MutationObserver(function (mutations, observer) {{\n",
       "        var display = window.getComputedStyle(gd).display;\n",
       "        if (!display || display === 'none') {{\n",
       "            console.log([gd, 'removed!']);\n",
       "            Plotly.purge(gd);\n",
       "            observer.disconnect();\n",
       "        }}\n",
       "}});\n",
       "\n",
       "// Listen for the removal of the full notebook cells\n",
       "var notebookContainer = gd.closest('#notebook-container');\n",
       "if (notebookContainer) {{\n",
       "    x.observe(notebookContainer, {childList: true});\n",
       "}}\n",
       "\n",
       "// Listen for the clearing of the current output cell\n",
       "var outputEl = gd.closest('.output');\n",
       "if (outputEl) {{\n",
       "    x.observe(outputEl, {childList: true});\n",
       "}}\n",
       "\n",
       "                        })                };                });            </script>        </div>"
      ]
     },
     "metadata": {},
     "output_type": "display_data"
    }
   ],
   "source": [
    "fig = go.Figure()\n",
    "fig.add_trace(go.Heatmap(z = explain_og,\n",
    "                         x = list(sense_feat_dict), \n",
    "                         ))\n",
    "fig.update_layout(title_text = 'DGI : ' + str(np.linalg.norm(explain_og, ord = 'nuc')), \n",
    "                  xaxis_title_text = 'Sense Features', \n",
    "                  yaxis_title_text = 'Dimensions')\n",
    "\n",
    "fig.show()\n",
    "\n",
    "fig = go.Figure()\n",
    "fig.add_trace(go.Heatmap(z = explain_plus,\n",
    "                         x = list(sense_feat_dict), \n",
    "                         ))\n",
    "fig.update_layout(title_text = 'DGI+ : ' + str(np.linalg.norm(explain_plus, ord = 'nuc')), \n",
    "                  xaxis_title_text = 'Sense Features', \n",
    "                  yaxis_title_text = 'Dimensions')\n",
    "\n",
    "fig.show()"
   ]
  },
  {
   "cell_type": "code",
   "execution_count": 65,
   "id": "abca7a2d",
   "metadata": {},
   "outputs": [],
   "source": [
    "Y_plus = embed_plus\n",
    "sense_mat = tf.einsum('ij, ik -> ijk', Y_plus, sense_features)\n",
    "Y_plus_norm = tf.linalg.diag_part(tf.matmul(Y_plus, Y_plus, transpose_b = True), k = 0)\n",
    "sense_norm = tf.linalg.diag_part(tf.matmul(sense_features, sense_features, transpose_b = True), k = 0)\n",
    "norm = Y_plus_norm * tf.cast(sense_norm, tf.float32)\n",
    "D_plus = tf.transpose(tf.transpose(sense_mat) / norm)\n",
    "D_plus = (D_plus - tf.reshape(tf.reduce_min(D_plus, axis = [-1, -2]), (-1, 1, 1))) / tf.reshape(tf.reduce_max(D_plus, axis = [-1, -2]) - tf.reduce_min(D_plus, axis = [-1, -2]), (-1, 1, 1))\n",
    "\n",
    "\n",
    "Y_og = embed_og\n",
    "sense_mat = tf.einsum('ij, ik -> ijk', Y_og, sense_features)\n",
    "Y_og_norm = tf.linalg.diag_part(tf.matmul(Y_og, Y_og, transpose_b = True), k = 0)\n",
    "sense_norm = tf.linalg.diag_part(tf.matmul(sense_features, sense_features, transpose_b = True), k = 0)\n",
    "norm = Y_og_norm * tf.cast(sense_norm, tf.float32)\n",
    "D_og = tf.transpose(tf.transpose(sense_mat) / norm)\n",
    "D_og = (D_og - tf.reshape(tf.reduce_min(D_og, axis = [-1, -2]), (-1, 1, 1))) / tf.reshape(tf.reduce_max(D_og, axis = [-1, -2]) - tf.reduce_min(D_og, axis = [-1, -2]), (-1, 1, 1))\n"
   ]
  },
  {
   "cell_type": "code",
   "execution_count": null,
   "id": "2af401f1",
   "metadata": {},
   "outputs": [],
   "source": [
    "\n"
   ]
  },
  {
   "cell_type": "code",
   "execution_count": 66,
   "id": "e3846d67",
   "metadata": {},
   "outputs": [
    {
     "name": "stderr",
     "output_type": "stream",
     "text": [
      "100%|████████████████████████████████████████| 986/986 [00:01<00:00, 898.60it/s]\n",
      "100%|████████████████████████████████████████| 986/986 [00:01<00:00, 930.71it/s]\n"
     ]
    }
   ],
   "source": [
    "norm_og = [np.linalg.norm(D_og[node, :, :], ord = 'nuc') for node in tqdm(range(len(graph)))]\n",
    "norm_plus = [np.linalg.norm(D_plus[node, :, :], ord = 'nuc') for node in tqdm(range(len(graph)))]\n",
    "\n"
   ]
  },
  {
   "cell_type": "code",
   "execution_count": 67,
   "id": "8355ca29",
   "metadata": {},
   "outputs": [
    {
     "data": {
      "application/vnd.plotly.v1+json": {
       "config": {
        "plotlyServerURL": "https://plot.ly"
       },
       "data": [
        {
         "type": "histogram",
         "x": [
          1.1201448440551758,
          1.0523416996002197,
          0.3544158935546875,
          0.7631750106811523,
          0.43084096908569336,
          -0.1128993034362793,
          0.24391746520996094,
          0.39040279388427734,
          1.4171924591064453,
          0.6730608940124512,
          1.5800909996032715,
          0.4790186882019043,
          0.8515584468841553,
          -0.08099675178527832,
          0.6649494171142578,
          0.8768856525421143,
          0.8750357627868652,
          0.5468649864196777,
          1.2723109722137451,
          0.8638577461242676,
          0.7920427322387695,
          0.3577537536621094,
          2.128770589828491,
          0.8381156921386719,
          0.609553337097168,
          1.6836178302764893,
          1.316760778427124,
          0.5195379257202148,
          0.7538375854492188,
          1.1788713932037354,
          0.9983940124511719,
          1.4301011562347412,
          1.420137643814087,
          1.4624066352844238,
          1.451075553894043,
          1.1809241771697998,
          1.782879114151001,
          0.9169704914093018,
          1.0437896251678467,
          1.669095516204834,
          0.6132419109344482,
          0.7850832939147949,
          1.2127223014831543,
          1.6918747425079346,
          0.4031524658203125,
          0.8931043148040771,
          1.1347260475158691,
          1.3615903854370117,
          0.827221155166626,
          1.5018260478973389,
          1.627495527267456,
          0.7092025279998779,
          1.2832937240600586,
          1.6955761909484863,
          0.9675381183624268,
          1.1623032093048096,
          0.7218153476715088,
          0.416187047958374,
          0.46709632873535156,
          0.6501080989837646,
          0.7869768142700195,
          0.5947351455688477,
          -0.1015462875366211,
          0.25977110862731934,
          0.09330630302429199,
          0.19684314727783203,
          0.7870216369628906,
          3.1913719177246094,
          1.784388542175293,
          0.5568094253540039,
          1.8517937660217285,
          1.2743616104125977,
          2.428112030029297,
          1.4169669151306152,
          0.4131662845611572,
          1.683439016342163,
          1.5629503726959229,
          2.0970983505249023,
          2.2717905044555664,
          1.3139703273773193,
          0.9328997135162354,
          0.6315479278564453,
          -0.23331618309020996,
          0.4116082191467285,
          -0.11555814743041992,
          0.8727455139160156,
          -0.18167972564697266,
          0.4753594398498535,
          1.2645673751831055,
          0.6249082088470459,
          2.169752597808838,
          0.9969258308410645,
          0.7280492782592773,
          0.6247270107269287,
          1.1434166431427002,
          1.3597640991210938,
          0.05423140525817871,
          1.0013480186462402,
          1.4370527267456055,
          1.5361790657043457,
          0.711353063583374,
          1.2201902866363525,
          1.3180699348449707,
          1.0110597610473633,
          1.4176852703094482,
          0.5357437133789062,
          0.28644704818725586,
          -0.17952942848205566,
          0.7227888107299805,
          3.3469743728637695,
          1.5054376125335693,
          1.651545524597168,
          1.3383238315582275,
          0.5903356075286865,
          0.3541560173034668,
          0.4402785301208496,
          0.6968235969543457,
          2.421891450881958,
          1.573157787322998,
          1.86993408203125,
          1.7903149127960205,
          -0.1343843936920166,
          1.3692190647125244,
          1.3995802402496338,
          0.6198704242706299,
          1.0226223468780518,
          1.3759691715240479,
          2.185215711593628,
          0.3946647644042969,
          0.2629365921020508,
          1.3565564155578613,
          0.89540696144104,
          1.3903827667236328,
          0.5691554546356201,
          0.873645544052124,
          1.6583914756774902,
          1.7563226222991943,
          0.6188373565673828,
          1.5556519031524658,
          0.9662303924560547,
          0.811011791229248,
          0.45682406425476074,
          0.48250818252563477,
          1.2334868907928467,
          2.382748603820801,
          1.2206230163574219,
          1.4214468002319336,
          2.120150327682495,
          1.4902846813201904,
          1.2785415649414062,
          1.3265748023986816,
          1.4222559928894043,
          1.2078590393066406,
          1.8642127513885498,
          1.6888017654418945,
          0.6064872741699219,
          1.328071117401123,
          0.17836761474609375,
          0.8965435028076172,
          1.2067182064056396,
          -0.4663214683532715,
          1.3351516723632812,
          0.729851484298706,
          1.1003308296203613,
          0.7906758785247803,
          0.41131591796875,
          0.08891654014587402,
          0.5826528072357178,
          0.7367258071899414,
          0.7842140197753906,
          0.5782666206359863,
          1.563835620880127,
          0.8335380554199219,
          0.9009549617767334,
          1.0128271579742432,
          2.3350441455841064,
          1.192211627960205,
          0.8578283786773682,
          1.0253205299377441,
          0.9485697746276855,
          0.5930476188659668,
          0.5619168281555176,
          0.6081998348236084,
          0.22499704360961914,
          0.7307519912719727,
          0.5536634922027588,
          1.751119613647461,
          1.9764490127563477,
          2.123169422149658,
          0.1936509609222412,
          2.743858575820923,
          0.40655064582824707,
          1.2535388469696045,
          1.2594611644744873,
          0.9018459320068359,
          1.2838289737701416,
          1.5162394046783447,
          1.5709192752838135,
          1.2436120510101318,
          1.0244905948638916,
          1.3739902973175049,
          1.374732255935669,
          2.3488824367523193,
          1.748960018157959,
          1.4720518589019775,
          1.3463468551635742,
          0.6518270969390869,
          1.7532908916473389,
          1.041466236114502,
          0.46772193908691406,
          1.2947587966918945,
          0.11714577674865723,
          0.6071507930755615,
          0.5308756828308105,
          1.3806066513061523,
          0.7349948883056641,
          1.726311445236206,
          1.1839277744293213,
          0.6755938529968262,
          3.1228814125061035,
          2.545152425765991,
          1.1696898937225342,
          0.7316741943359375,
          1.2411742210388184,
          2.550006866455078,
          1.959404468536377,
          1.3447206020355225,
          2.0080220699310303,
          2.308858633041382,
          1.4903676509857178,
          2.4503655433654785,
          0.6272006034851074,
          0.4120323657989502,
          1.11043119430542,
          0.8148045539855957,
          1.6591055393218994,
          1.5396466255187988,
          1.205122709274292,
          0.8359429836273193,
          2.739280939102173,
          1.628357172012329,
          1.4607808589935303,
          1.1919457912445068,
          0.9485719203948975,
          1.9388210773468018,
          1.1033947467803955,
          1.371392011642456,
          1.6161751747131348,
          1.2935502529144287,
          0.46027040481567383,
          1.532386302947998,
          1.540031909942627,
          0.3108539581298828,
          1.9415850639343262,
          1.0165653228759766,
          1.5491743087768555,
          0.5244483947753906,
          1.8364229202270508,
          0.4481947422027588,
          1.1587519645690918,
          1.5841379165649414,
          1.2688937187194824,
          1.0148169994354248,
          1.0204973220825195,
          1.090000867843628,
          0.7008543014526367,
          1.0402553081512451,
          1.2760775089263916,
          1.711158275604248,
          0.7222504615783691,
          2.348942279815674,
          0.8204061985015869,
          0.6422789096832275,
          1.1845133304595947,
          1.671966314315796,
          1.1319646835327148,
          2.1999123096466064,
          1.7244887351989746,
          1.0977041721343994,
          2.553967237472534,
          0.6638145446777344,
          1.02211332321167,
          0.37621450424194336,
          0.3730602264404297,
          1.0448343753814697,
          0.39228034019470215,
          1.1618614196777344,
          2.0034821033477783,
          1.0929055213928223,
          2.464404821395874,
          0.7369050979614258,
          1.5670032501220703,
          1.811614751815796,
          1.7147998809814453,
          1.6834425926208496,
          0.1169443130493164,
          1.0536231994628906,
          1.3578228950500488,
          1.9361684322357178,
          0.9596602916717529,
          0.7801687717437744,
          0.17301464080810547,
          2.5961251258850098,
          0.6195592880249023,
          1.5402846336364746,
          0.5053062438964844,
          1.1598050594329834,
          1.5149965286254883,
          1.7246580123901367,
          0.703441858291626,
          1.9911813735961914,
          1.2592315673828125,
          1.9785308837890625,
          1.4244961738586426,
          1.357903003692627,
          2.658947467803955,
          0.797741174697876,
          1.4488277435302734,
          1.200995922088623,
          1.5210692882537842,
          0.8646590709686279,
          0.7437610626220703,
          0.5994203090667725,
          1.0286424160003662,
          1.6165707111358643,
          1.6233243942260742,
          1.9069914817810059,
          1.5338306427001953,
          1.6845309734344482,
          0.6316890716552734,
          1.7795772552490234,
          1.5956571102142334,
          1.1427850723266602,
          0.24117755889892578,
          1.1553831100463867,
          0.6084303855895996,
          1.6052799224853516,
          1.8948020935058594,
          0.7714178562164307,
          0.7737271785736084,
          0.3896207809448242,
          1.8651258945465088,
          0.4911234378814697,
          1.9091377258300781,
          1.6010541915893555,
          1.5237770080566406,
          2.284931182861328,
          1.7335741519927979,
          1.4645183086395264,
          1.1398301124572754,
          1.238558292388916,
          1.1665081977844238,
          1.4908668994903564,
          0.42601823806762695,
          1.427887201309204,
          2.037466287612915,
          1.730637550354004,
          1.776331901550293,
          0.5022459030151367,
          0.9089207649230957,
          1.4080493450164795,
          1.4463324546813965,
          1.366464376449585,
          1.3138842582702637,
          3.0239226818084717,
          0.7118675708770752,
          0.42280101776123047,
          1.4148826599121094,
          1.3465750217437744,
          1.9209620952606201,
          1.164257526397705,
          1.1780829429626465,
          1.8588032722473145,
          0.9453718662261963,
          1.342458724975586,
          0.5805613994598389,
          0.7474009990692139,
          -0.19378328323364258,
          1.5115532875061035,
          0.3378331661224365,
          1.0917251110076904,
          1.2165133953094482,
          1.9000704288482666,
          1.5038950443267822,
          2.088228464126587,
          1.530874490737915,
          2.566775321960449,
          0.8132104873657227,
          1.5524797439575195,
          0.9042012691497803,
          0.9395205974578857,
          1.7126309871673584,
          1.5209951400756836,
          0.574404239654541,
          1.1409974098205566,
          1.4103493690490723,
          1.7085442543029785,
          1.0734801292419434,
          1.7756946086883545,
          2.3512868881225586,
          1.7912797927856445,
          0.2676243782043457,
          1.8114466667175293,
          1.9866039752960205,
          0.6360235214233398,
          0.3388986587524414,
          1.0779929161071777,
          1.3426079750061035,
          0.748786211013794,
          0.37813568115234375,
          2.51499605178833,
          0.05762481689453125,
          0.29286718368530273,
          1.5739545822143555,
          0.41625261306762695,
          1.612999439239502,
          2.5007073879241943,
          0.899451494216919,
          1.7990148067474365,
          0.44910764694213867,
          0.282442569732666,
          0.813887357711792,
          1.7040834426879883,
          1.440502643585205,
          0.46434569358825684,
          0.19785332679748535,
          1.0636286735534668,
          1.4839963912963867,
          1.1139302253723145,
          1.1607823371887207,
          1.2828187942504883,
          1.939159870147705,
          1.5585768222808838,
          0.9363656044006348,
          0.2786674499511719,
          1.36543869972229,
          1.6053776741027832,
          0.9870669841766357,
          0.6879048347473145,
          1.6093604564666748,
          0.6551296710968018,
          1.1827757358551025,
          1.4851057529449463,
          0.7720146179199219,
          1.515465259552002,
          1.974710464477539,
          1.314316987991333,
          0.8422160148620605,
          0.7890942096710205,
          1.3989522457122803,
          0.853945255279541,
          1.7644963264465332,
          0.8400530815124512,
          2.2056586742401123,
          3.038818597793579,
          0.6588454246520996,
          1.094656229019165,
          1.8466567993164062,
          1.36747145652771,
          0.7037017345428467,
          1.0130877494812012,
          0.9615707397460938,
          1.497136116027832,
          1.6395587921142578,
          1.1707713603973389,
          1.9750785827636719,
          0.38928914070129395,
          2.878577709197998,
          2.5288848876953125,
          1.7698290348052979,
          1.2431674003601074,
          2.8054354190826416,
          1.8667621612548828,
          0.5398938655853271,
          0.8936598300933838,
          2.413400411605835,
          1.8228189945220947,
          1.4157400131225586,
          0.8370871543884277,
          1.8522019386291504,
          1.4607465267181396,
          1.2420094013214111,
          0.865546703338623,
          1.2369327545166016,
          2.174736976623535,
          1.3065898418426514,
          0.8520441055297852,
          1.192065954208374,
          1.7913594245910645,
          2.0311450958251953,
          2.086651563644409,
          1.2288763523101807,
          2.5171189308166504,
          0.6730546951293945,
          0.40533947944641113,
          1.05491304397583,
          1.6093223094940186,
          1.9150807857513428,
          0.22012615203857422,
          0.4573047161102295,
          1.443326711654663,
          2.230311632156372,
          1.2920479774475098,
          1.8447599411010742,
          0.8809738159179688,
          1.9811522960662842,
          0.7308168411254883,
          2.1904420852661133,
          1.5147244930267334,
          0.4916527271270752,
          1.786085844039917,
          1.2658939361572266,
          2.3391966819763184,
          0.957813024520874,
          1.6791810989379883,
          1.1618099212646484,
          1.648542881011963,
          1.575230598449707,
          0.9299888610839844,
          1.422046184539795,
          0.9621293544769287,
          1.0203773975372314,
          1.6151988506317139,
          0.8936789035797119,
          1.942957878112793,
          0.5868749618530273,
          0.7846825122833252,
          1.9105653762817383,
          1.965205192565918,
          1.1052207946777344,
          2.1142184734344482,
          1.511786937713623,
          1.7570390701293945,
          0.17640948295593262,
          2.1930758953094482,
          2.02842378616333,
          2.1466751098632812,
          1.0204601287841797,
          1.6214065551757812,
          2.435443162918091,
          2.7504348754882812,
          2.121305227279663,
          1.72123384475708,
          1.1127018928527832,
          1.6217570304870605,
          1.415069818496704,
          0.4421665668487549,
          1.558302402496338,
          1.998103380203247,
          0.18615341186523438,
          2.3627660274505615,
          2.279906749725342,
          1.437058687210083,
          1.288628101348877,
          1.6889853477478027,
          2.1326446533203125,
          2.278643846511841,
          2.5480782985687256,
          1.4034423828125,
          2.0474584102630615,
          0.6922914981842041,
          2.0425238609313965,
          1.339463472366333,
          1.2585251331329346,
          1.0878980159759521,
          1.4936695098876953,
          1.1721477508544922,
          1.1922516822814941,
          1.8225200176239014,
          0.739924430847168,
          1.3054101467132568,
          2.278447389602661,
          1.6869127750396729,
          1.814781665802002,
          2.125560760498047,
          2.2726633548736572,
          3.481717586517334,
          2.157444953918457,
          1.9408488273620605,
          1.2732234001159668,
          1.344541311264038,
          2.5819613933563232,
          1.8442764282226562,
          1.698110580444336,
          1.792116403579712,
          1.9268782138824463,
          2.028933525085449,
          1.5435237884521484,
          2.638977289199829,
          1.6205050945281982,
          2.8178818225860596,
          0.4965050220489502,
          1.0227594375610352,
          2.26944899559021,
          2.2110114097595215,
          2.1472556591033936,
          1.7961888313293457,
          1.3734030723571777,
          1.9590682983398438,
          1.9560096263885498,
          2.1358556747436523,
          1.6335370540618896,
          1.3989522457122803,
          2.9964287281036377,
          1.0722408294677734,
          2.4254584312438965,
          1.7148206233978271,
          1.1398138999938965,
          1.8879828453063965,
          1.6904640197753906,
          2.428471088409424,
          0.9667360782623291,
          1.2910535335540771,
          1.5884511470794678,
          0.8472566604614258,
          2.476383686065674,
          2.295260190963745,
          1.2655916213989258,
          2.2960710525512695,
          1.0759236812591553,
          1.718548059463501,
          1.9340367317199707,
          1.3850805759429932,
          2.3992061614990234,
          2.278273344039917,
          1.9374744892120361,
          2.2608985900878906,
          1.448451280593872,
          2.3996243476867676,
          1.086991548538208,
          1.2487213611602783,
          1.1077876091003418,
          1.4139630794525146,
          1.9350168704986572,
          1.3439171314239502,
          1.4256584644317627,
          1.2913408279418945,
          2.264294147491455,
          1.394603967666626,
          1.8360390663146973,
          2.7075209617614746,
          2.0623905658721924,
          2.1754274368286133,
          1.6719779968261719,
          1.2890808582305908,
          2.745304822921753,
          1.964590311050415,
          2.2309203147888184,
          1.7212822437286377,
          2.9278948307037354,
          1.175755500793457,
          1.5970735549926758,
          2.0888078212738037,
          2.1165173053741455,
          1.3016362190246582,
          0.942420482635498,
          1.986539602279663,
          1.800178050994873,
          2.1303889751434326,
          1.9053404331207275,
          1.7986376285552979,
          1.7962932586669922,
          2.502095937728882,
          1.6691327095031738,
          1.4750585556030273,
          2.214301824569702,
          1.4261493682861328,
          1.5072214603424072,
          2.206620454788208,
          1.2607481479644775,
          1.7299466133117676,
          2.096945285797119,
          2.310969114303589,
          1.3398568630218506,
          1.5752894878387451,
          1.6509349346160889,
          0.7906038761138916,
          2.7614970207214355,
          2.4357314109802246,
          2.0418572425842285,
          1.780958652496338,
          2.732667922973633,
          2.7077503204345703,
          2.3495349884033203,
          2.0443122386932373,
          1.5403504371643066,
          1.7726733684539795,
          1.1966400146484375,
          1.235985279083252,
          1.2026493549346924,
          0.9291205406188965,
          2.0425238609313965,
          1.3037450313568115,
          1.1823325157165527,
          2.4871580600738525,
          1.7285957336425781,
          0.6738507747650146,
          1.419762134552002,
          1.6377346515655518,
          1.7722203731536865,
          2.0266764163970947,
          1.7784643173217773,
          2.18857741355896,
          2.50797438621521,
          1.226517677307129,
          2.3847947120666504,
          2.0489959716796875,
          1.584029197692871,
          1.117490291595459,
          1.4518580436706543,
          2.200493335723877,
          1.0521111488342285,
          1.3138439655303955,
          1.9684135913848877,
          2.7982871532440186,
          2.747116804122925,
          1.6565611362457275,
          2.9364538192749023,
          2.277435541152954,
          0.9157757759094238,
          2.2367358207702637,
          1.7850940227508545,
          2.2054641246795654,
          1.6970343589782715,
          1.345395565032959,
          3.3410282135009766,
          3.015878200531006,
          1.4626641273498535,
          1.6988525390625,
          1.1023290157318115,
          1.924795389175415,
          1.9096534252166748,
          2.0719001293182373,
          2.9016976356506348,
          2.39693284034729,
          2.3209762573242188,
          2.9693267345428467,
          1.169595718383789,
          1.1973156929016113,
          1.6434516906738281,
          1.5466275215148926,
          1.4114062786102295,
          2.2442307472229004,
          2.198096513748169,
          2.405578136444092,
          2.5034337043762207,
          2.1110281944274902,
          1.226517677307129,
          2.3660011291503906,
          1.6833233833312988,
          1.0391550064086914,
          3.014719009399414,
          1.1959824562072754,
          2.007765769958496,
          2.1076924800872803,
          2.6443583965301514,
          1.6235816478729248,
          2.0729994773864746,
          1.7479338645935059,
          1.3116352558135986,
          1.4391958713531494,
          2.9868052005767822,
          2.729177236557007,
          1.5153789520263672,
          2.161109447479248,
          1.684227466583252,
          2.6322853565216064,
          1.6022844314575195,
          2.1800711154937744,
          2.0951180458068848,
          1.8945229053497314,
          1.3998610973358154,
          1.997661828994751,
          2.1510009765625,
          2.4413490295410156,
          0.8851757049560547,
          2.084157705307007,
          1.5173134803771973,
          2.315624713897705,
          1.8407342433929443,
          2.0860440731048584,
          2.421478033065796,
          2.836972236633301,
          1.255965232849121,
          1.6985726356506348,
          1.32564377784729,
          1.7698948383331299,
          2.284564971923828,
          1.5383470058441162,
          2.710561752319336,
          0.9696214199066162,
          1.7472577095031738,
          2.197859048843384,
          0.6400749683380127,
          0.9607610702514648,
          2.0575578212738037,
          1.7939200401306152,
          1.3439290523529053,
          1.8299634456634521,
          3.3410074710845947,
          1.9806742668151855,
          0.30831193923950195,
          1.3001954555511475,
          1.5401949882507324,
          1.2752048969268799,
          2.3168997764587402,
          1.2845559120178223,
          1.2665605545043945,
          2.0314834117889404,
          1.7154619693756104,
          2.3444061279296875,
          2.4157028198242188,
          2.3513691425323486,
          1.316316843032837,
          2.051940441131592,
          0.9132792949676514,
          2.233999252319336,
          1.564436674118042,
          1.1823325157165527,
          1.4087965488433838,
          2.530125379562378,
          1.983205795288086,
          1.3004658222198486,
          1.3488008975982666,
          0.862586259841919,
          2.158691167831421,
          1.3038666248321533,
          1.158813714981079,
          1.3419198989868164,
          1.4207334518432617,
          2.434926748275757,
          2.848158597946167,
          1.429413080215454,
          1.7922413349151611,
          0.8544571399688721,
          2.6537926197052,
          3.1528193950653076,
          0.9247500896453857,
          2.482815742492676,
          1.9988417625427246,
          0.8313107490539551,
          1.1375811100006104,
          2.3069422245025635,
          1.8549904823303223,
          2.4159348011016846,
          1.8153941631317139,
          1.608405590057373,
          2.13749623298645,
          2.757967233657837,
          2.7410736083984375,
          1.8052470684051514,
          1.4125149250030518,
          2.2308285236358643,
          2.70475172996521,
          1.3444147109985352,
          1.4125149250030518,
          1.8983492851257324,
          1.8008074760437012,
          3.382894992828369,
          1.632955551147461,
          2.3919849395751953,
          1.6314241886138916,
          2.0619277954101562,
          1.4777228832244873,
          1.733154535293579,
          1.7260394096374512,
          1.798008918762207,
          2.2083630561828613,
          1.260500192642212,
          2.204829454421997,
          2.510091781616211,
          1.1935012340545654,
          1.3836100101470947,
          1.5606255531311035,
          1.1224217414855957,
          2.0657100677490234,
          1.6875102519989014,
          1.8559279441833496,
          2.331254720687866,
          1.9035661220550537,
          2.050668239593506,
          1.2348356246948242,
          2.1821303367614746,
          1.1393346786499023,
          1.1670989990234375,
          2.4171500205993652,
          1.4800269603729248,
          2.83127498626709,
          1.2656760215759277,
          1.3946669101715088,
          2.764012098312378,
          1.9927048683166504,
          1.570828914642334,
          2.317145586013794,
          1.359135389328003,
          1.4024827480316162,
          2.313537120819092,
          1.3989522457122803,
          1.0623722076416016,
          1.2751855850219727,
          1.7833383083343506,
          2.0166122913360596,
          2.056992292404175,
          1.191924810409546,
          1.1431553363800049,
          2.5441372394561768,
          1.5449011325836182,
          1.3869152069091797,
          1.2665705680847168,
          1.6434516906738281,
          1.3185369968414307,
          1.0774543285369873,
          1.2922215461730957,
          0.6171393394470215,
          1.2499346733093262,
          2.6617543697357178,
          1.832582950592041,
          1.135735273361206,
          1.4577107429504395,
          2.175018310546875,
          2.333439588546753,
          1.2958250045776367,
          2.26747989654541,
          2.4860970973968506,
          2.3358397483825684,
          2.243288516998291,
          1.4134886264801025,
          2.1959962844848633,
          1.5792062282562256,
          2.2537360191345215,
          1.4602789878845215,
          0.9908156394958496,
          1.5273494720458984,
          1.7279164791107178,
          1.1372458934783936,
          2.294739007949829,
          1.669874668121338,
          2.305577278137207,
          1.8188674449920654,
          1.719393014907837,
          1.6088767051696777,
          1.6088767051696777,
          1.6088767051696777,
          1.5503673553466797,
          1.059237003326416,
          2.3847715854644775,
          2.489053964614868,
          1.2640540599822998,
          2.0190799236297607,
          1.1738717555999756,
          1.4424903392791748,
          3.1495444774627686,
          -0.15482354164123535,
          2.3109381198883057,
          1.5122761726379395,
          1.987011432647705,
          1.5122761726379395,
          1.1074037551879883,
          1.2240943908691406,
          1.5265734195709229,
          2.0687496662139893,
          1.980750322341919,
          1.1074037551879883,
          2.1821303367614746,
          1.6898188591003418,
          2.482757806777954,
          2.280303716659546,
          1.961663007736206,
          1.727062702178955,
          1.4732897281646729,
          1.2397980690002441,
          1.6608259677886963,
          1.9297456741333008,
          1.3001313209533691,
          2.4373810291290283,
          1.9588305950164795,
          1.1666266918182373,
          2.5276312828063965,
          1.3910036087036133,
          1.9927048683166504,
          2.2566816806793213,
          2.470872402191162,
          1.6380789279937744,
          1.7479338645935059,
          2.3513691425323486,
          2.361778974533081
         ]
        }
       ],
       "layout": {
        "font": {
         "size": 30
        },
        "paper_bgcolor": "white",
        "plot_bgcolor": "white",
        "template": {
         "data": {
          "bar": [
           {
            "error_x": {
             "color": "#2a3f5f"
            },
            "error_y": {
             "color": "#2a3f5f"
            },
            "marker": {
             "line": {
              "color": "#E5ECF6",
              "width": 0.5
             },
             "pattern": {
              "fillmode": "overlay",
              "size": 10,
              "solidity": 0.2
             }
            },
            "type": "bar"
           }
          ],
          "barpolar": [
           {
            "marker": {
             "line": {
              "color": "#E5ECF6",
              "width": 0.5
             },
             "pattern": {
              "fillmode": "overlay",
              "size": 10,
              "solidity": 0.2
             }
            },
            "type": "barpolar"
           }
          ],
          "carpet": [
           {
            "aaxis": {
             "endlinecolor": "#2a3f5f",
             "gridcolor": "white",
             "linecolor": "white",
             "minorgridcolor": "white",
             "startlinecolor": "#2a3f5f"
            },
            "baxis": {
             "endlinecolor": "#2a3f5f",
             "gridcolor": "white",
             "linecolor": "white",
             "minorgridcolor": "white",
             "startlinecolor": "#2a3f5f"
            },
            "type": "carpet"
           }
          ],
          "choropleth": [
           {
            "colorbar": {
             "outlinewidth": 0,
             "ticks": ""
            },
            "type": "choropleth"
           }
          ],
          "contour": [
           {
            "colorbar": {
             "outlinewidth": 0,
             "ticks": ""
            },
            "colorscale": [
             [
              0,
              "#0d0887"
             ],
             [
              0.1111111111111111,
              "#46039f"
             ],
             [
              0.2222222222222222,
              "#7201a8"
             ],
             [
              0.3333333333333333,
              "#9c179e"
             ],
             [
              0.4444444444444444,
              "#bd3786"
             ],
             [
              0.5555555555555556,
              "#d8576b"
             ],
             [
              0.6666666666666666,
              "#ed7953"
             ],
             [
              0.7777777777777778,
              "#fb9f3a"
             ],
             [
              0.8888888888888888,
              "#fdca26"
             ],
             [
              1,
              "#f0f921"
             ]
            ],
            "type": "contour"
           }
          ],
          "contourcarpet": [
           {
            "colorbar": {
             "outlinewidth": 0,
             "ticks": ""
            },
            "type": "contourcarpet"
           }
          ],
          "heatmap": [
           {
            "colorbar": {
             "outlinewidth": 0,
             "ticks": ""
            },
            "colorscale": [
             [
              0,
              "#0d0887"
             ],
             [
              0.1111111111111111,
              "#46039f"
             ],
             [
              0.2222222222222222,
              "#7201a8"
             ],
             [
              0.3333333333333333,
              "#9c179e"
             ],
             [
              0.4444444444444444,
              "#bd3786"
             ],
             [
              0.5555555555555556,
              "#d8576b"
             ],
             [
              0.6666666666666666,
              "#ed7953"
             ],
             [
              0.7777777777777778,
              "#fb9f3a"
             ],
             [
              0.8888888888888888,
              "#fdca26"
             ],
             [
              1,
              "#f0f921"
             ]
            ],
            "type": "heatmap"
           }
          ],
          "heatmapgl": [
           {
            "colorbar": {
             "outlinewidth": 0,
             "ticks": ""
            },
            "colorscale": [
             [
              0,
              "#0d0887"
             ],
             [
              0.1111111111111111,
              "#46039f"
             ],
             [
              0.2222222222222222,
              "#7201a8"
             ],
             [
              0.3333333333333333,
              "#9c179e"
             ],
             [
              0.4444444444444444,
              "#bd3786"
             ],
             [
              0.5555555555555556,
              "#d8576b"
             ],
             [
              0.6666666666666666,
              "#ed7953"
             ],
             [
              0.7777777777777778,
              "#fb9f3a"
             ],
             [
              0.8888888888888888,
              "#fdca26"
             ],
             [
              1,
              "#f0f921"
             ]
            ],
            "type": "heatmapgl"
           }
          ],
          "histogram": [
           {
            "marker": {
             "pattern": {
              "fillmode": "overlay",
              "size": 10,
              "solidity": 0.2
             }
            },
            "type": "histogram"
           }
          ],
          "histogram2d": [
           {
            "colorbar": {
             "outlinewidth": 0,
             "ticks": ""
            },
            "colorscale": [
             [
              0,
              "#0d0887"
             ],
             [
              0.1111111111111111,
              "#46039f"
             ],
             [
              0.2222222222222222,
              "#7201a8"
             ],
             [
              0.3333333333333333,
              "#9c179e"
             ],
             [
              0.4444444444444444,
              "#bd3786"
             ],
             [
              0.5555555555555556,
              "#d8576b"
             ],
             [
              0.6666666666666666,
              "#ed7953"
             ],
             [
              0.7777777777777778,
              "#fb9f3a"
             ],
             [
              0.8888888888888888,
              "#fdca26"
             ],
             [
              1,
              "#f0f921"
             ]
            ],
            "type": "histogram2d"
           }
          ],
          "histogram2dcontour": [
           {
            "colorbar": {
             "outlinewidth": 0,
             "ticks": ""
            },
            "colorscale": [
             [
              0,
              "#0d0887"
             ],
             [
              0.1111111111111111,
              "#46039f"
             ],
             [
              0.2222222222222222,
              "#7201a8"
             ],
             [
              0.3333333333333333,
              "#9c179e"
             ],
             [
              0.4444444444444444,
              "#bd3786"
             ],
             [
              0.5555555555555556,
              "#d8576b"
             ],
             [
              0.6666666666666666,
              "#ed7953"
             ],
             [
              0.7777777777777778,
              "#fb9f3a"
             ],
             [
              0.8888888888888888,
              "#fdca26"
             ],
             [
              1,
              "#f0f921"
             ]
            ],
            "type": "histogram2dcontour"
           }
          ],
          "mesh3d": [
           {
            "colorbar": {
             "outlinewidth": 0,
             "ticks": ""
            },
            "type": "mesh3d"
           }
          ],
          "parcoords": [
           {
            "line": {
             "colorbar": {
              "outlinewidth": 0,
              "ticks": ""
             }
            },
            "type": "parcoords"
           }
          ],
          "pie": [
           {
            "automargin": true,
            "type": "pie"
           }
          ],
          "scatter": [
           {
            "fillpattern": {
             "fillmode": "overlay",
             "size": 10,
             "solidity": 0.2
            },
            "type": "scatter"
           }
          ],
          "scatter3d": [
           {
            "line": {
             "colorbar": {
              "outlinewidth": 0,
              "ticks": ""
             }
            },
            "marker": {
             "colorbar": {
              "outlinewidth": 0,
              "ticks": ""
             }
            },
            "type": "scatter3d"
           }
          ],
          "scattercarpet": [
           {
            "marker": {
             "colorbar": {
              "outlinewidth": 0,
              "ticks": ""
             }
            },
            "type": "scattercarpet"
           }
          ],
          "scattergeo": [
           {
            "marker": {
             "colorbar": {
              "outlinewidth": 0,
              "ticks": ""
             }
            },
            "type": "scattergeo"
           }
          ],
          "scattergl": [
           {
            "marker": {
             "colorbar": {
              "outlinewidth": 0,
              "ticks": ""
             }
            },
            "type": "scattergl"
           }
          ],
          "scattermapbox": [
           {
            "marker": {
             "colorbar": {
              "outlinewidth": 0,
              "ticks": ""
             }
            },
            "type": "scattermapbox"
           }
          ],
          "scatterpolar": [
           {
            "marker": {
             "colorbar": {
              "outlinewidth": 0,
              "ticks": ""
             }
            },
            "type": "scatterpolar"
           }
          ],
          "scatterpolargl": [
           {
            "marker": {
             "colorbar": {
              "outlinewidth": 0,
              "ticks": ""
             }
            },
            "type": "scatterpolargl"
           }
          ],
          "scatterternary": [
           {
            "marker": {
             "colorbar": {
              "outlinewidth": 0,
              "ticks": ""
             }
            },
            "type": "scatterternary"
           }
          ],
          "surface": [
           {
            "colorbar": {
             "outlinewidth": 0,
             "ticks": ""
            },
            "colorscale": [
             [
              0,
              "#0d0887"
             ],
             [
              0.1111111111111111,
              "#46039f"
             ],
             [
              0.2222222222222222,
              "#7201a8"
             ],
             [
              0.3333333333333333,
              "#9c179e"
             ],
             [
              0.4444444444444444,
              "#bd3786"
             ],
             [
              0.5555555555555556,
              "#d8576b"
             ],
             [
              0.6666666666666666,
              "#ed7953"
             ],
             [
              0.7777777777777778,
              "#fb9f3a"
             ],
             [
              0.8888888888888888,
              "#fdca26"
             ],
             [
              1,
              "#f0f921"
             ]
            ],
            "type": "surface"
           }
          ],
          "table": [
           {
            "cells": {
             "fill": {
              "color": "#EBF0F8"
             },
             "line": {
              "color": "white"
             }
            },
            "header": {
             "fill": {
              "color": "#C8D4E3"
             },
             "line": {
              "color": "white"
             }
            },
            "type": "table"
           }
          ]
         },
         "layout": {
          "annotationdefaults": {
           "arrowcolor": "#2a3f5f",
           "arrowhead": 0,
           "arrowwidth": 1
          },
          "autotypenumbers": "strict",
          "coloraxis": {
           "colorbar": {
            "outlinewidth": 0,
            "ticks": ""
           }
          },
          "colorscale": {
           "diverging": [
            [
             0,
             "#8e0152"
            ],
            [
             0.1,
             "#c51b7d"
            ],
            [
             0.2,
             "#de77ae"
            ],
            [
             0.3,
             "#f1b6da"
            ],
            [
             0.4,
             "#fde0ef"
            ],
            [
             0.5,
             "#f7f7f7"
            ],
            [
             0.6,
             "#e6f5d0"
            ],
            [
             0.7,
             "#b8e186"
            ],
            [
             0.8,
             "#7fbc41"
            ],
            [
             0.9,
             "#4d9221"
            ],
            [
             1,
             "#276419"
            ]
           ],
           "sequential": [
            [
             0,
             "#0d0887"
            ],
            [
             0.1111111111111111,
             "#46039f"
            ],
            [
             0.2222222222222222,
             "#7201a8"
            ],
            [
             0.3333333333333333,
             "#9c179e"
            ],
            [
             0.4444444444444444,
             "#bd3786"
            ],
            [
             0.5555555555555556,
             "#d8576b"
            ],
            [
             0.6666666666666666,
             "#ed7953"
            ],
            [
             0.7777777777777778,
             "#fb9f3a"
            ],
            [
             0.8888888888888888,
             "#fdca26"
            ],
            [
             1,
             "#f0f921"
            ]
           ],
           "sequentialminus": [
            [
             0,
             "#0d0887"
            ],
            [
             0.1111111111111111,
             "#46039f"
            ],
            [
             0.2222222222222222,
             "#7201a8"
            ],
            [
             0.3333333333333333,
             "#9c179e"
            ],
            [
             0.4444444444444444,
             "#bd3786"
            ],
            [
             0.5555555555555556,
             "#d8576b"
            ],
            [
             0.6666666666666666,
             "#ed7953"
            ],
            [
             0.7777777777777778,
             "#fb9f3a"
            ],
            [
             0.8888888888888888,
             "#fdca26"
            ],
            [
             1,
             "#f0f921"
            ]
           ]
          },
          "colorway": [
           "#636efa",
           "#EF553B",
           "#00cc96",
           "#ab63fa",
           "#FFA15A",
           "#19d3f3",
           "#FF6692",
           "#B6E880",
           "#FF97FF",
           "#FECB52"
          ],
          "font": {
           "color": "#2a3f5f"
          },
          "geo": {
           "bgcolor": "white",
           "lakecolor": "white",
           "landcolor": "#E5ECF6",
           "showlakes": true,
           "showland": true,
           "subunitcolor": "white"
          },
          "hoverlabel": {
           "align": "left"
          },
          "hovermode": "closest",
          "mapbox": {
           "style": "light"
          },
          "paper_bgcolor": "white",
          "plot_bgcolor": "#E5ECF6",
          "polar": {
           "angularaxis": {
            "gridcolor": "white",
            "linecolor": "white",
            "ticks": ""
           },
           "bgcolor": "#E5ECF6",
           "radialaxis": {
            "gridcolor": "white",
            "linecolor": "white",
            "ticks": ""
           }
          },
          "scene": {
           "xaxis": {
            "backgroundcolor": "#E5ECF6",
            "gridcolor": "white",
            "gridwidth": 2,
            "linecolor": "white",
            "showbackground": true,
            "ticks": "",
            "zerolinecolor": "white"
           },
           "yaxis": {
            "backgroundcolor": "#E5ECF6",
            "gridcolor": "white",
            "gridwidth": 2,
            "linecolor": "white",
            "showbackground": true,
            "ticks": "",
            "zerolinecolor": "white"
           },
           "zaxis": {
            "backgroundcolor": "#E5ECF6",
            "gridcolor": "white",
            "gridwidth": 2,
            "linecolor": "white",
            "showbackground": true,
            "ticks": "",
            "zerolinecolor": "white"
           }
          },
          "shapedefaults": {
           "line": {
            "color": "#2a3f5f"
           }
          },
          "ternary": {
           "aaxis": {
            "gridcolor": "white",
            "linecolor": "white",
            "ticks": ""
           },
           "baxis": {
            "gridcolor": "white",
            "linecolor": "white",
            "ticks": ""
           },
           "bgcolor": "#E5ECF6",
           "caxis": {
            "gridcolor": "white",
            "linecolor": "white",
            "ticks": ""
           }
          },
          "title": {
           "x": 0.05
          },
          "xaxis": {
           "automargin": true,
           "gridcolor": "white",
           "linecolor": "white",
           "ticks": "",
           "title": {
            "standoff": 15
           },
           "zerolinecolor": "white",
           "zerolinewidth": 2
          },
          "yaxis": {
           "automargin": true,
           "gridcolor": "white",
           "linecolor": "white",
           "ticks": "",
           "title": {
            "standoff": 15
           },
           "zerolinecolor": "white",
           "zerolinewidth": 2
          }
         }
        },
        "title": {
         "text": "Distribution of Difference In Nuclear Norms - DGI vs DGI+XM"
        },
        "xaxis": {
         "title": {
          "text": "Difference In Nuclear Norms - DGI vs DGI+XM"
         }
        },
        "yaxis": {
         "title": {
          "text": "Frequency"
         }
        }
       }
      },
      "text/html": [
       "<div>                            <div id=\"a6ee6d87-58a2-4e9b-9617-689e7f59b9ab\" class=\"plotly-graph-div\" style=\"height:525px; width:100%;\"></div>            <script type=\"text/javascript\">                require([\"plotly\"], function(Plotly) {                    window.PLOTLYENV=window.PLOTLYENV || {};                                    if (document.getElementById(\"a6ee6d87-58a2-4e9b-9617-689e7f59b9ab\")) {                    Plotly.newPlot(                        \"a6ee6d87-58a2-4e9b-9617-689e7f59b9ab\",                        [{\"x\":[1.1201448440551758,1.0523416996002197,0.3544158935546875,0.7631750106811523,0.43084096908569336,-0.1128993034362793,0.24391746520996094,0.39040279388427734,1.4171924591064453,0.6730608940124512,1.5800909996032715,0.4790186882019043,0.8515584468841553,-0.08099675178527832,0.6649494171142578,0.8768856525421143,0.8750357627868652,0.5468649864196777,1.2723109722137451,0.8638577461242676,0.7920427322387695,0.3577537536621094,2.128770589828491,0.8381156921386719,0.609553337097168,1.6836178302764893,1.316760778427124,0.5195379257202148,0.7538375854492188,1.1788713932037354,0.9983940124511719,1.4301011562347412,1.420137643814087,1.4624066352844238,1.451075553894043,1.1809241771697998,1.782879114151001,0.9169704914093018,1.0437896251678467,1.669095516204834,0.6132419109344482,0.7850832939147949,1.2127223014831543,1.6918747425079346,0.4031524658203125,0.8931043148040771,1.1347260475158691,1.3615903854370117,0.827221155166626,1.5018260478973389,1.627495527267456,0.7092025279998779,1.2832937240600586,1.6955761909484863,0.9675381183624268,1.1623032093048096,0.7218153476715088,0.416187047958374,0.46709632873535156,0.6501080989837646,0.7869768142700195,0.5947351455688477,-0.1015462875366211,0.25977110862731934,0.09330630302429199,0.19684314727783203,0.7870216369628906,3.1913719177246094,1.784388542175293,0.5568094253540039,1.8517937660217285,1.2743616104125977,2.428112030029297,1.4169669151306152,0.4131662845611572,1.683439016342163,1.5629503726959229,2.0970983505249023,2.2717905044555664,1.3139703273773193,0.9328997135162354,0.6315479278564453,-0.23331618309020996,0.4116082191467285,-0.11555814743041992,0.8727455139160156,-0.18167972564697266,0.4753594398498535,1.2645673751831055,0.6249082088470459,2.169752597808838,0.9969258308410645,0.7280492782592773,0.6247270107269287,1.1434166431427002,1.3597640991210938,0.05423140525817871,1.0013480186462402,1.4370527267456055,1.5361790657043457,0.711353063583374,1.2201902866363525,1.3180699348449707,1.0110597610473633,1.4176852703094482,0.5357437133789062,0.28644704818725586,-0.17952942848205566,0.7227888107299805,3.3469743728637695,1.5054376125335693,1.651545524597168,1.3383238315582275,0.5903356075286865,0.3541560173034668,0.4402785301208496,0.6968235969543457,2.421891450881958,1.573157787322998,1.86993408203125,1.7903149127960205,-0.1343843936920166,1.3692190647125244,1.3995802402496338,0.6198704242706299,1.0226223468780518,1.3759691715240479,2.185215711593628,0.3946647644042969,0.2629365921020508,1.3565564155578613,0.89540696144104,1.3903827667236328,0.5691554546356201,0.873645544052124,1.6583914756774902,1.7563226222991943,0.6188373565673828,1.5556519031524658,0.9662303924560547,0.811011791229248,0.45682406425476074,0.48250818252563477,1.2334868907928467,2.382748603820801,1.2206230163574219,1.4214468002319336,2.120150327682495,1.4902846813201904,1.2785415649414062,1.3265748023986816,1.4222559928894043,1.2078590393066406,1.8642127513885498,1.6888017654418945,0.6064872741699219,1.328071117401123,0.17836761474609375,0.8965435028076172,1.2067182064056396,-0.4663214683532715,1.3351516723632812,0.729851484298706,1.1003308296203613,0.7906758785247803,0.41131591796875,0.08891654014587402,0.5826528072357178,0.7367258071899414,0.7842140197753906,0.5782666206359863,1.563835620880127,0.8335380554199219,0.9009549617767334,1.0128271579742432,2.3350441455841064,1.192211627960205,0.8578283786773682,1.0253205299377441,0.9485697746276855,0.5930476188659668,0.5619168281555176,0.6081998348236084,0.22499704360961914,0.7307519912719727,0.5536634922027588,1.751119613647461,1.9764490127563477,2.123169422149658,0.1936509609222412,2.743858575820923,0.40655064582824707,1.2535388469696045,1.2594611644744873,0.9018459320068359,1.2838289737701416,1.5162394046783447,1.5709192752838135,1.2436120510101318,1.0244905948638916,1.3739902973175049,1.374732255935669,2.3488824367523193,1.748960018157959,1.4720518589019775,1.3463468551635742,0.6518270969390869,1.7532908916473389,1.041466236114502,0.46772193908691406,1.2947587966918945,0.11714577674865723,0.6071507930755615,0.5308756828308105,1.3806066513061523,0.7349948883056641,1.726311445236206,1.1839277744293213,0.6755938529968262,3.1228814125061035,2.545152425765991,1.1696898937225342,0.7316741943359375,1.2411742210388184,2.550006866455078,1.959404468536377,1.3447206020355225,2.0080220699310303,2.308858633041382,1.4903676509857178,2.4503655433654785,0.6272006034851074,0.4120323657989502,1.11043119430542,0.8148045539855957,1.6591055393218994,1.5396466255187988,1.205122709274292,0.8359429836273193,2.739280939102173,1.628357172012329,1.4607808589935303,1.1919457912445068,0.9485719203948975,1.9388210773468018,1.1033947467803955,1.371392011642456,1.6161751747131348,1.2935502529144287,0.46027040481567383,1.532386302947998,1.540031909942627,0.3108539581298828,1.9415850639343262,1.0165653228759766,1.5491743087768555,0.5244483947753906,1.8364229202270508,0.4481947422027588,1.1587519645690918,1.5841379165649414,1.2688937187194824,1.0148169994354248,1.0204973220825195,1.090000867843628,0.7008543014526367,1.0402553081512451,1.2760775089263916,1.711158275604248,0.7222504615783691,2.348942279815674,0.8204061985015869,0.6422789096832275,1.1845133304595947,1.671966314315796,1.1319646835327148,2.1999123096466064,1.7244887351989746,1.0977041721343994,2.553967237472534,0.6638145446777344,1.02211332321167,0.37621450424194336,0.3730602264404297,1.0448343753814697,0.39228034019470215,1.1618614196777344,2.0034821033477783,1.0929055213928223,2.464404821395874,0.7369050979614258,1.5670032501220703,1.811614751815796,1.7147998809814453,1.6834425926208496,0.1169443130493164,1.0536231994628906,1.3578228950500488,1.9361684322357178,0.9596602916717529,0.7801687717437744,0.17301464080810547,2.5961251258850098,0.6195592880249023,1.5402846336364746,0.5053062438964844,1.1598050594329834,1.5149965286254883,1.7246580123901367,0.703441858291626,1.9911813735961914,1.2592315673828125,1.9785308837890625,1.4244961738586426,1.357903003692627,2.658947467803955,0.797741174697876,1.4488277435302734,1.200995922088623,1.5210692882537842,0.8646590709686279,0.7437610626220703,0.5994203090667725,1.0286424160003662,1.6165707111358643,1.6233243942260742,1.9069914817810059,1.5338306427001953,1.6845309734344482,0.6316890716552734,1.7795772552490234,1.5956571102142334,1.1427850723266602,0.24117755889892578,1.1553831100463867,0.6084303855895996,1.6052799224853516,1.8948020935058594,0.7714178562164307,0.7737271785736084,0.3896207809448242,1.8651258945465088,0.4911234378814697,1.9091377258300781,1.6010541915893555,1.5237770080566406,2.284931182861328,1.7335741519927979,1.4645183086395264,1.1398301124572754,1.238558292388916,1.1665081977844238,1.4908668994903564,0.42601823806762695,1.427887201309204,2.037466287612915,1.730637550354004,1.776331901550293,0.5022459030151367,0.9089207649230957,1.4080493450164795,1.4463324546813965,1.366464376449585,1.3138842582702637,3.0239226818084717,0.7118675708770752,0.42280101776123047,1.4148826599121094,1.3465750217437744,1.9209620952606201,1.164257526397705,1.1780829429626465,1.8588032722473145,0.9453718662261963,1.342458724975586,0.5805613994598389,0.7474009990692139,-0.19378328323364258,1.5115532875061035,0.3378331661224365,1.0917251110076904,1.2165133953094482,1.9000704288482666,1.5038950443267822,2.088228464126587,1.530874490737915,2.566775321960449,0.8132104873657227,1.5524797439575195,0.9042012691497803,0.9395205974578857,1.7126309871673584,1.5209951400756836,0.574404239654541,1.1409974098205566,1.4103493690490723,1.7085442543029785,1.0734801292419434,1.7756946086883545,2.3512868881225586,1.7912797927856445,0.2676243782043457,1.8114466667175293,1.9866039752960205,0.6360235214233398,0.3388986587524414,1.0779929161071777,1.3426079750061035,0.748786211013794,0.37813568115234375,2.51499605178833,0.05762481689453125,0.29286718368530273,1.5739545822143555,0.41625261306762695,1.612999439239502,2.5007073879241943,0.899451494216919,1.7990148067474365,0.44910764694213867,0.282442569732666,0.813887357711792,1.7040834426879883,1.440502643585205,0.46434569358825684,0.19785332679748535,1.0636286735534668,1.4839963912963867,1.1139302253723145,1.1607823371887207,1.2828187942504883,1.939159870147705,1.5585768222808838,0.9363656044006348,0.2786674499511719,1.36543869972229,1.6053776741027832,0.9870669841766357,0.6879048347473145,1.6093604564666748,0.6551296710968018,1.1827757358551025,1.4851057529449463,0.7720146179199219,1.515465259552002,1.974710464477539,1.314316987991333,0.8422160148620605,0.7890942096710205,1.3989522457122803,0.853945255279541,1.7644963264465332,0.8400530815124512,2.2056586742401123,3.038818597793579,0.6588454246520996,1.094656229019165,1.8466567993164062,1.36747145652771,0.7037017345428467,1.0130877494812012,0.9615707397460938,1.497136116027832,1.6395587921142578,1.1707713603973389,1.9750785827636719,0.38928914070129395,2.878577709197998,2.5288848876953125,1.7698290348052979,1.2431674003601074,2.8054354190826416,1.8667621612548828,0.5398938655853271,0.8936598300933838,2.413400411605835,1.8228189945220947,1.4157400131225586,0.8370871543884277,1.8522019386291504,1.4607465267181396,1.2420094013214111,0.865546703338623,1.2369327545166016,2.174736976623535,1.3065898418426514,0.8520441055297852,1.192065954208374,1.7913594245910645,2.0311450958251953,2.086651563644409,1.2288763523101807,2.5171189308166504,0.6730546951293945,0.40533947944641113,1.05491304397583,1.6093223094940186,1.9150807857513428,0.22012615203857422,0.4573047161102295,1.443326711654663,2.230311632156372,1.2920479774475098,1.8447599411010742,0.8809738159179688,1.9811522960662842,0.7308168411254883,2.1904420852661133,1.5147244930267334,0.4916527271270752,1.786085844039917,1.2658939361572266,2.3391966819763184,0.957813024520874,1.6791810989379883,1.1618099212646484,1.648542881011963,1.575230598449707,0.9299888610839844,1.422046184539795,0.9621293544769287,1.0203773975372314,1.6151988506317139,0.8936789035797119,1.942957878112793,0.5868749618530273,0.7846825122833252,1.9105653762817383,1.965205192565918,1.1052207946777344,2.1142184734344482,1.511786937713623,1.7570390701293945,0.17640948295593262,2.1930758953094482,2.02842378616333,2.1466751098632812,1.0204601287841797,1.6214065551757812,2.435443162918091,2.7504348754882812,2.121305227279663,1.72123384475708,1.1127018928527832,1.6217570304870605,1.415069818496704,0.4421665668487549,1.558302402496338,1.998103380203247,0.18615341186523438,2.3627660274505615,2.279906749725342,1.437058687210083,1.288628101348877,1.6889853477478027,2.1326446533203125,2.278643846511841,2.5480782985687256,1.4034423828125,2.0474584102630615,0.6922914981842041,2.0425238609313965,1.339463472366333,1.2585251331329346,1.0878980159759521,1.4936695098876953,1.1721477508544922,1.1922516822814941,1.8225200176239014,0.739924430847168,1.3054101467132568,2.278447389602661,1.6869127750396729,1.814781665802002,2.125560760498047,2.2726633548736572,3.481717586517334,2.157444953918457,1.9408488273620605,1.2732234001159668,1.344541311264038,2.5819613933563232,1.8442764282226562,1.698110580444336,1.792116403579712,1.9268782138824463,2.028933525085449,1.5435237884521484,2.638977289199829,1.6205050945281982,2.8178818225860596,0.4965050220489502,1.0227594375610352,2.26944899559021,2.2110114097595215,2.1472556591033936,1.7961888313293457,1.3734030723571777,1.9590682983398438,1.9560096263885498,2.1358556747436523,1.6335370540618896,1.3989522457122803,2.9964287281036377,1.0722408294677734,2.4254584312438965,1.7148206233978271,1.1398138999938965,1.8879828453063965,1.6904640197753906,2.428471088409424,0.9667360782623291,1.2910535335540771,1.5884511470794678,0.8472566604614258,2.476383686065674,2.295260190963745,1.2655916213989258,2.2960710525512695,1.0759236812591553,1.718548059463501,1.9340367317199707,1.3850805759429932,2.3992061614990234,2.278273344039917,1.9374744892120361,2.2608985900878906,1.448451280593872,2.3996243476867676,1.086991548538208,1.2487213611602783,1.1077876091003418,1.4139630794525146,1.9350168704986572,1.3439171314239502,1.4256584644317627,1.2913408279418945,2.264294147491455,1.394603967666626,1.8360390663146973,2.7075209617614746,2.0623905658721924,2.1754274368286133,1.6719779968261719,1.2890808582305908,2.745304822921753,1.964590311050415,2.2309203147888184,1.7212822437286377,2.9278948307037354,1.175755500793457,1.5970735549926758,2.0888078212738037,2.1165173053741455,1.3016362190246582,0.942420482635498,1.986539602279663,1.800178050994873,2.1303889751434326,1.9053404331207275,1.7986376285552979,1.7962932586669922,2.502095937728882,1.6691327095031738,1.4750585556030273,2.214301824569702,1.4261493682861328,1.5072214603424072,2.206620454788208,1.2607481479644775,1.7299466133117676,2.096945285797119,2.310969114303589,1.3398568630218506,1.5752894878387451,1.6509349346160889,0.7906038761138916,2.7614970207214355,2.4357314109802246,2.0418572425842285,1.780958652496338,2.732667922973633,2.7077503204345703,2.3495349884033203,2.0443122386932373,1.5403504371643066,1.7726733684539795,1.1966400146484375,1.235985279083252,1.2026493549346924,0.9291205406188965,2.0425238609313965,1.3037450313568115,1.1823325157165527,2.4871580600738525,1.7285957336425781,0.6738507747650146,1.419762134552002,1.6377346515655518,1.7722203731536865,2.0266764163970947,1.7784643173217773,2.18857741355896,2.50797438621521,1.226517677307129,2.3847947120666504,2.0489959716796875,1.584029197692871,1.117490291595459,1.4518580436706543,2.200493335723877,1.0521111488342285,1.3138439655303955,1.9684135913848877,2.7982871532440186,2.747116804122925,1.6565611362457275,2.9364538192749023,2.277435541152954,0.9157757759094238,2.2367358207702637,1.7850940227508545,2.2054641246795654,1.6970343589782715,1.345395565032959,3.3410282135009766,3.015878200531006,1.4626641273498535,1.6988525390625,1.1023290157318115,1.924795389175415,1.9096534252166748,2.0719001293182373,2.9016976356506348,2.39693284034729,2.3209762573242188,2.9693267345428467,1.169595718383789,1.1973156929016113,1.6434516906738281,1.5466275215148926,1.4114062786102295,2.2442307472229004,2.198096513748169,2.405578136444092,2.5034337043762207,2.1110281944274902,1.226517677307129,2.3660011291503906,1.6833233833312988,1.0391550064086914,3.014719009399414,1.1959824562072754,2.007765769958496,2.1076924800872803,2.6443583965301514,1.6235816478729248,2.0729994773864746,1.7479338645935059,1.3116352558135986,1.4391958713531494,2.9868052005767822,2.729177236557007,1.5153789520263672,2.161109447479248,1.684227466583252,2.6322853565216064,1.6022844314575195,2.1800711154937744,2.0951180458068848,1.8945229053497314,1.3998610973358154,1.997661828994751,2.1510009765625,2.4413490295410156,0.8851757049560547,2.084157705307007,1.5173134803771973,2.315624713897705,1.8407342433929443,2.0860440731048584,2.421478033065796,2.836972236633301,1.255965232849121,1.6985726356506348,1.32564377784729,1.7698948383331299,2.284564971923828,1.5383470058441162,2.710561752319336,0.9696214199066162,1.7472577095031738,2.197859048843384,0.6400749683380127,0.9607610702514648,2.0575578212738037,1.7939200401306152,1.3439290523529053,1.8299634456634521,3.3410074710845947,1.9806742668151855,0.30831193923950195,1.3001954555511475,1.5401949882507324,1.2752048969268799,2.3168997764587402,1.2845559120178223,1.2665605545043945,2.0314834117889404,1.7154619693756104,2.3444061279296875,2.4157028198242188,2.3513691425323486,1.316316843032837,2.051940441131592,0.9132792949676514,2.233999252319336,1.564436674118042,1.1823325157165527,1.4087965488433838,2.530125379562378,1.983205795288086,1.3004658222198486,1.3488008975982666,0.862586259841919,2.158691167831421,1.3038666248321533,1.158813714981079,1.3419198989868164,1.4207334518432617,2.434926748275757,2.848158597946167,1.429413080215454,1.7922413349151611,0.8544571399688721,2.6537926197052,3.1528193950653076,0.9247500896453857,2.482815742492676,1.9988417625427246,0.8313107490539551,1.1375811100006104,2.3069422245025635,1.8549904823303223,2.4159348011016846,1.8153941631317139,1.608405590057373,2.13749623298645,2.757967233657837,2.7410736083984375,1.8052470684051514,1.4125149250030518,2.2308285236358643,2.70475172996521,1.3444147109985352,1.4125149250030518,1.8983492851257324,1.8008074760437012,3.382894992828369,1.632955551147461,2.3919849395751953,1.6314241886138916,2.0619277954101562,1.4777228832244873,1.733154535293579,1.7260394096374512,1.798008918762207,2.2083630561828613,1.260500192642212,2.204829454421997,2.510091781616211,1.1935012340545654,1.3836100101470947,1.5606255531311035,1.1224217414855957,2.0657100677490234,1.6875102519989014,1.8559279441833496,2.331254720687866,1.9035661220550537,2.050668239593506,1.2348356246948242,2.1821303367614746,1.1393346786499023,1.1670989990234375,2.4171500205993652,1.4800269603729248,2.83127498626709,1.2656760215759277,1.3946669101715088,2.764012098312378,1.9927048683166504,1.570828914642334,2.317145586013794,1.359135389328003,1.4024827480316162,2.313537120819092,1.3989522457122803,1.0623722076416016,1.2751855850219727,1.7833383083343506,2.0166122913360596,2.056992292404175,1.191924810409546,1.1431553363800049,2.5441372394561768,1.5449011325836182,1.3869152069091797,1.2665705680847168,1.6434516906738281,1.3185369968414307,1.0774543285369873,1.2922215461730957,0.6171393394470215,1.2499346733093262,2.6617543697357178,1.832582950592041,1.135735273361206,1.4577107429504395,2.175018310546875,2.333439588546753,1.2958250045776367,2.26747989654541,2.4860970973968506,2.3358397483825684,2.243288516998291,1.4134886264801025,2.1959962844848633,1.5792062282562256,2.2537360191345215,1.4602789878845215,0.9908156394958496,1.5273494720458984,1.7279164791107178,1.1372458934783936,2.294739007949829,1.669874668121338,2.305577278137207,1.8188674449920654,1.719393014907837,1.6088767051696777,1.6088767051696777,1.6088767051696777,1.5503673553466797,1.059237003326416,2.3847715854644775,2.489053964614868,1.2640540599822998,2.0190799236297607,1.1738717555999756,1.4424903392791748,3.1495444774627686,-0.15482354164123535,2.3109381198883057,1.5122761726379395,1.987011432647705,1.5122761726379395,1.1074037551879883,1.2240943908691406,1.5265734195709229,2.0687496662139893,1.980750322341919,1.1074037551879883,2.1821303367614746,1.6898188591003418,2.482757806777954,2.280303716659546,1.961663007736206,1.727062702178955,1.4732897281646729,1.2397980690002441,1.6608259677886963,1.9297456741333008,1.3001313209533691,2.4373810291290283,1.9588305950164795,1.1666266918182373,2.5276312828063965,1.3910036087036133,1.9927048683166504,2.2566816806793213,2.470872402191162,1.6380789279937744,1.7479338645935059,2.3513691425323486,2.361778974533081],\"type\":\"histogram\"}],                        {\"template\":{\"data\":{\"histogram2dcontour\":[{\"type\":\"histogram2dcontour\",\"colorbar\":{\"outlinewidth\":0,\"ticks\":\"\"},\"colorscale\":[[0.0,\"#0d0887\"],[0.1111111111111111,\"#46039f\"],[0.2222222222222222,\"#7201a8\"],[0.3333333333333333,\"#9c179e\"],[0.4444444444444444,\"#bd3786\"],[0.5555555555555556,\"#d8576b\"],[0.6666666666666666,\"#ed7953\"],[0.7777777777777778,\"#fb9f3a\"],[0.8888888888888888,\"#fdca26\"],[1.0,\"#f0f921\"]]}],\"choropleth\":[{\"type\":\"choropleth\",\"colorbar\":{\"outlinewidth\":0,\"ticks\":\"\"}}],\"histogram2d\":[{\"type\":\"histogram2d\",\"colorbar\":{\"outlinewidth\":0,\"ticks\":\"\"},\"colorscale\":[[0.0,\"#0d0887\"],[0.1111111111111111,\"#46039f\"],[0.2222222222222222,\"#7201a8\"],[0.3333333333333333,\"#9c179e\"],[0.4444444444444444,\"#bd3786\"],[0.5555555555555556,\"#d8576b\"],[0.6666666666666666,\"#ed7953\"],[0.7777777777777778,\"#fb9f3a\"],[0.8888888888888888,\"#fdca26\"],[1.0,\"#f0f921\"]]}],\"heatmap\":[{\"type\":\"heatmap\",\"colorbar\":{\"outlinewidth\":0,\"ticks\":\"\"},\"colorscale\":[[0.0,\"#0d0887\"],[0.1111111111111111,\"#46039f\"],[0.2222222222222222,\"#7201a8\"],[0.3333333333333333,\"#9c179e\"],[0.4444444444444444,\"#bd3786\"],[0.5555555555555556,\"#d8576b\"],[0.6666666666666666,\"#ed7953\"],[0.7777777777777778,\"#fb9f3a\"],[0.8888888888888888,\"#fdca26\"],[1.0,\"#f0f921\"]]}],\"heatmapgl\":[{\"type\":\"heatmapgl\",\"colorbar\":{\"outlinewidth\":0,\"ticks\":\"\"},\"colorscale\":[[0.0,\"#0d0887\"],[0.1111111111111111,\"#46039f\"],[0.2222222222222222,\"#7201a8\"],[0.3333333333333333,\"#9c179e\"],[0.4444444444444444,\"#bd3786\"],[0.5555555555555556,\"#d8576b\"],[0.6666666666666666,\"#ed7953\"],[0.7777777777777778,\"#fb9f3a\"],[0.8888888888888888,\"#fdca26\"],[1.0,\"#f0f921\"]]}],\"contourcarpet\":[{\"type\":\"contourcarpet\",\"colorbar\":{\"outlinewidth\":0,\"ticks\":\"\"}}],\"contour\":[{\"type\":\"contour\",\"colorbar\":{\"outlinewidth\":0,\"ticks\":\"\"},\"colorscale\":[[0.0,\"#0d0887\"],[0.1111111111111111,\"#46039f\"],[0.2222222222222222,\"#7201a8\"],[0.3333333333333333,\"#9c179e\"],[0.4444444444444444,\"#bd3786\"],[0.5555555555555556,\"#d8576b\"],[0.6666666666666666,\"#ed7953\"],[0.7777777777777778,\"#fb9f3a\"],[0.8888888888888888,\"#fdca26\"],[1.0,\"#f0f921\"]]}],\"surface\":[{\"type\":\"surface\",\"colorbar\":{\"outlinewidth\":0,\"ticks\":\"\"},\"colorscale\":[[0.0,\"#0d0887\"],[0.1111111111111111,\"#46039f\"],[0.2222222222222222,\"#7201a8\"],[0.3333333333333333,\"#9c179e\"],[0.4444444444444444,\"#bd3786\"],[0.5555555555555556,\"#d8576b\"],[0.6666666666666666,\"#ed7953\"],[0.7777777777777778,\"#fb9f3a\"],[0.8888888888888888,\"#fdca26\"],[1.0,\"#f0f921\"]]}],\"mesh3d\":[{\"type\":\"mesh3d\",\"colorbar\":{\"outlinewidth\":0,\"ticks\":\"\"}}],\"scatter\":[{\"fillpattern\":{\"fillmode\":\"overlay\",\"size\":10,\"solidity\":0.2},\"type\":\"scatter\"}],\"parcoords\":[{\"type\":\"parcoords\",\"line\":{\"colorbar\":{\"outlinewidth\":0,\"ticks\":\"\"}}}],\"scatterpolargl\":[{\"type\":\"scatterpolargl\",\"marker\":{\"colorbar\":{\"outlinewidth\":0,\"ticks\":\"\"}}}],\"bar\":[{\"error_x\":{\"color\":\"#2a3f5f\"},\"error_y\":{\"color\":\"#2a3f5f\"},\"marker\":{\"line\":{\"color\":\"#E5ECF6\",\"width\":0.5},\"pattern\":{\"fillmode\":\"overlay\",\"size\":10,\"solidity\":0.2}},\"type\":\"bar\"}],\"scattergeo\":[{\"type\":\"scattergeo\",\"marker\":{\"colorbar\":{\"outlinewidth\":0,\"ticks\":\"\"}}}],\"scatterpolar\":[{\"type\":\"scatterpolar\",\"marker\":{\"colorbar\":{\"outlinewidth\":0,\"ticks\":\"\"}}}],\"histogram\":[{\"marker\":{\"pattern\":{\"fillmode\":\"overlay\",\"size\":10,\"solidity\":0.2}},\"type\":\"histogram\"}],\"scattergl\":[{\"type\":\"scattergl\",\"marker\":{\"colorbar\":{\"outlinewidth\":0,\"ticks\":\"\"}}}],\"scatter3d\":[{\"type\":\"scatter3d\",\"line\":{\"colorbar\":{\"outlinewidth\":0,\"ticks\":\"\"}},\"marker\":{\"colorbar\":{\"outlinewidth\":0,\"ticks\":\"\"}}}],\"scattermapbox\":[{\"type\":\"scattermapbox\",\"marker\":{\"colorbar\":{\"outlinewidth\":0,\"ticks\":\"\"}}}],\"scatterternary\":[{\"type\":\"scatterternary\",\"marker\":{\"colorbar\":{\"outlinewidth\":0,\"ticks\":\"\"}}}],\"scattercarpet\":[{\"type\":\"scattercarpet\",\"marker\":{\"colorbar\":{\"outlinewidth\":0,\"ticks\":\"\"}}}],\"carpet\":[{\"aaxis\":{\"endlinecolor\":\"#2a3f5f\",\"gridcolor\":\"white\",\"linecolor\":\"white\",\"minorgridcolor\":\"white\",\"startlinecolor\":\"#2a3f5f\"},\"baxis\":{\"endlinecolor\":\"#2a3f5f\",\"gridcolor\":\"white\",\"linecolor\":\"white\",\"minorgridcolor\":\"white\",\"startlinecolor\":\"#2a3f5f\"},\"type\":\"carpet\"}],\"table\":[{\"cells\":{\"fill\":{\"color\":\"#EBF0F8\"},\"line\":{\"color\":\"white\"}},\"header\":{\"fill\":{\"color\":\"#C8D4E3\"},\"line\":{\"color\":\"white\"}},\"type\":\"table\"}],\"barpolar\":[{\"marker\":{\"line\":{\"color\":\"#E5ECF6\",\"width\":0.5},\"pattern\":{\"fillmode\":\"overlay\",\"size\":10,\"solidity\":0.2}},\"type\":\"barpolar\"}],\"pie\":[{\"automargin\":true,\"type\":\"pie\"}]},\"layout\":{\"autotypenumbers\":\"strict\",\"colorway\":[\"#636efa\",\"#EF553B\",\"#00cc96\",\"#ab63fa\",\"#FFA15A\",\"#19d3f3\",\"#FF6692\",\"#B6E880\",\"#FF97FF\",\"#FECB52\"],\"font\":{\"color\":\"#2a3f5f\"},\"hovermode\":\"closest\",\"hoverlabel\":{\"align\":\"left\"},\"paper_bgcolor\":\"white\",\"plot_bgcolor\":\"#E5ECF6\",\"polar\":{\"bgcolor\":\"#E5ECF6\",\"angularaxis\":{\"gridcolor\":\"white\",\"linecolor\":\"white\",\"ticks\":\"\"},\"radialaxis\":{\"gridcolor\":\"white\",\"linecolor\":\"white\",\"ticks\":\"\"}},\"ternary\":{\"bgcolor\":\"#E5ECF6\",\"aaxis\":{\"gridcolor\":\"white\",\"linecolor\":\"white\",\"ticks\":\"\"},\"baxis\":{\"gridcolor\":\"white\",\"linecolor\":\"white\",\"ticks\":\"\"},\"caxis\":{\"gridcolor\":\"white\",\"linecolor\":\"white\",\"ticks\":\"\"}},\"coloraxis\":{\"colorbar\":{\"outlinewidth\":0,\"ticks\":\"\"}},\"colorscale\":{\"sequential\":[[0.0,\"#0d0887\"],[0.1111111111111111,\"#46039f\"],[0.2222222222222222,\"#7201a8\"],[0.3333333333333333,\"#9c179e\"],[0.4444444444444444,\"#bd3786\"],[0.5555555555555556,\"#d8576b\"],[0.6666666666666666,\"#ed7953\"],[0.7777777777777778,\"#fb9f3a\"],[0.8888888888888888,\"#fdca26\"],[1.0,\"#f0f921\"]],\"sequentialminus\":[[0.0,\"#0d0887\"],[0.1111111111111111,\"#46039f\"],[0.2222222222222222,\"#7201a8\"],[0.3333333333333333,\"#9c179e\"],[0.4444444444444444,\"#bd3786\"],[0.5555555555555556,\"#d8576b\"],[0.6666666666666666,\"#ed7953\"],[0.7777777777777778,\"#fb9f3a\"],[0.8888888888888888,\"#fdca26\"],[1.0,\"#f0f921\"]],\"diverging\":[[0,\"#8e0152\"],[0.1,\"#c51b7d\"],[0.2,\"#de77ae\"],[0.3,\"#f1b6da\"],[0.4,\"#fde0ef\"],[0.5,\"#f7f7f7\"],[0.6,\"#e6f5d0\"],[0.7,\"#b8e186\"],[0.8,\"#7fbc41\"],[0.9,\"#4d9221\"],[1,\"#276419\"]]},\"xaxis\":{\"gridcolor\":\"white\",\"linecolor\":\"white\",\"ticks\":\"\",\"title\":{\"standoff\":15},\"zerolinecolor\":\"white\",\"automargin\":true,\"zerolinewidth\":2},\"yaxis\":{\"gridcolor\":\"white\",\"linecolor\":\"white\",\"ticks\":\"\",\"title\":{\"standoff\":15},\"zerolinecolor\":\"white\",\"automargin\":true,\"zerolinewidth\":2},\"scene\":{\"xaxis\":{\"backgroundcolor\":\"#E5ECF6\",\"gridcolor\":\"white\",\"linecolor\":\"white\",\"showbackground\":true,\"ticks\":\"\",\"zerolinecolor\":\"white\",\"gridwidth\":2},\"yaxis\":{\"backgroundcolor\":\"#E5ECF6\",\"gridcolor\":\"white\",\"linecolor\":\"white\",\"showbackground\":true,\"ticks\":\"\",\"zerolinecolor\":\"white\",\"gridwidth\":2},\"zaxis\":{\"backgroundcolor\":\"#E5ECF6\",\"gridcolor\":\"white\",\"linecolor\":\"white\",\"showbackground\":true,\"ticks\":\"\",\"zerolinecolor\":\"white\",\"gridwidth\":2}},\"shapedefaults\":{\"line\":{\"color\":\"#2a3f5f\"}},\"annotationdefaults\":{\"arrowcolor\":\"#2a3f5f\",\"arrowhead\":0,\"arrowwidth\":1},\"geo\":{\"bgcolor\":\"white\",\"landcolor\":\"#E5ECF6\",\"subunitcolor\":\"white\",\"showland\":true,\"showlakes\":true,\"lakecolor\":\"white\"},\"title\":{\"x\":0.05},\"mapbox\":{\"style\":\"light\"}}},\"title\":{\"text\":\"Distribution of Difference In Nuclear Norms - DGI vs DGI+XM\"},\"xaxis\":{\"title\":{\"text\":\"Difference In Nuclear Norms - DGI vs DGI+XM\"}},\"yaxis\":{\"title\":{\"text\":\"Frequency\"}},\"font\":{\"size\":30},\"plot_bgcolor\":\"white\",\"paper_bgcolor\":\"white\"},                        {\"responsive\": true}                    ).then(function(){\n",
       "                            \n",
       "var gd = document.getElementById('a6ee6d87-58a2-4e9b-9617-689e7f59b9ab');\n",
       "var x = new MutationObserver(function (mutations, observer) {{\n",
       "        var display = window.getComputedStyle(gd).display;\n",
       "        if (!display || display === 'none') {{\n",
       "            console.log([gd, 'removed!']);\n",
       "            Plotly.purge(gd);\n",
       "            observer.disconnect();\n",
       "        }}\n",
       "}});\n",
       "\n",
       "// Listen for the removal of the full notebook cells\n",
       "var notebookContainer = gd.closest('#notebook-container');\n",
       "if (notebookContainer) {{\n",
       "    x.observe(notebookContainer, {childList: true});\n",
       "}}\n",
       "\n",
       "// Listen for the clearing of the current output cell\n",
       "var outputEl = gd.closest('.output');\n",
       "if (outputEl) {{\n",
       "    x.observe(outputEl, {childList: true});\n",
       "}}\n",
       "\n",
       "                        })                };                });            </script>        </div>"
      ]
     },
     "metadata": {},
     "output_type": "display_data"
    }
   ],
   "source": [
    "diff = np.array(norm_og) - np.array(norm_plus)\n",
    "fig = go.Figure()\n",
    "fig.add_trace(go.Histogram(x = diff))\n",
    "fig.update_layout(title_text = 'Distribution of Difference In Nuclear Norms - DGI vs DGI+XM', \n",
    "                  xaxis_title_text = 'Difference In Nuclear Norms - DGI vs DGI+XM', \n",
    "                  yaxis_title_text = 'Frequency', \n",
    "                  plot_bgcolor = 'white', \n",
    "                  paper_bgcolor = 'white', \n",
    "                  font = dict(size = 30))\n",
    "fig.show()"
   ]
  },
  {
   "cell_type": "code",
   "execution_count": 68,
   "id": "93328992",
   "metadata": {},
   "outputs": [
    {
     "data": {
      "application/vnd.plotly.v1+json": {
       "config": {
        "plotlyServerURL": "https://plot.ly"
       },
       "data": [
        {
         "name": "DGI",
         "type": "histogram",
         "x": [
          4.279569625854492,
          4.579095363616943,
          4.409626483917236,
          4.638545989990234,
          4.228288650512695,
          4.275597095489502,
          3.9354910850524902,
          4.293959617614746,
          5.324033737182617,
          4.186145305633545,
          5.491784572601318,
          4.291988849639893,
          4.605759620666504,
          3.7129576206207275,
          4.501705646514893,
          4.599106788635254,
          4.205964088439941,
          4.818454742431641,
          4.898194313049316,
          4.964322566986084,
          4.830564975738525,
          4.927132606506348,
          5.681216716766357,
          5.055230617523193,
          4.404029846191406,
          5.026896953582764,
          4.910809516906738,
          4.27993106842041,
          5.156661033630371,
          4.941669464111328,
          4.914432048797607,
          5.153285980224609,
          5.127921104431152,
          5.023975849151611,
          5.1796183586120605,
          4.924367904663086,
          5.750550270080566,
          4.16697883605957,
          4.5493669509887695,
          5.3727946281433105,
          4.167474269866943,
          4.767511367797852,
          5.2228007316589355,
          5.305673122406006,
          4.8297810554504395,
          4.526143550872803,
          5.19375467300415,
          5.185927391052246,
          4.529231071472168,
          4.855956554412842,
          5.207589149475098,
          4.156779766082764,
          4.805805206298828,
          5.2815070152282715,
          4.651358604431152,
          4.927113056182861,
          4.352749824523926,
          4.026706218719482,
          4.664699554443359,
          4.272309303283691,
          4.5092668533325195,
          3.8382508754730225,
          3.60391902923584,
          4.059576988220215,
          3.887766122817993,
          3.8692209720611572,
          3.9834532737731934,
          6.729214668273926,
          6.064792633056641,
          4.5974321365356445,
          4.912155628204346,
          4.7655930519104,
          6.02191162109375,
          5.067790508270264,
          3.911790609359741,
          5.12301778793335,
          4.994035720825195,
          6.293165683746338,
          5.999434471130371,
          4.821508884429932,
          4.867053985595703,
          5.161618232727051,
          3.55180287361145,
          4.842259883880615,
          3.48068904876709,
          3.927741527557373,
          3.5452914237976074,
          4.52532434463501,
          4.757599830627441,
          3.973238945007324,
          6.353061199188232,
          4.586291313171387,
          3.961559295654297,
          4.574326515197754,
          4.8744730949401855,
          5.0805535316467285,
          3.8162190914154053,
          4.534800052642822,
          5.064919471740723,
          5.409999370574951,
          4.309154510498047,
          4.575142860412598,
          4.728612422943115,
          4.606991291046143,
          4.659017562866211,
          4.739871501922607,
          4.598519802093506,
          3.7435719966888428,
          4.233297824859619,
          6.914321422576904,
          4.49730920791626,
          4.3307695388793945,
          4.558182239532471,
          4.039212226867676,
          4.579047679901123,
          4.439802169799805,
          4.34183931350708,
          5.692380428314209,
          5.258859157562256,
          5.309543609619141,
          4.6432576179504395,
          3.8738181591033936,
          4.65172004699707,
          4.650468826293945,
          4.226925849914551,
          4.772855758666992,
          4.879189968109131,
          5.8977179527282715,
          4.756350040435791,
          4.6019978523254395,
          4.65339469909668,
          4.495103359222412,
          5.535385608673096,
          4.057403564453125,
          4.279421806335449,
          5.360777854919434,
          5.039489269256592,
          4.834825038909912,
          5.242419719696045,
          4.477686405181885,
          4.554553508758545,
          4.170804500579834,
          4.494736194610596,
          4.824954986572266,
          5.86961555480957,
          5.328538417816162,
          4.805960655212402,
          6.091139316558838,
          4.899828910827637,
          4.639420986175537,
          5.006414413452148,
          5.146755695343018,
          5.3609724044799805,
          5.5860724449157715,
          5.834081172943115,
          3.856809377670288,
          4.94954776763916,
          3.664163827896118,
          4.594921112060547,
          5.00921106338501,
          3.05267596244812,
          5.109985828399658,
          4.033538818359375,
          4.415829658508301,
          4.018744468688965,
          4.597123146057129,
          3.4224586486816406,
          3.755305767059326,
          4.37840461730957,
          5.012500286102295,
          4.439435958862305,
          5.330455780029297,
          4.696809768676758,
          4.648816108703613,
          4.681507110595703,
          5.741476058959961,
          4.5241780281066895,
          4.3465895652771,
          4.53114128112793,
          4.486847400665283,
          4.116900444030762,
          4.291105270385742,
          4.026034832000732,
          4.567465782165527,
          5.071308612823486,
          3.957589864730835,
          5.364683151245117,
          6.272305965423584,
          6.398656845092773,
          3.7866175174713135,
          6.624736785888672,
          4.361968994140625,
          4.766379356384277,
          4.621971130371094,
          4.498577117919922,
          4.977285861968994,
          5.061665058135986,
          5.42039155960083,
          4.772525787353516,
          4.662827491760254,
          5.22019624710083,
          5.279742240905762,
          5.883005619049072,
          5.720228672027588,
          4.968764305114746,
          4.8864312171936035,
          4.344324111938477,
          5.299741744995117,
          4.441754341125488,
          4.548769950866699,
          5.797996520996094,
          3.710524797439575,
          4.002469062805176,
          3.864901065826416,
          5.290233612060547,
          4.76570463180542,
          5.53088903427124,
          4.737146854400635,
          4.479912757873535,
          7.143251895904541,
          6.103571891784668,
          5.010492324829102,
          4.638803005218506,
          5.229062080383301,
          6.504624843597412,
          5.501873016357422,
          5.082427978515625,
          5.382488250732422,
          5.738163948059082,
          4.880362510681152,
          5.869956970214844,
          4.485389232635498,
          4.294961929321289,
          5.276082992553711,
          4.64471960067749,
          5.423440933227539,
          5.64556884765625,
          4.730010032653809,
          4.377359867095947,
          6.226199626922607,
          5.133866310119629,
          4.923015594482422,
          5.138213634490967,
          4.448130130767822,
          5.755338668823242,
          4.618899345397949,
          4.821728229522705,
          4.908332347869873,
          4.836246967315674,
          5.024205684661865,
          5.256649971008301,
          5.215420246124268,
          4.322909832000732,
          5.97407865524292,
          4.869767665863037,
          5.646909713745117,
          4.471277236938477,
          4.900854110717773,
          3.9981372356414795,
          4.775053024291992,
          5.170467853546143,
          4.965698719024658,
          4.418625831604004,
          4.6698899269104,
          4.736721515655518,
          4.127767562866211,
          4.421655178070068,
          4.6541008949279785,
          5.73629093170166,
          4.956781387329102,
          5.260077476501465,
          4.5450053215026855,
          3.9258840084075928,
          4.80056619644165,
          5.202147960662842,
          4.611384868621826,
          5.283848762512207,
          4.968672752380371,
          4.735548496246338,
          5.693391799926758,
          5.299230098724365,
          4.701179027557373,
          3.935027837753296,
          4.103835105895996,
          4.151254653930664,
          4.309629440307617,
          4.808852195739746,
          5.778831958770752,
          4.512828826904297,
          5.634243011474609,
          4.989858150482178,
          4.651910305023193,
          5.701602458953857,
          5.290311336517334,
          4.949485778808594,
          3.4855337142944336,
          4.643620014190674,
          4.954345226287842,
          5.546082019805908,
          4.359971046447754,
          4.731781005859375,
          3.864189624786377,
          6.278447151184082,
          4.755232334136963,
          4.831831932067871,
          3.705177068710327,
          5.096366882324219,
          4.805602550506592,
          4.854948043823242,
          3.7604763507843018,
          5.574834823608398,
          5.09205961227417,
          5.482581615447998,
          4.456267833709717,
          5.324469566345215,
          6.294798851013184,
          4.184067249298096,
          4.627254962921143,
          4.8658599853515625,
          4.29538106918335,
          4.594916343688965,
          4.574138164520264,
          4.118048667907715,
          4.526113510131836,
          5.103762626647949,
          5.188375949859619,
          5.904471397399902,
          5.885080814361572,
          5.229323863983154,
          4.689753532409668,
          5.028468608856201,
          4.550163745880127,
          4.8533616065979,
          4.672303676605225,
          4.532804489135742,
          4.084339141845703,
          5.306138038635254,
          6.016018867492676,
          4.517065525054932,
          4.465526580810547,
          3.4815640449523926,
          4.7303667068481445,
          4.112163066864014,
          4.974093914031982,
          5.490406036376953,
          4.996304988861084,
          6.003651142120361,
          5.256044864654541,
          3.9423670768737793,
          4.504363059997559,
          4.756580829620361,
          4.719089508056641,
          5.046947002410889,
          4.105766773223877,
          4.264102458953857,
          5.884435653686523,
          5.818877220153809,
          5.859018802642822,
          4.403363227844238,
          4.365296840667725,
          4.822033405303955,
          5.404109477996826,
          4.968662738800049,
          4.976248264312744,
          6.611584663391113,
          4.209259986877441,
          3.797276258468628,
          5.987658500671387,
          5.044712543487549,
          5.1046319007873535,
          4.58765172958374,
          5.5757904052734375,
          5.791886806488037,
          4.149177551269531,
          4.856633186340332,
          4.271463394165039,
          4.472843647003174,
          3.802123785018921,
          4.5944671630859375,
          3.718810796737671,
          4.56365966796875,
          4.892693519592285,
          4.315855503082275,
          4.163957118988037,
          5.1860175132751465,
          4.459451675415039,
          5.429830551147461,
          3.8599045276641846,
          4.857041358947754,
          4.194821834564209,
          4.535262584686279,
          4.798346519470215,
          4.524326324462891,
          4.372527599334717,
          4.673945426940918,
          4.953714370727539,
          4.274409294128418,
          4.698660373687744,
          4.218301296234131,
          5.919068336486816,
          5.891977310180664,
          4.257936000823975,
          4.558935165405273,
          5.340629577636719,
          4.824068546295166,
          4.377928733825684,
          4.880515098571777,
          5.0343475341796875,
          4.63041877746582,
          3.825978994369507,
          5.40444278717041,
          4.394007205963135,
          3.7809906005859375,
          5.038820743560791,
          3.1214468479156494,
          4.421154022216797,
          5.753824234008789,
          4.751428604125977,
          5.6746649742126465,
          3.7603652477264404,
          3.197984457015991,
          3.6425678730010986,
          5.433391094207764,
          5.381536960601807,
          4.326054573059082,
          4.008825302124023,
          4.820340633392334,
          5.0903639793396,
          4.7686076164245605,
          4.911996841430664,
          4.592187881469727,
          5.845571994781494,
          4.09160041809082,
          4.124433517456055,
          4.539077281951904,
          4.7190728187561035,
          4.224370002746582,
          4.569591999053955,
          4.81165885925293,
          4.172995567321777,
          4.254850387573242,
          5.097258567810059,
          4.819765567779541,
          4.228271484375,
          5.158123970031738,
          6.042656898498535,
          4.840930461883545,
          4.1935343742370605,
          4.207469463348389,
          3.8646953105926514,
          4.144224643707275,
          5.19850492477417,
          4.829042434692383,
          5.792688846588135,
          5.986275672912598,
          4.263575077056885,
          4.051702976226807,
          5.496419429779053,
          5.113766193389893,
          4.113523483276367,
          4.134222507476807,
          4.462272644042969,
          4.97911262512207,
          4.729527950286865,
          4.21065092086792,
          5.300086498260498,
          3.6489055156707764,
          6.417081356048584,
          6.685491561889648,
          5.184072017669678,
          4.859785079956055,
          6.802414417266846,
          4.978085517883301,
          4.291675090789795,
          4.727667331695557,
          5.112776756286621,
          4.317080974578857,
          4.237591743469238,
          4.381950378417969,
          5.232969760894775,
          4.779510974884033,
          4.8947553634643555,
          4.183424472808838,
          4.63920259475708,
          6.038740634918213,
          4.405237197875977,
          4.038974285125732,
          4.588498592376709,
          4.639388561248779,
          5.855462074279785,
          5.918980121612549,
          4.434224605560303,
          6.577600479125977,
          4.7443084716796875,
          3.6134936809539795,
          5.18562126159668,
          5.281128406524658,
          5.5957512855529785,
          3.47157883644104,
          4.02570104598999,
          4.791134357452393,
          5.79925537109375,
          5.067066669464111,
          4.891833305358887,
          4.745570182800293,
          5.484343528747559,
          4.217753887176514,
          5.448061466217041,
          5.4558587074279785,
          4.28444766998291,
          5.285140514373779,
          4.374379634857178,
          5.907328128814697,
          4.179455757141113,
          4.536015033721924,
          4.482752323150635,
          5.568669319152832,
          5.039801597595215,
          4.367556095123291,
          4.7551398277282715,
          4.7602620124816895,
          4.293050289154053,
          4.5500335693359375,
          4.061182975769043,
          5.073042869567871,
          4.113018989562988,
          4.254309177398682,
          5.146983623504639,
          5.34474515914917,
          4.882015228271484,
          5.366619110107422,
          5.871092319488525,
          5.047576427459717,
          3.9998764991760254,
          5.296966075897217,
          5.543905735015869,
          5.381303787231445,
          4.123353004455566,
          5.0481109619140625,
          6.053646087646484,
          6.080319881439209,
          5.418217182159424,
          4.977817058563232,
          5.175043106079102,
          5.811149597167969,
          4.992081642150879,
          3.8452231884002686,
          5.213453769683838,
          5.906709671020508,
          4.152960777282715,
          5.788097381591797,
          6.24216365814209,
          5.123890399932861,
          4.287868976593018,
          5.337599754333496,
          5.44389533996582,
          5.894744873046875,
          6.535940170288086,
          4.334710597991943,
          5.678207874298096,
          4.246706008911133,
          4.837642192840576,
          4.466463088989258,
          4.844420909881592,
          4.4046244621276855,
          4.617839336395264,
          4.593965530395508,
          4.49884033203125,
          5.447669506072998,
          4.427698612213135,
          4.718762397766113,
          5.509740352630615,
          5.156614303588867,
          4.832634449005127,
          4.8993611335754395,
          5.428445339202881,
          7.173381805419922,
          5.171313762664795,
          4.580604076385498,
          4.673172950744629,
          4.522027969360352,
          6.320634841918945,
          4.548776626586914,
          4.330934047698975,
          5.152833461761475,
          5.43060302734375,
          5.424837112426758,
          5.1073527336120605,
          6.5585832595825195,
          5.143285274505615,
          6.254634857177734,
          3.854862689971924,
          4.504119396209717,
          4.869244575500488,
          5.108392238616943,
          5.590923309326172,
          4.971812725067139,
          4.224128246307373,
          5.2221808433532715,
          5.424560070037842,
          6.1180830001831055,
          5.154071807861328,
          3.8646953105926514,
          6.392354965209961,
          3.7278130054473877,
          5.711296558380127,
          5.38262414932251,
          4.6889262199401855,
          5.112381458282471,
          4.701155662536621,
          6.826344013214111,
          4.662619113922119,
          4.582083225250244,
          4.8163533210754395,
          4.1406073570251465,
          5.754725933074951,
          5.829885959625244,
          4.658000469207764,
          5.128903865814209,
          4.044811248779297,
          4.7814555168151855,
          4.638957500457764,
          4.61384391784668,
          5.247808456420898,
          4.953977584838867,
          5.411221981048584,
          5.392643928527832,
          4.305039405822754,
          5.6240668296813965,
          4.7238006591796875,
          4.569381237030029,
          4.361403942108154,
          4.327779293060303,
          5.001293659210205,
          4.074151515960693,
          4.514846324920654,
          4.435178756713867,
          5.759818077087402,
          4.827727794647217,
          4.93826150894165,
          6.110831260681152,
          5.354053974151611,
          5.734541893005371,
          5.28144645690918,
          4.111178874969482,
          6.660947322845459,
          5.4839863777160645,
          5.6658830642700195,
          4.697359561920166,
          6.407844543457031,
          4.188714981079102,
          4.733282089233398,
          5.663437843322754,
          5.095560550689697,
          3.990403413772583,
          4.154327392578125,
          5.254985332489014,
          5.259397029876709,
          5.136326789855957,
          5.391745090484619,
          5.394812107086182,
          5.643308639526367,
          5.920416355133057,
          4.6156511306762695,
          5.108677864074707,
          5.599982738494873,
          4.018076419830322,
          5.2252678871154785,
          5.611659049987793,
          3.9862823486328125,
          5.133649826049805,
          5.884828090667725,
          5.050970077514648,
          4.838813781738281,
          4.480902671813965,
          4.301691055297852,
          4.163071632385254,
          6.442378520965576,
          5.370072364807129,
          4.827178001403809,
          4.451376438140869,
          6.4021501541137695,
          5.705170154571533,
          4.9576096534729,
          5.42036771774292,
          5.074044704437256,
          4.575587749481201,
          4.135672092437744,
          4.265218257904053,
          4.759449005126953,
          4.386193752288818,
          4.837642192840576,
          4.115202903747559,
          4.047967433929443,
          5.8879594802856445,
          5.099596977233887,
          3.974909543991089,
          4.747241973876953,
          4.494384765625,
          5.386289119720459,
          5.410122394561768,
          4.516563415527344,
          5.803359031677246,
          5.750528812408447,
          3.9661476612091064,
          5.914483070373535,
          4.781752586364746,
          5.08250093460083,
          4.545019626617432,
          4.361869812011719,
          5.252957344055176,
          4.286879539489746,
          4.364916801452637,
          4.602381706237793,
          6.3517937660217285,
          6.104701995849609,
          5.297425270080566,
          6.720789432525635,
          4.909662246704102,
          4.076211452484131,
          5.194628715515137,
          4.725018501281738,
          5.416950702667236,
          4.723845958709717,
          4.529714584350586,
          7.108734130859375,
          6.261729717254639,
          4.419886589050293,
          4.510989665985107,
          4.680734634399414,
          4.924129486083984,
          5.535951137542725,
          6.012870788574219,
          6.458317756652832,
          5.47459077835083,
          4.928055286407471,
          5.917491436004639,
          4.561383247375488,
          4.703085899353027,
          4.983809947967529,
          5.092159271240234,
          4.496735572814941,
          5.693575859069824,
          5.185630798339844,
          5.669586181640625,
          5.931362152099609,
          4.962329864501953,
          3.9661476612091064,
          5.29180908203125,
          5.149318218231201,
          3.868948221206665,
          6.234004974365234,
          4.232892036437988,
          5.301275730133057,
          4.918208122253418,
          5.652713298797607,
          4.6716437339782715,
          5.047514915466309,
          4.405393600463867,
          4.9482951164245605,
          5.195024013519287,
          6.313286304473877,
          6.354790210723877,
          4.858805179595947,
          5.5893378257751465,
          4.2776923179626465,
          5.9162917137146,
          4.624129295349121,
          5.087411403656006,
          5.185297012329102,
          5.368229866027832,
          4.487443447113037,
          5.196548938751221,
          5.066145896911621,
          5.732659339904785,
          3.940488815307617,
          4.877368927001953,
          4.851690769195557,
          5.147034645080566,
          4.547316074371338,
          5.484347343444824,
          5.402341365814209,
          6.156218528747559,
          3.96453857421875,
          4.526906967163086,
          4.82587194442749,
          4.863509654998779,
          4.922319412231445,
          4.536284923553467,
          6.06788969039917,
          4.601842880249023,
          4.649910926818848,
          5.281433582305908,
          4.01811408996582,
          4.624645233154297,
          5.112659931182861,
          5.027634620666504,
          4.839775562286377,
          5.211280345916748,
          6.624240398406982,
          5.17636251449585,
          4.147845268249512,
          4.344496726989746,
          4.823634624481201,
          4.911431789398193,
          5.45638370513916,
          4.463775157928467,
          4.771598815917969,
          4.861912250518799,
          5.627389430999756,
          5.74315071105957,
          5.460329532623291,
          5.482534408569336,
          4.843344211578369,
          4.886623859405518,
          3.960165500640869,
          5.395785808563232,
          4.826693058013916,
          4.047967433929443,
          4.290738582611084,
          5.54733943939209,
          5.007029056549072,
          4.2771897315979,
          4.044063568115234,
          3.4755306243896484,
          5.057775497436523,
          4.93422794342041,
          4.226009368896484,
          4.8612189292907715,
          4.002475738525391,
          5.836146354675293,
          5.9950852394104,
          5.008498668670654,
          5.007803916931152,
          3.904103994369507,
          5.366563320159912,
          6.584250450134277,
          4.78268575668335,
          5.606168270111084,
          4.789797782897949,
          4.807511329650879,
          4.7164435386657715,
          5.186341285705566,
          4.55147123336792,
          5.499259948730469,
          4.789412021636963,
          4.387183666229248,
          5.070991516113281,
          6.153045654296875,
          6.007665157318115,
          4.800403594970703,
          3.812777280807495,
          5.303545951843262,
          6.431105136871338,
          4.101189613342285,
          3.812777280807495,
          4.848093509674072,
          4.426105499267578,
          6.84835958480835,
          4.340211868286133,
          5.4648332595825195,
          5.303155899047852,
          5.712841033935547,
          4.831722259521484,
          4.734029769897461,
          4.755037307739258,
          5.220533847808838,
          5.614326477050781,
          4.750688076019287,
          5.138465404510498,
          5.900949478149414,
          4.151766777038574,
          4.284362316131592,
          5.1610026359558105,
          3.6546363830566406,
          4.902822971343994,
          4.301952838897705,
          5.642801761627197,
          5.230652809143066,
          4.859752655029297,
          5.043868541717529,
          4.674276351928711,
          5.198379993438721,
          4.3631696701049805,
          3.7989680767059326,
          5.3487324714660645,
          4.226363658905029,
          6.16769552230835,
          4.847195148468018,
          5.123660087585449,
          5.594182968139648,
          5.200614929199219,
          4.1022186279296875,
          5.640154838562012,
          5.040504455566406,
          4.7647786140441895,
          5.051665782928467,
          3.8646953105926514,
          4.606324672698975,
          4.896233558654785,
          4.926925182342529,
          4.8461408615112305,
          5.255129337310791,
          4.276144504547119,
          5.052603721618652,
          5.898149490356445,
          4.645779132843018,
          4.603182315826416,
          4.712655067443848,
          4.983809947967529,
          4.733225345611572,
          4.221482753753662,
          4.663146495819092,
          4.385584354400635,
          4.712965965270996,
          5.883366584777832,
          5.049859046936035,
          4.670403003692627,
          4.386759281158447,
          5.148393630981445,
          5.758735656738281,
          3.9926798343658447,
          5.4499664306640625,
          5.501531600952148,
          5.763101577758789,
          5.044604778289795,
          4.562410354614258,
          5.244342803955078,
          4.27572774887085,
          4.933879375457764,
          4.605165004730225,
          3.727198839187622,
          4.931601524353027,
          5.139867305755615,
          4.254902362823486,
          4.934757232666016,
          4.739758491516113,
          5.989111423492432,
          4.9531168937683105,
          4.502477645874023,
          5.033965110778809,
          5.033965110778809,
          5.033965110778809,
          4.457758903503418,
          4.587743282318115,
          5.534940242767334,
          5.5988383293151855,
          3.890873670578003,
          4.874952793121338,
          4.455550193786621,
          4.291087627410889,
          6.805010795593262,
          3.9530022144317627,
          5.067660808563232,
          4.435433864593506,
          4.85110330581665,
          4.435433864593506,
          4.609895706176758,
          4.515817642211914,
          4.22506046295166,
          5.307859420776367,
          5.6870269775390625,
          4.609895706176758,
          5.198379993438721,
          4.309463024139404,
          5.659839630126953,
          4.950966835021973,
          4.996290683746338,
          4.455899715423584,
          4.303481101989746,
          4.601677417755127,
          5.145397663116455,
          4.703381538391113,
          3.976706027984619,
          5.508965015411377,
          5.616458415985107,
          3.7658703327178955,
          5.744014263153076,
          4.017886161804199,
          5.200614929199219,
          5.073667526245117,
          5.681215286254883,
          4.721949577331543,
          4.405393600463867,
          5.482534408569336,
          5.235674858093262
         ]
        },
        {
         "name": "DGI+XM",
         "type": "histogram",
         "x": [
          3.1594247817993164,
          3.5267536640167236,
          4.055210590362549,
          3.875370979309082,
          3.797447681427002,
          4.388496398925781,
          3.6915736198425293,
          3.9035568237304688,
          3.906841278076172,
          3.5130844116210938,
          3.911693572998047,
          3.8129701614379883,
          3.7542011737823486,
          3.793954372406006,
          3.8367562294006348,
          3.7222211360931396,
          3.330928325653076,
          4.271589756011963,
          3.6258833408355713,
          4.100464820861816,
          4.038522243499756,
          4.569378852844238,
          3.552446126937866,
          4.2171149253845215,
          3.7944765090942383,
          3.3432791233062744,
          3.5940487384796143,
          3.7603931427001953,
          4.402823448181152,
          3.7627980709075928,
          3.9160380363464355,
          3.723184823989868,
          3.7077834606170654,
          3.5615692138671875,
          3.7285428047180176,
          3.743443727493286,
          3.9676711559295654,
          3.2500083446502686,
          3.505577325820923,
          3.7036991119384766,
          3.554232358932495,
          3.9824280738830566,
          4.010078430175781,
          3.6137983798980713,
          4.426628589630127,
          3.6330392360687256,
          4.059028625488281,
          3.8243370056152344,
          3.702009916305542,
          3.354130506515503,
          3.5800936222076416,
          3.4475772380828857,
          3.5225114822387695,
          3.585930824279785,
          3.6838204860687256,
          3.7648098468780518,
          3.630934476852417,
          3.6105191707611084,
          4.197603225708008,
          3.6222012042999268,
          3.7222900390625,
          3.243515729904175,
          3.705465316772461,
          3.7998058795928955,
          3.794459819793701,
          3.672377824783325,
          3.1964316368103027,
          3.5378427505493164,
          4.280404090881348,
          4.040622711181641,
          3.060361862182617,
          3.4912314414978027,
          3.593799591064453,
          3.6508235931396484,
          3.498624324798584,
          3.4395787715911865,
          3.4310853481292725,
          4.1960673332214355,
          3.7276439666748047,
          3.5075385570526123,
          3.9341542720794678,
          4.5300703048706055,
          3.78511905670166,
          4.430651664733887,
          3.5962471961975098,
          3.0549960136413574,
          3.72697114944458,
          4.049964904785156,
          3.493032455444336,
          3.3483307361602783,
          4.1833086013793945,
          3.5893654823303223,
          3.2335100173950195,
          3.949599504470825,
          3.7310564517974854,
          3.7207894325256348,
          3.7619876861572266,
          3.533452033996582,
          3.627866744995117,
          3.8738203048706055,
          3.597801446914673,
          3.354952573776245,
          3.4105424880981445,
          3.5959315299987793,
          3.2413322925567627,
          4.204127788543701,
          4.31207275390625,
          3.9231014251708984,
          3.5105090141296387,
          3.5673470497131348,
          2.9918715953826904,
          2.6792240142822266,
          3.219858407974243,
          3.4488766193389893,
          4.224891662597656,
          3.999523639678955,
          3.6450157165527344,
          3.270488977432251,
          3.685701370239258,
          3.4396095275878906,
          2.852942705154419,
          4.00820255279541,
          3.282500982284546,
          3.2508885860443115,
          3.607055425643921,
          3.7502334117889404,
          3.503220796585083,
          3.7125022411346436,
          4.361685276031494,
          4.339061260223389,
          3.2968382835388184,
          3.599696397781372,
          4.145002841949463,
          3.488248109817505,
          3.405776262283325,
          3.7023863792419434,
          3.2831666469573975,
          4.215987682342529,
          3.686767816543579,
          3.51145601272583,
          3.743541717529297,
          3.7139804363250732,
          4.012228012084961,
          3.591468095779419,
          3.4868669509887695,
          4.10791540145874,
          3.3845138549804688,
          3.9709889888763428,
          3.4095442295074463,
          3.360879421234131,
          3.679839611053467,
          3.7244997024536133,
          4.15311336517334,
          3.7218596935272217,
          4.145279407501221,
          3.250322103500366,
          3.621476650238037,
          3.4857962131500244,
          3.6983776092529297,
          3.80249285697937,
          3.5189974308013916,
          3.774834156036377,
          3.303687334060669,
          3.3154988288879395,
          3.2280685901641846,
          4.185807228088379,
          3.3335421085357666,
          3.1726529598236084,
          3.641678810119629,
          4.228286266326904,
          3.8611693382263184,
          3.76662015914917,
          3.863271713256836,
          3.74786114692688,
          3.66867995262146,
          3.4064319133758545,
          3.3319664001464844,
          3.4887611865997314,
          3.5058207511901855,
          3.5382776260375977,
          3.523852825164795,
          3.7291884422302246,
          3.417834997177124,
          4.342468738555908,
          4.340556621551514,
          3.403926372528076,
          3.6135635375976562,
          4.295856952667236,
          4.275487422943115,
          3.5929665565490723,
          3.880878210067749,
          3.955418348312378,
          3.512840509414673,
          3.3625099658966064,
          3.596731185913086,
          3.6934568881988525,
          3.5454256534576416,
          3.8494722843170166,
          3.528913736343384,
          3.6383368968963623,
          3.846205949783325,
          3.9050099849700928,
          3.534123182296753,
          3.971268653869629,
          3.4967124462127686,
          3.5400843620300293,
          3.6924970149993896,
          3.5464508533477783,
          3.4002881050109863,
          4.081048011779785,
          4.503237724304199,
          3.593379020690918,
          3.3953182697296143,
          3.3340253829956055,
          3.9096269607543945,
          4.030709743499756,
          3.804577589035034,
          3.5532190799713135,
          3.804318904876709,
          4.0203704833984375,
          3.5584194660186768,
          3.8408024311065674,
          3.9071288108825684,
          3.9878878593444824,
          3.954617977142334,
          3.542468547821045,
          3.7377073764801025,
          3.3744661808013916,
          3.4293053150177,
          3.3899948596954346,
          3.4195914268493652,
          3.8581886291503906,
          3.882929563522339,
          4.165651798248291,
          3.8299150466918945,
          3.7643353939056396,
          4.105922222137451,
          3.5248873233795166,
          3.541416883468628,
          3.4869186878204346,
          3.5055091381073,
          3.4622347354888916,
          3.94626784324646,
          3.499558210372925,
          3.8165175914764404,
          3.5155045986175537,
          3.450336217880249,
          3.2921571731567383,
          3.542696714401245,
          4.563935279846191,
          3.7242636680603027,
          3.6753883361816406,
          4.01205587387085,
          4.032493591308594,
          3.8532023429870605,
          4.097735404968262,
          3.946828842163086,
          3.0644311904907227,
          3.5499424934387207,
          3.6163010597229004,
          3.586329936981201,
          3.696805000305176,
          3.403808832168579,
          3.649392604827881,
          3.6467206478118896,
          3.426913261413574,
          3.3813998699188232,
          3.378023386001587,
          4.025132656097412,
          4.234530925750732,
          2.911135196685791,
          3.7245991230010986,
          3.2836050987243652,
          3.6160528659820557,
          3.530181646347046,
          3.4794201850891113,
          3.0839364528656006,
          3.2441840171813965,
          3.6378443241119385,
          3.1394245624542236,
          4.635415554046631,
          3.679065704345703,
          3.5588133335113525,
          3.7307748794555664,
          3.1064202785491943,
          3.917349100112915,
          3.6469907760620117,
          3.7753498554229736,
          3.4199233055114746,
          3.1698381900787354,
          4.252953052520752,
          3.084907054901123,
          3.8899877071380615,
          3.5755114555358887,
          3.266043186187744,
          3.368589401245117,
          3.589996814727783,
          3.596522331237793,
          3.6099135875701904,
          3.400310754776001,
          3.9516122341156006,
          3.6911749839782715,
          3.6823220252990723,
          4.1356730461120605,
          3.2915472984313965,
          3.1998708248138428,
          3.9365618228912354,
          3.2906060218811035,
          3.1302900314331055,
          3.057034492492676,
          3.583653450012207,
          3.8328280448913574,
          3.5040507316589355,
          3.031771659851074,
          3.966566562652588,
          3.6358513832092285,
          3.3863260746002197,
          3.178427219390869,
          3.6648640632629395,
          2.7743117809295654,
          3.730257272720337,
          3.8303771018981934,
          3.5186283588409424,
          3.4974710941314697,
          3.487191915512085,
          3.565051555633545,
          3.9974799156188965,
          4.351250171661377,
          3.544792890548706,
          4.0580644607543945,
          3.2488913536071777,
          2.9545066356658936,
          3.7105765342712402,
          4.431126117706299,
          3.3774213790893555,
          3.4759087562561035,
          3.7008581161499023,
          4.121216773986816,
          3.745647668838501,
          3.6917994022369385,
          3.0919432640075684,
          2.8652408123016357,
          3.621039628982544,
          3.0649561882019043,
          3.8893518447875977,
          3.4725279808044434,
          3.718719959259033,
          3.522470712661743,
          2.477848768234253,
          3.364532947540283,
          3.5180225372314453,
          3.552581310272217,
          3.5560801029205322,
          3.67974853515625,
          2.8362152576446533,
          3.8469693660736084,
          4.088239669799805,
          4.082686901092529,
          3.9011173248291016,
          3.456376075744629,
          3.4139840602874756,
          3.9577770233154297,
          3.602198362350464,
          3.6623640060424805,
          3.5876619815826416,
          3.497392416000366,
          3.3744752407073975,
          4.572775840759277,
          3.6981375217437744,
          3.1836698055267334,
          3.423394203186035,
          4.397707462310791,
          3.9330835342407227,
          3.203805685043335,
          3.514174461364746,
          3.6909019947052,
          3.72544264793396,
          3.9959070682525635,
          3.082913875579834,
          3.3809776306152344,
          3.4719345569610596,
          3.676180124282837,
          2.415785074234009,
          2.660062074661255,
          3.0977890491485596,
          2.928577184677124,
          2.8630552291870117,
          3.046694040298462,
          3.3045616149902344,
          3.2906205654144287,
          3.5957419872283936,
          3.0857155323028564,
          3.003331184387207,
          3.798123359680176,
          3.5329480171203613,
          3.543365001678467,
          2.5658650398254395,
          3.625180244445801,
          2.4426066875457764,
          3.567781448364258,
          4.1006975173950195,
          3.990311622619629,
          2.747488498687744,
          3.3540256023406982,
          4.188045024871826,
          4.039030075073242,
          3.8025221824645996,
          3.691739559173584,
          3.8816325664520264,
          3.447843313217163,
          2.88944673538208,
          4.3363823890686035,
          3.4881234169006348,
          3.4648661613464355,
          2.7051942348480225,
          2.808154582977295,
          3.2531168460845947,
          3.8519771099090576,
          3.87565016746521,
          3.3112576007843018,
          2.915541887283325,
          2.8286805152893066,
          3.7293076515197754,
          3.9410343170166016,
          3.861708879470825,
          3.810971975326538,
          3.756711959838867,
          3.606367588043213,
          3.654677391052246,
          3.7512145042419434,
          3.3093690872192383,
          3.906412124633789,
          2.5330235958099365,
          3.18806791305542,
          4.260409832000732,
          3.3536341190338135,
          2.618992328643799,
          3.5825250148773193,
          4.123754024505615,
          2.5636351108551025,
          3.5997207164764404,
          3.914482831954956,
          3.3346598148345947,
          3.456256866455078,
          3.6426587104797363,
          4.067946434020996,
          3.526613473892212,
          3.351318359375,
          3.418375253677368,
          2.465743064880371,
          3.2902793884277344,
          3.4340085983276367,
          3.9889893531799316,
          3.5870301723480225,
          2.9474570751190186,
          3.604729652404785,
          2.9570467472076416,
          3.6497626304626465,
          3.7462947368621826,
          3.4098217487335205,
          3.1211347579956055,
          3.500701904296875,
          3.4819765090942383,
          3.0899691581726074,
          3.039879560470581,
          3.325007915496826,
          3.2596163749694824,
          3.538503646850586,
          4.156606674194336,
          3.41424298286438,
          3.6166176795959473,
          3.996978998184204,
          3.111323356628418,
          3.7517812252044678,
          3.834007501602173,
          2.699376344680786,
          2.4942619800567627,
          2.8218517303466797,
          3.544863224029541,
          3.380767822265625,
          3.3187644481658936,
          3.6527459621429443,
          3.317877769470215,
          3.4022698402404785,
          3.8640036582946777,
          3.098647356033325,
          3.1869301795959473,
          3.396432638168335,
          2.848029136657715,
          3.82431697845459,
          3.8323285579681396,
          3.205348253250122,
          4.060481548309326,
          4.071253776550293,
          3.2081542015075684,
          4.13070821762085,
          3.6718060970306396,
          3.6806704998016357,
          3.251452684402466,
          3.5683963298797607,
          3.3478076457977295,
          3.568943738937378,
          3.7750186920166016,
          3.0470733642578125,
          3.864596366882324,
          3.5031912326812744,
          3.4869370460510254,
          3.2576193809509277,
          3.941134214401245,
          3.792794942855835,
          3.4990546703338623,
          3.108485698699951,
          3.568131446838379,
          3.2216427326202393,
          2.8568339347839355,
          3.3209424018859863,
          3.920126438140869,
          3.464570999145508,
          3.4375672340393066,
          3.3330936431884766,
          3.7981326580047607,
          3.2726728916168213,
          2.9348347187042236,
          3.167504072189331,
          3.130084991455078,
          3.526144027709961,
          3.4696266651153564,
          3.2364182472229004,
          3.379539966583252,
          3.77679443359375,
          3.2524006366729736,
          4.359305381774902,
          3.2905373573303223,
          3.8234670162200928,
          3.1038901805877686,
          3.515481948852539,
          3.234628677368164,
          3.1028928756713867,
          3.4267044067382812,
          3.6182029247283936,
          3.3298850059509277,
          3.2969119548797607,
          3.2565832138061523,
          4.062341213226318,
          4.189392566680908,
          3.577011823654175,
          3.4030566215515137,
          3.6551513671875,
          3.9086062908172607,
          3.9668073654174805,
          3.4253313541412354,
          3.962256908416748,
          3.6868317127227783,
          2.9992408752441406,
          3.6486144065856934,
          3.311250686645508,
          3.616101026535034,
          3.9878618717193604,
          2.9312682151794434,
          3.630749464035034,
          3.5544145107269287,
          2.7951183319091797,
          3.126999616622925,
          3.5858957767486572,
          3.3167264461517334,
          3.1241698265075684,
          3.4218177795410156,
          3.306588649749756,
          3.6251494884490967,
          3.687774181365967,
          3.4133522510528564,
          3.231292963027954,
          3.4697015285491943,
          3.017852783203125,
          2.7738003730773926,
          3.1557819843292236,
          3.691664218902588,
          3.013868808746338,
          2.6397552490234375,
          3.399949550628662,
          3.1774866580963135,
          3.738673448562622,
          2.704500198364258,
          2.6328234672546387,
          3.3607170581817627,
          3.5037248134613037,
          3.3959035873413086,
          3.563828945159912,
          3.9196059703826904,
          3.522780179977417,
          3.436753034591675,
          3.3583576679229736,
          3.4813599586486816,
          2.5997955799102783,
          2.897380828857422,
          3.4436676502227783,
          3.175623893737793,
          2.8507251739501953,
          3.2631125450134277,
          3.468550443649292,
          3.982227325439453,
          3.5205347537994385,
          2.465743064880371,
          3.3959262371063232,
          2.6555721759796143,
          3.2858381271362305,
          3.6678035259246826,
          3.549112319946289,
          3.224398612976074,
          3.0106916427612305,
          4.3978729248046875,
          3.69588303565979,
          3.291029691696167,
          3.2279021739959717,
          3.2933506965637207,
          3.2783422470092773,
          3.534625768661499,
          3.392408847808838,
          2.8328328132629395,
          2.9688875675201416,
          3.0629074573516846,
          2.704920768737793,
          3.2287633419036865,
          2.848602294921875,
          2.67570424079895,
          3.473747491836548,
          3.1317453384399414,
          2.856588125228882,
          3.224442481994629,
          3.6368091106414795,
          3.320659875869751,
          3.2536163330078125,
          2.913816213607788,
          3.066276788711548,
          2.730234384536743,
          3.0891878604888916,
          3.1438379287719727,
          3.4955239295959473,
          3.433123826980591,
          3.102222442626953,
          3.4033102989196777,
          3.291663408279419,
          3.559114456176758,
          3.609468460083008,
          2.8220980167388916,
          3.915642499923706,
          3.5193960666656494,
          3.434962749481201,
          2.9760773181915283,
          3.479949712753296,
          3.0129594802856445,
          3.1362085342407227,
          3.57463002204895,
          2.9790432453155518,
          2.688767194747925,
          3.211906909942627,
          3.2684457302093506,
          3.459218978881836,
          3.0059378147125244,
          3.4864046573638916,
          3.596174478530884,
          3.847015380859375,
          3.418320417404175,
          2.9465184211730957,
          3.6336193084716797,
          3.385680913925171,
          2.5919270515441895,
          3.7180464267730713,
          3.405038595199585,
          2.725534200668335,
          3.403703212738037,
          3.7878828048706055,
          2.7400009632110596,
          3.4989569187164307,
          2.9056131839752197,
          2.6507561206817627,
          3.3724677562713623,
          3.6808815002441406,
          2.9343409538269043,
          2.78532075881958,
          2.6704177856445312,
          3.6694822311401367,
          2.997419834136963,
          2.60807466506958,
          3.3760554790496826,
          3.533694267272949,
          2.8029143810272217,
          2.9390320777893066,
          3.029232978820801,
          3.5567996501922607,
          3.457073211669922,
          2.7951183319091797,
          2.811457872390747,
          2.8656349182128906,
          3.400801420211792,
          3.3710012435913086,
          3.301058769226074,
          3.327479839324951,
          2.8566501140594482,
          3.6140687465667725,
          3.383445978164673,
          2.7380990982055664,
          3.614781618118286,
          3.2425544261932373,
          2.7396299839019775,
          3.5296883583068848,
          2.7327566146850586,
          3.498471736907959,
          3.4275293350219727,
          2.9100117683410645,
          3.052464008331299,
          3.2347683906555176,
          3.051072835922241,
          2.6339681148529053,
          3.55350661277771,
          3.3575851917266846,
          3.640864133834839,
          3.7843356132507324,
          2.6322267055511475,
          3.160435676574707,
          2.957892894744873,
          2.939924478530884,
          3.211486577987671,
          3.0268115997314453,
          3.184319019317627,
          3.7677059173583984,
          3.245851516723633,
          2.9572224617004395,
          2.8121371269226074,
          3.5784056186676025,
          2.9993340969085693,
          3.62629771232605,
          3.9409706592559814,
          3.5566201210021973,
          3.07765793800354,
          2.607079029083252,
          2.948164701461792,
          3.391787528991699,
          3.505770206451416,
          3.340358257293701,
          3.545531749725342,
          3.085329294204712,
          3.449345111846924,
          2.987534284591675,
          3.264008045196533,
          3.4279284477233887,
          2.851301670074463,
          2.7396299839019775,
          2.9258079528808594,
          3.4659948348999023,
          2.8297932147979736,
          3.2192859649658203,
          3.036909580230713,
          3.2935099601745605,
          2.8105156421661377,
          3.008354902267456,
          3.0480620861053467,
          2.974515438079834,
          2.6574597358703613,
          3.636659860610962,
          3.7558281421661377,
          3.3264811038970947,
          3.62561297416687,
          3.34342622756958,
          3.4282283782958984,
          2.5934648513793945,
          3.284006357192993,
          3.0218448638916016,
          2.9073402881622314,
          3.090178966522217,
          3.4737069606781006,
          3.0875823497772217,
          3.1988871097564697,
          2.915144920349121,
          3.2913103103637695,
          3.0553131103515625,
          2.7932112216949463,
          3.3343772888183594,
          2.8314099311828613,
          2.7065818309783936,
          3.398303270339966,
          2.980863332748413,
          3.319246292114258,
          2.708573341369629,
          2.828334331512451,
          3.5002281665802,
          3.0936148166656494,
          2.637754440307617,
          2.9979379177093506,
          3.357327938079834,
          3.6322214603424072,
          2.902653217315674,
          3.0835745334625244,
          3.3780391216278076,
          3.663884162902832,
          3.0551021099090576,
          3.2337145805358887,
          3.4958465099334717,
          3.381316900253296,
          3.2832329273223877,
          3.195688247680664,
          3.8395333290100098,
          3.0443012714385986,
          3.2834396362304688,
          3.6362268924713135,
          3.13948392868042,
          3.1792192459106445,
          3.505038261413574,
          2.8304288387298584,
          3.9119274616241455,
          3.398744583129883,
          3.0446267127990723,
          3.1311652660369873,
          3.5270273685455322,
          2.834683418273926,
          3.0468862056732178,
          3.1617865562438965,
          3.262256383895874,
          2.8656349182128906,
          2.8819420337677,
          3.017214059829712,
          3.0238232612609863,
          2.9767239093780518,
          2.6952626705169678,
          2.6129443645477295,
          2.8990843296051025,
          3.630361318588257,
          3.0671956539154053,
          3.519299030303955,
          2.581742286682129,
          3.401219606399536,
          3.1469266414642334,
          3.5790855884552,
          3.215562582015991,
          3.0496468544006348,
          2.712770700454712,
          3.4314310550689697,
          3.857935667037964,
          3.123352527618408,
          2.7909560203552246,
          3.976200580596924,
          3.578862428665161,
          2.879399061203003,
          2.6964807510375977,
          3.083325147628784,
          2.974017858505249,
          2.778778076171875,
          2.933495283126831,
          3.395078420639038,
          3.2665915489196777,
          2.9951565265655518,
          2.4002623558044434,
          3.0727174282073975,
          3.726353406906128,
          2.75677490234375,
          2.4002623558044434,
          2.94974422454834,
          2.625298023223877,
          3.4654645919799805,
          2.707256317138672,
          3.072848320007324,
          3.67173171043396,
          3.6509132385253906,
          3.353999376296997,
          3.000875234603882,
          3.0289978981018066,
          3.422524929046631,
          3.40596342086792,
          3.490187883377075,
          2.933635950088501,
          3.390857696533203,
          2.958265542984009,
          2.900752305984497,
          3.600377082824707,
          2.532214641571045,
          2.8371129035949707,
          2.6144425868988037,
          3.7868738174438477,
          2.8993980884552,
          2.956186532974243,
          2.9932003021240234,
          3.4394407272338867,
          3.016249656677246,
          3.223834991455078,
          2.631869077682495,
          2.931582450866699,
          2.7463366985321045,
          3.3364205360412598,
          3.58151912689209,
          3.7289931774139404,
          2.8301708698272705,
          3.2079100608825684,
          2.5313897132873535,
          3.3230092525482178,
          3.6813690662384033,
          3.3622958660125732,
          2.738128662109375,
          2.465743064880371,
          3.543952465057373,
          3.6210479736328125,
          3.1435868740081787,
          2.829528570175171,
          3.198137044906616,
          3.0842196941375732,
          3.9094483852386475,
          3.3540122509002686,
          3.1008780002593994,
          3.2162671089172363,
          3.446084499359131,
          3.340358257293701,
          3.4146883487701416,
          3.144028425216675,
          3.370924949645996,
          3.7684450149536133,
          3.46303129196167,
          3.2216122150421143,
          3.217276096343994,
          3.534667730331421,
          2.929048538208008,
          2.9733753204345703,
          3.4252960681915283,
          2.696854829788208,
          3.1824865341186523,
          3.015434503555298,
          3.4272618293762207,
          2.801316261291504,
          3.1489217281341553,
          3.048346519470215,
          2.696521520614624,
          2.680143356323242,
          3.144886016845703,
          2.7363831996917725,
          3.404252052307129,
          3.4119508266448975,
          3.1176564693450928,
          2.6400182247161865,
          3.0698838233947754,
          3.6835341453552246,
          3.134249448776245,
          2.7830846309661865,
          3.425088405609131,
          3.425088405609131,
          3.425088405609131,
          2.9073915481567383,
          3.528506278991699,
          3.1501686573028564,
          3.1097843647003174,
          2.626819610595703,
          2.855872869491577,
          3.2816784381866455,
          2.848597288131714,
          3.655466318130493,
          4.107825756072998,
          2.7567226886749268,
          2.9231576919555664,
          2.8640918731689453,
          2.9231576919555664,
          3.5024919509887695,
          3.2917232513427734,
          2.6984870433807373,
          3.239109754562378,
          3.7062766551971436,
          3.5024919509887695,
          3.016249656677246,
          2.6196441650390625,
          3.177081823348999,
          2.6706631183624268,
          3.034627676010132,
          2.728837013244629,
          2.8301913738250732,
          3.361879348754883,
          3.484571695327759,
          2.7736358642578125,
          2.67657470703125,
          3.0715839862823486,
          3.657627820968628,
          2.599243640899658,
          3.2163829803466797,
          2.626882553100586,
          3.2079100608825684,
          2.816985845565796,
          3.2103428840637207,
          3.0838706493377686,
          2.6574597358703613,
          3.1311652660369873,
          2.8738958835601807
         ]
        }
       ],
       "layout": {
        "font": {
         "size": 20
        },
        "paper_bgcolor": "white",
        "plot_bgcolor": "white",
        "template": {
         "data": {
          "bar": [
           {
            "error_x": {
             "color": "#2a3f5f"
            },
            "error_y": {
             "color": "#2a3f5f"
            },
            "marker": {
             "line": {
              "color": "#E5ECF6",
              "width": 0.5
             },
             "pattern": {
              "fillmode": "overlay",
              "size": 10,
              "solidity": 0.2
             }
            },
            "type": "bar"
           }
          ],
          "barpolar": [
           {
            "marker": {
             "line": {
              "color": "#E5ECF6",
              "width": 0.5
             },
             "pattern": {
              "fillmode": "overlay",
              "size": 10,
              "solidity": 0.2
             }
            },
            "type": "barpolar"
           }
          ],
          "carpet": [
           {
            "aaxis": {
             "endlinecolor": "#2a3f5f",
             "gridcolor": "white",
             "linecolor": "white",
             "minorgridcolor": "white",
             "startlinecolor": "#2a3f5f"
            },
            "baxis": {
             "endlinecolor": "#2a3f5f",
             "gridcolor": "white",
             "linecolor": "white",
             "minorgridcolor": "white",
             "startlinecolor": "#2a3f5f"
            },
            "type": "carpet"
           }
          ],
          "choropleth": [
           {
            "colorbar": {
             "outlinewidth": 0,
             "ticks": ""
            },
            "type": "choropleth"
           }
          ],
          "contour": [
           {
            "colorbar": {
             "outlinewidth": 0,
             "ticks": ""
            },
            "colorscale": [
             [
              0,
              "#0d0887"
             ],
             [
              0.1111111111111111,
              "#46039f"
             ],
             [
              0.2222222222222222,
              "#7201a8"
             ],
             [
              0.3333333333333333,
              "#9c179e"
             ],
             [
              0.4444444444444444,
              "#bd3786"
             ],
             [
              0.5555555555555556,
              "#d8576b"
             ],
             [
              0.6666666666666666,
              "#ed7953"
             ],
             [
              0.7777777777777778,
              "#fb9f3a"
             ],
             [
              0.8888888888888888,
              "#fdca26"
             ],
             [
              1,
              "#f0f921"
             ]
            ],
            "type": "contour"
           }
          ],
          "contourcarpet": [
           {
            "colorbar": {
             "outlinewidth": 0,
             "ticks": ""
            },
            "type": "contourcarpet"
           }
          ],
          "heatmap": [
           {
            "colorbar": {
             "outlinewidth": 0,
             "ticks": ""
            },
            "colorscale": [
             [
              0,
              "#0d0887"
             ],
             [
              0.1111111111111111,
              "#46039f"
             ],
             [
              0.2222222222222222,
              "#7201a8"
             ],
             [
              0.3333333333333333,
              "#9c179e"
             ],
             [
              0.4444444444444444,
              "#bd3786"
             ],
             [
              0.5555555555555556,
              "#d8576b"
             ],
             [
              0.6666666666666666,
              "#ed7953"
             ],
             [
              0.7777777777777778,
              "#fb9f3a"
             ],
             [
              0.8888888888888888,
              "#fdca26"
             ],
             [
              1,
              "#f0f921"
             ]
            ],
            "type": "heatmap"
           }
          ],
          "heatmapgl": [
           {
            "colorbar": {
             "outlinewidth": 0,
             "ticks": ""
            },
            "colorscale": [
             [
              0,
              "#0d0887"
             ],
             [
              0.1111111111111111,
              "#46039f"
             ],
             [
              0.2222222222222222,
              "#7201a8"
             ],
             [
              0.3333333333333333,
              "#9c179e"
             ],
             [
              0.4444444444444444,
              "#bd3786"
             ],
             [
              0.5555555555555556,
              "#d8576b"
             ],
             [
              0.6666666666666666,
              "#ed7953"
             ],
             [
              0.7777777777777778,
              "#fb9f3a"
             ],
             [
              0.8888888888888888,
              "#fdca26"
             ],
             [
              1,
              "#f0f921"
             ]
            ],
            "type": "heatmapgl"
           }
          ],
          "histogram": [
           {
            "marker": {
             "pattern": {
              "fillmode": "overlay",
              "size": 10,
              "solidity": 0.2
             }
            },
            "type": "histogram"
           }
          ],
          "histogram2d": [
           {
            "colorbar": {
             "outlinewidth": 0,
             "ticks": ""
            },
            "colorscale": [
             [
              0,
              "#0d0887"
             ],
             [
              0.1111111111111111,
              "#46039f"
             ],
             [
              0.2222222222222222,
              "#7201a8"
             ],
             [
              0.3333333333333333,
              "#9c179e"
             ],
             [
              0.4444444444444444,
              "#bd3786"
             ],
             [
              0.5555555555555556,
              "#d8576b"
             ],
             [
              0.6666666666666666,
              "#ed7953"
             ],
             [
              0.7777777777777778,
              "#fb9f3a"
             ],
             [
              0.8888888888888888,
              "#fdca26"
             ],
             [
              1,
              "#f0f921"
             ]
            ],
            "type": "histogram2d"
           }
          ],
          "histogram2dcontour": [
           {
            "colorbar": {
             "outlinewidth": 0,
             "ticks": ""
            },
            "colorscale": [
             [
              0,
              "#0d0887"
             ],
             [
              0.1111111111111111,
              "#46039f"
             ],
             [
              0.2222222222222222,
              "#7201a8"
             ],
             [
              0.3333333333333333,
              "#9c179e"
             ],
             [
              0.4444444444444444,
              "#bd3786"
             ],
             [
              0.5555555555555556,
              "#d8576b"
             ],
             [
              0.6666666666666666,
              "#ed7953"
             ],
             [
              0.7777777777777778,
              "#fb9f3a"
             ],
             [
              0.8888888888888888,
              "#fdca26"
             ],
             [
              1,
              "#f0f921"
             ]
            ],
            "type": "histogram2dcontour"
           }
          ],
          "mesh3d": [
           {
            "colorbar": {
             "outlinewidth": 0,
             "ticks": ""
            },
            "type": "mesh3d"
           }
          ],
          "parcoords": [
           {
            "line": {
             "colorbar": {
              "outlinewidth": 0,
              "ticks": ""
             }
            },
            "type": "parcoords"
           }
          ],
          "pie": [
           {
            "automargin": true,
            "type": "pie"
           }
          ],
          "scatter": [
           {
            "fillpattern": {
             "fillmode": "overlay",
             "size": 10,
             "solidity": 0.2
            },
            "type": "scatter"
           }
          ],
          "scatter3d": [
           {
            "line": {
             "colorbar": {
              "outlinewidth": 0,
              "ticks": ""
             }
            },
            "marker": {
             "colorbar": {
              "outlinewidth": 0,
              "ticks": ""
             }
            },
            "type": "scatter3d"
           }
          ],
          "scattercarpet": [
           {
            "marker": {
             "colorbar": {
              "outlinewidth": 0,
              "ticks": ""
             }
            },
            "type": "scattercarpet"
           }
          ],
          "scattergeo": [
           {
            "marker": {
             "colorbar": {
              "outlinewidth": 0,
              "ticks": ""
             }
            },
            "type": "scattergeo"
           }
          ],
          "scattergl": [
           {
            "marker": {
             "colorbar": {
              "outlinewidth": 0,
              "ticks": ""
             }
            },
            "type": "scattergl"
           }
          ],
          "scattermapbox": [
           {
            "marker": {
             "colorbar": {
              "outlinewidth": 0,
              "ticks": ""
             }
            },
            "type": "scattermapbox"
           }
          ],
          "scatterpolar": [
           {
            "marker": {
             "colorbar": {
              "outlinewidth": 0,
              "ticks": ""
             }
            },
            "type": "scatterpolar"
           }
          ],
          "scatterpolargl": [
           {
            "marker": {
             "colorbar": {
              "outlinewidth": 0,
              "ticks": ""
             }
            },
            "type": "scatterpolargl"
           }
          ],
          "scatterternary": [
           {
            "marker": {
             "colorbar": {
              "outlinewidth": 0,
              "ticks": ""
             }
            },
            "type": "scatterternary"
           }
          ],
          "surface": [
           {
            "colorbar": {
             "outlinewidth": 0,
             "ticks": ""
            },
            "colorscale": [
             [
              0,
              "#0d0887"
             ],
             [
              0.1111111111111111,
              "#46039f"
             ],
             [
              0.2222222222222222,
              "#7201a8"
             ],
             [
              0.3333333333333333,
              "#9c179e"
             ],
             [
              0.4444444444444444,
              "#bd3786"
             ],
             [
              0.5555555555555556,
              "#d8576b"
             ],
             [
              0.6666666666666666,
              "#ed7953"
             ],
             [
              0.7777777777777778,
              "#fb9f3a"
             ],
             [
              0.8888888888888888,
              "#fdca26"
             ],
             [
              1,
              "#f0f921"
             ]
            ],
            "type": "surface"
           }
          ],
          "table": [
           {
            "cells": {
             "fill": {
              "color": "#EBF0F8"
             },
             "line": {
              "color": "white"
             }
            },
            "header": {
             "fill": {
              "color": "#C8D4E3"
             },
             "line": {
              "color": "white"
             }
            },
            "type": "table"
           }
          ]
         },
         "layout": {
          "annotationdefaults": {
           "arrowcolor": "#2a3f5f",
           "arrowhead": 0,
           "arrowwidth": 1
          },
          "autotypenumbers": "strict",
          "coloraxis": {
           "colorbar": {
            "outlinewidth": 0,
            "ticks": ""
           }
          },
          "colorscale": {
           "diverging": [
            [
             0,
             "#8e0152"
            ],
            [
             0.1,
             "#c51b7d"
            ],
            [
             0.2,
             "#de77ae"
            ],
            [
             0.3,
             "#f1b6da"
            ],
            [
             0.4,
             "#fde0ef"
            ],
            [
             0.5,
             "#f7f7f7"
            ],
            [
             0.6,
             "#e6f5d0"
            ],
            [
             0.7,
             "#b8e186"
            ],
            [
             0.8,
             "#7fbc41"
            ],
            [
             0.9,
             "#4d9221"
            ],
            [
             1,
             "#276419"
            ]
           ],
           "sequential": [
            [
             0,
             "#0d0887"
            ],
            [
             0.1111111111111111,
             "#46039f"
            ],
            [
             0.2222222222222222,
             "#7201a8"
            ],
            [
             0.3333333333333333,
             "#9c179e"
            ],
            [
             0.4444444444444444,
             "#bd3786"
            ],
            [
             0.5555555555555556,
             "#d8576b"
            ],
            [
             0.6666666666666666,
             "#ed7953"
            ],
            [
             0.7777777777777778,
             "#fb9f3a"
            ],
            [
             0.8888888888888888,
             "#fdca26"
            ],
            [
             1,
             "#f0f921"
            ]
           ],
           "sequentialminus": [
            [
             0,
             "#0d0887"
            ],
            [
             0.1111111111111111,
             "#46039f"
            ],
            [
             0.2222222222222222,
             "#7201a8"
            ],
            [
             0.3333333333333333,
             "#9c179e"
            ],
            [
             0.4444444444444444,
             "#bd3786"
            ],
            [
             0.5555555555555556,
             "#d8576b"
            ],
            [
             0.6666666666666666,
             "#ed7953"
            ],
            [
             0.7777777777777778,
             "#fb9f3a"
            ],
            [
             0.8888888888888888,
             "#fdca26"
            ],
            [
             1,
             "#f0f921"
            ]
           ]
          },
          "colorway": [
           "#636efa",
           "#EF553B",
           "#00cc96",
           "#ab63fa",
           "#FFA15A",
           "#19d3f3",
           "#FF6692",
           "#B6E880",
           "#FF97FF",
           "#FECB52"
          ],
          "font": {
           "color": "#2a3f5f"
          },
          "geo": {
           "bgcolor": "white",
           "lakecolor": "white",
           "landcolor": "#E5ECF6",
           "showlakes": true,
           "showland": true,
           "subunitcolor": "white"
          },
          "hoverlabel": {
           "align": "left"
          },
          "hovermode": "closest",
          "mapbox": {
           "style": "light"
          },
          "paper_bgcolor": "white",
          "plot_bgcolor": "#E5ECF6",
          "polar": {
           "angularaxis": {
            "gridcolor": "white",
            "linecolor": "white",
            "ticks": ""
           },
           "bgcolor": "#E5ECF6",
           "radialaxis": {
            "gridcolor": "white",
            "linecolor": "white",
            "ticks": ""
           }
          },
          "scene": {
           "xaxis": {
            "backgroundcolor": "#E5ECF6",
            "gridcolor": "white",
            "gridwidth": 2,
            "linecolor": "white",
            "showbackground": true,
            "ticks": "",
            "zerolinecolor": "white"
           },
           "yaxis": {
            "backgroundcolor": "#E5ECF6",
            "gridcolor": "white",
            "gridwidth": 2,
            "linecolor": "white",
            "showbackground": true,
            "ticks": "",
            "zerolinecolor": "white"
           },
           "zaxis": {
            "backgroundcolor": "#E5ECF6",
            "gridcolor": "white",
            "gridwidth": 2,
            "linecolor": "white",
            "showbackground": true,
            "ticks": "",
            "zerolinecolor": "white"
           }
          },
          "shapedefaults": {
           "line": {
            "color": "#2a3f5f"
           }
          },
          "ternary": {
           "aaxis": {
            "gridcolor": "white",
            "linecolor": "white",
            "ticks": ""
           },
           "baxis": {
            "gridcolor": "white",
            "linecolor": "white",
            "ticks": ""
           },
           "bgcolor": "#E5ECF6",
           "caxis": {
            "gridcolor": "white",
            "linecolor": "white",
            "ticks": ""
           }
          },
          "title": {
           "x": 0.05
          },
          "xaxis": {
           "automargin": true,
           "gridcolor": "white",
           "linecolor": "white",
           "ticks": "",
           "title": {
            "standoff": 15
           },
           "zerolinecolor": "white",
           "zerolinewidth": 2
          },
          "yaxis": {
           "automargin": true,
           "gridcolor": "white",
           "linecolor": "white",
           "ticks": "",
           "title": {
            "standoff": 15
           },
           "zerolinecolor": "white",
           "zerolinewidth": 2
          }
         }
        },
        "title": {
         "text": "Distribution of Nuclear Norm of Node Explain Matrix"
        },
        "xaxis": {
         "title": {
          "text": "Nuclear Norm"
         }
        },
        "yaxis": {
         "title": {
          "text": "Frequency"
         }
        }
       }
      },
      "text/html": [
       "<div>                            <div id=\"14809c80-da39-4b2c-9aa2-952127986724\" class=\"plotly-graph-div\" style=\"height:525px; width:100%;\"></div>            <script type=\"text/javascript\">                require([\"plotly\"], function(Plotly) {                    window.PLOTLYENV=window.PLOTLYENV || {};                                    if (document.getElementById(\"14809c80-da39-4b2c-9aa2-952127986724\")) {                    Plotly.newPlot(                        \"14809c80-da39-4b2c-9aa2-952127986724\",                        [{\"name\":\"DGI\",\"x\":[4.279569625854492,4.579095363616943,4.409626483917236,4.638545989990234,4.228288650512695,4.275597095489502,3.9354910850524902,4.293959617614746,5.324033737182617,4.186145305633545,5.491784572601318,4.291988849639893,4.605759620666504,3.7129576206207275,4.501705646514893,4.599106788635254,4.205964088439941,4.818454742431641,4.898194313049316,4.964322566986084,4.830564975738525,4.927132606506348,5.681216716766357,5.055230617523193,4.404029846191406,5.026896953582764,4.910809516906738,4.27993106842041,5.156661033630371,4.941669464111328,4.914432048797607,5.153285980224609,5.127921104431152,5.023975849151611,5.1796183586120605,4.924367904663086,5.750550270080566,4.16697883605957,4.5493669509887695,5.3727946281433105,4.167474269866943,4.767511367797852,5.2228007316589355,5.305673122406006,4.8297810554504395,4.526143550872803,5.19375467300415,5.185927391052246,4.529231071472168,4.855956554412842,5.207589149475098,4.156779766082764,4.805805206298828,5.2815070152282715,4.651358604431152,4.927113056182861,4.352749824523926,4.026706218719482,4.664699554443359,4.272309303283691,4.5092668533325195,3.8382508754730225,3.60391902923584,4.059576988220215,3.887766122817993,3.8692209720611572,3.9834532737731934,6.729214668273926,6.064792633056641,4.5974321365356445,4.912155628204346,4.7655930519104,6.02191162109375,5.067790508270264,3.911790609359741,5.12301778793335,4.994035720825195,6.293165683746338,5.999434471130371,4.821508884429932,4.867053985595703,5.161618232727051,3.55180287361145,4.842259883880615,3.48068904876709,3.927741527557373,3.5452914237976074,4.52532434463501,4.757599830627441,3.973238945007324,6.353061199188232,4.586291313171387,3.961559295654297,4.574326515197754,4.8744730949401855,5.0805535316467285,3.8162190914154053,4.534800052642822,5.064919471740723,5.409999370574951,4.309154510498047,4.575142860412598,4.728612422943115,4.606991291046143,4.659017562866211,4.739871501922607,4.598519802093506,3.7435719966888428,4.233297824859619,6.914321422576904,4.49730920791626,4.3307695388793945,4.558182239532471,4.039212226867676,4.579047679901123,4.439802169799805,4.34183931350708,5.692380428314209,5.258859157562256,5.309543609619141,4.6432576179504395,3.8738181591033936,4.65172004699707,4.650468826293945,4.226925849914551,4.772855758666992,4.879189968109131,5.8977179527282715,4.756350040435791,4.6019978523254395,4.65339469909668,4.495103359222412,5.535385608673096,4.057403564453125,4.279421806335449,5.360777854919434,5.039489269256592,4.834825038909912,5.242419719696045,4.477686405181885,4.554553508758545,4.170804500579834,4.494736194610596,4.824954986572266,5.86961555480957,5.328538417816162,4.805960655212402,6.091139316558838,4.899828910827637,4.639420986175537,5.006414413452148,5.146755695343018,5.3609724044799805,5.5860724449157715,5.834081172943115,3.856809377670288,4.94954776763916,3.664163827896118,4.594921112060547,5.00921106338501,3.05267596244812,5.109985828399658,4.033538818359375,4.415829658508301,4.018744468688965,4.597123146057129,3.4224586486816406,3.755305767059326,4.37840461730957,5.012500286102295,4.439435958862305,5.330455780029297,4.696809768676758,4.648816108703613,4.681507110595703,5.741476058959961,4.5241780281066895,4.3465895652771,4.53114128112793,4.486847400665283,4.116900444030762,4.291105270385742,4.026034832000732,4.567465782165527,5.071308612823486,3.957589864730835,5.364683151245117,6.272305965423584,6.398656845092773,3.7866175174713135,6.624736785888672,4.361968994140625,4.766379356384277,4.621971130371094,4.498577117919922,4.977285861968994,5.061665058135986,5.42039155960083,4.772525787353516,4.662827491760254,5.22019624710083,5.279742240905762,5.883005619049072,5.720228672027588,4.968764305114746,4.8864312171936035,4.344324111938477,5.299741744995117,4.441754341125488,4.548769950866699,5.797996520996094,3.710524797439575,4.002469062805176,3.864901065826416,5.290233612060547,4.76570463180542,5.53088903427124,4.737146854400635,4.479912757873535,7.143251895904541,6.103571891784668,5.010492324829102,4.638803005218506,5.229062080383301,6.504624843597412,5.501873016357422,5.082427978515625,5.382488250732422,5.738163948059082,4.880362510681152,5.869956970214844,4.485389232635498,4.294961929321289,5.276082992553711,4.64471960067749,5.423440933227539,5.64556884765625,4.730010032653809,4.377359867095947,6.226199626922607,5.133866310119629,4.923015594482422,5.138213634490967,4.448130130767822,5.755338668823242,4.618899345397949,4.821728229522705,4.908332347869873,4.836246967315674,5.024205684661865,5.256649971008301,5.215420246124268,4.322909832000732,5.97407865524292,4.869767665863037,5.646909713745117,4.471277236938477,4.900854110717773,3.9981372356414795,4.775053024291992,5.170467853546143,4.965698719024658,4.418625831604004,4.6698899269104,4.736721515655518,4.127767562866211,4.421655178070068,4.6541008949279785,5.73629093170166,4.956781387329102,5.260077476501465,4.5450053215026855,3.9258840084075928,4.80056619644165,5.202147960662842,4.611384868621826,5.283848762512207,4.968672752380371,4.735548496246338,5.693391799926758,5.299230098724365,4.701179027557373,3.935027837753296,4.103835105895996,4.151254653930664,4.309629440307617,4.808852195739746,5.778831958770752,4.512828826904297,5.634243011474609,4.989858150482178,4.651910305023193,5.701602458953857,5.290311336517334,4.949485778808594,3.4855337142944336,4.643620014190674,4.954345226287842,5.546082019805908,4.359971046447754,4.731781005859375,3.864189624786377,6.278447151184082,4.755232334136963,4.831831932067871,3.705177068710327,5.096366882324219,4.805602550506592,4.854948043823242,3.7604763507843018,5.574834823608398,5.09205961227417,5.482581615447998,4.456267833709717,5.324469566345215,6.294798851013184,4.184067249298096,4.627254962921143,4.8658599853515625,4.29538106918335,4.594916343688965,4.574138164520264,4.118048667907715,4.526113510131836,5.103762626647949,5.188375949859619,5.904471397399902,5.885080814361572,5.229323863983154,4.689753532409668,5.028468608856201,4.550163745880127,4.8533616065979,4.672303676605225,4.532804489135742,4.084339141845703,5.306138038635254,6.016018867492676,4.517065525054932,4.465526580810547,3.4815640449523926,4.7303667068481445,4.112163066864014,4.974093914031982,5.490406036376953,4.996304988861084,6.003651142120361,5.256044864654541,3.9423670768737793,4.504363059997559,4.756580829620361,4.719089508056641,5.046947002410889,4.105766773223877,4.264102458953857,5.884435653686523,5.818877220153809,5.859018802642822,4.403363227844238,4.365296840667725,4.822033405303955,5.404109477996826,4.968662738800049,4.976248264312744,6.611584663391113,4.209259986877441,3.797276258468628,5.987658500671387,5.044712543487549,5.1046319007873535,4.58765172958374,5.5757904052734375,5.791886806488037,4.149177551269531,4.856633186340332,4.271463394165039,4.472843647003174,3.802123785018921,4.5944671630859375,3.718810796737671,4.56365966796875,4.892693519592285,4.315855503082275,4.163957118988037,5.1860175132751465,4.459451675415039,5.429830551147461,3.8599045276641846,4.857041358947754,4.194821834564209,4.535262584686279,4.798346519470215,4.524326324462891,4.372527599334717,4.673945426940918,4.953714370727539,4.274409294128418,4.698660373687744,4.218301296234131,5.919068336486816,5.891977310180664,4.257936000823975,4.558935165405273,5.340629577636719,4.824068546295166,4.377928733825684,4.880515098571777,5.0343475341796875,4.63041877746582,3.825978994369507,5.40444278717041,4.394007205963135,3.7809906005859375,5.038820743560791,3.1214468479156494,4.421154022216797,5.753824234008789,4.751428604125977,5.6746649742126465,3.7603652477264404,3.197984457015991,3.6425678730010986,5.433391094207764,5.381536960601807,4.326054573059082,4.008825302124023,4.820340633392334,5.0903639793396,4.7686076164245605,4.911996841430664,4.592187881469727,5.845571994781494,4.09160041809082,4.124433517456055,4.539077281951904,4.7190728187561035,4.224370002746582,4.569591999053955,4.81165885925293,4.172995567321777,4.254850387573242,5.097258567810059,4.819765567779541,4.228271484375,5.158123970031738,6.042656898498535,4.840930461883545,4.1935343742370605,4.207469463348389,3.8646953105926514,4.144224643707275,5.19850492477417,4.829042434692383,5.792688846588135,5.986275672912598,4.263575077056885,4.051702976226807,5.496419429779053,5.113766193389893,4.113523483276367,4.134222507476807,4.462272644042969,4.97911262512207,4.729527950286865,4.21065092086792,5.300086498260498,3.6489055156707764,6.417081356048584,6.685491561889648,5.184072017669678,4.859785079956055,6.802414417266846,4.978085517883301,4.291675090789795,4.727667331695557,5.112776756286621,4.317080974578857,4.237591743469238,4.381950378417969,5.232969760894775,4.779510974884033,4.8947553634643555,4.183424472808838,4.63920259475708,6.038740634918213,4.405237197875977,4.038974285125732,4.588498592376709,4.639388561248779,5.855462074279785,5.918980121612549,4.434224605560303,6.577600479125977,4.7443084716796875,3.6134936809539795,5.18562126159668,5.281128406524658,5.5957512855529785,3.47157883644104,4.02570104598999,4.791134357452393,5.79925537109375,5.067066669464111,4.891833305358887,4.745570182800293,5.484343528747559,4.217753887176514,5.448061466217041,5.4558587074279785,4.28444766998291,5.285140514373779,4.374379634857178,5.907328128814697,4.179455757141113,4.536015033721924,4.482752323150635,5.568669319152832,5.039801597595215,4.367556095123291,4.7551398277282715,4.7602620124816895,4.293050289154053,4.5500335693359375,4.061182975769043,5.073042869567871,4.113018989562988,4.254309177398682,5.146983623504639,5.34474515914917,4.882015228271484,5.366619110107422,5.871092319488525,5.047576427459717,3.9998764991760254,5.296966075897217,5.543905735015869,5.381303787231445,4.123353004455566,5.0481109619140625,6.053646087646484,6.080319881439209,5.418217182159424,4.977817058563232,5.175043106079102,5.811149597167969,4.992081642150879,3.8452231884002686,5.213453769683838,5.906709671020508,4.152960777282715,5.788097381591797,6.24216365814209,5.123890399932861,4.287868976593018,5.337599754333496,5.44389533996582,5.894744873046875,6.535940170288086,4.334710597991943,5.678207874298096,4.246706008911133,4.837642192840576,4.466463088989258,4.844420909881592,4.4046244621276855,4.617839336395264,4.593965530395508,4.49884033203125,5.447669506072998,4.427698612213135,4.718762397766113,5.509740352630615,5.156614303588867,4.832634449005127,4.8993611335754395,5.428445339202881,7.173381805419922,5.171313762664795,4.580604076385498,4.673172950744629,4.522027969360352,6.320634841918945,4.548776626586914,4.330934047698975,5.152833461761475,5.43060302734375,5.424837112426758,5.1073527336120605,6.5585832595825195,5.143285274505615,6.254634857177734,3.854862689971924,4.504119396209717,4.869244575500488,5.108392238616943,5.590923309326172,4.971812725067139,4.224128246307373,5.2221808433532715,5.424560070037842,6.1180830001831055,5.154071807861328,3.8646953105926514,6.392354965209961,3.7278130054473877,5.711296558380127,5.38262414932251,4.6889262199401855,5.112381458282471,4.701155662536621,6.826344013214111,4.662619113922119,4.582083225250244,4.8163533210754395,4.1406073570251465,5.754725933074951,5.829885959625244,4.658000469207764,5.128903865814209,4.044811248779297,4.7814555168151855,4.638957500457764,4.61384391784668,5.247808456420898,4.953977584838867,5.411221981048584,5.392643928527832,4.305039405822754,5.6240668296813965,4.7238006591796875,4.569381237030029,4.361403942108154,4.327779293060303,5.001293659210205,4.074151515960693,4.514846324920654,4.435178756713867,5.759818077087402,4.827727794647217,4.93826150894165,6.110831260681152,5.354053974151611,5.734541893005371,5.28144645690918,4.111178874969482,6.660947322845459,5.4839863777160645,5.6658830642700195,4.697359561920166,6.407844543457031,4.188714981079102,4.733282089233398,5.663437843322754,5.095560550689697,3.990403413772583,4.154327392578125,5.254985332489014,5.259397029876709,5.136326789855957,5.391745090484619,5.394812107086182,5.643308639526367,5.920416355133057,4.6156511306762695,5.108677864074707,5.599982738494873,4.018076419830322,5.2252678871154785,5.611659049987793,3.9862823486328125,5.133649826049805,5.884828090667725,5.050970077514648,4.838813781738281,4.480902671813965,4.301691055297852,4.163071632385254,6.442378520965576,5.370072364807129,4.827178001403809,4.451376438140869,6.4021501541137695,5.705170154571533,4.9576096534729,5.42036771774292,5.074044704437256,4.575587749481201,4.135672092437744,4.265218257904053,4.759449005126953,4.386193752288818,4.837642192840576,4.115202903747559,4.047967433929443,5.8879594802856445,5.099596977233887,3.974909543991089,4.747241973876953,4.494384765625,5.386289119720459,5.410122394561768,4.516563415527344,5.803359031677246,5.750528812408447,3.9661476612091064,5.914483070373535,4.781752586364746,5.08250093460083,4.545019626617432,4.361869812011719,5.252957344055176,4.286879539489746,4.364916801452637,4.602381706237793,6.3517937660217285,6.104701995849609,5.297425270080566,6.720789432525635,4.909662246704102,4.076211452484131,5.194628715515137,4.725018501281738,5.416950702667236,4.723845958709717,4.529714584350586,7.108734130859375,6.261729717254639,4.419886589050293,4.510989665985107,4.680734634399414,4.924129486083984,5.535951137542725,6.012870788574219,6.458317756652832,5.47459077835083,4.928055286407471,5.917491436004639,4.561383247375488,4.703085899353027,4.983809947967529,5.092159271240234,4.496735572814941,5.693575859069824,5.185630798339844,5.669586181640625,5.931362152099609,4.962329864501953,3.9661476612091064,5.29180908203125,5.149318218231201,3.868948221206665,6.234004974365234,4.232892036437988,5.301275730133057,4.918208122253418,5.652713298797607,4.6716437339782715,5.047514915466309,4.405393600463867,4.9482951164245605,5.195024013519287,6.313286304473877,6.354790210723877,4.858805179595947,5.5893378257751465,4.2776923179626465,5.9162917137146,4.624129295349121,5.087411403656006,5.185297012329102,5.368229866027832,4.487443447113037,5.196548938751221,5.066145896911621,5.732659339904785,3.940488815307617,4.877368927001953,4.851690769195557,5.147034645080566,4.547316074371338,5.484347343444824,5.402341365814209,6.156218528747559,3.96453857421875,4.526906967163086,4.82587194442749,4.863509654998779,4.922319412231445,4.536284923553467,6.06788969039917,4.601842880249023,4.649910926818848,5.281433582305908,4.01811408996582,4.624645233154297,5.112659931182861,5.027634620666504,4.839775562286377,5.211280345916748,6.624240398406982,5.17636251449585,4.147845268249512,4.344496726989746,4.823634624481201,4.911431789398193,5.45638370513916,4.463775157928467,4.771598815917969,4.861912250518799,5.627389430999756,5.74315071105957,5.460329532623291,5.482534408569336,4.843344211578369,4.886623859405518,3.960165500640869,5.395785808563232,4.826693058013916,4.047967433929443,4.290738582611084,5.54733943939209,5.007029056549072,4.2771897315979,4.044063568115234,3.4755306243896484,5.057775497436523,4.93422794342041,4.226009368896484,4.8612189292907715,4.002475738525391,5.836146354675293,5.9950852394104,5.008498668670654,5.007803916931152,3.904103994369507,5.366563320159912,6.584250450134277,4.78268575668335,5.606168270111084,4.789797782897949,4.807511329650879,4.7164435386657715,5.186341285705566,4.55147123336792,5.499259948730469,4.789412021636963,4.387183666229248,5.070991516113281,6.153045654296875,6.007665157318115,4.800403594970703,3.812777280807495,5.303545951843262,6.431105136871338,4.101189613342285,3.812777280807495,4.848093509674072,4.426105499267578,6.84835958480835,4.340211868286133,5.4648332595825195,5.303155899047852,5.712841033935547,4.831722259521484,4.734029769897461,4.755037307739258,5.220533847808838,5.614326477050781,4.750688076019287,5.138465404510498,5.900949478149414,4.151766777038574,4.284362316131592,5.1610026359558105,3.6546363830566406,4.902822971343994,4.301952838897705,5.642801761627197,5.230652809143066,4.859752655029297,5.043868541717529,4.674276351928711,5.198379993438721,4.3631696701049805,3.7989680767059326,5.3487324714660645,4.226363658905029,6.16769552230835,4.847195148468018,5.123660087585449,5.594182968139648,5.200614929199219,4.1022186279296875,5.640154838562012,5.040504455566406,4.7647786140441895,5.051665782928467,3.8646953105926514,4.606324672698975,4.896233558654785,4.926925182342529,4.8461408615112305,5.255129337310791,4.276144504547119,5.052603721618652,5.898149490356445,4.645779132843018,4.603182315826416,4.712655067443848,4.983809947967529,4.733225345611572,4.221482753753662,4.663146495819092,4.385584354400635,4.712965965270996,5.883366584777832,5.049859046936035,4.670403003692627,4.386759281158447,5.148393630981445,5.758735656738281,3.9926798343658447,5.4499664306640625,5.501531600952148,5.763101577758789,5.044604778289795,4.562410354614258,5.244342803955078,4.27572774887085,4.933879375457764,4.605165004730225,3.727198839187622,4.931601524353027,5.139867305755615,4.254902362823486,4.934757232666016,4.739758491516113,5.989111423492432,4.9531168937683105,4.502477645874023,5.033965110778809,5.033965110778809,5.033965110778809,4.457758903503418,4.587743282318115,5.534940242767334,5.5988383293151855,3.890873670578003,4.874952793121338,4.455550193786621,4.291087627410889,6.805010795593262,3.9530022144317627,5.067660808563232,4.435433864593506,4.85110330581665,4.435433864593506,4.609895706176758,4.515817642211914,4.22506046295166,5.307859420776367,5.6870269775390625,4.609895706176758,5.198379993438721,4.309463024139404,5.659839630126953,4.950966835021973,4.996290683746338,4.455899715423584,4.303481101989746,4.601677417755127,5.145397663116455,4.703381538391113,3.976706027984619,5.508965015411377,5.616458415985107,3.7658703327178955,5.744014263153076,4.017886161804199,5.200614929199219,5.073667526245117,5.681215286254883,4.721949577331543,4.405393600463867,5.482534408569336,5.235674858093262],\"type\":\"histogram\"},{\"name\":\"DGI+XM\",\"x\":[3.1594247817993164,3.5267536640167236,4.055210590362549,3.875370979309082,3.797447681427002,4.388496398925781,3.6915736198425293,3.9035568237304688,3.906841278076172,3.5130844116210938,3.911693572998047,3.8129701614379883,3.7542011737823486,3.793954372406006,3.8367562294006348,3.7222211360931396,3.330928325653076,4.271589756011963,3.6258833408355713,4.100464820861816,4.038522243499756,4.569378852844238,3.552446126937866,4.2171149253845215,3.7944765090942383,3.3432791233062744,3.5940487384796143,3.7603931427001953,4.402823448181152,3.7627980709075928,3.9160380363464355,3.723184823989868,3.7077834606170654,3.5615692138671875,3.7285428047180176,3.743443727493286,3.9676711559295654,3.2500083446502686,3.505577325820923,3.7036991119384766,3.554232358932495,3.9824280738830566,4.010078430175781,3.6137983798980713,4.426628589630127,3.6330392360687256,4.059028625488281,3.8243370056152344,3.702009916305542,3.354130506515503,3.5800936222076416,3.4475772380828857,3.5225114822387695,3.585930824279785,3.6838204860687256,3.7648098468780518,3.630934476852417,3.6105191707611084,4.197603225708008,3.6222012042999268,3.7222900390625,3.243515729904175,3.705465316772461,3.7998058795928955,3.794459819793701,3.672377824783325,3.1964316368103027,3.5378427505493164,4.280404090881348,4.040622711181641,3.060361862182617,3.4912314414978027,3.593799591064453,3.6508235931396484,3.498624324798584,3.4395787715911865,3.4310853481292725,4.1960673332214355,3.7276439666748047,3.5075385570526123,3.9341542720794678,4.5300703048706055,3.78511905670166,4.430651664733887,3.5962471961975098,3.0549960136413574,3.72697114944458,4.049964904785156,3.493032455444336,3.3483307361602783,4.1833086013793945,3.5893654823303223,3.2335100173950195,3.949599504470825,3.7310564517974854,3.7207894325256348,3.7619876861572266,3.533452033996582,3.627866744995117,3.8738203048706055,3.597801446914673,3.354952573776245,3.4105424880981445,3.5959315299987793,3.2413322925567627,4.204127788543701,4.31207275390625,3.9231014251708984,3.5105090141296387,3.5673470497131348,2.9918715953826904,2.6792240142822266,3.219858407974243,3.4488766193389893,4.224891662597656,3.999523639678955,3.6450157165527344,3.270488977432251,3.685701370239258,3.4396095275878906,2.852942705154419,4.00820255279541,3.282500982284546,3.2508885860443115,3.607055425643921,3.7502334117889404,3.503220796585083,3.7125022411346436,4.361685276031494,4.339061260223389,3.2968382835388184,3.599696397781372,4.145002841949463,3.488248109817505,3.405776262283325,3.7023863792419434,3.2831666469573975,4.215987682342529,3.686767816543579,3.51145601272583,3.743541717529297,3.7139804363250732,4.012228012084961,3.591468095779419,3.4868669509887695,4.10791540145874,3.3845138549804688,3.9709889888763428,3.4095442295074463,3.360879421234131,3.679839611053467,3.7244997024536133,4.15311336517334,3.7218596935272217,4.145279407501221,3.250322103500366,3.621476650238037,3.4857962131500244,3.6983776092529297,3.80249285697937,3.5189974308013916,3.774834156036377,3.303687334060669,3.3154988288879395,3.2280685901641846,4.185807228088379,3.3335421085357666,3.1726529598236084,3.641678810119629,4.228286266326904,3.8611693382263184,3.76662015914917,3.863271713256836,3.74786114692688,3.66867995262146,3.4064319133758545,3.3319664001464844,3.4887611865997314,3.5058207511901855,3.5382776260375977,3.523852825164795,3.7291884422302246,3.417834997177124,4.342468738555908,4.340556621551514,3.403926372528076,3.6135635375976562,4.295856952667236,4.275487422943115,3.5929665565490723,3.880878210067749,3.955418348312378,3.512840509414673,3.3625099658966064,3.596731185913086,3.6934568881988525,3.5454256534576416,3.8494722843170166,3.528913736343384,3.6383368968963623,3.846205949783325,3.9050099849700928,3.534123182296753,3.971268653869629,3.4967124462127686,3.5400843620300293,3.6924970149993896,3.5464508533477783,3.4002881050109863,4.081048011779785,4.503237724304199,3.593379020690918,3.3953182697296143,3.3340253829956055,3.9096269607543945,4.030709743499756,3.804577589035034,3.5532190799713135,3.804318904876709,4.0203704833984375,3.5584194660186768,3.8408024311065674,3.9071288108825684,3.9878878593444824,3.954617977142334,3.542468547821045,3.7377073764801025,3.3744661808013916,3.4293053150177,3.3899948596954346,3.4195914268493652,3.8581886291503906,3.882929563522339,4.165651798248291,3.8299150466918945,3.7643353939056396,4.105922222137451,3.5248873233795166,3.541416883468628,3.4869186878204346,3.5055091381073,3.4622347354888916,3.94626784324646,3.499558210372925,3.8165175914764404,3.5155045986175537,3.450336217880249,3.2921571731567383,3.542696714401245,4.563935279846191,3.7242636680603027,3.6753883361816406,4.01205587387085,4.032493591308594,3.8532023429870605,4.097735404968262,3.946828842163086,3.0644311904907227,3.5499424934387207,3.6163010597229004,3.586329936981201,3.696805000305176,3.403808832168579,3.649392604827881,3.6467206478118896,3.426913261413574,3.3813998699188232,3.378023386001587,4.025132656097412,4.234530925750732,2.911135196685791,3.7245991230010986,3.2836050987243652,3.6160528659820557,3.530181646347046,3.4794201850891113,3.0839364528656006,3.2441840171813965,3.6378443241119385,3.1394245624542236,4.635415554046631,3.679065704345703,3.5588133335113525,3.7307748794555664,3.1064202785491943,3.917349100112915,3.6469907760620117,3.7753498554229736,3.4199233055114746,3.1698381900787354,4.252953052520752,3.084907054901123,3.8899877071380615,3.5755114555358887,3.266043186187744,3.368589401245117,3.589996814727783,3.596522331237793,3.6099135875701904,3.400310754776001,3.9516122341156006,3.6911749839782715,3.6823220252990723,4.1356730461120605,3.2915472984313965,3.1998708248138428,3.9365618228912354,3.2906060218811035,3.1302900314331055,3.057034492492676,3.583653450012207,3.8328280448913574,3.5040507316589355,3.031771659851074,3.966566562652588,3.6358513832092285,3.3863260746002197,3.178427219390869,3.6648640632629395,2.7743117809295654,3.730257272720337,3.8303771018981934,3.5186283588409424,3.4974710941314697,3.487191915512085,3.565051555633545,3.9974799156188965,4.351250171661377,3.544792890548706,4.0580644607543945,3.2488913536071777,2.9545066356658936,3.7105765342712402,4.431126117706299,3.3774213790893555,3.4759087562561035,3.7008581161499023,4.121216773986816,3.745647668838501,3.6917994022369385,3.0919432640075684,2.8652408123016357,3.621039628982544,3.0649561882019043,3.8893518447875977,3.4725279808044434,3.718719959259033,3.522470712661743,2.477848768234253,3.364532947540283,3.5180225372314453,3.552581310272217,3.5560801029205322,3.67974853515625,2.8362152576446533,3.8469693660736084,4.088239669799805,4.082686901092529,3.9011173248291016,3.456376075744629,3.4139840602874756,3.9577770233154297,3.602198362350464,3.6623640060424805,3.5876619815826416,3.497392416000366,3.3744752407073975,4.572775840759277,3.6981375217437744,3.1836698055267334,3.423394203186035,4.397707462310791,3.9330835342407227,3.203805685043335,3.514174461364746,3.6909019947052,3.72544264793396,3.9959070682525635,3.082913875579834,3.3809776306152344,3.4719345569610596,3.676180124282837,2.415785074234009,2.660062074661255,3.0977890491485596,2.928577184677124,2.8630552291870117,3.046694040298462,3.3045616149902344,3.2906205654144287,3.5957419872283936,3.0857155323028564,3.003331184387207,3.798123359680176,3.5329480171203613,3.543365001678467,2.5658650398254395,3.625180244445801,2.4426066875457764,3.567781448364258,4.1006975173950195,3.990311622619629,2.747488498687744,3.3540256023406982,4.188045024871826,4.039030075073242,3.8025221824645996,3.691739559173584,3.8816325664520264,3.447843313217163,2.88944673538208,4.3363823890686035,3.4881234169006348,3.4648661613464355,2.7051942348480225,2.808154582977295,3.2531168460845947,3.8519771099090576,3.87565016746521,3.3112576007843018,2.915541887283325,2.8286805152893066,3.7293076515197754,3.9410343170166016,3.861708879470825,3.810971975326538,3.756711959838867,3.606367588043213,3.654677391052246,3.7512145042419434,3.3093690872192383,3.906412124633789,2.5330235958099365,3.18806791305542,4.260409832000732,3.3536341190338135,2.618992328643799,3.5825250148773193,4.123754024505615,2.5636351108551025,3.5997207164764404,3.914482831954956,3.3346598148345947,3.456256866455078,3.6426587104797363,4.067946434020996,3.526613473892212,3.351318359375,3.418375253677368,2.465743064880371,3.2902793884277344,3.4340085983276367,3.9889893531799316,3.5870301723480225,2.9474570751190186,3.604729652404785,2.9570467472076416,3.6497626304626465,3.7462947368621826,3.4098217487335205,3.1211347579956055,3.500701904296875,3.4819765090942383,3.0899691581726074,3.039879560470581,3.325007915496826,3.2596163749694824,3.538503646850586,4.156606674194336,3.41424298286438,3.6166176795959473,3.996978998184204,3.111323356628418,3.7517812252044678,3.834007501602173,2.699376344680786,2.4942619800567627,2.8218517303466797,3.544863224029541,3.380767822265625,3.3187644481658936,3.6527459621429443,3.317877769470215,3.4022698402404785,3.8640036582946777,3.098647356033325,3.1869301795959473,3.396432638168335,2.848029136657715,3.82431697845459,3.8323285579681396,3.205348253250122,4.060481548309326,4.071253776550293,3.2081542015075684,4.13070821762085,3.6718060970306396,3.6806704998016357,3.251452684402466,3.5683963298797607,3.3478076457977295,3.568943738937378,3.7750186920166016,3.0470733642578125,3.864596366882324,3.5031912326812744,3.4869370460510254,3.2576193809509277,3.941134214401245,3.792794942855835,3.4990546703338623,3.108485698699951,3.568131446838379,3.2216427326202393,2.8568339347839355,3.3209424018859863,3.920126438140869,3.464570999145508,3.4375672340393066,3.3330936431884766,3.7981326580047607,3.2726728916168213,2.9348347187042236,3.167504072189331,3.130084991455078,3.526144027709961,3.4696266651153564,3.2364182472229004,3.379539966583252,3.77679443359375,3.2524006366729736,4.359305381774902,3.2905373573303223,3.8234670162200928,3.1038901805877686,3.515481948852539,3.234628677368164,3.1028928756713867,3.4267044067382812,3.6182029247283936,3.3298850059509277,3.2969119548797607,3.2565832138061523,4.062341213226318,4.189392566680908,3.577011823654175,3.4030566215515137,3.6551513671875,3.9086062908172607,3.9668073654174805,3.4253313541412354,3.962256908416748,3.6868317127227783,2.9992408752441406,3.6486144065856934,3.311250686645508,3.616101026535034,3.9878618717193604,2.9312682151794434,3.630749464035034,3.5544145107269287,2.7951183319091797,3.126999616622925,3.5858957767486572,3.3167264461517334,3.1241698265075684,3.4218177795410156,3.306588649749756,3.6251494884490967,3.687774181365967,3.4133522510528564,3.231292963027954,3.4697015285491943,3.017852783203125,2.7738003730773926,3.1557819843292236,3.691664218902588,3.013868808746338,2.6397552490234375,3.399949550628662,3.1774866580963135,3.738673448562622,2.704500198364258,2.6328234672546387,3.3607170581817627,3.5037248134613037,3.3959035873413086,3.563828945159912,3.9196059703826904,3.522780179977417,3.436753034591675,3.3583576679229736,3.4813599586486816,2.5997955799102783,2.897380828857422,3.4436676502227783,3.175623893737793,2.8507251739501953,3.2631125450134277,3.468550443649292,3.982227325439453,3.5205347537994385,2.465743064880371,3.3959262371063232,2.6555721759796143,3.2858381271362305,3.6678035259246826,3.549112319946289,3.224398612976074,3.0106916427612305,4.3978729248046875,3.69588303565979,3.291029691696167,3.2279021739959717,3.2933506965637207,3.2783422470092773,3.534625768661499,3.392408847808838,2.8328328132629395,2.9688875675201416,3.0629074573516846,2.704920768737793,3.2287633419036865,2.848602294921875,2.67570424079895,3.473747491836548,3.1317453384399414,2.856588125228882,3.224442481994629,3.6368091106414795,3.320659875869751,3.2536163330078125,2.913816213607788,3.066276788711548,2.730234384536743,3.0891878604888916,3.1438379287719727,3.4955239295959473,3.433123826980591,3.102222442626953,3.4033102989196777,3.291663408279419,3.559114456176758,3.609468460083008,2.8220980167388916,3.915642499923706,3.5193960666656494,3.434962749481201,2.9760773181915283,3.479949712753296,3.0129594802856445,3.1362085342407227,3.57463002204895,2.9790432453155518,2.688767194747925,3.211906909942627,3.2684457302093506,3.459218978881836,3.0059378147125244,3.4864046573638916,3.596174478530884,3.847015380859375,3.418320417404175,2.9465184211730957,3.6336193084716797,3.385680913925171,2.5919270515441895,3.7180464267730713,3.405038595199585,2.725534200668335,3.403703212738037,3.7878828048706055,2.7400009632110596,3.4989569187164307,2.9056131839752197,2.6507561206817627,3.3724677562713623,3.6808815002441406,2.9343409538269043,2.78532075881958,2.6704177856445312,3.6694822311401367,2.997419834136963,2.60807466506958,3.3760554790496826,3.533694267272949,2.8029143810272217,2.9390320777893066,3.029232978820801,3.5567996501922607,3.457073211669922,2.7951183319091797,2.811457872390747,2.8656349182128906,3.400801420211792,3.3710012435913086,3.301058769226074,3.327479839324951,2.8566501140594482,3.6140687465667725,3.383445978164673,2.7380990982055664,3.614781618118286,3.2425544261932373,2.7396299839019775,3.5296883583068848,2.7327566146850586,3.498471736907959,3.4275293350219727,2.9100117683410645,3.052464008331299,3.2347683906555176,3.051072835922241,2.6339681148529053,3.55350661277771,3.3575851917266846,3.640864133834839,3.7843356132507324,2.6322267055511475,3.160435676574707,2.957892894744873,2.939924478530884,3.211486577987671,3.0268115997314453,3.184319019317627,3.7677059173583984,3.245851516723633,2.9572224617004395,2.8121371269226074,3.5784056186676025,2.9993340969085693,3.62629771232605,3.9409706592559814,3.5566201210021973,3.07765793800354,2.607079029083252,2.948164701461792,3.391787528991699,3.505770206451416,3.340358257293701,3.545531749725342,3.085329294204712,3.449345111846924,2.987534284591675,3.264008045196533,3.4279284477233887,2.851301670074463,2.7396299839019775,2.9258079528808594,3.4659948348999023,2.8297932147979736,3.2192859649658203,3.036909580230713,3.2935099601745605,2.8105156421661377,3.008354902267456,3.0480620861053467,2.974515438079834,2.6574597358703613,3.636659860610962,3.7558281421661377,3.3264811038970947,3.62561297416687,3.34342622756958,3.4282283782958984,2.5934648513793945,3.284006357192993,3.0218448638916016,2.9073402881622314,3.090178966522217,3.4737069606781006,3.0875823497772217,3.1988871097564697,2.915144920349121,3.2913103103637695,3.0553131103515625,2.7932112216949463,3.3343772888183594,2.8314099311828613,2.7065818309783936,3.398303270339966,2.980863332748413,3.319246292114258,2.708573341369629,2.828334331512451,3.5002281665802,3.0936148166656494,2.637754440307617,2.9979379177093506,3.357327938079834,3.6322214603424072,2.902653217315674,3.0835745334625244,3.3780391216278076,3.663884162902832,3.0551021099090576,3.2337145805358887,3.4958465099334717,3.381316900253296,3.2832329273223877,3.195688247680664,3.8395333290100098,3.0443012714385986,3.2834396362304688,3.6362268924713135,3.13948392868042,3.1792192459106445,3.505038261413574,2.8304288387298584,3.9119274616241455,3.398744583129883,3.0446267127990723,3.1311652660369873,3.5270273685455322,2.834683418273926,3.0468862056732178,3.1617865562438965,3.262256383895874,2.8656349182128906,2.8819420337677,3.017214059829712,3.0238232612609863,2.9767239093780518,2.6952626705169678,2.6129443645477295,2.8990843296051025,3.630361318588257,3.0671956539154053,3.519299030303955,2.581742286682129,3.401219606399536,3.1469266414642334,3.5790855884552,3.215562582015991,3.0496468544006348,2.712770700454712,3.4314310550689697,3.857935667037964,3.123352527618408,2.7909560203552246,3.976200580596924,3.578862428665161,2.879399061203003,2.6964807510375977,3.083325147628784,2.974017858505249,2.778778076171875,2.933495283126831,3.395078420639038,3.2665915489196777,2.9951565265655518,2.4002623558044434,3.0727174282073975,3.726353406906128,2.75677490234375,2.4002623558044434,2.94974422454834,2.625298023223877,3.4654645919799805,2.707256317138672,3.072848320007324,3.67173171043396,3.6509132385253906,3.353999376296997,3.000875234603882,3.0289978981018066,3.422524929046631,3.40596342086792,3.490187883377075,2.933635950088501,3.390857696533203,2.958265542984009,2.900752305984497,3.600377082824707,2.532214641571045,2.8371129035949707,2.6144425868988037,3.7868738174438477,2.8993980884552,2.956186532974243,2.9932003021240234,3.4394407272338867,3.016249656677246,3.223834991455078,2.631869077682495,2.931582450866699,2.7463366985321045,3.3364205360412598,3.58151912689209,3.7289931774139404,2.8301708698272705,3.2079100608825684,2.5313897132873535,3.3230092525482178,3.6813690662384033,3.3622958660125732,2.738128662109375,2.465743064880371,3.543952465057373,3.6210479736328125,3.1435868740081787,2.829528570175171,3.198137044906616,3.0842196941375732,3.9094483852386475,3.3540122509002686,3.1008780002593994,3.2162671089172363,3.446084499359131,3.340358257293701,3.4146883487701416,3.144028425216675,3.370924949645996,3.7684450149536133,3.46303129196167,3.2216122150421143,3.217276096343994,3.534667730331421,2.929048538208008,2.9733753204345703,3.4252960681915283,2.696854829788208,3.1824865341186523,3.015434503555298,3.4272618293762207,2.801316261291504,3.1489217281341553,3.048346519470215,2.696521520614624,2.680143356323242,3.144886016845703,2.7363831996917725,3.404252052307129,3.4119508266448975,3.1176564693450928,2.6400182247161865,3.0698838233947754,3.6835341453552246,3.134249448776245,2.7830846309661865,3.425088405609131,3.425088405609131,3.425088405609131,2.9073915481567383,3.528506278991699,3.1501686573028564,3.1097843647003174,2.626819610595703,2.855872869491577,3.2816784381866455,2.848597288131714,3.655466318130493,4.107825756072998,2.7567226886749268,2.9231576919555664,2.8640918731689453,2.9231576919555664,3.5024919509887695,3.2917232513427734,2.6984870433807373,3.239109754562378,3.7062766551971436,3.5024919509887695,3.016249656677246,2.6196441650390625,3.177081823348999,2.6706631183624268,3.034627676010132,2.728837013244629,2.8301913738250732,3.361879348754883,3.484571695327759,2.7736358642578125,2.67657470703125,3.0715839862823486,3.657627820968628,2.599243640899658,3.2163829803466797,2.626882553100586,3.2079100608825684,2.816985845565796,3.2103428840637207,3.0838706493377686,2.6574597358703613,3.1311652660369873,2.8738958835601807],\"type\":\"histogram\"}],                        {\"template\":{\"data\":{\"histogram2dcontour\":[{\"type\":\"histogram2dcontour\",\"colorbar\":{\"outlinewidth\":0,\"ticks\":\"\"},\"colorscale\":[[0.0,\"#0d0887\"],[0.1111111111111111,\"#46039f\"],[0.2222222222222222,\"#7201a8\"],[0.3333333333333333,\"#9c179e\"],[0.4444444444444444,\"#bd3786\"],[0.5555555555555556,\"#d8576b\"],[0.6666666666666666,\"#ed7953\"],[0.7777777777777778,\"#fb9f3a\"],[0.8888888888888888,\"#fdca26\"],[1.0,\"#f0f921\"]]}],\"choropleth\":[{\"type\":\"choropleth\",\"colorbar\":{\"outlinewidth\":0,\"ticks\":\"\"}}],\"histogram2d\":[{\"type\":\"histogram2d\",\"colorbar\":{\"outlinewidth\":0,\"ticks\":\"\"},\"colorscale\":[[0.0,\"#0d0887\"],[0.1111111111111111,\"#46039f\"],[0.2222222222222222,\"#7201a8\"],[0.3333333333333333,\"#9c179e\"],[0.4444444444444444,\"#bd3786\"],[0.5555555555555556,\"#d8576b\"],[0.6666666666666666,\"#ed7953\"],[0.7777777777777778,\"#fb9f3a\"],[0.8888888888888888,\"#fdca26\"],[1.0,\"#f0f921\"]]}],\"heatmap\":[{\"type\":\"heatmap\",\"colorbar\":{\"outlinewidth\":0,\"ticks\":\"\"},\"colorscale\":[[0.0,\"#0d0887\"],[0.1111111111111111,\"#46039f\"],[0.2222222222222222,\"#7201a8\"],[0.3333333333333333,\"#9c179e\"],[0.4444444444444444,\"#bd3786\"],[0.5555555555555556,\"#d8576b\"],[0.6666666666666666,\"#ed7953\"],[0.7777777777777778,\"#fb9f3a\"],[0.8888888888888888,\"#fdca26\"],[1.0,\"#f0f921\"]]}],\"heatmapgl\":[{\"type\":\"heatmapgl\",\"colorbar\":{\"outlinewidth\":0,\"ticks\":\"\"},\"colorscale\":[[0.0,\"#0d0887\"],[0.1111111111111111,\"#46039f\"],[0.2222222222222222,\"#7201a8\"],[0.3333333333333333,\"#9c179e\"],[0.4444444444444444,\"#bd3786\"],[0.5555555555555556,\"#d8576b\"],[0.6666666666666666,\"#ed7953\"],[0.7777777777777778,\"#fb9f3a\"],[0.8888888888888888,\"#fdca26\"],[1.0,\"#f0f921\"]]}],\"contourcarpet\":[{\"type\":\"contourcarpet\",\"colorbar\":{\"outlinewidth\":0,\"ticks\":\"\"}}],\"contour\":[{\"type\":\"contour\",\"colorbar\":{\"outlinewidth\":0,\"ticks\":\"\"},\"colorscale\":[[0.0,\"#0d0887\"],[0.1111111111111111,\"#46039f\"],[0.2222222222222222,\"#7201a8\"],[0.3333333333333333,\"#9c179e\"],[0.4444444444444444,\"#bd3786\"],[0.5555555555555556,\"#d8576b\"],[0.6666666666666666,\"#ed7953\"],[0.7777777777777778,\"#fb9f3a\"],[0.8888888888888888,\"#fdca26\"],[1.0,\"#f0f921\"]]}],\"surface\":[{\"type\":\"surface\",\"colorbar\":{\"outlinewidth\":0,\"ticks\":\"\"},\"colorscale\":[[0.0,\"#0d0887\"],[0.1111111111111111,\"#46039f\"],[0.2222222222222222,\"#7201a8\"],[0.3333333333333333,\"#9c179e\"],[0.4444444444444444,\"#bd3786\"],[0.5555555555555556,\"#d8576b\"],[0.6666666666666666,\"#ed7953\"],[0.7777777777777778,\"#fb9f3a\"],[0.8888888888888888,\"#fdca26\"],[1.0,\"#f0f921\"]]}],\"mesh3d\":[{\"type\":\"mesh3d\",\"colorbar\":{\"outlinewidth\":0,\"ticks\":\"\"}}],\"scatter\":[{\"fillpattern\":{\"fillmode\":\"overlay\",\"size\":10,\"solidity\":0.2},\"type\":\"scatter\"}],\"parcoords\":[{\"type\":\"parcoords\",\"line\":{\"colorbar\":{\"outlinewidth\":0,\"ticks\":\"\"}}}],\"scatterpolargl\":[{\"type\":\"scatterpolargl\",\"marker\":{\"colorbar\":{\"outlinewidth\":0,\"ticks\":\"\"}}}],\"bar\":[{\"error_x\":{\"color\":\"#2a3f5f\"},\"error_y\":{\"color\":\"#2a3f5f\"},\"marker\":{\"line\":{\"color\":\"#E5ECF6\",\"width\":0.5},\"pattern\":{\"fillmode\":\"overlay\",\"size\":10,\"solidity\":0.2}},\"type\":\"bar\"}],\"scattergeo\":[{\"type\":\"scattergeo\",\"marker\":{\"colorbar\":{\"outlinewidth\":0,\"ticks\":\"\"}}}],\"scatterpolar\":[{\"type\":\"scatterpolar\",\"marker\":{\"colorbar\":{\"outlinewidth\":0,\"ticks\":\"\"}}}],\"histogram\":[{\"marker\":{\"pattern\":{\"fillmode\":\"overlay\",\"size\":10,\"solidity\":0.2}},\"type\":\"histogram\"}],\"scattergl\":[{\"type\":\"scattergl\",\"marker\":{\"colorbar\":{\"outlinewidth\":0,\"ticks\":\"\"}}}],\"scatter3d\":[{\"type\":\"scatter3d\",\"line\":{\"colorbar\":{\"outlinewidth\":0,\"ticks\":\"\"}},\"marker\":{\"colorbar\":{\"outlinewidth\":0,\"ticks\":\"\"}}}],\"scattermapbox\":[{\"type\":\"scattermapbox\",\"marker\":{\"colorbar\":{\"outlinewidth\":0,\"ticks\":\"\"}}}],\"scatterternary\":[{\"type\":\"scatterternary\",\"marker\":{\"colorbar\":{\"outlinewidth\":0,\"ticks\":\"\"}}}],\"scattercarpet\":[{\"type\":\"scattercarpet\",\"marker\":{\"colorbar\":{\"outlinewidth\":0,\"ticks\":\"\"}}}],\"carpet\":[{\"aaxis\":{\"endlinecolor\":\"#2a3f5f\",\"gridcolor\":\"white\",\"linecolor\":\"white\",\"minorgridcolor\":\"white\",\"startlinecolor\":\"#2a3f5f\"},\"baxis\":{\"endlinecolor\":\"#2a3f5f\",\"gridcolor\":\"white\",\"linecolor\":\"white\",\"minorgridcolor\":\"white\",\"startlinecolor\":\"#2a3f5f\"},\"type\":\"carpet\"}],\"table\":[{\"cells\":{\"fill\":{\"color\":\"#EBF0F8\"},\"line\":{\"color\":\"white\"}},\"header\":{\"fill\":{\"color\":\"#C8D4E3\"},\"line\":{\"color\":\"white\"}},\"type\":\"table\"}],\"barpolar\":[{\"marker\":{\"line\":{\"color\":\"#E5ECF6\",\"width\":0.5},\"pattern\":{\"fillmode\":\"overlay\",\"size\":10,\"solidity\":0.2}},\"type\":\"barpolar\"}],\"pie\":[{\"automargin\":true,\"type\":\"pie\"}]},\"layout\":{\"autotypenumbers\":\"strict\",\"colorway\":[\"#636efa\",\"#EF553B\",\"#00cc96\",\"#ab63fa\",\"#FFA15A\",\"#19d3f3\",\"#FF6692\",\"#B6E880\",\"#FF97FF\",\"#FECB52\"],\"font\":{\"color\":\"#2a3f5f\"},\"hovermode\":\"closest\",\"hoverlabel\":{\"align\":\"left\"},\"paper_bgcolor\":\"white\",\"plot_bgcolor\":\"#E5ECF6\",\"polar\":{\"bgcolor\":\"#E5ECF6\",\"angularaxis\":{\"gridcolor\":\"white\",\"linecolor\":\"white\",\"ticks\":\"\"},\"radialaxis\":{\"gridcolor\":\"white\",\"linecolor\":\"white\",\"ticks\":\"\"}},\"ternary\":{\"bgcolor\":\"#E5ECF6\",\"aaxis\":{\"gridcolor\":\"white\",\"linecolor\":\"white\",\"ticks\":\"\"},\"baxis\":{\"gridcolor\":\"white\",\"linecolor\":\"white\",\"ticks\":\"\"},\"caxis\":{\"gridcolor\":\"white\",\"linecolor\":\"white\",\"ticks\":\"\"}},\"coloraxis\":{\"colorbar\":{\"outlinewidth\":0,\"ticks\":\"\"}},\"colorscale\":{\"sequential\":[[0.0,\"#0d0887\"],[0.1111111111111111,\"#46039f\"],[0.2222222222222222,\"#7201a8\"],[0.3333333333333333,\"#9c179e\"],[0.4444444444444444,\"#bd3786\"],[0.5555555555555556,\"#d8576b\"],[0.6666666666666666,\"#ed7953\"],[0.7777777777777778,\"#fb9f3a\"],[0.8888888888888888,\"#fdca26\"],[1.0,\"#f0f921\"]],\"sequentialminus\":[[0.0,\"#0d0887\"],[0.1111111111111111,\"#46039f\"],[0.2222222222222222,\"#7201a8\"],[0.3333333333333333,\"#9c179e\"],[0.4444444444444444,\"#bd3786\"],[0.5555555555555556,\"#d8576b\"],[0.6666666666666666,\"#ed7953\"],[0.7777777777777778,\"#fb9f3a\"],[0.8888888888888888,\"#fdca26\"],[1.0,\"#f0f921\"]],\"diverging\":[[0,\"#8e0152\"],[0.1,\"#c51b7d\"],[0.2,\"#de77ae\"],[0.3,\"#f1b6da\"],[0.4,\"#fde0ef\"],[0.5,\"#f7f7f7\"],[0.6,\"#e6f5d0\"],[0.7,\"#b8e186\"],[0.8,\"#7fbc41\"],[0.9,\"#4d9221\"],[1,\"#276419\"]]},\"xaxis\":{\"gridcolor\":\"white\",\"linecolor\":\"white\",\"ticks\":\"\",\"title\":{\"standoff\":15},\"zerolinecolor\":\"white\",\"automargin\":true,\"zerolinewidth\":2},\"yaxis\":{\"gridcolor\":\"white\",\"linecolor\":\"white\",\"ticks\":\"\",\"title\":{\"standoff\":15},\"zerolinecolor\":\"white\",\"automargin\":true,\"zerolinewidth\":2},\"scene\":{\"xaxis\":{\"backgroundcolor\":\"#E5ECF6\",\"gridcolor\":\"white\",\"linecolor\":\"white\",\"showbackground\":true,\"ticks\":\"\",\"zerolinecolor\":\"white\",\"gridwidth\":2},\"yaxis\":{\"backgroundcolor\":\"#E5ECF6\",\"gridcolor\":\"white\",\"linecolor\":\"white\",\"showbackground\":true,\"ticks\":\"\",\"zerolinecolor\":\"white\",\"gridwidth\":2},\"zaxis\":{\"backgroundcolor\":\"#E5ECF6\",\"gridcolor\":\"white\",\"linecolor\":\"white\",\"showbackground\":true,\"ticks\":\"\",\"zerolinecolor\":\"white\",\"gridwidth\":2}},\"shapedefaults\":{\"line\":{\"color\":\"#2a3f5f\"}},\"annotationdefaults\":{\"arrowcolor\":\"#2a3f5f\",\"arrowhead\":0,\"arrowwidth\":1},\"geo\":{\"bgcolor\":\"white\",\"landcolor\":\"#E5ECF6\",\"subunitcolor\":\"white\",\"showland\":true,\"showlakes\":true,\"lakecolor\":\"white\"},\"title\":{\"x\":0.05},\"mapbox\":{\"style\":\"light\"}}},\"title\":{\"text\":\"Distribution of Nuclear Norm of Node Explain Matrix\"},\"xaxis\":{\"title\":{\"text\":\"Nuclear Norm\"}},\"yaxis\":{\"title\":{\"text\":\"Frequency\"}},\"font\":{\"size\":20},\"paper_bgcolor\":\"white\",\"plot_bgcolor\":\"white\"},                        {\"responsive\": true}                    ).then(function(){\n",
       "                            \n",
       "var gd = document.getElementById('14809c80-da39-4b2c-9aa2-952127986724');\n",
       "var x = new MutationObserver(function (mutations, observer) {{\n",
       "        var display = window.getComputedStyle(gd).display;\n",
       "        if (!display || display === 'none') {{\n",
       "            console.log([gd, 'removed!']);\n",
       "            Plotly.purge(gd);\n",
       "            observer.disconnect();\n",
       "        }}\n",
       "}});\n",
       "\n",
       "// Listen for the removal of the full notebook cells\n",
       "var notebookContainer = gd.closest('#notebook-container');\n",
       "if (notebookContainer) {{\n",
       "    x.observe(notebookContainer, {childList: true});\n",
       "}}\n",
       "\n",
       "// Listen for the clearing of the current output cell\n",
       "var outputEl = gd.closest('.output');\n",
       "if (outputEl) {{\n",
       "    x.observe(outputEl, {childList: true});\n",
       "}}\n",
       "\n",
       "                        })                };                });            </script>        </div>"
      ]
     },
     "metadata": {},
     "output_type": "display_data"
    }
   ],
   "source": [
    "fig = go.Figure()\n",
    "\n",
    "fig.add_trace(go.Histogram(x = norm_og, \n",
    "                           name = 'DGI'))\n",
    "fig.add_trace(go.Histogram(x = norm_plus, \n",
    "                           name = 'DGI+XM'))\n",
    "\n",
    "\n",
    "fig.update_layout(title_text = 'Distribution of Nuclear Norm of Node Explain Matrix', \n",
    "                  xaxis_title_text = 'Nuclear Norm', \n",
    "                  yaxis_title_text = 'Frequency', \n",
    "                  paper_bgcolor = 'white', \n",
    "                  plot_bgcolor = 'white', \n",
    "                  font = dict(size = 20))\n",
    "fig.show()"
   ]
  },
  {
   "cell_type": "code",
   "execution_count": 69,
   "id": "77b1208e",
   "metadata": {},
   "outputs": [
    {
     "data": {
      "application/vnd.plotly.v1+json": {
       "config": {
        "plotlyServerURL": "https://plot.ly"
       },
       "data": [
        {
         "type": "heatmap",
         "z": [
          [
           0.0009731620666570961,
           0.025349190458655357,
           0.003534059738740325,
           0.008810061030089855,
           0.019228244200348854,
           0.011264177970588207,
           0.01413056906312704
          ],
          [
           0.0008512297063134611,
           0.02218504622578621,
           0.0030925185419619083,
           0.007710057310760021,
           0.016828015446662903,
           0.00985789205878973,
           0.012366547249257565
          ],
          [
           0.0011493730125948787,
           0.029921863228082657,
           0.0041721537709236145,
           0.010399735532701015,
           0.02269694209098816,
           0.013296476565301418,
           0.016679849475622177
          ],
          [
           0.0030624857172369957,
           0.07956714183092117,
           0.011099913157522678,
           0.027658749371767044,
           0.06035642698407173,
           0.03536104038357735,
           0.04435727000236511
          ],
          [
           0.0034397956915199757,
           0.08935833722352982,
           0.01246622670441866,
           0.031062623485922813,
           0.06778374314308167,
           0.03971268609166145,
           0.04981589317321777
          ],
          [
           0.009675138629972935,
           0.2511654496192932,
           0.03504563868045807,
           0.08731433749198914,
           0.19052600860595703,
           0.11162697523832321,
           0.14002397656440735
          ],
          [
           0.0011629343498498201,
           0.03027378022670746,
           0.004221262410283089,
           0.010522078722715378,
           0.02296389639377594,
           0.013452884741127491,
           0.01687604747712612
          ],
          [
           0.0005627972423098981,
           0.014700221829116344,
           0.002048047026619315,
           0.005107982084155083,
           0.011150241829454899,
           0.006531301885843277,
           0.008193730376660824
          ],
          [
           0.013460913673043251,
           0.349406361579895,
           0.048754677176475525,
           0.1214674562215805,
           0.2650487422943115,
           0.15528959035873413,
           0.19479359686374664
          ],
          [
           0.0013541608350351453,
           0.03523610904812813,
           0.004913731478154659,
           0.012247215956449509,
           0.026728179305791855,
           0.015658365562558174,
           0.019642561674118042
          ],
          [
           0.0013750920770689845,
           0.035779278725385666,
           0.004989527631551027,
           0.012436045333743095,
           0.027140209451317787,
           0.015899771824479103,
           0.019945381209254265
          ],
          [
           0.0013629007153213024,
           0.03546290472149849,
           0.00494538014754653,
           0.01232606079429388,
           0.026900220662355423,
           0.015759162604808807,
           0.019769003614783287
          ],
          [
           0.0013730373466387391,
           0.035725951194763184,
           0.004982086829841137,
           0.012417508289217949,
           0.027099760249257088,
           0.015876073390245438,
           0.01991565153002739
          ],
          [
           0.001323592965491116,
           0.034442875534296036,
           0.004803038667887449,
           0.01197145041078329,
           0.026126453652977943,
           0.015305815264582634,
           0.01920033060014248
          ],
          [
           0.0008383318781852722,
           0.0218503475189209,
           0.0030458129476755857,
           0.0075936997309327126,
           0.01657412201166153,
           0.009709135629236698,
           0.012179951183497906
          ],
          [
           0.018348192796111107,
           0.47623127698898315,
           0.06645248830318451,
           0.16555769741535187,
           0.36125448346138,
           0.21165619790554047,
           0.26549896597862244
          ],
          [
           5.05940624861978e-05,
           0.0014085498405620456,
           0.00019325822358950973,
           0.00048717716708779335,
           0.0010675601661205292,
           0.0006238926434889436,
           0.000783575524110347
          ],
          [
           0.016348497942090034,
           0.4243391752243042,
           0.05921119078993797,
           0.1475176066160202,
           0.321890652179718,
           0.1885930448770523,
           0.23656892776489258
          ],
          [
           0.0014276488218456507,
           0.03714311867952347,
           0.005179845727980137,
           0.012910180725157261,
           0.028174782171845436,
           0.016505924984812737,
           0.020705725997686386
          ],
          [
           0.002568224212154746,
           0.06674104928970337,
           0.009310094639658928,
           0.02319980598986149,
           0.05062692612409592,
           0.02966056391596794,
           0.037206683307886124
          ],
          [
           0.010897334665060043,
           0.2828814685344696,
           0.039471451193094254,
           0.09834031015634537,
           0.2145848572254181,
           0.1257229745388031,
           0.15770575404167175
          ],
          [
           0.022251615300774574,
           0.5775250196456909,
           0.08058754354715347,
           0.20077215135097504,
           0.43809303641319275,
           0.256675660610199,
           0.3219706118106842
          ],
          [
           0.0019328715279698372,
           0.050253648310899734,
           0.007009357213973999,
           0.017468014732003212,
           0.038120053708553314,
           0.022332826629281044,
           0.02801489643752575
          ],
          [
           0.003836203832179308,
           0.09964512288570404,
           0.01390169933438301,
           0.034638792276382446,
           0.07558701187372208,
           0.04428459331393242,
           0.055550817400217056
          ],
          [
           0.006303394678980112,
           0.16366872191429138,
           0.022835886105895042,
           0.0568963885307312,
           0.1241534948348999,
           0.07273952662944794,
           0.09124421328306198
          ],
          [
           0.0010144732659682631,
           0.026421217247843742,
           0.0036836559884250164,
           0.009182748384773731,
           0.02004145458340645,
           0.011740634217858315,
           0.014728227630257607
          ],
          [
           0.002805729629471898,
           0.0729043260216713,
           0.010170149616897106,
           0.025342443957924843,
           0.0553022064268589,
           0.03239979222416878,
           0.04064272716641426
          ],
          [
           0,
           9.563384810462594e-05,
           1.0047102477983572e-05,
           3.074630512855947e-05,
           7.161970279412344e-05,
           4.037447433802299e-05,
           5.1620118028949946e-05
          ],
          [
           0.010419673286378384,
           0.27048617601394653,
           0.03774174302816391,
           0.09403111785650253,
           0.20518213510513306,
           0.12021394819021225,
           0.15079531073570251
          ],
          [
           0.0032754731364548206,
           0.08509416878223419,
           0.011871184222400188,
           0.02958020381629467,
           0.06454907357692719,
           0.03781750053167343,
           0.0474386103451252
          ],
          [
           0.001480684382840991,
           0.038519393652677536,
           0.005371898412704468,
           0.013388639315962791,
           0.029218783602118492,
           0.01711760088801384,
           0.021473003551363945
          ],
          [
           0.018221981823444366,
           0.4729560911655426,
           0.06599544733762741,
           0.16441909968852997,
           0.3587700426578522,
           0.21020056307315826,
           0.2636730372905731
          ],
          [
           0.015755577012896538,
           0.408952921628952,
           0.05706411227583885,
           0.14216861128807068,
           0.31021904945373535,
           0.1817547082901001,
           0.2279910147190094
          ],
          [
           0.006035614293068647,
           0.15671981871128082,
           0.021866200491786003,
           0.05448063090443611,
           0.11888225376605988,
           0.06965113431215286,
           0.08737018704414368
          ],
          [
           0.0009857132099568844,
           0.025674890726804733,
           0.0035795096773654222,
           0.00892329029738903,
           0.019475314766168594,
           0.011408933438360691,
           0.01431214902549982
          ],
          [
           9.582287748344243e-05,
           0.002582237822934985,
           0.00035704064066521823,
           0.0008952058269642293,
           0.0019578859210014343,
           0.0011455316562205553,
           0.0014379107160493731
          ],
          [
           0.015505090355873108,
           0.4024527668952942,
           0.05615704879164696,
           0.13990886509418488,
           0.30528825521469116,
           0.17886576056480408,
           0.2243671715259552
          ],
          [
           0.008509689010679722,
           0.2209220826625824,
           0.030825316905975342,
           0.07680033147335052,
           0.16758424043655396,
           0.0981854721903801,
           0.12316316366195679
          ],
          [
           0.0007530711009167135,
           0.019637830555438995,
           0.0027370669413357973,
           0.006824526470154524,
           0.014895771630108356,
           0.008725795894861221,
           0.010946466587483883
          ],
          [
           0.0012341936817392707,
           0.032122962176799774,
           0.0044793072156608105,
           0.011164940893650055,
           0.024366633966565132,
           0.01427474245429039,
           0.017906973138451576
          ],
          [
           0.0024837544187903404,
           0.06454905867576599,
           0.009004211984574795,
           0.022437764331698418,
           0.04896414652466774,
           0.028686342760920525,
           0.03598463535308838
          ],
          [
           0.0031125470995903015,
           0.08086623251438141,
           0.011281196027994156,
           0.028110375627875328,
           0.06134188920259476,
           0.03593841940164566,
           0.04508151859045029
          ],
          [
           0.013303200714290142,
           0.34531369805336,
           0.04818357154726982,
           0.12004465609788895,
           0.26194414496421814,
           0.15347063541412354,
           0.19251194596290588
          ],
          [
           0.0008938779938034713,
           0.02329176664352417,
           0.0032469560392200947,
           0.008094804361462593,
           0.01766754314303398,
           0.010349767282605171,
           0.012983548454940319
          ],
          [
           0.03853195905685425,
           1,
           0.139541894197464,
           0.34764420986175537,
           0.7585704922676086,
           0.44444236159324646,
           0.5575019121170044
          ],
          [
           0.0018053522799164057,
           0.046944525092840195,
           0.006547585129737854,
           0.01631760783493519,
           0.03560984879732132,
           0.02086210623383522,
           0.026170047000050545
          ],
          [
           0.01441214606165886,
           0.37409085035324097,
           0.052199285477399826,
           0.1300489455461502,
           0.2837736904621124,
           0.1662604808807373,
           0.20855531096458435
          ],
          [
           0.012910314835608006,
           0.3351183235645294,
           0.04676085337996483,
           0.11650027334690094,
           0.2542102336883545,
           0.1489393562078476,
           0.18682797253131866
          ],
          [
           0.010347437113523483,
           0.2686116397380829,
           0.03748016431927681,
           0.093379445374012,
           0.20376016199588776,
           0.11938081681728363,
           0.1497502624988556
          ],
          [
           0.0012918636202812195,
           0.03361949324607849,
           0.004688141401857138,
           0.0116852056235075,
           0.025501862168312073,
           0.0149398697540164,
           0.018741294741630554
          ],
          [
           0.016734732314944267,
           0.4343619644641876,
           0.06060982495546341,
           0.15100198984146118,
           0.3294936418533325,
           0.1930476278066635,
           0.24215666949748993
          ],
          [
           0.0017053778283298016,
           0.044350188225507736,
           0.006185557227581739,
           0.015415694564580917,
           0.03364185988903046,
           0.019709065556526184,
           0.02472369559109211
          ],
          [
           0.0018849645275622606,
           0.049010466784238815,
           0.006835876498371363,
           0.017035823315382004,
           0.037177007645368576,
           0.02178029902279377,
           0.027321813628077507
          ],
          [
           0.002496778266504407,
           0.06488702446222305,
           0.009051375091075897,
           0.022555258125066757,
           0.04922052100300789,
           0.028836550191044807,
           0.036173056811094284
          ],
          [
           0.0027068741619586945,
           0.07033901661634445,
           0.009812173433601856,
           0.024450626224279404,
           0.053356241434812546,
           0.03125965595245361,
           0.03921256214380264
          ],
          [
           0.003761883592233062,
           0.09771651774644852,
           0.013632570393383503,
           0.03396831825375557,
           0.07412402331829071,
           0.04342743381857872,
           0.05447561293840408
          ],
          [
           0.0018940976588055491,
           0.04924746975302696,
           0.0068689496256411076,
           0.017118217423558235,
           0.037356793880462646,
           0.02188563533127308,
           0.027453947812318802
          ],
          [
           0.01680455356836319,
           0.43617379665374756,
           0.06086265668272972,
           0.15163187682628632,
           0.33086803555488586,
           0.19385287165641785,
           0.2431667596101761
          ],
          [
           0.014969377778470516,
           0.3885510265827179,
           0.054217126220464706,
           0.13507597148418427,
           0.29474273324012756,
           0.17268720269203186,
           0.21661688387393951
          ],
          [
           0.005430936347693205,
           0.14102844893932343,
           0.019676541909575462,
           0.04902556911110878,
           0.10697922110557556,
           0.06267718225717545,
           0.07862217724323273
          ],
          [
           0.01659434288740158,
           0.4307188093662262,
           0.06010144576430321,
           0.1497354805469513,
           0.32673004269599915,
           0.19142845273017883,
           0.2401256114244461
          ],
          [
           0.0034375085961073637,
           0.08929897844791412,
           0.012457945384085178,
           0.03104199469089508,
           0.06773872673511505,
           0.039686307311058044,
           0.049782805144786835
          ],
          [
           0.0017174857202917337,
           0.04466438665986061,
           0.006229402497410774,
           0.015524926595389843,
           0.03388020396232605,
           0.019848709926009178,
           0.024898862466216087
          ],
          [
           0.0016468537505716085,
           0.04283148795366287,
           0.005973630119115114,
           0.014887724071741104,
           0.03248981758952141,
           0.019034089520573616,
           0.023877013474702835
          ]
         ]
        }
       ],
       "layout": {
        "template": {
         "data": {
          "bar": [
           {
            "error_x": {
             "color": "#2a3f5f"
            },
            "error_y": {
             "color": "#2a3f5f"
            },
            "marker": {
             "line": {
              "color": "#E5ECF6",
              "width": 0.5
             },
             "pattern": {
              "fillmode": "overlay",
              "size": 10,
              "solidity": 0.2
             }
            },
            "type": "bar"
           }
          ],
          "barpolar": [
           {
            "marker": {
             "line": {
              "color": "#E5ECF6",
              "width": 0.5
             },
             "pattern": {
              "fillmode": "overlay",
              "size": 10,
              "solidity": 0.2
             }
            },
            "type": "barpolar"
           }
          ],
          "carpet": [
           {
            "aaxis": {
             "endlinecolor": "#2a3f5f",
             "gridcolor": "white",
             "linecolor": "white",
             "minorgridcolor": "white",
             "startlinecolor": "#2a3f5f"
            },
            "baxis": {
             "endlinecolor": "#2a3f5f",
             "gridcolor": "white",
             "linecolor": "white",
             "minorgridcolor": "white",
             "startlinecolor": "#2a3f5f"
            },
            "type": "carpet"
           }
          ],
          "choropleth": [
           {
            "colorbar": {
             "outlinewidth": 0,
             "ticks": ""
            },
            "type": "choropleth"
           }
          ],
          "contour": [
           {
            "colorbar": {
             "outlinewidth": 0,
             "ticks": ""
            },
            "colorscale": [
             [
              0,
              "#0d0887"
             ],
             [
              0.1111111111111111,
              "#46039f"
             ],
             [
              0.2222222222222222,
              "#7201a8"
             ],
             [
              0.3333333333333333,
              "#9c179e"
             ],
             [
              0.4444444444444444,
              "#bd3786"
             ],
             [
              0.5555555555555556,
              "#d8576b"
             ],
             [
              0.6666666666666666,
              "#ed7953"
             ],
             [
              0.7777777777777778,
              "#fb9f3a"
             ],
             [
              0.8888888888888888,
              "#fdca26"
             ],
             [
              1,
              "#f0f921"
             ]
            ],
            "type": "contour"
           }
          ],
          "contourcarpet": [
           {
            "colorbar": {
             "outlinewidth": 0,
             "ticks": ""
            },
            "type": "contourcarpet"
           }
          ],
          "heatmap": [
           {
            "colorbar": {
             "outlinewidth": 0,
             "ticks": ""
            },
            "colorscale": [
             [
              0,
              "#0d0887"
             ],
             [
              0.1111111111111111,
              "#46039f"
             ],
             [
              0.2222222222222222,
              "#7201a8"
             ],
             [
              0.3333333333333333,
              "#9c179e"
             ],
             [
              0.4444444444444444,
              "#bd3786"
             ],
             [
              0.5555555555555556,
              "#d8576b"
             ],
             [
              0.6666666666666666,
              "#ed7953"
             ],
             [
              0.7777777777777778,
              "#fb9f3a"
             ],
             [
              0.8888888888888888,
              "#fdca26"
             ],
             [
              1,
              "#f0f921"
             ]
            ],
            "type": "heatmap"
           }
          ],
          "heatmapgl": [
           {
            "colorbar": {
             "outlinewidth": 0,
             "ticks": ""
            },
            "colorscale": [
             [
              0,
              "#0d0887"
             ],
             [
              0.1111111111111111,
              "#46039f"
             ],
             [
              0.2222222222222222,
              "#7201a8"
             ],
             [
              0.3333333333333333,
              "#9c179e"
             ],
             [
              0.4444444444444444,
              "#bd3786"
             ],
             [
              0.5555555555555556,
              "#d8576b"
             ],
             [
              0.6666666666666666,
              "#ed7953"
             ],
             [
              0.7777777777777778,
              "#fb9f3a"
             ],
             [
              0.8888888888888888,
              "#fdca26"
             ],
             [
              1,
              "#f0f921"
             ]
            ],
            "type": "heatmapgl"
           }
          ],
          "histogram": [
           {
            "marker": {
             "pattern": {
              "fillmode": "overlay",
              "size": 10,
              "solidity": 0.2
             }
            },
            "type": "histogram"
           }
          ],
          "histogram2d": [
           {
            "colorbar": {
             "outlinewidth": 0,
             "ticks": ""
            },
            "colorscale": [
             [
              0,
              "#0d0887"
             ],
             [
              0.1111111111111111,
              "#46039f"
             ],
             [
              0.2222222222222222,
              "#7201a8"
             ],
             [
              0.3333333333333333,
              "#9c179e"
             ],
             [
              0.4444444444444444,
              "#bd3786"
             ],
             [
              0.5555555555555556,
              "#d8576b"
             ],
             [
              0.6666666666666666,
              "#ed7953"
             ],
             [
              0.7777777777777778,
              "#fb9f3a"
             ],
             [
              0.8888888888888888,
              "#fdca26"
             ],
             [
              1,
              "#f0f921"
             ]
            ],
            "type": "histogram2d"
           }
          ],
          "histogram2dcontour": [
           {
            "colorbar": {
             "outlinewidth": 0,
             "ticks": ""
            },
            "colorscale": [
             [
              0,
              "#0d0887"
             ],
             [
              0.1111111111111111,
              "#46039f"
             ],
             [
              0.2222222222222222,
              "#7201a8"
             ],
             [
              0.3333333333333333,
              "#9c179e"
             ],
             [
              0.4444444444444444,
              "#bd3786"
             ],
             [
              0.5555555555555556,
              "#d8576b"
             ],
             [
              0.6666666666666666,
              "#ed7953"
             ],
             [
              0.7777777777777778,
              "#fb9f3a"
             ],
             [
              0.8888888888888888,
              "#fdca26"
             ],
             [
              1,
              "#f0f921"
             ]
            ],
            "type": "histogram2dcontour"
           }
          ],
          "mesh3d": [
           {
            "colorbar": {
             "outlinewidth": 0,
             "ticks": ""
            },
            "type": "mesh3d"
           }
          ],
          "parcoords": [
           {
            "line": {
             "colorbar": {
              "outlinewidth": 0,
              "ticks": ""
             }
            },
            "type": "parcoords"
           }
          ],
          "pie": [
           {
            "automargin": true,
            "type": "pie"
           }
          ],
          "scatter": [
           {
            "fillpattern": {
             "fillmode": "overlay",
             "size": 10,
             "solidity": 0.2
            },
            "type": "scatter"
           }
          ],
          "scatter3d": [
           {
            "line": {
             "colorbar": {
              "outlinewidth": 0,
              "ticks": ""
             }
            },
            "marker": {
             "colorbar": {
              "outlinewidth": 0,
              "ticks": ""
             }
            },
            "type": "scatter3d"
           }
          ],
          "scattercarpet": [
           {
            "marker": {
             "colorbar": {
              "outlinewidth": 0,
              "ticks": ""
             }
            },
            "type": "scattercarpet"
           }
          ],
          "scattergeo": [
           {
            "marker": {
             "colorbar": {
              "outlinewidth": 0,
              "ticks": ""
             }
            },
            "type": "scattergeo"
           }
          ],
          "scattergl": [
           {
            "marker": {
             "colorbar": {
              "outlinewidth": 0,
              "ticks": ""
             }
            },
            "type": "scattergl"
           }
          ],
          "scattermapbox": [
           {
            "marker": {
             "colorbar": {
              "outlinewidth": 0,
              "ticks": ""
             }
            },
            "type": "scattermapbox"
           }
          ],
          "scatterpolar": [
           {
            "marker": {
             "colorbar": {
              "outlinewidth": 0,
              "ticks": ""
             }
            },
            "type": "scatterpolar"
           }
          ],
          "scatterpolargl": [
           {
            "marker": {
             "colorbar": {
              "outlinewidth": 0,
              "ticks": ""
             }
            },
            "type": "scatterpolargl"
           }
          ],
          "scatterternary": [
           {
            "marker": {
             "colorbar": {
              "outlinewidth": 0,
              "ticks": ""
             }
            },
            "type": "scatterternary"
           }
          ],
          "surface": [
           {
            "colorbar": {
             "outlinewidth": 0,
             "ticks": ""
            },
            "colorscale": [
             [
              0,
              "#0d0887"
             ],
             [
              0.1111111111111111,
              "#46039f"
             ],
             [
              0.2222222222222222,
              "#7201a8"
             ],
             [
              0.3333333333333333,
              "#9c179e"
             ],
             [
              0.4444444444444444,
              "#bd3786"
             ],
             [
              0.5555555555555556,
              "#d8576b"
             ],
             [
              0.6666666666666666,
              "#ed7953"
             ],
             [
              0.7777777777777778,
              "#fb9f3a"
             ],
             [
              0.8888888888888888,
              "#fdca26"
             ],
             [
              1,
              "#f0f921"
             ]
            ],
            "type": "surface"
           }
          ],
          "table": [
           {
            "cells": {
             "fill": {
              "color": "#EBF0F8"
             },
             "line": {
              "color": "white"
             }
            },
            "header": {
             "fill": {
              "color": "#C8D4E3"
             },
             "line": {
              "color": "white"
             }
            },
            "type": "table"
           }
          ]
         },
         "layout": {
          "annotationdefaults": {
           "arrowcolor": "#2a3f5f",
           "arrowhead": 0,
           "arrowwidth": 1
          },
          "autotypenumbers": "strict",
          "coloraxis": {
           "colorbar": {
            "outlinewidth": 0,
            "ticks": ""
           }
          },
          "colorscale": {
           "diverging": [
            [
             0,
             "#8e0152"
            ],
            [
             0.1,
             "#c51b7d"
            ],
            [
             0.2,
             "#de77ae"
            ],
            [
             0.3,
             "#f1b6da"
            ],
            [
             0.4,
             "#fde0ef"
            ],
            [
             0.5,
             "#f7f7f7"
            ],
            [
             0.6,
             "#e6f5d0"
            ],
            [
             0.7,
             "#b8e186"
            ],
            [
             0.8,
             "#7fbc41"
            ],
            [
             0.9,
             "#4d9221"
            ],
            [
             1,
             "#276419"
            ]
           ],
           "sequential": [
            [
             0,
             "#0d0887"
            ],
            [
             0.1111111111111111,
             "#46039f"
            ],
            [
             0.2222222222222222,
             "#7201a8"
            ],
            [
             0.3333333333333333,
             "#9c179e"
            ],
            [
             0.4444444444444444,
             "#bd3786"
            ],
            [
             0.5555555555555556,
             "#d8576b"
            ],
            [
             0.6666666666666666,
             "#ed7953"
            ],
            [
             0.7777777777777778,
             "#fb9f3a"
            ],
            [
             0.8888888888888888,
             "#fdca26"
            ],
            [
             1,
             "#f0f921"
            ]
           ],
           "sequentialminus": [
            [
             0,
             "#0d0887"
            ],
            [
             0.1111111111111111,
             "#46039f"
            ],
            [
             0.2222222222222222,
             "#7201a8"
            ],
            [
             0.3333333333333333,
             "#9c179e"
            ],
            [
             0.4444444444444444,
             "#bd3786"
            ],
            [
             0.5555555555555556,
             "#d8576b"
            ],
            [
             0.6666666666666666,
             "#ed7953"
            ],
            [
             0.7777777777777778,
             "#fb9f3a"
            ],
            [
             0.8888888888888888,
             "#fdca26"
            ],
            [
             1,
             "#f0f921"
            ]
           ]
          },
          "colorway": [
           "#636efa",
           "#EF553B",
           "#00cc96",
           "#ab63fa",
           "#FFA15A",
           "#19d3f3",
           "#FF6692",
           "#B6E880",
           "#FF97FF",
           "#FECB52"
          ],
          "font": {
           "color": "#2a3f5f"
          },
          "geo": {
           "bgcolor": "white",
           "lakecolor": "white",
           "landcolor": "#E5ECF6",
           "showlakes": true,
           "showland": true,
           "subunitcolor": "white"
          },
          "hoverlabel": {
           "align": "left"
          },
          "hovermode": "closest",
          "mapbox": {
           "style": "light"
          },
          "paper_bgcolor": "white",
          "plot_bgcolor": "#E5ECF6",
          "polar": {
           "angularaxis": {
            "gridcolor": "white",
            "linecolor": "white",
            "ticks": ""
           },
           "bgcolor": "#E5ECF6",
           "radialaxis": {
            "gridcolor": "white",
            "linecolor": "white",
            "ticks": ""
           }
          },
          "scene": {
           "xaxis": {
            "backgroundcolor": "#E5ECF6",
            "gridcolor": "white",
            "gridwidth": 2,
            "linecolor": "white",
            "showbackground": true,
            "ticks": "",
            "zerolinecolor": "white"
           },
           "yaxis": {
            "backgroundcolor": "#E5ECF6",
            "gridcolor": "white",
            "gridwidth": 2,
            "linecolor": "white",
            "showbackground": true,
            "ticks": "",
            "zerolinecolor": "white"
           },
           "zaxis": {
            "backgroundcolor": "#E5ECF6",
            "gridcolor": "white",
            "gridwidth": 2,
            "linecolor": "white",
            "showbackground": true,
            "ticks": "",
            "zerolinecolor": "white"
           }
          },
          "shapedefaults": {
           "line": {
            "color": "#2a3f5f"
           }
          },
          "ternary": {
           "aaxis": {
            "gridcolor": "white",
            "linecolor": "white",
            "ticks": ""
           },
           "baxis": {
            "gridcolor": "white",
            "linecolor": "white",
            "ticks": ""
           },
           "bgcolor": "#E5ECF6",
           "caxis": {
            "gridcolor": "white",
            "linecolor": "white",
            "ticks": ""
           }
          },
          "title": {
           "x": 0.05
          },
          "xaxis": {
           "automargin": true,
           "gridcolor": "white",
           "linecolor": "white",
           "ticks": "",
           "title": {
            "standoff": 15
           },
           "zerolinecolor": "white",
           "zerolinewidth": 2
          },
          "yaxis": {
           "automargin": true,
           "gridcolor": "white",
           "linecolor": "white",
           "ticks": "",
           "title": {
            "standoff": 15
           },
           "zerolinecolor": "white",
           "zerolinewidth": 2
          }
         }
        }
       }
      },
      "text/html": [
       "<div>                            <div id=\"50010d44-8116-4f9c-93e5-e090fae607af\" class=\"plotly-graph-div\" style=\"height:525px; width:100%;\"></div>            <script type=\"text/javascript\">                require([\"plotly\"], function(Plotly) {                    window.PLOTLYENV=window.PLOTLYENV || {};                                    if (document.getElementById(\"50010d44-8116-4f9c-93e5-e090fae607af\")) {                    Plotly.newPlot(                        \"50010d44-8116-4f9c-93e5-e090fae607af\",                        [{\"z\":[[0.0009731620666570961,0.025349190458655357,0.003534059738740325,0.008810061030089855,0.019228244200348854,0.011264177970588207,0.01413056906312704],[0.0008512297063134611,0.02218504622578621,0.0030925185419619083,0.007710057310760021,0.016828015446662903,0.00985789205878973,0.012366547249257565],[0.0011493730125948787,0.029921863228082657,0.0041721537709236145,0.010399735532701015,0.02269694209098816,0.013296476565301418,0.016679849475622177],[0.0030624857172369957,0.07956714183092117,0.011099913157522678,0.027658749371767044,0.06035642698407173,0.03536104038357735,0.04435727000236511],[0.0034397956915199757,0.08935833722352982,0.01246622670441866,0.031062623485922813,0.06778374314308167,0.03971268609166145,0.04981589317321777],[0.009675138629972935,0.2511654496192932,0.03504563868045807,0.08731433749198914,0.19052600860595703,0.11162697523832321,0.14002397656440735],[0.0011629343498498201,0.03027378022670746,0.004221262410283089,0.010522078722715378,0.02296389639377594,0.013452884741127491,0.01687604747712612],[0.0005627972423098981,0.014700221829116344,0.002048047026619315,0.005107982084155083,0.011150241829454899,0.006531301885843277,0.008193730376660824],[0.013460913673043251,0.349406361579895,0.048754677176475525,0.1214674562215805,0.2650487422943115,0.15528959035873413,0.19479359686374664],[0.0013541608350351453,0.03523610904812813,0.004913731478154659,0.012247215956449509,0.026728179305791855,0.015658365562558174,0.019642561674118042],[0.0013750920770689845,0.035779278725385666,0.004989527631551027,0.012436045333743095,0.027140209451317787,0.015899771824479103,0.019945381209254265],[0.0013629007153213024,0.03546290472149849,0.00494538014754653,0.01232606079429388,0.026900220662355423,0.015759162604808807,0.019769003614783287],[0.0013730373466387391,0.035725951194763184,0.004982086829841137,0.012417508289217949,0.027099760249257088,0.015876073390245438,0.01991565153002739],[0.001323592965491116,0.034442875534296036,0.004803038667887449,0.01197145041078329,0.026126453652977943,0.015305815264582634,0.01920033060014248],[0.0008383318781852722,0.0218503475189209,0.0030458129476755857,0.0075936997309327126,0.01657412201166153,0.009709135629236698,0.012179951183497906],[0.018348192796111107,0.47623127698898315,0.06645248830318451,0.16555769741535187,0.36125448346138,0.21165619790554047,0.26549896597862244],[5.05940624861978e-05,0.0014085498405620456,0.00019325822358950973,0.00048717716708779335,0.0010675601661205292,0.0006238926434889436,0.000783575524110347],[0.016348497942090034,0.4243391752243042,0.05921119078993797,0.1475176066160202,0.321890652179718,0.1885930448770523,0.23656892776489258],[0.0014276488218456507,0.03714311867952347,0.005179845727980137,0.012910180725157261,0.028174782171845436,0.016505924984812737,0.020705725997686386],[0.002568224212154746,0.06674104928970337,0.009310094639658928,0.02319980598986149,0.05062692612409592,0.02966056391596794,0.037206683307886124],[0.010897334665060043,0.2828814685344696,0.039471451193094254,0.09834031015634537,0.2145848572254181,0.1257229745388031,0.15770575404167175],[0.022251615300774574,0.5775250196456909,0.08058754354715347,0.20077215135097504,0.43809303641319275,0.256675660610199,0.3219706118106842],[0.0019328715279698372,0.050253648310899734,0.007009357213973999,0.017468014732003212,0.038120053708553314,0.022332826629281044,0.02801489643752575],[0.003836203832179308,0.09964512288570404,0.01390169933438301,0.034638792276382446,0.07558701187372208,0.04428459331393242,0.055550817400217056],[0.006303394678980112,0.16366872191429138,0.022835886105895042,0.0568963885307312,0.1241534948348999,0.07273952662944794,0.09124421328306198],[0.0010144732659682631,0.026421217247843742,0.0036836559884250164,0.009182748384773731,0.02004145458340645,0.011740634217858315,0.014728227630257607],[0.002805729629471898,0.0729043260216713,0.010170149616897106,0.025342443957924843,0.0553022064268589,0.03239979222416878,0.04064272716641426],[0.0,9.563384810462594e-05,1.0047102477983572e-05,3.074630512855947e-05,7.161970279412344e-05,4.037447433802299e-05,5.1620118028949946e-05],[0.010419673286378384,0.27048617601394653,0.03774174302816391,0.09403111785650253,0.20518213510513306,0.12021394819021225,0.15079531073570251],[0.0032754731364548206,0.08509416878223419,0.011871184222400188,0.02958020381629467,0.06454907357692719,0.03781750053167343,0.0474386103451252],[0.001480684382840991,0.038519393652677536,0.005371898412704468,0.013388639315962791,0.029218783602118492,0.01711760088801384,0.021473003551363945],[0.018221981823444366,0.4729560911655426,0.06599544733762741,0.16441909968852997,0.3587700426578522,0.21020056307315826,0.2636730372905731],[0.015755577012896538,0.408952921628952,0.05706411227583885,0.14216861128807068,0.31021904945373535,0.1817547082901001,0.2279910147190094],[0.006035614293068647,0.15671981871128082,0.021866200491786003,0.05448063090443611,0.11888225376605988,0.06965113431215286,0.08737018704414368],[0.0009857132099568844,0.025674890726804733,0.0035795096773654222,0.00892329029738903,0.019475314766168594,0.011408933438360691,0.01431214902549982],[9.582287748344243e-05,0.002582237822934985,0.00035704064066521823,0.0008952058269642293,0.0019578859210014343,0.0011455316562205553,0.0014379107160493731],[0.015505090355873108,0.4024527668952942,0.05615704879164696,0.13990886509418488,0.30528825521469116,0.17886576056480408,0.2243671715259552],[0.008509689010679722,0.2209220826625824,0.030825316905975342,0.07680033147335052,0.16758424043655396,0.0981854721903801,0.12316316366195679],[0.0007530711009167135,0.019637830555438995,0.0027370669413357973,0.006824526470154524,0.014895771630108356,0.008725795894861221,0.010946466587483883],[0.0012341936817392707,0.032122962176799774,0.0044793072156608105,0.011164940893650055,0.024366633966565132,0.01427474245429039,0.017906973138451576],[0.0024837544187903404,0.06454905867576599,0.009004211984574795,0.022437764331698418,0.04896414652466774,0.028686342760920525,0.03598463535308838],[0.0031125470995903015,0.08086623251438141,0.011281196027994156,0.028110375627875328,0.06134188920259476,0.03593841940164566,0.04508151859045029],[0.013303200714290142,0.34531369805336,0.04818357154726982,0.12004465609788895,0.26194414496421814,0.15347063541412354,0.19251194596290588],[0.0008938779938034713,0.02329176664352417,0.0032469560392200947,0.008094804361462593,0.01766754314303398,0.010349767282605171,0.012983548454940319],[0.03853195905685425,1.0,0.139541894197464,0.34764420986175537,0.7585704922676086,0.44444236159324646,0.5575019121170044],[0.0018053522799164057,0.046944525092840195,0.006547585129737854,0.01631760783493519,0.03560984879732132,0.02086210623383522,0.026170047000050545],[0.01441214606165886,0.37409085035324097,0.052199285477399826,0.1300489455461502,0.2837736904621124,0.1662604808807373,0.20855531096458435],[0.012910314835608006,0.3351183235645294,0.04676085337996483,0.11650027334690094,0.2542102336883545,0.1489393562078476,0.18682797253131866],[0.010347437113523483,0.2686116397380829,0.03748016431927681,0.093379445374012,0.20376016199588776,0.11938081681728363,0.1497502624988556],[0.0012918636202812195,0.03361949324607849,0.004688141401857138,0.0116852056235075,0.025501862168312073,0.0149398697540164,0.018741294741630554],[0.016734732314944267,0.4343619644641876,0.06060982495546341,0.15100198984146118,0.3294936418533325,0.1930476278066635,0.24215666949748993],[0.0017053778283298016,0.044350188225507736,0.006185557227581739,0.015415694564580917,0.03364185988903046,0.019709065556526184,0.02472369559109211],[0.0018849645275622606,0.049010466784238815,0.006835876498371363,0.017035823315382004,0.037177007645368576,0.02178029902279377,0.027321813628077507],[0.002496778266504407,0.06488702446222305,0.009051375091075897,0.022555258125066757,0.04922052100300789,0.028836550191044807,0.036173056811094284],[0.0027068741619586945,0.07033901661634445,0.009812173433601856,0.024450626224279404,0.053356241434812546,0.03125965595245361,0.03921256214380264],[0.003761883592233062,0.09771651774644852,0.013632570393383503,0.03396831825375557,0.07412402331829071,0.04342743381857872,0.05447561293840408],[0.0018940976588055491,0.04924746975302696,0.0068689496256411076,0.017118217423558235,0.037356793880462646,0.02188563533127308,0.027453947812318802],[0.01680455356836319,0.43617379665374756,0.06086265668272972,0.15163187682628632,0.33086803555488586,0.19385287165641785,0.2431667596101761],[0.014969377778470516,0.3885510265827179,0.054217126220464706,0.13507597148418427,0.29474273324012756,0.17268720269203186,0.21661688387393951],[0.005430936347693205,0.14102844893932343,0.019676541909575462,0.04902556911110878,0.10697922110557556,0.06267718225717545,0.07862217724323273],[0.01659434288740158,0.4307188093662262,0.06010144576430321,0.1497354805469513,0.32673004269599915,0.19142845273017883,0.2401256114244461],[0.0034375085961073637,0.08929897844791412,0.012457945384085178,0.03104199469089508,0.06773872673511505,0.039686307311058044,0.049782805144786835],[0.0017174857202917337,0.04466438665986061,0.006229402497410774,0.015524926595389843,0.03388020396232605,0.019848709926009178,0.024898862466216087],[0.0016468537505716085,0.04283148795366287,0.005973630119115114,0.014887724071741104,0.03248981758952141,0.019034089520573616,0.023877013474702835]],\"type\":\"heatmap\"}],                        {\"template\":{\"data\":{\"histogram2dcontour\":[{\"type\":\"histogram2dcontour\",\"colorbar\":{\"outlinewidth\":0,\"ticks\":\"\"},\"colorscale\":[[0.0,\"#0d0887\"],[0.1111111111111111,\"#46039f\"],[0.2222222222222222,\"#7201a8\"],[0.3333333333333333,\"#9c179e\"],[0.4444444444444444,\"#bd3786\"],[0.5555555555555556,\"#d8576b\"],[0.6666666666666666,\"#ed7953\"],[0.7777777777777778,\"#fb9f3a\"],[0.8888888888888888,\"#fdca26\"],[1.0,\"#f0f921\"]]}],\"choropleth\":[{\"type\":\"choropleth\",\"colorbar\":{\"outlinewidth\":0,\"ticks\":\"\"}}],\"histogram2d\":[{\"type\":\"histogram2d\",\"colorbar\":{\"outlinewidth\":0,\"ticks\":\"\"},\"colorscale\":[[0.0,\"#0d0887\"],[0.1111111111111111,\"#46039f\"],[0.2222222222222222,\"#7201a8\"],[0.3333333333333333,\"#9c179e\"],[0.4444444444444444,\"#bd3786\"],[0.5555555555555556,\"#d8576b\"],[0.6666666666666666,\"#ed7953\"],[0.7777777777777778,\"#fb9f3a\"],[0.8888888888888888,\"#fdca26\"],[1.0,\"#f0f921\"]]}],\"heatmap\":[{\"type\":\"heatmap\",\"colorbar\":{\"outlinewidth\":0,\"ticks\":\"\"},\"colorscale\":[[0.0,\"#0d0887\"],[0.1111111111111111,\"#46039f\"],[0.2222222222222222,\"#7201a8\"],[0.3333333333333333,\"#9c179e\"],[0.4444444444444444,\"#bd3786\"],[0.5555555555555556,\"#d8576b\"],[0.6666666666666666,\"#ed7953\"],[0.7777777777777778,\"#fb9f3a\"],[0.8888888888888888,\"#fdca26\"],[1.0,\"#f0f921\"]]}],\"heatmapgl\":[{\"type\":\"heatmapgl\",\"colorbar\":{\"outlinewidth\":0,\"ticks\":\"\"},\"colorscale\":[[0.0,\"#0d0887\"],[0.1111111111111111,\"#46039f\"],[0.2222222222222222,\"#7201a8\"],[0.3333333333333333,\"#9c179e\"],[0.4444444444444444,\"#bd3786\"],[0.5555555555555556,\"#d8576b\"],[0.6666666666666666,\"#ed7953\"],[0.7777777777777778,\"#fb9f3a\"],[0.8888888888888888,\"#fdca26\"],[1.0,\"#f0f921\"]]}],\"contourcarpet\":[{\"type\":\"contourcarpet\",\"colorbar\":{\"outlinewidth\":0,\"ticks\":\"\"}}],\"contour\":[{\"type\":\"contour\",\"colorbar\":{\"outlinewidth\":0,\"ticks\":\"\"},\"colorscale\":[[0.0,\"#0d0887\"],[0.1111111111111111,\"#46039f\"],[0.2222222222222222,\"#7201a8\"],[0.3333333333333333,\"#9c179e\"],[0.4444444444444444,\"#bd3786\"],[0.5555555555555556,\"#d8576b\"],[0.6666666666666666,\"#ed7953\"],[0.7777777777777778,\"#fb9f3a\"],[0.8888888888888888,\"#fdca26\"],[1.0,\"#f0f921\"]]}],\"surface\":[{\"type\":\"surface\",\"colorbar\":{\"outlinewidth\":0,\"ticks\":\"\"},\"colorscale\":[[0.0,\"#0d0887\"],[0.1111111111111111,\"#46039f\"],[0.2222222222222222,\"#7201a8\"],[0.3333333333333333,\"#9c179e\"],[0.4444444444444444,\"#bd3786\"],[0.5555555555555556,\"#d8576b\"],[0.6666666666666666,\"#ed7953\"],[0.7777777777777778,\"#fb9f3a\"],[0.8888888888888888,\"#fdca26\"],[1.0,\"#f0f921\"]]}],\"mesh3d\":[{\"type\":\"mesh3d\",\"colorbar\":{\"outlinewidth\":0,\"ticks\":\"\"}}],\"scatter\":[{\"fillpattern\":{\"fillmode\":\"overlay\",\"size\":10,\"solidity\":0.2},\"type\":\"scatter\"}],\"parcoords\":[{\"type\":\"parcoords\",\"line\":{\"colorbar\":{\"outlinewidth\":0,\"ticks\":\"\"}}}],\"scatterpolargl\":[{\"type\":\"scatterpolargl\",\"marker\":{\"colorbar\":{\"outlinewidth\":0,\"ticks\":\"\"}}}],\"bar\":[{\"error_x\":{\"color\":\"#2a3f5f\"},\"error_y\":{\"color\":\"#2a3f5f\"},\"marker\":{\"line\":{\"color\":\"#E5ECF6\",\"width\":0.5},\"pattern\":{\"fillmode\":\"overlay\",\"size\":10,\"solidity\":0.2}},\"type\":\"bar\"}],\"scattergeo\":[{\"type\":\"scattergeo\",\"marker\":{\"colorbar\":{\"outlinewidth\":0,\"ticks\":\"\"}}}],\"scatterpolar\":[{\"type\":\"scatterpolar\",\"marker\":{\"colorbar\":{\"outlinewidth\":0,\"ticks\":\"\"}}}],\"histogram\":[{\"marker\":{\"pattern\":{\"fillmode\":\"overlay\",\"size\":10,\"solidity\":0.2}},\"type\":\"histogram\"}],\"scattergl\":[{\"type\":\"scattergl\",\"marker\":{\"colorbar\":{\"outlinewidth\":0,\"ticks\":\"\"}}}],\"scatter3d\":[{\"type\":\"scatter3d\",\"line\":{\"colorbar\":{\"outlinewidth\":0,\"ticks\":\"\"}},\"marker\":{\"colorbar\":{\"outlinewidth\":0,\"ticks\":\"\"}}}],\"scattermapbox\":[{\"type\":\"scattermapbox\",\"marker\":{\"colorbar\":{\"outlinewidth\":0,\"ticks\":\"\"}}}],\"scatterternary\":[{\"type\":\"scatterternary\",\"marker\":{\"colorbar\":{\"outlinewidth\":0,\"ticks\":\"\"}}}],\"scattercarpet\":[{\"type\":\"scattercarpet\",\"marker\":{\"colorbar\":{\"outlinewidth\":0,\"ticks\":\"\"}}}],\"carpet\":[{\"aaxis\":{\"endlinecolor\":\"#2a3f5f\",\"gridcolor\":\"white\",\"linecolor\":\"white\",\"minorgridcolor\":\"white\",\"startlinecolor\":\"#2a3f5f\"},\"baxis\":{\"endlinecolor\":\"#2a3f5f\",\"gridcolor\":\"white\",\"linecolor\":\"white\",\"minorgridcolor\":\"white\",\"startlinecolor\":\"#2a3f5f\"},\"type\":\"carpet\"}],\"table\":[{\"cells\":{\"fill\":{\"color\":\"#EBF0F8\"},\"line\":{\"color\":\"white\"}},\"header\":{\"fill\":{\"color\":\"#C8D4E3\"},\"line\":{\"color\":\"white\"}},\"type\":\"table\"}],\"barpolar\":[{\"marker\":{\"line\":{\"color\":\"#E5ECF6\",\"width\":0.5},\"pattern\":{\"fillmode\":\"overlay\",\"size\":10,\"solidity\":0.2}},\"type\":\"barpolar\"}],\"pie\":[{\"automargin\":true,\"type\":\"pie\"}]},\"layout\":{\"autotypenumbers\":\"strict\",\"colorway\":[\"#636efa\",\"#EF553B\",\"#00cc96\",\"#ab63fa\",\"#FFA15A\",\"#19d3f3\",\"#FF6692\",\"#B6E880\",\"#FF97FF\",\"#FECB52\"],\"font\":{\"color\":\"#2a3f5f\"},\"hovermode\":\"closest\",\"hoverlabel\":{\"align\":\"left\"},\"paper_bgcolor\":\"white\",\"plot_bgcolor\":\"#E5ECF6\",\"polar\":{\"bgcolor\":\"#E5ECF6\",\"angularaxis\":{\"gridcolor\":\"white\",\"linecolor\":\"white\",\"ticks\":\"\"},\"radialaxis\":{\"gridcolor\":\"white\",\"linecolor\":\"white\",\"ticks\":\"\"}},\"ternary\":{\"bgcolor\":\"#E5ECF6\",\"aaxis\":{\"gridcolor\":\"white\",\"linecolor\":\"white\",\"ticks\":\"\"},\"baxis\":{\"gridcolor\":\"white\",\"linecolor\":\"white\",\"ticks\":\"\"},\"caxis\":{\"gridcolor\":\"white\",\"linecolor\":\"white\",\"ticks\":\"\"}},\"coloraxis\":{\"colorbar\":{\"outlinewidth\":0,\"ticks\":\"\"}},\"colorscale\":{\"sequential\":[[0.0,\"#0d0887\"],[0.1111111111111111,\"#46039f\"],[0.2222222222222222,\"#7201a8\"],[0.3333333333333333,\"#9c179e\"],[0.4444444444444444,\"#bd3786\"],[0.5555555555555556,\"#d8576b\"],[0.6666666666666666,\"#ed7953\"],[0.7777777777777778,\"#fb9f3a\"],[0.8888888888888888,\"#fdca26\"],[1.0,\"#f0f921\"]],\"sequentialminus\":[[0.0,\"#0d0887\"],[0.1111111111111111,\"#46039f\"],[0.2222222222222222,\"#7201a8\"],[0.3333333333333333,\"#9c179e\"],[0.4444444444444444,\"#bd3786\"],[0.5555555555555556,\"#d8576b\"],[0.6666666666666666,\"#ed7953\"],[0.7777777777777778,\"#fb9f3a\"],[0.8888888888888888,\"#fdca26\"],[1.0,\"#f0f921\"]],\"diverging\":[[0,\"#8e0152\"],[0.1,\"#c51b7d\"],[0.2,\"#de77ae\"],[0.3,\"#f1b6da\"],[0.4,\"#fde0ef\"],[0.5,\"#f7f7f7\"],[0.6,\"#e6f5d0\"],[0.7,\"#b8e186\"],[0.8,\"#7fbc41\"],[0.9,\"#4d9221\"],[1,\"#276419\"]]},\"xaxis\":{\"gridcolor\":\"white\",\"linecolor\":\"white\",\"ticks\":\"\",\"title\":{\"standoff\":15},\"zerolinecolor\":\"white\",\"automargin\":true,\"zerolinewidth\":2},\"yaxis\":{\"gridcolor\":\"white\",\"linecolor\":\"white\",\"ticks\":\"\",\"title\":{\"standoff\":15},\"zerolinecolor\":\"white\",\"automargin\":true,\"zerolinewidth\":2},\"scene\":{\"xaxis\":{\"backgroundcolor\":\"#E5ECF6\",\"gridcolor\":\"white\",\"linecolor\":\"white\",\"showbackground\":true,\"ticks\":\"\",\"zerolinecolor\":\"white\",\"gridwidth\":2},\"yaxis\":{\"backgroundcolor\":\"#E5ECF6\",\"gridcolor\":\"white\",\"linecolor\":\"white\",\"showbackground\":true,\"ticks\":\"\",\"zerolinecolor\":\"white\",\"gridwidth\":2},\"zaxis\":{\"backgroundcolor\":\"#E5ECF6\",\"gridcolor\":\"white\",\"linecolor\":\"white\",\"showbackground\":true,\"ticks\":\"\",\"zerolinecolor\":\"white\",\"gridwidth\":2}},\"shapedefaults\":{\"line\":{\"color\":\"#2a3f5f\"}},\"annotationdefaults\":{\"arrowcolor\":\"#2a3f5f\",\"arrowhead\":0,\"arrowwidth\":1},\"geo\":{\"bgcolor\":\"white\",\"landcolor\":\"#E5ECF6\",\"subunitcolor\":\"white\",\"showland\":true,\"showlakes\":true,\"lakecolor\":\"white\"},\"title\":{\"x\":0.05},\"mapbox\":{\"style\":\"light\"}}}},                        {\"responsive\": true}                    ).then(function(){\n",
       "                            \n",
       "var gd = document.getElementById('50010d44-8116-4f9c-93e5-e090fae607af');\n",
       "var x = new MutationObserver(function (mutations, observer) {{\n",
       "        var display = window.getComputedStyle(gd).display;\n",
       "        if (!display || display === 'none') {{\n",
       "            console.log([gd, 'removed!']);\n",
       "            Plotly.purge(gd);\n",
       "            observer.disconnect();\n",
       "        }}\n",
       "}});\n",
       "\n",
       "// Listen for the removal of the full notebook cells\n",
       "var notebookContainer = gd.closest('#notebook-container');\n",
       "if (notebookContainer) {{\n",
       "    x.observe(notebookContainer, {childList: true});\n",
       "}}\n",
       "\n",
       "// Listen for the clearing of the current output cell\n",
       "var outputEl = gd.closest('.output');\n",
       "if (outputEl) {{\n",
       "    x.observe(outputEl, {childList: true});\n",
       "}}\n",
       "\n",
       "                        })                };                });            </script>        </div>"
      ]
     },
     "metadata": {},
     "output_type": "display_data"
    }
   ],
   "source": [
    "fig = go.Figure()\n",
    "fig.add_trace(go.Heatmap(z = D_plus[110, :, :]))"
   ]
  },
  {
   "cell_type": "code",
   "execution_count": 70,
   "id": "81bf93cd",
   "metadata": {},
   "outputs": [
    {
     "data": {
      "application/vnd.plotly.v1+json": {
       "config": {
        "plotlyServerURL": "https://plot.ly"
       },
       "data": [
        {
         "type": "heatmap",
         "z": [
          [
           0.015289831906557083,
           0.5203760266304016,
           0.06835319101810455,
           0.17767517268657684,
           0.39354631304740906,
           0.22852599620819092,
           0.2879193425178528
          ],
          [
           0.00026118705864064395,
           0.1303827315568924,
           0.013931500725448132,
           0.04209529981017113,
           0.09770854562520981,
           0.055195607244968414,
           0.07049666345119476
          ],
          [
           0.00010031416604761034,
           0.1262080818414688,
           0.01334894634783268,
           0.04064399376511574,
           0.0945417732000351,
           0.05334020033478737,
           0.06816928088665009
          ],
          [
           0.0023491729516535997,
           0.1845659762620926,
           0.02149250917136669,
           0.060931913554668427,
           0.1388104259967804,
           0.07927703857421875,
           0.10070402175188065
          ],
          [
           0.0009232112788595259,
           0.14756226539611816,
           0.01632882095873356,
           0.04806770384311676,
           0.11074045300483704,
           0.06283094733953476,
           0.08007432520389557
          ],
          [
           0.0011474023340269923,
           0.15338002145290375,
           0.01714066043496132,
           0.05009022727608681,
           0.11515361815690994,
           0.0654166117310524,
           0.08331773430109024
          ],
          [
           0.02229432761669159,
           0.7021427154541016,
           0.09371785074472427,
           0.2408657670021057,
           0.5314292907714844,
           0.3093111515045166,
           0.38925492763519287
          ],
          [
           0.0159760732203722,
           0.5381840467453003,
           0.07083821296691895,
           0.18386608362197876,
           0.40705496072769165,
           0.23644062876701355,
           0.2978473901748657
          ],
          [
           0.02302653342485428,
           0.7211434245109558,
           0.09636932611465454,
           0.24747130274772644,
           0.5458427667617798,
           0.31775593757629395,
           0.39984792470932007
          ],
          [
           0.0012152104172855616,
           0.15513963997364044,
           0.01738620549440384,
           0.05070194974541664,
           0.11648842692375183,
           0.06619866192340851,
           0.08429873734712601
          ],
          [
           0.0009100587922148407,
           0.1472209393978119,
           0.016281191259622574,
           0.04794904217123985,
           0.11048153042793274,
           0.0626792460680008,
           0.07988402992486954
          ],
          [
           0.0001791066606529057,
           0.12825274467468262,
           0.013634269125759602,
           0.04135481268167496,
           0.09609279781579971,
           0.05424894019961357,
           0.06930919736623764
          ],
          [
           0.004800146445631981,
           0.2481687366962433,
           0.030367974191904068,
           0.08304321020841599,
           0.18705765902996063,
           0.10754493623971939,
           0.13616281747817993
          ],
          [
           0.00011049744352931157,
           0.1264723241329193,
           0.01338582206517458,
           0.04073585942387581,
           0.09474222362041473,
           0.053457651287317276,
           0.06831660866737366
          ],
          [
           0.01857776939868927,
           0.6056980490684509,
           0.08025947213172913,
           0.20733709633350372,
           0.4582691192626953,
           0.2664468586444855,
           0.3354867100715637
          ],
          [
           0.0034348827321082354,
           0.21274015307426453,
           0.025424079969525337,
           0.07072658091783524,
           0.16018253564834595,
           0.09179890155792236,
           0.1164112314581871
          ],
          [
           0.03377244994044304,
           1,
           0.13528241217136383,
           0.3444148898124695,
           0.7573752999305725,
           0.44169217348098755,
           0.5553114414215088
          ],
          [
           0.015097695402801037,
           0.5153900980949402,
           0.06765743345022202,
           0.1759418547153473,
           0.3897641897201538,
           0.22631001472473145,
           0.28513970971107483
          ],
          [
           0.0008577818516641855,
           0.14586438238620758,
           0.016091886907815933,
           0.04747743904590607,
           0.10945247858762741,
           0.06207633018493652,
           0.079127736389637
          ],
          [
           0.01939707063138485,
           0.6269589066505432,
           0.08322631567716599,
           0.21472835540771484,
           0.47439703345298767,
           0.2758961319923401,
           0.3473397195339203
          ],
          [
           0.0005764689994975924,
           0.1385643035173416,
           0.015073196031153202,
           0.044939588755369186,
           0.10391484200954437,
           0.058831848204135895,
           0.07505791634321213
          ],
          [
           0.0028545872773975134,
           0.1976814568042755,
           0.023322714492678642,
           0.06549146771430969,
           0.14875943958759308,
           0.08510614931583405,
           0.10801595449447632
          ],
          [
           0.0002177479036618024,
           0.1292554885149002,
           0.013774196617305279,
           0.04170341417193413,
           0.09685344249010086,
           0.05469459667801857,
           0.06986822187900543
          ],
          [
           0.013038410805165768,
           0.46195167303085327,
           0.06020035967230797,
           0.157364159822464,
           0.34922730922698975,
           0.20255960524082184,
           0.2553475797176361
          ],
          [
           0.0011963354190811515,
           0.15464983880519867,
           0.01731785573065281,
           0.050531674176454544,
           0.11611688882112503,
           0.06598097831010818,
           0.08402566611766815
          ],
          [
           0.016996508464217186,
           0.564664363861084,
           0.07453340291976929,
           0.1930718570947647,
           0.4271421432495117,
           0.2482096403837204,
           0.3126102387905121
          ],
          [
           0.0009433366358280182,
           0.14808452129364014,
           0.01640169881284237,
           0.0482492633163929,
           0.11113660782575607,
           0.06306306272745132,
           0.08036547899246216
          ],
          [
           0.012740541249513626,
           0.4542219936847687,
           0.05912170559167862,
           0.15467692911624908,
           0.3433637320995331,
           0.19912415742874146,
           0.25103822350502014
          ],
          [
           0.012559482827782631,
           0.44952356815338135,
           0.05846606194972992,
           0.15304353833198547,
           0.3397996425628662,
           0.19703596830368042,
           0.24841885268688202
          ],
          [
           0.0011628164211288095,
           0.153779998421669,
           0.017196474596858025,
           0.050229281187057495,
           0.11545704305171967,
           0.065594382584095,
           0.08354073017835617
          ],
          [
           0.0040392568334937096,
           0.22842364013195038,
           0.027612635865807533,
           0.0761788934469223,
           0.17207956314086914,
           0.09876933693885803,
           0.12515483796596527
          ],
          [
           0.0026088932063430548,
           0.1913057118654251,
           0.022433007135987282,
           0.06327496469020844,
           0.14392296969890594,
           0.0822724774479866,
           0.10446144640445709
          ],
          [
           9.219820640282705e-06,
           0.12384418398141861,
           0.013019074685871601,
           0.03982218727469444,
           0.09274858981370926,
           0.052289579063653946,
           0.06685139983892441
          ],
          [
           0.0031851348467171192,
           0.20625916123390198,
           0.02451968938112259,
           0.06847348064184189,
           0.15526624023914337,
           0.08891846239566803,
           0.1127980574965477
          ],
          [
           0.010201750323176384,
           0.38834041357040405,
           0.049928247928619385,
           0.13177341222763062,
           0.29338783025741577,
           0.16984345018863678,
           0.21430900692939758
          ],
          [
           0.015503698028624058,
           0.525925874710083,
           0.0691276416182518,
           0.17960457503795624,
           0.39775630831718445,
           0.23099258542060852,
           0.2910134494304657
          ],
          [
           0.015758050605654716,
           0.5325263142585754,
           0.07004870474338531,
           0.18189918994903564,
           0.4027631878852844,
           0.23392610251903534,
           0.2946932017803192
          ],
          [
           0.021823914721608162,
           0.689935564994812,
           0.09201440960168839,
           0.23662197589874268,
           0.522169291973114,
           0.3038857579231262,
           0.3824494183063507
          ],
          [
           0.0005317679024301469,
           0.13740430772304535,
           0.014911324717104435,
           0.04453631862998009,
           0.10303490608930588,
           0.058316294103860855,
           0.07441121339797974
          ],
          [
           0.0012046757619827986,
           0.1548662632703781,
           0.01734805852174759,
           0.05060691013932228,
           0.11628105491399765,
           0.06607717275619507,
           0.08414632827043533
          ],
          [
           0.003944579046219587,
           0.22596676647663116,
           0.027269788086414337,
           0.07532475888729095,
           0.17021586000919342,
           0.09767739474773407,
           0.1237851157784462
          ],
          [
           0.018020188435912132,
           0.5912288427352905,
           0.07824036478996277,
           0.20230694115161896,
           0.4472932815551758,
           0.26001614332199097,
           0.32742008566856384
          ],
          [
           0.003332284977659583,
           0.21007773280143738,
           0.025052551180124283,
           0.06980099529027939,
           0.1581629067659378,
           0.09061560034751892,
           0.11492692679166794
          ],
          [
           0.0055544208735227585,
           0.2677421271800995,
           0.03309934586286545,
           0.08984783291816711,
           0.20190547406673431,
           0.11624423414468765,
           0.14707504212856293
          ],
          [
           0.018885362893342972,
           0.6136801242828369,
           0.08137333393096924,
           0.2101120501756668,
           0.46432408690452576,
           0.26999446749687195,
           0.3399367332458496
          ],
          [
           0.01299861166626215,
           0.46091893315315247,
           0.06005623936653137,
           0.15700511634349823,
           0.3484438359737396,
           0.20210058987140656,
           0.2547718286514282
          ],
          [
           0.004682633094489574,
           0.24511927366256714,
           0.029942432418465614,
           0.0819830670952797,
           0.18474440276622772,
           0.10618960857391357,
           0.13446269929409027
          ],
          [
           6.148600368760526e-05,
           0.12520049512386322,
           0.013208342716097832,
           0.040293704718351364,
           0.09377744048833847,
           0.05289238318800926,
           0.06760755181312561
          ],
          [
           0.0026782017666846514,
           0.19310426712036133,
           0.02268398553133011,
           0.06390022486448288,
           0.14528730511665344,
           0.08307182788848877,
           0.1054641380906105
          ],
          [
           0.0009422922157682478,
           0.14805741608142853,
           0.01639791578054428,
           0.04823983833193779,
           0.11111605912446976,
           0.0630510151386261,
           0.080350361764431
          ],
          [
           0.0006314050406217575,
           0.13998989760875702,
           0.015272130258381367,
           0.045435190200805664,
           0.10499625653028488,
           0.059465449303388596,
           0.07585269212722778
          ],
          [
           0.003523079678416252,
           0.21502885222434998,
           0.025743458420038223,
           0.07152222841978073,
           0.16191866993904114,
           0.09281609207391739,
           0.11768719553947449
          ],
          [
           0.015961775556206703,
           0.5378130078315735,
           0.07078643143177032,
           0.18373708426952362,
           0.40677347779273987,
           0.23627574741840363,
           0.29764053225517273
          ],
          [
           0.0011165897594764829,
           0.15258042514324188,
           0.017029080539941788,
           0.049812253564596176,
           0.11454708129167557,
           0.06506123393774033,
           0.08287195861339569
          ],
          [
           0.0008429862791672349,
           0.1454804241657257,
           0.016038309782743454,
           0.04734395816922188,
           0.10916122794151306,
           0.06190568581223488,
           0.07891368865966797
          ],
          [
           0.01196714211255312,
           0.4341523051261902,
           0.056321077048778534,
           0.147699773311615,
           0.32813942432403564,
           0.19020429253578186,
           0.2398492842912674
          ],
          [
           0.003713922807946801,
           0.21998120844364166,
           0.026434538885951042,
           0.07324391603469849,
           0.16567538678646088,
           0.09501714259386063,
           0.12044815719127655
          ],
          [
           0,
           0.12360493093729019,
           0.012985688634216785,
           0.03973901644349098,
           0.0925670862197876,
           0.05218324437737465,
           0.06671801954507828
          ],
          [
           0.0010799430310726166,
           0.1516294628381729,
           0.016896376386284828,
           0.049481652677059174,
           0.11382569372653961,
           0.06463858485221863,
           0.08234179764986038
          ],
          [
           0.000686554703861475,
           0.14142103493213654,
           0.015471838414669037,
           0.045932721346616745,
           0.10608186572790146,
           0.06010150536894798,
           0.07665055245161057
          ],
          [
           0.011180120520293713,
           0.41372907161712646,
           0.053471121937036514,
           0.14059971272945404,
           0.3126469850540161,
           0.18112730979919434,
           0.228463277220726
          ],
          [
           0.021626971662044525,
           0.6848248243331909,
           0.09130123257637024,
           0.23484526574611664,
           0.5182924866676331,
           0.30161434412002563,
           0.3796001672744751
          ],
          [
           0.0042991917580366135,
           0.23516897857189178,
           0.02855391427874565,
           0.07852388173341751,
           0.1771964132785797,
           0.10176726430654526,
           0.12891539931297302
          ],
          [
           0.003050135215744376,
           0.20275594294071198,
           0.024030834436416626,
           0.06725560128688812,
           0.15260879695415497,
           0.08736146986484528,
           0.11084499955177307
          ]
         ]
        }
       ],
       "layout": {
        "template": {
         "data": {
          "bar": [
           {
            "error_x": {
             "color": "#2a3f5f"
            },
            "error_y": {
             "color": "#2a3f5f"
            },
            "marker": {
             "line": {
              "color": "#E5ECF6",
              "width": 0.5
             },
             "pattern": {
              "fillmode": "overlay",
              "size": 10,
              "solidity": 0.2
             }
            },
            "type": "bar"
           }
          ],
          "barpolar": [
           {
            "marker": {
             "line": {
              "color": "#E5ECF6",
              "width": 0.5
             },
             "pattern": {
              "fillmode": "overlay",
              "size": 10,
              "solidity": 0.2
             }
            },
            "type": "barpolar"
           }
          ],
          "carpet": [
           {
            "aaxis": {
             "endlinecolor": "#2a3f5f",
             "gridcolor": "white",
             "linecolor": "white",
             "minorgridcolor": "white",
             "startlinecolor": "#2a3f5f"
            },
            "baxis": {
             "endlinecolor": "#2a3f5f",
             "gridcolor": "white",
             "linecolor": "white",
             "minorgridcolor": "white",
             "startlinecolor": "#2a3f5f"
            },
            "type": "carpet"
           }
          ],
          "choropleth": [
           {
            "colorbar": {
             "outlinewidth": 0,
             "ticks": ""
            },
            "type": "choropleth"
           }
          ],
          "contour": [
           {
            "colorbar": {
             "outlinewidth": 0,
             "ticks": ""
            },
            "colorscale": [
             [
              0,
              "#0d0887"
             ],
             [
              0.1111111111111111,
              "#46039f"
             ],
             [
              0.2222222222222222,
              "#7201a8"
             ],
             [
              0.3333333333333333,
              "#9c179e"
             ],
             [
              0.4444444444444444,
              "#bd3786"
             ],
             [
              0.5555555555555556,
              "#d8576b"
             ],
             [
              0.6666666666666666,
              "#ed7953"
             ],
             [
              0.7777777777777778,
              "#fb9f3a"
             ],
             [
              0.8888888888888888,
              "#fdca26"
             ],
             [
              1,
              "#f0f921"
             ]
            ],
            "type": "contour"
           }
          ],
          "contourcarpet": [
           {
            "colorbar": {
             "outlinewidth": 0,
             "ticks": ""
            },
            "type": "contourcarpet"
           }
          ],
          "heatmap": [
           {
            "colorbar": {
             "outlinewidth": 0,
             "ticks": ""
            },
            "colorscale": [
             [
              0,
              "#0d0887"
             ],
             [
              0.1111111111111111,
              "#46039f"
             ],
             [
              0.2222222222222222,
              "#7201a8"
             ],
             [
              0.3333333333333333,
              "#9c179e"
             ],
             [
              0.4444444444444444,
              "#bd3786"
             ],
             [
              0.5555555555555556,
              "#d8576b"
             ],
             [
              0.6666666666666666,
              "#ed7953"
             ],
             [
              0.7777777777777778,
              "#fb9f3a"
             ],
             [
              0.8888888888888888,
              "#fdca26"
             ],
             [
              1,
              "#f0f921"
             ]
            ],
            "type": "heatmap"
           }
          ],
          "heatmapgl": [
           {
            "colorbar": {
             "outlinewidth": 0,
             "ticks": ""
            },
            "colorscale": [
             [
              0,
              "#0d0887"
             ],
             [
              0.1111111111111111,
              "#46039f"
             ],
             [
              0.2222222222222222,
              "#7201a8"
             ],
             [
              0.3333333333333333,
              "#9c179e"
             ],
             [
              0.4444444444444444,
              "#bd3786"
             ],
             [
              0.5555555555555556,
              "#d8576b"
             ],
             [
              0.6666666666666666,
              "#ed7953"
             ],
             [
              0.7777777777777778,
              "#fb9f3a"
             ],
             [
              0.8888888888888888,
              "#fdca26"
             ],
             [
              1,
              "#f0f921"
             ]
            ],
            "type": "heatmapgl"
           }
          ],
          "histogram": [
           {
            "marker": {
             "pattern": {
              "fillmode": "overlay",
              "size": 10,
              "solidity": 0.2
             }
            },
            "type": "histogram"
           }
          ],
          "histogram2d": [
           {
            "colorbar": {
             "outlinewidth": 0,
             "ticks": ""
            },
            "colorscale": [
             [
              0,
              "#0d0887"
             ],
             [
              0.1111111111111111,
              "#46039f"
             ],
             [
              0.2222222222222222,
              "#7201a8"
             ],
             [
              0.3333333333333333,
              "#9c179e"
             ],
             [
              0.4444444444444444,
              "#bd3786"
             ],
             [
              0.5555555555555556,
              "#d8576b"
             ],
             [
              0.6666666666666666,
              "#ed7953"
             ],
             [
              0.7777777777777778,
              "#fb9f3a"
             ],
             [
              0.8888888888888888,
              "#fdca26"
             ],
             [
              1,
              "#f0f921"
             ]
            ],
            "type": "histogram2d"
           }
          ],
          "histogram2dcontour": [
           {
            "colorbar": {
             "outlinewidth": 0,
             "ticks": ""
            },
            "colorscale": [
             [
              0,
              "#0d0887"
             ],
             [
              0.1111111111111111,
              "#46039f"
             ],
             [
              0.2222222222222222,
              "#7201a8"
             ],
             [
              0.3333333333333333,
              "#9c179e"
             ],
             [
              0.4444444444444444,
              "#bd3786"
             ],
             [
              0.5555555555555556,
              "#d8576b"
             ],
             [
              0.6666666666666666,
              "#ed7953"
             ],
             [
              0.7777777777777778,
              "#fb9f3a"
             ],
             [
              0.8888888888888888,
              "#fdca26"
             ],
             [
              1,
              "#f0f921"
             ]
            ],
            "type": "histogram2dcontour"
           }
          ],
          "mesh3d": [
           {
            "colorbar": {
             "outlinewidth": 0,
             "ticks": ""
            },
            "type": "mesh3d"
           }
          ],
          "parcoords": [
           {
            "line": {
             "colorbar": {
              "outlinewidth": 0,
              "ticks": ""
             }
            },
            "type": "parcoords"
           }
          ],
          "pie": [
           {
            "automargin": true,
            "type": "pie"
           }
          ],
          "scatter": [
           {
            "fillpattern": {
             "fillmode": "overlay",
             "size": 10,
             "solidity": 0.2
            },
            "type": "scatter"
           }
          ],
          "scatter3d": [
           {
            "line": {
             "colorbar": {
              "outlinewidth": 0,
              "ticks": ""
             }
            },
            "marker": {
             "colorbar": {
              "outlinewidth": 0,
              "ticks": ""
             }
            },
            "type": "scatter3d"
           }
          ],
          "scattercarpet": [
           {
            "marker": {
             "colorbar": {
              "outlinewidth": 0,
              "ticks": ""
             }
            },
            "type": "scattercarpet"
           }
          ],
          "scattergeo": [
           {
            "marker": {
             "colorbar": {
              "outlinewidth": 0,
              "ticks": ""
             }
            },
            "type": "scattergeo"
           }
          ],
          "scattergl": [
           {
            "marker": {
             "colorbar": {
              "outlinewidth": 0,
              "ticks": ""
             }
            },
            "type": "scattergl"
           }
          ],
          "scattermapbox": [
           {
            "marker": {
             "colorbar": {
              "outlinewidth": 0,
              "ticks": ""
             }
            },
            "type": "scattermapbox"
           }
          ],
          "scatterpolar": [
           {
            "marker": {
             "colorbar": {
              "outlinewidth": 0,
              "ticks": ""
             }
            },
            "type": "scatterpolar"
           }
          ],
          "scatterpolargl": [
           {
            "marker": {
             "colorbar": {
              "outlinewidth": 0,
              "ticks": ""
             }
            },
            "type": "scatterpolargl"
           }
          ],
          "scatterternary": [
           {
            "marker": {
             "colorbar": {
              "outlinewidth": 0,
              "ticks": ""
             }
            },
            "type": "scatterternary"
           }
          ],
          "surface": [
           {
            "colorbar": {
             "outlinewidth": 0,
             "ticks": ""
            },
            "colorscale": [
             [
              0,
              "#0d0887"
             ],
             [
              0.1111111111111111,
              "#46039f"
             ],
             [
              0.2222222222222222,
              "#7201a8"
             ],
             [
              0.3333333333333333,
              "#9c179e"
             ],
             [
              0.4444444444444444,
              "#bd3786"
             ],
             [
              0.5555555555555556,
              "#d8576b"
             ],
             [
              0.6666666666666666,
              "#ed7953"
             ],
             [
              0.7777777777777778,
              "#fb9f3a"
             ],
             [
              0.8888888888888888,
              "#fdca26"
             ],
             [
              1,
              "#f0f921"
             ]
            ],
            "type": "surface"
           }
          ],
          "table": [
           {
            "cells": {
             "fill": {
              "color": "#EBF0F8"
             },
             "line": {
              "color": "white"
             }
            },
            "header": {
             "fill": {
              "color": "#C8D4E3"
             },
             "line": {
              "color": "white"
             }
            },
            "type": "table"
           }
          ]
         },
         "layout": {
          "annotationdefaults": {
           "arrowcolor": "#2a3f5f",
           "arrowhead": 0,
           "arrowwidth": 1
          },
          "autotypenumbers": "strict",
          "coloraxis": {
           "colorbar": {
            "outlinewidth": 0,
            "ticks": ""
           }
          },
          "colorscale": {
           "diverging": [
            [
             0,
             "#8e0152"
            ],
            [
             0.1,
             "#c51b7d"
            ],
            [
             0.2,
             "#de77ae"
            ],
            [
             0.3,
             "#f1b6da"
            ],
            [
             0.4,
             "#fde0ef"
            ],
            [
             0.5,
             "#f7f7f7"
            ],
            [
             0.6,
             "#e6f5d0"
            ],
            [
             0.7,
             "#b8e186"
            ],
            [
             0.8,
             "#7fbc41"
            ],
            [
             0.9,
             "#4d9221"
            ],
            [
             1,
             "#276419"
            ]
           ],
           "sequential": [
            [
             0,
             "#0d0887"
            ],
            [
             0.1111111111111111,
             "#46039f"
            ],
            [
             0.2222222222222222,
             "#7201a8"
            ],
            [
             0.3333333333333333,
             "#9c179e"
            ],
            [
             0.4444444444444444,
             "#bd3786"
            ],
            [
             0.5555555555555556,
             "#d8576b"
            ],
            [
             0.6666666666666666,
             "#ed7953"
            ],
            [
             0.7777777777777778,
             "#fb9f3a"
            ],
            [
             0.8888888888888888,
             "#fdca26"
            ],
            [
             1,
             "#f0f921"
            ]
           ],
           "sequentialminus": [
            [
             0,
             "#0d0887"
            ],
            [
             0.1111111111111111,
             "#46039f"
            ],
            [
             0.2222222222222222,
             "#7201a8"
            ],
            [
             0.3333333333333333,
             "#9c179e"
            ],
            [
             0.4444444444444444,
             "#bd3786"
            ],
            [
             0.5555555555555556,
             "#d8576b"
            ],
            [
             0.6666666666666666,
             "#ed7953"
            ],
            [
             0.7777777777777778,
             "#fb9f3a"
            ],
            [
             0.8888888888888888,
             "#fdca26"
            ],
            [
             1,
             "#f0f921"
            ]
           ]
          },
          "colorway": [
           "#636efa",
           "#EF553B",
           "#00cc96",
           "#ab63fa",
           "#FFA15A",
           "#19d3f3",
           "#FF6692",
           "#B6E880",
           "#FF97FF",
           "#FECB52"
          ],
          "font": {
           "color": "#2a3f5f"
          },
          "geo": {
           "bgcolor": "white",
           "lakecolor": "white",
           "landcolor": "#E5ECF6",
           "showlakes": true,
           "showland": true,
           "subunitcolor": "white"
          },
          "hoverlabel": {
           "align": "left"
          },
          "hovermode": "closest",
          "mapbox": {
           "style": "light"
          },
          "paper_bgcolor": "white",
          "plot_bgcolor": "#E5ECF6",
          "polar": {
           "angularaxis": {
            "gridcolor": "white",
            "linecolor": "white",
            "ticks": ""
           },
           "bgcolor": "#E5ECF6",
           "radialaxis": {
            "gridcolor": "white",
            "linecolor": "white",
            "ticks": ""
           }
          },
          "scene": {
           "xaxis": {
            "backgroundcolor": "#E5ECF6",
            "gridcolor": "white",
            "gridwidth": 2,
            "linecolor": "white",
            "showbackground": true,
            "ticks": "",
            "zerolinecolor": "white"
           },
           "yaxis": {
            "backgroundcolor": "#E5ECF6",
            "gridcolor": "white",
            "gridwidth": 2,
            "linecolor": "white",
            "showbackground": true,
            "ticks": "",
            "zerolinecolor": "white"
           },
           "zaxis": {
            "backgroundcolor": "#E5ECF6",
            "gridcolor": "white",
            "gridwidth": 2,
            "linecolor": "white",
            "showbackground": true,
            "ticks": "",
            "zerolinecolor": "white"
           }
          },
          "shapedefaults": {
           "line": {
            "color": "#2a3f5f"
           }
          },
          "ternary": {
           "aaxis": {
            "gridcolor": "white",
            "linecolor": "white",
            "ticks": ""
           },
           "baxis": {
            "gridcolor": "white",
            "linecolor": "white",
            "ticks": ""
           },
           "bgcolor": "#E5ECF6",
           "caxis": {
            "gridcolor": "white",
            "linecolor": "white",
            "ticks": ""
           }
          },
          "title": {
           "x": 0.05
          },
          "xaxis": {
           "automargin": true,
           "gridcolor": "white",
           "linecolor": "white",
           "ticks": "",
           "title": {
            "standoff": 15
           },
           "zerolinecolor": "white",
           "zerolinewidth": 2
          },
          "yaxis": {
           "automargin": true,
           "gridcolor": "white",
           "linecolor": "white",
           "ticks": "",
           "title": {
            "standoff": 15
           },
           "zerolinecolor": "white",
           "zerolinewidth": 2
          }
         }
        }
       }
      },
      "text/html": [
       "<div>                            <div id=\"b04c6ec5-253c-4309-a522-38b6bc9a2838\" class=\"plotly-graph-div\" style=\"height:525px; width:100%;\"></div>            <script type=\"text/javascript\">                require([\"plotly\"], function(Plotly) {                    window.PLOTLYENV=window.PLOTLYENV || {};                                    if (document.getElementById(\"b04c6ec5-253c-4309-a522-38b6bc9a2838\")) {                    Plotly.newPlot(                        \"b04c6ec5-253c-4309-a522-38b6bc9a2838\",                        [{\"z\":[[0.015289831906557083,0.5203760266304016,0.06835319101810455,0.17767517268657684,0.39354631304740906,0.22852599620819092,0.2879193425178528],[0.00026118705864064395,0.1303827315568924,0.013931500725448132,0.04209529981017113,0.09770854562520981,0.055195607244968414,0.07049666345119476],[0.00010031416604761034,0.1262080818414688,0.01334894634783268,0.04064399376511574,0.0945417732000351,0.05334020033478737,0.06816928088665009],[0.0023491729516535997,0.1845659762620926,0.02149250917136669,0.060931913554668427,0.1388104259967804,0.07927703857421875,0.10070402175188065],[0.0009232112788595259,0.14756226539611816,0.01632882095873356,0.04806770384311676,0.11074045300483704,0.06283094733953476,0.08007432520389557],[0.0011474023340269923,0.15338002145290375,0.01714066043496132,0.05009022727608681,0.11515361815690994,0.0654166117310524,0.08331773430109024],[0.02229432761669159,0.7021427154541016,0.09371785074472427,0.2408657670021057,0.5314292907714844,0.3093111515045166,0.38925492763519287],[0.0159760732203722,0.5381840467453003,0.07083821296691895,0.18386608362197876,0.40705496072769165,0.23644062876701355,0.2978473901748657],[0.02302653342485428,0.7211434245109558,0.09636932611465454,0.24747130274772644,0.5458427667617798,0.31775593757629395,0.39984792470932007],[0.0012152104172855616,0.15513963997364044,0.01738620549440384,0.05070194974541664,0.11648842692375183,0.06619866192340851,0.08429873734712601],[0.0009100587922148407,0.1472209393978119,0.016281191259622574,0.04794904217123985,0.11048153042793274,0.0626792460680008,0.07988402992486954],[0.0001791066606529057,0.12825274467468262,0.013634269125759602,0.04135481268167496,0.09609279781579971,0.05424894019961357,0.06930919736623764],[0.004800146445631981,0.2481687366962433,0.030367974191904068,0.08304321020841599,0.18705765902996063,0.10754493623971939,0.13616281747817993],[0.00011049744352931157,0.1264723241329193,0.01338582206517458,0.04073585942387581,0.09474222362041473,0.053457651287317276,0.06831660866737366],[0.01857776939868927,0.6056980490684509,0.08025947213172913,0.20733709633350372,0.4582691192626953,0.2664468586444855,0.3354867100715637],[0.0034348827321082354,0.21274015307426453,0.025424079969525337,0.07072658091783524,0.16018253564834595,0.09179890155792236,0.1164112314581871],[0.03377244994044304,1.0,0.13528241217136383,0.3444148898124695,0.7573752999305725,0.44169217348098755,0.5553114414215088],[0.015097695402801037,0.5153900980949402,0.06765743345022202,0.1759418547153473,0.3897641897201538,0.22631001472473145,0.28513970971107483],[0.0008577818516641855,0.14586438238620758,0.016091886907815933,0.04747743904590607,0.10945247858762741,0.06207633018493652,0.079127736389637],[0.01939707063138485,0.6269589066505432,0.08322631567716599,0.21472835540771484,0.47439703345298767,0.2758961319923401,0.3473397195339203],[0.0005764689994975924,0.1385643035173416,0.015073196031153202,0.044939588755369186,0.10391484200954437,0.058831848204135895,0.07505791634321213],[0.0028545872773975134,0.1976814568042755,0.023322714492678642,0.06549146771430969,0.14875943958759308,0.08510614931583405,0.10801595449447632],[0.0002177479036618024,0.1292554885149002,0.013774196617305279,0.04170341417193413,0.09685344249010086,0.05469459667801857,0.06986822187900543],[0.013038410805165768,0.46195167303085327,0.06020035967230797,0.157364159822464,0.34922730922698975,0.20255960524082184,0.2553475797176361],[0.0011963354190811515,0.15464983880519867,0.01731785573065281,0.050531674176454544,0.11611688882112503,0.06598097831010818,0.08402566611766815],[0.016996508464217186,0.564664363861084,0.07453340291976929,0.1930718570947647,0.4271421432495117,0.2482096403837204,0.3126102387905121],[0.0009433366358280182,0.14808452129364014,0.01640169881284237,0.0482492633163929,0.11113660782575607,0.06306306272745132,0.08036547899246216],[0.012740541249513626,0.4542219936847687,0.05912170559167862,0.15467692911624908,0.3433637320995331,0.19912415742874146,0.25103822350502014],[0.012559482827782631,0.44952356815338135,0.05846606194972992,0.15304353833198547,0.3397996425628662,0.19703596830368042,0.24841885268688202],[0.0011628164211288095,0.153779998421669,0.017196474596858025,0.050229281187057495,0.11545704305171967,0.065594382584095,0.08354073017835617],[0.0040392568334937096,0.22842364013195038,0.027612635865807533,0.0761788934469223,0.17207956314086914,0.09876933693885803,0.12515483796596527],[0.0026088932063430548,0.1913057118654251,0.022433007135987282,0.06327496469020844,0.14392296969890594,0.0822724774479866,0.10446144640445709],[9.219820640282705e-06,0.12384418398141861,0.013019074685871601,0.03982218727469444,0.09274858981370926,0.052289579063653946,0.06685139983892441],[0.0031851348467171192,0.20625916123390198,0.02451968938112259,0.06847348064184189,0.15526624023914337,0.08891846239566803,0.1127980574965477],[0.010201750323176384,0.38834041357040405,0.049928247928619385,0.13177341222763062,0.29338783025741577,0.16984345018863678,0.21430900692939758],[0.015503698028624058,0.525925874710083,0.0691276416182518,0.17960457503795624,0.39775630831718445,0.23099258542060852,0.2910134494304657],[0.015758050605654716,0.5325263142585754,0.07004870474338531,0.18189918994903564,0.4027631878852844,0.23392610251903534,0.2946932017803192],[0.021823914721608162,0.689935564994812,0.09201440960168839,0.23662197589874268,0.522169291973114,0.3038857579231262,0.3824494183063507],[0.0005317679024301469,0.13740430772304535,0.014911324717104435,0.04453631862998009,0.10303490608930588,0.058316294103860855,0.07441121339797974],[0.0012046757619827986,0.1548662632703781,0.01734805852174759,0.05060691013932228,0.11628105491399765,0.06607717275619507,0.08414632827043533],[0.003944579046219587,0.22596676647663116,0.027269788086414337,0.07532475888729095,0.17021586000919342,0.09767739474773407,0.1237851157784462],[0.018020188435912132,0.5912288427352905,0.07824036478996277,0.20230694115161896,0.4472932815551758,0.26001614332199097,0.32742008566856384],[0.003332284977659583,0.21007773280143738,0.025052551180124283,0.06980099529027939,0.1581629067659378,0.09061560034751892,0.11492692679166794],[0.0055544208735227585,0.2677421271800995,0.03309934586286545,0.08984783291816711,0.20190547406673431,0.11624423414468765,0.14707504212856293],[0.018885362893342972,0.6136801242828369,0.08137333393096924,0.2101120501756668,0.46432408690452576,0.26999446749687195,0.3399367332458496],[0.01299861166626215,0.46091893315315247,0.06005623936653137,0.15700511634349823,0.3484438359737396,0.20210058987140656,0.2547718286514282],[0.004682633094489574,0.24511927366256714,0.029942432418465614,0.0819830670952797,0.18474440276622772,0.10618960857391357,0.13446269929409027],[6.148600368760526e-05,0.12520049512386322,0.013208342716097832,0.040293704718351364,0.09377744048833847,0.05289238318800926,0.06760755181312561],[0.0026782017666846514,0.19310426712036133,0.02268398553133011,0.06390022486448288,0.14528730511665344,0.08307182788848877,0.1054641380906105],[0.0009422922157682478,0.14805741608142853,0.01639791578054428,0.04823983833193779,0.11111605912446976,0.0630510151386261,0.080350361764431],[0.0006314050406217575,0.13998989760875702,0.015272130258381367,0.045435190200805664,0.10499625653028488,0.059465449303388596,0.07585269212722778],[0.003523079678416252,0.21502885222434998,0.025743458420038223,0.07152222841978073,0.16191866993904114,0.09281609207391739,0.11768719553947449],[0.015961775556206703,0.5378130078315735,0.07078643143177032,0.18373708426952362,0.40677347779273987,0.23627574741840363,0.29764053225517273],[0.0011165897594764829,0.15258042514324188,0.017029080539941788,0.049812253564596176,0.11454708129167557,0.06506123393774033,0.08287195861339569],[0.0008429862791672349,0.1454804241657257,0.016038309782743454,0.04734395816922188,0.10916122794151306,0.06190568581223488,0.07891368865966797],[0.01196714211255312,0.4341523051261902,0.056321077048778534,0.147699773311615,0.32813942432403564,0.19020429253578186,0.2398492842912674],[0.003713922807946801,0.21998120844364166,0.026434538885951042,0.07324391603469849,0.16567538678646088,0.09501714259386063,0.12044815719127655],[0.0,0.12360493093729019,0.012985688634216785,0.03973901644349098,0.0925670862197876,0.05218324437737465,0.06671801954507828],[0.0010799430310726166,0.1516294628381729,0.016896376386284828,0.049481652677059174,0.11382569372653961,0.06463858485221863,0.08234179764986038],[0.000686554703861475,0.14142103493213654,0.015471838414669037,0.045932721346616745,0.10608186572790146,0.06010150536894798,0.07665055245161057],[0.011180120520293713,0.41372907161712646,0.053471121937036514,0.14059971272945404,0.3126469850540161,0.18112730979919434,0.228463277220726],[0.021626971662044525,0.6848248243331909,0.09130123257637024,0.23484526574611664,0.5182924866676331,0.30161434412002563,0.3796001672744751],[0.0042991917580366135,0.23516897857189178,0.02855391427874565,0.07852388173341751,0.1771964132785797,0.10176726430654526,0.12891539931297302],[0.003050135215744376,0.20275594294071198,0.024030834436416626,0.06725560128688812,0.15260879695415497,0.08736146986484528,0.11084499955177307]],\"type\":\"heatmap\"}],                        {\"template\":{\"data\":{\"histogram2dcontour\":[{\"type\":\"histogram2dcontour\",\"colorbar\":{\"outlinewidth\":0,\"ticks\":\"\"},\"colorscale\":[[0.0,\"#0d0887\"],[0.1111111111111111,\"#46039f\"],[0.2222222222222222,\"#7201a8\"],[0.3333333333333333,\"#9c179e\"],[0.4444444444444444,\"#bd3786\"],[0.5555555555555556,\"#d8576b\"],[0.6666666666666666,\"#ed7953\"],[0.7777777777777778,\"#fb9f3a\"],[0.8888888888888888,\"#fdca26\"],[1.0,\"#f0f921\"]]}],\"choropleth\":[{\"type\":\"choropleth\",\"colorbar\":{\"outlinewidth\":0,\"ticks\":\"\"}}],\"histogram2d\":[{\"type\":\"histogram2d\",\"colorbar\":{\"outlinewidth\":0,\"ticks\":\"\"},\"colorscale\":[[0.0,\"#0d0887\"],[0.1111111111111111,\"#46039f\"],[0.2222222222222222,\"#7201a8\"],[0.3333333333333333,\"#9c179e\"],[0.4444444444444444,\"#bd3786\"],[0.5555555555555556,\"#d8576b\"],[0.6666666666666666,\"#ed7953\"],[0.7777777777777778,\"#fb9f3a\"],[0.8888888888888888,\"#fdca26\"],[1.0,\"#f0f921\"]]}],\"heatmap\":[{\"type\":\"heatmap\",\"colorbar\":{\"outlinewidth\":0,\"ticks\":\"\"},\"colorscale\":[[0.0,\"#0d0887\"],[0.1111111111111111,\"#46039f\"],[0.2222222222222222,\"#7201a8\"],[0.3333333333333333,\"#9c179e\"],[0.4444444444444444,\"#bd3786\"],[0.5555555555555556,\"#d8576b\"],[0.6666666666666666,\"#ed7953\"],[0.7777777777777778,\"#fb9f3a\"],[0.8888888888888888,\"#fdca26\"],[1.0,\"#f0f921\"]]}],\"heatmapgl\":[{\"type\":\"heatmapgl\",\"colorbar\":{\"outlinewidth\":0,\"ticks\":\"\"},\"colorscale\":[[0.0,\"#0d0887\"],[0.1111111111111111,\"#46039f\"],[0.2222222222222222,\"#7201a8\"],[0.3333333333333333,\"#9c179e\"],[0.4444444444444444,\"#bd3786\"],[0.5555555555555556,\"#d8576b\"],[0.6666666666666666,\"#ed7953\"],[0.7777777777777778,\"#fb9f3a\"],[0.8888888888888888,\"#fdca26\"],[1.0,\"#f0f921\"]]}],\"contourcarpet\":[{\"type\":\"contourcarpet\",\"colorbar\":{\"outlinewidth\":0,\"ticks\":\"\"}}],\"contour\":[{\"type\":\"contour\",\"colorbar\":{\"outlinewidth\":0,\"ticks\":\"\"},\"colorscale\":[[0.0,\"#0d0887\"],[0.1111111111111111,\"#46039f\"],[0.2222222222222222,\"#7201a8\"],[0.3333333333333333,\"#9c179e\"],[0.4444444444444444,\"#bd3786\"],[0.5555555555555556,\"#d8576b\"],[0.6666666666666666,\"#ed7953\"],[0.7777777777777778,\"#fb9f3a\"],[0.8888888888888888,\"#fdca26\"],[1.0,\"#f0f921\"]]}],\"surface\":[{\"type\":\"surface\",\"colorbar\":{\"outlinewidth\":0,\"ticks\":\"\"},\"colorscale\":[[0.0,\"#0d0887\"],[0.1111111111111111,\"#46039f\"],[0.2222222222222222,\"#7201a8\"],[0.3333333333333333,\"#9c179e\"],[0.4444444444444444,\"#bd3786\"],[0.5555555555555556,\"#d8576b\"],[0.6666666666666666,\"#ed7953\"],[0.7777777777777778,\"#fb9f3a\"],[0.8888888888888888,\"#fdca26\"],[1.0,\"#f0f921\"]]}],\"mesh3d\":[{\"type\":\"mesh3d\",\"colorbar\":{\"outlinewidth\":0,\"ticks\":\"\"}}],\"scatter\":[{\"fillpattern\":{\"fillmode\":\"overlay\",\"size\":10,\"solidity\":0.2},\"type\":\"scatter\"}],\"parcoords\":[{\"type\":\"parcoords\",\"line\":{\"colorbar\":{\"outlinewidth\":0,\"ticks\":\"\"}}}],\"scatterpolargl\":[{\"type\":\"scatterpolargl\",\"marker\":{\"colorbar\":{\"outlinewidth\":0,\"ticks\":\"\"}}}],\"bar\":[{\"error_x\":{\"color\":\"#2a3f5f\"},\"error_y\":{\"color\":\"#2a3f5f\"},\"marker\":{\"line\":{\"color\":\"#E5ECF6\",\"width\":0.5},\"pattern\":{\"fillmode\":\"overlay\",\"size\":10,\"solidity\":0.2}},\"type\":\"bar\"}],\"scattergeo\":[{\"type\":\"scattergeo\",\"marker\":{\"colorbar\":{\"outlinewidth\":0,\"ticks\":\"\"}}}],\"scatterpolar\":[{\"type\":\"scatterpolar\",\"marker\":{\"colorbar\":{\"outlinewidth\":0,\"ticks\":\"\"}}}],\"histogram\":[{\"marker\":{\"pattern\":{\"fillmode\":\"overlay\",\"size\":10,\"solidity\":0.2}},\"type\":\"histogram\"}],\"scattergl\":[{\"type\":\"scattergl\",\"marker\":{\"colorbar\":{\"outlinewidth\":0,\"ticks\":\"\"}}}],\"scatter3d\":[{\"type\":\"scatter3d\",\"line\":{\"colorbar\":{\"outlinewidth\":0,\"ticks\":\"\"}},\"marker\":{\"colorbar\":{\"outlinewidth\":0,\"ticks\":\"\"}}}],\"scattermapbox\":[{\"type\":\"scattermapbox\",\"marker\":{\"colorbar\":{\"outlinewidth\":0,\"ticks\":\"\"}}}],\"scatterternary\":[{\"type\":\"scatterternary\",\"marker\":{\"colorbar\":{\"outlinewidth\":0,\"ticks\":\"\"}}}],\"scattercarpet\":[{\"type\":\"scattercarpet\",\"marker\":{\"colorbar\":{\"outlinewidth\":0,\"ticks\":\"\"}}}],\"carpet\":[{\"aaxis\":{\"endlinecolor\":\"#2a3f5f\",\"gridcolor\":\"white\",\"linecolor\":\"white\",\"minorgridcolor\":\"white\",\"startlinecolor\":\"#2a3f5f\"},\"baxis\":{\"endlinecolor\":\"#2a3f5f\",\"gridcolor\":\"white\",\"linecolor\":\"white\",\"minorgridcolor\":\"white\",\"startlinecolor\":\"#2a3f5f\"},\"type\":\"carpet\"}],\"table\":[{\"cells\":{\"fill\":{\"color\":\"#EBF0F8\"},\"line\":{\"color\":\"white\"}},\"header\":{\"fill\":{\"color\":\"#C8D4E3\"},\"line\":{\"color\":\"white\"}},\"type\":\"table\"}],\"barpolar\":[{\"marker\":{\"line\":{\"color\":\"#E5ECF6\",\"width\":0.5},\"pattern\":{\"fillmode\":\"overlay\",\"size\":10,\"solidity\":0.2}},\"type\":\"barpolar\"}],\"pie\":[{\"automargin\":true,\"type\":\"pie\"}]},\"layout\":{\"autotypenumbers\":\"strict\",\"colorway\":[\"#636efa\",\"#EF553B\",\"#00cc96\",\"#ab63fa\",\"#FFA15A\",\"#19d3f3\",\"#FF6692\",\"#B6E880\",\"#FF97FF\",\"#FECB52\"],\"font\":{\"color\":\"#2a3f5f\"},\"hovermode\":\"closest\",\"hoverlabel\":{\"align\":\"left\"},\"paper_bgcolor\":\"white\",\"plot_bgcolor\":\"#E5ECF6\",\"polar\":{\"bgcolor\":\"#E5ECF6\",\"angularaxis\":{\"gridcolor\":\"white\",\"linecolor\":\"white\",\"ticks\":\"\"},\"radialaxis\":{\"gridcolor\":\"white\",\"linecolor\":\"white\",\"ticks\":\"\"}},\"ternary\":{\"bgcolor\":\"#E5ECF6\",\"aaxis\":{\"gridcolor\":\"white\",\"linecolor\":\"white\",\"ticks\":\"\"},\"baxis\":{\"gridcolor\":\"white\",\"linecolor\":\"white\",\"ticks\":\"\"},\"caxis\":{\"gridcolor\":\"white\",\"linecolor\":\"white\",\"ticks\":\"\"}},\"coloraxis\":{\"colorbar\":{\"outlinewidth\":0,\"ticks\":\"\"}},\"colorscale\":{\"sequential\":[[0.0,\"#0d0887\"],[0.1111111111111111,\"#46039f\"],[0.2222222222222222,\"#7201a8\"],[0.3333333333333333,\"#9c179e\"],[0.4444444444444444,\"#bd3786\"],[0.5555555555555556,\"#d8576b\"],[0.6666666666666666,\"#ed7953\"],[0.7777777777777778,\"#fb9f3a\"],[0.8888888888888888,\"#fdca26\"],[1.0,\"#f0f921\"]],\"sequentialminus\":[[0.0,\"#0d0887\"],[0.1111111111111111,\"#46039f\"],[0.2222222222222222,\"#7201a8\"],[0.3333333333333333,\"#9c179e\"],[0.4444444444444444,\"#bd3786\"],[0.5555555555555556,\"#d8576b\"],[0.6666666666666666,\"#ed7953\"],[0.7777777777777778,\"#fb9f3a\"],[0.8888888888888888,\"#fdca26\"],[1.0,\"#f0f921\"]],\"diverging\":[[0,\"#8e0152\"],[0.1,\"#c51b7d\"],[0.2,\"#de77ae\"],[0.3,\"#f1b6da\"],[0.4,\"#fde0ef\"],[0.5,\"#f7f7f7\"],[0.6,\"#e6f5d0\"],[0.7,\"#b8e186\"],[0.8,\"#7fbc41\"],[0.9,\"#4d9221\"],[1,\"#276419\"]]},\"xaxis\":{\"gridcolor\":\"white\",\"linecolor\":\"white\",\"ticks\":\"\",\"title\":{\"standoff\":15},\"zerolinecolor\":\"white\",\"automargin\":true,\"zerolinewidth\":2},\"yaxis\":{\"gridcolor\":\"white\",\"linecolor\":\"white\",\"ticks\":\"\",\"title\":{\"standoff\":15},\"zerolinecolor\":\"white\",\"automargin\":true,\"zerolinewidth\":2},\"scene\":{\"xaxis\":{\"backgroundcolor\":\"#E5ECF6\",\"gridcolor\":\"white\",\"linecolor\":\"white\",\"showbackground\":true,\"ticks\":\"\",\"zerolinecolor\":\"white\",\"gridwidth\":2},\"yaxis\":{\"backgroundcolor\":\"#E5ECF6\",\"gridcolor\":\"white\",\"linecolor\":\"white\",\"showbackground\":true,\"ticks\":\"\",\"zerolinecolor\":\"white\",\"gridwidth\":2},\"zaxis\":{\"backgroundcolor\":\"#E5ECF6\",\"gridcolor\":\"white\",\"linecolor\":\"white\",\"showbackground\":true,\"ticks\":\"\",\"zerolinecolor\":\"white\",\"gridwidth\":2}},\"shapedefaults\":{\"line\":{\"color\":\"#2a3f5f\"}},\"annotationdefaults\":{\"arrowcolor\":\"#2a3f5f\",\"arrowhead\":0,\"arrowwidth\":1},\"geo\":{\"bgcolor\":\"white\",\"landcolor\":\"#E5ECF6\",\"subunitcolor\":\"white\",\"showland\":true,\"showlakes\":true,\"lakecolor\":\"white\"},\"title\":{\"x\":0.05},\"mapbox\":{\"style\":\"light\"}}}},                        {\"responsive\": true}                    ).then(function(){\n",
       "                            \n",
       "var gd = document.getElementById('b04c6ec5-253c-4309-a522-38b6bc9a2838');\n",
       "var x = new MutationObserver(function (mutations, observer) {{\n",
       "        var display = window.getComputedStyle(gd).display;\n",
       "        if (!display || display === 'none') {{\n",
       "            console.log([gd, 'removed!']);\n",
       "            Plotly.purge(gd);\n",
       "            observer.disconnect();\n",
       "        }}\n",
       "}});\n",
       "\n",
       "// Listen for the removal of the full notebook cells\n",
       "var notebookContainer = gd.closest('#notebook-container');\n",
       "if (notebookContainer) {{\n",
       "    x.observe(notebookContainer, {childList: true});\n",
       "}}\n",
       "\n",
       "// Listen for the clearing of the current output cell\n",
       "var outputEl = gd.closest('.output');\n",
       "if (outputEl) {{\n",
       "    x.observe(outputEl, {childList: true});\n",
       "}}\n",
       "\n",
       "                        })                };                });            </script>        </div>"
      ]
     },
     "metadata": {},
     "output_type": "display_data"
    }
   ],
   "source": [
    "fig = go.Figure()\n",
    "fig.add_trace(go.Heatmap(z = D_og[110, :, :]))"
   ]
  },
  {
   "cell_type": "code",
   "execution_count": null,
   "id": "5e0f3c27",
   "metadata": {},
   "outputs": [],
   "source": []
  }
 ],
 "metadata": {
  "kernelspec": {
   "display_name": "Python 3 (ipykernel)",
   "language": "python",
   "name": "python3"
  },
  "language_info": {
   "codemirror_mode": {
    "name": "ipython",
    "version": 3
   },
   "file_extension": ".py",
   "mimetype": "text/x-python",
   "name": "python",
   "nbconvert_exporter": "python",
   "pygments_lexer": "ipython3",
   "version": "3.10.8"
  },
  "toc": {
   "base_numbering": 1,
   "nav_menu": {},
   "number_sections": true,
   "sideBar": true,
   "skip_h1_title": false,
   "title_cell": "Table of Contents",
   "title_sidebar": "Contents",
   "toc_cell": false,
   "toc_position": {},
   "toc_section_display": true,
   "toc_window_display": false
  }
 },
 "nbformat": 4,
 "nbformat_minor": 5
}
