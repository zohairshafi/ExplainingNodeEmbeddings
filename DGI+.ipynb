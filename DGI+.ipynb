{
 "cells": [
  {
   "cell_type": "markdown",
   "id": "0369cae7",
   "metadata": {},
   "source": [
    "### Imports"
   ]
  },
  {
   "cell_type": "code",
   "execution_count": 2,
   "id": "707c0344",
   "metadata": {},
   "outputs": [
    {
     "name": "stderr",
     "output_type": "stream",
     "text": [
      "/Users/zohairshafi/miniforge3/lib/python3.10/site-packages/tqdm/auto.py:22: TqdmWarning: IProgress not found. Please update jupyter and ipywidgets. See https://ipywidgets.readthedocs.io/en/stable/user_install.html\n",
      "  from .autonotebook import tqdm as notebook_tqdm\n"
     ]
    }
   ],
   "source": [
    "import numpy as np\n",
    "import scipy.sparse as sp\n",
    "import torch\n",
    "import torch.nn as nn\n",
    "import pickle as pkl\n",
    "import networkx as nx\n",
    "\n",
    "from tqdm import tqdm\n",
    "from DGI.models import DGI, LogReg\n",
    "from DGI.utils import process\n",
    "from tensorflow.keras.optimizers import Adam, Nadam\n",
    "\n",
    "from scripts.utils import *"
   ]
  },
  {
   "cell_type": "markdown",
   "id": "ba79c95f",
   "metadata": {},
   "source": [
    "### Class Definitions"
   ]
  },
  {
   "cell_type": "code",
   "execution_count": 3,
   "id": "4f9319bf",
   "metadata": {},
   "outputs": [],
   "source": [
    "class BaseEmbedder:\n",
    "    def __init__(self, graph, embed_shape = (128,)):\n",
    "        self.embed(graph)\n",
    "        self.E = list(graph.edges())\n",
    "        self.graph = graph\n",
    "        self.embed_shape = embed_shape\n",
    "    \n",
    "    def embed(self, graph):\n",
    "        raise NotImplementedError\n",
    "    \n",
    "    def get_embedding(self):\n",
    "        raise NotImplementedError\n",
    "        "
   ]
  },
  {
   "cell_type": "code",
   "execution_count": 29,
   "id": "41610868",
   "metadata": {},
   "outputs": [],
   "source": [
    "class DGIEmbedding(BaseEmbedder):\n",
    "    def __init__(self, embed_dim = 64, graph = None, feature_matrix = None, use_xm = False, debug = False, batch_size = 1, nb_epochs = 2500, patience = 20, ortho_ = 0.1, sparse_ = 0.1, lr = 1e-3, l2_coef = 0.0, drop_prob = 0.0, sparse = True, nonlinearity = 'prelu'):\n",
    "\n",
    "        self.embed_dim = embed_dim\n",
    "        self.debug = debug\n",
    "        \n",
    "        # Training Params\n",
    "        self.graph = graph\n",
    "        self.batch_size = batch_size\n",
    "        self.nb_epochs = nb_epochs\n",
    "        self.patience = patience\n",
    "        self.lr = lr\n",
    "        self.l2_coef = l2_coef\n",
    "        self.feature_matrix = feature_matrix\n",
    "        self.drop_prob = drop_prob\n",
    "        self.hid_units = embed_dim\n",
    "        self.sparse = sparse\n",
    "        self.nonlinearity = nonlinearity\n",
    "        self.use_xm = use_xm\n",
    "        self.ortho_ = ortho_\n",
    "        self.sparse_ = sparse_\n",
    "        \n",
    "        self.time_per_epoch = None\n",
    "        \n",
    "        if graph is not None:\n",
    "            self.embed()\n",
    "        else:\n",
    "            self.graph = None\n",
    "    \n",
    "    def embed(self):\n",
    "\n",
    "        \n",
    "        if self.feature_matrix is None:\n",
    "            feature_matrix = np.identity(len(self.graph))\n",
    "        else: \n",
    "            feature_matrix = self.feature_matrix\n",
    "\n",
    "        adj = nx.to_scipy_sparse_array(self.graph)\n",
    "        features = sp.lil_matrix(feature_matrix)\n",
    "        features, _ = process.preprocess_features(features)\n",
    "\n",
    "        nb_nodes = features.shape[0]\n",
    "        ft_size = features.shape[1]\n",
    "\n",
    "        adj = process.normalize_adj(adj + sp.eye(adj.shape[0]))\n",
    "\n",
    "        if self.sparse:\n",
    "            sp_adj = process.sparse_mx_to_torch_sparse_tensor(adj)\n",
    "        else:\n",
    "            adj = (adj + sp.eye(adj.shape[0])).todense()\n",
    "\n",
    "        features = torch.FloatTensor(features[np.newaxis])\n",
    "        if not self.sparse:\n",
    "            adj = torch.FloatTensor(adj[np.newaxis])\n",
    "\n",
    "        if self.feature_matrix is not None: \n",
    "            sense_features = torch.FloatTensor(self.feature_matrix)\n",
    "\n",
    "\n",
    "        model = DGI(ft_size, self.hid_units, self.nonlinearity)\n",
    "        optimiser = torch.optim.Adam(model.parameters(), lr = self.lr, weight_decay = self.l2_coef)\n",
    "\n",
    "        b_xent = nn.BCEWithLogitsLoss()\n",
    "        xent = nn.CrossEntropyLoss()\n",
    "        cnt_wait = 0\n",
    "        best = 1e9\n",
    "        best_t = 0\n",
    "        \n",
    "        start_time = time.time()\n",
    "        for epoch in tqdm(range(self.nb_epochs)):\n",
    "            model.train()\n",
    "            optimiser.zero_grad()\n",
    "\n",
    "            idx = np.random.permutation(nb_nodes)\n",
    "            shuf_fts = features[:, idx, :]\n",
    "\n",
    "            lbl_1 = torch.ones(self.batch_size, nb_nodes)\n",
    "            lbl_2 = torch.zeros(self.batch_size, nb_nodes)\n",
    "            lbl = torch.cat((lbl_1, lbl_2), 1)\n",
    "\n",
    "            if torch.cuda.is_available():\n",
    "                shuf_fts = shuf_fts.cuda()\n",
    "                lbl = lbl.cuda()\n",
    "\n",
    "            logits = model(features, shuf_fts, sp_adj if self.sparse else adj, self.sparse, None, None, None) \n",
    "            \n",
    "            if self.use_xm == True and feature_matrix is not None:\n",
    "                \n",
    "                start_idx = 0\n",
    "                loop = True\n",
    "                \n",
    "                ortho_loss = 0\n",
    "                sparse_loss = 0\n",
    "                xm_batch_size = 128\n",
    "                \n",
    "                sf = sense_features\n",
    "                embeds, _ = model.embed(sf, sp_adj if self.sparse else adj, self.sparse, None)\n",
    "                                \n",
    "                while loop:\n",
    "                    end_idx = start_idx + xm_batch_size\n",
    "                    if end_idx > len(self.graph):\n",
    "                        loop = False\n",
    "                        end_idx = len(self.graph)\n",
    "                        \n",
    "                    \n",
    "                    sf = sense_features[start_idx : end_idx]\n",
    "                    embeds_ = torch.squeeze(embeds)[start_idx : end_idx]\n",
    "                    \n",
    "                    \n",
    "                    sense_mat = torch.einsum('ij, ik -> ijk', embeds_, sf)\n",
    "                    E = sense_mat\n",
    "                    y_norm = torch.diagonal(torch.matmul(logits, torch.transpose(logits, 0, 1)))\n",
    "                    sense_norm = torch.diagonal(torch.matmul(sf, torch.transpose(sf, 0, 1)))\n",
    "                    norm = torch.multiply(y_norm, sense_norm)\n",
    "                    E = torch.transpose(torch.transpose(E, 0, 2) / norm, 0, 2)\n",
    "\n",
    "                    E_t = torch.transpose(E, 1, 2)\n",
    "                    E_o = torch.einsum('aij, ajh -> aih', E, E_t)\n",
    "                    E_o = torch.sum(E_o)\n",
    "                    batch_ortho_loss = (self.ortho_ * E_o) / self.batch_size\n",
    "\n",
    "                    batch_sparse_loss = (self.sparse_ * torch.sum(torch.linalg.norm(E, ord = 1, axis = 0))) / self.batch_size\n",
    "                        \n",
    "                    ortho_loss += batch_ortho_loss\n",
    "                    sparse_loss += batch_sparse_loss\n",
    "                    \n",
    "                    start_idx = end_idx\n",
    "                    \n",
    "                loss = b_xent(logits, lbl) + ortho_loss + sparse_loss\n",
    "            else:\n",
    "                loss = b_xent(logits, lbl)\n",
    "\n",
    "            if self.debug:\n",
    "                print('Loss:', loss)\n",
    "\n",
    "            if loss < best:\n",
    "                best = loss\n",
    "                best_t = epoch\n",
    "                cnt_wait = 0\n",
    "                torch.save(model.state_dict(), 'best_dgi.pkl')\n",
    "            else:\n",
    "                cnt_wait += 1\n",
    "\n",
    "            if cnt_wait == self.patience:\n",
    "                if self.debug: \n",
    "                    print('Early stopping!')\n",
    "                break\n",
    "\n",
    "            loss.backward()\n",
    "            optimiser.step()\n",
    "            \n",
    "        self.time_per_epoch = (time.time() - start_time) / epoch\n",
    "\n",
    "        if self.debug: \n",
    "            print('Loading {}th epoch'.format(best_t))\n",
    "        model.load_state_dict(torch.load('best_dgi.pkl'))\n",
    "\n",
    "        self.node_model = model\n",
    "        self.fitted = True\n",
    "\n",
    "        embeds, _ = model.embed(features, sp_adj if self.sparse else adj, self.sparse, None)\n",
    "        self.embeddings = embeds\n",
    "    \n",
    "    def get_embedding(self):\n",
    "        return np.squeeze(self.embeddings.numpy())\n",
    "    "
   ]
  },
  {
   "cell_type": "code",
   "execution_count": null,
   "id": "cf61999c",
   "metadata": {},
   "outputs": [],
   "source": []
  },
  {
   "cell_type": "code",
   "execution_count": 7,
   "id": "bd8df723",
   "metadata": {},
   "outputs": [
    {
     "name": "stdout",
     "output_type": "stream",
     "text": [
      "Calculating Personalized Page Rank...                     \r"
     ]
    },
    {
     "name": "stderr",
     "output_type": "stream",
     "text": [
      "986it [00:29, 33.79it/s]\n"
     ]
    },
    {
     "name": "stdout",
     "output_type": "stream",
     "text": [
      "Done                                                      \r"
     ]
    },
    {
     "name": "stderr",
     "output_type": "stream",
     "text": [
      "/Users/zohairshafi/miniforge3/lib/python3.10/site-packages/networkx/algorithms/centrality/katz.py:325: FutureWarning: adjacency_matrix will return a scipy.sparse array instead of a matrix in Networkx 3.0.\n",
      "  A = nx.adjacency_matrix(G, nodelist=nodelist, weight=weight).todense().T\n"
     ]
    }
   ],
   "source": [
    "with open('./data/email.pkl', 'rb') as file: \n",
    "    graph_dict = pkl.load(file)\n",
    "    \n",
    "graph = nx.Graph(nx.to_numpy_array(graph_dict['graph']))    \n",
    "graph = nx.Graph(nx.to_numpy_array(graph))\n",
    "\n",
    "\n",
    "sense_feat_dict, sense_features = get_sense_features(graph, ppr_flag = 'std')\n"
   ]
  },
  {
   "cell_type": "code",
   "execution_count": 8,
   "id": "71085255",
   "metadata": {},
   "outputs": [],
   "source": [
    "uncorrelated_feats = ['Degree',\n",
    "                    'Clustering Coefficient',\n",
    "                    'Personalized Page Rank - Standard Deviation',\n",
    "                    'Average Neighbor Degree',\n",
    "                    'Average Neighbor Clustering',\n",
    "                    'Eccentricity',\n",
    "                    'Katz Centrality']\n",
    "sense_features = sense_features[:, [list(sense_feat_dict).index(feat) for feat in uncorrelated_feats]]\n",
    "sense_feat_dict = {feat : idx for idx, feat in enumerate(uncorrelated_feats)}"
   ]
  },
  {
   "cell_type": "code",
   "execution_count": 39,
   "id": "63baade8",
   "metadata": {},
   "outputs": [
    {
     "name": "stderr",
     "output_type": "stream",
     "text": [
      " 11%|████▍                                  | 287/2500 [00:02<00:18, 121.32it/s]\n",
      " 55%|█████████████████████▍                 | 1373/2500 [00:42<00:34, 32.41it/s]\n"
     ]
    }
   ],
   "source": [
    "dgi_og = DGIEmbedding(graph = graph, \n",
    "           embed_dim = 64, \n",
    "           feature_matrix = sense_features, \n",
    "           use_xm = False, \n",
    "           ortho_ = 0, \n",
    "           sparse_ = 0, \n",
    "           batch_size = 1)\n",
    "embed_og = dgi_og.get_embedding()\n",
    "embed_og = (embed_og - np.min(embed_og)) / np.ptp(embed_og)\n",
    "feature_dict_og = find_feature_membership(input_embed = embed_og,\n",
    "                                                    embed_name = 'DGI-SF',\n",
    "                                                    sense_features = sense_features,\n",
    "                                                    sense_feat_dict = sense_feat_dict,\n",
    "                                                    top_k = 8,\n",
    "                                                    solver = 'nmf')\n",
    "\n",
    "explain_og = feature_dict_og['explain_norm']\n",
    "error_og = sense_features * np.log((sense_features + 1e-10) / ((embed_og @ feature_dict_og['explain_norm']) + 1e-10)) - sense_features + (embed_og @ feature_dict_og['explain_norm'])\n",
    "explain_og = (explain_og - np.min(explain_og)) / np.ptp(explain_og)\n",
    "\n",
    "\n",
    "dgi_plus = DGIEmbedding(graph = graph, \n",
    "           embed_dim = 64, \n",
    "           feature_matrix = sense_features, \n",
    "           use_xm = True, \n",
    "           ortho_ = 10, \n",
    "           sparse_ = 1, \n",
    "           batch_size = 1)\n",
    "embed_plus = dgi_plus.get_embedding()\n",
    "embed_plus = (embed_plus - np.min(embed_plus)) / np.ptp(embed_plus)\n",
    "feature_dict_plus = find_feature_membership(input_embed = embed_plus,\n",
    "                                                    embed_name = 'DGI+XM',\n",
    "                                                    sense_features = sense_features,\n",
    "                                                    sense_feat_dict = sense_feat_dict,\n",
    "                                                    top_k = 8,\n",
    "                                                    solver = 'nmf')\n",
    "\n",
    "explain_plus = feature_dict_plus['explain_norm']\n",
    "error_plus = sense_features * np.log((sense_features + 1e-10) / ((embed_plus @ feature_dict_plus['explain_norm']) + 1e-10)) - sense_features + (embed_plus @ feature_dict_plus['explain_norm'])\n",
    "explain_plus = (explain_plus - np.min(explain_plus)) / np.ptp(explain_plus)"
   ]
  },
  {
   "cell_type": "code",
   "execution_count": null,
   "id": "587aac52",
   "metadata": {},
   "outputs": [],
   "source": []
  },
  {
   "cell_type": "code",
   "execution_count": 40,
   "id": "6f61f048",
   "metadata": {},
   "outputs": [
    {
     "data": {
      "application/vnd.plotly.v1+json": {
       "config": {
        "plotlyServerURL": "https://plot.ly"
       },
       "data": [
        {
         "type": "heatmap",
         "x": [
          "Degree",
          "Clustering Coefficient",
          "Personalized Page Rank - Standard Deviation",
          "Average Neighbor Degree",
          "Average Neighbor Clustering",
          "Eccentricity",
          "Katz Centrality"
         ],
         "z": [
          [
           0,
           0,
           0.04367201402783394,
           0,
           0,
           0,
           0
          ],
          [
           0,
           0,
           0,
           0,
           0,
           0,
           0
          ],
          [
           0.009910181164741516,
           0,
           0,
           0.10012250393629074,
           0,
           0,
           0
          ],
          [
           0,
           0.018854685127735138,
           0,
           0.05126475542783737,
           0,
           0,
           0.011917374096810818
          ],
          [
           0,
           0,
           0.058057188987731934,
           0.012305953539907932,
           0,
           0,
           0
          ],
          [
           0,
           0,
           0,
           0,
           0,
           0,
           0
          ],
          [
           0,
           0,
           0,
           0,
           0,
           0,
           0
          ],
          [
           0,
           0,
           0,
           0,
           0,
           0,
           0
          ],
          [
           0.140745148062706,
           0,
           0,
           0,
           0,
           0,
           0
          ],
          [
           0,
           0,
           0,
           0,
           0,
           0,
           0
          ],
          [
           0,
           0,
           0,
           0,
           0,
           0,
           0
          ],
          [
           0.15453305840492249,
           0,
           0,
           0.0354757122695446,
           0,
           0,
           0
          ],
          [
           0,
           0,
           0,
           0,
           0,
           0,
           0
          ],
          [
           0,
           0,
           0,
           0,
           0,
           0,
           0
          ],
          [
           0,
           0,
           0,
           0,
           0,
           0,
           0
          ],
          [
           0,
           0,
           0,
           0,
           1.73420939972857e-05,
           0,
           0.003025274956598878
          ],
          [
           0,
           0,
           0,
           0,
           0,
           0,
           0
          ],
          [
           0,
           0,
           0,
           0,
           0,
           0,
           0
          ],
          [
           0,
           0,
           0,
           0,
           0,
           0,
           0
          ],
          [
           0,
           0,
           0,
           0,
           0,
           0,
           0
          ],
          [
           0.0158124677836895,
           0,
           0,
           0,
           0,
           0,
           0
          ],
          [
           0,
           0,
           0,
           0,
           0,
           0,
           0
          ],
          [
           0,
           0,
           0,
           0,
           0,
           0,
           0
          ],
          [
           0,
           0,
           0,
           0,
           0,
           0,
           0
          ],
          [
           0,
           0,
           0,
           0,
           0,
           0,
           0
          ],
          [
           0,
           0,
           0,
           0,
           0,
           0,
           0
          ],
          [
           0,
           0,
           0.03501966968178749,
           0,
           0,
           0,
           0
          ],
          [
           0,
           0,
           0,
           0,
           0,
           0,
           0
          ],
          [
           0,
           0,
           0,
           0,
           0,
           0,
           0
          ],
          [
           0,
           0.030551064759492874,
           0,
           0,
           0.10454225540161133,
           0.03863445296883583,
           0
          ],
          [
           0,
           0,
           0,
           0,
           0,
           0,
           0
          ],
          [
           0,
           0,
           0,
           0,
           0,
           0,
           0
          ],
          [
           0,
           0,
           0,
           0,
           0,
           0,
           0
          ],
          [
           0,
           0,
           0,
           0,
           0,
           0,
           0
          ],
          [
           1,
           0,
           0,
           0,
           0,
           0,
           0
          ],
          [
           0.06834905594587326,
           0,
           0.22667628526687622,
           0,
           0,
           0,
           0
          ],
          [
           0,
           0,
           0,
           0,
           0,
           0,
           0
          ],
          [
           0,
           0,
           0,
           0,
           0,
           0,
           0
          ],
          [
           0,
           0,
           0,
           0,
           0,
           0,
           0
          ],
          [
           0.005449592135846615,
           0,
           0,
           0,
           0,
           0.024579033255577087,
           0
          ],
          [
           0,
           0,
           0,
           0,
           0,
           0,
           0
          ],
          [
           0,
           0,
           0,
           0,
           0,
           0,
           0
          ],
          [
           0,
           0.05816483870148659,
           0,
           0,
           0.017340557649731636,
           0,
           0
          ],
          [
           0,
           0,
           0,
           0,
           0,
           0,
           0
          ],
          [
           0,
           0,
           0,
           0,
           0,
           0,
           0
          ],
          [
           0,
           0,
           0,
           0,
           0,
           0,
           0
          ],
          [
           0,
           0,
           0,
           0,
           0,
           0,
           0
          ],
          [
           0,
           0,
           0,
           0,
           0,
           0.07926343381404877,
           0
          ],
          [
           0,
           0,
           0,
           0,
           0,
           0,
           0
          ],
          [
           0,
           0.05641522258520126,
           0,
           0,
           0,
           0.1364416629076004,
           0
          ],
          [
           0,
           0,
           0,
           0,
           0,
           0,
           0
          ],
          [
           0,
           0,
           0,
           0,
           0,
           0,
           0
          ],
          [
           0,
           0,
           0,
           0,
           0,
           0,
           0
          ],
          [
           0,
           0,
           0.04572732001543045,
           0.06956670433282852,
           0.00978915486484766,
           0,
           0.0640551745891571
          ],
          [
           0,
           0,
           0,
           0,
           0.03149114176630974,
           0,
           0
          ],
          [
           0,
           0,
           0,
           0,
           0,
           0,
           0
          ],
          [
           0,
           0,
           0,
           0,
           0,
           0,
           0
          ],
          [
           0,
           0,
           0.23260299861431122,
           0,
           0,
           0.062369205057621,
           0
          ],
          [
           0,
           0,
           0,
           0,
           0,
           0,
           0
          ],
          [
           0,
           0,
           0,
           0,
           0,
           0,
           0.04569327086210251
          ],
          [
           0,
           0,
           0,
           0,
           0,
           0,
           0
          ],
          [
           0,
           0,
           0,
           0,
           0,
           0,
           0
          ],
          [
           0,
           0.15204070508480072,
           0,
           0.003095991676673293,
           0,
           0,
           0
          ],
          [
           0,
           0,
           0,
           0,
           0,
           0,
           0
          ]
         ]
        }
       ],
       "layout": {
        "template": {
         "data": {
          "bar": [
           {
            "error_x": {
             "color": "#2a3f5f"
            },
            "error_y": {
             "color": "#2a3f5f"
            },
            "marker": {
             "line": {
              "color": "#E5ECF6",
              "width": 0.5
             },
             "pattern": {
              "fillmode": "overlay",
              "size": 10,
              "solidity": 0.2
             }
            },
            "type": "bar"
           }
          ],
          "barpolar": [
           {
            "marker": {
             "line": {
              "color": "#E5ECF6",
              "width": 0.5
             },
             "pattern": {
              "fillmode": "overlay",
              "size": 10,
              "solidity": 0.2
             }
            },
            "type": "barpolar"
           }
          ],
          "carpet": [
           {
            "aaxis": {
             "endlinecolor": "#2a3f5f",
             "gridcolor": "white",
             "linecolor": "white",
             "minorgridcolor": "white",
             "startlinecolor": "#2a3f5f"
            },
            "baxis": {
             "endlinecolor": "#2a3f5f",
             "gridcolor": "white",
             "linecolor": "white",
             "minorgridcolor": "white",
             "startlinecolor": "#2a3f5f"
            },
            "type": "carpet"
           }
          ],
          "choropleth": [
           {
            "colorbar": {
             "outlinewidth": 0,
             "ticks": ""
            },
            "type": "choropleth"
           }
          ],
          "contour": [
           {
            "colorbar": {
             "outlinewidth": 0,
             "ticks": ""
            },
            "colorscale": [
             [
              0,
              "#0d0887"
             ],
             [
              0.1111111111111111,
              "#46039f"
             ],
             [
              0.2222222222222222,
              "#7201a8"
             ],
             [
              0.3333333333333333,
              "#9c179e"
             ],
             [
              0.4444444444444444,
              "#bd3786"
             ],
             [
              0.5555555555555556,
              "#d8576b"
             ],
             [
              0.6666666666666666,
              "#ed7953"
             ],
             [
              0.7777777777777778,
              "#fb9f3a"
             ],
             [
              0.8888888888888888,
              "#fdca26"
             ],
             [
              1,
              "#f0f921"
             ]
            ],
            "type": "contour"
           }
          ],
          "contourcarpet": [
           {
            "colorbar": {
             "outlinewidth": 0,
             "ticks": ""
            },
            "type": "contourcarpet"
           }
          ],
          "heatmap": [
           {
            "colorbar": {
             "outlinewidth": 0,
             "ticks": ""
            },
            "colorscale": [
             [
              0,
              "#0d0887"
             ],
             [
              0.1111111111111111,
              "#46039f"
             ],
             [
              0.2222222222222222,
              "#7201a8"
             ],
             [
              0.3333333333333333,
              "#9c179e"
             ],
             [
              0.4444444444444444,
              "#bd3786"
             ],
             [
              0.5555555555555556,
              "#d8576b"
             ],
             [
              0.6666666666666666,
              "#ed7953"
             ],
             [
              0.7777777777777778,
              "#fb9f3a"
             ],
             [
              0.8888888888888888,
              "#fdca26"
             ],
             [
              1,
              "#f0f921"
             ]
            ],
            "type": "heatmap"
           }
          ],
          "heatmapgl": [
           {
            "colorbar": {
             "outlinewidth": 0,
             "ticks": ""
            },
            "colorscale": [
             [
              0,
              "#0d0887"
             ],
             [
              0.1111111111111111,
              "#46039f"
             ],
             [
              0.2222222222222222,
              "#7201a8"
             ],
             [
              0.3333333333333333,
              "#9c179e"
             ],
             [
              0.4444444444444444,
              "#bd3786"
             ],
             [
              0.5555555555555556,
              "#d8576b"
             ],
             [
              0.6666666666666666,
              "#ed7953"
             ],
             [
              0.7777777777777778,
              "#fb9f3a"
             ],
             [
              0.8888888888888888,
              "#fdca26"
             ],
             [
              1,
              "#f0f921"
             ]
            ],
            "type": "heatmapgl"
           }
          ],
          "histogram": [
           {
            "marker": {
             "pattern": {
              "fillmode": "overlay",
              "size": 10,
              "solidity": 0.2
             }
            },
            "type": "histogram"
           }
          ],
          "histogram2d": [
           {
            "colorbar": {
             "outlinewidth": 0,
             "ticks": ""
            },
            "colorscale": [
             [
              0,
              "#0d0887"
             ],
             [
              0.1111111111111111,
              "#46039f"
             ],
             [
              0.2222222222222222,
              "#7201a8"
             ],
             [
              0.3333333333333333,
              "#9c179e"
             ],
             [
              0.4444444444444444,
              "#bd3786"
             ],
             [
              0.5555555555555556,
              "#d8576b"
             ],
             [
              0.6666666666666666,
              "#ed7953"
             ],
             [
              0.7777777777777778,
              "#fb9f3a"
             ],
             [
              0.8888888888888888,
              "#fdca26"
             ],
             [
              1,
              "#f0f921"
             ]
            ],
            "type": "histogram2d"
           }
          ],
          "histogram2dcontour": [
           {
            "colorbar": {
             "outlinewidth": 0,
             "ticks": ""
            },
            "colorscale": [
             [
              0,
              "#0d0887"
             ],
             [
              0.1111111111111111,
              "#46039f"
             ],
             [
              0.2222222222222222,
              "#7201a8"
             ],
             [
              0.3333333333333333,
              "#9c179e"
             ],
             [
              0.4444444444444444,
              "#bd3786"
             ],
             [
              0.5555555555555556,
              "#d8576b"
             ],
             [
              0.6666666666666666,
              "#ed7953"
             ],
             [
              0.7777777777777778,
              "#fb9f3a"
             ],
             [
              0.8888888888888888,
              "#fdca26"
             ],
             [
              1,
              "#f0f921"
             ]
            ],
            "type": "histogram2dcontour"
           }
          ],
          "mesh3d": [
           {
            "colorbar": {
             "outlinewidth": 0,
             "ticks": ""
            },
            "type": "mesh3d"
           }
          ],
          "parcoords": [
           {
            "line": {
             "colorbar": {
              "outlinewidth": 0,
              "ticks": ""
             }
            },
            "type": "parcoords"
           }
          ],
          "pie": [
           {
            "automargin": true,
            "type": "pie"
           }
          ],
          "scatter": [
           {
            "fillpattern": {
             "fillmode": "overlay",
             "size": 10,
             "solidity": 0.2
            },
            "type": "scatter"
           }
          ],
          "scatter3d": [
           {
            "line": {
             "colorbar": {
              "outlinewidth": 0,
              "ticks": ""
             }
            },
            "marker": {
             "colorbar": {
              "outlinewidth": 0,
              "ticks": ""
             }
            },
            "type": "scatter3d"
           }
          ],
          "scattercarpet": [
           {
            "marker": {
             "colorbar": {
              "outlinewidth": 0,
              "ticks": ""
             }
            },
            "type": "scattercarpet"
           }
          ],
          "scattergeo": [
           {
            "marker": {
             "colorbar": {
              "outlinewidth": 0,
              "ticks": ""
             }
            },
            "type": "scattergeo"
           }
          ],
          "scattergl": [
           {
            "marker": {
             "colorbar": {
              "outlinewidth": 0,
              "ticks": ""
             }
            },
            "type": "scattergl"
           }
          ],
          "scattermapbox": [
           {
            "marker": {
             "colorbar": {
              "outlinewidth": 0,
              "ticks": ""
             }
            },
            "type": "scattermapbox"
           }
          ],
          "scatterpolar": [
           {
            "marker": {
             "colorbar": {
              "outlinewidth": 0,
              "ticks": ""
             }
            },
            "type": "scatterpolar"
           }
          ],
          "scatterpolargl": [
           {
            "marker": {
             "colorbar": {
              "outlinewidth": 0,
              "ticks": ""
             }
            },
            "type": "scatterpolargl"
           }
          ],
          "scatterternary": [
           {
            "marker": {
             "colorbar": {
              "outlinewidth": 0,
              "ticks": ""
             }
            },
            "type": "scatterternary"
           }
          ],
          "surface": [
           {
            "colorbar": {
             "outlinewidth": 0,
             "ticks": ""
            },
            "colorscale": [
             [
              0,
              "#0d0887"
             ],
             [
              0.1111111111111111,
              "#46039f"
             ],
             [
              0.2222222222222222,
              "#7201a8"
             ],
             [
              0.3333333333333333,
              "#9c179e"
             ],
             [
              0.4444444444444444,
              "#bd3786"
             ],
             [
              0.5555555555555556,
              "#d8576b"
             ],
             [
              0.6666666666666666,
              "#ed7953"
             ],
             [
              0.7777777777777778,
              "#fb9f3a"
             ],
             [
              0.8888888888888888,
              "#fdca26"
             ],
             [
              1,
              "#f0f921"
             ]
            ],
            "type": "surface"
           }
          ],
          "table": [
           {
            "cells": {
             "fill": {
              "color": "#EBF0F8"
             },
             "line": {
              "color": "white"
             }
            },
            "header": {
             "fill": {
              "color": "#C8D4E3"
             },
             "line": {
              "color": "white"
             }
            },
            "type": "table"
           }
          ]
         },
         "layout": {
          "annotationdefaults": {
           "arrowcolor": "#2a3f5f",
           "arrowhead": 0,
           "arrowwidth": 1
          },
          "autotypenumbers": "strict",
          "coloraxis": {
           "colorbar": {
            "outlinewidth": 0,
            "ticks": ""
           }
          },
          "colorscale": {
           "diverging": [
            [
             0,
             "#8e0152"
            ],
            [
             0.1,
             "#c51b7d"
            ],
            [
             0.2,
             "#de77ae"
            ],
            [
             0.3,
             "#f1b6da"
            ],
            [
             0.4,
             "#fde0ef"
            ],
            [
             0.5,
             "#f7f7f7"
            ],
            [
             0.6,
             "#e6f5d0"
            ],
            [
             0.7,
             "#b8e186"
            ],
            [
             0.8,
             "#7fbc41"
            ],
            [
             0.9,
             "#4d9221"
            ],
            [
             1,
             "#276419"
            ]
           ],
           "sequential": [
            [
             0,
             "#0d0887"
            ],
            [
             0.1111111111111111,
             "#46039f"
            ],
            [
             0.2222222222222222,
             "#7201a8"
            ],
            [
             0.3333333333333333,
             "#9c179e"
            ],
            [
             0.4444444444444444,
             "#bd3786"
            ],
            [
             0.5555555555555556,
             "#d8576b"
            ],
            [
             0.6666666666666666,
             "#ed7953"
            ],
            [
             0.7777777777777778,
             "#fb9f3a"
            ],
            [
             0.8888888888888888,
             "#fdca26"
            ],
            [
             1,
             "#f0f921"
            ]
           ],
           "sequentialminus": [
            [
             0,
             "#0d0887"
            ],
            [
             0.1111111111111111,
             "#46039f"
            ],
            [
             0.2222222222222222,
             "#7201a8"
            ],
            [
             0.3333333333333333,
             "#9c179e"
            ],
            [
             0.4444444444444444,
             "#bd3786"
            ],
            [
             0.5555555555555556,
             "#d8576b"
            ],
            [
             0.6666666666666666,
             "#ed7953"
            ],
            [
             0.7777777777777778,
             "#fb9f3a"
            ],
            [
             0.8888888888888888,
             "#fdca26"
            ],
            [
             1,
             "#f0f921"
            ]
           ]
          },
          "colorway": [
           "#636efa",
           "#EF553B",
           "#00cc96",
           "#ab63fa",
           "#FFA15A",
           "#19d3f3",
           "#FF6692",
           "#B6E880",
           "#FF97FF",
           "#FECB52"
          ],
          "font": {
           "color": "#2a3f5f"
          },
          "geo": {
           "bgcolor": "white",
           "lakecolor": "white",
           "landcolor": "#E5ECF6",
           "showlakes": true,
           "showland": true,
           "subunitcolor": "white"
          },
          "hoverlabel": {
           "align": "left"
          },
          "hovermode": "closest",
          "mapbox": {
           "style": "light"
          },
          "paper_bgcolor": "white",
          "plot_bgcolor": "#E5ECF6",
          "polar": {
           "angularaxis": {
            "gridcolor": "white",
            "linecolor": "white",
            "ticks": ""
           },
           "bgcolor": "#E5ECF6",
           "radialaxis": {
            "gridcolor": "white",
            "linecolor": "white",
            "ticks": ""
           }
          },
          "scene": {
           "xaxis": {
            "backgroundcolor": "#E5ECF6",
            "gridcolor": "white",
            "gridwidth": 2,
            "linecolor": "white",
            "showbackground": true,
            "ticks": "",
            "zerolinecolor": "white"
           },
           "yaxis": {
            "backgroundcolor": "#E5ECF6",
            "gridcolor": "white",
            "gridwidth": 2,
            "linecolor": "white",
            "showbackground": true,
            "ticks": "",
            "zerolinecolor": "white"
           },
           "zaxis": {
            "backgroundcolor": "#E5ECF6",
            "gridcolor": "white",
            "gridwidth": 2,
            "linecolor": "white",
            "showbackground": true,
            "ticks": "",
            "zerolinecolor": "white"
           }
          },
          "shapedefaults": {
           "line": {
            "color": "#2a3f5f"
           }
          },
          "ternary": {
           "aaxis": {
            "gridcolor": "white",
            "linecolor": "white",
            "ticks": ""
           },
           "baxis": {
            "gridcolor": "white",
            "linecolor": "white",
            "ticks": ""
           },
           "bgcolor": "#E5ECF6",
           "caxis": {
            "gridcolor": "white",
            "linecolor": "white",
            "ticks": ""
           }
          },
          "title": {
           "x": 0.05
          },
          "xaxis": {
           "automargin": true,
           "gridcolor": "white",
           "linecolor": "white",
           "ticks": "",
           "title": {
            "standoff": 15
           },
           "zerolinecolor": "white",
           "zerolinewidth": 2
          },
          "yaxis": {
           "automargin": true,
           "gridcolor": "white",
           "linecolor": "white",
           "ticks": "",
           "title": {
            "standoff": 15
           },
           "zerolinecolor": "white",
           "zerolinewidth": 2
          }
         }
        },
        "title": {
         "text": "DGI : 2.0246537"
        },
        "xaxis": {
         "title": {
          "text": "Sense Features"
         }
        },
        "yaxis": {
         "title": {
          "text": "Dimensions"
         }
        }
       }
      },
      "text/html": [
       "<div>                            <div id=\"717831c9-ad6f-4b49-8ee1-a139552a81c0\" class=\"plotly-graph-div\" style=\"height:525px; width:100%;\"></div>            <script type=\"text/javascript\">                require([\"plotly\"], function(Plotly) {                    window.PLOTLYENV=window.PLOTLYENV || {};                                    if (document.getElementById(\"717831c9-ad6f-4b49-8ee1-a139552a81c0\")) {                    Plotly.newPlot(                        \"717831c9-ad6f-4b49-8ee1-a139552a81c0\",                        [{\"x\":[\"Degree\",\"Clustering Coefficient\",\"Personalized Page Rank - Standard Deviation\",\"Average Neighbor Degree\",\"Average Neighbor Clustering\",\"Eccentricity\",\"Katz Centrality\"],\"z\":[[0.0,0.0,0.04367201402783394,0.0,0.0,0.0,0.0],[0.0,0.0,0.0,0.0,0.0,0.0,0.0],[0.009910181164741516,0.0,0.0,0.10012250393629074,0.0,0.0,0.0],[0.0,0.018854685127735138,0.0,0.05126475542783737,0.0,0.0,0.011917374096810818],[0.0,0.0,0.058057188987731934,0.012305953539907932,0.0,0.0,0.0],[0.0,0.0,0.0,0.0,0.0,0.0,0.0],[0.0,0.0,0.0,0.0,0.0,0.0,0.0],[0.0,0.0,0.0,0.0,0.0,0.0,0.0],[0.140745148062706,0.0,0.0,0.0,0.0,0.0,0.0],[0.0,0.0,0.0,0.0,0.0,0.0,0.0],[0.0,0.0,0.0,0.0,0.0,0.0,0.0],[0.15453305840492249,0.0,0.0,0.0354757122695446,0.0,0.0,0.0],[0.0,0.0,0.0,0.0,0.0,0.0,0.0],[0.0,0.0,0.0,0.0,0.0,0.0,0.0],[0.0,0.0,0.0,0.0,0.0,0.0,0.0],[0.0,0.0,0.0,0.0,1.73420939972857e-05,0.0,0.003025274956598878],[0.0,0.0,0.0,0.0,0.0,0.0,0.0],[0.0,0.0,0.0,0.0,0.0,0.0,0.0],[0.0,0.0,0.0,0.0,0.0,0.0,0.0],[0.0,0.0,0.0,0.0,0.0,0.0,0.0],[0.0158124677836895,0.0,0.0,0.0,0.0,0.0,0.0],[0.0,0.0,0.0,0.0,0.0,0.0,0.0],[0.0,0.0,0.0,0.0,0.0,0.0,0.0],[0.0,0.0,0.0,0.0,0.0,0.0,0.0],[0.0,0.0,0.0,0.0,0.0,0.0,0.0],[0.0,0.0,0.0,0.0,0.0,0.0,0.0],[0.0,0.0,0.03501966968178749,0.0,0.0,0.0,0.0],[0.0,0.0,0.0,0.0,0.0,0.0,0.0],[0.0,0.0,0.0,0.0,0.0,0.0,0.0],[0.0,0.030551064759492874,0.0,0.0,0.10454225540161133,0.03863445296883583,0.0],[0.0,0.0,0.0,0.0,0.0,0.0,0.0],[0.0,0.0,0.0,0.0,0.0,0.0,0.0],[0.0,0.0,0.0,0.0,0.0,0.0,0.0],[0.0,0.0,0.0,0.0,0.0,0.0,0.0],[1.0,0.0,0.0,0.0,0.0,0.0,0.0],[0.06834905594587326,0.0,0.22667628526687622,0.0,0.0,0.0,0.0],[0.0,0.0,0.0,0.0,0.0,0.0,0.0],[0.0,0.0,0.0,0.0,0.0,0.0,0.0],[0.0,0.0,0.0,0.0,0.0,0.0,0.0],[0.005449592135846615,0.0,0.0,0.0,0.0,0.024579033255577087,0.0],[0.0,0.0,0.0,0.0,0.0,0.0,0.0],[0.0,0.0,0.0,0.0,0.0,0.0,0.0],[0.0,0.05816483870148659,0.0,0.0,0.017340557649731636,0.0,0.0],[0.0,0.0,0.0,0.0,0.0,0.0,0.0],[0.0,0.0,0.0,0.0,0.0,0.0,0.0],[0.0,0.0,0.0,0.0,0.0,0.0,0.0],[0.0,0.0,0.0,0.0,0.0,0.0,0.0],[0.0,0.0,0.0,0.0,0.0,0.07926343381404877,0.0],[0.0,0.0,0.0,0.0,0.0,0.0,0.0],[0.0,0.05641522258520126,0.0,0.0,0.0,0.1364416629076004,0.0],[0.0,0.0,0.0,0.0,0.0,0.0,0.0],[0.0,0.0,0.0,0.0,0.0,0.0,0.0],[0.0,0.0,0.0,0.0,0.0,0.0,0.0],[0.0,0.0,0.04572732001543045,0.06956670433282852,0.00978915486484766,0.0,0.0640551745891571],[0.0,0.0,0.0,0.0,0.03149114176630974,0.0,0.0],[0.0,0.0,0.0,0.0,0.0,0.0,0.0],[0.0,0.0,0.0,0.0,0.0,0.0,0.0],[0.0,0.0,0.23260299861431122,0.0,0.0,0.062369205057621,0.0],[0.0,0.0,0.0,0.0,0.0,0.0,0.0],[0.0,0.0,0.0,0.0,0.0,0.0,0.04569327086210251],[0.0,0.0,0.0,0.0,0.0,0.0,0.0],[0.0,0.0,0.0,0.0,0.0,0.0,0.0],[0.0,0.15204070508480072,0.0,0.003095991676673293,0.0,0.0,0.0],[0.0,0.0,0.0,0.0,0.0,0.0,0.0]],\"type\":\"heatmap\"}],                        {\"template\":{\"data\":{\"histogram2dcontour\":[{\"type\":\"histogram2dcontour\",\"colorbar\":{\"outlinewidth\":0,\"ticks\":\"\"},\"colorscale\":[[0.0,\"#0d0887\"],[0.1111111111111111,\"#46039f\"],[0.2222222222222222,\"#7201a8\"],[0.3333333333333333,\"#9c179e\"],[0.4444444444444444,\"#bd3786\"],[0.5555555555555556,\"#d8576b\"],[0.6666666666666666,\"#ed7953\"],[0.7777777777777778,\"#fb9f3a\"],[0.8888888888888888,\"#fdca26\"],[1.0,\"#f0f921\"]]}],\"choropleth\":[{\"type\":\"choropleth\",\"colorbar\":{\"outlinewidth\":0,\"ticks\":\"\"}}],\"histogram2d\":[{\"type\":\"histogram2d\",\"colorbar\":{\"outlinewidth\":0,\"ticks\":\"\"},\"colorscale\":[[0.0,\"#0d0887\"],[0.1111111111111111,\"#46039f\"],[0.2222222222222222,\"#7201a8\"],[0.3333333333333333,\"#9c179e\"],[0.4444444444444444,\"#bd3786\"],[0.5555555555555556,\"#d8576b\"],[0.6666666666666666,\"#ed7953\"],[0.7777777777777778,\"#fb9f3a\"],[0.8888888888888888,\"#fdca26\"],[1.0,\"#f0f921\"]]}],\"heatmap\":[{\"type\":\"heatmap\",\"colorbar\":{\"outlinewidth\":0,\"ticks\":\"\"},\"colorscale\":[[0.0,\"#0d0887\"],[0.1111111111111111,\"#46039f\"],[0.2222222222222222,\"#7201a8\"],[0.3333333333333333,\"#9c179e\"],[0.4444444444444444,\"#bd3786\"],[0.5555555555555556,\"#d8576b\"],[0.6666666666666666,\"#ed7953\"],[0.7777777777777778,\"#fb9f3a\"],[0.8888888888888888,\"#fdca26\"],[1.0,\"#f0f921\"]]}],\"heatmapgl\":[{\"type\":\"heatmapgl\",\"colorbar\":{\"outlinewidth\":0,\"ticks\":\"\"},\"colorscale\":[[0.0,\"#0d0887\"],[0.1111111111111111,\"#46039f\"],[0.2222222222222222,\"#7201a8\"],[0.3333333333333333,\"#9c179e\"],[0.4444444444444444,\"#bd3786\"],[0.5555555555555556,\"#d8576b\"],[0.6666666666666666,\"#ed7953\"],[0.7777777777777778,\"#fb9f3a\"],[0.8888888888888888,\"#fdca26\"],[1.0,\"#f0f921\"]]}],\"contourcarpet\":[{\"type\":\"contourcarpet\",\"colorbar\":{\"outlinewidth\":0,\"ticks\":\"\"}}],\"contour\":[{\"type\":\"contour\",\"colorbar\":{\"outlinewidth\":0,\"ticks\":\"\"},\"colorscale\":[[0.0,\"#0d0887\"],[0.1111111111111111,\"#46039f\"],[0.2222222222222222,\"#7201a8\"],[0.3333333333333333,\"#9c179e\"],[0.4444444444444444,\"#bd3786\"],[0.5555555555555556,\"#d8576b\"],[0.6666666666666666,\"#ed7953\"],[0.7777777777777778,\"#fb9f3a\"],[0.8888888888888888,\"#fdca26\"],[1.0,\"#f0f921\"]]}],\"surface\":[{\"type\":\"surface\",\"colorbar\":{\"outlinewidth\":0,\"ticks\":\"\"},\"colorscale\":[[0.0,\"#0d0887\"],[0.1111111111111111,\"#46039f\"],[0.2222222222222222,\"#7201a8\"],[0.3333333333333333,\"#9c179e\"],[0.4444444444444444,\"#bd3786\"],[0.5555555555555556,\"#d8576b\"],[0.6666666666666666,\"#ed7953\"],[0.7777777777777778,\"#fb9f3a\"],[0.8888888888888888,\"#fdca26\"],[1.0,\"#f0f921\"]]}],\"mesh3d\":[{\"type\":\"mesh3d\",\"colorbar\":{\"outlinewidth\":0,\"ticks\":\"\"}}],\"scatter\":[{\"fillpattern\":{\"fillmode\":\"overlay\",\"size\":10,\"solidity\":0.2},\"type\":\"scatter\"}],\"parcoords\":[{\"type\":\"parcoords\",\"line\":{\"colorbar\":{\"outlinewidth\":0,\"ticks\":\"\"}}}],\"scatterpolargl\":[{\"type\":\"scatterpolargl\",\"marker\":{\"colorbar\":{\"outlinewidth\":0,\"ticks\":\"\"}}}],\"bar\":[{\"error_x\":{\"color\":\"#2a3f5f\"},\"error_y\":{\"color\":\"#2a3f5f\"},\"marker\":{\"line\":{\"color\":\"#E5ECF6\",\"width\":0.5},\"pattern\":{\"fillmode\":\"overlay\",\"size\":10,\"solidity\":0.2}},\"type\":\"bar\"}],\"scattergeo\":[{\"type\":\"scattergeo\",\"marker\":{\"colorbar\":{\"outlinewidth\":0,\"ticks\":\"\"}}}],\"scatterpolar\":[{\"type\":\"scatterpolar\",\"marker\":{\"colorbar\":{\"outlinewidth\":0,\"ticks\":\"\"}}}],\"histogram\":[{\"marker\":{\"pattern\":{\"fillmode\":\"overlay\",\"size\":10,\"solidity\":0.2}},\"type\":\"histogram\"}],\"scattergl\":[{\"type\":\"scattergl\",\"marker\":{\"colorbar\":{\"outlinewidth\":0,\"ticks\":\"\"}}}],\"scatter3d\":[{\"type\":\"scatter3d\",\"line\":{\"colorbar\":{\"outlinewidth\":0,\"ticks\":\"\"}},\"marker\":{\"colorbar\":{\"outlinewidth\":0,\"ticks\":\"\"}}}],\"scattermapbox\":[{\"type\":\"scattermapbox\",\"marker\":{\"colorbar\":{\"outlinewidth\":0,\"ticks\":\"\"}}}],\"scatterternary\":[{\"type\":\"scatterternary\",\"marker\":{\"colorbar\":{\"outlinewidth\":0,\"ticks\":\"\"}}}],\"scattercarpet\":[{\"type\":\"scattercarpet\",\"marker\":{\"colorbar\":{\"outlinewidth\":0,\"ticks\":\"\"}}}],\"carpet\":[{\"aaxis\":{\"endlinecolor\":\"#2a3f5f\",\"gridcolor\":\"white\",\"linecolor\":\"white\",\"minorgridcolor\":\"white\",\"startlinecolor\":\"#2a3f5f\"},\"baxis\":{\"endlinecolor\":\"#2a3f5f\",\"gridcolor\":\"white\",\"linecolor\":\"white\",\"minorgridcolor\":\"white\",\"startlinecolor\":\"#2a3f5f\"},\"type\":\"carpet\"}],\"table\":[{\"cells\":{\"fill\":{\"color\":\"#EBF0F8\"},\"line\":{\"color\":\"white\"}},\"header\":{\"fill\":{\"color\":\"#C8D4E3\"},\"line\":{\"color\":\"white\"}},\"type\":\"table\"}],\"barpolar\":[{\"marker\":{\"line\":{\"color\":\"#E5ECF6\",\"width\":0.5},\"pattern\":{\"fillmode\":\"overlay\",\"size\":10,\"solidity\":0.2}},\"type\":\"barpolar\"}],\"pie\":[{\"automargin\":true,\"type\":\"pie\"}]},\"layout\":{\"autotypenumbers\":\"strict\",\"colorway\":[\"#636efa\",\"#EF553B\",\"#00cc96\",\"#ab63fa\",\"#FFA15A\",\"#19d3f3\",\"#FF6692\",\"#B6E880\",\"#FF97FF\",\"#FECB52\"],\"font\":{\"color\":\"#2a3f5f\"},\"hovermode\":\"closest\",\"hoverlabel\":{\"align\":\"left\"},\"paper_bgcolor\":\"white\",\"plot_bgcolor\":\"#E5ECF6\",\"polar\":{\"bgcolor\":\"#E5ECF6\",\"angularaxis\":{\"gridcolor\":\"white\",\"linecolor\":\"white\",\"ticks\":\"\"},\"radialaxis\":{\"gridcolor\":\"white\",\"linecolor\":\"white\",\"ticks\":\"\"}},\"ternary\":{\"bgcolor\":\"#E5ECF6\",\"aaxis\":{\"gridcolor\":\"white\",\"linecolor\":\"white\",\"ticks\":\"\"},\"baxis\":{\"gridcolor\":\"white\",\"linecolor\":\"white\",\"ticks\":\"\"},\"caxis\":{\"gridcolor\":\"white\",\"linecolor\":\"white\",\"ticks\":\"\"}},\"coloraxis\":{\"colorbar\":{\"outlinewidth\":0,\"ticks\":\"\"}},\"colorscale\":{\"sequential\":[[0.0,\"#0d0887\"],[0.1111111111111111,\"#46039f\"],[0.2222222222222222,\"#7201a8\"],[0.3333333333333333,\"#9c179e\"],[0.4444444444444444,\"#bd3786\"],[0.5555555555555556,\"#d8576b\"],[0.6666666666666666,\"#ed7953\"],[0.7777777777777778,\"#fb9f3a\"],[0.8888888888888888,\"#fdca26\"],[1.0,\"#f0f921\"]],\"sequentialminus\":[[0.0,\"#0d0887\"],[0.1111111111111111,\"#46039f\"],[0.2222222222222222,\"#7201a8\"],[0.3333333333333333,\"#9c179e\"],[0.4444444444444444,\"#bd3786\"],[0.5555555555555556,\"#d8576b\"],[0.6666666666666666,\"#ed7953\"],[0.7777777777777778,\"#fb9f3a\"],[0.8888888888888888,\"#fdca26\"],[1.0,\"#f0f921\"]],\"diverging\":[[0,\"#8e0152\"],[0.1,\"#c51b7d\"],[0.2,\"#de77ae\"],[0.3,\"#f1b6da\"],[0.4,\"#fde0ef\"],[0.5,\"#f7f7f7\"],[0.6,\"#e6f5d0\"],[0.7,\"#b8e186\"],[0.8,\"#7fbc41\"],[0.9,\"#4d9221\"],[1,\"#276419\"]]},\"xaxis\":{\"gridcolor\":\"white\",\"linecolor\":\"white\",\"ticks\":\"\",\"title\":{\"standoff\":15},\"zerolinecolor\":\"white\",\"automargin\":true,\"zerolinewidth\":2},\"yaxis\":{\"gridcolor\":\"white\",\"linecolor\":\"white\",\"ticks\":\"\",\"title\":{\"standoff\":15},\"zerolinecolor\":\"white\",\"automargin\":true,\"zerolinewidth\":2},\"scene\":{\"xaxis\":{\"backgroundcolor\":\"#E5ECF6\",\"gridcolor\":\"white\",\"linecolor\":\"white\",\"showbackground\":true,\"ticks\":\"\",\"zerolinecolor\":\"white\",\"gridwidth\":2},\"yaxis\":{\"backgroundcolor\":\"#E5ECF6\",\"gridcolor\":\"white\",\"linecolor\":\"white\",\"showbackground\":true,\"ticks\":\"\",\"zerolinecolor\":\"white\",\"gridwidth\":2},\"zaxis\":{\"backgroundcolor\":\"#E5ECF6\",\"gridcolor\":\"white\",\"linecolor\":\"white\",\"showbackground\":true,\"ticks\":\"\",\"zerolinecolor\":\"white\",\"gridwidth\":2}},\"shapedefaults\":{\"line\":{\"color\":\"#2a3f5f\"}},\"annotationdefaults\":{\"arrowcolor\":\"#2a3f5f\",\"arrowhead\":0,\"arrowwidth\":1},\"geo\":{\"bgcolor\":\"white\",\"landcolor\":\"#E5ECF6\",\"subunitcolor\":\"white\",\"showland\":true,\"showlakes\":true,\"lakecolor\":\"white\"},\"title\":{\"x\":0.05},\"mapbox\":{\"style\":\"light\"}}},\"title\":{\"text\":\"DGI : 2.0246537\"},\"xaxis\":{\"title\":{\"text\":\"Sense Features\"}},\"yaxis\":{\"title\":{\"text\":\"Dimensions\"}}},                        {\"responsive\": true}                    ).then(function(){\n",
       "                            \n",
       "var gd = document.getElementById('717831c9-ad6f-4b49-8ee1-a139552a81c0');\n",
       "var x = new MutationObserver(function (mutations, observer) {{\n",
       "        var display = window.getComputedStyle(gd).display;\n",
       "        if (!display || display === 'none') {{\n",
       "            console.log([gd, 'removed!']);\n",
       "            Plotly.purge(gd);\n",
       "            observer.disconnect();\n",
       "        }}\n",
       "}});\n",
       "\n",
       "// Listen for the removal of the full notebook cells\n",
       "var notebookContainer = gd.closest('#notebook-container');\n",
       "if (notebookContainer) {{\n",
       "    x.observe(notebookContainer, {childList: true});\n",
       "}}\n",
       "\n",
       "// Listen for the clearing of the current output cell\n",
       "var outputEl = gd.closest('.output');\n",
       "if (outputEl) {{\n",
       "    x.observe(outputEl, {childList: true});\n",
       "}}\n",
       "\n",
       "                        })                };                });            </script>        </div>"
      ]
     },
     "metadata": {},
     "output_type": "display_data"
    },
    {
     "data": {
      "application/vnd.plotly.v1+json": {
       "config": {
        "plotlyServerURL": "https://plot.ly"
       },
       "data": [
        {
         "type": "heatmap",
         "x": [
          "Degree",
          "Clustering Coefficient",
          "Personalized Page Rank - Standard Deviation",
          "Average Neighbor Degree",
          "Average Neighbor Clustering",
          "Eccentricity",
          "Katz Centrality"
         ],
         "z": [
          [
           0,
           0,
           0,
           0,
           0,
           0,
           0
          ],
          [
           0,
           0,
           0,
           0,
           0,
           0,
           0
          ],
          [
           0,
           0,
           0,
           0,
           0,
           0,
           0
          ],
          [
           0,
           0,
           0,
           0.6101930737495422,
           0,
           0,
           0
          ],
          [
           0,
           0,
           0,
           0,
           0,
           0,
           0
          ],
          [
           0,
           0,
           0,
           0,
           0,
           0,
           0
          ],
          [
           0,
           0.12770652770996094,
           0,
           0,
           0,
           0,
           0
          ],
          [
           0,
           0,
           0,
           0,
           0,
           0,
           0
          ],
          [
           0,
           0,
           0,
           0,
           0,
           0,
           0
          ],
          [
           0,
           0,
           0,
           0,
           0,
           0,
           0
          ],
          [
           0,
           0,
           0,
           0,
           0,
           0,
           0
          ],
          [
           0,
           0,
           0,
           0,
           0,
           0,
           0
          ],
          [
           0,
           0,
           0,
           0,
           0,
           0,
           0
          ],
          [
           0,
           0,
           0,
           0,
           0,
           0,
           0
          ],
          [
           0,
           0,
           0,
           0,
           0,
           0,
           0
          ],
          [
           0,
           0,
           0,
           0,
           0,
           0,
           0
          ],
          [
           0,
           0,
           0,
           0,
           0,
           0,
           0
          ],
          [
           0.4201342761516571,
           0,
           0,
           0,
           0,
           0,
           0.019640736281871796
          ],
          [
           0,
           0,
           0,
           0,
           0,
           0,
           0
          ],
          [
           0,
           0,
           0,
           0,
           0,
           0,
           0.168025940656662
          ],
          [
           0,
           0,
           0,
           0,
           0,
           0,
           0
          ],
          [
           0,
           0,
           0,
           0,
           0,
           0,
           0
          ],
          [
           0,
           0,
           0,
           0,
           0,
           0,
           0
          ],
          [
           0,
           0,
           0,
           0,
           0,
           0,
           0
          ],
          [
           0,
           0,
           0,
           0,
           0,
           0,
           0
          ],
          [
           0,
           0,
           0,
           0,
           0.4659568667411804,
           0,
           0
          ],
          [
           0,
           0,
           0,
           0,
           0,
           0,
           0
          ],
          [
           0,
           0,
           0,
           0,
           0,
           0,
           0
          ],
          [
           0,
           0,
           0,
           0,
           0,
           0,
           0
          ],
          [
           0,
           0,
           0,
           0,
           0,
           0,
           0
          ],
          [
           0,
           0,
           0,
           0,
           0,
           0,
           0
          ],
          [
           0,
           0,
           0,
           0,
           0,
           0,
           0
          ],
          [
           0,
           0,
           0,
           0,
           0,
           0,
           0
          ],
          [
           0,
           0,
           0,
           0,
           0,
           0,
           0
          ],
          [
           0,
           0,
           0,
           0,
           0,
           0,
           0
          ],
          [
           0,
           0,
           0,
           0,
           0,
           0,
           0.07477948814630508
          ],
          [
           0,
           0,
           0,
           0,
           0,
           0,
           0
          ],
          [
           0,
           0,
           0,
           0,
           0,
           0,
           0
          ],
          [
           0,
           0,
           0,
           0,
           0,
           0,
           0
          ],
          [
           0,
           0,
           0,
           0,
           0,
           0,
           0
          ],
          [
           0,
           0,
           0,
           0,
           0,
           0,
           0
          ],
          [
           0,
           0,
           0,
           0,
           0,
           0,
           0
          ],
          [
           0,
           0,
           0,
           0,
           0,
           0,
           0
          ],
          [
           0,
           0,
           0,
           0,
           0,
           0,
           0
          ],
          [
           0,
           0,
           0,
           0,
           0,
           0,
           0
          ],
          [
           0,
           0,
           0,
           0,
           0,
           0,
           0
          ],
          [
           0,
           0,
           0,
           0,
           0,
           0,
           0
          ],
          [
           0,
           0,
           0.43643826246261597,
           0,
           0,
           0,
           0
          ],
          [
           0,
           0,
           0,
           0,
           0,
           0,
           0
          ],
          [
           0,
           0,
           0,
           0,
           0,
           0,
           0
          ],
          [
           0,
           0,
           0,
           0,
           0,
           0,
           0
          ],
          [
           0,
           0,
           0,
           0.028514767065644264,
           0,
           0,
           0
          ],
          [
           0,
           0,
           0,
           0,
           0,
           0,
           0
          ],
          [
           0,
           0,
           0,
           0,
           0,
           0,
           0
          ],
          [
           0,
           0,
           0,
           0,
           0,
           0,
           0.18526096642017365
          ],
          [
           0,
           0,
           0,
           0,
           0,
           0,
           0
          ],
          [
           0,
           0,
           0,
           0,
           0,
           0,
           0
          ],
          [
           0,
           0,
           0,
           0,
           0,
           0,
           0
          ],
          [
           0,
           0,
           0,
           0,
           0,
           0,
           0
          ],
          [
           0,
           0,
           0,
           0,
           0,
           0,
           0
          ],
          [
           0,
           0,
           0,
           0,
           0,
           0,
           0
          ],
          [
           0,
           0,
           0,
           0,
           0,
           0,
           0
          ],
          [
           0,
           0,
           0,
           0,
           0,
           0,
           0
          ],
          [
           0,
           0.7279355525970459,
           0,
           0,
           0,
           1,
           0.0861336886882782
          ]
         ]
        }
       ],
       "layout": {
        "template": {
         "data": {
          "bar": [
           {
            "error_x": {
             "color": "#2a3f5f"
            },
            "error_y": {
             "color": "#2a3f5f"
            },
            "marker": {
             "line": {
              "color": "#E5ECF6",
              "width": 0.5
             },
             "pattern": {
              "fillmode": "overlay",
              "size": 10,
              "solidity": 0.2
             }
            },
            "type": "bar"
           }
          ],
          "barpolar": [
           {
            "marker": {
             "line": {
              "color": "#E5ECF6",
              "width": 0.5
             },
             "pattern": {
              "fillmode": "overlay",
              "size": 10,
              "solidity": 0.2
             }
            },
            "type": "barpolar"
           }
          ],
          "carpet": [
           {
            "aaxis": {
             "endlinecolor": "#2a3f5f",
             "gridcolor": "white",
             "linecolor": "white",
             "minorgridcolor": "white",
             "startlinecolor": "#2a3f5f"
            },
            "baxis": {
             "endlinecolor": "#2a3f5f",
             "gridcolor": "white",
             "linecolor": "white",
             "minorgridcolor": "white",
             "startlinecolor": "#2a3f5f"
            },
            "type": "carpet"
           }
          ],
          "choropleth": [
           {
            "colorbar": {
             "outlinewidth": 0,
             "ticks": ""
            },
            "type": "choropleth"
           }
          ],
          "contour": [
           {
            "colorbar": {
             "outlinewidth": 0,
             "ticks": ""
            },
            "colorscale": [
             [
              0,
              "#0d0887"
             ],
             [
              0.1111111111111111,
              "#46039f"
             ],
             [
              0.2222222222222222,
              "#7201a8"
             ],
             [
              0.3333333333333333,
              "#9c179e"
             ],
             [
              0.4444444444444444,
              "#bd3786"
             ],
             [
              0.5555555555555556,
              "#d8576b"
             ],
             [
              0.6666666666666666,
              "#ed7953"
             ],
             [
              0.7777777777777778,
              "#fb9f3a"
             ],
             [
              0.8888888888888888,
              "#fdca26"
             ],
             [
              1,
              "#f0f921"
             ]
            ],
            "type": "contour"
           }
          ],
          "contourcarpet": [
           {
            "colorbar": {
             "outlinewidth": 0,
             "ticks": ""
            },
            "type": "contourcarpet"
           }
          ],
          "heatmap": [
           {
            "colorbar": {
             "outlinewidth": 0,
             "ticks": ""
            },
            "colorscale": [
             [
              0,
              "#0d0887"
             ],
             [
              0.1111111111111111,
              "#46039f"
             ],
             [
              0.2222222222222222,
              "#7201a8"
             ],
             [
              0.3333333333333333,
              "#9c179e"
             ],
             [
              0.4444444444444444,
              "#bd3786"
             ],
             [
              0.5555555555555556,
              "#d8576b"
             ],
             [
              0.6666666666666666,
              "#ed7953"
             ],
             [
              0.7777777777777778,
              "#fb9f3a"
             ],
             [
              0.8888888888888888,
              "#fdca26"
             ],
             [
              1,
              "#f0f921"
             ]
            ],
            "type": "heatmap"
           }
          ],
          "heatmapgl": [
           {
            "colorbar": {
             "outlinewidth": 0,
             "ticks": ""
            },
            "colorscale": [
             [
              0,
              "#0d0887"
             ],
             [
              0.1111111111111111,
              "#46039f"
             ],
             [
              0.2222222222222222,
              "#7201a8"
             ],
             [
              0.3333333333333333,
              "#9c179e"
             ],
             [
              0.4444444444444444,
              "#bd3786"
             ],
             [
              0.5555555555555556,
              "#d8576b"
             ],
             [
              0.6666666666666666,
              "#ed7953"
             ],
             [
              0.7777777777777778,
              "#fb9f3a"
             ],
             [
              0.8888888888888888,
              "#fdca26"
             ],
             [
              1,
              "#f0f921"
             ]
            ],
            "type": "heatmapgl"
           }
          ],
          "histogram": [
           {
            "marker": {
             "pattern": {
              "fillmode": "overlay",
              "size": 10,
              "solidity": 0.2
             }
            },
            "type": "histogram"
           }
          ],
          "histogram2d": [
           {
            "colorbar": {
             "outlinewidth": 0,
             "ticks": ""
            },
            "colorscale": [
             [
              0,
              "#0d0887"
             ],
             [
              0.1111111111111111,
              "#46039f"
             ],
             [
              0.2222222222222222,
              "#7201a8"
             ],
             [
              0.3333333333333333,
              "#9c179e"
             ],
             [
              0.4444444444444444,
              "#bd3786"
             ],
             [
              0.5555555555555556,
              "#d8576b"
             ],
             [
              0.6666666666666666,
              "#ed7953"
             ],
             [
              0.7777777777777778,
              "#fb9f3a"
             ],
             [
              0.8888888888888888,
              "#fdca26"
             ],
             [
              1,
              "#f0f921"
             ]
            ],
            "type": "histogram2d"
           }
          ],
          "histogram2dcontour": [
           {
            "colorbar": {
             "outlinewidth": 0,
             "ticks": ""
            },
            "colorscale": [
             [
              0,
              "#0d0887"
             ],
             [
              0.1111111111111111,
              "#46039f"
             ],
             [
              0.2222222222222222,
              "#7201a8"
             ],
             [
              0.3333333333333333,
              "#9c179e"
             ],
             [
              0.4444444444444444,
              "#bd3786"
             ],
             [
              0.5555555555555556,
              "#d8576b"
             ],
             [
              0.6666666666666666,
              "#ed7953"
             ],
             [
              0.7777777777777778,
              "#fb9f3a"
             ],
             [
              0.8888888888888888,
              "#fdca26"
             ],
             [
              1,
              "#f0f921"
             ]
            ],
            "type": "histogram2dcontour"
           }
          ],
          "mesh3d": [
           {
            "colorbar": {
             "outlinewidth": 0,
             "ticks": ""
            },
            "type": "mesh3d"
           }
          ],
          "parcoords": [
           {
            "line": {
             "colorbar": {
              "outlinewidth": 0,
              "ticks": ""
             }
            },
            "type": "parcoords"
           }
          ],
          "pie": [
           {
            "automargin": true,
            "type": "pie"
           }
          ],
          "scatter": [
           {
            "fillpattern": {
             "fillmode": "overlay",
             "size": 10,
             "solidity": 0.2
            },
            "type": "scatter"
           }
          ],
          "scatter3d": [
           {
            "line": {
             "colorbar": {
              "outlinewidth": 0,
              "ticks": ""
             }
            },
            "marker": {
             "colorbar": {
              "outlinewidth": 0,
              "ticks": ""
             }
            },
            "type": "scatter3d"
           }
          ],
          "scattercarpet": [
           {
            "marker": {
             "colorbar": {
              "outlinewidth": 0,
              "ticks": ""
             }
            },
            "type": "scattercarpet"
           }
          ],
          "scattergeo": [
           {
            "marker": {
             "colorbar": {
              "outlinewidth": 0,
              "ticks": ""
             }
            },
            "type": "scattergeo"
           }
          ],
          "scattergl": [
           {
            "marker": {
             "colorbar": {
              "outlinewidth": 0,
              "ticks": ""
             }
            },
            "type": "scattergl"
           }
          ],
          "scattermapbox": [
           {
            "marker": {
             "colorbar": {
              "outlinewidth": 0,
              "ticks": ""
             }
            },
            "type": "scattermapbox"
           }
          ],
          "scatterpolar": [
           {
            "marker": {
             "colorbar": {
              "outlinewidth": 0,
              "ticks": ""
             }
            },
            "type": "scatterpolar"
           }
          ],
          "scatterpolargl": [
           {
            "marker": {
             "colorbar": {
              "outlinewidth": 0,
              "ticks": ""
             }
            },
            "type": "scatterpolargl"
           }
          ],
          "scatterternary": [
           {
            "marker": {
             "colorbar": {
              "outlinewidth": 0,
              "ticks": ""
             }
            },
            "type": "scatterternary"
           }
          ],
          "surface": [
           {
            "colorbar": {
             "outlinewidth": 0,
             "ticks": ""
            },
            "colorscale": [
             [
              0,
              "#0d0887"
             ],
             [
              0.1111111111111111,
              "#46039f"
             ],
             [
              0.2222222222222222,
              "#7201a8"
             ],
             [
              0.3333333333333333,
              "#9c179e"
             ],
             [
              0.4444444444444444,
              "#bd3786"
             ],
             [
              0.5555555555555556,
              "#d8576b"
             ],
             [
              0.6666666666666666,
              "#ed7953"
             ],
             [
              0.7777777777777778,
              "#fb9f3a"
             ],
             [
              0.8888888888888888,
              "#fdca26"
             ],
             [
              1,
              "#f0f921"
             ]
            ],
            "type": "surface"
           }
          ],
          "table": [
           {
            "cells": {
             "fill": {
              "color": "#EBF0F8"
             },
             "line": {
              "color": "white"
             }
            },
            "header": {
             "fill": {
              "color": "#C8D4E3"
             },
             "line": {
              "color": "white"
             }
            },
            "type": "table"
           }
          ]
         },
         "layout": {
          "annotationdefaults": {
           "arrowcolor": "#2a3f5f",
           "arrowhead": 0,
           "arrowwidth": 1
          },
          "autotypenumbers": "strict",
          "coloraxis": {
           "colorbar": {
            "outlinewidth": 0,
            "ticks": ""
           }
          },
          "colorscale": {
           "diverging": [
            [
             0,
             "#8e0152"
            ],
            [
             0.1,
             "#c51b7d"
            ],
            [
             0.2,
             "#de77ae"
            ],
            [
             0.3,
             "#f1b6da"
            ],
            [
             0.4,
             "#fde0ef"
            ],
            [
             0.5,
             "#f7f7f7"
            ],
            [
             0.6,
             "#e6f5d0"
            ],
            [
             0.7,
             "#b8e186"
            ],
            [
             0.8,
             "#7fbc41"
            ],
            [
             0.9,
             "#4d9221"
            ],
            [
             1,
             "#276419"
            ]
           ],
           "sequential": [
            [
             0,
             "#0d0887"
            ],
            [
             0.1111111111111111,
             "#46039f"
            ],
            [
             0.2222222222222222,
             "#7201a8"
            ],
            [
             0.3333333333333333,
             "#9c179e"
            ],
            [
             0.4444444444444444,
             "#bd3786"
            ],
            [
             0.5555555555555556,
             "#d8576b"
            ],
            [
             0.6666666666666666,
             "#ed7953"
            ],
            [
             0.7777777777777778,
             "#fb9f3a"
            ],
            [
             0.8888888888888888,
             "#fdca26"
            ],
            [
             1,
             "#f0f921"
            ]
           ],
           "sequentialminus": [
            [
             0,
             "#0d0887"
            ],
            [
             0.1111111111111111,
             "#46039f"
            ],
            [
             0.2222222222222222,
             "#7201a8"
            ],
            [
             0.3333333333333333,
             "#9c179e"
            ],
            [
             0.4444444444444444,
             "#bd3786"
            ],
            [
             0.5555555555555556,
             "#d8576b"
            ],
            [
             0.6666666666666666,
             "#ed7953"
            ],
            [
             0.7777777777777778,
             "#fb9f3a"
            ],
            [
             0.8888888888888888,
             "#fdca26"
            ],
            [
             1,
             "#f0f921"
            ]
           ]
          },
          "colorway": [
           "#636efa",
           "#EF553B",
           "#00cc96",
           "#ab63fa",
           "#FFA15A",
           "#19d3f3",
           "#FF6692",
           "#B6E880",
           "#FF97FF",
           "#FECB52"
          ],
          "font": {
           "color": "#2a3f5f"
          },
          "geo": {
           "bgcolor": "white",
           "lakecolor": "white",
           "landcolor": "#E5ECF6",
           "showlakes": true,
           "showland": true,
           "subunitcolor": "white"
          },
          "hoverlabel": {
           "align": "left"
          },
          "hovermode": "closest",
          "mapbox": {
           "style": "light"
          },
          "paper_bgcolor": "white",
          "plot_bgcolor": "#E5ECF6",
          "polar": {
           "angularaxis": {
            "gridcolor": "white",
            "linecolor": "white",
            "ticks": ""
           },
           "bgcolor": "#E5ECF6",
           "radialaxis": {
            "gridcolor": "white",
            "linecolor": "white",
            "ticks": ""
           }
          },
          "scene": {
           "xaxis": {
            "backgroundcolor": "#E5ECF6",
            "gridcolor": "white",
            "gridwidth": 2,
            "linecolor": "white",
            "showbackground": true,
            "ticks": "",
            "zerolinecolor": "white"
           },
           "yaxis": {
            "backgroundcolor": "#E5ECF6",
            "gridcolor": "white",
            "gridwidth": 2,
            "linecolor": "white",
            "showbackground": true,
            "ticks": "",
            "zerolinecolor": "white"
           },
           "zaxis": {
            "backgroundcolor": "#E5ECF6",
            "gridcolor": "white",
            "gridwidth": 2,
            "linecolor": "white",
            "showbackground": true,
            "ticks": "",
            "zerolinecolor": "white"
           }
          },
          "shapedefaults": {
           "line": {
            "color": "#2a3f5f"
           }
          },
          "ternary": {
           "aaxis": {
            "gridcolor": "white",
            "linecolor": "white",
            "ticks": ""
           },
           "baxis": {
            "gridcolor": "white",
            "linecolor": "white",
            "ticks": ""
           },
           "bgcolor": "#E5ECF6",
           "caxis": {
            "gridcolor": "white",
            "linecolor": "white",
            "ticks": ""
           }
          },
          "title": {
           "x": 0.05
          },
          "xaxis": {
           "automargin": true,
           "gridcolor": "white",
           "linecolor": "white",
           "ticks": "",
           "title": {
            "standoff": 15
           },
           "zerolinecolor": "white",
           "zerolinewidth": 2
          },
          "yaxis": {
           "automargin": true,
           "gridcolor": "white",
           "linecolor": "white",
           "ticks": "",
           "title": {
            "standoff": 15
           },
           "zerolinecolor": "white",
           "zerolinewidth": 2
          }
         }
        },
        "title": {
         "text": "DGI+ : 3.5394602"
        },
        "xaxis": {
         "title": {
          "text": "Sense Features"
         }
        },
        "yaxis": {
         "title": {
          "text": "Dimensions"
         }
        }
       }
      },
      "text/html": [
       "<div>                            <div id=\"00ddb755-848d-4c02-8ba3-1c775fa84d6a\" class=\"plotly-graph-div\" style=\"height:525px; width:100%;\"></div>            <script type=\"text/javascript\">                require([\"plotly\"], function(Plotly) {                    window.PLOTLYENV=window.PLOTLYENV || {};                                    if (document.getElementById(\"00ddb755-848d-4c02-8ba3-1c775fa84d6a\")) {                    Plotly.newPlot(                        \"00ddb755-848d-4c02-8ba3-1c775fa84d6a\",                        [{\"x\":[\"Degree\",\"Clustering Coefficient\",\"Personalized Page Rank - Standard Deviation\",\"Average Neighbor Degree\",\"Average Neighbor Clustering\",\"Eccentricity\",\"Katz Centrality\"],\"z\":[[0.0,0.0,0.0,0.0,0.0,0.0,0.0],[0.0,0.0,0.0,0.0,0.0,0.0,0.0],[0.0,0.0,0.0,0.0,0.0,0.0,0.0],[0.0,0.0,0.0,0.6101930737495422,0.0,0.0,0.0],[0.0,0.0,0.0,0.0,0.0,0.0,0.0],[0.0,0.0,0.0,0.0,0.0,0.0,0.0],[0.0,0.12770652770996094,0.0,0.0,0.0,0.0,0.0],[0.0,0.0,0.0,0.0,0.0,0.0,0.0],[0.0,0.0,0.0,0.0,0.0,0.0,0.0],[0.0,0.0,0.0,0.0,0.0,0.0,0.0],[0.0,0.0,0.0,0.0,0.0,0.0,0.0],[0.0,0.0,0.0,0.0,0.0,0.0,0.0],[0.0,0.0,0.0,0.0,0.0,0.0,0.0],[0.0,0.0,0.0,0.0,0.0,0.0,0.0],[0.0,0.0,0.0,0.0,0.0,0.0,0.0],[0.0,0.0,0.0,0.0,0.0,0.0,0.0],[0.0,0.0,0.0,0.0,0.0,0.0,0.0],[0.4201342761516571,0.0,0.0,0.0,0.0,0.0,0.019640736281871796],[0.0,0.0,0.0,0.0,0.0,0.0,0.0],[0.0,0.0,0.0,0.0,0.0,0.0,0.168025940656662],[0.0,0.0,0.0,0.0,0.0,0.0,0.0],[0.0,0.0,0.0,0.0,0.0,0.0,0.0],[0.0,0.0,0.0,0.0,0.0,0.0,0.0],[0.0,0.0,0.0,0.0,0.0,0.0,0.0],[0.0,0.0,0.0,0.0,0.0,0.0,0.0],[0.0,0.0,0.0,0.0,0.4659568667411804,0.0,0.0],[0.0,0.0,0.0,0.0,0.0,0.0,0.0],[0.0,0.0,0.0,0.0,0.0,0.0,0.0],[0.0,0.0,0.0,0.0,0.0,0.0,0.0],[0.0,0.0,0.0,0.0,0.0,0.0,0.0],[0.0,0.0,0.0,0.0,0.0,0.0,0.0],[0.0,0.0,0.0,0.0,0.0,0.0,0.0],[0.0,0.0,0.0,0.0,0.0,0.0,0.0],[0.0,0.0,0.0,0.0,0.0,0.0,0.0],[0.0,0.0,0.0,0.0,0.0,0.0,0.0],[0.0,0.0,0.0,0.0,0.0,0.0,0.07477948814630508],[0.0,0.0,0.0,0.0,0.0,0.0,0.0],[0.0,0.0,0.0,0.0,0.0,0.0,0.0],[0.0,0.0,0.0,0.0,0.0,0.0,0.0],[0.0,0.0,0.0,0.0,0.0,0.0,0.0],[0.0,0.0,0.0,0.0,0.0,0.0,0.0],[0.0,0.0,0.0,0.0,0.0,0.0,0.0],[0.0,0.0,0.0,0.0,0.0,0.0,0.0],[0.0,0.0,0.0,0.0,0.0,0.0,0.0],[0.0,0.0,0.0,0.0,0.0,0.0,0.0],[0.0,0.0,0.0,0.0,0.0,0.0,0.0],[0.0,0.0,0.0,0.0,0.0,0.0,0.0],[0.0,0.0,0.43643826246261597,0.0,0.0,0.0,0.0],[0.0,0.0,0.0,0.0,0.0,0.0,0.0],[0.0,0.0,0.0,0.0,0.0,0.0,0.0],[0.0,0.0,0.0,0.0,0.0,0.0,0.0],[0.0,0.0,0.0,0.028514767065644264,0.0,0.0,0.0],[0.0,0.0,0.0,0.0,0.0,0.0,0.0],[0.0,0.0,0.0,0.0,0.0,0.0,0.0],[0.0,0.0,0.0,0.0,0.0,0.0,0.18526096642017365],[0.0,0.0,0.0,0.0,0.0,0.0,0.0],[0.0,0.0,0.0,0.0,0.0,0.0,0.0],[0.0,0.0,0.0,0.0,0.0,0.0,0.0],[0.0,0.0,0.0,0.0,0.0,0.0,0.0],[0.0,0.0,0.0,0.0,0.0,0.0,0.0],[0.0,0.0,0.0,0.0,0.0,0.0,0.0],[0.0,0.0,0.0,0.0,0.0,0.0,0.0],[0.0,0.0,0.0,0.0,0.0,0.0,0.0],[0.0,0.7279355525970459,0.0,0.0,0.0,1.0,0.0861336886882782]],\"type\":\"heatmap\"}],                        {\"template\":{\"data\":{\"histogram2dcontour\":[{\"type\":\"histogram2dcontour\",\"colorbar\":{\"outlinewidth\":0,\"ticks\":\"\"},\"colorscale\":[[0.0,\"#0d0887\"],[0.1111111111111111,\"#46039f\"],[0.2222222222222222,\"#7201a8\"],[0.3333333333333333,\"#9c179e\"],[0.4444444444444444,\"#bd3786\"],[0.5555555555555556,\"#d8576b\"],[0.6666666666666666,\"#ed7953\"],[0.7777777777777778,\"#fb9f3a\"],[0.8888888888888888,\"#fdca26\"],[1.0,\"#f0f921\"]]}],\"choropleth\":[{\"type\":\"choropleth\",\"colorbar\":{\"outlinewidth\":0,\"ticks\":\"\"}}],\"histogram2d\":[{\"type\":\"histogram2d\",\"colorbar\":{\"outlinewidth\":0,\"ticks\":\"\"},\"colorscale\":[[0.0,\"#0d0887\"],[0.1111111111111111,\"#46039f\"],[0.2222222222222222,\"#7201a8\"],[0.3333333333333333,\"#9c179e\"],[0.4444444444444444,\"#bd3786\"],[0.5555555555555556,\"#d8576b\"],[0.6666666666666666,\"#ed7953\"],[0.7777777777777778,\"#fb9f3a\"],[0.8888888888888888,\"#fdca26\"],[1.0,\"#f0f921\"]]}],\"heatmap\":[{\"type\":\"heatmap\",\"colorbar\":{\"outlinewidth\":0,\"ticks\":\"\"},\"colorscale\":[[0.0,\"#0d0887\"],[0.1111111111111111,\"#46039f\"],[0.2222222222222222,\"#7201a8\"],[0.3333333333333333,\"#9c179e\"],[0.4444444444444444,\"#bd3786\"],[0.5555555555555556,\"#d8576b\"],[0.6666666666666666,\"#ed7953\"],[0.7777777777777778,\"#fb9f3a\"],[0.8888888888888888,\"#fdca26\"],[1.0,\"#f0f921\"]]}],\"heatmapgl\":[{\"type\":\"heatmapgl\",\"colorbar\":{\"outlinewidth\":0,\"ticks\":\"\"},\"colorscale\":[[0.0,\"#0d0887\"],[0.1111111111111111,\"#46039f\"],[0.2222222222222222,\"#7201a8\"],[0.3333333333333333,\"#9c179e\"],[0.4444444444444444,\"#bd3786\"],[0.5555555555555556,\"#d8576b\"],[0.6666666666666666,\"#ed7953\"],[0.7777777777777778,\"#fb9f3a\"],[0.8888888888888888,\"#fdca26\"],[1.0,\"#f0f921\"]]}],\"contourcarpet\":[{\"type\":\"contourcarpet\",\"colorbar\":{\"outlinewidth\":0,\"ticks\":\"\"}}],\"contour\":[{\"type\":\"contour\",\"colorbar\":{\"outlinewidth\":0,\"ticks\":\"\"},\"colorscale\":[[0.0,\"#0d0887\"],[0.1111111111111111,\"#46039f\"],[0.2222222222222222,\"#7201a8\"],[0.3333333333333333,\"#9c179e\"],[0.4444444444444444,\"#bd3786\"],[0.5555555555555556,\"#d8576b\"],[0.6666666666666666,\"#ed7953\"],[0.7777777777777778,\"#fb9f3a\"],[0.8888888888888888,\"#fdca26\"],[1.0,\"#f0f921\"]]}],\"surface\":[{\"type\":\"surface\",\"colorbar\":{\"outlinewidth\":0,\"ticks\":\"\"},\"colorscale\":[[0.0,\"#0d0887\"],[0.1111111111111111,\"#46039f\"],[0.2222222222222222,\"#7201a8\"],[0.3333333333333333,\"#9c179e\"],[0.4444444444444444,\"#bd3786\"],[0.5555555555555556,\"#d8576b\"],[0.6666666666666666,\"#ed7953\"],[0.7777777777777778,\"#fb9f3a\"],[0.8888888888888888,\"#fdca26\"],[1.0,\"#f0f921\"]]}],\"mesh3d\":[{\"type\":\"mesh3d\",\"colorbar\":{\"outlinewidth\":0,\"ticks\":\"\"}}],\"scatter\":[{\"fillpattern\":{\"fillmode\":\"overlay\",\"size\":10,\"solidity\":0.2},\"type\":\"scatter\"}],\"parcoords\":[{\"type\":\"parcoords\",\"line\":{\"colorbar\":{\"outlinewidth\":0,\"ticks\":\"\"}}}],\"scatterpolargl\":[{\"type\":\"scatterpolargl\",\"marker\":{\"colorbar\":{\"outlinewidth\":0,\"ticks\":\"\"}}}],\"bar\":[{\"error_x\":{\"color\":\"#2a3f5f\"},\"error_y\":{\"color\":\"#2a3f5f\"},\"marker\":{\"line\":{\"color\":\"#E5ECF6\",\"width\":0.5},\"pattern\":{\"fillmode\":\"overlay\",\"size\":10,\"solidity\":0.2}},\"type\":\"bar\"}],\"scattergeo\":[{\"type\":\"scattergeo\",\"marker\":{\"colorbar\":{\"outlinewidth\":0,\"ticks\":\"\"}}}],\"scatterpolar\":[{\"type\":\"scatterpolar\",\"marker\":{\"colorbar\":{\"outlinewidth\":0,\"ticks\":\"\"}}}],\"histogram\":[{\"marker\":{\"pattern\":{\"fillmode\":\"overlay\",\"size\":10,\"solidity\":0.2}},\"type\":\"histogram\"}],\"scattergl\":[{\"type\":\"scattergl\",\"marker\":{\"colorbar\":{\"outlinewidth\":0,\"ticks\":\"\"}}}],\"scatter3d\":[{\"type\":\"scatter3d\",\"line\":{\"colorbar\":{\"outlinewidth\":0,\"ticks\":\"\"}},\"marker\":{\"colorbar\":{\"outlinewidth\":0,\"ticks\":\"\"}}}],\"scattermapbox\":[{\"type\":\"scattermapbox\",\"marker\":{\"colorbar\":{\"outlinewidth\":0,\"ticks\":\"\"}}}],\"scatterternary\":[{\"type\":\"scatterternary\",\"marker\":{\"colorbar\":{\"outlinewidth\":0,\"ticks\":\"\"}}}],\"scattercarpet\":[{\"type\":\"scattercarpet\",\"marker\":{\"colorbar\":{\"outlinewidth\":0,\"ticks\":\"\"}}}],\"carpet\":[{\"aaxis\":{\"endlinecolor\":\"#2a3f5f\",\"gridcolor\":\"white\",\"linecolor\":\"white\",\"minorgridcolor\":\"white\",\"startlinecolor\":\"#2a3f5f\"},\"baxis\":{\"endlinecolor\":\"#2a3f5f\",\"gridcolor\":\"white\",\"linecolor\":\"white\",\"minorgridcolor\":\"white\",\"startlinecolor\":\"#2a3f5f\"},\"type\":\"carpet\"}],\"table\":[{\"cells\":{\"fill\":{\"color\":\"#EBF0F8\"},\"line\":{\"color\":\"white\"}},\"header\":{\"fill\":{\"color\":\"#C8D4E3\"},\"line\":{\"color\":\"white\"}},\"type\":\"table\"}],\"barpolar\":[{\"marker\":{\"line\":{\"color\":\"#E5ECF6\",\"width\":0.5},\"pattern\":{\"fillmode\":\"overlay\",\"size\":10,\"solidity\":0.2}},\"type\":\"barpolar\"}],\"pie\":[{\"automargin\":true,\"type\":\"pie\"}]},\"layout\":{\"autotypenumbers\":\"strict\",\"colorway\":[\"#636efa\",\"#EF553B\",\"#00cc96\",\"#ab63fa\",\"#FFA15A\",\"#19d3f3\",\"#FF6692\",\"#B6E880\",\"#FF97FF\",\"#FECB52\"],\"font\":{\"color\":\"#2a3f5f\"},\"hovermode\":\"closest\",\"hoverlabel\":{\"align\":\"left\"},\"paper_bgcolor\":\"white\",\"plot_bgcolor\":\"#E5ECF6\",\"polar\":{\"bgcolor\":\"#E5ECF6\",\"angularaxis\":{\"gridcolor\":\"white\",\"linecolor\":\"white\",\"ticks\":\"\"},\"radialaxis\":{\"gridcolor\":\"white\",\"linecolor\":\"white\",\"ticks\":\"\"}},\"ternary\":{\"bgcolor\":\"#E5ECF6\",\"aaxis\":{\"gridcolor\":\"white\",\"linecolor\":\"white\",\"ticks\":\"\"},\"baxis\":{\"gridcolor\":\"white\",\"linecolor\":\"white\",\"ticks\":\"\"},\"caxis\":{\"gridcolor\":\"white\",\"linecolor\":\"white\",\"ticks\":\"\"}},\"coloraxis\":{\"colorbar\":{\"outlinewidth\":0,\"ticks\":\"\"}},\"colorscale\":{\"sequential\":[[0.0,\"#0d0887\"],[0.1111111111111111,\"#46039f\"],[0.2222222222222222,\"#7201a8\"],[0.3333333333333333,\"#9c179e\"],[0.4444444444444444,\"#bd3786\"],[0.5555555555555556,\"#d8576b\"],[0.6666666666666666,\"#ed7953\"],[0.7777777777777778,\"#fb9f3a\"],[0.8888888888888888,\"#fdca26\"],[1.0,\"#f0f921\"]],\"sequentialminus\":[[0.0,\"#0d0887\"],[0.1111111111111111,\"#46039f\"],[0.2222222222222222,\"#7201a8\"],[0.3333333333333333,\"#9c179e\"],[0.4444444444444444,\"#bd3786\"],[0.5555555555555556,\"#d8576b\"],[0.6666666666666666,\"#ed7953\"],[0.7777777777777778,\"#fb9f3a\"],[0.8888888888888888,\"#fdca26\"],[1.0,\"#f0f921\"]],\"diverging\":[[0,\"#8e0152\"],[0.1,\"#c51b7d\"],[0.2,\"#de77ae\"],[0.3,\"#f1b6da\"],[0.4,\"#fde0ef\"],[0.5,\"#f7f7f7\"],[0.6,\"#e6f5d0\"],[0.7,\"#b8e186\"],[0.8,\"#7fbc41\"],[0.9,\"#4d9221\"],[1,\"#276419\"]]},\"xaxis\":{\"gridcolor\":\"white\",\"linecolor\":\"white\",\"ticks\":\"\",\"title\":{\"standoff\":15},\"zerolinecolor\":\"white\",\"automargin\":true,\"zerolinewidth\":2},\"yaxis\":{\"gridcolor\":\"white\",\"linecolor\":\"white\",\"ticks\":\"\",\"title\":{\"standoff\":15},\"zerolinecolor\":\"white\",\"automargin\":true,\"zerolinewidth\":2},\"scene\":{\"xaxis\":{\"backgroundcolor\":\"#E5ECF6\",\"gridcolor\":\"white\",\"linecolor\":\"white\",\"showbackground\":true,\"ticks\":\"\",\"zerolinecolor\":\"white\",\"gridwidth\":2},\"yaxis\":{\"backgroundcolor\":\"#E5ECF6\",\"gridcolor\":\"white\",\"linecolor\":\"white\",\"showbackground\":true,\"ticks\":\"\",\"zerolinecolor\":\"white\",\"gridwidth\":2},\"zaxis\":{\"backgroundcolor\":\"#E5ECF6\",\"gridcolor\":\"white\",\"linecolor\":\"white\",\"showbackground\":true,\"ticks\":\"\",\"zerolinecolor\":\"white\",\"gridwidth\":2}},\"shapedefaults\":{\"line\":{\"color\":\"#2a3f5f\"}},\"annotationdefaults\":{\"arrowcolor\":\"#2a3f5f\",\"arrowhead\":0,\"arrowwidth\":1},\"geo\":{\"bgcolor\":\"white\",\"landcolor\":\"#E5ECF6\",\"subunitcolor\":\"white\",\"showland\":true,\"showlakes\":true,\"lakecolor\":\"white\"},\"title\":{\"x\":0.05},\"mapbox\":{\"style\":\"light\"}}},\"title\":{\"text\":\"DGI+ : 3.5394602\"},\"xaxis\":{\"title\":{\"text\":\"Sense Features\"}},\"yaxis\":{\"title\":{\"text\":\"Dimensions\"}}},                        {\"responsive\": true}                    ).then(function(){\n",
       "                            \n",
       "var gd = document.getElementById('00ddb755-848d-4c02-8ba3-1c775fa84d6a');\n",
       "var x = new MutationObserver(function (mutations, observer) {{\n",
       "        var display = window.getComputedStyle(gd).display;\n",
       "        if (!display || display === 'none') {{\n",
       "            console.log([gd, 'removed!']);\n",
       "            Plotly.purge(gd);\n",
       "            observer.disconnect();\n",
       "        }}\n",
       "}});\n",
       "\n",
       "// Listen for the removal of the full notebook cells\n",
       "var notebookContainer = gd.closest('#notebook-container');\n",
       "if (notebookContainer) {{\n",
       "    x.observe(notebookContainer, {childList: true});\n",
       "}}\n",
       "\n",
       "// Listen for the clearing of the current output cell\n",
       "var outputEl = gd.closest('.output');\n",
       "if (outputEl) {{\n",
       "    x.observe(outputEl, {childList: true});\n",
       "}}\n",
       "\n",
       "                        })                };                });            </script>        </div>"
      ]
     },
     "metadata": {},
     "output_type": "display_data"
    }
   ],
   "source": [
    "fig = go.Figure()\n",
    "fig.add_trace(go.Heatmap(z = explain_og,\n",
    "                         x = list(sense_feat_dict), \n",
    "                         ))\n",
    "fig.update_layout(title_text = 'DGI : ' + str(np.linalg.norm(explain_og, ord = 'nuc')), \n",
    "                  xaxis_title_text = 'Sense Features', \n",
    "                  yaxis_title_text = 'Dimensions')\n",
    "\n",
    "fig.show()\n",
    "\n",
    "fig = go.Figure()\n",
    "fig.add_trace(go.Heatmap(z = explain_plus,\n",
    "                         x = list(sense_feat_dict), \n",
    "                         ))\n",
    "fig.update_layout(title_text = 'DGI+ : ' + str(np.linalg.norm(explain_plus, ord = 'nuc')), \n",
    "                  xaxis_title_text = 'Sense Features', \n",
    "                  yaxis_title_text = 'Dimensions')\n",
    "\n",
    "fig.show()"
   ]
  },
  {
   "cell_type": "code",
   "execution_count": 41,
   "id": "ebf98859",
   "metadata": {},
   "outputs": [],
   "source": [
    "Y_plus = embed_plus\n",
    "sense_mat = tf.einsum('ij, ik -> ijk', Y_plus, sense_features)\n",
    "Y_plus_norm = tf.linalg.diag_part(tf.matmul(Y_plus, Y_plus, transpose_b = True), k = 0)\n",
    "sense_norm = tf.linalg.diag_part(tf.matmul(sense_features, sense_features, transpose_b = True), k = 0)\n",
    "norm = Y_plus_norm * tf.cast(sense_norm, tf.float32)\n",
    "D_plus = tf.transpose(tf.transpose(sense_mat) / norm)\n",
    "\n",
    "Y_og = embed_og\n",
    "sense_mat = tf.einsum('ij, ik -> ijk', Y_og, sense_features)\n",
    "Y_og_norm = tf.linalg.diag_part(tf.matmul(Y_og, Y_og, transpose_b = True), k = 0)\n",
    "sense_norm = tf.linalg.diag_part(tf.matmul(sense_features, sense_features, transpose_b = True), k = 0)\n",
    "norm = Y_og_norm * tf.cast(sense_norm, tf.float32)\n",
    "D_og = tf.transpose(tf.transpose(sense_mat) / norm)"
   ]
  },
  {
   "cell_type": "code",
   "execution_count": 42,
   "id": "d798a811",
   "metadata": {},
   "outputs": [
    {
     "name": "stderr",
     "output_type": "stream",
     "text": [
      "100%|███████████████████████████████████████| 986/986 [00:00<00:00, 1233.60it/s]\n",
      "100%|███████████████████████████████████████| 986/986 [00:00<00:00, 1353.92it/s]\n"
     ]
    }
   ],
   "source": [
    "norm_og = [np.linalg.norm(D_og[node, :, :], ord = 'nuc') for node in tqdm(range(len(graph)))]\n",
    "norm_plus = [np.linalg.norm(D_plus[node, :, :], ord = 'nuc') for node in tqdm(range(len(graph)))]\n",
    "\n"
   ]
  },
  {
   "cell_type": "code",
   "execution_count": 43,
   "id": "5e8cf64a",
   "metadata": {},
   "outputs": [
    {
     "data": {
      "application/vnd.plotly.v1+json": {
       "config": {
        "plotlyServerURL": "https://plot.ly"
       },
       "data": [
        {
         "type": "histogram",
         "x": [
          1.018369436264038,
          0.986163854598999,
          0.5099747776985168,
          0.700556755065918,
          0.5958702564239502,
          0.2612376809120178,
          0.48981258273124695,
          0.557534396648407,
          0.9691223502159119,
          0.7464010715484619,
          1.068110466003418,
          0.6333445310592651,
          0.7757638096809387,
          0.37823575735092163,
          0.6863995790481567,
          0.7924165725708008,
          0.988073468208313,
          0.5926226377487183,
          1.154525637626648,
          0.7515909671783447,
          0.7333753108978271,
          0.46432071924209595,
          1.4876320362091064,
          0.69579017162323,
          0.684542179107666,
          1.0674039125442505,
          0.9175927639007568,
          0.6441720724105835,
          0.637485146522522,
          0.859296441078186,
          0.8029569387435913,
          1.0328103303909302,
          0.9553114175796509,
          1.0576260089874268,
          0.8791507482528687,
          0.948660135269165,
          1.1298272609710693,
          0.9146313071250916,
          0.8096880316734314,
          1.0870286226272583,
          0.6684423685073853,
          0.7442338466644287,
          0.9454026222229004,
          1.0093785524368286,
          0.5180692672729492,
          0.8784291744232178,
          0.7982521653175354,
          0.9025872945785522,
          0.7111988067626953,
          1.2221938371658325,
          1.187783122062683,
          0.8589329719543457,
          1.0679090023040771,
          1.33417546749115,
          0.7974443435668945,
          0.8380682468414307,
          0.7222413420677185,
          0.6086227893829346,
          0.5268365740776062,
          0.6723861694335938,
          0.7199726104736328,
          0.8167459964752197,
          0.32638823986053467,
          0.5561468601226807,
          0.4514763355255127,
          0.39681753516197205,
          0.7683606743812561,
          1.7668955326080322,
          1.0994242429733276,
          0.6613120436668396,
          1.466662049293518,
          1.0433756113052368,
          1.205914855003357,
          1.2062989473342896,
          0.7211781740188599,
          1.1839778423309326,
          1.013124704360962,
          1.2367655038833618,
          1.3444582223892212,
          1.0453139543533325,
          0.8442354202270508,
          0.6102850437164307,
          0.26950785517692566,
          0.5063557028770447,
          0.4155184328556061,
          1.1947332620620728,
          0.2897762060165405,
          0.5783202052116394,
          0.8164031505584717,
          0.6010079383850098,
          1.2494847774505615,
          0.9293588399887085,
          0.9601187705993652,
          0.6581171154975891,
          0.9049652814865112,
          0.9575786590576172,
          0.36045774817466736,
          0.8347687721252441,
          1.0568060874938965,
          1.0280544757843018,
          0.7905104756355286,
          0.9584976434707642,
          1.0305473804473877,
          0.8819991946220398,
          1.0088729858398438,
          0.5831463932991028,
          0.4995867908000946,
          0.2874595522880554,
          0.755057692527771,
          2.0741982460021973,
          1.1516106128692627,
          1.228627324104309,
          1.2144910097122192,
          0.7710435390472412,
          0.517967939376831,
          0.6053547859191895,
          0.7432879209518433,
          1.507039189338684,
          1.3375492095947266,
          1.3081932067871094,
          1.519986629486084,
          0.25423669815063477,
          1.254776954650879,
          1.3119635581970215,
          0.7289376258850098,
          0.8360005617141724,
          1.0508792400360107,
          1.4648343324661255,
          0.5240027904510498,
          0.4530438482761383,
          1.0161466598510742,
          0.8982364535331726,
          0.8951096534729004,
          0.5568800568580627,
          1.0841715335845947,
          1.067183017730713,
          1.077924132347107,
          0.6034206748008728,
          1.00006103515625,
          0.8448699116706848,
          0.7534123659133911,
          0.6526535749435425,
          0.5229402780532837,
          1.0916343927383423,
          1.3969402313232422,
          0.8515613079071045,
          1.3028613328933716,
          1.1805137395858765,
          1.3706614971160889,
          1.107396125793457,
          0.9872943162918091,
          0.9788546562194824,
          0.8027043342590332,
          0.9837650060653687,
          0.9806581735610962,
          0.6914240121841431,
          1.169577956199646,
          0.5424081087112427,
          0.856579601764679,
          0.9570512175559998,
          0.12014374136924744,
          1.0324909687042236,
          0.909834623336792,
          0.8849972486495972,
          0.9385199546813965,
          0.521589994430542,
          0.29006296396255493,
          0.5811493396759033,
          0.8228343725204468,
          0.6638761758804321,
          0.6779026985168457,
          1.001075029373169,
          0.7908570766448975,
          0.7732667922973633,
          0.8347408771514893,
          1.4193956851959229,
          1.088163137435913,
          0.8616302013397217,
          1.0057651996612549,
          0.9287905693054199,
          0.8302552700042725,
          0.6593729853630066,
          0.7287490963935852,
          0.451171338558197,
          0.737518310546875,
          0.6926512718200684,
          1.172391653060913,
          1.0429129600524902,
          1.196183204650879,
          0.48656877875328064,
          1.3421639204025269,
          0.614652156829834,
          0.8758809566497803,
          0.8673074841499329,
          0.7932167053222656,
          0.8879157304763794,
          1.0735639333724976,
          1.0982521772384644,
          1.0989203453063965,
          0.9081509709358215,
          0.8952668905258179,
          1.0081771612167358,
          1.6104843616485596,
          1.13799250125885,
          0.988890528678894,
          1.0540529489517212,
          0.6663323640823364,
          1.2979736328125,
          0.9714182019233704,
          0.5887718200683594,
          0.7749961614608765,
          0.29261255264282227,
          0.5636193752288818,
          0.7750924825668335,
          1.0373998880386353,
          0.6892447471618652,
          1.0910460948944092,
          1.0625455379486084,
          0.750275194644928,
          1.6393073797225952,
          1.789617896080017,
          1.0130199193954468,
          0.8048059940338135,
          0.9725381135940552,
          1.714446783065796,
          1.306542158126831,
          0.9339189529418945,
          1.675811529159546,
          1.5855257511138916,
          1.3613735437393188,
          1.1226547956466675,
          0.6361382007598877,
          0.5729067325592041,
          0.8199819922447205,
          0.798895001411438,
          1.0962443351745605,
          1.0000685453414917,
          1.036956787109375,
          0.8487931489944458,
          1.7388653755187988,
          1.1238386631011963,
          1.0897084474563599,
          0.834195613861084,
          0.9500386714935303,
          1.272525668144226,
          0.9546476602554321,
          1.148544430732727,
          1.0905779600143433,
          1.1850746870040894,
          0.48358258605003357,
          1.0296381711959839,
          1.0537153482437134,
          0.45849794149398804,
          1.1271477937698364,
          0.8542364239692688,
          1.008033275604248,
          0.6433445811271667,
          1.4169331789016724,
          0.6435677409172058,
          1.0458701848983765,
          1.2121886014938354,
          0.868743896484375,
          1.1162197589874268,
          0.8233343362808228,
          0.9317504167556763,
          0.8213202953338623,
          1.0463446378707886,
          1.0381158590316772,
          1.1411142349243164,
          0.6028246879577637,
          1.8382567167282104,
          0.7836744785308838,
          0.8571937084197998,
          0.9077773094177246,
          1.1098560094833374,
          0.9588617086410522,
          1.7209138870239258,
          1.2151926755905151,
          1.059938669204712,
          1.5869579315185547,
          0.5617465972900391,
          0.9017984867095947,
          0.4767102003097534,
          0.4605230987071991,
          0.9096798896789551,
          0.6065877079963684,
          0.9494497776031494,
          1.2027415037155151,
          0.9017354249954224,
          2.0316672325134277,
          0.7036001682281494,
          1.1469801664352417,
          1.2975058555603027,
          1.0592033863067627,
          1.164488673210144,
          0.5524964332580566,
          0.765715479850769,
          1.1698133945465088,
          1.3984369039535522,
          0.9724954962730408,
          0.7359163761138916,
          0.41431930661201477,
          1.451052188873291,
          0.5877366065979004,
          1.076380968093872,
          0.7744325995445251,
          1.0165879726409912,
          1.4693676233291626,
          1.174401044845581,
          1.0823220014572144,
          1.5592674016952515,
          1.0099296569824219,
          1.3915798664093018,
          1.253641128540039,
          0.9987481832504272,
          1.74886155128479,
          0.9074552059173584,
          1.515395164489746,
          0.975719690322876,
          1.1213277578353882,
          0.7049506902694702,
          0.6298476457595825,
          0.6803238391876221,
          0.9296481013298035,
          1.2549039125442505,
          1.1306140422821045,
          1.319369912147522,
          1.0227265357971191,
          1.1884268522262573,
          0.6861366629600525,
          1.4808604717254639,
          1.2321159839630127,
          0.8686589002609253,
          0.44639742374420166,
          0.8007557392120361,
          0.6531091332435608,
          1.1754803657531738,
          1.0809776782989502,
          0.8588804006576538,
          0.7089461088180542,
          0.4527851343154907,
          1.4182300567626953,
          0.6985705494880676,
          1.6860120296478271,
          1.1055662631988525,
          1.3504928350448608,
          1.524928331375122,
          1.4588360786437988,
          1.2789205312728882,
          1.227847695350647,
          1.012813925743103,
          0.8845789432525635,
          1.2572604417800903,
          0.6497645974159241,
          1.0022281408309937,
          0.9447513818740845,
          1.0872191190719604,
          1.1138323545455933,
          0.5736056566238403,
          0.88079833984375,
          1.2066607475280762,
          0.8668457269668579,
          0.9489783048629761,
          0.8765362501144409,
          1.5918231010437012,
          0.8667627573013306,
          0.7657018899917603,
          0.7861286401748657,
          1.001576542854309,
          1.1317236423492432,
          0.9278998374938965,
          0.7501901388168335,
          1.3173940181732178,
          1.1198660135269165,
          0.8735586404800415,
          0.6372058987617493,
          0.6604675054550171,
          0.1987837255001068,
          1.0302151441574097,
          0.6792765259742737,
          0.7285252809524536,
          0.8566911220550537,
          1.3761858940124512,
          1.1014353036880493,
          1.4379551410675049,
          1.0534791946411133,
          1.6852432489395142,
          0.9874141216278076,
          1.0604381561279297,
          0.9798739552497864,
          0.8115702867507935,
          1.153001308441162,
          1.097419261932373,
          0.6455072164535522,
          0.8928670287132263,
          1.1168619394302368,
          1.1741304397583008,
          0.8933229446411133,
          1.3477493524551392,
          1.4593859910964966,
          1.1972330808639526,
          0.5779586434364319,
          1.6063728332519531,
          1.472773551940918,
          0.6457680463790894,
          0.4772007465362549,
          0.8001570701599121,
          0.9095835089683533,
          0.6257259249687195,
          0.639186441898346,
          1.591044306755066,
          0.38248634338378906,
          0.5886354446411133,
          1.1160565614700317,
          0.31404271721839905,
          1.660984992980957,
          1.859116792678833,
          0.7096874117851257,
          1.1920287609100342,
          0.8099483251571655,
          0.3376612663269043,
          1.25062894821167,
          1.2297428846359253,
          0.8807794451713562,
          0.5964455604553223,
          0.6005164384841919,
          0.8746318817138672,
          0.9615001678466797,
          0.8395100831985474,
          0.8294949531555176,
          1.0021674633026123,
          1.237694501876831,
          1.1799867153167725,
          1.088882565498352,
          0.42475956678390503,
          0.921267032623291,
          1.2019630670547485,
          0.8236674070358276,
          0.6212409734725952,
          1.2797249555587769,
          0.77647465467453,
          0.9467909932136536,
          1.1453132629394531,
          0.7649704217910767,
          0.9982291460037231,
          1.3410751819610596,
          0.8925598859786987,
          0.8405518531799316,
          0.8372921943664551,
          0.9223811030387878,
          0.7250714302062988,
          1.2737421989440918,
          0.6676439642906189,
          1.173954963684082,
          1.6968802213668823,
          0.6764161586761475,
          0.9244791269302368,
          1.4179980754852295,
          0.9956439733505249,
          0.641822099685669,
          1.2468905448913574,
          0.8324599266052246,
          0.7723232507705688,
          0.770695686340332,
          0.89304518699646,
          1.5768513679504395,
          0.7892050743103027,
          1.4827944040298462,
          1.5921661853790283,
          1.0515815019607544,
          0.9725127220153809,
          1.7344071865081787,
          1.491174578666687,
          0.6763901710510254,
          0.6984235048294067,
          1.2411653995513916,
          1.2858484983444214,
          0.9896657466888428,
          0.9405721426010132,
          1.4605519771575928,
          1.0131847858428955,
          0.9286760091781616,
          0.8920685052871704,
          1.0051225423812866,
          1.407883882522583,
          1.2695012092590332,
          1.0703197717666626,
          1.0845210552215576,
          1.3672888278961182,
          1.41063392162323,
          1.2810169458389282,
          1.095386266708374,
          1.2839285135269165,
          0.7066563963890076,
          0.48772934079170227,
          0.7795571088790894,
          1.2899367809295654,
          1.3978793621063232,
          0.6314471960067749,
          0.6472691893577576,
          0.9453532099723816,
          1.2447799444198608,
          0.8038008809089661,
          1.168176531791687,
          0.7498948574066162,
          1.1814842224121094,
          0.6465678215026855,
          1.691127061843872,
          1.0436558723449707,
          0.6189005970954895,
          1.1656955480575562,
          1.323983907699585,
          1.6800364255905151,
          0.8258384466171265,
          1.1557551622390747,
          0.9535876512527466,
          0.7907723188400269,
          0.9752907156944275,
          0.7191331386566162,
          1.211897373199463,
          0.8157386183738708,
          0.9879308938980103,
          1.3607792854309082,
          1.1187734603881836,
          0.7846534252166748,
          0.7478442192077637,
          0.7666043043136597,
          1.2481822967529297,
          1.6848386526107788,
          0.8957688808441162,
          1.6386042833328247,
          0.9248767495155334,
          1.3232260942459106,
          0.4670582711696625,
          1.5465047359466553,
          1.4054981470108032,
          1.723872423171997,
          1.2250944375991821,
          1.328589916229248,
          1.529459834098816,
          1.6002678871154785,
          1.3294707536697388,
          1.275331735610962,
          0.8379131555557251,
          1.0353869199752808,
          1.0460110902786255,
          0.5277916193008423,
          0.9118138551712036,
          1.2844982147216797,
          0.5119815468788147,
          1.3306421041488647,
          1.3218181133270264,
          1.0212986469268799,
          1.109731674194336,
          1.2403279542922974,
          1.4750890731811523,
          1.5695186853408813,
          1.4366594552993774,
          1.3136719465255737,
          1.2153576612472534,
          0.6246013641357422,
          0.9461416602134705,
          1.1183900833129883,
          1.2188950777053833,
          1.0457628965377808,
          1.2469862699508667,
          0.9598680734634399,
          1.1388719081878662,
          1.133860468864441,
          0.7551863193511963,
          0.9264223575592041,
          1.3544262647628784,
          1.2434673309326172,
          1.1799397468566895,
          1.56686532497406,
          1.4088726043701172,
          1.603057622909546,
          1.1373777389526367,
          1.0175012350082397,
          0.9495377540588379,
          1.0874215364456177,
          1.5446608066558838,
          0.9188669919967651,
          1.4026999473571777,
          1.5727373361587524,
          1.2397936582565308,
          1.2689299583435059,
          1.057871699333191,
          1.3719685077667236,
          1.0621428489685059,
          1.6409270763397217,
          0.6554347276687622,
          0.8431485295295715,
          1.451249122619629,
          1.4395277500152588,
          1.511953353881836,
          1.4260625839233398,
          1.1626150608062744,
          1.3682644367218018,
          1.3027294874191284,
          1.3476253747940063,
          1.2773895263671875,
          0.9223811030387878,
          1.678004503250122,
          0.8424433469772339,
          1.3373615741729736,
          1.3797783851623535,
          0.9762041568756104,
          1.273924708366394,
          1.1688158512115479,
          1.20480477809906,
          0.8880366086959839,
          1.145776629447937,
          1.2609033584594727,
          0.9880529642105103,
          1.8169515132904053,
          1.101784110069275,
          0.9784839153289795,
          1.334092140197754,
          0.9151492118835449,
          1.395345687866211,
          0.999500036239624,
          1.3599839210510254,
          2.046152114868164,
          1.1769181489944458,
          1.2252966165542603,
          1.5731921195983887,
          0.9849725961685181,
          1.740386962890625,
          0.6125776767730713,
          0.723456859588623,
          0.7626364827156067,
          0.523840606212616,
          0.9787979125976562,
          1.0590288639068604,
          0.8294639587402344,
          1.2107394933700562,
          1.4902031421661377,
          1.0647740364074707,
          1.0111362934112549,
          1.5394883155822754,
          1.5487077236175537,
          1.7528250217437744,
          1.372536063194275,
          0.9811594486236572,
          1.532795786857605,
          1.5424330234527588,
          1.398606300354004,
          1.330152988433838,
          1.859511137008667,
          0.8982882499694824,
          1.2594051361083984,
          1.3442960977554321,
          0.9779488444328308,
          1.0591086149215698,
          0.7654717564582825,
          1.2952017784118652,
          1.2415928840637207,
          1.644953727722168,
          1.2412524223327637,
          1.1166903972625732,
          1.2511848211288452,
          1.4143638610839844,
          1.3630950450897217,
          1.1748844385147095,
          1.3571828603744507,
          1.1057811975479126,
          0.9724559783935547,
          1.2770817279815674,
          1.142621636390686,
          1.275594711303711,
          1.3909705877304077,
          1.1678589582443237,
          1.3365980386734009,
          1.4077624082565308,
          1.1518549919128418,
          0.8209040760993958,
          1.7575162649154663,
          1.5524665117263794,
          0.9731740951538086,
          1.0195295810699463,
          1.4979891777038574,
          1.7053035497665405,
          1.4111034870147705,
          1.6508936882019043,
          1.2490094900131226,
          1.3785685300827026,
          1.3920621871948242,
          0.9415842890739441,
          0.9144978523254395,
          0.8788676261901855,
          0.9461416602134705,
          1.164661169052124,
          1.0578763484954834,
          1.536450743675232,
          1.5821025371551514,
          0.8345140218734741,
          1.0620794296264648,
          0.9716032147407532,
          1.2062033414840698,
          1.1544547080993652,
          1.0732648372650146,
          1.3619598150253296,
          1.8992836475372314,
          1.0605344772338867,
          1.4749796390533447,
          1.3560017347335815,
          1.1757811307907104,
          1.0035573244094849,
          1.0543334484100342,
          1.522529125213623,
          1.080058217048645,
          1.0616565942764282,
          1.3688569068908691,
          1.5635030269622803,
          2.173600673675537,
          1.1910885572433472,
          1.7986160516738892,
          2.037996292114258,
          1.081666111946106,
          1.7402403354644775,
          0.9575991034507751,
          1.4153752326965332,
          0.8196477890014648,
          0.9902709126472473,
          1.9083598852157593,
          1.9241920709609985,
          1.0364166498184204,
          1.3471653461456299,
          0.6078949570655823,
          1.5559961795806885,
          1.110479474067688,
          1.2070527076721191,
          1.7087472677230835,
          0.8745424747467041,
          1.5601956844329834,
          1.8470335006713867,
          1.0262179374694824,
          1.055206537246704,
          1.1516789197921753,
          1.2282699346542358,
          1.1610965728759766,
          1.7169827222824097,
          1.49030601978302,
          1.4739524126052856,
          1.342665672302246,
          0.7299225330352783,
          1.0605344772338867,
          1.822393536567688,
          1.1609587669372559,
          0.8570930361747742,
          1.7876496315002441,
          0.8549347519874573,
          1.5055711269378662,
          0.9687483310699463,
          1.743499755859375,
          0.8363268375396729,
          0.9899216890335083,
          1.0199484825134277,
          0.9341377019882202,
          0.9984841346740723,
          1.9257961511611938,
          1.9487885236740112,
          1.3662776947021484,
          1.7145367860794067,
          1.2732123136520386,
          1.6173241138458252,
          0.828174352645874,
          1.5785688161849976,
          1.5830702781677246,
          1.2247343063354492,
          0.705801248550415,
          1.8363906145095825,
          0.9196102619171143,
          1.6799206733703613,
          0.9090394973754883,
          1.785180687904358,
          0.783005952835083,
          1.2325708866119385,
          1.3644230365753174,
          1.5387849807739258,
          1.6256953477859497,
          1.9675086736679077,
          1.19319748878479,
          1.3558813333511353,
          0.9251714944839478,
          1.2800849676132202,
          1.420041799545288,
          0.8421212434768677,
          1.4708218574523926,
          0.8281235098838806,
          1.6198115348815918,
          1.5297646522521973,
          0.8225246667861938,
          0.9016019105911255,
          1.7564833164215088,
          1.2632969617843628,
          1.0361828804016113,
          1.3277289867401123,
          1.8042470216751099,
          1.2753548622131348,
          0.5853222608566284,
          1.0446012020111084,
          1.3962643146514893,
          0.9194955825805664,
          1.462458610534668,
          0.8238118886947632,
          0.8585027456283569,
          0.9871534109115601,
          1.2443554401397705,
          1.6505162715911865,
          0.9012846350669861,
          1.4664028882980347,
          0.9206985831260681,
          1.409173846244812,
          0.9648010730743408,
          1.6288249492645264,
          1.2300207614898682,
          1.0578763484954834,
          0.9401029348373413,
          1.7309268712997437,
          1.3872894048690796,
          1.2042865753173828,
          1.1529948711395264,
          0.9365161657333374,
          1.582226037979126,
          0.915201723575592,
          0.4006384015083313,
          0.9127064347267151,
          1.2184906005859375,
          1.6277039051055908,
          1.6723272800445557,
          1.0978236198425293,
          1.381951928138733,
          0.9220297336578369,
          1.535947561264038,
          2.005183458328247,
          0.7426496744155884,
          1.6082661151885986,
          1.000572681427002,
          0.7361037731170654,
          0.9337387084960938,
          1.2503491640090942,
          0.9349647760391235,
          0.9322808980941772,
          1.0066297054290771,
          1.0419763326644897,
          1.5526608228683472,
          1.672676920890808,
          1.6216130256652832,
          1.2247353792190552,
          1.202850580215454,
          1.4785882234573364,
          1.747107744216919,
          0.955711841583252,
          1.202850580215454,
          1.0190868377685547,
          0.992729663848877,
          1.814437747001648,
          1.1460829973220825,
          0.8855513334274292,
          1.055727481842041,
          1.2872964143753052,
          0.9944414496421814,
          1.1645320653915405,
          0.8261885643005371,
          1.2509260177612305,
          1.4151991605758667,
          0.958996593952179,
          0.9797444343566895,
          1.2536447048187256,
          1.023533582687378,
          0.9300488829612732,
          1.1330817937850952,
          1.1755528450012207,
          0.9475791454315186,
          1.2705769538879395,
          1.2060595750808716,
          1.2786750793457031,
          0.9405547380447388,
          0.9873749017715454,
          1.1163830757141113,
          0.9739619493484497,
          1.119753360748291,
          1.0396246910095215,
          1.262115716934204,
          1.1871092319488525,
          1.7575856447219849,
          1.1074879169464111,
          0.9252001047134399,
          1.6598832607269287,
          1.4092785120010376,
          1.2558417320251465,
          1.4995993375778198,
          0.9797787666320801,
          1.1831609010696411,
          1.2112531661987305,
          0.9223811030387878,
          0.888154149055481,
          0.8748898506164551,
          1.135138750076294,
          1.0333737134933472,
          1.2958214282989502,
          1.2211406230926514,
          0.7091434001922607,
          1.331829309463501,
          1.0126235485076904,
          1.039329171180725,
          0.7677001357078552,
          1.1516789197921753,
          0.8775836229324341,
          0.9985556602478027,
          1.0229309797286987,
          0.7358985543251038,
          0.8451789617538452,
          1.7820452451705933,
          1.217785358428955,
          0.8726206421852112,
          1.0795034170150757,
          0.8954155445098877,
          1.7121864557266235,
          1.1729710102081299,
          1.3921208381652832,
          1.5489041805267334,
          1.4546440839767456,
          1.2586274147033691,
          1.1626524925231934,
          0.8501062393188477,
          1.0536315441131592,
          1.1673027276992798,
          1.0459070205688477,
          1.424482822418213,
          1.1191421747207642,
          1.020470380783081,
          1.0823934078216553,
          1.4691468477249146,
          1.2176865339279175,
          1.3706440925598145,
          1.2552275657653809,
          0.9650062322616577,
          1.2289214134216309,
          1.2289214134216309,
          1.2289214134216309,
          0.8612373471260071,
          0.9975012540817261,
          1.5346728563308716,
          1.2884080410003662,
          1.1737686395645142,
          1.4267537593841553,
          0.7136231660842896,
          0.9867093563079834,
          1.8482956886291504,
          0.2756437659263611,
          1.1263854503631592,
          1.0005409717559814,
          1.3149213790893555,
          1.0005409717559814,
          0.7783961892127991,
          0.725338876247406,
          1.0841490030288696,
          1.6636637449264526,
          1.3412073850631714,
          0.7783961892127991,
          0.9739619493484497,
          1.3068207502365112,
          1.6022226810455322,
          1.1784776449203491,
          1.3724277019500732,
          1.2694239616394043,
          0.9770110249519348,
          0.7158182263374329,
          1.0499640703201294,
          1.0903356075286865,
          1.1043994426727295,
          0.9116299152374268,
          1.3608739376068115,
          0.7751644849777222,
          1.35745370388031,
          1.0377088785171509,
          1.4092785120010376,
          1.217646598815918,
          1.5402485132217407,
          1.003165364265442,
          1.0199484825134277,
          1.4664028882980347,
          0.8266693353652954
         ]
        }
       ],
       "layout": {
        "font": {
         "size": 30
        },
        "paper_bgcolor": "white",
        "plot_bgcolor": "white",
        "template": {
         "data": {
          "bar": [
           {
            "error_x": {
             "color": "#2a3f5f"
            },
            "error_y": {
             "color": "#2a3f5f"
            },
            "marker": {
             "line": {
              "color": "#E5ECF6",
              "width": 0.5
             },
             "pattern": {
              "fillmode": "overlay",
              "size": 10,
              "solidity": 0.2
             }
            },
            "type": "bar"
           }
          ],
          "barpolar": [
           {
            "marker": {
             "line": {
              "color": "#E5ECF6",
              "width": 0.5
             },
             "pattern": {
              "fillmode": "overlay",
              "size": 10,
              "solidity": 0.2
             }
            },
            "type": "barpolar"
           }
          ],
          "carpet": [
           {
            "aaxis": {
             "endlinecolor": "#2a3f5f",
             "gridcolor": "white",
             "linecolor": "white",
             "minorgridcolor": "white",
             "startlinecolor": "#2a3f5f"
            },
            "baxis": {
             "endlinecolor": "#2a3f5f",
             "gridcolor": "white",
             "linecolor": "white",
             "minorgridcolor": "white",
             "startlinecolor": "#2a3f5f"
            },
            "type": "carpet"
           }
          ],
          "choropleth": [
           {
            "colorbar": {
             "outlinewidth": 0,
             "ticks": ""
            },
            "type": "choropleth"
           }
          ],
          "contour": [
           {
            "colorbar": {
             "outlinewidth": 0,
             "ticks": ""
            },
            "colorscale": [
             [
              0,
              "#0d0887"
             ],
             [
              0.1111111111111111,
              "#46039f"
             ],
             [
              0.2222222222222222,
              "#7201a8"
             ],
             [
              0.3333333333333333,
              "#9c179e"
             ],
             [
              0.4444444444444444,
              "#bd3786"
             ],
             [
              0.5555555555555556,
              "#d8576b"
             ],
             [
              0.6666666666666666,
              "#ed7953"
             ],
             [
              0.7777777777777778,
              "#fb9f3a"
             ],
             [
              0.8888888888888888,
              "#fdca26"
             ],
             [
              1,
              "#f0f921"
             ]
            ],
            "type": "contour"
           }
          ],
          "contourcarpet": [
           {
            "colorbar": {
             "outlinewidth": 0,
             "ticks": ""
            },
            "type": "contourcarpet"
           }
          ],
          "heatmap": [
           {
            "colorbar": {
             "outlinewidth": 0,
             "ticks": ""
            },
            "colorscale": [
             [
              0,
              "#0d0887"
             ],
             [
              0.1111111111111111,
              "#46039f"
             ],
             [
              0.2222222222222222,
              "#7201a8"
             ],
             [
              0.3333333333333333,
              "#9c179e"
             ],
             [
              0.4444444444444444,
              "#bd3786"
             ],
             [
              0.5555555555555556,
              "#d8576b"
             ],
             [
              0.6666666666666666,
              "#ed7953"
             ],
             [
              0.7777777777777778,
              "#fb9f3a"
             ],
             [
              0.8888888888888888,
              "#fdca26"
             ],
             [
              1,
              "#f0f921"
             ]
            ],
            "type": "heatmap"
           }
          ],
          "heatmapgl": [
           {
            "colorbar": {
             "outlinewidth": 0,
             "ticks": ""
            },
            "colorscale": [
             [
              0,
              "#0d0887"
             ],
             [
              0.1111111111111111,
              "#46039f"
             ],
             [
              0.2222222222222222,
              "#7201a8"
             ],
             [
              0.3333333333333333,
              "#9c179e"
             ],
             [
              0.4444444444444444,
              "#bd3786"
             ],
             [
              0.5555555555555556,
              "#d8576b"
             ],
             [
              0.6666666666666666,
              "#ed7953"
             ],
             [
              0.7777777777777778,
              "#fb9f3a"
             ],
             [
              0.8888888888888888,
              "#fdca26"
             ],
             [
              1,
              "#f0f921"
             ]
            ],
            "type": "heatmapgl"
           }
          ],
          "histogram": [
           {
            "marker": {
             "pattern": {
              "fillmode": "overlay",
              "size": 10,
              "solidity": 0.2
             }
            },
            "type": "histogram"
           }
          ],
          "histogram2d": [
           {
            "colorbar": {
             "outlinewidth": 0,
             "ticks": ""
            },
            "colorscale": [
             [
              0,
              "#0d0887"
             ],
             [
              0.1111111111111111,
              "#46039f"
             ],
             [
              0.2222222222222222,
              "#7201a8"
             ],
             [
              0.3333333333333333,
              "#9c179e"
             ],
             [
              0.4444444444444444,
              "#bd3786"
             ],
             [
              0.5555555555555556,
              "#d8576b"
             ],
             [
              0.6666666666666666,
              "#ed7953"
             ],
             [
              0.7777777777777778,
              "#fb9f3a"
             ],
             [
              0.8888888888888888,
              "#fdca26"
             ],
             [
              1,
              "#f0f921"
             ]
            ],
            "type": "histogram2d"
           }
          ],
          "histogram2dcontour": [
           {
            "colorbar": {
             "outlinewidth": 0,
             "ticks": ""
            },
            "colorscale": [
             [
              0,
              "#0d0887"
             ],
             [
              0.1111111111111111,
              "#46039f"
             ],
             [
              0.2222222222222222,
              "#7201a8"
             ],
             [
              0.3333333333333333,
              "#9c179e"
             ],
             [
              0.4444444444444444,
              "#bd3786"
             ],
             [
              0.5555555555555556,
              "#d8576b"
             ],
             [
              0.6666666666666666,
              "#ed7953"
             ],
             [
              0.7777777777777778,
              "#fb9f3a"
             ],
             [
              0.8888888888888888,
              "#fdca26"
             ],
             [
              1,
              "#f0f921"
             ]
            ],
            "type": "histogram2dcontour"
           }
          ],
          "mesh3d": [
           {
            "colorbar": {
             "outlinewidth": 0,
             "ticks": ""
            },
            "type": "mesh3d"
           }
          ],
          "parcoords": [
           {
            "line": {
             "colorbar": {
              "outlinewidth": 0,
              "ticks": ""
             }
            },
            "type": "parcoords"
           }
          ],
          "pie": [
           {
            "automargin": true,
            "type": "pie"
           }
          ],
          "scatter": [
           {
            "fillpattern": {
             "fillmode": "overlay",
             "size": 10,
             "solidity": 0.2
            },
            "type": "scatter"
           }
          ],
          "scatter3d": [
           {
            "line": {
             "colorbar": {
              "outlinewidth": 0,
              "ticks": ""
             }
            },
            "marker": {
             "colorbar": {
              "outlinewidth": 0,
              "ticks": ""
             }
            },
            "type": "scatter3d"
           }
          ],
          "scattercarpet": [
           {
            "marker": {
             "colorbar": {
              "outlinewidth": 0,
              "ticks": ""
             }
            },
            "type": "scattercarpet"
           }
          ],
          "scattergeo": [
           {
            "marker": {
             "colorbar": {
              "outlinewidth": 0,
              "ticks": ""
             }
            },
            "type": "scattergeo"
           }
          ],
          "scattergl": [
           {
            "marker": {
             "colorbar": {
              "outlinewidth": 0,
              "ticks": ""
             }
            },
            "type": "scattergl"
           }
          ],
          "scattermapbox": [
           {
            "marker": {
             "colorbar": {
              "outlinewidth": 0,
              "ticks": ""
             }
            },
            "type": "scattermapbox"
           }
          ],
          "scatterpolar": [
           {
            "marker": {
             "colorbar": {
              "outlinewidth": 0,
              "ticks": ""
             }
            },
            "type": "scatterpolar"
           }
          ],
          "scatterpolargl": [
           {
            "marker": {
             "colorbar": {
              "outlinewidth": 0,
              "ticks": ""
             }
            },
            "type": "scatterpolargl"
           }
          ],
          "scatterternary": [
           {
            "marker": {
             "colorbar": {
              "outlinewidth": 0,
              "ticks": ""
             }
            },
            "type": "scatterternary"
           }
          ],
          "surface": [
           {
            "colorbar": {
             "outlinewidth": 0,
             "ticks": ""
            },
            "colorscale": [
             [
              0,
              "#0d0887"
             ],
             [
              0.1111111111111111,
              "#46039f"
             ],
             [
              0.2222222222222222,
              "#7201a8"
             ],
             [
              0.3333333333333333,
              "#9c179e"
             ],
             [
              0.4444444444444444,
              "#bd3786"
             ],
             [
              0.5555555555555556,
              "#d8576b"
             ],
             [
              0.6666666666666666,
              "#ed7953"
             ],
             [
              0.7777777777777778,
              "#fb9f3a"
             ],
             [
              0.8888888888888888,
              "#fdca26"
             ],
             [
              1,
              "#f0f921"
             ]
            ],
            "type": "surface"
           }
          ],
          "table": [
           {
            "cells": {
             "fill": {
              "color": "#EBF0F8"
             },
             "line": {
              "color": "white"
             }
            },
            "header": {
             "fill": {
              "color": "#C8D4E3"
             },
             "line": {
              "color": "white"
             }
            },
            "type": "table"
           }
          ]
         },
         "layout": {
          "annotationdefaults": {
           "arrowcolor": "#2a3f5f",
           "arrowhead": 0,
           "arrowwidth": 1
          },
          "autotypenumbers": "strict",
          "coloraxis": {
           "colorbar": {
            "outlinewidth": 0,
            "ticks": ""
           }
          },
          "colorscale": {
           "diverging": [
            [
             0,
             "#8e0152"
            ],
            [
             0.1,
             "#c51b7d"
            ],
            [
             0.2,
             "#de77ae"
            ],
            [
             0.3,
             "#f1b6da"
            ],
            [
             0.4,
             "#fde0ef"
            ],
            [
             0.5,
             "#f7f7f7"
            ],
            [
             0.6,
             "#e6f5d0"
            ],
            [
             0.7,
             "#b8e186"
            ],
            [
             0.8,
             "#7fbc41"
            ],
            [
             0.9,
             "#4d9221"
            ],
            [
             1,
             "#276419"
            ]
           ],
           "sequential": [
            [
             0,
             "#0d0887"
            ],
            [
             0.1111111111111111,
             "#46039f"
            ],
            [
             0.2222222222222222,
             "#7201a8"
            ],
            [
             0.3333333333333333,
             "#9c179e"
            ],
            [
             0.4444444444444444,
             "#bd3786"
            ],
            [
             0.5555555555555556,
             "#d8576b"
            ],
            [
             0.6666666666666666,
             "#ed7953"
            ],
            [
             0.7777777777777778,
             "#fb9f3a"
            ],
            [
             0.8888888888888888,
             "#fdca26"
            ],
            [
             1,
             "#f0f921"
            ]
           ],
           "sequentialminus": [
            [
             0,
             "#0d0887"
            ],
            [
             0.1111111111111111,
             "#46039f"
            ],
            [
             0.2222222222222222,
             "#7201a8"
            ],
            [
             0.3333333333333333,
             "#9c179e"
            ],
            [
             0.4444444444444444,
             "#bd3786"
            ],
            [
             0.5555555555555556,
             "#d8576b"
            ],
            [
             0.6666666666666666,
             "#ed7953"
            ],
            [
             0.7777777777777778,
             "#fb9f3a"
            ],
            [
             0.8888888888888888,
             "#fdca26"
            ],
            [
             1,
             "#f0f921"
            ]
           ]
          },
          "colorway": [
           "#636efa",
           "#EF553B",
           "#00cc96",
           "#ab63fa",
           "#FFA15A",
           "#19d3f3",
           "#FF6692",
           "#B6E880",
           "#FF97FF",
           "#FECB52"
          ],
          "font": {
           "color": "#2a3f5f"
          },
          "geo": {
           "bgcolor": "white",
           "lakecolor": "white",
           "landcolor": "#E5ECF6",
           "showlakes": true,
           "showland": true,
           "subunitcolor": "white"
          },
          "hoverlabel": {
           "align": "left"
          },
          "hovermode": "closest",
          "mapbox": {
           "style": "light"
          },
          "paper_bgcolor": "white",
          "plot_bgcolor": "#E5ECF6",
          "polar": {
           "angularaxis": {
            "gridcolor": "white",
            "linecolor": "white",
            "ticks": ""
           },
           "bgcolor": "#E5ECF6",
           "radialaxis": {
            "gridcolor": "white",
            "linecolor": "white",
            "ticks": ""
           }
          },
          "scene": {
           "xaxis": {
            "backgroundcolor": "#E5ECF6",
            "gridcolor": "white",
            "gridwidth": 2,
            "linecolor": "white",
            "showbackground": true,
            "ticks": "",
            "zerolinecolor": "white"
           },
           "yaxis": {
            "backgroundcolor": "#E5ECF6",
            "gridcolor": "white",
            "gridwidth": 2,
            "linecolor": "white",
            "showbackground": true,
            "ticks": "",
            "zerolinecolor": "white"
           },
           "zaxis": {
            "backgroundcolor": "#E5ECF6",
            "gridcolor": "white",
            "gridwidth": 2,
            "linecolor": "white",
            "showbackground": true,
            "ticks": "",
            "zerolinecolor": "white"
           }
          },
          "shapedefaults": {
           "line": {
            "color": "#2a3f5f"
           }
          },
          "ternary": {
           "aaxis": {
            "gridcolor": "white",
            "linecolor": "white",
            "ticks": ""
           },
           "baxis": {
            "gridcolor": "white",
            "linecolor": "white",
            "ticks": ""
           },
           "bgcolor": "#E5ECF6",
           "caxis": {
            "gridcolor": "white",
            "linecolor": "white",
            "ticks": ""
           }
          },
          "title": {
           "x": 0.05
          },
          "xaxis": {
           "automargin": true,
           "gridcolor": "white",
           "linecolor": "white",
           "ticks": "",
           "title": {
            "standoff": 15
           },
           "zerolinecolor": "white",
           "zerolinewidth": 2
          },
          "yaxis": {
           "automargin": true,
           "gridcolor": "white",
           "linecolor": "white",
           "ticks": "",
           "title": {
            "standoff": 15
           },
           "zerolinecolor": "white",
           "zerolinewidth": 2
          }
         }
        },
        "title": {
         "text": "Distribution of Difference In Nuclear Norms - SDNE vs SDNE+XM"
        },
        "xaxis": {
         "title": {
          "text": "Difference In Nuclear Norms - SDNE vs SDNE+XM"
         }
        },
        "yaxis": {
         "title": {
          "text": "Frequency"
         }
        }
       }
      },
      "text/html": [
       "<div>                            <div id=\"1bbbc080-a64c-4182-b764-06c8b2bde1ba\" class=\"plotly-graph-div\" style=\"height:525px; width:100%;\"></div>            <script type=\"text/javascript\">                require([\"plotly\"], function(Plotly) {                    window.PLOTLYENV=window.PLOTLYENV || {};                                    if (document.getElementById(\"1bbbc080-a64c-4182-b764-06c8b2bde1ba\")) {                    Plotly.newPlot(                        \"1bbbc080-a64c-4182-b764-06c8b2bde1ba\",                        [{\"x\":[1.018369436264038,0.986163854598999,0.5099747776985168,0.700556755065918,0.5958702564239502,0.2612376809120178,0.48981258273124695,0.557534396648407,0.9691223502159119,0.7464010715484619,1.068110466003418,0.6333445310592651,0.7757638096809387,0.37823575735092163,0.6863995790481567,0.7924165725708008,0.988073468208313,0.5926226377487183,1.154525637626648,0.7515909671783447,0.7333753108978271,0.46432071924209595,1.4876320362091064,0.69579017162323,0.684542179107666,1.0674039125442505,0.9175927639007568,0.6441720724105835,0.637485146522522,0.859296441078186,0.8029569387435913,1.0328103303909302,0.9553114175796509,1.0576260089874268,0.8791507482528687,0.948660135269165,1.1298272609710693,0.9146313071250916,0.8096880316734314,1.0870286226272583,0.6684423685073853,0.7442338466644287,0.9454026222229004,1.0093785524368286,0.5180692672729492,0.8784291744232178,0.7982521653175354,0.9025872945785522,0.7111988067626953,1.2221938371658325,1.187783122062683,0.8589329719543457,1.0679090023040771,1.33417546749115,0.7974443435668945,0.8380682468414307,0.7222413420677185,0.6086227893829346,0.5268365740776062,0.6723861694335938,0.7199726104736328,0.8167459964752197,0.32638823986053467,0.5561468601226807,0.4514763355255127,0.39681753516197205,0.7683606743812561,1.7668955326080322,1.0994242429733276,0.6613120436668396,1.466662049293518,1.0433756113052368,1.205914855003357,1.2062989473342896,0.7211781740188599,1.1839778423309326,1.013124704360962,1.2367655038833618,1.3444582223892212,1.0453139543533325,0.8442354202270508,0.6102850437164307,0.26950785517692566,0.5063557028770447,0.4155184328556061,1.1947332620620728,0.2897762060165405,0.5783202052116394,0.8164031505584717,0.6010079383850098,1.2494847774505615,0.9293588399887085,0.9601187705993652,0.6581171154975891,0.9049652814865112,0.9575786590576172,0.36045774817466736,0.8347687721252441,1.0568060874938965,1.0280544757843018,0.7905104756355286,0.9584976434707642,1.0305473804473877,0.8819991946220398,1.0088729858398438,0.5831463932991028,0.4995867908000946,0.2874595522880554,0.755057692527771,2.0741982460021973,1.1516106128692627,1.228627324104309,1.2144910097122192,0.7710435390472412,0.517967939376831,0.6053547859191895,0.7432879209518433,1.507039189338684,1.3375492095947266,1.3081932067871094,1.519986629486084,0.25423669815063477,1.254776954650879,1.3119635581970215,0.7289376258850098,0.8360005617141724,1.0508792400360107,1.4648343324661255,0.5240027904510498,0.4530438482761383,1.0161466598510742,0.8982364535331726,0.8951096534729004,0.5568800568580627,1.0841715335845947,1.067183017730713,1.077924132347107,0.6034206748008728,1.00006103515625,0.8448699116706848,0.7534123659133911,0.6526535749435425,0.5229402780532837,1.0916343927383423,1.3969402313232422,0.8515613079071045,1.3028613328933716,1.1805137395858765,1.3706614971160889,1.107396125793457,0.9872943162918091,0.9788546562194824,0.8027043342590332,0.9837650060653687,0.9806581735610962,0.6914240121841431,1.169577956199646,0.5424081087112427,0.856579601764679,0.9570512175559998,0.12014374136924744,1.0324909687042236,0.909834623336792,0.8849972486495972,0.9385199546813965,0.521589994430542,0.29006296396255493,0.5811493396759033,0.8228343725204468,0.6638761758804321,0.6779026985168457,1.001075029373169,0.7908570766448975,0.7732667922973633,0.8347408771514893,1.4193956851959229,1.088163137435913,0.8616302013397217,1.0057651996612549,0.9287905693054199,0.8302552700042725,0.6593729853630066,0.7287490963935852,0.451171338558197,0.737518310546875,0.6926512718200684,1.172391653060913,1.0429129600524902,1.196183204650879,0.48656877875328064,1.3421639204025269,0.614652156829834,0.8758809566497803,0.8673074841499329,0.7932167053222656,0.8879157304763794,1.0735639333724976,1.0982521772384644,1.0989203453063965,0.9081509709358215,0.8952668905258179,1.0081771612167358,1.6104843616485596,1.13799250125885,0.988890528678894,1.0540529489517212,0.6663323640823364,1.2979736328125,0.9714182019233704,0.5887718200683594,0.7749961614608765,0.29261255264282227,0.5636193752288818,0.7750924825668335,1.0373998880386353,0.6892447471618652,1.0910460948944092,1.0625455379486084,0.750275194644928,1.6393073797225952,1.789617896080017,1.0130199193954468,0.8048059940338135,0.9725381135940552,1.714446783065796,1.306542158126831,0.9339189529418945,1.675811529159546,1.5855257511138916,1.3613735437393188,1.1226547956466675,0.6361382007598877,0.5729067325592041,0.8199819922447205,0.798895001411438,1.0962443351745605,1.0000685453414917,1.036956787109375,0.8487931489944458,1.7388653755187988,1.1238386631011963,1.0897084474563599,0.834195613861084,0.9500386714935303,1.272525668144226,0.9546476602554321,1.148544430732727,1.0905779600143433,1.1850746870040894,0.48358258605003357,1.0296381711959839,1.0537153482437134,0.45849794149398804,1.1271477937698364,0.8542364239692688,1.008033275604248,0.6433445811271667,1.4169331789016724,0.6435677409172058,1.0458701848983765,1.2121886014938354,0.868743896484375,1.1162197589874268,0.8233343362808228,0.9317504167556763,0.8213202953338623,1.0463446378707886,1.0381158590316772,1.1411142349243164,0.6028246879577637,1.8382567167282104,0.7836744785308838,0.8571937084197998,0.9077773094177246,1.1098560094833374,0.9588617086410522,1.7209138870239258,1.2151926755905151,1.059938669204712,1.5869579315185547,0.5617465972900391,0.9017984867095947,0.4767102003097534,0.4605230987071991,0.9096798896789551,0.6065877079963684,0.9494497776031494,1.2027415037155151,0.9017354249954224,2.0316672325134277,0.7036001682281494,1.1469801664352417,1.2975058555603027,1.0592033863067627,1.164488673210144,0.5524964332580566,0.765715479850769,1.1698133945465088,1.3984369039535522,0.9724954962730408,0.7359163761138916,0.41431930661201477,1.451052188873291,0.5877366065979004,1.076380968093872,0.7744325995445251,1.0165879726409912,1.4693676233291626,1.174401044845581,1.0823220014572144,1.5592674016952515,1.0099296569824219,1.3915798664093018,1.253641128540039,0.9987481832504272,1.74886155128479,0.9074552059173584,1.515395164489746,0.975719690322876,1.1213277578353882,0.7049506902694702,0.6298476457595825,0.6803238391876221,0.9296481013298035,1.2549039125442505,1.1306140422821045,1.319369912147522,1.0227265357971191,1.1884268522262573,0.6861366629600525,1.4808604717254639,1.2321159839630127,0.8686589002609253,0.44639742374420166,0.8007557392120361,0.6531091332435608,1.1754803657531738,1.0809776782989502,0.8588804006576538,0.7089461088180542,0.4527851343154907,1.4182300567626953,0.6985705494880676,1.6860120296478271,1.1055662631988525,1.3504928350448608,1.524928331375122,1.4588360786437988,1.2789205312728882,1.227847695350647,1.012813925743103,0.8845789432525635,1.2572604417800903,0.6497645974159241,1.0022281408309937,0.9447513818740845,1.0872191190719604,1.1138323545455933,0.5736056566238403,0.88079833984375,1.2066607475280762,0.8668457269668579,0.9489783048629761,0.8765362501144409,1.5918231010437012,0.8667627573013306,0.7657018899917603,0.7861286401748657,1.001576542854309,1.1317236423492432,0.9278998374938965,0.7501901388168335,1.3173940181732178,1.1198660135269165,0.8735586404800415,0.6372058987617493,0.6604675054550171,0.1987837255001068,1.0302151441574097,0.6792765259742737,0.7285252809524536,0.8566911220550537,1.3761858940124512,1.1014353036880493,1.4379551410675049,1.0534791946411133,1.6852432489395142,0.9874141216278076,1.0604381561279297,0.9798739552497864,0.8115702867507935,1.153001308441162,1.097419261932373,0.6455072164535522,0.8928670287132263,1.1168619394302368,1.1741304397583008,0.8933229446411133,1.3477493524551392,1.4593859910964966,1.1972330808639526,0.5779586434364319,1.6063728332519531,1.472773551940918,0.6457680463790894,0.4772007465362549,0.8001570701599121,0.9095835089683533,0.6257259249687195,0.639186441898346,1.591044306755066,0.38248634338378906,0.5886354446411133,1.1160565614700317,0.31404271721839905,1.660984992980957,1.859116792678833,0.7096874117851257,1.1920287609100342,0.8099483251571655,0.3376612663269043,1.25062894821167,1.2297428846359253,0.8807794451713562,0.5964455604553223,0.6005164384841919,0.8746318817138672,0.9615001678466797,0.8395100831985474,0.8294949531555176,1.0021674633026123,1.237694501876831,1.1799867153167725,1.088882565498352,0.42475956678390503,0.921267032623291,1.2019630670547485,0.8236674070358276,0.6212409734725952,1.2797249555587769,0.77647465467453,0.9467909932136536,1.1453132629394531,0.7649704217910767,0.9982291460037231,1.3410751819610596,0.8925598859786987,0.8405518531799316,0.8372921943664551,0.9223811030387878,0.7250714302062988,1.2737421989440918,0.6676439642906189,1.173954963684082,1.6968802213668823,0.6764161586761475,0.9244791269302368,1.4179980754852295,0.9956439733505249,0.641822099685669,1.2468905448913574,0.8324599266052246,0.7723232507705688,0.770695686340332,0.89304518699646,1.5768513679504395,0.7892050743103027,1.4827944040298462,1.5921661853790283,1.0515815019607544,0.9725127220153809,1.7344071865081787,1.491174578666687,0.6763901710510254,0.6984235048294067,1.2411653995513916,1.2858484983444214,0.9896657466888428,0.9405721426010132,1.4605519771575928,1.0131847858428955,0.9286760091781616,0.8920685052871704,1.0051225423812866,1.407883882522583,1.2695012092590332,1.0703197717666626,1.0845210552215576,1.3672888278961182,1.41063392162323,1.2810169458389282,1.095386266708374,1.2839285135269165,0.7066563963890076,0.48772934079170227,0.7795571088790894,1.2899367809295654,1.3978793621063232,0.6314471960067749,0.6472691893577576,0.9453532099723816,1.2447799444198608,0.8038008809089661,1.168176531791687,0.7498948574066162,1.1814842224121094,0.6465678215026855,1.691127061843872,1.0436558723449707,0.6189005970954895,1.1656955480575562,1.323983907699585,1.6800364255905151,0.8258384466171265,1.1557551622390747,0.9535876512527466,0.7907723188400269,0.9752907156944275,0.7191331386566162,1.211897373199463,0.8157386183738708,0.9879308938980103,1.3607792854309082,1.1187734603881836,0.7846534252166748,0.7478442192077637,0.7666043043136597,1.2481822967529297,1.6848386526107788,0.8957688808441162,1.6386042833328247,0.9248767495155334,1.3232260942459106,0.4670582711696625,1.5465047359466553,1.4054981470108032,1.723872423171997,1.2250944375991821,1.328589916229248,1.529459834098816,1.6002678871154785,1.3294707536697388,1.275331735610962,0.8379131555557251,1.0353869199752808,1.0460110902786255,0.5277916193008423,0.9118138551712036,1.2844982147216797,0.5119815468788147,1.3306421041488647,1.3218181133270264,1.0212986469268799,1.109731674194336,1.2403279542922974,1.4750890731811523,1.5695186853408813,1.4366594552993774,1.3136719465255737,1.2153576612472534,0.6246013641357422,0.9461416602134705,1.1183900833129883,1.2188950777053833,1.0457628965377808,1.2469862699508667,0.9598680734634399,1.1388719081878662,1.133860468864441,0.7551863193511963,0.9264223575592041,1.3544262647628784,1.2434673309326172,1.1799397468566895,1.56686532497406,1.4088726043701172,1.603057622909546,1.1373777389526367,1.0175012350082397,0.9495377540588379,1.0874215364456177,1.5446608066558838,0.9188669919967651,1.4026999473571777,1.5727373361587524,1.2397936582565308,1.2689299583435059,1.057871699333191,1.3719685077667236,1.0621428489685059,1.6409270763397217,0.6554347276687622,0.8431485295295715,1.451249122619629,1.4395277500152588,1.511953353881836,1.4260625839233398,1.1626150608062744,1.3682644367218018,1.3027294874191284,1.3476253747940063,1.2773895263671875,0.9223811030387878,1.678004503250122,0.8424433469772339,1.3373615741729736,1.3797783851623535,0.9762041568756104,1.273924708366394,1.1688158512115479,1.20480477809906,0.8880366086959839,1.145776629447937,1.2609033584594727,0.9880529642105103,1.8169515132904053,1.101784110069275,0.9784839153289795,1.334092140197754,0.9151492118835449,1.395345687866211,0.999500036239624,1.3599839210510254,2.046152114868164,1.1769181489944458,1.2252966165542603,1.5731921195983887,0.9849725961685181,1.740386962890625,0.6125776767730713,0.723456859588623,0.7626364827156067,0.523840606212616,0.9787979125976562,1.0590288639068604,0.8294639587402344,1.2107394933700562,1.4902031421661377,1.0647740364074707,1.0111362934112549,1.5394883155822754,1.5487077236175537,1.7528250217437744,1.372536063194275,0.9811594486236572,1.532795786857605,1.5424330234527588,1.398606300354004,1.330152988433838,1.859511137008667,0.8982882499694824,1.2594051361083984,1.3442960977554321,0.9779488444328308,1.0591086149215698,0.7654717564582825,1.2952017784118652,1.2415928840637207,1.644953727722168,1.2412524223327637,1.1166903972625732,1.2511848211288452,1.4143638610839844,1.3630950450897217,1.1748844385147095,1.3571828603744507,1.1057811975479126,0.9724559783935547,1.2770817279815674,1.142621636390686,1.275594711303711,1.3909705877304077,1.1678589582443237,1.3365980386734009,1.4077624082565308,1.1518549919128418,0.8209040760993958,1.7575162649154663,1.5524665117263794,0.9731740951538086,1.0195295810699463,1.4979891777038574,1.7053035497665405,1.4111034870147705,1.6508936882019043,1.2490094900131226,1.3785685300827026,1.3920621871948242,0.9415842890739441,0.9144978523254395,0.8788676261901855,0.9461416602134705,1.164661169052124,1.0578763484954834,1.536450743675232,1.5821025371551514,0.8345140218734741,1.0620794296264648,0.9716032147407532,1.2062033414840698,1.1544547080993652,1.0732648372650146,1.3619598150253296,1.8992836475372314,1.0605344772338867,1.4749796390533447,1.3560017347335815,1.1757811307907104,1.0035573244094849,1.0543334484100342,1.522529125213623,1.080058217048645,1.0616565942764282,1.3688569068908691,1.5635030269622803,2.173600673675537,1.1910885572433472,1.7986160516738892,2.037996292114258,1.081666111946106,1.7402403354644775,0.9575991034507751,1.4153752326965332,0.8196477890014648,0.9902709126472473,1.9083598852157593,1.9241920709609985,1.0364166498184204,1.3471653461456299,0.6078949570655823,1.5559961795806885,1.110479474067688,1.2070527076721191,1.7087472677230835,0.8745424747467041,1.5601956844329834,1.8470335006713867,1.0262179374694824,1.055206537246704,1.1516789197921753,1.2282699346542358,1.1610965728759766,1.7169827222824097,1.49030601978302,1.4739524126052856,1.342665672302246,0.7299225330352783,1.0605344772338867,1.822393536567688,1.1609587669372559,0.8570930361747742,1.7876496315002441,0.8549347519874573,1.5055711269378662,0.9687483310699463,1.743499755859375,0.8363268375396729,0.9899216890335083,1.0199484825134277,0.9341377019882202,0.9984841346740723,1.9257961511611938,1.9487885236740112,1.3662776947021484,1.7145367860794067,1.2732123136520386,1.6173241138458252,0.828174352645874,1.5785688161849976,1.5830702781677246,1.2247343063354492,0.705801248550415,1.8363906145095825,0.9196102619171143,1.6799206733703613,0.9090394973754883,1.785180687904358,0.783005952835083,1.2325708866119385,1.3644230365753174,1.5387849807739258,1.6256953477859497,1.9675086736679077,1.19319748878479,1.3558813333511353,0.9251714944839478,1.2800849676132202,1.420041799545288,0.8421212434768677,1.4708218574523926,0.8281235098838806,1.6198115348815918,1.5297646522521973,0.8225246667861938,0.9016019105911255,1.7564833164215088,1.2632969617843628,1.0361828804016113,1.3277289867401123,1.8042470216751099,1.2753548622131348,0.5853222608566284,1.0446012020111084,1.3962643146514893,0.9194955825805664,1.462458610534668,0.8238118886947632,0.8585027456283569,0.9871534109115601,1.2443554401397705,1.6505162715911865,0.9012846350669861,1.4664028882980347,0.9206985831260681,1.409173846244812,0.9648010730743408,1.6288249492645264,1.2300207614898682,1.0578763484954834,0.9401029348373413,1.7309268712997437,1.3872894048690796,1.2042865753173828,1.1529948711395264,0.9365161657333374,1.582226037979126,0.915201723575592,0.4006384015083313,0.9127064347267151,1.2184906005859375,1.6277039051055908,1.6723272800445557,1.0978236198425293,1.381951928138733,0.9220297336578369,1.535947561264038,2.005183458328247,0.7426496744155884,1.6082661151885986,1.000572681427002,0.7361037731170654,0.9337387084960938,1.2503491640090942,0.9349647760391235,0.9322808980941772,1.0066297054290771,1.0419763326644897,1.5526608228683472,1.672676920890808,1.6216130256652832,1.2247353792190552,1.202850580215454,1.4785882234573364,1.747107744216919,0.955711841583252,1.202850580215454,1.0190868377685547,0.992729663848877,1.814437747001648,1.1460829973220825,0.8855513334274292,1.055727481842041,1.2872964143753052,0.9944414496421814,1.1645320653915405,0.8261885643005371,1.2509260177612305,1.4151991605758667,0.958996593952179,0.9797444343566895,1.2536447048187256,1.023533582687378,0.9300488829612732,1.1330817937850952,1.1755528450012207,0.9475791454315186,1.2705769538879395,1.2060595750808716,1.2786750793457031,0.9405547380447388,0.9873749017715454,1.1163830757141113,0.9739619493484497,1.119753360748291,1.0396246910095215,1.262115716934204,1.1871092319488525,1.7575856447219849,1.1074879169464111,0.9252001047134399,1.6598832607269287,1.4092785120010376,1.2558417320251465,1.4995993375778198,0.9797787666320801,1.1831609010696411,1.2112531661987305,0.9223811030387878,0.888154149055481,0.8748898506164551,1.135138750076294,1.0333737134933472,1.2958214282989502,1.2211406230926514,0.7091434001922607,1.331829309463501,1.0126235485076904,1.039329171180725,0.7677001357078552,1.1516789197921753,0.8775836229324341,0.9985556602478027,1.0229309797286987,0.7358985543251038,0.8451789617538452,1.7820452451705933,1.217785358428955,0.8726206421852112,1.0795034170150757,0.8954155445098877,1.7121864557266235,1.1729710102081299,1.3921208381652832,1.5489041805267334,1.4546440839767456,1.2586274147033691,1.1626524925231934,0.8501062393188477,1.0536315441131592,1.1673027276992798,1.0459070205688477,1.424482822418213,1.1191421747207642,1.020470380783081,1.0823934078216553,1.4691468477249146,1.2176865339279175,1.3706440925598145,1.2552275657653809,0.9650062322616577,1.2289214134216309,1.2289214134216309,1.2289214134216309,0.8612373471260071,0.9975012540817261,1.5346728563308716,1.2884080410003662,1.1737686395645142,1.4267537593841553,0.7136231660842896,0.9867093563079834,1.8482956886291504,0.2756437659263611,1.1263854503631592,1.0005409717559814,1.3149213790893555,1.0005409717559814,0.7783961892127991,0.725338876247406,1.0841490030288696,1.6636637449264526,1.3412073850631714,0.7783961892127991,0.9739619493484497,1.3068207502365112,1.6022226810455322,1.1784776449203491,1.3724277019500732,1.2694239616394043,0.9770110249519348,0.7158182263374329,1.0499640703201294,1.0903356075286865,1.1043994426727295,0.9116299152374268,1.3608739376068115,0.7751644849777222,1.35745370388031,1.0377088785171509,1.4092785120010376,1.217646598815918,1.5402485132217407,1.003165364265442,1.0199484825134277,1.4664028882980347,0.8266693353652954],\"type\":\"histogram\"}],                        {\"template\":{\"data\":{\"histogram2dcontour\":[{\"type\":\"histogram2dcontour\",\"colorbar\":{\"outlinewidth\":0,\"ticks\":\"\"},\"colorscale\":[[0.0,\"#0d0887\"],[0.1111111111111111,\"#46039f\"],[0.2222222222222222,\"#7201a8\"],[0.3333333333333333,\"#9c179e\"],[0.4444444444444444,\"#bd3786\"],[0.5555555555555556,\"#d8576b\"],[0.6666666666666666,\"#ed7953\"],[0.7777777777777778,\"#fb9f3a\"],[0.8888888888888888,\"#fdca26\"],[1.0,\"#f0f921\"]]}],\"choropleth\":[{\"type\":\"choropleth\",\"colorbar\":{\"outlinewidth\":0,\"ticks\":\"\"}}],\"histogram2d\":[{\"type\":\"histogram2d\",\"colorbar\":{\"outlinewidth\":0,\"ticks\":\"\"},\"colorscale\":[[0.0,\"#0d0887\"],[0.1111111111111111,\"#46039f\"],[0.2222222222222222,\"#7201a8\"],[0.3333333333333333,\"#9c179e\"],[0.4444444444444444,\"#bd3786\"],[0.5555555555555556,\"#d8576b\"],[0.6666666666666666,\"#ed7953\"],[0.7777777777777778,\"#fb9f3a\"],[0.8888888888888888,\"#fdca26\"],[1.0,\"#f0f921\"]]}],\"heatmap\":[{\"type\":\"heatmap\",\"colorbar\":{\"outlinewidth\":0,\"ticks\":\"\"},\"colorscale\":[[0.0,\"#0d0887\"],[0.1111111111111111,\"#46039f\"],[0.2222222222222222,\"#7201a8\"],[0.3333333333333333,\"#9c179e\"],[0.4444444444444444,\"#bd3786\"],[0.5555555555555556,\"#d8576b\"],[0.6666666666666666,\"#ed7953\"],[0.7777777777777778,\"#fb9f3a\"],[0.8888888888888888,\"#fdca26\"],[1.0,\"#f0f921\"]]}],\"heatmapgl\":[{\"type\":\"heatmapgl\",\"colorbar\":{\"outlinewidth\":0,\"ticks\":\"\"},\"colorscale\":[[0.0,\"#0d0887\"],[0.1111111111111111,\"#46039f\"],[0.2222222222222222,\"#7201a8\"],[0.3333333333333333,\"#9c179e\"],[0.4444444444444444,\"#bd3786\"],[0.5555555555555556,\"#d8576b\"],[0.6666666666666666,\"#ed7953\"],[0.7777777777777778,\"#fb9f3a\"],[0.8888888888888888,\"#fdca26\"],[1.0,\"#f0f921\"]]}],\"contourcarpet\":[{\"type\":\"contourcarpet\",\"colorbar\":{\"outlinewidth\":0,\"ticks\":\"\"}}],\"contour\":[{\"type\":\"contour\",\"colorbar\":{\"outlinewidth\":0,\"ticks\":\"\"},\"colorscale\":[[0.0,\"#0d0887\"],[0.1111111111111111,\"#46039f\"],[0.2222222222222222,\"#7201a8\"],[0.3333333333333333,\"#9c179e\"],[0.4444444444444444,\"#bd3786\"],[0.5555555555555556,\"#d8576b\"],[0.6666666666666666,\"#ed7953\"],[0.7777777777777778,\"#fb9f3a\"],[0.8888888888888888,\"#fdca26\"],[1.0,\"#f0f921\"]]}],\"surface\":[{\"type\":\"surface\",\"colorbar\":{\"outlinewidth\":0,\"ticks\":\"\"},\"colorscale\":[[0.0,\"#0d0887\"],[0.1111111111111111,\"#46039f\"],[0.2222222222222222,\"#7201a8\"],[0.3333333333333333,\"#9c179e\"],[0.4444444444444444,\"#bd3786\"],[0.5555555555555556,\"#d8576b\"],[0.6666666666666666,\"#ed7953\"],[0.7777777777777778,\"#fb9f3a\"],[0.8888888888888888,\"#fdca26\"],[1.0,\"#f0f921\"]]}],\"mesh3d\":[{\"type\":\"mesh3d\",\"colorbar\":{\"outlinewidth\":0,\"ticks\":\"\"}}],\"scatter\":[{\"fillpattern\":{\"fillmode\":\"overlay\",\"size\":10,\"solidity\":0.2},\"type\":\"scatter\"}],\"parcoords\":[{\"type\":\"parcoords\",\"line\":{\"colorbar\":{\"outlinewidth\":0,\"ticks\":\"\"}}}],\"scatterpolargl\":[{\"type\":\"scatterpolargl\",\"marker\":{\"colorbar\":{\"outlinewidth\":0,\"ticks\":\"\"}}}],\"bar\":[{\"error_x\":{\"color\":\"#2a3f5f\"},\"error_y\":{\"color\":\"#2a3f5f\"},\"marker\":{\"line\":{\"color\":\"#E5ECF6\",\"width\":0.5},\"pattern\":{\"fillmode\":\"overlay\",\"size\":10,\"solidity\":0.2}},\"type\":\"bar\"}],\"scattergeo\":[{\"type\":\"scattergeo\",\"marker\":{\"colorbar\":{\"outlinewidth\":0,\"ticks\":\"\"}}}],\"scatterpolar\":[{\"type\":\"scatterpolar\",\"marker\":{\"colorbar\":{\"outlinewidth\":0,\"ticks\":\"\"}}}],\"histogram\":[{\"marker\":{\"pattern\":{\"fillmode\":\"overlay\",\"size\":10,\"solidity\":0.2}},\"type\":\"histogram\"}],\"scattergl\":[{\"type\":\"scattergl\",\"marker\":{\"colorbar\":{\"outlinewidth\":0,\"ticks\":\"\"}}}],\"scatter3d\":[{\"type\":\"scatter3d\",\"line\":{\"colorbar\":{\"outlinewidth\":0,\"ticks\":\"\"}},\"marker\":{\"colorbar\":{\"outlinewidth\":0,\"ticks\":\"\"}}}],\"scattermapbox\":[{\"type\":\"scattermapbox\",\"marker\":{\"colorbar\":{\"outlinewidth\":0,\"ticks\":\"\"}}}],\"scatterternary\":[{\"type\":\"scatterternary\",\"marker\":{\"colorbar\":{\"outlinewidth\":0,\"ticks\":\"\"}}}],\"scattercarpet\":[{\"type\":\"scattercarpet\",\"marker\":{\"colorbar\":{\"outlinewidth\":0,\"ticks\":\"\"}}}],\"carpet\":[{\"aaxis\":{\"endlinecolor\":\"#2a3f5f\",\"gridcolor\":\"white\",\"linecolor\":\"white\",\"minorgridcolor\":\"white\",\"startlinecolor\":\"#2a3f5f\"},\"baxis\":{\"endlinecolor\":\"#2a3f5f\",\"gridcolor\":\"white\",\"linecolor\":\"white\",\"minorgridcolor\":\"white\",\"startlinecolor\":\"#2a3f5f\"},\"type\":\"carpet\"}],\"table\":[{\"cells\":{\"fill\":{\"color\":\"#EBF0F8\"},\"line\":{\"color\":\"white\"}},\"header\":{\"fill\":{\"color\":\"#C8D4E3\"},\"line\":{\"color\":\"white\"}},\"type\":\"table\"}],\"barpolar\":[{\"marker\":{\"line\":{\"color\":\"#E5ECF6\",\"width\":0.5},\"pattern\":{\"fillmode\":\"overlay\",\"size\":10,\"solidity\":0.2}},\"type\":\"barpolar\"}],\"pie\":[{\"automargin\":true,\"type\":\"pie\"}]},\"layout\":{\"autotypenumbers\":\"strict\",\"colorway\":[\"#636efa\",\"#EF553B\",\"#00cc96\",\"#ab63fa\",\"#FFA15A\",\"#19d3f3\",\"#FF6692\",\"#B6E880\",\"#FF97FF\",\"#FECB52\"],\"font\":{\"color\":\"#2a3f5f\"},\"hovermode\":\"closest\",\"hoverlabel\":{\"align\":\"left\"},\"paper_bgcolor\":\"white\",\"plot_bgcolor\":\"#E5ECF6\",\"polar\":{\"bgcolor\":\"#E5ECF6\",\"angularaxis\":{\"gridcolor\":\"white\",\"linecolor\":\"white\",\"ticks\":\"\"},\"radialaxis\":{\"gridcolor\":\"white\",\"linecolor\":\"white\",\"ticks\":\"\"}},\"ternary\":{\"bgcolor\":\"#E5ECF6\",\"aaxis\":{\"gridcolor\":\"white\",\"linecolor\":\"white\",\"ticks\":\"\"},\"baxis\":{\"gridcolor\":\"white\",\"linecolor\":\"white\",\"ticks\":\"\"},\"caxis\":{\"gridcolor\":\"white\",\"linecolor\":\"white\",\"ticks\":\"\"}},\"coloraxis\":{\"colorbar\":{\"outlinewidth\":0,\"ticks\":\"\"}},\"colorscale\":{\"sequential\":[[0.0,\"#0d0887\"],[0.1111111111111111,\"#46039f\"],[0.2222222222222222,\"#7201a8\"],[0.3333333333333333,\"#9c179e\"],[0.4444444444444444,\"#bd3786\"],[0.5555555555555556,\"#d8576b\"],[0.6666666666666666,\"#ed7953\"],[0.7777777777777778,\"#fb9f3a\"],[0.8888888888888888,\"#fdca26\"],[1.0,\"#f0f921\"]],\"sequentialminus\":[[0.0,\"#0d0887\"],[0.1111111111111111,\"#46039f\"],[0.2222222222222222,\"#7201a8\"],[0.3333333333333333,\"#9c179e\"],[0.4444444444444444,\"#bd3786\"],[0.5555555555555556,\"#d8576b\"],[0.6666666666666666,\"#ed7953\"],[0.7777777777777778,\"#fb9f3a\"],[0.8888888888888888,\"#fdca26\"],[1.0,\"#f0f921\"]],\"diverging\":[[0,\"#8e0152\"],[0.1,\"#c51b7d\"],[0.2,\"#de77ae\"],[0.3,\"#f1b6da\"],[0.4,\"#fde0ef\"],[0.5,\"#f7f7f7\"],[0.6,\"#e6f5d0\"],[0.7,\"#b8e186\"],[0.8,\"#7fbc41\"],[0.9,\"#4d9221\"],[1,\"#276419\"]]},\"xaxis\":{\"gridcolor\":\"white\",\"linecolor\":\"white\",\"ticks\":\"\",\"title\":{\"standoff\":15},\"zerolinecolor\":\"white\",\"automargin\":true,\"zerolinewidth\":2},\"yaxis\":{\"gridcolor\":\"white\",\"linecolor\":\"white\",\"ticks\":\"\",\"title\":{\"standoff\":15},\"zerolinecolor\":\"white\",\"automargin\":true,\"zerolinewidth\":2},\"scene\":{\"xaxis\":{\"backgroundcolor\":\"#E5ECF6\",\"gridcolor\":\"white\",\"linecolor\":\"white\",\"showbackground\":true,\"ticks\":\"\",\"zerolinecolor\":\"white\",\"gridwidth\":2},\"yaxis\":{\"backgroundcolor\":\"#E5ECF6\",\"gridcolor\":\"white\",\"linecolor\":\"white\",\"showbackground\":true,\"ticks\":\"\",\"zerolinecolor\":\"white\",\"gridwidth\":2},\"zaxis\":{\"backgroundcolor\":\"#E5ECF6\",\"gridcolor\":\"white\",\"linecolor\":\"white\",\"showbackground\":true,\"ticks\":\"\",\"zerolinecolor\":\"white\",\"gridwidth\":2}},\"shapedefaults\":{\"line\":{\"color\":\"#2a3f5f\"}},\"annotationdefaults\":{\"arrowcolor\":\"#2a3f5f\",\"arrowhead\":0,\"arrowwidth\":1},\"geo\":{\"bgcolor\":\"white\",\"landcolor\":\"#E5ECF6\",\"subunitcolor\":\"white\",\"showland\":true,\"showlakes\":true,\"lakecolor\":\"white\"},\"title\":{\"x\":0.05},\"mapbox\":{\"style\":\"light\"}}},\"title\":{\"text\":\"Distribution of Difference In Nuclear Norms - SDNE vs SDNE+XM\"},\"xaxis\":{\"title\":{\"text\":\"Difference In Nuclear Norms - SDNE vs SDNE+XM\"}},\"yaxis\":{\"title\":{\"text\":\"Frequency\"}},\"font\":{\"size\":30},\"plot_bgcolor\":\"white\",\"paper_bgcolor\":\"white\"},                        {\"responsive\": true}                    ).then(function(){\n",
       "                            \n",
       "var gd = document.getElementById('1bbbc080-a64c-4182-b764-06c8b2bde1ba');\n",
       "var x = new MutationObserver(function (mutations, observer) {{\n",
       "        var display = window.getComputedStyle(gd).display;\n",
       "        if (!display || display === 'none') {{\n",
       "            console.log([gd, 'removed!']);\n",
       "            Plotly.purge(gd);\n",
       "            observer.disconnect();\n",
       "        }}\n",
       "}});\n",
       "\n",
       "// Listen for the removal of the full notebook cells\n",
       "var notebookContainer = gd.closest('#notebook-container');\n",
       "if (notebookContainer) {{\n",
       "    x.observe(notebookContainer, {childList: true});\n",
       "}}\n",
       "\n",
       "// Listen for the clearing of the current output cell\n",
       "var outputEl = gd.closest('.output');\n",
       "if (outputEl) {{\n",
       "    x.observe(outputEl, {childList: true});\n",
       "}}\n",
       "\n",
       "                        })                };                });            </script>        </div>"
      ]
     },
     "metadata": {},
     "output_type": "display_data"
    }
   ],
   "source": [
    "diff = np.array(norm_og) - np.array(norm_plus)\n",
    "fig = go.Figure()\n",
    "fig.add_trace(go.Histogram(x = diff))\n",
    "fig.update_layout(title_text = 'Distribution of Difference In Nuclear Norms - DGI vs DGI+XM', \n",
    "                  xaxis_title_text = 'Difference In Nuclear Norms - DGI vs DGI+XM', \n",
    "                  yaxis_title_text = 'Frequency', \n",
    "                  plot_bgcolor = 'white', \n",
    "                  paper_bgcolor = 'white', \n",
    "                  font = dict(size = 30))\n",
    "fig.show()"
   ]
  },
  {
   "cell_type": "code",
   "execution_count": 44,
   "id": "bfc389d1",
   "metadata": {},
   "outputs": [
    {
     "data": {
      "application/vnd.plotly.v1+json": {
       "config": {
        "plotlyServerURL": "https://plot.ly"
       },
       "data": [
        {
         "name": "SDNE",
         "type": "histogram",
         "x": [
          1.3491228818893433,
          1.3317807912826538,
          0.765889048576355,
          0.9646807909011841,
          0.8716388940811157,
          0.4973349869251251,
          0.7822073101997375,
          0.832451343536377,
          1.2500839233398438,
          1.027815580368042,
          1.3786946535110474,
          0.9279779195785522,
          1.094673991203308,
          0.6811169981956482,
          1.0254327058792114,
          1.073063850402832,
          1.3306583166122437,
          0.8979279398918152,
          1.545583963394165,
          1.0477782487869263,
          1.0326998233795166,
          0.7484344840049744,
          1.79776132106781,
          0.9789472818374634,
          0.9356342554092407,
          1.33987557888031,
          1.186964511871338,
          0.9177950620651245,
          0.9203258752822876,
          1.1493874788284302,
          1.0937095880508423,
          1.3305001258850098,
          1.2139092683792114,
          1.3316758871078491,
          1.1132383346557617,
          1.2627522945404053,
          1.428619623184204,
          1.2076404094696045,
          1.1074813604354858,
          1.3754788637161255,
          0.9513233304023743,
          1.0600770711898804,
          1.2610574960708618,
          1.2597966194152832,
          0.7945267558097839,
          1.1678190231323242,
          1.0721874237060547,
          1.1956380605697632,
          0.9892028570175171,
          1.509492039680481,
          1.4718867540359497,
          1.2085270881652832,
          1.4395105838775635,
          1.718056321144104,
          1.0487889051437378,
          1.1012542247772217,
          0.965142011642456,
          0.875272810459137,
          0.7983580827713013,
          0.9131441712379456,
          0.9969963431358337,
          1.1777664422988892,
          0.6014420986175537,
          0.8449652791023254,
          0.7791594862937927,
          0.6552008390426636,
          1.0327612161636353,
          2.061553478240967,
          1.4025276899337769,
          0.9487509727478027,
          1.7639024257659912,
          1.3022629022598267,
          1.5128687620162964,
          1.5460715293884277,
          1.1001543998718262,
          1.4677784442901611,
          1.2643945217132568,
          1.52638578414917,
          1.6301004886627197,
          1.3635156154632568,
          1.1463321447372437,
          0.8898054957389832,
          0.5232968330383301,
          0.7899391055107117,
          0.7473950982093811,
          1.607643723487854,
          0.5650891661643982,
          0.8895518779754639,
          1.0690044164657593,
          0.8391633629798889,
          1.5480482578277588,
          1.207074522972107,
          1.3189151287078857,
          0.9622159600257874,
          1.2074421644210815,
          1.2813907861709595,
          0.5993172526359558,
          1.0832641124725342,
          1.333260416984558,
          1.293992519378662,
          1.074585199356079,
          1.2319878339767456,
          1.3042802810668945,
          1.1946433782577515,
          1.2756108045578003,
          0.8847846984863281,
          0.7933791279792786,
          0.5390222668647766,
          1.0241904258728027,
          2.4025652408599854,
          1.3868602514266968,
          1.4622156620025635,
          1.5166183710098267,
          1.1137689352035522,
          0.8066319823265076,
          0.917411744594574,
          1.0517908334732056,
          1.8253971338272095,
          1.6907243728637695,
          1.5927293300628662,
          1.8579154014587402,
          0.4879525899887085,
          1.598270058631897,
          1.6514443159103394,
          1.0026928186416626,
          1.089847207069397,
          1.3285795450210571,
          1.813984751701355,
          0.8226519227027893,
          0.7551448345184326,
          1.3308961391448975,
          1.1934186220169067,
          1.1719878911972046,
          0.833391010761261,
          1.4148441553115845,
          1.347657322883606,
          1.3196567296981812,
          0.8720523715019226,
          1.2486258745193481,
          1.12224543094635,
          1.018128514289856,
          0.9671887159347534,
          0.8021934032440186,
          1.4236325025558472,
          1.6558589935302734,
          1.1554646492004395,
          1.6656403541564941,
          1.494398832321167,
          1.7166752815246582,
          1.4301255941390991,
          1.2864840030670166,
          1.2675607204437256,
          1.0772210359573364,
          1.2510852813720703,
          1.251218318939209,
          0.9861907958984375,
          1.5051465034484863,
          0.8519940972328186,
          1.1472742557525635,
          1.2325067520141602,
          0.3069230318069458,
          1.3362839221954346,
          1.252642035484314,
          1.1759157180786133,
          1.250730037689209,
          0.8023526668548584,
          0.5028361678123474,
          0.8415183424949646,
          1.1863467693328857,
          0.9651668667793274,
          0.995070219039917,
          1.297739028930664,
          1.1374990940093994,
          1.0823721885681152,
          1.1212784051895142,
          1.6862496137619019,
          1.4188002347946167,
          1.2040873765945435,
          1.3497072458267212,
          1.264653205871582,
          1.2180668115615845,
          0.9433048367500305,
          1.0098594427108765,
          0.7390413284301758,
          1.036125659942627,
          0.9406577348709106,
          1.4533648490905762,
          1.3297171592712402,
          1.497081995010376,
          0.7652227282524109,
          1.637881875038147,
          0.9329742193222046,
          1.109694480895996,
          1.089882254600525,
          1.043813943862915,
          1.131235957145691,
          1.362372875213623,
          1.4026048183441162,
          1.4201728105545044,
          1.2282887697219849,
          1.1654082536697388,
          1.33133864402771,
          1.9120984077453613,
          1.4451240301132202,
          1.2695808410644531,
          1.3542486429214478,
          0.9679019451141357,
          1.6035244464874268,
          1.261435866355896,
          0.8530756831169128,
          1.0506713390350342,
          0.5038882493972778,
          0.8141623139381409,
          1.0884031057357788,
          1.376025676727295,
          1.0159852504730225,
          1.3635584115982056,
          1.359345555305481,
          1.074141263961792,
          1.945265293121338,
          2.1278438568115234,
          1.3686058521270752,
          1.132973074913025,
          1.3118267059326172,
          2.0434887409210205,
          1.6221636533737183,
          1.2450584173202515,
          2.0354244709014893,
          1.9129340648651123,
          1.7049404382705688,
          1.3855736255645752,
          0.9754117131233215,
          0.8906704783439636,
          1.1037144660949707,
          1.0760693550109863,
          1.3696378469467163,
          1.2825931310653687,
          1.3150149583816528,
          1.1697595119476318,
          2.0454845428466797,
          1.3871294260025024,
          1.3612431287765503,
          1.1053540706634521,
          1.276589274406433,
          1.575197458267212,
          1.2589969635009766,
          1.452123999595642,
          1.3515738248825073,
          1.5082825422286987,
          0.7626484036445618,
          1.3173314332962036,
          1.3346898555755615,
          0.7008650302886963,
          1.4261995553970337,
          1.159277081489563,
          1.3369240760803223,
          0.9572858810424805,
          1.7219421863555908,
          0.9503759145736694,
          1.3702062368392944,
          1.5301631689071655,
          1.144526720046997,
          1.4775123596191406,
          1.1353909969329834,
          1.2214858531951904,
          1.1135139465332031,
          1.3715215921401978,
          1.3094091415405273,
          1.4653469324111938,
          0.8644235730171204,
          2.1495022773742676,
          1.070520043373108,
          1.1690422296524048,
          1.1760987043380737,
          1.3808834552764893,
          1.2739336490631104,
          2.0626840591430664,
          1.5103596448898315,
          1.417693853378296,
          1.8392689228057861,
          0.8659878373146057,
          1.1846925020217896,
          0.7363327741622925,
          0.7106140851974487,
          1.2185070514678955,
          0.8804599046707153,
          1.2157914638519287,
          1.4950965642929077,
          1.1798018217086792,
          2.3960771560668945,
          1.0119471549987793,
          1.4261577129364014,
          1.6543103456497192,
          1.3227951526641846,
          1.4400758743286133,
          0.8683491945266724,
          1.0493510961532593,
          1.4709393978118896,
          1.725976586341858,
          1.2681288719177246,
          1.0348246097564697,
          0.6889556646347046,
          1.7357865571975708,
          0.8433255553245544,
          1.3402620553970337,
          1.069287657737732,
          1.358757495880127,
          1.8401603698730469,
          1.460679531097412,
          1.4708917140960693,
          1.9191443920135498,
          1.3140462636947632,
          1.7259361743927002,
          1.538170337677002,
          1.3281246423721313,
          2.0756874084472656,
          1.2608604431152344,
          1.8893824815750122,
          1.2986512184143066,
          1.3406351804733276,
          0.9845111966133118,
          0.9105134606361389,
          0.9189022779464722,
          1.2172112464904785,
          1.57200026512146,
          1.4380606412887573,
          1.6584757566452026,
          1.3414108753204346,
          1.4762203693389893,
          0.9744903445243835,
          1.8016294240951538,
          1.5400065183639526,
          1.1461365222930908,
          0.7149783372879028,
          1.020760178565979,
          0.8879460096359253,
          1.4810240268707275,
          1.3609304428100586,
          1.1617217063903809,
          0.9812083840370178,
          0.687298059463501,
          1.6944860219955444,
          1.0329333543777466,
          2.019641160964966,
          1.4112340211868286,
          1.6938972473144531,
          1.870080590248108,
          1.8411917686462402,
          1.4969396591186523,
          1.5817300081253052,
          1.3532875776290894,
          1.1871196031570435,
          1.5986663103103638,
          0.9217895865440369,
          1.2243740558624268,
          1.1872998476028442,
          1.3852542638778687,
          1.4096755981445312,
          0.8417224884033203,
          1.1730953454971313,
          1.5253809690475464,
          1.1321234703063965,
          1.2542438507080078,
          1.139233112335205,
          1.8555593490600586,
          1.2177915573120117,
          1.1328128576278687,
          1.066136121749878,
          1.3249918222427368,
          1.355730652809143,
          1.2122677564620972,
          1.02450692653656,
          1.6277642250061035,
          1.4819453954696655,
          1.1124722957611084,
          0.9004998803138733,
          0.9441775679588318,
          0.3973698318004608,
          1.2807555198669434,
          0.9635107517242432,
          1.0012462139129639,
          1.165068507194519,
          1.5889379978179932,
          1.301810383796692,
          1.7155205011367798,
          1.2939313650131226,
          1.954261302947998,
          1.3169991970062256,
          1.3224759101867676,
          1.3073294162750244,
          1.0955616235733032,
          1.4118179082870483,
          1.351023554801941,
          0.9523202776908875,
          1.157549500465393,
          1.4294072389602661,
          1.400317907333374,
          1.190612554550171,
          1.5604093074798584,
          1.7492294311523438,
          1.515272855758667,
          0.8495143055915833,
          1.9292981624603271,
          1.791886806488037,
          0.9242932796478271,
          0.7287536263465881,
          1.05329167842865,
          1.1764171123504639,
          0.8653420209884644,
          0.9638711810112,
          1.835730791091919,
          0.6211267113685608,
          0.8577946424484253,
          1.404083251953125,
          0.5325793623924255,
          2.0845608711242676,
          2.198439836502075,
          0.9981600046157837,
          1.4842101335525513,
          1.183759331703186,
          0.5455866456031799,
          1.6686490774154663,
          1.553865909576416,
          1.1466705799102783,
          0.9085401892662048,
          0.8760136961936951,
          1.187095046043396,
          1.253995418548584,
          1.0911171436309814,
          1.0806078910827637,
          1.3084851503372192,
          1.5209791660308838,
          1.3978195190429688,
          1.3970293998718262,
          0.6996363997459412,
          1.26953125,
          1.4073742628097534,
          1.089586853981018,
          0.8886078000068665,
          1.4878861904144287,
          1.1235377788543701,
          1.2599387168884277,
          1.4312734603881836,
          1.0571117401123047,
          1.2675695419311523,
          1.651127576828003,
          1.1329984664916992,
          1.118156909942627,
          1.1211907863616943,
          1.2512882947921753,
          1.0075819492340088,
          1.5701547861099243,
          0.9353006482124329,
          1.4498193264007568,
          1.9411271810531616,
          0.953925371170044,
          1.1101715564727783,
          1.7719871997833252,
          1.3036720752716064,
          0.9271821975708008,
          1.6419212818145752,
          1.0902178287506104,
          1.033905267715454,
          1.0211546421051025,
          1.1704586744308472,
          1.9364943504333496,
          1.1261454820632935,
          1.7623419761657715,
          1.9245692491531372,
          1.2908239364624023,
          1.2520824670791626,
          2.0731711387634277,
          1.7982014417648315,
          1.0074148178100586,
          0.959581732749939,
          1.5223227739334106,
          1.5133845806121826,
          1.2058876752853394,
          1.2415413856506348,
          1.7888755798339844,
          1.2923023700714111,
          1.2039486169815063,
          1.2191663980484009,
          1.3373559713363647,
          1.7223159074783325,
          1.5948543548583984,
          1.4494798183441162,
          1.3964414596557617,
          1.6395548582077026,
          1.740656852722168,
          1.5901399850845337,
          1.4014064073562622,
          1.5662882328033447,
          1.0302653312683105,
          0.7390139102935791,
          1.1042799949645996,
          1.6124874353408813,
          1.7213749885559082,
          0.9762964844703674,
          0.933433473110199,
          1.1902986764907837,
          1.5070303678512573,
          1.038966178894043,
          1.4137580394744873,
          1.0201393365859985,
          1.4466601610183716,
          0.9080217480659485,
          2.0704479217529297,
          1.3345812559127808,
          0.8919591903686523,
          1.4376779794692993,
          1.686049461364746,
          1.9904729127883911,
          1.110485315322876,
          1.3928284645080566,
          1.2680758237838745,
          1.0253759622573853,
          1.201509952545166,
          0.9693002104759216,
          1.5401725769042969,
          1.0842366218566895,
          1.2984205484390259,
          1.6320174932479858,
          1.4593968391418457,
          1.0435798168182373,
          1.0406137704849243,
          1.062179684638977,
          1.5054891109466553,
          2.0174717903137207,
          1.1833133697509766,
          1.9728368520736694,
          1.209560751914978,
          1.6067612171173096,
          0.78769451379776,
          1.81969153881073,
          1.7028950452804565,
          2.064077138900757,
          1.6524598598480225,
          1.6500787734985352,
          1.8179372549057007,
          1.8797727823257446,
          1.6227290630340576,
          1.5495859384536743,
          1.1400034427642822,
          1.3364955186843872,
          1.310562014579773,
          0.8039413094520569,
          1.1545912027359009,
          1.5958123207092285,
          0.8288952708244324,
          1.5990104675292969,
          1.6226942539215088,
          1.2884889841079712,
          1.3579273223876953,
          1.5309334993362427,
          1.778625249862671,
          1.8884423971176147,
          1.7232117652893066,
          1.6297227144241333,
          1.4621940851211548,
          0.9043720364570618,
          1.229345440864563,
          1.4235785007476807,
          1.5501823425292969,
          1.3769210577011108,
          1.540713906288147,
          1.233609676361084,
          1.412191390991211,
          1.40748929977417,
          1.039984941482544,
          1.1746546030044556,
          1.6123136281967163,
          1.5590133666992188,
          1.4291636943817139,
          1.8350378274917603,
          1.675005316734314,
          1.8863145112991333,
          1.4150073528289795,
          1.3219696283340454,
          1.196269154548645,
          1.3867892026901245,
          1.8400678634643555,
          1.2190266847610474,
          1.6410095691680908,
          1.9038751125335693,
          1.5062404870986938,
          1.5289636850357056,
          1.3195382356643677,
          1.6529759168624878,
          1.3364959955215454,
          1.8971091508865356,
          0.9091483950614929,
          1.1292744874954224,
          1.6623141765594482,
          1.854706048965454,
          1.8034145832061768,
          1.756553292274475,
          1.4050114154815674,
          1.6476647853851318,
          1.5740631818771362,
          1.6795730590820312,
          1.6021738052368164,
          1.2512882947921753,
          1.949013113975525,
          1.1391996145248413,
          1.6811975240707397,
          1.7226238250732422,
          1.2706472873687744,
          1.5139493942260742,
          1.4449193477630615,
          1.5131282806396484,
          1.188041090965271,
          1.4998650550842285,
          1.6071970462799072,
          1.3465155363082886,
          2.164095878601074,
          1.3224892616271973,
          1.2390931844711304,
          1.5774204730987549,
          1.1001205444335938,
          1.7172017097473145,
          1.2972468137741089,
          1.6874350309371948,
          2.425827980041504,
          1.3657652139663696,
          1.5366438627243042,
          1.8908090591430664,
          1.180033564567566,
          2.053205728530884,
          0.7682246565818787,
          0.8894952535629272,
          0.9412755966186523,
          0.7117737531661987,
          1.1953972578048706,
          1.3485538959503174,
          1.0037533044815063,
          1.5237846374511719,
          1.7957695722579956,
          1.337393045425415,
          1.2701491117477417,
          1.8123313188552856,
          1.8611592054367065,
          2.104827880859375,
          1.6974375247955322,
          1.1709527969360352,
          1.8140555620193481,
          1.8662317991256714,
          1.7650566101074219,
          1.6375259160995483,
          2.1797266006469727,
          1.1582534313201904,
          1.5830644369125366,
          1.6369460821151733,
          1.2473891973495483,
          1.3536105155944824,
          1.0184592008590698,
          1.5631282329559326,
          1.514096736907959,
          1.9876768589019775,
          1.5130850076675415,
          1.383777379989624,
          1.5673516988754272,
          1.781596064567566,
          1.6857010126113892,
          1.4726189374923706,
          1.6215932369232178,
          1.409504771232605,
          1.236757516860962,
          1.5089893341064453,
          1.3476299047470093,
          1.5830786228179932,
          1.6951967477798462,
          1.48713219165802,
          1.6807199716567993,
          1.6816718578338623,
          1.3566018342971802,
          1.0868699550628662,
          2.071798086166382,
          1.8090733289718628,
          1.2598878145217896,
          1.3027414083480835,
          1.7837944030761719,
          2.079557180404663,
          1.6086505651474,
          2.0061147212982178,
          1.5856618881225586,
          1.6373692750930786,
          1.7662183046340942,
          1.1667698621749878,
          1.186900019645691,
          1.165820598602295,
          1.229345440864563,
          1.364227056503296,
          1.3431912660598755,
          1.8136320114135742,
          1.9751379489898682,
          1.1500598192214966,
          1.3174142837524414,
          1.1592308282852173,
          1.4998021125793457,
          1.5125735998153687,
          1.2643142938613892,
          1.6550748348236084,
          2.2756223678588867,
          1.3535397052764893,
          1.7936434745788574,
          1.576485276222229,
          1.4509378671646118,
          1.2908318042755127,
          1.2626162767410278,
          1.7776387929916382,
          1.3925848007202148,
          1.2484099864959717,
          1.6111528873443604,
          1.850429654121399,
          2.5337460041046143,
          1.4821789264678955,
          2.125396490097046,
          2.3736283779144287,
          1.4008111953735352,
          2.069972276687622,
          1.146862268447876,
          1.6379542350769043,
          1.0720765590667725,
          1.2331314086914062,
          2.2187626361846924,
          2.2330944538116455,
          1.2411408424377441,
          1.6896435022354126,
          0.7673375010490417,
          1.8871687650680542,
          1.3970052003860474,
          1.5426154136657715,
          1.9920419454574585,
          1.1324522495269775,
          1.7998684644699097,
          2.112473249435425,
          1.3027591705322266,
          1.3628346920013428,
          1.452317476272583,
          1.559233546257019,
          1.446043610572815,
          2.0770957469940186,
          1.7991293668746948,
          1.748084306716919,
          1.6888632774353027,
          0.9554834961891174,
          1.3535397052764893,
          2.1640148162841797,
          1.4415184259414673,
          1.0505558252334595,
          2.0577950477600098,
          1.0754140615463257,
          1.7858617305755615,
          1.2524107694625854,
          2.009129762649536,
          1.085287094116211,
          1.2614123821258545,
          1.327645182609558,
          1.2036073207855225,
          1.3231308460235596,
          2.2491633892059326,
          2.297840118408203,
          1.7228524684906006,
          2.067473888397217,
          1.4752388000488281,
          1.9174717664718628,
          1.0803762674331665,
          1.8436260223388672,
          1.9148037433624268,
          1.5396322011947632,
          0.9503763318061829,
          2.198408842086792,
          1.193827509880066,
          2.0036275386810303,
          1.153251051902771,
          2.1825456619262695,
          0.954978346824646,
          1.5541025400161743,
          1.5927913188934326,
          1.900665283203125,
          1.950899362564087,
          2.3291754722595215,
          1.401728630065918,
          1.5885168313980103,
          1.153777003288269,
          1.5564619302749634,
          1.6996396780014038,
          1.0178492069244385,
          1.7188613414764404,
          1.0914795398712158,
          1.9699846506118774,
          1.8013502359390259,
          1.1287356615066528,
          1.1890459060668945,
          2.1084017753601074,
          1.5231671333312988,
          1.312920331954956,
          1.6070517301559448,
          2.107753276824951,
          1.5238664150238037,
          0.9232415556907654,
          1.2312332391738892,
          1.75077223777771,
          1.1954317092895508,
          1.8517074584960938,
          1.0306568145751953,
          1.0823638439178467,
          1.269986867904663,
          1.5409927368164062,
          1.9521549940109253,
          1.1615214347839355,
          1.8570637702941895,
          1.1589709520339966,
          1.6444135904312134,
          1.2215545177459717,
          1.9315110445022583,
          1.5399248600006104,
          1.3431912660598755,
          1.1313828229904175,
          2.0907249450683594,
          1.6545161008834839,
          1.4932854175567627,
          1.3546689748764038,
          1.1485267877578735,
          1.8438447713851929,
          1.162706971168518,
          0.5906989574432373,
          1.1712151765823364,
          1.4296929836273193,
          1.9274643659591675,
          2.025083303451538,
          1.4061164855957031,
          1.760998249053955,
          1.1693856716156006,
          1.763182282447815,
          2.3451271057128906,
          1.0237305164337158,
          1.8510082960128784,
          1.2891278266906738,
          1.005052089691162,
          1.1870815753936768,
          1.6034618616104126,
          1.233842372894287,
          1.1893023252487183,
          1.2859748601913452,
          1.2402427196502686,
          1.812318205833435,
          1.9610812664031982,
          1.9590606689453125,
          1.4671372175216675,
          1.419514536857605,
          1.8746482133865356,
          2.0856587886810303,
          1.1521493196487427,
          1.419514536857605,
          1.298616886138916,
          1.302627444267273,
          2.0997395515441895,
          1.346760630607605,
          1.1444282531738281,
          1.3102704286575317,
          1.625974416732788,
          1.165906310081482,
          1.3912606239318848,
          1.079035997390747,
          1.5058060884475708,
          1.685390591621399,
          1.1937638521194458,
          1.2510157823562622,
          1.4789338111877441,
          1.301606297492981,
          1.118315577507019,
          1.4072602987289429,
          1.3942421674728394,
          1.2294859886169434,
          1.4742602109909058,
          1.4966942071914673,
          1.61170494556427,
          1.1974444389343262,
          1.25795316696167,
          1.4093403816223145,
          1.238789677619934,
          1.4228841066360474,
          1.2499449253082275,
          1.597690224647522,
          1.4227237701416016,
          2.0474722385406494,
          1.3862308263778687,
          1.1839743852615356,
          1.9066109657287598,
          1.785649061203003,
          1.4653124809265137,
          1.7804619073867798,
          1.2855819463729858,
          1.4611201286315918,
          1.535983920097351,
          1.2512882947921753,
          1.153679370880127,
          1.1154817342758179,
          1.3662937879562378,
          1.3041404485702515,
          1.5448243618011475,
          1.5619090795516968,
          0.9141370058059692,
          1.5782462358474731,
          1.2411950826644897,
          1.2838135957717896,
          0.9604768753051758,
          1.452317476272583,
          1.0940841436386108,
          1.2758779525756836,
          1.2879467010498047,
          1.043954849243164,
          1.069106936454773,
          2.1016039848327637,
          1.4677411317825317,
          1.1849018335342407,
          1.3049002885818481,
          1.164763331413269,
          2.0428264141082764,
          1.3795984983444214,
          1.7620106935501099,
          1.9227017164230347,
          1.8329722881317139,
          1.60261070728302,
          1.411716341972351,
          1.1114298105239868,
          1.2509832382202148,
          1.4878349304199219,
          1.2833776473999023,
          1.8405567407608032,
          1.3799755573272705,
          1.249813437461853,
          1.360455870628357,
          1.6926238536834717,
          1.4593031406402588,
          1.6590626239776611,
          1.5179277658462524,
          1.247047781944275,
          1.5562171936035156,
          1.5562171936035156,
          1.5562171936035156,
          1.1379261016845703,
          1.298481822013855,
          1.8038794994354248,
          1.6567891836166382,
          1.3822917938232422,
          1.6839090585708618,
          0.8824419975280762,
          1.1781293153762817,
          2.145090341567993,
          0.5063823461532593,
          1.4022847414016724,
          1.2979686260223389,
          1.5420036315917969,
          1.2979686260223389,
          1.003320574760437,
          0.8920709490776062,
          1.285805344581604,
          2.027745246887207,
          1.6445703506469727,
          1.003320574760437,
          1.238789677619934,
          1.5126054286956787,
          1.8969435691833496,
          1.4913032054901123,
          1.6275233030319214,
          1.5086886882781982,
          1.1676384210586548,
          0.8811562061309814,
          1.2873866558074951,
          1.2794467210769653,
          1.4005833864212036,
          1.1685872077941895,
          1.7218536138534546,
          1.1023766994476318,
          1.7180919647216797,
          1.2448357343673706,
          1.785649061203003,
          1.5321111679077148,
          1.8033016920089722,
          1.2101067304611206,
          1.327645182609558,
          1.8570637702941895,
          1.0598551034927368
         ]
        },
        {
         "name": "SDNE+XM",
         "type": "histogram",
         "x": [
          0.3307534158229828,
          0.3456169068813324,
          0.25591427087783813,
          0.2641240358352661,
          0.2757686376571655,
          0.2360972911119461,
          0.2923947274684906,
          0.27491694688796997,
          0.2809615731239319,
          0.28141453862190247,
          0.3105841279029846,
          0.2946334183216095,
          0.3189101815223694,
          0.30288124084472656,
          0.3390331566333771,
          0.28064730763435364,
          0.3425848186016083,
          0.30530527234077454,
          0.3910583555698395,
          0.29618725180625916,
          0.29932451248168945,
          0.2841137647628784,
          0.3101293444633484,
          0.283157080411911,
          0.2510920464992523,
          0.27247166633605957,
          0.26937171816825867,
          0.2736230194568634,
          0.282840758562088,
          0.29009100794792175,
          0.29075267910957336,
          0.2976897954940796,
          0.25859785079956055,
          0.27404987812042236,
          0.23408761620521545,
          0.31409212946891785,
          0.29879230260849,
          0.29300910234451294,
          0.29779332876205444,
          0.2884502410888672,
          0.282880961894989,
          0.31584322452545166,
          0.3156548738479614,
          0.2504180669784546,
          0.2764574885368347,
          0.28938981890678406,
          0.2739352583885193,
          0.29305073618888855,
          0.2780040204524994,
          0.28729817271232605,
          0.2841036319732666,
          0.3495941162109375,
          0.3716016411781311,
          0.3838808238506317,
          0.25134459137916565,
          0.2631860077381134,
          0.24290066957473755,
          0.2666500210762024,
          0.27152150869369507,
          0.2407579869031906,
          0.2770237326622009,
          0.36102041602134705,
          0.27505385875701904,
          0.2888184189796448,
          0.32768315076828003,
          0.25838330388069153,
          0.26440054178237915,
          0.2946578860282898,
          0.30310341715812683,
          0.28743892908096313,
          0.29724037647247314,
          0.25888726115226746,
          0.30695387721061707,
          0.3397725820541382,
          0.3789762556552887,
          0.2838006615638733,
          0.2512698173522949,
          0.2896203100681305,
          0.2856422960758209,
          0.3182016909122467,
          0.30209672451019287,
          0.2795204520225525,
          0.2537889778614044,
          0.283583402633667,
          0.331876665353775,
          0.41291043162345886,
          0.27531296014785767,
          0.31123167276382446,
          0.2526012361049652,
          0.23815540969371796,
          0.29856348037719727,
          0.27771565318107605,
          0.3587963283061981,
          0.30409884452819824,
          0.3024769127368927,
          0.3238120973110199,
          0.23885950446128845,
          0.24849535524845123,
          0.27645426988601685,
          0.2659381031990051,
          0.28407472372055054,
          0.27349022030830383,
          0.27373287081718445,
          0.31264418363571167,
          0.26673781871795654,
          0.30163830518722534,
          0.29379233717918396,
          0.2515627145767212,
          0.2691327631473541,
          0.3283669650554657,
          0.2352495789527893,
          0.2335882931947708,
          0.30212733149528503,
          0.3427254259586334,
          0.2886640131473541,
          0.3120569586753845,
          0.3085029423236847,
          0.3183579444885254,
          0.35317522287368774,
          0.2845361828804016,
          0.3379287123680115,
          0.23371590673923492,
          0.34349310398101807,
          0.33948078751564026,
          0.27375516295433044,
          0.2538466453552246,
          0.27770036458969116,
          0.3491503894329071,
          0.2986491322517395,
          0.3021009862422943,
          0.31474944949150085,
          0.29518216848373413,
          0.2768782079219818,
          0.27651095390319824,
          0.33067259192466736,
          0.2804742753505707,
          0.24173258244991302,
          0.2686316967010498,
          0.24856489896774292,
          0.2773755192756653,
          0.26471611857414246,
          0.31453511118888855,
          0.27925312519073486,
          0.33199813961982727,
          0.25891873240470886,
          0.30390334129333496,
          0.36277905106544495,
          0.3138851225376129,
          0.3460138142108917,
          0.3227294385433197,
          0.2991897165775299,
          0.2887060344219208,
          0.2745167016983032,
          0.26732030510902405,
          0.2705601751804352,
          0.29476675391197205,
          0.3355685770511627,
          0.3095860183238983,
          0.2906946539878845,
          0.2754555344581604,
          0.18677929043769836,
          0.30379295349121094,
          0.34280744194984436,
          0.2909184396266937,
          0.3122100830078125,
          0.2807627022266388,
          0.21277321875095367,
          0.2603690028190613,
          0.3635123670101166,
          0.30129072070121765,
          0.3171675205230713,
          0.29666396975517273,
          0.34664198756217957,
          0.30910539627075195,
          0.2865375578403473,
          0.266853928565979,
          0.3306370675563812,
          0.34245720505714417,
          0.3439420163631439,
          0.3358626067638397,
          0.3878115117549896,
          0.2839318513870239,
          0.28111034631729126,
          0.28786998987197876,
          0.29860731959342957,
          0.24800647795200348,
          0.28097325563430786,
          0.2868042290210724,
          0.3008987307548523,
          0.27865394949913025,
          0.29571792483329773,
          0.3183220326900482,
          0.23381350934505463,
          0.22257478535175323,
          0.2505972385406494,
          0.24332019686698914,
          0.2888089716434479,
          0.30435267090797424,
          0.3212524354457855,
          0.32013779878616333,
          0.2701413333415985,
          0.3231614828109741,
          0.30161410570144653,
          0.3071315288543701,
          0.2806902825832367,
          0.3001956641674042,
          0.3015695810317993,
          0.30555084347724915,
          0.29001766443252563,
          0.2643038332462311,
          0.2756751477718353,
          0.21127568185329437,
          0.25054290890693665,
          0.3133105933666229,
          0.33862581849098206,
          0.3267405033111572,
          0.2725123465061188,
          0.29679998755455017,
          0.323866069316864,
          0.30595794320106506,
          0.33822593092918396,
          0.3555859327316284,
          0.32816705107688904,
          0.339288592338562,
          0.3290419578552246,
          0.3156214952468872,
          0.3111394941806793,
          0.35961297154426575,
          0.3274082839488983,
          0.3435669243335724,
          0.2629188597202301,
          0.33927348256111145,
          0.3177637755870819,
          0.28373247385025024,
          0.2771743834018707,
          0.27339357137680054,
          0.28252461552619934,
          0.2780582308769226,
          0.32096636295318604,
          0.30661919713020325,
          0.26329079270362854,
          0.2715347111225128,
          0.27115845680236816,
          0.32655057311058044,
          0.30267179012298584,
          0.30434927344322205,
          0.30357956886291504,
          0.2609958350658417,
          0.323207825422287,
          0.2790658175945282,
          0.2876932919025421,
          0.28097447752952576,
          0.24236707389354706,
          0.2990517318248749,
          0.3050406575202942,
          0.328890860080719,
          0.3139412999153137,
          0.30500897765159607,
          0.3068081736564636,
          0.32433605194091797,
          0.31797459721565247,
          0.27578282356262207,
          0.3612925708293915,
          0.31205669045448303,
          0.2897354066371918,
          0.2921936511993408,
          0.32517698407173157,
          0.2712932825088501,
          0.32423272728919983,
          0.2615988850593567,
          0.31124556064605713,
          0.2868455946445465,
          0.3118484914302826,
          0.2683214247226715,
          0.27102741599082947,
          0.3150719702243805,
          0.34177014231681824,
          0.2951669692993164,
          0.3577551543712616,
          0.25231096148490906,
          0.30424121022224426,
          0.2828940153121948,
          0.25962257385253906,
          0.25009098649024963,
          0.3088271915912628,
          0.2738721966743469,
          0.2663416564464569,
          0.29235509037971497,
          0.27806636691093445,
          0.36441001296043396,
          0.30834701657295227,
          0.27917754650115967,
          0.3568044602870941,
          0.2635917365550995,
          0.27558720111846924,
          0.3158527612686157,
          0.28363561630249023,
          0.30112603306770325,
          0.32753968238830566,
          0.29563337564468384,
          0.2989082634449005,
          0.2746363580226898,
          0.284734308719635,
          0.25558897852897644,
          0.2638811469078064,
          0.2948550581932068,
          0.34216949343681335,
          0.3707927167415619,
          0.28627851605415344,
          0.38856974244117737,
          0.35987699031829834,
          0.3041166365146637,
          0.3343563675880432,
          0.28452926874160767,
          0.3293764889240265,
          0.326825886964798,
          0.3534052073955536,
          0.3739873170852661,
          0.32293152809143066,
          0.21930746734142303,
          0.27956047654151917,
          0.2806658446788788,
          0.2385784536600113,
          0.28756314516067505,
          0.3170963525772095,
          0.30744656920433044,
          0.3391058146953583,
          0.3186843693256378,
          0.28779348731040955,
          0.28835368156433105,
          0.32076895236968994,
          0.3078905940055847,
          0.27747759222984314,
          0.26858091354370117,
          0.22000442445278168,
          0.2348368763923645,
          0.3055436313152313,
          0.2799527049064636,
          0.30284127593040466,
          0.27226224541664124,
          0.23451291024684906,
          0.2762560248374939,
          0.33436280488967896,
          0.3336290717124939,
          0.3056676983833313,
          0.3434044420719147,
          0.3451523184776306,
          0.3823557198047638,
          0.21801912784576416,
          0.3538822829723358,
          0.34047362208366394,
          0.3025406301021576,
          0.34140586853027344,
          0.2720249891281128,
          0.22214588522911072,
          0.24254845082759857,
          0.2980351150035858,
          0.295843243598938,
          0.26811686158180237,
          0.29229703545570374,
          0.318720281124115,
          0.2652777135372162,
          0.3052655756473541,
          0.26269689202308655,
          0.2637362778186798,
          0.35102882981300354,
          0.367110937833786,
          0.2800074517726898,
          0.32341527938842773,
          0.2240069955587387,
          0.2843679189682007,
          0.2743167579174042,
          0.31037020683288574,
          0.3620794117450714,
          0.2389136552810669,
          0.263293981552124,
          0.2837100625038147,
          0.198586106300354,
          0.2505403459072113,
          0.2842342257499695,
          0.27272096276283264,
          0.3083774149417877,
          0.2127520889043808,
          0.20037509500980377,
          0.2775653302669525,
          0.24045220017433167,
          0.2690180242061615,
          0.32958510518074036,
          0.26203781366348267,
          0.32745546102523804,
          0.2839913070201874,
          0.258816659450531,
          0.2536042332649231,
          0.3068130314350128,
          0.26468247175216675,
          0.3125452995300293,
          0.22618742287158966,
          0.29728958010673523,
          0.21265992522239685,
          0.28984344005584717,
          0.31803974509239197,
          0.27155566215515137,
          0.3229253590106964,
          0.3191133141517639,
          0.2785252034664154,
          0.25155287981033325,
          0.2531346082687378,
          0.2668336033821106,
          0.23961608111858368,
          0.324684739112854,
          0.2446865290403366,
          0.23864035308361053,
          0.2691591680049896,
          0.28802669048309326,
          0.2185366451740265,
          0.4235759377479553,
          0.33932310342788696,
          0.28847259283065796,
          0.29218143224716187,
          0.3738109767436981,
          0.20792537927627563,
          0.4180201590061188,
          0.3241230547428131,
          0.2658911347389221,
          0.31209462881088257,
          0.27549728751182556,
          0.3124631941318512,
          0.2924952208995819,
          0.2516070604324341,
          0.2511129677295685,
          0.30631765723228455,
          0.28328466415405273,
          0.21783283352851868,
          0.3081468641757965,
          0.27487683296203613,
          0.3482641875743866,
          0.20541122555732727,
          0.26591944694519043,
          0.26736682653427124,
          0.20816126465797424,
          0.3470631241798401,
          0.31314772367477417,
          0.2859601676464081,
          0.292141318321228,
          0.2693403959274292,
          0.31005236506462097,
          0.2404385656118393,
          0.2776050269603729,
          0.28389856219291687,
          0.32890719175338745,
          0.28251051902770996,
          0.2964125871658325,
          0.26765668392181396,
          0.2758643329143524,
          0.2442469447851181,
          0.27750924229621887,
          0.1856924444437027,
          0.3539891839027405,
          0.30802813172340393,
          0.28536006808280945,
          0.3950307071208954,
          0.25775787234306335,
          0.26158198714256287,
          0.2504589855670929,
          0.2774134576320648,
          0.3596429228782654,
          0.33694037795066833,
          0.2795475721359253,
          0.3324030637741089,
          0.23924247920513153,
          0.27956971526145935,
          0.3387640118598938,
          0.30702686309814453,
          0.3310246169567108,
          0.26115819811820984,
          0.28115731477737427,
          0.2275361269712448,
          0.2162218987941742,
          0.3009692430496216,
          0.3283235430717468,
          0.2791176438331604,
          0.2752726078033447,
          0.32709792256355286,
          0.3322334289550781,
          0.3144320845603943,
          0.32535311579704285,
          0.379160076379776,
          0.3119204044342041,
          0.2722660303115845,
          0.3300229609012604,
          0.3091230094432831,
          0.3060200810432434,
          0.2823597490787506,
          0.323608934879303,
          0.25128456950187683,
          0.32472285628318787,
          0.3225506842136383,
          0.32349562644958496,
          0.34484928846359253,
          0.2861642837524414,
          0.2449454516172409,
          0.2622503936290741,
          0.2351652830839157,
          0.2455814778804779,
          0.27024444937705994,
          0.2651759684085846,
          0.2614539563655853,
          0.37932083010673523,
          0.29092538356781006,
          0.27305859327316284,
          0.27198246121406555,
          0.3620656132698059,
          0.31043651700019836,
          0.2846468389034271,
          0.23707334697246552,
          0.3144882023334503,
          0.2346036583185196,
          0.22621925175189972,
          0.25016704201698303,
          0.328275203704834,
          0.2684980034828186,
          0.31048962473869324,
          0.27123817801475525,
          0.3406234383583069,
          0.2589263916015625,
          0.29276952147483826,
          0.2955753803253174,
          0.25730687379837036,
          0.3326331377029419,
          0.28754451870918274,
          0.3342325985431671,
          0.2846840023994446,
          0.2835351228713989,
          0.32063624262809753,
          0.2731868624687195,
          0.2973968982696533,
          0.3402046859264374,
          0.42736542224884033,
          0.3214888274669647,
          0.2884773910045624,
          0.2795048952102661,
          0.29325830936431885,
          0.2742542624473572,
          0.30209025740623474,
          0.30110862851142883,
          0.26455095410346985,
          0.276149719953537,
          0.24277733266353607,
          0.3113141655921936,
          0.3169137239456177,
          0.26836836338043213,
          0.30087611079216003,
          0.2671903073787689,
          0.24819567799568176,
          0.2906055748462677,
          0.3035361170768738,
          0.3189237117767334,
          0.2865523099899292,
          0.31605076789855957,
          0.24683639407157898,
          0.2797706425189972,
          0.28320378065109253,
          0.3051884174346924,
          0.3312872648239136,
          0.3311581313610077,
          0.29372766613960266,
          0.27374157309532166,
          0.27331945300102234,
          0.2736288607120514,
          0.28479865193367004,
          0.24823221564292908,
          0.2578873634338379,
          0.31554603576660156,
          0.249223992228508,
          0.2681725323200226,
          0.2661327123641968,
          0.2832568883895874,
          0.277629554271698,
          0.30446839332580566,
          0.24673141539096832,
          0.2993676960468292,
          0.2954070270061493,
          0.3001596927642822,
          0.23830968141555786,
          0.3311377763748169,
          0.2664468586444855,
          0.2600337266921997,
          0.26166650652885437,
          0.2810073792934418,
          0.27435317635536194,
          0.25618213415145874,
          0.2537136673927307,
          0.28612595796585083,
          0.21106500923633575,
          0.4151783585548401,
          0.29146116971969604,
          0.3304906487464905,
          0.24239641427993774,
          0.2794003188610077,
          0.2713336944580078,
          0.3319476544857025,
          0.3247843384742737,
          0.32890719175338745,
          0.2710086703300476,
          0.29675623774528503,
          0.3438359200954437,
          0.34284546971321106,
          0.2944431006908417,
          0.2400246411561966,
          0.2761034369468689,
          0.308323472738266,
          0.3000044524669647,
          0.3540883958339691,
          0.34629368782043457,
          0.3584625720977783,
          0.34714436531066895,
          0.22070519626140594,
          0.2606092393398285,
          0.24332833290100098,
          0.18497136235237122,
          0.3218560516834259,
          0.29774680733680725,
          0.32745108008384705,
          0.37967586517333984,
          0.18884702026844025,
          0.31134724617004395,
          0.3176169693470001,
          0.19506095349788666,
          0.3128187358379364,
          0.15564699470996857,
          0.1660383641719818,
          0.17863911390304565,
          0.18793316185474396,
          0.21659931540489197,
          0.28952497243881226,
          0.17428934574127197,
          0.31304511427879333,
          0.30556637048721313,
          0.2726190388202667,
          0.25901275873184204,
          0.2728429436683655,
          0.3124515116214752,
          0.3520028591156006,
          0.32490143179893494,
          0.18979331851005554,
          0.2812597453594208,
          0.323798805475235,
          0.36645036935806274,
          0.3073728680610657,
          0.32021546363830566,
          0.2599651515483856,
          0.3236592710018158,
          0.2926499843597412,
          0.26944035291671753,
          0.2945019006729126,
          0.25298744440078735,
          0.267926424741745,
          0.2725038230419159,
          0.34272319078445435,
          0.27183258533477783,
          0.267086923122406,
          0.31616687774658203,
          0.3672322630882263,
          0.32260602712631226,
          0.29773446917533875,
          0.2644103467464447,
          0.30372354388237,
          0.26430150866508484,
          0.23190756142139435,
          0.20500831305980682,
          0.307483971118927,
          0.30422618985176086,
          0.3192732036113739,
          0.3441219627857208,
          0.27390947937965393,
          0.20474687218666077,
          0.26596587896347046,
          0.31428179144859314,
          0.2566068470478058,
          0.28671374917030334,
          0.2832118570804596,
          0.2858051657676697,
          0.37425360083580017,
          0.19754710793495178,
          0.35522106289863586,
          0.3366524279117584,
          0.258800745010376,
          0.37415608763694763,
          0.2251855731010437,
          0.27240216732025146,
          0.28695300221443176,
          0.28320378065109253,
          0.19956594705581665,
          0.28531497716903687,
          0.2771812677383423,
          0.393035352230072,
          0.31554582715034485,
          0.25533488392829895,
          0.1876276284456253,
          0.2935987710952759,
          0.3581188917160034,
          0.1910494714975357,
          0.2931150197982788,
          0.37633877992630005,
          0.29300516843795776,
          0.3186638355255127,
          0.22048355638980865,
          0.27515676617622375,
          0.2872745096683502,
          0.20828276872634888,
          0.2551097273826599,
          0.31252655386924744,
          0.18675337731838226,
          0.24229592084884644,
          0.28692662715911865,
          0.3601452708244324,
          0.29109036922454834,
          0.3267804682254791,
          0.33563217520713806,
          0.3191450834274292,
          0.3297319710254669,
          0.18926316499710083,
          0.22257906198501587,
          0.25242874026298523,
          0.24286051094532013,
          0.3104027509689331,
          0.30890241265296936,
          0.20472416281700134,
          0.34247809648513794,
          0.15944252908229828,
          0.33117255568504333,
          0.286525696516037,
          0.3355627655982971,
          0.2832946479320526,
          0.2579098045825958,
          0.23967276513576508,
          0.2654397487640381,
          0.27654126286506653,
          0.3076280951499939,
          0.3006385266780853,
          0.3309636116027832,
          0.284947007894516,
          0.3601129949092865,
          0.3088233172893524,
          0.2741319239139557,
          0.34619757533073425,
          0.2255609929561615,
          0.29300516843795776,
          0.3416212797164917,
          0.28055959939956665,
          0.1934628039598465,
          0.270145446062088,
          0.22047929465770721,
          0.28029054403305054,
          0.28366246819496155,
          0.2656300663948059,
          0.24896025657653809,
          0.2714906632900238,
          0.30769672989845276,
          0.26946961879730225,
          0.3246466815471649,
          0.32336723804473877,
          0.3490516245365143,
          0.3565748333930969,
          0.35293707251548767,
          0.20202650129795074,
          0.30014768242836,
          0.2522019147872925,
          0.265057235956192,
          0.33173349499702454,
          0.3148978650569916,
          0.2445751130580902,
          0.3620182275772095,
          0.27421724796295166,
          0.32370686531066895,
          0.2442115843296051,
          0.397365003824234,
          0.1719723790884018,
          0.32153165340423584,
          0.22836832702159882,
          0.3618803024291992,
          0.3252039849758148,
          0.36166682839393616,
          0.2085311859846115,
          0.2326354831457138,
          0.22860552370548248,
          0.27637696266174316,
          0.2795979380607605,
          0.1757279485464096,
          0.24803952872753143,
          0.2633560299873352,
          0.3501731753349304,
          0.2715855836868286,
          0.30621102452278137,
          0.28744402527809143,
          0.35191842913627625,
          0.2598702013492584,
          0.2767374515533447,
          0.2793228030204773,
          0.3035062253475189,
          0.24851158261299133,
          0.3379192650318146,
          0.18663200736045837,
          0.3545078635215759,
          0.2759361267089844,
          0.389248788356781,
          0.20684489607810974,
          0.22386106848716736,
          0.2828334867954254,
          0.29663729667663574,
          0.3016386926174164,
          0.26023679971694946,
          0.3906609117984772,
          0.23827236890792847,
          0.23523972928524017,
          0.25675341486930847,
          0.3026861548423767,
          0.3099040687084198,
          0.28531497716903687,
          0.19127991795539856,
          0.35979804396629333,
          0.2672266960144043,
          0.28899887204170227,
          0.20167404413223267,
          0.21201059222221375,
          0.2616187334060669,
          0.24750524759292603,
          0.1900605708360672,
          0.25850874185562134,
          0.21120239794254303,
          0.2997604310512543,
          0.3527560830116272,
          0.3082928955554962,
          0.3790462911128998,
          0.24735595285892487,
          0.22723469138145447,
          0.3399435877799988,
          0.28108081221580505,
          0.2427421361207962,
          0.2885551154613495,
          0.2689482867717743,
          0.2533428370952606,
          0.35311272740364075,
          0.2988775968551636,
          0.2570214569568634,
          0.2793451249599457,
          0.1982663869857788,
          0.2596573829650879,
          0.28840431571006775,
          0.3374476730823517,
          0.2424018383026123,
          0.21666400134563446,
          0.3960599899291992,
          0.3385510742664337,
          0.1964375078678131,
          0.21666400134563446,
          0.2795300781726837,
          0.309897780418396,
          0.2853018343448639,
          0.20067763328552246,
          0.25887688994407654,
          0.2545429766178131,
          0.3386780023574829,
          0.17146487534046173,
          0.22672851383686066,
          0.25284746289253235,
          0.25488001108169556,
          0.2701914608478546,
          0.23476724326610565,
          0.27127131819725037,
          0.22528909146785736,
          0.27807265520095825,
          0.18826667964458466,
          0.27417850494384766,
          0.21868926286697388,
          0.2819068729877472,
          0.20368324220180511,
          0.2906346619129181,
          0.3330298066139221,
          0.2568897306919098,
          0.2705782651901245,
          0.2929573357105255,
          0.2648277282714844,
          0.3031308054924011,
          0.21032021939754486,
          0.33557450771331787,
          0.23561455309391022,
          0.28988656401634216,
          0.27874287962913513,
          0.2587742805480957,
          0.24672767519950867,
          0.37637051939964294,
          0.20947077870368958,
          0.2808625400066376,
          0.30580317974090576,
          0.27795925736427307,
          0.324730783700943,
          0.32890719175338745,
          0.2655252516269684,
          0.240591898560524,
          0.23115502297878265,
          0.2707667052745819,
          0.24900291860103607,
          0.3407685160636902,
          0.2049936205148697,
          0.24641698598861694,
          0.22857153415679932,
          0.24448443949222565,
          0.19277673959732056,
          0.3006385266780853,
          0.21650055050849915,
          0.27732229232788086,
          0.26501575112342834,
          0.3080562949180603,
          0.22392798960208893,
          0.319558709859848,
          0.24995575845241547,
          0.31228119134902954,
          0.22539684176445007,
          0.26934781670570374,
          0.33063992857933044,
          0.2066274732351303,
          0.36988991498947144,
          0.37379756569862366,
          0.37832823395729065,
          0.34398332238197327,
          0.24906384944915771,
          0.26132360100746155,
          0.19735173881053925,
          0.3205322027206421,
          0.23747064173221588,
          0.4160739779472351,
          0.26083341240882874,
          0.22934308648109436,
          0.2780624330043793,
          0.22347696125507355,
          0.24161659181118011,
          0.28841859102249146,
          0.2627002000808716,
          0.2820415198802948,
          0.32729583978652954,
          0.32729583978652954,
          0.32729583978652954,
          0.27668875455856323,
          0.3009805679321289,
          0.2692066729068756,
          0.36838120222091675,
          0.20852316915988922,
          0.25715532898902893,
          0.16881881654262543,
          0.19141992926597595,
          0.2967946231365204,
          0.2307385802268982,
          0.2758992612361908,
          0.29742762446403503,
          0.22708219289779663,
          0.29742762446403503,
          0.22492438554763794,
          0.166732057929039,
          0.20165635645389557,
          0.3640815317630768,
          0.30336296558380127,
          0.22492438554763794,
          0.2648277282714844,
          0.20578470826148987,
          0.29472091794013977,
          0.3128255605697632,
          0.25509563088417053,
          0.23926474153995514,
          0.19062738120555878,
          0.16533799469470978,
          0.2374226152896881,
          0.18911117315292358,
          0.29618388414382935,
          0.2569572627544403,
          0.36097973585128784,
          0.32721224427223206,
          0.36063823103904724,
          0.20712688565254211,
          0.37637051939964294,
          0.3144645690917969,
          0.26305314898490906,
          0.2069414108991623,
          0.30769672989845276,
          0.3906609117984772,
          0.2331857830286026
         ]
        }
       ],
       "layout": {
        "font": {
         "size": 20
        },
        "paper_bgcolor": "white",
        "plot_bgcolor": "white",
        "template": {
         "data": {
          "bar": [
           {
            "error_x": {
             "color": "#2a3f5f"
            },
            "error_y": {
             "color": "#2a3f5f"
            },
            "marker": {
             "line": {
              "color": "#E5ECF6",
              "width": 0.5
             },
             "pattern": {
              "fillmode": "overlay",
              "size": 10,
              "solidity": 0.2
             }
            },
            "type": "bar"
           }
          ],
          "barpolar": [
           {
            "marker": {
             "line": {
              "color": "#E5ECF6",
              "width": 0.5
             },
             "pattern": {
              "fillmode": "overlay",
              "size": 10,
              "solidity": 0.2
             }
            },
            "type": "barpolar"
           }
          ],
          "carpet": [
           {
            "aaxis": {
             "endlinecolor": "#2a3f5f",
             "gridcolor": "white",
             "linecolor": "white",
             "minorgridcolor": "white",
             "startlinecolor": "#2a3f5f"
            },
            "baxis": {
             "endlinecolor": "#2a3f5f",
             "gridcolor": "white",
             "linecolor": "white",
             "minorgridcolor": "white",
             "startlinecolor": "#2a3f5f"
            },
            "type": "carpet"
           }
          ],
          "choropleth": [
           {
            "colorbar": {
             "outlinewidth": 0,
             "ticks": ""
            },
            "type": "choropleth"
           }
          ],
          "contour": [
           {
            "colorbar": {
             "outlinewidth": 0,
             "ticks": ""
            },
            "colorscale": [
             [
              0,
              "#0d0887"
             ],
             [
              0.1111111111111111,
              "#46039f"
             ],
             [
              0.2222222222222222,
              "#7201a8"
             ],
             [
              0.3333333333333333,
              "#9c179e"
             ],
             [
              0.4444444444444444,
              "#bd3786"
             ],
             [
              0.5555555555555556,
              "#d8576b"
             ],
             [
              0.6666666666666666,
              "#ed7953"
             ],
             [
              0.7777777777777778,
              "#fb9f3a"
             ],
             [
              0.8888888888888888,
              "#fdca26"
             ],
             [
              1,
              "#f0f921"
             ]
            ],
            "type": "contour"
           }
          ],
          "contourcarpet": [
           {
            "colorbar": {
             "outlinewidth": 0,
             "ticks": ""
            },
            "type": "contourcarpet"
           }
          ],
          "heatmap": [
           {
            "colorbar": {
             "outlinewidth": 0,
             "ticks": ""
            },
            "colorscale": [
             [
              0,
              "#0d0887"
             ],
             [
              0.1111111111111111,
              "#46039f"
             ],
             [
              0.2222222222222222,
              "#7201a8"
             ],
             [
              0.3333333333333333,
              "#9c179e"
             ],
             [
              0.4444444444444444,
              "#bd3786"
             ],
             [
              0.5555555555555556,
              "#d8576b"
             ],
             [
              0.6666666666666666,
              "#ed7953"
             ],
             [
              0.7777777777777778,
              "#fb9f3a"
             ],
             [
              0.8888888888888888,
              "#fdca26"
             ],
             [
              1,
              "#f0f921"
             ]
            ],
            "type": "heatmap"
           }
          ],
          "heatmapgl": [
           {
            "colorbar": {
             "outlinewidth": 0,
             "ticks": ""
            },
            "colorscale": [
             [
              0,
              "#0d0887"
             ],
             [
              0.1111111111111111,
              "#46039f"
             ],
             [
              0.2222222222222222,
              "#7201a8"
             ],
             [
              0.3333333333333333,
              "#9c179e"
             ],
             [
              0.4444444444444444,
              "#bd3786"
             ],
             [
              0.5555555555555556,
              "#d8576b"
             ],
             [
              0.6666666666666666,
              "#ed7953"
             ],
             [
              0.7777777777777778,
              "#fb9f3a"
             ],
             [
              0.8888888888888888,
              "#fdca26"
             ],
             [
              1,
              "#f0f921"
             ]
            ],
            "type": "heatmapgl"
           }
          ],
          "histogram": [
           {
            "marker": {
             "pattern": {
              "fillmode": "overlay",
              "size": 10,
              "solidity": 0.2
             }
            },
            "type": "histogram"
           }
          ],
          "histogram2d": [
           {
            "colorbar": {
             "outlinewidth": 0,
             "ticks": ""
            },
            "colorscale": [
             [
              0,
              "#0d0887"
             ],
             [
              0.1111111111111111,
              "#46039f"
             ],
             [
              0.2222222222222222,
              "#7201a8"
             ],
             [
              0.3333333333333333,
              "#9c179e"
             ],
             [
              0.4444444444444444,
              "#bd3786"
             ],
             [
              0.5555555555555556,
              "#d8576b"
             ],
             [
              0.6666666666666666,
              "#ed7953"
             ],
             [
              0.7777777777777778,
              "#fb9f3a"
             ],
             [
              0.8888888888888888,
              "#fdca26"
             ],
             [
              1,
              "#f0f921"
             ]
            ],
            "type": "histogram2d"
           }
          ],
          "histogram2dcontour": [
           {
            "colorbar": {
             "outlinewidth": 0,
             "ticks": ""
            },
            "colorscale": [
             [
              0,
              "#0d0887"
             ],
             [
              0.1111111111111111,
              "#46039f"
             ],
             [
              0.2222222222222222,
              "#7201a8"
             ],
             [
              0.3333333333333333,
              "#9c179e"
             ],
             [
              0.4444444444444444,
              "#bd3786"
             ],
             [
              0.5555555555555556,
              "#d8576b"
             ],
             [
              0.6666666666666666,
              "#ed7953"
             ],
             [
              0.7777777777777778,
              "#fb9f3a"
             ],
             [
              0.8888888888888888,
              "#fdca26"
             ],
             [
              1,
              "#f0f921"
             ]
            ],
            "type": "histogram2dcontour"
           }
          ],
          "mesh3d": [
           {
            "colorbar": {
             "outlinewidth": 0,
             "ticks": ""
            },
            "type": "mesh3d"
           }
          ],
          "parcoords": [
           {
            "line": {
             "colorbar": {
              "outlinewidth": 0,
              "ticks": ""
             }
            },
            "type": "parcoords"
           }
          ],
          "pie": [
           {
            "automargin": true,
            "type": "pie"
           }
          ],
          "scatter": [
           {
            "fillpattern": {
             "fillmode": "overlay",
             "size": 10,
             "solidity": 0.2
            },
            "type": "scatter"
           }
          ],
          "scatter3d": [
           {
            "line": {
             "colorbar": {
              "outlinewidth": 0,
              "ticks": ""
             }
            },
            "marker": {
             "colorbar": {
              "outlinewidth": 0,
              "ticks": ""
             }
            },
            "type": "scatter3d"
           }
          ],
          "scattercarpet": [
           {
            "marker": {
             "colorbar": {
              "outlinewidth": 0,
              "ticks": ""
             }
            },
            "type": "scattercarpet"
           }
          ],
          "scattergeo": [
           {
            "marker": {
             "colorbar": {
              "outlinewidth": 0,
              "ticks": ""
             }
            },
            "type": "scattergeo"
           }
          ],
          "scattergl": [
           {
            "marker": {
             "colorbar": {
              "outlinewidth": 0,
              "ticks": ""
             }
            },
            "type": "scattergl"
           }
          ],
          "scattermapbox": [
           {
            "marker": {
             "colorbar": {
              "outlinewidth": 0,
              "ticks": ""
             }
            },
            "type": "scattermapbox"
           }
          ],
          "scatterpolar": [
           {
            "marker": {
             "colorbar": {
              "outlinewidth": 0,
              "ticks": ""
             }
            },
            "type": "scatterpolar"
           }
          ],
          "scatterpolargl": [
           {
            "marker": {
             "colorbar": {
              "outlinewidth": 0,
              "ticks": ""
             }
            },
            "type": "scatterpolargl"
           }
          ],
          "scatterternary": [
           {
            "marker": {
             "colorbar": {
              "outlinewidth": 0,
              "ticks": ""
             }
            },
            "type": "scatterternary"
           }
          ],
          "surface": [
           {
            "colorbar": {
             "outlinewidth": 0,
             "ticks": ""
            },
            "colorscale": [
             [
              0,
              "#0d0887"
             ],
             [
              0.1111111111111111,
              "#46039f"
             ],
             [
              0.2222222222222222,
              "#7201a8"
             ],
             [
              0.3333333333333333,
              "#9c179e"
             ],
             [
              0.4444444444444444,
              "#bd3786"
             ],
             [
              0.5555555555555556,
              "#d8576b"
             ],
             [
              0.6666666666666666,
              "#ed7953"
             ],
             [
              0.7777777777777778,
              "#fb9f3a"
             ],
             [
              0.8888888888888888,
              "#fdca26"
             ],
             [
              1,
              "#f0f921"
             ]
            ],
            "type": "surface"
           }
          ],
          "table": [
           {
            "cells": {
             "fill": {
              "color": "#EBF0F8"
             },
             "line": {
              "color": "white"
             }
            },
            "header": {
             "fill": {
              "color": "#C8D4E3"
             },
             "line": {
              "color": "white"
             }
            },
            "type": "table"
           }
          ]
         },
         "layout": {
          "annotationdefaults": {
           "arrowcolor": "#2a3f5f",
           "arrowhead": 0,
           "arrowwidth": 1
          },
          "autotypenumbers": "strict",
          "coloraxis": {
           "colorbar": {
            "outlinewidth": 0,
            "ticks": ""
           }
          },
          "colorscale": {
           "diverging": [
            [
             0,
             "#8e0152"
            ],
            [
             0.1,
             "#c51b7d"
            ],
            [
             0.2,
             "#de77ae"
            ],
            [
             0.3,
             "#f1b6da"
            ],
            [
             0.4,
             "#fde0ef"
            ],
            [
             0.5,
             "#f7f7f7"
            ],
            [
             0.6,
             "#e6f5d0"
            ],
            [
             0.7,
             "#b8e186"
            ],
            [
             0.8,
             "#7fbc41"
            ],
            [
             0.9,
             "#4d9221"
            ],
            [
             1,
             "#276419"
            ]
           ],
           "sequential": [
            [
             0,
             "#0d0887"
            ],
            [
             0.1111111111111111,
             "#46039f"
            ],
            [
             0.2222222222222222,
             "#7201a8"
            ],
            [
             0.3333333333333333,
             "#9c179e"
            ],
            [
             0.4444444444444444,
             "#bd3786"
            ],
            [
             0.5555555555555556,
             "#d8576b"
            ],
            [
             0.6666666666666666,
             "#ed7953"
            ],
            [
             0.7777777777777778,
             "#fb9f3a"
            ],
            [
             0.8888888888888888,
             "#fdca26"
            ],
            [
             1,
             "#f0f921"
            ]
           ],
           "sequentialminus": [
            [
             0,
             "#0d0887"
            ],
            [
             0.1111111111111111,
             "#46039f"
            ],
            [
             0.2222222222222222,
             "#7201a8"
            ],
            [
             0.3333333333333333,
             "#9c179e"
            ],
            [
             0.4444444444444444,
             "#bd3786"
            ],
            [
             0.5555555555555556,
             "#d8576b"
            ],
            [
             0.6666666666666666,
             "#ed7953"
            ],
            [
             0.7777777777777778,
             "#fb9f3a"
            ],
            [
             0.8888888888888888,
             "#fdca26"
            ],
            [
             1,
             "#f0f921"
            ]
           ]
          },
          "colorway": [
           "#636efa",
           "#EF553B",
           "#00cc96",
           "#ab63fa",
           "#FFA15A",
           "#19d3f3",
           "#FF6692",
           "#B6E880",
           "#FF97FF",
           "#FECB52"
          ],
          "font": {
           "color": "#2a3f5f"
          },
          "geo": {
           "bgcolor": "white",
           "lakecolor": "white",
           "landcolor": "#E5ECF6",
           "showlakes": true,
           "showland": true,
           "subunitcolor": "white"
          },
          "hoverlabel": {
           "align": "left"
          },
          "hovermode": "closest",
          "mapbox": {
           "style": "light"
          },
          "paper_bgcolor": "white",
          "plot_bgcolor": "#E5ECF6",
          "polar": {
           "angularaxis": {
            "gridcolor": "white",
            "linecolor": "white",
            "ticks": ""
           },
           "bgcolor": "#E5ECF6",
           "radialaxis": {
            "gridcolor": "white",
            "linecolor": "white",
            "ticks": ""
           }
          },
          "scene": {
           "xaxis": {
            "backgroundcolor": "#E5ECF6",
            "gridcolor": "white",
            "gridwidth": 2,
            "linecolor": "white",
            "showbackground": true,
            "ticks": "",
            "zerolinecolor": "white"
           },
           "yaxis": {
            "backgroundcolor": "#E5ECF6",
            "gridcolor": "white",
            "gridwidth": 2,
            "linecolor": "white",
            "showbackground": true,
            "ticks": "",
            "zerolinecolor": "white"
           },
           "zaxis": {
            "backgroundcolor": "#E5ECF6",
            "gridcolor": "white",
            "gridwidth": 2,
            "linecolor": "white",
            "showbackground": true,
            "ticks": "",
            "zerolinecolor": "white"
           }
          },
          "shapedefaults": {
           "line": {
            "color": "#2a3f5f"
           }
          },
          "ternary": {
           "aaxis": {
            "gridcolor": "white",
            "linecolor": "white",
            "ticks": ""
           },
           "baxis": {
            "gridcolor": "white",
            "linecolor": "white",
            "ticks": ""
           },
           "bgcolor": "#E5ECF6",
           "caxis": {
            "gridcolor": "white",
            "linecolor": "white",
            "ticks": ""
           }
          },
          "title": {
           "x": 0.05
          },
          "xaxis": {
           "automargin": true,
           "gridcolor": "white",
           "linecolor": "white",
           "ticks": "",
           "title": {
            "standoff": 15
           },
           "zerolinecolor": "white",
           "zerolinewidth": 2
          },
          "yaxis": {
           "automargin": true,
           "gridcolor": "white",
           "linecolor": "white",
           "ticks": "",
           "title": {
            "standoff": 15
           },
           "zerolinecolor": "white",
           "zerolinewidth": 2
          }
         }
        },
        "title": {
         "text": "Distribution of Nuclear Norm of Node Explain Matrix"
        },
        "xaxis": {
         "title": {
          "text": "Nuclear Norm"
         }
        },
        "yaxis": {
         "title": {
          "text": "Frequency"
         }
        }
       }
      },
      "text/html": [
       "<div>                            <div id=\"bdcefb59-d35f-4acf-bab9-d3425f6f9f7a\" class=\"plotly-graph-div\" style=\"height:525px; width:100%;\"></div>            <script type=\"text/javascript\">                require([\"plotly\"], function(Plotly) {                    window.PLOTLYENV=window.PLOTLYENV || {};                                    if (document.getElementById(\"bdcefb59-d35f-4acf-bab9-d3425f6f9f7a\")) {                    Plotly.newPlot(                        \"bdcefb59-d35f-4acf-bab9-d3425f6f9f7a\",                        [{\"name\":\"SDNE\",\"x\":[1.3491228818893433,1.3317807912826538,0.765889048576355,0.9646807909011841,0.8716388940811157,0.4973349869251251,0.7822073101997375,0.832451343536377,1.2500839233398438,1.027815580368042,1.3786946535110474,0.9279779195785522,1.094673991203308,0.6811169981956482,1.0254327058792114,1.073063850402832,1.3306583166122437,0.8979279398918152,1.545583963394165,1.0477782487869263,1.0326998233795166,0.7484344840049744,1.79776132106781,0.9789472818374634,0.9356342554092407,1.33987557888031,1.186964511871338,0.9177950620651245,0.9203258752822876,1.1493874788284302,1.0937095880508423,1.3305001258850098,1.2139092683792114,1.3316758871078491,1.1132383346557617,1.2627522945404053,1.428619623184204,1.2076404094696045,1.1074813604354858,1.3754788637161255,0.9513233304023743,1.0600770711898804,1.2610574960708618,1.2597966194152832,0.7945267558097839,1.1678190231323242,1.0721874237060547,1.1956380605697632,0.9892028570175171,1.509492039680481,1.4718867540359497,1.2085270881652832,1.4395105838775635,1.718056321144104,1.0487889051437378,1.1012542247772217,0.965142011642456,0.875272810459137,0.7983580827713013,0.9131441712379456,0.9969963431358337,1.1777664422988892,0.6014420986175537,0.8449652791023254,0.7791594862937927,0.6552008390426636,1.0327612161636353,2.061553478240967,1.4025276899337769,0.9487509727478027,1.7639024257659912,1.3022629022598267,1.5128687620162964,1.5460715293884277,1.1001543998718262,1.4677784442901611,1.2643945217132568,1.52638578414917,1.6301004886627197,1.3635156154632568,1.1463321447372437,0.8898054957389832,0.5232968330383301,0.7899391055107117,0.7473950982093811,1.607643723487854,0.5650891661643982,0.8895518779754639,1.0690044164657593,0.8391633629798889,1.5480482578277588,1.207074522972107,1.3189151287078857,0.9622159600257874,1.2074421644210815,1.2813907861709595,0.5993172526359558,1.0832641124725342,1.333260416984558,1.293992519378662,1.074585199356079,1.2319878339767456,1.3042802810668945,1.1946433782577515,1.2756108045578003,0.8847846984863281,0.7933791279792786,0.5390222668647766,1.0241904258728027,2.4025652408599854,1.3868602514266968,1.4622156620025635,1.5166183710098267,1.1137689352035522,0.8066319823265076,0.917411744594574,1.0517908334732056,1.8253971338272095,1.6907243728637695,1.5927293300628662,1.8579154014587402,0.4879525899887085,1.598270058631897,1.6514443159103394,1.0026928186416626,1.089847207069397,1.3285795450210571,1.813984751701355,0.8226519227027893,0.7551448345184326,1.3308961391448975,1.1934186220169067,1.1719878911972046,0.833391010761261,1.4148441553115845,1.347657322883606,1.3196567296981812,0.8720523715019226,1.2486258745193481,1.12224543094635,1.018128514289856,0.9671887159347534,0.8021934032440186,1.4236325025558472,1.6558589935302734,1.1554646492004395,1.6656403541564941,1.494398832321167,1.7166752815246582,1.4301255941390991,1.2864840030670166,1.2675607204437256,1.0772210359573364,1.2510852813720703,1.251218318939209,0.9861907958984375,1.5051465034484863,0.8519940972328186,1.1472742557525635,1.2325067520141602,0.3069230318069458,1.3362839221954346,1.252642035484314,1.1759157180786133,1.250730037689209,0.8023526668548584,0.5028361678123474,0.8415183424949646,1.1863467693328857,0.9651668667793274,0.995070219039917,1.297739028930664,1.1374990940093994,1.0823721885681152,1.1212784051895142,1.6862496137619019,1.4188002347946167,1.2040873765945435,1.3497072458267212,1.264653205871582,1.2180668115615845,0.9433048367500305,1.0098594427108765,0.7390413284301758,1.036125659942627,0.9406577348709106,1.4533648490905762,1.3297171592712402,1.497081995010376,0.7652227282524109,1.637881875038147,0.9329742193222046,1.109694480895996,1.089882254600525,1.043813943862915,1.131235957145691,1.362372875213623,1.4026048183441162,1.4201728105545044,1.2282887697219849,1.1654082536697388,1.33133864402771,1.9120984077453613,1.4451240301132202,1.2695808410644531,1.3542486429214478,0.9679019451141357,1.6035244464874268,1.261435866355896,0.8530756831169128,1.0506713390350342,0.5038882493972778,0.8141623139381409,1.0884031057357788,1.376025676727295,1.0159852504730225,1.3635584115982056,1.359345555305481,1.074141263961792,1.945265293121338,2.1278438568115234,1.3686058521270752,1.132973074913025,1.3118267059326172,2.0434887409210205,1.6221636533737183,1.2450584173202515,2.0354244709014893,1.9129340648651123,1.7049404382705688,1.3855736255645752,0.9754117131233215,0.8906704783439636,1.1037144660949707,1.0760693550109863,1.3696378469467163,1.2825931310653687,1.3150149583816528,1.1697595119476318,2.0454845428466797,1.3871294260025024,1.3612431287765503,1.1053540706634521,1.276589274406433,1.575197458267212,1.2589969635009766,1.452123999595642,1.3515738248825073,1.5082825422286987,0.7626484036445618,1.3173314332962036,1.3346898555755615,0.7008650302886963,1.4261995553970337,1.159277081489563,1.3369240760803223,0.9572858810424805,1.7219421863555908,0.9503759145736694,1.3702062368392944,1.5301631689071655,1.144526720046997,1.4775123596191406,1.1353909969329834,1.2214858531951904,1.1135139465332031,1.3715215921401978,1.3094091415405273,1.4653469324111938,0.8644235730171204,2.1495022773742676,1.070520043373108,1.1690422296524048,1.1760987043380737,1.3808834552764893,1.2739336490631104,2.0626840591430664,1.5103596448898315,1.417693853378296,1.8392689228057861,0.8659878373146057,1.1846925020217896,0.7363327741622925,0.7106140851974487,1.2185070514678955,0.8804599046707153,1.2157914638519287,1.4950965642929077,1.1798018217086792,2.3960771560668945,1.0119471549987793,1.4261577129364014,1.6543103456497192,1.3227951526641846,1.4400758743286133,0.8683491945266724,1.0493510961532593,1.4709393978118896,1.725976586341858,1.2681288719177246,1.0348246097564697,0.6889556646347046,1.7357865571975708,0.8433255553245544,1.3402620553970337,1.069287657737732,1.358757495880127,1.8401603698730469,1.460679531097412,1.4708917140960693,1.9191443920135498,1.3140462636947632,1.7259361743927002,1.538170337677002,1.3281246423721313,2.0756874084472656,1.2608604431152344,1.8893824815750122,1.2986512184143066,1.3406351804733276,0.9845111966133118,0.9105134606361389,0.9189022779464722,1.2172112464904785,1.57200026512146,1.4380606412887573,1.6584757566452026,1.3414108753204346,1.4762203693389893,0.9744903445243835,1.8016294240951538,1.5400065183639526,1.1461365222930908,0.7149783372879028,1.020760178565979,0.8879460096359253,1.4810240268707275,1.3609304428100586,1.1617217063903809,0.9812083840370178,0.687298059463501,1.6944860219955444,1.0329333543777466,2.019641160964966,1.4112340211868286,1.6938972473144531,1.870080590248108,1.8411917686462402,1.4969396591186523,1.5817300081253052,1.3532875776290894,1.1871196031570435,1.5986663103103638,0.9217895865440369,1.2243740558624268,1.1872998476028442,1.3852542638778687,1.4096755981445312,0.8417224884033203,1.1730953454971313,1.5253809690475464,1.1321234703063965,1.2542438507080078,1.139233112335205,1.8555593490600586,1.2177915573120117,1.1328128576278687,1.066136121749878,1.3249918222427368,1.355730652809143,1.2122677564620972,1.02450692653656,1.6277642250061035,1.4819453954696655,1.1124722957611084,0.9004998803138733,0.9441775679588318,0.3973698318004608,1.2807555198669434,0.9635107517242432,1.0012462139129639,1.165068507194519,1.5889379978179932,1.301810383796692,1.7155205011367798,1.2939313650131226,1.954261302947998,1.3169991970062256,1.3224759101867676,1.3073294162750244,1.0955616235733032,1.4118179082870483,1.351023554801941,0.9523202776908875,1.157549500465393,1.4294072389602661,1.400317907333374,1.190612554550171,1.5604093074798584,1.7492294311523438,1.515272855758667,0.8495143055915833,1.9292981624603271,1.791886806488037,0.9242932796478271,0.7287536263465881,1.05329167842865,1.1764171123504639,0.8653420209884644,0.9638711810112,1.835730791091919,0.6211267113685608,0.8577946424484253,1.404083251953125,0.5325793623924255,2.0845608711242676,2.198439836502075,0.9981600046157837,1.4842101335525513,1.183759331703186,0.5455866456031799,1.6686490774154663,1.553865909576416,1.1466705799102783,0.9085401892662048,0.8760136961936951,1.187095046043396,1.253995418548584,1.0911171436309814,1.0806078910827637,1.3084851503372192,1.5209791660308838,1.3978195190429688,1.3970293998718262,0.6996363997459412,1.26953125,1.4073742628097534,1.089586853981018,0.8886078000068665,1.4878861904144287,1.1235377788543701,1.2599387168884277,1.4312734603881836,1.0571117401123047,1.2675695419311523,1.651127576828003,1.1329984664916992,1.118156909942627,1.1211907863616943,1.2512882947921753,1.0075819492340088,1.5701547861099243,0.9353006482124329,1.4498193264007568,1.9411271810531616,0.953925371170044,1.1101715564727783,1.7719871997833252,1.3036720752716064,0.9271821975708008,1.6419212818145752,1.0902178287506104,1.033905267715454,1.0211546421051025,1.1704586744308472,1.9364943504333496,1.1261454820632935,1.7623419761657715,1.9245692491531372,1.2908239364624023,1.2520824670791626,2.0731711387634277,1.7982014417648315,1.0074148178100586,0.959581732749939,1.5223227739334106,1.5133845806121826,1.2058876752853394,1.2415413856506348,1.7888755798339844,1.2923023700714111,1.2039486169815063,1.2191663980484009,1.3373559713363647,1.7223159074783325,1.5948543548583984,1.4494798183441162,1.3964414596557617,1.6395548582077026,1.740656852722168,1.5901399850845337,1.4014064073562622,1.5662882328033447,1.0302653312683105,0.7390139102935791,1.1042799949645996,1.6124874353408813,1.7213749885559082,0.9762964844703674,0.933433473110199,1.1902986764907837,1.5070303678512573,1.038966178894043,1.4137580394744873,1.0201393365859985,1.4466601610183716,0.9080217480659485,2.0704479217529297,1.3345812559127808,0.8919591903686523,1.4376779794692993,1.686049461364746,1.9904729127883911,1.110485315322876,1.3928284645080566,1.2680758237838745,1.0253759622573853,1.201509952545166,0.9693002104759216,1.5401725769042969,1.0842366218566895,1.2984205484390259,1.6320174932479858,1.4593968391418457,1.0435798168182373,1.0406137704849243,1.062179684638977,1.5054891109466553,2.0174717903137207,1.1833133697509766,1.9728368520736694,1.209560751914978,1.6067612171173096,0.78769451379776,1.81969153881073,1.7028950452804565,2.064077138900757,1.6524598598480225,1.6500787734985352,1.8179372549057007,1.8797727823257446,1.6227290630340576,1.5495859384536743,1.1400034427642822,1.3364955186843872,1.310562014579773,0.8039413094520569,1.1545912027359009,1.5958123207092285,0.8288952708244324,1.5990104675292969,1.6226942539215088,1.2884889841079712,1.3579273223876953,1.5309334993362427,1.778625249862671,1.8884423971176147,1.7232117652893066,1.6297227144241333,1.4621940851211548,0.9043720364570618,1.229345440864563,1.4235785007476807,1.5501823425292969,1.3769210577011108,1.540713906288147,1.233609676361084,1.412191390991211,1.40748929977417,1.039984941482544,1.1746546030044556,1.6123136281967163,1.5590133666992188,1.4291636943817139,1.8350378274917603,1.675005316734314,1.8863145112991333,1.4150073528289795,1.3219696283340454,1.196269154548645,1.3867892026901245,1.8400678634643555,1.2190266847610474,1.6410095691680908,1.9038751125335693,1.5062404870986938,1.5289636850357056,1.3195382356643677,1.6529759168624878,1.3364959955215454,1.8971091508865356,0.9091483950614929,1.1292744874954224,1.6623141765594482,1.854706048965454,1.8034145832061768,1.756553292274475,1.4050114154815674,1.6476647853851318,1.5740631818771362,1.6795730590820312,1.6021738052368164,1.2512882947921753,1.949013113975525,1.1391996145248413,1.6811975240707397,1.7226238250732422,1.2706472873687744,1.5139493942260742,1.4449193477630615,1.5131282806396484,1.188041090965271,1.4998650550842285,1.6071970462799072,1.3465155363082886,2.164095878601074,1.3224892616271973,1.2390931844711304,1.5774204730987549,1.1001205444335938,1.7172017097473145,1.2972468137741089,1.6874350309371948,2.425827980041504,1.3657652139663696,1.5366438627243042,1.8908090591430664,1.180033564567566,2.053205728530884,0.7682246565818787,0.8894952535629272,0.9412755966186523,0.7117737531661987,1.1953972578048706,1.3485538959503174,1.0037533044815063,1.5237846374511719,1.7957695722579956,1.337393045425415,1.2701491117477417,1.8123313188552856,1.8611592054367065,2.104827880859375,1.6974375247955322,1.1709527969360352,1.8140555620193481,1.8662317991256714,1.7650566101074219,1.6375259160995483,2.1797266006469727,1.1582534313201904,1.5830644369125366,1.6369460821151733,1.2473891973495483,1.3536105155944824,1.0184592008590698,1.5631282329559326,1.514096736907959,1.9876768589019775,1.5130850076675415,1.383777379989624,1.5673516988754272,1.781596064567566,1.6857010126113892,1.4726189374923706,1.6215932369232178,1.409504771232605,1.236757516860962,1.5089893341064453,1.3476299047470093,1.5830786228179932,1.6951967477798462,1.48713219165802,1.6807199716567993,1.6816718578338623,1.3566018342971802,1.0868699550628662,2.071798086166382,1.8090733289718628,1.2598878145217896,1.3027414083480835,1.7837944030761719,2.079557180404663,1.6086505651474,2.0061147212982178,1.5856618881225586,1.6373692750930786,1.7662183046340942,1.1667698621749878,1.186900019645691,1.165820598602295,1.229345440864563,1.364227056503296,1.3431912660598755,1.8136320114135742,1.9751379489898682,1.1500598192214966,1.3174142837524414,1.1592308282852173,1.4998021125793457,1.5125735998153687,1.2643142938613892,1.6550748348236084,2.2756223678588867,1.3535397052764893,1.7936434745788574,1.576485276222229,1.4509378671646118,1.2908318042755127,1.2626162767410278,1.7776387929916382,1.3925848007202148,1.2484099864959717,1.6111528873443604,1.850429654121399,2.5337460041046143,1.4821789264678955,2.125396490097046,2.3736283779144287,1.4008111953735352,2.069972276687622,1.146862268447876,1.6379542350769043,1.0720765590667725,1.2331314086914062,2.2187626361846924,2.2330944538116455,1.2411408424377441,1.6896435022354126,0.7673375010490417,1.8871687650680542,1.3970052003860474,1.5426154136657715,1.9920419454574585,1.1324522495269775,1.7998684644699097,2.112473249435425,1.3027591705322266,1.3628346920013428,1.452317476272583,1.559233546257019,1.446043610572815,2.0770957469940186,1.7991293668746948,1.748084306716919,1.6888632774353027,0.9554834961891174,1.3535397052764893,2.1640148162841797,1.4415184259414673,1.0505558252334595,2.0577950477600098,1.0754140615463257,1.7858617305755615,1.2524107694625854,2.009129762649536,1.085287094116211,1.2614123821258545,1.327645182609558,1.2036073207855225,1.3231308460235596,2.2491633892059326,2.297840118408203,1.7228524684906006,2.067473888397217,1.4752388000488281,1.9174717664718628,1.0803762674331665,1.8436260223388672,1.9148037433624268,1.5396322011947632,0.9503763318061829,2.198408842086792,1.193827509880066,2.0036275386810303,1.153251051902771,2.1825456619262695,0.954978346824646,1.5541025400161743,1.5927913188934326,1.900665283203125,1.950899362564087,2.3291754722595215,1.401728630065918,1.5885168313980103,1.153777003288269,1.5564619302749634,1.6996396780014038,1.0178492069244385,1.7188613414764404,1.0914795398712158,1.9699846506118774,1.8013502359390259,1.1287356615066528,1.1890459060668945,2.1084017753601074,1.5231671333312988,1.312920331954956,1.6070517301559448,2.107753276824951,1.5238664150238037,0.9232415556907654,1.2312332391738892,1.75077223777771,1.1954317092895508,1.8517074584960938,1.0306568145751953,1.0823638439178467,1.269986867904663,1.5409927368164062,1.9521549940109253,1.1615214347839355,1.8570637702941895,1.1589709520339966,1.6444135904312134,1.2215545177459717,1.9315110445022583,1.5399248600006104,1.3431912660598755,1.1313828229904175,2.0907249450683594,1.6545161008834839,1.4932854175567627,1.3546689748764038,1.1485267877578735,1.8438447713851929,1.162706971168518,0.5906989574432373,1.1712151765823364,1.4296929836273193,1.9274643659591675,2.025083303451538,1.4061164855957031,1.760998249053955,1.1693856716156006,1.763182282447815,2.3451271057128906,1.0237305164337158,1.8510082960128784,1.2891278266906738,1.005052089691162,1.1870815753936768,1.6034618616104126,1.233842372894287,1.1893023252487183,1.2859748601913452,1.2402427196502686,1.812318205833435,1.9610812664031982,1.9590606689453125,1.4671372175216675,1.419514536857605,1.8746482133865356,2.0856587886810303,1.1521493196487427,1.419514536857605,1.298616886138916,1.302627444267273,2.0997395515441895,1.346760630607605,1.1444282531738281,1.3102704286575317,1.625974416732788,1.165906310081482,1.3912606239318848,1.079035997390747,1.5058060884475708,1.685390591621399,1.1937638521194458,1.2510157823562622,1.4789338111877441,1.301606297492981,1.118315577507019,1.4072602987289429,1.3942421674728394,1.2294859886169434,1.4742602109909058,1.4966942071914673,1.61170494556427,1.1974444389343262,1.25795316696167,1.4093403816223145,1.238789677619934,1.4228841066360474,1.2499449253082275,1.597690224647522,1.4227237701416016,2.0474722385406494,1.3862308263778687,1.1839743852615356,1.9066109657287598,1.785649061203003,1.4653124809265137,1.7804619073867798,1.2855819463729858,1.4611201286315918,1.535983920097351,1.2512882947921753,1.153679370880127,1.1154817342758179,1.3662937879562378,1.3041404485702515,1.5448243618011475,1.5619090795516968,0.9141370058059692,1.5782462358474731,1.2411950826644897,1.2838135957717896,0.9604768753051758,1.452317476272583,1.0940841436386108,1.2758779525756836,1.2879467010498047,1.043954849243164,1.069106936454773,2.1016039848327637,1.4677411317825317,1.1849018335342407,1.3049002885818481,1.164763331413269,2.0428264141082764,1.3795984983444214,1.7620106935501099,1.9227017164230347,1.8329722881317139,1.60261070728302,1.411716341972351,1.1114298105239868,1.2509832382202148,1.4878349304199219,1.2833776473999023,1.8405567407608032,1.3799755573272705,1.249813437461853,1.360455870628357,1.6926238536834717,1.4593031406402588,1.6590626239776611,1.5179277658462524,1.247047781944275,1.5562171936035156,1.5562171936035156,1.5562171936035156,1.1379261016845703,1.298481822013855,1.8038794994354248,1.6567891836166382,1.3822917938232422,1.6839090585708618,0.8824419975280762,1.1781293153762817,2.145090341567993,0.5063823461532593,1.4022847414016724,1.2979686260223389,1.5420036315917969,1.2979686260223389,1.003320574760437,0.8920709490776062,1.285805344581604,2.027745246887207,1.6445703506469727,1.003320574760437,1.238789677619934,1.5126054286956787,1.8969435691833496,1.4913032054901123,1.6275233030319214,1.5086886882781982,1.1676384210586548,0.8811562061309814,1.2873866558074951,1.2794467210769653,1.4005833864212036,1.1685872077941895,1.7218536138534546,1.1023766994476318,1.7180919647216797,1.2448357343673706,1.785649061203003,1.5321111679077148,1.8033016920089722,1.2101067304611206,1.327645182609558,1.8570637702941895,1.0598551034927368],\"type\":\"histogram\"},{\"name\":\"SDNE+XM\",\"x\":[0.3307534158229828,0.3456169068813324,0.25591427087783813,0.2641240358352661,0.2757686376571655,0.2360972911119461,0.2923947274684906,0.27491694688796997,0.2809615731239319,0.28141453862190247,0.3105841279029846,0.2946334183216095,0.3189101815223694,0.30288124084472656,0.3390331566333771,0.28064730763435364,0.3425848186016083,0.30530527234077454,0.3910583555698395,0.29618725180625916,0.29932451248168945,0.2841137647628784,0.3101293444633484,0.283157080411911,0.2510920464992523,0.27247166633605957,0.26937171816825867,0.2736230194568634,0.282840758562088,0.29009100794792175,0.29075267910957336,0.2976897954940796,0.25859785079956055,0.27404987812042236,0.23408761620521545,0.31409212946891785,0.29879230260849,0.29300910234451294,0.29779332876205444,0.2884502410888672,0.282880961894989,0.31584322452545166,0.3156548738479614,0.2504180669784546,0.2764574885368347,0.28938981890678406,0.2739352583885193,0.29305073618888855,0.2780040204524994,0.28729817271232605,0.2841036319732666,0.3495941162109375,0.3716016411781311,0.3838808238506317,0.25134459137916565,0.2631860077381134,0.24290066957473755,0.2666500210762024,0.27152150869369507,0.2407579869031906,0.2770237326622009,0.36102041602134705,0.27505385875701904,0.2888184189796448,0.32768315076828003,0.25838330388069153,0.26440054178237915,0.2946578860282898,0.30310341715812683,0.28743892908096313,0.29724037647247314,0.25888726115226746,0.30695387721061707,0.3397725820541382,0.3789762556552887,0.2838006615638733,0.2512698173522949,0.2896203100681305,0.2856422960758209,0.3182016909122467,0.30209672451019287,0.2795204520225525,0.2537889778614044,0.283583402633667,0.331876665353775,0.41291043162345886,0.27531296014785767,0.31123167276382446,0.2526012361049652,0.23815540969371796,0.29856348037719727,0.27771565318107605,0.3587963283061981,0.30409884452819824,0.3024769127368927,0.3238120973110199,0.23885950446128845,0.24849535524845123,0.27645426988601685,0.2659381031990051,0.28407472372055054,0.27349022030830383,0.27373287081718445,0.31264418363571167,0.26673781871795654,0.30163830518722534,0.29379233717918396,0.2515627145767212,0.2691327631473541,0.3283669650554657,0.2352495789527893,0.2335882931947708,0.30212733149528503,0.3427254259586334,0.2886640131473541,0.3120569586753845,0.3085029423236847,0.3183579444885254,0.35317522287368774,0.2845361828804016,0.3379287123680115,0.23371590673923492,0.34349310398101807,0.33948078751564026,0.27375516295433044,0.2538466453552246,0.27770036458969116,0.3491503894329071,0.2986491322517395,0.3021009862422943,0.31474944949150085,0.29518216848373413,0.2768782079219818,0.27651095390319824,0.33067259192466736,0.2804742753505707,0.24173258244991302,0.2686316967010498,0.24856489896774292,0.2773755192756653,0.26471611857414246,0.31453511118888855,0.27925312519073486,0.33199813961982727,0.25891873240470886,0.30390334129333496,0.36277905106544495,0.3138851225376129,0.3460138142108917,0.3227294385433197,0.2991897165775299,0.2887060344219208,0.2745167016983032,0.26732030510902405,0.2705601751804352,0.29476675391197205,0.3355685770511627,0.3095860183238983,0.2906946539878845,0.2754555344581604,0.18677929043769836,0.30379295349121094,0.34280744194984436,0.2909184396266937,0.3122100830078125,0.2807627022266388,0.21277321875095367,0.2603690028190613,0.3635123670101166,0.30129072070121765,0.3171675205230713,0.29666396975517273,0.34664198756217957,0.30910539627075195,0.2865375578403473,0.266853928565979,0.3306370675563812,0.34245720505714417,0.3439420163631439,0.3358626067638397,0.3878115117549896,0.2839318513870239,0.28111034631729126,0.28786998987197876,0.29860731959342957,0.24800647795200348,0.28097325563430786,0.2868042290210724,0.3008987307548523,0.27865394949913025,0.29571792483329773,0.3183220326900482,0.23381350934505463,0.22257478535175323,0.2505972385406494,0.24332019686698914,0.2888089716434479,0.30435267090797424,0.3212524354457855,0.32013779878616333,0.2701413333415985,0.3231614828109741,0.30161410570144653,0.3071315288543701,0.2806902825832367,0.3001956641674042,0.3015695810317993,0.30555084347724915,0.29001766443252563,0.2643038332462311,0.2756751477718353,0.21127568185329437,0.25054290890693665,0.3133105933666229,0.33862581849098206,0.3267405033111572,0.2725123465061188,0.29679998755455017,0.323866069316864,0.30595794320106506,0.33822593092918396,0.3555859327316284,0.32816705107688904,0.339288592338562,0.3290419578552246,0.3156214952468872,0.3111394941806793,0.35961297154426575,0.3274082839488983,0.3435669243335724,0.2629188597202301,0.33927348256111145,0.3177637755870819,0.28373247385025024,0.2771743834018707,0.27339357137680054,0.28252461552619934,0.2780582308769226,0.32096636295318604,0.30661919713020325,0.26329079270362854,0.2715347111225128,0.27115845680236816,0.32655057311058044,0.30267179012298584,0.30434927344322205,0.30357956886291504,0.2609958350658417,0.323207825422287,0.2790658175945282,0.2876932919025421,0.28097447752952576,0.24236707389354706,0.2990517318248749,0.3050406575202942,0.328890860080719,0.3139412999153137,0.30500897765159607,0.3068081736564636,0.32433605194091797,0.31797459721565247,0.27578282356262207,0.3612925708293915,0.31205669045448303,0.2897354066371918,0.2921936511993408,0.32517698407173157,0.2712932825088501,0.32423272728919983,0.2615988850593567,0.31124556064605713,0.2868455946445465,0.3118484914302826,0.2683214247226715,0.27102741599082947,0.3150719702243805,0.34177014231681824,0.2951669692993164,0.3577551543712616,0.25231096148490906,0.30424121022224426,0.2828940153121948,0.25962257385253906,0.25009098649024963,0.3088271915912628,0.2738721966743469,0.2663416564464569,0.29235509037971497,0.27806636691093445,0.36441001296043396,0.30834701657295227,0.27917754650115967,0.3568044602870941,0.2635917365550995,0.27558720111846924,0.3158527612686157,0.28363561630249023,0.30112603306770325,0.32753968238830566,0.29563337564468384,0.2989082634449005,0.2746363580226898,0.284734308719635,0.25558897852897644,0.2638811469078064,0.2948550581932068,0.34216949343681335,0.3707927167415619,0.28627851605415344,0.38856974244117737,0.35987699031829834,0.3041166365146637,0.3343563675880432,0.28452926874160767,0.3293764889240265,0.326825886964798,0.3534052073955536,0.3739873170852661,0.32293152809143066,0.21930746734142303,0.27956047654151917,0.2806658446788788,0.2385784536600113,0.28756314516067505,0.3170963525772095,0.30744656920433044,0.3391058146953583,0.3186843693256378,0.28779348731040955,0.28835368156433105,0.32076895236968994,0.3078905940055847,0.27747759222984314,0.26858091354370117,0.22000442445278168,0.2348368763923645,0.3055436313152313,0.2799527049064636,0.30284127593040466,0.27226224541664124,0.23451291024684906,0.2762560248374939,0.33436280488967896,0.3336290717124939,0.3056676983833313,0.3434044420719147,0.3451523184776306,0.3823557198047638,0.21801912784576416,0.3538822829723358,0.34047362208366394,0.3025406301021576,0.34140586853027344,0.2720249891281128,0.22214588522911072,0.24254845082759857,0.2980351150035858,0.295843243598938,0.26811686158180237,0.29229703545570374,0.318720281124115,0.2652777135372162,0.3052655756473541,0.26269689202308655,0.2637362778186798,0.35102882981300354,0.367110937833786,0.2800074517726898,0.32341527938842773,0.2240069955587387,0.2843679189682007,0.2743167579174042,0.31037020683288574,0.3620794117450714,0.2389136552810669,0.263293981552124,0.2837100625038147,0.198586106300354,0.2505403459072113,0.2842342257499695,0.27272096276283264,0.3083774149417877,0.2127520889043808,0.20037509500980377,0.2775653302669525,0.24045220017433167,0.2690180242061615,0.32958510518074036,0.26203781366348267,0.32745546102523804,0.2839913070201874,0.258816659450531,0.2536042332649231,0.3068130314350128,0.26468247175216675,0.3125452995300293,0.22618742287158966,0.29728958010673523,0.21265992522239685,0.28984344005584717,0.31803974509239197,0.27155566215515137,0.3229253590106964,0.3191133141517639,0.2785252034664154,0.25155287981033325,0.2531346082687378,0.2668336033821106,0.23961608111858368,0.324684739112854,0.2446865290403366,0.23864035308361053,0.2691591680049896,0.28802669048309326,0.2185366451740265,0.4235759377479553,0.33932310342788696,0.28847259283065796,0.29218143224716187,0.3738109767436981,0.20792537927627563,0.4180201590061188,0.3241230547428131,0.2658911347389221,0.31209462881088257,0.27549728751182556,0.3124631941318512,0.2924952208995819,0.2516070604324341,0.2511129677295685,0.30631765723228455,0.28328466415405273,0.21783283352851868,0.3081468641757965,0.27487683296203613,0.3482641875743866,0.20541122555732727,0.26591944694519043,0.26736682653427124,0.20816126465797424,0.3470631241798401,0.31314772367477417,0.2859601676464081,0.292141318321228,0.2693403959274292,0.31005236506462097,0.2404385656118393,0.2776050269603729,0.28389856219291687,0.32890719175338745,0.28251051902770996,0.2964125871658325,0.26765668392181396,0.2758643329143524,0.2442469447851181,0.27750924229621887,0.1856924444437027,0.3539891839027405,0.30802813172340393,0.28536006808280945,0.3950307071208954,0.25775787234306335,0.26158198714256287,0.2504589855670929,0.2774134576320648,0.3596429228782654,0.33694037795066833,0.2795475721359253,0.3324030637741089,0.23924247920513153,0.27956971526145935,0.3387640118598938,0.30702686309814453,0.3310246169567108,0.26115819811820984,0.28115731477737427,0.2275361269712448,0.2162218987941742,0.3009692430496216,0.3283235430717468,0.2791176438331604,0.2752726078033447,0.32709792256355286,0.3322334289550781,0.3144320845603943,0.32535311579704285,0.379160076379776,0.3119204044342041,0.2722660303115845,0.3300229609012604,0.3091230094432831,0.3060200810432434,0.2823597490787506,0.323608934879303,0.25128456950187683,0.32472285628318787,0.3225506842136383,0.32349562644958496,0.34484928846359253,0.2861642837524414,0.2449454516172409,0.2622503936290741,0.2351652830839157,0.2455814778804779,0.27024444937705994,0.2651759684085846,0.2614539563655853,0.37932083010673523,0.29092538356781006,0.27305859327316284,0.27198246121406555,0.3620656132698059,0.31043651700019836,0.2846468389034271,0.23707334697246552,0.3144882023334503,0.2346036583185196,0.22621925175189972,0.25016704201698303,0.328275203704834,0.2684980034828186,0.31048962473869324,0.27123817801475525,0.3406234383583069,0.2589263916015625,0.29276952147483826,0.2955753803253174,0.25730687379837036,0.3326331377029419,0.28754451870918274,0.3342325985431671,0.2846840023994446,0.2835351228713989,0.32063624262809753,0.2731868624687195,0.2973968982696533,0.3402046859264374,0.42736542224884033,0.3214888274669647,0.2884773910045624,0.2795048952102661,0.29325830936431885,0.2742542624473572,0.30209025740623474,0.30110862851142883,0.26455095410346985,0.276149719953537,0.24277733266353607,0.3113141655921936,0.3169137239456177,0.26836836338043213,0.30087611079216003,0.2671903073787689,0.24819567799568176,0.2906055748462677,0.3035361170768738,0.3189237117767334,0.2865523099899292,0.31605076789855957,0.24683639407157898,0.2797706425189972,0.28320378065109253,0.3051884174346924,0.3312872648239136,0.3311581313610077,0.29372766613960266,0.27374157309532166,0.27331945300102234,0.2736288607120514,0.28479865193367004,0.24823221564292908,0.2578873634338379,0.31554603576660156,0.249223992228508,0.2681725323200226,0.2661327123641968,0.2832568883895874,0.277629554271698,0.30446839332580566,0.24673141539096832,0.2993676960468292,0.2954070270061493,0.3001596927642822,0.23830968141555786,0.3311377763748169,0.2664468586444855,0.2600337266921997,0.26166650652885437,0.2810073792934418,0.27435317635536194,0.25618213415145874,0.2537136673927307,0.28612595796585083,0.21106500923633575,0.4151783585548401,0.29146116971969604,0.3304906487464905,0.24239641427993774,0.2794003188610077,0.2713336944580078,0.3319476544857025,0.3247843384742737,0.32890719175338745,0.2710086703300476,0.29675623774528503,0.3438359200954437,0.34284546971321106,0.2944431006908417,0.2400246411561966,0.2761034369468689,0.308323472738266,0.3000044524669647,0.3540883958339691,0.34629368782043457,0.3584625720977783,0.34714436531066895,0.22070519626140594,0.2606092393398285,0.24332833290100098,0.18497136235237122,0.3218560516834259,0.29774680733680725,0.32745108008384705,0.37967586517333984,0.18884702026844025,0.31134724617004395,0.3176169693470001,0.19506095349788666,0.3128187358379364,0.15564699470996857,0.1660383641719818,0.17863911390304565,0.18793316185474396,0.21659931540489197,0.28952497243881226,0.17428934574127197,0.31304511427879333,0.30556637048721313,0.2726190388202667,0.25901275873184204,0.2728429436683655,0.3124515116214752,0.3520028591156006,0.32490143179893494,0.18979331851005554,0.2812597453594208,0.323798805475235,0.36645036935806274,0.3073728680610657,0.32021546363830566,0.2599651515483856,0.3236592710018158,0.2926499843597412,0.26944035291671753,0.2945019006729126,0.25298744440078735,0.267926424741745,0.2725038230419159,0.34272319078445435,0.27183258533477783,0.267086923122406,0.31616687774658203,0.3672322630882263,0.32260602712631226,0.29773446917533875,0.2644103467464447,0.30372354388237,0.26430150866508484,0.23190756142139435,0.20500831305980682,0.307483971118927,0.30422618985176086,0.3192732036113739,0.3441219627857208,0.27390947937965393,0.20474687218666077,0.26596587896347046,0.31428179144859314,0.2566068470478058,0.28671374917030334,0.2832118570804596,0.2858051657676697,0.37425360083580017,0.19754710793495178,0.35522106289863586,0.3366524279117584,0.258800745010376,0.37415608763694763,0.2251855731010437,0.27240216732025146,0.28695300221443176,0.28320378065109253,0.19956594705581665,0.28531497716903687,0.2771812677383423,0.393035352230072,0.31554582715034485,0.25533488392829895,0.1876276284456253,0.2935987710952759,0.3581188917160034,0.1910494714975357,0.2931150197982788,0.37633877992630005,0.29300516843795776,0.3186638355255127,0.22048355638980865,0.27515676617622375,0.2872745096683502,0.20828276872634888,0.2551097273826599,0.31252655386924744,0.18675337731838226,0.24229592084884644,0.28692662715911865,0.3601452708244324,0.29109036922454834,0.3267804682254791,0.33563217520713806,0.3191450834274292,0.3297319710254669,0.18926316499710083,0.22257906198501587,0.25242874026298523,0.24286051094532013,0.3104027509689331,0.30890241265296936,0.20472416281700134,0.34247809648513794,0.15944252908229828,0.33117255568504333,0.286525696516037,0.3355627655982971,0.2832946479320526,0.2579098045825958,0.23967276513576508,0.2654397487640381,0.27654126286506653,0.3076280951499939,0.3006385266780853,0.3309636116027832,0.284947007894516,0.3601129949092865,0.3088233172893524,0.2741319239139557,0.34619757533073425,0.2255609929561615,0.29300516843795776,0.3416212797164917,0.28055959939956665,0.1934628039598465,0.270145446062088,0.22047929465770721,0.28029054403305054,0.28366246819496155,0.2656300663948059,0.24896025657653809,0.2714906632900238,0.30769672989845276,0.26946961879730225,0.3246466815471649,0.32336723804473877,0.3490516245365143,0.3565748333930969,0.35293707251548767,0.20202650129795074,0.30014768242836,0.2522019147872925,0.265057235956192,0.33173349499702454,0.3148978650569916,0.2445751130580902,0.3620182275772095,0.27421724796295166,0.32370686531066895,0.2442115843296051,0.397365003824234,0.1719723790884018,0.32153165340423584,0.22836832702159882,0.3618803024291992,0.3252039849758148,0.36166682839393616,0.2085311859846115,0.2326354831457138,0.22860552370548248,0.27637696266174316,0.2795979380607605,0.1757279485464096,0.24803952872753143,0.2633560299873352,0.3501731753349304,0.2715855836868286,0.30621102452278137,0.28744402527809143,0.35191842913627625,0.2598702013492584,0.2767374515533447,0.2793228030204773,0.3035062253475189,0.24851158261299133,0.3379192650318146,0.18663200736045837,0.3545078635215759,0.2759361267089844,0.389248788356781,0.20684489607810974,0.22386106848716736,0.2828334867954254,0.29663729667663574,0.3016386926174164,0.26023679971694946,0.3906609117984772,0.23827236890792847,0.23523972928524017,0.25675341486930847,0.3026861548423767,0.3099040687084198,0.28531497716903687,0.19127991795539856,0.35979804396629333,0.2672266960144043,0.28899887204170227,0.20167404413223267,0.21201059222221375,0.2616187334060669,0.24750524759292603,0.1900605708360672,0.25850874185562134,0.21120239794254303,0.2997604310512543,0.3527560830116272,0.3082928955554962,0.3790462911128998,0.24735595285892487,0.22723469138145447,0.3399435877799988,0.28108081221580505,0.2427421361207962,0.2885551154613495,0.2689482867717743,0.2533428370952606,0.35311272740364075,0.2988775968551636,0.2570214569568634,0.2793451249599457,0.1982663869857788,0.2596573829650879,0.28840431571006775,0.3374476730823517,0.2424018383026123,0.21666400134563446,0.3960599899291992,0.3385510742664337,0.1964375078678131,0.21666400134563446,0.2795300781726837,0.309897780418396,0.2853018343448639,0.20067763328552246,0.25887688994407654,0.2545429766178131,0.3386780023574829,0.17146487534046173,0.22672851383686066,0.25284746289253235,0.25488001108169556,0.2701914608478546,0.23476724326610565,0.27127131819725037,0.22528909146785736,0.27807265520095825,0.18826667964458466,0.27417850494384766,0.21868926286697388,0.2819068729877472,0.20368324220180511,0.2906346619129181,0.3330298066139221,0.2568897306919098,0.2705782651901245,0.2929573357105255,0.2648277282714844,0.3031308054924011,0.21032021939754486,0.33557450771331787,0.23561455309391022,0.28988656401634216,0.27874287962913513,0.2587742805480957,0.24672767519950867,0.37637051939964294,0.20947077870368958,0.2808625400066376,0.30580317974090576,0.27795925736427307,0.324730783700943,0.32890719175338745,0.2655252516269684,0.240591898560524,0.23115502297878265,0.2707667052745819,0.24900291860103607,0.3407685160636902,0.2049936205148697,0.24641698598861694,0.22857153415679932,0.24448443949222565,0.19277673959732056,0.3006385266780853,0.21650055050849915,0.27732229232788086,0.26501575112342834,0.3080562949180603,0.22392798960208893,0.319558709859848,0.24995575845241547,0.31228119134902954,0.22539684176445007,0.26934781670570374,0.33063992857933044,0.2066274732351303,0.36988991498947144,0.37379756569862366,0.37832823395729065,0.34398332238197327,0.24906384944915771,0.26132360100746155,0.19735173881053925,0.3205322027206421,0.23747064173221588,0.4160739779472351,0.26083341240882874,0.22934308648109436,0.2780624330043793,0.22347696125507355,0.24161659181118011,0.28841859102249146,0.2627002000808716,0.2820415198802948,0.32729583978652954,0.32729583978652954,0.32729583978652954,0.27668875455856323,0.3009805679321289,0.2692066729068756,0.36838120222091675,0.20852316915988922,0.25715532898902893,0.16881881654262543,0.19141992926597595,0.2967946231365204,0.2307385802268982,0.2758992612361908,0.29742762446403503,0.22708219289779663,0.29742762446403503,0.22492438554763794,0.166732057929039,0.20165635645389557,0.3640815317630768,0.30336296558380127,0.22492438554763794,0.2648277282714844,0.20578470826148987,0.29472091794013977,0.3128255605697632,0.25509563088417053,0.23926474153995514,0.19062738120555878,0.16533799469470978,0.2374226152896881,0.18911117315292358,0.29618388414382935,0.2569572627544403,0.36097973585128784,0.32721224427223206,0.36063823103904724,0.20712688565254211,0.37637051939964294,0.3144645690917969,0.26305314898490906,0.2069414108991623,0.30769672989845276,0.3906609117984772,0.2331857830286026],\"type\":\"histogram\"}],                        {\"template\":{\"data\":{\"histogram2dcontour\":[{\"type\":\"histogram2dcontour\",\"colorbar\":{\"outlinewidth\":0,\"ticks\":\"\"},\"colorscale\":[[0.0,\"#0d0887\"],[0.1111111111111111,\"#46039f\"],[0.2222222222222222,\"#7201a8\"],[0.3333333333333333,\"#9c179e\"],[0.4444444444444444,\"#bd3786\"],[0.5555555555555556,\"#d8576b\"],[0.6666666666666666,\"#ed7953\"],[0.7777777777777778,\"#fb9f3a\"],[0.8888888888888888,\"#fdca26\"],[1.0,\"#f0f921\"]]}],\"choropleth\":[{\"type\":\"choropleth\",\"colorbar\":{\"outlinewidth\":0,\"ticks\":\"\"}}],\"histogram2d\":[{\"type\":\"histogram2d\",\"colorbar\":{\"outlinewidth\":0,\"ticks\":\"\"},\"colorscale\":[[0.0,\"#0d0887\"],[0.1111111111111111,\"#46039f\"],[0.2222222222222222,\"#7201a8\"],[0.3333333333333333,\"#9c179e\"],[0.4444444444444444,\"#bd3786\"],[0.5555555555555556,\"#d8576b\"],[0.6666666666666666,\"#ed7953\"],[0.7777777777777778,\"#fb9f3a\"],[0.8888888888888888,\"#fdca26\"],[1.0,\"#f0f921\"]]}],\"heatmap\":[{\"type\":\"heatmap\",\"colorbar\":{\"outlinewidth\":0,\"ticks\":\"\"},\"colorscale\":[[0.0,\"#0d0887\"],[0.1111111111111111,\"#46039f\"],[0.2222222222222222,\"#7201a8\"],[0.3333333333333333,\"#9c179e\"],[0.4444444444444444,\"#bd3786\"],[0.5555555555555556,\"#d8576b\"],[0.6666666666666666,\"#ed7953\"],[0.7777777777777778,\"#fb9f3a\"],[0.8888888888888888,\"#fdca26\"],[1.0,\"#f0f921\"]]}],\"heatmapgl\":[{\"type\":\"heatmapgl\",\"colorbar\":{\"outlinewidth\":0,\"ticks\":\"\"},\"colorscale\":[[0.0,\"#0d0887\"],[0.1111111111111111,\"#46039f\"],[0.2222222222222222,\"#7201a8\"],[0.3333333333333333,\"#9c179e\"],[0.4444444444444444,\"#bd3786\"],[0.5555555555555556,\"#d8576b\"],[0.6666666666666666,\"#ed7953\"],[0.7777777777777778,\"#fb9f3a\"],[0.8888888888888888,\"#fdca26\"],[1.0,\"#f0f921\"]]}],\"contourcarpet\":[{\"type\":\"contourcarpet\",\"colorbar\":{\"outlinewidth\":0,\"ticks\":\"\"}}],\"contour\":[{\"type\":\"contour\",\"colorbar\":{\"outlinewidth\":0,\"ticks\":\"\"},\"colorscale\":[[0.0,\"#0d0887\"],[0.1111111111111111,\"#46039f\"],[0.2222222222222222,\"#7201a8\"],[0.3333333333333333,\"#9c179e\"],[0.4444444444444444,\"#bd3786\"],[0.5555555555555556,\"#d8576b\"],[0.6666666666666666,\"#ed7953\"],[0.7777777777777778,\"#fb9f3a\"],[0.8888888888888888,\"#fdca26\"],[1.0,\"#f0f921\"]]}],\"surface\":[{\"type\":\"surface\",\"colorbar\":{\"outlinewidth\":0,\"ticks\":\"\"},\"colorscale\":[[0.0,\"#0d0887\"],[0.1111111111111111,\"#46039f\"],[0.2222222222222222,\"#7201a8\"],[0.3333333333333333,\"#9c179e\"],[0.4444444444444444,\"#bd3786\"],[0.5555555555555556,\"#d8576b\"],[0.6666666666666666,\"#ed7953\"],[0.7777777777777778,\"#fb9f3a\"],[0.8888888888888888,\"#fdca26\"],[1.0,\"#f0f921\"]]}],\"mesh3d\":[{\"type\":\"mesh3d\",\"colorbar\":{\"outlinewidth\":0,\"ticks\":\"\"}}],\"scatter\":[{\"fillpattern\":{\"fillmode\":\"overlay\",\"size\":10,\"solidity\":0.2},\"type\":\"scatter\"}],\"parcoords\":[{\"type\":\"parcoords\",\"line\":{\"colorbar\":{\"outlinewidth\":0,\"ticks\":\"\"}}}],\"scatterpolargl\":[{\"type\":\"scatterpolargl\",\"marker\":{\"colorbar\":{\"outlinewidth\":0,\"ticks\":\"\"}}}],\"bar\":[{\"error_x\":{\"color\":\"#2a3f5f\"},\"error_y\":{\"color\":\"#2a3f5f\"},\"marker\":{\"line\":{\"color\":\"#E5ECF6\",\"width\":0.5},\"pattern\":{\"fillmode\":\"overlay\",\"size\":10,\"solidity\":0.2}},\"type\":\"bar\"}],\"scattergeo\":[{\"type\":\"scattergeo\",\"marker\":{\"colorbar\":{\"outlinewidth\":0,\"ticks\":\"\"}}}],\"scatterpolar\":[{\"type\":\"scatterpolar\",\"marker\":{\"colorbar\":{\"outlinewidth\":0,\"ticks\":\"\"}}}],\"histogram\":[{\"marker\":{\"pattern\":{\"fillmode\":\"overlay\",\"size\":10,\"solidity\":0.2}},\"type\":\"histogram\"}],\"scattergl\":[{\"type\":\"scattergl\",\"marker\":{\"colorbar\":{\"outlinewidth\":0,\"ticks\":\"\"}}}],\"scatter3d\":[{\"type\":\"scatter3d\",\"line\":{\"colorbar\":{\"outlinewidth\":0,\"ticks\":\"\"}},\"marker\":{\"colorbar\":{\"outlinewidth\":0,\"ticks\":\"\"}}}],\"scattermapbox\":[{\"type\":\"scattermapbox\",\"marker\":{\"colorbar\":{\"outlinewidth\":0,\"ticks\":\"\"}}}],\"scatterternary\":[{\"type\":\"scatterternary\",\"marker\":{\"colorbar\":{\"outlinewidth\":0,\"ticks\":\"\"}}}],\"scattercarpet\":[{\"type\":\"scattercarpet\",\"marker\":{\"colorbar\":{\"outlinewidth\":0,\"ticks\":\"\"}}}],\"carpet\":[{\"aaxis\":{\"endlinecolor\":\"#2a3f5f\",\"gridcolor\":\"white\",\"linecolor\":\"white\",\"minorgridcolor\":\"white\",\"startlinecolor\":\"#2a3f5f\"},\"baxis\":{\"endlinecolor\":\"#2a3f5f\",\"gridcolor\":\"white\",\"linecolor\":\"white\",\"minorgridcolor\":\"white\",\"startlinecolor\":\"#2a3f5f\"},\"type\":\"carpet\"}],\"table\":[{\"cells\":{\"fill\":{\"color\":\"#EBF0F8\"},\"line\":{\"color\":\"white\"}},\"header\":{\"fill\":{\"color\":\"#C8D4E3\"},\"line\":{\"color\":\"white\"}},\"type\":\"table\"}],\"barpolar\":[{\"marker\":{\"line\":{\"color\":\"#E5ECF6\",\"width\":0.5},\"pattern\":{\"fillmode\":\"overlay\",\"size\":10,\"solidity\":0.2}},\"type\":\"barpolar\"}],\"pie\":[{\"automargin\":true,\"type\":\"pie\"}]},\"layout\":{\"autotypenumbers\":\"strict\",\"colorway\":[\"#636efa\",\"#EF553B\",\"#00cc96\",\"#ab63fa\",\"#FFA15A\",\"#19d3f3\",\"#FF6692\",\"#B6E880\",\"#FF97FF\",\"#FECB52\"],\"font\":{\"color\":\"#2a3f5f\"},\"hovermode\":\"closest\",\"hoverlabel\":{\"align\":\"left\"},\"paper_bgcolor\":\"white\",\"plot_bgcolor\":\"#E5ECF6\",\"polar\":{\"bgcolor\":\"#E5ECF6\",\"angularaxis\":{\"gridcolor\":\"white\",\"linecolor\":\"white\",\"ticks\":\"\"},\"radialaxis\":{\"gridcolor\":\"white\",\"linecolor\":\"white\",\"ticks\":\"\"}},\"ternary\":{\"bgcolor\":\"#E5ECF6\",\"aaxis\":{\"gridcolor\":\"white\",\"linecolor\":\"white\",\"ticks\":\"\"},\"baxis\":{\"gridcolor\":\"white\",\"linecolor\":\"white\",\"ticks\":\"\"},\"caxis\":{\"gridcolor\":\"white\",\"linecolor\":\"white\",\"ticks\":\"\"}},\"coloraxis\":{\"colorbar\":{\"outlinewidth\":0,\"ticks\":\"\"}},\"colorscale\":{\"sequential\":[[0.0,\"#0d0887\"],[0.1111111111111111,\"#46039f\"],[0.2222222222222222,\"#7201a8\"],[0.3333333333333333,\"#9c179e\"],[0.4444444444444444,\"#bd3786\"],[0.5555555555555556,\"#d8576b\"],[0.6666666666666666,\"#ed7953\"],[0.7777777777777778,\"#fb9f3a\"],[0.8888888888888888,\"#fdca26\"],[1.0,\"#f0f921\"]],\"sequentialminus\":[[0.0,\"#0d0887\"],[0.1111111111111111,\"#46039f\"],[0.2222222222222222,\"#7201a8\"],[0.3333333333333333,\"#9c179e\"],[0.4444444444444444,\"#bd3786\"],[0.5555555555555556,\"#d8576b\"],[0.6666666666666666,\"#ed7953\"],[0.7777777777777778,\"#fb9f3a\"],[0.8888888888888888,\"#fdca26\"],[1.0,\"#f0f921\"]],\"diverging\":[[0,\"#8e0152\"],[0.1,\"#c51b7d\"],[0.2,\"#de77ae\"],[0.3,\"#f1b6da\"],[0.4,\"#fde0ef\"],[0.5,\"#f7f7f7\"],[0.6,\"#e6f5d0\"],[0.7,\"#b8e186\"],[0.8,\"#7fbc41\"],[0.9,\"#4d9221\"],[1,\"#276419\"]]},\"xaxis\":{\"gridcolor\":\"white\",\"linecolor\":\"white\",\"ticks\":\"\",\"title\":{\"standoff\":15},\"zerolinecolor\":\"white\",\"automargin\":true,\"zerolinewidth\":2},\"yaxis\":{\"gridcolor\":\"white\",\"linecolor\":\"white\",\"ticks\":\"\",\"title\":{\"standoff\":15},\"zerolinecolor\":\"white\",\"automargin\":true,\"zerolinewidth\":2},\"scene\":{\"xaxis\":{\"backgroundcolor\":\"#E5ECF6\",\"gridcolor\":\"white\",\"linecolor\":\"white\",\"showbackground\":true,\"ticks\":\"\",\"zerolinecolor\":\"white\",\"gridwidth\":2},\"yaxis\":{\"backgroundcolor\":\"#E5ECF6\",\"gridcolor\":\"white\",\"linecolor\":\"white\",\"showbackground\":true,\"ticks\":\"\",\"zerolinecolor\":\"white\",\"gridwidth\":2},\"zaxis\":{\"backgroundcolor\":\"#E5ECF6\",\"gridcolor\":\"white\",\"linecolor\":\"white\",\"showbackground\":true,\"ticks\":\"\",\"zerolinecolor\":\"white\",\"gridwidth\":2}},\"shapedefaults\":{\"line\":{\"color\":\"#2a3f5f\"}},\"annotationdefaults\":{\"arrowcolor\":\"#2a3f5f\",\"arrowhead\":0,\"arrowwidth\":1},\"geo\":{\"bgcolor\":\"white\",\"landcolor\":\"#E5ECF6\",\"subunitcolor\":\"white\",\"showland\":true,\"showlakes\":true,\"lakecolor\":\"white\"},\"title\":{\"x\":0.05},\"mapbox\":{\"style\":\"light\"}}},\"title\":{\"text\":\"Distribution of Nuclear Norm of Node Explain Matrix\"},\"xaxis\":{\"title\":{\"text\":\"Nuclear Norm\"}},\"yaxis\":{\"title\":{\"text\":\"Frequency\"}},\"font\":{\"size\":20},\"paper_bgcolor\":\"white\",\"plot_bgcolor\":\"white\"},                        {\"responsive\": true}                    ).then(function(){\n",
       "                            \n",
       "var gd = document.getElementById('bdcefb59-d35f-4acf-bab9-d3425f6f9f7a');\n",
       "var x = new MutationObserver(function (mutations, observer) {{\n",
       "        var display = window.getComputedStyle(gd).display;\n",
       "        if (!display || display === 'none') {{\n",
       "            console.log([gd, 'removed!']);\n",
       "            Plotly.purge(gd);\n",
       "            observer.disconnect();\n",
       "        }}\n",
       "}});\n",
       "\n",
       "// Listen for the removal of the full notebook cells\n",
       "var notebookContainer = gd.closest('#notebook-container');\n",
       "if (notebookContainer) {{\n",
       "    x.observe(notebookContainer, {childList: true});\n",
       "}}\n",
       "\n",
       "// Listen for the clearing of the current output cell\n",
       "var outputEl = gd.closest('.output');\n",
       "if (outputEl) {{\n",
       "    x.observe(outputEl, {childList: true});\n",
       "}}\n",
       "\n",
       "                        })                };                });            </script>        </div>"
      ]
     },
     "metadata": {},
     "output_type": "display_data"
    }
   ],
   "source": [
    "fig = go.Figure()\n",
    "\n",
    "fig.add_trace(go.Histogram(x = norm_og, \n",
    "                           name = 'DGI'))\n",
    "fig.add_trace(go.Histogram(x = norm_plus, \n",
    "                           name = 'DGI+XM'))\n",
    "\n",
    "\n",
    "fig.update_layout(title_text = 'Distribution of Nuclear Norm of Node Explain Matrix', \n",
    "                  xaxis_title_text = 'Nuclear Norm', \n",
    "                  yaxis_title_text = 'Frequency', \n",
    "                  paper_bgcolor = 'white', \n",
    "                  plot_bgcolor = 'white', \n",
    "                  font = dict(size = 20))\n",
    "fig.show()"
   ]
  },
  {
   "cell_type": "code",
   "execution_count": null,
   "id": "a1238609",
   "metadata": {},
   "outputs": [],
   "source": []
  }
 ],
 "metadata": {
  "kernelspec": {
   "display_name": "Python 3 (ipykernel)",
   "language": "python",
   "name": "python3"
  },
  "language_info": {
   "codemirror_mode": {
    "name": "ipython",
    "version": 3
   },
   "file_extension": ".py",
   "mimetype": "text/x-python",
   "name": "python",
   "nbconvert_exporter": "python",
   "pygments_lexer": "ipython3",
   "version": "3.10.8"
  },
  "toc": {
   "base_numbering": 1,
   "nav_menu": {},
   "number_sections": true,
   "sideBar": true,
   "skip_h1_title": false,
   "title_cell": "Table of Contents",
   "title_sidebar": "Contents",
   "toc_cell": false,
   "toc_position": {},
   "toc_section_display": true,
   "toc_window_display": false
  }
 },
 "nbformat": 4,
 "nbformat_minor": 5
}
