{
 "cells": [
  {
   "cell_type": "markdown",
   "id": "0369cae7",
   "metadata": {},
   "source": [
    "### Imports"
   ]
  },
  {
   "cell_type": "code",
   "execution_count": 1,
   "id": "707c0344",
   "metadata": {},
   "outputs": [
    {
     "name": "stderr",
     "output_type": "stream",
     "text": [
      "/Users/zohairshafi/miniforge3/lib/python3.10/site-packages/tqdm/auto.py:22: TqdmWarning: IProgress not found. Please update jupyter and ipywidgets. See https://ipywidgets.readthedocs.io/en/stable/user_install.html\n",
      "  from .autonotebook import tqdm as notebook_tqdm\n"
     ]
    }
   ],
   "source": [
    "import numpy as np\n",
    "import scipy.sparse as sp\n",
    "import torch\n",
    "import torch.nn as nn\n",
    "import pickle as pkl\n",
    "import networkx as nx\n",
    "\n",
    "from tqdm import tqdm\n",
    "from DGI.models import DGI, LogReg\n",
    "from DGI.utils import process\n",
    "from tensorflow.keras.optimizers import Adam, Nadam\n",
    "\n",
    "from scripts.utils import *"
   ]
  },
  {
   "cell_type": "markdown",
   "id": "ba79c95f",
   "metadata": {},
   "source": [
    "### Class Definitions"
   ]
  },
  {
   "cell_type": "code",
   "execution_count": 2,
   "id": "4f9319bf",
   "metadata": {},
   "outputs": [],
   "source": [
    "class BaseEmbedder:\n",
    "    def __init__(self, graph, embed_shape = (128,)):\n",
    "        self.embed(graph)\n",
    "        self.E = list(graph.edges())\n",
    "        self.graph = graph\n",
    "        self.embed_shape = embed_shape\n",
    "    \n",
    "    def embed(self, graph):\n",
    "        raise NotImplementedError\n",
    "    \n",
    "    def get_embedding(self):\n",
    "        raise NotImplementedError\n",
    "        "
   ]
  },
  {
   "cell_type": "code",
   "execution_count": 24,
   "id": "41610868",
   "metadata": {},
   "outputs": [],
   "source": [
    "class DGIEmbedding(BaseEmbedder):\n",
    "    def __init__(self, embed_dim = 64, graph = None, feature_matrix = None, use_xm = False, debug = False, batch_size = 1, nb_epochs = 2500, patience = 20, ortho_ = 0.1, sparse_ = 0.1, lr = 1e-3, l2_coef = 0.0, drop_prob = 0.0, sparse = True, nonlinearity = 'prelu', model_name = ''):\n",
    "\n",
    "        self.embed_dim = embed_dim\n",
    "        self.debug = debug\n",
    "        \n",
    "        # Training Params\n",
    "        self.graph = graph\n",
    "        self.batch_size = batch_size\n",
    "        self.nb_epochs = nb_epochs\n",
    "        self.patience = patience\n",
    "        self.lr = lr\n",
    "        self.l2_coef = l2_coef\n",
    "        self.feature_matrix = feature_matrix\n",
    "        self.drop_prob = drop_prob\n",
    "        self.hid_units = embed_dim\n",
    "        self.sparse = sparse\n",
    "        self.nonlinearity = nonlinearity\n",
    "        self.use_xm = use_xm\n",
    "        self.ortho_ = ortho_\n",
    "        self.sparse_ = sparse_\n",
    "        self.model_name = model_name\n",
    "\n",
    "        self.time_per_epoch = None\n",
    "        \n",
    "        if graph is not None:\n",
    "            self.embed()\n",
    "        else:\n",
    "            self.graph = None\n",
    "    \n",
    "    def embed(self):\n",
    "\n",
    "        \n",
    "        if self.feature_matrix is None:\n",
    "            feature_matrix = np.identity(len(self.graph))\n",
    "        else: \n",
    "            feature_matrix = self.feature_matrix\n",
    "\n",
    "        adj = nx.to_scipy_sparse_array(self.graph)\n",
    "        features = sp.lil_matrix(feature_matrix)\n",
    "        features, _ = process.preprocess_features(features)\n",
    "\n",
    "        nb_nodes = features.shape[0]\n",
    "        ft_size = features.shape[1]\n",
    "\n",
    "        adj = process.normalize_adj(adj + sp.eye(adj.shape[0]))\n",
    "\n",
    "        if self.sparse:\n",
    "            sp_adj = process.sparse_mx_to_torch_sparse_tensor(adj)\n",
    "        else:\n",
    "            adj = (adj + sp.eye(adj.shape[0])).todense()\n",
    "\n",
    "        features = torch.FloatTensor(features[np.newaxis])\n",
    "        if not self.sparse:\n",
    "            adj = torch.FloatTensor(adj[np.newaxis])\n",
    "            if torch.cuda.is_available():\n",
    "                adj = adj.cuda()\n",
    "\n",
    "        if self.feature_matrix is not None: \n",
    "            sense_features = torch.FloatTensor(self.feature_matrix)\n",
    "            if torch.cuda.is_available():\n",
    "                sense_features = sense_features.cuda()\n",
    "\n",
    "\n",
    "        model = DGI(ft_size, self.hid_units, self.nonlinearity)\n",
    "        if torch.cuda.is_available():\n",
    "            model = model.cuda()\n",
    "        optimiser = torch.optim.Adam(model.parameters(), lr = self.lr, weight_decay = self.l2_coef)\n",
    "\n",
    "        b_xent = nn.BCEWithLogitsLoss()\n",
    "        xent = nn.CrossEntropyLoss()\n",
    "        cnt_wait = 0\n",
    "        best = 1e9\n",
    "        best_t = 0\n",
    "        \n",
    "        start_time = time.time()\n",
    "        for epoch in tqdm(range(self.nb_epochs)):\n",
    "            model.train()\n",
    "            optimiser.zero_grad()\n",
    "\n",
    "            idx = np.random.permutation(nb_nodes)\n",
    "            shuf_fts = features[:, idx, :]\n",
    "\n",
    "            lbl_1 = torch.ones(self.batch_size, nb_nodes)\n",
    "            lbl_2 = torch.zeros(self.batch_size, nb_nodes)\n",
    "            lbl = torch.cat((lbl_1, lbl_2), 1)\n",
    "\n",
    "            if torch.cuda.is_available():\n",
    "                shuf_fts = shuf_fts.cuda()\n",
    "                lbl = lbl.cuda()\n",
    "                sp_adj = sp_adj.cuda()\n",
    "                features = features.cuda()\n",
    "            \n",
    "            logits = model(features, shuf_fts, sp_adj if self.sparse else adj, self.sparse, None, None, None) \n",
    "            \n",
    "            if self.use_xm == True and feature_matrix is not None:\n",
    "                \n",
    "                start_idx = 0\n",
    "                loop = True\n",
    "                \n",
    "                ortho_loss = 0\n",
    "                sparse_loss = 0\n",
    "                xm_batch_size = 128\n",
    "                \n",
    "                sf = sense_features\n",
    "                embeds, _ = model.embed(sf, sp_adj if self.sparse else adj, self.sparse, None)\n",
    "                                \n",
    "                while loop:\n",
    "                    end_idx = start_idx + xm_batch_size\n",
    "                    if end_idx > len(self.graph):\n",
    "                        loop = False\n",
    "                        end_idx = len(self.graph)\n",
    "                        \n",
    "                    \n",
    "                    sf = sense_features[start_idx : end_idx]\n",
    "                    embeds_ = torch.squeeze(embeds)[start_idx : end_idx]\n",
    "                    \n",
    "                    \n",
    "                    sense_mat = torch.einsum('ij, ik -> ijk', embeds_, sf)\n",
    "                    E = sense_mat\n",
    "                    y_norm = torch.diagonal(torch.matmul(embeds_, torch.transpose(embeds_, 0, 1)))\n",
    "                    sense_norm = torch.diagonal(torch.matmul(sf, torch.transpose(sf, 0, 1)))\n",
    "                    norm = torch.multiply(y_norm, sense_norm)\n",
    "                    E = torch.transpose(torch.transpose(E, 0, 2) / norm, 0, 2)\n",
    "                    E = (E - torch.amin(E, dim = [-1, -2], keepdim = True)) / (torch.amax(E, dim = [-1, -2], keepdim = True) - torch.amin(E, dim = [-1, -2], keepdim = True))\n",
    "\n",
    "                    E_t = torch.transpose(E, 1, 2)\n",
    "                    E_o = torch.einsum('aij, ajh -> aih', E, E_t)\n",
    "                    E_o = torch.sum(E_o)\n",
    "                    batch_ortho_loss = (self.ortho_ * E_o) / self.batch_size\n",
    "\n",
    "                    batch_sparse_loss = (self.sparse_ * torch.sum(torch.linalg.norm(E, ord = 1, axis = 0))) / self.batch_size\n",
    "                        \n",
    "                    ortho_loss += batch_ortho_loss\n",
    "                    sparse_loss += batch_sparse_loss\n",
    "                    \n",
    "                    start_idx = end_idx\n",
    "                    \n",
    "                loss = b_xent(logits, lbl) + ortho_loss + sparse_loss\n",
    "            else:\n",
    "                loss = b_xent(logits, lbl)\n",
    "\n",
    "            if self.debug:\n",
    "                print('Loss:', loss)\n",
    "\n",
    "            if loss < best:\n",
    "                best = loss\n",
    "                best_t = epoch\n",
    "                cnt_wait = 0\n",
    "                torch.save(model.state_dict(), self.model_name + '.pkl')\n",
    "            else:\n",
    "                cnt_wait += 1\n",
    "\n",
    "            if cnt_wait == self.patience:\n",
    "                if self.debug: \n",
    "                    print('Early stopping!')\n",
    "                break\n",
    "\n",
    "            loss.backward()\n",
    "            optimiser.step()\n",
    "            \n",
    "        self.time_per_epoch = (time.time() - start_time) / epoch\n",
    "\n",
    "        if self.debug: \n",
    "            print('Loading {}th epoch'.format(best_t))\n",
    "        model.load_state_dict(torch.load(self.model_name + '.pkl'))\n",
    "\n",
    "        self.node_model = model\n",
    "        self.fitted = True\n",
    "\n",
    "        embeds, _ = model.embed(features, sp_adj if self.sparse else adj, self.sparse, None)\n",
    "        self.embeddings = embeds\n",
    "    \n",
    "    def get_embedding(self):\n",
    "        if torch.cuda.is_available():\n",
    "            return np.squeeze(self.embeddings.cpu().numpy())\n",
    "        return np.squeeze(self.embeddings.numpy())\n",
    "    \n",
    "\n",
    "\n"
   ]
  },
  {
   "cell_type": "code",
   "execution_count": null,
   "id": "b1e51f5c",
   "metadata": {},
   "outputs": [],
   "source": []
  },
  {
   "cell_type": "code",
   "execution_count": 71,
   "id": "bd8df723",
   "metadata": {},
   "outputs": [
    {
     "name": "stdout",
     "output_type": "stream",
     "text": [
      "Calculating Personalized Page Rank...                     \r"
     ]
    },
    {
     "name": "stderr",
     "output_type": "stream",
     "text": [
      "1186it [00:37, 31.43it/s]\n"
     ]
    },
    {
     "name": "stdout",
     "output_type": "stream",
     "text": [
      "Calculating Katz Centrality...                            \r"
     ]
    },
    {
     "name": "stderr",
     "output_type": "stream",
     "text": [
      "/Users/zohairshafi/miniforge3/lib/python3.10/site-packages/networkx/algorithms/centrality/katz.py:325: FutureWarning:\n",
      "\n",
      "adjacency_matrix will return a scipy.sparse array instead of a matrix in Networkx 3.0.\n",
      "\n"
     ]
    },
    {
     "name": "stdout",
     "output_type": "stream",
     "text": [
      "Normalizing Features Between 0 And 1...                   \r",
      "Done                                                      \r"
     ]
    }
   ],
   "source": [
    "with open('./data/usa_airport.pkl', 'rb') as file: \n",
    "    graph_dict = pkl.load(file)\n",
    "    \n",
    "graph = nx.Graph(nx.to_numpy_array(graph_dict['graph']))    \n",
    "graph = nx.Graph(nx.to_numpy_array(graph))\n",
    "\n",
    "\n",
    "sense_feat_dict, sense_features = get_sense_features(graph, ppr_flag = 'std')\n"
   ]
  },
  {
   "cell_type": "code",
   "execution_count": 72,
   "id": "fc3e2eaf",
   "metadata": {},
   "outputs": [],
   "source": [
    "uncorrelated_feats = ['Degree',\n",
    "                    'Clustering Coefficient',\n",
    "                    'Personalized Page Rank - Standard Deviation',\n",
    "                    'Average Neighbor Degree',\n",
    "                    'Average Neighbor Clustering',\n",
    "                    'Eccentricity',\n",
    "                    'Katz Centrality']\n",
    "sense_features = sense_features[:, [list(sense_feat_dict).index(feat) for feat in uncorrelated_feats]]\n",
    "sense_feat_dict = {feat : idx for idx, feat in enumerate(uncorrelated_feats)}"
   ]
  },
  {
   "cell_type": "code",
   "execution_count": 73,
   "id": "b6a984b4",
   "metadata": {},
   "outputs": [
    {
     "name": "stderr",
     "output_type": "stream",
     "text": [
      " 14%|█████▍                                  | 343/2500 [00:03<00:24, 87.05it/s]\n",
      " 27%|██████████▌                             | 663/2500 [00:19<00:54, 33.98it/s]\n",
      "/Users/zohairshafi/Local Workspace/ExplainingNodeEmbeddings/scripts/utils.py:448: RuntimeWarning:\n",
      "\n",
      "overflow encountered in exp\n",
      "\n",
      "/Users/zohairshafi/Local Workspace/ExplainingNodeEmbeddings/scripts/utils.py:448: RuntimeWarning:\n",
      "\n",
      "invalid value encountered in divide\n",
      "\n"
     ]
    }
   ],
   "source": [
    "dgi_og = DGIEmbedding(graph = graph, \n",
    "           embed_dim = 64, \n",
    "           feature_matrix = sense_features, \n",
    "           use_xm = False, \n",
    "           ortho_ = 0, \n",
    "           sparse_ = 0, \n",
    "           batch_size = 1, \n",
    "           model_name = '-')\n",
    "embed_og = dgi_og.get_embedding()\n",
    "embed_og = (embed_og - np.min(embed_og)) / np.ptp(embed_og)\n",
    "feature_dict_og = find_feature_membership(input_embed = embed_og,\n",
    "                                                    embed_name = 'DGI-SF',\n",
    "                                                    sense_features = sense_features,\n",
    "                                                    sense_feat_dict = sense_feat_dict,\n",
    "                                                    top_k = 8,\n",
    "                                                    solver = 'nmf')\n",
    "\n",
    "explain_og = feature_dict_og['explain_norm']\n",
    "error_og = sense_features * np.log((sense_features + 1e-10) / ((embed_og @ feature_dict_og['explain_norm']) + 1e-10)) - sense_features + (embed_og @ feature_dict_og['explain_norm'])\n",
    "explain_og = (explain_og - np.min(explain_og)) / np.ptp(explain_og)\n",
    "\n",
    "\n",
    "dgi_plus = DGIEmbedding(graph = graph, \n",
    "           embed_dim = 64, \n",
    "           feature_matrix = sense_features, \n",
    "           use_xm = True, \n",
    "           ortho_ = 100, \n",
    "           sparse_ = 100, \n",
    "           batch_size = 1, \n",
    "           model_name = '-', \n",
    "           patience = 500)\n",
    "embed_plus = dgi_plus.get_embedding()\n",
    "embed_plus = (embed_plus - np.min(embed_plus)) / np.ptp(embed_plus)\n",
    "feature_dict_plus = find_feature_membership(input_embed = embed_plus,\n",
    "                                                    embed_name = 'DGI+XM',\n",
    "                                                    sense_features = sense_features,\n",
    "                                                    sense_feat_dict = sense_feat_dict,\n",
    "                                                    top_k = 8,\n",
    "                                                    solver = 'nmf')\n",
    "\n",
    "explain_plus = feature_dict_plus['explain_norm']\n",
    "error_plus = sense_features * np.log((sense_features + 1e-10) / ((embed_plus @ feature_dict_plus['explain_norm']) + 1e-10)) - sense_features + (embed_plus @ feature_dict_plus['explain_norm'])\n",
    "explain_plus = (explain_plus - np.min(explain_plus)) / np.ptp(explain_plus)"
   ]
  },
  {
   "cell_type": "code",
   "execution_count": null,
   "id": "fc0dd519",
   "metadata": {},
   "outputs": [],
   "source": []
  },
  {
   "cell_type": "code",
   "execution_count": 74,
   "id": "f933eed2",
   "metadata": {
    "scrolled": true
   },
   "outputs": [
    {
     "data": {
      "application/vnd.plotly.v1+json": {
       "config": {
        "plotlyServerURL": "https://plot.ly"
       },
       "data": [
        {
         "type": "heatmap",
         "x": [
          "Degree",
          "Clustering Coefficient",
          "Personalized Page Rank - Standard Deviation",
          "Average Neighbor Degree",
          "Average Neighbor Clustering",
          "Eccentricity",
          "Katz Centrality"
         ],
         "z": [
          [
           0,
           0,
           0,
           0,
           0,
           0,
           0
          ],
          [
           0,
           0,
           0,
           0,
           0,
           0,
           0
          ],
          [
           0,
           0.1609608232975006,
           0,
           0,
           0,
           0,
           0
          ],
          [
           0,
           0,
           0,
           0,
           0.054857682436704636,
           0.08108585327863693,
           0.10598455369472504
          ],
          [
           0,
           0,
           0,
           0,
           0,
           0,
           0
          ],
          [
           0,
           0,
           0,
           0.15325665473937988,
           0,
           0,
           0.11796331405639648
          ],
          [
           0.1896592378616333,
           0,
           0,
           0.23533372581005096,
           0,
           0,
           0.0006109022069722414
          ],
          [
           0,
           0,
           0,
           0,
           0,
           0,
           0
          ],
          [
           0,
           0,
           0,
           0,
           0,
           0,
           0
          ],
          [
           0,
           0,
           0,
           0,
           0,
           0,
           0
          ],
          [
           0,
           0,
           0,
           0,
           0,
           0,
           0
          ],
          [
           0,
           0,
           0,
           0,
           0,
           0,
           0
          ],
          [
           0,
           0,
           0,
           0,
           0,
           0,
           0
          ],
          [
           0,
           0,
           0,
           0,
           0,
           0,
           0
          ],
          [
           0,
           0,
           0,
           0,
           0,
           0,
           0
          ],
          [
           0.4711979925632477,
           0,
           0,
           0,
           0,
           0,
           0
          ],
          [
           0,
           0,
           0,
           0,
           0,
           0,
           0
          ],
          [
           0,
           0,
           0,
           0,
           0,
           0,
           0
          ],
          [
           0,
           0,
           0,
           0,
           0,
           0,
           0
          ],
          [
           0.003222261555492878,
           0,
           0,
           0,
           0,
           0,
           0
          ],
          [
           0.14802862703800201,
           0,
           0,
           0,
           0,
           0,
           0
          ],
          [
           0,
           0,
           0,
           0,
           0,
           0,
           0
          ],
          [
           0,
           0,
           0,
           0,
           0,
           0,
           0
          ],
          [
           0,
           0,
           0,
           0,
           0,
           0,
           0
          ],
          [
           0,
           0,
           0,
           0,
           0.13174262642860413,
           0,
           0
          ],
          [
           0,
           0,
           0,
           0,
           0.05998515710234642,
           0,
           0
          ],
          [
           0,
           0,
           0,
           0,
           0,
           0,
           0
          ],
          [
           0,
           0,
           0,
           0,
           0,
           0,
           0
          ],
          [
           0,
           0,
           0,
           0,
           0,
           0,
           0
          ],
          [
           0,
           0,
           0,
           0,
           0,
           0,
           0
          ],
          [
           0,
           0,
           0,
           0,
           0,
           0,
           0.012630581855773926
          ],
          [
           0,
           0,
           0,
           0,
           0,
           0,
           0
          ],
          [
           0,
           0,
           0,
           0,
           0,
           0,
           0
          ],
          [
           0,
           0.2576640248298645,
           0,
           0.06994008272886276,
           0,
           0.11083327233791351,
           0.10703641921281815
          ],
          [
           0,
           0,
           0,
           0,
           0,
           0,
           0
          ],
          [
           0,
           0,
           0.4551883041858673,
           0,
           0,
           0,
           0
          ],
          [
           0,
           0,
           0,
           0,
           0,
           0,
           0
          ],
          [
           0,
           0,
           0,
           0,
           0.06422711163759232,
           0.2060708999633789,
           0
          ],
          [
           0,
           0,
           0,
           0,
           0,
           0,
           0.01563979871571064
          ],
          [
           0,
           0,
           0,
           0,
           0,
           0,
           0
          ],
          [
           0,
           0,
           0,
           0,
           0,
           0,
           0
          ],
          [
           0,
           0.20075669884681702,
           0,
           0,
           0,
           0,
           0
          ],
          [
           0,
           0,
           0.433312326669693,
           0,
           0,
           0,
           0
          ],
          [
           1,
           0.30488207936286926,
           0,
           0,
           0,
           0.21246996521949768,
           0
          ],
          [
           0,
           0,
           0,
           0.06946875154972076,
           0.05792650952935219,
           0.03009014017879963,
           0
          ],
          [
           0,
           0,
           0,
           0,
           0,
           0,
           0
          ],
          [
           0,
           0,
           0,
           0,
           0,
           0,
           0
          ],
          [
           0,
           0,
           0,
           0,
           0,
           0,
           0
          ],
          [
           0,
           0,
           0,
           0,
           0,
           0.013785572722554207,
           0
          ],
          [
           0,
           0,
           0,
           0,
           0,
           0,
           0
          ],
          [
           0,
           0,
           0.28406187891960144,
           0,
           0,
           0,
           0
          ],
          [
           0,
           0,
           0,
           0,
           0,
           0,
           0
          ],
          [
           0,
           0,
           0,
           0,
           0,
           0,
           0
          ],
          [
           0,
           0,
           0,
           0,
           0,
           0,
           0.05526174604892731
          ],
          [
           0,
           0,
           0,
           0,
           0,
           0,
           0
          ],
          [
           0,
           0,
           0,
           0,
           0,
           0,
           0
          ],
          [
           0,
           0,
           0.020967762917280197,
           0,
           0,
           0,
           0
          ],
          [
           0,
           0,
           0,
           0,
           0,
           0,
           0
          ],
          [
           0,
           0,
           0,
           0,
           0,
           0,
           0
          ],
          [
           0,
           0,
           0,
           0,
           0,
           0,
           0.1196833997964859
          ],
          [
           0,
           0,
           0.1292794793844223,
           0,
           0,
           0,
           0
          ],
          [
           0,
           0,
           0,
           0,
           0,
           0,
           0
          ],
          [
           0,
           0,
           0,
           0.1573859453201294,
           0,
           0.12543107569217682,
           0
          ],
          [
           0,
           0,
           0,
           0,
           0,
           0,
           0
          ]
         ]
        }
       ],
       "layout": {
        "template": {
         "data": {
          "bar": [
           {
            "error_x": {
             "color": "#2a3f5f"
            },
            "error_y": {
             "color": "#2a3f5f"
            },
            "marker": {
             "line": {
              "color": "#E5ECF6",
              "width": 0.5
             },
             "pattern": {
              "fillmode": "overlay",
              "size": 10,
              "solidity": 0.2
             }
            },
            "type": "bar"
           }
          ],
          "barpolar": [
           {
            "marker": {
             "line": {
              "color": "#E5ECF6",
              "width": 0.5
             },
             "pattern": {
              "fillmode": "overlay",
              "size": 10,
              "solidity": 0.2
             }
            },
            "type": "barpolar"
           }
          ],
          "carpet": [
           {
            "aaxis": {
             "endlinecolor": "#2a3f5f",
             "gridcolor": "white",
             "linecolor": "white",
             "minorgridcolor": "white",
             "startlinecolor": "#2a3f5f"
            },
            "baxis": {
             "endlinecolor": "#2a3f5f",
             "gridcolor": "white",
             "linecolor": "white",
             "minorgridcolor": "white",
             "startlinecolor": "#2a3f5f"
            },
            "type": "carpet"
           }
          ],
          "choropleth": [
           {
            "colorbar": {
             "outlinewidth": 0,
             "ticks": ""
            },
            "type": "choropleth"
           }
          ],
          "contour": [
           {
            "colorbar": {
             "outlinewidth": 0,
             "ticks": ""
            },
            "colorscale": [
             [
              0,
              "#0d0887"
             ],
             [
              0.1111111111111111,
              "#46039f"
             ],
             [
              0.2222222222222222,
              "#7201a8"
             ],
             [
              0.3333333333333333,
              "#9c179e"
             ],
             [
              0.4444444444444444,
              "#bd3786"
             ],
             [
              0.5555555555555556,
              "#d8576b"
             ],
             [
              0.6666666666666666,
              "#ed7953"
             ],
             [
              0.7777777777777778,
              "#fb9f3a"
             ],
             [
              0.8888888888888888,
              "#fdca26"
             ],
             [
              1,
              "#f0f921"
             ]
            ],
            "type": "contour"
           }
          ],
          "contourcarpet": [
           {
            "colorbar": {
             "outlinewidth": 0,
             "ticks": ""
            },
            "type": "contourcarpet"
           }
          ],
          "heatmap": [
           {
            "colorbar": {
             "outlinewidth": 0,
             "ticks": ""
            },
            "colorscale": [
             [
              0,
              "#0d0887"
             ],
             [
              0.1111111111111111,
              "#46039f"
             ],
             [
              0.2222222222222222,
              "#7201a8"
             ],
             [
              0.3333333333333333,
              "#9c179e"
             ],
             [
              0.4444444444444444,
              "#bd3786"
             ],
             [
              0.5555555555555556,
              "#d8576b"
             ],
             [
              0.6666666666666666,
              "#ed7953"
             ],
             [
              0.7777777777777778,
              "#fb9f3a"
             ],
             [
              0.8888888888888888,
              "#fdca26"
             ],
             [
              1,
              "#f0f921"
             ]
            ],
            "type": "heatmap"
           }
          ],
          "heatmapgl": [
           {
            "colorbar": {
             "outlinewidth": 0,
             "ticks": ""
            },
            "colorscale": [
             [
              0,
              "#0d0887"
             ],
             [
              0.1111111111111111,
              "#46039f"
             ],
             [
              0.2222222222222222,
              "#7201a8"
             ],
             [
              0.3333333333333333,
              "#9c179e"
             ],
             [
              0.4444444444444444,
              "#bd3786"
             ],
             [
              0.5555555555555556,
              "#d8576b"
             ],
             [
              0.6666666666666666,
              "#ed7953"
             ],
             [
              0.7777777777777778,
              "#fb9f3a"
             ],
             [
              0.8888888888888888,
              "#fdca26"
             ],
             [
              1,
              "#f0f921"
             ]
            ],
            "type": "heatmapgl"
           }
          ],
          "histogram": [
           {
            "marker": {
             "pattern": {
              "fillmode": "overlay",
              "size": 10,
              "solidity": 0.2
             }
            },
            "type": "histogram"
           }
          ],
          "histogram2d": [
           {
            "colorbar": {
             "outlinewidth": 0,
             "ticks": ""
            },
            "colorscale": [
             [
              0,
              "#0d0887"
             ],
             [
              0.1111111111111111,
              "#46039f"
             ],
             [
              0.2222222222222222,
              "#7201a8"
             ],
             [
              0.3333333333333333,
              "#9c179e"
             ],
             [
              0.4444444444444444,
              "#bd3786"
             ],
             [
              0.5555555555555556,
              "#d8576b"
             ],
             [
              0.6666666666666666,
              "#ed7953"
             ],
             [
              0.7777777777777778,
              "#fb9f3a"
             ],
             [
              0.8888888888888888,
              "#fdca26"
             ],
             [
              1,
              "#f0f921"
             ]
            ],
            "type": "histogram2d"
           }
          ],
          "histogram2dcontour": [
           {
            "colorbar": {
             "outlinewidth": 0,
             "ticks": ""
            },
            "colorscale": [
             [
              0,
              "#0d0887"
             ],
             [
              0.1111111111111111,
              "#46039f"
             ],
             [
              0.2222222222222222,
              "#7201a8"
             ],
             [
              0.3333333333333333,
              "#9c179e"
             ],
             [
              0.4444444444444444,
              "#bd3786"
             ],
             [
              0.5555555555555556,
              "#d8576b"
             ],
             [
              0.6666666666666666,
              "#ed7953"
             ],
             [
              0.7777777777777778,
              "#fb9f3a"
             ],
             [
              0.8888888888888888,
              "#fdca26"
             ],
             [
              1,
              "#f0f921"
             ]
            ],
            "type": "histogram2dcontour"
           }
          ],
          "mesh3d": [
           {
            "colorbar": {
             "outlinewidth": 0,
             "ticks": ""
            },
            "type": "mesh3d"
           }
          ],
          "parcoords": [
           {
            "line": {
             "colorbar": {
              "outlinewidth": 0,
              "ticks": ""
             }
            },
            "type": "parcoords"
           }
          ],
          "pie": [
           {
            "automargin": true,
            "type": "pie"
           }
          ],
          "scatter": [
           {
            "fillpattern": {
             "fillmode": "overlay",
             "size": 10,
             "solidity": 0.2
            },
            "type": "scatter"
           }
          ],
          "scatter3d": [
           {
            "line": {
             "colorbar": {
              "outlinewidth": 0,
              "ticks": ""
             }
            },
            "marker": {
             "colorbar": {
              "outlinewidth": 0,
              "ticks": ""
             }
            },
            "type": "scatter3d"
           }
          ],
          "scattercarpet": [
           {
            "marker": {
             "colorbar": {
              "outlinewidth": 0,
              "ticks": ""
             }
            },
            "type": "scattercarpet"
           }
          ],
          "scattergeo": [
           {
            "marker": {
             "colorbar": {
              "outlinewidth": 0,
              "ticks": ""
             }
            },
            "type": "scattergeo"
           }
          ],
          "scattergl": [
           {
            "marker": {
             "colorbar": {
              "outlinewidth": 0,
              "ticks": ""
             }
            },
            "type": "scattergl"
           }
          ],
          "scattermapbox": [
           {
            "marker": {
             "colorbar": {
              "outlinewidth": 0,
              "ticks": ""
             }
            },
            "type": "scattermapbox"
           }
          ],
          "scatterpolar": [
           {
            "marker": {
             "colorbar": {
              "outlinewidth": 0,
              "ticks": ""
             }
            },
            "type": "scatterpolar"
           }
          ],
          "scatterpolargl": [
           {
            "marker": {
             "colorbar": {
              "outlinewidth": 0,
              "ticks": ""
             }
            },
            "type": "scatterpolargl"
           }
          ],
          "scatterternary": [
           {
            "marker": {
             "colorbar": {
              "outlinewidth": 0,
              "ticks": ""
             }
            },
            "type": "scatterternary"
           }
          ],
          "surface": [
           {
            "colorbar": {
             "outlinewidth": 0,
             "ticks": ""
            },
            "colorscale": [
             [
              0,
              "#0d0887"
             ],
             [
              0.1111111111111111,
              "#46039f"
             ],
             [
              0.2222222222222222,
              "#7201a8"
             ],
             [
              0.3333333333333333,
              "#9c179e"
             ],
             [
              0.4444444444444444,
              "#bd3786"
             ],
             [
              0.5555555555555556,
              "#d8576b"
             ],
             [
              0.6666666666666666,
              "#ed7953"
             ],
             [
              0.7777777777777778,
              "#fb9f3a"
             ],
             [
              0.8888888888888888,
              "#fdca26"
             ],
             [
              1,
              "#f0f921"
             ]
            ],
            "type": "surface"
           }
          ],
          "table": [
           {
            "cells": {
             "fill": {
              "color": "#EBF0F8"
             },
             "line": {
              "color": "white"
             }
            },
            "header": {
             "fill": {
              "color": "#C8D4E3"
             },
             "line": {
              "color": "white"
             }
            },
            "type": "table"
           }
          ]
         },
         "layout": {
          "annotationdefaults": {
           "arrowcolor": "#2a3f5f",
           "arrowhead": 0,
           "arrowwidth": 1
          },
          "autotypenumbers": "strict",
          "coloraxis": {
           "colorbar": {
            "outlinewidth": 0,
            "ticks": ""
           }
          },
          "colorscale": {
           "diverging": [
            [
             0,
             "#8e0152"
            ],
            [
             0.1,
             "#c51b7d"
            ],
            [
             0.2,
             "#de77ae"
            ],
            [
             0.3,
             "#f1b6da"
            ],
            [
             0.4,
             "#fde0ef"
            ],
            [
             0.5,
             "#f7f7f7"
            ],
            [
             0.6,
             "#e6f5d0"
            ],
            [
             0.7,
             "#b8e186"
            ],
            [
             0.8,
             "#7fbc41"
            ],
            [
             0.9,
             "#4d9221"
            ],
            [
             1,
             "#276419"
            ]
           ],
           "sequential": [
            [
             0,
             "#0d0887"
            ],
            [
             0.1111111111111111,
             "#46039f"
            ],
            [
             0.2222222222222222,
             "#7201a8"
            ],
            [
             0.3333333333333333,
             "#9c179e"
            ],
            [
             0.4444444444444444,
             "#bd3786"
            ],
            [
             0.5555555555555556,
             "#d8576b"
            ],
            [
             0.6666666666666666,
             "#ed7953"
            ],
            [
             0.7777777777777778,
             "#fb9f3a"
            ],
            [
             0.8888888888888888,
             "#fdca26"
            ],
            [
             1,
             "#f0f921"
            ]
           ],
           "sequentialminus": [
            [
             0,
             "#0d0887"
            ],
            [
             0.1111111111111111,
             "#46039f"
            ],
            [
             0.2222222222222222,
             "#7201a8"
            ],
            [
             0.3333333333333333,
             "#9c179e"
            ],
            [
             0.4444444444444444,
             "#bd3786"
            ],
            [
             0.5555555555555556,
             "#d8576b"
            ],
            [
             0.6666666666666666,
             "#ed7953"
            ],
            [
             0.7777777777777778,
             "#fb9f3a"
            ],
            [
             0.8888888888888888,
             "#fdca26"
            ],
            [
             1,
             "#f0f921"
            ]
           ]
          },
          "colorway": [
           "#636efa",
           "#EF553B",
           "#00cc96",
           "#ab63fa",
           "#FFA15A",
           "#19d3f3",
           "#FF6692",
           "#B6E880",
           "#FF97FF",
           "#FECB52"
          ],
          "font": {
           "color": "#2a3f5f"
          },
          "geo": {
           "bgcolor": "white",
           "lakecolor": "white",
           "landcolor": "#E5ECF6",
           "showlakes": true,
           "showland": true,
           "subunitcolor": "white"
          },
          "hoverlabel": {
           "align": "left"
          },
          "hovermode": "closest",
          "mapbox": {
           "style": "light"
          },
          "paper_bgcolor": "white",
          "plot_bgcolor": "#E5ECF6",
          "polar": {
           "angularaxis": {
            "gridcolor": "white",
            "linecolor": "white",
            "ticks": ""
           },
           "bgcolor": "#E5ECF6",
           "radialaxis": {
            "gridcolor": "white",
            "linecolor": "white",
            "ticks": ""
           }
          },
          "scene": {
           "xaxis": {
            "backgroundcolor": "#E5ECF6",
            "gridcolor": "white",
            "gridwidth": 2,
            "linecolor": "white",
            "showbackground": true,
            "ticks": "",
            "zerolinecolor": "white"
           },
           "yaxis": {
            "backgroundcolor": "#E5ECF6",
            "gridcolor": "white",
            "gridwidth": 2,
            "linecolor": "white",
            "showbackground": true,
            "ticks": "",
            "zerolinecolor": "white"
           },
           "zaxis": {
            "backgroundcolor": "#E5ECF6",
            "gridcolor": "white",
            "gridwidth": 2,
            "linecolor": "white",
            "showbackground": true,
            "ticks": "",
            "zerolinecolor": "white"
           }
          },
          "shapedefaults": {
           "line": {
            "color": "#2a3f5f"
           }
          },
          "ternary": {
           "aaxis": {
            "gridcolor": "white",
            "linecolor": "white",
            "ticks": ""
           },
           "baxis": {
            "gridcolor": "white",
            "linecolor": "white",
            "ticks": ""
           },
           "bgcolor": "#E5ECF6",
           "caxis": {
            "gridcolor": "white",
            "linecolor": "white",
            "ticks": ""
           }
          },
          "title": {
           "x": 0.05
          },
          "xaxis": {
           "automargin": true,
           "gridcolor": "white",
           "linecolor": "white",
           "ticks": "",
           "title": {
            "standoff": 15
           },
           "zerolinecolor": "white",
           "zerolinewidth": 2
          },
          "yaxis": {
           "automargin": true,
           "gridcolor": "white",
           "linecolor": "white",
           "ticks": "",
           "title": {
            "standoff": 15
           },
           "zerolinecolor": "white",
           "zerolinewidth": 2
          }
         }
        },
        "title": {
         "text": "DGI : 3.2594793"
        },
        "xaxis": {
         "title": {
          "text": "Sense Features"
         }
        },
        "yaxis": {
         "title": {
          "text": "Dimensions"
         }
        }
       }
      },
      "text/html": [
       "<div>                            <div id=\"e5c15fda-96c6-4eca-b55a-5c4995d22f65\" class=\"plotly-graph-div\" style=\"height:525px; width:100%;\"></div>            <script type=\"text/javascript\">                require([\"plotly\"], function(Plotly) {                    window.PLOTLYENV=window.PLOTLYENV || {};                                    if (document.getElementById(\"e5c15fda-96c6-4eca-b55a-5c4995d22f65\")) {                    Plotly.newPlot(                        \"e5c15fda-96c6-4eca-b55a-5c4995d22f65\",                        [{\"x\":[\"Degree\",\"Clustering Coefficient\",\"Personalized Page Rank - Standard Deviation\",\"Average Neighbor Degree\",\"Average Neighbor Clustering\",\"Eccentricity\",\"Katz Centrality\"],\"z\":[[0.0,0.0,0.0,0.0,0.0,0.0,0.0],[0.0,0.0,0.0,0.0,0.0,0.0,0.0],[0.0,0.1609608232975006,0.0,0.0,0.0,0.0,0.0],[0.0,0.0,0.0,0.0,0.054857682436704636,0.08108585327863693,0.10598455369472504],[0.0,0.0,0.0,0.0,0.0,0.0,0.0],[0.0,0.0,0.0,0.15325665473937988,0.0,0.0,0.11796331405639648],[0.1896592378616333,0.0,0.0,0.23533372581005096,0.0,0.0,0.0006109022069722414],[0.0,0.0,0.0,0.0,0.0,0.0,0.0],[0.0,0.0,0.0,0.0,0.0,0.0,0.0],[0.0,0.0,0.0,0.0,0.0,0.0,0.0],[0.0,0.0,0.0,0.0,0.0,0.0,0.0],[0.0,0.0,0.0,0.0,0.0,0.0,0.0],[0.0,0.0,0.0,0.0,0.0,0.0,0.0],[0.0,0.0,0.0,0.0,0.0,0.0,0.0],[0.0,0.0,0.0,0.0,0.0,0.0,0.0],[0.4711979925632477,0.0,0.0,0.0,0.0,0.0,0.0],[0.0,0.0,0.0,0.0,0.0,0.0,0.0],[0.0,0.0,0.0,0.0,0.0,0.0,0.0],[0.0,0.0,0.0,0.0,0.0,0.0,0.0],[0.003222261555492878,0.0,0.0,0.0,0.0,0.0,0.0],[0.14802862703800201,0.0,0.0,0.0,0.0,0.0,0.0],[0.0,0.0,0.0,0.0,0.0,0.0,0.0],[0.0,0.0,0.0,0.0,0.0,0.0,0.0],[0.0,0.0,0.0,0.0,0.0,0.0,0.0],[0.0,0.0,0.0,0.0,0.13174262642860413,0.0,0.0],[0.0,0.0,0.0,0.0,0.05998515710234642,0.0,0.0],[0.0,0.0,0.0,0.0,0.0,0.0,0.0],[0.0,0.0,0.0,0.0,0.0,0.0,0.0],[0.0,0.0,0.0,0.0,0.0,0.0,0.0],[0.0,0.0,0.0,0.0,0.0,0.0,0.0],[0.0,0.0,0.0,0.0,0.0,0.0,0.012630581855773926],[0.0,0.0,0.0,0.0,0.0,0.0,0.0],[0.0,0.0,0.0,0.0,0.0,0.0,0.0],[0.0,0.2576640248298645,0.0,0.06994008272886276,0.0,0.11083327233791351,0.10703641921281815],[0.0,0.0,0.0,0.0,0.0,0.0,0.0],[0.0,0.0,0.4551883041858673,0.0,0.0,0.0,0.0],[0.0,0.0,0.0,0.0,0.0,0.0,0.0],[0.0,0.0,0.0,0.0,0.06422711163759232,0.2060708999633789,0.0],[0.0,0.0,0.0,0.0,0.0,0.0,0.01563979871571064],[0.0,0.0,0.0,0.0,0.0,0.0,0.0],[0.0,0.0,0.0,0.0,0.0,0.0,0.0],[0.0,0.20075669884681702,0.0,0.0,0.0,0.0,0.0],[0.0,0.0,0.433312326669693,0.0,0.0,0.0,0.0],[1.0,0.30488207936286926,0.0,0.0,0.0,0.21246996521949768,0.0],[0.0,0.0,0.0,0.06946875154972076,0.05792650952935219,0.03009014017879963,0.0],[0.0,0.0,0.0,0.0,0.0,0.0,0.0],[0.0,0.0,0.0,0.0,0.0,0.0,0.0],[0.0,0.0,0.0,0.0,0.0,0.0,0.0],[0.0,0.0,0.0,0.0,0.0,0.013785572722554207,0.0],[0.0,0.0,0.0,0.0,0.0,0.0,0.0],[0.0,0.0,0.28406187891960144,0.0,0.0,0.0,0.0],[0.0,0.0,0.0,0.0,0.0,0.0,0.0],[0.0,0.0,0.0,0.0,0.0,0.0,0.0],[0.0,0.0,0.0,0.0,0.0,0.0,0.05526174604892731],[0.0,0.0,0.0,0.0,0.0,0.0,0.0],[0.0,0.0,0.0,0.0,0.0,0.0,0.0],[0.0,0.0,0.020967762917280197,0.0,0.0,0.0,0.0],[0.0,0.0,0.0,0.0,0.0,0.0,0.0],[0.0,0.0,0.0,0.0,0.0,0.0,0.0],[0.0,0.0,0.0,0.0,0.0,0.0,0.1196833997964859],[0.0,0.0,0.1292794793844223,0.0,0.0,0.0,0.0],[0.0,0.0,0.0,0.0,0.0,0.0,0.0],[0.0,0.0,0.0,0.1573859453201294,0.0,0.12543107569217682,0.0],[0.0,0.0,0.0,0.0,0.0,0.0,0.0]],\"type\":\"heatmap\"}],                        {\"template\":{\"data\":{\"histogram2dcontour\":[{\"type\":\"histogram2dcontour\",\"colorbar\":{\"outlinewidth\":0,\"ticks\":\"\"},\"colorscale\":[[0.0,\"#0d0887\"],[0.1111111111111111,\"#46039f\"],[0.2222222222222222,\"#7201a8\"],[0.3333333333333333,\"#9c179e\"],[0.4444444444444444,\"#bd3786\"],[0.5555555555555556,\"#d8576b\"],[0.6666666666666666,\"#ed7953\"],[0.7777777777777778,\"#fb9f3a\"],[0.8888888888888888,\"#fdca26\"],[1.0,\"#f0f921\"]]}],\"choropleth\":[{\"type\":\"choropleth\",\"colorbar\":{\"outlinewidth\":0,\"ticks\":\"\"}}],\"histogram2d\":[{\"type\":\"histogram2d\",\"colorbar\":{\"outlinewidth\":0,\"ticks\":\"\"},\"colorscale\":[[0.0,\"#0d0887\"],[0.1111111111111111,\"#46039f\"],[0.2222222222222222,\"#7201a8\"],[0.3333333333333333,\"#9c179e\"],[0.4444444444444444,\"#bd3786\"],[0.5555555555555556,\"#d8576b\"],[0.6666666666666666,\"#ed7953\"],[0.7777777777777778,\"#fb9f3a\"],[0.8888888888888888,\"#fdca26\"],[1.0,\"#f0f921\"]]}],\"heatmap\":[{\"type\":\"heatmap\",\"colorbar\":{\"outlinewidth\":0,\"ticks\":\"\"},\"colorscale\":[[0.0,\"#0d0887\"],[0.1111111111111111,\"#46039f\"],[0.2222222222222222,\"#7201a8\"],[0.3333333333333333,\"#9c179e\"],[0.4444444444444444,\"#bd3786\"],[0.5555555555555556,\"#d8576b\"],[0.6666666666666666,\"#ed7953\"],[0.7777777777777778,\"#fb9f3a\"],[0.8888888888888888,\"#fdca26\"],[1.0,\"#f0f921\"]]}],\"heatmapgl\":[{\"type\":\"heatmapgl\",\"colorbar\":{\"outlinewidth\":0,\"ticks\":\"\"},\"colorscale\":[[0.0,\"#0d0887\"],[0.1111111111111111,\"#46039f\"],[0.2222222222222222,\"#7201a8\"],[0.3333333333333333,\"#9c179e\"],[0.4444444444444444,\"#bd3786\"],[0.5555555555555556,\"#d8576b\"],[0.6666666666666666,\"#ed7953\"],[0.7777777777777778,\"#fb9f3a\"],[0.8888888888888888,\"#fdca26\"],[1.0,\"#f0f921\"]]}],\"contourcarpet\":[{\"type\":\"contourcarpet\",\"colorbar\":{\"outlinewidth\":0,\"ticks\":\"\"}}],\"contour\":[{\"type\":\"contour\",\"colorbar\":{\"outlinewidth\":0,\"ticks\":\"\"},\"colorscale\":[[0.0,\"#0d0887\"],[0.1111111111111111,\"#46039f\"],[0.2222222222222222,\"#7201a8\"],[0.3333333333333333,\"#9c179e\"],[0.4444444444444444,\"#bd3786\"],[0.5555555555555556,\"#d8576b\"],[0.6666666666666666,\"#ed7953\"],[0.7777777777777778,\"#fb9f3a\"],[0.8888888888888888,\"#fdca26\"],[1.0,\"#f0f921\"]]}],\"surface\":[{\"type\":\"surface\",\"colorbar\":{\"outlinewidth\":0,\"ticks\":\"\"},\"colorscale\":[[0.0,\"#0d0887\"],[0.1111111111111111,\"#46039f\"],[0.2222222222222222,\"#7201a8\"],[0.3333333333333333,\"#9c179e\"],[0.4444444444444444,\"#bd3786\"],[0.5555555555555556,\"#d8576b\"],[0.6666666666666666,\"#ed7953\"],[0.7777777777777778,\"#fb9f3a\"],[0.8888888888888888,\"#fdca26\"],[1.0,\"#f0f921\"]]}],\"mesh3d\":[{\"type\":\"mesh3d\",\"colorbar\":{\"outlinewidth\":0,\"ticks\":\"\"}}],\"scatter\":[{\"fillpattern\":{\"fillmode\":\"overlay\",\"size\":10,\"solidity\":0.2},\"type\":\"scatter\"}],\"parcoords\":[{\"type\":\"parcoords\",\"line\":{\"colorbar\":{\"outlinewidth\":0,\"ticks\":\"\"}}}],\"scatterpolargl\":[{\"type\":\"scatterpolargl\",\"marker\":{\"colorbar\":{\"outlinewidth\":0,\"ticks\":\"\"}}}],\"bar\":[{\"error_x\":{\"color\":\"#2a3f5f\"},\"error_y\":{\"color\":\"#2a3f5f\"},\"marker\":{\"line\":{\"color\":\"#E5ECF6\",\"width\":0.5},\"pattern\":{\"fillmode\":\"overlay\",\"size\":10,\"solidity\":0.2}},\"type\":\"bar\"}],\"scattergeo\":[{\"type\":\"scattergeo\",\"marker\":{\"colorbar\":{\"outlinewidth\":0,\"ticks\":\"\"}}}],\"scatterpolar\":[{\"type\":\"scatterpolar\",\"marker\":{\"colorbar\":{\"outlinewidth\":0,\"ticks\":\"\"}}}],\"histogram\":[{\"marker\":{\"pattern\":{\"fillmode\":\"overlay\",\"size\":10,\"solidity\":0.2}},\"type\":\"histogram\"}],\"scattergl\":[{\"type\":\"scattergl\",\"marker\":{\"colorbar\":{\"outlinewidth\":0,\"ticks\":\"\"}}}],\"scatter3d\":[{\"type\":\"scatter3d\",\"line\":{\"colorbar\":{\"outlinewidth\":0,\"ticks\":\"\"}},\"marker\":{\"colorbar\":{\"outlinewidth\":0,\"ticks\":\"\"}}}],\"scattermapbox\":[{\"type\":\"scattermapbox\",\"marker\":{\"colorbar\":{\"outlinewidth\":0,\"ticks\":\"\"}}}],\"scatterternary\":[{\"type\":\"scatterternary\",\"marker\":{\"colorbar\":{\"outlinewidth\":0,\"ticks\":\"\"}}}],\"scattercarpet\":[{\"type\":\"scattercarpet\",\"marker\":{\"colorbar\":{\"outlinewidth\":0,\"ticks\":\"\"}}}],\"carpet\":[{\"aaxis\":{\"endlinecolor\":\"#2a3f5f\",\"gridcolor\":\"white\",\"linecolor\":\"white\",\"minorgridcolor\":\"white\",\"startlinecolor\":\"#2a3f5f\"},\"baxis\":{\"endlinecolor\":\"#2a3f5f\",\"gridcolor\":\"white\",\"linecolor\":\"white\",\"minorgridcolor\":\"white\",\"startlinecolor\":\"#2a3f5f\"},\"type\":\"carpet\"}],\"table\":[{\"cells\":{\"fill\":{\"color\":\"#EBF0F8\"},\"line\":{\"color\":\"white\"}},\"header\":{\"fill\":{\"color\":\"#C8D4E3\"},\"line\":{\"color\":\"white\"}},\"type\":\"table\"}],\"barpolar\":[{\"marker\":{\"line\":{\"color\":\"#E5ECF6\",\"width\":0.5},\"pattern\":{\"fillmode\":\"overlay\",\"size\":10,\"solidity\":0.2}},\"type\":\"barpolar\"}],\"pie\":[{\"automargin\":true,\"type\":\"pie\"}]},\"layout\":{\"autotypenumbers\":\"strict\",\"colorway\":[\"#636efa\",\"#EF553B\",\"#00cc96\",\"#ab63fa\",\"#FFA15A\",\"#19d3f3\",\"#FF6692\",\"#B6E880\",\"#FF97FF\",\"#FECB52\"],\"font\":{\"color\":\"#2a3f5f\"},\"hovermode\":\"closest\",\"hoverlabel\":{\"align\":\"left\"},\"paper_bgcolor\":\"white\",\"plot_bgcolor\":\"#E5ECF6\",\"polar\":{\"bgcolor\":\"#E5ECF6\",\"angularaxis\":{\"gridcolor\":\"white\",\"linecolor\":\"white\",\"ticks\":\"\"},\"radialaxis\":{\"gridcolor\":\"white\",\"linecolor\":\"white\",\"ticks\":\"\"}},\"ternary\":{\"bgcolor\":\"#E5ECF6\",\"aaxis\":{\"gridcolor\":\"white\",\"linecolor\":\"white\",\"ticks\":\"\"},\"baxis\":{\"gridcolor\":\"white\",\"linecolor\":\"white\",\"ticks\":\"\"},\"caxis\":{\"gridcolor\":\"white\",\"linecolor\":\"white\",\"ticks\":\"\"}},\"coloraxis\":{\"colorbar\":{\"outlinewidth\":0,\"ticks\":\"\"}},\"colorscale\":{\"sequential\":[[0.0,\"#0d0887\"],[0.1111111111111111,\"#46039f\"],[0.2222222222222222,\"#7201a8\"],[0.3333333333333333,\"#9c179e\"],[0.4444444444444444,\"#bd3786\"],[0.5555555555555556,\"#d8576b\"],[0.6666666666666666,\"#ed7953\"],[0.7777777777777778,\"#fb9f3a\"],[0.8888888888888888,\"#fdca26\"],[1.0,\"#f0f921\"]],\"sequentialminus\":[[0.0,\"#0d0887\"],[0.1111111111111111,\"#46039f\"],[0.2222222222222222,\"#7201a8\"],[0.3333333333333333,\"#9c179e\"],[0.4444444444444444,\"#bd3786\"],[0.5555555555555556,\"#d8576b\"],[0.6666666666666666,\"#ed7953\"],[0.7777777777777778,\"#fb9f3a\"],[0.8888888888888888,\"#fdca26\"],[1.0,\"#f0f921\"]],\"diverging\":[[0,\"#8e0152\"],[0.1,\"#c51b7d\"],[0.2,\"#de77ae\"],[0.3,\"#f1b6da\"],[0.4,\"#fde0ef\"],[0.5,\"#f7f7f7\"],[0.6,\"#e6f5d0\"],[0.7,\"#b8e186\"],[0.8,\"#7fbc41\"],[0.9,\"#4d9221\"],[1,\"#276419\"]]},\"xaxis\":{\"gridcolor\":\"white\",\"linecolor\":\"white\",\"ticks\":\"\",\"title\":{\"standoff\":15},\"zerolinecolor\":\"white\",\"automargin\":true,\"zerolinewidth\":2},\"yaxis\":{\"gridcolor\":\"white\",\"linecolor\":\"white\",\"ticks\":\"\",\"title\":{\"standoff\":15},\"zerolinecolor\":\"white\",\"automargin\":true,\"zerolinewidth\":2},\"scene\":{\"xaxis\":{\"backgroundcolor\":\"#E5ECF6\",\"gridcolor\":\"white\",\"linecolor\":\"white\",\"showbackground\":true,\"ticks\":\"\",\"zerolinecolor\":\"white\",\"gridwidth\":2},\"yaxis\":{\"backgroundcolor\":\"#E5ECF6\",\"gridcolor\":\"white\",\"linecolor\":\"white\",\"showbackground\":true,\"ticks\":\"\",\"zerolinecolor\":\"white\",\"gridwidth\":2},\"zaxis\":{\"backgroundcolor\":\"#E5ECF6\",\"gridcolor\":\"white\",\"linecolor\":\"white\",\"showbackground\":true,\"ticks\":\"\",\"zerolinecolor\":\"white\",\"gridwidth\":2}},\"shapedefaults\":{\"line\":{\"color\":\"#2a3f5f\"}},\"annotationdefaults\":{\"arrowcolor\":\"#2a3f5f\",\"arrowhead\":0,\"arrowwidth\":1},\"geo\":{\"bgcolor\":\"white\",\"landcolor\":\"#E5ECF6\",\"subunitcolor\":\"white\",\"showland\":true,\"showlakes\":true,\"lakecolor\":\"white\"},\"title\":{\"x\":0.05},\"mapbox\":{\"style\":\"light\"}}},\"title\":{\"text\":\"DGI : 3.2594793\"},\"xaxis\":{\"title\":{\"text\":\"Sense Features\"}},\"yaxis\":{\"title\":{\"text\":\"Dimensions\"}}},                        {\"responsive\": true}                    ).then(function(){\n",
       "                            \n",
       "var gd = document.getElementById('e5c15fda-96c6-4eca-b55a-5c4995d22f65');\n",
       "var x = new MutationObserver(function (mutations, observer) {{\n",
       "        var display = window.getComputedStyle(gd).display;\n",
       "        if (!display || display === 'none') {{\n",
       "            console.log([gd, 'removed!']);\n",
       "            Plotly.purge(gd);\n",
       "            observer.disconnect();\n",
       "        }}\n",
       "}});\n",
       "\n",
       "// Listen for the removal of the full notebook cells\n",
       "var notebookContainer = gd.closest('#notebook-container');\n",
       "if (notebookContainer) {{\n",
       "    x.observe(notebookContainer, {childList: true});\n",
       "}}\n",
       "\n",
       "// Listen for the clearing of the current output cell\n",
       "var outputEl = gd.closest('.output');\n",
       "if (outputEl) {{\n",
       "    x.observe(outputEl, {childList: true});\n",
       "}}\n",
       "\n",
       "                        })                };                });            </script>        </div>"
      ]
     },
     "metadata": {},
     "output_type": "display_data"
    },
    {
     "data": {
      "application/vnd.plotly.v1+json": {
       "config": {
        "plotlyServerURL": "https://plot.ly"
       },
       "data": [
        {
         "type": "heatmap",
         "x": [
          "Degree",
          "Clustering Coefficient",
          "Personalized Page Rank - Standard Deviation",
          "Average Neighbor Degree",
          "Average Neighbor Clustering",
          "Eccentricity",
          "Katz Centrality"
         ],
         "z": [
          [
           0,
           0,
           0,
           0,
           1,
           0.7622695565223694,
           0
          ],
          [
           0,
           0,
           0,
           0,
           0,
           0.005432342179119587,
           0.014283358119428158
          ],
          [
           0,
           0,
           0,
           0,
           0,
           0,
           0
          ],
          [
           0,
           0.03989383578300476,
           0,
           0.021336592733860016,
           0,
           0.020214304327964783,
           0
          ],
          [
           0,
           0,
           0,
           0,
           0,
           0,
           0
          ],
          [
           0,
           0,
           0,
           0,
           0.0029786291997879744,
           0,
           0
          ],
          [
           0,
           0,
           0.024109330028295517,
           0,
           0,
           0,
           0
          ],
          [
           0,
           0,
           0,
           0,
           0,
           0,
           0
          ],
          [
           0,
           0,
           0,
           0,
           0,
           0,
           0
          ],
          [
           0,
           0.02424713410437107,
           0,
           0,
           0,
           0,
           0
          ],
          [
           0,
           0,
           0,
           0,
           0,
           0.004801526200026274,
           0
          ],
          [
           0,
           0,
           0,
           0,
           0,
           0,
           0
          ],
          [
           0,
           0,
           0,
           0,
           0,
           0,
           0
          ],
          [
           0,
           0,
           0,
           0,
           0,
           0.0008515166700817645,
           0.018637528643012047
          ],
          [
           0,
           0,
           0,
           0,
           0,
           0,
           0
          ],
          [
           0,
           0,
           0,
           0,
           0,
           0,
           0
          ],
          [
           0,
           0,
           0,
           0,
           0.004350128583610058,
           0.000908209360204637,
           0.014386152848601341
          ],
          [
           0,
           0,
           0,
           0.013124560005962849,
           0,
           0,
           0
          ],
          [
           0.011371251195669174,
           0,
           0.04828281328082085,
           0,
           0,
           0,
           0
          ],
          [
           0.027246249839663506,
           0.012365893460810184,
           0,
           0.011926610954105854,
           0.020027929916977882,
           0,
           0.0012871749931946397
          ],
          [
           0,
           0,
           0,
           0,
           0,
           0,
           0
          ],
          [
           0,
           0,
           0,
           0,
           0,
           0,
           0
          ],
          [
           0,
           0,
           0.0571654848754406,
           0,
           0,
           0,
           0
          ],
          [
           0,
           0,
           0,
           0,
           0,
           0,
           0
          ],
          [
           0,
           0,
           0,
           0,
           0,
           0,
           0
          ],
          [
           0,
           0,
           0.006578053813427687,
           0,
           0,
           0,
           0
          ],
          [
           0,
           0,
           0,
           0,
           0,
           0,
           0
          ],
          [
           0,
           0,
           0,
           0,
           0,
           0,
           0
          ],
          [
           0,
           0,
           0,
           0,
           0,
           0,
           0
          ],
          [
           0.018295634537935257,
           0,
           0,
           0,
           0,
           0,
           0
          ],
          [
           0,
           0,
           0,
           0,
           0.01548034232109785,
           0.05144425854086876,
           0.0004392788978293538
          ],
          [
           0,
           0,
           0,
           0,
           0,
           0,
           0
          ],
          [
           0,
           0,
           0,
           0,
           0,
           0,
           0
          ],
          [
           0.03108028694987297,
           0,
           0,
           0,
           0,
           0,
           0
          ],
          [
           0,
           0,
           0,
           0,
           0,
           0,
           0
          ],
          [
           0,
           0,
           0,
           0,
           0,
           0,
           0
          ],
          [
           0,
           0,
           0,
           0,
           0,
           0,
           0
          ],
          [
           0,
           0,
           0,
           0,
           0.0021397874224931,
           0,
           0.006442513782531023
          ],
          [
           0,
           0,
           0,
           0,
           0.016546348109841347,
           0,
           0
          ],
          [
           0,
           0.06374940276145935,
           0,
           0,
           0.01677260734140873,
           0,
           0
          ],
          [
           0,
           0,
           0,
           0,
           0,
           0,
           0
          ],
          [
           0,
           0,
           0,
           0,
           0,
           0,
           0
          ],
          [
           0,
           0.0048153395764529705,
           0,
           0.03821542114019394,
           0,
           0.015576607547700405,
           0.01003245823085308
          ],
          [
           0,
           0,
           0,
           0,
           0,
           0,
           0
          ],
          [
           0,
           0,
           0,
           0,
           0,
           0,
           0
          ],
          [
           0,
           0,
           0,
           0,
           0,
           0,
           0
          ],
          [
           0,
           0,
           0,
           0,
           0,
           0,
           0
          ],
          [
           0,
           0,
           0,
           0,
           0,
           0,
           0
          ],
          [
           0,
           0,
           0,
           0,
           0,
           0,
           0
          ],
          [
           0,
           0,
           0,
           0,
           0,
           0,
           0
          ],
          [
           0,
           0,
           0,
           0,
           0,
           0,
           0.001555693568661809
          ],
          [
           0,
           0,
           0,
           0,
           0,
           0,
           0
          ],
          [
           0,
           0,
           0,
           0,
           0,
           0,
           0
          ],
          [
           0,
           0,
           0,
           0,
           0,
           0,
           0
          ],
          [
           0,
           0,
           0,
           0,
           0,
           0,
           0
          ],
          [
           0,
           0,
           0,
           0,
           0,
           0,
           0
          ],
          [
           0,
           0,
           0,
           0,
           0,
           0,
           0
          ],
          [
           0,
           0,
           0,
           0,
           0,
           0,
           0
          ],
          [
           0.08236867189407349,
           0,
           0,
           0.034570641815662384,
           0,
           0,
           0.00285974214784801
          ],
          [
           0.017614930868148804,
           0,
           0.029544204473495483,
           0,
           0,
           0,
           0
          ],
          [
           0,
           0,
           0,
           0,
           0,
           0,
           0
          ],
          [
           0,
           0,
           0,
           0,
           0,
           0,
           0
          ],
          [
           0,
           0,
           0,
           0,
           0,
           0,
           0
          ],
          [
           0,
           0,
           0.04083807393908501,
           0,
           0,
           0,
           0
          ]
         ]
        }
       ],
       "layout": {
        "template": {
         "data": {
          "bar": [
           {
            "error_x": {
             "color": "#2a3f5f"
            },
            "error_y": {
             "color": "#2a3f5f"
            },
            "marker": {
             "line": {
              "color": "#E5ECF6",
              "width": 0.5
             },
             "pattern": {
              "fillmode": "overlay",
              "size": 10,
              "solidity": 0.2
             }
            },
            "type": "bar"
           }
          ],
          "barpolar": [
           {
            "marker": {
             "line": {
              "color": "#E5ECF6",
              "width": 0.5
             },
             "pattern": {
              "fillmode": "overlay",
              "size": 10,
              "solidity": 0.2
             }
            },
            "type": "barpolar"
           }
          ],
          "carpet": [
           {
            "aaxis": {
             "endlinecolor": "#2a3f5f",
             "gridcolor": "white",
             "linecolor": "white",
             "minorgridcolor": "white",
             "startlinecolor": "#2a3f5f"
            },
            "baxis": {
             "endlinecolor": "#2a3f5f",
             "gridcolor": "white",
             "linecolor": "white",
             "minorgridcolor": "white",
             "startlinecolor": "#2a3f5f"
            },
            "type": "carpet"
           }
          ],
          "choropleth": [
           {
            "colorbar": {
             "outlinewidth": 0,
             "ticks": ""
            },
            "type": "choropleth"
           }
          ],
          "contour": [
           {
            "colorbar": {
             "outlinewidth": 0,
             "ticks": ""
            },
            "colorscale": [
             [
              0,
              "#0d0887"
             ],
             [
              0.1111111111111111,
              "#46039f"
             ],
             [
              0.2222222222222222,
              "#7201a8"
             ],
             [
              0.3333333333333333,
              "#9c179e"
             ],
             [
              0.4444444444444444,
              "#bd3786"
             ],
             [
              0.5555555555555556,
              "#d8576b"
             ],
             [
              0.6666666666666666,
              "#ed7953"
             ],
             [
              0.7777777777777778,
              "#fb9f3a"
             ],
             [
              0.8888888888888888,
              "#fdca26"
             ],
             [
              1,
              "#f0f921"
             ]
            ],
            "type": "contour"
           }
          ],
          "contourcarpet": [
           {
            "colorbar": {
             "outlinewidth": 0,
             "ticks": ""
            },
            "type": "contourcarpet"
           }
          ],
          "heatmap": [
           {
            "colorbar": {
             "outlinewidth": 0,
             "ticks": ""
            },
            "colorscale": [
             [
              0,
              "#0d0887"
             ],
             [
              0.1111111111111111,
              "#46039f"
             ],
             [
              0.2222222222222222,
              "#7201a8"
             ],
             [
              0.3333333333333333,
              "#9c179e"
             ],
             [
              0.4444444444444444,
              "#bd3786"
             ],
             [
              0.5555555555555556,
              "#d8576b"
             ],
             [
              0.6666666666666666,
              "#ed7953"
             ],
             [
              0.7777777777777778,
              "#fb9f3a"
             ],
             [
              0.8888888888888888,
              "#fdca26"
             ],
             [
              1,
              "#f0f921"
             ]
            ],
            "type": "heatmap"
           }
          ],
          "heatmapgl": [
           {
            "colorbar": {
             "outlinewidth": 0,
             "ticks": ""
            },
            "colorscale": [
             [
              0,
              "#0d0887"
             ],
             [
              0.1111111111111111,
              "#46039f"
             ],
             [
              0.2222222222222222,
              "#7201a8"
             ],
             [
              0.3333333333333333,
              "#9c179e"
             ],
             [
              0.4444444444444444,
              "#bd3786"
             ],
             [
              0.5555555555555556,
              "#d8576b"
             ],
             [
              0.6666666666666666,
              "#ed7953"
             ],
             [
              0.7777777777777778,
              "#fb9f3a"
             ],
             [
              0.8888888888888888,
              "#fdca26"
             ],
             [
              1,
              "#f0f921"
             ]
            ],
            "type": "heatmapgl"
           }
          ],
          "histogram": [
           {
            "marker": {
             "pattern": {
              "fillmode": "overlay",
              "size": 10,
              "solidity": 0.2
             }
            },
            "type": "histogram"
           }
          ],
          "histogram2d": [
           {
            "colorbar": {
             "outlinewidth": 0,
             "ticks": ""
            },
            "colorscale": [
             [
              0,
              "#0d0887"
             ],
             [
              0.1111111111111111,
              "#46039f"
             ],
             [
              0.2222222222222222,
              "#7201a8"
             ],
             [
              0.3333333333333333,
              "#9c179e"
             ],
             [
              0.4444444444444444,
              "#bd3786"
             ],
             [
              0.5555555555555556,
              "#d8576b"
             ],
             [
              0.6666666666666666,
              "#ed7953"
             ],
             [
              0.7777777777777778,
              "#fb9f3a"
             ],
             [
              0.8888888888888888,
              "#fdca26"
             ],
             [
              1,
              "#f0f921"
             ]
            ],
            "type": "histogram2d"
           }
          ],
          "histogram2dcontour": [
           {
            "colorbar": {
             "outlinewidth": 0,
             "ticks": ""
            },
            "colorscale": [
             [
              0,
              "#0d0887"
             ],
             [
              0.1111111111111111,
              "#46039f"
             ],
             [
              0.2222222222222222,
              "#7201a8"
             ],
             [
              0.3333333333333333,
              "#9c179e"
             ],
             [
              0.4444444444444444,
              "#bd3786"
             ],
             [
              0.5555555555555556,
              "#d8576b"
             ],
             [
              0.6666666666666666,
              "#ed7953"
             ],
             [
              0.7777777777777778,
              "#fb9f3a"
             ],
             [
              0.8888888888888888,
              "#fdca26"
             ],
             [
              1,
              "#f0f921"
             ]
            ],
            "type": "histogram2dcontour"
           }
          ],
          "mesh3d": [
           {
            "colorbar": {
             "outlinewidth": 0,
             "ticks": ""
            },
            "type": "mesh3d"
           }
          ],
          "parcoords": [
           {
            "line": {
             "colorbar": {
              "outlinewidth": 0,
              "ticks": ""
             }
            },
            "type": "parcoords"
           }
          ],
          "pie": [
           {
            "automargin": true,
            "type": "pie"
           }
          ],
          "scatter": [
           {
            "fillpattern": {
             "fillmode": "overlay",
             "size": 10,
             "solidity": 0.2
            },
            "type": "scatter"
           }
          ],
          "scatter3d": [
           {
            "line": {
             "colorbar": {
              "outlinewidth": 0,
              "ticks": ""
             }
            },
            "marker": {
             "colorbar": {
              "outlinewidth": 0,
              "ticks": ""
             }
            },
            "type": "scatter3d"
           }
          ],
          "scattercarpet": [
           {
            "marker": {
             "colorbar": {
              "outlinewidth": 0,
              "ticks": ""
             }
            },
            "type": "scattercarpet"
           }
          ],
          "scattergeo": [
           {
            "marker": {
             "colorbar": {
              "outlinewidth": 0,
              "ticks": ""
             }
            },
            "type": "scattergeo"
           }
          ],
          "scattergl": [
           {
            "marker": {
             "colorbar": {
              "outlinewidth": 0,
              "ticks": ""
             }
            },
            "type": "scattergl"
           }
          ],
          "scattermapbox": [
           {
            "marker": {
             "colorbar": {
              "outlinewidth": 0,
              "ticks": ""
             }
            },
            "type": "scattermapbox"
           }
          ],
          "scatterpolar": [
           {
            "marker": {
             "colorbar": {
              "outlinewidth": 0,
              "ticks": ""
             }
            },
            "type": "scatterpolar"
           }
          ],
          "scatterpolargl": [
           {
            "marker": {
             "colorbar": {
              "outlinewidth": 0,
              "ticks": ""
             }
            },
            "type": "scatterpolargl"
           }
          ],
          "scatterternary": [
           {
            "marker": {
             "colorbar": {
              "outlinewidth": 0,
              "ticks": ""
             }
            },
            "type": "scatterternary"
           }
          ],
          "surface": [
           {
            "colorbar": {
             "outlinewidth": 0,
             "ticks": ""
            },
            "colorscale": [
             [
              0,
              "#0d0887"
             ],
             [
              0.1111111111111111,
              "#46039f"
             ],
             [
              0.2222222222222222,
              "#7201a8"
             ],
             [
              0.3333333333333333,
              "#9c179e"
             ],
             [
              0.4444444444444444,
              "#bd3786"
             ],
             [
              0.5555555555555556,
              "#d8576b"
             ],
             [
              0.6666666666666666,
              "#ed7953"
             ],
             [
              0.7777777777777778,
              "#fb9f3a"
             ],
             [
              0.8888888888888888,
              "#fdca26"
             ],
             [
              1,
              "#f0f921"
             ]
            ],
            "type": "surface"
           }
          ],
          "table": [
           {
            "cells": {
             "fill": {
              "color": "#EBF0F8"
             },
             "line": {
              "color": "white"
             }
            },
            "header": {
             "fill": {
              "color": "#C8D4E3"
             },
             "line": {
              "color": "white"
             }
            },
            "type": "table"
           }
          ]
         },
         "layout": {
          "annotationdefaults": {
           "arrowcolor": "#2a3f5f",
           "arrowhead": 0,
           "arrowwidth": 1
          },
          "autotypenumbers": "strict",
          "coloraxis": {
           "colorbar": {
            "outlinewidth": 0,
            "ticks": ""
           }
          },
          "colorscale": {
           "diverging": [
            [
             0,
             "#8e0152"
            ],
            [
             0.1,
             "#c51b7d"
            ],
            [
             0.2,
             "#de77ae"
            ],
            [
             0.3,
             "#f1b6da"
            ],
            [
             0.4,
             "#fde0ef"
            ],
            [
             0.5,
             "#f7f7f7"
            ],
            [
             0.6,
             "#e6f5d0"
            ],
            [
             0.7,
             "#b8e186"
            ],
            [
             0.8,
             "#7fbc41"
            ],
            [
             0.9,
             "#4d9221"
            ],
            [
             1,
             "#276419"
            ]
           ],
           "sequential": [
            [
             0,
             "#0d0887"
            ],
            [
             0.1111111111111111,
             "#46039f"
            ],
            [
             0.2222222222222222,
             "#7201a8"
            ],
            [
             0.3333333333333333,
             "#9c179e"
            ],
            [
             0.4444444444444444,
             "#bd3786"
            ],
            [
             0.5555555555555556,
             "#d8576b"
            ],
            [
             0.6666666666666666,
             "#ed7953"
            ],
            [
             0.7777777777777778,
             "#fb9f3a"
            ],
            [
             0.8888888888888888,
             "#fdca26"
            ],
            [
             1,
             "#f0f921"
            ]
           ],
           "sequentialminus": [
            [
             0,
             "#0d0887"
            ],
            [
             0.1111111111111111,
             "#46039f"
            ],
            [
             0.2222222222222222,
             "#7201a8"
            ],
            [
             0.3333333333333333,
             "#9c179e"
            ],
            [
             0.4444444444444444,
             "#bd3786"
            ],
            [
             0.5555555555555556,
             "#d8576b"
            ],
            [
             0.6666666666666666,
             "#ed7953"
            ],
            [
             0.7777777777777778,
             "#fb9f3a"
            ],
            [
             0.8888888888888888,
             "#fdca26"
            ],
            [
             1,
             "#f0f921"
            ]
           ]
          },
          "colorway": [
           "#636efa",
           "#EF553B",
           "#00cc96",
           "#ab63fa",
           "#FFA15A",
           "#19d3f3",
           "#FF6692",
           "#B6E880",
           "#FF97FF",
           "#FECB52"
          ],
          "font": {
           "color": "#2a3f5f"
          },
          "geo": {
           "bgcolor": "white",
           "lakecolor": "white",
           "landcolor": "#E5ECF6",
           "showlakes": true,
           "showland": true,
           "subunitcolor": "white"
          },
          "hoverlabel": {
           "align": "left"
          },
          "hovermode": "closest",
          "mapbox": {
           "style": "light"
          },
          "paper_bgcolor": "white",
          "plot_bgcolor": "#E5ECF6",
          "polar": {
           "angularaxis": {
            "gridcolor": "white",
            "linecolor": "white",
            "ticks": ""
           },
           "bgcolor": "#E5ECF6",
           "radialaxis": {
            "gridcolor": "white",
            "linecolor": "white",
            "ticks": ""
           }
          },
          "scene": {
           "xaxis": {
            "backgroundcolor": "#E5ECF6",
            "gridcolor": "white",
            "gridwidth": 2,
            "linecolor": "white",
            "showbackground": true,
            "ticks": "",
            "zerolinecolor": "white"
           },
           "yaxis": {
            "backgroundcolor": "#E5ECF6",
            "gridcolor": "white",
            "gridwidth": 2,
            "linecolor": "white",
            "showbackground": true,
            "ticks": "",
            "zerolinecolor": "white"
           },
           "zaxis": {
            "backgroundcolor": "#E5ECF6",
            "gridcolor": "white",
            "gridwidth": 2,
            "linecolor": "white",
            "showbackground": true,
            "ticks": "",
            "zerolinecolor": "white"
           }
          },
          "shapedefaults": {
           "line": {
            "color": "#2a3f5f"
           }
          },
          "ternary": {
           "aaxis": {
            "gridcolor": "white",
            "linecolor": "white",
            "ticks": ""
           },
           "baxis": {
            "gridcolor": "white",
            "linecolor": "white",
            "ticks": ""
           },
           "bgcolor": "#E5ECF6",
           "caxis": {
            "gridcolor": "white",
            "linecolor": "white",
            "ticks": ""
           }
          },
          "title": {
           "x": 0.05
          },
          "xaxis": {
           "automargin": true,
           "gridcolor": "white",
           "linecolor": "white",
           "ticks": "",
           "title": {
            "standoff": 15
           },
           "zerolinecolor": "white",
           "zerolinewidth": 2
          },
          "yaxis": {
           "automargin": true,
           "gridcolor": "white",
           "linecolor": "white",
           "ticks": "",
           "title": {
            "standoff": 15
           },
           "zerolinecolor": "white",
           "zerolinewidth": 2
          }
         }
        },
        "title": {
         "text": "DGI+ : 1.6487151"
        },
        "xaxis": {
         "title": {
          "text": "Sense Features"
         }
        },
        "yaxis": {
         "title": {
          "text": "Dimensions"
         }
        }
       }
      },
      "text/html": [
       "<div>                            <div id=\"0612863d-12c4-4555-aef9-8a0c09ef06d2\" class=\"plotly-graph-div\" style=\"height:525px; width:100%;\"></div>            <script type=\"text/javascript\">                require([\"plotly\"], function(Plotly) {                    window.PLOTLYENV=window.PLOTLYENV || {};                                    if (document.getElementById(\"0612863d-12c4-4555-aef9-8a0c09ef06d2\")) {                    Plotly.newPlot(                        \"0612863d-12c4-4555-aef9-8a0c09ef06d2\",                        [{\"x\":[\"Degree\",\"Clustering Coefficient\",\"Personalized Page Rank - Standard Deviation\",\"Average Neighbor Degree\",\"Average Neighbor Clustering\",\"Eccentricity\",\"Katz Centrality\"],\"z\":[[0.0,0.0,0.0,0.0,1.0,0.7622695565223694,0.0],[0.0,0.0,0.0,0.0,0.0,0.005432342179119587,0.014283358119428158],[0.0,0.0,0.0,0.0,0.0,0.0,0.0],[0.0,0.03989383578300476,0.0,0.021336592733860016,0.0,0.020214304327964783,0.0],[0.0,0.0,0.0,0.0,0.0,0.0,0.0],[0.0,0.0,0.0,0.0,0.0029786291997879744,0.0,0.0],[0.0,0.0,0.024109330028295517,0.0,0.0,0.0,0.0],[0.0,0.0,0.0,0.0,0.0,0.0,0.0],[0.0,0.0,0.0,0.0,0.0,0.0,0.0],[0.0,0.02424713410437107,0.0,0.0,0.0,0.0,0.0],[0.0,0.0,0.0,0.0,0.0,0.004801526200026274,0.0],[0.0,0.0,0.0,0.0,0.0,0.0,0.0],[0.0,0.0,0.0,0.0,0.0,0.0,0.0],[0.0,0.0,0.0,0.0,0.0,0.0008515166700817645,0.018637528643012047],[0.0,0.0,0.0,0.0,0.0,0.0,0.0],[0.0,0.0,0.0,0.0,0.0,0.0,0.0],[0.0,0.0,0.0,0.0,0.004350128583610058,0.000908209360204637,0.014386152848601341],[0.0,0.0,0.0,0.013124560005962849,0.0,0.0,0.0],[0.011371251195669174,0.0,0.04828281328082085,0.0,0.0,0.0,0.0],[0.027246249839663506,0.012365893460810184,0.0,0.011926610954105854,0.020027929916977882,0.0,0.0012871749931946397],[0.0,0.0,0.0,0.0,0.0,0.0,0.0],[0.0,0.0,0.0,0.0,0.0,0.0,0.0],[0.0,0.0,0.0571654848754406,0.0,0.0,0.0,0.0],[0.0,0.0,0.0,0.0,0.0,0.0,0.0],[0.0,0.0,0.0,0.0,0.0,0.0,0.0],[0.0,0.0,0.006578053813427687,0.0,0.0,0.0,0.0],[0.0,0.0,0.0,0.0,0.0,0.0,0.0],[0.0,0.0,0.0,0.0,0.0,0.0,0.0],[0.0,0.0,0.0,0.0,0.0,0.0,0.0],[0.018295634537935257,0.0,0.0,0.0,0.0,0.0,0.0],[0.0,0.0,0.0,0.0,0.01548034232109785,0.05144425854086876,0.0004392788978293538],[0.0,0.0,0.0,0.0,0.0,0.0,0.0],[0.0,0.0,0.0,0.0,0.0,0.0,0.0],[0.03108028694987297,0.0,0.0,0.0,0.0,0.0,0.0],[0.0,0.0,0.0,0.0,0.0,0.0,0.0],[0.0,0.0,0.0,0.0,0.0,0.0,0.0],[0.0,0.0,0.0,0.0,0.0,0.0,0.0],[0.0,0.0,0.0,0.0,0.0021397874224931,0.0,0.006442513782531023],[0.0,0.0,0.0,0.0,0.016546348109841347,0.0,0.0],[0.0,0.06374940276145935,0.0,0.0,0.01677260734140873,0.0,0.0],[0.0,0.0,0.0,0.0,0.0,0.0,0.0],[0.0,0.0,0.0,0.0,0.0,0.0,0.0],[0.0,0.0048153395764529705,0.0,0.03821542114019394,0.0,0.015576607547700405,0.01003245823085308],[0.0,0.0,0.0,0.0,0.0,0.0,0.0],[0.0,0.0,0.0,0.0,0.0,0.0,0.0],[0.0,0.0,0.0,0.0,0.0,0.0,0.0],[0.0,0.0,0.0,0.0,0.0,0.0,0.0],[0.0,0.0,0.0,0.0,0.0,0.0,0.0],[0.0,0.0,0.0,0.0,0.0,0.0,0.0],[0.0,0.0,0.0,0.0,0.0,0.0,0.0],[0.0,0.0,0.0,0.0,0.0,0.0,0.001555693568661809],[0.0,0.0,0.0,0.0,0.0,0.0,0.0],[0.0,0.0,0.0,0.0,0.0,0.0,0.0],[0.0,0.0,0.0,0.0,0.0,0.0,0.0],[0.0,0.0,0.0,0.0,0.0,0.0,0.0],[0.0,0.0,0.0,0.0,0.0,0.0,0.0],[0.0,0.0,0.0,0.0,0.0,0.0,0.0],[0.0,0.0,0.0,0.0,0.0,0.0,0.0],[0.08236867189407349,0.0,0.0,0.034570641815662384,0.0,0.0,0.00285974214784801],[0.017614930868148804,0.0,0.029544204473495483,0.0,0.0,0.0,0.0],[0.0,0.0,0.0,0.0,0.0,0.0,0.0],[0.0,0.0,0.0,0.0,0.0,0.0,0.0],[0.0,0.0,0.0,0.0,0.0,0.0,0.0],[0.0,0.0,0.04083807393908501,0.0,0.0,0.0,0.0]],\"type\":\"heatmap\"}],                        {\"template\":{\"data\":{\"histogram2dcontour\":[{\"type\":\"histogram2dcontour\",\"colorbar\":{\"outlinewidth\":0,\"ticks\":\"\"},\"colorscale\":[[0.0,\"#0d0887\"],[0.1111111111111111,\"#46039f\"],[0.2222222222222222,\"#7201a8\"],[0.3333333333333333,\"#9c179e\"],[0.4444444444444444,\"#bd3786\"],[0.5555555555555556,\"#d8576b\"],[0.6666666666666666,\"#ed7953\"],[0.7777777777777778,\"#fb9f3a\"],[0.8888888888888888,\"#fdca26\"],[1.0,\"#f0f921\"]]}],\"choropleth\":[{\"type\":\"choropleth\",\"colorbar\":{\"outlinewidth\":0,\"ticks\":\"\"}}],\"histogram2d\":[{\"type\":\"histogram2d\",\"colorbar\":{\"outlinewidth\":0,\"ticks\":\"\"},\"colorscale\":[[0.0,\"#0d0887\"],[0.1111111111111111,\"#46039f\"],[0.2222222222222222,\"#7201a8\"],[0.3333333333333333,\"#9c179e\"],[0.4444444444444444,\"#bd3786\"],[0.5555555555555556,\"#d8576b\"],[0.6666666666666666,\"#ed7953\"],[0.7777777777777778,\"#fb9f3a\"],[0.8888888888888888,\"#fdca26\"],[1.0,\"#f0f921\"]]}],\"heatmap\":[{\"type\":\"heatmap\",\"colorbar\":{\"outlinewidth\":0,\"ticks\":\"\"},\"colorscale\":[[0.0,\"#0d0887\"],[0.1111111111111111,\"#46039f\"],[0.2222222222222222,\"#7201a8\"],[0.3333333333333333,\"#9c179e\"],[0.4444444444444444,\"#bd3786\"],[0.5555555555555556,\"#d8576b\"],[0.6666666666666666,\"#ed7953\"],[0.7777777777777778,\"#fb9f3a\"],[0.8888888888888888,\"#fdca26\"],[1.0,\"#f0f921\"]]}],\"heatmapgl\":[{\"type\":\"heatmapgl\",\"colorbar\":{\"outlinewidth\":0,\"ticks\":\"\"},\"colorscale\":[[0.0,\"#0d0887\"],[0.1111111111111111,\"#46039f\"],[0.2222222222222222,\"#7201a8\"],[0.3333333333333333,\"#9c179e\"],[0.4444444444444444,\"#bd3786\"],[0.5555555555555556,\"#d8576b\"],[0.6666666666666666,\"#ed7953\"],[0.7777777777777778,\"#fb9f3a\"],[0.8888888888888888,\"#fdca26\"],[1.0,\"#f0f921\"]]}],\"contourcarpet\":[{\"type\":\"contourcarpet\",\"colorbar\":{\"outlinewidth\":0,\"ticks\":\"\"}}],\"contour\":[{\"type\":\"contour\",\"colorbar\":{\"outlinewidth\":0,\"ticks\":\"\"},\"colorscale\":[[0.0,\"#0d0887\"],[0.1111111111111111,\"#46039f\"],[0.2222222222222222,\"#7201a8\"],[0.3333333333333333,\"#9c179e\"],[0.4444444444444444,\"#bd3786\"],[0.5555555555555556,\"#d8576b\"],[0.6666666666666666,\"#ed7953\"],[0.7777777777777778,\"#fb9f3a\"],[0.8888888888888888,\"#fdca26\"],[1.0,\"#f0f921\"]]}],\"surface\":[{\"type\":\"surface\",\"colorbar\":{\"outlinewidth\":0,\"ticks\":\"\"},\"colorscale\":[[0.0,\"#0d0887\"],[0.1111111111111111,\"#46039f\"],[0.2222222222222222,\"#7201a8\"],[0.3333333333333333,\"#9c179e\"],[0.4444444444444444,\"#bd3786\"],[0.5555555555555556,\"#d8576b\"],[0.6666666666666666,\"#ed7953\"],[0.7777777777777778,\"#fb9f3a\"],[0.8888888888888888,\"#fdca26\"],[1.0,\"#f0f921\"]]}],\"mesh3d\":[{\"type\":\"mesh3d\",\"colorbar\":{\"outlinewidth\":0,\"ticks\":\"\"}}],\"scatter\":[{\"fillpattern\":{\"fillmode\":\"overlay\",\"size\":10,\"solidity\":0.2},\"type\":\"scatter\"}],\"parcoords\":[{\"type\":\"parcoords\",\"line\":{\"colorbar\":{\"outlinewidth\":0,\"ticks\":\"\"}}}],\"scatterpolargl\":[{\"type\":\"scatterpolargl\",\"marker\":{\"colorbar\":{\"outlinewidth\":0,\"ticks\":\"\"}}}],\"bar\":[{\"error_x\":{\"color\":\"#2a3f5f\"},\"error_y\":{\"color\":\"#2a3f5f\"},\"marker\":{\"line\":{\"color\":\"#E5ECF6\",\"width\":0.5},\"pattern\":{\"fillmode\":\"overlay\",\"size\":10,\"solidity\":0.2}},\"type\":\"bar\"}],\"scattergeo\":[{\"type\":\"scattergeo\",\"marker\":{\"colorbar\":{\"outlinewidth\":0,\"ticks\":\"\"}}}],\"scatterpolar\":[{\"type\":\"scatterpolar\",\"marker\":{\"colorbar\":{\"outlinewidth\":0,\"ticks\":\"\"}}}],\"histogram\":[{\"marker\":{\"pattern\":{\"fillmode\":\"overlay\",\"size\":10,\"solidity\":0.2}},\"type\":\"histogram\"}],\"scattergl\":[{\"type\":\"scattergl\",\"marker\":{\"colorbar\":{\"outlinewidth\":0,\"ticks\":\"\"}}}],\"scatter3d\":[{\"type\":\"scatter3d\",\"line\":{\"colorbar\":{\"outlinewidth\":0,\"ticks\":\"\"}},\"marker\":{\"colorbar\":{\"outlinewidth\":0,\"ticks\":\"\"}}}],\"scattermapbox\":[{\"type\":\"scattermapbox\",\"marker\":{\"colorbar\":{\"outlinewidth\":0,\"ticks\":\"\"}}}],\"scatterternary\":[{\"type\":\"scatterternary\",\"marker\":{\"colorbar\":{\"outlinewidth\":0,\"ticks\":\"\"}}}],\"scattercarpet\":[{\"type\":\"scattercarpet\",\"marker\":{\"colorbar\":{\"outlinewidth\":0,\"ticks\":\"\"}}}],\"carpet\":[{\"aaxis\":{\"endlinecolor\":\"#2a3f5f\",\"gridcolor\":\"white\",\"linecolor\":\"white\",\"minorgridcolor\":\"white\",\"startlinecolor\":\"#2a3f5f\"},\"baxis\":{\"endlinecolor\":\"#2a3f5f\",\"gridcolor\":\"white\",\"linecolor\":\"white\",\"minorgridcolor\":\"white\",\"startlinecolor\":\"#2a3f5f\"},\"type\":\"carpet\"}],\"table\":[{\"cells\":{\"fill\":{\"color\":\"#EBF0F8\"},\"line\":{\"color\":\"white\"}},\"header\":{\"fill\":{\"color\":\"#C8D4E3\"},\"line\":{\"color\":\"white\"}},\"type\":\"table\"}],\"barpolar\":[{\"marker\":{\"line\":{\"color\":\"#E5ECF6\",\"width\":0.5},\"pattern\":{\"fillmode\":\"overlay\",\"size\":10,\"solidity\":0.2}},\"type\":\"barpolar\"}],\"pie\":[{\"automargin\":true,\"type\":\"pie\"}]},\"layout\":{\"autotypenumbers\":\"strict\",\"colorway\":[\"#636efa\",\"#EF553B\",\"#00cc96\",\"#ab63fa\",\"#FFA15A\",\"#19d3f3\",\"#FF6692\",\"#B6E880\",\"#FF97FF\",\"#FECB52\"],\"font\":{\"color\":\"#2a3f5f\"},\"hovermode\":\"closest\",\"hoverlabel\":{\"align\":\"left\"},\"paper_bgcolor\":\"white\",\"plot_bgcolor\":\"#E5ECF6\",\"polar\":{\"bgcolor\":\"#E5ECF6\",\"angularaxis\":{\"gridcolor\":\"white\",\"linecolor\":\"white\",\"ticks\":\"\"},\"radialaxis\":{\"gridcolor\":\"white\",\"linecolor\":\"white\",\"ticks\":\"\"}},\"ternary\":{\"bgcolor\":\"#E5ECF6\",\"aaxis\":{\"gridcolor\":\"white\",\"linecolor\":\"white\",\"ticks\":\"\"},\"baxis\":{\"gridcolor\":\"white\",\"linecolor\":\"white\",\"ticks\":\"\"},\"caxis\":{\"gridcolor\":\"white\",\"linecolor\":\"white\",\"ticks\":\"\"}},\"coloraxis\":{\"colorbar\":{\"outlinewidth\":0,\"ticks\":\"\"}},\"colorscale\":{\"sequential\":[[0.0,\"#0d0887\"],[0.1111111111111111,\"#46039f\"],[0.2222222222222222,\"#7201a8\"],[0.3333333333333333,\"#9c179e\"],[0.4444444444444444,\"#bd3786\"],[0.5555555555555556,\"#d8576b\"],[0.6666666666666666,\"#ed7953\"],[0.7777777777777778,\"#fb9f3a\"],[0.8888888888888888,\"#fdca26\"],[1.0,\"#f0f921\"]],\"sequentialminus\":[[0.0,\"#0d0887\"],[0.1111111111111111,\"#46039f\"],[0.2222222222222222,\"#7201a8\"],[0.3333333333333333,\"#9c179e\"],[0.4444444444444444,\"#bd3786\"],[0.5555555555555556,\"#d8576b\"],[0.6666666666666666,\"#ed7953\"],[0.7777777777777778,\"#fb9f3a\"],[0.8888888888888888,\"#fdca26\"],[1.0,\"#f0f921\"]],\"diverging\":[[0,\"#8e0152\"],[0.1,\"#c51b7d\"],[0.2,\"#de77ae\"],[0.3,\"#f1b6da\"],[0.4,\"#fde0ef\"],[0.5,\"#f7f7f7\"],[0.6,\"#e6f5d0\"],[0.7,\"#b8e186\"],[0.8,\"#7fbc41\"],[0.9,\"#4d9221\"],[1,\"#276419\"]]},\"xaxis\":{\"gridcolor\":\"white\",\"linecolor\":\"white\",\"ticks\":\"\",\"title\":{\"standoff\":15},\"zerolinecolor\":\"white\",\"automargin\":true,\"zerolinewidth\":2},\"yaxis\":{\"gridcolor\":\"white\",\"linecolor\":\"white\",\"ticks\":\"\",\"title\":{\"standoff\":15},\"zerolinecolor\":\"white\",\"automargin\":true,\"zerolinewidth\":2},\"scene\":{\"xaxis\":{\"backgroundcolor\":\"#E5ECF6\",\"gridcolor\":\"white\",\"linecolor\":\"white\",\"showbackground\":true,\"ticks\":\"\",\"zerolinecolor\":\"white\",\"gridwidth\":2},\"yaxis\":{\"backgroundcolor\":\"#E5ECF6\",\"gridcolor\":\"white\",\"linecolor\":\"white\",\"showbackground\":true,\"ticks\":\"\",\"zerolinecolor\":\"white\",\"gridwidth\":2},\"zaxis\":{\"backgroundcolor\":\"#E5ECF6\",\"gridcolor\":\"white\",\"linecolor\":\"white\",\"showbackground\":true,\"ticks\":\"\",\"zerolinecolor\":\"white\",\"gridwidth\":2}},\"shapedefaults\":{\"line\":{\"color\":\"#2a3f5f\"}},\"annotationdefaults\":{\"arrowcolor\":\"#2a3f5f\",\"arrowhead\":0,\"arrowwidth\":1},\"geo\":{\"bgcolor\":\"white\",\"landcolor\":\"#E5ECF6\",\"subunitcolor\":\"white\",\"showland\":true,\"showlakes\":true,\"lakecolor\":\"white\"},\"title\":{\"x\":0.05},\"mapbox\":{\"style\":\"light\"}}},\"title\":{\"text\":\"DGI+ : 1.6487151\"},\"xaxis\":{\"title\":{\"text\":\"Sense Features\"}},\"yaxis\":{\"title\":{\"text\":\"Dimensions\"}}},                        {\"responsive\": true}                    ).then(function(){\n",
       "                            \n",
       "var gd = document.getElementById('0612863d-12c4-4555-aef9-8a0c09ef06d2');\n",
       "var x = new MutationObserver(function (mutations, observer) {{\n",
       "        var display = window.getComputedStyle(gd).display;\n",
       "        if (!display || display === 'none') {{\n",
       "            console.log([gd, 'removed!']);\n",
       "            Plotly.purge(gd);\n",
       "            observer.disconnect();\n",
       "        }}\n",
       "}});\n",
       "\n",
       "// Listen for the removal of the full notebook cells\n",
       "var notebookContainer = gd.closest('#notebook-container');\n",
       "if (notebookContainer) {{\n",
       "    x.observe(notebookContainer, {childList: true});\n",
       "}}\n",
       "\n",
       "// Listen for the clearing of the current output cell\n",
       "var outputEl = gd.closest('.output');\n",
       "if (outputEl) {{\n",
       "    x.observe(outputEl, {childList: true});\n",
       "}}\n",
       "\n",
       "                        })                };                });            </script>        </div>"
      ]
     },
     "metadata": {},
     "output_type": "display_data"
    }
   ],
   "source": [
    "fig = go.Figure()\n",
    "fig.add_trace(go.Heatmap(z = explain_og,\n",
    "                         x = list(sense_feat_dict), \n",
    "                         ))\n",
    "fig.update_layout(title_text = 'DGI : ' + str(np.linalg.norm(explain_og, ord = 'nuc')), \n",
    "                  xaxis_title_text = 'Sense Features', \n",
    "                  yaxis_title_text = 'Dimensions')\n",
    "\n",
    "fig.show()\n",
    "\n",
    "fig = go.Figure()\n",
    "fig.add_trace(go.Heatmap(z = explain_plus,\n",
    "                         x = list(sense_feat_dict), \n",
    "                         ))\n",
    "fig.update_layout(title_text = 'DGI+ : ' + str(np.linalg.norm(explain_plus, ord = 'nuc')), \n",
    "                  xaxis_title_text = 'Sense Features', \n",
    "                  yaxis_title_text = 'Dimensions')\n",
    "\n",
    "fig.show()"
   ]
  },
  {
   "cell_type": "code",
   "execution_count": 78,
   "id": "abca7a2d",
   "metadata": {},
   "outputs": [],
   "source": [
    "Y_plus = embed_plus\n",
    "sense_mat = tf.einsum('ij, ik -> ijk', Y_plus, sense_features)\n",
    "Y_plus_norm = tf.linalg.diag_part(tf.matmul(Y_plus, Y_plus, transpose_b = True), k = 0)\n",
    "sense_norm = tf.linalg.diag_part(tf.matmul(sense_features, sense_features, transpose_b = True), k = 0)\n",
    "norm = Y_plus_norm * tf.cast(sense_norm, tf.float32)\n",
    "D_plus = tf.transpose(tf.transpose(sense_mat) / norm)\n",
    "D_plus = (D_plus - tf.reshape(tf.reduce_min(D_plus, axis = [-1, -2]), (-1, 1, 1))) / tf.reshape(tf.reduce_max(D_plus, axis = [-1, -2]) - tf.reduce_min(D_plus, axis = [-1, -2]), (-1, 1, 1))\n",
    "\n",
    "\n",
    "Y_og = embed_og\n",
    "sense_mat = tf.einsum('ij, ik -> ijk', Y_og, sense_features)\n",
    "Y_og_norm = tf.linalg.diag_part(tf.matmul(Y_og, Y_og, transpose_b = True), k = 0)\n",
    "sense_norm = tf.linalg.diag_part(tf.matmul(sense_features, sense_features, transpose_b = True), k = 0)\n",
    "norm = Y_og_norm * tf.cast(sense_norm, tf.float32)\n",
    "D_og = tf.transpose(tf.transpose(sense_mat) / norm)\n",
    "D_og = (D_og - tf.reshape(tf.reduce_min(D_og, axis = [-1, -2]), (-1, 1, 1))) / tf.reshape(tf.reduce_max(D_og, axis = [-1, -2]) - tf.reduce_min(D_og, axis = [-1, -2]), (-1, 1, 1))\n"
   ]
  },
  {
   "cell_type": "code",
   "execution_count": null,
   "id": "4f848954",
   "metadata": {},
   "outputs": [],
   "source": [
    "\n"
   ]
  },
  {
   "cell_type": "code",
   "execution_count": 76,
   "id": "e3846d67",
   "metadata": {},
   "outputs": [
    {
     "name": "stderr",
     "output_type": "stream",
     "text": [
      "100%|███████████████████████████████████████| 1186/1186 [00:37<00:00, 31.89it/s]\n",
      "100%|██████████████████████████████████████| 1186/1186 [00:02<00:00, 485.33it/s]\n"
     ]
    }
   ],
   "source": [
    "norm_og = [np.linalg.norm(D_og[node, :, :], ord = 'nuc') for node in tqdm(range(len(graph)))]\n",
    "norm_plus = [np.linalg.norm(D_plus[node, :, :], ord = 'nuc') for node in tqdm(range(len(graph)))]\n",
    "\n"
   ]
  },
  {
   "cell_type": "code",
   "execution_count": 77,
   "id": "8355ca29",
   "metadata": {},
   "outputs": [
    {
     "data": {
      "application/vnd.plotly.v1+json": {
       "config": {
        "plotlyServerURL": "https://plot.ly"
       },
       "data": [
        {
         "type": "histogram",
         "x": [
          1.3893797397613525,
          2.0148768424987793,
          1.6939334869384766,
          2.301445484161377,
          1.8488094806671143,
          1.5479319095611572,
          1.4981164932250977,
          1.1813056468963623,
          1.8497505187988281,
          1.5100107192993164,
          1.978971004486084,
          1.8489437103271484,
          1.845762014389038,
          2.350480556488037,
          2.371532440185547,
          2.064026355743408,
          1.1275739669799805,
          1.3810837268829346,
          1.8627314567565918,
          2.3026723861694336,
          1.5020647048950195,
          2.0931007862091064,
          1.784494161605835,
          1.3127644062042236,
          1.4918427467346191,
          1.5933127403259277,
          1.3988752365112305,
          1.9997336864471436,
          1.4762959480285645,
          0.7321507930755615,
          0.8310985565185547,
          2.1300058364868164,
          1.688673496246338,
          1.2563345432281494,
          1.3538918495178223,
          1.3381750583648682,
          1.9559097290039062,
          2.202043056488037,
          2.2429428100585938,
          1.8349952697753906,
          2.0052719116210938,
          1.8255672454833984,
          1.7558460235595703,
          1.9012222290039062,
          1.5520482063293457,
          2.0321855545043945,
          1.519167184829712,
          1.5778594017028809,
          2.1074740886688232,
          1.72019362449646,
          1.7762563228607178,
          2.2005324363708496,
          2.0851941108703613,
          1.4766669273376465,
          1.458043098449707,
          2.3805346488952637,
          1.706662654876709,
          2.289433002471924,
          1.7617764472961426,
          1.9970924854278564,
          2.1567959785461426,
          1.5217666625976562,
          1.454075574874878,
          1.7457752227783203,
          2.2148079872131348,
          1.789175271987915,
          2.191559314727783,
          2.0469918251037598,
          1.7845182418823242,
          1.3720622062683105,
          2.141171455383301,
          1.4060368537902832,
          1.628176212310791,
          2.3726062774658203,
          2.2683215141296387,
          2.0886950492858887,
          1.4324946403503418,
          1.3057959079742432,
          1.737248182296753,
          1.7951912879943848,
          1.5978498458862305,
          1.4379432201385498,
          1.6531119346618652,
          1.637460470199585,
          1.4460322856903076,
          1.6117815971374512,
          2.0233678817749023,
          1.6709585189819336,
          2.3058714866638184,
          1.4027698040008545,
          2.12428617477417,
          1.4192790985107422,
          1.6767261028289795,
          1.450674295425415,
          1.7429211139678955,
          1.9654748439788818,
          2.1171321868896484,
          1.1756596565246582,
          1.2560021877288818,
          1.6849184036254883,
          0.9319984912872314,
          1.4165399074554443,
          1.1538476943969727,
          0.7021989822387695,
          0.47962522506713867,
          1.3153057098388672,
          1.5435447692871094,
          1.9103574752807617,
          2.189476490020752,
          1.6414294242858887,
          2.3448286056518555,
          1.7102093696594238,
          1.6059813499450684,
          1.2124207019805908,
          2.339205265045166,
          1.4458873271942139,
          1.188962697982788,
          1.807729959487915,
          1.963505744934082,
          2.0005743503570557,
          2.008049488067627,
          1.6080756187438965,
          2.0004706382751465,
          2.1795687675476074,
          1.7182810306549072,
          1.2827644348144531,
          1.3061234951019287,
          1.6593196392059326,
          1.9842147827148438,
          1.8842802047729492,
          2.198234796524048,
          1.6239128112792969,
          1.0828497409820557,
          1.689931869506836,
          2.256605863571167,
          2.201833724975586,
          1.8178668022155762,
          1.8887677192687988,
          1.7148139476776123,
          1.4687330722808838,
          1.8731646537780762,
          1.7430686950683594,
          2.2098822593688965,
          2.1305019855499268,
          2.1625075340270996,
          1.7833566665649414,
          1.7750349044799805,
          1.785421371459961,
          2.0801846981048584,
          1.7608342170715332,
          1.9017820358276367,
          2.185546398162842,
          1.4912710189819336,
          1.7536547183990479,
          1.8997001647949219,
          1.927781581878662,
          2.268043041229248,
          1.1811683177947998,
          1.4283835887908936,
          1.6887032985687256,
          1.336991310119629,
          1.7030718326568604,
          2.0541749000549316,
          1.0697274208068848,
          1.2862250804901123,
          2.19819974899292,
          2.098879337310791,
          2.0766069889068604,
          1.2536394596099854,
          0.9923906326293945,
          1.5554208755493164,
          1.9594902992248535,
          2.212721109390259,
          1.6570208072662354,
          2.3301944732666016,
          2.106686592102051,
          1.4242980480194092,
          2.2934751510620117,
          1.5763287544250488,
          1.4630413055419922,
          1.2307441234588623,
          2.2020654678344727,
          1.8860077857971191,
          2.2469658851623535,
          1.3076817989349365,
          1.6739108562469482,
          1.7573246955871582,
          1.6582486629486084,
          1.5253653526306152,
          1.1337933540344238,
          0.8927860260009766,
          1.8517391681671143,
          1.1936581134796143,
          1.2825584411621094,
          1.6048378944396973,
          0.4220757484436035,
          1.6486313343048096,
          2.034278154373169,
          1.713667392730713,
          2.214757204055786,
          1.2448058128356934,
          1.759127140045166,
          2.095827341079712,
          1.2338504791259766,
          1.7871875762939453,
          1.7592544555664062,
          1.2425563335418701,
          1.5546157360076904,
          1.5436480045318604,
          1.2991266250610352,
          1.3911464214324951,
          0.7944085597991943,
          1.0314273834228516,
          1.4704961776733398,
          1.9532434940338135,
          1.2382516860961914,
          1.4063589572906494,
          1.3447825908660889,
          1.3803820610046387,
          2.013653039932251,
          1.9344115257263184,
          2.066628932952881,
          1.774083137512207,
          2.1675865650177,
          1.703155279159546,
          1.9066967964172363,
          1.8827486038208008,
          1.9202990531921387,
          2.31307315826416,
          1.6216182708740234,
          1.8900930881500244,
          1.6506896018981934,
          2.1897172927856445,
          1.4372813701629639,
          2.0214662551879883,
          2.438035488128662,
          1.6870427131652832,
          1.326596736907959,
          1.52571439743042,
          1.7026152610778809,
          1.2542259693145752,
          1.1638333797454834,
          1.5886523723602295,
          1.9598958492279053,
          0.6828112602233887,
          1.128730058670044,
          1.8481440544128418,
          1.3214218616485596,
          2.090273141860962,
          1.199228048324585,
          2.325775146484375,
          1.9131412506103516,
          0.6497442722320557,
          0.7087047100067139,
          1.1248228549957275,
          1.7648262977600098,
          2.0345630645751953,
          1.3992209434509277,
          1.915593147277832,
          1.7082371711730957,
          1.6719403266906738,
          1.4511682987213135,
          1.433150291442871,
          1.511411428451538,
          1.4958360195159912,
          0.9527971744537354,
          1.4922637939453125,
          1.9836711883544922,
          2.0385308265686035,
          1.9104323387145996,
          1.7708511352539062,
          1.739694595336914,
          1.9741148948669434,
          2.093757152557373,
          1.1795754432678223,
          1.1538417339324951,
          0.9450955390930176,
          1.306260347366333,
          1.828932285308838,
          1.8488798141479492,
          1.3605918884277344,
          1.6160330772399902,
          2.1048474311828613,
          1.227971076965332,
          0.045629024505615234,
          1.574573040008545,
          1.373270034790039,
          1.5250616073608398,
          2.121927499771118,
          1.571765422821045,
          1.80985689163208,
          1.4063382148742676,
          1.416628122329712,
          1.5653595924377441,
          1.5209550857543945,
          2.2452328205108643,
          1.2147424221038818,
          2.2729384899139404,
          1.8836333751678467,
          1.7272791862487793,
          1.35038161277771,
          1.6112313270568848,
          1.7566347122192383,
          1.564467191696167,
          0.969712495803833,
          1.342858076095581,
          1.4445607662200928,
          1.4423866271972656,
          1.1170446872711182,
          1.4858934879302979,
          1.0694494247436523,
          1.570629358291626,
          1.4810707569122314,
          1.8926279544830322,
          1.4064767360687256,
          2.0634946823120117,
          1.2904610633850098,
          1.179203748703003,
          1.609668254852295,
          2.1817049980163574,
          0.3650040626525879,
          1.419372797012329,
          1.6487648487091064,
          2.0782876014709473,
          1.7063775062561035,
          1.766535758972168,
          1.4869656562805176,
          1.198518991470337,
          1.6461210250854492,
          1.6259651184082031,
          1.5950794219970703,
          1.5146403312683105,
          1.5976171493530273,
          1.0844237804412842,
          1.3156957626342773,
          0.9364702701568604,
          1.2663748264312744,
          1.9350190162658691,
          1.8145465850830078,
          1.777557373046875,
          1.6168334484100342,
          0.6629667282104492,
          1.3039627075195312,
          1.5680007934570312,
          0.951622486114502,
          1.2797725200653076,
          0.8962411880493164,
          2.0747480392456055,
          0.8580479621887207,
          1.5603530406951904,
          1.8360261917114258,
          1.1426494121551514,
          1.9639668464660645,
          1.9074969291687012,
          1.2426962852478027,
          0.6804795265197754,
          1.7278940677642822,
          1.577714443206787,
          1.3743658065795898,
          1.7215909957885742,
          1.0815527439117432,
          1.1398961544036865,
          1.7079827785491943,
          1.3426787853240967,
          1.122727394104004,
          1.043400526046753,
          0.8829348087310791,
          1.3427915573120117,
          0.45163655281066895,
          1.161874771118164,
          1.2693114280700684,
          1.4456100463867188,
          1.0611927509307861,
          1.0915658473968506,
          1.255622386932373,
          1.2457199096679688,
          2.061781644821167,
          1.1721415519714355,
          1.3183698654174805,
          1.673771858215332,
          1.0275628566741943,
          1.539252758026123,
          1.184258222579956,
          1.4570221900939941,
          1.334397554397583,
          1.1760296821594238,
          1.3206391334533691,
          1.4017329216003418,
          2.127683639526367,
          1.4090702533721924,
          1.676896095275879,
          1.6181867122650146,
          1.7409229278564453,
          1.4451754093170166,
          1.365699052810669,
          1.4651594161987305,
          1.3670878410339355,
          1.5406718254089355,
          1.6260645389556885,
          1.397923469543457,
          1.552873134613037,
          0.6564235687255859,
          1.7546453475952148,
          1.268451452255249,
          1.3366498947143555,
          1.1047825813293457,
          1.7521109580993652,
          1.824927806854248,
          1.5962939262390137,
          1.6670417785644531,
          0.8837308883666992,
          1.3271379470825195,
          1.7200136184692383,
          1.3561620712280273,
          1.6444299221038818,
          1.7260725498199463,
          2.227057456970215,
          1.1696619987487793,
          1.140371322631836,
          1.3255369663238525,
          1.6477370262145996,
          1.6715240478515625,
          1.5778439044952393,
          1.1141259670257568,
          1.4509973526000977,
          1.3546421527862549,
          0.8511676788330078,
          1.1944000720977783,
          1.2955079078674316,
          1.6769819259643555,
          1.2139689922332764,
          1.6284995079040527,
          1.651155948638916,
          1.4222495555877686,
          1.2718513011932373,
          0.10347414016723633,
          1.7851037979125977,
          1.6239304542541504,
          1.4204084873199463,
          1.039616584777832,
          1.5457019805908203,
          0.9963860511779785,
          1.235567569732666,
          1.9882338047027588,
          1.8765754699707031,
          1.5267932415008545,
          1.2681355476379395,
          1.4687354564666748,
          1.8704907894134521,
          1.5803930759429932,
          1.0461766719818115,
          1.3358325958251953,
          1.4245989322662354,
          2.26393461227417,
          1.509932518005371,
          2.1231250762939453,
          1.4492945671081543,
          1.0685455799102783,
          1.828275203704834,
          1.31443190574646,
          1.313908338546753,
          1.4170746803283691,
          0.5215930938720703,
          1.2134993076324463,
          1.263993740081787,
          1.8224833011627197,
          1.420382022857666,
          1.2976222038269043,
          1.2240667343139648,
          0.9558296203613281,
          1.156449317932129,
          1.224283218383789,
          1.2222065925598145,
          0.6448221206665039,
          1.146601676940918,
          1.0480623245239258,
          1.2189977169036865,
          1.7891716957092285,
          1.760573387145996,
          1.8672642707824707,
          1.5292038917541504,
          1.726440668106079,
          1.789414405822754,
          1.1718053817749023,
          1.3064296245574951,
          1.5209755897521973,
          2.129908561706543,
          1.440147876739502,
          1.5504589080810547,
          1.0229380130767822,
          1.0158836841583252,
          0.6367025375366211,
          1.3498399257659912,
          1.6647260189056396,
          1.506488561630249,
          1.7151718139648438,
          1.342444896697998,
          1.675257682800293,
          1.7271332740783691,
          2.0446910858154297,
          1.9835214614868164,
          1.0963246822357178,
          1.5517427921295166,
          1.4563829898834229,
          1.463871955871582,
          1.4786486625671387,
          1.2787113189697266,
          0.6196572780609131,
          1.261612892150879,
          1.316906452178955,
          1.513922929763794,
          0.8744115829467773,
          1.417098045349121,
          1.6382298469543457,
          1.878347396850586,
          0.976069450378418,
          0.9455356597900391,
          1.1877427101135254,
          1.4173822402954102,
          1.1816012859344482,
          0.8501975536346436,
          1.7415080070495605,
          1.747835636138916,
          1.4806175231933594,
          1.724886417388916,
          0.5445013046264648,
          1.5691204071044922,
          1.208876371383667,
          0.8580479621887207,
          0.9858777523040771,
          1.7467210292816162,
          1.3436431884765625,
          0.7508230209350586,
          1.7677593231201172,
          1.6968045234680176,
          1.0773131847381592,
          1.281360387802124,
          1.5292494297027588,
          1.2100133895874023,
          0.987403154373169,
          1.4194343090057373,
          1.49613618850708,
          1.4066078662872314,
          0.9044053554534912,
          1.2222213745117188,
          1.4158406257629395,
          0.3650040626525879,
          0.4363229274749756,
          1.3418359756469727,
          1.2219324111938477,
          0.3748021125793457,
          1.1953072547912598,
          1.7378664016723633,
          1.4801924228668213,
          1.4718594551086426,
          1.4687507152557373,
          1.8875668048858643,
          0.9996464252471924,
          1.2286875247955322,
          0.8259053230285645,
          1.4884638786315918,
          1.5027103424072266,
          1.312713623046875,
          1.6727993488311768,
          1.7352075576782227,
          1.0371003150939941,
          1.4889719486236572,
          1.724165916442871,
          1.7253568172454834,
          0.9258003234863281,
          0.8521180152893066,
          1.7372756004333496,
          1.628626823425293,
          1.8225493431091309,
          1.7025692462921143,
          0.7848901748657227,
          1.5476417541503906,
          1.210984468460083,
          1.8248050212860107,
          1.2743077278137207,
          -0.05582475662231445,
          1.7361550331115723,
          1.237929344177246,
          1.8957319259643555,
          1.8397140502929688,
          1.7314305305480957,
          1.3503339290618896,
          1.7288098335266113,
          1.5031800270080566,
          1.270045518875122,
          1.139847755432129,
          0.6497442722320557,
          0.745335578918457,
          1.295851707458496,
          1.2352259159088135,
          1.8240246772766113,
          0.9789290428161621,
          0.3650040626525879,
          0.9950881004333496,
          1.2659544944763184,
          1.549124002456665,
          1.258697748184204,
          1.3499794006347656,
          1.1332881450653076,
          1.289931058883667,
          0.6265597343444824,
          1.4945406913757324,
          1.5086631774902344,
          0.8598778247833252,
          1.3270657062530518,
          1.7500567436218262,
          1.7394773960113525,
          1.1384496688842773,
          0.6232540607452393,
          0.6727895736694336,
          1.5677127838134766,
          1.5837724208831787,
          1.2273130416870117,
          1.170377254486084,
          1.347898006439209,
          0.633716344833374,
          1.3802027702331543,
          1.7184467315673828,
          1.722877025604248,
          1.5940008163452148,
          1.5850369930267334,
          1.7807183265686035,
          1.269214391708374,
          1.009568691253662,
          1.5265634059906006,
          1.191502571105957,
          0.6749627590179443,
          0.7246646881103516,
          1.142258644104004,
          1.181713342666626,
          1.5177600383758545,
          1.1297578811645508,
          1.4220168590545654,
          1.2217564582824707,
          1.3009521961212158,
          1.053406000137329,
          1.4096527099609375,
          1.4777143001556396,
          1.2188844680786133,
          1.744185447692871,
          1.4896106719970703,
          1.2666840553283691,
          0.7803604602813721,
          1.0828979015350342,
          1.636502742767334,
          1.6127820014953613,
          1.2221028804779053,
          0.6367025375366211,
          1.2195792198181152,
          1.714677095413208,
          1.480623483657837,
          1.3117177486419678,
          1.2943096160888672,
          1.5525054931640625,
          0.8545575141906738,
          1.3729233741760254,
          0.7227358818054199,
          1.8493969440460205,
          1.3002562522888184,
          1.4863004684448242,
          1.3099708557128906,
          1.5619621276855469,
          0.6804795265197754,
          1.0743377208709717,
          1.1464262008666992,
          0.8861322402954102,
          1.5759239196777344,
          1.3842225074768066,
          1.4868557453155518,
          1.743048906326294,
          1.4447078704833984,
          1.448011875152588,
          1.0965607166290283,
          1.3935673236846924,
          1.334054946899414,
          0.27249813079833984,
          1.5272705554962158,
          1.5266058444976807,
          1.849522352218628,
          1.5082883834838867,
          1.3567638397216797,
          1.3911705017089844,
          1.4048924446105957,
          1.7163991928100586,
          1.6681361198425293,
          1.1464262008666992,
          1.280695915222168,
          1.286743402481079,
          1.11639404296875,
          1.6987907886505127,
          0.8580479621887207,
          1.88330078125,
          1.2274205684661865,
          1.1736116409301758,
          1.0457663536071777,
          1.4683318138122559,
          1.6660552024841309,
          1.1151185035705566,
          1.4631998538970947,
          1.7227668762207031,
          1.4572904109954834,
          0.8580479621887207,
          1.2290112972259521,
          1.4687507152557373,
          1.4555327892303467,
          0.15799212455749512,
          1.740295648574829,
          1.5495078563690186,
          1.5772509574890137,
          1.7148139476776123,
          1.7250502109527588,
          1.1796822547912598,
          1.7089793682098389,
          0.8580479621887207,
          1.5247437953948975,
          1.0586743354797363,
          1.7629077434539795,
          0.9951095581054688,
          1.5318286418914795,
          1.7568516731262207,
          1.4687507152557373,
          1.38832426071167,
          1.593747854232788,
          1.2278435230255127,
          1.1696619987487793,
          1.6542730331420898,
          1.4196195602416992,
          0.7753643989562988,
          1.3499014377593994,
          1.1075046062469482,
          1.514176368713379,
          1.2134160995483398,
          1.202108383178711,
          1.4181816577911377,
          1.5651700496673584,
          1.0048141479492188,
          0.3650040626525879,
          1.008066177368164,
          1.388369083404541,
          1.3286244869232178,
          1.8838486671447754,
          1.8955316543579102,
          1.6468770503997803,
          1.9537243843078613,
          1.7457330226898193,
          0.5989494323730469,
          1.880434513092041,
          1.406970500946045,
          1.3874454498291016,
          1.382009744644165,
          1.1217236518859863,
          0.9992296695709229,
          1.34269380569458,
          1.196498155593872,
          1.7288098335266113,
          1.3628227710723877,
          1.4298882484436035,
          0.31331515312194824,
          1.082749843597412,
          0.698012113571167,
          1.3422889709472656,
          1.4295949935913086,
          1.013000249862671,
          1.3009514808654785,
          1.409527063369751,
          1.1529479026794434,
          1.434279441833496,
          1.8188085556030273,
          1.363264799118042,
          1.4048826694488525,
          0.7852754592895508,
          1.4390547275543213,
          1.2409677505493164,
          1.4086887836456299,
          1.712094783782959,
          1.8300175666809082,
          1.3480889797210693,
          1.3204035758972168,
          1.3968026638031006,
          1.0281391143798828,
          0.698012113571167,
          1.1545207500457764,
          1.3031065464019775,
          1.1834485530853271,
          0.7948851585388184,
          0.6929926872253418,
          1.1218657493591309,
          1.452021598815918,
          1.8265790939331055,
          1.386348009109497,
          1.6409144401550293,
          1.462648868560791,
          1.570577621459961,
          1.243175745010376,
          0.6232540607452393,
          0.3650040626525879,
          0.023061275482177734,
          1.444352388381958,
          0.39133548736572266,
          0.897632360458374,
          1.4228875637054443,
          1.389599084854126,
          1.4665069580078125,
          0.915107250213623,
          1.6272344589233398,
          1.1158013343811035,
          0.9917728900909424,
          1.2507431507110596,
          0.8861527442932129,
          1.2432653903961182,
          1.2082812786102295,
          0.7358746528625488,
          1.116826057434082,
          1.3491015434265137,
          0.7944085597991943,
          1.4948813915252686,
          0.8706448078155518,
          1.0057578086853027,
          1.565722942352295,
          1.4193840026855469,
          0.08248090744018555,
          1.0958833694458008,
          0.5556273460388184,
          1.0581696033477783,
          1.2662138938903809,
          1.1160354614257812,
          1.692936658859253,
          0.6497442722320557,
          1.4015555381774902,
          1.6496620178222656,
          0.7312872409820557,
          0.7803604602813721,
          1.1659674644470215,
          1.4919612407684326,
          1.6591424942016602,
          1.3021414279937744,
          1.7157540321350098,
          1.0815353393554688,
          0.529367208480835,
          0.9477696418762207,
          1.1275672912597656,
          1.7148139476776123,
          1.6879386901855469,
          1.0323925018310547,
          1.8232574462890625,
          1.2999844551086426,
          1.3356823921203613,
          0.6035923957824707,
          1.1939518451690674,
          0.23975419998168945,
          1.11639404296875,
          1.4925825595855713,
          0.612816572189331,
          1.1612575054168701,
          1.681314468383789,
          1.274379014968872,
          1.5336313247680664,
          0.7508766651153564,
          1.0362505912780762,
          1.2351000308990479,
          1.8591115474700928,
          1.043400526046753,
          1.316222906112671,
          0.9446258544921875,
          1.0714027881622314,
          1.008066177368164,
          1.601728916168213,
          0.6367025375366211,
          -0.07895302772521973,
          0.7169137001037598,
          1.1765873432159424,
          0.8580479621887207,
          0.9341926574707031,
          0.9341926574707031,
          1.014662504196167,
          1.2970130443572998,
          1.3444786071777344,
          0.3650040626525879,
          1.2988433837890625,
          1.428678035736084,
          1.008066177368164,
          0.7358746528625488,
          0.6497442722320557,
          1.5894038677215576,
          1.1983909606933594,
          0.6636867523193359,
          0.6265597343444824,
          1.7143323421478271,
          0.5344200134277344,
          0.9198477268218994,
          1.7331082820892334,
          1.3733494281768799,
          1.6152331829071045,
          0.7071394920349121,
          1.5083045959472656,
          0.9505314826965332,
          1.7427635192871094,
          1.281435251235962,
          1.0025064945220947,
          -0.13457202911376953,
          0.9559838771820068,
          1.2242932319641113,
          1.195979356765747,
          0.8967981338500977,
          1.2824616432189941,
          1.3129305839538574,
          0.6579265594482422,
          0.31331515312194824,
          1.4090285301208496,
          0.6073141098022461,
          1.281008243560791,
          0.3661034107208252,
          0.870236873626709,
          1.7250502109527588,
          0.6497442722320557,
          1.600733757019043,
          1.11639404296875,
          0.07476425170898438,
          1.008066177368164,
          1.439063549041748,
          0.05855894088745117,
          1.5963826179504395,
          0.4363229274749756,
          1.0877599716186523,
          0.6497442722320557,
          1.1428732872009277,
          0.19743871688842773,
          0.6464321613311768,
          1.5931401252746582,
          1.4743027687072754,
          0.478992223739624,
          1.2635610103607178,
          1.5661530494689941,
          1.168649435043335,
          1.2223536968231201,
          0.14750361442565918,
          0.14750361442565918,
          0.8580317497253418,
          0.3650040626525879,
          1.5991501808166504,
          0.8580479621887207,
          1.5611381530761719,
          1.2936310768127441,
          1.5833232402801514,
          1.4385218620300293,
          1.1217236518859863,
          1.4443607330322266,
          0.9477696418762207,
          1.6793255805969238,
          1.1578454971313477,
          1.4896345138549805,
          0.9467267990112305,
          -0.13473057746887207,
          1.0408508777618408,
          0.5997700691223145,
          1.7719488143920898,
          0.5530796051025391,
          0.8961799144744873,
          0.9793984889984131,
          0.8295319080352783,
          1.796057939529419,
          0.7603232860565186,
          0.45551347732543945,
          0.7848901748657227,
          0.5097293853759766,
          1.639986515045166,
          0.6430397033691406,
          1.2198905944824219,
          1.438990592956543,
          1.047861099243164,
          1.9629721641540527,
          0.6497442722320557,
          -0.06992626190185547,
          0.862501859664917,
          1.3632919788360596,
          0.4625973701477051,
          0.6232540607452393,
          1.3561992645263672,
          1.008066177368164,
          1.222579002380371,
          1.3970367908477783,
          0.11732721328735352,
          1.0420563220977783,
          1.3752264976501465,
          1.7250502109527588,
          1.2970130443572998,
          1.475039005279541,
          1.008066177368164,
          1.0768883228302002,
          -0.055991172790527344,
          1.5800509452819824,
          1.685783863067627,
          0.3650040626525879,
          0.8612821102142334,
          1.4295949935913086,
          1.0180978775024414,
          0.3650040626525879,
          1.389653205871582,
          1.1043331623077393,
          0.7753643989562988,
          1.4305682182312012,
          1.218456506729126,
          0.028187274932861328,
          0.23975419998168945,
          1.5559227466583252,
          0.7373690605163574,
          1.369816541671753,
          1.3322300910949707,
          1.3215248584747314,
          1.430396556854248,
          1.008066177368164,
          1.3100757598876953,
          1.257617473602295,
          0.45551347732543945,
          0.6804795265197754,
          0.6138558387756348,
          1.8134644031524658,
          0.5394468307495117,
          0.6464321613311768,
          1.4458231925964355,
          1.3519225120544434,
          0.5398671627044678,
          1.1744134426116943,
          1.5062716007232666,
          0.7241859436035156,
          1.4457292556762695,
          0.9709148406982422,
          0.9393348693847656,
          0.4522242546081543,
          1.2902820110321045,
          0.9464190006256104,
          0.6232540607452393,
          1.6007061004638672,
          0.465151309967041,
          1.6820008754730225,
          1.7793307304382324,
          0.6929926872253418,
          1.4170746803283691,
          0.6265597343444824,
          0.20223331451416016,
          1.584773063659668,
          1.6936876773834229,
          0.8744115829467773,
          0.6367025375366211,
          1.147937536239624,
          0.3599357604980469,
          0.6339430809020996,
          -0.06992626190185547,
          0.7299864292144775,
          1.2998712062835693,
          0.7343096733093262,
          0.14750361442565918,
          0.7508766651153564,
          0.7803604602813721,
          1.573387861251831,
          0.7012953758239746,
          1.0436770915985107,
          0.08248090744018555,
          1.7377736568450928,
          -0.1471419334411621,
          0.05300283432006836,
          1.10978364944458,
          0.5171706676483154,
          0.2622842788696289,
          0.3650040626525879,
          1.0441415309906006,
          0.31331515312194824,
          1.5698726177215576,
          0.6265597343444824,
          0.14834928512573242,
          1.501037359237671,
          -0.021054744720458984,
          0.31331515312194824,
          0.8106100559234619,
          -0.12158656120300293,
          1.6138746738433838,
          0.5869531631469727,
          0.9184939861297607,
          0.31331515312194824,
          1.6920819282531738,
          0.8009438514709473,
          0.8580317497253418,
          0.6804795265197754,
          1.697509765625,
          0.07616615295410156,
          0.6265597343444824,
          0.6497442722320557,
          0.5833535194396973,
          0.6497442722320557,
          1.1256177425384521,
          1.2198905944824219,
          0.6902053356170654,
          1.1842238903045654,
          0.14834928512573242,
          0.14750361442565918,
          0.08248090744018555,
          0.6265597343444824,
          -0.2149496078491211,
          0.7389669418334961,
          1.6215229034423828,
          0.6497442722320557,
          0.23975419998168945,
          0.32422828674316406,
          1.7242226600646973,
          1.1093966960906982,
          1.4295949935913086,
          0.5179686546325684,
          0.7803604602813721,
          -0.13437867164611816,
          -0.028937578201293945,
          1.4694397449493408,
          0.6497442722320557,
          1.407088041305542,
          -0.2149496078491211,
          0.6804795265197754,
          0.1584455966949463,
          1.2376413345336914,
          0.6444323062896729,
          0.3650040626525879,
          1.008066177368164,
          0.19743871688842773,
          0.7509403228759766,
          -0.00969839096069336,
          0.6717896461486816,
          1.1054089069366455,
          1.008066177368164,
          0.962548017501831,
          0.7787497043609619,
          1.1925365924835205,
          0.9985435009002686,
          -0.1051187515258789,
          0.7389669418334961,
          0.4971883296966553,
          0.3650040626525879,
          0.013299942016601562,
          0.31331515312194824,
          0.05855894088745117,
          0.7803604602813721,
          1.5644423961639404,
          1.008066177368164,
          0.6139414310455322,
          1.4636244773864746,
          0.028187274932861328,
          0.31331515312194824,
          -0.06992626190185547,
          1.5990345478057861,
          0.5336410999298096,
          0.3599357604980469,
          0.05227375030517578,
          0.6265597343444824,
          0.31331515312194824,
          0.31331515312194824,
          0.6497442722320557,
          -0.18184423446655273,
          0.3745856285095215,
          -0.06992626190185547,
          0.5336410999298096,
          0.1584455966949463,
          0.028187274932861328,
          0.6162300109863281,
          1.008066177368164,
          1.4295949935913086,
          0.8350794315338135,
          0.6497442722320557,
          0.07616615295410156,
          0.6804795265197754,
          0.05300283432006836,
          1.008066177368164,
          0.8706448078155518,
          0.7135012149810791,
          0.7047731876373291,
          0.6537489891052246,
          -0.0013799667358398438,
          0.6497442722320557,
          0.6265597343444824,
          1.008066177368164,
          0.612816572189331,
          0.15845942497253418,
          0.4517076015472412,
          0.31331515312194824,
          0.31331515312194824
         ]
        }
       ],
       "layout": {
        "font": {
         "size": 30
        },
        "paper_bgcolor": "white",
        "plot_bgcolor": "white",
        "template": {
         "data": {
          "bar": [
           {
            "error_x": {
             "color": "#2a3f5f"
            },
            "error_y": {
             "color": "#2a3f5f"
            },
            "marker": {
             "line": {
              "color": "#E5ECF6",
              "width": 0.5
             },
             "pattern": {
              "fillmode": "overlay",
              "size": 10,
              "solidity": 0.2
             }
            },
            "type": "bar"
           }
          ],
          "barpolar": [
           {
            "marker": {
             "line": {
              "color": "#E5ECF6",
              "width": 0.5
             },
             "pattern": {
              "fillmode": "overlay",
              "size": 10,
              "solidity": 0.2
             }
            },
            "type": "barpolar"
           }
          ],
          "carpet": [
           {
            "aaxis": {
             "endlinecolor": "#2a3f5f",
             "gridcolor": "white",
             "linecolor": "white",
             "minorgridcolor": "white",
             "startlinecolor": "#2a3f5f"
            },
            "baxis": {
             "endlinecolor": "#2a3f5f",
             "gridcolor": "white",
             "linecolor": "white",
             "minorgridcolor": "white",
             "startlinecolor": "#2a3f5f"
            },
            "type": "carpet"
           }
          ],
          "choropleth": [
           {
            "colorbar": {
             "outlinewidth": 0,
             "ticks": ""
            },
            "type": "choropleth"
           }
          ],
          "contour": [
           {
            "colorbar": {
             "outlinewidth": 0,
             "ticks": ""
            },
            "colorscale": [
             [
              0,
              "#0d0887"
             ],
             [
              0.1111111111111111,
              "#46039f"
             ],
             [
              0.2222222222222222,
              "#7201a8"
             ],
             [
              0.3333333333333333,
              "#9c179e"
             ],
             [
              0.4444444444444444,
              "#bd3786"
             ],
             [
              0.5555555555555556,
              "#d8576b"
             ],
             [
              0.6666666666666666,
              "#ed7953"
             ],
             [
              0.7777777777777778,
              "#fb9f3a"
             ],
             [
              0.8888888888888888,
              "#fdca26"
             ],
             [
              1,
              "#f0f921"
             ]
            ],
            "type": "contour"
           }
          ],
          "contourcarpet": [
           {
            "colorbar": {
             "outlinewidth": 0,
             "ticks": ""
            },
            "type": "contourcarpet"
           }
          ],
          "heatmap": [
           {
            "colorbar": {
             "outlinewidth": 0,
             "ticks": ""
            },
            "colorscale": [
             [
              0,
              "#0d0887"
             ],
             [
              0.1111111111111111,
              "#46039f"
             ],
             [
              0.2222222222222222,
              "#7201a8"
             ],
             [
              0.3333333333333333,
              "#9c179e"
             ],
             [
              0.4444444444444444,
              "#bd3786"
             ],
             [
              0.5555555555555556,
              "#d8576b"
             ],
             [
              0.6666666666666666,
              "#ed7953"
             ],
             [
              0.7777777777777778,
              "#fb9f3a"
             ],
             [
              0.8888888888888888,
              "#fdca26"
             ],
             [
              1,
              "#f0f921"
             ]
            ],
            "type": "heatmap"
           }
          ],
          "heatmapgl": [
           {
            "colorbar": {
             "outlinewidth": 0,
             "ticks": ""
            },
            "colorscale": [
             [
              0,
              "#0d0887"
             ],
             [
              0.1111111111111111,
              "#46039f"
             ],
             [
              0.2222222222222222,
              "#7201a8"
             ],
             [
              0.3333333333333333,
              "#9c179e"
             ],
             [
              0.4444444444444444,
              "#bd3786"
             ],
             [
              0.5555555555555556,
              "#d8576b"
             ],
             [
              0.6666666666666666,
              "#ed7953"
             ],
             [
              0.7777777777777778,
              "#fb9f3a"
             ],
             [
              0.8888888888888888,
              "#fdca26"
             ],
             [
              1,
              "#f0f921"
             ]
            ],
            "type": "heatmapgl"
           }
          ],
          "histogram": [
           {
            "marker": {
             "pattern": {
              "fillmode": "overlay",
              "size": 10,
              "solidity": 0.2
             }
            },
            "type": "histogram"
           }
          ],
          "histogram2d": [
           {
            "colorbar": {
             "outlinewidth": 0,
             "ticks": ""
            },
            "colorscale": [
             [
              0,
              "#0d0887"
             ],
             [
              0.1111111111111111,
              "#46039f"
             ],
             [
              0.2222222222222222,
              "#7201a8"
             ],
             [
              0.3333333333333333,
              "#9c179e"
             ],
             [
              0.4444444444444444,
              "#bd3786"
             ],
             [
              0.5555555555555556,
              "#d8576b"
             ],
             [
              0.6666666666666666,
              "#ed7953"
             ],
             [
              0.7777777777777778,
              "#fb9f3a"
             ],
             [
              0.8888888888888888,
              "#fdca26"
             ],
             [
              1,
              "#f0f921"
             ]
            ],
            "type": "histogram2d"
           }
          ],
          "histogram2dcontour": [
           {
            "colorbar": {
             "outlinewidth": 0,
             "ticks": ""
            },
            "colorscale": [
             [
              0,
              "#0d0887"
             ],
             [
              0.1111111111111111,
              "#46039f"
             ],
             [
              0.2222222222222222,
              "#7201a8"
             ],
             [
              0.3333333333333333,
              "#9c179e"
             ],
             [
              0.4444444444444444,
              "#bd3786"
             ],
             [
              0.5555555555555556,
              "#d8576b"
             ],
             [
              0.6666666666666666,
              "#ed7953"
             ],
             [
              0.7777777777777778,
              "#fb9f3a"
             ],
             [
              0.8888888888888888,
              "#fdca26"
             ],
             [
              1,
              "#f0f921"
             ]
            ],
            "type": "histogram2dcontour"
           }
          ],
          "mesh3d": [
           {
            "colorbar": {
             "outlinewidth": 0,
             "ticks": ""
            },
            "type": "mesh3d"
           }
          ],
          "parcoords": [
           {
            "line": {
             "colorbar": {
              "outlinewidth": 0,
              "ticks": ""
             }
            },
            "type": "parcoords"
           }
          ],
          "pie": [
           {
            "automargin": true,
            "type": "pie"
           }
          ],
          "scatter": [
           {
            "fillpattern": {
             "fillmode": "overlay",
             "size": 10,
             "solidity": 0.2
            },
            "type": "scatter"
           }
          ],
          "scatter3d": [
           {
            "line": {
             "colorbar": {
              "outlinewidth": 0,
              "ticks": ""
             }
            },
            "marker": {
             "colorbar": {
              "outlinewidth": 0,
              "ticks": ""
             }
            },
            "type": "scatter3d"
           }
          ],
          "scattercarpet": [
           {
            "marker": {
             "colorbar": {
              "outlinewidth": 0,
              "ticks": ""
             }
            },
            "type": "scattercarpet"
           }
          ],
          "scattergeo": [
           {
            "marker": {
             "colorbar": {
              "outlinewidth": 0,
              "ticks": ""
             }
            },
            "type": "scattergeo"
           }
          ],
          "scattergl": [
           {
            "marker": {
             "colorbar": {
              "outlinewidth": 0,
              "ticks": ""
             }
            },
            "type": "scattergl"
           }
          ],
          "scattermapbox": [
           {
            "marker": {
             "colorbar": {
              "outlinewidth": 0,
              "ticks": ""
             }
            },
            "type": "scattermapbox"
           }
          ],
          "scatterpolar": [
           {
            "marker": {
             "colorbar": {
              "outlinewidth": 0,
              "ticks": ""
             }
            },
            "type": "scatterpolar"
           }
          ],
          "scatterpolargl": [
           {
            "marker": {
             "colorbar": {
              "outlinewidth": 0,
              "ticks": ""
             }
            },
            "type": "scatterpolargl"
           }
          ],
          "scatterternary": [
           {
            "marker": {
             "colorbar": {
              "outlinewidth": 0,
              "ticks": ""
             }
            },
            "type": "scatterternary"
           }
          ],
          "surface": [
           {
            "colorbar": {
             "outlinewidth": 0,
             "ticks": ""
            },
            "colorscale": [
             [
              0,
              "#0d0887"
             ],
             [
              0.1111111111111111,
              "#46039f"
             ],
             [
              0.2222222222222222,
              "#7201a8"
             ],
             [
              0.3333333333333333,
              "#9c179e"
             ],
             [
              0.4444444444444444,
              "#bd3786"
             ],
             [
              0.5555555555555556,
              "#d8576b"
             ],
             [
              0.6666666666666666,
              "#ed7953"
             ],
             [
              0.7777777777777778,
              "#fb9f3a"
             ],
             [
              0.8888888888888888,
              "#fdca26"
             ],
             [
              1,
              "#f0f921"
             ]
            ],
            "type": "surface"
           }
          ],
          "table": [
           {
            "cells": {
             "fill": {
              "color": "#EBF0F8"
             },
             "line": {
              "color": "white"
             }
            },
            "header": {
             "fill": {
              "color": "#C8D4E3"
             },
             "line": {
              "color": "white"
             }
            },
            "type": "table"
           }
          ]
         },
         "layout": {
          "annotationdefaults": {
           "arrowcolor": "#2a3f5f",
           "arrowhead": 0,
           "arrowwidth": 1
          },
          "autotypenumbers": "strict",
          "coloraxis": {
           "colorbar": {
            "outlinewidth": 0,
            "ticks": ""
           }
          },
          "colorscale": {
           "diverging": [
            [
             0,
             "#8e0152"
            ],
            [
             0.1,
             "#c51b7d"
            ],
            [
             0.2,
             "#de77ae"
            ],
            [
             0.3,
             "#f1b6da"
            ],
            [
             0.4,
             "#fde0ef"
            ],
            [
             0.5,
             "#f7f7f7"
            ],
            [
             0.6,
             "#e6f5d0"
            ],
            [
             0.7,
             "#b8e186"
            ],
            [
             0.8,
             "#7fbc41"
            ],
            [
             0.9,
             "#4d9221"
            ],
            [
             1,
             "#276419"
            ]
           ],
           "sequential": [
            [
             0,
             "#0d0887"
            ],
            [
             0.1111111111111111,
             "#46039f"
            ],
            [
             0.2222222222222222,
             "#7201a8"
            ],
            [
             0.3333333333333333,
             "#9c179e"
            ],
            [
             0.4444444444444444,
             "#bd3786"
            ],
            [
             0.5555555555555556,
             "#d8576b"
            ],
            [
             0.6666666666666666,
             "#ed7953"
            ],
            [
             0.7777777777777778,
             "#fb9f3a"
            ],
            [
             0.8888888888888888,
             "#fdca26"
            ],
            [
             1,
             "#f0f921"
            ]
           ],
           "sequentialminus": [
            [
             0,
             "#0d0887"
            ],
            [
             0.1111111111111111,
             "#46039f"
            ],
            [
             0.2222222222222222,
             "#7201a8"
            ],
            [
             0.3333333333333333,
             "#9c179e"
            ],
            [
             0.4444444444444444,
             "#bd3786"
            ],
            [
             0.5555555555555556,
             "#d8576b"
            ],
            [
             0.6666666666666666,
             "#ed7953"
            ],
            [
             0.7777777777777778,
             "#fb9f3a"
            ],
            [
             0.8888888888888888,
             "#fdca26"
            ],
            [
             1,
             "#f0f921"
            ]
           ]
          },
          "colorway": [
           "#636efa",
           "#EF553B",
           "#00cc96",
           "#ab63fa",
           "#FFA15A",
           "#19d3f3",
           "#FF6692",
           "#B6E880",
           "#FF97FF",
           "#FECB52"
          ],
          "font": {
           "color": "#2a3f5f"
          },
          "geo": {
           "bgcolor": "white",
           "lakecolor": "white",
           "landcolor": "#E5ECF6",
           "showlakes": true,
           "showland": true,
           "subunitcolor": "white"
          },
          "hoverlabel": {
           "align": "left"
          },
          "hovermode": "closest",
          "mapbox": {
           "style": "light"
          },
          "paper_bgcolor": "white",
          "plot_bgcolor": "#E5ECF6",
          "polar": {
           "angularaxis": {
            "gridcolor": "white",
            "linecolor": "white",
            "ticks": ""
           },
           "bgcolor": "#E5ECF6",
           "radialaxis": {
            "gridcolor": "white",
            "linecolor": "white",
            "ticks": ""
           }
          },
          "scene": {
           "xaxis": {
            "backgroundcolor": "#E5ECF6",
            "gridcolor": "white",
            "gridwidth": 2,
            "linecolor": "white",
            "showbackground": true,
            "ticks": "",
            "zerolinecolor": "white"
           },
           "yaxis": {
            "backgroundcolor": "#E5ECF6",
            "gridcolor": "white",
            "gridwidth": 2,
            "linecolor": "white",
            "showbackground": true,
            "ticks": "",
            "zerolinecolor": "white"
           },
           "zaxis": {
            "backgroundcolor": "#E5ECF6",
            "gridcolor": "white",
            "gridwidth": 2,
            "linecolor": "white",
            "showbackground": true,
            "ticks": "",
            "zerolinecolor": "white"
           }
          },
          "shapedefaults": {
           "line": {
            "color": "#2a3f5f"
           }
          },
          "ternary": {
           "aaxis": {
            "gridcolor": "white",
            "linecolor": "white",
            "ticks": ""
           },
           "baxis": {
            "gridcolor": "white",
            "linecolor": "white",
            "ticks": ""
           },
           "bgcolor": "#E5ECF6",
           "caxis": {
            "gridcolor": "white",
            "linecolor": "white",
            "ticks": ""
           }
          },
          "title": {
           "x": 0.05
          },
          "xaxis": {
           "automargin": true,
           "gridcolor": "white",
           "linecolor": "white",
           "ticks": "",
           "title": {
            "standoff": 15
           },
           "zerolinecolor": "white",
           "zerolinewidth": 2
          },
          "yaxis": {
           "automargin": true,
           "gridcolor": "white",
           "linecolor": "white",
           "ticks": "",
           "title": {
            "standoff": 15
           },
           "zerolinecolor": "white",
           "zerolinewidth": 2
          }
         }
        },
        "title": {
         "text": "Distribution of Difference In Nuclear Norms - DGI vs DGI+XM"
        },
        "xaxis": {
         "title": {
          "text": "Difference In Nuclear Norms - DGI vs DGI+XM"
         }
        },
        "yaxis": {
         "title": {
          "text": "Frequency"
         }
        }
       }
      },
      "text/html": [
       "<div>                            <div id=\"a2243b21-316a-4572-b28e-bdacdf520626\" class=\"plotly-graph-div\" style=\"height:525px; width:100%;\"></div>            <script type=\"text/javascript\">                require([\"plotly\"], function(Plotly) {                    window.PLOTLYENV=window.PLOTLYENV || {};                                    if (document.getElementById(\"a2243b21-316a-4572-b28e-bdacdf520626\")) {                    Plotly.newPlot(                        \"a2243b21-316a-4572-b28e-bdacdf520626\",                        [{\"x\":[1.3893797397613525,2.0148768424987793,1.6939334869384766,2.301445484161377,1.8488094806671143,1.5479319095611572,1.4981164932250977,1.1813056468963623,1.8497505187988281,1.5100107192993164,1.978971004486084,1.8489437103271484,1.845762014389038,2.350480556488037,2.371532440185547,2.064026355743408,1.1275739669799805,1.3810837268829346,1.8627314567565918,2.3026723861694336,1.5020647048950195,2.0931007862091064,1.784494161605835,1.3127644062042236,1.4918427467346191,1.5933127403259277,1.3988752365112305,1.9997336864471436,1.4762959480285645,0.7321507930755615,0.8310985565185547,2.1300058364868164,1.688673496246338,1.2563345432281494,1.3538918495178223,1.3381750583648682,1.9559097290039062,2.202043056488037,2.2429428100585938,1.8349952697753906,2.0052719116210938,1.8255672454833984,1.7558460235595703,1.9012222290039062,1.5520482063293457,2.0321855545043945,1.519167184829712,1.5778594017028809,2.1074740886688232,1.72019362449646,1.7762563228607178,2.2005324363708496,2.0851941108703613,1.4766669273376465,1.458043098449707,2.3805346488952637,1.706662654876709,2.289433002471924,1.7617764472961426,1.9970924854278564,2.1567959785461426,1.5217666625976562,1.454075574874878,1.7457752227783203,2.2148079872131348,1.789175271987915,2.191559314727783,2.0469918251037598,1.7845182418823242,1.3720622062683105,2.141171455383301,1.4060368537902832,1.628176212310791,2.3726062774658203,2.2683215141296387,2.0886950492858887,1.4324946403503418,1.3057959079742432,1.737248182296753,1.7951912879943848,1.5978498458862305,1.4379432201385498,1.6531119346618652,1.637460470199585,1.4460322856903076,1.6117815971374512,2.0233678817749023,1.6709585189819336,2.3058714866638184,1.4027698040008545,2.12428617477417,1.4192790985107422,1.6767261028289795,1.450674295425415,1.7429211139678955,1.9654748439788818,2.1171321868896484,1.1756596565246582,1.2560021877288818,1.6849184036254883,0.9319984912872314,1.4165399074554443,1.1538476943969727,0.7021989822387695,0.47962522506713867,1.3153057098388672,1.5435447692871094,1.9103574752807617,2.189476490020752,1.6414294242858887,2.3448286056518555,1.7102093696594238,1.6059813499450684,1.2124207019805908,2.339205265045166,1.4458873271942139,1.188962697982788,1.807729959487915,1.963505744934082,2.0005743503570557,2.008049488067627,1.6080756187438965,2.0004706382751465,2.1795687675476074,1.7182810306549072,1.2827644348144531,1.3061234951019287,1.6593196392059326,1.9842147827148438,1.8842802047729492,2.198234796524048,1.6239128112792969,1.0828497409820557,1.689931869506836,2.256605863571167,2.201833724975586,1.8178668022155762,1.8887677192687988,1.7148139476776123,1.4687330722808838,1.8731646537780762,1.7430686950683594,2.2098822593688965,2.1305019855499268,2.1625075340270996,1.7833566665649414,1.7750349044799805,1.785421371459961,2.0801846981048584,1.7608342170715332,1.9017820358276367,2.185546398162842,1.4912710189819336,1.7536547183990479,1.8997001647949219,1.927781581878662,2.268043041229248,1.1811683177947998,1.4283835887908936,1.6887032985687256,1.336991310119629,1.7030718326568604,2.0541749000549316,1.0697274208068848,1.2862250804901123,2.19819974899292,2.098879337310791,2.0766069889068604,1.2536394596099854,0.9923906326293945,1.5554208755493164,1.9594902992248535,2.212721109390259,1.6570208072662354,2.3301944732666016,2.106686592102051,1.4242980480194092,2.2934751510620117,1.5763287544250488,1.4630413055419922,1.2307441234588623,2.2020654678344727,1.8860077857971191,2.2469658851623535,1.3076817989349365,1.6739108562469482,1.7573246955871582,1.6582486629486084,1.5253653526306152,1.1337933540344238,0.8927860260009766,1.8517391681671143,1.1936581134796143,1.2825584411621094,1.6048378944396973,0.4220757484436035,1.6486313343048096,2.034278154373169,1.713667392730713,2.214757204055786,1.2448058128356934,1.759127140045166,2.095827341079712,1.2338504791259766,1.7871875762939453,1.7592544555664062,1.2425563335418701,1.5546157360076904,1.5436480045318604,1.2991266250610352,1.3911464214324951,0.7944085597991943,1.0314273834228516,1.4704961776733398,1.9532434940338135,1.2382516860961914,1.4063589572906494,1.3447825908660889,1.3803820610046387,2.013653039932251,1.9344115257263184,2.066628932952881,1.774083137512207,2.1675865650177,1.703155279159546,1.9066967964172363,1.8827486038208008,1.9202990531921387,2.31307315826416,1.6216182708740234,1.8900930881500244,1.6506896018981934,2.1897172927856445,1.4372813701629639,2.0214662551879883,2.438035488128662,1.6870427131652832,1.326596736907959,1.52571439743042,1.7026152610778809,1.2542259693145752,1.1638333797454834,1.5886523723602295,1.9598958492279053,0.6828112602233887,1.128730058670044,1.8481440544128418,1.3214218616485596,2.090273141860962,1.199228048324585,2.325775146484375,1.9131412506103516,0.6497442722320557,0.7087047100067139,1.1248228549957275,1.7648262977600098,2.0345630645751953,1.3992209434509277,1.915593147277832,1.7082371711730957,1.6719403266906738,1.4511682987213135,1.433150291442871,1.511411428451538,1.4958360195159912,0.9527971744537354,1.4922637939453125,1.9836711883544922,2.0385308265686035,1.9104323387145996,1.7708511352539062,1.739694595336914,1.9741148948669434,2.093757152557373,1.1795754432678223,1.1538417339324951,0.9450955390930176,1.306260347366333,1.828932285308838,1.8488798141479492,1.3605918884277344,1.6160330772399902,2.1048474311828613,1.227971076965332,0.045629024505615234,1.574573040008545,1.373270034790039,1.5250616073608398,2.121927499771118,1.571765422821045,1.80985689163208,1.4063382148742676,1.416628122329712,1.5653595924377441,1.5209550857543945,2.2452328205108643,1.2147424221038818,2.2729384899139404,1.8836333751678467,1.7272791862487793,1.35038161277771,1.6112313270568848,1.7566347122192383,1.564467191696167,0.969712495803833,1.342858076095581,1.4445607662200928,1.4423866271972656,1.1170446872711182,1.4858934879302979,1.0694494247436523,1.570629358291626,1.4810707569122314,1.8926279544830322,1.4064767360687256,2.0634946823120117,1.2904610633850098,1.179203748703003,1.609668254852295,2.1817049980163574,0.3650040626525879,1.419372797012329,1.6487648487091064,2.0782876014709473,1.7063775062561035,1.766535758972168,1.4869656562805176,1.198518991470337,1.6461210250854492,1.6259651184082031,1.5950794219970703,1.5146403312683105,1.5976171493530273,1.0844237804412842,1.3156957626342773,0.9364702701568604,1.2663748264312744,1.9350190162658691,1.8145465850830078,1.777557373046875,1.6168334484100342,0.6629667282104492,1.3039627075195312,1.5680007934570312,0.951622486114502,1.2797725200653076,0.8962411880493164,2.0747480392456055,0.8580479621887207,1.5603530406951904,1.8360261917114258,1.1426494121551514,1.9639668464660645,1.9074969291687012,1.2426962852478027,0.6804795265197754,1.7278940677642822,1.577714443206787,1.3743658065795898,1.7215909957885742,1.0815527439117432,1.1398961544036865,1.7079827785491943,1.3426787853240967,1.122727394104004,1.043400526046753,0.8829348087310791,1.3427915573120117,0.45163655281066895,1.161874771118164,1.2693114280700684,1.4456100463867188,1.0611927509307861,1.0915658473968506,1.255622386932373,1.2457199096679688,2.061781644821167,1.1721415519714355,1.3183698654174805,1.673771858215332,1.0275628566741943,1.539252758026123,1.184258222579956,1.4570221900939941,1.334397554397583,1.1760296821594238,1.3206391334533691,1.4017329216003418,2.127683639526367,1.4090702533721924,1.676896095275879,1.6181867122650146,1.7409229278564453,1.4451754093170166,1.365699052810669,1.4651594161987305,1.3670878410339355,1.5406718254089355,1.6260645389556885,1.397923469543457,1.552873134613037,0.6564235687255859,1.7546453475952148,1.268451452255249,1.3366498947143555,1.1047825813293457,1.7521109580993652,1.824927806854248,1.5962939262390137,1.6670417785644531,0.8837308883666992,1.3271379470825195,1.7200136184692383,1.3561620712280273,1.6444299221038818,1.7260725498199463,2.227057456970215,1.1696619987487793,1.140371322631836,1.3255369663238525,1.6477370262145996,1.6715240478515625,1.5778439044952393,1.1141259670257568,1.4509973526000977,1.3546421527862549,0.8511676788330078,1.1944000720977783,1.2955079078674316,1.6769819259643555,1.2139689922332764,1.6284995079040527,1.651155948638916,1.4222495555877686,1.2718513011932373,0.10347414016723633,1.7851037979125977,1.6239304542541504,1.4204084873199463,1.039616584777832,1.5457019805908203,0.9963860511779785,1.235567569732666,1.9882338047027588,1.8765754699707031,1.5267932415008545,1.2681355476379395,1.4687354564666748,1.8704907894134521,1.5803930759429932,1.0461766719818115,1.3358325958251953,1.4245989322662354,2.26393461227417,1.509932518005371,2.1231250762939453,1.4492945671081543,1.0685455799102783,1.828275203704834,1.31443190574646,1.313908338546753,1.4170746803283691,0.5215930938720703,1.2134993076324463,1.263993740081787,1.8224833011627197,1.420382022857666,1.2976222038269043,1.2240667343139648,0.9558296203613281,1.156449317932129,1.224283218383789,1.2222065925598145,0.6448221206665039,1.146601676940918,1.0480623245239258,1.2189977169036865,1.7891716957092285,1.760573387145996,1.8672642707824707,1.5292038917541504,1.726440668106079,1.789414405822754,1.1718053817749023,1.3064296245574951,1.5209755897521973,2.129908561706543,1.440147876739502,1.5504589080810547,1.0229380130767822,1.0158836841583252,0.6367025375366211,1.3498399257659912,1.6647260189056396,1.506488561630249,1.7151718139648438,1.342444896697998,1.675257682800293,1.7271332740783691,2.0446910858154297,1.9835214614868164,1.0963246822357178,1.5517427921295166,1.4563829898834229,1.463871955871582,1.4786486625671387,1.2787113189697266,0.6196572780609131,1.261612892150879,1.316906452178955,1.513922929763794,0.8744115829467773,1.417098045349121,1.6382298469543457,1.878347396850586,0.976069450378418,0.9455356597900391,1.1877427101135254,1.4173822402954102,1.1816012859344482,0.8501975536346436,1.7415080070495605,1.747835636138916,1.4806175231933594,1.724886417388916,0.5445013046264648,1.5691204071044922,1.208876371383667,0.8580479621887207,0.9858777523040771,1.7467210292816162,1.3436431884765625,0.7508230209350586,1.7677593231201172,1.6968045234680176,1.0773131847381592,1.281360387802124,1.5292494297027588,1.2100133895874023,0.987403154373169,1.4194343090057373,1.49613618850708,1.4066078662872314,0.9044053554534912,1.2222213745117188,1.4158406257629395,0.3650040626525879,0.4363229274749756,1.3418359756469727,1.2219324111938477,0.3748021125793457,1.1953072547912598,1.7378664016723633,1.4801924228668213,1.4718594551086426,1.4687507152557373,1.8875668048858643,0.9996464252471924,1.2286875247955322,0.8259053230285645,1.4884638786315918,1.5027103424072266,1.312713623046875,1.6727993488311768,1.7352075576782227,1.0371003150939941,1.4889719486236572,1.724165916442871,1.7253568172454834,0.9258003234863281,0.8521180152893066,1.7372756004333496,1.628626823425293,1.8225493431091309,1.7025692462921143,0.7848901748657227,1.5476417541503906,1.210984468460083,1.8248050212860107,1.2743077278137207,-0.05582475662231445,1.7361550331115723,1.237929344177246,1.8957319259643555,1.8397140502929688,1.7314305305480957,1.3503339290618896,1.7288098335266113,1.5031800270080566,1.270045518875122,1.139847755432129,0.6497442722320557,0.745335578918457,1.295851707458496,1.2352259159088135,1.8240246772766113,0.9789290428161621,0.3650040626525879,0.9950881004333496,1.2659544944763184,1.549124002456665,1.258697748184204,1.3499794006347656,1.1332881450653076,1.289931058883667,0.6265597343444824,1.4945406913757324,1.5086631774902344,0.8598778247833252,1.3270657062530518,1.7500567436218262,1.7394773960113525,1.1384496688842773,0.6232540607452393,0.6727895736694336,1.5677127838134766,1.5837724208831787,1.2273130416870117,1.170377254486084,1.347898006439209,0.633716344833374,1.3802027702331543,1.7184467315673828,1.722877025604248,1.5940008163452148,1.5850369930267334,1.7807183265686035,1.269214391708374,1.009568691253662,1.5265634059906006,1.191502571105957,0.6749627590179443,0.7246646881103516,1.142258644104004,1.181713342666626,1.5177600383758545,1.1297578811645508,1.4220168590545654,1.2217564582824707,1.3009521961212158,1.053406000137329,1.4096527099609375,1.4777143001556396,1.2188844680786133,1.744185447692871,1.4896106719970703,1.2666840553283691,0.7803604602813721,1.0828979015350342,1.636502742767334,1.6127820014953613,1.2221028804779053,0.6367025375366211,1.2195792198181152,1.714677095413208,1.480623483657837,1.3117177486419678,1.2943096160888672,1.5525054931640625,0.8545575141906738,1.3729233741760254,0.7227358818054199,1.8493969440460205,1.3002562522888184,1.4863004684448242,1.3099708557128906,1.5619621276855469,0.6804795265197754,1.0743377208709717,1.1464262008666992,0.8861322402954102,1.5759239196777344,1.3842225074768066,1.4868557453155518,1.743048906326294,1.4447078704833984,1.448011875152588,1.0965607166290283,1.3935673236846924,1.334054946899414,0.27249813079833984,1.5272705554962158,1.5266058444976807,1.849522352218628,1.5082883834838867,1.3567638397216797,1.3911705017089844,1.4048924446105957,1.7163991928100586,1.6681361198425293,1.1464262008666992,1.280695915222168,1.286743402481079,1.11639404296875,1.6987907886505127,0.8580479621887207,1.88330078125,1.2274205684661865,1.1736116409301758,1.0457663536071777,1.4683318138122559,1.6660552024841309,1.1151185035705566,1.4631998538970947,1.7227668762207031,1.4572904109954834,0.8580479621887207,1.2290112972259521,1.4687507152557373,1.4555327892303467,0.15799212455749512,1.740295648574829,1.5495078563690186,1.5772509574890137,1.7148139476776123,1.7250502109527588,1.1796822547912598,1.7089793682098389,0.8580479621887207,1.5247437953948975,1.0586743354797363,1.7629077434539795,0.9951095581054688,1.5318286418914795,1.7568516731262207,1.4687507152557373,1.38832426071167,1.593747854232788,1.2278435230255127,1.1696619987487793,1.6542730331420898,1.4196195602416992,0.7753643989562988,1.3499014377593994,1.1075046062469482,1.514176368713379,1.2134160995483398,1.202108383178711,1.4181816577911377,1.5651700496673584,1.0048141479492188,0.3650040626525879,1.008066177368164,1.388369083404541,1.3286244869232178,1.8838486671447754,1.8955316543579102,1.6468770503997803,1.9537243843078613,1.7457330226898193,0.5989494323730469,1.880434513092041,1.406970500946045,1.3874454498291016,1.382009744644165,1.1217236518859863,0.9992296695709229,1.34269380569458,1.196498155593872,1.7288098335266113,1.3628227710723877,1.4298882484436035,0.31331515312194824,1.082749843597412,0.698012113571167,1.3422889709472656,1.4295949935913086,1.013000249862671,1.3009514808654785,1.409527063369751,1.1529479026794434,1.434279441833496,1.8188085556030273,1.363264799118042,1.4048826694488525,0.7852754592895508,1.4390547275543213,1.2409677505493164,1.4086887836456299,1.712094783782959,1.8300175666809082,1.3480889797210693,1.3204035758972168,1.3968026638031006,1.0281391143798828,0.698012113571167,1.1545207500457764,1.3031065464019775,1.1834485530853271,0.7948851585388184,0.6929926872253418,1.1218657493591309,1.452021598815918,1.8265790939331055,1.386348009109497,1.6409144401550293,1.462648868560791,1.570577621459961,1.243175745010376,0.6232540607452393,0.3650040626525879,0.023061275482177734,1.444352388381958,0.39133548736572266,0.897632360458374,1.4228875637054443,1.389599084854126,1.4665069580078125,0.915107250213623,1.6272344589233398,1.1158013343811035,0.9917728900909424,1.2507431507110596,0.8861527442932129,1.2432653903961182,1.2082812786102295,0.7358746528625488,1.116826057434082,1.3491015434265137,0.7944085597991943,1.4948813915252686,0.8706448078155518,1.0057578086853027,1.565722942352295,1.4193840026855469,0.08248090744018555,1.0958833694458008,0.5556273460388184,1.0581696033477783,1.2662138938903809,1.1160354614257812,1.692936658859253,0.6497442722320557,1.4015555381774902,1.6496620178222656,0.7312872409820557,0.7803604602813721,1.1659674644470215,1.4919612407684326,1.6591424942016602,1.3021414279937744,1.7157540321350098,1.0815353393554688,0.529367208480835,0.9477696418762207,1.1275672912597656,1.7148139476776123,1.6879386901855469,1.0323925018310547,1.8232574462890625,1.2999844551086426,1.3356823921203613,0.6035923957824707,1.1939518451690674,0.23975419998168945,1.11639404296875,1.4925825595855713,0.612816572189331,1.1612575054168701,1.681314468383789,1.274379014968872,1.5336313247680664,0.7508766651153564,1.0362505912780762,1.2351000308990479,1.8591115474700928,1.043400526046753,1.316222906112671,0.9446258544921875,1.0714027881622314,1.008066177368164,1.601728916168213,0.6367025375366211,-0.07895302772521973,0.7169137001037598,1.1765873432159424,0.8580479621887207,0.9341926574707031,0.9341926574707031,1.014662504196167,1.2970130443572998,1.3444786071777344,0.3650040626525879,1.2988433837890625,1.428678035736084,1.008066177368164,0.7358746528625488,0.6497442722320557,1.5894038677215576,1.1983909606933594,0.6636867523193359,0.6265597343444824,1.7143323421478271,0.5344200134277344,0.9198477268218994,1.7331082820892334,1.3733494281768799,1.6152331829071045,0.7071394920349121,1.5083045959472656,0.9505314826965332,1.7427635192871094,1.281435251235962,1.0025064945220947,-0.13457202911376953,0.9559838771820068,1.2242932319641113,1.195979356765747,0.8967981338500977,1.2824616432189941,1.3129305839538574,0.6579265594482422,0.31331515312194824,1.4090285301208496,0.6073141098022461,1.281008243560791,0.3661034107208252,0.870236873626709,1.7250502109527588,0.6497442722320557,1.600733757019043,1.11639404296875,0.07476425170898438,1.008066177368164,1.439063549041748,0.05855894088745117,1.5963826179504395,0.4363229274749756,1.0877599716186523,0.6497442722320557,1.1428732872009277,0.19743871688842773,0.6464321613311768,1.5931401252746582,1.4743027687072754,0.478992223739624,1.2635610103607178,1.5661530494689941,1.168649435043335,1.2223536968231201,0.14750361442565918,0.14750361442565918,0.8580317497253418,0.3650040626525879,1.5991501808166504,0.8580479621887207,1.5611381530761719,1.2936310768127441,1.5833232402801514,1.4385218620300293,1.1217236518859863,1.4443607330322266,0.9477696418762207,1.6793255805969238,1.1578454971313477,1.4896345138549805,0.9467267990112305,-0.13473057746887207,1.0408508777618408,0.5997700691223145,1.7719488143920898,0.5530796051025391,0.8961799144744873,0.9793984889984131,0.8295319080352783,1.796057939529419,0.7603232860565186,0.45551347732543945,0.7848901748657227,0.5097293853759766,1.639986515045166,0.6430397033691406,1.2198905944824219,1.438990592956543,1.047861099243164,1.9629721641540527,0.6497442722320557,-0.06992626190185547,0.862501859664917,1.3632919788360596,0.4625973701477051,0.6232540607452393,1.3561992645263672,1.008066177368164,1.222579002380371,1.3970367908477783,0.11732721328735352,1.0420563220977783,1.3752264976501465,1.7250502109527588,1.2970130443572998,1.475039005279541,1.008066177368164,1.0768883228302002,-0.055991172790527344,1.5800509452819824,1.685783863067627,0.3650040626525879,0.8612821102142334,1.4295949935913086,1.0180978775024414,0.3650040626525879,1.389653205871582,1.1043331623077393,0.7753643989562988,1.4305682182312012,1.218456506729126,0.028187274932861328,0.23975419998168945,1.5559227466583252,0.7373690605163574,1.369816541671753,1.3322300910949707,1.3215248584747314,1.430396556854248,1.008066177368164,1.3100757598876953,1.257617473602295,0.45551347732543945,0.6804795265197754,0.6138558387756348,1.8134644031524658,0.5394468307495117,0.6464321613311768,1.4458231925964355,1.3519225120544434,0.5398671627044678,1.1744134426116943,1.5062716007232666,0.7241859436035156,1.4457292556762695,0.9709148406982422,0.9393348693847656,0.4522242546081543,1.2902820110321045,0.9464190006256104,0.6232540607452393,1.6007061004638672,0.465151309967041,1.6820008754730225,1.7793307304382324,0.6929926872253418,1.4170746803283691,0.6265597343444824,0.20223331451416016,1.584773063659668,1.6936876773834229,0.8744115829467773,0.6367025375366211,1.147937536239624,0.3599357604980469,0.6339430809020996,-0.06992626190185547,0.7299864292144775,1.2998712062835693,0.7343096733093262,0.14750361442565918,0.7508766651153564,0.7803604602813721,1.573387861251831,0.7012953758239746,1.0436770915985107,0.08248090744018555,1.7377736568450928,-0.1471419334411621,0.05300283432006836,1.10978364944458,0.5171706676483154,0.2622842788696289,0.3650040626525879,1.0441415309906006,0.31331515312194824,1.5698726177215576,0.6265597343444824,0.14834928512573242,1.501037359237671,-0.021054744720458984,0.31331515312194824,0.8106100559234619,-0.12158656120300293,1.6138746738433838,0.5869531631469727,0.9184939861297607,0.31331515312194824,1.6920819282531738,0.8009438514709473,0.8580317497253418,0.6804795265197754,1.697509765625,0.07616615295410156,0.6265597343444824,0.6497442722320557,0.5833535194396973,0.6497442722320557,1.1256177425384521,1.2198905944824219,0.6902053356170654,1.1842238903045654,0.14834928512573242,0.14750361442565918,0.08248090744018555,0.6265597343444824,-0.2149496078491211,0.7389669418334961,1.6215229034423828,0.6497442722320557,0.23975419998168945,0.32422828674316406,1.7242226600646973,1.1093966960906982,1.4295949935913086,0.5179686546325684,0.7803604602813721,-0.13437867164611816,-0.028937578201293945,1.4694397449493408,0.6497442722320557,1.407088041305542,-0.2149496078491211,0.6804795265197754,0.1584455966949463,1.2376413345336914,0.6444323062896729,0.3650040626525879,1.008066177368164,0.19743871688842773,0.7509403228759766,-0.00969839096069336,0.6717896461486816,1.1054089069366455,1.008066177368164,0.962548017501831,0.7787497043609619,1.1925365924835205,0.9985435009002686,-0.1051187515258789,0.7389669418334961,0.4971883296966553,0.3650040626525879,0.013299942016601562,0.31331515312194824,0.05855894088745117,0.7803604602813721,1.5644423961639404,1.008066177368164,0.6139414310455322,1.4636244773864746,0.028187274932861328,0.31331515312194824,-0.06992626190185547,1.5990345478057861,0.5336410999298096,0.3599357604980469,0.05227375030517578,0.6265597343444824,0.31331515312194824,0.31331515312194824,0.6497442722320557,-0.18184423446655273,0.3745856285095215,-0.06992626190185547,0.5336410999298096,0.1584455966949463,0.028187274932861328,0.6162300109863281,1.008066177368164,1.4295949935913086,0.8350794315338135,0.6497442722320557,0.07616615295410156,0.6804795265197754,0.05300283432006836,1.008066177368164,0.8706448078155518,0.7135012149810791,0.7047731876373291,0.6537489891052246,-0.0013799667358398438,0.6497442722320557,0.6265597343444824,1.008066177368164,0.612816572189331,0.15845942497253418,0.4517076015472412,0.31331515312194824,0.31331515312194824],\"type\":\"histogram\"}],                        {\"template\":{\"data\":{\"histogram2dcontour\":[{\"type\":\"histogram2dcontour\",\"colorbar\":{\"outlinewidth\":0,\"ticks\":\"\"},\"colorscale\":[[0.0,\"#0d0887\"],[0.1111111111111111,\"#46039f\"],[0.2222222222222222,\"#7201a8\"],[0.3333333333333333,\"#9c179e\"],[0.4444444444444444,\"#bd3786\"],[0.5555555555555556,\"#d8576b\"],[0.6666666666666666,\"#ed7953\"],[0.7777777777777778,\"#fb9f3a\"],[0.8888888888888888,\"#fdca26\"],[1.0,\"#f0f921\"]]}],\"choropleth\":[{\"type\":\"choropleth\",\"colorbar\":{\"outlinewidth\":0,\"ticks\":\"\"}}],\"histogram2d\":[{\"type\":\"histogram2d\",\"colorbar\":{\"outlinewidth\":0,\"ticks\":\"\"},\"colorscale\":[[0.0,\"#0d0887\"],[0.1111111111111111,\"#46039f\"],[0.2222222222222222,\"#7201a8\"],[0.3333333333333333,\"#9c179e\"],[0.4444444444444444,\"#bd3786\"],[0.5555555555555556,\"#d8576b\"],[0.6666666666666666,\"#ed7953\"],[0.7777777777777778,\"#fb9f3a\"],[0.8888888888888888,\"#fdca26\"],[1.0,\"#f0f921\"]]}],\"heatmap\":[{\"type\":\"heatmap\",\"colorbar\":{\"outlinewidth\":0,\"ticks\":\"\"},\"colorscale\":[[0.0,\"#0d0887\"],[0.1111111111111111,\"#46039f\"],[0.2222222222222222,\"#7201a8\"],[0.3333333333333333,\"#9c179e\"],[0.4444444444444444,\"#bd3786\"],[0.5555555555555556,\"#d8576b\"],[0.6666666666666666,\"#ed7953\"],[0.7777777777777778,\"#fb9f3a\"],[0.8888888888888888,\"#fdca26\"],[1.0,\"#f0f921\"]]}],\"heatmapgl\":[{\"type\":\"heatmapgl\",\"colorbar\":{\"outlinewidth\":0,\"ticks\":\"\"},\"colorscale\":[[0.0,\"#0d0887\"],[0.1111111111111111,\"#46039f\"],[0.2222222222222222,\"#7201a8\"],[0.3333333333333333,\"#9c179e\"],[0.4444444444444444,\"#bd3786\"],[0.5555555555555556,\"#d8576b\"],[0.6666666666666666,\"#ed7953\"],[0.7777777777777778,\"#fb9f3a\"],[0.8888888888888888,\"#fdca26\"],[1.0,\"#f0f921\"]]}],\"contourcarpet\":[{\"type\":\"contourcarpet\",\"colorbar\":{\"outlinewidth\":0,\"ticks\":\"\"}}],\"contour\":[{\"type\":\"contour\",\"colorbar\":{\"outlinewidth\":0,\"ticks\":\"\"},\"colorscale\":[[0.0,\"#0d0887\"],[0.1111111111111111,\"#46039f\"],[0.2222222222222222,\"#7201a8\"],[0.3333333333333333,\"#9c179e\"],[0.4444444444444444,\"#bd3786\"],[0.5555555555555556,\"#d8576b\"],[0.6666666666666666,\"#ed7953\"],[0.7777777777777778,\"#fb9f3a\"],[0.8888888888888888,\"#fdca26\"],[1.0,\"#f0f921\"]]}],\"surface\":[{\"type\":\"surface\",\"colorbar\":{\"outlinewidth\":0,\"ticks\":\"\"},\"colorscale\":[[0.0,\"#0d0887\"],[0.1111111111111111,\"#46039f\"],[0.2222222222222222,\"#7201a8\"],[0.3333333333333333,\"#9c179e\"],[0.4444444444444444,\"#bd3786\"],[0.5555555555555556,\"#d8576b\"],[0.6666666666666666,\"#ed7953\"],[0.7777777777777778,\"#fb9f3a\"],[0.8888888888888888,\"#fdca26\"],[1.0,\"#f0f921\"]]}],\"mesh3d\":[{\"type\":\"mesh3d\",\"colorbar\":{\"outlinewidth\":0,\"ticks\":\"\"}}],\"scatter\":[{\"fillpattern\":{\"fillmode\":\"overlay\",\"size\":10,\"solidity\":0.2},\"type\":\"scatter\"}],\"parcoords\":[{\"type\":\"parcoords\",\"line\":{\"colorbar\":{\"outlinewidth\":0,\"ticks\":\"\"}}}],\"scatterpolargl\":[{\"type\":\"scatterpolargl\",\"marker\":{\"colorbar\":{\"outlinewidth\":0,\"ticks\":\"\"}}}],\"bar\":[{\"error_x\":{\"color\":\"#2a3f5f\"},\"error_y\":{\"color\":\"#2a3f5f\"},\"marker\":{\"line\":{\"color\":\"#E5ECF6\",\"width\":0.5},\"pattern\":{\"fillmode\":\"overlay\",\"size\":10,\"solidity\":0.2}},\"type\":\"bar\"}],\"scattergeo\":[{\"type\":\"scattergeo\",\"marker\":{\"colorbar\":{\"outlinewidth\":0,\"ticks\":\"\"}}}],\"scatterpolar\":[{\"type\":\"scatterpolar\",\"marker\":{\"colorbar\":{\"outlinewidth\":0,\"ticks\":\"\"}}}],\"histogram\":[{\"marker\":{\"pattern\":{\"fillmode\":\"overlay\",\"size\":10,\"solidity\":0.2}},\"type\":\"histogram\"}],\"scattergl\":[{\"type\":\"scattergl\",\"marker\":{\"colorbar\":{\"outlinewidth\":0,\"ticks\":\"\"}}}],\"scatter3d\":[{\"type\":\"scatter3d\",\"line\":{\"colorbar\":{\"outlinewidth\":0,\"ticks\":\"\"}},\"marker\":{\"colorbar\":{\"outlinewidth\":0,\"ticks\":\"\"}}}],\"scattermapbox\":[{\"type\":\"scattermapbox\",\"marker\":{\"colorbar\":{\"outlinewidth\":0,\"ticks\":\"\"}}}],\"scatterternary\":[{\"type\":\"scatterternary\",\"marker\":{\"colorbar\":{\"outlinewidth\":0,\"ticks\":\"\"}}}],\"scattercarpet\":[{\"type\":\"scattercarpet\",\"marker\":{\"colorbar\":{\"outlinewidth\":0,\"ticks\":\"\"}}}],\"carpet\":[{\"aaxis\":{\"endlinecolor\":\"#2a3f5f\",\"gridcolor\":\"white\",\"linecolor\":\"white\",\"minorgridcolor\":\"white\",\"startlinecolor\":\"#2a3f5f\"},\"baxis\":{\"endlinecolor\":\"#2a3f5f\",\"gridcolor\":\"white\",\"linecolor\":\"white\",\"minorgridcolor\":\"white\",\"startlinecolor\":\"#2a3f5f\"},\"type\":\"carpet\"}],\"table\":[{\"cells\":{\"fill\":{\"color\":\"#EBF0F8\"},\"line\":{\"color\":\"white\"}},\"header\":{\"fill\":{\"color\":\"#C8D4E3\"},\"line\":{\"color\":\"white\"}},\"type\":\"table\"}],\"barpolar\":[{\"marker\":{\"line\":{\"color\":\"#E5ECF6\",\"width\":0.5},\"pattern\":{\"fillmode\":\"overlay\",\"size\":10,\"solidity\":0.2}},\"type\":\"barpolar\"}],\"pie\":[{\"automargin\":true,\"type\":\"pie\"}]},\"layout\":{\"autotypenumbers\":\"strict\",\"colorway\":[\"#636efa\",\"#EF553B\",\"#00cc96\",\"#ab63fa\",\"#FFA15A\",\"#19d3f3\",\"#FF6692\",\"#B6E880\",\"#FF97FF\",\"#FECB52\"],\"font\":{\"color\":\"#2a3f5f\"},\"hovermode\":\"closest\",\"hoverlabel\":{\"align\":\"left\"},\"paper_bgcolor\":\"white\",\"plot_bgcolor\":\"#E5ECF6\",\"polar\":{\"bgcolor\":\"#E5ECF6\",\"angularaxis\":{\"gridcolor\":\"white\",\"linecolor\":\"white\",\"ticks\":\"\"},\"radialaxis\":{\"gridcolor\":\"white\",\"linecolor\":\"white\",\"ticks\":\"\"}},\"ternary\":{\"bgcolor\":\"#E5ECF6\",\"aaxis\":{\"gridcolor\":\"white\",\"linecolor\":\"white\",\"ticks\":\"\"},\"baxis\":{\"gridcolor\":\"white\",\"linecolor\":\"white\",\"ticks\":\"\"},\"caxis\":{\"gridcolor\":\"white\",\"linecolor\":\"white\",\"ticks\":\"\"}},\"coloraxis\":{\"colorbar\":{\"outlinewidth\":0,\"ticks\":\"\"}},\"colorscale\":{\"sequential\":[[0.0,\"#0d0887\"],[0.1111111111111111,\"#46039f\"],[0.2222222222222222,\"#7201a8\"],[0.3333333333333333,\"#9c179e\"],[0.4444444444444444,\"#bd3786\"],[0.5555555555555556,\"#d8576b\"],[0.6666666666666666,\"#ed7953\"],[0.7777777777777778,\"#fb9f3a\"],[0.8888888888888888,\"#fdca26\"],[1.0,\"#f0f921\"]],\"sequentialminus\":[[0.0,\"#0d0887\"],[0.1111111111111111,\"#46039f\"],[0.2222222222222222,\"#7201a8\"],[0.3333333333333333,\"#9c179e\"],[0.4444444444444444,\"#bd3786\"],[0.5555555555555556,\"#d8576b\"],[0.6666666666666666,\"#ed7953\"],[0.7777777777777778,\"#fb9f3a\"],[0.8888888888888888,\"#fdca26\"],[1.0,\"#f0f921\"]],\"diverging\":[[0,\"#8e0152\"],[0.1,\"#c51b7d\"],[0.2,\"#de77ae\"],[0.3,\"#f1b6da\"],[0.4,\"#fde0ef\"],[0.5,\"#f7f7f7\"],[0.6,\"#e6f5d0\"],[0.7,\"#b8e186\"],[0.8,\"#7fbc41\"],[0.9,\"#4d9221\"],[1,\"#276419\"]]},\"xaxis\":{\"gridcolor\":\"white\",\"linecolor\":\"white\",\"ticks\":\"\",\"title\":{\"standoff\":15},\"zerolinecolor\":\"white\",\"automargin\":true,\"zerolinewidth\":2},\"yaxis\":{\"gridcolor\":\"white\",\"linecolor\":\"white\",\"ticks\":\"\",\"title\":{\"standoff\":15},\"zerolinecolor\":\"white\",\"automargin\":true,\"zerolinewidth\":2},\"scene\":{\"xaxis\":{\"backgroundcolor\":\"#E5ECF6\",\"gridcolor\":\"white\",\"linecolor\":\"white\",\"showbackground\":true,\"ticks\":\"\",\"zerolinecolor\":\"white\",\"gridwidth\":2},\"yaxis\":{\"backgroundcolor\":\"#E5ECF6\",\"gridcolor\":\"white\",\"linecolor\":\"white\",\"showbackground\":true,\"ticks\":\"\",\"zerolinecolor\":\"white\",\"gridwidth\":2},\"zaxis\":{\"backgroundcolor\":\"#E5ECF6\",\"gridcolor\":\"white\",\"linecolor\":\"white\",\"showbackground\":true,\"ticks\":\"\",\"zerolinecolor\":\"white\",\"gridwidth\":2}},\"shapedefaults\":{\"line\":{\"color\":\"#2a3f5f\"}},\"annotationdefaults\":{\"arrowcolor\":\"#2a3f5f\",\"arrowhead\":0,\"arrowwidth\":1},\"geo\":{\"bgcolor\":\"white\",\"landcolor\":\"#E5ECF6\",\"subunitcolor\":\"white\",\"showland\":true,\"showlakes\":true,\"lakecolor\":\"white\"},\"title\":{\"x\":0.05},\"mapbox\":{\"style\":\"light\"}}},\"title\":{\"text\":\"Distribution of Difference In Nuclear Norms - DGI vs DGI+XM\"},\"xaxis\":{\"title\":{\"text\":\"Difference In Nuclear Norms - DGI vs DGI+XM\"}},\"yaxis\":{\"title\":{\"text\":\"Frequency\"}},\"font\":{\"size\":30},\"plot_bgcolor\":\"white\",\"paper_bgcolor\":\"white\"},                        {\"responsive\": true}                    ).then(function(){\n",
       "                            \n",
       "var gd = document.getElementById('a2243b21-316a-4572-b28e-bdacdf520626');\n",
       "var x = new MutationObserver(function (mutations, observer) {{\n",
       "        var display = window.getComputedStyle(gd).display;\n",
       "        if (!display || display === 'none') {{\n",
       "            console.log([gd, 'removed!']);\n",
       "            Plotly.purge(gd);\n",
       "            observer.disconnect();\n",
       "        }}\n",
       "}});\n",
       "\n",
       "// Listen for the removal of the full notebook cells\n",
       "var notebookContainer = gd.closest('#notebook-container');\n",
       "if (notebookContainer) {{\n",
       "    x.observe(notebookContainer, {childList: true});\n",
       "}}\n",
       "\n",
       "// Listen for the clearing of the current output cell\n",
       "var outputEl = gd.closest('.output');\n",
       "if (outputEl) {{\n",
       "    x.observe(outputEl, {childList: true});\n",
       "}}\n",
       "\n",
       "                        })                };                });            </script>        </div>"
      ]
     },
     "metadata": {},
     "output_type": "display_data"
    }
   ],
   "source": [
    "diff = np.array(norm_og) - np.array(norm_plus)\n",
    "fig = go.Figure()\n",
    "fig.add_trace(go.Histogram(x = diff))\n",
    "fig.update_layout(title_text = 'Distribution of Difference In Nuclear Norms - DGI vs DGI+XM', \n",
    "                  xaxis_title_text = 'Difference In Nuclear Norms - DGI vs DGI+XM', \n",
    "                  yaxis_title_text = 'Frequency', \n",
    "                  plot_bgcolor = 'white', \n",
    "                  paper_bgcolor = 'white', \n",
    "                  font = dict(size = 30))\n",
    "fig.show()"
   ]
  },
  {
   "cell_type": "code",
   "execution_count": 68,
   "id": "93328992",
   "metadata": {},
   "outputs": [
    {
     "data": {
      "application/vnd.plotly.v1+json": {
       "config": {
        "plotlyServerURL": "https://plot.ly"
       },
       "data": [
        {
         "name": "DGI",
         "type": "histogram",
         "x": [
          4.279569625854492,
          4.579095363616943,
          4.409626483917236,
          4.638545989990234,
          4.228288650512695,
          4.275597095489502,
          3.9354910850524902,
          4.293959617614746,
          5.324033737182617,
          4.186145305633545,
          5.491784572601318,
          4.291988849639893,
          4.605759620666504,
          3.7129576206207275,
          4.501705646514893,
          4.599106788635254,
          4.205964088439941,
          4.818454742431641,
          4.898194313049316,
          4.964322566986084,
          4.830564975738525,
          4.927132606506348,
          5.681216716766357,
          5.055230617523193,
          4.404029846191406,
          5.026896953582764,
          4.910809516906738,
          4.27993106842041,
          5.156661033630371,
          4.941669464111328,
          4.914432048797607,
          5.153285980224609,
          5.127921104431152,
          5.023975849151611,
          5.1796183586120605,
          4.924367904663086,
          5.750550270080566,
          4.16697883605957,
          4.5493669509887695,
          5.3727946281433105,
          4.167474269866943,
          4.767511367797852,
          5.2228007316589355,
          5.305673122406006,
          4.8297810554504395,
          4.526143550872803,
          5.19375467300415,
          5.185927391052246,
          4.529231071472168,
          4.855956554412842,
          5.207589149475098,
          4.156779766082764,
          4.805805206298828,
          5.2815070152282715,
          4.651358604431152,
          4.927113056182861,
          4.352749824523926,
          4.026706218719482,
          4.664699554443359,
          4.272309303283691,
          4.5092668533325195,
          3.8382508754730225,
          3.60391902923584,
          4.059576988220215,
          3.887766122817993,
          3.8692209720611572,
          3.9834532737731934,
          6.729214668273926,
          6.064792633056641,
          4.5974321365356445,
          4.912155628204346,
          4.7655930519104,
          6.02191162109375,
          5.067790508270264,
          3.911790609359741,
          5.12301778793335,
          4.994035720825195,
          6.293165683746338,
          5.999434471130371,
          4.821508884429932,
          4.867053985595703,
          5.161618232727051,
          3.55180287361145,
          4.842259883880615,
          3.48068904876709,
          3.927741527557373,
          3.5452914237976074,
          4.52532434463501,
          4.757599830627441,
          3.973238945007324,
          6.353061199188232,
          4.586291313171387,
          3.961559295654297,
          4.574326515197754,
          4.8744730949401855,
          5.0805535316467285,
          3.8162190914154053,
          4.534800052642822,
          5.064919471740723,
          5.409999370574951,
          4.309154510498047,
          4.575142860412598,
          4.728612422943115,
          4.606991291046143,
          4.659017562866211,
          4.739871501922607,
          4.598519802093506,
          3.7435719966888428,
          4.233297824859619,
          6.914321422576904,
          4.49730920791626,
          4.3307695388793945,
          4.558182239532471,
          4.039212226867676,
          4.579047679901123,
          4.439802169799805,
          4.34183931350708,
          5.692380428314209,
          5.258859157562256,
          5.309543609619141,
          4.6432576179504395,
          3.8738181591033936,
          4.65172004699707,
          4.650468826293945,
          4.226925849914551,
          4.772855758666992,
          4.879189968109131,
          5.8977179527282715,
          4.756350040435791,
          4.6019978523254395,
          4.65339469909668,
          4.495103359222412,
          5.535385608673096,
          4.057403564453125,
          4.279421806335449,
          5.360777854919434,
          5.039489269256592,
          4.834825038909912,
          5.242419719696045,
          4.477686405181885,
          4.554553508758545,
          4.170804500579834,
          4.494736194610596,
          4.824954986572266,
          5.86961555480957,
          5.328538417816162,
          4.805960655212402,
          6.091139316558838,
          4.899828910827637,
          4.639420986175537,
          5.006414413452148,
          5.146755695343018,
          5.3609724044799805,
          5.5860724449157715,
          5.834081172943115,
          3.856809377670288,
          4.94954776763916,
          3.664163827896118,
          4.594921112060547,
          5.00921106338501,
          3.05267596244812,
          5.109985828399658,
          4.033538818359375,
          4.415829658508301,
          4.018744468688965,
          4.597123146057129,
          3.4224586486816406,
          3.755305767059326,
          4.37840461730957,
          5.012500286102295,
          4.439435958862305,
          5.330455780029297,
          4.696809768676758,
          4.648816108703613,
          4.681507110595703,
          5.741476058959961,
          4.5241780281066895,
          4.3465895652771,
          4.53114128112793,
          4.486847400665283,
          4.116900444030762,
          4.291105270385742,
          4.026034832000732,
          4.567465782165527,
          5.071308612823486,
          3.957589864730835,
          5.364683151245117,
          6.272305965423584,
          6.398656845092773,
          3.7866175174713135,
          6.624736785888672,
          4.361968994140625,
          4.766379356384277,
          4.621971130371094,
          4.498577117919922,
          4.977285861968994,
          5.061665058135986,
          5.42039155960083,
          4.772525787353516,
          4.662827491760254,
          5.22019624710083,
          5.279742240905762,
          5.883005619049072,
          5.720228672027588,
          4.968764305114746,
          4.8864312171936035,
          4.344324111938477,
          5.299741744995117,
          4.441754341125488,
          4.548769950866699,
          5.797996520996094,
          3.710524797439575,
          4.002469062805176,
          3.864901065826416,
          5.290233612060547,
          4.76570463180542,
          5.53088903427124,
          4.737146854400635,
          4.479912757873535,
          7.143251895904541,
          6.103571891784668,
          5.010492324829102,
          4.638803005218506,
          5.229062080383301,
          6.504624843597412,
          5.501873016357422,
          5.082427978515625,
          5.382488250732422,
          5.738163948059082,
          4.880362510681152,
          5.869956970214844,
          4.485389232635498,
          4.294961929321289,
          5.276082992553711,
          4.64471960067749,
          5.423440933227539,
          5.64556884765625,
          4.730010032653809,
          4.377359867095947,
          6.226199626922607,
          5.133866310119629,
          4.923015594482422,
          5.138213634490967,
          4.448130130767822,
          5.755338668823242,
          4.618899345397949,
          4.821728229522705,
          4.908332347869873,
          4.836246967315674,
          5.024205684661865,
          5.256649971008301,
          5.215420246124268,
          4.322909832000732,
          5.97407865524292,
          4.869767665863037,
          5.646909713745117,
          4.471277236938477,
          4.900854110717773,
          3.9981372356414795,
          4.775053024291992,
          5.170467853546143,
          4.965698719024658,
          4.418625831604004,
          4.6698899269104,
          4.736721515655518,
          4.127767562866211,
          4.421655178070068,
          4.6541008949279785,
          5.73629093170166,
          4.956781387329102,
          5.260077476501465,
          4.5450053215026855,
          3.9258840084075928,
          4.80056619644165,
          5.202147960662842,
          4.611384868621826,
          5.283848762512207,
          4.968672752380371,
          4.735548496246338,
          5.693391799926758,
          5.299230098724365,
          4.701179027557373,
          3.935027837753296,
          4.103835105895996,
          4.151254653930664,
          4.309629440307617,
          4.808852195739746,
          5.778831958770752,
          4.512828826904297,
          5.634243011474609,
          4.989858150482178,
          4.651910305023193,
          5.701602458953857,
          5.290311336517334,
          4.949485778808594,
          3.4855337142944336,
          4.643620014190674,
          4.954345226287842,
          5.546082019805908,
          4.359971046447754,
          4.731781005859375,
          3.864189624786377,
          6.278447151184082,
          4.755232334136963,
          4.831831932067871,
          3.705177068710327,
          5.096366882324219,
          4.805602550506592,
          4.854948043823242,
          3.7604763507843018,
          5.574834823608398,
          5.09205961227417,
          5.482581615447998,
          4.456267833709717,
          5.324469566345215,
          6.294798851013184,
          4.184067249298096,
          4.627254962921143,
          4.8658599853515625,
          4.29538106918335,
          4.594916343688965,
          4.574138164520264,
          4.118048667907715,
          4.526113510131836,
          5.103762626647949,
          5.188375949859619,
          5.904471397399902,
          5.885080814361572,
          5.229323863983154,
          4.689753532409668,
          5.028468608856201,
          4.550163745880127,
          4.8533616065979,
          4.672303676605225,
          4.532804489135742,
          4.084339141845703,
          5.306138038635254,
          6.016018867492676,
          4.517065525054932,
          4.465526580810547,
          3.4815640449523926,
          4.7303667068481445,
          4.112163066864014,
          4.974093914031982,
          5.490406036376953,
          4.996304988861084,
          6.003651142120361,
          5.256044864654541,
          3.9423670768737793,
          4.504363059997559,
          4.756580829620361,
          4.719089508056641,
          5.046947002410889,
          4.105766773223877,
          4.264102458953857,
          5.884435653686523,
          5.818877220153809,
          5.859018802642822,
          4.403363227844238,
          4.365296840667725,
          4.822033405303955,
          5.404109477996826,
          4.968662738800049,
          4.976248264312744,
          6.611584663391113,
          4.209259986877441,
          3.797276258468628,
          5.987658500671387,
          5.044712543487549,
          5.1046319007873535,
          4.58765172958374,
          5.5757904052734375,
          5.791886806488037,
          4.149177551269531,
          4.856633186340332,
          4.271463394165039,
          4.472843647003174,
          3.802123785018921,
          4.5944671630859375,
          3.718810796737671,
          4.56365966796875,
          4.892693519592285,
          4.315855503082275,
          4.163957118988037,
          5.1860175132751465,
          4.459451675415039,
          5.429830551147461,
          3.8599045276641846,
          4.857041358947754,
          4.194821834564209,
          4.535262584686279,
          4.798346519470215,
          4.524326324462891,
          4.372527599334717,
          4.673945426940918,
          4.953714370727539,
          4.274409294128418,
          4.698660373687744,
          4.218301296234131,
          5.919068336486816,
          5.891977310180664,
          4.257936000823975,
          4.558935165405273,
          5.340629577636719,
          4.824068546295166,
          4.377928733825684,
          4.880515098571777,
          5.0343475341796875,
          4.63041877746582,
          3.825978994369507,
          5.40444278717041,
          4.394007205963135,
          3.7809906005859375,
          5.038820743560791,
          3.1214468479156494,
          4.421154022216797,
          5.753824234008789,
          4.751428604125977,
          5.6746649742126465,
          3.7603652477264404,
          3.197984457015991,
          3.6425678730010986,
          5.433391094207764,
          5.381536960601807,
          4.326054573059082,
          4.008825302124023,
          4.820340633392334,
          5.0903639793396,
          4.7686076164245605,
          4.911996841430664,
          4.592187881469727,
          5.845571994781494,
          4.09160041809082,
          4.124433517456055,
          4.539077281951904,
          4.7190728187561035,
          4.224370002746582,
          4.569591999053955,
          4.81165885925293,
          4.172995567321777,
          4.254850387573242,
          5.097258567810059,
          4.819765567779541,
          4.228271484375,
          5.158123970031738,
          6.042656898498535,
          4.840930461883545,
          4.1935343742370605,
          4.207469463348389,
          3.8646953105926514,
          4.144224643707275,
          5.19850492477417,
          4.829042434692383,
          5.792688846588135,
          5.986275672912598,
          4.263575077056885,
          4.051702976226807,
          5.496419429779053,
          5.113766193389893,
          4.113523483276367,
          4.134222507476807,
          4.462272644042969,
          4.97911262512207,
          4.729527950286865,
          4.21065092086792,
          5.300086498260498,
          3.6489055156707764,
          6.417081356048584,
          6.685491561889648,
          5.184072017669678,
          4.859785079956055,
          6.802414417266846,
          4.978085517883301,
          4.291675090789795,
          4.727667331695557,
          5.112776756286621,
          4.317080974578857,
          4.237591743469238,
          4.381950378417969,
          5.232969760894775,
          4.779510974884033,
          4.8947553634643555,
          4.183424472808838,
          4.63920259475708,
          6.038740634918213,
          4.405237197875977,
          4.038974285125732,
          4.588498592376709,
          4.639388561248779,
          5.855462074279785,
          5.918980121612549,
          4.434224605560303,
          6.577600479125977,
          4.7443084716796875,
          3.6134936809539795,
          5.18562126159668,
          5.281128406524658,
          5.5957512855529785,
          3.47157883644104,
          4.02570104598999,
          4.791134357452393,
          5.79925537109375,
          5.067066669464111,
          4.891833305358887,
          4.745570182800293,
          5.484343528747559,
          4.217753887176514,
          5.448061466217041,
          5.4558587074279785,
          4.28444766998291,
          5.285140514373779,
          4.374379634857178,
          5.907328128814697,
          4.179455757141113,
          4.536015033721924,
          4.482752323150635,
          5.568669319152832,
          5.039801597595215,
          4.367556095123291,
          4.7551398277282715,
          4.7602620124816895,
          4.293050289154053,
          4.5500335693359375,
          4.061182975769043,
          5.073042869567871,
          4.113018989562988,
          4.254309177398682,
          5.146983623504639,
          5.34474515914917,
          4.882015228271484,
          5.366619110107422,
          5.871092319488525,
          5.047576427459717,
          3.9998764991760254,
          5.296966075897217,
          5.543905735015869,
          5.381303787231445,
          4.123353004455566,
          5.0481109619140625,
          6.053646087646484,
          6.080319881439209,
          5.418217182159424,
          4.977817058563232,
          5.175043106079102,
          5.811149597167969,
          4.992081642150879,
          3.8452231884002686,
          5.213453769683838,
          5.906709671020508,
          4.152960777282715,
          5.788097381591797,
          6.24216365814209,
          5.123890399932861,
          4.287868976593018,
          5.337599754333496,
          5.44389533996582,
          5.894744873046875,
          6.535940170288086,
          4.334710597991943,
          5.678207874298096,
          4.246706008911133,
          4.837642192840576,
          4.466463088989258,
          4.844420909881592,
          4.4046244621276855,
          4.617839336395264,
          4.593965530395508,
          4.49884033203125,
          5.447669506072998,
          4.427698612213135,
          4.718762397766113,
          5.509740352630615,
          5.156614303588867,
          4.832634449005127,
          4.8993611335754395,
          5.428445339202881,
          7.173381805419922,
          5.171313762664795,
          4.580604076385498,
          4.673172950744629,
          4.522027969360352,
          6.320634841918945,
          4.548776626586914,
          4.330934047698975,
          5.152833461761475,
          5.43060302734375,
          5.424837112426758,
          5.1073527336120605,
          6.5585832595825195,
          5.143285274505615,
          6.254634857177734,
          3.854862689971924,
          4.504119396209717,
          4.869244575500488,
          5.108392238616943,
          5.590923309326172,
          4.971812725067139,
          4.224128246307373,
          5.2221808433532715,
          5.424560070037842,
          6.1180830001831055,
          5.154071807861328,
          3.8646953105926514,
          6.392354965209961,
          3.7278130054473877,
          5.711296558380127,
          5.38262414932251,
          4.6889262199401855,
          5.112381458282471,
          4.701155662536621,
          6.826344013214111,
          4.662619113922119,
          4.582083225250244,
          4.8163533210754395,
          4.1406073570251465,
          5.754725933074951,
          5.829885959625244,
          4.658000469207764,
          5.128903865814209,
          4.044811248779297,
          4.7814555168151855,
          4.638957500457764,
          4.61384391784668,
          5.247808456420898,
          4.953977584838867,
          5.411221981048584,
          5.392643928527832,
          4.305039405822754,
          5.6240668296813965,
          4.7238006591796875,
          4.569381237030029,
          4.361403942108154,
          4.327779293060303,
          5.001293659210205,
          4.074151515960693,
          4.514846324920654,
          4.435178756713867,
          5.759818077087402,
          4.827727794647217,
          4.93826150894165,
          6.110831260681152,
          5.354053974151611,
          5.734541893005371,
          5.28144645690918,
          4.111178874969482,
          6.660947322845459,
          5.4839863777160645,
          5.6658830642700195,
          4.697359561920166,
          6.407844543457031,
          4.188714981079102,
          4.733282089233398,
          5.663437843322754,
          5.095560550689697,
          3.990403413772583,
          4.154327392578125,
          5.254985332489014,
          5.259397029876709,
          5.136326789855957,
          5.391745090484619,
          5.394812107086182,
          5.643308639526367,
          5.920416355133057,
          4.6156511306762695,
          5.108677864074707,
          5.599982738494873,
          4.018076419830322,
          5.2252678871154785,
          5.611659049987793,
          3.9862823486328125,
          5.133649826049805,
          5.884828090667725,
          5.050970077514648,
          4.838813781738281,
          4.480902671813965,
          4.301691055297852,
          4.163071632385254,
          6.442378520965576,
          5.370072364807129,
          4.827178001403809,
          4.451376438140869,
          6.4021501541137695,
          5.705170154571533,
          4.9576096534729,
          5.42036771774292,
          5.074044704437256,
          4.575587749481201,
          4.135672092437744,
          4.265218257904053,
          4.759449005126953,
          4.386193752288818,
          4.837642192840576,
          4.115202903747559,
          4.047967433929443,
          5.8879594802856445,
          5.099596977233887,
          3.974909543991089,
          4.747241973876953,
          4.494384765625,
          5.386289119720459,
          5.410122394561768,
          4.516563415527344,
          5.803359031677246,
          5.750528812408447,
          3.9661476612091064,
          5.914483070373535,
          4.781752586364746,
          5.08250093460083,
          4.545019626617432,
          4.361869812011719,
          5.252957344055176,
          4.286879539489746,
          4.364916801452637,
          4.602381706237793,
          6.3517937660217285,
          6.104701995849609,
          5.297425270080566,
          6.720789432525635,
          4.909662246704102,
          4.076211452484131,
          5.194628715515137,
          4.725018501281738,
          5.416950702667236,
          4.723845958709717,
          4.529714584350586,
          7.108734130859375,
          6.261729717254639,
          4.419886589050293,
          4.510989665985107,
          4.680734634399414,
          4.924129486083984,
          5.535951137542725,
          6.012870788574219,
          6.458317756652832,
          5.47459077835083,
          4.928055286407471,
          5.917491436004639,
          4.561383247375488,
          4.703085899353027,
          4.983809947967529,
          5.092159271240234,
          4.496735572814941,
          5.693575859069824,
          5.185630798339844,
          5.669586181640625,
          5.931362152099609,
          4.962329864501953,
          3.9661476612091064,
          5.29180908203125,
          5.149318218231201,
          3.868948221206665,
          6.234004974365234,
          4.232892036437988,
          5.301275730133057,
          4.918208122253418,
          5.652713298797607,
          4.6716437339782715,
          5.047514915466309,
          4.405393600463867,
          4.9482951164245605,
          5.195024013519287,
          6.313286304473877,
          6.354790210723877,
          4.858805179595947,
          5.5893378257751465,
          4.2776923179626465,
          5.9162917137146,
          4.624129295349121,
          5.087411403656006,
          5.185297012329102,
          5.368229866027832,
          4.487443447113037,
          5.196548938751221,
          5.066145896911621,
          5.732659339904785,
          3.940488815307617,
          4.877368927001953,
          4.851690769195557,
          5.147034645080566,
          4.547316074371338,
          5.484347343444824,
          5.402341365814209,
          6.156218528747559,
          3.96453857421875,
          4.526906967163086,
          4.82587194442749,
          4.863509654998779,
          4.922319412231445,
          4.536284923553467,
          6.06788969039917,
          4.601842880249023,
          4.649910926818848,
          5.281433582305908,
          4.01811408996582,
          4.624645233154297,
          5.112659931182861,
          5.027634620666504,
          4.839775562286377,
          5.211280345916748,
          6.624240398406982,
          5.17636251449585,
          4.147845268249512,
          4.344496726989746,
          4.823634624481201,
          4.911431789398193,
          5.45638370513916,
          4.463775157928467,
          4.771598815917969,
          4.861912250518799,
          5.627389430999756,
          5.74315071105957,
          5.460329532623291,
          5.482534408569336,
          4.843344211578369,
          4.886623859405518,
          3.960165500640869,
          5.395785808563232,
          4.826693058013916,
          4.047967433929443,
          4.290738582611084,
          5.54733943939209,
          5.007029056549072,
          4.2771897315979,
          4.044063568115234,
          3.4755306243896484,
          5.057775497436523,
          4.93422794342041,
          4.226009368896484,
          4.8612189292907715,
          4.002475738525391,
          5.836146354675293,
          5.9950852394104,
          5.008498668670654,
          5.007803916931152,
          3.904103994369507,
          5.366563320159912,
          6.584250450134277,
          4.78268575668335,
          5.606168270111084,
          4.789797782897949,
          4.807511329650879,
          4.7164435386657715,
          5.186341285705566,
          4.55147123336792,
          5.499259948730469,
          4.789412021636963,
          4.387183666229248,
          5.070991516113281,
          6.153045654296875,
          6.007665157318115,
          4.800403594970703,
          3.812777280807495,
          5.303545951843262,
          6.431105136871338,
          4.101189613342285,
          3.812777280807495,
          4.848093509674072,
          4.426105499267578,
          6.84835958480835,
          4.340211868286133,
          5.4648332595825195,
          5.303155899047852,
          5.712841033935547,
          4.831722259521484,
          4.734029769897461,
          4.755037307739258,
          5.220533847808838,
          5.614326477050781,
          4.750688076019287,
          5.138465404510498,
          5.900949478149414,
          4.151766777038574,
          4.284362316131592,
          5.1610026359558105,
          3.6546363830566406,
          4.902822971343994,
          4.301952838897705,
          5.642801761627197,
          5.230652809143066,
          4.859752655029297,
          5.043868541717529,
          4.674276351928711,
          5.198379993438721,
          4.3631696701049805,
          3.7989680767059326,
          5.3487324714660645,
          4.226363658905029,
          6.16769552230835,
          4.847195148468018,
          5.123660087585449,
          5.594182968139648,
          5.200614929199219,
          4.1022186279296875,
          5.640154838562012,
          5.040504455566406,
          4.7647786140441895,
          5.051665782928467,
          3.8646953105926514,
          4.606324672698975,
          4.896233558654785,
          4.926925182342529,
          4.8461408615112305,
          5.255129337310791,
          4.276144504547119,
          5.052603721618652,
          5.898149490356445,
          4.645779132843018,
          4.603182315826416,
          4.712655067443848,
          4.983809947967529,
          4.733225345611572,
          4.221482753753662,
          4.663146495819092,
          4.385584354400635,
          4.712965965270996,
          5.883366584777832,
          5.049859046936035,
          4.670403003692627,
          4.386759281158447,
          5.148393630981445,
          5.758735656738281,
          3.9926798343658447,
          5.4499664306640625,
          5.501531600952148,
          5.763101577758789,
          5.044604778289795,
          4.562410354614258,
          5.244342803955078,
          4.27572774887085,
          4.933879375457764,
          4.605165004730225,
          3.727198839187622,
          4.931601524353027,
          5.139867305755615,
          4.254902362823486,
          4.934757232666016,
          4.739758491516113,
          5.989111423492432,
          4.9531168937683105,
          4.502477645874023,
          5.033965110778809,
          5.033965110778809,
          5.033965110778809,
          4.457758903503418,
          4.587743282318115,
          5.534940242767334,
          5.5988383293151855,
          3.890873670578003,
          4.874952793121338,
          4.455550193786621,
          4.291087627410889,
          6.805010795593262,
          3.9530022144317627,
          5.067660808563232,
          4.435433864593506,
          4.85110330581665,
          4.435433864593506,
          4.609895706176758,
          4.515817642211914,
          4.22506046295166,
          5.307859420776367,
          5.6870269775390625,
          4.609895706176758,
          5.198379993438721,
          4.309463024139404,
          5.659839630126953,
          4.950966835021973,
          4.996290683746338,
          4.455899715423584,
          4.303481101989746,
          4.601677417755127,
          5.145397663116455,
          4.703381538391113,
          3.976706027984619,
          5.508965015411377,
          5.616458415985107,
          3.7658703327178955,
          5.744014263153076,
          4.017886161804199,
          5.200614929199219,
          5.073667526245117,
          5.681215286254883,
          4.721949577331543,
          4.405393600463867,
          5.482534408569336,
          5.235674858093262
         ]
        },
        {
         "name": "DGI+XM",
         "type": "histogram",
         "x": [
          3.1594247817993164,
          3.5267536640167236,
          4.055210590362549,
          3.875370979309082,
          3.797447681427002,
          4.388496398925781,
          3.6915736198425293,
          3.9035568237304688,
          3.906841278076172,
          3.5130844116210938,
          3.911693572998047,
          3.8129701614379883,
          3.7542011737823486,
          3.793954372406006,
          3.8367562294006348,
          3.7222211360931396,
          3.330928325653076,
          4.271589756011963,
          3.6258833408355713,
          4.100464820861816,
          4.038522243499756,
          4.569378852844238,
          3.552446126937866,
          4.2171149253845215,
          3.7944765090942383,
          3.3432791233062744,
          3.5940487384796143,
          3.7603931427001953,
          4.402823448181152,
          3.7627980709075928,
          3.9160380363464355,
          3.723184823989868,
          3.7077834606170654,
          3.5615692138671875,
          3.7285428047180176,
          3.743443727493286,
          3.9676711559295654,
          3.2500083446502686,
          3.505577325820923,
          3.7036991119384766,
          3.554232358932495,
          3.9824280738830566,
          4.010078430175781,
          3.6137983798980713,
          4.426628589630127,
          3.6330392360687256,
          4.059028625488281,
          3.8243370056152344,
          3.702009916305542,
          3.354130506515503,
          3.5800936222076416,
          3.4475772380828857,
          3.5225114822387695,
          3.585930824279785,
          3.6838204860687256,
          3.7648098468780518,
          3.630934476852417,
          3.6105191707611084,
          4.197603225708008,
          3.6222012042999268,
          3.7222900390625,
          3.243515729904175,
          3.705465316772461,
          3.7998058795928955,
          3.794459819793701,
          3.672377824783325,
          3.1964316368103027,
          3.5378427505493164,
          4.280404090881348,
          4.040622711181641,
          3.060361862182617,
          3.4912314414978027,
          3.593799591064453,
          3.6508235931396484,
          3.498624324798584,
          3.4395787715911865,
          3.4310853481292725,
          4.1960673332214355,
          3.7276439666748047,
          3.5075385570526123,
          3.9341542720794678,
          4.5300703048706055,
          3.78511905670166,
          4.430651664733887,
          3.5962471961975098,
          3.0549960136413574,
          3.72697114944458,
          4.049964904785156,
          3.493032455444336,
          3.3483307361602783,
          4.1833086013793945,
          3.5893654823303223,
          3.2335100173950195,
          3.949599504470825,
          3.7310564517974854,
          3.7207894325256348,
          3.7619876861572266,
          3.533452033996582,
          3.627866744995117,
          3.8738203048706055,
          3.597801446914673,
          3.354952573776245,
          3.4105424880981445,
          3.5959315299987793,
          3.2413322925567627,
          4.204127788543701,
          4.31207275390625,
          3.9231014251708984,
          3.5105090141296387,
          3.5673470497131348,
          2.9918715953826904,
          2.6792240142822266,
          3.219858407974243,
          3.4488766193389893,
          4.224891662597656,
          3.999523639678955,
          3.6450157165527344,
          3.270488977432251,
          3.685701370239258,
          3.4396095275878906,
          2.852942705154419,
          4.00820255279541,
          3.282500982284546,
          3.2508885860443115,
          3.607055425643921,
          3.7502334117889404,
          3.503220796585083,
          3.7125022411346436,
          4.361685276031494,
          4.339061260223389,
          3.2968382835388184,
          3.599696397781372,
          4.145002841949463,
          3.488248109817505,
          3.405776262283325,
          3.7023863792419434,
          3.2831666469573975,
          4.215987682342529,
          3.686767816543579,
          3.51145601272583,
          3.743541717529297,
          3.7139804363250732,
          4.012228012084961,
          3.591468095779419,
          3.4868669509887695,
          4.10791540145874,
          3.3845138549804688,
          3.9709889888763428,
          3.4095442295074463,
          3.360879421234131,
          3.679839611053467,
          3.7244997024536133,
          4.15311336517334,
          3.7218596935272217,
          4.145279407501221,
          3.250322103500366,
          3.621476650238037,
          3.4857962131500244,
          3.6983776092529297,
          3.80249285697937,
          3.5189974308013916,
          3.774834156036377,
          3.303687334060669,
          3.3154988288879395,
          3.2280685901641846,
          4.185807228088379,
          3.3335421085357666,
          3.1726529598236084,
          3.641678810119629,
          4.228286266326904,
          3.8611693382263184,
          3.76662015914917,
          3.863271713256836,
          3.74786114692688,
          3.66867995262146,
          3.4064319133758545,
          3.3319664001464844,
          3.4887611865997314,
          3.5058207511901855,
          3.5382776260375977,
          3.523852825164795,
          3.7291884422302246,
          3.417834997177124,
          4.342468738555908,
          4.340556621551514,
          3.403926372528076,
          3.6135635375976562,
          4.295856952667236,
          4.275487422943115,
          3.5929665565490723,
          3.880878210067749,
          3.955418348312378,
          3.512840509414673,
          3.3625099658966064,
          3.596731185913086,
          3.6934568881988525,
          3.5454256534576416,
          3.8494722843170166,
          3.528913736343384,
          3.6383368968963623,
          3.846205949783325,
          3.9050099849700928,
          3.534123182296753,
          3.971268653869629,
          3.4967124462127686,
          3.5400843620300293,
          3.6924970149993896,
          3.5464508533477783,
          3.4002881050109863,
          4.081048011779785,
          4.503237724304199,
          3.593379020690918,
          3.3953182697296143,
          3.3340253829956055,
          3.9096269607543945,
          4.030709743499756,
          3.804577589035034,
          3.5532190799713135,
          3.804318904876709,
          4.0203704833984375,
          3.5584194660186768,
          3.8408024311065674,
          3.9071288108825684,
          3.9878878593444824,
          3.954617977142334,
          3.542468547821045,
          3.7377073764801025,
          3.3744661808013916,
          3.4293053150177,
          3.3899948596954346,
          3.4195914268493652,
          3.8581886291503906,
          3.882929563522339,
          4.165651798248291,
          3.8299150466918945,
          3.7643353939056396,
          4.105922222137451,
          3.5248873233795166,
          3.541416883468628,
          3.4869186878204346,
          3.5055091381073,
          3.4622347354888916,
          3.94626784324646,
          3.499558210372925,
          3.8165175914764404,
          3.5155045986175537,
          3.450336217880249,
          3.2921571731567383,
          3.542696714401245,
          4.563935279846191,
          3.7242636680603027,
          3.6753883361816406,
          4.01205587387085,
          4.032493591308594,
          3.8532023429870605,
          4.097735404968262,
          3.946828842163086,
          3.0644311904907227,
          3.5499424934387207,
          3.6163010597229004,
          3.586329936981201,
          3.696805000305176,
          3.403808832168579,
          3.649392604827881,
          3.6467206478118896,
          3.426913261413574,
          3.3813998699188232,
          3.378023386001587,
          4.025132656097412,
          4.234530925750732,
          2.911135196685791,
          3.7245991230010986,
          3.2836050987243652,
          3.6160528659820557,
          3.530181646347046,
          3.4794201850891113,
          3.0839364528656006,
          3.2441840171813965,
          3.6378443241119385,
          3.1394245624542236,
          4.635415554046631,
          3.679065704345703,
          3.5588133335113525,
          3.7307748794555664,
          3.1064202785491943,
          3.917349100112915,
          3.6469907760620117,
          3.7753498554229736,
          3.4199233055114746,
          3.1698381900787354,
          4.252953052520752,
          3.084907054901123,
          3.8899877071380615,
          3.5755114555358887,
          3.266043186187744,
          3.368589401245117,
          3.589996814727783,
          3.596522331237793,
          3.6099135875701904,
          3.400310754776001,
          3.9516122341156006,
          3.6911749839782715,
          3.6823220252990723,
          4.1356730461120605,
          3.2915472984313965,
          3.1998708248138428,
          3.9365618228912354,
          3.2906060218811035,
          3.1302900314331055,
          3.057034492492676,
          3.583653450012207,
          3.8328280448913574,
          3.5040507316589355,
          3.031771659851074,
          3.966566562652588,
          3.6358513832092285,
          3.3863260746002197,
          3.178427219390869,
          3.6648640632629395,
          2.7743117809295654,
          3.730257272720337,
          3.8303771018981934,
          3.5186283588409424,
          3.4974710941314697,
          3.487191915512085,
          3.565051555633545,
          3.9974799156188965,
          4.351250171661377,
          3.544792890548706,
          4.0580644607543945,
          3.2488913536071777,
          2.9545066356658936,
          3.7105765342712402,
          4.431126117706299,
          3.3774213790893555,
          3.4759087562561035,
          3.7008581161499023,
          4.121216773986816,
          3.745647668838501,
          3.6917994022369385,
          3.0919432640075684,
          2.8652408123016357,
          3.621039628982544,
          3.0649561882019043,
          3.8893518447875977,
          3.4725279808044434,
          3.718719959259033,
          3.522470712661743,
          2.477848768234253,
          3.364532947540283,
          3.5180225372314453,
          3.552581310272217,
          3.5560801029205322,
          3.67974853515625,
          2.8362152576446533,
          3.8469693660736084,
          4.088239669799805,
          4.082686901092529,
          3.9011173248291016,
          3.456376075744629,
          3.4139840602874756,
          3.9577770233154297,
          3.602198362350464,
          3.6623640060424805,
          3.5876619815826416,
          3.497392416000366,
          3.3744752407073975,
          4.572775840759277,
          3.6981375217437744,
          3.1836698055267334,
          3.423394203186035,
          4.397707462310791,
          3.9330835342407227,
          3.203805685043335,
          3.514174461364746,
          3.6909019947052,
          3.72544264793396,
          3.9959070682525635,
          3.082913875579834,
          3.3809776306152344,
          3.4719345569610596,
          3.676180124282837,
          2.415785074234009,
          2.660062074661255,
          3.0977890491485596,
          2.928577184677124,
          2.8630552291870117,
          3.046694040298462,
          3.3045616149902344,
          3.2906205654144287,
          3.5957419872283936,
          3.0857155323028564,
          3.003331184387207,
          3.798123359680176,
          3.5329480171203613,
          3.543365001678467,
          2.5658650398254395,
          3.625180244445801,
          2.4426066875457764,
          3.567781448364258,
          4.1006975173950195,
          3.990311622619629,
          2.747488498687744,
          3.3540256023406982,
          4.188045024871826,
          4.039030075073242,
          3.8025221824645996,
          3.691739559173584,
          3.8816325664520264,
          3.447843313217163,
          2.88944673538208,
          4.3363823890686035,
          3.4881234169006348,
          3.4648661613464355,
          2.7051942348480225,
          2.808154582977295,
          3.2531168460845947,
          3.8519771099090576,
          3.87565016746521,
          3.3112576007843018,
          2.915541887283325,
          2.8286805152893066,
          3.7293076515197754,
          3.9410343170166016,
          3.861708879470825,
          3.810971975326538,
          3.756711959838867,
          3.606367588043213,
          3.654677391052246,
          3.7512145042419434,
          3.3093690872192383,
          3.906412124633789,
          2.5330235958099365,
          3.18806791305542,
          4.260409832000732,
          3.3536341190338135,
          2.618992328643799,
          3.5825250148773193,
          4.123754024505615,
          2.5636351108551025,
          3.5997207164764404,
          3.914482831954956,
          3.3346598148345947,
          3.456256866455078,
          3.6426587104797363,
          4.067946434020996,
          3.526613473892212,
          3.351318359375,
          3.418375253677368,
          2.465743064880371,
          3.2902793884277344,
          3.4340085983276367,
          3.9889893531799316,
          3.5870301723480225,
          2.9474570751190186,
          3.604729652404785,
          2.9570467472076416,
          3.6497626304626465,
          3.7462947368621826,
          3.4098217487335205,
          3.1211347579956055,
          3.500701904296875,
          3.4819765090942383,
          3.0899691581726074,
          3.039879560470581,
          3.325007915496826,
          3.2596163749694824,
          3.538503646850586,
          4.156606674194336,
          3.41424298286438,
          3.6166176795959473,
          3.996978998184204,
          3.111323356628418,
          3.7517812252044678,
          3.834007501602173,
          2.699376344680786,
          2.4942619800567627,
          2.8218517303466797,
          3.544863224029541,
          3.380767822265625,
          3.3187644481658936,
          3.6527459621429443,
          3.317877769470215,
          3.4022698402404785,
          3.8640036582946777,
          3.098647356033325,
          3.1869301795959473,
          3.396432638168335,
          2.848029136657715,
          3.82431697845459,
          3.8323285579681396,
          3.205348253250122,
          4.060481548309326,
          4.071253776550293,
          3.2081542015075684,
          4.13070821762085,
          3.6718060970306396,
          3.6806704998016357,
          3.251452684402466,
          3.5683963298797607,
          3.3478076457977295,
          3.568943738937378,
          3.7750186920166016,
          3.0470733642578125,
          3.864596366882324,
          3.5031912326812744,
          3.4869370460510254,
          3.2576193809509277,
          3.941134214401245,
          3.792794942855835,
          3.4990546703338623,
          3.108485698699951,
          3.568131446838379,
          3.2216427326202393,
          2.8568339347839355,
          3.3209424018859863,
          3.920126438140869,
          3.464570999145508,
          3.4375672340393066,
          3.3330936431884766,
          3.7981326580047607,
          3.2726728916168213,
          2.9348347187042236,
          3.167504072189331,
          3.130084991455078,
          3.526144027709961,
          3.4696266651153564,
          3.2364182472229004,
          3.379539966583252,
          3.77679443359375,
          3.2524006366729736,
          4.359305381774902,
          3.2905373573303223,
          3.8234670162200928,
          3.1038901805877686,
          3.515481948852539,
          3.234628677368164,
          3.1028928756713867,
          3.4267044067382812,
          3.6182029247283936,
          3.3298850059509277,
          3.2969119548797607,
          3.2565832138061523,
          4.062341213226318,
          4.189392566680908,
          3.577011823654175,
          3.4030566215515137,
          3.6551513671875,
          3.9086062908172607,
          3.9668073654174805,
          3.4253313541412354,
          3.962256908416748,
          3.6868317127227783,
          2.9992408752441406,
          3.6486144065856934,
          3.311250686645508,
          3.616101026535034,
          3.9878618717193604,
          2.9312682151794434,
          3.630749464035034,
          3.5544145107269287,
          2.7951183319091797,
          3.126999616622925,
          3.5858957767486572,
          3.3167264461517334,
          3.1241698265075684,
          3.4218177795410156,
          3.306588649749756,
          3.6251494884490967,
          3.687774181365967,
          3.4133522510528564,
          3.231292963027954,
          3.4697015285491943,
          3.017852783203125,
          2.7738003730773926,
          3.1557819843292236,
          3.691664218902588,
          3.013868808746338,
          2.6397552490234375,
          3.399949550628662,
          3.1774866580963135,
          3.738673448562622,
          2.704500198364258,
          2.6328234672546387,
          3.3607170581817627,
          3.5037248134613037,
          3.3959035873413086,
          3.563828945159912,
          3.9196059703826904,
          3.522780179977417,
          3.436753034591675,
          3.3583576679229736,
          3.4813599586486816,
          2.5997955799102783,
          2.897380828857422,
          3.4436676502227783,
          3.175623893737793,
          2.8507251739501953,
          3.2631125450134277,
          3.468550443649292,
          3.982227325439453,
          3.5205347537994385,
          2.465743064880371,
          3.3959262371063232,
          2.6555721759796143,
          3.2858381271362305,
          3.6678035259246826,
          3.549112319946289,
          3.224398612976074,
          3.0106916427612305,
          4.3978729248046875,
          3.69588303565979,
          3.291029691696167,
          3.2279021739959717,
          3.2933506965637207,
          3.2783422470092773,
          3.534625768661499,
          3.392408847808838,
          2.8328328132629395,
          2.9688875675201416,
          3.0629074573516846,
          2.704920768737793,
          3.2287633419036865,
          2.848602294921875,
          2.67570424079895,
          3.473747491836548,
          3.1317453384399414,
          2.856588125228882,
          3.224442481994629,
          3.6368091106414795,
          3.320659875869751,
          3.2536163330078125,
          2.913816213607788,
          3.066276788711548,
          2.730234384536743,
          3.0891878604888916,
          3.1438379287719727,
          3.4955239295959473,
          3.433123826980591,
          3.102222442626953,
          3.4033102989196777,
          3.291663408279419,
          3.559114456176758,
          3.609468460083008,
          2.8220980167388916,
          3.915642499923706,
          3.5193960666656494,
          3.434962749481201,
          2.9760773181915283,
          3.479949712753296,
          3.0129594802856445,
          3.1362085342407227,
          3.57463002204895,
          2.9790432453155518,
          2.688767194747925,
          3.211906909942627,
          3.2684457302093506,
          3.459218978881836,
          3.0059378147125244,
          3.4864046573638916,
          3.596174478530884,
          3.847015380859375,
          3.418320417404175,
          2.9465184211730957,
          3.6336193084716797,
          3.385680913925171,
          2.5919270515441895,
          3.7180464267730713,
          3.405038595199585,
          2.725534200668335,
          3.403703212738037,
          3.7878828048706055,
          2.7400009632110596,
          3.4989569187164307,
          2.9056131839752197,
          2.6507561206817627,
          3.3724677562713623,
          3.6808815002441406,
          2.9343409538269043,
          2.78532075881958,
          2.6704177856445312,
          3.6694822311401367,
          2.997419834136963,
          2.60807466506958,
          3.3760554790496826,
          3.533694267272949,
          2.8029143810272217,
          2.9390320777893066,
          3.029232978820801,
          3.5567996501922607,
          3.457073211669922,
          2.7951183319091797,
          2.811457872390747,
          2.8656349182128906,
          3.400801420211792,
          3.3710012435913086,
          3.301058769226074,
          3.327479839324951,
          2.8566501140594482,
          3.6140687465667725,
          3.383445978164673,
          2.7380990982055664,
          3.614781618118286,
          3.2425544261932373,
          2.7396299839019775,
          3.5296883583068848,
          2.7327566146850586,
          3.498471736907959,
          3.4275293350219727,
          2.9100117683410645,
          3.052464008331299,
          3.2347683906555176,
          3.051072835922241,
          2.6339681148529053,
          3.55350661277771,
          3.3575851917266846,
          3.640864133834839,
          3.7843356132507324,
          2.6322267055511475,
          3.160435676574707,
          2.957892894744873,
          2.939924478530884,
          3.211486577987671,
          3.0268115997314453,
          3.184319019317627,
          3.7677059173583984,
          3.245851516723633,
          2.9572224617004395,
          2.8121371269226074,
          3.5784056186676025,
          2.9993340969085693,
          3.62629771232605,
          3.9409706592559814,
          3.5566201210021973,
          3.07765793800354,
          2.607079029083252,
          2.948164701461792,
          3.391787528991699,
          3.505770206451416,
          3.340358257293701,
          3.545531749725342,
          3.085329294204712,
          3.449345111846924,
          2.987534284591675,
          3.264008045196533,
          3.4279284477233887,
          2.851301670074463,
          2.7396299839019775,
          2.9258079528808594,
          3.4659948348999023,
          2.8297932147979736,
          3.2192859649658203,
          3.036909580230713,
          3.2935099601745605,
          2.8105156421661377,
          3.008354902267456,
          3.0480620861053467,
          2.974515438079834,
          2.6574597358703613,
          3.636659860610962,
          3.7558281421661377,
          3.3264811038970947,
          3.62561297416687,
          3.34342622756958,
          3.4282283782958984,
          2.5934648513793945,
          3.284006357192993,
          3.0218448638916016,
          2.9073402881622314,
          3.090178966522217,
          3.4737069606781006,
          3.0875823497772217,
          3.1988871097564697,
          2.915144920349121,
          3.2913103103637695,
          3.0553131103515625,
          2.7932112216949463,
          3.3343772888183594,
          2.8314099311828613,
          2.7065818309783936,
          3.398303270339966,
          2.980863332748413,
          3.319246292114258,
          2.708573341369629,
          2.828334331512451,
          3.5002281665802,
          3.0936148166656494,
          2.637754440307617,
          2.9979379177093506,
          3.357327938079834,
          3.6322214603424072,
          2.902653217315674,
          3.0835745334625244,
          3.3780391216278076,
          3.663884162902832,
          3.0551021099090576,
          3.2337145805358887,
          3.4958465099334717,
          3.381316900253296,
          3.2832329273223877,
          3.195688247680664,
          3.8395333290100098,
          3.0443012714385986,
          3.2834396362304688,
          3.6362268924713135,
          3.13948392868042,
          3.1792192459106445,
          3.505038261413574,
          2.8304288387298584,
          3.9119274616241455,
          3.398744583129883,
          3.0446267127990723,
          3.1311652660369873,
          3.5270273685455322,
          2.834683418273926,
          3.0468862056732178,
          3.1617865562438965,
          3.262256383895874,
          2.8656349182128906,
          2.8819420337677,
          3.017214059829712,
          3.0238232612609863,
          2.9767239093780518,
          2.6952626705169678,
          2.6129443645477295,
          2.8990843296051025,
          3.630361318588257,
          3.0671956539154053,
          3.519299030303955,
          2.581742286682129,
          3.401219606399536,
          3.1469266414642334,
          3.5790855884552,
          3.215562582015991,
          3.0496468544006348,
          2.712770700454712,
          3.4314310550689697,
          3.857935667037964,
          3.123352527618408,
          2.7909560203552246,
          3.976200580596924,
          3.578862428665161,
          2.879399061203003,
          2.6964807510375977,
          3.083325147628784,
          2.974017858505249,
          2.778778076171875,
          2.933495283126831,
          3.395078420639038,
          3.2665915489196777,
          2.9951565265655518,
          2.4002623558044434,
          3.0727174282073975,
          3.726353406906128,
          2.75677490234375,
          2.4002623558044434,
          2.94974422454834,
          2.625298023223877,
          3.4654645919799805,
          2.707256317138672,
          3.072848320007324,
          3.67173171043396,
          3.6509132385253906,
          3.353999376296997,
          3.000875234603882,
          3.0289978981018066,
          3.422524929046631,
          3.40596342086792,
          3.490187883377075,
          2.933635950088501,
          3.390857696533203,
          2.958265542984009,
          2.900752305984497,
          3.600377082824707,
          2.532214641571045,
          2.8371129035949707,
          2.6144425868988037,
          3.7868738174438477,
          2.8993980884552,
          2.956186532974243,
          2.9932003021240234,
          3.4394407272338867,
          3.016249656677246,
          3.223834991455078,
          2.631869077682495,
          2.931582450866699,
          2.7463366985321045,
          3.3364205360412598,
          3.58151912689209,
          3.7289931774139404,
          2.8301708698272705,
          3.2079100608825684,
          2.5313897132873535,
          3.3230092525482178,
          3.6813690662384033,
          3.3622958660125732,
          2.738128662109375,
          2.465743064880371,
          3.543952465057373,
          3.6210479736328125,
          3.1435868740081787,
          2.829528570175171,
          3.198137044906616,
          3.0842196941375732,
          3.9094483852386475,
          3.3540122509002686,
          3.1008780002593994,
          3.2162671089172363,
          3.446084499359131,
          3.340358257293701,
          3.4146883487701416,
          3.144028425216675,
          3.370924949645996,
          3.7684450149536133,
          3.46303129196167,
          3.2216122150421143,
          3.217276096343994,
          3.534667730331421,
          2.929048538208008,
          2.9733753204345703,
          3.4252960681915283,
          2.696854829788208,
          3.1824865341186523,
          3.015434503555298,
          3.4272618293762207,
          2.801316261291504,
          3.1489217281341553,
          3.048346519470215,
          2.696521520614624,
          2.680143356323242,
          3.144886016845703,
          2.7363831996917725,
          3.404252052307129,
          3.4119508266448975,
          3.1176564693450928,
          2.6400182247161865,
          3.0698838233947754,
          3.6835341453552246,
          3.134249448776245,
          2.7830846309661865,
          3.425088405609131,
          3.425088405609131,
          3.425088405609131,
          2.9073915481567383,
          3.528506278991699,
          3.1501686573028564,
          3.1097843647003174,
          2.626819610595703,
          2.855872869491577,
          3.2816784381866455,
          2.848597288131714,
          3.655466318130493,
          4.107825756072998,
          2.7567226886749268,
          2.9231576919555664,
          2.8640918731689453,
          2.9231576919555664,
          3.5024919509887695,
          3.2917232513427734,
          2.6984870433807373,
          3.239109754562378,
          3.7062766551971436,
          3.5024919509887695,
          3.016249656677246,
          2.6196441650390625,
          3.177081823348999,
          2.6706631183624268,
          3.034627676010132,
          2.728837013244629,
          2.8301913738250732,
          3.361879348754883,
          3.484571695327759,
          2.7736358642578125,
          2.67657470703125,
          3.0715839862823486,
          3.657627820968628,
          2.599243640899658,
          3.2163829803466797,
          2.626882553100586,
          3.2079100608825684,
          2.816985845565796,
          3.2103428840637207,
          3.0838706493377686,
          2.6574597358703613,
          3.1311652660369873,
          2.8738958835601807
         ]
        }
       ],
       "layout": {
        "font": {
         "size": 20
        },
        "paper_bgcolor": "white",
        "plot_bgcolor": "white",
        "template": {
         "data": {
          "bar": [
           {
            "error_x": {
             "color": "#2a3f5f"
            },
            "error_y": {
             "color": "#2a3f5f"
            },
            "marker": {
             "line": {
              "color": "#E5ECF6",
              "width": 0.5
             },
             "pattern": {
              "fillmode": "overlay",
              "size": 10,
              "solidity": 0.2
             }
            },
            "type": "bar"
           }
          ],
          "barpolar": [
           {
            "marker": {
             "line": {
              "color": "#E5ECF6",
              "width": 0.5
             },
             "pattern": {
              "fillmode": "overlay",
              "size": 10,
              "solidity": 0.2
             }
            },
            "type": "barpolar"
           }
          ],
          "carpet": [
           {
            "aaxis": {
             "endlinecolor": "#2a3f5f",
             "gridcolor": "white",
             "linecolor": "white",
             "minorgridcolor": "white",
             "startlinecolor": "#2a3f5f"
            },
            "baxis": {
             "endlinecolor": "#2a3f5f",
             "gridcolor": "white",
             "linecolor": "white",
             "minorgridcolor": "white",
             "startlinecolor": "#2a3f5f"
            },
            "type": "carpet"
           }
          ],
          "choropleth": [
           {
            "colorbar": {
             "outlinewidth": 0,
             "ticks": ""
            },
            "type": "choropleth"
           }
          ],
          "contour": [
           {
            "colorbar": {
             "outlinewidth": 0,
             "ticks": ""
            },
            "colorscale": [
             [
              0,
              "#0d0887"
             ],
             [
              0.1111111111111111,
              "#46039f"
             ],
             [
              0.2222222222222222,
              "#7201a8"
             ],
             [
              0.3333333333333333,
              "#9c179e"
             ],
             [
              0.4444444444444444,
              "#bd3786"
             ],
             [
              0.5555555555555556,
              "#d8576b"
             ],
             [
              0.6666666666666666,
              "#ed7953"
             ],
             [
              0.7777777777777778,
              "#fb9f3a"
             ],
             [
              0.8888888888888888,
              "#fdca26"
             ],
             [
              1,
              "#f0f921"
             ]
            ],
            "type": "contour"
           }
          ],
          "contourcarpet": [
           {
            "colorbar": {
             "outlinewidth": 0,
             "ticks": ""
            },
            "type": "contourcarpet"
           }
          ],
          "heatmap": [
           {
            "colorbar": {
             "outlinewidth": 0,
             "ticks": ""
            },
            "colorscale": [
             [
              0,
              "#0d0887"
             ],
             [
              0.1111111111111111,
              "#46039f"
             ],
             [
              0.2222222222222222,
              "#7201a8"
             ],
             [
              0.3333333333333333,
              "#9c179e"
             ],
             [
              0.4444444444444444,
              "#bd3786"
             ],
             [
              0.5555555555555556,
              "#d8576b"
             ],
             [
              0.6666666666666666,
              "#ed7953"
             ],
             [
              0.7777777777777778,
              "#fb9f3a"
             ],
             [
              0.8888888888888888,
              "#fdca26"
             ],
             [
              1,
              "#f0f921"
             ]
            ],
            "type": "heatmap"
           }
          ],
          "heatmapgl": [
           {
            "colorbar": {
             "outlinewidth": 0,
             "ticks": ""
            },
            "colorscale": [
             [
              0,
              "#0d0887"
             ],
             [
              0.1111111111111111,
              "#46039f"
             ],
             [
              0.2222222222222222,
              "#7201a8"
             ],
             [
              0.3333333333333333,
              "#9c179e"
             ],
             [
              0.4444444444444444,
              "#bd3786"
             ],
             [
              0.5555555555555556,
              "#d8576b"
             ],
             [
              0.6666666666666666,
              "#ed7953"
             ],
             [
              0.7777777777777778,
              "#fb9f3a"
             ],
             [
              0.8888888888888888,
              "#fdca26"
             ],
             [
              1,
              "#f0f921"
             ]
            ],
            "type": "heatmapgl"
           }
          ],
          "histogram": [
           {
            "marker": {
             "pattern": {
              "fillmode": "overlay",
              "size": 10,
              "solidity": 0.2
             }
            },
            "type": "histogram"
           }
          ],
          "histogram2d": [
           {
            "colorbar": {
             "outlinewidth": 0,
             "ticks": ""
            },
            "colorscale": [
             [
              0,
              "#0d0887"
             ],
             [
              0.1111111111111111,
              "#46039f"
             ],
             [
              0.2222222222222222,
              "#7201a8"
             ],
             [
              0.3333333333333333,
              "#9c179e"
             ],
             [
              0.4444444444444444,
              "#bd3786"
             ],
             [
              0.5555555555555556,
              "#d8576b"
             ],
             [
              0.6666666666666666,
              "#ed7953"
             ],
             [
              0.7777777777777778,
              "#fb9f3a"
             ],
             [
              0.8888888888888888,
              "#fdca26"
             ],
             [
              1,
              "#f0f921"
             ]
            ],
            "type": "histogram2d"
           }
          ],
          "histogram2dcontour": [
           {
            "colorbar": {
             "outlinewidth": 0,
             "ticks": ""
            },
            "colorscale": [
             [
              0,
              "#0d0887"
             ],
             [
              0.1111111111111111,
              "#46039f"
             ],
             [
              0.2222222222222222,
              "#7201a8"
             ],
             [
              0.3333333333333333,
              "#9c179e"
             ],
             [
              0.4444444444444444,
              "#bd3786"
             ],
             [
              0.5555555555555556,
              "#d8576b"
             ],
             [
              0.6666666666666666,
              "#ed7953"
             ],
             [
              0.7777777777777778,
              "#fb9f3a"
             ],
             [
              0.8888888888888888,
              "#fdca26"
             ],
             [
              1,
              "#f0f921"
             ]
            ],
            "type": "histogram2dcontour"
           }
          ],
          "mesh3d": [
           {
            "colorbar": {
             "outlinewidth": 0,
             "ticks": ""
            },
            "type": "mesh3d"
           }
          ],
          "parcoords": [
           {
            "line": {
             "colorbar": {
              "outlinewidth": 0,
              "ticks": ""
             }
            },
            "type": "parcoords"
           }
          ],
          "pie": [
           {
            "automargin": true,
            "type": "pie"
           }
          ],
          "scatter": [
           {
            "fillpattern": {
             "fillmode": "overlay",
             "size": 10,
             "solidity": 0.2
            },
            "type": "scatter"
           }
          ],
          "scatter3d": [
           {
            "line": {
             "colorbar": {
              "outlinewidth": 0,
              "ticks": ""
             }
            },
            "marker": {
             "colorbar": {
              "outlinewidth": 0,
              "ticks": ""
             }
            },
            "type": "scatter3d"
           }
          ],
          "scattercarpet": [
           {
            "marker": {
             "colorbar": {
              "outlinewidth": 0,
              "ticks": ""
             }
            },
            "type": "scattercarpet"
           }
          ],
          "scattergeo": [
           {
            "marker": {
             "colorbar": {
              "outlinewidth": 0,
              "ticks": ""
             }
            },
            "type": "scattergeo"
           }
          ],
          "scattergl": [
           {
            "marker": {
             "colorbar": {
              "outlinewidth": 0,
              "ticks": ""
             }
            },
            "type": "scattergl"
           }
          ],
          "scattermapbox": [
           {
            "marker": {
             "colorbar": {
              "outlinewidth": 0,
              "ticks": ""
             }
            },
            "type": "scattermapbox"
           }
          ],
          "scatterpolar": [
           {
            "marker": {
             "colorbar": {
              "outlinewidth": 0,
              "ticks": ""
             }
            },
            "type": "scatterpolar"
           }
          ],
          "scatterpolargl": [
           {
            "marker": {
             "colorbar": {
              "outlinewidth": 0,
              "ticks": ""
             }
            },
            "type": "scatterpolargl"
           }
          ],
          "scatterternary": [
           {
            "marker": {
             "colorbar": {
              "outlinewidth": 0,
              "ticks": ""
             }
            },
            "type": "scatterternary"
           }
          ],
          "surface": [
           {
            "colorbar": {
             "outlinewidth": 0,
             "ticks": ""
            },
            "colorscale": [
             [
              0,
              "#0d0887"
             ],
             [
              0.1111111111111111,
              "#46039f"
             ],
             [
              0.2222222222222222,
              "#7201a8"
             ],
             [
              0.3333333333333333,
              "#9c179e"
             ],
             [
              0.4444444444444444,
              "#bd3786"
             ],
             [
              0.5555555555555556,
              "#d8576b"
             ],
             [
              0.6666666666666666,
              "#ed7953"
             ],
             [
              0.7777777777777778,
              "#fb9f3a"
             ],
             [
              0.8888888888888888,
              "#fdca26"
             ],
             [
              1,
              "#f0f921"
             ]
            ],
            "type": "surface"
           }
          ],
          "table": [
           {
            "cells": {
             "fill": {
              "color": "#EBF0F8"
             },
             "line": {
              "color": "white"
             }
            },
            "header": {
             "fill": {
              "color": "#C8D4E3"
             },
             "line": {
              "color": "white"
             }
            },
            "type": "table"
           }
          ]
         },
         "layout": {
          "annotationdefaults": {
           "arrowcolor": "#2a3f5f",
           "arrowhead": 0,
           "arrowwidth": 1
          },
          "autotypenumbers": "strict",
          "coloraxis": {
           "colorbar": {
            "outlinewidth": 0,
            "ticks": ""
           }
          },
          "colorscale": {
           "diverging": [
            [
             0,
             "#8e0152"
            ],
            [
             0.1,
             "#c51b7d"
            ],
            [
             0.2,
             "#de77ae"
            ],
            [
             0.3,
             "#f1b6da"
            ],
            [
             0.4,
             "#fde0ef"
            ],
            [
             0.5,
             "#f7f7f7"
            ],
            [
             0.6,
             "#e6f5d0"
            ],
            [
             0.7,
             "#b8e186"
            ],
            [
             0.8,
             "#7fbc41"
            ],
            [
             0.9,
             "#4d9221"
            ],
            [
             1,
             "#276419"
            ]
           ],
           "sequential": [
            [
             0,
             "#0d0887"
            ],
            [
             0.1111111111111111,
             "#46039f"
            ],
            [
             0.2222222222222222,
             "#7201a8"
            ],
            [
             0.3333333333333333,
             "#9c179e"
            ],
            [
             0.4444444444444444,
             "#bd3786"
            ],
            [
             0.5555555555555556,
             "#d8576b"
            ],
            [
             0.6666666666666666,
             "#ed7953"
            ],
            [
             0.7777777777777778,
             "#fb9f3a"
            ],
            [
             0.8888888888888888,
             "#fdca26"
            ],
            [
             1,
             "#f0f921"
            ]
           ],
           "sequentialminus": [
            [
             0,
             "#0d0887"
            ],
            [
             0.1111111111111111,
             "#46039f"
            ],
            [
             0.2222222222222222,
             "#7201a8"
            ],
            [
             0.3333333333333333,
             "#9c179e"
            ],
            [
             0.4444444444444444,
             "#bd3786"
            ],
            [
             0.5555555555555556,
             "#d8576b"
            ],
            [
             0.6666666666666666,
             "#ed7953"
            ],
            [
             0.7777777777777778,
             "#fb9f3a"
            ],
            [
             0.8888888888888888,
             "#fdca26"
            ],
            [
             1,
             "#f0f921"
            ]
           ]
          },
          "colorway": [
           "#636efa",
           "#EF553B",
           "#00cc96",
           "#ab63fa",
           "#FFA15A",
           "#19d3f3",
           "#FF6692",
           "#B6E880",
           "#FF97FF",
           "#FECB52"
          ],
          "font": {
           "color": "#2a3f5f"
          },
          "geo": {
           "bgcolor": "white",
           "lakecolor": "white",
           "landcolor": "#E5ECF6",
           "showlakes": true,
           "showland": true,
           "subunitcolor": "white"
          },
          "hoverlabel": {
           "align": "left"
          },
          "hovermode": "closest",
          "mapbox": {
           "style": "light"
          },
          "paper_bgcolor": "white",
          "plot_bgcolor": "#E5ECF6",
          "polar": {
           "angularaxis": {
            "gridcolor": "white",
            "linecolor": "white",
            "ticks": ""
           },
           "bgcolor": "#E5ECF6",
           "radialaxis": {
            "gridcolor": "white",
            "linecolor": "white",
            "ticks": ""
           }
          },
          "scene": {
           "xaxis": {
            "backgroundcolor": "#E5ECF6",
            "gridcolor": "white",
            "gridwidth": 2,
            "linecolor": "white",
            "showbackground": true,
            "ticks": "",
            "zerolinecolor": "white"
           },
           "yaxis": {
            "backgroundcolor": "#E5ECF6",
            "gridcolor": "white",
            "gridwidth": 2,
            "linecolor": "white",
            "showbackground": true,
            "ticks": "",
            "zerolinecolor": "white"
           },
           "zaxis": {
            "backgroundcolor": "#E5ECF6",
            "gridcolor": "white",
            "gridwidth": 2,
            "linecolor": "white",
            "showbackground": true,
            "ticks": "",
            "zerolinecolor": "white"
           }
          },
          "shapedefaults": {
           "line": {
            "color": "#2a3f5f"
           }
          },
          "ternary": {
           "aaxis": {
            "gridcolor": "white",
            "linecolor": "white",
            "ticks": ""
           },
           "baxis": {
            "gridcolor": "white",
            "linecolor": "white",
            "ticks": ""
           },
           "bgcolor": "#E5ECF6",
           "caxis": {
            "gridcolor": "white",
            "linecolor": "white",
            "ticks": ""
           }
          },
          "title": {
           "x": 0.05
          },
          "xaxis": {
           "automargin": true,
           "gridcolor": "white",
           "linecolor": "white",
           "ticks": "",
           "title": {
            "standoff": 15
           },
           "zerolinecolor": "white",
           "zerolinewidth": 2
          },
          "yaxis": {
           "automargin": true,
           "gridcolor": "white",
           "linecolor": "white",
           "ticks": "",
           "title": {
            "standoff": 15
           },
           "zerolinecolor": "white",
           "zerolinewidth": 2
          }
         }
        },
        "title": {
         "text": "Distribution of Nuclear Norm of Node Explain Matrix"
        },
        "xaxis": {
         "title": {
          "text": "Nuclear Norm"
         }
        },
        "yaxis": {
         "title": {
          "text": "Frequency"
         }
        }
       }
      },
      "text/html": [
       "<div>                            <div id=\"14809c80-da39-4b2c-9aa2-952127986724\" class=\"plotly-graph-div\" style=\"height:525px; width:100%;\"></div>            <script type=\"text/javascript\">                require([\"plotly\"], function(Plotly) {                    window.PLOTLYENV=window.PLOTLYENV || {};                                    if (document.getElementById(\"14809c80-da39-4b2c-9aa2-952127986724\")) {                    Plotly.newPlot(                        \"14809c80-da39-4b2c-9aa2-952127986724\",                        [{\"name\":\"DGI\",\"x\":[4.279569625854492,4.579095363616943,4.409626483917236,4.638545989990234,4.228288650512695,4.275597095489502,3.9354910850524902,4.293959617614746,5.324033737182617,4.186145305633545,5.491784572601318,4.291988849639893,4.605759620666504,3.7129576206207275,4.501705646514893,4.599106788635254,4.205964088439941,4.818454742431641,4.898194313049316,4.964322566986084,4.830564975738525,4.927132606506348,5.681216716766357,5.055230617523193,4.404029846191406,5.026896953582764,4.910809516906738,4.27993106842041,5.156661033630371,4.941669464111328,4.914432048797607,5.153285980224609,5.127921104431152,5.023975849151611,5.1796183586120605,4.924367904663086,5.750550270080566,4.16697883605957,4.5493669509887695,5.3727946281433105,4.167474269866943,4.767511367797852,5.2228007316589355,5.305673122406006,4.8297810554504395,4.526143550872803,5.19375467300415,5.185927391052246,4.529231071472168,4.855956554412842,5.207589149475098,4.156779766082764,4.805805206298828,5.2815070152282715,4.651358604431152,4.927113056182861,4.352749824523926,4.026706218719482,4.664699554443359,4.272309303283691,4.5092668533325195,3.8382508754730225,3.60391902923584,4.059576988220215,3.887766122817993,3.8692209720611572,3.9834532737731934,6.729214668273926,6.064792633056641,4.5974321365356445,4.912155628204346,4.7655930519104,6.02191162109375,5.067790508270264,3.911790609359741,5.12301778793335,4.994035720825195,6.293165683746338,5.999434471130371,4.821508884429932,4.867053985595703,5.161618232727051,3.55180287361145,4.842259883880615,3.48068904876709,3.927741527557373,3.5452914237976074,4.52532434463501,4.757599830627441,3.973238945007324,6.353061199188232,4.586291313171387,3.961559295654297,4.574326515197754,4.8744730949401855,5.0805535316467285,3.8162190914154053,4.534800052642822,5.064919471740723,5.409999370574951,4.309154510498047,4.575142860412598,4.728612422943115,4.606991291046143,4.659017562866211,4.739871501922607,4.598519802093506,3.7435719966888428,4.233297824859619,6.914321422576904,4.49730920791626,4.3307695388793945,4.558182239532471,4.039212226867676,4.579047679901123,4.439802169799805,4.34183931350708,5.692380428314209,5.258859157562256,5.309543609619141,4.6432576179504395,3.8738181591033936,4.65172004699707,4.650468826293945,4.226925849914551,4.772855758666992,4.879189968109131,5.8977179527282715,4.756350040435791,4.6019978523254395,4.65339469909668,4.495103359222412,5.535385608673096,4.057403564453125,4.279421806335449,5.360777854919434,5.039489269256592,4.834825038909912,5.242419719696045,4.477686405181885,4.554553508758545,4.170804500579834,4.494736194610596,4.824954986572266,5.86961555480957,5.328538417816162,4.805960655212402,6.091139316558838,4.899828910827637,4.639420986175537,5.006414413452148,5.146755695343018,5.3609724044799805,5.5860724449157715,5.834081172943115,3.856809377670288,4.94954776763916,3.664163827896118,4.594921112060547,5.00921106338501,3.05267596244812,5.109985828399658,4.033538818359375,4.415829658508301,4.018744468688965,4.597123146057129,3.4224586486816406,3.755305767059326,4.37840461730957,5.012500286102295,4.439435958862305,5.330455780029297,4.696809768676758,4.648816108703613,4.681507110595703,5.741476058959961,4.5241780281066895,4.3465895652771,4.53114128112793,4.486847400665283,4.116900444030762,4.291105270385742,4.026034832000732,4.567465782165527,5.071308612823486,3.957589864730835,5.364683151245117,6.272305965423584,6.398656845092773,3.7866175174713135,6.624736785888672,4.361968994140625,4.766379356384277,4.621971130371094,4.498577117919922,4.977285861968994,5.061665058135986,5.42039155960083,4.772525787353516,4.662827491760254,5.22019624710083,5.279742240905762,5.883005619049072,5.720228672027588,4.968764305114746,4.8864312171936035,4.344324111938477,5.299741744995117,4.441754341125488,4.548769950866699,5.797996520996094,3.710524797439575,4.002469062805176,3.864901065826416,5.290233612060547,4.76570463180542,5.53088903427124,4.737146854400635,4.479912757873535,7.143251895904541,6.103571891784668,5.010492324829102,4.638803005218506,5.229062080383301,6.504624843597412,5.501873016357422,5.082427978515625,5.382488250732422,5.738163948059082,4.880362510681152,5.869956970214844,4.485389232635498,4.294961929321289,5.276082992553711,4.64471960067749,5.423440933227539,5.64556884765625,4.730010032653809,4.377359867095947,6.226199626922607,5.133866310119629,4.923015594482422,5.138213634490967,4.448130130767822,5.755338668823242,4.618899345397949,4.821728229522705,4.908332347869873,4.836246967315674,5.024205684661865,5.256649971008301,5.215420246124268,4.322909832000732,5.97407865524292,4.869767665863037,5.646909713745117,4.471277236938477,4.900854110717773,3.9981372356414795,4.775053024291992,5.170467853546143,4.965698719024658,4.418625831604004,4.6698899269104,4.736721515655518,4.127767562866211,4.421655178070068,4.6541008949279785,5.73629093170166,4.956781387329102,5.260077476501465,4.5450053215026855,3.9258840084075928,4.80056619644165,5.202147960662842,4.611384868621826,5.283848762512207,4.968672752380371,4.735548496246338,5.693391799926758,5.299230098724365,4.701179027557373,3.935027837753296,4.103835105895996,4.151254653930664,4.309629440307617,4.808852195739746,5.778831958770752,4.512828826904297,5.634243011474609,4.989858150482178,4.651910305023193,5.701602458953857,5.290311336517334,4.949485778808594,3.4855337142944336,4.643620014190674,4.954345226287842,5.546082019805908,4.359971046447754,4.731781005859375,3.864189624786377,6.278447151184082,4.755232334136963,4.831831932067871,3.705177068710327,5.096366882324219,4.805602550506592,4.854948043823242,3.7604763507843018,5.574834823608398,5.09205961227417,5.482581615447998,4.456267833709717,5.324469566345215,6.294798851013184,4.184067249298096,4.627254962921143,4.8658599853515625,4.29538106918335,4.594916343688965,4.574138164520264,4.118048667907715,4.526113510131836,5.103762626647949,5.188375949859619,5.904471397399902,5.885080814361572,5.229323863983154,4.689753532409668,5.028468608856201,4.550163745880127,4.8533616065979,4.672303676605225,4.532804489135742,4.084339141845703,5.306138038635254,6.016018867492676,4.517065525054932,4.465526580810547,3.4815640449523926,4.7303667068481445,4.112163066864014,4.974093914031982,5.490406036376953,4.996304988861084,6.003651142120361,5.256044864654541,3.9423670768737793,4.504363059997559,4.756580829620361,4.719089508056641,5.046947002410889,4.105766773223877,4.264102458953857,5.884435653686523,5.818877220153809,5.859018802642822,4.403363227844238,4.365296840667725,4.822033405303955,5.404109477996826,4.968662738800049,4.976248264312744,6.611584663391113,4.209259986877441,3.797276258468628,5.987658500671387,5.044712543487549,5.1046319007873535,4.58765172958374,5.5757904052734375,5.791886806488037,4.149177551269531,4.856633186340332,4.271463394165039,4.472843647003174,3.802123785018921,4.5944671630859375,3.718810796737671,4.56365966796875,4.892693519592285,4.315855503082275,4.163957118988037,5.1860175132751465,4.459451675415039,5.429830551147461,3.8599045276641846,4.857041358947754,4.194821834564209,4.535262584686279,4.798346519470215,4.524326324462891,4.372527599334717,4.673945426940918,4.953714370727539,4.274409294128418,4.698660373687744,4.218301296234131,5.919068336486816,5.891977310180664,4.257936000823975,4.558935165405273,5.340629577636719,4.824068546295166,4.377928733825684,4.880515098571777,5.0343475341796875,4.63041877746582,3.825978994369507,5.40444278717041,4.394007205963135,3.7809906005859375,5.038820743560791,3.1214468479156494,4.421154022216797,5.753824234008789,4.751428604125977,5.6746649742126465,3.7603652477264404,3.197984457015991,3.6425678730010986,5.433391094207764,5.381536960601807,4.326054573059082,4.008825302124023,4.820340633392334,5.0903639793396,4.7686076164245605,4.911996841430664,4.592187881469727,5.845571994781494,4.09160041809082,4.124433517456055,4.539077281951904,4.7190728187561035,4.224370002746582,4.569591999053955,4.81165885925293,4.172995567321777,4.254850387573242,5.097258567810059,4.819765567779541,4.228271484375,5.158123970031738,6.042656898498535,4.840930461883545,4.1935343742370605,4.207469463348389,3.8646953105926514,4.144224643707275,5.19850492477417,4.829042434692383,5.792688846588135,5.986275672912598,4.263575077056885,4.051702976226807,5.496419429779053,5.113766193389893,4.113523483276367,4.134222507476807,4.462272644042969,4.97911262512207,4.729527950286865,4.21065092086792,5.300086498260498,3.6489055156707764,6.417081356048584,6.685491561889648,5.184072017669678,4.859785079956055,6.802414417266846,4.978085517883301,4.291675090789795,4.727667331695557,5.112776756286621,4.317080974578857,4.237591743469238,4.381950378417969,5.232969760894775,4.779510974884033,4.8947553634643555,4.183424472808838,4.63920259475708,6.038740634918213,4.405237197875977,4.038974285125732,4.588498592376709,4.639388561248779,5.855462074279785,5.918980121612549,4.434224605560303,6.577600479125977,4.7443084716796875,3.6134936809539795,5.18562126159668,5.281128406524658,5.5957512855529785,3.47157883644104,4.02570104598999,4.791134357452393,5.79925537109375,5.067066669464111,4.891833305358887,4.745570182800293,5.484343528747559,4.217753887176514,5.448061466217041,5.4558587074279785,4.28444766998291,5.285140514373779,4.374379634857178,5.907328128814697,4.179455757141113,4.536015033721924,4.482752323150635,5.568669319152832,5.039801597595215,4.367556095123291,4.7551398277282715,4.7602620124816895,4.293050289154053,4.5500335693359375,4.061182975769043,5.073042869567871,4.113018989562988,4.254309177398682,5.146983623504639,5.34474515914917,4.882015228271484,5.366619110107422,5.871092319488525,5.047576427459717,3.9998764991760254,5.296966075897217,5.543905735015869,5.381303787231445,4.123353004455566,5.0481109619140625,6.053646087646484,6.080319881439209,5.418217182159424,4.977817058563232,5.175043106079102,5.811149597167969,4.992081642150879,3.8452231884002686,5.213453769683838,5.906709671020508,4.152960777282715,5.788097381591797,6.24216365814209,5.123890399932861,4.287868976593018,5.337599754333496,5.44389533996582,5.894744873046875,6.535940170288086,4.334710597991943,5.678207874298096,4.246706008911133,4.837642192840576,4.466463088989258,4.844420909881592,4.4046244621276855,4.617839336395264,4.593965530395508,4.49884033203125,5.447669506072998,4.427698612213135,4.718762397766113,5.509740352630615,5.156614303588867,4.832634449005127,4.8993611335754395,5.428445339202881,7.173381805419922,5.171313762664795,4.580604076385498,4.673172950744629,4.522027969360352,6.320634841918945,4.548776626586914,4.330934047698975,5.152833461761475,5.43060302734375,5.424837112426758,5.1073527336120605,6.5585832595825195,5.143285274505615,6.254634857177734,3.854862689971924,4.504119396209717,4.869244575500488,5.108392238616943,5.590923309326172,4.971812725067139,4.224128246307373,5.2221808433532715,5.424560070037842,6.1180830001831055,5.154071807861328,3.8646953105926514,6.392354965209961,3.7278130054473877,5.711296558380127,5.38262414932251,4.6889262199401855,5.112381458282471,4.701155662536621,6.826344013214111,4.662619113922119,4.582083225250244,4.8163533210754395,4.1406073570251465,5.754725933074951,5.829885959625244,4.658000469207764,5.128903865814209,4.044811248779297,4.7814555168151855,4.638957500457764,4.61384391784668,5.247808456420898,4.953977584838867,5.411221981048584,5.392643928527832,4.305039405822754,5.6240668296813965,4.7238006591796875,4.569381237030029,4.361403942108154,4.327779293060303,5.001293659210205,4.074151515960693,4.514846324920654,4.435178756713867,5.759818077087402,4.827727794647217,4.93826150894165,6.110831260681152,5.354053974151611,5.734541893005371,5.28144645690918,4.111178874969482,6.660947322845459,5.4839863777160645,5.6658830642700195,4.697359561920166,6.407844543457031,4.188714981079102,4.733282089233398,5.663437843322754,5.095560550689697,3.990403413772583,4.154327392578125,5.254985332489014,5.259397029876709,5.136326789855957,5.391745090484619,5.394812107086182,5.643308639526367,5.920416355133057,4.6156511306762695,5.108677864074707,5.599982738494873,4.018076419830322,5.2252678871154785,5.611659049987793,3.9862823486328125,5.133649826049805,5.884828090667725,5.050970077514648,4.838813781738281,4.480902671813965,4.301691055297852,4.163071632385254,6.442378520965576,5.370072364807129,4.827178001403809,4.451376438140869,6.4021501541137695,5.705170154571533,4.9576096534729,5.42036771774292,5.074044704437256,4.575587749481201,4.135672092437744,4.265218257904053,4.759449005126953,4.386193752288818,4.837642192840576,4.115202903747559,4.047967433929443,5.8879594802856445,5.099596977233887,3.974909543991089,4.747241973876953,4.494384765625,5.386289119720459,5.410122394561768,4.516563415527344,5.803359031677246,5.750528812408447,3.9661476612091064,5.914483070373535,4.781752586364746,5.08250093460083,4.545019626617432,4.361869812011719,5.252957344055176,4.286879539489746,4.364916801452637,4.602381706237793,6.3517937660217285,6.104701995849609,5.297425270080566,6.720789432525635,4.909662246704102,4.076211452484131,5.194628715515137,4.725018501281738,5.416950702667236,4.723845958709717,4.529714584350586,7.108734130859375,6.261729717254639,4.419886589050293,4.510989665985107,4.680734634399414,4.924129486083984,5.535951137542725,6.012870788574219,6.458317756652832,5.47459077835083,4.928055286407471,5.917491436004639,4.561383247375488,4.703085899353027,4.983809947967529,5.092159271240234,4.496735572814941,5.693575859069824,5.185630798339844,5.669586181640625,5.931362152099609,4.962329864501953,3.9661476612091064,5.29180908203125,5.149318218231201,3.868948221206665,6.234004974365234,4.232892036437988,5.301275730133057,4.918208122253418,5.652713298797607,4.6716437339782715,5.047514915466309,4.405393600463867,4.9482951164245605,5.195024013519287,6.313286304473877,6.354790210723877,4.858805179595947,5.5893378257751465,4.2776923179626465,5.9162917137146,4.624129295349121,5.087411403656006,5.185297012329102,5.368229866027832,4.487443447113037,5.196548938751221,5.066145896911621,5.732659339904785,3.940488815307617,4.877368927001953,4.851690769195557,5.147034645080566,4.547316074371338,5.484347343444824,5.402341365814209,6.156218528747559,3.96453857421875,4.526906967163086,4.82587194442749,4.863509654998779,4.922319412231445,4.536284923553467,6.06788969039917,4.601842880249023,4.649910926818848,5.281433582305908,4.01811408996582,4.624645233154297,5.112659931182861,5.027634620666504,4.839775562286377,5.211280345916748,6.624240398406982,5.17636251449585,4.147845268249512,4.344496726989746,4.823634624481201,4.911431789398193,5.45638370513916,4.463775157928467,4.771598815917969,4.861912250518799,5.627389430999756,5.74315071105957,5.460329532623291,5.482534408569336,4.843344211578369,4.886623859405518,3.960165500640869,5.395785808563232,4.826693058013916,4.047967433929443,4.290738582611084,5.54733943939209,5.007029056549072,4.2771897315979,4.044063568115234,3.4755306243896484,5.057775497436523,4.93422794342041,4.226009368896484,4.8612189292907715,4.002475738525391,5.836146354675293,5.9950852394104,5.008498668670654,5.007803916931152,3.904103994369507,5.366563320159912,6.584250450134277,4.78268575668335,5.606168270111084,4.789797782897949,4.807511329650879,4.7164435386657715,5.186341285705566,4.55147123336792,5.499259948730469,4.789412021636963,4.387183666229248,5.070991516113281,6.153045654296875,6.007665157318115,4.800403594970703,3.812777280807495,5.303545951843262,6.431105136871338,4.101189613342285,3.812777280807495,4.848093509674072,4.426105499267578,6.84835958480835,4.340211868286133,5.4648332595825195,5.303155899047852,5.712841033935547,4.831722259521484,4.734029769897461,4.755037307739258,5.220533847808838,5.614326477050781,4.750688076019287,5.138465404510498,5.900949478149414,4.151766777038574,4.284362316131592,5.1610026359558105,3.6546363830566406,4.902822971343994,4.301952838897705,5.642801761627197,5.230652809143066,4.859752655029297,5.043868541717529,4.674276351928711,5.198379993438721,4.3631696701049805,3.7989680767059326,5.3487324714660645,4.226363658905029,6.16769552230835,4.847195148468018,5.123660087585449,5.594182968139648,5.200614929199219,4.1022186279296875,5.640154838562012,5.040504455566406,4.7647786140441895,5.051665782928467,3.8646953105926514,4.606324672698975,4.896233558654785,4.926925182342529,4.8461408615112305,5.255129337310791,4.276144504547119,5.052603721618652,5.898149490356445,4.645779132843018,4.603182315826416,4.712655067443848,4.983809947967529,4.733225345611572,4.221482753753662,4.663146495819092,4.385584354400635,4.712965965270996,5.883366584777832,5.049859046936035,4.670403003692627,4.386759281158447,5.148393630981445,5.758735656738281,3.9926798343658447,5.4499664306640625,5.501531600952148,5.763101577758789,5.044604778289795,4.562410354614258,5.244342803955078,4.27572774887085,4.933879375457764,4.605165004730225,3.727198839187622,4.931601524353027,5.139867305755615,4.254902362823486,4.934757232666016,4.739758491516113,5.989111423492432,4.9531168937683105,4.502477645874023,5.033965110778809,5.033965110778809,5.033965110778809,4.457758903503418,4.587743282318115,5.534940242767334,5.5988383293151855,3.890873670578003,4.874952793121338,4.455550193786621,4.291087627410889,6.805010795593262,3.9530022144317627,5.067660808563232,4.435433864593506,4.85110330581665,4.435433864593506,4.609895706176758,4.515817642211914,4.22506046295166,5.307859420776367,5.6870269775390625,4.609895706176758,5.198379993438721,4.309463024139404,5.659839630126953,4.950966835021973,4.996290683746338,4.455899715423584,4.303481101989746,4.601677417755127,5.145397663116455,4.703381538391113,3.976706027984619,5.508965015411377,5.616458415985107,3.7658703327178955,5.744014263153076,4.017886161804199,5.200614929199219,5.073667526245117,5.681215286254883,4.721949577331543,4.405393600463867,5.482534408569336,5.235674858093262],\"type\":\"histogram\"},{\"name\":\"DGI+XM\",\"x\":[3.1594247817993164,3.5267536640167236,4.055210590362549,3.875370979309082,3.797447681427002,4.388496398925781,3.6915736198425293,3.9035568237304688,3.906841278076172,3.5130844116210938,3.911693572998047,3.8129701614379883,3.7542011737823486,3.793954372406006,3.8367562294006348,3.7222211360931396,3.330928325653076,4.271589756011963,3.6258833408355713,4.100464820861816,4.038522243499756,4.569378852844238,3.552446126937866,4.2171149253845215,3.7944765090942383,3.3432791233062744,3.5940487384796143,3.7603931427001953,4.402823448181152,3.7627980709075928,3.9160380363464355,3.723184823989868,3.7077834606170654,3.5615692138671875,3.7285428047180176,3.743443727493286,3.9676711559295654,3.2500083446502686,3.505577325820923,3.7036991119384766,3.554232358932495,3.9824280738830566,4.010078430175781,3.6137983798980713,4.426628589630127,3.6330392360687256,4.059028625488281,3.8243370056152344,3.702009916305542,3.354130506515503,3.5800936222076416,3.4475772380828857,3.5225114822387695,3.585930824279785,3.6838204860687256,3.7648098468780518,3.630934476852417,3.6105191707611084,4.197603225708008,3.6222012042999268,3.7222900390625,3.243515729904175,3.705465316772461,3.7998058795928955,3.794459819793701,3.672377824783325,3.1964316368103027,3.5378427505493164,4.280404090881348,4.040622711181641,3.060361862182617,3.4912314414978027,3.593799591064453,3.6508235931396484,3.498624324798584,3.4395787715911865,3.4310853481292725,4.1960673332214355,3.7276439666748047,3.5075385570526123,3.9341542720794678,4.5300703048706055,3.78511905670166,4.430651664733887,3.5962471961975098,3.0549960136413574,3.72697114944458,4.049964904785156,3.493032455444336,3.3483307361602783,4.1833086013793945,3.5893654823303223,3.2335100173950195,3.949599504470825,3.7310564517974854,3.7207894325256348,3.7619876861572266,3.533452033996582,3.627866744995117,3.8738203048706055,3.597801446914673,3.354952573776245,3.4105424880981445,3.5959315299987793,3.2413322925567627,4.204127788543701,4.31207275390625,3.9231014251708984,3.5105090141296387,3.5673470497131348,2.9918715953826904,2.6792240142822266,3.219858407974243,3.4488766193389893,4.224891662597656,3.999523639678955,3.6450157165527344,3.270488977432251,3.685701370239258,3.4396095275878906,2.852942705154419,4.00820255279541,3.282500982284546,3.2508885860443115,3.607055425643921,3.7502334117889404,3.503220796585083,3.7125022411346436,4.361685276031494,4.339061260223389,3.2968382835388184,3.599696397781372,4.145002841949463,3.488248109817505,3.405776262283325,3.7023863792419434,3.2831666469573975,4.215987682342529,3.686767816543579,3.51145601272583,3.743541717529297,3.7139804363250732,4.012228012084961,3.591468095779419,3.4868669509887695,4.10791540145874,3.3845138549804688,3.9709889888763428,3.4095442295074463,3.360879421234131,3.679839611053467,3.7244997024536133,4.15311336517334,3.7218596935272217,4.145279407501221,3.250322103500366,3.621476650238037,3.4857962131500244,3.6983776092529297,3.80249285697937,3.5189974308013916,3.774834156036377,3.303687334060669,3.3154988288879395,3.2280685901641846,4.185807228088379,3.3335421085357666,3.1726529598236084,3.641678810119629,4.228286266326904,3.8611693382263184,3.76662015914917,3.863271713256836,3.74786114692688,3.66867995262146,3.4064319133758545,3.3319664001464844,3.4887611865997314,3.5058207511901855,3.5382776260375977,3.523852825164795,3.7291884422302246,3.417834997177124,4.342468738555908,4.340556621551514,3.403926372528076,3.6135635375976562,4.295856952667236,4.275487422943115,3.5929665565490723,3.880878210067749,3.955418348312378,3.512840509414673,3.3625099658966064,3.596731185913086,3.6934568881988525,3.5454256534576416,3.8494722843170166,3.528913736343384,3.6383368968963623,3.846205949783325,3.9050099849700928,3.534123182296753,3.971268653869629,3.4967124462127686,3.5400843620300293,3.6924970149993896,3.5464508533477783,3.4002881050109863,4.081048011779785,4.503237724304199,3.593379020690918,3.3953182697296143,3.3340253829956055,3.9096269607543945,4.030709743499756,3.804577589035034,3.5532190799713135,3.804318904876709,4.0203704833984375,3.5584194660186768,3.8408024311065674,3.9071288108825684,3.9878878593444824,3.954617977142334,3.542468547821045,3.7377073764801025,3.3744661808013916,3.4293053150177,3.3899948596954346,3.4195914268493652,3.8581886291503906,3.882929563522339,4.165651798248291,3.8299150466918945,3.7643353939056396,4.105922222137451,3.5248873233795166,3.541416883468628,3.4869186878204346,3.5055091381073,3.4622347354888916,3.94626784324646,3.499558210372925,3.8165175914764404,3.5155045986175537,3.450336217880249,3.2921571731567383,3.542696714401245,4.563935279846191,3.7242636680603027,3.6753883361816406,4.01205587387085,4.032493591308594,3.8532023429870605,4.097735404968262,3.946828842163086,3.0644311904907227,3.5499424934387207,3.6163010597229004,3.586329936981201,3.696805000305176,3.403808832168579,3.649392604827881,3.6467206478118896,3.426913261413574,3.3813998699188232,3.378023386001587,4.025132656097412,4.234530925750732,2.911135196685791,3.7245991230010986,3.2836050987243652,3.6160528659820557,3.530181646347046,3.4794201850891113,3.0839364528656006,3.2441840171813965,3.6378443241119385,3.1394245624542236,4.635415554046631,3.679065704345703,3.5588133335113525,3.7307748794555664,3.1064202785491943,3.917349100112915,3.6469907760620117,3.7753498554229736,3.4199233055114746,3.1698381900787354,4.252953052520752,3.084907054901123,3.8899877071380615,3.5755114555358887,3.266043186187744,3.368589401245117,3.589996814727783,3.596522331237793,3.6099135875701904,3.400310754776001,3.9516122341156006,3.6911749839782715,3.6823220252990723,4.1356730461120605,3.2915472984313965,3.1998708248138428,3.9365618228912354,3.2906060218811035,3.1302900314331055,3.057034492492676,3.583653450012207,3.8328280448913574,3.5040507316589355,3.031771659851074,3.966566562652588,3.6358513832092285,3.3863260746002197,3.178427219390869,3.6648640632629395,2.7743117809295654,3.730257272720337,3.8303771018981934,3.5186283588409424,3.4974710941314697,3.487191915512085,3.565051555633545,3.9974799156188965,4.351250171661377,3.544792890548706,4.0580644607543945,3.2488913536071777,2.9545066356658936,3.7105765342712402,4.431126117706299,3.3774213790893555,3.4759087562561035,3.7008581161499023,4.121216773986816,3.745647668838501,3.6917994022369385,3.0919432640075684,2.8652408123016357,3.621039628982544,3.0649561882019043,3.8893518447875977,3.4725279808044434,3.718719959259033,3.522470712661743,2.477848768234253,3.364532947540283,3.5180225372314453,3.552581310272217,3.5560801029205322,3.67974853515625,2.8362152576446533,3.8469693660736084,4.088239669799805,4.082686901092529,3.9011173248291016,3.456376075744629,3.4139840602874756,3.9577770233154297,3.602198362350464,3.6623640060424805,3.5876619815826416,3.497392416000366,3.3744752407073975,4.572775840759277,3.6981375217437744,3.1836698055267334,3.423394203186035,4.397707462310791,3.9330835342407227,3.203805685043335,3.514174461364746,3.6909019947052,3.72544264793396,3.9959070682525635,3.082913875579834,3.3809776306152344,3.4719345569610596,3.676180124282837,2.415785074234009,2.660062074661255,3.0977890491485596,2.928577184677124,2.8630552291870117,3.046694040298462,3.3045616149902344,3.2906205654144287,3.5957419872283936,3.0857155323028564,3.003331184387207,3.798123359680176,3.5329480171203613,3.543365001678467,2.5658650398254395,3.625180244445801,2.4426066875457764,3.567781448364258,4.1006975173950195,3.990311622619629,2.747488498687744,3.3540256023406982,4.188045024871826,4.039030075073242,3.8025221824645996,3.691739559173584,3.8816325664520264,3.447843313217163,2.88944673538208,4.3363823890686035,3.4881234169006348,3.4648661613464355,2.7051942348480225,2.808154582977295,3.2531168460845947,3.8519771099090576,3.87565016746521,3.3112576007843018,2.915541887283325,2.8286805152893066,3.7293076515197754,3.9410343170166016,3.861708879470825,3.810971975326538,3.756711959838867,3.606367588043213,3.654677391052246,3.7512145042419434,3.3093690872192383,3.906412124633789,2.5330235958099365,3.18806791305542,4.260409832000732,3.3536341190338135,2.618992328643799,3.5825250148773193,4.123754024505615,2.5636351108551025,3.5997207164764404,3.914482831954956,3.3346598148345947,3.456256866455078,3.6426587104797363,4.067946434020996,3.526613473892212,3.351318359375,3.418375253677368,2.465743064880371,3.2902793884277344,3.4340085983276367,3.9889893531799316,3.5870301723480225,2.9474570751190186,3.604729652404785,2.9570467472076416,3.6497626304626465,3.7462947368621826,3.4098217487335205,3.1211347579956055,3.500701904296875,3.4819765090942383,3.0899691581726074,3.039879560470581,3.325007915496826,3.2596163749694824,3.538503646850586,4.156606674194336,3.41424298286438,3.6166176795959473,3.996978998184204,3.111323356628418,3.7517812252044678,3.834007501602173,2.699376344680786,2.4942619800567627,2.8218517303466797,3.544863224029541,3.380767822265625,3.3187644481658936,3.6527459621429443,3.317877769470215,3.4022698402404785,3.8640036582946777,3.098647356033325,3.1869301795959473,3.396432638168335,2.848029136657715,3.82431697845459,3.8323285579681396,3.205348253250122,4.060481548309326,4.071253776550293,3.2081542015075684,4.13070821762085,3.6718060970306396,3.6806704998016357,3.251452684402466,3.5683963298797607,3.3478076457977295,3.568943738937378,3.7750186920166016,3.0470733642578125,3.864596366882324,3.5031912326812744,3.4869370460510254,3.2576193809509277,3.941134214401245,3.792794942855835,3.4990546703338623,3.108485698699951,3.568131446838379,3.2216427326202393,2.8568339347839355,3.3209424018859863,3.920126438140869,3.464570999145508,3.4375672340393066,3.3330936431884766,3.7981326580047607,3.2726728916168213,2.9348347187042236,3.167504072189331,3.130084991455078,3.526144027709961,3.4696266651153564,3.2364182472229004,3.379539966583252,3.77679443359375,3.2524006366729736,4.359305381774902,3.2905373573303223,3.8234670162200928,3.1038901805877686,3.515481948852539,3.234628677368164,3.1028928756713867,3.4267044067382812,3.6182029247283936,3.3298850059509277,3.2969119548797607,3.2565832138061523,4.062341213226318,4.189392566680908,3.577011823654175,3.4030566215515137,3.6551513671875,3.9086062908172607,3.9668073654174805,3.4253313541412354,3.962256908416748,3.6868317127227783,2.9992408752441406,3.6486144065856934,3.311250686645508,3.616101026535034,3.9878618717193604,2.9312682151794434,3.630749464035034,3.5544145107269287,2.7951183319091797,3.126999616622925,3.5858957767486572,3.3167264461517334,3.1241698265075684,3.4218177795410156,3.306588649749756,3.6251494884490967,3.687774181365967,3.4133522510528564,3.231292963027954,3.4697015285491943,3.017852783203125,2.7738003730773926,3.1557819843292236,3.691664218902588,3.013868808746338,2.6397552490234375,3.399949550628662,3.1774866580963135,3.738673448562622,2.704500198364258,2.6328234672546387,3.3607170581817627,3.5037248134613037,3.3959035873413086,3.563828945159912,3.9196059703826904,3.522780179977417,3.436753034591675,3.3583576679229736,3.4813599586486816,2.5997955799102783,2.897380828857422,3.4436676502227783,3.175623893737793,2.8507251739501953,3.2631125450134277,3.468550443649292,3.982227325439453,3.5205347537994385,2.465743064880371,3.3959262371063232,2.6555721759796143,3.2858381271362305,3.6678035259246826,3.549112319946289,3.224398612976074,3.0106916427612305,4.3978729248046875,3.69588303565979,3.291029691696167,3.2279021739959717,3.2933506965637207,3.2783422470092773,3.534625768661499,3.392408847808838,2.8328328132629395,2.9688875675201416,3.0629074573516846,2.704920768737793,3.2287633419036865,2.848602294921875,2.67570424079895,3.473747491836548,3.1317453384399414,2.856588125228882,3.224442481994629,3.6368091106414795,3.320659875869751,3.2536163330078125,2.913816213607788,3.066276788711548,2.730234384536743,3.0891878604888916,3.1438379287719727,3.4955239295959473,3.433123826980591,3.102222442626953,3.4033102989196777,3.291663408279419,3.559114456176758,3.609468460083008,2.8220980167388916,3.915642499923706,3.5193960666656494,3.434962749481201,2.9760773181915283,3.479949712753296,3.0129594802856445,3.1362085342407227,3.57463002204895,2.9790432453155518,2.688767194747925,3.211906909942627,3.2684457302093506,3.459218978881836,3.0059378147125244,3.4864046573638916,3.596174478530884,3.847015380859375,3.418320417404175,2.9465184211730957,3.6336193084716797,3.385680913925171,2.5919270515441895,3.7180464267730713,3.405038595199585,2.725534200668335,3.403703212738037,3.7878828048706055,2.7400009632110596,3.4989569187164307,2.9056131839752197,2.6507561206817627,3.3724677562713623,3.6808815002441406,2.9343409538269043,2.78532075881958,2.6704177856445312,3.6694822311401367,2.997419834136963,2.60807466506958,3.3760554790496826,3.533694267272949,2.8029143810272217,2.9390320777893066,3.029232978820801,3.5567996501922607,3.457073211669922,2.7951183319091797,2.811457872390747,2.8656349182128906,3.400801420211792,3.3710012435913086,3.301058769226074,3.327479839324951,2.8566501140594482,3.6140687465667725,3.383445978164673,2.7380990982055664,3.614781618118286,3.2425544261932373,2.7396299839019775,3.5296883583068848,2.7327566146850586,3.498471736907959,3.4275293350219727,2.9100117683410645,3.052464008331299,3.2347683906555176,3.051072835922241,2.6339681148529053,3.55350661277771,3.3575851917266846,3.640864133834839,3.7843356132507324,2.6322267055511475,3.160435676574707,2.957892894744873,2.939924478530884,3.211486577987671,3.0268115997314453,3.184319019317627,3.7677059173583984,3.245851516723633,2.9572224617004395,2.8121371269226074,3.5784056186676025,2.9993340969085693,3.62629771232605,3.9409706592559814,3.5566201210021973,3.07765793800354,2.607079029083252,2.948164701461792,3.391787528991699,3.505770206451416,3.340358257293701,3.545531749725342,3.085329294204712,3.449345111846924,2.987534284591675,3.264008045196533,3.4279284477233887,2.851301670074463,2.7396299839019775,2.9258079528808594,3.4659948348999023,2.8297932147979736,3.2192859649658203,3.036909580230713,3.2935099601745605,2.8105156421661377,3.008354902267456,3.0480620861053467,2.974515438079834,2.6574597358703613,3.636659860610962,3.7558281421661377,3.3264811038970947,3.62561297416687,3.34342622756958,3.4282283782958984,2.5934648513793945,3.284006357192993,3.0218448638916016,2.9073402881622314,3.090178966522217,3.4737069606781006,3.0875823497772217,3.1988871097564697,2.915144920349121,3.2913103103637695,3.0553131103515625,2.7932112216949463,3.3343772888183594,2.8314099311828613,2.7065818309783936,3.398303270339966,2.980863332748413,3.319246292114258,2.708573341369629,2.828334331512451,3.5002281665802,3.0936148166656494,2.637754440307617,2.9979379177093506,3.357327938079834,3.6322214603424072,2.902653217315674,3.0835745334625244,3.3780391216278076,3.663884162902832,3.0551021099090576,3.2337145805358887,3.4958465099334717,3.381316900253296,3.2832329273223877,3.195688247680664,3.8395333290100098,3.0443012714385986,3.2834396362304688,3.6362268924713135,3.13948392868042,3.1792192459106445,3.505038261413574,2.8304288387298584,3.9119274616241455,3.398744583129883,3.0446267127990723,3.1311652660369873,3.5270273685455322,2.834683418273926,3.0468862056732178,3.1617865562438965,3.262256383895874,2.8656349182128906,2.8819420337677,3.017214059829712,3.0238232612609863,2.9767239093780518,2.6952626705169678,2.6129443645477295,2.8990843296051025,3.630361318588257,3.0671956539154053,3.519299030303955,2.581742286682129,3.401219606399536,3.1469266414642334,3.5790855884552,3.215562582015991,3.0496468544006348,2.712770700454712,3.4314310550689697,3.857935667037964,3.123352527618408,2.7909560203552246,3.976200580596924,3.578862428665161,2.879399061203003,2.6964807510375977,3.083325147628784,2.974017858505249,2.778778076171875,2.933495283126831,3.395078420639038,3.2665915489196777,2.9951565265655518,2.4002623558044434,3.0727174282073975,3.726353406906128,2.75677490234375,2.4002623558044434,2.94974422454834,2.625298023223877,3.4654645919799805,2.707256317138672,3.072848320007324,3.67173171043396,3.6509132385253906,3.353999376296997,3.000875234603882,3.0289978981018066,3.422524929046631,3.40596342086792,3.490187883377075,2.933635950088501,3.390857696533203,2.958265542984009,2.900752305984497,3.600377082824707,2.532214641571045,2.8371129035949707,2.6144425868988037,3.7868738174438477,2.8993980884552,2.956186532974243,2.9932003021240234,3.4394407272338867,3.016249656677246,3.223834991455078,2.631869077682495,2.931582450866699,2.7463366985321045,3.3364205360412598,3.58151912689209,3.7289931774139404,2.8301708698272705,3.2079100608825684,2.5313897132873535,3.3230092525482178,3.6813690662384033,3.3622958660125732,2.738128662109375,2.465743064880371,3.543952465057373,3.6210479736328125,3.1435868740081787,2.829528570175171,3.198137044906616,3.0842196941375732,3.9094483852386475,3.3540122509002686,3.1008780002593994,3.2162671089172363,3.446084499359131,3.340358257293701,3.4146883487701416,3.144028425216675,3.370924949645996,3.7684450149536133,3.46303129196167,3.2216122150421143,3.217276096343994,3.534667730331421,2.929048538208008,2.9733753204345703,3.4252960681915283,2.696854829788208,3.1824865341186523,3.015434503555298,3.4272618293762207,2.801316261291504,3.1489217281341553,3.048346519470215,2.696521520614624,2.680143356323242,3.144886016845703,2.7363831996917725,3.404252052307129,3.4119508266448975,3.1176564693450928,2.6400182247161865,3.0698838233947754,3.6835341453552246,3.134249448776245,2.7830846309661865,3.425088405609131,3.425088405609131,3.425088405609131,2.9073915481567383,3.528506278991699,3.1501686573028564,3.1097843647003174,2.626819610595703,2.855872869491577,3.2816784381866455,2.848597288131714,3.655466318130493,4.107825756072998,2.7567226886749268,2.9231576919555664,2.8640918731689453,2.9231576919555664,3.5024919509887695,3.2917232513427734,2.6984870433807373,3.239109754562378,3.7062766551971436,3.5024919509887695,3.016249656677246,2.6196441650390625,3.177081823348999,2.6706631183624268,3.034627676010132,2.728837013244629,2.8301913738250732,3.361879348754883,3.484571695327759,2.7736358642578125,2.67657470703125,3.0715839862823486,3.657627820968628,2.599243640899658,3.2163829803466797,2.626882553100586,3.2079100608825684,2.816985845565796,3.2103428840637207,3.0838706493377686,2.6574597358703613,3.1311652660369873,2.8738958835601807],\"type\":\"histogram\"}],                        {\"template\":{\"data\":{\"histogram2dcontour\":[{\"type\":\"histogram2dcontour\",\"colorbar\":{\"outlinewidth\":0,\"ticks\":\"\"},\"colorscale\":[[0.0,\"#0d0887\"],[0.1111111111111111,\"#46039f\"],[0.2222222222222222,\"#7201a8\"],[0.3333333333333333,\"#9c179e\"],[0.4444444444444444,\"#bd3786\"],[0.5555555555555556,\"#d8576b\"],[0.6666666666666666,\"#ed7953\"],[0.7777777777777778,\"#fb9f3a\"],[0.8888888888888888,\"#fdca26\"],[1.0,\"#f0f921\"]]}],\"choropleth\":[{\"type\":\"choropleth\",\"colorbar\":{\"outlinewidth\":0,\"ticks\":\"\"}}],\"histogram2d\":[{\"type\":\"histogram2d\",\"colorbar\":{\"outlinewidth\":0,\"ticks\":\"\"},\"colorscale\":[[0.0,\"#0d0887\"],[0.1111111111111111,\"#46039f\"],[0.2222222222222222,\"#7201a8\"],[0.3333333333333333,\"#9c179e\"],[0.4444444444444444,\"#bd3786\"],[0.5555555555555556,\"#d8576b\"],[0.6666666666666666,\"#ed7953\"],[0.7777777777777778,\"#fb9f3a\"],[0.8888888888888888,\"#fdca26\"],[1.0,\"#f0f921\"]]}],\"heatmap\":[{\"type\":\"heatmap\",\"colorbar\":{\"outlinewidth\":0,\"ticks\":\"\"},\"colorscale\":[[0.0,\"#0d0887\"],[0.1111111111111111,\"#46039f\"],[0.2222222222222222,\"#7201a8\"],[0.3333333333333333,\"#9c179e\"],[0.4444444444444444,\"#bd3786\"],[0.5555555555555556,\"#d8576b\"],[0.6666666666666666,\"#ed7953\"],[0.7777777777777778,\"#fb9f3a\"],[0.8888888888888888,\"#fdca26\"],[1.0,\"#f0f921\"]]}],\"heatmapgl\":[{\"type\":\"heatmapgl\",\"colorbar\":{\"outlinewidth\":0,\"ticks\":\"\"},\"colorscale\":[[0.0,\"#0d0887\"],[0.1111111111111111,\"#46039f\"],[0.2222222222222222,\"#7201a8\"],[0.3333333333333333,\"#9c179e\"],[0.4444444444444444,\"#bd3786\"],[0.5555555555555556,\"#d8576b\"],[0.6666666666666666,\"#ed7953\"],[0.7777777777777778,\"#fb9f3a\"],[0.8888888888888888,\"#fdca26\"],[1.0,\"#f0f921\"]]}],\"contourcarpet\":[{\"type\":\"contourcarpet\",\"colorbar\":{\"outlinewidth\":0,\"ticks\":\"\"}}],\"contour\":[{\"type\":\"contour\",\"colorbar\":{\"outlinewidth\":0,\"ticks\":\"\"},\"colorscale\":[[0.0,\"#0d0887\"],[0.1111111111111111,\"#46039f\"],[0.2222222222222222,\"#7201a8\"],[0.3333333333333333,\"#9c179e\"],[0.4444444444444444,\"#bd3786\"],[0.5555555555555556,\"#d8576b\"],[0.6666666666666666,\"#ed7953\"],[0.7777777777777778,\"#fb9f3a\"],[0.8888888888888888,\"#fdca26\"],[1.0,\"#f0f921\"]]}],\"surface\":[{\"type\":\"surface\",\"colorbar\":{\"outlinewidth\":0,\"ticks\":\"\"},\"colorscale\":[[0.0,\"#0d0887\"],[0.1111111111111111,\"#46039f\"],[0.2222222222222222,\"#7201a8\"],[0.3333333333333333,\"#9c179e\"],[0.4444444444444444,\"#bd3786\"],[0.5555555555555556,\"#d8576b\"],[0.6666666666666666,\"#ed7953\"],[0.7777777777777778,\"#fb9f3a\"],[0.8888888888888888,\"#fdca26\"],[1.0,\"#f0f921\"]]}],\"mesh3d\":[{\"type\":\"mesh3d\",\"colorbar\":{\"outlinewidth\":0,\"ticks\":\"\"}}],\"scatter\":[{\"fillpattern\":{\"fillmode\":\"overlay\",\"size\":10,\"solidity\":0.2},\"type\":\"scatter\"}],\"parcoords\":[{\"type\":\"parcoords\",\"line\":{\"colorbar\":{\"outlinewidth\":0,\"ticks\":\"\"}}}],\"scatterpolargl\":[{\"type\":\"scatterpolargl\",\"marker\":{\"colorbar\":{\"outlinewidth\":0,\"ticks\":\"\"}}}],\"bar\":[{\"error_x\":{\"color\":\"#2a3f5f\"},\"error_y\":{\"color\":\"#2a3f5f\"},\"marker\":{\"line\":{\"color\":\"#E5ECF6\",\"width\":0.5},\"pattern\":{\"fillmode\":\"overlay\",\"size\":10,\"solidity\":0.2}},\"type\":\"bar\"}],\"scattergeo\":[{\"type\":\"scattergeo\",\"marker\":{\"colorbar\":{\"outlinewidth\":0,\"ticks\":\"\"}}}],\"scatterpolar\":[{\"type\":\"scatterpolar\",\"marker\":{\"colorbar\":{\"outlinewidth\":0,\"ticks\":\"\"}}}],\"histogram\":[{\"marker\":{\"pattern\":{\"fillmode\":\"overlay\",\"size\":10,\"solidity\":0.2}},\"type\":\"histogram\"}],\"scattergl\":[{\"type\":\"scattergl\",\"marker\":{\"colorbar\":{\"outlinewidth\":0,\"ticks\":\"\"}}}],\"scatter3d\":[{\"type\":\"scatter3d\",\"line\":{\"colorbar\":{\"outlinewidth\":0,\"ticks\":\"\"}},\"marker\":{\"colorbar\":{\"outlinewidth\":0,\"ticks\":\"\"}}}],\"scattermapbox\":[{\"type\":\"scattermapbox\",\"marker\":{\"colorbar\":{\"outlinewidth\":0,\"ticks\":\"\"}}}],\"scatterternary\":[{\"type\":\"scatterternary\",\"marker\":{\"colorbar\":{\"outlinewidth\":0,\"ticks\":\"\"}}}],\"scattercarpet\":[{\"type\":\"scattercarpet\",\"marker\":{\"colorbar\":{\"outlinewidth\":0,\"ticks\":\"\"}}}],\"carpet\":[{\"aaxis\":{\"endlinecolor\":\"#2a3f5f\",\"gridcolor\":\"white\",\"linecolor\":\"white\",\"minorgridcolor\":\"white\",\"startlinecolor\":\"#2a3f5f\"},\"baxis\":{\"endlinecolor\":\"#2a3f5f\",\"gridcolor\":\"white\",\"linecolor\":\"white\",\"minorgridcolor\":\"white\",\"startlinecolor\":\"#2a3f5f\"},\"type\":\"carpet\"}],\"table\":[{\"cells\":{\"fill\":{\"color\":\"#EBF0F8\"},\"line\":{\"color\":\"white\"}},\"header\":{\"fill\":{\"color\":\"#C8D4E3\"},\"line\":{\"color\":\"white\"}},\"type\":\"table\"}],\"barpolar\":[{\"marker\":{\"line\":{\"color\":\"#E5ECF6\",\"width\":0.5},\"pattern\":{\"fillmode\":\"overlay\",\"size\":10,\"solidity\":0.2}},\"type\":\"barpolar\"}],\"pie\":[{\"automargin\":true,\"type\":\"pie\"}]},\"layout\":{\"autotypenumbers\":\"strict\",\"colorway\":[\"#636efa\",\"#EF553B\",\"#00cc96\",\"#ab63fa\",\"#FFA15A\",\"#19d3f3\",\"#FF6692\",\"#B6E880\",\"#FF97FF\",\"#FECB52\"],\"font\":{\"color\":\"#2a3f5f\"},\"hovermode\":\"closest\",\"hoverlabel\":{\"align\":\"left\"},\"paper_bgcolor\":\"white\",\"plot_bgcolor\":\"#E5ECF6\",\"polar\":{\"bgcolor\":\"#E5ECF6\",\"angularaxis\":{\"gridcolor\":\"white\",\"linecolor\":\"white\",\"ticks\":\"\"},\"radialaxis\":{\"gridcolor\":\"white\",\"linecolor\":\"white\",\"ticks\":\"\"}},\"ternary\":{\"bgcolor\":\"#E5ECF6\",\"aaxis\":{\"gridcolor\":\"white\",\"linecolor\":\"white\",\"ticks\":\"\"},\"baxis\":{\"gridcolor\":\"white\",\"linecolor\":\"white\",\"ticks\":\"\"},\"caxis\":{\"gridcolor\":\"white\",\"linecolor\":\"white\",\"ticks\":\"\"}},\"coloraxis\":{\"colorbar\":{\"outlinewidth\":0,\"ticks\":\"\"}},\"colorscale\":{\"sequential\":[[0.0,\"#0d0887\"],[0.1111111111111111,\"#46039f\"],[0.2222222222222222,\"#7201a8\"],[0.3333333333333333,\"#9c179e\"],[0.4444444444444444,\"#bd3786\"],[0.5555555555555556,\"#d8576b\"],[0.6666666666666666,\"#ed7953\"],[0.7777777777777778,\"#fb9f3a\"],[0.8888888888888888,\"#fdca26\"],[1.0,\"#f0f921\"]],\"sequentialminus\":[[0.0,\"#0d0887\"],[0.1111111111111111,\"#46039f\"],[0.2222222222222222,\"#7201a8\"],[0.3333333333333333,\"#9c179e\"],[0.4444444444444444,\"#bd3786\"],[0.5555555555555556,\"#d8576b\"],[0.6666666666666666,\"#ed7953\"],[0.7777777777777778,\"#fb9f3a\"],[0.8888888888888888,\"#fdca26\"],[1.0,\"#f0f921\"]],\"diverging\":[[0,\"#8e0152\"],[0.1,\"#c51b7d\"],[0.2,\"#de77ae\"],[0.3,\"#f1b6da\"],[0.4,\"#fde0ef\"],[0.5,\"#f7f7f7\"],[0.6,\"#e6f5d0\"],[0.7,\"#b8e186\"],[0.8,\"#7fbc41\"],[0.9,\"#4d9221\"],[1,\"#276419\"]]},\"xaxis\":{\"gridcolor\":\"white\",\"linecolor\":\"white\",\"ticks\":\"\",\"title\":{\"standoff\":15},\"zerolinecolor\":\"white\",\"automargin\":true,\"zerolinewidth\":2},\"yaxis\":{\"gridcolor\":\"white\",\"linecolor\":\"white\",\"ticks\":\"\",\"title\":{\"standoff\":15},\"zerolinecolor\":\"white\",\"automargin\":true,\"zerolinewidth\":2},\"scene\":{\"xaxis\":{\"backgroundcolor\":\"#E5ECF6\",\"gridcolor\":\"white\",\"linecolor\":\"white\",\"showbackground\":true,\"ticks\":\"\",\"zerolinecolor\":\"white\",\"gridwidth\":2},\"yaxis\":{\"backgroundcolor\":\"#E5ECF6\",\"gridcolor\":\"white\",\"linecolor\":\"white\",\"showbackground\":true,\"ticks\":\"\",\"zerolinecolor\":\"white\",\"gridwidth\":2},\"zaxis\":{\"backgroundcolor\":\"#E5ECF6\",\"gridcolor\":\"white\",\"linecolor\":\"white\",\"showbackground\":true,\"ticks\":\"\",\"zerolinecolor\":\"white\",\"gridwidth\":2}},\"shapedefaults\":{\"line\":{\"color\":\"#2a3f5f\"}},\"annotationdefaults\":{\"arrowcolor\":\"#2a3f5f\",\"arrowhead\":0,\"arrowwidth\":1},\"geo\":{\"bgcolor\":\"white\",\"landcolor\":\"#E5ECF6\",\"subunitcolor\":\"white\",\"showland\":true,\"showlakes\":true,\"lakecolor\":\"white\"},\"title\":{\"x\":0.05},\"mapbox\":{\"style\":\"light\"}}},\"title\":{\"text\":\"Distribution of Nuclear Norm of Node Explain Matrix\"},\"xaxis\":{\"title\":{\"text\":\"Nuclear Norm\"}},\"yaxis\":{\"title\":{\"text\":\"Frequency\"}},\"font\":{\"size\":20},\"paper_bgcolor\":\"white\",\"plot_bgcolor\":\"white\"},                        {\"responsive\": true}                    ).then(function(){\n",
       "                            \n",
       "var gd = document.getElementById('14809c80-da39-4b2c-9aa2-952127986724');\n",
       "var x = new MutationObserver(function (mutations, observer) {{\n",
       "        var display = window.getComputedStyle(gd).display;\n",
       "        if (!display || display === 'none') {{\n",
       "            console.log([gd, 'removed!']);\n",
       "            Plotly.purge(gd);\n",
       "            observer.disconnect();\n",
       "        }}\n",
       "}});\n",
       "\n",
       "// Listen for the removal of the full notebook cells\n",
       "var notebookContainer = gd.closest('#notebook-container');\n",
       "if (notebookContainer) {{\n",
       "    x.observe(notebookContainer, {childList: true});\n",
       "}}\n",
       "\n",
       "// Listen for the clearing of the current output cell\n",
       "var outputEl = gd.closest('.output');\n",
       "if (outputEl) {{\n",
       "    x.observe(outputEl, {childList: true});\n",
       "}}\n",
       "\n",
       "                        })                };                });            </script>        </div>"
      ]
     },
     "metadata": {},
     "output_type": "display_data"
    }
   ],
   "source": [
    "fig = go.Figure()\n",
    "\n",
    "fig.add_trace(go.Histogram(x = norm_og, \n",
    "                           name = 'DGI'))\n",
    "fig.add_trace(go.Histogram(x = norm_plus, \n",
    "                           name = 'DGI+XM'))\n",
    "\n",
    "\n",
    "fig.update_layout(title_text = 'Distribution of Nuclear Norm of Node Explain Matrix', \n",
    "                  xaxis_title_text = 'Nuclear Norm', \n",
    "                  yaxis_title_text = 'Frequency', \n",
    "                  paper_bgcolor = 'white', \n",
    "                  plot_bgcolor = 'white', \n",
    "                  font = dict(size = 20))\n",
    "fig.show()"
   ]
  },
  {
   "cell_type": "code",
   "execution_count": 79,
   "id": "77b1208e",
   "metadata": {},
   "outputs": [
    {
     "data": {
      "application/vnd.plotly.v1+json": {
       "config": {
        "plotlyServerURL": "https://plot.ly"
       },
       "data": [
        {
         "type": "heatmap",
         "z": [
          [
           0.0009575391886755824,
           0.001173480530269444,
           2.229771598649677e-05,
           0.0009590201079845428,
           0.0011298604076728225,
           0.0004847052041441202,
           0.001066210912540555
          ],
          [
           0.1517462432384491,
           0.1859530359506607,
           0.0035966848954558372,
           0.15198084712028503,
           0.17904329299926758,
           0.07684566080570221,
           0.16896069049835205
          ],
          [
           0.12422806024551392,
           0.15223167836666107,
           0.0029443767853081226,
           0.12442009896039963,
           0.1465749591588974,
           0.06291016191244125,
           0.13832078874111176
          ],
          [
           0.11101449280977249,
           0.13603951036930084,
           0.0026311546098440886,
           0.11118610948324203,
           0.13098447024822235,
           0.05621867999434471,
           0.12360824644565582
          ],
          [
           0.0011768259573727846,
           0.0014421988744288683,
           2.7495821996126324e-05,
           0.001178645878098905,
           0.0013885936932638288,
           0.0005957542452961206,
           0.0013103740056976676
          ],
          [
           0.22554917633533478,
           0.2763926684856415,
           0.005346153397113085,
           0.225897878408432,
           0.26612231135368347,
           0.11422020941972733,
           0.2511359751224518
          ],
          [
           0.0003295979113318026,
           0.00040398843702860177,
           7.412616014335072e-06,
           0.0003301080723758787,
           0.00038896151818335056,
           0.00016670934564899653,
           0.0003670346923172474
          ],
          [
           0.000224810850340873,
           0.0002755802415776998,
           4.928680027660448e-06,
           0.00022515903401654214,
           0.00026532483752816916,
           0.00011364410602254793,
           0.0002503603755030781
          ],
          [
           0.00040858369902707636,
           0.0005007792497053742,
           9.284943189413752e-06,
           0.0004092159797437489,
           0.0004821557376999408,
           0.0002067085588350892,
           0.0004549807927105576
          ],
          [
           0.10443170368671417,
           0.12797284126281738,
           0.002475112210959196,
           0.10459315776824951,
           0.12321753799915314,
           0.052885089069604874,
           0.11627870053052902
          ],
          [
           0.1285271793603897,
           0.15749990940093994,
           0.0030462853610515594,
           0.12872585654258728,
           0.1516474187374115,
           0.06508728116750717,
           0.143107607960701
          ],
          [
           0.0019611860625445843,
           0.0024033698718994856,
           4.608876770362258e-05,
           0.0019642184488475323,
           0.002314048819243908,
           0.0009929623920470476,
           0.002183713484555483
          ],
          [
           0.0002129164495272562,
           0.00026100457762368023,
           4.646727575163823e-06,
           0.00021324622503016144,
           0.0002512907958589494,
           0.00010762065357994288,
           0.00023711663379799575
          ],
          [
           0.0011796620674431324,
           0.0014456744538620114,
           2.756305184448138e-05,
           0.0011814864119514823,
           0.0013919399352744222,
           0.0005971905775368214,
           0.001313531887717545
          ],
          [
           0.0007922985241748393,
           0.0009709912119433284,
           1.8380751498625614e-05,
           0.0007935239700600505,
           0.0009348953608423471,
           0.0004010256670881063,
           0.0008822250529192388
          ],
          [
           0.0011588898487389088,
           0.0014202197780832648,
           2.7070656869909726e-05,
           0.0011606821790337563,
           0.0013674311339855194,
           0.0005866712890565395,
           0.0012904033064842224
          ],
          [
           0.25042924284935,
           0.3068811893463135,
           0.0059359255246818066,
           0.2508164048194885,
           0.29547789692878723,
           0.12681972980499268,
           0.27883848547935486
          ],
          [
           0.15758849680423737,
           0.19311223924160004,
           0.0037351727951318026,
           0.15783211588859558,
           0.18593646585941315,
           0.07980422675609589,
           0.17546570301055908
          ],
          [
           0.16660521924495697,
           0.20416155457496643,
           0.003948910627514124,
           0.16686278581619263,
           0.19657517969608307,
           0.08437039703130722,
           0.18550530076026917
          ],
          [
           0.23059363663196564,
           0.28257423639297485,
           0.005465730559080839,
           0.23095008730888367,
           0.2720741629600525,
           0.1167747750878334,
           0.25675269961357117
          ],
          [
           0.0002446383878123015,
           0.0002998773125000298,
           5.398684152169153e-06,
           0.0002450172323733568,
           0.0002887190494220704,
           0.00012368497846182436,
           0.0002724371734075248
          ],
          [
           0.24904324114322662,
           0.3051827549934387,
           0.005903071258217096,
           0.24942824244499207,
           0.293842613697052,
           0.12611784040927887,
           0.2772952616214752
          ],
          [
           0.00017897546058520675,
           0.00021941261366009712,
           3.842170372081455e-06,
           0.0001792527618817985,
           0.000211244318052195,
           9.043258614838123e-05,
           0.0001993252953980118
          ],
          [
           0.00015937129501253366,
           0.0001953892788151279,
           3.377460870979121e-06,
           0.00015961828466970474,
           0.0001881136413430795,
           8.050483302213252e-05,
           0.00017749721882864833
          ],
          [
           0.0015101952012628317,
           0.0018507165368646383,
           3.5398210457060486e-05,
           0.00151253049261868,
           0.0017819312633946538,
           0.0007645759033039212,
           0.0016815613489598036
          ],
          [
           0.0001990403252420947,
           0.00024400051916018128,
           4.317800176067976e-06,
           0.00019934866577386856,
           0.00023491856700275093,
           0.00010059365013148636,
           0.00022166639973875135
          ],
          [
           0.207596555352211,
           0.25439316034317017,
           0.004920593928545713,
           0.2079174965620041,
           0.24494025111198425,
           0.10512881726026535,
           0.23114679753780365
          ],
          [
           0.00033807349973358214,
           0.00041437457548454404,
           7.613526122440817e-06,
           0.00033859675750136375,
           0.000398961768951267,
           0.00017100147670134902,
           0.00037647178396582603
          ],
          [
           0.2471218705177307,
           0.30282828211784363,
           0.005857525859028101,
           0.24750389158725739,
           0.2915755808353424,
           0.1251448392868042,
           0.2751559317111969
          ],
          [
           0.1749623715877533,
           0.21440254151821136,
           0.004147013183683157,
           0.17523284256458282,
           0.20643563568592072,
           0.08860253542661667,
           0.19481049478054047
          ],
          [
           6.962608313187957e-05,
           8.541365968994796e-05,
           1.250086938853201e-06,
           6.9734342105221e-05,
           8.22245710878633e-05,
           3.5056942579103634e-05,
           7.757113053230569e-05
          ],
          [
           0.0009599242475815117,
           0.001176403253339231,
           2.2354251996148378e-05,
           0.0009614088339731097,
           0.001132674515247345,
           0.0004859130422119051,
           0.001068866578862071
          ],
          [
           0.6705809235572815,
           0.8217436671257019,
           0.015895456075668335,
           0.6716176271438599,
           0.791208803653717,
           0.33958888053894043,
           0.7466530799865723
          ],
          [
           0.16185057163238525,
           0.19833506643772125,
           0.0038362035993486643,
           0.16210077702999115,
           0.1909652054309845,
           0.08196259289979935,
           0.18021129071712494
          ],
          [
           0.0005498238606378436,
           0.0006738577503710985,
           1.2632984180527274e-05,
           0.0005506744491867721,
           0.0006488029030151665,
           0.00027823401615023613,
           0.0006122434861026704
          ],
          [
           0.00040542607894167304,
           0.0004969098372384906,
           9.210093594447244e-06,
           0.00040605347021482885,
           0.00047843012725934386,
           0.0002051095070783049,
           0.00045146490447223186
          ],
          [
           0.1102374792098999,
           0.13508735597133636,
           0.0026127358432859182,
           0.11040790379047394,
           0.13006769120693207,
           0.05582519248127937,
           0.12274309247732162
          ],
          [
           0.15391063690185547,
           0.18860532343387604,
           0.0036479902919381857,
           0.15414856374263763,
           0.1815970093011856,
           0.07794172316789627,
           0.17137062549591064
          ],
          [
           0.1459420621395111,
           0.17884047329425812,
           0.0034590987488627434,
           0.14616768062114716,
           0.17219500243663788,
           0.07390636205673218,
           0.1624980866909027
          ],
          [
           0.0014729058602824807,
           0.0018050214275717735,
           3.451427983236499e-05,
           0.0014751835260540247,
           0.0017379340715706348,
           0.0007456921739503741,
           0.0016400418244302273
          ],
          [
           0.0009292682516388595,
           0.0011388367274776101,
           2.1627565729431808e-05,
           0.0009307055152021348,
           0.0010965039255097508,
           0.00047038853517733514,
           0.0010347329080104828
          ],
          [
           1.689005148364231e-05,
           2.078985380649101e-05,
           0,
           1.691679426585324e-05,
           2.0002094970550388e-05,
           8.350876669283025e-06,
           1.885261372081004e-05
          ],
          [
           0.00023608111951034516,
           0.0002893910859711468,
           5.195837729843333e-06,
           0.00023644672182854265,
           0.0002786224940791726,
           0.00011935149086639285,
           0.0002629091904964298
          ],
          [
           0.4421168863773346,
           0.5417791604995728,
           0.010479805991053581,
           0.4428004026412964,
           0.5216474533081055,
           0.22389234602451324,
           0.4922715723514557
          ],
          [
           0.4882967472076416,
           0.5983688831329346,
           0.01157448161393404,
           0.48905161023139954,
           0.5761343240737915,
           0.24727830290794373,
           0.5436902046203613
          ],
          [
           0.33561962842941284,
           0.4112752377986908,
           0.007955330424010754,
           0.3361384868621826,
           0.39599281549453735,
           0.16996102035045624,
           0.3736930787563324
          ],
          [
           0.0005152240628376603,
           0.0006314584752544761,
           1.1812810953415465e-05,
           0.0005160211585462093,
           0.0006079791928641498,
           0.00026071234606206417,
           0.0005737186293117702
          ],
          [
           6.201702490216121e-05,
           7.6089367212262e-05,
           1.069717086465971e-06,
           6.211352592799813e-05,
           7.324675971176475e-05,
           3.1203639082377777e-05,
           6.909888179507107e-05
          ],
          [
           0.00033068496850319207,
           0.000405320490244776,
           7.438383818225702e-06,
           0.0003311967884656042,
           0.0003902441239915788,
           0.00016725983005017042,
           0.0003682450333144516
          ],
          [
           0.44580286741256714,
           0.5462960004806519,
           0.010567179881036282,
           0.4464920163154602,
           0.5259963870048523,
           0.22575895488262177,
           0.4963756501674652
          ],
          [
           0.00030197008163668215,
           0.0003701327077578753,
           6.757708888471825e-06,
           0.00030243751825764775,
           0.0003563638892956078,
           0.00015271833399310708,
           0.00033627270022407174
          ],
          [
           0.00033905060263350606,
           0.000415571965277195,
           7.636688678758219e-06,
           0.0003395754029043019,
           0.00040011462988331914,
           0.0001714963000267744,
           0.0003775597142521292
          ],
          [
           0.12780065834522247,
           0.15660962462425232,
           0.0030290638096630573,
           0.1279982179403305,
           0.15079021453857422,
           0.06471936404705048,
           0.14229866862297058
          ],
          [
           0.0014292332343757153,
           0.0017515039071440697,
           3.347903839312494e-05,
           0.0014314433792605996,
           0.0016864053905010223,
           0.0007235759403556585,
           0.0015914150280877948
          ],
          [
           0.0001765613560564816,
           0.00021645431115757674,
           3.7849445106985513e-06,
           0.00017683491751085967,
           0.00020839592616539448,
           8.921005064621568e-05,
           0.00019663733837660402
          ],
          [
           0.001379909459501505,
           0.0016910614212974906,
           3.2309835660271347e-05,
           0.001382043119519949,
           0.0016282087890431285,
           0.0006985978106968105,
           0.001536495634354651
          ],
          [
           0.0010407886002212763,
           0.0012754960916936398,
           2.4271113943541422e-05,
           0.0010423982748761773,
           0.0012280851369723678,
           0.0005268636159598827,
           0.0011589044006541371
          ],
          [
           0.0012344219721853733,
           0.0015127783408388495,
           2.8861113605671562e-05,
           0.0012363309506326914,
           0.001456550438888371,
           0.00062492152210325,
           0.001374503830447793
          ],
          [
           0.1610778123140335,
           0.19738812744617462,
           0.003817885648459196,
           0.1613268256187439,
           0.19005344808101654,
           0.08157125860452652,
           0.1793508529663086
          ],
          [
           0.012232220731675625,
           0.014989705756306648,
           0.0002895595971494913,
           0.012251130305230618,
           0.014432692900300026,
           0.006194319576025009,
           0.013619915582239628
          ],
          [
           0.816046416759491,
           1,
           0.019343657419085503,
           0.8173079490661621,
           0.9628414511680603,
           0.4132540225982666,
           0.9086204171180725
          ],
          [
           0.0009773941710591316,
           0.0011978110997006297,
           2.2768368580727838e-05,
           0.0009789058240130544,
           0.001153287012130022,
           0.0004947599372826517,
           0.00108831818215549
          ],
          [
           0.00038905703695490956,
           0.0004768508952111006,
           8.822072231851052e-06,
           0.0003896591661032289,
           0.0004591165925376117,
           0.00019682009587995708,
           0.0004332390381023288
          ],
          [
           0.0002377807250013575,
           0.00029147378518246114,
           5.23612607139512e-06,
           0.0002381489466642961,
           0.0002806278062053025,
           0.00012021217844448984,
           0.00026480157976038754
          ]
         ]
        }
       ],
       "layout": {
        "template": {
         "data": {
          "bar": [
           {
            "error_x": {
             "color": "#2a3f5f"
            },
            "error_y": {
             "color": "#2a3f5f"
            },
            "marker": {
             "line": {
              "color": "#E5ECF6",
              "width": 0.5
             },
             "pattern": {
              "fillmode": "overlay",
              "size": 10,
              "solidity": 0.2
             }
            },
            "type": "bar"
           }
          ],
          "barpolar": [
           {
            "marker": {
             "line": {
              "color": "#E5ECF6",
              "width": 0.5
             },
             "pattern": {
              "fillmode": "overlay",
              "size": 10,
              "solidity": 0.2
             }
            },
            "type": "barpolar"
           }
          ],
          "carpet": [
           {
            "aaxis": {
             "endlinecolor": "#2a3f5f",
             "gridcolor": "white",
             "linecolor": "white",
             "minorgridcolor": "white",
             "startlinecolor": "#2a3f5f"
            },
            "baxis": {
             "endlinecolor": "#2a3f5f",
             "gridcolor": "white",
             "linecolor": "white",
             "minorgridcolor": "white",
             "startlinecolor": "#2a3f5f"
            },
            "type": "carpet"
           }
          ],
          "choropleth": [
           {
            "colorbar": {
             "outlinewidth": 0,
             "ticks": ""
            },
            "type": "choropleth"
           }
          ],
          "contour": [
           {
            "colorbar": {
             "outlinewidth": 0,
             "ticks": ""
            },
            "colorscale": [
             [
              0,
              "#0d0887"
             ],
             [
              0.1111111111111111,
              "#46039f"
             ],
             [
              0.2222222222222222,
              "#7201a8"
             ],
             [
              0.3333333333333333,
              "#9c179e"
             ],
             [
              0.4444444444444444,
              "#bd3786"
             ],
             [
              0.5555555555555556,
              "#d8576b"
             ],
             [
              0.6666666666666666,
              "#ed7953"
             ],
             [
              0.7777777777777778,
              "#fb9f3a"
             ],
             [
              0.8888888888888888,
              "#fdca26"
             ],
             [
              1,
              "#f0f921"
             ]
            ],
            "type": "contour"
           }
          ],
          "contourcarpet": [
           {
            "colorbar": {
             "outlinewidth": 0,
             "ticks": ""
            },
            "type": "contourcarpet"
           }
          ],
          "heatmap": [
           {
            "colorbar": {
             "outlinewidth": 0,
             "ticks": ""
            },
            "colorscale": [
             [
              0,
              "#0d0887"
             ],
             [
              0.1111111111111111,
              "#46039f"
             ],
             [
              0.2222222222222222,
              "#7201a8"
             ],
             [
              0.3333333333333333,
              "#9c179e"
             ],
             [
              0.4444444444444444,
              "#bd3786"
             ],
             [
              0.5555555555555556,
              "#d8576b"
             ],
             [
              0.6666666666666666,
              "#ed7953"
             ],
             [
              0.7777777777777778,
              "#fb9f3a"
             ],
             [
              0.8888888888888888,
              "#fdca26"
             ],
             [
              1,
              "#f0f921"
             ]
            ],
            "type": "heatmap"
           }
          ],
          "heatmapgl": [
           {
            "colorbar": {
             "outlinewidth": 0,
             "ticks": ""
            },
            "colorscale": [
             [
              0,
              "#0d0887"
             ],
             [
              0.1111111111111111,
              "#46039f"
             ],
             [
              0.2222222222222222,
              "#7201a8"
             ],
             [
              0.3333333333333333,
              "#9c179e"
             ],
             [
              0.4444444444444444,
              "#bd3786"
             ],
             [
              0.5555555555555556,
              "#d8576b"
             ],
             [
              0.6666666666666666,
              "#ed7953"
             ],
             [
              0.7777777777777778,
              "#fb9f3a"
             ],
             [
              0.8888888888888888,
              "#fdca26"
             ],
             [
              1,
              "#f0f921"
             ]
            ],
            "type": "heatmapgl"
           }
          ],
          "histogram": [
           {
            "marker": {
             "pattern": {
              "fillmode": "overlay",
              "size": 10,
              "solidity": 0.2
             }
            },
            "type": "histogram"
           }
          ],
          "histogram2d": [
           {
            "colorbar": {
             "outlinewidth": 0,
             "ticks": ""
            },
            "colorscale": [
             [
              0,
              "#0d0887"
             ],
             [
              0.1111111111111111,
              "#46039f"
             ],
             [
              0.2222222222222222,
              "#7201a8"
             ],
             [
              0.3333333333333333,
              "#9c179e"
             ],
             [
              0.4444444444444444,
              "#bd3786"
             ],
             [
              0.5555555555555556,
              "#d8576b"
             ],
             [
              0.6666666666666666,
              "#ed7953"
             ],
             [
              0.7777777777777778,
              "#fb9f3a"
             ],
             [
              0.8888888888888888,
              "#fdca26"
             ],
             [
              1,
              "#f0f921"
             ]
            ],
            "type": "histogram2d"
           }
          ],
          "histogram2dcontour": [
           {
            "colorbar": {
             "outlinewidth": 0,
             "ticks": ""
            },
            "colorscale": [
             [
              0,
              "#0d0887"
             ],
             [
              0.1111111111111111,
              "#46039f"
             ],
             [
              0.2222222222222222,
              "#7201a8"
             ],
             [
              0.3333333333333333,
              "#9c179e"
             ],
             [
              0.4444444444444444,
              "#bd3786"
             ],
             [
              0.5555555555555556,
              "#d8576b"
             ],
             [
              0.6666666666666666,
              "#ed7953"
             ],
             [
              0.7777777777777778,
              "#fb9f3a"
             ],
             [
              0.8888888888888888,
              "#fdca26"
             ],
             [
              1,
              "#f0f921"
             ]
            ],
            "type": "histogram2dcontour"
           }
          ],
          "mesh3d": [
           {
            "colorbar": {
             "outlinewidth": 0,
             "ticks": ""
            },
            "type": "mesh3d"
           }
          ],
          "parcoords": [
           {
            "line": {
             "colorbar": {
              "outlinewidth": 0,
              "ticks": ""
             }
            },
            "type": "parcoords"
           }
          ],
          "pie": [
           {
            "automargin": true,
            "type": "pie"
           }
          ],
          "scatter": [
           {
            "fillpattern": {
             "fillmode": "overlay",
             "size": 10,
             "solidity": 0.2
            },
            "type": "scatter"
           }
          ],
          "scatter3d": [
           {
            "line": {
             "colorbar": {
              "outlinewidth": 0,
              "ticks": ""
             }
            },
            "marker": {
             "colorbar": {
              "outlinewidth": 0,
              "ticks": ""
             }
            },
            "type": "scatter3d"
           }
          ],
          "scattercarpet": [
           {
            "marker": {
             "colorbar": {
              "outlinewidth": 0,
              "ticks": ""
             }
            },
            "type": "scattercarpet"
           }
          ],
          "scattergeo": [
           {
            "marker": {
             "colorbar": {
              "outlinewidth": 0,
              "ticks": ""
             }
            },
            "type": "scattergeo"
           }
          ],
          "scattergl": [
           {
            "marker": {
             "colorbar": {
              "outlinewidth": 0,
              "ticks": ""
             }
            },
            "type": "scattergl"
           }
          ],
          "scattermapbox": [
           {
            "marker": {
             "colorbar": {
              "outlinewidth": 0,
              "ticks": ""
             }
            },
            "type": "scattermapbox"
           }
          ],
          "scatterpolar": [
           {
            "marker": {
             "colorbar": {
              "outlinewidth": 0,
              "ticks": ""
             }
            },
            "type": "scatterpolar"
           }
          ],
          "scatterpolargl": [
           {
            "marker": {
             "colorbar": {
              "outlinewidth": 0,
              "ticks": ""
             }
            },
            "type": "scatterpolargl"
           }
          ],
          "scatterternary": [
           {
            "marker": {
             "colorbar": {
              "outlinewidth": 0,
              "ticks": ""
             }
            },
            "type": "scatterternary"
           }
          ],
          "surface": [
           {
            "colorbar": {
             "outlinewidth": 0,
             "ticks": ""
            },
            "colorscale": [
             [
              0,
              "#0d0887"
             ],
             [
              0.1111111111111111,
              "#46039f"
             ],
             [
              0.2222222222222222,
              "#7201a8"
             ],
             [
              0.3333333333333333,
              "#9c179e"
             ],
             [
              0.4444444444444444,
              "#bd3786"
             ],
             [
              0.5555555555555556,
              "#d8576b"
             ],
             [
              0.6666666666666666,
              "#ed7953"
             ],
             [
              0.7777777777777778,
              "#fb9f3a"
             ],
             [
              0.8888888888888888,
              "#fdca26"
             ],
             [
              1,
              "#f0f921"
             ]
            ],
            "type": "surface"
           }
          ],
          "table": [
           {
            "cells": {
             "fill": {
              "color": "#EBF0F8"
             },
             "line": {
              "color": "white"
             }
            },
            "header": {
             "fill": {
              "color": "#C8D4E3"
             },
             "line": {
              "color": "white"
             }
            },
            "type": "table"
           }
          ]
         },
         "layout": {
          "annotationdefaults": {
           "arrowcolor": "#2a3f5f",
           "arrowhead": 0,
           "arrowwidth": 1
          },
          "autotypenumbers": "strict",
          "coloraxis": {
           "colorbar": {
            "outlinewidth": 0,
            "ticks": ""
           }
          },
          "colorscale": {
           "diverging": [
            [
             0,
             "#8e0152"
            ],
            [
             0.1,
             "#c51b7d"
            ],
            [
             0.2,
             "#de77ae"
            ],
            [
             0.3,
             "#f1b6da"
            ],
            [
             0.4,
             "#fde0ef"
            ],
            [
             0.5,
             "#f7f7f7"
            ],
            [
             0.6,
             "#e6f5d0"
            ],
            [
             0.7,
             "#b8e186"
            ],
            [
             0.8,
             "#7fbc41"
            ],
            [
             0.9,
             "#4d9221"
            ],
            [
             1,
             "#276419"
            ]
           ],
           "sequential": [
            [
             0,
             "#0d0887"
            ],
            [
             0.1111111111111111,
             "#46039f"
            ],
            [
             0.2222222222222222,
             "#7201a8"
            ],
            [
             0.3333333333333333,
             "#9c179e"
            ],
            [
             0.4444444444444444,
             "#bd3786"
            ],
            [
             0.5555555555555556,
             "#d8576b"
            ],
            [
             0.6666666666666666,
             "#ed7953"
            ],
            [
             0.7777777777777778,
             "#fb9f3a"
            ],
            [
             0.8888888888888888,
             "#fdca26"
            ],
            [
             1,
             "#f0f921"
            ]
           ],
           "sequentialminus": [
            [
             0,
             "#0d0887"
            ],
            [
             0.1111111111111111,
             "#46039f"
            ],
            [
             0.2222222222222222,
             "#7201a8"
            ],
            [
             0.3333333333333333,
             "#9c179e"
            ],
            [
             0.4444444444444444,
             "#bd3786"
            ],
            [
             0.5555555555555556,
             "#d8576b"
            ],
            [
             0.6666666666666666,
             "#ed7953"
            ],
            [
             0.7777777777777778,
             "#fb9f3a"
            ],
            [
             0.8888888888888888,
             "#fdca26"
            ],
            [
             1,
             "#f0f921"
            ]
           ]
          },
          "colorway": [
           "#636efa",
           "#EF553B",
           "#00cc96",
           "#ab63fa",
           "#FFA15A",
           "#19d3f3",
           "#FF6692",
           "#B6E880",
           "#FF97FF",
           "#FECB52"
          ],
          "font": {
           "color": "#2a3f5f"
          },
          "geo": {
           "bgcolor": "white",
           "lakecolor": "white",
           "landcolor": "#E5ECF6",
           "showlakes": true,
           "showland": true,
           "subunitcolor": "white"
          },
          "hoverlabel": {
           "align": "left"
          },
          "hovermode": "closest",
          "mapbox": {
           "style": "light"
          },
          "paper_bgcolor": "white",
          "plot_bgcolor": "#E5ECF6",
          "polar": {
           "angularaxis": {
            "gridcolor": "white",
            "linecolor": "white",
            "ticks": ""
           },
           "bgcolor": "#E5ECF6",
           "radialaxis": {
            "gridcolor": "white",
            "linecolor": "white",
            "ticks": ""
           }
          },
          "scene": {
           "xaxis": {
            "backgroundcolor": "#E5ECF6",
            "gridcolor": "white",
            "gridwidth": 2,
            "linecolor": "white",
            "showbackground": true,
            "ticks": "",
            "zerolinecolor": "white"
           },
           "yaxis": {
            "backgroundcolor": "#E5ECF6",
            "gridcolor": "white",
            "gridwidth": 2,
            "linecolor": "white",
            "showbackground": true,
            "ticks": "",
            "zerolinecolor": "white"
           },
           "zaxis": {
            "backgroundcolor": "#E5ECF6",
            "gridcolor": "white",
            "gridwidth": 2,
            "linecolor": "white",
            "showbackground": true,
            "ticks": "",
            "zerolinecolor": "white"
           }
          },
          "shapedefaults": {
           "line": {
            "color": "#2a3f5f"
           }
          },
          "ternary": {
           "aaxis": {
            "gridcolor": "white",
            "linecolor": "white",
            "ticks": ""
           },
           "baxis": {
            "gridcolor": "white",
            "linecolor": "white",
            "ticks": ""
           },
           "bgcolor": "#E5ECF6",
           "caxis": {
            "gridcolor": "white",
            "linecolor": "white",
            "ticks": ""
           }
          },
          "title": {
           "x": 0.05
          },
          "xaxis": {
           "automargin": true,
           "gridcolor": "white",
           "linecolor": "white",
           "ticks": "",
           "title": {
            "standoff": 15
           },
           "zerolinecolor": "white",
           "zerolinewidth": 2
          },
          "yaxis": {
           "automargin": true,
           "gridcolor": "white",
           "linecolor": "white",
           "ticks": "",
           "title": {
            "standoff": 15
           },
           "zerolinecolor": "white",
           "zerolinewidth": 2
          }
         }
        }
       }
      },
      "text/html": [
       "<div>                            <div id=\"496acf0e-881c-4fc6-b0f7-00c68f02ca7f\" class=\"plotly-graph-div\" style=\"height:525px; width:100%;\"></div>            <script type=\"text/javascript\">                require([\"plotly\"], function(Plotly) {                    window.PLOTLYENV=window.PLOTLYENV || {};                                    if (document.getElementById(\"496acf0e-881c-4fc6-b0f7-00c68f02ca7f\")) {                    Plotly.newPlot(                        \"496acf0e-881c-4fc6-b0f7-00c68f02ca7f\",                        [{\"z\":[[0.0009575391886755824,0.001173480530269444,2.229771598649677e-05,0.0009590201079845428,0.0011298604076728225,0.0004847052041441202,0.001066210912540555],[0.1517462432384491,0.1859530359506607,0.0035966848954558372,0.15198084712028503,0.17904329299926758,0.07684566080570221,0.16896069049835205],[0.12422806024551392,0.15223167836666107,0.0029443767853081226,0.12442009896039963,0.1465749591588974,0.06291016191244125,0.13832078874111176],[0.11101449280977249,0.13603951036930084,0.0026311546098440886,0.11118610948324203,0.13098447024822235,0.05621867999434471,0.12360824644565582],[0.0011768259573727846,0.0014421988744288683,2.7495821996126324e-05,0.001178645878098905,0.0013885936932638288,0.0005957542452961206,0.0013103740056976676],[0.22554917633533478,0.2763926684856415,0.005346153397113085,0.225897878408432,0.26612231135368347,0.11422020941972733,0.2511359751224518],[0.0003295979113318026,0.00040398843702860177,7.412616014335072e-06,0.0003301080723758787,0.00038896151818335056,0.00016670934564899653,0.0003670346923172474],[0.000224810850340873,0.0002755802415776998,4.928680027660448e-06,0.00022515903401654214,0.00026532483752816916,0.00011364410602254793,0.0002503603755030781],[0.00040858369902707636,0.0005007792497053742,9.284943189413752e-06,0.0004092159797437489,0.0004821557376999408,0.0002067085588350892,0.0004549807927105576],[0.10443170368671417,0.12797284126281738,0.002475112210959196,0.10459315776824951,0.12321753799915314,0.052885089069604874,0.11627870053052902],[0.1285271793603897,0.15749990940093994,0.0030462853610515594,0.12872585654258728,0.1516474187374115,0.06508728116750717,0.143107607960701],[0.0019611860625445843,0.0024033698718994856,4.608876770362258e-05,0.0019642184488475323,0.002314048819243908,0.0009929623920470476,0.002183713484555483],[0.0002129164495272562,0.00026100457762368023,4.646727575163823e-06,0.00021324622503016144,0.0002512907958589494,0.00010762065357994288,0.00023711663379799575],[0.0011796620674431324,0.0014456744538620114,2.756305184448138e-05,0.0011814864119514823,0.0013919399352744222,0.0005971905775368214,0.001313531887717545],[0.0007922985241748393,0.0009709912119433284,1.8380751498625614e-05,0.0007935239700600505,0.0009348953608423471,0.0004010256670881063,0.0008822250529192388],[0.0011588898487389088,0.0014202197780832648,2.7070656869909726e-05,0.0011606821790337563,0.0013674311339855194,0.0005866712890565395,0.0012904033064842224],[0.25042924284935,0.3068811893463135,0.0059359255246818066,0.2508164048194885,0.29547789692878723,0.12681972980499268,0.27883848547935486],[0.15758849680423737,0.19311223924160004,0.0037351727951318026,0.15783211588859558,0.18593646585941315,0.07980422675609589,0.17546570301055908],[0.16660521924495697,0.20416155457496643,0.003948910627514124,0.16686278581619263,0.19657517969608307,0.08437039703130722,0.18550530076026917],[0.23059363663196564,0.28257423639297485,0.005465730559080839,0.23095008730888367,0.2720741629600525,0.1167747750878334,0.25675269961357117],[0.0002446383878123015,0.0002998773125000298,5.398684152169153e-06,0.0002450172323733568,0.0002887190494220704,0.00012368497846182436,0.0002724371734075248],[0.24904324114322662,0.3051827549934387,0.005903071258217096,0.24942824244499207,0.293842613697052,0.12611784040927887,0.2772952616214752],[0.00017897546058520675,0.00021941261366009712,3.842170372081455e-06,0.0001792527618817985,0.000211244318052195,9.043258614838123e-05,0.0001993252953980118],[0.00015937129501253366,0.0001953892788151279,3.377460870979121e-06,0.00015961828466970474,0.0001881136413430795,8.050483302213252e-05,0.00017749721882864833],[0.0015101952012628317,0.0018507165368646383,3.5398210457060486e-05,0.00151253049261868,0.0017819312633946538,0.0007645759033039212,0.0016815613489598036],[0.0001990403252420947,0.00024400051916018128,4.317800176067976e-06,0.00019934866577386856,0.00023491856700275093,0.00010059365013148636,0.00022166639973875135],[0.207596555352211,0.25439316034317017,0.004920593928545713,0.2079174965620041,0.24494025111198425,0.10512881726026535,0.23114679753780365],[0.00033807349973358214,0.00041437457548454404,7.613526122440817e-06,0.00033859675750136375,0.000398961768951267,0.00017100147670134902,0.00037647178396582603],[0.2471218705177307,0.30282828211784363,0.005857525859028101,0.24750389158725739,0.2915755808353424,0.1251448392868042,0.2751559317111969],[0.1749623715877533,0.21440254151821136,0.004147013183683157,0.17523284256458282,0.20643563568592072,0.08860253542661667,0.19481049478054047],[6.962608313187957e-05,8.541365968994796e-05,1.250086938853201e-06,6.9734342105221e-05,8.22245710878633e-05,3.5056942579103634e-05,7.757113053230569e-05],[0.0009599242475815117,0.001176403253339231,2.2354251996148378e-05,0.0009614088339731097,0.001132674515247345,0.0004859130422119051,0.001068866578862071],[0.6705809235572815,0.8217436671257019,0.015895456075668335,0.6716176271438599,0.791208803653717,0.33958888053894043,0.7466530799865723],[0.16185057163238525,0.19833506643772125,0.0038362035993486643,0.16210077702999115,0.1909652054309845,0.08196259289979935,0.18021129071712494],[0.0005498238606378436,0.0006738577503710985,1.2632984180527274e-05,0.0005506744491867721,0.0006488029030151665,0.00027823401615023613,0.0006122434861026704],[0.00040542607894167304,0.0004969098372384906,9.210093594447244e-06,0.00040605347021482885,0.00047843012725934386,0.0002051095070783049,0.00045146490447223186],[0.1102374792098999,0.13508735597133636,0.0026127358432859182,0.11040790379047394,0.13006769120693207,0.05582519248127937,0.12274309247732162],[0.15391063690185547,0.18860532343387604,0.0036479902919381857,0.15414856374263763,0.1815970093011856,0.07794172316789627,0.17137062549591064],[0.1459420621395111,0.17884047329425812,0.0034590987488627434,0.14616768062114716,0.17219500243663788,0.07390636205673218,0.1624980866909027],[0.0014729058602824807,0.0018050214275717735,3.451427983236499e-05,0.0014751835260540247,0.0017379340715706348,0.0007456921739503741,0.0016400418244302273],[0.0009292682516388595,0.0011388367274776101,2.1627565729431808e-05,0.0009307055152021348,0.0010965039255097508,0.00047038853517733514,0.0010347329080104828],[1.689005148364231e-05,2.078985380649101e-05,0.0,1.691679426585324e-05,2.0002094970550388e-05,8.350876669283025e-06,1.885261372081004e-05],[0.00023608111951034516,0.0002893910859711468,5.195837729843333e-06,0.00023644672182854265,0.0002786224940791726,0.00011935149086639285,0.0002629091904964298],[0.4421168863773346,0.5417791604995728,0.010479805991053581,0.4428004026412964,0.5216474533081055,0.22389234602451324,0.4922715723514557],[0.4882967472076416,0.5983688831329346,0.01157448161393404,0.48905161023139954,0.5761343240737915,0.24727830290794373,0.5436902046203613],[0.33561962842941284,0.4112752377986908,0.007955330424010754,0.3361384868621826,0.39599281549453735,0.16996102035045624,0.3736930787563324],[0.0005152240628376603,0.0006314584752544761,1.1812810953415465e-05,0.0005160211585462093,0.0006079791928641498,0.00026071234606206417,0.0005737186293117702],[6.201702490216121e-05,7.6089367212262e-05,1.069717086465971e-06,6.211352592799813e-05,7.324675971176475e-05,3.1203639082377777e-05,6.909888179507107e-05],[0.00033068496850319207,0.000405320490244776,7.438383818225702e-06,0.0003311967884656042,0.0003902441239915788,0.00016725983005017042,0.0003682450333144516],[0.44580286741256714,0.5462960004806519,0.010567179881036282,0.4464920163154602,0.5259963870048523,0.22575895488262177,0.4963756501674652],[0.00030197008163668215,0.0003701327077578753,6.757708888471825e-06,0.00030243751825764775,0.0003563638892956078,0.00015271833399310708,0.00033627270022407174],[0.00033905060263350606,0.000415571965277195,7.636688678758219e-06,0.0003395754029043019,0.00040011462988331914,0.0001714963000267744,0.0003775597142521292],[0.12780065834522247,0.15660962462425232,0.0030290638096630573,0.1279982179403305,0.15079021453857422,0.06471936404705048,0.14229866862297058],[0.0014292332343757153,0.0017515039071440697,3.347903839312494e-05,0.0014314433792605996,0.0016864053905010223,0.0007235759403556585,0.0015914150280877948],[0.0001765613560564816,0.00021645431115757674,3.7849445106985513e-06,0.00017683491751085967,0.00020839592616539448,8.921005064621568e-05,0.00019663733837660402],[0.001379909459501505,0.0016910614212974906,3.2309835660271347e-05,0.001382043119519949,0.0016282087890431285,0.0006985978106968105,0.001536495634354651],[0.0010407886002212763,0.0012754960916936398,2.4271113943541422e-05,0.0010423982748761773,0.0012280851369723678,0.0005268636159598827,0.0011589044006541371],[0.0012344219721853733,0.0015127783408388495,2.8861113605671562e-05,0.0012363309506326914,0.001456550438888371,0.00062492152210325,0.001374503830447793],[0.1610778123140335,0.19738812744617462,0.003817885648459196,0.1613268256187439,0.19005344808101654,0.08157125860452652,0.1793508529663086],[0.012232220731675625,0.014989705756306648,0.0002895595971494913,0.012251130305230618,0.014432692900300026,0.006194319576025009,0.013619915582239628],[0.816046416759491,1.0,0.019343657419085503,0.8173079490661621,0.9628414511680603,0.4132540225982666,0.9086204171180725],[0.0009773941710591316,0.0011978110997006297,2.2768368580727838e-05,0.0009789058240130544,0.001153287012130022,0.0004947599372826517,0.00108831818215549],[0.00038905703695490956,0.0004768508952111006,8.822072231851052e-06,0.0003896591661032289,0.0004591165925376117,0.00019682009587995708,0.0004332390381023288],[0.0002377807250013575,0.00029147378518246114,5.23612607139512e-06,0.0002381489466642961,0.0002806278062053025,0.00012021217844448984,0.00026480157976038754]],\"type\":\"heatmap\"}],                        {\"template\":{\"data\":{\"histogram2dcontour\":[{\"type\":\"histogram2dcontour\",\"colorbar\":{\"outlinewidth\":0,\"ticks\":\"\"},\"colorscale\":[[0.0,\"#0d0887\"],[0.1111111111111111,\"#46039f\"],[0.2222222222222222,\"#7201a8\"],[0.3333333333333333,\"#9c179e\"],[0.4444444444444444,\"#bd3786\"],[0.5555555555555556,\"#d8576b\"],[0.6666666666666666,\"#ed7953\"],[0.7777777777777778,\"#fb9f3a\"],[0.8888888888888888,\"#fdca26\"],[1.0,\"#f0f921\"]]}],\"choropleth\":[{\"type\":\"choropleth\",\"colorbar\":{\"outlinewidth\":0,\"ticks\":\"\"}}],\"histogram2d\":[{\"type\":\"histogram2d\",\"colorbar\":{\"outlinewidth\":0,\"ticks\":\"\"},\"colorscale\":[[0.0,\"#0d0887\"],[0.1111111111111111,\"#46039f\"],[0.2222222222222222,\"#7201a8\"],[0.3333333333333333,\"#9c179e\"],[0.4444444444444444,\"#bd3786\"],[0.5555555555555556,\"#d8576b\"],[0.6666666666666666,\"#ed7953\"],[0.7777777777777778,\"#fb9f3a\"],[0.8888888888888888,\"#fdca26\"],[1.0,\"#f0f921\"]]}],\"heatmap\":[{\"type\":\"heatmap\",\"colorbar\":{\"outlinewidth\":0,\"ticks\":\"\"},\"colorscale\":[[0.0,\"#0d0887\"],[0.1111111111111111,\"#46039f\"],[0.2222222222222222,\"#7201a8\"],[0.3333333333333333,\"#9c179e\"],[0.4444444444444444,\"#bd3786\"],[0.5555555555555556,\"#d8576b\"],[0.6666666666666666,\"#ed7953\"],[0.7777777777777778,\"#fb9f3a\"],[0.8888888888888888,\"#fdca26\"],[1.0,\"#f0f921\"]]}],\"heatmapgl\":[{\"type\":\"heatmapgl\",\"colorbar\":{\"outlinewidth\":0,\"ticks\":\"\"},\"colorscale\":[[0.0,\"#0d0887\"],[0.1111111111111111,\"#46039f\"],[0.2222222222222222,\"#7201a8\"],[0.3333333333333333,\"#9c179e\"],[0.4444444444444444,\"#bd3786\"],[0.5555555555555556,\"#d8576b\"],[0.6666666666666666,\"#ed7953\"],[0.7777777777777778,\"#fb9f3a\"],[0.8888888888888888,\"#fdca26\"],[1.0,\"#f0f921\"]]}],\"contourcarpet\":[{\"type\":\"contourcarpet\",\"colorbar\":{\"outlinewidth\":0,\"ticks\":\"\"}}],\"contour\":[{\"type\":\"contour\",\"colorbar\":{\"outlinewidth\":0,\"ticks\":\"\"},\"colorscale\":[[0.0,\"#0d0887\"],[0.1111111111111111,\"#46039f\"],[0.2222222222222222,\"#7201a8\"],[0.3333333333333333,\"#9c179e\"],[0.4444444444444444,\"#bd3786\"],[0.5555555555555556,\"#d8576b\"],[0.6666666666666666,\"#ed7953\"],[0.7777777777777778,\"#fb9f3a\"],[0.8888888888888888,\"#fdca26\"],[1.0,\"#f0f921\"]]}],\"surface\":[{\"type\":\"surface\",\"colorbar\":{\"outlinewidth\":0,\"ticks\":\"\"},\"colorscale\":[[0.0,\"#0d0887\"],[0.1111111111111111,\"#46039f\"],[0.2222222222222222,\"#7201a8\"],[0.3333333333333333,\"#9c179e\"],[0.4444444444444444,\"#bd3786\"],[0.5555555555555556,\"#d8576b\"],[0.6666666666666666,\"#ed7953\"],[0.7777777777777778,\"#fb9f3a\"],[0.8888888888888888,\"#fdca26\"],[1.0,\"#f0f921\"]]}],\"mesh3d\":[{\"type\":\"mesh3d\",\"colorbar\":{\"outlinewidth\":0,\"ticks\":\"\"}}],\"scatter\":[{\"fillpattern\":{\"fillmode\":\"overlay\",\"size\":10,\"solidity\":0.2},\"type\":\"scatter\"}],\"parcoords\":[{\"type\":\"parcoords\",\"line\":{\"colorbar\":{\"outlinewidth\":0,\"ticks\":\"\"}}}],\"scatterpolargl\":[{\"type\":\"scatterpolargl\",\"marker\":{\"colorbar\":{\"outlinewidth\":0,\"ticks\":\"\"}}}],\"bar\":[{\"error_x\":{\"color\":\"#2a3f5f\"},\"error_y\":{\"color\":\"#2a3f5f\"},\"marker\":{\"line\":{\"color\":\"#E5ECF6\",\"width\":0.5},\"pattern\":{\"fillmode\":\"overlay\",\"size\":10,\"solidity\":0.2}},\"type\":\"bar\"}],\"scattergeo\":[{\"type\":\"scattergeo\",\"marker\":{\"colorbar\":{\"outlinewidth\":0,\"ticks\":\"\"}}}],\"scatterpolar\":[{\"type\":\"scatterpolar\",\"marker\":{\"colorbar\":{\"outlinewidth\":0,\"ticks\":\"\"}}}],\"histogram\":[{\"marker\":{\"pattern\":{\"fillmode\":\"overlay\",\"size\":10,\"solidity\":0.2}},\"type\":\"histogram\"}],\"scattergl\":[{\"type\":\"scattergl\",\"marker\":{\"colorbar\":{\"outlinewidth\":0,\"ticks\":\"\"}}}],\"scatter3d\":[{\"type\":\"scatter3d\",\"line\":{\"colorbar\":{\"outlinewidth\":0,\"ticks\":\"\"}},\"marker\":{\"colorbar\":{\"outlinewidth\":0,\"ticks\":\"\"}}}],\"scattermapbox\":[{\"type\":\"scattermapbox\",\"marker\":{\"colorbar\":{\"outlinewidth\":0,\"ticks\":\"\"}}}],\"scatterternary\":[{\"type\":\"scatterternary\",\"marker\":{\"colorbar\":{\"outlinewidth\":0,\"ticks\":\"\"}}}],\"scattercarpet\":[{\"type\":\"scattercarpet\",\"marker\":{\"colorbar\":{\"outlinewidth\":0,\"ticks\":\"\"}}}],\"carpet\":[{\"aaxis\":{\"endlinecolor\":\"#2a3f5f\",\"gridcolor\":\"white\",\"linecolor\":\"white\",\"minorgridcolor\":\"white\",\"startlinecolor\":\"#2a3f5f\"},\"baxis\":{\"endlinecolor\":\"#2a3f5f\",\"gridcolor\":\"white\",\"linecolor\":\"white\",\"minorgridcolor\":\"white\",\"startlinecolor\":\"#2a3f5f\"},\"type\":\"carpet\"}],\"table\":[{\"cells\":{\"fill\":{\"color\":\"#EBF0F8\"},\"line\":{\"color\":\"white\"}},\"header\":{\"fill\":{\"color\":\"#C8D4E3\"},\"line\":{\"color\":\"white\"}},\"type\":\"table\"}],\"barpolar\":[{\"marker\":{\"line\":{\"color\":\"#E5ECF6\",\"width\":0.5},\"pattern\":{\"fillmode\":\"overlay\",\"size\":10,\"solidity\":0.2}},\"type\":\"barpolar\"}],\"pie\":[{\"automargin\":true,\"type\":\"pie\"}]},\"layout\":{\"autotypenumbers\":\"strict\",\"colorway\":[\"#636efa\",\"#EF553B\",\"#00cc96\",\"#ab63fa\",\"#FFA15A\",\"#19d3f3\",\"#FF6692\",\"#B6E880\",\"#FF97FF\",\"#FECB52\"],\"font\":{\"color\":\"#2a3f5f\"},\"hovermode\":\"closest\",\"hoverlabel\":{\"align\":\"left\"},\"paper_bgcolor\":\"white\",\"plot_bgcolor\":\"#E5ECF6\",\"polar\":{\"bgcolor\":\"#E5ECF6\",\"angularaxis\":{\"gridcolor\":\"white\",\"linecolor\":\"white\",\"ticks\":\"\"},\"radialaxis\":{\"gridcolor\":\"white\",\"linecolor\":\"white\",\"ticks\":\"\"}},\"ternary\":{\"bgcolor\":\"#E5ECF6\",\"aaxis\":{\"gridcolor\":\"white\",\"linecolor\":\"white\",\"ticks\":\"\"},\"baxis\":{\"gridcolor\":\"white\",\"linecolor\":\"white\",\"ticks\":\"\"},\"caxis\":{\"gridcolor\":\"white\",\"linecolor\":\"white\",\"ticks\":\"\"}},\"coloraxis\":{\"colorbar\":{\"outlinewidth\":0,\"ticks\":\"\"}},\"colorscale\":{\"sequential\":[[0.0,\"#0d0887\"],[0.1111111111111111,\"#46039f\"],[0.2222222222222222,\"#7201a8\"],[0.3333333333333333,\"#9c179e\"],[0.4444444444444444,\"#bd3786\"],[0.5555555555555556,\"#d8576b\"],[0.6666666666666666,\"#ed7953\"],[0.7777777777777778,\"#fb9f3a\"],[0.8888888888888888,\"#fdca26\"],[1.0,\"#f0f921\"]],\"sequentialminus\":[[0.0,\"#0d0887\"],[0.1111111111111111,\"#46039f\"],[0.2222222222222222,\"#7201a8\"],[0.3333333333333333,\"#9c179e\"],[0.4444444444444444,\"#bd3786\"],[0.5555555555555556,\"#d8576b\"],[0.6666666666666666,\"#ed7953\"],[0.7777777777777778,\"#fb9f3a\"],[0.8888888888888888,\"#fdca26\"],[1.0,\"#f0f921\"]],\"diverging\":[[0,\"#8e0152\"],[0.1,\"#c51b7d\"],[0.2,\"#de77ae\"],[0.3,\"#f1b6da\"],[0.4,\"#fde0ef\"],[0.5,\"#f7f7f7\"],[0.6,\"#e6f5d0\"],[0.7,\"#b8e186\"],[0.8,\"#7fbc41\"],[0.9,\"#4d9221\"],[1,\"#276419\"]]},\"xaxis\":{\"gridcolor\":\"white\",\"linecolor\":\"white\",\"ticks\":\"\",\"title\":{\"standoff\":15},\"zerolinecolor\":\"white\",\"automargin\":true,\"zerolinewidth\":2},\"yaxis\":{\"gridcolor\":\"white\",\"linecolor\":\"white\",\"ticks\":\"\",\"title\":{\"standoff\":15},\"zerolinecolor\":\"white\",\"automargin\":true,\"zerolinewidth\":2},\"scene\":{\"xaxis\":{\"backgroundcolor\":\"#E5ECF6\",\"gridcolor\":\"white\",\"linecolor\":\"white\",\"showbackground\":true,\"ticks\":\"\",\"zerolinecolor\":\"white\",\"gridwidth\":2},\"yaxis\":{\"backgroundcolor\":\"#E5ECF6\",\"gridcolor\":\"white\",\"linecolor\":\"white\",\"showbackground\":true,\"ticks\":\"\",\"zerolinecolor\":\"white\",\"gridwidth\":2},\"zaxis\":{\"backgroundcolor\":\"#E5ECF6\",\"gridcolor\":\"white\",\"linecolor\":\"white\",\"showbackground\":true,\"ticks\":\"\",\"zerolinecolor\":\"white\",\"gridwidth\":2}},\"shapedefaults\":{\"line\":{\"color\":\"#2a3f5f\"}},\"annotationdefaults\":{\"arrowcolor\":\"#2a3f5f\",\"arrowhead\":0,\"arrowwidth\":1},\"geo\":{\"bgcolor\":\"white\",\"landcolor\":\"#E5ECF6\",\"subunitcolor\":\"white\",\"showland\":true,\"showlakes\":true,\"lakecolor\":\"white\"},\"title\":{\"x\":0.05},\"mapbox\":{\"style\":\"light\"}}}},                        {\"responsive\": true}                    ).then(function(){\n",
       "                            \n",
       "var gd = document.getElementById('496acf0e-881c-4fc6-b0f7-00c68f02ca7f');\n",
       "var x = new MutationObserver(function (mutations, observer) {{\n",
       "        var display = window.getComputedStyle(gd).display;\n",
       "        if (!display || display === 'none') {{\n",
       "            console.log([gd, 'removed!']);\n",
       "            Plotly.purge(gd);\n",
       "            observer.disconnect();\n",
       "        }}\n",
       "}});\n",
       "\n",
       "// Listen for the removal of the full notebook cells\n",
       "var notebookContainer = gd.closest('#notebook-container');\n",
       "if (notebookContainer) {{\n",
       "    x.observe(notebookContainer, {childList: true});\n",
       "}}\n",
       "\n",
       "// Listen for the clearing of the current output cell\n",
       "var outputEl = gd.closest('.output');\n",
       "if (outputEl) {{\n",
       "    x.observe(outputEl, {childList: true});\n",
       "}}\n",
       "\n",
       "                        })                };                });            </script>        </div>"
      ]
     },
     "metadata": {},
     "output_type": "display_data"
    }
   ],
   "source": [
    "fig = go.Figure()\n",
    "fig.add_trace(go.Heatmap(z = D_plus[110, :, :]))"
   ]
  },
  {
   "cell_type": "code",
   "execution_count": 80,
   "id": "b2e7ba7c",
   "metadata": {},
   "outputs": [
    {
     "data": {
      "application/vnd.plotly.v1+json": {
       "config": {
        "plotlyServerURL": "https://plot.ly"
       },
       "data": [
        {
         "type": "heatmap",
         "z": [
          [
           0.031888507306575775,
           0.039079051464796066,
           0.0007462736684828997,
           0.031937818974256516,
           0.037626560777425766,
           0.016143798828125,
           0.035507120192050934
          ],
          [
           0.02481803111732006,
           0.03041474148631096,
           0.0005786707624793053,
           0.024856412783265114,
           0.02928420901298523,
           0.012563236057758331,
           0.027634557336568832
          ],
          [
           0.2084287852048874,
           0.2554151117801666,
           0.004931091330945492,
           0.20875102281570435,
           0.24592390656471252,
           0.10554561018943787,
           0.23207451403141022
          ],
          [
           0.13215750455856323,
           0.1619507372379303,
           0.0031231106258928776,
           0.13236182928085327,
           0.15593251585960388,
           0.06692104786634445,
           0.14715084433555603
          ],
          [
           0.0412256233394146,
           0.050520945340394974,
           0.0009676063200458884,
           0.04128937050700188,
           0.048643290996551514,
           0.0208722110837698,
           0.04590345919132233
          ],
          [
           0.23798097670078278,
           0.29162895679473877,
           0.005631614476442337,
           0.23834890127182007,
           0.28079208731651306,
           0.12051113694906235,
           0.26497915387153625
          ],
          [
           0.1897193044424057,
           0.23248812556266785,
           0.004487589932978153,
           0.1900126039981842,
           0.22384881973266602,
           0.09607092291116714,
           0.21124255657196045
          ],
          [
           0.8160447478294373,
           1,
           0.01933438517153263,
           0.8173062205314636,
           0.9628411531448364,
           0.41324853897094727,
           0.9086196422576904
          ],
          [
           0.42526280879974365,
           0.5211278796195984,
           0.01007105503231287,
           0.42592018842697144,
           0.5017632246017456,
           0.21535257995128632,
           0.4735065996646881
          ],
          [
           0.3771742880344391,
           0.46219927072525024,
           0.00893113762140274,
           0.37775737047195435,
           0.4450242817401886,
           0.1910000741481781,
           0.4199628233909607
          ],
          [
           0.5171127319335938,
           0.6336826682090759,
           0.012248322367668152,
           0.5179121494293213,
           0.610135555267334,
           0.26186633110046387,
           0.5757761597633362
          ],
          [
           0.4378906488418579,
           0.5366023778915405,
           0.010370394214987755,
           0.4385676383972168,
           0.5166626572608948,
           0.22174745798110962,
           0.4875670373439789
          ],
          [
           0.15700969099998474,
           0.1924051195383072,
           0.0037122222129255533,
           0.1572524458169937,
           0.1852552592754364,
           0.07950645685195923,
           0.17482231557369232
          ],
          [
           0.40776464343070984,
           0.4996853470802307,
           0.009656270034611225,
           0.40839505195617676,
           0.4811173975467682,
           0.20649133622646332,
           0.45402345061302185
          ],
          [
           0.3239355981349945,
           0.396959513425827,
           0.00766913453117013,
           0.32443639636039734,
           0.3822087049484253,
           0.16403944790363312,
           0.3606846332550049
          ],
          [
           0.3354504704475403,
           0.4110701084136963,
           0.00794209074229002,
           0.33596909046173096,
           0.39579495787620544,
           0.16987070441246033,
           0.3735058009624481
          ],
          [
           0.026310207322239876,
           0.032243285328149796,
           0.0006140422192402184,
           0.026350894942879677,
           0.03104480542242527,
           0.013318889774382114,
           0.029296008870005608
          ],
          [
           0.0005854489281773567,
           0.0007196447113528848,
           4.247007382218726e-06,
           0.0005863691912963986,
           0.0006925372872501612,
           0.00029160824487917125,
           0.000652982504107058
          ],
          [
           0.027478564530611038,
           0.033675018697977066,
           0.0006417377153411508,
           0.027521058917045593,
           0.03242333233356476,
           0.013910558074712753,
           0.030596908181905746
          ],
          [
           0.000406285107601434,
           0.0005000937380827963,
           0,
           0.00040692841866984963,
           0.0004811444669030607,
           0.0002008778537856415,
           0.0004534939653240144
          ],
          [
           0.2506938874721527,
           0.3072076141834259,
           0.00593296904116869,
           0.2510814368724823,
           0.2957918643951416,
           0.12694908678531647,
           0.27913421392440796
          ],
          [
           0.49113479256629944,
           0.6018487811088562,
           0.0116325244307518,
           0.49189403653144836,
           0.5794845223426819,
           0.24871082603931427,
           0.5468512177467346
          ],
          [
           0.046677835285663605,
           0.05720219761133194,
           0.001096848864108324,
           0.046750009059906006,
           0.055076275020837784,
           0.023633265867829323,
           0.05197418853640556
          ],
          [
           0.7626853585243225,
           0.9346123933792114,
           0.018069524317979813,
           0.7638643980026245,
           0.8998831510543823,
           0.3862268030643463,
           0.8492069840431213
          ],
          [
           0.23025672137737274,
           0.28216350078582764,
           0.00544851366430521,
           0.23061269521713257,
           0.2716783583164215,
           0.11659949272871017,
           0.2563786506652832
          ],
          [
           0.42232000827789307,
           0.5175217986106873,
           0.010001298040151596,
           0.4229728877544403,
           0.4982910454273224,
           0.2138623148202896,
           0.47022998332977295
          ],
          [
           0.20782417058944702,
           0.25467419624328613,
           0.004916759207844734,
           0.20814546942710876,
           0.24521049857139587,
           0.10523942112922668,
           0.23140129446983337
          ],
          [
           0.32615211606025696,
           0.3996756672859192,
           0.007721676491200924,
           0.3266563415527344,
           0.38482391834259033,
           0.16516190767288208,
           0.3631526231765747
          ],
          [
           0.1948150396347046,
           0.23873256146907806,
           0.004608382936567068,
           0.19511622190475464,
           0.22986121475696564,
           0.0986514613032341,
           0.21691636741161346
          ],
          [
           0.6028443574905396,
           0.7387399077415466,
           0.01428055576980114,
           0.6037762761116028,
           0.7112890481948853,
           0.3052816689014435,
           0.6712332963943481
          ],
          [
           0.1998254507780075,
           0.24487240612506866,
           0.004727152641862631,
           0.20013438165187836,
           0.23577292263507843,
           0.1011887863278389,
           0.2224951684474945
          ],
          [
           0.021397078409790993,
           0.02622263878583908,
           0.0004975784104317427,
           0.02143017202615738,
           0.025247875601053238,
           0.010830830782651901,
           0.023825524374842644
          ],
          [
           0.003336763009428978,
           0.004091160837560892,
           6.946581561351195e-05,
           0.003341936506330967,
           0.003938772715628147,
           0.0016849018866196275,
           0.0037164115346968174
          ],
          [
           0.031000183895230293,
           0.03799048066139221,
           0.0007252163486555219,
           0.0310481246560812,
           0.03657844290137291,
           0.015693943947553635,
           0.034518029540777206
          ],
          [
           0.033193521201610565,
           0.0406782403588295,
           0.0007772085373289883,
           0.03324485197663307,
           0.03916633129119873,
           0.01680467277765274,
           0.0369601845741272
          ],
          [
           0.15871047973632812,
           0.1944892853498459,
           0.00375253870151937,
           0.15895585715770721,
           0.18726196885108948,
           0.08036774396896362,
           0.17671602964401245
          ],
          [
           0.4826030135154724,
           0.5913938879966736,
           0.011430284008383751,
           0.48334917426109314,
           0.5694181323051453,
           0.24439027905464172,
           0.537351667881012
          ],
          [
           0.06558454036712646,
           0.08037085086107254,
           0.0015450248029083014,
           0.0656859427690506,
           0.07738401740789413,
           0.033207811415195465,
           0.07302570343017578
          ],
          [
           0.49790892004966736,
           0.6101499795913696,
           0.011793104000389576,
           0.49867868423461914,
           0.5874773263931274,
           0.2521413266658783,
           0.5543938279151917
          ],
          [
           0.5325967669487,
           0.652657151222229,
           0.012615364044904709,
           0.5334200859069824,
           0.628404974937439,
           0.269707590341568,
           0.5930167436599731
          ],
          [
           0.21321965754032135,
           0.2612859308719635,
           0.0050446572713553905,
           0.21354928612709045,
           0.25157657265663147,
           0.10797175019979477,
           0.237408846616745
          ],
          [
           0.24379470944404602,
           0.2987532615661621,
           0.0057694269344210625,
           0.2441716194152832,
           0.2876516580581665,
           0.12345528602600098,
           0.2714524269104004
          ],
          [
           0.003440217114984989,
           0.004217936657369137,
           7.191816257545725e-05,
           0.0034455510322004557,
           0.004060836974531412,
           0.001737292273901403,
           0.003831601934507489
          ],
          [
           0.026675766333937645,
           0.03269125148653984,
           0.0006227076519280672,
           0.026717018336057663,
           0.03147612512111664,
           0.013504012487828732,
           0.029703037813305855
          ],
          [
           0.46399447321891785,
           0.5685905814170837,
           0.010989176109433174,
           0.4647118151187897,
           0.5474621653556824,
           0.2349667102098465,
           0.5166321396827698
          ],
          [
           0.2230636328458786,
           0.27334895730018616,
           0.005278004799038172,
           0.22340847551822662,
           0.2631913125514984,
           0.11295683681964874,
           0.24836952984333038
          ],
          [
           0.009772825986146927,
           0.011978044174611568,
           0.00022203012485988438,
           0.009787948802113533,
           0.011532589793205261,
           0.004944189917296171,
           0.010882594622671604
          ],
          [
           0.023165516555309296,
           0.028389720246195793,
           0.0005394986364990473,
           0.023201346397399902,
           0.027334436774253845,
           0.011726386845111847,
           0.025794582441449165
          ],
          [
           0.17337273061275482,
           0.21245671808719635,
           0.004100101534277201,
           0.17364077270030975,
           0.2045617550611496,
           0.08779286593198776,
           0.1930416077375412
          ],
          [
           0.09952396899461746,
           0.12196092307567596,
           0.002349545480683446,
           0.09967783838510513,
           0.11742866039276123,
           0.05039508640766144,
           0.11081528663635254
          ],
          [
           0.007993209175765514,
           0.009797264821827412,
           0.00017984502483159304,
           0.008005581796169281,
           0.009432845748960972,
           0.004042973741889,
           0.008901093155145645
          ],
          [
           0.5263665318489075,
           0.6450225114822388,
           0.012467680498957634,
           0.5271803140640259,
           0.6210541129112244,
           0.26655256748199463,
           0.5860797762870789
          ],
          [
           0.014391533099114895,
           0.01763790287077427,
           0.00033151477691717446,
           0.014413797296583652,
           0.01698213815689087,
           0.0072831520810723305,
           0.016025258228182793
          ],
          [
           0.27620911598205566,
           0.3384745121002197,
           0.006537796929478645,
           0.27663612365722656,
           0.3258969187736511,
           0.13987025618553162,
           0.30754396319389343
          ],
          [
           0.35958942770957947,
           0.44065043330192566,
           0.008514294400811195,
           0.36014530062675476,
           0.42427611351013184,
           0.18209488689899445,
           0.4003830552101135
          ],
          [
           0.2581997513771057,
           0.31640544533729553,
           0.006110892631113529,
           0.2585988938808441,
           0.30464789271354675,
           0.1307501345872879,
           0.2874915599822998
          ],
          [
           0.0064749084413051605,
           0.007936707697808743,
           0.00014385431131813675,
           0.006484932731837034,
           0.007641424424946308,
           0.0032740908209234476,
           0.007210554089397192
          ],
          [
           0.07868053019046783,
           0.09641895443201065,
           0.0018554601119831204,
           0.07880217581987381,
           0.09283579140901566,
           0.03983975946903229,
           0.08760732412338257
          ],
          [
           0.2036571502685547,
           0.24956783652305603,
           0.004817981272935867,
           0.2039719969034195,
           0.24029389023780823,
           0.10312920063734055,
           0.22676154971122742
          ],
          [
           0.0217275433242321,
           0.026627596467733383,
           0.0005054119392298162,
           0.021761149168014526,
           0.025637788698077202,
           0.010998181998729706,
           0.024193480610847473
          ],
          [
           0.01089603640139103,
           0.013354448601603508,
           0.00024865538580343127,
           0.010912896133959293,
           0.012857850641012192,
           0.005512995645403862,
           0.012133224867284298
          ],
          [
           0.6394152045249939,
           0.7835545539855957,
           0.015147452242672443,
           0.640403687953949,
           0.7544384598731995,
           0.32380151748657227,
           0.7119528651237488
          ],
          [
           0.0006188221741467714,
           0.0007605409482493997,
           5.038105882704258e-06,
           0.0006197940092533827,
           0.0007319137803278863,
           0.0003085087810177356,
           0.0006901416345499456
          ],
          [
           0.5680131912231445,
           0.6960572004318237,
           0.01345489826053381,
           0.5688913464546204,
           0.6701923608779907,
           0.28764286637306213,
           0.6324509382247925
          ]
         ]
        }
       ],
       "layout": {
        "template": {
         "data": {
          "bar": [
           {
            "error_x": {
             "color": "#2a3f5f"
            },
            "error_y": {
             "color": "#2a3f5f"
            },
            "marker": {
             "line": {
              "color": "#E5ECF6",
              "width": 0.5
             },
             "pattern": {
              "fillmode": "overlay",
              "size": 10,
              "solidity": 0.2
             }
            },
            "type": "bar"
           }
          ],
          "barpolar": [
           {
            "marker": {
             "line": {
              "color": "#E5ECF6",
              "width": 0.5
             },
             "pattern": {
              "fillmode": "overlay",
              "size": 10,
              "solidity": 0.2
             }
            },
            "type": "barpolar"
           }
          ],
          "carpet": [
           {
            "aaxis": {
             "endlinecolor": "#2a3f5f",
             "gridcolor": "white",
             "linecolor": "white",
             "minorgridcolor": "white",
             "startlinecolor": "#2a3f5f"
            },
            "baxis": {
             "endlinecolor": "#2a3f5f",
             "gridcolor": "white",
             "linecolor": "white",
             "minorgridcolor": "white",
             "startlinecolor": "#2a3f5f"
            },
            "type": "carpet"
           }
          ],
          "choropleth": [
           {
            "colorbar": {
             "outlinewidth": 0,
             "ticks": ""
            },
            "type": "choropleth"
           }
          ],
          "contour": [
           {
            "colorbar": {
             "outlinewidth": 0,
             "ticks": ""
            },
            "colorscale": [
             [
              0,
              "#0d0887"
             ],
             [
              0.1111111111111111,
              "#46039f"
             ],
             [
              0.2222222222222222,
              "#7201a8"
             ],
             [
              0.3333333333333333,
              "#9c179e"
             ],
             [
              0.4444444444444444,
              "#bd3786"
             ],
             [
              0.5555555555555556,
              "#d8576b"
             ],
             [
              0.6666666666666666,
              "#ed7953"
             ],
             [
              0.7777777777777778,
              "#fb9f3a"
             ],
             [
              0.8888888888888888,
              "#fdca26"
             ],
             [
              1,
              "#f0f921"
             ]
            ],
            "type": "contour"
           }
          ],
          "contourcarpet": [
           {
            "colorbar": {
             "outlinewidth": 0,
             "ticks": ""
            },
            "type": "contourcarpet"
           }
          ],
          "heatmap": [
           {
            "colorbar": {
             "outlinewidth": 0,
             "ticks": ""
            },
            "colorscale": [
             [
              0,
              "#0d0887"
             ],
             [
              0.1111111111111111,
              "#46039f"
             ],
             [
              0.2222222222222222,
              "#7201a8"
             ],
             [
              0.3333333333333333,
              "#9c179e"
             ],
             [
              0.4444444444444444,
              "#bd3786"
             ],
             [
              0.5555555555555556,
              "#d8576b"
             ],
             [
              0.6666666666666666,
              "#ed7953"
             ],
             [
              0.7777777777777778,
              "#fb9f3a"
             ],
             [
              0.8888888888888888,
              "#fdca26"
             ],
             [
              1,
              "#f0f921"
             ]
            ],
            "type": "heatmap"
           }
          ],
          "heatmapgl": [
           {
            "colorbar": {
             "outlinewidth": 0,
             "ticks": ""
            },
            "colorscale": [
             [
              0,
              "#0d0887"
             ],
             [
              0.1111111111111111,
              "#46039f"
             ],
             [
              0.2222222222222222,
              "#7201a8"
             ],
             [
              0.3333333333333333,
              "#9c179e"
             ],
             [
              0.4444444444444444,
              "#bd3786"
             ],
             [
              0.5555555555555556,
              "#d8576b"
             ],
             [
              0.6666666666666666,
              "#ed7953"
             ],
             [
              0.7777777777777778,
              "#fb9f3a"
             ],
             [
              0.8888888888888888,
              "#fdca26"
             ],
             [
              1,
              "#f0f921"
             ]
            ],
            "type": "heatmapgl"
           }
          ],
          "histogram": [
           {
            "marker": {
             "pattern": {
              "fillmode": "overlay",
              "size": 10,
              "solidity": 0.2
             }
            },
            "type": "histogram"
           }
          ],
          "histogram2d": [
           {
            "colorbar": {
             "outlinewidth": 0,
             "ticks": ""
            },
            "colorscale": [
             [
              0,
              "#0d0887"
             ],
             [
              0.1111111111111111,
              "#46039f"
             ],
             [
              0.2222222222222222,
              "#7201a8"
             ],
             [
              0.3333333333333333,
              "#9c179e"
             ],
             [
              0.4444444444444444,
              "#bd3786"
             ],
             [
              0.5555555555555556,
              "#d8576b"
             ],
             [
              0.6666666666666666,
              "#ed7953"
             ],
             [
              0.7777777777777778,
              "#fb9f3a"
             ],
             [
              0.8888888888888888,
              "#fdca26"
             ],
             [
              1,
              "#f0f921"
             ]
            ],
            "type": "histogram2d"
           }
          ],
          "histogram2dcontour": [
           {
            "colorbar": {
             "outlinewidth": 0,
             "ticks": ""
            },
            "colorscale": [
             [
              0,
              "#0d0887"
             ],
             [
              0.1111111111111111,
              "#46039f"
             ],
             [
              0.2222222222222222,
              "#7201a8"
             ],
             [
              0.3333333333333333,
              "#9c179e"
             ],
             [
              0.4444444444444444,
              "#bd3786"
             ],
             [
              0.5555555555555556,
              "#d8576b"
             ],
             [
              0.6666666666666666,
              "#ed7953"
             ],
             [
              0.7777777777777778,
              "#fb9f3a"
             ],
             [
              0.8888888888888888,
              "#fdca26"
             ],
             [
              1,
              "#f0f921"
             ]
            ],
            "type": "histogram2dcontour"
           }
          ],
          "mesh3d": [
           {
            "colorbar": {
             "outlinewidth": 0,
             "ticks": ""
            },
            "type": "mesh3d"
           }
          ],
          "parcoords": [
           {
            "line": {
             "colorbar": {
              "outlinewidth": 0,
              "ticks": ""
             }
            },
            "type": "parcoords"
           }
          ],
          "pie": [
           {
            "automargin": true,
            "type": "pie"
           }
          ],
          "scatter": [
           {
            "fillpattern": {
             "fillmode": "overlay",
             "size": 10,
             "solidity": 0.2
            },
            "type": "scatter"
           }
          ],
          "scatter3d": [
           {
            "line": {
             "colorbar": {
              "outlinewidth": 0,
              "ticks": ""
             }
            },
            "marker": {
             "colorbar": {
              "outlinewidth": 0,
              "ticks": ""
             }
            },
            "type": "scatter3d"
           }
          ],
          "scattercarpet": [
           {
            "marker": {
             "colorbar": {
              "outlinewidth": 0,
              "ticks": ""
             }
            },
            "type": "scattercarpet"
           }
          ],
          "scattergeo": [
           {
            "marker": {
             "colorbar": {
              "outlinewidth": 0,
              "ticks": ""
             }
            },
            "type": "scattergeo"
           }
          ],
          "scattergl": [
           {
            "marker": {
             "colorbar": {
              "outlinewidth": 0,
              "ticks": ""
             }
            },
            "type": "scattergl"
           }
          ],
          "scattermapbox": [
           {
            "marker": {
             "colorbar": {
              "outlinewidth": 0,
              "ticks": ""
             }
            },
            "type": "scattermapbox"
           }
          ],
          "scatterpolar": [
           {
            "marker": {
             "colorbar": {
              "outlinewidth": 0,
              "ticks": ""
             }
            },
            "type": "scatterpolar"
           }
          ],
          "scatterpolargl": [
           {
            "marker": {
             "colorbar": {
              "outlinewidth": 0,
              "ticks": ""
             }
            },
            "type": "scatterpolargl"
           }
          ],
          "scatterternary": [
           {
            "marker": {
             "colorbar": {
              "outlinewidth": 0,
              "ticks": ""
             }
            },
            "type": "scatterternary"
           }
          ],
          "surface": [
           {
            "colorbar": {
             "outlinewidth": 0,
             "ticks": ""
            },
            "colorscale": [
             [
              0,
              "#0d0887"
             ],
             [
              0.1111111111111111,
              "#46039f"
             ],
             [
              0.2222222222222222,
              "#7201a8"
             ],
             [
              0.3333333333333333,
              "#9c179e"
             ],
             [
              0.4444444444444444,
              "#bd3786"
             ],
             [
              0.5555555555555556,
              "#d8576b"
             ],
             [
              0.6666666666666666,
              "#ed7953"
             ],
             [
              0.7777777777777778,
              "#fb9f3a"
             ],
             [
              0.8888888888888888,
              "#fdca26"
             ],
             [
              1,
              "#f0f921"
             ]
            ],
            "type": "surface"
           }
          ],
          "table": [
           {
            "cells": {
             "fill": {
              "color": "#EBF0F8"
             },
             "line": {
              "color": "white"
             }
            },
            "header": {
             "fill": {
              "color": "#C8D4E3"
             },
             "line": {
              "color": "white"
             }
            },
            "type": "table"
           }
          ]
         },
         "layout": {
          "annotationdefaults": {
           "arrowcolor": "#2a3f5f",
           "arrowhead": 0,
           "arrowwidth": 1
          },
          "autotypenumbers": "strict",
          "coloraxis": {
           "colorbar": {
            "outlinewidth": 0,
            "ticks": ""
           }
          },
          "colorscale": {
           "diverging": [
            [
             0,
             "#8e0152"
            ],
            [
             0.1,
             "#c51b7d"
            ],
            [
             0.2,
             "#de77ae"
            ],
            [
             0.3,
             "#f1b6da"
            ],
            [
             0.4,
             "#fde0ef"
            ],
            [
             0.5,
             "#f7f7f7"
            ],
            [
             0.6,
             "#e6f5d0"
            ],
            [
             0.7,
             "#b8e186"
            ],
            [
             0.8,
             "#7fbc41"
            ],
            [
             0.9,
             "#4d9221"
            ],
            [
             1,
             "#276419"
            ]
           ],
           "sequential": [
            [
             0,
             "#0d0887"
            ],
            [
             0.1111111111111111,
             "#46039f"
            ],
            [
             0.2222222222222222,
             "#7201a8"
            ],
            [
             0.3333333333333333,
             "#9c179e"
            ],
            [
             0.4444444444444444,
             "#bd3786"
            ],
            [
             0.5555555555555556,
             "#d8576b"
            ],
            [
             0.6666666666666666,
             "#ed7953"
            ],
            [
             0.7777777777777778,
             "#fb9f3a"
            ],
            [
             0.8888888888888888,
             "#fdca26"
            ],
            [
             1,
             "#f0f921"
            ]
           ],
           "sequentialminus": [
            [
             0,
             "#0d0887"
            ],
            [
             0.1111111111111111,
             "#46039f"
            ],
            [
             0.2222222222222222,
             "#7201a8"
            ],
            [
             0.3333333333333333,
             "#9c179e"
            ],
            [
             0.4444444444444444,
             "#bd3786"
            ],
            [
             0.5555555555555556,
             "#d8576b"
            ],
            [
             0.6666666666666666,
             "#ed7953"
            ],
            [
             0.7777777777777778,
             "#fb9f3a"
            ],
            [
             0.8888888888888888,
             "#fdca26"
            ],
            [
             1,
             "#f0f921"
            ]
           ]
          },
          "colorway": [
           "#636efa",
           "#EF553B",
           "#00cc96",
           "#ab63fa",
           "#FFA15A",
           "#19d3f3",
           "#FF6692",
           "#B6E880",
           "#FF97FF",
           "#FECB52"
          ],
          "font": {
           "color": "#2a3f5f"
          },
          "geo": {
           "bgcolor": "white",
           "lakecolor": "white",
           "landcolor": "#E5ECF6",
           "showlakes": true,
           "showland": true,
           "subunitcolor": "white"
          },
          "hoverlabel": {
           "align": "left"
          },
          "hovermode": "closest",
          "mapbox": {
           "style": "light"
          },
          "paper_bgcolor": "white",
          "plot_bgcolor": "#E5ECF6",
          "polar": {
           "angularaxis": {
            "gridcolor": "white",
            "linecolor": "white",
            "ticks": ""
           },
           "bgcolor": "#E5ECF6",
           "radialaxis": {
            "gridcolor": "white",
            "linecolor": "white",
            "ticks": ""
           }
          },
          "scene": {
           "xaxis": {
            "backgroundcolor": "#E5ECF6",
            "gridcolor": "white",
            "gridwidth": 2,
            "linecolor": "white",
            "showbackground": true,
            "ticks": "",
            "zerolinecolor": "white"
           },
           "yaxis": {
            "backgroundcolor": "#E5ECF6",
            "gridcolor": "white",
            "gridwidth": 2,
            "linecolor": "white",
            "showbackground": true,
            "ticks": "",
            "zerolinecolor": "white"
           },
           "zaxis": {
            "backgroundcolor": "#E5ECF6",
            "gridcolor": "white",
            "gridwidth": 2,
            "linecolor": "white",
            "showbackground": true,
            "ticks": "",
            "zerolinecolor": "white"
           }
          },
          "shapedefaults": {
           "line": {
            "color": "#2a3f5f"
           }
          },
          "ternary": {
           "aaxis": {
            "gridcolor": "white",
            "linecolor": "white",
            "ticks": ""
           },
           "baxis": {
            "gridcolor": "white",
            "linecolor": "white",
            "ticks": ""
           },
           "bgcolor": "#E5ECF6",
           "caxis": {
            "gridcolor": "white",
            "linecolor": "white",
            "ticks": ""
           }
          },
          "title": {
           "x": 0.05
          },
          "xaxis": {
           "automargin": true,
           "gridcolor": "white",
           "linecolor": "white",
           "ticks": "",
           "title": {
            "standoff": 15
           },
           "zerolinecolor": "white",
           "zerolinewidth": 2
          },
          "yaxis": {
           "automargin": true,
           "gridcolor": "white",
           "linecolor": "white",
           "ticks": "",
           "title": {
            "standoff": 15
           },
           "zerolinecolor": "white",
           "zerolinewidth": 2
          }
         }
        }
       }
      },
      "text/html": [
       "<div>                            <div id=\"5ad0649f-6c84-4e7e-908b-c46e39bb8986\" class=\"plotly-graph-div\" style=\"height:525px; width:100%;\"></div>            <script type=\"text/javascript\">                require([\"plotly\"], function(Plotly) {                    window.PLOTLYENV=window.PLOTLYENV || {};                                    if (document.getElementById(\"5ad0649f-6c84-4e7e-908b-c46e39bb8986\")) {                    Plotly.newPlot(                        \"5ad0649f-6c84-4e7e-908b-c46e39bb8986\",                        [{\"z\":[[0.031888507306575775,0.039079051464796066,0.0007462736684828997,0.031937818974256516,0.037626560777425766,0.016143798828125,0.035507120192050934],[0.02481803111732006,0.03041474148631096,0.0005786707624793053,0.024856412783265114,0.02928420901298523,0.012563236057758331,0.027634557336568832],[0.2084287852048874,0.2554151117801666,0.004931091330945492,0.20875102281570435,0.24592390656471252,0.10554561018943787,0.23207451403141022],[0.13215750455856323,0.1619507372379303,0.0031231106258928776,0.13236182928085327,0.15593251585960388,0.06692104786634445,0.14715084433555603],[0.0412256233394146,0.050520945340394974,0.0009676063200458884,0.04128937050700188,0.048643290996551514,0.0208722110837698,0.04590345919132233],[0.23798097670078278,0.29162895679473877,0.005631614476442337,0.23834890127182007,0.28079208731651306,0.12051113694906235,0.26497915387153625],[0.1897193044424057,0.23248812556266785,0.004487589932978153,0.1900126039981842,0.22384881973266602,0.09607092291116714,0.21124255657196045],[0.8160447478294373,1.0,0.01933438517153263,0.8173062205314636,0.9628411531448364,0.41324853897094727,0.9086196422576904],[0.42526280879974365,0.5211278796195984,0.01007105503231287,0.42592018842697144,0.5017632246017456,0.21535257995128632,0.4735065996646881],[0.3771742880344391,0.46219927072525024,0.00893113762140274,0.37775737047195435,0.4450242817401886,0.1910000741481781,0.4199628233909607],[0.5171127319335938,0.6336826682090759,0.012248322367668152,0.5179121494293213,0.610135555267334,0.26186633110046387,0.5757761597633362],[0.4378906488418579,0.5366023778915405,0.010370394214987755,0.4385676383972168,0.5166626572608948,0.22174745798110962,0.4875670373439789],[0.15700969099998474,0.1924051195383072,0.0037122222129255533,0.1572524458169937,0.1852552592754364,0.07950645685195923,0.17482231557369232],[0.40776464343070984,0.4996853470802307,0.009656270034611225,0.40839505195617676,0.4811173975467682,0.20649133622646332,0.45402345061302185],[0.3239355981349945,0.396959513425827,0.00766913453117013,0.32443639636039734,0.3822087049484253,0.16403944790363312,0.3606846332550049],[0.3354504704475403,0.4110701084136963,0.00794209074229002,0.33596909046173096,0.39579495787620544,0.16987070441246033,0.3735058009624481],[0.026310207322239876,0.032243285328149796,0.0006140422192402184,0.026350894942879677,0.03104480542242527,0.013318889774382114,0.029296008870005608],[0.0005854489281773567,0.0007196447113528848,4.247007382218726e-06,0.0005863691912963986,0.0006925372872501612,0.00029160824487917125,0.000652982504107058],[0.027478564530611038,0.033675018697977066,0.0006417377153411508,0.027521058917045593,0.03242333233356476,0.013910558074712753,0.030596908181905746],[0.000406285107601434,0.0005000937380827963,0.0,0.00040692841866984963,0.0004811444669030607,0.0002008778537856415,0.0004534939653240144],[0.2506938874721527,0.3072076141834259,0.00593296904116869,0.2510814368724823,0.2957918643951416,0.12694908678531647,0.27913421392440796],[0.49113479256629944,0.6018487811088562,0.0116325244307518,0.49189403653144836,0.5794845223426819,0.24871082603931427,0.5468512177467346],[0.046677835285663605,0.05720219761133194,0.001096848864108324,0.046750009059906006,0.055076275020837784,0.023633265867829323,0.05197418853640556],[0.7626853585243225,0.9346123933792114,0.018069524317979813,0.7638643980026245,0.8998831510543823,0.3862268030643463,0.8492069840431213],[0.23025672137737274,0.28216350078582764,0.00544851366430521,0.23061269521713257,0.2716783583164215,0.11659949272871017,0.2563786506652832],[0.42232000827789307,0.5175217986106873,0.010001298040151596,0.4229728877544403,0.4982910454273224,0.2138623148202896,0.47022998332977295],[0.20782417058944702,0.25467419624328613,0.004916759207844734,0.20814546942710876,0.24521049857139587,0.10523942112922668,0.23140129446983337],[0.32615211606025696,0.3996756672859192,0.007721676491200924,0.3266563415527344,0.38482391834259033,0.16516190767288208,0.3631526231765747],[0.1948150396347046,0.23873256146907806,0.004608382936567068,0.19511622190475464,0.22986121475696564,0.0986514613032341,0.21691636741161346],[0.6028443574905396,0.7387399077415466,0.01428055576980114,0.6037762761116028,0.7112890481948853,0.3052816689014435,0.6712332963943481],[0.1998254507780075,0.24487240612506866,0.004727152641862631,0.20013438165187836,0.23577292263507843,0.1011887863278389,0.2224951684474945],[0.021397078409790993,0.02622263878583908,0.0004975784104317427,0.02143017202615738,0.025247875601053238,0.010830830782651901,0.023825524374842644],[0.003336763009428978,0.004091160837560892,6.946581561351195e-05,0.003341936506330967,0.003938772715628147,0.0016849018866196275,0.0037164115346968174],[0.031000183895230293,0.03799048066139221,0.0007252163486555219,0.0310481246560812,0.03657844290137291,0.015693943947553635,0.034518029540777206],[0.033193521201610565,0.0406782403588295,0.0007772085373289883,0.03324485197663307,0.03916633129119873,0.01680467277765274,0.0369601845741272],[0.15871047973632812,0.1944892853498459,0.00375253870151937,0.15895585715770721,0.18726196885108948,0.08036774396896362,0.17671602964401245],[0.4826030135154724,0.5913938879966736,0.011430284008383751,0.48334917426109314,0.5694181323051453,0.24439027905464172,0.537351667881012],[0.06558454036712646,0.08037085086107254,0.0015450248029083014,0.0656859427690506,0.07738401740789413,0.033207811415195465,0.07302570343017578],[0.49790892004966736,0.6101499795913696,0.011793104000389576,0.49867868423461914,0.5874773263931274,0.2521413266658783,0.5543938279151917],[0.5325967669487,0.652657151222229,0.012615364044904709,0.5334200859069824,0.628404974937439,0.269707590341568,0.5930167436599731],[0.21321965754032135,0.2612859308719635,0.0050446572713553905,0.21354928612709045,0.25157657265663147,0.10797175019979477,0.237408846616745],[0.24379470944404602,0.2987532615661621,0.0057694269344210625,0.2441716194152832,0.2876516580581665,0.12345528602600098,0.2714524269104004],[0.003440217114984989,0.004217936657369137,7.191816257545725e-05,0.0034455510322004557,0.004060836974531412,0.001737292273901403,0.003831601934507489],[0.026675766333937645,0.03269125148653984,0.0006227076519280672,0.026717018336057663,0.03147612512111664,0.013504012487828732,0.029703037813305855],[0.46399447321891785,0.5685905814170837,0.010989176109433174,0.4647118151187897,0.5474621653556824,0.2349667102098465,0.5166321396827698],[0.2230636328458786,0.27334895730018616,0.005278004799038172,0.22340847551822662,0.2631913125514984,0.11295683681964874,0.24836952984333038],[0.009772825986146927,0.011978044174611568,0.00022203012485988438,0.009787948802113533,0.011532589793205261,0.004944189917296171,0.010882594622671604],[0.023165516555309296,0.028389720246195793,0.0005394986364990473,0.023201346397399902,0.027334436774253845,0.011726386845111847,0.025794582441449165],[0.17337273061275482,0.21245671808719635,0.004100101534277201,0.17364077270030975,0.2045617550611496,0.08779286593198776,0.1930416077375412],[0.09952396899461746,0.12196092307567596,0.002349545480683446,0.09967783838510513,0.11742866039276123,0.05039508640766144,0.11081528663635254],[0.007993209175765514,0.009797264821827412,0.00017984502483159304,0.008005581796169281,0.009432845748960972,0.004042973741889,0.008901093155145645],[0.5263665318489075,0.6450225114822388,0.012467680498957634,0.5271803140640259,0.6210541129112244,0.26655256748199463,0.5860797762870789],[0.014391533099114895,0.01763790287077427,0.00033151477691717446,0.014413797296583652,0.01698213815689087,0.0072831520810723305,0.016025258228182793],[0.27620911598205566,0.3384745121002197,0.006537796929478645,0.27663612365722656,0.3258969187736511,0.13987025618553162,0.30754396319389343],[0.35958942770957947,0.44065043330192566,0.008514294400811195,0.36014530062675476,0.42427611351013184,0.18209488689899445,0.4003830552101135],[0.2581997513771057,0.31640544533729553,0.006110892631113529,0.2585988938808441,0.30464789271354675,0.1307501345872879,0.2874915599822998],[0.0064749084413051605,0.007936707697808743,0.00014385431131813675,0.006484932731837034,0.007641424424946308,0.0032740908209234476,0.007210554089397192],[0.07868053019046783,0.09641895443201065,0.0018554601119831204,0.07880217581987381,0.09283579140901566,0.03983975946903229,0.08760732412338257],[0.2036571502685547,0.24956783652305603,0.004817981272935867,0.2039719969034195,0.24029389023780823,0.10312920063734055,0.22676154971122742],[0.0217275433242321,0.026627596467733383,0.0005054119392298162,0.021761149168014526,0.025637788698077202,0.010998181998729706,0.024193480610847473],[0.01089603640139103,0.013354448601603508,0.00024865538580343127,0.010912896133959293,0.012857850641012192,0.005512995645403862,0.012133224867284298],[0.6394152045249939,0.7835545539855957,0.015147452242672443,0.640403687953949,0.7544384598731995,0.32380151748657227,0.7119528651237488],[0.0006188221741467714,0.0007605409482493997,5.038105882704258e-06,0.0006197940092533827,0.0007319137803278863,0.0003085087810177356,0.0006901416345499456],[0.5680131912231445,0.6960572004318237,0.01345489826053381,0.5688913464546204,0.6701923608779907,0.28764286637306213,0.6324509382247925]],\"type\":\"heatmap\"}],                        {\"template\":{\"data\":{\"histogram2dcontour\":[{\"type\":\"histogram2dcontour\",\"colorbar\":{\"outlinewidth\":0,\"ticks\":\"\"},\"colorscale\":[[0.0,\"#0d0887\"],[0.1111111111111111,\"#46039f\"],[0.2222222222222222,\"#7201a8\"],[0.3333333333333333,\"#9c179e\"],[0.4444444444444444,\"#bd3786\"],[0.5555555555555556,\"#d8576b\"],[0.6666666666666666,\"#ed7953\"],[0.7777777777777778,\"#fb9f3a\"],[0.8888888888888888,\"#fdca26\"],[1.0,\"#f0f921\"]]}],\"choropleth\":[{\"type\":\"choropleth\",\"colorbar\":{\"outlinewidth\":0,\"ticks\":\"\"}}],\"histogram2d\":[{\"type\":\"histogram2d\",\"colorbar\":{\"outlinewidth\":0,\"ticks\":\"\"},\"colorscale\":[[0.0,\"#0d0887\"],[0.1111111111111111,\"#46039f\"],[0.2222222222222222,\"#7201a8\"],[0.3333333333333333,\"#9c179e\"],[0.4444444444444444,\"#bd3786\"],[0.5555555555555556,\"#d8576b\"],[0.6666666666666666,\"#ed7953\"],[0.7777777777777778,\"#fb9f3a\"],[0.8888888888888888,\"#fdca26\"],[1.0,\"#f0f921\"]]}],\"heatmap\":[{\"type\":\"heatmap\",\"colorbar\":{\"outlinewidth\":0,\"ticks\":\"\"},\"colorscale\":[[0.0,\"#0d0887\"],[0.1111111111111111,\"#46039f\"],[0.2222222222222222,\"#7201a8\"],[0.3333333333333333,\"#9c179e\"],[0.4444444444444444,\"#bd3786\"],[0.5555555555555556,\"#d8576b\"],[0.6666666666666666,\"#ed7953\"],[0.7777777777777778,\"#fb9f3a\"],[0.8888888888888888,\"#fdca26\"],[1.0,\"#f0f921\"]]}],\"heatmapgl\":[{\"type\":\"heatmapgl\",\"colorbar\":{\"outlinewidth\":0,\"ticks\":\"\"},\"colorscale\":[[0.0,\"#0d0887\"],[0.1111111111111111,\"#46039f\"],[0.2222222222222222,\"#7201a8\"],[0.3333333333333333,\"#9c179e\"],[0.4444444444444444,\"#bd3786\"],[0.5555555555555556,\"#d8576b\"],[0.6666666666666666,\"#ed7953\"],[0.7777777777777778,\"#fb9f3a\"],[0.8888888888888888,\"#fdca26\"],[1.0,\"#f0f921\"]]}],\"contourcarpet\":[{\"type\":\"contourcarpet\",\"colorbar\":{\"outlinewidth\":0,\"ticks\":\"\"}}],\"contour\":[{\"type\":\"contour\",\"colorbar\":{\"outlinewidth\":0,\"ticks\":\"\"},\"colorscale\":[[0.0,\"#0d0887\"],[0.1111111111111111,\"#46039f\"],[0.2222222222222222,\"#7201a8\"],[0.3333333333333333,\"#9c179e\"],[0.4444444444444444,\"#bd3786\"],[0.5555555555555556,\"#d8576b\"],[0.6666666666666666,\"#ed7953\"],[0.7777777777777778,\"#fb9f3a\"],[0.8888888888888888,\"#fdca26\"],[1.0,\"#f0f921\"]]}],\"surface\":[{\"type\":\"surface\",\"colorbar\":{\"outlinewidth\":0,\"ticks\":\"\"},\"colorscale\":[[0.0,\"#0d0887\"],[0.1111111111111111,\"#46039f\"],[0.2222222222222222,\"#7201a8\"],[0.3333333333333333,\"#9c179e\"],[0.4444444444444444,\"#bd3786\"],[0.5555555555555556,\"#d8576b\"],[0.6666666666666666,\"#ed7953\"],[0.7777777777777778,\"#fb9f3a\"],[0.8888888888888888,\"#fdca26\"],[1.0,\"#f0f921\"]]}],\"mesh3d\":[{\"type\":\"mesh3d\",\"colorbar\":{\"outlinewidth\":0,\"ticks\":\"\"}}],\"scatter\":[{\"fillpattern\":{\"fillmode\":\"overlay\",\"size\":10,\"solidity\":0.2},\"type\":\"scatter\"}],\"parcoords\":[{\"type\":\"parcoords\",\"line\":{\"colorbar\":{\"outlinewidth\":0,\"ticks\":\"\"}}}],\"scatterpolargl\":[{\"type\":\"scatterpolargl\",\"marker\":{\"colorbar\":{\"outlinewidth\":0,\"ticks\":\"\"}}}],\"bar\":[{\"error_x\":{\"color\":\"#2a3f5f\"},\"error_y\":{\"color\":\"#2a3f5f\"},\"marker\":{\"line\":{\"color\":\"#E5ECF6\",\"width\":0.5},\"pattern\":{\"fillmode\":\"overlay\",\"size\":10,\"solidity\":0.2}},\"type\":\"bar\"}],\"scattergeo\":[{\"type\":\"scattergeo\",\"marker\":{\"colorbar\":{\"outlinewidth\":0,\"ticks\":\"\"}}}],\"scatterpolar\":[{\"type\":\"scatterpolar\",\"marker\":{\"colorbar\":{\"outlinewidth\":0,\"ticks\":\"\"}}}],\"histogram\":[{\"marker\":{\"pattern\":{\"fillmode\":\"overlay\",\"size\":10,\"solidity\":0.2}},\"type\":\"histogram\"}],\"scattergl\":[{\"type\":\"scattergl\",\"marker\":{\"colorbar\":{\"outlinewidth\":0,\"ticks\":\"\"}}}],\"scatter3d\":[{\"type\":\"scatter3d\",\"line\":{\"colorbar\":{\"outlinewidth\":0,\"ticks\":\"\"}},\"marker\":{\"colorbar\":{\"outlinewidth\":0,\"ticks\":\"\"}}}],\"scattermapbox\":[{\"type\":\"scattermapbox\",\"marker\":{\"colorbar\":{\"outlinewidth\":0,\"ticks\":\"\"}}}],\"scatterternary\":[{\"type\":\"scatterternary\",\"marker\":{\"colorbar\":{\"outlinewidth\":0,\"ticks\":\"\"}}}],\"scattercarpet\":[{\"type\":\"scattercarpet\",\"marker\":{\"colorbar\":{\"outlinewidth\":0,\"ticks\":\"\"}}}],\"carpet\":[{\"aaxis\":{\"endlinecolor\":\"#2a3f5f\",\"gridcolor\":\"white\",\"linecolor\":\"white\",\"minorgridcolor\":\"white\",\"startlinecolor\":\"#2a3f5f\"},\"baxis\":{\"endlinecolor\":\"#2a3f5f\",\"gridcolor\":\"white\",\"linecolor\":\"white\",\"minorgridcolor\":\"white\",\"startlinecolor\":\"#2a3f5f\"},\"type\":\"carpet\"}],\"table\":[{\"cells\":{\"fill\":{\"color\":\"#EBF0F8\"},\"line\":{\"color\":\"white\"}},\"header\":{\"fill\":{\"color\":\"#C8D4E3\"},\"line\":{\"color\":\"white\"}},\"type\":\"table\"}],\"barpolar\":[{\"marker\":{\"line\":{\"color\":\"#E5ECF6\",\"width\":0.5},\"pattern\":{\"fillmode\":\"overlay\",\"size\":10,\"solidity\":0.2}},\"type\":\"barpolar\"}],\"pie\":[{\"automargin\":true,\"type\":\"pie\"}]},\"layout\":{\"autotypenumbers\":\"strict\",\"colorway\":[\"#636efa\",\"#EF553B\",\"#00cc96\",\"#ab63fa\",\"#FFA15A\",\"#19d3f3\",\"#FF6692\",\"#B6E880\",\"#FF97FF\",\"#FECB52\"],\"font\":{\"color\":\"#2a3f5f\"},\"hovermode\":\"closest\",\"hoverlabel\":{\"align\":\"left\"},\"paper_bgcolor\":\"white\",\"plot_bgcolor\":\"#E5ECF6\",\"polar\":{\"bgcolor\":\"#E5ECF6\",\"angularaxis\":{\"gridcolor\":\"white\",\"linecolor\":\"white\",\"ticks\":\"\"},\"radialaxis\":{\"gridcolor\":\"white\",\"linecolor\":\"white\",\"ticks\":\"\"}},\"ternary\":{\"bgcolor\":\"#E5ECF6\",\"aaxis\":{\"gridcolor\":\"white\",\"linecolor\":\"white\",\"ticks\":\"\"},\"baxis\":{\"gridcolor\":\"white\",\"linecolor\":\"white\",\"ticks\":\"\"},\"caxis\":{\"gridcolor\":\"white\",\"linecolor\":\"white\",\"ticks\":\"\"}},\"coloraxis\":{\"colorbar\":{\"outlinewidth\":0,\"ticks\":\"\"}},\"colorscale\":{\"sequential\":[[0.0,\"#0d0887\"],[0.1111111111111111,\"#46039f\"],[0.2222222222222222,\"#7201a8\"],[0.3333333333333333,\"#9c179e\"],[0.4444444444444444,\"#bd3786\"],[0.5555555555555556,\"#d8576b\"],[0.6666666666666666,\"#ed7953\"],[0.7777777777777778,\"#fb9f3a\"],[0.8888888888888888,\"#fdca26\"],[1.0,\"#f0f921\"]],\"sequentialminus\":[[0.0,\"#0d0887\"],[0.1111111111111111,\"#46039f\"],[0.2222222222222222,\"#7201a8\"],[0.3333333333333333,\"#9c179e\"],[0.4444444444444444,\"#bd3786\"],[0.5555555555555556,\"#d8576b\"],[0.6666666666666666,\"#ed7953\"],[0.7777777777777778,\"#fb9f3a\"],[0.8888888888888888,\"#fdca26\"],[1.0,\"#f0f921\"]],\"diverging\":[[0,\"#8e0152\"],[0.1,\"#c51b7d\"],[0.2,\"#de77ae\"],[0.3,\"#f1b6da\"],[0.4,\"#fde0ef\"],[0.5,\"#f7f7f7\"],[0.6,\"#e6f5d0\"],[0.7,\"#b8e186\"],[0.8,\"#7fbc41\"],[0.9,\"#4d9221\"],[1,\"#276419\"]]},\"xaxis\":{\"gridcolor\":\"white\",\"linecolor\":\"white\",\"ticks\":\"\",\"title\":{\"standoff\":15},\"zerolinecolor\":\"white\",\"automargin\":true,\"zerolinewidth\":2},\"yaxis\":{\"gridcolor\":\"white\",\"linecolor\":\"white\",\"ticks\":\"\",\"title\":{\"standoff\":15},\"zerolinecolor\":\"white\",\"automargin\":true,\"zerolinewidth\":2},\"scene\":{\"xaxis\":{\"backgroundcolor\":\"#E5ECF6\",\"gridcolor\":\"white\",\"linecolor\":\"white\",\"showbackground\":true,\"ticks\":\"\",\"zerolinecolor\":\"white\",\"gridwidth\":2},\"yaxis\":{\"backgroundcolor\":\"#E5ECF6\",\"gridcolor\":\"white\",\"linecolor\":\"white\",\"showbackground\":true,\"ticks\":\"\",\"zerolinecolor\":\"white\",\"gridwidth\":2},\"zaxis\":{\"backgroundcolor\":\"#E5ECF6\",\"gridcolor\":\"white\",\"linecolor\":\"white\",\"showbackground\":true,\"ticks\":\"\",\"zerolinecolor\":\"white\",\"gridwidth\":2}},\"shapedefaults\":{\"line\":{\"color\":\"#2a3f5f\"}},\"annotationdefaults\":{\"arrowcolor\":\"#2a3f5f\",\"arrowhead\":0,\"arrowwidth\":1},\"geo\":{\"bgcolor\":\"white\",\"landcolor\":\"#E5ECF6\",\"subunitcolor\":\"white\",\"showland\":true,\"showlakes\":true,\"lakecolor\":\"white\"},\"title\":{\"x\":0.05},\"mapbox\":{\"style\":\"light\"}}}},                        {\"responsive\": true}                    ).then(function(){\n",
       "                            \n",
       "var gd = document.getElementById('5ad0649f-6c84-4e7e-908b-c46e39bb8986');\n",
       "var x = new MutationObserver(function (mutations, observer) {{\n",
       "        var display = window.getComputedStyle(gd).display;\n",
       "        if (!display || display === 'none') {{\n",
       "            console.log([gd, 'removed!']);\n",
       "            Plotly.purge(gd);\n",
       "            observer.disconnect();\n",
       "        }}\n",
       "}});\n",
       "\n",
       "// Listen for the removal of the full notebook cells\n",
       "var notebookContainer = gd.closest('#notebook-container');\n",
       "if (notebookContainer) {{\n",
       "    x.observe(notebookContainer, {childList: true});\n",
       "}}\n",
       "\n",
       "// Listen for the clearing of the current output cell\n",
       "var outputEl = gd.closest('.output');\n",
       "if (outputEl) {{\n",
       "    x.observe(outputEl, {childList: true});\n",
       "}}\n",
       "\n",
       "                        })                };                });            </script>        </div>"
      ]
     },
     "metadata": {},
     "output_type": "display_data"
    }
   ],
   "source": [
    "fig = go.Figure()\n",
    "fig.add_trace(go.Heatmap(z = D_og[110, :, :]))"
   ]
  },
  {
   "cell_type": "code",
   "execution_count": null,
   "id": "e8f56340",
   "metadata": {},
   "outputs": [],
   "source": []
  }
 ],
 "metadata": {
  "kernelspec": {
   "display_name": "Python 3 (ipykernel)",
   "language": "python",
   "name": "python3"
  },
  "language_info": {
   "codemirror_mode": {
    "name": "ipython",
    "version": 3
   },
   "file_extension": ".py",
   "mimetype": "text/x-python",
   "name": "python",
   "nbconvert_exporter": "python",
   "pygments_lexer": "ipython3",
   "version": "3.10.8"
  },
  "toc": {
   "base_numbering": 1,
   "nav_menu": {},
   "number_sections": true,
   "sideBar": true,
   "skip_h1_title": false,
   "title_cell": "Table of Contents",
   "title_sidebar": "Contents",
   "toc_cell": false,
   "toc_position": {},
   "toc_section_display": true,
   "toc_window_display": false
  }
 },
 "nbformat": 4,
 "nbformat_minor": 5
}
