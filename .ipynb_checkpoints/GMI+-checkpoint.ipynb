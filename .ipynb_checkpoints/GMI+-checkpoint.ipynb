{
 "cells": [
  {
   "cell_type": "markdown",
   "id": "d72f27a9",
   "metadata": {},
   "source": [
    "### Imports"
   ]
  },
  {
   "cell_type": "code",
   "execution_count": 1,
   "id": "46301356",
   "metadata": {},
   "outputs": [
    {
     "name": "stderr",
     "output_type": "stream",
     "text": [
      "/Users/zohairshafi/miniforge3/lib/python3.10/site-packages/tqdm/auto.py:22: TqdmWarning: IProgress not found. Please update jupyter and ipywidgets. See https://ipywidgets.readthedocs.io/en/stable/user_install.html\n",
      "  from .autonotebook import tqdm as notebook_tqdm\n"
     ]
    }
   ],
   "source": [
    "import numpy as np\n",
    "import scipy.sparse as sp\n",
    "import torch\n",
    "import torch.nn as nn\n",
    "import pickle as pkl\n",
    "import networkx as nx\n",
    "\n",
    "from tqdm import tqdm\n",
    "\n",
    "from tensorflow.keras.optimizers import Adam, Nadam\n",
    "from scripts.utils import *\n",
    "\n",
    "from GMI.models import GMI, LogReg\n",
    "from GMI.utils import process\n"
   ]
  },
  {
   "cell_type": "markdown",
   "id": "c1c32f3f",
   "metadata": {},
   "source": [
    "### Class Definitions"
   ]
  },
  {
   "cell_type": "code",
   "execution_count": 2,
   "id": "1114e0af",
   "metadata": {},
   "outputs": [],
   "source": [
    "class BaseEmbedder:\n",
    "    def __init__(self, graph, embed_shape = (128,)):\n",
    "        self.embed(graph)\n",
    "        self.E = list(graph.edges())\n",
    "        self.graph = graph\n",
    "        self.embed_shape = embed_shape\n",
    "    \n",
    "    def embed(self, graph):\n",
    "        raise NotImplementedError\n",
    "    \n",
    "    def get_embedding(self):\n",
    "        raise NotImplementedError\n",
    "        "
   ]
  },
  {
   "cell_type": "code",
   "execution_count": 110,
   "id": "1c7379ff",
   "metadata": {},
   "outputs": [],
   "source": [
    "class GMIEmbedding(BaseEmbedder):\n",
    "    def __init__(self, embed_dim = 64, graph = None, feature_matrix = None, use_xm = False, debug = False, batch_size = 1, nb_epochs = 500, patience = 20, ortho_ = 0.1, sparse_ = 0.1, lr = 1e-3, l2_coef = 0.0, drop_prob = 0.0, sparse = True, nonlinearity = 'prelu', alpha = 0.8, beta = 1.0, gamma = 1.0, negative_num = 5, epoch_flag = 20, model_name = 'test'):\n",
    "\n",
    "        self.embed_dim = embed_dim\n",
    "        self.debug = debug\n",
    "        \n",
    "        # Training Params\n",
    "        self.graph = graph\n",
    "        self.batch_size = batch_size\n",
    "        self.nb_epochs = nb_epochs\n",
    "        self.patience = patience\n",
    "        self.lr = lr\n",
    "        self.l2_coef = l2_coef\n",
    "        self.feature_matrix = feature_matrix\n",
    "        self.drop_prob = drop_prob\n",
    "        self.hid_units = embed_dim\n",
    "        self.sparse = sparse\n",
    "        self.nonlinearity = nonlinearity\n",
    "        self.use_xm = use_xm\n",
    "        self.ortho_ = ortho_\n",
    "        self.sparse_ = sparse_\n",
    "        self.alpha = alpha\n",
    "        self.beta = beta\n",
    "        self.gamma = gamma\n",
    "        self.negative_num = negative_num\n",
    "        self.epoch_flag = epoch_flag\n",
    "        self.model_name = model_name\n",
    "        \n",
    "        self.time_per_epoch = None\n",
    "        \n",
    "        if graph is not None:\n",
    "            self.embed()\n",
    "        else:\n",
    "            self.graph = None\n",
    "    \n",
    "    def embed(self):\n",
    "\n",
    "        ####\n",
    "        if self.feature_matrix is None:\n",
    "            feature_matrix = np.identity(len(self.graph))\n",
    "        else: \n",
    "            feature_matrix = self.feature_matrix\n",
    "\n",
    "        adj_ori = nx.to_scipy_sparse_array(graph)\n",
    "        features = sp.lil_matrix(feature_matrix)\n",
    "        features, _ = process.preprocess_features(features)\n",
    "\n",
    "        nb_nodes = features.shape[0]\n",
    "        ft_size = features.shape[1]\n",
    "        \n",
    "        adj = process.normalize_adj(adj_ori + sp.eye(adj_ori.shape[0]))\n",
    "\n",
    "        if self.sparse:\n",
    "            sp_adj = process.sparse_mx_to_torch_sparse_tensor(adj)\n",
    "        else:\n",
    "            adj = (adj + sp.eye(adj.shape[0])).todense()\n",
    "\n",
    "        features = torch.FloatTensor(features[np.newaxis])\n",
    "        if not self.sparse:\n",
    "            adj = torch.FloatTensor(adj[np.newaxis])\n",
    "\n",
    "        if self.feature_matrix is not None: \n",
    "            sense_features = torch.FloatTensor(self.feature_matrix)\n",
    "\n",
    "        model = GMI(ft_size, self.hid_units, self.nonlinearity)\n",
    "        optimiser = torch.optim.Adam(model.parameters(), lr = self.lr, weight_decay = self.l2_coef)\n",
    "        \n",
    "        if self.use_xm:\n",
    "             model.load_state_dict(torch.load(self.model_name + '.pkl'))\n",
    "        \n",
    "        if torch.cuda.is_available():\n",
    "            model.cuda()\n",
    "            features = features.cuda()\n",
    "            sp_adj = sp_adj.cuda()\n",
    "            \n",
    "        b_xent = nn.BCEWithLogitsLoss()\n",
    "        xent = nn.CrossEntropyLoss()\n",
    "        cnt_wait = 0\n",
    "        best = 1e9\n",
    "        best_t = 0\n",
    "        \n",
    "        \n",
    "        adj_dense = adj_ori.toarray()\n",
    "        adj_target = adj_dense + np.eye(adj_dense.shape[0])\n",
    "        adj_row_avg = 1.0 / np.sum(adj_dense, axis = 1)\n",
    "        adj_row_avg[np.isnan(adj_row_avg)] = 0.0\n",
    "        adj_row_avg[np.isinf(adj_row_avg)] = 0.0\n",
    "        adj_dense = adj_dense * 1.0\n",
    "        \n",
    "        for i in range(adj_ori.shape[0]):\n",
    "            adj_dense[i] = adj_dense[i] * adj_row_avg[i]\n",
    "        adj_ori = sp.csr_matrix(adj_dense, dtype = np.float32)\n",
    "        \n",
    "        start_time = time.time()\n",
    "        for epoch in tqdm(range(self.nb_epochs)):\n",
    "            model.train()\n",
    "            optimiser.zero_grad()\n",
    "            \n",
    "            res = model(features, adj_ori, self.negative_num, sp_adj, None, None) \n",
    "            \n",
    "            if self.use_xm == True and feature_matrix is not None:\n",
    "                \n",
    "                start_idx = 0\n",
    "                loop = True\n",
    "                \n",
    "                ortho_loss = 0\n",
    "                sparse_loss = 0\n",
    "                xm_batch_size = 128\n",
    "                \n",
    "                sf = sense_features\n",
    "                embeds = model.embed(features, sp_adj)\n",
    "                                \n",
    "                while loop:\n",
    "                    end_idx = start_idx + xm_batch_size\n",
    "                    if end_idx > len(self.graph):\n",
    "                        loop = False\n",
    "                        end_idx = len(self.graph)\n",
    "                                            \n",
    "                    sf = sense_features[start_idx : end_idx]\n",
    "                    embeds_ = torch.squeeze(embeds)[start_idx : end_idx]\n",
    "                    \n",
    "                    \n",
    "                    sense_mat = torch.einsum('ij, ik -> ijk', embeds_, sf)\n",
    "                    E = sense_mat\n",
    "                    y_norm = torch.diagonal(torch.matmul(embeds_, torch.transpose(embeds_, 0, 1)))\n",
    "                    sense_norm = torch.diagonal(torch.matmul(sf, torch.transpose(sf, 0, 1)))\n",
    "                    norm = torch.multiply(y_norm, sense_norm)\n",
    "                    E = torch.transpose(torch.transpose(E, 0, 2) / norm, 0, 2)\n",
    "                    E = (E - torch.amin(E, dim = [-1, -2], keepdim = True)) / (torch.amax(E, dim = [-1, -2], keepdim = True) - torch.amin(E, dim = [-1, -2], keepdim = True))\n",
    "                    \n",
    "                    E_t = torch.transpose(E, 1, 2)\n",
    "                    \n",
    "                    E_o = torch.einsum('aij, ajh -> aih', E, E_t)\n",
    "                    E_o = torch.sum(E_o)\n",
    "                    batch_ortho_loss = (self.ortho_ * E_o) / self.batch_size\n",
    "\n",
    "                    batch_sparse_loss = (self.sparse_ * torch.sum(torch.linalg.norm(E, ord = 1, axis = 0))) / self.batch_size\n",
    "                        \n",
    "                    ortho_loss += batch_ortho_loss\n",
    "                    sparse_loss += batch_sparse_loss\n",
    "                    \n",
    "                    start_idx = end_idx\n",
    "                    \n",
    "                loss = self.alpha * process.mi_loss_jsd(res[0], res[1]) +\\\n",
    "                       self.beta * process.mi_loss_jsd(res[2], res[3]) +\\\n",
    "                       self.gamma * process.reconstruct_loss(res[4], adj_target) +\\\n",
    "                       ortho_loss +\\\n",
    "                       sparse_loss\n",
    "            else:\n",
    "                loss = self.alpha * process.mi_loss_jsd(res[0], res[1]) +\\\n",
    "                       self.beta * process.mi_loss_jsd(res[2], res[3]) +\\\n",
    "                       self.gamma * process.reconstruct_loss(res[4], adj_target)\n",
    "\n",
    "\n",
    "            if self.debug:\n",
    "                print('Loss:', loss)\n",
    "\n",
    "            if loss < best:\n",
    "                best = loss\n",
    "                best_t = epoch\n",
    "                cnt_wait = 0\n",
    "                torch.save(model.state_dict(), self.model_name + '.pkl')\n",
    "            else:\n",
    "                cnt_wait += 1\n",
    "\n",
    "            if cnt_wait == self.epoch_flag:\n",
    "                print('Early stopping!')\n",
    "                break\n",
    "\n",
    "            loss.backward()\n",
    "            optimiser.step()\n",
    "            \n",
    "        self.time_per_epoch = (time.time() - start_time) / epoch\n",
    "\n",
    "        if self.debug: \n",
    "            print('Loading {}th epoch'.format(best_t))\n",
    "            \n",
    "        model.load_state_dict(torch.load(self.model_name + '.pkl'))\n",
    "\n",
    "        embeds = model.embed(features, sp_adj)\n",
    "        self.embeddings = embeds\n",
    "    \n",
    "    def get_embedding(self):\n",
    "        return np.squeeze(self.embeddings.numpy())\n",
    "    "
   ]
  },
  {
   "cell_type": "code",
   "execution_count": 4,
   "id": "78d02a5a",
   "metadata": {},
   "outputs": [
    {
     "name": "stdout",
     "output_type": "stream",
     "text": [
      "Calculating Personalized Page Rank...                     \r"
     ]
    },
    {
     "name": "stderr",
     "output_type": "stream",
     "text": [
      "986it [00:28, 34.85it/s]\n"
     ]
    },
    {
     "name": "stdout",
     "output_type": "stream",
     "text": [
      "Done                                                      \r"
     ]
    },
    {
     "name": "stderr",
     "output_type": "stream",
     "text": [
      "/Users/zohairshafi/miniforge3/lib/python3.10/site-packages/networkx/algorithms/centrality/katz.py:325: FutureWarning: adjacency_matrix will return a scipy.sparse array instead of a matrix in Networkx 3.0.\n",
      "  A = nx.adjacency_matrix(G, nodelist=nodelist, weight=weight).todense().T\n"
     ]
    }
   ],
   "source": [
    "with open('./data/email.pkl', 'rb') as file: \n",
    "    graph_dict = pkl.load(file)\n",
    "    \n",
    "graph = nx.Graph(nx.to_numpy_array(graph_dict['graph']))    \n",
    "graph = nx.Graph(nx.to_numpy_array(graph))\n",
    "\n",
    "\n",
    "sense_feat_dict, sense_features = get_sense_features(graph, ppr_flag = 'std')\n"
   ]
  },
  {
   "cell_type": "code",
   "execution_count": 5,
   "id": "adf6b460",
   "metadata": {},
   "outputs": [],
   "source": [
    "uncorrelated_feats = ['Degree',\n",
    "                    'Clustering Coefficient',\n",
    "                    'Personalized Page Rank - Standard Deviation',\n",
    "                    'Average Neighbor Degree',\n",
    "                    'Average Neighbor Clustering',\n",
    "                    'Eccentricity',\n",
    "                    'Katz Centrality']\n",
    "sense_features = sense_features[:, [list(sense_feat_dict).index(feat) for feat in uncorrelated_feats]]\n",
    "sense_feat_dict = {feat : idx for idx, feat in enumerate(uncorrelated_feats)}"
   ]
  },
  {
   "cell_type": "code",
   "execution_count": 111,
   "id": "e44dc280",
   "metadata": {
    "scrolled": true
   },
   "outputs": [
    {
     "name": "stderr",
     "output_type": "stream",
     "text": [
      "100%|█████████████████████████████████████████| 500/500 [00:24<00:00, 20.74it/s]\n",
      "100%|█████████████████████████████████████████| 500/500 [00:35<00:00, 14.19it/s]\n"
     ]
    }
   ],
   "source": [
    "gmi_og = GMIEmbedding(graph = graph, \n",
    "           embed_dim = 64, \n",
    "           feature_matrix = sense_features, \n",
    "           use_xm = False, \n",
    "           ortho_ = 0, \n",
    "           sparse_ = 0, \n",
    "           batch_size = 1)\n",
    "embed_og = gmi_og.get_embedding()\n",
    "embed_og = (embed_og - np.min(embed_og)) / np.ptp(embed_og)\n",
    "feature_dict_og = find_feature_membership(input_embed = embed_og,\n",
    "                                                    embed_name = 'GMI-SF',\n",
    "                                                    sense_features = sense_features,\n",
    "                                                    sense_feat_dict = sense_feat_dict,\n",
    "                                                    top_k = 8,\n",
    "                                                    solver = 'nmf')\n",
    "\n",
    "explain_og = feature_dict_og['explain_norm']\n",
    "error_og = sense_features * np.log((sense_features + 1e-10) / ((embed_og @ feature_dict_og['explain_norm']) + 1e-10)) - sense_features + (embed_og @ feature_dict_og['explain_norm'])\n",
    "explain_og = (explain_og - np.min(explain_og)) / np.ptp(explain_og)\n",
    "\n",
    "\n",
    "gmi_plus = GMIEmbedding(graph = graph, \n",
    "           embed_dim = 64, \n",
    "           feature_matrix = sense_features, \n",
    "           use_xm = True, \n",
    "           alpha = 0.08, \n",
    "           beta = 0, \n",
    "           gamma = 0,\n",
    "           ortho_ = 100, \n",
    "           sparse_ = 10, \n",
    "           batch_size = 1, \n",
    "           epoch_flag = 1000)\n",
    "embed_plus = gmi_plus.get_embedding()\n",
    "embed_plus = (embed_plus - np.min(embed_plus)) / np.ptp(embed_plus)\n",
    "feature_dict_plus = find_feature_membership(input_embed = embed_plus,\n",
    "                                                    embed_name = 'GMI+XM',\n",
    "                                                    sense_features = sense_features,\n",
    "                                                    sense_feat_dict = sense_feat_dict,\n",
    "                                                    top_k = 8,\n",
    "                                                    solver = 'nmf')\n",
    "\n",
    "explain_plus = feature_dict_plus['explain_norm']\n",
    "error_plus = sense_features * np.log((sense_features + 1e-10) / ((embed_plus @ feature_dict_plus['explain_norm']) + 1e-10)) - sense_features + (embed_plus @ feature_dict_plus['explain_norm'])\n",
    "explain_plus = (explain_plus - np.min(explain_plus)) / np.ptp(explain_plus)"
   ]
  },
  {
   "cell_type": "code",
   "execution_count": 112,
   "id": "a1462e6b",
   "metadata": {},
   "outputs": [
    {
     "data": {
      "application/vnd.plotly.v1+json": {
       "config": {
        "plotlyServerURL": "https://plot.ly"
       },
       "data": [
        {
         "type": "heatmap",
         "x": [
          "Degree",
          "Clustering Coefficient",
          "Personalized Page Rank - Standard Deviation",
          "Average Neighbor Degree",
          "Average Neighbor Clustering",
          "Eccentricity",
          "Katz Centrality"
         ],
         "z": [
          [
           0,
           0,
           0,
           0,
           0,
           0,
           0
          ],
          [
           0,
           0,
           0,
           0,
           0,
           0,
           0
          ],
          [
           0,
           0,
           0,
           0,
           0,
           0,
           0
          ],
          [
           0,
           0,
           0,
           0,
           0,
           1,
           0
          ],
          [
           0,
           0,
           0,
           0,
           0,
           0,
           0.33692923188209534
          ],
          [
           0,
           0,
           0,
           0,
           0,
           0,
           0.025889927521348
          ],
          [
           0,
           0,
           0,
           0,
           0,
           0,
           0
          ],
          [
           0,
           0,
           0,
           0,
           0,
           0,
           0.0333842970430851
          ],
          [
           0,
           0,
           0,
           0,
           0,
           0,
           0
          ],
          [
           0,
           0,
           0,
           0,
           0,
           0,
           0.16339804232120514
          ],
          [
           0,
           0,
           0,
           0,
           0,
           0,
           0
          ],
          [
           0.8542662858963013,
           0,
           0,
           0.2532190680503845,
           0,
           0,
           0
          ],
          [
           0,
           0,
           0,
           0,
           0,
           0,
           0
          ],
          [
           0,
           0,
           0,
           0,
           0,
           0,
           0
          ],
          [
           0,
           0,
           0,
           0,
           0,
           0,
           0.00767057528719306
          ],
          [
           0,
           0,
           0,
           0.22975867986679077,
           0,
           0,
           0
          ],
          [
           0,
           0,
           0,
           0,
           0,
           0,
           0
          ],
          [
           0,
           0,
           0,
           0,
           0,
           0,
           0
          ],
          [
           0,
           0,
           0,
           0,
           0,
           0,
           0
          ],
          [
           0,
           0,
           0,
           0,
           0,
           0,
           0
          ],
          [
           0,
           0,
           0,
           0,
           0,
           0,
           0
          ],
          [
           0,
           0,
           0,
           0,
           0,
           0,
           0.03658363223075867
          ],
          [
           0,
           0,
           0,
           0,
           0,
           0,
           0
          ],
          [
           0,
           0,
           0,
           0,
           0,
           0,
           0
          ],
          [
           0,
           0,
           0,
           0,
           0.41558837890625,
           0,
           0
          ],
          [
           0,
           0,
           0.31224191188812256,
           0,
           0,
           0,
           0.007538980338722467
          ],
          [
           0,
           0,
           0,
           0,
           0,
           0,
           0
          ],
          [
           0,
           0,
           0,
           0,
           0,
           0,
           0
          ],
          [
           0,
           0,
           0,
           0,
           0,
           0,
           0
          ],
          [
           0,
           0,
           0,
           0,
           0,
           0,
           0
          ],
          [
           0,
           0,
           0,
           0,
           0,
           0,
           0.003548047272488475
          ],
          [
           0,
           0,
           0,
           0,
           0,
           0,
           0
          ],
          [
           0,
           0,
           0,
           0,
           0,
           0,
           0
          ],
          [
           0,
           0,
           0,
           0,
           0,
           0,
           0
          ],
          [
           0,
           0,
           0,
           0,
           0.24153190851211548,
           0,
           0
          ],
          [
           0,
           0,
           0,
           0,
           0,
           0,
           0
          ],
          [
           0,
           0,
           0,
           0,
           0,
           0,
           0
          ],
          [
           0,
           0,
           0,
           0,
           0,
           0,
           0
          ],
          [
           0,
           0,
           0,
           0,
           0,
           0,
           0
          ],
          [
           0,
           0,
           0.5703532099723816,
           0,
           0,
           0,
           0
          ],
          [
           0,
           0,
           0,
           0,
           0,
           0,
           0
          ],
          [
           0,
           0,
           0,
           0,
           0,
           0,
           0
          ],
          [
           0,
           0,
           0,
           0,
           0,
           0,
           0
          ],
          [
           0,
           0,
           0,
           0,
           0,
           0,
           0
          ],
          [
           0,
           0,
           0,
           0,
           0,
           0,
           0
          ],
          [
           0,
           0,
           0,
           0,
           0,
           0,
           0.027079110965132713
          ],
          [
           0,
           0,
           0,
           0,
           0,
           0,
           0
          ],
          [
           0,
           0,
           0,
           0,
           0,
           0,
           0
          ],
          [
           0,
           0,
           0,
           0,
           0,
           0,
           0.18669255077838898
          ],
          [
           0,
           0,
           0,
           0,
           0.14665181934833527,
           0,
           0
          ],
          [
           0,
           0,
           0,
           0,
           0,
           0,
           0
          ],
          [
           0,
           0.9081341624259949,
           0,
           0.3631182610988617,
           0,
           0,
           0
          ],
          [
           0,
           0,
           0,
           0,
           0,
           0,
           0
          ],
          [
           0,
           0,
           0,
           0,
           0,
           0,
           0
          ],
          [
           0,
           0,
           0,
           0,
           0,
           0,
           0
          ],
          [
           0,
           0,
           0,
           0,
           0,
           0,
           0
          ],
          [
           0,
           0,
           0,
           0,
           0,
           0,
           0
          ],
          [
           0,
           0,
           0,
           0,
           0,
           0,
           0
          ],
          [
           0,
           0,
           0,
           0,
           0,
           0,
           0
          ],
          [
           0,
           0,
           0,
           0,
           0,
           0,
           0
          ],
          [
           0,
           0,
           0,
           0,
           0,
           0,
           0
          ],
          [
           0,
           0,
           0,
           0,
           0,
           0,
           0
          ],
          [
           0,
           0,
           0,
           0,
           0,
           0,
           0
          ],
          [
           0,
           0,
           0,
           0,
           0,
           0,
           0
          ]
         ]
        }
       ],
       "layout": {
        "template": {
         "data": {
          "bar": [
           {
            "error_x": {
             "color": "#2a3f5f"
            },
            "error_y": {
             "color": "#2a3f5f"
            },
            "marker": {
             "line": {
              "color": "#E5ECF6",
              "width": 0.5
             },
             "pattern": {
              "fillmode": "overlay",
              "size": 10,
              "solidity": 0.2
             }
            },
            "type": "bar"
           }
          ],
          "barpolar": [
           {
            "marker": {
             "line": {
              "color": "#E5ECF6",
              "width": 0.5
             },
             "pattern": {
              "fillmode": "overlay",
              "size": 10,
              "solidity": 0.2
             }
            },
            "type": "barpolar"
           }
          ],
          "carpet": [
           {
            "aaxis": {
             "endlinecolor": "#2a3f5f",
             "gridcolor": "white",
             "linecolor": "white",
             "minorgridcolor": "white",
             "startlinecolor": "#2a3f5f"
            },
            "baxis": {
             "endlinecolor": "#2a3f5f",
             "gridcolor": "white",
             "linecolor": "white",
             "minorgridcolor": "white",
             "startlinecolor": "#2a3f5f"
            },
            "type": "carpet"
           }
          ],
          "choropleth": [
           {
            "colorbar": {
             "outlinewidth": 0,
             "ticks": ""
            },
            "type": "choropleth"
           }
          ],
          "contour": [
           {
            "colorbar": {
             "outlinewidth": 0,
             "ticks": ""
            },
            "colorscale": [
             [
              0,
              "#0d0887"
             ],
             [
              0.1111111111111111,
              "#46039f"
             ],
             [
              0.2222222222222222,
              "#7201a8"
             ],
             [
              0.3333333333333333,
              "#9c179e"
             ],
             [
              0.4444444444444444,
              "#bd3786"
             ],
             [
              0.5555555555555556,
              "#d8576b"
             ],
             [
              0.6666666666666666,
              "#ed7953"
             ],
             [
              0.7777777777777778,
              "#fb9f3a"
             ],
             [
              0.8888888888888888,
              "#fdca26"
             ],
             [
              1,
              "#f0f921"
             ]
            ],
            "type": "contour"
           }
          ],
          "contourcarpet": [
           {
            "colorbar": {
             "outlinewidth": 0,
             "ticks": ""
            },
            "type": "contourcarpet"
           }
          ],
          "heatmap": [
           {
            "colorbar": {
             "outlinewidth": 0,
             "ticks": ""
            },
            "colorscale": [
             [
              0,
              "#0d0887"
             ],
             [
              0.1111111111111111,
              "#46039f"
             ],
             [
              0.2222222222222222,
              "#7201a8"
             ],
             [
              0.3333333333333333,
              "#9c179e"
             ],
             [
              0.4444444444444444,
              "#bd3786"
             ],
             [
              0.5555555555555556,
              "#d8576b"
             ],
             [
              0.6666666666666666,
              "#ed7953"
             ],
             [
              0.7777777777777778,
              "#fb9f3a"
             ],
             [
              0.8888888888888888,
              "#fdca26"
             ],
             [
              1,
              "#f0f921"
             ]
            ],
            "type": "heatmap"
           }
          ],
          "heatmapgl": [
           {
            "colorbar": {
             "outlinewidth": 0,
             "ticks": ""
            },
            "colorscale": [
             [
              0,
              "#0d0887"
             ],
             [
              0.1111111111111111,
              "#46039f"
             ],
             [
              0.2222222222222222,
              "#7201a8"
             ],
             [
              0.3333333333333333,
              "#9c179e"
             ],
             [
              0.4444444444444444,
              "#bd3786"
             ],
             [
              0.5555555555555556,
              "#d8576b"
             ],
             [
              0.6666666666666666,
              "#ed7953"
             ],
             [
              0.7777777777777778,
              "#fb9f3a"
             ],
             [
              0.8888888888888888,
              "#fdca26"
             ],
             [
              1,
              "#f0f921"
             ]
            ],
            "type": "heatmapgl"
           }
          ],
          "histogram": [
           {
            "marker": {
             "pattern": {
              "fillmode": "overlay",
              "size": 10,
              "solidity": 0.2
             }
            },
            "type": "histogram"
           }
          ],
          "histogram2d": [
           {
            "colorbar": {
             "outlinewidth": 0,
             "ticks": ""
            },
            "colorscale": [
             [
              0,
              "#0d0887"
             ],
             [
              0.1111111111111111,
              "#46039f"
             ],
             [
              0.2222222222222222,
              "#7201a8"
             ],
             [
              0.3333333333333333,
              "#9c179e"
             ],
             [
              0.4444444444444444,
              "#bd3786"
             ],
             [
              0.5555555555555556,
              "#d8576b"
             ],
             [
              0.6666666666666666,
              "#ed7953"
             ],
             [
              0.7777777777777778,
              "#fb9f3a"
             ],
             [
              0.8888888888888888,
              "#fdca26"
             ],
             [
              1,
              "#f0f921"
             ]
            ],
            "type": "histogram2d"
           }
          ],
          "histogram2dcontour": [
           {
            "colorbar": {
             "outlinewidth": 0,
             "ticks": ""
            },
            "colorscale": [
             [
              0,
              "#0d0887"
             ],
             [
              0.1111111111111111,
              "#46039f"
             ],
             [
              0.2222222222222222,
              "#7201a8"
             ],
             [
              0.3333333333333333,
              "#9c179e"
             ],
             [
              0.4444444444444444,
              "#bd3786"
             ],
             [
              0.5555555555555556,
              "#d8576b"
             ],
             [
              0.6666666666666666,
              "#ed7953"
             ],
             [
              0.7777777777777778,
              "#fb9f3a"
             ],
             [
              0.8888888888888888,
              "#fdca26"
             ],
             [
              1,
              "#f0f921"
             ]
            ],
            "type": "histogram2dcontour"
           }
          ],
          "mesh3d": [
           {
            "colorbar": {
             "outlinewidth": 0,
             "ticks": ""
            },
            "type": "mesh3d"
           }
          ],
          "parcoords": [
           {
            "line": {
             "colorbar": {
              "outlinewidth": 0,
              "ticks": ""
             }
            },
            "type": "parcoords"
           }
          ],
          "pie": [
           {
            "automargin": true,
            "type": "pie"
           }
          ],
          "scatter": [
           {
            "fillpattern": {
             "fillmode": "overlay",
             "size": 10,
             "solidity": 0.2
            },
            "type": "scatter"
           }
          ],
          "scatter3d": [
           {
            "line": {
             "colorbar": {
              "outlinewidth": 0,
              "ticks": ""
             }
            },
            "marker": {
             "colorbar": {
              "outlinewidth": 0,
              "ticks": ""
             }
            },
            "type": "scatter3d"
           }
          ],
          "scattercarpet": [
           {
            "marker": {
             "colorbar": {
              "outlinewidth": 0,
              "ticks": ""
             }
            },
            "type": "scattercarpet"
           }
          ],
          "scattergeo": [
           {
            "marker": {
             "colorbar": {
              "outlinewidth": 0,
              "ticks": ""
             }
            },
            "type": "scattergeo"
           }
          ],
          "scattergl": [
           {
            "marker": {
             "colorbar": {
              "outlinewidth": 0,
              "ticks": ""
             }
            },
            "type": "scattergl"
           }
          ],
          "scattermapbox": [
           {
            "marker": {
             "colorbar": {
              "outlinewidth": 0,
              "ticks": ""
             }
            },
            "type": "scattermapbox"
           }
          ],
          "scatterpolar": [
           {
            "marker": {
             "colorbar": {
              "outlinewidth": 0,
              "ticks": ""
             }
            },
            "type": "scatterpolar"
           }
          ],
          "scatterpolargl": [
           {
            "marker": {
             "colorbar": {
              "outlinewidth": 0,
              "ticks": ""
             }
            },
            "type": "scatterpolargl"
           }
          ],
          "scatterternary": [
           {
            "marker": {
             "colorbar": {
              "outlinewidth": 0,
              "ticks": ""
             }
            },
            "type": "scatterternary"
           }
          ],
          "surface": [
           {
            "colorbar": {
             "outlinewidth": 0,
             "ticks": ""
            },
            "colorscale": [
             [
              0,
              "#0d0887"
             ],
             [
              0.1111111111111111,
              "#46039f"
             ],
             [
              0.2222222222222222,
              "#7201a8"
             ],
             [
              0.3333333333333333,
              "#9c179e"
             ],
             [
              0.4444444444444444,
              "#bd3786"
             ],
             [
              0.5555555555555556,
              "#d8576b"
             ],
             [
              0.6666666666666666,
              "#ed7953"
             ],
             [
              0.7777777777777778,
              "#fb9f3a"
             ],
             [
              0.8888888888888888,
              "#fdca26"
             ],
             [
              1,
              "#f0f921"
             ]
            ],
            "type": "surface"
           }
          ],
          "table": [
           {
            "cells": {
             "fill": {
              "color": "#EBF0F8"
             },
             "line": {
              "color": "white"
             }
            },
            "header": {
             "fill": {
              "color": "#C8D4E3"
             },
             "line": {
              "color": "white"
             }
            },
            "type": "table"
           }
          ]
         },
         "layout": {
          "annotationdefaults": {
           "arrowcolor": "#2a3f5f",
           "arrowhead": 0,
           "arrowwidth": 1
          },
          "autotypenumbers": "strict",
          "coloraxis": {
           "colorbar": {
            "outlinewidth": 0,
            "ticks": ""
           }
          },
          "colorscale": {
           "diverging": [
            [
             0,
             "#8e0152"
            ],
            [
             0.1,
             "#c51b7d"
            ],
            [
             0.2,
             "#de77ae"
            ],
            [
             0.3,
             "#f1b6da"
            ],
            [
             0.4,
             "#fde0ef"
            ],
            [
             0.5,
             "#f7f7f7"
            ],
            [
             0.6,
             "#e6f5d0"
            ],
            [
             0.7,
             "#b8e186"
            ],
            [
             0.8,
             "#7fbc41"
            ],
            [
             0.9,
             "#4d9221"
            ],
            [
             1,
             "#276419"
            ]
           ],
           "sequential": [
            [
             0,
             "#0d0887"
            ],
            [
             0.1111111111111111,
             "#46039f"
            ],
            [
             0.2222222222222222,
             "#7201a8"
            ],
            [
             0.3333333333333333,
             "#9c179e"
            ],
            [
             0.4444444444444444,
             "#bd3786"
            ],
            [
             0.5555555555555556,
             "#d8576b"
            ],
            [
             0.6666666666666666,
             "#ed7953"
            ],
            [
             0.7777777777777778,
             "#fb9f3a"
            ],
            [
             0.8888888888888888,
             "#fdca26"
            ],
            [
             1,
             "#f0f921"
            ]
           ],
           "sequentialminus": [
            [
             0,
             "#0d0887"
            ],
            [
             0.1111111111111111,
             "#46039f"
            ],
            [
             0.2222222222222222,
             "#7201a8"
            ],
            [
             0.3333333333333333,
             "#9c179e"
            ],
            [
             0.4444444444444444,
             "#bd3786"
            ],
            [
             0.5555555555555556,
             "#d8576b"
            ],
            [
             0.6666666666666666,
             "#ed7953"
            ],
            [
             0.7777777777777778,
             "#fb9f3a"
            ],
            [
             0.8888888888888888,
             "#fdca26"
            ],
            [
             1,
             "#f0f921"
            ]
           ]
          },
          "colorway": [
           "#636efa",
           "#EF553B",
           "#00cc96",
           "#ab63fa",
           "#FFA15A",
           "#19d3f3",
           "#FF6692",
           "#B6E880",
           "#FF97FF",
           "#FECB52"
          ],
          "font": {
           "color": "#2a3f5f"
          },
          "geo": {
           "bgcolor": "white",
           "lakecolor": "white",
           "landcolor": "#E5ECF6",
           "showlakes": true,
           "showland": true,
           "subunitcolor": "white"
          },
          "hoverlabel": {
           "align": "left"
          },
          "hovermode": "closest",
          "mapbox": {
           "style": "light"
          },
          "paper_bgcolor": "white",
          "plot_bgcolor": "#E5ECF6",
          "polar": {
           "angularaxis": {
            "gridcolor": "white",
            "linecolor": "white",
            "ticks": ""
           },
           "bgcolor": "#E5ECF6",
           "radialaxis": {
            "gridcolor": "white",
            "linecolor": "white",
            "ticks": ""
           }
          },
          "scene": {
           "xaxis": {
            "backgroundcolor": "#E5ECF6",
            "gridcolor": "white",
            "gridwidth": 2,
            "linecolor": "white",
            "showbackground": true,
            "ticks": "",
            "zerolinecolor": "white"
           },
           "yaxis": {
            "backgroundcolor": "#E5ECF6",
            "gridcolor": "white",
            "gridwidth": 2,
            "linecolor": "white",
            "showbackground": true,
            "ticks": "",
            "zerolinecolor": "white"
           },
           "zaxis": {
            "backgroundcolor": "#E5ECF6",
            "gridcolor": "white",
            "gridwidth": 2,
            "linecolor": "white",
            "showbackground": true,
            "ticks": "",
            "zerolinecolor": "white"
           }
          },
          "shapedefaults": {
           "line": {
            "color": "#2a3f5f"
           }
          },
          "ternary": {
           "aaxis": {
            "gridcolor": "white",
            "linecolor": "white",
            "ticks": ""
           },
           "baxis": {
            "gridcolor": "white",
            "linecolor": "white",
            "ticks": ""
           },
           "bgcolor": "#E5ECF6",
           "caxis": {
            "gridcolor": "white",
            "linecolor": "white",
            "ticks": ""
           }
          },
          "title": {
           "x": 0.05
          },
          "xaxis": {
           "automargin": true,
           "gridcolor": "white",
           "linecolor": "white",
           "ticks": "",
           "title": {
            "standoff": 15
           },
           "zerolinecolor": "white",
           "zerolinewidth": 2
          },
          "yaxis": {
           "automargin": true,
           "gridcolor": "white",
           "linecolor": "white",
           "ticks": "",
           "title": {
            "standoff": 15
           },
           "zerolinecolor": "white",
           "zerolinewidth": 2
          }
         }
        },
        "title": {
         "text": "DGI : 4.65242"
        },
        "xaxis": {
         "title": {
          "text": "Sense Features"
         }
        },
        "yaxis": {
         "title": {
          "text": "Dimensions"
         }
        }
       }
      },
      "text/html": [
       "<div>                            <div id=\"43c10436-2c48-48bd-8c3b-ca05284c6277\" class=\"plotly-graph-div\" style=\"height:525px; width:100%;\"></div>            <script type=\"text/javascript\">                require([\"plotly\"], function(Plotly) {                    window.PLOTLYENV=window.PLOTLYENV || {};                                    if (document.getElementById(\"43c10436-2c48-48bd-8c3b-ca05284c6277\")) {                    Plotly.newPlot(                        \"43c10436-2c48-48bd-8c3b-ca05284c6277\",                        [{\"x\":[\"Degree\",\"Clustering Coefficient\",\"Personalized Page Rank - Standard Deviation\",\"Average Neighbor Degree\",\"Average Neighbor Clustering\",\"Eccentricity\",\"Katz Centrality\"],\"z\":[[0.0,0.0,0.0,0.0,0.0,0.0,0.0],[0.0,0.0,0.0,0.0,0.0,0.0,0.0],[0.0,0.0,0.0,0.0,0.0,0.0,0.0],[0.0,0.0,0.0,0.0,0.0,1.0,0.0],[0.0,0.0,0.0,0.0,0.0,0.0,0.33692923188209534],[0.0,0.0,0.0,0.0,0.0,0.0,0.025889927521348],[0.0,0.0,0.0,0.0,0.0,0.0,0.0],[0.0,0.0,0.0,0.0,0.0,0.0,0.0333842970430851],[0.0,0.0,0.0,0.0,0.0,0.0,0.0],[0.0,0.0,0.0,0.0,0.0,0.0,0.16339804232120514],[0.0,0.0,0.0,0.0,0.0,0.0,0.0],[0.8542662858963013,0.0,0.0,0.2532190680503845,0.0,0.0,0.0],[0.0,0.0,0.0,0.0,0.0,0.0,0.0],[0.0,0.0,0.0,0.0,0.0,0.0,0.0],[0.0,0.0,0.0,0.0,0.0,0.0,0.00767057528719306],[0.0,0.0,0.0,0.22975867986679077,0.0,0.0,0.0],[0.0,0.0,0.0,0.0,0.0,0.0,0.0],[0.0,0.0,0.0,0.0,0.0,0.0,0.0],[0.0,0.0,0.0,0.0,0.0,0.0,0.0],[0.0,0.0,0.0,0.0,0.0,0.0,0.0],[0.0,0.0,0.0,0.0,0.0,0.0,0.0],[0.0,0.0,0.0,0.0,0.0,0.0,0.03658363223075867],[0.0,0.0,0.0,0.0,0.0,0.0,0.0],[0.0,0.0,0.0,0.0,0.0,0.0,0.0],[0.0,0.0,0.0,0.0,0.41558837890625,0.0,0.0],[0.0,0.0,0.31224191188812256,0.0,0.0,0.0,0.007538980338722467],[0.0,0.0,0.0,0.0,0.0,0.0,0.0],[0.0,0.0,0.0,0.0,0.0,0.0,0.0],[0.0,0.0,0.0,0.0,0.0,0.0,0.0],[0.0,0.0,0.0,0.0,0.0,0.0,0.0],[0.0,0.0,0.0,0.0,0.0,0.0,0.003548047272488475],[0.0,0.0,0.0,0.0,0.0,0.0,0.0],[0.0,0.0,0.0,0.0,0.0,0.0,0.0],[0.0,0.0,0.0,0.0,0.0,0.0,0.0],[0.0,0.0,0.0,0.0,0.24153190851211548,0.0,0.0],[0.0,0.0,0.0,0.0,0.0,0.0,0.0],[0.0,0.0,0.0,0.0,0.0,0.0,0.0],[0.0,0.0,0.0,0.0,0.0,0.0,0.0],[0.0,0.0,0.0,0.0,0.0,0.0,0.0],[0.0,0.0,0.5703532099723816,0.0,0.0,0.0,0.0],[0.0,0.0,0.0,0.0,0.0,0.0,0.0],[0.0,0.0,0.0,0.0,0.0,0.0,0.0],[0.0,0.0,0.0,0.0,0.0,0.0,0.0],[0.0,0.0,0.0,0.0,0.0,0.0,0.0],[0.0,0.0,0.0,0.0,0.0,0.0,0.0],[0.0,0.0,0.0,0.0,0.0,0.0,0.027079110965132713],[0.0,0.0,0.0,0.0,0.0,0.0,0.0],[0.0,0.0,0.0,0.0,0.0,0.0,0.0],[0.0,0.0,0.0,0.0,0.0,0.0,0.18669255077838898],[0.0,0.0,0.0,0.0,0.14665181934833527,0.0,0.0],[0.0,0.0,0.0,0.0,0.0,0.0,0.0],[0.0,0.9081341624259949,0.0,0.3631182610988617,0.0,0.0,0.0],[0.0,0.0,0.0,0.0,0.0,0.0,0.0],[0.0,0.0,0.0,0.0,0.0,0.0,0.0],[0.0,0.0,0.0,0.0,0.0,0.0,0.0],[0.0,0.0,0.0,0.0,0.0,0.0,0.0],[0.0,0.0,0.0,0.0,0.0,0.0,0.0],[0.0,0.0,0.0,0.0,0.0,0.0,0.0],[0.0,0.0,0.0,0.0,0.0,0.0,0.0],[0.0,0.0,0.0,0.0,0.0,0.0,0.0],[0.0,0.0,0.0,0.0,0.0,0.0,0.0],[0.0,0.0,0.0,0.0,0.0,0.0,0.0],[0.0,0.0,0.0,0.0,0.0,0.0,0.0],[0.0,0.0,0.0,0.0,0.0,0.0,0.0]],\"type\":\"heatmap\"}],                        {\"template\":{\"data\":{\"histogram2dcontour\":[{\"type\":\"histogram2dcontour\",\"colorbar\":{\"outlinewidth\":0,\"ticks\":\"\"},\"colorscale\":[[0.0,\"#0d0887\"],[0.1111111111111111,\"#46039f\"],[0.2222222222222222,\"#7201a8\"],[0.3333333333333333,\"#9c179e\"],[0.4444444444444444,\"#bd3786\"],[0.5555555555555556,\"#d8576b\"],[0.6666666666666666,\"#ed7953\"],[0.7777777777777778,\"#fb9f3a\"],[0.8888888888888888,\"#fdca26\"],[1.0,\"#f0f921\"]]}],\"choropleth\":[{\"type\":\"choropleth\",\"colorbar\":{\"outlinewidth\":0,\"ticks\":\"\"}}],\"histogram2d\":[{\"type\":\"histogram2d\",\"colorbar\":{\"outlinewidth\":0,\"ticks\":\"\"},\"colorscale\":[[0.0,\"#0d0887\"],[0.1111111111111111,\"#46039f\"],[0.2222222222222222,\"#7201a8\"],[0.3333333333333333,\"#9c179e\"],[0.4444444444444444,\"#bd3786\"],[0.5555555555555556,\"#d8576b\"],[0.6666666666666666,\"#ed7953\"],[0.7777777777777778,\"#fb9f3a\"],[0.8888888888888888,\"#fdca26\"],[1.0,\"#f0f921\"]]}],\"heatmap\":[{\"type\":\"heatmap\",\"colorbar\":{\"outlinewidth\":0,\"ticks\":\"\"},\"colorscale\":[[0.0,\"#0d0887\"],[0.1111111111111111,\"#46039f\"],[0.2222222222222222,\"#7201a8\"],[0.3333333333333333,\"#9c179e\"],[0.4444444444444444,\"#bd3786\"],[0.5555555555555556,\"#d8576b\"],[0.6666666666666666,\"#ed7953\"],[0.7777777777777778,\"#fb9f3a\"],[0.8888888888888888,\"#fdca26\"],[1.0,\"#f0f921\"]]}],\"heatmapgl\":[{\"type\":\"heatmapgl\",\"colorbar\":{\"outlinewidth\":0,\"ticks\":\"\"},\"colorscale\":[[0.0,\"#0d0887\"],[0.1111111111111111,\"#46039f\"],[0.2222222222222222,\"#7201a8\"],[0.3333333333333333,\"#9c179e\"],[0.4444444444444444,\"#bd3786\"],[0.5555555555555556,\"#d8576b\"],[0.6666666666666666,\"#ed7953\"],[0.7777777777777778,\"#fb9f3a\"],[0.8888888888888888,\"#fdca26\"],[1.0,\"#f0f921\"]]}],\"contourcarpet\":[{\"type\":\"contourcarpet\",\"colorbar\":{\"outlinewidth\":0,\"ticks\":\"\"}}],\"contour\":[{\"type\":\"contour\",\"colorbar\":{\"outlinewidth\":0,\"ticks\":\"\"},\"colorscale\":[[0.0,\"#0d0887\"],[0.1111111111111111,\"#46039f\"],[0.2222222222222222,\"#7201a8\"],[0.3333333333333333,\"#9c179e\"],[0.4444444444444444,\"#bd3786\"],[0.5555555555555556,\"#d8576b\"],[0.6666666666666666,\"#ed7953\"],[0.7777777777777778,\"#fb9f3a\"],[0.8888888888888888,\"#fdca26\"],[1.0,\"#f0f921\"]]}],\"surface\":[{\"type\":\"surface\",\"colorbar\":{\"outlinewidth\":0,\"ticks\":\"\"},\"colorscale\":[[0.0,\"#0d0887\"],[0.1111111111111111,\"#46039f\"],[0.2222222222222222,\"#7201a8\"],[0.3333333333333333,\"#9c179e\"],[0.4444444444444444,\"#bd3786\"],[0.5555555555555556,\"#d8576b\"],[0.6666666666666666,\"#ed7953\"],[0.7777777777777778,\"#fb9f3a\"],[0.8888888888888888,\"#fdca26\"],[1.0,\"#f0f921\"]]}],\"mesh3d\":[{\"type\":\"mesh3d\",\"colorbar\":{\"outlinewidth\":0,\"ticks\":\"\"}}],\"scatter\":[{\"fillpattern\":{\"fillmode\":\"overlay\",\"size\":10,\"solidity\":0.2},\"type\":\"scatter\"}],\"parcoords\":[{\"type\":\"parcoords\",\"line\":{\"colorbar\":{\"outlinewidth\":0,\"ticks\":\"\"}}}],\"scatterpolargl\":[{\"type\":\"scatterpolargl\",\"marker\":{\"colorbar\":{\"outlinewidth\":0,\"ticks\":\"\"}}}],\"bar\":[{\"error_x\":{\"color\":\"#2a3f5f\"},\"error_y\":{\"color\":\"#2a3f5f\"},\"marker\":{\"line\":{\"color\":\"#E5ECF6\",\"width\":0.5},\"pattern\":{\"fillmode\":\"overlay\",\"size\":10,\"solidity\":0.2}},\"type\":\"bar\"}],\"scattergeo\":[{\"type\":\"scattergeo\",\"marker\":{\"colorbar\":{\"outlinewidth\":0,\"ticks\":\"\"}}}],\"scatterpolar\":[{\"type\":\"scatterpolar\",\"marker\":{\"colorbar\":{\"outlinewidth\":0,\"ticks\":\"\"}}}],\"histogram\":[{\"marker\":{\"pattern\":{\"fillmode\":\"overlay\",\"size\":10,\"solidity\":0.2}},\"type\":\"histogram\"}],\"scattergl\":[{\"type\":\"scattergl\",\"marker\":{\"colorbar\":{\"outlinewidth\":0,\"ticks\":\"\"}}}],\"scatter3d\":[{\"type\":\"scatter3d\",\"line\":{\"colorbar\":{\"outlinewidth\":0,\"ticks\":\"\"}},\"marker\":{\"colorbar\":{\"outlinewidth\":0,\"ticks\":\"\"}}}],\"scattermapbox\":[{\"type\":\"scattermapbox\",\"marker\":{\"colorbar\":{\"outlinewidth\":0,\"ticks\":\"\"}}}],\"scatterternary\":[{\"type\":\"scatterternary\",\"marker\":{\"colorbar\":{\"outlinewidth\":0,\"ticks\":\"\"}}}],\"scattercarpet\":[{\"type\":\"scattercarpet\",\"marker\":{\"colorbar\":{\"outlinewidth\":0,\"ticks\":\"\"}}}],\"carpet\":[{\"aaxis\":{\"endlinecolor\":\"#2a3f5f\",\"gridcolor\":\"white\",\"linecolor\":\"white\",\"minorgridcolor\":\"white\",\"startlinecolor\":\"#2a3f5f\"},\"baxis\":{\"endlinecolor\":\"#2a3f5f\",\"gridcolor\":\"white\",\"linecolor\":\"white\",\"minorgridcolor\":\"white\",\"startlinecolor\":\"#2a3f5f\"},\"type\":\"carpet\"}],\"table\":[{\"cells\":{\"fill\":{\"color\":\"#EBF0F8\"},\"line\":{\"color\":\"white\"}},\"header\":{\"fill\":{\"color\":\"#C8D4E3\"},\"line\":{\"color\":\"white\"}},\"type\":\"table\"}],\"barpolar\":[{\"marker\":{\"line\":{\"color\":\"#E5ECF6\",\"width\":0.5},\"pattern\":{\"fillmode\":\"overlay\",\"size\":10,\"solidity\":0.2}},\"type\":\"barpolar\"}],\"pie\":[{\"automargin\":true,\"type\":\"pie\"}]},\"layout\":{\"autotypenumbers\":\"strict\",\"colorway\":[\"#636efa\",\"#EF553B\",\"#00cc96\",\"#ab63fa\",\"#FFA15A\",\"#19d3f3\",\"#FF6692\",\"#B6E880\",\"#FF97FF\",\"#FECB52\"],\"font\":{\"color\":\"#2a3f5f\"},\"hovermode\":\"closest\",\"hoverlabel\":{\"align\":\"left\"},\"paper_bgcolor\":\"white\",\"plot_bgcolor\":\"#E5ECF6\",\"polar\":{\"bgcolor\":\"#E5ECF6\",\"angularaxis\":{\"gridcolor\":\"white\",\"linecolor\":\"white\",\"ticks\":\"\"},\"radialaxis\":{\"gridcolor\":\"white\",\"linecolor\":\"white\",\"ticks\":\"\"}},\"ternary\":{\"bgcolor\":\"#E5ECF6\",\"aaxis\":{\"gridcolor\":\"white\",\"linecolor\":\"white\",\"ticks\":\"\"},\"baxis\":{\"gridcolor\":\"white\",\"linecolor\":\"white\",\"ticks\":\"\"},\"caxis\":{\"gridcolor\":\"white\",\"linecolor\":\"white\",\"ticks\":\"\"}},\"coloraxis\":{\"colorbar\":{\"outlinewidth\":0,\"ticks\":\"\"}},\"colorscale\":{\"sequential\":[[0.0,\"#0d0887\"],[0.1111111111111111,\"#46039f\"],[0.2222222222222222,\"#7201a8\"],[0.3333333333333333,\"#9c179e\"],[0.4444444444444444,\"#bd3786\"],[0.5555555555555556,\"#d8576b\"],[0.6666666666666666,\"#ed7953\"],[0.7777777777777778,\"#fb9f3a\"],[0.8888888888888888,\"#fdca26\"],[1.0,\"#f0f921\"]],\"sequentialminus\":[[0.0,\"#0d0887\"],[0.1111111111111111,\"#46039f\"],[0.2222222222222222,\"#7201a8\"],[0.3333333333333333,\"#9c179e\"],[0.4444444444444444,\"#bd3786\"],[0.5555555555555556,\"#d8576b\"],[0.6666666666666666,\"#ed7953\"],[0.7777777777777778,\"#fb9f3a\"],[0.8888888888888888,\"#fdca26\"],[1.0,\"#f0f921\"]],\"diverging\":[[0,\"#8e0152\"],[0.1,\"#c51b7d\"],[0.2,\"#de77ae\"],[0.3,\"#f1b6da\"],[0.4,\"#fde0ef\"],[0.5,\"#f7f7f7\"],[0.6,\"#e6f5d0\"],[0.7,\"#b8e186\"],[0.8,\"#7fbc41\"],[0.9,\"#4d9221\"],[1,\"#276419\"]]},\"xaxis\":{\"gridcolor\":\"white\",\"linecolor\":\"white\",\"ticks\":\"\",\"title\":{\"standoff\":15},\"zerolinecolor\":\"white\",\"automargin\":true,\"zerolinewidth\":2},\"yaxis\":{\"gridcolor\":\"white\",\"linecolor\":\"white\",\"ticks\":\"\",\"title\":{\"standoff\":15},\"zerolinecolor\":\"white\",\"automargin\":true,\"zerolinewidth\":2},\"scene\":{\"xaxis\":{\"backgroundcolor\":\"#E5ECF6\",\"gridcolor\":\"white\",\"linecolor\":\"white\",\"showbackground\":true,\"ticks\":\"\",\"zerolinecolor\":\"white\",\"gridwidth\":2},\"yaxis\":{\"backgroundcolor\":\"#E5ECF6\",\"gridcolor\":\"white\",\"linecolor\":\"white\",\"showbackground\":true,\"ticks\":\"\",\"zerolinecolor\":\"white\",\"gridwidth\":2},\"zaxis\":{\"backgroundcolor\":\"#E5ECF6\",\"gridcolor\":\"white\",\"linecolor\":\"white\",\"showbackground\":true,\"ticks\":\"\",\"zerolinecolor\":\"white\",\"gridwidth\":2}},\"shapedefaults\":{\"line\":{\"color\":\"#2a3f5f\"}},\"annotationdefaults\":{\"arrowcolor\":\"#2a3f5f\",\"arrowhead\":0,\"arrowwidth\":1},\"geo\":{\"bgcolor\":\"white\",\"landcolor\":\"#E5ECF6\",\"subunitcolor\":\"white\",\"showland\":true,\"showlakes\":true,\"lakecolor\":\"white\"},\"title\":{\"x\":0.05},\"mapbox\":{\"style\":\"light\"}}},\"title\":{\"text\":\"DGI : 4.65242\"},\"xaxis\":{\"title\":{\"text\":\"Sense Features\"}},\"yaxis\":{\"title\":{\"text\":\"Dimensions\"}}},                        {\"responsive\": true}                    ).then(function(){\n",
       "                            \n",
       "var gd = document.getElementById('43c10436-2c48-48bd-8c3b-ca05284c6277');\n",
       "var x = new MutationObserver(function (mutations, observer) {{\n",
       "        var display = window.getComputedStyle(gd).display;\n",
       "        if (!display || display === 'none') {{\n",
       "            console.log([gd, 'removed!']);\n",
       "            Plotly.purge(gd);\n",
       "            observer.disconnect();\n",
       "        }}\n",
       "}});\n",
       "\n",
       "// Listen for the removal of the full notebook cells\n",
       "var notebookContainer = gd.closest('#notebook-container');\n",
       "if (notebookContainer) {{\n",
       "    x.observe(notebookContainer, {childList: true});\n",
       "}}\n",
       "\n",
       "// Listen for the clearing of the current output cell\n",
       "var outputEl = gd.closest('.output');\n",
       "if (outputEl) {{\n",
       "    x.observe(outputEl, {childList: true});\n",
       "}}\n",
       "\n",
       "                        })                };                });            </script>        </div>"
      ]
     },
     "metadata": {},
     "output_type": "display_data"
    },
    {
     "data": {
      "application/vnd.plotly.v1+json": {
       "config": {
        "plotlyServerURL": "https://plot.ly"
       },
       "data": [
        {
         "type": "heatmap",
         "x": [
          "Degree",
          "Clustering Coefficient",
          "Personalized Page Rank - Standard Deviation",
          "Average Neighbor Degree",
          "Average Neighbor Clustering",
          "Eccentricity",
          "Katz Centrality"
         ],
         "z": [
          [
           0,
           0,
           0,
           0,
           0,
           0,
           0
          ],
          [
           0,
           0,
           0,
           0,
           0,
           0,
           0
          ],
          [
           0,
           0,
           0,
           0,
           0,
           0,
           0
          ],
          [
           0,
           0,
           0,
           0,
           0,
           0.9369091987609863,
           0
          ],
          [
           0,
           0,
           0,
           0,
           0,
           0,
           0
          ],
          [
           0,
           0,
           0,
           0,
           0,
           0,
           0
          ],
          [
           0,
           0,
           0,
           0,
           0,
           0,
           0
          ],
          [
           0,
           0,
           0,
           0,
           0,
           0,
           0.07491008192300797
          ],
          [
           0,
           0,
           0,
           0.3351561427116394,
           0,
           0,
           0
          ],
          [
           0,
           0,
           0,
           0,
           0.050744060426950455,
           0,
           0.10495372861623764
          ],
          [
           0,
           0,
           0,
           0,
           0,
           0,
           0
          ],
          [
           0,
           0,
           0,
           0,
           0,
           0,
           0
          ],
          [
           0.9358982443809509,
           0,
           0,
           0,
           0,
           0,
           0
          ],
          [
           0,
           0,
           0,
           0,
           0,
           0,
           0
          ],
          [
           0,
           0,
           0,
           0,
           0,
           0,
           0.0010954586323350668
          ],
          [
           0,
           0,
           0,
           0,
           0,
           0,
           0.011161095462739468
          ],
          [
           0,
           0,
           0,
           0,
           0,
           0,
           0
          ],
          [
           0,
           1,
           0,
           0.8697664737701416,
           0,
           0,
           0.5143747329711914
          ],
          [
           0,
           0,
           0,
           0,
           0,
           0,
           0
          ],
          [
           0,
           0,
           0,
           0,
           0,
           0,
           0
          ],
          [
           0,
           0,
           0,
           0,
           0,
           0,
           0
          ],
          [
           0,
           0,
           0,
           0,
           0,
           0,
           0.12999030947685242
          ],
          [
           0,
           0,
           0,
           0,
           0,
           0,
           0
          ],
          [
           0,
           0,
           0,
           0,
           0,
           0,
           0
          ],
          [
           0,
           0,
           0,
           0,
           0,
           0,
           0
          ],
          [
           0,
           0,
           0,
           0,
           0,
           0,
           0
          ],
          [
           0,
           0,
           0,
           0,
           0,
           0,
           0
          ],
          [
           0,
           0.280584454536438,
           0,
           0,
           0,
           0,
           0
          ],
          [
           0,
           0,
           0,
           0,
           0.5471459031105042,
           0,
           0
          ],
          [
           0,
           0,
           0,
           0,
           0,
           0,
           0.09773612022399902
          ],
          [
           0,
           0,
           0,
           0,
           0.11225015670061111,
           0,
           0
          ],
          [
           0,
           0,
           0,
           0,
           0,
           0,
           0
          ],
          [
           0,
           0,
           0,
           0,
           0,
           0,
           0
          ],
          [
           0,
           0,
           0,
           0,
           0.1977241486310959,
           0,
           0
          ],
          [
           0,
           0,
           0,
           0,
           0,
           0,
           0
          ],
          [
           0,
           0,
           0,
           0,
           0,
           0,
           0
          ],
          [
           0,
           0,
           0,
           0,
           0,
           0,
           0
          ],
          [
           0,
           0,
           0,
           0,
           0,
           0,
           0
          ],
          [
           0,
           0,
           0,
           0,
           0,
           0,
           0
          ],
          [
           0,
           0,
           0.8856944441795349,
           0,
           0,
           0,
           0
          ],
          [
           0,
           0,
           0,
           0,
           0,
           0,
           0
          ],
          [
           0,
           0,
           0,
           0,
           0,
           0,
           0
          ],
          [
           0,
           0,
           0,
           0,
           0,
           0,
           0
          ],
          [
           0,
           0,
           0,
           0,
           0,
           0,
           0
          ],
          [
           0,
           0,
           0,
           0,
           0,
           0,
           0
          ],
          [
           0,
           0,
           0,
           0,
           0,
           0,
           0.043849535286426544
          ],
          [
           0,
           0,
           0,
           0,
           0,
           0,
           0
          ],
          [
           0,
           0,
           0,
           0,
           0,
           0,
           0
          ],
          [
           0,
           0,
           0,
           0,
           0,
           0,
           0.03192834556102753
          ],
          [
           0,
           0,
           0,
           0,
           0,
           0,
           0
          ],
          [
           0,
           0,
           0,
           0,
           0,
           0,
           0
          ],
          [
           0,
           0,
           0,
           0,
           0,
           0,
           0
          ],
          [
           0,
           0,
           0,
           0,
           0,
           0,
           0
          ],
          [
           0,
           0,
           0,
           0,
           0,
           0,
           0
          ],
          [
           0,
           0,
           0,
           0,
           0,
           0,
           0
          ],
          [
           0,
           0,
           0,
           0,
           0,
           0,
           0
          ],
          [
           0,
           0,
           0,
           0,
           0,
           0,
           0
          ],
          [
           0,
           0,
           0,
           0,
           0,
           0,
           0
          ],
          [
           0,
           0,
           0,
           0,
           0,
           0,
           0
          ],
          [
           0,
           0,
           0,
           0,
           0,
           0,
           0
          ],
          [
           0,
           0,
           0,
           0,
           0,
           0,
           0
          ],
          [
           0,
           0,
           0,
           0,
           0,
           0,
           0.011179679073393345
          ],
          [
           0,
           0,
           0,
           0,
           0,
           0,
           0
          ],
          [
           0,
           0,
           0,
           0,
           0,
           0,
           0
          ]
         ]
        }
       ],
       "layout": {
        "template": {
         "data": {
          "bar": [
           {
            "error_x": {
             "color": "#2a3f5f"
            },
            "error_y": {
             "color": "#2a3f5f"
            },
            "marker": {
             "line": {
              "color": "#E5ECF6",
              "width": 0.5
             },
             "pattern": {
              "fillmode": "overlay",
              "size": 10,
              "solidity": 0.2
             }
            },
            "type": "bar"
           }
          ],
          "barpolar": [
           {
            "marker": {
             "line": {
              "color": "#E5ECF6",
              "width": 0.5
             },
             "pattern": {
              "fillmode": "overlay",
              "size": 10,
              "solidity": 0.2
             }
            },
            "type": "barpolar"
           }
          ],
          "carpet": [
           {
            "aaxis": {
             "endlinecolor": "#2a3f5f",
             "gridcolor": "white",
             "linecolor": "white",
             "minorgridcolor": "white",
             "startlinecolor": "#2a3f5f"
            },
            "baxis": {
             "endlinecolor": "#2a3f5f",
             "gridcolor": "white",
             "linecolor": "white",
             "minorgridcolor": "white",
             "startlinecolor": "#2a3f5f"
            },
            "type": "carpet"
           }
          ],
          "choropleth": [
           {
            "colorbar": {
             "outlinewidth": 0,
             "ticks": ""
            },
            "type": "choropleth"
           }
          ],
          "contour": [
           {
            "colorbar": {
             "outlinewidth": 0,
             "ticks": ""
            },
            "colorscale": [
             [
              0,
              "#0d0887"
             ],
             [
              0.1111111111111111,
              "#46039f"
             ],
             [
              0.2222222222222222,
              "#7201a8"
             ],
             [
              0.3333333333333333,
              "#9c179e"
             ],
             [
              0.4444444444444444,
              "#bd3786"
             ],
             [
              0.5555555555555556,
              "#d8576b"
             ],
             [
              0.6666666666666666,
              "#ed7953"
             ],
             [
              0.7777777777777778,
              "#fb9f3a"
             ],
             [
              0.8888888888888888,
              "#fdca26"
             ],
             [
              1,
              "#f0f921"
             ]
            ],
            "type": "contour"
           }
          ],
          "contourcarpet": [
           {
            "colorbar": {
             "outlinewidth": 0,
             "ticks": ""
            },
            "type": "contourcarpet"
           }
          ],
          "heatmap": [
           {
            "colorbar": {
             "outlinewidth": 0,
             "ticks": ""
            },
            "colorscale": [
             [
              0,
              "#0d0887"
             ],
             [
              0.1111111111111111,
              "#46039f"
             ],
             [
              0.2222222222222222,
              "#7201a8"
             ],
             [
              0.3333333333333333,
              "#9c179e"
             ],
             [
              0.4444444444444444,
              "#bd3786"
             ],
             [
              0.5555555555555556,
              "#d8576b"
             ],
             [
              0.6666666666666666,
              "#ed7953"
             ],
             [
              0.7777777777777778,
              "#fb9f3a"
             ],
             [
              0.8888888888888888,
              "#fdca26"
             ],
             [
              1,
              "#f0f921"
             ]
            ],
            "type": "heatmap"
           }
          ],
          "heatmapgl": [
           {
            "colorbar": {
             "outlinewidth": 0,
             "ticks": ""
            },
            "colorscale": [
             [
              0,
              "#0d0887"
             ],
             [
              0.1111111111111111,
              "#46039f"
             ],
             [
              0.2222222222222222,
              "#7201a8"
             ],
             [
              0.3333333333333333,
              "#9c179e"
             ],
             [
              0.4444444444444444,
              "#bd3786"
             ],
             [
              0.5555555555555556,
              "#d8576b"
             ],
             [
              0.6666666666666666,
              "#ed7953"
             ],
             [
              0.7777777777777778,
              "#fb9f3a"
             ],
             [
              0.8888888888888888,
              "#fdca26"
             ],
             [
              1,
              "#f0f921"
             ]
            ],
            "type": "heatmapgl"
           }
          ],
          "histogram": [
           {
            "marker": {
             "pattern": {
              "fillmode": "overlay",
              "size": 10,
              "solidity": 0.2
             }
            },
            "type": "histogram"
           }
          ],
          "histogram2d": [
           {
            "colorbar": {
             "outlinewidth": 0,
             "ticks": ""
            },
            "colorscale": [
             [
              0,
              "#0d0887"
             ],
             [
              0.1111111111111111,
              "#46039f"
             ],
             [
              0.2222222222222222,
              "#7201a8"
             ],
             [
              0.3333333333333333,
              "#9c179e"
             ],
             [
              0.4444444444444444,
              "#bd3786"
             ],
             [
              0.5555555555555556,
              "#d8576b"
             ],
             [
              0.6666666666666666,
              "#ed7953"
             ],
             [
              0.7777777777777778,
              "#fb9f3a"
             ],
             [
              0.8888888888888888,
              "#fdca26"
             ],
             [
              1,
              "#f0f921"
             ]
            ],
            "type": "histogram2d"
           }
          ],
          "histogram2dcontour": [
           {
            "colorbar": {
             "outlinewidth": 0,
             "ticks": ""
            },
            "colorscale": [
             [
              0,
              "#0d0887"
             ],
             [
              0.1111111111111111,
              "#46039f"
             ],
             [
              0.2222222222222222,
              "#7201a8"
             ],
             [
              0.3333333333333333,
              "#9c179e"
             ],
             [
              0.4444444444444444,
              "#bd3786"
             ],
             [
              0.5555555555555556,
              "#d8576b"
             ],
             [
              0.6666666666666666,
              "#ed7953"
             ],
             [
              0.7777777777777778,
              "#fb9f3a"
             ],
             [
              0.8888888888888888,
              "#fdca26"
             ],
             [
              1,
              "#f0f921"
             ]
            ],
            "type": "histogram2dcontour"
           }
          ],
          "mesh3d": [
           {
            "colorbar": {
             "outlinewidth": 0,
             "ticks": ""
            },
            "type": "mesh3d"
           }
          ],
          "parcoords": [
           {
            "line": {
             "colorbar": {
              "outlinewidth": 0,
              "ticks": ""
             }
            },
            "type": "parcoords"
           }
          ],
          "pie": [
           {
            "automargin": true,
            "type": "pie"
           }
          ],
          "scatter": [
           {
            "fillpattern": {
             "fillmode": "overlay",
             "size": 10,
             "solidity": 0.2
            },
            "type": "scatter"
           }
          ],
          "scatter3d": [
           {
            "line": {
             "colorbar": {
              "outlinewidth": 0,
              "ticks": ""
             }
            },
            "marker": {
             "colorbar": {
              "outlinewidth": 0,
              "ticks": ""
             }
            },
            "type": "scatter3d"
           }
          ],
          "scattercarpet": [
           {
            "marker": {
             "colorbar": {
              "outlinewidth": 0,
              "ticks": ""
             }
            },
            "type": "scattercarpet"
           }
          ],
          "scattergeo": [
           {
            "marker": {
             "colorbar": {
              "outlinewidth": 0,
              "ticks": ""
             }
            },
            "type": "scattergeo"
           }
          ],
          "scattergl": [
           {
            "marker": {
             "colorbar": {
              "outlinewidth": 0,
              "ticks": ""
             }
            },
            "type": "scattergl"
           }
          ],
          "scattermapbox": [
           {
            "marker": {
             "colorbar": {
              "outlinewidth": 0,
              "ticks": ""
             }
            },
            "type": "scattermapbox"
           }
          ],
          "scatterpolar": [
           {
            "marker": {
             "colorbar": {
              "outlinewidth": 0,
              "ticks": ""
             }
            },
            "type": "scatterpolar"
           }
          ],
          "scatterpolargl": [
           {
            "marker": {
             "colorbar": {
              "outlinewidth": 0,
              "ticks": ""
             }
            },
            "type": "scatterpolargl"
           }
          ],
          "scatterternary": [
           {
            "marker": {
             "colorbar": {
              "outlinewidth": 0,
              "ticks": ""
             }
            },
            "type": "scatterternary"
           }
          ],
          "surface": [
           {
            "colorbar": {
             "outlinewidth": 0,
             "ticks": ""
            },
            "colorscale": [
             [
              0,
              "#0d0887"
             ],
             [
              0.1111111111111111,
              "#46039f"
             ],
             [
              0.2222222222222222,
              "#7201a8"
             ],
             [
              0.3333333333333333,
              "#9c179e"
             ],
             [
              0.4444444444444444,
              "#bd3786"
             ],
             [
              0.5555555555555556,
              "#d8576b"
             ],
             [
              0.6666666666666666,
              "#ed7953"
             ],
             [
              0.7777777777777778,
              "#fb9f3a"
             ],
             [
              0.8888888888888888,
              "#fdca26"
             ],
             [
              1,
              "#f0f921"
             ]
            ],
            "type": "surface"
           }
          ],
          "table": [
           {
            "cells": {
             "fill": {
              "color": "#EBF0F8"
             },
             "line": {
              "color": "white"
             }
            },
            "header": {
             "fill": {
              "color": "#C8D4E3"
             },
             "line": {
              "color": "white"
             }
            },
            "type": "table"
           }
          ]
         },
         "layout": {
          "annotationdefaults": {
           "arrowcolor": "#2a3f5f",
           "arrowhead": 0,
           "arrowwidth": 1
          },
          "autotypenumbers": "strict",
          "coloraxis": {
           "colorbar": {
            "outlinewidth": 0,
            "ticks": ""
           }
          },
          "colorscale": {
           "diverging": [
            [
             0,
             "#8e0152"
            ],
            [
             0.1,
             "#c51b7d"
            ],
            [
             0.2,
             "#de77ae"
            ],
            [
             0.3,
             "#f1b6da"
            ],
            [
             0.4,
             "#fde0ef"
            ],
            [
             0.5,
             "#f7f7f7"
            ],
            [
             0.6,
             "#e6f5d0"
            ],
            [
             0.7,
             "#b8e186"
            ],
            [
             0.8,
             "#7fbc41"
            ],
            [
             0.9,
             "#4d9221"
            ],
            [
             1,
             "#276419"
            ]
           ],
           "sequential": [
            [
             0,
             "#0d0887"
            ],
            [
             0.1111111111111111,
             "#46039f"
            ],
            [
             0.2222222222222222,
             "#7201a8"
            ],
            [
             0.3333333333333333,
             "#9c179e"
            ],
            [
             0.4444444444444444,
             "#bd3786"
            ],
            [
             0.5555555555555556,
             "#d8576b"
            ],
            [
             0.6666666666666666,
             "#ed7953"
            ],
            [
             0.7777777777777778,
             "#fb9f3a"
            ],
            [
             0.8888888888888888,
             "#fdca26"
            ],
            [
             1,
             "#f0f921"
            ]
           ],
           "sequentialminus": [
            [
             0,
             "#0d0887"
            ],
            [
             0.1111111111111111,
             "#46039f"
            ],
            [
             0.2222222222222222,
             "#7201a8"
            ],
            [
             0.3333333333333333,
             "#9c179e"
            ],
            [
             0.4444444444444444,
             "#bd3786"
            ],
            [
             0.5555555555555556,
             "#d8576b"
            ],
            [
             0.6666666666666666,
             "#ed7953"
            ],
            [
             0.7777777777777778,
             "#fb9f3a"
            ],
            [
             0.8888888888888888,
             "#fdca26"
            ],
            [
             1,
             "#f0f921"
            ]
           ]
          },
          "colorway": [
           "#636efa",
           "#EF553B",
           "#00cc96",
           "#ab63fa",
           "#FFA15A",
           "#19d3f3",
           "#FF6692",
           "#B6E880",
           "#FF97FF",
           "#FECB52"
          ],
          "font": {
           "color": "#2a3f5f"
          },
          "geo": {
           "bgcolor": "white",
           "lakecolor": "white",
           "landcolor": "#E5ECF6",
           "showlakes": true,
           "showland": true,
           "subunitcolor": "white"
          },
          "hoverlabel": {
           "align": "left"
          },
          "hovermode": "closest",
          "mapbox": {
           "style": "light"
          },
          "paper_bgcolor": "white",
          "plot_bgcolor": "#E5ECF6",
          "polar": {
           "angularaxis": {
            "gridcolor": "white",
            "linecolor": "white",
            "ticks": ""
           },
           "bgcolor": "#E5ECF6",
           "radialaxis": {
            "gridcolor": "white",
            "linecolor": "white",
            "ticks": ""
           }
          },
          "scene": {
           "xaxis": {
            "backgroundcolor": "#E5ECF6",
            "gridcolor": "white",
            "gridwidth": 2,
            "linecolor": "white",
            "showbackground": true,
            "ticks": "",
            "zerolinecolor": "white"
           },
           "yaxis": {
            "backgroundcolor": "#E5ECF6",
            "gridcolor": "white",
            "gridwidth": 2,
            "linecolor": "white",
            "showbackground": true,
            "ticks": "",
            "zerolinecolor": "white"
           },
           "zaxis": {
            "backgroundcolor": "#E5ECF6",
            "gridcolor": "white",
            "gridwidth": 2,
            "linecolor": "white",
            "showbackground": true,
            "ticks": "",
            "zerolinecolor": "white"
           }
          },
          "shapedefaults": {
           "line": {
            "color": "#2a3f5f"
           }
          },
          "ternary": {
           "aaxis": {
            "gridcolor": "white",
            "linecolor": "white",
            "ticks": ""
           },
           "baxis": {
            "gridcolor": "white",
            "linecolor": "white",
            "ticks": ""
           },
           "bgcolor": "#E5ECF6",
           "caxis": {
            "gridcolor": "white",
            "linecolor": "white",
            "ticks": ""
           }
          },
          "title": {
           "x": 0.05
          },
          "xaxis": {
           "automargin": true,
           "gridcolor": "white",
           "linecolor": "white",
           "ticks": "",
           "title": {
            "standoff": 15
           },
           "zerolinecolor": "white",
           "zerolinewidth": 2
          },
          "yaxis": {
           "automargin": true,
           "gridcolor": "white",
           "linecolor": "white",
           "ticks": "",
           "title": {
            "standoff": 15
           },
           "zerolinecolor": "white",
           "zerolinewidth": 2
          }
         }
        },
        "title": {
         "text": "DGI+ : 5.345941"
        },
        "xaxis": {
         "title": {
          "text": "Sense Features"
         }
        },
        "yaxis": {
         "title": {
          "text": "Dimensions"
         }
        }
       }
      },
      "text/html": [
       "<div>                            <div id=\"7cdfdc1e-37f6-49a1-9038-d491bdd73ee8\" class=\"plotly-graph-div\" style=\"height:525px; width:100%;\"></div>            <script type=\"text/javascript\">                require([\"plotly\"], function(Plotly) {                    window.PLOTLYENV=window.PLOTLYENV || {};                                    if (document.getElementById(\"7cdfdc1e-37f6-49a1-9038-d491bdd73ee8\")) {                    Plotly.newPlot(                        \"7cdfdc1e-37f6-49a1-9038-d491bdd73ee8\",                        [{\"x\":[\"Degree\",\"Clustering Coefficient\",\"Personalized Page Rank - Standard Deviation\",\"Average Neighbor Degree\",\"Average Neighbor Clustering\",\"Eccentricity\",\"Katz Centrality\"],\"z\":[[0.0,0.0,0.0,0.0,0.0,0.0,0.0],[0.0,0.0,0.0,0.0,0.0,0.0,0.0],[0.0,0.0,0.0,0.0,0.0,0.0,0.0],[0.0,0.0,0.0,0.0,0.0,0.9369091987609863,0.0],[0.0,0.0,0.0,0.0,0.0,0.0,0.0],[0.0,0.0,0.0,0.0,0.0,0.0,0.0],[0.0,0.0,0.0,0.0,0.0,0.0,0.0],[0.0,0.0,0.0,0.0,0.0,0.0,0.07491008192300797],[0.0,0.0,0.0,0.3351561427116394,0.0,0.0,0.0],[0.0,0.0,0.0,0.0,0.050744060426950455,0.0,0.10495372861623764],[0.0,0.0,0.0,0.0,0.0,0.0,0.0],[0.0,0.0,0.0,0.0,0.0,0.0,0.0],[0.9358982443809509,0.0,0.0,0.0,0.0,0.0,0.0],[0.0,0.0,0.0,0.0,0.0,0.0,0.0],[0.0,0.0,0.0,0.0,0.0,0.0,0.0010954586323350668],[0.0,0.0,0.0,0.0,0.0,0.0,0.011161095462739468],[0.0,0.0,0.0,0.0,0.0,0.0,0.0],[0.0,1.0,0.0,0.8697664737701416,0.0,0.0,0.5143747329711914],[0.0,0.0,0.0,0.0,0.0,0.0,0.0],[0.0,0.0,0.0,0.0,0.0,0.0,0.0],[0.0,0.0,0.0,0.0,0.0,0.0,0.0],[0.0,0.0,0.0,0.0,0.0,0.0,0.12999030947685242],[0.0,0.0,0.0,0.0,0.0,0.0,0.0],[0.0,0.0,0.0,0.0,0.0,0.0,0.0],[0.0,0.0,0.0,0.0,0.0,0.0,0.0],[0.0,0.0,0.0,0.0,0.0,0.0,0.0],[0.0,0.0,0.0,0.0,0.0,0.0,0.0],[0.0,0.280584454536438,0.0,0.0,0.0,0.0,0.0],[0.0,0.0,0.0,0.0,0.5471459031105042,0.0,0.0],[0.0,0.0,0.0,0.0,0.0,0.0,0.09773612022399902],[0.0,0.0,0.0,0.0,0.11225015670061111,0.0,0.0],[0.0,0.0,0.0,0.0,0.0,0.0,0.0],[0.0,0.0,0.0,0.0,0.0,0.0,0.0],[0.0,0.0,0.0,0.0,0.1977241486310959,0.0,0.0],[0.0,0.0,0.0,0.0,0.0,0.0,0.0],[0.0,0.0,0.0,0.0,0.0,0.0,0.0],[0.0,0.0,0.0,0.0,0.0,0.0,0.0],[0.0,0.0,0.0,0.0,0.0,0.0,0.0],[0.0,0.0,0.0,0.0,0.0,0.0,0.0],[0.0,0.0,0.8856944441795349,0.0,0.0,0.0,0.0],[0.0,0.0,0.0,0.0,0.0,0.0,0.0],[0.0,0.0,0.0,0.0,0.0,0.0,0.0],[0.0,0.0,0.0,0.0,0.0,0.0,0.0],[0.0,0.0,0.0,0.0,0.0,0.0,0.0],[0.0,0.0,0.0,0.0,0.0,0.0,0.0],[0.0,0.0,0.0,0.0,0.0,0.0,0.043849535286426544],[0.0,0.0,0.0,0.0,0.0,0.0,0.0],[0.0,0.0,0.0,0.0,0.0,0.0,0.0],[0.0,0.0,0.0,0.0,0.0,0.0,0.03192834556102753],[0.0,0.0,0.0,0.0,0.0,0.0,0.0],[0.0,0.0,0.0,0.0,0.0,0.0,0.0],[0.0,0.0,0.0,0.0,0.0,0.0,0.0],[0.0,0.0,0.0,0.0,0.0,0.0,0.0],[0.0,0.0,0.0,0.0,0.0,0.0,0.0],[0.0,0.0,0.0,0.0,0.0,0.0,0.0],[0.0,0.0,0.0,0.0,0.0,0.0,0.0],[0.0,0.0,0.0,0.0,0.0,0.0,0.0],[0.0,0.0,0.0,0.0,0.0,0.0,0.0],[0.0,0.0,0.0,0.0,0.0,0.0,0.0],[0.0,0.0,0.0,0.0,0.0,0.0,0.0],[0.0,0.0,0.0,0.0,0.0,0.0,0.0],[0.0,0.0,0.0,0.0,0.0,0.0,0.011179679073393345],[0.0,0.0,0.0,0.0,0.0,0.0,0.0],[0.0,0.0,0.0,0.0,0.0,0.0,0.0]],\"type\":\"heatmap\"}],                        {\"template\":{\"data\":{\"histogram2dcontour\":[{\"type\":\"histogram2dcontour\",\"colorbar\":{\"outlinewidth\":0,\"ticks\":\"\"},\"colorscale\":[[0.0,\"#0d0887\"],[0.1111111111111111,\"#46039f\"],[0.2222222222222222,\"#7201a8\"],[0.3333333333333333,\"#9c179e\"],[0.4444444444444444,\"#bd3786\"],[0.5555555555555556,\"#d8576b\"],[0.6666666666666666,\"#ed7953\"],[0.7777777777777778,\"#fb9f3a\"],[0.8888888888888888,\"#fdca26\"],[1.0,\"#f0f921\"]]}],\"choropleth\":[{\"type\":\"choropleth\",\"colorbar\":{\"outlinewidth\":0,\"ticks\":\"\"}}],\"histogram2d\":[{\"type\":\"histogram2d\",\"colorbar\":{\"outlinewidth\":0,\"ticks\":\"\"},\"colorscale\":[[0.0,\"#0d0887\"],[0.1111111111111111,\"#46039f\"],[0.2222222222222222,\"#7201a8\"],[0.3333333333333333,\"#9c179e\"],[0.4444444444444444,\"#bd3786\"],[0.5555555555555556,\"#d8576b\"],[0.6666666666666666,\"#ed7953\"],[0.7777777777777778,\"#fb9f3a\"],[0.8888888888888888,\"#fdca26\"],[1.0,\"#f0f921\"]]}],\"heatmap\":[{\"type\":\"heatmap\",\"colorbar\":{\"outlinewidth\":0,\"ticks\":\"\"},\"colorscale\":[[0.0,\"#0d0887\"],[0.1111111111111111,\"#46039f\"],[0.2222222222222222,\"#7201a8\"],[0.3333333333333333,\"#9c179e\"],[0.4444444444444444,\"#bd3786\"],[0.5555555555555556,\"#d8576b\"],[0.6666666666666666,\"#ed7953\"],[0.7777777777777778,\"#fb9f3a\"],[0.8888888888888888,\"#fdca26\"],[1.0,\"#f0f921\"]]}],\"heatmapgl\":[{\"type\":\"heatmapgl\",\"colorbar\":{\"outlinewidth\":0,\"ticks\":\"\"},\"colorscale\":[[0.0,\"#0d0887\"],[0.1111111111111111,\"#46039f\"],[0.2222222222222222,\"#7201a8\"],[0.3333333333333333,\"#9c179e\"],[0.4444444444444444,\"#bd3786\"],[0.5555555555555556,\"#d8576b\"],[0.6666666666666666,\"#ed7953\"],[0.7777777777777778,\"#fb9f3a\"],[0.8888888888888888,\"#fdca26\"],[1.0,\"#f0f921\"]]}],\"contourcarpet\":[{\"type\":\"contourcarpet\",\"colorbar\":{\"outlinewidth\":0,\"ticks\":\"\"}}],\"contour\":[{\"type\":\"contour\",\"colorbar\":{\"outlinewidth\":0,\"ticks\":\"\"},\"colorscale\":[[0.0,\"#0d0887\"],[0.1111111111111111,\"#46039f\"],[0.2222222222222222,\"#7201a8\"],[0.3333333333333333,\"#9c179e\"],[0.4444444444444444,\"#bd3786\"],[0.5555555555555556,\"#d8576b\"],[0.6666666666666666,\"#ed7953\"],[0.7777777777777778,\"#fb9f3a\"],[0.8888888888888888,\"#fdca26\"],[1.0,\"#f0f921\"]]}],\"surface\":[{\"type\":\"surface\",\"colorbar\":{\"outlinewidth\":0,\"ticks\":\"\"},\"colorscale\":[[0.0,\"#0d0887\"],[0.1111111111111111,\"#46039f\"],[0.2222222222222222,\"#7201a8\"],[0.3333333333333333,\"#9c179e\"],[0.4444444444444444,\"#bd3786\"],[0.5555555555555556,\"#d8576b\"],[0.6666666666666666,\"#ed7953\"],[0.7777777777777778,\"#fb9f3a\"],[0.8888888888888888,\"#fdca26\"],[1.0,\"#f0f921\"]]}],\"mesh3d\":[{\"type\":\"mesh3d\",\"colorbar\":{\"outlinewidth\":0,\"ticks\":\"\"}}],\"scatter\":[{\"fillpattern\":{\"fillmode\":\"overlay\",\"size\":10,\"solidity\":0.2},\"type\":\"scatter\"}],\"parcoords\":[{\"type\":\"parcoords\",\"line\":{\"colorbar\":{\"outlinewidth\":0,\"ticks\":\"\"}}}],\"scatterpolargl\":[{\"type\":\"scatterpolargl\",\"marker\":{\"colorbar\":{\"outlinewidth\":0,\"ticks\":\"\"}}}],\"bar\":[{\"error_x\":{\"color\":\"#2a3f5f\"},\"error_y\":{\"color\":\"#2a3f5f\"},\"marker\":{\"line\":{\"color\":\"#E5ECF6\",\"width\":0.5},\"pattern\":{\"fillmode\":\"overlay\",\"size\":10,\"solidity\":0.2}},\"type\":\"bar\"}],\"scattergeo\":[{\"type\":\"scattergeo\",\"marker\":{\"colorbar\":{\"outlinewidth\":0,\"ticks\":\"\"}}}],\"scatterpolar\":[{\"type\":\"scatterpolar\",\"marker\":{\"colorbar\":{\"outlinewidth\":0,\"ticks\":\"\"}}}],\"histogram\":[{\"marker\":{\"pattern\":{\"fillmode\":\"overlay\",\"size\":10,\"solidity\":0.2}},\"type\":\"histogram\"}],\"scattergl\":[{\"type\":\"scattergl\",\"marker\":{\"colorbar\":{\"outlinewidth\":0,\"ticks\":\"\"}}}],\"scatter3d\":[{\"type\":\"scatter3d\",\"line\":{\"colorbar\":{\"outlinewidth\":0,\"ticks\":\"\"}},\"marker\":{\"colorbar\":{\"outlinewidth\":0,\"ticks\":\"\"}}}],\"scattermapbox\":[{\"type\":\"scattermapbox\",\"marker\":{\"colorbar\":{\"outlinewidth\":0,\"ticks\":\"\"}}}],\"scatterternary\":[{\"type\":\"scatterternary\",\"marker\":{\"colorbar\":{\"outlinewidth\":0,\"ticks\":\"\"}}}],\"scattercarpet\":[{\"type\":\"scattercarpet\",\"marker\":{\"colorbar\":{\"outlinewidth\":0,\"ticks\":\"\"}}}],\"carpet\":[{\"aaxis\":{\"endlinecolor\":\"#2a3f5f\",\"gridcolor\":\"white\",\"linecolor\":\"white\",\"minorgridcolor\":\"white\",\"startlinecolor\":\"#2a3f5f\"},\"baxis\":{\"endlinecolor\":\"#2a3f5f\",\"gridcolor\":\"white\",\"linecolor\":\"white\",\"minorgridcolor\":\"white\",\"startlinecolor\":\"#2a3f5f\"},\"type\":\"carpet\"}],\"table\":[{\"cells\":{\"fill\":{\"color\":\"#EBF0F8\"},\"line\":{\"color\":\"white\"}},\"header\":{\"fill\":{\"color\":\"#C8D4E3\"},\"line\":{\"color\":\"white\"}},\"type\":\"table\"}],\"barpolar\":[{\"marker\":{\"line\":{\"color\":\"#E5ECF6\",\"width\":0.5},\"pattern\":{\"fillmode\":\"overlay\",\"size\":10,\"solidity\":0.2}},\"type\":\"barpolar\"}],\"pie\":[{\"automargin\":true,\"type\":\"pie\"}]},\"layout\":{\"autotypenumbers\":\"strict\",\"colorway\":[\"#636efa\",\"#EF553B\",\"#00cc96\",\"#ab63fa\",\"#FFA15A\",\"#19d3f3\",\"#FF6692\",\"#B6E880\",\"#FF97FF\",\"#FECB52\"],\"font\":{\"color\":\"#2a3f5f\"},\"hovermode\":\"closest\",\"hoverlabel\":{\"align\":\"left\"},\"paper_bgcolor\":\"white\",\"plot_bgcolor\":\"#E5ECF6\",\"polar\":{\"bgcolor\":\"#E5ECF6\",\"angularaxis\":{\"gridcolor\":\"white\",\"linecolor\":\"white\",\"ticks\":\"\"},\"radialaxis\":{\"gridcolor\":\"white\",\"linecolor\":\"white\",\"ticks\":\"\"}},\"ternary\":{\"bgcolor\":\"#E5ECF6\",\"aaxis\":{\"gridcolor\":\"white\",\"linecolor\":\"white\",\"ticks\":\"\"},\"baxis\":{\"gridcolor\":\"white\",\"linecolor\":\"white\",\"ticks\":\"\"},\"caxis\":{\"gridcolor\":\"white\",\"linecolor\":\"white\",\"ticks\":\"\"}},\"coloraxis\":{\"colorbar\":{\"outlinewidth\":0,\"ticks\":\"\"}},\"colorscale\":{\"sequential\":[[0.0,\"#0d0887\"],[0.1111111111111111,\"#46039f\"],[0.2222222222222222,\"#7201a8\"],[0.3333333333333333,\"#9c179e\"],[0.4444444444444444,\"#bd3786\"],[0.5555555555555556,\"#d8576b\"],[0.6666666666666666,\"#ed7953\"],[0.7777777777777778,\"#fb9f3a\"],[0.8888888888888888,\"#fdca26\"],[1.0,\"#f0f921\"]],\"sequentialminus\":[[0.0,\"#0d0887\"],[0.1111111111111111,\"#46039f\"],[0.2222222222222222,\"#7201a8\"],[0.3333333333333333,\"#9c179e\"],[0.4444444444444444,\"#bd3786\"],[0.5555555555555556,\"#d8576b\"],[0.6666666666666666,\"#ed7953\"],[0.7777777777777778,\"#fb9f3a\"],[0.8888888888888888,\"#fdca26\"],[1.0,\"#f0f921\"]],\"diverging\":[[0,\"#8e0152\"],[0.1,\"#c51b7d\"],[0.2,\"#de77ae\"],[0.3,\"#f1b6da\"],[0.4,\"#fde0ef\"],[0.5,\"#f7f7f7\"],[0.6,\"#e6f5d0\"],[0.7,\"#b8e186\"],[0.8,\"#7fbc41\"],[0.9,\"#4d9221\"],[1,\"#276419\"]]},\"xaxis\":{\"gridcolor\":\"white\",\"linecolor\":\"white\",\"ticks\":\"\",\"title\":{\"standoff\":15},\"zerolinecolor\":\"white\",\"automargin\":true,\"zerolinewidth\":2},\"yaxis\":{\"gridcolor\":\"white\",\"linecolor\":\"white\",\"ticks\":\"\",\"title\":{\"standoff\":15},\"zerolinecolor\":\"white\",\"automargin\":true,\"zerolinewidth\":2},\"scene\":{\"xaxis\":{\"backgroundcolor\":\"#E5ECF6\",\"gridcolor\":\"white\",\"linecolor\":\"white\",\"showbackground\":true,\"ticks\":\"\",\"zerolinecolor\":\"white\",\"gridwidth\":2},\"yaxis\":{\"backgroundcolor\":\"#E5ECF6\",\"gridcolor\":\"white\",\"linecolor\":\"white\",\"showbackground\":true,\"ticks\":\"\",\"zerolinecolor\":\"white\",\"gridwidth\":2},\"zaxis\":{\"backgroundcolor\":\"#E5ECF6\",\"gridcolor\":\"white\",\"linecolor\":\"white\",\"showbackground\":true,\"ticks\":\"\",\"zerolinecolor\":\"white\",\"gridwidth\":2}},\"shapedefaults\":{\"line\":{\"color\":\"#2a3f5f\"}},\"annotationdefaults\":{\"arrowcolor\":\"#2a3f5f\",\"arrowhead\":0,\"arrowwidth\":1},\"geo\":{\"bgcolor\":\"white\",\"landcolor\":\"#E5ECF6\",\"subunitcolor\":\"white\",\"showland\":true,\"showlakes\":true,\"lakecolor\":\"white\"},\"title\":{\"x\":0.05},\"mapbox\":{\"style\":\"light\"}}},\"title\":{\"text\":\"DGI+ : 5.345941\"},\"xaxis\":{\"title\":{\"text\":\"Sense Features\"}},\"yaxis\":{\"title\":{\"text\":\"Dimensions\"}}},                        {\"responsive\": true}                    ).then(function(){\n",
       "                            \n",
       "var gd = document.getElementById('7cdfdc1e-37f6-49a1-9038-d491bdd73ee8');\n",
       "var x = new MutationObserver(function (mutations, observer) {{\n",
       "        var display = window.getComputedStyle(gd).display;\n",
       "        if (!display || display === 'none') {{\n",
       "            console.log([gd, 'removed!']);\n",
       "            Plotly.purge(gd);\n",
       "            observer.disconnect();\n",
       "        }}\n",
       "}});\n",
       "\n",
       "// Listen for the removal of the full notebook cells\n",
       "var notebookContainer = gd.closest('#notebook-container');\n",
       "if (notebookContainer) {{\n",
       "    x.observe(notebookContainer, {childList: true});\n",
       "}}\n",
       "\n",
       "// Listen for the clearing of the current output cell\n",
       "var outputEl = gd.closest('.output');\n",
       "if (outputEl) {{\n",
       "    x.observe(outputEl, {childList: true});\n",
       "}}\n",
       "\n",
       "                        })                };                });            </script>        </div>"
      ]
     },
     "metadata": {},
     "output_type": "display_data"
    }
   ],
   "source": [
    "fig = go.Figure()\n",
    "fig.add_trace(go.Heatmap(z = explain_og,\n",
    "                         x = list(sense_feat_dict), \n",
    "                         ))\n",
    "fig.update_layout(title_text = 'DGI : ' + str(np.linalg.norm(explain_og, ord = 'nuc')), \n",
    "                  xaxis_title_text = 'Sense Features', \n",
    "                  yaxis_title_text = 'Dimensions')\n",
    "\n",
    "fig.show()\n",
    "\n",
    "fig = go.Figure()\n",
    "fig.add_trace(go.Heatmap(z = explain_plus,\n",
    "                         x = list(sense_feat_dict), \n",
    "                         ))\n",
    "fig.update_layout(title_text = 'DGI+ : ' + str(np.linalg.norm(explain_plus, ord = 'nuc')), \n",
    "                  xaxis_title_text = 'Sense Features', \n",
    "                  yaxis_title_text = 'Dimensions')\n",
    "\n",
    "fig.show()"
   ]
  },
  {
   "cell_type": "code",
   "execution_count": 113,
   "id": "62f4280e",
   "metadata": {},
   "outputs": [],
   "source": [
    "Y_plus = embed_plus\n",
    "sense_mat = tf.einsum('ij, ik -> ijk', Y_plus, sense_features)\n",
    "Y_plus_norm = tf.linalg.diag_part(tf.matmul(Y_plus, Y_plus, transpose_b = True), k = 0)\n",
    "sense_norm = tf.linalg.diag_part(tf.matmul(sense_features, sense_features, transpose_b = True), k = 0)\n",
    "norm = Y_plus_norm * tf.cast(sense_norm, tf.float32)\n",
    "D_plus = tf.transpose(tf.transpose(sense_mat) / norm)\n",
    "\n",
    "Y_og = embed_og\n",
    "sense_mat = tf.einsum('ij, ik -> ijk', Y_og, sense_features)\n",
    "Y_og_norm = tf.linalg.diag_part(tf.matmul(Y_og, Y_og, transpose_b = True), k = 0)\n",
    "sense_norm = tf.linalg.diag_part(tf.matmul(sense_features, sense_features, transpose_b = True), k = 0)\n",
    "norm = Y_og_norm * tf.cast(sense_norm, tf.float32)\n",
    "D_og = tf.transpose(tf.transpose(sense_mat) / norm)"
   ]
  },
  {
   "cell_type": "code",
   "execution_count": 114,
   "id": "e79f3f4b",
   "metadata": {},
   "outputs": [
    {
     "name": "stderr",
     "output_type": "stream",
     "text": [
      "100%|███████████████████████████████████████| 986/986 [00:00<00:00, 1231.08it/s]\n",
      "100%|███████████████████████████████████████| 986/986 [00:00<00:00, 1317.21it/s]\n"
     ]
    }
   ],
   "source": [
    "norm_og = [np.linalg.norm(D_og[node, :, :], ord = 'nuc') for node in tqdm(range(len(graph)))]\n",
    "norm_plus = [np.linalg.norm(D_plus[node, :, :], ord = 'nuc') for node in tqdm(range(len(graph)))]\n",
    "\n"
   ]
  },
  {
   "cell_type": "code",
   "execution_count": 115,
   "id": "07611813",
   "metadata": {},
   "outputs": [
    {
     "data": {
      "application/vnd.plotly.v1+json": {
       "config": {
        "plotlyServerURL": "https://plot.ly"
       },
       "data": [
        {
         "type": "histogram",
         "x": [
          -0.07530131936073303,
          -0.07399916648864746,
          -0.034470558166503906,
          -0.05202694237232208,
          -0.03991535305976868,
          -0.0009143650531768799,
          -0.026378661394119263,
          -0.04248744249343872,
          -0.07331094145774841,
          -0.06442555785179138,
          -0.0756550133228302,
          -0.046972066164016724,
          -0.06064066290855408,
          -0.007261127233505249,
          -0.04465445876121521,
          -0.06063646078109741,
          -0.0652407705783844,
          -0.03467020392417908,
          -0.07693961262702942,
          -0.05326595902442932,
          -0.05180409550666809,
          -0.022562801837921143,
          -0.11214086413383484,
          -0.044713109731674194,
          -0.05786438286304474,
          -0.07432003319263458,
          -0.07009187340736389,
          -0.047816887497901917,
          -0.0352340042591095,
          -0.05777648091316223,
          -0.0523495078086853,
          -0.06977236270904541,
          -0.070041224360466,
          -0.07719282805919647,
          -0.06670966744422913,
          -0.062306106090545654,
          -0.07268345355987549,
          -0.07467451691627502,
          -0.06347110867500305,
          -0.07620435953140259,
          -0.051555633544921875,
          -0.04105129837989807,
          -0.060136765241622925,
          -0.0861944705247879,
          -0.03131800889968872,
          -0.06731364130973816,
          -0.05345946550369263,
          -0.05925828218460083,
          -0.05256113409996033,
          -0.09953662753105164,
          -0.09576725959777832,
          -0.06000080704689026,
          -0.09362086653709412,
          -0.08821892738342285,
          -0.06102703511714935,
          -0.06668725609779358,
          -0.059013962745666504,
          -0.04908660054206848,
          -0.029541492462158203,
          -0.05479796230792999,
          -0.047922492027282715,
          -0.052042156457901,
          -0.001860290765762329,
          -0.031893759965896606,
          -0.009457945823669434,
          -0.023702949285507202,
          -0.06632797420024872,
          -0.11506512761116028,
          -0.07737535238265991,
          -0.053041666746139526,
          -0.10226580500602722,
          -0.08477522432804108,
          -0.10964307188987732,
          -0.09356194734573364,
          -0.0485289990901947,
          -0.09092992544174194,
          -0.07513797283172607,
          -0.09136307239532471,
          -0.0924941897392273,
          -0.07717621326446533,
          -0.05913165211677551,
          -0.03575849533081055,
          0.0029925405979156494,
          -0.02363765239715576,
          -0.015749841928482056,
          -0.10036903619766235,
          0.004396200180053711,
          -0.027814477682113647,
          -0.06884992122650146,
          -0.04301820695400238,
          -0.08860084414482117,
          -0.075959712266922,
          -0.0802912712097168,
          -0.04195857048034668,
          -0.06533220410346985,
          -0.06772583723068237,
          -0.018440410494804382,
          -0.07144726812839508,
          -0.08253976702690125,
          -0.07650753855705261,
          -0.06484904885292053,
          -0.07687529921531677,
          -0.08268120884895325,
          -0.05755552649497986,
          -0.06554177403450012,
          -0.026480823755264282,
          -0.02377757430076599,
          0.0006856173276901245,
          -0.06337080895900726,
          -0.14264771342277527,
          -0.08769863843917847,
          -0.09106999635696411,
          -0.09748455882072449,
          -0.04488953948020935,
          -0.021053612232208252,
          -0.027638107538223267,
          -0.04685589671134949,
          -0.10617756843566895,
          -0.10124656558036804,
          -0.09858566522598267,
          -0.11015507578849792,
          0.002298116683959961,
          -0.09131300449371338,
          -0.089703768491745,
          -0.060612648725509644,
          -0.06903156638145447,
          -0.08052870631217957,
          -0.10106584429740906,
          -0.019309043884277344,
          -0.01305156946182251,
          -0.07412973046302795,
          -0.064566969871521,
          -0.06070330739021301,
          -0.02877156436443329,
          -0.0894610583782196,
          -0.07209917902946472,
          -0.07227131724357605,
          -0.043571412563323975,
          -0.07390940189361572,
          -0.06779631972312927,
          -0.0623011440038681,
          -0.04493662714958191,
          -0.02457594871520996,
          -0.07759854197502136,
          -0.09639769792556763,
          -0.05949494242668152,
          -0.10176128149032593,
          -0.07449880242347717,
          -0.10437029600143433,
          -0.08329832553863525,
          -0.06568580865859985,
          -0.06779685616493225,
          -0.05340257287025452,
          -0.06269985437393188,
          -0.06458944082260132,
          -0.04913860559463501,
          -0.08843713998794556,
          -0.03415849804878235,
          -0.06793296337127686,
          -0.07313263416290283,
          0.018036529421806335,
          -0.07732343673706055,
          -0.0656459629535675,
          -0.06368491053581238,
          -0.07138586044311523,
          -0.026659727096557617,
          -0.007093846797943115,
          -0.03930920362472534,
          -0.05378106236457825,
          -0.03391042351722717,
          -0.04274359345436096,
          -0.06597530841827393,
          -0.04299432039260864,
          -0.050760239362716675,
          -0.05569598078727722,
          -0.1054096519947052,
          -0.0829254686832428,
          -0.06283795833587646,
          -0.07809454202651978,
          -0.05710810422897339,
          -0.05095958709716797,
          -0.044752657413482666,
          -0.054856956005096436,
          -0.014901965856552124,
          -0.05048149824142456,
          -0.0679331123828888,
          -0.08506104350090027,
          -0.06790032982826233,
          -0.08102536201477051,
          -0.03874856233596802,
          -0.08531460165977478,
          -0.043918877840042114,
          -0.07340016961097717,
          -0.06799191236495972,
          -0.06212872266769409,
          -0.06755819916725159,
          -0.07462608814239502,
          -0.07667243480682373,
          -0.08110305666923523,
          -0.06490880250930786,
          -0.06665614247322083,
          -0.0628957450389862,
          -0.12002840638160706,
          -0.07460066676139832,
          -0.06826657056808472,
          -0.07925409078598022,
          -0.04994383454322815,
          -0.0843052864074707,
          -0.07110711932182312,
          -0.039801448583602905,
          -0.04789412021636963,
          -0.010156795382499695,
          -0.0299098938703537,
          -0.06477946043014526,
          -0.06637555360794067,
          -0.043150901794433594,
          -0.08086051046848297,
          -0.08809930086135864,
          -0.05558207631111145,
          -0.10092571377754211,
          -0.11798298358917236,
          -0.06898313760757446,
          -0.057837605476379395,
          -0.07179069519042969,
          -0.11796876788139343,
          -0.09228360652923584,
          -0.06003153324127197,
          -0.12153100967407227,
          -0.1041196882724762,
          -0.09694689512252808,
          -0.08432312309741974,
          -0.047416359186172485,
          -0.03464016318321228,
          -0.058234840631484985,
          -0.06177648901939392,
          -0.08540304005146027,
          -0.0690142810344696,
          -0.08139976859092712,
          -0.07265117764472961,
          -0.12072321772575378,
          -0.08722439408302307,
          -0.08688044548034668,
          -0.07022550702095032,
          -0.07291361689567566,
          -0.09452435374259949,
          -0.06378233432769775,
          -0.09804674983024597,
          -0.0872172862291336,
          -0.09467682242393494,
          -0.017381131649017334,
          -0.06883874535560608,
          -0.0721263587474823,
          -0.027027904987335205,
          -0.07819861173629761,
          -0.05352574586868286,
          -0.06857740879058838,
          -0.03198865056037903,
          -0.09687668085098267,
          -0.05325070023536682,
          -0.0885956883430481,
          -0.10039237141609192,
          -0.05987919867038727,
          -0.08853709697723389,
          -0.055807411670684814,
          -0.07266473770141602,
          -0.06995493173599243,
          -0.08582571148872375,
          -0.08700162172317505,
          -0.08394023776054382,
          -0.0410880446434021,
          -0.11278378963470459,
          -0.05565240979194641,
          -0.06849634647369385,
          -0.07500298321247101,
          -0.08483521640300751,
          -0.07663893699645996,
          -0.12714704871177673,
          -0.086422860622406,
          -0.07021543383598328,
          -0.10117504000663757,
          -0.02532637119293213,
          -0.06291899085044861,
          -0.023021668195724487,
          -0.018593624234199524,
          -0.06678041815757751,
          -0.04090186953544617,
          -0.06968307495117188,
          -0.09373638033866882,
          -0.07112210988998413,
          -0.13857200741767883,
          -0.041394323110580444,
          -0.08116483688354492,
          -0.08724826574325562,
          -0.08543279767036438,
          -0.08110813796520233,
          -0.03554233908653259,
          -0.044340819120407104,
          -0.0940667986869812,
          -0.11188861727714539,
          -0.08607032895088196,
          -0.05434069037437439,
          -0.02032017707824707,
          -0.09427502751350403,
          -0.03636106848716736,
          -0.07829608023166656,
          -0.060360610485076904,
          -0.07557791471481323,
          -0.11049434542655945,
          -0.0722632110118866,
          -0.08749601244926453,
          -0.10302764177322388,
          -0.07932919263839722,
          -0.0941164493560791,
          -0.09316319227218628,
          -0.0734541118144989,
          -0.12987160682678223,
          -0.07368186116218567,
          -0.11285606026649475,
          -0.060728490352630615,
          -0.084196537733078,
          -0.05077710747718811,
          -0.044879406690597534,
          -0.06233374774456024,
          -0.0736023485660553,
          -0.10231810808181763,
          -0.08683955669403076,
          -0.08711183071136475,
          -0.08287683129310608,
          -0.09416922926902771,
          -0.04275503754615784,
          -0.11795061826705933,
          -0.09555968642234802,
          -0.07335725426673889,
          -0.019757390022277832,
          -0.06796513497829437,
          -0.061853304505348206,
          -0.08102470636367798,
          -0.0728897750377655,
          -0.05838412046432495,
          -0.05248987674713135,
          -0.02578917145729065,
          -0.09887422621250153,
          -0.04438856244087219,
          -0.10319045186042786,
          -0.08784469962120056,
          -0.09475314617156982,
          -0.09686711430549622,
          -0.10472771525382996,
          -0.08986365795135498,
          -0.09515070915222168,
          -0.08564937114715576,
          -0.05521500110626221,
          -0.09031349420547485,
          -0.056160539388656616,
          -0.07994160056114197,
          -0.05968070030212402,
          -0.07430174946784973,
          -0.07571613788604736,
          -0.04848212003707886,
          -0.0746176540851593,
          -0.09255293011665344,
          -0.057053446769714355,
          -0.05864587426185608,
          -0.061063095927238464,
          -0.10706348717212677,
          -0.05285272002220154,
          -0.04652085900306702,
          -0.04538893699645996,
          -0.06501191854476929,
          -0.08589480817317963,
          -0.0721641480922699,
          -0.0457291454076767,
          -0.09141725301742554,
          -0.08560234308242798,
          -0.07395568490028381,
          -0.04824891686439514,
          -0.04828965663909912,
          -0.0005646347999572754,
          -0.06847116351127625,
          -0.0498509407043457,
          -0.055272579193115234,
          -0.0672667920589447,
          -0.08680522441864014,
          -0.07706668972969055,
          -0.09173236787319183,
          -0.06716287136077881,
          -0.10419650375843048,
          -0.07366755604743958,
          -0.06950515508651733,
          -0.06802359223365784,
          -0.0566883385181427,
          -0.075767382979393,
          -0.07412388920783997,
          -0.039387404918670654,
          -0.06178775429725647,
          -0.071186363697052,
          -0.075786292552948,
          -0.06283441185951233,
          -0.08813053369522095,
          -0.09753730893135071,
          -0.08557167649269104,
          -0.048566848039627075,
          -0.11805051565170288,
          -0.10257366299629211,
          -0.04409363865852356,
          -0.025722846388816833,
          -0.06787845492362976,
          -0.07528240978717804,
          -0.05075393617153168,
          -0.045836031436920166,
          -0.09758466482162476,
          -0.02113814651966095,
          -0.0457000732421875,
          -0.08029496669769287,
          -0.011166051030158997,
          -0.13873925805091858,
          -0.1475347876548767,
          -0.04815414547920227,
          -0.08836522698402405,
          -0.049639731645584106,
          -0.01642972230911255,
          -0.09169569611549377,
          -0.08277878165245056,
          -0.061592310667037964,
          -0.02980944514274597,
          -0.05644157528877258,
          -0.059127241373062134,
          -0.06399324536323547,
          -0.06992943584918976,
          -0.06627491116523743,
          -0.06745746731758118,
          -0.0901491641998291,
          -0.08617296814918518,
          -0.09177637100219727,
          -0.010293230414390564,
          -0.09776932001113892,
          -0.09113715589046478,
          -0.06413207948207855,
          -0.0395236611366272,
          -0.09294196963310242,
          -0.053360968828201294,
          -0.06827634572982788,
          -0.08107271790504456,
          -0.05605590343475342,
          -0.06996402144432068,
          -0.09127214550971985,
          -0.07013557851314545,
          -0.072562575340271,
          -0.06798121333122253,
          -0.07826727628707886,
          -0.04574236273765564,
          -0.10449907183647156,
          -0.057814329862594604,
          -0.07926690578460693,
          -0.09846144914627075,
          -0.04919421672821045,
          -0.07500596344470978,
          -0.09991520643234253,
          -0.06880900263786316,
          -0.048929840326309204,
          -0.0910276472568512,
          -0.07331947982311249,
          -0.06744872033596039,
          -0.06966254115104675,
          -0.06101630628108978,
          -0.12268367409706116,
          -0.06313836574554443,
          -0.09047956764698029,
          -0.10540544986724854,
          -0.08014853298664093,
          -0.08096489310264587,
          -0.12288013100624084,
          -0.12442845106124878,
          -0.0415530800819397,
          -0.044941648840904236,
          -0.12120810151100159,
          -0.09135375916957855,
          -0.07899811863899231,
          -0.07408678531646729,
          -0.12017878890037537,
          -0.07172921299934387,
          -0.06988212466239929,
          -0.07125350832939148,
          -0.07211512327194214,
          -0.09902477264404297,
          -0.0894121527671814,
          -0.06572109460830688,
          -0.09821212291717529,
          -0.10057555139064789,
          -0.09213808178901672,
          -0.08192446827888489,
          -0.095834881067276,
          -0.08591550588607788,
          -0.04413667321205139,
          -0.02665582299232483,
          -0.05213859677314758,
          -0.09830915927886963,
          -0.11014711856842041,
          -0.04169279336929321,
          -0.054518163204193115,
          -0.07611659169197083,
          -0.09252287447452545,
          -0.0688566267490387,
          -0.08929942548274994,
          -0.0612645149230957,
          -0.09362174570560455,
          -0.0482822060585022,
          -0.14969167113304138,
          -0.08285430073738098,
          -0.05278944969177246,
          -0.08768276870250702,
          -0.10570093989372253,
          -0.12846744060516357,
          -0.06322428584098816,
          -0.08841796219348907,
          -0.07014024257659912,
          -0.07214196026325226,
          -0.07756537199020386,
          -0.0493653267621994,
          -0.09991276264190674,
          -0.06141628324985504,
          -0.08975797891616821,
          -0.11238604784011841,
          -0.0986962616443634,
          -0.0854058712720871,
          -0.06300133466720581,
          -0.05157849192619324,
          -0.08415420353412628,
          -0.12232023477554321,
          -0.07219025492668152,
          -0.12669914960861206,
          -0.06601351499557495,
          -0.0984637439250946,
          -0.01625758409500122,
          -0.11508810520172119,
          -0.11084437370300293,
          -0.12421703338623047,
          -0.09185782074928284,
          -0.11377111077308655,
          -0.11395600438117981,
          -0.10854515433311462,
          -0.09609118103981018,
          -0.09243747591972351,
          -0.0685819685459137,
          -0.08326241374015808,
          -0.08046239614486694,
          -0.033571600914001465,
          -0.0658421516418457,
          -0.08562198281288147,
          -0.04129454493522644,
          -0.08672699332237244,
          -0.09812816977500916,
          -0.07273322343826294,
          -0.08846597373485565,
          -0.09958261251449585,
          -0.10635939240455627,
          -0.12070363759994507,
          -0.09820377826690674,
          -0.11093243956565857,
          -0.09330394864082336,
          -0.05269685387611389,
          -0.10131354629993439,
          -0.0811452567577362,
          -0.09806045889854431,
          -0.09146508574485779,
          -0.10533863306045532,
          -0.08229956030845642,
          -0.09594298899173737,
          -0.07972772419452667,
          -0.06634655594825745,
          -0.0780726820230484,
          -0.09142091870307922,
          -0.08920308947563171,
          -0.08311934769153595,
          -0.11193014681339264,
          -0.09539854526519775,
          -0.09711071848869324,
          -0.09280350804328918,
          -0.11504578590393066,
          -0.07678507268428802,
          -0.0841822624206543,
          -0.10378697514533997,
          -0.1017407476902008,
          -0.10145586729049683,
          -0.1162465512752533,
          -0.08749596774578094,
          -0.09515683352947235,
          -0.08119411766529083,
          -0.09396803379058838,
          -0.07807448506355286,
          -0.10370790958404541,
          -0.05976523458957672,
          -0.061846256256103516,
          -0.09011600911617279,
          -0.15559986233711243,
          -0.11769574880599976,
          -0.11253872513771057,
          -0.08933049440383911,
          -0.10323354601860046,
          -0.09684310853481293,
          -0.08853039145469666,
          -0.0980355441570282,
          -0.07826727628707886,
          -0.11056344211101532,
          -0.06040549278259277,
          -0.13707393407821655,
          -0.10111162066459656,
          -0.07977348566055298,
          -0.09857204556465149,
          -0.09372557699680328,
          -0.09057199954986572,
          -0.0671219527721405,
          -0.1152365505695343,
          -0.11788538098335266,
          -0.07397869229316711,
          -0.14001676440238953,
          -0.0895891785621643,
          -0.08598050475120544,
          -0.09687000513076782,
          -0.07364185154438019,
          -0.10097256302833557,
          -0.10811695456504822,
          -0.11446550488471985,
          -0.1412348449230194,
          -0.0818757563829422,
          -0.12451368570327759,
          -0.11354407668113708,
          -0.07379576563835144,
          -0.13161545991897583,
          -0.059074074029922485,
          -0.06632398068904877,
          -0.06788024306297302,
          -0.04759232699871063,
          -0.08037206530570984,
          -0.09680745005607605,
          -0.07205185294151306,
          -0.09945210814476013,
          -0.12293684482574463,
          -0.0881199836730957,
          -0.08312128484249115,
          -0.09724162518978119,
          -0.11395001411437988,
          -0.12228095531463623,
          -0.11145225167274475,
          -0.07820506393909454,
          -0.10515868663787842,
          -0.11896964907646179,
          -0.1442805528640747,
          -0.10469487309455872,
          -0.13301005959510803,
          -0.06862695515155792,
          -0.09090757369995117,
          -0.10073798894882202,
          -0.103130042552948,
          -0.09762570261955261,
          -0.06049305200576782,
          -0.08984865248203278,
          -0.09435680508613586,
          -0.12321847677230835,
          -0.08672593533992767,
          -0.084723562002182,
          -0.09495502710342407,
          -0.1457555890083313,
          -0.12175452709197998,
          -0.09125101566314697,
          -0.09648677706718445,
          -0.10289996862411499,
          -0.08388498425483704,
          -0.09772224724292755,
          -0.09061436355113983,
          -0.10845628380775452,
          -0.10387814044952393,
          -0.12721282243728638,
          -0.09704476594924927,
          -0.11356356739997864,
          -0.08174976706504822,
          -0.06590837240219116,
          -0.12135997414588928,
          -0.10432915389537811,
          -0.10510003566741943,
          -0.1013055294752121,
          -0.09580868482589722,
          -0.1602289080619812,
          -0.08708338439464569,
          -0.13416633009910583,
          -0.09802967309951782,
          -0.09968896210193634,
          -0.11924317479133606,
          -0.07102131843566895,
          -0.07823768258094788,
          -0.0755680501461029,
          -0.10131354629993439,
          -0.08916957676410675,
          -0.09545323252677917,
          -0.10854591429233551,
          -0.13006815314292908,
          -0.07263410091400146,
          -0.08242148160934448,
          -0.07998161017894745,
          -0.09686517715454102,
          -0.10825338959693909,
          -0.08483591675758362,
          -0.09083947539329529,
          -0.15682432055473328,
          -0.09658822417259216,
          -0.1161988377571106,
          -0.09426988661289215,
          -0.08785969018936157,
          -0.0848328173160553,
          -0.0837814211845398,
          -0.1106652319431305,
          -0.09694299101829529,
          -0.08243390917778015,
          -0.0884687751531601,
          -0.09806481003761292,
          -0.1556020975112915,
          -0.09680795669555664,
          -0.1289609968662262,
          -0.12492862343788147,
          -0.09791287779808044,
          -0.11604177951812744,
          -0.0753059834241867,
          -0.09257885813713074,
          -0.07492049038410187,
          -0.07157091796398163,
          -0.1313190758228302,
          -0.1351701319217682,
          -0.07930947840213776,
          -0.12464287877082825,
          -0.05955834686756134,
          -0.1250109076499939,
          -0.07753479480743408,
          -0.09122210741043091,
          -0.11914344131946564,
          -0.09598459303379059,
          -0.09863695502281189,
          -0.11435888707637787,
          -0.08599114418029785,
          -0.08705142140388489,
          -0.1184006929397583,
          -0.09799268841743469,
          -0.10830631852149963,
          -0.1288500428199768,
          -0.13553303480148315,
          -0.11612449586391449,
          -0.1388116478919983,
          -0.08167029917240143,
          -0.09658822417259216,
          -0.1328568458557129,
          -0.09040221571922302,
          -0.07441192865371704,
          -0.11494848132133484,
          -0.07328625023365021,
          -0.12034390866756439,
          -0.10429291427135468,
          -0.11121128499507904,
          -0.07514573633670807,
          -0.1036638617515564,
          -0.10992762446403503,
          -0.07053422927856445,
          -0.09072619676589966,
          -0.13424113392829895,
          -0.1516883373260498,
          -0.13822287321090698,
          -0.14705950021743774,
          -0.08830070495605469,
          -0.12104973196983337,
          -0.0741209089756012,
          -0.11516985297203064,
          -0.12211394309997559,
          -0.12479326128959656,
          -0.06209476292133331,
          -0.13366493582725525,
          -0.10056298971176147,
          -0.1272622048854828,
          -0.09662538766860962,
          -0.15525266528129578,
          -0.07211579382419586,
          -0.12990912795066833,
          -0.09990088641643524,
          -0.1345309317111969,
          -0.12672412395477295,
          -0.1474791169166565,
          -0.09275360405445099,
          -0.09577906131744385,
          -0.07678340375423431,
          -0.0992581844329834,
          -0.11772814393043518,
          -0.07172514498233795,
          -0.10573002696037292,
          -0.06360486149787903,
          -0.12057995796203613,
          -0.10913725197315216,
          -0.0629645586013794,
          -0.07931861281394958,
          -0.14073920249938965,
          -0.0923101156949997,
          -0.0845617949962616,
          -0.10912209749221802,
          -0.11193236708641052,
          -0.10387621819972992,
          -0.025177568197250366,
          -0.08198295533657074,
          -0.1075599193572998,
          -0.07951274514198303,
          -0.1518552303314209,
          -0.07697340846061707,
          -0.06923931837081909,
          -0.10569676756858826,
          -0.09022009372711182,
          -0.12767446041107178,
          -0.09736424684524536,
          -0.15097665786743164,
          -0.07402393221855164,
          -0.09576837718486786,
          -0.1014695018529892,
          -0.11577743291854858,
          -0.11365744471549988,
          -0.09545323252677917,
          -0.0832606852054596,
          -0.15390610694885254,
          -0.09120368957519531,
          -0.10258510708808899,
          -0.08909623324871063,
          -0.0839519053697586,
          -0.1155242919921875,
          -0.0726594477891922,
          -0.023738324642181396,
          -0.06982626020908356,
          -0.09368918836116791,
          -0.12227383255958557,
          -0.1539572775363922,
          -0.09263083338737488,
          -0.13392415642738342,
          -0.09788388013839722,
          -0.0974002480506897,
          -0.14444610476493835,
          -0.053562819957733154,
          -0.10452958941459656,
          -0.10707670450210571,
          -0.051617592573165894,
          -0.07705383002758026,
          -0.13654789328575134,
          -0.10209435224533081,
          -0.09845420718193054,
          -0.10455197095870972,
          -0.07779492437839508,
          -0.11559505760669708,
          -0.12396553158760071,
          -0.14636701345443726,
          -0.09321969747543335,
          -0.09057532250881195,
          -0.15398100018501282,
          -0.11954736709594727,
          -0.08246512711048126,
          -0.09057532250881195,
          -0.10657119750976562,
          -0.10894331336021423,
          -0.11676877737045288,
          -0.08679263293743134,
          -0.096286341547966,
          -0.07714368402957916,
          -0.13271823525428772,
          -0.07607656717300415,
          -0.085669606924057,
          -0.07492591440677643,
          -0.10091273486614227,
          -0.10538192093372345,
          -0.08753840625286102,
          -0.10266079008579254,
          -0.09962618350982666,
          -0.09315843880176544,
          -0.08202505111694336,
          -0.08740741014480591,
          -0.093860924243927,
          -0.10259708762168884,
          -0.09089840948581696,
          -0.08815330266952515,
          -0.13416633009910583,
          -0.09267345070838928,
          -0.10302488505840302,
          -0.08548155426979065,
          -0.1011713445186615,
          -0.11767283082008362,
          -0.08512794971466064,
          -0.13443413376808167,
          -0.08845780789852142,
          -0.12324228882789612,
          -0.08666348457336426,
          -0.07225710153579712,
          -0.10321265459060669,
          -0.14543458819389343,
          -0.09259380400180817,
          -0.11705067753791809,
          -0.08979335427284241,
          -0.08937758207321167,
          -0.13000574707984924,
          -0.07826727628707886,
          -0.07370227575302124,
          -0.06654110550880432,
          -0.08244837820529938,
          -0.10460668802261353,
          -0.09646590054035187,
          -0.09954148530960083,
          -0.07031086087226868,
          -0.09564009308815002,
          -0.07373777031898499,
          -0.08562375605106354,
          -0.06818141043186188,
          -0.1184006929397583,
          -0.074816033244133,
          -0.09107846021652222,
          -0.08847804367542267,
          -0.0457974374294281,
          -0.0728229284286499,
          -0.13882598280906677,
          -0.09958389401435852,
          -0.07604914903640747,
          -0.08614742755889893,
          -0.09932450950145721,
          -0.1391594111919403,
          -0.0918373167514801,
          -0.14300349354743958,
          -0.15138405561447144,
          -0.14895737171173096,
          -0.1350679099559784,
          -0.09966060519218445,
          -0.09400872886180878,
          -0.07251870632171631,
          -0.12718170881271362,
          -0.07765600085258484,
          -0.10322970151901245,
          -0.09531192481517792,
          -0.09020544588565826,
          -0.09041288495063782,
          -0.09536179900169373,
          -0.09145227074623108,
          -0.10234761238098145,
          -0.09822709858417511,
          -0.09506314992904663,
          -0.12707895040512085,
          -0.12707895040512085,
          -0.12707895040512085,
          -0.08928634226322174,
          -0.07714280486106873,
          -0.11355504393577576,
          -0.14151963591575623,
          -0.09123879671096802,
          -0.1080414205789566,
          -0.06600351631641388,
          -0.08398781716823578,
          -0.12349966168403625,
          -0.013617485761642456,
          -0.11269621551036835,
          -0.10510841012001038,
          -0.09133127331733704,
          -0.10510841012001038,
          -0.06253015995025635,
          -0.06604047119617462,
          -0.08410152792930603,
          -0.14244911074638367,
          -0.1074153482913971,
          -0.06253013014793396,
          -0.1011713445186615,
          -0.09226329624652863,
          -0.13032934069633484,
          -0.12583601474761963,
          -0.11073684692382812,
          -0.09006860852241516,
          -0.08293464779853821,
          -0.065813347697258,
          -0.07969500124454498,
          -0.0840638130903244,
          -0.10035103559494019,
          -0.09802630543708801,
          -0.14105448126792908,
          -0.0698513388633728,
          -0.1415722370147705,
          -0.08707098662853241,
          -0.14543458819389343,
          -0.12656170129776,
          -0.1074572503566742,
          -0.0799361914396286,
          -0.10992762446403503,
          -0.15097665786743164,
          -0.09014034271240234
         ]
        }
       ],
       "layout": {
        "font": {
         "size": 30
        },
        "paper_bgcolor": "white",
        "plot_bgcolor": "white",
        "template": {
         "data": {
          "bar": [
           {
            "error_x": {
             "color": "#2a3f5f"
            },
            "error_y": {
             "color": "#2a3f5f"
            },
            "marker": {
             "line": {
              "color": "#E5ECF6",
              "width": 0.5
             },
             "pattern": {
              "fillmode": "overlay",
              "size": 10,
              "solidity": 0.2
             }
            },
            "type": "bar"
           }
          ],
          "barpolar": [
           {
            "marker": {
             "line": {
              "color": "#E5ECF6",
              "width": 0.5
             },
             "pattern": {
              "fillmode": "overlay",
              "size": 10,
              "solidity": 0.2
             }
            },
            "type": "barpolar"
           }
          ],
          "carpet": [
           {
            "aaxis": {
             "endlinecolor": "#2a3f5f",
             "gridcolor": "white",
             "linecolor": "white",
             "minorgridcolor": "white",
             "startlinecolor": "#2a3f5f"
            },
            "baxis": {
             "endlinecolor": "#2a3f5f",
             "gridcolor": "white",
             "linecolor": "white",
             "minorgridcolor": "white",
             "startlinecolor": "#2a3f5f"
            },
            "type": "carpet"
           }
          ],
          "choropleth": [
           {
            "colorbar": {
             "outlinewidth": 0,
             "ticks": ""
            },
            "type": "choropleth"
           }
          ],
          "contour": [
           {
            "colorbar": {
             "outlinewidth": 0,
             "ticks": ""
            },
            "colorscale": [
             [
              0,
              "#0d0887"
             ],
             [
              0.1111111111111111,
              "#46039f"
             ],
             [
              0.2222222222222222,
              "#7201a8"
             ],
             [
              0.3333333333333333,
              "#9c179e"
             ],
             [
              0.4444444444444444,
              "#bd3786"
             ],
             [
              0.5555555555555556,
              "#d8576b"
             ],
             [
              0.6666666666666666,
              "#ed7953"
             ],
             [
              0.7777777777777778,
              "#fb9f3a"
             ],
             [
              0.8888888888888888,
              "#fdca26"
             ],
             [
              1,
              "#f0f921"
             ]
            ],
            "type": "contour"
           }
          ],
          "contourcarpet": [
           {
            "colorbar": {
             "outlinewidth": 0,
             "ticks": ""
            },
            "type": "contourcarpet"
           }
          ],
          "heatmap": [
           {
            "colorbar": {
             "outlinewidth": 0,
             "ticks": ""
            },
            "colorscale": [
             [
              0,
              "#0d0887"
             ],
             [
              0.1111111111111111,
              "#46039f"
             ],
             [
              0.2222222222222222,
              "#7201a8"
             ],
             [
              0.3333333333333333,
              "#9c179e"
             ],
             [
              0.4444444444444444,
              "#bd3786"
             ],
             [
              0.5555555555555556,
              "#d8576b"
             ],
             [
              0.6666666666666666,
              "#ed7953"
             ],
             [
              0.7777777777777778,
              "#fb9f3a"
             ],
             [
              0.8888888888888888,
              "#fdca26"
             ],
             [
              1,
              "#f0f921"
             ]
            ],
            "type": "heatmap"
           }
          ],
          "heatmapgl": [
           {
            "colorbar": {
             "outlinewidth": 0,
             "ticks": ""
            },
            "colorscale": [
             [
              0,
              "#0d0887"
             ],
             [
              0.1111111111111111,
              "#46039f"
             ],
             [
              0.2222222222222222,
              "#7201a8"
             ],
             [
              0.3333333333333333,
              "#9c179e"
             ],
             [
              0.4444444444444444,
              "#bd3786"
             ],
             [
              0.5555555555555556,
              "#d8576b"
             ],
             [
              0.6666666666666666,
              "#ed7953"
             ],
             [
              0.7777777777777778,
              "#fb9f3a"
             ],
             [
              0.8888888888888888,
              "#fdca26"
             ],
             [
              1,
              "#f0f921"
             ]
            ],
            "type": "heatmapgl"
           }
          ],
          "histogram": [
           {
            "marker": {
             "pattern": {
              "fillmode": "overlay",
              "size": 10,
              "solidity": 0.2
             }
            },
            "type": "histogram"
           }
          ],
          "histogram2d": [
           {
            "colorbar": {
             "outlinewidth": 0,
             "ticks": ""
            },
            "colorscale": [
             [
              0,
              "#0d0887"
             ],
             [
              0.1111111111111111,
              "#46039f"
             ],
             [
              0.2222222222222222,
              "#7201a8"
             ],
             [
              0.3333333333333333,
              "#9c179e"
             ],
             [
              0.4444444444444444,
              "#bd3786"
             ],
             [
              0.5555555555555556,
              "#d8576b"
             ],
             [
              0.6666666666666666,
              "#ed7953"
             ],
             [
              0.7777777777777778,
              "#fb9f3a"
             ],
             [
              0.8888888888888888,
              "#fdca26"
             ],
             [
              1,
              "#f0f921"
             ]
            ],
            "type": "histogram2d"
           }
          ],
          "histogram2dcontour": [
           {
            "colorbar": {
             "outlinewidth": 0,
             "ticks": ""
            },
            "colorscale": [
             [
              0,
              "#0d0887"
             ],
             [
              0.1111111111111111,
              "#46039f"
             ],
             [
              0.2222222222222222,
              "#7201a8"
             ],
             [
              0.3333333333333333,
              "#9c179e"
             ],
             [
              0.4444444444444444,
              "#bd3786"
             ],
             [
              0.5555555555555556,
              "#d8576b"
             ],
             [
              0.6666666666666666,
              "#ed7953"
             ],
             [
              0.7777777777777778,
              "#fb9f3a"
             ],
             [
              0.8888888888888888,
              "#fdca26"
             ],
             [
              1,
              "#f0f921"
             ]
            ],
            "type": "histogram2dcontour"
           }
          ],
          "mesh3d": [
           {
            "colorbar": {
             "outlinewidth": 0,
             "ticks": ""
            },
            "type": "mesh3d"
           }
          ],
          "parcoords": [
           {
            "line": {
             "colorbar": {
              "outlinewidth": 0,
              "ticks": ""
             }
            },
            "type": "parcoords"
           }
          ],
          "pie": [
           {
            "automargin": true,
            "type": "pie"
           }
          ],
          "scatter": [
           {
            "fillpattern": {
             "fillmode": "overlay",
             "size": 10,
             "solidity": 0.2
            },
            "type": "scatter"
           }
          ],
          "scatter3d": [
           {
            "line": {
             "colorbar": {
              "outlinewidth": 0,
              "ticks": ""
             }
            },
            "marker": {
             "colorbar": {
              "outlinewidth": 0,
              "ticks": ""
             }
            },
            "type": "scatter3d"
           }
          ],
          "scattercarpet": [
           {
            "marker": {
             "colorbar": {
              "outlinewidth": 0,
              "ticks": ""
             }
            },
            "type": "scattercarpet"
           }
          ],
          "scattergeo": [
           {
            "marker": {
             "colorbar": {
              "outlinewidth": 0,
              "ticks": ""
             }
            },
            "type": "scattergeo"
           }
          ],
          "scattergl": [
           {
            "marker": {
             "colorbar": {
              "outlinewidth": 0,
              "ticks": ""
             }
            },
            "type": "scattergl"
           }
          ],
          "scattermapbox": [
           {
            "marker": {
             "colorbar": {
              "outlinewidth": 0,
              "ticks": ""
             }
            },
            "type": "scattermapbox"
           }
          ],
          "scatterpolar": [
           {
            "marker": {
             "colorbar": {
              "outlinewidth": 0,
              "ticks": ""
             }
            },
            "type": "scatterpolar"
           }
          ],
          "scatterpolargl": [
           {
            "marker": {
             "colorbar": {
              "outlinewidth": 0,
              "ticks": ""
             }
            },
            "type": "scatterpolargl"
           }
          ],
          "scatterternary": [
           {
            "marker": {
             "colorbar": {
              "outlinewidth": 0,
              "ticks": ""
             }
            },
            "type": "scatterternary"
           }
          ],
          "surface": [
           {
            "colorbar": {
             "outlinewidth": 0,
             "ticks": ""
            },
            "colorscale": [
             [
              0,
              "#0d0887"
             ],
             [
              0.1111111111111111,
              "#46039f"
             ],
             [
              0.2222222222222222,
              "#7201a8"
             ],
             [
              0.3333333333333333,
              "#9c179e"
             ],
             [
              0.4444444444444444,
              "#bd3786"
             ],
             [
              0.5555555555555556,
              "#d8576b"
             ],
             [
              0.6666666666666666,
              "#ed7953"
             ],
             [
              0.7777777777777778,
              "#fb9f3a"
             ],
             [
              0.8888888888888888,
              "#fdca26"
             ],
             [
              1,
              "#f0f921"
             ]
            ],
            "type": "surface"
           }
          ],
          "table": [
           {
            "cells": {
             "fill": {
              "color": "#EBF0F8"
             },
             "line": {
              "color": "white"
             }
            },
            "header": {
             "fill": {
              "color": "#C8D4E3"
             },
             "line": {
              "color": "white"
             }
            },
            "type": "table"
           }
          ]
         },
         "layout": {
          "annotationdefaults": {
           "arrowcolor": "#2a3f5f",
           "arrowhead": 0,
           "arrowwidth": 1
          },
          "autotypenumbers": "strict",
          "coloraxis": {
           "colorbar": {
            "outlinewidth": 0,
            "ticks": ""
           }
          },
          "colorscale": {
           "diverging": [
            [
             0,
             "#8e0152"
            ],
            [
             0.1,
             "#c51b7d"
            ],
            [
             0.2,
             "#de77ae"
            ],
            [
             0.3,
             "#f1b6da"
            ],
            [
             0.4,
             "#fde0ef"
            ],
            [
             0.5,
             "#f7f7f7"
            ],
            [
             0.6,
             "#e6f5d0"
            ],
            [
             0.7,
             "#b8e186"
            ],
            [
             0.8,
             "#7fbc41"
            ],
            [
             0.9,
             "#4d9221"
            ],
            [
             1,
             "#276419"
            ]
           ],
           "sequential": [
            [
             0,
             "#0d0887"
            ],
            [
             0.1111111111111111,
             "#46039f"
            ],
            [
             0.2222222222222222,
             "#7201a8"
            ],
            [
             0.3333333333333333,
             "#9c179e"
            ],
            [
             0.4444444444444444,
             "#bd3786"
            ],
            [
             0.5555555555555556,
             "#d8576b"
            ],
            [
             0.6666666666666666,
             "#ed7953"
            ],
            [
             0.7777777777777778,
             "#fb9f3a"
            ],
            [
             0.8888888888888888,
             "#fdca26"
            ],
            [
             1,
             "#f0f921"
            ]
           ],
           "sequentialminus": [
            [
             0,
             "#0d0887"
            ],
            [
             0.1111111111111111,
             "#46039f"
            ],
            [
             0.2222222222222222,
             "#7201a8"
            ],
            [
             0.3333333333333333,
             "#9c179e"
            ],
            [
             0.4444444444444444,
             "#bd3786"
            ],
            [
             0.5555555555555556,
             "#d8576b"
            ],
            [
             0.6666666666666666,
             "#ed7953"
            ],
            [
             0.7777777777777778,
             "#fb9f3a"
            ],
            [
             0.8888888888888888,
             "#fdca26"
            ],
            [
             1,
             "#f0f921"
            ]
           ]
          },
          "colorway": [
           "#636efa",
           "#EF553B",
           "#00cc96",
           "#ab63fa",
           "#FFA15A",
           "#19d3f3",
           "#FF6692",
           "#B6E880",
           "#FF97FF",
           "#FECB52"
          ],
          "font": {
           "color": "#2a3f5f"
          },
          "geo": {
           "bgcolor": "white",
           "lakecolor": "white",
           "landcolor": "#E5ECF6",
           "showlakes": true,
           "showland": true,
           "subunitcolor": "white"
          },
          "hoverlabel": {
           "align": "left"
          },
          "hovermode": "closest",
          "mapbox": {
           "style": "light"
          },
          "paper_bgcolor": "white",
          "plot_bgcolor": "#E5ECF6",
          "polar": {
           "angularaxis": {
            "gridcolor": "white",
            "linecolor": "white",
            "ticks": ""
           },
           "bgcolor": "#E5ECF6",
           "radialaxis": {
            "gridcolor": "white",
            "linecolor": "white",
            "ticks": ""
           }
          },
          "scene": {
           "xaxis": {
            "backgroundcolor": "#E5ECF6",
            "gridcolor": "white",
            "gridwidth": 2,
            "linecolor": "white",
            "showbackground": true,
            "ticks": "",
            "zerolinecolor": "white"
           },
           "yaxis": {
            "backgroundcolor": "#E5ECF6",
            "gridcolor": "white",
            "gridwidth": 2,
            "linecolor": "white",
            "showbackground": true,
            "ticks": "",
            "zerolinecolor": "white"
           },
           "zaxis": {
            "backgroundcolor": "#E5ECF6",
            "gridcolor": "white",
            "gridwidth": 2,
            "linecolor": "white",
            "showbackground": true,
            "ticks": "",
            "zerolinecolor": "white"
           }
          },
          "shapedefaults": {
           "line": {
            "color": "#2a3f5f"
           }
          },
          "ternary": {
           "aaxis": {
            "gridcolor": "white",
            "linecolor": "white",
            "ticks": ""
           },
           "baxis": {
            "gridcolor": "white",
            "linecolor": "white",
            "ticks": ""
           },
           "bgcolor": "#E5ECF6",
           "caxis": {
            "gridcolor": "white",
            "linecolor": "white",
            "ticks": ""
           }
          },
          "title": {
           "x": 0.05
          },
          "xaxis": {
           "automargin": true,
           "gridcolor": "white",
           "linecolor": "white",
           "ticks": "",
           "title": {
            "standoff": 15
           },
           "zerolinecolor": "white",
           "zerolinewidth": 2
          },
          "yaxis": {
           "automargin": true,
           "gridcolor": "white",
           "linecolor": "white",
           "ticks": "",
           "title": {
            "standoff": 15
           },
           "zerolinecolor": "white",
           "zerolinewidth": 2
          }
         }
        },
        "title": {
         "text": "Distribution of Difference In Nuclear Norms - GMI vs GMI+XM"
        },
        "xaxis": {
         "title": {
          "text": "Difference In Nuclear Norms - GMI vs GMI+XM"
         }
        },
        "yaxis": {
         "title": {
          "text": "Frequency"
         }
        }
       }
      },
      "text/html": [
       "<div>                            <div id=\"87568773-625f-41d7-bf0d-b0ded140d6d2\" class=\"plotly-graph-div\" style=\"height:525px; width:100%;\"></div>            <script type=\"text/javascript\">                require([\"plotly\"], function(Plotly) {                    window.PLOTLYENV=window.PLOTLYENV || {};                                    if (document.getElementById(\"87568773-625f-41d7-bf0d-b0ded140d6d2\")) {                    Plotly.newPlot(                        \"87568773-625f-41d7-bf0d-b0ded140d6d2\",                        [{\"x\":[-0.07530131936073303,-0.07399916648864746,-0.034470558166503906,-0.05202694237232208,-0.03991535305976868,-0.0009143650531768799,-0.026378661394119263,-0.04248744249343872,-0.07331094145774841,-0.06442555785179138,-0.0756550133228302,-0.046972066164016724,-0.06064066290855408,-0.007261127233505249,-0.04465445876121521,-0.06063646078109741,-0.0652407705783844,-0.03467020392417908,-0.07693961262702942,-0.05326595902442932,-0.05180409550666809,-0.022562801837921143,-0.11214086413383484,-0.044713109731674194,-0.05786438286304474,-0.07432003319263458,-0.07009187340736389,-0.047816887497901917,-0.0352340042591095,-0.05777648091316223,-0.0523495078086853,-0.06977236270904541,-0.070041224360466,-0.07719282805919647,-0.06670966744422913,-0.062306106090545654,-0.07268345355987549,-0.07467451691627502,-0.06347110867500305,-0.07620435953140259,-0.051555633544921875,-0.04105129837989807,-0.060136765241622925,-0.0861944705247879,-0.03131800889968872,-0.06731364130973816,-0.05345946550369263,-0.05925828218460083,-0.05256113409996033,-0.09953662753105164,-0.09576725959777832,-0.06000080704689026,-0.09362086653709412,-0.08821892738342285,-0.06102703511714935,-0.06668725609779358,-0.059013962745666504,-0.04908660054206848,-0.029541492462158203,-0.05479796230792999,-0.047922492027282715,-0.052042156457901,-0.001860290765762329,-0.031893759965896606,-0.009457945823669434,-0.023702949285507202,-0.06632797420024872,-0.11506512761116028,-0.07737535238265991,-0.053041666746139526,-0.10226580500602722,-0.08477522432804108,-0.10964307188987732,-0.09356194734573364,-0.0485289990901947,-0.09092992544174194,-0.07513797283172607,-0.09136307239532471,-0.0924941897392273,-0.07717621326446533,-0.05913165211677551,-0.03575849533081055,0.0029925405979156494,-0.02363765239715576,-0.015749841928482056,-0.10036903619766235,0.004396200180053711,-0.027814477682113647,-0.06884992122650146,-0.04301820695400238,-0.08860084414482117,-0.075959712266922,-0.0802912712097168,-0.04195857048034668,-0.06533220410346985,-0.06772583723068237,-0.018440410494804382,-0.07144726812839508,-0.08253976702690125,-0.07650753855705261,-0.06484904885292053,-0.07687529921531677,-0.08268120884895325,-0.05755552649497986,-0.06554177403450012,-0.026480823755264282,-0.02377757430076599,0.0006856173276901245,-0.06337080895900726,-0.14264771342277527,-0.08769863843917847,-0.09106999635696411,-0.09748455882072449,-0.04488953948020935,-0.021053612232208252,-0.027638107538223267,-0.04685589671134949,-0.10617756843566895,-0.10124656558036804,-0.09858566522598267,-0.11015507578849792,0.002298116683959961,-0.09131300449371338,-0.089703768491745,-0.060612648725509644,-0.06903156638145447,-0.08052870631217957,-0.10106584429740906,-0.019309043884277344,-0.01305156946182251,-0.07412973046302795,-0.064566969871521,-0.06070330739021301,-0.02877156436443329,-0.0894610583782196,-0.07209917902946472,-0.07227131724357605,-0.043571412563323975,-0.07390940189361572,-0.06779631972312927,-0.0623011440038681,-0.04493662714958191,-0.02457594871520996,-0.07759854197502136,-0.09639769792556763,-0.05949494242668152,-0.10176128149032593,-0.07449880242347717,-0.10437029600143433,-0.08329832553863525,-0.06568580865859985,-0.06779685616493225,-0.05340257287025452,-0.06269985437393188,-0.06458944082260132,-0.04913860559463501,-0.08843713998794556,-0.03415849804878235,-0.06793296337127686,-0.07313263416290283,0.018036529421806335,-0.07732343673706055,-0.0656459629535675,-0.06368491053581238,-0.07138586044311523,-0.026659727096557617,-0.007093846797943115,-0.03930920362472534,-0.05378106236457825,-0.03391042351722717,-0.04274359345436096,-0.06597530841827393,-0.04299432039260864,-0.050760239362716675,-0.05569598078727722,-0.1054096519947052,-0.0829254686832428,-0.06283795833587646,-0.07809454202651978,-0.05710810422897339,-0.05095958709716797,-0.044752657413482666,-0.054856956005096436,-0.014901965856552124,-0.05048149824142456,-0.0679331123828888,-0.08506104350090027,-0.06790032982826233,-0.08102536201477051,-0.03874856233596802,-0.08531460165977478,-0.043918877840042114,-0.07340016961097717,-0.06799191236495972,-0.06212872266769409,-0.06755819916725159,-0.07462608814239502,-0.07667243480682373,-0.08110305666923523,-0.06490880250930786,-0.06665614247322083,-0.0628957450389862,-0.12002840638160706,-0.07460066676139832,-0.06826657056808472,-0.07925409078598022,-0.04994383454322815,-0.0843052864074707,-0.07110711932182312,-0.039801448583602905,-0.04789412021636963,-0.010156795382499695,-0.0299098938703537,-0.06477946043014526,-0.06637555360794067,-0.043150901794433594,-0.08086051046848297,-0.08809930086135864,-0.05558207631111145,-0.10092571377754211,-0.11798298358917236,-0.06898313760757446,-0.057837605476379395,-0.07179069519042969,-0.11796876788139343,-0.09228360652923584,-0.06003153324127197,-0.12153100967407227,-0.1041196882724762,-0.09694689512252808,-0.08432312309741974,-0.047416359186172485,-0.03464016318321228,-0.058234840631484985,-0.06177648901939392,-0.08540304005146027,-0.0690142810344696,-0.08139976859092712,-0.07265117764472961,-0.12072321772575378,-0.08722439408302307,-0.08688044548034668,-0.07022550702095032,-0.07291361689567566,-0.09452435374259949,-0.06378233432769775,-0.09804674983024597,-0.0872172862291336,-0.09467682242393494,-0.017381131649017334,-0.06883874535560608,-0.0721263587474823,-0.027027904987335205,-0.07819861173629761,-0.05352574586868286,-0.06857740879058838,-0.03198865056037903,-0.09687668085098267,-0.05325070023536682,-0.0885956883430481,-0.10039237141609192,-0.05987919867038727,-0.08853709697723389,-0.055807411670684814,-0.07266473770141602,-0.06995493173599243,-0.08582571148872375,-0.08700162172317505,-0.08394023776054382,-0.0410880446434021,-0.11278378963470459,-0.05565240979194641,-0.06849634647369385,-0.07500298321247101,-0.08483521640300751,-0.07663893699645996,-0.12714704871177673,-0.086422860622406,-0.07021543383598328,-0.10117504000663757,-0.02532637119293213,-0.06291899085044861,-0.023021668195724487,-0.018593624234199524,-0.06678041815757751,-0.04090186953544617,-0.06968307495117188,-0.09373638033866882,-0.07112210988998413,-0.13857200741767883,-0.041394323110580444,-0.08116483688354492,-0.08724826574325562,-0.08543279767036438,-0.08110813796520233,-0.03554233908653259,-0.044340819120407104,-0.0940667986869812,-0.11188861727714539,-0.08607032895088196,-0.05434069037437439,-0.02032017707824707,-0.09427502751350403,-0.03636106848716736,-0.07829608023166656,-0.060360610485076904,-0.07557791471481323,-0.11049434542655945,-0.0722632110118866,-0.08749601244926453,-0.10302764177322388,-0.07932919263839722,-0.0941164493560791,-0.09316319227218628,-0.0734541118144989,-0.12987160682678223,-0.07368186116218567,-0.11285606026649475,-0.060728490352630615,-0.084196537733078,-0.05077710747718811,-0.044879406690597534,-0.06233374774456024,-0.0736023485660553,-0.10231810808181763,-0.08683955669403076,-0.08711183071136475,-0.08287683129310608,-0.09416922926902771,-0.04275503754615784,-0.11795061826705933,-0.09555968642234802,-0.07335725426673889,-0.019757390022277832,-0.06796513497829437,-0.061853304505348206,-0.08102470636367798,-0.0728897750377655,-0.05838412046432495,-0.05248987674713135,-0.02578917145729065,-0.09887422621250153,-0.04438856244087219,-0.10319045186042786,-0.08784469962120056,-0.09475314617156982,-0.09686711430549622,-0.10472771525382996,-0.08986365795135498,-0.09515070915222168,-0.08564937114715576,-0.05521500110626221,-0.09031349420547485,-0.056160539388656616,-0.07994160056114197,-0.05968070030212402,-0.07430174946784973,-0.07571613788604736,-0.04848212003707886,-0.0746176540851593,-0.09255293011665344,-0.057053446769714355,-0.05864587426185608,-0.061063095927238464,-0.10706348717212677,-0.05285272002220154,-0.04652085900306702,-0.04538893699645996,-0.06501191854476929,-0.08589480817317963,-0.0721641480922699,-0.0457291454076767,-0.09141725301742554,-0.08560234308242798,-0.07395568490028381,-0.04824891686439514,-0.04828965663909912,-0.0005646347999572754,-0.06847116351127625,-0.0498509407043457,-0.055272579193115234,-0.0672667920589447,-0.08680522441864014,-0.07706668972969055,-0.09173236787319183,-0.06716287136077881,-0.10419650375843048,-0.07366755604743958,-0.06950515508651733,-0.06802359223365784,-0.0566883385181427,-0.075767382979393,-0.07412388920783997,-0.039387404918670654,-0.06178775429725647,-0.071186363697052,-0.075786292552948,-0.06283441185951233,-0.08813053369522095,-0.09753730893135071,-0.08557167649269104,-0.048566848039627075,-0.11805051565170288,-0.10257366299629211,-0.04409363865852356,-0.025722846388816833,-0.06787845492362976,-0.07528240978717804,-0.05075393617153168,-0.045836031436920166,-0.09758466482162476,-0.02113814651966095,-0.0457000732421875,-0.08029496669769287,-0.011166051030158997,-0.13873925805091858,-0.1475347876548767,-0.04815414547920227,-0.08836522698402405,-0.049639731645584106,-0.01642972230911255,-0.09169569611549377,-0.08277878165245056,-0.061592310667037964,-0.02980944514274597,-0.05644157528877258,-0.059127241373062134,-0.06399324536323547,-0.06992943584918976,-0.06627491116523743,-0.06745746731758118,-0.0901491641998291,-0.08617296814918518,-0.09177637100219727,-0.010293230414390564,-0.09776932001113892,-0.09113715589046478,-0.06413207948207855,-0.0395236611366272,-0.09294196963310242,-0.053360968828201294,-0.06827634572982788,-0.08107271790504456,-0.05605590343475342,-0.06996402144432068,-0.09127214550971985,-0.07013557851314545,-0.072562575340271,-0.06798121333122253,-0.07826727628707886,-0.04574236273765564,-0.10449907183647156,-0.057814329862594604,-0.07926690578460693,-0.09846144914627075,-0.04919421672821045,-0.07500596344470978,-0.09991520643234253,-0.06880900263786316,-0.048929840326309204,-0.0910276472568512,-0.07331947982311249,-0.06744872033596039,-0.06966254115104675,-0.06101630628108978,-0.12268367409706116,-0.06313836574554443,-0.09047956764698029,-0.10540544986724854,-0.08014853298664093,-0.08096489310264587,-0.12288013100624084,-0.12442845106124878,-0.0415530800819397,-0.044941648840904236,-0.12120810151100159,-0.09135375916957855,-0.07899811863899231,-0.07408678531646729,-0.12017878890037537,-0.07172921299934387,-0.06988212466239929,-0.07125350832939148,-0.07211512327194214,-0.09902477264404297,-0.0894121527671814,-0.06572109460830688,-0.09821212291717529,-0.10057555139064789,-0.09213808178901672,-0.08192446827888489,-0.095834881067276,-0.08591550588607788,-0.04413667321205139,-0.02665582299232483,-0.05213859677314758,-0.09830915927886963,-0.11014711856842041,-0.04169279336929321,-0.054518163204193115,-0.07611659169197083,-0.09252287447452545,-0.0688566267490387,-0.08929942548274994,-0.0612645149230957,-0.09362174570560455,-0.0482822060585022,-0.14969167113304138,-0.08285430073738098,-0.05278944969177246,-0.08768276870250702,-0.10570093989372253,-0.12846744060516357,-0.06322428584098816,-0.08841796219348907,-0.07014024257659912,-0.07214196026325226,-0.07756537199020386,-0.0493653267621994,-0.09991276264190674,-0.06141628324985504,-0.08975797891616821,-0.11238604784011841,-0.0986962616443634,-0.0854058712720871,-0.06300133466720581,-0.05157849192619324,-0.08415420353412628,-0.12232023477554321,-0.07219025492668152,-0.12669914960861206,-0.06601351499557495,-0.0984637439250946,-0.01625758409500122,-0.11508810520172119,-0.11084437370300293,-0.12421703338623047,-0.09185782074928284,-0.11377111077308655,-0.11395600438117981,-0.10854515433311462,-0.09609118103981018,-0.09243747591972351,-0.0685819685459137,-0.08326241374015808,-0.08046239614486694,-0.033571600914001465,-0.0658421516418457,-0.08562198281288147,-0.04129454493522644,-0.08672699332237244,-0.09812816977500916,-0.07273322343826294,-0.08846597373485565,-0.09958261251449585,-0.10635939240455627,-0.12070363759994507,-0.09820377826690674,-0.11093243956565857,-0.09330394864082336,-0.05269685387611389,-0.10131354629993439,-0.0811452567577362,-0.09806045889854431,-0.09146508574485779,-0.10533863306045532,-0.08229956030845642,-0.09594298899173737,-0.07972772419452667,-0.06634655594825745,-0.0780726820230484,-0.09142091870307922,-0.08920308947563171,-0.08311934769153595,-0.11193014681339264,-0.09539854526519775,-0.09711071848869324,-0.09280350804328918,-0.11504578590393066,-0.07678507268428802,-0.0841822624206543,-0.10378697514533997,-0.1017407476902008,-0.10145586729049683,-0.1162465512752533,-0.08749596774578094,-0.09515683352947235,-0.08119411766529083,-0.09396803379058838,-0.07807448506355286,-0.10370790958404541,-0.05976523458957672,-0.061846256256103516,-0.09011600911617279,-0.15559986233711243,-0.11769574880599976,-0.11253872513771057,-0.08933049440383911,-0.10323354601860046,-0.09684310853481293,-0.08853039145469666,-0.0980355441570282,-0.07826727628707886,-0.11056344211101532,-0.06040549278259277,-0.13707393407821655,-0.10111162066459656,-0.07977348566055298,-0.09857204556465149,-0.09372557699680328,-0.09057199954986572,-0.0671219527721405,-0.1152365505695343,-0.11788538098335266,-0.07397869229316711,-0.14001676440238953,-0.0895891785621643,-0.08598050475120544,-0.09687000513076782,-0.07364185154438019,-0.10097256302833557,-0.10811695456504822,-0.11446550488471985,-0.1412348449230194,-0.0818757563829422,-0.12451368570327759,-0.11354407668113708,-0.07379576563835144,-0.13161545991897583,-0.059074074029922485,-0.06632398068904877,-0.06788024306297302,-0.04759232699871063,-0.08037206530570984,-0.09680745005607605,-0.07205185294151306,-0.09945210814476013,-0.12293684482574463,-0.0881199836730957,-0.08312128484249115,-0.09724162518978119,-0.11395001411437988,-0.12228095531463623,-0.11145225167274475,-0.07820506393909454,-0.10515868663787842,-0.11896964907646179,-0.1442805528640747,-0.10469487309455872,-0.13301005959510803,-0.06862695515155792,-0.09090757369995117,-0.10073798894882202,-0.103130042552948,-0.09762570261955261,-0.06049305200576782,-0.08984865248203278,-0.09435680508613586,-0.12321847677230835,-0.08672593533992767,-0.084723562002182,-0.09495502710342407,-0.1457555890083313,-0.12175452709197998,-0.09125101566314697,-0.09648677706718445,-0.10289996862411499,-0.08388498425483704,-0.09772224724292755,-0.09061436355113983,-0.10845628380775452,-0.10387814044952393,-0.12721282243728638,-0.09704476594924927,-0.11356356739997864,-0.08174976706504822,-0.06590837240219116,-0.12135997414588928,-0.10432915389537811,-0.10510003566741943,-0.1013055294752121,-0.09580868482589722,-0.1602289080619812,-0.08708338439464569,-0.13416633009910583,-0.09802967309951782,-0.09968896210193634,-0.11924317479133606,-0.07102131843566895,-0.07823768258094788,-0.0755680501461029,-0.10131354629993439,-0.08916957676410675,-0.09545323252677917,-0.10854591429233551,-0.13006815314292908,-0.07263410091400146,-0.08242148160934448,-0.07998161017894745,-0.09686517715454102,-0.10825338959693909,-0.08483591675758362,-0.09083947539329529,-0.15682432055473328,-0.09658822417259216,-0.1161988377571106,-0.09426988661289215,-0.08785969018936157,-0.0848328173160553,-0.0837814211845398,-0.1106652319431305,-0.09694299101829529,-0.08243390917778015,-0.0884687751531601,-0.09806481003761292,-0.1556020975112915,-0.09680795669555664,-0.1289609968662262,-0.12492862343788147,-0.09791287779808044,-0.11604177951812744,-0.0753059834241867,-0.09257885813713074,-0.07492049038410187,-0.07157091796398163,-0.1313190758228302,-0.1351701319217682,-0.07930947840213776,-0.12464287877082825,-0.05955834686756134,-0.1250109076499939,-0.07753479480743408,-0.09122210741043091,-0.11914344131946564,-0.09598459303379059,-0.09863695502281189,-0.11435888707637787,-0.08599114418029785,-0.08705142140388489,-0.1184006929397583,-0.09799268841743469,-0.10830631852149963,-0.1288500428199768,-0.13553303480148315,-0.11612449586391449,-0.1388116478919983,-0.08167029917240143,-0.09658822417259216,-0.1328568458557129,-0.09040221571922302,-0.07441192865371704,-0.11494848132133484,-0.07328625023365021,-0.12034390866756439,-0.10429291427135468,-0.11121128499507904,-0.07514573633670807,-0.1036638617515564,-0.10992762446403503,-0.07053422927856445,-0.09072619676589966,-0.13424113392829895,-0.1516883373260498,-0.13822287321090698,-0.14705950021743774,-0.08830070495605469,-0.12104973196983337,-0.0741209089756012,-0.11516985297203064,-0.12211394309997559,-0.12479326128959656,-0.06209476292133331,-0.13366493582725525,-0.10056298971176147,-0.1272622048854828,-0.09662538766860962,-0.15525266528129578,-0.07211579382419586,-0.12990912795066833,-0.09990088641643524,-0.1345309317111969,-0.12672412395477295,-0.1474791169166565,-0.09275360405445099,-0.09577906131744385,-0.07678340375423431,-0.0992581844329834,-0.11772814393043518,-0.07172514498233795,-0.10573002696037292,-0.06360486149787903,-0.12057995796203613,-0.10913725197315216,-0.0629645586013794,-0.07931861281394958,-0.14073920249938965,-0.0923101156949997,-0.0845617949962616,-0.10912209749221802,-0.11193236708641052,-0.10387621819972992,-0.025177568197250366,-0.08198295533657074,-0.1075599193572998,-0.07951274514198303,-0.1518552303314209,-0.07697340846061707,-0.06923931837081909,-0.10569676756858826,-0.09022009372711182,-0.12767446041107178,-0.09736424684524536,-0.15097665786743164,-0.07402393221855164,-0.09576837718486786,-0.1014695018529892,-0.11577743291854858,-0.11365744471549988,-0.09545323252677917,-0.0832606852054596,-0.15390610694885254,-0.09120368957519531,-0.10258510708808899,-0.08909623324871063,-0.0839519053697586,-0.1155242919921875,-0.0726594477891922,-0.023738324642181396,-0.06982626020908356,-0.09368918836116791,-0.12227383255958557,-0.1539572775363922,-0.09263083338737488,-0.13392415642738342,-0.09788388013839722,-0.0974002480506897,-0.14444610476493835,-0.053562819957733154,-0.10452958941459656,-0.10707670450210571,-0.051617592573165894,-0.07705383002758026,-0.13654789328575134,-0.10209435224533081,-0.09845420718193054,-0.10455197095870972,-0.07779492437839508,-0.11559505760669708,-0.12396553158760071,-0.14636701345443726,-0.09321969747543335,-0.09057532250881195,-0.15398100018501282,-0.11954736709594727,-0.08246512711048126,-0.09057532250881195,-0.10657119750976562,-0.10894331336021423,-0.11676877737045288,-0.08679263293743134,-0.096286341547966,-0.07714368402957916,-0.13271823525428772,-0.07607656717300415,-0.085669606924057,-0.07492591440677643,-0.10091273486614227,-0.10538192093372345,-0.08753840625286102,-0.10266079008579254,-0.09962618350982666,-0.09315843880176544,-0.08202505111694336,-0.08740741014480591,-0.093860924243927,-0.10259708762168884,-0.09089840948581696,-0.08815330266952515,-0.13416633009910583,-0.09267345070838928,-0.10302488505840302,-0.08548155426979065,-0.1011713445186615,-0.11767283082008362,-0.08512794971466064,-0.13443413376808167,-0.08845780789852142,-0.12324228882789612,-0.08666348457336426,-0.07225710153579712,-0.10321265459060669,-0.14543458819389343,-0.09259380400180817,-0.11705067753791809,-0.08979335427284241,-0.08937758207321167,-0.13000574707984924,-0.07826727628707886,-0.07370227575302124,-0.06654110550880432,-0.08244837820529938,-0.10460668802261353,-0.09646590054035187,-0.09954148530960083,-0.07031086087226868,-0.09564009308815002,-0.07373777031898499,-0.08562375605106354,-0.06818141043186188,-0.1184006929397583,-0.074816033244133,-0.09107846021652222,-0.08847804367542267,-0.0457974374294281,-0.0728229284286499,-0.13882598280906677,-0.09958389401435852,-0.07604914903640747,-0.08614742755889893,-0.09932450950145721,-0.1391594111919403,-0.0918373167514801,-0.14300349354743958,-0.15138405561447144,-0.14895737171173096,-0.1350679099559784,-0.09966060519218445,-0.09400872886180878,-0.07251870632171631,-0.12718170881271362,-0.07765600085258484,-0.10322970151901245,-0.09531192481517792,-0.09020544588565826,-0.09041288495063782,-0.09536179900169373,-0.09145227074623108,-0.10234761238098145,-0.09822709858417511,-0.09506314992904663,-0.12707895040512085,-0.12707895040512085,-0.12707895040512085,-0.08928634226322174,-0.07714280486106873,-0.11355504393577576,-0.14151963591575623,-0.09123879671096802,-0.1080414205789566,-0.06600351631641388,-0.08398781716823578,-0.12349966168403625,-0.013617485761642456,-0.11269621551036835,-0.10510841012001038,-0.09133127331733704,-0.10510841012001038,-0.06253015995025635,-0.06604047119617462,-0.08410152792930603,-0.14244911074638367,-0.1074153482913971,-0.06253013014793396,-0.1011713445186615,-0.09226329624652863,-0.13032934069633484,-0.12583601474761963,-0.11073684692382812,-0.09006860852241516,-0.08293464779853821,-0.065813347697258,-0.07969500124454498,-0.0840638130903244,-0.10035103559494019,-0.09802630543708801,-0.14105448126792908,-0.0698513388633728,-0.1415722370147705,-0.08707098662853241,-0.14543458819389343,-0.12656170129776,-0.1074572503566742,-0.0799361914396286,-0.10992762446403503,-0.15097665786743164,-0.09014034271240234],\"type\":\"histogram\"}],                        {\"template\":{\"data\":{\"histogram2dcontour\":[{\"type\":\"histogram2dcontour\",\"colorbar\":{\"outlinewidth\":0,\"ticks\":\"\"},\"colorscale\":[[0.0,\"#0d0887\"],[0.1111111111111111,\"#46039f\"],[0.2222222222222222,\"#7201a8\"],[0.3333333333333333,\"#9c179e\"],[0.4444444444444444,\"#bd3786\"],[0.5555555555555556,\"#d8576b\"],[0.6666666666666666,\"#ed7953\"],[0.7777777777777778,\"#fb9f3a\"],[0.8888888888888888,\"#fdca26\"],[1.0,\"#f0f921\"]]}],\"choropleth\":[{\"type\":\"choropleth\",\"colorbar\":{\"outlinewidth\":0,\"ticks\":\"\"}}],\"histogram2d\":[{\"type\":\"histogram2d\",\"colorbar\":{\"outlinewidth\":0,\"ticks\":\"\"},\"colorscale\":[[0.0,\"#0d0887\"],[0.1111111111111111,\"#46039f\"],[0.2222222222222222,\"#7201a8\"],[0.3333333333333333,\"#9c179e\"],[0.4444444444444444,\"#bd3786\"],[0.5555555555555556,\"#d8576b\"],[0.6666666666666666,\"#ed7953\"],[0.7777777777777778,\"#fb9f3a\"],[0.8888888888888888,\"#fdca26\"],[1.0,\"#f0f921\"]]}],\"heatmap\":[{\"type\":\"heatmap\",\"colorbar\":{\"outlinewidth\":0,\"ticks\":\"\"},\"colorscale\":[[0.0,\"#0d0887\"],[0.1111111111111111,\"#46039f\"],[0.2222222222222222,\"#7201a8\"],[0.3333333333333333,\"#9c179e\"],[0.4444444444444444,\"#bd3786\"],[0.5555555555555556,\"#d8576b\"],[0.6666666666666666,\"#ed7953\"],[0.7777777777777778,\"#fb9f3a\"],[0.8888888888888888,\"#fdca26\"],[1.0,\"#f0f921\"]]}],\"heatmapgl\":[{\"type\":\"heatmapgl\",\"colorbar\":{\"outlinewidth\":0,\"ticks\":\"\"},\"colorscale\":[[0.0,\"#0d0887\"],[0.1111111111111111,\"#46039f\"],[0.2222222222222222,\"#7201a8\"],[0.3333333333333333,\"#9c179e\"],[0.4444444444444444,\"#bd3786\"],[0.5555555555555556,\"#d8576b\"],[0.6666666666666666,\"#ed7953\"],[0.7777777777777778,\"#fb9f3a\"],[0.8888888888888888,\"#fdca26\"],[1.0,\"#f0f921\"]]}],\"contourcarpet\":[{\"type\":\"contourcarpet\",\"colorbar\":{\"outlinewidth\":0,\"ticks\":\"\"}}],\"contour\":[{\"type\":\"contour\",\"colorbar\":{\"outlinewidth\":0,\"ticks\":\"\"},\"colorscale\":[[0.0,\"#0d0887\"],[0.1111111111111111,\"#46039f\"],[0.2222222222222222,\"#7201a8\"],[0.3333333333333333,\"#9c179e\"],[0.4444444444444444,\"#bd3786\"],[0.5555555555555556,\"#d8576b\"],[0.6666666666666666,\"#ed7953\"],[0.7777777777777778,\"#fb9f3a\"],[0.8888888888888888,\"#fdca26\"],[1.0,\"#f0f921\"]]}],\"surface\":[{\"type\":\"surface\",\"colorbar\":{\"outlinewidth\":0,\"ticks\":\"\"},\"colorscale\":[[0.0,\"#0d0887\"],[0.1111111111111111,\"#46039f\"],[0.2222222222222222,\"#7201a8\"],[0.3333333333333333,\"#9c179e\"],[0.4444444444444444,\"#bd3786\"],[0.5555555555555556,\"#d8576b\"],[0.6666666666666666,\"#ed7953\"],[0.7777777777777778,\"#fb9f3a\"],[0.8888888888888888,\"#fdca26\"],[1.0,\"#f0f921\"]]}],\"mesh3d\":[{\"type\":\"mesh3d\",\"colorbar\":{\"outlinewidth\":0,\"ticks\":\"\"}}],\"scatter\":[{\"fillpattern\":{\"fillmode\":\"overlay\",\"size\":10,\"solidity\":0.2},\"type\":\"scatter\"}],\"parcoords\":[{\"type\":\"parcoords\",\"line\":{\"colorbar\":{\"outlinewidth\":0,\"ticks\":\"\"}}}],\"scatterpolargl\":[{\"type\":\"scatterpolargl\",\"marker\":{\"colorbar\":{\"outlinewidth\":0,\"ticks\":\"\"}}}],\"bar\":[{\"error_x\":{\"color\":\"#2a3f5f\"},\"error_y\":{\"color\":\"#2a3f5f\"},\"marker\":{\"line\":{\"color\":\"#E5ECF6\",\"width\":0.5},\"pattern\":{\"fillmode\":\"overlay\",\"size\":10,\"solidity\":0.2}},\"type\":\"bar\"}],\"scattergeo\":[{\"type\":\"scattergeo\",\"marker\":{\"colorbar\":{\"outlinewidth\":0,\"ticks\":\"\"}}}],\"scatterpolar\":[{\"type\":\"scatterpolar\",\"marker\":{\"colorbar\":{\"outlinewidth\":0,\"ticks\":\"\"}}}],\"histogram\":[{\"marker\":{\"pattern\":{\"fillmode\":\"overlay\",\"size\":10,\"solidity\":0.2}},\"type\":\"histogram\"}],\"scattergl\":[{\"type\":\"scattergl\",\"marker\":{\"colorbar\":{\"outlinewidth\":0,\"ticks\":\"\"}}}],\"scatter3d\":[{\"type\":\"scatter3d\",\"line\":{\"colorbar\":{\"outlinewidth\":0,\"ticks\":\"\"}},\"marker\":{\"colorbar\":{\"outlinewidth\":0,\"ticks\":\"\"}}}],\"scattermapbox\":[{\"type\":\"scattermapbox\",\"marker\":{\"colorbar\":{\"outlinewidth\":0,\"ticks\":\"\"}}}],\"scatterternary\":[{\"type\":\"scatterternary\",\"marker\":{\"colorbar\":{\"outlinewidth\":0,\"ticks\":\"\"}}}],\"scattercarpet\":[{\"type\":\"scattercarpet\",\"marker\":{\"colorbar\":{\"outlinewidth\":0,\"ticks\":\"\"}}}],\"carpet\":[{\"aaxis\":{\"endlinecolor\":\"#2a3f5f\",\"gridcolor\":\"white\",\"linecolor\":\"white\",\"minorgridcolor\":\"white\",\"startlinecolor\":\"#2a3f5f\"},\"baxis\":{\"endlinecolor\":\"#2a3f5f\",\"gridcolor\":\"white\",\"linecolor\":\"white\",\"minorgridcolor\":\"white\",\"startlinecolor\":\"#2a3f5f\"},\"type\":\"carpet\"}],\"table\":[{\"cells\":{\"fill\":{\"color\":\"#EBF0F8\"},\"line\":{\"color\":\"white\"}},\"header\":{\"fill\":{\"color\":\"#C8D4E3\"},\"line\":{\"color\":\"white\"}},\"type\":\"table\"}],\"barpolar\":[{\"marker\":{\"line\":{\"color\":\"#E5ECF6\",\"width\":0.5},\"pattern\":{\"fillmode\":\"overlay\",\"size\":10,\"solidity\":0.2}},\"type\":\"barpolar\"}],\"pie\":[{\"automargin\":true,\"type\":\"pie\"}]},\"layout\":{\"autotypenumbers\":\"strict\",\"colorway\":[\"#636efa\",\"#EF553B\",\"#00cc96\",\"#ab63fa\",\"#FFA15A\",\"#19d3f3\",\"#FF6692\",\"#B6E880\",\"#FF97FF\",\"#FECB52\"],\"font\":{\"color\":\"#2a3f5f\"},\"hovermode\":\"closest\",\"hoverlabel\":{\"align\":\"left\"},\"paper_bgcolor\":\"white\",\"plot_bgcolor\":\"#E5ECF6\",\"polar\":{\"bgcolor\":\"#E5ECF6\",\"angularaxis\":{\"gridcolor\":\"white\",\"linecolor\":\"white\",\"ticks\":\"\"},\"radialaxis\":{\"gridcolor\":\"white\",\"linecolor\":\"white\",\"ticks\":\"\"}},\"ternary\":{\"bgcolor\":\"#E5ECF6\",\"aaxis\":{\"gridcolor\":\"white\",\"linecolor\":\"white\",\"ticks\":\"\"},\"baxis\":{\"gridcolor\":\"white\",\"linecolor\":\"white\",\"ticks\":\"\"},\"caxis\":{\"gridcolor\":\"white\",\"linecolor\":\"white\",\"ticks\":\"\"}},\"coloraxis\":{\"colorbar\":{\"outlinewidth\":0,\"ticks\":\"\"}},\"colorscale\":{\"sequential\":[[0.0,\"#0d0887\"],[0.1111111111111111,\"#46039f\"],[0.2222222222222222,\"#7201a8\"],[0.3333333333333333,\"#9c179e\"],[0.4444444444444444,\"#bd3786\"],[0.5555555555555556,\"#d8576b\"],[0.6666666666666666,\"#ed7953\"],[0.7777777777777778,\"#fb9f3a\"],[0.8888888888888888,\"#fdca26\"],[1.0,\"#f0f921\"]],\"sequentialminus\":[[0.0,\"#0d0887\"],[0.1111111111111111,\"#46039f\"],[0.2222222222222222,\"#7201a8\"],[0.3333333333333333,\"#9c179e\"],[0.4444444444444444,\"#bd3786\"],[0.5555555555555556,\"#d8576b\"],[0.6666666666666666,\"#ed7953\"],[0.7777777777777778,\"#fb9f3a\"],[0.8888888888888888,\"#fdca26\"],[1.0,\"#f0f921\"]],\"diverging\":[[0,\"#8e0152\"],[0.1,\"#c51b7d\"],[0.2,\"#de77ae\"],[0.3,\"#f1b6da\"],[0.4,\"#fde0ef\"],[0.5,\"#f7f7f7\"],[0.6,\"#e6f5d0\"],[0.7,\"#b8e186\"],[0.8,\"#7fbc41\"],[0.9,\"#4d9221\"],[1,\"#276419\"]]},\"xaxis\":{\"gridcolor\":\"white\",\"linecolor\":\"white\",\"ticks\":\"\",\"title\":{\"standoff\":15},\"zerolinecolor\":\"white\",\"automargin\":true,\"zerolinewidth\":2},\"yaxis\":{\"gridcolor\":\"white\",\"linecolor\":\"white\",\"ticks\":\"\",\"title\":{\"standoff\":15},\"zerolinecolor\":\"white\",\"automargin\":true,\"zerolinewidth\":2},\"scene\":{\"xaxis\":{\"backgroundcolor\":\"#E5ECF6\",\"gridcolor\":\"white\",\"linecolor\":\"white\",\"showbackground\":true,\"ticks\":\"\",\"zerolinecolor\":\"white\",\"gridwidth\":2},\"yaxis\":{\"backgroundcolor\":\"#E5ECF6\",\"gridcolor\":\"white\",\"linecolor\":\"white\",\"showbackground\":true,\"ticks\":\"\",\"zerolinecolor\":\"white\",\"gridwidth\":2},\"zaxis\":{\"backgroundcolor\":\"#E5ECF6\",\"gridcolor\":\"white\",\"linecolor\":\"white\",\"showbackground\":true,\"ticks\":\"\",\"zerolinecolor\":\"white\",\"gridwidth\":2}},\"shapedefaults\":{\"line\":{\"color\":\"#2a3f5f\"}},\"annotationdefaults\":{\"arrowcolor\":\"#2a3f5f\",\"arrowhead\":0,\"arrowwidth\":1},\"geo\":{\"bgcolor\":\"white\",\"landcolor\":\"#E5ECF6\",\"subunitcolor\":\"white\",\"showland\":true,\"showlakes\":true,\"lakecolor\":\"white\"},\"title\":{\"x\":0.05},\"mapbox\":{\"style\":\"light\"}}},\"title\":{\"text\":\"Distribution of Difference In Nuclear Norms - GMI vs GMI+XM\"},\"xaxis\":{\"title\":{\"text\":\"Difference In Nuclear Norms - GMI vs GMI+XM\"}},\"yaxis\":{\"title\":{\"text\":\"Frequency\"}},\"font\":{\"size\":30},\"plot_bgcolor\":\"white\",\"paper_bgcolor\":\"white\"},                        {\"responsive\": true}                    ).then(function(){\n",
       "                            \n",
       "var gd = document.getElementById('87568773-625f-41d7-bf0d-b0ded140d6d2');\n",
       "var x = new MutationObserver(function (mutations, observer) {{\n",
       "        var display = window.getComputedStyle(gd).display;\n",
       "        if (!display || display === 'none') {{\n",
       "            console.log([gd, 'removed!']);\n",
       "            Plotly.purge(gd);\n",
       "            observer.disconnect();\n",
       "        }}\n",
       "}});\n",
       "\n",
       "// Listen for the removal of the full notebook cells\n",
       "var notebookContainer = gd.closest('#notebook-container');\n",
       "if (notebookContainer) {{\n",
       "    x.observe(notebookContainer, {childList: true});\n",
       "}}\n",
       "\n",
       "// Listen for the clearing of the current output cell\n",
       "var outputEl = gd.closest('.output');\n",
       "if (outputEl) {{\n",
       "    x.observe(outputEl, {childList: true});\n",
       "}}\n",
       "\n",
       "                        })                };                });            </script>        </div>"
      ]
     },
     "metadata": {},
     "output_type": "display_data"
    }
   ],
   "source": [
    "diff = np.array(norm_og) - np.array(norm_plus)\n",
    "fig = go.Figure()\n",
    "fig.add_trace(go.Histogram(x = diff))\n",
    "fig.update_layout(title_text = 'Distribution of Difference In Nuclear Norms - GMI vs GMI+XM', \n",
    "                  xaxis_title_text = 'Difference In Nuclear Norms - GMI vs GMI+XM', \n",
    "                  yaxis_title_text = 'Frequency', \n",
    "                  plot_bgcolor = 'white', \n",
    "                  paper_bgcolor = 'white', \n",
    "                  font = dict(size = 30))\n",
    "fig.show()"
   ]
  },
  {
   "cell_type": "code",
   "execution_count": 116,
   "id": "771d731e",
   "metadata": {},
   "outputs": [
    {
     "data": {
      "application/vnd.plotly.v1+json": {
       "config": {
        "plotlyServerURL": "https://plot.ly"
       },
       "data": [
        {
         "name": "GMI",
         "type": "histogram",
         "x": [
          0.2992989718914032,
          0.31459951400756836,
          0.24257361888885498,
          0.24505798518657684,
          0.2596628665924072,
          0.230054572224617,
          0.27501875162124634,
          0.26081088185310364,
          0.25809410214424133,
          0.26359063386917114,
          0.28376078605651855,
          0.2777339518070221,
          0.2982722818851471,
          0.28509292006492615,
          0.3083590567111969,
          0.25967487692832947,
          0.310798704624176,
          0.278937429189682,
          0.35276874899864197,
          0.2744678258895874,
          0.27801868319511414,
          0.2660616636276245,
          0.27951714396476746,
          0.2557229697704315,
          0.23061977326869965,
          0.24309511482715607,
          0.24165210127830505,
          0.249785915017128,
          0.25567319989204407,
          0.2606792449951172,
          0.26176658272743225,
          0.2666630148887634,
          0.23161567747592926,
          0.2452249974012375,
          0.21001052856445312,
          0.28149786591529846,
          0.2666293978691101,
          0.26583167910575867,
          0.2698615789413452,
          0.2578161954879761,
          0.25693854689598083,
          0.2820221483707428,
          0.28453075885772705,
          0.2275085598230362,
          0.26026734709739685,
          0.2669762670993805,
          0.25045958161354065,
          0.2599654197692871,
          0.25077393651008606,
          0.25998160243034363,
          0.25706082582473755,
          0.3175128996372223,
          0.3411754071712494,
          0.34250202775001526,
          0.23169837892055511,
          0.2436770796775818,
          0.22554177045822144,
          0.252018004655838,
          0.25290149450302124,
          0.22418738901615143,
          0.24765142798423767,
          0.3271558880805969,
          0.25859224796295166,
          0.2707098424434662,
          0.3047667145729065,
          0.24552854895591736,
          0.24428482353687286,
          0.2629108428955078,
          0.2754654586315155,
          0.27096009254455566,
          0.26653382182121277,
          0.2350645810365677,
          0.2767602801322937,
          0.3088876008987427,
          0.3519556224346161,
          0.2548496127128601,
          0.22389939427375793,
          0.26080432534217834,
          0.2557305097579956,
          0.2864567041397095,
          0.27690404653549194,
          0.2575686275959015,
          0.23901976644992828,
          0.2596449851989746,
          0.32127809524536133,
          0.3760271370410919,
          0.26141729950904846,
          0.2854187488555908,
          0.2330663502216339,
          0.22034351527690887,
          0.27018341422080994,
          0.25591403245925903,
          0.3343133330345154,
          0.2764577269554138,
          0.2714841067790985,
          0.29029834270477295,
          0.22639711201190948,
          0.22913135588169098,
          0.2529528737068176,
          0.24274104833602905,
          0.2643387019634247,
          0.25011706352233887,
          0.25135698914527893,
          0.2792757749557495,
          0.23640379309654236,
          0.2743369936943054,
          0.2748429775238037,
          0.23946943879127502,
          0.24953101575374603,
          0.29024213552474976,
          0.21217939257621765,
          0.20966529846191406,
          0.27465569972991943,
          0.30720090866088867,
          0.26101627945899963,
          0.28173214197158813,
          0.2782782018184662,
          0.2863362431526184,
          0.3207870125770569,
          0.2555457055568695,
          0.3018476665019989,
          0.22004754841327667,
          0.30698737502098083,
          0.30357828736305237,
          0.25526878237724304,
          0.23413792252540588,
          0.2550238072872162,
          0.31481385231018066,
          0.26903441548347473,
          0.2779195308685303,
          0.28333041071891785,
          0.272022008895874,
          0.2525613307952881,
          0.24919269979000092,
          0.30538588762283325,
          0.25017210841178894,
          0.21496239304542542,
          0.25222617387771606,
          0.22666186094284058,
          0.2554418742656708,
          0.2455180138349533,
          0.2961396276950836,
          0.25514718890190125,
          0.3005826473236084,
          0.23143598437309265,
          0.27747225761413574,
          0.32884618639945984,
          0.2808573842048645,
          0.31053364276885986,
          0.2901948392391205,
          0.26655617356300354,
          0.25850343704223633,
          0.24809503555297852,
          0.23911195993423462,
          0.24357441067695618,
          0.27080461382865906,
          0.30446502566337585,
          0.28606781363487244,
          0.2698935270309448,
          0.2531742751598358,
          0.18127208948135376,
          0.2781817317008972,
          0.3138866424560547,
          0.2657390534877777,
          0.28824955224990845,
          0.2545660436153412,
          0.19799357652664185,
          0.2346685826778412,
          0.3307809829711914,
          0.2714172303676605,
          0.291218101978302,
          0.2630513608455658,
          0.3098592162132263,
          0.2846878170967102,
          0.26174700260162354,
          0.23932400345802307,
          0.29754218459129333,
          0.31168559193611145,
          0.31077948212623596,
          0.29990464448928833,
          0.35231173038482666,
          0.25667116045951843,
          0.2540949881076813,
          0.26500847935676575,
          0.27648475766181946,
          0.23024022579193115,
          0.25222477316856384,
          0.2581617534160614,
          0.27156808972358704,
          0.26556065678596497,
          0.265010803937912,
          0.29680171608924866,
          0.21437087655067444,
          0.20358440279960632,
          0.23145246505737305,
          0.22328528761863708,
          0.25761300325393677,
          0.2727438807487488,
          0.2911613881587982,
          0.2885770797729492,
          0.24282509088516235,
          0.2877192497253418,
          0.26887691020965576,
          0.27358922362327576,
          0.2503651976585388,
          0.2687929570674896,
          0.2762228846549988,
          0.2716473937034607,
          0.26632198691368103,
          0.2482025921344757,
          0.25075677037239075,
          0.20213325321674347,
          0.2266884297132492,
          0.2941846549510956,
          0.30249732732772827,
          0.2999514937400818,
          0.24834804236888885,
          0.27138373255729675,
          0.2962424159049988,
          0.2703438997268677,
          0.3003472089767456,
          0.3211599886417389,
          0.30122116208076477,
          0.30808573961257935,
          0.29392653703689575,
          0.2825004756450653,
          0.2783055603504181,
          0.32303938269615173,
          0.2912522256374359,
          0.309040904045105,
          0.23929663002490997,
          0.31540390849113464,
          0.29283443093299866,
          0.2604939639568329,
          0.2571943700313568,
          0.24953322112560272,
          0.25742462277412415,
          0.25497448444366455,
          0.3002068102359772,
          0.27493155002593994,
          0.2397383451461792,
          0.24795007705688477,
          0.25201261043548584,
          0.30243104696273804,
          0.27463117241859436,
          0.2712242603302002,
          0.27729666233062744,
          0.23768295347690582,
          0.2935710847377777,
          0.2539621591567993,
          0.255888968706131,
          0.2508874833583832,
          0.22736114263534546,
          0.27002260088920593,
          0.27520960569381714,
          0.2986552119255066,
          0.2849045693874359,
          0.2722354829311371,
          0.2894051671028137,
          0.29877161979675293,
          0.2899453639984131,
          0.24775181710720062,
          0.3281194269657135,
          0.2807280123233795,
          0.26722222566604614,
          0.2722051441669464,
          0.29990023374557495,
          0.24810916185379028,
          0.2933763265609741,
          0.24277564883232117,
          0.27606818079948425,
          0.2672175467014313,
          0.2895861566066742,
          0.24672843515872955,
          0.24654696881771088,
          0.28635165095329285,
          0.3062402009963989,
          0.2629459798336029,
          0.3212790787220001,
          0.22504988312721252,
          0.2733883261680603,
          0.2595437467098236,
          0.23876109719276428,
          0.2259426862001419,
          0.27827486395835876,
          0.25675344467163086,
          0.24423953890800476,
          0.2655145525932312,
          0.2539771795272827,
          0.3235461711883545,
          0.2817516624927521,
          0.24957871437072754,
          0.3190099000930786,
          0.23990440368652344,
          0.24674423038959503,
          0.2951820194721222,
          0.2524692118167877,
          0.2732117474079132,
          0.29700425267219543,
          0.27213388681411743,
          0.2767631709575653,
          0.25757700204849243,
          0.25519490242004395,
          0.23637115955352783,
          0.24011825025081635,
          0.27492010593414307,
          0.3171599805355072,
          0.33252760767936707,
          0.25530457496643066,
          0.35497650504112244,
          0.32148975133895874,
          0.27762043476104736,
          0.2988622486591339,
          0.25571495294570923,
          0.2984636425971985,
          0.29132917523384094,
          0.32617276906967163,
          0.3354169428348541,
          0.2872754633426666,
          0.19756335020065308,
          0.252963662147522,
          0.25603511929512024,
          0.22206147015094757,
          0.2654799222946167,
          0.2891891896724701,
          0.28259041905403137,
          0.30787792801856995,
          0.2949690818786621,
          0.2614070475101471,
          0.2652047276496887,
          0.288429856300354,
          0.2779442071914673,
          0.25698792934417725,
          0.24679440259933472,
          0.20165570080280304,
          0.2186235934495926,
          0.2744489312171936,
          0.25032785534858704,
          0.2745138108730316,
          0.24576595425605774,
          0.2162560075521469,
          0.24725441634655,
          0.3044615685939789,
          0.2963985800743103,
          0.27541348338127136,
          0.3066410720348358,
          0.3062398135662079,
          0.34229809045791626,
          0.19292283058166504,
          0.3192727267742157,
          0.31107234954833984,
          0.2698635458946228,
          0.3057407736778259,
          0.25674381852149963,
          0.20109081268310547,
          0.2170931100845337,
          0.27007871866226196,
          0.2673672139644623,
          0.25402021408081055,
          0.271545946598053,
          0.2915666699409485,
          0.23572686314582825,
          0.27548059821128845,
          0.237237349152565,
          0.23432119190692902,
          0.31971731781959534,
          0.3384189009666443,
          0.25075823068618774,
          0.2886964678764343,
          0.2016107589006424,
          0.25717681646347046,
          0.2493709772825241,
          0.2795465886592865,
          0.3312101364135742,
          0.21850526332855225,
          0.24559786915779114,
          0.2578100264072418,
          0.19224344193935394,
          0.22173458337783813,
          0.25930407643318176,
          0.24648314714431763,
          0.2800242006778717,
          0.1880570650100708,
          0.1785561442375183,
          0.24540437757968903,
          0.21248474717140198,
          0.23790548741817474,
          0.2966272234916687,
          0.23212549090385437,
          0.29460838437080383,
          0.25413450598716736,
          0.22940196096897125,
          0.2247452735900879,
          0.2791350483894348,
          0.23578494787216187,
          0.278001606464386,
          0.19975188374519348,
          0.2673039734363556,
          0.18812531232833862,
          0.2588920593261719,
          0.28984329104423523,
          0.2568057179450989,
          0.2886212468147278,
          0.28485044836997986,
          0.2584228813648224,
          0.23450787365436554,
          0.2340901792049408,
          0.24515308439731598,
          0.22446276247501373,
          0.30188941955566406,
          0.2180461287498474,
          0.23095063865184784,
          0.2569228410720825,
          0.25784045457839966,
          0.19541876018047333,
          0.3789388835430145,
          0.2980218529701233,
          0.2595326006412506,
          0.26500582695007324,
          0.34265434741973877,
          0.19265875220298767,
          0.38393568992614746,
          0.2912418842315674,
          0.23676839470863342,
          0.28622516989707947,
          0.2595743238925934,
          0.2818426489830017,
          0.26212823390960693,
          0.23161055147647858,
          0.2310374677181244,
          0.2790882885456085,
          0.25547948479652405,
          0.19506391882896423,
          0.2810547351837158,
          0.24939481914043427,
          0.31942102313041687,
          0.18004699051380157,
          0.23991484940052032,
          0.24233251810073853,
          0.18284094333648682,
          0.3186521530151367,
          0.2880411148071289,
          0.2542341351509094,
          0.2637612521648407,
          0.2392539381980896,
          0.2781652808189392,
          0.2200835794210434,
          0.257106214761734,
          0.26275038719177246,
          0.28174862265586853,
          0.25502467155456543,
          0.26902931928634644,
          0.2515992522239685,
          0.24734845757484436,
          0.21715611219406128,
          0.2514379322528839,
          0.1662219911813736,
          0.31875941157341003,
          0.2777616083621979,
          0.26436781883239746,
          0.35957205295562744,
          0.23768948018550873,
          0.24353419244289398,
          0.21492114663124084,
          0.24829037487506866,
          0.32464104890823364,
          0.31715911626815796,
          0.24965156614780426,
          0.29677504301071167,
          0.2168198674917221,
          0.25447359681129456,
          0.3040914833545685,
          0.2724175751209259,
          0.3048546016216278,
          0.23801331222057343,
          0.2430519461631775,
          0.20346425473690033,
          0.19534793496131897,
          0.27748098969459534,
          0.29452604055404663,
          0.25344765186309814,
          0.25404396653175354,
          0.29930058121681213,
          0.2980431020259857,
          0.2818942368030548,
          0.28969302773475647,
          0.34084823727607727,
          0.28609707951545715,
          0.24552883207798004,
          0.29643598198890686,
          0.27664944529533386,
          0.2778703272342682,
          0.2526819109916687,
          0.2955295145511627,
          0.2298557162284851,
          0.2987739145755768,
          0.29402685165405273,
          0.29133403301239014,
          0.32754746079444885,
          0.26997753977775574,
          0.2239883840084076,
          0.23678331077098846,
          0.2162233293056488,
          0.2216809242963791,
          0.2511824369430542,
          0.2400568276643753,
          0.24447289109230042,
          0.33675718307495117,
          0.26609084010124207,
          0.25791627168655396,
          0.2472105473279953,
          0.3284444212913513,
          0.2754914164543152,
          0.2607242465019226,
          0.2135869711637497,
          0.28379368782043457,
          0.2157181352376938,
          0.2058841586112976,
          0.22744540870189667,
          0.2990509271621704,
          0.24804051220417023,
          0.2866646647453308,
          0.2398335337638855,
          0.3124196529388428,
          0.223371222615242,
          0.2745159864425659,
          0.2677280902862549,
          0.22781337797641754,
          0.2980818450450897,
          0.2659635841846466,
          0.30078744888305664,
          0.25721389055252075,
          0.2563686966896057,
          0.2998535633087158,
          0.24208906292915344,
          0.26804420351982117,
          0.30549919605255127,
          0.3884516954421997,
          0.29201626777648926,
          0.2569842040538788,
          0.25072357058525085,
          0.26378676295280457,
          0.24598664045333862,
          0.28023990988731384,
          0.276138573884964,
          0.23835515975952148,
          0.2572864592075348,
          0.21494805812835693,
          0.2787680923938751,
          0.30408236384391785,
          0.2406202256679535,
          0.27352264523506165,
          0.24361658096313477,
          0.22491438686847687,
          0.26393747329711914,
          0.27415621280670166,
          0.28488466143608093,
          0.25507187843322754,
          0.28706222772598267,
          0.22148022055625916,
          0.26221030950546265,
          0.24235014617443085,
          0.27454283833503723,
          0.30056700110435486,
          0.30614766478538513,
          0.26604002714157104,
          0.2516371011734009,
          0.2482573240995407,
          0.24598179757595062,
          0.2661074101924896,
          0.22745762765407562,
          0.2318299412727356,
          0.28316906094551086,
          0.22542287409305573,
          0.23790587484836578,
          0.23672586679458618,
          0.2512325346469879,
          0.2512505054473877,
          0.2634706199169159,
          0.22528325021266937,
          0.26971080899238586,
          0.26531872153282166,
          0.25919023156166077,
          0.21088862419128418,
          0.2983540892601013,
          0.2414371818304062,
          0.2350281924009323,
          0.2348891645669937,
          0.2524064779281616,
          0.2457635998725891,
          0.2281695306301117,
          0.23720966279506683,
          0.25742074847221375,
          0.1871640533208847,
          0.3586410582065582,
          0.25923940539360046,
          0.2986666262149811,
          0.21893346309661865,
          0.2523415982723236,
          0.2436387687921524,
          0.29802149534225464,
          0.2960772216320038,
          0.28174862265586853,
          0.2417314201593399,
          0.2602979242801666,
          0.2981266379356384,
          0.30972403287887573,
          0.271493136882782,
          0.21310561895370483,
          0.24948658049106598,
          0.2799474000930786,
          0.27443912625312805,
          0.32110464572906494,
          0.3086671531200409,
          0.32815176248550415,
          0.30890804529190063,
          0.1970537304878235,
          0.23790502548217773,
          0.21780046820640564,
          0.165790855884552,
          0.287994384765625,
          0.2559279501438141,
          0.29609593749046326,
          0.33911892771720886,
          0.1677553802728653,
          0.2716909945011139,
          0.2858563959598541,
          0.17362643778324127,
          0.2761066257953644,
          0.13947558403015137,
          0.1479141265153885,
          0.1602967381477356,
          0.16218963265419006,
          0.1966831386089325,
          0.2550724744796753,
          0.15468290448188782,
          0.28569313883781433,
          0.2719372510910034,
          0.2490413784980774,
          0.2356320470571518,
          0.24307681620121002,
          0.28050872683525085,
          0.3145034611225128,
          0.2956121563911438,
          0.1690998375415802,
          0.2519567012786865,
          0.2925010621547699,
          0.31794846057891846,
          0.27756279706954956,
          0.28499090671539307,
          0.2354738563299179,
          0.2896215617656708,
          0.2611783444881439,
          0.23219573497772217,
          0.26007694005966187,
          0.2336052656173706,
          0.24196060001850128,
          0.2465135157108307,
          0.30755460262298584,
          0.2459612339735031,
          0.24276763200759888,
          0.2867494821548462,
          0.3194790184497833,
          0.28814104199409485,
          0.2705273926258087,
          0.23829549551010132,
          0.26599347591400146,
          0.24180209636688232,
          0.2058287113904953,
          0.1798652857542038,
          0.27821412682533264,
          0.2751617133617401,
          0.27617621421813965,
          0.3096166253089905,
          0.2420293390750885,
          0.18384069204330444,
          0.2462739646434784,
          0.28066226840019226,
          0.22926796972751617,
          0.24649325013160706,
          0.24637316167354584,
          0.2559991478919983,
          0.32498443126678467,
          0.17435739934444427,
          0.31862205266952515,
          0.3054865002632141,
          0.2307863086462021,
          0.3417598307132721,
          0.2056230902671814,
          0.2508831322193146,
          0.26633498072624207,
          0.24235014617443085,
          0.17531146109104156,
          0.2535880208015442,
          0.24770386517047882,
          0.355783075094223,
          0.294670045375824,
          0.23271581530570984,
          0.16606174409389496,
          0.26728084683418274,
          0.314730167388916,
          0.1678183376789093,
          0.2618871033191681,
          0.3330175280570984,
          0.2591339647769928,
          0.28938573598861694,
          0.1960851103067398,
          0.24762392044067383,
          0.26439470052719116,
          0.18567782640457153,
          0.22438734769821167,
          0.28810951113700867,
          0.16439776122570038,
          0.21379251778125763,
          0.2552935779094696,
          0.31690695881843567,
          0.2652718126773834,
          0.2930036783218384,
          0.2986580431461334,
          0.2944517731666565,
          0.2924591898918152,
          0.16979773342609406,
          0.19815242290496826,
          0.2175239473581314,
          0.22144882380962372,
          0.27558955550193787,
          0.2725812494754791,
          0.18224404752254486,
          0.30325111746788025,
          0.14293338358402252,
          0.29697132110595703,
          0.2596037685871124,
          0.30562806129455566,
          0.24977822601795197,
          0.22153683006763458,
          0.21181416511535645,
          0.23492006957530975,
          0.2510775327682495,
          0.28323838114738464,
          0.2627125382423401,
          0.30168551206588745,
          0.2526400685310364,
          0.32357972860336304,
          0.268581360578537,
          0.24265603721141815,
          0.3006291389465332,
          0.19533993303775787,
          0.2591339647769928,
          0.3042832314968109,
          0.2554340362548828,
          0.1737854927778244,
          0.23957037925720215,
          0.20099012553691864,
          0.24664835631847382,
          0.24506230652332306,
          0.2360251098871231,
          0.21596325933933258,
          0.23442918062210083,
          0.2644834816455841,
          0.24155914783477783,
          0.30024102330207825,
          0.2877430319786072,
          0.3065052032470703,
          0.31329545378685,
          0.30999046564102173,
          0.1778722107410431,
          0.26749634742736816,
          0.21877071261405945,
          0.23339751362800598,
          0.29789915680885315,
          0.2748623490333557,
          0.21060331165790558,
          0.32343268394470215,
          0.23599249124526978,
          0.28946155309677124,
          0.21562603116035461,
          0.35314884781837463,
          0.1521100252866745,
          0.2786312997341156,
          0.20170538127422333,
          0.32424196600914,
          0.2911132872104645,
          0.32239195704460144,
          0.18293984234333038,
          0.20717954635620117,
          0.2083059400320053,
          0.250063419342041,
          0.24739667773246765,
          0.15623213350772858,
          0.22007164359092712,
          0.2433519959449768,
          0.3146809935569763,
          0.242142453789711,
          0.2849520742893219,
          0.2638112008571625,
          0.31250688433647156,
          0.23502327501773834,
          0.25075504183769226,
          0.24959877133369446,
          0.270173579454422,
          0.22034023702144623,
          0.3076328635215759,
          0.1641932874917984,
          0.3186604976654053,
          0.2544061243534088,
          0.3383256793022156,
          0.18566292524337769,
          0.20489227771759033,
          0.24307236075401306,
          0.2692328095436096,
          0.26629638671875,
          0.22417443990707397,
          0.3390180468559265,
          0.21801602840423584,
          0.20997019112110138,
          0.2268039435148239,
          0.2705255150794983,
          0.27784472703933716,
          0.2535880208015442,
          0.16773200035095215,
          0.31448447704315186,
          0.2384033203125,
          0.26002758741378784,
          0.17726178467273712,
          0.1892496794462204,
          0.22979551553726196,
          0.2267124503850937,
          0.1593165397644043,
          0.2301860898733139,
          0.18553145229816437,
          0.26716214418411255,
          0.30604833364486694,
          0.28277596831321716,
          0.33796969056129456,
          0.21877393126487732,
          0.20167216658592224,
          0.3012697696685791,
          0.25974974036216736,
          0.21430274844169617,
          0.24836578965187073,
          0.24819061160087585,
          0.22989521920681,
          0.3064662516117096,
          0.2565712034702301,
          0.22194594144821167,
          0.24210217595100403,
          0.17833121120929718,
          0.2280057817697525,
          0.25495460629463196,
          0.2938607633113861,
          0.2158452272415161,
          0.192484512925148,
          0.3435913026332855,
          0.30114319920539856,
          0.17398808896541595,
          0.192484512925148,
          0.24172082543373108,
          0.26546043157577515,
          0.2542121112346649,
          0.17664583027362823,
          0.22290833294391632,
          0.2311031073331833,
          0.29523324966430664,
          0.1507807970046997,
          0.2021692395210266,
          0.21866731345653534,
          0.228021040558815,
          0.242621049284935,
          0.21086548268795013,
          0.23424406349658966,
          0.1979813575744629,
          0.24711088836193085,
          0.16472437977790833,
          0.24804964661598206,
          0.19360727071762085,
          0.24251607060432434,
          0.17852233350276947,
          0.2632024884223938,
          0.2885141372680664,
          0.22321516275405884,
          0.23365961015224457,
          0.2647213041782379,
          0.22834992408752441,
          0.2665592432022095,
          0.18696925044059753,
          0.290780246257782,
          0.21141915023326874,
          0.2565550208091736,
          0.2520217299461365,
          0.2320522964000702,
          0.21885669231414795,
          0.3274533450603485,
          0.18441124260425568,
          0.24928516149520874,
          0.2815307676792145,
          0.25044602155685425,
          0.28112396597862244,
          0.28174862265586853,
          0.23894429206848145,
          0.21550637483596802,
          0.204633429646492,
          0.23446783423423767,
          0.22401215136051178,
          0.31015297770500183,
          0.18565121293067932,
          0.2210090458393097,
          0.2022150158882141,
          0.22241462767124176,
          0.1754586547613144,
          0.2627125382423401,
          0.19700004160404205,
          0.25368428230285645,
          0.24181430041790009,
          0.2807953357696533,
          0.2045426368713379,
          0.2810879349708557,
          0.22314801812171936,
          0.2865281105041504,
          0.20305326581001282,
          0.23138801753520966,
          0.2905658483505249,
          0.1811087429523468,
          0.3215600550174713,
          0.3249238431453705,
          0.32950571179389954,
          0.29704609513282776,
          0.22149375081062317,
          0.22419197857379913,
          0.17500470578670502,
          0.27787211537361145,
          0.21580910682678223,
          0.3777468204498291,
          0.23614563047885895,
          0.2046651989221573,
          0.2517479658126831,
          0.19829025864601135,
          0.21558955311775208,
          0.26041024923324585,
          0.23718266189098358,
          0.24810227751731873,
          0.28678813576698303,
          0.28678813576698303,
          0.28678813576698303,
          0.23996277153491974,
          0.2769511342048645,
          0.23784124851226807,
          0.3189883530139923,
          0.18370956182479858,
          0.22850124537944794,
          0.150806725025177,
          0.16786833107471466,
          0.26291847229003906,
          0.2283584475517273,
          0.23939092457294464,
          0.2586553394794464,
          0.20135223865509033,
          0.2586553394794464,
          0.20028892159461975,
          0.14870662987232208,
          0.17901986837387085,
          0.323959618806839,
          0.2737376391887665,
          0.20028892159461975,
          0.22834992408752441,
          0.18036974966526031,
          0.25741881132125854,
          0.2716156542301178,
          0.22399702668190002,
          0.21390759944915771,
          0.16759121417999268,
          0.14749544858932495,
          0.21557028591632843,
          0.16658760607242584,
          0.2615194618701935,
          0.22113850712776184,
          0.31442007422447205,
          0.2766217589378357,
          0.31208425760269165,
          0.18283666670322418,
          0.3274533450603485,
          0.2723960876464844,
          0.23292750120162964,
          0.18630351126194,
          0.2644834816455841,
          0.3390180468559265,
          0.20102477073669434
         ]
        },
        {
         "name": "GMI+XM",
         "type": "histogram",
         "x": [
          0.37460029125213623,
          0.3885986804962158,
          0.2770441770553589,
          0.2970849275588989,
          0.2995782196521759,
          0.23096893727779388,
          0.3013974130153656,
          0.30329832434654236,
          0.33140504360198975,
          0.3280161917209625,
          0.35941579937934875,
          0.3247060179710388,
          0.35891294479370117,
          0.2923540472984314,
          0.3530135154724121,
          0.3203113377094269,
          0.3760394752025604,
          0.3136076331138611,
          0.4297083616256714,
          0.3277337849140167,
          0.3298227787017822,
          0.28862446546554565,
          0.3916580080986023,
          0.3004360795021057,
          0.2884841561317444,
          0.31741514801979065,
          0.31174397468566895,
          0.2976028025150299,
          0.29090720415115356,
          0.3184557259082794,
          0.31411609053611755,
          0.33643537759780884,
          0.30165690183639526,
          0.32241782546043396,
          0.27672019600868225,
          0.3438039720058441,
          0.3393128514289856,
          0.3405061960220337,
          0.33333268761634827,
          0.33402055501937866,
          0.3084941804409027,
          0.32307344675064087,
          0.34466752409935,
          0.3137030303478241,
          0.29158535599708557,
          0.33428990840911865,
          0.3039190471172333,
          0.31922370195388794,
          0.3033350706100464,
          0.35951822996139526,
          0.35282808542251587,
          0.37751370668411255,
          0.4347962737083435,
          0.4307209551334381,
          0.29272541403770447,
          0.31036433577537537,
          0.28455573320388794,
          0.3011046051979065,
          0.28244298696517944,
          0.2789853513240814,
          0.2955739200115204,
          0.3791980445384979,
          0.260452538728714,
          0.3026036024093628,
          0.3142246603965759,
          0.26923149824142456,
          0.3106127977371216,
          0.3779759705066681,
          0.3528408110141754,
          0.3240017592906952,
          0.36879962682724,
          0.31983980536460876,
          0.386403352022171,
          0.4024495482444763,
          0.4004846215248108,
          0.34577953815460205,
          0.299037367105484,
          0.35216739773750305,
          0.3482246994972229,
          0.3636329174041748,
          0.33603569865226746,
          0.29332712292671204,
          0.23602722585201263,
          0.28328263759613037,
          0.3370279371738434,
          0.4763961732387543,
          0.25702109932899475,
          0.31323322653770447,
          0.3019162714481354,
          0.26336172223091125,
          0.3587842583656311,
          0.33187374472618103,
          0.4146046042442322,
          0.3184162974357605,
          0.33681631088256836,
          0.3580241799354553,
          0.24483752250671387,
          0.30057862401008606,
          0.33549264073371887,
          0.31924858689308167,
          0.3291877508163452,
          0.32699236273765564,
          0.3340381979942322,
          0.33683130145072937,
          0.3019455671310425,
          0.3008178174495697,
          0.2986205518245697,
          0.2387838214635849,
          0.3129018247127533,
          0.432889848947525,
          0.2998780310153961,
          0.3007352948188782,
          0.3721402585506439,
          0.352090448141098,
          0.2820698916912079,
          0.3093702495098114,
          0.3251340985298157,
          0.39251381158828735,
          0.4220335781574249,
          0.3541313707828522,
          0.4120027422904968,
          0.2177494317293167,
          0.3983003795146942,
          0.39328205585479736,
          0.3158814311027527,
          0.30316948890686035,
          0.33555251359939575,
          0.4158796966075897,
          0.2883434593677521,
          0.2909711003303528,
          0.3574601411819458,
          0.336588978767395,
          0.3132646381855011,
          0.2779642641544342,
          0.39484694600105286,
          0.32227128744125366,
          0.28723371028900146,
          0.29579758644104004,
          0.3005712628364563,
          0.32323819398880005,
          0.3078191578388214,
          0.3410762548446655,
          0.2797231376171112,
          0.37818118929862976,
          0.3278336822986603,
          0.33696720004081726,
          0.43060746788978577,
          0.3553561866283417,
          0.4149039387702942,
          0.37349316477775574,
          0.3322419822216034,
          0.3263002932071686,
          0.30149760842323303,
          0.3018118143081665,
          0.3081638514995575,
          0.31994321942329407,
          0.3929021656513214,
          0.3202263116836548,
          0.3378264904022217,
          0.32630690932273865,
          0.16323556005954742,
          0.35550516843795776,
          0.3795326054096222,
          0.3294239640235901,
          0.3596354126930237,
          0.2812257707118988,
          0.20508742332458496,
          0.27397778630256653,
          0.38456204533576965,
          0.3053276538848877,
          0.33396169543266296,
          0.3290266692638397,
          0.35285353660583496,
          0.3354480564594269,
          0.31744298338890076,
          0.34473365545272827,
          0.38046765327453613,
          0.3745235502719879,
          0.38887402415275574,
          0.3570127487182617,
          0.40327131748199463,
          0.3014238178730011,
          0.3089519441127777,
          0.27991044521331787,
          0.326966255903244,
          0.29817333817481995,
          0.3372858166694641,
          0.32606208324432373,
          0.35259345173835754,
          0.304309219121933,
          0.35032540559768677,
          0.34072059392929077,
          0.2877710461616516,
          0.27157631516456604,
          0.29358118772506714,
          0.29084348678588867,
          0.3322390913963318,
          0.3494163155555725,
          0.37226444482803345,
          0.3534858822822571,
          0.3094812333583832,
          0.350614994764328,
          0.3889053165912628,
          0.3481898903846741,
          0.31863176822662354,
          0.34804704785346985,
          0.32616671919822693,
          0.3559526801109314,
          0.33742910623550415,
          0.2880040407180786,
          0.2986508905887604,
          0.21229004859924316,
          0.2565983235836029,
          0.35896411538124084,
          0.36887288093566895,
          0.3431023955345154,
          0.3292085528373718,
          0.3594830334186554,
          0.35182449221611023,
          0.3712696135044098,
          0.41833019256591797,
          0.39014312624931335,
          0.35905876755714417,
          0.37987643480300903,
          0.4118953049182892,
          0.37478408217430115,
          0.33833709359169006,
          0.444570392370224,
          0.3953719139099121,
          0.40598779916763306,
          0.3236197531223297,
          0.36282026767730713,
          0.32747459411621094,
          0.31872880458831787,
          0.31897085905075073,
          0.334936261177063,
          0.32643890380859375,
          0.3363742530345917,
          0.3728579878807068,
          0.3956547677516937,
          0.32696273922920227,
          0.33483052253723145,
          0.32223811745643616,
          0.3753446638584137,
          0.36915552616119385,
          0.33500659465789795,
          0.3753434121608734,
          0.32490023970603943,
          0.38824790716171265,
          0.27134329080581665,
          0.32472771406173706,
          0.3230138421058655,
          0.25438904762268066,
          0.34822121262550354,
          0.3287353515625,
          0.36723262071609497,
          0.31689321994781494,
          0.36911216378211975,
          0.34265586733818054,
          0.387367308139801,
          0.390337735414505,
          0.3076310157775879,
          0.4166565239429474,
          0.33653542399406433,
          0.33988696336746216,
          0.34216007590293884,
          0.3857259452342987,
          0.33511078357696533,
          0.37731656432151794,
          0.28386369347572327,
          0.38885197043418884,
          0.3228699564933777,
          0.35808250308036804,
          0.32173141837120056,
          0.3313821852207184,
          0.3629905879497528,
          0.43338724970817566,
          0.3493688404560089,
          0.3914945125579834,
          0.3262249231338501,
          0.29871469736099243,
          0.3224627375602722,
          0.26178276538848877,
          0.24453631043434143,
          0.3450552821159363,
          0.297655314207077,
          0.31392261385917664,
          0.3592509329319,
          0.32509928941726685,
          0.4621181786060333,
          0.3231459856033325,
          0.33074355125427246,
          0.40625816583633423,
          0.3253372013568878,
          0.32785236835479736,
          0.3307243585586548,
          0.2968100309371948,
          0.3672785460948944,
          0.4088928699493408,
          0.3582042157649994,
          0.3311038613319397,
          0.2778971791267395,
          0.349469929933548,
          0.2727322280406952,
          0.3184143304824829,
          0.33528071641921997,
          0.39273789525032043,
          0.4430219531059265,
          0.32756778597831726,
          0.44247251749038696,
          0.4245173931121826,
          0.3569496273994446,
          0.392978698015213,
          0.3488781452178955,
          0.3719177544116974,
          0.42120078206062317,
          0.3998546302318573,
          0.4482730031013489,
          0.34800395369529724,
          0.2817598879337311,
          0.3037407696247101,
          0.3009145259857178,
          0.2843952178955078,
          0.339082270860672,
          0.3915072977542877,
          0.36942997574806213,
          0.3949897587299347,
          0.3778459131717682,
          0.3555762767791748,
          0.30795976519584656,
          0.40638047456741333,
          0.3735038936138153,
          0.33034518361091614,
          0.26655179262161255,
          0.2696208357810974,
          0.2804768979549408,
          0.3554736375808716,
          0.32321763038635254,
          0.33289793133735657,
          0.2982558310031891,
          0.24204517900943756,
          0.3461286425590515,
          0.3488501310348511,
          0.39958903193473816,
          0.3632581830024719,
          0.40139421820640564,
          0.4031069278717041,
          0.4470258057117462,
          0.28278648853302,
          0.4144234359264374,
          0.3967217206954956,
          0.325078547000885,
          0.3960542678833008,
          0.31290435791015625,
          0.28103241324424744,
          0.2767738103866577,
          0.3443804681301117,
          0.34308335185050964,
          0.3025023341178894,
          0.3461636006832123,
          0.38411960005760193,
          0.2927803099155426,
          0.33412647247314453,
          0.29830044507980347,
          0.3413846790790558,
          0.3725700378417969,
          0.3849397599697113,
          0.2961471676826477,
          0.3537083864212036,
          0.287505567073822,
          0.32934096455574036,
          0.2951001226902008,
          0.37096384167671204,
          0.4168124794960022,
          0.29246094822883606,
          0.2938467860221863,
          0.30609968304634094,
          0.19280807673931122,
          0.2902057468891144,
          0.30915501713752747,
          0.30175572633743286,
          0.3472909927368164,
          0.27486228942871094,
          0.25562283396720886,
          0.33713674545288086,
          0.2796476185321808,
          0.3421019911766052,
          0.3702947795391083,
          0.3016306459903717,
          0.36263197660446167,
          0.31082284450531006,
          0.30516934394836426,
          0.29886916279792786,
          0.31852245330810547,
          0.29757270216941833,
          0.349187970161438,
          0.2755381762981415,
          0.3301383852958679,
          0.27625584602355957,
          0.3564293682575226,
          0.37541496753692627,
          0.30537256598472595,
          0.40667176246643066,
          0.387424111366272,
          0.30251652002334595,
          0.2602307200431824,
          0.30196863412857056,
          0.320435494184494,
          0.2752166986465454,
          0.34772545099258423,
          0.31563079357147217,
          0.2520887851715088,
          0.30262291431427,
          0.33813542127609253,
          0.20658481121063232,
          0.5176781415939331,
          0.445556640625,
          0.3076867461204529,
          0.3533710539340973,
          0.3922940790653229,
          0.20908847451210022,
          0.47563138604164124,
          0.37402066588401794,
          0.2983607053756714,
          0.31603461503982544,
          0.31601589918136597,
          0.34096989035606384,
          0.3261214792728424,
          0.30153998732566833,
          0.2973123788833618,
          0.3465457558631897,
          0.34562864899635315,
          0.2812368869781494,
          0.3728311061859131,
          0.25968804955482483,
          0.4171903431415558,
          0.27118414640426636,
          0.3040469288825989,
          0.2818561792373657,
          0.27578291296958923,
          0.372013121843338,
          0.3563174605369568,
          0.335306853055954,
          0.3198171555995941,
          0.3092179596424103,
          0.36943742632865906,
          0.29021915793418884,
          0.329668790102005,
          0.330731600522995,
          0.3600158989429474,
          0.30076703429222107,
          0.373528391122818,
          0.3094135820865631,
          0.3266153633594513,
          0.31561756134033203,
          0.30063214898109436,
          0.24122795462608337,
          0.41867461800575256,
          0.34657061100006104,
          0.31329765915870667,
          0.45059970021247864,
          0.3110089600086212,
          0.31098291277885437,
          0.2845836877822876,
          0.30930668115615845,
          0.4473247230052948,
          0.3802974820137024,
          0.34013113379478455,
          0.4021804928779602,
          0.29696840047836304,
          0.33543848991394043,
          0.4269716143608093,
          0.3968460261821747,
          0.3464076817035675,
          0.28295496106147766,
          0.3642600476741791,
          0.2948180139064789,
          0.2743460536003113,
          0.3515677750110626,
          0.414704829454422,
          0.325176864862442,
          0.32392609119415283,
          0.3705540895462036,
          0.37015822529792786,
          0.3809190094470978,
          0.37910518050193787,
          0.40656933188438416,
          0.38430920243263245,
          0.34610438346862793,
          0.3885740637779236,
          0.35857391357421875,
          0.3737052083015442,
          0.3385974168777466,
          0.3396661877632141,
          0.25651153922080994,
          0.35091251134872437,
          0.39233601093292236,
          0.40148115158081055,
          0.36924025416374207,
          0.32449570298194885,
          0.3001049757003784,
          0.3293061852455139,
          0.2850799560546875,
          0.31098034977912903,
          0.3124469518661499,
          0.33367857336997986,
          0.2927550971508026,
          0.48644885420799255,
          0.34894514083862305,
          0.3107057213783264,
          0.3348933160305023,
          0.43414536118507385,
          0.40395885705947876,
          0.32394853234291077,
          0.30200493335723877,
          0.3539339303970337,
          0.28786009550094604,
          0.28344953060150146,
          0.27681073546409607,
          0.39896368980407715,
          0.30945679545402527,
          0.376422643661499,
          0.3522195816040039,
          0.4111159145832062,
          0.3087770938873291,
          0.33751732110977173,
          0.3193065822124481,
          0.3119675815105438,
          0.42040207982063293,
          0.3381538391113281,
          0.4274865984916687,
          0.3232274055480957,
          0.3548324406147003,
          0.31611114740371704,
          0.35717716813087463,
          0.3788885772228241,
          0.42971622943878174,
          0.48030951619148254,
          0.4057873785495758,
          0.3709402084350586,
          0.3592687249183655,
          0.35987794399261475,
          0.33842411637306213,
          0.34882187843322754,
          0.35940098762512207,
          0.3188175559043884,
          0.29085806012153625,
          0.28079020977020264,
          0.3643900752067566,
          0.3453769087791443,
          0.3273472189903259,
          0.3716508150100708,
          0.3163498044013977,
          0.3133803606033325,
          0.363520085811615,
          0.38051560521125793,
          0.405588299036026,
          0.3532756567001343,
          0.39799466729164124,
          0.3147841691970825,
          0.31490716338157654,
          0.34366369247436523,
          0.35568809509277344,
          0.39862746000289917,
          0.3976127505302429,
          0.37137866020202637,
          0.3339366614818573,
          0.3442003130912781,
          0.3257095217704773,
          0.33245396614074707,
          0.305530309677124,
          0.3232508599758148,
          0.3723721504211426,
          0.3085422217845917,
          0.3498360216617584,
          0.33212441205978394,
          0.34834325313568115,
          0.3440540134906769,
          0.37851640582084656,
          0.3020683228969574,
          0.35389307141304016,
          0.3691056966781616,
          0.3609309792518616,
          0.312344491481781,
          0.4146006405353546,
          0.32893314957618713,
          0.33018502593040466,
          0.31608328223228455,
          0.34637451171875,
          0.32383808493614197,
          0.3318774402141571,
          0.29697489738464355,
          0.31926700472831726,
          0.2772800624370575,
          0.5142409205436707,
          0.3769351541996002,
          0.41120535135269165,
          0.30826395750045776,
          0.3555751442909241,
          0.34048187732696533,
          0.3865518867969513,
          0.394112765789032,
          0.3600158989429474,
          0.3522948622703552,
          0.3207034170627594,
          0.435200572013855,
          0.4108356535434723,
          0.35126662254333496,
          0.3116776645183563,
          0.34321215748786926,
          0.37051939964294434,
          0.34156107902526855,
          0.43634119629859924,
          0.42655253410339355,
          0.40213045477867126,
          0.44892480969429016,
          0.2866429090499878,
          0.3238855302333832,
          0.31467047333717346,
          0.2394327074289322,
          0.38896694779396057,
          0.3640449047088623,
          0.4105614423751831,
          0.48035377264022827,
          0.2496311366558075,
          0.3962046802043915,
          0.3994004726409912,
          0.2474222034215927,
          0.4077220857143402,
          0.19854965806007385,
          0.21423810720443726,
          0.22817698121070862,
          0.2097819596529007,
          0.27705520391464233,
          0.35187992453575134,
          0.22673475742340088,
          0.38514524698257446,
          0.39487409591674805,
          0.3371613621711731,
          0.31875333189964294,
          0.3403184413909912,
          0.39445874094963074,
          0.43678441643714905,
          0.40706440806388855,
          0.24730490148067474,
          0.35711538791656494,
          0.4114707112312317,
          0.46222901344299316,
          0.3822576701641083,
          0.4180009663105011,
          0.30410081148147583,
          0.38052913546562195,
          0.36191633343696594,
          0.33532577753067017,
          0.3577026426792145,
          0.2940983176231384,
          0.33180925250053406,
          0.34087032079696655,
          0.4307730793952942,
          0.3326871693134308,
          0.3274911940097809,
          0.38170450925827026,
          0.4652346074581146,
          0.40989556908607483,
          0.3617784082889557,
          0.33478227257728577,
          0.36889344453811646,
          0.32568708062171936,
          0.30355095863342285,
          0.27047964930534363,
          0.38667041063308716,
          0.37903985381126404,
          0.403389036655426,
          0.40666139125823975,
          0.35559290647506714,
          0.26559045910835266,
          0.31218233704566956,
          0.40202224254608154,
          0.3335971236228943,
          0.3515932857990265,
          0.34767869114875793,
          0.3518078327178955,
          0.48521333932876587,
          0.26144078373908997,
          0.452788382768631,
          0.40351617336273193,
          0.3304752707481384,
          0.46100300550460815,
          0.27664440870285034,
          0.32912081480026245,
          0.34190303087234497,
          0.34366369247436523,
          0.2644810378551483,
          0.34904125332832336,
          0.35624977946281433,
          0.4858512282371521,
          0.36730414628982544,
          0.3151372969150543,
          0.2460433542728424,
          0.36414602398872375,
          0.4229835569858551,
          0.2526542544364929,
          0.3527265787124634,
          0.48984184861183167,
          0.35572218894958496,
          0.40558457374572754,
          0.29035499691963196,
          0.3354836106300354,
          0.34922751784324646,
          0.26945924758911133,
          0.33505257964134216,
          0.38505250215530396,
          0.24683167040348053,
          0.3022612929344177,
          0.3533583879470825,
          0.4725090563297272,
          0.36207976937294006,
          0.4219646751880646,
          0.4235866665840149,
          0.39236465096473694,
          0.4085009694099426,
          0.24510371685028076,
          0.290731281042099,
          0.2924444377422333,
          0.29301974177360535,
          0.40690863132476807,
          0.4077513813972473,
          0.2615535259246826,
          0.4278939962387085,
          0.20249173045158386,
          0.4219822287559509,
          0.3371385633945465,
          0.3968501687049866,
          0.3689216673374176,
          0.31752142310142517,
          0.31045112013816833,
          0.3492789566516876,
          0.33706867694854736,
          0.37028980255126953,
          0.3811132311820984,
          0.39967820048332214,
          0.360946387052536,
          0.45242977142333984,
          0.40411439538002014,
          0.35878053307533264,
          0.4394407868385315,
          0.2770102322101593,
          0.35572218894958496,
          0.4371400773525238,
          0.34583625197410583,
          0.24819742143154144,
          0.354518860578537,
          0.27427637577056885,
          0.3669922649860382,
          0.34935522079467773,
          0.34723639488220215,
          0.29110899567604065,
          0.3380930423736572,
          0.37441110610961914,
          0.3120933771133423,
          0.3909672200679779,
          0.42198416590690613,
          0.4581935405731201,
          0.45151832699775696,
          0.4570499658584595,
          0.2661729156970978,
          0.38854607939720154,
          0.29289162158966064,
          0.3485673666000366,
          0.42001309990882874,
          0.39965561032295227,
          0.2726980745792389,
          0.4570976197719574,
          0.33655548095703125,
          0.41672375798225403,
          0.31225141882896423,
          0.5084015130996704,
          0.22422581911087036,
          0.40854042768478394,
          0.30160626769065857,
          0.4587728977203369,
          0.4178374111652374,
          0.46987107396125793,
          0.27569344639778137,
          0.302958607673645,
          0.2850893437862396,
          0.3493216037750244,
          0.36512482166290283,
          0.22795727849006653,
          0.32580167055130005,
          0.30695685744285583,
          0.43526095151901245,
          0.35127970576286316,
          0.3479166328907013,
          0.34312981367111206,
          0.4532460868358612,
          0.32733339071273804,
          0.33531683683395386,
          0.3587208688259125,
          0.3821059465408325,
          0.32421645522117615,
          0.3328104317188263,
          0.24617624282836914,
          0.4262204170227051,
          0.33391886949539185,
          0.4901809096336365,
          0.26263633370399475,
          0.2741315960884094,
          0.3487691283226013,
          0.35945290327072144,
          0.3939708471298218,
          0.32153868675231934,
          0.48999470472335815,
          0.2920399606227875,
          0.30573856830596924,
          0.3282734453678131,
          0.3863029479980469,
          0.39150217175483704,
          0.34904125332832336,
          0.25099268555641174,
          0.4683905839920044,
          0.3296070098876953,
          0.36261269450187683,
          0.26635801792144775,
          0.273201584815979,
          0.34531980752944946,
          0.2993718981742859,
          0.1830548644065857,
          0.30001235008239746,
          0.2792206406593323,
          0.3894359767436981,
          0.46000561118125916,
          0.37540680170059204,
          0.471893846988678,
          0.31665781140327454,
          0.29907241463661194,
          0.44571587443351746,
          0.3133125603199005,
          0.3188323378562927,
          0.35544249415397644,
          0.29980820417404175,
          0.30694904923439026,
          0.44301414489746094,
          0.3586655557155609,
          0.3204001486301422,
          0.34665414690971375,
          0.25612613558769226,
          0.3436008393764496,
          0.37892013788223267,
          0.44022777676582336,
          0.30906492471694946,
          0.28305983543395996,
          0.49757230281829834,
          0.4206905663013458,
          0.2564532160758972,
          0.28305983543395996,
          0.3482920229434967,
          0.3744037449359894,
          0.3709808886051178,
          0.26343846321105957,
          0.3191946744918823,
          0.30824679136276245,
          0.42795148491859436,
          0.22685736417770386,
          0.2878388464450836,
          0.29359322786331177,
          0.3289337754249573,
          0.34800297021865845,
          0.29840388894081116,
          0.3369048535823822,
          0.29760754108428955,
          0.3402693271636963,
          0.24674943089485168,
          0.33545705676078796,
          0.28746819496154785,
          0.3451131582260132,
          0.2694207429885864,
          0.35135579109191895,
          0.42268046736717224,
          0.3158886134624481,
          0.3366844952106476,
          0.35020285844802856,
          0.3295212686061859,
          0.3842320740222931,
          0.2720972001552582,
          0.42521438002586365,
          0.29987695813179016,
          0.3797973096370697,
          0.33868521451950073,
          0.3043093979358673,
          0.32206934690475464,
          0.47288793325424194,
          0.27700504660606384,
          0.36633583903312683,
          0.3713241219520569,
          0.3398236036300659,
          0.4111297130584717,
          0.3600158989429474,
          0.3126465678215027,
          0.28204748034477234,
          0.2870818078517914,
          0.3390745222568512,
          0.32047805190086365,
          0.40969446301460266,
          0.255962073802948,
          0.3166491389274597,
          0.2759527862071991,
          0.3080383837223053,
          0.24364006519317627,
          0.3811132311820984,
          0.27181607484817505,
          0.34476274251937866,
          0.33029234409332275,
          0.3265927731990814,
          0.2773655652999878,
          0.4199139177799225,
          0.3227319121360779,
          0.36257725954055786,
          0.28920069336891174,
          0.33071252703666687,
          0.4297252595424652,
          0.2729460597038269,
          0.4645635485649109,
          0.4763078987598419,
          0.4784630835056305,
          0.43211400508880615,
          0.3211543560028076,
          0.3182007074356079,
          0.24752341210842133,
          0.4050538241863251,
          0.29346510767936707,
          0.48097652196884155,
          0.33145755529403687,
          0.29487064480781555,
          0.3421608507633209,
          0.2936520576477051,
          0.30704182386398315,
          0.3627578616142273,
          0.3354097604751587,
          0.34316542744636536,
          0.4138670861721039,
          0.4138670861721039,
          0.4138670861721039,
          0.3292491137981415,
          0.3540939390659332,
          0.3513962924480438,
          0.46050798892974854,
          0.2749483585357666,
          0.33654266595840454,
          0.21681024134159088,
          0.25185614824295044,
          0.3864181339740753,
          0.24197593331336975,
          0.352087140083313,
          0.3637637495994568,
          0.29268351197242737,
          0.3637637495994568,
          0.2628190815448761,
          0.2147471010684967,
          0.2631213963031769,
          0.46640872955322266,
          0.3811529874801636,
          0.2628190517425537,
          0.3295212686061859,
          0.27263304591178894,
          0.3877481520175934,
          0.3974516689777374,
          0.33473387360572815,
          0.3039762079715729,
          0.2505258619785309,
          0.21330879628658295,
          0.2952652871608734,
          0.25065141916275024,
          0.36187049746513367,
          0.31916481256484985,
          0.4554745554924011,
          0.3464730978012085,
          0.45365649461746216,
          0.2699076533317566,
          0.47288793325424194,
          0.3989577889442444,
          0.34038475155830383,
          0.2662397027015686,
          0.37441110610961914,
          0.48999470472335815,
          0.2911651134490967
         ]
        }
       ],
       "layout": {
        "font": {
         "size": 20
        },
        "paper_bgcolor": "white",
        "plot_bgcolor": "white",
        "template": {
         "data": {
          "bar": [
           {
            "error_x": {
             "color": "#2a3f5f"
            },
            "error_y": {
             "color": "#2a3f5f"
            },
            "marker": {
             "line": {
              "color": "#E5ECF6",
              "width": 0.5
             },
             "pattern": {
              "fillmode": "overlay",
              "size": 10,
              "solidity": 0.2
             }
            },
            "type": "bar"
           }
          ],
          "barpolar": [
           {
            "marker": {
             "line": {
              "color": "#E5ECF6",
              "width": 0.5
             },
             "pattern": {
              "fillmode": "overlay",
              "size": 10,
              "solidity": 0.2
             }
            },
            "type": "barpolar"
           }
          ],
          "carpet": [
           {
            "aaxis": {
             "endlinecolor": "#2a3f5f",
             "gridcolor": "white",
             "linecolor": "white",
             "minorgridcolor": "white",
             "startlinecolor": "#2a3f5f"
            },
            "baxis": {
             "endlinecolor": "#2a3f5f",
             "gridcolor": "white",
             "linecolor": "white",
             "minorgridcolor": "white",
             "startlinecolor": "#2a3f5f"
            },
            "type": "carpet"
           }
          ],
          "choropleth": [
           {
            "colorbar": {
             "outlinewidth": 0,
             "ticks": ""
            },
            "type": "choropleth"
           }
          ],
          "contour": [
           {
            "colorbar": {
             "outlinewidth": 0,
             "ticks": ""
            },
            "colorscale": [
             [
              0,
              "#0d0887"
             ],
             [
              0.1111111111111111,
              "#46039f"
             ],
             [
              0.2222222222222222,
              "#7201a8"
             ],
             [
              0.3333333333333333,
              "#9c179e"
             ],
             [
              0.4444444444444444,
              "#bd3786"
             ],
             [
              0.5555555555555556,
              "#d8576b"
             ],
             [
              0.6666666666666666,
              "#ed7953"
             ],
             [
              0.7777777777777778,
              "#fb9f3a"
             ],
             [
              0.8888888888888888,
              "#fdca26"
             ],
             [
              1,
              "#f0f921"
             ]
            ],
            "type": "contour"
           }
          ],
          "contourcarpet": [
           {
            "colorbar": {
             "outlinewidth": 0,
             "ticks": ""
            },
            "type": "contourcarpet"
           }
          ],
          "heatmap": [
           {
            "colorbar": {
             "outlinewidth": 0,
             "ticks": ""
            },
            "colorscale": [
             [
              0,
              "#0d0887"
             ],
             [
              0.1111111111111111,
              "#46039f"
             ],
             [
              0.2222222222222222,
              "#7201a8"
             ],
             [
              0.3333333333333333,
              "#9c179e"
             ],
             [
              0.4444444444444444,
              "#bd3786"
             ],
             [
              0.5555555555555556,
              "#d8576b"
             ],
             [
              0.6666666666666666,
              "#ed7953"
             ],
             [
              0.7777777777777778,
              "#fb9f3a"
             ],
             [
              0.8888888888888888,
              "#fdca26"
             ],
             [
              1,
              "#f0f921"
             ]
            ],
            "type": "heatmap"
           }
          ],
          "heatmapgl": [
           {
            "colorbar": {
             "outlinewidth": 0,
             "ticks": ""
            },
            "colorscale": [
             [
              0,
              "#0d0887"
             ],
             [
              0.1111111111111111,
              "#46039f"
             ],
             [
              0.2222222222222222,
              "#7201a8"
             ],
             [
              0.3333333333333333,
              "#9c179e"
             ],
             [
              0.4444444444444444,
              "#bd3786"
             ],
             [
              0.5555555555555556,
              "#d8576b"
             ],
             [
              0.6666666666666666,
              "#ed7953"
             ],
             [
              0.7777777777777778,
              "#fb9f3a"
             ],
             [
              0.8888888888888888,
              "#fdca26"
             ],
             [
              1,
              "#f0f921"
             ]
            ],
            "type": "heatmapgl"
           }
          ],
          "histogram": [
           {
            "marker": {
             "pattern": {
              "fillmode": "overlay",
              "size": 10,
              "solidity": 0.2
             }
            },
            "type": "histogram"
           }
          ],
          "histogram2d": [
           {
            "colorbar": {
             "outlinewidth": 0,
             "ticks": ""
            },
            "colorscale": [
             [
              0,
              "#0d0887"
             ],
             [
              0.1111111111111111,
              "#46039f"
             ],
             [
              0.2222222222222222,
              "#7201a8"
             ],
             [
              0.3333333333333333,
              "#9c179e"
             ],
             [
              0.4444444444444444,
              "#bd3786"
             ],
             [
              0.5555555555555556,
              "#d8576b"
             ],
             [
              0.6666666666666666,
              "#ed7953"
             ],
             [
              0.7777777777777778,
              "#fb9f3a"
             ],
             [
              0.8888888888888888,
              "#fdca26"
             ],
             [
              1,
              "#f0f921"
             ]
            ],
            "type": "histogram2d"
           }
          ],
          "histogram2dcontour": [
           {
            "colorbar": {
             "outlinewidth": 0,
             "ticks": ""
            },
            "colorscale": [
             [
              0,
              "#0d0887"
             ],
             [
              0.1111111111111111,
              "#46039f"
             ],
             [
              0.2222222222222222,
              "#7201a8"
             ],
             [
              0.3333333333333333,
              "#9c179e"
             ],
             [
              0.4444444444444444,
              "#bd3786"
             ],
             [
              0.5555555555555556,
              "#d8576b"
             ],
             [
              0.6666666666666666,
              "#ed7953"
             ],
             [
              0.7777777777777778,
              "#fb9f3a"
             ],
             [
              0.8888888888888888,
              "#fdca26"
             ],
             [
              1,
              "#f0f921"
             ]
            ],
            "type": "histogram2dcontour"
           }
          ],
          "mesh3d": [
           {
            "colorbar": {
             "outlinewidth": 0,
             "ticks": ""
            },
            "type": "mesh3d"
           }
          ],
          "parcoords": [
           {
            "line": {
             "colorbar": {
              "outlinewidth": 0,
              "ticks": ""
             }
            },
            "type": "parcoords"
           }
          ],
          "pie": [
           {
            "automargin": true,
            "type": "pie"
           }
          ],
          "scatter": [
           {
            "fillpattern": {
             "fillmode": "overlay",
             "size": 10,
             "solidity": 0.2
            },
            "type": "scatter"
           }
          ],
          "scatter3d": [
           {
            "line": {
             "colorbar": {
              "outlinewidth": 0,
              "ticks": ""
             }
            },
            "marker": {
             "colorbar": {
              "outlinewidth": 0,
              "ticks": ""
             }
            },
            "type": "scatter3d"
           }
          ],
          "scattercarpet": [
           {
            "marker": {
             "colorbar": {
              "outlinewidth": 0,
              "ticks": ""
             }
            },
            "type": "scattercarpet"
           }
          ],
          "scattergeo": [
           {
            "marker": {
             "colorbar": {
              "outlinewidth": 0,
              "ticks": ""
             }
            },
            "type": "scattergeo"
           }
          ],
          "scattergl": [
           {
            "marker": {
             "colorbar": {
              "outlinewidth": 0,
              "ticks": ""
             }
            },
            "type": "scattergl"
           }
          ],
          "scattermapbox": [
           {
            "marker": {
             "colorbar": {
              "outlinewidth": 0,
              "ticks": ""
             }
            },
            "type": "scattermapbox"
           }
          ],
          "scatterpolar": [
           {
            "marker": {
             "colorbar": {
              "outlinewidth": 0,
              "ticks": ""
             }
            },
            "type": "scatterpolar"
           }
          ],
          "scatterpolargl": [
           {
            "marker": {
             "colorbar": {
              "outlinewidth": 0,
              "ticks": ""
             }
            },
            "type": "scatterpolargl"
           }
          ],
          "scatterternary": [
           {
            "marker": {
             "colorbar": {
              "outlinewidth": 0,
              "ticks": ""
             }
            },
            "type": "scatterternary"
           }
          ],
          "surface": [
           {
            "colorbar": {
             "outlinewidth": 0,
             "ticks": ""
            },
            "colorscale": [
             [
              0,
              "#0d0887"
             ],
             [
              0.1111111111111111,
              "#46039f"
             ],
             [
              0.2222222222222222,
              "#7201a8"
             ],
             [
              0.3333333333333333,
              "#9c179e"
             ],
             [
              0.4444444444444444,
              "#bd3786"
             ],
             [
              0.5555555555555556,
              "#d8576b"
             ],
             [
              0.6666666666666666,
              "#ed7953"
             ],
             [
              0.7777777777777778,
              "#fb9f3a"
             ],
             [
              0.8888888888888888,
              "#fdca26"
             ],
             [
              1,
              "#f0f921"
             ]
            ],
            "type": "surface"
           }
          ],
          "table": [
           {
            "cells": {
             "fill": {
              "color": "#EBF0F8"
             },
             "line": {
              "color": "white"
             }
            },
            "header": {
             "fill": {
              "color": "#C8D4E3"
             },
             "line": {
              "color": "white"
             }
            },
            "type": "table"
           }
          ]
         },
         "layout": {
          "annotationdefaults": {
           "arrowcolor": "#2a3f5f",
           "arrowhead": 0,
           "arrowwidth": 1
          },
          "autotypenumbers": "strict",
          "coloraxis": {
           "colorbar": {
            "outlinewidth": 0,
            "ticks": ""
           }
          },
          "colorscale": {
           "diverging": [
            [
             0,
             "#8e0152"
            ],
            [
             0.1,
             "#c51b7d"
            ],
            [
             0.2,
             "#de77ae"
            ],
            [
             0.3,
             "#f1b6da"
            ],
            [
             0.4,
             "#fde0ef"
            ],
            [
             0.5,
             "#f7f7f7"
            ],
            [
             0.6,
             "#e6f5d0"
            ],
            [
             0.7,
             "#b8e186"
            ],
            [
             0.8,
             "#7fbc41"
            ],
            [
             0.9,
             "#4d9221"
            ],
            [
             1,
             "#276419"
            ]
           ],
           "sequential": [
            [
             0,
             "#0d0887"
            ],
            [
             0.1111111111111111,
             "#46039f"
            ],
            [
             0.2222222222222222,
             "#7201a8"
            ],
            [
             0.3333333333333333,
             "#9c179e"
            ],
            [
             0.4444444444444444,
             "#bd3786"
            ],
            [
             0.5555555555555556,
             "#d8576b"
            ],
            [
             0.6666666666666666,
             "#ed7953"
            ],
            [
             0.7777777777777778,
             "#fb9f3a"
            ],
            [
             0.8888888888888888,
             "#fdca26"
            ],
            [
             1,
             "#f0f921"
            ]
           ],
           "sequentialminus": [
            [
             0,
             "#0d0887"
            ],
            [
             0.1111111111111111,
             "#46039f"
            ],
            [
             0.2222222222222222,
             "#7201a8"
            ],
            [
             0.3333333333333333,
             "#9c179e"
            ],
            [
             0.4444444444444444,
             "#bd3786"
            ],
            [
             0.5555555555555556,
             "#d8576b"
            ],
            [
             0.6666666666666666,
             "#ed7953"
            ],
            [
             0.7777777777777778,
             "#fb9f3a"
            ],
            [
             0.8888888888888888,
             "#fdca26"
            ],
            [
             1,
             "#f0f921"
            ]
           ]
          },
          "colorway": [
           "#636efa",
           "#EF553B",
           "#00cc96",
           "#ab63fa",
           "#FFA15A",
           "#19d3f3",
           "#FF6692",
           "#B6E880",
           "#FF97FF",
           "#FECB52"
          ],
          "font": {
           "color": "#2a3f5f"
          },
          "geo": {
           "bgcolor": "white",
           "lakecolor": "white",
           "landcolor": "#E5ECF6",
           "showlakes": true,
           "showland": true,
           "subunitcolor": "white"
          },
          "hoverlabel": {
           "align": "left"
          },
          "hovermode": "closest",
          "mapbox": {
           "style": "light"
          },
          "paper_bgcolor": "white",
          "plot_bgcolor": "#E5ECF6",
          "polar": {
           "angularaxis": {
            "gridcolor": "white",
            "linecolor": "white",
            "ticks": ""
           },
           "bgcolor": "#E5ECF6",
           "radialaxis": {
            "gridcolor": "white",
            "linecolor": "white",
            "ticks": ""
           }
          },
          "scene": {
           "xaxis": {
            "backgroundcolor": "#E5ECF6",
            "gridcolor": "white",
            "gridwidth": 2,
            "linecolor": "white",
            "showbackground": true,
            "ticks": "",
            "zerolinecolor": "white"
           },
           "yaxis": {
            "backgroundcolor": "#E5ECF6",
            "gridcolor": "white",
            "gridwidth": 2,
            "linecolor": "white",
            "showbackground": true,
            "ticks": "",
            "zerolinecolor": "white"
           },
           "zaxis": {
            "backgroundcolor": "#E5ECF6",
            "gridcolor": "white",
            "gridwidth": 2,
            "linecolor": "white",
            "showbackground": true,
            "ticks": "",
            "zerolinecolor": "white"
           }
          },
          "shapedefaults": {
           "line": {
            "color": "#2a3f5f"
           }
          },
          "ternary": {
           "aaxis": {
            "gridcolor": "white",
            "linecolor": "white",
            "ticks": ""
           },
           "baxis": {
            "gridcolor": "white",
            "linecolor": "white",
            "ticks": ""
           },
           "bgcolor": "#E5ECF6",
           "caxis": {
            "gridcolor": "white",
            "linecolor": "white",
            "ticks": ""
           }
          },
          "title": {
           "x": 0.05
          },
          "xaxis": {
           "automargin": true,
           "gridcolor": "white",
           "linecolor": "white",
           "ticks": "",
           "title": {
            "standoff": 15
           },
           "zerolinecolor": "white",
           "zerolinewidth": 2
          },
          "yaxis": {
           "automargin": true,
           "gridcolor": "white",
           "linecolor": "white",
           "ticks": "",
           "title": {
            "standoff": 15
           },
           "zerolinecolor": "white",
           "zerolinewidth": 2
          }
         }
        },
        "title": {
         "text": "Distribution of Nuclear Norm of Node Explain Matrix"
        },
        "xaxis": {
         "title": {
          "text": "Nuclear Norm"
         }
        },
        "yaxis": {
         "title": {
          "text": "Frequency"
         }
        }
       }
      },
      "text/html": [
       "<div>                            <div id=\"ec29dd71-4945-4e2f-9255-3f19976edf58\" class=\"plotly-graph-div\" style=\"height:525px; width:100%;\"></div>            <script type=\"text/javascript\">                require([\"plotly\"], function(Plotly) {                    window.PLOTLYENV=window.PLOTLYENV || {};                                    if (document.getElementById(\"ec29dd71-4945-4e2f-9255-3f19976edf58\")) {                    Plotly.newPlot(                        \"ec29dd71-4945-4e2f-9255-3f19976edf58\",                        [{\"name\":\"GMI\",\"x\":[0.2992989718914032,0.31459951400756836,0.24257361888885498,0.24505798518657684,0.2596628665924072,0.230054572224617,0.27501875162124634,0.26081088185310364,0.25809410214424133,0.26359063386917114,0.28376078605651855,0.2777339518070221,0.2982722818851471,0.28509292006492615,0.3083590567111969,0.25967487692832947,0.310798704624176,0.278937429189682,0.35276874899864197,0.2744678258895874,0.27801868319511414,0.2660616636276245,0.27951714396476746,0.2557229697704315,0.23061977326869965,0.24309511482715607,0.24165210127830505,0.249785915017128,0.25567319989204407,0.2606792449951172,0.26176658272743225,0.2666630148887634,0.23161567747592926,0.2452249974012375,0.21001052856445312,0.28149786591529846,0.2666293978691101,0.26583167910575867,0.2698615789413452,0.2578161954879761,0.25693854689598083,0.2820221483707428,0.28453075885772705,0.2275085598230362,0.26026734709739685,0.2669762670993805,0.25045958161354065,0.2599654197692871,0.25077393651008606,0.25998160243034363,0.25706082582473755,0.3175128996372223,0.3411754071712494,0.34250202775001526,0.23169837892055511,0.2436770796775818,0.22554177045822144,0.252018004655838,0.25290149450302124,0.22418738901615143,0.24765142798423767,0.3271558880805969,0.25859224796295166,0.2707098424434662,0.3047667145729065,0.24552854895591736,0.24428482353687286,0.2629108428955078,0.2754654586315155,0.27096009254455566,0.26653382182121277,0.2350645810365677,0.2767602801322937,0.3088876008987427,0.3519556224346161,0.2548496127128601,0.22389939427375793,0.26080432534217834,0.2557305097579956,0.2864567041397095,0.27690404653549194,0.2575686275959015,0.23901976644992828,0.2596449851989746,0.32127809524536133,0.3760271370410919,0.26141729950904846,0.2854187488555908,0.2330663502216339,0.22034351527690887,0.27018341422080994,0.25591403245925903,0.3343133330345154,0.2764577269554138,0.2714841067790985,0.29029834270477295,0.22639711201190948,0.22913135588169098,0.2529528737068176,0.24274104833602905,0.2643387019634247,0.25011706352233887,0.25135698914527893,0.2792757749557495,0.23640379309654236,0.2743369936943054,0.2748429775238037,0.23946943879127502,0.24953101575374603,0.29024213552474976,0.21217939257621765,0.20966529846191406,0.27465569972991943,0.30720090866088867,0.26101627945899963,0.28173214197158813,0.2782782018184662,0.2863362431526184,0.3207870125770569,0.2555457055568695,0.3018476665019989,0.22004754841327667,0.30698737502098083,0.30357828736305237,0.25526878237724304,0.23413792252540588,0.2550238072872162,0.31481385231018066,0.26903441548347473,0.2779195308685303,0.28333041071891785,0.272022008895874,0.2525613307952881,0.24919269979000092,0.30538588762283325,0.25017210841178894,0.21496239304542542,0.25222617387771606,0.22666186094284058,0.2554418742656708,0.2455180138349533,0.2961396276950836,0.25514718890190125,0.3005826473236084,0.23143598437309265,0.27747225761413574,0.32884618639945984,0.2808573842048645,0.31053364276885986,0.2901948392391205,0.26655617356300354,0.25850343704223633,0.24809503555297852,0.23911195993423462,0.24357441067695618,0.27080461382865906,0.30446502566337585,0.28606781363487244,0.2698935270309448,0.2531742751598358,0.18127208948135376,0.2781817317008972,0.3138866424560547,0.2657390534877777,0.28824955224990845,0.2545660436153412,0.19799357652664185,0.2346685826778412,0.3307809829711914,0.2714172303676605,0.291218101978302,0.2630513608455658,0.3098592162132263,0.2846878170967102,0.26174700260162354,0.23932400345802307,0.29754218459129333,0.31168559193611145,0.31077948212623596,0.29990464448928833,0.35231173038482666,0.25667116045951843,0.2540949881076813,0.26500847935676575,0.27648475766181946,0.23024022579193115,0.25222477316856384,0.2581617534160614,0.27156808972358704,0.26556065678596497,0.265010803937912,0.29680171608924866,0.21437087655067444,0.20358440279960632,0.23145246505737305,0.22328528761863708,0.25761300325393677,0.2727438807487488,0.2911613881587982,0.2885770797729492,0.24282509088516235,0.2877192497253418,0.26887691020965576,0.27358922362327576,0.2503651976585388,0.2687929570674896,0.2762228846549988,0.2716473937034607,0.26632198691368103,0.2482025921344757,0.25075677037239075,0.20213325321674347,0.2266884297132492,0.2941846549510956,0.30249732732772827,0.2999514937400818,0.24834804236888885,0.27138373255729675,0.2962424159049988,0.2703438997268677,0.3003472089767456,0.3211599886417389,0.30122116208076477,0.30808573961257935,0.29392653703689575,0.2825004756450653,0.2783055603504181,0.32303938269615173,0.2912522256374359,0.309040904045105,0.23929663002490997,0.31540390849113464,0.29283443093299866,0.2604939639568329,0.2571943700313568,0.24953322112560272,0.25742462277412415,0.25497448444366455,0.3002068102359772,0.27493155002593994,0.2397383451461792,0.24795007705688477,0.25201261043548584,0.30243104696273804,0.27463117241859436,0.2712242603302002,0.27729666233062744,0.23768295347690582,0.2935710847377777,0.2539621591567993,0.255888968706131,0.2508874833583832,0.22736114263534546,0.27002260088920593,0.27520960569381714,0.2986552119255066,0.2849045693874359,0.2722354829311371,0.2894051671028137,0.29877161979675293,0.2899453639984131,0.24775181710720062,0.3281194269657135,0.2807280123233795,0.26722222566604614,0.2722051441669464,0.29990023374557495,0.24810916185379028,0.2933763265609741,0.24277564883232117,0.27606818079948425,0.2672175467014313,0.2895861566066742,0.24672843515872955,0.24654696881771088,0.28635165095329285,0.3062402009963989,0.2629459798336029,0.3212790787220001,0.22504988312721252,0.2733883261680603,0.2595437467098236,0.23876109719276428,0.2259426862001419,0.27827486395835876,0.25675344467163086,0.24423953890800476,0.2655145525932312,0.2539771795272827,0.3235461711883545,0.2817516624927521,0.24957871437072754,0.3190099000930786,0.23990440368652344,0.24674423038959503,0.2951820194721222,0.2524692118167877,0.2732117474079132,0.29700425267219543,0.27213388681411743,0.2767631709575653,0.25757700204849243,0.25519490242004395,0.23637115955352783,0.24011825025081635,0.27492010593414307,0.3171599805355072,0.33252760767936707,0.25530457496643066,0.35497650504112244,0.32148975133895874,0.27762043476104736,0.2988622486591339,0.25571495294570923,0.2984636425971985,0.29132917523384094,0.32617276906967163,0.3354169428348541,0.2872754633426666,0.19756335020065308,0.252963662147522,0.25603511929512024,0.22206147015094757,0.2654799222946167,0.2891891896724701,0.28259041905403137,0.30787792801856995,0.2949690818786621,0.2614070475101471,0.2652047276496887,0.288429856300354,0.2779442071914673,0.25698792934417725,0.24679440259933472,0.20165570080280304,0.2186235934495926,0.2744489312171936,0.25032785534858704,0.2745138108730316,0.24576595425605774,0.2162560075521469,0.24725441634655,0.3044615685939789,0.2963985800743103,0.27541348338127136,0.3066410720348358,0.3062398135662079,0.34229809045791626,0.19292283058166504,0.3192727267742157,0.31107234954833984,0.2698635458946228,0.3057407736778259,0.25674381852149963,0.20109081268310547,0.2170931100845337,0.27007871866226196,0.2673672139644623,0.25402021408081055,0.271545946598053,0.2915666699409485,0.23572686314582825,0.27548059821128845,0.237237349152565,0.23432119190692902,0.31971731781959534,0.3384189009666443,0.25075823068618774,0.2886964678764343,0.2016107589006424,0.25717681646347046,0.2493709772825241,0.2795465886592865,0.3312101364135742,0.21850526332855225,0.24559786915779114,0.2578100264072418,0.19224344193935394,0.22173458337783813,0.25930407643318176,0.24648314714431763,0.2800242006778717,0.1880570650100708,0.1785561442375183,0.24540437757968903,0.21248474717140198,0.23790548741817474,0.2966272234916687,0.23212549090385437,0.29460838437080383,0.25413450598716736,0.22940196096897125,0.2247452735900879,0.2791350483894348,0.23578494787216187,0.278001606464386,0.19975188374519348,0.2673039734363556,0.18812531232833862,0.2588920593261719,0.28984329104423523,0.2568057179450989,0.2886212468147278,0.28485044836997986,0.2584228813648224,0.23450787365436554,0.2340901792049408,0.24515308439731598,0.22446276247501373,0.30188941955566406,0.2180461287498474,0.23095063865184784,0.2569228410720825,0.25784045457839966,0.19541876018047333,0.3789388835430145,0.2980218529701233,0.2595326006412506,0.26500582695007324,0.34265434741973877,0.19265875220298767,0.38393568992614746,0.2912418842315674,0.23676839470863342,0.28622516989707947,0.2595743238925934,0.2818426489830017,0.26212823390960693,0.23161055147647858,0.2310374677181244,0.2790882885456085,0.25547948479652405,0.19506391882896423,0.2810547351837158,0.24939481914043427,0.31942102313041687,0.18004699051380157,0.23991484940052032,0.24233251810073853,0.18284094333648682,0.3186521530151367,0.2880411148071289,0.2542341351509094,0.2637612521648407,0.2392539381980896,0.2781652808189392,0.2200835794210434,0.257106214761734,0.26275038719177246,0.28174862265586853,0.25502467155456543,0.26902931928634644,0.2515992522239685,0.24734845757484436,0.21715611219406128,0.2514379322528839,0.1662219911813736,0.31875941157341003,0.2777616083621979,0.26436781883239746,0.35957205295562744,0.23768948018550873,0.24353419244289398,0.21492114663124084,0.24829037487506866,0.32464104890823364,0.31715911626815796,0.24965156614780426,0.29677504301071167,0.2168198674917221,0.25447359681129456,0.3040914833545685,0.2724175751209259,0.3048546016216278,0.23801331222057343,0.2430519461631775,0.20346425473690033,0.19534793496131897,0.27748098969459534,0.29452604055404663,0.25344765186309814,0.25404396653175354,0.29930058121681213,0.2980431020259857,0.2818942368030548,0.28969302773475647,0.34084823727607727,0.28609707951545715,0.24552883207798004,0.29643598198890686,0.27664944529533386,0.2778703272342682,0.2526819109916687,0.2955295145511627,0.2298557162284851,0.2987739145755768,0.29402685165405273,0.29133403301239014,0.32754746079444885,0.26997753977775574,0.2239883840084076,0.23678331077098846,0.2162233293056488,0.2216809242963791,0.2511824369430542,0.2400568276643753,0.24447289109230042,0.33675718307495117,0.26609084010124207,0.25791627168655396,0.2472105473279953,0.3284444212913513,0.2754914164543152,0.2607242465019226,0.2135869711637497,0.28379368782043457,0.2157181352376938,0.2058841586112976,0.22744540870189667,0.2990509271621704,0.24804051220417023,0.2866646647453308,0.2398335337638855,0.3124196529388428,0.223371222615242,0.2745159864425659,0.2677280902862549,0.22781337797641754,0.2980818450450897,0.2659635841846466,0.30078744888305664,0.25721389055252075,0.2563686966896057,0.2998535633087158,0.24208906292915344,0.26804420351982117,0.30549919605255127,0.3884516954421997,0.29201626777648926,0.2569842040538788,0.25072357058525085,0.26378676295280457,0.24598664045333862,0.28023990988731384,0.276138573884964,0.23835515975952148,0.2572864592075348,0.21494805812835693,0.2787680923938751,0.30408236384391785,0.2406202256679535,0.27352264523506165,0.24361658096313477,0.22491438686847687,0.26393747329711914,0.27415621280670166,0.28488466143608093,0.25507187843322754,0.28706222772598267,0.22148022055625916,0.26221030950546265,0.24235014617443085,0.27454283833503723,0.30056700110435486,0.30614766478538513,0.26604002714157104,0.2516371011734009,0.2482573240995407,0.24598179757595062,0.2661074101924896,0.22745762765407562,0.2318299412727356,0.28316906094551086,0.22542287409305573,0.23790587484836578,0.23672586679458618,0.2512325346469879,0.2512505054473877,0.2634706199169159,0.22528325021266937,0.26971080899238586,0.26531872153282166,0.25919023156166077,0.21088862419128418,0.2983540892601013,0.2414371818304062,0.2350281924009323,0.2348891645669937,0.2524064779281616,0.2457635998725891,0.2281695306301117,0.23720966279506683,0.25742074847221375,0.1871640533208847,0.3586410582065582,0.25923940539360046,0.2986666262149811,0.21893346309661865,0.2523415982723236,0.2436387687921524,0.29802149534225464,0.2960772216320038,0.28174862265586853,0.2417314201593399,0.2602979242801666,0.2981266379356384,0.30972403287887573,0.271493136882782,0.21310561895370483,0.24948658049106598,0.2799474000930786,0.27443912625312805,0.32110464572906494,0.3086671531200409,0.32815176248550415,0.30890804529190063,0.1970537304878235,0.23790502548217773,0.21780046820640564,0.165790855884552,0.287994384765625,0.2559279501438141,0.29609593749046326,0.33911892771720886,0.1677553802728653,0.2716909945011139,0.2858563959598541,0.17362643778324127,0.2761066257953644,0.13947558403015137,0.1479141265153885,0.1602967381477356,0.16218963265419006,0.1966831386089325,0.2550724744796753,0.15468290448188782,0.28569313883781433,0.2719372510910034,0.2490413784980774,0.2356320470571518,0.24307681620121002,0.28050872683525085,0.3145034611225128,0.2956121563911438,0.1690998375415802,0.2519567012786865,0.2925010621547699,0.31794846057891846,0.27756279706954956,0.28499090671539307,0.2354738563299179,0.2896215617656708,0.2611783444881439,0.23219573497772217,0.26007694005966187,0.2336052656173706,0.24196060001850128,0.2465135157108307,0.30755460262298584,0.2459612339735031,0.24276763200759888,0.2867494821548462,0.3194790184497833,0.28814104199409485,0.2705273926258087,0.23829549551010132,0.26599347591400146,0.24180209636688232,0.2058287113904953,0.1798652857542038,0.27821412682533264,0.2751617133617401,0.27617621421813965,0.3096166253089905,0.2420293390750885,0.18384069204330444,0.2462739646434784,0.28066226840019226,0.22926796972751617,0.24649325013160706,0.24637316167354584,0.2559991478919983,0.32498443126678467,0.17435739934444427,0.31862205266952515,0.3054865002632141,0.2307863086462021,0.3417598307132721,0.2056230902671814,0.2508831322193146,0.26633498072624207,0.24235014617443085,0.17531146109104156,0.2535880208015442,0.24770386517047882,0.355783075094223,0.294670045375824,0.23271581530570984,0.16606174409389496,0.26728084683418274,0.314730167388916,0.1678183376789093,0.2618871033191681,0.3330175280570984,0.2591339647769928,0.28938573598861694,0.1960851103067398,0.24762392044067383,0.26439470052719116,0.18567782640457153,0.22438734769821167,0.28810951113700867,0.16439776122570038,0.21379251778125763,0.2552935779094696,0.31690695881843567,0.2652718126773834,0.2930036783218384,0.2986580431461334,0.2944517731666565,0.2924591898918152,0.16979773342609406,0.19815242290496826,0.2175239473581314,0.22144882380962372,0.27558955550193787,0.2725812494754791,0.18224404752254486,0.30325111746788025,0.14293338358402252,0.29697132110595703,0.2596037685871124,0.30562806129455566,0.24977822601795197,0.22153683006763458,0.21181416511535645,0.23492006957530975,0.2510775327682495,0.28323838114738464,0.2627125382423401,0.30168551206588745,0.2526400685310364,0.32357972860336304,0.268581360578537,0.24265603721141815,0.3006291389465332,0.19533993303775787,0.2591339647769928,0.3042832314968109,0.2554340362548828,0.1737854927778244,0.23957037925720215,0.20099012553691864,0.24664835631847382,0.24506230652332306,0.2360251098871231,0.21596325933933258,0.23442918062210083,0.2644834816455841,0.24155914783477783,0.30024102330207825,0.2877430319786072,0.3065052032470703,0.31329545378685,0.30999046564102173,0.1778722107410431,0.26749634742736816,0.21877071261405945,0.23339751362800598,0.29789915680885315,0.2748623490333557,0.21060331165790558,0.32343268394470215,0.23599249124526978,0.28946155309677124,0.21562603116035461,0.35314884781837463,0.1521100252866745,0.2786312997341156,0.20170538127422333,0.32424196600914,0.2911132872104645,0.32239195704460144,0.18293984234333038,0.20717954635620117,0.2083059400320053,0.250063419342041,0.24739667773246765,0.15623213350772858,0.22007164359092712,0.2433519959449768,0.3146809935569763,0.242142453789711,0.2849520742893219,0.2638112008571625,0.31250688433647156,0.23502327501773834,0.25075504183769226,0.24959877133369446,0.270173579454422,0.22034023702144623,0.3076328635215759,0.1641932874917984,0.3186604976654053,0.2544061243534088,0.3383256793022156,0.18566292524337769,0.20489227771759033,0.24307236075401306,0.2692328095436096,0.26629638671875,0.22417443990707397,0.3390180468559265,0.21801602840423584,0.20997019112110138,0.2268039435148239,0.2705255150794983,0.27784472703933716,0.2535880208015442,0.16773200035095215,0.31448447704315186,0.2384033203125,0.26002758741378784,0.17726178467273712,0.1892496794462204,0.22979551553726196,0.2267124503850937,0.1593165397644043,0.2301860898733139,0.18553145229816437,0.26716214418411255,0.30604833364486694,0.28277596831321716,0.33796969056129456,0.21877393126487732,0.20167216658592224,0.3012697696685791,0.25974974036216736,0.21430274844169617,0.24836578965187073,0.24819061160087585,0.22989521920681,0.3064662516117096,0.2565712034702301,0.22194594144821167,0.24210217595100403,0.17833121120929718,0.2280057817697525,0.25495460629463196,0.2938607633113861,0.2158452272415161,0.192484512925148,0.3435913026332855,0.30114319920539856,0.17398808896541595,0.192484512925148,0.24172082543373108,0.26546043157577515,0.2542121112346649,0.17664583027362823,0.22290833294391632,0.2311031073331833,0.29523324966430664,0.1507807970046997,0.2021692395210266,0.21866731345653534,0.228021040558815,0.242621049284935,0.21086548268795013,0.23424406349658966,0.1979813575744629,0.24711088836193085,0.16472437977790833,0.24804964661598206,0.19360727071762085,0.24251607060432434,0.17852233350276947,0.2632024884223938,0.2885141372680664,0.22321516275405884,0.23365961015224457,0.2647213041782379,0.22834992408752441,0.2665592432022095,0.18696925044059753,0.290780246257782,0.21141915023326874,0.2565550208091736,0.2520217299461365,0.2320522964000702,0.21885669231414795,0.3274533450603485,0.18441124260425568,0.24928516149520874,0.2815307676792145,0.25044602155685425,0.28112396597862244,0.28174862265586853,0.23894429206848145,0.21550637483596802,0.204633429646492,0.23446783423423767,0.22401215136051178,0.31015297770500183,0.18565121293067932,0.2210090458393097,0.2022150158882141,0.22241462767124176,0.1754586547613144,0.2627125382423401,0.19700004160404205,0.25368428230285645,0.24181430041790009,0.2807953357696533,0.2045426368713379,0.2810879349708557,0.22314801812171936,0.2865281105041504,0.20305326581001282,0.23138801753520966,0.2905658483505249,0.1811087429523468,0.3215600550174713,0.3249238431453705,0.32950571179389954,0.29704609513282776,0.22149375081062317,0.22419197857379913,0.17500470578670502,0.27787211537361145,0.21580910682678223,0.3777468204498291,0.23614563047885895,0.2046651989221573,0.2517479658126831,0.19829025864601135,0.21558955311775208,0.26041024923324585,0.23718266189098358,0.24810227751731873,0.28678813576698303,0.28678813576698303,0.28678813576698303,0.23996277153491974,0.2769511342048645,0.23784124851226807,0.3189883530139923,0.18370956182479858,0.22850124537944794,0.150806725025177,0.16786833107471466,0.26291847229003906,0.2283584475517273,0.23939092457294464,0.2586553394794464,0.20135223865509033,0.2586553394794464,0.20028892159461975,0.14870662987232208,0.17901986837387085,0.323959618806839,0.2737376391887665,0.20028892159461975,0.22834992408752441,0.18036974966526031,0.25741881132125854,0.2716156542301178,0.22399702668190002,0.21390759944915771,0.16759121417999268,0.14749544858932495,0.21557028591632843,0.16658760607242584,0.2615194618701935,0.22113850712776184,0.31442007422447205,0.2766217589378357,0.31208425760269165,0.18283666670322418,0.3274533450603485,0.2723960876464844,0.23292750120162964,0.18630351126194,0.2644834816455841,0.3390180468559265,0.20102477073669434],\"type\":\"histogram\"},{\"name\":\"GMI+XM\",\"x\":[0.37460029125213623,0.3885986804962158,0.2770441770553589,0.2970849275588989,0.2995782196521759,0.23096893727779388,0.3013974130153656,0.30329832434654236,0.33140504360198975,0.3280161917209625,0.35941579937934875,0.3247060179710388,0.35891294479370117,0.2923540472984314,0.3530135154724121,0.3203113377094269,0.3760394752025604,0.3136076331138611,0.4297083616256714,0.3277337849140167,0.3298227787017822,0.28862446546554565,0.3916580080986023,0.3004360795021057,0.2884841561317444,0.31741514801979065,0.31174397468566895,0.2976028025150299,0.29090720415115356,0.3184557259082794,0.31411609053611755,0.33643537759780884,0.30165690183639526,0.32241782546043396,0.27672019600868225,0.3438039720058441,0.3393128514289856,0.3405061960220337,0.33333268761634827,0.33402055501937866,0.3084941804409027,0.32307344675064087,0.34466752409935,0.3137030303478241,0.29158535599708557,0.33428990840911865,0.3039190471172333,0.31922370195388794,0.3033350706100464,0.35951822996139526,0.35282808542251587,0.37751370668411255,0.4347962737083435,0.4307209551334381,0.29272541403770447,0.31036433577537537,0.28455573320388794,0.3011046051979065,0.28244298696517944,0.2789853513240814,0.2955739200115204,0.3791980445384979,0.260452538728714,0.3026036024093628,0.3142246603965759,0.26923149824142456,0.3106127977371216,0.3779759705066681,0.3528408110141754,0.3240017592906952,0.36879962682724,0.31983980536460876,0.386403352022171,0.4024495482444763,0.4004846215248108,0.34577953815460205,0.299037367105484,0.35216739773750305,0.3482246994972229,0.3636329174041748,0.33603569865226746,0.29332712292671204,0.23602722585201263,0.28328263759613037,0.3370279371738434,0.4763961732387543,0.25702109932899475,0.31323322653770447,0.3019162714481354,0.26336172223091125,0.3587842583656311,0.33187374472618103,0.4146046042442322,0.3184162974357605,0.33681631088256836,0.3580241799354553,0.24483752250671387,0.30057862401008606,0.33549264073371887,0.31924858689308167,0.3291877508163452,0.32699236273765564,0.3340381979942322,0.33683130145072937,0.3019455671310425,0.3008178174495697,0.2986205518245697,0.2387838214635849,0.3129018247127533,0.432889848947525,0.2998780310153961,0.3007352948188782,0.3721402585506439,0.352090448141098,0.2820698916912079,0.3093702495098114,0.3251340985298157,0.39251381158828735,0.4220335781574249,0.3541313707828522,0.4120027422904968,0.2177494317293167,0.3983003795146942,0.39328205585479736,0.3158814311027527,0.30316948890686035,0.33555251359939575,0.4158796966075897,0.2883434593677521,0.2909711003303528,0.3574601411819458,0.336588978767395,0.3132646381855011,0.2779642641544342,0.39484694600105286,0.32227128744125366,0.28723371028900146,0.29579758644104004,0.3005712628364563,0.32323819398880005,0.3078191578388214,0.3410762548446655,0.2797231376171112,0.37818118929862976,0.3278336822986603,0.33696720004081726,0.43060746788978577,0.3553561866283417,0.4149039387702942,0.37349316477775574,0.3322419822216034,0.3263002932071686,0.30149760842323303,0.3018118143081665,0.3081638514995575,0.31994321942329407,0.3929021656513214,0.3202263116836548,0.3378264904022217,0.32630690932273865,0.16323556005954742,0.35550516843795776,0.3795326054096222,0.3294239640235901,0.3596354126930237,0.2812257707118988,0.20508742332458496,0.27397778630256653,0.38456204533576965,0.3053276538848877,0.33396169543266296,0.3290266692638397,0.35285353660583496,0.3354480564594269,0.31744298338890076,0.34473365545272827,0.38046765327453613,0.3745235502719879,0.38887402415275574,0.3570127487182617,0.40327131748199463,0.3014238178730011,0.3089519441127777,0.27991044521331787,0.326966255903244,0.29817333817481995,0.3372858166694641,0.32606208324432373,0.35259345173835754,0.304309219121933,0.35032540559768677,0.34072059392929077,0.2877710461616516,0.27157631516456604,0.29358118772506714,0.29084348678588867,0.3322390913963318,0.3494163155555725,0.37226444482803345,0.3534858822822571,0.3094812333583832,0.350614994764328,0.3889053165912628,0.3481898903846741,0.31863176822662354,0.34804704785346985,0.32616671919822693,0.3559526801109314,0.33742910623550415,0.2880040407180786,0.2986508905887604,0.21229004859924316,0.2565983235836029,0.35896411538124084,0.36887288093566895,0.3431023955345154,0.3292085528373718,0.3594830334186554,0.35182449221611023,0.3712696135044098,0.41833019256591797,0.39014312624931335,0.35905876755714417,0.37987643480300903,0.4118953049182892,0.37478408217430115,0.33833709359169006,0.444570392370224,0.3953719139099121,0.40598779916763306,0.3236197531223297,0.36282026767730713,0.32747459411621094,0.31872880458831787,0.31897085905075073,0.334936261177063,0.32643890380859375,0.3363742530345917,0.3728579878807068,0.3956547677516937,0.32696273922920227,0.33483052253723145,0.32223811745643616,0.3753446638584137,0.36915552616119385,0.33500659465789795,0.3753434121608734,0.32490023970603943,0.38824790716171265,0.27134329080581665,0.32472771406173706,0.3230138421058655,0.25438904762268066,0.34822121262550354,0.3287353515625,0.36723262071609497,0.31689321994781494,0.36911216378211975,0.34265586733818054,0.387367308139801,0.390337735414505,0.3076310157775879,0.4166565239429474,0.33653542399406433,0.33988696336746216,0.34216007590293884,0.3857259452342987,0.33511078357696533,0.37731656432151794,0.28386369347572327,0.38885197043418884,0.3228699564933777,0.35808250308036804,0.32173141837120056,0.3313821852207184,0.3629905879497528,0.43338724970817566,0.3493688404560089,0.3914945125579834,0.3262249231338501,0.29871469736099243,0.3224627375602722,0.26178276538848877,0.24453631043434143,0.3450552821159363,0.297655314207077,0.31392261385917664,0.3592509329319,0.32509928941726685,0.4621181786060333,0.3231459856033325,0.33074355125427246,0.40625816583633423,0.3253372013568878,0.32785236835479736,0.3307243585586548,0.2968100309371948,0.3672785460948944,0.4088928699493408,0.3582042157649994,0.3311038613319397,0.2778971791267395,0.349469929933548,0.2727322280406952,0.3184143304824829,0.33528071641921997,0.39273789525032043,0.4430219531059265,0.32756778597831726,0.44247251749038696,0.4245173931121826,0.3569496273994446,0.392978698015213,0.3488781452178955,0.3719177544116974,0.42120078206062317,0.3998546302318573,0.4482730031013489,0.34800395369529724,0.2817598879337311,0.3037407696247101,0.3009145259857178,0.2843952178955078,0.339082270860672,0.3915072977542877,0.36942997574806213,0.3949897587299347,0.3778459131717682,0.3555762767791748,0.30795976519584656,0.40638047456741333,0.3735038936138153,0.33034518361091614,0.26655179262161255,0.2696208357810974,0.2804768979549408,0.3554736375808716,0.32321763038635254,0.33289793133735657,0.2982558310031891,0.24204517900943756,0.3461286425590515,0.3488501310348511,0.39958903193473816,0.3632581830024719,0.40139421820640564,0.4031069278717041,0.4470258057117462,0.28278648853302,0.4144234359264374,0.3967217206954956,0.325078547000885,0.3960542678833008,0.31290435791015625,0.28103241324424744,0.2767738103866577,0.3443804681301117,0.34308335185050964,0.3025023341178894,0.3461636006832123,0.38411960005760193,0.2927803099155426,0.33412647247314453,0.29830044507980347,0.3413846790790558,0.3725700378417969,0.3849397599697113,0.2961471676826477,0.3537083864212036,0.287505567073822,0.32934096455574036,0.2951001226902008,0.37096384167671204,0.4168124794960022,0.29246094822883606,0.2938467860221863,0.30609968304634094,0.19280807673931122,0.2902057468891144,0.30915501713752747,0.30175572633743286,0.3472909927368164,0.27486228942871094,0.25562283396720886,0.33713674545288086,0.2796476185321808,0.3421019911766052,0.3702947795391083,0.3016306459903717,0.36263197660446167,0.31082284450531006,0.30516934394836426,0.29886916279792786,0.31852245330810547,0.29757270216941833,0.349187970161438,0.2755381762981415,0.3301383852958679,0.27625584602355957,0.3564293682575226,0.37541496753692627,0.30537256598472595,0.40667176246643066,0.387424111366272,0.30251652002334595,0.2602307200431824,0.30196863412857056,0.320435494184494,0.2752166986465454,0.34772545099258423,0.31563079357147217,0.2520887851715088,0.30262291431427,0.33813542127609253,0.20658481121063232,0.5176781415939331,0.445556640625,0.3076867461204529,0.3533710539340973,0.3922940790653229,0.20908847451210022,0.47563138604164124,0.37402066588401794,0.2983607053756714,0.31603461503982544,0.31601589918136597,0.34096989035606384,0.3261214792728424,0.30153998732566833,0.2973123788833618,0.3465457558631897,0.34562864899635315,0.2812368869781494,0.3728311061859131,0.25968804955482483,0.4171903431415558,0.27118414640426636,0.3040469288825989,0.2818561792373657,0.27578291296958923,0.372013121843338,0.3563174605369568,0.335306853055954,0.3198171555995941,0.3092179596424103,0.36943742632865906,0.29021915793418884,0.329668790102005,0.330731600522995,0.3600158989429474,0.30076703429222107,0.373528391122818,0.3094135820865631,0.3266153633594513,0.31561756134033203,0.30063214898109436,0.24122795462608337,0.41867461800575256,0.34657061100006104,0.31329765915870667,0.45059970021247864,0.3110089600086212,0.31098291277885437,0.2845836877822876,0.30930668115615845,0.4473247230052948,0.3802974820137024,0.34013113379478455,0.4021804928779602,0.29696840047836304,0.33543848991394043,0.4269716143608093,0.3968460261821747,0.3464076817035675,0.28295496106147766,0.3642600476741791,0.2948180139064789,0.2743460536003113,0.3515677750110626,0.414704829454422,0.325176864862442,0.32392609119415283,0.3705540895462036,0.37015822529792786,0.3809190094470978,0.37910518050193787,0.40656933188438416,0.38430920243263245,0.34610438346862793,0.3885740637779236,0.35857391357421875,0.3737052083015442,0.3385974168777466,0.3396661877632141,0.25651153922080994,0.35091251134872437,0.39233601093292236,0.40148115158081055,0.36924025416374207,0.32449570298194885,0.3001049757003784,0.3293061852455139,0.2850799560546875,0.31098034977912903,0.3124469518661499,0.33367857336997986,0.2927550971508026,0.48644885420799255,0.34894514083862305,0.3107057213783264,0.3348933160305023,0.43414536118507385,0.40395885705947876,0.32394853234291077,0.30200493335723877,0.3539339303970337,0.28786009550094604,0.28344953060150146,0.27681073546409607,0.39896368980407715,0.30945679545402527,0.376422643661499,0.3522195816040039,0.4111159145832062,0.3087770938873291,0.33751732110977173,0.3193065822124481,0.3119675815105438,0.42040207982063293,0.3381538391113281,0.4274865984916687,0.3232274055480957,0.3548324406147003,0.31611114740371704,0.35717716813087463,0.3788885772228241,0.42971622943878174,0.48030951619148254,0.4057873785495758,0.3709402084350586,0.3592687249183655,0.35987794399261475,0.33842411637306213,0.34882187843322754,0.35940098762512207,0.3188175559043884,0.29085806012153625,0.28079020977020264,0.3643900752067566,0.3453769087791443,0.3273472189903259,0.3716508150100708,0.3163498044013977,0.3133803606033325,0.363520085811615,0.38051560521125793,0.405588299036026,0.3532756567001343,0.39799466729164124,0.3147841691970825,0.31490716338157654,0.34366369247436523,0.35568809509277344,0.39862746000289917,0.3976127505302429,0.37137866020202637,0.3339366614818573,0.3442003130912781,0.3257095217704773,0.33245396614074707,0.305530309677124,0.3232508599758148,0.3723721504211426,0.3085422217845917,0.3498360216617584,0.33212441205978394,0.34834325313568115,0.3440540134906769,0.37851640582084656,0.3020683228969574,0.35389307141304016,0.3691056966781616,0.3609309792518616,0.312344491481781,0.4146006405353546,0.32893314957618713,0.33018502593040466,0.31608328223228455,0.34637451171875,0.32383808493614197,0.3318774402141571,0.29697489738464355,0.31926700472831726,0.2772800624370575,0.5142409205436707,0.3769351541996002,0.41120535135269165,0.30826395750045776,0.3555751442909241,0.34048187732696533,0.3865518867969513,0.394112765789032,0.3600158989429474,0.3522948622703552,0.3207034170627594,0.435200572013855,0.4108356535434723,0.35126662254333496,0.3116776645183563,0.34321215748786926,0.37051939964294434,0.34156107902526855,0.43634119629859924,0.42655253410339355,0.40213045477867126,0.44892480969429016,0.2866429090499878,0.3238855302333832,0.31467047333717346,0.2394327074289322,0.38896694779396057,0.3640449047088623,0.4105614423751831,0.48035377264022827,0.2496311366558075,0.3962046802043915,0.3994004726409912,0.2474222034215927,0.4077220857143402,0.19854965806007385,0.21423810720443726,0.22817698121070862,0.2097819596529007,0.27705520391464233,0.35187992453575134,0.22673475742340088,0.38514524698257446,0.39487409591674805,0.3371613621711731,0.31875333189964294,0.3403184413909912,0.39445874094963074,0.43678441643714905,0.40706440806388855,0.24730490148067474,0.35711538791656494,0.4114707112312317,0.46222901344299316,0.3822576701641083,0.4180009663105011,0.30410081148147583,0.38052913546562195,0.36191633343696594,0.33532577753067017,0.3577026426792145,0.2940983176231384,0.33180925250053406,0.34087032079696655,0.4307730793952942,0.3326871693134308,0.3274911940097809,0.38170450925827026,0.4652346074581146,0.40989556908607483,0.3617784082889557,0.33478227257728577,0.36889344453811646,0.32568708062171936,0.30355095863342285,0.27047964930534363,0.38667041063308716,0.37903985381126404,0.403389036655426,0.40666139125823975,0.35559290647506714,0.26559045910835266,0.31218233704566956,0.40202224254608154,0.3335971236228943,0.3515932857990265,0.34767869114875793,0.3518078327178955,0.48521333932876587,0.26144078373908997,0.452788382768631,0.40351617336273193,0.3304752707481384,0.46100300550460815,0.27664440870285034,0.32912081480026245,0.34190303087234497,0.34366369247436523,0.2644810378551483,0.34904125332832336,0.35624977946281433,0.4858512282371521,0.36730414628982544,0.3151372969150543,0.2460433542728424,0.36414602398872375,0.4229835569858551,0.2526542544364929,0.3527265787124634,0.48984184861183167,0.35572218894958496,0.40558457374572754,0.29035499691963196,0.3354836106300354,0.34922751784324646,0.26945924758911133,0.33505257964134216,0.38505250215530396,0.24683167040348053,0.3022612929344177,0.3533583879470825,0.4725090563297272,0.36207976937294006,0.4219646751880646,0.4235866665840149,0.39236465096473694,0.4085009694099426,0.24510371685028076,0.290731281042099,0.2924444377422333,0.29301974177360535,0.40690863132476807,0.4077513813972473,0.2615535259246826,0.4278939962387085,0.20249173045158386,0.4219822287559509,0.3371385633945465,0.3968501687049866,0.3689216673374176,0.31752142310142517,0.31045112013816833,0.3492789566516876,0.33706867694854736,0.37028980255126953,0.3811132311820984,0.39967820048332214,0.360946387052536,0.45242977142333984,0.40411439538002014,0.35878053307533264,0.4394407868385315,0.2770102322101593,0.35572218894958496,0.4371400773525238,0.34583625197410583,0.24819742143154144,0.354518860578537,0.27427637577056885,0.3669922649860382,0.34935522079467773,0.34723639488220215,0.29110899567604065,0.3380930423736572,0.37441110610961914,0.3120933771133423,0.3909672200679779,0.42198416590690613,0.4581935405731201,0.45151832699775696,0.4570499658584595,0.2661729156970978,0.38854607939720154,0.29289162158966064,0.3485673666000366,0.42001309990882874,0.39965561032295227,0.2726980745792389,0.4570976197719574,0.33655548095703125,0.41672375798225403,0.31225141882896423,0.5084015130996704,0.22422581911087036,0.40854042768478394,0.30160626769065857,0.4587728977203369,0.4178374111652374,0.46987107396125793,0.27569344639778137,0.302958607673645,0.2850893437862396,0.3493216037750244,0.36512482166290283,0.22795727849006653,0.32580167055130005,0.30695685744285583,0.43526095151901245,0.35127970576286316,0.3479166328907013,0.34312981367111206,0.4532460868358612,0.32733339071273804,0.33531683683395386,0.3587208688259125,0.3821059465408325,0.32421645522117615,0.3328104317188263,0.24617624282836914,0.4262204170227051,0.33391886949539185,0.4901809096336365,0.26263633370399475,0.2741315960884094,0.3487691283226013,0.35945290327072144,0.3939708471298218,0.32153868675231934,0.48999470472335815,0.2920399606227875,0.30573856830596924,0.3282734453678131,0.3863029479980469,0.39150217175483704,0.34904125332832336,0.25099268555641174,0.4683905839920044,0.3296070098876953,0.36261269450187683,0.26635801792144775,0.273201584815979,0.34531980752944946,0.2993718981742859,0.1830548644065857,0.30001235008239746,0.2792206406593323,0.3894359767436981,0.46000561118125916,0.37540680170059204,0.471893846988678,0.31665781140327454,0.29907241463661194,0.44571587443351746,0.3133125603199005,0.3188323378562927,0.35544249415397644,0.29980820417404175,0.30694904923439026,0.44301414489746094,0.3586655557155609,0.3204001486301422,0.34665414690971375,0.25612613558769226,0.3436008393764496,0.37892013788223267,0.44022777676582336,0.30906492471694946,0.28305983543395996,0.49757230281829834,0.4206905663013458,0.2564532160758972,0.28305983543395996,0.3482920229434967,0.3744037449359894,0.3709808886051178,0.26343846321105957,0.3191946744918823,0.30824679136276245,0.42795148491859436,0.22685736417770386,0.2878388464450836,0.29359322786331177,0.3289337754249573,0.34800297021865845,0.29840388894081116,0.3369048535823822,0.29760754108428955,0.3402693271636963,0.24674943089485168,0.33545705676078796,0.28746819496154785,0.3451131582260132,0.2694207429885864,0.35135579109191895,0.42268046736717224,0.3158886134624481,0.3366844952106476,0.35020285844802856,0.3295212686061859,0.3842320740222931,0.2720972001552582,0.42521438002586365,0.29987695813179016,0.3797973096370697,0.33868521451950073,0.3043093979358673,0.32206934690475464,0.47288793325424194,0.27700504660606384,0.36633583903312683,0.3713241219520569,0.3398236036300659,0.4111297130584717,0.3600158989429474,0.3126465678215027,0.28204748034477234,0.2870818078517914,0.3390745222568512,0.32047805190086365,0.40969446301460266,0.255962073802948,0.3166491389274597,0.2759527862071991,0.3080383837223053,0.24364006519317627,0.3811132311820984,0.27181607484817505,0.34476274251937866,0.33029234409332275,0.3265927731990814,0.2773655652999878,0.4199139177799225,0.3227319121360779,0.36257725954055786,0.28920069336891174,0.33071252703666687,0.4297252595424652,0.2729460597038269,0.4645635485649109,0.4763078987598419,0.4784630835056305,0.43211400508880615,0.3211543560028076,0.3182007074356079,0.24752341210842133,0.4050538241863251,0.29346510767936707,0.48097652196884155,0.33145755529403687,0.29487064480781555,0.3421608507633209,0.2936520576477051,0.30704182386398315,0.3627578616142273,0.3354097604751587,0.34316542744636536,0.4138670861721039,0.4138670861721039,0.4138670861721039,0.3292491137981415,0.3540939390659332,0.3513962924480438,0.46050798892974854,0.2749483585357666,0.33654266595840454,0.21681024134159088,0.25185614824295044,0.3864181339740753,0.24197593331336975,0.352087140083313,0.3637637495994568,0.29268351197242737,0.3637637495994568,0.2628190815448761,0.2147471010684967,0.2631213963031769,0.46640872955322266,0.3811529874801636,0.2628190517425537,0.3295212686061859,0.27263304591178894,0.3877481520175934,0.3974516689777374,0.33473387360572815,0.3039762079715729,0.2505258619785309,0.21330879628658295,0.2952652871608734,0.25065141916275024,0.36187049746513367,0.31916481256484985,0.4554745554924011,0.3464730978012085,0.45365649461746216,0.2699076533317566,0.47288793325424194,0.3989577889442444,0.34038475155830383,0.2662397027015686,0.37441110610961914,0.48999470472335815,0.2911651134490967],\"type\":\"histogram\"}],                        {\"template\":{\"data\":{\"histogram2dcontour\":[{\"type\":\"histogram2dcontour\",\"colorbar\":{\"outlinewidth\":0,\"ticks\":\"\"},\"colorscale\":[[0.0,\"#0d0887\"],[0.1111111111111111,\"#46039f\"],[0.2222222222222222,\"#7201a8\"],[0.3333333333333333,\"#9c179e\"],[0.4444444444444444,\"#bd3786\"],[0.5555555555555556,\"#d8576b\"],[0.6666666666666666,\"#ed7953\"],[0.7777777777777778,\"#fb9f3a\"],[0.8888888888888888,\"#fdca26\"],[1.0,\"#f0f921\"]]}],\"choropleth\":[{\"type\":\"choropleth\",\"colorbar\":{\"outlinewidth\":0,\"ticks\":\"\"}}],\"histogram2d\":[{\"type\":\"histogram2d\",\"colorbar\":{\"outlinewidth\":0,\"ticks\":\"\"},\"colorscale\":[[0.0,\"#0d0887\"],[0.1111111111111111,\"#46039f\"],[0.2222222222222222,\"#7201a8\"],[0.3333333333333333,\"#9c179e\"],[0.4444444444444444,\"#bd3786\"],[0.5555555555555556,\"#d8576b\"],[0.6666666666666666,\"#ed7953\"],[0.7777777777777778,\"#fb9f3a\"],[0.8888888888888888,\"#fdca26\"],[1.0,\"#f0f921\"]]}],\"heatmap\":[{\"type\":\"heatmap\",\"colorbar\":{\"outlinewidth\":0,\"ticks\":\"\"},\"colorscale\":[[0.0,\"#0d0887\"],[0.1111111111111111,\"#46039f\"],[0.2222222222222222,\"#7201a8\"],[0.3333333333333333,\"#9c179e\"],[0.4444444444444444,\"#bd3786\"],[0.5555555555555556,\"#d8576b\"],[0.6666666666666666,\"#ed7953\"],[0.7777777777777778,\"#fb9f3a\"],[0.8888888888888888,\"#fdca26\"],[1.0,\"#f0f921\"]]}],\"heatmapgl\":[{\"type\":\"heatmapgl\",\"colorbar\":{\"outlinewidth\":0,\"ticks\":\"\"},\"colorscale\":[[0.0,\"#0d0887\"],[0.1111111111111111,\"#46039f\"],[0.2222222222222222,\"#7201a8\"],[0.3333333333333333,\"#9c179e\"],[0.4444444444444444,\"#bd3786\"],[0.5555555555555556,\"#d8576b\"],[0.6666666666666666,\"#ed7953\"],[0.7777777777777778,\"#fb9f3a\"],[0.8888888888888888,\"#fdca26\"],[1.0,\"#f0f921\"]]}],\"contourcarpet\":[{\"type\":\"contourcarpet\",\"colorbar\":{\"outlinewidth\":0,\"ticks\":\"\"}}],\"contour\":[{\"type\":\"contour\",\"colorbar\":{\"outlinewidth\":0,\"ticks\":\"\"},\"colorscale\":[[0.0,\"#0d0887\"],[0.1111111111111111,\"#46039f\"],[0.2222222222222222,\"#7201a8\"],[0.3333333333333333,\"#9c179e\"],[0.4444444444444444,\"#bd3786\"],[0.5555555555555556,\"#d8576b\"],[0.6666666666666666,\"#ed7953\"],[0.7777777777777778,\"#fb9f3a\"],[0.8888888888888888,\"#fdca26\"],[1.0,\"#f0f921\"]]}],\"surface\":[{\"type\":\"surface\",\"colorbar\":{\"outlinewidth\":0,\"ticks\":\"\"},\"colorscale\":[[0.0,\"#0d0887\"],[0.1111111111111111,\"#46039f\"],[0.2222222222222222,\"#7201a8\"],[0.3333333333333333,\"#9c179e\"],[0.4444444444444444,\"#bd3786\"],[0.5555555555555556,\"#d8576b\"],[0.6666666666666666,\"#ed7953\"],[0.7777777777777778,\"#fb9f3a\"],[0.8888888888888888,\"#fdca26\"],[1.0,\"#f0f921\"]]}],\"mesh3d\":[{\"type\":\"mesh3d\",\"colorbar\":{\"outlinewidth\":0,\"ticks\":\"\"}}],\"scatter\":[{\"fillpattern\":{\"fillmode\":\"overlay\",\"size\":10,\"solidity\":0.2},\"type\":\"scatter\"}],\"parcoords\":[{\"type\":\"parcoords\",\"line\":{\"colorbar\":{\"outlinewidth\":0,\"ticks\":\"\"}}}],\"scatterpolargl\":[{\"type\":\"scatterpolargl\",\"marker\":{\"colorbar\":{\"outlinewidth\":0,\"ticks\":\"\"}}}],\"bar\":[{\"error_x\":{\"color\":\"#2a3f5f\"},\"error_y\":{\"color\":\"#2a3f5f\"},\"marker\":{\"line\":{\"color\":\"#E5ECF6\",\"width\":0.5},\"pattern\":{\"fillmode\":\"overlay\",\"size\":10,\"solidity\":0.2}},\"type\":\"bar\"}],\"scattergeo\":[{\"type\":\"scattergeo\",\"marker\":{\"colorbar\":{\"outlinewidth\":0,\"ticks\":\"\"}}}],\"scatterpolar\":[{\"type\":\"scatterpolar\",\"marker\":{\"colorbar\":{\"outlinewidth\":0,\"ticks\":\"\"}}}],\"histogram\":[{\"marker\":{\"pattern\":{\"fillmode\":\"overlay\",\"size\":10,\"solidity\":0.2}},\"type\":\"histogram\"}],\"scattergl\":[{\"type\":\"scattergl\",\"marker\":{\"colorbar\":{\"outlinewidth\":0,\"ticks\":\"\"}}}],\"scatter3d\":[{\"type\":\"scatter3d\",\"line\":{\"colorbar\":{\"outlinewidth\":0,\"ticks\":\"\"}},\"marker\":{\"colorbar\":{\"outlinewidth\":0,\"ticks\":\"\"}}}],\"scattermapbox\":[{\"type\":\"scattermapbox\",\"marker\":{\"colorbar\":{\"outlinewidth\":0,\"ticks\":\"\"}}}],\"scatterternary\":[{\"type\":\"scatterternary\",\"marker\":{\"colorbar\":{\"outlinewidth\":0,\"ticks\":\"\"}}}],\"scattercarpet\":[{\"type\":\"scattercarpet\",\"marker\":{\"colorbar\":{\"outlinewidth\":0,\"ticks\":\"\"}}}],\"carpet\":[{\"aaxis\":{\"endlinecolor\":\"#2a3f5f\",\"gridcolor\":\"white\",\"linecolor\":\"white\",\"minorgridcolor\":\"white\",\"startlinecolor\":\"#2a3f5f\"},\"baxis\":{\"endlinecolor\":\"#2a3f5f\",\"gridcolor\":\"white\",\"linecolor\":\"white\",\"minorgridcolor\":\"white\",\"startlinecolor\":\"#2a3f5f\"},\"type\":\"carpet\"}],\"table\":[{\"cells\":{\"fill\":{\"color\":\"#EBF0F8\"},\"line\":{\"color\":\"white\"}},\"header\":{\"fill\":{\"color\":\"#C8D4E3\"},\"line\":{\"color\":\"white\"}},\"type\":\"table\"}],\"barpolar\":[{\"marker\":{\"line\":{\"color\":\"#E5ECF6\",\"width\":0.5},\"pattern\":{\"fillmode\":\"overlay\",\"size\":10,\"solidity\":0.2}},\"type\":\"barpolar\"}],\"pie\":[{\"automargin\":true,\"type\":\"pie\"}]},\"layout\":{\"autotypenumbers\":\"strict\",\"colorway\":[\"#636efa\",\"#EF553B\",\"#00cc96\",\"#ab63fa\",\"#FFA15A\",\"#19d3f3\",\"#FF6692\",\"#B6E880\",\"#FF97FF\",\"#FECB52\"],\"font\":{\"color\":\"#2a3f5f\"},\"hovermode\":\"closest\",\"hoverlabel\":{\"align\":\"left\"},\"paper_bgcolor\":\"white\",\"plot_bgcolor\":\"#E5ECF6\",\"polar\":{\"bgcolor\":\"#E5ECF6\",\"angularaxis\":{\"gridcolor\":\"white\",\"linecolor\":\"white\",\"ticks\":\"\"},\"radialaxis\":{\"gridcolor\":\"white\",\"linecolor\":\"white\",\"ticks\":\"\"}},\"ternary\":{\"bgcolor\":\"#E5ECF6\",\"aaxis\":{\"gridcolor\":\"white\",\"linecolor\":\"white\",\"ticks\":\"\"},\"baxis\":{\"gridcolor\":\"white\",\"linecolor\":\"white\",\"ticks\":\"\"},\"caxis\":{\"gridcolor\":\"white\",\"linecolor\":\"white\",\"ticks\":\"\"}},\"coloraxis\":{\"colorbar\":{\"outlinewidth\":0,\"ticks\":\"\"}},\"colorscale\":{\"sequential\":[[0.0,\"#0d0887\"],[0.1111111111111111,\"#46039f\"],[0.2222222222222222,\"#7201a8\"],[0.3333333333333333,\"#9c179e\"],[0.4444444444444444,\"#bd3786\"],[0.5555555555555556,\"#d8576b\"],[0.6666666666666666,\"#ed7953\"],[0.7777777777777778,\"#fb9f3a\"],[0.8888888888888888,\"#fdca26\"],[1.0,\"#f0f921\"]],\"sequentialminus\":[[0.0,\"#0d0887\"],[0.1111111111111111,\"#46039f\"],[0.2222222222222222,\"#7201a8\"],[0.3333333333333333,\"#9c179e\"],[0.4444444444444444,\"#bd3786\"],[0.5555555555555556,\"#d8576b\"],[0.6666666666666666,\"#ed7953\"],[0.7777777777777778,\"#fb9f3a\"],[0.8888888888888888,\"#fdca26\"],[1.0,\"#f0f921\"]],\"diverging\":[[0,\"#8e0152\"],[0.1,\"#c51b7d\"],[0.2,\"#de77ae\"],[0.3,\"#f1b6da\"],[0.4,\"#fde0ef\"],[0.5,\"#f7f7f7\"],[0.6,\"#e6f5d0\"],[0.7,\"#b8e186\"],[0.8,\"#7fbc41\"],[0.9,\"#4d9221\"],[1,\"#276419\"]]},\"xaxis\":{\"gridcolor\":\"white\",\"linecolor\":\"white\",\"ticks\":\"\",\"title\":{\"standoff\":15},\"zerolinecolor\":\"white\",\"automargin\":true,\"zerolinewidth\":2},\"yaxis\":{\"gridcolor\":\"white\",\"linecolor\":\"white\",\"ticks\":\"\",\"title\":{\"standoff\":15},\"zerolinecolor\":\"white\",\"automargin\":true,\"zerolinewidth\":2},\"scene\":{\"xaxis\":{\"backgroundcolor\":\"#E5ECF6\",\"gridcolor\":\"white\",\"linecolor\":\"white\",\"showbackground\":true,\"ticks\":\"\",\"zerolinecolor\":\"white\",\"gridwidth\":2},\"yaxis\":{\"backgroundcolor\":\"#E5ECF6\",\"gridcolor\":\"white\",\"linecolor\":\"white\",\"showbackground\":true,\"ticks\":\"\",\"zerolinecolor\":\"white\",\"gridwidth\":2},\"zaxis\":{\"backgroundcolor\":\"#E5ECF6\",\"gridcolor\":\"white\",\"linecolor\":\"white\",\"showbackground\":true,\"ticks\":\"\",\"zerolinecolor\":\"white\",\"gridwidth\":2}},\"shapedefaults\":{\"line\":{\"color\":\"#2a3f5f\"}},\"annotationdefaults\":{\"arrowcolor\":\"#2a3f5f\",\"arrowhead\":0,\"arrowwidth\":1},\"geo\":{\"bgcolor\":\"white\",\"landcolor\":\"#E5ECF6\",\"subunitcolor\":\"white\",\"showland\":true,\"showlakes\":true,\"lakecolor\":\"white\"},\"title\":{\"x\":0.05},\"mapbox\":{\"style\":\"light\"}}},\"title\":{\"text\":\"Distribution of Nuclear Norm of Node Explain Matrix\"},\"xaxis\":{\"title\":{\"text\":\"Nuclear Norm\"}},\"yaxis\":{\"title\":{\"text\":\"Frequency\"}},\"font\":{\"size\":20},\"paper_bgcolor\":\"white\",\"plot_bgcolor\":\"white\"},                        {\"responsive\": true}                    ).then(function(){\n",
       "                            \n",
       "var gd = document.getElementById('ec29dd71-4945-4e2f-9255-3f19976edf58');\n",
       "var x = new MutationObserver(function (mutations, observer) {{\n",
       "        var display = window.getComputedStyle(gd).display;\n",
       "        if (!display || display === 'none') {{\n",
       "            console.log([gd, 'removed!']);\n",
       "            Plotly.purge(gd);\n",
       "            observer.disconnect();\n",
       "        }}\n",
       "}});\n",
       "\n",
       "// Listen for the removal of the full notebook cells\n",
       "var notebookContainer = gd.closest('#notebook-container');\n",
       "if (notebookContainer) {{\n",
       "    x.observe(notebookContainer, {childList: true});\n",
       "}}\n",
       "\n",
       "// Listen for the clearing of the current output cell\n",
       "var outputEl = gd.closest('.output');\n",
       "if (outputEl) {{\n",
       "    x.observe(outputEl, {childList: true});\n",
       "}}\n",
       "\n",
       "                        })                };                });            </script>        </div>"
      ]
     },
     "metadata": {},
     "output_type": "display_data"
    }
   ],
   "source": [
    "fig = go.Figure()\n",
    "\n",
    "fig.add_trace(go.Histogram(x = norm_og, \n",
    "                           name = 'GMI'))\n",
    "fig.add_trace(go.Histogram(x = norm_plus, \n",
    "                           name = 'GMI+XM'))\n",
    "\n",
    "\n",
    "fig.update_layout(title_text = 'Distribution of Nuclear Norm of Node Explain Matrix', \n",
    "                  xaxis_title_text = 'Nuclear Norm', \n",
    "                  yaxis_title_text = 'Frequency', \n",
    "                  paper_bgcolor = 'white', \n",
    "                  plot_bgcolor = 'white', \n",
    "                  font = dict(size = 20))\n",
    "fig.show()"
   ]
  },
  {
   "cell_type": "code",
   "execution_count": null,
   "id": "a5dc459a",
   "metadata": {},
   "outputs": [],
   "source": []
  },
  {
   "cell_type": "code",
   "execution_count": null,
   "id": "8be5ed28",
   "metadata": {},
   "outputs": [],
   "source": []
  },
  {
   "cell_type": "code",
   "execution_count": null,
   "id": "7cfbde5e",
   "metadata": {
    "scrolled": true
   },
   "outputs": [],
   "source": []
  },
  {
   "cell_type": "code",
   "execution_count": null,
   "id": "c5682458",
   "metadata": {},
   "outputs": [],
   "source": []
  },
  {
   "cell_type": "code",
   "execution_count": null,
   "id": "be7eb72a",
   "metadata": {},
   "outputs": [],
   "source": []
  }
 ],
 "metadata": {
  "kernelspec": {
   "display_name": "Python 3 (ipykernel)",
   "language": "python",
   "name": "python3"
  },
  "language_info": {
   "codemirror_mode": {
    "name": "ipython",
    "version": 3
   },
   "file_extension": ".py",
   "mimetype": "text/x-python",
   "name": "python",
   "nbconvert_exporter": "python",
   "pygments_lexer": "ipython3",
   "version": "3.10.8"
  },
  "toc": {
   "base_numbering": 1,
   "nav_menu": {},
   "number_sections": true,
   "sideBar": true,
   "skip_h1_title": false,
   "title_cell": "Table of Contents",
   "title_sidebar": "Contents",
   "toc_cell": false,
   "toc_position": {},
   "toc_section_display": true,
   "toc_window_display": false
  }
 },
 "nbformat": 4,
 "nbformat_minor": 5
}
