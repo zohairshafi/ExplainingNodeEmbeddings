{
 "cells": [
  {
   "cell_type": "markdown",
   "id": "50ddae84",
   "metadata": {},
   "source": [
    "### Imports"
   ]
  },
  {
   "cell_type": "code",
   "execution_count": 17,
   "id": "1d817250",
   "metadata": {},
   "outputs": [],
   "source": [
    "import numpy as np\n",
    "import scipy.sparse as sp\n",
    "import torch\n",
    "import torch.nn as nn\n",
    "import pickle as pkl\n",
    "import networkx as nx\n",
    "\n",
    "from tqdm import tqdm\n",
    "\n",
    "from tensorflow.keras.optimizers import Adam, Nadam\n",
    "from scripts.utils import *\n",
    "\n",
    "from GMI.models import GMI, LogReg\n",
    "from GMI.utils import process\n"
   ]
  },
  {
   "cell_type": "markdown",
   "id": "ade614b6",
   "metadata": {},
   "source": [
    "### Class Definitions"
   ]
  },
  {
   "cell_type": "code",
   "execution_count": 2,
   "id": "a2e83242",
   "metadata": {},
   "outputs": [],
   "source": [
    "class BaseEmbedder:\n",
    "    def __init__(self, graph, embed_shape = (128,)):\n",
    "        self.embed(graph)\n",
    "        self.E = list(graph.edges())\n",
    "        self.graph = graph\n",
    "        self.embed_shape = embed_shape\n",
    "    \n",
    "    def embed(self, graph):\n",
    "        raise NotImplementedError\n",
    "    \n",
    "    def get_embedding(self):\n",
    "        raise NotImplementedError\n",
    "        "
   ]
  },
  {
   "cell_type": "code",
   "execution_count": 74,
   "id": "21583647",
   "metadata": {},
   "outputs": [],
   "source": [
    "class GMIEmbedding(BaseEmbedder):\n",
    "    def __init__(self, embed_dim = 64, graph = None, feature_matrix = None, use_xm = False, debug = False, batch_size = 1, nb_epochs = 500, patience = 20, ortho_ = 0.1, sparse_ = 0.1, lr = 1e-3, l2_coef = 0.0, drop_prob = 0.0, sparse = True, nonlinearity = 'prelu', alpha = 0.8, beta = 1.0, gamma = 1.0, negative_num = 5, epoch_flag = 20, model_name = 'test'):\n",
    "\n",
    "        self.embed_dim = embed_dim\n",
    "        self.debug = debug\n",
    "        \n",
    "        # Training Params\n",
    "        self.graph = graph\n",
    "        self.batch_size = batch_size\n",
    "        self.nb_epochs = nb_epochs\n",
    "        self.patience = patience\n",
    "        self.lr = lr\n",
    "        self.l2_coef = l2_coef\n",
    "        self.feature_matrix = feature_matrix\n",
    "        self.drop_prob = drop_prob\n",
    "        self.hid_units = embed_dim\n",
    "        self.sparse = sparse\n",
    "        self.nonlinearity = nonlinearity\n",
    "        self.use_xm = use_xm\n",
    "        self.ortho_ = ortho_\n",
    "        self.sparse_ = sparse_\n",
    "        self.alpha = alpha\n",
    "        self.beta = beta\n",
    "        self.gamma = gamma\n",
    "        self.negative_num = negative_num\n",
    "        self.epoch_flag = epoch_flag\n",
    "        self.model_name = model_name\n",
    "        \n",
    "        self.time_per_epoch = None\n",
    "        \n",
    "        if graph is not None:\n",
    "            self.embed()\n",
    "        else:\n",
    "            self.graph = None\n",
    "    \n",
    "    def embed(self):\n",
    "\n",
    "        ####\n",
    "        if self.feature_matrix is None:\n",
    "            feature_matrix = np.identity(len(self.graph))\n",
    "        else: \n",
    "            feature_matrix = self.feature_matrix\n",
    "\n",
    "        adj_ori = nx.to_scipy_sparse_array(graph)\n",
    "        features = sp.lil_matrix(feature_matrix)\n",
    "        features, _ = process.preprocess_features(features)\n",
    "\n",
    "        nb_nodes = features.shape[0]\n",
    "        ft_size = features.shape[1]\n",
    "        \n",
    "        adj = process.normalize_adj(adj_ori + sp.eye(adj_ori.shape[0]))\n",
    "\n",
    "        if self.sparse:\n",
    "            sp_adj = process.sparse_mx_to_torch_sparse_tensor(adj)\n",
    "        else:\n",
    "            adj = (adj + sp.eye(adj.shape[0])).todense()\n",
    "\n",
    "        features = torch.FloatTensor(features[np.newaxis])\n",
    "        if not self.sparse:\n",
    "            adj = torch.FloatTensor(adj[np.newaxis])\n",
    "\n",
    "        if self.feature_matrix is not None: \n",
    "            sense_features = torch.FloatTensor(self.feature_matrix)\n",
    "\n",
    "        model = GMI(ft_size, self.hid_units, self.nonlinearity)\n",
    "        optimiser = torch.optim.Adam(model.parameters(), lr = self.lr, weight_decay = self.l2_coef)\n",
    "        \n",
    "        if torch.cuda.is_available():\n",
    "            model.cuda()\n",
    "            features = features.cuda()\n",
    "            sp_adj = sp_adj.cuda()\n",
    "            \n",
    "        b_xent = nn.BCEWithLogitsLoss()\n",
    "        xent = nn.CrossEntropyLoss()\n",
    "        cnt_wait = 0\n",
    "        best = 1e9\n",
    "        best_t = 0\n",
    "        \n",
    "        \n",
    "        adj_dense = adj_ori.toarray()\n",
    "        adj_target = adj_dense + np.eye(adj_dense.shape[0])\n",
    "        adj_row_avg = 1.0 / np.sum(adj_dense, axis = 1)\n",
    "        adj_row_avg[np.isnan(adj_row_avg)] = 0.0\n",
    "        adj_row_avg[np.isinf(adj_row_avg)] = 0.0\n",
    "        adj_dense = adj_dense * 1.0\n",
    "        \n",
    "        for i in range(adj_ori.shape[0]):\n",
    "            adj_dense[i] = adj_dense[i] * adj_row_avg[i]\n",
    "        adj_ori = sp.csr_matrix(adj_dense, dtype = np.float32)\n",
    "        \n",
    "        start_time = time.time()\n",
    "        for epoch in tqdm(range(self.nb_epochs)):\n",
    "            model.train()\n",
    "            optimiser.zero_grad()\n",
    "            \n",
    "            res = model(features, adj_ori, self.negative_num, sp_adj, None, None) \n",
    "            \n",
    "            if self.use_xm == True and feature_matrix is not None:\n",
    "                \n",
    "                start_idx = 0\n",
    "                loop = True\n",
    "                \n",
    "                ortho_loss = 0\n",
    "                sparse_loss = 0\n",
    "                xm_batch_size = 1000\n",
    "                \n",
    "                sf = sense_features\n",
    "                embeds = model.embed(features, sp_adj)\n",
    "                                \n",
    "                while loop:\n",
    "                    end_idx = start_idx + xm_batch_size\n",
    "                    if end_idx > len(self.graph):\n",
    "                        loop = False\n",
    "                        end_idx = len(self.graph)\n",
    "                                            \n",
    "                    sf = sense_features[start_idx : end_idx]\n",
    "                    embeds_ = torch.squeeze(embeds)[start_idx : end_idx]\n",
    "                    \n",
    "                    \n",
    "                    sense_mat = torch.einsum('ij, ik -> ijk', embeds_, sf)\n",
    "                    E = sense_mat\n",
    "                    y_norm = torch.diagonal(torch.matmul(embeds_, torch.transpose(embeds_, 0, 1)))\n",
    "                    sense_norm = torch.diagonal(torch.matmul(sf, torch.transpose(sf, 0, 1)))\n",
    "                    norm = torch.multiply(y_norm, sense_norm)\n",
    "                    E = torch.transpose(torch.transpose(E, 0, 2) / norm, 0, 2)\n",
    "\n",
    "                    E_t = torch.transpose(E, 1, 2)\n",
    "                    E_o = torch.einsum('aij, ajh -> aih', E, E_t)\n",
    "                    E_o = torch.sum(E_o)\n",
    "                    batch_ortho_loss = (self.ortho_ * E_o) / self.batch_size\n",
    "\n",
    "                    batch_sparse_loss = (self.sparse_ * torch.sum(torch.linalg.norm(E, ord = 1, axis = 0))) / self.batch_size\n",
    "                        \n",
    "                    ortho_loss += batch_ortho_loss\n",
    "                    sparse_loss += batch_sparse_loss\n",
    "                    \n",
    "                    start_idx = end_idx\n",
    "                    \n",
    "                loss = self.alpha * process.mi_loss_jsd(res[0], res[1]) +\\\n",
    "                       self.beta * process.mi_loss_jsd(res[2], res[3]) +\\\n",
    "                       self.gamma * process.reconstruct_loss(res[4], adj_target) +\\\n",
    "                       ortho_loss +\\\n",
    "                       sparse_loss\n",
    "            else:\n",
    "                loss = self.alpha * process.mi_loss_jsd(res[0], res[1]) +\\\n",
    "                       self.beta * process.mi_loss_jsd(res[2], res[3]) +\\\n",
    "                       self.gamma * process.reconstruct_loss(res[4], adj_target)\n",
    "\n",
    "\n",
    "            if self.debug:\n",
    "                print('Loss:', loss)\n",
    "\n",
    "            if 1:#loss < best:\n",
    "                best = loss\n",
    "                best_t = epoch\n",
    "                cnt_wait = 0\n",
    "                torch.save(model.state_dict(), self.model_name + '.pkl')\n",
    "            else:\n",
    "                cnt_wait += 1\n",
    "\n",
    "            if cnt_wait == self.epoch_flag:\n",
    "                print('Early stopping!')\n",
    "                break\n",
    "\n",
    "            loss.backward()\n",
    "            optimiser.step()\n",
    "            \n",
    "        self.time_per_epoch = (time.time() - start_time) / epoch\n",
    "\n",
    "        if self.debug: \n",
    "            print('Loading {}th epoch'.format(best_t))\n",
    "            \n",
    "        model.load_state_dict(torch.load(self.model_name + '.pkl'))\n",
    "\n",
    "        embeds = model.embed(features, sp_adj)\n",
    "        self.embeddings = embeds\n",
    "    \n",
    "    def get_embedding(self):\n",
    "        return np.squeeze(self.embeddings.numpy())\n",
    "    "
   ]
  },
  {
   "cell_type": "code",
   "execution_count": 4,
   "id": "3bd7a32f",
   "metadata": {},
   "outputs": [
    {
     "name": "stdout",
     "output_type": "stream",
     "text": [
      "Calculating Personalized Page Rank...                     \r"
     ]
    },
    {
     "name": "stderr",
     "output_type": "stream",
     "text": [
      "986it [00:28, 34.85it/s]\n"
     ]
    },
    {
     "name": "stdout",
     "output_type": "stream",
     "text": [
      "Done                                                      \r"
     ]
    },
    {
     "name": "stderr",
     "output_type": "stream",
     "text": [
      "/Users/zohairshafi/miniforge3/lib/python3.10/site-packages/networkx/algorithms/centrality/katz.py:325: FutureWarning: adjacency_matrix will return a scipy.sparse array instead of a matrix in Networkx 3.0.\n",
      "  A = nx.adjacency_matrix(G, nodelist=nodelist, weight=weight).todense().T\n"
     ]
    }
   ],
   "source": [
    "with open('./data/email.pkl', 'rb') as file: \n",
    "    graph_dict = pkl.load(file)\n",
    "    \n",
    "graph = nx.Graph(nx.to_numpy_array(graph_dict['graph']))    \n",
    "graph = nx.Graph(nx.to_numpy_array(graph))\n",
    "\n",
    "\n",
    "sense_feat_dict, sense_features = get_sense_features(graph, ppr_flag = 'std')\n"
   ]
  },
  {
   "cell_type": "code",
   "execution_count": 5,
   "id": "cacfd19f",
   "metadata": {},
   "outputs": [],
   "source": [
    "uncorrelated_feats = ['Degree',\n",
    "                    'Clustering Coefficient',\n",
    "                    'Personalized Page Rank - Standard Deviation',\n",
    "                    'Average Neighbor Degree',\n",
    "                    'Average Neighbor Clustering',\n",
    "                    'Eccentricity',\n",
    "                    'Katz Centrality']\n",
    "sense_features = sense_features[:, [list(sense_feat_dict).index(feat) for feat in uncorrelated_feats]]\n",
    "sense_feat_dict = {feat : idx for idx, feat in enumerate(uncorrelated_feats)}"
   ]
  },
  {
   "cell_type": "code",
   "execution_count": 81,
   "id": "a879cf13",
   "metadata": {
    "scrolled": true
   },
   "outputs": [
    {
     "name": "stderr",
     "output_type": "stream",
     "text": [
      "100%|█████████████████████████████████████████| 500/500 [00:29<00:00, 17.17it/s]\n"
     ]
    }
   ],
   "source": [
    "# gmi_og = GMIEmbedding(graph = graph, \n",
    "#            embed_dim = 64, \n",
    "#            feature_matrix = sense_features, \n",
    "#            use_xm = False, \n",
    "#            ortho_ = 0, \n",
    "#            sparse_ = 0, \n",
    "#            batch_size = 1)\n",
    "# embed_og = gmi_og.get_embedding()\n",
    "# embed_og = (embed_og - np.min(embed_og)) / np.ptp(embed_og)\n",
    "# feature_dict_og = find_feature_membership(input_embed = embed_og,\n",
    "#                                                     embed_name = 'GMI-SF',\n",
    "#                                                     sense_features = sense_features,\n",
    "#                                                     sense_feat_dict = sense_feat_dict,\n",
    "#                                                     top_k = 8,\n",
    "#                                                     solver = 'nmf')\n",
    "\n",
    "# explain_og = feature_dict_og['explain_norm']\n",
    "# error_og = sense_features * np.log((sense_features + 1e-10) / ((embed_og @ feature_dict_og['explain_norm']) + 1e-10)) - sense_features + (embed_og @ feature_dict_og['explain_norm'])\n",
    "# explain_og = (explain_og - np.min(explain_og)) / np.ptp(explain_og)\n",
    "\n",
    "\n",
    "gmi_plus = GMIEmbedding(graph = graph, \n",
    "           embed_dim = 64, \n",
    "           feature_matrix = sense_features, \n",
    "           use_xm = True, \n",
    "           ortho_ = 10, \n",
    "           sparse_ = 10, \n",
    "           batch_size = 1, \n",
    "           epoch_flag = 1000)\n",
    "embed_plus = gmi_plus.get_embedding()\n",
    "embed_plus = (embed_plus - np.min(embed_plus)) / np.ptp(embed_plus)\n",
    "feature_dict_plus = find_feature_membership(input_embed = embed_plus,\n",
    "                                                    embed_name = 'GMI+XM',\n",
    "                                                    sense_features = sense_features,\n",
    "                                                    sense_feat_dict = sense_feat_dict,\n",
    "                                                    top_k = 8,\n",
    "                                                    solver = 'nmf')\n",
    "\n",
    "explain_plus = feature_dict_plus['explain_norm']\n",
    "error_plus = sense_features * np.log((sense_features + 1e-10) / ((embed_plus @ feature_dict_plus['explain_norm']) + 1e-10)) - sense_features + (embed_plus @ feature_dict_plus['explain_norm'])\n",
    "explain_plus = (explain_plus - np.min(explain_plus)) / np.ptp(explain_plus)"
   ]
  },
  {
   "cell_type": "code",
   "execution_count": 82,
   "id": "4acdf17c",
   "metadata": {},
   "outputs": [
    {
     "data": {
      "application/vnd.plotly.v1+json": {
       "config": {
        "plotlyServerURL": "https://plot.ly"
       },
       "data": [
        {
         "type": "heatmap",
         "x": [
          "Degree",
          "Clustering Coefficient",
          "Personalized Page Rank - Standard Deviation",
          "Average Neighbor Degree",
          "Average Neighbor Clustering",
          "Eccentricity",
          "Katz Centrality"
         ],
         "z": [
          [
           0,
           0,
           0,
           0,
           0,
           0,
           0
          ],
          [
           0,
           0,
           0,
           0,
           0,
           0,
           0
          ],
          [
           0,
           0,
           0,
           0,
           0,
           0,
           0.3383806049823761
          ],
          [
           0,
           0,
           0,
           0,
           0,
           0,
           0
          ],
          [
           0,
           0,
           0,
           0,
           0,
           0,
           0
          ],
          [
           0,
           0,
           0,
           0,
           0,
           0,
           0
          ],
          [
           0,
           0,
           0,
           0,
           0,
           0,
           0
          ],
          [
           0,
           0,
           0,
           0,
           0,
           0,
           0
          ],
          [
           0,
           0,
           0,
           0,
           0.00021319770894479007,
           0,
           0
          ],
          [
           0,
           0,
           0,
           0,
           0,
           0,
           0
          ],
          [
           0,
           0,
           0,
           0,
           0,
           0,
           0
          ],
          [
           0,
           0,
           0,
           0,
           0,
           0,
           0
          ],
          [
           0,
           0,
           0,
           0,
           0,
           0,
           0
          ],
          [
           0,
           0,
           0,
           0,
           0,
           0,
           0
          ],
          [
           0,
           0,
           0,
           0,
           0,
           0,
           0
          ],
          [
           0,
           0,
           0,
           0,
           0,
           0,
           0
          ],
          [
           0,
           0,
           0,
           0,
           0,
           0,
           0
          ],
          [
           0,
           0,
           0,
           0,
           0,
           0,
           0
          ],
          [
           0,
           0,
           0,
           0,
           0,
           1,
           0
          ],
          [
           0,
           0,
           0,
           0,
           0,
           0,
           0
          ],
          [
           0,
           0,
           0,
           0,
           0,
           0,
           0
          ],
          [
           0,
           0.8999010920524597,
           0,
           0,
           0.18897618353366852,
           0,
           0
          ],
          [
           0,
           0,
           0,
           0,
           0,
           0,
           0.17288337647914886
          ],
          [
           0,
           0,
           0,
           0.24167107045650482,
           0,
           0,
           0
          ],
          [
           0,
           0,
           0,
           0,
           0,
           0,
           0
          ],
          [
           0,
           0,
           0,
           0,
           0,
           0,
           0
          ],
          [
           0,
           0,
           0.26807963848114014,
           0,
           0,
           0,
           0.06040474772453308
          ],
          [
           0,
           0,
           0,
           0,
           0,
           0,
           0
          ],
          [
           0,
           0,
           0,
           0,
           0,
           0,
           0
          ],
          [
           0,
           0,
           0,
           0,
           0,
           0,
           0
          ],
          [
           0,
           0,
           0,
           0,
           0,
           0,
           0
          ],
          [
           0,
           0,
           0,
           0.029747772961854935,
           0.13946522772312164,
           0,
           0
          ],
          [
           0,
           0,
           0,
           0,
           0,
           0,
           0
          ],
          [
           0,
           0,
           0,
           0,
           0,
           0,
           0
          ],
          [
           0,
           0,
           0,
           0,
           0,
           0,
           0
          ],
          [
           0,
           0,
           0,
           0,
           0,
           0,
           0.05807766690850258
          ],
          [
           0,
           0,
           0,
           0,
           0,
           0,
           0
          ],
          [
           0,
           0,
           0,
           0,
           0,
           0,
           0
          ],
          [
           0,
           0,
           0,
           0,
           0,
           0,
           0
          ],
          [
           0,
           0,
           0,
           0,
           0,
           0,
           0
          ],
          [
           0,
           0,
           0,
           0,
           0,
           0,
           0
          ],
          [
           0,
           0,
           0,
           0,
           0,
           0,
           0.06200193241238594
          ],
          [
           0,
           0,
           0,
           0,
           0,
           0,
           0.14557214081287384
          ],
          [
           0,
           0,
           0,
           0,
           0,
           0,
           0
          ],
          [
           0,
           0,
           0,
           0,
           0,
           0,
           0
          ],
          [
           0,
           0,
           0,
           0,
           0,
           0,
           0
          ],
          [
           0,
           0,
           0,
           0,
           0,
           0,
           0
          ],
          [
           0,
           0,
           0,
           0,
           0,
           0,
           0
          ],
          [
           0,
           0,
           0,
           0,
           0,
           0,
           0
          ],
          [
           0,
           0,
           0,
           0,
           0,
           0,
           0
          ],
          [
           0,
           0,
           0,
           0,
           0,
           0,
           0
          ],
          [
           0,
           0,
           0,
           0,
           0,
           0,
           0
          ],
          [
           0,
           0,
           0,
           0,
           0,
           0,
           0
          ],
          [
           0,
           0,
           0,
           0,
           0,
           0,
           0
          ],
          [
           0,
           0,
           0,
           0,
           0,
           0,
           0
          ],
          [
           0,
           0,
           0,
           0,
           0.31891360878944397,
           0,
           0
          ],
          [
           0,
           0,
           0,
           0,
           0,
           0,
           0
          ],
          [
           0,
           0,
           0.6099778413772583,
           0,
           0,
           0,
           0
          ],
          [
           0.8142306804656982,
           0,
           0,
           0,
           0.14750699698925018,
           0,
           0
          ],
          [
           0,
           0,
           0,
           0.6130747199058533,
           0,
           0,
           0
          ],
          [
           0,
           0,
           0,
           0,
           0,
           0,
           0
          ],
          [
           0,
           0,
           0,
           0,
           0,
           0,
           0
          ],
          [
           0,
           0,
           0,
           0,
           0,
           0,
           0
          ],
          [
           0,
           0,
           0,
           0,
           0.003841326106339693,
           0,
           0
          ]
         ]
        }
       ],
       "layout": {
        "template": {
         "data": {
          "bar": [
           {
            "error_x": {
             "color": "#2a3f5f"
            },
            "error_y": {
             "color": "#2a3f5f"
            },
            "marker": {
             "line": {
              "color": "#E5ECF6",
              "width": 0.5
             },
             "pattern": {
              "fillmode": "overlay",
              "size": 10,
              "solidity": 0.2
             }
            },
            "type": "bar"
           }
          ],
          "barpolar": [
           {
            "marker": {
             "line": {
              "color": "#E5ECF6",
              "width": 0.5
             },
             "pattern": {
              "fillmode": "overlay",
              "size": 10,
              "solidity": 0.2
             }
            },
            "type": "barpolar"
           }
          ],
          "carpet": [
           {
            "aaxis": {
             "endlinecolor": "#2a3f5f",
             "gridcolor": "white",
             "linecolor": "white",
             "minorgridcolor": "white",
             "startlinecolor": "#2a3f5f"
            },
            "baxis": {
             "endlinecolor": "#2a3f5f",
             "gridcolor": "white",
             "linecolor": "white",
             "minorgridcolor": "white",
             "startlinecolor": "#2a3f5f"
            },
            "type": "carpet"
           }
          ],
          "choropleth": [
           {
            "colorbar": {
             "outlinewidth": 0,
             "ticks": ""
            },
            "type": "choropleth"
           }
          ],
          "contour": [
           {
            "colorbar": {
             "outlinewidth": 0,
             "ticks": ""
            },
            "colorscale": [
             [
              0,
              "#0d0887"
             ],
             [
              0.1111111111111111,
              "#46039f"
             ],
             [
              0.2222222222222222,
              "#7201a8"
             ],
             [
              0.3333333333333333,
              "#9c179e"
             ],
             [
              0.4444444444444444,
              "#bd3786"
             ],
             [
              0.5555555555555556,
              "#d8576b"
             ],
             [
              0.6666666666666666,
              "#ed7953"
             ],
             [
              0.7777777777777778,
              "#fb9f3a"
             ],
             [
              0.8888888888888888,
              "#fdca26"
             ],
             [
              1,
              "#f0f921"
             ]
            ],
            "type": "contour"
           }
          ],
          "contourcarpet": [
           {
            "colorbar": {
             "outlinewidth": 0,
             "ticks": ""
            },
            "type": "contourcarpet"
           }
          ],
          "heatmap": [
           {
            "colorbar": {
             "outlinewidth": 0,
             "ticks": ""
            },
            "colorscale": [
             [
              0,
              "#0d0887"
             ],
             [
              0.1111111111111111,
              "#46039f"
             ],
             [
              0.2222222222222222,
              "#7201a8"
             ],
             [
              0.3333333333333333,
              "#9c179e"
             ],
             [
              0.4444444444444444,
              "#bd3786"
             ],
             [
              0.5555555555555556,
              "#d8576b"
             ],
             [
              0.6666666666666666,
              "#ed7953"
             ],
             [
              0.7777777777777778,
              "#fb9f3a"
             ],
             [
              0.8888888888888888,
              "#fdca26"
             ],
             [
              1,
              "#f0f921"
             ]
            ],
            "type": "heatmap"
           }
          ],
          "heatmapgl": [
           {
            "colorbar": {
             "outlinewidth": 0,
             "ticks": ""
            },
            "colorscale": [
             [
              0,
              "#0d0887"
             ],
             [
              0.1111111111111111,
              "#46039f"
             ],
             [
              0.2222222222222222,
              "#7201a8"
             ],
             [
              0.3333333333333333,
              "#9c179e"
             ],
             [
              0.4444444444444444,
              "#bd3786"
             ],
             [
              0.5555555555555556,
              "#d8576b"
             ],
             [
              0.6666666666666666,
              "#ed7953"
             ],
             [
              0.7777777777777778,
              "#fb9f3a"
             ],
             [
              0.8888888888888888,
              "#fdca26"
             ],
             [
              1,
              "#f0f921"
             ]
            ],
            "type": "heatmapgl"
           }
          ],
          "histogram": [
           {
            "marker": {
             "pattern": {
              "fillmode": "overlay",
              "size": 10,
              "solidity": 0.2
             }
            },
            "type": "histogram"
           }
          ],
          "histogram2d": [
           {
            "colorbar": {
             "outlinewidth": 0,
             "ticks": ""
            },
            "colorscale": [
             [
              0,
              "#0d0887"
             ],
             [
              0.1111111111111111,
              "#46039f"
             ],
             [
              0.2222222222222222,
              "#7201a8"
             ],
             [
              0.3333333333333333,
              "#9c179e"
             ],
             [
              0.4444444444444444,
              "#bd3786"
             ],
             [
              0.5555555555555556,
              "#d8576b"
             ],
             [
              0.6666666666666666,
              "#ed7953"
             ],
             [
              0.7777777777777778,
              "#fb9f3a"
             ],
             [
              0.8888888888888888,
              "#fdca26"
             ],
             [
              1,
              "#f0f921"
             ]
            ],
            "type": "histogram2d"
           }
          ],
          "histogram2dcontour": [
           {
            "colorbar": {
             "outlinewidth": 0,
             "ticks": ""
            },
            "colorscale": [
             [
              0,
              "#0d0887"
             ],
             [
              0.1111111111111111,
              "#46039f"
             ],
             [
              0.2222222222222222,
              "#7201a8"
             ],
             [
              0.3333333333333333,
              "#9c179e"
             ],
             [
              0.4444444444444444,
              "#bd3786"
             ],
             [
              0.5555555555555556,
              "#d8576b"
             ],
             [
              0.6666666666666666,
              "#ed7953"
             ],
             [
              0.7777777777777778,
              "#fb9f3a"
             ],
             [
              0.8888888888888888,
              "#fdca26"
             ],
             [
              1,
              "#f0f921"
             ]
            ],
            "type": "histogram2dcontour"
           }
          ],
          "mesh3d": [
           {
            "colorbar": {
             "outlinewidth": 0,
             "ticks": ""
            },
            "type": "mesh3d"
           }
          ],
          "parcoords": [
           {
            "line": {
             "colorbar": {
              "outlinewidth": 0,
              "ticks": ""
             }
            },
            "type": "parcoords"
           }
          ],
          "pie": [
           {
            "automargin": true,
            "type": "pie"
           }
          ],
          "scatter": [
           {
            "fillpattern": {
             "fillmode": "overlay",
             "size": 10,
             "solidity": 0.2
            },
            "type": "scatter"
           }
          ],
          "scatter3d": [
           {
            "line": {
             "colorbar": {
              "outlinewidth": 0,
              "ticks": ""
             }
            },
            "marker": {
             "colorbar": {
              "outlinewidth": 0,
              "ticks": ""
             }
            },
            "type": "scatter3d"
           }
          ],
          "scattercarpet": [
           {
            "marker": {
             "colorbar": {
              "outlinewidth": 0,
              "ticks": ""
             }
            },
            "type": "scattercarpet"
           }
          ],
          "scattergeo": [
           {
            "marker": {
             "colorbar": {
              "outlinewidth": 0,
              "ticks": ""
             }
            },
            "type": "scattergeo"
           }
          ],
          "scattergl": [
           {
            "marker": {
             "colorbar": {
              "outlinewidth": 0,
              "ticks": ""
             }
            },
            "type": "scattergl"
           }
          ],
          "scattermapbox": [
           {
            "marker": {
             "colorbar": {
              "outlinewidth": 0,
              "ticks": ""
             }
            },
            "type": "scattermapbox"
           }
          ],
          "scatterpolar": [
           {
            "marker": {
             "colorbar": {
              "outlinewidth": 0,
              "ticks": ""
             }
            },
            "type": "scatterpolar"
           }
          ],
          "scatterpolargl": [
           {
            "marker": {
             "colorbar": {
              "outlinewidth": 0,
              "ticks": ""
             }
            },
            "type": "scatterpolargl"
           }
          ],
          "scatterternary": [
           {
            "marker": {
             "colorbar": {
              "outlinewidth": 0,
              "ticks": ""
             }
            },
            "type": "scatterternary"
           }
          ],
          "surface": [
           {
            "colorbar": {
             "outlinewidth": 0,
             "ticks": ""
            },
            "colorscale": [
             [
              0,
              "#0d0887"
             ],
             [
              0.1111111111111111,
              "#46039f"
             ],
             [
              0.2222222222222222,
              "#7201a8"
             ],
             [
              0.3333333333333333,
              "#9c179e"
             ],
             [
              0.4444444444444444,
              "#bd3786"
             ],
             [
              0.5555555555555556,
              "#d8576b"
             ],
             [
              0.6666666666666666,
              "#ed7953"
             ],
             [
              0.7777777777777778,
              "#fb9f3a"
             ],
             [
              0.8888888888888888,
              "#fdca26"
             ],
             [
              1,
              "#f0f921"
             ]
            ],
            "type": "surface"
           }
          ],
          "table": [
           {
            "cells": {
             "fill": {
              "color": "#EBF0F8"
             },
             "line": {
              "color": "white"
             }
            },
            "header": {
             "fill": {
              "color": "#C8D4E3"
             },
             "line": {
              "color": "white"
             }
            },
            "type": "table"
           }
          ]
         },
         "layout": {
          "annotationdefaults": {
           "arrowcolor": "#2a3f5f",
           "arrowhead": 0,
           "arrowwidth": 1
          },
          "autotypenumbers": "strict",
          "coloraxis": {
           "colorbar": {
            "outlinewidth": 0,
            "ticks": ""
           }
          },
          "colorscale": {
           "diverging": [
            [
             0,
             "#8e0152"
            ],
            [
             0.1,
             "#c51b7d"
            ],
            [
             0.2,
             "#de77ae"
            ],
            [
             0.3,
             "#f1b6da"
            ],
            [
             0.4,
             "#fde0ef"
            ],
            [
             0.5,
             "#f7f7f7"
            ],
            [
             0.6,
             "#e6f5d0"
            ],
            [
             0.7,
             "#b8e186"
            ],
            [
             0.8,
             "#7fbc41"
            ],
            [
             0.9,
             "#4d9221"
            ],
            [
             1,
             "#276419"
            ]
           ],
           "sequential": [
            [
             0,
             "#0d0887"
            ],
            [
             0.1111111111111111,
             "#46039f"
            ],
            [
             0.2222222222222222,
             "#7201a8"
            ],
            [
             0.3333333333333333,
             "#9c179e"
            ],
            [
             0.4444444444444444,
             "#bd3786"
            ],
            [
             0.5555555555555556,
             "#d8576b"
            ],
            [
             0.6666666666666666,
             "#ed7953"
            ],
            [
             0.7777777777777778,
             "#fb9f3a"
            ],
            [
             0.8888888888888888,
             "#fdca26"
            ],
            [
             1,
             "#f0f921"
            ]
           ],
           "sequentialminus": [
            [
             0,
             "#0d0887"
            ],
            [
             0.1111111111111111,
             "#46039f"
            ],
            [
             0.2222222222222222,
             "#7201a8"
            ],
            [
             0.3333333333333333,
             "#9c179e"
            ],
            [
             0.4444444444444444,
             "#bd3786"
            ],
            [
             0.5555555555555556,
             "#d8576b"
            ],
            [
             0.6666666666666666,
             "#ed7953"
            ],
            [
             0.7777777777777778,
             "#fb9f3a"
            ],
            [
             0.8888888888888888,
             "#fdca26"
            ],
            [
             1,
             "#f0f921"
            ]
           ]
          },
          "colorway": [
           "#636efa",
           "#EF553B",
           "#00cc96",
           "#ab63fa",
           "#FFA15A",
           "#19d3f3",
           "#FF6692",
           "#B6E880",
           "#FF97FF",
           "#FECB52"
          ],
          "font": {
           "color": "#2a3f5f"
          },
          "geo": {
           "bgcolor": "white",
           "lakecolor": "white",
           "landcolor": "#E5ECF6",
           "showlakes": true,
           "showland": true,
           "subunitcolor": "white"
          },
          "hoverlabel": {
           "align": "left"
          },
          "hovermode": "closest",
          "mapbox": {
           "style": "light"
          },
          "paper_bgcolor": "white",
          "plot_bgcolor": "#E5ECF6",
          "polar": {
           "angularaxis": {
            "gridcolor": "white",
            "linecolor": "white",
            "ticks": ""
           },
           "bgcolor": "#E5ECF6",
           "radialaxis": {
            "gridcolor": "white",
            "linecolor": "white",
            "ticks": ""
           }
          },
          "scene": {
           "xaxis": {
            "backgroundcolor": "#E5ECF6",
            "gridcolor": "white",
            "gridwidth": 2,
            "linecolor": "white",
            "showbackground": true,
            "ticks": "",
            "zerolinecolor": "white"
           },
           "yaxis": {
            "backgroundcolor": "#E5ECF6",
            "gridcolor": "white",
            "gridwidth": 2,
            "linecolor": "white",
            "showbackground": true,
            "ticks": "",
            "zerolinecolor": "white"
           },
           "zaxis": {
            "backgroundcolor": "#E5ECF6",
            "gridcolor": "white",
            "gridwidth": 2,
            "linecolor": "white",
            "showbackground": true,
            "ticks": "",
            "zerolinecolor": "white"
           }
          },
          "shapedefaults": {
           "line": {
            "color": "#2a3f5f"
           }
          },
          "ternary": {
           "aaxis": {
            "gridcolor": "white",
            "linecolor": "white",
            "ticks": ""
           },
           "baxis": {
            "gridcolor": "white",
            "linecolor": "white",
            "ticks": ""
           },
           "bgcolor": "#E5ECF6",
           "caxis": {
            "gridcolor": "white",
            "linecolor": "white",
            "ticks": ""
           }
          },
          "title": {
           "x": 0.05
          },
          "xaxis": {
           "automargin": true,
           "gridcolor": "white",
           "linecolor": "white",
           "ticks": "",
           "title": {
            "standoff": 15
           },
           "zerolinecolor": "white",
           "zerolinewidth": 2
          },
          "yaxis": {
           "automargin": true,
           "gridcolor": "white",
           "linecolor": "white",
           "ticks": "",
           "title": {
            "standoff": 15
           },
           "zerolinecolor": "white",
           "zerolinewidth": 2
          }
         }
        },
        "title": {
         "text": "DGI : 4.8312044"
        },
        "xaxis": {
         "title": {
          "text": "Sense Features"
         }
        },
        "yaxis": {
         "title": {
          "text": "Dimensions"
         }
        }
       }
      },
      "text/html": [
       "<div>                            <div id=\"c1251c2f-3c23-49de-b342-c206d36398f4\" class=\"plotly-graph-div\" style=\"height:525px; width:100%;\"></div>            <script type=\"text/javascript\">                require([\"plotly\"], function(Plotly) {                    window.PLOTLYENV=window.PLOTLYENV || {};                                    if (document.getElementById(\"c1251c2f-3c23-49de-b342-c206d36398f4\")) {                    Plotly.newPlot(                        \"c1251c2f-3c23-49de-b342-c206d36398f4\",                        [{\"x\":[\"Degree\",\"Clustering Coefficient\",\"Personalized Page Rank - Standard Deviation\",\"Average Neighbor Degree\",\"Average Neighbor Clustering\",\"Eccentricity\",\"Katz Centrality\"],\"z\":[[0.0,0.0,0.0,0.0,0.0,0.0,0.0],[0.0,0.0,0.0,0.0,0.0,0.0,0.0],[0.0,0.0,0.0,0.0,0.0,0.0,0.3383806049823761],[0.0,0.0,0.0,0.0,0.0,0.0,0.0],[0.0,0.0,0.0,0.0,0.0,0.0,0.0],[0.0,0.0,0.0,0.0,0.0,0.0,0.0],[0.0,0.0,0.0,0.0,0.0,0.0,0.0],[0.0,0.0,0.0,0.0,0.0,0.0,0.0],[0.0,0.0,0.0,0.0,0.00021319770894479007,0.0,0.0],[0.0,0.0,0.0,0.0,0.0,0.0,0.0],[0.0,0.0,0.0,0.0,0.0,0.0,0.0],[0.0,0.0,0.0,0.0,0.0,0.0,0.0],[0.0,0.0,0.0,0.0,0.0,0.0,0.0],[0.0,0.0,0.0,0.0,0.0,0.0,0.0],[0.0,0.0,0.0,0.0,0.0,0.0,0.0],[0.0,0.0,0.0,0.0,0.0,0.0,0.0],[0.0,0.0,0.0,0.0,0.0,0.0,0.0],[0.0,0.0,0.0,0.0,0.0,0.0,0.0],[0.0,0.0,0.0,0.0,0.0,1.0,0.0],[0.0,0.0,0.0,0.0,0.0,0.0,0.0],[0.0,0.0,0.0,0.0,0.0,0.0,0.0],[0.0,0.8999010920524597,0.0,0.0,0.18897618353366852,0.0,0.0],[0.0,0.0,0.0,0.0,0.0,0.0,0.17288337647914886],[0.0,0.0,0.0,0.24167107045650482,0.0,0.0,0.0],[0.0,0.0,0.0,0.0,0.0,0.0,0.0],[0.0,0.0,0.0,0.0,0.0,0.0,0.0],[0.0,0.0,0.26807963848114014,0.0,0.0,0.0,0.06040474772453308],[0.0,0.0,0.0,0.0,0.0,0.0,0.0],[0.0,0.0,0.0,0.0,0.0,0.0,0.0],[0.0,0.0,0.0,0.0,0.0,0.0,0.0],[0.0,0.0,0.0,0.0,0.0,0.0,0.0],[0.0,0.0,0.0,0.029747772961854935,0.13946522772312164,0.0,0.0],[0.0,0.0,0.0,0.0,0.0,0.0,0.0],[0.0,0.0,0.0,0.0,0.0,0.0,0.0],[0.0,0.0,0.0,0.0,0.0,0.0,0.0],[0.0,0.0,0.0,0.0,0.0,0.0,0.05807766690850258],[0.0,0.0,0.0,0.0,0.0,0.0,0.0],[0.0,0.0,0.0,0.0,0.0,0.0,0.0],[0.0,0.0,0.0,0.0,0.0,0.0,0.0],[0.0,0.0,0.0,0.0,0.0,0.0,0.0],[0.0,0.0,0.0,0.0,0.0,0.0,0.0],[0.0,0.0,0.0,0.0,0.0,0.0,0.06200193241238594],[0.0,0.0,0.0,0.0,0.0,0.0,0.14557214081287384],[0.0,0.0,0.0,0.0,0.0,0.0,0.0],[0.0,0.0,0.0,0.0,0.0,0.0,0.0],[0.0,0.0,0.0,0.0,0.0,0.0,0.0],[0.0,0.0,0.0,0.0,0.0,0.0,0.0],[0.0,0.0,0.0,0.0,0.0,0.0,0.0],[0.0,0.0,0.0,0.0,0.0,0.0,0.0],[0.0,0.0,0.0,0.0,0.0,0.0,0.0],[0.0,0.0,0.0,0.0,0.0,0.0,0.0],[0.0,0.0,0.0,0.0,0.0,0.0,0.0],[0.0,0.0,0.0,0.0,0.0,0.0,0.0],[0.0,0.0,0.0,0.0,0.0,0.0,0.0],[0.0,0.0,0.0,0.0,0.0,0.0,0.0],[0.0,0.0,0.0,0.0,0.31891360878944397,0.0,0.0],[0.0,0.0,0.0,0.0,0.0,0.0,0.0],[0.0,0.0,0.6099778413772583,0.0,0.0,0.0,0.0],[0.8142306804656982,0.0,0.0,0.0,0.14750699698925018,0.0,0.0],[0.0,0.0,0.0,0.6130747199058533,0.0,0.0,0.0],[0.0,0.0,0.0,0.0,0.0,0.0,0.0],[0.0,0.0,0.0,0.0,0.0,0.0,0.0],[0.0,0.0,0.0,0.0,0.0,0.0,0.0],[0.0,0.0,0.0,0.0,0.003841326106339693,0.0,0.0]],\"type\":\"heatmap\"}],                        {\"template\":{\"data\":{\"histogram2dcontour\":[{\"type\":\"histogram2dcontour\",\"colorbar\":{\"outlinewidth\":0,\"ticks\":\"\"},\"colorscale\":[[0.0,\"#0d0887\"],[0.1111111111111111,\"#46039f\"],[0.2222222222222222,\"#7201a8\"],[0.3333333333333333,\"#9c179e\"],[0.4444444444444444,\"#bd3786\"],[0.5555555555555556,\"#d8576b\"],[0.6666666666666666,\"#ed7953\"],[0.7777777777777778,\"#fb9f3a\"],[0.8888888888888888,\"#fdca26\"],[1.0,\"#f0f921\"]]}],\"choropleth\":[{\"type\":\"choropleth\",\"colorbar\":{\"outlinewidth\":0,\"ticks\":\"\"}}],\"histogram2d\":[{\"type\":\"histogram2d\",\"colorbar\":{\"outlinewidth\":0,\"ticks\":\"\"},\"colorscale\":[[0.0,\"#0d0887\"],[0.1111111111111111,\"#46039f\"],[0.2222222222222222,\"#7201a8\"],[0.3333333333333333,\"#9c179e\"],[0.4444444444444444,\"#bd3786\"],[0.5555555555555556,\"#d8576b\"],[0.6666666666666666,\"#ed7953\"],[0.7777777777777778,\"#fb9f3a\"],[0.8888888888888888,\"#fdca26\"],[1.0,\"#f0f921\"]]}],\"heatmap\":[{\"type\":\"heatmap\",\"colorbar\":{\"outlinewidth\":0,\"ticks\":\"\"},\"colorscale\":[[0.0,\"#0d0887\"],[0.1111111111111111,\"#46039f\"],[0.2222222222222222,\"#7201a8\"],[0.3333333333333333,\"#9c179e\"],[0.4444444444444444,\"#bd3786\"],[0.5555555555555556,\"#d8576b\"],[0.6666666666666666,\"#ed7953\"],[0.7777777777777778,\"#fb9f3a\"],[0.8888888888888888,\"#fdca26\"],[1.0,\"#f0f921\"]]}],\"heatmapgl\":[{\"type\":\"heatmapgl\",\"colorbar\":{\"outlinewidth\":0,\"ticks\":\"\"},\"colorscale\":[[0.0,\"#0d0887\"],[0.1111111111111111,\"#46039f\"],[0.2222222222222222,\"#7201a8\"],[0.3333333333333333,\"#9c179e\"],[0.4444444444444444,\"#bd3786\"],[0.5555555555555556,\"#d8576b\"],[0.6666666666666666,\"#ed7953\"],[0.7777777777777778,\"#fb9f3a\"],[0.8888888888888888,\"#fdca26\"],[1.0,\"#f0f921\"]]}],\"contourcarpet\":[{\"type\":\"contourcarpet\",\"colorbar\":{\"outlinewidth\":0,\"ticks\":\"\"}}],\"contour\":[{\"type\":\"contour\",\"colorbar\":{\"outlinewidth\":0,\"ticks\":\"\"},\"colorscale\":[[0.0,\"#0d0887\"],[0.1111111111111111,\"#46039f\"],[0.2222222222222222,\"#7201a8\"],[0.3333333333333333,\"#9c179e\"],[0.4444444444444444,\"#bd3786\"],[0.5555555555555556,\"#d8576b\"],[0.6666666666666666,\"#ed7953\"],[0.7777777777777778,\"#fb9f3a\"],[0.8888888888888888,\"#fdca26\"],[1.0,\"#f0f921\"]]}],\"surface\":[{\"type\":\"surface\",\"colorbar\":{\"outlinewidth\":0,\"ticks\":\"\"},\"colorscale\":[[0.0,\"#0d0887\"],[0.1111111111111111,\"#46039f\"],[0.2222222222222222,\"#7201a8\"],[0.3333333333333333,\"#9c179e\"],[0.4444444444444444,\"#bd3786\"],[0.5555555555555556,\"#d8576b\"],[0.6666666666666666,\"#ed7953\"],[0.7777777777777778,\"#fb9f3a\"],[0.8888888888888888,\"#fdca26\"],[1.0,\"#f0f921\"]]}],\"mesh3d\":[{\"type\":\"mesh3d\",\"colorbar\":{\"outlinewidth\":0,\"ticks\":\"\"}}],\"scatter\":[{\"fillpattern\":{\"fillmode\":\"overlay\",\"size\":10,\"solidity\":0.2},\"type\":\"scatter\"}],\"parcoords\":[{\"type\":\"parcoords\",\"line\":{\"colorbar\":{\"outlinewidth\":0,\"ticks\":\"\"}}}],\"scatterpolargl\":[{\"type\":\"scatterpolargl\",\"marker\":{\"colorbar\":{\"outlinewidth\":0,\"ticks\":\"\"}}}],\"bar\":[{\"error_x\":{\"color\":\"#2a3f5f\"},\"error_y\":{\"color\":\"#2a3f5f\"},\"marker\":{\"line\":{\"color\":\"#E5ECF6\",\"width\":0.5},\"pattern\":{\"fillmode\":\"overlay\",\"size\":10,\"solidity\":0.2}},\"type\":\"bar\"}],\"scattergeo\":[{\"type\":\"scattergeo\",\"marker\":{\"colorbar\":{\"outlinewidth\":0,\"ticks\":\"\"}}}],\"scatterpolar\":[{\"type\":\"scatterpolar\",\"marker\":{\"colorbar\":{\"outlinewidth\":0,\"ticks\":\"\"}}}],\"histogram\":[{\"marker\":{\"pattern\":{\"fillmode\":\"overlay\",\"size\":10,\"solidity\":0.2}},\"type\":\"histogram\"}],\"scattergl\":[{\"type\":\"scattergl\",\"marker\":{\"colorbar\":{\"outlinewidth\":0,\"ticks\":\"\"}}}],\"scatter3d\":[{\"type\":\"scatter3d\",\"line\":{\"colorbar\":{\"outlinewidth\":0,\"ticks\":\"\"}},\"marker\":{\"colorbar\":{\"outlinewidth\":0,\"ticks\":\"\"}}}],\"scattermapbox\":[{\"type\":\"scattermapbox\",\"marker\":{\"colorbar\":{\"outlinewidth\":0,\"ticks\":\"\"}}}],\"scatterternary\":[{\"type\":\"scatterternary\",\"marker\":{\"colorbar\":{\"outlinewidth\":0,\"ticks\":\"\"}}}],\"scattercarpet\":[{\"type\":\"scattercarpet\",\"marker\":{\"colorbar\":{\"outlinewidth\":0,\"ticks\":\"\"}}}],\"carpet\":[{\"aaxis\":{\"endlinecolor\":\"#2a3f5f\",\"gridcolor\":\"white\",\"linecolor\":\"white\",\"minorgridcolor\":\"white\",\"startlinecolor\":\"#2a3f5f\"},\"baxis\":{\"endlinecolor\":\"#2a3f5f\",\"gridcolor\":\"white\",\"linecolor\":\"white\",\"minorgridcolor\":\"white\",\"startlinecolor\":\"#2a3f5f\"},\"type\":\"carpet\"}],\"table\":[{\"cells\":{\"fill\":{\"color\":\"#EBF0F8\"},\"line\":{\"color\":\"white\"}},\"header\":{\"fill\":{\"color\":\"#C8D4E3\"},\"line\":{\"color\":\"white\"}},\"type\":\"table\"}],\"barpolar\":[{\"marker\":{\"line\":{\"color\":\"#E5ECF6\",\"width\":0.5},\"pattern\":{\"fillmode\":\"overlay\",\"size\":10,\"solidity\":0.2}},\"type\":\"barpolar\"}],\"pie\":[{\"automargin\":true,\"type\":\"pie\"}]},\"layout\":{\"autotypenumbers\":\"strict\",\"colorway\":[\"#636efa\",\"#EF553B\",\"#00cc96\",\"#ab63fa\",\"#FFA15A\",\"#19d3f3\",\"#FF6692\",\"#B6E880\",\"#FF97FF\",\"#FECB52\"],\"font\":{\"color\":\"#2a3f5f\"},\"hovermode\":\"closest\",\"hoverlabel\":{\"align\":\"left\"},\"paper_bgcolor\":\"white\",\"plot_bgcolor\":\"#E5ECF6\",\"polar\":{\"bgcolor\":\"#E5ECF6\",\"angularaxis\":{\"gridcolor\":\"white\",\"linecolor\":\"white\",\"ticks\":\"\"},\"radialaxis\":{\"gridcolor\":\"white\",\"linecolor\":\"white\",\"ticks\":\"\"}},\"ternary\":{\"bgcolor\":\"#E5ECF6\",\"aaxis\":{\"gridcolor\":\"white\",\"linecolor\":\"white\",\"ticks\":\"\"},\"baxis\":{\"gridcolor\":\"white\",\"linecolor\":\"white\",\"ticks\":\"\"},\"caxis\":{\"gridcolor\":\"white\",\"linecolor\":\"white\",\"ticks\":\"\"}},\"coloraxis\":{\"colorbar\":{\"outlinewidth\":0,\"ticks\":\"\"}},\"colorscale\":{\"sequential\":[[0.0,\"#0d0887\"],[0.1111111111111111,\"#46039f\"],[0.2222222222222222,\"#7201a8\"],[0.3333333333333333,\"#9c179e\"],[0.4444444444444444,\"#bd3786\"],[0.5555555555555556,\"#d8576b\"],[0.6666666666666666,\"#ed7953\"],[0.7777777777777778,\"#fb9f3a\"],[0.8888888888888888,\"#fdca26\"],[1.0,\"#f0f921\"]],\"sequentialminus\":[[0.0,\"#0d0887\"],[0.1111111111111111,\"#46039f\"],[0.2222222222222222,\"#7201a8\"],[0.3333333333333333,\"#9c179e\"],[0.4444444444444444,\"#bd3786\"],[0.5555555555555556,\"#d8576b\"],[0.6666666666666666,\"#ed7953\"],[0.7777777777777778,\"#fb9f3a\"],[0.8888888888888888,\"#fdca26\"],[1.0,\"#f0f921\"]],\"diverging\":[[0,\"#8e0152\"],[0.1,\"#c51b7d\"],[0.2,\"#de77ae\"],[0.3,\"#f1b6da\"],[0.4,\"#fde0ef\"],[0.5,\"#f7f7f7\"],[0.6,\"#e6f5d0\"],[0.7,\"#b8e186\"],[0.8,\"#7fbc41\"],[0.9,\"#4d9221\"],[1,\"#276419\"]]},\"xaxis\":{\"gridcolor\":\"white\",\"linecolor\":\"white\",\"ticks\":\"\",\"title\":{\"standoff\":15},\"zerolinecolor\":\"white\",\"automargin\":true,\"zerolinewidth\":2},\"yaxis\":{\"gridcolor\":\"white\",\"linecolor\":\"white\",\"ticks\":\"\",\"title\":{\"standoff\":15},\"zerolinecolor\":\"white\",\"automargin\":true,\"zerolinewidth\":2},\"scene\":{\"xaxis\":{\"backgroundcolor\":\"#E5ECF6\",\"gridcolor\":\"white\",\"linecolor\":\"white\",\"showbackground\":true,\"ticks\":\"\",\"zerolinecolor\":\"white\",\"gridwidth\":2},\"yaxis\":{\"backgroundcolor\":\"#E5ECF6\",\"gridcolor\":\"white\",\"linecolor\":\"white\",\"showbackground\":true,\"ticks\":\"\",\"zerolinecolor\":\"white\",\"gridwidth\":2},\"zaxis\":{\"backgroundcolor\":\"#E5ECF6\",\"gridcolor\":\"white\",\"linecolor\":\"white\",\"showbackground\":true,\"ticks\":\"\",\"zerolinecolor\":\"white\",\"gridwidth\":2}},\"shapedefaults\":{\"line\":{\"color\":\"#2a3f5f\"}},\"annotationdefaults\":{\"arrowcolor\":\"#2a3f5f\",\"arrowhead\":0,\"arrowwidth\":1},\"geo\":{\"bgcolor\":\"white\",\"landcolor\":\"#E5ECF6\",\"subunitcolor\":\"white\",\"showland\":true,\"showlakes\":true,\"lakecolor\":\"white\"},\"title\":{\"x\":0.05},\"mapbox\":{\"style\":\"light\"}}},\"title\":{\"text\":\"DGI : 4.8312044\"},\"xaxis\":{\"title\":{\"text\":\"Sense Features\"}},\"yaxis\":{\"title\":{\"text\":\"Dimensions\"}}},                        {\"responsive\": true}                    ).then(function(){\n",
       "                            \n",
       "var gd = document.getElementById('c1251c2f-3c23-49de-b342-c206d36398f4');\n",
       "var x = new MutationObserver(function (mutations, observer) {{\n",
       "        var display = window.getComputedStyle(gd).display;\n",
       "        if (!display || display === 'none') {{\n",
       "            console.log([gd, 'removed!']);\n",
       "            Plotly.purge(gd);\n",
       "            observer.disconnect();\n",
       "        }}\n",
       "}});\n",
       "\n",
       "// Listen for the removal of the full notebook cells\n",
       "var notebookContainer = gd.closest('#notebook-container');\n",
       "if (notebookContainer) {{\n",
       "    x.observe(notebookContainer, {childList: true});\n",
       "}}\n",
       "\n",
       "// Listen for the clearing of the current output cell\n",
       "var outputEl = gd.closest('.output');\n",
       "if (outputEl) {{\n",
       "    x.observe(outputEl, {childList: true});\n",
       "}}\n",
       "\n",
       "                        })                };                });            </script>        </div>"
      ]
     },
     "metadata": {},
     "output_type": "display_data"
    },
    {
     "data": {
      "application/vnd.plotly.v1+json": {
       "config": {
        "plotlyServerURL": "https://plot.ly"
       },
       "data": [
        {
         "type": "heatmap",
         "x": [
          "Degree",
          "Clustering Coefficient",
          "Personalized Page Rank - Standard Deviation",
          "Average Neighbor Degree",
          "Average Neighbor Clustering",
          "Eccentricity",
          "Katz Centrality"
         ],
         "z": [
          [
           0,
           0,
           0,
           0,
           0,
           0,
           0
          ],
          [
           0,
           0,
           0,
           0,
           0,
           0,
           0
          ],
          [
           0,
           0,
           0,
           0,
           0,
           0,
           0
          ],
          [
           0,
           0,
           0,
           0,
           0,
           0,
           0.5220538973808289
          ],
          [
           0,
           0,
           0,
           0,
           0,
           0,
           0
          ],
          [
           0,
           0,
           0,
           0,
           0,
           0,
           0
          ],
          [
           0,
           0,
           0,
           0,
           0,
           0,
           0.16422884166240692
          ],
          [
           0,
           0,
           0,
           0,
           0,
           0,
           0
          ],
          [
           0,
           0,
           0,
           0,
           0,
           0,
           0
          ],
          [
           0,
           0,
           0,
           0,
           0,
           0,
           0
          ],
          [
           0,
           0,
           0,
           0,
           0,
           0,
           0
          ],
          [
           0,
           0,
           0.6335597634315491,
           0,
           0,
           0,
           0
          ],
          [
           0,
           0,
           0,
           0,
           0.31639328598976135,
           0,
           0
          ],
          [
           0,
           0,
           0,
           0,
           0,
           0,
           0
          ],
          [
           0,
           0,
           0,
           0,
           0,
           0,
           0
          ],
          [
           0,
           0,
           0,
           0,
           0,
           0,
           0
          ],
          [
           0,
           0,
           0,
           0,
           0,
           0,
           0
          ],
          [
           0,
           0,
           0,
           0,
           0,
           0,
           0
          ],
          [
           0,
           0,
           0,
           0,
           0,
           0,
           0
          ],
          [
           0,
           0,
           0.25571176409721375,
           0,
           0,
           0,
           0.12676101922988892
          ],
          [
           0,
           0,
           0,
           0,
           0,
           0,
           0
          ],
          [
           0,
           0,
           0,
           0,
           0,
           0,
           0
          ],
          [
           0,
           0,
           0,
           0,
           0,
           0,
           0
          ],
          [
           0,
           0,
           0,
           0,
           0,
           0,
           0
          ],
          [
           0,
           0,
           0,
           0,
           0,
           0,
           0
          ],
          [
           0,
           0,
           0,
           0,
           0,
           0,
           0
          ],
          [
           0,
           0,
           0,
           0,
           0,
           0,
           0
          ],
          [
           0,
           0,
           0,
           0,
           0,
           0,
           0
          ],
          [
           0,
           0,
           0,
           0,
           0,
           0,
           0
          ],
          [
           0,
           0,
           0,
           0,
           0,
           0,
           0
          ],
          [
           0,
           0,
           0,
           0,
           0,
           0,
           0
          ],
          [
           0,
           0,
           0,
           0,
           0,
           0,
           0.009178698062896729
          ],
          [
           0,
           0,
           0,
           0,
           0,
           0,
           0
          ],
          [
           0,
           0,
           0,
           0,
           0,
           0,
           0
          ],
          [
           0,
           0,
           0,
           0,
           0,
           0,
           0
          ],
          [
           0,
           0,
           0,
           0,
           0,
           0,
           0
          ],
          [
           0,
           0,
           0,
           0,
           0,
           0,
           0
          ],
          [
           0,
           0,
           0,
           0,
           0,
           0,
           0
          ],
          [
           0,
           0.899639904499054,
           0,
           0.09482718259096146,
           0,
           0,
           0
          ],
          [
           0,
           0,
           0,
           0,
           0,
           0,
           0
          ],
          [
           0,
           0,
           0,
           0,
           0.4570171535015106,
           0,
           0.0024895246606320143
          ],
          [
           0,
           0,
           0,
           0,
           0,
           0,
           0
          ],
          [
           0,
           0,
           0,
           0,
           0,
           0,
           0
          ],
          [
           0,
           0,
           0,
           0,
           0,
           0,
           0
          ],
          [
           0,
           0,
           0,
           0,
           0,
           0,
           0
          ],
          [
           0,
           0,
           0,
           0,
           0,
           0,
           0.017338892444968224
          ],
          [
           0,
           0,
           0,
           0,
           0,
           0,
           0
          ],
          [
           0,
           0,
           0,
           0.7483454346656799,
           0,
           0,
           0
          ],
          [
           0,
           0,
           0,
           0,
           0,
           0,
           0
          ],
          [
           0,
           0,
           0,
           0,
           0,
           0,
           0
          ],
          [
           0,
           0,
           0,
           0,
           0,
           0,
           0
          ],
          [
           0,
           0,
           0,
           0,
           0,
           0,
           0
          ],
          [
           0,
           0,
           0,
           0,
           0,
           0,
           0
          ],
          [
           0,
           0,
           0,
           0,
           0,
           0,
           0
          ],
          [
           0,
           0,
           0,
           0,
           0,
           0,
           0
          ],
          [
           0,
           0,
           0,
           0,
           0,
           0,
           0
          ],
          [
           0,
           0,
           0,
           0,
           0,
           0,
           0
          ],
          [
           0,
           0,
           0,
           0,
           0,
           0,
           0
          ],
          [
           0,
           0,
           0,
           0,
           0,
           0,
           0
          ],
          [
           0.8627135157585144,
           0,
           0,
           0,
           0,
           0,
           0
          ],
          [
           0,
           0,
           0,
           0,
           0,
           0,
           0
          ],
          [
           0,
           0,
           0,
           0,
           0,
           0,
           0
          ],
          [
           0,
           0,
           0,
           0,
           0,
           1,
           0
          ],
          [
           0,
           0,
           0,
           0,
           0,
           0,
           0
          ]
         ]
        }
       ],
       "layout": {
        "template": {
         "data": {
          "bar": [
           {
            "error_x": {
             "color": "#2a3f5f"
            },
            "error_y": {
             "color": "#2a3f5f"
            },
            "marker": {
             "line": {
              "color": "#E5ECF6",
              "width": 0.5
             },
             "pattern": {
              "fillmode": "overlay",
              "size": 10,
              "solidity": 0.2
             }
            },
            "type": "bar"
           }
          ],
          "barpolar": [
           {
            "marker": {
             "line": {
              "color": "#E5ECF6",
              "width": 0.5
             },
             "pattern": {
              "fillmode": "overlay",
              "size": 10,
              "solidity": 0.2
             }
            },
            "type": "barpolar"
           }
          ],
          "carpet": [
           {
            "aaxis": {
             "endlinecolor": "#2a3f5f",
             "gridcolor": "white",
             "linecolor": "white",
             "minorgridcolor": "white",
             "startlinecolor": "#2a3f5f"
            },
            "baxis": {
             "endlinecolor": "#2a3f5f",
             "gridcolor": "white",
             "linecolor": "white",
             "minorgridcolor": "white",
             "startlinecolor": "#2a3f5f"
            },
            "type": "carpet"
           }
          ],
          "choropleth": [
           {
            "colorbar": {
             "outlinewidth": 0,
             "ticks": ""
            },
            "type": "choropleth"
           }
          ],
          "contour": [
           {
            "colorbar": {
             "outlinewidth": 0,
             "ticks": ""
            },
            "colorscale": [
             [
              0,
              "#0d0887"
             ],
             [
              0.1111111111111111,
              "#46039f"
             ],
             [
              0.2222222222222222,
              "#7201a8"
             ],
             [
              0.3333333333333333,
              "#9c179e"
             ],
             [
              0.4444444444444444,
              "#bd3786"
             ],
             [
              0.5555555555555556,
              "#d8576b"
             ],
             [
              0.6666666666666666,
              "#ed7953"
             ],
             [
              0.7777777777777778,
              "#fb9f3a"
             ],
             [
              0.8888888888888888,
              "#fdca26"
             ],
             [
              1,
              "#f0f921"
             ]
            ],
            "type": "contour"
           }
          ],
          "contourcarpet": [
           {
            "colorbar": {
             "outlinewidth": 0,
             "ticks": ""
            },
            "type": "contourcarpet"
           }
          ],
          "heatmap": [
           {
            "colorbar": {
             "outlinewidth": 0,
             "ticks": ""
            },
            "colorscale": [
             [
              0,
              "#0d0887"
             ],
             [
              0.1111111111111111,
              "#46039f"
             ],
             [
              0.2222222222222222,
              "#7201a8"
             ],
             [
              0.3333333333333333,
              "#9c179e"
             ],
             [
              0.4444444444444444,
              "#bd3786"
             ],
             [
              0.5555555555555556,
              "#d8576b"
             ],
             [
              0.6666666666666666,
              "#ed7953"
             ],
             [
              0.7777777777777778,
              "#fb9f3a"
             ],
             [
              0.8888888888888888,
              "#fdca26"
             ],
             [
              1,
              "#f0f921"
             ]
            ],
            "type": "heatmap"
           }
          ],
          "heatmapgl": [
           {
            "colorbar": {
             "outlinewidth": 0,
             "ticks": ""
            },
            "colorscale": [
             [
              0,
              "#0d0887"
             ],
             [
              0.1111111111111111,
              "#46039f"
             ],
             [
              0.2222222222222222,
              "#7201a8"
             ],
             [
              0.3333333333333333,
              "#9c179e"
             ],
             [
              0.4444444444444444,
              "#bd3786"
             ],
             [
              0.5555555555555556,
              "#d8576b"
             ],
             [
              0.6666666666666666,
              "#ed7953"
             ],
             [
              0.7777777777777778,
              "#fb9f3a"
             ],
             [
              0.8888888888888888,
              "#fdca26"
             ],
             [
              1,
              "#f0f921"
             ]
            ],
            "type": "heatmapgl"
           }
          ],
          "histogram": [
           {
            "marker": {
             "pattern": {
              "fillmode": "overlay",
              "size": 10,
              "solidity": 0.2
             }
            },
            "type": "histogram"
           }
          ],
          "histogram2d": [
           {
            "colorbar": {
             "outlinewidth": 0,
             "ticks": ""
            },
            "colorscale": [
             [
              0,
              "#0d0887"
             ],
             [
              0.1111111111111111,
              "#46039f"
             ],
             [
              0.2222222222222222,
              "#7201a8"
             ],
             [
              0.3333333333333333,
              "#9c179e"
             ],
             [
              0.4444444444444444,
              "#bd3786"
             ],
             [
              0.5555555555555556,
              "#d8576b"
             ],
             [
              0.6666666666666666,
              "#ed7953"
             ],
             [
              0.7777777777777778,
              "#fb9f3a"
             ],
             [
              0.8888888888888888,
              "#fdca26"
             ],
             [
              1,
              "#f0f921"
             ]
            ],
            "type": "histogram2d"
           }
          ],
          "histogram2dcontour": [
           {
            "colorbar": {
             "outlinewidth": 0,
             "ticks": ""
            },
            "colorscale": [
             [
              0,
              "#0d0887"
             ],
             [
              0.1111111111111111,
              "#46039f"
             ],
             [
              0.2222222222222222,
              "#7201a8"
             ],
             [
              0.3333333333333333,
              "#9c179e"
             ],
             [
              0.4444444444444444,
              "#bd3786"
             ],
             [
              0.5555555555555556,
              "#d8576b"
             ],
             [
              0.6666666666666666,
              "#ed7953"
             ],
             [
              0.7777777777777778,
              "#fb9f3a"
             ],
             [
              0.8888888888888888,
              "#fdca26"
             ],
             [
              1,
              "#f0f921"
             ]
            ],
            "type": "histogram2dcontour"
           }
          ],
          "mesh3d": [
           {
            "colorbar": {
             "outlinewidth": 0,
             "ticks": ""
            },
            "type": "mesh3d"
           }
          ],
          "parcoords": [
           {
            "line": {
             "colorbar": {
              "outlinewidth": 0,
              "ticks": ""
             }
            },
            "type": "parcoords"
           }
          ],
          "pie": [
           {
            "automargin": true,
            "type": "pie"
           }
          ],
          "scatter": [
           {
            "fillpattern": {
             "fillmode": "overlay",
             "size": 10,
             "solidity": 0.2
            },
            "type": "scatter"
           }
          ],
          "scatter3d": [
           {
            "line": {
             "colorbar": {
              "outlinewidth": 0,
              "ticks": ""
             }
            },
            "marker": {
             "colorbar": {
              "outlinewidth": 0,
              "ticks": ""
             }
            },
            "type": "scatter3d"
           }
          ],
          "scattercarpet": [
           {
            "marker": {
             "colorbar": {
              "outlinewidth": 0,
              "ticks": ""
             }
            },
            "type": "scattercarpet"
           }
          ],
          "scattergeo": [
           {
            "marker": {
             "colorbar": {
              "outlinewidth": 0,
              "ticks": ""
             }
            },
            "type": "scattergeo"
           }
          ],
          "scattergl": [
           {
            "marker": {
             "colorbar": {
              "outlinewidth": 0,
              "ticks": ""
             }
            },
            "type": "scattergl"
           }
          ],
          "scattermapbox": [
           {
            "marker": {
             "colorbar": {
              "outlinewidth": 0,
              "ticks": ""
             }
            },
            "type": "scattermapbox"
           }
          ],
          "scatterpolar": [
           {
            "marker": {
             "colorbar": {
              "outlinewidth": 0,
              "ticks": ""
             }
            },
            "type": "scatterpolar"
           }
          ],
          "scatterpolargl": [
           {
            "marker": {
             "colorbar": {
              "outlinewidth": 0,
              "ticks": ""
             }
            },
            "type": "scatterpolargl"
           }
          ],
          "scatterternary": [
           {
            "marker": {
             "colorbar": {
              "outlinewidth": 0,
              "ticks": ""
             }
            },
            "type": "scatterternary"
           }
          ],
          "surface": [
           {
            "colorbar": {
             "outlinewidth": 0,
             "ticks": ""
            },
            "colorscale": [
             [
              0,
              "#0d0887"
             ],
             [
              0.1111111111111111,
              "#46039f"
             ],
             [
              0.2222222222222222,
              "#7201a8"
             ],
             [
              0.3333333333333333,
              "#9c179e"
             ],
             [
              0.4444444444444444,
              "#bd3786"
             ],
             [
              0.5555555555555556,
              "#d8576b"
             ],
             [
              0.6666666666666666,
              "#ed7953"
             ],
             [
              0.7777777777777778,
              "#fb9f3a"
             ],
             [
              0.8888888888888888,
              "#fdca26"
             ],
             [
              1,
              "#f0f921"
             ]
            ],
            "type": "surface"
           }
          ],
          "table": [
           {
            "cells": {
             "fill": {
              "color": "#EBF0F8"
             },
             "line": {
              "color": "white"
             }
            },
            "header": {
             "fill": {
              "color": "#C8D4E3"
             },
             "line": {
              "color": "white"
             }
            },
            "type": "table"
           }
          ]
         },
         "layout": {
          "annotationdefaults": {
           "arrowcolor": "#2a3f5f",
           "arrowhead": 0,
           "arrowwidth": 1
          },
          "autotypenumbers": "strict",
          "coloraxis": {
           "colorbar": {
            "outlinewidth": 0,
            "ticks": ""
           }
          },
          "colorscale": {
           "diverging": [
            [
             0,
             "#8e0152"
            ],
            [
             0.1,
             "#c51b7d"
            ],
            [
             0.2,
             "#de77ae"
            ],
            [
             0.3,
             "#f1b6da"
            ],
            [
             0.4,
             "#fde0ef"
            ],
            [
             0.5,
             "#f7f7f7"
            ],
            [
             0.6,
             "#e6f5d0"
            ],
            [
             0.7,
             "#b8e186"
            ],
            [
             0.8,
             "#7fbc41"
            ],
            [
             0.9,
             "#4d9221"
            ],
            [
             1,
             "#276419"
            ]
           ],
           "sequential": [
            [
             0,
             "#0d0887"
            ],
            [
             0.1111111111111111,
             "#46039f"
            ],
            [
             0.2222222222222222,
             "#7201a8"
            ],
            [
             0.3333333333333333,
             "#9c179e"
            ],
            [
             0.4444444444444444,
             "#bd3786"
            ],
            [
             0.5555555555555556,
             "#d8576b"
            ],
            [
             0.6666666666666666,
             "#ed7953"
            ],
            [
             0.7777777777777778,
             "#fb9f3a"
            ],
            [
             0.8888888888888888,
             "#fdca26"
            ],
            [
             1,
             "#f0f921"
            ]
           ],
           "sequentialminus": [
            [
             0,
             "#0d0887"
            ],
            [
             0.1111111111111111,
             "#46039f"
            ],
            [
             0.2222222222222222,
             "#7201a8"
            ],
            [
             0.3333333333333333,
             "#9c179e"
            ],
            [
             0.4444444444444444,
             "#bd3786"
            ],
            [
             0.5555555555555556,
             "#d8576b"
            ],
            [
             0.6666666666666666,
             "#ed7953"
            ],
            [
             0.7777777777777778,
             "#fb9f3a"
            ],
            [
             0.8888888888888888,
             "#fdca26"
            ],
            [
             1,
             "#f0f921"
            ]
           ]
          },
          "colorway": [
           "#636efa",
           "#EF553B",
           "#00cc96",
           "#ab63fa",
           "#FFA15A",
           "#19d3f3",
           "#FF6692",
           "#B6E880",
           "#FF97FF",
           "#FECB52"
          ],
          "font": {
           "color": "#2a3f5f"
          },
          "geo": {
           "bgcolor": "white",
           "lakecolor": "white",
           "landcolor": "#E5ECF6",
           "showlakes": true,
           "showland": true,
           "subunitcolor": "white"
          },
          "hoverlabel": {
           "align": "left"
          },
          "hovermode": "closest",
          "mapbox": {
           "style": "light"
          },
          "paper_bgcolor": "white",
          "plot_bgcolor": "#E5ECF6",
          "polar": {
           "angularaxis": {
            "gridcolor": "white",
            "linecolor": "white",
            "ticks": ""
           },
           "bgcolor": "#E5ECF6",
           "radialaxis": {
            "gridcolor": "white",
            "linecolor": "white",
            "ticks": ""
           }
          },
          "scene": {
           "xaxis": {
            "backgroundcolor": "#E5ECF6",
            "gridcolor": "white",
            "gridwidth": 2,
            "linecolor": "white",
            "showbackground": true,
            "ticks": "",
            "zerolinecolor": "white"
           },
           "yaxis": {
            "backgroundcolor": "#E5ECF6",
            "gridcolor": "white",
            "gridwidth": 2,
            "linecolor": "white",
            "showbackground": true,
            "ticks": "",
            "zerolinecolor": "white"
           },
           "zaxis": {
            "backgroundcolor": "#E5ECF6",
            "gridcolor": "white",
            "gridwidth": 2,
            "linecolor": "white",
            "showbackground": true,
            "ticks": "",
            "zerolinecolor": "white"
           }
          },
          "shapedefaults": {
           "line": {
            "color": "#2a3f5f"
           }
          },
          "ternary": {
           "aaxis": {
            "gridcolor": "white",
            "linecolor": "white",
            "ticks": ""
           },
           "baxis": {
            "gridcolor": "white",
            "linecolor": "white",
            "ticks": ""
           },
           "bgcolor": "#E5ECF6",
           "caxis": {
            "gridcolor": "white",
            "linecolor": "white",
            "ticks": ""
           }
          },
          "title": {
           "x": 0.05
          },
          "xaxis": {
           "automargin": true,
           "gridcolor": "white",
           "linecolor": "white",
           "ticks": "",
           "title": {
            "standoff": 15
           },
           "zerolinecolor": "white",
           "zerolinewidth": 2
          },
          "yaxis": {
           "automargin": true,
           "gridcolor": "white",
           "linecolor": "white",
           "ticks": "",
           "title": {
            "standoff": 15
           },
           "zerolinecolor": "white",
           "zerolinewidth": 2
          }
         }
        },
        "title": {
         "text": "DGI+ : 5.3135033"
        },
        "xaxis": {
         "title": {
          "text": "Sense Features"
         }
        },
        "yaxis": {
         "title": {
          "text": "Dimensions"
         }
        }
       }
      },
      "text/html": [
       "<div>                            <div id=\"72caaf97-3963-45a0-9547-304bba30ba2e\" class=\"plotly-graph-div\" style=\"height:525px; width:100%;\"></div>            <script type=\"text/javascript\">                require([\"plotly\"], function(Plotly) {                    window.PLOTLYENV=window.PLOTLYENV || {};                                    if (document.getElementById(\"72caaf97-3963-45a0-9547-304bba30ba2e\")) {                    Plotly.newPlot(                        \"72caaf97-3963-45a0-9547-304bba30ba2e\",                        [{\"x\":[\"Degree\",\"Clustering Coefficient\",\"Personalized Page Rank - Standard Deviation\",\"Average Neighbor Degree\",\"Average Neighbor Clustering\",\"Eccentricity\",\"Katz Centrality\"],\"z\":[[0.0,0.0,0.0,0.0,0.0,0.0,0.0],[0.0,0.0,0.0,0.0,0.0,0.0,0.0],[0.0,0.0,0.0,0.0,0.0,0.0,0.0],[0.0,0.0,0.0,0.0,0.0,0.0,0.5220538973808289],[0.0,0.0,0.0,0.0,0.0,0.0,0.0],[0.0,0.0,0.0,0.0,0.0,0.0,0.0],[0.0,0.0,0.0,0.0,0.0,0.0,0.16422884166240692],[0.0,0.0,0.0,0.0,0.0,0.0,0.0],[0.0,0.0,0.0,0.0,0.0,0.0,0.0],[0.0,0.0,0.0,0.0,0.0,0.0,0.0],[0.0,0.0,0.0,0.0,0.0,0.0,0.0],[0.0,0.0,0.6335597634315491,0.0,0.0,0.0,0.0],[0.0,0.0,0.0,0.0,0.31639328598976135,0.0,0.0],[0.0,0.0,0.0,0.0,0.0,0.0,0.0],[0.0,0.0,0.0,0.0,0.0,0.0,0.0],[0.0,0.0,0.0,0.0,0.0,0.0,0.0],[0.0,0.0,0.0,0.0,0.0,0.0,0.0],[0.0,0.0,0.0,0.0,0.0,0.0,0.0],[0.0,0.0,0.0,0.0,0.0,0.0,0.0],[0.0,0.0,0.25571176409721375,0.0,0.0,0.0,0.12676101922988892],[0.0,0.0,0.0,0.0,0.0,0.0,0.0],[0.0,0.0,0.0,0.0,0.0,0.0,0.0],[0.0,0.0,0.0,0.0,0.0,0.0,0.0],[0.0,0.0,0.0,0.0,0.0,0.0,0.0],[0.0,0.0,0.0,0.0,0.0,0.0,0.0],[0.0,0.0,0.0,0.0,0.0,0.0,0.0],[0.0,0.0,0.0,0.0,0.0,0.0,0.0],[0.0,0.0,0.0,0.0,0.0,0.0,0.0],[0.0,0.0,0.0,0.0,0.0,0.0,0.0],[0.0,0.0,0.0,0.0,0.0,0.0,0.0],[0.0,0.0,0.0,0.0,0.0,0.0,0.0],[0.0,0.0,0.0,0.0,0.0,0.0,0.009178698062896729],[0.0,0.0,0.0,0.0,0.0,0.0,0.0],[0.0,0.0,0.0,0.0,0.0,0.0,0.0],[0.0,0.0,0.0,0.0,0.0,0.0,0.0],[0.0,0.0,0.0,0.0,0.0,0.0,0.0],[0.0,0.0,0.0,0.0,0.0,0.0,0.0],[0.0,0.0,0.0,0.0,0.0,0.0,0.0],[0.0,0.899639904499054,0.0,0.09482718259096146,0.0,0.0,0.0],[0.0,0.0,0.0,0.0,0.0,0.0,0.0],[0.0,0.0,0.0,0.0,0.4570171535015106,0.0,0.0024895246606320143],[0.0,0.0,0.0,0.0,0.0,0.0,0.0],[0.0,0.0,0.0,0.0,0.0,0.0,0.0],[0.0,0.0,0.0,0.0,0.0,0.0,0.0],[0.0,0.0,0.0,0.0,0.0,0.0,0.0],[0.0,0.0,0.0,0.0,0.0,0.0,0.017338892444968224],[0.0,0.0,0.0,0.0,0.0,0.0,0.0],[0.0,0.0,0.0,0.7483454346656799,0.0,0.0,0.0],[0.0,0.0,0.0,0.0,0.0,0.0,0.0],[0.0,0.0,0.0,0.0,0.0,0.0,0.0],[0.0,0.0,0.0,0.0,0.0,0.0,0.0],[0.0,0.0,0.0,0.0,0.0,0.0,0.0],[0.0,0.0,0.0,0.0,0.0,0.0,0.0],[0.0,0.0,0.0,0.0,0.0,0.0,0.0],[0.0,0.0,0.0,0.0,0.0,0.0,0.0],[0.0,0.0,0.0,0.0,0.0,0.0,0.0],[0.0,0.0,0.0,0.0,0.0,0.0,0.0],[0.0,0.0,0.0,0.0,0.0,0.0,0.0],[0.0,0.0,0.0,0.0,0.0,0.0,0.0],[0.8627135157585144,0.0,0.0,0.0,0.0,0.0,0.0],[0.0,0.0,0.0,0.0,0.0,0.0,0.0],[0.0,0.0,0.0,0.0,0.0,0.0,0.0],[0.0,0.0,0.0,0.0,0.0,1.0,0.0],[0.0,0.0,0.0,0.0,0.0,0.0,0.0]],\"type\":\"heatmap\"}],                        {\"template\":{\"data\":{\"histogram2dcontour\":[{\"type\":\"histogram2dcontour\",\"colorbar\":{\"outlinewidth\":0,\"ticks\":\"\"},\"colorscale\":[[0.0,\"#0d0887\"],[0.1111111111111111,\"#46039f\"],[0.2222222222222222,\"#7201a8\"],[0.3333333333333333,\"#9c179e\"],[0.4444444444444444,\"#bd3786\"],[0.5555555555555556,\"#d8576b\"],[0.6666666666666666,\"#ed7953\"],[0.7777777777777778,\"#fb9f3a\"],[0.8888888888888888,\"#fdca26\"],[1.0,\"#f0f921\"]]}],\"choropleth\":[{\"type\":\"choropleth\",\"colorbar\":{\"outlinewidth\":0,\"ticks\":\"\"}}],\"histogram2d\":[{\"type\":\"histogram2d\",\"colorbar\":{\"outlinewidth\":0,\"ticks\":\"\"},\"colorscale\":[[0.0,\"#0d0887\"],[0.1111111111111111,\"#46039f\"],[0.2222222222222222,\"#7201a8\"],[0.3333333333333333,\"#9c179e\"],[0.4444444444444444,\"#bd3786\"],[0.5555555555555556,\"#d8576b\"],[0.6666666666666666,\"#ed7953\"],[0.7777777777777778,\"#fb9f3a\"],[0.8888888888888888,\"#fdca26\"],[1.0,\"#f0f921\"]]}],\"heatmap\":[{\"type\":\"heatmap\",\"colorbar\":{\"outlinewidth\":0,\"ticks\":\"\"},\"colorscale\":[[0.0,\"#0d0887\"],[0.1111111111111111,\"#46039f\"],[0.2222222222222222,\"#7201a8\"],[0.3333333333333333,\"#9c179e\"],[0.4444444444444444,\"#bd3786\"],[0.5555555555555556,\"#d8576b\"],[0.6666666666666666,\"#ed7953\"],[0.7777777777777778,\"#fb9f3a\"],[0.8888888888888888,\"#fdca26\"],[1.0,\"#f0f921\"]]}],\"heatmapgl\":[{\"type\":\"heatmapgl\",\"colorbar\":{\"outlinewidth\":0,\"ticks\":\"\"},\"colorscale\":[[0.0,\"#0d0887\"],[0.1111111111111111,\"#46039f\"],[0.2222222222222222,\"#7201a8\"],[0.3333333333333333,\"#9c179e\"],[0.4444444444444444,\"#bd3786\"],[0.5555555555555556,\"#d8576b\"],[0.6666666666666666,\"#ed7953\"],[0.7777777777777778,\"#fb9f3a\"],[0.8888888888888888,\"#fdca26\"],[1.0,\"#f0f921\"]]}],\"contourcarpet\":[{\"type\":\"contourcarpet\",\"colorbar\":{\"outlinewidth\":0,\"ticks\":\"\"}}],\"contour\":[{\"type\":\"contour\",\"colorbar\":{\"outlinewidth\":0,\"ticks\":\"\"},\"colorscale\":[[0.0,\"#0d0887\"],[0.1111111111111111,\"#46039f\"],[0.2222222222222222,\"#7201a8\"],[0.3333333333333333,\"#9c179e\"],[0.4444444444444444,\"#bd3786\"],[0.5555555555555556,\"#d8576b\"],[0.6666666666666666,\"#ed7953\"],[0.7777777777777778,\"#fb9f3a\"],[0.8888888888888888,\"#fdca26\"],[1.0,\"#f0f921\"]]}],\"surface\":[{\"type\":\"surface\",\"colorbar\":{\"outlinewidth\":0,\"ticks\":\"\"},\"colorscale\":[[0.0,\"#0d0887\"],[0.1111111111111111,\"#46039f\"],[0.2222222222222222,\"#7201a8\"],[0.3333333333333333,\"#9c179e\"],[0.4444444444444444,\"#bd3786\"],[0.5555555555555556,\"#d8576b\"],[0.6666666666666666,\"#ed7953\"],[0.7777777777777778,\"#fb9f3a\"],[0.8888888888888888,\"#fdca26\"],[1.0,\"#f0f921\"]]}],\"mesh3d\":[{\"type\":\"mesh3d\",\"colorbar\":{\"outlinewidth\":0,\"ticks\":\"\"}}],\"scatter\":[{\"fillpattern\":{\"fillmode\":\"overlay\",\"size\":10,\"solidity\":0.2},\"type\":\"scatter\"}],\"parcoords\":[{\"type\":\"parcoords\",\"line\":{\"colorbar\":{\"outlinewidth\":0,\"ticks\":\"\"}}}],\"scatterpolargl\":[{\"type\":\"scatterpolargl\",\"marker\":{\"colorbar\":{\"outlinewidth\":0,\"ticks\":\"\"}}}],\"bar\":[{\"error_x\":{\"color\":\"#2a3f5f\"},\"error_y\":{\"color\":\"#2a3f5f\"},\"marker\":{\"line\":{\"color\":\"#E5ECF6\",\"width\":0.5},\"pattern\":{\"fillmode\":\"overlay\",\"size\":10,\"solidity\":0.2}},\"type\":\"bar\"}],\"scattergeo\":[{\"type\":\"scattergeo\",\"marker\":{\"colorbar\":{\"outlinewidth\":0,\"ticks\":\"\"}}}],\"scatterpolar\":[{\"type\":\"scatterpolar\",\"marker\":{\"colorbar\":{\"outlinewidth\":0,\"ticks\":\"\"}}}],\"histogram\":[{\"marker\":{\"pattern\":{\"fillmode\":\"overlay\",\"size\":10,\"solidity\":0.2}},\"type\":\"histogram\"}],\"scattergl\":[{\"type\":\"scattergl\",\"marker\":{\"colorbar\":{\"outlinewidth\":0,\"ticks\":\"\"}}}],\"scatter3d\":[{\"type\":\"scatter3d\",\"line\":{\"colorbar\":{\"outlinewidth\":0,\"ticks\":\"\"}},\"marker\":{\"colorbar\":{\"outlinewidth\":0,\"ticks\":\"\"}}}],\"scattermapbox\":[{\"type\":\"scattermapbox\",\"marker\":{\"colorbar\":{\"outlinewidth\":0,\"ticks\":\"\"}}}],\"scatterternary\":[{\"type\":\"scatterternary\",\"marker\":{\"colorbar\":{\"outlinewidth\":0,\"ticks\":\"\"}}}],\"scattercarpet\":[{\"type\":\"scattercarpet\",\"marker\":{\"colorbar\":{\"outlinewidth\":0,\"ticks\":\"\"}}}],\"carpet\":[{\"aaxis\":{\"endlinecolor\":\"#2a3f5f\",\"gridcolor\":\"white\",\"linecolor\":\"white\",\"minorgridcolor\":\"white\",\"startlinecolor\":\"#2a3f5f\"},\"baxis\":{\"endlinecolor\":\"#2a3f5f\",\"gridcolor\":\"white\",\"linecolor\":\"white\",\"minorgridcolor\":\"white\",\"startlinecolor\":\"#2a3f5f\"},\"type\":\"carpet\"}],\"table\":[{\"cells\":{\"fill\":{\"color\":\"#EBF0F8\"},\"line\":{\"color\":\"white\"}},\"header\":{\"fill\":{\"color\":\"#C8D4E3\"},\"line\":{\"color\":\"white\"}},\"type\":\"table\"}],\"barpolar\":[{\"marker\":{\"line\":{\"color\":\"#E5ECF6\",\"width\":0.5},\"pattern\":{\"fillmode\":\"overlay\",\"size\":10,\"solidity\":0.2}},\"type\":\"barpolar\"}],\"pie\":[{\"automargin\":true,\"type\":\"pie\"}]},\"layout\":{\"autotypenumbers\":\"strict\",\"colorway\":[\"#636efa\",\"#EF553B\",\"#00cc96\",\"#ab63fa\",\"#FFA15A\",\"#19d3f3\",\"#FF6692\",\"#B6E880\",\"#FF97FF\",\"#FECB52\"],\"font\":{\"color\":\"#2a3f5f\"},\"hovermode\":\"closest\",\"hoverlabel\":{\"align\":\"left\"},\"paper_bgcolor\":\"white\",\"plot_bgcolor\":\"#E5ECF6\",\"polar\":{\"bgcolor\":\"#E5ECF6\",\"angularaxis\":{\"gridcolor\":\"white\",\"linecolor\":\"white\",\"ticks\":\"\"},\"radialaxis\":{\"gridcolor\":\"white\",\"linecolor\":\"white\",\"ticks\":\"\"}},\"ternary\":{\"bgcolor\":\"#E5ECF6\",\"aaxis\":{\"gridcolor\":\"white\",\"linecolor\":\"white\",\"ticks\":\"\"},\"baxis\":{\"gridcolor\":\"white\",\"linecolor\":\"white\",\"ticks\":\"\"},\"caxis\":{\"gridcolor\":\"white\",\"linecolor\":\"white\",\"ticks\":\"\"}},\"coloraxis\":{\"colorbar\":{\"outlinewidth\":0,\"ticks\":\"\"}},\"colorscale\":{\"sequential\":[[0.0,\"#0d0887\"],[0.1111111111111111,\"#46039f\"],[0.2222222222222222,\"#7201a8\"],[0.3333333333333333,\"#9c179e\"],[0.4444444444444444,\"#bd3786\"],[0.5555555555555556,\"#d8576b\"],[0.6666666666666666,\"#ed7953\"],[0.7777777777777778,\"#fb9f3a\"],[0.8888888888888888,\"#fdca26\"],[1.0,\"#f0f921\"]],\"sequentialminus\":[[0.0,\"#0d0887\"],[0.1111111111111111,\"#46039f\"],[0.2222222222222222,\"#7201a8\"],[0.3333333333333333,\"#9c179e\"],[0.4444444444444444,\"#bd3786\"],[0.5555555555555556,\"#d8576b\"],[0.6666666666666666,\"#ed7953\"],[0.7777777777777778,\"#fb9f3a\"],[0.8888888888888888,\"#fdca26\"],[1.0,\"#f0f921\"]],\"diverging\":[[0,\"#8e0152\"],[0.1,\"#c51b7d\"],[0.2,\"#de77ae\"],[0.3,\"#f1b6da\"],[0.4,\"#fde0ef\"],[0.5,\"#f7f7f7\"],[0.6,\"#e6f5d0\"],[0.7,\"#b8e186\"],[0.8,\"#7fbc41\"],[0.9,\"#4d9221\"],[1,\"#276419\"]]},\"xaxis\":{\"gridcolor\":\"white\",\"linecolor\":\"white\",\"ticks\":\"\",\"title\":{\"standoff\":15},\"zerolinecolor\":\"white\",\"automargin\":true,\"zerolinewidth\":2},\"yaxis\":{\"gridcolor\":\"white\",\"linecolor\":\"white\",\"ticks\":\"\",\"title\":{\"standoff\":15},\"zerolinecolor\":\"white\",\"automargin\":true,\"zerolinewidth\":2},\"scene\":{\"xaxis\":{\"backgroundcolor\":\"#E5ECF6\",\"gridcolor\":\"white\",\"linecolor\":\"white\",\"showbackground\":true,\"ticks\":\"\",\"zerolinecolor\":\"white\",\"gridwidth\":2},\"yaxis\":{\"backgroundcolor\":\"#E5ECF6\",\"gridcolor\":\"white\",\"linecolor\":\"white\",\"showbackground\":true,\"ticks\":\"\",\"zerolinecolor\":\"white\",\"gridwidth\":2},\"zaxis\":{\"backgroundcolor\":\"#E5ECF6\",\"gridcolor\":\"white\",\"linecolor\":\"white\",\"showbackground\":true,\"ticks\":\"\",\"zerolinecolor\":\"white\",\"gridwidth\":2}},\"shapedefaults\":{\"line\":{\"color\":\"#2a3f5f\"}},\"annotationdefaults\":{\"arrowcolor\":\"#2a3f5f\",\"arrowhead\":0,\"arrowwidth\":1},\"geo\":{\"bgcolor\":\"white\",\"landcolor\":\"#E5ECF6\",\"subunitcolor\":\"white\",\"showland\":true,\"showlakes\":true,\"lakecolor\":\"white\"},\"title\":{\"x\":0.05},\"mapbox\":{\"style\":\"light\"}}},\"title\":{\"text\":\"DGI+ : 5.3135033\"},\"xaxis\":{\"title\":{\"text\":\"Sense Features\"}},\"yaxis\":{\"title\":{\"text\":\"Dimensions\"}}},                        {\"responsive\": true}                    ).then(function(){\n",
       "                            \n",
       "var gd = document.getElementById('72caaf97-3963-45a0-9547-304bba30ba2e');\n",
       "var x = new MutationObserver(function (mutations, observer) {{\n",
       "        var display = window.getComputedStyle(gd).display;\n",
       "        if (!display || display === 'none') {{\n",
       "            console.log([gd, 'removed!']);\n",
       "            Plotly.purge(gd);\n",
       "            observer.disconnect();\n",
       "        }}\n",
       "}});\n",
       "\n",
       "// Listen for the removal of the full notebook cells\n",
       "var notebookContainer = gd.closest('#notebook-container');\n",
       "if (notebookContainer) {{\n",
       "    x.observe(notebookContainer, {childList: true});\n",
       "}}\n",
       "\n",
       "// Listen for the clearing of the current output cell\n",
       "var outputEl = gd.closest('.output');\n",
       "if (outputEl) {{\n",
       "    x.observe(outputEl, {childList: true});\n",
       "}}\n",
       "\n",
       "                        })                };                });            </script>        </div>"
      ]
     },
     "metadata": {},
     "output_type": "display_data"
    }
   ],
   "source": [
    "fig = go.Figure()\n",
    "fig.add_trace(go.Heatmap(z = explain_og,\n",
    "                         x = list(sense_feat_dict), \n",
    "                         ))\n",
    "fig.update_layout(title_text = 'DGI : ' + str(np.linalg.norm(explain_og, ord = 'nuc')), \n",
    "                  xaxis_title_text = 'Sense Features', \n",
    "                  yaxis_title_text = 'Dimensions')\n",
    "\n",
    "fig.show()\n",
    "\n",
    "fig = go.Figure()\n",
    "fig.add_trace(go.Heatmap(z = explain_plus,\n",
    "                         x = list(sense_feat_dict), \n",
    "                         ))\n",
    "fig.update_layout(title_text = 'DGI+ : ' + str(np.linalg.norm(explain_plus, ord = 'nuc')), \n",
    "                  xaxis_title_text = 'Sense Features', \n",
    "                  yaxis_title_text = 'Dimensions')\n",
    "\n",
    "fig.show()"
   ]
  },
  {
   "cell_type": "code",
   "execution_count": 83,
   "id": "90389caf",
   "metadata": {},
   "outputs": [],
   "source": [
    "Y_plus = embed_plus\n",
    "sense_mat = tf.einsum('ij, ik -> ijk', Y_plus, sense_features)\n",
    "Y_plus_norm = tf.linalg.diag_part(tf.matmul(Y_plus, Y_plus, transpose_b = True), k = 0)\n",
    "sense_norm = tf.linalg.diag_part(tf.matmul(sense_features, sense_features, transpose_b = True), k = 0)\n",
    "norm = Y_plus_norm * tf.cast(sense_norm, tf.float32)\n",
    "D_plus = tf.transpose(tf.transpose(sense_mat) / norm)\n",
    "\n",
    "Y_og = embed_og\n",
    "sense_mat = tf.einsum('ij, ik -> ijk', Y_og, sense_features)\n",
    "Y_og_norm = tf.linalg.diag_part(tf.matmul(Y_og, Y_og, transpose_b = True), k = 0)\n",
    "sense_norm = tf.linalg.diag_part(tf.matmul(sense_features, sense_features, transpose_b = True), k = 0)\n",
    "norm = Y_og_norm * tf.cast(sense_norm, tf.float32)\n",
    "D_og = tf.transpose(tf.transpose(sense_mat) / norm)"
   ]
  },
  {
   "cell_type": "code",
   "execution_count": 84,
   "id": "8d18fd4e",
   "metadata": {},
   "outputs": [
    {
     "name": "stderr",
     "output_type": "stream",
     "text": [
      "100%|███████████████████████████████████████| 986/986 [00:00<00:00, 1233.82it/s]\n",
      "100%|███████████████████████████████████████| 986/986 [00:00<00:00, 1278.79it/s]\n"
     ]
    }
   ],
   "source": [
    "norm_og = [np.linalg.norm(D_og[node, :, :], ord = 'nuc') for node in tqdm(range(len(graph)))]\n",
    "norm_plus = [np.linalg.norm(D_plus[node, :, :], ord = 'nuc') for node in tqdm(range(len(graph)))]\n",
    "\n"
   ]
  },
  {
   "cell_type": "code",
   "execution_count": 85,
   "id": "6aa3e64b",
   "metadata": {},
   "outputs": [
    {
     "data": {
      "application/vnd.plotly.v1+json": {
       "config": {
        "plotlyServerURL": "https://plot.ly"
       },
       "data": [
        {
         "type": "histogram",
         "x": [
          -0.010348021984100342,
          -0.010784387588500977,
          -0.008169040083885193,
          -0.008410036563873291,
          -0.008834391832351685,
          -0.00708027184009552,
          -0.009663492441177368,
          -0.008192718029022217,
          -0.008596271276473999,
          -0.007787913084030151,
          -0.009867370128631592,
          -0.00904548168182373,
          -0.009872138500213623,
          -0.010380148887634277,
          -0.010571479797363281,
          -0.008787602186203003,
          -0.01109287142753601,
          -0.010042339563369751,
          -0.012412577867507935,
          -0.00960475206375122,
          -0.009457021951675415,
          -0.009466856718063354,
          -0.009020775556564331,
          -0.009317100048065186,
          -0.007544279098510742,
          -0.008575469255447388,
          -0.008394032716751099,
          -0.008765965700149536,
          -0.009475350379943848,
          -0.009412705898284912,
          -0.00947752594947815,
          -0.00959894061088562,
          -0.008082494139671326,
          -0.008503049612045288,
          -0.007241174578666687,
          -0.010188072919845581,
          -0.009578794240951538,
          -0.009051889181137085,
          -0.00953751802444458,
          -0.009089887142181396,
          -0.009025007486343384,
          -0.010264366865158081,
          -0.01028779149055481,
          -0.006816104054450989,
          -0.008923113346099854,
          -0.009046584367752075,
          -0.009164780378341675,
          -0.009332478046417236,
          -0.00882461667060852,
          -0.008360356092453003,
          -0.008382648229598999,
          -0.011190682649612427,
          -0.010931134223937988,
          -0.012014329433441162,
          -0.007821038365364075,
          -0.008195340633392334,
          -0.007290646433830261,
          -0.008036315441131592,
          -0.009321868419647217,
          -0.007294148206710815,
          -0.008348703384399414,
          -0.011486858129501343,
          -0.009483516216278076,
          -0.00970730185508728,
          -0.011319935321807861,
          -0.007688462734222412,
          -0.007675766944885254,
          -0.008846163749694824,
          -0.00970795750617981,
          -0.00861281156539917,
          -0.009105652570724487,
          -0.007603079080581665,
          -0.008754760026931763,
          -0.010594189167022705,
          -0.012135088443756104,
          -0.008627504110336304,
          -0.007639393210411072,
          -0.008924990892410278,
          -0.008864015340805054,
          -0.010006815195083618,
          -0.009809434413909912,
          -0.009461760520935059,
          -0.008666276931762695,
          -0.009592324495315552,
          -0.010471701622009277,
          -0.01256600022315979,
          -0.009334564208984375,
          -0.01078680157661438,
          -0.007396414875984192,
          -0.007509991526603699,
          -0.0091819167137146,
          -0.007957607507705688,
          -0.010406404733657837,
          -0.009787052869796753,
          -0.009295821189880371,
          -0.010158926248550415,
          -0.007574990391731262,
          -0.0068537890911102295,
          -0.008097261190414429,
          -0.008028686046600342,
          -0.008285492658615112,
          -0.008124858140945435,
          -0.007514268159866333,
          -0.00958859920501709,
          -0.00817936658859253,
          -0.010383933782577515,
          -0.009593725204467773,
          -0.008541896939277649,
          -0.007934629917144775,
          -0.009625494480133057,
          -0.0066283345222473145,
          -0.006635650992393494,
          -0.008776456117630005,
          -0.011221051216125488,
          -0.009767532348632812,
          -0.010643869638442993,
          -0.010154664516448975,
          -0.009709954261779785,
          -0.01085507869720459,
          -0.008511006832122803,
          -0.010154545307159424,
          -0.008130475878715515,
          -0.01020747423171997,
          -0.010671794414520264,
          -0.008012264966964722,
          -0.007266908884048462,
          -0.00829780101776123,
          -0.010873764753341675,
          -0.009908229112625122,
          -0.009826511144638062,
          -0.009585559368133545,
          -0.009286344051361084,
          -0.009062469005584717,
          -0.008952707052230835,
          -0.009168922901153564,
          -0.00887298583984375,
          -0.007521599531173706,
          -0.008815288543701172,
          -0.007660657167434692,
          -0.008488982915878296,
          -0.007936447858810425,
          -0.009935200214385986,
          -0.00951114296913147,
          -0.010481804609298706,
          -0.007756069302558899,
          -0.009978920221328735,
          -0.011057943105697632,
          -0.010234922170639038,
          -0.010106831789016724,
          -0.009611129760742188,
          -0.009141027927398682,
          -0.00923311710357666,
          -0.00893828272819519,
          -0.008690759539604187,
          -0.008644580841064453,
          -0.009351342916488647,
          -0.009386003017425537,
          -0.009273409843444824,
          -0.00882798433303833,
          -0.008336454629898071,
          -0.0065441131591796875,
          -0.009543567895889282,
          -0.01100987195968628,
          -0.009311288595199585,
          -0.009762585163116455,
          -0.009332120418548584,
          -0.007181942462921143,
          -0.007978782057762146,
          -0.011515825986862183,
          -0.010215133428573608,
          -0.010738193988800049,
          -0.009422272443771362,
          -0.011085957288742065,
          -0.010126769542694092,
          -0.009556114673614502,
          -0.007683858275413513,
          -0.009979814291000366,
          -0.010390609502792358,
          -0.010259300470352173,
          -0.01039034128189087,
          -0.012322455644607544,
          -0.008535444736480713,
          -0.008426874876022339,
          -0.009950965642929077,
          -0.009573489427566528,
          -0.006427481770515442,
          -0.008675754070281982,
          -0.009322822093963623,
          -0.00964963436126709,
          -0.008205622434616089,
          -0.009555578231811523,
          -0.009405076503753662,
          -0.0063552409410476685,
          -0.006612733006477356,
          -0.007695227861404419,
          -0.007362112402915955,
          -0.008971214294433594,
          -0.009553670883178711,
          -0.009846538305282593,
          -0.010071486234664917,
          -0.008294552564620972,
          -0.010287314653396606,
          -0.008926033973693848,
          -0.0094929039478302,
          -0.008735030889511108,
          -0.009245455265045166,
          -0.009119182825088501,
          -0.009472876787185669,
          -0.009187251329421997,
          -0.008251696825027466,
          -0.009317904710769653,
          -0.0067848265171051025,
          -0.008401185274124146,
          -0.009046077728271484,
          -0.010509997606277466,
          -0.010649561882019043,
          -0.008364617824554443,
          -0.008798867464065552,
          -0.010276347398757935,
          -0.009355008602142334,
          -0.010254591703414917,
          -0.011420458555221558,
          -0.01043584942817688,
          -0.010743290185928345,
          -0.009856611490249634,
          -0.009781956672668457,
          -0.01008683443069458,
          -0.010773122310638428,
          -0.01009473204612732,
          -0.010715782642364502,
          -0.008014202117919922,
          -0.010004997253417969,
          -0.009951770305633545,
          -0.009232640266418457,
          -0.00844314694404602,
          -0.00807681679725647,
          -0.009151160717010498,
          -0.008290410041809082,
          -0.009315401315689087,
          -0.008935362100601196,
          -0.0076445043087005615,
          -0.007810831069946289,
          -0.007839590311050415,
          -0.010133236646652222,
          -0.009256869554519653,
          -0.009654700756072998,
          -0.008449584245681763,
          -0.007280826568603516,
          -0.009909749031066895,
          -0.009676933288574219,
          -0.008773058652877808,
          -0.008919119834899902,
          -0.00805211067199707,
          -0.009541034698486328,
          -0.009962499141693115,
          -0.0106428861618042,
          -0.010419607162475586,
          -0.009111374616622925,
          -0.00913393497467041,
          -0.00943601131439209,
          -0.00923338532447815,
          -0.008784204721450806,
          -0.010618746280670166,
          -0.010147392749786377,
          -0.008839666843414307,
          -0.008323222398757935,
          -0.009695351123809814,
          -0.007518857717514038,
          -0.01021602749824524,
          -0.00877968966960907,
          -0.00947660207748413,
          -0.008745372295379639,
          -0.009522408246994019,
          -0.00791245698928833,
          -0.008158713579177856,
          -0.009264618158340454,
          -0.00997704267501831,
          -0.008821576833724976,
          -0.011215776205062866,
          -0.0074573904275894165,
          -0.009710133075714111,
          -0.009195089340209961,
          -0.008795052766799927,
          -0.00824815034866333,
          -0.009395450353622437,
          -0.008825570344924927,
          -0.008310288190841675,
          -0.008798569440841675,
          -0.008586078882217407,
          -0.010573476552963257,
          -0.009834498167037964,
          -0.008436143398284912,
          -0.01116955280303955,
          -0.007622271776199341,
          -0.008294373750686646,
          -0.009587764739990234,
          -0.00899621844291687,
          -0.008947134017944336,
          -0.009517580270767212,
          -0.008267968893051147,
          -0.009595423936843872,
          -0.008951663970947266,
          -0.008823126554489136,
          -0.008441239595413208,
          -0.007986217737197876,
          -0.009048789739608765,
          -0.01073521375656128,
          -0.011354804039001465,
          -0.009031116962432861,
          -0.01205340027809143,
          -0.011402994394302368,
          -0.009422332048416138,
          -0.010468363761901855,
          -0.008671104907989502,
          -0.010422468185424805,
          -0.009682506322860718,
          -0.010703712701797485,
          -0.011560320854187012,
          -0.010390549898147583,
          -0.006202980875968933,
          -0.00843900442123413,
          -0.008539378643035889,
          -0.006399795413017273,
          -0.008558303117752075,
          -0.009083032608032227,
          -0.009165436029434204,
          -0.010843604803085327,
          -0.009376764297485352,
          -0.008378535509109497,
          -0.009462684392929077,
          -0.009313523769378662,
          -0.00937989354133606,
          -0.007682532072067261,
          -0.00885540246963501,
          -0.006074190139770508,
          -0.0061016082763671875,
          -0.009739398956298828,
          -0.008876979351043701,
          -0.009914129972457886,
          -0.008610069751739502,
          -0.007663264870643616,
          -0.008326828479766846,
          -0.010095328092575073,
          -0.0102139413356781,
          -0.008860290050506592,
          -0.010360270738601685,
          -0.010615438222885132,
          -0.01159048080444336,
          -0.006444796919822693,
          -0.010333240032196045,
          -0.010056614875793457,
          -0.00940677523612976,
          -0.010245323181152344,
          -0.007627367973327637,
          -0.00609821081161499,
          -0.00786714255809784,
          -0.00961148738861084,
          -0.009400635957717896,
          -0.0074034929275512695,
          -0.00822979211807251,
          -0.00965997576713562,
          -0.008464604616165161,
          -0.010197967290878296,
          -0.008308649063110352,
          -0.0077867209911346436,
          -0.011607646942138672,
          -0.012121796607971191,
          -0.009203821420669556,
          -0.010063916444778442,
          -0.006197512149810791,
          -0.008749306201934814,
          -0.009282588958740234,
          -0.009721517562866211,
          -0.011319905519485474,
          -0.00667513906955719,
          -0.008117437362670898,
          -0.008675724267959595,
          -0.005717650055885315,
          -0.007532879710197449,
          -0.008420556783676147,
          -0.008323878049850464,
          -0.009168297052383423,
          -0.006207704544067383,
          -0.005780547857284546,
          -0.008320420980453491,
          -0.007268831133842468,
          -0.007942348718643188,
          -0.010055780410766602,
          -0.007953256368637085,
          -0.010071873664855957,
          -0.008608728647232056,
          -0.007761359214782715,
          -0.0076025426387786865,
          -0.009805113077163696,
          -0.007958382368087769,
          -0.009717106819152832,
          -0.006710126996040344,
          -0.008964449167251587,
          -0.006299346685409546,
          -0.008774012327194214,
          -0.009920358657836914,
          -0.0074690282344818115,
          -0.009263545274734497,
          -0.009592235088348389,
          -0.009144991636276245,
          -0.008165597915649414,
          -0.007061168551445007,
          -0.007629752159118652,
          -0.007233425974845886,
          -0.010305166244506836,
          -0.007360354065895081,
          -0.006886839866638184,
          -0.007607579231262207,
          -0.0087432861328125,
          -0.005635485053062439,
          -0.011181294918060303,
          -0.009591221809387207,
          -0.009407281875610352,
          -0.008987754583358765,
          -0.012188524007797241,
          -0.0068613141775131226,
          -0.013438940048217773,
          -0.010430604219436646,
          -0.008324012160301208,
          -0.010614097118377686,
          -0.007244497537612915,
          -0.009724974632263184,
          -0.009431451559066772,
          -0.007321655750274658,
          -0.007601246237754822,
          -0.009884119033813477,
          -0.008746981620788574,
          -0.00632360577583313,
          -0.00917130708694458,
          -0.009643852710723877,
          -0.010123372077941895,
          -0.006084457039833069,
          -0.008272677659988403,
          -0.008754879236221313,
          -0.006111457943916321,
          -0.010979503393173218,
          -0.010063916444778442,
          -0.008861333131790161,
          -0.009202957153320312,
          -0.008395999670028687,
          -0.009748607873916626,
          -0.007191091775894165,
          -0.007882475852966309,
          -0.008639425039291382,
          -0.009200990200042725,
          -0.008986294269561768,
          -0.008185803890228271,
          -0.0074589550495147705,
          -0.008695751428604126,
          -0.00737433135509491,
          -0.008840471506118774,
          -0.0044335126876831055,
          -0.010849148035049438,
          -0.009605169296264648,
          -0.009027153253555298,
          -0.012472659349441528,
          -0.007213711738586426,
          -0.007197856903076172,
          -0.0060300081968307495,
          -0.008768290281295776,
          -0.01063847541809082,
          -0.009838700294494629,
          -0.00886625051498413,
          -0.010156214237213135,
          -0.006924927234649658,
          -0.00831499695777893,
          -0.010215222835540771,
          -0.00907069444656372,
          -0.011011749505996704,
          -0.008650794625282288,
          -0.008042410016059875,
          -0.006575256586074829,
          -0.006029486656188965,
          -0.00903463363647461,
          -0.00891202688217163,
          -0.008944481611251831,
          -0.00852501392364502,
          -0.010028451681137085,
          -0.010256260633468628,
          -0.009538143873214722,
          -0.010160356760025024,
          -0.012286931276321411,
          -0.00843191146850586,
          -0.00776633620262146,
          -0.010436654090881348,
          -0.009861469268798828,
          -0.009008586406707764,
          -0.008830398321151733,
          -0.010265767574310303,
          -0.008379220962524414,
          -0.010127991437911987,
          -0.009731799364089966,
          -0.009682625532150269,
          -0.010727465152740479,
          -0.008004635572433472,
          -0.0069068968296051025,
          -0.007602855563163757,
          -0.006463497877120972,
          -0.0069122761487960815,
          -0.00803983211517334,
          -0.007409974932670593,
          -0.008169203996658325,
          -0.010493636131286621,
          -0.008822977542877197,
          -0.007896959781646729,
          -0.008067548274993896,
          -0.010725796222686768,
          -0.00868445634841919,
          -0.00896647572517395,
          -0.0066965073347091675,
          -0.009655803442001343,
          -0.006207525730133057,
          -0.006053030490875244,
          -0.008064568042755127,
          -0.009702473878860474,
          -0.008426934480667114,
          -0.008263856172561646,
          -0.007695361971855164,
          -0.009668022394180298,
          -0.00765635073184967,
          -0.008291870355606079,
          -0.009150326251983643,
          -0.007766813039779663,
          -0.009699910879135132,
          -0.008624136447906494,
          -0.009495913982391357,
          -0.009064167737960815,
          -0.008448600769042969,
          -0.010971486568450928,
          -0.007935762405395508,
          -0.008343666791915894,
          -0.010146915912628174,
          -0.013264715671539307,
          -0.007979810237884521,
          -0.008584946393966675,
          -0.008185982704162598,
          -0.00887995958328247,
          -0.008148223161697388,
          -0.00900810956954956,
          -0.009170174598693848,
          -0.00807255506515503,
          -0.008826911449432373,
          -0.007422849535942078,
          -0.009830236434936523,
          -0.009127885103225708,
          -0.008445680141448975,
          -0.008919596672058105,
          -0.0084381103515625,
          -0.006769582629203796,
          -0.008005738258361816,
          -0.009111106395721436,
          -0.009502649307250977,
          -0.008733361959457397,
          -0.00867512822151184,
          -0.007247567176818848,
          -0.008558481931686401,
          -0.008266687393188477,
          -0.00930449366569519,
          -0.009793519973754883,
          -0.0096072256565094,
          -0.008141040802001953,
          -0.007488667964935303,
          -0.00645795464515686,
          -0.008279949426651001,
          -0.007978826761245728,
          -0.00679972767829895,
          -0.007886558771133423,
          -0.009473800659179688,
          -0.007552996277809143,
          -0.0078745037317276,
          -0.007780164480209351,
          -0.008763730525970459,
          -0.008216917514801025,
          -0.0093630850315094,
          -0.007120832800865173,
          -0.00922057032585144,
          -0.00904393196105957,
          -0.008526474237442017,
          -0.006874501705169678,
          -0.009693890810012817,
          -0.008094146847724915,
          -0.007362768054008484,
          -0.007926449179649353,
          -0.008637607097625732,
          -0.008532613515853882,
          -0.007595241069793701,
          -0.006920754909515381,
          -0.008792310953140259,
          -0.006243258714675903,
          -0.012823909521102905,
          -0.008559495210647583,
          -0.009710907936096191,
          -0.006695419549942017,
          -0.00794026255607605,
          -0.007923126220703125,
          -0.010640174150466919,
          -0.009805142879486084,
          -0.009200990200042725,
          -0.007964372634887695,
          -0.006033360958099365,
          -0.00922858715057373,
          -0.010603994131088257,
          -0.008585453033447266,
          -0.006861269474029541,
          -0.008117616176605225,
          -0.009682029485702515,
          -0.009558051824569702,
          -0.009859025478363037,
          -0.00957942008972168,
          -0.011377781629562378,
          -0.010096132755279541,
          -0.005755916237831116,
          -0.007033407688140869,
          -0.006935566663742065,
          -0.004463121294975281,
          -0.00952690839767456,
          -0.008272290229797363,
          -0.009368568658828735,
          -0.01142236590385437,
          -0.005286693572998047,
          -0.007606327533721924,
          -0.009532153606414795,
          -0.005616664886474609,
          -0.009237319231033325,
          -0.0035790950059890747,
          -0.003966242074966431,
          -0.004408478736877441,
          -0.004581451416015625,
          -0.005426868796348572,
          -0.00670236349105835,
          -0.0044909268617630005,
          -0.009061068296432495,
          -0.008371204137802124,
          -0.007545918226242065,
          -0.007802322506904602,
          -0.008367061614990234,
          -0.009292244911193848,
          -0.010547459125518799,
          -0.008104026317596436,
          -0.00491023063659668,
          -0.008419692516326904,
          -0.009139478206634521,
          -0.009884119033813477,
          -0.009103000164031982,
          -0.009379774332046509,
          -0.008121013641357422,
          -0.00998908281326294,
          -0.00843358039855957,
          -0.007316410541534424,
          -0.007002532482147217,
          -0.007727816700935364,
          -0.008154362440109253,
          -0.008101314306259155,
          -0.010053932666778564,
          -0.008419662714004517,
          -0.00800296664237976,
          -0.009731769561767578,
          -0.010365933179855347,
          -0.009210526943206787,
          -0.009031534194946289,
          -0.00770743191242218,
          -0.007351696491241455,
          -0.00724676251411438,
          -0.006223857402801514,
          -0.005890831351280212,
          -0.008755207061767578,
          -0.009100735187530518,
          -0.009584009647369385,
          -0.010275006294250488,
          -0.007845044136047363,
          -0.005753993988037109,
          -0.008124470710754395,
          -0.009331613779067993,
          -0.007421225309371948,
          -0.008085444569587708,
          -0.007798433303833008,
          -0.008849263191223145,
          -0.011314868927001953,
          -0.005888611078262329,
          -0.01036408543586731,
          -0.0102386474609375,
          -0.007711395621299744,
          -0.009089052677154541,
          -0.006754070520401001,
          -0.007582157850265503,
          -0.007923007011413574,
          -0.008266687393188477,
          -0.005574032664299011,
          -0.00568804144859314,
          -0.008069217205047607,
          -0.011213988065719604,
          -0.008953958749771118,
          -0.007367432117462158,
          -0.004931166768074036,
          -0.008455067873001099,
          -0.010283440351486206,
          -0.005297407507896423,
          -0.008985191583633423,
          -0.010747015476226807,
          -0.006405264139175415,
          -0.008260965347290039,
          -0.00619862973690033,
          -0.007933616638183594,
          -0.008053630590438843,
          -0.00584469735622406,
          -0.007526874542236328,
          -0.00754314661026001,
          -0.005103275179862976,
          -0.007264822721481323,
          -0.00879514217376709,
          -0.01078292727470398,
          -0.008066147565841675,
          -0.009322136640548706,
          -0.010080099105834961,
          -0.007868707180023193,
          -0.009750723838806152,
          -0.0049783289432525635,
          -0.0065491944551467896,
          -0.005940556526184082,
          -0.007507145404815674,
          -0.009014368057250977,
          -0.009016811847686768,
          -0.005946621298789978,
          -0.009772956371307373,
          -0.003722265362739563,
          -0.00961238145828247,
          -0.009174466133117676,
          -0.010505825281143188,
          -0.008519530296325684,
          -0.007434681057929993,
          -0.007033422589302063,
          -0.007845893502235413,
          -0.008211016654968262,
          -0.008924275636672974,
          -0.007453054189682007,
          -0.009712934494018555,
          -0.007706135511398315,
          -0.010651886463165283,
          -0.008503466844558716,
          -0.007413715124130249,
          -0.00949704647064209,
          -0.006425410509109497,
          -0.006405264139175415,
          -0.010126233100891113,
          -0.008190244436264038,
          -0.004674255847930908,
          -0.00807221233844757,
          -0.0060087889432907104,
          -0.007837831974029541,
          -0.0077590495347976685,
          -0.0078004151582717896,
          -0.005804732441902161,
          -0.007150232791900635,
          -0.008587390184402466,
          -0.00813564658164978,
          -0.008649677038192749,
          -0.009415805339813232,
          -0.010078668594360352,
          -0.008572369813919067,
          -0.010390013456344604,
          -0.006033852696418762,
          -0.00890880823135376,
          -0.0057564228773117065,
          -0.007854297757148743,
          -0.009675860404968262,
          -0.007853955030441284,
          -0.005537375807762146,
          -0.010585039854049683,
          -0.007713302969932556,
          -0.009237945079803467,
          -0.005197897553443909,
          -0.01130610704421997,
          -0.00426386296749115,
          -0.009055495262145996,
          -0.006440401077270508,
          -0.010255813598632812,
          -0.009417176246643066,
          -0.010350704193115234,
          -0.0060584694147109985,
          -0.0067708492279052734,
          -0.006447583436965942,
          -0.0078012049198150635,
          -0.007724285125732422,
          -0.004715368151664734,
          -0.007124990224838257,
          -0.00807809829711914,
          -0.010491997003555298,
          -0.00815802812576294,
          -0.009656518697738647,
          -0.00822344422340393,
          -0.009991675615310669,
          -0.007687166333198547,
          -0.008342206478118896,
          -0.007631659507751465,
          -0.009307324886322021,
          -0.006779268383979797,
          -0.011283189058303833,
          -0.005181342363357544,
          -0.010615795850753784,
          -0.007496744394302368,
          -0.011413991451263428,
          -0.004746109247207642,
          -0.0065168291330337524,
          -0.00793592631816864,
          -0.009107649326324463,
          -0.008757263422012329,
          -0.007288932800292969,
          -0.01108098030090332,
          -0.006896257400512695,
          -0.006918758153915405,
          -0.005406603217124939,
          -0.008840829133987427,
          -0.008019804954528809,
          -0.00568804144859314,
          -0.005094259977340698,
          -0.010722905397415161,
          -0.008027002215385437,
          -0.00818324089050293,
          -0.005845874547958374,
          -0.005142718553543091,
          -0.007791593670845032,
          -0.0073677003383636475,
          -0.0031065791845321655,
          -0.00792740285396576,
          -0.006144016981124878,
          -0.00841417908668518,
          -0.010288894176483154,
          -0.008177995681762695,
          -0.010615140199661255,
          -0.005198165774345398,
          -0.006748884916305542,
          -0.00989118218421936,
          -0.009098142385482788,
          -0.007202774286270142,
          -0.007720261812210083,
          -0.008808910846710205,
          -0.0076461732387542725,
          -0.010619968175888062,
          -0.008760333061218262,
          -0.006828621029853821,
          -0.007223904132843018,
          -0.005558043718338013,
          -0.007493659853935242,
          -0.008311539888381958,
          -0.009737342596054077,
          -0.007041260600090027,
          -0.006114870309829712,
          -0.011668920516967773,
          -0.01026463508605957,
          -0.0052756667137146,
          -0.006114870309829712,
          -0.007235616445541382,
          -0.00877276062965393,
          -0.008579462766647339,
          -0.0059435367584228516,
          -0.0071973055601119995,
          -0.007883787155151367,
          -0.008942276239395142,
          -0.00482998788356781,
          -0.006735771894454956,
          -0.005748271942138672,
          -0.0067896246910095215,
          -0.007780194282531738,
          -0.0056701600551605225,
          -0.007076248526573181,
          -0.006387248635292053,
          -0.005693212151527405,
          -0.005220681428909302,
          -0.008201807737350464,
          -0.005904838442802429,
          -0.007870346307754517,
          -0.006109640002250671,
          -0.008983701467514038,
          -0.009244322776794434,
          -0.007111907005310059,
          -0.0071185678243637085,
          -0.009044289588928223,
          -0.006982356309890747,
          -0.0072200000286102295,
          -0.005824834108352661,
          -0.00984916090965271,
          -0.006867527961730957,
          -0.008477747440338135,
          -0.007847726345062256,
          -0.007879495620727539,
          -0.007256671786308289,
          -0.01052907109260559,
          -0.006100356578826904,
          -0.00784999132156372,
          -0.008379489183425903,
          -0.008547574281692505,
          -0.009400218725204468,
          -0.009200990200042725,
          -0.007981330156326294,
          -0.007291197776794434,
          -0.006836265325546265,
          -0.007816627621650696,
          -0.007058382034301758,
          -0.010225474834442139,
          -0.004453688859939575,
          -0.007110044360160828,
          -0.006851419806480408,
          -0.006703808903694153,
          -0.004900455474853516,
          -0.007453054189682007,
          -0.00584845244884491,
          -0.007336407899856567,
          -0.007234975695610046,
          -0.010149955749511719,
          -0.006094679236412048,
          -0.009324073791503906,
          -0.0066252201795578,
          -0.009156525135040283,
          -0.006032675504684448,
          -0.007702097296714783,
          -0.009715646505355835,
          -0.006069466471672058,
          -0.010376453399658203,
          -0.011187940835952759,
          -0.010315150022506714,
          -0.009975463151931763,
          -0.0064910054206848145,
          -0.007749974727630615,
          -0.005695164203643799,
          -0.009493827819824219,
          -0.007117107510566711,
          -0.013367176055908203,
          -0.0068219006061553955,
          -0.00619564950466156,
          -0.008149176836013794,
          -0.006579488515853882,
          -0.007076725363731384,
          -0.008395254611968994,
          -0.007263064384460449,
          -0.007670804858207703,
          -0.008572190999984741,
          -0.008572190999984741,
          -0.008572190999984741,
          -0.007795989513397217,
          -0.009311050176620483,
          -0.007926523685455322,
          -0.011369287967681885,
          -0.005968824028968811,
          -0.007079988718032837,
          -0.00403188169002533,
          -0.00515572726726532,
          -0.00879243016242981,
          -0.005908086895942688,
          -0.0077934712171554565,
          -0.00773504376411438,
          -0.006721317768096924,
          -0.00773504376411438,
          -0.006770282983779907,
          -0.00393301248550415,
          -0.005767822265625,
          -0.010340273380279541,
          -0.008602499961853027,
          -0.006770282983779907,
          -0.006982356309890747,
          -0.006181582808494568,
          -0.008683264255523682,
          -0.009031683206558228,
          -0.007348731160163879,
          -0.007167741656303406,
          -0.005211874842643738,
          -0.003921255469322205,
          -0.006994143128395081,
          -0.0051107257604599,
          -0.006585836410522461,
          -0.007112979888916016,
          -0.009372949600219727,
          -0.010010868310928345,
          -0.010192900896072388,
          -0.005893722176551819,
          -0.01052907109260559,
          -0.008453369140625,
          -0.007815837860107422,
          -0.005723774433135986,
          -0.008587390184402466,
          -0.01108098030090332,
          -0.006296142935752869
         ]
        }
       ],
       "layout": {
        "font": {
         "size": 30
        },
        "paper_bgcolor": "white",
        "plot_bgcolor": "white",
        "template": {
         "data": {
          "bar": [
           {
            "error_x": {
             "color": "#2a3f5f"
            },
            "error_y": {
             "color": "#2a3f5f"
            },
            "marker": {
             "line": {
              "color": "#E5ECF6",
              "width": 0.5
             },
             "pattern": {
              "fillmode": "overlay",
              "size": 10,
              "solidity": 0.2
             }
            },
            "type": "bar"
           }
          ],
          "barpolar": [
           {
            "marker": {
             "line": {
              "color": "#E5ECF6",
              "width": 0.5
             },
             "pattern": {
              "fillmode": "overlay",
              "size": 10,
              "solidity": 0.2
             }
            },
            "type": "barpolar"
           }
          ],
          "carpet": [
           {
            "aaxis": {
             "endlinecolor": "#2a3f5f",
             "gridcolor": "white",
             "linecolor": "white",
             "minorgridcolor": "white",
             "startlinecolor": "#2a3f5f"
            },
            "baxis": {
             "endlinecolor": "#2a3f5f",
             "gridcolor": "white",
             "linecolor": "white",
             "minorgridcolor": "white",
             "startlinecolor": "#2a3f5f"
            },
            "type": "carpet"
           }
          ],
          "choropleth": [
           {
            "colorbar": {
             "outlinewidth": 0,
             "ticks": ""
            },
            "type": "choropleth"
           }
          ],
          "contour": [
           {
            "colorbar": {
             "outlinewidth": 0,
             "ticks": ""
            },
            "colorscale": [
             [
              0,
              "#0d0887"
             ],
             [
              0.1111111111111111,
              "#46039f"
             ],
             [
              0.2222222222222222,
              "#7201a8"
             ],
             [
              0.3333333333333333,
              "#9c179e"
             ],
             [
              0.4444444444444444,
              "#bd3786"
             ],
             [
              0.5555555555555556,
              "#d8576b"
             ],
             [
              0.6666666666666666,
              "#ed7953"
             ],
             [
              0.7777777777777778,
              "#fb9f3a"
             ],
             [
              0.8888888888888888,
              "#fdca26"
             ],
             [
              1,
              "#f0f921"
             ]
            ],
            "type": "contour"
           }
          ],
          "contourcarpet": [
           {
            "colorbar": {
             "outlinewidth": 0,
             "ticks": ""
            },
            "type": "contourcarpet"
           }
          ],
          "heatmap": [
           {
            "colorbar": {
             "outlinewidth": 0,
             "ticks": ""
            },
            "colorscale": [
             [
              0,
              "#0d0887"
             ],
             [
              0.1111111111111111,
              "#46039f"
             ],
             [
              0.2222222222222222,
              "#7201a8"
             ],
             [
              0.3333333333333333,
              "#9c179e"
             ],
             [
              0.4444444444444444,
              "#bd3786"
             ],
             [
              0.5555555555555556,
              "#d8576b"
             ],
             [
              0.6666666666666666,
              "#ed7953"
             ],
             [
              0.7777777777777778,
              "#fb9f3a"
             ],
             [
              0.8888888888888888,
              "#fdca26"
             ],
             [
              1,
              "#f0f921"
             ]
            ],
            "type": "heatmap"
           }
          ],
          "heatmapgl": [
           {
            "colorbar": {
             "outlinewidth": 0,
             "ticks": ""
            },
            "colorscale": [
             [
              0,
              "#0d0887"
             ],
             [
              0.1111111111111111,
              "#46039f"
             ],
             [
              0.2222222222222222,
              "#7201a8"
             ],
             [
              0.3333333333333333,
              "#9c179e"
             ],
             [
              0.4444444444444444,
              "#bd3786"
             ],
             [
              0.5555555555555556,
              "#d8576b"
             ],
             [
              0.6666666666666666,
              "#ed7953"
             ],
             [
              0.7777777777777778,
              "#fb9f3a"
             ],
             [
              0.8888888888888888,
              "#fdca26"
             ],
             [
              1,
              "#f0f921"
             ]
            ],
            "type": "heatmapgl"
           }
          ],
          "histogram": [
           {
            "marker": {
             "pattern": {
              "fillmode": "overlay",
              "size": 10,
              "solidity": 0.2
             }
            },
            "type": "histogram"
           }
          ],
          "histogram2d": [
           {
            "colorbar": {
             "outlinewidth": 0,
             "ticks": ""
            },
            "colorscale": [
             [
              0,
              "#0d0887"
             ],
             [
              0.1111111111111111,
              "#46039f"
             ],
             [
              0.2222222222222222,
              "#7201a8"
             ],
             [
              0.3333333333333333,
              "#9c179e"
             ],
             [
              0.4444444444444444,
              "#bd3786"
             ],
             [
              0.5555555555555556,
              "#d8576b"
             ],
             [
              0.6666666666666666,
              "#ed7953"
             ],
             [
              0.7777777777777778,
              "#fb9f3a"
             ],
             [
              0.8888888888888888,
              "#fdca26"
             ],
             [
              1,
              "#f0f921"
             ]
            ],
            "type": "histogram2d"
           }
          ],
          "histogram2dcontour": [
           {
            "colorbar": {
             "outlinewidth": 0,
             "ticks": ""
            },
            "colorscale": [
             [
              0,
              "#0d0887"
             ],
             [
              0.1111111111111111,
              "#46039f"
             ],
             [
              0.2222222222222222,
              "#7201a8"
             ],
             [
              0.3333333333333333,
              "#9c179e"
             ],
             [
              0.4444444444444444,
              "#bd3786"
             ],
             [
              0.5555555555555556,
              "#d8576b"
             ],
             [
              0.6666666666666666,
              "#ed7953"
             ],
             [
              0.7777777777777778,
              "#fb9f3a"
             ],
             [
              0.8888888888888888,
              "#fdca26"
             ],
             [
              1,
              "#f0f921"
             ]
            ],
            "type": "histogram2dcontour"
           }
          ],
          "mesh3d": [
           {
            "colorbar": {
             "outlinewidth": 0,
             "ticks": ""
            },
            "type": "mesh3d"
           }
          ],
          "parcoords": [
           {
            "line": {
             "colorbar": {
              "outlinewidth": 0,
              "ticks": ""
             }
            },
            "type": "parcoords"
           }
          ],
          "pie": [
           {
            "automargin": true,
            "type": "pie"
           }
          ],
          "scatter": [
           {
            "fillpattern": {
             "fillmode": "overlay",
             "size": 10,
             "solidity": 0.2
            },
            "type": "scatter"
           }
          ],
          "scatter3d": [
           {
            "line": {
             "colorbar": {
              "outlinewidth": 0,
              "ticks": ""
             }
            },
            "marker": {
             "colorbar": {
              "outlinewidth": 0,
              "ticks": ""
             }
            },
            "type": "scatter3d"
           }
          ],
          "scattercarpet": [
           {
            "marker": {
             "colorbar": {
              "outlinewidth": 0,
              "ticks": ""
             }
            },
            "type": "scattercarpet"
           }
          ],
          "scattergeo": [
           {
            "marker": {
             "colorbar": {
              "outlinewidth": 0,
              "ticks": ""
             }
            },
            "type": "scattergeo"
           }
          ],
          "scattergl": [
           {
            "marker": {
             "colorbar": {
              "outlinewidth": 0,
              "ticks": ""
             }
            },
            "type": "scattergl"
           }
          ],
          "scattermapbox": [
           {
            "marker": {
             "colorbar": {
              "outlinewidth": 0,
              "ticks": ""
             }
            },
            "type": "scattermapbox"
           }
          ],
          "scatterpolar": [
           {
            "marker": {
             "colorbar": {
              "outlinewidth": 0,
              "ticks": ""
             }
            },
            "type": "scatterpolar"
           }
          ],
          "scatterpolargl": [
           {
            "marker": {
             "colorbar": {
              "outlinewidth": 0,
              "ticks": ""
             }
            },
            "type": "scatterpolargl"
           }
          ],
          "scatterternary": [
           {
            "marker": {
             "colorbar": {
              "outlinewidth": 0,
              "ticks": ""
             }
            },
            "type": "scatterternary"
           }
          ],
          "surface": [
           {
            "colorbar": {
             "outlinewidth": 0,
             "ticks": ""
            },
            "colorscale": [
             [
              0,
              "#0d0887"
             ],
             [
              0.1111111111111111,
              "#46039f"
             ],
             [
              0.2222222222222222,
              "#7201a8"
             ],
             [
              0.3333333333333333,
              "#9c179e"
             ],
             [
              0.4444444444444444,
              "#bd3786"
             ],
             [
              0.5555555555555556,
              "#d8576b"
             ],
             [
              0.6666666666666666,
              "#ed7953"
             ],
             [
              0.7777777777777778,
              "#fb9f3a"
             ],
             [
              0.8888888888888888,
              "#fdca26"
             ],
             [
              1,
              "#f0f921"
             ]
            ],
            "type": "surface"
           }
          ],
          "table": [
           {
            "cells": {
             "fill": {
              "color": "#EBF0F8"
             },
             "line": {
              "color": "white"
             }
            },
            "header": {
             "fill": {
              "color": "#C8D4E3"
             },
             "line": {
              "color": "white"
             }
            },
            "type": "table"
           }
          ]
         },
         "layout": {
          "annotationdefaults": {
           "arrowcolor": "#2a3f5f",
           "arrowhead": 0,
           "arrowwidth": 1
          },
          "autotypenumbers": "strict",
          "coloraxis": {
           "colorbar": {
            "outlinewidth": 0,
            "ticks": ""
           }
          },
          "colorscale": {
           "diverging": [
            [
             0,
             "#8e0152"
            ],
            [
             0.1,
             "#c51b7d"
            ],
            [
             0.2,
             "#de77ae"
            ],
            [
             0.3,
             "#f1b6da"
            ],
            [
             0.4,
             "#fde0ef"
            ],
            [
             0.5,
             "#f7f7f7"
            ],
            [
             0.6,
             "#e6f5d0"
            ],
            [
             0.7,
             "#b8e186"
            ],
            [
             0.8,
             "#7fbc41"
            ],
            [
             0.9,
             "#4d9221"
            ],
            [
             1,
             "#276419"
            ]
           ],
           "sequential": [
            [
             0,
             "#0d0887"
            ],
            [
             0.1111111111111111,
             "#46039f"
            ],
            [
             0.2222222222222222,
             "#7201a8"
            ],
            [
             0.3333333333333333,
             "#9c179e"
            ],
            [
             0.4444444444444444,
             "#bd3786"
            ],
            [
             0.5555555555555556,
             "#d8576b"
            ],
            [
             0.6666666666666666,
             "#ed7953"
            ],
            [
             0.7777777777777778,
             "#fb9f3a"
            ],
            [
             0.8888888888888888,
             "#fdca26"
            ],
            [
             1,
             "#f0f921"
            ]
           ],
           "sequentialminus": [
            [
             0,
             "#0d0887"
            ],
            [
             0.1111111111111111,
             "#46039f"
            ],
            [
             0.2222222222222222,
             "#7201a8"
            ],
            [
             0.3333333333333333,
             "#9c179e"
            ],
            [
             0.4444444444444444,
             "#bd3786"
            ],
            [
             0.5555555555555556,
             "#d8576b"
            ],
            [
             0.6666666666666666,
             "#ed7953"
            ],
            [
             0.7777777777777778,
             "#fb9f3a"
            ],
            [
             0.8888888888888888,
             "#fdca26"
            ],
            [
             1,
             "#f0f921"
            ]
           ]
          },
          "colorway": [
           "#636efa",
           "#EF553B",
           "#00cc96",
           "#ab63fa",
           "#FFA15A",
           "#19d3f3",
           "#FF6692",
           "#B6E880",
           "#FF97FF",
           "#FECB52"
          ],
          "font": {
           "color": "#2a3f5f"
          },
          "geo": {
           "bgcolor": "white",
           "lakecolor": "white",
           "landcolor": "#E5ECF6",
           "showlakes": true,
           "showland": true,
           "subunitcolor": "white"
          },
          "hoverlabel": {
           "align": "left"
          },
          "hovermode": "closest",
          "mapbox": {
           "style": "light"
          },
          "paper_bgcolor": "white",
          "plot_bgcolor": "#E5ECF6",
          "polar": {
           "angularaxis": {
            "gridcolor": "white",
            "linecolor": "white",
            "ticks": ""
           },
           "bgcolor": "#E5ECF6",
           "radialaxis": {
            "gridcolor": "white",
            "linecolor": "white",
            "ticks": ""
           }
          },
          "scene": {
           "xaxis": {
            "backgroundcolor": "#E5ECF6",
            "gridcolor": "white",
            "gridwidth": 2,
            "linecolor": "white",
            "showbackground": true,
            "ticks": "",
            "zerolinecolor": "white"
           },
           "yaxis": {
            "backgroundcolor": "#E5ECF6",
            "gridcolor": "white",
            "gridwidth": 2,
            "linecolor": "white",
            "showbackground": true,
            "ticks": "",
            "zerolinecolor": "white"
           },
           "zaxis": {
            "backgroundcolor": "#E5ECF6",
            "gridcolor": "white",
            "gridwidth": 2,
            "linecolor": "white",
            "showbackground": true,
            "ticks": "",
            "zerolinecolor": "white"
           }
          },
          "shapedefaults": {
           "line": {
            "color": "#2a3f5f"
           }
          },
          "ternary": {
           "aaxis": {
            "gridcolor": "white",
            "linecolor": "white",
            "ticks": ""
           },
           "baxis": {
            "gridcolor": "white",
            "linecolor": "white",
            "ticks": ""
           },
           "bgcolor": "#E5ECF6",
           "caxis": {
            "gridcolor": "white",
            "linecolor": "white",
            "ticks": ""
           }
          },
          "title": {
           "x": 0.05
          },
          "xaxis": {
           "automargin": true,
           "gridcolor": "white",
           "linecolor": "white",
           "ticks": "",
           "title": {
            "standoff": 15
           },
           "zerolinecolor": "white",
           "zerolinewidth": 2
          },
          "yaxis": {
           "automargin": true,
           "gridcolor": "white",
           "linecolor": "white",
           "ticks": "",
           "title": {
            "standoff": 15
           },
           "zerolinecolor": "white",
           "zerolinewidth": 2
          }
         }
        },
        "title": {
         "text": "Distribution of Difference In Nuclear Norms - GMI vs GMI+XM"
        },
        "xaxis": {
         "title": {
          "text": "Difference In Nuclear Norms - GMI vs GMI+XM"
         }
        },
        "yaxis": {
         "title": {
          "text": "Frequency"
         }
        }
       }
      },
      "text/html": [
       "<div>                            <div id=\"8f9d8cbf-f602-47d7-ac72-644cc67b2623\" class=\"plotly-graph-div\" style=\"height:525px; width:100%;\"></div>            <script type=\"text/javascript\">                require([\"plotly\"], function(Plotly) {                    window.PLOTLYENV=window.PLOTLYENV || {};                                    if (document.getElementById(\"8f9d8cbf-f602-47d7-ac72-644cc67b2623\")) {                    Plotly.newPlot(                        \"8f9d8cbf-f602-47d7-ac72-644cc67b2623\",                        [{\"x\":[-0.010348021984100342,-0.010784387588500977,-0.008169040083885193,-0.008410036563873291,-0.008834391832351685,-0.00708027184009552,-0.009663492441177368,-0.008192718029022217,-0.008596271276473999,-0.007787913084030151,-0.009867370128631592,-0.00904548168182373,-0.009872138500213623,-0.010380148887634277,-0.010571479797363281,-0.008787602186203003,-0.01109287142753601,-0.010042339563369751,-0.012412577867507935,-0.00960475206375122,-0.009457021951675415,-0.009466856718063354,-0.009020775556564331,-0.009317100048065186,-0.007544279098510742,-0.008575469255447388,-0.008394032716751099,-0.008765965700149536,-0.009475350379943848,-0.009412705898284912,-0.00947752594947815,-0.00959894061088562,-0.008082494139671326,-0.008503049612045288,-0.007241174578666687,-0.010188072919845581,-0.009578794240951538,-0.009051889181137085,-0.00953751802444458,-0.009089887142181396,-0.009025007486343384,-0.010264366865158081,-0.01028779149055481,-0.006816104054450989,-0.008923113346099854,-0.009046584367752075,-0.009164780378341675,-0.009332478046417236,-0.00882461667060852,-0.008360356092453003,-0.008382648229598999,-0.011190682649612427,-0.010931134223937988,-0.012014329433441162,-0.007821038365364075,-0.008195340633392334,-0.007290646433830261,-0.008036315441131592,-0.009321868419647217,-0.007294148206710815,-0.008348703384399414,-0.011486858129501343,-0.009483516216278076,-0.00970730185508728,-0.011319935321807861,-0.007688462734222412,-0.007675766944885254,-0.008846163749694824,-0.00970795750617981,-0.00861281156539917,-0.009105652570724487,-0.007603079080581665,-0.008754760026931763,-0.010594189167022705,-0.012135088443756104,-0.008627504110336304,-0.007639393210411072,-0.008924990892410278,-0.008864015340805054,-0.010006815195083618,-0.009809434413909912,-0.009461760520935059,-0.008666276931762695,-0.009592324495315552,-0.010471701622009277,-0.01256600022315979,-0.009334564208984375,-0.01078680157661438,-0.007396414875984192,-0.007509991526603699,-0.0091819167137146,-0.007957607507705688,-0.010406404733657837,-0.009787052869796753,-0.009295821189880371,-0.010158926248550415,-0.007574990391731262,-0.0068537890911102295,-0.008097261190414429,-0.008028686046600342,-0.008285492658615112,-0.008124858140945435,-0.007514268159866333,-0.00958859920501709,-0.00817936658859253,-0.010383933782577515,-0.009593725204467773,-0.008541896939277649,-0.007934629917144775,-0.009625494480133057,-0.0066283345222473145,-0.006635650992393494,-0.008776456117630005,-0.011221051216125488,-0.009767532348632812,-0.010643869638442993,-0.010154664516448975,-0.009709954261779785,-0.01085507869720459,-0.008511006832122803,-0.010154545307159424,-0.008130475878715515,-0.01020747423171997,-0.010671794414520264,-0.008012264966964722,-0.007266908884048462,-0.00829780101776123,-0.010873764753341675,-0.009908229112625122,-0.009826511144638062,-0.009585559368133545,-0.009286344051361084,-0.009062469005584717,-0.008952707052230835,-0.009168922901153564,-0.00887298583984375,-0.007521599531173706,-0.008815288543701172,-0.007660657167434692,-0.008488982915878296,-0.007936447858810425,-0.009935200214385986,-0.00951114296913147,-0.010481804609298706,-0.007756069302558899,-0.009978920221328735,-0.011057943105697632,-0.010234922170639038,-0.010106831789016724,-0.009611129760742188,-0.009141027927398682,-0.00923311710357666,-0.00893828272819519,-0.008690759539604187,-0.008644580841064453,-0.009351342916488647,-0.009386003017425537,-0.009273409843444824,-0.00882798433303833,-0.008336454629898071,-0.0065441131591796875,-0.009543567895889282,-0.01100987195968628,-0.009311288595199585,-0.009762585163116455,-0.009332120418548584,-0.007181942462921143,-0.007978782057762146,-0.011515825986862183,-0.010215133428573608,-0.010738193988800049,-0.009422272443771362,-0.011085957288742065,-0.010126769542694092,-0.009556114673614502,-0.007683858275413513,-0.009979814291000366,-0.010390609502792358,-0.010259300470352173,-0.01039034128189087,-0.012322455644607544,-0.008535444736480713,-0.008426874876022339,-0.009950965642929077,-0.009573489427566528,-0.006427481770515442,-0.008675754070281982,-0.009322822093963623,-0.00964963436126709,-0.008205622434616089,-0.009555578231811523,-0.009405076503753662,-0.0063552409410476685,-0.006612733006477356,-0.007695227861404419,-0.007362112402915955,-0.008971214294433594,-0.009553670883178711,-0.009846538305282593,-0.010071486234664917,-0.008294552564620972,-0.010287314653396606,-0.008926033973693848,-0.0094929039478302,-0.008735030889511108,-0.009245455265045166,-0.009119182825088501,-0.009472876787185669,-0.009187251329421997,-0.008251696825027466,-0.009317904710769653,-0.0067848265171051025,-0.008401185274124146,-0.009046077728271484,-0.010509997606277466,-0.010649561882019043,-0.008364617824554443,-0.008798867464065552,-0.010276347398757935,-0.009355008602142334,-0.010254591703414917,-0.011420458555221558,-0.01043584942817688,-0.010743290185928345,-0.009856611490249634,-0.009781956672668457,-0.01008683443069458,-0.010773122310638428,-0.01009473204612732,-0.010715782642364502,-0.008014202117919922,-0.010004997253417969,-0.009951770305633545,-0.009232640266418457,-0.00844314694404602,-0.00807681679725647,-0.009151160717010498,-0.008290410041809082,-0.009315401315689087,-0.008935362100601196,-0.0076445043087005615,-0.007810831069946289,-0.007839590311050415,-0.010133236646652222,-0.009256869554519653,-0.009654700756072998,-0.008449584245681763,-0.007280826568603516,-0.009909749031066895,-0.009676933288574219,-0.008773058652877808,-0.008919119834899902,-0.00805211067199707,-0.009541034698486328,-0.009962499141693115,-0.0106428861618042,-0.010419607162475586,-0.009111374616622925,-0.00913393497467041,-0.00943601131439209,-0.00923338532447815,-0.008784204721450806,-0.010618746280670166,-0.010147392749786377,-0.008839666843414307,-0.008323222398757935,-0.009695351123809814,-0.007518857717514038,-0.01021602749824524,-0.00877968966960907,-0.00947660207748413,-0.008745372295379639,-0.009522408246994019,-0.00791245698928833,-0.008158713579177856,-0.009264618158340454,-0.00997704267501831,-0.008821576833724976,-0.011215776205062866,-0.0074573904275894165,-0.009710133075714111,-0.009195089340209961,-0.008795052766799927,-0.00824815034866333,-0.009395450353622437,-0.008825570344924927,-0.008310288190841675,-0.008798569440841675,-0.008586078882217407,-0.010573476552963257,-0.009834498167037964,-0.008436143398284912,-0.01116955280303955,-0.007622271776199341,-0.008294373750686646,-0.009587764739990234,-0.00899621844291687,-0.008947134017944336,-0.009517580270767212,-0.008267968893051147,-0.009595423936843872,-0.008951663970947266,-0.008823126554489136,-0.008441239595413208,-0.007986217737197876,-0.009048789739608765,-0.01073521375656128,-0.011354804039001465,-0.009031116962432861,-0.01205340027809143,-0.011402994394302368,-0.009422332048416138,-0.010468363761901855,-0.008671104907989502,-0.010422468185424805,-0.009682506322860718,-0.010703712701797485,-0.011560320854187012,-0.010390549898147583,-0.006202980875968933,-0.00843900442123413,-0.008539378643035889,-0.006399795413017273,-0.008558303117752075,-0.009083032608032227,-0.009165436029434204,-0.010843604803085327,-0.009376764297485352,-0.008378535509109497,-0.009462684392929077,-0.009313523769378662,-0.00937989354133606,-0.007682532072067261,-0.00885540246963501,-0.006074190139770508,-0.0061016082763671875,-0.009739398956298828,-0.008876979351043701,-0.009914129972457886,-0.008610069751739502,-0.007663264870643616,-0.008326828479766846,-0.010095328092575073,-0.0102139413356781,-0.008860290050506592,-0.010360270738601685,-0.010615438222885132,-0.01159048080444336,-0.006444796919822693,-0.010333240032196045,-0.010056614875793457,-0.00940677523612976,-0.010245323181152344,-0.007627367973327637,-0.00609821081161499,-0.00786714255809784,-0.00961148738861084,-0.009400635957717896,-0.0074034929275512695,-0.00822979211807251,-0.00965997576713562,-0.008464604616165161,-0.010197967290878296,-0.008308649063110352,-0.0077867209911346436,-0.011607646942138672,-0.012121796607971191,-0.009203821420669556,-0.010063916444778442,-0.006197512149810791,-0.008749306201934814,-0.009282588958740234,-0.009721517562866211,-0.011319905519485474,-0.00667513906955719,-0.008117437362670898,-0.008675724267959595,-0.005717650055885315,-0.007532879710197449,-0.008420556783676147,-0.008323878049850464,-0.009168297052383423,-0.006207704544067383,-0.005780547857284546,-0.008320420980453491,-0.007268831133842468,-0.007942348718643188,-0.010055780410766602,-0.007953256368637085,-0.010071873664855957,-0.008608728647232056,-0.007761359214782715,-0.0076025426387786865,-0.009805113077163696,-0.007958382368087769,-0.009717106819152832,-0.006710126996040344,-0.008964449167251587,-0.006299346685409546,-0.008774012327194214,-0.009920358657836914,-0.0074690282344818115,-0.009263545274734497,-0.009592235088348389,-0.009144991636276245,-0.008165597915649414,-0.007061168551445007,-0.007629752159118652,-0.007233425974845886,-0.010305166244506836,-0.007360354065895081,-0.006886839866638184,-0.007607579231262207,-0.0087432861328125,-0.005635485053062439,-0.011181294918060303,-0.009591221809387207,-0.009407281875610352,-0.008987754583358765,-0.012188524007797241,-0.0068613141775131226,-0.013438940048217773,-0.010430604219436646,-0.008324012160301208,-0.010614097118377686,-0.007244497537612915,-0.009724974632263184,-0.009431451559066772,-0.007321655750274658,-0.007601246237754822,-0.009884119033813477,-0.008746981620788574,-0.00632360577583313,-0.00917130708694458,-0.009643852710723877,-0.010123372077941895,-0.006084457039833069,-0.008272677659988403,-0.008754879236221313,-0.006111457943916321,-0.010979503393173218,-0.010063916444778442,-0.008861333131790161,-0.009202957153320312,-0.008395999670028687,-0.009748607873916626,-0.007191091775894165,-0.007882475852966309,-0.008639425039291382,-0.009200990200042725,-0.008986294269561768,-0.008185803890228271,-0.0074589550495147705,-0.008695751428604126,-0.00737433135509491,-0.008840471506118774,-0.0044335126876831055,-0.010849148035049438,-0.009605169296264648,-0.009027153253555298,-0.012472659349441528,-0.007213711738586426,-0.007197856903076172,-0.0060300081968307495,-0.008768290281295776,-0.01063847541809082,-0.009838700294494629,-0.00886625051498413,-0.010156214237213135,-0.006924927234649658,-0.00831499695777893,-0.010215222835540771,-0.00907069444656372,-0.011011749505996704,-0.008650794625282288,-0.008042410016059875,-0.006575256586074829,-0.006029486656188965,-0.00903463363647461,-0.00891202688217163,-0.008944481611251831,-0.00852501392364502,-0.010028451681137085,-0.010256260633468628,-0.009538143873214722,-0.010160356760025024,-0.012286931276321411,-0.00843191146850586,-0.00776633620262146,-0.010436654090881348,-0.009861469268798828,-0.009008586406707764,-0.008830398321151733,-0.010265767574310303,-0.008379220962524414,-0.010127991437911987,-0.009731799364089966,-0.009682625532150269,-0.010727465152740479,-0.008004635572433472,-0.0069068968296051025,-0.007602855563163757,-0.006463497877120972,-0.0069122761487960815,-0.00803983211517334,-0.007409974932670593,-0.008169203996658325,-0.010493636131286621,-0.008822977542877197,-0.007896959781646729,-0.008067548274993896,-0.010725796222686768,-0.00868445634841919,-0.00896647572517395,-0.0066965073347091675,-0.009655803442001343,-0.006207525730133057,-0.006053030490875244,-0.008064568042755127,-0.009702473878860474,-0.008426934480667114,-0.008263856172561646,-0.007695361971855164,-0.009668022394180298,-0.00765635073184967,-0.008291870355606079,-0.009150326251983643,-0.007766813039779663,-0.009699910879135132,-0.008624136447906494,-0.009495913982391357,-0.009064167737960815,-0.008448600769042969,-0.010971486568450928,-0.007935762405395508,-0.008343666791915894,-0.010146915912628174,-0.013264715671539307,-0.007979810237884521,-0.008584946393966675,-0.008185982704162598,-0.00887995958328247,-0.008148223161697388,-0.00900810956954956,-0.009170174598693848,-0.00807255506515503,-0.008826911449432373,-0.007422849535942078,-0.009830236434936523,-0.009127885103225708,-0.008445680141448975,-0.008919596672058105,-0.0084381103515625,-0.006769582629203796,-0.008005738258361816,-0.009111106395721436,-0.009502649307250977,-0.008733361959457397,-0.00867512822151184,-0.007247567176818848,-0.008558481931686401,-0.008266687393188477,-0.00930449366569519,-0.009793519973754883,-0.0096072256565094,-0.008141040802001953,-0.007488667964935303,-0.00645795464515686,-0.008279949426651001,-0.007978826761245728,-0.00679972767829895,-0.007886558771133423,-0.009473800659179688,-0.007552996277809143,-0.0078745037317276,-0.007780164480209351,-0.008763730525970459,-0.008216917514801025,-0.0093630850315094,-0.007120832800865173,-0.00922057032585144,-0.00904393196105957,-0.008526474237442017,-0.006874501705169678,-0.009693890810012817,-0.008094146847724915,-0.007362768054008484,-0.007926449179649353,-0.008637607097625732,-0.008532613515853882,-0.007595241069793701,-0.006920754909515381,-0.008792310953140259,-0.006243258714675903,-0.012823909521102905,-0.008559495210647583,-0.009710907936096191,-0.006695419549942017,-0.00794026255607605,-0.007923126220703125,-0.010640174150466919,-0.009805142879486084,-0.009200990200042725,-0.007964372634887695,-0.006033360958099365,-0.00922858715057373,-0.010603994131088257,-0.008585453033447266,-0.006861269474029541,-0.008117616176605225,-0.009682029485702515,-0.009558051824569702,-0.009859025478363037,-0.00957942008972168,-0.011377781629562378,-0.010096132755279541,-0.005755916237831116,-0.007033407688140869,-0.006935566663742065,-0.004463121294975281,-0.00952690839767456,-0.008272290229797363,-0.009368568658828735,-0.01142236590385437,-0.005286693572998047,-0.007606327533721924,-0.009532153606414795,-0.005616664886474609,-0.009237319231033325,-0.0035790950059890747,-0.003966242074966431,-0.004408478736877441,-0.004581451416015625,-0.005426868796348572,-0.00670236349105835,-0.0044909268617630005,-0.009061068296432495,-0.008371204137802124,-0.007545918226242065,-0.007802322506904602,-0.008367061614990234,-0.009292244911193848,-0.010547459125518799,-0.008104026317596436,-0.00491023063659668,-0.008419692516326904,-0.009139478206634521,-0.009884119033813477,-0.009103000164031982,-0.009379774332046509,-0.008121013641357422,-0.00998908281326294,-0.00843358039855957,-0.007316410541534424,-0.007002532482147217,-0.007727816700935364,-0.008154362440109253,-0.008101314306259155,-0.010053932666778564,-0.008419662714004517,-0.00800296664237976,-0.009731769561767578,-0.010365933179855347,-0.009210526943206787,-0.009031534194946289,-0.00770743191242218,-0.007351696491241455,-0.00724676251411438,-0.006223857402801514,-0.005890831351280212,-0.008755207061767578,-0.009100735187530518,-0.009584009647369385,-0.010275006294250488,-0.007845044136047363,-0.005753993988037109,-0.008124470710754395,-0.009331613779067993,-0.007421225309371948,-0.008085444569587708,-0.007798433303833008,-0.008849263191223145,-0.011314868927001953,-0.005888611078262329,-0.01036408543586731,-0.0102386474609375,-0.007711395621299744,-0.009089052677154541,-0.006754070520401001,-0.007582157850265503,-0.007923007011413574,-0.008266687393188477,-0.005574032664299011,-0.00568804144859314,-0.008069217205047607,-0.011213988065719604,-0.008953958749771118,-0.007367432117462158,-0.004931166768074036,-0.008455067873001099,-0.010283440351486206,-0.005297407507896423,-0.008985191583633423,-0.010747015476226807,-0.006405264139175415,-0.008260965347290039,-0.00619862973690033,-0.007933616638183594,-0.008053630590438843,-0.00584469735622406,-0.007526874542236328,-0.00754314661026001,-0.005103275179862976,-0.007264822721481323,-0.00879514217376709,-0.01078292727470398,-0.008066147565841675,-0.009322136640548706,-0.010080099105834961,-0.007868707180023193,-0.009750723838806152,-0.0049783289432525635,-0.0065491944551467896,-0.005940556526184082,-0.007507145404815674,-0.009014368057250977,-0.009016811847686768,-0.005946621298789978,-0.009772956371307373,-0.003722265362739563,-0.00961238145828247,-0.009174466133117676,-0.010505825281143188,-0.008519530296325684,-0.007434681057929993,-0.007033422589302063,-0.007845893502235413,-0.008211016654968262,-0.008924275636672974,-0.007453054189682007,-0.009712934494018555,-0.007706135511398315,-0.010651886463165283,-0.008503466844558716,-0.007413715124130249,-0.00949704647064209,-0.006425410509109497,-0.006405264139175415,-0.010126233100891113,-0.008190244436264038,-0.004674255847930908,-0.00807221233844757,-0.0060087889432907104,-0.007837831974029541,-0.0077590495347976685,-0.0078004151582717896,-0.005804732441902161,-0.007150232791900635,-0.008587390184402466,-0.00813564658164978,-0.008649677038192749,-0.009415805339813232,-0.010078668594360352,-0.008572369813919067,-0.010390013456344604,-0.006033852696418762,-0.00890880823135376,-0.0057564228773117065,-0.007854297757148743,-0.009675860404968262,-0.007853955030441284,-0.005537375807762146,-0.010585039854049683,-0.007713302969932556,-0.009237945079803467,-0.005197897553443909,-0.01130610704421997,-0.00426386296749115,-0.009055495262145996,-0.006440401077270508,-0.010255813598632812,-0.009417176246643066,-0.010350704193115234,-0.0060584694147109985,-0.0067708492279052734,-0.006447583436965942,-0.0078012049198150635,-0.007724285125732422,-0.004715368151664734,-0.007124990224838257,-0.00807809829711914,-0.010491997003555298,-0.00815802812576294,-0.009656518697738647,-0.00822344422340393,-0.009991675615310669,-0.007687166333198547,-0.008342206478118896,-0.007631659507751465,-0.009307324886322021,-0.006779268383979797,-0.011283189058303833,-0.005181342363357544,-0.010615795850753784,-0.007496744394302368,-0.011413991451263428,-0.004746109247207642,-0.0065168291330337524,-0.00793592631816864,-0.009107649326324463,-0.008757263422012329,-0.007288932800292969,-0.01108098030090332,-0.006896257400512695,-0.006918758153915405,-0.005406603217124939,-0.008840829133987427,-0.008019804954528809,-0.00568804144859314,-0.005094259977340698,-0.010722905397415161,-0.008027002215385437,-0.00818324089050293,-0.005845874547958374,-0.005142718553543091,-0.007791593670845032,-0.0073677003383636475,-0.0031065791845321655,-0.00792740285396576,-0.006144016981124878,-0.00841417908668518,-0.010288894176483154,-0.008177995681762695,-0.010615140199661255,-0.005198165774345398,-0.006748884916305542,-0.00989118218421936,-0.009098142385482788,-0.007202774286270142,-0.007720261812210083,-0.008808910846710205,-0.0076461732387542725,-0.010619968175888062,-0.008760333061218262,-0.006828621029853821,-0.007223904132843018,-0.005558043718338013,-0.007493659853935242,-0.008311539888381958,-0.009737342596054077,-0.007041260600090027,-0.006114870309829712,-0.011668920516967773,-0.01026463508605957,-0.0052756667137146,-0.006114870309829712,-0.007235616445541382,-0.00877276062965393,-0.008579462766647339,-0.0059435367584228516,-0.0071973055601119995,-0.007883787155151367,-0.008942276239395142,-0.00482998788356781,-0.006735771894454956,-0.005748271942138672,-0.0067896246910095215,-0.007780194282531738,-0.0056701600551605225,-0.007076248526573181,-0.006387248635292053,-0.005693212151527405,-0.005220681428909302,-0.008201807737350464,-0.005904838442802429,-0.007870346307754517,-0.006109640002250671,-0.008983701467514038,-0.009244322776794434,-0.007111907005310059,-0.0071185678243637085,-0.009044289588928223,-0.006982356309890747,-0.0072200000286102295,-0.005824834108352661,-0.00984916090965271,-0.006867527961730957,-0.008477747440338135,-0.007847726345062256,-0.007879495620727539,-0.007256671786308289,-0.01052907109260559,-0.006100356578826904,-0.00784999132156372,-0.008379489183425903,-0.008547574281692505,-0.009400218725204468,-0.009200990200042725,-0.007981330156326294,-0.007291197776794434,-0.006836265325546265,-0.007816627621650696,-0.007058382034301758,-0.010225474834442139,-0.004453688859939575,-0.007110044360160828,-0.006851419806480408,-0.006703808903694153,-0.004900455474853516,-0.007453054189682007,-0.00584845244884491,-0.007336407899856567,-0.007234975695610046,-0.010149955749511719,-0.006094679236412048,-0.009324073791503906,-0.0066252201795578,-0.009156525135040283,-0.006032675504684448,-0.007702097296714783,-0.009715646505355835,-0.006069466471672058,-0.010376453399658203,-0.011187940835952759,-0.010315150022506714,-0.009975463151931763,-0.0064910054206848145,-0.007749974727630615,-0.005695164203643799,-0.009493827819824219,-0.007117107510566711,-0.013367176055908203,-0.0068219006061553955,-0.00619564950466156,-0.008149176836013794,-0.006579488515853882,-0.007076725363731384,-0.008395254611968994,-0.007263064384460449,-0.007670804858207703,-0.008572190999984741,-0.008572190999984741,-0.008572190999984741,-0.007795989513397217,-0.009311050176620483,-0.007926523685455322,-0.011369287967681885,-0.005968824028968811,-0.007079988718032837,-0.00403188169002533,-0.00515572726726532,-0.00879243016242981,-0.005908086895942688,-0.0077934712171554565,-0.00773504376411438,-0.006721317768096924,-0.00773504376411438,-0.006770282983779907,-0.00393301248550415,-0.005767822265625,-0.010340273380279541,-0.008602499961853027,-0.006770282983779907,-0.006982356309890747,-0.006181582808494568,-0.008683264255523682,-0.009031683206558228,-0.007348731160163879,-0.007167741656303406,-0.005211874842643738,-0.003921255469322205,-0.006994143128395081,-0.0051107257604599,-0.006585836410522461,-0.007112979888916016,-0.009372949600219727,-0.010010868310928345,-0.010192900896072388,-0.005893722176551819,-0.01052907109260559,-0.008453369140625,-0.007815837860107422,-0.005723774433135986,-0.008587390184402466,-0.01108098030090332,-0.006296142935752869],\"type\":\"histogram\"}],                        {\"template\":{\"data\":{\"histogram2dcontour\":[{\"type\":\"histogram2dcontour\",\"colorbar\":{\"outlinewidth\":0,\"ticks\":\"\"},\"colorscale\":[[0.0,\"#0d0887\"],[0.1111111111111111,\"#46039f\"],[0.2222222222222222,\"#7201a8\"],[0.3333333333333333,\"#9c179e\"],[0.4444444444444444,\"#bd3786\"],[0.5555555555555556,\"#d8576b\"],[0.6666666666666666,\"#ed7953\"],[0.7777777777777778,\"#fb9f3a\"],[0.8888888888888888,\"#fdca26\"],[1.0,\"#f0f921\"]]}],\"choropleth\":[{\"type\":\"choropleth\",\"colorbar\":{\"outlinewidth\":0,\"ticks\":\"\"}}],\"histogram2d\":[{\"type\":\"histogram2d\",\"colorbar\":{\"outlinewidth\":0,\"ticks\":\"\"},\"colorscale\":[[0.0,\"#0d0887\"],[0.1111111111111111,\"#46039f\"],[0.2222222222222222,\"#7201a8\"],[0.3333333333333333,\"#9c179e\"],[0.4444444444444444,\"#bd3786\"],[0.5555555555555556,\"#d8576b\"],[0.6666666666666666,\"#ed7953\"],[0.7777777777777778,\"#fb9f3a\"],[0.8888888888888888,\"#fdca26\"],[1.0,\"#f0f921\"]]}],\"heatmap\":[{\"type\":\"heatmap\",\"colorbar\":{\"outlinewidth\":0,\"ticks\":\"\"},\"colorscale\":[[0.0,\"#0d0887\"],[0.1111111111111111,\"#46039f\"],[0.2222222222222222,\"#7201a8\"],[0.3333333333333333,\"#9c179e\"],[0.4444444444444444,\"#bd3786\"],[0.5555555555555556,\"#d8576b\"],[0.6666666666666666,\"#ed7953\"],[0.7777777777777778,\"#fb9f3a\"],[0.8888888888888888,\"#fdca26\"],[1.0,\"#f0f921\"]]}],\"heatmapgl\":[{\"type\":\"heatmapgl\",\"colorbar\":{\"outlinewidth\":0,\"ticks\":\"\"},\"colorscale\":[[0.0,\"#0d0887\"],[0.1111111111111111,\"#46039f\"],[0.2222222222222222,\"#7201a8\"],[0.3333333333333333,\"#9c179e\"],[0.4444444444444444,\"#bd3786\"],[0.5555555555555556,\"#d8576b\"],[0.6666666666666666,\"#ed7953\"],[0.7777777777777778,\"#fb9f3a\"],[0.8888888888888888,\"#fdca26\"],[1.0,\"#f0f921\"]]}],\"contourcarpet\":[{\"type\":\"contourcarpet\",\"colorbar\":{\"outlinewidth\":0,\"ticks\":\"\"}}],\"contour\":[{\"type\":\"contour\",\"colorbar\":{\"outlinewidth\":0,\"ticks\":\"\"},\"colorscale\":[[0.0,\"#0d0887\"],[0.1111111111111111,\"#46039f\"],[0.2222222222222222,\"#7201a8\"],[0.3333333333333333,\"#9c179e\"],[0.4444444444444444,\"#bd3786\"],[0.5555555555555556,\"#d8576b\"],[0.6666666666666666,\"#ed7953\"],[0.7777777777777778,\"#fb9f3a\"],[0.8888888888888888,\"#fdca26\"],[1.0,\"#f0f921\"]]}],\"surface\":[{\"type\":\"surface\",\"colorbar\":{\"outlinewidth\":0,\"ticks\":\"\"},\"colorscale\":[[0.0,\"#0d0887\"],[0.1111111111111111,\"#46039f\"],[0.2222222222222222,\"#7201a8\"],[0.3333333333333333,\"#9c179e\"],[0.4444444444444444,\"#bd3786\"],[0.5555555555555556,\"#d8576b\"],[0.6666666666666666,\"#ed7953\"],[0.7777777777777778,\"#fb9f3a\"],[0.8888888888888888,\"#fdca26\"],[1.0,\"#f0f921\"]]}],\"mesh3d\":[{\"type\":\"mesh3d\",\"colorbar\":{\"outlinewidth\":0,\"ticks\":\"\"}}],\"scatter\":[{\"fillpattern\":{\"fillmode\":\"overlay\",\"size\":10,\"solidity\":0.2},\"type\":\"scatter\"}],\"parcoords\":[{\"type\":\"parcoords\",\"line\":{\"colorbar\":{\"outlinewidth\":0,\"ticks\":\"\"}}}],\"scatterpolargl\":[{\"type\":\"scatterpolargl\",\"marker\":{\"colorbar\":{\"outlinewidth\":0,\"ticks\":\"\"}}}],\"bar\":[{\"error_x\":{\"color\":\"#2a3f5f\"},\"error_y\":{\"color\":\"#2a3f5f\"},\"marker\":{\"line\":{\"color\":\"#E5ECF6\",\"width\":0.5},\"pattern\":{\"fillmode\":\"overlay\",\"size\":10,\"solidity\":0.2}},\"type\":\"bar\"}],\"scattergeo\":[{\"type\":\"scattergeo\",\"marker\":{\"colorbar\":{\"outlinewidth\":0,\"ticks\":\"\"}}}],\"scatterpolar\":[{\"type\":\"scatterpolar\",\"marker\":{\"colorbar\":{\"outlinewidth\":0,\"ticks\":\"\"}}}],\"histogram\":[{\"marker\":{\"pattern\":{\"fillmode\":\"overlay\",\"size\":10,\"solidity\":0.2}},\"type\":\"histogram\"}],\"scattergl\":[{\"type\":\"scattergl\",\"marker\":{\"colorbar\":{\"outlinewidth\":0,\"ticks\":\"\"}}}],\"scatter3d\":[{\"type\":\"scatter3d\",\"line\":{\"colorbar\":{\"outlinewidth\":0,\"ticks\":\"\"}},\"marker\":{\"colorbar\":{\"outlinewidth\":0,\"ticks\":\"\"}}}],\"scattermapbox\":[{\"type\":\"scattermapbox\",\"marker\":{\"colorbar\":{\"outlinewidth\":0,\"ticks\":\"\"}}}],\"scatterternary\":[{\"type\":\"scatterternary\",\"marker\":{\"colorbar\":{\"outlinewidth\":0,\"ticks\":\"\"}}}],\"scattercarpet\":[{\"type\":\"scattercarpet\",\"marker\":{\"colorbar\":{\"outlinewidth\":0,\"ticks\":\"\"}}}],\"carpet\":[{\"aaxis\":{\"endlinecolor\":\"#2a3f5f\",\"gridcolor\":\"white\",\"linecolor\":\"white\",\"minorgridcolor\":\"white\",\"startlinecolor\":\"#2a3f5f\"},\"baxis\":{\"endlinecolor\":\"#2a3f5f\",\"gridcolor\":\"white\",\"linecolor\":\"white\",\"minorgridcolor\":\"white\",\"startlinecolor\":\"#2a3f5f\"},\"type\":\"carpet\"}],\"table\":[{\"cells\":{\"fill\":{\"color\":\"#EBF0F8\"},\"line\":{\"color\":\"white\"}},\"header\":{\"fill\":{\"color\":\"#C8D4E3\"},\"line\":{\"color\":\"white\"}},\"type\":\"table\"}],\"barpolar\":[{\"marker\":{\"line\":{\"color\":\"#E5ECF6\",\"width\":0.5},\"pattern\":{\"fillmode\":\"overlay\",\"size\":10,\"solidity\":0.2}},\"type\":\"barpolar\"}],\"pie\":[{\"automargin\":true,\"type\":\"pie\"}]},\"layout\":{\"autotypenumbers\":\"strict\",\"colorway\":[\"#636efa\",\"#EF553B\",\"#00cc96\",\"#ab63fa\",\"#FFA15A\",\"#19d3f3\",\"#FF6692\",\"#B6E880\",\"#FF97FF\",\"#FECB52\"],\"font\":{\"color\":\"#2a3f5f\"},\"hovermode\":\"closest\",\"hoverlabel\":{\"align\":\"left\"},\"paper_bgcolor\":\"white\",\"plot_bgcolor\":\"#E5ECF6\",\"polar\":{\"bgcolor\":\"#E5ECF6\",\"angularaxis\":{\"gridcolor\":\"white\",\"linecolor\":\"white\",\"ticks\":\"\"},\"radialaxis\":{\"gridcolor\":\"white\",\"linecolor\":\"white\",\"ticks\":\"\"}},\"ternary\":{\"bgcolor\":\"#E5ECF6\",\"aaxis\":{\"gridcolor\":\"white\",\"linecolor\":\"white\",\"ticks\":\"\"},\"baxis\":{\"gridcolor\":\"white\",\"linecolor\":\"white\",\"ticks\":\"\"},\"caxis\":{\"gridcolor\":\"white\",\"linecolor\":\"white\",\"ticks\":\"\"}},\"coloraxis\":{\"colorbar\":{\"outlinewidth\":0,\"ticks\":\"\"}},\"colorscale\":{\"sequential\":[[0.0,\"#0d0887\"],[0.1111111111111111,\"#46039f\"],[0.2222222222222222,\"#7201a8\"],[0.3333333333333333,\"#9c179e\"],[0.4444444444444444,\"#bd3786\"],[0.5555555555555556,\"#d8576b\"],[0.6666666666666666,\"#ed7953\"],[0.7777777777777778,\"#fb9f3a\"],[0.8888888888888888,\"#fdca26\"],[1.0,\"#f0f921\"]],\"sequentialminus\":[[0.0,\"#0d0887\"],[0.1111111111111111,\"#46039f\"],[0.2222222222222222,\"#7201a8\"],[0.3333333333333333,\"#9c179e\"],[0.4444444444444444,\"#bd3786\"],[0.5555555555555556,\"#d8576b\"],[0.6666666666666666,\"#ed7953\"],[0.7777777777777778,\"#fb9f3a\"],[0.8888888888888888,\"#fdca26\"],[1.0,\"#f0f921\"]],\"diverging\":[[0,\"#8e0152\"],[0.1,\"#c51b7d\"],[0.2,\"#de77ae\"],[0.3,\"#f1b6da\"],[0.4,\"#fde0ef\"],[0.5,\"#f7f7f7\"],[0.6,\"#e6f5d0\"],[0.7,\"#b8e186\"],[0.8,\"#7fbc41\"],[0.9,\"#4d9221\"],[1,\"#276419\"]]},\"xaxis\":{\"gridcolor\":\"white\",\"linecolor\":\"white\",\"ticks\":\"\",\"title\":{\"standoff\":15},\"zerolinecolor\":\"white\",\"automargin\":true,\"zerolinewidth\":2},\"yaxis\":{\"gridcolor\":\"white\",\"linecolor\":\"white\",\"ticks\":\"\",\"title\":{\"standoff\":15},\"zerolinecolor\":\"white\",\"automargin\":true,\"zerolinewidth\":2},\"scene\":{\"xaxis\":{\"backgroundcolor\":\"#E5ECF6\",\"gridcolor\":\"white\",\"linecolor\":\"white\",\"showbackground\":true,\"ticks\":\"\",\"zerolinecolor\":\"white\",\"gridwidth\":2},\"yaxis\":{\"backgroundcolor\":\"#E5ECF6\",\"gridcolor\":\"white\",\"linecolor\":\"white\",\"showbackground\":true,\"ticks\":\"\",\"zerolinecolor\":\"white\",\"gridwidth\":2},\"zaxis\":{\"backgroundcolor\":\"#E5ECF6\",\"gridcolor\":\"white\",\"linecolor\":\"white\",\"showbackground\":true,\"ticks\":\"\",\"zerolinecolor\":\"white\",\"gridwidth\":2}},\"shapedefaults\":{\"line\":{\"color\":\"#2a3f5f\"}},\"annotationdefaults\":{\"arrowcolor\":\"#2a3f5f\",\"arrowhead\":0,\"arrowwidth\":1},\"geo\":{\"bgcolor\":\"white\",\"landcolor\":\"#E5ECF6\",\"subunitcolor\":\"white\",\"showland\":true,\"showlakes\":true,\"lakecolor\":\"white\"},\"title\":{\"x\":0.05},\"mapbox\":{\"style\":\"light\"}}},\"title\":{\"text\":\"Distribution of Difference In Nuclear Norms - GMI vs GMI+XM\"},\"xaxis\":{\"title\":{\"text\":\"Difference In Nuclear Norms - GMI vs GMI+XM\"}},\"yaxis\":{\"title\":{\"text\":\"Frequency\"}},\"font\":{\"size\":30},\"plot_bgcolor\":\"white\",\"paper_bgcolor\":\"white\"},                        {\"responsive\": true}                    ).then(function(){\n",
       "                            \n",
       "var gd = document.getElementById('8f9d8cbf-f602-47d7-ac72-644cc67b2623');\n",
       "var x = new MutationObserver(function (mutations, observer) {{\n",
       "        var display = window.getComputedStyle(gd).display;\n",
       "        if (!display || display === 'none') {{\n",
       "            console.log([gd, 'removed!']);\n",
       "            Plotly.purge(gd);\n",
       "            observer.disconnect();\n",
       "        }}\n",
       "}});\n",
       "\n",
       "// Listen for the removal of the full notebook cells\n",
       "var notebookContainer = gd.closest('#notebook-container');\n",
       "if (notebookContainer) {{\n",
       "    x.observe(notebookContainer, {childList: true});\n",
       "}}\n",
       "\n",
       "// Listen for the clearing of the current output cell\n",
       "var outputEl = gd.closest('.output');\n",
       "if (outputEl) {{\n",
       "    x.observe(outputEl, {childList: true});\n",
       "}}\n",
       "\n",
       "                        })                };                });            </script>        </div>"
      ]
     },
     "metadata": {},
     "output_type": "display_data"
    }
   ],
   "source": [
    "diff = np.array(norm_og) - np.array(norm_plus)\n",
    "fig = go.Figure()\n",
    "fig.add_trace(go.Histogram(x = diff))\n",
    "fig.update_layout(title_text = 'Distribution of Difference In Nuclear Norms - GMI vs GMI+XM', \n",
    "                  xaxis_title_text = 'Difference In Nuclear Norms - GMI vs GMI+XM', \n",
    "                  yaxis_title_text = 'Frequency', \n",
    "                  plot_bgcolor = 'white', \n",
    "                  paper_bgcolor = 'white', \n",
    "                  font = dict(size = 30))\n",
    "fig.show()"
   ]
  },
  {
   "cell_type": "code",
   "execution_count": 86,
   "id": "0e275190",
   "metadata": {},
   "outputs": [
    {
     "data": {
      "application/vnd.plotly.v1+json": {
       "config": {
        "plotlyServerURL": "https://plot.ly"
       },
       "data": [
        {
         "name": "GMI",
         "type": "histogram",
         "x": [
          0.3119733929634094,
          0.32691559195518494,
          0.24601437151432037,
          0.25105172395706177,
          0.263872355222702,
          0.23217454552650452,
          0.28111156821250916,
          0.2656309902667999,
          0.2653488218784332,
          0.26926347613334656,
          0.2919290363788605,
          0.28325793147087097,
          0.30476686358451843,
          0.29176124930381775,
          0.32280755043029785,
          0.2666441798210144,
          0.32199257612228394,
          0.2890460789203644,
          0.3677333891391754,
          0.28114140033721924,
          0.2845923602581024,
          0.27112194895744324,
          0.2896580696105957,
          0.26670774817466736,
          0.23960135877132416,
          0.2547444701194763,
          0.25367921590805054,
          0.26077330112457275,
          0.26519539952278137,
          0.27243635058403015,
          0.2733299434185028,
          0.2787310481071472,
          0.24287350475788116,
          0.25727978348731995,
          0.22003528475761414,
          0.29457077383995056,
          0.2788872718811035,
          0.27762162685394287,
          0.28219157457351685,
          0.27021926641464233,
          0.26953431963920593,
          0.29550227522850037,
          0.2952774167060852,
          0.23432707786560059,
          0.2649666368961334,
          0.27435171604156494,
          0.25766628980636597,
          0.2746153175830841,
          0.2634488642215729,
          0.2692508101463318,
          0.2664841115474701,
          0.33100879192352295,
          0.3530251979827881,
          0.35963115096092224,
          0.2380748689174652,
          0.24948325753211975,
          0.23138070106506348,
          0.25658005475997925,
          0.2576484680175781,
          0.22972366213798523,
          0.26234671473503113,
          0.34275123476982117,
          0.2627619504928589,
          0.27560847997665405,
          0.3117014765739441,
          0.2516704499721527,
          0.2514571249485016,
          0.273058146238327,
          0.2841905653476715,
          0.2758089601993561,
          0.2772706151008606,
          0.2434886395931244,
          0.28282231092453003,
          0.32033073902130127,
          0.36316797137260437,
          0.26595452427864075,
          0.23575320839881897,
          0.2709426283836365,
          0.26626062393188477,
          0.2989967167377472,
          0.2851751744747162,
          0.263560026884079,
          0.24310296773910522,
          0.2672809362411499,
          0.32650527358055115,
          0.39208677411079407,
          0.2654387652873993,
          0.29253628849983215,
          0.23903539776802063,
          0.22643886506557465,
          0.27964532375335693,
          0.2632491886615753,
          0.3428766429424286,
          0.28810492157936096,
          0.2854999601840973,
          0.3047715127468109,
          0.23164907097816467,
          0.2354590743780136,
          0.26071029901504517,
          0.2504339814186096,
          0.2712756395339966,
          0.2583124041557312,
          0.25836777687072754,
          0.29485663771629333,
          0.24985909461975098,
          0.2818758189678192,
          0.28017890453338623,
          0.24156154692173004,
          0.25644418597221375,
          0.3014000356197357,
          0.2194773256778717,
          0.21711349487304688,
          0.28418973088264465,
          0.3225812017917633,
          0.27066436409950256,
          0.292177677154541,
          0.2907584011554718,
          0.29656729102134705,
          0.3318997621536255,
          0.2661021649837494,
          0.3158084452152252,
          0.2227504402399063,
          0.3233521580696106,
          0.3180432915687561,
          0.2617647051811218,
          0.24080954492092133,
          0.26194456219673157,
          0.32641807198524475,
          0.2792762517929077,
          0.28578001260757446,
          0.29637688398361206,
          0.27955248951911926,
          0.2600173354148865,
          0.2597789168357849,
          0.31398090720176697,
          0.26234909892082214,
          0.22548982501029968,
          0.25622910261154175,
          0.23370198905467987,
          0.26321491599082947,
          0.2522328197956085,
          0.3019371032714844,
          0.262102872133255,
          0.31220969557762146,
          0.24082325398921967,
          0.28605198860168457,
          0.3415829539299011,
          0.29196783900260925,
          0.32534661889076233,
          0.3044341206550598,
          0.2813217043876648,
          0.2707973122596741,
          0.2575381100177765,
          0.24872206151485443,
          0.25273633003234863,
          0.27995339035987854,
          0.31775546073913574,
          0.2996133267879486,
          0.2763599753379822,
          0.2603345513343811,
          0.18195697665214539,
          0.2864827513694763,
          0.32461467385292053,
          0.2739427387714386,
          0.2963523268699646,
          0.26528191566467285,
          0.20230433344841003,
          0.2471255511045456,
          0.344439834356308,
          0.2810930013656616,
          0.30027347803115845,
          0.27759554982185364,
          0.3246127963066101,
          0.2918025851249695,
          0.2694758474826813,
          0.24798034131526947,
          0.3120206892490387,
          0.32549095153808594,
          0.326193243265152,
          0.3161594867706299,
          0.36770394444465637,
          0.2705785036087036,
          0.26801633834838867,
          0.2713204324245453,
          0.28331172466278076,
          0.23582038283348083,
          0.2628834843635559,
          0.26734352111816406,
          0.28101441264152527,
          0.27094703912734985,
          0.2746497094631195,
          0.3076533377170563,
          0.22050748765468597,
          0.20980803668498993,
          0.2377328723669052,
          0.22978058457374573,
          0.27079707384109497,
          0.2857002913951874,
          0.30315518379211426,
          0.3020646870136261,
          0.2546265721321106,
          0.30219024419784546,
          0.2797834575176239,
          0.28732895851135254,
          0.26329687237739563,
          0.2824930250644684,
          0.2883439064025879,
          0.28542864322662354,
          0.2738153636455536,
          0.25285282731056213,
          0.2578931748867035,
          0.20426607131958008,
          0.23384477198123932,
          0.30082258582115173,
          0.3177034556865692,
          0.30960553884506226,
          0.25612393021583557,
          0.28031474351882935,
          0.30821508169174194,
          0.2840573787689209,
          0.3145577907562256,
          0.33443573117256165,
          0.31164026260375977,
          0.3200414180755615,
          0.3065786063671112,
          0.29512879252433777,
          0.2907208204269409,
          0.3360615670681,
          0.3047873079776764,
          0.3222499191761017,
          0.2458621859550476,
          0.32750603556632996,
          0.30469638109207153,
          0.2678897976875305,
          0.2636088728904724,
          0.25708600878715515,
          0.2651510238647461,
          0.2624780535697937,
          0.30644261837005615,
          0.28500714898109436,
          0.24726653099060059,
          0.25558891892433167,
          0.25734037160873413,
          0.3099927306175232,
          0.2839500904083252,
          0.28565359115600586,
          0.28575974702835083,
          0.24499908089637756,
          0.3046049475669861,
          0.2602726221084595,
          0.2700187861919403,
          0.2631424069404602,
          0.23157772421836853,
          0.27976149320602417,
          0.2855280935764313,
          0.3084394335746765,
          0.2942787706851959,
          0.2848055958747864,
          0.2961483895778656,
          0.3072585463523865,
          0.2992347776889801,
          0.25903621315956116,
          0.3428705334663391,
          0.29396775364875793,
          0.2746300995349884,
          0.27907121181488037,
          0.3086335361003876,
          0.2556425631046295,
          0.3046824634075165,
          0.24825094640254974,
          0.2887721657752991,
          0.27270203828811646,
          0.2973601222038269,
          0.25404301285743713,
          0.2546333968639374,
          0.2987443804740906,
          0.31799647212028503,
          0.276505708694458,
          0.3364710807800293,
          0.2335767149925232,
          0.2853620648384094,
          0.2667710483074188,
          0.24478751420974731,
          0.2340882420539856,
          0.29158949851989746,
          0.2616889178752899,
          0.251284122467041,
          0.27407577633857727,
          0.26269903779029846,
          0.33875399827957153,
          0.2915109395980835,
          0.26140162348747253,
          0.3340800404548645,
          0.24764195084571838,
          0.2579524517059326,
          0.30632877349853516,
          0.26514869928359985,
          0.2835160791873932,
          0.30658650398254395,
          0.27975988388061523,
          0.2839788496494293,
          0.2644742429256439,
          0.26498812437057495,
          0.2419038712978363,
          0.24767601490020752,
          0.28190839290618896,
          0.324081689119339,
          0.34816253185272217,
          0.2666357755661011,
          0.36946621537208557,
          0.3358359932899475,
          0.2872774302959442,
          0.3124748170375824,
          0.2667119801044464,
          0.3102835714817047,
          0.30295976996421814,
          0.3368827998638153,
          0.3511909246444702,
          0.30211469531059265,
          0.20430603623390198,
          0.2657637894153595,
          0.2682460844516754,
          0.22766828536987305,
          0.27269333600997925,
          0.2980085611343384,
          0.2896170914173126,
          0.3175249695777893,
          0.3017490804195404,
          0.2701079249382019,
          0.27244308590888977,
          0.29912102222442627,
          0.2886275053024292,
          0.26346340775489807,
          0.25528019666671753,
          0.20778807997703552,
          0.22406582534313202,
          0.2861692011356354,
          0.261691689491272,
          0.2855192720890045,
          0.2580496072769165,
          0.22255568206310272,
          0.25757551193237305,
          0.31917479634284973,
          0.31091418862342834,
          0.2883133888244629,
          0.322474867105484,
          0.3218095004558563,
          0.3591170608997345,
          0.20177415013313293,
          0.3346633315086365,
          0.32375916838645935,
          0.28344103693962097,
          0.32125234603881836,
          0.26141804456710815,
          0.20767119526863098,
          0.22529082000255585,
          0.2789551317691803,
          0.27682021260261536,
          0.2585386633872986,
          0.27826574444770813,
          0.30027851462364197,
          0.24839088320732117,
          0.2846895456314087,
          0.24638542532920837,
          0.24422714114189148,
          0.3302949368953705,
          0.34828078746795654,
          0.2607734501361847,
          0.30381208658218384,
          0.2082289755344391,
          0.2691355347633362,
          0.25666800141334534,
          0.29042848944664,
          0.34265393018722534,
          0.2250939905643463,
          0.2514975666999817,
          0.27082133293151855,
          0.19756171107292175,
          0.23454126715660095,
          0.27232855558395386,
          0.25868919491767883,
          0.2932111918926239,
          0.19688467681407928,
          0.18652647733688354,
          0.25848808884620667,
          0.2247174233198166,
          0.2490919828414917,
          0.31224343180656433,
          0.2453136146068573,
          0.30950286984443665,
          0.2685374319553375,
          0.24206343293190002,
          0.2373909205198288,
          0.29128387570381165,
          0.24945667386054993,
          0.2926766574382782,
          0.2107793390750885,
          0.28128519654273987,
          0.19657158851623535,
          0.2701115012168884,
          0.2986520826816559,
          0.26274728775024414,
          0.30151107907295227,
          0.2981514036655426,
          0.2649005055427551,
          0.23935310542583466,
          0.24019962549209595,
          0.25240787863731384,
          0.2290819138288498,
          0.31181779503822327,
          0.2266557365655899,
          0.2332388460636139,
          0.2601296603679657,
          0.270211786031723,
          0.18505780398845673,
          0.3793972432613373,
          0.3061172068119049,
          0.27241194248199463,
          0.273911714553833,
          0.35410353541374207,
          0.19769981503486633,
          0.3958078622817993,
          0.30294233560562134,
          0.2497778683900833,
          0.2940368950366974,
          0.2660733163356781,
          0.2945058047771454,
          0.27339112758636475,
          0.23842884600162506,
          0.2378254532814026,
          0.2876349091529846,
          0.26517269015312195,
          0.20234976708889008,
          0.291263610124588,
          0.255938321352005,
          0.3255302906036377,
          0.18673695623874664,
          0.25141361355781555,
          0.25266361236572266,
          0.189351886510849,
          0.3305453658103943,
          0.2958557903766632,
          0.2680502235889435,
          0.2772670388221741,
          0.2526206076145172,
          0.28975534439086914,
          0.22692230343818665,
          0.26415249705314636,
          0.2701331377029419,
          0.2731409966945648,
          0.265555202960968,
          0.2774626314640045,
          0.25612056255340576,
          0.2569536864757538,
          0.2256680279970169,
          0.26363885402679443,
          0.171149343252182,
          0.3318081796169281,
          0.2894032895565033,
          0.271954208612442,
          0.3724575638771057,
          0.24447965621948242,
          0.247443288564682,
          0.2108236402273178,
          0.25992053747177124,
          0.3364753723144531,
          0.3241609036922455,
          0.25923243165016174,
          0.3101315200328827,
          0.2241722047328949,
          0.26406019926071167,
          0.31575044989585876,
          0.2824232280254364,
          0.3136337101459503,
          0.24546782672405243,
          0.24758492410182953,
          0.2110302895307541,
          0.20187978446483612,
          0.2857937216758728,
          0.2988162338733673,
          0.26151788234710693,
          0.26038843393325806,
          0.3108414113521576,
          0.31278324127197266,
          0.2941056489944458,
          0.3051883280277252,
          0.3554849326610565,
          0.293810099363327,
          0.25418415665626526,
          0.3082098960876465,
          0.287750780582428,
          0.2883054316043854,
          0.26305651664733887,
          0.30665379762649536,
          0.23752805590629578,
          0.3076515197753906,
          0.30354949831962585,
          0.30283430218696594,
          0.33362236618995667,
          0.27568677067756653,
          0.23071253299713135,
          0.245054230093956,
          0.22223149240016937,
          0.22925826907157898,
          0.2576051950454712,
          0.24772612750530243,
          0.24917006492614746,
          0.3466634154319763,
          0.27413079142570496,
          0.26212430000305176,
          0.25523149967193604,
          0.34134042263031006,
          0.2847750782966614,
          0.26900535821914673,
          0.22086405754089355,
          0.29679107666015625,
          0.22051912546157837,
          0.2121185064315796,
          0.23516477644443512,
          0.3090035617351532,
          0.2544325292110443,
          0.293101042509079,
          0.2482181042432785,
          0.3228527903556824,
          0.2228621542453766,
          0.28062766790390015,
          0.2794715464115143,
          0.24015244841575623,
          0.3110320270061493,
          0.27303817868232727,
          0.31097984313964844,
          0.2672634720802307,
          0.26533305644989014,
          0.3061434328556061,
          0.25097140669822693,
          0.2770494222640991,
          0.3171237111091614,
          0.4044434726238251,
          0.29968205094337463,
          0.26758474111557007,
          0.259235680103302,
          0.2738463878631592,
          0.2565932869911194,
          0.28748300671577454,
          0.2842075526714325,
          0.24866145849227905,
          0.26391392946243286,
          0.22778885066509247,
          0.29050713777542114,
          0.3093407154083252,
          0.24947762489318848,
          0.28182512521743774,
          0.25119146704673767,
          0.2321336418390274,
          0.2721606194972992,
          0.28359687328338623,
          0.2965242862701416,
          0.2668185830116272,
          0.2957434058189392,
          0.22952532768249512,
          0.2681025266647339,
          0.24240493774414062,
          0.28658825159072876,
          0.3127596974372864,
          0.3134920299053192,
          0.2744353413581848,
          0.25855934619903564,
          0.25541290640830994,
          0.25615790486335754,
          0.27226170897483826,
          0.23387481272220612,
          0.24017417430877686,
          0.29611194133758545,
          0.23299726843833923,
          0.2466983050107956,
          0.24782055616378784,
          0.2624393403530121,
          0.2597220838069916,
          0.2685909867286682,
          0.2327050417661667,
          0.28123217821121216,
          0.27493414282798767,
          0.2585907280445099,
          0.21883872151374817,
          0.3098854720592499,
          0.24937526881694794,
          0.24284149706363678,
          0.24562032520771027,
          0.2617669701576233,
          0.2573433220386505,
          0.23713500797748566,
          0.24303705990314484,
          0.27040573954582214,
          0.19467931985855103,
          0.3634275794029236,
          0.2681005299091339,
          0.30913910269737244,
          0.22622865438461304,
          0.26076191663742065,
          0.2534143328666687,
          0.309732586145401,
          0.30567920207977295,
          0.2731409966945648,
          0.25108447670936584,
          0.2523084878921509,
          0.30506113171577454,
          0.3215363621711731,
          0.2791438102722168,
          0.22064824402332306,
          0.2584366500377655,
          0.2892734706401825,
          0.28374233841896057,
          0.32772037386894226,
          0.31101539731025696,
          0.33934468030929565,
          0.3200068771839142,
          0.20319616794586182,
          0.24496370553970337,
          0.22547176480293274,
          0.17106814682483673,
          0.301169753074646,
          0.2565896809101105,
          0.3062155544757843,
          0.3528735637664795,
          0.17360198497772217,
          0.27900272607803345,
          0.29575496912002563,
          0.18213210999965668,
          0.28689849376678467,
          0.14184467494487762,
          0.1504906564950943,
          0.16616402566432953,
          0.15826699137687683,
          0.20074833929538727,
          0.2547813653945923,
          0.15824000537395477,
          0.294597327709198,
          0.27961376309394836,
          0.2565786838531494,
          0.24258588254451752,
          0.2531469464302063,
          0.291464239358902,
          0.32883667945861816,
          0.3002772331237793,
          0.17410123348236084,
          0.2615737318992615,
          0.3021065890789032,
          0.32468652725219727,
          0.2876828610897064,
          0.2959634065628052,
          0.24454322457313538,
          0.3031512498855591,
          0.2738519608974457,
          0.23450766503810883,
          0.25966113805770874,
          0.23986953496932983,
          0.25027918815612793,
          0.2548832893371582,
          0.3192959129810333,
          0.2542555630207062,
          0.2506359815597534,
          0.2966421842575073,
          0.32737472653388977,
          0.29588839411735535,
          0.27959516644477844,
          0.2465982586145401,
          0.26520049571990967,
          0.24881476163864136,
          0.21266388893127441,
          0.1859733611345291,
          0.28739622235298157,
          0.2844885289669037,
          0.28302398324012756,
          0.32412227988243103,
          0.25115787982940674,
          0.19035518169403076,
          0.252821147441864,
          0.2919863760471344,
          0.23774240911006927,
          0.2474755495786667,
          0.24685713648796082,
          0.26573023200035095,
          0.33459335565567017,
          0.18150010704994202,
          0.3302344083786011,
          0.3166816532611847,
          0.24086500704288483,
          0.34514477849006653,
          0.2119501233100891,
          0.2577383816242218,
          0.27273818850517273,
          0.24240493774414062,
          0.18096451461315155,
          0.2543275058269501,
          0.2571686804294586,
          0.3687257766723633,
          0.30178719758987427,
          0.2401023954153061,
          0.17064595222473145,
          0.2753525674343109,
          0.312011182308197,
          0.17216317355632782,
          0.2734735310077667,
          0.34300482273101807,
          0.25874143838882446,
          0.2952759563922882,
          0.20333488285541534,
          0.2586878836154938,
          0.2717796862125397,
          0.1928565949201584,
          0.233601912856102,
          0.2936253547668457,
          0.169897198677063,
          0.22517307102680206,
          0.2665276825428009,
          0.3302779495716095,
          0.27319785952568054,
          0.3031771183013916,
          0.31120002269744873,
          0.3002788722515106,
          0.306725412607193,
          0.17555418610572815,
          0.20569749176502228,
          0.2144225835800171,
          0.22828909754753113,
          0.2860139310359955,
          0.2822684645652771,
          0.19059765338897705,
          0.3063284754753113,
          0.1453063189983368,
          0.30708035826683044,
          0.2678428888320923,
          0.3154156804084778,
          0.2608782947063446,
          0.22310881316661835,
          0.22157035768032074,
          0.24429552257061005,
          0.2606963515281677,
          0.2911386489868164,
          0.26920315623283386,
          0.31167298555374146,
          0.25788986682891846,
          0.336227685213089,
          0.27625182271003723,
          0.2504746615886688,
          0.3083304464817047,
          0.19695371389389038,
          0.25874143838882446,
          0.3169070780277252,
          0.26368629932403564,
          0.1781289279460907,
          0.24912427365779877,
          0.20726296305656433,
          0.25426530838012695,
          0.24642200767993927,
          0.24570156633853912,
          0.21350233256816864,
          0.23673748970031738,
          0.26448681950569153,
          0.2539326250553131,
          0.3062572777271271,
          0.2983112633228302,
          0.31684574484825134,
          0.32064539194107056,
          0.31990471482276917,
          0.18464376032352448,
          0.2774856984615326,
          0.21577712893486023,
          0.24216340482234955,
          0.3084914982318878,
          0.28186726570129395,
          0.20548492670059204,
          0.33771610260009766,
          0.23721936345100403,
          0.2999686300754547,
          0.22216512262821198,
          0.3628651201725006,
          0.15586768090724945,
          0.28617778420448303,
          0.20828059315681458,
          0.3295639455318451,
          0.3009078800678253,
          0.3340785801410675,
          0.18943731486797333,
          0.2153020203113556,
          0.21497535705566406,
          0.2583724558353424,
          0.2541186511516571,
          0.16029588878154755,
          0.2278795838356018,
          0.24959874153137207,
          0.32715263962745667,
          0.25165855884552,
          0.291696697473526,
          0.27287381887435913,
          0.3244662880897522,
          0.24318386614322662,
          0.26059433817863464,
          0.25754794478416443,
          0.2811253070831299,
          0.22766296565532684,
          0.31911468505859375,
          0.1696842461824417,
          0.33330243825912476,
          0.2609793543815613,
          0.3452099561691284,
          0.18801970779895782,
          0.21121066808700562,
          0.24441422522068024,
          0.278203547000885,
          0.2763364017009735,
          0.225965678691864,
          0.3450528383255005,
          0.22470250725746155,
          0.21790434420108795,
          0.2335040420293808,
          0.2814527153968811,
          0.2850162982940674,
          0.2543275058269501,
          0.1715366691350937,
          0.3241751790046692,
          0.24905894696712494,
          0.27042919397354126,
          0.18272008001804352,
          0.19374486804008484,
          0.23765255510807037,
          0.2336304783821106,
          0.15171962976455688,
          0.24336238205432892,
          0.19189688563346863,
          0.27695101499557495,
          0.3149929344654083,
          0.29102465510368347,
          0.34244588017463684,
          0.22557498514652252,
          0.20958253741264343,
          0.3121224343776703,
          0.2665080726146698,
          0.22339388728141785,
          0.24969559907913208,
          0.2545330822467804,
          0.23903882503509521,
          0.313062459230423,
          0.25566211342811584,
          0.2245224118232727,
          0.2439221739768982,
          0.1845974624156952,
          0.23524902760982513,
          0.26356378197669983,
          0.3028540313243866,
          0.22566302120685577,
          0.1987370401620865,
          0.3502202033996582,
          0.3151981830596924,
          0.1780366152524948,
          0.1987370401620865,
          0.24415245652198792,
          0.26490557193756104,
          0.2638956904411316,
          0.18387968838214874,
          0.22452153265476227,
          0.23894397914409637,
          0.30188262462615967,
          0.1559114009141922,
          0.21124880015850067,
          0.21573424339294434,
          0.2348305881023407,
          0.25144052505493164,
          0.21586734056472778,
          0.23631104826927185,
          0.2038370817899704,
          0.24801893532276154,
          0.16832783818244934,
          0.2571580111980438,
          0.19903875887393951,
          0.24337884783744812,
          0.1855006366968155,
          0.27226465940475464,
          0.29603928327560425,
          0.22380328178405762,
          0.23590025305747986,
          0.27573904395103455,
          0.23070459067821503,
          0.27297842502593994,
          0.1938319057226181,
          0.2982367277145386,
          0.21979057788848877,
          0.2665920853614807,
          0.26298895478248596,
          0.2438235580921173,
          0.22789373993873596,
          0.3335295617580414,
          0.19061125814914703,
          0.25777965784072876,
          0.2886299192905426,
          0.26081228256225586,
          0.2882561683654785,
          0.2731409966945648,
          0.25099578499794006,
          0.2264634370803833,
          0.2158517837524414,
          0.23692794144153595,
          0.23182585835456848,
          0.3217317759990692,
          0.18715567886829376,
          0.22893421351909637,
          0.21391703188419342,
          0.2291709929704666,
          0.18044835329055786,
          0.26920315623283386,
          0.20334529876708984,
          0.26057225465774536,
          0.24896742403507233,
          0.2901977002620697,
          0.21091382205486298,
          0.29060879349708557,
          0.23037110269069672,
          0.29754015803337097,
          0.20977075397968292,
          0.23284167051315308,
          0.30107417702674866,
          0.18734338879585266,
          0.3276481628417969,
          0.3317606747150421,
          0.3369942009449005,
          0.3031845688819885,
          0.22649681568145752,
          0.22505146265029907,
          0.1839241087436676,
          0.2848607301712036,
          0.22296395897865295,
          0.39168012142181396,
          0.24325761198997498,
          0.2095046043395996,
          0.261785626411438,
          0.2062234878540039,
          0.22518126666545868,
          0.26964694261550903,
          0.24497410655021667,
          0.24797175824642181,
          0.2936733067035675,
          0.2936733067035675,
          0.2936733067035675,
          0.23815791308879852,
          0.2847541868686676,
          0.247560054063797,
          0.325131356716156,
          0.18933704495429993,
          0.2358914464712143,
          0.15327100455760956,
          0.17157138884067535,
          0.2743144631385803,
          0.2293606400489807,
          0.24285517632961273,
          0.2587592303752899,
          0.21065658330917358,
          0.2587592303752899,
          0.2123050093650818,
          0.15108293294906616,
          0.18575485050678253,
          0.33314135670661926,
          0.2833835482597351,
          0.2123050093650818,
          0.23070459067821503,
          0.18749184906482697,
          0.2657245397567749,
          0.27916714549064636,
          0.23096059262752533,
          0.22286061942577362,
          0.1716586947441101,
          0.15016944706439972,
          0.22278907895088196,
          0.17163650691509247,
          0.2618221938610077,
          0.22337733209133148,
          0.32111436128616333,
          0.26700490713119507,
          0.3183184862136841,
          0.18897318840026855,
          0.3335295617580414,
          0.27930182218551636,
          0.24330246448516846,
          0.19268280267715454,
          0.26448681950569153,
          0.3450528383255005,
          0.20376132428646088
         ]
        },
        {
         "name": "GMI+XM",
         "type": "histogram",
         "x": [
          0.32232141494750977,
          0.3376999795436859,
          0.25418341159820557,
          0.25946176052093506,
          0.2727067470550537,
          0.23925481736660004,
          0.2907750606536865,
          0.27382370829582214,
          0.2739450931549072,
          0.2770513892173767,
          0.30179640650749207,
          0.2923034131526947,
          0.31463900208473206,
          0.302141398191452,
          0.33337903022766113,
          0.2754317820072174,
          0.33308544754981995,
          0.29908841848373413,
          0.38014596700668335,
          0.29074615240097046,
          0.29404938220977783,
          0.2805888056755066,
          0.29867884516716003,
          0.27602484822273254,
          0.2471456378698349,
          0.2633199393749237,
          0.26207324862480164,
          0.2695392668247223,
          0.2746707499027252,
          0.28184905648231506,
          0.28280746936798096,
          0.28832998871803284,
          0.2509559988975525,
          0.26578283309936523,
          0.22727645933628082,
          0.30475884675979614,
          0.28846606612205505,
          0.28667351603507996,
          0.2917290925979614,
          0.27930915355682373,
          0.2785593271255493,
          0.30576664209365845,
          0.30556520819664,
          0.24114318192005157,
          0.2738897502422333,
          0.283398300409317,
          0.26683107018470764,
          0.28394779562950134,
          0.2722734808921814,
          0.2776111662387848,
          0.2748667597770691,
          0.3421994745731354,
          0.3639563322067261,
          0.3716454803943634,
          0.24589590728282928,
          0.2576785981655121,
          0.23867134749889374,
          0.26461637020111084,
          0.26697033643722534,
          0.23701781034469604,
          0.27069541811943054,
          0.3542380928993225,
          0.27224546670913696,
          0.28531578183174133,
          0.32302141189575195,
          0.2593589127063751,
          0.25913289189338684,
          0.28190430998802185,
          0.2938985228538513,
          0.28442177176475525,
          0.2863762676715851,
          0.25109171867370605,
          0.2915770709514618,
          0.330924928188324,
          0.3753030598163605,
          0.27458202838897705,
          0.24339260160923004,
          0.27986761927604675,
          0.2751246392726898,
          0.3090035319328308,
          0.2949846088886261,
          0.27302178740501404,
          0.2517692446708679,
          0.27687326073646545,
          0.3369769752025604,
          0.40465277433395386,
          0.27477332949638367,
          0.30332309007644653,
          0.24643181264400482,
          0.23394885659217834,
          0.28882724046707153,
          0.271206796169281,
          0.3532830476760864,
          0.2978919744491577,
          0.29479578137397766,
          0.31493043899536133,
          0.23922406136989594,
          0.24231286346912384,
          0.2688075602054596,
          0.25846266746520996,
          0.2795611321926117,
          0.26643726229667664,
          0.26588204503059387,
          0.3044452369213104,
          0.2580384612083435,
          0.29225975275039673,
          0.289772629737854,
          0.2501034438610077,
          0.2643788158893585,
          0.3110255300998688,
          0.22610566020011902,
          0.22374914586544037,
          0.29296618700027466,
          0.3338022530078888,
          0.2804318964481354,
          0.302821546792984,
          0.3009130656719208,
          0.30627724528312683,
          0.3427548408508301,
          0.2746131718158722,
          0.32596299052238464,
          0.23088091611862183,
          0.33355963230133057,
          0.32871508598327637,
          0.26977697014808655,
          0.2480764538049698,
          0.2702423632144928,
          0.3372918367385864,
          0.28918448090553284,
          0.2956065237522125,
          0.3059624433517456,
          0.28883883357048035,
          0.2690798044204712,
          0.26873162388801575,
          0.32314983010292053,
          0.2712220847606659,
          0.2330114245414734,
          0.2650443911552429,
          0.24136264622211456,
          0.27170389890670776,
          0.26016926765441895,
          0.31187230348587036,
          0.2716140151023865,
          0.32269150018692017,
          0.24857932329177856,
          0.2960309088230133,
          0.35264089703559875,
          0.3022027611732483,
          0.33545345067977905,
          0.314045250415802,
          0.2904627323150635,
          0.28003042936325073,
          0.2664763927459717,
          0.2574128210544586,
          0.2613809108734131,
          0.2893047332763672,
          0.3271414637565613,
          0.30888673663139343,
          0.2851879596710205,
          0.2686710059642792,
          0.18850108981132507,
          0.2960263192653656,
          0.3356245458126068,
          0.2832540273666382,
          0.30611491203308105,
          0.27461403608322144,
          0.20948627591133118,
          0.25510433316230774,
          0.35595566034317017,
          0.29130813479423523,
          0.3110116720199585,
          0.287017822265625,
          0.3356987535953522,
          0.3019293546676636,
          0.2790319621562958,
          0.255664199590683,
          0.32200050354003906,
          0.3358815610408783,
          0.33645254373550415,
          0.32654982805252075,
          0.3800264000892639,
          0.2791139483451843,
          0.276443213224411,
          0.28127139806747437,
          0.2928852140903473,
          0.24224786460399628,
          0.2715592384338379,
          0.2766663432121277,
          0.29066404700279236,
          0.27915266156196594,
          0.28420528769493103,
          0.31705841422080994,
          0.22686272859573364,
          0.21642076969146729,
          0.24542810022830963,
          0.23714269697666168,
          0.27976828813552856,
          0.2952539622783661,
          0.31300172209739685,
          0.312136173248291,
          0.26292112469673157,
          0.31247755885124207,
          0.28870949149131775,
          0.29682186245918274,
          0.27203190326690674,
          0.29173848032951355,
          0.2974630892276764,
          0.2949015200138092,
          0.2830026149749756,
          0.2611045241355896,
          0.26721107959747314,
          0.21105089783668518,
          0.24224595725536346,
          0.3098686635494232,
          0.3282134532928467,
          0.3202551007270813,
          0.26448854804039,
          0.2891136109828949,
          0.3184914290904999,
          0.29341238737106323,
          0.3248123824596405,
          0.3458561897277832,
          0.32207611203193665,
          0.33078470826148987,
          0.31643521785736084,
          0.3049107491970062,
          0.3008076548576355,
          0.3468346893787384,
          0.3148820400238037,
          0.3329657018184662,
          0.25387638807296753,
          0.3375110328197479,
          0.3146481513977051,
          0.277122437953949,
          0.27205201983451843,
          0.2651628255844116,
          0.2743021845817566,
          0.2707684636116028,
          0.31575801968574524,
          0.29394251108169556,
          0.25491103529930115,
          0.26339974999427795,
          0.26517996191978455,
          0.3201259672641754,
          0.29320695996284485,
          0.29530829191207886,
          0.2942093312740326,
          0.2522799074649811,
          0.314514696598053,
          0.2699495553970337,
          0.2787918448448181,
          0.2720615267753601,
          0.2396298348903656,
          0.2893025279045105,
          0.2954905927181244,
          0.3190823197364807,
          0.3046983778476715,
          0.2939169704914093,
          0.305282324552536,
          0.31669455766677856,
          0.30846816301345825,
          0.26782041788101196,
          0.3534892797470093,
          0.3041151463985443,
          0.2834697663784027,
          0.2873944342136383,
          0.3183288872241974,
          0.26316142082214355,
          0.3148984909057617,
          0.2570306360721588,
          0.2982487678527832,
          0.2814474105834961,
          0.3068825304508209,
          0.26195546984672546,
          0.26279211044311523,
          0.30800899863243103,
          0.32797351479530334,
          0.285327285528183,
          0.34768685698509216,
          0.2410341054201126,
          0.29507219791412354,
          0.2759661376476288,
          0.25358256697654724,
          0.24233639240264893,
          0.3009849488735199,
          0.27051448822021484,
          0.2595944106578827,
          0.28287434577941895,
          0.27128511667251587,
          0.3493274748325348,
          0.30134543776512146,
          0.26983776688575745,
          0.34524959325790405,
          0.2552642226219177,
          0.26624682545661926,
          0.3159165382385254,
          0.2741449177265167,
          0.2924632132053375,
          0.31610408425331116,
          0.2880278527736664,
          0.2935742735862732,
          0.2734259068965912,
          0.2738112509250641,
          0.2503451108932495,
          0.2556622326374054,
          0.29095718264579773,
          0.33481690287590027,
          0.35951733589172363,
          0.27566689252853394,
          0.381519615650177,
          0.3472389876842499,
          0.29669976234436035,
          0.32294318079948425,
          0.2753830850124359,
          0.3207060396671295,
          0.31264227628707886,
          0.3475865125656128,
          0.3627512454986572,
          0.31250524520874023,
          0.2105090171098709,
          0.27420279383659363,
          0.2767854630947113,
          0.23406808078289032,
          0.2812516391277313,
          0.3070915937423706,
          0.2987825274467468,
          0.32836857438087463,
          0.31112584471702576,
          0.2784864604473114,
          0.28190577030181885,
          0.30843454599380493,
          0.29800739884376526,
          0.27114593982696533,
          0.26413559913635254,
          0.21386227011680603,
          0.2301674336194992,
          0.2959086000919342,
          0.2705686688423157,
          0.2954334020614624,
          0.266659677028656,
          0.23021894693374634,
          0.2659023404121399,
          0.3292701244354248,
          0.32112812995910645,
          0.2971736788749695,
          0.3328351378440857,
          0.33242493867874146,
          0.37070754170417786,
          0.20821894705295563,
          0.3449965715408325,
          0.3338157832622528,
          0.29284781217575073,
          0.3314976692199707,
          0.2690454125404358,
          0.21376940608024597,
          0.2331579625606537,
          0.28856661915779114,
          0.28622084856033325,
          0.26594215631484985,
          0.28649553656578064,
          0.3099384903907776,
          0.25685548782348633,
          0.294887512922287,
          0.2546940743923187,
          0.2520138621330261,
          0.34190258383750916,
          0.36040258407592773,
          0.26997727155685425,
          0.3138760030269623,
          0.21442648768424988,
          0.277884840965271,
          0.26595059037208557,
          0.3001500070095062,
          0.3539738357067108,
          0.2317691296339035,
          0.2596150040626526,
          0.27949705719947815,
          0.20327936112880707,
          0.2420741468667984,
          0.28074911236763,
          0.2670130729675293,
          0.3023794889450073,
          0.20309238135814667,
          0.1923070251941681,
          0.26680850982666016,
          0.23198625445365906,
          0.2570343315601349,
          0.32229921221733093,
          0.2532668709754944,
          0.3195747435092926,
          0.2771461606025696,
          0.24982479214668274,
          0.24499346315860748,
          0.30108898878097534,
          0.2574150562286377,
          0.30239376425743103,
          0.21748946607112885,
          0.29024964570999146,
          0.2028709352016449,
          0.27888551354408264,
          0.3085724413394928,
          0.27021631598472595,
          0.31077462434768677,
          0.307743638753891,
          0.27404549717903137,
          0.24751870334148407,
          0.24726079404354095,
          0.2600376307964325,
          0.23631533980369568,
          0.3221229612827301,
          0.23401609063148499,
          0.24012568593025208,
          0.2677372395992279,
          0.2789550721645355,
          0.19069328904151917,
          0.3905785381793976,
          0.3157084286212921,
          0.281819224357605,
          0.2828994691371918,
          0.3662920594215393,
          0.20456112921237946,
          0.4092468023300171,
          0.313372939825058,
          0.2581018805503845,
          0.3046509921550751,
          0.273317813873291,
          0.30423077940940857,
          0.2828225791454315,
          0.24575050175189972,
          0.2454266995191574,
          0.2975190281867981,
          0.2739196717739105,
          0.2086733728647232,
          0.3004349172115326,
          0.2655821740627289,
          0.3356536626815796,
          0.1928214132785797,
          0.25968629121780396,
          0.26141849160194397,
          0.19546334445476532,
          0.3415248692035675,
          0.30591970682144165,
          0.27691155672073364,
          0.2864699959754944,
          0.2610166072845459,
          0.29950395226478577,
          0.2341133952140808,
          0.27203497290611267,
          0.2787725627422333,
          0.28234198689460754,
          0.2745414972305298,
          0.2856484353542328,
          0.26357951760292053,
          0.2656494379043579,
          0.23304235935211182,
          0.2724793255329132,
          0.1755828559398651,
          0.34265732765197754,
          0.29900845885276794,
          0.2809813618659973,
          0.38493022322654724,
          0.25169336795806885,
          0.2546411454677582,
          0.21685364842414856,
          0.268688827753067,
          0.34711384773254395,
          0.3339996039867401,
          0.2680986821651459,
          0.3202877342700958,
          0.23109713196754456,
          0.2723751962184906,
          0.32596567273139954,
          0.2914939224720001,
          0.324645459651947,
          0.2541186213493347,
          0.2556273341178894,
          0.21760554611682892,
          0.20790927112102509,
          0.2948283553123474,
          0.30772826075553894,
          0.27046236395835876,
          0.2689134478569031,
          0.3208698630332947,
          0.3230395019054413,
          0.3036437928676605,
          0.31534868478775024,
          0.36777186393737793,
          0.3022420108318329,
          0.2619504928588867,
          0.31864655017852783,
          0.2976122498512268,
          0.29731401801109314,
          0.2718869149684906,
          0.31691956520080566,
          0.2459072768688202,
          0.3177795112133026,
          0.3132812976837158,
          0.3125169277191162,
          0.34434983134269714,
          0.28369140625,
          0.23761942982673645,
          0.25265708565711975,
          0.22869499027729034,
          0.23617054522037506,
          0.26564502716064453,
          0.255136102437973,
          0.2573392689228058,
          0.35715705156326294,
          0.28295376896858215,
          0.2700212597846985,
          0.26329904794692993,
          0.3520662188529968,
          0.29345953464508057,
          0.2779718339443207,
          0.22756056487560272,
          0.3064468801021576,
          0.22672665119171143,
          0.21817153692245483,
          0.24322934448719025,
          0.31870603561401367,
          0.2628594636917114,
          0.3013648986816406,
          0.25591346621513367,
          0.33252081274986267,
          0.23051850497722626,
          0.2889195382595062,
          0.2886218726634979,
          0.2479192614555359,
          0.3207319378852844,
          0.28166231513023376,
          0.3204757571220398,
          0.27632763981819153,
          0.2737816572189331,
          0.317114919424057,
          0.25890716910362244,
          0.285393089056015,
          0.32727062702178955,
          0.4177081882953644,
          0.30766186118125916,
          0.27616968750953674,
          0.2674216628074646,
          0.28272634744644165,
          0.2647415101528168,
          0.2964911162853241,
          0.29337772727012634,
          0.2567340135574341,
          0.27274084091186523,
          0.23521170020103455,
          0.30033737421035767,
          0.3184686005115509,
          0.25792330503463745,
          0.29074472188949585,
          0.25962957739830017,
          0.2389032244682312,
          0.280166357755661,
          0.29270797967910767,
          0.3060269355773926,
          0.2755519449710846,
          0.30441853404045105,
          0.23677289485931396,
          0.2766610085964203,
          0.2506716251373291,
          0.29589274525642395,
          0.32255321741104126,
          0.3230992555618286,
          0.28257638216018677,
          0.26604801416397095,
          0.2618708610534668,
          0.26443785429000854,
          0.280240535736084,
          0.24067454040050507,
          0.24806073307991028,
          0.30558574199676514,
          0.24055026471614838,
          0.2545728087425232,
          0.2556007206439972,
          0.27120307087898254,
          0.2679390013217926,
          0.2779540717601776,
          0.23982587456703186,
          0.2904527485370636,
          0.28397807478904724,
          0.2671172022819519,
          0.22571322321891785,
          0.3195793628692627,
          0.25746941566467285,
          0.25020426511764526,
          0.2535467743873596,
          0.270404577255249,
          0.2658759355545044,
          0.24473024904727936,
          0.24995781481266022,
          0.2791980504989624,
          0.20092257857322693,
          0.3762514889240265,
          0.2766600251197815,
          0.31885001063346863,
          0.23292407393455505,
          0.2687021791934967,
          0.2613374590873718,
          0.3203727602958679,
          0.31548434495925903,
          0.28234198689460754,
          0.25904884934425354,
          0.25834184885025024,
          0.31428971886634827,
          0.33214035630226135,
          0.28772926330566406,
          0.2275095134973526,
          0.2665542662143707,
          0.298955500125885,
          0.2933003902435303,
          0.3375793993473053,
          0.32059481739997864,
          0.35072246193885803,
          0.3301030099391937,
          0.20895208418369293,
          0.25199711322784424,
          0.2324073314666748,
          0.175531268119812,
          0.31069666147232056,
          0.26486197113990784,
          0.31558412313461304,
          0.36429592967033386,
          0.17888867855072021,
          0.28660905361175537,
          0.30528712272644043,
          0.1877487748861313,
          0.296135812997818,
          0.1454237699508667,
          0.15445689857006073,
          0.17057250440120697,
          0.16284844279289246,
          0.20617520809173584,
          0.26148372888565063,
          0.16273093223571777,
          0.3036583960056305,
          0.2879849672317505,
          0.2641246020793915,
          0.2503882050514221,
          0.26151400804519653,
          0.3007564842700958,
          0.33938413858413696,
          0.30838125944137573,
          0.17901146411895752,
          0.2699934244155884,
          0.3112460672855377,
          0.33457064628601074,
          0.2967858612537384,
          0.3053431808948517,
          0.2526642382144928,
          0.313140332698822,
          0.28228554129600525,
          0.24182407557964325,
          0.26666367053985596,
          0.2475973516702652,
          0.2584335505962372,
          0.26298460364341736,
          0.3293498456478119,
          0.2626752257347107,
          0.2586389482021332,
          0.3063739538192749,
          0.3377406597137451,
          0.30509892106056213,
          0.28862670063972473,
          0.2543056905269623,
          0.2725521922111511,
          0.25606152415275574,
          0.21888774633407593,
          0.19186419248580933,
          0.29615142941474915,
          0.2935892641544342,
          0.29260799288749695,
          0.3343972861766815,
          0.2590029239654541,
          0.19610917568206787,
          0.2609456181526184,
          0.3013179898262024,
          0.24516363441944122,
          0.2555609941482544,
          0.2546555697917938,
          0.2745794951915741,
          0.3459082245826721,
          0.18738871812820435,
          0.3405984938144684,
          0.3269203007221222,
          0.24857640266418457,
          0.35423383116722107,
          0.2187041938304901,
          0.2653205394744873,
          0.2806611955165863,
          0.2506716251373291,
          0.18653854727745056,
          0.2600155472755432,
          0.2652378976345062,
          0.3799397647380829,
          0.3107411563396454,
          0.24746982753276825,
          0.17557711899280548,
          0.283807635307312,
          0.3222946226596832,
          0.17746058106422424,
          0.28245872259140015,
          0.3537518382072449,
          0.2651467025279999,
          0.30353692173957825,
          0.20953351259231567,
          0.26662150025367737,
          0.2798333168029785,
          0.19870129227638245,
          0.24112878739833832,
          0.3011685013771057,
          0.17500047385692596,
          0.2324378937482834,
          0.275322824716568,
          0.3410608768463135,
          0.2812640070915222,
          0.3124992549419403,
          0.3212801218032837,
          0.3081475794315338,
          0.31647613644599915,
          0.1805325150489807,
          0.21224668622016907,
          0.22036314010620117,
          0.2357962429523468,
          0.29502829909324646,
          0.29128527641296387,
          0.19654427468776703,
          0.31610143184661865,
          0.14902858436107635,
          0.3166927397251129,
          0.27701735496520996,
          0.32592150568962097,
          0.2693978250026703,
          0.23054349422454834,
          0.2286037802696228,
          0.25214141607284546,
          0.268907368183136,
          0.3000629246234894,
          0.27665621042251587,
          0.32138592004776,
          0.2655960023403168,
          0.3468795716762543,
          0.28475528955459595,
          0.2578883767127991,
          0.3178274929523468,
          0.20337912440299988,
          0.2651467025279999,
          0.32703331112861633,
          0.2718765437602997,
          0.1828031837940216,
          0.25719648599624634,
          0.21327175199985504,
          0.2621031403541565,
          0.25418105721473694,
          0.2535019814968109,
          0.2193070650100708,
          0.24388772249221802,
          0.273074209690094,
          0.2620682716369629,
          0.3149069547653198,
          0.30772706866264343,
          0.3269244134426117,
          0.3292177617549896,
          0.33029472827911377,
          0.19067761301994324,
          0.28639450669288635,
          0.22153355181217194,
          0.2500177025794983,
          0.3181673586368561,
          0.28972122073173523,
          0.2110223025083542,
          0.34830114245414734,
          0.24493266642093658,
          0.3092065751552582,
          0.22736302018165588,
          0.3741712272167206,
          0.1601315438747406,
          0.29523327946662903,
          0.21472099423408508,
          0.3398197591304779,
          0.3103250563144684,
          0.34442928433418274,
          0.19549578428268433,
          0.22207286953926086,
          0.22142294049263,
          0.26617366075515747,
          0.2618429362773895,
          0.16501125693321228,
          0.23500457406044006,
          0.2576768398284912,
          0.33764463663101196,
          0.25981658697128296,
          0.30135321617126465,
          0.28109726309776306,
          0.33445796370506287,
          0.25087103247642517,
          0.26893654465675354,
          0.2651796042919159,
          0.2904326319694519,
          0.23444223403930664,
          0.3303978741168976,
          0.17486558854579926,
          0.34391823410987854,
          0.26847609877586365,
          0.35662394762039185,
          0.19276581704616547,
          0.21772749722003937,
          0.2523501515388489,
          0.2873111963272095,
          0.28509366512298584,
          0.23325461149215698,
          0.3561338186264038,
          0.23159876465797424,
          0.22482310235500336,
          0.23891064524650574,
          0.29029354453086853,
          0.2930361032485962,
          0.2600155472755432,
          0.1766309291124344,
          0.33489808440208435,
          0.2570859491825104,
          0.2786124348640442,
          0.1885659545660019,
          0.19888758659362793,
          0.2454441487789154,
          0.24099817872047424,
          0.15482620894908905,
          0.2512897849082947,
          0.1980409026145935,
          0.28536519408226013,
          0.3252818286418915,
          0.29920265078544617,
          0.3530610203742981,
          0.23077315092086792,
          0.21633142232894897,
          0.32201361656188965,
          0.2756062150001526,
          0.230596661567688,
          0.25741586089134216,
          0.2633419930934906,
          0.2466849982738495,
          0.32368242740631104,
          0.2644224464893341,
          0.23135103285312653,
          0.2511460781097412,
          0.1901555061340332,
          0.24274268746376038,
          0.2718753218650818,
          0.3125913739204407,
          0.2327042818069458,
          0.2048519104719162,
          0.361889123916626,
          0.32546281814575195,
          0.1833122819662094,
          0.2048519104719162,
          0.2513880729675293,
          0.27367833256721497,
          0.27247515320777893,
          0.1898232251405716,
          0.23171883821487427,
          0.24682776629924774,
          0.3108249008655548,
          0.16074138879776,
          0.21798457205295563,
          0.221482515335083,
          0.24162021279335022,
          0.2592207193374634,
          0.2215375006198883,
          0.24338729679584503,
          0.21022433042526245,
          0.25371214747428894,
          0.17354851961135864,
          0.2653598189353943,
          0.20494359731674194,
          0.25124919414520264,
          0.19161027669906616,
          0.2812483608722687,
          0.3052836060523987,
          0.23091518878936768,
          0.24301882088184357,
          0.28478333353996277,
          0.23768694698810577,
          0.28019842505455017,
          0.19965673983097076,
          0.3080858886241913,
          0.22665810585021973,
          0.27506983280181885,
          0.2708366811275482,
          0.25170305371284485,
          0.23515041172504425,
          0.344058632850647,
          0.19671161472797394,
          0.2656296491622925,
          0.2970094084739685,
          0.26935985684394836,
          0.297656387090683,
          0.28234198689460754,
          0.25897711515426636,
          0.23375463485717773,
          0.22268804907798767,
          0.24474456906318665,
          0.23888424038887024,
          0.33195725083351135,
          0.19160936772823334,
          0.2360442578792572,
          0.22076845169067383,
          0.23587480187416077,
          0.18534880876541138,
          0.27665621042251587,
          0.20919375121593475,
          0.26790866255760193,
          0.2562023997306824,
          0.3003476560115814,
          0.21700850129127502,
          0.2999328672885895,
          0.23699632287025452,
          0.30669668316841125,
          0.21580342948436737,
          0.24054376780986786,
          0.3107898235321045,
          0.19341285526752472,
          0.3380246162414551,
          0.3429486155509949,
          0.3473093509674072,
          0.3131600320339203,
          0.23298782110214233,
          0.2328014373779297,
          0.1896192729473114,
          0.29435455799102783,
          0.23008106648921967,
          0.40504729747772217,
          0.25007951259613037,
          0.21570025384426117,
          0.2699348032474518,
          0.2128029763698578,
          0.23225799202919006,
          0.278042197227478,
          0.2522371709346771,
          0.2556425631046295,
          0.30224549770355225,
          0.30224549770355225,
          0.30224549770355225,
          0.24595390260219574,
          0.2940652370452881,
          0.2554865777492523,
          0.3365006446838379,
          0.19530586898326874,
          0.24297143518924713,
          0.1573028862476349,
          0.17672711610794067,
          0.28310689330101013,
          0.2352687269449234,
          0.2506486475467682,
          0.2664942741394043,
          0.2173779010772705,
          0.2664942741394043,
          0.2190752923488617,
          0.1550159454345703,
          0.19152267277240753,
          0.3434816300868988,
          0.29198604822158813,
          0.2190752923488617,
          0.23768694698810577,
          0.19367343187332153,
          0.2744078040122986,
          0.2881988286972046,
          0.2383093237876892,
          0.23002836108207703,
          0.17687056958675385,
          0.15409070253372192,
          0.22978322207927704,
          0.17674723267555237,
          0.26840803027153015,
          0.2304903119802475,
          0.33048731088638306,
          0.2770157754421234,
          0.32851138710975647,
          0.19486691057682037,
          0.344058632850647,
          0.28775519132614136,
          0.2511183023452759,
          0.19840657711029053,
          0.273074209690094,
          0.3561338186264038,
          0.21005746722221375
         ]
        }
       ],
       "layout": {
        "font": {
         "size": 20
        },
        "paper_bgcolor": "white",
        "plot_bgcolor": "white",
        "template": {
         "data": {
          "bar": [
           {
            "error_x": {
             "color": "#2a3f5f"
            },
            "error_y": {
             "color": "#2a3f5f"
            },
            "marker": {
             "line": {
              "color": "#E5ECF6",
              "width": 0.5
             },
             "pattern": {
              "fillmode": "overlay",
              "size": 10,
              "solidity": 0.2
             }
            },
            "type": "bar"
           }
          ],
          "barpolar": [
           {
            "marker": {
             "line": {
              "color": "#E5ECF6",
              "width": 0.5
             },
             "pattern": {
              "fillmode": "overlay",
              "size": 10,
              "solidity": 0.2
             }
            },
            "type": "barpolar"
           }
          ],
          "carpet": [
           {
            "aaxis": {
             "endlinecolor": "#2a3f5f",
             "gridcolor": "white",
             "linecolor": "white",
             "minorgridcolor": "white",
             "startlinecolor": "#2a3f5f"
            },
            "baxis": {
             "endlinecolor": "#2a3f5f",
             "gridcolor": "white",
             "linecolor": "white",
             "minorgridcolor": "white",
             "startlinecolor": "#2a3f5f"
            },
            "type": "carpet"
           }
          ],
          "choropleth": [
           {
            "colorbar": {
             "outlinewidth": 0,
             "ticks": ""
            },
            "type": "choropleth"
           }
          ],
          "contour": [
           {
            "colorbar": {
             "outlinewidth": 0,
             "ticks": ""
            },
            "colorscale": [
             [
              0,
              "#0d0887"
             ],
             [
              0.1111111111111111,
              "#46039f"
             ],
             [
              0.2222222222222222,
              "#7201a8"
             ],
             [
              0.3333333333333333,
              "#9c179e"
             ],
             [
              0.4444444444444444,
              "#bd3786"
             ],
             [
              0.5555555555555556,
              "#d8576b"
             ],
             [
              0.6666666666666666,
              "#ed7953"
             ],
             [
              0.7777777777777778,
              "#fb9f3a"
             ],
             [
              0.8888888888888888,
              "#fdca26"
             ],
             [
              1,
              "#f0f921"
             ]
            ],
            "type": "contour"
           }
          ],
          "contourcarpet": [
           {
            "colorbar": {
             "outlinewidth": 0,
             "ticks": ""
            },
            "type": "contourcarpet"
           }
          ],
          "heatmap": [
           {
            "colorbar": {
             "outlinewidth": 0,
             "ticks": ""
            },
            "colorscale": [
             [
              0,
              "#0d0887"
             ],
             [
              0.1111111111111111,
              "#46039f"
             ],
             [
              0.2222222222222222,
              "#7201a8"
             ],
             [
              0.3333333333333333,
              "#9c179e"
             ],
             [
              0.4444444444444444,
              "#bd3786"
             ],
             [
              0.5555555555555556,
              "#d8576b"
             ],
             [
              0.6666666666666666,
              "#ed7953"
             ],
             [
              0.7777777777777778,
              "#fb9f3a"
             ],
             [
              0.8888888888888888,
              "#fdca26"
             ],
             [
              1,
              "#f0f921"
             ]
            ],
            "type": "heatmap"
           }
          ],
          "heatmapgl": [
           {
            "colorbar": {
             "outlinewidth": 0,
             "ticks": ""
            },
            "colorscale": [
             [
              0,
              "#0d0887"
             ],
             [
              0.1111111111111111,
              "#46039f"
             ],
             [
              0.2222222222222222,
              "#7201a8"
             ],
             [
              0.3333333333333333,
              "#9c179e"
             ],
             [
              0.4444444444444444,
              "#bd3786"
             ],
             [
              0.5555555555555556,
              "#d8576b"
             ],
             [
              0.6666666666666666,
              "#ed7953"
             ],
             [
              0.7777777777777778,
              "#fb9f3a"
             ],
             [
              0.8888888888888888,
              "#fdca26"
             ],
             [
              1,
              "#f0f921"
             ]
            ],
            "type": "heatmapgl"
           }
          ],
          "histogram": [
           {
            "marker": {
             "pattern": {
              "fillmode": "overlay",
              "size": 10,
              "solidity": 0.2
             }
            },
            "type": "histogram"
           }
          ],
          "histogram2d": [
           {
            "colorbar": {
             "outlinewidth": 0,
             "ticks": ""
            },
            "colorscale": [
             [
              0,
              "#0d0887"
             ],
             [
              0.1111111111111111,
              "#46039f"
             ],
             [
              0.2222222222222222,
              "#7201a8"
             ],
             [
              0.3333333333333333,
              "#9c179e"
             ],
             [
              0.4444444444444444,
              "#bd3786"
             ],
             [
              0.5555555555555556,
              "#d8576b"
             ],
             [
              0.6666666666666666,
              "#ed7953"
             ],
             [
              0.7777777777777778,
              "#fb9f3a"
             ],
             [
              0.8888888888888888,
              "#fdca26"
             ],
             [
              1,
              "#f0f921"
             ]
            ],
            "type": "histogram2d"
           }
          ],
          "histogram2dcontour": [
           {
            "colorbar": {
             "outlinewidth": 0,
             "ticks": ""
            },
            "colorscale": [
             [
              0,
              "#0d0887"
             ],
             [
              0.1111111111111111,
              "#46039f"
             ],
             [
              0.2222222222222222,
              "#7201a8"
             ],
             [
              0.3333333333333333,
              "#9c179e"
             ],
             [
              0.4444444444444444,
              "#bd3786"
             ],
             [
              0.5555555555555556,
              "#d8576b"
             ],
             [
              0.6666666666666666,
              "#ed7953"
             ],
             [
              0.7777777777777778,
              "#fb9f3a"
             ],
             [
              0.8888888888888888,
              "#fdca26"
             ],
             [
              1,
              "#f0f921"
             ]
            ],
            "type": "histogram2dcontour"
           }
          ],
          "mesh3d": [
           {
            "colorbar": {
             "outlinewidth": 0,
             "ticks": ""
            },
            "type": "mesh3d"
           }
          ],
          "parcoords": [
           {
            "line": {
             "colorbar": {
              "outlinewidth": 0,
              "ticks": ""
             }
            },
            "type": "parcoords"
           }
          ],
          "pie": [
           {
            "automargin": true,
            "type": "pie"
           }
          ],
          "scatter": [
           {
            "fillpattern": {
             "fillmode": "overlay",
             "size": 10,
             "solidity": 0.2
            },
            "type": "scatter"
           }
          ],
          "scatter3d": [
           {
            "line": {
             "colorbar": {
              "outlinewidth": 0,
              "ticks": ""
             }
            },
            "marker": {
             "colorbar": {
              "outlinewidth": 0,
              "ticks": ""
             }
            },
            "type": "scatter3d"
           }
          ],
          "scattercarpet": [
           {
            "marker": {
             "colorbar": {
              "outlinewidth": 0,
              "ticks": ""
             }
            },
            "type": "scattercarpet"
           }
          ],
          "scattergeo": [
           {
            "marker": {
             "colorbar": {
              "outlinewidth": 0,
              "ticks": ""
             }
            },
            "type": "scattergeo"
           }
          ],
          "scattergl": [
           {
            "marker": {
             "colorbar": {
              "outlinewidth": 0,
              "ticks": ""
             }
            },
            "type": "scattergl"
           }
          ],
          "scattermapbox": [
           {
            "marker": {
             "colorbar": {
              "outlinewidth": 0,
              "ticks": ""
             }
            },
            "type": "scattermapbox"
           }
          ],
          "scatterpolar": [
           {
            "marker": {
             "colorbar": {
              "outlinewidth": 0,
              "ticks": ""
             }
            },
            "type": "scatterpolar"
           }
          ],
          "scatterpolargl": [
           {
            "marker": {
             "colorbar": {
              "outlinewidth": 0,
              "ticks": ""
             }
            },
            "type": "scatterpolargl"
           }
          ],
          "scatterternary": [
           {
            "marker": {
             "colorbar": {
              "outlinewidth": 0,
              "ticks": ""
             }
            },
            "type": "scatterternary"
           }
          ],
          "surface": [
           {
            "colorbar": {
             "outlinewidth": 0,
             "ticks": ""
            },
            "colorscale": [
             [
              0,
              "#0d0887"
             ],
             [
              0.1111111111111111,
              "#46039f"
             ],
             [
              0.2222222222222222,
              "#7201a8"
             ],
             [
              0.3333333333333333,
              "#9c179e"
             ],
             [
              0.4444444444444444,
              "#bd3786"
             ],
             [
              0.5555555555555556,
              "#d8576b"
             ],
             [
              0.6666666666666666,
              "#ed7953"
             ],
             [
              0.7777777777777778,
              "#fb9f3a"
             ],
             [
              0.8888888888888888,
              "#fdca26"
             ],
             [
              1,
              "#f0f921"
             ]
            ],
            "type": "surface"
           }
          ],
          "table": [
           {
            "cells": {
             "fill": {
              "color": "#EBF0F8"
             },
             "line": {
              "color": "white"
             }
            },
            "header": {
             "fill": {
              "color": "#C8D4E3"
             },
             "line": {
              "color": "white"
             }
            },
            "type": "table"
           }
          ]
         },
         "layout": {
          "annotationdefaults": {
           "arrowcolor": "#2a3f5f",
           "arrowhead": 0,
           "arrowwidth": 1
          },
          "autotypenumbers": "strict",
          "coloraxis": {
           "colorbar": {
            "outlinewidth": 0,
            "ticks": ""
           }
          },
          "colorscale": {
           "diverging": [
            [
             0,
             "#8e0152"
            ],
            [
             0.1,
             "#c51b7d"
            ],
            [
             0.2,
             "#de77ae"
            ],
            [
             0.3,
             "#f1b6da"
            ],
            [
             0.4,
             "#fde0ef"
            ],
            [
             0.5,
             "#f7f7f7"
            ],
            [
             0.6,
             "#e6f5d0"
            ],
            [
             0.7,
             "#b8e186"
            ],
            [
             0.8,
             "#7fbc41"
            ],
            [
             0.9,
             "#4d9221"
            ],
            [
             1,
             "#276419"
            ]
           ],
           "sequential": [
            [
             0,
             "#0d0887"
            ],
            [
             0.1111111111111111,
             "#46039f"
            ],
            [
             0.2222222222222222,
             "#7201a8"
            ],
            [
             0.3333333333333333,
             "#9c179e"
            ],
            [
             0.4444444444444444,
             "#bd3786"
            ],
            [
             0.5555555555555556,
             "#d8576b"
            ],
            [
             0.6666666666666666,
             "#ed7953"
            ],
            [
             0.7777777777777778,
             "#fb9f3a"
            ],
            [
             0.8888888888888888,
             "#fdca26"
            ],
            [
             1,
             "#f0f921"
            ]
           ],
           "sequentialminus": [
            [
             0,
             "#0d0887"
            ],
            [
             0.1111111111111111,
             "#46039f"
            ],
            [
             0.2222222222222222,
             "#7201a8"
            ],
            [
             0.3333333333333333,
             "#9c179e"
            ],
            [
             0.4444444444444444,
             "#bd3786"
            ],
            [
             0.5555555555555556,
             "#d8576b"
            ],
            [
             0.6666666666666666,
             "#ed7953"
            ],
            [
             0.7777777777777778,
             "#fb9f3a"
            ],
            [
             0.8888888888888888,
             "#fdca26"
            ],
            [
             1,
             "#f0f921"
            ]
           ]
          },
          "colorway": [
           "#636efa",
           "#EF553B",
           "#00cc96",
           "#ab63fa",
           "#FFA15A",
           "#19d3f3",
           "#FF6692",
           "#B6E880",
           "#FF97FF",
           "#FECB52"
          ],
          "font": {
           "color": "#2a3f5f"
          },
          "geo": {
           "bgcolor": "white",
           "lakecolor": "white",
           "landcolor": "#E5ECF6",
           "showlakes": true,
           "showland": true,
           "subunitcolor": "white"
          },
          "hoverlabel": {
           "align": "left"
          },
          "hovermode": "closest",
          "mapbox": {
           "style": "light"
          },
          "paper_bgcolor": "white",
          "plot_bgcolor": "#E5ECF6",
          "polar": {
           "angularaxis": {
            "gridcolor": "white",
            "linecolor": "white",
            "ticks": ""
           },
           "bgcolor": "#E5ECF6",
           "radialaxis": {
            "gridcolor": "white",
            "linecolor": "white",
            "ticks": ""
           }
          },
          "scene": {
           "xaxis": {
            "backgroundcolor": "#E5ECF6",
            "gridcolor": "white",
            "gridwidth": 2,
            "linecolor": "white",
            "showbackground": true,
            "ticks": "",
            "zerolinecolor": "white"
           },
           "yaxis": {
            "backgroundcolor": "#E5ECF6",
            "gridcolor": "white",
            "gridwidth": 2,
            "linecolor": "white",
            "showbackground": true,
            "ticks": "",
            "zerolinecolor": "white"
           },
           "zaxis": {
            "backgroundcolor": "#E5ECF6",
            "gridcolor": "white",
            "gridwidth": 2,
            "linecolor": "white",
            "showbackground": true,
            "ticks": "",
            "zerolinecolor": "white"
           }
          },
          "shapedefaults": {
           "line": {
            "color": "#2a3f5f"
           }
          },
          "ternary": {
           "aaxis": {
            "gridcolor": "white",
            "linecolor": "white",
            "ticks": ""
           },
           "baxis": {
            "gridcolor": "white",
            "linecolor": "white",
            "ticks": ""
           },
           "bgcolor": "#E5ECF6",
           "caxis": {
            "gridcolor": "white",
            "linecolor": "white",
            "ticks": ""
           }
          },
          "title": {
           "x": 0.05
          },
          "xaxis": {
           "automargin": true,
           "gridcolor": "white",
           "linecolor": "white",
           "ticks": "",
           "title": {
            "standoff": 15
           },
           "zerolinecolor": "white",
           "zerolinewidth": 2
          },
          "yaxis": {
           "automargin": true,
           "gridcolor": "white",
           "linecolor": "white",
           "ticks": "",
           "title": {
            "standoff": 15
           },
           "zerolinecolor": "white",
           "zerolinewidth": 2
          }
         }
        },
        "title": {
         "text": "Distribution of Nuclear Norm of Node Explain Matrix"
        },
        "xaxis": {
         "title": {
          "text": "Nuclear Norm"
         }
        },
        "yaxis": {
         "title": {
          "text": "Frequency"
         }
        }
       }
      },
      "text/html": [
       "<div>                            <div id=\"15d0a5eb-0847-48ac-9aab-49c12bd43dae\" class=\"plotly-graph-div\" style=\"height:525px; width:100%;\"></div>            <script type=\"text/javascript\">                require([\"plotly\"], function(Plotly) {                    window.PLOTLYENV=window.PLOTLYENV || {};                                    if (document.getElementById(\"15d0a5eb-0847-48ac-9aab-49c12bd43dae\")) {                    Plotly.newPlot(                        \"15d0a5eb-0847-48ac-9aab-49c12bd43dae\",                        [{\"name\":\"GMI\",\"x\":[0.3119733929634094,0.32691559195518494,0.24601437151432037,0.25105172395706177,0.263872355222702,0.23217454552650452,0.28111156821250916,0.2656309902667999,0.2653488218784332,0.26926347613334656,0.2919290363788605,0.28325793147087097,0.30476686358451843,0.29176124930381775,0.32280755043029785,0.2666441798210144,0.32199257612228394,0.2890460789203644,0.3677333891391754,0.28114140033721924,0.2845923602581024,0.27112194895744324,0.2896580696105957,0.26670774817466736,0.23960135877132416,0.2547444701194763,0.25367921590805054,0.26077330112457275,0.26519539952278137,0.27243635058403015,0.2733299434185028,0.2787310481071472,0.24287350475788116,0.25727978348731995,0.22003528475761414,0.29457077383995056,0.2788872718811035,0.27762162685394287,0.28219157457351685,0.27021926641464233,0.26953431963920593,0.29550227522850037,0.2952774167060852,0.23432707786560059,0.2649666368961334,0.27435171604156494,0.25766628980636597,0.2746153175830841,0.2634488642215729,0.2692508101463318,0.2664841115474701,0.33100879192352295,0.3530251979827881,0.35963115096092224,0.2380748689174652,0.24948325753211975,0.23138070106506348,0.25658005475997925,0.2576484680175781,0.22972366213798523,0.26234671473503113,0.34275123476982117,0.2627619504928589,0.27560847997665405,0.3117014765739441,0.2516704499721527,0.2514571249485016,0.273058146238327,0.2841905653476715,0.2758089601993561,0.2772706151008606,0.2434886395931244,0.28282231092453003,0.32033073902130127,0.36316797137260437,0.26595452427864075,0.23575320839881897,0.2709426283836365,0.26626062393188477,0.2989967167377472,0.2851751744747162,0.263560026884079,0.24310296773910522,0.2672809362411499,0.32650527358055115,0.39208677411079407,0.2654387652873993,0.29253628849983215,0.23903539776802063,0.22643886506557465,0.27964532375335693,0.2632491886615753,0.3428766429424286,0.28810492157936096,0.2854999601840973,0.3047715127468109,0.23164907097816467,0.2354590743780136,0.26071029901504517,0.2504339814186096,0.2712756395339966,0.2583124041557312,0.25836777687072754,0.29485663771629333,0.24985909461975098,0.2818758189678192,0.28017890453338623,0.24156154692173004,0.25644418597221375,0.3014000356197357,0.2194773256778717,0.21711349487304688,0.28418973088264465,0.3225812017917633,0.27066436409950256,0.292177677154541,0.2907584011554718,0.29656729102134705,0.3318997621536255,0.2661021649837494,0.3158084452152252,0.2227504402399063,0.3233521580696106,0.3180432915687561,0.2617647051811218,0.24080954492092133,0.26194456219673157,0.32641807198524475,0.2792762517929077,0.28578001260757446,0.29637688398361206,0.27955248951911926,0.2600173354148865,0.2597789168357849,0.31398090720176697,0.26234909892082214,0.22548982501029968,0.25622910261154175,0.23370198905467987,0.26321491599082947,0.2522328197956085,0.3019371032714844,0.262102872133255,0.31220969557762146,0.24082325398921967,0.28605198860168457,0.3415829539299011,0.29196783900260925,0.32534661889076233,0.3044341206550598,0.2813217043876648,0.2707973122596741,0.2575381100177765,0.24872206151485443,0.25273633003234863,0.27995339035987854,0.31775546073913574,0.2996133267879486,0.2763599753379822,0.2603345513343811,0.18195697665214539,0.2864827513694763,0.32461467385292053,0.2739427387714386,0.2963523268699646,0.26528191566467285,0.20230433344841003,0.2471255511045456,0.344439834356308,0.2810930013656616,0.30027347803115845,0.27759554982185364,0.3246127963066101,0.2918025851249695,0.2694758474826813,0.24798034131526947,0.3120206892490387,0.32549095153808594,0.326193243265152,0.3161594867706299,0.36770394444465637,0.2705785036087036,0.26801633834838867,0.2713204324245453,0.28331172466278076,0.23582038283348083,0.2628834843635559,0.26734352111816406,0.28101441264152527,0.27094703912734985,0.2746497094631195,0.3076533377170563,0.22050748765468597,0.20980803668498993,0.2377328723669052,0.22978058457374573,0.27079707384109497,0.2857002913951874,0.30315518379211426,0.3020646870136261,0.2546265721321106,0.30219024419784546,0.2797834575176239,0.28732895851135254,0.26329687237739563,0.2824930250644684,0.2883439064025879,0.28542864322662354,0.2738153636455536,0.25285282731056213,0.2578931748867035,0.20426607131958008,0.23384477198123932,0.30082258582115173,0.3177034556865692,0.30960553884506226,0.25612393021583557,0.28031474351882935,0.30821508169174194,0.2840573787689209,0.3145577907562256,0.33443573117256165,0.31164026260375977,0.3200414180755615,0.3065786063671112,0.29512879252433777,0.2907208204269409,0.3360615670681,0.3047873079776764,0.3222499191761017,0.2458621859550476,0.32750603556632996,0.30469638109207153,0.2678897976875305,0.2636088728904724,0.25708600878715515,0.2651510238647461,0.2624780535697937,0.30644261837005615,0.28500714898109436,0.24726653099060059,0.25558891892433167,0.25734037160873413,0.3099927306175232,0.2839500904083252,0.28565359115600586,0.28575974702835083,0.24499908089637756,0.3046049475669861,0.2602726221084595,0.2700187861919403,0.2631424069404602,0.23157772421836853,0.27976149320602417,0.2855280935764313,0.3084394335746765,0.2942787706851959,0.2848055958747864,0.2961483895778656,0.3072585463523865,0.2992347776889801,0.25903621315956116,0.3428705334663391,0.29396775364875793,0.2746300995349884,0.27907121181488037,0.3086335361003876,0.2556425631046295,0.3046824634075165,0.24825094640254974,0.2887721657752991,0.27270203828811646,0.2973601222038269,0.25404301285743713,0.2546333968639374,0.2987443804740906,0.31799647212028503,0.276505708694458,0.3364710807800293,0.2335767149925232,0.2853620648384094,0.2667710483074188,0.24478751420974731,0.2340882420539856,0.29158949851989746,0.2616889178752899,0.251284122467041,0.27407577633857727,0.26269903779029846,0.33875399827957153,0.2915109395980835,0.26140162348747253,0.3340800404548645,0.24764195084571838,0.2579524517059326,0.30632877349853516,0.26514869928359985,0.2835160791873932,0.30658650398254395,0.27975988388061523,0.2839788496494293,0.2644742429256439,0.26498812437057495,0.2419038712978363,0.24767601490020752,0.28190839290618896,0.324081689119339,0.34816253185272217,0.2666357755661011,0.36946621537208557,0.3358359932899475,0.2872774302959442,0.3124748170375824,0.2667119801044464,0.3102835714817047,0.30295976996421814,0.3368827998638153,0.3511909246444702,0.30211469531059265,0.20430603623390198,0.2657637894153595,0.2682460844516754,0.22766828536987305,0.27269333600997925,0.2980085611343384,0.2896170914173126,0.3175249695777893,0.3017490804195404,0.2701079249382019,0.27244308590888977,0.29912102222442627,0.2886275053024292,0.26346340775489807,0.25528019666671753,0.20778807997703552,0.22406582534313202,0.2861692011356354,0.261691689491272,0.2855192720890045,0.2580496072769165,0.22255568206310272,0.25757551193237305,0.31917479634284973,0.31091418862342834,0.2883133888244629,0.322474867105484,0.3218095004558563,0.3591170608997345,0.20177415013313293,0.3346633315086365,0.32375916838645935,0.28344103693962097,0.32125234603881836,0.26141804456710815,0.20767119526863098,0.22529082000255585,0.2789551317691803,0.27682021260261536,0.2585386633872986,0.27826574444770813,0.30027851462364197,0.24839088320732117,0.2846895456314087,0.24638542532920837,0.24422714114189148,0.3302949368953705,0.34828078746795654,0.2607734501361847,0.30381208658218384,0.2082289755344391,0.2691355347633362,0.25666800141334534,0.29042848944664,0.34265393018722534,0.2250939905643463,0.2514975666999817,0.27082133293151855,0.19756171107292175,0.23454126715660095,0.27232855558395386,0.25868919491767883,0.2932111918926239,0.19688467681407928,0.18652647733688354,0.25848808884620667,0.2247174233198166,0.2490919828414917,0.31224343180656433,0.2453136146068573,0.30950286984443665,0.2685374319553375,0.24206343293190002,0.2373909205198288,0.29128387570381165,0.24945667386054993,0.2926766574382782,0.2107793390750885,0.28128519654273987,0.19657158851623535,0.2701115012168884,0.2986520826816559,0.26274728775024414,0.30151107907295227,0.2981514036655426,0.2649005055427551,0.23935310542583466,0.24019962549209595,0.25240787863731384,0.2290819138288498,0.31181779503822327,0.2266557365655899,0.2332388460636139,0.2601296603679657,0.270211786031723,0.18505780398845673,0.3793972432613373,0.3061172068119049,0.27241194248199463,0.273911714553833,0.35410353541374207,0.19769981503486633,0.3958078622817993,0.30294233560562134,0.2497778683900833,0.2940368950366974,0.2660733163356781,0.2945058047771454,0.27339112758636475,0.23842884600162506,0.2378254532814026,0.2876349091529846,0.26517269015312195,0.20234976708889008,0.291263610124588,0.255938321352005,0.3255302906036377,0.18673695623874664,0.25141361355781555,0.25266361236572266,0.189351886510849,0.3305453658103943,0.2958557903766632,0.2680502235889435,0.2772670388221741,0.2526206076145172,0.28975534439086914,0.22692230343818665,0.26415249705314636,0.2701331377029419,0.2731409966945648,0.265555202960968,0.2774626314640045,0.25612056255340576,0.2569536864757538,0.2256680279970169,0.26363885402679443,0.171149343252182,0.3318081796169281,0.2894032895565033,0.271954208612442,0.3724575638771057,0.24447965621948242,0.247443288564682,0.2108236402273178,0.25992053747177124,0.3364753723144531,0.3241609036922455,0.25923243165016174,0.3101315200328827,0.2241722047328949,0.26406019926071167,0.31575044989585876,0.2824232280254364,0.3136337101459503,0.24546782672405243,0.24758492410182953,0.2110302895307541,0.20187978446483612,0.2857937216758728,0.2988162338733673,0.26151788234710693,0.26038843393325806,0.3108414113521576,0.31278324127197266,0.2941056489944458,0.3051883280277252,0.3554849326610565,0.293810099363327,0.25418415665626526,0.3082098960876465,0.287750780582428,0.2883054316043854,0.26305651664733887,0.30665379762649536,0.23752805590629578,0.3076515197753906,0.30354949831962585,0.30283430218696594,0.33362236618995667,0.27568677067756653,0.23071253299713135,0.245054230093956,0.22223149240016937,0.22925826907157898,0.2576051950454712,0.24772612750530243,0.24917006492614746,0.3466634154319763,0.27413079142570496,0.26212430000305176,0.25523149967193604,0.34134042263031006,0.2847750782966614,0.26900535821914673,0.22086405754089355,0.29679107666015625,0.22051912546157837,0.2121185064315796,0.23516477644443512,0.3090035617351532,0.2544325292110443,0.293101042509079,0.2482181042432785,0.3228527903556824,0.2228621542453766,0.28062766790390015,0.2794715464115143,0.24015244841575623,0.3110320270061493,0.27303817868232727,0.31097984313964844,0.2672634720802307,0.26533305644989014,0.3061434328556061,0.25097140669822693,0.2770494222640991,0.3171237111091614,0.4044434726238251,0.29968205094337463,0.26758474111557007,0.259235680103302,0.2738463878631592,0.2565932869911194,0.28748300671577454,0.2842075526714325,0.24866145849227905,0.26391392946243286,0.22778885066509247,0.29050713777542114,0.3093407154083252,0.24947762489318848,0.28182512521743774,0.25119146704673767,0.2321336418390274,0.2721606194972992,0.28359687328338623,0.2965242862701416,0.2668185830116272,0.2957434058189392,0.22952532768249512,0.2681025266647339,0.24240493774414062,0.28658825159072876,0.3127596974372864,0.3134920299053192,0.2744353413581848,0.25855934619903564,0.25541290640830994,0.25615790486335754,0.27226170897483826,0.23387481272220612,0.24017417430877686,0.29611194133758545,0.23299726843833923,0.2466983050107956,0.24782055616378784,0.2624393403530121,0.2597220838069916,0.2685909867286682,0.2327050417661667,0.28123217821121216,0.27493414282798767,0.2585907280445099,0.21883872151374817,0.3098854720592499,0.24937526881694794,0.24284149706363678,0.24562032520771027,0.2617669701576233,0.2573433220386505,0.23713500797748566,0.24303705990314484,0.27040573954582214,0.19467931985855103,0.3634275794029236,0.2681005299091339,0.30913910269737244,0.22622865438461304,0.26076191663742065,0.2534143328666687,0.309732586145401,0.30567920207977295,0.2731409966945648,0.25108447670936584,0.2523084878921509,0.30506113171577454,0.3215363621711731,0.2791438102722168,0.22064824402332306,0.2584366500377655,0.2892734706401825,0.28374233841896057,0.32772037386894226,0.31101539731025696,0.33934468030929565,0.3200068771839142,0.20319616794586182,0.24496370553970337,0.22547176480293274,0.17106814682483673,0.301169753074646,0.2565896809101105,0.3062155544757843,0.3528735637664795,0.17360198497772217,0.27900272607803345,0.29575496912002563,0.18213210999965668,0.28689849376678467,0.14184467494487762,0.1504906564950943,0.16616402566432953,0.15826699137687683,0.20074833929538727,0.2547813653945923,0.15824000537395477,0.294597327709198,0.27961376309394836,0.2565786838531494,0.24258588254451752,0.2531469464302063,0.291464239358902,0.32883667945861816,0.3002772331237793,0.17410123348236084,0.2615737318992615,0.3021065890789032,0.32468652725219727,0.2876828610897064,0.2959634065628052,0.24454322457313538,0.3031512498855591,0.2738519608974457,0.23450766503810883,0.25966113805770874,0.23986953496932983,0.25027918815612793,0.2548832893371582,0.3192959129810333,0.2542555630207062,0.2506359815597534,0.2966421842575073,0.32737472653388977,0.29588839411735535,0.27959516644477844,0.2465982586145401,0.26520049571990967,0.24881476163864136,0.21266388893127441,0.1859733611345291,0.28739622235298157,0.2844885289669037,0.28302398324012756,0.32412227988243103,0.25115787982940674,0.19035518169403076,0.252821147441864,0.2919863760471344,0.23774240911006927,0.2474755495786667,0.24685713648796082,0.26573023200035095,0.33459335565567017,0.18150010704994202,0.3302344083786011,0.3166816532611847,0.24086500704288483,0.34514477849006653,0.2119501233100891,0.2577383816242218,0.27273818850517273,0.24240493774414062,0.18096451461315155,0.2543275058269501,0.2571686804294586,0.3687257766723633,0.30178719758987427,0.2401023954153061,0.17064595222473145,0.2753525674343109,0.312011182308197,0.17216317355632782,0.2734735310077667,0.34300482273101807,0.25874143838882446,0.2952759563922882,0.20333488285541534,0.2586878836154938,0.2717796862125397,0.1928565949201584,0.233601912856102,0.2936253547668457,0.169897198677063,0.22517307102680206,0.2665276825428009,0.3302779495716095,0.27319785952568054,0.3031771183013916,0.31120002269744873,0.3002788722515106,0.306725412607193,0.17555418610572815,0.20569749176502228,0.2144225835800171,0.22828909754753113,0.2860139310359955,0.2822684645652771,0.19059765338897705,0.3063284754753113,0.1453063189983368,0.30708035826683044,0.2678428888320923,0.3154156804084778,0.2608782947063446,0.22310881316661835,0.22157035768032074,0.24429552257061005,0.2606963515281677,0.2911386489868164,0.26920315623283386,0.31167298555374146,0.25788986682891846,0.336227685213089,0.27625182271003723,0.2504746615886688,0.3083304464817047,0.19695371389389038,0.25874143838882446,0.3169070780277252,0.26368629932403564,0.1781289279460907,0.24912427365779877,0.20726296305656433,0.25426530838012695,0.24642200767993927,0.24570156633853912,0.21350233256816864,0.23673748970031738,0.26448681950569153,0.2539326250553131,0.3062572777271271,0.2983112633228302,0.31684574484825134,0.32064539194107056,0.31990471482276917,0.18464376032352448,0.2774856984615326,0.21577712893486023,0.24216340482234955,0.3084914982318878,0.28186726570129395,0.20548492670059204,0.33771610260009766,0.23721936345100403,0.2999686300754547,0.22216512262821198,0.3628651201725006,0.15586768090724945,0.28617778420448303,0.20828059315681458,0.3295639455318451,0.3009078800678253,0.3340785801410675,0.18943731486797333,0.2153020203113556,0.21497535705566406,0.2583724558353424,0.2541186511516571,0.16029588878154755,0.2278795838356018,0.24959874153137207,0.32715263962745667,0.25165855884552,0.291696697473526,0.27287381887435913,0.3244662880897522,0.24318386614322662,0.26059433817863464,0.25754794478416443,0.2811253070831299,0.22766296565532684,0.31911468505859375,0.1696842461824417,0.33330243825912476,0.2609793543815613,0.3452099561691284,0.18801970779895782,0.21121066808700562,0.24441422522068024,0.278203547000885,0.2763364017009735,0.225965678691864,0.3450528383255005,0.22470250725746155,0.21790434420108795,0.2335040420293808,0.2814527153968811,0.2850162982940674,0.2543275058269501,0.1715366691350937,0.3241751790046692,0.24905894696712494,0.27042919397354126,0.18272008001804352,0.19374486804008484,0.23765255510807037,0.2336304783821106,0.15171962976455688,0.24336238205432892,0.19189688563346863,0.27695101499557495,0.3149929344654083,0.29102465510368347,0.34244588017463684,0.22557498514652252,0.20958253741264343,0.3121224343776703,0.2665080726146698,0.22339388728141785,0.24969559907913208,0.2545330822467804,0.23903882503509521,0.313062459230423,0.25566211342811584,0.2245224118232727,0.2439221739768982,0.1845974624156952,0.23524902760982513,0.26356378197669983,0.3028540313243866,0.22566302120685577,0.1987370401620865,0.3502202033996582,0.3151981830596924,0.1780366152524948,0.1987370401620865,0.24415245652198792,0.26490557193756104,0.2638956904411316,0.18387968838214874,0.22452153265476227,0.23894397914409637,0.30188262462615967,0.1559114009141922,0.21124880015850067,0.21573424339294434,0.2348305881023407,0.25144052505493164,0.21586734056472778,0.23631104826927185,0.2038370817899704,0.24801893532276154,0.16832783818244934,0.2571580111980438,0.19903875887393951,0.24337884783744812,0.1855006366968155,0.27226465940475464,0.29603928327560425,0.22380328178405762,0.23590025305747986,0.27573904395103455,0.23070459067821503,0.27297842502593994,0.1938319057226181,0.2982367277145386,0.21979057788848877,0.2665920853614807,0.26298895478248596,0.2438235580921173,0.22789373993873596,0.3335295617580414,0.19061125814914703,0.25777965784072876,0.2886299192905426,0.26081228256225586,0.2882561683654785,0.2731409966945648,0.25099578499794006,0.2264634370803833,0.2158517837524414,0.23692794144153595,0.23182585835456848,0.3217317759990692,0.18715567886829376,0.22893421351909637,0.21391703188419342,0.2291709929704666,0.18044835329055786,0.26920315623283386,0.20334529876708984,0.26057225465774536,0.24896742403507233,0.2901977002620697,0.21091382205486298,0.29060879349708557,0.23037110269069672,0.29754015803337097,0.20977075397968292,0.23284167051315308,0.30107417702674866,0.18734338879585266,0.3276481628417969,0.3317606747150421,0.3369942009449005,0.3031845688819885,0.22649681568145752,0.22505146265029907,0.1839241087436676,0.2848607301712036,0.22296395897865295,0.39168012142181396,0.24325761198997498,0.2095046043395996,0.261785626411438,0.2062234878540039,0.22518126666545868,0.26964694261550903,0.24497410655021667,0.24797175824642181,0.2936733067035675,0.2936733067035675,0.2936733067035675,0.23815791308879852,0.2847541868686676,0.247560054063797,0.325131356716156,0.18933704495429993,0.2358914464712143,0.15327100455760956,0.17157138884067535,0.2743144631385803,0.2293606400489807,0.24285517632961273,0.2587592303752899,0.21065658330917358,0.2587592303752899,0.2123050093650818,0.15108293294906616,0.18575485050678253,0.33314135670661926,0.2833835482597351,0.2123050093650818,0.23070459067821503,0.18749184906482697,0.2657245397567749,0.27916714549064636,0.23096059262752533,0.22286061942577362,0.1716586947441101,0.15016944706439972,0.22278907895088196,0.17163650691509247,0.2618221938610077,0.22337733209133148,0.32111436128616333,0.26700490713119507,0.3183184862136841,0.18897318840026855,0.3335295617580414,0.27930182218551636,0.24330246448516846,0.19268280267715454,0.26448681950569153,0.3450528383255005,0.20376132428646088],\"type\":\"histogram\"},{\"name\":\"GMI+XM\",\"x\":[0.32232141494750977,0.3376999795436859,0.25418341159820557,0.25946176052093506,0.2727067470550537,0.23925481736660004,0.2907750606536865,0.27382370829582214,0.2739450931549072,0.2770513892173767,0.30179640650749207,0.2923034131526947,0.31463900208473206,0.302141398191452,0.33337903022766113,0.2754317820072174,0.33308544754981995,0.29908841848373413,0.38014596700668335,0.29074615240097046,0.29404938220977783,0.2805888056755066,0.29867884516716003,0.27602484822273254,0.2471456378698349,0.2633199393749237,0.26207324862480164,0.2695392668247223,0.2746707499027252,0.28184905648231506,0.28280746936798096,0.28832998871803284,0.2509559988975525,0.26578283309936523,0.22727645933628082,0.30475884675979614,0.28846606612205505,0.28667351603507996,0.2917290925979614,0.27930915355682373,0.2785593271255493,0.30576664209365845,0.30556520819664,0.24114318192005157,0.2738897502422333,0.283398300409317,0.26683107018470764,0.28394779562950134,0.2722734808921814,0.2776111662387848,0.2748667597770691,0.3421994745731354,0.3639563322067261,0.3716454803943634,0.24589590728282928,0.2576785981655121,0.23867134749889374,0.26461637020111084,0.26697033643722534,0.23701781034469604,0.27069541811943054,0.3542380928993225,0.27224546670913696,0.28531578183174133,0.32302141189575195,0.2593589127063751,0.25913289189338684,0.28190430998802185,0.2938985228538513,0.28442177176475525,0.2863762676715851,0.25109171867370605,0.2915770709514618,0.330924928188324,0.3753030598163605,0.27458202838897705,0.24339260160923004,0.27986761927604675,0.2751246392726898,0.3090035319328308,0.2949846088886261,0.27302178740501404,0.2517692446708679,0.27687326073646545,0.3369769752025604,0.40465277433395386,0.27477332949638367,0.30332309007644653,0.24643181264400482,0.23394885659217834,0.28882724046707153,0.271206796169281,0.3532830476760864,0.2978919744491577,0.29479578137397766,0.31493043899536133,0.23922406136989594,0.24231286346912384,0.2688075602054596,0.25846266746520996,0.2795611321926117,0.26643726229667664,0.26588204503059387,0.3044452369213104,0.2580384612083435,0.29225975275039673,0.289772629737854,0.2501034438610077,0.2643788158893585,0.3110255300998688,0.22610566020011902,0.22374914586544037,0.29296618700027466,0.3338022530078888,0.2804318964481354,0.302821546792984,0.3009130656719208,0.30627724528312683,0.3427548408508301,0.2746131718158722,0.32596299052238464,0.23088091611862183,0.33355963230133057,0.32871508598327637,0.26977697014808655,0.2480764538049698,0.2702423632144928,0.3372918367385864,0.28918448090553284,0.2956065237522125,0.3059624433517456,0.28883883357048035,0.2690798044204712,0.26873162388801575,0.32314983010292053,0.2712220847606659,0.2330114245414734,0.2650443911552429,0.24136264622211456,0.27170389890670776,0.26016926765441895,0.31187230348587036,0.2716140151023865,0.32269150018692017,0.24857932329177856,0.2960309088230133,0.35264089703559875,0.3022027611732483,0.33545345067977905,0.314045250415802,0.2904627323150635,0.28003042936325073,0.2664763927459717,0.2574128210544586,0.2613809108734131,0.2893047332763672,0.3271414637565613,0.30888673663139343,0.2851879596710205,0.2686710059642792,0.18850108981132507,0.2960263192653656,0.3356245458126068,0.2832540273666382,0.30611491203308105,0.27461403608322144,0.20948627591133118,0.25510433316230774,0.35595566034317017,0.29130813479423523,0.3110116720199585,0.287017822265625,0.3356987535953522,0.3019293546676636,0.2790319621562958,0.255664199590683,0.32200050354003906,0.3358815610408783,0.33645254373550415,0.32654982805252075,0.3800264000892639,0.2791139483451843,0.276443213224411,0.28127139806747437,0.2928852140903473,0.24224786460399628,0.2715592384338379,0.2766663432121277,0.29066404700279236,0.27915266156196594,0.28420528769493103,0.31705841422080994,0.22686272859573364,0.21642076969146729,0.24542810022830963,0.23714269697666168,0.27976828813552856,0.2952539622783661,0.31300172209739685,0.312136173248291,0.26292112469673157,0.31247755885124207,0.28870949149131775,0.29682186245918274,0.27203190326690674,0.29173848032951355,0.2974630892276764,0.2949015200138092,0.2830026149749756,0.2611045241355896,0.26721107959747314,0.21105089783668518,0.24224595725536346,0.3098686635494232,0.3282134532928467,0.3202551007270813,0.26448854804039,0.2891136109828949,0.3184914290904999,0.29341238737106323,0.3248123824596405,0.3458561897277832,0.32207611203193665,0.33078470826148987,0.31643521785736084,0.3049107491970062,0.3008076548576355,0.3468346893787384,0.3148820400238037,0.3329657018184662,0.25387638807296753,0.3375110328197479,0.3146481513977051,0.277122437953949,0.27205201983451843,0.2651628255844116,0.2743021845817566,0.2707684636116028,0.31575801968574524,0.29394251108169556,0.25491103529930115,0.26339974999427795,0.26517996191978455,0.3201259672641754,0.29320695996284485,0.29530829191207886,0.2942093312740326,0.2522799074649811,0.314514696598053,0.2699495553970337,0.2787918448448181,0.2720615267753601,0.2396298348903656,0.2893025279045105,0.2954905927181244,0.3190823197364807,0.3046983778476715,0.2939169704914093,0.305282324552536,0.31669455766677856,0.30846816301345825,0.26782041788101196,0.3534892797470093,0.3041151463985443,0.2834697663784027,0.2873944342136383,0.3183288872241974,0.26316142082214355,0.3148984909057617,0.2570306360721588,0.2982487678527832,0.2814474105834961,0.3068825304508209,0.26195546984672546,0.26279211044311523,0.30800899863243103,0.32797351479530334,0.285327285528183,0.34768685698509216,0.2410341054201126,0.29507219791412354,0.2759661376476288,0.25358256697654724,0.24233639240264893,0.3009849488735199,0.27051448822021484,0.2595944106578827,0.28287434577941895,0.27128511667251587,0.3493274748325348,0.30134543776512146,0.26983776688575745,0.34524959325790405,0.2552642226219177,0.26624682545661926,0.3159165382385254,0.2741449177265167,0.2924632132053375,0.31610408425331116,0.2880278527736664,0.2935742735862732,0.2734259068965912,0.2738112509250641,0.2503451108932495,0.2556622326374054,0.29095718264579773,0.33481690287590027,0.35951733589172363,0.27566689252853394,0.381519615650177,0.3472389876842499,0.29669976234436035,0.32294318079948425,0.2753830850124359,0.3207060396671295,0.31264227628707886,0.3475865125656128,0.3627512454986572,0.31250524520874023,0.2105090171098709,0.27420279383659363,0.2767854630947113,0.23406808078289032,0.2812516391277313,0.3070915937423706,0.2987825274467468,0.32836857438087463,0.31112584471702576,0.2784864604473114,0.28190577030181885,0.30843454599380493,0.29800739884376526,0.27114593982696533,0.26413559913635254,0.21386227011680603,0.2301674336194992,0.2959086000919342,0.2705686688423157,0.2954334020614624,0.266659677028656,0.23021894693374634,0.2659023404121399,0.3292701244354248,0.32112812995910645,0.2971736788749695,0.3328351378440857,0.33242493867874146,0.37070754170417786,0.20821894705295563,0.3449965715408325,0.3338157832622528,0.29284781217575073,0.3314976692199707,0.2690454125404358,0.21376940608024597,0.2331579625606537,0.28856661915779114,0.28622084856033325,0.26594215631484985,0.28649553656578064,0.3099384903907776,0.25685548782348633,0.294887512922287,0.2546940743923187,0.2520138621330261,0.34190258383750916,0.36040258407592773,0.26997727155685425,0.3138760030269623,0.21442648768424988,0.277884840965271,0.26595059037208557,0.3001500070095062,0.3539738357067108,0.2317691296339035,0.2596150040626526,0.27949705719947815,0.20327936112880707,0.2420741468667984,0.28074911236763,0.2670130729675293,0.3023794889450073,0.20309238135814667,0.1923070251941681,0.26680850982666016,0.23198625445365906,0.2570343315601349,0.32229921221733093,0.2532668709754944,0.3195747435092926,0.2771461606025696,0.24982479214668274,0.24499346315860748,0.30108898878097534,0.2574150562286377,0.30239376425743103,0.21748946607112885,0.29024964570999146,0.2028709352016449,0.27888551354408264,0.3085724413394928,0.27021631598472595,0.31077462434768677,0.307743638753891,0.27404549717903137,0.24751870334148407,0.24726079404354095,0.2600376307964325,0.23631533980369568,0.3221229612827301,0.23401609063148499,0.24012568593025208,0.2677372395992279,0.2789550721645355,0.19069328904151917,0.3905785381793976,0.3157084286212921,0.281819224357605,0.2828994691371918,0.3662920594215393,0.20456112921237946,0.4092468023300171,0.313372939825058,0.2581018805503845,0.3046509921550751,0.273317813873291,0.30423077940940857,0.2828225791454315,0.24575050175189972,0.2454266995191574,0.2975190281867981,0.2739196717739105,0.2086733728647232,0.3004349172115326,0.2655821740627289,0.3356536626815796,0.1928214132785797,0.25968629121780396,0.26141849160194397,0.19546334445476532,0.3415248692035675,0.30591970682144165,0.27691155672073364,0.2864699959754944,0.2610166072845459,0.29950395226478577,0.2341133952140808,0.27203497290611267,0.2787725627422333,0.28234198689460754,0.2745414972305298,0.2856484353542328,0.26357951760292053,0.2656494379043579,0.23304235935211182,0.2724793255329132,0.1755828559398651,0.34265732765197754,0.29900845885276794,0.2809813618659973,0.38493022322654724,0.25169336795806885,0.2546411454677582,0.21685364842414856,0.268688827753067,0.34711384773254395,0.3339996039867401,0.2680986821651459,0.3202877342700958,0.23109713196754456,0.2723751962184906,0.32596567273139954,0.2914939224720001,0.324645459651947,0.2541186213493347,0.2556273341178894,0.21760554611682892,0.20790927112102509,0.2948283553123474,0.30772826075553894,0.27046236395835876,0.2689134478569031,0.3208698630332947,0.3230395019054413,0.3036437928676605,0.31534868478775024,0.36777186393737793,0.3022420108318329,0.2619504928588867,0.31864655017852783,0.2976122498512268,0.29731401801109314,0.2718869149684906,0.31691956520080566,0.2459072768688202,0.3177795112133026,0.3132812976837158,0.3125169277191162,0.34434983134269714,0.28369140625,0.23761942982673645,0.25265708565711975,0.22869499027729034,0.23617054522037506,0.26564502716064453,0.255136102437973,0.2573392689228058,0.35715705156326294,0.28295376896858215,0.2700212597846985,0.26329904794692993,0.3520662188529968,0.29345953464508057,0.2779718339443207,0.22756056487560272,0.3064468801021576,0.22672665119171143,0.21817153692245483,0.24322934448719025,0.31870603561401367,0.2628594636917114,0.3013648986816406,0.25591346621513367,0.33252081274986267,0.23051850497722626,0.2889195382595062,0.2886218726634979,0.2479192614555359,0.3207319378852844,0.28166231513023376,0.3204757571220398,0.27632763981819153,0.2737816572189331,0.317114919424057,0.25890716910362244,0.285393089056015,0.32727062702178955,0.4177081882953644,0.30766186118125916,0.27616968750953674,0.2674216628074646,0.28272634744644165,0.2647415101528168,0.2964911162853241,0.29337772727012634,0.2567340135574341,0.27274084091186523,0.23521170020103455,0.30033737421035767,0.3184686005115509,0.25792330503463745,0.29074472188949585,0.25962957739830017,0.2389032244682312,0.280166357755661,0.29270797967910767,0.3060269355773926,0.2755519449710846,0.30441853404045105,0.23677289485931396,0.2766610085964203,0.2506716251373291,0.29589274525642395,0.32255321741104126,0.3230992555618286,0.28257638216018677,0.26604801416397095,0.2618708610534668,0.26443785429000854,0.280240535736084,0.24067454040050507,0.24806073307991028,0.30558574199676514,0.24055026471614838,0.2545728087425232,0.2556007206439972,0.27120307087898254,0.2679390013217926,0.2779540717601776,0.23982587456703186,0.2904527485370636,0.28397807478904724,0.2671172022819519,0.22571322321891785,0.3195793628692627,0.25746941566467285,0.25020426511764526,0.2535467743873596,0.270404577255249,0.2658759355545044,0.24473024904727936,0.24995781481266022,0.2791980504989624,0.20092257857322693,0.3762514889240265,0.2766600251197815,0.31885001063346863,0.23292407393455505,0.2687021791934967,0.2613374590873718,0.3203727602958679,0.31548434495925903,0.28234198689460754,0.25904884934425354,0.25834184885025024,0.31428971886634827,0.33214035630226135,0.28772926330566406,0.2275095134973526,0.2665542662143707,0.298955500125885,0.2933003902435303,0.3375793993473053,0.32059481739997864,0.35072246193885803,0.3301030099391937,0.20895208418369293,0.25199711322784424,0.2324073314666748,0.175531268119812,0.31069666147232056,0.26486197113990784,0.31558412313461304,0.36429592967033386,0.17888867855072021,0.28660905361175537,0.30528712272644043,0.1877487748861313,0.296135812997818,0.1454237699508667,0.15445689857006073,0.17057250440120697,0.16284844279289246,0.20617520809173584,0.26148372888565063,0.16273093223571777,0.3036583960056305,0.2879849672317505,0.2641246020793915,0.2503882050514221,0.26151400804519653,0.3007564842700958,0.33938413858413696,0.30838125944137573,0.17901146411895752,0.2699934244155884,0.3112460672855377,0.33457064628601074,0.2967858612537384,0.3053431808948517,0.2526642382144928,0.313140332698822,0.28228554129600525,0.24182407557964325,0.26666367053985596,0.2475973516702652,0.2584335505962372,0.26298460364341736,0.3293498456478119,0.2626752257347107,0.2586389482021332,0.3063739538192749,0.3377406597137451,0.30509892106056213,0.28862670063972473,0.2543056905269623,0.2725521922111511,0.25606152415275574,0.21888774633407593,0.19186419248580933,0.29615142941474915,0.2935892641544342,0.29260799288749695,0.3343972861766815,0.2590029239654541,0.19610917568206787,0.2609456181526184,0.3013179898262024,0.24516363441944122,0.2555609941482544,0.2546555697917938,0.2745794951915741,0.3459082245826721,0.18738871812820435,0.3405984938144684,0.3269203007221222,0.24857640266418457,0.35423383116722107,0.2187041938304901,0.2653205394744873,0.2806611955165863,0.2506716251373291,0.18653854727745056,0.2600155472755432,0.2652378976345062,0.3799397647380829,0.3107411563396454,0.24746982753276825,0.17557711899280548,0.283807635307312,0.3222946226596832,0.17746058106422424,0.28245872259140015,0.3537518382072449,0.2651467025279999,0.30353692173957825,0.20953351259231567,0.26662150025367737,0.2798333168029785,0.19870129227638245,0.24112878739833832,0.3011685013771057,0.17500047385692596,0.2324378937482834,0.275322824716568,0.3410608768463135,0.2812640070915222,0.3124992549419403,0.3212801218032837,0.3081475794315338,0.31647613644599915,0.1805325150489807,0.21224668622016907,0.22036314010620117,0.2357962429523468,0.29502829909324646,0.29128527641296387,0.19654427468776703,0.31610143184661865,0.14902858436107635,0.3166927397251129,0.27701735496520996,0.32592150568962097,0.2693978250026703,0.23054349422454834,0.2286037802696228,0.25214141607284546,0.268907368183136,0.3000629246234894,0.27665621042251587,0.32138592004776,0.2655960023403168,0.3468795716762543,0.28475528955459595,0.2578883767127991,0.3178274929523468,0.20337912440299988,0.2651467025279999,0.32703331112861633,0.2718765437602997,0.1828031837940216,0.25719648599624634,0.21327175199985504,0.2621031403541565,0.25418105721473694,0.2535019814968109,0.2193070650100708,0.24388772249221802,0.273074209690094,0.2620682716369629,0.3149069547653198,0.30772706866264343,0.3269244134426117,0.3292177617549896,0.33029472827911377,0.19067761301994324,0.28639450669288635,0.22153355181217194,0.2500177025794983,0.3181673586368561,0.28972122073173523,0.2110223025083542,0.34830114245414734,0.24493266642093658,0.3092065751552582,0.22736302018165588,0.3741712272167206,0.1601315438747406,0.29523327946662903,0.21472099423408508,0.3398197591304779,0.3103250563144684,0.34442928433418274,0.19549578428268433,0.22207286953926086,0.22142294049263,0.26617366075515747,0.2618429362773895,0.16501125693321228,0.23500457406044006,0.2576768398284912,0.33764463663101196,0.25981658697128296,0.30135321617126465,0.28109726309776306,0.33445796370506287,0.25087103247642517,0.26893654465675354,0.2651796042919159,0.2904326319694519,0.23444223403930664,0.3303978741168976,0.17486558854579926,0.34391823410987854,0.26847609877586365,0.35662394762039185,0.19276581704616547,0.21772749722003937,0.2523501515388489,0.2873111963272095,0.28509366512298584,0.23325461149215698,0.3561338186264038,0.23159876465797424,0.22482310235500336,0.23891064524650574,0.29029354453086853,0.2930361032485962,0.2600155472755432,0.1766309291124344,0.33489808440208435,0.2570859491825104,0.2786124348640442,0.1885659545660019,0.19888758659362793,0.2454441487789154,0.24099817872047424,0.15482620894908905,0.2512897849082947,0.1980409026145935,0.28536519408226013,0.3252818286418915,0.29920265078544617,0.3530610203742981,0.23077315092086792,0.21633142232894897,0.32201361656188965,0.2756062150001526,0.230596661567688,0.25741586089134216,0.2633419930934906,0.2466849982738495,0.32368242740631104,0.2644224464893341,0.23135103285312653,0.2511460781097412,0.1901555061340332,0.24274268746376038,0.2718753218650818,0.3125913739204407,0.2327042818069458,0.2048519104719162,0.361889123916626,0.32546281814575195,0.1833122819662094,0.2048519104719162,0.2513880729675293,0.27367833256721497,0.27247515320777893,0.1898232251405716,0.23171883821487427,0.24682776629924774,0.3108249008655548,0.16074138879776,0.21798457205295563,0.221482515335083,0.24162021279335022,0.2592207193374634,0.2215375006198883,0.24338729679584503,0.21022433042526245,0.25371214747428894,0.17354851961135864,0.2653598189353943,0.20494359731674194,0.25124919414520264,0.19161027669906616,0.2812483608722687,0.3052836060523987,0.23091518878936768,0.24301882088184357,0.28478333353996277,0.23768694698810577,0.28019842505455017,0.19965673983097076,0.3080858886241913,0.22665810585021973,0.27506983280181885,0.2708366811275482,0.25170305371284485,0.23515041172504425,0.344058632850647,0.19671161472797394,0.2656296491622925,0.2970094084739685,0.26935985684394836,0.297656387090683,0.28234198689460754,0.25897711515426636,0.23375463485717773,0.22268804907798767,0.24474456906318665,0.23888424038887024,0.33195725083351135,0.19160936772823334,0.2360442578792572,0.22076845169067383,0.23587480187416077,0.18534880876541138,0.27665621042251587,0.20919375121593475,0.26790866255760193,0.2562023997306824,0.3003476560115814,0.21700850129127502,0.2999328672885895,0.23699632287025452,0.30669668316841125,0.21580342948436737,0.24054376780986786,0.3107898235321045,0.19341285526752472,0.3380246162414551,0.3429486155509949,0.3473093509674072,0.3131600320339203,0.23298782110214233,0.2328014373779297,0.1896192729473114,0.29435455799102783,0.23008106648921967,0.40504729747772217,0.25007951259613037,0.21570025384426117,0.2699348032474518,0.2128029763698578,0.23225799202919006,0.278042197227478,0.2522371709346771,0.2556425631046295,0.30224549770355225,0.30224549770355225,0.30224549770355225,0.24595390260219574,0.2940652370452881,0.2554865777492523,0.3365006446838379,0.19530586898326874,0.24297143518924713,0.1573028862476349,0.17672711610794067,0.28310689330101013,0.2352687269449234,0.2506486475467682,0.2664942741394043,0.2173779010772705,0.2664942741394043,0.2190752923488617,0.1550159454345703,0.19152267277240753,0.3434816300868988,0.29198604822158813,0.2190752923488617,0.23768694698810577,0.19367343187332153,0.2744078040122986,0.2881988286972046,0.2383093237876892,0.23002836108207703,0.17687056958675385,0.15409070253372192,0.22978322207927704,0.17674723267555237,0.26840803027153015,0.2304903119802475,0.33048731088638306,0.2770157754421234,0.32851138710975647,0.19486691057682037,0.344058632850647,0.28775519132614136,0.2511183023452759,0.19840657711029053,0.273074209690094,0.3561338186264038,0.21005746722221375],\"type\":\"histogram\"}],                        {\"template\":{\"data\":{\"histogram2dcontour\":[{\"type\":\"histogram2dcontour\",\"colorbar\":{\"outlinewidth\":0,\"ticks\":\"\"},\"colorscale\":[[0.0,\"#0d0887\"],[0.1111111111111111,\"#46039f\"],[0.2222222222222222,\"#7201a8\"],[0.3333333333333333,\"#9c179e\"],[0.4444444444444444,\"#bd3786\"],[0.5555555555555556,\"#d8576b\"],[0.6666666666666666,\"#ed7953\"],[0.7777777777777778,\"#fb9f3a\"],[0.8888888888888888,\"#fdca26\"],[1.0,\"#f0f921\"]]}],\"choropleth\":[{\"type\":\"choropleth\",\"colorbar\":{\"outlinewidth\":0,\"ticks\":\"\"}}],\"histogram2d\":[{\"type\":\"histogram2d\",\"colorbar\":{\"outlinewidth\":0,\"ticks\":\"\"},\"colorscale\":[[0.0,\"#0d0887\"],[0.1111111111111111,\"#46039f\"],[0.2222222222222222,\"#7201a8\"],[0.3333333333333333,\"#9c179e\"],[0.4444444444444444,\"#bd3786\"],[0.5555555555555556,\"#d8576b\"],[0.6666666666666666,\"#ed7953\"],[0.7777777777777778,\"#fb9f3a\"],[0.8888888888888888,\"#fdca26\"],[1.0,\"#f0f921\"]]}],\"heatmap\":[{\"type\":\"heatmap\",\"colorbar\":{\"outlinewidth\":0,\"ticks\":\"\"},\"colorscale\":[[0.0,\"#0d0887\"],[0.1111111111111111,\"#46039f\"],[0.2222222222222222,\"#7201a8\"],[0.3333333333333333,\"#9c179e\"],[0.4444444444444444,\"#bd3786\"],[0.5555555555555556,\"#d8576b\"],[0.6666666666666666,\"#ed7953\"],[0.7777777777777778,\"#fb9f3a\"],[0.8888888888888888,\"#fdca26\"],[1.0,\"#f0f921\"]]}],\"heatmapgl\":[{\"type\":\"heatmapgl\",\"colorbar\":{\"outlinewidth\":0,\"ticks\":\"\"},\"colorscale\":[[0.0,\"#0d0887\"],[0.1111111111111111,\"#46039f\"],[0.2222222222222222,\"#7201a8\"],[0.3333333333333333,\"#9c179e\"],[0.4444444444444444,\"#bd3786\"],[0.5555555555555556,\"#d8576b\"],[0.6666666666666666,\"#ed7953\"],[0.7777777777777778,\"#fb9f3a\"],[0.8888888888888888,\"#fdca26\"],[1.0,\"#f0f921\"]]}],\"contourcarpet\":[{\"type\":\"contourcarpet\",\"colorbar\":{\"outlinewidth\":0,\"ticks\":\"\"}}],\"contour\":[{\"type\":\"contour\",\"colorbar\":{\"outlinewidth\":0,\"ticks\":\"\"},\"colorscale\":[[0.0,\"#0d0887\"],[0.1111111111111111,\"#46039f\"],[0.2222222222222222,\"#7201a8\"],[0.3333333333333333,\"#9c179e\"],[0.4444444444444444,\"#bd3786\"],[0.5555555555555556,\"#d8576b\"],[0.6666666666666666,\"#ed7953\"],[0.7777777777777778,\"#fb9f3a\"],[0.8888888888888888,\"#fdca26\"],[1.0,\"#f0f921\"]]}],\"surface\":[{\"type\":\"surface\",\"colorbar\":{\"outlinewidth\":0,\"ticks\":\"\"},\"colorscale\":[[0.0,\"#0d0887\"],[0.1111111111111111,\"#46039f\"],[0.2222222222222222,\"#7201a8\"],[0.3333333333333333,\"#9c179e\"],[0.4444444444444444,\"#bd3786\"],[0.5555555555555556,\"#d8576b\"],[0.6666666666666666,\"#ed7953\"],[0.7777777777777778,\"#fb9f3a\"],[0.8888888888888888,\"#fdca26\"],[1.0,\"#f0f921\"]]}],\"mesh3d\":[{\"type\":\"mesh3d\",\"colorbar\":{\"outlinewidth\":0,\"ticks\":\"\"}}],\"scatter\":[{\"fillpattern\":{\"fillmode\":\"overlay\",\"size\":10,\"solidity\":0.2},\"type\":\"scatter\"}],\"parcoords\":[{\"type\":\"parcoords\",\"line\":{\"colorbar\":{\"outlinewidth\":0,\"ticks\":\"\"}}}],\"scatterpolargl\":[{\"type\":\"scatterpolargl\",\"marker\":{\"colorbar\":{\"outlinewidth\":0,\"ticks\":\"\"}}}],\"bar\":[{\"error_x\":{\"color\":\"#2a3f5f\"},\"error_y\":{\"color\":\"#2a3f5f\"},\"marker\":{\"line\":{\"color\":\"#E5ECF6\",\"width\":0.5},\"pattern\":{\"fillmode\":\"overlay\",\"size\":10,\"solidity\":0.2}},\"type\":\"bar\"}],\"scattergeo\":[{\"type\":\"scattergeo\",\"marker\":{\"colorbar\":{\"outlinewidth\":0,\"ticks\":\"\"}}}],\"scatterpolar\":[{\"type\":\"scatterpolar\",\"marker\":{\"colorbar\":{\"outlinewidth\":0,\"ticks\":\"\"}}}],\"histogram\":[{\"marker\":{\"pattern\":{\"fillmode\":\"overlay\",\"size\":10,\"solidity\":0.2}},\"type\":\"histogram\"}],\"scattergl\":[{\"type\":\"scattergl\",\"marker\":{\"colorbar\":{\"outlinewidth\":0,\"ticks\":\"\"}}}],\"scatter3d\":[{\"type\":\"scatter3d\",\"line\":{\"colorbar\":{\"outlinewidth\":0,\"ticks\":\"\"}},\"marker\":{\"colorbar\":{\"outlinewidth\":0,\"ticks\":\"\"}}}],\"scattermapbox\":[{\"type\":\"scattermapbox\",\"marker\":{\"colorbar\":{\"outlinewidth\":0,\"ticks\":\"\"}}}],\"scatterternary\":[{\"type\":\"scatterternary\",\"marker\":{\"colorbar\":{\"outlinewidth\":0,\"ticks\":\"\"}}}],\"scattercarpet\":[{\"type\":\"scattercarpet\",\"marker\":{\"colorbar\":{\"outlinewidth\":0,\"ticks\":\"\"}}}],\"carpet\":[{\"aaxis\":{\"endlinecolor\":\"#2a3f5f\",\"gridcolor\":\"white\",\"linecolor\":\"white\",\"minorgridcolor\":\"white\",\"startlinecolor\":\"#2a3f5f\"},\"baxis\":{\"endlinecolor\":\"#2a3f5f\",\"gridcolor\":\"white\",\"linecolor\":\"white\",\"minorgridcolor\":\"white\",\"startlinecolor\":\"#2a3f5f\"},\"type\":\"carpet\"}],\"table\":[{\"cells\":{\"fill\":{\"color\":\"#EBF0F8\"},\"line\":{\"color\":\"white\"}},\"header\":{\"fill\":{\"color\":\"#C8D4E3\"},\"line\":{\"color\":\"white\"}},\"type\":\"table\"}],\"barpolar\":[{\"marker\":{\"line\":{\"color\":\"#E5ECF6\",\"width\":0.5},\"pattern\":{\"fillmode\":\"overlay\",\"size\":10,\"solidity\":0.2}},\"type\":\"barpolar\"}],\"pie\":[{\"automargin\":true,\"type\":\"pie\"}]},\"layout\":{\"autotypenumbers\":\"strict\",\"colorway\":[\"#636efa\",\"#EF553B\",\"#00cc96\",\"#ab63fa\",\"#FFA15A\",\"#19d3f3\",\"#FF6692\",\"#B6E880\",\"#FF97FF\",\"#FECB52\"],\"font\":{\"color\":\"#2a3f5f\"},\"hovermode\":\"closest\",\"hoverlabel\":{\"align\":\"left\"},\"paper_bgcolor\":\"white\",\"plot_bgcolor\":\"#E5ECF6\",\"polar\":{\"bgcolor\":\"#E5ECF6\",\"angularaxis\":{\"gridcolor\":\"white\",\"linecolor\":\"white\",\"ticks\":\"\"},\"radialaxis\":{\"gridcolor\":\"white\",\"linecolor\":\"white\",\"ticks\":\"\"}},\"ternary\":{\"bgcolor\":\"#E5ECF6\",\"aaxis\":{\"gridcolor\":\"white\",\"linecolor\":\"white\",\"ticks\":\"\"},\"baxis\":{\"gridcolor\":\"white\",\"linecolor\":\"white\",\"ticks\":\"\"},\"caxis\":{\"gridcolor\":\"white\",\"linecolor\":\"white\",\"ticks\":\"\"}},\"coloraxis\":{\"colorbar\":{\"outlinewidth\":0,\"ticks\":\"\"}},\"colorscale\":{\"sequential\":[[0.0,\"#0d0887\"],[0.1111111111111111,\"#46039f\"],[0.2222222222222222,\"#7201a8\"],[0.3333333333333333,\"#9c179e\"],[0.4444444444444444,\"#bd3786\"],[0.5555555555555556,\"#d8576b\"],[0.6666666666666666,\"#ed7953\"],[0.7777777777777778,\"#fb9f3a\"],[0.8888888888888888,\"#fdca26\"],[1.0,\"#f0f921\"]],\"sequentialminus\":[[0.0,\"#0d0887\"],[0.1111111111111111,\"#46039f\"],[0.2222222222222222,\"#7201a8\"],[0.3333333333333333,\"#9c179e\"],[0.4444444444444444,\"#bd3786\"],[0.5555555555555556,\"#d8576b\"],[0.6666666666666666,\"#ed7953\"],[0.7777777777777778,\"#fb9f3a\"],[0.8888888888888888,\"#fdca26\"],[1.0,\"#f0f921\"]],\"diverging\":[[0,\"#8e0152\"],[0.1,\"#c51b7d\"],[0.2,\"#de77ae\"],[0.3,\"#f1b6da\"],[0.4,\"#fde0ef\"],[0.5,\"#f7f7f7\"],[0.6,\"#e6f5d0\"],[0.7,\"#b8e186\"],[0.8,\"#7fbc41\"],[0.9,\"#4d9221\"],[1,\"#276419\"]]},\"xaxis\":{\"gridcolor\":\"white\",\"linecolor\":\"white\",\"ticks\":\"\",\"title\":{\"standoff\":15},\"zerolinecolor\":\"white\",\"automargin\":true,\"zerolinewidth\":2},\"yaxis\":{\"gridcolor\":\"white\",\"linecolor\":\"white\",\"ticks\":\"\",\"title\":{\"standoff\":15},\"zerolinecolor\":\"white\",\"automargin\":true,\"zerolinewidth\":2},\"scene\":{\"xaxis\":{\"backgroundcolor\":\"#E5ECF6\",\"gridcolor\":\"white\",\"linecolor\":\"white\",\"showbackground\":true,\"ticks\":\"\",\"zerolinecolor\":\"white\",\"gridwidth\":2},\"yaxis\":{\"backgroundcolor\":\"#E5ECF6\",\"gridcolor\":\"white\",\"linecolor\":\"white\",\"showbackground\":true,\"ticks\":\"\",\"zerolinecolor\":\"white\",\"gridwidth\":2},\"zaxis\":{\"backgroundcolor\":\"#E5ECF6\",\"gridcolor\":\"white\",\"linecolor\":\"white\",\"showbackground\":true,\"ticks\":\"\",\"zerolinecolor\":\"white\",\"gridwidth\":2}},\"shapedefaults\":{\"line\":{\"color\":\"#2a3f5f\"}},\"annotationdefaults\":{\"arrowcolor\":\"#2a3f5f\",\"arrowhead\":0,\"arrowwidth\":1},\"geo\":{\"bgcolor\":\"white\",\"landcolor\":\"#E5ECF6\",\"subunitcolor\":\"white\",\"showland\":true,\"showlakes\":true,\"lakecolor\":\"white\"},\"title\":{\"x\":0.05},\"mapbox\":{\"style\":\"light\"}}},\"title\":{\"text\":\"Distribution of Nuclear Norm of Node Explain Matrix\"},\"xaxis\":{\"title\":{\"text\":\"Nuclear Norm\"}},\"yaxis\":{\"title\":{\"text\":\"Frequency\"}},\"font\":{\"size\":20},\"paper_bgcolor\":\"white\",\"plot_bgcolor\":\"white\"},                        {\"responsive\": true}                    ).then(function(){\n",
       "                            \n",
       "var gd = document.getElementById('15d0a5eb-0847-48ac-9aab-49c12bd43dae');\n",
       "var x = new MutationObserver(function (mutations, observer) {{\n",
       "        var display = window.getComputedStyle(gd).display;\n",
       "        if (!display || display === 'none') {{\n",
       "            console.log([gd, 'removed!']);\n",
       "            Plotly.purge(gd);\n",
       "            observer.disconnect();\n",
       "        }}\n",
       "}});\n",
       "\n",
       "// Listen for the removal of the full notebook cells\n",
       "var notebookContainer = gd.closest('#notebook-container');\n",
       "if (notebookContainer) {{\n",
       "    x.observe(notebookContainer, {childList: true});\n",
       "}}\n",
       "\n",
       "// Listen for the clearing of the current output cell\n",
       "var outputEl = gd.closest('.output');\n",
       "if (outputEl) {{\n",
       "    x.observe(outputEl, {childList: true});\n",
       "}}\n",
       "\n",
       "                        })                };                });            </script>        </div>"
      ]
     },
     "metadata": {},
     "output_type": "display_data"
    }
   ],
   "source": [
    "fig = go.Figure()\n",
    "\n",
    "fig.add_trace(go.Histogram(x = norm_og, \n",
    "                           name = 'GMI'))\n",
    "fig.add_trace(go.Histogram(x = norm_plus, \n",
    "                           name = 'GMI+XM'))\n",
    "\n",
    "\n",
    "fig.update_layout(title_text = 'Distribution of Nuclear Norm of Node Explain Matrix', \n",
    "                  xaxis_title_text = 'Nuclear Norm', \n",
    "                  yaxis_title_text = 'Frequency', \n",
    "                  paper_bgcolor = 'white', \n",
    "                  plot_bgcolor = 'white', \n",
    "                  font = dict(size = 20))\n",
    "fig.show()"
   ]
  },
  {
   "cell_type": "code",
   "execution_count": null,
   "id": "48fcfacb",
   "metadata": {},
   "outputs": [],
   "source": []
  }
 ],
 "metadata": {
  "kernelspec": {
   "display_name": "Python 3 (ipykernel)",
   "language": "python",
   "name": "python3"
  },
  "language_info": {
   "codemirror_mode": {
    "name": "ipython",
    "version": 3
   },
   "file_extension": ".py",
   "mimetype": "text/x-python",
   "name": "python",
   "nbconvert_exporter": "python",
   "pygments_lexer": "ipython3",
   "version": "3.10.8"
  },
  "toc": {
   "base_numbering": 1,
   "nav_menu": {},
   "number_sections": true,
   "sideBar": true,
   "skip_h1_title": false,
   "title_cell": "Table of Contents",
   "title_sidebar": "Contents",
   "toc_cell": false,
   "toc_position": {},
   "toc_section_display": true,
   "toc_window_display": false
  }
 },
 "nbformat": 4,
 "nbformat_minor": 5
}
