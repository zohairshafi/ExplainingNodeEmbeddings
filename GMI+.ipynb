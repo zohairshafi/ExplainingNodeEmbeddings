{
 "cells": [
  {
   "cell_type": "markdown",
   "id": "d72f27a9",
   "metadata": {},
   "source": [
    "### Imports"
   ]
  },
  {
   "cell_type": "code",
   "execution_count": 1,
   "id": "46301356",
   "metadata": {},
   "outputs": [
    {
     "name": "stderr",
     "output_type": "stream",
     "text": [
      "/Users/zohairshafi/miniforge3/lib/python3.10/site-packages/tqdm/auto.py:22: TqdmWarning: IProgress not found. Please update jupyter and ipywidgets. See https://ipywidgets.readthedocs.io/en/stable/user_install.html\n",
      "  from .autonotebook import tqdm as notebook_tqdm\n"
     ]
    }
   ],
   "source": [
    "import numpy as np\n",
    "import scipy.sparse as sp\n",
    "import torch\n",
    "import torch.nn as nn\n",
    "import pickle as pkl\n",
    "import networkx as nx\n",
    "\n",
    "from tqdm import tqdm\n",
    "\n",
    "from tensorflow.keras.optimizers import Adam, Nadam\n",
    "from scripts.utils import *\n",
    "\n",
    "from GMI.models import GMI, LogReg\n",
    "from GMI.utils import process\n"
   ]
  },
  {
   "cell_type": "markdown",
   "id": "c1c32f3f",
   "metadata": {},
   "source": [
    "### Class Definitions"
   ]
  },
  {
   "cell_type": "code",
   "execution_count": 2,
   "id": "1114e0af",
   "metadata": {},
   "outputs": [],
   "source": [
    "class BaseEmbedder:\n",
    "    def __init__(self, graph, embed_shape = (128,)):\n",
    "        self.embed(graph)\n",
    "        self.E = list(graph.edges())\n",
    "        self.graph = graph\n",
    "        self.embed_shape = embed_shape\n",
    "    \n",
    "    def embed(self, graph):\n",
    "        raise NotImplementedError\n",
    "    \n",
    "    def get_embedding(self):\n",
    "        raise NotImplementedError\n",
    "        "
   ]
  },
  {
   "cell_type": "code",
   "execution_count": 3,
   "id": "1c7379ff",
   "metadata": {},
   "outputs": [],
   "source": [
    "class GMIEmbedding(BaseEmbedder):\n",
    "    def __init__(self, embed_dim = 64, graph = None, feature_matrix = None, use_xm = False, debug = False, batch_size = 1, nb_epochs = 500, patience = 20, ortho_ = 0.1, sparse_ = 0.1, lr = 1e-3, l2_coef = 0.0, drop_prob = 0.0, sparse = True, nonlinearity = 'prelu', alpha = 0.8, beta = 1.0, gamma = 1.0, negative_num = 5, epoch_flag = 20, model_name = 'test'):\n",
    "\n",
    "        self.embed_dim = embed_dim\n",
    "        self.debug = debug\n",
    "        \n",
    "        # Training Params\n",
    "        self.graph = graph\n",
    "        self.batch_size = batch_size\n",
    "        self.nb_epochs = nb_epochs\n",
    "        self.patience = patience\n",
    "        self.lr = lr\n",
    "        self.l2_coef = l2_coef\n",
    "        self.feature_matrix = feature_matrix\n",
    "        self.drop_prob = drop_prob\n",
    "        self.hid_units = embed_dim\n",
    "        self.sparse = sparse\n",
    "        self.nonlinearity = nonlinearity\n",
    "        self.use_xm = use_xm\n",
    "        self.ortho_ = ortho_\n",
    "        self.sparse_ = sparse_\n",
    "        self.alpha = alpha\n",
    "        self.beta = beta\n",
    "        self.gamma = gamma\n",
    "        self.negative_num = negative_num\n",
    "        self.epoch_flag = epoch_flag\n",
    "        self.model_name = model_name\n",
    "        \n",
    "        self.time_per_epoch = None\n",
    "        \n",
    "        if graph is not None:\n",
    "            self.embed()\n",
    "        else:\n",
    "            self.graph = None\n",
    "    \n",
    "    def embed(self):\n",
    "\n",
    "        ####\n",
    "        if self.feature_matrix is None:\n",
    "            feature_matrix = np.identity(len(self.graph))\n",
    "        else: \n",
    "            feature_matrix = self.feature_matrix\n",
    "\n",
    "        adj_ori = nx.to_scipy_sparse_array(graph)\n",
    "        features = sp.lil_matrix(feature_matrix)\n",
    "        features, _ = process.preprocess_features(features)\n",
    "\n",
    "        nb_nodes = features.shape[0]\n",
    "        ft_size = features.shape[1]\n",
    "        \n",
    "        adj = process.normalize_adj(adj_ori + sp.eye(adj_ori.shape[0]))\n",
    "\n",
    "        if self.sparse:\n",
    "            sp_adj = process.sparse_mx_to_torch_sparse_tensor(adj)\n",
    "        else:\n",
    "            adj = (adj + sp.eye(adj.shape[0])).todense()\n",
    "\n",
    "        features = torch.FloatTensor(features[np.newaxis])\n",
    "        if not self.sparse:\n",
    "            adj = torch.FloatTensor(adj[np.newaxis])\n",
    "\n",
    "        if self.feature_matrix is not None: \n",
    "            sense_features = torch.FloatTensor(self.feature_matrix)\n",
    "\n",
    "        model = GMI(ft_size, self.hid_units, self.nonlinearity)\n",
    "        optimiser = torch.optim.Adam(model.parameters(), lr = self.lr, weight_decay = self.l2_coef)\n",
    "        \n",
    "        if self.use_xm:\n",
    "             model.load_state_dict(torch.load(self.model_name + '.pkl'))\n",
    "        \n",
    "        if torch.cuda.is_available():\n",
    "            model.cuda()\n",
    "            features = features.cuda()\n",
    "            sp_adj = sp_adj.cuda()\n",
    "            \n",
    "        b_xent = nn.BCEWithLogitsLoss()\n",
    "        xent = nn.CrossEntropyLoss()\n",
    "        cnt_wait = 0\n",
    "        best = 1e9\n",
    "        best_t = 0\n",
    "        \n",
    "        \n",
    "        adj_dense = adj_ori.toarray()\n",
    "        adj_target = adj_dense + np.eye(adj_dense.shape[0])\n",
    "        adj_row_avg = 1.0 / np.sum(adj_dense, axis = 1)\n",
    "        adj_row_avg[np.isnan(adj_row_avg)] = 0.0\n",
    "        adj_row_avg[np.isinf(adj_row_avg)] = 0.0\n",
    "        adj_dense = adj_dense * 1.0\n",
    "        \n",
    "        for i in range(adj_ori.shape[0]):\n",
    "            adj_dense[i] = adj_dense[i] * adj_row_avg[i]\n",
    "        adj_ori = sp.csr_matrix(adj_dense, dtype = np.float32)\n",
    "        \n",
    "        start_time = time.time()\n",
    "        for epoch in tqdm(range(self.nb_epochs)):\n",
    "            model.train()\n",
    "            optimiser.zero_grad()\n",
    "            \n",
    "            res = model(features, adj_ori, self.negative_num, sp_adj, None, None) \n",
    "            \n",
    "            if self.use_xm == True and feature_matrix is not None:\n",
    "                \n",
    "                start_idx = 0\n",
    "                loop = True\n",
    "                \n",
    "                ortho_loss = 0\n",
    "                sparse_loss = 0\n",
    "                xm_batch_size = 128\n",
    "                \n",
    "                sf = sense_features\n",
    "                embeds = model.embed(features, sp_adj)\n",
    "                                \n",
    "                while loop:\n",
    "                    end_idx = start_idx + xm_batch_size\n",
    "                    if end_idx > len(self.graph):\n",
    "                        loop = False\n",
    "                        end_idx = len(self.graph)\n",
    "                                            \n",
    "                    sf = sense_features[start_idx : end_idx]\n",
    "                    embeds_ = torch.squeeze(embeds)[start_idx : end_idx]\n",
    "                    \n",
    "                    \n",
    "                    sense_mat = torch.einsum('ij, ik -> ijk', embeds_, sf)\n",
    "                    E = sense_mat\n",
    "                    y_norm = torch.diagonal(torch.matmul(embeds_, torch.transpose(embeds_, 0, 1)))\n",
    "                    sense_norm = torch.diagonal(torch.matmul(sf, torch.transpose(sf, 0, 1)))\n",
    "                    norm = torch.multiply(y_norm, sense_norm)\n",
    "                    E = torch.transpose(torch.transpose(E, 0, 2) / norm, 0, 2)\n",
    "                    E = (E - torch.amin(E, dim = [-1, -2], keepdim = True)) / (torch.amax(E, dim = [-1, -2], keepdim = True) - torch.amin(E, dim = [-1, -2], keepdim = True))\n",
    "                    \n",
    "                    E_t = torch.transpose(E, 1, 2)\n",
    "                    \n",
    "                    E_o = torch.einsum('aij, ajh -> aih', E, E_t)\n",
    "                    E_o = torch.sum(E_o)\n",
    "                    batch_ortho_loss = (self.ortho_ * E_o) / self.batch_size\n",
    "\n",
    "                    batch_sparse_loss = (self.sparse_ * torch.sum(torch.linalg.norm(E, ord = 1, axis = 0))) / self.batch_size\n",
    "                        \n",
    "                    ortho_loss += batch_ortho_loss\n",
    "                    sparse_loss += batch_sparse_loss\n",
    "                    \n",
    "                    start_idx = end_idx\n",
    "                    \n",
    "                loss = self.alpha * process.mi_loss_jsd(res[0], res[1]) +\\\n",
    "                       self.beta * process.mi_loss_jsd(res[2], res[3]) +\\\n",
    "                       self.gamma * process.reconstruct_loss(res[4], adj_target) +\\\n",
    "                       ortho_loss +\\\n",
    "                       sparse_loss\n",
    "            else:\n",
    "                loss = self.alpha * process.mi_loss_jsd(res[0], res[1]) +\\\n",
    "                       self.beta * process.mi_loss_jsd(res[2], res[3]) +\\\n",
    "                       self.gamma * process.reconstruct_loss(res[4], adj_target)\n",
    "\n",
    "\n",
    "            if self.debug:\n",
    "                print('Loss:', loss)\n",
    "\n",
    "            if loss < best:\n",
    "                best = loss\n",
    "                best_t = epoch\n",
    "                cnt_wait = 0\n",
    "                torch.save(model.state_dict(), self.model_name + '.pkl')\n",
    "            else:\n",
    "                cnt_wait += 1\n",
    "\n",
    "            if cnt_wait == self.epoch_flag:\n",
    "                print('Early stopping!')\n",
    "                break\n",
    "\n",
    "            loss.backward()\n",
    "            optimiser.step()\n",
    "            \n",
    "        self.time_per_epoch = (time.time() - start_time) / epoch\n",
    "\n",
    "        if self.debug: \n",
    "            print('Loading {}th epoch'.format(best_t))\n",
    "            \n",
    "        model.load_state_dict(torch.load(self.model_name + '.pkl'))\n",
    "\n",
    "        embeds = model.embed(features, sp_adj)\n",
    "        self.embeddings = embeds\n",
    "    \n",
    "    def get_embedding(self):\n",
    "        return np.squeeze(self.embeddings.numpy())\n",
    "    "
   ]
  },
  {
   "cell_type": "code",
   "execution_count": 16,
   "id": "78d02a5a",
   "metadata": {},
   "outputs": [
    {
     "name": "stdout",
     "output_type": "stream",
     "text": [
      "Calculating Personalized Page Rank...                     \r"
     ]
    },
    {
     "name": "stderr",
     "output_type": "stream",
     "text": [
      "1186it [00:40, 28.95it/s]\n"
     ]
    },
    {
     "name": "stdout",
     "output_type": "stream",
     "text": [
      "Done                                                      \r"
     ]
    },
    {
     "name": "stderr",
     "output_type": "stream",
     "text": [
      "/Users/zohairshafi/miniforge3/lib/python3.10/site-packages/networkx/algorithms/centrality/katz.py:325: FutureWarning:\n",
      "\n",
      "adjacency_matrix will return a scipy.sparse array instead of a matrix in Networkx 3.0.\n",
      "\n"
     ]
    }
   ],
   "source": [
    "with open('./data/usa_airport.pkl', 'rb') as file: \n",
    "    graph_dict = pkl.load(file)\n",
    "    \n",
    "graph = nx.Graph(nx.to_numpy_array(graph_dict['graph']))    \n",
    "graph = nx.Graph(nx.to_numpy_array(graph))\n",
    "\n",
    "\n",
    "sense_feat_dict, sense_features = get_sense_features(graph, ppr_flag = 'std')\n"
   ]
  },
  {
   "cell_type": "code",
   "execution_count": 17,
   "id": "adf6b460",
   "metadata": {},
   "outputs": [],
   "source": [
    "uncorrelated_feats = ['Degree',\n",
    "                    'Clustering Coefficient',\n",
    "                    'Personalized Page Rank - Standard Deviation',\n",
    "                    'Average Neighbor Degree',\n",
    "                    'Average Neighbor Clustering',\n",
    "                    'Eccentricity',\n",
    "                    'Katz Centrality']\n",
    "sense_features = sense_features[:, [list(sense_feat_dict).index(feat) for feat in uncorrelated_feats]]\n",
    "sense_feat_dict = {feat : idx for idx, feat in enumerate(uncorrelated_feats)}"
   ]
  },
  {
   "cell_type": "code",
   "execution_count": 24,
   "id": "e44dc280",
   "metadata": {
    "scrolled": true
   },
   "outputs": [
    {
     "name": "stderr",
     "output_type": "stream",
     "text": [
      "100%|█████████████████████████████████████████| 500/500 [00:28<00:00, 17.66it/s]\n",
      " 67%|███████████████████████████▋             | 337/500 [00:26<00:12, 12.95it/s]\n"
     ]
    },
    {
     "name": "stdout",
     "output_type": "stream",
     "text": [
      "Early stopping!\n"
     ]
    }
   ],
   "source": [
    "gmi_og = GMIEmbedding(graph = graph, \n",
    "           embed_dim = 64, \n",
    "           feature_matrix = sense_features, \n",
    "           use_xm = False, \n",
    "           ortho_ = 0, \n",
    "           sparse_ = 0, \n",
    "           batch_size = 1)\n",
    "embed_og = gmi_og.get_embedding()\n",
    "embed_og = (embed_og - np.min(embed_og)) / np.ptp(embed_og)\n",
    "feature_dict_og = find_feature_membership(input_embed = embed_og,\n",
    "                                                    embed_name = 'GMI-SF',\n",
    "                                                    sense_features = sense_features,\n",
    "                                                    sense_feat_dict = sense_feat_dict,\n",
    "                                                    top_k = 8,\n",
    "                                                    solver = 'nmf')\n",
    "\n",
    "explain_og = feature_dict_og['explain_norm']\n",
    "error_og = sense_features * np.log((sense_features + 1e-10) / ((embed_og @ feature_dict_og['explain_norm']) + 1e-10)) - sense_features + (embed_og @ feature_dict_og['explain_norm'])\n",
    "explain_og = (explain_og - np.min(explain_og)) / np.ptp(explain_og)\n",
    "\n",
    "\n",
    "gmi_plus = GMIEmbedding(graph = graph, \n",
    "           embed_dim = 64, \n",
    "           feature_matrix = sense_features, \n",
    "           use_xm = True, \n",
    "           alpha = 0.08, \n",
    "           beta = 1, \n",
    "           gamma = 1,\n",
    "           ortho_ = 10, \n",
    "           sparse_ = 10, \n",
    "           batch_size = 1, \n",
    "           epoch_flag = 100)\n",
    "embed_plus = gmi_plus.get_embedding()\n",
    "embed_plus = (embed_plus - np.min(embed_plus)) / np.ptp(embed_plus)\n",
    "feature_dict_plus = find_feature_membership(input_embed = embed_plus,\n",
    "                                                    embed_name = 'GMI+XM',\n",
    "                                                    sense_features = sense_features,\n",
    "                                                    sense_feat_dict = sense_feat_dict,\n",
    "                                                    top_k = 8,\n",
    "                                                    solver = 'nmf')\n",
    "\n",
    "explain_plus = feature_dict_plus['explain_norm']\n",
    "error_plus = sense_features * np.log((sense_features + 1e-10) / ((embed_plus @ feature_dict_plus['explain_norm']) + 1e-10)) - sense_features + (embed_plus @ feature_dict_plus['explain_norm'])\n",
    "explain_plus = (explain_plus - np.min(explain_plus)) / np.ptp(explain_plus)"
   ]
  },
  {
   "cell_type": "code",
   "execution_count": 25,
   "id": "a1462e6b",
   "metadata": {},
   "outputs": [
    {
     "data": {
      "application/vnd.plotly.v1+json": {
       "config": {
        "plotlyServerURL": "https://plot.ly"
       },
       "data": [
        {
         "type": "heatmap",
         "x": [
          "Degree",
          "Clustering Coefficient",
          "Personalized Page Rank - Standard Deviation",
          "Average Neighbor Degree",
          "Average Neighbor Clustering",
          "Eccentricity",
          "Katz Centrality"
         ],
         "z": [
          [
           0,
           0,
           0,
           0,
           0,
           0,
           0
          ],
          [
           0,
           0,
           0,
           0,
           0,
           0,
           0
          ],
          [
           0,
           0,
           0,
           0,
           0,
           0,
           0
          ],
          [
           0,
           0,
           0,
           0,
           0,
           0,
           0
          ],
          [
           0,
           0,
           0,
           0,
           0,
           0,
           0
          ],
          [
           0,
           0,
           0,
           0,
           0,
           0,
           0
          ],
          [
           0,
           0,
           0,
           0,
           0,
           0,
           0
          ],
          [
           0,
           0,
           0,
           0,
           0,
           0,
           0
          ],
          [
           0,
           0,
           0,
           0,
           0,
           0,
           0
          ],
          [
           0,
           0,
           0,
           0,
           0,
           0,
           0
          ],
          [
           0,
           0,
           0,
           0,
           0,
           0,
           0
          ],
          [
           0,
           0,
           0,
           0,
           0,
           0,
           0
          ],
          [
           0,
           0,
           0,
           0,
           0,
           0,
           0
          ],
          [
           0,
           0,
           0,
           0,
           0,
           0,
           0.4422015845775604
          ],
          [
           0,
           0,
           0,
           0,
           0,
           0,
           0
          ],
          [
           0,
           0,
           0,
           0,
           0,
           0,
           0
          ],
          [
           0,
           0,
           0,
           0,
           0,
           0,
           0
          ],
          [
           0,
           0,
           0,
           0,
           0,
           0,
           0
          ],
          [
           0,
           0,
           0,
           0,
           0,
           0,
           0
          ],
          [
           0,
           0,
           0,
           0,
           0,
           0,
           0
          ],
          [
           0,
           0,
           0,
           0,
           0,
           0,
           0
          ],
          [
           0,
           0,
           0,
           0,
           0,
           0,
           0
          ],
          [
           0,
           0,
           0,
           0,
           0,
           0,
           0
          ],
          [
           0,
           0,
           0,
           0,
           0,
           0,
           0
          ],
          [
           0,
           0,
           0,
           0,
           0,
           0,
           0.0023504511918872595
          ],
          [
           0,
           0,
           0,
           0,
           0,
           0,
           0
          ],
          [
           1,
           0,
           0,
           0,
           0,
           0,
           0
          ],
          [
           0,
           0,
           0,
           0,
           0,
           0.9075844287872314,
           0.020492035895586014
          ],
          [
           0,
           0,
           0,
           0,
           0.4800482988357544,
           0,
           0
          ],
          [
           0,
           0,
           0,
           0,
           0,
           0,
           0.11952555179595947
          ],
          [
           0,
           0,
           0,
           0,
           0,
           0,
           0
          ],
          [
           0,
           0,
           0,
           0,
           0,
           0,
           0
          ],
          [
           0,
           0,
           0,
           0,
           0,
           0,
           0
          ],
          [
           0,
           0,
           0.8974440097808838,
           0,
           0,
           0,
           0.2502422630786896
          ],
          [
           0,
           0,
           0,
           0,
           0,
           0,
           0
          ],
          [
           0,
           0,
           0,
           0,
           0,
           0,
           0
          ],
          [
           0,
           0.902743399143219,
           0,
           0,
           0.37836992740631104,
           0,
           0
          ],
          [
           0,
           0,
           0,
           0,
           0,
           0,
           0
          ],
          [
           0,
           0,
           0,
           0,
           0,
           0,
           0
          ],
          [
           0,
           0,
           0,
           0,
           0,
           0,
           0
          ],
          [
           0,
           0,
           0,
           0,
           0,
           0,
           0
          ],
          [
           0,
           0,
           0,
           0,
           0,
           0,
           0
          ],
          [
           0,
           0,
           0,
           0,
           0,
           0,
           0
          ],
          [
           0,
           0,
           0,
           0,
           0,
           0,
           0
          ],
          [
           0,
           0,
           0,
           0,
           0,
           0,
           0
          ],
          [
           0,
           0,
           0,
           0,
           0,
           0,
           0
          ],
          [
           0,
           0,
           0,
           0,
           0,
           0,
           0
          ],
          [
           0,
           0,
           0,
           0,
           0,
           0,
           0
          ],
          [
           0,
           0,
           0,
           0,
           0,
           0,
           0
          ],
          [
           0,
           0,
           0,
           0,
           0,
           0,
           0.01165628619492054
          ],
          [
           0,
           0,
           0,
           0.32987678050994873,
           0,
           0,
           0
          ],
          [
           0,
           0,
           0,
           0,
           0,
           0,
           0
          ],
          [
           0,
           0,
           0,
           0,
           0,
           0,
           0
          ],
          [
           0,
           0,
           0,
           0,
           0,
           0,
           0
          ],
          [
           0,
           0,
           0,
           0,
           0,
           0,
           0
          ],
          [
           0,
           0,
           0,
           0,
           0,
           0,
           0
          ],
          [
           0,
           0,
           0,
           0,
           0,
           0,
           0
          ],
          [
           0,
           0,
           0,
           0.5424098968505859,
           0,
           0,
           0
          ],
          [
           0,
           0,
           0,
           0,
           0,
           0,
           0
          ],
          [
           0,
           0,
           0,
           0,
           0,
           0,
           0
          ],
          [
           0,
           0,
           0,
           0,
           0,
           0,
           0
          ],
          [
           0,
           0,
           0,
           0,
           0,
           0,
           0
          ],
          [
           0,
           0,
           0,
           0,
           0,
           0,
           0
          ],
          [
           0,
           0,
           0,
           0,
           0,
           0,
           0
          ]
         ]
        }
       ],
       "layout": {
        "template": {
         "data": {
          "bar": [
           {
            "error_x": {
             "color": "#2a3f5f"
            },
            "error_y": {
             "color": "#2a3f5f"
            },
            "marker": {
             "line": {
              "color": "#E5ECF6",
              "width": 0.5
             },
             "pattern": {
              "fillmode": "overlay",
              "size": 10,
              "solidity": 0.2
             }
            },
            "type": "bar"
           }
          ],
          "barpolar": [
           {
            "marker": {
             "line": {
              "color": "#E5ECF6",
              "width": 0.5
             },
             "pattern": {
              "fillmode": "overlay",
              "size": 10,
              "solidity": 0.2
             }
            },
            "type": "barpolar"
           }
          ],
          "carpet": [
           {
            "aaxis": {
             "endlinecolor": "#2a3f5f",
             "gridcolor": "white",
             "linecolor": "white",
             "minorgridcolor": "white",
             "startlinecolor": "#2a3f5f"
            },
            "baxis": {
             "endlinecolor": "#2a3f5f",
             "gridcolor": "white",
             "linecolor": "white",
             "minorgridcolor": "white",
             "startlinecolor": "#2a3f5f"
            },
            "type": "carpet"
           }
          ],
          "choropleth": [
           {
            "colorbar": {
             "outlinewidth": 0,
             "ticks": ""
            },
            "type": "choropleth"
           }
          ],
          "contour": [
           {
            "colorbar": {
             "outlinewidth": 0,
             "ticks": ""
            },
            "colorscale": [
             [
              0,
              "#0d0887"
             ],
             [
              0.1111111111111111,
              "#46039f"
             ],
             [
              0.2222222222222222,
              "#7201a8"
             ],
             [
              0.3333333333333333,
              "#9c179e"
             ],
             [
              0.4444444444444444,
              "#bd3786"
             ],
             [
              0.5555555555555556,
              "#d8576b"
             ],
             [
              0.6666666666666666,
              "#ed7953"
             ],
             [
              0.7777777777777778,
              "#fb9f3a"
             ],
             [
              0.8888888888888888,
              "#fdca26"
             ],
             [
              1,
              "#f0f921"
             ]
            ],
            "type": "contour"
           }
          ],
          "contourcarpet": [
           {
            "colorbar": {
             "outlinewidth": 0,
             "ticks": ""
            },
            "type": "contourcarpet"
           }
          ],
          "heatmap": [
           {
            "colorbar": {
             "outlinewidth": 0,
             "ticks": ""
            },
            "colorscale": [
             [
              0,
              "#0d0887"
             ],
             [
              0.1111111111111111,
              "#46039f"
             ],
             [
              0.2222222222222222,
              "#7201a8"
             ],
             [
              0.3333333333333333,
              "#9c179e"
             ],
             [
              0.4444444444444444,
              "#bd3786"
             ],
             [
              0.5555555555555556,
              "#d8576b"
             ],
             [
              0.6666666666666666,
              "#ed7953"
             ],
             [
              0.7777777777777778,
              "#fb9f3a"
             ],
             [
              0.8888888888888888,
              "#fdca26"
             ],
             [
              1,
              "#f0f921"
             ]
            ],
            "type": "heatmap"
           }
          ],
          "heatmapgl": [
           {
            "colorbar": {
             "outlinewidth": 0,
             "ticks": ""
            },
            "colorscale": [
             [
              0,
              "#0d0887"
             ],
             [
              0.1111111111111111,
              "#46039f"
             ],
             [
              0.2222222222222222,
              "#7201a8"
             ],
             [
              0.3333333333333333,
              "#9c179e"
             ],
             [
              0.4444444444444444,
              "#bd3786"
             ],
             [
              0.5555555555555556,
              "#d8576b"
             ],
             [
              0.6666666666666666,
              "#ed7953"
             ],
             [
              0.7777777777777778,
              "#fb9f3a"
             ],
             [
              0.8888888888888888,
              "#fdca26"
             ],
             [
              1,
              "#f0f921"
             ]
            ],
            "type": "heatmapgl"
           }
          ],
          "histogram": [
           {
            "marker": {
             "pattern": {
              "fillmode": "overlay",
              "size": 10,
              "solidity": 0.2
             }
            },
            "type": "histogram"
           }
          ],
          "histogram2d": [
           {
            "colorbar": {
             "outlinewidth": 0,
             "ticks": ""
            },
            "colorscale": [
             [
              0,
              "#0d0887"
             ],
             [
              0.1111111111111111,
              "#46039f"
             ],
             [
              0.2222222222222222,
              "#7201a8"
             ],
             [
              0.3333333333333333,
              "#9c179e"
             ],
             [
              0.4444444444444444,
              "#bd3786"
             ],
             [
              0.5555555555555556,
              "#d8576b"
             ],
             [
              0.6666666666666666,
              "#ed7953"
             ],
             [
              0.7777777777777778,
              "#fb9f3a"
             ],
             [
              0.8888888888888888,
              "#fdca26"
             ],
             [
              1,
              "#f0f921"
             ]
            ],
            "type": "histogram2d"
           }
          ],
          "histogram2dcontour": [
           {
            "colorbar": {
             "outlinewidth": 0,
             "ticks": ""
            },
            "colorscale": [
             [
              0,
              "#0d0887"
             ],
             [
              0.1111111111111111,
              "#46039f"
             ],
             [
              0.2222222222222222,
              "#7201a8"
             ],
             [
              0.3333333333333333,
              "#9c179e"
             ],
             [
              0.4444444444444444,
              "#bd3786"
             ],
             [
              0.5555555555555556,
              "#d8576b"
             ],
             [
              0.6666666666666666,
              "#ed7953"
             ],
             [
              0.7777777777777778,
              "#fb9f3a"
             ],
             [
              0.8888888888888888,
              "#fdca26"
             ],
             [
              1,
              "#f0f921"
             ]
            ],
            "type": "histogram2dcontour"
           }
          ],
          "mesh3d": [
           {
            "colorbar": {
             "outlinewidth": 0,
             "ticks": ""
            },
            "type": "mesh3d"
           }
          ],
          "parcoords": [
           {
            "line": {
             "colorbar": {
              "outlinewidth": 0,
              "ticks": ""
             }
            },
            "type": "parcoords"
           }
          ],
          "pie": [
           {
            "automargin": true,
            "type": "pie"
           }
          ],
          "scatter": [
           {
            "fillpattern": {
             "fillmode": "overlay",
             "size": 10,
             "solidity": 0.2
            },
            "type": "scatter"
           }
          ],
          "scatter3d": [
           {
            "line": {
             "colorbar": {
              "outlinewidth": 0,
              "ticks": ""
             }
            },
            "marker": {
             "colorbar": {
              "outlinewidth": 0,
              "ticks": ""
             }
            },
            "type": "scatter3d"
           }
          ],
          "scattercarpet": [
           {
            "marker": {
             "colorbar": {
              "outlinewidth": 0,
              "ticks": ""
             }
            },
            "type": "scattercarpet"
           }
          ],
          "scattergeo": [
           {
            "marker": {
             "colorbar": {
              "outlinewidth": 0,
              "ticks": ""
             }
            },
            "type": "scattergeo"
           }
          ],
          "scattergl": [
           {
            "marker": {
             "colorbar": {
              "outlinewidth": 0,
              "ticks": ""
             }
            },
            "type": "scattergl"
           }
          ],
          "scattermapbox": [
           {
            "marker": {
             "colorbar": {
              "outlinewidth": 0,
              "ticks": ""
             }
            },
            "type": "scattermapbox"
           }
          ],
          "scatterpolar": [
           {
            "marker": {
             "colorbar": {
              "outlinewidth": 0,
              "ticks": ""
             }
            },
            "type": "scatterpolar"
           }
          ],
          "scatterpolargl": [
           {
            "marker": {
             "colorbar": {
              "outlinewidth": 0,
              "ticks": ""
             }
            },
            "type": "scatterpolargl"
           }
          ],
          "scatterternary": [
           {
            "marker": {
             "colorbar": {
              "outlinewidth": 0,
              "ticks": ""
             }
            },
            "type": "scatterternary"
           }
          ],
          "surface": [
           {
            "colorbar": {
             "outlinewidth": 0,
             "ticks": ""
            },
            "colorscale": [
             [
              0,
              "#0d0887"
             ],
             [
              0.1111111111111111,
              "#46039f"
             ],
             [
              0.2222222222222222,
              "#7201a8"
             ],
             [
              0.3333333333333333,
              "#9c179e"
             ],
             [
              0.4444444444444444,
              "#bd3786"
             ],
             [
              0.5555555555555556,
              "#d8576b"
             ],
             [
              0.6666666666666666,
              "#ed7953"
             ],
             [
              0.7777777777777778,
              "#fb9f3a"
             ],
             [
              0.8888888888888888,
              "#fdca26"
             ],
             [
              1,
              "#f0f921"
             ]
            ],
            "type": "surface"
           }
          ],
          "table": [
           {
            "cells": {
             "fill": {
              "color": "#EBF0F8"
             },
             "line": {
              "color": "white"
             }
            },
            "header": {
             "fill": {
              "color": "#C8D4E3"
             },
             "line": {
              "color": "white"
             }
            },
            "type": "table"
           }
          ]
         },
         "layout": {
          "annotationdefaults": {
           "arrowcolor": "#2a3f5f",
           "arrowhead": 0,
           "arrowwidth": 1
          },
          "autotypenumbers": "strict",
          "coloraxis": {
           "colorbar": {
            "outlinewidth": 0,
            "ticks": ""
           }
          },
          "colorscale": {
           "diverging": [
            [
             0,
             "#8e0152"
            ],
            [
             0.1,
             "#c51b7d"
            ],
            [
             0.2,
             "#de77ae"
            ],
            [
             0.3,
             "#f1b6da"
            ],
            [
             0.4,
             "#fde0ef"
            ],
            [
             0.5,
             "#f7f7f7"
            ],
            [
             0.6,
             "#e6f5d0"
            ],
            [
             0.7,
             "#b8e186"
            ],
            [
             0.8,
             "#7fbc41"
            ],
            [
             0.9,
             "#4d9221"
            ],
            [
             1,
             "#276419"
            ]
           ],
           "sequential": [
            [
             0,
             "#0d0887"
            ],
            [
             0.1111111111111111,
             "#46039f"
            ],
            [
             0.2222222222222222,
             "#7201a8"
            ],
            [
             0.3333333333333333,
             "#9c179e"
            ],
            [
             0.4444444444444444,
             "#bd3786"
            ],
            [
             0.5555555555555556,
             "#d8576b"
            ],
            [
             0.6666666666666666,
             "#ed7953"
            ],
            [
             0.7777777777777778,
             "#fb9f3a"
            ],
            [
             0.8888888888888888,
             "#fdca26"
            ],
            [
             1,
             "#f0f921"
            ]
           ],
           "sequentialminus": [
            [
             0,
             "#0d0887"
            ],
            [
             0.1111111111111111,
             "#46039f"
            ],
            [
             0.2222222222222222,
             "#7201a8"
            ],
            [
             0.3333333333333333,
             "#9c179e"
            ],
            [
             0.4444444444444444,
             "#bd3786"
            ],
            [
             0.5555555555555556,
             "#d8576b"
            ],
            [
             0.6666666666666666,
             "#ed7953"
            ],
            [
             0.7777777777777778,
             "#fb9f3a"
            ],
            [
             0.8888888888888888,
             "#fdca26"
            ],
            [
             1,
             "#f0f921"
            ]
           ]
          },
          "colorway": [
           "#636efa",
           "#EF553B",
           "#00cc96",
           "#ab63fa",
           "#FFA15A",
           "#19d3f3",
           "#FF6692",
           "#B6E880",
           "#FF97FF",
           "#FECB52"
          ],
          "font": {
           "color": "#2a3f5f"
          },
          "geo": {
           "bgcolor": "white",
           "lakecolor": "white",
           "landcolor": "#E5ECF6",
           "showlakes": true,
           "showland": true,
           "subunitcolor": "white"
          },
          "hoverlabel": {
           "align": "left"
          },
          "hovermode": "closest",
          "mapbox": {
           "style": "light"
          },
          "paper_bgcolor": "white",
          "plot_bgcolor": "#E5ECF6",
          "polar": {
           "angularaxis": {
            "gridcolor": "white",
            "linecolor": "white",
            "ticks": ""
           },
           "bgcolor": "#E5ECF6",
           "radialaxis": {
            "gridcolor": "white",
            "linecolor": "white",
            "ticks": ""
           }
          },
          "scene": {
           "xaxis": {
            "backgroundcolor": "#E5ECF6",
            "gridcolor": "white",
            "gridwidth": 2,
            "linecolor": "white",
            "showbackground": true,
            "ticks": "",
            "zerolinecolor": "white"
           },
           "yaxis": {
            "backgroundcolor": "#E5ECF6",
            "gridcolor": "white",
            "gridwidth": 2,
            "linecolor": "white",
            "showbackground": true,
            "ticks": "",
            "zerolinecolor": "white"
           },
           "zaxis": {
            "backgroundcolor": "#E5ECF6",
            "gridcolor": "white",
            "gridwidth": 2,
            "linecolor": "white",
            "showbackground": true,
            "ticks": "",
            "zerolinecolor": "white"
           }
          },
          "shapedefaults": {
           "line": {
            "color": "#2a3f5f"
           }
          },
          "ternary": {
           "aaxis": {
            "gridcolor": "white",
            "linecolor": "white",
            "ticks": ""
           },
           "baxis": {
            "gridcolor": "white",
            "linecolor": "white",
            "ticks": ""
           },
           "bgcolor": "#E5ECF6",
           "caxis": {
            "gridcolor": "white",
            "linecolor": "white",
            "ticks": ""
           }
          },
          "title": {
           "x": 0.05
          },
          "xaxis": {
           "automargin": true,
           "gridcolor": "white",
           "linecolor": "white",
           "ticks": "",
           "title": {
            "standoff": 15
           },
           "zerolinecolor": "white",
           "zerolinewidth": 2
          },
          "yaxis": {
           "automargin": true,
           "gridcolor": "white",
           "linecolor": "white",
           "ticks": "",
           "title": {
            "standoff": 15
           },
           "zerolinecolor": "white",
           "zerolinewidth": 2
          }
         }
        },
        "title": {
         "text": "DGI : 5.354775"
        },
        "xaxis": {
         "title": {
          "text": "Sense Features"
         }
        },
        "yaxis": {
         "title": {
          "text": "Dimensions"
         }
        }
       }
      },
      "text/html": [
       "<div>                            <div id=\"45cabbe4-3e85-4dad-a944-5f7bb1cdc5c7\" class=\"plotly-graph-div\" style=\"height:525px; width:100%;\"></div>            <script type=\"text/javascript\">                require([\"plotly\"], function(Plotly) {                    window.PLOTLYENV=window.PLOTLYENV || {};                                    if (document.getElementById(\"45cabbe4-3e85-4dad-a944-5f7bb1cdc5c7\")) {                    Plotly.newPlot(                        \"45cabbe4-3e85-4dad-a944-5f7bb1cdc5c7\",                        [{\"x\":[\"Degree\",\"Clustering Coefficient\",\"Personalized Page Rank - Standard Deviation\",\"Average Neighbor Degree\",\"Average Neighbor Clustering\",\"Eccentricity\",\"Katz Centrality\"],\"z\":[[0.0,0.0,0.0,0.0,0.0,0.0,0.0],[0.0,0.0,0.0,0.0,0.0,0.0,0.0],[0.0,0.0,0.0,0.0,0.0,0.0,0.0],[0.0,0.0,0.0,0.0,0.0,0.0,0.0],[0.0,0.0,0.0,0.0,0.0,0.0,0.0],[0.0,0.0,0.0,0.0,0.0,0.0,0.0],[0.0,0.0,0.0,0.0,0.0,0.0,0.0],[0.0,0.0,0.0,0.0,0.0,0.0,0.0],[0.0,0.0,0.0,0.0,0.0,0.0,0.0],[0.0,0.0,0.0,0.0,0.0,0.0,0.0],[0.0,0.0,0.0,0.0,0.0,0.0,0.0],[0.0,0.0,0.0,0.0,0.0,0.0,0.0],[0.0,0.0,0.0,0.0,0.0,0.0,0.0],[0.0,0.0,0.0,0.0,0.0,0.0,0.4422015845775604],[0.0,0.0,0.0,0.0,0.0,0.0,0.0],[0.0,0.0,0.0,0.0,0.0,0.0,0.0],[0.0,0.0,0.0,0.0,0.0,0.0,0.0],[0.0,0.0,0.0,0.0,0.0,0.0,0.0],[0.0,0.0,0.0,0.0,0.0,0.0,0.0],[0.0,0.0,0.0,0.0,0.0,0.0,0.0],[0.0,0.0,0.0,0.0,0.0,0.0,0.0],[0.0,0.0,0.0,0.0,0.0,0.0,0.0],[0.0,0.0,0.0,0.0,0.0,0.0,0.0],[0.0,0.0,0.0,0.0,0.0,0.0,0.0],[0.0,0.0,0.0,0.0,0.0,0.0,0.0023504511918872595],[0.0,0.0,0.0,0.0,0.0,0.0,0.0],[1.0,0.0,0.0,0.0,0.0,0.0,0.0],[0.0,0.0,0.0,0.0,0.0,0.9075844287872314,0.020492035895586014],[0.0,0.0,0.0,0.0,0.4800482988357544,0.0,0.0],[0.0,0.0,0.0,0.0,0.0,0.0,0.11952555179595947],[0.0,0.0,0.0,0.0,0.0,0.0,0.0],[0.0,0.0,0.0,0.0,0.0,0.0,0.0],[0.0,0.0,0.0,0.0,0.0,0.0,0.0],[0.0,0.0,0.8974440097808838,0.0,0.0,0.0,0.2502422630786896],[0.0,0.0,0.0,0.0,0.0,0.0,0.0],[0.0,0.0,0.0,0.0,0.0,0.0,0.0],[0.0,0.902743399143219,0.0,0.0,0.37836992740631104,0.0,0.0],[0.0,0.0,0.0,0.0,0.0,0.0,0.0],[0.0,0.0,0.0,0.0,0.0,0.0,0.0],[0.0,0.0,0.0,0.0,0.0,0.0,0.0],[0.0,0.0,0.0,0.0,0.0,0.0,0.0],[0.0,0.0,0.0,0.0,0.0,0.0,0.0],[0.0,0.0,0.0,0.0,0.0,0.0,0.0],[0.0,0.0,0.0,0.0,0.0,0.0,0.0],[0.0,0.0,0.0,0.0,0.0,0.0,0.0],[0.0,0.0,0.0,0.0,0.0,0.0,0.0],[0.0,0.0,0.0,0.0,0.0,0.0,0.0],[0.0,0.0,0.0,0.0,0.0,0.0,0.0],[0.0,0.0,0.0,0.0,0.0,0.0,0.0],[0.0,0.0,0.0,0.0,0.0,0.0,0.01165628619492054],[0.0,0.0,0.0,0.32987678050994873,0.0,0.0,0.0],[0.0,0.0,0.0,0.0,0.0,0.0,0.0],[0.0,0.0,0.0,0.0,0.0,0.0,0.0],[0.0,0.0,0.0,0.0,0.0,0.0,0.0],[0.0,0.0,0.0,0.0,0.0,0.0,0.0],[0.0,0.0,0.0,0.0,0.0,0.0,0.0],[0.0,0.0,0.0,0.0,0.0,0.0,0.0],[0.0,0.0,0.0,0.5424098968505859,0.0,0.0,0.0],[0.0,0.0,0.0,0.0,0.0,0.0,0.0],[0.0,0.0,0.0,0.0,0.0,0.0,0.0],[0.0,0.0,0.0,0.0,0.0,0.0,0.0],[0.0,0.0,0.0,0.0,0.0,0.0,0.0],[0.0,0.0,0.0,0.0,0.0,0.0,0.0],[0.0,0.0,0.0,0.0,0.0,0.0,0.0]],\"type\":\"heatmap\"}],                        {\"template\":{\"data\":{\"histogram2dcontour\":[{\"type\":\"histogram2dcontour\",\"colorbar\":{\"outlinewidth\":0,\"ticks\":\"\"},\"colorscale\":[[0.0,\"#0d0887\"],[0.1111111111111111,\"#46039f\"],[0.2222222222222222,\"#7201a8\"],[0.3333333333333333,\"#9c179e\"],[0.4444444444444444,\"#bd3786\"],[0.5555555555555556,\"#d8576b\"],[0.6666666666666666,\"#ed7953\"],[0.7777777777777778,\"#fb9f3a\"],[0.8888888888888888,\"#fdca26\"],[1.0,\"#f0f921\"]]}],\"choropleth\":[{\"type\":\"choropleth\",\"colorbar\":{\"outlinewidth\":0,\"ticks\":\"\"}}],\"histogram2d\":[{\"type\":\"histogram2d\",\"colorbar\":{\"outlinewidth\":0,\"ticks\":\"\"},\"colorscale\":[[0.0,\"#0d0887\"],[0.1111111111111111,\"#46039f\"],[0.2222222222222222,\"#7201a8\"],[0.3333333333333333,\"#9c179e\"],[0.4444444444444444,\"#bd3786\"],[0.5555555555555556,\"#d8576b\"],[0.6666666666666666,\"#ed7953\"],[0.7777777777777778,\"#fb9f3a\"],[0.8888888888888888,\"#fdca26\"],[1.0,\"#f0f921\"]]}],\"heatmap\":[{\"type\":\"heatmap\",\"colorbar\":{\"outlinewidth\":0,\"ticks\":\"\"},\"colorscale\":[[0.0,\"#0d0887\"],[0.1111111111111111,\"#46039f\"],[0.2222222222222222,\"#7201a8\"],[0.3333333333333333,\"#9c179e\"],[0.4444444444444444,\"#bd3786\"],[0.5555555555555556,\"#d8576b\"],[0.6666666666666666,\"#ed7953\"],[0.7777777777777778,\"#fb9f3a\"],[0.8888888888888888,\"#fdca26\"],[1.0,\"#f0f921\"]]}],\"heatmapgl\":[{\"type\":\"heatmapgl\",\"colorbar\":{\"outlinewidth\":0,\"ticks\":\"\"},\"colorscale\":[[0.0,\"#0d0887\"],[0.1111111111111111,\"#46039f\"],[0.2222222222222222,\"#7201a8\"],[0.3333333333333333,\"#9c179e\"],[0.4444444444444444,\"#bd3786\"],[0.5555555555555556,\"#d8576b\"],[0.6666666666666666,\"#ed7953\"],[0.7777777777777778,\"#fb9f3a\"],[0.8888888888888888,\"#fdca26\"],[1.0,\"#f0f921\"]]}],\"contourcarpet\":[{\"type\":\"contourcarpet\",\"colorbar\":{\"outlinewidth\":0,\"ticks\":\"\"}}],\"contour\":[{\"type\":\"contour\",\"colorbar\":{\"outlinewidth\":0,\"ticks\":\"\"},\"colorscale\":[[0.0,\"#0d0887\"],[0.1111111111111111,\"#46039f\"],[0.2222222222222222,\"#7201a8\"],[0.3333333333333333,\"#9c179e\"],[0.4444444444444444,\"#bd3786\"],[0.5555555555555556,\"#d8576b\"],[0.6666666666666666,\"#ed7953\"],[0.7777777777777778,\"#fb9f3a\"],[0.8888888888888888,\"#fdca26\"],[1.0,\"#f0f921\"]]}],\"surface\":[{\"type\":\"surface\",\"colorbar\":{\"outlinewidth\":0,\"ticks\":\"\"},\"colorscale\":[[0.0,\"#0d0887\"],[0.1111111111111111,\"#46039f\"],[0.2222222222222222,\"#7201a8\"],[0.3333333333333333,\"#9c179e\"],[0.4444444444444444,\"#bd3786\"],[0.5555555555555556,\"#d8576b\"],[0.6666666666666666,\"#ed7953\"],[0.7777777777777778,\"#fb9f3a\"],[0.8888888888888888,\"#fdca26\"],[1.0,\"#f0f921\"]]}],\"mesh3d\":[{\"type\":\"mesh3d\",\"colorbar\":{\"outlinewidth\":0,\"ticks\":\"\"}}],\"scatter\":[{\"fillpattern\":{\"fillmode\":\"overlay\",\"size\":10,\"solidity\":0.2},\"type\":\"scatter\"}],\"parcoords\":[{\"type\":\"parcoords\",\"line\":{\"colorbar\":{\"outlinewidth\":0,\"ticks\":\"\"}}}],\"scatterpolargl\":[{\"type\":\"scatterpolargl\",\"marker\":{\"colorbar\":{\"outlinewidth\":0,\"ticks\":\"\"}}}],\"bar\":[{\"error_x\":{\"color\":\"#2a3f5f\"},\"error_y\":{\"color\":\"#2a3f5f\"},\"marker\":{\"line\":{\"color\":\"#E5ECF6\",\"width\":0.5},\"pattern\":{\"fillmode\":\"overlay\",\"size\":10,\"solidity\":0.2}},\"type\":\"bar\"}],\"scattergeo\":[{\"type\":\"scattergeo\",\"marker\":{\"colorbar\":{\"outlinewidth\":0,\"ticks\":\"\"}}}],\"scatterpolar\":[{\"type\":\"scatterpolar\",\"marker\":{\"colorbar\":{\"outlinewidth\":0,\"ticks\":\"\"}}}],\"histogram\":[{\"marker\":{\"pattern\":{\"fillmode\":\"overlay\",\"size\":10,\"solidity\":0.2}},\"type\":\"histogram\"}],\"scattergl\":[{\"type\":\"scattergl\",\"marker\":{\"colorbar\":{\"outlinewidth\":0,\"ticks\":\"\"}}}],\"scatter3d\":[{\"type\":\"scatter3d\",\"line\":{\"colorbar\":{\"outlinewidth\":0,\"ticks\":\"\"}},\"marker\":{\"colorbar\":{\"outlinewidth\":0,\"ticks\":\"\"}}}],\"scattermapbox\":[{\"type\":\"scattermapbox\",\"marker\":{\"colorbar\":{\"outlinewidth\":0,\"ticks\":\"\"}}}],\"scatterternary\":[{\"type\":\"scatterternary\",\"marker\":{\"colorbar\":{\"outlinewidth\":0,\"ticks\":\"\"}}}],\"scattercarpet\":[{\"type\":\"scattercarpet\",\"marker\":{\"colorbar\":{\"outlinewidth\":0,\"ticks\":\"\"}}}],\"carpet\":[{\"aaxis\":{\"endlinecolor\":\"#2a3f5f\",\"gridcolor\":\"white\",\"linecolor\":\"white\",\"minorgridcolor\":\"white\",\"startlinecolor\":\"#2a3f5f\"},\"baxis\":{\"endlinecolor\":\"#2a3f5f\",\"gridcolor\":\"white\",\"linecolor\":\"white\",\"minorgridcolor\":\"white\",\"startlinecolor\":\"#2a3f5f\"},\"type\":\"carpet\"}],\"table\":[{\"cells\":{\"fill\":{\"color\":\"#EBF0F8\"},\"line\":{\"color\":\"white\"}},\"header\":{\"fill\":{\"color\":\"#C8D4E3\"},\"line\":{\"color\":\"white\"}},\"type\":\"table\"}],\"barpolar\":[{\"marker\":{\"line\":{\"color\":\"#E5ECF6\",\"width\":0.5},\"pattern\":{\"fillmode\":\"overlay\",\"size\":10,\"solidity\":0.2}},\"type\":\"barpolar\"}],\"pie\":[{\"automargin\":true,\"type\":\"pie\"}]},\"layout\":{\"autotypenumbers\":\"strict\",\"colorway\":[\"#636efa\",\"#EF553B\",\"#00cc96\",\"#ab63fa\",\"#FFA15A\",\"#19d3f3\",\"#FF6692\",\"#B6E880\",\"#FF97FF\",\"#FECB52\"],\"font\":{\"color\":\"#2a3f5f\"},\"hovermode\":\"closest\",\"hoverlabel\":{\"align\":\"left\"},\"paper_bgcolor\":\"white\",\"plot_bgcolor\":\"#E5ECF6\",\"polar\":{\"bgcolor\":\"#E5ECF6\",\"angularaxis\":{\"gridcolor\":\"white\",\"linecolor\":\"white\",\"ticks\":\"\"},\"radialaxis\":{\"gridcolor\":\"white\",\"linecolor\":\"white\",\"ticks\":\"\"}},\"ternary\":{\"bgcolor\":\"#E5ECF6\",\"aaxis\":{\"gridcolor\":\"white\",\"linecolor\":\"white\",\"ticks\":\"\"},\"baxis\":{\"gridcolor\":\"white\",\"linecolor\":\"white\",\"ticks\":\"\"},\"caxis\":{\"gridcolor\":\"white\",\"linecolor\":\"white\",\"ticks\":\"\"}},\"coloraxis\":{\"colorbar\":{\"outlinewidth\":0,\"ticks\":\"\"}},\"colorscale\":{\"sequential\":[[0.0,\"#0d0887\"],[0.1111111111111111,\"#46039f\"],[0.2222222222222222,\"#7201a8\"],[0.3333333333333333,\"#9c179e\"],[0.4444444444444444,\"#bd3786\"],[0.5555555555555556,\"#d8576b\"],[0.6666666666666666,\"#ed7953\"],[0.7777777777777778,\"#fb9f3a\"],[0.8888888888888888,\"#fdca26\"],[1.0,\"#f0f921\"]],\"sequentialminus\":[[0.0,\"#0d0887\"],[0.1111111111111111,\"#46039f\"],[0.2222222222222222,\"#7201a8\"],[0.3333333333333333,\"#9c179e\"],[0.4444444444444444,\"#bd3786\"],[0.5555555555555556,\"#d8576b\"],[0.6666666666666666,\"#ed7953\"],[0.7777777777777778,\"#fb9f3a\"],[0.8888888888888888,\"#fdca26\"],[1.0,\"#f0f921\"]],\"diverging\":[[0,\"#8e0152\"],[0.1,\"#c51b7d\"],[0.2,\"#de77ae\"],[0.3,\"#f1b6da\"],[0.4,\"#fde0ef\"],[0.5,\"#f7f7f7\"],[0.6,\"#e6f5d0\"],[0.7,\"#b8e186\"],[0.8,\"#7fbc41\"],[0.9,\"#4d9221\"],[1,\"#276419\"]]},\"xaxis\":{\"gridcolor\":\"white\",\"linecolor\":\"white\",\"ticks\":\"\",\"title\":{\"standoff\":15},\"zerolinecolor\":\"white\",\"automargin\":true,\"zerolinewidth\":2},\"yaxis\":{\"gridcolor\":\"white\",\"linecolor\":\"white\",\"ticks\":\"\",\"title\":{\"standoff\":15},\"zerolinecolor\":\"white\",\"automargin\":true,\"zerolinewidth\":2},\"scene\":{\"xaxis\":{\"backgroundcolor\":\"#E5ECF6\",\"gridcolor\":\"white\",\"linecolor\":\"white\",\"showbackground\":true,\"ticks\":\"\",\"zerolinecolor\":\"white\",\"gridwidth\":2},\"yaxis\":{\"backgroundcolor\":\"#E5ECF6\",\"gridcolor\":\"white\",\"linecolor\":\"white\",\"showbackground\":true,\"ticks\":\"\",\"zerolinecolor\":\"white\",\"gridwidth\":2},\"zaxis\":{\"backgroundcolor\":\"#E5ECF6\",\"gridcolor\":\"white\",\"linecolor\":\"white\",\"showbackground\":true,\"ticks\":\"\",\"zerolinecolor\":\"white\",\"gridwidth\":2}},\"shapedefaults\":{\"line\":{\"color\":\"#2a3f5f\"}},\"annotationdefaults\":{\"arrowcolor\":\"#2a3f5f\",\"arrowhead\":0,\"arrowwidth\":1},\"geo\":{\"bgcolor\":\"white\",\"landcolor\":\"#E5ECF6\",\"subunitcolor\":\"white\",\"showland\":true,\"showlakes\":true,\"lakecolor\":\"white\"},\"title\":{\"x\":0.05},\"mapbox\":{\"style\":\"light\"}}},\"title\":{\"text\":\"DGI : 5.354775\"},\"xaxis\":{\"title\":{\"text\":\"Sense Features\"}},\"yaxis\":{\"title\":{\"text\":\"Dimensions\"}}},                        {\"responsive\": true}                    ).then(function(){\n",
       "                            \n",
       "var gd = document.getElementById('45cabbe4-3e85-4dad-a944-5f7bb1cdc5c7');\n",
       "var x = new MutationObserver(function (mutations, observer) {{\n",
       "        var display = window.getComputedStyle(gd).display;\n",
       "        if (!display || display === 'none') {{\n",
       "            console.log([gd, 'removed!']);\n",
       "            Plotly.purge(gd);\n",
       "            observer.disconnect();\n",
       "        }}\n",
       "}});\n",
       "\n",
       "// Listen for the removal of the full notebook cells\n",
       "var notebookContainer = gd.closest('#notebook-container');\n",
       "if (notebookContainer) {{\n",
       "    x.observe(notebookContainer, {childList: true});\n",
       "}}\n",
       "\n",
       "// Listen for the clearing of the current output cell\n",
       "var outputEl = gd.closest('.output');\n",
       "if (outputEl) {{\n",
       "    x.observe(outputEl, {childList: true});\n",
       "}}\n",
       "\n",
       "                        })                };                });            </script>        </div>"
      ]
     },
     "metadata": {},
     "output_type": "display_data"
    },
    {
     "data": {
      "application/vnd.plotly.v1+json": {
       "config": {
        "plotlyServerURL": "https://plot.ly"
       },
       "data": [
        {
         "type": "heatmap",
         "x": [
          "Degree",
          "Clustering Coefficient",
          "Personalized Page Rank - Standard Deviation",
          "Average Neighbor Degree",
          "Average Neighbor Clustering",
          "Eccentricity",
          "Katz Centrality"
         ],
         "z": [
          [
           0,
           0,
           0,
           0,
           0,
           0,
           0
          ],
          [
           0,
           0,
           0,
           0,
           0,
           0,
           0
          ],
          [
           0,
           0,
           0,
           0,
           0,
           0,
           0
          ],
          [
           0,
           0,
           0,
           0,
           0,
           0,
           0
          ],
          [
           0,
           0,
           0,
           0,
           0,
           0,
           0
          ],
          [
           0,
           0,
           0,
           0,
           0,
           0,
           0
          ],
          [
           0,
           0,
           0,
           0,
           0,
           0,
           0
          ],
          [
           0,
           0,
           0,
           0,
           0,
           0,
           0
          ],
          [
           0,
           0,
           0,
           0,
           0,
           0,
           0
          ],
          [
           0,
           0,
           0,
           0,
           0,
           0,
           0
          ],
          [
           0,
           0,
           0,
           0,
           0,
           0,
           0
          ],
          [
           0,
           0,
           0,
           0,
           0,
           0,
           0
          ],
          [
           0,
           0,
           0,
           0,
           0,
           0,
           0
          ],
          [
           0,
           0,
           0,
           0,
           0,
           0,
           0.31462135910987854
          ],
          [
           0,
           0,
           0,
           0,
           0,
           0,
           0
          ],
          [
           0,
           0,
           0,
           0,
           0,
           0,
           0
          ],
          [
           0,
           0,
           0,
           0,
           0,
           0,
           0.02166173979640007
          ],
          [
           0,
           0,
           0,
           0,
           0,
           0,
           0.08533968031406403
          ],
          [
           0,
           0,
           0,
           0,
           0,
           0,
           0
          ],
          [
           0,
           0,
           0,
           0,
           0,
           0,
           0
          ],
          [
           0,
           0,
           0,
           0,
           0,
           0,
           0
          ],
          [
           0,
           0,
           0,
           0,
           0,
           0,
           0
          ],
          [
           0,
           0,
           0,
           0,
           0,
           0,
           0
          ],
          [
           0,
           0,
           0,
           0,
           0,
           0,
           0
          ],
          [
           0,
           0,
           0,
           0,
           0,
           0,
           0.08591436594724655
          ],
          [
           0,
           0,
           0,
           0,
           0,
           0,
           0
          ],
          [
           1,
           0,
           0,
           0,
           0,
           0,
           0
          ],
          [
           0,
           0,
           0,
           0,
           0,
           0.8845369815826416,
           0
          ],
          [
           0,
           0,
           0,
           0,
           0.7049280405044556,
           0,
           0
          ],
          [
           0,
           0,
           0,
           0,
           0,
           0,
           0
          ],
          [
           0,
           0,
           0,
           0,
           0,
           0,
           0
          ],
          [
           0,
           0,
           0,
           0,
           0,
           0,
           0
          ],
          [
           0,
           0,
           0,
           0,
           0,
           0,
           0
          ],
          [
           0,
           0,
           0.9453455209732056,
           0,
           0,
           0,
           0.22830089926719666
          ],
          [
           0,
           0,
           0,
           0,
           0,
           0,
           0
          ],
          [
           0,
           0,
           0,
           0,
           0,
           0,
           0
          ],
          [
           0,
           0.9159187078475952,
           0,
           0,
           0.16621460020542145,
           0,
           0
          ],
          [
           0,
           0,
           0,
           0,
           0,
           0,
           0.044115062803030014
          ],
          [
           0,
           0,
           0,
           0,
           0,
           0,
           0
          ],
          [
           0,
           0,
           0,
           0,
           0,
           0,
           0
          ],
          [
           0,
           0,
           0,
           0,
           0,
           0,
           0
          ],
          [
           0,
           0,
           0,
           0,
           0,
           0,
           0
          ],
          [
           0,
           0,
           0,
           0,
           0,
           0,
           0
          ],
          [
           0,
           0,
           0,
           0,
           0,
           0,
           0
          ],
          [
           0,
           0,
           0,
           0,
           0,
           0,
           0
          ],
          [
           0,
           0,
           0,
           0,
           0,
           0,
           0
          ],
          [
           0,
           0,
           0,
           0,
           0,
           0,
           0
          ],
          [
           0,
           0,
           0,
           0,
           0,
           0,
           0.007785837631672621
          ],
          [
           0,
           0,
           0,
           0,
           0,
           0,
           0.0018157623708248138
          ],
          [
           0,
           0,
           0,
           0,
           0,
           0,
           0
          ],
          [
           0,
           0,
           0,
           0,
           0,
           0,
           0
          ],
          [
           0,
           0,
           0,
           0,
           0,
           0,
           0
          ],
          [
           0,
           0,
           0,
           0,
           0,
           0,
           0
          ],
          [
           0,
           0,
           0,
           0,
           0,
           0,
           0.08602909743785858
          ],
          [
           0,
           0,
           0,
           0,
           0,
           0,
           0
          ],
          [
           0,
           0,
           0,
           0,
           0,
           0.04813145846128464,
           0
          ],
          [
           0,
           0,
           0,
           0,
           0,
           0,
           0
          ],
          [
           0,
           0,
           0,
           0.880134105682373,
           0,
           0,
           0
          ],
          [
           0,
           0,
           0,
           0,
           0,
           0,
           0
          ],
          [
           0,
           0,
           0,
           0,
           0,
           0,
           0
          ],
          [
           0,
           0,
           0,
           0,
           0,
           0,
           0
          ],
          [
           0,
           0,
           0,
           0,
           0,
           0,
           0
          ],
          [
           0,
           0,
           0,
           0,
           0,
           0,
           0
          ],
          [
           0,
           0,
           0,
           0,
           0,
           0,
           0
          ]
         ]
        }
       ],
       "layout": {
        "template": {
         "data": {
          "bar": [
           {
            "error_x": {
             "color": "#2a3f5f"
            },
            "error_y": {
             "color": "#2a3f5f"
            },
            "marker": {
             "line": {
              "color": "#E5ECF6",
              "width": 0.5
             },
             "pattern": {
              "fillmode": "overlay",
              "size": 10,
              "solidity": 0.2
             }
            },
            "type": "bar"
           }
          ],
          "barpolar": [
           {
            "marker": {
             "line": {
              "color": "#E5ECF6",
              "width": 0.5
             },
             "pattern": {
              "fillmode": "overlay",
              "size": 10,
              "solidity": 0.2
             }
            },
            "type": "barpolar"
           }
          ],
          "carpet": [
           {
            "aaxis": {
             "endlinecolor": "#2a3f5f",
             "gridcolor": "white",
             "linecolor": "white",
             "minorgridcolor": "white",
             "startlinecolor": "#2a3f5f"
            },
            "baxis": {
             "endlinecolor": "#2a3f5f",
             "gridcolor": "white",
             "linecolor": "white",
             "minorgridcolor": "white",
             "startlinecolor": "#2a3f5f"
            },
            "type": "carpet"
           }
          ],
          "choropleth": [
           {
            "colorbar": {
             "outlinewidth": 0,
             "ticks": ""
            },
            "type": "choropleth"
           }
          ],
          "contour": [
           {
            "colorbar": {
             "outlinewidth": 0,
             "ticks": ""
            },
            "colorscale": [
             [
              0,
              "#0d0887"
             ],
             [
              0.1111111111111111,
              "#46039f"
             ],
             [
              0.2222222222222222,
              "#7201a8"
             ],
             [
              0.3333333333333333,
              "#9c179e"
             ],
             [
              0.4444444444444444,
              "#bd3786"
             ],
             [
              0.5555555555555556,
              "#d8576b"
             ],
             [
              0.6666666666666666,
              "#ed7953"
             ],
             [
              0.7777777777777778,
              "#fb9f3a"
             ],
             [
              0.8888888888888888,
              "#fdca26"
             ],
             [
              1,
              "#f0f921"
             ]
            ],
            "type": "contour"
           }
          ],
          "contourcarpet": [
           {
            "colorbar": {
             "outlinewidth": 0,
             "ticks": ""
            },
            "type": "contourcarpet"
           }
          ],
          "heatmap": [
           {
            "colorbar": {
             "outlinewidth": 0,
             "ticks": ""
            },
            "colorscale": [
             [
              0,
              "#0d0887"
             ],
             [
              0.1111111111111111,
              "#46039f"
             ],
             [
              0.2222222222222222,
              "#7201a8"
             ],
             [
              0.3333333333333333,
              "#9c179e"
             ],
             [
              0.4444444444444444,
              "#bd3786"
             ],
             [
              0.5555555555555556,
              "#d8576b"
             ],
             [
              0.6666666666666666,
              "#ed7953"
             ],
             [
              0.7777777777777778,
              "#fb9f3a"
             ],
             [
              0.8888888888888888,
              "#fdca26"
             ],
             [
              1,
              "#f0f921"
             ]
            ],
            "type": "heatmap"
           }
          ],
          "heatmapgl": [
           {
            "colorbar": {
             "outlinewidth": 0,
             "ticks": ""
            },
            "colorscale": [
             [
              0,
              "#0d0887"
             ],
             [
              0.1111111111111111,
              "#46039f"
             ],
             [
              0.2222222222222222,
              "#7201a8"
             ],
             [
              0.3333333333333333,
              "#9c179e"
             ],
             [
              0.4444444444444444,
              "#bd3786"
             ],
             [
              0.5555555555555556,
              "#d8576b"
             ],
             [
              0.6666666666666666,
              "#ed7953"
             ],
             [
              0.7777777777777778,
              "#fb9f3a"
             ],
             [
              0.8888888888888888,
              "#fdca26"
             ],
             [
              1,
              "#f0f921"
             ]
            ],
            "type": "heatmapgl"
           }
          ],
          "histogram": [
           {
            "marker": {
             "pattern": {
              "fillmode": "overlay",
              "size": 10,
              "solidity": 0.2
             }
            },
            "type": "histogram"
           }
          ],
          "histogram2d": [
           {
            "colorbar": {
             "outlinewidth": 0,
             "ticks": ""
            },
            "colorscale": [
             [
              0,
              "#0d0887"
             ],
             [
              0.1111111111111111,
              "#46039f"
             ],
             [
              0.2222222222222222,
              "#7201a8"
             ],
             [
              0.3333333333333333,
              "#9c179e"
             ],
             [
              0.4444444444444444,
              "#bd3786"
             ],
             [
              0.5555555555555556,
              "#d8576b"
             ],
             [
              0.6666666666666666,
              "#ed7953"
             ],
             [
              0.7777777777777778,
              "#fb9f3a"
             ],
             [
              0.8888888888888888,
              "#fdca26"
             ],
             [
              1,
              "#f0f921"
             ]
            ],
            "type": "histogram2d"
           }
          ],
          "histogram2dcontour": [
           {
            "colorbar": {
             "outlinewidth": 0,
             "ticks": ""
            },
            "colorscale": [
             [
              0,
              "#0d0887"
             ],
             [
              0.1111111111111111,
              "#46039f"
             ],
             [
              0.2222222222222222,
              "#7201a8"
             ],
             [
              0.3333333333333333,
              "#9c179e"
             ],
             [
              0.4444444444444444,
              "#bd3786"
             ],
             [
              0.5555555555555556,
              "#d8576b"
             ],
             [
              0.6666666666666666,
              "#ed7953"
             ],
             [
              0.7777777777777778,
              "#fb9f3a"
             ],
             [
              0.8888888888888888,
              "#fdca26"
             ],
             [
              1,
              "#f0f921"
             ]
            ],
            "type": "histogram2dcontour"
           }
          ],
          "mesh3d": [
           {
            "colorbar": {
             "outlinewidth": 0,
             "ticks": ""
            },
            "type": "mesh3d"
           }
          ],
          "parcoords": [
           {
            "line": {
             "colorbar": {
              "outlinewidth": 0,
              "ticks": ""
             }
            },
            "type": "parcoords"
           }
          ],
          "pie": [
           {
            "automargin": true,
            "type": "pie"
           }
          ],
          "scatter": [
           {
            "fillpattern": {
             "fillmode": "overlay",
             "size": 10,
             "solidity": 0.2
            },
            "type": "scatter"
           }
          ],
          "scatter3d": [
           {
            "line": {
             "colorbar": {
              "outlinewidth": 0,
              "ticks": ""
             }
            },
            "marker": {
             "colorbar": {
              "outlinewidth": 0,
              "ticks": ""
             }
            },
            "type": "scatter3d"
           }
          ],
          "scattercarpet": [
           {
            "marker": {
             "colorbar": {
              "outlinewidth": 0,
              "ticks": ""
             }
            },
            "type": "scattercarpet"
           }
          ],
          "scattergeo": [
           {
            "marker": {
             "colorbar": {
              "outlinewidth": 0,
              "ticks": ""
             }
            },
            "type": "scattergeo"
           }
          ],
          "scattergl": [
           {
            "marker": {
             "colorbar": {
              "outlinewidth": 0,
              "ticks": ""
             }
            },
            "type": "scattergl"
           }
          ],
          "scattermapbox": [
           {
            "marker": {
             "colorbar": {
              "outlinewidth": 0,
              "ticks": ""
             }
            },
            "type": "scattermapbox"
           }
          ],
          "scatterpolar": [
           {
            "marker": {
             "colorbar": {
              "outlinewidth": 0,
              "ticks": ""
             }
            },
            "type": "scatterpolar"
           }
          ],
          "scatterpolargl": [
           {
            "marker": {
             "colorbar": {
              "outlinewidth": 0,
              "ticks": ""
             }
            },
            "type": "scatterpolargl"
           }
          ],
          "scatterternary": [
           {
            "marker": {
             "colorbar": {
              "outlinewidth": 0,
              "ticks": ""
             }
            },
            "type": "scatterternary"
           }
          ],
          "surface": [
           {
            "colorbar": {
             "outlinewidth": 0,
             "ticks": ""
            },
            "colorscale": [
             [
              0,
              "#0d0887"
             ],
             [
              0.1111111111111111,
              "#46039f"
             ],
             [
              0.2222222222222222,
              "#7201a8"
             ],
             [
              0.3333333333333333,
              "#9c179e"
             ],
             [
              0.4444444444444444,
              "#bd3786"
             ],
             [
              0.5555555555555556,
              "#d8576b"
             ],
             [
              0.6666666666666666,
              "#ed7953"
             ],
             [
              0.7777777777777778,
              "#fb9f3a"
             ],
             [
              0.8888888888888888,
              "#fdca26"
             ],
             [
              1,
              "#f0f921"
             ]
            ],
            "type": "surface"
           }
          ],
          "table": [
           {
            "cells": {
             "fill": {
              "color": "#EBF0F8"
             },
             "line": {
              "color": "white"
             }
            },
            "header": {
             "fill": {
              "color": "#C8D4E3"
             },
             "line": {
              "color": "white"
             }
            },
            "type": "table"
           }
          ]
         },
         "layout": {
          "annotationdefaults": {
           "arrowcolor": "#2a3f5f",
           "arrowhead": 0,
           "arrowwidth": 1
          },
          "autotypenumbers": "strict",
          "coloraxis": {
           "colorbar": {
            "outlinewidth": 0,
            "ticks": ""
           }
          },
          "colorscale": {
           "diverging": [
            [
             0,
             "#8e0152"
            ],
            [
             0.1,
             "#c51b7d"
            ],
            [
             0.2,
             "#de77ae"
            ],
            [
             0.3,
             "#f1b6da"
            ],
            [
             0.4,
             "#fde0ef"
            ],
            [
             0.5,
             "#f7f7f7"
            ],
            [
             0.6,
             "#e6f5d0"
            ],
            [
             0.7,
             "#b8e186"
            ],
            [
             0.8,
             "#7fbc41"
            ],
            [
             0.9,
             "#4d9221"
            ],
            [
             1,
             "#276419"
            ]
           ],
           "sequential": [
            [
             0,
             "#0d0887"
            ],
            [
             0.1111111111111111,
             "#46039f"
            ],
            [
             0.2222222222222222,
             "#7201a8"
            ],
            [
             0.3333333333333333,
             "#9c179e"
            ],
            [
             0.4444444444444444,
             "#bd3786"
            ],
            [
             0.5555555555555556,
             "#d8576b"
            ],
            [
             0.6666666666666666,
             "#ed7953"
            ],
            [
             0.7777777777777778,
             "#fb9f3a"
            ],
            [
             0.8888888888888888,
             "#fdca26"
            ],
            [
             1,
             "#f0f921"
            ]
           ],
           "sequentialminus": [
            [
             0,
             "#0d0887"
            ],
            [
             0.1111111111111111,
             "#46039f"
            ],
            [
             0.2222222222222222,
             "#7201a8"
            ],
            [
             0.3333333333333333,
             "#9c179e"
            ],
            [
             0.4444444444444444,
             "#bd3786"
            ],
            [
             0.5555555555555556,
             "#d8576b"
            ],
            [
             0.6666666666666666,
             "#ed7953"
            ],
            [
             0.7777777777777778,
             "#fb9f3a"
            ],
            [
             0.8888888888888888,
             "#fdca26"
            ],
            [
             1,
             "#f0f921"
            ]
           ]
          },
          "colorway": [
           "#636efa",
           "#EF553B",
           "#00cc96",
           "#ab63fa",
           "#FFA15A",
           "#19d3f3",
           "#FF6692",
           "#B6E880",
           "#FF97FF",
           "#FECB52"
          ],
          "font": {
           "color": "#2a3f5f"
          },
          "geo": {
           "bgcolor": "white",
           "lakecolor": "white",
           "landcolor": "#E5ECF6",
           "showlakes": true,
           "showland": true,
           "subunitcolor": "white"
          },
          "hoverlabel": {
           "align": "left"
          },
          "hovermode": "closest",
          "mapbox": {
           "style": "light"
          },
          "paper_bgcolor": "white",
          "plot_bgcolor": "#E5ECF6",
          "polar": {
           "angularaxis": {
            "gridcolor": "white",
            "linecolor": "white",
            "ticks": ""
           },
           "bgcolor": "#E5ECF6",
           "radialaxis": {
            "gridcolor": "white",
            "linecolor": "white",
            "ticks": ""
           }
          },
          "scene": {
           "xaxis": {
            "backgroundcolor": "#E5ECF6",
            "gridcolor": "white",
            "gridwidth": 2,
            "linecolor": "white",
            "showbackground": true,
            "ticks": "",
            "zerolinecolor": "white"
           },
           "yaxis": {
            "backgroundcolor": "#E5ECF6",
            "gridcolor": "white",
            "gridwidth": 2,
            "linecolor": "white",
            "showbackground": true,
            "ticks": "",
            "zerolinecolor": "white"
           },
           "zaxis": {
            "backgroundcolor": "#E5ECF6",
            "gridcolor": "white",
            "gridwidth": 2,
            "linecolor": "white",
            "showbackground": true,
            "ticks": "",
            "zerolinecolor": "white"
           }
          },
          "shapedefaults": {
           "line": {
            "color": "#2a3f5f"
           }
          },
          "ternary": {
           "aaxis": {
            "gridcolor": "white",
            "linecolor": "white",
            "ticks": ""
           },
           "baxis": {
            "gridcolor": "white",
            "linecolor": "white",
            "ticks": ""
           },
           "bgcolor": "#E5ECF6",
           "caxis": {
            "gridcolor": "white",
            "linecolor": "white",
            "ticks": ""
           }
          },
          "title": {
           "x": 0.05
          },
          "xaxis": {
           "automargin": true,
           "gridcolor": "white",
           "linecolor": "white",
           "ticks": "",
           "title": {
            "standoff": 15
           },
           "zerolinecolor": "white",
           "zerolinewidth": 2
          },
          "yaxis": {
           "automargin": true,
           "gridcolor": "white",
           "linecolor": "white",
           "ticks": "",
           "title": {
            "standoff": 15
           },
           "zerolinecolor": "white",
           "zerolinewidth": 2
          }
         }
        },
        "title": {
         "text": "DGI+ : 5.712085"
        },
        "xaxis": {
         "title": {
          "text": "Sense Features"
         }
        },
        "yaxis": {
         "title": {
          "text": "Dimensions"
         }
        }
       }
      },
      "text/html": [
       "<div>                            <div id=\"49306084-e38a-4dfe-bc4f-2bf187bc22f1\" class=\"plotly-graph-div\" style=\"height:525px; width:100%;\"></div>            <script type=\"text/javascript\">                require([\"plotly\"], function(Plotly) {                    window.PLOTLYENV=window.PLOTLYENV || {};                                    if (document.getElementById(\"49306084-e38a-4dfe-bc4f-2bf187bc22f1\")) {                    Plotly.newPlot(                        \"49306084-e38a-4dfe-bc4f-2bf187bc22f1\",                        [{\"x\":[\"Degree\",\"Clustering Coefficient\",\"Personalized Page Rank - Standard Deviation\",\"Average Neighbor Degree\",\"Average Neighbor Clustering\",\"Eccentricity\",\"Katz Centrality\"],\"z\":[[0.0,0.0,0.0,0.0,0.0,0.0,0.0],[0.0,0.0,0.0,0.0,0.0,0.0,0.0],[0.0,0.0,0.0,0.0,0.0,0.0,0.0],[0.0,0.0,0.0,0.0,0.0,0.0,0.0],[0.0,0.0,0.0,0.0,0.0,0.0,0.0],[0.0,0.0,0.0,0.0,0.0,0.0,0.0],[0.0,0.0,0.0,0.0,0.0,0.0,0.0],[0.0,0.0,0.0,0.0,0.0,0.0,0.0],[0.0,0.0,0.0,0.0,0.0,0.0,0.0],[0.0,0.0,0.0,0.0,0.0,0.0,0.0],[0.0,0.0,0.0,0.0,0.0,0.0,0.0],[0.0,0.0,0.0,0.0,0.0,0.0,0.0],[0.0,0.0,0.0,0.0,0.0,0.0,0.0],[0.0,0.0,0.0,0.0,0.0,0.0,0.31462135910987854],[0.0,0.0,0.0,0.0,0.0,0.0,0.0],[0.0,0.0,0.0,0.0,0.0,0.0,0.0],[0.0,0.0,0.0,0.0,0.0,0.0,0.02166173979640007],[0.0,0.0,0.0,0.0,0.0,0.0,0.08533968031406403],[0.0,0.0,0.0,0.0,0.0,0.0,0.0],[0.0,0.0,0.0,0.0,0.0,0.0,0.0],[0.0,0.0,0.0,0.0,0.0,0.0,0.0],[0.0,0.0,0.0,0.0,0.0,0.0,0.0],[0.0,0.0,0.0,0.0,0.0,0.0,0.0],[0.0,0.0,0.0,0.0,0.0,0.0,0.0],[0.0,0.0,0.0,0.0,0.0,0.0,0.08591436594724655],[0.0,0.0,0.0,0.0,0.0,0.0,0.0],[1.0,0.0,0.0,0.0,0.0,0.0,0.0],[0.0,0.0,0.0,0.0,0.0,0.8845369815826416,0.0],[0.0,0.0,0.0,0.0,0.7049280405044556,0.0,0.0],[0.0,0.0,0.0,0.0,0.0,0.0,0.0],[0.0,0.0,0.0,0.0,0.0,0.0,0.0],[0.0,0.0,0.0,0.0,0.0,0.0,0.0],[0.0,0.0,0.0,0.0,0.0,0.0,0.0],[0.0,0.0,0.9453455209732056,0.0,0.0,0.0,0.22830089926719666],[0.0,0.0,0.0,0.0,0.0,0.0,0.0],[0.0,0.0,0.0,0.0,0.0,0.0,0.0],[0.0,0.9159187078475952,0.0,0.0,0.16621460020542145,0.0,0.0],[0.0,0.0,0.0,0.0,0.0,0.0,0.044115062803030014],[0.0,0.0,0.0,0.0,0.0,0.0,0.0],[0.0,0.0,0.0,0.0,0.0,0.0,0.0],[0.0,0.0,0.0,0.0,0.0,0.0,0.0],[0.0,0.0,0.0,0.0,0.0,0.0,0.0],[0.0,0.0,0.0,0.0,0.0,0.0,0.0],[0.0,0.0,0.0,0.0,0.0,0.0,0.0],[0.0,0.0,0.0,0.0,0.0,0.0,0.0],[0.0,0.0,0.0,0.0,0.0,0.0,0.0],[0.0,0.0,0.0,0.0,0.0,0.0,0.0],[0.0,0.0,0.0,0.0,0.0,0.0,0.007785837631672621],[0.0,0.0,0.0,0.0,0.0,0.0,0.0018157623708248138],[0.0,0.0,0.0,0.0,0.0,0.0,0.0],[0.0,0.0,0.0,0.0,0.0,0.0,0.0],[0.0,0.0,0.0,0.0,0.0,0.0,0.0],[0.0,0.0,0.0,0.0,0.0,0.0,0.0],[0.0,0.0,0.0,0.0,0.0,0.0,0.08602909743785858],[0.0,0.0,0.0,0.0,0.0,0.0,0.0],[0.0,0.0,0.0,0.0,0.0,0.04813145846128464,0.0],[0.0,0.0,0.0,0.0,0.0,0.0,0.0],[0.0,0.0,0.0,0.880134105682373,0.0,0.0,0.0],[0.0,0.0,0.0,0.0,0.0,0.0,0.0],[0.0,0.0,0.0,0.0,0.0,0.0,0.0],[0.0,0.0,0.0,0.0,0.0,0.0,0.0],[0.0,0.0,0.0,0.0,0.0,0.0,0.0],[0.0,0.0,0.0,0.0,0.0,0.0,0.0],[0.0,0.0,0.0,0.0,0.0,0.0,0.0]],\"type\":\"heatmap\"}],                        {\"template\":{\"data\":{\"histogram2dcontour\":[{\"type\":\"histogram2dcontour\",\"colorbar\":{\"outlinewidth\":0,\"ticks\":\"\"},\"colorscale\":[[0.0,\"#0d0887\"],[0.1111111111111111,\"#46039f\"],[0.2222222222222222,\"#7201a8\"],[0.3333333333333333,\"#9c179e\"],[0.4444444444444444,\"#bd3786\"],[0.5555555555555556,\"#d8576b\"],[0.6666666666666666,\"#ed7953\"],[0.7777777777777778,\"#fb9f3a\"],[0.8888888888888888,\"#fdca26\"],[1.0,\"#f0f921\"]]}],\"choropleth\":[{\"type\":\"choropleth\",\"colorbar\":{\"outlinewidth\":0,\"ticks\":\"\"}}],\"histogram2d\":[{\"type\":\"histogram2d\",\"colorbar\":{\"outlinewidth\":0,\"ticks\":\"\"},\"colorscale\":[[0.0,\"#0d0887\"],[0.1111111111111111,\"#46039f\"],[0.2222222222222222,\"#7201a8\"],[0.3333333333333333,\"#9c179e\"],[0.4444444444444444,\"#bd3786\"],[0.5555555555555556,\"#d8576b\"],[0.6666666666666666,\"#ed7953\"],[0.7777777777777778,\"#fb9f3a\"],[0.8888888888888888,\"#fdca26\"],[1.0,\"#f0f921\"]]}],\"heatmap\":[{\"type\":\"heatmap\",\"colorbar\":{\"outlinewidth\":0,\"ticks\":\"\"},\"colorscale\":[[0.0,\"#0d0887\"],[0.1111111111111111,\"#46039f\"],[0.2222222222222222,\"#7201a8\"],[0.3333333333333333,\"#9c179e\"],[0.4444444444444444,\"#bd3786\"],[0.5555555555555556,\"#d8576b\"],[0.6666666666666666,\"#ed7953\"],[0.7777777777777778,\"#fb9f3a\"],[0.8888888888888888,\"#fdca26\"],[1.0,\"#f0f921\"]]}],\"heatmapgl\":[{\"type\":\"heatmapgl\",\"colorbar\":{\"outlinewidth\":0,\"ticks\":\"\"},\"colorscale\":[[0.0,\"#0d0887\"],[0.1111111111111111,\"#46039f\"],[0.2222222222222222,\"#7201a8\"],[0.3333333333333333,\"#9c179e\"],[0.4444444444444444,\"#bd3786\"],[0.5555555555555556,\"#d8576b\"],[0.6666666666666666,\"#ed7953\"],[0.7777777777777778,\"#fb9f3a\"],[0.8888888888888888,\"#fdca26\"],[1.0,\"#f0f921\"]]}],\"contourcarpet\":[{\"type\":\"contourcarpet\",\"colorbar\":{\"outlinewidth\":0,\"ticks\":\"\"}}],\"contour\":[{\"type\":\"contour\",\"colorbar\":{\"outlinewidth\":0,\"ticks\":\"\"},\"colorscale\":[[0.0,\"#0d0887\"],[0.1111111111111111,\"#46039f\"],[0.2222222222222222,\"#7201a8\"],[0.3333333333333333,\"#9c179e\"],[0.4444444444444444,\"#bd3786\"],[0.5555555555555556,\"#d8576b\"],[0.6666666666666666,\"#ed7953\"],[0.7777777777777778,\"#fb9f3a\"],[0.8888888888888888,\"#fdca26\"],[1.0,\"#f0f921\"]]}],\"surface\":[{\"type\":\"surface\",\"colorbar\":{\"outlinewidth\":0,\"ticks\":\"\"},\"colorscale\":[[0.0,\"#0d0887\"],[0.1111111111111111,\"#46039f\"],[0.2222222222222222,\"#7201a8\"],[0.3333333333333333,\"#9c179e\"],[0.4444444444444444,\"#bd3786\"],[0.5555555555555556,\"#d8576b\"],[0.6666666666666666,\"#ed7953\"],[0.7777777777777778,\"#fb9f3a\"],[0.8888888888888888,\"#fdca26\"],[1.0,\"#f0f921\"]]}],\"mesh3d\":[{\"type\":\"mesh3d\",\"colorbar\":{\"outlinewidth\":0,\"ticks\":\"\"}}],\"scatter\":[{\"fillpattern\":{\"fillmode\":\"overlay\",\"size\":10,\"solidity\":0.2},\"type\":\"scatter\"}],\"parcoords\":[{\"type\":\"parcoords\",\"line\":{\"colorbar\":{\"outlinewidth\":0,\"ticks\":\"\"}}}],\"scatterpolargl\":[{\"type\":\"scatterpolargl\",\"marker\":{\"colorbar\":{\"outlinewidth\":0,\"ticks\":\"\"}}}],\"bar\":[{\"error_x\":{\"color\":\"#2a3f5f\"},\"error_y\":{\"color\":\"#2a3f5f\"},\"marker\":{\"line\":{\"color\":\"#E5ECF6\",\"width\":0.5},\"pattern\":{\"fillmode\":\"overlay\",\"size\":10,\"solidity\":0.2}},\"type\":\"bar\"}],\"scattergeo\":[{\"type\":\"scattergeo\",\"marker\":{\"colorbar\":{\"outlinewidth\":0,\"ticks\":\"\"}}}],\"scatterpolar\":[{\"type\":\"scatterpolar\",\"marker\":{\"colorbar\":{\"outlinewidth\":0,\"ticks\":\"\"}}}],\"histogram\":[{\"marker\":{\"pattern\":{\"fillmode\":\"overlay\",\"size\":10,\"solidity\":0.2}},\"type\":\"histogram\"}],\"scattergl\":[{\"type\":\"scattergl\",\"marker\":{\"colorbar\":{\"outlinewidth\":0,\"ticks\":\"\"}}}],\"scatter3d\":[{\"type\":\"scatter3d\",\"line\":{\"colorbar\":{\"outlinewidth\":0,\"ticks\":\"\"}},\"marker\":{\"colorbar\":{\"outlinewidth\":0,\"ticks\":\"\"}}}],\"scattermapbox\":[{\"type\":\"scattermapbox\",\"marker\":{\"colorbar\":{\"outlinewidth\":0,\"ticks\":\"\"}}}],\"scatterternary\":[{\"type\":\"scatterternary\",\"marker\":{\"colorbar\":{\"outlinewidth\":0,\"ticks\":\"\"}}}],\"scattercarpet\":[{\"type\":\"scattercarpet\",\"marker\":{\"colorbar\":{\"outlinewidth\":0,\"ticks\":\"\"}}}],\"carpet\":[{\"aaxis\":{\"endlinecolor\":\"#2a3f5f\",\"gridcolor\":\"white\",\"linecolor\":\"white\",\"minorgridcolor\":\"white\",\"startlinecolor\":\"#2a3f5f\"},\"baxis\":{\"endlinecolor\":\"#2a3f5f\",\"gridcolor\":\"white\",\"linecolor\":\"white\",\"minorgridcolor\":\"white\",\"startlinecolor\":\"#2a3f5f\"},\"type\":\"carpet\"}],\"table\":[{\"cells\":{\"fill\":{\"color\":\"#EBF0F8\"},\"line\":{\"color\":\"white\"}},\"header\":{\"fill\":{\"color\":\"#C8D4E3\"},\"line\":{\"color\":\"white\"}},\"type\":\"table\"}],\"barpolar\":[{\"marker\":{\"line\":{\"color\":\"#E5ECF6\",\"width\":0.5},\"pattern\":{\"fillmode\":\"overlay\",\"size\":10,\"solidity\":0.2}},\"type\":\"barpolar\"}],\"pie\":[{\"automargin\":true,\"type\":\"pie\"}]},\"layout\":{\"autotypenumbers\":\"strict\",\"colorway\":[\"#636efa\",\"#EF553B\",\"#00cc96\",\"#ab63fa\",\"#FFA15A\",\"#19d3f3\",\"#FF6692\",\"#B6E880\",\"#FF97FF\",\"#FECB52\"],\"font\":{\"color\":\"#2a3f5f\"},\"hovermode\":\"closest\",\"hoverlabel\":{\"align\":\"left\"},\"paper_bgcolor\":\"white\",\"plot_bgcolor\":\"#E5ECF6\",\"polar\":{\"bgcolor\":\"#E5ECF6\",\"angularaxis\":{\"gridcolor\":\"white\",\"linecolor\":\"white\",\"ticks\":\"\"},\"radialaxis\":{\"gridcolor\":\"white\",\"linecolor\":\"white\",\"ticks\":\"\"}},\"ternary\":{\"bgcolor\":\"#E5ECF6\",\"aaxis\":{\"gridcolor\":\"white\",\"linecolor\":\"white\",\"ticks\":\"\"},\"baxis\":{\"gridcolor\":\"white\",\"linecolor\":\"white\",\"ticks\":\"\"},\"caxis\":{\"gridcolor\":\"white\",\"linecolor\":\"white\",\"ticks\":\"\"}},\"coloraxis\":{\"colorbar\":{\"outlinewidth\":0,\"ticks\":\"\"}},\"colorscale\":{\"sequential\":[[0.0,\"#0d0887\"],[0.1111111111111111,\"#46039f\"],[0.2222222222222222,\"#7201a8\"],[0.3333333333333333,\"#9c179e\"],[0.4444444444444444,\"#bd3786\"],[0.5555555555555556,\"#d8576b\"],[0.6666666666666666,\"#ed7953\"],[0.7777777777777778,\"#fb9f3a\"],[0.8888888888888888,\"#fdca26\"],[1.0,\"#f0f921\"]],\"sequentialminus\":[[0.0,\"#0d0887\"],[0.1111111111111111,\"#46039f\"],[0.2222222222222222,\"#7201a8\"],[0.3333333333333333,\"#9c179e\"],[0.4444444444444444,\"#bd3786\"],[0.5555555555555556,\"#d8576b\"],[0.6666666666666666,\"#ed7953\"],[0.7777777777777778,\"#fb9f3a\"],[0.8888888888888888,\"#fdca26\"],[1.0,\"#f0f921\"]],\"diverging\":[[0,\"#8e0152\"],[0.1,\"#c51b7d\"],[0.2,\"#de77ae\"],[0.3,\"#f1b6da\"],[0.4,\"#fde0ef\"],[0.5,\"#f7f7f7\"],[0.6,\"#e6f5d0\"],[0.7,\"#b8e186\"],[0.8,\"#7fbc41\"],[0.9,\"#4d9221\"],[1,\"#276419\"]]},\"xaxis\":{\"gridcolor\":\"white\",\"linecolor\":\"white\",\"ticks\":\"\",\"title\":{\"standoff\":15},\"zerolinecolor\":\"white\",\"automargin\":true,\"zerolinewidth\":2},\"yaxis\":{\"gridcolor\":\"white\",\"linecolor\":\"white\",\"ticks\":\"\",\"title\":{\"standoff\":15},\"zerolinecolor\":\"white\",\"automargin\":true,\"zerolinewidth\":2},\"scene\":{\"xaxis\":{\"backgroundcolor\":\"#E5ECF6\",\"gridcolor\":\"white\",\"linecolor\":\"white\",\"showbackground\":true,\"ticks\":\"\",\"zerolinecolor\":\"white\",\"gridwidth\":2},\"yaxis\":{\"backgroundcolor\":\"#E5ECF6\",\"gridcolor\":\"white\",\"linecolor\":\"white\",\"showbackground\":true,\"ticks\":\"\",\"zerolinecolor\":\"white\",\"gridwidth\":2},\"zaxis\":{\"backgroundcolor\":\"#E5ECF6\",\"gridcolor\":\"white\",\"linecolor\":\"white\",\"showbackground\":true,\"ticks\":\"\",\"zerolinecolor\":\"white\",\"gridwidth\":2}},\"shapedefaults\":{\"line\":{\"color\":\"#2a3f5f\"}},\"annotationdefaults\":{\"arrowcolor\":\"#2a3f5f\",\"arrowhead\":0,\"arrowwidth\":1},\"geo\":{\"bgcolor\":\"white\",\"landcolor\":\"#E5ECF6\",\"subunitcolor\":\"white\",\"showland\":true,\"showlakes\":true,\"lakecolor\":\"white\"},\"title\":{\"x\":0.05},\"mapbox\":{\"style\":\"light\"}}},\"title\":{\"text\":\"DGI+ : 5.712085\"},\"xaxis\":{\"title\":{\"text\":\"Sense Features\"}},\"yaxis\":{\"title\":{\"text\":\"Dimensions\"}}},                        {\"responsive\": true}                    ).then(function(){\n",
       "                            \n",
       "var gd = document.getElementById('49306084-e38a-4dfe-bc4f-2bf187bc22f1');\n",
       "var x = new MutationObserver(function (mutations, observer) {{\n",
       "        var display = window.getComputedStyle(gd).display;\n",
       "        if (!display || display === 'none') {{\n",
       "            console.log([gd, 'removed!']);\n",
       "            Plotly.purge(gd);\n",
       "            observer.disconnect();\n",
       "        }}\n",
       "}});\n",
       "\n",
       "// Listen for the removal of the full notebook cells\n",
       "var notebookContainer = gd.closest('#notebook-container');\n",
       "if (notebookContainer) {{\n",
       "    x.observe(notebookContainer, {childList: true});\n",
       "}}\n",
       "\n",
       "// Listen for the clearing of the current output cell\n",
       "var outputEl = gd.closest('.output');\n",
       "if (outputEl) {{\n",
       "    x.observe(outputEl, {childList: true});\n",
       "}}\n",
       "\n",
       "                        })                };                });            </script>        </div>"
      ]
     },
     "metadata": {},
     "output_type": "display_data"
    }
   ],
   "source": [
    "fig = go.Figure()\n",
    "fig.add_trace(go.Heatmap(z = explain_og,\n",
    "                         x = list(sense_feat_dict), \n",
    "                         ))\n",
    "fig.update_layout(title_text = 'DGI : ' + str(np.linalg.norm(explain_og, ord = 'nuc')), \n",
    "                  xaxis_title_text = 'Sense Features', \n",
    "                  yaxis_title_text = 'Dimensions')\n",
    "\n",
    "fig.show()\n",
    "\n",
    "fig = go.Figure()\n",
    "fig.add_trace(go.Heatmap(z = explain_plus,\n",
    "                         x = list(sense_feat_dict), \n",
    "                         ))\n",
    "fig.update_layout(title_text = 'DGI+ : ' + str(np.linalg.norm(explain_plus, ord = 'nuc')), \n",
    "                  xaxis_title_text = 'Sense Features', \n",
    "                  yaxis_title_text = 'Dimensions')\n",
    "\n",
    "fig.show()"
   ]
  },
  {
   "cell_type": "code",
   "execution_count": null,
   "id": "2a8368a7",
   "metadata": {},
   "outputs": [],
   "source": []
  },
  {
   "cell_type": "code",
   "execution_count": 26,
   "id": "62f4280e",
   "metadata": {},
   "outputs": [],
   "source": [
    "Y_plus = embed_plus\n",
    "sense_mat = tf.einsum('ij, ik -> ijk', Y_plus, sense_features)\n",
    "Y_plus_norm = tf.linalg.diag_part(tf.matmul(Y_plus, Y_plus, transpose_b = True), k = 0)\n",
    "sense_norm = tf.linalg.diag_part(tf.matmul(sense_features, sense_features, transpose_b = True), k = 0)\n",
    "norm = Y_plus_norm * tf.cast(sense_norm, tf.float32)\n",
    "D_plus = tf.transpose(tf.transpose(sense_mat) / norm)\n",
    "D_plus = (D_plus - tf.reshape(tf.reduce_min(D_plus, axis = [-1, -2]), (-1, 1, 1))) / tf.reshape(tf.reduce_max(D_plus, axis = [-1, -2]) - tf.reduce_min(D_plus, axis = [-1, -2]), (-1, 1, 1))\n",
    "\n",
    "\n",
    "Y_og = embed_og\n",
    "sense_mat = tf.einsum('ij, ik -> ijk', Y_og, sense_features)\n",
    "Y_og_norm = tf.linalg.diag_part(tf.matmul(Y_og, Y_og, transpose_b = True), k = 0)\n",
    "sense_norm = tf.linalg.diag_part(tf.matmul(sense_features, sense_features, transpose_b = True), k = 0)\n",
    "norm = Y_og_norm * tf.cast(sense_norm, tf.float32)\n",
    "D_og = tf.transpose(tf.transpose(sense_mat) / norm)\n",
    "D_og = (D_og - tf.reshape(tf.reduce_min(D_og, axis = [-1, -2]), (-1, 1, 1))) / tf.reshape(tf.reduce_max(D_og, axis = [-1, -2]) - tf.reduce_min(D_og, axis = [-1, -2]), (-1, 1, 1))\n"
   ]
  },
  {
   "cell_type": "code",
   "execution_count": 27,
   "id": "e79f3f4b",
   "metadata": {},
   "outputs": [
    {
     "name": "stderr",
     "output_type": "stream",
     "text": [
      "100%|██████████████████████████████████████| 1186/1186 [00:02<00:00, 574.27it/s]\n",
      "100%|██████████████████████████████████████| 1186/1186 [00:02<00:00, 489.41it/s]\n"
     ]
    }
   ],
   "source": [
    "norm_og = [np.linalg.norm(D_og[node, :, :], ord = 'nuc') for node in tqdm(range(len(graph)))]\n",
    "norm_plus = [np.linalg.norm(D_plus[node, :, :], ord = 'nuc') for node in tqdm(range(len(graph)))]\n",
    "\n"
   ]
  },
  {
   "cell_type": "code",
   "execution_count": 28,
   "id": "07611813",
   "metadata": {},
   "outputs": [
    {
     "data": {
      "application/vnd.plotly.v1+json": {
       "config": {
        "plotlyServerURL": "https://plot.ly"
       },
       "data": [
        {
         "type": "histogram",
         "x": [
          0.001617431640625,
          -0.066680908203125,
          -0.227142333984375,
          -0.21410083770751953,
          -0.2545957565307617,
          -0.25665760040283203,
          -0.20417118072509766,
          -0.37677669525146484,
          -0.28590965270996094,
          -0.095550537109375,
          -0.34671974182128906,
          -0.2909221649169922,
          -0.20943641662597656,
          -0.25266075134277344,
          -0.3284721374511719,
          -0.1643056869506836,
          0.08591175079345703,
          -0.2150287628173828,
          -0.3844108581542969,
          -0.22807788848876953,
          -0.22533321380615234,
          -0.1704721450805664,
          -0.19647598266601562,
          -0.19234848022460938,
          -0.08269882202148438,
          -0.09345149993896484,
          -0.11670923233032227,
          -0.2685556411743164,
          -0.21260547637939453,
          -0.2883634567260742,
          -0.3662071228027344,
          -0.2059173583984375,
          -0.3594341278076172,
          -0.06553268432617188,
          -0.07882213592529297,
          0.18888378143310547,
          -0.3902750015258789,
          -0.26438236236572266,
          -0.2305135726928711,
          -0.168304443359375,
          -0.2441244125366211,
          -0.35133934020996094,
          -0.2737865447998047,
          -0.21051788330078125,
          -0.23727893829345703,
          -0.18723201751708984,
          -0.10581111907958984,
          -0.20322036743164062,
          -0.2413616180419922,
          -0.12494564056396484,
          -0.14320850372314453,
          -0.2228412628173828,
          -0.31918811798095703,
          -0.29886436462402344,
          -0.11313915252685547,
          -0.2501392364501953,
          -0.047211647033691406,
          -0.24779415130615234,
          -0.22984790802001953,
          -0.20128440856933594,
          -0.2114114761352539,
          -0.099700927734375,
          -0.023225784301757812,
          -0.41388607025146484,
          -0.3178882598876953,
          -0.41275501251220703,
          -0.25407886505126953,
          -0.16219615936279297,
          -0.3093986511230469,
          0.2001333236694336,
          -0.19167137145996094,
          -0.09256744384765625,
          -0.3503589630126953,
          -0.2572164535522461,
          -0.2669687271118164,
          -0.293304443359375,
          -0.20049476623535156,
          -0.032032012939453125,
          -0.3635711669921875,
          -0.3825187683105469,
          -0.0547637939453125,
          -0.03140449523925781,
          -0.19948196411132812,
          -0.14868736267089844,
          -0.2142486572265625,
          -0.3299446105957031,
          -0.23343944549560547,
          -0.3228168487548828,
          -0.2497539520263672,
          -0.28255558013916016,
          -0.17834758758544922,
          -0.20880985260009766,
          -0.1393890380859375,
          0.2581520080566406,
          -0.18660545349121094,
          -0.319366455078125,
          -0.3061332702636719,
          -0.140869140625,
          -0.1729717254638672,
          -0.41780662536621094,
          -0.2529621124267578,
          -0.6468610763549805,
          -0.08922958374023438,
          -0.36318206787109375,
          -0.1862931251525879,
          0.26250362396240234,
          0.055614471435546875,
          -0.26531314849853516,
          -0.2500162124633789,
          -0.3280954360961914,
          -0.25037193298339844,
          -0.046835899353027344,
          -0.37897396087646484,
          0.01936054229736328,
          -0.22991275787353516,
          0.35265064239501953,
          -0.10938739776611328,
          -0.2924346923828125,
          -0.19015216827392578,
          -0.3939371109008789,
          -0.2471628189086914,
          -0.12061405181884766,
          -0.3350954055786133,
          -0.2330474853515625,
          -0.31719398498535156,
          -0.3453531265258789,
          -0.3044729232788086,
          0.27040672302246094,
          -0.319183349609375,
          -0.13335800170898438,
          -0.22937583923339844,
          -0.34116077423095703,
          -0.0025463104248046875,
          -0.33553600311279297,
          -0.2506875991821289,
          -0.23276233673095703,
          -0.1375436782836914,
          -0.34142208099365234,
          0.2787017822265625,
          0.04633808135986328,
          -0.09363174438476562,
          -0.2739706039428711,
          -0.23931312561035156,
          -0.3165092468261719,
          -0.2256155014038086,
          -0.31459617614746094,
          -0.2729482650756836,
          -0.17861175537109375,
          -0.18123817443847656,
          -0.013512611389160156,
          -0.2980222702026367,
          -0.274627685546875,
          -0.09257316589355469,
          -0.18306350708007812,
          -0.19026565551757812,
          -0.33774280548095703,
          -0.2304058074951172,
          -0.15339088439941406,
          -0.7145118713378906,
          0.0035200119018554688,
          -0.11886835098266602,
          0.009575843811035156,
          -0.33559131622314453,
          -0.078155517578125,
          -0.29566097259521484,
          -0.22245121002197266,
          -0.2919960021972656,
          -0.16904830932617188,
          -0.7524347305297852,
          1.1758370399475098,
          -0.054350852966308594,
          -0.30437374114990234,
          -0.24569225311279297,
          -0.21791362762451172,
          -0.24768733978271484,
          -0.3099098205566406,
          -0.2272624969482422,
          -0.2542858123779297,
          -0.26399707794189453,
          -0.4208202362060547,
          -0.4012422561645508,
          -0.2545175552368164,
          -0.1588897705078125,
          -0.3590688705444336,
          -0.2457866668701172,
          -0.1029958724975586,
          -0.19960403442382812,
          -0.25456809997558594,
          -0.027505874633789062,
          -0.676177978515625,
          -0.4760627746582031,
          -0.14488983154296875,
          -0.3122377395629883,
          -0.32389163970947266,
          -0.0952596664428711,
          -0.5848245620727539,
          -0.35639381408691406,
          -0.24393653869628906,
          -0.0954742431640625,
          -0.24480247497558594,
          -0.0981130599975586,
          -0.14699459075927734,
          -0.17672061920166016,
          -0.2001514434814453,
          -0.31525707244873047,
          -0.12747478485107422,
          -0.2453784942626953,
          -0.0201416015625,
          -0.5867652893066406,
          -0.5528717041015625,
          -0.23325634002685547,
          -0.3757925033569336,
          -0.6022520065307617,
          0.20487689971923828,
          -0.1965007781982422,
          -0.4157886505126953,
          -0.5311355590820312,
          -0.5218467712402344,
          -0.7180328369140625,
          -0.29685306549072266,
          -0.3580493927001953,
          -0.18896007537841797,
          -0.2684059143066406,
          -0.17107677459716797,
          -0.08196544647216797,
          -0.24142742156982422,
          -0.1465749740600586,
          -0.3117046356201172,
          -0.267181396484375,
          -0.3420066833496094,
          -0.24878215789794922,
          -0.2945547103881836,
          -0.33989429473876953,
          -0.13499069213867188,
          -0.29524993896484375,
          -0.25235652923583984,
          0.038349151611328125,
          -0.36426544189453125,
          -0.21857070922851562,
          -0.20866012573242188,
          -0.02975940704345703,
          0.1332406997680664,
          -0.09559345245361328,
          -0.20837783813476562,
          -0.6639499664306641,
          -0.20391082763671875,
          -0.35353946685791016,
          0.07747268676757812,
          -0.21002578735351562,
          -0.30361461639404297,
          -0.24880504608154297,
          -0.3251152038574219,
          -0.541778564453125,
          -0.6502952575683594,
          0.14021682739257812,
          -0.33101654052734375,
          -0.11790943145751953,
          -0.1693563461303711,
          -0.3195486068725586,
          -0.22446060180664062,
          -0.27460670471191406,
          -0.4276876449584961,
          -0.44444847106933594,
          -0.5720787048339844,
          -0.29090023040771484,
          -0.25334835052490234,
          -0.2345447540283203,
          -0.24740886688232422,
          -0.2892789840698242,
          0.163116455078125,
          -0.056281089782714844,
          -0.2032756805419922,
          -0.21541690826416016,
          -0.28746509552001953,
          -0.06268024444580078,
          -0.06701850891113281,
          -0.40547847747802734,
          -0.5363483428955078,
          -0.3177766799926758,
          -0.26012611389160156,
          -0.16811752319335938,
          -0.2602529525756836,
          -0.3943777084350586,
          -0.15137004852294922,
          -0.25511837005615234,
          -0.3414793014526367,
          -0.3300180435180664,
          -0.4243927001953125,
          -0.19056034088134766,
          -0.19816303253173828,
          -0.30151844024658203,
          -0.26136302947998047,
          -0.017004013061523438,
          -0.16004276275634766,
          -0.35747718811035156,
          -0.25942134857177734,
          -0.26163768768310547,
          -0.29655933380126953,
          -0.05129432678222656,
          -0.336151123046875,
          -0.22969722747802734,
          -0.17393016815185547,
          -0.2370767593383789,
          -0.17704105377197266,
          -0.29291486740112305,
          0.8095088005065918,
          0.29407501220703125,
          -0.5103960037231445,
          -0.37685394287109375,
          -0.2979707717895508,
          -0.1523895263671875,
          -0.26383209228515625,
          0.0006780624389648438,
          -0.1876087188720703,
          -0.07579994201660156,
          -0.22698402404785156,
          -0.1898975372314453,
          -0.24126529693603516,
          -0.5950183868408203,
          -0.2711296081542969,
          -0.06768512725830078,
          -0.7319746017456055,
          -0.01999378204345703,
          -0.34726619720458984,
          -0.26047420501708984,
          -0.3834362030029297,
          -0.27805423736572266,
          -0.28860950469970703,
          -0.09506797790527344,
          -0.10992431640625,
          -0.2651987075805664,
          -0.01903533935546875,
          -0.2007579803466797,
          -0.020705223083496094,
          -0.34099864959716797,
          -0.5259132385253906,
          -0.6164507865905762,
          -0.03429985046386719,
          -0.16559314727783203,
          -0.3257303237915039,
          -0.1383190155029297,
          -0.6618719100952148,
          -0.03800201416015625,
          -0.08523750305175781,
          -0.17979049682617188,
          -0.2805910110473633,
          -0.10248470306396484,
          -0.35150909423828125,
          -0.25058555603027344,
          -0.050907135009765625,
          -0.07461929321289062,
          -0.11313533782958984,
          -0.12723445892333984,
          -0.33626842498779297,
          0.09611082077026367,
          -0.3426074981689453,
          -0.18844032287597656,
          -0.08933067321777344,
          -0.1226186752319336,
          -0.28649044036865234,
          -0.6282358169555664,
          -0.5160393714904785,
          -0.3031044006347656,
          0.23294353485107422,
          -0.48943328857421875,
          0.0867300033569336,
          0.03873443603515625,
          -0.10366249084472656,
          -0.6066474914550781,
          -0.2473773956298828,
          -0.1290750503540039,
          -0.07742786407470703,
          0.10262107849121094,
          -0.27675819396972656,
          -0.6281251907348633,
          -0.09380817413330078,
          -0.3342475891113281,
          -0.46422767639160156,
          -0.9683256149291992,
          -0.07891273498535156,
          0.006482124328613281,
          -0.22365570068359375,
          -0.06149005889892578,
          -0.20277786254882812,
          -0.4678688049316406,
          -0.32668209075927734,
          -0.09604835510253906,
          0.07671737670898438,
          -0.25257205963134766,
          0.0952157974243164,
          0.03116321563720703,
          -0.2637815475463867,
          -0.2631111145019531,
          -0.4150876998901367,
          -0.6327376365661621,
          -0.03181266784667969,
          -0.34302425384521484,
          -0.3325958251953125,
          -0.2795276641845703,
          -0.0841217041015625,
          -0.12200736999511719,
          -0.2672100067138672,
          -0.2609100341796875,
          -0.13524341583251953,
          -0.08903121948242188,
          -0.12521743774414062,
          -0.25395774841308594,
          -0.3748807907104492,
          -0.3017740249633789,
          -0.2736186981201172,
          -0.09472370147705078,
          -0.4726266860961914,
          -0.25995445251464844,
          -0.4887361526489258,
          -0.06636810302734375,
          -0.09076881408691406,
          -0.22526168823242188,
          0.1726388931274414,
          -0.6076393127441406,
          -0.6388435363769531,
          -0.20171833038330078,
          -0.15679931640625,
          -0.1422100067138672,
          -0.45815086364746094,
          -0.05290031433105469,
          -0.17893028259277344,
          -0.0024824142456054688,
          -0.1824817657470703,
          -0.2962837219238281,
          -0.16214847564697266,
          -0.2996377944946289,
          -0.062198638916015625,
          -0.0015010833740234375,
          -0.22443675994873047,
          -0.4473705291748047,
          -0.20919227600097656,
          -0.15370655059814453,
          -0.15979957580566406,
          0.15542888641357422,
          -0.4563131332397461,
          -0.1336040496826172,
          -0.5068740844726562,
          -0.6917581558227539,
          -0.2589235305786133,
          -0.22370433807373047,
          -0.12349128723144531,
          -0.3221092224121094,
          -0.25900840759277344,
          -0.19870376586914062,
          -0.006096839904785156,
          -0.18673038482666016,
          -0.2477121353149414,
          -0.0357666015625,
          -0.2625732421875,
          -0.03843498229980469,
          -0.36308860778808594,
          -0.41930484771728516,
          -0.35493040084838867,
          -0.35584259033203125,
          -0.12125396728515625,
          -0.32817935943603516,
          -0.09567070007324219,
          -0.4319896697998047,
          -0.2899188995361328,
          0.11998653411865234,
          -0.020093917846679688,
          -0.03222465515136719,
          0.01683330535888672,
          -0.33568859100341797,
          -0.3721780776977539,
          -0.04980659484863281,
          -0.18462657928466797,
          -0.5291857719421387,
          -0.1833667755126953,
          -0.2788534164428711,
          0.04494762420654297,
          -0.6329689025878906,
          -0.3901643753051758,
          -0.11879730224609375,
          -0.0554046630859375,
          -0.198394775390625,
          -0.08601188659667969,
          -0.25181102752685547,
          -0.3652467727661133,
          -0.23979854583740234,
          -0.03758525848388672,
          -0.31590747833251953,
          -0.2748994827270508,
          -0.037924766540527344,
          -0.8765392303466797,
          -0.7949042320251465,
          -0.36827850341796875,
          -0.0679616928100586,
          -0.009467124938964844,
          -0.7155818939208984,
          -0.30276012420654297,
          -0.36933231353759766,
          -0.25154781341552734,
          -0.02765941619873047,
          -0.32164859771728516,
          -0.25198841094970703,
          -0.5924310684204102,
          -0.4934673309326172,
          -0.07213878631591797,
          0.27243995666503906,
          0.2161092758178711,
          -0.11310386657714844,
          -0.8062372207641602,
          0.2852764129638672,
          0.012968063354492188,
          0.013315200805664062,
          -0.36277198791503906,
          0.18053340911865234,
          -0.11123466491699219,
          -0.21970844268798828,
          -0.5653371810913086,
          -0.2573709487915039,
          -0.014068603515625,
          -0.3513774871826172,
          -0.2664794921875,
          0.1739940643310547,
          -0.2878389358520508,
          -0.1730184555053711,
          0.1143808364868164,
          -0.2573966979980469,
          -0.18602514266967773,
          -0.3475790023803711,
          -0.3911151885986328,
          -0.25058555603027344,
          -0.44589900970458984,
          -0.02905750274658203,
          0.11929702758789062,
          -0.29671382904052734,
          -0.30613231658935547,
          -0.12396907806396484,
          0.046265602111816406,
          -0.3052806854248047,
          0.009199142456054688,
          0.02615833282470703,
          -0.0871572494506836,
          -0.13680744171142578,
          0.014944076538085938,
          -0.03100299835205078,
          -0.3183307647705078,
          -0.05743980407714844,
          -0.33127689361572266,
          -0.06768512725830078,
          -0.42793941497802734,
          -0.32180118560791016,
          -0.22935771942138672,
          -0.06812095642089844,
          0.10174560546875,
          -0.11155033111572266,
          -0.1385784149169922,
          -0.21756553649902344,
          0.11175060272216797,
          -0.2255420684814453,
          -0.28038883209228516,
          -0.062038421630859375,
          -0.19567012786865234,
          -0.4604330062866211,
          -0.3334388732910156,
          -0.24063587188720703,
          -0.022710800170898438,
          -0.08731269836425781,
          -0.5452995300292969,
          0.17626953125,
          -0.061593055725097656,
          -0.035980224609375,
          -0.008985519409179688,
          -0.3285222053527832,
          -0.18290996551513672,
          -0.08569526672363281,
          -0.0677938461303711,
          -0.05852794647216797,
          -0.37917423248291016,
          -0.06420707702636719,
          -0.22895526885986328,
          -0.14240646362304688,
          -0.3740835189819336,
          -0.4526214599609375,
          -0.19745254516601562,
          0.11450862884521484,
          -0.3147726058959961,
          -0.04356956481933594,
          -0.09292030334472656,
          -0.3448495864868164,
          -0.06350994110107422,
          -0.3520784378051758,
          0.3221006393432617,
          -0.15468215942382812,
          -0.541778564453125,
          -0.5624628067016602,
          -0.1243295669555664,
          0.03439903259277344,
          0.07296466827392578,
          0.007904052734375,
          -0.06768512725830078,
          -0.15365219116210938,
          -0.3239927291870117,
          -0.2233867645263672,
          -0.17456912994384766,
          -0.2699260711669922,
          -0.0943756103515625,
          -0.4014453887939453,
          -0.15880870819091797,
          -0.046454429626464844,
          -0.13956642150878906,
          -0.38294219970703125,
          -0.39571666717529297,
          -0.029811859130859375,
          -0.32169437408447266,
          -0.1544351577758789,
          -0.31359195709228516,
          -0.2641420364379883,
          -0.12950515747070312,
          -0.015890121459960938,
          -0.19282245635986328,
          -0.38272666931152344,
          0.08455657958984375,
          -0.5490541458129883,
          -0.27107906341552734,
          -0.01998138427734375,
          -0.14905643463134766,
          -0.024942398071289062,
          0.27167415618896484,
          -0.1465892791748047,
          -0.25953102111816406,
          -0.22524070739746094,
          -0.020506858825683594,
          -0.05521583557128906,
          -0.21158123016357422,
          -0.37341880798339844,
          -0.4707622528076172,
          -0.473724365234375,
          -0.1809854507446289,
          -0.4285240173339844,
          -0.6117773056030273,
          0.1298666000366211,
          -0.05121898651123047,
          -0.10696697235107422,
          0.2507295608520508,
          0.04395103454589844,
          -0.18553733825683594,
          -0.10885143280029297,
          -0.15131378173828125,
          -0.4727139472961426,
          -0.6717405319213867,
          0.2570676803588867,
          -0.030912399291992188,
          -0.10309982299804688,
          -0.02721691131591797,
          -0.36827850341796875,
          -0.07290077209472656,
          -0.10364723205566406,
          -0.15671539306640625,
          -0.017531394958496094,
          -0.2904396057128906,
          -0.1738271713256836,
          -0.3334312438964844,
          -0.25664520263671875,
          -0.3527107238769531,
          0.1012430191040039,
          -0.2151050567626953,
          -0.245391845703125,
          -0.31542110443115234,
          -0.1865682601928711,
          -0.3426074981689453,
          0.024252891540527344,
          0.14144134521484375,
          -0.23663711547851562,
          0.21862411499023438,
          -0.34405040740966797,
          -0.48710060119628906,
          -0.11173439025878906,
          0.008648872375488281,
          -0.02852344512939453,
          -0.39220523834228516,
          -0.1446695327758789,
          -0.16794490814208984,
          -0.22525310516357422,
          0.11714935302734375,
          0.0687856674194336,
          -0.07237052917480469,
          0.13256359100341797,
          -0.4046297073364258,
          -0.0772104263305664,
          -0.0987710952758789,
          -0.19192123413085938,
          -0.07047080993652344,
          0.14144134521484375,
          -0.13518428802490234,
          -0.0023784637451171875,
          -0.3261384963989258,
          -0.16176128387451172,
          -0.25058555603027344,
          -0.15285110473632812,
          0.15177440643310547,
          0.141845703125,
          -0.5390901565551758,
          0.020679473876953125,
          -0.035904884338378906,
          -0.03909873962402344,
          0.06515789031982422,
          -0.10846996307373047,
          0.02181529998779297,
          -0.25058555603027344,
          -0.33147525787353516,
          0.11175060272216797,
          0.26381778717041016,
          -0.5203313827514648,
          0.0035762786865234375,
          -0.11597919464111328,
          -0.11394023895263672,
          0.2787017822265625,
          0.284149169921875,
          -0.40938282012939453,
          -0.6616811752319336,
          -0.25058555603027344,
          -0.3074169158935547,
          -0.20171737670898438,
          -0.17146587371826172,
          -0.5077829360961914,
          -0.0861959457397461,
          -0.23872089385986328,
          0.11175060272216797,
          -0.02066326141357422,
          -0.08940982818603516,
          -0.3048210144042969,
          0.1726388931274414,
          -0.021101951599121094,
          0.019956588745117188,
          -0.7178897857666016,
          0.04009819030761719,
          -0.18296432495117188,
          -0.30739784240722656,
          -0.25597286224365234,
          -0.33434486389160156,
          0.1000518798828125,
          -0.060985565185546875,
          -0.6784725189208984,
          -0.06768512725830078,
          -0.7978987693786621,
          -0.11996078491210938,
          0.0028076171875,
          -0.11644840240478516,
          -0.15638065338134766,
          -0.042601585388183594,
          -0.1447763442993164,
          -0.08738327026367188,
          -0.5529098510742188,
          -0.1140756607055664,
          -0.04812431335449219,
          -0.06850719451904297,
          -0.005963325500488281,
          0.13837432861328125,
          -0.437103271484375,
          -0.6799592971801758,
          -0.6048126220703125,
          -0.06350994110107422,
          -0.45986080169677734,
          -0.03025531768798828,
          -0.2519807815551758,
          -0.25483131408691406,
          -0.7746682167053223,
          -0.08014583587646484,
          0.3622398376464844,
          -0.08456707000732422,
          -0.01620006561279297,
          0.04871082305908203,
          -0.12820053100585938,
          -0.6205158233642578,
          -0.0033626556396484375,
          0.055263519287109375,
          0.35198211669921875,
          -0.22637939453125,
          0.17181873321533203,
          -0.9779930114746094,
          0.06849288940429688,
          -0.05754566192626953,
          -0.02485942840576172,
          0.06412506103515625,
          0.17090129852294922,
          0.054802894592285156,
          -0.4720134735107422,
          -0.7746682167053223,
          0.02591705322265625,
          -0.1031951904296875,
          -0.047682762145996094,
          -0.04334259033203125,
          -0.40000152587890625,
          0.5480661392211914,
          -0.07143783569335938,
          -0.03785896301269531,
          -0.16528892517089844,
          -0.09597396850585938,
          -0.3930931091308594,
          -0.07595062255859375,
          -0.23227691650390625,
          -0.31359195709228516,
          -0.06768512725830078,
          -0.27736663818359375,
          0.05263996124267578,
          -0.01992511749267578,
          -0.24137592315673828,
          0.1560077667236328,
          0.32210826873779297,
          -0.25902366638183594,
          -0.37502384185791016,
          -0.07633590698242188,
          -0.6434974670410156,
          -0.1308126449584961,
          -0.0046844482421875,
          0.07634162902832031,
          -0.1268472671508789,
          -0.1031036376953125,
          -0.4967517852783203,
          -0.5535516738891602,
          -0.0953512191772461,
          -0.3757925033569336,
          -0.004744529724121094,
          -0.6910820007324219,
          -0.03474617004394531,
          -0.5578012466430664,
          -0.09769248962402344,
          -0.2754497528076172,
          -0.5993289947509766,
          -0.7597856521606445,
          -0.013721466064453125,
          0.09635066986083984,
          0.07218170166015625,
          -0.038501739501953125,
          -0.541778564453125,
          -0.037197113037109375,
          -0.15804672241210938,
          -0.2600555419921875,
          -0.6717405319213867,
          -0.4123563766479492,
          0.08182811737060547,
          -0.18561267852783203,
          -0.4710502624511719,
          -0.04102897644042969,
          -0.04221630096435547,
          -0.5610523223876953,
          -0.7677755355834961,
          -0.7812213897705078,
          0.2787017822265625,
          -0.03959083557128906,
          -0.86260986328125,
          -0.12349796295166016,
          -0.09544086456298828,
          0.14386749267578125,
          -0.6114726066589355,
          0.09826374053955078,
          -0.4385805130004883,
          -0.3261384963989258,
          -0.0051746368408203125,
          -0.6178474426269531,
          0.4035196304321289,
          0.008521080017089844,
          0.025054931640625,
          0.01424407958984375,
          -0.3906421661376953,
          -0.44449615478515625,
          -0.2187957763671875,
          -0.12842369079589844,
          0.0867300033569336,
          0.09223651885986328,
          0.11522197723388672,
          -0.25824451446533203,
          -0.7978987693786621,
          -0.048361778259277344,
          -0.36827850341796875,
          -0.4335947036743164,
          -0.4344778060913086,
          -0.08942508697509766,
          -0.25058555603027344,
          0.06002330780029297,
          0.06002330780029297,
          -0.15974903106689453,
          0.21677589416503906,
          0.2545490264892578,
          -0.06768512725830078,
          0.27808570861816406,
          -0.02376842498779297,
          -0.7978987693786621,
          -0.4967517852783203,
          -0.541778564453125,
          -0.19530391693115234,
          -0.12171268463134766,
          -0.3466768264770508,
          -0.15880870819091797,
          -0.10946464538574219,
          -0.3288393020629883,
          -0.26163578033447266,
          -0.053180694580078125,
          0.2929239273071289,
          -0.02824687957763672,
          -0.2808990478515625,
          -0.07833099365234375,
          -0.3356447219848633,
          -0.05310630798339844,
          0.2567729949951172,
          -0.30912208557128906,
          -0.42151546478271484,
          -0.23014354705810547,
          -0.2319774627685547,
          -0.24558448791503906,
          -0.4481840133666992,
          -0.05834007263183594,
          -0.03240013122558594,
          -0.1775674819946289,
          -0.2519807815551758,
          -0.8072357177734375,
          -0.6225404739379883,
          0.02528858184814453,
          -0.5745754241943359,
          -0.07543373107910156,
          0.284149169921875,
          -0.541778564453125,
          -0.05907726287841797,
          -0.3261384963989258,
          -0.23048973083496094,
          -0.7978987693786621,
          0.11367034912109375,
          -0.2403564453125,
          -0.1319265365600586,
          -0.42793941497802734,
          -0.028188705444335938,
          -0.541778564453125,
          0.16607952117919922,
          -0.14885997772216797,
          -0.42926502227783203,
          -0.11033248901367188,
          0.05659294128417969,
          -0.36936283111572266,
          -0.05522632598876953,
          -0.04789447784423828,
          -0.01380157470703125,
          -0.5156993865966797,
          -0.0761880874633789,
          -0.0761880874633789,
          -0.6929802894592285,
          -0.06768512725830078,
          -0.0642404556274414,
          -0.25058555603027344,
          -0.14759159088134766,
          -0.3785400390625,
          -0.11670780181884766,
          0.216644287109375,
          0.13837432861328125,
          0.08887577056884766,
          -0.7677755355834961,
          -0.04359912872314453,
          -0.7976007461547852,
          0.1359262466430664,
          -0.3415346145629883,
          -0.4050464630126953,
          -0.048369407653808594,
          -0.9076700210571289,
          -0.006419181823730469,
          -0.3629570007324219,
          -0.03974151611328125,
          -0.9646339416503906,
          -0.8786826133728027,
          0.03777599334716797,
          -0.2671356201171875,
          -0.2902498245239258,
          -0.37917423248291016,
          -0.2502155303955078,
          -0.013627052307128906,
          -0.5552511215209961,
          -0.894132137298584,
          -0.8777904510498047,
          -0.07205677032470703,
          -0.04912757873535156,
          -0.541778564453125,
          -0.3980903625488281,
          -0.5015220642089844,
          0.09257793426513672,
          -0.27906036376953125,
          -0.31359195709228516,
          0.11782455444335938,
          -0.7978987693786621,
          -0.0606231689453125,
          -0.11346626281738281,
          -0.1706857681274414,
          -0.089447021484375,
          0.07934379577636719,
          0.284149169921875,
          0.21677589416503906,
          -0.08714866638183594,
          -0.7978987693786621,
          -0.2901420593261719,
          -0.4143791198730469,
          -0.10418510437011719,
          0.12991619110107422,
          -0.06768512725830078,
          -0.2181396484375,
          0.3622398376464844,
          -0.4342374801635742,
          -0.06768512725830078,
          0.015419960021972656,
          -0.13587379455566406,
          -0.7178897857666016,
          -0.009341239929199219,
          -0.036678314208984375,
          -0.2994356155395508,
          -0.4385805130004883,
          0.013930320739746094,
          -0.41733551025390625,
          0.020874977111816406,
          -0.05794048309326172,
          0.03497505187988281,
          -0.4205179214477539,
          -0.7978987693786621,
          0.2402048110961914,
          0.08170604705810547,
          -0.2902498245239258,
          -0.3426074981689453,
          -0.32140350341796875,
          0.27564048767089844,
          -0.3436317443847656,
          -0.42926502227783203,
          0.11441230773925781,
          0.05364513397216797,
          -0.5021448135375977,
          0.0720205307006836,
          -0.5445938110351562,
          -0.5513448715209961,
          -0.014177322387695312,
          -0.20869731903076172,
          -0.8033256530761719,
          -0.38562679290771484,
          -0.18000221252441406,
          -0.17432212829589844,
          -0.31359195709228516,
          -0.02762126922607422,
          -0.2990560531616211,
          0.041767120361328125,
          0.04171562194824219,
          -0.40000152587890625,
          -0.09567070007324219,
          -0.15880870819091797,
          -0.5590858459472656,
          0.10805320739746094,
          -0.048254966735839844,
          -0.36277198791503906,
          -0.36827850341796875,
          -0.13170146942138672,
          -0.44969940185546875,
          -0.5825061798095703,
          -0.3980903625488281,
          -0.6304097175598145,
          -0.020320892333984375,
          -0.40599918365478516,
          -0.0761880874633789,
          -0.3906421661376953,
          -0.6717405319213867,
          -0.04096031188964844,
          -0.2390756607055664,
          -0.06456470489501953,
          -0.2754497528076172,
          -0.03375720977783203,
          -0.42859649658203125,
          -0.3256998062133789,
          -0.12794017791748047,
          -0.5873022079467773,
          -0.37285518646240234,
          -0.06768512725830078,
          -0.17815017700195312,
          -0.2519807815551758,
          -0.09362983703613281,
          -0.15880870819091797,
          -0.14439868927001953,
          0.060764312744140625,
          -0.3255805969238281,
          -0.2519807815551758,
          -0.3258552551269531,
          -0.4341907501220703,
          -0.13924026489257812,
          -0.2201995849609375,
          -0.5970339775085449,
          -0.2519807815551758,
          -0.1276712417602539,
          -0.39600372314453125,
          -0.6929802894592285,
          -0.3426074981689453,
          0.018083572387695312,
          -0.3021364212036133,
          -0.15880870819091797,
          -0.541778564453125,
          -0.4297618865966797,
          -0.541778564453125,
          -0.22486495971679688,
          -0.894132137298584,
          -0.4557962417602539,
          -0.05161285400390625,
          -0.14439868927001953,
          -0.0761880874633789,
          -0.2754497528076172,
          -0.15880870819091797,
          -0.30112361907958984,
          -0.40778446197509766,
          -0.11017513275146484,
          -0.541778564453125,
          -0.4385805130004883,
          -0.5819787979125977,
          -0.11221981048583984,
          -0.4259967803955078,
          0.3622398376464844,
          -0.3797750473022461,
          -0.6717405319213867,
          -0.39789390563964844,
          -0.4772653579711914,
          0.04516315460205078,
          -0.541778564453125,
          -0.0007038116455078125,
          -0.30112361907958984,
          -0.3426074981689453,
          -0.11988067626953125,
          -0.5672168731689453,
          -0.1939535140991211,
          -0.06768512725830078,
          -0.7978987693786621,
          -0.14885997772216797,
          -0.5819435119628906,
          -0.31664276123046875,
          -0.5201015472412109,
          -0.1522378921508789,
          -0.7978987693786621,
          -0.8802776336669922,
          -0.6039738655090332,
          -1.0864448547363281,
          -0.894279956817627,
          -0.4402313232421875,
          -0.40778446197509766,
          -0.04822731018066406,
          -0.06768512725830078,
          -0.2769746780395508,
          -0.2519807815551758,
          -0.2403564453125,
          -0.6717405319213867,
          0.2171640396118164,
          -0.7978987693786621,
          -0.39091014862060547,
          -0.04964733123779297,
          -0.2994356155395508,
          -0.2519807815551758,
          -0.3980903625488281,
          -0.07655048370361328,
          -0.39519691467285156,
          -0.44969940185546875,
          -0.22694015502929688,
          -0.15880870819091797,
          -0.2519807815551758,
          -0.2519807815551758,
          -0.541778564453125,
          -0.4124927520751953,
          -0.10249996185302734,
          -0.3980903625488281,
          -0.39519691467285156,
          -0.11988067626953125,
          -0.2994356155395508,
          -0.7819757461547852,
          -0.7978987693786621,
          0.3622398376464844,
          -0.21274852752685547,
          -0.541778564453125,
          -0.3021364212036133,
          -0.3426074981689453,
          -0.3256998062133789,
          -0.7978987693786621,
          -0.6910820007324219,
          -0.6617136001586914,
          -0.557593822479248,
          -0.6574573516845703,
          -0.31934165954589844,
          -0.541778564453125,
          -0.15880870819091797,
          -0.7978987693786621,
          -0.6178474426269531,
          -0.16071605682373047,
          -0.5854740142822266,
          -0.2519807815551758,
          -0.2519807815551758
         ]
        }
       ],
       "layout": {
        "font": {
         "size": 30
        },
        "paper_bgcolor": "white",
        "plot_bgcolor": "white",
        "template": {
         "data": {
          "bar": [
           {
            "error_x": {
             "color": "#2a3f5f"
            },
            "error_y": {
             "color": "#2a3f5f"
            },
            "marker": {
             "line": {
              "color": "#E5ECF6",
              "width": 0.5
             },
             "pattern": {
              "fillmode": "overlay",
              "size": 10,
              "solidity": 0.2
             }
            },
            "type": "bar"
           }
          ],
          "barpolar": [
           {
            "marker": {
             "line": {
              "color": "#E5ECF6",
              "width": 0.5
             },
             "pattern": {
              "fillmode": "overlay",
              "size": 10,
              "solidity": 0.2
             }
            },
            "type": "barpolar"
           }
          ],
          "carpet": [
           {
            "aaxis": {
             "endlinecolor": "#2a3f5f",
             "gridcolor": "white",
             "linecolor": "white",
             "minorgridcolor": "white",
             "startlinecolor": "#2a3f5f"
            },
            "baxis": {
             "endlinecolor": "#2a3f5f",
             "gridcolor": "white",
             "linecolor": "white",
             "minorgridcolor": "white",
             "startlinecolor": "#2a3f5f"
            },
            "type": "carpet"
           }
          ],
          "choropleth": [
           {
            "colorbar": {
             "outlinewidth": 0,
             "ticks": ""
            },
            "type": "choropleth"
           }
          ],
          "contour": [
           {
            "colorbar": {
             "outlinewidth": 0,
             "ticks": ""
            },
            "colorscale": [
             [
              0,
              "#0d0887"
             ],
             [
              0.1111111111111111,
              "#46039f"
             ],
             [
              0.2222222222222222,
              "#7201a8"
             ],
             [
              0.3333333333333333,
              "#9c179e"
             ],
             [
              0.4444444444444444,
              "#bd3786"
             ],
             [
              0.5555555555555556,
              "#d8576b"
             ],
             [
              0.6666666666666666,
              "#ed7953"
             ],
             [
              0.7777777777777778,
              "#fb9f3a"
             ],
             [
              0.8888888888888888,
              "#fdca26"
             ],
             [
              1,
              "#f0f921"
             ]
            ],
            "type": "contour"
           }
          ],
          "contourcarpet": [
           {
            "colorbar": {
             "outlinewidth": 0,
             "ticks": ""
            },
            "type": "contourcarpet"
           }
          ],
          "heatmap": [
           {
            "colorbar": {
             "outlinewidth": 0,
             "ticks": ""
            },
            "colorscale": [
             [
              0,
              "#0d0887"
             ],
             [
              0.1111111111111111,
              "#46039f"
             ],
             [
              0.2222222222222222,
              "#7201a8"
             ],
             [
              0.3333333333333333,
              "#9c179e"
             ],
             [
              0.4444444444444444,
              "#bd3786"
             ],
             [
              0.5555555555555556,
              "#d8576b"
             ],
             [
              0.6666666666666666,
              "#ed7953"
             ],
             [
              0.7777777777777778,
              "#fb9f3a"
             ],
             [
              0.8888888888888888,
              "#fdca26"
             ],
             [
              1,
              "#f0f921"
             ]
            ],
            "type": "heatmap"
           }
          ],
          "heatmapgl": [
           {
            "colorbar": {
             "outlinewidth": 0,
             "ticks": ""
            },
            "colorscale": [
             [
              0,
              "#0d0887"
             ],
             [
              0.1111111111111111,
              "#46039f"
             ],
             [
              0.2222222222222222,
              "#7201a8"
             ],
             [
              0.3333333333333333,
              "#9c179e"
             ],
             [
              0.4444444444444444,
              "#bd3786"
             ],
             [
              0.5555555555555556,
              "#d8576b"
             ],
             [
              0.6666666666666666,
              "#ed7953"
             ],
             [
              0.7777777777777778,
              "#fb9f3a"
             ],
             [
              0.8888888888888888,
              "#fdca26"
             ],
             [
              1,
              "#f0f921"
             ]
            ],
            "type": "heatmapgl"
           }
          ],
          "histogram": [
           {
            "marker": {
             "pattern": {
              "fillmode": "overlay",
              "size": 10,
              "solidity": 0.2
             }
            },
            "type": "histogram"
           }
          ],
          "histogram2d": [
           {
            "colorbar": {
             "outlinewidth": 0,
             "ticks": ""
            },
            "colorscale": [
             [
              0,
              "#0d0887"
             ],
             [
              0.1111111111111111,
              "#46039f"
             ],
             [
              0.2222222222222222,
              "#7201a8"
             ],
             [
              0.3333333333333333,
              "#9c179e"
             ],
             [
              0.4444444444444444,
              "#bd3786"
             ],
             [
              0.5555555555555556,
              "#d8576b"
             ],
             [
              0.6666666666666666,
              "#ed7953"
             ],
             [
              0.7777777777777778,
              "#fb9f3a"
             ],
             [
              0.8888888888888888,
              "#fdca26"
             ],
             [
              1,
              "#f0f921"
             ]
            ],
            "type": "histogram2d"
           }
          ],
          "histogram2dcontour": [
           {
            "colorbar": {
             "outlinewidth": 0,
             "ticks": ""
            },
            "colorscale": [
             [
              0,
              "#0d0887"
             ],
             [
              0.1111111111111111,
              "#46039f"
             ],
             [
              0.2222222222222222,
              "#7201a8"
             ],
             [
              0.3333333333333333,
              "#9c179e"
             ],
             [
              0.4444444444444444,
              "#bd3786"
             ],
             [
              0.5555555555555556,
              "#d8576b"
             ],
             [
              0.6666666666666666,
              "#ed7953"
             ],
             [
              0.7777777777777778,
              "#fb9f3a"
             ],
             [
              0.8888888888888888,
              "#fdca26"
             ],
             [
              1,
              "#f0f921"
             ]
            ],
            "type": "histogram2dcontour"
           }
          ],
          "mesh3d": [
           {
            "colorbar": {
             "outlinewidth": 0,
             "ticks": ""
            },
            "type": "mesh3d"
           }
          ],
          "parcoords": [
           {
            "line": {
             "colorbar": {
              "outlinewidth": 0,
              "ticks": ""
             }
            },
            "type": "parcoords"
           }
          ],
          "pie": [
           {
            "automargin": true,
            "type": "pie"
           }
          ],
          "scatter": [
           {
            "fillpattern": {
             "fillmode": "overlay",
             "size": 10,
             "solidity": 0.2
            },
            "type": "scatter"
           }
          ],
          "scatter3d": [
           {
            "line": {
             "colorbar": {
              "outlinewidth": 0,
              "ticks": ""
             }
            },
            "marker": {
             "colorbar": {
              "outlinewidth": 0,
              "ticks": ""
             }
            },
            "type": "scatter3d"
           }
          ],
          "scattercarpet": [
           {
            "marker": {
             "colorbar": {
              "outlinewidth": 0,
              "ticks": ""
             }
            },
            "type": "scattercarpet"
           }
          ],
          "scattergeo": [
           {
            "marker": {
             "colorbar": {
              "outlinewidth": 0,
              "ticks": ""
             }
            },
            "type": "scattergeo"
           }
          ],
          "scattergl": [
           {
            "marker": {
             "colorbar": {
              "outlinewidth": 0,
              "ticks": ""
             }
            },
            "type": "scattergl"
           }
          ],
          "scattermapbox": [
           {
            "marker": {
             "colorbar": {
              "outlinewidth": 0,
              "ticks": ""
             }
            },
            "type": "scattermapbox"
           }
          ],
          "scatterpolar": [
           {
            "marker": {
             "colorbar": {
              "outlinewidth": 0,
              "ticks": ""
             }
            },
            "type": "scatterpolar"
           }
          ],
          "scatterpolargl": [
           {
            "marker": {
             "colorbar": {
              "outlinewidth": 0,
              "ticks": ""
             }
            },
            "type": "scatterpolargl"
           }
          ],
          "scatterternary": [
           {
            "marker": {
             "colorbar": {
              "outlinewidth": 0,
              "ticks": ""
             }
            },
            "type": "scatterternary"
           }
          ],
          "surface": [
           {
            "colorbar": {
             "outlinewidth": 0,
             "ticks": ""
            },
            "colorscale": [
             [
              0,
              "#0d0887"
             ],
             [
              0.1111111111111111,
              "#46039f"
             ],
             [
              0.2222222222222222,
              "#7201a8"
             ],
             [
              0.3333333333333333,
              "#9c179e"
             ],
             [
              0.4444444444444444,
              "#bd3786"
             ],
             [
              0.5555555555555556,
              "#d8576b"
             ],
             [
              0.6666666666666666,
              "#ed7953"
             ],
             [
              0.7777777777777778,
              "#fb9f3a"
             ],
             [
              0.8888888888888888,
              "#fdca26"
             ],
             [
              1,
              "#f0f921"
             ]
            ],
            "type": "surface"
           }
          ],
          "table": [
           {
            "cells": {
             "fill": {
              "color": "#EBF0F8"
             },
             "line": {
              "color": "white"
             }
            },
            "header": {
             "fill": {
              "color": "#C8D4E3"
             },
             "line": {
              "color": "white"
             }
            },
            "type": "table"
           }
          ]
         },
         "layout": {
          "annotationdefaults": {
           "arrowcolor": "#2a3f5f",
           "arrowhead": 0,
           "arrowwidth": 1
          },
          "autotypenumbers": "strict",
          "coloraxis": {
           "colorbar": {
            "outlinewidth": 0,
            "ticks": ""
           }
          },
          "colorscale": {
           "diverging": [
            [
             0,
             "#8e0152"
            ],
            [
             0.1,
             "#c51b7d"
            ],
            [
             0.2,
             "#de77ae"
            ],
            [
             0.3,
             "#f1b6da"
            ],
            [
             0.4,
             "#fde0ef"
            ],
            [
             0.5,
             "#f7f7f7"
            ],
            [
             0.6,
             "#e6f5d0"
            ],
            [
             0.7,
             "#b8e186"
            ],
            [
             0.8,
             "#7fbc41"
            ],
            [
             0.9,
             "#4d9221"
            ],
            [
             1,
             "#276419"
            ]
           ],
           "sequential": [
            [
             0,
             "#0d0887"
            ],
            [
             0.1111111111111111,
             "#46039f"
            ],
            [
             0.2222222222222222,
             "#7201a8"
            ],
            [
             0.3333333333333333,
             "#9c179e"
            ],
            [
             0.4444444444444444,
             "#bd3786"
            ],
            [
             0.5555555555555556,
             "#d8576b"
            ],
            [
             0.6666666666666666,
             "#ed7953"
            ],
            [
             0.7777777777777778,
             "#fb9f3a"
            ],
            [
             0.8888888888888888,
             "#fdca26"
            ],
            [
             1,
             "#f0f921"
            ]
           ],
           "sequentialminus": [
            [
             0,
             "#0d0887"
            ],
            [
             0.1111111111111111,
             "#46039f"
            ],
            [
             0.2222222222222222,
             "#7201a8"
            ],
            [
             0.3333333333333333,
             "#9c179e"
            ],
            [
             0.4444444444444444,
             "#bd3786"
            ],
            [
             0.5555555555555556,
             "#d8576b"
            ],
            [
             0.6666666666666666,
             "#ed7953"
            ],
            [
             0.7777777777777778,
             "#fb9f3a"
            ],
            [
             0.8888888888888888,
             "#fdca26"
            ],
            [
             1,
             "#f0f921"
            ]
           ]
          },
          "colorway": [
           "#636efa",
           "#EF553B",
           "#00cc96",
           "#ab63fa",
           "#FFA15A",
           "#19d3f3",
           "#FF6692",
           "#B6E880",
           "#FF97FF",
           "#FECB52"
          ],
          "font": {
           "color": "#2a3f5f"
          },
          "geo": {
           "bgcolor": "white",
           "lakecolor": "white",
           "landcolor": "#E5ECF6",
           "showlakes": true,
           "showland": true,
           "subunitcolor": "white"
          },
          "hoverlabel": {
           "align": "left"
          },
          "hovermode": "closest",
          "mapbox": {
           "style": "light"
          },
          "paper_bgcolor": "white",
          "plot_bgcolor": "#E5ECF6",
          "polar": {
           "angularaxis": {
            "gridcolor": "white",
            "linecolor": "white",
            "ticks": ""
           },
           "bgcolor": "#E5ECF6",
           "radialaxis": {
            "gridcolor": "white",
            "linecolor": "white",
            "ticks": ""
           }
          },
          "scene": {
           "xaxis": {
            "backgroundcolor": "#E5ECF6",
            "gridcolor": "white",
            "gridwidth": 2,
            "linecolor": "white",
            "showbackground": true,
            "ticks": "",
            "zerolinecolor": "white"
           },
           "yaxis": {
            "backgroundcolor": "#E5ECF6",
            "gridcolor": "white",
            "gridwidth": 2,
            "linecolor": "white",
            "showbackground": true,
            "ticks": "",
            "zerolinecolor": "white"
           },
           "zaxis": {
            "backgroundcolor": "#E5ECF6",
            "gridcolor": "white",
            "gridwidth": 2,
            "linecolor": "white",
            "showbackground": true,
            "ticks": "",
            "zerolinecolor": "white"
           }
          },
          "shapedefaults": {
           "line": {
            "color": "#2a3f5f"
           }
          },
          "ternary": {
           "aaxis": {
            "gridcolor": "white",
            "linecolor": "white",
            "ticks": ""
           },
           "baxis": {
            "gridcolor": "white",
            "linecolor": "white",
            "ticks": ""
           },
           "bgcolor": "#E5ECF6",
           "caxis": {
            "gridcolor": "white",
            "linecolor": "white",
            "ticks": ""
           }
          },
          "title": {
           "x": 0.05
          },
          "xaxis": {
           "automargin": true,
           "gridcolor": "white",
           "linecolor": "white",
           "ticks": "",
           "title": {
            "standoff": 15
           },
           "zerolinecolor": "white",
           "zerolinewidth": 2
          },
          "yaxis": {
           "automargin": true,
           "gridcolor": "white",
           "linecolor": "white",
           "ticks": "",
           "title": {
            "standoff": 15
           },
           "zerolinecolor": "white",
           "zerolinewidth": 2
          }
         }
        },
        "title": {
         "text": "Distribution of Difference In Nuclear Norms - GMI vs GMI+XM"
        },
        "xaxis": {
         "title": {
          "text": "Difference In Nuclear Norms - GMI vs GMI+XM"
         }
        },
        "yaxis": {
         "title": {
          "text": "Frequency"
         }
        }
       }
      },
      "text/html": [
       "<div>                            <div id=\"e4076813-7a44-4e69-b2fc-b22b566ef41d\" class=\"plotly-graph-div\" style=\"height:525px; width:100%;\"></div>            <script type=\"text/javascript\">                require([\"plotly\"], function(Plotly) {                    window.PLOTLYENV=window.PLOTLYENV || {};                                    if (document.getElementById(\"e4076813-7a44-4e69-b2fc-b22b566ef41d\")) {                    Plotly.newPlot(                        \"e4076813-7a44-4e69-b2fc-b22b566ef41d\",                        [{\"x\":[0.001617431640625,-0.066680908203125,-0.227142333984375,-0.21410083770751953,-0.2545957565307617,-0.25665760040283203,-0.20417118072509766,-0.37677669525146484,-0.28590965270996094,-0.095550537109375,-0.34671974182128906,-0.2909221649169922,-0.20943641662597656,-0.25266075134277344,-0.3284721374511719,-0.1643056869506836,0.08591175079345703,-0.2150287628173828,-0.3844108581542969,-0.22807788848876953,-0.22533321380615234,-0.1704721450805664,-0.19647598266601562,-0.19234848022460938,-0.08269882202148438,-0.09345149993896484,-0.11670923233032227,-0.2685556411743164,-0.21260547637939453,-0.2883634567260742,-0.3662071228027344,-0.2059173583984375,-0.3594341278076172,-0.06553268432617188,-0.07882213592529297,0.18888378143310547,-0.3902750015258789,-0.26438236236572266,-0.2305135726928711,-0.168304443359375,-0.2441244125366211,-0.35133934020996094,-0.2737865447998047,-0.21051788330078125,-0.23727893829345703,-0.18723201751708984,-0.10581111907958984,-0.20322036743164062,-0.2413616180419922,-0.12494564056396484,-0.14320850372314453,-0.2228412628173828,-0.31918811798095703,-0.29886436462402344,-0.11313915252685547,-0.2501392364501953,-0.047211647033691406,-0.24779415130615234,-0.22984790802001953,-0.20128440856933594,-0.2114114761352539,-0.099700927734375,-0.023225784301757812,-0.41388607025146484,-0.3178882598876953,-0.41275501251220703,-0.25407886505126953,-0.16219615936279297,-0.3093986511230469,0.2001333236694336,-0.19167137145996094,-0.09256744384765625,-0.3503589630126953,-0.2572164535522461,-0.2669687271118164,-0.293304443359375,-0.20049476623535156,-0.032032012939453125,-0.3635711669921875,-0.3825187683105469,-0.0547637939453125,-0.03140449523925781,-0.19948196411132812,-0.14868736267089844,-0.2142486572265625,-0.3299446105957031,-0.23343944549560547,-0.3228168487548828,-0.2497539520263672,-0.28255558013916016,-0.17834758758544922,-0.20880985260009766,-0.1393890380859375,0.2581520080566406,-0.18660545349121094,-0.319366455078125,-0.3061332702636719,-0.140869140625,-0.1729717254638672,-0.41780662536621094,-0.2529621124267578,-0.6468610763549805,-0.08922958374023438,-0.36318206787109375,-0.1862931251525879,0.26250362396240234,0.055614471435546875,-0.26531314849853516,-0.2500162124633789,-0.3280954360961914,-0.25037193298339844,-0.046835899353027344,-0.37897396087646484,0.01936054229736328,-0.22991275787353516,0.35265064239501953,-0.10938739776611328,-0.2924346923828125,-0.19015216827392578,-0.3939371109008789,-0.2471628189086914,-0.12061405181884766,-0.3350954055786133,-0.2330474853515625,-0.31719398498535156,-0.3453531265258789,-0.3044729232788086,0.27040672302246094,-0.319183349609375,-0.13335800170898438,-0.22937583923339844,-0.34116077423095703,-0.0025463104248046875,-0.33553600311279297,-0.2506875991821289,-0.23276233673095703,-0.1375436782836914,-0.34142208099365234,0.2787017822265625,0.04633808135986328,-0.09363174438476562,-0.2739706039428711,-0.23931312561035156,-0.3165092468261719,-0.2256155014038086,-0.31459617614746094,-0.2729482650756836,-0.17861175537109375,-0.18123817443847656,-0.013512611389160156,-0.2980222702026367,-0.274627685546875,-0.09257316589355469,-0.18306350708007812,-0.19026565551757812,-0.33774280548095703,-0.2304058074951172,-0.15339088439941406,-0.7145118713378906,0.0035200119018554688,-0.11886835098266602,0.009575843811035156,-0.33559131622314453,-0.078155517578125,-0.29566097259521484,-0.22245121002197266,-0.2919960021972656,-0.16904830932617188,-0.7524347305297852,1.1758370399475098,-0.054350852966308594,-0.30437374114990234,-0.24569225311279297,-0.21791362762451172,-0.24768733978271484,-0.3099098205566406,-0.2272624969482422,-0.2542858123779297,-0.26399707794189453,-0.4208202362060547,-0.4012422561645508,-0.2545175552368164,-0.1588897705078125,-0.3590688705444336,-0.2457866668701172,-0.1029958724975586,-0.19960403442382812,-0.25456809997558594,-0.027505874633789062,-0.676177978515625,-0.4760627746582031,-0.14488983154296875,-0.3122377395629883,-0.32389163970947266,-0.0952596664428711,-0.5848245620727539,-0.35639381408691406,-0.24393653869628906,-0.0954742431640625,-0.24480247497558594,-0.0981130599975586,-0.14699459075927734,-0.17672061920166016,-0.2001514434814453,-0.31525707244873047,-0.12747478485107422,-0.2453784942626953,-0.0201416015625,-0.5867652893066406,-0.5528717041015625,-0.23325634002685547,-0.3757925033569336,-0.6022520065307617,0.20487689971923828,-0.1965007781982422,-0.4157886505126953,-0.5311355590820312,-0.5218467712402344,-0.7180328369140625,-0.29685306549072266,-0.3580493927001953,-0.18896007537841797,-0.2684059143066406,-0.17107677459716797,-0.08196544647216797,-0.24142742156982422,-0.1465749740600586,-0.3117046356201172,-0.267181396484375,-0.3420066833496094,-0.24878215789794922,-0.2945547103881836,-0.33989429473876953,-0.13499069213867188,-0.29524993896484375,-0.25235652923583984,0.038349151611328125,-0.36426544189453125,-0.21857070922851562,-0.20866012573242188,-0.02975940704345703,0.1332406997680664,-0.09559345245361328,-0.20837783813476562,-0.6639499664306641,-0.20391082763671875,-0.35353946685791016,0.07747268676757812,-0.21002578735351562,-0.30361461639404297,-0.24880504608154297,-0.3251152038574219,-0.541778564453125,-0.6502952575683594,0.14021682739257812,-0.33101654052734375,-0.11790943145751953,-0.1693563461303711,-0.3195486068725586,-0.22446060180664062,-0.27460670471191406,-0.4276876449584961,-0.44444847106933594,-0.5720787048339844,-0.29090023040771484,-0.25334835052490234,-0.2345447540283203,-0.24740886688232422,-0.2892789840698242,0.163116455078125,-0.056281089782714844,-0.2032756805419922,-0.21541690826416016,-0.28746509552001953,-0.06268024444580078,-0.06701850891113281,-0.40547847747802734,-0.5363483428955078,-0.3177766799926758,-0.26012611389160156,-0.16811752319335938,-0.2602529525756836,-0.3943777084350586,-0.15137004852294922,-0.25511837005615234,-0.3414793014526367,-0.3300180435180664,-0.4243927001953125,-0.19056034088134766,-0.19816303253173828,-0.30151844024658203,-0.26136302947998047,-0.017004013061523438,-0.16004276275634766,-0.35747718811035156,-0.25942134857177734,-0.26163768768310547,-0.29655933380126953,-0.05129432678222656,-0.336151123046875,-0.22969722747802734,-0.17393016815185547,-0.2370767593383789,-0.17704105377197266,-0.29291486740112305,0.8095088005065918,0.29407501220703125,-0.5103960037231445,-0.37685394287109375,-0.2979707717895508,-0.1523895263671875,-0.26383209228515625,0.0006780624389648438,-0.1876087188720703,-0.07579994201660156,-0.22698402404785156,-0.1898975372314453,-0.24126529693603516,-0.5950183868408203,-0.2711296081542969,-0.06768512725830078,-0.7319746017456055,-0.01999378204345703,-0.34726619720458984,-0.26047420501708984,-0.3834362030029297,-0.27805423736572266,-0.28860950469970703,-0.09506797790527344,-0.10992431640625,-0.2651987075805664,-0.01903533935546875,-0.2007579803466797,-0.020705223083496094,-0.34099864959716797,-0.5259132385253906,-0.6164507865905762,-0.03429985046386719,-0.16559314727783203,-0.3257303237915039,-0.1383190155029297,-0.6618719100952148,-0.03800201416015625,-0.08523750305175781,-0.17979049682617188,-0.2805910110473633,-0.10248470306396484,-0.35150909423828125,-0.25058555603027344,-0.050907135009765625,-0.07461929321289062,-0.11313533782958984,-0.12723445892333984,-0.33626842498779297,0.09611082077026367,-0.3426074981689453,-0.18844032287597656,-0.08933067321777344,-0.1226186752319336,-0.28649044036865234,-0.6282358169555664,-0.5160393714904785,-0.3031044006347656,0.23294353485107422,-0.48943328857421875,0.0867300033569336,0.03873443603515625,-0.10366249084472656,-0.6066474914550781,-0.2473773956298828,-0.1290750503540039,-0.07742786407470703,0.10262107849121094,-0.27675819396972656,-0.6281251907348633,-0.09380817413330078,-0.3342475891113281,-0.46422767639160156,-0.9683256149291992,-0.07891273498535156,0.006482124328613281,-0.22365570068359375,-0.06149005889892578,-0.20277786254882812,-0.4678688049316406,-0.32668209075927734,-0.09604835510253906,0.07671737670898438,-0.25257205963134766,0.0952157974243164,0.03116321563720703,-0.2637815475463867,-0.2631111145019531,-0.4150876998901367,-0.6327376365661621,-0.03181266784667969,-0.34302425384521484,-0.3325958251953125,-0.2795276641845703,-0.0841217041015625,-0.12200736999511719,-0.2672100067138672,-0.2609100341796875,-0.13524341583251953,-0.08903121948242188,-0.12521743774414062,-0.25395774841308594,-0.3748807907104492,-0.3017740249633789,-0.2736186981201172,-0.09472370147705078,-0.4726266860961914,-0.25995445251464844,-0.4887361526489258,-0.06636810302734375,-0.09076881408691406,-0.22526168823242188,0.1726388931274414,-0.6076393127441406,-0.6388435363769531,-0.20171833038330078,-0.15679931640625,-0.1422100067138672,-0.45815086364746094,-0.05290031433105469,-0.17893028259277344,-0.0024824142456054688,-0.1824817657470703,-0.2962837219238281,-0.16214847564697266,-0.2996377944946289,-0.062198638916015625,-0.0015010833740234375,-0.22443675994873047,-0.4473705291748047,-0.20919227600097656,-0.15370655059814453,-0.15979957580566406,0.15542888641357422,-0.4563131332397461,-0.1336040496826172,-0.5068740844726562,-0.6917581558227539,-0.2589235305786133,-0.22370433807373047,-0.12349128723144531,-0.3221092224121094,-0.25900840759277344,-0.19870376586914062,-0.006096839904785156,-0.18673038482666016,-0.2477121353149414,-0.0357666015625,-0.2625732421875,-0.03843498229980469,-0.36308860778808594,-0.41930484771728516,-0.35493040084838867,-0.35584259033203125,-0.12125396728515625,-0.32817935943603516,-0.09567070007324219,-0.4319896697998047,-0.2899188995361328,0.11998653411865234,-0.020093917846679688,-0.03222465515136719,0.01683330535888672,-0.33568859100341797,-0.3721780776977539,-0.04980659484863281,-0.18462657928466797,-0.5291857719421387,-0.1833667755126953,-0.2788534164428711,0.04494762420654297,-0.6329689025878906,-0.3901643753051758,-0.11879730224609375,-0.0554046630859375,-0.198394775390625,-0.08601188659667969,-0.25181102752685547,-0.3652467727661133,-0.23979854583740234,-0.03758525848388672,-0.31590747833251953,-0.2748994827270508,-0.037924766540527344,-0.8765392303466797,-0.7949042320251465,-0.36827850341796875,-0.0679616928100586,-0.009467124938964844,-0.7155818939208984,-0.30276012420654297,-0.36933231353759766,-0.25154781341552734,-0.02765941619873047,-0.32164859771728516,-0.25198841094970703,-0.5924310684204102,-0.4934673309326172,-0.07213878631591797,0.27243995666503906,0.2161092758178711,-0.11310386657714844,-0.8062372207641602,0.2852764129638672,0.012968063354492188,0.013315200805664062,-0.36277198791503906,0.18053340911865234,-0.11123466491699219,-0.21970844268798828,-0.5653371810913086,-0.2573709487915039,-0.014068603515625,-0.3513774871826172,-0.2664794921875,0.1739940643310547,-0.2878389358520508,-0.1730184555053711,0.1143808364868164,-0.2573966979980469,-0.18602514266967773,-0.3475790023803711,-0.3911151885986328,-0.25058555603027344,-0.44589900970458984,-0.02905750274658203,0.11929702758789062,-0.29671382904052734,-0.30613231658935547,-0.12396907806396484,0.046265602111816406,-0.3052806854248047,0.009199142456054688,0.02615833282470703,-0.0871572494506836,-0.13680744171142578,0.014944076538085938,-0.03100299835205078,-0.3183307647705078,-0.05743980407714844,-0.33127689361572266,-0.06768512725830078,-0.42793941497802734,-0.32180118560791016,-0.22935771942138672,-0.06812095642089844,0.10174560546875,-0.11155033111572266,-0.1385784149169922,-0.21756553649902344,0.11175060272216797,-0.2255420684814453,-0.28038883209228516,-0.062038421630859375,-0.19567012786865234,-0.4604330062866211,-0.3334388732910156,-0.24063587188720703,-0.022710800170898438,-0.08731269836425781,-0.5452995300292969,0.17626953125,-0.061593055725097656,-0.035980224609375,-0.008985519409179688,-0.3285222053527832,-0.18290996551513672,-0.08569526672363281,-0.0677938461303711,-0.05852794647216797,-0.37917423248291016,-0.06420707702636719,-0.22895526885986328,-0.14240646362304688,-0.3740835189819336,-0.4526214599609375,-0.19745254516601562,0.11450862884521484,-0.3147726058959961,-0.04356956481933594,-0.09292030334472656,-0.3448495864868164,-0.06350994110107422,-0.3520784378051758,0.3221006393432617,-0.15468215942382812,-0.541778564453125,-0.5624628067016602,-0.1243295669555664,0.03439903259277344,0.07296466827392578,0.007904052734375,-0.06768512725830078,-0.15365219116210938,-0.3239927291870117,-0.2233867645263672,-0.17456912994384766,-0.2699260711669922,-0.0943756103515625,-0.4014453887939453,-0.15880870819091797,-0.046454429626464844,-0.13956642150878906,-0.38294219970703125,-0.39571666717529297,-0.029811859130859375,-0.32169437408447266,-0.1544351577758789,-0.31359195709228516,-0.2641420364379883,-0.12950515747070312,-0.015890121459960938,-0.19282245635986328,-0.38272666931152344,0.08455657958984375,-0.5490541458129883,-0.27107906341552734,-0.01998138427734375,-0.14905643463134766,-0.024942398071289062,0.27167415618896484,-0.1465892791748047,-0.25953102111816406,-0.22524070739746094,-0.020506858825683594,-0.05521583557128906,-0.21158123016357422,-0.37341880798339844,-0.4707622528076172,-0.473724365234375,-0.1809854507446289,-0.4285240173339844,-0.6117773056030273,0.1298666000366211,-0.05121898651123047,-0.10696697235107422,0.2507295608520508,0.04395103454589844,-0.18553733825683594,-0.10885143280029297,-0.15131378173828125,-0.4727139472961426,-0.6717405319213867,0.2570676803588867,-0.030912399291992188,-0.10309982299804688,-0.02721691131591797,-0.36827850341796875,-0.07290077209472656,-0.10364723205566406,-0.15671539306640625,-0.017531394958496094,-0.2904396057128906,-0.1738271713256836,-0.3334312438964844,-0.25664520263671875,-0.3527107238769531,0.1012430191040039,-0.2151050567626953,-0.245391845703125,-0.31542110443115234,-0.1865682601928711,-0.3426074981689453,0.024252891540527344,0.14144134521484375,-0.23663711547851562,0.21862411499023438,-0.34405040740966797,-0.48710060119628906,-0.11173439025878906,0.008648872375488281,-0.02852344512939453,-0.39220523834228516,-0.1446695327758789,-0.16794490814208984,-0.22525310516357422,0.11714935302734375,0.0687856674194336,-0.07237052917480469,0.13256359100341797,-0.4046297073364258,-0.0772104263305664,-0.0987710952758789,-0.19192123413085938,-0.07047080993652344,0.14144134521484375,-0.13518428802490234,-0.0023784637451171875,-0.3261384963989258,-0.16176128387451172,-0.25058555603027344,-0.15285110473632812,0.15177440643310547,0.141845703125,-0.5390901565551758,0.020679473876953125,-0.035904884338378906,-0.03909873962402344,0.06515789031982422,-0.10846996307373047,0.02181529998779297,-0.25058555603027344,-0.33147525787353516,0.11175060272216797,0.26381778717041016,-0.5203313827514648,0.0035762786865234375,-0.11597919464111328,-0.11394023895263672,0.2787017822265625,0.284149169921875,-0.40938282012939453,-0.6616811752319336,-0.25058555603027344,-0.3074169158935547,-0.20171737670898438,-0.17146587371826172,-0.5077829360961914,-0.0861959457397461,-0.23872089385986328,0.11175060272216797,-0.02066326141357422,-0.08940982818603516,-0.3048210144042969,0.1726388931274414,-0.021101951599121094,0.019956588745117188,-0.7178897857666016,0.04009819030761719,-0.18296432495117188,-0.30739784240722656,-0.25597286224365234,-0.33434486389160156,0.1000518798828125,-0.060985565185546875,-0.6784725189208984,-0.06768512725830078,-0.7978987693786621,-0.11996078491210938,0.0028076171875,-0.11644840240478516,-0.15638065338134766,-0.042601585388183594,-0.1447763442993164,-0.08738327026367188,-0.5529098510742188,-0.1140756607055664,-0.04812431335449219,-0.06850719451904297,-0.005963325500488281,0.13837432861328125,-0.437103271484375,-0.6799592971801758,-0.6048126220703125,-0.06350994110107422,-0.45986080169677734,-0.03025531768798828,-0.2519807815551758,-0.25483131408691406,-0.7746682167053223,-0.08014583587646484,0.3622398376464844,-0.08456707000732422,-0.01620006561279297,0.04871082305908203,-0.12820053100585938,-0.6205158233642578,-0.0033626556396484375,0.055263519287109375,0.35198211669921875,-0.22637939453125,0.17181873321533203,-0.9779930114746094,0.06849288940429688,-0.05754566192626953,-0.02485942840576172,0.06412506103515625,0.17090129852294922,0.054802894592285156,-0.4720134735107422,-0.7746682167053223,0.02591705322265625,-0.1031951904296875,-0.047682762145996094,-0.04334259033203125,-0.40000152587890625,0.5480661392211914,-0.07143783569335938,-0.03785896301269531,-0.16528892517089844,-0.09597396850585938,-0.3930931091308594,-0.07595062255859375,-0.23227691650390625,-0.31359195709228516,-0.06768512725830078,-0.27736663818359375,0.05263996124267578,-0.01992511749267578,-0.24137592315673828,0.1560077667236328,0.32210826873779297,-0.25902366638183594,-0.37502384185791016,-0.07633590698242188,-0.6434974670410156,-0.1308126449584961,-0.0046844482421875,0.07634162902832031,-0.1268472671508789,-0.1031036376953125,-0.4967517852783203,-0.5535516738891602,-0.0953512191772461,-0.3757925033569336,-0.004744529724121094,-0.6910820007324219,-0.03474617004394531,-0.5578012466430664,-0.09769248962402344,-0.2754497528076172,-0.5993289947509766,-0.7597856521606445,-0.013721466064453125,0.09635066986083984,0.07218170166015625,-0.038501739501953125,-0.541778564453125,-0.037197113037109375,-0.15804672241210938,-0.2600555419921875,-0.6717405319213867,-0.4123563766479492,0.08182811737060547,-0.18561267852783203,-0.4710502624511719,-0.04102897644042969,-0.04221630096435547,-0.5610523223876953,-0.7677755355834961,-0.7812213897705078,0.2787017822265625,-0.03959083557128906,-0.86260986328125,-0.12349796295166016,-0.09544086456298828,0.14386749267578125,-0.6114726066589355,0.09826374053955078,-0.4385805130004883,-0.3261384963989258,-0.0051746368408203125,-0.6178474426269531,0.4035196304321289,0.008521080017089844,0.025054931640625,0.01424407958984375,-0.3906421661376953,-0.44449615478515625,-0.2187957763671875,-0.12842369079589844,0.0867300033569336,0.09223651885986328,0.11522197723388672,-0.25824451446533203,-0.7978987693786621,-0.048361778259277344,-0.36827850341796875,-0.4335947036743164,-0.4344778060913086,-0.08942508697509766,-0.25058555603027344,0.06002330780029297,0.06002330780029297,-0.15974903106689453,0.21677589416503906,0.2545490264892578,-0.06768512725830078,0.27808570861816406,-0.02376842498779297,-0.7978987693786621,-0.4967517852783203,-0.541778564453125,-0.19530391693115234,-0.12171268463134766,-0.3466768264770508,-0.15880870819091797,-0.10946464538574219,-0.3288393020629883,-0.26163578033447266,-0.053180694580078125,0.2929239273071289,-0.02824687957763672,-0.2808990478515625,-0.07833099365234375,-0.3356447219848633,-0.05310630798339844,0.2567729949951172,-0.30912208557128906,-0.42151546478271484,-0.23014354705810547,-0.2319774627685547,-0.24558448791503906,-0.4481840133666992,-0.05834007263183594,-0.03240013122558594,-0.1775674819946289,-0.2519807815551758,-0.8072357177734375,-0.6225404739379883,0.02528858184814453,-0.5745754241943359,-0.07543373107910156,0.284149169921875,-0.541778564453125,-0.05907726287841797,-0.3261384963989258,-0.23048973083496094,-0.7978987693786621,0.11367034912109375,-0.2403564453125,-0.1319265365600586,-0.42793941497802734,-0.028188705444335938,-0.541778564453125,0.16607952117919922,-0.14885997772216797,-0.42926502227783203,-0.11033248901367188,0.05659294128417969,-0.36936283111572266,-0.05522632598876953,-0.04789447784423828,-0.01380157470703125,-0.5156993865966797,-0.0761880874633789,-0.0761880874633789,-0.6929802894592285,-0.06768512725830078,-0.0642404556274414,-0.25058555603027344,-0.14759159088134766,-0.3785400390625,-0.11670780181884766,0.216644287109375,0.13837432861328125,0.08887577056884766,-0.7677755355834961,-0.04359912872314453,-0.7976007461547852,0.1359262466430664,-0.3415346145629883,-0.4050464630126953,-0.048369407653808594,-0.9076700210571289,-0.006419181823730469,-0.3629570007324219,-0.03974151611328125,-0.9646339416503906,-0.8786826133728027,0.03777599334716797,-0.2671356201171875,-0.2902498245239258,-0.37917423248291016,-0.2502155303955078,-0.013627052307128906,-0.5552511215209961,-0.894132137298584,-0.8777904510498047,-0.07205677032470703,-0.04912757873535156,-0.541778564453125,-0.3980903625488281,-0.5015220642089844,0.09257793426513672,-0.27906036376953125,-0.31359195709228516,0.11782455444335938,-0.7978987693786621,-0.0606231689453125,-0.11346626281738281,-0.1706857681274414,-0.089447021484375,0.07934379577636719,0.284149169921875,0.21677589416503906,-0.08714866638183594,-0.7978987693786621,-0.2901420593261719,-0.4143791198730469,-0.10418510437011719,0.12991619110107422,-0.06768512725830078,-0.2181396484375,0.3622398376464844,-0.4342374801635742,-0.06768512725830078,0.015419960021972656,-0.13587379455566406,-0.7178897857666016,-0.009341239929199219,-0.036678314208984375,-0.2994356155395508,-0.4385805130004883,0.013930320739746094,-0.41733551025390625,0.020874977111816406,-0.05794048309326172,0.03497505187988281,-0.4205179214477539,-0.7978987693786621,0.2402048110961914,0.08170604705810547,-0.2902498245239258,-0.3426074981689453,-0.32140350341796875,0.27564048767089844,-0.3436317443847656,-0.42926502227783203,0.11441230773925781,0.05364513397216797,-0.5021448135375977,0.0720205307006836,-0.5445938110351562,-0.5513448715209961,-0.014177322387695312,-0.20869731903076172,-0.8033256530761719,-0.38562679290771484,-0.18000221252441406,-0.17432212829589844,-0.31359195709228516,-0.02762126922607422,-0.2990560531616211,0.041767120361328125,0.04171562194824219,-0.40000152587890625,-0.09567070007324219,-0.15880870819091797,-0.5590858459472656,0.10805320739746094,-0.048254966735839844,-0.36277198791503906,-0.36827850341796875,-0.13170146942138672,-0.44969940185546875,-0.5825061798095703,-0.3980903625488281,-0.6304097175598145,-0.020320892333984375,-0.40599918365478516,-0.0761880874633789,-0.3906421661376953,-0.6717405319213867,-0.04096031188964844,-0.2390756607055664,-0.06456470489501953,-0.2754497528076172,-0.03375720977783203,-0.42859649658203125,-0.3256998062133789,-0.12794017791748047,-0.5873022079467773,-0.37285518646240234,-0.06768512725830078,-0.17815017700195312,-0.2519807815551758,-0.09362983703613281,-0.15880870819091797,-0.14439868927001953,0.060764312744140625,-0.3255805969238281,-0.2519807815551758,-0.3258552551269531,-0.4341907501220703,-0.13924026489257812,-0.2201995849609375,-0.5970339775085449,-0.2519807815551758,-0.1276712417602539,-0.39600372314453125,-0.6929802894592285,-0.3426074981689453,0.018083572387695312,-0.3021364212036133,-0.15880870819091797,-0.541778564453125,-0.4297618865966797,-0.541778564453125,-0.22486495971679688,-0.894132137298584,-0.4557962417602539,-0.05161285400390625,-0.14439868927001953,-0.0761880874633789,-0.2754497528076172,-0.15880870819091797,-0.30112361907958984,-0.40778446197509766,-0.11017513275146484,-0.541778564453125,-0.4385805130004883,-0.5819787979125977,-0.11221981048583984,-0.4259967803955078,0.3622398376464844,-0.3797750473022461,-0.6717405319213867,-0.39789390563964844,-0.4772653579711914,0.04516315460205078,-0.541778564453125,-0.0007038116455078125,-0.30112361907958984,-0.3426074981689453,-0.11988067626953125,-0.5672168731689453,-0.1939535140991211,-0.06768512725830078,-0.7978987693786621,-0.14885997772216797,-0.5819435119628906,-0.31664276123046875,-0.5201015472412109,-0.1522378921508789,-0.7978987693786621,-0.8802776336669922,-0.6039738655090332,-1.0864448547363281,-0.894279956817627,-0.4402313232421875,-0.40778446197509766,-0.04822731018066406,-0.06768512725830078,-0.2769746780395508,-0.2519807815551758,-0.2403564453125,-0.6717405319213867,0.2171640396118164,-0.7978987693786621,-0.39091014862060547,-0.04964733123779297,-0.2994356155395508,-0.2519807815551758,-0.3980903625488281,-0.07655048370361328,-0.39519691467285156,-0.44969940185546875,-0.22694015502929688,-0.15880870819091797,-0.2519807815551758,-0.2519807815551758,-0.541778564453125,-0.4124927520751953,-0.10249996185302734,-0.3980903625488281,-0.39519691467285156,-0.11988067626953125,-0.2994356155395508,-0.7819757461547852,-0.7978987693786621,0.3622398376464844,-0.21274852752685547,-0.541778564453125,-0.3021364212036133,-0.3426074981689453,-0.3256998062133789,-0.7978987693786621,-0.6910820007324219,-0.6617136001586914,-0.557593822479248,-0.6574573516845703,-0.31934165954589844,-0.541778564453125,-0.15880870819091797,-0.7978987693786621,-0.6178474426269531,-0.16071605682373047,-0.5854740142822266,-0.2519807815551758,-0.2519807815551758],\"type\":\"histogram\"}],                        {\"template\":{\"data\":{\"histogram2dcontour\":[{\"type\":\"histogram2dcontour\",\"colorbar\":{\"outlinewidth\":0,\"ticks\":\"\"},\"colorscale\":[[0.0,\"#0d0887\"],[0.1111111111111111,\"#46039f\"],[0.2222222222222222,\"#7201a8\"],[0.3333333333333333,\"#9c179e\"],[0.4444444444444444,\"#bd3786\"],[0.5555555555555556,\"#d8576b\"],[0.6666666666666666,\"#ed7953\"],[0.7777777777777778,\"#fb9f3a\"],[0.8888888888888888,\"#fdca26\"],[1.0,\"#f0f921\"]]}],\"choropleth\":[{\"type\":\"choropleth\",\"colorbar\":{\"outlinewidth\":0,\"ticks\":\"\"}}],\"histogram2d\":[{\"type\":\"histogram2d\",\"colorbar\":{\"outlinewidth\":0,\"ticks\":\"\"},\"colorscale\":[[0.0,\"#0d0887\"],[0.1111111111111111,\"#46039f\"],[0.2222222222222222,\"#7201a8\"],[0.3333333333333333,\"#9c179e\"],[0.4444444444444444,\"#bd3786\"],[0.5555555555555556,\"#d8576b\"],[0.6666666666666666,\"#ed7953\"],[0.7777777777777778,\"#fb9f3a\"],[0.8888888888888888,\"#fdca26\"],[1.0,\"#f0f921\"]]}],\"heatmap\":[{\"type\":\"heatmap\",\"colorbar\":{\"outlinewidth\":0,\"ticks\":\"\"},\"colorscale\":[[0.0,\"#0d0887\"],[0.1111111111111111,\"#46039f\"],[0.2222222222222222,\"#7201a8\"],[0.3333333333333333,\"#9c179e\"],[0.4444444444444444,\"#bd3786\"],[0.5555555555555556,\"#d8576b\"],[0.6666666666666666,\"#ed7953\"],[0.7777777777777778,\"#fb9f3a\"],[0.8888888888888888,\"#fdca26\"],[1.0,\"#f0f921\"]]}],\"heatmapgl\":[{\"type\":\"heatmapgl\",\"colorbar\":{\"outlinewidth\":0,\"ticks\":\"\"},\"colorscale\":[[0.0,\"#0d0887\"],[0.1111111111111111,\"#46039f\"],[0.2222222222222222,\"#7201a8\"],[0.3333333333333333,\"#9c179e\"],[0.4444444444444444,\"#bd3786\"],[0.5555555555555556,\"#d8576b\"],[0.6666666666666666,\"#ed7953\"],[0.7777777777777778,\"#fb9f3a\"],[0.8888888888888888,\"#fdca26\"],[1.0,\"#f0f921\"]]}],\"contourcarpet\":[{\"type\":\"contourcarpet\",\"colorbar\":{\"outlinewidth\":0,\"ticks\":\"\"}}],\"contour\":[{\"type\":\"contour\",\"colorbar\":{\"outlinewidth\":0,\"ticks\":\"\"},\"colorscale\":[[0.0,\"#0d0887\"],[0.1111111111111111,\"#46039f\"],[0.2222222222222222,\"#7201a8\"],[0.3333333333333333,\"#9c179e\"],[0.4444444444444444,\"#bd3786\"],[0.5555555555555556,\"#d8576b\"],[0.6666666666666666,\"#ed7953\"],[0.7777777777777778,\"#fb9f3a\"],[0.8888888888888888,\"#fdca26\"],[1.0,\"#f0f921\"]]}],\"surface\":[{\"type\":\"surface\",\"colorbar\":{\"outlinewidth\":0,\"ticks\":\"\"},\"colorscale\":[[0.0,\"#0d0887\"],[0.1111111111111111,\"#46039f\"],[0.2222222222222222,\"#7201a8\"],[0.3333333333333333,\"#9c179e\"],[0.4444444444444444,\"#bd3786\"],[0.5555555555555556,\"#d8576b\"],[0.6666666666666666,\"#ed7953\"],[0.7777777777777778,\"#fb9f3a\"],[0.8888888888888888,\"#fdca26\"],[1.0,\"#f0f921\"]]}],\"mesh3d\":[{\"type\":\"mesh3d\",\"colorbar\":{\"outlinewidth\":0,\"ticks\":\"\"}}],\"scatter\":[{\"fillpattern\":{\"fillmode\":\"overlay\",\"size\":10,\"solidity\":0.2},\"type\":\"scatter\"}],\"parcoords\":[{\"type\":\"parcoords\",\"line\":{\"colorbar\":{\"outlinewidth\":0,\"ticks\":\"\"}}}],\"scatterpolargl\":[{\"type\":\"scatterpolargl\",\"marker\":{\"colorbar\":{\"outlinewidth\":0,\"ticks\":\"\"}}}],\"bar\":[{\"error_x\":{\"color\":\"#2a3f5f\"},\"error_y\":{\"color\":\"#2a3f5f\"},\"marker\":{\"line\":{\"color\":\"#E5ECF6\",\"width\":0.5},\"pattern\":{\"fillmode\":\"overlay\",\"size\":10,\"solidity\":0.2}},\"type\":\"bar\"}],\"scattergeo\":[{\"type\":\"scattergeo\",\"marker\":{\"colorbar\":{\"outlinewidth\":0,\"ticks\":\"\"}}}],\"scatterpolar\":[{\"type\":\"scatterpolar\",\"marker\":{\"colorbar\":{\"outlinewidth\":0,\"ticks\":\"\"}}}],\"histogram\":[{\"marker\":{\"pattern\":{\"fillmode\":\"overlay\",\"size\":10,\"solidity\":0.2}},\"type\":\"histogram\"}],\"scattergl\":[{\"type\":\"scattergl\",\"marker\":{\"colorbar\":{\"outlinewidth\":0,\"ticks\":\"\"}}}],\"scatter3d\":[{\"type\":\"scatter3d\",\"line\":{\"colorbar\":{\"outlinewidth\":0,\"ticks\":\"\"}},\"marker\":{\"colorbar\":{\"outlinewidth\":0,\"ticks\":\"\"}}}],\"scattermapbox\":[{\"type\":\"scattermapbox\",\"marker\":{\"colorbar\":{\"outlinewidth\":0,\"ticks\":\"\"}}}],\"scatterternary\":[{\"type\":\"scatterternary\",\"marker\":{\"colorbar\":{\"outlinewidth\":0,\"ticks\":\"\"}}}],\"scattercarpet\":[{\"type\":\"scattercarpet\",\"marker\":{\"colorbar\":{\"outlinewidth\":0,\"ticks\":\"\"}}}],\"carpet\":[{\"aaxis\":{\"endlinecolor\":\"#2a3f5f\",\"gridcolor\":\"white\",\"linecolor\":\"white\",\"minorgridcolor\":\"white\",\"startlinecolor\":\"#2a3f5f\"},\"baxis\":{\"endlinecolor\":\"#2a3f5f\",\"gridcolor\":\"white\",\"linecolor\":\"white\",\"minorgridcolor\":\"white\",\"startlinecolor\":\"#2a3f5f\"},\"type\":\"carpet\"}],\"table\":[{\"cells\":{\"fill\":{\"color\":\"#EBF0F8\"},\"line\":{\"color\":\"white\"}},\"header\":{\"fill\":{\"color\":\"#C8D4E3\"},\"line\":{\"color\":\"white\"}},\"type\":\"table\"}],\"barpolar\":[{\"marker\":{\"line\":{\"color\":\"#E5ECF6\",\"width\":0.5},\"pattern\":{\"fillmode\":\"overlay\",\"size\":10,\"solidity\":0.2}},\"type\":\"barpolar\"}],\"pie\":[{\"automargin\":true,\"type\":\"pie\"}]},\"layout\":{\"autotypenumbers\":\"strict\",\"colorway\":[\"#636efa\",\"#EF553B\",\"#00cc96\",\"#ab63fa\",\"#FFA15A\",\"#19d3f3\",\"#FF6692\",\"#B6E880\",\"#FF97FF\",\"#FECB52\"],\"font\":{\"color\":\"#2a3f5f\"},\"hovermode\":\"closest\",\"hoverlabel\":{\"align\":\"left\"},\"paper_bgcolor\":\"white\",\"plot_bgcolor\":\"#E5ECF6\",\"polar\":{\"bgcolor\":\"#E5ECF6\",\"angularaxis\":{\"gridcolor\":\"white\",\"linecolor\":\"white\",\"ticks\":\"\"},\"radialaxis\":{\"gridcolor\":\"white\",\"linecolor\":\"white\",\"ticks\":\"\"}},\"ternary\":{\"bgcolor\":\"#E5ECF6\",\"aaxis\":{\"gridcolor\":\"white\",\"linecolor\":\"white\",\"ticks\":\"\"},\"baxis\":{\"gridcolor\":\"white\",\"linecolor\":\"white\",\"ticks\":\"\"},\"caxis\":{\"gridcolor\":\"white\",\"linecolor\":\"white\",\"ticks\":\"\"}},\"coloraxis\":{\"colorbar\":{\"outlinewidth\":0,\"ticks\":\"\"}},\"colorscale\":{\"sequential\":[[0.0,\"#0d0887\"],[0.1111111111111111,\"#46039f\"],[0.2222222222222222,\"#7201a8\"],[0.3333333333333333,\"#9c179e\"],[0.4444444444444444,\"#bd3786\"],[0.5555555555555556,\"#d8576b\"],[0.6666666666666666,\"#ed7953\"],[0.7777777777777778,\"#fb9f3a\"],[0.8888888888888888,\"#fdca26\"],[1.0,\"#f0f921\"]],\"sequentialminus\":[[0.0,\"#0d0887\"],[0.1111111111111111,\"#46039f\"],[0.2222222222222222,\"#7201a8\"],[0.3333333333333333,\"#9c179e\"],[0.4444444444444444,\"#bd3786\"],[0.5555555555555556,\"#d8576b\"],[0.6666666666666666,\"#ed7953\"],[0.7777777777777778,\"#fb9f3a\"],[0.8888888888888888,\"#fdca26\"],[1.0,\"#f0f921\"]],\"diverging\":[[0,\"#8e0152\"],[0.1,\"#c51b7d\"],[0.2,\"#de77ae\"],[0.3,\"#f1b6da\"],[0.4,\"#fde0ef\"],[0.5,\"#f7f7f7\"],[0.6,\"#e6f5d0\"],[0.7,\"#b8e186\"],[0.8,\"#7fbc41\"],[0.9,\"#4d9221\"],[1,\"#276419\"]]},\"xaxis\":{\"gridcolor\":\"white\",\"linecolor\":\"white\",\"ticks\":\"\",\"title\":{\"standoff\":15},\"zerolinecolor\":\"white\",\"automargin\":true,\"zerolinewidth\":2},\"yaxis\":{\"gridcolor\":\"white\",\"linecolor\":\"white\",\"ticks\":\"\",\"title\":{\"standoff\":15},\"zerolinecolor\":\"white\",\"automargin\":true,\"zerolinewidth\":2},\"scene\":{\"xaxis\":{\"backgroundcolor\":\"#E5ECF6\",\"gridcolor\":\"white\",\"linecolor\":\"white\",\"showbackground\":true,\"ticks\":\"\",\"zerolinecolor\":\"white\",\"gridwidth\":2},\"yaxis\":{\"backgroundcolor\":\"#E5ECF6\",\"gridcolor\":\"white\",\"linecolor\":\"white\",\"showbackground\":true,\"ticks\":\"\",\"zerolinecolor\":\"white\",\"gridwidth\":2},\"zaxis\":{\"backgroundcolor\":\"#E5ECF6\",\"gridcolor\":\"white\",\"linecolor\":\"white\",\"showbackground\":true,\"ticks\":\"\",\"zerolinecolor\":\"white\",\"gridwidth\":2}},\"shapedefaults\":{\"line\":{\"color\":\"#2a3f5f\"}},\"annotationdefaults\":{\"arrowcolor\":\"#2a3f5f\",\"arrowhead\":0,\"arrowwidth\":1},\"geo\":{\"bgcolor\":\"white\",\"landcolor\":\"#E5ECF6\",\"subunitcolor\":\"white\",\"showland\":true,\"showlakes\":true,\"lakecolor\":\"white\"},\"title\":{\"x\":0.05},\"mapbox\":{\"style\":\"light\"}}},\"title\":{\"text\":\"Distribution of Difference In Nuclear Norms - GMI vs GMI+XM\"},\"xaxis\":{\"title\":{\"text\":\"Difference In Nuclear Norms - GMI vs GMI+XM\"}},\"yaxis\":{\"title\":{\"text\":\"Frequency\"}},\"font\":{\"size\":30},\"plot_bgcolor\":\"white\",\"paper_bgcolor\":\"white\"},                        {\"responsive\": true}                    ).then(function(){\n",
       "                            \n",
       "var gd = document.getElementById('e4076813-7a44-4e69-b2fc-b22b566ef41d');\n",
       "var x = new MutationObserver(function (mutations, observer) {{\n",
       "        var display = window.getComputedStyle(gd).display;\n",
       "        if (!display || display === 'none') {{\n",
       "            console.log([gd, 'removed!']);\n",
       "            Plotly.purge(gd);\n",
       "            observer.disconnect();\n",
       "        }}\n",
       "}});\n",
       "\n",
       "// Listen for the removal of the full notebook cells\n",
       "var notebookContainer = gd.closest('#notebook-container');\n",
       "if (notebookContainer) {{\n",
       "    x.observe(notebookContainer, {childList: true});\n",
       "}}\n",
       "\n",
       "// Listen for the clearing of the current output cell\n",
       "var outputEl = gd.closest('.output');\n",
       "if (outputEl) {{\n",
       "    x.observe(outputEl, {childList: true});\n",
       "}}\n",
       "\n",
       "                        })                };                });            </script>        </div>"
      ]
     },
     "metadata": {},
     "output_type": "display_data"
    }
   ],
   "source": [
    "diff = np.array(norm_og) - np.array(norm_plus)\n",
    "fig = go.Figure()\n",
    "fig.add_trace(go.Histogram(x = diff))\n",
    "fig.update_layout(title_text = 'Distribution of Difference In Nuclear Norms - GMI vs GMI+XM', \n",
    "                  xaxis_title_text = 'Difference In Nuclear Norms - GMI vs GMI+XM', \n",
    "                  yaxis_title_text = 'Frequency', \n",
    "                  plot_bgcolor = 'white', \n",
    "                  paper_bgcolor = 'white', \n",
    "                  font = dict(size = 30))\n",
    "fig.show()"
   ]
  },
  {
   "cell_type": "code",
   "execution_count": 29,
   "id": "771d731e",
   "metadata": {},
   "outputs": [
    {
     "data": {
      "application/vnd.plotly.v1+json": {
       "config": {
        "plotlyServerURL": "https://plot.ly"
       },
       "data": [
        {
         "name": "GMI",
         "type": "histogram",
         "x": [
          10.708531379699707,
          15.858330726623535,
          14.455771446228027,
          13.028984069824219,
          10.817439079284668,
          12.350882530212402,
          10.022968292236328,
          8.702115058898926,
          14.721081733703613,
          8.794885635375977,
          14.549641609191895,
          14.638016700744629,
          10.91280746459961,
          12.970309257507324,
          13.066551208496094,
          11.608987808227539,
          12.73970890045166,
          8.01943588256836,
          14.246432304382324,
          12.809699058532715,
          13.405403137207031,
          11.651060104370117,
          10.306585311889648,
          12.43517780303955,
          8.69589900970459,
          14.572823524475098,
          7.9920525550842285,
          11.642757415771484,
          8.537985801696777,
          8.384374618530273,
          8.214186668395996,
          11.883618354797363,
          13.550830841064453,
          13.650351524353027,
          15.12633991241455,
          14.143260955810547,
          12.828064918518066,
          12.163239479064941,
          12.699907302856445,
          11.399457931518555,
          11.495677947998047,
          13.207895278930664,
          13.040254592895508,
          10.933445930480957,
          9.38961410522461,
          11.442132949829102,
          8.781974792480469,
          14.748417854309082,
          12.422465324401855,
          9.915326118469238,
          10.162151336669922,
          12.562284469604492,
          10.336532592773438,
          13.402100563049316,
          8.626079559326172,
          13.283851623535156,
          14.401861190795898,
          12.817000389099121,
          10.102057456970215,
          11.44170093536377,
          11.966385841369629,
          14.042258262634277,
          10.536761283874512,
          11.353382110595703,
          12.667593955993652,
          10.64383602142334,
          12.058237075805664,
          11.790387153625488,
          12.997864723205566,
          9.775473594665527,
          12.146926879882812,
          12.249933242797852,
          14.357794761657715,
          13.186767578125,
          12.447274208068848,
          13.47286319732666,
          10.65736198425293,
          6.596792697906494,
          12.655065536499023,
          12.587746620178223,
          15.883498191833496,
          13.886137008666992,
          13.438260078430176,
          9.439848899841309,
          12.27800178527832,
          14.81418514251709,
          11.69438362121582,
          11.485286712646484,
          13.016406059265137,
          13.480818748474121,
          12.172900199890137,
          10.404664993286133,
          9.740492820739746,
          10.5950927734375,
          10.054961204528809,
          11.729479789733887,
          13.192676544189453,
          8.421772956848145,
          9.370848655700684,
          14.627385139465332,
          9.732499122619629,
          9.761922836303711,
          13.74088191986084,
          8.231298446655273,
          7.7520270347595215,
          10.407167434692383,
          12.886270523071289,
          14.993851661682129,
          12.482597351074219,
          13.881806373596191,
          12.781386375427246,
          11.813776016235352,
          14.034660339355469,
          12.5599365234375,
          13.151366233825684,
          10.414400100708008,
          9.744010925292969,
          11.627663612365723,
          11.010049819946289,
          11.988959312438965,
          11.467562675476074,
          9.237367630004883,
          12.21429443359375,
          12.407547950744629,
          11.139799118041992,
          9.362738609313965,
          9.162493705749512,
          13.14472484588623,
          13.498355865478516,
          10.917593955993652,
          12.359405517578125,
          12.191676139831543,
          12.739846229553223,
          11.536048889160156,
          12.771016120910645,
          12.710368156433105,
          10.989950180053711,
          10.828775405883789,
          10.322029113769531,
          13.232734680175781,
          15.393082618713379,
          12.458625793457031,
          12.44876480102539,
          10.75496768951416,
          12.249056816101074,
          14.048787117004395,
          14.01531982421875,
          14.014076232910156,
          11.646997451782227,
          14.076566696166992,
          11.998350143432617,
          12.717206954956055,
          11.079710006713867,
          12.315669059753418,
          10.80202865600586,
          11.920027732849121,
          12.37049674987793,
          5.067526340484619,
          10.673029899597168,
          12.539449691772461,
          7.781444549560547,
          11.19882869720459,
          13.30264949798584,
          9.619832038879395,
          9.1597261428833,
          12.234127044677734,
          11.278738021850586,
          11.61163330078125,
          8.600849151611328,
          7.468287944793701,
          15.364474296569824,
          13.520535469055176,
          12.003681182861328,
          12.61992359161377,
          12.764542579650879,
          11.665452003479004,
          13.498263359069824,
          12.691180229187012,
          14.384772300720215,
          9.587542533874512,
          8.812148094177246,
          12.405991554260254,
          13.546424865722656,
          14.080443382263184,
          10.084381103515625,
          9.648221015930176,
          11.988038063049316,
          12.12120246887207,
          14.812251091003418,
          10.056586265563965,
          8.123940467834473,
          12.053077697753906,
          9.0366849899292,
          8.680604934692383,
          11.541585922241211,
          10.667657852172852,
          12.979578971862793,
          11.624998092651367,
          13.636955261230469,
          12.470413208007812,
          13.24927806854248,
          10.189467430114746,
          11.81224536895752,
          13.596771240234375,
          13.473495483398438,
          10.011775970458984,
          12.661402702331543,
          12.609894752502441,
          8.83541202545166,
          9.169243812561035,
          10.132145881652832,
          8.291769981384277,
          9.603287696838379,
          11.202370643615723,
          12.134047508239746,
          6.596956253051758,
          9.01917552947998,
          9.04705810546875,
          8.469273567199707,
          12.777411460876465,
          14.445302963256836,
          11.835515975952148,
          12.130882263183594,
          12.10928726196289,
          14.269579887390137,
          14.65416145324707,
          14.94267749786377,
          14.629183769226074,
          12.842763900756836,
          11.765820503234863,
          13.0967378616333,
          13.557872772216797,
          12.755858421325684,
          13.410882949829102,
          12.78375244140625,
          13.419787406921387,
          15.004121780395508,
          9.573897361755371,
          13.197802543640137,
          15.129150390625,
          12.978046417236328,
          12.613777160644531,
          13.146706581115723,
          11.097131729125977,
          8.689711570739746,
          13.961827278137207,
          13.013875961303711,
          10.706305503845215,
          11.878508567810059,
          9.463129997253418,
          13.076556205749512,
          12.263764381408691,
          8.672380447387695,
          9.203755378723145,
          13.64900016784668,
          13.232552528381348,
          12.220627784729004,
          13.368995666503906,
          13.677947044372559,
          12.238015174865723,
          11.665180206298828,
          9.606756210327148,
          9.691340446472168,
          7.850849151611328,
          12.949783325195312,
          11.21385669708252,
          14.314644813537598,
          11.930715560913086,
          11.415881156921387,
          10.983409881591797,
          14.919936180114746,
          14.25182819366455,
          14.927803993225098,
          12.502517700195312,
          11.863848686218262,
          11.848115921020508,
          8.80370044708252,
          7.440615653991699,
          14.626785278320312,
          13.277565002441406,
          12.978297233581543,
          14.481822967529297,
          13.79357624053955,
          14.249550819396973,
          11.399168014526367,
          13.691387176513672,
          13.100092887878418,
          8.995594024658203,
          11.931251525878906,
          13.567794799804688,
          12.480417251586914,
          15.248762130737305,
          13.214961051940918,
          15.028695106506348,
          13.261460304260254,
          12.116053581237793,
          12.232904434204102,
          11.658196449279785,
          12.913451194763184,
          14.485033988952637,
          12.145983695983887,
          14.456527709960938,
          14.077323913574219,
          12.410114288330078,
          7.435306072235107,
          7.780494689941406,
          10.94970417022705,
          7.617373466491699,
          8.28589153289795,
          11.561260223388672,
          9.604071617126465,
          12.407812118530273,
          13.648988723754883,
          10.760469436645508,
          11.085992813110352,
          11.629597663879395,
          9.368941307067871,
          8.649532318115234,
          8.051583290100098,
          12.403336524963379,
          9.318489074707031,
          9.8224458694458,
          12.166736602783203,
          13.177287101745605,
          14.986225128173828,
          14.299769401550293,
          12.950188636779785,
          9.210871696472168,
          12.618271827697754,
          13.299478530883789,
          13.337213516235352,
          14.660419464111328,
          11.507494926452637,
          13.09546947479248,
          15.421765327453613,
          8.43364429473877,
          6.554965496063232,
          14.538299560546875,
          10.297894477844238,
          12.008487701416016,
          11.292791366577148,
          9.153119087219238,
          15.407817840576172,
          14.462922096252441,
          8.01082706451416,
          8.489739418029785,
          12.108017921447754,
          11.400721549987793,
          9.881857872009277,
          13.09630012512207,
          14.530826568603516,
          13.266595840454102,
          14.349004745483398,
          14.914942741394043,
          7.965655326843262,
          8.818116188049316,
          14.06044864654541,
          11.736536026000977,
          13.694518089294434,
          13.656964302062988,
          9.873212814331055,
          7.167619705200195,
          11.429102897644043,
          12.529793739318848,
          8.904230117797852,
          11.488967895507812,
          10.752130508422852,
          13.711139678955078,
          10.194807052612305,
          12.622153282165527,
          14.48607349395752,
          15.107522964477539,
          13.658177375793457,
          8.786972999572754,
          10.502952575683594,
          12.176466941833496,
          10.550614356994629,
          9.046724319458008,
          7.05604362487793,
          13.089171409606934,
          8.89621639251709,
          12.95018196105957,
          12.127013206481934,
          9.704976081848145,
          9.808273315429688,
          8.58466911315918,
          14.487849235534668,
          14.719801902770996,
          11.299264907836914,
          10.57957935333252,
          11.793586730957031,
          12.129356384277344,
          11.66959285736084,
          9.900022506713867,
          6.886505603790283,
          11.838269233703613,
          9.602828025817871,
          10.621966361999512,
          12.133902549743652,
          13.02538776397705,
          14.458056449890137,
          8.486133575439453,
          15.18384075164795,
          13.457114219665527,
          10.636948585510254,
          13.466537475585938,
          14.637495040893555,
          14.029809951782227,
          12.768038749694824,
          12.434195518493652,
          8.788864135742188,
          6.458897590637207,
          13.797392845153809,
          7.736664772033691,
          10.832709312438965,
          12.345945358276367,
          12.452710151672363,
          11.178565979003906,
          10.33646297454834,
          9.596832275390625,
          12.850996017456055,
          15.827081680297852,
          12.854304313659668,
          9.324528694152832,
          14.835862159729004,
          13.035013198852539,
          11.119895935058594,
          9.184786796569824,
          9.265387535095215,
          15.74710750579834,
          8.686003684997559,
          14.729865074157715,
          13.334922790527344,
          10.806229591369629,
          10.202844619750977,
          10.148014068603516,
          13.763053894042969,
          14.455757141113281,
          13.856141090393066,
          9.911474227905273,
          12.735689163208008,
          8.710211753845215,
          10.79619312286377,
          11.959112167358398,
          14.663187980651855,
          12.439947128295898,
          8.910969734191895,
          13.149230003356934,
          13.238628387451172,
          13.039568901062012,
          9.418376922607422,
          14.769092559814453,
          13.27057933807373,
          13.047945022583008,
          15.338549613952637,
          13.413798332214355,
          9.615175247192383,
          7.997280597686768,
          11.462647438049316,
          11.99974250793457,
          9.781230926513672,
          8.342424392700195,
          9.272239685058594,
          9.101628303527832,
          8.767919540405273,
          11.263381004333496,
          14.229022979736328,
          10.503316879272461,
          8.856547355651855,
          9.877016067504883,
          10.406412124633789,
          10.871810913085938,
          7.777589321136475,
          8.452032089233398,
          15.021885871887207,
          8.707737922668457,
          9.892257690429688,
          11.12977123260498,
          12.310604095458984,
          13.429617881774902,
          14.151598930358887,
          11.403616905212402,
          14.515044212341309,
          8.565193176269531,
          11.513240814208984,
          14.623611450195312,
          10.583431243896484,
          10.755552291870117,
          10.836677551269531,
          6.950077533721924,
          5.732271671295166,
          9.576593399047852,
          13.382573127746582,
          11.8707857131958,
          7.518110275268555,
          14.83505916595459,
          9.756266593933105,
          13.789551734924316,
          13.196173667907715,
          13.07536506652832,
          14.413046836853027,
          13.37060832977295,
          8.128534317016602,
          14.534296035766602,
          10.235381126403809,
          11.25511360168457,
          14.478554725646973,
          9.264939308166504,
          13.118888854980469,
          11.539337158203125,
          10.972183227539062,
          8.830754280090332,
          9.570503234863281,
          14.96132755279541,
          14.151997566223145,
          9.63666820526123,
          8.834749221801758,
          10.558181762695312,
          9.953937530517578,
          9.120923042297363,
          13.474858283996582,
          11.845902442932129,
          13.941892623901367,
          10.522796630859375,
          13.391419410705566,
          7.995269298553467,
          12.543274879455566,
          9.327279090881348,
          9.881857872009277,
          9.035301208496094,
          12.503344535827637,
          11.042706489562988,
          8.215249061584473,
          13.481064796447754,
          10.938004493713379,
          8.709349632263184,
          9.484610557556152,
          12.120996475219727,
          13.139544486999512,
          13.666167259216309,
          13.277054786682129,
          12.608482360839844,
          12.441109657287598,
          8.732250213623047,
          15.460501670837402,
          9.466413497924805,
          9.318489074707031,
          9.64854907989502,
          10.067119598388672,
          9.7449951171875,
          13.295244216918945,
          12.039891242980957,
          12.195699691772461,
          13.156716346740723,
          14.638097763061523,
          10.677923202514648,
          10.948014259338379,
          12.10921573638916,
          13.882954597473145,
          7.938735008239746,
          8.856698989868164,
          9.872580528259277,
          13.80297565460205,
          14.073325157165527,
          11.520759582519531,
          8.503002166748047,
          13.475228309631348,
          14.773700714111328,
          13.036633491516113,
          12.232275009155273,
          7.882008075714111,
          15.1021089553833,
          11.276410102844238,
          14.696824073791504,
          12.678348541259766,
          8.665257453918457,
          14.345824241638184,
          9.235962867736816,
          12.3433198928833,
          8.463791847229004,
          10.812215805053711,
          15.03425121307373,
          12.2949800491333,
          14.944668769836426,
          16.111427307128906,
          15.992963790893555,
          10.06428337097168,
          11.440545082092285,
          10.00712776184082,
          12.750323295593262,
          12.13032054901123,
          8.672380447387695,
          8.649079322814941,
          14.030241012573242,
          13.6069974899292,
          14.885722160339355,
          12.49709415435791,
          9.318489074707031,
          11.906282424926758,
          9.598079681396484,
          10.291613578796387,
          12.762032508850098,
          9.64039134979248,
          9.186253547668457,
          9.148469924926758,
          9.710603713989258,
          14.754118919372559,
          14.784891128540039,
          8.231285095214844,
          9.872355461120605,
          11.017537117004395,
          10.479844093322754,
          8.650553703308105,
          9.835258483886719,
          7.7520341873168945,
          15.222166061401367,
          14.065991401672363,
          9.841523170471191,
          8.800101280212402,
          11.131863594055176,
          8.905997276306152,
          10.826813697814941,
          13.930169105529785,
          12.162879943847656,
          14.805118560791016,
          11.0738525390625,
          14.111181259155273,
          9.354280471801758,
          9.003913879394531,
          13.771782875061035,
          14.054617881774902,
          8.17911434173584,
          9.433655738830566,
          9.450031280517578,
          10.049761772155762,
          11.015432357788086,
          9.19555950164795,
          10.24866771697998,
          12.162053108215332,
          12.598459243774414,
          8.90980339050293,
          14.190454483032227,
          9.430246353149414,
          11.618346214294434,
          14.785910606384277,
          14.79234504699707,
          7.433559894561768,
          7.469676971435547,
          11.251002311706543,
          13.382955551147461,
          13.718201637268066,
          10.094256401062012,
          9.576593399047852,
          10.072896003723145,
          11.479004859924316,
          12.551987648010254,
          13.47537612915039,
          14.210050582885742,
          14.226459503173828,
          10.127941131591797,
          8.969852447509766,
          8.801841735839844,
          10.988566398620605,
          9.55701732635498,
          11.44880485534668,
          10.661587715148926,
          13.982739448547363,
          8.818116188049316,
          10.44064998626709,
          9.037436485290527,
          8.160439491271973,
          10.5348539352417,
          11.769087791442871,
          11.912354469299316,
          11.817198753356934,
          10.93856143951416,
          10.870552062988281,
          9.549016952514648,
          11.3335542678833,
          13.845221519470215,
          11.13701343536377,
          12.91513729095459,
          13.0084228515625,
          13.330655097961426,
          9.118268966674805,
          9.380949974060059,
          10.334187507629395,
          14.769438743591309,
          14.68734073638916,
          14.195257186889648,
          9.037436485290527,
          9.476526260375977,
          13.703700065612793,
          10.092133522033691,
          12.270830154418945,
          9.881857872009277,
          12.579355239868164,
          12.42541217803955,
          11.19083023071289,
          10.991037368774414,
          11.412256240844727,
          13.020421028137207,
          12.660954475402832,
          11.214193344116211,
          11.722238540649414,
          14.428031921386719,
          9.881857872009277,
          9.388103485107422,
          10.677923202514648,
          13.236248970031738,
          10.689314842224121,
          11.259736061096191,
          12.39903736114502,
          15.809819221496582,
          10.322029113769531,
          10.445342063903809,
          9.84118366241455,
          8.710993766784668,
          9.881857872009277,
          12.319439888000488,
          11.171955108642578,
          11.370016098022461,
          9.107669830322266,
          11.076979637145996,
          13.880119323730469,
          10.677923202514648,
          15.177566528320312,
          12.905760765075684,
          9.112564086914062,
          11.178565979003906,
          15.209338188171387,
          12.295088768005371,
          7.431339263916016,
          9.39673900604248,
          8.844940185546875,
          10.112804412841797,
          9.323307037353516,
          10.350922584533691,
          10.820757865905762,
          13.295880317687988,
          8.444263458251953,
          9.318489074707031,
          6.612762928009033,
          14.067418098449707,
          10.525245666503906,
          11.620749473571777,
          14.497989654541016,
          14.611595153808594,
          13.113167762756348,
          12.379042625427246,
          9.123563766479492,
          15.259544372558594,
          14.514232635498047,
          10.58851146697998,
          14.745790481567383,
          11.003300666809082,
          8.54433822631836,
          9.858831405639648,
          8.216788291931152,
          11.440545082092285,
          9.714027404785156,
          12.571807861328125,
          10.159749031066895,
          12.393010139465332,
          7.979146480560303,
          14.289115905761719,
          10.649300575256348,
          8.671133995056152,
          10.54863452911377,
          14.349465370178223,
          9.572473526000977,
          10.552899360656738,
          15.095514297485352,
          12.83368968963623,
          9.992387771606445,
          13.240059852600098,
          9.3549165725708,
          8.301860809326172,
          11.657763481140137,
          15.60060977935791,
          15.059100151062012,
          10.793261528015137,
          13.729593276977539,
          10.701385498046875,
          8.489656448364258,
          7.979146480560303,
          8.44417953491211,
          13.703179359436035,
          12.231250762939453,
          13.539345741271973,
          8.35204792022705,
          11.505462646484375,
          14.749805450439453,
          12.85075855255127,
          12.339813232421875,
          15.598365783691406,
          11.373530387878418,
          14.267231941223145,
          9.697543144226074,
          9.835258483886719,
          9.318489074707031,
          11.089313507080078,
          14.209771156311035,
          10.425924301147461,
          9.18358325958252,
          10.778298377990723,
          9.755118370056152,
          13.829676628112793,
          8.166007995605469,
          14.726585388183594,
          9.483551979064941,
          12.857396125793457,
          12.027911186218262,
          9.384471893310547,
          8.494911193847656,
          12.753868103027344,
          8.874770164489746,
          9.750314712524414,
          14.551413536071777,
          8.291769981384277,
          13.963376998901367,
          7.434174537658691,
          10.295221328735352,
          9.534350395202637,
          12.204535484313965,
          11.136399269104004,
          10.159578323364258,
          8.237297058105469,
          8.795615196228027,
          10.687470436096191,
          10.41201400756836,
          11.202465057373047,
          8.672380447387695,
          12.952467918395996,
          11.093693733215332,
          9.256563186645508,
          7.469676971435547,
          12.898846626281738,
          14.083026885986328,
          14.40230655670166,
          10.413077354431152,
          12.352734565734863,
          8.75432300567627,
          11.114165306091309,
          6.893398284912109,
          8.68143367767334,
          10.322029113769531,
          15.524439811706543,
          6.027665138244629,
          11.452710151672363,
          15.749289512634277,
          10.151681900024414,
          7.5059123039245605,
          13.057670593261719,
          11.521821975708008,
          10.092133522033691,
          13.501940727233887,
          9.263324737548828,
          11.985944747924805,
          15.50106143951416,
          13.367691993713379,
          16.436296463012695,
          8.402605056762695,
          13.82769775390625,
          10.596625328063965,
          13.589569091796875,
          11.488967895507812,
          10.991190910339355,
          10.49465560913086,
          9.150020599365234,
          6.612762928009033,
          14.896875381469727,
          9.576593399047852,
          11.629517555236816,
          9.786395072937012,
          9.368534088134766,
          9.881857872009277,
          10.8285551071167,
          10.8285551071167,
          8.834543228149414,
          11.296998977661133,
          9.213593482971191,
          9.318489074707031,
          12.379249572753906,
          13.573830604553223,
          6.612762928009033,
          8.874770164489746,
          8.672380447387695,
          13.8536958694458,
          14.77270793914795,
          10.201787948608398,
          9.710603713989258,
          11.503165245056152,
          13.3607816696167,
          9.059221267700195,
          11.164146423339844,
          10.798677444458008,
          14.363560676574707,
          9.741145133972168,
          13.61369800567627,
          8.746527671813965,
          13.444563865661621,
          12.500569343566895,
          10.982275009155273,
          11.03689193725586,
          11.488276481628418,
          8.84945011138916,
          9.36000919342041,
          9.53283405303955,
          15.427175521850586,
          14.169508934020996,
          11.707515716552734,
          10.159749031066895,
          9.7183256149292,
          9.599170684814453,
          13.579100608825684,
          10.962651252746582,
          13.779260635375977,
          10.445342063903809,
          8.672380447387695,
          11.906136512756348,
          10.092133522033691,
          10.643172264099121,
          6.612762928009033,
          13.463455200195312,
          10.862502098083496,
          11.614320755004883,
          9.64854907989502,
          13.320257186889648,
          8.672380447387695,
          11.81548023223877,
          10.289069175720215,
          8.471089363098145,
          13.545592308044434,
          11.399017333984375,
          12.548296928405762,
          10.428112030029297,
          9.804588317871094,
          10.522125244140625,
          10.749652862548828,
          8.38826847076416,
          8.38826847076416,
          7.701202869415283,
          9.318489074707031,
          11.173299789428711,
          9.881857872009277,
          13.61669921875,
          9.854227066040039,
          11.20261001586914,
          9.240325927734375,
          11.003300666809082,
          13.923233032226562,
          6.893398284912109,
          13.15542984008789,
          8.221370697021484,
          10.346991539001465,
          8.729747772216797,
          11.305281639099121,
          10.54704475402832,
          8.516613006591797,
          10.96224594116211,
          12.350473403930664,
          11.008386611938477,
          9.035297393798828,
          6.41706657409668,
          10.87060546875,
          7.363376140594482,
          9.729939460754395,
          8.665257453918457,
          10.519672393798828,
          10.81963062286377,
          8.931550025939941,
          5.374138355255127,
          5.972589015960693,
          8.82078742980957,
          11.648266792297363,
          8.672380447387695,
          12.040931701660156,
          7.327633857727051,
          11.105834007263184,
          10.956265449523926,
          9.835258483886719,
          12.387710571289062,
          6.612762928009033,
          8.545893669128418,
          10.938375473022461,
          9.09942626953125,
          9.783029556274414,
          12.785758972167969,
          10.445342063903809,
          11.296998977661133,
          14.874747276306152,
          6.612762928009033,
          8.51589584350586,
          12.84571361541748,
          10.849710464477539,
          10.69921875,
          9.318489074707031,
          8.11109733581543,
          10.649300575256348,
          8.54404067993164,
          9.318489074707031,
          11.627165794372559,
          8.431660652160645,
          7.431339263916016,
          8.848219871520996,
          10.558046340942383,
          11.759465217590332,
          11.521821975708008,
          11.301216125488281,
          8.194873809814453,
          11.7990140914917,
          13.42859935760498,
          10.998673439025879,
          10.87552261352539,
          6.612762928009033,
          9.269461631774902,
          10.746898651123047,
          9.729939460754395,
          8.818116188049316,
          10.019072532653809,
          10.75937271118164,
          9.037125587463379,
          8.471089363098145,
          9.51591968536377,
          10.81266975402832,
          9.240375518798828,
          8.606941223144531,
          11.248387336730957,
          8.212902069091797,
          11.371369361877441,
          8.532552719116211,
          10.622652053833008,
          9.585321426391602,
          9.687217712402344,
          8.276166915893555,
          9.835258483886719,
          15.13588809967041,
          9.601634979248047,
          10.83183765411377,
          10.735170364379883,
          8.35204792022705,
          8.342424392700195,
          9.710603713989258,
          11.73101806640625,
          10.559530258178711,
          10.996978759765625,
          8.830754280090332,
          9.576593399047852,
          14.05604076385498,
          10.195961952209473,
          9.093681335449219,
          12.040931701660156,
          7.8367438316345215,
          8.751277923583984,
          8.2621488571167,
          8.38826847076416,
          8.402605056762695,
          7.469676971435547,
          10.774494171142578,
          8.78270149230957,
          8.592877388000488,
          11.136399269104004,
          13.826794624328613,
          11.173781394958496,
          11.970170021057129,
          14.787691116333008,
          9.913458824157715,
          9.804954528808594,
          9.318489074707031,
          8.450671195983887,
          10.159749031066895,
          11.216588973999023,
          9.710603713989258,
          9.359993934631348,
          14.467409133911133,
          12.080401420593262,
          10.159749031066895,
          7.750652313232422,
          10.658203125,
          10.967013359069824,
          13.60311508178711,
          7.3298020362854,
          10.159749031066895,
          13.62507152557373,
          9.38300609588623,
          7.701202869415283,
          8.818116188049316,
          11.0508394241333,
          12.000096321105957,
          9.710603713989258,
          8.672380447387695,
          10.365981101989746,
          8.672380447387695,
          9.868180274963379,
          5.374138355255127,
          11.418578147888184,
          8.86500072479248,
          9.359993934631348,
          8.38826847076416,
          11.136399269104004,
          9.710603713989258,
          10.122422218322754,
          8.052009582519531,
          11.15882682800293,
          8.672380447387695,
          11.521821975708008,
          11.68481159210205,
          11.625211715698242,
          9.815343856811523,
          10.649300575256348,
          12.145072937011719,
          7.469676971435547,
          11.252243041992188,
          9.946582794189453,
          10.586756706237793,
          8.672380447387695,
          8.75600814819336,
          10.122422218322754,
          8.818116188049316,
          9.484068870544434,
          10.11166000366211,
          10.085368156433105,
          9.318489074707031,
          6.612762928009033,
          10.289069175720215,
          8.307621955871582,
          11.722591400146484,
          8.510659217834473,
          10.940506935119629,
          6.612762928009033,
          8.760627746582031,
          7.8793816566467285,
          8.542319297790527,
          6.134694576263428,
          10.557903289794922,
          8.052009582519531,
          13.224027633666992,
          9.318489074707031,
          11.238020896911621,
          10.159749031066895,
          10.862502098083496,
          7.469676971435547,
          10.238972663879395,
          6.612762928009033,
          10.914104461669922,
          10.774147033691406,
          11.759465217590332,
          10.159749031066895,
          12.040931701660156,
          11.071317672729492,
          10.828167915344238,
          10.195961952209473,
          11.170857429504395,
          9.710603713989258,
          10.159749031066895,
          10.159749031066895,
          8.672380447387695,
          10.27074909210205,
          9.19023323059082,
          12.040931701660156,
          10.828167915344238,
          9.484068870544434,
          11.759465217590332,
          10.202818870544434,
          6.612762928009033,
          10.649300575256348,
          8.176155090332031,
          8.672380447387695,
          12.000096321105957,
          8.818116188049316,
          11.970170021057129,
          6.612762928009033,
          7.434174537658691,
          9.279939651489258,
          7.925445079803467,
          9.2592134475708,
          12.0436429977417,
          8.672380447387695,
          9.710603713989258,
          6.612762928009033,
          9.263324737548828,
          8.777325630187988,
          10.349714279174805,
          10.159749031066895,
          10.159749031066895
         ]
        },
        {
         "name": "GMI+XM",
         "type": "histogram",
         "x": [
          10.706913948059082,
          15.92501163482666,
          14.682913780212402,
          13.243084907531738,
          11.07203483581543,
          12.607540130615234,
          10.227139472961426,
          9.07889175415039,
          15.006991386413574,
          8.890436172485352,
          14.896361351013184,
          14.928938865661621,
          11.122243881225586,
          13.222970008850098,
          13.395023345947266,
          11.773293495178223,
          12.653797149658203,
          8.234464645385742,
          14.630843162536621,
          13.037776947021484,
          13.630736351013184,
          11.821532249450684,
          10.503061294555664,
          12.62752628326416,
          8.778597831726074,
          14.666275024414062,
          8.10876178741455,
          11.9113130569458,
          8.750591278076172,
          8.672738075256348,
          8.58039379119873,
          12.0895357131958,
          13.91026496887207,
          13.7158842086792,
          15.205162048339844,
          13.954377174377441,
          13.218339920043945,
          12.427621841430664,
          12.930420875549316,
          11.56776237487793,
          11.739802360534668,
          13.559234619140625,
          13.314041137695312,
          11.143963813781738,
          9.626893043518066,
          11.629364967346191,
          8.887785911560059,
          14.951638221740723,
          12.663826942443848,
          10.040271759033203,
          10.305359840393066,
          12.785125732421875,
          10.655720710754395,
          13.70096492767334,
          8.739218711853027,
          13.533990859985352,
          14.44907283782959,
          13.064794540405273,
          10.331905364990234,
          11.642985343933105,
          12.177797317504883,
          14.141959190368652,
          10.55998706817627,
          11.767268180847168,
          12.985482215881348,
          11.056591033935547,
          12.312315940856934,
          11.952583312988281,
          13.307263374328613,
          9.575340270996094,
          12.338598251342773,
          12.342500686645508,
          14.70815372467041,
          13.443984031677246,
          12.714242935180664,
          13.766167640686035,
          10.857856750488281,
          6.628824710845947,
          13.018636703491211,
          12.97026538848877,
          15.938261985778809,
          13.91754150390625,
          13.637742042541504,
          9.588536262512207,
          12.492250442504883,
          15.144129753112793,
          11.927823066711426,
          11.808103561401367,
          13.266160011291504,
          13.763374328613281,
          12.351247787475586,
          10.61347484588623,
          9.879881858825684,
          10.33694076538086,
          10.24156665802002,
          12.048846244812012,
          13.498809814453125,
          8.562642097473145,
          9.54382038116455,
          15.045191764831543,
          9.985461235046387,
          10.408783912658691,
          13.830111503601074,
          8.594480514526367,
          7.938320159912109,
          10.14466381072998,
          12.830656051635742,
          15.259164810180664,
          12.732613563537598,
          14.209901809692383,
          13.031758308410645,
          11.860611915588379,
          14.413634300231934,
          12.540575981140137,
          13.381278991699219,
          10.061749458312988,
          9.853398323059082,
          11.920098304748535,
          11.200201988220215,
          12.382896423339844,
          11.714725494384766,
          9.35798168182373,
          12.549389839172363,
          12.640595436096191,
          11.456993103027344,
          9.708091735839844,
          9.46696662902832,
          12.87431812286377,
          13.81753921508789,
          11.050951957702637,
          12.588781356811523,
          12.5328369140625,
          12.742392539978027,
          11.87158489227295,
          13.021703720092773,
          12.943130493164062,
          11.127493858337402,
          11.170197486877441,
          10.043327331542969,
          13.186396598815918,
          15.486714363098145,
          12.732596397399902,
          12.688077926635742,
          11.071476936340332,
          12.474672317504883,
          14.363383293151855,
          14.288268089294434,
          14.19268798828125,
          11.828235626220703,
          14.090079307556152,
          12.296372413635254,
          12.99183464050293,
          11.172283172607422,
          12.498732566833496,
          10.992294311523438,
          12.257770538330078,
          12.600902557373047,
          5.220917224884033,
          11.387541770935059,
          12.535929679870605,
          7.900312900543213,
          11.189252853393555,
          13.638240814208984,
          9.69798755645752,
          9.455387115478516,
          12.456578254699707,
          11.570734024047852,
          11.780681610107422,
          9.353283882141113,
          6.292450904846191,
          15.418825149536133,
          13.824909210205078,
          12.249373435974121,
          12.837837219238281,
          13.012229919433594,
          11.975361824035645,
          13.725525856018066,
          12.945466041564941,
          14.64876937866211,
          10.008362770080566,
          9.213390350341797,
          12.66050910949707,
          13.705314636230469,
          14.439512252807617,
          10.330167770385742,
          9.751216888427734,
          12.187642097473145,
          12.375770568847656,
          14.839756965637207,
          10.73276424407959,
          8.600003242492676,
          12.197967529296875,
          9.348922729492188,
          9.004496574401855,
          11.636845588684082,
          11.252482414245605,
          13.335972785949707,
          11.868934631347656,
          13.732429504394531,
          12.715215682983398,
          13.347391128540039,
          10.336462020874023,
          11.98896598815918,
          13.79692268371582,
          13.788752555847168,
          10.139250755310059,
          12.906781196594238,
          12.630036354064941,
          9.4221773147583,
          9.722115516662598,
          10.365402221679688,
          8.667562484741211,
          10.20553970336914,
          10.997493743896484,
          12.330548286437988,
          7.012744903564453,
          9.550311088562012,
          9.568904876708984,
          9.18730640411377,
          13.074264526367188,
          14.803352355957031,
          12.024476051330566,
          12.399288177490234,
          12.280364036560059,
          14.351545333862305,
          14.895588874816895,
          15.089252471923828,
          14.940888404846191,
          13.109945297241211,
          12.107827186584473,
          13.34552001953125,
          13.85242748260498,
          13.095752716064453,
          13.545873641967773,
          13.079002380371094,
          13.672143936157227,
          14.96577262878418,
          9.938162803649902,
          13.416373252868652,
          15.337810516357422,
          13.007805824279785,
          12.480536460876465,
          13.242300033569336,
          11.305509567260742,
          9.35366153717041,
          14.165738105773926,
          13.367415428161621,
          10.628832817077637,
          12.088534355163574,
          9.766744613647461,
          13.325361251831055,
          12.588879585266113,
          9.21415901184082,
          9.854050636291504,
          13.508783340454102,
          13.563569068908691,
          12.338537216186523,
          13.538352012634277,
          13.997495651245117,
          12.462475776672363,
          11.939786911010742,
          10.034443855285645,
          10.135788917541504,
          8.422927856445312,
          13.240683555603027,
          11.467205047607422,
          14.549189567565918,
          12.17812442779541,
          11.705160140991211,
          10.820293426513672,
          14.976217269897461,
          14.455103874206543,
          15.143220901489258,
          12.789982795715332,
          11.926528930664062,
          11.91513442993164,
          9.209178924560547,
          7.976963996887207,
          14.944561958312988,
          13.537691116333008,
          13.146414756774902,
          14.74207592010498,
          14.18795394897461,
          14.400920867919922,
          11.65428638458252,
          14.032866477966309,
          13.430110931396484,
          9.419986724853516,
          12.121811866760254,
          13.765957832336426,
          12.781935691833496,
          15.510125160217285,
          13.231965065002441,
          15.188737869262695,
          13.618937492370605,
          12.37547492980957,
          12.494542121887207,
          11.954755783081055,
          12.96474552154541,
          14.821185111999512,
          12.375680923461914,
          14.630457878112793,
          14.314400672912598,
          12.58715534210205,
          7.7282209396362305,
          6.9709858894348145,
          10.65562915802002,
          8.127769470214844,
          8.662745475769043,
          11.859230995178223,
          9.756461143493652,
          12.67164421081543,
          13.648310661315918,
          10.948078155517578,
          11.161792755126953,
          11.856581687927246,
          9.558838844299316,
          8.89079761505127,
          8.646601676940918,
          12.674466133117676,
          9.386174201965332,
          10.554420471191406,
          12.18673038482666,
          13.524553298950195,
          15.246699333190918,
          14.683205604553223,
          13.228242874145508,
          9.499481201171875,
          12.713339805603027,
          13.409402847290039,
          13.602412223815918,
          14.679454803466797,
          11.708252906799316,
          13.116174697875977,
          15.762763977050781,
          8.95955753326416,
          7.171416282653809,
          14.572599411010742,
          10.46348762512207,
          12.33421802520752,
          11.431110382080078,
          9.814990997314453,
          15.445819854736328,
          14.5481595993042,
          8.190617561340332,
          8.770330429077148,
          12.210502624511719,
          11.752230644226074,
          10.13244342803955,
          13.147207260131836,
          14.605445861816406,
          13.379731178283691,
          14.476239204406738,
          15.251211166381836,
          7.869544506072998,
          9.160723686218262,
          14.248888969421387,
          11.82586669921875,
          13.817136764526367,
          13.94345474243164,
          10.501448631286621,
          7.683659076690674,
          11.732207298278809,
          12.296850204467773,
          9.39366340637207,
          11.402237892150879,
          10.713396072387695,
          13.814802169799805,
          10.801454544067383,
          12.86953067779541,
          14.615148544311523,
          15.184950828552246,
          13.555556297302246,
          9.06373119354248,
          11.131077766418457,
          12.270275115966797,
          10.884861946105957,
          9.51095199584961,
          8.024369239807129,
          13.168084144592285,
          8.889734268188477,
          13.173837661743164,
          12.18850326538086,
          9.907753944396973,
          10.276142120361328,
          8.911351203918457,
          14.583897590637207,
          14.643084526062012,
          11.551836967468262,
          10.484363555908203,
          11.762423515319824,
          12.39313793182373,
          11.932703971862793,
          10.315110206604004,
          7.519243240356445,
          11.870081901550293,
          9.945852279663086,
          10.954562187194824,
          12.413430213928223,
          13.109509468078613,
          14.580063819885254,
          8.75334358215332,
          15.444750785827637,
          13.592357635498047,
          10.725979804992676,
          13.591754913330078,
          14.89145278930664,
          14.404690742492676,
          13.069812774658203,
          12.70781421661377,
          8.883587837219238,
          6.931524276733398,
          14.057347297668457,
          8.225400924682617,
          10.899077415466309,
          12.436714172363281,
          12.677971839904785,
          11.005927085876465,
          10.94410228729248,
          10.235675811767578,
          13.052714347839355,
          15.983880996704102,
          12.996514320373535,
          9.782679557800293,
          14.888762474060059,
          13.213943481445312,
          11.1223783493042,
          9.367268562316895,
          9.561671257019043,
          15.909255981445312,
          8.985641479492188,
          14.79206371307373,
          13.336423873901367,
          11.03066635131836,
          10.650215148925781,
          10.357206344604492,
          13.916760444641113,
          14.615556716918945,
          13.700712203979492,
          10.36778736114502,
          12.869293212890625,
          9.217085838317871,
          11.487951278686523,
          12.218035697937012,
          14.886892318725586,
          12.563438415527344,
          9.233078956604004,
          13.408238410949707,
          13.437332153320312,
          13.045665740966797,
          9.605107307434082,
          15.016804695129395,
          13.30634593963623,
          13.310518264770508,
          15.376984596252441,
          13.776886940002441,
          10.034480094909668,
          8.352210998535156,
          11.818490028381348,
          12.120996475219727,
          10.109410285949707,
          8.438095092773438,
          9.704229354858398,
          9.391547203063965,
          8.647933006286621,
          11.283474922180176,
          14.261247634887695,
          10.486483573913574,
          9.192235946655273,
          10.249194145202637,
          10.456218719482422,
          11.056437492370605,
          8.306775093078613,
          8.635398864746094,
          15.300739288330078,
          8.662790298461914,
          10.525226593017578,
          11.519935607910156,
          12.429401397705078,
          13.48502254486084,
          14.349993705749512,
          11.489628791809082,
          14.766855239868164,
          8.930439949035645,
          11.753039360046387,
          14.6611967086792,
          10.899338722229004,
          11.030451774597168,
          10.874602317810059,
          7.8266167640686035,
          6.5271759033203125,
          9.94487190246582,
          13.45053482055664,
          11.880252838134766,
          8.233692169189453,
          15.137819290161133,
          10.125598907470703,
          14.041099548339844,
          13.223833084106445,
          13.397013664245605,
          14.665035247802734,
          13.96303939819336,
          8.622001647949219,
          14.60643482208252,
          9.96294116973877,
          11.0390043258667,
          14.591658592224121,
          10.071176528930664,
          12.833612442016602,
          11.526369094848633,
          10.958868026733398,
          9.193526268005371,
          9.389969825744629,
          15.072562217712402,
          14.371706008911133,
          10.202005386352539,
          9.092120170593262,
          10.572250366210938,
          10.305315017700195,
          9.387402534484863,
          13.300864219665527,
          12.13374137878418,
          14.114911079406738,
          10.408415794372559,
          13.648816108703613,
          8.181294441223145,
          12.890853881835938,
          9.71839427947998,
          10.13244342803955,
          9.481200218200684,
          12.532402038574219,
          10.923409461975098,
          8.511962890625,
          13.78719711303711,
          11.061973571777344,
          8.663084030151367,
          9.789891242980957,
          12.111797332763672,
          13.113386154174805,
          13.753324508666992,
          13.413862228393555,
          12.593538284301758,
          12.472112655639648,
          9.050580978393555,
          15.51794147491455,
          9.797690391540527,
          9.386174201965332,
          10.076488494873047,
          10.388920783996582,
          9.974352836608887,
          13.363365173339844,
          11.938145637512207,
          12.307250022888184,
          13.295294761657715,
          14.855663299560547,
          10.56617259979248,
          11.173556327819824,
          12.389604568481445,
          13.944993019104004,
          8.134405136108398,
          9.317131996154785,
          10.206019401550293,
          14.043611526489258,
          14.096035957336426,
          11.608072280883789,
          9.048301696777344,
          13.298958778381348,
          14.835293769836426,
          13.072613716125488,
          12.241260528564453,
          8.210530281066895,
          15.285018920898438,
          11.362105369567871,
          14.764617919921875,
          12.736876487731934,
          9.044431686401367,
          14.41003131866455,
          9.46491813659668,
          12.485726356506348,
          8.837875366210938,
          11.264837265014648,
          15.231703758239746,
          12.180471420288086,
          15.259441375732422,
          16.154996871948242,
          16.08588409423828,
          10.409132957458496,
          11.50405502319336,
          10.359206199645996,
          12.42822265625,
          12.285002708435059,
          9.21415901184082,
          9.211542129516602,
          14.154570579528809,
          13.572598457336426,
          14.81275749206543,
          12.489190101623535,
          9.386174201965332,
          12.059934616088867,
          9.922072410583496,
          10.515000343322754,
          12.936601638793945,
          9.910317420959473,
          9.28062915802002,
          9.549915313720703,
          9.869412422180176,
          14.800573348999023,
          14.924457550048828,
          8.614227294921875,
          10.268072128295898,
          11.047348976135254,
          10.801538467407227,
          8.804988861083984,
          10.148850440979004,
          8.016176223754883,
          15.35167121887207,
          14.081881523132324,
          10.034345626831055,
          9.182827949523926,
          11.047307014465332,
          9.45505142211914,
          11.097892761230469,
          13.950150489807129,
          12.311936378479004,
          14.830060958862305,
          10.802178382873535,
          14.257770538330078,
          9.613811492919922,
          9.229154586791992,
          13.792289733886719,
          14.109833717346191,
          8.390695571899414,
          9.807074546813965,
          9.920793533325195,
          10.523486137390137,
          11.196417808532715,
          9.624083518981934,
          10.860445022583008,
          12.032186508178711,
          12.649678230285645,
          9.016770362854004,
          13.939724922180176,
          9.386295318603516,
          11.80388355255127,
          14.89476203918457,
          14.943658828735352,
          7.90627384185791,
          8.141417503356934,
          10.993934631347656,
          13.413867950439453,
          13.821301460266113,
          10.12147331237793,
          9.94487190246582,
          10.145796775817871,
          11.58265209197998,
          12.70870304107666,
          13.492907524108887,
          14.500490188598633,
          14.400286674499512,
          10.461372375488281,
          9.226497650146484,
          9.154552459716797,
          10.887323379516602,
          9.772122383117676,
          11.694196701049805,
          10.977008819580078,
          14.169307708740234,
          9.160723686218262,
          10.416397094726562,
          8.895995140075684,
          8.397076606750488,
          10.316229820251465,
          12.113138198852539,
          12.399455070495605,
          11.928933143615723,
          10.929912567138672,
          10.899075508117676,
          9.941222190856934,
          11.47822380065918,
          14.013166427612305,
          11.362266540527344,
          12.797987937927246,
          12.939637184143066,
          13.40302562713623,
          8.985705375671387,
          9.785579681396484,
          10.411397933959961,
          14.868209838867188,
          14.87926197052002,
          14.265727996826172,
          8.895995140075684,
          9.611710548400879,
          13.70607852935791,
          10.418272018432617,
          12.432591438293457,
          10.13244342803955,
          12.732206344604492,
          12.273637771606445,
          11.04898452758789,
          11.53012752532959,
          11.391576766967773,
          13.056325912475586,
          12.700053215026855,
          11.149035453796387,
          11.830708503723145,
          14.406216621398926,
          10.13244342803955,
          9.719578742980957,
          10.56617259979248,
          12.972431182861328,
          11.209646224975586,
          11.256159782409668,
          12.515016555786133,
          15.923759460449219,
          10.043327331542969,
          10.161192893981934,
          10.250566482543945,
          9.372674942016602,
          10.13244342803955,
          12.626856803894043,
          11.373672485351562,
          11.541481971740723,
          9.615452766418457,
          11.163175582885742,
          14.118840217590332,
          10.56617259979248,
          15.198229789733887,
          12.995170593261719,
          9.41738510131836,
          11.005927085876465,
          15.230440139770508,
          12.275132179260254,
          8.149229049682617,
          9.356640815734863,
          9.027904510498047,
          10.420202255249023,
          9.579279899597168,
          10.685267448425293,
          10.72070598602295,
          13.356865882873535,
          9.122735977172852,
          9.386174201965332,
          7.410661697387695,
          14.187378883361816,
          10.522438049316406,
          11.737197875976562,
          14.654370307922363,
          14.654196739196777,
          13.257944107055664,
          12.466425895690918,
          9.676473617553711,
          15.37362003326416,
          14.562356948852539,
          10.657018661499023,
          14.751753807067871,
          10.8649263381958,
          8.981441497802734,
          10.538790702819824,
          8.821600914001465,
          11.50405502319336,
          10.173888206481934,
          12.602063179016113,
          10.41172981262207,
          12.647841453552246,
          8.753814697265625,
          14.369261741638184,
          10.287060737609863,
          8.755701065063477,
          10.564834594726562,
          14.30075454711914,
          9.700674057006836,
          11.173415184020996,
          15.098876953125,
          12.778426170349121,
          9.640405654907227,
          13.466439247131348,
          9.183097839355469,
          9.279853820800781,
          11.58927059173584,
          15.65815544128418,
          15.083959579467773,
          10.72913646697998,
          13.55869197845459,
          10.64658260345459,
          8.961669921875,
          8.753814697265625,
          8.418262481689453,
          13.806374549865723,
          12.27893352508545,
          13.582688331604004,
          8.752049446105957,
          10.957396507263184,
          14.821243286132812,
          12.888617515563965,
          12.505102157592773,
          15.694339752197266,
          11.766623497009277,
          14.343182563781738,
          9.92982006072998,
          10.148850440979004,
          9.386174201965332,
          11.366680145263672,
          14.15713119506836,
          10.445849418640137,
          9.424959182739258,
          10.62229061126709,
          9.43301010131836,
          14.088700294494629,
          8.541031837463379,
          14.802921295166016,
          10.127049446105957,
          12.988208770751953,
          12.03259563446045,
          9.308130264282227,
          8.621758460998535,
          12.856971740722656,
          9.371521949768066,
          10.303866386413574,
          14.646764755249023,
          8.667562484741211,
          13.968121528625488,
          8.125256538391113,
          10.329967498779297,
          10.092151641845703,
          12.302227973937988,
          11.411849021911621,
          10.758907318115234,
          8.997082710266113,
          8.80933666229248,
          10.591119766235352,
          10.339832305908203,
          11.240966796875,
          9.21415901184082,
          12.989665031433105,
          11.251740455627441,
          9.516618728637695,
          8.141417503356934,
          13.311203002929688,
          14.001198768615723,
          14.587919235229492,
          10.884127616882324,
          12.393763542175293,
          8.796539306640625,
          11.675217628479004,
          7.6611738204956055,
          9.462655067443848,
          10.043327331542969,
          15.564030647277832,
          6.890275001525879,
          11.576208114624023,
          15.844730377197266,
          10.007814407348633,
          8.117384910583496,
          12.959406852722168,
          11.960402488708496,
          10.418272018432617,
          13.507115364074707,
          9.881172180175781,
          11.582425117492676,
          15.49254035949707,
          13.342637062072754,
          16.42205238342285,
          8.79324722290039,
          14.272193908691406,
          10.815421104431152,
          13.717992782592773,
          11.402237892150879,
          10.898954391479492,
          10.379433631896973,
          9.408265113830566,
          7.410661697387695,
          14.945237159729004,
          9.94487190246582,
          12.063112258911133,
          10.22087287902832,
          9.457959175109863,
          10.13244342803955,
          10.768531799316406,
          10.768531799316406,
          8.994292259216309,
          11.080223083496094,
          8.959044456481934,
          9.386174201965332,
          12.101163864135742,
          13.597599029541016,
          7.410661697387695,
          9.371521949768066,
          9.21415901184082,
          14.048999786376953,
          14.894420623779297,
          10.54846477508545,
          9.869412422180176,
          11.612629890441895,
          13.689620971679688,
          9.320857048034668,
          11.217327117919922,
          10.505753517150879,
          14.391807556152344,
          10.02204418182373,
          13.692028999328613,
          9.082172393798828,
          13.49767017364502,
          12.243796348571777,
          11.291397094726562,
          11.458407402038574,
          11.718420028686523,
          9.081427574157715,
          9.60559368133545,
          9.98101806640625,
          15.485515594482422,
          14.201909065246582,
          11.885083198547363,
          10.41172981262207,
          10.525561332702637,
          10.221711158752441,
          13.553812026977539,
          11.537226676940918,
          13.854694366455078,
          10.161192893981934,
          9.21415901184082,
          11.965213775634766,
          10.418272018432617,
          10.873661994934082,
          7.410661697387695,
          13.349784851074219,
          11.102858543395996,
          11.746247291564941,
          10.076488494873047,
          13.348445892333984,
          9.21415901184082,
          11.64940071105957,
          10.437929153442383,
          8.900354385375977,
          13.655924797058105,
          11.342424392700195,
          12.917659759521484,
          10.483338356018066,
          9.852482795715332,
          10.535926818847656,
          11.265352249145508,
          8.464456558227539,
          8.464456558227539,
          8.394183158874512,
          9.386174201965332,
          11.237540245056152,
          10.13244342803955,
          13.764290809631348,
          10.232767105102539,
          11.319317817687988,
          9.023681640625,
          10.8649263381958,
          13.834357261657715,
          7.6611738204956055,
          13.199028968811035,
          9.01897144317627,
          10.211065292358398,
          9.071282386779785,
          11.710328102111816,
          10.595414161682129,
          9.424283027648926,
          10.96866512298584,
          12.713430404663086,
          11.048128128051758,
          9.999931335449219,
          7.295749187469482,
          10.832829475402832,
          7.63051176071167,
          10.02018928527832,
          9.044431686401367,
          10.769887924194336,
          10.833257675170898,
          9.486801147460938,
          6.268270492553711,
          6.850379467010498,
          8.892844200134277,
          11.697394371032715,
          9.21415901184082,
          12.439022064208984,
          7.829155921936035,
          11.013256072998047,
          11.235325813293457,
          10.148850440979004,
          12.269886016845703,
          7.410661697387695,
          8.60651683807373,
          11.051841735839844,
          9.270112037658691,
          9.872476577758789,
          12.706415176391602,
          10.161192893981934,
          11.080223083496094,
          14.961895942687988,
          7.410661697387695,
          8.806037902832031,
          13.260092735290527,
          10.953895568847656,
          10.569302558898926,
          9.386174201965332,
          8.32923698425293,
          10.287060737609863,
          8.978278160095215,
          9.386174201965332,
          11.611745834350586,
          8.567534446716309,
          8.149229049682617,
          8.857561111450195,
          10.594724655151367,
          12.058900833129883,
          11.960402488708496,
          11.287285804748535,
          8.61220932006836,
          11.778139114379883,
          13.486539840698242,
          10.963698387145996,
          11.296040534973145,
          7.410661697387695,
          9.029256820678711,
          10.665192604064941,
          10.02018928527832,
          9.160723686218262,
          10.340476036071777,
          10.483732223510742,
          9.380757331848145,
          8.900354385375977,
          9.401507377624512,
          10.759024620056152,
          9.742520332336426,
          8.534920692443848,
          11.792981147766113,
          8.764246940612793,
          11.385546684265137,
          8.741250038146973,
          11.42597770690918,
          9.970948219299316,
          9.867219924926758,
          8.450489044189453,
          10.148850440979004,
          15.163509368896484,
          9.900691032409668,
          10.790070533752441,
          10.69345474243164,
          8.752049446105957,
          8.438095092773438,
          9.869412422180176,
          12.290103912353516,
          10.45147705078125,
          11.045233726501465,
          9.193526268005371,
          9.94487190246582,
          14.187742233276367,
          10.645661354064941,
          9.676187515258789,
          12.439022064208984,
          8.467153549194336,
          8.771598815917969,
          8.668148040771484,
          8.464456558227539,
          8.79324722290039,
          8.141417503356934,
          10.815454483032227,
          9.021777153015137,
          8.657442092895508,
          11.411849021911621,
          13.860551834106445,
          11.602377891540527,
          12.295869827270508,
          14.915631294250488,
          10.500761032104492,
          10.177809715270996,
          9.386174201965332,
          8.62882137298584,
          10.41172981262207,
          11.310218811035156,
          9.869412422180176,
          9.504392623901367,
          14.406644821166992,
          12.40598201751709,
          10.41172981262207,
          8.076507568359375,
          11.09239387512207,
          11.106253623962402,
          13.823314666748047,
          7.926836013793945,
          10.41172981262207,
          13.752742767333984,
          9.779009819030762,
          8.394183158874512,
          9.160723686218262,
          11.032755851745605,
          12.30223274230957,
          9.869412422180176,
          9.21415901184082,
          10.795742988586426,
          9.21415901184082,
          10.093045234680176,
          6.268270492553711,
          11.874374389648438,
          8.916613578796387,
          9.504392623901367,
          8.464456558227539,
          11.411849021911621,
          9.869412422180176,
          10.423545837402344,
          8.459794044494629,
          11.269001960754395,
          9.21415901184082,
          11.960402488708496,
          12.266790390014648,
          11.737431526184082,
          10.241340637207031,
          10.287060737609863,
          12.524847984313965,
          8.141417503356934,
          11.650136947631836,
          10.423848152160645,
          10.541593551635742,
          9.21415901184082,
          8.756711959838867,
          10.423545837402344,
          9.160723686218262,
          9.603949546813965,
          10.678876876831055,
          10.279321670532227,
          9.386174201965332,
          7.410661697387695,
          10.437929153442383,
          8.889565467834473,
          12.039234161376953,
          9.030760765075684,
          11.092744827270508,
          7.410661697387695,
          9.640905380249023,
          8.483355522155762,
          9.628764152526855,
          7.028974533081055,
          10.99813461303711,
          8.459794044494629,
          13.272254943847656,
          9.386174201965332,
          11.514995574951172,
          10.41172981262207,
          11.102858543395996,
          8.141417503356934,
          10.021808624267578,
          7.410661697387695,
          11.305014610290527,
          10.8237943649292,
          12.058900833129883,
          10.41172981262207,
          12.439022064208984,
          11.147868156433105,
          11.22336483001709,
          10.645661354064941,
          11.397797584533691,
          9.869412422180176,
          10.41172981262207,
          10.41172981262207,
          9.21415901184082,
          10.683241844177246,
          9.292733192443848,
          12.439022064208984,
          11.22336483001709,
          9.603949546813965,
          12.058900833129883,
          10.984794616699219,
          7.410661697387695,
          10.287060737609863,
          8.388903617858887,
          9.21415901184082,
          12.30223274230957,
          9.160723686218262,
          12.295869827270508,
          7.410661697387695,
          8.125256538391113,
          9.94165325164795,
          8.483038902282715,
          9.916670799255371,
          12.362984657287598,
          9.21415901184082,
          9.869412422180176,
          7.410661697387695,
          9.881172180175781,
          8.938041687011719,
          10.935188293457031,
          10.41172981262207,
          10.41172981262207
         ]
        }
       ],
       "layout": {
        "font": {
         "size": 20
        },
        "paper_bgcolor": "white",
        "plot_bgcolor": "white",
        "template": {
         "data": {
          "bar": [
           {
            "error_x": {
             "color": "#2a3f5f"
            },
            "error_y": {
             "color": "#2a3f5f"
            },
            "marker": {
             "line": {
              "color": "#E5ECF6",
              "width": 0.5
             },
             "pattern": {
              "fillmode": "overlay",
              "size": 10,
              "solidity": 0.2
             }
            },
            "type": "bar"
           }
          ],
          "barpolar": [
           {
            "marker": {
             "line": {
              "color": "#E5ECF6",
              "width": 0.5
             },
             "pattern": {
              "fillmode": "overlay",
              "size": 10,
              "solidity": 0.2
             }
            },
            "type": "barpolar"
           }
          ],
          "carpet": [
           {
            "aaxis": {
             "endlinecolor": "#2a3f5f",
             "gridcolor": "white",
             "linecolor": "white",
             "minorgridcolor": "white",
             "startlinecolor": "#2a3f5f"
            },
            "baxis": {
             "endlinecolor": "#2a3f5f",
             "gridcolor": "white",
             "linecolor": "white",
             "minorgridcolor": "white",
             "startlinecolor": "#2a3f5f"
            },
            "type": "carpet"
           }
          ],
          "choropleth": [
           {
            "colorbar": {
             "outlinewidth": 0,
             "ticks": ""
            },
            "type": "choropleth"
           }
          ],
          "contour": [
           {
            "colorbar": {
             "outlinewidth": 0,
             "ticks": ""
            },
            "colorscale": [
             [
              0,
              "#0d0887"
             ],
             [
              0.1111111111111111,
              "#46039f"
             ],
             [
              0.2222222222222222,
              "#7201a8"
             ],
             [
              0.3333333333333333,
              "#9c179e"
             ],
             [
              0.4444444444444444,
              "#bd3786"
             ],
             [
              0.5555555555555556,
              "#d8576b"
             ],
             [
              0.6666666666666666,
              "#ed7953"
             ],
             [
              0.7777777777777778,
              "#fb9f3a"
             ],
             [
              0.8888888888888888,
              "#fdca26"
             ],
             [
              1,
              "#f0f921"
             ]
            ],
            "type": "contour"
           }
          ],
          "contourcarpet": [
           {
            "colorbar": {
             "outlinewidth": 0,
             "ticks": ""
            },
            "type": "contourcarpet"
           }
          ],
          "heatmap": [
           {
            "colorbar": {
             "outlinewidth": 0,
             "ticks": ""
            },
            "colorscale": [
             [
              0,
              "#0d0887"
             ],
             [
              0.1111111111111111,
              "#46039f"
             ],
             [
              0.2222222222222222,
              "#7201a8"
             ],
             [
              0.3333333333333333,
              "#9c179e"
             ],
             [
              0.4444444444444444,
              "#bd3786"
             ],
             [
              0.5555555555555556,
              "#d8576b"
             ],
             [
              0.6666666666666666,
              "#ed7953"
             ],
             [
              0.7777777777777778,
              "#fb9f3a"
             ],
             [
              0.8888888888888888,
              "#fdca26"
             ],
             [
              1,
              "#f0f921"
             ]
            ],
            "type": "heatmap"
           }
          ],
          "heatmapgl": [
           {
            "colorbar": {
             "outlinewidth": 0,
             "ticks": ""
            },
            "colorscale": [
             [
              0,
              "#0d0887"
             ],
             [
              0.1111111111111111,
              "#46039f"
             ],
             [
              0.2222222222222222,
              "#7201a8"
             ],
             [
              0.3333333333333333,
              "#9c179e"
             ],
             [
              0.4444444444444444,
              "#bd3786"
             ],
             [
              0.5555555555555556,
              "#d8576b"
             ],
             [
              0.6666666666666666,
              "#ed7953"
             ],
             [
              0.7777777777777778,
              "#fb9f3a"
             ],
             [
              0.8888888888888888,
              "#fdca26"
             ],
             [
              1,
              "#f0f921"
             ]
            ],
            "type": "heatmapgl"
           }
          ],
          "histogram": [
           {
            "marker": {
             "pattern": {
              "fillmode": "overlay",
              "size": 10,
              "solidity": 0.2
             }
            },
            "type": "histogram"
           }
          ],
          "histogram2d": [
           {
            "colorbar": {
             "outlinewidth": 0,
             "ticks": ""
            },
            "colorscale": [
             [
              0,
              "#0d0887"
             ],
             [
              0.1111111111111111,
              "#46039f"
             ],
             [
              0.2222222222222222,
              "#7201a8"
             ],
             [
              0.3333333333333333,
              "#9c179e"
             ],
             [
              0.4444444444444444,
              "#bd3786"
             ],
             [
              0.5555555555555556,
              "#d8576b"
             ],
             [
              0.6666666666666666,
              "#ed7953"
             ],
             [
              0.7777777777777778,
              "#fb9f3a"
             ],
             [
              0.8888888888888888,
              "#fdca26"
             ],
             [
              1,
              "#f0f921"
             ]
            ],
            "type": "histogram2d"
           }
          ],
          "histogram2dcontour": [
           {
            "colorbar": {
             "outlinewidth": 0,
             "ticks": ""
            },
            "colorscale": [
             [
              0,
              "#0d0887"
             ],
             [
              0.1111111111111111,
              "#46039f"
             ],
             [
              0.2222222222222222,
              "#7201a8"
             ],
             [
              0.3333333333333333,
              "#9c179e"
             ],
             [
              0.4444444444444444,
              "#bd3786"
             ],
             [
              0.5555555555555556,
              "#d8576b"
             ],
             [
              0.6666666666666666,
              "#ed7953"
             ],
             [
              0.7777777777777778,
              "#fb9f3a"
             ],
             [
              0.8888888888888888,
              "#fdca26"
             ],
             [
              1,
              "#f0f921"
             ]
            ],
            "type": "histogram2dcontour"
           }
          ],
          "mesh3d": [
           {
            "colorbar": {
             "outlinewidth": 0,
             "ticks": ""
            },
            "type": "mesh3d"
           }
          ],
          "parcoords": [
           {
            "line": {
             "colorbar": {
              "outlinewidth": 0,
              "ticks": ""
             }
            },
            "type": "parcoords"
           }
          ],
          "pie": [
           {
            "automargin": true,
            "type": "pie"
           }
          ],
          "scatter": [
           {
            "fillpattern": {
             "fillmode": "overlay",
             "size": 10,
             "solidity": 0.2
            },
            "type": "scatter"
           }
          ],
          "scatter3d": [
           {
            "line": {
             "colorbar": {
              "outlinewidth": 0,
              "ticks": ""
             }
            },
            "marker": {
             "colorbar": {
              "outlinewidth": 0,
              "ticks": ""
             }
            },
            "type": "scatter3d"
           }
          ],
          "scattercarpet": [
           {
            "marker": {
             "colorbar": {
              "outlinewidth": 0,
              "ticks": ""
             }
            },
            "type": "scattercarpet"
           }
          ],
          "scattergeo": [
           {
            "marker": {
             "colorbar": {
              "outlinewidth": 0,
              "ticks": ""
             }
            },
            "type": "scattergeo"
           }
          ],
          "scattergl": [
           {
            "marker": {
             "colorbar": {
              "outlinewidth": 0,
              "ticks": ""
             }
            },
            "type": "scattergl"
           }
          ],
          "scattermapbox": [
           {
            "marker": {
             "colorbar": {
              "outlinewidth": 0,
              "ticks": ""
             }
            },
            "type": "scattermapbox"
           }
          ],
          "scatterpolar": [
           {
            "marker": {
             "colorbar": {
              "outlinewidth": 0,
              "ticks": ""
             }
            },
            "type": "scatterpolar"
           }
          ],
          "scatterpolargl": [
           {
            "marker": {
             "colorbar": {
              "outlinewidth": 0,
              "ticks": ""
             }
            },
            "type": "scatterpolargl"
           }
          ],
          "scatterternary": [
           {
            "marker": {
             "colorbar": {
              "outlinewidth": 0,
              "ticks": ""
             }
            },
            "type": "scatterternary"
           }
          ],
          "surface": [
           {
            "colorbar": {
             "outlinewidth": 0,
             "ticks": ""
            },
            "colorscale": [
             [
              0,
              "#0d0887"
             ],
             [
              0.1111111111111111,
              "#46039f"
             ],
             [
              0.2222222222222222,
              "#7201a8"
             ],
             [
              0.3333333333333333,
              "#9c179e"
             ],
             [
              0.4444444444444444,
              "#bd3786"
             ],
             [
              0.5555555555555556,
              "#d8576b"
             ],
             [
              0.6666666666666666,
              "#ed7953"
             ],
             [
              0.7777777777777778,
              "#fb9f3a"
             ],
             [
              0.8888888888888888,
              "#fdca26"
             ],
             [
              1,
              "#f0f921"
             ]
            ],
            "type": "surface"
           }
          ],
          "table": [
           {
            "cells": {
             "fill": {
              "color": "#EBF0F8"
             },
             "line": {
              "color": "white"
             }
            },
            "header": {
             "fill": {
              "color": "#C8D4E3"
             },
             "line": {
              "color": "white"
             }
            },
            "type": "table"
           }
          ]
         },
         "layout": {
          "annotationdefaults": {
           "arrowcolor": "#2a3f5f",
           "arrowhead": 0,
           "arrowwidth": 1
          },
          "autotypenumbers": "strict",
          "coloraxis": {
           "colorbar": {
            "outlinewidth": 0,
            "ticks": ""
           }
          },
          "colorscale": {
           "diverging": [
            [
             0,
             "#8e0152"
            ],
            [
             0.1,
             "#c51b7d"
            ],
            [
             0.2,
             "#de77ae"
            ],
            [
             0.3,
             "#f1b6da"
            ],
            [
             0.4,
             "#fde0ef"
            ],
            [
             0.5,
             "#f7f7f7"
            ],
            [
             0.6,
             "#e6f5d0"
            ],
            [
             0.7,
             "#b8e186"
            ],
            [
             0.8,
             "#7fbc41"
            ],
            [
             0.9,
             "#4d9221"
            ],
            [
             1,
             "#276419"
            ]
           ],
           "sequential": [
            [
             0,
             "#0d0887"
            ],
            [
             0.1111111111111111,
             "#46039f"
            ],
            [
             0.2222222222222222,
             "#7201a8"
            ],
            [
             0.3333333333333333,
             "#9c179e"
            ],
            [
             0.4444444444444444,
             "#bd3786"
            ],
            [
             0.5555555555555556,
             "#d8576b"
            ],
            [
             0.6666666666666666,
             "#ed7953"
            ],
            [
             0.7777777777777778,
             "#fb9f3a"
            ],
            [
             0.8888888888888888,
             "#fdca26"
            ],
            [
             1,
             "#f0f921"
            ]
           ],
           "sequentialminus": [
            [
             0,
             "#0d0887"
            ],
            [
             0.1111111111111111,
             "#46039f"
            ],
            [
             0.2222222222222222,
             "#7201a8"
            ],
            [
             0.3333333333333333,
             "#9c179e"
            ],
            [
             0.4444444444444444,
             "#bd3786"
            ],
            [
             0.5555555555555556,
             "#d8576b"
            ],
            [
             0.6666666666666666,
             "#ed7953"
            ],
            [
             0.7777777777777778,
             "#fb9f3a"
            ],
            [
             0.8888888888888888,
             "#fdca26"
            ],
            [
             1,
             "#f0f921"
            ]
           ]
          },
          "colorway": [
           "#636efa",
           "#EF553B",
           "#00cc96",
           "#ab63fa",
           "#FFA15A",
           "#19d3f3",
           "#FF6692",
           "#B6E880",
           "#FF97FF",
           "#FECB52"
          ],
          "font": {
           "color": "#2a3f5f"
          },
          "geo": {
           "bgcolor": "white",
           "lakecolor": "white",
           "landcolor": "#E5ECF6",
           "showlakes": true,
           "showland": true,
           "subunitcolor": "white"
          },
          "hoverlabel": {
           "align": "left"
          },
          "hovermode": "closest",
          "mapbox": {
           "style": "light"
          },
          "paper_bgcolor": "white",
          "plot_bgcolor": "#E5ECF6",
          "polar": {
           "angularaxis": {
            "gridcolor": "white",
            "linecolor": "white",
            "ticks": ""
           },
           "bgcolor": "#E5ECF6",
           "radialaxis": {
            "gridcolor": "white",
            "linecolor": "white",
            "ticks": ""
           }
          },
          "scene": {
           "xaxis": {
            "backgroundcolor": "#E5ECF6",
            "gridcolor": "white",
            "gridwidth": 2,
            "linecolor": "white",
            "showbackground": true,
            "ticks": "",
            "zerolinecolor": "white"
           },
           "yaxis": {
            "backgroundcolor": "#E5ECF6",
            "gridcolor": "white",
            "gridwidth": 2,
            "linecolor": "white",
            "showbackground": true,
            "ticks": "",
            "zerolinecolor": "white"
           },
           "zaxis": {
            "backgroundcolor": "#E5ECF6",
            "gridcolor": "white",
            "gridwidth": 2,
            "linecolor": "white",
            "showbackground": true,
            "ticks": "",
            "zerolinecolor": "white"
           }
          },
          "shapedefaults": {
           "line": {
            "color": "#2a3f5f"
           }
          },
          "ternary": {
           "aaxis": {
            "gridcolor": "white",
            "linecolor": "white",
            "ticks": ""
           },
           "baxis": {
            "gridcolor": "white",
            "linecolor": "white",
            "ticks": ""
           },
           "bgcolor": "#E5ECF6",
           "caxis": {
            "gridcolor": "white",
            "linecolor": "white",
            "ticks": ""
           }
          },
          "title": {
           "x": 0.05
          },
          "xaxis": {
           "automargin": true,
           "gridcolor": "white",
           "linecolor": "white",
           "ticks": "",
           "title": {
            "standoff": 15
           },
           "zerolinecolor": "white",
           "zerolinewidth": 2
          },
          "yaxis": {
           "automargin": true,
           "gridcolor": "white",
           "linecolor": "white",
           "ticks": "",
           "title": {
            "standoff": 15
           },
           "zerolinecolor": "white",
           "zerolinewidth": 2
          }
         }
        },
        "title": {
         "text": "Distribution of Nuclear Norm of Node Explain Matrix"
        },
        "xaxis": {
         "title": {
          "text": "Nuclear Norm"
         }
        },
        "yaxis": {
         "title": {
          "text": "Frequency"
         }
        }
       }
      },
      "text/html": [
       "<div>                            <div id=\"2815987e-0ffe-4388-95d4-b3bc5afd7343\" class=\"plotly-graph-div\" style=\"height:525px; width:100%;\"></div>            <script type=\"text/javascript\">                require([\"plotly\"], function(Plotly) {                    window.PLOTLYENV=window.PLOTLYENV || {};                                    if (document.getElementById(\"2815987e-0ffe-4388-95d4-b3bc5afd7343\")) {                    Plotly.newPlot(                        \"2815987e-0ffe-4388-95d4-b3bc5afd7343\",                        [{\"name\":\"GMI\",\"x\":[10.708531379699707,15.858330726623535,14.455771446228027,13.028984069824219,10.817439079284668,12.350882530212402,10.022968292236328,8.702115058898926,14.721081733703613,8.794885635375977,14.549641609191895,14.638016700744629,10.91280746459961,12.970309257507324,13.066551208496094,11.608987808227539,12.73970890045166,8.01943588256836,14.246432304382324,12.809699058532715,13.405403137207031,11.651060104370117,10.306585311889648,12.43517780303955,8.69589900970459,14.572823524475098,7.9920525550842285,11.642757415771484,8.537985801696777,8.384374618530273,8.214186668395996,11.883618354797363,13.550830841064453,13.650351524353027,15.12633991241455,14.143260955810547,12.828064918518066,12.163239479064941,12.699907302856445,11.399457931518555,11.495677947998047,13.207895278930664,13.040254592895508,10.933445930480957,9.38961410522461,11.442132949829102,8.781974792480469,14.748417854309082,12.422465324401855,9.915326118469238,10.162151336669922,12.562284469604492,10.336532592773438,13.402100563049316,8.626079559326172,13.283851623535156,14.401861190795898,12.817000389099121,10.102057456970215,11.44170093536377,11.966385841369629,14.042258262634277,10.536761283874512,11.353382110595703,12.667593955993652,10.64383602142334,12.058237075805664,11.790387153625488,12.997864723205566,9.775473594665527,12.146926879882812,12.249933242797852,14.357794761657715,13.186767578125,12.447274208068848,13.47286319732666,10.65736198425293,6.596792697906494,12.655065536499023,12.587746620178223,15.883498191833496,13.886137008666992,13.438260078430176,9.439848899841309,12.27800178527832,14.81418514251709,11.69438362121582,11.485286712646484,13.016406059265137,13.480818748474121,12.172900199890137,10.404664993286133,9.740492820739746,10.5950927734375,10.054961204528809,11.729479789733887,13.192676544189453,8.421772956848145,9.370848655700684,14.627385139465332,9.732499122619629,9.761922836303711,13.74088191986084,8.231298446655273,7.7520270347595215,10.407167434692383,12.886270523071289,14.993851661682129,12.482597351074219,13.881806373596191,12.781386375427246,11.813776016235352,14.034660339355469,12.5599365234375,13.151366233825684,10.414400100708008,9.744010925292969,11.627663612365723,11.010049819946289,11.988959312438965,11.467562675476074,9.237367630004883,12.21429443359375,12.407547950744629,11.139799118041992,9.362738609313965,9.162493705749512,13.14472484588623,13.498355865478516,10.917593955993652,12.359405517578125,12.191676139831543,12.739846229553223,11.536048889160156,12.771016120910645,12.710368156433105,10.989950180053711,10.828775405883789,10.322029113769531,13.232734680175781,15.393082618713379,12.458625793457031,12.44876480102539,10.75496768951416,12.249056816101074,14.048787117004395,14.01531982421875,14.014076232910156,11.646997451782227,14.076566696166992,11.998350143432617,12.717206954956055,11.079710006713867,12.315669059753418,10.80202865600586,11.920027732849121,12.37049674987793,5.067526340484619,10.673029899597168,12.539449691772461,7.781444549560547,11.19882869720459,13.30264949798584,9.619832038879395,9.1597261428833,12.234127044677734,11.278738021850586,11.61163330078125,8.600849151611328,7.468287944793701,15.364474296569824,13.520535469055176,12.003681182861328,12.61992359161377,12.764542579650879,11.665452003479004,13.498263359069824,12.691180229187012,14.384772300720215,9.587542533874512,8.812148094177246,12.405991554260254,13.546424865722656,14.080443382263184,10.084381103515625,9.648221015930176,11.988038063049316,12.12120246887207,14.812251091003418,10.056586265563965,8.123940467834473,12.053077697753906,9.0366849899292,8.680604934692383,11.541585922241211,10.667657852172852,12.979578971862793,11.624998092651367,13.636955261230469,12.470413208007812,13.24927806854248,10.189467430114746,11.81224536895752,13.596771240234375,13.473495483398438,10.011775970458984,12.661402702331543,12.609894752502441,8.83541202545166,9.169243812561035,10.132145881652832,8.291769981384277,9.603287696838379,11.202370643615723,12.134047508239746,6.596956253051758,9.01917552947998,9.04705810546875,8.469273567199707,12.777411460876465,14.445302963256836,11.835515975952148,12.130882263183594,12.10928726196289,14.269579887390137,14.65416145324707,14.94267749786377,14.629183769226074,12.842763900756836,11.765820503234863,13.0967378616333,13.557872772216797,12.755858421325684,13.410882949829102,12.78375244140625,13.419787406921387,15.004121780395508,9.573897361755371,13.197802543640137,15.129150390625,12.978046417236328,12.613777160644531,13.146706581115723,11.097131729125977,8.689711570739746,13.961827278137207,13.013875961303711,10.706305503845215,11.878508567810059,9.463129997253418,13.076556205749512,12.263764381408691,8.672380447387695,9.203755378723145,13.64900016784668,13.232552528381348,12.220627784729004,13.368995666503906,13.677947044372559,12.238015174865723,11.665180206298828,9.606756210327148,9.691340446472168,7.850849151611328,12.949783325195312,11.21385669708252,14.314644813537598,11.930715560913086,11.415881156921387,10.983409881591797,14.919936180114746,14.25182819366455,14.927803993225098,12.502517700195312,11.863848686218262,11.848115921020508,8.80370044708252,7.440615653991699,14.626785278320312,13.277565002441406,12.978297233581543,14.481822967529297,13.79357624053955,14.249550819396973,11.399168014526367,13.691387176513672,13.100092887878418,8.995594024658203,11.931251525878906,13.567794799804688,12.480417251586914,15.248762130737305,13.214961051940918,15.028695106506348,13.261460304260254,12.116053581237793,12.232904434204102,11.658196449279785,12.913451194763184,14.485033988952637,12.145983695983887,14.456527709960938,14.077323913574219,12.410114288330078,7.435306072235107,7.780494689941406,10.94970417022705,7.617373466491699,8.28589153289795,11.561260223388672,9.604071617126465,12.407812118530273,13.648988723754883,10.760469436645508,11.085992813110352,11.629597663879395,9.368941307067871,8.649532318115234,8.051583290100098,12.403336524963379,9.318489074707031,9.8224458694458,12.166736602783203,13.177287101745605,14.986225128173828,14.299769401550293,12.950188636779785,9.210871696472168,12.618271827697754,13.299478530883789,13.337213516235352,14.660419464111328,11.507494926452637,13.09546947479248,15.421765327453613,8.43364429473877,6.554965496063232,14.538299560546875,10.297894477844238,12.008487701416016,11.292791366577148,9.153119087219238,15.407817840576172,14.462922096252441,8.01082706451416,8.489739418029785,12.108017921447754,11.400721549987793,9.881857872009277,13.09630012512207,14.530826568603516,13.266595840454102,14.349004745483398,14.914942741394043,7.965655326843262,8.818116188049316,14.06044864654541,11.736536026000977,13.694518089294434,13.656964302062988,9.873212814331055,7.167619705200195,11.429102897644043,12.529793739318848,8.904230117797852,11.488967895507812,10.752130508422852,13.711139678955078,10.194807052612305,12.622153282165527,14.48607349395752,15.107522964477539,13.658177375793457,8.786972999572754,10.502952575683594,12.176466941833496,10.550614356994629,9.046724319458008,7.05604362487793,13.089171409606934,8.89621639251709,12.95018196105957,12.127013206481934,9.704976081848145,9.808273315429688,8.58466911315918,14.487849235534668,14.719801902770996,11.299264907836914,10.57957935333252,11.793586730957031,12.129356384277344,11.66959285736084,9.900022506713867,6.886505603790283,11.838269233703613,9.602828025817871,10.621966361999512,12.133902549743652,13.02538776397705,14.458056449890137,8.486133575439453,15.18384075164795,13.457114219665527,10.636948585510254,13.466537475585938,14.637495040893555,14.029809951782227,12.768038749694824,12.434195518493652,8.788864135742188,6.458897590637207,13.797392845153809,7.736664772033691,10.832709312438965,12.345945358276367,12.452710151672363,11.178565979003906,10.33646297454834,9.596832275390625,12.850996017456055,15.827081680297852,12.854304313659668,9.324528694152832,14.835862159729004,13.035013198852539,11.119895935058594,9.184786796569824,9.265387535095215,15.74710750579834,8.686003684997559,14.729865074157715,13.334922790527344,10.806229591369629,10.202844619750977,10.148014068603516,13.763053894042969,14.455757141113281,13.856141090393066,9.911474227905273,12.735689163208008,8.710211753845215,10.79619312286377,11.959112167358398,14.663187980651855,12.439947128295898,8.910969734191895,13.149230003356934,13.238628387451172,13.039568901062012,9.418376922607422,14.769092559814453,13.27057933807373,13.047945022583008,15.338549613952637,13.413798332214355,9.615175247192383,7.997280597686768,11.462647438049316,11.99974250793457,9.781230926513672,8.342424392700195,9.272239685058594,9.101628303527832,8.767919540405273,11.263381004333496,14.229022979736328,10.503316879272461,8.856547355651855,9.877016067504883,10.406412124633789,10.871810913085938,7.777589321136475,8.452032089233398,15.021885871887207,8.707737922668457,9.892257690429688,11.12977123260498,12.310604095458984,13.429617881774902,14.151598930358887,11.403616905212402,14.515044212341309,8.565193176269531,11.513240814208984,14.623611450195312,10.583431243896484,10.755552291870117,10.836677551269531,6.950077533721924,5.732271671295166,9.576593399047852,13.382573127746582,11.8707857131958,7.518110275268555,14.83505916595459,9.756266593933105,13.789551734924316,13.196173667907715,13.07536506652832,14.413046836853027,13.37060832977295,8.128534317016602,14.534296035766602,10.235381126403809,11.25511360168457,14.478554725646973,9.264939308166504,13.118888854980469,11.539337158203125,10.972183227539062,8.830754280090332,9.570503234863281,14.96132755279541,14.151997566223145,9.63666820526123,8.834749221801758,10.558181762695312,9.953937530517578,9.120923042297363,13.474858283996582,11.845902442932129,13.941892623901367,10.522796630859375,13.391419410705566,7.995269298553467,12.543274879455566,9.327279090881348,9.881857872009277,9.035301208496094,12.503344535827637,11.042706489562988,8.215249061584473,13.481064796447754,10.938004493713379,8.709349632263184,9.484610557556152,12.120996475219727,13.139544486999512,13.666167259216309,13.277054786682129,12.608482360839844,12.441109657287598,8.732250213623047,15.460501670837402,9.466413497924805,9.318489074707031,9.64854907989502,10.067119598388672,9.7449951171875,13.295244216918945,12.039891242980957,12.195699691772461,13.156716346740723,14.638097763061523,10.677923202514648,10.948014259338379,12.10921573638916,13.882954597473145,7.938735008239746,8.856698989868164,9.872580528259277,13.80297565460205,14.073325157165527,11.520759582519531,8.503002166748047,13.475228309631348,14.773700714111328,13.036633491516113,12.232275009155273,7.882008075714111,15.1021089553833,11.276410102844238,14.696824073791504,12.678348541259766,8.665257453918457,14.345824241638184,9.235962867736816,12.3433198928833,8.463791847229004,10.812215805053711,15.03425121307373,12.2949800491333,14.944668769836426,16.111427307128906,15.992963790893555,10.06428337097168,11.440545082092285,10.00712776184082,12.750323295593262,12.13032054901123,8.672380447387695,8.649079322814941,14.030241012573242,13.6069974899292,14.885722160339355,12.49709415435791,9.318489074707031,11.906282424926758,9.598079681396484,10.291613578796387,12.762032508850098,9.64039134979248,9.186253547668457,9.148469924926758,9.710603713989258,14.754118919372559,14.784891128540039,8.231285095214844,9.872355461120605,11.017537117004395,10.479844093322754,8.650553703308105,9.835258483886719,7.7520341873168945,15.222166061401367,14.065991401672363,9.841523170471191,8.800101280212402,11.131863594055176,8.905997276306152,10.826813697814941,13.930169105529785,12.162879943847656,14.805118560791016,11.0738525390625,14.111181259155273,9.354280471801758,9.003913879394531,13.771782875061035,14.054617881774902,8.17911434173584,9.433655738830566,9.450031280517578,10.049761772155762,11.015432357788086,9.19555950164795,10.24866771697998,12.162053108215332,12.598459243774414,8.90980339050293,14.190454483032227,9.430246353149414,11.618346214294434,14.785910606384277,14.79234504699707,7.433559894561768,7.469676971435547,11.251002311706543,13.382955551147461,13.718201637268066,10.094256401062012,9.576593399047852,10.072896003723145,11.479004859924316,12.551987648010254,13.47537612915039,14.210050582885742,14.226459503173828,10.127941131591797,8.969852447509766,8.801841735839844,10.988566398620605,9.55701732635498,11.44880485534668,10.661587715148926,13.982739448547363,8.818116188049316,10.44064998626709,9.037436485290527,8.160439491271973,10.5348539352417,11.769087791442871,11.912354469299316,11.817198753356934,10.93856143951416,10.870552062988281,9.549016952514648,11.3335542678833,13.845221519470215,11.13701343536377,12.91513729095459,13.0084228515625,13.330655097961426,9.118268966674805,9.380949974060059,10.334187507629395,14.769438743591309,14.68734073638916,14.195257186889648,9.037436485290527,9.476526260375977,13.703700065612793,10.092133522033691,12.270830154418945,9.881857872009277,12.579355239868164,12.42541217803955,11.19083023071289,10.991037368774414,11.412256240844727,13.020421028137207,12.660954475402832,11.214193344116211,11.722238540649414,14.428031921386719,9.881857872009277,9.388103485107422,10.677923202514648,13.236248970031738,10.689314842224121,11.259736061096191,12.39903736114502,15.809819221496582,10.322029113769531,10.445342063903809,9.84118366241455,8.710993766784668,9.881857872009277,12.319439888000488,11.171955108642578,11.370016098022461,9.107669830322266,11.076979637145996,13.880119323730469,10.677923202514648,15.177566528320312,12.905760765075684,9.112564086914062,11.178565979003906,15.209338188171387,12.295088768005371,7.431339263916016,9.39673900604248,8.844940185546875,10.112804412841797,9.323307037353516,10.350922584533691,10.820757865905762,13.295880317687988,8.444263458251953,9.318489074707031,6.612762928009033,14.067418098449707,10.525245666503906,11.620749473571777,14.497989654541016,14.611595153808594,13.113167762756348,12.379042625427246,9.123563766479492,15.259544372558594,14.514232635498047,10.58851146697998,14.745790481567383,11.003300666809082,8.54433822631836,9.858831405639648,8.216788291931152,11.440545082092285,9.714027404785156,12.571807861328125,10.159749031066895,12.393010139465332,7.979146480560303,14.289115905761719,10.649300575256348,8.671133995056152,10.54863452911377,14.349465370178223,9.572473526000977,10.552899360656738,15.095514297485352,12.83368968963623,9.992387771606445,13.240059852600098,9.3549165725708,8.301860809326172,11.657763481140137,15.60060977935791,15.059100151062012,10.793261528015137,13.729593276977539,10.701385498046875,8.489656448364258,7.979146480560303,8.44417953491211,13.703179359436035,12.231250762939453,13.539345741271973,8.35204792022705,11.505462646484375,14.749805450439453,12.85075855255127,12.339813232421875,15.598365783691406,11.373530387878418,14.267231941223145,9.697543144226074,9.835258483886719,9.318489074707031,11.089313507080078,14.209771156311035,10.425924301147461,9.18358325958252,10.778298377990723,9.755118370056152,13.829676628112793,8.166007995605469,14.726585388183594,9.483551979064941,12.857396125793457,12.027911186218262,9.384471893310547,8.494911193847656,12.753868103027344,8.874770164489746,9.750314712524414,14.551413536071777,8.291769981384277,13.963376998901367,7.434174537658691,10.295221328735352,9.534350395202637,12.204535484313965,11.136399269104004,10.159578323364258,8.237297058105469,8.795615196228027,10.687470436096191,10.41201400756836,11.202465057373047,8.672380447387695,12.952467918395996,11.093693733215332,9.256563186645508,7.469676971435547,12.898846626281738,14.083026885986328,14.40230655670166,10.413077354431152,12.352734565734863,8.75432300567627,11.114165306091309,6.893398284912109,8.68143367767334,10.322029113769531,15.524439811706543,6.027665138244629,11.452710151672363,15.749289512634277,10.151681900024414,7.5059123039245605,13.057670593261719,11.521821975708008,10.092133522033691,13.501940727233887,9.263324737548828,11.985944747924805,15.50106143951416,13.367691993713379,16.436296463012695,8.402605056762695,13.82769775390625,10.596625328063965,13.589569091796875,11.488967895507812,10.991190910339355,10.49465560913086,9.150020599365234,6.612762928009033,14.896875381469727,9.576593399047852,11.629517555236816,9.786395072937012,9.368534088134766,9.881857872009277,10.8285551071167,10.8285551071167,8.834543228149414,11.296998977661133,9.213593482971191,9.318489074707031,12.379249572753906,13.573830604553223,6.612762928009033,8.874770164489746,8.672380447387695,13.8536958694458,14.77270793914795,10.201787948608398,9.710603713989258,11.503165245056152,13.3607816696167,9.059221267700195,11.164146423339844,10.798677444458008,14.363560676574707,9.741145133972168,13.61369800567627,8.746527671813965,13.444563865661621,12.500569343566895,10.982275009155273,11.03689193725586,11.488276481628418,8.84945011138916,9.36000919342041,9.53283405303955,15.427175521850586,14.169508934020996,11.707515716552734,10.159749031066895,9.7183256149292,9.599170684814453,13.579100608825684,10.962651252746582,13.779260635375977,10.445342063903809,8.672380447387695,11.906136512756348,10.092133522033691,10.643172264099121,6.612762928009033,13.463455200195312,10.862502098083496,11.614320755004883,9.64854907989502,13.320257186889648,8.672380447387695,11.81548023223877,10.289069175720215,8.471089363098145,13.545592308044434,11.399017333984375,12.548296928405762,10.428112030029297,9.804588317871094,10.522125244140625,10.749652862548828,8.38826847076416,8.38826847076416,7.701202869415283,9.318489074707031,11.173299789428711,9.881857872009277,13.61669921875,9.854227066040039,11.20261001586914,9.240325927734375,11.003300666809082,13.923233032226562,6.893398284912109,13.15542984008789,8.221370697021484,10.346991539001465,8.729747772216797,11.305281639099121,10.54704475402832,8.516613006591797,10.96224594116211,12.350473403930664,11.008386611938477,9.035297393798828,6.41706657409668,10.87060546875,7.363376140594482,9.729939460754395,8.665257453918457,10.519672393798828,10.81963062286377,8.931550025939941,5.374138355255127,5.972589015960693,8.82078742980957,11.648266792297363,8.672380447387695,12.040931701660156,7.327633857727051,11.105834007263184,10.956265449523926,9.835258483886719,12.387710571289062,6.612762928009033,8.545893669128418,10.938375473022461,9.09942626953125,9.783029556274414,12.785758972167969,10.445342063903809,11.296998977661133,14.874747276306152,6.612762928009033,8.51589584350586,12.84571361541748,10.849710464477539,10.69921875,9.318489074707031,8.11109733581543,10.649300575256348,8.54404067993164,9.318489074707031,11.627165794372559,8.431660652160645,7.431339263916016,8.848219871520996,10.558046340942383,11.759465217590332,11.521821975708008,11.301216125488281,8.194873809814453,11.7990140914917,13.42859935760498,10.998673439025879,10.87552261352539,6.612762928009033,9.269461631774902,10.746898651123047,9.729939460754395,8.818116188049316,10.019072532653809,10.75937271118164,9.037125587463379,8.471089363098145,9.51591968536377,10.81266975402832,9.240375518798828,8.606941223144531,11.248387336730957,8.212902069091797,11.371369361877441,8.532552719116211,10.622652053833008,9.585321426391602,9.687217712402344,8.276166915893555,9.835258483886719,15.13588809967041,9.601634979248047,10.83183765411377,10.735170364379883,8.35204792022705,8.342424392700195,9.710603713989258,11.73101806640625,10.559530258178711,10.996978759765625,8.830754280090332,9.576593399047852,14.05604076385498,10.195961952209473,9.093681335449219,12.040931701660156,7.8367438316345215,8.751277923583984,8.2621488571167,8.38826847076416,8.402605056762695,7.469676971435547,10.774494171142578,8.78270149230957,8.592877388000488,11.136399269104004,13.826794624328613,11.173781394958496,11.970170021057129,14.787691116333008,9.913458824157715,9.804954528808594,9.318489074707031,8.450671195983887,10.159749031066895,11.216588973999023,9.710603713989258,9.359993934631348,14.467409133911133,12.080401420593262,10.159749031066895,7.750652313232422,10.658203125,10.967013359069824,13.60311508178711,7.3298020362854,10.159749031066895,13.62507152557373,9.38300609588623,7.701202869415283,8.818116188049316,11.0508394241333,12.000096321105957,9.710603713989258,8.672380447387695,10.365981101989746,8.672380447387695,9.868180274963379,5.374138355255127,11.418578147888184,8.86500072479248,9.359993934631348,8.38826847076416,11.136399269104004,9.710603713989258,10.122422218322754,8.052009582519531,11.15882682800293,8.672380447387695,11.521821975708008,11.68481159210205,11.625211715698242,9.815343856811523,10.649300575256348,12.145072937011719,7.469676971435547,11.252243041992188,9.946582794189453,10.586756706237793,8.672380447387695,8.75600814819336,10.122422218322754,8.818116188049316,9.484068870544434,10.11166000366211,10.085368156433105,9.318489074707031,6.612762928009033,10.289069175720215,8.307621955871582,11.722591400146484,8.510659217834473,10.940506935119629,6.612762928009033,8.760627746582031,7.8793816566467285,8.542319297790527,6.134694576263428,10.557903289794922,8.052009582519531,13.224027633666992,9.318489074707031,11.238020896911621,10.159749031066895,10.862502098083496,7.469676971435547,10.238972663879395,6.612762928009033,10.914104461669922,10.774147033691406,11.759465217590332,10.159749031066895,12.040931701660156,11.071317672729492,10.828167915344238,10.195961952209473,11.170857429504395,9.710603713989258,10.159749031066895,10.159749031066895,8.672380447387695,10.27074909210205,9.19023323059082,12.040931701660156,10.828167915344238,9.484068870544434,11.759465217590332,10.202818870544434,6.612762928009033,10.649300575256348,8.176155090332031,8.672380447387695,12.000096321105957,8.818116188049316,11.970170021057129,6.612762928009033,7.434174537658691,9.279939651489258,7.925445079803467,9.2592134475708,12.0436429977417,8.672380447387695,9.710603713989258,6.612762928009033,9.263324737548828,8.777325630187988,10.349714279174805,10.159749031066895,10.159749031066895],\"type\":\"histogram\"},{\"name\":\"GMI+XM\",\"x\":[10.706913948059082,15.92501163482666,14.682913780212402,13.243084907531738,11.07203483581543,12.607540130615234,10.227139472961426,9.07889175415039,15.006991386413574,8.890436172485352,14.896361351013184,14.928938865661621,11.122243881225586,13.222970008850098,13.395023345947266,11.773293495178223,12.653797149658203,8.234464645385742,14.630843162536621,13.037776947021484,13.630736351013184,11.821532249450684,10.503061294555664,12.62752628326416,8.778597831726074,14.666275024414062,8.10876178741455,11.9113130569458,8.750591278076172,8.672738075256348,8.58039379119873,12.0895357131958,13.91026496887207,13.7158842086792,15.205162048339844,13.954377174377441,13.218339920043945,12.427621841430664,12.930420875549316,11.56776237487793,11.739802360534668,13.559234619140625,13.314041137695312,11.143963813781738,9.626893043518066,11.629364967346191,8.887785911560059,14.951638221740723,12.663826942443848,10.040271759033203,10.305359840393066,12.785125732421875,10.655720710754395,13.70096492767334,8.739218711853027,13.533990859985352,14.44907283782959,13.064794540405273,10.331905364990234,11.642985343933105,12.177797317504883,14.141959190368652,10.55998706817627,11.767268180847168,12.985482215881348,11.056591033935547,12.312315940856934,11.952583312988281,13.307263374328613,9.575340270996094,12.338598251342773,12.342500686645508,14.70815372467041,13.443984031677246,12.714242935180664,13.766167640686035,10.857856750488281,6.628824710845947,13.018636703491211,12.97026538848877,15.938261985778809,13.91754150390625,13.637742042541504,9.588536262512207,12.492250442504883,15.144129753112793,11.927823066711426,11.808103561401367,13.266160011291504,13.763374328613281,12.351247787475586,10.61347484588623,9.879881858825684,10.33694076538086,10.24156665802002,12.048846244812012,13.498809814453125,8.562642097473145,9.54382038116455,15.045191764831543,9.985461235046387,10.408783912658691,13.830111503601074,8.594480514526367,7.938320159912109,10.14466381072998,12.830656051635742,15.259164810180664,12.732613563537598,14.209901809692383,13.031758308410645,11.860611915588379,14.413634300231934,12.540575981140137,13.381278991699219,10.061749458312988,9.853398323059082,11.920098304748535,11.200201988220215,12.382896423339844,11.714725494384766,9.35798168182373,12.549389839172363,12.640595436096191,11.456993103027344,9.708091735839844,9.46696662902832,12.87431812286377,13.81753921508789,11.050951957702637,12.588781356811523,12.5328369140625,12.742392539978027,11.87158489227295,13.021703720092773,12.943130493164062,11.127493858337402,11.170197486877441,10.043327331542969,13.186396598815918,15.486714363098145,12.732596397399902,12.688077926635742,11.071476936340332,12.474672317504883,14.363383293151855,14.288268089294434,14.19268798828125,11.828235626220703,14.090079307556152,12.296372413635254,12.99183464050293,11.172283172607422,12.498732566833496,10.992294311523438,12.257770538330078,12.600902557373047,5.220917224884033,11.387541770935059,12.535929679870605,7.900312900543213,11.189252853393555,13.638240814208984,9.69798755645752,9.455387115478516,12.456578254699707,11.570734024047852,11.780681610107422,9.353283882141113,6.292450904846191,15.418825149536133,13.824909210205078,12.249373435974121,12.837837219238281,13.012229919433594,11.975361824035645,13.725525856018066,12.945466041564941,14.64876937866211,10.008362770080566,9.213390350341797,12.66050910949707,13.705314636230469,14.439512252807617,10.330167770385742,9.751216888427734,12.187642097473145,12.375770568847656,14.839756965637207,10.73276424407959,8.600003242492676,12.197967529296875,9.348922729492188,9.004496574401855,11.636845588684082,11.252482414245605,13.335972785949707,11.868934631347656,13.732429504394531,12.715215682983398,13.347391128540039,10.336462020874023,11.98896598815918,13.79692268371582,13.788752555847168,10.139250755310059,12.906781196594238,12.630036354064941,9.4221773147583,9.722115516662598,10.365402221679688,8.667562484741211,10.20553970336914,10.997493743896484,12.330548286437988,7.012744903564453,9.550311088562012,9.568904876708984,9.18730640411377,13.074264526367188,14.803352355957031,12.024476051330566,12.399288177490234,12.280364036560059,14.351545333862305,14.895588874816895,15.089252471923828,14.940888404846191,13.109945297241211,12.107827186584473,13.34552001953125,13.85242748260498,13.095752716064453,13.545873641967773,13.079002380371094,13.672143936157227,14.96577262878418,9.938162803649902,13.416373252868652,15.337810516357422,13.007805824279785,12.480536460876465,13.242300033569336,11.305509567260742,9.35366153717041,14.165738105773926,13.367415428161621,10.628832817077637,12.088534355163574,9.766744613647461,13.325361251831055,12.588879585266113,9.21415901184082,9.854050636291504,13.508783340454102,13.563569068908691,12.338537216186523,13.538352012634277,13.997495651245117,12.462475776672363,11.939786911010742,10.034443855285645,10.135788917541504,8.422927856445312,13.240683555603027,11.467205047607422,14.549189567565918,12.17812442779541,11.705160140991211,10.820293426513672,14.976217269897461,14.455103874206543,15.143220901489258,12.789982795715332,11.926528930664062,11.91513442993164,9.209178924560547,7.976963996887207,14.944561958312988,13.537691116333008,13.146414756774902,14.74207592010498,14.18795394897461,14.400920867919922,11.65428638458252,14.032866477966309,13.430110931396484,9.419986724853516,12.121811866760254,13.765957832336426,12.781935691833496,15.510125160217285,13.231965065002441,15.188737869262695,13.618937492370605,12.37547492980957,12.494542121887207,11.954755783081055,12.96474552154541,14.821185111999512,12.375680923461914,14.630457878112793,14.314400672912598,12.58715534210205,7.7282209396362305,6.9709858894348145,10.65562915802002,8.127769470214844,8.662745475769043,11.859230995178223,9.756461143493652,12.67164421081543,13.648310661315918,10.948078155517578,11.161792755126953,11.856581687927246,9.558838844299316,8.89079761505127,8.646601676940918,12.674466133117676,9.386174201965332,10.554420471191406,12.18673038482666,13.524553298950195,15.246699333190918,14.683205604553223,13.228242874145508,9.499481201171875,12.713339805603027,13.409402847290039,13.602412223815918,14.679454803466797,11.708252906799316,13.116174697875977,15.762763977050781,8.95955753326416,7.171416282653809,14.572599411010742,10.46348762512207,12.33421802520752,11.431110382080078,9.814990997314453,15.445819854736328,14.5481595993042,8.190617561340332,8.770330429077148,12.210502624511719,11.752230644226074,10.13244342803955,13.147207260131836,14.605445861816406,13.379731178283691,14.476239204406738,15.251211166381836,7.869544506072998,9.160723686218262,14.248888969421387,11.82586669921875,13.817136764526367,13.94345474243164,10.501448631286621,7.683659076690674,11.732207298278809,12.296850204467773,9.39366340637207,11.402237892150879,10.713396072387695,13.814802169799805,10.801454544067383,12.86953067779541,14.615148544311523,15.184950828552246,13.555556297302246,9.06373119354248,11.131077766418457,12.270275115966797,10.884861946105957,9.51095199584961,8.024369239807129,13.168084144592285,8.889734268188477,13.173837661743164,12.18850326538086,9.907753944396973,10.276142120361328,8.911351203918457,14.583897590637207,14.643084526062012,11.551836967468262,10.484363555908203,11.762423515319824,12.39313793182373,11.932703971862793,10.315110206604004,7.519243240356445,11.870081901550293,9.945852279663086,10.954562187194824,12.413430213928223,13.109509468078613,14.580063819885254,8.75334358215332,15.444750785827637,13.592357635498047,10.725979804992676,13.591754913330078,14.89145278930664,14.404690742492676,13.069812774658203,12.70781421661377,8.883587837219238,6.931524276733398,14.057347297668457,8.225400924682617,10.899077415466309,12.436714172363281,12.677971839904785,11.005927085876465,10.94410228729248,10.235675811767578,13.052714347839355,15.983880996704102,12.996514320373535,9.782679557800293,14.888762474060059,13.213943481445312,11.1223783493042,9.367268562316895,9.561671257019043,15.909255981445312,8.985641479492188,14.79206371307373,13.336423873901367,11.03066635131836,10.650215148925781,10.357206344604492,13.916760444641113,14.615556716918945,13.700712203979492,10.36778736114502,12.869293212890625,9.217085838317871,11.487951278686523,12.218035697937012,14.886892318725586,12.563438415527344,9.233078956604004,13.408238410949707,13.437332153320312,13.045665740966797,9.605107307434082,15.016804695129395,13.30634593963623,13.310518264770508,15.376984596252441,13.776886940002441,10.034480094909668,8.352210998535156,11.818490028381348,12.120996475219727,10.109410285949707,8.438095092773438,9.704229354858398,9.391547203063965,8.647933006286621,11.283474922180176,14.261247634887695,10.486483573913574,9.192235946655273,10.249194145202637,10.456218719482422,11.056437492370605,8.306775093078613,8.635398864746094,15.300739288330078,8.662790298461914,10.525226593017578,11.519935607910156,12.429401397705078,13.48502254486084,14.349993705749512,11.489628791809082,14.766855239868164,8.930439949035645,11.753039360046387,14.6611967086792,10.899338722229004,11.030451774597168,10.874602317810059,7.8266167640686035,6.5271759033203125,9.94487190246582,13.45053482055664,11.880252838134766,8.233692169189453,15.137819290161133,10.125598907470703,14.041099548339844,13.223833084106445,13.397013664245605,14.665035247802734,13.96303939819336,8.622001647949219,14.60643482208252,9.96294116973877,11.0390043258667,14.591658592224121,10.071176528930664,12.833612442016602,11.526369094848633,10.958868026733398,9.193526268005371,9.389969825744629,15.072562217712402,14.371706008911133,10.202005386352539,9.092120170593262,10.572250366210938,10.305315017700195,9.387402534484863,13.300864219665527,12.13374137878418,14.114911079406738,10.408415794372559,13.648816108703613,8.181294441223145,12.890853881835938,9.71839427947998,10.13244342803955,9.481200218200684,12.532402038574219,10.923409461975098,8.511962890625,13.78719711303711,11.061973571777344,8.663084030151367,9.789891242980957,12.111797332763672,13.113386154174805,13.753324508666992,13.413862228393555,12.593538284301758,12.472112655639648,9.050580978393555,15.51794147491455,9.797690391540527,9.386174201965332,10.076488494873047,10.388920783996582,9.974352836608887,13.363365173339844,11.938145637512207,12.307250022888184,13.295294761657715,14.855663299560547,10.56617259979248,11.173556327819824,12.389604568481445,13.944993019104004,8.134405136108398,9.317131996154785,10.206019401550293,14.043611526489258,14.096035957336426,11.608072280883789,9.048301696777344,13.298958778381348,14.835293769836426,13.072613716125488,12.241260528564453,8.210530281066895,15.285018920898438,11.362105369567871,14.764617919921875,12.736876487731934,9.044431686401367,14.41003131866455,9.46491813659668,12.485726356506348,8.837875366210938,11.264837265014648,15.231703758239746,12.180471420288086,15.259441375732422,16.154996871948242,16.08588409423828,10.409132957458496,11.50405502319336,10.359206199645996,12.42822265625,12.285002708435059,9.21415901184082,9.211542129516602,14.154570579528809,13.572598457336426,14.81275749206543,12.489190101623535,9.386174201965332,12.059934616088867,9.922072410583496,10.515000343322754,12.936601638793945,9.910317420959473,9.28062915802002,9.549915313720703,9.869412422180176,14.800573348999023,14.924457550048828,8.614227294921875,10.268072128295898,11.047348976135254,10.801538467407227,8.804988861083984,10.148850440979004,8.016176223754883,15.35167121887207,14.081881523132324,10.034345626831055,9.182827949523926,11.047307014465332,9.45505142211914,11.097892761230469,13.950150489807129,12.311936378479004,14.830060958862305,10.802178382873535,14.257770538330078,9.613811492919922,9.229154586791992,13.792289733886719,14.109833717346191,8.390695571899414,9.807074546813965,9.920793533325195,10.523486137390137,11.196417808532715,9.624083518981934,10.860445022583008,12.032186508178711,12.649678230285645,9.016770362854004,13.939724922180176,9.386295318603516,11.80388355255127,14.89476203918457,14.943658828735352,7.90627384185791,8.141417503356934,10.993934631347656,13.413867950439453,13.821301460266113,10.12147331237793,9.94487190246582,10.145796775817871,11.58265209197998,12.70870304107666,13.492907524108887,14.500490188598633,14.400286674499512,10.461372375488281,9.226497650146484,9.154552459716797,10.887323379516602,9.772122383117676,11.694196701049805,10.977008819580078,14.169307708740234,9.160723686218262,10.416397094726562,8.895995140075684,8.397076606750488,10.316229820251465,12.113138198852539,12.399455070495605,11.928933143615723,10.929912567138672,10.899075508117676,9.941222190856934,11.47822380065918,14.013166427612305,11.362266540527344,12.797987937927246,12.939637184143066,13.40302562713623,8.985705375671387,9.785579681396484,10.411397933959961,14.868209838867188,14.87926197052002,14.265727996826172,8.895995140075684,9.611710548400879,13.70607852935791,10.418272018432617,12.432591438293457,10.13244342803955,12.732206344604492,12.273637771606445,11.04898452758789,11.53012752532959,11.391576766967773,13.056325912475586,12.700053215026855,11.149035453796387,11.830708503723145,14.406216621398926,10.13244342803955,9.719578742980957,10.56617259979248,12.972431182861328,11.209646224975586,11.256159782409668,12.515016555786133,15.923759460449219,10.043327331542969,10.161192893981934,10.250566482543945,9.372674942016602,10.13244342803955,12.626856803894043,11.373672485351562,11.541481971740723,9.615452766418457,11.163175582885742,14.118840217590332,10.56617259979248,15.198229789733887,12.995170593261719,9.41738510131836,11.005927085876465,15.230440139770508,12.275132179260254,8.149229049682617,9.356640815734863,9.027904510498047,10.420202255249023,9.579279899597168,10.685267448425293,10.72070598602295,13.356865882873535,9.122735977172852,9.386174201965332,7.410661697387695,14.187378883361816,10.522438049316406,11.737197875976562,14.654370307922363,14.654196739196777,13.257944107055664,12.466425895690918,9.676473617553711,15.37362003326416,14.562356948852539,10.657018661499023,14.751753807067871,10.8649263381958,8.981441497802734,10.538790702819824,8.821600914001465,11.50405502319336,10.173888206481934,12.602063179016113,10.41172981262207,12.647841453552246,8.753814697265625,14.369261741638184,10.287060737609863,8.755701065063477,10.564834594726562,14.30075454711914,9.700674057006836,11.173415184020996,15.098876953125,12.778426170349121,9.640405654907227,13.466439247131348,9.183097839355469,9.279853820800781,11.58927059173584,15.65815544128418,15.083959579467773,10.72913646697998,13.55869197845459,10.64658260345459,8.961669921875,8.753814697265625,8.418262481689453,13.806374549865723,12.27893352508545,13.582688331604004,8.752049446105957,10.957396507263184,14.821243286132812,12.888617515563965,12.505102157592773,15.694339752197266,11.766623497009277,14.343182563781738,9.92982006072998,10.148850440979004,9.386174201965332,11.366680145263672,14.15713119506836,10.445849418640137,9.424959182739258,10.62229061126709,9.43301010131836,14.088700294494629,8.541031837463379,14.802921295166016,10.127049446105957,12.988208770751953,12.03259563446045,9.308130264282227,8.621758460998535,12.856971740722656,9.371521949768066,10.303866386413574,14.646764755249023,8.667562484741211,13.968121528625488,8.125256538391113,10.329967498779297,10.092151641845703,12.302227973937988,11.411849021911621,10.758907318115234,8.997082710266113,8.80933666229248,10.591119766235352,10.339832305908203,11.240966796875,9.21415901184082,12.989665031433105,11.251740455627441,9.516618728637695,8.141417503356934,13.311203002929688,14.001198768615723,14.587919235229492,10.884127616882324,12.393763542175293,8.796539306640625,11.675217628479004,7.6611738204956055,9.462655067443848,10.043327331542969,15.564030647277832,6.890275001525879,11.576208114624023,15.844730377197266,10.007814407348633,8.117384910583496,12.959406852722168,11.960402488708496,10.418272018432617,13.507115364074707,9.881172180175781,11.582425117492676,15.49254035949707,13.342637062072754,16.42205238342285,8.79324722290039,14.272193908691406,10.815421104431152,13.717992782592773,11.402237892150879,10.898954391479492,10.379433631896973,9.408265113830566,7.410661697387695,14.945237159729004,9.94487190246582,12.063112258911133,10.22087287902832,9.457959175109863,10.13244342803955,10.768531799316406,10.768531799316406,8.994292259216309,11.080223083496094,8.959044456481934,9.386174201965332,12.101163864135742,13.597599029541016,7.410661697387695,9.371521949768066,9.21415901184082,14.048999786376953,14.894420623779297,10.54846477508545,9.869412422180176,11.612629890441895,13.689620971679688,9.320857048034668,11.217327117919922,10.505753517150879,14.391807556152344,10.02204418182373,13.692028999328613,9.082172393798828,13.49767017364502,12.243796348571777,11.291397094726562,11.458407402038574,11.718420028686523,9.081427574157715,9.60559368133545,9.98101806640625,15.485515594482422,14.201909065246582,11.885083198547363,10.41172981262207,10.525561332702637,10.221711158752441,13.553812026977539,11.537226676940918,13.854694366455078,10.161192893981934,9.21415901184082,11.965213775634766,10.418272018432617,10.873661994934082,7.410661697387695,13.349784851074219,11.102858543395996,11.746247291564941,10.076488494873047,13.348445892333984,9.21415901184082,11.64940071105957,10.437929153442383,8.900354385375977,13.655924797058105,11.342424392700195,12.917659759521484,10.483338356018066,9.852482795715332,10.535926818847656,11.265352249145508,8.464456558227539,8.464456558227539,8.394183158874512,9.386174201965332,11.237540245056152,10.13244342803955,13.764290809631348,10.232767105102539,11.319317817687988,9.023681640625,10.8649263381958,13.834357261657715,7.6611738204956055,13.199028968811035,9.01897144317627,10.211065292358398,9.071282386779785,11.710328102111816,10.595414161682129,9.424283027648926,10.96866512298584,12.713430404663086,11.048128128051758,9.999931335449219,7.295749187469482,10.832829475402832,7.63051176071167,10.02018928527832,9.044431686401367,10.769887924194336,10.833257675170898,9.486801147460938,6.268270492553711,6.850379467010498,8.892844200134277,11.697394371032715,9.21415901184082,12.439022064208984,7.829155921936035,11.013256072998047,11.235325813293457,10.148850440979004,12.269886016845703,7.410661697387695,8.60651683807373,11.051841735839844,9.270112037658691,9.872476577758789,12.706415176391602,10.161192893981934,11.080223083496094,14.961895942687988,7.410661697387695,8.806037902832031,13.260092735290527,10.953895568847656,10.569302558898926,9.386174201965332,8.32923698425293,10.287060737609863,8.978278160095215,9.386174201965332,11.611745834350586,8.567534446716309,8.149229049682617,8.857561111450195,10.594724655151367,12.058900833129883,11.960402488708496,11.287285804748535,8.61220932006836,11.778139114379883,13.486539840698242,10.963698387145996,11.296040534973145,7.410661697387695,9.029256820678711,10.665192604064941,10.02018928527832,9.160723686218262,10.340476036071777,10.483732223510742,9.380757331848145,8.900354385375977,9.401507377624512,10.759024620056152,9.742520332336426,8.534920692443848,11.792981147766113,8.764246940612793,11.385546684265137,8.741250038146973,11.42597770690918,9.970948219299316,9.867219924926758,8.450489044189453,10.148850440979004,15.163509368896484,9.900691032409668,10.790070533752441,10.69345474243164,8.752049446105957,8.438095092773438,9.869412422180176,12.290103912353516,10.45147705078125,11.045233726501465,9.193526268005371,9.94487190246582,14.187742233276367,10.645661354064941,9.676187515258789,12.439022064208984,8.467153549194336,8.771598815917969,8.668148040771484,8.464456558227539,8.79324722290039,8.141417503356934,10.815454483032227,9.021777153015137,8.657442092895508,11.411849021911621,13.860551834106445,11.602377891540527,12.295869827270508,14.915631294250488,10.500761032104492,10.177809715270996,9.386174201965332,8.62882137298584,10.41172981262207,11.310218811035156,9.869412422180176,9.504392623901367,14.406644821166992,12.40598201751709,10.41172981262207,8.076507568359375,11.09239387512207,11.106253623962402,13.823314666748047,7.926836013793945,10.41172981262207,13.752742767333984,9.779009819030762,8.394183158874512,9.160723686218262,11.032755851745605,12.30223274230957,9.869412422180176,9.21415901184082,10.795742988586426,9.21415901184082,10.093045234680176,6.268270492553711,11.874374389648438,8.916613578796387,9.504392623901367,8.464456558227539,11.411849021911621,9.869412422180176,10.423545837402344,8.459794044494629,11.269001960754395,9.21415901184082,11.960402488708496,12.266790390014648,11.737431526184082,10.241340637207031,10.287060737609863,12.524847984313965,8.141417503356934,11.650136947631836,10.423848152160645,10.541593551635742,9.21415901184082,8.756711959838867,10.423545837402344,9.160723686218262,9.603949546813965,10.678876876831055,10.279321670532227,9.386174201965332,7.410661697387695,10.437929153442383,8.889565467834473,12.039234161376953,9.030760765075684,11.092744827270508,7.410661697387695,9.640905380249023,8.483355522155762,9.628764152526855,7.028974533081055,10.99813461303711,8.459794044494629,13.272254943847656,9.386174201965332,11.514995574951172,10.41172981262207,11.102858543395996,8.141417503356934,10.021808624267578,7.410661697387695,11.305014610290527,10.8237943649292,12.058900833129883,10.41172981262207,12.439022064208984,11.147868156433105,11.22336483001709,10.645661354064941,11.397797584533691,9.869412422180176,10.41172981262207,10.41172981262207,9.21415901184082,10.683241844177246,9.292733192443848,12.439022064208984,11.22336483001709,9.603949546813965,12.058900833129883,10.984794616699219,7.410661697387695,10.287060737609863,8.388903617858887,9.21415901184082,12.30223274230957,9.160723686218262,12.295869827270508,7.410661697387695,8.125256538391113,9.94165325164795,8.483038902282715,9.916670799255371,12.362984657287598,9.21415901184082,9.869412422180176,7.410661697387695,9.881172180175781,8.938041687011719,10.935188293457031,10.41172981262207,10.41172981262207],\"type\":\"histogram\"}],                        {\"template\":{\"data\":{\"histogram2dcontour\":[{\"type\":\"histogram2dcontour\",\"colorbar\":{\"outlinewidth\":0,\"ticks\":\"\"},\"colorscale\":[[0.0,\"#0d0887\"],[0.1111111111111111,\"#46039f\"],[0.2222222222222222,\"#7201a8\"],[0.3333333333333333,\"#9c179e\"],[0.4444444444444444,\"#bd3786\"],[0.5555555555555556,\"#d8576b\"],[0.6666666666666666,\"#ed7953\"],[0.7777777777777778,\"#fb9f3a\"],[0.8888888888888888,\"#fdca26\"],[1.0,\"#f0f921\"]]}],\"choropleth\":[{\"type\":\"choropleth\",\"colorbar\":{\"outlinewidth\":0,\"ticks\":\"\"}}],\"histogram2d\":[{\"type\":\"histogram2d\",\"colorbar\":{\"outlinewidth\":0,\"ticks\":\"\"},\"colorscale\":[[0.0,\"#0d0887\"],[0.1111111111111111,\"#46039f\"],[0.2222222222222222,\"#7201a8\"],[0.3333333333333333,\"#9c179e\"],[0.4444444444444444,\"#bd3786\"],[0.5555555555555556,\"#d8576b\"],[0.6666666666666666,\"#ed7953\"],[0.7777777777777778,\"#fb9f3a\"],[0.8888888888888888,\"#fdca26\"],[1.0,\"#f0f921\"]]}],\"heatmap\":[{\"type\":\"heatmap\",\"colorbar\":{\"outlinewidth\":0,\"ticks\":\"\"},\"colorscale\":[[0.0,\"#0d0887\"],[0.1111111111111111,\"#46039f\"],[0.2222222222222222,\"#7201a8\"],[0.3333333333333333,\"#9c179e\"],[0.4444444444444444,\"#bd3786\"],[0.5555555555555556,\"#d8576b\"],[0.6666666666666666,\"#ed7953\"],[0.7777777777777778,\"#fb9f3a\"],[0.8888888888888888,\"#fdca26\"],[1.0,\"#f0f921\"]]}],\"heatmapgl\":[{\"type\":\"heatmapgl\",\"colorbar\":{\"outlinewidth\":0,\"ticks\":\"\"},\"colorscale\":[[0.0,\"#0d0887\"],[0.1111111111111111,\"#46039f\"],[0.2222222222222222,\"#7201a8\"],[0.3333333333333333,\"#9c179e\"],[0.4444444444444444,\"#bd3786\"],[0.5555555555555556,\"#d8576b\"],[0.6666666666666666,\"#ed7953\"],[0.7777777777777778,\"#fb9f3a\"],[0.8888888888888888,\"#fdca26\"],[1.0,\"#f0f921\"]]}],\"contourcarpet\":[{\"type\":\"contourcarpet\",\"colorbar\":{\"outlinewidth\":0,\"ticks\":\"\"}}],\"contour\":[{\"type\":\"contour\",\"colorbar\":{\"outlinewidth\":0,\"ticks\":\"\"},\"colorscale\":[[0.0,\"#0d0887\"],[0.1111111111111111,\"#46039f\"],[0.2222222222222222,\"#7201a8\"],[0.3333333333333333,\"#9c179e\"],[0.4444444444444444,\"#bd3786\"],[0.5555555555555556,\"#d8576b\"],[0.6666666666666666,\"#ed7953\"],[0.7777777777777778,\"#fb9f3a\"],[0.8888888888888888,\"#fdca26\"],[1.0,\"#f0f921\"]]}],\"surface\":[{\"type\":\"surface\",\"colorbar\":{\"outlinewidth\":0,\"ticks\":\"\"},\"colorscale\":[[0.0,\"#0d0887\"],[0.1111111111111111,\"#46039f\"],[0.2222222222222222,\"#7201a8\"],[0.3333333333333333,\"#9c179e\"],[0.4444444444444444,\"#bd3786\"],[0.5555555555555556,\"#d8576b\"],[0.6666666666666666,\"#ed7953\"],[0.7777777777777778,\"#fb9f3a\"],[0.8888888888888888,\"#fdca26\"],[1.0,\"#f0f921\"]]}],\"mesh3d\":[{\"type\":\"mesh3d\",\"colorbar\":{\"outlinewidth\":0,\"ticks\":\"\"}}],\"scatter\":[{\"fillpattern\":{\"fillmode\":\"overlay\",\"size\":10,\"solidity\":0.2},\"type\":\"scatter\"}],\"parcoords\":[{\"type\":\"parcoords\",\"line\":{\"colorbar\":{\"outlinewidth\":0,\"ticks\":\"\"}}}],\"scatterpolargl\":[{\"type\":\"scatterpolargl\",\"marker\":{\"colorbar\":{\"outlinewidth\":0,\"ticks\":\"\"}}}],\"bar\":[{\"error_x\":{\"color\":\"#2a3f5f\"},\"error_y\":{\"color\":\"#2a3f5f\"},\"marker\":{\"line\":{\"color\":\"#E5ECF6\",\"width\":0.5},\"pattern\":{\"fillmode\":\"overlay\",\"size\":10,\"solidity\":0.2}},\"type\":\"bar\"}],\"scattergeo\":[{\"type\":\"scattergeo\",\"marker\":{\"colorbar\":{\"outlinewidth\":0,\"ticks\":\"\"}}}],\"scatterpolar\":[{\"type\":\"scatterpolar\",\"marker\":{\"colorbar\":{\"outlinewidth\":0,\"ticks\":\"\"}}}],\"histogram\":[{\"marker\":{\"pattern\":{\"fillmode\":\"overlay\",\"size\":10,\"solidity\":0.2}},\"type\":\"histogram\"}],\"scattergl\":[{\"type\":\"scattergl\",\"marker\":{\"colorbar\":{\"outlinewidth\":0,\"ticks\":\"\"}}}],\"scatter3d\":[{\"type\":\"scatter3d\",\"line\":{\"colorbar\":{\"outlinewidth\":0,\"ticks\":\"\"}},\"marker\":{\"colorbar\":{\"outlinewidth\":0,\"ticks\":\"\"}}}],\"scattermapbox\":[{\"type\":\"scattermapbox\",\"marker\":{\"colorbar\":{\"outlinewidth\":0,\"ticks\":\"\"}}}],\"scatterternary\":[{\"type\":\"scatterternary\",\"marker\":{\"colorbar\":{\"outlinewidth\":0,\"ticks\":\"\"}}}],\"scattercarpet\":[{\"type\":\"scattercarpet\",\"marker\":{\"colorbar\":{\"outlinewidth\":0,\"ticks\":\"\"}}}],\"carpet\":[{\"aaxis\":{\"endlinecolor\":\"#2a3f5f\",\"gridcolor\":\"white\",\"linecolor\":\"white\",\"minorgridcolor\":\"white\",\"startlinecolor\":\"#2a3f5f\"},\"baxis\":{\"endlinecolor\":\"#2a3f5f\",\"gridcolor\":\"white\",\"linecolor\":\"white\",\"minorgridcolor\":\"white\",\"startlinecolor\":\"#2a3f5f\"},\"type\":\"carpet\"}],\"table\":[{\"cells\":{\"fill\":{\"color\":\"#EBF0F8\"},\"line\":{\"color\":\"white\"}},\"header\":{\"fill\":{\"color\":\"#C8D4E3\"},\"line\":{\"color\":\"white\"}},\"type\":\"table\"}],\"barpolar\":[{\"marker\":{\"line\":{\"color\":\"#E5ECF6\",\"width\":0.5},\"pattern\":{\"fillmode\":\"overlay\",\"size\":10,\"solidity\":0.2}},\"type\":\"barpolar\"}],\"pie\":[{\"automargin\":true,\"type\":\"pie\"}]},\"layout\":{\"autotypenumbers\":\"strict\",\"colorway\":[\"#636efa\",\"#EF553B\",\"#00cc96\",\"#ab63fa\",\"#FFA15A\",\"#19d3f3\",\"#FF6692\",\"#B6E880\",\"#FF97FF\",\"#FECB52\"],\"font\":{\"color\":\"#2a3f5f\"},\"hovermode\":\"closest\",\"hoverlabel\":{\"align\":\"left\"},\"paper_bgcolor\":\"white\",\"plot_bgcolor\":\"#E5ECF6\",\"polar\":{\"bgcolor\":\"#E5ECF6\",\"angularaxis\":{\"gridcolor\":\"white\",\"linecolor\":\"white\",\"ticks\":\"\"},\"radialaxis\":{\"gridcolor\":\"white\",\"linecolor\":\"white\",\"ticks\":\"\"}},\"ternary\":{\"bgcolor\":\"#E5ECF6\",\"aaxis\":{\"gridcolor\":\"white\",\"linecolor\":\"white\",\"ticks\":\"\"},\"baxis\":{\"gridcolor\":\"white\",\"linecolor\":\"white\",\"ticks\":\"\"},\"caxis\":{\"gridcolor\":\"white\",\"linecolor\":\"white\",\"ticks\":\"\"}},\"coloraxis\":{\"colorbar\":{\"outlinewidth\":0,\"ticks\":\"\"}},\"colorscale\":{\"sequential\":[[0.0,\"#0d0887\"],[0.1111111111111111,\"#46039f\"],[0.2222222222222222,\"#7201a8\"],[0.3333333333333333,\"#9c179e\"],[0.4444444444444444,\"#bd3786\"],[0.5555555555555556,\"#d8576b\"],[0.6666666666666666,\"#ed7953\"],[0.7777777777777778,\"#fb9f3a\"],[0.8888888888888888,\"#fdca26\"],[1.0,\"#f0f921\"]],\"sequentialminus\":[[0.0,\"#0d0887\"],[0.1111111111111111,\"#46039f\"],[0.2222222222222222,\"#7201a8\"],[0.3333333333333333,\"#9c179e\"],[0.4444444444444444,\"#bd3786\"],[0.5555555555555556,\"#d8576b\"],[0.6666666666666666,\"#ed7953\"],[0.7777777777777778,\"#fb9f3a\"],[0.8888888888888888,\"#fdca26\"],[1.0,\"#f0f921\"]],\"diverging\":[[0,\"#8e0152\"],[0.1,\"#c51b7d\"],[0.2,\"#de77ae\"],[0.3,\"#f1b6da\"],[0.4,\"#fde0ef\"],[0.5,\"#f7f7f7\"],[0.6,\"#e6f5d0\"],[0.7,\"#b8e186\"],[0.8,\"#7fbc41\"],[0.9,\"#4d9221\"],[1,\"#276419\"]]},\"xaxis\":{\"gridcolor\":\"white\",\"linecolor\":\"white\",\"ticks\":\"\",\"title\":{\"standoff\":15},\"zerolinecolor\":\"white\",\"automargin\":true,\"zerolinewidth\":2},\"yaxis\":{\"gridcolor\":\"white\",\"linecolor\":\"white\",\"ticks\":\"\",\"title\":{\"standoff\":15},\"zerolinecolor\":\"white\",\"automargin\":true,\"zerolinewidth\":2},\"scene\":{\"xaxis\":{\"backgroundcolor\":\"#E5ECF6\",\"gridcolor\":\"white\",\"linecolor\":\"white\",\"showbackground\":true,\"ticks\":\"\",\"zerolinecolor\":\"white\",\"gridwidth\":2},\"yaxis\":{\"backgroundcolor\":\"#E5ECF6\",\"gridcolor\":\"white\",\"linecolor\":\"white\",\"showbackground\":true,\"ticks\":\"\",\"zerolinecolor\":\"white\",\"gridwidth\":2},\"zaxis\":{\"backgroundcolor\":\"#E5ECF6\",\"gridcolor\":\"white\",\"linecolor\":\"white\",\"showbackground\":true,\"ticks\":\"\",\"zerolinecolor\":\"white\",\"gridwidth\":2}},\"shapedefaults\":{\"line\":{\"color\":\"#2a3f5f\"}},\"annotationdefaults\":{\"arrowcolor\":\"#2a3f5f\",\"arrowhead\":0,\"arrowwidth\":1},\"geo\":{\"bgcolor\":\"white\",\"landcolor\":\"#E5ECF6\",\"subunitcolor\":\"white\",\"showland\":true,\"showlakes\":true,\"lakecolor\":\"white\"},\"title\":{\"x\":0.05},\"mapbox\":{\"style\":\"light\"}}},\"title\":{\"text\":\"Distribution of Nuclear Norm of Node Explain Matrix\"},\"xaxis\":{\"title\":{\"text\":\"Nuclear Norm\"}},\"yaxis\":{\"title\":{\"text\":\"Frequency\"}},\"font\":{\"size\":20},\"paper_bgcolor\":\"white\",\"plot_bgcolor\":\"white\"},                        {\"responsive\": true}                    ).then(function(){\n",
       "                            \n",
       "var gd = document.getElementById('2815987e-0ffe-4388-95d4-b3bc5afd7343');\n",
       "var x = new MutationObserver(function (mutations, observer) {{\n",
       "        var display = window.getComputedStyle(gd).display;\n",
       "        if (!display || display === 'none') {{\n",
       "            console.log([gd, 'removed!']);\n",
       "            Plotly.purge(gd);\n",
       "            observer.disconnect();\n",
       "        }}\n",
       "}});\n",
       "\n",
       "// Listen for the removal of the full notebook cells\n",
       "var notebookContainer = gd.closest('#notebook-container');\n",
       "if (notebookContainer) {{\n",
       "    x.observe(notebookContainer, {childList: true});\n",
       "}}\n",
       "\n",
       "// Listen for the clearing of the current output cell\n",
       "var outputEl = gd.closest('.output');\n",
       "if (outputEl) {{\n",
       "    x.observe(outputEl, {childList: true});\n",
       "}}\n",
       "\n",
       "                        })                };                });            </script>        </div>"
      ]
     },
     "metadata": {},
     "output_type": "display_data"
    }
   ],
   "source": [
    "fig = go.Figure()\n",
    "\n",
    "fig.add_trace(go.Histogram(x = norm_og, \n",
    "                           name = 'GMI'))\n",
    "fig.add_trace(go.Histogram(x = norm_plus, \n",
    "                           name = 'GMI+XM'))\n",
    "\n",
    "\n",
    "fig.update_layout(title_text = 'Distribution of Nuclear Norm of Node Explain Matrix', \n",
    "                  xaxis_title_text = 'Nuclear Norm', \n",
    "                  yaxis_title_text = 'Frequency', \n",
    "                  paper_bgcolor = 'white', \n",
    "                  plot_bgcolor = 'white', \n",
    "                  font = dict(size = 20))\n",
    "fig.show()"
   ]
  },
  {
   "cell_type": "code",
   "execution_count": null,
   "id": "7010a865",
   "metadata": {},
   "outputs": [],
   "source": []
  },
  {
   "cell_type": "code",
   "execution_count": null,
   "id": "8bf5bbbc",
   "metadata": {},
   "outputs": [],
   "source": []
  },
  {
   "cell_type": "code",
   "execution_count": null,
   "id": "534dc2b8",
   "metadata": {
    "scrolled": true
   },
   "outputs": [],
   "source": []
  },
  {
   "cell_type": "code",
   "execution_count": null,
   "id": "0fe87c9d",
   "metadata": {},
   "outputs": [],
   "source": []
  },
  {
   "cell_type": "code",
   "execution_count": null,
   "id": "3a6739cf",
   "metadata": {},
   "outputs": [],
   "source": []
  }
 ],
 "metadata": {
  "kernelspec": {
   "display_name": "Python 3 (ipykernel)",
   "language": "python",
   "name": "python3"
  },
  "language_info": {
   "codemirror_mode": {
    "name": "ipython",
    "version": 3
   },
   "file_extension": ".py",
   "mimetype": "text/x-python",
   "name": "python",
   "nbconvert_exporter": "python",
   "pygments_lexer": "ipython3",
   "version": "3.10.8"
  },
  "toc": {
   "base_numbering": 1,
   "nav_menu": {},
   "number_sections": true,
   "sideBar": true,
   "skip_h1_title": false,
   "title_cell": "Table of Contents",
   "title_sidebar": "Contents",
   "toc_cell": false,
   "toc_position": {},
   "toc_section_display": true,
   "toc_window_display": false
  }
 },
 "nbformat": 4,
 "nbformat_minor": 5
}
