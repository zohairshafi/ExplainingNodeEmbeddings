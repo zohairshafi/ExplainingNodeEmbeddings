{
 "cells": [
  {
   "cell_type": "markdown",
   "id": "33fc3645",
   "metadata": {},
   "source": [
    "### Imports"
   ]
  },
  {
   "cell_type": "code",
   "execution_count": 17,
   "id": "af8c60b6",
   "metadata": {},
   "outputs": [],
   "source": [
    "import numpy as np\n",
    "import scipy.sparse as sp\n",
    "import torch\n",
    "import torch.nn as nn\n",
    "import pickle as pkl\n",
    "import networkx as nx\n",
    "\n",
    "from tqdm import tqdm\n",
    "\n",
    "from tensorflow.keras.optimizers import Adam, Nadam\n",
    "from scripts.utils import *\n",
    "\n",
    "from GMI.models import GMI, LogReg\n",
    "from GMI.utils import process\n"
   ]
  },
  {
   "cell_type": "markdown",
   "id": "1e9e14d8",
   "metadata": {},
   "source": [
    "### Class Definitions"
   ]
  },
  {
   "cell_type": "code",
   "execution_count": 2,
   "id": "e2ffbebf",
   "metadata": {},
   "outputs": [],
   "source": [
    "class BaseEmbedder:\n",
    "    def __init__(self, graph, embed_shape = (128,)):\n",
    "        self.embed(graph)\n",
    "        self.E = list(graph.edges())\n",
    "        self.graph = graph\n",
    "        self.embed_shape = embed_shape\n",
    "    \n",
    "    def embed(self, graph):\n",
    "        raise NotImplementedError\n",
    "    \n",
    "    def get_embedding(self):\n",
    "        raise NotImplementedError\n",
    "        "
   ]
  },
  {
   "cell_type": "code",
   "execution_count": 74,
   "id": "effd41fd",
   "metadata": {},
   "outputs": [],
   "source": [
    "class GMIEmbedding(BaseEmbedder):\n",
    "    def __init__(self, embed_dim = 64, graph = None, feature_matrix = None, use_xm = False, debug = False, batch_size = 1, nb_epochs = 500, patience = 20, ortho_ = 0.1, sparse_ = 0.1, lr = 1e-3, l2_coef = 0.0, drop_prob = 0.0, sparse = True, nonlinearity = 'prelu', alpha = 0.8, beta = 1.0, gamma = 1.0, negative_num = 5, epoch_flag = 20, model_name = 'test'):\n",
    "\n",
    "        self.embed_dim = embed_dim\n",
    "        self.debug = debug\n",
    "        \n",
    "        # Training Params\n",
    "        self.graph = graph\n",
    "        self.batch_size = batch_size\n",
    "        self.nb_epochs = nb_epochs\n",
    "        self.patience = patience\n",
    "        self.lr = lr\n",
    "        self.l2_coef = l2_coef\n",
    "        self.feature_matrix = feature_matrix\n",
    "        self.drop_prob = drop_prob\n",
    "        self.hid_units = embed_dim\n",
    "        self.sparse = sparse\n",
    "        self.nonlinearity = nonlinearity\n",
    "        self.use_xm = use_xm\n",
    "        self.ortho_ = ortho_\n",
    "        self.sparse_ = sparse_\n",
    "        self.alpha = alpha\n",
    "        self.beta = beta\n",
    "        self.gamma = gamma\n",
    "        self.negative_num = negative_num\n",
    "        self.epoch_flag = epoch_flag\n",
    "        self.model_name = model_name\n",
    "        \n",
    "        self.time_per_epoch = None\n",
    "        \n",
    "        if graph is not None:\n",
    "            self.embed()\n",
    "        else:\n",
    "            self.graph = None\n",
    "    \n",
    "    def embed(self):\n",
    "\n",
    "        ####\n",
    "        if self.feature_matrix is None:\n",
    "            feature_matrix = np.identity(len(self.graph))\n",
    "        else: \n",
    "            feature_matrix = self.feature_matrix\n",
    "\n",
    "        adj_ori = nx.to_scipy_sparse_array(graph)\n",
    "        features = sp.lil_matrix(feature_matrix)\n",
    "        features, _ = process.preprocess_features(features)\n",
    "\n",
    "        nb_nodes = features.shape[0]\n",
    "        ft_size = features.shape[1]\n",
    "        \n",
    "        adj = process.normalize_adj(adj_ori + sp.eye(adj_ori.shape[0]))\n",
    "\n",
    "        if self.sparse:\n",
    "            sp_adj = process.sparse_mx_to_torch_sparse_tensor(adj)\n",
    "        else:\n",
    "            adj = (adj + sp.eye(adj.shape[0])).todense()\n",
    "\n",
    "        features = torch.FloatTensor(features[np.newaxis])\n",
    "        if not self.sparse:\n",
    "            adj = torch.FloatTensor(adj[np.newaxis])\n",
    "\n",
    "        if self.feature_matrix is not None: \n",
    "            sense_features = torch.FloatTensor(self.feature_matrix)\n",
    "\n",
    "        model = GMI(ft_size, self.hid_units, self.nonlinearity)\n",
    "        optimiser = torch.optim.Adam(model.parameters(), lr = self.lr, weight_decay = self.l2_coef)\n",
    "        \n",
    "        if torch.cuda.is_available():\n",
    "            model.cuda()\n",
    "            features = features.cuda()\n",
    "            sp_adj = sp_adj.cuda()\n",
    "            \n",
    "        b_xent = nn.BCEWithLogitsLoss()\n",
    "        xent = nn.CrossEntropyLoss()\n",
    "        cnt_wait = 0\n",
    "        best = 1e9\n",
    "        best_t = 0\n",
    "        \n",
    "        \n",
    "        adj_dense = adj_ori.toarray()\n",
    "        adj_target = adj_dense + np.eye(adj_dense.shape[0])\n",
    "        adj_row_avg = 1.0 / np.sum(adj_dense, axis = 1)\n",
    "        adj_row_avg[np.isnan(adj_row_avg)] = 0.0\n",
    "        adj_row_avg[np.isinf(adj_row_avg)] = 0.0\n",
    "        adj_dense = adj_dense * 1.0\n",
    "        \n",
    "        for i in range(adj_ori.shape[0]):\n",
    "            adj_dense[i] = adj_dense[i] * adj_row_avg[i]\n",
    "        adj_ori = sp.csr_matrix(adj_dense, dtype = np.float32)\n",
    "        \n",
    "        start_time = time.time()\n",
    "        for epoch in tqdm(range(self.nb_epochs)):\n",
    "            model.train()\n",
    "            optimiser.zero_grad()\n",
    "            \n",
    "            res = model(features, adj_ori, self.negative_num, sp_adj, None, None) \n",
    "            \n",
    "            if self.use_xm == True and feature_matrix is not None:\n",
    "                \n",
    "                start_idx = 0\n",
    "                loop = True\n",
    "                \n",
    "                ortho_loss = 0\n",
    "                sparse_loss = 0\n",
    "                xm_batch_size = 1000\n",
    "                \n",
    "                sf = sense_features\n",
    "                embeds = model.embed(features, sp_adj)\n",
    "                                \n",
    "                while loop:\n",
    "                    end_idx = start_idx + xm_batch_size\n",
    "                    if end_idx > len(self.graph):\n",
    "                        loop = False\n",
    "                        end_idx = len(self.graph)\n",
    "                                            \n",
    "                    sf = sense_features[start_idx : end_idx]\n",
    "                    embeds_ = torch.squeeze(embeds)[start_idx : end_idx]\n",
    "                    \n",
    "                    \n",
    "                    sense_mat = torch.einsum('ij, ik -> ijk', embeds_, sf)\n",
    "                    E = sense_mat\n",
    "                    y_norm = torch.diagonal(torch.matmul(embeds_, torch.transpose(embeds_, 0, 1)))\n",
    "                    sense_norm = torch.diagonal(torch.matmul(sf, torch.transpose(sf, 0, 1)))\n",
    "                    norm = torch.multiply(y_norm, sense_norm)\n",
    "                    E = torch.transpose(torch.transpose(E, 0, 2) / norm, 0, 2)\n",
    "\n",
    "                    E_t = torch.transpose(E, 1, 2)\n",
    "                    E_o = torch.einsum('aij, ajh -> aih', E, E_t)\n",
    "                    E_o = torch.sum(E_o)\n",
    "                    batch_ortho_loss = (self.ortho_ * E_o) / self.batch_size\n",
    "\n",
    "                    batch_sparse_loss = (self.sparse_ * torch.sum(torch.linalg.norm(E, ord = 1, axis = 0))) / self.batch_size\n",
    "                        \n",
    "                    ortho_loss += batch_ortho_loss\n",
    "                    sparse_loss += batch_sparse_loss\n",
    "                    \n",
    "                    start_idx = end_idx\n",
    "                    \n",
    "                loss = self.alpha * process.mi_loss_jsd(res[0], res[1]) +\\\n",
    "                       self.beta * process.mi_loss_jsd(res[2], res[3]) +\\\n",
    "                       self.gamma * process.reconstruct_loss(res[4], adj_target) +\\\n",
    "                       ortho_loss +\\\n",
    "                       sparse_loss\n",
    "            else:\n",
    "                loss = self.alpha * process.mi_loss_jsd(res[0], res[1]) +\\\n",
    "                       self.beta * process.mi_loss_jsd(res[2], res[3]) +\\\n",
    "                       self.gamma * process.reconstruct_loss(res[4], adj_target)\n",
    "\n",
    "\n",
    "            if self.debug:\n",
    "                print('Loss:', loss)\n",
    "\n",
    "            if 1:#loss < best:\n",
    "                best = loss\n",
    "                best_t = epoch\n",
    "                cnt_wait = 0\n",
    "                torch.save(model.state_dict(), self.model_name + '.pkl')\n",
    "            else:\n",
    "                cnt_wait += 1\n",
    "\n",
    "            if cnt_wait == self.epoch_flag:\n",
    "                print('Early stopping!')\n",
    "                break\n",
    "\n",
    "            loss.backward()\n",
    "            optimiser.step()\n",
    "            \n",
    "        self.time_per_epoch = (time.time() - start_time) / epoch\n",
    "\n",
    "        if self.debug: \n",
    "            print('Loading {}th epoch'.format(best_t))\n",
    "            \n",
    "        model.load_state_dict(torch.load(self.model_name + '.pkl'))\n",
    "\n",
    "        embeds = model.embed(features, sp_adj)\n",
    "        self.embeddings = embeds\n",
    "    \n",
    "    def get_embedding(self):\n",
    "        return np.squeeze(self.embeddings.numpy())\n",
    "    "
   ]
  },
  {
   "cell_type": "code",
   "execution_count": 4,
   "id": "5ac75cfd",
   "metadata": {},
   "outputs": [
    {
     "name": "stdout",
     "output_type": "stream",
     "text": [
      "Calculating Personalized Page Rank...                     \r"
     ]
    },
    {
     "name": "stderr",
     "output_type": "stream",
     "text": [
      "986it [00:28, 34.85it/s]\n"
     ]
    },
    {
     "name": "stdout",
     "output_type": "stream",
     "text": [
      "Done                                                      \r"
     ]
    },
    {
     "name": "stderr",
     "output_type": "stream",
     "text": [
      "/Users/zohairshafi/miniforge3/lib/python3.10/site-packages/networkx/algorithms/centrality/katz.py:325: FutureWarning: adjacency_matrix will return a scipy.sparse array instead of a matrix in Networkx 3.0.\n",
      "  A = nx.adjacency_matrix(G, nodelist=nodelist, weight=weight).todense().T\n"
     ]
    }
   ],
   "source": [
    "with open('./data/email.pkl', 'rb') as file: \n",
    "    graph_dict = pkl.load(file)\n",
    "    \n",
    "graph = nx.Graph(nx.to_numpy_array(graph_dict['graph']))    \n",
    "graph = nx.Graph(nx.to_numpy_array(graph))\n",
    "\n",
    "\n",
    "sense_feat_dict, sense_features = get_sense_features(graph, ppr_flag = 'std')\n"
   ]
  },
  {
   "cell_type": "code",
   "execution_count": 5,
   "id": "02f9d033",
   "metadata": {},
   "outputs": [],
   "source": [
    "uncorrelated_feats = ['Degree',\n",
    "                    'Clustering Coefficient',\n",
    "                    'Personalized Page Rank - Standard Deviation',\n",
    "                    'Average Neighbor Degree',\n",
    "                    'Average Neighbor Clustering',\n",
    "                    'Eccentricity',\n",
    "                    'Katz Centrality']\n",
    "sense_features = sense_features[:, [list(sense_feat_dict).index(feat) for feat in uncorrelated_feats]]\n",
    "sense_feat_dict = {feat : idx for idx, feat in enumerate(uncorrelated_feats)}"
   ]
  },
  {
   "cell_type": "code",
   "execution_count": 81,
   "id": "59c67ce6",
   "metadata": {
    "scrolled": true
   },
   "outputs": [
    {
     "name": "stderr",
     "output_type": "stream",
     "text": [
      "100%|█████████████████████████████████████████| 500/500 [00:29<00:00, 17.17it/s]\n"
     ]
    }
   ],
   "source": [
    "# gmi_og = GMIEmbedding(graph = graph, \n",
    "#            embed_dim = 64, \n",
    "#            feature_matrix = sense_features, \n",
    "#            use_xm = False, \n",
    "#            ortho_ = 0, \n",
    "#            sparse_ = 0, \n",
    "#            batch_size = 1)\n",
    "# embed_og = gmi_og.get_embedding()\n",
    "# embed_og = (embed_og - np.min(embed_og)) / np.ptp(embed_og)\n",
    "# feature_dict_og = find_feature_membership(input_embed = embed_og,\n",
    "#                                                     embed_name = 'GMI-SF',\n",
    "#                                                     sense_features = sense_features,\n",
    "#                                                     sense_feat_dict = sense_feat_dict,\n",
    "#                                                     top_k = 8,\n",
    "#                                                     solver = 'nmf')\n",
    "\n",
    "# explain_og = feature_dict_og['explain_norm']\n",
    "# error_og = sense_features * np.log((sense_features + 1e-10) / ((embed_og @ feature_dict_og['explain_norm']) + 1e-10)) - sense_features + (embed_og @ feature_dict_og['explain_norm'])\n",
    "# explain_og = (explain_og - np.min(explain_og)) / np.ptp(explain_og)\n",
    "\n",
    "\n",
    "gmi_plus = GMIEmbedding(graph = graph, \n",
    "           embed_dim = 64, \n",
    "           feature_matrix = sense_features, \n",
    "           use_xm = True, \n",
    "           ortho_ = 10, \n",
    "           sparse_ = 10, \n",
    "           batch_size = 1, \n",
    "           epoch_flag = 1000)\n",
    "embed_plus = gmi_plus.get_embedding()\n",
    "embed_plus = (embed_plus - np.min(embed_plus)) / np.ptp(embed_plus)\n",
    "feature_dict_plus = find_feature_membership(input_embed = embed_plus,\n",
    "                                                    embed_name = 'GMI+XM',\n",
    "                                                    sense_features = sense_features,\n",
    "                                                    sense_feat_dict = sense_feat_dict,\n",
    "                                                    top_k = 8,\n",
    "                                                    solver = 'nmf')\n",
    "\n",
    "explain_plus = feature_dict_plus['explain_norm']\n",
    "error_plus = sense_features * np.log((sense_features + 1e-10) / ((embed_plus @ feature_dict_plus['explain_norm']) + 1e-10)) - sense_features + (embed_plus @ feature_dict_plus['explain_norm'])\n",
    "explain_plus = (explain_plus - np.min(explain_plus)) / np.ptp(explain_plus)"
   ]
  },
  {
   "cell_type": "code",
   "execution_count": 76,
   "id": "415d5bf6",
   "metadata": {},
   "outputs": [
    {
     "data": {
      "application/vnd.plotly.v1+json": {
       "config": {
        "plotlyServerURL": "https://plot.ly"
       },
       "data": [
        {
         "type": "heatmap",
         "x": [
          "Degree",
          "Clustering Coefficient",
          "Personalized Page Rank - Standard Deviation",
          "Average Neighbor Degree",
          "Average Neighbor Clustering",
          "Eccentricity",
          "Katz Centrality"
         ],
         "z": [
          [
           0,
           0,
           0,
           0,
           0,
           0,
           0
          ],
          [
           0,
           0,
           0,
           0,
           0,
           0,
           0
          ],
          [
           0,
           0,
           0,
           0,
           0,
           0,
           0.3383806049823761
          ],
          [
           0,
           0,
           0,
           0,
           0,
           0,
           0
          ],
          [
           0,
           0,
           0,
           0,
           0,
           0,
           0
          ],
          [
           0,
           0,
           0,
           0,
           0,
           0,
           0
          ],
          [
           0,
           0,
           0,
           0,
           0,
           0,
           0
          ],
          [
           0,
           0,
           0,
           0,
           0,
           0,
           0
          ],
          [
           0,
           0,
           0,
           0,
           0.00021319770894479007,
           0,
           0
          ],
          [
           0,
           0,
           0,
           0,
           0,
           0,
           0
          ],
          [
           0,
           0,
           0,
           0,
           0,
           0,
           0
          ],
          [
           0,
           0,
           0,
           0,
           0,
           0,
           0
          ],
          [
           0,
           0,
           0,
           0,
           0,
           0,
           0
          ],
          [
           0,
           0,
           0,
           0,
           0,
           0,
           0
          ],
          [
           0,
           0,
           0,
           0,
           0,
           0,
           0
          ],
          [
           0,
           0,
           0,
           0,
           0,
           0,
           0
          ],
          [
           0,
           0,
           0,
           0,
           0,
           0,
           0
          ],
          [
           0,
           0,
           0,
           0,
           0,
           0,
           0
          ],
          [
           0,
           0,
           0,
           0,
           0,
           1,
           0
          ],
          [
           0,
           0,
           0,
           0,
           0,
           0,
           0
          ],
          [
           0,
           0,
           0,
           0,
           0,
           0,
           0
          ],
          [
           0,
           0.8999010920524597,
           0,
           0,
           0.18897618353366852,
           0,
           0
          ],
          [
           0,
           0,
           0,
           0,
           0,
           0,
           0.17288337647914886
          ],
          [
           0,
           0,
           0,
           0.24167107045650482,
           0,
           0,
           0
          ],
          [
           0,
           0,
           0,
           0,
           0,
           0,
           0
          ],
          [
           0,
           0,
           0,
           0,
           0,
           0,
           0
          ],
          [
           0,
           0,
           0.26807963848114014,
           0,
           0,
           0,
           0.06040474772453308
          ],
          [
           0,
           0,
           0,
           0,
           0,
           0,
           0
          ],
          [
           0,
           0,
           0,
           0,
           0,
           0,
           0
          ],
          [
           0,
           0,
           0,
           0,
           0,
           0,
           0
          ],
          [
           0,
           0,
           0,
           0,
           0,
           0,
           0
          ],
          [
           0,
           0,
           0,
           0.029747772961854935,
           0.13946522772312164,
           0,
           0
          ],
          [
           0,
           0,
           0,
           0,
           0,
           0,
           0
          ],
          [
           0,
           0,
           0,
           0,
           0,
           0,
           0
          ],
          [
           0,
           0,
           0,
           0,
           0,
           0,
           0
          ],
          [
           0,
           0,
           0,
           0,
           0,
           0,
           0.05807766690850258
          ],
          [
           0,
           0,
           0,
           0,
           0,
           0,
           0
          ],
          [
           0,
           0,
           0,
           0,
           0,
           0,
           0
          ],
          [
           0,
           0,
           0,
           0,
           0,
           0,
           0
          ],
          [
           0,
           0,
           0,
           0,
           0,
           0,
           0
          ],
          [
           0,
           0,
           0,
           0,
           0,
           0,
           0
          ],
          [
           0,
           0,
           0,
           0,
           0,
           0,
           0.06200193241238594
          ],
          [
           0,
           0,
           0,
           0,
           0,
           0,
           0.14557214081287384
          ],
          [
           0,
           0,
           0,
           0,
           0,
           0,
           0
          ],
          [
           0,
           0,
           0,
           0,
           0,
           0,
           0
          ],
          [
           0,
           0,
           0,
           0,
           0,
           0,
           0
          ],
          [
           0,
           0,
           0,
           0,
           0,
           0,
           0
          ],
          [
           0,
           0,
           0,
           0,
           0,
           0,
           0
          ],
          [
           0,
           0,
           0,
           0,
           0,
           0,
           0
          ],
          [
           0,
           0,
           0,
           0,
           0,
           0,
           0
          ],
          [
           0,
           0,
           0,
           0,
           0,
           0,
           0
          ],
          [
           0,
           0,
           0,
           0,
           0,
           0,
           0
          ],
          [
           0,
           0,
           0,
           0,
           0,
           0,
           0
          ],
          [
           0,
           0,
           0,
           0,
           0,
           0,
           0
          ],
          [
           0,
           0,
           0,
           0,
           0,
           0,
           0
          ],
          [
           0,
           0,
           0,
           0,
           0.31891360878944397,
           0,
           0
          ],
          [
           0,
           0,
           0,
           0,
           0,
           0,
           0
          ],
          [
           0,
           0,
           0.6099778413772583,
           0,
           0,
           0,
           0
          ],
          [
           0.8142306804656982,
           0,
           0,
           0,
           0.14750699698925018,
           0,
           0
          ],
          [
           0,
           0,
           0,
           0.6130747199058533,
           0,
           0,
           0
          ],
          [
           0,
           0,
           0,
           0,
           0,
           0,
           0
          ],
          [
           0,
           0,
           0,
           0,
           0,
           0,
           0
          ],
          [
           0,
           0,
           0,
           0,
           0,
           0,
           0
          ],
          [
           0,
           0,
           0,
           0,
           0.003841326106339693,
           0,
           0
          ]
         ]
        }
       ],
       "layout": {
        "template": {
         "data": {
          "bar": [
           {
            "error_x": {
             "color": "#2a3f5f"
            },
            "error_y": {
             "color": "#2a3f5f"
            },
            "marker": {
             "line": {
              "color": "#E5ECF6",
              "width": 0.5
             },
             "pattern": {
              "fillmode": "overlay",
              "size": 10,
              "solidity": 0.2
             }
            },
            "type": "bar"
           }
          ],
          "barpolar": [
           {
            "marker": {
             "line": {
              "color": "#E5ECF6",
              "width": 0.5
             },
             "pattern": {
              "fillmode": "overlay",
              "size": 10,
              "solidity": 0.2
             }
            },
            "type": "barpolar"
           }
          ],
          "carpet": [
           {
            "aaxis": {
             "endlinecolor": "#2a3f5f",
             "gridcolor": "white",
             "linecolor": "white",
             "minorgridcolor": "white",
             "startlinecolor": "#2a3f5f"
            },
            "baxis": {
             "endlinecolor": "#2a3f5f",
             "gridcolor": "white",
             "linecolor": "white",
             "minorgridcolor": "white",
             "startlinecolor": "#2a3f5f"
            },
            "type": "carpet"
           }
          ],
          "choropleth": [
           {
            "colorbar": {
             "outlinewidth": 0,
             "ticks": ""
            },
            "type": "choropleth"
           }
          ],
          "contour": [
           {
            "colorbar": {
             "outlinewidth": 0,
             "ticks": ""
            },
            "colorscale": [
             [
              0,
              "#0d0887"
             ],
             [
              0.1111111111111111,
              "#46039f"
             ],
             [
              0.2222222222222222,
              "#7201a8"
             ],
             [
              0.3333333333333333,
              "#9c179e"
             ],
             [
              0.4444444444444444,
              "#bd3786"
             ],
             [
              0.5555555555555556,
              "#d8576b"
             ],
             [
              0.6666666666666666,
              "#ed7953"
             ],
             [
              0.7777777777777778,
              "#fb9f3a"
             ],
             [
              0.8888888888888888,
              "#fdca26"
             ],
             [
              1,
              "#f0f921"
             ]
            ],
            "type": "contour"
           }
          ],
          "contourcarpet": [
           {
            "colorbar": {
             "outlinewidth": 0,
             "ticks": ""
            },
            "type": "contourcarpet"
           }
          ],
          "heatmap": [
           {
            "colorbar": {
             "outlinewidth": 0,
             "ticks": ""
            },
            "colorscale": [
             [
              0,
              "#0d0887"
             ],
             [
              0.1111111111111111,
              "#46039f"
             ],
             [
              0.2222222222222222,
              "#7201a8"
             ],
             [
              0.3333333333333333,
              "#9c179e"
             ],
             [
              0.4444444444444444,
              "#bd3786"
             ],
             [
              0.5555555555555556,
              "#d8576b"
             ],
             [
              0.6666666666666666,
              "#ed7953"
             ],
             [
              0.7777777777777778,
              "#fb9f3a"
             ],
             [
              0.8888888888888888,
              "#fdca26"
             ],
             [
              1,
              "#f0f921"
             ]
            ],
            "type": "heatmap"
           }
          ],
          "heatmapgl": [
           {
            "colorbar": {
             "outlinewidth": 0,
             "ticks": ""
            },
            "colorscale": [
             [
              0,
              "#0d0887"
             ],
             [
              0.1111111111111111,
              "#46039f"
             ],
             [
              0.2222222222222222,
              "#7201a8"
             ],
             [
              0.3333333333333333,
              "#9c179e"
             ],
             [
              0.4444444444444444,
              "#bd3786"
             ],
             [
              0.5555555555555556,
              "#d8576b"
             ],
             [
              0.6666666666666666,
              "#ed7953"
             ],
             [
              0.7777777777777778,
              "#fb9f3a"
             ],
             [
              0.8888888888888888,
              "#fdca26"
             ],
             [
              1,
              "#f0f921"
             ]
            ],
            "type": "heatmapgl"
           }
          ],
          "histogram": [
           {
            "marker": {
             "pattern": {
              "fillmode": "overlay",
              "size": 10,
              "solidity": 0.2
             }
            },
            "type": "histogram"
           }
          ],
          "histogram2d": [
           {
            "colorbar": {
             "outlinewidth": 0,
             "ticks": ""
            },
            "colorscale": [
             [
              0,
              "#0d0887"
             ],
             [
              0.1111111111111111,
              "#46039f"
             ],
             [
              0.2222222222222222,
              "#7201a8"
             ],
             [
              0.3333333333333333,
              "#9c179e"
             ],
             [
              0.4444444444444444,
              "#bd3786"
             ],
             [
              0.5555555555555556,
              "#d8576b"
             ],
             [
              0.6666666666666666,
              "#ed7953"
             ],
             [
              0.7777777777777778,
              "#fb9f3a"
             ],
             [
              0.8888888888888888,
              "#fdca26"
             ],
             [
              1,
              "#f0f921"
             ]
            ],
            "type": "histogram2d"
           }
          ],
          "histogram2dcontour": [
           {
            "colorbar": {
             "outlinewidth": 0,
             "ticks": ""
            },
            "colorscale": [
             [
              0,
              "#0d0887"
             ],
             [
              0.1111111111111111,
              "#46039f"
             ],
             [
              0.2222222222222222,
              "#7201a8"
             ],
             [
              0.3333333333333333,
              "#9c179e"
             ],
             [
              0.4444444444444444,
              "#bd3786"
             ],
             [
              0.5555555555555556,
              "#d8576b"
             ],
             [
              0.6666666666666666,
              "#ed7953"
             ],
             [
              0.7777777777777778,
              "#fb9f3a"
             ],
             [
              0.8888888888888888,
              "#fdca26"
             ],
             [
              1,
              "#f0f921"
             ]
            ],
            "type": "histogram2dcontour"
           }
          ],
          "mesh3d": [
           {
            "colorbar": {
             "outlinewidth": 0,
             "ticks": ""
            },
            "type": "mesh3d"
           }
          ],
          "parcoords": [
           {
            "line": {
             "colorbar": {
              "outlinewidth": 0,
              "ticks": ""
             }
            },
            "type": "parcoords"
           }
          ],
          "pie": [
           {
            "automargin": true,
            "type": "pie"
           }
          ],
          "scatter": [
           {
            "fillpattern": {
             "fillmode": "overlay",
             "size": 10,
             "solidity": 0.2
            },
            "type": "scatter"
           }
          ],
          "scatter3d": [
           {
            "line": {
             "colorbar": {
              "outlinewidth": 0,
              "ticks": ""
             }
            },
            "marker": {
             "colorbar": {
              "outlinewidth": 0,
              "ticks": ""
             }
            },
            "type": "scatter3d"
           }
          ],
          "scattercarpet": [
           {
            "marker": {
             "colorbar": {
              "outlinewidth": 0,
              "ticks": ""
             }
            },
            "type": "scattercarpet"
           }
          ],
          "scattergeo": [
           {
            "marker": {
             "colorbar": {
              "outlinewidth": 0,
              "ticks": ""
             }
            },
            "type": "scattergeo"
           }
          ],
          "scattergl": [
           {
            "marker": {
             "colorbar": {
              "outlinewidth": 0,
              "ticks": ""
             }
            },
            "type": "scattergl"
           }
          ],
          "scattermapbox": [
           {
            "marker": {
             "colorbar": {
              "outlinewidth": 0,
              "ticks": ""
             }
            },
            "type": "scattermapbox"
           }
          ],
          "scatterpolar": [
           {
            "marker": {
             "colorbar": {
              "outlinewidth": 0,
              "ticks": ""
             }
            },
            "type": "scatterpolar"
           }
          ],
          "scatterpolargl": [
           {
            "marker": {
             "colorbar": {
              "outlinewidth": 0,
              "ticks": ""
             }
            },
            "type": "scatterpolargl"
           }
          ],
          "scatterternary": [
           {
            "marker": {
             "colorbar": {
              "outlinewidth": 0,
              "ticks": ""
             }
            },
            "type": "scatterternary"
           }
          ],
          "surface": [
           {
            "colorbar": {
             "outlinewidth": 0,
             "ticks": ""
            },
            "colorscale": [
             [
              0,
              "#0d0887"
             ],
             [
              0.1111111111111111,
              "#46039f"
             ],
             [
              0.2222222222222222,
              "#7201a8"
             ],
             [
              0.3333333333333333,
              "#9c179e"
             ],
             [
              0.4444444444444444,
              "#bd3786"
             ],
             [
              0.5555555555555556,
              "#d8576b"
             ],
             [
              0.6666666666666666,
              "#ed7953"
             ],
             [
              0.7777777777777778,
              "#fb9f3a"
             ],
             [
              0.8888888888888888,
              "#fdca26"
             ],
             [
              1,
              "#f0f921"
             ]
            ],
            "type": "surface"
           }
          ],
          "table": [
           {
            "cells": {
             "fill": {
              "color": "#EBF0F8"
             },
             "line": {
              "color": "white"
             }
            },
            "header": {
             "fill": {
              "color": "#C8D4E3"
             },
             "line": {
              "color": "white"
             }
            },
            "type": "table"
           }
          ]
         },
         "layout": {
          "annotationdefaults": {
           "arrowcolor": "#2a3f5f",
           "arrowhead": 0,
           "arrowwidth": 1
          },
          "autotypenumbers": "strict",
          "coloraxis": {
           "colorbar": {
            "outlinewidth": 0,
            "ticks": ""
           }
          },
          "colorscale": {
           "diverging": [
            [
             0,
             "#8e0152"
            ],
            [
             0.1,
             "#c51b7d"
            ],
            [
             0.2,
             "#de77ae"
            ],
            [
             0.3,
             "#f1b6da"
            ],
            [
             0.4,
             "#fde0ef"
            ],
            [
             0.5,
             "#f7f7f7"
            ],
            [
             0.6,
             "#e6f5d0"
            ],
            [
             0.7,
             "#b8e186"
            ],
            [
             0.8,
             "#7fbc41"
            ],
            [
             0.9,
             "#4d9221"
            ],
            [
             1,
             "#276419"
            ]
           ],
           "sequential": [
            [
             0,
             "#0d0887"
            ],
            [
             0.1111111111111111,
             "#46039f"
            ],
            [
             0.2222222222222222,
             "#7201a8"
            ],
            [
             0.3333333333333333,
             "#9c179e"
            ],
            [
             0.4444444444444444,
             "#bd3786"
            ],
            [
             0.5555555555555556,
             "#d8576b"
            ],
            [
             0.6666666666666666,
             "#ed7953"
            ],
            [
             0.7777777777777778,
             "#fb9f3a"
            ],
            [
             0.8888888888888888,
             "#fdca26"
            ],
            [
             1,
             "#f0f921"
            ]
           ],
           "sequentialminus": [
            [
             0,
             "#0d0887"
            ],
            [
             0.1111111111111111,
             "#46039f"
            ],
            [
             0.2222222222222222,
             "#7201a8"
            ],
            [
             0.3333333333333333,
             "#9c179e"
            ],
            [
             0.4444444444444444,
             "#bd3786"
            ],
            [
             0.5555555555555556,
             "#d8576b"
            ],
            [
             0.6666666666666666,
             "#ed7953"
            ],
            [
             0.7777777777777778,
             "#fb9f3a"
            ],
            [
             0.8888888888888888,
             "#fdca26"
            ],
            [
             1,
             "#f0f921"
            ]
           ]
          },
          "colorway": [
           "#636efa",
           "#EF553B",
           "#00cc96",
           "#ab63fa",
           "#FFA15A",
           "#19d3f3",
           "#FF6692",
           "#B6E880",
           "#FF97FF",
           "#FECB52"
          ],
          "font": {
           "color": "#2a3f5f"
          },
          "geo": {
           "bgcolor": "white",
           "lakecolor": "white",
           "landcolor": "#E5ECF6",
           "showlakes": true,
           "showland": true,
           "subunitcolor": "white"
          },
          "hoverlabel": {
           "align": "left"
          },
          "hovermode": "closest",
          "mapbox": {
           "style": "light"
          },
          "paper_bgcolor": "white",
          "plot_bgcolor": "#E5ECF6",
          "polar": {
           "angularaxis": {
            "gridcolor": "white",
            "linecolor": "white",
            "ticks": ""
           },
           "bgcolor": "#E5ECF6",
           "radialaxis": {
            "gridcolor": "white",
            "linecolor": "white",
            "ticks": ""
           }
          },
          "scene": {
           "xaxis": {
            "backgroundcolor": "#E5ECF6",
            "gridcolor": "white",
            "gridwidth": 2,
            "linecolor": "white",
            "showbackground": true,
            "ticks": "",
            "zerolinecolor": "white"
           },
           "yaxis": {
            "backgroundcolor": "#E5ECF6",
            "gridcolor": "white",
            "gridwidth": 2,
            "linecolor": "white",
            "showbackground": true,
            "ticks": "",
            "zerolinecolor": "white"
           },
           "zaxis": {
            "backgroundcolor": "#E5ECF6",
            "gridcolor": "white",
            "gridwidth": 2,
            "linecolor": "white",
            "showbackground": true,
            "ticks": "",
            "zerolinecolor": "white"
           }
          },
          "shapedefaults": {
           "line": {
            "color": "#2a3f5f"
           }
          },
          "ternary": {
           "aaxis": {
            "gridcolor": "white",
            "linecolor": "white",
            "ticks": ""
           },
           "baxis": {
            "gridcolor": "white",
            "linecolor": "white",
            "ticks": ""
           },
           "bgcolor": "#E5ECF6",
           "caxis": {
            "gridcolor": "white",
            "linecolor": "white",
            "ticks": ""
           }
          },
          "title": {
           "x": 0.05
          },
          "xaxis": {
           "automargin": true,
           "gridcolor": "white",
           "linecolor": "white",
           "ticks": "",
           "title": {
            "standoff": 15
           },
           "zerolinecolor": "white",
           "zerolinewidth": 2
          },
          "yaxis": {
           "automargin": true,
           "gridcolor": "white",
           "linecolor": "white",
           "ticks": "",
           "title": {
            "standoff": 15
           },
           "zerolinecolor": "white",
           "zerolinewidth": 2
          }
         }
        },
        "title": {
         "text": "DGI : 4.8312044"
        },
        "xaxis": {
         "title": {
          "text": "Sense Features"
         }
        },
        "yaxis": {
         "title": {
          "text": "Dimensions"
         }
        }
       }
      },
      "text/html": [
       "<div>                            <div id=\"40f80c68-c8a1-4f75-8b0b-be9dcd7625ac\" class=\"plotly-graph-div\" style=\"height:525px; width:100%;\"></div>            <script type=\"text/javascript\">                require([\"plotly\"], function(Plotly) {                    window.PLOTLYENV=window.PLOTLYENV || {};                                    if (document.getElementById(\"40f80c68-c8a1-4f75-8b0b-be9dcd7625ac\")) {                    Plotly.newPlot(                        \"40f80c68-c8a1-4f75-8b0b-be9dcd7625ac\",                        [{\"x\":[\"Degree\",\"Clustering Coefficient\",\"Personalized Page Rank - Standard Deviation\",\"Average Neighbor Degree\",\"Average Neighbor Clustering\",\"Eccentricity\",\"Katz Centrality\"],\"z\":[[0.0,0.0,0.0,0.0,0.0,0.0,0.0],[0.0,0.0,0.0,0.0,0.0,0.0,0.0],[0.0,0.0,0.0,0.0,0.0,0.0,0.3383806049823761],[0.0,0.0,0.0,0.0,0.0,0.0,0.0],[0.0,0.0,0.0,0.0,0.0,0.0,0.0],[0.0,0.0,0.0,0.0,0.0,0.0,0.0],[0.0,0.0,0.0,0.0,0.0,0.0,0.0],[0.0,0.0,0.0,0.0,0.0,0.0,0.0],[0.0,0.0,0.0,0.0,0.00021319770894479007,0.0,0.0],[0.0,0.0,0.0,0.0,0.0,0.0,0.0],[0.0,0.0,0.0,0.0,0.0,0.0,0.0],[0.0,0.0,0.0,0.0,0.0,0.0,0.0],[0.0,0.0,0.0,0.0,0.0,0.0,0.0],[0.0,0.0,0.0,0.0,0.0,0.0,0.0],[0.0,0.0,0.0,0.0,0.0,0.0,0.0],[0.0,0.0,0.0,0.0,0.0,0.0,0.0],[0.0,0.0,0.0,0.0,0.0,0.0,0.0],[0.0,0.0,0.0,0.0,0.0,0.0,0.0],[0.0,0.0,0.0,0.0,0.0,1.0,0.0],[0.0,0.0,0.0,0.0,0.0,0.0,0.0],[0.0,0.0,0.0,0.0,0.0,0.0,0.0],[0.0,0.8999010920524597,0.0,0.0,0.18897618353366852,0.0,0.0],[0.0,0.0,0.0,0.0,0.0,0.0,0.17288337647914886],[0.0,0.0,0.0,0.24167107045650482,0.0,0.0,0.0],[0.0,0.0,0.0,0.0,0.0,0.0,0.0],[0.0,0.0,0.0,0.0,0.0,0.0,0.0],[0.0,0.0,0.26807963848114014,0.0,0.0,0.0,0.06040474772453308],[0.0,0.0,0.0,0.0,0.0,0.0,0.0],[0.0,0.0,0.0,0.0,0.0,0.0,0.0],[0.0,0.0,0.0,0.0,0.0,0.0,0.0],[0.0,0.0,0.0,0.0,0.0,0.0,0.0],[0.0,0.0,0.0,0.029747772961854935,0.13946522772312164,0.0,0.0],[0.0,0.0,0.0,0.0,0.0,0.0,0.0],[0.0,0.0,0.0,0.0,0.0,0.0,0.0],[0.0,0.0,0.0,0.0,0.0,0.0,0.0],[0.0,0.0,0.0,0.0,0.0,0.0,0.05807766690850258],[0.0,0.0,0.0,0.0,0.0,0.0,0.0],[0.0,0.0,0.0,0.0,0.0,0.0,0.0],[0.0,0.0,0.0,0.0,0.0,0.0,0.0],[0.0,0.0,0.0,0.0,0.0,0.0,0.0],[0.0,0.0,0.0,0.0,0.0,0.0,0.0],[0.0,0.0,0.0,0.0,0.0,0.0,0.06200193241238594],[0.0,0.0,0.0,0.0,0.0,0.0,0.14557214081287384],[0.0,0.0,0.0,0.0,0.0,0.0,0.0],[0.0,0.0,0.0,0.0,0.0,0.0,0.0],[0.0,0.0,0.0,0.0,0.0,0.0,0.0],[0.0,0.0,0.0,0.0,0.0,0.0,0.0],[0.0,0.0,0.0,0.0,0.0,0.0,0.0],[0.0,0.0,0.0,0.0,0.0,0.0,0.0],[0.0,0.0,0.0,0.0,0.0,0.0,0.0],[0.0,0.0,0.0,0.0,0.0,0.0,0.0],[0.0,0.0,0.0,0.0,0.0,0.0,0.0],[0.0,0.0,0.0,0.0,0.0,0.0,0.0],[0.0,0.0,0.0,0.0,0.0,0.0,0.0],[0.0,0.0,0.0,0.0,0.0,0.0,0.0],[0.0,0.0,0.0,0.0,0.31891360878944397,0.0,0.0],[0.0,0.0,0.0,0.0,0.0,0.0,0.0],[0.0,0.0,0.6099778413772583,0.0,0.0,0.0,0.0],[0.8142306804656982,0.0,0.0,0.0,0.14750699698925018,0.0,0.0],[0.0,0.0,0.0,0.6130747199058533,0.0,0.0,0.0],[0.0,0.0,0.0,0.0,0.0,0.0,0.0],[0.0,0.0,0.0,0.0,0.0,0.0,0.0],[0.0,0.0,0.0,0.0,0.0,0.0,0.0],[0.0,0.0,0.0,0.0,0.003841326106339693,0.0,0.0]],\"type\":\"heatmap\"}],                        {\"template\":{\"data\":{\"histogram2dcontour\":[{\"type\":\"histogram2dcontour\",\"colorbar\":{\"outlinewidth\":0,\"ticks\":\"\"},\"colorscale\":[[0.0,\"#0d0887\"],[0.1111111111111111,\"#46039f\"],[0.2222222222222222,\"#7201a8\"],[0.3333333333333333,\"#9c179e\"],[0.4444444444444444,\"#bd3786\"],[0.5555555555555556,\"#d8576b\"],[0.6666666666666666,\"#ed7953\"],[0.7777777777777778,\"#fb9f3a\"],[0.8888888888888888,\"#fdca26\"],[1.0,\"#f0f921\"]]}],\"choropleth\":[{\"type\":\"choropleth\",\"colorbar\":{\"outlinewidth\":0,\"ticks\":\"\"}}],\"histogram2d\":[{\"type\":\"histogram2d\",\"colorbar\":{\"outlinewidth\":0,\"ticks\":\"\"},\"colorscale\":[[0.0,\"#0d0887\"],[0.1111111111111111,\"#46039f\"],[0.2222222222222222,\"#7201a8\"],[0.3333333333333333,\"#9c179e\"],[0.4444444444444444,\"#bd3786\"],[0.5555555555555556,\"#d8576b\"],[0.6666666666666666,\"#ed7953\"],[0.7777777777777778,\"#fb9f3a\"],[0.8888888888888888,\"#fdca26\"],[1.0,\"#f0f921\"]]}],\"heatmap\":[{\"type\":\"heatmap\",\"colorbar\":{\"outlinewidth\":0,\"ticks\":\"\"},\"colorscale\":[[0.0,\"#0d0887\"],[0.1111111111111111,\"#46039f\"],[0.2222222222222222,\"#7201a8\"],[0.3333333333333333,\"#9c179e\"],[0.4444444444444444,\"#bd3786\"],[0.5555555555555556,\"#d8576b\"],[0.6666666666666666,\"#ed7953\"],[0.7777777777777778,\"#fb9f3a\"],[0.8888888888888888,\"#fdca26\"],[1.0,\"#f0f921\"]]}],\"heatmapgl\":[{\"type\":\"heatmapgl\",\"colorbar\":{\"outlinewidth\":0,\"ticks\":\"\"},\"colorscale\":[[0.0,\"#0d0887\"],[0.1111111111111111,\"#46039f\"],[0.2222222222222222,\"#7201a8\"],[0.3333333333333333,\"#9c179e\"],[0.4444444444444444,\"#bd3786\"],[0.5555555555555556,\"#d8576b\"],[0.6666666666666666,\"#ed7953\"],[0.7777777777777778,\"#fb9f3a\"],[0.8888888888888888,\"#fdca26\"],[1.0,\"#f0f921\"]]}],\"contourcarpet\":[{\"type\":\"contourcarpet\",\"colorbar\":{\"outlinewidth\":0,\"ticks\":\"\"}}],\"contour\":[{\"type\":\"contour\",\"colorbar\":{\"outlinewidth\":0,\"ticks\":\"\"},\"colorscale\":[[0.0,\"#0d0887\"],[0.1111111111111111,\"#46039f\"],[0.2222222222222222,\"#7201a8\"],[0.3333333333333333,\"#9c179e\"],[0.4444444444444444,\"#bd3786\"],[0.5555555555555556,\"#d8576b\"],[0.6666666666666666,\"#ed7953\"],[0.7777777777777778,\"#fb9f3a\"],[0.8888888888888888,\"#fdca26\"],[1.0,\"#f0f921\"]]}],\"surface\":[{\"type\":\"surface\",\"colorbar\":{\"outlinewidth\":0,\"ticks\":\"\"},\"colorscale\":[[0.0,\"#0d0887\"],[0.1111111111111111,\"#46039f\"],[0.2222222222222222,\"#7201a8\"],[0.3333333333333333,\"#9c179e\"],[0.4444444444444444,\"#bd3786\"],[0.5555555555555556,\"#d8576b\"],[0.6666666666666666,\"#ed7953\"],[0.7777777777777778,\"#fb9f3a\"],[0.8888888888888888,\"#fdca26\"],[1.0,\"#f0f921\"]]}],\"mesh3d\":[{\"type\":\"mesh3d\",\"colorbar\":{\"outlinewidth\":0,\"ticks\":\"\"}}],\"scatter\":[{\"fillpattern\":{\"fillmode\":\"overlay\",\"size\":10,\"solidity\":0.2},\"type\":\"scatter\"}],\"parcoords\":[{\"type\":\"parcoords\",\"line\":{\"colorbar\":{\"outlinewidth\":0,\"ticks\":\"\"}}}],\"scatterpolargl\":[{\"type\":\"scatterpolargl\",\"marker\":{\"colorbar\":{\"outlinewidth\":0,\"ticks\":\"\"}}}],\"bar\":[{\"error_x\":{\"color\":\"#2a3f5f\"},\"error_y\":{\"color\":\"#2a3f5f\"},\"marker\":{\"line\":{\"color\":\"#E5ECF6\",\"width\":0.5},\"pattern\":{\"fillmode\":\"overlay\",\"size\":10,\"solidity\":0.2}},\"type\":\"bar\"}],\"scattergeo\":[{\"type\":\"scattergeo\",\"marker\":{\"colorbar\":{\"outlinewidth\":0,\"ticks\":\"\"}}}],\"scatterpolar\":[{\"type\":\"scatterpolar\",\"marker\":{\"colorbar\":{\"outlinewidth\":0,\"ticks\":\"\"}}}],\"histogram\":[{\"marker\":{\"pattern\":{\"fillmode\":\"overlay\",\"size\":10,\"solidity\":0.2}},\"type\":\"histogram\"}],\"scattergl\":[{\"type\":\"scattergl\",\"marker\":{\"colorbar\":{\"outlinewidth\":0,\"ticks\":\"\"}}}],\"scatter3d\":[{\"type\":\"scatter3d\",\"line\":{\"colorbar\":{\"outlinewidth\":0,\"ticks\":\"\"}},\"marker\":{\"colorbar\":{\"outlinewidth\":0,\"ticks\":\"\"}}}],\"scattermapbox\":[{\"type\":\"scattermapbox\",\"marker\":{\"colorbar\":{\"outlinewidth\":0,\"ticks\":\"\"}}}],\"scatterternary\":[{\"type\":\"scatterternary\",\"marker\":{\"colorbar\":{\"outlinewidth\":0,\"ticks\":\"\"}}}],\"scattercarpet\":[{\"type\":\"scattercarpet\",\"marker\":{\"colorbar\":{\"outlinewidth\":0,\"ticks\":\"\"}}}],\"carpet\":[{\"aaxis\":{\"endlinecolor\":\"#2a3f5f\",\"gridcolor\":\"white\",\"linecolor\":\"white\",\"minorgridcolor\":\"white\",\"startlinecolor\":\"#2a3f5f\"},\"baxis\":{\"endlinecolor\":\"#2a3f5f\",\"gridcolor\":\"white\",\"linecolor\":\"white\",\"minorgridcolor\":\"white\",\"startlinecolor\":\"#2a3f5f\"},\"type\":\"carpet\"}],\"table\":[{\"cells\":{\"fill\":{\"color\":\"#EBF0F8\"},\"line\":{\"color\":\"white\"}},\"header\":{\"fill\":{\"color\":\"#C8D4E3\"},\"line\":{\"color\":\"white\"}},\"type\":\"table\"}],\"barpolar\":[{\"marker\":{\"line\":{\"color\":\"#E5ECF6\",\"width\":0.5},\"pattern\":{\"fillmode\":\"overlay\",\"size\":10,\"solidity\":0.2}},\"type\":\"barpolar\"}],\"pie\":[{\"automargin\":true,\"type\":\"pie\"}]},\"layout\":{\"autotypenumbers\":\"strict\",\"colorway\":[\"#636efa\",\"#EF553B\",\"#00cc96\",\"#ab63fa\",\"#FFA15A\",\"#19d3f3\",\"#FF6692\",\"#B6E880\",\"#FF97FF\",\"#FECB52\"],\"font\":{\"color\":\"#2a3f5f\"},\"hovermode\":\"closest\",\"hoverlabel\":{\"align\":\"left\"},\"paper_bgcolor\":\"white\",\"plot_bgcolor\":\"#E5ECF6\",\"polar\":{\"bgcolor\":\"#E5ECF6\",\"angularaxis\":{\"gridcolor\":\"white\",\"linecolor\":\"white\",\"ticks\":\"\"},\"radialaxis\":{\"gridcolor\":\"white\",\"linecolor\":\"white\",\"ticks\":\"\"}},\"ternary\":{\"bgcolor\":\"#E5ECF6\",\"aaxis\":{\"gridcolor\":\"white\",\"linecolor\":\"white\",\"ticks\":\"\"},\"baxis\":{\"gridcolor\":\"white\",\"linecolor\":\"white\",\"ticks\":\"\"},\"caxis\":{\"gridcolor\":\"white\",\"linecolor\":\"white\",\"ticks\":\"\"}},\"coloraxis\":{\"colorbar\":{\"outlinewidth\":0,\"ticks\":\"\"}},\"colorscale\":{\"sequential\":[[0.0,\"#0d0887\"],[0.1111111111111111,\"#46039f\"],[0.2222222222222222,\"#7201a8\"],[0.3333333333333333,\"#9c179e\"],[0.4444444444444444,\"#bd3786\"],[0.5555555555555556,\"#d8576b\"],[0.6666666666666666,\"#ed7953\"],[0.7777777777777778,\"#fb9f3a\"],[0.8888888888888888,\"#fdca26\"],[1.0,\"#f0f921\"]],\"sequentialminus\":[[0.0,\"#0d0887\"],[0.1111111111111111,\"#46039f\"],[0.2222222222222222,\"#7201a8\"],[0.3333333333333333,\"#9c179e\"],[0.4444444444444444,\"#bd3786\"],[0.5555555555555556,\"#d8576b\"],[0.6666666666666666,\"#ed7953\"],[0.7777777777777778,\"#fb9f3a\"],[0.8888888888888888,\"#fdca26\"],[1.0,\"#f0f921\"]],\"diverging\":[[0,\"#8e0152\"],[0.1,\"#c51b7d\"],[0.2,\"#de77ae\"],[0.3,\"#f1b6da\"],[0.4,\"#fde0ef\"],[0.5,\"#f7f7f7\"],[0.6,\"#e6f5d0\"],[0.7,\"#b8e186\"],[0.8,\"#7fbc41\"],[0.9,\"#4d9221\"],[1,\"#276419\"]]},\"xaxis\":{\"gridcolor\":\"white\",\"linecolor\":\"white\",\"ticks\":\"\",\"title\":{\"standoff\":15},\"zerolinecolor\":\"white\",\"automargin\":true,\"zerolinewidth\":2},\"yaxis\":{\"gridcolor\":\"white\",\"linecolor\":\"white\",\"ticks\":\"\",\"title\":{\"standoff\":15},\"zerolinecolor\":\"white\",\"automargin\":true,\"zerolinewidth\":2},\"scene\":{\"xaxis\":{\"backgroundcolor\":\"#E5ECF6\",\"gridcolor\":\"white\",\"linecolor\":\"white\",\"showbackground\":true,\"ticks\":\"\",\"zerolinecolor\":\"white\",\"gridwidth\":2},\"yaxis\":{\"backgroundcolor\":\"#E5ECF6\",\"gridcolor\":\"white\",\"linecolor\":\"white\",\"showbackground\":true,\"ticks\":\"\",\"zerolinecolor\":\"white\",\"gridwidth\":2},\"zaxis\":{\"backgroundcolor\":\"#E5ECF6\",\"gridcolor\":\"white\",\"linecolor\":\"white\",\"showbackground\":true,\"ticks\":\"\",\"zerolinecolor\":\"white\",\"gridwidth\":2}},\"shapedefaults\":{\"line\":{\"color\":\"#2a3f5f\"}},\"annotationdefaults\":{\"arrowcolor\":\"#2a3f5f\",\"arrowhead\":0,\"arrowwidth\":1},\"geo\":{\"bgcolor\":\"white\",\"landcolor\":\"#E5ECF6\",\"subunitcolor\":\"white\",\"showland\":true,\"showlakes\":true,\"lakecolor\":\"white\"},\"title\":{\"x\":0.05},\"mapbox\":{\"style\":\"light\"}}},\"title\":{\"text\":\"DGI : 4.8312044\"},\"xaxis\":{\"title\":{\"text\":\"Sense Features\"}},\"yaxis\":{\"title\":{\"text\":\"Dimensions\"}}},                        {\"responsive\": true}                    ).then(function(){\n",
       "                            \n",
       "var gd = document.getElementById('40f80c68-c8a1-4f75-8b0b-be9dcd7625ac');\n",
       "var x = new MutationObserver(function (mutations, observer) {{\n",
       "        var display = window.getComputedStyle(gd).display;\n",
       "        if (!display || display === 'none') {{\n",
       "            console.log([gd, 'removed!']);\n",
       "            Plotly.purge(gd);\n",
       "            observer.disconnect();\n",
       "        }}\n",
       "}});\n",
       "\n",
       "// Listen for the removal of the full notebook cells\n",
       "var notebookContainer = gd.closest('#notebook-container');\n",
       "if (notebookContainer) {{\n",
       "    x.observe(notebookContainer, {childList: true});\n",
       "}}\n",
       "\n",
       "// Listen for the clearing of the current output cell\n",
       "var outputEl = gd.closest('.output');\n",
       "if (outputEl) {{\n",
       "    x.observe(outputEl, {childList: true});\n",
       "}}\n",
       "\n",
       "                        })                };                });            </script>        </div>"
      ]
     },
     "metadata": {},
     "output_type": "display_data"
    },
    {
     "data": {
      "application/vnd.plotly.v1+json": {
       "config": {
        "plotlyServerURL": "https://plot.ly"
       },
       "data": [
        {
         "type": "heatmap",
         "x": [
          "Degree",
          "Clustering Coefficient",
          "Personalized Page Rank - Standard Deviation",
          "Average Neighbor Degree",
          "Average Neighbor Clustering",
          "Eccentricity",
          "Katz Centrality"
         ],
         "z": [
          [
           0,
           0,
           0,
           0,
           0,
           0,
           0
          ],
          [
           0,
           0,
           0,
           0,
           0,
           0,
           0.1841958910226822
          ],
          [
           0,
           0,
           0,
           0,
           0,
           0,
           0
          ],
          [
           0,
           0,
           0,
           0,
           0,
           0,
           0
          ],
          [
           0,
           0,
           0,
           0,
           0,
           0,
           0.23545774817466736
          ],
          [
           0,
           0,
           0,
           0,
           0,
           0,
           0
          ],
          [
           0,
           0,
           0,
           0,
           0,
           0,
           0
          ],
          [
           0,
           0,
           0,
           0,
           0,
           0,
           0.1022644117474556
          ],
          [
           0,
           0,
           0,
           0,
           0,
           0,
           0
          ],
          [
           0,
           0,
           0,
           0,
           0,
           0,
           0.1973196566104889
          ],
          [
           0,
           0,
           0,
           0,
           0,
           0,
           0
          ],
          [
           0,
           0,
           0,
           0,
           0,
           0,
           0
          ],
          [
           0,
           0.9248548150062561,
           0,
           0,
           0,
           0,
           0
          ],
          [
           0,
           0,
           0,
           0,
           0,
           0,
           0
          ],
          [
           0,
           0,
           0,
           0,
           0,
           0,
           0
          ],
          [
           0,
           0,
           0,
           0,
           0,
           0,
           0
          ],
          [
           0,
           0,
           0,
           0,
           0,
           0,
           0.0030560684390366077
          ],
          [
           0,
           0,
           0,
           0,
           0,
           0,
           0
          ],
          [
           0,
           0,
           0,
           0,
           0,
           0,
           0
          ],
          [
           0,
           0,
           0,
           0,
           0,
           0,
           0
          ],
          [
           0,
           0,
           0,
           0,
           0,
           0,
           0
          ],
          [
           0,
           0,
           0,
           0,
           0,
           0,
           0
          ],
          [
           0,
           0,
           0,
           0,
           0,
           0,
           0
          ],
          [
           0,
           0,
           0,
           0.5201829671859741,
           0,
           0,
           0
          ],
          [
           0,
           0,
           0,
           0,
           0,
           0,
           0
          ],
          [
           0,
           0,
           0,
           0,
           0,
           0,
           0
          ],
          [
           0,
           0,
           0.9327495694160461,
           0,
           0,
           0,
           0.001819584402255714
          ],
          [
           0,
           0,
           0,
           0,
           0,
           0,
           0
          ],
          [
           0,
           0,
           0,
           0,
           0,
           0,
           0
          ],
          [
           0,
           0,
           0,
           0,
           0,
           0,
           0
          ],
          [
           0,
           0,
           0,
           0,
           0,
           0,
           0
          ],
          [
           0,
           0,
           0,
           0,
           0,
           0,
           0.07360369712114334
          ],
          [
           0,
           0,
           0,
           0,
           0,
           0,
           0
          ],
          [
           0,
           0,
           0,
           0,
           0,
           0,
           0.0007936441106721759
          ],
          [
           0,
           0,
           0,
           0,
           0,
           0,
           0.0018948842771351337
          ],
          [
           0,
           0,
           0,
           0,
           0,
           0,
           0
          ],
          [
           0,
           0,
           0,
           0,
           0,
           0,
           0
          ],
          [
           0,
           0,
           0,
           0,
           0,
           0,
           0
          ],
          [
           0,
           0,
           0,
           0,
           0,
           0,
           0
          ],
          [
           0,
           0,
           0,
           0,
           0.7381958961486816,
           0,
           0
          ],
          [
           0,
           0,
           0,
           0,
           0,
           0,
           0
          ],
          [
           0,
           0,
           0,
           0,
           0,
           0,
           0.01507781632244587
          ],
          [
           0,
           0,
           0,
           0,
           0,
           0,
           0
          ],
          [
           0,
           0,
           0,
           0,
           0,
           0,
           0
          ],
          [
           0,
           0,
           0,
           0,
           0,
           0,
           0.004411854315549135
          ],
          [
           0,
           0,
           0,
           0,
           0,
           0,
           0
          ],
          [
           0,
           0,
           0,
           0,
           0.04913729429244995,
           0,
           0
          ],
          [
           0,
           0,
           0,
           0,
           0,
           0,
           0
          ],
          [
           0,
           0,
           0,
           0,
           0,
           1,
           0
          ],
          [
           0.8724189400672913,
           0,
           0,
           0.3466372489929199,
           0,
           0,
           0
          ],
          [
           0,
           0,
           0,
           0,
           0,
           0,
           0
          ],
          [
           0,
           0,
           0,
           0,
           0,
           0,
           0
          ],
          [
           0,
           0,
           0,
           0,
           0,
           0,
           0
          ],
          [
           0,
           0,
           0,
           0,
           0,
           0,
           0
          ],
          [
           0,
           0,
           0,
           0,
           0,
           0,
           0
          ],
          [
           0,
           0,
           0,
           0,
           0,
           0,
           0
          ],
          [
           0,
           0,
           0,
           0,
           0,
           0,
           0
          ],
          [
           0,
           0,
           0,
           0,
           0,
           0,
           0
          ],
          [
           0,
           0,
           0,
           0,
           0,
           0,
           0.020286427810788155
          ],
          [
           0,
           0,
           0,
           0,
           0,
           0,
           0
          ],
          [
           0,
           0,
           0,
           0,
           0,
           0,
           0
          ],
          [
           0,
           0,
           0,
           0,
           0,
           0,
           0
          ],
          [
           0,
           0,
           0,
           0,
           0,
           0,
           0
          ],
          [
           0,
           0,
           0,
           0,
           0,
           0,
           0
          ]
         ]
        }
       ],
       "layout": {
        "template": {
         "data": {
          "bar": [
           {
            "error_x": {
             "color": "#2a3f5f"
            },
            "error_y": {
             "color": "#2a3f5f"
            },
            "marker": {
             "line": {
              "color": "#E5ECF6",
              "width": 0.5
             },
             "pattern": {
              "fillmode": "overlay",
              "size": 10,
              "solidity": 0.2
             }
            },
            "type": "bar"
           }
          ],
          "barpolar": [
           {
            "marker": {
             "line": {
              "color": "#E5ECF6",
              "width": 0.5
             },
             "pattern": {
              "fillmode": "overlay",
              "size": 10,
              "solidity": 0.2
             }
            },
            "type": "barpolar"
           }
          ],
          "carpet": [
           {
            "aaxis": {
             "endlinecolor": "#2a3f5f",
             "gridcolor": "white",
             "linecolor": "white",
             "minorgridcolor": "white",
             "startlinecolor": "#2a3f5f"
            },
            "baxis": {
             "endlinecolor": "#2a3f5f",
             "gridcolor": "white",
             "linecolor": "white",
             "minorgridcolor": "white",
             "startlinecolor": "#2a3f5f"
            },
            "type": "carpet"
           }
          ],
          "choropleth": [
           {
            "colorbar": {
             "outlinewidth": 0,
             "ticks": ""
            },
            "type": "choropleth"
           }
          ],
          "contour": [
           {
            "colorbar": {
             "outlinewidth": 0,
             "ticks": ""
            },
            "colorscale": [
             [
              0,
              "#0d0887"
             ],
             [
              0.1111111111111111,
              "#46039f"
             ],
             [
              0.2222222222222222,
              "#7201a8"
             ],
             [
              0.3333333333333333,
              "#9c179e"
             ],
             [
              0.4444444444444444,
              "#bd3786"
             ],
             [
              0.5555555555555556,
              "#d8576b"
             ],
             [
              0.6666666666666666,
              "#ed7953"
             ],
             [
              0.7777777777777778,
              "#fb9f3a"
             ],
             [
              0.8888888888888888,
              "#fdca26"
             ],
             [
              1,
              "#f0f921"
             ]
            ],
            "type": "contour"
           }
          ],
          "contourcarpet": [
           {
            "colorbar": {
             "outlinewidth": 0,
             "ticks": ""
            },
            "type": "contourcarpet"
           }
          ],
          "heatmap": [
           {
            "colorbar": {
             "outlinewidth": 0,
             "ticks": ""
            },
            "colorscale": [
             [
              0,
              "#0d0887"
             ],
             [
              0.1111111111111111,
              "#46039f"
             ],
             [
              0.2222222222222222,
              "#7201a8"
             ],
             [
              0.3333333333333333,
              "#9c179e"
             ],
             [
              0.4444444444444444,
              "#bd3786"
             ],
             [
              0.5555555555555556,
              "#d8576b"
             ],
             [
              0.6666666666666666,
              "#ed7953"
             ],
             [
              0.7777777777777778,
              "#fb9f3a"
             ],
             [
              0.8888888888888888,
              "#fdca26"
             ],
             [
              1,
              "#f0f921"
             ]
            ],
            "type": "heatmap"
           }
          ],
          "heatmapgl": [
           {
            "colorbar": {
             "outlinewidth": 0,
             "ticks": ""
            },
            "colorscale": [
             [
              0,
              "#0d0887"
             ],
             [
              0.1111111111111111,
              "#46039f"
             ],
             [
              0.2222222222222222,
              "#7201a8"
             ],
             [
              0.3333333333333333,
              "#9c179e"
             ],
             [
              0.4444444444444444,
              "#bd3786"
             ],
             [
              0.5555555555555556,
              "#d8576b"
             ],
             [
              0.6666666666666666,
              "#ed7953"
             ],
             [
              0.7777777777777778,
              "#fb9f3a"
             ],
             [
              0.8888888888888888,
              "#fdca26"
             ],
             [
              1,
              "#f0f921"
             ]
            ],
            "type": "heatmapgl"
           }
          ],
          "histogram": [
           {
            "marker": {
             "pattern": {
              "fillmode": "overlay",
              "size": 10,
              "solidity": 0.2
             }
            },
            "type": "histogram"
           }
          ],
          "histogram2d": [
           {
            "colorbar": {
             "outlinewidth": 0,
             "ticks": ""
            },
            "colorscale": [
             [
              0,
              "#0d0887"
             ],
             [
              0.1111111111111111,
              "#46039f"
             ],
             [
              0.2222222222222222,
              "#7201a8"
             ],
             [
              0.3333333333333333,
              "#9c179e"
             ],
             [
              0.4444444444444444,
              "#bd3786"
             ],
             [
              0.5555555555555556,
              "#d8576b"
             ],
             [
              0.6666666666666666,
              "#ed7953"
             ],
             [
              0.7777777777777778,
              "#fb9f3a"
             ],
             [
              0.8888888888888888,
              "#fdca26"
             ],
             [
              1,
              "#f0f921"
             ]
            ],
            "type": "histogram2d"
           }
          ],
          "histogram2dcontour": [
           {
            "colorbar": {
             "outlinewidth": 0,
             "ticks": ""
            },
            "colorscale": [
             [
              0,
              "#0d0887"
             ],
             [
              0.1111111111111111,
              "#46039f"
             ],
             [
              0.2222222222222222,
              "#7201a8"
             ],
             [
              0.3333333333333333,
              "#9c179e"
             ],
             [
              0.4444444444444444,
              "#bd3786"
             ],
             [
              0.5555555555555556,
              "#d8576b"
             ],
             [
              0.6666666666666666,
              "#ed7953"
             ],
             [
              0.7777777777777778,
              "#fb9f3a"
             ],
             [
              0.8888888888888888,
              "#fdca26"
             ],
             [
              1,
              "#f0f921"
             ]
            ],
            "type": "histogram2dcontour"
           }
          ],
          "mesh3d": [
           {
            "colorbar": {
             "outlinewidth": 0,
             "ticks": ""
            },
            "type": "mesh3d"
           }
          ],
          "parcoords": [
           {
            "line": {
             "colorbar": {
              "outlinewidth": 0,
              "ticks": ""
             }
            },
            "type": "parcoords"
           }
          ],
          "pie": [
           {
            "automargin": true,
            "type": "pie"
           }
          ],
          "scatter": [
           {
            "fillpattern": {
             "fillmode": "overlay",
             "size": 10,
             "solidity": 0.2
            },
            "type": "scatter"
           }
          ],
          "scatter3d": [
           {
            "line": {
             "colorbar": {
              "outlinewidth": 0,
              "ticks": ""
             }
            },
            "marker": {
             "colorbar": {
              "outlinewidth": 0,
              "ticks": ""
             }
            },
            "type": "scatter3d"
           }
          ],
          "scattercarpet": [
           {
            "marker": {
             "colorbar": {
              "outlinewidth": 0,
              "ticks": ""
             }
            },
            "type": "scattercarpet"
           }
          ],
          "scattergeo": [
           {
            "marker": {
             "colorbar": {
              "outlinewidth": 0,
              "ticks": ""
             }
            },
            "type": "scattergeo"
           }
          ],
          "scattergl": [
           {
            "marker": {
             "colorbar": {
              "outlinewidth": 0,
              "ticks": ""
             }
            },
            "type": "scattergl"
           }
          ],
          "scattermapbox": [
           {
            "marker": {
             "colorbar": {
              "outlinewidth": 0,
              "ticks": ""
             }
            },
            "type": "scattermapbox"
           }
          ],
          "scatterpolar": [
           {
            "marker": {
             "colorbar": {
              "outlinewidth": 0,
              "ticks": ""
             }
            },
            "type": "scatterpolar"
           }
          ],
          "scatterpolargl": [
           {
            "marker": {
             "colorbar": {
              "outlinewidth": 0,
              "ticks": ""
             }
            },
            "type": "scatterpolargl"
           }
          ],
          "scatterternary": [
           {
            "marker": {
             "colorbar": {
              "outlinewidth": 0,
              "ticks": ""
             }
            },
            "type": "scatterternary"
           }
          ],
          "surface": [
           {
            "colorbar": {
             "outlinewidth": 0,
             "ticks": ""
            },
            "colorscale": [
             [
              0,
              "#0d0887"
             ],
             [
              0.1111111111111111,
              "#46039f"
             ],
             [
              0.2222222222222222,
              "#7201a8"
             ],
             [
              0.3333333333333333,
              "#9c179e"
             ],
             [
              0.4444444444444444,
              "#bd3786"
             ],
             [
              0.5555555555555556,
              "#d8576b"
             ],
             [
              0.6666666666666666,
              "#ed7953"
             ],
             [
              0.7777777777777778,
              "#fb9f3a"
             ],
             [
              0.8888888888888888,
              "#fdca26"
             ],
             [
              1,
              "#f0f921"
             ]
            ],
            "type": "surface"
           }
          ],
          "table": [
           {
            "cells": {
             "fill": {
              "color": "#EBF0F8"
             },
             "line": {
              "color": "white"
             }
            },
            "header": {
             "fill": {
              "color": "#C8D4E3"
             },
             "line": {
              "color": "white"
             }
            },
            "type": "table"
           }
          ]
         },
         "layout": {
          "annotationdefaults": {
           "arrowcolor": "#2a3f5f",
           "arrowhead": 0,
           "arrowwidth": 1
          },
          "autotypenumbers": "strict",
          "coloraxis": {
           "colorbar": {
            "outlinewidth": 0,
            "ticks": ""
           }
          },
          "colorscale": {
           "diverging": [
            [
             0,
             "#8e0152"
            ],
            [
             0.1,
             "#c51b7d"
            ],
            [
             0.2,
             "#de77ae"
            ],
            [
             0.3,
             "#f1b6da"
            ],
            [
             0.4,
             "#fde0ef"
            ],
            [
             0.5,
             "#f7f7f7"
            ],
            [
             0.6,
             "#e6f5d0"
            ],
            [
             0.7,
             "#b8e186"
            ],
            [
             0.8,
             "#7fbc41"
            ],
            [
             0.9,
             "#4d9221"
            ],
            [
             1,
             "#276419"
            ]
           ],
           "sequential": [
            [
             0,
             "#0d0887"
            ],
            [
             0.1111111111111111,
             "#46039f"
            ],
            [
             0.2222222222222222,
             "#7201a8"
            ],
            [
             0.3333333333333333,
             "#9c179e"
            ],
            [
             0.4444444444444444,
             "#bd3786"
            ],
            [
             0.5555555555555556,
             "#d8576b"
            ],
            [
             0.6666666666666666,
             "#ed7953"
            ],
            [
             0.7777777777777778,
             "#fb9f3a"
            ],
            [
             0.8888888888888888,
             "#fdca26"
            ],
            [
             1,
             "#f0f921"
            ]
           ],
           "sequentialminus": [
            [
             0,
             "#0d0887"
            ],
            [
             0.1111111111111111,
             "#46039f"
            ],
            [
             0.2222222222222222,
             "#7201a8"
            ],
            [
             0.3333333333333333,
             "#9c179e"
            ],
            [
             0.4444444444444444,
             "#bd3786"
            ],
            [
             0.5555555555555556,
             "#d8576b"
            ],
            [
             0.6666666666666666,
             "#ed7953"
            ],
            [
             0.7777777777777778,
             "#fb9f3a"
            ],
            [
             0.8888888888888888,
             "#fdca26"
            ],
            [
             1,
             "#f0f921"
            ]
           ]
          },
          "colorway": [
           "#636efa",
           "#EF553B",
           "#00cc96",
           "#ab63fa",
           "#FFA15A",
           "#19d3f3",
           "#FF6692",
           "#B6E880",
           "#FF97FF",
           "#FECB52"
          ],
          "font": {
           "color": "#2a3f5f"
          },
          "geo": {
           "bgcolor": "white",
           "lakecolor": "white",
           "landcolor": "#E5ECF6",
           "showlakes": true,
           "showland": true,
           "subunitcolor": "white"
          },
          "hoverlabel": {
           "align": "left"
          },
          "hovermode": "closest",
          "mapbox": {
           "style": "light"
          },
          "paper_bgcolor": "white",
          "plot_bgcolor": "#E5ECF6",
          "polar": {
           "angularaxis": {
            "gridcolor": "white",
            "linecolor": "white",
            "ticks": ""
           },
           "bgcolor": "#E5ECF6",
           "radialaxis": {
            "gridcolor": "white",
            "linecolor": "white",
            "ticks": ""
           }
          },
          "scene": {
           "xaxis": {
            "backgroundcolor": "#E5ECF6",
            "gridcolor": "white",
            "gridwidth": 2,
            "linecolor": "white",
            "showbackground": true,
            "ticks": "",
            "zerolinecolor": "white"
           },
           "yaxis": {
            "backgroundcolor": "#E5ECF6",
            "gridcolor": "white",
            "gridwidth": 2,
            "linecolor": "white",
            "showbackground": true,
            "ticks": "",
            "zerolinecolor": "white"
           },
           "zaxis": {
            "backgroundcolor": "#E5ECF6",
            "gridcolor": "white",
            "gridwidth": 2,
            "linecolor": "white",
            "showbackground": true,
            "ticks": "",
            "zerolinecolor": "white"
           }
          },
          "shapedefaults": {
           "line": {
            "color": "#2a3f5f"
           }
          },
          "ternary": {
           "aaxis": {
            "gridcolor": "white",
            "linecolor": "white",
            "ticks": ""
           },
           "baxis": {
            "gridcolor": "white",
            "linecolor": "white",
            "ticks": ""
           },
           "bgcolor": "#E5ECF6",
           "caxis": {
            "gridcolor": "white",
            "linecolor": "white",
            "ticks": ""
           }
          },
          "title": {
           "x": 0.05
          },
          "xaxis": {
           "automargin": true,
           "gridcolor": "white",
           "linecolor": "white",
           "ticks": "",
           "title": {
            "standoff": 15
           },
           "zerolinecolor": "white",
           "zerolinewidth": 2
          },
          "yaxis": {
           "automargin": true,
           "gridcolor": "white",
           "linecolor": "white",
           "ticks": "",
           "title": {
            "standoff": 15
           },
           "zerolinecolor": "white",
           "zerolinewidth": 2
          }
         }
        },
        "title": {
         "text": "DGI+ : 5.4131227"
        },
        "xaxis": {
         "title": {
          "text": "Sense Features"
         }
        },
        "yaxis": {
         "title": {
          "text": "Dimensions"
         }
        }
       }
      },
      "text/html": [
       "<div>                            <div id=\"e8e98ca8-3732-4cef-9f39-d82b52e788a1\" class=\"plotly-graph-div\" style=\"height:525px; width:100%;\"></div>            <script type=\"text/javascript\">                require([\"plotly\"], function(Plotly) {                    window.PLOTLYENV=window.PLOTLYENV || {};                                    if (document.getElementById(\"e8e98ca8-3732-4cef-9f39-d82b52e788a1\")) {                    Plotly.newPlot(                        \"e8e98ca8-3732-4cef-9f39-d82b52e788a1\",                        [{\"x\":[\"Degree\",\"Clustering Coefficient\",\"Personalized Page Rank - Standard Deviation\",\"Average Neighbor Degree\",\"Average Neighbor Clustering\",\"Eccentricity\",\"Katz Centrality\"],\"z\":[[0.0,0.0,0.0,0.0,0.0,0.0,0.0],[0.0,0.0,0.0,0.0,0.0,0.0,0.1841958910226822],[0.0,0.0,0.0,0.0,0.0,0.0,0.0],[0.0,0.0,0.0,0.0,0.0,0.0,0.0],[0.0,0.0,0.0,0.0,0.0,0.0,0.23545774817466736],[0.0,0.0,0.0,0.0,0.0,0.0,0.0],[0.0,0.0,0.0,0.0,0.0,0.0,0.0],[0.0,0.0,0.0,0.0,0.0,0.0,0.1022644117474556],[0.0,0.0,0.0,0.0,0.0,0.0,0.0],[0.0,0.0,0.0,0.0,0.0,0.0,0.1973196566104889],[0.0,0.0,0.0,0.0,0.0,0.0,0.0],[0.0,0.0,0.0,0.0,0.0,0.0,0.0],[0.0,0.9248548150062561,0.0,0.0,0.0,0.0,0.0],[0.0,0.0,0.0,0.0,0.0,0.0,0.0],[0.0,0.0,0.0,0.0,0.0,0.0,0.0],[0.0,0.0,0.0,0.0,0.0,0.0,0.0],[0.0,0.0,0.0,0.0,0.0,0.0,0.0030560684390366077],[0.0,0.0,0.0,0.0,0.0,0.0,0.0],[0.0,0.0,0.0,0.0,0.0,0.0,0.0],[0.0,0.0,0.0,0.0,0.0,0.0,0.0],[0.0,0.0,0.0,0.0,0.0,0.0,0.0],[0.0,0.0,0.0,0.0,0.0,0.0,0.0],[0.0,0.0,0.0,0.0,0.0,0.0,0.0],[0.0,0.0,0.0,0.5201829671859741,0.0,0.0,0.0],[0.0,0.0,0.0,0.0,0.0,0.0,0.0],[0.0,0.0,0.0,0.0,0.0,0.0,0.0],[0.0,0.0,0.9327495694160461,0.0,0.0,0.0,0.001819584402255714],[0.0,0.0,0.0,0.0,0.0,0.0,0.0],[0.0,0.0,0.0,0.0,0.0,0.0,0.0],[0.0,0.0,0.0,0.0,0.0,0.0,0.0],[0.0,0.0,0.0,0.0,0.0,0.0,0.0],[0.0,0.0,0.0,0.0,0.0,0.0,0.07360369712114334],[0.0,0.0,0.0,0.0,0.0,0.0,0.0],[0.0,0.0,0.0,0.0,0.0,0.0,0.0007936441106721759],[0.0,0.0,0.0,0.0,0.0,0.0,0.0018948842771351337],[0.0,0.0,0.0,0.0,0.0,0.0,0.0],[0.0,0.0,0.0,0.0,0.0,0.0,0.0],[0.0,0.0,0.0,0.0,0.0,0.0,0.0],[0.0,0.0,0.0,0.0,0.0,0.0,0.0],[0.0,0.0,0.0,0.0,0.7381958961486816,0.0,0.0],[0.0,0.0,0.0,0.0,0.0,0.0,0.0],[0.0,0.0,0.0,0.0,0.0,0.0,0.01507781632244587],[0.0,0.0,0.0,0.0,0.0,0.0,0.0],[0.0,0.0,0.0,0.0,0.0,0.0,0.0],[0.0,0.0,0.0,0.0,0.0,0.0,0.004411854315549135],[0.0,0.0,0.0,0.0,0.0,0.0,0.0],[0.0,0.0,0.0,0.0,0.04913729429244995,0.0,0.0],[0.0,0.0,0.0,0.0,0.0,0.0,0.0],[0.0,0.0,0.0,0.0,0.0,1.0,0.0],[0.8724189400672913,0.0,0.0,0.3466372489929199,0.0,0.0,0.0],[0.0,0.0,0.0,0.0,0.0,0.0,0.0],[0.0,0.0,0.0,0.0,0.0,0.0,0.0],[0.0,0.0,0.0,0.0,0.0,0.0,0.0],[0.0,0.0,0.0,0.0,0.0,0.0,0.0],[0.0,0.0,0.0,0.0,0.0,0.0,0.0],[0.0,0.0,0.0,0.0,0.0,0.0,0.0],[0.0,0.0,0.0,0.0,0.0,0.0,0.0],[0.0,0.0,0.0,0.0,0.0,0.0,0.0],[0.0,0.0,0.0,0.0,0.0,0.0,0.020286427810788155],[0.0,0.0,0.0,0.0,0.0,0.0,0.0],[0.0,0.0,0.0,0.0,0.0,0.0,0.0],[0.0,0.0,0.0,0.0,0.0,0.0,0.0],[0.0,0.0,0.0,0.0,0.0,0.0,0.0],[0.0,0.0,0.0,0.0,0.0,0.0,0.0]],\"type\":\"heatmap\"}],                        {\"template\":{\"data\":{\"histogram2dcontour\":[{\"type\":\"histogram2dcontour\",\"colorbar\":{\"outlinewidth\":0,\"ticks\":\"\"},\"colorscale\":[[0.0,\"#0d0887\"],[0.1111111111111111,\"#46039f\"],[0.2222222222222222,\"#7201a8\"],[0.3333333333333333,\"#9c179e\"],[0.4444444444444444,\"#bd3786\"],[0.5555555555555556,\"#d8576b\"],[0.6666666666666666,\"#ed7953\"],[0.7777777777777778,\"#fb9f3a\"],[0.8888888888888888,\"#fdca26\"],[1.0,\"#f0f921\"]]}],\"choropleth\":[{\"type\":\"choropleth\",\"colorbar\":{\"outlinewidth\":0,\"ticks\":\"\"}}],\"histogram2d\":[{\"type\":\"histogram2d\",\"colorbar\":{\"outlinewidth\":0,\"ticks\":\"\"},\"colorscale\":[[0.0,\"#0d0887\"],[0.1111111111111111,\"#46039f\"],[0.2222222222222222,\"#7201a8\"],[0.3333333333333333,\"#9c179e\"],[0.4444444444444444,\"#bd3786\"],[0.5555555555555556,\"#d8576b\"],[0.6666666666666666,\"#ed7953\"],[0.7777777777777778,\"#fb9f3a\"],[0.8888888888888888,\"#fdca26\"],[1.0,\"#f0f921\"]]}],\"heatmap\":[{\"type\":\"heatmap\",\"colorbar\":{\"outlinewidth\":0,\"ticks\":\"\"},\"colorscale\":[[0.0,\"#0d0887\"],[0.1111111111111111,\"#46039f\"],[0.2222222222222222,\"#7201a8\"],[0.3333333333333333,\"#9c179e\"],[0.4444444444444444,\"#bd3786\"],[0.5555555555555556,\"#d8576b\"],[0.6666666666666666,\"#ed7953\"],[0.7777777777777778,\"#fb9f3a\"],[0.8888888888888888,\"#fdca26\"],[1.0,\"#f0f921\"]]}],\"heatmapgl\":[{\"type\":\"heatmapgl\",\"colorbar\":{\"outlinewidth\":0,\"ticks\":\"\"},\"colorscale\":[[0.0,\"#0d0887\"],[0.1111111111111111,\"#46039f\"],[0.2222222222222222,\"#7201a8\"],[0.3333333333333333,\"#9c179e\"],[0.4444444444444444,\"#bd3786\"],[0.5555555555555556,\"#d8576b\"],[0.6666666666666666,\"#ed7953\"],[0.7777777777777778,\"#fb9f3a\"],[0.8888888888888888,\"#fdca26\"],[1.0,\"#f0f921\"]]}],\"contourcarpet\":[{\"type\":\"contourcarpet\",\"colorbar\":{\"outlinewidth\":0,\"ticks\":\"\"}}],\"contour\":[{\"type\":\"contour\",\"colorbar\":{\"outlinewidth\":0,\"ticks\":\"\"},\"colorscale\":[[0.0,\"#0d0887\"],[0.1111111111111111,\"#46039f\"],[0.2222222222222222,\"#7201a8\"],[0.3333333333333333,\"#9c179e\"],[0.4444444444444444,\"#bd3786\"],[0.5555555555555556,\"#d8576b\"],[0.6666666666666666,\"#ed7953\"],[0.7777777777777778,\"#fb9f3a\"],[0.8888888888888888,\"#fdca26\"],[1.0,\"#f0f921\"]]}],\"surface\":[{\"type\":\"surface\",\"colorbar\":{\"outlinewidth\":0,\"ticks\":\"\"},\"colorscale\":[[0.0,\"#0d0887\"],[0.1111111111111111,\"#46039f\"],[0.2222222222222222,\"#7201a8\"],[0.3333333333333333,\"#9c179e\"],[0.4444444444444444,\"#bd3786\"],[0.5555555555555556,\"#d8576b\"],[0.6666666666666666,\"#ed7953\"],[0.7777777777777778,\"#fb9f3a\"],[0.8888888888888888,\"#fdca26\"],[1.0,\"#f0f921\"]]}],\"mesh3d\":[{\"type\":\"mesh3d\",\"colorbar\":{\"outlinewidth\":0,\"ticks\":\"\"}}],\"scatter\":[{\"fillpattern\":{\"fillmode\":\"overlay\",\"size\":10,\"solidity\":0.2},\"type\":\"scatter\"}],\"parcoords\":[{\"type\":\"parcoords\",\"line\":{\"colorbar\":{\"outlinewidth\":0,\"ticks\":\"\"}}}],\"scatterpolargl\":[{\"type\":\"scatterpolargl\",\"marker\":{\"colorbar\":{\"outlinewidth\":0,\"ticks\":\"\"}}}],\"bar\":[{\"error_x\":{\"color\":\"#2a3f5f\"},\"error_y\":{\"color\":\"#2a3f5f\"},\"marker\":{\"line\":{\"color\":\"#E5ECF6\",\"width\":0.5},\"pattern\":{\"fillmode\":\"overlay\",\"size\":10,\"solidity\":0.2}},\"type\":\"bar\"}],\"scattergeo\":[{\"type\":\"scattergeo\",\"marker\":{\"colorbar\":{\"outlinewidth\":0,\"ticks\":\"\"}}}],\"scatterpolar\":[{\"type\":\"scatterpolar\",\"marker\":{\"colorbar\":{\"outlinewidth\":0,\"ticks\":\"\"}}}],\"histogram\":[{\"marker\":{\"pattern\":{\"fillmode\":\"overlay\",\"size\":10,\"solidity\":0.2}},\"type\":\"histogram\"}],\"scattergl\":[{\"type\":\"scattergl\",\"marker\":{\"colorbar\":{\"outlinewidth\":0,\"ticks\":\"\"}}}],\"scatter3d\":[{\"type\":\"scatter3d\",\"line\":{\"colorbar\":{\"outlinewidth\":0,\"ticks\":\"\"}},\"marker\":{\"colorbar\":{\"outlinewidth\":0,\"ticks\":\"\"}}}],\"scattermapbox\":[{\"type\":\"scattermapbox\",\"marker\":{\"colorbar\":{\"outlinewidth\":0,\"ticks\":\"\"}}}],\"scatterternary\":[{\"type\":\"scatterternary\",\"marker\":{\"colorbar\":{\"outlinewidth\":0,\"ticks\":\"\"}}}],\"scattercarpet\":[{\"type\":\"scattercarpet\",\"marker\":{\"colorbar\":{\"outlinewidth\":0,\"ticks\":\"\"}}}],\"carpet\":[{\"aaxis\":{\"endlinecolor\":\"#2a3f5f\",\"gridcolor\":\"white\",\"linecolor\":\"white\",\"minorgridcolor\":\"white\",\"startlinecolor\":\"#2a3f5f\"},\"baxis\":{\"endlinecolor\":\"#2a3f5f\",\"gridcolor\":\"white\",\"linecolor\":\"white\",\"minorgridcolor\":\"white\",\"startlinecolor\":\"#2a3f5f\"},\"type\":\"carpet\"}],\"table\":[{\"cells\":{\"fill\":{\"color\":\"#EBF0F8\"},\"line\":{\"color\":\"white\"}},\"header\":{\"fill\":{\"color\":\"#C8D4E3\"},\"line\":{\"color\":\"white\"}},\"type\":\"table\"}],\"barpolar\":[{\"marker\":{\"line\":{\"color\":\"#E5ECF6\",\"width\":0.5},\"pattern\":{\"fillmode\":\"overlay\",\"size\":10,\"solidity\":0.2}},\"type\":\"barpolar\"}],\"pie\":[{\"automargin\":true,\"type\":\"pie\"}]},\"layout\":{\"autotypenumbers\":\"strict\",\"colorway\":[\"#636efa\",\"#EF553B\",\"#00cc96\",\"#ab63fa\",\"#FFA15A\",\"#19d3f3\",\"#FF6692\",\"#B6E880\",\"#FF97FF\",\"#FECB52\"],\"font\":{\"color\":\"#2a3f5f\"},\"hovermode\":\"closest\",\"hoverlabel\":{\"align\":\"left\"},\"paper_bgcolor\":\"white\",\"plot_bgcolor\":\"#E5ECF6\",\"polar\":{\"bgcolor\":\"#E5ECF6\",\"angularaxis\":{\"gridcolor\":\"white\",\"linecolor\":\"white\",\"ticks\":\"\"},\"radialaxis\":{\"gridcolor\":\"white\",\"linecolor\":\"white\",\"ticks\":\"\"}},\"ternary\":{\"bgcolor\":\"#E5ECF6\",\"aaxis\":{\"gridcolor\":\"white\",\"linecolor\":\"white\",\"ticks\":\"\"},\"baxis\":{\"gridcolor\":\"white\",\"linecolor\":\"white\",\"ticks\":\"\"},\"caxis\":{\"gridcolor\":\"white\",\"linecolor\":\"white\",\"ticks\":\"\"}},\"coloraxis\":{\"colorbar\":{\"outlinewidth\":0,\"ticks\":\"\"}},\"colorscale\":{\"sequential\":[[0.0,\"#0d0887\"],[0.1111111111111111,\"#46039f\"],[0.2222222222222222,\"#7201a8\"],[0.3333333333333333,\"#9c179e\"],[0.4444444444444444,\"#bd3786\"],[0.5555555555555556,\"#d8576b\"],[0.6666666666666666,\"#ed7953\"],[0.7777777777777778,\"#fb9f3a\"],[0.8888888888888888,\"#fdca26\"],[1.0,\"#f0f921\"]],\"sequentialminus\":[[0.0,\"#0d0887\"],[0.1111111111111111,\"#46039f\"],[0.2222222222222222,\"#7201a8\"],[0.3333333333333333,\"#9c179e\"],[0.4444444444444444,\"#bd3786\"],[0.5555555555555556,\"#d8576b\"],[0.6666666666666666,\"#ed7953\"],[0.7777777777777778,\"#fb9f3a\"],[0.8888888888888888,\"#fdca26\"],[1.0,\"#f0f921\"]],\"diverging\":[[0,\"#8e0152\"],[0.1,\"#c51b7d\"],[0.2,\"#de77ae\"],[0.3,\"#f1b6da\"],[0.4,\"#fde0ef\"],[0.5,\"#f7f7f7\"],[0.6,\"#e6f5d0\"],[0.7,\"#b8e186\"],[0.8,\"#7fbc41\"],[0.9,\"#4d9221\"],[1,\"#276419\"]]},\"xaxis\":{\"gridcolor\":\"white\",\"linecolor\":\"white\",\"ticks\":\"\",\"title\":{\"standoff\":15},\"zerolinecolor\":\"white\",\"automargin\":true,\"zerolinewidth\":2},\"yaxis\":{\"gridcolor\":\"white\",\"linecolor\":\"white\",\"ticks\":\"\",\"title\":{\"standoff\":15},\"zerolinecolor\":\"white\",\"automargin\":true,\"zerolinewidth\":2},\"scene\":{\"xaxis\":{\"backgroundcolor\":\"#E5ECF6\",\"gridcolor\":\"white\",\"linecolor\":\"white\",\"showbackground\":true,\"ticks\":\"\",\"zerolinecolor\":\"white\",\"gridwidth\":2},\"yaxis\":{\"backgroundcolor\":\"#E5ECF6\",\"gridcolor\":\"white\",\"linecolor\":\"white\",\"showbackground\":true,\"ticks\":\"\",\"zerolinecolor\":\"white\",\"gridwidth\":2},\"zaxis\":{\"backgroundcolor\":\"#E5ECF6\",\"gridcolor\":\"white\",\"linecolor\":\"white\",\"showbackground\":true,\"ticks\":\"\",\"zerolinecolor\":\"white\",\"gridwidth\":2}},\"shapedefaults\":{\"line\":{\"color\":\"#2a3f5f\"}},\"annotationdefaults\":{\"arrowcolor\":\"#2a3f5f\",\"arrowhead\":0,\"arrowwidth\":1},\"geo\":{\"bgcolor\":\"white\",\"landcolor\":\"#E5ECF6\",\"subunitcolor\":\"white\",\"showland\":true,\"showlakes\":true,\"lakecolor\":\"white\"},\"title\":{\"x\":0.05},\"mapbox\":{\"style\":\"light\"}}},\"title\":{\"text\":\"DGI+ : 5.4131227\"},\"xaxis\":{\"title\":{\"text\":\"Sense Features\"}},\"yaxis\":{\"title\":{\"text\":\"Dimensions\"}}},                        {\"responsive\": true}                    ).then(function(){\n",
       "                            \n",
       "var gd = document.getElementById('e8e98ca8-3732-4cef-9f39-d82b52e788a1');\n",
       "var x = new MutationObserver(function (mutations, observer) {{\n",
       "        var display = window.getComputedStyle(gd).display;\n",
       "        if (!display || display === 'none') {{\n",
       "            console.log([gd, 'removed!']);\n",
       "            Plotly.purge(gd);\n",
       "            observer.disconnect();\n",
       "        }}\n",
       "}});\n",
       "\n",
       "// Listen for the removal of the full notebook cells\n",
       "var notebookContainer = gd.closest('#notebook-container');\n",
       "if (notebookContainer) {{\n",
       "    x.observe(notebookContainer, {childList: true});\n",
       "}}\n",
       "\n",
       "// Listen for the clearing of the current output cell\n",
       "var outputEl = gd.closest('.output');\n",
       "if (outputEl) {{\n",
       "    x.observe(outputEl, {childList: true});\n",
       "}}\n",
       "\n",
       "                        })                };                });            </script>        </div>"
      ]
     },
     "metadata": {},
     "output_type": "display_data"
    }
   ],
   "source": [
    "fig = go.Figure()\n",
    "fig.add_trace(go.Heatmap(z = explain_og,\n",
    "                         x = list(sense_feat_dict), \n",
    "                         ))\n",
    "fig.update_layout(title_text = 'DGI : ' + str(np.linalg.norm(explain_og, ord = 'nuc')), \n",
    "                  xaxis_title_text = 'Sense Features', \n",
    "                  yaxis_title_text = 'Dimensions')\n",
    "\n",
    "fig.show()\n",
    "\n",
    "fig = go.Figure()\n",
    "fig.add_trace(go.Heatmap(z = explain_plus,\n",
    "                         x = list(sense_feat_dict), \n",
    "                         ))\n",
    "fig.update_layout(title_text = 'DGI+ : ' + str(np.linalg.norm(explain_plus, ord = 'nuc')), \n",
    "                  xaxis_title_text = 'Sense Features', \n",
    "                  yaxis_title_text = 'Dimensions')\n",
    "\n",
    "fig.show()"
   ]
  },
  {
   "cell_type": "code",
   "execution_count": 77,
   "id": "478b225f",
   "metadata": {},
   "outputs": [],
   "source": [
    "Y_plus = embed_plus\n",
    "sense_mat = tf.einsum('ij, ik -> ijk', Y_plus, sense_features)\n",
    "Y_plus_norm = tf.linalg.diag_part(tf.matmul(Y_plus, Y_plus, transpose_b = True), k = 0)\n",
    "sense_norm = tf.linalg.diag_part(tf.matmul(sense_features, sense_features, transpose_b = True), k = 0)\n",
    "norm = Y_plus_norm * tf.cast(sense_norm, tf.float32)\n",
    "D_plus = tf.transpose(tf.transpose(sense_mat) / norm)\n",
    "\n",
    "Y_og = embed_og\n",
    "sense_mat = tf.einsum('ij, ik -> ijk', Y_og, sense_features)\n",
    "Y_og_norm = tf.linalg.diag_part(tf.matmul(Y_og, Y_og, transpose_b = True), k = 0)\n",
    "sense_norm = tf.linalg.diag_part(tf.matmul(sense_features, sense_features, transpose_b = True), k = 0)\n",
    "norm = Y_og_norm * tf.cast(sense_norm, tf.float32)\n",
    "D_og = tf.transpose(tf.transpose(sense_mat) / norm)"
   ]
  },
  {
   "cell_type": "code",
   "execution_count": 78,
   "id": "742e527f",
   "metadata": {},
   "outputs": [
    {
     "name": "stderr",
     "output_type": "stream",
     "text": [
      "100%|███████████████████████████████████████| 986/986 [00:00<00:00, 1175.78it/s]\n",
      "100%|███████████████████████████████████████| 986/986 [00:00<00:00, 1301.56it/s]\n"
     ]
    }
   ],
   "source": [
    "norm_og = [np.linalg.norm(D_og[node, :, :], ord = 'nuc') for node in tqdm(range(len(graph)))]\n",
    "norm_plus = [np.linalg.norm(D_plus[node, :, :], ord = 'nuc') for node in tqdm(range(len(graph)))]\n",
    "\n"
   ]
  },
  {
   "cell_type": "code",
   "execution_count": 79,
   "id": "a7cc4916",
   "metadata": {},
   "outputs": [
    {
     "data": {
      "application/vnd.plotly.v1+json": {
       "config": {
        "plotlyServerURL": "https://plot.ly"
       },
       "data": [
        {
         "type": "histogram",
         "x": [
          -0.014520615339279175,
          -0.016168147325515747,
          -0.020269975066184998,
          -0.017268478870391846,
          -0.0210343599319458,
          -0.020063310861587524,
          -0.02013900876045227,
          -0.020333796739578247,
          -0.01703140139579773,
          -0.01930031180381775,
          -0.01816350221633911,
          -0.02110275626182556,
          -0.02202746272087097,
          -0.02002587914466858,
          -0.013398796319961548,
          -0.017711520195007324,
          -0.01706114411354065,
          -0.015221446752548218,
          -0.016949951648712158,
          -0.01931750774383545,
          -0.019502997398376465,
          -0.019825667142868042,
          -0.015132546424865723,
          -0.012412816286087036,
          -0.01274825632572174,
          -0.010412752628326416,
          -0.010165184736251831,
          -0.012402057647705078,
          -0.013961076736450195,
          -0.012128651142120361,
          -0.012405365705490112,
          -0.012132316827774048,
          -0.009844496846199036,
          -0.010353833436965942,
          -0.009115904569625854,
          -0.012626349925994873,
          -0.011877954006195068,
          -0.012691646814346313,
          -0.012687265872955322,
          -0.011057376861572266,
          -0.011295229196548462,
          -0.01192888617515564,
          -0.014821469783782959,
          -0.014302343130111694,
          -0.020390212535858154,
          -0.01795828342437744,
          -0.016163945198059082,
          -0.008926421403884888,
          -0.010422468185424805,
          -0.014510542154312134,
          -0.014048606157302856,
          -0.015575587749481201,
          -0.019723594188690186,
          -0.013575613498687744,
          -0.015430927276611328,
          -0.01723054051399231,
          -0.01546970009803772,
          -0.019638866186141968,
          -0.019314736127853394,
          -0.015797898173332214,
          -0.007473468780517578,
          -0.014321178197860718,
          -0.01985388994216919,
          -0.021039605140686035,
          -0.0216197669506073,
          -0.017334699630737305,
          -0.015698522329330444,
          -0.013478636741638184,
          -0.016581445932388306,
          -0.021197110414505005,
          -0.013376832008361816,
          -0.013159245252609253,
          -0.01953423023223877,
          -0.017070680856704712,
          -0.021377503871917725,
          -0.011983245611190796,
          -0.008558779954910278,
          -0.013485342264175415,
          -0.012478858232498169,
          -0.013431310653686523,
          -0.01743951439857483,
          -0.01824212074279785,
          -0.017811954021453857,
          -0.016161471605300903,
          -0.02602595090866089,
          -0.018066316843032837,
          -0.020469635725021362,
          -0.019239962100982666,
          -0.015886127948760986,
          -0.014739766716957092,
          -0.015360772609710693,
          -0.016592025756835938,
          -0.022860467433929443,
          -0.013631224632263184,
          -0.01049506664276123,
          -0.011779963970184326,
          -0.016502410173416138,
          -0.015026465058326721,
          -0.015801608562469482,
          -0.014903843402862549,
          -0.01814800500869751,
          -0.015075594186782837,
          -0.01627027988433838,
          -0.009519398212432861,
          -0.007856786251068115,
          -0.017358064651489258,
          -0.020166009664535522,
          -0.02029411494731903,
          -0.01661863923072815,
          -0.014729410409927368,
          -0.012110963463783264,
          -0.011660009622573853,
          -0.015670180320739746,
          -0.012696325778961182,
          -0.014164060354232788,
          -0.01526525616645813,
          -0.012960493564605713,
          -0.015775710344314575,
          -0.018181264400482178,
          -0.012645155191421509,
          -0.012988895177841187,
          -0.017652779817581177,
          -0.011105477809906006,
          -0.013052105903625488,
          -0.017863720655441284,
          -0.015299871563911438,
          -0.016808301210403442,
          -0.017034709453582764,
          -0.013799607753753662,
          -0.017210006713867188,
          -0.01250961422920227,
          -0.017992138862609863,
          -0.016003519296646118,
          -0.011800915002822876,
          -0.01995086669921875,
          -0.010570883750915527,
          -0.008811265230178833,
          -0.020417243242263794,
          -0.014019519090652466,
          -0.016299426555633545,
          -0.016572773456573486,
          -0.02270480990409851,
          -0.01641783118247986,
          -0.015607833862304688,
          -0.011257246136665344,
          -0.016945481300354004,
          -0.01713627576828003,
          -0.014146924018859863,
          -0.013077884912490845,
          -0.011820971965789795,
          -0.009307771921157837,
          -0.011235415935516357,
          -0.013085037469863892,
          -0.011982247233390808,
          -0.01284092664718628,
          -0.015753358602523804,
          -0.014232337474822998,
          -0.012520045042037964,
          -0.01907971501350403,
          -0.01655447483062744,
          -0.016132429242134094,
          -0.017631232738494873,
          -0.018483877182006836,
          -0.016550540924072266,
          -0.01919156312942505,
          -0.012537539005279541,
          -0.014008492231369019,
          -0.008540317416191101,
          -0.01638132333755493,
          -0.014973610639572144,
          -0.018136411905288696,
          -0.00932091474533081,
          -0.012874811887741089,
          -0.019446909427642822,
          -0.016798555850982666,
          -0.012968853116035461,
          -0.012305676937103271,
          -0.014480888843536377,
          -0.01271134614944458,
          -0.010766029357910156,
          -0.016376107931137085,
          -0.009317666292190552,
          -0.009152710437774658,
          -0.018076956272125244,
          -0.01926538348197937,
          -0.016168177127838135,
          -0.01200208067893982,
          -0.014295399188995361,
          -0.015384703874588013,
          -0.02000907063484192,
          -0.014522194862365723,
          -0.016885817050933838,
          -0.013651937246322632,
          -0.01274341344833374,
          -0.01562364399433136,
          -0.014386281371116638,
          -0.01001739501953125,
          -0.011734038591384888,
          -0.014607012271881104,
          -0.012861311435699463,
          -0.010202199220657349,
          -0.011296063661575317,
          -0.013302356004714966,
          -0.010642647743225098,
          -0.009605050086975098,
          -0.010659605264663696,
          -0.013075798749923706,
          -0.010583341121673584,
          -0.017366737127304077,
          -0.019269227981567383,
          -0.016121000051498413,
          -0.01739424467086792,
          -0.013342708349227905,
          -0.02141210436820984,
          -0.011736005544662476,
          -0.017977982759475708,
          -0.015330731868743896,
          -0.016239315271377563,
          -0.015096724033355713,
          -0.010200351476669312,
          -0.012463122606277466,
          -0.015731781721115112,
          -0.017226845026016235,
          -0.01592785120010376,
          -0.013612151145935059,
          -0.01266828179359436,
          -0.01260426640510559,
          -0.0157335102558136,
          -0.012358635663986206,
          -0.014865636825561523,
          -0.015652894973754883,
          -0.016861379146575928,
          -0.014945030212402344,
          -0.01693996787071228,
          -0.01799789071083069,
          -0.015480756759643555,
          -0.016119152307510376,
          -0.01616498827934265,
          -0.022293001413345337,
          -0.014641612768173218,
          -0.014416813850402832,
          -0.015161275863647461,
          -0.01845031976699829,
          -0.021009862422943115,
          -0.01578506827354431,
          -0.010160714387893677,
          -0.017089813947677612,
          -0.014573991298675537,
          -0.01592850685119629,
          -0.01677301526069641,
          -0.008975416421890259,
          -0.010645627975463867,
          -0.017542973160743713,
          -0.014939457178115845,
          -0.01447916030883789,
          -0.01764586567878723,
          -0.016360610723495483,
          -0.011768907308578491,
          -0.02083483338356018,
          -0.01928010582923889,
          -0.01733449101448059,
          -0.011407792568206787,
          -0.015326887369155884,
          -0.012458831071853638,
          -0.017793983221054077,
          -0.01879829168319702,
          -0.01941820979118347,
          -0.015361577272415161,
          -0.015544593334197998,
          -0.017723217606544495,
          -0.011787354946136475,
          -0.019912898540496826,
          -0.01975858211517334,
          -0.01577022671699524,
          -0.01472511887550354,
          -0.013529002666473389,
          -0.01596677303314209,
          -0.009829491376876831,
          -0.01360049843788147,
          -0.01155117154121399,
          -0.01215776801109314,
          -0.017138361930847168,
          -0.01603567600250244,
          -0.012070223689079285,
          -0.011680811643600464,
          -0.01983162760734558,
          -0.015755116939544678,
          -0.015892237424850464,
          -0.014793932437896729,
          -0.013687670230865479,
          -0.01626947522163391,
          -0.010370492935180664,
          -0.013605445623397827,
          -0.014244049787521362,
          -0.010946691036224365,
          -0.016317397356033325,
          -0.009868711233139038,
          -0.014771997928619385,
          -0.017682820558547974,
          -0.017715483903884888,
          -0.01873752474784851,
          -0.017254799604415894,
          -0.013235718011856079,
          -0.016637325286865234,
          -0.01466265320777893,
          -0.01910814642906189,
          -0.023309379816055298,
          -0.014385968446731567,
          -0.011643916368484497,
          -0.017958641052246094,
          -0.014584630727767944,
          -0.015972912311553955,
          -0.013245373964309692,
          -0.012128978967666626,
          -0.015207529067993164,
          -0.014469683170318604,
          -0.019554585218429565,
          -0.014536350965499878,
          -0.01115688681602478,
          -0.01122303307056427,
          -0.010239958763122559,
          -0.011220306158065796,
          -0.015332609415054321,
          -0.017828643321990967,
          -0.017870575189590454,
          -0.019507795572280884,
          -0.018748849630355835,
          -0.02110394835472107,
          -0.015222758054733276,
          -0.017425745725631714,
          -0.015562772750854492,
          -0.014510512351989746,
          -0.01767832040786743,
          -0.014268815517425537,
          -0.012545228004455566,
          -0.015184804797172546,
          -0.013413101434707642,
          -0.011297523975372314,
          -0.01457110047340393,
          -0.010185033082962036,
          -0.013928219676017761,
          -0.012006133794784546,
          -0.012646377086639404,
          -0.011942744255065918,
          -0.012011796236038208,
          -0.011534780263900757,
          -0.011689931154251099,
          -0.014025866985321045,
          -0.008467704057693481,
          -0.013599485158920288,
          -0.015739768743515015,
          -0.010367095470428467,
          -0.011913269758224487,
          -0.020036786794662476,
          -0.011901125311851501,
          -0.011340633034706116,
          -0.01592010259628296,
          -0.014903604984283447,
          -0.019834786653518677,
          -0.01884406805038452,
          -0.018451839685440063,
          -0.008765608072280884,
          -0.016103595495224,
          -0.012168347835540771,
          -0.010897308588027954,
          -0.018774211406707764,
          -0.021394044160842896,
          -0.012609332799911499,
          -0.010977476835250854,
          -0.011857181787490845,
          -0.011724025011062622,
          -0.015842080116271973,
          -0.014592230319976807,
          -0.019177168607711792,
          -0.013653799891471863,
          -0.017513960599899292,
          -0.01064223051071167,
          -0.012607529759407043,
          -0.00709649920463562,
          -0.010750174522399902,
          -0.010200798511505127,
          -0.012358307838439941,
          -0.0079277902841568,
          -0.008151859045028687,
          -0.008857756853103638,
          -0.006805866956710815,
          -0.010056108236312866,
          -0.011395782232284546,
          -0.0076472461223602295,
          -0.011943519115447998,
          -0.008505672216415405,
          -0.007962793111801147,
          -0.007577285170555115,
          -0.013291984796524048,
          -0.00767284631729126,
          -0.010393291711807251,
          -0.00679384171962738,
          -0.010385274887084961,
          -0.008439972996711731,
          -0.01197156310081482,
          -0.01792559027671814,
          -0.01880297064781189,
          -0.012876063585281372,
          -0.012230217456817627,
          -0.018036186695098877,
          -0.017225906252861023,
          -0.015870720148086548,
          -0.015639156103134155,
          -0.01679430902004242,
          -0.01831194758415222,
          -0.010758325457572937,
          -0.020559698343276978,
          -0.02172452211380005,
          -0.010704010725021362,
          -0.02789384126663208,
          -0.03467071056365967,
          -0.018537253141403198,
          -0.011058807373046875,
          -0.015273898839950562,
          -0.019919663667678833,
          -0.012773901224136353,
          -0.02399429678916931,
          -0.014628022909164429,
          -0.008593752980232239,
          -0.01858687400817871,
          -0.01836445927619934,
          -0.012670725584030151,
          -0.012392520904541016,
          -0.014870241284370422,
          -0.014991581439971924,
          -0.017377108335494995,
          -0.013572782278060913,
          -0.01040196418762207,
          -0.015744507312774658,
          -0.016144752502441406,
          -0.02461075782775879,
          -0.00958995521068573,
          -0.01060059666633606,
          -0.01197439432144165,
          -0.009871706366539001,
          -0.017593413591384888,
          -0.019264519214630127,
          -0.009363502264022827,
          -0.010905176401138306,
          -0.008450090885162354,
          -0.013689607381820679,
          -0.01371602714061737,
          -0.01710936427116394,
          -0.017579585313796997,
          -0.0338081419467926,
          -0.012461245059967041,
          -0.01630336046218872,
          -0.01944565773010254,
          -0.012704968452453613,
          -0.010830074548721313,
          -0.01110789179801941,
          -0.009972915053367615,
          -0.015888571739196777,
          -0.013426929712295532,
          -0.017007112503051758,
          -0.019806891679763794,
          -0.0153580904006958,
          -0.01975959539413452,
          -0.024229377508163452,
          -0.010784745216369629,
          -0.017672866582870483,
          -0.02349412441253662,
          -0.012994527816772461,
          -0.013148665428161621,
          -0.012524262070655823,
          -0.013874679803848267,
          -0.015725404024124146,
          -0.014469414949417114,
          -0.019443124532699585,
          -0.014624461531639099,
          -0.017376884818077087,
          -0.010835155844688416,
          -0.011358112096786499,
          -0.01765623688697815,
          -0.022719979286193848,
          -0.01525762677192688,
          -0.01763153076171875,
          -0.016029536724090576,
          -0.012046605348587036,
          -0.013070434331893921,
          -0.01087808609008789,
          -0.016033411026000977,
          -0.019038677215576172,
          -0.013694018125534058,
          -0.015038788318634033,
          -0.013747215270996094,
          -0.014744967222213745,
          -0.012341171503067017,
          -0.015877217054367065,
          -0.013439476490020752,
          -0.018488824367523193,
          -0.017589688301086426,
          -0.01480633020401001,
          -0.025711476802825928,
          -0.020135462284088135,
          -0.014033898711204529,
          -0.013354286551475525,
          -0.014128372073173523,
          -0.012709483504295349,
          -0.017446964979171753,
          -0.014471933245658875,
          -0.018895059823989868,
          -0.020542800426483154,
          -0.01653909683227539,
          -0.020733952522277832,
          -0.014756649732589722,
          -0.01701730489730835,
          -0.015500515699386597,
          -0.015753328800201416,
          -0.01226779818534851,
          -0.012584269046783447,
          -0.015627160668373108,
          -0.012740403413772583,
          -0.012992769479751587,
          -0.01754319667816162,
          -0.01710548996925354,
          -0.02102220058441162,
          -0.013387694954872131,
          -0.018479138612747192,
          -0.02096058428287506,
          -0.020020008087158203,
          -0.012510538101196289,
          -0.00818440318107605,
          -0.013729691505432129,
          -0.018015503883361816,
          -0.01727202534675598,
          -0.013370811939239502,
          -0.014385730028152466,
          -0.021881163120269775,
          -0.012762337923049927,
          -0.015481144189834595,
          -0.015809237957000732,
          -0.019497931003570557,
          -0.01904556155204773,
          -0.0123976469039917,
          -0.014474868774414062,
          -0.01371648907661438,
          -0.011379063129425049,
          -0.01936015486717224,
          -0.01777064800262451,
          -0.011418133974075317,
          -0.017459064722061157,
          -0.006641849875450134,
          -0.013344615697860718,
          -0.024026691913604736,
          -0.012838482856750488,
          -0.016972392797470093,
          -0.01497584581375122,
          -0.013479143381118774,
          -0.016146212816238403,
          -0.01564350724220276,
          -0.013948231935501099,
          -0.011063486337661743,
          -0.01785406470298767,
          -0.012161076068878174,
          -0.0193941593170166,
          -0.022203773260116577,
          -0.012835115194320679,
          -0.015292763710021973,
          -0.02128845453262329,
          -0.016072392463684082,
          -0.016490846872329712,
          -0.015942513942718506,
          -0.011873066425323486,
          -0.018956542015075684,
          -0.014664813876152039,
          -0.012648612260818481,
          -0.012476354837417603,
          -0.013100609183311462,
          -0.012806609272956848,
          -0.00994369387626648,
          -0.01112094521522522,
          -0.01454240083694458,
          -0.01951730251312256,
          -0.013377472758293152,
          -0.012842118740081787,
          -0.014500677585601807,
          -0.02419552206993103,
          -0.010981857776641846,
          -0.015415191650390625,
          -0.014188066124916077,
          -0.013540193438529968,
          -0.010600671172142029,
          -0.013265639543533325,
          -0.010926365852355957,
          -0.011316284537315369,
          -0.01661856472492218,
          -0.010381102561950684,
          -0.009119093418121338,
          -0.02900037169456482,
          -0.014551997184753418,
          -0.016680270433425903,
          -0.012768536806106567,
          -0.014493376016616821,
          -0.012156873941421509,
          -0.01536974310874939,
          -0.0178508460521698,
          -0.0338081419467926,
          -0.012341678142547607,
          -0.03135591745376587,
          -0.020723164081573486,
          -0.016017287969589233,
          -0.017881274223327637,
          -0.011693969368934631,
          -0.013799607753753662,
          -0.016548186540603638,
          -0.016063600778579712,
          -0.023223668336868286,
          -0.02609199285507202,
          -0.018946468830108643,
          -0.01683291792869568,
          -0.011595010757446289,
          -0.015038996934890747,
          -0.012170612812042236,
          -0.009666025638580322,
          -0.012792080640792847,
          -0.022847682237625122,
          -0.01708662509918213,
          -0.016642063856124878,
          -0.009085312485694885,
          -0.018173784017562866,
          -0.016166746616363525,
          -0.007293879985809326,
          -0.014099150896072388,
          -0.010182887315750122,
          -0.010520875453948975,
          -0.008768916130065918,
          -0.01787082850933075,
          -0.013720929622650146,
          -0.025143831968307495,
          -0.010213643312454224,
          -0.017191976308822632,
          -0.016875475645065308,
          -0.015450447797775269,
          -0.014888003468513489,
          -0.01150524616241455,
          -0.014377206563949585,
          -0.013750016689300537,
          -0.0226270854473114,
          -0.010201871395111084,
          -0.012945413589477539,
          -0.01719072461128235,
          -0.023124873638153076,
          -0.014942407608032227,
          -0.014538854360580444,
          -0.012464821338653564,
          -0.012487262487411499,
          -0.010715276002883911,
          -0.019172683358192444,
          -0.02609199285507202,
          -0.015770554542541504,
          -0.013890743255615234,
          -0.01404494047164917,
          -0.016101032495498657,
          -0.014247924089431763,
          -0.01443856954574585,
          -0.01630505919456482,
          -0.022130757570266724,
          -0.01865631341934204,
          -0.015557169914245605,
          -0.013317123055458069,
          -0.02630072832107544,
          -0.015370994806289673,
          -0.011700212955474854,
          -0.010190397500991821,
          -0.016292333602905273,
          -0.015805453062057495,
          -0.018929362297058105,
          -0.013465642929077148,
          -0.012888550758361816,
          -0.010133162140846252,
          -0.016687870025634766,
          -0.013730466365814209,
          -0.012279704213142395,
          -0.02168653905391693,
          -0.021878451108932495,
          -0.013324141502380371,
          -0.0200384259223938,
          -0.008334949612617493,
          -0.0172499418258667,
          -0.016672581434249878,
          -0.010622277855873108,
          -0.02840280532836914,
          -0.012663036584854126,
          -0.0165480375289917,
          -0.01859632134437561,
          -0.022203773260116577,
          -0.010118946433067322,
          -0.02394351363182068,
          -0.012980252504348755,
          -0.01966211199760437,
          -0.020680934190750122,
          -0.01407293975353241,
          -0.010316520929336548,
          -0.016632795333862305,
          -0.03189411759376526,
          -0.010537102818489075,
          -0.011944353580474854,
          -0.02012687921524048,
          -0.025838583707809448,
          -0.0207538902759552,
          -0.010234996676445007,
          -0.011491835117340088,
          -0.01715373992919922,
          -0.009617403149604797,
          -0.010946527123451233,
          -0.021620601415634155,
          -0.009368926286697388,
          -0.007672175765037537,
          -0.011481821537017822,
          -0.014777511358261108,
          -0.01650869846343994,
          -0.01655125617980957,
          -0.013874918222427368,
          -0.02188214659690857,
          -0.01155024766921997,
          -0.009620711207389832,
          -0.010237589478492737,
          -0.023412659764289856,
          -0.013670280575752258,
          -0.014247596263885498,
          -0.014726489782333374,
          -0.008054018020629883,
          -0.0248507559299469,
          -0.010481446981430054,
          -0.016985595226287842,
          -0.015738368034362793,
          -0.01823839545249939,
          -0.011152654886245728,
          -0.018809303641319275,
          -0.008921802043914795,
          -0.011574670672416687,
          -0.013495385646820068,
          -0.018542230129241943,
          -0.018457412719726562,
          -0.017700225114822388,
          -0.01768389344215393,
          -0.016412824392318726,
          -0.016804248094558716,
          -0.013993144035339355,
          -0.020329207181930542,
          -0.01626911759376526,
          -0.025838583707809448,
          -0.014410585165023804,
          -0.015289247035980225,
          -0.01139611005783081,
          -0.011882469058036804,
          -0.012285962700843811,
          -0.014655470848083496,
          -0.021151646971702576,
          -0.011157289147377014,
          -0.022951200604438782,
          -0.019348561763763428,
          -0.02449735999107361,
          -0.009416669607162476,
          -0.022828221321105957,
          -0.01556888222694397,
          -0.017272472381591797,
          -0.022629082202911377,
          -0.018084615468978882,
          -0.009296566247940063,
          -0.014074087142944336,
          -0.023770883679389954,
          -0.012212976813316345,
          -0.01659756898880005,
          -0.018927156925201416,
          -0.024651214480400085,
          -0.014572888612747192,
          -0.020331591367721558,
          -0.01591557264328003,
          -0.014222323894500732,
          -0.02249854803085327,
          -0.009852692484855652,
          -0.018297404050827026,
          -0.011379584670066833,
          -0.024507492780685425,
          -0.017046421766281128,
          -0.01756948232650757,
          -0.010089188814163208,
          -0.010466396808624268,
          -0.012463271617889404,
          -0.01463162899017334,
          -0.015578508377075195,
          -0.009935557842254639,
          -0.011822879314422607,
          -0.01673966646194458,
          -0.015769153833389282,
          -0.012266963720321655,
          -0.020524054765701294,
          -0.015218913555145264,
          -0.016270190477371216,
          -0.013225451111793518,
          -0.013312727212905884,
          -0.014645248651504517,
          -0.013250470161437988,
          -0.012422919273376465,
          -0.01658463478088379,
          -0.009400606155395508,
          -0.01408076286315918,
          -0.017178326845169067,
          -0.024971753358840942,
          -0.01413734257221222,
          -0.012699469923973083,
          -0.021132931113243103,
          -0.015813708305358887,
          -0.013912826776504517,
          -0.01877446472644806,
          -0.02566838264465332,
          -0.013471916317939758,
          -0.010952666401863098,
          -0.015089929103851318,
          -0.013519376516342163,
          -0.018261492252349854,
          -0.02394351363182068,
          -0.011135086417198181,
          -0.01925751566886902,
          -0.010564401745796204,
          -0.013212323188781738,
          -0.010582402348518372,
          -0.012647539377212524,
          -0.012804880738258362,
          -0.014207035303115845,
          -0.021024540066719055,
          -0.007913395762443542,
          -0.010228469967842102,
          -0.014284670352935791,
          -0.018790602684020996,
          -0.018384277820587158,
          -0.026615619659423828,
          -0.014284729957580566,
          -0.01004992425441742,
          -0.01621153950691223,
          -0.017726778984069824,
          -0.0100172758102417,
          -0.021376818418502808,
          -0.017143279314041138,
          -0.012094348669052124,
          -0.022012144327163696,
          -0.02432769536972046,
          -0.017812803387641907,
          -0.020804911851882935,
          -0.00993579626083374,
          -0.01316148042678833,
          -0.014248937368392944,
          -0.017810434103012085,
          -0.009715497493743896,
          -0.011245399713516235,
          -0.025776177644729614,
          -0.013026922941207886,
          -0.011732175946235657,
          -0.011245399713516235,
          -0.020001143217086792,
          -0.02484077215194702,
          -0.013038724660873413,
          -0.008732333779335022,
          -0.018746182322502136,
          -0.013461276888847351,
          -0.02140924334526062,
          -0.008577436208724976,
          -0.009121179580688477,
          -0.02331717312335968,
          -0.013846620917320251,
          -0.013100624084472656,
          -0.014216840267181396,
          -0.019427090883255005,
          -0.011704891920089722,
          -0.02320908010005951,
          -0.011091142892837524,
          -0.013653725385665894,
          -0.012096300721168518,
          -0.021284759044647217,
          -0.009071603417396545,
          -0.014982491731643677,
          -0.019165217876434326,
          -0.019425034523010254,
          -0.019407838582992554,
          -0.013404816389083862,
          -0.018707245588302612,
          -0.01930364966392517,
          -0.0101776123046875,
          -0.019680827856063843,
          -0.01074017584323883,
          -0.012979358434677124,
          -0.012025922536849976,
          -0.009310513734817505,
          -0.010292991995811462,
          -0.025087088346481323,
          -0.010314643383026123,
          -0.013914644718170166,
          -0.019411951303482056,
          -0.012517094612121582,
          -0.01892945170402527,
          -0.0338081419467926,
          -0.009671211242675781,
          -0.008563771843910217,
          -0.007354602217674255,
          -0.018909528851509094,
          -0.0125199556350708,
          -0.016970396041870117,
          -0.015018865466117859,
          -0.012090101838111877,
          -0.006642147898674011,
          -0.013697326183319092,
          -0.011174798011779785,
          -0.018457412719726562,
          -0.011788681149482727,
          -0.01676151156425476,
          -0.015197500586509705,
          -0.016250312328338623,
          -0.012527883052825928,
          -0.01566222310066223,
          -0.013004899024963379,
          -0.015359669923782349,
          -0.011751577258110046,
          -0.019721895456314087,
          -0.01582968235015869,
          -0.010216549038887024,
          -0.02418997883796692,
          -0.02293035387992859,
          -0.023527950048446655,
          -0.02127411961555481,
          -0.014857470989227295,
          -0.019836902618408203,
          -0.006804570555686951,
          -0.01882198452949524,
          -0.012678757309913635,
          -0.020757049322128296,
          -0.014486998319625854,
          -0.013644307851791382,
          -0.013040810823440552,
          -0.009653255343437195,
          -0.009777486324310303,
          -0.014421314001083374,
          -0.01395764946937561,
          -0.02256639301776886,
          -0.020763307809829712,
          -0.020763307809829712,
          -0.020763307809829712,
          -0.023361220955848694,
          -0.018161684274673462,
          -0.011755198240280151,
          -0.02388337254524231,
          -0.010961979627609253,
          -0.013116955757141113,
          -0.010956332087516785,
          -0.011232241988182068,
          -0.011992931365966797,
          -0.0217745304107666,
          -0.01814766228199005,
          -0.024304479360580444,
          -0.008664548397064209,
          -0.024304479360580444,
          -0.006377860903739929,
          -0.010756075382232666,
          -0.009386420249938965,
          -0.020221233367919922,
          -0.015322118997573853,
          -0.006377860903739929,
          -0.018707245588302612,
          -0.00905667245388031,
          -0.014756858348846436,
          -0.017662078142166138,
          -0.013156965374946594,
          -0.010346993803977966,
          -0.010949164628982544,
          -0.010404109954833984,
          -0.01262781023979187,
          -0.009670853614807129,
          -0.02500900626182556,
          -0.018122658133506775,
          -0.023187756538391113,
          -0.03453892469406128,
          -0.02271607518196106,
          -0.010473832488059998,
          -0.025087088346481323,
          -0.018206894397735596,
          -0.010300427675247192,
          -0.010545119643211365,
          -0.02449735999107361,
          -0.02566838264465332,
          -0.015525653958320618
         ]
        }
       ],
       "layout": {
        "font": {
         "size": 30
        },
        "paper_bgcolor": "white",
        "plot_bgcolor": "white",
        "template": {
         "data": {
          "bar": [
           {
            "error_x": {
             "color": "#2a3f5f"
            },
            "error_y": {
             "color": "#2a3f5f"
            },
            "marker": {
             "line": {
              "color": "#E5ECF6",
              "width": 0.5
             },
             "pattern": {
              "fillmode": "overlay",
              "size": 10,
              "solidity": 0.2
             }
            },
            "type": "bar"
           }
          ],
          "barpolar": [
           {
            "marker": {
             "line": {
              "color": "#E5ECF6",
              "width": 0.5
             },
             "pattern": {
              "fillmode": "overlay",
              "size": 10,
              "solidity": 0.2
             }
            },
            "type": "barpolar"
           }
          ],
          "carpet": [
           {
            "aaxis": {
             "endlinecolor": "#2a3f5f",
             "gridcolor": "white",
             "linecolor": "white",
             "minorgridcolor": "white",
             "startlinecolor": "#2a3f5f"
            },
            "baxis": {
             "endlinecolor": "#2a3f5f",
             "gridcolor": "white",
             "linecolor": "white",
             "minorgridcolor": "white",
             "startlinecolor": "#2a3f5f"
            },
            "type": "carpet"
           }
          ],
          "choropleth": [
           {
            "colorbar": {
             "outlinewidth": 0,
             "ticks": ""
            },
            "type": "choropleth"
           }
          ],
          "contour": [
           {
            "colorbar": {
             "outlinewidth": 0,
             "ticks": ""
            },
            "colorscale": [
             [
              0,
              "#0d0887"
             ],
             [
              0.1111111111111111,
              "#46039f"
             ],
             [
              0.2222222222222222,
              "#7201a8"
             ],
             [
              0.3333333333333333,
              "#9c179e"
             ],
             [
              0.4444444444444444,
              "#bd3786"
             ],
             [
              0.5555555555555556,
              "#d8576b"
             ],
             [
              0.6666666666666666,
              "#ed7953"
             ],
             [
              0.7777777777777778,
              "#fb9f3a"
             ],
             [
              0.8888888888888888,
              "#fdca26"
             ],
             [
              1,
              "#f0f921"
             ]
            ],
            "type": "contour"
           }
          ],
          "contourcarpet": [
           {
            "colorbar": {
             "outlinewidth": 0,
             "ticks": ""
            },
            "type": "contourcarpet"
           }
          ],
          "heatmap": [
           {
            "colorbar": {
             "outlinewidth": 0,
             "ticks": ""
            },
            "colorscale": [
             [
              0,
              "#0d0887"
             ],
             [
              0.1111111111111111,
              "#46039f"
             ],
             [
              0.2222222222222222,
              "#7201a8"
             ],
             [
              0.3333333333333333,
              "#9c179e"
             ],
             [
              0.4444444444444444,
              "#bd3786"
             ],
             [
              0.5555555555555556,
              "#d8576b"
             ],
             [
              0.6666666666666666,
              "#ed7953"
             ],
             [
              0.7777777777777778,
              "#fb9f3a"
             ],
             [
              0.8888888888888888,
              "#fdca26"
             ],
             [
              1,
              "#f0f921"
             ]
            ],
            "type": "heatmap"
           }
          ],
          "heatmapgl": [
           {
            "colorbar": {
             "outlinewidth": 0,
             "ticks": ""
            },
            "colorscale": [
             [
              0,
              "#0d0887"
             ],
             [
              0.1111111111111111,
              "#46039f"
             ],
             [
              0.2222222222222222,
              "#7201a8"
             ],
             [
              0.3333333333333333,
              "#9c179e"
             ],
             [
              0.4444444444444444,
              "#bd3786"
             ],
             [
              0.5555555555555556,
              "#d8576b"
             ],
             [
              0.6666666666666666,
              "#ed7953"
             ],
             [
              0.7777777777777778,
              "#fb9f3a"
             ],
             [
              0.8888888888888888,
              "#fdca26"
             ],
             [
              1,
              "#f0f921"
             ]
            ],
            "type": "heatmapgl"
           }
          ],
          "histogram": [
           {
            "marker": {
             "pattern": {
              "fillmode": "overlay",
              "size": 10,
              "solidity": 0.2
             }
            },
            "type": "histogram"
           }
          ],
          "histogram2d": [
           {
            "colorbar": {
             "outlinewidth": 0,
             "ticks": ""
            },
            "colorscale": [
             [
              0,
              "#0d0887"
             ],
             [
              0.1111111111111111,
              "#46039f"
             ],
             [
              0.2222222222222222,
              "#7201a8"
             ],
             [
              0.3333333333333333,
              "#9c179e"
             ],
             [
              0.4444444444444444,
              "#bd3786"
             ],
             [
              0.5555555555555556,
              "#d8576b"
             ],
             [
              0.6666666666666666,
              "#ed7953"
             ],
             [
              0.7777777777777778,
              "#fb9f3a"
             ],
             [
              0.8888888888888888,
              "#fdca26"
             ],
             [
              1,
              "#f0f921"
             ]
            ],
            "type": "histogram2d"
           }
          ],
          "histogram2dcontour": [
           {
            "colorbar": {
             "outlinewidth": 0,
             "ticks": ""
            },
            "colorscale": [
             [
              0,
              "#0d0887"
             ],
             [
              0.1111111111111111,
              "#46039f"
             ],
             [
              0.2222222222222222,
              "#7201a8"
             ],
             [
              0.3333333333333333,
              "#9c179e"
             ],
             [
              0.4444444444444444,
              "#bd3786"
             ],
             [
              0.5555555555555556,
              "#d8576b"
             ],
             [
              0.6666666666666666,
              "#ed7953"
             ],
             [
              0.7777777777777778,
              "#fb9f3a"
             ],
             [
              0.8888888888888888,
              "#fdca26"
             ],
             [
              1,
              "#f0f921"
             ]
            ],
            "type": "histogram2dcontour"
           }
          ],
          "mesh3d": [
           {
            "colorbar": {
             "outlinewidth": 0,
             "ticks": ""
            },
            "type": "mesh3d"
           }
          ],
          "parcoords": [
           {
            "line": {
             "colorbar": {
              "outlinewidth": 0,
              "ticks": ""
             }
            },
            "type": "parcoords"
           }
          ],
          "pie": [
           {
            "automargin": true,
            "type": "pie"
           }
          ],
          "scatter": [
           {
            "fillpattern": {
             "fillmode": "overlay",
             "size": 10,
             "solidity": 0.2
            },
            "type": "scatter"
           }
          ],
          "scatter3d": [
           {
            "line": {
             "colorbar": {
              "outlinewidth": 0,
              "ticks": ""
             }
            },
            "marker": {
             "colorbar": {
              "outlinewidth": 0,
              "ticks": ""
             }
            },
            "type": "scatter3d"
           }
          ],
          "scattercarpet": [
           {
            "marker": {
             "colorbar": {
              "outlinewidth": 0,
              "ticks": ""
             }
            },
            "type": "scattercarpet"
           }
          ],
          "scattergeo": [
           {
            "marker": {
             "colorbar": {
              "outlinewidth": 0,
              "ticks": ""
             }
            },
            "type": "scattergeo"
           }
          ],
          "scattergl": [
           {
            "marker": {
             "colorbar": {
              "outlinewidth": 0,
              "ticks": ""
             }
            },
            "type": "scattergl"
           }
          ],
          "scattermapbox": [
           {
            "marker": {
             "colorbar": {
              "outlinewidth": 0,
              "ticks": ""
             }
            },
            "type": "scattermapbox"
           }
          ],
          "scatterpolar": [
           {
            "marker": {
             "colorbar": {
              "outlinewidth": 0,
              "ticks": ""
             }
            },
            "type": "scatterpolar"
           }
          ],
          "scatterpolargl": [
           {
            "marker": {
             "colorbar": {
              "outlinewidth": 0,
              "ticks": ""
             }
            },
            "type": "scatterpolargl"
           }
          ],
          "scatterternary": [
           {
            "marker": {
             "colorbar": {
              "outlinewidth": 0,
              "ticks": ""
             }
            },
            "type": "scatterternary"
           }
          ],
          "surface": [
           {
            "colorbar": {
             "outlinewidth": 0,
             "ticks": ""
            },
            "colorscale": [
             [
              0,
              "#0d0887"
             ],
             [
              0.1111111111111111,
              "#46039f"
             ],
             [
              0.2222222222222222,
              "#7201a8"
             ],
             [
              0.3333333333333333,
              "#9c179e"
             ],
             [
              0.4444444444444444,
              "#bd3786"
             ],
             [
              0.5555555555555556,
              "#d8576b"
             ],
             [
              0.6666666666666666,
              "#ed7953"
             ],
             [
              0.7777777777777778,
              "#fb9f3a"
             ],
             [
              0.8888888888888888,
              "#fdca26"
             ],
             [
              1,
              "#f0f921"
             ]
            ],
            "type": "surface"
           }
          ],
          "table": [
           {
            "cells": {
             "fill": {
              "color": "#EBF0F8"
             },
             "line": {
              "color": "white"
             }
            },
            "header": {
             "fill": {
              "color": "#C8D4E3"
             },
             "line": {
              "color": "white"
             }
            },
            "type": "table"
           }
          ]
         },
         "layout": {
          "annotationdefaults": {
           "arrowcolor": "#2a3f5f",
           "arrowhead": 0,
           "arrowwidth": 1
          },
          "autotypenumbers": "strict",
          "coloraxis": {
           "colorbar": {
            "outlinewidth": 0,
            "ticks": ""
           }
          },
          "colorscale": {
           "diverging": [
            [
             0,
             "#8e0152"
            ],
            [
             0.1,
             "#c51b7d"
            ],
            [
             0.2,
             "#de77ae"
            ],
            [
             0.3,
             "#f1b6da"
            ],
            [
             0.4,
             "#fde0ef"
            ],
            [
             0.5,
             "#f7f7f7"
            ],
            [
             0.6,
             "#e6f5d0"
            ],
            [
             0.7,
             "#b8e186"
            ],
            [
             0.8,
             "#7fbc41"
            ],
            [
             0.9,
             "#4d9221"
            ],
            [
             1,
             "#276419"
            ]
           ],
           "sequential": [
            [
             0,
             "#0d0887"
            ],
            [
             0.1111111111111111,
             "#46039f"
            ],
            [
             0.2222222222222222,
             "#7201a8"
            ],
            [
             0.3333333333333333,
             "#9c179e"
            ],
            [
             0.4444444444444444,
             "#bd3786"
            ],
            [
             0.5555555555555556,
             "#d8576b"
            ],
            [
             0.6666666666666666,
             "#ed7953"
            ],
            [
             0.7777777777777778,
             "#fb9f3a"
            ],
            [
             0.8888888888888888,
             "#fdca26"
            ],
            [
             1,
             "#f0f921"
            ]
           ],
           "sequentialminus": [
            [
             0,
             "#0d0887"
            ],
            [
             0.1111111111111111,
             "#46039f"
            ],
            [
             0.2222222222222222,
             "#7201a8"
            ],
            [
             0.3333333333333333,
             "#9c179e"
            ],
            [
             0.4444444444444444,
             "#bd3786"
            ],
            [
             0.5555555555555556,
             "#d8576b"
            ],
            [
             0.6666666666666666,
             "#ed7953"
            ],
            [
             0.7777777777777778,
             "#fb9f3a"
            ],
            [
             0.8888888888888888,
             "#fdca26"
            ],
            [
             1,
             "#f0f921"
            ]
           ]
          },
          "colorway": [
           "#636efa",
           "#EF553B",
           "#00cc96",
           "#ab63fa",
           "#FFA15A",
           "#19d3f3",
           "#FF6692",
           "#B6E880",
           "#FF97FF",
           "#FECB52"
          ],
          "font": {
           "color": "#2a3f5f"
          },
          "geo": {
           "bgcolor": "white",
           "lakecolor": "white",
           "landcolor": "#E5ECF6",
           "showlakes": true,
           "showland": true,
           "subunitcolor": "white"
          },
          "hoverlabel": {
           "align": "left"
          },
          "hovermode": "closest",
          "mapbox": {
           "style": "light"
          },
          "paper_bgcolor": "white",
          "plot_bgcolor": "#E5ECF6",
          "polar": {
           "angularaxis": {
            "gridcolor": "white",
            "linecolor": "white",
            "ticks": ""
           },
           "bgcolor": "#E5ECF6",
           "radialaxis": {
            "gridcolor": "white",
            "linecolor": "white",
            "ticks": ""
           }
          },
          "scene": {
           "xaxis": {
            "backgroundcolor": "#E5ECF6",
            "gridcolor": "white",
            "gridwidth": 2,
            "linecolor": "white",
            "showbackground": true,
            "ticks": "",
            "zerolinecolor": "white"
           },
           "yaxis": {
            "backgroundcolor": "#E5ECF6",
            "gridcolor": "white",
            "gridwidth": 2,
            "linecolor": "white",
            "showbackground": true,
            "ticks": "",
            "zerolinecolor": "white"
           },
           "zaxis": {
            "backgroundcolor": "#E5ECF6",
            "gridcolor": "white",
            "gridwidth": 2,
            "linecolor": "white",
            "showbackground": true,
            "ticks": "",
            "zerolinecolor": "white"
           }
          },
          "shapedefaults": {
           "line": {
            "color": "#2a3f5f"
           }
          },
          "ternary": {
           "aaxis": {
            "gridcolor": "white",
            "linecolor": "white",
            "ticks": ""
           },
           "baxis": {
            "gridcolor": "white",
            "linecolor": "white",
            "ticks": ""
           },
           "bgcolor": "#E5ECF6",
           "caxis": {
            "gridcolor": "white",
            "linecolor": "white",
            "ticks": ""
           }
          },
          "title": {
           "x": 0.05
          },
          "xaxis": {
           "automargin": true,
           "gridcolor": "white",
           "linecolor": "white",
           "ticks": "",
           "title": {
            "standoff": 15
           },
           "zerolinecolor": "white",
           "zerolinewidth": 2
          },
          "yaxis": {
           "automargin": true,
           "gridcolor": "white",
           "linecolor": "white",
           "ticks": "",
           "title": {
            "standoff": 15
           },
           "zerolinecolor": "white",
           "zerolinewidth": 2
          }
         }
        },
        "title": {
         "text": "Distribution of Difference In Nuclear Norms - GMI vs GMI+XM"
        },
        "xaxis": {
         "title": {
          "text": "Difference In Nuclear Norms - GMI vs GMI+XM"
         }
        },
        "yaxis": {
         "title": {
          "text": "Frequency"
         }
        }
       }
      },
      "text/html": [
       "<div>                            <div id=\"b2b4525f-13a6-472f-8362-907a8dec1500\" class=\"plotly-graph-div\" style=\"height:525px; width:100%;\"></div>            <script type=\"text/javascript\">                require([\"plotly\"], function(Plotly) {                    window.PLOTLYENV=window.PLOTLYENV || {};                                    if (document.getElementById(\"b2b4525f-13a6-472f-8362-907a8dec1500\")) {                    Plotly.newPlot(                        \"b2b4525f-13a6-472f-8362-907a8dec1500\",                        [{\"x\":[-0.014520615339279175,-0.016168147325515747,-0.020269975066184998,-0.017268478870391846,-0.0210343599319458,-0.020063310861587524,-0.02013900876045227,-0.020333796739578247,-0.01703140139579773,-0.01930031180381775,-0.01816350221633911,-0.02110275626182556,-0.02202746272087097,-0.02002587914466858,-0.013398796319961548,-0.017711520195007324,-0.01706114411354065,-0.015221446752548218,-0.016949951648712158,-0.01931750774383545,-0.019502997398376465,-0.019825667142868042,-0.015132546424865723,-0.012412816286087036,-0.01274825632572174,-0.010412752628326416,-0.010165184736251831,-0.012402057647705078,-0.013961076736450195,-0.012128651142120361,-0.012405365705490112,-0.012132316827774048,-0.009844496846199036,-0.010353833436965942,-0.009115904569625854,-0.012626349925994873,-0.011877954006195068,-0.012691646814346313,-0.012687265872955322,-0.011057376861572266,-0.011295229196548462,-0.01192888617515564,-0.014821469783782959,-0.014302343130111694,-0.020390212535858154,-0.01795828342437744,-0.016163945198059082,-0.008926421403884888,-0.010422468185424805,-0.014510542154312134,-0.014048606157302856,-0.015575587749481201,-0.019723594188690186,-0.013575613498687744,-0.015430927276611328,-0.01723054051399231,-0.01546970009803772,-0.019638866186141968,-0.019314736127853394,-0.015797898173332214,-0.007473468780517578,-0.014321178197860718,-0.01985388994216919,-0.021039605140686035,-0.0216197669506073,-0.017334699630737305,-0.015698522329330444,-0.013478636741638184,-0.016581445932388306,-0.021197110414505005,-0.013376832008361816,-0.013159245252609253,-0.01953423023223877,-0.017070680856704712,-0.021377503871917725,-0.011983245611190796,-0.008558779954910278,-0.013485342264175415,-0.012478858232498169,-0.013431310653686523,-0.01743951439857483,-0.01824212074279785,-0.017811954021453857,-0.016161471605300903,-0.02602595090866089,-0.018066316843032837,-0.020469635725021362,-0.019239962100982666,-0.015886127948760986,-0.014739766716957092,-0.015360772609710693,-0.016592025756835938,-0.022860467433929443,-0.013631224632263184,-0.01049506664276123,-0.011779963970184326,-0.016502410173416138,-0.015026465058326721,-0.015801608562469482,-0.014903843402862549,-0.01814800500869751,-0.015075594186782837,-0.01627027988433838,-0.009519398212432861,-0.007856786251068115,-0.017358064651489258,-0.020166009664535522,-0.02029411494731903,-0.01661863923072815,-0.014729410409927368,-0.012110963463783264,-0.011660009622573853,-0.015670180320739746,-0.012696325778961182,-0.014164060354232788,-0.01526525616645813,-0.012960493564605713,-0.015775710344314575,-0.018181264400482178,-0.012645155191421509,-0.012988895177841187,-0.017652779817581177,-0.011105477809906006,-0.013052105903625488,-0.017863720655441284,-0.015299871563911438,-0.016808301210403442,-0.017034709453582764,-0.013799607753753662,-0.017210006713867188,-0.01250961422920227,-0.017992138862609863,-0.016003519296646118,-0.011800915002822876,-0.01995086669921875,-0.010570883750915527,-0.008811265230178833,-0.020417243242263794,-0.014019519090652466,-0.016299426555633545,-0.016572773456573486,-0.02270480990409851,-0.01641783118247986,-0.015607833862304688,-0.011257246136665344,-0.016945481300354004,-0.01713627576828003,-0.014146924018859863,-0.013077884912490845,-0.011820971965789795,-0.009307771921157837,-0.011235415935516357,-0.013085037469863892,-0.011982247233390808,-0.01284092664718628,-0.015753358602523804,-0.014232337474822998,-0.012520045042037964,-0.01907971501350403,-0.01655447483062744,-0.016132429242134094,-0.017631232738494873,-0.018483877182006836,-0.016550540924072266,-0.01919156312942505,-0.012537539005279541,-0.014008492231369019,-0.008540317416191101,-0.01638132333755493,-0.014973610639572144,-0.018136411905288696,-0.00932091474533081,-0.012874811887741089,-0.019446909427642822,-0.016798555850982666,-0.012968853116035461,-0.012305676937103271,-0.014480888843536377,-0.01271134614944458,-0.010766029357910156,-0.016376107931137085,-0.009317666292190552,-0.009152710437774658,-0.018076956272125244,-0.01926538348197937,-0.016168177127838135,-0.01200208067893982,-0.014295399188995361,-0.015384703874588013,-0.02000907063484192,-0.014522194862365723,-0.016885817050933838,-0.013651937246322632,-0.01274341344833374,-0.01562364399433136,-0.014386281371116638,-0.01001739501953125,-0.011734038591384888,-0.014607012271881104,-0.012861311435699463,-0.010202199220657349,-0.011296063661575317,-0.013302356004714966,-0.010642647743225098,-0.009605050086975098,-0.010659605264663696,-0.013075798749923706,-0.010583341121673584,-0.017366737127304077,-0.019269227981567383,-0.016121000051498413,-0.01739424467086792,-0.013342708349227905,-0.02141210436820984,-0.011736005544662476,-0.017977982759475708,-0.015330731868743896,-0.016239315271377563,-0.015096724033355713,-0.010200351476669312,-0.012463122606277466,-0.015731781721115112,-0.017226845026016235,-0.01592785120010376,-0.013612151145935059,-0.01266828179359436,-0.01260426640510559,-0.0157335102558136,-0.012358635663986206,-0.014865636825561523,-0.015652894973754883,-0.016861379146575928,-0.014945030212402344,-0.01693996787071228,-0.01799789071083069,-0.015480756759643555,-0.016119152307510376,-0.01616498827934265,-0.022293001413345337,-0.014641612768173218,-0.014416813850402832,-0.015161275863647461,-0.01845031976699829,-0.021009862422943115,-0.01578506827354431,-0.010160714387893677,-0.017089813947677612,-0.014573991298675537,-0.01592850685119629,-0.01677301526069641,-0.008975416421890259,-0.010645627975463867,-0.017542973160743713,-0.014939457178115845,-0.01447916030883789,-0.01764586567878723,-0.016360610723495483,-0.011768907308578491,-0.02083483338356018,-0.01928010582923889,-0.01733449101448059,-0.011407792568206787,-0.015326887369155884,-0.012458831071853638,-0.017793983221054077,-0.01879829168319702,-0.01941820979118347,-0.015361577272415161,-0.015544593334197998,-0.017723217606544495,-0.011787354946136475,-0.019912898540496826,-0.01975858211517334,-0.01577022671699524,-0.01472511887550354,-0.013529002666473389,-0.01596677303314209,-0.009829491376876831,-0.01360049843788147,-0.01155117154121399,-0.01215776801109314,-0.017138361930847168,-0.01603567600250244,-0.012070223689079285,-0.011680811643600464,-0.01983162760734558,-0.015755116939544678,-0.015892237424850464,-0.014793932437896729,-0.013687670230865479,-0.01626947522163391,-0.010370492935180664,-0.013605445623397827,-0.014244049787521362,-0.010946691036224365,-0.016317397356033325,-0.009868711233139038,-0.014771997928619385,-0.017682820558547974,-0.017715483903884888,-0.01873752474784851,-0.017254799604415894,-0.013235718011856079,-0.016637325286865234,-0.01466265320777893,-0.01910814642906189,-0.023309379816055298,-0.014385968446731567,-0.011643916368484497,-0.017958641052246094,-0.014584630727767944,-0.015972912311553955,-0.013245373964309692,-0.012128978967666626,-0.015207529067993164,-0.014469683170318604,-0.019554585218429565,-0.014536350965499878,-0.01115688681602478,-0.01122303307056427,-0.010239958763122559,-0.011220306158065796,-0.015332609415054321,-0.017828643321990967,-0.017870575189590454,-0.019507795572280884,-0.018748849630355835,-0.02110394835472107,-0.015222758054733276,-0.017425745725631714,-0.015562772750854492,-0.014510512351989746,-0.01767832040786743,-0.014268815517425537,-0.012545228004455566,-0.015184804797172546,-0.013413101434707642,-0.011297523975372314,-0.01457110047340393,-0.010185033082962036,-0.013928219676017761,-0.012006133794784546,-0.012646377086639404,-0.011942744255065918,-0.012011796236038208,-0.011534780263900757,-0.011689931154251099,-0.014025866985321045,-0.008467704057693481,-0.013599485158920288,-0.015739768743515015,-0.010367095470428467,-0.011913269758224487,-0.020036786794662476,-0.011901125311851501,-0.011340633034706116,-0.01592010259628296,-0.014903604984283447,-0.019834786653518677,-0.01884406805038452,-0.018451839685440063,-0.008765608072280884,-0.016103595495224,-0.012168347835540771,-0.010897308588027954,-0.018774211406707764,-0.021394044160842896,-0.012609332799911499,-0.010977476835250854,-0.011857181787490845,-0.011724025011062622,-0.015842080116271973,-0.014592230319976807,-0.019177168607711792,-0.013653799891471863,-0.017513960599899292,-0.01064223051071167,-0.012607529759407043,-0.00709649920463562,-0.010750174522399902,-0.010200798511505127,-0.012358307838439941,-0.0079277902841568,-0.008151859045028687,-0.008857756853103638,-0.006805866956710815,-0.010056108236312866,-0.011395782232284546,-0.0076472461223602295,-0.011943519115447998,-0.008505672216415405,-0.007962793111801147,-0.007577285170555115,-0.013291984796524048,-0.00767284631729126,-0.010393291711807251,-0.00679384171962738,-0.010385274887084961,-0.008439972996711731,-0.01197156310081482,-0.01792559027671814,-0.01880297064781189,-0.012876063585281372,-0.012230217456817627,-0.018036186695098877,-0.017225906252861023,-0.015870720148086548,-0.015639156103134155,-0.01679430902004242,-0.01831194758415222,-0.010758325457572937,-0.020559698343276978,-0.02172452211380005,-0.010704010725021362,-0.02789384126663208,-0.03467071056365967,-0.018537253141403198,-0.011058807373046875,-0.015273898839950562,-0.019919663667678833,-0.012773901224136353,-0.02399429678916931,-0.014628022909164429,-0.008593752980232239,-0.01858687400817871,-0.01836445927619934,-0.012670725584030151,-0.012392520904541016,-0.014870241284370422,-0.014991581439971924,-0.017377108335494995,-0.013572782278060913,-0.01040196418762207,-0.015744507312774658,-0.016144752502441406,-0.02461075782775879,-0.00958995521068573,-0.01060059666633606,-0.01197439432144165,-0.009871706366539001,-0.017593413591384888,-0.019264519214630127,-0.009363502264022827,-0.010905176401138306,-0.008450090885162354,-0.013689607381820679,-0.01371602714061737,-0.01710936427116394,-0.017579585313796997,-0.0338081419467926,-0.012461245059967041,-0.01630336046218872,-0.01944565773010254,-0.012704968452453613,-0.010830074548721313,-0.01110789179801941,-0.009972915053367615,-0.015888571739196777,-0.013426929712295532,-0.017007112503051758,-0.019806891679763794,-0.0153580904006958,-0.01975959539413452,-0.024229377508163452,-0.010784745216369629,-0.017672866582870483,-0.02349412441253662,-0.012994527816772461,-0.013148665428161621,-0.012524262070655823,-0.013874679803848267,-0.015725404024124146,-0.014469414949417114,-0.019443124532699585,-0.014624461531639099,-0.017376884818077087,-0.010835155844688416,-0.011358112096786499,-0.01765623688697815,-0.022719979286193848,-0.01525762677192688,-0.01763153076171875,-0.016029536724090576,-0.012046605348587036,-0.013070434331893921,-0.01087808609008789,-0.016033411026000977,-0.019038677215576172,-0.013694018125534058,-0.015038788318634033,-0.013747215270996094,-0.014744967222213745,-0.012341171503067017,-0.015877217054367065,-0.013439476490020752,-0.018488824367523193,-0.017589688301086426,-0.01480633020401001,-0.025711476802825928,-0.020135462284088135,-0.014033898711204529,-0.013354286551475525,-0.014128372073173523,-0.012709483504295349,-0.017446964979171753,-0.014471933245658875,-0.018895059823989868,-0.020542800426483154,-0.01653909683227539,-0.020733952522277832,-0.014756649732589722,-0.01701730489730835,-0.015500515699386597,-0.015753328800201416,-0.01226779818534851,-0.012584269046783447,-0.015627160668373108,-0.012740403413772583,-0.012992769479751587,-0.01754319667816162,-0.01710548996925354,-0.02102220058441162,-0.013387694954872131,-0.018479138612747192,-0.02096058428287506,-0.020020008087158203,-0.012510538101196289,-0.00818440318107605,-0.013729691505432129,-0.018015503883361816,-0.01727202534675598,-0.013370811939239502,-0.014385730028152466,-0.021881163120269775,-0.012762337923049927,-0.015481144189834595,-0.015809237957000732,-0.019497931003570557,-0.01904556155204773,-0.0123976469039917,-0.014474868774414062,-0.01371648907661438,-0.011379063129425049,-0.01936015486717224,-0.01777064800262451,-0.011418133974075317,-0.017459064722061157,-0.006641849875450134,-0.013344615697860718,-0.024026691913604736,-0.012838482856750488,-0.016972392797470093,-0.01497584581375122,-0.013479143381118774,-0.016146212816238403,-0.01564350724220276,-0.013948231935501099,-0.011063486337661743,-0.01785406470298767,-0.012161076068878174,-0.0193941593170166,-0.022203773260116577,-0.012835115194320679,-0.015292763710021973,-0.02128845453262329,-0.016072392463684082,-0.016490846872329712,-0.015942513942718506,-0.011873066425323486,-0.018956542015075684,-0.014664813876152039,-0.012648612260818481,-0.012476354837417603,-0.013100609183311462,-0.012806609272956848,-0.00994369387626648,-0.01112094521522522,-0.01454240083694458,-0.01951730251312256,-0.013377472758293152,-0.012842118740081787,-0.014500677585601807,-0.02419552206993103,-0.010981857776641846,-0.015415191650390625,-0.014188066124916077,-0.013540193438529968,-0.010600671172142029,-0.013265639543533325,-0.010926365852355957,-0.011316284537315369,-0.01661856472492218,-0.010381102561950684,-0.009119093418121338,-0.02900037169456482,-0.014551997184753418,-0.016680270433425903,-0.012768536806106567,-0.014493376016616821,-0.012156873941421509,-0.01536974310874939,-0.0178508460521698,-0.0338081419467926,-0.012341678142547607,-0.03135591745376587,-0.020723164081573486,-0.016017287969589233,-0.017881274223327637,-0.011693969368934631,-0.013799607753753662,-0.016548186540603638,-0.016063600778579712,-0.023223668336868286,-0.02609199285507202,-0.018946468830108643,-0.01683291792869568,-0.011595010757446289,-0.015038996934890747,-0.012170612812042236,-0.009666025638580322,-0.012792080640792847,-0.022847682237625122,-0.01708662509918213,-0.016642063856124878,-0.009085312485694885,-0.018173784017562866,-0.016166746616363525,-0.007293879985809326,-0.014099150896072388,-0.010182887315750122,-0.010520875453948975,-0.008768916130065918,-0.01787082850933075,-0.013720929622650146,-0.025143831968307495,-0.010213643312454224,-0.017191976308822632,-0.016875475645065308,-0.015450447797775269,-0.014888003468513489,-0.01150524616241455,-0.014377206563949585,-0.013750016689300537,-0.0226270854473114,-0.010201871395111084,-0.012945413589477539,-0.01719072461128235,-0.023124873638153076,-0.014942407608032227,-0.014538854360580444,-0.012464821338653564,-0.012487262487411499,-0.010715276002883911,-0.019172683358192444,-0.02609199285507202,-0.015770554542541504,-0.013890743255615234,-0.01404494047164917,-0.016101032495498657,-0.014247924089431763,-0.01443856954574585,-0.01630505919456482,-0.022130757570266724,-0.01865631341934204,-0.015557169914245605,-0.013317123055458069,-0.02630072832107544,-0.015370994806289673,-0.011700212955474854,-0.010190397500991821,-0.016292333602905273,-0.015805453062057495,-0.018929362297058105,-0.013465642929077148,-0.012888550758361816,-0.010133162140846252,-0.016687870025634766,-0.013730466365814209,-0.012279704213142395,-0.02168653905391693,-0.021878451108932495,-0.013324141502380371,-0.0200384259223938,-0.008334949612617493,-0.0172499418258667,-0.016672581434249878,-0.010622277855873108,-0.02840280532836914,-0.012663036584854126,-0.0165480375289917,-0.01859632134437561,-0.022203773260116577,-0.010118946433067322,-0.02394351363182068,-0.012980252504348755,-0.01966211199760437,-0.020680934190750122,-0.01407293975353241,-0.010316520929336548,-0.016632795333862305,-0.03189411759376526,-0.010537102818489075,-0.011944353580474854,-0.02012687921524048,-0.025838583707809448,-0.0207538902759552,-0.010234996676445007,-0.011491835117340088,-0.01715373992919922,-0.009617403149604797,-0.010946527123451233,-0.021620601415634155,-0.009368926286697388,-0.007672175765037537,-0.011481821537017822,-0.014777511358261108,-0.01650869846343994,-0.01655125617980957,-0.013874918222427368,-0.02188214659690857,-0.01155024766921997,-0.009620711207389832,-0.010237589478492737,-0.023412659764289856,-0.013670280575752258,-0.014247596263885498,-0.014726489782333374,-0.008054018020629883,-0.0248507559299469,-0.010481446981430054,-0.016985595226287842,-0.015738368034362793,-0.01823839545249939,-0.011152654886245728,-0.018809303641319275,-0.008921802043914795,-0.011574670672416687,-0.013495385646820068,-0.018542230129241943,-0.018457412719726562,-0.017700225114822388,-0.01768389344215393,-0.016412824392318726,-0.016804248094558716,-0.013993144035339355,-0.020329207181930542,-0.01626911759376526,-0.025838583707809448,-0.014410585165023804,-0.015289247035980225,-0.01139611005783081,-0.011882469058036804,-0.012285962700843811,-0.014655470848083496,-0.021151646971702576,-0.011157289147377014,-0.022951200604438782,-0.019348561763763428,-0.02449735999107361,-0.009416669607162476,-0.022828221321105957,-0.01556888222694397,-0.017272472381591797,-0.022629082202911377,-0.018084615468978882,-0.009296566247940063,-0.014074087142944336,-0.023770883679389954,-0.012212976813316345,-0.01659756898880005,-0.018927156925201416,-0.024651214480400085,-0.014572888612747192,-0.020331591367721558,-0.01591557264328003,-0.014222323894500732,-0.02249854803085327,-0.009852692484855652,-0.018297404050827026,-0.011379584670066833,-0.024507492780685425,-0.017046421766281128,-0.01756948232650757,-0.010089188814163208,-0.010466396808624268,-0.012463271617889404,-0.01463162899017334,-0.015578508377075195,-0.009935557842254639,-0.011822879314422607,-0.01673966646194458,-0.015769153833389282,-0.012266963720321655,-0.020524054765701294,-0.015218913555145264,-0.016270190477371216,-0.013225451111793518,-0.013312727212905884,-0.014645248651504517,-0.013250470161437988,-0.012422919273376465,-0.01658463478088379,-0.009400606155395508,-0.01408076286315918,-0.017178326845169067,-0.024971753358840942,-0.01413734257221222,-0.012699469923973083,-0.021132931113243103,-0.015813708305358887,-0.013912826776504517,-0.01877446472644806,-0.02566838264465332,-0.013471916317939758,-0.010952666401863098,-0.015089929103851318,-0.013519376516342163,-0.018261492252349854,-0.02394351363182068,-0.011135086417198181,-0.01925751566886902,-0.010564401745796204,-0.013212323188781738,-0.010582402348518372,-0.012647539377212524,-0.012804880738258362,-0.014207035303115845,-0.021024540066719055,-0.007913395762443542,-0.010228469967842102,-0.014284670352935791,-0.018790602684020996,-0.018384277820587158,-0.026615619659423828,-0.014284729957580566,-0.01004992425441742,-0.01621153950691223,-0.017726778984069824,-0.0100172758102417,-0.021376818418502808,-0.017143279314041138,-0.012094348669052124,-0.022012144327163696,-0.02432769536972046,-0.017812803387641907,-0.020804911851882935,-0.00993579626083374,-0.01316148042678833,-0.014248937368392944,-0.017810434103012085,-0.009715497493743896,-0.011245399713516235,-0.025776177644729614,-0.013026922941207886,-0.011732175946235657,-0.011245399713516235,-0.020001143217086792,-0.02484077215194702,-0.013038724660873413,-0.008732333779335022,-0.018746182322502136,-0.013461276888847351,-0.02140924334526062,-0.008577436208724976,-0.009121179580688477,-0.02331717312335968,-0.013846620917320251,-0.013100624084472656,-0.014216840267181396,-0.019427090883255005,-0.011704891920089722,-0.02320908010005951,-0.011091142892837524,-0.013653725385665894,-0.012096300721168518,-0.021284759044647217,-0.009071603417396545,-0.014982491731643677,-0.019165217876434326,-0.019425034523010254,-0.019407838582992554,-0.013404816389083862,-0.018707245588302612,-0.01930364966392517,-0.0101776123046875,-0.019680827856063843,-0.01074017584323883,-0.012979358434677124,-0.012025922536849976,-0.009310513734817505,-0.010292991995811462,-0.025087088346481323,-0.010314643383026123,-0.013914644718170166,-0.019411951303482056,-0.012517094612121582,-0.01892945170402527,-0.0338081419467926,-0.009671211242675781,-0.008563771843910217,-0.007354602217674255,-0.018909528851509094,-0.0125199556350708,-0.016970396041870117,-0.015018865466117859,-0.012090101838111877,-0.006642147898674011,-0.013697326183319092,-0.011174798011779785,-0.018457412719726562,-0.011788681149482727,-0.01676151156425476,-0.015197500586509705,-0.016250312328338623,-0.012527883052825928,-0.01566222310066223,-0.013004899024963379,-0.015359669923782349,-0.011751577258110046,-0.019721895456314087,-0.01582968235015869,-0.010216549038887024,-0.02418997883796692,-0.02293035387992859,-0.023527950048446655,-0.02127411961555481,-0.014857470989227295,-0.019836902618408203,-0.006804570555686951,-0.01882198452949524,-0.012678757309913635,-0.020757049322128296,-0.014486998319625854,-0.013644307851791382,-0.013040810823440552,-0.009653255343437195,-0.009777486324310303,-0.014421314001083374,-0.01395764946937561,-0.02256639301776886,-0.020763307809829712,-0.020763307809829712,-0.020763307809829712,-0.023361220955848694,-0.018161684274673462,-0.011755198240280151,-0.02388337254524231,-0.010961979627609253,-0.013116955757141113,-0.010956332087516785,-0.011232241988182068,-0.011992931365966797,-0.0217745304107666,-0.01814766228199005,-0.024304479360580444,-0.008664548397064209,-0.024304479360580444,-0.006377860903739929,-0.010756075382232666,-0.009386420249938965,-0.020221233367919922,-0.015322118997573853,-0.006377860903739929,-0.018707245588302612,-0.00905667245388031,-0.014756858348846436,-0.017662078142166138,-0.013156965374946594,-0.010346993803977966,-0.010949164628982544,-0.010404109954833984,-0.01262781023979187,-0.009670853614807129,-0.02500900626182556,-0.018122658133506775,-0.023187756538391113,-0.03453892469406128,-0.02271607518196106,-0.010473832488059998,-0.025087088346481323,-0.018206894397735596,-0.010300427675247192,-0.010545119643211365,-0.02449735999107361,-0.02566838264465332,-0.015525653958320618],\"type\":\"histogram\"}],                        {\"template\":{\"data\":{\"histogram2dcontour\":[{\"type\":\"histogram2dcontour\",\"colorbar\":{\"outlinewidth\":0,\"ticks\":\"\"},\"colorscale\":[[0.0,\"#0d0887\"],[0.1111111111111111,\"#46039f\"],[0.2222222222222222,\"#7201a8\"],[0.3333333333333333,\"#9c179e\"],[0.4444444444444444,\"#bd3786\"],[0.5555555555555556,\"#d8576b\"],[0.6666666666666666,\"#ed7953\"],[0.7777777777777778,\"#fb9f3a\"],[0.8888888888888888,\"#fdca26\"],[1.0,\"#f0f921\"]]}],\"choropleth\":[{\"type\":\"choropleth\",\"colorbar\":{\"outlinewidth\":0,\"ticks\":\"\"}}],\"histogram2d\":[{\"type\":\"histogram2d\",\"colorbar\":{\"outlinewidth\":0,\"ticks\":\"\"},\"colorscale\":[[0.0,\"#0d0887\"],[0.1111111111111111,\"#46039f\"],[0.2222222222222222,\"#7201a8\"],[0.3333333333333333,\"#9c179e\"],[0.4444444444444444,\"#bd3786\"],[0.5555555555555556,\"#d8576b\"],[0.6666666666666666,\"#ed7953\"],[0.7777777777777778,\"#fb9f3a\"],[0.8888888888888888,\"#fdca26\"],[1.0,\"#f0f921\"]]}],\"heatmap\":[{\"type\":\"heatmap\",\"colorbar\":{\"outlinewidth\":0,\"ticks\":\"\"},\"colorscale\":[[0.0,\"#0d0887\"],[0.1111111111111111,\"#46039f\"],[0.2222222222222222,\"#7201a8\"],[0.3333333333333333,\"#9c179e\"],[0.4444444444444444,\"#bd3786\"],[0.5555555555555556,\"#d8576b\"],[0.6666666666666666,\"#ed7953\"],[0.7777777777777778,\"#fb9f3a\"],[0.8888888888888888,\"#fdca26\"],[1.0,\"#f0f921\"]]}],\"heatmapgl\":[{\"type\":\"heatmapgl\",\"colorbar\":{\"outlinewidth\":0,\"ticks\":\"\"},\"colorscale\":[[0.0,\"#0d0887\"],[0.1111111111111111,\"#46039f\"],[0.2222222222222222,\"#7201a8\"],[0.3333333333333333,\"#9c179e\"],[0.4444444444444444,\"#bd3786\"],[0.5555555555555556,\"#d8576b\"],[0.6666666666666666,\"#ed7953\"],[0.7777777777777778,\"#fb9f3a\"],[0.8888888888888888,\"#fdca26\"],[1.0,\"#f0f921\"]]}],\"contourcarpet\":[{\"type\":\"contourcarpet\",\"colorbar\":{\"outlinewidth\":0,\"ticks\":\"\"}}],\"contour\":[{\"type\":\"contour\",\"colorbar\":{\"outlinewidth\":0,\"ticks\":\"\"},\"colorscale\":[[0.0,\"#0d0887\"],[0.1111111111111111,\"#46039f\"],[0.2222222222222222,\"#7201a8\"],[0.3333333333333333,\"#9c179e\"],[0.4444444444444444,\"#bd3786\"],[0.5555555555555556,\"#d8576b\"],[0.6666666666666666,\"#ed7953\"],[0.7777777777777778,\"#fb9f3a\"],[0.8888888888888888,\"#fdca26\"],[1.0,\"#f0f921\"]]}],\"surface\":[{\"type\":\"surface\",\"colorbar\":{\"outlinewidth\":0,\"ticks\":\"\"},\"colorscale\":[[0.0,\"#0d0887\"],[0.1111111111111111,\"#46039f\"],[0.2222222222222222,\"#7201a8\"],[0.3333333333333333,\"#9c179e\"],[0.4444444444444444,\"#bd3786\"],[0.5555555555555556,\"#d8576b\"],[0.6666666666666666,\"#ed7953\"],[0.7777777777777778,\"#fb9f3a\"],[0.8888888888888888,\"#fdca26\"],[1.0,\"#f0f921\"]]}],\"mesh3d\":[{\"type\":\"mesh3d\",\"colorbar\":{\"outlinewidth\":0,\"ticks\":\"\"}}],\"scatter\":[{\"fillpattern\":{\"fillmode\":\"overlay\",\"size\":10,\"solidity\":0.2},\"type\":\"scatter\"}],\"parcoords\":[{\"type\":\"parcoords\",\"line\":{\"colorbar\":{\"outlinewidth\":0,\"ticks\":\"\"}}}],\"scatterpolargl\":[{\"type\":\"scatterpolargl\",\"marker\":{\"colorbar\":{\"outlinewidth\":0,\"ticks\":\"\"}}}],\"bar\":[{\"error_x\":{\"color\":\"#2a3f5f\"},\"error_y\":{\"color\":\"#2a3f5f\"},\"marker\":{\"line\":{\"color\":\"#E5ECF6\",\"width\":0.5},\"pattern\":{\"fillmode\":\"overlay\",\"size\":10,\"solidity\":0.2}},\"type\":\"bar\"}],\"scattergeo\":[{\"type\":\"scattergeo\",\"marker\":{\"colorbar\":{\"outlinewidth\":0,\"ticks\":\"\"}}}],\"scatterpolar\":[{\"type\":\"scatterpolar\",\"marker\":{\"colorbar\":{\"outlinewidth\":0,\"ticks\":\"\"}}}],\"histogram\":[{\"marker\":{\"pattern\":{\"fillmode\":\"overlay\",\"size\":10,\"solidity\":0.2}},\"type\":\"histogram\"}],\"scattergl\":[{\"type\":\"scattergl\",\"marker\":{\"colorbar\":{\"outlinewidth\":0,\"ticks\":\"\"}}}],\"scatter3d\":[{\"type\":\"scatter3d\",\"line\":{\"colorbar\":{\"outlinewidth\":0,\"ticks\":\"\"}},\"marker\":{\"colorbar\":{\"outlinewidth\":0,\"ticks\":\"\"}}}],\"scattermapbox\":[{\"type\":\"scattermapbox\",\"marker\":{\"colorbar\":{\"outlinewidth\":0,\"ticks\":\"\"}}}],\"scatterternary\":[{\"type\":\"scatterternary\",\"marker\":{\"colorbar\":{\"outlinewidth\":0,\"ticks\":\"\"}}}],\"scattercarpet\":[{\"type\":\"scattercarpet\",\"marker\":{\"colorbar\":{\"outlinewidth\":0,\"ticks\":\"\"}}}],\"carpet\":[{\"aaxis\":{\"endlinecolor\":\"#2a3f5f\",\"gridcolor\":\"white\",\"linecolor\":\"white\",\"minorgridcolor\":\"white\",\"startlinecolor\":\"#2a3f5f\"},\"baxis\":{\"endlinecolor\":\"#2a3f5f\",\"gridcolor\":\"white\",\"linecolor\":\"white\",\"minorgridcolor\":\"white\",\"startlinecolor\":\"#2a3f5f\"},\"type\":\"carpet\"}],\"table\":[{\"cells\":{\"fill\":{\"color\":\"#EBF0F8\"},\"line\":{\"color\":\"white\"}},\"header\":{\"fill\":{\"color\":\"#C8D4E3\"},\"line\":{\"color\":\"white\"}},\"type\":\"table\"}],\"barpolar\":[{\"marker\":{\"line\":{\"color\":\"#E5ECF6\",\"width\":0.5},\"pattern\":{\"fillmode\":\"overlay\",\"size\":10,\"solidity\":0.2}},\"type\":\"barpolar\"}],\"pie\":[{\"automargin\":true,\"type\":\"pie\"}]},\"layout\":{\"autotypenumbers\":\"strict\",\"colorway\":[\"#636efa\",\"#EF553B\",\"#00cc96\",\"#ab63fa\",\"#FFA15A\",\"#19d3f3\",\"#FF6692\",\"#B6E880\",\"#FF97FF\",\"#FECB52\"],\"font\":{\"color\":\"#2a3f5f\"},\"hovermode\":\"closest\",\"hoverlabel\":{\"align\":\"left\"},\"paper_bgcolor\":\"white\",\"plot_bgcolor\":\"#E5ECF6\",\"polar\":{\"bgcolor\":\"#E5ECF6\",\"angularaxis\":{\"gridcolor\":\"white\",\"linecolor\":\"white\",\"ticks\":\"\"},\"radialaxis\":{\"gridcolor\":\"white\",\"linecolor\":\"white\",\"ticks\":\"\"}},\"ternary\":{\"bgcolor\":\"#E5ECF6\",\"aaxis\":{\"gridcolor\":\"white\",\"linecolor\":\"white\",\"ticks\":\"\"},\"baxis\":{\"gridcolor\":\"white\",\"linecolor\":\"white\",\"ticks\":\"\"},\"caxis\":{\"gridcolor\":\"white\",\"linecolor\":\"white\",\"ticks\":\"\"}},\"coloraxis\":{\"colorbar\":{\"outlinewidth\":0,\"ticks\":\"\"}},\"colorscale\":{\"sequential\":[[0.0,\"#0d0887\"],[0.1111111111111111,\"#46039f\"],[0.2222222222222222,\"#7201a8\"],[0.3333333333333333,\"#9c179e\"],[0.4444444444444444,\"#bd3786\"],[0.5555555555555556,\"#d8576b\"],[0.6666666666666666,\"#ed7953\"],[0.7777777777777778,\"#fb9f3a\"],[0.8888888888888888,\"#fdca26\"],[1.0,\"#f0f921\"]],\"sequentialminus\":[[0.0,\"#0d0887\"],[0.1111111111111111,\"#46039f\"],[0.2222222222222222,\"#7201a8\"],[0.3333333333333333,\"#9c179e\"],[0.4444444444444444,\"#bd3786\"],[0.5555555555555556,\"#d8576b\"],[0.6666666666666666,\"#ed7953\"],[0.7777777777777778,\"#fb9f3a\"],[0.8888888888888888,\"#fdca26\"],[1.0,\"#f0f921\"]],\"diverging\":[[0,\"#8e0152\"],[0.1,\"#c51b7d\"],[0.2,\"#de77ae\"],[0.3,\"#f1b6da\"],[0.4,\"#fde0ef\"],[0.5,\"#f7f7f7\"],[0.6,\"#e6f5d0\"],[0.7,\"#b8e186\"],[0.8,\"#7fbc41\"],[0.9,\"#4d9221\"],[1,\"#276419\"]]},\"xaxis\":{\"gridcolor\":\"white\",\"linecolor\":\"white\",\"ticks\":\"\",\"title\":{\"standoff\":15},\"zerolinecolor\":\"white\",\"automargin\":true,\"zerolinewidth\":2},\"yaxis\":{\"gridcolor\":\"white\",\"linecolor\":\"white\",\"ticks\":\"\",\"title\":{\"standoff\":15},\"zerolinecolor\":\"white\",\"automargin\":true,\"zerolinewidth\":2},\"scene\":{\"xaxis\":{\"backgroundcolor\":\"#E5ECF6\",\"gridcolor\":\"white\",\"linecolor\":\"white\",\"showbackground\":true,\"ticks\":\"\",\"zerolinecolor\":\"white\",\"gridwidth\":2},\"yaxis\":{\"backgroundcolor\":\"#E5ECF6\",\"gridcolor\":\"white\",\"linecolor\":\"white\",\"showbackground\":true,\"ticks\":\"\",\"zerolinecolor\":\"white\",\"gridwidth\":2},\"zaxis\":{\"backgroundcolor\":\"#E5ECF6\",\"gridcolor\":\"white\",\"linecolor\":\"white\",\"showbackground\":true,\"ticks\":\"\",\"zerolinecolor\":\"white\",\"gridwidth\":2}},\"shapedefaults\":{\"line\":{\"color\":\"#2a3f5f\"}},\"annotationdefaults\":{\"arrowcolor\":\"#2a3f5f\",\"arrowhead\":0,\"arrowwidth\":1},\"geo\":{\"bgcolor\":\"white\",\"landcolor\":\"#E5ECF6\",\"subunitcolor\":\"white\",\"showland\":true,\"showlakes\":true,\"lakecolor\":\"white\"},\"title\":{\"x\":0.05},\"mapbox\":{\"style\":\"light\"}}},\"title\":{\"text\":\"Distribution of Difference In Nuclear Norms - GMI vs GMI+XM\"},\"xaxis\":{\"title\":{\"text\":\"Difference In Nuclear Norms - GMI vs GMI+XM\"}},\"yaxis\":{\"title\":{\"text\":\"Frequency\"}},\"font\":{\"size\":30},\"plot_bgcolor\":\"white\",\"paper_bgcolor\":\"white\"},                        {\"responsive\": true}                    ).then(function(){\n",
       "                            \n",
       "var gd = document.getElementById('b2b4525f-13a6-472f-8362-907a8dec1500');\n",
       "var x = new MutationObserver(function (mutations, observer) {{\n",
       "        var display = window.getComputedStyle(gd).display;\n",
       "        if (!display || display === 'none') {{\n",
       "            console.log([gd, 'removed!']);\n",
       "            Plotly.purge(gd);\n",
       "            observer.disconnect();\n",
       "        }}\n",
       "}});\n",
       "\n",
       "// Listen for the removal of the full notebook cells\n",
       "var notebookContainer = gd.closest('#notebook-container');\n",
       "if (notebookContainer) {{\n",
       "    x.observe(notebookContainer, {childList: true});\n",
       "}}\n",
       "\n",
       "// Listen for the clearing of the current output cell\n",
       "var outputEl = gd.closest('.output');\n",
       "if (outputEl) {{\n",
       "    x.observe(outputEl, {childList: true});\n",
       "}}\n",
       "\n",
       "                        })                };                });            </script>        </div>"
      ]
     },
     "metadata": {},
     "output_type": "display_data"
    }
   ],
   "source": [
    "diff = np.array(norm_og) - np.array(norm_plus)\n",
    "fig = go.Figure()\n",
    "fig.add_trace(go.Histogram(x = diff))\n",
    "fig.update_layout(title_text = 'Distribution of Difference In Nuclear Norms - GMI vs GMI+XM', \n",
    "                  xaxis_title_text = 'Difference In Nuclear Norms - GMI vs GMI+XM', \n",
    "                  yaxis_title_text = 'Frequency', \n",
    "                  plot_bgcolor = 'white', \n",
    "                  paper_bgcolor = 'white', \n",
    "                  font = dict(size = 30))\n",
    "fig.show()"
   ]
  },
  {
   "cell_type": "code",
   "execution_count": 80,
   "id": "7cfa0e34",
   "metadata": {},
   "outputs": [
    {
     "data": {
      "application/vnd.plotly.v1+json": {
       "config": {
        "plotlyServerURL": "https://plot.ly"
       },
       "data": [
        {
         "name": "GMI",
         "type": "histogram",
         "x": [
          0.3119733929634094,
          0.32691559195518494,
          0.24601437151432037,
          0.25105172395706177,
          0.263872355222702,
          0.23217454552650452,
          0.28111156821250916,
          0.2656309902667999,
          0.2653488218784332,
          0.26926347613334656,
          0.2919290363788605,
          0.28325793147087097,
          0.30476686358451843,
          0.29176124930381775,
          0.32280755043029785,
          0.2666441798210144,
          0.32199257612228394,
          0.2890460789203644,
          0.3677333891391754,
          0.28114140033721924,
          0.2845923602581024,
          0.27112194895744324,
          0.2896580696105957,
          0.26670774817466736,
          0.23960135877132416,
          0.2547444701194763,
          0.25367921590805054,
          0.26077330112457275,
          0.26519539952278137,
          0.27243635058403015,
          0.2733299434185028,
          0.2787310481071472,
          0.24287350475788116,
          0.25727978348731995,
          0.22003528475761414,
          0.29457077383995056,
          0.2788872718811035,
          0.27762162685394287,
          0.28219157457351685,
          0.27021926641464233,
          0.26953431963920593,
          0.29550227522850037,
          0.2952774167060852,
          0.23432707786560059,
          0.2649666368961334,
          0.27435171604156494,
          0.25766628980636597,
          0.2746153175830841,
          0.2634488642215729,
          0.2692508101463318,
          0.2664841115474701,
          0.33100879192352295,
          0.3530251979827881,
          0.35963115096092224,
          0.2380748689174652,
          0.24948325753211975,
          0.23138070106506348,
          0.25658005475997925,
          0.2576484680175781,
          0.22972366213798523,
          0.26234671473503113,
          0.34275123476982117,
          0.2627619504928589,
          0.27560847997665405,
          0.3117014765739441,
          0.2516704499721527,
          0.2514571249485016,
          0.273058146238327,
          0.2841905653476715,
          0.2758089601993561,
          0.2772706151008606,
          0.2434886395931244,
          0.28282231092453003,
          0.32033073902130127,
          0.36316797137260437,
          0.26595452427864075,
          0.23575320839881897,
          0.2709426283836365,
          0.26626062393188477,
          0.2989967167377472,
          0.2851751744747162,
          0.263560026884079,
          0.24310296773910522,
          0.2672809362411499,
          0.32650527358055115,
          0.39208677411079407,
          0.2654387652873993,
          0.29253628849983215,
          0.23903539776802063,
          0.22643886506557465,
          0.27964532375335693,
          0.2632491886615753,
          0.3428766429424286,
          0.28810492157936096,
          0.2854999601840973,
          0.3047715127468109,
          0.23164907097816467,
          0.2354590743780136,
          0.26071029901504517,
          0.2504339814186096,
          0.2712756395339966,
          0.2583124041557312,
          0.25836777687072754,
          0.29485663771629333,
          0.24985909461975098,
          0.2818758189678192,
          0.28017890453338623,
          0.24156154692173004,
          0.25644418597221375,
          0.3014000356197357,
          0.2194773256778717,
          0.21711349487304688,
          0.28418973088264465,
          0.3225812017917633,
          0.27066436409950256,
          0.292177677154541,
          0.2907584011554718,
          0.29656729102134705,
          0.3318997621536255,
          0.2661021649837494,
          0.3158084452152252,
          0.2227504402399063,
          0.3233521580696106,
          0.3180432915687561,
          0.2617647051811218,
          0.24080954492092133,
          0.26194456219673157,
          0.32641807198524475,
          0.2792762517929077,
          0.28578001260757446,
          0.29637688398361206,
          0.27955248951911926,
          0.2600173354148865,
          0.2597789168357849,
          0.31398090720176697,
          0.26234909892082214,
          0.22548982501029968,
          0.25622910261154175,
          0.23370198905467987,
          0.26321491599082947,
          0.2522328197956085,
          0.3019371032714844,
          0.262102872133255,
          0.31220969557762146,
          0.24082325398921967,
          0.28605198860168457,
          0.3415829539299011,
          0.29196783900260925,
          0.32534661889076233,
          0.3044341206550598,
          0.2813217043876648,
          0.2707973122596741,
          0.2575381100177765,
          0.24872206151485443,
          0.25273633003234863,
          0.27995339035987854,
          0.31775546073913574,
          0.2996133267879486,
          0.2763599753379822,
          0.2603345513343811,
          0.18195697665214539,
          0.2864827513694763,
          0.32461467385292053,
          0.2739427387714386,
          0.2963523268699646,
          0.26528191566467285,
          0.20230433344841003,
          0.2471255511045456,
          0.344439834356308,
          0.2810930013656616,
          0.30027347803115845,
          0.27759554982185364,
          0.3246127963066101,
          0.2918025851249695,
          0.2694758474826813,
          0.24798034131526947,
          0.3120206892490387,
          0.32549095153808594,
          0.326193243265152,
          0.3161594867706299,
          0.36770394444465637,
          0.2705785036087036,
          0.26801633834838867,
          0.2713204324245453,
          0.28331172466278076,
          0.23582038283348083,
          0.2628834843635559,
          0.26734352111816406,
          0.28101441264152527,
          0.27094703912734985,
          0.2746497094631195,
          0.3076533377170563,
          0.22050748765468597,
          0.20980803668498993,
          0.2377328723669052,
          0.22978058457374573,
          0.27079707384109497,
          0.2857002913951874,
          0.30315518379211426,
          0.3020646870136261,
          0.2546265721321106,
          0.30219024419784546,
          0.2797834575176239,
          0.28732895851135254,
          0.26329687237739563,
          0.2824930250644684,
          0.2883439064025879,
          0.28542864322662354,
          0.2738153636455536,
          0.25285282731056213,
          0.2578931748867035,
          0.20426607131958008,
          0.23384477198123932,
          0.30082258582115173,
          0.3177034556865692,
          0.30960553884506226,
          0.25612393021583557,
          0.28031474351882935,
          0.30821508169174194,
          0.2840573787689209,
          0.3145577907562256,
          0.33443573117256165,
          0.31164026260375977,
          0.3200414180755615,
          0.3065786063671112,
          0.29512879252433777,
          0.2907208204269409,
          0.3360615670681,
          0.3047873079776764,
          0.3222499191761017,
          0.2458621859550476,
          0.32750603556632996,
          0.30469638109207153,
          0.2678897976875305,
          0.2636088728904724,
          0.25708600878715515,
          0.2651510238647461,
          0.2624780535697937,
          0.30644261837005615,
          0.28500714898109436,
          0.24726653099060059,
          0.25558891892433167,
          0.25734037160873413,
          0.3099927306175232,
          0.2839500904083252,
          0.28565359115600586,
          0.28575974702835083,
          0.24499908089637756,
          0.3046049475669861,
          0.2602726221084595,
          0.2700187861919403,
          0.2631424069404602,
          0.23157772421836853,
          0.27976149320602417,
          0.2855280935764313,
          0.3084394335746765,
          0.2942787706851959,
          0.2848055958747864,
          0.2961483895778656,
          0.3072585463523865,
          0.2992347776889801,
          0.25903621315956116,
          0.3428705334663391,
          0.29396775364875793,
          0.2746300995349884,
          0.27907121181488037,
          0.3086335361003876,
          0.2556425631046295,
          0.3046824634075165,
          0.24825094640254974,
          0.2887721657752991,
          0.27270203828811646,
          0.2973601222038269,
          0.25404301285743713,
          0.2546333968639374,
          0.2987443804740906,
          0.31799647212028503,
          0.276505708694458,
          0.3364710807800293,
          0.2335767149925232,
          0.2853620648384094,
          0.2667710483074188,
          0.24478751420974731,
          0.2340882420539856,
          0.29158949851989746,
          0.2616889178752899,
          0.251284122467041,
          0.27407577633857727,
          0.26269903779029846,
          0.33875399827957153,
          0.2915109395980835,
          0.26140162348747253,
          0.3340800404548645,
          0.24764195084571838,
          0.2579524517059326,
          0.30632877349853516,
          0.26514869928359985,
          0.2835160791873932,
          0.30658650398254395,
          0.27975988388061523,
          0.2839788496494293,
          0.2644742429256439,
          0.26498812437057495,
          0.2419038712978363,
          0.24767601490020752,
          0.28190839290618896,
          0.324081689119339,
          0.34816253185272217,
          0.2666357755661011,
          0.36946621537208557,
          0.3358359932899475,
          0.2872774302959442,
          0.3124748170375824,
          0.2667119801044464,
          0.3102835714817047,
          0.30295976996421814,
          0.3368827998638153,
          0.3511909246444702,
          0.30211469531059265,
          0.20430603623390198,
          0.2657637894153595,
          0.2682460844516754,
          0.22766828536987305,
          0.27269333600997925,
          0.2980085611343384,
          0.2896170914173126,
          0.3175249695777893,
          0.3017490804195404,
          0.2701079249382019,
          0.27244308590888977,
          0.29912102222442627,
          0.2886275053024292,
          0.26346340775489807,
          0.25528019666671753,
          0.20778807997703552,
          0.22406582534313202,
          0.2861692011356354,
          0.261691689491272,
          0.2855192720890045,
          0.2580496072769165,
          0.22255568206310272,
          0.25757551193237305,
          0.31917479634284973,
          0.31091418862342834,
          0.2883133888244629,
          0.322474867105484,
          0.3218095004558563,
          0.3591170608997345,
          0.20177415013313293,
          0.3346633315086365,
          0.32375916838645935,
          0.28344103693962097,
          0.32125234603881836,
          0.26141804456710815,
          0.20767119526863098,
          0.22529082000255585,
          0.2789551317691803,
          0.27682021260261536,
          0.2585386633872986,
          0.27826574444770813,
          0.30027851462364197,
          0.24839088320732117,
          0.2846895456314087,
          0.24638542532920837,
          0.24422714114189148,
          0.3302949368953705,
          0.34828078746795654,
          0.2607734501361847,
          0.30381208658218384,
          0.2082289755344391,
          0.2691355347633362,
          0.25666800141334534,
          0.29042848944664,
          0.34265393018722534,
          0.2250939905643463,
          0.2514975666999817,
          0.27082133293151855,
          0.19756171107292175,
          0.23454126715660095,
          0.27232855558395386,
          0.25868919491767883,
          0.2932111918926239,
          0.19688467681407928,
          0.18652647733688354,
          0.25848808884620667,
          0.2247174233198166,
          0.2490919828414917,
          0.31224343180656433,
          0.2453136146068573,
          0.30950286984443665,
          0.2685374319553375,
          0.24206343293190002,
          0.2373909205198288,
          0.29128387570381165,
          0.24945667386054993,
          0.2926766574382782,
          0.2107793390750885,
          0.28128519654273987,
          0.19657158851623535,
          0.2701115012168884,
          0.2986520826816559,
          0.26274728775024414,
          0.30151107907295227,
          0.2981514036655426,
          0.2649005055427551,
          0.23935310542583466,
          0.24019962549209595,
          0.25240787863731384,
          0.2290819138288498,
          0.31181779503822327,
          0.2266557365655899,
          0.2332388460636139,
          0.2601296603679657,
          0.270211786031723,
          0.18505780398845673,
          0.3793972432613373,
          0.3061172068119049,
          0.27241194248199463,
          0.273911714553833,
          0.35410353541374207,
          0.19769981503486633,
          0.3958078622817993,
          0.30294233560562134,
          0.2497778683900833,
          0.2940368950366974,
          0.2660733163356781,
          0.2945058047771454,
          0.27339112758636475,
          0.23842884600162506,
          0.2378254532814026,
          0.2876349091529846,
          0.26517269015312195,
          0.20234976708889008,
          0.291263610124588,
          0.255938321352005,
          0.3255302906036377,
          0.18673695623874664,
          0.25141361355781555,
          0.25266361236572266,
          0.189351886510849,
          0.3305453658103943,
          0.2958557903766632,
          0.2680502235889435,
          0.2772670388221741,
          0.2526206076145172,
          0.28975534439086914,
          0.22692230343818665,
          0.26415249705314636,
          0.2701331377029419,
          0.2731409966945648,
          0.265555202960968,
          0.2774626314640045,
          0.25612056255340576,
          0.2569536864757538,
          0.2256680279970169,
          0.26363885402679443,
          0.171149343252182,
          0.3318081796169281,
          0.2894032895565033,
          0.271954208612442,
          0.3724575638771057,
          0.24447965621948242,
          0.247443288564682,
          0.2108236402273178,
          0.25992053747177124,
          0.3364753723144531,
          0.3241609036922455,
          0.25923243165016174,
          0.3101315200328827,
          0.2241722047328949,
          0.26406019926071167,
          0.31575044989585876,
          0.2824232280254364,
          0.3136337101459503,
          0.24546782672405243,
          0.24758492410182953,
          0.2110302895307541,
          0.20187978446483612,
          0.2857937216758728,
          0.2988162338733673,
          0.26151788234710693,
          0.26038843393325806,
          0.3108414113521576,
          0.31278324127197266,
          0.2941056489944458,
          0.3051883280277252,
          0.3554849326610565,
          0.293810099363327,
          0.25418415665626526,
          0.3082098960876465,
          0.287750780582428,
          0.2883054316043854,
          0.26305651664733887,
          0.30665379762649536,
          0.23752805590629578,
          0.3076515197753906,
          0.30354949831962585,
          0.30283430218696594,
          0.33362236618995667,
          0.27568677067756653,
          0.23071253299713135,
          0.245054230093956,
          0.22223149240016937,
          0.22925826907157898,
          0.2576051950454712,
          0.24772612750530243,
          0.24917006492614746,
          0.3466634154319763,
          0.27413079142570496,
          0.26212430000305176,
          0.25523149967193604,
          0.34134042263031006,
          0.2847750782966614,
          0.26900535821914673,
          0.22086405754089355,
          0.29679107666015625,
          0.22051912546157837,
          0.2121185064315796,
          0.23516477644443512,
          0.3090035617351532,
          0.2544325292110443,
          0.293101042509079,
          0.2482181042432785,
          0.3228527903556824,
          0.2228621542453766,
          0.28062766790390015,
          0.2794715464115143,
          0.24015244841575623,
          0.3110320270061493,
          0.27303817868232727,
          0.31097984313964844,
          0.2672634720802307,
          0.26533305644989014,
          0.3061434328556061,
          0.25097140669822693,
          0.2770494222640991,
          0.3171237111091614,
          0.4044434726238251,
          0.29968205094337463,
          0.26758474111557007,
          0.259235680103302,
          0.2738463878631592,
          0.2565932869911194,
          0.28748300671577454,
          0.2842075526714325,
          0.24866145849227905,
          0.26391392946243286,
          0.22778885066509247,
          0.29050713777542114,
          0.3093407154083252,
          0.24947762489318848,
          0.28182512521743774,
          0.25119146704673767,
          0.2321336418390274,
          0.2721606194972992,
          0.28359687328338623,
          0.2965242862701416,
          0.2668185830116272,
          0.2957434058189392,
          0.22952532768249512,
          0.2681025266647339,
          0.24240493774414062,
          0.28658825159072876,
          0.3127596974372864,
          0.3134920299053192,
          0.2744353413581848,
          0.25855934619903564,
          0.25541290640830994,
          0.25615790486335754,
          0.27226170897483826,
          0.23387481272220612,
          0.24017417430877686,
          0.29611194133758545,
          0.23299726843833923,
          0.2466983050107956,
          0.24782055616378784,
          0.2624393403530121,
          0.2597220838069916,
          0.2685909867286682,
          0.2327050417661667,
          0.28123217821121216,
          0.27493414282798767,
          0.2585907280445099,
          0.21883872151374817,
          0.3098854720592499,
          0.24937526881694794,
          0.24284149706363678,
          0.24562032520771027,
          0.2617669701576233,
          0.2573433220386505,
          0.23713500797748566,
          0.24303705990314484,
          0.27040573954582214,
          0.19467931985855103,
          0.3634275794029236,
          0.2681005299091339,
          0.30913910269737244,
          0.22622865438461304,
          0.26076191663742065,
          0.2534143328666687,
          0.309732586145401,
          0.30567920207977295,
          0.2731409966945648,
          0.25108447670936584,
          0.2523084878921509,
          0.30506113171577454,
          0.3215363621711731,
          0.2791438102722168,
          0.22064824402332306,
          0.2584366500377655,
          0.2892734706401825,
          0.28374233841896057,
          0.32772037386894226,
          0.31101539731025696,
          0.33934468030929565,
          0.3200068771839142,
          0.20319616794586182,
          0.24496370553970337,
          0.22547176480293274,
          0.17106814682483673,
          0.301169753074646,
          0.2565896809101105,
          0.3062155544757843,
          0.3528735637664795,
          0.17360198497772217,
          0.27900272607803345,
          0.29575496912002563,
          0.18213210999965668,
          0.28689849376678467,
          0.14184467494487762,
          0.1504906564950943,
          0.16616402566432953,
          0.15826699137687683,
          0.20074833929538727,
          0.2547813653945923,
          0.15824000537395477,
          0.294597327709198,
          0.27961376309394836,
          0.2565786838531494,
          0.24258588254451752,
          0.2531469464302063,
          0.291464239358902,
          0.32883667945861816,
          0.3002772331237793,
          0.17410123348236084,
          0.2615737318992615,
          0.3021065890789032,
          0.32468652725219727,
          0.2876828610897064,
          0.2959634065628052,
          0.24454322457313538,
          0.3031512498855591,
          0.2738519608974457,
          0.23450766503810883,
          0.25966113805770874,
          0.23986953496932983,
          0.25027918815612793,
          0.2548832893371582,
          0.3192959129810333,
          0.2542555630207062,
          0.2506359815597534,
          0.2966421842575073,
          0.32737472653388977,
          0.29588839411735535,
          0.27959516644477844,
          0.2465982586145401,
          0.26520049571990967,
          0.24881476163864136,
          0.21266388893127441,
          0.1859733611345291,
          0.28739622235298157,
          0.2844885289669037,
          0.28302398324012756,
          0.32412227988243103,
          0.25115787982940674,
          0.19035518169403076,
          0.252821147441864,
          0.2919863760471344,
          0.23774240911006927,
          0.2474755495786667,
          0.24685713648796082,
          0.26573023200035095,
          0.33459335565567017,
          0.18150010704994202,
          0.3302344083786011,
          0.3166816532611847,
          0.24086500704288483,
          0.34514477849006653,
          0.2119501233100891,
          0.2577383816242218,
          0.27273818850517273,
          0.24240493774414062,
          0.18096451461315155,
          0.2543275058269501,
          0.2571686804294586,
          0.3687257766723633,
          0.30178719758987427,
          0.2401023954153061,
          0.17064595222473145,
          0.2753525674343109,
          0.312011182308197,
          0.17216317355632782,
          0.2734735310077667,
          0.34300482273101807,
          0.25874143838882446,
          0.2952759563922882,
          0.20333488285541534,
          0.2586878836154938,
          0.2717796862125397,
          0.1928565949201584,
          0.233601912856102,
          0.2936253547668457,
          0.169897198677063,
          0.22517307102680206,
          0.2665276825428009,
          0.3302779495716095,
          0.27319785952568054,
          0.3031771183013916,
          0.31120002269744873,
          0.3002788722515106,
          0.306725412607193,
          0.17555418610572815,
          0.20569749176502228,
          0.2144225835800171,
          0.22828909754753113,
          0.2860139310359955,
          0.2822684645652771,
          0.19059765338897705,
          0.3063284754753113,
          0.1453063189983368,
          0.30708035826683044,
          0.2678428888320923,
          0.3154156804084778,
          0.2608782947063446,
          0.22310881316661835,
          0.22157035768032074,
          0.24429552257061005,
          0.2606963515281677,
          0.2911386489868164,
          0.26920315623283386,
          0.31167298555374146,
          0.25788986682891846,
          0.336227685213089,
          0.27625182271003723,
          0.2504746615886688,
          0.3083304464817047,
          0.19695371389389038,
          0.25874143838882446,
          0.3169070780277252,
          0.26368629932403564,
          0.1781289279460907,
          0.24912427365779877,
          0.20726296305656433,
          0.25426530838012695,
          0.24642200767993927,
          0.24570156633853912,
          0.21350233256816864,
          0.23673748970031738,
          0.26448681950569153,
          0.2539326250553131,
          0.3062572777271271,
          0.2983112633228302,
          0.31684574484825134,
          0.32064539194107056,
          0.31990471482276917,
          0.18464376032352448,
          0.2774856984615326,
          0.21577712893486023,
          0.24216340482234955,
          0.3084914982318878,
          0.28186726570129395,
          0.20548492670059204,
          0.33771610260009766,
          0.23721936345100403,
          0.2999686300754547,
          0.22216512262821198,
          0.3628651201725006,
          0.15586768090724945,
          0.28617778420448303,
          0.20828059315681458,
          0.3295639455318451,
          0.3009078800678253,
          0.3340785801410675,
          0.18943731486797333,
          0.2153020203113556,
          0.21497535705566406,
          0.2583724558353424,
          0.2541186511516571,
          0.16029588878154755,
          0.2278795838356018,
          0.24959874153137207,
          0.32715263962745667,
          0.25165855884552,
          0.291696697473526,
          0.27287381887435913,
          0.3244662880897522,
          0.24318386614322662,
          0.26059433817863464,
          0.25754794478416443,
          0.2811253070831299,
          0.22766296565532684,
          0.31911468505859375,
          0.1696842461824417,
          0.33330243825912476,
          0.2609793543815613,
          0.3452099561691284,
          0.18801970779895782,
          0.21121066808700562,
          0.24441422522068024,
          0.278203547000885,
          0.2763364017009735,
          0.225965678691864,
          0.3450528383255005,
          0.22470250725746155,
          0.21790434420108795,
          0.2335040420293808,
          0.2814527153968811,
          0.2850162982940674,
          0.2543275058269501,
          0.1715366691350937,
          0.3241751790046692,
          0.24905894696712494,
          0.27042919397354126,
          0.18272008001804352,
          0.19374486804008484,
          0.23765255510807037,
          0.2336304783821106,
          0.15171962976455688,
          0.24336238205432892,
          0.19189688563346863,
          0.27695101499557495,
          0.3149929344654083,
          0.29102465510368347,
          0.34244588017463684,
          0.22557498514652252,
          0.20958253741264343,
          0.3121224343776703,
          0.2665080726146698,
          0.22339388728141785,
          0.24969559907913208,
          0.2545330822467804,
          0.23903882503509521,
          0.313062459230423,
          0.25566211342811584,
          0.2245224118232727,
          0.2439221739768982,
          0.1845974624156952,
          0.23524902760982513,
          0.26356378197669983,
          0.3028540313243866,
          0.22566302120685577,
          0.1987370401620865,
          0.3502202033996582,
          0.3151981830596924,
          0.1780366152524948,
          0.1987370401620865,
          0.24415245652198792,
          0.26490557193756104,
          0.2638956904411316,
          0.18387968838214874,
          0.22452153265476227,
          0.23894397914409637,
          0.30188262462615967,
          0.1559114009141922,
          0.21124880015850067,
          0.21573424339294434,
          0.2348305881023407,
          0.25144052505493164,
          0.21586734056472778,
          0.23631104826927185,
          0.2038370817899704,
          0.24801893532276154,
          0.16832783818244934,
          0.2571580111980438,
          0.19903875887393951,
          0.24337884783744812,
          0.1855006366968155,
          0.27226465940475464,
          0.29603928327560425,
          0.22380328178405762,
          0.23590025305747986,
          0.27573904395103455,
          0.23070459067821503,
          0.27297842502593994,
          0.1938319057226181,
          0.2982367277145386,
          0.21979057788848877,
          0.2665920853614807,
          0.26298895478248596,
          0.2438235580921173,
          0.22789373993873596,
          0.3335295617580414,
          0.19061125814914703,
          0.25777965784072876,
          0.2886299192905426,
          0.26081228256225586,
          0.2882561683654785,
          0.2731409966945648,
          0.25099578499794006,
          0.2264634370803833,
          0.2158517837524414,
          0.23692794144153595,
          0.23182585835456848,
          0.3217317759990692,
          0.18715567886829376,
          0.22893421351909637,
          0.21391703188419342,
          0.2291709929704666,
          0.18044835329055786,
          0.26920315623283386,
          0.20334529876708984,
          0.26057225465774536,
          0.24896742403507233,
          0.2901977002620697,
          0.21091382205486298,
          0.29060879349708557,
          0.23037110269069672,
          0.29754015803337097,
          0.20977075397968292,
          0.23284167051315308,
          0.30107417702674866,
          0.18734338879585266,
          0.3276481628417969,
          0.3317606747150421,
          0.3369942009449005,
          0.3031845688819885,
          0.22649681568145752,
          0.22505146265029907,
          0.1839241087436676,
          0.2848607301712036,
          0.22296395897865295,
          0.39168012142181396,
          0.24325761198997498,
          0.2095046043395996,
          0.261785626411438,
          0.2062234878540039,
          0.22518126666545868,
          0.26964694261550903,
          0.24497410655021667,
          0.24797175824642181,
          0.2936733067035675,
          0.2936733067035675,
          0.2936733067035675,
          0.23815791308879852,
          0.2847541868686676,
          0.247560054063797,
          0.325131356716156,
          0.18933704495429993,
          0.2358914464712143,
          0.15327100455760956,
          0.17157138884067535,
          0.2743144631385803,
          0.2293606400489807,
          0.24285517632961273,
          0.2587592303752899,
          0.21065658330917358,
          0.2587592303752899,
          0.2123050093650818,
          0.15108293294906616,
          0.18575485050678253,
          0.33314135670661926,
          0.2833835482597351,
          0.2123050093650818,
          0.23070459067821503,
          0.18749184906482697,
          0.2657245397567749,
          0.27916714549064636,
          0.23096059262752533,
          0.22286061942577362,
          0.1716586947441101,
          0.15016944706439972,
          0.22278907895088196,
          0.17163650691509247,
          0.2618221938610077,
          0.22337733209133148,
          0.32111436128616333,
          0.26700490713119507,
          0.3183184862136841,
          0.18897318840026855,
          0.3335295617580414,
          0.27930182218551636,
          0.24330246448516846,
          0.19268280267715454,
          0.26448681950569153,
          0.3450528383255005,
          0.20376132428646088
         ]
        },
        {
         "name": "GMI+XM",
         "type": "histogram",
         "x": [
          0.3264940083026886,
          0.3430837392807007,
          0.26628434658050537,
          0.2683202028274536,
          0.2849067151546478,
          0.25223785638809204,
          0.3012505769729614,
          0.2859647870063782,
          0.28238022327423096,
          0.2885637879371643,
          0.3100925385951996,
          0.30436068773269653,
          0.3267943263053894,
          0.31178712844848633,
          0.3362063467502594,
          0.28435570001602173,
          0.3390537202358246,
          0.3042675256729126,
          0.3846833407878876,
          0.3004589080810547,
          0.3040953576564789,
          0.2909476161003113,
          0.3047906160354614,
          0.2791205644607544,
          0.2523496150970459,
          0.26515722274780273,
          0.26384440064430237,
          0.27317535877227783,
          0.27915647625923157,
          0.2845650017261505,
          0.2857353091239929,
          0.29086336493492126,
          0.2527180016040802,
          0.2676336169242859,
          0.22915118932724,
          0.30719712376594543,
          0.2907652258872986,
          0.2903132736682892,
          0.29487884044647217,
          0.2812766432762146,
          0.2808295488357544,
          0.307431161403656,
          0.31009888648986816,
          0.24862942099571228,
          0.2853568494319916,
          0.2923099994659424,
          0.27383023500442505,
          0.283541738986969,
          0.2738713324069977,
          0.2837613523006439,
          0.28053271770477295,
          0.34658437967300415,
          0.37274879217147827,
          0.37320676445961,
          0.25350579619407654,
          0.26671379804611206,
          0.2468504011631012,
          0.2762189209461212,
          0.2769632041454315,
          0.24552156031131744,
          0.2698201835155487,
          0.3570724129676819,
          0.2826158404350281,
          0.2966480851173401,
          0.3333212435245514,
          0.26900514960289,
          0.26715564727783203,
          0.2865367829799652,
          0.3007720112800598,
          0.2970060706138611,
          0.2906474471092224,
          0.25664788484573364,
          0.3023565411567688,
          0.337401419878006,
          0.3845454752445221,
          0.27793776988983154,
          0.24431198835372925,
          0.2844279706478119,
          0.27873948216438293,
          0.3124280273914337,
          0.302614688873291,
          0.28180214762687683,
          0.2609149217605591,
          0.2834424078464508,
          0.35253122448921204,
          0.4101530909538269,
          0.28590840101242065,
          0.3117762506008148,
          0.2549215257167816,
          0.24117863178253174,
          0.2950060963630676,
          0.27984121441841125,
          0.36573711037635803,
          0.30173614621162415,
          0.2959950268268585,
          0.31655147671699524,
          0.2481514811515808,
          0.25048553943634033,
          0.27651190757751465,
          0.26533782482147217,
          0.2894236445426941,
          0.27338799834251404,
          0.2746380567550659,
          0.3043760359287262,
          0.2577158808708191,
          0.29923388361930847,
          0.30034491419792175,
          0.2618556618690491,
          0.2730628252029419,
          0.3161294460296631,
          0.23158828914165497,
          0.22877350449562073,
          0.2998599112033844,
          0.3352775275707245,
          0.28482842445373535,
          0.30744293332099915,
          0.3037188947200775,
          0.3123430013656616,
          0.35008102655410767,
          0.2787473201751709,
          0.3287973403930664,
          0.2404032200574875,
          0.3344576358795166,
          0.3310953974723816,
          0.2796284258365631,
          0.25610941648483276,
          0.278752863407135,
          0.3434527814388275,
          0.2930758595466614,
          0.30299001932144165,
          0.30888649821281433,
          0.2975446283817291,
          0.2760208547115326,
          0.2715798318386078,
          0.3339317739009857,
          0.27291998267173767,
          0.23430109024047852,
          0.27664634585380554,
          0.24772150814533234,
          0.279514342546463,
          0.268805593252182,
          0.3246419131755829,
          0.27852070331573486,
          0.32781752943992615,
          0.252080500125885,
          0.3029974699020386,
          0.35871922969818115,
          0.3061147630214691,
          0.3384245038032532,
          0.3162550926208496,
          0.29062947630882263,
          0.28203272819519043,
          0.2706231474876404,
          0.26070430874824524,
          0.2655772566795349,
          0.29570674896240234,
          0.33198779821395874,
          0.3121333718299866,
          0.2954396903514862,
          0.27688902616500854,
          0.19808940589427948,
          0.3041139841079712,
          0.34309855103492737,
          0.29049327969551086,
          0.31554388999938965,
          0.2778194546699524,
          0.21631282567977905,
          0.2556658685207367,
          0.3608211576938629,
          0.29606661200523376,
          0.31840988993644714,
          0.28691646456718445,
          0.3374876081943512,
          0.3112494945526123,
          0.28627440333366394,
          0.26094919443130493,
          0.32432636618614197,
          0.3399718403816223,
          0.33890458941459656,
          0.32692551612854004,
          0.38408005237579346,
          0.27989616990089417,
          0.27716904878616333,
          0.28939738869667053,
          0.30257710814476013,
          0.25198855996131897,
          0.2748855650424957,
          0.2816389203071594,
          0.2963991165161133,
          0.2909561097621918,
          0.28917190432548523,
          0.3245391547679901,
          0.2341594249010086,
          0.22255145013332367,
          0.2533565163612366,
          0.24416686594486237,
          0.2808144688606262,
          0.29743432998657227,
          0.31776219606399536,
          0.31492599844932556,
          0.26482877135276794,
          0.3134863078594208,
          0.29308581352233887,
          0.29797160625457764,
          0.2729019224643707,
          0.2931526303291321,
          0.3014197051525116,
          0.2960119843482971,
          0.29118210077285767,
          0.2721220552921295,
          0.2740141749382019,
          0.221660315990448,
          0.24718748033046722,
          0.3222346901893616,
          0.3294394612312317,
          0.32758352160453796,
          0.27145466208457947,
          0.2965540587902069,
          0.32331180572509766,
          0.2942577302455902,
          0.32702091336250305,
          0.35016751289367676,
          0.328867107629776,
          0.3359692692756653,
          0.32019075751304626,
          0.30779707431793213,
          0.3033250868320465,
          0.3517950773239136,
          0.3171459436416626,
          0.3371155560016632,
          0.2615150809288025,
          0.3443674147129059,
          0.3196414113044739,
          0.2848297655582428,
          0.2816067636013031,
          0.2725667655467987,
          0.28127017617225647,
          0.27864304184913635,
          0.3287356197834015,
          0.2996487617492676,
          0.2616833448410034,
          0.2707501947879791,
          0.2757906913757324,
          0.3310025930404663,
          0.2997351586818695,
          0.29581430554389954,
          0.30284956097602844,
          0.2595730721950531,
          0.3205334544181824,
          0.2770456373691559,
          0.27899420261383057,
          0.2737880349159241,
          0.24912069737911224,
          0.29470095038414,
          0.30000725388526917,
          0.32608529925346375,
          0.3106393814086914,
          0.29657450318336487,
          0.3169832229614258,
          0.32653865218162537,
          0.3165692687034607,
          0.27044400572776794,
          0.358197420835495,
          0.3064265847206116,
          0.2924240827560425,
          0.2978695034980774,
          0.32805174589157104,
          0.2710041403770447,
          0.3202270567417145,
          0.26597416400909424,
          0.30055952072143555,
          0.2926149368286133,
          0.31711870431900024,
          0.2698132395744324,
          0.2693585157394409,
          0.31227338314056396,
          0.3339632451534271,
          0.28633520007133484,
          0.35007157921791077,
          0.24512788653373718,
          0.29751983284950256,
          0.283909410238266,
          0.26082319021224976,
          0.24615846574306488,
          0.3032703101634979,
          0.2815205454826355,
          0.2670392394065857,
          0.28996801376342773,
          0.2774929702281952,
          0.352441668510437,
          0.3077804148197174,
          0.2717721164226532,
          0.34768548607826233,
          0.26188600063323975,
          0.268899142742157,
          0.3226461708545685,
          0.2750174105167389,
          0.2982880771160126,
          0.3242693245410919,
          0.2974753677845001,
          0.30271637439727783,
          0.2817290425300598,
          0.27822384238243103,
          0.25854119658470154,
          0.26233866810798645,
          0.30101653933525085,
          0.3473910689353943,
          0.36254850029945374,
          0.27827969193458557,
          0.38742485642433167,
          0.35042062401771545,
          0.30325034260749817,
          0.3257201910018921,
          0.27884095907211304,
          0.3254911005496979,
          0.31742945313453674,
          0.3564373850822449,
          0.3657272756099701,
          0.31327158212661743,
          0.21552906930446625,
          0.27600374817848206,
          0.2794663906097412,
          0.24300089478492737,
          0.2905219793319702,
          0.31587913632392883,
          0.3091248869895935,
          0.33627381920814514,
          0.3228530287742615,
          0.2853306829929352,
          0.2898688316345215,
          0.31468379497528076,
          0.30313801765441895,
          0.2811417281627655,
          0.26954901218414307,
          0.2203333079814911,
          0.23925063014030457,
          0.299582302570343,
          0.2729892134666443,
          0.30009037256240845,
          0.26823464035987854,
          0.23648390173912048,
          0.2695816457271576,
          0.33182117342948914,
          0.32285693287849426,
          0.3003251850605011,
          0.33400964736938477,
          0.3334994316101074,
          0.37314292788505554,
          0.21024185419082642,
          0.34826281666755676,
          0.33949893712997437,
          0.29380813241004944,
          0.33316561579704285,
          0.28145483136177063,
          0.21957232058048248,
          0.23663145303726196,
          0.29487523436546326,
          0.2917238175868988,
          0.27837345004081726,
          0.29710981249809265,
          0.31873035430908203,
          0.25715649127960205,
          0.3007931411266327,
          0.25855377316474915,
          0.25512444972991943,
          0.34906914830207825,
          0.36967483162879944,
          0.2733827829360962,
          0.3147895634174347,
          0.22008615732192993,
          0.2808595597743988,
          0.2725100815296173,
          0.3050207197666168,
          0.36183109879493713,
          0.23874779045581818,
          0.269011527299881,
          0.2814635634422302,
          0.2101692408323288,
          0.24163776636123657,
          0.28307873010635376,
          0.26888999342918396,
          0.30556949973106384,
          0.20481246709823608,
          0.19467833638191223,
          0.2673458456993103,
          0.2315232902765274,
          0.25914809107780457,
          0.3236392140388489,
          0.25296086072921753,
          0.32144638895988464,
          0.27704310417175293,
          0.25002622604370117,
          0.2449682056903839,
          0.3045758605003357,
          0.2571295201778412,
          0.30306994915008545,
          0.21757318079471588,
          0.29167047142982483,
          0.20501156151294708,
          0.28208306431770325,
          0.316577672958374,
          0.28155025839805603,
          0.31438714265823364,
          0.31038162112236023,
          0.282936692237854,
          0.2565790116786957,
          0.2560703456401825,
          0.268047034740448,
          0.2458762228488922,
          0.3301297426223755,
          0.23741406202316284,
          0.25379854440689087,
          0.28185418248176575,
          0.2809157967567444,
          0.2129516452550888,
          0.41406795382499695,
          0.3246544599533081,
          0.2834707498550415,
          0.28918561339378357,
          0.3740231990814209,
          0.21047371625900269,
          0.41980215907096863,
          0.31757035851478577,
          0.25837162137031555,
          0.3126237690448761,
          0.28443777561187744,
          0.30717653036117554,
          0.28578364849090576,
          0.2532990872859955,
          0.2528170347213745,
          0.3050120174884796,
          0.27874547243118286,
          0.21275173127651215,
          0.30700811743736267,
          0.2720830738544464,
          0.3501410484313965,
          0.19632691144943237,
          0.2620142102241516,
          0.2646380066871643,
          0.199223592877388,
          0.3481387794017792,
          0.31512030959129333,
          0.2774137258529663,
          0.2881722152233124,
          0.26107069849967957,
          0.3034449517726898,
          0.24063833057880402,
          0.2812618613243103,
          0.2877127230167389,
          0.3069491386413574,
          0.27801644802093506,
          0.29376599192619324,
          0.2755662202835083,
          0.2696586549282074,
          0.23649810254573822,
          0.27474674582481384,
          0.18112225830554962,
          0.3476967513561249,
          0.30283021926879883,
          0.2889613211154938,
          0.3922644555568695,
          0.2598377466201782,
          0.26720288395881653,
          0.23505301773548126,
          0.27070528268814087,
          0.3541482388973236,
          0.3476550281047821,
          0.2722269594669342,
          0.3232801854610443,
          0.23669646680355072,
          0.27793487906455994,
          0.3314758539199829,
          0.2968926429748535,
          0.3330768346786499,
          0.26009228825569153,
          0.2649618089199066,
          0.2218654453754425,
          0.21323789656162262,
          0.30344995856285095,
          0.32153621315956116,
          0.2767755091190338,
          0.2780199646949768,
          0.32687094807624817,
          0.3248298466205597,
          0.3071760833263397,
          0.3160664141178131,
          0.3715183436870575,
          0.3128487765789032,
          0.2678781747817993,
          0.3232486844062805,
          0.3014979958534241,
          0.3030503988265991,
          0.2753976881504059,
          0.3225310146808624,
          0.25096753239631653,
          0.3261403441429138,
          0.3211391866207123,
          0.31764063239097595,
          0.3593338429927826,
          0.29582223296165466,
          0.24474643170833588,
          0.2584085166454315,
          0.2363598644733429,
          0.24196775257587433,
          0.27505216002464294,
          0.2621980607509613,
          0.26806512475013733,
          0.3672062158584595,
          0.29066988825798035,
          0.2828582525253296,
          0.26998814940452576,
          0.3583577275276184,
          0.300275593996048,
          0.28475868701934814,
          0.23313185572624207,
          0.3093753457069397,
          0.23614628612995148,
          0.22485890984535217,
          0.2481575459241867,
          0.3265467584133148,
          0.27153801918029785,
          0.3141232430934906,
          0.26160579919815063,
          0.34133192896842957,
          0.24382273852825165,
          0.30064767599105835,
          0.29198208451271057,
          0.24833685159683228,
          0.3247617185115814,
          0.2910536825656891,
          0.3282518684864044,
          0.2806342840194702,
          0.2797187864780426,
          0.32802459597587585,
          0.26373374462127686,
          0.2925305664539337,
          0.3329329490661621,
          0.42394140362739563,
          0.31872761249542236,
          0.27998238801956177,
          0.27371054887771606,
          0.28756287693977356,
          0.26797235012054443,
          0.3068431615829468,
          0.301978200674057,
          0.26007959246635437,
          0.281372994184494,
          0.2344307005405426,
          0.30385175347328186,
          0.33336740732192993,
          0.26231610774993896,
          0.29879751801490784,
          0.2661673128604889,
          0.24561278522014618,
          0.2883068323135376,
          0.299240380525589,
          0.3104725182056427,
          0.27788206934928894,
          0.3135974705219269,
          0.2416864037513733,
          0.2874966859817505,
          0.2646087110042572,
          0.29942336678504944,
          0.32805246114730835,
          0.3347804844379425,
          0.2905077338218689,
          0.27505019307136536,
          0.27135542035102844,
          0.26803097128868103,
          0.29121825098991394,
          0.24853962659835815,
          0.25282278656959534,
          0.30858829617500305,
          0.2460978776216507,
          0.25950491428375244,
          0.2577642500400543,
          0.2735602855682373,
          0.27426448464393616,
          0.28810828924179077,
          0.24608251452445984,
          0.29407429695129395,
          0.2894348204135895,
          0.2827862501144409,
          0.22982057929039001,
          0.3253006637096405,
          0.263563334941864,
          0.25638169050216675,
          0.2562209963798523,
          0.2750326097011566,
          0.26826968789100647,
          0.24845129251480103,
          0.259655624628067,
          0.2807868421077728,
          0.20379841327667236,
          0.3924279510974884,
          0.28265252709388733,
          0.32581937313079834,
          0.2389971911907196,
          0.2752552926540375,
          0.2655712068080902,
          0.3251023292541504,
          0.32353004813194275,
          0.3069491386413574,
          0.26342615485191345,
          0.28366440534591675,
          0.325784295797348,
          0.33755365014076233,
          0.29702508449554443,
          0.2323422133922577,
          0.27223625779151917,
          0.30582165718078613,
          0.2998059391975403,
          0.35094404220581055,
          0.337107390165329,
          0.3582911491394043,
          0.33683979511260986,
          0.2147911787033081,
          0.2600027024745941,
          0.23764237761497498,
          0.18073417246341705,
          0.31396183371543884,
          0.2794373631477356,
          0.32330217957496643,
          0.36951562762260437,
          0.18268729746341705,
          0.2971765100955963,
          0.31192171573638916,
          0.189425989985466,
          0.30099764466285706,
          0.15202756226062775,
          0.16101153194904327,
          0.17493294179439545,
          0.17613781988620758,
          0.21446926891803741,
          0.2799251973628998,
          0.168453648686409,
          0.31178930401802063,
          0.29648923873901367,
          0.2720291316509247,
          0.257473886013031,
          0.26465219259262085,
          0.30584144592285156,
          0.3425866961479187,
          0.3229043185710907,
          0.18430310487747192,
          0.274519145488739,
          0.31929731369018555,
          0.34781140089035034,
          0.30262526869773865,
          0.3105022609233856,
          0.25700804591178894,
          0.3156385123729706,
          0.2845672369003296,
          0.25368034839630127,
          0.28575313091278076,
          0.25564008951187134,
          0.26416993141174316,
          0.2689282298088074,
          0.335396945476532,
          0.26850348711013794,
          0.26507455110549927,
          0.31294724345207214,
          0.3495054841041565,
          0.3145447075366974,
          0.29515233635902405,
          0.25991538166999817,
          0.2915012240409851,
          0.26418575644493103,
          0.22436410188674927,
          0.19616375863552094,
          0.30368855595588684,
          0.3002939820289612,
          0.30195334553718567,
          0.3375879228115082,
          0.26404643058776855,
          0.20048834383487701,
          0.2695090174674988,
          0.3057168424129486,
          0.25002211332321167,
          0.2691620886325836,
          0.2687355875968933,
          0.2790543735027313,
          0.35463178157806396,
          0.1898350566625595,
          0.3474843502044678,
          0.33335423469543457,
          0.25148728489875793,
          0.37354758381843567,
          0.22461315989494324,
          0.2742864191532135,
          0.29133450984954834,
          0.2646087110042572,
          0.19108346104621887,
          0.27827101945877075,
          0.2701489329338074,
          0.38838788866996765,
          0.3224681317806244,
          0.2541753351688385,
          0.180962473154068,
          0.2919853627681732,
          0.3439052999019623,
          0.1827002763748169,
          0.2854178845882416,
          0.36313170194625854,
          0.2845800220966339,
          0.3160298466682434,
          0.21356987953186035,
          0.27017971873283386,
          0.2889334261417389,
          0.20247399806976318,
          0.24454843997955322,
          0.31524595618247986,
          0.17926612496376038,
          0.2328452467918396,
          0.2780095040798187,
          0.3450554609298706,
          0.2897065579891205,
          0.31972837448120117,
          0.3250749409198761,
          0.3221610188484192,
          0.31827566027641296,
          0.18517489731311798,
          0.21593508124351501,
          0.23783524334430695,
          0.2419593781232834,
          0.300261527299881,
          0.2969949543476105,
          0.19865167140960693,
          0.3311792314052582,
          0.15578776597976685,
          0.3240659534931183,
          0.2835812568664551,
          0.3336540758609772,
          0.27203094959259033,
          0.24191811680793762,
          0.23049215972423553,
          0.25587019324302673,
          0.2741917371749878,
          0.30968087911605835,
          0.2876605689525604,
          0.32937321066856384,
          0.2755737602710724,
          0.3526405096054077,
          0.29305607080459595,
          0.2644678056240082,
          0.32865965366363525,
          0.21322283148765564,
          0.2845800220966339,
          0.331317663192749,
          0.27897554636001587,
          0.1895250380039215,
          0.26100674271583557,
          0.21954892575740814,
          0.26892077922821045,
          0.26757365465164185,
          0.25685885548591614,
          0.23645353317260742,
          0.2560860514640808,
          0.28898417949676514,
          0.2633492946624756,
          0.32908549904823303,
          0.31388014554977417,
          0.33411821722984314,
          0.34327447414398193,
          0.33798933029174805,
          0.19394032657146454,
          0.29155978560447693,
          0.23954801261425018,
          0.2543763816356659,
          0.32508906722068787,
          0.30079442262649536,
          0.23013614118099213,
          0.35228899121284485,
          0.2575509548187256,
          0.31588420271873474,
          0.2363874465227127,
          0.3853636682033539,
          0.1657203733921051,
          0.30447518825531006,
          0.2196601778268814,
          0.3540714383125305,
          0.31795430183410645,
          0.3516480624675751,
          0.19952650368213654,
          0.22576841711997986,
          0.22743862867355347,
          0.27300408482551575,
          0.2696971595287323,
          0.17023144662380219,
          0.23970246315002441,
          0.26633840799331665,
          0.34292179346084595,
          0.2639255225658417,
          0.3122207522392273,
          0.2880927324295044,
          0.3407364785671234,
          0.25640931725502014,
          0.2739070653915405,
          0.27219319343566895,
          0.29437577724456787,
          0.2400858849287033,
          0.33569931983947754,
          0.17908485233783722,
          0.34738320112228394,
          0.27815768122673035,
          0.37018170952796936,
          0.20215705037117004,
          0.2239101380109787,
          0.26554715633392334,
          0.2940172553062439,
          0.290249228477478,
          0.24474014341831207,
          0.3707212209701538,
          0.2381744235754013,
          0.22885701060295105,
          0.24859397113323212,
          0.29497209191322327,
          0.30327779054641724,
          0.27827101945877075,
          0.18267175555229187,
          0.3434326946735382,
          0.25962334871292114,
          0.283641517162323,
          0.1933024823665619,
          0.20639240741729736,
          0.25045743584632874,
          0.24783751368522644,
          0.17274416983127594,
          0.25127577781677246,
          0.20212535560131073,
          0.29123568534851074,
          0.3337835371494293,
          0.30940893292427063,
          0.36906149983406067,
          0.2398597151041031,
          0.21963246166706085,
          0.3283339738845825,
          0.2842348515987396,
          0.23341116309165955,
          0.2710724174976349,
          0.27167636156082153,
          0.25113317370414734,
          0.33507460355758667,
          0.2799898087978363,
          0.2423352152109146,
          0.26472708582878113,
          0.19453325867652893,
          0.24841050803661346,
          0.2778127193450928,
          0.3206644654273987,
          0.23537851870059967,
          0.20998243987560272,
          0.3759963810443878,
          0.32822510600090027,
          0.18976879119873047,
          0.20998243987560272,
          0.2641535997390747,
          0.28974634408950806,
          0.276934415102005,
          0.19261202216148376,
          0.2432677149772644,
          0.2524052560329437,
          0.3232918679714203,
          0.16448883712291718,
          0.22036997973918915,
          0.23905141651630402,
          0.24867720901966095,
          0.2645411491394043,
          0.23008418083190918,
          0.25573813915252686,
          0.21554197371006012,
          0.27122801542282104,
          0.17941898107528687,
          0.2708117365837097,
          0.21113505959510803,
          0.26466360688209534,
          0.19457224011421204,
          0.2872471511363983,
          0.3152045011520386,
          0.24322831630706787,
          0.2553080916404724,
          0.2891438603401184,
          0.24941183626651764,
          0.2922820746898651,
          0.2040095180273056,
          0.3179175555706024,
          0.2305307537317276,
          0.27957144379615784,
          0.27501487731933594,
          0.2531340718269348,
          0.23818673193454742,
          0.3586166501045227,
          0.20092590153217316,
          0.2716943025588989,
          0.30804187059402466,
          0.27332937717437744,
          0.3071856200695038,
          0.3069491386413574,
          0.26066699624061584,
          0.23502720892429352,
          0.22320638597011566,
          0.25583747029304504,
          0.24434581398963928,
          0.33870217204093933,
          0.20217454433441162,
          0.24102431535720825,
          0.22055917978286743,
          0.2428683191537857,
          0.19162315130233765,
          0.2876605689525604,
          0.21513397991657257,
          0.2773337662220001,
          0.26416492462158203,
          0.3064480125904083,
          0.2234417051076889,
          0.3062710165977478,
          0.2433760017156601,
          0.3128998279571533,
          0.22152233123779297,
          0.25256356596946716,
          0.31690385937690735,
          0.19755993783473969,
          0.3518381416797638,
          0.3546910285949707,
          0.36052215099334717,
          0.32445868849754333,
          0.24135428667068481,
          0.24488836526870728,
          0.19072867929935455,
          0.30368271470069885,
          0.2356427162885666,
          0.41243717074394226,
          0.25774461030960083,
          0.223148912191391,
          0.27482643723487854,
          0.2158767431974411,
          0.23495875298976898,
          0.2840682566165924,
          0.2589317560195923,
          0.2705381512641907,
          0.3144366145133972,
          0.3144366145133972,
          0.3144366145133972,
          0.2615191340446472,
          0.30291587114334106,
          0.25931525230407715,
          0.3490147292613983,
          0.20029902458190918,
          0.2490084022283554,
          0.16422733664512634,
          0.18280363082885742,
          0.2863073945045471,
          0.2511351704597473,
          0.2610028386116028,
          0.28306370973587036,
          0.2193211317062378,
          0.28306370973587036,
          0.21868287026882172,
          0.16183900833129883,
          0.1951412707567215,
          0.3533625900745392,
          0.29870566725730896,
          0.21868287026882172,
          0.24941183626651764,
          0.19654852151870728,
          0.28048139810562134,
          0.2968292236328125,
          0.24411755800247192,
          0.2332076132297516,
          0.18260785937309265,
          0.1605735570192337,
          0.23541688919067383,
          0.1813073605298996,
          0.28683120012283325,
          0.24149999022483826,
          0.34430211782455444,
          0.30154383182525635,
          0.34103456139564514,
          0.19944702088832855,
          0.3586166501045227,
          0.29750871658325195,
          0.25360289216041565,
          0.2032279223203659,
          0.28898417949676514,
          0.3707212209701538,
          0.2192869782447815
         ]
        }
       ],
       "layout": {
        "font": {
         "size": 20
        },
        "paper_bgcolor": "white",
        "plot_bgcolor": "white",
        "template": {
         "data": {
          "bar": [
           {
            "error_x": {
             "color": "#2a3f5f"
            },
            "error_y": {
             "color": "#2a3f5f"
            },
            "marker": {
             "line": {
              "color": "#E5ECF6",
              "width": 0.5
             },
             "pattern": {
              "fillmode": "overlay",
              "size": 10,
              "solidity": 0.2
             }
            },
            "type": "bar"
           }
          ],
          "barpolar": [
           {
            "marker": {
             "line": {
              "color": "#E5ECF6",
              "width": 0.5
             },
             "pattern": {
              "fillmode": "overlay",
              "size": 10,
              "solidity": 0.2
             }
            },
            "type": "barpolar"
           }
          ],
          "carpet": [
           {
            "aaxis": {
             "endlinecolor": "#2a3f5f",
             "gridcolor": "white",
             "linecolor": "white",
             "minorgridcolor": "white",
             "startlinecolor": "#2a3f5f"
            },
            "baxis": {
             "endlinecolor": "#2a3f5f",
             "gridcolor": "white",
             "linecolor": "white",
             "minorgridcolor": "white",
             "startlinecolor": "#2a3f5f"
            },
            "type": "carpet"
           }
          ],
          "choropleth": [
           {
            "colorbar": {
             "outlinewidth": 0,
             "ticks": ""
            },
            "type": "choropleth"
           }
          ],
          "contour": [
           {
            "colorbar": {
             "outlinewidth": 0,
             "ticks": ""
            },
            "colorscale": [
             [
              0,
              "#0d0887"
             ],
             [
              0.1111111111111111,
              "#46039f"
             ],
             [
              0.2222222222222222,
              "#7201a8"
             ],
             [
              0.3333333333333333,
              "#9c179e"
             ],
             [
              0.4444444444444444,
              "#bd3786"
             ],
             [
              0.5555555555555556,
              "#d8576b"
             ],
             [
              0.6666666666666666,
              "#ed7953"
             ],
             [
              0.7777777777777778,
              "#fb9f3a"
             ],
             [
              0.8888888888888888,
              "#fdca26"
             ],
             [
              1,
              "#f0f921"
             ]
            ],
            "type": "contour"
           }
          ],
          "contourcarpet": [
           {
            "colorbar": {
             "outlinewidth": 0,
             "ticks": ""
            },
            "type": "contourcarpet"
           }
          ],
          "heatmap": [
           {
            "colorbar": {
             "outlinewidth": 0,
             "ticks": ""
            },
            "colorscale": [
             [
              0,
              "#0d0887"
             ],
             [
              0.1111111111111111,
              "#46039f"
             ],
             [
              0.2222222222222222,
              "#7201a8"
             ],
             [
              0.3333333333333333,
              "#9c179e"
             ],
             [
              0.4444444444444444,
              "#bd3786"
             ],
             [
              0.5555555555555556,
              "#d8576b"
             ],
             [
              0.6666666666666666,
              "#ed7953"
             ],
             [
              0.7777777777777778,
              "#fb9f3a"
             ],
             [
              0.8888888888888888,
              "#fdca26"
             ],
             [
              1,
              "#f0f921"
             ]
            ],
            "type": "heatmap"
           }
          ],
          "heatmapgl": [
           {
            "colorbar": {
             "outlinewidth": 0,
             "ticks": ""
            },
            "colorscale": [
             [
              0,
              "#0d0887"
             ],
             [
              0.1111111111111111,
              "#46039f"
             ],
             [
              0.2222222222222222,
              "#7201a8"
             ],
             [
              0.3333333333333333,
              "#9c179e"
             ],
             [
              0.4444444444444444,
              "#bd3786"
             ],
             [
              0.5555555555555556,
              "#d8576b"
             ],
             [
              0.6666666666666666,
              "#ed7953"
             ],
             [
              0.7777777777777778,
              "#fb9f3a"
             ],
             [
              0.8888888888888888,
              "#fdca26"
             ],
             [
              1,
              "#f0f921"
             ]
            ],
            "type": "heatmapgl"
           }
          ],
          "histogram": [
           {
            "marker": {
             "pattern": {
              "fillmode": "overlay",
              "size": 10,
              "solidity": 0.2
             }
            },
            "type": "histogram"
           }
          ],
          "histogram2d": [
           {
            "colorbar": {
             "outlinewidth": 0,
             "ticks": ""
            },
            "colorscale": [
             [
              0,
              "#0d0887"
             ],
             [
              0.1111111111111111,
              "#46039f"
             ],
             [
              0.2222222222222222,
              "#7201a8"
             ],
             [
              0.3333333333333333,
              "#9c179e"
             ],
             [
              0.4444444444444444,
              "#bd3786"
             ],
             [
              0.5555555555555556,
              "#d8576b"
             ],
             [
              0.6666666666666666,
              "#ed7953"
             ],
             [
              0.7777777777777778,
              "#fb9f3a"
             ],
             [
              0.8888888888888888,
              "#fdca26"
             ],
             [
              1,
              "#f0f921"
             ]
            ],
            "type": "histogram2d"
           }
          ],
          "histogram2dcontour": [
           {
            "colorbar": {
             "outlinewidth": 0,
             "ticks": ""
            },
            "colorscale": [
             [
              0,
              "#0d0887"
             ],
             [
              0.1111111111111111,
              "#46039f"
             ],
             [
              0.2222222222222222,
              "#7201a8"
             ],
             [
              0.3333333333333333,
              "#9c179e"
             ],
             [
              0.4444444444444444,
              "#bd3786"
             ],
             [
              0.5555555555555556,
              "#d8576b"
             ],
             [
              0.6666666666666666,
              "#ed7953"
             ],
             [
              0.7777777777777778,
              "#fb9f3a"
             ],
             [
              0.8888888888888888,
              "#fdca26"
             ],
             [
              1,
              "#f0f921"
             ]
            ],
            "type": "histogram2dcontour"
           }
          ],
          "mesh3d": [
           {
            "colorbar": {
             "outlinewidth": 0,
             "ticks": ""
            },
            "type": "mesh3d"
           }
          ],
          "parcoords": [
           {
            "line": {
             "colorbar": {
              "outlinewidth": 0,
              "ticks": ""
             }
            },
            "type": "parcoords"
           }
          ],
          "pie": [
           {
            "automargin": true,
            "type": "pie"
           }
          ],
          "scatter": [
           {
            "fillpattern": {
             "fillmode": "overlay",
             "size": 10,
             "solidity": 0.2
            },
            "type": "scatter"
           }
          ],
          "scatter3d": [
           {
            "line": {
             "colorbar": {
              "outlinewidth": 0,
              "ticks": ""
             }
            },
            "marker": {
             "colorbar": {
              "outlinewidth": 0,
              "ticks": ""
             }
            },
            "type": "scatter3d"
           }
          ],
          "scattercarpet": [
           {
            "marker": {
             "colorbar": {
              "outlinewidth": 0,
              "ticks": ""
             }
            },
            "type": "scattercarpet"
           }
          ],
          "scattergeo": [
           {
            "marker": {
             "colorbar": {
              "outlinewidth": 0,
              "ticks": ""
             }
            },
            "type": "scattergeo"
           }
          ],
          "scattergl": [
           {
            "marker": {
             "colorbar": {
              "outlinewidth": 0,
              "ticks": ""
             }
            },
            "type": "scattergl"
           }
          ],
          "scattermapbox": [
           {
            "marker": {
             "colorbar": {
              "outlinewidth": 0,
              "ticks": ""
             }
            },
            "type": "scattermapbox"
           }
          ],
          "scatterpolar": [
           {
            "marker": {
             "colorbar": {
              "outlinewidth": 0,
              "ticks": ""
             }
            },
            "type": "scatterpolar"
           }
          ],
          "scatterpolargl": [
           {
            "marker": {
             "colorbar": {
              "outlinewidth": 0,
              "ticks": ""
             }
            },
            "type": "scatterpolargl"
           }
          ],
          "scatterternary": [
           {
            "marker": {
             "colorbar": {
              "outlinewidth": 0,
              "ticks": ""
             }
            },
            "type": "scatterternary"
           }
          ],
          "surface": [
           {
            "colorbar": {
             "outlinewidth": 0,
             "ticks": ""
            },
            "colorscale": [
             [
              0,
              "#0d0887"
             ],
             [
              0.1111111111111111,
              "#46039f"
             ],
             [
              0.2222222222222222,
              "#7201a8"
             ],
             [
              0.3333333333333333,
              "#9c179e"
             ],
             [
              0.4444444444444444,
              "#bd3786"
             ],
             [
              0.5555555555555556,
              "#d8576b"
             ],
             [
              0.6666666666666666,
              "#ed7953"
             ],
             [
              0.7777777777777778,
              "#fb9f3a"
             ],
             [
              0.8888888888888888,
              "#fdca26"
             ],
             [
              1,
              "#f0f921"
             ]
            ],
            "type": "surface"
           }
          ],
          "table": [
           {
            "cells": {
             "fill": {
              "color": "#EBF0F8"
             },
             "line": {
              "color": "white"
             }
            },
            "header": {
             "fill": {
              "color": "#C8D4E3"
             },
             "line": {
              "color": "white"
             }
            },
            "type": "table"
           }
          ]
         },
         "layout": {
          "annotationdefaults": {
           "arrowcolor": "#2a3f5f",
           "arrowhead": 0,
           "arrowwidth": 1
          },
          "autotypenumbers": "strict",
          "coloraxis": {
           "colorbar": {
            "outlinewidth": 0,
            "ticks": ""
           }
          },
          "colorscale": {
           "diverging": [
            [
             0,
             "#8e0152"
            ],
            [
             0.1,
             "#c51b7d"
            ],
            [
             0.2,
             "#de77ae"
            ],
            [
             0.3,
             "#f1b6da"
            ],
            [
             0.4,
             "#fde0ef"
            ],
            [
             0.5,
             "#f7f7f7"
            ],
            [
             0.6,
             "#e6f5d0"
            ],
            [
             0.7,
             "#b8e186"
            ],
            [
             0.8,
             "#7fbc41"
            ],
            [
             0.9,
             "#4d9221"
            ],
            [
             1,
             "#276419"
            ]
           ],
           "sequential": [
            [
             0,
             "#0d0887"
            ],
            [
             0.1111111111111111,
             "#46039f"
            ],
            [
             0.2222222222222222,
             "#7201a8"
            ],
            [
             0.3333333333333333,
             "#9c179e"
            ],
            [
             0.4444444444444444,
             "#bd3786"
            ],
            [
             0.5555555555555556,
             "#d8576b"
            ],
            [
             0.6666666666666666,
             "#ed7953"
            ],
            [
             0.7777777777777778,
             "#fb9f3a"
            ],
            [
             0.8888888888888888,
             "#fdca26"
            ],
            [
             1,
             "#f0f921"
            ]
           ],
           "sequentialminus": [
            [
             0,
             "#0d0887"
            ],
            [
             0.1111111111111111,
             "#46039f"
            ],
            [
             0.2222222222222222,
             "#7201a8"
            ],
            [
             0.3333333333333333,
             "#9c179e"
            ],
            [
             0.4444444444444444,
             "#bd3786"
            ],
            [
             0.5555555555555556,
             "#d8576b"
            ],
            [
             0.6666666666666666,
             "#ed7953"
            ],
            [
             0.7777777777777778,
             "#fb9f3a"
            ],
            [
             0.8888888888888888,
             "#fdca26"
            ],
            [
             1,
             "#f0f921"
            ]
           ]
          },
          "colorway": [
           "#636efa",
           "#EF553B",
           "#00cc96",
           "#ab63fa",
           "#FFA15A",
           "#19d3f3",
           "#FF6692",
           "#B6E880",
           "#FF97FF",
           "#FECB52"
          ],
          "font": {
           "color": "#2a3f5f"
          },
          "geo": {
           "bgcolor": "white",
           "lakecolor": "white",
           "landcolor": "#E5ECF6",
           "showlakes": true,
           "showland": true,
           "subunitcolor": "white"
          },
          "hoverlabel": {
           "align": "left"
          },
          "hovermode": "closest",
          "mapbox": {
           "style": "light"
          },
          "paper_bgcolor": "white",
          "plot_bgcolor": "#E5ECF6",
          "polar": {
           "angularaxis": {
            "gridcolor": "white",
            "linecolor": "white",
            "ticks": ""
           },
           "bgcolor": "#E5ECF6",
           "radialaxis": {
            "gridcolor": "white",
            "linecolor": "white",
            "ticks": ""
           }
          },
          "scene": {
           "xaxis": {
            "backgroundcolor": "#E5ECF6",
            "gridcolor": "white",
            "gridwidth": 2,
            "linecolor": "white",
            "showbackground": true,
            "ticks": "",
            "zerolinecolor": "white"
           },
           "yaxis": {
            "backgroundcolor": "#E5ECF6",
            "gridcolor": "white",
            "gridwidth": 2,
            "linecolor": "white",
            "showbackground": true,
            "ticks": "",
            "zerolinecolor": "white"
           },
           "zaxis": {
            "backgroundcolor": "#E5ECF6",
            "gridcolor": "white",
            "gridwidth": 2,
            "linecolor": "white",
            "showbackground": true,
            "ticks": "",
            "zerolinecolor": "white"
           }
          },
          "shapedefaults": {
           "line": {
            "color": "#2a3f5f"
           }
          },
          "ternary": {
           "aaxis": {
            "gridcolor": "white",
            "linecolor": "white",
            "ticks": ""
           },
           "baxis": {
            "gridcolor": "white",
            "linecolor": "white",
            "ticks": ""
           },
           "bgcolor": "#E5ECF6",
           "caxis": {
            "gridcolor": "white",
            "linecolor": "white",
            "ticks": ""
           }
          },
          "title": {
           "x": 0.05
          },
          "xaxis": {
           "automargin": true,
           "gridcolor": "white",
           "linecolor": "white",
           "ticks": "",
           "title": {
            "standoff": 15
           },
           "zerolinecolor": "white",
           "zerolinewidth": 2
          },
          "yaxis": {
           "automargin": true,
           "gridcolor": "white",
           "linecolor": "white",
           "ticks": "",
           "title": {
            "standoff": 15
           },
           "zerolinecolor": "white",
           "zerolinewidth": 2
          }
         }
        },
        "title": {
         "text": "Distribution of Nuclear Norm of Node Explain Matrix"
        },
        "xaxis": {
         "title": {
          "text": "Nuclear Norm"
         }
        },
        "yaxis": {
         "title": {
          "text": "Frequency"
         }
        }
       }
      },
      "text/html": [
       "<div>                            <div id=\"6e0e3790-3e45-45d2-bd22-ecc5163d2ba9\" class=\"plotly-graph-div\" style=\"height:525px; width:100%;\"></div>            <script type=\"text/javascript\">                require([\"plotly\"], function(Plotly) {                    window.PLOTLYENV=window.PLOTLYENV || {};                                    if (document.getElementById(\"6e0e3790-3e45-45d2-bd22-ecc5163d2ba9\")) {                    Plotly.newPlot(                        \"6e0e3790-3e45-45d2-bd22-ecc5163d2ba9\",                        [{\"name\":\"GMI\",\"x\":[0.3119733929634094,0.32691559195518494,0.24601437151432037,0.25105172395706177,0.263872355222702,0.23217454552650452,0.28111156821250916,0.2656309902667999,0.2653488218784332,0.26926347613334656,0.2919290363788605,0.28325793147087097,0.30476686358451843,0.29176124930381775,0.32280755043029785,0.2666441798210144,0.32199257612228394,0.2890460789203644,0.3677333891391754,0.28114140033721924,0.2845923602581024,0.27112194895744324,0.2896580696105957,0.26670774817466736,0.23960135877132416,0.2547444701194763,0.25367921590805054,0.26077330112457275,0.26519539952278137,0.27243635058403015,0.2733299434185028,0.2787310481071472,0.24287350475788116,0.25727978348731995,0.22003528475761414,0.29457077383995056,0.2788872718811035,0.27762162685394287,0.28219157457351685,0.27021926641464233,0.26953431963920593,0.29550227522850037,0.2952774167060852,0.23432707786560059,0.2649666368961334,0.27435171604156494,0.25766628980636597,0.2746153175830841,0.2634488642215729,0.2692508101463318,0.2664841115474701,0.33100879192352295,0.3530251979827881,0.35963115096092224,0.2380748689174652,0.24948325753211975,0.23138070106506348,0.25658005475997925,0.2576484680175781,0.22972366213798523,0.26234671473503113,0.34275123476982117,0.2627619504928589,0.27560847997665405,0.3117014765739441,0.2516704499721527,0.2514571249485016,0.273058146238327,0.2841905653476715,0.2758089601993561,0.2772706151008606,0.2434886395931244,0.28282231092453003,0.32033073902130127,0.36316797137260437,0.26595452427864075,0.23575320839881897,0.2709426283836365,0.26626062393188477,0.2989967167377472,0.2851751744747162,0.263560026884079,0.24310296773910522,0.2672809362411499,0.32650527358055115,0.39208677411079407,0.2654387652873993,0.29253628849983215,0.23903539776802063,0.22643886506557465,0.27964532375335693,0.2632491886615753,0.3428766429424286,0.28810492157936096,0.2854999601840973,0.3047715127468109,0.23164907097816467,0.2354590743780136,0.26071029901504517,0.2504339814186096,0.2712756395339966,0.2583124041557312,0.25836777687072754,0.29485663771629333,0.24985909461975098,0.2818758189678192,0.28017890453338623,0.24156154692173004,0.25644418597221375,0.3014000356197357,0.2194773256778717,0.21711349487304688,0.28418973088264465,0.3225812017917633,0.27066436409950256,0.292177677154541,0.2907584011554718,0.29656729102134705,0.3318997621536255,0.2661021649837494,0.3158084452152252,0.2227504402399063,0.3233521580696106,0.3180432915687561,0.2617647051811218,0.24080954492092133,0.26194456219673157,0.32641807198524475,0.2792762517929077,0.28578001260757446,0.29637688398361206,0.27955248951911926,0.2600173354148865,0.2597789168357849,0.31398090720176697,0.26234909892082214,0.22548982501029968,0.25622910261154175,0.23370198905467987,0.26321491599082947,0.2522328197956085,0.3019371032714844,0.262102872133255,0.31220969557762146,0.24082325398921967,0.28605198860168457,0.3415829539299011,0.29196783900260925,0.32534661889076233,0.3044341206550598,0.2813217043876648,0.2707973122596741,0.2575381100177765,0.24872206151485443,0.25273633003234863,0.27995339035987854,0.31775546073913574,0.2996133267879486,0.2763599753379822,0.2603345513343811,0.18195697665214539,0.2864827513694763,0.32461467385292053,0.2739427387714386,0.2963523268699646,0.26528191566467285,0.20230433344841003,0.2471255511045456,0.344439834356308,0.2810930013656616,0.30027347803115845,0.27759554982185364,0.3246127963066101,0.2918025851249695,0.2694758474826813,0.24798034131526947,0.3120206892490387,0.32549095153808594,0.326193243265152,0.3161594867706299,0.36770394444465637,0.2705785036087036,0.26801633834838867,0.2713204324245453,0.28331172466278076,0.23582038283348083,0.2628834843635559,0.26734352111816406,0.28101441264152527,0.27094703912734985,0.2746497094631195,0.3076533377170563,0.22050748765468597,0.20980803668498993,0.2377328723669052,0.22978058457374573,0.27079707384109497,0.2857002913951874,0.30315518379211426,0.3020646870136261,0.2546265721321106,0.30219024419784546,0.2797834575176239,0.28732895851135254,0.26329687237739563,0.2824930250644684,0.2883439064025879,0.28542864322662354,0.2738153636455536,0.25285282731056213,0.2578931748867035,0.20426607131958008,0.23384477198123932,0.30082258582115173,0.3177034556865692,0.30960553884506226,0.25612393021583557,0.28031474351882935,0.30821508169174194,0.2840573787689209,0.3145577907562256,0.33443573117256165,0.31164026260375977,0.3200414180755615,0.3065786063671112,0.29512879252433777,0.2907208204269409,0.3360615670681,0.3047873079776764,0.3222499191761017,0.2458621859550476,0.32750603556632996,0.30469638109207153,0.2678897976875305,0.2636088728904724,0.25708600878715515,0.2651510238647461,0.2624780535697937,0.30644261837005615,0.28500714898109436,0.24726653099060059,0.25558891892433167,0.25734037160873413,0.3099927306175232,0.2839500904083252,0.28565359115600586,0.28575974702835083,0.24499908089637756,0.3046049475669861,0.2602726221084595,0.2700187861919403,0.2631424069404602,0.23157772421836853,0.27976149320602417,0.2855280935764313,0.3084394335746765,0.2942787706851959,0.2848055958747864,0.2961483895778656,0.3072585463523865,0.2992347776889801,0.25903621315956116,0.3428705334663391,0.29396775364875793,0.2746300995349884,0.27907121181488037,0.3086335361003876,0.2556425631046295,0.3046824634075165,0.24825094640254974,0.2887721657752991,0.27270203828811646,0.2973601222038269,0.25404301285743713,0.2546333968639374,0.2987443804740906,0.31799647212028503,0.276505708694458,0.3364710807800293,0.2335767149925232,0.2853620648384094,0.2667710483074188,0.24478751420974731,0.2340882420539856,0.29158949851989746,0.2616889178752899,0.251284122467041,0.27407577633857727,0.26269903779029846,0.33875399827957153,0.2915109395980835,0.26140162348747253,0.3340800404548645,0.24764195084571838,0.2579524517059326,0.30632877349853516,0.26514869928359985,0.2835160791873932,0.30658650398254395,0.27975988388061523,0.2839788496494293,0.2644742429256439,0.26498812437057495,0.2419038712978363,0.24767601490020752,0.28190839290618896,0.324081689119339,0.34816253185272217,0.2666357755661011,0.36946621537208557,0.3358359932899475,0.2872774302959442,0.3124748170375824,0.2667119801044464,0.3102835714817047,0.30295976996421814,0.3368827998638153,0.3511909246444702,0.30211469531059265,0.20430603623390198,0.2657637894153595,0.2682460844516754,0.22766828536987305,0.27269333600997925,0.2980085611343384,0.2896170914173126,0.3175249695777893,0.3017490804195404,0.2701079249382019,0.27244308590888977,0.29912102222442627,0.2886275053024292,0.26346340775489807,0.25528019666671753,0.20778807997703552,0.22406582534313202,0.2861692011356354,0.261691689491272,0.2855192720890045,0.2580496072769165,0.22255568206310272,0.25757551193237305,0.31917479634284973,0.31091418862342834,0.2883133888244629,0.322474867105484,0.3218095004558563,0.3591170608997345,0.20177415013313293,0.3346633315086365,0.32375916838645935,0.28344103693962097,0.32125234603881836,0.26141804456710815,0.20767119526863098,0.22529082000255585,0.2789551317691803,0.27682021260261536,0.2585386633872986,0.27826574444770813,0.30027851462364197,0.24839088320732117,0.2846895456314087,0.24638542532920837,0.24422714114189148,0.3302949368953705,0.34828078746795654,0.2607734501361847,0.30381208658218384,0.2082289755344391,0.2691355347633362,0.25666800141334534,0.29042848944664,0.34265393018722534,0.2250939905643463,0.2514975666999817,0.27082133293151855,0.19756171107292175,0.23454126715660095,0.27232855558395386,0.25868919491767883,0.2932111918926239,0.19688467681407928,0.18652647733688354,0.25848808884620667,0.2247174233198166,0.2490919828414917,0.31224343180656433,0.2453136146068573,0.30950286984443665,0.2685374319553375,0.24206343293190002,0.2373909205198288,0.29128387570381165,0.24945667386054993,0.2926766574382782,0.2107793390750885,0.28128519654273987,0.19657158851623535,0.2701115012168884,0.2986520826816559,0.26274728775024414,0.30151107907295227,0.2981514036655426,0.2649005055427551,0.23935310542583466,0.24019962549209595,0.25240787863731384,0.2290819138288498,0.31181779503822327,0.2266557365655899,0.2332388460636139,0.2601296603679657,0.270211786031723,0.18505780398845673,0.3793972432613373,0.3061172068119049,0.27241194248199463,0.273911714553833,0.35410353541374207,0.19769981503486633,0.3958078622817993,0.30294233560562134,0.2497778683900833,0.2940368950366974,0.2660733163356781,0.2945058047771454,0.27339112758636475,0.23842884600162506,0.2378254532814026,0.2876349091529846,0.26517269015312195,0.20234976708889008,0.291263610124588,0.255938321352005,0.3255302906036377,0.18673695623874664,0.25141361355781555,0.25266361236572266,0.189351886510849,0.3305453658103943,0.2958557903766632,0.2680502235889435,0.2772670388221741,0.2526206076145172,0.28975534439086914,0.22692230343818665,0.26415249705314636,0.2701331377029419,0.2731409966945648,0.265555202960968,0.2774626314640045,0.25612056255340576,0.2569536864757538,0.2256680279970169,0.26363885402679443,0.171149343252182,0.3318081796169281,0.2894032895565033,0.271954208612442,0.3724575638771057,0.24447965621948242,0.247443288564682,0.2108236402273178,0.25992053747177124,0.3364753723144531,0.3241609036922455,0.25923243165016174,0.3101315200328827,0.2241722047328949,0.26406019926071167,0.31575044989585876,0.2824232280254364,0.3136337101459503,0.24546782672405243,0.24758492410182953,0.2110302895307541,0.20187978446483612,0.2857937216758728,0.2988162338733673,0.26151788234710693,0.26038843393325806,0.3108414113521576,0.31278324127197266,0.2941056489944458,0.3051883280277252,0.3554849326610565,0.293810099363327,0.25418415665626526,0.3082098960876465,0.287750780582428,0.2883054316043854,0.26305651664733887,0.30665379762649536,0.23752805590629578,0.3076515197753906,0.30354949831962585,0.30283430218696594,0.33362236618995667,0.27568677067756653,0.23071253299713135,0.245054230093956,0.22223149240016937,0.22925826907157898,0.2576051950454712,0.24772612750530243,0.24917006492614746,0.3466634154319763,0.27413079142570496,0.26212430000305176,0.25523149967193604,0.34134042263031006,0.2847750782966614,0.26900535821914673,0.22086405754089355,0.29679107666015625,0.22051912546157837,0.2121185064315796,0.23516477644443512,0.3090035617351532,0.2544325292110443,0.293101042509079,0.2482181042432785,0.3228527903556824,0.2228621542453766,0.28062766790390015,0.2794715464115143,0.24015244841575623,0.3110320270061493,0.27303817868232727,0.31097984313964844,0.2672634720802307,0.26533305644989014,0.3061434328556061,0.25097140669822693,0.2770494222640991,0.3171237111091614,0.4044434726238251,0.29968205094337463,0.26758474111557007,0.259235680103302,0.2738463878631592,0.2565932869911194,0.28748300671577454,0.2842075526714325,0.24866145849227905,0.26391392946243286,0.22778885066509247,0.29050713777542114,0.3093407154083252,0.24947762489318848,0.28182512521743774,0.25119146704673767,0.2321336418390274,0.2721606194972992,0.28359687328338623,0.2965242862701416,0.2668185830116272,0.2957434058189392,0.22952532768249512,0.2681025266647339,0.24240493774414062,0.28658825159072876,0.3127596974372864,0.3134920299053192,0.2744353413581848,0.25855934619903564,0.25541290640830994,0.25615790486335754,0.27226170897483826,0.23387481272220612,0.24017417430877686,0.29611194133758545,0.23299726843833923,0.2466983050107956,0.24782055616378784,0.2624393403530121,0.2597220838069916,0.2685909867286682,0.2327050417661667,0.28123217821121216,0.27493414282798767,0.2585907280445099,0.21883872151374817,0.3098854720592499,0.24937526881694794,0.24284149706363678,0.24562032520771027,0.2617669701576233,0.2573433220386505,0.23713500797748566,0.24303705990314484,0.27040573954582214,0.19467931985855103,0.3634275794029236,0.2681005299091339,0.30913910269737244,0.22622865438461304,0.26076191663742065,0.2534143328666687,0.309732586145401,0.30567920207977295,0.2731409966945648,0.25108447670936584,0.2523084878921509,0.30506113171577454,0.3215363621711731,0.2791438102722168,0.22064824402332306,0.2584366500377655,0.2892734706401825,0.28374233841896057,0.32772037386894226,0.31101539731025696,0.33934468030929565,0.3200068771839142,0.20319616794586182,0.24496370553970337,0.22547176480293274,0.17106814682483673,0.301169753074646,0.2565896809101105,0.3062155544757843,0.3528735637664795,0.17360198497772217,0.27900272607803345,0.29575496912002563,0.18213210999965668,0.28689849376678467,0.14184467494487762,0.1504906564950943,0.16616402566432953,0.15826699137687683,0.20074833929538727,0.2547813653945923,0.15824000537395477,0.294597327709198,0.27961376309394836,0.2565786838531494,0.24258588254451752,0.2531469464302063,0.291464239358902,0.32883667945861816,0.3002772331237793,0.17410123348236084,0.2615737318992615,0.3021065890789032,0.32468652725219727,0.2876828610897064,0.2959634065628052,0.24454322457313538,0.3031512498855591,0.2738519608974457,0.23450766503810883,0.25966113805770874,0.23986953496932983,0.25027918815612793,0.2548832893371582,0.3192959129810333,0.2542555630207062,0.2506359815597534,0.2966421842575073,0.32737472653388977,0.29588839411735535,0.27959516644477844,0.2465982586145401,0.26520049571990967,0.24881476163864136,0.21266388893127441,0.1859733611345291,0.28739622235298157,0.2844885289669037,0.28302398324012756,0.32412227988243103,0.25115787982940674,0.19035518169403076,0.252821147441864,0.2919863760471344,0.23774240911006927,0.2474755495786667,0.24685713648796082,0.26573023200035095,0.33459335565567017,0.18150010704994202,0.3302344083786011,0.3166816532611847,0.24086500704288483,0.34514477849006653,0.2119501233100891,0.2577383816242218,0.27273818850517273,0.24240493774414062,0.18096451461315155,0.2543275058269501,0.2571686804294586,0.3687257766723633,0.30178719758987427,0.2401023954153061,0.17064595222473145,0.2753525674343109,0.312011182308197,0.17216317355632782,0.2734735310077667,0.34300482273101807,0.25874143838882446,0.2952759563922882,0.20333488285541534,0.2586878836154938,0.2717796862125397,0.1928565949201584,0.233601912856102,0.2936253547668457,0.169897198677063,0.22517307102680206,0.2665276825428009,0.3302779495716095,0.27319785952568054,0.3031771183013916,0.31120002269744873,0.3002788722515106,0.306725412607193,0.17555418610572815,0.20569749176502228,0.2144225835800171,0.22828909754753113,0.2860139310359955,0.2822684645652771,0.19059765338897705,0.3063284754753113,0.1453063189983368,0.30708035826683044,0.2678428888320923,0.3154156804084778,0.2608782947063446,0.22310881316661835,0.22157035768032074,0.24429552257061005,0.2606963515281677,0.2911386489868164,0.26920315623283386,0.31167298555374146,0.25788986682891846,0.336227685213089,0.27625182271003723,0.2504746615886688,0.3083304464817047,0.19695371389389038,0.25874143838882446,0.3169070780277252,0.26368629932403564,0.1781289279460907,0.24912427365779877,0.20726296305656433,0.25426530838012695,0.24642200767993927,0.24570156633853912,0.21350233256816864,0.23673748970031738,0.26448681950569153,0.2539326250553131,0.3062572777271271,0.2983112633228302,0.31684574484825134,0.32064539194107056,0.31990471482276917,0.18464376032352448,0.2774856984615326,0.21577712893486023,0.24216340482234955,0.3084914982318878,0.28186726570129395,0.20548492670059204,0.33771610260009766,0.23721936345100403,0.2999686300754547,0.22216512262821198,0.3628651201725006,0.15586768090724945,0.28617778420448303,0.20828059315681458,0.3295639455318451,0.3009078800678253,0.3340785801410675,0.18943731486797333,0.2153020203113556,0.21497535705566406,0.2583724558353424,0.2541186511516571,0.16029588878154755,0.2278795838356018,0.24959874153137207,0.32715263962745667,0.25165855884552,0.291696697473526,0.27287381887435913,0.3244662880897522,0.24318386614322662,0.26059433817863464,0.25754794478416443,0.2811253070831299,0.22766296565532684,0.31911468505859375,0.1696842461824417,0.33330243825912476,0.2609793543815613,0.3452099561691284,0.18801970779895782,0.21121066808700562,0.24441422522068024,0.278203547000885,0.2763364017009735,0.225965678691864,0.3450528383255005,0.22470250725746155,0.21790434420108795,0.2335040420293808,0.2814527153968811,0.2850162982940674,0.2543275058269501,0.1715366691350937,0.3241751790046692,0.24905894696712494,0.27042919397354126,0.18272008001804352,0.19374486804008484,0.23765255510807037,0.2336304783821106,0.15171962976455688,0.24336238205432892,0.19189688563346863,0.27695101499557495,0.3149929344654083,0.29102465510368347,0.34244588017463684,0.22557498514652252,0.20958253741264343,0.3121224343776703,0.2665080726146698,0.22339388728141785,0.24969559907913208,0.2545330822467804,0.23903882503509521,0.313062459230423,0.25566211342811584,0.2245224118232727,0.2439221739768982,0.1845974624156952,0.23524902760982513,0.26356378197669983,0.3028540313243866,0.22566302120685577,0.1987370401620865,0.3502202033996582,0.3151981830596924,0.1780366152524948,0.1987370401620865,0.24415245652198792,0.26490557193756104,0.2638956904411316,0.18387968838214874,0.22452153265476227,0.23894397914409637,0.30188262462615967,0.1559114009141922,0.21124880015850067,0.21573424339294434,0.2348305881023407,0.25144052505493164,0.21586734056472778,0.23631104826927185,0.2038370817899704,0.24801893532276154,0.16832783818244934,0.2571580111980438,0.19903875887393951,0.24337884783744812,0.1855006366968155,0.27226465940475464,0.29603928327560425,0.22380328178405762,0.23590025305747986,0.27573904395103455,0.23070459067821503,0.27297842502593994,0.1938319057226181,0.2982367277145386,0.21979057788848877,0.2665920853614807,0.26298895478248596,0.2438235580921173,0.22789373993873596,0.3335295617580414,0.19061125814914703,0.25777965784072876,0.2886299192905426,0.26081228256225586,0.2882561683654785,0.2731409966945648,0.25099578499794006,0.2264634370803833,0.2158517837524414,0.23692794144153595,0.23182585835456848,0.3217317759990692,0.18715567886829376,0.22893421351909637,0.21391703188419342,0.2291709929704666,0.18044835329055786,0.26920315623283386,0.20334529876708984,0.26057225465774536,0.24896742403507233,0.2901977002620697,0.21091382205486298,0.29060879349708557,0.23037110269069672,0.29754015803337097,0.20977075397968292,0.23284167051315308,0.30107417702674866,0.18734338879585266,0.3276481628417969,0.3317606747150421,0.3369942009449005,0.3031845688819885,0.22649681568145752,0.22505146265029907,0.1839241087436676,0.2848607301712036,0.22296395897865295,0.39168012142181396,0.24325761198997498,0.2095046043395996,0.261785626411438,0.2062234878540039,0.22518126666545868,0.26964694261550903,0.24497410655021667,0.24797175824642181,0.2936733067035675,0.2936733067035675,0.2936733067035675,0.23815791308879852,0.2847541868686676,0.247560054063797,0.325131356716156,0.18933704495429993,0.2358914464712143,0.15327100455760956,0.17157138884067535,0.2743144631385803,0.2293606400489807,0.24285517632961273,0.2587592303752899,0.21065658330917358,0.2587592303752899,0.2123050093650818,0.15108293294906616,0.18575485050678253,0.33314135670661926,0.2833835482597351,0.2123050093650818,0.23070459067821503,0.18749184906482697,0.2657245397567749,0.27916714549064636,0.23096059262752533,0.22286061942577362,0.1716586947441101,0.15016944706439972,0.22278907895088196,0.17163650691509247,0.2618221938610077,0.22337733209133148,0.32111436128616333,0.26700490713119507,0.3183184862136841,0.18897318840026855,0.3335295617580414,0.27930182218551636,0.24330246448516846,0.19268280267715454,0.26448681950569153,0.3450528383255005,0.20376132428646088],\"type\":\"histogram\"},{\"name\":\"GMI+XM\",\"x\":[0.3264940083026886,0.3430837392807007,0.26628434658050537,0.2683202028274536,0.2849067151546478,0.25223785638809204,0.3012505769729614,0.2859647870063782,0.28238022327423096,0.2885637879371643,0.3100925385951996,0.30436068773269653,0.3267943263053894,0.31178712844848633,0.3362063467502594,0.28435570001602173,0.3390537202358246,0.3042675256729126,0.3846833407878876,0.3004589080810547,0.3040953576564789,0.2909476161003113,0.3047906160354614,0.2791205644607544,0.2523496150970459,0.26515722274780273,0.26384440064430237,0.27317535877227783,0.27915647625923157,0.2845650017261505,0.2857353091239929,0.29086336493492126,0.2527180016040802,0.2676336169242859,0.22915118932724,0.30719712376594543,0.2907652258872986,0.2903132736682892,0.29487884044647217,0.2812766432762146,0.2808295488357544,0.307431161403656,0.31009888648986816,0.24862942099571228,0.2853568494319916,0.2923099994659424,0.27383023500442505,0.283541738986969,0.2738713324069977,0.2837613523006439,0.28053271770477295,0.34658437967300415,0.37274879217147827,0.37320676445961,0.25350579619407654,0.26671379804611206,0.2468504011631012,0.2762189209461212,0.2769632041454315,0.24552156031131744,0.2698201835155487,0.3570724129676819,0.2826158404350281,0.2966480851173401,0.3333212435245514,0.26900514960289,0.26715564727783203,0.2865367829799652,0.3007720112800598,0.2970060706138611,0.2906474471092224,0.25664788484573364,0.3023565411567688,0.337401419878006,0.3845454752445221,0.27793776988983154,0.24431198835372925,0.2844279706478119,0.27873948216438293,0.3124280273914337,0.302614688873291,0.28180214762687683,0.2609149217605591,0.2834424078464508,0.35253122448921204,0.4101530909538269,0.28590840101242065,0.3117762506008148,0.2549215257167816,0.24117863178253174,0.2950060963630676,0.27984121441841125,0.36573711037635803,0.30173614621162415,0.2959950268268585,0.31655147671699524,0.2481514811515808,0.25048553943634033,0.27651190757751465,0.26533782482147217,0.2894236445426941,0.27338799834251404,0.2746380567550659,0.3043760359287262,0.2577158808708191,0.29923388361930847,0.30034491419792175,0.2618556618690491,0.2730628252029419,0.3161294460296631,0.23158828914165497,0.22877350449562073,0.2998599112033844,0.3352775275707245,0.28482842445373535,0.30744293332099915,0.3037188947200775,0.3123430013656616,0.35008102655410767,0.2787473201751709,0.3287973403930664,0.2404032200574875,0.3344576358795166,0.3310953974723816,0.2796284258365631,0.25610941648483276,0.278752863407135,0.3434527814388275,0.2930758595466614,0.30299001932144165,0.30888649821281433,0.2975446283817291,0.2760208547115326,0.2715798318386078,0.3339317739009857,0.27291998267173767,0.23430109024047852,0.27664634585380554,0.24772150814533234,0.279514342546463,0.268805593252182,0.3246419131755829,0.27852070331573486,0.32781752943992615,0.252080500125885,0.3029974699020386,0.35871922969818115,0.3061147630214691,0.3384245038032532,0.3162550926208496,0.29062947630882263,0.28203272819519043,0.2706231474876404,0.26070430874824524,0.2655772566795349,0.29570674896240234,0.33198779821395874,0.3121333718299866,0.2954396903514862,0.27688902616500854,0.19808940589427948,0.3041139841079712,0.34309855103492737,0.29049327969551086,0.31554388999938965,0.2778194546699524,0.21631282567977905,0.2556658685207367,0.3608211576938629,0.29606661200523376,0.31840988993644714,0.28691646456718445,0.3374876081943512,0.3112494945526123,0.28627440333366394,0.26094919443130493,0.32432636618614197,0.3399718403816223,0.33890458941459656,0.32692551612854004,0.38408005237579346,0.27989616990089417,0.27716904878616333,0.28939738869667053,0.30257710814476013,0.25198855996131897,0.2748855650424957,0.2816389203071594,0.2963991165161133,0.2909561097621918,0.28917190432548523,0.3245391547679901,0.2341594249010086,0.22255145013332367,0.2533565163612366,0.24416686594486237,0.2808144688606262,0.29743432998657227,0.31776219606399536,0.31492599844932556,0.26482877135276794,0.3134863078594208,0.29308581352233887,0.29797160625457764,0.2729019224643707,0.2931526303291321,0.3014197051525116,0.2960119843482971,0.29118210077285767,0.2721220552921295,0.2740141749382019,0.221660315990448,0.24718748033046722,0.3222346901893616,0.3294394612312317,0.32758352160453796,0.27145466208457947,0.2965540587902069,0.32331180572509766,0.2942577302455902,0.32702091336250305,0.35016751289367676,0.328867107629776,0.3359692692756653,0.32019075751304626,0.30779707431793213,0.3033250868320465,0.3517950773239136,0.3171459436416626,0.3371155560016632,0.2615150809288025,0.3443674147129059,0.3196414113044739,0.2848297655582428,0.2816067636013031,0.2725667655467987,0.28127017617225647,0.27864304184913635,0.3287356197834015,0.2996487617492676,0.2616833448410034,0.2707501947879791,0.2757906913757324,0.3310025930404663,0.2997351586818695,0.29581430554389954,0.30284956097602844,0.2595730721950531,0.3205334544181824,0.2770456373691559,0.27899420261383057,0.2737880349159241,0.24912069737911224,0.29470095038414,0.30000725388526917,0.32608529925346375,0.3106393814086914,0.29657450318336487,0.3169832229614258,0.32653865218162537,0.3165692687034607,0.27044400572776794,0.358197420835495,0.3064265847206116,0.2924240827560425,0.2978695034980774,0.32805174589157104,0.2710041403770447,0.3202270567417145,0.26597416400909424,0.30055952072143555,0.2926149368286133,0.31711870431900024,0.2698132395744324,0.2693585157394409,0.31227338314056396,0.3339632451534271,0.28633520007133484,0.35007157921791077,0.24512788653373718,0.29751983284950256,0.283909410238266,0.26082319021224976,0.24615846574306488,0.3032703101634979,0.2815205454826355,0.2670392394065857,0.28996801376342773,0.2774929702281952,0.352441668510437,0.3077804148197174,0.2717721164226532,0.34768548607826233,0.26188600063323975,0.268899142742157,0.3226461708545685,0.2750174105167389,0.2982880771160126,0.3242693245410919,0.2974753677845001,0.30271637439727783,0.2817290425300598,0.27822384238243103,0.25854119658470154,0.26233866810798645,0.30101653933525085,0.3473910689353943,0.36254850029945374,0.27827969193458557,0.38742485642433167,0.35042062401771545,0.30325034260749817,0.3257201910018921,0.27884095907211304,0.3254911005496979,0.31742945313453674,0.3564373850822449,0.3657272756099701,0.31327158212661743,0.21552906930446625,0.27600374817848206,0.2794663906097412,0.24300089478492737,0.2905219793319702,0.31587913632392883,0.3091248869895935,0.33627381920814514,0.3228530287742615,0.2853306829929352,0.2898688316345215,0.31468379497528076,0.30313801765441895,0.2811417281627655,0.26954901218414307,0.2203333079814911,0.23925063014030457,0.299582302570343,0.2729892134666443,0.30009037256240845,0.26823464035987854,0.23648390173912048,0.2695816457271576,0.33182117342948914,0.32285693287849426,0.3003251850605011,0.33400964736938477,0.3334994316101074,0.37314292788505554,0.21024185419082642,0.34826281666755676,0.33949893712997437,0.29380813241004944,0.33316561579704285,0.28145483136177063,0.21957232058048248,0.23663145303726196,0.29487523436546326,0.2917238175868988,0.27837345004081726,0.29710981249809265,0.31873035430908203,0.25715649127960205,0.3007931411266327,0.25855377316474915,0.25512444972991943,0.34906914830207825,0.36967483162879944,0.2733827829360962,0.3147895634174347,0.22008615732192993,0.2808595597743988,0.2725100815296173,0.3050207197666168,0.36183109879493713,0.23874779045581818,0.269011527299881,0.2814635634422302,0.2101692408323288,0.24163776636123657,0.28307873010635376,0.26888999342918396,0.30556949973106384,0.20481246709823608,0.19467833638191223,0.2673458456993103,0.2315232902765274,0.25914809107780457,0.3236392140388489,0.25296086072921753,0.32144638895988464,0.27704310417175293,0.25002622604370117,0.2449682056903839,0.3045758605003357,0.2571295201778412,0.30306994915008545,0.21757318079471588,0.29167047142982483,0.20501156151294708,0.28208306431770325,0.316577672958374,0.28155025839805603,0.31438714265823364,0.31038162112236023,0.282936692237854,0.2565790116786957,0.2560703456401825,0.268047034740448,0.2458762228488922,0.3301297426223755,0.23741406202316284,0.25379854440689087,0.28185418248176575,0.2809157967567444,0.2129516452550888,0.41406795382499695,0.3246544599533081,0.2834707498550415,0.28918561339378357,0.3740231990814209,0.21047371625900269,0.41980215907096863,0.31757035851478577,0.25837162137031555,0.3126237690448761,0.28443777561187744,0.30717653036117554,0.28578364849090576,0.2532990872859955,0.2528170347213745,0.3050120174884796,0.27874547243118286,0.21275173127651215,0.30700811743736267,0.2720830738544464,0.3501410484313965,0.19632691144943237,0.2620142102241516,0.2646380066871643,0.199223592877388,0.3481387794017792,0.31512030959129333,0.2774137258529663,0.2881722152233124,0.26107069849967957,0.3034449517726898,0.24063833057880402,0.2812618613243103,0.2877127230167389,0.3069491386413574,0.27801644802093506,0.29376599192619324,0.2755662202835083,0.2696586549282074,0.23649810254573822,0.27474674582481384,0.18112225830554962,0.3476967513561249,0.30283021926879883,0.2889613211154938,0.3922644555568695,0.2598377466201782,0.26720288395881653,0.23505301773548126,0.27070528268814087,0.3541482388973236,0.3476550281047821,0.2722269594669342,0.3232801854610443,0.23669646680355072,0.27793487906455994,0.3314758539199829,0.2968926429748535,0.3330768346786499,0.26009228825569153,0.2649618089199066,0.2218654453754425,0.21323789656162262,0.30344995856285095,0.32153621315956116,0.2767755091190338,0.2780199646949768,0.32687094807624817,0.3248298466205597,0.3071760833263397,0.3160664141178131,0.3715183436870575,0.3128487765789032,0.2678781747817993,0.3232486844062805,0.3014979958534241,0.3030503988265991,0.2753976881504059,0.3225310146808624,0.25096753239631653,0.3261403441429138,0.3211391866207123,0.31764063239097595,0.3593338429927826,0.29582223296165466,0.24474643170833588,0.2584085166454315,0.2363598644733429,0.24196775257587433,0.27505216002464294,0.2621980607509613,0.26806512475013733,0.3672062158584595,0.29066988825798035,0.2828582525253296,0.26998814940452576,0.3583577275276184,0.300275593996048,0.28475868701934814,0.23313185572624207,0.3093753457069397,0.23614628612995148,0.22485890984535217,0.2481575459241867,0.3265467584133148,0.27153801918029785,0.3141232430934906,0.26160579919815063,0.34133192896842957,0.24382273852825165,0.30064767599105835,0.29198208451271057,0.24833685159683228,0.3247617185115814,0.2910536825656891,0.3282518684864044,0.2806342840194702,0.2797187864780426,0.32802459597587585,0.26373374462127686,0.2925305664539337,0.3329329490661621,0.42394140362739563,0.31872761249542236,0.27998238801956177,0.27371054887771606,0.28756287693977356,0.26797235012054443,0.3068431615829468,0.301978200674057,0.26007959246635437,0.281372994184494,0.2344307005405426,0.30385175347328186,0.33336740732192993,0.26231610774993896,0.29879751801490784,0.2661673128604889,0.24561278522014618,0.2883068323135376,0.299240380525589,0.3104725182056427,0.27788206934928894,0.3135974705219269,0.2416864037513733,0.2874966859817505,0.2646087110042572,0.29942336678504944,0.32805246114730835,0.3347804844379425,0.2905077338218689,0.27505019307136536,0.27135542035102844,0.26803097128868103,0.29121825098991394,0.24853962659835815,0.25282278656959534,0.30858829617500305,0.2460978776216507,0.25950491428375244,0.2577642500400543,0.2735602855682373,0.27426448464393616,0.28810828924179077,0.24608251452445984,0.29407429695129395,0.2894348204135895,0.2827862501144409,0.22982057929039001,0.3253006637096405,0.263563334941864,0.25638169050216675,0.2562209963798523,0.2750326097011566,0.26826968789100647,0.24845129251480103,0.259655624628067,0.2807868421077728,0.20379841327667236,0.3924279510974884,0.28265252709388733,0.32581937313079834,0.2389971911907196,0.2752552926540375,0.2655712068080902,0.3251023292541504,0.32353004813194275,0.3069491386413574,0.26342615485191345,0.28366440534591675,0.325784295797348,0.33755365014076233,0.29702508449554443,0.2323422133922577,0.27223625779151917,0.30582165718078613,0.2998059391975403,0.35094404220581055,0.337107390165329,0.3582911491394043,0.33683979511260986,0.2147911787033081,0.2600027024745941,0.23764237761497498,0.18073417246341705,0.31396183371543884,0.2794373631477356,0.32330217957496643,0.36951562762260437,0.18268729746341705,0.2971765100955963,0.31192171573638916,0.189425989985466,0.30099764466285706,0.15202756226062775,0.16101153194904327,0.17493294179439545,0.17613781988620758,0.21446926891803741,0.2799251973628998,0.168453648686409,0.31178930401802063,0.29648923873901367,0.2720291316509247,0.257473886013031,0.26465219259262085,0.30584144592285156,0.3425866961479187,0.3229043185710907,0.18430310487747192,0.274519145488739,0.31929731369018555,0.34781140089035034,0.30262526869773865,0.3105022609233856,0.25700804591178894,0.3156385123729706,0.2845672369003296,0.25368034839630127,0.28575313091278076,0.25564008951187134,0.26416993141174316,0.2689282298088074,0.335396945476532,0.26850348711013794,0.26507455110549927,0.31294724345207214,0.3495054841041565,0.3145447075366974,0.29515233635902405,0.25991538166999817,0.2915012240409851,0.26418575644493103,0.22436410188674927,0.19616375863552094,0.30368855595588684,0.3002939820289612,0.30195334553718567,0.3375879228115082,0.26404643058776855,0.20048834383487701,0.2695090174674988,0.3057168424129486,0.25002211332321167,0.2691620886325836,0.2687355875968933,0.2790543735027313,0.35463178157806396,0.1898350566625595,0.3474843502044678,0.33335423469543457,0.25148728489875793,0.37354758381843567,0.22461315989494324,0.2742864191532135,0.29133450984954834,0.2646087110042572,0.19108346104621887,0.27827101945877075,0.2701489329338074,0.38838788866996765,0.3224681317806244,0.2541753351688385,0.180962473154068,0.2919853627681732,0.3439052999019623,0.1827002763748169,0.2854178845882416,0.36313170194625854,0.2845800220966339,0.3160298466682434,0.21356987953186035,0.27017971873283386,0.2889334261417389,0.20247399806976318,0.24454843997955322,0.31524595618247986,0.17926612496376038,0.2328452467918396,0.2780095040798187,0.3450554609298706,0.2897065579891205,0.31972837448120117,0.3250749409198761,0.3221610188484192,0.31827566027641296,0.18517489731311798,0.21593508124351501,0.23783524334430695,0.2419593781232834,0.300261527299881,0.2969949543476105,0.19865167140960693,0.3311792314052582,0.15578776597976685,0.3240659534931183,0.2835812568664551,0.3336540758609772,0.27203094959259033,0.24191811680793762,0.23049215972423553,0.25587019324302673,0.2741917371749878,0.30968087911605835,0.2876605689525604,0.32937321066856384,0.2755737602710724,0.3526405096054077,0.29305607080459595,0.2644678056240082,0.32865965366363525,0.21322283148765564,0.2845800220966339,0.331317663192749,0.27897554636001587,0.1895250380039215,0.26100674271583557,0.21954892575740814,0.26892077922821045,0.26757365465164185,0.25685885548591614,0.23645353317260742,0.2560860514640808,0.28898417949676514,0.2633492946624756,0.32908549904823303,0.31388014554977417,0.33411821722984314,0.34327447414398193,0.33798933029174805,0.19394032657146454,0.29155978560447693,0.23954801261425018,0.2543763816356659,0.32508906722068787,0.30079442262649536,0.23013614118099213,0.35228899121284485,0.2575509548187256,0.31588420271873474,0.2363874465227127,0.3853636682033539,0.1657203733921051,0.30447518825531006,0.2196601778268814,0.3540714383125305,0.31795430183410645,0.3516480624675751,0.19952650368213654,0.22576841711997986,0.22743862867355347,0.27300408482551575,0.2696971595287323,0.17023144662380219,0.23970246315002441,0.26633840799331665,0.34292179346084595,0.2639255225658417,0.3122207522392273,0.2880927324295044,0.3407364785671234,0.25640931725502014,0.2739070653915405,0.27219319343566895,0.29437577724456787,0.2400858849287033,0.33569931983947754,0.17908485233783722,0.34738320112228394,0.27815768122673035,0.37018170952796936,0.20215705037117004,0.2239101380109787,0.26554715633392334,0.2940172553062439,0.290249228477478,0.24474014341831207,0.3707212209701538,0.2381744235754013,0.22885701060295105,0.24859397113323212,0.29497209191322327,0.30327779054641724,0.27827101945877075,0.18267175555229187,0.3434326946735382,0.25962334871292114,0.283641517162323,0.1933024823665619,0.20639240741729736,0.25045743584632874,0.24783751368522644,0.17274416983127594,0.25127577781677246,0.20212535560131073,0.29123568534851074,0.3337835371494293,0.30940893292427063,0.36906149983406067,0.2398597151041031,0.21963246166706085,0.3283339738845825,0.2842348515987396,0.23341116309165955,0.2710724174976349,0.27167636156082153,0.25113317370414734,0.33507460355758667,0.2799898087978363,0.2423352152109146,0.26472708582878113,0.19453325867652893,0.24841050803661346,0.2778127193450928,0.3206644654273987,0.23537851870059967,0.20998243987560272,0.3759963810443878,0.32822510600090027,0.18976879119873047,0.20998243987560272,0.2641535997390747,0.28974634408950806,0.276934415102005,0.19261202216148376,0.2432677149772644,0.2524052560329437,0.3232918679714203,0.16448883712291718,0.22036997973918915,0.23905141651630402,0.24867720901966095,0.2645411491394043,0.23008418083190918,0.25573813915252686,0.21554197371006012,0.27122801542282104,0.17941898107528687,0.2708117365837097,0.21113505959510803,0.26466360688209534,0.19457224011421204,0.2872471511363983,0.3152045011520386,0.24322831630706787,0.2553080916404724,0.2891438603401184,0.24941183626651764,0.2922820746898651,0.2040095180273056,0.3179175555706024,0.2305307537317276,0.27957144379615784,0.27501487731933594,0.2531340718269348,0.23818673193454742,0.3586166501045227,0.20092590153217316,0.2716943025588989,0.30804187059402466,0.27332937717437744,0.3071856200695038,0.3069491386413574,0.26066699624061584,0.23502720892429352,0.22320638597011566,0.25583747029304504,0.24434581398963928,0.33870217204093933,0.20217454433441162,0.24102431535720825,0.22055917978286743,0.2428683191537857,0.19162315130233765,0.2876605689525604,0.21513397991657257,0.2773337662220001,0.26416492462158203,0.3064480125904083,0.2234417051076889,0.3062710165977478,0.2433760017156601,0.3128998279571533,0.22152233123779297,0.25256356596946716,0.31690385937690735,0.19755993783473969,0.3518381416797638,0.3546910285949707,0.36052215099334717,0.32445868849754333,0.24135428667068481,0.24488836526870728,0.19072867929935455,0.30368271470069885,0.2356427162885666,0.41243717074394226,0.25774461030960083,0.223148912191391,0.27482643723487854,0.2158767431974411,0.23495875298976898,0.2840682566165924,0.2589317560195923,0.2705381512641907,0.3144366145133972,0.3144366145133972,0.3144366145133972,0.2615191340446472,0.30291587114334106,0.25931525230407715,0.3490147292613983,0.20029902458190918,0.2490084022283554,0.16422733664512634,0.18280363082885742,0.2863073945045471,0.2511351704597473,0.2610028386116028,0.28306370973587036,0.2193211317062378,0.28306370973587036,0.21868287026882172,0.16183900833129883,0.1951412707567215,0.3533625900745392,0.29870566725730896,0.21868287026882172,0.24941183626651764,0.19654852151870728,0.28048139810562134,0.2968292236328125,0.24411755800247192,0.2332076132297516,0.18260785937309265,0.1605735570192337,0.23541688919067383,0.1813073605298996,0.28683120012283325,0.24149999022483826,0.34430211782455444,0.30154383182525635,0.34103456139564514,0.19944702088832855,0.3586166501045227,0.29750871658325195,0.25360289216041565,0.2032279223203659,0.28898417949676514,0.3707212209701538,0.2192869782447815],\"type\":\"histogram\"}],                        {\"template\":{\"data\":{\"histogram2dcontour\":[{\"type\":\"histogram2dcontour\",\"colorbar\":{\"outlinewidth\":0,\"ticks\":\"\"},\"colorscale\":[[0.0,\"#0d0887\"],[0.1111111111111111,\"#46039f\"],[0.2222222222222222,\"#7201a8\"],[0.3333333333333333,\"#9c179e\"],[0.4444444444444444,\"#bd3786\"],[0.5555555555555556,\"#d8576b\"],[0.6666666666666666,\"#ed7953\"],[0.7777777777777778,\"#fb9f3a\"],[0.8888888888888888,\"#fdca26\"],[1.0,\"#f0f921\"]]}],\"choropleth\":[{\"type\":\"choropleth\",\"colorbar\":{\"outlinewidth\":0,\"ticks\":\"\"}}],\"histogram2d\":[{\"type\":\"histogram2d\",\"colorbar\":{\"outlinewidth\":0,\"ticks\":\"\"},\"colorscale\":[[0.0,\"#0d0887\"],[0.1111111111111111,\"#46039f\"],[0.2222222222222222,\"#7201a8\"],[0.3333333333333333,\"#9c179e\"],[0.4444444444444444,\"#bd3786\"],[0.5555555555555556,\"#d8576b\"],[0.6666666666666666,\"#ed7953\"],[0.7777777777777778,\"#fb9f3a\"],[0.8888888888888888,\"#fdca26\"],[1.0,\"#f0f921\"]]}],\"heatmap\":[{\"type\":\"heatmap\",\"colorbar\":{\"outlinewidth\":0,\"ticks\":\"\"},\"colorscale\":[[0.0,\"#0d0887\"],[0.1111111111111111,\"#46039f\"],[0.2222222222222222,\"#7201a8\"],[0.3333333333333333,\"#9c179e\"],[0.4444444444444444,\"#bd3786\"],[0.5555555555555556,\"#d8576b\"],[0.6666666666666666,\"#ed7953\"],[0.7777777777777778,\"#fb9f3a\"],[0.8888888888888888,\"#fdca26\"],[1.0,\"#f0f921\"]]}],\"heatmapgl\":[{\"type\":\"heatmapgl\",\"colorbar\":{\"outlinewidth\":0,\"ticks\":\"\"},\"colorscale\":[[0.0,\"#0d0887\"],[0.1111111111111111,\"#46039f\"],[0.2222222222222222,\"#7201a8\"],[0.3333333333333333,\"#9c179e\"],[0.4444444444444444,\"#bd3786\"],[0.5555555555555556,\"#d8576b\"],[0.6666666666666666,\"#ed7953\"],[0.7777777777777778,\"#fb9f3a\"],[0.8888888888888888,\"#fdca26\"],[1.0,\"#f0f921\"]]}],\"contourcarpet\":[{\"type\":\"contourcarpet\",\"colorbar\":{\"outlinewidth\":0,\"ticks\":\"\"}}],\"contour\":[{\"type\":\"contour\",\"colorbar\":{\"outlinewidth\":0,\"ticks\":\"\"},\"colorscale\":[[0.0,\"#0d0887\"],[0.1111111111111111,\"#46039f\"],[0.2222222222222222,\"#7201a8\"],[0.3333333333333333,\"#9c179e\"],[0.4444444444444444,\"#bd3786\"],[0.5555555555555556,\"#d8576b\"],[0.6666666666666666,\"#ed7953\"],[0.7777777777777778,\"#fb9f3a\"],[0.8888888888888888,\"#fdca26\"],[1.0,\"#f0f921\"]]}],\"surface\":[{\"type\":\"surface\",\"colorbar\":{\"outlinewidth\":0,\"ticks\":\"\"},\"colorscale\":[[0.0,\"#0d0887\"],[0.1111111111111111,\"#46039f\"],[0.2222222222222222,\"#7201a8\"],[0.3333333333333333,\"#9c179e\"],[0.4444444444444444,\"#bd3786\"],[0.5555555555555556,\"#d8576b\"],[0.6666666666666666,\"#ed7953\"],[0.7777777777777778,\"#fb9f3a\"],[0.8888888888888888,\"#fdca26\"],[1.0,\"#f0f921\"]]}],\"mesh3d\":[{\"type\":\"mesh3d\",\"colorbar\":{\"outlinewidth\":0,\"ticks\":\"\"}}],\"scatter\":[{\"fillpattern\":{\"fillmode\":\"overlay\",\"size\":10,\"solidity\":0.2},\"type\":\"scatter\"}],\"parcoords\":[{\"type\":\"parcoords\",\"line\":{\"colorbar\":{\"outlinewidth\":0,\"ticks\":\"\"}}}],\"scatterpolargl\":[{\"type\":\"scatterpolargl\",\"marker\":{\"colorbar\":{\"outlinewidth\":0,\"ticks\":\"\"}}}],\"bar\":[{\"error_x\":{\"color\":\"#2a3f5f\"},\"error_y\":{\"color\":\"#2a3f5f\"},\"marker\":{\"line\":{\"color\":\"#E5ECF6\",\"width\":0.5},\"pattern\":{\"fillmode\":\"overlay\",\"size\":10,\"solidity\":0.2}},\"type\":\"bar\"}],\"scattergeo\":[{\"type\":\"scattergeo\",\"marker\":{\"colorbar\":{\"outlinewidth\":0,\"ticks\":\"\"}}}],\"scatterpolar\":[{\"type\":\"scatterpolar\",\"marker\":{\"colorbar\":{\"outlinewidth\":0,\"ticks\":\"\"}}}],\"histogram\":[{\"marker\":{\"pattern\":{\"fillmode\":\"overlay\",\"size\":10,\"solidity\":0.2}},\"type\":\"histogram\"}],\"scattergl\":[{\"type\":\"scattergl\",\"marker\":{\"colorbar\":{\"outlinewidth\":0,\"ticks\":\"\"}}}],\"scatter3d\":[{\"type\":\"scatter3d\",\"line\":{\"colorbar\":{\"outlinewidth\":0,\"ticks\":\"\"}},\"marker\":{\"colorbar\":{\"outlinewidth\":0,\"ticks\":\"\"}}}],\"scattermapbox\":[{\"type\":\"scattermapbox\",\"marker\":{\"colorbar\":{\"outlinewidth\":0,\"ticks\":\"\"}}}],\"scatterternary\":[{\"type\":\"scatterternary\",\"marker\":{\"colorbar\":{\"outlinewidth\":0,\"ticks\":\"\"}}}],\"scattercarpet\":[{\"type\":\"scattercarpet\",\"marker\":{\"colorbar\":{\"outlinewidth\":0,\"ticks\":\"\"}}}],\"carpet\":[{\"aaxis\":{\"endlinecolor\":\"#2a3f5f\",\"gridcolor\":\"white\",\"linecolor\":\"white\",\"minorgridcolor\":\"white\",\"startlinecolor\":\"#2a3f5f\"},\"baxis\":{\"endlinecolor\":\"#2a3f5f\",\"gridcolor\":\"white\",\"linecolor\":\"white\",\"minorgridcolor\":\"white\",\"startlinecolor\":\"#2a3f5f\"},\"type\":\"carpet\"}],\"table\":[{\"cells\":{\"fill\":{\"color\":\"#EBF0F8\"},\"line\":{\"color\":\"white\"}},\"header\":{\"fill\":{\"color\":\"#C8D4E3\"},\"line\":{\"color\":\"white\"}},\"type\":\"table\"}],\"barpolar\":[{\"marker\":{\"line\":{\"color\":\"#E5ECF6\",\"width\":0.5},\"pattern\":{\"fillmode\":\"overlay\",\"size\":10,\"solidity\":0.2}},\"type\":\"barpolar\"}],\"pie\":[{\"automargin\":true,\"type\":\"pie\"}]},\"layout\":{\"autotypenumbers\":\"strict\",\"colorway\":[\"#636efa\",\"#EF553B\",\"#00cc96\",\"#ab63fa\",\"#FFA15A\",\"#19d3f3\",\"#FF6692\",\"#B6E880\",\"#FF97FF\",\"#FECB52\"],\"font\":{\"color\":\"#2a3f5f\"},\"hovermode\":\"closest\",\"hoverlabel\":{\"align\":\"left\"},\"paper_bgcolor\":\"white\",\"plot_bgcolor\":\"#E5ECF6\",\"polar\":{\"bgcolor\":\"#E5ECF6\",\"angularaxis\":{\"gridcolor\":\"white\",\"linecolor\":\"white\",\"ticks\":\"\"},\"radialaxis\":{\"gridcolor\":\"white\",\"linecolor\":\"white\",\"ticks\":\"\"}},\"ternary\":{\"bgcolor\":\"#E5ECF6\",\"aaxis\":{\"gridcolor\":\"white\",\"linecolor\":\"white\",\"ticks\":\"\"},\"baxis\":{\"gridcolor\":\"white\",\"linecolor\":\"white\",\"ticks\":\"\"},\"caxis\":{\"gridcolor\":\"white\",\"linecolor\":\"white\",\"ticks\":\"\"}},\"coloraxis\":{\"colorbar\":{\"outlinewidth\":0,\"ticks\":\"\"}},\"colorscale\":{\"sequential\":[[0.0,\"#0d0887\"],[0.1111111111111111,\"#46039f\"],[0.2222222222222222,\"#7201a8\"],[0.3333333333333333,\"#9c179e\"],[0.4444444444444444,\"#bd3786\"],[0.5555555555555556,\"#d8576b\"],[0.6666666666666666,\"#ed7953\"],[0.7777777777777778,\"#fb9f3a\"],[0.8888888888888888,\"#fdca26\"],[1.0,\"#f0f921\"]],\"sequentialminus\":[[0.0,\"#0d0887\"],[0.1111111111111111,\"#46039f\"],[0.2222222222222222,\"#7201a8\"],[0.3333333333333333,\"#9c179e\"],[0.4444444444444444,\"#bd3786\"],[0.5555555555555556,\"#d8576b\"],[0.6666666666666666,\"#ed7953\"],[0.7777777777777778,\"#fb9f3a\"],[0.8888888888888888,\"#fdca26\"],[1.0,\"#f0f921\"]],\"diverging\":[[0,\"#8e0152\"],[0.1,\"#c51b7d\"],[0.2,\"#de77ae\"],[0.3,\"#f1b6da\"],[0.4,\"#fde0ef\"],[0.5,\"#f7f7f7\"],[0.6,\"#e6f5d0\"],[0.7,\"#b8e186\"],[0.8,\"#7fbc41\"],[0.9,\"#4d9221\"],[1,\"#276419\"]]},\"xaxis\":{\"gridcolor\":\"white\",\"linecolor\":\"white\",\"ticks\":\"\",\"title\":{\"standoff\":15},\"zerolinecolor\":\"white\",\"automargin\":true,\"zerolinewidth\":2},\"yaxis\":{\"gridcolor\":\"white\",\"linecolor\":\"white\",\"ticks\":\"\",\"title\":{\"standoff\":15},\"zerolinecolor\":\"white\",\"automargin\":true,\"zerolinewidth\":2},\"scene\":{\"xaxis\":{\"backgroundcolor\":\"#E5ECF6\",\"gridcolor\":\"white\",\"linecolor\":\"white\",\"showbackground\":true,\"ticks\":\"\",\"zerolinecolor\":\"white\",\"gridwidth\":2},\"yaxis\":{\"backgroundcolor\":\"#E5ECF6\",\"gridcolor\":\"white\",\"linecolor\":\"white\",\"showbackground\":true,\"ticks\":\"\",\"zerolinecolor\":\"white\",\"gridwidth\":2},\"zaxis\":{\"backgroundcolor\":\"#E5ECF6\",\"gridcolor\":\"white\",\"linecolor\":\"white\",\"showbackground\":true,\"ticks\":\"\",\"zerolinecolor\":\"white\",\"gridwidth\":2}},\"shapedefaults\":{\"line\":{\"color\":\"#2a3f5f\"}},\"annotationdefaults\":{\"arrowcolor\":\"#2a3f5f\",\"arrowhead\":0,\"arrowwidth\":1},\"geo\":{\"bgcolor\":\"white\",\"landcolor\":\"#E5ECF6\",\"subunitcolor\":\"white\",\"showland\":true,\"showlakes\":true,\"lakecolor\":\"white\"},\"title\":{\"x\":0.05},\"mapbox\":{\"style\":\"light\"}}},\"title\":{\"text\":\"Distribution of Nuclear Norm of Node Explain Matrix\"},\"xaxis\":{\"title\":{\"text\":\"Nuclear Norm\"}},\"yaxis\":{\"title\":{\"text\":\"Frequency\"}},\"font\":{\"size\":20},\"paper_bgcolor\":\"white\",\"plot_bgcolor\":\"white\"},                        {\"responsive\": true}                    ).then(function(){\n",
       "                            \n",
       "var gd = document.getElementById('6e0e3790-3e45-45d2-bd22-ecc5163d2ba9');\n",
       "var x = new MutationObserver(function (mutations, observer) {{\n",
       "        var display = window.getComputedStyle(gd).display;\n",
       "        if (!display || display === 'none') {{\n",
       "            console.log([gd, 'removed!']);\n",
       "            Plotly.purge(gd);\n",
       "            observer.disconnect();\n",
       "        }}\n",
       "}});\n",
       "\n",
       "// Listen for the removal of the full notebook cells\n",
       "var notebookContainer = gd.closest('#notebook-container');\n",
       "if (notebookContainer) {{\n",
       "    x.observe(notebookContainer, {childList: true});\n",
       "}}\n",
       "\n",
       "// Listen for the clearing of the current output cell\n",
       "var outputEl = gd.closest('.output');\n",
       "if (outputEl) {{\n",
       "    x.observe(outputEl, {childList: true});\n",
       "}}\n",
       "\n",
       "                        })                };                });            </script>        </div>"
      ]
     },
     "metadata": {},
     "output_type": "display_data"
    }
   ],
   "source": [
    "fig = go.Figure()\n",
    "\n",
    "fig.add_trace(go.Histogram(x = norm_og, \n",
    "                           name = 'GMI'))\n",
    "fig.add_trace(go.Histogram(x = norm_plus, \n",
    "                           name = 'GMI+XM'))\n",
    "\n",
    "\n",
    "fig.update_layout(title_text = 'Distribution of Nuclear Norm of Node Explain Matrix', \n",
    "                  xaxis_title_text = 'Nuclear Norm', \n",
    "                  yaxis_title_text = 'Frequency', \n",
    "                  paper_bgcolor = 'white', \n",
    "                  plot_bgcolor = 'white', \n",
    "                  font = dict(size = 20))\n",
    "fig.show()"
   ]
  },
  {
   "cell_type": "code",
   "execution_count": null,
   "id": "15fe22ee",
   "metadata": {},
   "outputs": [],
   "source": []
  }
 ],
 "metadata": {
  "kernelspec": {
   "display_name": "Python 3 (ipykernel)",
   "language": "python",
   "name": "python3"
  },
  "language_info": {
   "codemirror_mode": {
    "name": "ipython",
    "version": 3
   },
   "file_extension": ".py",
   "mimetype": "text/x-python",
   "name": "python",
   "nbconvert_exporter": "python",
   "pygments_lexer": "ipython3",
   "version": "3.10.8"
  },
  "toc": {
   "base_numbering": 1,
   "nav_menu": {},
   "number_sections": true,
   "sideBar": true,
   "skip_h1_title": false,
   "title_cell": "Table of Contents",
   "title_sidebar": "Contents",
   "toc_cell": false,
   "toc_position": {},
   "toc_section_display": true,
   "toc_window_display": false
  }
 },
 "nbformat": 4,
 "nbformat_minor": 5
}
