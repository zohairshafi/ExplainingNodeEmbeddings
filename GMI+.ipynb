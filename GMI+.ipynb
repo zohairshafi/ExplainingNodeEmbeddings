{
 "cells": [
  {
   "cell_type": "markdown",
   "id": "d72f27a9",
   "metadata": {},
   "source": [
    "### Imports"
   ]
  },
  {
   "cell_type": "code",
   "execution_count": 3,
   "id": "46301356",
   "metadata": {},
   "outputs": [],
   "source": [
    "import numpy as np\n",
    "import scipy.sparse as sp\n",
    "import torch\n",
    "import torch.nn as nn\n",
    "import pickle as pkl\n",
    "import networkx as nx\n",
    "\n",
    "from tqdm import tqdm\n",
    "\n",
    "from tensorflow.keras.optimizers import Adam, Nadam\n",
    "from scripts.utils import *\n",
    "\n",
    "from GMI_.models import GMI, LogReg\n",
    "from GMI_.utils import process\n"
   ]
  },
  {
   "cell_type": "markdown",
   "id": "c1c32f3f",
   "metadata": {},
   "source": [
    "### Class Definitions"
   ]
  },
  {
   "cell_type": "code",
   "execution_count": 4,
   "id": "1114e0af",
   "metadata": {},
   "outputs": [],
   "source": [
    "class BaseEmbedder:\n",
    "    def __init__(self, graph, embed_shape = (128,)):\n",
    "        self.embed(graph)\n",
    "        self.E = list(graph.edges())\n",
    "        self.graph = graph\n",
    "        self.embed_shape = embed_shape\n",
    "    \n",
    "    def embed(self, graph):\n",
    "        raise NotImplementedError\n",
    "    \n",
    "    def get_embedding(self):\n",
    "        raise NotImplementedError\n",
    "        "
   ]
  },
  {
   "cell_type": "code",
   "execution_count": 54,
   "id": "1c7379ff",
   "metadata": {},
   "outputs": [],
   "source": [
    "class GMIEmbedding(BaseEmbedder):\n",
    "    def __init__(self, embed_dim = 64, graph = None, feature_matrix = None, use_xm = False, debug = False, batch_size = 1, nb_epochs = 500, patience = 20, ortho_ = 0.1, sparse_ = 0.1, lr = 1e-3, l2_coef = 0.0, drop_prob = 0.0, sparse = True, nonlinearity = 'prelu', alpha = 0.8, beta = 1.0, gamma = 1.0, negative_num = 5, epoch_flag = 20, model_name = 'test'):\n",
    "\n",
    "        self.embed_dim = embed_dim\n",
    "        self.debug = debug\n",
    "        \n",
    "        # Training Params\n",
    "        self.graph = graph\n",
    "        self.batch_size = batch_size\n",
    "        self.nb_epochs = nb_epochs\n",
    "        self.patience = patience\n",
    "        self.lr = lr\n",
    "        self.l2_coef = l2_coef\n",
    "        self.feature_matrix = feature_matrix\n",
    "        self.drop_prob = drop_prob\n",
    "        self.hid_units = embed_dim\n",
    "        self.sparse = sparse\n",
    "        self.nonlinearity = nonlinearity\n",
    "        self.use_xm = use_xm\n",
    "        self.ortho_ = ortho_\n",
    "        self.sparse_ = sparse_\n",
    "        self.alpha = alpha\n",
    "        self.beta = beta\n",
    "        self.gamma = gamma\n",
    "        self.negative_num = negative_num\n",
    "        self.epoch_flag = epoch_flag\n",
    "        self.model_name = model_name\n",
    "        \n",
    "        self.time_per_epoch = None\n",
    "        \n",
    "        if graph is not None:\n",
    "            self.embed()\n",
    "        else:\n",
    "            self.graph = None\n",
    "    \n",
    "    def embed(self):\n",
    "\n",
    "        ####\n",
    "        if self.feature_matrix is None:\n",
    "            feature_matrix = np.identity(len(self.graph))\n",
    "        else: \n",
    "            feature_matrix = self.feature_matrix\n",
    "\n",
    "        adj_ori = nx.to_scipy_sparse_array(graph)\n",
    "        features = sp.lil_matrix(feature_matrix)\n",
    "        features, _ = process.preprocess_features(features)\n",
    "\n",
    "        nb_nodes = features.shape[0]\n",
    "        ft_size = features.shape[1]\n",
    "        \n",
    "        adj = process.normalize_adj(adj_ori + sp.eye(adj_ori.shape[0]))\n",
    "\n",
    "        if self.sparse:\n",
    "            sp_adj = process.sparse_mx_to_torch_sparse_tensor(adj)\n",
    "        else:\n",
    "            adj = (adj + sp.eye(adj.shape[0])).todense()\n",
    "\n",
    "        features = torch.FloatTensor(features[np.newaxis])\n",
    "        if not self.sparse:\n",
    "            adj = torch.FloatTensor(adj[np.newaxis])\n",
    "\n",
    "        if self.feature_matrix is not None: \n",
    "            sense_features = torch.FloatTensor(self.feature_matrix)\n",
    "\n",
    "        model = GMI(ft_size, self.hid_units, self.nonlinearity)\n",
    "        optimiser = torch.optim.Adam(model.parameters(), lr = self.lr, weight_decay = self.l2_coef)\n",
    "        \n",
    "#         if self.use_xm:\n",
    "#              model.load_state_dict(torch.load(self.model_name + '.pkl'))\n",
    "        \n",
    "        if torch.cuda.is_available():\n",
    "            model.cuda()\n",
    "            features = features.cuda()\n",
    "            sp_adj = sp_adj.cuda()\n",
    "            \n",
    "        b_xent = nn.BCEWithLogitsLoss()\n",
    "        xent = nn.CrossEntropyLoss()\n",
    "        cnt_wait = 0\n",
    "        best = 1e9\n",
    "        best_t = 0\n",
    "        \n",
    "        \n",
    "        adj_dense = adj_ori.toarray()\n",
    "        adj_target = adj_dense + np.eye(adj_dense.shape[0])\n",
    "        adj_row_avg = 1.0 / np.sum(adj_dense, axis = 1)\n",
    "        adj_row_avg[np.isnan(adj_row_avg)] = 0.0\n",
    "        adj_row_avg[np.isinf(adj_row_avg)] = 0.0\n",
    "        adj_dense = adj_dense * 1.0\n",
    "        \n",
    "        for i in range(adj_ori.shape[0]):\n",
    "            adj_dense[i] = adj_dense[i] * adj_row_avg[i]\n",
    "        adj_ori = sp.csr_matrix(adj_dense, dtype = np.float32)\n",
    "        \n",
    "        start_time = time.time()\n",
    "        for epoch in tqdm(range(self.nb_epochs)):\n",
    "            model.train()\n",
    "            optimiser.zero_grad()\n",
    "            \n",
    "            res = model(features, adj_ori, self.negative_num, sp_adj, None, None) \n",
    "            \n",
    "            if self.use_xm == True and feature_matrix is not None:\n",
    "                \n",
    "                start_idx = 0\n",
    "                loop = True\n",
    "                \n",
    "                ortho_loss = 0\n",
    "                sparse_loss = 0\n",
    "                xm_batch_size = 128\n",
    "                \n",
    "                sf = sense_features\n",
    "                embeds = model.embed(features, sp_adj)\n",
    "                                \n",
    "                while loop:\n",
    "                    end_idx = start_idx + xm_batch_size\n",
    "                    if end_idx > len(self.graph):\n",
    "                        loop = False\n",
    "                        end_idx = len(self.graph)\n",
    "                                            \n",
    "                    sf = sense_features[start_idx : end_idx]\n",
    "                    embeds_ = torch.squeeze(embeds)[start_idx : end_idx]\n",
    "                    \n",
    "                    \n",
    "                    sense_mat = torch.einsum('ij, ik -> ijk', embeds_, sf)\n",
    "                    E = sense_mat\n",
    "                    y_norm = torch.diagonal(torch.matmul(embeds_, torch.transpose(embeds_, 0, 1)))\n",
    "                    sense_norm = torch.diagonal(torch.matmul(sf, torch.transpose(sf, 0, 1)))\n",
    "                    norm = torch.multiply(y_norm, sense_norm)\n",
    "                    E = torch.transpose(torch.transpose(E, 0, 2) / norm, 0, 2)\n",
    "                    E = (E - torch.amin(E, dim = [-1, -2], keepdim = True)) / (torch.amax(E, dim = [-1, -2], keepdim = True) - torch.amin(E, dim = [-1, -2], keepdim = True))\n",
    "                    \n",
    "                    E_t = torch.transpose(E, 1, 2)\n",
    "                    \n",
    "                    E_o = torch.einsum('aij, ajh -> aih', E, E_t)\n",
    "                    E_o = torch.sum(E_o)\n",
    "                    batch_ortho_loss = (self.ortho_ * E_o) / self.batch_size\n",
    "\n",
    "                    batch_sparse_loss = (self.sparse_ * torch.sum(torch.linalg.norm(E, ord = 1, axis = 0))) / self.batch_size\n",
    "                        \n",
    "                    ortho_loss += batch_ortho_loss\n",
    "                    sparse_loss += batch_sparse_loss\n",
    "                    \n",
    "                    start_idx = end_idx\n",
    "                    \n",
    "                loss = self.alpha * process.mi_loss_jsd(res[0], res[1]) +\\\n",
    "                       self.beta * process.mi_loss_jsd(res[2], res[3]) +\\\n",
    "                       self.gamma * process.reconstruct_loss(res[4], adj_target) +\\\n",
    "                       ortho_loss +\\\n",
    "                       sparse_loss\n",
    "            else:\n",
    "                loss = self.alpha * process.mi_loss_jsd(res[0], res[1]) +\\\n",
    "                       self.beta * process.mi_loss_jsd(res[2], res[3]) +\\\n",
    "                       self.gamma * process.reconstruct_loss(res[4], adj_target)\n",
    "\n",
    "\n",
    "            if self.debug:\n",
    "                print('Loss:', loss)\n",
    "\n",
    "            if loss < best:\n",
    "                best = loss\n",
    "                best_t = epoch\n",
    "                cnt_wait = 0\n",
    "                torch.save(model.state_dict(), self.model_name + '.pkl')\n",
    "            else:\n",
    "                cnt_wait += 1\n",
    "\n",
    "            if cnt_wait == self.epoch_flag:\n",
    "                print('Early stopping!')\n",
    "                break\n",
    "\n",
    "            loss.backward()\n",
    "            optimiser.step()\n",
    "            \n",
    "        self.time_per_epoch = (time.time() - start_time) / epoch\n",
    "\n",
    "        if self.debug: \n",
    "            print('Loading {}th epoch'.format(best_t))\n",
    "            \n",
    "        model.load_state_dict(torch.load(self.model_name + '.pkl'))\n",
    "\n",
    "        embeds = model.embed(features, sp_adj)\n",
    "        self.embeddings = embeds\n",
    "    \n",
    "    def get_embedding(self):\n",
    "        return np.squeeze(self.embeddings.numpy())\n",
    "    "
   ]
  },
  {
   "cell_type": "code",
   "execution_count": 61,
   "id": "78d02a5a",
   "metadata": {},
   "outputs": [
    {
     "name": "stdout",
     "output_type": "stream",
     "text": [
      "Calculating Personalized Page Rank...                     \r"
     ]
    },
    {
     "name": "stderr",
     "output_type": "stream",
     "text": [
      "1186it [00:23, 50.57it/s]\n"
     ]
    },
    {
     "name": "stdout",
     "output_type": "stream",
     "text": [
      "Done                                                      \r"
     ]
    },
    {
     "name": "stderr",
     "output_type": "stream",
     "text": [
      "/Users/zohairshafi/miniforge3/lib/python3.10/site-packages/networkx/algorithms/centrality/katz.py:325: FutureWarning:\n",
      "\n",
      "adjacency_matrix will return a scipy.sparse array instead of a matrix in Networkx 3.0.\n",
      "\n"
     ]
    }
   ],
   "source": [
    "with open('./data/usa_airport.pkl', 'rb') as file: \n",
    "    graph_dict = pkl.load(file)\n",
    "    \n",
    "graph = nx.Graph(nx.to_numpy_array(graph_dict['graph']))    \n",
    "graph = nx.Graph(nx.to_numpy_array(graph))\n",
    "\n",
    "\n",
    "sense_feat_dict, sense_features = get_sense_features(graph, ppr_flag = 'std')\n"
   ]
  },
  {
   "cell_type": "code",
   "execution_count": 62,
   "id": "adf6b460",
   "metadata": {},
   "outputs": [],
   "source": [
    "uncorrelated_feats = ['Degree',\n",
    "                    'Clustering Coefficient',\n",
    "                    'Personalized Page Rank - Standard Deviation',\n",
    "                    'Average Neighbor Degree',\n",
    "                    'Average Neighbor Clustering',\n",
    "                    'Eccentricity',\n",
    "                    'Katz Centrality']\n",
    "sense_features = sense_features[:, [list(sense_feat_dict).index(feat) for feat in uncorrelated_feats]]\n",
    "sense_feat_dict = {feat : idx for idx, feat in enumerate(uncorrelated_feats)}"
   ]
  },
  {
   "cell_type": "code",
   "execution_count": 63,
   "id": "e44dc280",
   "metadata": {
    "scrolled": true
   },
   "outputs": [
    {
     "name": "stderr",
     "output_type": "stream",
     "text": [
      "100%|█████████████████████████████████████████| 500/500 [00:48<00:00, 10.22it/s]\n",
      "100%|█████████████████████████████████████████| 500/500 [01:22<00:00,  6.04it/s]\n"
     ]
    }
   ],
   "source": [
    "gmi_og = GMIEmbedding(graph = graph, \n",
    "           embed_dim = 128, \n",
    "           feature_matrix = sense_features, \n",
    "           use_xm = False, \n",
    "           ortho_ = 0, \n",
    "           sparse_ = 0, \n",
    "           batch_size = 1)\n",
    "embed_og = gmi_og.get_embedding()\n",
    "embed_og = (embed_og - np.min(embed_og)) / np.ptp(embed_og)\n",
    "feature_dict_og = find_feature_membership(input_embed = embed_og,\n",
    "                                                    embed_name = 'GMI-SF',\n",
    "                                                    sense_features = sense_features,\n",
    "                                                    sense_feat_dict = sense_feat_dict,\n",
    "                                                    top_k = 8,\n",
    "                                                    solver = 'nmf')\n",
    "\n",
    "explain_og = feature_dict_og['explain_norm']\n",
    "error_og = sense_features * np.log((sense_features + 1e-10) / ((embed_og @ feature_dict_og['explain_norm']) + 1e-10)) - sense_features + (embed_og @ feature_dict_og['explain_norm'])\n",
    "explain_og = (explain_og - np.min(explain_og)) / np.ptp(explain_og)\n",
    "\n",
    "\n",
    "gmi_plus = GMIEmbedding(graph = graph, \n",
    "           embed_dim = 128, \n",
    "           feature_matrix = sense_features, \n",
    "           use_xm = True, \n",
    "           alpha = 0.04, \n",
    "           beta = 0.5, \n",
    "           gamma = 0.5,\n",
    "           ortho_ = 1e-2, \n",
    "           sparse_ = 1e-1, \n",
    "           batch_size = 1, \n",
    "           epoch_flag = 500)\n",
    "embed_plus = gmi_plus.get_embedding()\n",
    "embed_plus = (embed_plus - np.min(embed_plus)) / np.ptp(embed_plus)\n",
    "feature_dict_plus = find_feature_membership(input_embed = embed_plus,\n",
    "                                                    embed_name = 'GMI+XM',\n",
    "                                                    sense_features = sense_features,\n",
    "                                                    sense_feat_dict = sense_feat_dict,\n",
    "                                                    top_k = 8,\n",
    "                                                    solver = 'nmf')\n",
    "\n",
    "explain_plus = feature_dict_plus['explain_norm']\n",
    "error_plus = sense_features * np.log((sense_features + 1e-10) / ((embed_plus @ feature_dict_plus['explain_norm']) + 1e-10)) - sense_features + (embed_plus @ feature_dict_plus['explain_norm'])\n",
    "explain_plus = (explain_plus - np.min(explain_plus)) / np.ptp(explain_plus)"
   ]
  },
  {
   "cell_type": "code",
   "execution_count": 64,
   "id": "a1462e6b",
   "metadata": {},
   "outputs": [
    {
     "data": {
      "application/vnd.plotly.v1+json": {
       "config": {
        "plotlyServerURL": "https://plot.ly"
       },
       "data": [
        {
         "type": "heatmap",
         "x": [
          "Degree",
          "Clustering Coefficient",
          "Personalized Page Rank - Standard Deviation",
          "Average Neighbor Degree",
          "Average Neighbor Clustering",
          "Eccentricity",
          "Katz Centrality"
         ],
         "z": [
          [
           0,
           0,
           0,
           0,
           0,
           0,
           0
          ],
          [
           0,
           0,
           0,
           0,
           0,
           0,
           0
          ],
          [
           0,
           0,
           0,
           0,
           0,
           0,
           0.1971108317375183
          ],
          [
           0,
           0,
           0,
           0,
           0,
           0,
           0
          ],
          [
           0,
           0,
           0,
           0,
           0,
           0,
           0
          ],
          [
           0,
           0,
           0,
           0,
           0,
           0,
           0
          ],
          [
           0,
           0,
           0,
           0,
           0,
           0,
           0
          ],
          [
           0,
           0,
           0,
           0,
           0,
           0,
           0
          ],
          [
           0,
           0,
           0,
           0,
           0,
           0,
           0
          ],
          [
           0,
           0,
           0,
           0,
           0,
           0,
           0
          ],
          [
           0,
           0,
           0,
           0,
           0,
           0,
           0
          ],
          [
           0,
           0,
           0,
           0,
           0,
           0,
           0.09961505234241486
          ],
          [
           0,
           0,
           0,
           0,
           0,
           0,
           0
          ],
          [
           0,
           0,
           0,
           0,
           0,
           0,
           0
          ],
          [
           0,
           0,
           0,
           0,
           0,
           0,
           0
          ],
          [
           0,
           0,
           0,
           0,
           0,
           0,
           0
          ],
          [
           0,
           0,
           0,
           0,
           0,
           0,
           0
          ],
          [
           0,
           0,
           0,
           0,
           0,
           0,
           0
          ],
          [
           0,
           0,
           0,
           0,
           0,
           0,
           0
          ],
          [
           0,
           0,
           0,
           0,
           0,
           0,
           0
          ],
          [
           0,
           0,
           0.6945803761482239,
           0,
           0,
           0,
           0.35961732268333435
          ],
          [
           0,
           0,
           0,
           0,
           0,
           0,
           0
          ],
          [
           0,
           0,
           0,
           0,
           0,
           0,
           0
          ],
          [
           0,
           0,
           0,
           0,
           0,
           0,
           0
          ],
          [
           0,
           0,
           0,
           0,
           0,
           0,
           0
          ],
          [
           0,
           0,
           0,
           0,
           0,
           0,
           0
          ],
          [
           0,
           0,
           0,
           0,
           0,
           0,
           0
          ],
          [
           0,
           0,
           0,
           0,
           0,
           0,
           0
          ],
          [
           0,
           0,
           0,
           0,
           0,
           0,
           0
          ],
          [
           0,
           0,
           0,
           0,
           0,
           0,
           0
          ],
          [
           0,
           0,
           0,
           0,
           0,
           0,
           0
          ],
          [
           0,
           0,
           0,
           0,
           0,
           0,
           0
          ],
          [
           0,
           0,
           0,
           0,
           0,
           0,
           0
          ],
          [
           0,
           0,
           0,
           0,
           0.18280170857906342,
           0,
           0
          ],
          [
           0,
           0,
           0,
           0,
           0,
           0,
           0
          ],
          [
           0,
           0,
           0,
           0,
           0,
           0,
           0
          ],
          [
           0,
           0,
           0,
           0,
           0,
           0,
           0
          ],
          [
           0,
           0,
           0,
           0,
           0,
           0,
           0
          ],
          [
           0,
           0,
           0,
           0,
           0,
           0,
           0
          ],
          [
           0,
           0,
           0,
           0,
           0,
           0,
           0
          ],
          [
           0,
           0,
           0,
           0,
           0,
           0,
           0
          ],
          [
           0,
           0,
           0,
           0,
           0,
           0,
           0
          ],
          [
           0,
           0,
           0,
           0,
           0,
           0,
           0
          ],
          [
           0,
           0,
           0,
           0,
           0,
           0,
           0
          ],
          [
           0,
           0,
           0,
           0,
           0,
           0,
           0
          ],
          [
           0,
           0,
           0,
           0,
           0,
           0,
           0
          ],
          [
           0,
           0,
           0,
           0,
           0,
           0,
           0
          ],
          [
           0,
           0,
           0,
           0,
           0,
           0,
           0
          ],
          [
           0,
           0,
           0,
           0,
           0,
           0,
           0
          ],
          [
           1,
           0,
           0,
           0,
           0.48287200927734375,
           0,
           0
          ],
          [
           0,
           0,
           0,
           0,
           0,
           0,
           0
          ],
          [
           0,
           0,
           0,
           0,
           0,
           0,
           0
          ],
          [
           0,
           0,
           0,
           0,
           0,
           0,
           0
          ],
          [
           0,
           0,
           0,
           0,
           0,
           0,
           0
          ],
          [
           0,
           0,
           0,
           0,
           0,
           0,
           0
          ],
          [
           0,
           0,
           0,
           0,
           0,
           0,
           0
          ],
          [
           0,
           0,
           0,
           0,
           0,
           0,
           0
          ],
          [
           0,
           0,
           0,
           0,
           0,
           0,
           0
          ],
          [
           0,
           0,
           0,
           0,
           0,
           0,
           0
          ],
          [
           0,
           0,
           0,
           0,
           0,
           0,
           0
          ],
          [
           0,
           0,
           0,
           0,
           0,
           0,
           0
          ],
          [
           0,
           0,
           0,
           0,
           0,
           0,
           0
          ],
          [
           0,
           0,
           0,
           0,
           0,
           0,
           0
          ],
          [
           0,
           0,
           0,
           0,
           0,
           0,
           0
          ],
          [
           0,
           0,
           0,
           0,
           0,
           0,
           0.24356655776500702
          ],
          [
           0,
           0,
           0,
           0,
           0,
           0,
           0
          ],
          [
           0,
           0,
           0,
           0,
           0,
           0,
           0
          ],
          [
           0,
           0,
           0,
           0,
           0.22445935010910034,
           0,
           0
          ],
          [
           0,
           0,
           0,
           0,
           0,
           0,
           0
          ],
          [
           0,
           0,
           0,
           0,
           0,
           0,
           0
          ],
          [
           0,
           0,
           0,
           0,
           0,
           0,
           0
          ],
          [
           0,
           0,
           0,
           0,
           0,
           0,
           0
          ],
          [
           0,
           0,
           0,
           0,
           0,
           0,
           0
          ],
          [
           0,
           0,
           0,
           0,
           0,
           0,
           0
          ],
          [
           0,
           0,
           0,
           0,
           0,
           0,
           0
          ],
          [
           0,
           0,
           0,
           0,
           0,
           0,
           0
          ],
          [
           0,
           0,
           0,
           0,
           0,
           0,
           0
          ],
          [
           0,
           0,
           0,
           0,
           0,
           0,
           0
          ],
          [
           0,
           0,
           0,
           0,
           0,
           0,
           0
          ],
          [
           0,
           0,
           0,
           0,
           0,
           0.38002273440361023,
           0
          ],
          [
           0,
           0,
           0,
           0,
           0,
           0,
           0
          ],
          [
           0,
           0,
           0,
           0,
           0,
           0,
           0
          ],
          [
           0,
           0,
           0,
           0,
           0,
           0,
           0
          ],
          [
           0,
           0,
           0,
           0,
           0,
           0,
           0
          ],
          [
           0,
           0,
           0,
           0,
           0,
           0,
           0
          ],
          [
           0,
           0,
           0,
           0,
           0,
           0,
           0
          ],
          [
           0,
           0.939809262752533,
           0,
           0,
           0,
           0,
           0
          ],
          [
           0,
           0,
           0,
           0,
           0,
           0,
           0.0009865801548585296
          ],
          [
           0,
           0,
           0,
           0,
           0,
           0,
           0
          ],
          [
           0,
           0,
           0,
           0,
           0,
           0,
           0
          ],
          [
           0,
           0,
           0,
           0.9309622645378113,
           0,
           0,
           0
          ],
          [
           0,
           0,
           0,
           0,
           0,
           0,
           0
          ],
          [
           0,
           0,
           0,
           0,
           0,
           0,
           0
          ],
          [
           0,
           0,
           0,
           0,
           0,
           0,
           0
          ],
          [
           0,
           0,
           0,
           0,
           0,
           0,
           0
          ],
          [
           0,
           0,
           0,
           0,
           0,
           0,
           0
          ],
          [
           0,
           0,
           0,
           0,
           0,
           0,
           0
          ],
          [
           0,
           0,
           0,
           0,
           0,
           0,
           0
          ],
          [
           0,
           0,
           0,
           0,
           0,
           0,
           0
          ],
          [
           0,
           0,
           0,
           0,
           0,
           0,
           0
          ],
          [
           0,
           0,
           0,
           0,
           0,
           0,
           0
          ],
          [
           0,
           0,
           0,
           0,
           0,
           0,
           0
          ],
          [
           0,
           0,
           0,
           0,
           0,
           0,
           0
          ],
          [
           0,
           0,
           0,
           0,
           0,
           0,
           0
          ],
          [
           0,
           0,
           0,
           0,
           0,
           0,
           0
          ],
          [
           0,
           0,
           0,
           0,
           0,
           0,
           0
          ],
          [
           0,
           0,
           0,
           0,
           0,
           0,
           0
          ],
          [
           0,
           0,
           0,
           0,
           0,
           0,
           0
          ],
          [
           0,
           0,
           0,
           0,
           0,
           0,
           0
          ],
          [
           0,
           0,
           0,
           0,
           0,
           0,
           0
          ],
          [
           0,
           0,
           0,
           0,
           0,
           0,
           0
          ],
          [
           0,
           0,
           0,
           0,
           0,
           0,
           0
          ],
          [
           0,
           0,
           0.27243900299072266,
           0,
           0,
           0,
           0
          ],
          [
           0,
           0,
           0,
           0,
           0,
           0,
           0
          ],
          [
           0,
           0,
           0,
           0,
           0,
           0,
           0
          ],
          [
           0,
           0,
           0,
           0,
           0,
           0,
           0
          ],
          [
           0,
           0,
           0,
           0,
           0,
           0,
           0
          ],
          [
           0,
           0,
           0,
           0,
           0,
           0,
           0
          ],
          [
           0,
           0,
           0,
           0,
           0,
           0,
           0
          ],
          [
           0,
           0,
           0,
           0,
           0,
           0,
           0
          ],
          [
           0,
           0,
           0,
           0,
           0,
           0,
           0
          ],
          [
           0,
           0,
           0,
           0,
           0,
           0.5581793785095215,
           0
          ],
          [
           0,
           0,
           0,
           0,
           0,
           0,
           0
          ],
          [
           0,
           0,
           0,
           0,
           0,
           0,
           0
          ],
          [
           0,
           0,
           0,
           0,
           0,
           0,
           0
          ],
          [
           0,
           0,
           0,
           0,
           0,
           0,
           0
          ],
          [
           0,
           0,
           0,
           0,
           0,
           0,
           0
          ],
          [
           0,
           0,
           0,
           0,
           0,
           0,
           0
          ]
         ]
        }
       ],
       "layout": {
        "template": {
         "data": {
          "bar": [
           {
            "error_x": {
             "color": "#2a3f5f"
            },
            "error_y": {
             "color": "#2a3f5f"
            },
            "marker": {
             "line": {
              "color": "#E5ECF6",
              "width": 0.5
             },
             "pattern": {
              "fillmode": "overlay",
              "size": 10,
              "solidity": 0.2
             }
            },
            "type": "bar"
           }
          ],
          "barpolar": [
           {
            "marker": {
             "line": {
              "color": "#E5ECF6",
              "width": 0.5
             },
             "pattern": {
              "fillmode": "overlay",
              "size": 10,
              "solidity": 0.2
             }
            },
            "type": "barpolar"
           }
          ],
          "carpet": [
           {
            "aaxis": {
             "endlinecolor": "#2a3f5f",
             "gridcolor": "white",
             "linecolor": "white",
             "minorgridcolor": "white",
             "startlinecolor": "#2a3f5f"
            },
            "baxis": {
             "endlinecolor": "#2a3f5f",
             "gridcolor": "white",
             "linecolor": "white",
             "minorgridcolor": "white",
             "startlinecolor": "#2a3f5f"
            },
            "type": "carpet"
           }
          ],
          "choropleth": [
           {
            "colorbar": {
             "outlinewidth": 0,
             "ticks": ""
            },
            "type": "choropleth"
           }
          ],
          "contour": [
           {
            "colorbar": {
             "outlinewidth": 0,
             "ticks": ""
            },
            "colorscale": [
             [
              0,
              "#0d0887"
             ],
             [
              0.1111111111111111,
              "#46039f"
             ],
             [
              0.2222222222222222,
              "#7201a8"
             ],
             [
              0.3333333333333333,
              "#9c179e"
             ],
             [
              0.4444444444444444,
              "#bd3786"
             ],
             [
              0.5555555555555556,
              "#d8576b"
             ],
             [
              0.6666666666666666,
              "#ed7953"
             ],
             [
              0.7777777777777778,
              "#fb9f3a"
             ],
             [
              0.8888888888888888,
              "#fdca26"
             ],
             [
              1,
              "#f0f921"
             ]
            ],
            "type": "contour"
           }
          ],
          "contourcarpet": [
           {
            "colorbar": {
             "outlinewidth": 0,
             "ticks": ""
            },
            "type": "contourcarpet"
           }
          ],
          "heatmap": [
           {
            "colorbar": {
             "outlinewidth": 0,
             "ticks": ""
            },
            "colorscale": [
             [
              0,
              "#0d0887"
             ],
             [
              0.1111111111111111,
              "#46039f"
             ],
             [
              0.2222222222222222,
              "#7201a8"
             ],
             [
              0.3333333333333333,
              "#9c179e"
             ],
             [
              0.4444444444444444,
              "#bd3786"
             ],
             [
              0.5555555555555556,
              "#d8576b"
             ],
             [
              0.6666666666666666,
              "#ed7953"
             ],
             [
              0.7777777777777778,
              "#fb9f3a"
             ],
             [
              0.8888888888888888,
              "#fdca26"
             ],
             [
              1,
              "#f0f921"
             ]
            ],
            "type": "heatmap"
           }
          ],
          "heatmapgl": [
           {
            "colorbar": {
             "outlinewidth": 0,
             "ticks": ""
            },
            "colorscale": [
             [
              0,
              "#0d0887"
             ],
             [
              0.1111111111111111,
              "#46039f"
             ],
             [
              0.2222222222222222,
              "#7201a8"
             ],
             [
              0.3333333333333333,
              "#9c179e"
             ],
             [
              0.4444444444444444,
              "#bd3786"
             ],
             [
              0.5555555555555556,
              "#d8576b"
             ],
             [
              0.6666666666666666,
              "#ed7953"
             ],
             [
              0.7777777777777778,
              "#fb9f3a"
             ],
             [
              0.8888888888888888,
              "#fdca26"
             ],
             [
              1,
              "#f0f921"
             ]
            ],
            "type": "heatmapgl"
           }
          ],
          "histogram": [
           {
            "marker": {
             "pattern": {
              "fillmode": "overlay",
              "size": 10,
              "solidity": 0.2
             }
            },
            "type": "histogram"
           }
          ],
          "histogram2d": [
           {
            "colorbar": {
             "outlinewidth": 0,
             "ticks": ""
            },
            "colorscale": [
             [
              0,
              "#0d0887"
             ],
             [
              0.1111111111111111,
              "#46039f"
             ],
             [
              0.2222222222222222,
              "#7201a8"
             ],
             [
              0.3333333333333333,
              "#9c179e"
             ],
             [
              0.4444444444444444,
              "#bd3786"
             ],
             [
              0.5555555555555556,
              "#d8576b"
             ],
             [
              0.6666666666666666,
              "#ed7953"
             ],
             [
              0.7777777777777778,
              "#fb9f3a"
             ],
             [
              0.8888888888888888,
              "#fdca26"
             ],
             [
              1,
              "#f0f921"
             ]
            ],
            "type": "histogram2d"
           }
          ],
          "histogram2dcontour": [
           {
            "colorbar": {
             "outlinewidth": 0,
             "ticks": ""
            },
            "colorscale": [
             [
              0,
              "#0d0887"
             ],
             [
              0.1111111111111111,
              "#46039f"
             ],
             [
              0.2222222222222222,
              "#7201a8"
             ],
             [
              0.3333333333333333,
              "#9c179e"
             ],
             [
              0.4444444444444444,
              "#bd3786"
             ],
             [
              0.5555555555555556,
              "#d8576b"
             ],
             [
              0.6666666666666666,
              "#ed7953"
             ],
             [
              0.7777777777777778,
              "#fb9f3a"
             ],
             [
              0.8888888888888888,
              "#fdca26"
             ],
             [
              1,
              "#f0f921"
             ]
            ],
            "type": "histogram2dcontour"
           }
          ],
          "mesh3d": [
           {
            "colorbar": {
             "outlinewidth": 0,
             "ticks": ""
            },
            "type": "mesh3d"
           }
          ],
          "parcoords": [
           {
            "line": {
             "colorbar": {
              "outlinewidth": 0,
              "ticks": ""
             }
            },
            "type": "parcoords"
           }
          ],
          "pie": [
           {
            "automargin": true,
            "type": "pie"
           }
          ],
          "scatter": [
           {
            "fillpattern": {
             "fillmode": "overlay",
             "size": 10,
             "solidity": 0.2
            },
            "type": "scatter"
           }
          ],
          "scatter3d": [
           {
            "line": {
             "colorbar": {
              "outlinewidth": 0,
              "ticks": ""
             }
            },
            "marker": {
             "colorbar": {
              "outlinewidth": 0,
              "ticks": ""
             }
            },
            "type": "scatter3d"
           }
          ],
          "scattercarpet": [
           {
            "marker": {
             "colorbar": {
              "outlinewidth": 0,
              "ticks": ""
             }
            },
            "type": "scattercarpet"
           }
          ],
          "scattergeo": [
           {
            "marker": {
             "colorbar": {
              "outlinewidth": 0,
              "ticks": ""
             }
            },
            "type": "scattergeo"
           }
          ],
          "scattergl": [
           {
            "marker": {
             "colorbar": {
              "outlinewidth": 0,
              "ticks": ""
             }
            },
            "type": "scattergl"
           }
          ],
          "scattermapbox": [
           {
            "marker": {
             "colorbar": {
              "outlinewidth": 0,
              "ticks": ""
             }
            },
            "type": "scattermapbox"
           }
          ],
          "scatterpolar": [
           {
            "marker": {
             "colorbar": {
              "outlinewidth": 0,
              "ticks": ""
             }
            },
            "type": "scatterpolar"
           }
          ],
          "scatterpolargl": [
           {
            "marker": {
             "colorbar": {
              "outlinewidth": 0,
              "ticks": ""
             }
            },
            "type": "scatterpolargl"
           }
          ],
          "scatterternary": [
           {
            "marker": {
             "colorbar": {
              "outlinewidth": 0,
              "ticks": ""
             }
            },
            "type": "scatterternary"
           }
          ],
          "surface": [
           {
            "colorbar": {
             "outlinewidth": 0,
             "ticks": ""
            },
            "colorscale": [
             [
              0,
              "#0d0887"
             ],
             [
              0.1111111111111111,
              "#46039f"
             ],
             [
              0.2222222222222222,
              "#7201a8"
             ],
             [
              0.3333333333333333,
              "#9c179e"
             ],
             [
              0.4444444444444444,
              "#bd3786"
             ],
             [
              0.5555555555555556,
              "#d8576b"
             ],
             [
              0.6666666666666666,
              "#ed7953"
             ],
             [
              0.7777777777777778,
              "#fb9f3a"
             ],
             [
              0.8888888888888888,
              "#fdca26"
             ],
             [
              1,
              "#f0f921"
             ]
            ],
            "type": "surface"
           }
          ],
          "table": [
           {
            "cells": {
             "fill": {
              "color": "#EBF0F8"
             },
             "line": {
              "color": "white"
             }
            },
            "header": {
             "fill": {
              "color": "#C8D4E3"
             },
             "line": {
              "color": "white"
             }
            },
            "type": "table"
           }
          ]
         },
         "layout": {
          "annotationdefaults": {
           "arrowcolor": "#2a3f5f",
           "arrowhead": 0,
           "arrowwidth": 1
          },
          "autotypenumbers": "strict",
          "coloraxis": {
           "colorbar": {
            "outlinewidth": 0,
            "ticks": ""
           }
          },
          "colorscale": {
           "diverging": [
            [
             0,
             "#8e0152"
            ],
            [
             0.1,
             "#c51b7d"
            ],
            [
             0.2,
             "#de77ae"
            ],
            [
             0.3,
             "#f1b6da"
            ],
            [
             0.4,
             "#fde0ef"
            ],
            [
             0.5,
             "#f7f7f7"
            ],
            [
             0.6,
             "#e6f5d0"
            ],
            [
             0.7,
             "#b8e186"
            ],
            [
             0.8,
             "#7fbc41"
            ],
            [
             0.9,
             "#4d9221"
            ],
            [
             1,
             "#276419"
            ]
           ],
           "sequential": [
            [
             0,
             "#0d0887"
            ],
            [
             0.1111111111111111,
             "#46039f"
            ],
            [
             0.2222222222222222,
             "#7201a8"
            ],
            [
             0.3333333333333333,
             "#9c179e"
            ],
            [
             0.4444444444444444,
             "#bd3786"
            ],
            [
             0.5555555555555556,
             "#d8576b"
            ],
            [
             0.6666666666666666,
             "#ed7953"
            ],
            [
             0.7777777777777778,
             "#fb9f3a"
            ],
            [
             0.8888888888888888,
             "#fdca26"
            ],
            [
             1,
             "#f0f921"
            ]
           ],
           "sequentialminus": [
            [
             0,
             "#0d0887"
            ],
            [
             0.1111111111111111,
             "#46039f"
            ],
            [
             0.2222222222222222,
             "#7201a8"
            ],
            [
             0.3333333333333333,
             "#9c179e"
            ],
            [
             0.4444444444444444,
             "#bd3786"
            ],
            [
             0.5555555555555556,
             "#d8576b"
            ],
            [
             0.6666666666666666,
             "#ed7953"
            ],
            [
             0.7777777777777778,
             "#fb9f3a"
            ],
            [
             0.8888888888888888,
             "#fdca26"
            ],
            [
             1,
             "#f0f921"
            ]
           ]
          },
          "colorway": [
           "#636efa",
           "#EF553B",
           "#00cc96",
           "#ab63fa",
           "#FFA15A",
           "#19d3f3",
           "#FF6692",
           "#B6E880",
           "#FF97FF",
           "#FECB52"
          ],
          "font": {
           "color": "#2a3f5f"
          },
          "geo": {
           "bgcolor": "white",
           "lakecolor": "white",
           "landcolor": "#E5ECF6",
           "showlakes": true,
           "showland": true,
           "subunitcolor": "white"
          },
          "hoverlabel": {
           "align": "left"
          },
          "hovermode": "closest",
          "mapbox": {
           "style": "light"
          },
          "paper_bgcolor": "white",
          "plot_bgcolor": "#E5ECF6",
          "polar": {
           "angularaxis": {
            "gridcolor": "white",
            "linecolor": "white",
            "ticks": ""
           },
           "bgcolor": "#E5ECF6",
           "radialaxis": {
            "gridcolor": "white",
            "linecolor": "white",
            "ticks": ""
           }
          },
          "scene": {
           "xaxis": {
            "backgroundcolor": "#E5ECF6",
            "gridcolor": "white",
            "gridwidth": 2,
            "linecolor": "white",
            "showbackground": true,
            "ticks": "",
            "zerolinecolor": "white"
           },
           "yaxis": {
            "backgroundcolor": "#E5ECF6",
            "gridcolor": "white",
            "gridwidth": 2,
            "linecolor": "white",
            "showbackground": true,
            "ticks": "",
            "zerolinecolor": "white"
           },
           "zaxis": {
            "backgroundcolor": "#E5ECF6",
            "gridcolor": "white",
            "gridwidth": 2,
            "linecolor": "white",
            "showbackground": true,
            "ticks": "",
            "zerolinecolor": "white"
           }
          },
          "shapedefaults": {
           "line": {
            "color": "#2a3f5f"
           }
          },
          "ternary": {
           "aaxis": {
            "gridcolor": "white",
            "linecolor": "white",
            "ticks": ""
           },
           "baxis": {
            "gridcolor": "white",
            "linecolor": "white",
            "ticks": ""
           },
           "bgcolor": "#E5ECF6",
           "caxis": {
            "gridcolor": "white",
            "linecolor": "white",
            "ticks": ""
           }
          },
          "title": {
           "x": 0.05
          },
          "xaxis": {
           "automargin": true,
           "gridcolor": "white",
           "linecolor": "white",
           "ticks": "",
           "title": {
            "standoff": 15
           },
           "zerolinecolor": "white",
           "zerolinewidth": 2
          },
          "yaxis": {
           "automargin": true,
           "gridcolor": "white",
           "linecolor": "white",
           "ticks": "",
           "title": {
            "standoff": 15
           },
           "zerolinecolor": "white",
           "zerolinewidth": 2
          }
         }
        },
        "title": {
         "text": "DGI : 5.0729136"
        },
        "xaxis": {
         "title": {
          "text": "Sense Features"
         }
        },
        "yaxis": {
         "title": {
          "text": "Dimensions"
         }
        }
       }
      },
      "text/html": [
       "<div>                            <div id=\"8a360c3e-5644-46a1-802f-8903f2d6e12c\" class=\"plotly-graph-div\" style=\"height:525px; width:100%;\"></div>            <script type=\"text/javascript\">                require([\"plotly\"], function(Plotly) {                    window.PLOTLYENV=window.PLOTLYENV || {};                                    if (document.getElementById(\"8a360c3e-5644-46a1-802f-8903f2d6e12c\")) {                    Plotly.newPlot(                        \"8a360c3e-5644-46a1-802f-8903f2d6e12c\",                        [{\"x\":[\"Degree\",\"Clustering Coefficient\",\"Personalized Page Rank - Standard Deviation\",\"Average Neighbor Degree\",\"Average Neighbor Clustering\",\"Eccentricity\",\"Katz Centrality\"],\"z\":[[0.0,0.0,0.0,0.0,0.0,0.0,0.0],[0.0,0.0,0.0,0.0,0.0,0.0,0.0],[0.0,0.0,0.0,0.0,0.0,0.0,0.1971108317375183],[0.0,0.0,0.0,0.0,0.0,0.0,0.0],[0.0,0.0,0.0,0.0,0.0,0.0,0.0],[0.0,0.0,0.0,0.0,0.0,0.0,0.0],[0.0,0.0,0.0,0.0,0.0,0.0,0.0],[0.0,0.0,0.0,0.0,0.0,0.0,0.0],[0.0,0.0,0.0,0.0,0.0,0.0,0.0],[0.0,0.0,0.0,0.0,0.0,0.0,0.0],[0.0,0.0,0.0,0.0,0.0,0.0,0.0],[0.0,0.0,0.0,0.0,0.0,0.0,0.09961505234241486],[0.0,0.0,0.0,0.0,0.0,0.0,0.0],[0.0,0.0,0.0,0.0,0.0,0.0,0.0],[0.0,0.0,0.0,0.0,0.0,0.0,0.0],[0.0,0.0,0.0,0.0,0.0,0.0,0.0],[0.0,0.0,0.0,0.0,0.0,0.0,0.0],[0.0,0.0,0.0,0.0,0.0,0.0,0.0],[0.0,0.0,0.0,0.0,0.0,0.0,0.0],[0.0,0.0,0.0,0.0,0.0,0.0,0.0],[0.0,0.0,0.6945803761482239,0.0,0.0,0.0,0.35961732268333435],[0.0,0.0,0.0,0.0,0.0,0.0,0.0],[0.0,0.0,0.0,0.0,0.0,0.0,0.0],[0.0,0.0,0.0,0.0,0.0,0.0,0.0],[0.0,0.0,0.0,0.0,0.0,0.0,0.0],[0.0,0.0,0.0,0.0,0.0,0.0,0.0],[0.0,0.0,0.0,0.0,0.0,0.0,0.0],[0.0,0.0,0.0,0.0,0.0,0.0,0.0],[0.0,0.0,0.0,0.0,0.0,0.0,0.0],[0.0,0.0,0.0,0.0,0.0,0.0,0.0],[0.0,0.0,0.0,0.0,0.0,0.0,0.0],[0.0,0.0,0.0,0.0,0.0,0.0,0.0],[0.0,0.0,0.0,0.0,0.0,0.0,0.0],[0.0,0.0,0.0,0.0,0.18280170857906342,0.0,0.0],[0.0,0.0,0.0,0.0,0.0,0.0,0.0],[0.0,0.0,0.0,0.0,0.0,0.0,0.0],[0.0,0.0,0.0,0.0,0.0,0.0,0.0],[0.0,0.0,0.0,0.0,0.0,0.0,0.0],[0.0,0.0,0.0,0.0,0.0,0.0,0.0],[0.0,0.0,0.0,0.0,0.0,0.0,0.0],[0.0,0.0,0.0,0.0,0.0,0.0,0.0],[0.0,0.0,0.0,0.0,0.0,0.0,0.0],[0.0,0.0,0.0,0.0,0.0,0.0,0.0],[0.0,0.0,0.0,0.0,0.0,0.0,0.0],[0.0,0.0,0.0,0.0,0.0,0.0,0.0],[0.0,0.0,0.0,0.0,0.0,0.0,0.0],[0.0,0.0,0.0,0.0,0.0,0.0,0.0],[0.0,0.0,0.0,0.0,0.0,0.0,0.0],[0.0,0.0,0.0,0.0,0.0,0.0,0.0],[1.0,0.0,0.0,0.0,0.48287200927734375,0.0,0.0],[0.0,0.0,0.0,0.0,0.0,0.0,0.0],[0.0,0.0,0.0,0.0,0.0,0.0,0.0],[0.0,0.0,0.0,0.0,0.0,0.0,0.0],[0.0,0.0,0.0,0.0,0.0,0.0,0.0],[0.0,0.0,0.0,0.0,0.0,0.0,0.0],[0.0,0.0,0.0,0.0,0.0,0.0,0.0],[0.0,0.0,0.0,0.0,0.0,0.0,0.0],[0.0,0.0,0.0,0.0,0.0,0.0,0.0],[0.0,0.0,0.0,0.0,0.0,0.0,0.0],[0.0,0.0,0.0,0.0,0.0,0.0,0.0],[0.0,0.0,0.0,0.0,0.0,0.0,0.0],[0.0,0.0,0.0,0.0,0.0,0.0,0.0],[0.0,0.0,0.0,0.0,0.0,0.0,0.0],[0.0,0.0,0.0,0.0,0.0,0.0,0.0],[0.0,0.0,0.0,0.0,0.0,0.0,0.24356655776500702],[0.0,0.0,0.0,0.0,0.0,0.0,0.0],[0.0,0.0,0.0,0.0,0.0,0.0,0.0],[0.0,0.0,0.0,0.0,0.22445935010910034,0.0,0.0],[0.0,0.0,0.0,0.0,0.0,0.0,0.0],[0.0,0.0,0.0,0.0,0.0,0.0,0.0],[0.0,0.0,0.0,0.0,0.0,0.0,0.0],[0.0,0.0,0.0,0.0,0.0,0.0,0.0],[0.0,0.0,0.0,0.0,0.0,0.0,0.0],[0.0,0.0,0.0,0.0,0.0,0.0,0.0],[0.0,0.0,0.0,0.0,0.0,0.0,0.0],[0.0,0.0,0.0,0.0,0.0,0.0,0.0],[0.0,0.0,0.0,0.0,0.0,0.0,0.0],[0.0,0.0,0.0,0.0,0.0,0.0,0.0],[0.0,0.0,0.0,0.0,0.0,0.0,0.0],[0.0,0.0,0.0,0.0,0.0,0.38002273440361023,0.0],[0.0,0.0,0.0,0.0,0.0,0.0,0.0],[0.0,0.0,0.0,0.0,0.0,0.0,0.0],[0.0,0.0,0.0,0.0,0.0,0.0,0.0],[0.0,0.0,0.0,0.0,0.0,0.0,0.0],[0.0,0.0,0.0,0.0,0.0,0.0,0.0],[0.0,0.0,0.0,0.0,0.0,0.0,0.0],[0.0,0.939809262752533,0.0,0.0,0.0,0.0,0.0],[0.0,0.0,0.0,0.0,0.0,0.0,0.0009865801548585296],[0.0,0.0,0.0,0.0,0.0,0.0,0.0],[0.0,0.0,0.0,0.0,0.0,0.0,0.0],[0.0,0.0,0.0,0.9309622645378113,0.0,0.0,0.0],[0.0,0.0,0.0,0.0,0.0,0.0,0.0],[0.0,0.0,0.0,0.0,0.0,0.0,0.0],[0.0,0.0,0.0,0.0,0.0,0.0,0.0],[0.0,0.0,0.0,0.0,0.0,0.0,0.0],[0.0,0.0,0.0,0.0,0.0,0.0,0.0],[0.0,0.0,0.0,0.0,0.0,0.0,0.0],[0.0,0.0,0.0,0.0,0.0,0.0,0.0],[0.0,0.0,0.0,0.0,0.0,0.0,0.0],[0.0,0.0,0.0,0.0,0.0,0.0,0.0],[0.0,0.0,0.0,0.0,0.0,0.0,0.0],[0.0,0.0,0.0,0.0,0.0,0.0,0.0],[0.0,0.0,0.0,0.0,0.0,0.0,0.0],[0.0,0.0,0.0,0.0,0.0,0.0,0.0],[0.0,0.0,0.0,0.0,0.0,0.0,0.0],[0.0,0.0,0.0,0.0,0.0,0.0,0.0],[0.0,0.0,0.0,0.0,0.0,0.0,0.0],[0.0,0.0,0.0,0.0,0.0,0.0,0.0],[0.0,0.0,0.0,0.0,0.0,0.0,0.0],[0.0,0.0,0.0,0.0,0.0,0.0,0.0],[0.0,0.0,0.0,0.0,0.0,0.0,0.0],[0.0,0.0,0.0,0.0,0.0,0.0,0.0],[0.0,0.0,0.27243900299072266,0.0,0.0,0.0,0.0],[0.0,0.0,0.0,0.0,0.0,0.0,0.0],[0.0,0.0,0.0,0.0,0.0,0.0,0.0],[0.0,0.0,0.0,0.0,0.0,0.0,0.0],[0.0,0.0,0.0,0.0,0.0,0.0,0.0],[0.0,0.0,0.0,0.0,0.0,0.0,0.0],[0.0,0.0,0.0,0.0,0.0,0.0,0.0],[0.0,0.0,0.0,0.0,0.0,0.0,0.0],[0.0,0.0,0.0,0.0,0.0,0.0,0.0],[0.0,0.0,0.0,0.0,0.0,0.5581793785095215,0.0],[0.0,0.0,0.0,0.0,0.0,0.0,0.0],[0.0,0.0,0.0,0.0,0.0,0.0,0.0],[0.0,0.0,0.0,0.0,0.0,0.0,0.0],[0.0,0.0,0.0,0.0,0.0,0.0,0.0],[0.0,0.0,0.0,0.0,0.0,0.0,0.0],[0.0,0.0,0.0,0.0,0.0,0.0,0.0]],\"type\":\"heatmap\"}],                        {\"template\":{\"data\":{\"histogram2dcontour\":[{\"type\":\"histogram2dcontour\",\"colorbar\":{\"outlinewidth\":0,\"ticks\":\"\"},\"colorscale\":[[0.0,\"#0d0887\"],[0.1111111111111111,\"#46039f\"],[0.2222222222222222,\"#7201a8\"],[0.3333333333333333,\"#9c179e\"],[0.4444444444444444,\"#bd3786\"],[0.5555555555555556,\"#d8576b\"],[0.6666666666666666,\"#ed7953\"],[0.7777777777777778,\"#fb9f3a\"],[0.8888888888888888,\"#fdca26\"],[1.0,\"#f0f921\"]]}],\"choropleth\":[{\"type\":\"choropleth\",\"colorbar\":{\"outlinewidth\":0,\"ticks\":\"\"}}],\"histogram2d\":[{\"type\":\"histogram2d\",\"colorbar\":{\"outlinewidth\":0,\"ticks\":\"\"},\"colorscale\":[[0.0,\"#0d0887\"],[0.1111111111111111,\"#46039f\"],[0.2222222222222222,\"#7201a8\"],[0.3333333333333333,\"#9c179e\"],[0.4444444444444444,\"#bd3786\"],[0.5555555555555556,\"#d8576b\"],[0.6666666666666666,\"#ed7953\"],[0.7777777777777778,\"#fb9f3a\"],[0.8888888888888888,\"#fdca26\"],[1.0,\"#f0f921\"]]}],\"heatmap\":[{\"type\":\"heatmap\",\"colorbar\":{\"outlinewidth\":0,\"ticks\":\"\"},\"colorscale\":[[0.0,\"#0d0887\"],[0.1111111111111111,\"#46039f\"],[0.2222222222222222,\"#7201a8\"],[0.3333333333333333,\"#9c179e\"],[0.4444444444444444,\"#bd3786\"],[0.5555555555555556,\"#d8576b\"],[0.6666666666666666,\"#ed7953\"],[0.7777777777777778,\"#fb9f3a\"],[0.8888888888888888,\"#fdca26\"],[1.0,\"#f0f921\"]]}],\"heatmapgl\":[{\"type\":\"heatmapgl\",\"colorbar\":{\"outlinewidth\":0,\"ticks\":\"\"},\"colorscale\":[[0.0,\"#0d0887\"],[0.1111111111111111,\"#46039f\"],[0.2222222222222222,\"#7201a8\"],[0.3333333333333333,\"#9c179e\"],[0.4444444444444444,\"#bd3786\"],[0.5555555555555556,\"#d8576b\"],[0.6666666666666666,\"#ed7953\"],[0.7777777777777778,\"#fb9f3a\"],[0.8888888888888888,\"#fdca26\"],[1.0,\"#f0f921\"]]}],\"contourcarpet\":[{\"type\":\"contourcarpet\",\"colorbar\":{\"outlinewidth\":0,\"ticks\":\"\"}}],\"contour\":[{\"type\":\"contour\",\"colorbar\":{\"outlinewidth\":0,\"ticks\":\"\"},\"colorscale\":[[0.0,\"#0d0887\"],[0.1111111111111111,\"#46039f\"],[0.2222222222222222,\"#7201a8\"],[0.3333333333333333,\"#9c179e\"],[0.4444444444444444,\"#bd3786\"],[0.5555555555555556,\"#d8576b\"],[0.6666666666666666,\"#ed7953\"],[0.7777777777777778,\"#fb9f3a\"],[0.8888888888888888,\"#fdca26\"],[1.0,\"#f0f921\"]]}],\"surface\":[{\"type\":\"surface\",\"colorbar\":{\"outlinewidth\":0,\"ticks\":\"\"},\"colorscale\":[[0.0,\"#0d0887\"],[0.1111111111111111,\"#46039f\"],[0.2222222222222222,\"#7201a8\"],[0.3333333333333333,\"#9c179e\"],[0.4444444444444444,\"#bd3786\"],[0.5555555555555556,\"#d8576b\"],[0.6666666666666666,\"#ed7953\"],[0.7777777777777778,\"#fb9f3a\"],[0.8888888888888888,\"#fdca26\"],[1.0,\"#f0f921\"]]}],\"mesh3d\":[{\"type\":\"mesh3d\",\"colorbar\":{\"outlinewidth\":0,\"ticks\":\"\"}}],\"scatter\":[{\"fillpattern\":{\"fillmode\":\"overlay\",\"size\":10,\"solidity\":0.2},\"type\":\"scatter\"}],\"parcoords\":[{\"type\":\"parcoords\",\"line\":{\"colorbar\":{\"outlinewidth\":0,\"ticks\":\"\"}}}],\"scatterpolargl\":[{\"type\":\"scatterpolargl\",\"marker\":{\"colorbar\":{\"outlinewidth\":0,\"ticks\":\"\"}}}],\"bar\":[{\"error_x\":{\"color\":\"#2a3f5f\"},\"error_y\":{\"color\":\"#2a3f5f\"},\"marker\":{\"line\":{\"color\":\"#E5ECF6\",\"width\":0.5},\"pattern\":{\"fillmode\":\"overlay\",\"size\":10,\"solidity\":0.2}},\"type\":\"bar\"}],\"scattergeo\":[{\"type\":\"scattergeo\",\"marker\":{\"colorbar\":{\"outlinewidth\":0,\"ticks\":\"\"}}}],\"scatterpolar\":[{\"type\":\"scatterpolar\",\"marker\":{\"colorbar\":{\"outlinewidth\":0,\"ticks\":\"\"}}}],\"histogram\":[{\"marker\":{\"pattern\":{\"fillmode\":\"overlay\",\"size\":10,\"solidity\":0.2}},\"type\":\"histogram\"}],\"scattergl\":[{\"type\":\"scattergl\",\"marker\":{\"colorbar\":{\"outlinewidth\":0,\"ticks\":\"\"}}}],\"scatter3d\":[{\"type\":\"scatter3d\",\"line\":{\"colorbar\":{\"outlinewidth\":0,\"ticks\":\"\"}},\"marker\":{\"colorbar\":{\"outlinewidth\":0,\"ticks\":\"\"}}}],\"scattermapbox\":[{\"type\":\"scattermapbox\",\"marker\":{\"colorbar\":{\"outlinewidth\":0,\"ticks\":\"\"}}}],\"scatterternary\":[{\"type\":\"scatterternary\",\"marker\":{\"colorbar\":{\"outlinewidth\":0,\"ticks\":\"\"}}}],\"scattercarpet\":[{\"type\":\"scattercarpet\",\"marker\":{\"colorbar\":{\"outlinewidth\":0,\"ticks\":\"\"}}}],\"carpet\":[{\"aaxis\":{\"endlinecolor\":\"#2a3f5f\",\"gridcolor\":\"white\",\"linecolor\":\"white\",\"minorgridcolor\":\"white\",\"startlinecolor\":\"#2a3f5f\"},\"baxis\":{\"endlinecolor\":\"#2a3f5f\",\"gridcolor\":\"white\",\"linecolor\":\"white\",\"minorgridcolor\":\"white\",\"startlinecolor\":\"#2a3f5f\"},\"type\":\"carpet\"}],\"table\":[{\"cells\":{\"fill\":{\"color\":\"#EBF0F8\"},\"line\":{\"color\":\"white\"}},\"header\":{\"fill\":{\"color\":\"#C8D4E3\"},\"line\":{\"color\":\"white\"}},\"type\":\"table\"}],\"barpolar\":[{\"marker\":{\"line\":{\"color\":\"#E5ECF6\",\"width\":0.5},\"pattern\":{\"fillmode\":\"overlay\",\"size\":10,\"solidity\":0.2}},\"type\":\"barpolar\"}],\"pie\":[{\"automargin\":true,\"type\":\"pie\"}]},\"layout\":{\"autotypenumbers\":\"strict\",\"colorway\":[\"#636efa\",\"#EF553B\",\"#00cc96\",\"#ab63fa\",\"#FFA15A\",\"#19d3f3\",\"#FF6692\",\"#B6E880\",\"#FF97FF\",\"#FECB52\"],\"font\":{\"color\":\"#2a3f5f\"},\"hovermode\":\"closest\",\"hoverlabel\":{\"align\":\"left\"},\"paper_bgcolor\":\"white\",\"plot_bgcolor\":\"#E5ECF6\",\"polar\":{\"bgcolor\":\"#E5ECF6\",\"angularaxis\":{\"gridcolor\":\"white\",\"linecolor\":\"white\",\"ticks\":\"\"},\"radialaxis\":{\"gridcolor\":\"white\",\"linecolor\":\"white\",\"ticks\":\"\"}},\"ternary\":{\"bgcolor\":\"#E5ECF6\",\"aaxis\":{\"gridcolor\":\"white\",\"linecolor\":\"white\",\"ticks\":\"\"},\"baxis\":{\"gridcolor\":\"white\",\"linecolor\":\"white\",\"ticks\":\"\"},\"caxis\":{\"gridcolor\":\"white\",\"linecolor\":\"white\",\"ticks\":\"\"}},\"coloraxis\":{\"colorbar\":{\"outlinewidth\":0,\"ticks\":\"\"}},\"colorscale\":{\"sequential\":[[0.0,\"#0d0887\"],[0.1111111111111111,\"#46039f\"],[0.2222222222222222,\"#7201a8\"],[0.3333333333333333,\"#9c179e\"],[0.4444444444444444,\"#bd3786\"],[0.5555555555555556,\"#d8576b\"],[0.6666666666666666,\"#ed7953\"],[0.7777777777777778,\"#fb9f3a\"],[0.8888888888888888,\"#fdca26\"],[1.0,\"#f0f921\"]],\"sequentialminus\":[[0.0,\"#0d0887\"],[0.1111111111111111,\"#46039f\"],[0.2222222222222222,\"#7201a8\"],[0.3333333333333333,\"#9c179e\"],[0.4444444444444444,\"#bd3786\"],[0.5555555555555556,\"#d8576b\"],[0.6666666666666666,\"#ed7953\"],[0.7777777777777778,\"#fb9f3a\"],[0.8888888888888888,\"#fdca26\"],[1.0,\"#f0f921\"]],\"diverging\":[[0,\"#8e0152\"],[0.1,\"#c51b7d\"],[0.2,\"#de77ae\"],[0.3,\"#f1b6da\"],[0.4,\"#fde0ef\"],[0.5,\"#f7f7f7\"],[0.6,\"#e6f5d0\"],[0.7,\"#b8e186\"],[0.8,\"#7fbc41\"],[0.9,\"#4d9221\"],[1,\"#276419\"]]},\"xaxis\":{\"gridcolor\":\"white\",\"linecolor\":\"white\",\"ticks\":\"\",\"title\":{\"standoff\":15},\"zerolinecolor\":\"white\",\"automargin\":true,\"zerolinewidth\":2},\"yaxis\":{\"gridcolor\":\"white\",\"linecolor\":\"white\",\"ticks\":\"\",\"title\":{\"standoff\":15},\"zerolinecolor\":\"white\",\"automargin\":true,\"zerolinewidth\":2},\"scene\":{\"xaxis\":{\"backgroundcolor\":\"#E5ECF6\",\"gridcolor\":\"white\",\"linecolor\":\"white\",\"showbackground\":true,\"ticks\":\"\",\"zerolinecolor\":\"white\",\"gridwidth\":2},\"yaxis\":{\"backgroundcolor\":\"#E5ECF6\",\"gridcolor\":\"white\",\"linecolor\":\"white\",\"showbackground\":true,\"ticks\":\"\",\"zerolinecolor\":\"white\",\"gridwidth\":2},\"zaxis\":{\"backgroundcolor\":\"#E5ECF6\",\"gridcolor\":\"white\",\"linecolor\":\"white\",\"showbackground\":true,\"ticks\":\"\",\"zerolinecolor\":\"white\",\"gridwidth\":2}},\"shapedefaults\":{\"line\":{\"color\":\"#2a3f5f\"}},\"annotationdefaults\":{\"arrowcolor\":\"#2a3f5f\",\"arrowhead\":0,\"arrowwidth\":1},\"geo\":{\"bgcolor\":\"white\",\"landcolor\":\"#E5ECF6\",\"subunitcolor\":\"white\",\"showland\":true,\"showlakes\":true,\"lakecolor\":\"white\"},\"title\":{\"x\":0.05},\"mapbox\":{\"style\":\"light\"}}},\"title\":{\"text\":\"DGI : 5.0729136\"},\"xaxis\":{\"title\":{\"text\":\"Sense Features\"}},\"yaxis\":{\"title\":{\"text\":\"Dimensions\"}}},                        {\"responsive\": true}                    ).then(function(){\n",
       "                            \n",
       "var gd = document.getElementById('8a360c3e-5644-46a1-802f-8903f2d6e12c');\n",
       "var x = new MutationObserver(function (mutations, observer) {{\n",
       "        var display = window.getComputedStyle(gd).display;\n",
       "        if (!display || display === 'none') {{\n",
       "            console.log([gd, 'removed!']);\n",
       "            Plotly.purge(gd);\n",
       "            observer.disconnect();\n",
       "        }}\n",
       "}});\n",
       "\n",
       "// Listen for the removal of the full notebook cells\n",
       "var notebookContainer = gd.closest('#notebook-container');\n",
       "if (notebookContainer) {{\n",
       "    x.observe(notebookContainer, {childList: true});\n",
       "}}\n",
       "\n",
       "// Listen for the clearing of the current output cell\n",
       "var outputEl = gd.closest('.output');\n",
       "if (outputEl) {{\n",
       "    x.observe(outputEl, {childList: true});\n",
       "}}\n",
       "\n",
       "                        })                };                });            </script>        </div>"
      ]
     },
     "metadata": {},
     "output_type": "display_data"
    },
    {
     "data": {
      "application/vnd.plotly.v1+json": {
       "config": {
        "plotlyServerURL": "https://plot.ly"
       },
       "data": [
        {
         "type": "heatmap",
         "x": [
          "Degree",
          "Clustering Coefficient",
          "Personalized Page Rank - Standard Deviation",
          "Average Neighbor Degree",
          "Average Neighbor Clustering",
          "Eccentricity",
          "Katz Centrality"
         ],
         "z": [
          [
           0,
           0,
           0,
           0,
           0,
           0,
           0
          ],
          [
           0,
           0,
           0,
           0,
           0,
           0,
           0
          ],
          [
           0,
           0,
           0,
           0,
           0,
           0,
           0
          ],
          [
           0,
           0,
           0,
           0,
           0,
           0,
           0
          ],
          [
           0,
           0,
           0,
           0,
           0,
           0,
           0
          ],
          [
           0,
           0,
           0,
           0,
           0,
           0,
           0
          ],
          [
           0,
           0,
           0,
           0,
           0,
           0,
           0
          ],
          [
           0,
           0,
           0,
           0,
           0,
           0,
           0
          ],
          [
           0,
           0,
           0,
           0,
           0,
           0,
           0
          ],
          [
           0,
           0,
           0,
           0,
           0,
           0,
           0
          ],
          [
           0,
           0,
           0,
           0,
           0,
           0,
           0
          ],
          [
           0,
           0,
           0,
           0,
           0,
           0,
           0
          ],
          [
           0,
           0,
           0,
           0,
           0,
           0,
           0
          ],
          [
           0,
           0,
           0,
           0,
           0,
           0,
           0
          ],
          [
           0,
           0,
           0,
           0,
           0,
           0,
           0
          ],
          [
           0,
           0,
           0,
           0,
           0,
           0,
           0
          ],
          [
           0,
           0,
           0,
           0,
           0,
           0,
           0
          ],
          [
           0,
           0,
           0,
           0,
           0,
           0,
           0
          ],
          [
           0,
           0,
           0,
           0,
           0,
           0,
           0
          ],
          [
           0.7743663787841797,
           0,
           0,
           0,
           0,
           0,
           0
          ],
          [
           0,
           0,
           0,
           0,
           0,
           0,
           0
          ],
          [
           0,
           0,
           0,
           0,
           0,
           0,
           0
          ],
          [
           0,
           0,
           0,
           0,
           0,
           0,
           0
          ],
          [
           0,
           0,
           0,
           0,
           0,
           0,
           0
          ],
          [
           0,
           0,
           0.07841289788484573,
           0,
           0,
           0,
           0
          ],
          [
           0,
           0,
           0,
           0,
           0,
           0,
           0
          ],
          [
           0,
           0,
           0,
           0,
           0,
           0,
           0
          ],
          [
           0,
           0,
           0,
           0,
           0,
           0,
           0
          ],
          [
           0,
           0,
           0,
           0,
           0,
           0,
           0
          ],
          [
           0,
           0,
           0,
           0,
           0,
           0,
           0
          ],
          [
           0,
           0,
           0,
           0,
           0,
           0,
           0
          ],
          [
           0,
           0,
           0,
           0,
           0,
           0,
           0.1636631190776825
          ],
          [
           0,
           0,
           0,
           0,
           0,
           0,
           0
          ],
          [
           0,
           0,
           0,
           0,
           0,
           0,
           0
          ],
          [
           0,
           1,
           0,
           0,
           0.4994373321533203,
           0,
           0
          ],
          [
           0,
           0,
           0,
           0,
           0,
           0,
           0
          ],
          [
           0,
           0,
           0,
           0,
           0,
           0,
           0
          ],
          [
           0,
           0,
           0,
           0,
           0,
           0,
           0
          ],
          [
           0,
           0,
           0,
           0,
           0,
           0,
           0
          ],
          [
           0,
           0,
           0,
           0,
           0,
           0,
           0
          ],
          [
           0,
           0,
           0,
           0,
           0,
           0,
           0
          ],
          [
           0,
           0,
           0,
           0,
           0,
           0,
           0
          ],
          [
           0,
           0,
           0,
           0,
           0,
           0,
           0
          ],
          [
           0,
           0,
           0,
           0,
           0,
           0.1562700718641281,
           0
          ],
          [
           0,
           0,
           0,
           0,
           0,
           0,
           0
          ],
          [
           0,
           0,
           0,
           0,
           0,
           0,
           0
          ],
          [
           0,
           0,
           0,
           0,
           0,
           0,
           0
          ],
          [
           0,
           0,
           0,
           0,
           0,
           0,
           0
          ],
          [
           0,
           0,
           0,
           0,
           0,
           0,
           0
          ],
          [
           0,
           0,
           0,
           0,
           0.10014864057302475,
           0,
           0
          ],
          [
           0,
           0,
           0,
           0,
           0,
           0,
           0
          ],
          [
           0,
           0,
           0,
           0,
           0,
           0,
           0
          ],
          [
           0,
           0,
           0,
           0,
           0,
           0,
           0
          ],
          [
           0,
           0,
           0,
           0,
           0,
           0,
           0
          ],
          [
           0,
           0,
           0,
           0,
           0,
           0,
           0
          ],
          [
           0,
           0,
           0,
           0.7768067121505737,
           0,
           0,
           0
          ],
          [
           0,
           0,
           0,
           0,
           0,
           0,
           0
          ],
          [
           0,
           0,
           0,
           0,
           0,
           0,
           0
          ],
          [
           0,
           0,
           0,
           0,
           0,
           0,
           0
          ],
          [
           0,
           0,
           0,
           0,
           0,
           0,
           0
          ],
          [
           0,
           0,
           0,
           0,
           0,
           0,
           0
          ],
          [
           0,
           0,
           0,
           0,
           0,
           0,
           0
          ],
          [
           0,
           0,
           0,
           0,
           0,
           0,
           0.35395461320877075
          ],
          [
           0,
           0,
           0,
           0,
           0,
           0,
           0.3470292091369629
          ],
          [
           0,
           0,
           0,
           0,
           0,
           0,
           0
          ],
          [
           0,
           0,
           0,
           0,
           0,
           0,
           0
          ],
          [
           0,
           0,
           0,
           0,
           0,
           0,
           0
          ],
          [
           0,
           0,
           0,
           0,
           0,
           0,
           0
          ],
          [
           0,
           0,
           0,
           0,
           0,
           0,
           0
          ],
          [
           0,
           0,
           0,
           0,
           0,
           0,
           0
          ],
          [
           0,
           0,
           0,
           0,
           0,
           0,
           0
          ],
          [
           0,
           0,
           0,
           0,
           0,
           0,
           0
          ],
          [
           0,
           0,
           0,
           0,
           0,
           0,
           0
          ],
          [
           0,
           0,
           0,
           0,
           0,
           0,
           0
          ],
          [
           0,
           0,
           0,
           0,
           0,
           0,
           0
          ],
          [
           0,
           0,
           0,
           0,
           0,
           0,
           0.04723585769534111
          ],
          [
           0,
           0,
           0,
           0,
           0,
           0.21862177550792694,
           0
          ],
          [
           0,
           0,
           0,
           0,
           0,
           0,
           0
          ],
          [
           0,
           0,
           0,
           0,
           0,
           0,
           0
          ],
          [
           0,
           0,
           0,
           0.20922613143920898,
           0,
           0,
           0
          ],
          [
           0,
           0,
           0,
           0,
           0,
           0,
           0
          ],
          [
           0,
           0,
           0,
           0,
           0,
           0,
           0
          ],
          [
           0,
           0,
           0,
           0,
           0,
           0,
           0
          ],
          [
           0,
           0,
           0,
           0,
           0,
           0,
           0
          ],
          [
           0,
           0,
           0,
           0,
           0,
           0,
           0
          ],
          [
           0,
           0,
           0,
           0,
           0,
           0,
           0
          ],
          [
           0,
           0,
           0,
           0,
           0,
           0,
           0
          ],
          [
           0,
           0,
           0,
           0,
           0,
           0,
           0
          ],
          [
           0,
           0,
           0,
           0,
           0,
           0,
           0
          ],
          [
           0,
           0,
           0,
           0,
           0,
           0.7377519011497498,
           0.06310894340276718
          ],
          [
           0,
           0,
           0,
           0,
           0,
           0,
           0
          ],
          [
           0,
           0,
           0,
           0,
           0,
           0,
           0
          ],
          [
           0,
           0,
           0,
           0,
           0,
           0,
           0
          ],
          [
           0,
           0,
           0,
           0,
           0,
           0,
           0
          ],
          [
           0,
           0,
           0,
           0,
           0.3096762001514435,
           0,
           0
          ],
          [
           0,
           0,
           0,
           0,
           0,
           0,
           0
          ],
          [
           0,
           0,
           0,
           0,
           0,
           0,
           0
          ],
          [
           0,
           0,
           0,
           0,
           0,
           0,
           0
          ],
          [
           0,
           0,
           0.7695802450180054,
           0,
           0,
           0,
           0
          ],
          [
           0,
           0,
           0,
           0,
           0,
           0,
           0
          ],
          [
           0,
           0,
           0,
           0,
           0,
           0,
           0
          ],
          [
           0,
           0,
           0,
           0,
           0,
           0,
           0
          ],
          [
           0,
           0,
           0,
           0,
           0,
           0,
           0
          ],
          [
           0,
           0,
           0,
           0,
           0,
           0,
           0
          ],
          [
           0,
           0,
           0,
           0,
           0,
           0,
           0
          ],
          [
           0,
           0,
           0,
           0,
           0,
           0,
           0
          ],
          [
           0,
           0,
           0,
           0,
           0,
           0,
           0
          ],
          [
           0,
           0,
           0,
           0,
           0,
           0,
           0
          ],
          [
           0,
           0,
           0,
           0,
           0,
           0,
           0
          ],
          [
           0,
           0,
           0,
           0,
           0,
           0,
           0
          ],
          [
           0,
           0,
           0,
           0,
           0,
           0,
           0
          ],
          [
           0,
           0,
           0,
           0,
           0,
           0,
           0
          ],
          [
           0,
           0,
           0,
           0,
           0,
           0,
           0
          ],
          [
           0,
           0,
           0,
           0,
           0,
           0,
           0
          ],
          [
           0,
           0,
           0,
           0,
           0,
           0,
           0
          ],
          [
           0,
           0,
           0,
           0,
           0,
           0,
           0
          ],
          [
           0,
           0,
           0,
           0,
           0,
           0,
           0
          ],
          [
           0,
           0,
           0,
           0,
           0,
           0,
           0
          ],
          [
           0,
           0,
           0,
           0,
           0,
           0,
           0
          ],
          [
           0,
           0,
           0,
           0,
           0,
           0,
           0
          ],
          [
           0,
           0,
           0,
           0,
           0,
           0,
           0
          ],
          [
           0,
           0,
           0,
           0,
           0,
           0,
           0
          ],
          [
           0,
           0,
           0,
           0,
           0,
           0,
           0
          ],
          [
           0,
           0,
           0,
           0,
           0,
           0,
           0
          ],
          [
           0,
           0,
           0,
           0,
           0,
           0,
           0
          ],
          [
           0,
           0,
           0,
           0,
           0,
           0,
           0
          ],
          [
           0,
           0,
           0,
           0,
           0,
           0,
           0
          ],
          [
           0,
           0,
           0,
           0,
           0,
           0,
           0
          ]
         ]
        }
       ],
       "layout": {
        "template": {
         "data": {
          "bar": [
           {
            "error_x": {
             "color": "#2a3f5f"
            },
            "error_y": {
             "color": "#2a3f5f"
            },
            "marker": {
             "line": {
              "color": "#E5ECF6",
              "width": 0.5
             },
             "pattern": {
              "fillmode": "overlay",
              "size": 10,
              "solidity": 0.2
             }
            },
            "type": "bar"
           }
          ],
          "barpolar": [
           {
            "marker": {
             "line": {
              "color": "#E5ECF6",
              "width": 0.5
             },
             "pattern": {
              "fillmode": "overlay",
              "size": 10,
              "solidity": 0.2
             }
            },
            "type": "barpolar"
           }
          ],
          "carpet": [
           {
            "aaxis": {
             "endlinecolor": "#2a3f5f",
             "gridcolor": "white",
             "linecolor": "white",
             "minorgridcolor": "white",
             "startlinecolor": "#2a3f5f"
            },
            "baxis": {
             "endlinecolor": "#2a3f5f",
             "gridcolor": "white",
             "linecolor": "white",
             "minorgridcolor": "white",
             "startlinecolor": "#2a3f5f"
            },
            "type": "carpet"
           }
          ],
          "choropleth": [
           {
            "colorbar": {
             "outlinewidth": 0,
             "ticks": ""
            },
            "type": "choropleth"
           }
          ],
          "contour": [
           {
            "colorbar": {
             "outlinewidth": 0,
             "ticks": ""
            },
            "colorscale": [
             [
              0,
              "#0d0887"
             ],
             [
              0.1111111111111111,
              "#46039f"
             ],
             [
              0.2222222222222222,
              "#7201a8"
             ],
             [
              0.3333333333333333,
              "#9c179e"
             ],
             [
              0.4444444444444444,
              "#bd3786"
             ],
             [
              0.5555555555555556,
              "#d8576b"
             ],
             [
              0.6666666666666666,
              "#ed7953"
             ],
             [
              0.7777777777777778,
              "#fb9f3a"
             ],
             [
              0.8888888888888888,
              "#fdca26"
             ],
             [
              1,
              "#f0f921"
             ]
            ],
            "type": "contour"
           }
          ],
          "contourcarpet": [
           {
            "colorbar": {
             "outlinewidth": 0,
             "ticks": ""
            },
            "type": "contourcarpet"
           }
          ],
          "heatmap": [
           {
            "colorbar": {
             "outlinewidth": 0,
             "ticks": ""
            },
            "colorscale": [
             [
              0,
              "#0d0887"
             ],
             [
              0.1111111111111111,
              "#46039f"
             ],
             [
              0.2222222222222222,
              "#7201a8"
             ],
             [
              0.3333333333333333,
              "#9c179e"
             ],
             [
              0.4444444444444444,
              "#bd3786"
             ],
             [
              0.5555555555555556,
              "#d8576b"
             ],
             [
              0.6666666666666666,
              "#ed7953"
             ],
             [
              0.7777777777777778,
              "#fb9f3a"
             ],
             [
              0.8888888888888888,
              "#fdca26"
             ],
             [
              1,
              "#f0f921"
             ]
            ],
            "type": "heatmap"
           }
          ],
          "heatmapgl": [
           {
            "colorbar": {
             "outlinewidth": 0,
             "ticks": ""
            },
            "colorscale": [
             [
              0,
              "#0d0887"
             ],
             [
              0.1111111111111111,
              "#46039f"
             ],
             [
              0.2222222222222222,
              "#7201a8"
             ],
             [
              0.3333333333333333,
              "#9c179e"
             ],
             [
              0.4444444444444444,
              "#bd3786"
             ],
             [
              0.5555555555555556,
              "#d8576b"
             ],
             [
              0.6666666666666666,
              "#ed7953"
             ],
             [
              0.7777777777777778,
              "#fb9f3a"
             ],
             [
              0.8888888888888888,
              "#fdca26"
             ],
             [
              1,
              "#f0f921"
             ]
            ],
            "type": "heatmapgl"
           }
          ],
          "histogram": [
           {
            "marker": {
             "pattern": {
              "fillmode": "overlay",
              "size": 10,
              "solidity": 0.2
             }
            },
            "type": "histogram"
           }
          ],
          "histogram2d": [
           {
            "colorbar": {
             "outlinewidth": 0,
             "ticks": ""
            },
            "colorscale": [
             [
              0,
              "#0d0887"
             ],
             [
              0.1111111111111111,
              "#46039f"
             ],
             [
              0.2222222222222222,
              "#7201a8"
             ],
             [
              0.3333333333333333,
              "#9c179e"
             ],
             [
              0.4444444444444444,
              "#bd3786"
             ],
             [
              0.5555555555555556,
              "#d8576b"
             ],
             [
              0.6666666666666666,
              "#ed7953"
             ],
             [
              0.7777777777777778,
              "#fb9f3a"
             ],
             [
              0.8888888888888888,
              "#fdca26"
             ],
             [
              1,
              "#f0f921"
             ]
            ],
            "type": "histogram2d"
           }
          ],
          "histogram2dcontour": [
           {
            "colorbar": {
             "outlinewidth": 0,
             "ticks": ""
            },
            "colorscale": [
             [
              0,
              "#0d0887"
             ],
             [
              0.1111111111111111,
              "#46039f"
             ],
             [
              0.2222222222222222,
              "#7201a8"
             ],
             [
              0.3333333333333333,
              "#9c179e"
             ],
             [
              0.4444444444444444,
              "#bd3786"
             ],
             [
              0.5555555555555556,
              "#d8576b"
             ],
             [
              0.6666666666666666,
              "#ed7953"
             ],
             [
              0.7777777777777778,
              "#fb9f3a"
             ],
             [
              0.8888888888888888,
              "#fdca26"
             ],
             [
              1,
              "#f0f921"
             ]
            ],
            "type": "histogram2dcontour"
           }
          ],
          "mesh3d": [
           {
            "colorbar": {
             "outlinewidth": 0,
             "ticks": ""
            },
            "type": "mesh3d"
           }
          ],
          "parcoords": [
           {
            "line": {
             "colorbar": {
              "outlinewidth": 0,
              "ticks": ""
             }
            },
            "type": "parcoords"
           }
          ],
          "pie": [
           {
            "automargin": true,
            "type": "pie"
           }
          ],
          "scatter": [
           {
            "fillpattern": {
             "fillmode": "overlay",
             "size": 10,
             "solidity": 0.2
            },
            "type": "scatter"
           }
          ],
          "scatter3d": [
           {
            "line": {
             "colorbar": {
              "outlinewidth": 0,
              "ticks": ""
             }
            },
            "marker": {
             "colorbar": {
              "outlinewidth": 0,
              "ticks": ""
             }
            },
            "type": "scatter3d"
           }
          ],
          "scattercarpet": [
           {
            "marker": {
             "colorbar": {
              "outlinewidth": 0,
              "ticks": ""
             }
            },
            "type": "scattercarpet"
           }
          ],
          "scattergeo": [
           {
            "marker": {
             "colorbar": {
              "outlinewidth": 0,
              "ticks": ""
             }
            },
            "type": "scattergeo"
           }
          ],
          "scattergl": [
           {
            "marker": {
             "colorbar": {
              "outlinewidth": 0,
              "ticks": ""
             }
            },
            "type": "scattergl"
           }
          ],
          "scattermapbox": [
           {
            "marker": {
             "colorbar": {
              "outlinewidth": 0,
              "ticks": ""
             }
            },
            "type": "scattermapbox"
           }
          ],
          "scatterpolar": [
           {
            "marker": {
             "colorbar": {
              "outlinewidth": 0,
              "ticks": ""
             }
            },
            "type": "scatterpolar"
           }
          ],
          "scatterpolargl": [
           {
            "marker": {
             "colorbar": {
              "outlinewidth": 0,
              "ticks": ""
             }
            },
            "type": "scatterpolargl"
           }
          ],
          "scatterternary": [
           {
            "marker": {
             "colorbar": {
              "outlinewidth": 0,
              "ticks": ""
             }
            },
            "type": "scatterternary"
           }
          ],
          "surface": [
           {
            "colorbar": {
             "outlinewidth": 0,
             "ticks": ""
            },
            "colorscale": [
             [
              0,
              "#0d0887"
             ],
             [
              0.1111111111111111,
              "#46039f"
             ],
             [
              0.2222222222222222,
              "#7201a8"
             ],
             [
              0.3333333333333333,
              "#9c179e"
             ],
             [
              0.4444444444444444,
              "#bd3786"
             ],
             [
              0.5555555555555556,
              "#d8576b"
             ],
             [
              0.6666666666666666,
              "#ed7953"
             ],
             [
              0.7777777777777778,
              "#fb9f3a"
             ],
             [
              0.8888888888888888,
              "#fdca26"
             ],
             [
              1,
              "#f0f921"
             ]
            ],
            "type": "surface"
           }
          ],
          "table": [
           {
            "cells": {
             "fill": {
              "color": "#EBF0F8"
             },
             "line": {
              "color": "white"
             }
            },
            "header": {
             "fill": {
              "color": "#C8D4E3"
             },
             "line": {
              "color": "white"
             }
            },
            "type": "table"
           }
          ]
         },
         "layout": {
          "annotationdefaults": {
           "arrowcolor": "#2a3f5f",
           "arrowhead": 0,
           "arrowwidth": 1
          },
          "autotypenumbers": "strict",
          "coloraxis": {
           "colorbar": {
            "outlinewidth": 0,
            "ticks": ""
           }
          },
          "colorscale": {
           "diverging": [
            [
             0,
             "#8e0152"
            ],
            [
             0.1,
             "#c51b7d"
            ],
            [
             0.2,
             "#de77ae"
            ],
            [
             0.3,
             "#f1b6da"
            ],
            [
             0.4,
             "#fde0ef"
            ],
            [
             0.5,
             "#f7f7f7"
            ],
            [
             0.6,
             "#e6f5d0"
            ],
            [
             0.7,
             "#b8e186"
            ],
            [
             0.8,
             "#7fbc41"
            ],
            [
             0.9,
             "#4d9221"
            ],
            [
             1,
             "#276419"
            ]
           ],
           "sequential": [
            [
             0,
             "#0d0887"
            ],
            [
             0.1111111111111111,
             "#46039f"
            ],
            [
             0.2222222222222222,
             "#7201a8"
            ],
            [
             0.3333333333333333,
             "#9c179e"
            ],
            [
             0.4444444444444444,
             "#bd3786"
            ],
            [
             0.5555555555555556,
             "#d8576b"
            ],
            [
             0.6666666666666666,
             "#ed7953"
            ],
            [
             0.7777777777777778,
             "#fb9f3a"
            ],
            [
             0.8888888888888888,
             "#fdca26"
            ],
            [
             1,
             "#f0f921"
            ]
           ],
           "sequentialminus": [
            [
             0,
             "#0d0887"
            ],
            [
             0.1111111111111111,
             "#46039f"
            ],
            [
             0.2222222222222222,
             "#7201a8"
            ],
            [
             0.3333333333333333,
             "#9c179e"
            ],
            [
             0.4444444444444444,
             "#bd3786"
            ],
            [
             0.5555555555555556,
             "#d8576b"
            ],
            [
             0.6666666666666666,
             "#ed7953"
            ],
            [
             0.7777777777777778,
             "#fb9f3a"
            ],
            [
             0.8888888888888888,
             "#fdca26"
            ],
            [
             1,
             "#f0f921"
            ]
           ]
          },
          "colorway": [
           "#636efa",
           "#EF553B",
           "#00cc96",
           "#ab63fa",
           "#FFA15A",
           "#19d3f3",
           "#FF6692",
           "#B6E880",
           "#FF97FF",
           "#FECB52"
          ],
          "font": {
           "color": "#2a3f5f"
          },
          "geo": {
           "bgcolor": "white",
           "lakecolor": "white",
           "landcolor": "#E5ECF6",
           "showlakes": true,
           "showland": true,
           "subunitcolor": "white"
          },
          "hoverlabel": {
           "align": "left"
          },
          "hovermode": "closest",
          "mapbox": {
           "style": "light"
          },
          "paper_bgcolor": "white",
          "plot_bgcolor": "#E5ECF6",
          "polar": {
           "angularaxis": {
            "gridcolor": "white",
            "linecolor": "white",
            "ticks": ""
           },
           "bgcolor": "#E5ECF6",
           "radialaxis": {
            "gridcolor": "white",
            "linecolor": "white",
            "ticks": ""
           }
          },
          "scene": {
           "xaxis": {
            "backgroundcolor": "#E5ECF6",
            "gridcolor": "white",
            "gridwidth": 2,
            "linecolor": "white",
            "showbackground": true,
            "ticks": "",
            "zerolinecolor": "white"
           },
           "yaxis": {
            "backgroundcolor": "#E5ECF6",
            "gridcolor": "white",
            "gridwidth": 2,
            "linecolor": "white",
            "showbackground": true,
            "ticks": "",
            "zerolinecolor": "white"
           },
           "zaxis": {
            "backgroundcolor": "#E5ECF6",
            "gridcolor": "white",
            "gridwidth": 2,
            "linecolor": "white",
            "showbackground": true,
            "ticks": "",
            "zerolinecolor": "white"
           }
          },
          "shapedefaults": {
           "line": {
            "color": "#2a3f5f"
           }
          },
          "ternary": {
           "aaxis": {
            "gridcolor": "white",
            "linecolor": "white",
            "ticks": ""
           },
           "baxis": {
            "gridcolor": "white",
            "linecolor": "white",
            "ticks": ""
           },
           "bgcolor": "#E5ECF6",
           "caxis": {
            "gridcolor": "white",
            "linecolor": "white",
            "ticks": ""
           }
          },
          "title": {
           "x": 0.05
          },
          "xaxis": {
           "automargin": true,
           "gridcolor": "white",
           "linecolor": "white",
           "ticks": "",
           "title": {
            "standoff": 15
           },
           "zerolinecolor": "white",
           "zerolinewidth": 2
          },
          "yaxis": {
           "automargin": true,
           "gridcolor": "white",
           "linecolor": "white",
           "ticks": "",
           "title": {
            "standoff": 15
           },
           "zerolinecolor": "white",
           "zerolinewidth": 2
          }
         }
        },
        "title": {
         "text": "DGI+ : 5.079965"
        },
        "xaxis": {
         "title": {
          "text": "Sense Features"
         }
        },
        "yaxis": {
         "title": {
          "text": "Dimensions"
         }
        }
       }
      },
      "text/html": [
       "<div>                            <div id=\"edf4658a-4b28-4ca4-819c-6be1904daff9\" class=\"plotly-graph-div\" style=\"height:525px; width:100%;\"></div>            <script type=\"text/javascript\">                require([\"plotly\"], function(Plotly) {                    window.PLOTLYENV=window.PLOTLYENV || {};                                    if (document.getElementById(\"edf4658a-4b28-4ca4-819c-6be1904daff9\")) {                    Plotly.newPlot(                        \"edf4658a-4b28-4ca4-819c-6be1904daff9\",                        [{\"x\":[\"Degree\",\"Clustering Coefficient\",\"Personalized Page Rank - Standard Deviation\",\"Average Neighbor Degree\",\"Average Neighbor Clustering\",\"Eccentricity\",\"Katz Centrality\"],\"z\":[[0.0,0.0,0.0,0.0,0.0,0.0,0.0],[0.0,0.0,0.0,0.0,0.0,0.0,0.0],[0.0,0.0,0.0,0.0,0.0,0.0,0.0],[0.0,0.0,0.0,0.0,0.0,0.0,0.0],[0.0,0.0,0.0,0.0,0.0,0.0,0.0],[0.0,0.0,0.0,0.0,0.0,0.0,0.0],[0.0,0.0,0.0,0.0,0.0,0.0,0.0],[0.0,0.0,0.0,0.0,0.0,0.0,0.0],[0.0,0.0,0.0,0.0,0.0,0.0,0.0],[0.0,0.0,0.0,0.0,0.0,0.0,0.0],[0.0,0.0,0.0,0.0,0.0,0.0,0.0],[0.0,0.0,0.0,0.0,0.0,0.0,0.0],[0.0,0.0,0.0,0.0,0.0,0.0,0.0],[0.0,0.0,0.0,0.0,0.0,0.0,0.0],[0.0,0.0,0.0,0.0,0.0,0.0,0.0],[0.0,0.0,0.0,0.0,0.0,0.0,0.0],[0.0,0.0,0.0,0.0,0.0,0.0,0.0],[0.0,0.0,0.0,0.0,0.0,0.0,0.0],[0.0,0.0,0.0,0.0,0.0,0.0,0.0],[0.7743663787841797,0.0,0.0,0.0,0.0,0.0,0.0],[0.0,0.0,0.0,0.0,0.0,0.0,0.0],[0.0,0.0,0.0,0.0,0.0,0.0,0.0],[0.0,0.0,0.0,0.0,0.0,0.0,0.0],[0.0,0.0,0.0,0.0,0.0,0.0,0.0],[0.0,0.0,0.07841289788484573,0.0,0.0,0.0,0.0],[0.0,0.0,0.0,0.0,0.0,0.0,0.0],[0.0,0.0,0.0,0.0,0.0,0.0,0.0],[0.0,0.0,0.0,0.0,0.0,0.0,0.0],[0.0,0.0,0.0,0.0,0.0,0.0,0.0],[0.0,0.0,0.0,0.0,0.0,0.0,0.0],[0.0,0.0,0.0,0.0,0.0,0.0,0.0],[0.0,0.0,0.0,0.0,0.0,0.0,0.1636631190776825],[0.0,0.0,0.0,0.0,0.0,0.0,0.0],[0.0,0.0,0.0,0.0,0.0,0.0,0.0],[0.0,1.0,0.0,0.0,0.4994373321533203,0.0,0.0],[0.0,0.0,0.0,0.0,0.0,0.0,0.0],[0.0,0.0,0.0,0.0,0.0,0.0,0.0],[0.0,0.0,0.0,0.0,0.0,0.0,0.0],[0.0,0.0,0.0,0.0,0.0,0.0,0.0],[0.0,0.0,0.0,0.0,0.0,0.0,0.0],[0.0,0.0,0.0,0.0,0.0,0.0,0.0],[0.0,0.0,0.0,0.0,0.0,0.0,0.0],[0.0,0.0,0.0,0.0,0.0,0.0,0.0],[0.0,0.0,0.0,0.0,0.0,0.1562700718641281,0.0],[0.0,0.0,0.0,0.0,0.0,0.0,0.0],[0.0,0.0,0.0,0.0,0.0,0.0,0.0],[0.0,0.0,0.0,0.0,0.0,0.0,0.0],[0.0,0.0,0.0,0.0,0.0,0.0,0.0],[0.0,0.0,0.0,0.0,0.0,0.0,0.0],[0.0,0.0,0.0,0.0,0.10014864057302475,0.0,0.0],[0.0,0.0,0.0,0.0,0.0,0.0,0.0],[0.0,0.0,0.0,0.0,0.0,0.0,0.0],[0.0,0.0,0.0,0.0,0.0,0.0,0.0],[0.0,0.0,0.0,0.0,0.0,0.0,0.0],[0.0,0.0,0.0,0.0,0.0,0.0,0.0],[0.0,0.0,0.0,0.7768067121505737,0.0,0.0,0.0],[0.0,0.0,0.0,0.0,0.0,0.0,0.0],[0.0,0.0,0.0,0.0,0.0,0.0,0.0],[0.0,0.0,0.0,0.0,0.0,0.0,0.0],[0.0,0.0,0.0,0.0,0.0,0.0,0.0],[0.0,0.0,0.0,0.0,0.0,0.0,0.0],[0.0,0.0,0.0,0.0,0.0,0.0,0.0],[0.0,0.0,0.0,0.0,0.0,0.0,0.35395461320877075],[0.0,0.0,0.0,0.0,0.0,0.0,0.3470292091369629],[0.0,0.0,0.0,0.0,0.0,0.0,0.0],[0.0,0.0,0.0,0.0,0.0,0.0,0.0],[0.0,0.0,0.0,0.0,0.0,0.0,0.0],[0.0,0.0,0.0,0.0,0.0,0.0,0.0],[0.0,0.0,0.0,0.0,0.0,0.0,0.0],[0.0,0.0,0.0,0.0,0.0,0.0,0.0],[0.0,0.0,0.0,0.0,0.0,0.0,0.0],[0.0,0.0,0.0,0.0,0.0,0.0,0.0],[0.0,0.0,0.0,0.0,0.0,0.0,0.0],[0.0,0.0,0.0,0.0,0.0,0.0,0.0],[0.0,0.0,0.0,0.0,0.0,0.0,0.0],[0.0,0.0,0.0,0.0,0.0,0.0,0.04723585769534111],[0.0,0.0,0.0,0.0,0.0,0.21862177550792694,0.0],[0.0,0.0,0.0,0.0,0.0,0.0,0.0],[0.0,0.0,0.0,0.0,0.0,0.0,0.0],[0.0,0.0,0.0,0.20922613143920898,0.0,0.0,0.0],[0.0,0.0,0.0,0.0,0.0,0.0,0.0],[0.0,0.0,0.0,0.0,0.0,0.0,0.0],[0.0,0.0,0.0,0.0,0.0,0.0,0.0],[0.0,0.0,0.0,0.0,0.0,0.0,0.0],[0.0,0.0,0.0,0.0,0.0,0.0,0.0],[0.0,0.0,0.0,0.0,0.0,0.0,0.0],[0.0,0.0,0.0,0.0,0.0,0.0,0.0],[0.0,0.0,0.0,0.0,0.0,0.0,0.0],[0.0,0.0,0.0,0.0,0.0,0.0,0.0],[0.0,0.0,0.0,0.0,0.0,0.7377519011497498,0.06310894340276718],[0.0,0.0,0.0,0.0,0.0,0.0,0.0],[0.0,0.0,0.0,0.0,0.0,0.0,0.0],[0.0,0.0,0.0,0.0,0.0,0.0,0.0],[0.0,0.0,0.0,0.0,0.0,0.0,0.0],[0.0,0.0,0.0,0.0,0.3096762001514435,0.0,0.0],[0.0,0.0,0.0,0.0,0.0,0.0,0.0],[0.0,0.0,0.0,0.0,0.0,0.0,0.0],[0.0,0.0,0.0,0.0,0.0,0.0,0.0],[0.0,0.0,0.7695802450180054,0.0,0.0,0.0,0.0],[0.0,0.0,0.0,0.0,0.0,0.0,0.0],[0.0,0.0,0.0,0.0,0.0,0.0,0.0],[0.0,0.0,0.0,0.0,0.0,0.0,0.0],[0.0,0.0,0.0,0.0,0.0,0.0,0.0],[0.0,0.0,0.0,0.0,0.0,0.0,0.0],[0.0,0.0,0.0,0.0,0.0,0.0,0.0],[0.0,0.0,0.0,0.0,0.0,0.0,0.0],[0.0,0.0,0.0,0.0,0.0,0.0,0.0],[0.0,0.0,0.0,0.0,0.0,0.0,0.0],[0.0,0.0,0.0,0.0,0.0,0.0,0.0],[0.0,0.0,0.0,0.0,0.0,0.0,0.0],[0.0,0.0,0.0,0.0,0.0,0.0,0.0],[0.0,0.0,0.0,0.0,0.0,0.0,0.0],[0.0,0.0,0.0,0.0,0.0,0.0,0.0],[0.0,0.0,0.0,0.0,0.0,0.0,0.0],[0.0,0.0,0.0,0.0,0.0,0.0,0.0],[0.0,0.0,0.0,0.0,0.0,0.0,0.0],[0.0,0.0,0.0,0.0,0.0,0.0,0.0],[0.0,0.0,0.0,0.0,0.0,0.0,0.0],[0.0,0.0,0.0,0.0,0.0,0.0,0.0],[0.0,0.0,0.0,0.0,0.0,0.0,0.0],[0.0,0.0,0.0,0.0,0.0,0.0,0.0],[0.0,0.0,0.0,0.0,0.0,0.0,0.0],[0.0,0.0,0.0,0.0,0.0,0.0,0.0],[0.0,0.0,0.0,0.0,0.0,0.0,0.0],[0.0,0.0,0.0,0.0,0.0,0.0,0.0],[0.0,0.0,0.0,0.0,0.0,0.0,0.0],[0.0,0.0,0.0,0.0,0.0,0.0,0.0],[0.0,0.0,0.0,0.0,0.0,0.0,0.0]],\"type\":\"heatmap\"}],                        {\"template\":{\"data\":{\"histogram2dcontour\":[{\"type\":\"histogram2dcontour\",\"colorbar\":{\"outlinewidth\":0,\"ticks\":\"\"},\"colorscale\":[[0.0,\"#0d0887\"],[0.1111111111111111,\"#46039f\"],[0.2222222222222222,\"#7201a8\"],[0.3333333333333333,\"#9c179e\"],[0.4444444444444444,\"#bd3786\"],[0.5555555555555556,\"#d8576b\"],[0.6666666666666666,\"#ed7953\"],[0.7777777777777778,\"#fb9f3a\"],[0.8888888888888888,\"#fdca26\"],[1.0,\"#f0f921\"]]}],\"choropleth\":[{\"type\":\"choropleth\",\"colorbar\":{\"outlinewidth\":0,\"ticks\":\"\"}}],\"histogram2d\":[{\"type\":\"histogram2d\",\"colorbar\":{\"outlinewidth\":0,\"ticks\":\"\"},\"colorscale\":[[0.0,\"#0d0887\"],[0.1111111111111111,\"#46039f\"],[0.2222222222222222,\"#7201a8\"],[0.3333333333333333,\"#9c179e\"],[0.4444444444444444,\"#bd3786\"],[0.5555555555555556,\"#d8576b\"],[0.6666666666666666,\"#ed7953\"],[0.7777777777777778,\"#fb9f3a\"],[0.8888888888888888,\"#fdca26\"],[1.0,\"#f0f921\"]]}],\"heatmap\":[{\"type\":\"heatmap\",\"colorbar\":{\"outlinewidth\":0,\"ticks\":\"\"},\"colorscale\":[[0.0,\"#0d0887\"],[0.1111111111111111,\"#46039f\"],[0.2222222222222222,\"#7201a8\"],[0.3333333333333333,\"#9c179e\"],[0.4444444444444444,\"#bd3786\"],[0.5555555555555556,\"#d8576b\"],[0.6666666666666666,\"#ed7953\"],[0.7777777777777778,\"#fb9f3a\"],[0.8888888888888888,\"#fdca26\"],[1.0,\"#f0f921\"]]}],\"heatmapgl\":[{\"type\":\"heatmapgl\",\"colorbar\":{\"outlinewidth\":0,\"ticks\":\"\"},\"colorscale\":[[0.0,\"#0d0887\"],[0.1111111111111111,\"#46039f\"],[0.2222222222222222,\"#7201a8\"],[0.3333333333333333,\"#9c179e\"],[0.4444444444444444,\"#bd3786\"],[0.5555555555555556,\"#d8576b\"],[0.6666666666666666,\"#ed7953\"],[0.7777777777777778,\"#fb9f3a\"],[0.8888888888888888,\"#fdca26\"],[1.0,\"#f0f921\"]]}],\"contourcarpet\":[{\"type\":\"contourcarpet\",\"colorbar\":{\"outlinewidth\":0,\"ticks\":\"\"}}],\"contour\":[{\"type\":\"contour\",\"colorbar\":{\"outlinewidth\":0,\"ticks\":\"\"},\"colorscale\":[[0.0,\"#0d0887\"],[0.1111111111111111,\"#46039f\"],[0.2222222222222222,\"#7201a8\"],[0.3333333333333333,\"#9c179e\"],[0.4444444444444444,\"#bd3786\"],[0.5555555555555556,\"#d8576b\"],[0.6666666666666666,\"#ed7953\"],[0.7777777777777778,\"#fb9f3a\"],[0.8888888888888888,\"#fdca26\"],[1.0,\"#f0f921\"]]}],\"surface\":[{\"type\":\"surface\",\"colorbar\":{\"outlinewidth\":0,\"ticks\":\"\"},\"colorscale\":[[0.0,\"#0d0887\"],[0.1111111111111111,\"#46039f\"],[0.2222222222222222,\"#7201a8\"],[0.3333333333333333,\"#9c179e\"],[0.4444444444444444,\"#bd3786\"],[0.5555555555555556,\"#d8576b\"],[0.6666666666666666,\"#ed7953\"],[0.7777777777777778,\"#fb9f3a\"],[0.8888888888888888,\"#fdca26\"],[1.0,\"#f0f921\"]]}],\"mesh3d\":[{\"type\":\"mesh3d\",\"colorbar\":{\"outlinewidth\":0,\"ticks\":\"\"}}],\"scatter\":[{\"fillpattern\":{\"fillmode\":\"overlay\",\"size\":10,\"solidity\":0.2},\"type\":\"scatter\"}],\"parcoords\":[{\"type\":\"parcoords\",\"line\":{\"colorbar\":{\"outlinewidth\":0,\"ticks\":\"\"}}}],\"scatterpolargl\":[{\"type\":\"scatterpolargl\",\"marker\":{\"colorbar\":{\"outlinewidth\":0,\"ticks\":\"\"}}}],\"bar\":[{\"error_x\":{\"color\":\"#2a3f5f\"},\"error_y\":{\"color\":\"#2a3f5f\"},\"marker\":{\"line\":{\"color\":\"#E5ECF6\",\"width\":0.5},\"pattern\":{\"fillmode\":\"overlay\",\"size\":10,\"solidity\":0.2}},\"type\":\"bar\"}],\"scattergeo\":[{\"type\":\"scattergeo\",\"marker\":{\"colorbar\":{\"outlinewidth\":0,\"ticks\":\"\"}}}],\"scatterpolar\":[{\"type\":\"scatterpolar\",\"marker\":{\"colorbar\":{\"outlinewidth\":0,\"ticks\":\"\"}}}],\"histogram\":[{\"marker\":{\"pattern\":{\"fillmode\":\"overlay\",\"size\":10,\"solidity\":0.2}},\"type\":\"histogram\"}],\"scattergl\":[{\"type\":\"scattergl\",\"marker\":{\"colorbar\":{\"outlinewidth\":0,\"ticks\":\"\"}}}],\"scatter3d\":[{\"type\":\"scatter3d\",\"line\":{\"colorbar\":{\"outlinewidth\":0,\"ticks\":\"\"}},\"marker\":{\"colorbar\":{\"outlinewidth\":0,\"ticks\":\"\"}}}],\"scattermapbox\":[{\"type\":\"scattermapbox\",\"marker\":{\"colorbar\":{\"outlinewidth\":0,\"ticks\":\"\"}}}],\"scatterternary\":[{\"type\":\"scatterternary\",\"marker\":{\"colorbar\":{\"outlinewidth\":0,\"ticks\":\"\"}}}],\"scattercarpet\":[{\"type\":\"scattercarpet\",\"marker\":{\"colorbar\":{\"outlinewidth\":0,\"ticks\":\"\"}}}],\"carpet\":[{\"aaxis\":{\"endlinecolor\":\"#2a3f5f\",\"gridcolor\":\"white\",\"linecolor\":\"white\",\"minorgridcolor\":\"white\",\"startlinecolor\":\"#2a3f5f\"},\"baxis\":{\"endlinecolor\":\"#2a3f5f\",\"gridcolor\":\"white\",\"linecolor\":\"white\",\"minorgridcolor\":\"white\",\"startlinecolor\":\"#2a3f5f\"},\"type\":\"carpet\"}],\"table\":[{\"cells\":{\"fill\":{\"color\":\"#EBF0F8\"},\"line\":{\"color\":\"white\"}},\"header\":{\"fill\":{\"color\":\"#C8D4E3\"},\"line\":{\"color\":\"white\"}},\"type\":\"table\"}],\"barpolar\":[{\"marker\":{\"line\":{\"color\":\"#E5ECF6\",\"width\":0.5},\"pattern\":{\"fillmode\":\"overlay\",\"size\":10,\"solidity\":0.2}},\"type\":\"barpolar\"}],\"pie\":[{\"automargin\":true,\"type\":\"pie\"}]},\"layout\":{\"autotypenumbers\":\"strict\",\"colorway\":[\"#636efa\",\"#EF553B\",\"#00cc96\",\"#ab63fa\",\"#FFA15A\",\"#19d3f3\",\"#FF6692\",\"#B6E880\",\"#FF97FF\",\"#FECB52\"],\"font\":{\"color\":\"#2a3f5f\"},\"hovermode\":\"closest\",\"hoverlabel\":{\"align\":\"left\"},\"paper_bgcolor\":\"white\",\"plot_bgcolor\":\"#E5ECF6\",\"polar\":{\"bgcolor\":\"#E5ECF6\",\"angularaxis\":{\"gridcolor\":\"white\",\"linecolor\":\"white\",\"ticks\":\"\"},\"radialaxis\":{\"gridcolor\":\"white\",\"linecolor\":\"white\",\"ticks\":\"\"}},\"ternary\":{\"bgcolor\":\"#E5ECF6\",\"aaxis\":{\"gridcolor\":\"white\",\"linecolor\":\"white\",\"ticks\":\"\"},\"baxis\":{\"gridcolor\":\"white\",\"linecolor\":\"white\",\"ticks\":\"\"},\"caxis\":{\"gridcolor\":\"white\",\"linecolor\":\"white\",\"ticks\":\"\"}},\"coloraxis\":{\"colorbar\":{\"outlinewidth\":0,\"ticks\":\"\"}},\"colorscale\":{\"sequential\":[[0.0,\"#0d0887\"],[0.1111111111111111,\"#46039f\"],[0.2222222222222222,\"#7201a8\"],[0.3333333333333333,\"#9c179e\"],[0.4444444444444444,\"#bd3786\"],[0.5555555555555556,\"#d8576b\"],[0.6666666666666666,\"#ed7953\"],[0.7777777777777778,\"#fb9f3a\"],[0.8888888888888888,\"#fdca26\"],[1.0,\"#f0f921\"]],\"sequentialminus\":[[0.0,\"#0d0887\"],[0.1111111111111111,\"#46039f\"],[0.2222222222222222,\"#7201a8\"],[0.3333333333333333,\"#9c179e\"],[0.4444444444444444,\"#bd3786\"],[0.5555555555555556,\"#d8576b\"],[0.6666666666666666,\"#ed7953\"],[0.7777777777777778,\"#fb9f3a\"],[0.8888888888888888,\"#fdca26\"],[1.0,\"#f0f921\"]],\"diverging\":[[0,\"#8e0152\"],[0.1,\"#c51b7d\"],[0.2,\"#de77ae\"],[0.3,\"#f1b6da\"],[0.4,\"#fde0ef\"],[0.5,\"#f7f7f7\"],[0.6,\"#e6f5d0\"],[0.7,\"#b8e186\"],[0.8,\"#7fbc41\"],[0.9,\"#4d9221\"],[1,\"#276419\"]]},\"xaxis\":{\"gridcolor\":\"white\",\"linecolor\":\"white\",\"ticks\":\"\",\"title\":{\"standoff\":15},\"zerolinecolor\":\"white\",\"automargin\":true,\"zerolinewidth\":2},\"yaxis\":{\"gridcolor\":\"white\",\"linecolor\":\"white\",\"ticks\":\"\",\"title\":{\"standoff\":15},\"zerolinecolor\":\"white\",\"automargin\":true,\"zerolinewidth\":2},\"scene\":{\"xaxis\":{\"backgroundcolor\":\"#E5ECF6\",\"gridcolor\":\"white\",\"linecolor\":\"white\",\"showbackground\":true,\"ticks\":\"\",\"zerolinecolor\":\"white\",\"gridwidth\":2},\"yaxis\":{\"backgroundcolor\":\"#E5ECF6\",\"gridcolor\":\"white\",\"linecolor\":\"white\",\"showbackground\":true,\"ticks\":\"\",\"zerolinecolor\":\"white\",\"gridwidth\":2},\"zaxis\":{\"backgroundcolor\":\"#E5ECF6\",\"gridcolor\":\"white\",\"linecolor\":\"white\",\"showbackground\":true,\"ticks\":\"\",\"zerolinecolor\":\"white\",\"gridwidth\":2}},\"shapedefaults\":{\"line\":{\"color\":\"#2a3f5f\"}},\"annotationdefaults\":{\"arrowcolor\":\"#2a3f5f\",\"arrowhead\":0,\"arrowwidth\":1},\"geo\":{\"bgcolor\":\"white\",\"landcolor\":\"#E5ECF6\",\"subunitcolor\":\"white\",\"showland\":true,\"showlakes\":true,\"lakecolor\":\"white\"},\"title\":{\"x\":0.05},\"mapbox\":{\"style\":\"light\"}}},\"title\":{\"text\":\"DGI+ : 5.079965\"},\"xaxis\":{\"title\":{\"text\":\"Sense Features\"}},\"yaxis\":{\"title\":{\"text\":\"Dimensions\"}}},                        {\"responsive\": true}                    ).then(function(){\n",
       "                            \n",
       "var gd = document.getElementById('edf4658a-4b28-4ca4-819c-6be1904daff9');\n",
       "var x = new MutationObserver(function (mutations, observer) {{\n",
       "        var display = window.getComputedStyle(gd).display;\n",
       "        if (!display || display === 'none') {{\n",
       "            console.log([gd, 'removed!']);\n",
       "            Plotly.purge(gd);\n",
       "            observer.disconnect();\n",
       "        }}\n",
       "}});\n",
       "\n",
       "// Listen for the removal of the full notebook cells\n",
       "var notebookContainer = gd.closest('#notebook-container');\n",
       "if (notebookContainer) {{\n",
       "    x.observe(notebookContainer, {childList: true});\n",
       "}}\n",
       "\n",
       "// Listen for the clearing of the current output cell\n",
       "var outputEl = gd.closest('.output');\n",
       "if (outputEl) {{\n",
       "    x.observe(outputEl, {childList: true});\n",
       "}}\n",
       "\n",
       "                        })                };                });            </script>        </div>"
      ]
     },
     "metadata": {},
     "output_type": "display_data"
    }
   ],
   "source": [
    "fig = go.Figure()\n",
    "fig.add_trace(go.Heatmap(z = explain_og,\n",
    "                         x = list(sense_feat_dict), \n",
    "                         ))\n",
    "fig.update_layout(title_text = 'DGI : ' + str(np.linalg.norm(explain_og, ord = 'nuc')), \n",
    "                  xaxis_title_text = 'Sense Features', \n",
    "                  yaxis_title_text = 'Dimensions')\n",
    "\n",
    "fig.show()\n",
    "\n",
    "fig = go.Figure()\n",
    "fig.add_trace(go.Heatmap(z = explain_plus,\n",
    "                         x = list(sense_feat_dict), \n",
    "                         ))\n",
    "fig.update_layout(title_text = 'DGI+ : ' + str(np.linalg.norm(explain_plus, ord = 'nuc')), \n",
    "                  xaxis_title_text = 'Sense Features', \n",
    "                  yaxis_title_text = 'Dimensions')\n",
    "\n",
    "fig.show()"
   ]
  },
  {
   "cell_type": "code",
   "execution_count": null,
   "id": "fc52eba5",
   "metadata": {},
   "outputs": [],
   "source": []
  },
  {
   "cell_type": "code",
   "execution_count": 65,
   "id": "62f4280e",
   "metadata": {},
   "outputs": [],
   "source": [
    "Y_plus = embed_plus\n",
    "sense_mat = tf.einsum('ij, ik -> ijk', Y_plus, sense_features)\n",
    "Y_plus_norm = tf.linalg.diag_part(tf.matmul(Y_plus, Y_plus, transpose_b = True), k = 0)\n",
    "sense_norm = tf.linalg.diag_part(tf.matmul(sense_features, sense_features, transpose_b = True), k = 0)\n",
    "norm = Y_plus_norm * tf.cast(sense_norm, tf.float32)\n",
    "D_plus = tf.transpose(tf.transpose(sense_mat) / norm)\n",
    "D_plus = (D_plus - tf.reshape(tf.reduce_min(D_plus, axis = [-1, -2]), (-1, 1, 1))) / tf.reshape(tf.reduce_max(D_plus, axis = [-1, -2]) - tf.reduce_min(D_plus, axis = [-1, -2]), (-1, 1, 1))\n",
    "\n",
    "\n",
    "Y_og = embed_og\n",
    "\n",
    "sense_mat = tf.einsum('ij, ik -> ijk', Y_og, sense_features)\n",
    "Y_og_norm = tf.linalg.diag_part(tf.matmul(Y_og, Y_og, transpose_b = True), k = 0)\n",
    "sense_norm = tf.linalg.diag_part(tf.matmul(sense_features, sense_features, transpose_b = True), k = 0)\n",
    "norm = Y_og_norm * tf.cast(sense_norm, tf.float32)\n",
    "D_og = tf.transpose(tf.transpose(sense_mat) / norm)\n",
    "D_og = (D_og - tf.reshape(tf.reduce_min(D_og, axis = [-1, -2]), (-1, 1, 1))) / tf.reshape(tf.reduce_max(D_og, axis = [-1, -2]) - tf.reduce_min(D_og, axis = [-1, -2]), (-1, 1, 1))\n"
   ]
  },
  {
   "cell_type": "code",
   "execution_count": 66,
   "id": "e79f3f4b",
   "metadata": {},
   "outputs": [
    {
     "name": "stderr",
     "output_type": "stream",
     "text": [
      "100%|███████████████████████████████████████| 1186/1186 [00:14<00:00, 82.68it/s]\n",
      "100%|██████████████████████████████████████| 1186/1186 [00:09<00:00, 128.44it/s]\n"
     ]
    }
   ],
   "source": [
    "norm_og = [np.linalg.norm(D_og[node, :, :], ord = 'nuc') for node in tqdm(range(len(graph)))]\n",
    "norm_plus = [np.linalg.norm(D_plus[node, :, :], ord = 'nuc') for node in tqdm(range(len(graph)))]\n",
    "\n"
   ]
  },
  {
   "cell_type": "code",
   "execution_count": 67,
   "id": "07611813",
   "metadata": {},
   "outputs": [
    {
     "data": {
      "application/vnd.plotly.v1+json": {
       "config": {
        "plotlyServerURL": "https://plot.ly"
       },
       "data": [
        {
         "type": "histogram",
         "x": [
          2.6542863845825195,
          5.076726913452148,
          5.806754112243652,
          6.946428298950195,
          6.344690322875977,
          5.346583366394043,
          4.2235212326049805,
          3.6511058807373047,
          6.474581718444824,
          5.105486869812012,
          6.885654449462891,
          6.013247489929199,
          5.607032775878906,
          6.839102745056152,
          6.219870567321777,
          6.271737098693848,
          6.240202903747559,
          4.37760066986084,
          6.744448661804199,
          6.747057914733887,
          5.504153251647949,
          6.220495223999023,
          5.732240676879883,
          6.434260368347168,
          5.005985736846924,
          3.3054447174072266,
          4.397324562072754,
          7.012327194213867,
          4.689802646636963,
          3.5933589935302734,
          3.49013614654541,
          6.428488731384277,
          6.350855827331543,
          6.458202362060547,
          7.413208961486816,
          6.609087944030762,
          6.930231094360352,
          6.359102249145508,
          6.77052116394043,
          3.4263954162597656,
          6.425159454345703,
          5.98867130279541,
          5.418604850769043,
          6.036637306213379,
          5.330204010009766,
          6.200081825256348,
          5.194327354431152,
          6.634832382202148,
          6.6368255615234375,
          5.447310447692871,
          5.568285942077637,
          6.897091865539551,
          4.914065361022949,
          6.596907615661621,
          5.217451572418213,
          7.044003486633301,
          5.350086212158203,
          6.958885192871094,
          5.751299858093262,
          6.399505615234375,
          6.411442756652832,
          7.227306365966797,
          5.543705940246582,
          5.939169883728027,
          6.189120292663574,
          7.6294145584106445,
          6.291447639465332,
          6.656511306762695,
          5.951647758483887,
          5.726199150085449,
          6.590673446655273,
          6.249372482299805,
          7.059299468994141,
          6.5343122482299805,
          6.454215049743652,
          6.66586971282959,
          4.448894500732422,
          2.8985419273376465,
          5.663233757019043,
          6.451469421386719,
          7.299459457397461,
          4.708192825317383,
          5.175046920776367,
          5.367110252380371,
          4.8859968185424805,
          6.604818344116211,
          6.928313255310059,
          5.643433570861816,
          7.036472320556641,
          6.27337646484375,
          6.645068168640137,
          4.280426979064941,
          5.477582931518555,
          5.762729644775391,
          5.892640113830566,
          5.740135192871094,
          6.5020246505737305,
          3.997150421142578,
          3.7287397384643555,
          7.22445011138916,
          3.918576240539551,
          4.111174583435059,
          5.605095863342285,
          3.4330978393554688,
          3.3662099838256836,
          5.8540754318237305,
          4.975996017456055,
          7.035032272338867,
          6.726806640625,
          6.402797698974609,
          6.6967058181762695,
          2.5748796463012695,
          7.3581953048706055,
          6.151113510131836,
          7.198156356811523,
          5.714101791381836,
          3.705084800720215,
          5.821999549865723,
          6.074345588684082,
          8.218091011047363,
          6.177482604980469,
          5.144753456115723,
          7.441753387451172,
          6.941327095031738,
          7.3785200119018555,
          3.619260787963867,
          3.5734987258911133,
          6.973264694213867,
          6.661949157714844,
          6.252630233764648,
          6.649195671081543,
          5.644148826599121,
          5.954911231994629,
          5.165166854858398,
          6.9186906814575195,
          6.7212371826171875,
          6.102292060852051,
          5.947118759155273,
          3.8362960815429688,
          3.2516536712646484,
          4.247465133666992,
          5.772457122802734,
          6.855345726013184,
          5.044436454772949,
          6.847171783447266,
          6.282322883605957,
          5.7913713455200195,
          4.74513053894043,
          6.275874137878418,
          5.238100051879883,
          5.878933906555176,
          6.580855369567871,
          1.4459714889526367,
          6.438755989074707,
          5.999760627746582,
          5.476339340209961,
          6.445371627807617,
          0.6360006332397461,
          2.860179901123047,
          2.7805376052856445,
          4.3697614669799805,
          2.692654609680176,
          6.297907829284668,
          3.7733802795410156,
          3.6715450286865234,
          6.608572959899902,
          5.579253196716309,
          6.476881980895996,
          3.495790481567383,
          2.967963695526123,
          6.900921821594238,
          5.878849029541016,
          6.223644256591797,
          6.200723648071289,
          6.630237579345703,
          5.63906192779541,
          5.80935001373291,
          6.65230655670166,
          6.1363325119018555,
          3.7686939239501953,
          3.4777984619140625,
          6.607324600219727,
          4.1387481689453125,
          6.497916221618652,
          4.050806045532227,
          5.399859428405762,
          6.592013359069824,
          6.385527610778809,
          3.487825393676758,
          3.802511215209961,
          3.0050477981567383,
          3.390981674194336,
          3.5351858139038086,
          3.4429025650024414,
          4.013643264770508,
          2.864485740661621,
          6.716953277587891,
          6.183269500732422,
          3.83151912689209,
          6.661433219909668,
          4.297723770141602,
          5.761021614074707,
          6.3559417724609375,
          5.022635459899902,
          5.9289655685424805,
          5.529623985290527,
          6.061798095703125,
          4.134640693664551,
          3.8003311157226562,
          3.9007883071899414,
          4.046754837036133,
          3.033663749694824,
          3.7096052169799805,
          6.096514701843262,
          6.716536521911621,
          2.486085891723633,
          3.3949451446533203,
          3.304311752319336,
          2.796619415283203,
          6.755485534667969,
          7.006472587585449,
          6.302502632141113,
          5.917579650878906,
          6.427604675292969,
          4.752514839172363,
          5.717096328735352,
          4.695991516113281,
          6.068325996398926,
          6.876903533935547,
          5.993206024169922,
          6.885332107543945,
          5.682007789611816,
          7.407835960388184,
          4.890093803405762,
          6.469200134277344,
          7.008139610290527,
          6.0811357498168945,
          3.6805429458618164,
          7.119332313537598,
          6.653923034667969,
          5.773102760314941,
          5.596329689025879,
          3.1316909790039062,
          5.7207136154174805,
          2.8747243881225586,
          5.800407409667969,
          5.585680961608887,
          3.770623207092285,
          6.498673439025879,
          3.7374744415283203,
          6.789079666137695,
          5.9584856033325195,
          2.8895702362060547,
          2.7133684158325195,
          6.845380783081055,
          7.012487411499023,
          6.7378129959106445,
          5.047246932983398,
          6.949738502502441,
          4.645512580871582,
          5.102724075317383,
          3.757695198059082,
          3.7824764251708984,
          2.8735055923461914,
          5.556572914123535,
          4.937338829040527,
          6.6772356033325195,
          5.813512802124023,
          5.712339401245117,
          3.578333854675293,
          2.88519287109375,
          6.112085342407227,
          5.41738224029541,
          7.779392242431641,
          6.482176780700684,
          6.852766990661621,
          3.4284210205078125,
          2.829948902130127,
          6.190877914428711,
          6.812832832336426,
          7.499258995056152,
          6.592197418212891,
          7.295244216918945,
          7.270551681518555,
          3.011319160461426,
          6.0868120193481445,
          6.200669288635254,
          3.6166601181030273,
          6.406096458435059,
          5.41639518737793,
          5.080589294433594,
          1.6968650817871094,
          4.628013610839844,
          5.441960334777832,
          6.228255271911621,
          6.2791900634765625,
          5.969217300415039,
          5.7805681228637695,
          2.266484260559082,
          6.268154144287109,
          5.773977279663086,
          6.199766159057617,
          5.720253944396973,
          6.443394660949707,
          3.128282070159912,
          3.294407844543457,
          4.459190368652344,
          2.867344856262207,
          3.2323479652404785,
          5.877790451049805,
          3.755990982055664,
          5.607993125915527,
          3.1427249908447266,
          5.9010820388793945,
          4.7049455642700195,
          6.574247360229492,
          3.730605125427246,
          3.444197654724121,
          2.9422078132629395,
          6.494695663452148,
          2.9606876373291016,
          2.9507246017456055,
          4.396410942077637,
          6.539029121398926,
          6.519909858703613,
          6.77210807800293,
          6.090506553649902,
          3.543161392211914,
          3.377139091491699,
          2.8996944427490234,
          5.692126274108887,
          2.9078216552734375,
          6.366870880126953,
          3.68795108795166,
          6.738861083984375,
          3.124753952026367,
          2.313957691192627,
          2.5686397552490234,
          5.779384613037109,
          5.439885139465332,
          3.649627685546875,
          2.9348459243774414,
          6.214504241943359,
          6.189935684204102,
          3.0901947021484375,
          3.355280876159668,
          6.097257614135742,
          5.353156089782715,
          3.9222869873046875,
          2.5709352493286133,
          3.4139957427978516,
          4.06131649017334,
          3.8242673873901367,
          6.816326141357422,
          3.337216854095459,
          2.342951774597168,
          1.7690067291259766,
          5.432258605957031,
          6.487194061279297,
          5.614689826965332,
          3.327007293701172,
          2.8866729736328125,
          4.936908721923828,
          6.224157333374023,
          4.229246139526367,
          4.963893890380859,
          4.349031448364258,
          5.945343971252441,
          2.883502960205078,
          5.7809648513793945,
          6.442708969116211,
          3.7666797637939453,
          7.455613136291504,
          3.612490653991699,
          4.159195899963379,
          7.09609317779541,
          5.044487953186035,
          3.5885696411132812,
          2.41471004486084,
          3.6664037704467773,
          2.9747390747070312,
          5.852097511291504,
          3.8106584548950195,
          4.210803031921387,
          3.810445785522461,
          3.386098861694336,
          3.9974775314331055,
          6.5369367599487305,
          5.846157073974609,
          2.813488006591797,
          3.487318992614746,
          5.382254600524902,
          5.696935653686523,
          3.898562431335449,
          2.4450325965881348,
          2.522686004638672,
          3.8244123458862305,
          4.510516166687012,
          6.118529319763184,
          4.723208427429199,
          4.602093696594238,
          3.7179431915283203,
          6.2192277908325195,
          5.316241264343262,
          6.365872383117676,
          5.335887908935547,
          5.91312313079834,
          6.407812118530273,
          6.199711799621582,
          5.679476737976074,
          2.5610666275024414,
          2.321399688720703,
          5.68634033203125,
          3.0924224853515625,
          1.4343070983886719,
          3.368046760559082,
          6.718602180480957,
          5.2124786376953125,
          3.838372230529785,
          3.648858070373535,
          5.057408332824707,
          7.648525238037109,
          5.052238464355469,
          3.6895742416381836,
          3.628253936767578,
          5.985483169555664,
          6.162313461303711,
          3.571873664855957,
          3.7085838317871094,
          2.2651824951171875,
          3.56414794921875,
          4.050815582275391,
          5.667534828186035,
          4.432162284851074,
          3.545907974243164,
          2.6333885192871094,
          6.651862144470215,
          5.2368268966674805,
          6.1447601318359375,
          4.51164436340332,
          4.515511512756348,
          3.2188339233398438,
          4.1321611404418945,
          6.4916582107543945,
          6.6500139236450195,
          5.065926551818848,
          3.5312299728393555,
          5.578330039978027,
          4.645939826965332,
          2.575627326965332,
          3.6140270233154297,
          1.6787776947021484,
          4.693709373474121,
          6.497516632080078,
          2.992677688598633,
          6.639300346374512,
          3.769317626953125,
          3.148771286010742,
          4.989297866821289,
          6.230831146240234,
          4.367502212524414,
          3.5831851959228516,
          2.306576728820801,
          3.70773983001709,
          2.7857160568237305,
          2.392454147338867,
          3.3670434951782227,
          2.6318893432617188,
          3.5286788940429688,
          4.4628143310546875,
          4.425258636474609,
          4.166505813598633,
          2.972991466522217,
          3.5619449615478516,
          6.309674263000488,
          3.313417434692383,
          3.98445987701416,
          5.264304161071777,
          1.6852645874023438,
          2.9593887329101562,
          6.892230987548828,
          1.8415842056274414,
          1.5309333801269531,
          3.477646827697754,
          5.58013916015625,
          5.986978530883789,
          5.154506683349609,
          4.11722469329834,
          1.768122673034668,
          2.6973767280578613,
          2.152961254119873,
          2.640547752380371,
          4.287135124206543,
          3.294825553894043,
          2.6412696838378906,
          6.2498321533203125,
          3.8169384002685547,
          5.910962104797363,
          2.9300966262817383,
          6.430767059326172,
          5.689889907836914,
          5.301185607910156,
          3.150951862335205,
          5.2489519119262695,
          4.265220642089844,
          6.224199295043945,
          8.113236427307129,
          3.582164764404297,
          6.705166816711426,
          4.076590538024902,
          2.9424076080322266,
          3.5893163681030273,
          3.3216075897216797,
          4.958573341369629,
          5.337847709655762,
          3.6464157104492188,
          3.6687660217285156,
          4.137120246887207,
          3.7815780639648438,
          3.544491767883301,
          6.940279006958008,
          4.952386856079102,
          4.943896293640137,
          4.333881378173828,
          5.36981201171875,
          3.387920379638672,
          6.120318412780762,
          3.6236085891723633,
          3.9222869873046875,
          3.657526969909668,
          2.5756711959838867,
          4.844755172729492,
          3.4837818145751953,
          5.627458572387695,
          1.5420827865600586,
          2.8166446685791016,
          3.5949478149414062,
          2.8392810821533203,
          4.222055435180664,
          7.610903739929199,
          5.731752395629883,
          6.24485969543457,
          3.828470230102539,
          3.8003311157226562,
          6.6202192306518555,
          3.961139678955078,
          2.9606876373291016,
          2.291614532470703,
          4.138715744018555,
          3.871941566467285,
          4.105628967285156,
          5.676923751831055,
          1.8010025024414062,
          4.867274284362793,
          6.839820861816406,
          2.528209686279297,
          4.084782600402832,
          3.801558494567871,
          3.926173210144043,
          3.0614919662475586,
          3.405299186706543,
          3.9294471740722656,
          2.9257726669311523,
          5.013345718383789,
          1.867462158203125,
          3.2352542877197266,
          6.547223091125488,
          3.6772632598876953,
          1.7384624481201172,
          6.244162559509277,
          3.037017822265625,
          5.819808006286621,
          1.7869014739990234,
          3.2114601135253906,
          2.661007881164551,
          3.070834159851074,
          4.888832092285156,
          3.606001853942871,
          3.7170352935791016,
          3.356851577758789,
          3.2153520584106445,
          6.891607284545898,
          6.214785575866699,
          6.343732833862305,
          3.579263687133789,
          5.069969177246094,
          4.037650108337402,
          2.2423458099365234,
          3.996793746948242,
          6.548404693603516,
          5.887774467468262,
          2.8895702362060547,
          2.4137439727783203,
          5.035273551940918,
          5.613707542419434,
          6.651137351989746,
          6.544881820678711,
          2.9606876373291016,
          1.9438838958740234,
          3.682257652282715,
          4.120243072509766,
          5.574755668640137,
          3.7268524169921875,
          3.703634262084961,
          3.5090761184692383,
          2.3588552474975586,
          3.61199951171875,
          2.1555957794189453,
          2.9941015243530273,
          3.877317428588867,
          1.9591093063354492,
          4.492763519287109,
          3.402867317199707,
          2.869293212890625,
          3.1758885383605957,
          6.5121049880981445,
          5.661847114562988,
          3.954618453979492,
          3.5495338439941406,
          2.4745101928710938,
          2.411299705505371,
          4.264233589172363,
          2.5990371704101562,
          1.4563703536987305,
          3.196563720703125,
          3.8556365966796875,
          5.99370002746582,
          3.7280893325805664,
          3.5681533813476562,
          4.368900299072266,
          3.2402782440185547,
          3.4410228729248047,
          2.431942939758301,
          3.5726852416992188,
          3.783463478088379,
          4.710439682006836,
          3.2813167572021484,
          3.62237548828125,
          5.570469856262207,
          4.568464279174805,
          3.5061492919921875,
          7.31252384185791,
          3.577146530151367,
          5.408843994140625,
          4.040842056274414,
          7.212370872497559,
          3.01760196685791,
          2.298616409301758,
          5.165027618408203,
          3.0881128311157227,
          6.797994613647461,
          4.279229164123535,
          2.640547752380371,
          4.024374008178711,
          1.5804529190063477,
          4.843062400817871,
          3.0146617889404297,
          6.201826095581055,
          5.412858963012695,
          4.185233116149902,
          4.378796577453613,
          2.243619918823242,
          2.075076103210449,
          3.883047103881836,
          4.272026062011719,
          4.308236122131348,
          6.238212585449219,
          2.342951774597168,
          4.1596574783325195,
          3.894589424133301,
          2.9292144775390625,
          3.597431182861328,
          4.844386100769043,
          5.024409294128418,
          1.7715120315551758,
          4.729404449462891,
          3.109713554382324,
          3.248824119567871,
          4.743456840515137,
          6.920001029968262,
          3.1753358840942383,
          4.2672319412231445,
          5.9559831619262695,
          3.197359085083008,
          3.1349925994873047,
          3.6529111862182617,
          5.237483024597168,
          4.566064834594727,
          5.986263275146484,
          6.077058792114258,
          3.894589424133301,
          3.774658203125,
          3.5327720642089844,
          4.023065567016602,
          3.9548730850219727,
          3.9222869873046875,
          2.23360538482666,
          6.0474653244018555,
          5.329995155334473,
          4.476414680480957,
          2.1241369247436523,
          3.04856014251709,
          5.584280967712402,
          5.336740493774414,
          1.314988136291504,
          6.109770774841309,
          3.9222869873046875,
          3.845597267150879,
          2.528209686279297,
          6.657740592956543,
          3.47841739654541,
          2.639986991882324,
          2.6602277755737305,
          6.953017234802246,
          3.8362960815429688,
          3.974471092224121,
          3.7744274139404297,
          2.7355480194091797,
          3.9222869873046875,
          5.954595565795898,
          4.349640846252441,
          1.2916231155395508,
          3.247600555419922,
          1.6678104400634766,
          5.524885177612305,
          2.528209686279297,
          4.014347076416016,
          5.4148054122924805,
          3.5624074935913086,
          5.2124786376953125,
          4.109891891479492,
          6.103200912475586,
          2.394534111022949,
          3.4368953704833984,
          3.3997344970703125,
          4.6306915283203125,
          3.84989070892334,
          4.012932777404785,
          2.7074508666992188,
          3.239421844482422,
          3.1879358291625977,
          2.9606876373291016,
          2.4559855461120605,
          6.083617210388184,
          2.4769277572631836,
          2.870260238647461,
          4.390361785888672,
          3.215709686279297,
          3.469158172607422,
          2.9161319732666016,
          2.41599178314209,
          4.40266227722168,
          3.613705635070801,
          2.98745059967041,
          7.133447647094727,
          5.050429344177246,
          2.7260007858276367,
          2.977619171142578,
          2.12961483001709,
          2.2423458099365234,
          2.6650772094726562,
          2.4391231536865234,
          3.906571388244629,
          5.739707946777344,
          2.44136905670166,
          4.7057647705078125,
          4.28050422668457,
          2.604863166809082,
          3.66757869720459,
          4.846771240234375,
          3.604738235473633,
          4.321071624755859,
          2.710359573364258,
          2.806210517883301,
          3.614436149597168,
          2.732564926147461,
          3.4184951782226562,
          3.5094480514526367,
          5.0906572341918945,
          3.754129409790039,
          3.536855697631836,
          3.469236373901367,
          6.128629684448242,
          2.836806297302246,
          2.758397102355957,
          2.44136905670166,
          2.8493738174438477,
          4.98710823059082,
          4.784997940063477,
          6.519562721252441,
          2.483464241027832,
          4.902254104614258,
          5.231060028076172,
          2.6399240493774414,
          5.200372695922852,
          6.053232192993164,
          4.92439079284668,
          6.0693464279174805,
          3.837705612182617,
          2.869293212890625,
          2.9606876373291016,
          2.9428482055664062,
          5.551847457885742,
          4.028996467590332,
          3.206557273864746,
          3.512775421142578,
          3.6435508728027344,
          4.856219291687012,
          3.1501989364624023,
          3.501262664794922,
          3.674112319946289,
          6.204486846923828,
          6.006614685058594,
          2.968599319458008,
          3.2489700317382812,
          5.173555374145508,
          3.413254737854004,
          4.281009674072266,
          3.913463592529297,
          3.033663749694824,
          2.925015449523926,
          2.3637895584106445,
          5.010105133056641,
          3.669131278991699,
          5.69273567199707,
          3.091665267944336,
          3.8238067626953125,
          3.5243139266967773,
          2.9050521850585938,
          5.243897438049316,
          4.314562797546387,
          2.3187294006347656,
          2.8895702362060547,
          4.057500839233398,
          1.2954702377319336,
          2.2058115005493164,
          2.298616409301758,
          4.3231096267700195,
          6.552996635437012,
          1.981546401977539,
          3.4154911041259766,
          3.129580497741699,
          3.6920299530029297,
          3.284947395324707,
          1.9996232986450195,
          2.2239866256713867,
          3.8362960815429688,
          3.4410839080810547,
          2.5006542205810547,
          3.178786277770996,
          6.851675033569336,
          3.236495018005371,
          2.397127151489258,
          5.107030868530273,
          3.675447463989258,
          4.023065567016602,
          3.830097198486328,
          2.6786746978759766,
          5.124680519104004,
          3.305509567260742,
          6.435747146606445,
          4.817785263061523,
          3.060299873352051,
          5.809003829956055,
          4.399449348449707,
          1.7211370468139648,
          4.963893890380859,
          3.696683883666992,
          4.404603958129883,
          3.756803512573242,
          2.4559855461120605,
          3.3387451171875,
          2.640547752380371,
          3.3636817932128906,
          2.4689064025878906,
          3.7849559783935547,
          3.9222869873046875,
          4.423816680908203,
          4.423816680908203,
          3.7002105712890625,
          5.63264274597168,
          3.1097278594970703,
          2.9606876373291016,
          4.877161026000977,
          4.330046653747559,
          2.4559855461120605,
          3.413254737854004,
          2.8895702362060547,
          1.593557357788086,
          3.4146194458007812,
          2.838327407836914,
          2.3588552474975586,
          1.573338508605957,
          2.603724479675293,
          4.02764892578125,
          2.161060333251953,
          4.645538330078125,
          5.24660587310791,
          2.1324920654296875,
          2.3635988235473633,
          3.1421403884887695,
          2.858489990234375,
          5.815007209777832,
          4.190842628479004,
          3.2167768478393555,
          4.115840911865234,
          3.7022104263305664,
          3.8186511993408203,
          3.748997688293457,
          3.297170639038086,
          4.008676528930664,
          3.622203826904297,
          3.906571388244629,
          2.735102653503418,
          3.152707099914551,
          5.735997200012207,
          3.474907875061035,
          4.679182052612305,
          3.974471092224121,
          2.8895702362060547,
          2.774354934692383,
          4.023065567016602,
          2.816427230834961,
          2.4559855461120605,
          3.9704933166503906,
          2.9108924865722656,
          1.622274398803711,
          2.291614532470703,
          6.123498916625977,
          2.8895702362060547,
          5.730079650878906,
          2.8738012313842773,
          2.3170738220214844,
          1.8629980087280273,
          4.533829689025879,
          2.8656368255615234,
          3.6003761291503906,
          3.834625244140625,
          4.250136375427246,
          4.039614677429199,
          3.0697879791259766,
          3.0697879791259766,
          2.3561134338378906,
          2.9606876373291016,
          1.7060537338256836,
          3.9222869873046875,
          1.4941692352294922,
          3.1625986099243164,
          1.3534822463989258,
          3.504444122314453,
          5.050429344177246,
          6.13461971282959,
          1.9996232986450195,
          3.108684539794922,
          3.3341007232666016,
          3.797837257385254,
          3.0961380004882812,
          3.279801368713379,
          4.22075080871582,
          3.600926399230957,
          2.4429502487182617,
          2.968301773071289,
          4.569945335388184,
          3.4508190155029297,
          2.618368148803711,
          2.440526008605957,
          2.410951614379883,
          2.2234582901000977,
          3.070834159851074,
          3.072817802429199,
          2.5659685134887695,
          2.5855703353881836,
          1.8922429084777832,
          1.731921672821045,
          2.8720884323120117,
          2.57828426361084,
          2.8895702362060547,
          3.635385513305664,
          1.9949350357055664,
          2.744150161743164,
          3.5745086669921875,
          2.869293212890625,
          5.4790449142456055,
          2.4559855461120605,
          3.10001277923584,
          4.181238174438477,
          2.223682403564453,
          3.827573776245117,
          6.374444961547852,
          3.974471092224121,
          5.63264274597168,
          4.504003524780273,
          2.4559855461120605,
          3.176558494567871,
          3.5431575775146484,
          1.5867805480957031,
          2.9842634201049805,
          2.9606876373291016,
          3.1737613677978516,
          4.28050422668457,
          2.752227783203125,
          2.9606876373291016,
          3.175827980041504,
          3.1246986389160156,
          2.394534111022949,
          3.04251766204834,
          4.304220199584961,
          3.2548227310180664,
          3.675447463989258,
          1.8642158508300781,
          2.397491455078125,
          3.8825674057006836,
          6.172987937927246,
          4.055178642272949,
          4.197305679321289,
          2.4559855461120605,
          4.211525917053223,
          3.0788650512695312,
          2.2234582901000977,
          2.342951774597168,
          2.91062068939209,
          3.5325498580932617,
          2.027109146118164,
          2.3170738220214844,
          3.429020881652832,
          2.5856094360351562,
          2.3041038513183594,
          2.8933753967285156,
          4.725545883178711,
          2.4388465881347656,
          2.170651435852051,
          3.136566162109375,
          3.446043014526367,
          2.3019752502441406,
          3.7624759674072266,
          2.9518423080444336,
          2.869293212890625,
          4.373600006103516,
          2.056990623474121,
          2.1449851989746094,
          2.397359848022461,
          2.483464241027832,
          3.5831851959228516,
          2.3588552474975586,
          3.5618133544921875,
          3.3290929794311523,
          1.9123296737670898,
          3.5893163681030273,
          2.640547752380371,
          4.426079750061035,
          2.4095888137817383,
          2.6474266052246094,
          3.635385513305664,
          2.4520187377929688,
          3.1748170852661133,
          2.3598556518554688,
          3.0697879791259766,
          3.060299873352051,
          2.298616409301758,
          1.880202293395996,
          2.922795295715332,
          3.3554248809814453,
          3.091665267944336,
          3.2898998260498047,
          3.1863222122192383,
          3.2435874938964844,
          7.2028656005859375,
          2.6694469451904297,
          3.3465614318847656,
          2.9606876373291016,
          3.188979148864746,
          3.906571388244629,
          1.669642448425293,
          2.3588552474975586,
          2.3429832458496094,
          5.315187454223633,
          3.288747787475586,
          3.906571388244629,
          2.442340850830078,
          3.1820459365844727,
          1.4409313201904297,
          3.722951889038086,
          2.383087158203125,
          3.906571388244629,
          2.359111785888672,
          2.7697954177856445,
          2.3561134338378906,
          2.342951774597168,
          2.6797122955322266,
          3.423855781555176,
          2.3588552474975586,
          2.8895702362060547,
          3.9007978439331055,
          2.8895702362060547,
          3.9700212478637695,
          1.8922429084777832,
          3.286557197570801,
          2.795185089111328,
          2.3429832458496094,
          3.0697879791259766,
          3.091665267944336,
          2.3588552474975586,
          3.30080509185791,
          2.4078969955444336,
          1.466928482055664,
          2.8895702362060547,
          3.675447463989258,
          3.847527503967285,
          1.5984926223754883,
          3.656879425048828,
          4.28050422668457,
          3.8066625595092773,
          2.298616409301758,
          3.295729637145996,
          3.124762535095215,
          2.261092185974121,
          2.8895702362060547,
          3.2467784881591797,
          3.30080509185791,
          2.342951774597168,
          2.4709835052490234,
          2.8374528884887695,
          2.7369937896728516,
          2.9606876373291016,
          2.4559855461120605,
          2.8738012313842773,
          2.4207706451416016,
          3.127985954284668,
          2.379927635192871,
          3.0978336334228516,
          2.4559855461120605,
          3.4946823120117188,
          2.347553253173828,
          3.47036075592041,
          2.517487049102783,
          3.2782678604125977,
          2.4078969955444336,
          4.0925092697143555,
          2.9606876373291016,
          2.990579605102539,
          3.906571388244629,
          2.9108924865722656,
          2.298616409301758,
          4.052849769592285,
          2.4559855461120605,
          3.259397506713867,
          1.598160743713379,
          3.2548227310180664,
          3.906571388244629,
          3.635385513305664,
          1.6052141189575195,
          3.2490339279174805,
          2.4095888137817383,
          2.9778337478637695,
          2.3588552474975586,
          3.906571388244629,
          3.906571388244629,
          2.8895702362060547,
          3.048704147338867,
          3.2721147537231445,
          3.635385513305664,
          3.2490339279174805,
          2.4709835052490234,
          3.2548227310180664,
          3.1688385009765625,
          2.4559855461120605,
          4.28050422668457,
          2.7564697265625,
          2.8895702362060547,
          3.423855781555176,
          2.342951774597168,
          3.2435874938964844,
          2.4559855461120605,
          2.3637895584106445,
          3.0510759353637695,
          2.6081295013427734,
          3.052029609680176,
          3.2726478576660156,
          2.8895702362060547,
          2.3588552474975586,
          2.4559855461120605,
          2.6786746978759766,
          2.23819637298584,
          2.963841438293457,
          3.906571388244629,
          3.906571388244629
         ]
        }
       ],
       "layout": {
        "font": {
         "size": 30
        },
        "paper_bgcolor": "white",
        "plot_bgcolor": "white",
        "template": {
         "data": {
          "bar": [
           {
            "error_x": {
             "color": "#2a3f5f"
            },
            "error_y": {
             "color": "#2a3f5f"
            },
            "marker": {
             "line": {
              "color": "#E5ECF6",
              "width": 0.5
             },
             "pattern": {
              "fillmode": "overlay",
              "size": 10,
              "solidity": 0.2
             }
            },
            "type": "bar"
           }
          ],
          "barpolar": [
           {
            "marker": {
             "line": {
              "color": "#E5ECF6",
              "width": 0.5
             },
             "pattern": {
              "fillmode": "overlay",
              "size": 10,
              "solidity": 0.2
             }
            },
            "type": "barpolar"
           }
          ],
          "carpet": [
           {
            "aaxis": {
             "endlinecolor": "#2a3f5f",
             "gridcolor": "white",
             "linecolor": "white",
             "minorgridcolor": "white",
             "startlinecolor": "#2a3f5f"
            },
            "baxis": {
             "endlinecolor": "#2a3f5f",
             "gridcolor": "white",
             "linecolor": "white",
             "minorgridcolor": "white",
             "startlinecolor": "#2a3f5f"
            },
            "type": "carpet"
           }
          ],
          "choropleth": [
           {
            "colorbar": {
             "outlinewidth": 0,
             "ticks": ""
            },
            "type": "choropleth"
           }
          ],
          "contour": [
           {
            "colorbar": {
             "outlinewidth": 0,
             "ticks": ""
            },
            "colorscale": [
             [
              0,
              "#0d0887"
             ],
             [
              0.1111111111111111,
              "#46039f"
             ],
             [
              0.2222222222222222,
              "#7201a8"
             ],
             [
              0.3333333333333333,
              "#9c179e"
             ],
             [
              0.4444444444444444,
              "#bd3786"
             ],
             [
              0.5555555555555556,
              "#d8576b"
             ],
             [
              0.6666666666666666,
              "#ed7953"
             ],
             [
              0.7777777777777778,
              "#fb9f3a"
             ],
             [
              0.8888888888888888,
              "#fdca26"
             ],
             [
              1,
              "#f0f921"
             ]
            ],
            "type": "contour"
           }
          ],
          "contourcarpet": [
           {
            "colorbar": {
             "outlinewidth": 0,
             "ticks": ""
            },
            "type": "contourcarpet"
           }
          ],
          "heatmap": [
           {
            "colorbar": {
             "outlinewidth": 0,
             "ticks": ""
            },
            "colorscale": [
             [
              0,
              "#0d0887"
             ],
             [
              0.1111111111111111,
              "#46039f"
             ],
             [
              0.2222222222222222,
              "#7201a8"
             ],
             [
              0.3333333333333333,
              "#9c179e"
             ],
             [
              0.4444444444444444,
              "#bd3786"
             ],
             [
              0.5555555555555556,
              "#d8576b"
             ],
             [
              0.6666666666666666,
              "#ed7953"
             ],
             [
              0.7777777777777778,
              "#fb9f3a"
             ],
             [
              0.8888888888888888,
              "#fdca26"
             ],
             [
              1,
              "#f0f921"
             ]
            ],
            "type": "heatmap"
           }
          ],
          "heatmapgl": [
           {
            "colorbar": {
             "outlinewidth": 0,
             "ticks": ""
            },
            "colorscale": [
             [
              0,
              "#0d0887"
             ],
             [
              0.1111111111111111,
              "#46039f"
             ],
             [
              0.2222222222222222,
              "#7201a8"
             ],
             [
              0.3333333333333333,
              "#9c179e"
             ],
             [
              0.4444444444444444,
              "#bd3786"
             ],
             [
              0.5555555555555556,
              "#d8576b"
             ],
             [
              0.6666666666666666,
              "#ed7953"
             ],
             [
              0.7777777777777778,
              "#fb9f3a"
             ],
             [
              0.8888888888888888,
              "#fdca26"
             ],
             [
              1,
              "#f0f921"
             ]
            ],
            "type": "heatmapgl"
           }
          ],
          "histogram": [
           {
            "marker": {
             "pattern": {
              "fillmode": "overlay",
              "size": 10,
              "solidity": 0.2
             }
            },
            "type": "histogram"
           }
          ],
          "histogram2d": [
           {
            "colorbar": {
             "outlinewidth": 0,
             "ticks": ""
            },
            "colorscale": [
             [
              0,
              "#0d0887"
             ],
             [
              0.1111111111111111,
              "#46039f"
             ],
             [
              0.2222222222222222,
              "#7201a8"
             ],
             [
              0.3333333333333333,
              "#9c179e"
             ],
             [
              0.4444444444444444,
              "#bd3786"
             ],
             [
              0.5555555555555556,
              "#d8576b"
             ],
             [
              0.6666666666666666,
              "#ed7953"
             ],
             [
              0.7777777777777778,
              "#fb9f3a"
             ],
             [
              0.8888888888888888,
              "#fdca26"
             ],
             [
              1,
              "#f0f921"
             ]
            ],
            "type": "histogram2d"
           }
          ],
          "histogram2dcontour": [
           {
            "colorbar": {
             "outlinewidth": 0,
             "ticks": ""
            },
            "colorscale": [
             [
              0,
              "#0d0887"
             ],
             [
              0.1111111111111111,
              "#46039f"
             ],
             [
              0.2222222222222222,
              "#7201a8"
             ],
             [
              0.3333333333333333,
              "#9c179e"
             ],
             [
              0.4444444444444444,
              "#bd3786"
             ],
             [
              0.5555555555555556,
              "#d8576b"
             ],
             [
              0.6666666666666666,
              "#ed7953"
             ],
             [
              0.7777777777777778,
              "#fb9f3a"
             ],
             [
              0.8888888888888888,
              "#fdca26"
             ],
             [
              1,
              "#f0f921"
             ]
            ],
            "type": "histogram2dcontour"
           }
          ],
          "mesh3d": [
           {
            "colorbar": {
             "outlinewidth": 0,
             "ticks": ""
            },
            "type": "mesh3d"
           }
          ],
          "parcoords": [
           {
            "line": {
             "colorbar": {
              "outlinewidth": 0,
              "ticks": ""
             }
            },
            "type": "parcoords"
           }
          ],
          "pie": [
           {
            "automargin": true,
            "type": "pie"
           }
          ],
          "scatter": [
           {
            "fillpattern": {
             "fillmode": "overlay",
             "size": 10,
             "solidity": 0.2
            },
            "type": "scatter"
           }
          ],
          "scatter3d": [
           {
            "line": {
             "colorbar": {
              "outlinewidth": 0,
              "ticks": ""
             }
            },
            "marker": {
             "colorbar": {
              "outlinewidth": 0,
              "ticks": ""
             }
            },
            "type": "scatter3d"
           }
          ],
          "scattercarpet": [
           {
            "marker": {
             "colorbar": {
              "outlinewidth": 0,
              "ticks": ""
             }
            },
            "type": "scattercarpet"
           }
          ],
          "scattergeo": [
           {
            "marker": {
             "colorbar": {
              "outlinewidth": 0,
              "ticks": ""
             }
            },
            "type": "scattergeo"
           }
          ],
          "scattergl": [
           {
            "marker": {
             "colorbar": {
              "outlinewidth": 0,
              "ticks": ""
             }
            },
            "type": "scattergl"
           }
          ],
          "scattermapbox": [
           {
            "marker": {
             "colorbar": {
              "outlinewidth": 0,
              "ticks": ""
             }
            },
            "type": "scattermapbox"
           }
          ],
          "scatterpolar": [
           {
            "marker": {
             "colorbar": {
              "outlinewidth": 0,
              "ticks": ""
             }
            },
            "type": "scatterpolar"
           }
          ],
          "scatterpolargl": [
           {
            "marker": {
             "colorbar": {
              "outlinewidth": 0,
              "ticks": ""
             }
            },
            "type": "scatterpolargl"
           }
          ],
          "scatterternary": [
           {
            "marker": {
             "colorbar": {
              "outlinewidth": 0,
              "ticks": ""
             }
            },
            "type": "scatterternary"
           }
          ],
          "surface": [
           {
            "colorbar": {
             "outlinewidth": 0,
             "ticks": ""
            },
            "colorscale": [
             [
              0,
              "#0d0887"
             ],
             [
              0.1111111111111111,
              "#46039f"
             ],
             [
              0.2222222222222222,
              "#7201a8"
             ],
             [
              0.3333333333333333,
              "#9c179e"
             ],
             [
              0.4444444444444444,
              "#bd3786"
             ],
             [
              0.5555555555555556,
              "#d8576b"
             ],
             [
              0.6666666666666666,
              "#ed7953"
             ],
             [
              0.7777777777777778,
              "#fb9f3a"
             ],
             [
              0.8888888888888888,
              "#fdca26"
             ],
             [
              1,
              "#f0f921"
             ]
            ],
            "type": "surface"
           }
          ],
          "table": [
           {
            "cells": {
             "fill": {
              "color": "#EBF0F8"
             },
             "line": {
              "color": "white"
             }
            },
            "header": {
             "fill": {
              "color": "#C8D4E3"
             },
             "line": {
              "color": "white"
             }
            },
            "type": "table"
           }
          ]
         },
         "layout": {
          "annotationdefaults": {
           "arrowcolor": "#2a3f5f",
           "arrowhead": 0,
           "arrowwidth": 1
          },
          "autotypenumbers": "strict",
          "coloraxis": {
           "colorbar": {
            "outlinewidth": 0,
            "ticks": ""
           }
          },
          "colorscale": {
           "diverging": [
            [
             0,
             "#8e0152"
            ],
            [
             0.1,
             "#c51b7d"
            ],
            [
             0.2,
             "#de77ae"
            ],
            [
             0.3,
             "#f1b6da"
            ],
            [
             0.4,
             "#fde0ef"
            ],
            [
             0.5,
             "#f7f7f7"
            ],
            [
             0.6,
             "#e6f5d0"
            ],
            [
             0.7,
             "#b8e186"
            ],
            [
             0.8,
             "#7fbc41"
            ],
            [
             0.9,
             "#4d9221"
            ],
            [
             1,
             "#276419"
            ]
           ],
           "sequential": [
            [
             0,
             "#0d0887"
            ],
            [
             0.1111111111111111,
             "#46039f"
            ],
            [
             0.2222222222222222,
             "#7201a8"
            ],
            [
             0.3333333333333333,
             "#9c179e"
            ],
            [
             0.4444444444444444,
             "#bd3786"
            ],
            [
             0.5555555555555556,
             "#d8576b"
            ],
            [
             0.6666666666666666,
             "#ed7953"
            ],
            [
             0.7777777777777778,
             "#fb9f3a"
            ],
            [
             0.8888888888888888,
             "#fdca26"
            ],
            [
             1,
             "#f0f921"
            ]
           ],
           "sequentialminus": [
            [
             0,
             "#0d0887"
            ],
            [
             0.1111111111111111,
             "#46039f"
            ],
            [
             0.2222222222222222,
             "#7201a8"
            ],
            [
             0.3333333333333333,
             "#9c179e"
            ],
            [
             0.4444444444444444,
             "#bd3786"
            ],
            [
             0.5555555555555556,
             "#d8576b"
            ],
            [
             0.6666666666666666,
             "#ed7953"
            ],
            [
             0.7777777777777778,
             "#fb9f3a"
            ],
            [
             0.8888888888888888,
             "#fdca26"
            ],
            [
             1,
             "#f0f921"
            ]
           ]
          },
          "colorway": [
           "#636efa",
           "#EF553B",
           "#00cc96",
           "#ab63fa",
           "#FFA15A",
           "#19d3f3",
           "#FF6692",
           "#B6E880",
           "#FF97FF",
           "#FECB52"
          ],
          "font": {
           "color": "#2a3f5f"
          },
          "geo": {
           "bgcolor": "white",
           "lakecolor": "white",
           "landcolor": "#E5ECF6",
           "showlakes": true,
           "showland": true,
           "subunitcolor": "white"
          },
          "hoverlabel": {
           "align": "left"
          },
          "hovermode": "closest",
          "mapbox": {
           "style": "light"
          },
          "paper_bgcolor": "white",
          "plot_bgcolor": "#E5ECF6",
          "polar": {
           "angularaxis": {
            "gridcolor": "white",
            "linecolor": "white",
            "ticks": ""
           },
           "bgcolor": "#E5ECF6",
           "radialaxis": {
            "gridcolor": "white",
            "linecolor": "white",
            "ticks": ""
           }
          },
          "scene": {
           "xaxis": {
            "backgroundcolor": "#E5ECF6",
            "gridcolor": "white",
            "gridwidth": 2,
            "linecolor": "white",
            "showbackground": true,
            "ticks": "",
            "zerolinecolor": "white"
           },
           "yaxis": {
            "backgroundcolor": "#E5ECF6",
            "gridcolor": "white",
            "gridwidth": 2,
            "linecolor": "white",
            "showbackground": true,
            "ticks": "",
            "zerolinecolor": "white"
           },
           "zaxis": {
            "backgroundcolor": "#E5ECF6",
            "gridcolor": "white",
            "gridwidth": 2,
            "linecolor": "white",
            "showbackground": true,
            "ticks": "",
            "zerolinecolor": "white"
           }
          },
          "shapedefaults": {
           "line": {
            "color": "#2a3f5f"
           }
          },
          "ternary": {
           "aaxis": {
            "gridcolor": "white",
            "linecolor": "white",
            "ticks": ""
           },
           "baxis": {
            "gridcolor": "white",
            "linecolor": "white",
            "ticks": ""
           },
           "bgcolor": "#E5ECF6",
           "caxis": {
            "gridcolor": "white",
            "linecolor": "white",
            "ticks": ""
           }
          },
          "title": {
           "x": 0.05
          },
          "xaxis": {
           "automargin": true,
           "gridcolor": "white",
           "linecolor": "white",
           "ticks": "",
           "title": {
            "standoff": 15
           },
           "zerolinecolor": "white",
           "zerolinewidth": 2
          },
          "yaxis": {
           "automargin": true,
           "gridcolor": "white",
           "linecolor": "white",
           "ticks": "",
           "title": {
            "standoff": 15
           },
           "zerolinecolor": "white",
           "zerolinewidth": 2
          }
         }
        },
        "title": {
         "text": "Distribution of Difference In Nuclear Norms - GMI vs GMI+XM"
        },
        "xaxis": {
         "title": {
          "text": "Difference In Nuclear Norms - GMI vs GMI+XM"
         }
        },
        "yaxis": {
         "title": {
          "text": "Frequency"
         }
        }
       }
      },
      "text/html": [
       "<div>                            <div id=\"c87ece86-c2cf-4cf8-a68a-983f794e0871\" class=\"plotly-graph-div\" style=\"height:525px; width:100%;\"></div>            <script type=\"text/javascript\">                require([\"plotly\"], function(Plotly) {                    window.PLOTLYENV=window.PLOTLYENV || {};                                    if (document.getElementById(\"c87ece86-c2cf-4cf8-a68a-983f794e0871\")) {                    Plotly.newPlot(                        \"c87ece86-c2cf-4cf8-a68a-983f794e0871\",                        [{\"x\":[2.6542863845825195,5.076726913452148,5.806754112243652,6.946428298950195,6.344690322875977,5.346583366394043,4.2235212326049805,3.6511058807373047,6.474581718444824,5.105486869812012,6.885654449462891,6.013247489929199,5.607032775878906,6.839102745056152,6.219870567321777,6.271737098693848,6.240202903747559,4.37760066986084,6.744448661804199,6.747057914733887,5.504153251647949,6.220495223999023,5.732240676879883,6.434260368347168,5.005985736846924,3.3054447174072266,4.397324562072754,7.012327194213867,4.689802646636963,3.5933589935302734,3.49013614654541,6.428488731384277,6.350855827331543,6.458202362060547,7.413208961486816,6.609087944030762,6.930231094360352,6.359102249145508,6.77052116394043,3.4263954162597656,6.425159454345703,5.98867130279541,5.418604850769043,6.036637306213379,5.330204010009766,6.200081825256348,5.194327354431152,6.634832382202148,6.6368255615234375,5.447310447692871,5.568285942077637,6.897091865539551,4.914065361022949,6.596907615661621,5.217451572418213,7.044003486633301,5.350086212158203,6.958885192871094,5.751299858093262,6.399505615234375,6.411442756652832,7.227306365966797,5.543705940246582,5.939169883728027,6.189120292663574,7.6294145584106445,6.291447639465332,6.656511306762695,5.951647758483887,5.726199150085449,6.590673446655273,6.249372482299805,7.059299468994141,6.5343122482299805,6.454215049743652,6.66586971282959,4.448894500732422,2.8985419273376465,5.663233757019043,6.451469421386719,7.299459457397461,4.708192825317383,5.175046920776367,5.367110252380371,4.8859968185424805,6.604818344116211,6.928313255310059,5.643433570861816,7.036472320556641,6.27337646484375,6.645068168640137,4.280426979064941,5.477582931518555,5.762729644775391,5.892640113830566,5.740135192871094,6.5020246505737305,3.997150421142578,3.7287397384643555,7.22445011138916,3.918576240539551,4.111174583435059,5.605095863342285,3.4330978393554688,3.3662099838256836,5.8540754318237305,4.975996017456055,7.035032272338867,6.726806640625,6.402797698974609,6.6967058181762695,2.5748796463012695,7.3581953048706055,6.151113510131836,7.198156356811523,5.714101791381836,3.705084800720215,5.821999549865723,6.074345588684082,8.218091011047363,6.177482604980469,5.144753456115723,7.441753387451172,6.941327095031738,7.3785200119018555,3.619260787963867,3.5734987258911133,6.973264694213867,6.661949157714844,6.252630233764648,6.649195671081543,5.644148826599121,5.954911231994629,5.165166854858398,6.9186906814575195,6.7212371826171875,6.102292060852051,5.947118759155273,3.8362960815429688,3.2516536712646484,4.247465133666992,5.772457122802734,6.855345726013184,5.044436454772949,6.847171783447266,6.282322883605957,5.7913713455200195,4.74513053894043,6.275874137878418,5.238100051879883,5.878933906555176,6.580855369567871,1.4459714889526367,6.438755989074707,5.999760627746582,5.476339340209961,6.445371627807617,0.6360006332397461,2.860179901123047,2.7805376052856445,4.3697614669799805,2.692654609680176,6.297907829284668,3.7733802795410156,3.6715450286865234,6.608572959899902,5.579253196716309,6.476881980895996,3.495790481567383,2.967963695526123,6.900921821594238,5.878849029541016,6.223644256591797,6.200723648071289,6.630237579345703,5.63906192779541,5.80935001373291,6.65230655670166,6.1363325119018555,3.7686939239501953,3.4777984619140625,6.607324600219727,4.1387481689453125,6.497916221618652,4.050806045532227,5.399859428405762,6.592013359069824,6.385527610778809,3.487825393676758,3.802511215209961,3.0050477981567383,3.390981674194336,3.5351858139038086,3.4429025650024414,4.013643264770508,2.864485740661621,6.716953277587891,6.183269500732422,3.83151912689209,6.661433219909668,4.297723770141602,5.761021614074707,6.3559417724609375,5.022635459899902,5.9289655685424805,5.529623985290527,6.061798095703125,4.134640693664551,3.8003311157226562,3.9007883071899414,4.046754837036133,3.033663749694824,3.7096052169799805,6.096514701843262,6.716536521911621,2.486085891723633,3.3949451446533203,3.304311752319336,2.796619415283203,6.755485534667969,7.006472587585449,6.302502632141113,5.917579650878906,6.427604675292969,4.752514839172363,5.717096328735352,4.695991516113281,6.068325996398926,6.876903533935547,5.993206024169922,6.885332107543945,5.682007789611816,7.407835960388184,4.890093803405762,6.469200134277344,7.008139610290527,6.0811357498168945,3.6805429458618164,7.119332313537598,6.653923034667969,5.773102760314941,5.596329689025879,3.1316909790039062,5.7207136154174805,2.8747243881225586,5.800407409667969,5.585680961608887,3.770623207092285,6.498673439025879,3.7374744415283203,6.789079666137695,5.9584856033325195,2.8895702362060547,2.7133684158325195,6.845380783081055,7.012487411499023,6.7378129959106445,5.047246932983398,6.949738502502441,4.645512580871582,5.102724075317383,3.757695198059082,3.7824764251708984,2.8735055923461914,5.556572914123535,4.937338829040527,6.6772356033325195,5.813512802124023,5.712339401245117,3.578333854675293,2.88519287109375,6.112085342407227,5.41738224029541,7.779392242431641,6.482176780700684,6.852766990661621,3.4284210205078125,2.829948902130127,6.190877914428711,6.812832832336426,7.499258995056152,6.592197418212891,7.295244216918945,7.270551681518555,3.011319160461426,6.0868120193481445,6.200669288635254,3.6166601181030273,6.406096458435059,5.41639518737793,5.080589294433594,1.6968650817871094,4.628013610839844,5.441960334777832,6.228255271911621,6.2791900634765625,5.969217300415039,5.7805681228637695,2.266484260559082,6.268154144287109,5.773977279663086,6.199766159057617,5.720253944396973,6.443394660949707,3.128282070159912,3.294407844543457,4.459190368652344,2.867344856262207,3.2323479652404785,5.877790451049805,3.755990982055664,5.607993125915527,3.1427249908447266,5.9010820388793945,4.7049455642700195,6.574247360229492,3.730605125427246,3.444197654724121,2.9422078132629395,6.494695663452148,2.9606876373291016,2.9507246017456055,4.396410942077637,6.539029121398926,6.519909858703613,6.77210807800293,6.090506553649902,3.543161392211914,3.377139091491699,2.8996944427490234,5.692126274108887,2.9078216552734375,6.366870880126953,3.68795108795166,6.738861083984375,3.124753952026367,2.313957691192627,2.5686397552490234,5.779384613037109,5.439885139465332,3.649627685546875,2.9348459243774414,6.214504241943359,6.189935684204102,3.0901947021484375,3.355280876159668,6.097257614135742,5.353156089782715,3.9222869873046875,2.5709352493286133,3.4139957427978516,4.06131649017334,3.8242673873901367,6.816326141357422,3.337216854095459,2.342951774597168,1.7690067291259766,5.432258605957031,6.487194061279297,5.614689826965332,3.327007293701172,2.8866729736328125,4.936908721923828,6.224157333374023,4.229246139526367,4.963893890380859,4.349031448364258,5.945343971252441,2.883502960205078,5.7809648513793945,6.442708969116211,3.7666797637939453,7.455613136291504,3.612490653991699,4.159195899963379,7.09609317779541,5.044487953186035,3.5885696411132812,2.41471004486084,3.6664037704467773,2.9747390747070312,5.852097511291504,3.8106584548950195,4.210803031921387,3.810445785522461,3.386098861694336,3.9974775314331055,6.5369367599487305,5.846157073974609,2.813488006591797,3.487318992614746,5.382254600524902,5.696935653686523,3.898562431335449,2.4450325965881348,2.522686004638672,3.8244123458862305,4.510516166687012,6.118529319763184,4.723208427429199,4.602093696594238,3.7179431915283203,6.2192277908325195,5.316241264343262,6.365872383117676,5.335887908935547,5.91312313079834,6.407812118530273,6.199711799621582,5.679476737976074,2.5610666275024414,2.321399688720703,5.68634033203125,3.0924224853515625,1.4343070983886719,3.368046760559082,6.718602180480957,5.2124786376953125,3.838372230529785,3.648858070373535,5.057408332824707,7.648525238037109,5.052238464355469,3.6895742416381836,3.628253936767578,5.985483169555664,6.162313461303711,3.571873664855957,3.7085838317871094,2.2651824951171875,3.56414794921875,4.050815582275391,5.667534828186035,4.432162284851074,3.545907974243164,2.6333885192871094,6.651862144470215,5.2368268966674805,6.1447601318359375,4.51164436340332,4.515511512756348,3.2188339233398438,4.1321611404418945,6.4916582107543945,6.6500139236450195,5.065926551818848,3.5312299728393555,5.578330039978027,4.645939826965332,2.575627326965332,3.6140270233154297,1.6787776947021484,4.693709373474121,6.497516632080078,2.992677688598633,6.639300346374512,3.769317626953125,3.148771286010742,4.989297866821289,6.230831146240234,4.367502212524414,3.5831851959228516,2.306576728820801,3.70773983001709,2.7857160568237305,2.392454147338867,3.3670434951782227,2.6318893432617188,3.5286788940429688,4.4628143310546875,4.425258636474609,4.166505813598633,2.972991466522217,3.5619449615478516,6.309674263000488,3.313417434692383,3.98445987701416,5.264304161071777,1.6852645874023438,2.9593887329101562,6.892230987548828,1.8415842056274414,1.5309333801269531,3.477646827697754,5.58013916015625,5.986978530883789,5.154506683349609,4.11722469329834,1.768122673034668,2.6973767280578613,2.152961254119873,2.640547752380371,4.287135124206543,3.294825553894043,2.6412696838378906,6.2498321533203125,3.8169384002685547,5.910962104797363,2.9300966262817383,6.430767059326172,5.689889907836914,5.301185607910156,3.150951862335205,5.2489519119262695,4.265220642089844,6.224199295043945,8.113236427307129,3.582164764404297,6.705166816711426,4.076590538024902,2.9424076080322266,3.5893163681030273,3.3216075897216797,4.958573341369629,5.337847709655762,3.6464157104492188,3.6687660217285156,4.137120246887207,3.7815780639648438,3.544491767883301,6.940279006958008,4.952386856079102,4.943896293640137,4.333881378173828,5.36981201171875,3.387920379638672,6.120318412780762,3.6236085891723633,3.9222869873046875,3.657526969909668,2.5756711959838867,4.844755172729492,3.4837818145751953,5.627458572387695,1.5420827865600586,2.8166446685791016,3.5949478149414062,2.8392810821533203,4.222055435180664,7.610903739929199,5.731752395629883,6.24485969543457,3.828470230102539,3.8003311157226562,6.6202192306518555,3.961139678955078,2.9606876373291016,2.291614532470703,4.138715744018555,3.871941566467285,4.105628967285156,5.676923751831055,1.8010025024414062,4.867274284362793,6.839820861816406,2.528209686279297,4.084782600402832,3.801558494567871,3.926173210144043,3.0614919662475586,3.405299186706543,3.9294471740722656,2.9257726669311523,5.013345718383789,1.867462158203125,3.2352542877197266,6.547223091125488,3.6772632598876953,1.7384624481201172,6.244162559509277,3.037017822265625,5.819808006286621,1.7869014739990234,3.2114601135253906,2.661007881164551,3.070834159851074,4.888832092285156,3.606001853942871,3.7170352935791016,3.356851577758789,3.2153520584106445,6.891607284545898,6.214785575866699,6.343732833862305,3.579263687133789,5.069969177246094,4.037650108337402,2.2423458099365234,3.996793746948242,6.548404693603516,5.887774467468262,2.8895702362060547,2.4137439727783203,5.035273551940918,5.613707542419434,6.651137351989746,6.544881820678711,2.9606876373291016,1.9438838958740234,3.682257652282715,4.120243072509766,5.574755668640137,3.7268524169921875,3.703634262084961,3.5090761184692383,2.3588552474975586,3.61199951171875,2.1555957794189453,2.9941015243530273,3.877317428588867,1.9591093063354492,4.492763519287109,3.402867317199707,2.869293212890625,3.1758885383605957,6.5121049880981445,5.661847114562988,3.954618453979492,3.5495338439941406,2.4745101928710938,2.411299705505371,4.264233589172363,2.5990371704101562,1.4563703536987305,3.196563720703125,3.8556365966796875,5.99370002746582,3.7280893325805664,3.5681533813476562,4.368900299072266,3.2402782440185547,3.4410228729248047,2.431942939758301,3.5726852416992188,3.783463478088379,4.710439682006836,3.2813167572021484,3.62237548828125,5.570469856262207,4.568464279174805,3.5061492919921875,7.31252384185791,3.577146530151367,5.408843994140625,4.040842056274414,7.212370872497559,3.01760196685791,2.298616409301758,5.165027618408203,3.0881128311157227,6.797994613647461,4.279229164123535,2.640547752380371,4.024374008178711,1.5804529190063477,4.843062400817871,3.0146617889404297,6.201826095581055,5.412858963012695,4.185233116149902,4.378796577453613,2.243619918823242,2.075076103210449,3.883047103881836,4.272026062011719,4.308236122131348,6.238212585449219,2.342951774597168,4.1596574783325195,3.894589424133301,2.9292144775390625,3.597431182861328,4.844386100769043,5.024409294128418,1.7715120315551758,4.729404449462891,3.109713554382324,3.248824119567871,4.743456840515137,6.920001029968262,3.1753358840942383,4.2672319412231445,5.9559831619262695,3.197359085083008,3.1349925994873047,3.6529111862182617,5.237483024597168,4.566064834594727,5.986263275146484,6.077058792114258,3.894589424133301,3.774658203125,3.5327720642089844,4.023065567016602,3.9548730850219727,3.9222869873046875,2.23360538482666,6.0474653244018555,5.329995155334473,4.476414680480957,2.1241369247436523,3.04856014251709,5.584280967712402,5.336740493774414,1.314988136291504,6.109770774841309,3.9222869873046875,3.845597267150879,2.528209686279297,6.657740592956543,3.47841739654541,2.639986991882324,2.6602277755737305,6.953017234802246,3.8362960815429688,3.974471092224121,3.7744274139404297,2.7355480194091797,3.9222869873046875,5.954595565795898,4.349640846252441,1.2916231155395508,3.247600555419922,1.6678104400634766,5.524885177612305,2.528209686279297,4.014347076416016,5.4148054122924805,3.5624074935913086,5.2124786376953125,4.109891891479492,6.103200912475586,2.394534111022949,3.4368953704833984,3.3997344970703125,4.6306915283203125,3.84989070892334,4.012932777404785,2.7074508666992188,3.239421844482422,3.1879358291625977,2.9606876373291016,2.4559855461120605,6.083617210388184,2.4769277572631836,2.870260238647461,4.390361785888672,3.215709686279297,3.469158172607422,2.9161319732666016,2.41599178314209,4.40266227722168,3.613705635070801,2.98745059967041,7.133447647094727,5.050429344177246,2.7260007858276367,2.977619171142578,2.12961483001709,2.2423458099365234,2.6650772094726562,2.4391231536865234,3.906571388244629,5.739707946777344,2.44136905670166,4.7057647705078125,4.28050422668457,2.604863166809082,3.66757869720459,4.846771240234375,3.604738235473633,4.321071624755859,2.710359573364258,2.806210517883301,3.614436149597168,2.732564926147461,3.4184951782226562,3.5094480514526367,5.0906572341918945,3.754129409790039,3.536855697631836,3.469236373901367,6.128629684448242,2.836806297302246,2.758397102355957,2.44136905670166,2.8493738174438477,4.98710823059082,4.784997940063477,6.519562721252441,2.483464241027832,4.902254104614258,5.231060028076172,2.6399240493774414,5.200372695922852,6.053232192993164,4.92439079284668,6.0693464279174805,3.837705612182617,2.869293212890625,2.9606876373291016,2.9428482055664062,5.551847457885742,4.028996467590332,3.206557273864746,3.512775421142578,3.6435508728027344,4.856219291687012,3.1501989364624023,3.501262664794922,3.674112319946289,6.204486846923828,6.006614685058594,2.968599319458008,3.2489700317382812,5.173555374145508,3.413254737854004,4.281009674072266,3.913463592529297,3.033663749694824,2.925015449523926,2.3637895584106445,5.010105133056641,3.669131278991699,5.69273567199707,3.091665267944336,3.8238067626953125,3.5243139266967773,2.9050521850585938,5.243897438049316,4.314562797546387,2.3187294006347656,2.8895702362060547,4.057500839233398,1.2954702377319336,2.2058115005493164,2.298616409301758,4.3231096267700195,6.552996635437012,1.981546401977539,3.4154911041259766,3.129580497741699,3.6920299530029297,3.284947395324707,1.9996232986450195,2.2239866256713867,3.8362960815429688,3.4410839080810547,2.5006542205810547,3.178786277770996,6.851675033569336,3.236495018005371,2.397127151489258,5.107030868530273,3.675447463989258,4.023065567016602,3.830097198486328,2.6786746978759766,5.124680519104004,3.305509567260742,6.435747146606445,4.817785263061523,3.060299873352051,5.809003829956055,4.399449348449707,1.7211370468139648,4.963893890380859,3.696683883666992,4.404603958129883,3.756803512573242,2.4559855461120605,3.3387451171875,2.640547752380371,3.3636817932128906,2.4689064025878906,3.7849559783935547,3.9222869873046875,4.423816680908203,4.423816680908203,3.7002105712890625,5.63264274597168,3.1097278594970703,2.9606876373291016,4.877161026000977,4.330046653747559,2.4559855461120605,3.413254737854004,2.8895702362060547,1.593557357788086,3.4146194458007812,2.838327407836914,2.3588552474975586,1.573338508605957,2.603724479675293,4.02764892578125,2.161060333251953,4.645538330078125,5.24660587310791,2.1324920654296875,2.3635988235473633,3.1421403884887695,2.858489990234375,5.815007209777832,4.190842628479004,3.2167768478393555,4.115840911865234,3.7022104263305664,3.8186511993408203,3.748997688293457,3.297170639038086,4.008676528930664,3.622203826904297,3.906571388244629,2.735102653503418,3.152707099914551,5.735997200012207,3.474907875061035,4.679182052612305,3.974471092224121,2.8895702362060547,2.774354934692383,4.023065567016602,2.816427230834961,2.4559855461120605,3.9704933166503906,2.9108924865722656,1.622274398803711,2.291614532470703,6.123498916625977,2.8895702362060547,5.730079650878906,2.8738012313842773,2.3170738220214844,1.8629980087280273,4.533829689025879,2.8656368255615234,3.6003761291503906,3.834625244140625,4.250136375427246,4.039614677429199,3.0697879791259766,3.0697879791259766,2.3561134338378906,2.9606876373291016,1.7060537338256836,3.9222869873046875,1.4941692352294922,3.1625986099243164,1.3534822463989258,3.504444122314453,5.050429344177246,6.13461971282959,1.9996232986450195,3.108684539794922,3.3341007232666016,3.797837257385254,3.0961380004882812,3.279801368713379,4.22075080871582,3.600926399230957,2.4429502487182617,2.968301773071289,4.569945335388184,3.4508190155029297,2.618368148803711,2.440526008605957,2.410951614379883,2.2234582901000977,3.070834159851074,3.072817802429199,2.5659685134887695,2.5855703353881836,1.8922429084777832,1.731921672821045,2.8720884323120117,2.57828426361084,2.8895702362060547,3.635385513305664,1.9949350357055664,2.744150161743164,3.5745086669921875,2.869293212890625,5.4790449142456055,2.4559855461120605,3.10001277923584,4.181238174438477,2.223682403564453,3.827573776245117,6.374444961547852,3.974471092224121,5.63264274597168,4.504003524780273,2.4559855461120605,3.176558494567871,3.5431575775146484,1.5867805480957031,2.9842634201049805,2.9606876373291016,3.1737613677978516,4.28050422668457,2.752227783203125,2.9606876373291016,3.175827980041504,3.1246986389160156,2.394534111022949,3.04251766204834,4.304220199584961,3.2548227310180664,3.675447463989258,1.8642158508300781,2.397491455078125,3.8825674057006836,6.172987937927246,4.055178642272949,4.197305679321289,2.4559855461120605,4.211525917053223,3.0788650512695312,2.2234582901000977,2.342951774597168,2.91062068939209,3.5325498580932617,2.027109146118164,2.3170738220214844,3.429020881652832,2.5856094360351562,2.3041038513183594,2.8933753967285156,4.725545883178711,2.4388465881347656,2.170651435852051,3.136566162109375,3.446043014526367,2.3019752502441406,3.7624759674072266,2.9518423080444336,2.869293212890625,4.373600006103516,2.056990623474121,2.1449851989746094,2.397359848022461,2.483464241027832,3.5831851959228516,2.3588552474975586,3.5618133544921875,3.3290929794311523,1.9123296737670898,3.5893163681030273,2.640547752380371,4.426079750061035,2.4095888137817383,2.6474266052246094,3.635385513305664,2.4520187377929688,3.1748170852661133,2.3598556518554688,3.0697879791259766,3.060299873352051,2.298616409301758,1.880202293395996,2.922795295715332,3.3554248809814453,3.091665267944336,3.2898998260498047,3.1863222122192383,3.2435874938964844,7.2028656005859375,2.6694469451904297,3.3465614318847656,2.9606876373291016,3.188979148864746,3.906571388244629,1.669642448425293,2.3588552474975586,2.3429832458496094,5.315187454223633,3.288747787475586,3.906571388244629,2.442340850830078,3.1820459365844727,1.4409313201904297,3.722951889038086,2.383087158203125,3.906571388244629,2.359111785888672,2.7697954177856445,2.3561134338378906,2.342951774597168,2.6797122955322266,3.423855781555176,2.3588552474975586,2.8895702362060547,3.9007978439331055,2.8895702362060547,3.9700212478637695,1.8922429084777832,3.286557197570801,2.795185089111328,2.3429832458496094,3.0697879791259766,3.091665267944336,2.3588552474975586,3.30080509185791,2.4078969955444336,1.466928482055664,2.8895702362060547,3.675447463989258,3.847527503967285,1.5984926223754883,3.656879425048828,4.28050422668457,3.8066625595092773,2.298616409301758,3.295729637145996,3.124762535095215,2.261092185974121,2.8895702362060547,3.2467784881591797,3.30080509185791,2.342951774597168,2.4709835052490234,2.8374528884887695,2.7369937896728516,2.9606876373291016,2.4559855461120605,2.8738012313842773,2.4207706451416016,3.127985954284668,2.379927635192871,3.0978336334228516,2.4559855461120605,3.4946823120117188,2.347553253173828,3.47036075592041,2.517487049102783,3.2782678604125977,2.4078969955444336,4.0925092697143555,2.9606876373291016,2.990579605102539,3.906571388244629,2.9108924865722656,2.298616409301758,4.052849769592285,2.4559855461120605,3.259397506713867,1.598160743713379,3.2548227310180664,3.906571388244629,3.635385513305664,1.6052141189575195,3.2490339279174805,2.4095888137817383,2.9778337478637695,2.3588552474975586,3.906571388244629,3.906571388244629,2.8895702362060547,3.048704147338867,3.2721147537231445,3.635385513305664,3.2490339279174805,2.4709835052490234,3.2548227310180664,3.1688385009765625,2.4559855461120605,4.28050422668457,2.7564697265625,2.8895702362060547,3.423855781555176,2.342951774597168,3.2435874938964844,2.4559855461120605,2.3637895584106445,3.0510759353637695,2.6081295013427734,3.052029609680176,3.2726478576660156,2.8895702362060547,2.3588552474975586,2.4559855461120605,2.6786746978759766,2.23819637298584,2.963841438293457,3.906571388244629,3.906571388244629],\"type\":\"histogram\"}],                        {\"template\":{\"data\":{\"histogram2dcontour\":[{\"type\":\"histogram2dcontour\",\"colorbar\":{\"outlinewidth\":0,\"ticks\":\"\"},\"colorscale\":[[0.0,\"#0d0887\"],[0.1111111111111111,\"#46039f\"],[0.2222222222222222,\"#7201a8\"],[0.3333333333333333,\"#9c179e\"],[0.4444444444444444,\"#bd3786\"],[0.5555555555555556,\"#d8576b\"],[0.6666666666666666,\"#ed7953\"],[0.7777777777777778,\"#fb9f3a\"],[0.8888888888888888,\"#fdca26\"],[1.0,\"#f0f921\"]]}],\"choropleth\":[{\"type\":\"choropleth\",\"colorbar\":{\"outlinewidth\":0,\"ticks\":\"\"}}],\"histogram2d\":[{\"type\":\"histogram2d\",\"colorbar\":{\"outlinewidth\":0,\"ticks\":\"\"},\"colorscale\":[[0.0,\"#0d0887\"],[0.1111111111111111,\"#46039f\"],[0.2222222222222222,\"#7201a8\"],[0.3333333333333333,\"#9c179e\"],[0.4444444444444444,\"#bd3786\"],[0.5555555555555556,\"#d8576b\"],[0.6666666666666666,\"#ed7953\"],[0.7777777777777778,\"#fb9f3a\"],[0.8888888888888888,\"#fdca26\"],[1.0,\"#f0f921\"]]}],\"heatmap\":[{\"type\":\"heatmap\",\"colorbar\":{\"outlinewidth\":0,\"ticks\":\"\"},\"colorscale\":[[0.0,\"#0d0887\"],[0.1111111111111111,\"#46039f\"],[0.2222222222222222,\"#7201a8\"],[0.3333333333333333,\"#9c179e\"],[0.4444444444444444,\"#bd3786\"],[0.5555555555555556,\"#d8576b\"],[0.6666666666666666,\"#ed7953\"],[0.7777777777777778,\"#fb9f3a\"],[0.8888888888888888,\"#fdca26\"],[1.0,\"#f0f921\"]]}],\"heatmapgl\":[{\"type\":\"heatmapgl\",\"colorbar\":{\"outlinewidth\":0,\"ticks\":\"\"},\"colorscale\":[[0.0,\"#0d0887\"],[0.1111111111111111,\"#46039f\"],[0.2222222222222222,\"#7201a8\"],[0.3333333333333333,\"#9c179e\"],[0.4444444444444444,\"#bd3786\"],[0.5555555555555556,\"#d8576b\"],[0.6666666666666666,\"#ed7953\"],[0.7777777777777778,\"#fb9f3a\"],[0.8888888888888888,\"#fdca26\"],[1.0,\"#f0f921\"]]}],\"contourcarpet\":[{\"type\":\"contourcarpet\",\"colorbar\":{\"outlinewidth\":0,\"ticks\":\"\"}}],\"contour\":[{\"type\":\"contour\",\"colorbar\":{\"outlinewidth\":0,\"ticks\":\"\"},\"colorscale\":[[0.0,\"#0d0887\"],[0.1111111111111111,\"#46039f\"],[0.2222222222222222,\"#7201a8\"],[0.3333333333333333,\"#9c179e\"],[0.4444444444444444,\"#bd3786\"],[0.5555555555555556,\"#d8576b\"],[0.6666666666666666,\"#ed7953\"],[0.7777777777777778,\"#fb9f3a\"],[0.8888888888888888,\"#fdca26\"],[1.0,\"#f0f921\"]]}],\"surface\":[{\"type\":\"surface\",\"colorbar\":{\"outlinewidth\":0,\"ticks\":\"\"},\"colorscale\":[[0.0,\"#0d0887\"],[0.1111111111111111,\"#46039f\"],[0.2222222222222222,\"#7201a8\"],[0.3333333333333333,\"#9c179e\"],[0.4444444444444444,\"#bd3786\"],[0.5555555555555556,\"#d8576b\"],[0.6666666666666666,\"#ed7953\"],[0.7777777777777778,\"#fb9f3a\"],[0.8888888888888888,\"#fdca26\"],[1.0,\"#f0f921\"]]}],\"mesh3d\":[{\"type\":\"mesh3d\",\"colorbar\":{\"outlinewidth\":0,\"ticks\":\"\"}}],\"scatter\":[{\"fillpattern\":{\"fillmode\":\"overlay\",\"size\":10,\"solidity\":0.2},\"type\":\"scatter\"}],\"parcoords\":[{\"type\":\"parcoords\",\"line\":{\"colorbar\":{\"outlinewidth\":0,\"ticks\":\"\"}}}],\"scatterpolargl\":[{\"type\":\"scatterpolargl\",\"marker\":{\"colorbar\":{\"outlinewidth\":0,\"ticks\":\"\"}}}],\"bar\":[{\"error_x\":{\"color\":\"#2a3f5f\"},\"error_y\":{\"color\":\"#2a3f5f\"},\"marker\":{\"line\":{\"color\":\"#E5ECF6\",\"width\":0.5},\"pattern\":{\"fillmode\":\"overlay\",\"size\":10,\"solidity\":0.2}},\"type\":\"bar\"}],\"scattergeo\":[{\"type\":\"scattergeo\",\"marker\":{\"colorbar\":{\"outlinewidth\":0,\"ticks\":\"\"}}}],\"scatterpolar\":[{\"type\":\"scatterpolar\",\"marker\":{\"colorbar\":{\"outlinewidth\":0,\"ticks\":\"\"}}}],\"histogram\":[{\"marker\":{\"pattern\":{\"fillmode\":\"overlay\",\"size\":10,\"solidity\":0.2}},\"type\":\"histogram\"}],\"scattergl\":[{\"type\":\"scattergl\",\"marker\":{\"colorbar\":{\"outlinewidth\":0,\"ticks\":\"\"}}}],\"scatter3d\":[{\"type\":\"scatter3d\",\"line\":{\"colorbar\":{\"outlinewidth\":0,\"ticks\":\"\"}},\"marker\":{\"colorbar\":{\"outlinewidth\":0,\"ticks\":\"\"}}}],\"scattermapbox\":[{\"type\":\"scattermapbox\",\"marker\":{\"colorbar\":{\"outlinewidth\":0,\"ticks\":\"\"}}}],\"scatterternary\":[{\"type\":\"scatterternary\",\"marker\":{\"colorbar\":{\"outlinewidth\":0,\"ticks\":\"\"}}}],\"scattercarpet\":[{\"type\":\"scattercarpet\",\"marker\":{\"colorbar\":{\"outlinewidth\":0,\"ticks\":\"\"}}}],\"carpet\":[{\"aaxis\":{\"endlinecolor\":\"#2a3f5f\",\"gridcolor\":\"white\",\"linecolor\":\"white\",\"minorgridcolor\":\"white\",\"startlinecolor\":\"#2a3f5f\"},\"baxis\":{\"endlinecolor\":\"#2a3f5f\",\"gridcolor\":\"white\",\"linecolor\":\"white\",\"minorgridcolor\":\"white\",\"startlinecolor\":\"#2a3f5f\"},\"type\":\"carpet\"}],\"table\":[{\"cells\":{\"fill\":{\"color\":\"#EBF0F8\"},\"line\":{\"color\":\"white\"}},\"header\":{\"fill\":{\"color\":\"#C8D4E3\"},\"line\":{\"color\":\"white\"}},\"type\":\"table\"}],\"barpolar\":[{\"marker\":{\"line\":{\"color\":\"#E5ECF6\",\"width\":0.5},\"pattern\":{\"fillmode\":\"overlay\",\"size\":10,\"solidity\":0.2}},\"type\":\"barpolar\"}],\"pie\":[{\"automargin\":true,\"type\":\"pie\"}]},\"layout\":{\"autotypenumbers\":\"strict\",\"colorway\":[\"#636efa\",\"#EF553B\",\"#00cc96\",\"#ab63fa\",\"#FFA15A\",\"#19d3f3\",\"#FF6692\",\"#B6E880\",\"#FF97FF\",\"#FECB52\"],\"font\":{\"color\":\"#2a3f5f\"},\"hovermode\":\"closest\",\"hoverlabel\":{\"align\":\"left\"},\"paper_bgcolor\":\"white\",\"plot_bgcolor\":\"#E5ECF6\",\"polar\":{\"bgcolor\":\"#E5ECF6\",\"angularaxis\":{\"gridcolor\":\"white\",\"linecolor\":\"white\",\"ticks\":\"\"},\"radialaxis\":{\"gridcolor\":\"white\",\"linecolor\":\"white\",\"ticks\":\"\"}},\"ternary\":{\"bgcolor\":\"#E5ECF6\",\"aaxis\":{\"gridcolor\":\"white\",\"linecolor\":\"white\",\"ticks\":\"\"},\"baxis\":{\"gridcolor\":\"white\",\"linecolor\":\"white\",\"ticks\":\"\"},\"caxis\":{\"gridcolor\":\"white\",\"linecolor\":\"white\",\"ticks\":\"\"}},\"coloraxis\":{\"colorbar\":{\"outlinewidth\":0,\"ticks\":\"\"}},\"colorscale\":{\"sequential\":[[0.0,\"#0d0887\"],[0.1111111111111111,\"#46039f\"],[0.2222222222222222,\"#7201a8\"],[0.3333333333333333,\"#9c179e\"],[0.4444444444444444,\"#bd3786\"],[0.5555555555555556,\"#d8576b\"],[0.6666666666666666,\"#ed7953\"],[0.7777777777777778,\"#fb9f3a\"],[0.8888888888888888,\"#fdca26\"],[1.0,\"#f0f921\"]],\"sequentialminus\":[[0.0,\"#0d0887\"],[0.1111111111111111,\"#46039f\"],[0.2222222222222222,\"#7201a8\"],[0.3333333333333333,\"#9c179e\"],[0.4444444444444444,\"#bd3786\"],[0.5555555555555556,\"#d8576b\"],[0.6666666666666666,\"#ed7953\"],[0.7777777777777778,\"#fb9f3a\"],[0.8888888888888888,\"#fdca26\"],[1.0,\"#f0f921\"]],\"diverging\":[[0,\"#8e0152\"],[0.1,\"#c51b7d\"],[0.2,\"#de77ae\"],[0.3,\"#f1b6da\"],[0.4,\"#fde0ef\"],[0.5,\"#f7f7f7\"],[0.6,\"#e6f5d0\"],[0.7,\"#b8e186\"],[0.8,\"#7fbc41\"],[0.9,\"#4d9221\"],[1,\"#276419\"]]},\"xaxis\":{\"gridcolor\":\"white\",\"linecolor\":\"white\",\"ticks\":\"\",\"title\":{\"standoff\":15},\"zerolinecolor\":\"white\",\"automargin\":true,\"zerolinewidth\":2},\"yaxis\":{\"gridcolor\":\"white\",\"linecolor\":\"white\",\"ticks\":\"\",\"title\":{\"standoff\":15},\"zerolinecolor\":\"white\",\"automargin\":true,\"zerolinewidth\":2},\"scene\":{\"xaxis\":{\"backgroundcolor\":\"#E5ECF6\",\"gridcolor\":\"white\",\"linecolor\":\"white\",\"showbackground\":true,\"ticks\":\"\",\"zerolinecolor\":\"white\",\"gridwidth\":2},\"yaxis\":{\"backgroundcolor\":\"#E5ECF6\",\"gridcolor\":\"white\",\"linecolor\":\"white\",\"showbackground\":true,\"ticks\":\"\",\"zerolinecolor\":\"white\",\"gridwidth\":2},\"zaxis\":{\"backgroundcolor\":\"#E5ECF6\",\"gridcolor\":\"white\",\"linecolor\":\"white\",\"showbackground\":true,\"ticks\":\"\",\"zerolinecolor\":\"white\",\"gridwidth\":2}},\"shapedefaults\":{\"line\":{\"color\":\"#2a3f5f\"}},\"annotationdefaults\":{\"arrowcolor\":\"#2a3f5f\",\"arrowhead\":0,\"arrowwidth\":1},\"geo\":{\"bgcolor\":\"white\",\"landcolor\":\"#E5ECF6\",\"subunitcolor\":\"white\",\"showland\":true,\"showlakes\":true,\"lakecolor\":\"white\"},\"title\":{\"x\":0.05},\"mapbox\":{\"style\":\"light\"}}},\"title\":{\"text\":\"Distribution of Difference In Nuclear Norms - GMI vs GMI+XM\"},\"xaxis\":{\"title\":{\"text\":\"Difference In Nuclear Norms - GMI vs GMI+XM\"}},\"yaxis\":{\"title\":{\"text\":\"Frequency\"}},\"font\":{\"size\":30},\"plot_bgcolor\":\"white\",\"paper_bgcolor\":\"white\"},                        {\"responsive\": true}                    ).then(function(){\n",
       "                            \n",
       "var gd = document.getElementById('c87ece86-c2cf-4cf8-a68a-983f794e0871');\n",
       "var x = new MutationObserver(function (mutations, observer) {{\n",
       "        var display = window.getComputedStyle(gd).display;\n",
       "        if (!display || display === 'none') {{\n",
       "            console.log([gd, 'removed!']);\n",
       "            Plotly.purge(gd);\n",
       "            observer.disconnect();\n",
       "        }}\n",
       "}});\n",
       "\n",
       "// Listen for the removal of the full notebook cells\n",
       "var notebookContainer = gd.closest('#notebook-container');\n",
       "if (notebookContainer) {{\n",
       "    x.observe(notebookContainer, {childList: true});\n",
       "}}\n",
       "\n",
       "// Listen for the clearing of the current output cell\n",
       "var outputEl = gd.closest('.output');\n",
       "if (outputEl) {{\n",
       "    x.observe(outputEl, {childList: true});\n",
       "}}\n",
       "\n",
       "                        })                };                });            </script>        </div>"
      ]
     },
     "metadata": {},
     "output_type": "display_data"
    }
   ],
   "source": [
    "diff = np.array(norm_og) - np.array(norm_plus)\n",
    "fig = go.Figure()\n",
    "fig.add_trace(go.Histogram(x = diff))\n",
    "fig.update_layout(title_text = 'Distribution of Difference In Nuclear Norms - GMI vs GMI+XM', \n",
    "                  xaxis_title_text = 'Difference In Nuclear Norms - GMI vs GMI+XM', \n",
    "                  yaxis_title_text = 'Frequency', \n",
    "                  plot_bgcolor = 'white', \n",
    "                  paper_bgcolor = 'white', \n",
    "                  font = dict(size = 30))\n",
    "fig.show()"
   ]
  },
  {
   "cell_type": "code",
   "execution_count": 68,
   "id": "771d731e",
   "metadata": {},
   "outputs": [
    {
     "data": {
      "application/vnd.plotly.v1+json": {
       "config": {
        "plotlyServerURL": "https://plot.ly"
       },
       "data": [
        {
         "name": "GMI",
         "type": "histogram",
         "x": [
          14.017891883850098,
          21.402509689331055,
          20.74321937561035,
          19.312219619750977,
          16.126310348510742,
          17.810529708862305,
          13.752860069274902,
          12.078385353088379,
          21.178546905517578,
          13.166539192199707,
          21.152921676635742,
          21.054216384887695,
          16.04226303100586,
          19.1951904296875,
          19.128812789916992,
          17.268417358398438,
          17.909940719604492,
          11.85106086730957,
          20.691259384155273,
          18.93013572692871,
          19.252832412719727,
          17.288991928100586,
          15.306777954101562,
          17.938636779785156,
          12.973783493041992,
          19.418376922607422,
          11.858434677124023,
          17.387733459472656,
          12.59506607055664,
          12.119738578796387,
          11.853660583496094,
          17.6544189453125,
          19.711233139038086,
          19.2359561920166,
          21.60647964477539,
          20.06929588317871,
          18.681047439575195,
          17.928306579589844,
          18.807693481445312,
          15.904520034790039,
          17.05946159362793,
          19.175704956054688,
          18.77602195739746,
          16.26010513305664,
          13.743803024291992,
          17.009166717529297,
          13.216537475585938,
          21.158180236816406,
          18.329038619995117,
          14.738758087158203,
          15.080791473388672,
          18.675081253051758,
          15.09278392791748,
          19.332679748535156,
          12.893799781799316,
          19.59311866760254,
          19.815771102905273,
          18.97568130493164,
          15.044270515441895,
          17.05194091796875,
          17.77234649658203,
          19.878707885742188,
          15.261899948120117,
          16.431604385375977,
          18.489482879638672,
          16.6991024017334,
          17.79306411743164,
          17.580793380737305,
          18.832971572875977,
          14.139595031738281,
          18.0607852935791,
          17.494014739990234,
          20.828937530517578,
          19.3928279876709,
          18.329025268554688,
          19.729158401489258,
          14.617192268371582,
          8.469955444335938,
          18.340559005737305,
          18.472078323364258,
          22.582853317260742,
          18.786317825317383,
          19.219690322875977,
          14.068634033203125,
          17.683670043945312,
          21.37469482421875,
          17.44273567199707,
          16.54362678527832,
          19.293960571289062,
          19.41299819946289,
          18.09861946105957,
          14.357643127441406,
          14.46837329864502,
          15.43266773223877,
          15.079833984375,
          17.11779022216797,
          19.34764289855957,
          11.35204792022705,
          12.788445472717285,
          21.345142364501953,
          13.388303756713867,
          13.401093482971191,
          19.465560913085938,
          11.797938346862793,
          11.396184921264648,
          15.138049125671387,
          17.953184127807617,
          21.6326961517334,
          18.459300994873047,
          20.13987159729004,
          18.88795280456543,
          15.831047058105469,
          20.48488998413086,
          17.881502151489258,
          19.541017532348633,
          14.860756874084473,
          13.697364807128906,
          16.95624542236328,
          16.38153839111328,
          18.85683250427246,
          16.828462600708008,
          13.768163681030273,
          18.4697322845459,
          18.253467559814453,
          16.91337776184082,
          12.92074203491211,
          12.622674942016602,
          18.654109954833984,
          19.764577865600586,
          16.29686737060547,
          18.247467041015625,
          17.652891159057617,
          18.15796661376953,
          16.73828125,
          18.938385009765625,
          18.737506866455078,
          16.099397659301758,
          16.065265655517578,
          14.251465797424316,
          17.571170806884766,
          21.022743225097656,
          18.104450225830078,
          18.50917625427246,
          15.694400787353516,
          18.209144592285156,
          20.29136085510254,
          20.161231994628906,
          19.723543167114258,
          17.313684463500977,
          19.208545684814453,
          17.467758178710938,
          18.69594955444336,
          14.243678092956543,
          17.913436889648438,
          16.08378028869629,
          17.378047943115234,
          18.220964431762695,
          6.783592224121094,
          14.125184059143066,
          16.50950050354004,
          11.515549659729004,
          14.79625129699707,
          19.402727127075195,
          13.50409984588623,
          12.626106262207031,
          18.119712829589844,
          16.507883071899414,
          17.239418029785156,
          12.323175430297852,
          10.0762357711792,
          21.8685245513916,
          19.596105575561523,
          17.654685974121094,
          18.038911819458008,
          18.869112014770508,
          17.05095100402832,
          19.376934051513672,
          18.736572265625,
          20.67317771911621,
          12.960431098937988,
          11.93472957611084,
          18.368104934692383,
          18.818708419799805,
          20.501787185668945,
          13.911569595336914,
          14.406492233276367,
          17.569406509399414,
          17.712434768676758,
          19.630146026611328,
          14.080711364746094,
          11.361007690429688,
          16.676063537597656,
          12.482514381408691,
          11.945734024047852,
          16.02600860595703,
          15.70976734161377,
          19.048879623413086,
          17.040870666503906,
          18.641477584838867,
          18.448331832885742,
          18.27526092529297,
          15.157551765441895,
          17.564319610595703,
          19.2337589263916,
          19.513656616210938,
          14.952441215515137,
          18.22503662109375,
          17.02762794494629,
          11.665478706359863,
          12.227270126342773,
          13.829984664916992,
          11.988615036010742,
          13.801190376281738,
          16.433361053466797,
          17.871315002441406,
          8.579097747802734,
          12.144556045532227,
          12.366424560546875,
          11.256058692932129,
          18.803977966308594,
          21.027433395385742,
          17.501758575439453,
          17.771625518798828,
          17.96994972229004,
          19.60007095336914,
          21.025808334350586,
          20.74224281311035,
          21.088550567626953,
          19.0419979095459,
          16.988698959350586,
          19.240840911865234,
          19.53282928466797,
          18.810081481933594,
          18.797090530395508,
          18.678255081176758,
          19.82122230529785,
          20.700637817382812,
          13.147860527038574,
          19.273235321044922,
          21.69205665588379,
          18.647428512573242,
          17.98317527770996,
          17.637731552124023,
          16.368589401245117,
          12.91446304321289,
          20.256797790527344,
          18.84975814819336,
          14.250449180603027,
          17.639219284057617,
          12.799012184143066,
          19.21432113647461,
          17.86343002319336,
          12.704180717468262,
          13.608771324157715,
          19.650367736816406,
          19.12157440185547,
          18.058284759521484,
          18.894086837768555,
          20.069116592407227,
          17.55165672302246,
          16.81210708618164,
          13.100736618041992,
          13.239742279052734,
          10.082653999328613,
          18.6912841796875,
          16.124311447143555,
          20.589242935180664,
          17.5225887298584,
          16.777788162231445,
          14.877878189086914,
          19.704265594482422,
          20.387176513671875,
          21.26494598388672,
          18.95930290222168,
          17.199050903320312,
          17.15074348449707,
          11.755495071411133,
          9.613698959350586,
          21.083049774169922,
          19.413192749023438,
          18.797361373901367,
          20.837268829345703,
          20.404401779174805,
          20.467178344726562,
          15.734573364257812,
          19.831314086914062,
          19.033302307128906,
          12.01324462890625,
          17.726749420166016,
          19.460020065307617,
          18.031383514404297,
          20.01224708557129,
          18.03310203552246,
          20.854103088378906,
          19.206829071044922,
          17.771183013916016,
          17.673521041870117,
          17.10650062561035,
          16.995201110839844,
          20.93130874633789,
          17.380399703979492,
          20.6411190032959,
          20.184593200683594,
          18.067710876464844,
          10.458337783813477,
          8.988597869873047,
          15.403121948242188,
          10.019617080688477,
          11.063304901123047,
          16.716434478759766,
          13.390876770019531,
          17.84413719177246,
          18.010866165161133,
          16.009540557861328,
          15.628193855285645,
          17.39358901977539,
          12.760286331176758,
          11.938100814819336,
          10.545283317565918,
          18.321157455444336,
          12.866315841674805,
          13.18115520477295,
          16.863666534423828,
          19.269935607910156,
          21.555112838745117,
          20.80742073059082,
          18.815162658691406,
          12.393916130065918,
          17.212196350097656,
          17.52835464477539,
          19.251577377319336,
          19.24163055419922,
          16.71914291381836,
          17.676528930664062,
          22.291996002197266,
          11.778546333312988,
          8.567063331604004,
          19.155906677246094,
          15.360471725463867,
          17.439661026000977,
          15.67564582824707,
          13.607826232910156,
          21.975915908813477,
          20.626131057739258,
          11.19936752319336,
          11.65917682647705,
          16.838769912719727,
          16.665292739868164,
          14.300615310668945,
          17.355152130126953,
          19.53626251220703,
          18.06665802001953,
          19.4503231048584,
          21.502098083496094,
          11.303781509399414,
          12.472826957702637,
          18.394798278808594,
          16.682615280151367,
          19.600797653198242,
          19.642303466796875,
          14.226899147033691,
          9.867576599121094,
          16.50836944580078,
          18.021228790283203,
          12.622537612915039,
          16.435184478759766,
          15.299811363220215,
          19.51457405090332,
          15.032355308532715,
          18.241283416748047,
          20.61605453491211,
          20.342815399169922,
          19.53835678100586,
          12.482259750366211,
          15.124068260192871,
          17.501659393310547,
          15.445486068725586,
          12.494105339050293,
          9.095688819885254,
          17.612443923950195,
          11.99113655090332,
          18.59253692626953,
          16.715091705322266,
          12.971062660217285,
          13.262004852294922,
          11.773999214172363,
          19.953475952148438,
          20.937044143676758,
          16.653047561645508,
          13.811254501342773,
          16.001981735229492,
          17.468647003173828,
          17.08561134338379,
          13.393383026123047,
          8.813733100891113,
          15.561290740966797,
          12.970856666564941,
          14.847557067871094,
          17.725849151611328,
          17.955732345581055,
          19.92301368713379,
          12.501653671264648,
          21.746335983276367,
          18.889665603637695,
          15.699352264404297,
          18.978168487548828,
          21.041231155395508,
          20.343263626098633,
          18.529563903808594,
          17.927738189697266,
          12.167023658752441,
          8.709047317504883,
          19.855709075927734,
          9.926141738891602,
          14.066933631896973,
          16.807350158691406,
          18.5123348236084,
          15.886998176574707,
          14.43998908996582,
          13.211872100830078,
          18.409671783447266,
          22.635902404785156,
          18.163951873779297,
          12.880623817443848,
          19.714765548706055,
          18.696575164794922,
          16.076539993286133,
          12.713258743286133,
          12.749393463134766,
          20.46849250793457,
          12.048942565917969,
          19.85308074951172,
          18.84100341796875,
          14.961943626403809,
          13.961928367614746,
          13.914917945861816,
          19.63770866394043,
          20.228960037231445,
          19.659862518310547,
          13.830890655517578,
          17.79085350036621,
          12.558794975280762,
          15.58665943145752,
          17.550140380859375,
          21.05727195739746,
          17.6396541595459,
          12.245016098022461,
          18.910402297973633,
          18.56205940246582,
          17.01519012451172,
          12.864352226257324,
          19.343523025512695,
          18.341567993164062,
          19.107908248901367,
          20.17352294921875,
          19.588346481323242,
          13.086918830871582,
          11.09244441986084,
          16.652645111083984,
          17.269317626953125,
          13.655383110046387,
          11.769947052001953,
          13.545117378234863,
          12.490035057067871,
          11.644818305969238,
          14.842926025390625,
          18.92061424255371,
          13.82939624786377,
          12.238815307617188,
          14.512630462646484,
          13.972789764404297,
          15.009368896484375,
          10.219728469848633,
          12.403820037841797,
          21.492067337036133,
          11.862808227539062,
          13.25117301940918,
          16.216991424560547,
          16.01606559753418,
          17.88752555847168,
          20.16990089416504,
          14.762768745422363,
          18.82712745666504,
          11.662822723388672,
          16.701026916503906,
          20.53835105895996,
          15.472894668579102,
          14.769880294799805,
          14.004668235778809,
          10.582324028015137,
          8.711606979370117,
          13.661161422729492,
          17.911863327026367,
          15.984138488769531,
          9.820345878601074,
          21.37611198425293,
          13.31722640991211,
          19.83884048461914,
          17.614299774169922,
          19.113941192626953,
          20.602153778076172,
          19.49904441833496,
          10.74555778503418,
          20.029945373535156,
          14.284732818603516,
          16.64859962463379,
          20.75007438659668,
          13.966707229614258,
          18.53415870666504,
          15.60993766784668,
          14.407635688781738,
          12.883601188659668,
          12.830137252807617,
          20.573240280151367,
          20.2498779296875,
          13.408326148986816,
          12.585163116455078,
          14.747227668762207,
          13.59267807006836,
          12.57491397857666,
          19.283531188964844,
          17.071428298950195,
          19.701950073242188,
          14.677823066711426,
          19.259798049926758,
          11.796679496765137,
          18.136404037475586,
          12.669827461242676,
          14.300615310668945,
          12.151128768920898,
          16.53336524963379,
          15.541237831115723,
          11.851075172424316,
          19.436031341552734,
          14.29173469543457,
          11.580414772033691,
          13.079033851623535,
          15.887271881103516,
          17.95427703857422,
          19.665008544921875,
          18.945499420166016,
          17.887271881103516,
          16.870676040649414,
          12.582917213439941,
          22.243749618530273,
          12.996431350708008,
          12.866315841674805,
          13.921619415283203,
          13.475868225097656,
          13.19801139831543,
          17.89197540283203,
          17.47233772277832,
          15.882281303405762,
          18.538103103637695,
          21.00204086303711,
          13.889575004577637,
          15.657769203186035,
          17.434602737426758,
          18.77962875366211,
          11.138711929321289,
          12.050785064697266,
          13.431840896606445,
          18.744142532348633,
          19.33078956604004,
          14.908987045288086,
          11.793435096740723,
          19.128992080688477,
          19.72732162475586,
          16.912254333496094,
          17.758508682250977,
          11.015510559082031,
          21.500282287597656,
          14.54807186126709,
          19.57147979736328,
          16.923099517822266,
          12.658682823181152,
          19.314146041870117,
          12.82896614074707,
          17.16263198852539,
          11.164175987243652,
          15.53043270111084,
          21.56170082092285,
          17.8512020111084,
          21.453006744384766,
          21.3344669342041,
          21.989356994628906,
          13.575043678283691,
          14.836745262145996,
          13.553125381469727,
          17.869094848632812,
          16.986127853393555,
          12.704180717468262,
          12.068578720092773,
          19.493879318237305,
          19.33464813232422,
          21.004619598388672,
          18.25600814819336,
          12.866315841674805,
          15.641114234924316,
          13.192461013793945,
          13.943089485168457,
          18.388938903808594,
          13.001555442810059,
          12.721664428710938,
          12.571867942810059,
          13.645586013793945,
          19.65337562561035,
          19.326807022094727,
          11.866762161254883,
          13.191439628601074,
          14.417457580566406,
          15.231620788574219,
          11.831842422485352,
          13.971343994140625,
          11.112186431884766,
          21.73173713684082,
          20.12797737121582,
          13.439223289489746,
          11.832393646240234,
          14.380990982055664,
          13.356876373291016,
          14.897332191467285,
          18.268198013305664,
          15.797430992126465,
          19.52948760986328,
          15.257129669189453,
          20.176443099975586,
          12.970690727233887,
          12.54271411895752,
          18.518924713134766,
          18.80643653869629,
          11.77959156036377,
          13.787514686584473,
          12.95440673828125,
          13.893925666809082,
          15.721975326538086,
          12.619566917419434,
          13.877222061157227,
          17.21615982055664,
          18.129215240478516,
          12.483182907104492,
          20.18836212158203,
          12.820931434631348,
          16.4471378326416,
          20.141525268554688,
          21.223419189453125,
          9.951022148132324,
          11.294524192810059,
          15.937544822692871,
          17.657133102416992,
          19.336326599121094,
          14.303250312805176,
          13.661161422729492,
          13.954850196838379,
          14.808175086975098,
          17.874727249145508,
          17.904340744018555,
          20.527494430541992,
          20.136919021606445,
          13.81772232055664,
          12.698594093322754,
          12.269545555114746,
          14.64140796661377,
          13.023863792419434,
          16.555234909057617,
          14.715317726135254,
          20.029516220092773,
          12.472826957702637,
          14.547518730163574,
          12.570027351379395,
          11.73140811920166,
          14.40853214263916,
          16.541606903076172,
          16.393030166625977,
          15.261284828186035,
          14.968262672424316,
          14.729961395263672,
          13.151122093200684,
          16.147415161132812,
          19.797033309936523,
          15.6007719039917,
          17.8531436920166,
          18.492403030395508,
          17.846630096435547,
          12.102055549621582,
          12.781892776489258,
          14.41167163848877,
          20.085662841796875,
          20.888813018798828,
          19.865699768066406,
          12.570027351379395,
          12.76724910736084,
          18.84126091003418,
          13.922467231750488,
          17.08401107788086,
          14.300615310668945,
          16.599275588989258,
          17.62613868713379,
          15.804814338684082,
          16.24422836303711,
          15.242900848388672,
          17.413284301757812,
          17.984169006347656,
          15.597923278808594,
          15.21368408203125,
          20.47122573852539,
          14.300615310668945,
          12.97016429901123,
          13.889575004577637,
          18.936073303222656,
          15.715374946594238,
          14.85583209991455,
          16.4498233795166,
          22.390792846679688,
          14.251465797424316,
          14.460125923156738,
          13.746447563171387,
          11.407366752624512,
          14.300615310668945,
          17.974342346191406,
          15.757899284362793,
          14.715226173400879,
          13.591084480285645,
          14.253263473510742,
          19.937091827392578,
          13.889575004577637,
          20.34194564819336,
          18.179851531982422,
          12.587791442871094,
          15.886998176574707,
          20.573265075683594,
          17.656658172607422,
          11.222186088562012,
          12.548657417297363,
          12.252138137817383,
          14.524645805358887,
          13.07634162902832,
          14.195608139038086,
          14.068330764770508,
          17.6755313873291,
          11.882213592529297,
          12.866315841674805,
          9.803184509277344,
          20.06219482421875,
          13.823352813720703,
          15.86275577545166,
          20.055217742919922,
          19.366668701171875,
          18.044160842895508,
          16.71564483642578,
          13.60746955871582,
          20.88829803466797,
          19.413890838623047,
          14.154499053955078,
          21.016624450683594,
          15.687339782714844,
          11.478753089904785,
          13.006014823913574,
          10.513704299926758,
          14.836745262145996,
          13.127110481262207,
          16.634593963623047,
          14.237160682678223,
          17.922998428344727,
          12.010957717895508,
          19.63021469116211,
          14.132952690124512,
          12.042146682739258,
          14.157535552978516,
          19.742475509643555,
          13.169142723083496,
          14.12641716003418,
          19.77898597717285,
          16.777624130249023,
          13.32265853881836,
          18.00221824645996,
          12.560184478759766,
          12.551122665405273,
          16.42439842224121,
          20.79764175415039,
          20.134267807006836,
          14.367663383483887,
          19.58807945251465,
          13.975615501403809,
          11.399703025817871,
          12.010957717895508,
          11.304801940917969,
          18.9190731048584,
          16.95421600341797,
          19.29971694946289,
          12.454126358032227,
          15.73007869720459,
          20.121004104614258,
          17.080774307250977,
          17.639522552490234,
          21.801025390625,
          15.421357154846191,
          20.36696434020996,
          13.539674758911133,
          13.971343994140625,
          12.866315841674805,
          15.33646297454834,
          19.877714157104492,
          14.684257507324219,
          12.546842575073242,
          14.941435813903809,
          13.125224113464355,
          19.8636417388916,
          11.371294975280762,
          19.620969772338867,
          13.205458641052246,
          18.238645553588867,
          16.90537452697754,
          12.849124908447266,
          11.608682632446289,
          18.039897918701172,
          12.59999942779541,
          13.826101303100586,
          19.419382095336914,
          11.988615036010742,
          18.305021286010742,
          11.147716522216797,
          15.039876937866211,
          12.822795867919922,
          17.5253963470459,
          15.47525405883789,
          14.814522743225098,
          12.3262939453125,
          11.750853538513184,
          15.190546035766602,
          14.492960929870605,
          14.563552856445312,
          12.704180717468262,
          17.349355697631836,
          14.384482383728027,
          13.310145378112793,
          11.294524192810059,
          18.89863395690918,
          19.955123901367188,
          18.693370819091797,
          14.374417304992676,
          16.50992202758789,
          12.16835880279541,
          16.451231002807617,
          9.804285049438477,
          11.785663604736328,
          14.251465797424316,
          20.636974334716797,
          9.272603034973145,
          15.660454750061035,
          22.46607780456543,
          13.682168960571289,
          11.373984336853027,
          17.949237823486328,
          16.722965240478516,
          13.922467231750488,
          18.065460205078125,
          13.880574226379395,
          16.643091201782227,
          20.377544403076172,
          19.062074661254883,
          21.918596267700195,
          12.333006858825684,
          19.8569278717041,
          14.825217247009277,
          17.70249366760254,
          16.435184478759766,
          14.610678672790527,
          14.982001304626465,
          12.770125389099121,
          9.803184509277344,
          19.658920288085938,
          13.661161422729492,
          16.539627075195312,
          14.385435104370117,
          12.767427444458008,
          14.300615310668945,
          15.3711576461792,
          15.3711576461792,
          12.282604217529297,
          16.037532806396484,
          12.263916969299316,
          12.866315841674805,
          16.881025314331055,
          18.146371841430664,
          9.803184509277344,
          12.59999942779541,
          12.704180717468262,
          17.93295669555664,
          19.59442901611328,
          14.528358459472656,
          13.645586013793945,
          14.840203285217285,
          18.573532104492188,
          12.974973678588867,
          14.549827575683594,
          15.407783508300781,
          19.920738220214844,
          13.907159805297852,
          17.832904815673828,
          12.15092945098877,
          17.861228942871094,
          17.890731811523438,
          16.288217544555664,
          15.680946350097656,
          16.512935638427734,
          12.43690013885498,
          12.787525177001953,
          13.418458938598633,
          20.292484283447266,
          19.152978897094727,
          16.64947509765625,
          14.237160682678223,
          12.831269264221191,
          14.264509201049805,
          18.928686141967773,
          15.809919357299805,
          19.018388748168945,
          14.460125923156738,
          12.704180717468262,
          16.44461441040039,
          13.922467231750488,
          14.633426666259766,
          9.803184509277344,
          18.391164779663086,
          14.965182304382324,
          15.202131271362305,
          13.921619415283203,
          19.000154495239258,
          12.704180717468262,
          16.98703956604004,
          14.13509750366211,
          12.615443229675293,
          17.722427368164062,
          15.242128372192383,
          17.728443145751953,
          14.755823135375977,
          14.247721672058105,
          14.808683395385742,
          15.519481658935547,
          11.210198402404785,
          11.210198402404785,
          11.36269760131836,
          12.866315841674805,
          14.41335678100586,
          14.300615310668945,
          17.597867965698242,
          14.026984214782715,
          14.374614715576172,
          12.431063652038574,
          15.687339782714844,
          19.721670150756836,
          9.804285049438477,
          17.45905113220215,
          11.972640037536621,
          14.981081008911133,
          11.962811470031738,
          15.967446327209473,
          14.705265998840332,
          12.883475303649902,
          14.321063041687012,
          17.750411987304688,
          16.00150489807129,
          13.73250675201416,
          9.798070907592773,
          14.339767456054688,
          10.283004760742188,
          13.833575248718262,
          12.658682823181152,
          14.971254348754883,
          14.38232421875,
          13.429551124572754,
          8.030780792236328,
          8.450279235839844,
          12.100729942321777,
          15.411540031433105,
          12.704180717468262,
          17.033714294433594,
          10.143239974975586,
          14.589062690734863,
          15.890048027038574,
          13.971343994140625,
          17.853961944580078,
          9.803184509277344,
          11.596240043640137,
          14.902912139892578,
          12.158684730529785,
          13.982240676879883,
          17.978500366210938,
          14.460125923156738,
          16.037532806396484,
          20.212820053100586,
          9.803184509277344,
          12.159344673156738,
          18.052743911743164,
          14.051206588745117,
          14.268795013427734,
          12.866315841674805,
          11.332039833068848,
          14.132952690124512,
          11.455880165100098,
          12.866315841674805,
          15.371562004089355,
          11.484443664550781,
          11.222186088562012,
          12.022622108459473,
          15.083785057067871,
          16.316577911376953,
          16.722965240478516,
          14.965791702270508,
          11.838068008422852,
          16.667043685913086,
          19.330358505249023,
          14.77653694152832,
          15.555097579956055,
          9.803184509277344,
          12.906046867370605,
          14.15788745880127,
          13.833575248718262,
          12.472826957702637,
          14.310193061828613,
          14.957290649414062,
          13.028929710388184,
          12.615443229675293,
          12.779894828796387,
          14.088027000427246,
          13.604142189025879,
          11.487479209899902,
          16.11079216003418,
          12.398041725158691,
          14.821361541748047,
          12.263692855834961,
          16.096878051757812,
          13.831095695495605,
          13.417257308959961,
          11.928773880004883,
          13.971343994140625,
          20.41811752319336,
          13.605929374694824,
          14.671719551086426,
          14.161473274230957,
          12.454126358032227,
          11.769947052001953,
          13.645586013793945,
          17.113544464111328,
          14.300124168395996,
          14.22247314453125,
          12.883601188659668,
          13.661161422729492,
          19.219440460205078,
          14.661565780639648,
          13.693110466003418,
          17.033714294433594,
          11.832724571228027,
          11.853987693786621,
          12.292325973510742,
          11.210198402404785,
          12.333006858825684,
          11.294524192810059,
          13.886261940002441,
          12.795790672302246,
          11.827718734741211,
          15.47525405883789,
          18.523426055908203,
          15.826702117919922,
          16.690814971923828,
          21.47064781188965,
          14.719061851501465,
          13.768781661987305,
          12.866315841674805,
          12.321614265441895,
          14.237160682678223,
          14.431121826171875,
          13.645586013793945,
          12.53369140625,
          19.56925392150879,
          16.793344497680664,
          14.237160682678223,
          11.054386138916016,
          15.267301559448242,
          14.241459846496582,
          18.977645874023438,
          10.673151016235352,
          14.237160682678223,
          17.83189582824707,
          13.131288528442383,
          11.36269760131836,
          12.472826957702637,
          14.58926773071289,
          16.761585235595703,
          13.645586013793945,
          12.704180717468262,
          15.020049095153809,
          12.704180717468262,
          14.262900352478027,
          8.030780792236328,
          16.853105545043945,
          12.425088882446289,
          12.53369140625,
          11.210198402404785,
          15.47525405883789,
          13.645586013793945,
          13.959866523742676,
          12.025216102600098,
          14.308061599731445,
          12.704180717468262,
          16.722965240478516,
          17.08199119567871,
          14.99245834350586,
          13.576529502868652,
          14.132952690124512,
          17.786298751831055,
          11.294524192810059,
          15.918939590454102,
          14.501213073730469,
          13.750040054321289,
          12.704180717468262,
          11.998157501220703,
          13.959866523742676,
          12.472826957702637,
          12.75155258178711,
          13.62560749053955,
          14.309316635131836,
          12.866315841674805,
          9.803184509277344,
          14.13509750366211,
          12.530067443847656,
          16.267744064331055,
          12.832172393798828,
          15.344609260559082,
          9.803184509277344,
          13.133688926696777,
          11.82738971710205,
          12.996952056884766,
          9.398981094360352,
          15.176304817199707,
          12.025216102600098,
          18.771007537841797,
          12.866315841674805,
          15.538089752197266,
          14.237160682678223,
          14.965182304382324,
          11.294524192810059,
          14.355740547180176,
          9.803184509277344,
          15.567288398742676,
          13.938478469848633,
          16.316577911376953,
          14.237160682678223,
          17.033714294433594,
          14.220650672912598,
          15.596816062927246,
          14.661565780639648,
          15.360224723815918,
          13.645586013793945,
          14.237160682678223,
          14.237160682678223,
          12.704180717468262,
          14.658864974975586,
          13.161377906799316,
          17.033714294433594,
          15.596816062927246,
          12.75155258178711,
          16.316577911376953,
          14.8850736618042,
          9.803184509277344,
          14.132952690124512,
          11.855113983154297,
          12.704180717468262,
          16.761585235595703,
          12.472826957702637,
          16.690814971923828,
          9.803184509277344,
          11.147716522216797,
          13.532918930053711,
          11.95484733581543,
          13.70948314666748,
          16.746280670166016,
          12.704180717468262,
          13.645586013793945,
          9.803184509277344,
          13.880574226379395,
          11.696663856506348,
          15.20608901977539,
          14.237160682678223,
          14.237160682678223
         ]
        },
        {
         "name": "GMI+XM",
         "type": "histogram",
         "x": [
          11.363605499267578,
          16.325782775878906,
          14.9364652633667,
          12.365791320800781,
          9.781620025634766,
          12.463946342468262,
          9.529338836669922,
          8.427279472351074,
          14.703965187072754,
          8.061052322387695,
          14.267267227172852,
          15.040968894958496,
          10.435230255126953,
          12.356087684631348,
          12.908942222595215,
          10.99668025970459,
          11.669737815856934,
          7.4734601974487305,
          13.946810722351074,
          12.183077812194824,
          13.748679161071777,
          11.068496704101562,
          9.57453727722168,
          11.504376411437988,
          7.967797756195068,
          16.112932205200195,
          7.4611101150512695,
          10.375406265258789,
          7.905263423919678,
          8.526379585266113,
          8.363524436950684,
          11.225930213928223,
          13.360377311706543,
          12.777753829956055,
          14.193270683288574,
          13.46020793914795,
          11.750816345214844,
          11.569204330444336,
          12.037172317504883,
          12.478124618530273,
          10.634302139282227,
          13.187033653259277,
          13.357417106628418,
          10.223467826843262,
          8.413599014282227,
          10.80908489227295,
          8.022210121154785,
          14.523347854614258,
          11.69221305847168,
          9.291447639465332,
          9.512505531311035,
          11.777989387512207,
          10.178718566894531,
          12.735772132873535,
          7.6763482093811035,
          12.549115180969238,
          14.46568489074707,
          12.016796112060547,
          9.292970657348633,
          10.652435302734375,
          11.3609037399292,
          12.65140151977539,
          9.718194007873535,
          10.49243450164795,
          12.300362586975098,
          9.069687843322754,
          11.501616477966309,
          10.92428207397461,
          12.88132381439209,
          8.413395881652832,
          11.470111846923828,
          11.24464225769043,
          13.769638061523438,
          12.858515739440918,
          11.874810218811035,
          13.063288688659668,
          10.16829776763916,
          5.571413516998291,
          12.677325248718262,
          12.020608901977539,
          15.283393859863281,
          14.078125,
          14.04464340209961,
          8.701523780822754,
          12.797673225402832,
          14.769876480102539,
          10.514422416687012,
          10.900193214416504,
          12.257488250732422,
          13.13962173461914,
          11.453551292419434,
          10.077216148376465,
          8.990790367126465,
          9.669938087463379,
          9.187193870544434,
          11.377655029296875,
          12.84561824798584,
          7.354897499084473,
          9.05970573425293,
          14.120692253112793,
          9.469727516174316,
          9.289918899536133,
          13.860465049743652,
          8.364840507507324,
          8.029974937438965,
          9.283973693847656,
          12.977188110351562,
          14.597663879394531,
          11.732494354248047,
          13.73707389831543,
          12.19124698638916,
          13.2561674118042,
          13.126694679260254,
          11.730388641357422,
          12.34286117553711,
          9.146655082702637,
          9.992280006408691,
          11.134245872497559,
          10.3071928024292,
          10.638741493225098,
          10.650979995727539,
          8.62341022491455,
          11.027978897094727,
          11.312140464782715,
          9.534857749938965,
          9.301481246948242,
          9.049176216125488,
          11.680845260620117,
          13.102628707885742,
          10.04423713684082,
          11.598271369934082,
          12.008742332458496,
          12.203055381774902,
          11.573114395141602,
          12.019694328308105,
          12.01626968383789,
          9.997105598449707,
          10.118146896362305,
          10.415169715881348,
          14.319517135620117,
          16.775278091430664,
          12.331993103027344,
          11.653830528259277,
          10.649964332580566,
          11.36197280883789,
          14.009037971496582,
          14.369860649108887,
          14.978412628173828,
          11.037810325622559,
          13.97044563293457,
          11.588824272155762,
          12.115094184875488,
          12.797706604003906,
          11.47468090057373,
          10.084019660949707,
          11.901708602905273,
          11.775592803955078,
          6.147591590881348,
          11.26500415802002,
          13.728962898254395,
          7.145788192749023,
          12.103596687316895,
          13.104819297790527,
          9.730719566345215,
          8.954561233520508,
          11.511139869689941,
          10.928629875183105,
          10.76253604888916,
          8.827384948730469,
          7.108272075653076,
          14.967602729797363,
          13.717256546020508,
          11.431041717529297,
          11.838188171386719,
          12.238874435424805,
          11.41188907623291,
          13.567584037780762,
          12.08426570892334,
          14.536845207214355,
          9.191737174987793,
          8.456931114196777,
          11.760780334472656,
          14.679960250854492,
          14.003870964050293,
          9.860763549804688,
          9.006632804870605,
          10.97739315032959,
          11.32690715789795,
          16.14232063293457,
          10.278200149536133,
          8.35595989227295,
          13.28508186340332,
          8.947328567504883,
          8.50283145904541,
          12.012365341186523,
          12.845281600952148,
          12.331926345825195,
          10.857601165771484,
          14.809958457946777,
          11.786898612976074,
          13.977537155151367,
          9.396530151367188,
          11.208377838134766,
          14.2111234664917,
          13.584691047668457,
          9.42281723022461,
          12.163238525390625,
          12.892987251281738,
          7.865147590637207,
          8.326481819152832,
          9.78322982788086,
          8.954951286315918,
          10.091585159301758,
          10.336846351623535,
          11.154778480529785,
          6.093011856079102,
          8.749610900878906,
          9.062112808227539,
          8.459439277648926,
          12.048492431640625,
          14.020960807800293,
          11.19925594329834,
          11.854045867919922,
          11.54234504699707,
          14.847556114196777,
          15.308712005615234,
          16.04625129699707,
          15.020224571228027,
          12.165094375610352,
          10.995492935180664,
          12.355508804321289,
          13.850821495056152,
          11.40224552154541,
          13.906996726989746,
          12.209054946899414,
          12.813082695007324,
          14.619502067565918,
          9.467317581176758,
          12.153903007507324,
          15.03813362121582,
          12.8743257522583,
          12.386845588684082,
          14.506040573120117,
          10.647875785827637,
          10.039738655090332,
          14.456390380859375,
          13.264077186584473,
          10.479825973510742,
          11.140545845031738,
          9.061537742614746,
          12.425241470336914,
          11.90494441986084,
          9.814610481262207,
          10.895402908325195,
          12.804986953735352,
          12.109086990356445,
          11.32047176361084,
          13.846839904785156,
          13.119378089904785,
          12.906144142150879,
          11.709383010864258,
          9.34304141998291,
          9.457265853881836,
          7.209148406982422,
          13.134711265563965,
          11.186972618103027,
          13.912007331848145,
          11.709075927734375,
          11.065448760986328,
          11.299544334411621,
          16.819072723388672,
          14.275091171264648,
          15.847563743591309,
          11.179910659790039,
          10.716874122619629,
          10.29797649383545,
          8.32707405090332,
          6.783750057220459,
          14.892171859741211,
          12.600359916687012,
          11.298102378845215,
          14.245071411132812,
          13.10915756225586,
          13.196626663208008,
          12.723254203796387,
          13.744502067565918,
          12.832633018493652,
          8.396584510803223,
          11.320652961730957,
          14.043624877929688,
          12.950794219970703,
          18.31538200378418,
          13.405088424682617,
          15.412142753601074,
          12.9785737991333,
          11.491992950439453,
          11.704303741455078,
          11.325932502746582,
          14.728716850280762,
          14.663154602050781,
          11.606422424316406,
          14.441352844238281,
          14.464339256286621,
          11.624316215515137,
          7.3300557136535645,
          5.69419002532959,
          10.943931579589844,
          7.1522722244262695,
          7.830956935882568,
          10.838644027709961,
          9.634885787963867,
          12.236144065856934,
          14.868141174316406,
          10.108458518981934,
          10.923248291015625,
          10.819341659545898,
          9.029681205749512,
          8.493903160095215,
          7.6030755043029785,
          11.826461791992188,
          9.905628204345703,
          10.230430603027344,
          12.467255592346191,
          12.73090648651123,
          15.035202980041504,
          14.03531265258789,
          12.724656105041504,
          8.850754737854004,
          13.835057258605957,
          14.628660202026367,
          13.55945110321045,
          16.33380889892578,
          10.352272033691406,
          13.988577842712402,
          15.55313491821289,
          8.653792381286621,
          6.253105640411377,
          16.58726692199707,
          9.581087112426758,
          11.999775886535645,
          12.026018142700195,
          10.672980308532715,
          15.761411666870117,
          14.436195373535156,
          8.109172821044922,
          8.303895950317383,
          10.741512298583984,
          11.31213665008545,
          10.378328323364258,
          14.78421688079834,
          16.12226676940918,
          14.005341529846191,
          15.626055717468262,
          14.685771942138672,
          7.966564655303955,
          10.129875183105469,
          16.625791549682617,
          11.250356674194336,
          13.113603591918945,
          14.027613639831543,
          10.89989185333252,
          6.980903625488281,
          11.571460723876953,
          11.79707145690918,
          8.393291473388672,
          11.471290588378906,
          10.950779914855957,
          13.569230079650879,
          12.148852348327637,
          12.460318565368652,
          14.173345565795898,
          16.576135635375977,
          12.082743644714355,
          8.869769096374512,
          10.964872360229492,
          10.405566215515137,
          10.40099811553955,
          8.905535697937012,
          6.680978775024414,
          13.946040153503418,
          9.016397476196289,
          12.740439414978027,
          12.904433250427246,
          8.760259628295898,
          9.451559066772461,
          8.387900352478027,
          15.955998420715332,
          14.400107383728027,
          10.806890487670898,
          10.997766494750977,
          12.514662742614746,
          12.086392402648926,
          11.388675689697266,
          9.494820594787598,
          6.3687005043029785,
          13.038604736328125,
          9.146444320678711,
          10.337040901184082,
          11.607319831848145,
          13.232523918151855,
          15.32091999053955,
          8.783710479736328,
          15.527108192443848,
          13.573424339294434,
          9.333479881286621,
          13.642280578613281,
          15.128108024597168,
          13.93545150756836,
          12.329852104187012,
          12.248261451721191,
          9.60595703125,
          6.38764762878418,
          14.169368743896484,
          6.833719253540039,
          12.6326265335083,
          13.439303398132324,
          11.793732643127441,
          10.674519538879395,
          10.601616859436035,
          9.563014030456543,
          13.352263450622559,
          14.987377166748047,
          13.111713409423828,
          9.191049575805664,
          16.086511611938477,
          12.711091995239258,
          9.914226531982422,
          9.141385078430176,
          9.040809631347656,
          18.203310012817383,
          8.484794616699219,
          15.802265167236328,
          13.173468589782715,
          10.529781341552734,
          10.416020393371582,
          11.281529426574707,
          12.985846519470215,
          14.992133140563965,
          13.51510238647461,
          9.319246292114258,
          13.275341987609863,
          9.339961051940918,
          11.454498291015625,
          11.05848217010498,
          14.407258033752441,
          12.57372760772705,
          8.713786125183105,
          13.332072257995605,
          13.916119575500488,
          14.439562797546387,
          9.250325202941895,
          17.664745330810547,
          13.647858619689941,
          12.610391616821289,
          17.180845260620117,
          12.94904613494873,
          9.317601203918457,
          7.943673133850098,
          11.663347244262695,
          11.03848648071289,
          9.287880897521973,
          8.186761856079102,
          11.238540649414062,
          8.782295227050781,
          8.859102249145508,
          12.450471878051758,
          15.553570747375488,
          11.19750690460205,
          8.710136413574219,
          10.049816131591797,
          9.547531127929688,
          10.842863082885742,
          7.246737003326416,
          8.841875076293945,
          15.182393074035645,
          8.54939079284668,
          9.26671314239502,
          10.95268726348877,
          14.330801010131836,
          14.928136825561523,
          13.277669906616211,
          12.921184539794922,
          17.296194076538086,
          8.185175895690918,
          11.120887756347656,
          14.551372528076172,
          10.318387985229492,
          10.652655601501465,
          12.23654556274414,
          7.884947299957275,
          6.558645725250244,
          11.020613670349121,
          13.624728202819824,
          12.689312934875488,
          7.179076194763184,
          15.126279830932617,
          9.500288009643555,
          13.927878379821777,
          14.684203147888184,
          12.683174133300781,
          14.912263870239258,
          14.197858810424805,
          7.594605922698975,
          14.780993461608887,
          10.019512176513672,
          10.424400329589844,
          12.63683795928955,
          10.384542465209961,
          11.828991889953613,
          11.533347129821777,
          11.465228080749512,
          9.29428482055664,
          9.508529663085938,
          15.614666938781738,
          14.912030220031738,
          9.761910438537598,
          8.916397094726562,
          10.610107421875,
          9.811100006103516,
          9.03042221069336,
          12.343252182006836,
          12.119041442871094,
          14.75805377960205,
          10.343941688537598,
          13.889986038208008,
          8.408759117126465,
          12.016085624694824,
          9.046218872070312,
          10.378328323364258,
          8.49360179901123,
          13.957694053649902,
          10.69648265838623,
          8.367293357849121,
          13.808572769165039,
          12.749651908874512,
          8.76377010345459,
          9.484086036682129,
          13.047990798950195,
          13.732221603393555,
          12.054104804992676,
          13.213747024536133,
          11.642412185668945,
          13.042205810546875,
          8.782586097717285,
          15.623530387878418,
          9.03529167175293,
          9.905628204345703,
          11.6300048828125,
          9.337152481079102,
          9.326069831848145,
          13.786346435546875,
          11.795413970947266,
          14.081278800964355,
          13.670828819274902,
          14.162220001220703,
          11.36136531829834,
          11.572986602783203,
          13.633044242858887,
          14.853455543518066,
          8.07721996307373,
          8.645485877990723,
          9.50239372253418,
          15.81836986541748,
          14.31744384765625,
          13.041524887084961,
          8.558180809020996,
          12.581768989562988,
          16.050058364868164,
          15.173791885375977,
          11.5143461227417,
          7.978492736816406,
          15.680474281311035,
          12.761170387268066,
          16.36001968383789,
          14.262091636657715,
          9.587848663330078,
          14.425313949584961,
          9.2229642868042,
          13.445596694946289,
          7.807324409484863,
          12.315080642700195,
          14.670093536376953,
          11.6364164352417,
          15.109273910522461,
          17.755203247070312,
          16.919387817382812,
          9.537393569946289,
          12.594399452209473,
          9.556331634521484,
          11.320690155029297,
          11.098353385925293,
          9.814610481262207,
          9.654834747314453,
          14.458605766296387,
          13.720940589904785,
          14.353482246398926,
          11.711126327514648,
          9.905628204345703,
          13.697230339050293,
          9.51020336151123,
          9.822846412658691,
          12.814183235168457,
          9.274703025817871,
          9.018030166625977,
          9.06279182434082,
          11.286730766296387,
          16.0413761138916,
          17.17121124267578,
          8.872660636901855,
          9.314122200012207,
          12.458348274230957,
          10.73885726928711,
          8.428975105285645,
          11.10205078125,
          7.93629789352417,
          15.219632148742676,
          14.466130256652832,
          9.484604835510254,
          8.282859802246094,
          11.90648078918457,
          10.945576667785645,
          10.633098602294922,
          15.669160842895508,
          14.341060638427734,
          16.332923889160156,
          11.401493072509766,
          14.182743072509766,
          9.24260139465332,
          8.974560737609863,
          14.1500244140625,
          15.566158294677734,
          8.338568687438965,
          11.355571746826172,
          9.381721496582031,
          10.110462188720703,
          11.01153564453125,
          9.338250160217285,
          10.254846572875977,
          11.645689964294434,
          13.560750961303711,
          8.977033615112305,
          12.875838279724121,
          9.24378490447998,
          11.038293838500977,
          16.100683212280273,
          14.011048316955566,
          6.933420181274414,
          8.9959077835083,
          10.772517204284668,
          14.56902027130127,
          12.538331985473633,
          10.02402114868164,
          11.020613670349121,
          9.930476188659668,
          13.22772216796875,
          13.031664848327637,
          14.889678955078125,
          14.325668334960938,
          14.72406005859375,
          9.632489204406738,
          8.31979751586914,
          10.025925636291504,
          12.56633186340332,
          9.140816688537598,
          12.283208847045898,
          10.407081604003906,
          13.791303634643555,
          10.129875183105469,
          10.387861251831055,
          8.675437927246094,
          8.802193641662598,
          10.811100959777832,
          11.697220802307129,
          11.368620872497559,
          13.48977279663086,
          10.238858222961426,
          11.620247840881348,
          9.902297973632812,
          11.403958320617676,
          12.877032279968262,
          12.425436019897461,
          13.585911750793457,
          12.536419868469238,
          14.649271011352539,
          8.967062950134277,
          9.128981590270996,
          9.174188613891602,
          15.519598007202148,
          14.902549743652344,
          13.788640975952148,
          8.675437927246094,
          8.99259090423584,
          15.308488845825195,
          9.899401664733887,
          13.129137992858887,
          10.378328323364258,
          14.365670204162598,
          11.578673362731934,
          10.47481918334961,
          11.767813682556152,
          13.11876392364502,
          14.364724159240723,
          12.399888038635254,
          10.26118278503418,
          13.898695945739746,
          14.361454963684082,
          10.378328323364258,
          9.124567031860352,
          11.36136531829834,
          12.278332710266113,
          12.236957550048828,
          12.215845108032227,
          13.789595603942871,
          15.437775611877441,
          10.415169715881348,
          10.485654830932617,
          9.972020149230957,
          8.671818733215332,
          10.378328323364258,
          12.019746780395508,
          11.408258438110352,
          13.423603057861328,
          10.343483924865723,
          12.585453033447266,
          14.412206649780273,
          11.36136531829834,
          16.327598571777344,
          12.765046119689941,
          9.025383949279785,
          10.674519538879395,
          16.4633731842041,
          11.553457260131836,
          8.827651977539062,
          9.111762046813965,
          8.85240364074707,
          9.893954277038574,
          9.22645092010498,
          10.1826753616333,
          11.360879898071289,
          14.43610954284668,
          8.6942777633667,
          9.905628204345703,
          7.347198963165283,
          13.978577613830566,
          11.34642505645752,
          12.9924955368042,
          15.66485595703125,
          16.150959014892578,
          14.575002670288086,
          13.79951286315918,
          11.19147777557373,
          16.48563575744629,
          15.800185203552246,
          11.167048454284668,
          13.883176803588867,
          10.636910438537598,
          8.752752304077148,
          10.028395652770996,
          8.384089469909668,
          12.594399452209473,
          10.46203327178955,
          14.195470809936523,
          10.330589294433594,
          12.183290481567383,
          9.569588661193848,
          14.924449920654297,
          9.852448463439941,
          9.437283515930176,
          10.489956855773926,
          14.89570426940918,
          9.564404487609863,
          9.80534553527832,
          17.068626403808594,
          13.971413612365723,
          9.708222389221191,
          15.2696533203125,
          9.14168930053711,
          9.041674613952637,
          11.333741188049316,
          17.04351234436035,
          16.597412109375,
          10.89842700958252,
          13.459449768066406,
          11.138809204101562,
          8.641305923461914,
          9.569588661193848,
          8.455428123474121,
          13.931964874267578,
          12.169218063354492,
          12.78015422821045,
          9.970662117004395,
          10.827824592590332,
          14.889944076538086,
          14.440850257873535,
          12.439149856567383,
          15.747793197631836,
          10.496966361999512,
          14.29761791229248,
          9.701969146728516,
          11.10205078125,
          9.905628204345703,
          12.393614768981934,
          14.32586669921875,
          10.655261039733887,
          9.340285301208496,
          11.42866039276123,
          9.481673240661621,
          15.00742244720459,
          8.22109603881836,
          16.119707107543945,
          9.531346321105957,
          12.034158706665039,
          10.898759841918945,
          9.880525588989258,
          8.359712600708008,
          12.866342544555664,
          9.186744689941406,
          9.54509162902832,
          15.505918502807617,
          8.954951286315918,
          15.380005836486816,
          8.783926963806152,
          10.02977180480957,
          9.153664588928223,
          11.832660675048828,
          12.383588790893555,
          10.990715980529785,
          8.801980018615723,
          8.84580135345459,
          9.946648597717285,
          10.178398132324219,
          12.244823455810547,
          9.814610481262207,
          13.291854858398438,
          13.089012145996094,
          11.104333877563477,
          8.9959077835083,
          14.57552433013916,
          13.402127265930176,
          16.711824417114258,
          10.9589262008667,
          13.380341529846191,
          8.47632884979248,
          13.16628360748291,
          7.804661750793457,
          9.561676979064941,
          10.415169715881348,
          17.195890426635742,
          6.77194881439209,
          12.481668472290039,
          15.614402770996094,
          10.445673942565918,
          8.97685718536377,
          12.842206954956055,
          13.047517776489258,
          9.899401664733887,
          14.235363006591797,
          11.201899528503418,
          11.518410682678223,
          17.07203483581543,
          12.626327514648438,
          17.100811004638672,
          9.272706985473633,
          14.047924041748047,
          10.42576789855957,
          15.981356620788574,
          11.471290588378906,
          10.913994789123535,
          10.577397346496582,
          9.013321876525879,
          7.347198963165283,
          16.320175170898438,
          11.020613670349121,
          13.175945281982422,
          11.916528701782227,
          8.982471466064453,
          10.378328323364258,
          10.947340965270996,
          10.947340965270996,
          8.582393646240234,
          10.404890060424805,
          9.154189109802246,
          9.905628204345703,
          12.003864288330078,
          13.816325187683105,
          7.347198963165283,
          9.186744689941406,
          9.814610481262207,
          16.339399337768555,
          16.1798095703125,
          11.690031051635742,
          11.286730766296387,
          13.266864776611328,
          15.969807624816895,
          8.947324752807617,
          12.38876724243164,
          10.762245178222656,
          14.674132347106934,
          11.774667739868164,
          15.469305992126465,
          9.0087890625,
          15.002738952636719,
          12.075724601745605,
          12.09737491607666,
          12.4641695022583,
          12.3970947265625,
          8.734689712524414,
          8.968873977661133,
          9.669461250305176,
          16.99531364440918,
          15.144302368164062,
          13.027271270751953,
          10.330589294433594,
          10.096166610717773,
          11.111802101135254,
          13.192688941955566,
          12.33501148223877,
          14.33920669555664,
          10.485654830932617,
          9.814610481262207,
          13.670259475708008,
          9.899401664733887,
          11.816999435424805,
          7.347198963165283,
          14.420671463012695,
          12.054289817810059,
          13.579856872558594,
          11.6300048828125,
          12.876655578613281,
          9.814610481262207,
          11.256959915161133,
          11.261296272277832,
          10.298369407653809,
          15.859429359436035,
          10.708298683166504,
          14.86280632019043,
          11.155447006225586,
          10.41309642791748,
          10.558547019958496,
          11.479866981506348,
          8.140410423278809,
          8.140410423278809,
          9.006584167480469,
          9.905628204345703,
          12.707303047180176,
          10.378328323364258,
          16.10369873046875,
          10.864385604858398,
          13.021132469177246,
          8.926619529724121,
          10.636910438537598,
          13.587050437927246,
          7.804661750793457,
          14.350366592407227,
          8.63853931427002,
          11.183243751525879,
          8.866673469543457,
          12.687644958496094,
          10.484515190124512,
          9.282548904418945,
          11.87811279296875,
          14.782110214233398,
          11.431559562683105,
          10.28168773651123,
          7.1797027587890625,
          11.89924144744873,
          7.872053146362305,
          11.610116958618164,
          9.587848663330078,
          11.898436546325684,
          11.81635570526123,
          10.84398078918457,
          6.138537883758545,
          6.718357563018799,
          9.228641510009766,
          12.833255767822266,
          9.814610481262207,
          13.39832878112793,
          8.14830493927002,
          11.8449125289917,
          12.315539360046387,
          11.10205078125,
          12.374917030334473,
          7.347198963165283,
          8.496227264404297,
          10.721673965454102,
          9.935002326965332,
          10.154666900634766,
          11.604055404663086,
          10.485654830932617,
          10.404890060424805,
          15.708816528320312,
          7.347198963165283,
          8.982786178588867,
          14.509586334228516,
          12.464426040649414,
          11.284531593322754,
          9.905628204345703,
          8.158278465270996,
          9.852448463439941,
          8.703652381896973,
          9.905628204345703,
          12.195734024047852,
          8.359745025634766,
          8.827651977539062,
          8.980104446411133,
          10.77956485748291,
          13.061755180358887,
          13.047517776489258,
          13.10157585144043,
          9.440576553344727,
          12.784476280212402,
          13.157370567321777,
          10.721358299255371,
          11.357791900634766,
          7.347198963165283,
          8.694520950317383,
          11.079022407531738,
          11.610116958618164,
          10.129875183105469,
          11.399572372436523,
          11.4247407913208,
          11.00182056427002,
          10.298369407653809,
          9.350873947143555,
          11.50241756439209,
          11.30003833770752,
          8.594103813171387,
          11.385246276855469,
          9.959195137023926,
          12.650710105895996,
          9.127126693725586,
          12.650835037231445,
          11.529120445251465,
          9.654781341552734,
          8.97693157196045,
          11.10205078125,
          16.044517517089844,
          11.548938751220703,
          12.526734352111816,
          11.764113426208496,
          9.970662117004395,
          8.186761856079102,
          11.286730766296387,
          13.55173110961914,
          10.971031188964844,
          12.31014347076416,
          9.29428482055664,
          11.020613670349121,
          14.793360710144043,
          12.25197696685791,
          11.045683860778809,
          13.39832878112793,
          9.380705833435059,
          8.679170608520508,
          9.932470321655273,
          8.140410423278809,
          9.272706985473633,
          8.9959077835083,
          12.006059646606445,
          9.872995376586914,
          8.472293853759766,
          12.383588790893555,
          15.233526229858398,
          12.640379905700684,
          13.447227478027344,
          14.267782211303711,
          12.049614906311035,
          10.422220230102539,
          9.905628204345703,
          9.132635116577148,
          10.330589294433594,
          12.761479377746582,
          11.286730766296387,
          10.19070816040039,
          14.254066467285156,
          13.504596710205078,
          10.330589294433594,
          8.612045288085938,
          12.08525562286377,
          12.800528526306152,
          15.254693984985352,
          8.290063858032227,
          10.330589294433594,
          15.472784042358398,
          10.361493110656738,
          9.006584167480469,
          10.129875183105469,
          11.909555435180664,
          13.337729454040527,
          11.286730766296387,
          9.814610481262207,
          11.119251251220703,
          9.814610481262207,
          10.292879104614258,
          6.138537883758545,
          13.566548347473145,
          9.629903793334961,
          10.19070816040039,
          8.140410423278809,
          12.383588790893555,
          11.286730766296387,
          10.659061431884766,
          9.617319107055664,
          12.841133117675781,
          9.814610481262207,
          13.047517776489258,
          13.234463691711426,
          13.393965721130371,
          9.919650077819824,
          9.852448463439941,
          13.979636192321777,
          8.9959077835083,
          12.623209953308105,
          11.376450538635254,
          11.488947868347168,
          9.814610481262207,
          8.751379013061523,
          10.659061431884766,
          10.129875183105469,
          10.280569076538086,
          10.788154602050781,
          11.572322845458984,
          9.905628204345703,
          7.347198963165283,
          11.261296272277832,
          10.109296798706055,
          13.139758110046387,
          10.452244758605957,
          12.24677562713623,
          7.347198963165283,
          9.639006614685059,
          9.479836463928223,
          9.526591300964355,
          6.881494045257568,
          11.89803695678711,
          9.617319107055664,
          14.678498268127441,
          9.905628204345703,
          12.547510147094727,
          10.330589294433594,
          12.054289817810059,
          8.9959077835083,
          10.30289077758789,
          7.347198963165283,
          12.307890892028809,
          12.340317726135254,
          13.061755180358887,
          10.330589294433594,
          13.39832878112793,
          12.615436553955078,
          12.347782135009766,
          12.25197696685791,
          12.382390975952148,
          11.286730766296387,
          10.330589294433594,
          10.330589294433594,
          9.814610481262207,
          11.610160827636719,
          9.889263153076172,
          13.39832878112793,
          12.347782135009766,
          10.280569076538086,
          13.061755180358887,
          11.716235160827637,
          7.347198963165283,
          9.852448463439941,
          9.098644256591797,
          9.814610481262207,
          13.337729454040527,
          10.129875183105469,
          13.447227478027344,
          7.347198963165283,
          8.783926963806152,
          10.481842994689941,
          9.346717834472656,
          10.657453536987305,
          13.4736328125,
          9.814610481262207,
          11.286730766296387,
          7.347198963165283,
          11.201899528503418,
          9.458467483520508,
          12.242247581481934,
          10.330589294433594,
          10.330589294433594
         ]
        }
       ],
       "layout": {
        "font": {
         "size": 20
        },
        "paper_bgcolor": "white",
        "plot_bgcolor": "white",
        "template": {
         "data": {
          "bar": [
           {
            "error_x": {
             "color": "#2a3f5f"
            },
            "error_y": {
             "color": "#2a3f5f"
            },
            "marker": {
             "line": {
              "color": "#E5ECF6",
              "width": 0.5
             },
             "pattern": {
              "fillmode": "overlay",
              "size": 10,
              "solidity": 0.2
             }
            },
            "type": "bar"
           }
          ],
          "barpolar": [
           {
            "marker": {
             "line": {
              "color": "#E5ECF6",
              "width": 0.5
             },
             "pattern": {
              "fillmode": "overlay",
              "size": 10,
              "solidity": 0.2
             }
            },
            "type": "barpolar"
           }
          ],
          "carpet": [
           {
            "aaxis": {
             "endlinecolor": "#2a3f5f",
             "gridcolor": "white",
             "linecolor": "white",
             "minorgridcolor": "white",
             "startlinecolor": "#2a3f5f"
            },
            "baxis": {
             "endlinecolor": "#2a3f5f",
             "gridcolor": "white",
             "linecolor": "white",
             "minorgridcolor": "white",
             "startlinecolor": "#2a3f5f"
            },
            "type": "carpet"
           }
          ],
          "choropleth": [
           {
            "colorbar": {
             "outlinewidth": 0,
             "ticks": ""
            },
            "type": "choropleth"
           }
          ],
          "contour": [
           {
            "colorbar": {
             "outlinewidth": 0,
             "ticks": ""
            },
            "colorscale": [
             [
              0,
              "#0d0887"
             ],
             [
              0.1111111111111111,
              "#46039f"
             ],
             [
              0.2222222222222222,
              "#7201a8"
             ],
             [
              0.3333333333333333,
              "#9c179e"
             ],
             [
              0.4444444444444444,
              "#bd3786"
             ],
             [
              0.5555555555555556,
              "#d8576b"
             ],
             [
              0.6666666666666666,
              "#ed7953"
             ],
             [
              0.7777777777777778,
              "#fb9f3a"
             ],
             [
              0.8888888888888888,
              "#fdca26"
             ],
             [
              1,
              "#f0f921"
             ]
            ],
            "type": "contour"
           }
          ],
          "contourcarpet": [
           {
            "colorbar": {
             "outlinewidth": 0,
             "ticks": ""
            },
            "type": "contourcarpet"
           }
          ],
          "heatmap": [
           {
            "colorbar": {
             "outlinewidth": 0,
             "ticks": ""
            },
            "colorscale": [
             [
              0,
              "#0d0887"
             ],
             [
              0.1111111111111111,
              "#46039f"
             ],
             [
              0.2222222222222222,
              "#7201a8"
             ],
             [
              0.3333333333333333,
              "#9c179e"
             ],
             [
              0.4444444444444444,
              "#bd3786"
             ],
             [
              0.5555555555555556,
              "#d8576b"
             ],
             [
              0.6666666666666666,
              "#ed7953"
             ],
             [
              0.7777777777777778,
              "#fb9f3a"
             ],
             [
              0.8888888888888888,
              "#fdca26"
             ],
             [
              1,
              "#f0f921"
             ]
            ],
            "type": "heatmap"
           }
          ],
          "heatmapgl": [
           {
            "colorbar": {
             "outlinewidth": 0,
             "ticks": ""
            },
            "colorscale": [
             [
              0,
              "#0d0887"
             ],
             [
              0.1111111111111111,
              "#46039f"
             ],
             [
              0.2222222222222222,
              "#7201a8"
             ],
             [
              0.3333333333333333,
              "#9c179e"
             ],
             [
              0.4444444444444444,
              "#bd3786"
             ],
             [
              0.5555555555555556,
              "#d8576b"
             ],
             [
              0.6666666666666666,
              "#ed7953"
             ],
             [
              0.7777777777777778,
              "#fb9f3a"
             ],
             [
              0.8888888888888888,
              "#fdca26"
             ],
             [
              1,
              "#f0f921"
             ]
            ],
            "type": "heatmapgl"
           }
          ],
          "histogram": [
           {
            "marker": {
             "pattern": {
              "fillmode": "overlay",
              "size": 10,
              "solidity": 0.2
             }
            },
            "type": "histogram"
           }
          ],
          "histogram2d": [
           {
            "colorbar": {
             "outlinewidth": 0,
             "ticks": ""
            },
            "colorscale": [
             [
              0,
              "#0d0887"
             ],
             [
              0.1111111111111111,
              "#46039f"
             ],
             [
              0.2222222222222222,
              "#7201a8"
             ],
             [
              0.3333333333333333,
              "#9c179e"
             ],
             [
              0.4444444444444444,
              "#bd3786"
             ],
             [
              0.5555555555555556,
              "#d8576b"
             ],
             [
              0.6666666666666666,
              "#ed7953"
             ],
             [
              0.7777777777777778,
              "#fb9f3a"
             ],
             [
              0.8888888888888888,
              "#fdca26"
             ],
             [
              1,
              "#f0f921"
             ]
            ],
            "type": "histogram2d"
           }
          ],
          "histogram2dcontour": [
           {
            "colorbar": {
             "outlinewidth": 0,
             "ticks": ""
            },
            "colorscale": [
             [
              0,
              "#0d0887"
             ],
             [
              0.1111111111111111,
              "#46039f"
             ],
             [
              0.2222222222222222,
              "#7201a8"
             ],
             [
              0.3333333333333333,
              "#9c179e"
             ],
             [
              0.4444444444444444,
              "#bd3786"
             ],
             [
              0.5555555555555556,
              "#d8576b"
             ],
             [
              0.6666666666666666,
              "#ed7953"
             ],
             [
              0.7777777777777778,
              "#fb9f3a"
             ],
             [
              0.8888888888888888,
              "#fdca26"
             ],
             [
              1,
              "#f0f921"
             ]
            ],
            "type": "histogram2dcontour"
           }
          ],
          "mesh3d": [
           {
            "colorbar": {
             "outlinewidth": 0,
             "ticks": ""
            },
            "type": "mesh3d"
           }
          ],
          "parcoords": [
           {
            "line": {
             "colorbar": {
              "outlinewidth": 0,
              "ticks": ""
             }
            },
            "type": "parcoords"
           }
          ],
          "pie": [
           {
            "automargin": true,
            "type": "pie"
           }
          ],
          "scatter": [
           {
            "fillpattern": {
             "fillmode": "overlay",
             "size": 10,
             "solidity": 0.2
            },
            "type": "scatter"
           }
          ],
          "scatter3d": [
           {
            "line": {
             "colorbar": {
              "outlinewidth": 0,
              "ticks": ""
             }
            },
            "marker": {
             "colorbar": {
              "outlinewidth": 0,
              "ticks": ""
             }
            },
            "type": "scatter3d"
           }
          ],
          "scattercarpet": [
           {
            "marker": {
             "colorbar": {
              "outlinewidth": 0,
              "ticks": ""
             }
            },
            "type": "scattercarpet"
           }
          ],
          "scattergeo": [
           {
            "marker": {
             "colorbar": {
              "outlinewidth": 0,
              "ticks": ""
             }
            },
            "type": "scattergeo"
           }
          ],
          "scattergl": [
           {
            "marker": {
             "colorbar": {
              "outlinewidth": 0,
              "ticks": ""
             }
            },
            "type": "scattergl"
           }
          ],
          "scattermapbox": [
           {
            "marker": {
             "colorbar": {
              "outlinewidth": 0,
              "ticks": ""
             }
            },
            "type": "scattermapbox"
           }
          ],
          "scatterpolar": [
           {
            "marker": {
             "colorbar": {
              "outlinewidth": 0,
              "ticks": ""
             }
            },
            "type": "scatterpolar"
           }
          ],
          "scatterpolargl": [
           {
            "marker": {
             "colorbar": {
              "outlinewidth": 0,
              "ticks": ""
             }
            },
            "type": "scatterpolargl"
           }
          ],
          "scatterternary": [
           {
            "marker": {
             "colorbar": {
              "outlinewidth": 0,
              "ticks": ""
             }
            },
            "type": "scatterternary"
           }
          ],
          "surface": [
           {
            "colorbar": {
             "outlinewidth": 0,
             "ticks": ""
            },
            "colorscale": [
             [
              0,
              "#0d0887"
             ],
             [
              0.1111111111111111,
              "#46039f"
             ],
             [
              0.2222222222222222,
              "#7201a8"
             ],
             [
              0.3333333333333333,
              "#9c179e"
             ],
             [
              0.4444444444444444,
              "#bd3786"
             ],
             [
              0.5555555555555556,
              "#d8576b"
             ],
             [
              0.6666666666666666,
              "#ed7953"
             ],
             [
              0.7777777777777778,
              "#fb9f3a"
             ],
             [
              0.8888888888888888,
              "#fdca26"
             ],
             [
              1,
              "#f0f921"
             ]
            ],
            "type": "surface"
           }
          ],
          "table": [
           {
            "cells": {
             "fill": {
              "color": "#EBF0F8"
             },
             "line": {
              "color": "white"
             }
            },
            "header": {
             "fill": {
              "color": "#C8D4E3"
             },
             "line": {
              "color": "white"
             }
            },
            "type": "table"
           }
          ]
         },
         "layout": {
          "annotationdefaults": {
           "arrowcolor": "#2a3f5f",
           "arrowhead": 0,
           "arrowwidth": 1
          },
          "autotypenumbers": "strict",
          "coloraxis": {
           "colorbar": {
            "outlinewidth": 0,
            "ticks": ""
           }
          },
          "colorscale": {
           "diverging": [
            [
             0,
             "#8e0152"
            ],
            [
             0.1,
             "#c51b7d"
            ],
            [
             0.2,
             "#de77ae"
            ],
            [
             0.3,
             "#f1b6da"
            ],
            [
             0.4,
             "#fde0ef"
            ],
            [
             0.5,
             "#f7f7f7"
            ],
            [
             0.6,
             "#e6f5d0"
            ],
            [
             0.7,
             "#b8e186"
            ],
            [
             0.8,
             "#7fbc41"
            ],
            [
             0.9,
             "#4d9221"
            ],
            [
             1,
             "#276419"
            ]
           ],
           "sequential": [
            [
             0,
             "#0d0887"
            ],
            [
             0.1111111111111111,
             "#46039f"
            ],
            [
             0.2222222222222222,
             "#7201a8"
            ],
            [
             0.3333333333333333,
             "#9c179e"
            ],
            [
             0.4444444444444444,
             "#bd3786"
            ],
            [
             0.5555555555555556,
             "#d8576b"
            ],
            [
             0.6666666666666666,
             "#ed7953"
            ],
            [
             0.7777777777777778,
             "#fb9f3a"
            ],
            [
             0.8888888888888888,
             "#fdca26"
            ],
            [
             1,
             "#f0f921"
            ]
           ],
           "sequentialminus": [
            [
             0,
             "#0d0887"
            ],
            [
             0.1111111111111111,
             "#46039f"
            ],
            [
             0.2222222222222222,
             "#7201a8"
            ],
            [
             0.3333333333333333,
             "#9c179e"
            ],
            [
             0.4444444444444444,
             "#bd3786"
            ],
            [
             0.5555555555555556,
             "#d8576b"
            ],
            [
             0.6666666666666666,
             "#ed7953"
            ],
            [
             0.7777777777777778,
             "#fb9f3a"
            ],
            [
             0.8888888888888888,
             "#fdca26"
            ],
            [
             1,
             "#f0f921"
            ]
           ]
          },
          "colorway": [
           "#636efa",
           "#EF553B",
           "#00cc96",
           "#ab63fa",
           "#FFA15A",
           "#19d3f3",
           "#FF6692",
           "#B6E880",
           "#FF97FF",
           "#FECB52"
          ],
          "font": {
           "color": "#2a3f5f"
          },
          "geo": {
           "bgcolor": "white",
           "lakecolor": "white",
           "landcolor": "#E5ECF6",
           "showlakes": true,
           "showland": true,
           "subunitcolor": "white"
          },
          "hoverlabel": {
           "align": "left"
          },
          "hovermode": "closest",
          "mapbox": {
           "style": "light"
          },
          "paper_bgcolor": "white",
          "plot_bgcolor": "#E5ECF6",
          "polar": {
           "angularaxis": {
            "gridcolor": "white",
            "linecolor": "white",
            "ticks": ""
           },
           "bgcolor": "#E5ECF6",
           "radialaxis": {
            "gridcolor": "white",
            "linecolor": "white",
            "ticks": ""
           }
          },
          "scene": {
           "xaxis": {
            "backgroundcolor": "#E5ECF6",
            "gridcolor": "white",
            "gridwidth": 2,
            "linecolor": "white",
            "showbackground": true,
            "ticks": "",
            "zerolinecolor": "white"
           },
           "yaxis": {
            "backgroundcolor": "#E5ECF6",
            "gridcolor": "white",
            "gridwidth": 2,
            "linecolor": "white",
            "showbackground": true,
            "ticks": "",
            "zerolinecolor": "white"
           },
           "zaxis": {
            "backgroundcolor": "#E5ECF6",
            "gridcolor": "white",
            "gridwidth": 2,
            "linecolor": "white",
            "showbackground": true,
            "ticks": "",
            "zerolinecolor": "white"
           }
          },
          "shapedefaults": {
           "line": {
            "color": "#2a3f5f"
           }
          },
          "ternary": {
           "aaxis": {
            "gridcolor": "white",
            "linecolor": "white",
            "ticks": ""
           },
           "baxis": {
            "gridcolor": "white",
            "linecolor": "white",
            "ticks": ""
           },
           "bgcolor": "#E5ECF6",
           "caxis": {
            "gridcolor": "white",
            "linecolor": "white",
            "ticks": ""
           }
          },
          "title": {
           "x": 0.05
          },
          "xaxis": {
           "automargin": true,
           "gridcolor": "white",
           "linecolor": "white",
           "ticks": "",
           "title": {
            "standoff": 15
           },
           "zerolinecolor": "white",
           "zerolinewidth": 2
          },
          "yaxis": {
           "automargin": true,
           "gridcolor": "white",
           "linecolor": "white",
           "ticks": "",
           "title": {
            "standoff": 15
           },
           "zerolinecolor": "white",
           "zerolinewidth": 2
          }
         }
        },
        "title": {
         "text": "Distribution of Nuclear Norm of Node Explain Matrix"
        },
        "xaxis": {
         "title": {
          "text": "Nuclear Norm"
         }
        },
        "yaxis": {
         "title": {
          "text": "Frequency"
         }
        }
       }
      },
      "text/html": [
       "<div>                            <div id=\"41310f65-68d6-4159-ba1b-6ee42aa6f1f3\" class=\"plotly-graph-div\" style=\"height:525px; width:100%;\"></div>            <script type=\"text/javascript\">                require([\"plotly\"], function(Plotly) {                    window.PLOTLYENV=window.PLOTLYENV || {};                                    if (document.getElementById(\"41310f65-68d6-4159-ba1b-6ee42aa6f1f3\")) {                    Plotly.newPlot(                        \"41310f65-68d6-4159-ba1b-6ee42aa6f1f3\",                        [{\"name\":\"GMI\",\"x\":[14.017891883850098,21.402509689331055,20.74321937561035,19.312219619750977,16.126310348510742,17.810529708862305,13.752860069274902,12.078385353088379,21.178546905517578,13.166539192199707,21.152921676635742,21.054216384887695,16.04226303100586,19.1951904296875,19.128812789916992,17.268417358398438,17.909940719604492,11.85106086730957,20.691259384155273,18.93013572692871,19.252832412719727,17.288991928100586,15.306777954101562,17.938636779785156,12.973783493041992,19.418376922607422,11.858434677124023,17.387733459472656,12.59506607055664,12.119738578796387,11.853660583496094,17.6544189453125,19.711233139038086,19.2359561920166,21.60647964477539,20.06929588317871,18.681047439575195,17.928306579589844,18.807693481445312,15.904520034790039,17.05946159362793,19.175704956054688,18.77602195739746,16.26010513305664,13.743803024291992,17.009166717529297,13.216537475585938,21.158180236816406,18.329038619995117,14.738758087158203,15.080791473388672,18.675081253051758,15.09278392791748,19.332679748535156,12.893799781799316,19.59311866760254,19.815771102905273,18.97568130493164,15.044270515441895,17.05194091796875,17.77234649658203,19.878707885742188,15.261899948120117,16.431604385375977,18.489482879638672,16.6991024017334,17.79306411743164,17.580793380737305,18.832971572875977,14.139595031738281,18.0607852935791,17.494014739990234,20.828937530517578,19.3928279876709,18.329025268554688,19.729158401489258,14.617192268371582,8.469955444335938,18.340559005737305,18.472078323364258,22.582853317260742,18.786317825317383,19.219690322875977,14.068634033203125,17.683670043945312,21.37469482421875,17.44273567199707,16.54362678527832,19.293960571289062,19.41299819946289,18.09861946105957,14.357643127441406,14.46837329864502,15.43266773223877,15.079833984375,17.11779022216797,19.34764289855957,11.35204792022705,12.788445472717285,21.345142364501953,13.388303756713867,13.401093482971191,19.465560913085938,11.797938346862793,11.396184921264648,15.138049125671387,17.953184127807617,21.6326961517334,18.459300994873047,20.13987159729004,18.88795280456543,15.831047058105469,20.48488998413086,17.881502151489258,19.541017532348633,14.860756874084473,13.697364807128906,16.95624542236328,16.38153839111328,18.85683250427246,16.828462600708008,13.768163681030273,18.4697322845459,18.253467559814453,16.91337776184082,12.92074203491211,12.622674942016602,18.654109954833984,19.764577865600586,16.29686737060547,18.247467041015625,17.652891159057617,18.15796661376953,16.73828125,18.938385009765625,18.737506866455078,16.099397659301758,16.065265655517578,14.251465797424316,17.571170806884766,21.022743225097656,18.104450225830078,18.50917625427246,15.694400787353516,18.209144592285156,20.29136085510254,20.161231994628906,19.723543167114258,17.313684463500977,19.208545684814453,17.467758178710938,18.69594955444336,14.243678092956543,17.913436889648438,16.08378028869629,17.378047943115234,18.220964431762695,6.783592224121094,14.125184059143066,16.50950050354004,11.515549659729004,14.79625129699707,19.402727127075195,13.50409984588623,12.626106262207031,18.119712829589844,16.507883071899414,17.239418029785156,12.323175430297852,10.0762357711792,21.8685245513916,19.596105575561523,17.654685974121094,18.038911819458008,18.869112014770508,17.05095100402832,19.376934051513672,18.736572265625,20.67317771911621,12.960431098937988,11.93472957611084,18.368104934692383,18.818708419799805,20.501787185668945,13.911569595336914,14.406492233276367,17.569406509399414,17.712434768676758,19.630146026611328,14.080711364746094,11.361007690429688,16.676063537597656,12.482514381408691,11.945734024047852,16.02600860595703,15.70976734161377,19.048879623413086,17.040870666503906,18.641477584838867,18.448331832885742,18.27526092529297,15.157551765441895,17.564319610595703,19.2337589263916,19.513656616210938,14.952441215515137,18.22503662109375,17.02762794494629,11.665478706359863,12.227270126342773,13.829984664916992,11.988615036010742,13.801190376281738,16.433361053466797,17.871315002441406,8.579097747802734,12.144556045532227,12.366424560546875,11.256058692932129,18.803977966308594,21.027433395385742,17.501758575439453,17.771625518798828,17.96994972229004,19.60007095336914,21.025808334350586,20.74224281311035,21.088550567626953,19.0419979095459,16.988698959350586,19.240840911865234,19.53282928466797,18.810081481933594,18.797090530395508,18.678255081176758,19.82122230529785,20.700637817382812,13.147860527038574,19.273235321044922,21.69205665588379,18.647428512573242,17.98317527770996,17.637731552124023,16.368589401245117,12.91446304321289,20.256797790527344,18.84975814819336,14.250449180603027,17.639219284057617,12.799012184143066,19.21432113647461,17.86343002319336,12.704180717468262,13.608771324157715,19.650367736816406,19.12157440185547,18.058284759521484,18.894086837768555,20.069116592407227,17.55165672302246,16.81210708618164,13.100736618041992,13.239742279052734,10.082653999328613,18.6912841796875,16.124311447143555,20.589242935180664,17.5225887298584,16.777788162231445,14.877878189086914,19.704265594482422,20.387176513671875,21.26494598388672,18.95930290222168,17.199050903320312,17.15074348449707,11.755495071411133,9.613698959350586,21.083049774169922,19.413192749023438,18.797361373901367,20.837268829345703,20.404401779174805,20.467178344726562,15.734573364257812,19.831314086914062,19.033302307128906,12.01324462890625,17.726749420166016,19.460020065307617,18.031383514404297,20.01224708557129,18.03310203552246,20.854103088378906,19.206829071044922,17.771183013916016,17.673521041870117,17.10650062561035,16.995201110839844,20.93130874633789,17.380399703979492,20.6411190032959,20.184593200683594,18.067710876464844,10.458337783813477,8.988597869873047,15.403121948242188,10.019617080688477,11.063304901123047,16.716434478759766,13.390876770019531,17.84413719177246,18.010866165161133,16.009540557861328,15.628193855285645,17.39358901977539,12.760286331176758,11.938100814819336,10.545283317565918,18.321157455444336,12.866315841674805,13.18115520477295,16.863666534423828,19.269935607910156,21.555112838745117,20.80742073059082,18.815162658691406,12.393916130065918,17.212196350097656,17.52835464477539,19.251577377319336,19.24163055419922,16.71914291381836,17.676528930664062,22.291996002197266,11.778546333312988,8.567063331604004,19.155906677246094,15.360471725463867,17.439661026000977,15.67564582824707,13.607826232910156,21.975915908813477,20.626131057739258,11.19936752319336,11.65917682647705,16.838769912719727,16.665292739868164,14.300615310668945,17.355152130126953,19.53626251220703,18.06665802001953,19.4503231048584,21.502098083496094,11.303781509399414,12.472826957702637,18.394798278808594,16.682615280151367,19.600797653198242,19.642303466796875,14.226899147033691,9.867576599121094,16.50836944580078,18.021228790283203,12.622537612915039,16.435184478759766,15.299811363220215,19.51457405090332,15.032355308532715,18.241283416748047,20.61605453491211,20.342815399169922,19.53835678100586,12.482259750366211,15.124068260192871,17.501659393310547,15.445486068725586,12.494105339050293,9.095688819885254,17.612443923950195,11.99113655090332,18.59253692626953,16.715091705322266,12.971062660217285,13.262004852294922,11.773999214172363,19.953475952148438,20.937044143676758,16.653047561645508,13.811254501342773,16.001981735229492,17.468647003173828,17.08561134338379,13.393383026123047,8.813733100891113,15.561290740966797,12.970856666564941,14.847557067871094,17.725849151611328,17.955732345581055,19.92301368713379,12.501653671264648,21.746335983276367,18.889665603637695,15.699352264404297,18.978168487548828,21.041231155395508,20.343263626098633,18.529563903808594,17.927738189697266,12.167023658752441,8.709047317504883,19.855709075927734,9.926141738891602,14.066933631896973,16.807350158691406,18.5123348236084,15.886998176574707,14.43998908996582,13.211872100830078,18.409671783447266,22.635902404785156,18.163951873779297,12.880623817443848,19.714765548706055,18.696575164794922,16.076539993286133,12.713258743286133,12.749393463134766,20.46849250793457,12.048942565917969,19.85308074951172,18.84100341796875,14.961943626403809,13.961928367614746,13.914917945861816,19.63770866394043,20.228960037231445,19.659862518310547,13.830890655517578,17.79085350036621,12.558794975280762,15.58665943145752,17.550140380859375,21.05727195739746,17.6396541595459,12.245016098022461,18.910402297973633,18.56205940246582,17.01519012451172,12.864352226257324,19.343523025512695,18.341567993164062,19.107908248901367,20.17352294921875,19.588346481323242,13.086918830871582,11.09244441986084,16.652645111083984,17.269317626953125,13.655383110046387,11.769947052001953,13.545117378234863,12.490035057067871,11.644818305969238,14.842926025390625,18.92061424255371,13.82939624786377,12.238815307617188,14.512630462646484,13.972789764404297,15.009368896484375,10.219728469848633,12.403820037841797,21.492067337036133,11.862808227539062,13.25117301940918,16.216991424560547,16.01606559753418,17.88752555847168,20.16990089416504,14.762768745422363,18.82712745666504,11.662822723388672,16.701026916503906,20.53835105895996,15.472894668579102,14.769880294799805,14.004668235778809,10.582324028015137,8.711606979370117,13.661161422729492,17.911863327026367,15.984138488769531,9.820345878601074,21.37611198425293,13.31722640991211,19.83884048461914,17.614299774169922,19.113941192626953,20.602153778076172,19.49904441833496,10.74555778503418,20.029945373535156,14.284732818603516,16.64859962463379,20.75007438659668,13.966707229614258,18.53415870666504,15.60993766784668,14.407635688781738,12.883601188659668,12.830137252807617,20.573240280151367,20.2498779296875,13.408326148986816,12.585163116455078,14.747227668762207,13.59267807006836,12.57491397857666,19.283531188964844,17.071428298950195,19.701950073242188,14.677823066711426,19.259798049926758,11.796679496765137,18.136404037475586,12.669827461242676,14.300615310668945,12.151128768920898,16.53336524963379,15.541237831115723,11.851075172424316,19.436031341552734,14.29173469543457,11.580414772033691,13.079033851623535,15.887271881103516,17.95427703857422,19.665008544921875,18.945499420166016,17.887271881103516,16.870676040649414,12.582917213439941,22.243749618530273,12.996431350708008,12.866315841674805,13.921619415283203,13.475868225097656,13.19801139831543,17.89197540283203,17.47233772277832,15.882281303405762,18.538103103637695,21.00204086303711,13.889575004577637,15.657769203186035,17.434602737426758,18.77962875366211,11.138711929321289,12.050785064697266,13.431840896606445,18.744142532348633,19.33078956604004,14.908987045288086,11.793435096740723,19.128992080688477,19.72732162475586,16.912254333496094,17.758508682250977,11.015510559082031,21.500282287597656,14.54807186126709,19.57147979736328,16.923099517822266,12.658682823181152,19.314146041870117,12.82896614074707,17.16263198852539,11.164175987243652,15.53043270111084,21.56170082092285,17.8512020111084,21.453006744384766,21.3344669342041,21.989356994628906,13.575043678283691,14.836745262145996,13.553125381469727,17.869094848632812,16.986127853393555,12.704180717468262,12.068578720092773,19.493879318237305,19.33464813232422,21.004619598388672,18.25600814819336,12.866315841674805,15.641114234924316,13.192461013793945,13.943089485168457,18.388938903808594,13.001555442810059,12.721664428710938,12.571867942810059,13.645586013793945,19.65337562561035,19.326807022094727,11.866762161254883,13.191439628601074,14.417457580566406,15.231620788574219,11.831842422485352,13.971343994140625,11.112186431884766,21.73173713684082,20.12797737121582,13.439223289489746,11.832393646240234,14.380990982055664,13.356876373291016,14.897332191467285,18.268198013305664,15.797430992126465,19.52948760986328,15.257129669189453,20.176443099975586,12.970690727233887,12.54271411895752,18.518924713134766,18.80643653869629,11.77959156036377,13.787514686584473,12.95440673828125,13.893925666809082,15.721975326538086,12.619566917419434,13.877222061157227,17.21615982055664,18.129215240478516,12.483182907104492,20.18836212158203,12.820931434631348,16.4471378326416,20.141525268554688,21.223419189453125,9.951022148132324,11.294524192810059,15.937544822692871,17.657133102416992,19.336326599121094,14.303250312805176,13.661161422729492,13.954850196838379,14.808175086975098,17.874727249145508,17.904340744018555,20.527494430541992,20.136919021606445,13.81772232055664,12.698594093322754,12.269545555114746,14.64140796661377,13.023863792419434,16.555234909057617,14.715317726135254,20.029516220092773,12.472826957702637,14.547518730163574,12.570027351379395,11.73140811920166,14.40853214263916,16.541606903076172,16.393030166625977,15.261284828186035,14.968262672424316,14.729961395263672,13.151122093200684,16.147415161132812,19.797033309936523,15.6007719039917,17.8531436920166,18.492403030395508,17.846630096435547,12.102055549621582,12.781892776489258,14.41167163848877,20.085662841796875,20.888813018798828,19.865699768066406,12.570027351379395,12.76724910736084,18.84126091003418,13.922467231750488,17.08401107788086,14.300615310668945,16.599275588989258,17.62613868713379,15.804814338684082,16.24422836303711,15.242900848388672,17.413284301757812,17.984169006347656,15.597923278808594,15.21368408203125,20.47122573852539,14.300615310668945,12.97016429901123,13.889575004577637,18.936073303222656,15.715374946594238,14.85583209991455,16.4498233795166,22.390792846679688,14.251465797424316,14.460125923156738,13.746447563171387,11.407366752624512,14.300615310668945,17.974342346191406,15.757899284362793,14.715226173400879,13.591084480285645,14.253263473510742,19.937091827392578,13.889575004577637,20.34194564819336,18.179851531982422,12.587791442871094,15.886998176574707,20.573265075683594,17.656658172607422,11.222186088562012,12.548657417297363,12.252138137817383,14.524645805358887,13.07634162902832,14.195608139038086,14.068330764770508,17.6755313873291,11.882213592529297,12.866315841674805,9.803184509277344,20.06219482421875,13.823352813720703,15.86275577545166,20.055217742919922,19.366668701171875,18.044160842895508,16.71564483642578,13.60746955871582,20.88829803466797,19.413890838623047,14.154499053955078,21.016624450683594,15.687339782714844,11.478753089904785,13.006014823913574,10.513704299926758,14.836745262145996,13.127110481262207,16.634593963623047,14.237160682678223,17.922998428344727,12.010957717895508,19.63021469116211,14.132952690124512,12.042146682739258,14.157535552978516,19.742475509643555,13.169142723083496,14.12641716003418,19.77898597717285,16.777624130249023,13.32265853881836,18.00221824645996,12.560184478759766,12.551122665405273,16.42439842224121,20.79764175415039,20.134267807006836,14.367663383483887,19.58807945251465,13.975615501403809,11.399703025817871,12.010957717895508,11.304801940917969,18.9190731048584,16.95421600341797,19.29971694946289,12.454126358032227,15.73007869720459,20.121004104614258,17.080774307250977,17.639522552490234,21.801025390625,15.421357154846191,20.36696434020996,13.539674758911133,13.971343994140625,12.866315841674805,15.33646297454834,19.877714157104492,14.684257507324219,12.546842575073242,14.941435813903809,13.125224113464355,19.8636417388916,11.371294975280762,19.620969772338867,13.205458641052246,18.238645553588867,16.90537452697754,12.849124908447266,11.608682632446289,18.039897918701172,12.59999942779541,13.826101303100586,19.419382095336914,11.988615036010742,18.305021286010742,11.147716522216797,15.039876937866211,12.822795867919922,17.5253963470459,15.47525405883789,14.814522743225098,12.3262939453125,11.750853538513184,15.190546035766602,14.492960929870605,14.563552856445312,12.704180717468262,17.349355697631836,14.384482383728027,13.310145378112793,11.294524192810059,18.89863395690918,19.955123901367188,18.693370819091797,14.374417304992676,16.50992202758789,12.16835880279541,16.451231002807617,9.804285049438477,11.785663604736328,14.251465797424316,20.636974334716797,9.272603034973145,15.660454750061035,22.46607780456543,13.682168960571289,11.373984336853027,17.949237823486328,16.722965240478516,13.922467231750488,18.065460205078125,13.880574226379395,16.643091201782227,20.377544403076172,19.062074661254883,21.918596267700195,12.333006858825684,19.8569278717041,14.825217247009277,17.70249366760254,16.435184478759766,14.610678672790527,14.982001304626465,12.770125389099121,9.803184509277344,19.658920288085938,13.661161422729492,16.539627075195312,14.385435104370117,12.767427444458008,14.300615310668945,15.3711576461792,15.3711576461792,12.282604217529297,16.037532806396484,12.263916969299316,12.866315841674805,16.881025314331055,18.146371841430664,9.803184509277344,12.59999942779541,12.704180717468262,17.93295669555664,19.59442901611328,14.528358459472656,13.645586013793945,14.840203285217285,18.573532104492188,12.974973678588867,14.549827575683594,15.407783508300781,19.920738220214844,13.907159805297852,17.832904815673828,12.15092945098877,17.861228942871094,17.890731811523438,16.288217544555664,15.680946350097656,16.512935638427734,12.43690013885498,12.787525177001953,13.418458938598633,20.292484283447266,19.152978897094727,16.64947509765625,14.237160682678223,12.831269264221191,14.264509201049805,18.928686141967773,15.809919357299805,19.018388748168945,14.460125923156738,12.704180717468262,16.44461441040039,13.922467231750488,14.633426666259766,9.803184509277344,18.391164779663086,14.965182304382324,15.202131271362305,13.921619415283203,19.000154495239258,12.704180717468262,16.98703956604004,14.13509750366211,12.615443229675293,17.722427368164062,15.242128372192383,17.728443145751953,14.755823135375977,14.247721672058105,14.808683395385742,15.519481658935547,11.210198402404785,11.210198402404785,11.36269760131836,12.866315841674805,14.41335678100586,14.300615310668945,17.597867965698242,14.026984214782715,14.374614715576172,12.431063652038574,15.687339782714844,19.721670150756836,9.804285049438477,17.45905113220215,11.972640037536621,14.981081008911133,11.962811470031738,15.967446327209473,14.705265998840332,12.883475303649902,14.321063041687012,17.750411987304688,16.00150489807129,13.73250675201416,9.798070907592773,14.339767456054688,10.283004760742188,13.833575248718262,12.658682823181152,14.971254348754883,14.38232421875,13.429551124572754,8.030780792236328,8.450279235839844,12.100729942321777,15.411540031433105,12.704180717468262,17.033714294433594,10.143239974975586,14.589062690734863,15.890048027038574,13.971343994140625,17.853961944580078,9.803184509277344,11.596240043640137,14.902912139892578,12.158684730529785,13.982240676879883,17.978500366210938,14.460125923156738,16.037532806396484,20.212820053100586,9.803184509277344,12.159344673156738,18.052743911743164,14.051206588745117,14.268795013427734,12.866315841674805,11.332039833068848,14.132952690124512,11.455880165100098,12.866315841674805,15.371562004089355,11.484443664550781,11.222186088562012,12.022622108459473,15.083785057067871,16.316577911376953,16.722965240478516,14.965791702270508,11.838068008422852,16.667043685913086,19.330358505249023,14.77653694152832,15.555097579956055,9.803184509277344,12.906046867370605,14.15788745880127,13.833575248718262,12.472826957702637,14.310193061828613,14.957290649414062,13.028929710388184,12.615443229675293,12.779894828796387,14.088027000427246,13.604142189025879,11.487479209899902,16.11079216003418,12.398041725158691,14.821361541748047,12.263692855834961,16.096878051757812,13.831095695495605,13.417257308959961,11.928773880004883,13.971343994140625,20.41811752319336,13.605929374694824,14.671719551086426,14.161473274230957,12.454126358032227,11.769947052001953,13.645586013793945,17.113544464111328,14.300124168395996,14.22247314453125,12.883601188659668,13.661161422729492,19.219440460205078,14.661565780639648,13.693110466003418,17.033714294433594,11.832724571228027,11.853987693786621,12.292325973510742,11.210198402404785,12.333006858825684,11.294524192810059,13.886261940002441,12.795790672302246,11.827718734741211,15.47525405883789,18.523426055908203,15.826702117919922,16.690814971923828,21.47064781188965,14.719061851501465,13.768781661987305,12.866315841674805,12.321614265441895,14.237160682678223,14.431121826171875,13.645586013793945,12.53369140625,19.56925392150879,16.793344497680664,14.237160682678223,11.054386138916016,15.267301559448242,14.241459846496582,18.977645874023438,10.673151016235352,14.237160682678223,17.83189582824707,13.131288528442383,11.36269760131836,12.472826957702637,14.58926773071289,16.761585235595703,13.645586013793945,12.704180717468262,15.020049095153809,12.704180717468262,14.262900352478027,8.030780792236328,16.853105545043945,12.425088882446289,12.53369140625,11.210198402404785,15.47525405883789,13.645586013793945,13.959866523742676,12.025216102600098,14.308061599731445,12.704180717468262,16.722965240478516,17.08199119567871,14.99245834350586,13.576529502868652,14.132952690124512,17.786298751831055,11.294524192810059,15.918939590454102,14.501213073730469,13.750040054321289,12.704180717468262,11.998157501220703,13.959866523742676,12.472826957702637,12.75155258178711,13.62560749053955,14.309316635131836,12.866315841674805,9.803184509277344,14.13509750366211,12.530067443847656,16.267744064331055,12.832172393798828,15.344609260559082,9.803184509277344,13.133688926696777,11.82738971710205,12.996952056884766,9.398981094360352,15.176304817199707,12.025216102600098,18.771007537841797,12.866315841674805,15.538089752197266,14.237160682678223,14.965182304382324,11.294524192810059,14.355740547180176,9.803184509277344,15.567288398742676,13.938478469848633,16.316577911376953,14.237160682678223,17.033714294433594,14.220650672912598,15.596816062927246,14.661565780639648,15.360224723815918,13.645586013793945,14.237160682678223,14.237160682678223,12.704180717468262,14.658864974975586,13.161377906799316,17.033714294433594,15.596816062927246,12.75155258178711,16.316577911376953,14.8850736618042,9.803184509277344,14.132952690124512,11.855113983154297,12.704180717468262,16.761585235595703,12.472826957702637,16.690814971923828,9.803184509277344,11.147716522216797,13.532918930053711,11.95484733581543,13.70948314666748,16.746280670166016,12.704180717468262,13.645586013793945,9.803184509277344,13.880574226379395,11.696663856506348,15.20608901977539,14.237160682678223,14.237160682678223],\"type\":\"histogram\"},{\"name\":\"GMI+XM\",\"x\":[11.363605499267578,16.325782775878906,14.9364652633667,12.365791320800781,9.781620025634766,12.463946342468262,9.529338836669922,8.427279472351074,14.703965187072754,8.061052322387695,14.267267227172852,15.040968894958496,10.435230255126953,12.356087684631348,12.908942222595215,10.99668025970459,11.669737815856934,7.4734601974487305,13.946810722351074,12.183077812194824,13.748679161071777,11.068496704101562,9.57453727722168,11.504376411437988,7.967797756195068,16.112932205200195,7.4611101150512695,10.375406265258789,7.905263423919678,8.526379585266113,8.363524436950684,11.225930213928223,13.360377311706543,12.777753829956055,14.193270683288574,13.46020793914795,11.750816345214844,11.569204330444336,12.037172317504883,12.478124618530273,10.634302139282227,13.187033653259277,13.357417106628418,10.223467826843262,8.413599014282227,10.80908489227295,8.022210121154785,14.523347854614258,11.69221305847168,9.291447639465332,9.512505531311035,11.777989387512207,10.178718566894531,12.735772132873535,7.6763482093811035,12.549115180969238,14.46568489074707,12.016796112060547,9.292970657348633,10.652435302734375,11.3609037399292,12.65140151977539,9.718194007873535,10.49243450164795,12.300362586975098,9.069687843322754,11.501616477966309,10.92428207397461,12.88132381439209,8.413395881652832,11.470111846923828,11.24464225769043,13.769638061523438,12.858515739440918,11.874810218811035,13.063288688659668,10.16829776763916,5.571413516998291,12.677325248718262,12.020608901977539,15.283393859863281,14.078125,14.04464340209961,8.701523780822754,12.797673225402832,14.769876480102539,10.514422416687012,10.900193214416504,12.257488250732422,13.13962173461914,11.453551292419434,10.077216148376465,8.990790367126465,9.669938087463379,9.187193870544434,11.377655029296875,12.84561824798584,7.354897499084473,9.05970573425293,14.120692253112793,9.469727516174316,9.289918899536133,13.860465049743652,8.364840507507324,8.029974937438965,9.283973693847656,12.977188110351562,14.597663879394531,11.732494354248047,13.73707389831543,12.19124698638916,13.2561674118042,13.126694679260254,11.730388641357422,12.34286117553711,9.146655082702637,9.992280006408691,11.134245872497559,10.3071928024292,10.638741493225098,10.650979995727539,8.62341022491455,11.027978897094727,11.312140464782715,9.534857749938965,9.301481246948242,9.049176216125488,11.680845260620117,13.102628707885742,10.04423713684082,11.598271369934082,12.008742332458496,12.203055381774902,11.573114395141602,12.019694328308105,12.01626968383789,9.997105598449707,10.118146896362305,10.415169715881348,14.319517135620117,16.775278091430664,12.331993103027344,11.653830528259277,10.649964332580566,11.36197280883789,14.009037971496582,14.369860649108887,14.978412628173828,11.037810325622559,13.97044563293457,11.588824272155762,12.115094184875488,12.797706604003906,11.47468090057373,10.084019660949707,11.901708602905273,11.775592803955078,6.147591590881348,11.26500415802002,13.728962898254395,7.145788192749023,12.103596687316895,13.104819297790527,9.730719566345215,8.954561233520508,11.511139869689941,10.928629875183105,10.76253604888916,8.827384948730469,7.108272075653076,14.967602729797363,13.717256546020508,11.431041717529297,11.838188171386719,12.238874435424805,11.41188907623291,13.567584037780762,12.08426570892334,14.536845207214355,9.191737174987793,8.456931114196777,11.760780334472656,14.679960250854492,14.003870964050293,9.860763549804688,9.006632804870605,10.97739315032959,11.32690715789795,16.14232063293457,10.278200149536133,8.35595989227295,13.28508186340332,8.947328567504883,8.50283145904541,12.012365341186523,12.845281600952148,12.331926345825195,10.857601165771484,14.809958457946777,11.786898612976074,13.977537155151367,9.396530151367188,11.208377838134766,14.2111234664917,13.584691047668457,9.42281723022461,12.163238525390625,12.892987251281738,7.865147590637207,8.326481819152832,9.78322982788086,8.954951286315918,10.091585159301758,10.336846351623535,11.154778480529785,6.093011856079102,8.749610900878906,9.062112808227539,8.459439277648926,12.048492431640625,14.020960807800293,11.19925594329834,11.854045867919922,11.54234504699707,14.847556114196777,15.308712005615234,16.04625129699707,15.020224571228027,12.165094375610352,10.995492935180664,12.355508804321289,13.850821495056152,11.40224552154541,13.906996726989746,12.209054946899414,12.813082695007324,14.619502067565918,9.467317581176758,12.153903007507324,15.03813362121582,12.8743257522583,12.386845588684082,14.506040573120117,10.647875785827637,10.039738655090332,14.456390380859375,13.264077186584473,10.479825973510742,11.140545845031738,9.061537742614746,12.425241470336914,11.90494441986084,9.814610481262207,10.895402908325195,12.804986953735352,12.109086990356445,11.32047176361084,13.846839904785156,13.119378089904785,12.906144142150879,11.709383010864258,9.34304141998291,9.457265853881836,7.209148406982422,13.134711265563965,11.186972618103027,13.912007331848145,11.709075927734375,11.065448760986328,11.299544334411621,16.819072723388672,14.275091171264648,15.847563743591309,11.179910659790039,10.716874122619629,10.29797649383545,8.32707405090332,6.783750057220459,14.892171859741211,12.600359916687012,11.298102378845215,14.245071411132812,13.10915756225586,13.196626663208008,12.723254203796387,13.744502067565918,12.832633018493652,8.396584510803223,11.320652961730957,14.043624877929688,12.950794219970703,18.31538200378418,13.405088424682617,15.412142753601074,12.9785737991333,11.491992950439453,11.704303741455078,11.325932502746582,14.728716850280762,14.663154602050781,11.606422424316406,14.441352844238281,14.464339256286621,11.624316215515137,7.3300557136535645,5.69419002532959,10.943931579589844,7.1522722244262695,7.830956935882568,10.838644027709961,9.634885787963867,12.236144065856934,14.868141174316406,10.108458518981934,10.923248291015625,10.819341659545898,9.029681205749512,8.493903160095215,7.6030755043029785,11.826461791992188,9.905628204345703,10.230430603027344,12.467255592346191,12.73090648651123,15.035202980041504,14.03531265258789,12.724656105041504,8.850754737854004,13.835057258605957,14.628660202026367,13.55945110321045,16.33380889892578,10.352272033691406,13.988577842712402,15.55313491821289,8.653792381286621,6.253105640411377,16.58726692199707,9.581087112426758,11.999775886535645,12.026018142700195,10.672980308532715,15.761411666870117,14.436195373535156,8.109172821044922,8.303895950317383,10.741512298583984,11.31213665008545,10.378328323364258,14.78421688079834,16.12226676940918,14.005341529846191,15.626055717468262,14.685771942138672,7.966564655303955,10.129875183105469,16.625791549682617,11.250356674194336,13.113603591918945,14.027613639831543,10.89989185333252,6.980903625488281,11.571460723876953,11.79707145690918,8.393291473388672,11.471290588378906,10.950779914855957,13.569230079650879,12.148852348327637,12.460318565368652,14.173345565795898,16.576135635375977,12.082743644714355,8.869769096374512,10.964872360229492,10.405566215515137,10.40099811553955,8.905535697937012,6.680978775024414,13.946040153503418,9.016397476196289,12.740439414978027,12.904433250427246,8.760259628295898,9.451559066772461,8.387900352478027,15.955998420715332,14.400107383728027,10.806890487670898,10.997766494750977,12.514662742614746,12.086392402648926,11.388675689697266,9.494820594787598,6.3687005043029785,13.038604736328125,9.146444320678711,10.337040901184082,11.607319831848145,13.232523918151855,15.32091999053955,8.783710479736328,15.527108192443848,13.573424339294434,9.333479881286621,13.642280578613281,15.128108024597168,13.93545150756836,12.329852104187012,12.248261451721191,9.60595703125,6.38764762878418,14.169368743896484,6.833719253540039,12.6326265335083,13.439303398132324,11.793732643127441,10.674519538879395,10.601616859436035,9.563014030456543,13.352263450622559,14.987377166748047,13.111713409423828,9.191049575805664,16.086511611938477,12.711091995239258,9.914226531982422,9.141385078430176,9.040809631347656,18.203310012817383,8.484794616699219,15.802265167236328,13.173468589782715,10.529781341552734,10.416020393371582,11.281529426574707,12.985846519470215,14.992133140563965,13.51510238647461,9.319246292114258,13.275341987609863,9.339961051940918,11.454498291015625,11.05848217010498,14.407258033752441,12.57372760772705,8.713786125183105,13.332072257995605,13.916119575500488,14.439562797546387,9.250325202941895,17.664745330810547,13.647858619689941,12.610391616821289,17.180845260620117,12.94904613494873,9.317601203918457,7.943673133850098,11.663347244262695,11.03848648071289,9.287880897521973,8.186761856079102,11.238540649414062,8.782295227050781,8.859102249145508,12.450471878051758,15.553570747375488,11.19750690460205,8.710136413574219,10.049816131591797,9.547531127929688,10.842863082885742,7.246737003326416,8.841875076293945,15.182393074035645,8.54939079284668,9.26671314239502,10.95268726348877,14.330801010131836,14.928136825561523,13.277669906616211,12.921184539794922,17.296194076538086,8.185175895690918,11.120887756347656,14.551372528076172,10.318387985229492,10.652655601501465,12.23654556274414,7.884947299957275,6.558645725250244,11.020613670349121,13.624728202819824,12.689312934875488,7.179076194763184,15.126279830932617,9.500288009643555,13.927878379821777,14.684203147888184,12.683174133300781,14.912263870239258,14.197858810424805,7.594605922698975,14.780993461608887,10.019512176513672,10.424400329589844,12.63683795928955,10.384542465209961,11.828991889953613,11.533347129821777,11.465228080749512,9.29428482055664,9.508529663085938,15.614666938781738,14.912030220031738,9.761910438537598,8.916397094726562,10.610107421875,9.811100006103516,9.03042221069336,12.343252182006836,12.119041442871094,14.75805377960205,10.343941688537598,13.889986038208008,8.408759117126465,12.016085624694824,9.046218872070312,10.378328323364258,8.49360179901123,13.957694053649902,10.69648265838623,8.367293357849121,13.808572769165039,12.749651908874512,8.76377010345459,9.484086036682129,13.047990798950195,13.732221603393555,12.054104804992676,13.213747024536133,11.642412185668945,13.042205810546875,8.782586097717285,15.623530387878418,9.03529167175293,9.905628204345703,11.6300048828125,9.337152481079102,9.326069831848145,13.786346435546875,11.795413970947266,14.081278800964355,13.670828819274902,14.162220001220703,11.36136531829834,11.572986602783203,13.633044242858887,14.853455543518066,8.07721996307373,8.645485877990723,9.50239372253418,15.81836986541748,14.31744384765625,13.041524887084961,8.558180809020996,12.581768989562988,16.050058364868164,15.173791885375977,11.5143461227417,7.978492736816406,15.680474281311035,12.761170387268066,16.36001968383789,14.262091636657715,9.587848663330078,14.425313949584961,9.2229642868042,13.445596694946289,7.807324409484863,12.315080642700195,14.670093536376953,11.6364164352417,15.109273910522461,17.755203247070312,16.919387817382812,9.537393569946289,12.594399452209473,9.556331634521484,11.320690155029297,11.098353385925293,9.814610481262207,9.654834747314453,14.458605766296387,13.720940589904785,14.353482246398926,11.711126327514648,9.905628204345703,13.697230339050293,9.51020336151123,9.822846412658691,12.814183235168457,9.274703025817871,9.018030166625977,9.06279182434082,11.286730766296387,16.0413761138916,17.17121124267578,8.872660636901855,9.314122200012207,12.458348274230957,10.73885726928711,8.428975105285645,11.10205078125,7.93629789352417,15.219632148742676,14.466130256652832,9.484604835510254,8.282859802246094,11.90648078918457,10.945576667785645,10.633098602294922,15.669160842895508,14.341060638427734,16.332923889160156,11.401493072509766,14.182743072509766,9.24260139465332,8.974560737609863,14.1500244140625,15.566158294677734,8.338568687438965,11.355571746826172,9.381721496582031,10.110462188720703,11.01153564453125,9.338250160217285,10.254846572875977,11.645689964294434,13.560750961303711,8.977033615112305,12.875838279724121,9.24378490447998,11.038293838500977,16.100683212280273,14.011048316955566,6.933420181274414,8.9959077835083,10.772517204284668,14.56902027130127,12.538331985473633,10.02402114868164,11.020613670349121,9.930476188659668,13.22772216796875,13.031664848327637,14.889678955078125,14.325668334960938,14.72406005859375,9.632489204406738,8.31979751586914,10.025925636291504,12.56633186340332,9.140816688537598,12.283208847045898,10.407081604003906,13.791303634643555,10.129875183105469,10.387861251831055,8.675437927246094,8.802193641662598,10.811100959777832,11.697220802307129,11.368620872497559,13.48977279663086,10.238858222961426,11.620247840881348,9.902297973632812,11.403958320617676,12.877032279968262,12.425436019897461,13.585911750793457,12.536419868469238,14.649271011352539,8.967062950134277,9.128981590270996,9.174188613891602,15.519598007202148,14.902549743652344,13.788640975952148,8.675437927246094,8.99259090423584,15.308488845825195,9.899401664733887,13.129137992858887,10.378328323364258,14.365670204162598,11.578673362731934,10.47481918334961,11.767813682556152,13.11876392364502,14.364724159240723,12.399888038635254,10.26118278503418,13.898695945739746,14.361454963684082,10.378328323364258,9.124567031860352,11.36136531829834,12.278332710266113,12.236957550048828,12.215845108032227,13.789595603942871,15.437775611877441,10.415169715881348,10.485654830932617,9.972020149230957,8.671818733215332,10.378328323364258,12.019746780395508,11.408258438110352,13.423603057861328,10.343483924865723,12.585453033447266,14.412206649780273,11.36136531829834,16.327598571777344,12.765046119689941,9.025383949279785,10.674519538879395,16.4633731842041,11.553457260131836,8.827651977539062,9.111762046813965,8.85240364074707,9.893954277038574,9.22645092010498,10.1826753616333,11.360879898071289,14.43610954284668,8.6942777633667,9.905628204345703,7.347198963165283,13.978577613830566,11.34642505645752,12.9924955368042,15.66485595703125,16.150959014892578,14.575002670288086,13.79951286315918,11.19147777557373,16.48563575744629,15.800185203552246,11.167048454284668,13.883176803588867,10.636910438537598,8.752752304077148,10.028395652770996,8.384089469909668,12.594399452209473,10.46203327178955,14.195470809936523,10.330589294433594,12.183290481567383,9.569588661193848,14.924449920654297,9.852448463439941,9.437283515930176,10.489956855773926,14.89570426940918,9.564404487609863,9.80534553527832,17.068626403808594,13.971413612365723,9.708222389221191,15.2696533203125,9.14168930053711,9.041674613952637,11.333741188049316,17.04351234436035,16.597412109375,10.89842700958252,13.459449768066406,11.138809204101562,8.641305923461914,9.569588661193848,8.455428123474121,13.931964874267578,12.169218063354492,12.78015422821045,9.970662117004395,10.827824592590332,14.889944076538086,14.440850257873535,12.439149856567383,15.747793197631836,10.496966361999512,14.29761791229248,9.701969146728516,11.10205078125,9.905628204345703,12.393614768981934,14.32586669921875,10.655261039733887,9.340285301208496,11.42866039276123,9.481673240661621,15.00742244720459,8.22109603881836,16.119707107543945,9.531346321105957,12.034158706665039,10.898759841918945,9.880525588989258,8.359712600708008,12.866342544555664,9.186744689941406,9.54509162902832,15.505918502807617,8.954951286315918,15.380005836486816,8.783926963806152,10.02977180480957,9.153664588928223,11.832660675048828,12.383588790893555,10.990715980529785,8.801980018615723,8.84580135345459,9.946648597717285,10.178398132324219,12.244823455810547,9.814610481262207,13.291854858398438,13.089012145996094,11.104333877563477,8.9959077835083,14.57552433013916,13.402127265930176,16.711824417114258,10.9589262008667,13.380341529846191,8.47632884979248,13.16628360748291,7.804661750793457,9.561676979064941,10.415169715881348,17.195890426635742,6.77194881439209,12.481668472290039,15.614402770996094,10.445673942565918,8.97685718536377,12.842206954956055,13.047517776489258,9.899401664733887,14.235363006591797,11.201899528503418,11.518410682678223,17.07203483581543,12.626327514648438,17.100811004638672,9.272706985473633,14.047924041748047,10.42576789855957,15.981356620788574,11.471290588378906,10.913994789123535,10.577397346496582,9.013321876525879,7.347198963165283,16.320175170898438,11.020613670349121,13.175945281982422,11.916528701782227,8.982471466064453,10.378328323364258,10.947340965270996,10.947340965270996,8.582393646240234,10.404890060424805,9.154189109802246,9.905628204345703,12.003864288330078,13.816325187683105,7.347198963165283,9.186744689941406,9.814610481262207,16.339399337768555,16.1798095703125,11.690031051635742,11.286730766296387,13.266864776611328,15.969807624816895,8.947324752807617,12.38876724243164,10.762245178222656,14.674132347106934,11.774667739868164,15.469305992126465,9.0087890625,15.002738952636719,12.075724601745605,12.09737491607666,12.4641695022583,12.3970947265625,8.734689712524414,8.968873977661133,9.669461250305176,16.99531364440918,15.144302368164062,13.027271270751953,10.330589294433594,10.096166610717773,11.111802101135254,13.192688941955566,12.33501148223877,14.33920669555664,10.485654830932617,9.814610481262207,13.670259475708008,9.899401664733887,11.816999435424805,7.347198963165283,14.420671463012695,12.054289817810059,13.579856872558594,11.6300048828125,12.876655578613281,9.814610481262207,11.256959915161133,11.261296272277832,10.298369407653809,15.859429359436035,10.708298683166504,14.86280632019043,11.155447006225586,10.41309642791748,10.558547019958496,11.479866981506348,8.140410423278809,8.140410423278809,9.006584167480469,9.905628204345703,12.707303047180176,10.378328323364258,16.10369873046875,10.864385604858398,13.021132469177246,8.926619529724121,10.636910438537598,13.587050437927246,7.804661750793457,14.350366592407227,8.63853931427002,11.183243751525879,8.866673469543457,12.687644958496094,10.484515190124512,9.282548904418945,11.87811279296875,14.782110214233398,11.431559562683105,10.28168773651123,7.1797027587890625,11.89924144744873,7.872053146362305,11.610116958618164,9.587848663330078,11.898436546325684,11.81635570526123,10.84398078918457,6.138537883758545,6.718357563018799,9.228641510009766,12.833255767822266,9.814610481262207,13.39832878112793,8.14830493927002,11.8449125289917,12.315539360046387,11.10205078125,12.374917030334473,7.347198963165283,8.496227264404297,10.721673965454102,9.935002326965332,10.154666900634766,11.604055404663086,10.485654830932617,10.404890060424805,15.708816528320312,7.347198963165283,8.982786178588867,14.509586334228516,12.464426040649414,11.284531593322754,9.905628204345703,8.158278465270996,9.852448463439941,8.703652381896973,9.905628204345703,12.195734024047852,8.359745025634766,8.827651977539062,8.980104446411133,10.77956485748291,13.061755180358887,13.047517776489258,13.10157585144043,9.440576553344727,12.784476280212402,13.157370567321777,10.721358299255371,11.357791900634766,7.347198963165283,8.694520950317383,11.079022407531738,11.610116958618164,10.129875183105469,11.399572372436523,11.4247407913208,11.00182056427002,10.298369407653809,9.350873947143555,11.50241756439209,11.30003833770752,8.594103813171387,11.385246276855469,9.959195137023926,12.650710105895996,9.127126693725586,12.650835037231445,11.529120445251465,9.654781341552734,8.97693157196045,11.10205078125,16.044517517089844,11.548938751220703,12.526734352111816,11.764113426208496,9.970662117004395,8.186761856079102,11.286730766296387,13.55173110961914,10.971031188964844,12.31014347076416,9.29428482055664,11.020613670349121,14.793360710144043,12.25197696685791,11.045683860778809,13.39832878112793,9.380705833435059,8.679170608520508,9.932470321655273,8.140410423278809,9.272706985473633,8.9959077835083,12.006059646606445,9.872995376586914,8.472293853759766,12.383588790893555,15.233526229858398,12.640379905700684,13.447227478027344,14.267782211303711,12.049614906311035,10.422220230102539,9.905628204345703,9.132635116577148,10.330589294433594,12.761479377746582,11.286730766296387,10.19070816040039,14.254066467285156,13.504596710205078,10.330589294433594,8.612045288085938,12.08525562286377,12.800528526306152,15.254693984985352,8.290063858032227,10.330589294433594,15.472784042358398,10.361493110656738,9.006584167480469,10.129875183105469,11.909555435180664,13.337729454040527,11.286730766296387,9.814610481262207,11.119251251220703,9.814610481262207,10.292879104614258,6.138537883758545,13.566548347473145,9.629903793334961,10.19070816040039,8.140410423278809,12.383588790893555,11.286730766296387,10.659061431884766,9.617319107055664,12.841133117675781,9.814610481262207,13.047517776489258,13.234463691711426,13.393965721130371,9.919650077819824,9.852448463439941,13.979636192321777,8.9959077835083,12.623209953308105,11.376450538635254,11.488947868347168,9.814610481262207,8.751379013061523,10.659061431884766,10.129875183105469,10.280569076538086,10.788154602050781,11.572322845458984,9.905628204345703,7.347198963165283,11.261296272277832,10.109296798706055,13.139758110046387,10.452244758605957,12.24677562713623,7.347198963165283,9.639006614685059,9.479836463928223,9.526591300964355,6.881494045257568,11.89803695678711,9.617319107055664,14.678498268127441,9.905628204345703,12.547510147094727,10.330589294433594,12.054289817810059,8.9959077835083,10.30289077758789,7.347198963165283,12.307890892028809,12.340317726135254,13.061755180358887,10.330589294433594,13.39832878112793,12.615436553955078,12.347782135009766,12.25197696685791,12.382390975952148,11.286730766296387,10.330589294433594,10.330589294433594,9.814610481262207,11.610160827636719,9.889263153076172,13.39832878112793,12.347782135009766,10.280569076538086,13.061755180358887,11.716235160827637,7.347198963165283,9.852448463439941,9.098644256591797,9.814610481262207,13.337729454040527,10.129875183105469,13.447227478027344,7.347198963165283,8.783926963806152,10.481842994689941,9.346717834472656,10.657453536987305,13.4736328125,9.814610481262207,11.286730766296387,7.347198963165283,11.201899528503418,9.458467483520508,12.242247581481934,10.330589294433594,10.330589294433594],\"type\":\"histogram\"}],                        {\"template\":{\"data\":{\"histogram2dcontour\":[{\"type\":\"histogram2dcontour\",\"colorbar\":{\"outlinewidth\":0,\"ticks\":\"\"},\"colorscale\":[[0.0,\"#0d0887\"],[0.1111111111111111,\"#46039f\"],[0.2222222222222222,\"#7201a8\"],[0.3333333333333333,\"#9c179e\"],[0.4444444444444444,\"#bd3786\"],[0.5555555555555556,\"#d8576b\"],[0.6666666666666666,\"#ed7953\"],[0.7777777777777778,\"#fb9f3a\"],[0.8888888888888888,\"#fdca26\"],[1.0,\"#f0f921\"]]}],\"choropleth\":[{\"type\":\"choropleth\",\"colorbar\":{\"outlinewidth\":0,\"ticks\":\"\"}}],\"histogram2d\":[{\"type\":\"histogram2d\",\"colorbar\":{\"outlinewidth\":0,\"ticks\":\"\"},\"colorscale\":[[0.0,\"#0d0887\"],[0.1111111111111111,\"#46039f\"],[0.2222222222222222,\"#7201a8\"],[0.3333333333333333,\"#9c179e\"],[0.4444444444444444,\"#bd3786\"],[0.5555555555555556,\"#d8576b\"],[0.6666666666666666,\"#ed7953\"],[0.7777777777777778,\"#fb9f3a\"],[0.8888888888888888,\"#fdca26\"],[1.0,\"#f0f921\"]]}],\"heatmap\":[{\"type\":\"heatmap\",\"colorbar\":{\"outlinewidth\":0,\"ticks\":\"\"},\"colorscale\":[[0.0,\"#0d0887\"],[0.1111111111111111,\"#46039f\"],[0.2222222222222222,\"#7201a8\"],[0.3333333333333333,\"#9c179e\"],[0.4444444444444444,\"#bd3786\"],[0.5555555555555556,\"#d8576b\"],[0.6666666666666666,\"#ed7953\"],[0.7777777777777778,\"#fb9f3a\"],[0.8888888888888888,\"#fdca26\"],[1.0,\"#f0f921\"]]}],\"heatmapgl\":[{\"type\":\"heatmapgl\",\"colorbar\":{\"outlinewidth\":0,\"ticks\":\"\"},\"colorscale\":[[0.0,\"#0d0887\"],[0.1111111111111111,\"#46039f\"],[0.2222222222222222,\"#7201a8\"],[0.3333333333333333,\"#9c179e\"],[0.4444444444444444,\"#bd3786\"],[0.5555555555555556,\"#d8576b\"],[0.6666666666666666,\"#ed7953\"],[0.7777777777777778,\"#fb9f3a\"],[0.8888888888888888,\"#fdca26\"],[1.0,\"#f0f921\"]]}],\"contourcarpet\":[{\"type\":\"contourcarpet\",\"colorbar\":{\"outlinewidth\":0,\"ticks\":\"\"}}],\"contour\":[{\"type\":\"contour\",\"colorbar\":{\"outlinewidth\":0,\"ticks\":\"\"},\"colorscale\":[[0.0,\"#0d0887\"],[0.1111111111111111,\"#46039f\"],[0.2222222222222222,\"#7201a8\"],[0.3333333333333333,\"#9c179e\"],[0.4444444444444444,\"#bd3786\"],[0.5555555555555556,\"#d8576b\"],[0.6666666666666666,\"#ed7953\"],[0.7777777777777778,\"#fb9f3a\"],[0.8888888888888888,\"#fdca26\"],[1.0,\"#f0f921\"]]}],\"surface\":[{\"type\":\"surface\",\"colorbar\":{\"outlinewidth\":0,\"ticks\":\"\"},\"colorscale\":[[0.0,\"#0d0887\"],[0.1111111111111111,\"#46039f\"],[0.2222222222222222,\"#7201a8\"],[0.3333333333333333,\"#9c179e\"],[0.4444444444444444,\"#bd3786\"],[0.5555555555555556,\"#d8576b\"],[0.6666666666666666,\"#ed7953\"],[0.7777777777777778,\"#fb9f3a\"],[0.8888888888888888,\"#fdca26\"],[1.0,\"#f0f921\"]]}],\"mesh3d\":[{\"type\":\"mesh3d\",\"colorbar\":{\"outlinewidth\":0,\"ticks\":\"\"}}],\"scatter\":[{\"fillpattern\":{\"fillmode\":\"overlay\",\"size\":10,\"solidity\":0.2},\"type\":\"scatter\"}],\"parcoords\":[{\"type\":\"parcoords\",\"line\":{\"colorbar\":{\"outlinewidth\":0,\"ticks\":\"\"}}}],\"scatterpolargl\":[{\"type\":\"scatterpolargl\",\"marker\":{\"colorbar\":{\"outlinewidth\":0,\"ticks\":\"\"}}}],\"bar\":[{\"error_x\":{\"color\":\"#2a3f5f\"},\"error_y\":{\"color\":\"#2a3f5f\"},\"marker\":{\"line\":{\"color\":\"#E5ECF6\",\"width\":0.5},\"pattern\":{\"fillmode\":\"overlay\",\"size\":10,\"solidity\":0.2}},\"type\":\"bar\"}],\"scattergeo\":[{\"type\":\"scattergeo\",\"marker\":{\"colorbar\":{\"outlinewidth\":0,\"ticks\":\"\"}}}],\"scatterpolar\":[{\"type\":\"scatterpolar\",\"marker\":{\"colorbar\":{\"outlinewidth\":0,\"ticks\":\"\"}}}],\"histogram\":[{\"marker\":{\"pattern\":{\"fillmode\":\"overlay\",\"size\":10,\"solidity\":0.2}},\"type\":\"histogram\"}],\"scattergl\":[{\"type\":\"scattergl\",\"marker\":{\"colorbar\":{\"outlinewidth\":0,\"ticks\":\"\"}}}],\"scatter3d\":[{\"type\":\"scatter3d\",\"line\":{\"colorbar\":{\"outlinewidth\":0,\"ticks\":\"\"}},\"marker\":{\"colorbar\":{\"outlinewidth\":0,\"ticks\":\"\"}}}],\"scattermapbox\":[{\"type\":\"scattermapbox\",\"marker\":{\"colorbar\":{\"outlinewidth\":0,\"ticks\":\"\"}}}],\"scatterternary\":[{\"type\":\"scatterternary\",\"marker\":{\"colorbar\":{\"outlinewidth\":0,\"ticks\":\"\"}}}],\"scattercarpet\":[{\"type\":\"scattercarpet\",\"marker\":{\"colorbar\":{\"outlinewidth\":0,\"ticks\":\"\"}}}],\"carpet\":[{\"aaxis\":{\"endlinecolor\":\"#2a3f5f\",\"gridcolor\":\"white\",\"linecolor\":\"white\",\"minorgridcolor\":\"white\",\"startlinecolor\":\"#2a3f5f\"},\"baxis\":{\"endlinecolor\":\"#2a3f5f\",\"gridcolor\":\"white\",\"linecolor\":\"white\",\"minorgridcolor\":\"white\",\"startlinecolor\":\"#2a3f5f\"},\"type\":\"carpet\"}],\"table\":[{\"cells\":{\"fill\":{\"color\":\"#EBF0F8\"},\"line\":{\"color\":\"white\"}},\"header\":{\"fill\":{\"color\":\"#C8D4E3\"},\"line\":{\"color\":\"white\"}},\"type\":\"table\"}],\"barpolar\":[{\"marker\":{\"line\":{\"color\":\"#E5ECF6\",\"width\":0.5},\"pattern\":{\"fillmode\":\"overlay\",\"size\":10,\"solidity\":0.2}},\"type\":\"barpolar\"}],\"pie\":[{\"automargin\":true,\"type\":\"pie\"}]},\"layout\":{\"autotypenumbers\":\"strict\",\"colorway\":[\"#636efa\",\"#EF553B\",\"#00cc96\",\"#ab63fa\",\"#FFA15A\",\"#19d3f3\",\"#FF6692\",\"#B6E880\",\"#FF97FF\",\"#FECB52\"],\"font\":{\"color\":\"#2a3f5f\"},\"hovermode\":\"closest\",\"hoverlabel\":{\"align\":\"left\"},\"paper_bgcolor\":\"white\",\"plot_bgcolor\":\"#E5ECF6\",\"polar\":{\"bgcolor\":\"#E5ECF6\",\"angularaxis\":{\"gridcolor\":\"white\",\"linecolor\":\"white\",\"ticks\":\"\"},\"radialaxis\":{\"gridcolor\":\"white\",\"linecolor\":\"white\",\"ticks\":\"\"}},\"ternary\":{\"bgcolor\":\"#E5ECF6\",\"aaxis\":{\"gridcolor\":\"white\",\"linecolor\":\"white\",\"ticks\":\"\"},\"baxis\":{\"gridcolor\":\"white\",\"linecolor\":\"white\",\"ticks\":\"\"},\"caxis\":{\"gridcolor\":\"white\",\"linecolor\":\"white\",\"ticks\":\"\"}},\"coloraxis\":{\"colorbar\":{\"outlinewidth\":0,\"ticks\":\"\"}},\"colorscale\":{\"sequential\":[[0.0,\"#0d0887\"],[0.1111111111111111,\"#46039f\"],[0.2222222222222222,\"#7201a8\"],[0.3333333333333333,\"#9c179e\"],[0.4444444444444444,\"#bd3786\"],[0.5555555555555556,\"#d8576b\"],[0.6666666666666666,\"#ed7953\"],[0.7777777777777778,\"#fb9f3a\"],[0.8888888888888888,\"#fdca26\"],[1.0,\"#f0f921\"]],\"sequentialminus\":[[0.0,\"#0d0887\"],[0.1111111111111111,\"#46039f\"],[0.2222222222222222,\"#7201a8\"],[0.3333333333333333,\"#9c179e\"],[0.4444444444444444,\"#bd3786\"],[0.5555555555555556,\"#d8576b\"],[0.6666666666666666,\"#ed7953\"],[0.7777777777777778,\"#fb9f3a\"],[0.8888888888888888,\"#fdca26\"],[1.0,\"#f0f921\"]],\"diverging\":[[0,\"#8e0152\"],[0.1,\"#c51b7d\"],[0.2,\"#de77ae\"],[0.3,\"#f1b6da\"],[0.4,\"#fde0ef\"],[0.5,\"#f7f7f7\"],[0.6,\"#e6f5d0\"],[0.7,\"#b8e186\"],[0.8,\"#7fbc41\"],[0.9,\"#4d9221\"],[1,\"#276419\"]]},\"xaxis\":{\"gridcolor\":\"white\",\"linecolor\":\"white\",\"ticks\":\"\",\"title\":{\"standoff\":15},\"zerolinecolor\":\"white\",\"automargin\":true,\"zerolinewidth\":2},\"yaxis\":{\"gridcolor\":\"white\",\"linecolor\":\"white\",\"ticks\":\"\",\"title\":{\"standoff\":15},\"zerolinecolor\":\"white\",\"automargin\":true,\"zerolinewidth\":2},\"scene\":{\"xaxis\":{\"backgroundcolor\":\"#E5ECF6\",\"gridcolor\":\"white\",\"linecolor\":\"white\",\"showbackground\":true,\"ticks\":\"\",\"zerolinecolor\":\"white\",\"gridwidth\":2},\"yaxis\":{\"backgroundcolor\":\"#E5ECF6\",\"gridcolor\":\"white\",\"linecolor\":\"white\",\"showbackground\":true,\"ticks\":\"\",\"zerolinecolor\":\"white\",\"gridwidth\":2},\"zaxis\":{\"backgroundcolor\":\"#E5ECF6\",\"gridcolor\":\"white\",\"linecolor\":\"white\",\"showbackground\":true,\"ticks\":\"\",\"zerolinecolor\":\"white\",\"gridwidth\":2}},\"shapedefaults\":{\"line\":{\"color\":\"#2a3f5f\"}},\"annotationdefaults\":{\"arrowcolor\":\"#2a3f5f\",\"arrowhead\":0,\"arrowwidth\":1},\"geo\":{\"bgcolor\":\"white\",\"landcolor\":\"#E5ECF6\",\"subunitcolor\":\"white\",\"showland\":true,\"showlakes\":true,\"lakecolor\":\"white\"},\"title\":{\"x\":0.05},\"mapbox\":{\"style\":\"light\"}}},\"title\":{\"text\":\"Distribution of Nuclear Norm of Node Explain Matrix\"},\"xaxis\":{\"title\":{\"text\":\"Nuclear Norm\"}},\"yaxis\":{\"title\":{\"text\":\"Frequency\"}},\"font\":{\"size\":20},\"paper_bgcolor\":\"white\",\"plot_bgcolor\":\"white\"},                        {\"responsive\": true}                    ).then(function(){\n",
       "                            \n",
       "var gd = document.getElementById('41310f65-68d6-4159-ba1b-6ee42aa6f1f3');\n",
       "var x = new MutationObserver(function (mutations, observer) {{\n",
       "        var display = window.getComputedStyle(gd).display;\n",
       "        if (!display || display === 'none') {{\n",
       "            console.log([gd, 'removed!']);\n",
       "            Plotly.purge(gd);\n",
       "            observer.disconnect();\n",
       "        }}\n",
       "}});\n",
       "\n",
       "// Listen for the removal of the full notebook cells\n",
       "var notebookContainer = gd.closest('#notebook-container');\n",
       "if (notebookContainer) {{\n",
       "    x.observe(notebookContainer, {childList: true});\n",
       "}}\n",
       "\n",
       "// Listen for the clearing of the current output cell\n",
       "var outputEl = gd.closest('.output');\n",
       "if (outputEl) {{\n",
       "    x.observe(outputEl, {childList: true});\n",
       "}}\n",
       "\n",
       "                        })                };                });            </script>        </div>"
      ]
     },
     "metadata": {},
     "output_type": "display_data"
    }
   ],
   "source": [
    "fig = go.Figure()\n",
    "\n",
    "fig.add_trace(go.Histogram(x = norm_og, \n",
    "                           name = 'GMI'))\n",
    "fig.add_trace(go.Histogram(x = norm_plus, \n",
    "                           name = 'GMI+XM'))\n",
    "\n",
    "\n",
    "fig.update_layout(title_text = 'Distribution of Nuclear Norm of Node Explain Matrix', \n",
    "                  xaxis_title_text = 'Nuclear Norm', \n",
    "                  yaxis_title_text = 'Frequency', \n",
    "                  paper_bgcolor = 'white', \n",
    "                  plot_bgcolor = 'white', \n",
    "                  font = dict(size = 20))\n",
    "fig.show()"
   ]
  },
  {
   "cell_type": "code",
   "execution_count": null,
   "id": "ab4ac29f",
   "metadata": {},
   "outputs": [],
   "source": []
  },
  {
   "cell_type": "code",
   "execution_count": null,
   "id": "d89583a9",
   "metadata": {},
   "outputs": [],
   "source": []
  },
  {
   "cell_type": "code",
   "execution_count": null,
   "id": "c10710aa",
   "metadata": {
    "scrolled": true
   },
   "outputs": [],
   "source": []
  },
  {
   "cell_type": "code",
   "execution_count": null,
   "id": "ed62a99b",
   "metadata": {},
   "outputs": [],
   "source": []
  },
  {
   "cell_type": "code",
   "execution_count": null,
   "id": "772abda4",
   "metadata": {},
   "outputs": [],
   "source": []
  }
 ],
 "metadata": {
  "kernelspec": {
   "display_name": "Python 3 (ipykernel)",
   "language": "python",
   "name": "python3"
  },
  "language_info": {
   "codemirror_mode": {
    "name": "ipython",
    "version": 3
   },
   "file_extension": ".py",
   "mimetype": "text/x-python",
   "name": "python",
   "nbconvert_exporter": "python",
   "pygments_lexer": "ipython3",
   "version": "3.10.8"
  },
  "toc": {
   "base_numbering": 1,
   "nav_menu": {},
   "number_sections": true,
   "sideBar": true,
   "skip_h1_title": false,
   "title_cell": "Table of Contents",
   "title_sidebar": "Contents",
   "toc_cell": false,
   "toc_position": {},
   "toc_section_display": true,
   "toc_window_display": false
  }
 },
 "nbformat": 4,
 "nbformat_minor": 5
}
