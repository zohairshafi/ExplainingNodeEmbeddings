{
 "cells": [
  {
   "cell_type": "markdown",
   "id": "35e1006c",
   "metadata": {},
   "source": [
    "### Imports"
   ]
  },
  {
   "cell_type": "code",
   "execution_count": 1,
   "id": "dc1500c8",
   "metadata": {},
   "outputs": [],
   "source": [
    "from scripts.utils import *"
   ]
  },
  {
   "cell_type": "markdown",
   "id": "4825b393",
   "metadata": {},
   "source": [
    "### Read In File"
   ]
  },
  {
   "cell_type": "code",
   "execution_count": 141,
   "id": "a29ac4a0",
   "metadata": {},
   "outputs": [
    {
     "name": "stdout",
     "output_type": "stream",
     "text": [
      "Runs :  15\n"
     ]
    }
   ],
   "source": [
    "with open('./results/citeseer_dgi.pkl', 'rb') as file:\n",
    "    results = pkl.load(file)\n",
    "    \n",
    "dimensions = list(results.keys())\n",
    "runs = len(results[dimensions[0]]['norm_og'])\n",
    "\n",
    "print(\"Runs : \", runs)"
   ]
  },
  {
   "cell_type": "markdown",
   "id": "ec6559cb",
   "metadata": {},
   "source": [
    "### Plot"
   ]
  },
  {
   "cell_type": "code",
   "execution_count": null,
   "id": "f1435acb",
   "metadata": {},
   "outputs": [],
   "source": []
  },
  {
   "cell_type": "code",
   "execution_count": null,
   "id": "62d9f357",
   "metadata": {},
   "outputs": [],
   "source": []
  },
  {
   "cell_type": "code",
   "execution_count": 142,
   "id": "24662b35",
   "metadata": {},
   "outputs": [],
   "source": [
    "norm_mean = []\n",
    "norm_std = []\n",
    "\n",
    "norm_plus_mean = []\n",
    "norm_plus_std = []\n",
    "\n",
    "norm_id_mean = []\n",
    "norm_id_std = []\n",
    "\n",
    "for d in dimensions:\n",
    "    \n",
    "    norm_mean.append(np.mean(np.array(results[d]['norm_og'])))\n",
    "    norm_std.append(np.std(np.array(results[d]['norm_og'])) / np.sqrt(runs))\n",
    "    \n",
    "    norm_plus_mean.append(np.mean(np.array(results[d]['norm_plus'])))\n",
    "    norm_plus_std.append(np.std(np.array(results[d]['norm_plus'])) / np.sqrt(runs))\n",
    "    \n",
    "#     norm_id_mean.append(np.mean(np.array(results[d]['norm_id'])))\n",
    "#     norm_id_std.append(np.std(np.array(results[d]['norm_id'])) / np.sqrt(runs))"
   ]
  },
  {
   "cell_type": "code",
   "execution_count": null,
   "id": "3b76938d",
   "metadata": {},
   "outputs": [],
   "source": []
  },
  {
   "cell_type": "code",
   "execution_count": 143,
   "id": "0f020dd0",
   "metadata": {},
   "outputs": [
    {
     "data": {
      "application/vnd.plotly.v1+json": {
       "config": {
        "plotlyServerURL": "https://plot.ly"
       },
       "data": [
        {
         "error_y": {
          "array": [
           0.232194254819834,
           0.2037922655251098,
           0.1617301041059051,
           0.09102609483641168,
           0.04666611677222836
          ],
          "type": "data"
         },
         "marker": {
          "size": 10
         },
         "mode": "markers",
         "name": "DGI",
         "type": "scatter",
         "x": [
          16,
          32,
          64,
          128,
          256
         ],
         "y": [
          2.6261093616485596,
          2.549461841583252,
          1.8123341798782349,
          0.984041154384613,
          0.598243236541748
         ]
        },
        {
         "error_y": {
          "array": [
           0.16733208758531046,
           0.17818722813364826,
           0.05740159736521321,
           0.03503145707935381,
           0.024181281682373944
          ],
          "type": "data"
         },
         "marker": {
          "size": 10
         },
         "mode": "markers",
         "name": "DGI+XM",
         "type": "scatter",
         "x": [
          16,
          32,
          64,
          128,
          256
         ],
         "y": [
          1.704664945602417,
          1.3667126893997192,
          0.8381333947181702,
          0.5804486870765686,
          0.4039648771286011
         ]
        }
       ],
       "layout": {
        "font": {
         "size": 20
        },
        "paper_bgcolor": "white",
        "plot_bgcolor": "white",
        "template": {
         "data": {
          "bar": [
           {
            "error_x": {
             "color": "#2a3f5f"
            },
            "error_y": {
             "color": "#2a3f5f"
            },
            "marker": {
             "line": {
              "color": "#E5ECF6",
              "width": 0.5
             },
             "pattern": {
              "fillmode": "overlay",
              "size": 10,
              "solidity": 0.2
             }
            },
            "type": "bar"
           }
          ],
          "barpolar": [
           {
            "marker": {
             "line": {
              "color": "#E5ECF6",
              "width": 0.5
             },
             "pattern": {
              "fillmode": "overlay",
              "size": 10,
              "solidity": 0.2
             }
            },
            "type": "barpolar"
           }
          ],
          "carpet": [
           {
            "aaxis": {
             "endlinecolor": "#2a3f5f",
             "gridcolor": "white",
             "linecolor": "white",
             "minorgridcolor": "white",
             "startlinecolor": "#2a3f5f"
            },
            "baxis": {
             "endlinecolor": "#2a3f5f",
             "gridcolor": "white",
             "linecolor": "white",
             "minorgridcolor": "white",
             "startlinecolor": "#2a3f5f"
            },
            "type": "carpet"
           }
          ],
          "choropleth": [
           {
            "colorbar": {
             "outlinewidth": 0,
             "ticks": ""
            },
            "type": "choropleth"
           }
          ],
          "contour": [
           {
            "colorbar": {
             "outlinewidth": 0,
             "ticks": ""
            },
            "colorscale": [
             [
              0,
              "#0d0887"
             ],
             [
              0.1111111111111111,
              "#46039f"
             ],
             [
              0.2222222222222222,
              "#7201a8"
             ],
             [
              0.3333333333333333,
              "#9c179e"
             ],
             [
              0.4444444444444444,
              "#bd3786"
             ],
             [
              0.5555555555555556,
              "#d8576b"
             ],
             [
              0.6666666666666666,
              "#ed7953"
             ],
             [
              0.7777777777777778,
              "#fb9f3a"
             ],
             [
              0.8888888888888888,
              "#fdca26"
             ],
             [
              1,
              "#f0f921"
             ]
            ],
            "type": "contour"
           }
          ],
          "contourcarpet": [
           {
            "colorbar": {
             "outlinewidth": 0,
             "ticks": ""
            },
            "type": "contourcarpet"
           }
          ],
          "heatmap": [
           {
            "colorbar": {
             "outlinewidth": 0,
             "ticks": ""
            },
            "colorscale": [
             [
              0,
              "#0d0887"
             ],
             [
              0.1111111111111111,
              "#46039f"
             ],
             [
              0.2222222222222222,
              "#7201a8"
             ],
             [
              0.3333333333333333,
              "#9c179e"
             ],
             [
              0.4444444444444444,
              "#bd3786"
             ],
             [
              0.5555555555555556,
              "#d8576b"
             ],
             [
              0.6666666666666666,
              "#ed7953"
             ],
             [
              0.7777777777777778,
              "#fb9f3a"
             ],
             [
              0.8888888888888888,
              "#fdca26"
             ],
             [
              1,
              "#f0f921"
             ]
            ],
            "type": "heatmap"
           }
          ],
          "heatmapgl": [
           {
            "colorbar": {
             "outlinewidth": 0,
             "ticks": ""
            },
            "colorscale": [
             [
              0,
              "#0d0887"
             ],
             [
              0.1111111111111111,
              "#46039f"
             ],
             [
              0.2222222222222222,
              "#7201a8"
             ],
             [
              0.3333333333333333,
              "#9c179e"
             ],
             [
              0.4444444444444444,
              "#bd3786"
             ],
             [
              0.5555555555555556,
              "#d8576b"
             ],
             [
              0.6666666666666666,
              "#ed7953"
             ],
             [
              0.7777777777777778,
              "#fb9f3a"
             ],
             [
              0.8888888888888888,
              "#fdca26"
             ],
             [
              1,
              "#f0f921"
             ]
            ],
            "type": "heatmapgl"
           }
          ],
          "histogram": [
           {
            "marker": {
             "pattern": {
              "fillmode": "overlay",
              "size": 10,
              "solidity": 0.2
             }
            },
            "type": "histogram"
           }
          ],
          "histogram2d": [
           {
            "colorbar": {
             "outlinewidth": 0,
             "ticks": ""
            },
            "colorscale": [
             [
              0,
              "#0d0887"
             ],
             [
              0.1111111111111111,
              "#46039f"
             ],
             [
              0.2222222222222222,
              "#7201a8"
             ],
             [
              0.3333333333333333,
              "#9c179e"
             ],
             [
              0.4444444444444444,
              "#bd3786"
             ],
             [
              0.5555555555555556,
              "#d8576b"
             ],
             [
              0.6666666666666666,
              "#ed7953"
             ],
             [
              0.7777777777777778,
              "#fb9f3a"
             ],
             [
              0.8888888888888888,
              "#fdca26"
             ],
             [
              1,
              "#f0f921"
             ]
            ],
            "type": "histogram2d"
           }
          ],
          "histogram2dcontour": [
           {
            "colorbar": {
             "outlinewidth": 0,
             "ticks": ""
            },
            "colorscale": [
             [
              0,
              "#0d0887"
             ],
             [
              0.1111111111111111,
              "#46039f"
             ],
             [
              0.2222222222222222,
              "#7201a8"
             ],
             [
              0.3333333333333333,
              "#9c179e"
             ],
             [
              0.4444444444444444,
              "#bd3786"
             ],
             [
              0.5555555555555556,
              "#d8576b"
             ],
             [
              0.6666666666666666,
              "#ed7953"
             ],
             [
              0.7777777777777778,
              "#fb9f3a"
             ],
             [
              0.8888888888888888,
              "#fdca26"
             ],
             [
              1,
              "#f0f921"
             ]
            ],
            "type": "histogram2dcontour"
           }
          ],
          "mesh3d": [
           {
            "colorbar": {
             "outlinewidth": 0,
             "ticks": ""
            },
            "type": "mesh3d"
           }
          ],
          "parcoords": [
           {
            "line": {
             "colorbar": {
              "outlinewidth": 0,
              "ticks": ""
             }
            },
            "type": "parcoords"
           }
          ],
          "pie": [
           {
            "automargin": true,
            "type": "pie"
           }
          ],
          "scatter": [
           {
            "fillpattern": {
             "fillmode": "overlay",
             "size": 10,
             "solidity": 0.2
            },
            "type": "scatter"
           }
          ],
          "scatter3d": [
           {
            "line": {
             "colorbar": {
              "outlinewidth": 0,
              "ticks": ""
             }
            },
            "marker": {
             "colorbar": {
              "outlinewidth": 0,
              "ticks": ""
             }
            },
            "type": "scatter3d"
           }
          ],
          "scattercarpet": [
           {
            "marker": {
             "colorbar": {
              "outlinewidth": 0,
              "ticks": ""
             }
            },
            "type": "scattercarpet"
           }
          ],
          "scattergeo": [
           {
            "marker": {
             "colorbar": {
              "outlinewidth": 0,
              "ticks": ""
             }
            },
            "type": "scattergeo"
           }
          ],
          "scattergl": [
           {
            "marker": {
             "colorbar": {
              "outlinewidth": 0,
              "ticks": ""
             }
            },
            "type": "scattergl"
           }
          ],
          "scattermapbox": [
           {
            "marker": {
             "colorbar": {
              "outlinewidth": 0,
              "ticks": ""
             }
            },
            "type": "scattermapbox"
           }
          ],
          "scatterpolar": [
           {
            "marker": {
             "colorbar": {
              "outlinewidth": 0,
              "ticks": ""
             }
            },
            "type": "scatterpolar"
           }
          ],
          "scatterpolargl": [
           {
            "marker": {
             "colorbar": {
              "outlinewidth": 0,
              "ticks": ""
             }
            },
            "type": "scatterpolargl"
           }
          ],
          "scatterternary": [
           {
            "marker": {
             "colorbar": {
              "outlinewidth": 0,
              "ticks": ""
             }
            },
            "type": "scatterternary"
           }
          ],
          "surface": [
           {
            "colorbar": {
             "outlinewidth": 0,
             "ticks": ""
            },
            "colorscale": [
             [
              0,
              "#0d0887"
             ],
             [
              0.1111111111111111,
              "#46039f"
             ],
             [
              0.2222222222222222,
              "#7201a8"
             ],
             [
              0.3333333333333333,
              "#9c179e"
             ],
             [
              0.4444444444444444,
              "#bd3786"
             ],
             [
              0.5555555555555556,
              "#d8576b"
             ],
             [
              0.6666666666666666,
              "#ed7953"
             ],
             [
              0.7777777777777778,
              "#fb9f3a"
             ],
             [
              0.8888888888888888,
              "#fdca26"
             ],
             [
              1,
              "#f0f921"
             ]
            ],
            "type": "surface"
           }
          ],
          "table": [
           {
            "cells": {
             "fill": {
              "color": "#EBF0F8"
             },
             "line": {
              "color": "white"
             }
            },
            "header": {
             "fill": {
              "color": "#C8D4E3"
             },
             "line": {
              "color": "white"
             }
            },
            "type": "table"
           }
          ]
         },
         "layout": {
          "annotationdefaults": {
           "arrowcolor": "#2a3f5f",
           "arrowhead": 0,
           "arrowwidth": 1
          },
          "autotypenumbers": "strict",
          "coloraxis": {
           "colorbar": {
            "outlinewidth": 0,
            "ticks": ""
           }
          },
          "colorscale": {
           "diverging": [
            [
             0,
             "#8e0152"
            ],
            [
             0.1,
             "#c51b7d"
            ],
            [
             0.2,
             "#de77ae"
            ],
            [
             0.3,
             "#f1b6da"
            ],
            [
             0.4,
             "#fde0ef"
            ],
            [
             0.5,
             "#f7f7f7"
            ],
            [
             0.6,
             "#e6f5d0"
            ],
            [
             0.7,
             "#b8e186"
            ],
            [
             0.8,
             "#7fbc41"
            ],
            [
             0.9,
             "#4d9221"
            ],
            [
             1,
             "#276419"
            ]
           ],
           "sequential": [
            [
             0,
             "#0d0887"
            ],
            [
             0.1111111111111111,
             "#46039f"
            ],
            [
             0.2222222222222222,
             "#7201a8"
            ],
            [
             0.3333333333333333,
             "#9c179e"
            ],
            [
             0.4444444444444444,
             "#bd3786"
            ],
            [
             0.5555555555555556,
             "#d8576b"
            ],
            [
             0.6666666666666666,
             "#ed7953"
            ],
            [
             0.7777777777777778,
             "#fb9f3a"
            ],
            [
             0.8888888888888888,
             "#fdca26"
            ],
            [
             1,
             "#f0f921"
            ]
           ],
           "sequentialminus": [
            [
             0,
             "#0d0887"
            ],
            [
             0.1111111111111111,
             "#46039f"
            ],
            [
             0.2222222222222222,
             "#7201a8"
            ],
            [
             0.3333333333333333,
             "#9c179e"
            ],
            [
             0.4444444444444444,
             "#bd3786"
            ],
            [
             0.5555555555555556,
             "#d8576b"
            ],
            [
             0.6666666666666666,
             "#ed7953"
            ],
            [
             0.7777777777777778,
             "#fb9f3a"
            ],
            [
             0.8888888888888888,
             "#fdca26"
            ],
            [
             1,
             "#f0f921"
            ]
           ]
          },
          "colorway": [
           "#636efa",
           "#EF553B",
           "#00cc96",
           "#ab63fa",
           "#FFA15A",
           "#19d3f3",
           "#FF6692",
           "#B6E880",
           "#FF97FF",
           "#FECB52"
          ],
          "font": {
           "color": "#2a3f5f"
          },
          "geo": {
           "bgcolor": "white",
           "lakecolor": "white",
           "landcolor": "#E5ECF6",
           "showlakes": true,
           "showland": true,
           "subunitcolor": "white"
          },
          "hoverlabel": {
           "align": "left"
          },
          "hovermode": "closest",
          "mapbox": {
           "style": "light"
          },
          "paper_bgcolor": "white",
          "plot_bgcolor": "#E5ECF6",
          "polar": {
           "angularaxis": {
            "gridcolor": "white",
            "linecolor": "white",
            "ticks": ""
           },
           "bgcolor": "#E5ECF6",
           "radialaxis": {
            "gridcolor": "white",
            "linecolor": "white",
            "ticks": ""
           }
          },
          "scene": {
           "xaxis": {
            "backgroundcolor": "#E5ECF6",
            "gridcolor": "white",
            "gridwidth": 2,
            "linecolor": "white",
            "showbackground": true,
            "ticks": "",
            "zerolinecolor": "white"
           },
           "yaxis": {
            "backgroundcolor": "#E5ECF6",
            "gridcolor": "white",
            "gridwidth": 2,
            "linecolor": "white",
            "showbackground": true,
            "ticks": "",
            "zerolinecolor": "white"
           },
           "zaxis": {
            "backgroundcolor": "#E5ECF6",
            "gridcolor": "white",
            "gridwidth": 2,
            "linecolor": "white",
            "showbackground": true,
            "ticks": "",
            "zerolinecolor": "white"
           }
          },
          "shapedefaults": {
           "line": {
            "color": "#2a3f5f"
           }
          },
          "ternary": {
           "aaxis": {
            "gridcolor": "white",
            "linecolor": "white",
            "ticks": ""
           },
           "baxis": {
            "gridcolor": "white",
            "linecolor": "white",
            "ticks": ""
           },
           "bgcolor": "#E5ECF6",
           "caxis": {
            "gridcolor": "white",
            "linecolor": "white",
            "ticks": ""
           }
          },
          "title": {
           "x": 0.05
          },
          "xaxis": {
           "automargin": true,
           "gridcolor": "white",
           "linecolor": "white",
           "ticks": "",
           "title": {
            "standoff": 15
           },
           "zerolinecolor": "white",
           "zerolinewidth": 2
          },
          "yaxis": {
           "automargin": true,
           "gridcolor": "white",
           "linecolor": "white",
           "ticks": "",
           "title": {
            "standoff": 15
           },
           "zerolinecolor": "white",
           "zerolinewidth": 2
          }
         }
        },
        "xaxis": {
         "title": {
          "text": "Dimensions"
         },
         "type": "log"
        },
        "yaxis": {
         "title": {
          "text": "Nuclear Norm"
         },
         "type": "log"
        }
       }
      },
      "text/html": [
       "<div>                            <div id=\"8b8d96a3-43a2-40dd-ab2a-faad1fafed97\" class=\"plotly-graph-div\" style=\"height:525px; width:100%;\"></div>            <script type=\"text/javascript\">                require([\"plotly\"], function(Plotly) {                    window.PLOTLYENV=window.PLOTLYENV || {};                                    if (document.getElementById(\"8b8d96a3-43a2-40dd-ab2a-faad1fafed97\")) {                    Plotly.newPlot(                        \"8b8d96a3-43a2-40dd-ab2a-faad1fafed97\",                        [{\"error_y\":{\"array\":[0.232194254819834,0.2037922655251098,0.1617301041059051,0.09102609483641168,0.04666611677222836],\"type\":\"data\"},\"marker\":{\"size\":10},\"mode\":\"markers\",\"name\":\"DGI\",\"x\":[16,32,64,128,256],\"y\":[2.6261093616485596,2.549461841583252,1.8123341798782349,0.984041154384613,0.598243236541748],\"type\":\"scatter\"},{\"error_y\":{\"array\":[0.16733208758531046,0.17818722813364826,0.05740159736521321,0.03503145707935381,0.024181281682373944],\"type\":\"data\"},\"marker\":{\"size\":10},\"mode\":\"markers\",\"name\":\"DGI+XM\",\"x\":[16,32,64,128,256],\"y\":[1.704664945602417,1.3667126893997192,0.8381333947181702,0.5804486870765686,0.4039648771286011],\"type\":\"scatter\"}],                        {\"template\":{\"data\":{\"histogram2dcontour\":[{\"type\":\"histogram2dcontour\",\"colorbar\":{\"outlinewidth\":0,\"ticks\":\"\"},\"colorscale\":[[0.0,\"#0d0887\"],[0.1111111111111111,\"#46039f\"],[0.2222222222222222,\"#7201a8\"],[0.3333333333333333,\"#9c179e\"],[0.4444444444444444,\"#bd3786\"],[0.5555555555555556,\"#d8576b\"],[0.6666666666666666,\"#ed7953\"],[0.7777777777777778,\"#fb9f3a\"],[0.8888888888888888,\"#fdca26\"],[1.0,\"#f0f921\"]]}],\"choropleth\":[{\"type\":\"choropleth\",\"colorbar\":{\"outlinewidth\":0,\"ticks\":\"\"}}],\"histogram2d\":[{\"type\":\"histogram2d\",\"colorbar\":{\"outlinewidth\":0,\"ticks\":\"\"},\"colorscale\":[[0.0,\"#0d0887\"],[0.1111111111111111,\"#46039f\"],[0.2222222222222222,\"#7201a8\"],[0.3333333333333333,\"#9c179e\"],[0.4444444444444444,\"#bd3786\"],[0.5555555555555556,\"#d8576b\"],[0.6666666666666666,\"#ed7953\"],[0.7777777777777778,\"#fb9f3a\"],[0.8888888888888888,\"#fdca26\"],[1.0,\"#f0f921\"]]}],\"heatmap\":[{\"type\":\"heatmap\",\"colorbar\":{\"outlinewidth\":0,\"ticks\":\"\"},\"colorscale\":[[0.0,\"#0d0887\"],[0.1111111111111111,\"#46039f\"],[0.2222222222222222,\"#7201a8\"],[0.3333333333333333,\"#9c179e\"],[0.4444444444444444,\"#bd3786\"],[0.5555555555555556,\"#d8576b\"],[0.6666666666666666,\"#ed7953\"],[0.7777777777777778,\"#fb9f3a\"],[0.8888888888888888,\"#fdca26\"],[1.0,\"#f0f921\"]]}],\"heatmapgl\":[{\"type\":\"heatmapgl\",\"colorbar\":{\"outlinewidth\":0,\"ticks\":\"\"},\"colorscale\":[[0.0,\"#0d0887\"],[0.1111111111111111,\"#46039f\"],[0.2222222222222222,\"#7201a8\"],[0.3333333333333333,\"#9c179e\"],[0.4444444444444444,\"#bd3786\"],[0.5555555555555556,\"#d8576b\"],[0.6666666666666666,\"#ed7953\"],[0.7777777777777778,\"#fb9f3a\"],[0.8888888888888888,\"#fdca26\"],[1.0,\"#f0f921\"]]}],\"contourcarpet\":[{\"type\":\"contourcarpet\",\"colorbar\":{\"outlinewidth\":0,\"ticks\":\"\"}}],\"contour\":[{\"type\":\"contour\",\"colorbar\":{\"outlinewidth\":0,\"ticks\":\"\"},\"colorscale\":[[0.0,\"#0d0887\"],[0.1111111111111111,\"#46039f\"],[0.2222222222222222,\"#7201a8\"],[0.3333333333333333,\"#9c179e\"],[0.4444444444444444,\"#bd3786\"],[0.5555555555555556,\"#d8576b\"],[0.6666666666666666,\"#ed7953\"],[0.7777777777777778,\"#fb9f3a\"],[0.8888888888888888,\"#fdca26\"],[1.0,\"#f0f921\"]]}],\"surface\":[{\"type\":\"surface\",\"colorbar\":{\"outlinewidth\":0,\"ticks\":\"\"},\"colorscale\":[[0.0,\"#0d0887\"],[0.1111111111111111,\"#46039f\"],[0.2222222222222222,\"#7201a8\"],[0.3333333333333333,\"#9c179e\"],[0.4444444444444444,\"#bd3786\"],[0.5555555555555556,\"#d8576b\"],[0.6666666666666666,\"#ed7953\"],[0.7777777777777778,\"#fb9f3a\"],[0.8888888888888888,\"#fdca26\"],[1.0,\"#f0f921\"]]}],\"mesh3d\":[{\"type\":\"mesh3d\",\"colorbar\":{\"outlinewidth\":0,\"ticks\":\"\"}}],\"scatter\":[{\"fillpattern\":{\"fillmode\":\"overlay\",\"size\":10,\"solidity\":0.2},\"type\":\"scatter\"}],\"parcoords\":[{\"type\":\"parcoords\",\"line\":{\"colorbar\":{\"outlinewidth\":0,\"ticks\":\"\"}}}],\"scatterpolargl\":[{\"type\":\"scatterpolargl\",\"marker\":{\"colorbar\":{\"outlinewidth\":0,\"ticks\":\"\"}}}],\"bar\":[{\"error_x\":{\"color\":\"#2a3f5f\"},\"error_y\":{\"color\":\"#2a3f5f\"},\"marker\":{\"line\":{\"color\":\"#E5ECF6\",\"width\":0.5},\"pattern\":{\"fillmode\":\"overlay\",\"size\":10,\"solidity\":0.2}},\"type\":\"bar\"}],\"scattergeo\":[{\"type\":\"scattergeo\",\"marker\":{\"colorbar\":{\"outlinewidth\":0,\"ticks\":\"\"}}}],\"scatterpolar\":[{\"type\":\"scatterpolar\",\"marker\":{\"colorbar\":{\"outlinewidth\":0,\"ticks\":\"\"}}}],\"histogram\":[{\"marker\":{\"pattern\":{\"fillmode\":\"overlay\",\"size\":10,\"solidity\":0.2}},\"type\":\"histogram\"}],\"scattergl\":[{\"type\":\"scattergl\",\"marker\":{\"colorbar\":{\"outlinewidth\":0,\"ticks\":\"\"}}}],\"scatter3d\":[{\"type\":\"scatter3d\",\"line\":{\"colorbar\":{\"outlinewidth\":0,\"ticks\":\"\"}},\"marker\":{\"colorbar\":{\"outlinewidth\":0,\"ticks\":\"\"}}}],\"scattermapbox\":[{\"type\":\"scattermapbox\",\"marker\":{\"colorbar\":{\"outlinewidth\":0,\"ticks\":\"\"}}}],\"scatterternary\":[{\"type\":\"scatterternary\",\"marker\":{\"colorbar\":{\"outlinewidth\":0,\"ticks\":\"\"}}}],\"scattercarpet\":[{\"type\":\"scattercarpet\",\"marker\":{\"colorbar\":{\"outlinewidth\":0,\"ticks\":\"\"}}}],\"carpet\":[{\"aaxis\":{\"endlinecolor\":\"#2a3f5f\",\"gridcolor\":\"white\",\"linecolor\":\"white\",\"minorgridcolor\":\"white\",\"startlinecolor\":\"#2a3f5f\"},\"baxis\":{\"endlinecolor\":\"#2a3f5f\",\"gridcolor\":\"white\",\"linecolor\":\"white\",\"minorgridcolor\":\"white\",\"startlinecolor\":\"#2a3f5f\"},\"type\":\"carpet\"}],\"table\":[{\"cells\":{\"fill\":{\"color\":\"#EBF0F8\"},\"line\":{\"color\":\"white\"}},\"header\":{\"fill\":{\"color\":\"#C8D4E3\"},\"line\":{\"color\":\"white\"}},\"type\":\"table\"}],\"barpolar\":[{\"marker\":{\"line\":{\"color\":\"#E5ECF6\",\"width\":0.5},\"pattern\":{\"fillmode\":\"overlay\",\"size\":10,\"solidity\":0.2}},\"type\":\"barpolar\"}],\"pie\":[{\"automargin\":true,\"type\":\"pie\"}]},\"layout\":{\"autotypenumbers\":\"strict\",\"colorway\":[\"#636efa\",\"#EF553B\",\"#00cc96\",\"#ab63fa\",\"#FFA15A\",\"#19d3f3\",\"#FF6692\",\"#B6E880\",\"#FF97FF\",\"#FECB52\"],\"font\":{\"color\":\"#2a3f5f\"},\"hovermode\":\"closest\",\"hoverlabel\":{\"align\":\"left\"},\"paper_bgcolor\":\"white\",\"plot_bgcolor\":\"#E5ECF6\",\"polar\":{\"bgcolor\":\"#E5ECF6\",\"angularaxis\":{\"gridcolor\":\"white\",\"linecolor\":\"white\",\"ticks\":\"\"},\"radialaxis\":{\"gridcolor\":\"white\",\"linecolor\":\"white\",\"ticks\":\"\"}},\"ternary\":{\"bgcolor\":\"#E5ECF6\",\"aaxis\":{\"gridcolor\":\"white\",\"linecolor\":\"white\",\"ticks\":\"\"},\"baxis\":{\"gridcolor\":\"white\",\"linecolor\":\"white\",\"ticks\":\"\"},\"caxis\":{\"gridcolor\":\"white\",\"linecolor\":\"white\",\"ticks\":\"\"}},\"coloraxis\":{\"colorbar\":{\"outlinewidth\":0,\"ticks\":\"\"}},\"colorscale\":{\"sequential\":[[0.0,\"#0d0887\"],[0.1111111111111111,\"#46039f\"],[0.2222222222222222,\"#7201a8\"],[0.3333333333333333,\"#9c179e\"],[0.4444444444444444,\"#bd3786\"],[0.5555555555555556,\"#d8576b\"],[0.6666666666666666,\"#ed7953\"],[0.7777777777777778,\"#fb9f3a\"],[0.8888888888888888,\"#fdca26\"],[1.0,\"#f0f921\"]],\"sequentialminus\":[[0.0,\"#0d0887\"],[0.1111111111111111,\"#46039f\"],[0.2222222222222222,\"#7201a8\"],[0.3333333333333333,\"#9c179e\"],[0.4444444444444444,\"#bd3786\"],[0.5555555555555556,\"#d8576b\"],[0.6666666666666666,\"#ed7953\"],[0.7777777777777778,\"#fb9f3a\"],[0.8888888888888888,\"#fdca26\"],[1.0,\"#f0f921\"]],\"diverging\":[[0,\"#8e0152\"],[0.1,\"#c51b7d\"],[0.2,\"#de77ae\"],[0.3,\"#f1b6da\"],[0.4,\"#fde0ef\"],[0.5,\"#f7f7f7\"],[0.6,\"#e6f5d0\"],[0.7,\"#b8e186\"],[0.8,\"#7fbc41\"],[0.9,\"#4d9221\"],[1,\"#276419\"]]},\"xaxis\":{\"gridcolor\":\"white\",\"linecolor\":\"white\",\"ticks\":\"\",\"title\":{\"standoff\":15},\"zerolinecolor\":\"white\",\"automargin\":true,\"zerolinewidth\":2},\"yaxis\":{\"gridcolor\":\"white\",\"linecolor\":\"white\",\"ticks\":\"\",\"title\":{\"standoff\":15},\"zerolinecolor\":\"white\",\"automargin\":true,\"zerolinewidth\":2},\"scene\":{\"xaxis\":{\"backgroundcolor\":\"#E5ECF6\",\"gridcolor\":\"white\",\"linecolor\":\"white\",\"showbackground\":true,\"ticks\":\"\",\"zerolinecolor\":\"white\",\"gridwidth\":2},\"yaxis\":{\"backgroundcolor\":\"#E5ECF6\",\"gridcolor\":\"white\",\"linecolor\":\"white\",\"showbackground\":true,\"ticks\":\"\",\"zerolinecolor\":\"white\",\"gridwidth\":2},\"zaxis\":{\"backgroundcolor\":\"#E5ECF6\",\"gridcolor\":\"white\",\"linecolor\":\"white\",\"showbackground\":true,\"ticks\":\"\",\"zerolinecolor\":\"white\",\"gridwidth\":2}},\"shapedefaults\":{\"line\":{\"color\":\"#2a3f5f\"}},\"annotationdefaults\":{\"arrowcolor\":\"#2a3f5f\",\"arrowhead\":0,\"arrowwidth\":1},\"geo\":{\"bgcolor\":\"white\",\"landcolor\":\"#E5ECF6\",\"subunitcolor\":\"white\",\"showland\":true,\"showlakes\":true,\"lakecolor\":\"white\"},\"title\":{\"x\":0.05},\"mapbox\":{\"style\":\"light\"}}},\"xaxis\":{\"title\":{\"text\":\"Dimensions\"},\"type\":\"log\"},\"yaxis\":{\"title\":{\"text\":\"Nuclear Norm\"},\"type\":\"log\"},\"font\":{\"size\":20},\"plot_bgcolor\":\"white\",\"paper_bgcolor\":\"white\"},                        {\"responsive\": true}                    ).then(function(){\n",
       "                            \n",
       "var gd = document.getElementById('8b8d96a3-43a2-40dd-ab2a-faad1fafed97');\n",
       "var x = new MutationObserver(function (mutations, observer) {{\n",
       "        var display = window.getComputedStyle(gd).display;\n",
       "        if (!display || display === 'none') {{\n",
       "            console.log([gd, 'removed!']);\n",
       "            Plotly.purge(gd);\n",
       "            observer.disconnect();\n",
       "        }}\n",
       "}});\n",
       "\n",
       "// Listen for the removal of the full notebook cells\n",
       "var notebookContainer = gd.closest('#notebook-container');\n",
       "if (notebookContainer) {{\n",
       "    x.observe(notebookContainer, {childList: true});\n",
       "}}\n",
       "\n",
       "// Listen for the clearing of the current output cell\n",
       "var outputEl = gd.closest('.output');\n",
       "if (outputEl) {{\n",
       "    x.observe(outputEl, {childList: true});\n",
       "}}\n",
       "\n",
       "                        })                };                });            </script>        </div>"
      ]
     },
     "metadata": {},
     "output_type": "display_data"
    }
   ],
   "source": [
    "fig = go.Figure()\n",
    "marker_size = 10\n",
    "text_size = 20\n",
    "method = 'DGI'\n",
    "\n",
    "fig.add_trace(go.Scatter(x = dimensions, \n",
    "                         y = norm_mean, \n",
    "                         error_y = dict(type = 'data', \n",
    "                                        array = norm_std), \n",
    "                         mode = 'markers', \n",
    "                         name = method, \n",
    "                         marker = dict(size = marker_size)))\n",
    "\n",
    "fig.add_trace(go.Scatter(x = dimensions, \n",
    "                         y = norm_plus_mean, \n",
    "                         error_y = dict(type = 'data', \n",
    "                                        array = norm_plus_std), \n",
    "                         mode = 'markers', \n",
    "                         name = method + '+XM', \n",
    "                         marker = dict(size = marker_size)))\n",
    "\n",
    "# fig.add_trace(go.Scatter(x = dimensions, \n",
    "#                          y = norm_id_mean, \n",
    "#                          error_y = dict(type = 'data', \n",
    "#                                         array = norm_id_std), \n",
    "#                          mode = 'markers', \n",
    "#                          name = method + ' ID', \n",
    "#                          marker = dict(size = marker_size)))\n",
    "\n",
    "\n",
    "fig.update_layout(xaxis_title_text = 'Dimensions',\n",
    "                  yaxis_title_text = 'Nuclear Norm', \n",
    "                  plot_bgcolor = 'white',\n",
    "                  paper_bgcolor = 'white', \n",
    "                  font = dict(size = text_size))\n",
    "\n",
    "fig.update_xaxes(type = 'log')\n",
    "fig.update_yaxes(type = 'log')\n",
    "fig.show()"
   ]
  },
  {
   "cell_type": "code",
   "execution_count": 126,
   "id": "5411357b",
   "metadata": {},
   "outputs": [
    {
     "data": {
      "application/vnd.plotly.v1+json": {
       "config": {
        "plotlyServerURL": "https://plot.ly"
       },
       "data": [
        {
         "name": "SDNE",
         "type": "histogram",
         "x": [
          0.6598601341247559,
          0.8308860659599304,
          0.6493744850158691,
          0.5925207138061523,
          0.5907540321350098,
          0.6177313327789307,
          0.9002248048782349,
          0.9458584785461426,
          0.6430634260177612,
          0.6726800203323364,
          0.6096288561820984,
          0.5711376667022705,
          0.555424690246582,
          0.554680585861206,
          0.5535281896591187,
          0.6161611676216125,
          0.9932979941368103,
          0.5999338626861572,
          0.7349878549575806,
          0.5621846914291382,
          0.6895334720611572,
          0.6426553726196289,
          0.6317975521087646,
          0.7948737740516663,
          0.6826521754264832,
          0.8623160719871521,
          0.6539345979690552,
          0.5788114666938782,
          0.604602575302124,
          0.8634055256843567,
          0.8552671074867249,
          0.6313602328300476,
          0.6219857335090637,
          0.8133208155632019,
          0.9090059995651245,
          0.9074364900588989,
          0.6125794649124146,
          0.5730683207511902,
          0.56252521276474,
          0.6690223813056946,
          0.6255821585655212,
          0.6008162498474121,
          0.7246699333190918,
          0.6051480770111084,
          0.6719257235527039,
          0.6516614556312561,
          0.6351965069770813,
          0.8734845519065857,
          0.645815908908844,
          0.6562892198562622,
          0.6308032274246216,
          0.5989973545074463,
          0.5398889183998108,
          0.8407341241836548,
          0.6292914152145386,
          0.5473194122314453,
          0.8221520781517029,
          0.5686378479003906,
          0.6212651133537292,
          0.604271411895752,
          0.5636077523231506,
          0.7397193312644958,
          0.7486489415168762,
          0.6310558319091797,
          0.640170693397522,
          0.6388809680938721,
          0.5869067311286926,
          0.6778488755226135,
          0.6560983657836914,
          0.6468258500099182,
          0.5801543593406677,
          0.7115554213523865,
          0.7232493758201599,
          0.5749973058700562,
          0.5649263262748718,
          0.616990327835083,
          0.7436597347259521,
          0.6304905414581299,
          0.717279314994812,
          0.6293782591819763,
          0.8439631462097168,
          0.9078967571258545,
          0.7576343417167664,
          0.574151337146759,
          0.7872793078422546,
          0.7877697348594666,
          0.6451629996299744,
          0.6531092524528503,
          0.5866525173187256,
          0.7415382862091064,
          0.5728902220726013,
          0.8957598805427551,
          0.5393389463424683,
          0.7128888368606567,
          0.6627286672592163,
          0.6384422779083252,
          0.6048876643180847,
          0.8807936906814575,
          0.768338680267334,
          0.7481777667999268,
          1.0099369287490845,
          0.9707083702087402,
          1.0244842767715454,
          0.8916864991188049,
          0.7356196045875549,
          0.742482602596283,
          1.0028374195098877,
          0.7817134857177734,
          0.5918517708778381,
          0.649016261100769,
          0.5701835751533508,
          0.9240579605102539,
          0.6601373553276062,
          0.811337411403656,
          0.5668216347694397,
          0.9497368335723877,
          0.8632828593254089,
          0.6703777313232422,
          0.5844884514808655,
          0.5896091461181641,
          0.5787608623504639,
          0.5785969495773315,
          0.6012415289878845,
          0.5688155293464661,
          0.6448531150817871,
          0.7239219546318054,
          0.7366898655891418,
          0.6739810705184937,
          0.65678870677948,
          0.5522416234016418,
          0.5285030603408813,
          0.794097363948822,
          0.871341347694397,
          0.6511420607566833,
          0.5789147615432739,
          0.6535302996635437,
          0.6566113233566284,
          0.6038588285446167,
          0.8997011780738831,
          0.8752099871635437,
          0.8393065333366394,
          0.5627888441085815,
          0.5913509726524353,
          0.5446262955665588,
          0.5885322690010071,
          0.7576454877853394,
          0.7342044711112976,
          0.7992130517959595,
          0.5910272002220154,
          0.9061756134033203,
          0.6949496269226074,
          0.5704244375228882,
          1.0818918943405151,
          0.6591107845306396,
          0.5973994731903076,
          0.5449650287628174,
          0.5876078009605408,
          0.806373119354248,
          0.9903240203857422,
          1.1217098236083984,
          0.6553484201431274,
          0.9802600741386414,
          0.6295734643936157,
          0.8649379014968872,
          0.7602772116661072,
          0.5315574407577515,
          0.6275836825370789,
          0.6868647336959839,
          0.9526650309562683,
          0.8366794586181641,
          0.8271669149398804,
          0.5455095171928406,
          0.5717121362686157,
          0.5871770977973938,
          0.5657541751861572,
          0.6988208293914795,
          0.7271016836166382,
          0.6177371144294739,
          0.7057958245277405,
          0.7805337309837341,
          0.7139402627944946,
          0.605728030204773,
          0.8132454752922058,
          0.6032096147537231,
          1.018337607383728,
          0.567131757736206,
          0.7362300753593445,
          0.8833168148994446,
          0.8927406072616577,
          0.7862818241119385,
          0.8394938111305237,
          0.7193770408630371,
          0.7537840604782104,
          0.8026247024536133,
          1.0921741724014282,
          1.2551312446594238,
          0.7166059613227844,
          0.6243958473205566,
          0.7743693590164185,
          0.6028633713722229,
          0.9330599904060364,
          0.5823692679405212,
          0.5617971420288086,
          0.832687497138977,
          0.7269743084907532,
          0.5910071134567261,
          0.7577666640281677,
          0.8720608353614807,
          1.0583337545394897,
          1.0879122018814087,
          0.8558816313743591,
          0.7914035320281982,
          0.8258810639381409,
          0.790875256061554,
          0.7703315615653992,
          0.994509220123291,
          0.7580661177635193,
          0.8315321803092957,
          0.6862784624099731,
          0.6436519026756287,
          0.7757778763771057,
          0.6642629504203796,
          0.5729040503501892,
          0.6041812896728516,
          1.0211725234985352,
          0.8514450788497925,
          0.9778961539268494,
          0.8696264028549194,
          0.5844138264656067,
          0.7034618258476257,
          0.7800370454788208,
          0.7665025591850281,
          0.5723317265510559,
          0.7636301517486572,
          0.6906132698059082,
          0.598138689994812,
          0.918743371963501,
          0.7566608786582947,
          0.8341026902198792,
          0.9297959804534912,
          1.0291043519973755,
          1.1815710067749023,
          0.8786165714263916,
          0.573682427406311,
          1.4612629413604736,
          1.5129055976867676,
          0.7492101788520813,
          1.2586661577224731,
          0.5685338973999023,
          0.7333327531814575,
          0.6504670977592468,
          0.6670546531677246,
          1.8368332386016846,
          1.215267539024353,
          0.9740882515907288,
          0.7556345462799072,
          0.6435366868972778,
          0.9942862391471863,
          0.6950365900993347,
          0.9295877814292908,
          0.8298827409744263,
          0.817063570022583,
          0.8058319687843323,
          0.8042388558387756,
          0.8355472683906555,
          1.0025947093963623,
          0.9247295260429382,
          0.701981782913208,
          0.6571235060691833,
          1.0041991472244263,
          1.1691604852676392,
          0.970630407333374,
          0.891110360622406,
          0.6181115508079529,
          0.7575809955596924,
          0.8342406749725342,
          0.9041685461997986,
          0.7759307622909546,
          0.8424935936927795,
          0.7744192481040955,
          0.8490639925003052,
          0.9579816460609436,
          0.6511198878288269,
          0.7534292340278625,
          1.3295899629592896,
          0.8713619112968445,
          0.7217512726783752,
          0.829150915145874,
          0.6078269481658936,
          0.7960522770881653,
          0.7964868545532227,
          1.3197321891784668,
          0.8476460576057434,
          0.9539732336997986,
          0.8589752316474915,
          0.6993889212608337,
          0.7903829216957092,
          0.6479567885398865,
          0.9793338775634766,
          0.830335795879364,
          0.9995951056480408,
          0.9905155897140503,
          0.9961230158805847,
          0.7613174319267273,
          0.9237105846405029,
          0.7138136625289917,
          1.025185227394104,
          0.8151191473007202,
          0.8983726501464844,
          0.8735199570655823,
          0.9500465989112854,
          1.3006645441055298,
          1.0942676067352295,
          0.5873273611068726,
          0.8794891834259033,
          0.5777074098587036,
          0.8167657852172852,
          0.7360295653343201,
          0.8075577616691589,
          0.6283606290817261,
          1.2977826595306396,
          0.8595175743103027,
          1.140140175819397,
          0.8756164908409119,
          0.8512356877326965,
          0.8760982155799866,
          0.8232921957969666,
          0.8540788292884827,
          1.106414556503296,
          1.247120976448059,
          0.8178459405899048,
          1.295013666152954,
          0.6648878455162048,
          1.3717824220657349,
          0.9817197322845459,
          0.9244990944862366,
          1.1997289657592773,
          1.211435079574585,
          0.6134260892868042,
          0.8586387634277344,
          1.1250516176223755,
          1.3390655517578125,
          1.2242637872695923,
          0.9194285869598389,
          0.7639126777648926,
          0.854351818561554,
          1.103927493095398,
          0.8343609571456909,
          0.4982999563217163,
          1.251220941543579,
          1.213327169418335,
          1.2736663818359375,
          1.1950527429580688,
          0.9746078848838806,
          0.9812140464782715,
          1.884760856628418,
          1.1563211679458618,
          0.9979760646820068,
          0.9796131253242493,
          0.8674807548522949,
          0.8552975654602051,
          1.0798335075378418,
          0.7659409046173096,
          0.9873144626617432,
          1.1135903596878052,
          0.7297677397727966,
          0.6652860641479492,
          0.9999563694000244,
          1.2928321361541748,
          1.1466635465621948,
          1.0429495573043823,
          1.0961381196975708,
          1.1235477924346924,
          1.2376949787139893,
          0.9752214550971985,
          1.0585711002349854,
          0.8300326466560364,
          1.0308455228805542,
          1.0040003061294556,
          1.1380623579025269,
          0.8269835710525513,
          1.3464430570602417,
          1.605098009109497,
          0.8932722210884094,
          0.8456674814224243,
          0.7874816060066223,
          1.4572527408599854,
          0.9961709976196289,
          0.7690721154212952,
          1.0646016597747803,
          1.1231156587600708,
          0.8642719984054565,
          0.6475687623023987,
          0.7554521560668945,
          0.9162182807922363,
          0.956240713596344,
          0.7670104503631592,
          0.9104800820350647,
          0.9150093793869019,
          1.2062382698059082,
          1.1823766231536865,
          0.8633142709732056,
          1.0914406776428223,
          1.2291350364685059,
          0.7107557058334351,
          1.0085285902023315,
          1.0396016836166382,
          1.0717012882232666,
          0.9545391201972961,
          0.938596248626709,
          1.0744996070861816,
          0.9520052075386047,
          0.9236354231834412,
          0.8320494890213013,
          1.0028305053710938,
          0.9540615677833557,
          0.6955156922340393,
          0.781694769859314,
          0.8081246018409729,
          1.157884120941162,
          0.9947675466537476,
          0.9931779503822327,
          1.10079026222229,
          1.0209404230117798,
          1.0485799312591553,
          0.9208695888519287,
          1.2452095746994019,
          1.0176712274551392,
          0.8859154582023621,
          1.2188454866409302,
          1.0992896556854248,
          1.066265344619751,
          0.9023877382278442,
          1.2047557830810547,
          0.8140055537223816,
          1.269037127494812,
          0.8099557161331177,
          0.9571718573570251,
          1.070749044418335,
          1.4987375736236572,
          1.2850173711776733,
          0.7738237977027893,
          1.1439573764801025,
          0.7695406675338745,
          0.9219199419021606,
          1.2269166707992554,
          0.9879986643791199,
          0.8303477168083191,
          1.023092269897461,
          1.196791648864746,
          1.2608555555343628,
          1.3152750730514526,
          1.264587640762329,
          0.7925028800964355,
          1.3582664728164673,
          1.0449188947677612,
          0.7762075662612915,
          0.8215512037277222,
          1.0806792974472046,
          0.9555623531341553,
          0.9595232009887695,
          1.1716704368591309,
          1.3689067363739014,
          1.5730534791946411,
          1.1441411972045898,
          0.9745652079582214,
          1.125412106513977,
          0.8726734519004822,
          0.8638337254524231,
          0.9725220799446106,
          0.8424914479255676,
          0.9662172794342041,
          1.1317803859710693,
          1.1927647590637207,
          0.9266722202301025,
          1.094884991645813,
          1.6149413585662842,
          0.9727939963340759,
          1.0582784414291382,
          1.1366227865219116,
          0.9790462851524353,
          0.9530320167541504,
          1.1161309480667114,
          0.9050301313400269,
          0.8370519876480103,
          0.950194239616394,
          0.8794111013412476,
          0.7384136319160461,
          1.0158356428146362,
          0.9716705679893494,
          1.2778692245483398,
          1.8103797435760498,
          1.1410245895385742,
          1.1610203981399536,
          0.9658083915710449,
          1.1860252618789673,
          0.9553757309913635,
          1.0800526142120361,
          1.2422505617141724,
          1.2235727310180664,
          1.2126994132995605,
          1.0875062942504883,
          0.8294689059257507,
          1.278242588043213,
          0.9319155812263489,
          0.8373174667358398,
          1.0068440437316895,
          1.6483063697814941,
          0.9430527687072754,
          0.8997309803962708,
          1.0131415128707886,
          1.12129545211792,
          1.1011265516281128,
          1.3274786472320557,
          1.1726360321044922,
          1.0639429092407227,
          1.2308287620544434,
          0.7987186908721924,
          0.864147961139679,
          0.9192564487457275,
          0.9369380474090576,
          1.1317148208618164,
          1.1496679782867432,
          1.061096429824829,
          1.2085113525390625,
          0.9807773232460022,
          0.987594485282898,
          0.8624131679534912,
          0.5237104892730713,
          0.8523105978965759,
          1.0907968282699585,
          1.136078953742981,
          1.0879875421524048,
          1.2042003870010376,
          0.9923635125160217,
          1.1428534984588623,
          0.8877257704734802,
          1.0891821384429932,
          1.2197151184082031,
          1.029529094696045,
          1.1177681684494019,
          0.9922541379928589,
          1.153661847114563,
          1.261095404624939,
          1.0749963521957397,
          1.2183276414871216,
          1.2977826595306396,
          1.3248704671859741,
          0.8985814452171326,
          0.9539635181427002,
          1.6121106147766113,
          0.9795114994049072,
          1.0735328197479248,
          0.9897720217704773,
          0.8486143350601196,
          1.0527327060699463,
          0.9839699268341064,
          1.4012210369110107,
          1.1255977153778076,
          1.0232585668563843,
          0.9940535426139832,
          0.8887504935264587,
          1.292206883430481,
          1.0865081548690796,
          0.9428178668022156,
          1.1577608585357666,
          0.9340265393257141,
          1.2079602479934692,
          1.1365551948547363,
          1.046545386314392,
          1.1822509765625,
          1.2349258661270142,
          0.968528151512146,
          0.9453431963920593,
          1.2005369663238525,
          0.8537226915359497,
          1.1499385833740234,
          1.066985845565796,
          1.0511871576309204,
          0.9489277005195618,
          1.3675400018692017,
          0.8999655246734619,
          1.0528879165649414,
          1.266863226890564,
          1.1258803606033325,
          1.367155909538269,
          1.0524464845657349,
          0.9608773589134216,
          1.2807403802871704,
          1.0493329763412476,
          1.1738556623458862,
          1.8368332386016846,
          1.857431411743164,
          1.3705905675888062,
          1.1194641590118408,
          1.0321221351623535,
          1.0186083316802979,
          1.2977826595306396,
          1.342885971069336,
          0.9039309620857239,
          0.8954752087593079,
          0.8019636869430542,
          1.0407084226608276,
          0.9764630794525146,
          1.2589863538742065,
          1.2992321252822876,
          0.9807916879653931,
          1.3235877752304077,
          0.9246053099632263,
          1.139125943183899,
          0.9910800457000732,
          1.111763596534729,
          1.1637115478515625,
          1.785668134689331,
          1.5209853649139404,
          1.3410392999649048,
          1.1840605735778809,
          1.0065556764602661,
          0.9256690740585327,
          1.0115114450454712,
          1.398219347000122,
          1.1398028135299683,
          1.0280284881591797,
          1.0696923732757568,
          1.088238000869751,
          0.9984064102172852,
          1.0279450416564941,
          1.085776686668396,
          1.1818950176239014,
          0.9544127583503723,
          1.382582187652588,
          1.432708501815796,
          1.3923293352127075,
          0.6660425662994385,
          0.6878747940063477,
          1.21771240234375,
          0.6925422549247742,
          0.7659417390823364,
          0.9063912630081177,
          1.2681961059570312,
          1.0923763513565063,
          1.0331110954284668,
          1.11556875705719,
          0.8076008558273315,
          1.2281571626663208,
          1.361940860748291,
          0.8854178190231323,
          1.250643014907837,
          0.9693814516067505,
          1.2402986288070679,
          1.089487910270691,
          1.0722026824951172,
          1.8103797435760498,
          1.425567388534546,
          0.9444206357002258,
          1.0338162183761597,
          1.1471107006072998,
          0.9679708480834961,
          1.3176629543304443,
          1.069003701210022,
          1.087695837020874,
          1.8866740465164185,
          0.986626923084259,
          1.200749397277832,
          1.1429774761199951,
          1.1911388635635376,
          1.3596481084823608,
          1.884760856628418,
          1.3069227933883667,
          0.8981854915618896,
          0.9663364887237549,
          1.0641123056411743,
          0.839470624923706,
          0.7732881903648376,
          0.9155061841011047,
          1.3962870836257935,
          1.0888891220092773,
          0.743699312210083,
          1.2205276489257812,
          1.3449639081954956,
          1.4484517574310303,
          1.2781424522399902,
          1.1633546352386475,
          1.142094373703003,
          1.109026312828064,
          1.396281123161316,
          1.0227552652359009,
          1.0588371753692627,
          1.378386378288269,
          1.0117602348327637,
          1.0820297002792358,
          0.9917974472045898,
          1.4852856397628784,
          0.7060796618461609,
          1.1401795148849487,
          0.5452929139137268,
          1.0388885736465454,
          1.3707629442214966,
          1.099307894706726,
          1.2241491079330444,
          0.9509629011154175,
          1.1320184469223022,
          0.9500149488449097,
          1.1580404043197632,
          1.0273808240890503,
          1.3127995729446411,
          0.5571541786193848,
          1.325413703918457,
          1.0527327060699463,
          1.1271133422851562,
          1.4558278322219849,
          0.972503125667572,
          1.2378747463226318,
          0.9834315776824951,
          1.0718717575073242,
          1.0636107921600342,
          0.714667797088623,
          0.753473162651062,
          0.5627375245094299,
          1.2776330709457397,
          1.569616436958313,
          0.9518516063690186,
          1.3872315883636475,
          0.9937628507614136,
          1.0544447898864746,
          1.0527327060699463,
          1.1932804584503174,
          0.908214271068573,
          1.1072214841842651,
          0.9478754997253418,
          1.2671782970428467,
          1.1049325466156006,
          1.5210400819778442,
          1.16767418384552,
          1.1608352661132812,
          1.0429269075393677,
          1.3077672719955444,
          1.2662421464920044,
          1.0417753458023071,
          1.2475913763046265,
          0.9598700404167175,
          1.2977826595306396,
          1.5638103485107422,
          1.2198549509048462,
          1.0508177280426025,
          1.0266637802124023,
          1.2150720357894897,
          1.1231694221496582,
          1.1647651195526123,
          1.1068485975265503,
          1.372923493385315,
          1.2809817790985107,
          1.4767632484436035,
          1.0525058507919312,
          1.2686047554016113,
          0.6820732951164246,
          0.7972239851951599,
          0.8513564467430115,
          0.8951953053474426,
          0.9608773589134216,
          1.176622748374939,
          1.2948613166809082,
          1.679181694984436,
          1.0921682119369507,
          1.4500237703323364,
          1.4643968343734741,
          1.0271601676940918,
          1.1119447946548462,
          1.437076210975647,
          1.4238710403442383,
          1.2588287591934204,
          1.2063212394714355,
          1.2440528869628906,
          1.0364857912063599,
          1.0820472240447998,
          1.5632776021957397,
          1.1250571012496948,
          1.3411550521850586,
          1.1972954273223877,
          1.0526875257492065,
          1.2039566040039062,
          1.050082802772522,
          1.4480664730072021,
          1.044050931930542,
          1.0195701122283936,
          1.4500237703323364,
          1.1686984300613403,
          1.1962347030639648,
          1.2305936813354492,
          0.9500814080238342,
          1.4788895845413208,
          0.9256306886672974,
          1.292893648147583,
          1.0776302814483643,
          1.2870807647705078,
          1.3058758974075317,
          1.2311047315597534,
          1.0441852807998657,
          1.2418140172958374,
          1.785668134689331,
          1.2977826595306396,
          1.2787164449691772,
          1.429758071899414,
          1.6540989875793457,
          1.1404719352722168,
          1.0101584196090698,
          1.1135975122451782,
          1.4557241201400757,
          1.1458348035812378,
          1.2068630456924438,
          1.0285029411315918,
          1.1731613874435425,
          0.9110432863235474,
          1.1030648946762085,
          1.1251482963562012,
          1.389197826385498,
          0.8198984861373901,
          1.178422451019287,
          1.1013054847717285,
          1.0414304733276367,
          1.3113527297973633,
          1.277787685394287,
          1.2293354272842407,
          1.4024791717529297,
          0.9183558225631714,
          1.3152050971984863,
          1.0779271125793457,
          1.6458110809326172,
          1.1096792221069336,
          1.0553196668624878,
          1.0385360717773438,
          0.9862772822380066,
          1.8368332386016846,
          1.2893041372299194,
          0.976681649684906,
          1.421654224395752,
          1.5262974500656128,
          1.4811805486679077,
          1.1465307474136353,
          1.1364480257034302,
          1.3172001838684082,
          1.1096813678741455,
          1.1866239309310913,
          1.604689598083496,
          1.6551326513290405,
          1.3620028495788574,
          1.0718717575073242,
          1.3884989023208618,
          1.5662927627563477,
          1.0264886617660522,
          0.9174814224243164,
          1.0957010984420776,
          1.4123817682266235,
          1.1725201606750488,
          1.5747495889663696,
          0.7980465292930603,
          1.2315731048583984,
          1.3458709716796875,
          1.206889033317566,
          1.3162308931350708,
          1.1277837753295898,
          1.3193106651306152,
          0.8070916533470154,
          1.2186776399612427,
          1.313723087310791,
          1.1399081945419312,
          0.8169729113578796,
          1.0287925004959106,
          1.028232216835022,
          1.2556577920913696,
          1.5638103485107422,
          1.2806845903396606,
          1.8103797435760498,
          1.3410508632659912,
          1.337905764579773,
          1.2577106952667236,
          0.6526697278022766,
          0.7627773880958557,
          0.9283020496368408,
          1.1793537139892578,
          0.791431188583374,
          1.1291732788085938,
          1.2977826595306396,
          1.3426278829574585,
          1.160990595817566,
          1.5638103485107422,
          0.9132789373397827,
          1.8368332386016846,
          1.1751699447631836,
          1.402780532836914,
          1.8001338243484497,
          1.2992321252822876,
          0.9404413104057312,
          1.4870189428329468,
          1.604229211807251,
          0.9806540012359619,
          1.0229219198226929,
          1.274294376373291,
          1.3903436660766602,
          1.197999358177185,
          1.0308536291122437,
          1.1866674423217773,
          1.339464545249939,
          1.612708330154419,
          1.3000305891036987,
          1.6965943574905396,
          1.140292763710022,
          1.4675863981246948,
          1.2801061868667603,
          1.354036808013916,
          1.4806634187698364,
          1.6399660110473633,
          1.679181694984436,
          1.1357156038284302,
          1.324251413345337,
          1.2493679523468018,
          1.5089095830917358,
          1.3909863233566284,
          1.0636107921600342,
          1.8368332386016846,
          1.1949652433395386,
          0.9473913908004761,
          1.2863284349441528,
          1.5638103485107422,
          1.244112253189087,
          1.2859270572662354,
          1.1233636140823364,
          1.3248704671859741,
          1.6696996688842773,
          1.8368332386016846,
          1.1348769664764404,
          1.3438916206359863,
          1.4564944505691528,
          1.2022753953933716,
          1.3293999433517456,
          1.477699637413025,
          1.0457780361175537,
          1.0697296857833862,
          1.0287015438079834,
          0.8952016234397888,
          1.283477544784546,
          1.283477544784546,
          1.4959267377853394,
          1.2977826595306396,
          0.9827550053596497,
          0.9016395211219788,
          1.1915867328643799,
          1.3925611972808838,
          0.9730270504951477,
          1.1210273504257202,
          0.9526878595352173,
          1.3042899370193481,
          1.538726806640625,
          1.2577112913131714,
          0.963566243648529,
          1.0346225500106812,
          1.0145634412765503,
          1.3077001571655273,
          0.9974442720413208,
          1.9005388021469116,
          1.0060720443725586,
          1.537609577178955,
          1.704670786857605,
          1.2812570333480835,
          1.3628551959991455,
          1.0070579051971436,
          1.2291165590286255,
          1.3016810417175293,
          0.9995973706245422,
          1.7042529582977295,
          1.0152407884597778,
          1.396429419517517,
          1.082518219947815,
          1.2714869976043701,
          1.1138947010040283,
          0.9404204487800598,
          1.8368332386016846,
          1.3177053928375244,
          1.1811583042144775,
          1.0078712701797485,
          1.7199361324310303,
          1.785668134689331,
          1.3241585493087769,
          1.5638103485107422,
          1.1435004472732544,
          1.424089789390564,
          1.1736531257629395,
          1.055579423904419,
          1.19515061378479,
          1.0636107921600342,
          0.9559435844421387,
          1.3677412271499634,
          1.5638103485107422,
          0.8814255595207214,
          1.3363077640533447,
          1.0050987005233765,
          1.035029411315918,
          1.2977826595306396,
          1.2142565250396729,
          1.0271601676940918,
          1.0195871591567993,
          1.2977826595306396,
          1.1517318487167358,
          1.125001072883606,
          1.5210400819778442,
          1.138400673866272,
          1.0258251428604126,
          1.320231318473816,
          1.5747495889663696,
          0.9619128704071045,
          1.5104249715805054,
          1.2067235708236694,
          1.22957444190979,
          1.025665283203125,
          1.0817373991012573,
          1.5638103485107422,
          1.09156334400177,
          1.0486693382263184,
          1.3016810417175293,
          1.884760856628418,
          1.7345004081726074,
          1.013630747795105,
          1.3907654285430908,
          1.4564944505691528,
          1.1070988178253174,
          1.0401357412338257,
          1.3615559339523315,
          1.1660826206207275,
          1.5162183046340942,
          1.4722843170166016,
          1.1631869077682495,
          1.0855382680892944,
          1.6724255084991455,
          1.3338321447372437,
          1.4194962978363037,
          1.1140305995941162,
          1.785668134689331,
          1.2602415084838867,
          1.3231608867645264,
          0.9919309020042419,
          1.0198745727539062,
          1.4788895845413208,
          1.1751182079315186,
          1.2992321252822876,
          1.5140557289123535,
          1.0497316122055054,
          0.9954589605331421,
          1.0251950025558472,
          1.8103797435760498,
          1.4368107318878174,
          1.2661025524139404,
          1.3739893436431885,
          1.3177053928375244,
          1.5041128396987915,
          1.1497774124145508,
          1.4883610010147095,
          1.283477544784546,
          1.02129328250885,
          1.5262974500656128,
          1.0195444822311401,
          1.4442578554153442,
          1.22536039352417,
          1.3152050971984863,
          1.185461401939392,
          1.2801750898361206,
          1.3500579595565796,
          1.4867147207260132,
          1.2867140769958496,
          1.377582311630249,
          1.2977826595306396,
          1.1193422079086304,
          1.679181694984436,
          0.9771131873130798,
          1.2992321252822876,
          1.2319860458374023,
          1.158220648765564,
          1.297900915145874,
          1.679181694984436,
          1.189874529838562,
          1.3147660493850708,
          0.9925872683525085,
          1.4685333967208862,
          1.5570603609085083,
          1.679181694984436,
          1.202650785446167,
          1.3282526731491089,
          1.4959267377853394,
          1.884760856628418,
          0.9948852062225342,
          1.3511099815368652,
          1.2992321252822876,
          1.8368332386016846,
          1.829175591468811,
          1.8368332386016846,
          0.9952806830406189,
          1.2751264572143555,
          1.56778883934021,
          1.1104564666748047,
          1.2319860458374023,
          1.283477544784546,
          1.3152050971984863,
          1.2992321252822876,
          1.422044277191162,
          1.5140128135681152,
          0.9780262112617493,
          1.8368332386016846,
          1.5747495889663696,
          1.5349383354187012,
          0.930068850517273,
          0.917374849319458,
          1.0271601676940918,
          1.5892250537872314,
          1.5262974500656128,
          1.2980263233184814,
          1.3166404962539673,
          1.0454052686691284,
          1.8368332386016846,
          1.1529868841171265,
          1.422044277191162,
          1.884760856628418,
          1.2342915534973145,
          1.5827295780181885,
          1.8724052906036377,
          1.2977826595306396,
          1.5638103485107422,
          1.3438916206359863,
          1.4599441289901733,
          1.2981741428375244,
          1.4407063722610474,
          1.2795257568359375,
          1.5638103485107422,
          1.838784098625183,
          1.500846028327942,
          1.3388090133666992,
          1.5665550231933594,
          1.3088473081588745,
          1.5140128135681152,
          1.5072274208068848,
          1.2977826595306396,
          1.2808208465576172,
          1.679181694984436,
          1.2859270572662354,
          1.5262974500656128,
          1.076175570487976,
          1.5638103485107422,
          1.5520212650299072,
          1.0206571817398071,
          1.320231318473816,
          1.679181694984436,
          1.3177053928375244,
          0.9848592877388,
          1.8209720849990845,
          1.2661025524139404,
          1.3134560585021973,
          1.2992321252822876,
          1.679181694984436,
          1.679181694984436,
          1.8368332386016846,
          1.2620121240615845,
          1.349487543106079,
          1.3177053928375244,
          1.8209720849990845,
          1.2342915534973145,
          1.320231318473816,
          1.7138192653656006,
          1.5638103485107422,
          1.0271601676940918,
          1.0847893953323364,
          1.8368332386016846,
          1.3511099815368652,
          1.884760856628418,
          1.3500579595565796,
          1.5638103485107422,
          1.5305453538894653,
          1.3276817798614502,
          1.5158672332763672,
          1.3500608205795288,
          1.3160070180892944,
          1.8368332386016846,
          1.2992321252822876,
          1.5638103485107422,
          1.3458709716796875,
          1.141125202178955,
          1.1855249404907227,
          1.679181694984436,
          1.679181694984436
         ]
        },
        {
         "name": "SDNE+XM",
         "type": "histogram",
         "x": [
          0.33519551157951355,
          0.41202130913734436,
          0.5183871388435364,
          0.4993938207626343,
          0.49961018562316895,
          0.4566570818424225,
          0.47614654898643494,
          0.5034281015396118,
          0.4736388623714447,
          0.4940030872821808,
          0.5222755074501038,
          0.4803049564361572,
          0.4972875714302063,
          0.4953620433807373,
          0.4763641059398651,
          0.4754384756088257,
          0.47777581214904785,
          0.5186160802841187,
          0.5017879605293274,
          0.509750247001648,
          0.5396749377250671,
          0.508855402469635,
          0.5316591858863831,
          0.5893833041191101,
          0.5080974102020264,
          0.4156714677810669,
          0.47492337226867676,
          0.4828247129917145,
          0.49161967635154724,
          0.5653471350669861,
          0.551555871963501,
          0.5082187652587891,
          0.4993302822113037,
          0.3976941704750061,
          0.4667380452156067,
          0.4972535967826843,
          0.5440958142280579,
          0.5056045651435852,
          0.4968425929546356,
          0.416609525680542,
          0.5258769392967224,
          0.46482789516448975,
          0.47876685857772827,
          0.5033121109008789,
          0.5451599359512329,
          0.5288630723953247,
          0.47172796726226807,
          0.5375725030899048,
          0.524836003780365,
          0.49285000562667847,
          0.49557843804359436,
          0.5049581527709961,
          0.44669458270072937,
          0.5274325013160706,
          0.4703000783920288,
          0.49181291460990906,
          0.4067957103252411,
          0.5007630586624146,
          0.49210870265960693,
          0.5041083097457886,
          0.48614048957824707,
          0.49945297837257385,
          0.5681671500205994,
          0.5172768831253052,
          0.5108932256698608,
          0.4810127317905426,
          0.5016403794288635,
          0.531311571598053,
          0.5360075235366821,
          0.4988177716732025,
          0.4889281988143921,
          0.6017787456512451,
          0.5673409104347229,
          0.47975954413414,
          0.4708692729473114,
          0.5244337916374207,
          0.5434905290603638,
          0.478190153837204,
          0.49492934346199036,
          0.5367810726165771,
          0.4189862906932831,
          0.5052653551101685,
          0.47405698895454407,
          0.4799950122833252,
          0.5566978454589844,
          0.5280848145484924,
          0.5002771615982056,
          0.4587964713573456,
          0.49944835901260376,
          0.5159710645675659,
          0.4847816228866577,
          0.5099074840545654,
          0.47784605622291565,
          0.5782518982887268,
          0.5134958028793335,
          0.52386873960495,
          0.49787232279777527,
          0.6397868990898132,
          0.4347879886627197,
          0.5240917801856995,
          0.49892786145210266,
          0.44964343309402466,
          0.6112263202667236,
          0.6282291412353516,
          0.47697821259498596,
          0.5913640260696411,
          0.5199848413467407,
          0.49041327834129333,
          0.49539318680763245,
          0.5110530257225037,
          0.478000670671463,
          0.5213192105293274,
          0.5664727091789246,
          0.5863870978355408,
          0.4811205267906189,
          0.5682990550994873,
          0.41996610164642334,
          0.544776201248169,
          0.5116100311279297,
          0.5001581907272339,
          0.48520442843437195,
          0.4852360188961029,
          0.49442729353904724,
          0.4938642382621765,
          0.575600266456604,
          0.4597315788269043,
          0.49073225259780884,
          0.5545390248298645,
          0.5319908857345581,
          0.4883439540863037,
          0.48127079010009766,
          0.4752010107040405,
          0.6285753846168518,
          0.49060794711112976,
          0.4868365228176117,
          0.5323612093925476,
          0.5331865549087524,
          0.5200953483581543,
          0.4910915195941925,
          0.4455980360507965,
          0.6096726059913635,
          0.4849160313606262,
          0.4901094436645508,
          0.42585012316703796,
          0.5079302787780762,
          0.5010923743247986,
          0.4806070327758789,
          0.4382304847240448,
          0.48978203535079956,
          0.4967954754829407,
          0.4685777425765991,
          0.48311126232147217,
          0.5383210778236389,
          0.5327230095863342,
          0.4800969362258911,
          0.4344298541545868,
          0.48858168721199036,
          0.6328255534172058,
          0.4801521599292755,
          0.5995165705680847,
          0.4617972671985626,
          0.6340478658676147,
          0.5156532526016235,
          0.4655376374721527,
          0.49835774302482605,
          0.4705752730369568,
          0.47229546308517456,
          0.4986662268638611,
          0.5388237237930298,
          0.6345824003219604,
          0.5001512765884399,
          0.4605294466018677,
          0.4802390933036804,
          0.4344354569911957,
          0.49290362000465393,
          0.490683913230896,
          0.528279721736908,
          0.5110793709754944,
          0.48860451579093933,
          0.513153612613678,
          0.48567673563957214,
          0.5055530667304993,
          0.5813181400299072,
          0.47301381826400757,
          0.5196436643600464,
          0.4826197326183319,
          0.5327655076980591,
          0.611457347869873,
          0.4683363437652588,
          0.42040422558784485,
          0.40413808822631836,
          0.4547823667526245,
          0.4915713369846344,
          0.5178872346878052,
          0.5839996933937073,
          0.6506187915802002,
          0.47532370686531067,
          0.4849132001399994,
          0.4288214147090912,
          0.4880160093307495,
          0.5565853118896484,
          0.4575813412666321,
          0.4640200138092041,
          0.47546589374542236,
          0.4939231872558594,
          0.4833962917327881,
          0.5121694207191467,
          0.4515407383441925,
          0.59717857837677,
          0.5724040269851685,
          0.47681254148483276,
          0.42198893427848816,
          0.3658673167228699,
          0.5936660766601562,
          0.5618681311607361,
          0.738166093826294,
          0.49846500158309937,
          0.4696000814437866,
          0.41094616055488586,
          0.5018651485443115,
          0.5110856294631958,
          0.5491635799407959,
          0.4842150807380676,
          0.4785368740558624,
          0.4829373359680176,
          0.47238415479660034,
          0.5556359887123108,
          0.4774547517299652,
          0.47242406010627747,
          0.5841031670570374,
          0.5545190572738647,
          0.4715102016925812,
          0.48515620827674866,
          0.42941850423812866,
          0.4983998239040375,
          0.4519903063774109,
          0.4455038905143738,
          0.4840713143348694,
          0.5782034993171692,
          0.4717690050601959,
          0.4929938316345215,
          0.5960431694984436,
          0.47204264998435974,
          0.45705652236938477,
          0.7091518640518188,
          0.7331967353820801,
          0.4694461226463318,
          0.7004550695419312,
          0.46864789724349976,
          0.47401079535484314,
          0.4919626712799072,
          0.4761996567249298,
          1.1880931854248047,
          0.6746323704719543,
          0.561764121055603,
          0.5570111870765686,
          0.5326791405677795,
          0.5525779724121094,
          0.538325846195221,
          0.4715094268321991,
          0.4896667003631592,
          0.5325844287872314,
          0.49374067783355713,
          0.5503810048103333,
          0.4961143136024475,
          0.6234579682350159,
          0.5186654329299927,
          0.5471610426902771,
          0.51356440782547,
          0.6495320796966553,
          0.6253180503845215,
          0.51912921667099,
          0.46161743998527527,
          0.4946012794971466,
          0.5323494076728821,
          0.5456905961036682,
          0.5134177803993225,
          0.5323021411895752,
          0.46512168645858765,
          0.5372390151023865,
          0.5172924399375916,
          0.4777108132839203,
          0.5236947536468506,
          0.5397842526435852,
          0.8600001335144043,
          0.5295308828353882,
          0.5243678689002991,
          0.5401790738105774,
          0.4945468604564667,
          0.4881977140903473,
          0.4191698431968689,
          0.8536239266395569,
          0.4125121831893921,
          0.46819913387298584,
          0.47359445691108704,
          0.4637392461299896,
          0.5217388868331909,
          0.42609959840774536,
          0.5285987257957458,
          0.5097246766090393,
          0.5074484944343567,
          0.4831618666648865,
          0.5536046028137207,
          0.5695750117301941,
          0.625091016292572,
          0.47275078296661377,
          0.6631062030792236,
          0.5233739018440247,
          0.4620848298072815,
          0.4719288945198059,
          0.5057240724563599,
          0.6355521082878113,
          0.6091405749320984,
          0.47010669112205505,
          0.5461480021476746,
          0.47603869438171387,
          0.42725276947021484,
          0.4626694321632385,
          0.5529789328575134,
          0.4843346178531647,
          0.8394265174865723,
          0.44017186760902405,
          0.7374608516693115,
          0.4850439429283142,
          0.4710542559623718,
          0.4980434477329254,
          0.47686266899108887,
          0.44584786891937256,
          0.6709180474281311,
          0.8066577911376953,
          0.48039519786834717,
          0.6258445382118225,
          0.4858662784099579,
          0.7175276875495911,
          0.4923539161682129,
          0.4534267485141754,
          0.6886546015739441,
          0.7835755348205566,
          0.47164320945739746,
          0.45994001626968384,
          0.5958321690559387,
          0.6602866649627686,
          0.6706538796424866,
          0.4882940351963043,
          0.37980759143829346,
          0.49282726645469666,
          0.5596107244491577,
          0.4398519992828369,
          0.3412420451641083,
          0.809309720993042,
          0.7847994565963745,
          0.619473397731781,
          0.6787444949150085,
          0.5193949937820435,
          0.6534789800643921,
          1.2190935611724854,
          0.7479270696640015,
          0.45153936743736267,
          0.5329711437225342,
          0.45099079608917236,
          0.42629751563072205,
          0.6484085321426392,
          0.4138505756855011,
          0.5515557527542114,
          0.611137330532074,
          0.414871484041214,
          0.32654863595962524,
          0.4621203541755676,
          0.6679888367652893,
          0.6072779297828674,
          0.4282132387161255,
          0.5496659874916077,
          0.5244858264923096,
          0.6230001449584961,
          0.4472149610519409,
          0.559242844581604,
          0.44216153025627136,
          0.5052940845489502,
          0.6110369563102722,
          0.5563254356384277,
          0.542629599571228,
          0.58566814661026,
          0.8128778338432312,
          0.5605769157409668,
          0.5192901492118835,
          0.5063446164131165,
          0.6887759566307068,
          0.5855970978736877,
          0.4602341055870056,
          0.6886014342308044,
          0.726449191570282,
          0.4498826563358307,
          0.473054975271225,
          0.4694083631038666,
          0.5971349477767944,
          0.5521557331085205,
          0.4593365788459778,
          0.4588008522987366,
          0.4900123178958893,
          0.5876621007919312,
          0.5902382135391235,
          0.5459769368171692,
          0.5492708683013916,
          0.6231573820114136,
          0.5189750790596008,
          0.5293132066726685,
          0.5165954828262329,
          0.5932340621948242,
          0.5094445943832397,
          0.4898010790348053,
          0.6950035691261292,
          0.6684983372688293,
          0.46975037455558777,
          0.5568979978561401,
          0.6486468315124512,
          0.5727046728134155,
          0.47855061292648315,
          0.4162121117115021,
          0.42007288336753845,
          0.574573278427124,
          0.5355502367019653,
          0.4763292968273163,
          0.5266138315200806,
          0.476800799369812,
          0.5526871085166931,
          0.5392301082611084,
          0.6911206245422363,
          0.5259470343589783,
          0.48488256335258484,
          0.7883687019348145,
          0.5373415946960449,
          0.5838592052459717,
          0.4704405963420868,
          0.6020329594612122,
          0.3510466516017914,
          0.8208335638046265,
          0.5281424522399902,
          0.5002214908599854,
          0.5641571283340454,
          0.9694074988365173,
          0.8311697840690613,
          0.3638593256473541,
          0.5690152645111084,
          0.4675373435020447,
          0.48176854848861694,
          0.7935893535614014,
          0.5600038766860962,
          0.4999132454395294,
          0.5018708109855652,
          0.7741039991378784,
          0.7162017226219177,
          0.8507409691810608,
          0.5824964642524719,
          0.45152735710144043,
          0.8785484433174133,
          0.5188626050949097,
          0.47774893045425415,
          0.5187627673149109,
          0.6990005970001221,
          0.5158484578132629,
          0.5108866095542908,
          0.5598991513252258,
          0.8854308128356934,
          0.5517323017120361,
          0.7400488257408142,
          0.6303643584251404,
          0.6471128463745117,
          0.5042664408683777,
          0.49739915132522583,
          0.622996985912323,
          0.47678712010383606,
          0.5282215476036072,
          0.6332594752311707,
          0.5859003067016602,
          0.4813007712364197,
          0.5985605716705322,
          0.7848725914955139,
          0.5445628762245178,
          0.6845114231109619,
          0.7351858615875244,
          0.4725469648838043,
          0.6164363622665405,
          0.7219313383102417,
          0.42046162486076355,
          0.5008217692375183,
          0.44982361793518066,
          0.4739522933959961,
          0.42950311303138733,
          0.6570587754249573,
          0.5265910029411316,
          0.8265462517738342,
          1.1709825992584229,
          0.6043715476989746,
          0.7509666085243225,
          0.5669798254966736,
          0.5772731900215149,
          0.5654791593551636,
          0.572285532951355,
          0.8035075664520264,
          0.6110326051712036,
          0.7843934297561646,
          0.578999936580658,
          0.5814619064331055,
          0.6748227477073669,
          0.484715074300766,
          0.6501563191413879,
          0.6198635101318359,
          0.7306349873542786,
          0.46099287271499634,
          0.48289725184440613,
          0.655316174030304,
          0.49944135546684265,
          0.7122262716293335,
          0.8586344718933105,
          0.7584798336029053,
          0.5815695524215698,
          0.598922610282898,
          0.4453255236148834,
          0.4385664761066437,
          0.44052112102508545,
          0.5404382348060608,
          0.7320112586021423,
          0.55560302734375,
          0.6863342523574829,
          0.781684398651123,
          0.48588812351226807,
          0.5505755543708801,
          0.43309304118156433,
          0.32240742444992065,
          0.5335943698883057,
          0.7055448889732361,
          0.7348340153694153,
          0.5383485555648804,
          0.7788960933685303,
          0.6418766379356384,
          0.7392159104347229,
          0.4334624409675598,
          0.7045003771781921,
          0.6678842902183533,
          0.6881327629089355,
          0.6043453812599182,
          0.4784395098686218,
          0.7462069392204285,
          0.5672592520713806,
          0.5668530464172363,
          0.5803775191307068,
          0.8394265174865723,
          0.8569474220275879,
          0.5058300495147705,
          0.47394469380378723,
          1.042738914489746,
          0.5002866387367249,
          0.6943782567977905,
          0.5509149432182312,
          0.5354204773902893,
          0.6809244155883789,
          0.6364474892616272,
          0.7576001882553101,
          0.5748820900917053,
          0.5724116563796997,
          0.5061135292053223,
          0.43932533264160156,
          0.6986594200134277,
          0.5150794982910156,
          0.6098296642303467,
          0.5155031085014343,
          0.5131696462631226,
          0.781328022480011,
          0.7351420521736145,
          0.5322422385215759,
          0.6007976531982422,
          0.5817824602127075,
          0.626459538936615,
          0.5358940958976746,
          0.596943736076355,
          0.44183751940727234,
          0.7437986731529236,
          0.43101638555526733,
          0.6799246668815613,
          0.5473373532295227,
          0.8845468163490295,
          0.45576420426368713,
          0.5261494517326355,
          0.8194274306297302,
          0.63437420129776,
          0.8842982649803162,
          0.5103672742843628,
          0.6215108633041382,
          0.6638922691345215,
          0.5207002758979797,
          0.6344059705734253,
          1.1880931854248047,
          1.2014163732528687,
          0.8865199685096741,
          0.6117312908172607,
          0.5556893944740295,
          0.5622508525848389,
          0.8394265174865723,
          0.8686001300811768,
          0.5042635202407837,
          0.4647231101989746,
          0.44747087359428406,
          0.5551352500915527,
          0.4164253771305084,
          0.5786715149879456,
          0.8403642177581787,
          0.5366324782371521,
          0.6786038875579834,
          0.4599074721336365,
          0.6304066777229309,
          0.6410464644432068,
          0.7191064357757568,
          0.7527072429656982,
          1.154998779296875,
          0.9837976098060608,
          0.8674056529998779,
          0.6273772716522217,
          0.5711737275123596,
          0.5034750699996948,
          0.6542617678642273,
          0.9043906331062317,
          0.5849948525428772,
          0.5734103918075562,
          0.6918941736221313,
          0.6690542697906494,
          0.6457852125167847,
          0.5392722487449646,
          0.48088183999061584,
          0.5417960286140442,
          0.5320770144462585,
          0.8942763209342957,
          0.9266988039016724,
          0.9005808234214783,
          0.2955957055091858,
          0.3824957609176636,
          0.5172889828681946,
          0.3312492370605469,
          0.4017719030380249,
          0.5053583383560181,
          0.8202895522117615,
          0.5691588521003723,
          0.6086180210113525,
          0.721567690372467,
          0.3912597894668579,
          0.7943917512893677,
          0.8809251189231873,
          0.48839130997657776,
          0.7909478545188904,
          0.6747034788131714,
          0.802245020866394,
          0.45325085520744324,
          0.6935179233551025,
          1.1709825992584229,
          0.922079861164093,
          0.610866367816925,
          0.5226948261260986,
          0.6628344058990479,
          0.4991167187690735,
          0.8522854447364807,
          0.5487094521522522,
          0.5858534574508667,
          1.220331072807312,
          0.6381661295890808,
          0.7766638994216919,
          0.6059305667877197,
          0.5341044664382935,
          0.8794420957565308,
          1.2190935611724854,
          0.5111562609672546,
          0.5022748708724976,
          0.480664998292923,
          0.6882848143577576,
          0.4261375069618225,
          0.3402160108089447,
          0.5921640396118164,
          0.6074354648590088,
          0.704310953617096,
          0.36413809657096863,
          0.5972286462783813,
          0.6963352560997009,
          0.9368818402290344,
          0.8267229795455933,
          0.6137049794197083,
          0.7387248873710632,
          0.7173359990119934,
          0.9031370282173157,
          0.5110408663749695,
          0.5327692031860352,
          0.8915624022483826,
          0.5198046565055847,
          0.6998740434646606,
          0.49431538581848145,
          0.9607065916061401,
          0.3615418076515198,
          0.7374863624572754,
          0.3175917863845825,
          0.6719697713851929,
          0.579822838306427,
          0.6299604177474976,
          0.611732006072998,
          0.6150980591773987,
          0.633524477481842,
          0.5759136080741882,
          0.5913341641426086,
          0.6645264029502869,
          0.8491397500038147,
          0.31273216009140015,
          0.8572988510131836,
          0.6809244155883789,
          0.5119485855102539,
          0.9416528344154358,
          0.6290305852890015,
          0.8006771802902222,
          0.4858766794204712,
          0.6933038234710693,
          0.6879605054855347,
          0.3973941504955292,
          0.4238261282444,
          0.32161590456962585,
          0.8263934850692749,
          1.0152530670166016,
          0.6156728863716125,
          0.8972836136817932,
          0.6427817344665527,
          0.5133662819862366,
          0.6809244155883789,
          0.6206581592559814,
          0.5131356120109558,
          0.5768935680389404,
          0.6131010055541992,
          0.8196312189102173,
          0.5469410419464111,
          0.9838330149650574,
          0.7552703022956848,
          0.7508468627929688,
          0.7100614309310913,
          0.7162350416183472,
          0.6597478985786438,
          0.6738370060920715,
          0.8069620728492737,
          0.41808342933654785,
          0.8394265174865723,
          1.0114974975585938,
          0.7115325927734375,
          0.6796857118606567,
          0.6640625596046448,
          0.7859280705451965,
          0.5481680035591125,
          0.7533887624740601,
          0.7159273624420166,
          0.8880288600921631,
          0.8285596370697021,
          0.9551941752433777,
          0.6807776093482971,
          0.6116458177566528,
          0.39776381850242615,
          0.43872973322868347,
          0.40236908197402954,
          0.4363929033279419,
          0.6215108633041382,
          0.5381931066513062,
          0.8375369906425476,
          1.0861215591430664,
          0.5258396863937378,
          0.9378986358642578,
          0.9471953511238098,
          0.6643837094306946,
          0.71922367811203,
          0.9295238256454468,
          0.9209825396537781,
          0.5911446213722229,
          0.5222421288490295,
          0.8046733140945435,
          0.6704156398773193,
          0.6998854875564575,
          1.011152982711792,
          0.7277048826217651,
          0.6933894753456116,
          0.7744297981262207,
          0.6029213666915894,
          0.7787384390830994,
          0.679210364818573,
          0.9366325736045837,
          0.6753089427947998,
          0.65947425365448,
          0.9378986358642578,
          0.7559328675270081,
          0.6437157392501831,
          0.7959676384925842,
          0.5042213797569275,
          0.956569492816925,
          0.4999309182167053,
          0.8362643718719482,
          0.6970285177230835,
          0.8325044512748718,
          0.6015148162841797,
          0.6576968431472778,
          0.5538753271102905,
          0.6672003865242004,
          1.154998779296875,
          0.8394265174865723,
          0.8270942568778992,
          0.9247903227806091,
          0.9077520370483398,
          0.62886643409729,
          0.653386652469635,
          0.7202927470207214,
          0.9415856599807739,
          0.6193172931671143,
          0.7806183099746704,
          0.5653435587882996,
          0.5779587626457214,
          0.44840556383132935,
          0.7134799957275391,
          0.7277639508247375,
          0.8985554575920105,
          0.34440532326698303,
          0.45261475443840027,
          0.5585358142852783,
          0.6736138463020325,
          0.8482038974761963,
          0.6770387887954712,
          0.6571406722068787,
          0.9071459174156189,
          0.5241281390190125,
          0.8506956696510315,
          0.5403099060058594,
          0.860596776008606,
          0.717758297920227,
          0.5138741731643677,
          0.671741783618927,
          0.6379399299621582,
          1.1880931854248047,
          0.8339425325393677,
          0.6317333579063416,
          0.9195486307144165,
          0.9872335195541382,
          0.9580512642860413,
          0.6108656525611877,
          0.7350727915763855,
          0.8519861698150635,
          0.7177596092224121,
          0.7675272822380066,
          1.0379388332366943,
          0.7533506155014038,
          0.7109515070915222,
          0.6933038234710693,
          0.8981033563613892,
          1.0131032466888428,
          0.6639493107795715,
          0.510978102684021,
          0.7087169885635376,
          0.7032237648963928,
          0.7584047317504883,
          1.01857328414917,
          0.4252171218395233,
          0.7966011762619019,
          0.8705308437347412,
          0.7806351780891418,
          0.8513593077659607,
          0.5721964836120605,
          0.8533512353897095,
          0.452956885099411,
          0.6013736724853516,
          0.8497370481491089,
          0.7373108267784119,
          0.44643449783325195,
          0.6654394865036011,
          0.6650770902633667,
          0.6258243322372437,
          1.0114974975585938,
          0.828367292881012,
          1.1709825992584229,
          0.8674131035804749,
          0.8653788566589355,
          0.8135073781013489,
          0.3781163692474365,
          0.40497756004333496,
          0.6004406213760376,
          0.7628248929977417,
          0.41686302423477173,
          0.7303674221038818,
          0.8394265174865723,
          0.8684332370758057,
          0.7509472966194153,
          1.0114974975585938,
          0.47539761662483215,
          1.1880931854248047,
          0.7601187825202942,
          0.9073408842086792,
          1.1643555164337158,
          0.8403642177581787,
          0.6082925200462341,
          0.9618276357650757,
          1.037641167640686,
          0.6343026757240295,
          0.66164231300354,
          0.8242340087890625,
          0.8992964625358582,
          0.7748851776123047,
          0.6667726039886475,
          0.7675554752349854,
          0.8663870692253113,
          1.0431256294250488,
          0.8408806324005127,
          0.7538830041885376,
          0.6345376372337341,
          0.9492583870887756,
          0.8279931545257568,
          0.8758127093315125,
          0.9577168226242065,
          1.0607562065124512,
          1.0861215591430664,
          0.7345990538597107,
          0.8565470576286316,
          0.8081111907958984,
          0.975986897945404,
          0.6087026000022888,
          0.6879605054855347,
          1.1880931854248047,
          0.7729226350784302,
          0.6127879619598389,
          0.8320177793502808,
          1.0114974975585938,
          0.8047116994857788,
          0.8317582011222839,
          0.7266095280647278,
          0.8569474220275879,
          1.0799884796142578,
          1.1880931854248047,
          0.5714883208274841,
          0.8692506551742554,
          0.9420838952064514,
          0.7776509523391724,
          0.8598771095275879,
          0.9557997584342957,
          0.6764259934425354,
          0.6919183135032654,
          0.665380597114563,
          0.428058922290802,
          0.8301738500595093,
          0.8301738500595093,
          0.9675893783569336,
          0.8394265174865723,
          0.6356617212295532,
          0.58319491147995,
          0.77073734998703,
          0.9007309079170227,
          0.6293694972991943,
          0.7250984311103821,
          0.6162137389183044,
          0.8436356782913208,
          0.9952731132507324,
          0.8135077953338623,
          0.505008339881897,
          0.6692104339599609,
          0.656235933303833,
          0.8458415269851685,
          0.6451629400253296,
          1.2292989492416382,
          0.6507434844970703,
          0.9945505261421204,
          1.102608323097229,
          0.683465838432312,
          0.7413851618766785,
          0.6513811349868774,
          0.7950122356414795,
          0.8419481515884399,
          0.6465555429458618,
          1.102338194847107,
          0.6566740274429321,
          0.9032328724861145,
          0.5435128808021545,
          0.6447693705558777,
          0.7204849720001221,
          0.6082789897918701,
          1.1880931854248047,
          0.8523129820823669,
          0.7639920711517334,
          0.6519073247909546,
          1.1124823093414307,
          1.154998779296875,
          0.856486976146698,
          1.0114974975585938,
          0.7396343350410461,
          0.9211240410804749,
          0.7591376304626465,
          0.6827656626701355,
          0.7730425000190735,
          0.6879605054855347,
          0.6183196306228638,
          0.8846769332885742,
          1.0114974975585938,
          0.512359082698822,
          0.8643451929092407,
          0.6501138806343079,
          0.6694735288619995,
          0.8394265174865723,
          0.7854005694389343,
          0.6643837094306946,
          0.6594852209091187,
          0.8394265174865723,
          0.7449585795402527,
          0.7276687026023865,
          0.9838330149650574,
          0.7363357543945312,
          0.663520097732544,
          0.8539468050003052,
          1.01857328414917,
          0.6221806406974792,
          0.9769670367240906,
          0.7805280685424805,
          0.7953084707260132,
          0.6634167432785034,
          0.6156936883926392,
          1.0114974975585938,
          0.706040620803833,
          0.6782961487770081,
          0.8419481515884399,
          1.2190935611724854,
          1.1219027042388916,
          0.6556326150894165,
          0.8995693922042847,
          0.9420838952064514,
          0.7160892486572266,
          0.672776460647583,
          0.8806761503219604,
          0.7542409300804138,
          0.9807142615318298,
          0.9522970914840698,
          0.7523679733276367,
          0.7021435499191284,
          1.0817515850067139,
          0.8627439737319946,
          0.918152928352356,
          0.7205727696418762,
          1.154998779296875,
          0.8151443004608154,
          0.8558416366577148,
          0.641596794128418,
          0.6596711874008179,
          0.956569492816925,
          0.7600852847099304,
          0.8403642177581787,
          0.979315459728241,
          0.6789832711219788,
          0.6438788175582886,
          0.6631125211715698,
          1.1709825992584229,
          0.9293521642684937,
          0.8189354538917542,
          0.8887183666229248,
          0.8523129820823669,
          0.9728841781616211,
          0.7436944246292114,
          0.9626957774162292,
          0.8301738500595093,
          0.660588800907135,
          0.9872335195541382,
          0.6594576835632324,
          0.9341691136360168,
          0.7925827503204346,
          0.8506956696510315,
          0.766775369644165,
          0.8280377984046936,
          0.8732390999794006,
          0.9616308212280273,
          0.8322672843933105,
          0.8910422921180725,
          0.8394265174865723,
          0.7240084409713745,
          1.0861215591430664,
          0.6320124268531799,
          0.8403642177581787,
          0.7968682646751404,
          0.7491556406021118,
          0.8395030498504639,
          1.0861215591430664,
          0.7696298956871033,
          0.8504117131233215,
          0.6420213580131531,
          0.9498709440231323,
          1.007131576538086,
          1.0861215591430664,
          0.7778937220573425,
          0.8591351509094238,
          0.9675893783569336,
          1.2190935611724854,
          0.6435075998306274,
          0.8739196062088013,
          0.8403642177581787,
          1.1880931854248047,
          1.1831400394439697,
          1.1880931854248047,
          0.6437634825706482,
          0.8247721791267395,
          1.0140708684921265,
          0.7182610630989075,
          0.7968682646751404,
          0.8301738500595093,
          0.8506956696510315,
          0.8403642177581787,
          0.9198010563850403,
          0.9792877435684204,
          0.6326029896736145,
          1.1880931854248047,
          1.01857328414917,
          0.9928226470947266,
          0.6015834212303162,
          0.5933727622032166,
          0.6643837094306946,
          1.0279362201690674,
          0.9872335195541382,
          0.8395841717720032,
          0.851624071598053,
          0.6761849522590637,
          1.1880931854248047,
          0.7457703948020935,
          0.9198010563850403,
          1.2190935611724854,
          0.7983595132827759,
          1.0237348079681396,
          1.211101770401001,
          0.8394265174865723,
          1.0114974975585938,
          0.8692506551742554,
          0.9443151354789734,
          0.8396798372268677,
          0.9318719506263733,
          0.8276177048683167,
          1.0114974975585938,
          1.1893550157546997,
          0.9707711935043335,
          0.7071489691734314,
          1.0132728815078735,
          0.8465834259986877,
          0.9792877435684204,
          0.9748988747596741,
          0.8394265174865723,
          0.82845538854599,
          1.0861215591430664,
          0.8317582011222839,
          0.9872335195541382,
          0.6960875988006592,
          1.0114974975585938,
          1.0038721561431885,
          0.6601773500442505,
          0.8539468050003052,
          1.0861215591430664,
          0.8523129820823669,
          0.6370227932929993,
          1.1778337955474854,
          0.8189354538917542,
          0.8495644330978394,
          0.8403642177581787,
          1.0861215591430664,
          1.0861215591430664,
          1.1880931854248047,
          0.8162896633148193,
          0.872870147228241,
          0.8523129820823669,
          1.1778337955474854,
          0.7983595132827759,
          0.8539468050003052,
          1.1085257530212402,
          1.0114974975585938,
          0.6643837094306946,
          0.7016592025756836,
          1.1880931854248047,
          0.8739196062088013,
          1.2190935611724854,
          0.8732390999794006,
          1.0114974975585938,
          0.9899812936782837,
          0.858765721321106,
          0.9804872274398804,
          0.8732410073280334,
          0.8512143492698669,
          1.1880931854248047,
          0.8403642177581787,
          1.0114974975585938,
          0.8705308437347412,
          0.7380979657173157,
          0.7668164968490601,
          1.0861215591430664,
          1.0861215591430664
         ]
        }
       ],
       "layout": {
        "font": {
         "size": 20
        },
        "paper_bgcolor": "white",
        "plot_bgcolor": "white",
        "template": {
         "data": {
          "bar": [
           {
            "error_x": {
             "color": "#2a3f5f"
            },
            "error_y": {
             "color": "#2a3f5f"
            },
            "marker": {
             "line": {
              "color": "#E5ECF6",
              "width": 0.5
             },
             "pattern": {
              "fillmode": "overlay",
              "size": 10,
              "solidity": 0.2
             }
            },
            "type": "bar"
           }
          ],
          "barpolar": [
           {
            "marker": {
             "line": {
              "color": "#E5ECF6",
              "width": 0.5
             },
             "pattern": {
              "fillmode": "overlay",
              "size": 10,
              "solidity": 0.2
             }
            },
            "type": "barpolar"
           }
          ],
          "carpet": [
           {
            "aaxis": {
             "endlinecolor": "#2a3f5f",
             "gridcolor": "white",
             "linecolor": "white",
             "minorgridcolor": "white",
             "startlinecolor": "#2a3f5f"
            },
            "baxis": {
             "endlinecolor": "#2a3f5f",
             "gridcolor": "white",
             "linecolor": "white",
             "minorgridcolor": "white",
             "startlinecolor": "#2a3f5f"
            },
            "type": "carpet"
           }
          ],
          "choropleth": [
           {
            "colorbar": {
             "outlinewidth": 0,
             "ticks": ""
            },
            "type": "choropleth"
           }
          ],
          "contour": [
           {
            "colorbar": {
             "outlinewidth": 0,
             "ticks": ""
            },
            "colorscale": [
             [
              0,
              "#0d0887"
             ],
             [
              0.1111111111111111,
              "#46039f"
             ],
             [
              0.2222222222222222,
              "#7201a8"
             ],
             [
              0.3333333333333333,
              "#9c179e"
             ],
             [
              0.4444444444444444,
              "#bd3786"
             ],
             [
              0.5555555555555556,
              "#d8576b"
             ],
             [
              0.6666666666666666,
              "#ed7953"
             ],
             [
              0.7777777777777778,
              "#fb9f3a"
             ],
             [
              0.8888888888888888,
              "#fdca26"
             ],
             [
              1,
              "#f0f921"
             ]
            ],
            "type": "contour"
           }
          ],
          "contourcarpet": [
           {
            "colorbar": {
             "outlinewidth": 0,
             "ticks": ""
            },
            "type": "contourcarpet"
           }
          ],
          "heatmap": [
           {
            "colorbar": {
             "outlinewidth": 0,
             "ticks": ""
            },
            "colorscale": [
             [
              0,
              "#0d0887"
             ],
             [
              0.1111111111111111,
              "#46039f"
             ],
             [
              0.2222222222222222,
              "#7201a8"
             ],
             [
              0.3333333333333333,
              "#9c179e"
             ],
             [
              0.4444444444444444,
              "#bd3786"
             ],
             [
              0.5555555555555556,
              "#d8576b"
             ],
             [
              0.6666666666666666,
              "#ed7953"
             ],
             [
              0.7777777777777778,
              "#fb9f3a"
             ],
             [
              0.8888888888888888,
              "#fdca26"
             ],
             [
              1,
              "#f0f921"
             ]
            ],
            "type": "heatmap"
           }
          ],
          "heatmapgl": [
           {
            "colorbar": {
             "outlinewidth": 0,
             "ticks": ""
            },
            "colorscale": [
             [
              0,
              "#0d0887"
             ],
             [
              0.1111111111111111,
              "#46039f"
             ],
             [
              0.2222222222222222,
              "#7201a8"
             ],
             [
              0.3333333333333333,
              "#9c179e"
             ],
             [
              0.4444444444444444,
              "#bd3786"
             ],
             [
              0.5555555555555556,
              "#d8576b"
             ],
             [
              0.6666666666666666,
              "#ed7953"
             ],
             [
              0.7777777777777778,
              "#fb9f3a"
             ],
             [
              0.8888888888888888,
              "#fdca26"
             ],
             [
              1,
              "#f0f921"
             ]
            ],
            "type": "heatmapgl"
           }
          ],
          "histogram": [
           {
            "marker": {
             "pattern": {
              "fillmode": "overlay",
              "size": 10,
              "solidity": 0.2
             }
            },
            "type": "histogram"
           }
          ],
          "histogram2d": [
           {
            "colorbar": {
             "outlinewidth": 0,
             "ticks": ""
            },
            "colorscale": [
             [
              0,
              "#0d0887"
             ],
             [
              0.1111111111111111,
              "#46039f"
             ],
             [
              0.2222222222222222,
              "#7201a8"
             ],
             [
              0.3333333333333333,
              "#9c179e"
             ],
             [
              0.4444444444444444,
              "#bd3786"
             ],
             [
              0.5555555555555556,
              "#d8576b"
             ],
             [
              0.6666666666666666,
              "#ed7953"
             ],
             [
              0.7777777777777778,
              "#fb9f3a"
             ],
             [
              0.8888888888888888,
              "#fdca26"
             ],
             [
              1,
              "#f0f921"
             ]
            ],
            "type": "histogram2d"
           }
          ],
          "histogram2dcontour": [
           {
            "colorbar": {
             "outlinewidth": 0,
             "ticks": ""
            },
            "colorscale": [
             [
              0,
              "#0d0887"
             ],
             [
              0.1111111111111111,
              "#46039f"
             ],
             [
              0.2222222222222222,
              "#7201a8"
             ],
             [
              0.3333333333333333,
              "#9c179e"
             ],
             [
              0.4444444444444444,
              "#bd3786"
             ],
             [
              0.5555555555555556,
              "#d8576b"
             ],
             [
              0.6666666666666666,
              "#ed7953"
             ],
             [
              0.7777777777777778,
              "#fb9f3a"
             ],
             [
              0.8888888888888888,
              "#fdca26"
             ],
             [
              1,
              "#f0f921"
             ]
            ],
            "type": "histogram2dcontour"
           }
          ],
          "mesh3d": [
           {
            "colorbar": {
             "outlinewidth": 0,
             "ticks": ""
            },
            "type": "mesh3d"
           }
          ],
          "parcoords": [
           {
            "line": {
             "colorbar": {
              "outlinewidth": 0,
              "ticks": ""
             }
            },
            "type": "parcoords"
           }
          ],
          "pie": [
           {
            "automargin": true,
            "type": "pie"
           }
          ],
          "scatter": [
           {
            "fillpattern": {
             "fillmode": "overlay",
             "size": 10,
             "solidity": 0.2
            },
            "type": "scatter"
           }
          ],
          "scatter3d": [
           {
            "line": {
             "colorbar": {
              "outlinewidth": 0,
              "ticks": ""
             }
            },
            "marker": {
             "colorbar": {
              "outlinewidth": 0,
              "ticks": ""
             }
            },
            "type": "scatter3d"
           }
          ],
          "scattercarpet": [
           {
            "marker": {
             "colorbar": {
              "outlinewidth": 0,
              "ticks": ""
             }
            },
            "type": "scattercarpet"
           }
          ],
          "scattergeo": [
           {
            "marker": {
             "colorbar": {
              "outlinewidth": 0,
              "ticks": ""
             }
            },
            "type": "scattergeo"
           }
          ],
          "scattergl": [
           {
            "marker": {
             "colorbar": {
              "outlinewidth": 0,
              "ticks": ""
             }
            },
            "type": "scattergl"
           }
          ],
          "scattermapbox": [
           {
            "marker": {
             "colorbar": {
              "outlinewidth": 0,
              "ticks": ""
             }
            },
            "type": "scattermapbox"
           }
          ],
          "scatterpolar": [
           {
            "marker": {
             "colorbar": {
              "outlinewidth": 0,
              "ticks": ""
             }
            },
            "type": "scatterpolar"
           }
          ],
          "scatterpolargl": [
           {
            "marker": {
             "colorbar": {
              "outlinewidth": 0,
              "ticks": ""
             }
            },
            "type": "scatterpolargl"
           }
          ],
          "scatterternary": [
           {
            "marker": {
             "colorbar": {
              "outlinewidth": 0,
              "ticks": ""
             }
            },
            "type": "scatterternary"
           }
          ],
          "surface": [
           {
            "colorbar": {
             "outlinewidth": 0,
             "ticks": ""
            },
            "colorscale": [
             [
              0,
              "#0d0887"
             ],
             [
              0.1111111111111111,
              "#46039f"
             ],
             [
              0.2222222222222222,
              "#7201a8"
             ],
             [
              0.3333333333333333,
              "#9c179e"
             ],
             [
              0.4444444444444444,
              "#bd3786"
             ],
             [
              0.5555555555555556,
              "#d8576b"
             ],
             [
              0.6666666666666666,
              "#ed7953"
             ],
             [
              0.7777777777777778,
              "#fb9f3a"
             ],
             [
              0.8888888888888888,
              "#fdca26"
             ],
             [
              1,
              "#f0f921"
             ]
            ],
            "type": "surface"
           }
          ],
          "table": [
           {
            "cells": {
             "fill": {
              "color": "#EBF0F8"
             },
             "line": {
              "color": "white"
             }
            },
            "header": {
             "fill": {
              "color": "#C8D4E3"
             },
             "line": {
              "color": "white"
             }
            },
            "type": "table"
           }
          ]
         },
         "layout": {
          "annotationdefaults": {
           "arrowcolor": "#2a3f5f",
           "arrowhead": 0,
           "arrowwidth": 1
          },
          "autotypenumbers": "strict",
          "coloraxis": {
           "colorbar": {
            "outlinewidth": 0,
            "ticks": ""
           }
          },
          "colorscale": {
           "diverging": [
            [
             0,
             "#8e0152"
            ],
            [
             0.1,
             "#c51b7d"
            ],
            [
             0.2,
             "#de77ae"
            ],
            [
             0.3,
             "#f1b6da"
            ],
            [
             0.4,
             "#fde0ef"
            ],
            [
             0.5,
             "#f7f7f7"
            ],
            [
             0.6,
             "#e6f5d0"
            ],
            [
             0.7,
             "#b8e186"
            ],
            [
             0.8,
             "#7fbc41"
            ],
            [
             0.9,
             "#4d9221"
            ],
            [
             1,
             "#276419"
            ]
           ],
           "sequential": [
            [
             0,
             "#0d0887"
            ],
            [
             0.1111111111111111,
             "#46039f"
            ],
            [
             0.2222222222222222,
             "#7201a8"
            ],
            [
             0.3333333333333333,
             "#9c179e"
            ],
            [
             0.4444444444444444,
             "#bd3786"
            ],
            [
             0.5555555555555556,
             "#d8576b"
            ],
            [
             0.6666666666666666,
             "#ed7953"
            ],
            [
             0.7777777777777778,
             "#fb9f3a"
            ],
            [
             0.8888888888888888,
             "#fdca26"
            ],
            [
             1,
             "#f0f921"
            ]
           ],
           "sequentialminus": [
            [
             0,
             "#0d0887"
            ],
            [
             0.1111111111111111,
             "#46039f"
            ],
            [
             0.2222222222222222,
             "#7201a8"
            ],
            [
             0.3333333333333333,
             "#9c179e"
            ],
            [
             0.4444444444444444,
             "#bd3786"
            ],
            [
             0.5555555555555556,
             "#d8576b"
            ],
            [
             0.6666666666666666,
             "#ed7953"
            ],
            [
             0.7777777777777778,
             "#fb9f3a"
            ],
            [
             0.8888888888888888,
             "#fdca26"
            ],
            [
             1,
             "#f0f921"
            ]
           ]
          },
          "colorway": [
           "#636efa",
           "#EF553B",
           "#00cc96",
           "#ab63fa",
           "#FFA15A",
           "#19d3f3",
           "#FF6692",
           "#B6E880",
           "#FF97FF",
           "#FECB52"
          ],
          "font": {
           "color": "#2a3f5f"
          },
          "geo": {
           "bgcolor": "white",
           "lakecolor": "white",
           "landcolor": "#E5ECF6",
           "showlakes": true,
           "showland": true,
           "subunitcolor": "white"
          },
          "hoverlabel": {
           "align": "left"
          },
          "hovermode": "closest",
          "mapbox": {
           "style": "light"
          },
          "paper_bgcolor": "white",
          "plot_bgcolor": "#E5ECF6",
          "polar": {
           "angularaxis": {
            "gridcolor": "white",
            "linecolor": "white",
            "ticks": ""
           },
           "bgcolor": "#E5ECF6",
           "radialaxis": {
            "gridcolor": "white",
            "linecolor": "white",
            "ticks": ""
           }
          },
          "scene": {
           "xaxis": {
            "backgroundcolor": "#E5ECF6",
            "gridcolor": "white",
            "gridwidth": 2,
            "linecolor": "white",
            "showbackground": true,
            "ticks": "",
            "zerolinecolor": "white"
           },
           "yaxis": {
            "backgroundcolor": "#E5ECF6",
            "gridcolor": "white",
            "gridwidth": 2,
            "linecolor": "white",
            "showbackground": true,
            "ticks": "",
            "zerolinecolor": "white"
           },
           "zaxis": {
            "backgroundcolor": "#E5ECF6",
            "gridcolor": "white",
            "gridwidth": 2,
            "linecolor": "white",
            "showbackground": true,
            "ticks": "",
            "zerolinecolor": "white"
           }
          },
          "shapedefaults": {
           "line": {
            "color": "#2a3f5f"
           }
          },
          "ternary": {
           "aaxis": {
            "gridcolor": "white",
            "linecolor": "white",
            "ticks": ""
           },
           "baxis": {
            "gridcolor": "white",
            "linecolor": "white",
            "ticks": ""
           },
           "bgcolor": "#E5ECF6",
           "caxis": {
            "gridcolor": "white",
            "linecolor": "white",
            "ticks": ""
           }
          },
          "title": {
           "x": 0.05
          },
          "xaxis": {
           "automargin": true,
           "gridcolor": "white",
           "linecolor": "white",
           "ticks": "",
           "title": {
            "standoff": 15
           },
           "zerolinecolor": "white",
           "zerolinewidth": 2
          },
          "yaxis": {
           "automargin": true,
           "gridcolor": "white",
           "linecolor": "white",
           "ticks": "",
           "title": {
            "standoff": 15
           },
           "zerolinecolor": "white",
           "zerolinewidth": 2
          }
         }
        },
        "title": {
         "text": "Distribution of Nuclear Norm of Node Explain Matrix"
        },
        "xaxis": {
         "title": {
          "text": "Nuclear Norm"
         }
        },
        "yaxis": {
         "title": {
          "text": "Frequency"
         }
        }
       }
      },
      "text/html": [
       "<div>                            <div id=\"3e11330d-9c4c-4a1b-bb64-f08998a8f5ab\" class=\"plotly-graph-div\" style=\"height:525px; width:100%;\"></div>            <script type=\"text/javascript\">                require([\"plotly\"], function(Plotly) {                    window.PLOTLYENV=window.PLOTLYENV || {};                                    if (document.getElementById(\"3e11330d-9c4c-4a1b-bb64-f08998a8f5ab\")) {                    Plotly.newPlot(                        \"3e11330d-9c4c-4a1b-bb64-f08998a8f5ab\",                        [{\"name\":\"SDNE\",\"x\":[0.6598601341247559,0.8308860659599304,0.6493744850158691,0.5925207138061523,0.5907540321350098,0.6177313327789307,0.9002248048782349,0.9458584785461426,0.6430634260177612,0.6726800203323364,0.6096288561820984,0.5711376667022705,0.555424690246582,0.554680585861206,0.5535281896591187,0.6161611676216125,0.9932979941368103,0.5999338626861572,0.7349878549575806,0.5621846914291382,0.6895334720611572,0.6426553726196289,0.6317975521087646,0.7948737740516663,0.6826521754264832,0.8623160719871521,0.6539345979690552,0.5788114666938782,0.604602575302124,0.8634055256843567,0.8552671074867249,0.6313602328300476,0.6219857335090637,0.8133208155632019,0.9090059995651245,0.9074364900588989,0.6125794649124146,0.5730683207511902,0.56252521276474,0.6690223813056946,0.6255821585655212,0.6008162498474121,0.7246699333190918,0.6051480770111084,0.6719257235527039,0.6516614556312561,0.6351965069770813,0.8734845519065857,0.645815908908844,0.6562892198562622,0.6308032274246216,0.5989973545074463,0.5398889183998108,0.8407341241836548,0.6292914152145386,0.5473194122314453,0.8221520781517029,0.5686378479003906,0.6212651133537292,0.604271411895752,0.5636077523231506,0.7397193312644958,0.7486489415168762,0.6310558319091797,0.640170693397522,0.6388809680938721,0.5869067311286926,0.6778488755226135,0.6560983657836914,0.6468258500099182,0.5801543593406677,0.7115554213523865,0.7232493758201599,0.5749973058700562,0.5649263262748718,0.616990327835083,0.7436597347259521,0.6304905414581299,0.717279314994812,0.6293782591819763,0.8439631462097168,0.9078967571258545,0.7576343417167664,0.574151337146759,0.7872793078422546,0.7877697348594666,0.6451629996299744,0.6531092524528503,0.5866525173187256,0.7415382862091064,0.5728902220726013,0.8957598805427551,0.5393389463424683,0.7128888368606567,0.6627286672592163,0.6384422779083252,0.6048876643180847,0.8807936906814575,0.768338680267334,0.7481777667999268,1.0099369287490845,0.9707083702087402,1.0244842767715454,0.8916864991188049,0.7356196045875549,0.742482602596283,1.0028374195098877,0.7817134857177734,0.5918517708778381,0.649016261100769,0.5701835751533508,0.9240579605102539,0.6601373553276062,0.811337411403656,0.5668216347694397,0.9497368335723877,0.8632828593254089,0.6703777313232422,0.5844884514808655,0.5896091461181641,0.5787608623504639,0.5785969495773315,0.6012415289878845,0.5688155293464661,0.6448531150817871,0.7239219546318054,0.7366898655891418,0.6739810705184937,0.65678870677948,0.5522416234016418,0.5285030603408813,0.794097363948822,0.871341347694397,0.6511420607566833,0.5789147615432739,0.6535302996635437,0.6566113233566284,0.6038588285446167,0.8997011780738831,0.8752099871635437,0.8393065333366394,0.5627888441085815,0.5913509726524353,0.5446262955665588,0.5885322690010071,0.7576454877853394,0.7342044711112976,0.7992130517959595,0.5910272002220154,0.9061756134033203,0.6949496269226074,0.5704244375228882,1.0818918943405151,0.6591107845306396,0.5973994731903076,0.5449650287628174,0.5876078009605408,0.806373119354248,0.9903240203857422,1.1217098236083984,0.6553484201431274,0.9802600741386414,0.6295734643936157,0.8649379014968872,0.7602772116661072,0.5315574407577515,0.6275836825370789,0.6868647336959839,0.9526650309562683,0.8366794586181641,0.8271669149398804,0.5455095171928406,0.5717121362686157,0.5871770977973938,0.5657541751861572,0.6988208293914795,0.7271016836166382,0.6177371144294739,0.7057958245277405,0.7805337309837341,0.7139402627944946,0.605728030204773,0.8132454752922058,0.6032096147537231,1.018337607383728,0.567131757736206,0.7362300753593445,0.8833168148994446,0.8927406072616577,0.7862818241119385,0.8394938111305237,0.7193770408630371,0.7537840604782104,0.8026247024536133,1.0921741724014282,1.2551312446594238,0.7166059613227844,0.6243958473205566,0.7743693590164185,0.6028633713722229,0.9330599904060364,0.5823692679405212,0.5617971420288086,0.832687497138977,0.7269743084907532,0.5910071134567261,0.7577666640281677,0.8720608353614807,1.0583337545394897,1.0879122018814087,0.8558816313743591,0.7914035320281982,0.8258810639381409,0.790875256061554,0.7703315615653992,0.994509220123291,0.7580661177635193,0.8315321803092957,0.6862784624099731,0.6436519026756287,0.7757778763771057,0.6642629504203796,0.5729040503501892,0.6041812896728516,1.0211725234985352,0.8514450788497925,0.9778961539268494,0.8696264028549194,0.5844138264656067,0.7034618258476257,0.7800370454788208,0.7665025591850281,0.5723317265510559,0.7636301517486572,0.6906132698059082,0.598138689994812,0.918743371963501,0.7566608786582947,0.8341026902198792,0.9297959804534912,1.0291043519973755,1.1815710067749023,0.8786165714263916,0.573682427406311,1.4612629413604736,1.5129055976867676,0.7492101788520813,1.2586661577224731,0.5685338973999023,0.7333327531814575,0.6504670977592468,0.6670546531677246,1.8368332386016846,1.215267539024353,0.9740882515907288,0.7556345462799072,0.6435366868972778,0.9942862391471863,0.6950365900993347,0.9295877814292908,0.8298827409744263,0.817063570022583,0.8058319687843323,0.8042388558387756,0.8355472683906555,1.0025947093963623,0.9247295260429382,0.701981782913208,0.6571235060691833,1.0041991472244263,1.1691604852676392,0.970630407333374,0.891110360622406,0.6181115508079529,0.7575809955596924,0.8342406749725342,0.9041685461997986,0.7759307622909546,0.8424935936927795,0.7744192481040955,0.8490639925003052,0.9579816460609436,0.6511198878288269,0.7534292340278625,1.3295899629592896,0.8713619112968445,0.7217512726783752,0.829150915145874,0.6078269481658936,0.7960522770881653,0.7964868545532227,1.3197321891784668,0.8476460576057434,0.9539732336997986,0.8589752316474915,0.6993889212608337,0.7903829216957092,0.6479567885398865,0.9793338775634766,0.830335795879364,0.9995951056480408,0.9905155897140503,0.9961230158805847,0.7613174319267273,0.9237105846405029,0.7138136625289917,1.025185227394104,0.8151191473007202,0.8983726501464844,0.8735199570655823,0.9500465989112854,1.3006645441055298,1.0942676067352295,0.5873273611068726,0.8794891834259033,0.5777074098587036,0.8167657852172852,0.7360295653343201,0.8075577616691589,0.6283606290817261,1.2977826595306396,0.8595175743103027,1.140140175819397,0.8756164908409119,0.8512356877326965,0.8760982155799866,0.8232921957969666,0.8540788292884827,1.106414556503296,1.247120976448059,0.8178459405899048,1.295013666152954,0.6648878455162048,1.3717824220657349,0.9817197322845459,0.9244990944862366,1.1997289657592773,1.211435079574585,0.6134260892868042,0.8586387634277344,1.1250516176223755,1.3390655517578125,1.2242637872695923,0.9194285869598389,0.7639126777648926,0.854351818561554,1.103927493095398,0.8343609571456909,0.4982999563217163,1.251220941543579,1.213327169418335,1.2736663818359375,1.1950527429580688,0.9746078848838806,0.9812140464782715,1.884760856628418,1.1563211679458618,0.9979760646820068,0.9796131253242493,0.8674807548522949,0.8552975654602051,1.0798335075378418,0.7659409046173096,0.9873144626617432,1.1135903596878052,0.7297677397727966,0.6652860641479492,0.9999563694000244,1.2928321361541748,1.1466635465621948,1.0429495573043823,1.0961381196975708,1.1235477924346924,1.2376949787139893,0.9752214550971985,1.0585711002349854,0.8300326466560364,1.0308455228805542,1.0040003061294556,1.1380623579025269,0.8269835710525513,1.3464430570602417,1.605098009109497,0.8932722210884094,0.8456674814224243,0.7874816060066223,1.4572527408599854,0.9961709976196289,0.7690721154212952,1.0646016597747803,1.1231156587600708,0.8642719984054565,0.6475687623023987,0.7554521560668945,0.9162182807922363,0.956240713596344,0.7670104503631592,0.9104800820350647,0.9150093793869019,1.2062382698059082,1.1823766231536865,0.8633142709732056,1.0914406776428223,1.2291350364685059,0.7107557058334351,1.0085285902023315,1.0396016836166382,1.0717012882232666,0.9545391201972961,0.938596248626709,1.0744996070861816,0.9520052075386047,0.9236354231834412,0.8320494890213013,1.0028305053710938,0.9540615677833557,0.6955156922340393,0.781694769859314,0.8081246018409729,1.157884120941162,0.9947675466537476,0.9931779503822327,1.10079026222229,1.0209404230117798,1.0485799312591553,0.9208695888519287,1.2452095746994019,1.0176712274551392,0.8859154582023621,1.2188454866409302,1.0992896556854248,1.066265344619751,0.9023877382278442,1.2047557830810547,0.8140055537223816,1.269037127494812,0.8099557161331177,0.9571718573570251,1.070749044418335,1.4987375736236572,1.2850173711776733,0.7738237977027893,1.1439573764801025,0.7695406675338745,0.9219199419021606,1.2269166707992554,0.9879986643791199,0.8303477168083191,1.023092269897461,1.196791648864746,1.2608555555343628,1.3152750730514526,1.264587640762329,0.7925028800964355,1.3582664728164673,1.0449188947677612,0.7762075662612915,0.8215512037277222,1.0806792974472046,0.9555623531341553,0.9595232009887695,1.1716704368591309,1.3689067363739014,1.5730534791946411,1.1441411972045898,0.9745652079582214,1.125412106513977,0.8726734519004822,0.8638337254524231,0.9725220799446106,0.8424914479255676,0.9662172794342041,1.1317803859710693,1.1927647590637207,0.9266722202301025,1.094884991645813,1.6149413585662842,0.9727939963340759,1.0582784414291382,1.1366227865219116,0.9790462851524353,0.9530320167541504,1.1161309480667114,0.9050301313400269,0.8370519876480103,0.950194239616394,0.8794111013412476,0.7384136319160461,1.0158356428146362,0.9716705679893494,1.2778692245483398,1.8103797435760498,1.1410245895385742,1.1610203981399536,0.9658083915710449,1.1860252618789673,0.9553757309913635,1.0800526142120361,1.2422505617141724,1.2235727310180664,1.2126994132995605,1.0875062942504883,0.8294689059257507,1.278242588043213,0.9319155812263489,0.8373174667358398,1.0068440437316895,1.6483063697814941,0.9430527687072754,0.8997309803962708,1.0131415128707886,1.12129545211792,1.1011265516281128,1.3274786472320557,1.1726360321044922,1.0639429092407227,1.2308287620544434,0.7987186908721924,0.864147961139679,0.9192564487457275,0.9369380474090576,1.1317148208618164,1.1496679782867432,1.061096429824829,1.2085113525390625,0.9807773232460022,0.987594485282898,0.8624131679534912,0.5237104892730713,0.8523105978965759,1.0907968282699585,1.136078953742981,1.0879875421524048,1.2042003870010376,0.9923635125160217,1.1428534984588623,0.8877257704734802,1.0891821384429932,1.2197151184082031,1.029529094696045,1.1177681684494019,0.9922541379928589,1.153661847114563,1.261095404624939,1.0749963521957397,1.2183276414871216,1.2977826595306396,1.3248704671859741,0.8985814452171326,0.9539635181427002,1.6121106147766113,0.9795114994049072,1.0735328197479248,0.9897720217704773,0.8486143350601196,1.0527327060699463,0.9839699268341064,1.4012210369110107,1.1255977153778076,1.0232585668563843,0.9940535426139832,0.8887504935264587,1.292206883430481,1.0865081548690796,0.9428178668022156,1.1577608585357666,0.9340265393257141,1.2079602479934692,1.1365551948547363,1.046545386314392,1.1822509765625,1.2349258661270142,0.968528151512146,0.9453431963920593,1.2005369663238525,0.8537226915359497,1.1499385833740234,1.066985845565796,1.0511871576309204,0.9489277005195618,1.3675400018692017,0.8999655246734619,1.0528879165649414,1.266863226890564,1.1258803606033325,1.367155909538269,1.0524464845657349,0.9608773589134216,1.2807403802871704,1.0493329763412476,1.1738556623458862,1.8368332386016846,1.857431411743164,1.3705905675888062,1.1194641590118408,1.0321221351623535,1.0186083316802979,1.2977826595306396,1.342885971069336,0.9039309620857239,0.8954752087593079,0.8019636869430542,1.0407084226608276,0.9764630794525146,1.2589863538742065,1.2992321252822876,0.9807916879653931,1.3235877752304077,0.9246053099632263,1.139125943183899,0.9910800457000732,1.111763596534729,1.1637115478515625,1.785668134689331,1.5209853649139404,1.3410392999649048,1.1840605735778809,1.0065556764602661,0.9256690740585327,1.0115114450454712,1.398219347000122,1.1398028135299683,1.0280284881591797,1.0696923732757568,1.088238000869751,0.9984064102172852,1.0279450416564941,1.085776686668396,1.1818950176239014,0.9544127583503723,1.382582187652588,1.432708501815796,1.3923293352127075,0.6660425662994385,0.6878747940063477,1.21771240234375,0.6925422549247742,0.7659417390823364,0.9063912630081177,1.2681961059570312,1.0923763513565063,1.0331110954284668,1.11556875705719,0.8076008558273315,1.2281571626663208,1.361940860748291,0.8854178190231323,1.250643014907837,0.9693814516067505,1.2402986288070679,1.089487910270691,1.0722026824951172,1.8103797435760498,1.425567388534546,0.9444206357002258,1.0338162183761597,1.1471107006072998,0.9679708480834961,1.3176629543304443,1.069003701210022,1.087695837020874,1.8866740465164185,0.986626923084259,1.200749397277832,1.1429774761199951,1.1911388635635376,1.3596481084823608,1.884760856628418,1.3069227933883667,0.8981854915618896,0.9663364887237549,1.0641123056411743,0.839470624923706,0.7732881903648376,0.9155061841011047,1.3962870836257935,1.0888891220092773,0.743699312210083,1.2205276489257812,1.3449639081954956,1.4484517574310303,1.2781424522399902,1.1633546352386475,1.142094373703003,1.109026312828064,1.396281123161316,1.0227552652359009,1.0588371753692627,1.378386378288269,1.0117602348327637,1.0820297002792358,0.9917974472045898,1.4852856397628784,0.7060796618461609,1.1401795148849487,0.5452929139137268,1.0388885736465454,1.3707629442214966,1.099307894706726,1.2241491079330444,0.9509629011154175,1.1320184469223022,0.9500149488449097,1.1580404043197632,1.0273808240890503,1.3127995729446411,0.5571541786193848,1.325413703918457,1.0527327060699463,1.1271133422851562,1.4558278322219849,0.972503125667572,1.2378747463226318,0.9834315776824951,1.0718717575073242,1.0636107921600342,0.714667797088623,0.753473162651062,0.5627375245094299,1.2776330709457397,1.569616436958313,0.9518516063690186,1.3872315883636475,0.9937628507614136,1.0544447898864746,1.0527327060699463,1.1932804584503174,0.908214271068573,1.1072214841842651,0.9478754997253418,1.2671782970428467,1.1049325466156006,1.5210400819778442,1.16767418384552,1.1608352661132812,1.0429269075393677,1.3077672719955444,1.2662421464920044,1.0417753458023071,1.2475913763046265,0.9598700404167175,1.2977826595306396,1.5638103485107422,1.2198549509048462,1.0508177280426025,1.0266637802124023,1.2150720357894897,1.1231694221496582,1.1647651195526123,1.1068485975265503,1.372923493385315,1.2809817790985107,1.4767632484436035,1.0525058507919312,1.2686047554016113,0.6820732951164246,0.7972239851951599,0.8513564467430115,0.8951953053474426,0.9608773589134216,1.176622748374939,1.2948613166809082,1.679181694984436,1.0921682119369507,1.4500237703323364,1.4643968343734741,1.0271601676940918,1.1119447946548462,1.437076210975647,1.4238710403442383,1.2588287591934204,1.2063212394714355,1.2440528869628906,1.0364857912063599,1.0820472240447998,1.5632776021957397,1.1250571012496948,1.3411550521850586,1.1972954273223877,1.0526875257492065,1.2039566040039062,1.050082802772522,1.4480664730072021,1.044050931930542,1.0195701122283936,1.4500237703323364,1.1686984300613403,1.1962347030639648,1.2305936813354492,0.9500814080238342,1.4788895845413208,0.9256306886672974,1.292893648147583,1.0776302814483643,1.2870807647705078,1.3058758974075317,1.2311047315597534,1.0441852807998657,1.2418140172958374,1.785668134689331,1.2977826595306396,1.2787164449691772,1.429758071899414,1.6540989875793457,1.1404719352722168,1.0101584196090698,1.1135975122451782,1.4557241201400757,1.1458348035812378,1.2068630456924438,1.0285029411315918,1.1731613874435425,0.9110432863235474,1.1030648946762085,1.1251482963562012,1.389197826385498,0.8198984861373901,1.178422451019287,1.1013054847717285,1.0414304733276367,1.3113527297973633,1.277787685394287,1.2293354272842407,1.4024791717529297,0.9183558225631714,1.3152050971984863,1.0779271125793457,1.6458110809326172,1.1096792221069336,1.0553196668624878,1.0385360717773438,0.9862772822380066,1.8368332386016846,1.2893041372299194,0.976681649684906,1.421654224395752,1.5262974500656128,1.4811805486679077,1.1465307474136353,1.1364480257034302,1.3172001838684082,1.1096813678741455,1.1866239309310913,1.604689598083496,1.6551326513290405,1.3620028495788574,1.0718717575073242,1.3884989023208618,1.5662927627563477,1.0264886617660522,0.9174814224243164,1.0957010984420776,1.4123817682266235,1.1725201606750488,1.5747495889663696,0.7980465292930603,1.2315731048583984,1.3458709716796875,1.206889033317566,1.3162308931350708,1.1277837753295898,1.3193106651306152,0.8070916533470154,1.2186776399612427,1.313723087310791,1.1399081945419312,0.8169729113578796,1.0287925004959106,1.028232216835022,1.2556577920913696,1.5638103485107422,1.2806845903396606,1.8103797435760498,1.3410508632659912,1.337905764579773,1.2577106952667236,0.6526697278022766,0.7627773880958557,0.9283020496368408,1.1793537139892578,0.791431188583374,1.1291732788085938,1.2977826595306396,1.3426278829574585,1.160990595817566,1.5638103485107422,0.9132789373397827,1.8368332386016846,1.1751699447631836,1.402780532836914,1.8001338243484497,1.2992321252822876,0.9404413104057312,1.4870189428329468,1.604229211807251,0.9806540012359619,1.0229219198226929,1.274294376373291,1.3903436660766602,1.197999358177185,1.0308536291122437,1.1866674423217773,1.339464545249939,1.612708330154419,1.3000305891036987,1.6965943574905396,1.140292763710022,1.4675863981246948,1.2801061868667603,1.354036808013916,1.4806634187698364,1.6399660110473633,1.679181694984436,1.1357156038284302,1.324251413345337,1.2493679523468018,1.5089095830917358,1.3909863233566284,1.0636107921600342,1.8368332386016846,1.1949652433395386,0.9473913908004761,1.2863284349441528,1.5638103485107422,1.244112253189087,1.2859270572662354,1.1233636140823364,1.3248704671859741,1.6696996688842773,1.8368332386016846,1.1348769664764404,1.3438916206359863,1.4564944505691528,1.2022753953933716,1.3293999433517456,1.477699637413025,1.0457780361175537,1.0697296857833862,1.0287015438079834,0.8952016234397888,1.283477544784546,1.283477544784546,1.4959267377853394,1.2977826595306396,0.9827550053596497,0.9016395211219788,1.1915867328643799,1.3925611972808838,0.9730270504951477,1.1210273504257202,0.9526878595352173,1.3042899370193481,1.538726806640625,1.2577112913131714,0.963566243648529,1.0346225500106812,1.0145634412765503,1.3077001571655273,0.9974442720413208,1.9005388021469116,1.0060720443725586,1.537609577178955,1.704670786857605,1.2812570333480835,1.3628551959991455,1.0070579051971436,1.2291165590286255,1.3016810417175293,0.9995973706245422,1.7042529582977295,1.0152407884597778,1.396429419517517,1.082518219947815,1.2714869976043701,1.1138947010040283,0.9404204487800598,1.8368332386016846,1.3177053928375244,1.1811583042144775,1.0078712701797485,1.7199361324310303,1.785668134689331,1.3241585493087769,1.5638103485107422,1.1435004472732544,1.424089789390564,1.1736531257629395,1.055579423904419,1.19515061378479,1.0636107921600342,0.9559435844421387,1.3677412271499634,1.5638103485107422,0.8814255595207214,1.3363077640533447,1.0050987005233765,1.035029411315918,1.2977826595306396,1.2142565250396729,1.0271601676940918,1.0195871591567993,1.2977826595306396,1.1517318487167358,1.125001072883606,1.5210400819778442,1.138400673866272,1.0258251428604126,1.320231318473816,1.5747495889663696,0.9619128704071045,1.5104249715805054,1.2067235708236694,1.22957444190979,1.025665283203125,1.0817373991012573,1.5638103485107422,1.09156334400177,1.0486693382263184,1.3016810417175293,1.884760856628418,1.7345004081726074,1.013630747795105,1.3907654285430908,1.4564944505691528,1.1070988178253174,1.0401357412338257,1.3615559339523315,1.1660826206207275,1.5162183046340942,1.4722843170166016,1.1631869077682495,1.0855382680892944,1.6724255084991455,1.3338321447372437,1.4194962978363037,1.1140305995941162,1.785668134689331,1.2602415084838867,1.3231608867645264,0.9919309020042419,1.0198745727539062,1.4788895845413208,1.1751182079315186,1.2992321252822876,1.5140557289123535,1.0497316122055054,0.9954589605331421,1.0251950025558472,1.8103797435760498,1.4368107318878174,1.2661025524139404,1.3739893436431885,1.3177053928375244,1.5041128396987915,1.1497774124145508,1.4883610010147095,1.283477544784546,1.02129328250885,1.5262974500656128,1.0195444822311401,1.4442578554153442,1.22536039352417,1.3152050971984863,1.185461401939392,1.2801750898361206,1.3500579595565796,1.4867147207260132,1.2867140769958496,1.377582311630249,1.2977826595306396,1.1193422079086304,1.679181694984436,0.9771131873130798,1.2992321252822876,1.2319860458374023,1.158220648765564,1.297900915145874,1.679181694984436,1.189874529838562,1.3147660493850708,0.9925872683525085,1.4685333967208862,1.5570603609085083,1.679181694984436,1.202650785446167,1.3282526731491089,1.4959267377853394,1.884760856628418,0.9948852062225342,1.3511099815368652,1.2992321252822876,1.8368332386016846,1.829175591468811,1.8368332386016846,0.9952806830406189,1.2751264572143555,1.56778883934021,1.1104564666748047,1.2319860458374023,1.283477544784546,1.3152050971984863,1.2992321252822876,1.422044277191162,1.5140128135681152,0.9780262112617493,1.8368332386016846,1.5747495889663696,1.5349383354187012,0.930068850517273,0.917374849319458,1.0271601676940918,1.5892250537872314,1.5262974500656128,1.2980263233184814,1.3166404962539673,1.0454052686691284,1.8368332386016846,1.1529868841171265,1.422044277191162,1.884760856628418,1.2342915534973145,1.5827295780181885,1.8724052906036377,1.2977826595306396,1.5638103485107422,1.3438916206359863,1.4599441289901733,1.2981741428375244,1.4407063722610474,1.2795257568359375,1.5638103485107422,1.838784098625183,1.500846028327942,1.3388090133666992,1.5665550231933594,1.3088473081588745,1.5140128135681152,1.5072274208068848,1.2977826595306396,1.2808208465576172,1.679181694984436,1.2859270572662354,1.5262974500656128,1.076175570487976,1.5638103485107422,1.5520212650299072,1.0206571817398071,1.320231318473816,1.679181694984436,1.3177053928375244,0.9848592877388,1.8209720849990845,1.2661025524139404,1.3134560585021973,1.2992321252822876,1.679181694984436,1.679181694984436,1.8368332386016846,1.2620121240615845,1.349487543106079,1.3177053928375244,1.8209720849990845,1.2342915534973145,1.320231318473816,1.7138192653656006,1.5638103485107422,1.0271601676940918,1.0847893953323364,1.8368332386016846,1.3511099815368652,1.884760856628418,1.3500579595565796,1.5638103485107422,1.5305453538894653,1.3276817798614502,1.5158672332763672,1.3500608205795288,1.3160070180892944,1.8368332386016846,1.2992321252822876,1.5638103485107422,1.3458709716796875,1.141125202178955,1.1855249404907227,1.679181694984436,1.679181694984436],\"type\":\"histogram\"},{\"name\":\"SDNE+XM\",\"x\":[0.33519551157951355,0.41202130913734436,0.5183871388435364,0.4993938207626343,0.49961018562316895,0.4566570818424225,0.47614654898643494,0.5034281015396118,0.4736388623714447,0.4940030872821808,0.5222755074501038,0.4803049564361572,0.4972875714302063,0.4953620433807373,0.4763641059398651,0.4754384756088257,0.47777581214904785,0.5186160802841187,0.5017879605293274,0.509750247001648,0.5396749377250671,0.508855402469635,0.5316591858863831,0.5893833041191101,0.5080974102020264,0.4156714677810669,0.47492337226867676,0.4828247129917145,0.49161967635154724,0.5653471350669861,0.551555871963501,0.5082187652587891,0.4993302822113037,0.3976941704750061,0.4667380452156067,0.4972535967826843,0.5440958142280579,0.5056045651435852,0.4968425929546356,0.416609525680542,0.5258769392967224,0.46482789516448975,0.47876685857772827,0.5033121109008789,0.5451599359512329,0.5288630723953247,0.47172796726226807,0.5375725030899048,0.524836003780365,0.49285000562667847,0.49557843804359436,0.5049581527709961,0.44669458270072937,0.5274325013160706,0.4703000783920288,0.49181291460990906,0.4067957103252411,0.5007630586624146,0.49210870265960693,0.5041083097457886,0.48614048957824707,0.49945297837257385,0.5681671500205994,0.5172768831253052,0.5108932256698608,0.4810127317905426,0.5016403794288635,0.531311571598053,0.5360075235366821,0.4988177716732025,0.4889281988143921,0.6017787456512451,0.5673409104347229,0.47975954413414,0.4708692729473114,0.5244337916374207,0.5434905290603638,0.478190153837204,0.49492934346199036,0.5367810726165771,0.4189862906932831,0.5052653551101685,0.47405698895454407,0.4799950122833252,0.5566978454589844,0.5280848145484924,0.5002771615982056,0.4587964713573456,0.49944835901260376,0.5159710645675659,0.4847816228866577,0.5099074840545654,0.47784605622291565,0.5782518982887268,0.5134958028793335,0.52386873960495,0.49787232279777527,0.6397868990898132,0.4347879886627197,0.5240917801856995,0.49892786145210266,0.44964343309402466,0.6112263202667236,0.6282291412353516,0.47697821259498596,0.5913640260696411,0.5199848413467407,0.49041327834129333,0.49539318680763245,0.5110530257225037,0.478000670671463,0.5213192105293274,0.5664727091789246,0.5863870978355408,0.4811205267906189,0.5682990550994873,0.41996610164642334,0.544776201248169,0.5116100311279297,0.5001581907272339,0.48520442843437195,0.4852360188961029,0.49442729353904724,0.4938642382621765,0.575600266456604,0.4597315788269043,0.49073225259780884,0.5545390248298645,0.5319908857345581,0.4883439540863037,0.48127079010009766,0.4752010107040405,0.6285753846168518,0.49060794711112976,0.4868365228176117,0.5323612093925476,0.5331865549087524,0.5200953483581543,0.4910915195941925,0.4455980360507965,0.6096726059913635,0.4849160313606262,0.4901094436645508,0.42585012316703796,0.5079302787780762,0.5010923743247986,0.4806070327758789,0.4382304847240448,0.48978203535079956,0.4967954754829407,0.4685777425765991,0.48311126232147217,0.5383210778236389,0.5327230095863342,0.4800969362258911,0.4344298541545868,0.48858168721199036,0.6328255534172058,0.4801521599292755,0.5995165705680847,0.4617972671985626,0.6340478658676147,0.5156532526016235,0.4655376374721527,0.49835774302482605,0.4705752730369568,0.47229546308517456,0.4986662268638611,0.5388237237930298,0.6345824003219604,0.5001512765884399,0.4605294466018677,0.4802390933036804,0.4344354569911957,0.49290362000465393,0.490683913230896,0.528279721736908,0.5110793709754944,0.48860451579093933,0.513153612613678,0.48567673563957214,0.5055530667304993,0.5813181400299072,0.47301381826400757,0.5196436643600464,0.4826197326183319,0.5327655076980591,0.611457347869873,0.4683363437652588,0.42040422558784485,0.40413808822631836,0.4547823667526245,0.4915713369846344,0.5178872346878052,0.5839996933937073,0.6506187915802002,0.47532370686531067,0.4849132001399994,0.4288214147090912,0.4880160093307495,0.5565853118896484,0.4575813412666321,0.4640200138092041,0.47546589374542236,0.4939231872558594,0.4833962917327881,0.5121694207191467,0.4515407383441925,0.59717857837677,0.5724040269851685,0.47681254148483276,0.42198893427848816,0.3658673167228699,0.5936660766601562,0.5618681311607361,0.738166093826294,0.49846500158309937,0.4696000814437866,0.41094616055488586,0.5018651485443115,0.5110856294631958,0.5491635799407959,0.4842150807380676,0.4785368740558624,0.4829373359680176,0.47238415479660034,0.5556359887123108,0.4774547517299652,0.47242406010627747,0.5841031670570374,0.5545190572738647,0.4715102016925812,0.48515620827674866,0.42941850423812866,0.4983998239040375,0.4519903063774109,0.4455038905143738,0.4840713143348694,0.5782034993171692,0.4717690050601959,0.4929938316345215,0.5960431694984436,0.47204264998435974,0.45705652236938477,0.7091518640518188,0.7331967353820801,0.4694461226463318,0.7004550695419312,0.46864789724349976,0.47401079535484314,0.4919626712799072,0.4761996567249298,1.1880931854248047,0.6746323704719543,0.561764121055603,0.5570111870765686,0.5326791405677795,0.5525779724121094,0.538325846195221,0.4715094268321991,0.4896667003631592,0.5325844287872314,0.49374067783355713,0.5503810048103333,0.4961143136024475,0.6234579682350159,0.5186654329299927,0.5471610426902771,0.51356440782547,0.6495320796966553,0.6253180503845215,0.51912921667099,0.46161743998527527,0.4946012794971466,0.5323494076728821,0.5456905961036682,0.5134177803993225,0.5323021411895752,0.46512168645858765,0.5372390151023865,0.5172924399375916,0.4777108132839203,0.5236947536468506,0.5397842526435852,0.8600001335144043,0.5295308828353882,0.5243678689002991,0.5401790738105774,0.4945468604564667,0.4881977140903473,0.4191698431968689,0.8536239266395569,0.4125121831893921,0.46819913387298584,0.47359445691108704,0.4637392461299896,0.5217388868331909,0.42609959840774536,0.5285987257957458,0.5097246766090393,0.5074484944343567,0.4831618666648865,0.5536046028137207,0.5695750117301941,0.625091016292572,0.47275078296661377,0.6631062030792236,0.5233739018440247,0.4620848298072815,0.4719288945198059,0.5057240724563599,0.6355521082878113,0.6091405749320984,0.47010669112205505,0.5461480021476746,0.47603869438171387,0.42725276947021484,0.4626694321632385,0.5529789328575134,0.4843346178531647,0.8394265174865723,0.44017186760902405,0.7374608516693115,0.4850439429283142,0.4710542559623718,0.4980434477329254,0.47686266899108887,0.44584786891937256,0.6709180474281311,0.8066577911376953,0.48039519786834717,0.6258445382118225,0.4858662784099579,0.7175276875495911,0.4923539161682129,0.4534267485141754,0.6886546015739441,0.7835755348205566,0.47164320945739746,0.45994001626968384,0.5958321690559387,0.6602866649627686,0.6706538796424866,0.4882940351963043,0.37980759143829346,0.49282726645469666,0.5596107244491577,0.4398519992828369,0.3412420451641083,0.809309720993042,0.7847994565963745,0.619473397731781,0.6787444949150085,0.5193949937820435,0.6534789800643921,1.2190935611724854,0.7479270696640015,0.45153936743736267,0.5329711437225342,0.45099079608917236,0.42629751563072205,0.6484085321426392,0.4138505756855011,0.5515557527542114,0.611137330532074,0.414871484041214,0.32654863595962524,0.4621203541755676,0.6679888367652893,0.6072779297828674,0.4282132387161255,0.5496659874916077,0.5244858264923096,0.6230001449584961,0.4472149610519409,0.559242844581604,0.44216153025627136,0.5052940845489502,0.6110369563102722,0.5563254356384277,0.542629599571228,0.58566814661026,0.8128778338432312,0.5605769157409668,0.5192901492118835,0.5063446164131165,0.6887759566307068,0.5855970978736877,0.4602341055870056,0.6886014342308044,0.726449191570282,0.4498826563358307,0.473054975271225,0.4694083631038666,0.5971349477767944,0.5521557331085205,0.4593365788459778,0.4588008522987366,0.4900123178958893,0.5876621007919312,0.5902382135391235,0.5459769368171692,0.5492708683013916,0.6231573820114136,0.5189750790596008,0.5293132066726685,0.5165954828262329,0.5932340621948242,0.5094445943832397,0.4898010790348053,0.6950035691261292,0.6684983372688293,0.46975037455558777,0.5568979978561401,0.6486468315124512,0.5727046728134155,0.47855061292648315,0.4162121117115021,0.42007288336753845,0.574573278427124,0.5355502367019653,0.4763292968273163,0.5266138315200806,0.476800799369812,0.5526871085166931,0.5392301082611084,0.6911206245422363,0.5259470343589783,0.48488256335258484,0.7883687019348145,0.5373415946960449,0.5838592052459717,0.4704405963420868,0.6020329594612122,0.3510466516017914,0.8208335638046265,0.5281424522399902,0.5002214908599854,0.5641571283340454,0.9694074988365173,0.8311697840690613,0.3638593256473541,0.5690152645111084,0.4675373435020447,0.48176854848861694,0.7935893535614014,0.5600038766860962,0.4999132454395294,0.5018708109855652,0.7741039991378784,0.7162017226219177,0.8507409691810608,0.5824964642524719,0.45152735710144043,0.8785484433174133,0.5188626050949097,0.47774893045425415,0.5187627673149109,0.6990005970001221,0.5158484578132629,0.5108866095542908,0.5598991513252258,0.8854308128356934,0.5517323017120361,0.7400488257408142,0.6303643584251404,0.6471128463745117,0.5042664408683777,0.49739915132522583,0.622996985912323,0.47678712010383606,0.5282215476036072,0.6332594752311707,0.5859003067016602,0.4813007712364197,0.5985605716705322,0.7848725914955139,0.5445628762245178,0.6845114231109619,0.7351858615875244,0.4725469648838043,0.6164363622665405,0.7219313383102417,0.42046162486076355,0.5008217692375183,0.44982361793518066,0.4739522933959961,0.42950311303138733,0.6570587754249573,0.5265910029411316,0.8265462517738342,1.1709825992584229,0.6043715476989746,0.7509666085243225,0.5669798254966736,0.5772731900215149,0.5654791593551636,0.572285532951355,0.8035075664520264,0.6110326051712036,0.7843934297561646,0.578999936580658,0.5814619064331055,0.6748227477073669,0.484715074300766,0.6501563191413879,0.6198635101318359,0.7306349873542786,0.46099287271499634,0.48289725184440613,0.655316174030304,0.49944135546684265,0.7122262716293335,0.8586344718933105,0.7584798336029053,0.5815695524215698,0.598922610282898,0.4453255236148834,0.4385664761066437,0.44052112102508545,0.5404382348060608,0.7320112586021423,0.55560302734375,0.6863342523574829,0.781684398651123,0.48588812351226807,0.5505755543708801,0.43309304118156433,0.32240742444992065,0.5335943698883057,0.7055448889732361,0.7348340153694153,0.5383485555648804,0.7788960933685303,0.6418766379356384,0.7392159104347229,0.4334624409675598,0.7045003771781921,0.6678842902183533,0.6881327629089355,0.6043453812599182,0.4784395098686218,0.7462069392204285,0.5672592520713806,0.5668530464172363,0.5803775191307068,0.8394265174865723,0.8569474220275879,0.5058300495147705,0.47394469380378723,1.042738914489746,0.5002866387367249,0.6943782567977905,0.5509149432182312,0.5354204773902893,0.6809244155883789,0.6364474892616272,0.7576001882553101,0.5748820900917053,0.5724116563796997,0.5061135292053223,0.43932533264160156,0.6986594200134277,0.5150794982910156,0.6098296642303467,0.5155031085014343,0.5131696462631226,0.781328022480011,0.7351420521736145,0.5322422385215759,0.6007976531982422,0.5817824602127075,0.626459538936615,0.5358940958976746,0.596943736076355,0.44183751940727234,0.7437986731529236,0.43101638555526733,0.6799246668815613,0.5473373532295227,0.8845468163490295,0.45576420426368713,0.5261494517326355,0.8194274306297302,0.63437420129776,0.8842982649803162,0.5103672742843628,0.6215108633041382,0.6638922691345215,0.5207002758979797,0.6344059705734253,1.1880931854248047,1.2014163732528687,0.8865199685096741,0.6117312908172607,0.5556893944740295,0.5622508525848389,0.8394265174865723,0.8686001300811768,0.5042635202407837,0.4647231101989746,0.44747087359428406,0.5551352500915527,0.4164253771305084,0.5786715149879456,0.8403642177581787,0.5366324782371521,0.6786038875579834,0.4599074721336365,0.6304066777229309,0.6410464644432068,0.7191064357757568,0.7527072429656982,1.154998779296875,0.9837976098060608,0.8674056529998779,0.6273772716522217,0.5711737275123596,0.5034750699996948,0.6542617678642273,0.9043906331062317,0.5849948525428772,0.5734103918075562,0.6918941736221313,0.6690542697906494,0.6457852125167847,0.5392722487449646,0.48088183999061584,0.5417960286140442,0.5320770144462585,0.8942763209342957,0.9266988039016724,0.9005808234214783,0.2955957055091858,0.3824957609176636,0.5172889828681946,0.3312492370605469,0.4017719030380249,0.5053583383560181,0.8202895522117615,0.5691588521003723,0.6086180210113525,0.721567690372467,0.3912597894668579,0.7943917512893677,0.8809251189231873,0.48839130997657776,0.7909478545188904,0.6747034788131714,0.802245020866394,0.45325085520744324,0.6935179233551025,1.1709825992584229,0.922079861164093,0.610866367816925,0.5226948261260986,0.6628344058990479,0.4991167187690735,0.8522854447364807,0.5487094521522522,0.5858534574508667,1.220331072807312,0.6381661295890808,0.7766638994216919,0.6059305667877197,0.5341044664382935,0.8794420957565308,1.2190935611724854,0.5111562609672546,0.5022748708724976,0.480664998292923,0.6882848143577576,0.4261375069618225,0.3402160108089447,0.5921640396118164,0.6074354648590088,0.704310953617096,0.36413809657096863,0.5972286462783813,0.6963352560997009,0.9368818402290344,0.8267229795455933,0.6137049794197083,0.7387248873710632,0.7173359990119934,0.9031370282173157,0.5110408663749695,0.5327692031860352,0.8915624022483826,0.5198046565055847,0.6998740434646606,0.49431538581848145,0.9607065916061401,0.3615418076515198,0.7374863624572754,0.3175917863845825,0.6719697713851929,0.579822838306427,0.6299604177474976,0.611732006072998,0.6150980591773987,0.633524477481842,0.5759136080741882,0.5913341641426086,0.6645264029502869,0.8491397500038147,0.31273216009140015,0.8572988510131836,0.6809244155883789,0.5119485855102539,0.9416528344154358,0.6290305852890015,0.8006771802902222,0.4858766794204712,0.6933038234710693,0.6879605054855347,0.3973941504955292,0.4238261282444,0.32161590456962585,0.8263934850692749,1.0152530670166016,0.6156728863716125,0.8972836136817932,0.6427817344665527,0.5133662819862366,0.6809244155883789,0.6206581592559814,0.5131356120109558,0.5768935680389404,0.6131010055541992,0.8196312189102173,0.5469410419464111,0.9838330149650574,0.7552703022956848,0.7508468627929688,0.7100614309310913,0.7162350416183472,0.6597478985786438,0.6738370060920715,0.8069620728492737,0.41808342933654785,0.8394265174865723,1.0114974975585938,0.7115325927734375,0.6796857118606567,0.6640625596046448,0.7859280705451965,0.5481680035591125,0.7533887624740601,0.7159273624420166,0.8880288600921631,0.8285596370697021,0.9551941752433777,0.6807776093482971,0.6116458177566528,0.39776381850242615,0.43872973322868347,0.40236908197402954,0.4363929033279419,0.6215108633041382,0.5381931066513062,0.8375369906425476,1.0861215591430664,0.5258396863937378,0.9378986358642578,0.9471953511238098,0.6643837094306946,0.71922367811203,0.9295238256454468,0.9209825396537781,0.5911446213722229,0.5222421288490295,0.8046733140945435,0.6704156398773193,0.6998854875564575,1.011152982711792,0.7277048826217651,0.6933894753456116,0.7744297981262207,0.6029213666915894,0.7787384390830994,0.679210364818573,0.9366325736045837,0.6753089427947998,0.65947425365448,0.9378986358642578,0.7559328675270081,0.6437157392501831,0.7959676384925842,0.5042213797569275,0.956569492816925,0.4999309182167053,0.8362643718719482,0.6970285177230835,0.8325044512748718,0.6015148162841797,0.6576968431472778,0.5538753271102905,0.6672003865242004,1.154998779296875,0.8394265174865723,0.8270942568778992,0.9247903227806091,0.9077520370483398,0.62886643409729,0.653386652469635,0.7202927470207214,0.9415856599807739,0.6193172931671143,0.7806183099746704,0.5653435587882996,0.5779587626457214,0.44840556383132935,0.7134799957275391,0.7277639508247375,0.8985554575920105,0.34440532326698303,0.45261475443840027,0.5585358142852783,0.6736138463020325,0.8482038974761963,0.6770387887954712,0.6571406722068787,0.9071459174156189,0.5241281390190125,0.8506956696510315,0.5403099060058594,0.860596776008606,0.717758297920227,0.5138741731643677,0.671741783618927,0.6379399299621582,1.1880931854248047,0.8339425325393677,0.6317333579063416,0.9195486307144165,0.9872335195541382,0.9580512642860413,0.6108656525611877,0.7350727915763855,0.8519861698150635,0.7177596092224121,0.7675272822380066,1.0379388332366943,0.7533506155014038,0.7109515070915222,0.6933038234710693,0.8981033563613892,1.0131032466888428,0.6639493107795715,0.510978102684021,0.7087169885635376,0.7032237648963928,0.7584047317504883,1.01857328414917,0.4252171218395233,0.7966011762619019,0.8705308437347412,0.7806351780891418,0.8513593077659607,0.5721964836120605,0.8533512353897095,0.452956885099411,0.6013736724853516,0.8497370481491089,0.7373108267784119,0.44643449783325195,0.6654394865036011,0.6650770902633667,0.6258243322372437,1.0114974975585938,0.828367292881012,1.1709825992584229,0.8674131035804749,0.8653788566589355,0.8135073781013489,0.3781163692474365,0.40497756004333496,0.6004406213760376,0.7628248929977417,0.41686302423477173,0.7303674221038818,0.8394265174865723,0.8684332370758057,0.7509472966194153,1.0114974975585938,0.47539761662483215,1.1880931854248047,0.7601187825202942,0.9073408842086792,1.1643555164337158,0.8403642177581787,0.6082925200462341,0.9618276357650757,1.037641167640686,0.6343026757240295,0.66164231300354,0.8242340087890625,0.8992964625358582,0.7748851776123047,0.6667726039886475,0.7675554752349854,0.8663870692253113,1.0431256294250488,0.8408806324005127,0.7538830041885376,0.6345376372337341,0.9492583870887756,0.8279931545257568,0.8758127093315125,0.9577168226242065,1.0607562065124512,1.0861215591430664,0.7345990538597107,0.8565470576286316,0.8081111907958984,0.975986897945404,0.6087026000022888,0.6879605054855347,1.1880931854248047,0.7729226350784302,0.6127879619598389,0.8320177793502808,1.0114974975585938,0.8047116994857788,0.8317582011222839,0.7266095280647278,0.8569474220275879,1.0799884796142578,1.1880931854248047,0.5714883208274841,0.8692506551742554,0.9420838952064514,0.7776509523391724,0.8598771095275879,0.9557997584342957,0.6764259934425354,0.6919183135032654,0.665380597114563,0.428058922290802,0.8301738500595093,0.8301738500595093,0.9675893783569336,0.8394265174865723,0.6356617212295532,0.58319491147995,0.77073734998703,0.9007309079170227,0.6293694972991943,0.7250984311103821,0.6162137389183044,0.8436356782913208,0.9952731132507324,0.8135077953338623,0.505008339881897,0.6692104339599609,0.656235933303833,0.8458415269851685,0.6451629400253296,1.2292989492416382,0.6507434844970703,0.9945505261421204,1.102608323097229,0.683465838432312,0.7413851618766785,0.6513811349868774,0.7950122356414795,0.8419481515884399,0.6465555429458618,1.102338194847107,0.6566740274429321,0.9032328724861145,0.5435128808021545,0.6447693705558777,0.7204849720001221,0.6082789897918701,1.1880931854248047,0.8523129820823669,0.7639920711517334,0.6519073247909546,1.1124823093414307,1.154998779296875,0.856486976146698,1.0114974975585938,0.7396343350410461,0.9211240410804749,0.7591376304626465,0.6827656626701355,0.7730425000190735,0.6879605054855347,0.6183196306228638,0.8846769332885742,1.0114974975585938,0.512359082698822,0.8643451929092407,0.6501138806343079,0.6694735288619995,0.8394265174865723,0.7854005694389343,0.6643837094306946,0.6594852209091187,0.8394265174865723,0.7449585795402527,0.7276687026023865,0.9838330149650574,0.7363357543945312,0.663520097732544,0.8539468050003052,1.01857328414917,0.6221806406974792,0.9769670367240906,0.7805280685424805,0.7953084707260132,0.6634167432785034,0.6156936883926392,1.0114974975585938,0.706040620803833,0.6782961487770081,0.8419481515884399,1.2190935611724854,1.1219027042388916,0.6556326150894165,0.8995693922042847,0.9420838952064514,0.7160892486572266,0.672776460647583,0.8806761503219604,0.7542409300804138,0.9807142615318298,0.9522970914840698,0.7523679733276367,0.7021435499191284,1.0817515850067139,0.8627439737319946,0.918152928352356,0.7205727696418762,1.154998779296875,0.8151443004608154,0.8558416366577148,0.641596794128418,0.6596711874008179,0.956569492816925,0.7600852847099304,0.8403642177581787,0.979315459728241,0.6789832711219788,0.6438788175582886,0.6631125211715698,1.1709825992584229,0.9293521642684937,0.8189354538917542,0.8887183666229248,0.8523129820823669,0.9728841781616211,0.7436944246292114,0.9626957774162292,0.8301738500595093,0.660588800907135,0.9872335195541382,0.6594576835632324,0.9341691136360168,0.7925827503204346,0.8506956696510315,0.766775369644165,0.8280377984046936,0.8732390999794006,0.9616308212280273,0.8322672843933105,0.8910422921180725,0.8394265174865723,0.7240084409713745,1.0861215591430664,0.6320124268531799,0.8403642177581787,0.7968682646751404,0.7491556406021118,0.8395030498504639,1.0861215591430664,0.7696298956871033,0.8504117131233215,0.6420213580131531,0.9498709440231323,1.007131576538086,1.0861215591430664,0.7778937220573425,0.8591351509094238,0.9675893783569336,1.2190935611724854,0.6435075998306274,0.8739196062088013,0.8403642177581787,1.1880931854248047,1.1831400394439697,1.1880931854248047,0.6437634825706482,0.8247721791267395,1.0140708684921265,0.7182610630989075,0.7968682646751404,0.8301738500595093,0.8506956696510315,0.8403642177581787,0.9198010563850403,0.9792877435684204,0.6326029896736145,1.1880931854248047,1.01857328414917,0.9928226470947266,0.6015834212303162,0.5933727622032166,0.6643837094306946,1.0279362201690674,0.9872335195541382,0.8395841717720032,0.851624071598053,0.6761849522590637,1.1880931854248047,0.7457703948020935,0.9198010563850403,1.2190935611724854,0.7983595132827759,1.0237348079681396,1.211101770401001,0.8394265174865723,1.0114974975585938,0.8692506551742554,0.9443151354789734,0.8396798372268677,0.9318719506263733,0.8276177048683167,1.0114974975585938,1.1893550157546997,0.9707711935043335,0.7071489691734314,1.0132728815078735,0.8465834259986877,0.9792877435684204,0.9748988747596741,0.8394265174865723,0.82845538854599,1.0861215591430664,0.8317582011222839,0.9872335195541382,0.6960875988006592,1.0114974975585938,1.0038721561431885,0.6601773500442505,0.8539468050003052,1.0861215591430664,0.8523129820823669,0.6370227932929993,1.1778337955474854,0.8189354538917542,0.8495644330978394,0.8403642177581787,1.0861215591430664,1.0861215591430664,1.1880931854248047,0.8162896633148193,0.872870147228241,0.8523129820823669,1.1778337955474854,0.7983595132827759,0.8539468050003052,1.1085257530212402,1.0114974975585938,0.6643837094306946,0.7016592025756836,1.1880931854248047,0.8739196062088013,1.2190935611724854,0.8732390999794006,1.0114974975585938,0.9899812936782837,0.858765721321106,0.9804872274398804,0.8732410073280334,0.8512143492698669,1.1880931854248047,0.8403642177581787,1.0114974975585938,0.8705308437347412,0.7380979657173157,0.7668164968490601,1.0861215591430664,1.0861215591430664],\"type\":\"histogram\"}],                        {\"template\":{\"data\":{\"histogram2dcontour\":[{\"type\":\"histogram2dcontour\",\"colorbar\":{\"outlinewidth\":0,\"ticks\":\"\"},\"colorscale\":[[0.0,\"#0d0887\"],[0.1111111111111111,\"#46039f\"],[0.2222222222222222,\"#7201a8\"],[0.3333333333333333,\"#9c179e\"],[0.4444444444444444,\"#bd3786\"],[0.5555555555555556,\"#d8576b\"],[0.6666666666666666,\"#ed7953\"],[0.7777777777777778,\"#fb9f3a\"],[0.8888888888888888,\"#fdca26\"],[1.0,\"#f0f921\"]]}],\"choropleth\":[{\"type\":\"choropleth\",\"colorbar\":{\"outlinewidth\":0,\"ticks\":\"\"}}],\"histogram2d\":[{\"type\":\"histogram2d\",\"colorbar\":{\"outlinewidth\":0,\"ticks\":\"\"},\"colorscale\":[[0.0,\"#0d0887\"],[0.1111111111111111,\"#46039f\"],[0.2222222222222222,\"#7201a8\"],[0.3333333333333333,\"#9c179e\"],[0.4444444444444444,\"#bd3786\"],[0.5555555555555556,\"#d8576b\"],[0.6666666666666666,\"#ed7953\"],[0.7777777777777778,\"#fb9f3a\"],[0.8888888888888888,\"#fdca26\"],[1.0,\"#f0f921\"]]}],\"heatmap\":[{\"type\":\"heatmap\",\"colorbar\":{\"outlinewidth\":0,\"ticks\":\"\"},\"colorscale\":[[0.0,\"#0d0887\"],[0.1111111111111111,\"#46039f\"],[0.2222222222222222,\"#7201a8\"],[0.3333333333333333,\"#9c179e\"],[0.4444444444444444,\"#bd3786\"],[0.5555555555555556,\"#d8576b\"],[0.6666666666666666,\"#ed7953\"],[0.7777777777777778,\"#fb9f3a\"],[0.8888888888888888,\"#fdca26\"],[1.0,\"#f0f921\"]]}],\"heatmapgl\":[{\"type\":\"heatmapgl\",\"colorbar\":{\"outlinewidth\":0,\"ticks\":\"\"},\"colorscale\":[[0.0,\"#0d0887\"],[0.1111111111111111,\"#46039f\"],[0.2222222222222222,\"#7201a8\"],[0.3333333333333333,\"#9c179e\"],[0.4444444444444444,\"#bd3786\"],[0.5555555555555556,\"#d8576b\"],[0.6666666666666666,\"#ed7953\"],[0.7777777777777778,\"#fb9f3a\"],[0.8888888888888888,\"#fdca26\"],[1.0,\"#f0f921\"]]}],\"contourcarpet\":[{\"type\":\"contourcarpet\",\"colorbar\":{\"outlinewidth\":0,\"ticks\":\"\"}}],\"contour\":[{\"type\":\"contour\",\"colorbar\":{\"outlinewidth\":0,\"ticks\":\"\"},\"colorscale\":[[0.0,\"#0d0887\"],[0.1111111111111111,\"#46039f\"],[0.2222222222222222,\"#7201a8\"],[0.3333333333333333,\"#9c179e\"],[0.4444444444444444,\"#bd3786\"],[0.5555555555555556,\"#d8576b\"],[0.6666666666666666,\"#ed7953\"],[0.7777777777777778,\"#fb9f3a\"],[0.8888888888888888,\"#fdca26\"],[1.0,\"#f0f921\"]]}],\"surface\":[{\"type\":\"surface\",\"colorbar\":{\"outlinewidth\":0,\"ticks\":\"\"},\"colorscale\":[[0.0,\"#0d0887\"],[0.1111111111111111,\"#46039f\"],[0.2222222222222222,\"#7201a8\"],[0.3333333333333333,\"#9c179e\"],[0.4444444444444444,\"#bd3786\"],[0.5555555555555556,\"#d8576b\"],[0.6666666666666666,\"#ed7953\"],[0.7777777777777778,\"#fb9f3a\"],[0.8888888888888888,\"#fdca26\"],[1.0,\"#f0f921\"]]}],\"mesh3d\":[{\"type\":\"mesh3d\",\"colorbar\":{\"outlinewidth\":0,\"ticks\":\"\"}}],\"scatter\":[{\"fillpattern\":{\"fillmode\":\"overlay\",\"size\":10,\"solidity\":0.2},\"type\":\"scatter\"}],\"parcoords\":[{\"type\":\"parcoords\",\"line\":{\"colorbar\":{\"outlinewidth\":0,\"ticks\":\"\"}}}],\"scatterpolargl\":[{\"type\":\"scatterpolargl\",\"marker\":{\"colorbar\":{\"outlinewidth\":0,\"ticks\":\"\"}}}],\"bar\":[{\"error_x\":{\"color\":\"#2a3f5f\"},\"error_y\":{\"color\":\"#2a3f5f\"},\"marker\":{\"line\":{\"color\":\"#E5ECF6\",\"width\":0.5},\"pattern\":{\"fillmode\":\"overlay\",\"size\":10,\"solidity\":0.2}},\"type\":\"bar\"}],\"scattergeo\":[{\"type\":\"scattergeo\",\"marker\":{\"colorbar\":{\"outlinewidth\":0,\"ticks\":\"\"}}}],\"scatterpolar\":[{\"type\":\"scatterpolar\",\"marker\":{\"colorbar\":{\"outlinewidth\":0,\"ticks\":\"\"}}}],\"histogram\":[{\"marker\":{\"pattern\":{\"fillmode\":\"overlay\",\"size\":10,\"solidity\":0.2}},\"type\":\"histogram\"}],\"scattergl\":[{\"type\":\"scattergl\",\"marker\":{\"colorbar\":{\"outlinewidth\":0,\"ticks\":\"\"}}}],\"scatter3d\":[{\"type\":\"scatter3d\",\"line\":{\"colorbar\":{\"outlinewidth\":0,\"ticks\":\"\"}},\"marker\":{\"colorbar\":{\"outlinewidth\":0,\"ticks\":\"\"}}}],\"scattermapbox\":[{\"type\":\"scattermapbox\",\"marker\":{\"colorbar\":{\"outlinewidth\":0,\"ticks\":\"\"}}}],\"scatterternary\":[{\"type\":\"scatterternary\",\"marker\":{\"colorbar\":{\"outlinewidth\":0,\"ticks\":\"\"}}}],\"scattercarpet\":[{\"type\":\"scattercarpet\",\"marker\":{\"colorbar\":{\"outlinewidth\":0,\"ticks\":\"\"}}}],\"carpet\":[{\"aaxis\":{\"endlinecolor\":\"#2a3f5f\",\"gridcolor\":\"white\",\"linecolor\":\"white\",\"minorgridcolor\":\"white\",\"startlinecolor\":\"#2a3f5f\"},\"baxis\":{\"endlinecolor\":\"#2a3f5f\",\"gridcolor\":\"white\",\"linecolor\":\"white\",\"minorgridcolor\":\"white\",\"startlinecolor\":\"#2a3f5f\"},\"type\":\"carpet\"}],\"table\":[{\"cells\":{\"fill\":{\"color\":\"#EBF0F8\"},\"line\":{\"color\":\"white\"}},\"header\":{\"fill\":{\"color\":\"#C8D4E3\"},\"line\":{\"color\":\"white\"}},\"type\":\"table\"}],\"barpolar\":[{\"marker\":{\"line\":{\"color\":\"#E5ECF6\",\"width\":0.5},\"pattern\":{\"fillmode\":\"overlay\",\"size\":10,\"solidity\":0.2}},\"type\":\"barpolar\"}],\"pie\":[{\"automargin\":true,\"type\":\"pie\"}]},\"layout\":{\"autotypenumbers\":\"strict\",\"colorway\":[\"#636efa\",\"#EF553B\",\"#00cc96\",\"#ab63fa\",\"#FFA15A\",\"#19d3f3\",\"#FF6692\",\"#B6E880\",\"#FF97FF\",\"#FECB52\"],\"font\":{\"color\":\"#2a3f5f\"},\"hovermode\":\"closest\",\"hoverlabel\":{\"align\":\"left\"},\"paper_bgcolor\":\"white\",\"plot_bgcolor\":\"#E5ECF6\",\"polar\":{\"bgcolor\":\"#E5ECF6\",\"angularaxis\":{\"gridcolor\":\"white\",\"linecolor\":\"white\",\"ticks\":\"\"},\"radialaxis\":{\"gridcolor\":\"white\",\"linecolor\":\"white\",\"ticks\":\"\"}},\"ternary\":{\"bgcolor\":\"#E5ECF6\",\"aaxis\":{\"gridcolor\":\"white\",\"linecolor\":\"white\",\"ticks\":\"\"},\"baxis\":{\"gridcolor\":\"white\",\"linecolor\":\"white\",\"ticks\":\"\"},\"caxis\":{\"gridcolor\":\"white\",\"linecolor\":\"white\",\"ticks\":\"\"}},\"coloraxis\":{\"colorbar\":{\"outlinewidth\":0,\"ticks\":\"\"}},\"colorscale\":{\"sequential\":[[0.0,\"#0d0887\"],[0.1111111111111111,\"#46039f\"],[0.2222222222222222,\"#7201a8\"],[0.3333333333333333,\"#9c179e\"],[0.4444444444444444,\"#bd3786\"],[0.5555555555555556,\"#d8576b\"],[0.6666666666666666,\"#ed7953\"],[0.7777777777777778,\"#fb9f3a\"],[0.8888888888888888,\"#fdca26\"],[1.0,\"#f0f921\"]],\"sequentialminus\":[[0.0,\"#0d0887\"],[0.1111111111111111,\"#46039f\"],[0.2222222222222222,\"#7201a8\"],[0.3333333333333333,\"#9c179e\"],[0.4444444444444444,\"#bd3786\"],[0.5555555555555556,\"#d8576b\"],[0.6666666666666666,\"#ed7953\"],[0.7777777777777778,\"#fb9f3a\"],[0.8888888888888888,\"#fdca26\"],[1.0,\"#f0f921\"]],\"diverging\":[[0,\"#8e0152\"],[0.1,\"#c51b7d\"],[0.2,\"#de77ae\"],[0.3,\"#f1b6da\"],[0.4,\"#fde0ef\"],[0.5,\"#f7f7f7\"],[0.6,\"#e6f5d0\"],[0.7,\"#b8e186\"],[0.8,\"#7fbc41\"],[0.9,\"#4d9221\"],[1,\"#276419\"]]},\"xaxis\":{\"gridcolor\":\"white\",\"linecolor\":\"white\",\"ticks\":\"\",\"title\":{\"standoff\":15},\"zerolinecolor\":\"white\",\"automargin\":true,\"zerolinewidth\":2},\"yaxis\":{\"gridcolor\":\"white\",\"linecolor\":\"white\",\"ticks\":\"\",\"title\":{\"standoff\":15},\"zerolinecolor\":\"white\",\"automargin\":true,\"zerolinewidth\":2},\"scene\":{\"xaxis\":{\"backgroundcolor\":\"#E5ECF6\",\"gridcolor\":\"white\",\"linecolor\":\"white\",\"showbackground\":true,\"ticks\":\"\",\"zerolinecolor\":\"white\",\"gridwidth\":2},\"yaxis\":{\"backgroundcolor\":\"#E5ECF6\",\"gridcolor\":\"white\",\"linecolor\":\"white\",\"showbackground\":true,\"ticks\":\"\",\"zerolinecolor\":\"white\",\"gridwidth\":2},\"zaxis\":{\"backgroundcolor\":\"#E5ECF6\",\"gridcolor\":\"white\",\"linecolor\":\"white\",\"showbackground\":true,\"ticks\":\"\",\"zerolinecolor\":\"white\",\"gridwidth\":2}},\"shapedefaults\":{\"line\":{\"color\":\"#2a3f5f\"}},\"annotationdefaults\":{\"arrowcolor\":\"#2a3f5f\",\"arrowhead\":0,\"arrowwidth\":1},\"geo\":{\"bgcolor\":\"white\",\"landcolor\":\"#E5ECF6\",\"subunitcolor\":\"white\",\"showland\":true,\"showlakes\":true,\"lakecolor\":\"white\"},\"title\":{\"x\":0.05},\"mapbox\":{\"style\":\"light\"}}},\"title\":{\"text\":\"Distribution of Nuclear Norm of Node Explain Matrix\"},\"xaxis\":{\"title\":{\"text\":\"Nuclear Norm\"}},\"yaxis\":{\"title\":{\"text\":\"Frequency\"}},\"font\":{\"size\":20},\"paper_bgcolor\":\"white\",\"plot_bgcolor\":\"white\"},                        {\"responsive\": true}                    ).then(function(){\n",
       "                            \n",
       "var gd = document.getElementById('3e11330d-9c4c-4a1b-bb64-f08998a8f5ab');\n",
       "var x = new MutationObserver(function (mutations, observer) {{\n",
       "        var display = window.getComputedStyle(gd).display;\n",
       "        if (!display || display === 'none') {{\n",
       "            console.log([gd, 'removed!']);\n",
       "            Plotly.purge(gd);\n",
       "            observer.disconnect();\n",
       "        }}\n",
       "}});\n",
       "\n",
       "// Listen for the removal of the full notebook cells\n",
       "var notebookContainer = gd.closest('#notebook-container');\n",
       "if (notebookContainer) {{\n",
       "    x.observe(notebookContainer, {childList: true});\n",
       "}}\n",
       "\n",
       "// Listen for the clearing of the current output cell\n",
       "var outputEl = gd.closest('.output');\n",
       "if (outputEl) {{\n",
       "    x.observe(outputEl, {childList: true});\n",
       "}}\n",
       "\n",
       "                        })                };                });            </script>        </div>"
      ]
     },
     "metadata": {},
     "output_type": "display_data"
    }
   ],
   "source": [
    "d = 16\n",
    "norm_og = results[d]['norm_og'][0]\n",
    "norm_plus = results[d]['norm_plus'][0]\n",
    "\n",
    "\n",
    "fig = go.Figure()\n",
    "\n",
    "fig.add_trace(go.Histogram(x = norm_og, \n",
    "                           name = 'SDNE'))\n",
    "fig.add_trace(go.Histogram(x = norm_plus, \n",
    "                           name = 'SDNE+XM'))\n",
    "\n",
    "\n",
    "fig.update_layout(title_text = 'Distribution of Nuclear Norm of Node Explain Matrix', \n",
    "                  xaxis_title_text = 'Nuclear Norm', \n",
    "                  yaxis_title_text = 'Frequency', \n",
    "                  paper_bgcolor = 'white', \n",
    "                  plot_bgcolor = 'white', \n",
    "                  font = dict(size = text_size))\n",
    "fig.show()"
   ]
  },
  {
   "cell_type": "code",
   "execution_count": null,
   "id": "492e9be0",
   "metadata": {},
   "outputs": [],
   "source": []
  },
  {
   "cell_type": "code",
   "execution_count": null,
   "id": "6053cf60",
   "metadata": {},
   "outputs": [],
   "source": []
  }
 ],
 "metadata": {
  "kernelspec": {
   "display_name": "gpu",
   "language": "python",
   "name": "gpu"
  },
  "language_info": {
   "codemirror_mode": {
    "name": "ipython",
    "version": 3
   },
   "file_extension": ".py",
   "mimetype": "text/x-python",
   "name": "python",
   "nbconvert_exporter": "python",
   "pygments_lexer": "ipython3",
   "version": "3.8.12"
  }
 },
 "nbformat": 4,
 "nbformat_minor": 5
}
